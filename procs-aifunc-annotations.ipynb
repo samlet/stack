{
 "cells": [
  {
   "cell_type": "code",
   "execution_count": 6,
   "metadata": {
    "ExecuteTime": {
     "end_time": "2019-09-06T09:02:57.943601Z",
     "start_time": "2019-09-06T09:02:57.919682Z"
    }
   },
   "outputs": [],
   "source": [
    "from inspect import getfullargspec\n",
    "def fa(**ann):\n",
    "    \"\"\"\n",
    "    Returns a decorator annotating a function with the given annotations.\n",
    "    This is a trick to support function annotations in Python 2.X.\n",
    "    \"\"\"\n",
    "    def annotate(f):\n",
    "        fas = getfullargspec(f)\n",
    "        args = fas.args\n",
    "        if fas.varargs:\n",
    "            args.append(fas.varargs)\n",
    "        if fas.varkw:\n",
    "            args.append(fas.varkw)\n",
    "        for argname in ann:\n",
    "            if argname not in args:\n",
    "                # raise NameError(\n",
    "                #    _('Annotating non-existing argument: %s') % argname)\n",
    "                pass\n",
    "        f.__annotations__ = ann\n",
    "        return f\n",
    "    return annotate"
   ]
  },
  {
   "cell_type": "code",
   "execution_count": 7,
   "metadata": {
    "ExecuteTime": {
     "end_time": "2019-09-06T09:03:00.921164Z",
     "start_time": "2019-09-06T09:03:00.913293Z"
    }
   },
   "outputs": [],
   "source": [
    "class pairs(object):\n",
    "    def __init__(self, **kwargs):\n",
    "        self.vars=kwargs\n",
    "def def_act(**kwargs):\n",
    "    def runner():\n",
    "        print('.................')\n",
    "        for k,v in kwargs.items():\n",
    "            print(k,v)\n",
    "    return runner"
   ]
  },
  {
   "cell_type": "code",
   "execution_count": 8,
   "metadata": {
    "ExecuteTime": {
     "end_time": "2019-09-06T09:03:03.475206Z",
     "start_time": "2019-09-06T09:03:03.458701Z"
    }
   },
   "outputs": [
    {
     "name": "stdout",
     "output_type": "stream",
     "text": [
      ".. start\n",
      "loc: loc, text: text, n: 500, lang: en\n"
     ]
    }
   ],
   "source": [
    "@fa(\n",
    "    patterns_loc=(\"Path to gazetteer\", \"positional\", None, str),\n",
    "    text_loc=(\"Path to Reddit corpus file\", \"positional\", None, str),\n",
    "    n=(\"Number of texts to read\", \"option\", \"n\", int),\n",
    "    lang=(\"Language class to initialise\", \"option\", \"l\", str),\n",
    "    lang_ex=(\"Language extension to initialise\", \"option\", def_act(x=1), pairs(value=18)),\n",
    ")\n",
    "def fun(patterns_loc, text_loc, n=10000, lang=\"en\", lang_ex=\"...\"):\n",
    "    print(f\"loc: {patterns_loc}, text: {text_loc}, n: {n}, lang: {lang}\")\n",
    "\n",
    "print('.. start')\n",
    "fun('loc', 'text', 500, 'en')"
   ]
  },
  {
   "cell_type": "code",
   "execution_count": 9,
   "metadata": {
    "ExecuteTime": {
     "end_time": "2019-09-06T09:03:09.571742Z",
     "start_time": "2019-09-06T09:03:09.409925Z"
    }
   },
   "outputs": [
    {
     "name": "stdout",
     "output_type": "stream",
     "text": [
      "('Path to gazetteer', 'positional', None, <class 'str'>) <object object at 0x10ca16680>\n",
      "('Path to Reddit corpus file', 'positional', None, <class 'str'>) <object object at 0x10ca16680>\n",
      "('Number of texts to read', 'option', 'n', <class 'int'>) 10000\n",
      "('Language class to initialise', 'option', 'l', <class 'str'>) en\n",
      "('Language extension to initialise', 'option', <function def_act.<locals>.runner at 0x10d5799d8>, <__main__.pairs object at 0x10d57c3c8>) ...\n",
      "\t.. callable\n",
      ".................\n",
      "x 1\n",
      "----------\n",
      "loc: patterns_loc, text: text_loc, n: n, lang: lang\n"
     ]
    }
   ],
   "source": [
    "import inspect\n",
    "NONE = object()  # sentinel use to signal the absence of a default\n",
    "\n",
    "def getargspec(callableobj):\n",
    "    \"\"\"Given a callable return an object with attributes .args, .varargs,\n",
    "    .varkw, .defaults. It tries to do the \"right thing\" with functions,\n",
    "    methods, classes and generic callables.\"\"\"\n",
    "    import inspect\n",
    "    if inspect.isfunction(callableobj):\n",
    "        argspec = getfullargspec(callableobj)\n",
    "    elif inspect.ismethod(callableobj):\n",
    "        argspec = getfullargspec(callableobj)\n",
    "        del argspec.args[0]  # remove first argument\n",
    "    elif inspect.isclass(callableobj):\n",
    "        if callableobj.__init__ is object.__init__:  # to avoid an error\n",
    "            argspec = getfullargspec(lambda self: None)\n",
    "        else:\n",
    "            argspec = getfullargspec(callableobj.__init__)\n",
    "        del argspec.args[0]  # remove first argument\n",
    "    elif hasattr(callableobj, '__call__'):\n",
    "        argspec = getfullargspec(callableobj.__call__)\n",
    "        del argspec.args[0]  # remove first argument\n",
    "    else:\n",
    "        raise TypeError(_('Could not determine the signature of ') +\n",
    "                        str(callableobj))\n",
    "    return argspec\n",
    "\n",
    "def fcall(obj):\n",
    "    f = getargspec(obj)\n",
    "    defaults = f.defaults or ()\n",
    "    n_args = len(f.args)\n",
    "    n_defaults = len(defaults)\n",
    "    alldefaults = (NONE,) * (n_args - n_defaults) + defaults\n",
    "    func = obj\n",
    "    for name, default in zip(f.args, alldefaults):\n",
    "        ann = f.annotations.get(name, ())\n",
    "        print(ann, default)\n",
    "        if inspect.isfunction(ann[2]):\n",
    "            print('\\t.. callable')\n",
    "            ann[2]()\n",
    "            \n",
    "    # call function\n",
    "    extraopts=[]\n",
    "    if f.varkw:\n",
    "        kwargs=f.varkw\n",
    "    else:\n",
    "        kwargs={}\n",
    "    print('-'*10)\n",
    "    obj(*(f.args + extraopts), **kwargs)\n",
    "    \n",
    "fcall(fun)"
   ]
  },
  {
   "cell_type": "code",
   "execution_count": 31,
   "metadata": {
    "ExecuteTime": {
     "end_time": "2019-09-06T14:07:30.634839Z",
     "start_time": "2019-09-06T14:07:30.451904Z"
    }
   },
   "outputs": [
    {
     "name": "stdout",
     "output_type": "stream",
     "text": [
      ".. fun_e\n",
      "('Path to gazetteer', 'positional', None, <class 'str'>) <object object at 0x1154e3bc0>\n",
      "('Path to Reddit corpus file', 'positional', None, <class 'str'>) <object object at 0x1154e3bc0>\n",
      "('Number of texts to read', 'option', 'n', <class 'int'>) <object object at 0x1154e3bc0>\n",
      "('Language class to initialise', 'option', 'l', <class 'str'>) <object object at 0x1154e3bc0>\n",
      "('Language extension to initialise', 'option', <function def_act.<locals>.runner at 0x11567f730>, <__main__.pairs object at 0x11548edd8>) ...\n",
      "\t.. callable\n",
      ".................\n",
      "x 1\n",
      "----------\n",
      "** ['patterns_loc', 'text_loc', 'n', 'lang', 'lang_ex'] {}\n",
      "loc: patterns_loc, text: text_loc, n: n, lang: lang, ex: lang_ex\n"
     ]
    }
   ],
   "source": [
    "from inspect import getfullargspec, isfunction\n",
    "NONE = object()  # sentinel use to signal the absence of a default\n",
    "def fa_e(**ann):\n",
    "    def annotate(f):        \n",
    "        f.__annotations__ = ann\n",
    "        return f    \n",
    "    return annotate\n",
    "\n",
    "class pairs(object):\n",
    "    def __init__(self, **kwargs):\n",
    "        self.vars=kwargs\n",
    "def def_act(**kwargs):\n",
    "    def runner():\n",
    "        print('.................')\n",
    "        for k,v in kwargs.items():\n",
    "            print(k,v)\n",
    "    return runner\n",
    "\n",
    "@fa_e(\n",
    "    patterns_loc=(\"Path to gazetteer\", \"positional\", None, str),\n",
    "    text_loc=(\"Path to Reddit corpus file\", \"positional\", None, str),\n",
    "    n=(\"Number of texts to read\", \"option\", \"n\", int),\n",
    "    lang=(\"Language class to initialise\", \"option\", \"l\", str),\n",
    "    lang_ex=(\"Language extension to initialise\", \"option\", def_act(x=1), pairs(value=18)),\n",
    ")\n",
    "def fun_e(patterns_loc, text_loc, n, lang, lang_ex='...'):\n",
    "    print(f\"loc: {patterns_loc}, text: {text_loc}, n: {n}, lang: {lang}, ex: {lang_ex}\")\n",
    "    # print(kwargs)\n",
    "\n",
    "def fcall_s(obj):\n",
    "    f = getfullargspec(obj)\n",
    "    defaults = f.defaults or ()\n",
    "    n_args = len(f.args)\n",
    "    n_defaults = len(defaults)\n",
    "    alldefaults = (NONE,) * (n_args - n_defaults) + defaults\n",
    "    func = obj\n",
    "    print('..', obj.__name__)\n",
    "    for name, default in zip(f.args, alldefaults):\n",
    "        ann = f.annotations.get(name, ())\n",
    "        print(ann, default)\n",
    "        if isfunction(ann[2]):\n",
    "            print('\\t.. callable')\n",
    "            ann[2]()\n",
    "            \n",
    "    # call function\n",
    "    extraopts=[]\n",
    "    if f.varkw:\n",
    "        kwargs=f.varkw\n",
    "    else:\n",
    "        kwargs={}\n",
    "    print('-'*10)\n",
    "    print('**', f.args, kwargs)\n",
    "    obj(*(f.args + extraopts), **kwargs)\n",
    "    \n",
    "fcall_s(fun_e)\n",
    "# fcall_s(fun)"
   ]
  },
  {
   "cell_type": "code",
   "execution_count": 13,
   "metadata": {
    "ExecuteTime": {
     "end_time": "2019-09-06T10:23:18.853335Z",
     "start_time": "2019-09-06T10:23:18.848076Z"
    }
   },
   "outputs": [],
   "source": [
    "import importlib\n",
    "results = {}\n",
    "# full_name = package.__name__ + \".\" + name\n",
    "full_name='sagas.util.string_util'\n",
    "results[full_name] = importlib.import_module(full_name)"
   ]
  },
  {
   "cell_type": "code",
   "execution_count": 33,
   "metadata": {
    "ExecuteTime": {
     "end_time": "2019-09-06T16:50:41.099938Z",
     "start_time": "2019-09-06T16:50:41.084260Z"
    }
   },
   "outputs": [
    {
     "name": "stdout",
     "output_type": "stream",
     "text": [
      "['/Users/xiaofeiwu/jcloud/assets/langs/workspace/rasa/stack/sagas/nlu']\n",
      "dict_keys(['sagas.nlu.inspector_common', 'sagas.nlu.inspector_fixtures', 'sagas.nlu.inspector_rasa', 'sagas.nlu.inspector_wordnet'])\n"
     ]
    }
   ],
   "source": [
    "import pkgutil\n",
    "import sagas\n",
    "results = {}\n",
    "package=sagas.nlu\n",
    "print(package.__path__)\n",
    "for loader, name, is_pkg in pkgutil.walk_packages(package.__path__):\n",
    "    if name.startswith('inspector_'):\n",
    "        full_name = package.__name__ + \".\" + name\n",
    "        results[full_name] = importlib.import_module(full_name)\n",
    "print(results.keys())"
   ]
  },
  {
   "cell_type": "code",
   "execution_count": 26,
   "metadata": {
    "ExecuteTime": {
     "end_time": "2019-09-06T10:36:14.532528Z",
     "start_time": "2019-09-06T10:36:14.520141Z"
    }
   },
   "outputs": [
    {
     "data": {
      "text/plain": [
       "[sagas.nlu.inspectors.DateInspector,\n",
       " sagas.nlu.inspectors.NegativeWordInspector,\n",
       " sagas.nlu.inspectors.PlainInspector,\n",
       " sagas.nlu.inspectors.EntityInspector,\n",
       " sagas.nlu.inspector_rasa.RasaInspector,\n",
       " sagas.nlu.inspector_wordnet.WordInspector,\n",
       " sagas.nlu.inspector_wordnet.PredicateWordInspector,\n",
       " sagas.nlu.inspector_wordnet.VerbInspector]"
      ]
     },
     "execution_count": 26,
     "metadata": {},
     "output_type": "execute_result"
    }
   ],
   "source": [
    "from sagas.nlu.inspector_common import Inspector\n",
    "def all_subclasses(cls):\n",
    "    # type: (Any) -> List[Any]\n",
    "    \"\"\"Returns all known (imported) subclasses of a class.\"\"\"\n",
    "\n",
    "    return cls.__subclasses__() + [\n",
    "        g for s in cls.__subclasses__() for g in all_subclasses(s)\n",
    "    ]\n",
    "\n",
    "# importlib.import_module('sagas.nlu.inspector_rasa')\n",
    "all_subclasses(Inspector)"
   ]
  },
  {
   "cell_type": "code",
   "execution_count": 35,
   "metadata": {
    "ExecuteTime": {
     "end_time": "2019-09-06T16:57:29.395840Z",
     "start_time": "2019-09-06T16:57:29.368051Z"
    }
   },
   "outputs": [
    {
     "name": "stdout",
     "output_type": "stream",
     "text": [
      "['/Users/xiaofeiwu/jcloud/assets/langs/workspace/rasa/stack/sagas/aifuncs']\n",
      "dict_keys(['sagas.aifuncs.rules_common'])\n"
     ]
    }
   ],
   "source": [
    "import pkgutil\n",
    "import sagas.aifuncs\n",
    "results = {}\n",
    "package=sagas.aifuncs\n",
    "print(package.__path__)\n",
    "for loader, name, is_pkg in pkgutil.walk_packages(package.__path__):\n",
    "    if name.startswith('rules_'):\n",
    "        full_name = package.__name__ + \".\" + name\n",
    "        results[full_name] = importlib.import_module(full_name)\n",
    "print(results.keys())"
   ]
  },
  {
   "cell_type": "code",
   "execution_count": 37,
   "metadata": {
    "ExecuteTime": {
     "end_time": "2019-09-06T16:58:09.656938Z",
     "start_time": "2019-09-06T16:58:09.636559Z"
    }
   },
   "outputs": [
    {
     "data": {
      "text/plain": [
       "[sagas.nlu.ruleset.BasicRuleSets, sagas.aifuncs.rules_common.CommonRuleSets]"
      ]
     },
     "execution_count": 37,
     "metadata": {},
     "output_type": "execute_result"
    }
   ],
   "source": [
    "from sagas.nlu.ruleset import RuleSet, RuleSets\n",
    "all_subclasses(RuleSets)"
   ]
  }
 ],
 "metadata": {
  "kernelspec": {
   "display_name": "Python 3",
   "language": "python",
   "name": "python3"
  },
  "language_info": {
   "codemirror_mode": {
    "name": "ipython",
    "version": 3
   },
   "file_extension": ".py",
   "mimetype": "text/x-python",
   "name": "python",
   "nbconvert_exporter": "python",
   "pygments_lexer": "ipython3",
   "version": "3.6.4"
  },
  "varInspector": {
   "cols": {
    "lenName": 16,
    "lenType": 16,
    "lenVar": 40
   },
   "kernels_config": {
    "python": {
     "delete_cmd_postfix": "",
     "delete_cmd_prefix": "del ",
     "library": "var_list.py",
     "varRefreshCmd": "print(var_dic_list())"
    },
    "r": {
     "delete_cmd_postfix": ") ",
     "delete_cmd_prefix": "rm(",
     "library": "var_list.r",
     "varRefreshCmd": "cat(var_dic_list()) "
    }
   },
   "types_to_exclude": [
    "module",
    "function",
    "builtin_function_or_method",
    "instance",
    "_Feature"
   ],
   "window_display": false
  }
 },
 "nbformat": 4,
 "nbformat_minor": 2
}
