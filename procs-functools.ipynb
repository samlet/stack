{
 "cells": [
  {
   "cell_type": "markdown",
   "metadata": {},
   "source": [
    "⊕ [9.8. functools — Higher-order functions and operations on callable objects — Python 2.7.17 documentation](https://docs.python.org/2/library/functools.html)\n",
    "\n",
    "⊕ [functools — Higher-order functions and operations on callable objects — Python 3.8.0 documentation](https://docs.python.org/3/library/functools.html)\n"
   ]
  },
  {
   "cell_type": "code",
   "execution_count": 3,
   "metadata": {
    "ExecuteTime": {
     "end_time": "2019-10-21T03:09:20.353423Z",
     "start_time": "2019-10-21T03:09:20.323764Z"
    }
   },
   "outputs": [
    {
     "name": "stdout",
     "output_type": "stream",
     "text": [
      "Calling decorated function\n",
      "Called example function\n"
     ]
    }
   ],
   "source": [
    "from functools import wraps\n",
    "def my_decorator(f):\n",
    "    @wraps(f)\n",
    "    def wrapper(*args, **kwds):\n",
    "        print('Calling decorated function')\n",
    "        return f(*args, **kwds)\n",
    "    return wrapper\n",
    "\n",
    "@my_decorator\n",
    "def example():\n",
    "    \"\"\"Docstring\"\"\"\n",
    "    print('Called example function')\n",
    "\n",
    "example()"
   ]
  },
  {
   "cell_type": "code",
   "execution_count": 4,
   "metadata": {
    "ExecuteTime": {
     "end_time": "2019-10-21T03:10:29.650270Z",
     "start_time": "2019-10-21T03:10:29.627040Z"
    }
   },
   "outputs": [
    {
     "data": {
      "text/plain": [
       "'example'"
      ]
     },
     "execution_count": 4,
     "metadata": {},
     "output_type": "execute_result"
    }
   ],
   "source": [
    ">>> example.__name__"
   ]
  },
  {
   "cell_type": "code",
   "execution_count": 5,
   "metadata": {
    "ExecuteTime": {
     "end_time": "2019-10-21T03:10:35.004212Z",
     "start_time": "2019-10-21T03:10:34.980872Z"
    }
   },
   "outputs": [
    {
     "data": {
      "text/plain": [
       "'Docstring'"
      ]
     },
     "execution_count": 5,
     "metadata": {},
     "output_type": "execute_result"
    }
   ],
   "source": [
    ">>> example.__doc__"
   ]
  },
  {
   "cell_type": "code",
   "execution_count": 6,
   "metadata": {
    "ExecuteTime": {
     "end_time": "2019-10-21T03:11:49.550109Z",
     "start_time": "2019-10-21T03:11:49.534252Z"
    }
   },
   "outputs": [
    {
     "data": {
      "text/plain": [
       "<method-wrapper '__delattr__' of function object at 0x10eed3730>"
      ]
     },
     "execution_count": 6,
     "metadata": {},
     "output_type": "execute_result"
    }
   ],
   "source": [
    "# example.__delattr__"
   ]
  },
  {
   "cell_type": "code",
   "execution_count": 9,
   "metadata": {
    "ExecuteTime": {
     "end_time": "2019-10-21T03:14:25.890622Z",
     "start_time": "2019-10-21T03:13:58.235209Z"
    }
   },
   "outputs": [
    {
     "name": "stdout",
     "output_type": "stream",
     "text": [
      "8 106439\n",
      "290 59766\n",
      "308 56972\n",
      "320 49551\n",
      "8 106439\n",
      "218 46795\n",
      "320 49551\n",
      "279 48553\n",
      "289 50882\n",
      "320 49551\n",
      "9991 9\n"
     ]
    }
   ],
   "source": [
    "from functools import lru_cache\n",
    "import urllib\n",
    "\n",
    "@lru_cache(maxsize=32)\n",
    "def get_pep(num):\n",
    "    'Retrieve text of a Python Enhancement Proposal'\n",
    "    resource = 'http://www.python.org/dev/peps/pep-%04d/' % num\n",
    "    try:\n",
    "        with urllib.request.urlopen(resource) as s:\n",
    "            return s.read()\n",
    "    except urllib.error.HTTPError:\n",
    "        return 'Not Found'\n",
    "\n",
    "for n in 8, 290, 308, 320, 8, 218, 320, 279, 289, 320, 9991:\n",
    "    pep = get_pep(n)\n",
    "    print(n, len(pep))"
   ]
  },
  {
   "cell_type": "code",
   "execution_count": 13,
   "metadata": {
    "ExecuteTime": {
     "end_time": "2019-10-21T03:18:16.847308Z",
     "start_time": "2019-10-21T03:18:16.835535Z"
    }
   },
   "outputs": [
    {
     "data": {
      "text/plain": [
       "18"
      ]
     },
     "execution_count": 13,
     "metadata": {},
     "output_type": "execute_result"
    }
   ],
   "source": [
    ">>> from functools import partial, partialmethod\n",
    ">>> basetwo = partial(int, base=2)\n",
    ">>> basetwo.__doc__ = 'Convert base 2 string to an int.'\n",
    ">>> basetwo('10010')"
   ]
  },
  {
   "cell_type": "code",
   "execution_count": 14,
   "metadata": {
    "ExecuteTime": {
     "end_time": "2019-10-21T03:18:19.514415Z",
     "start_time": "2019-10-21T03:18:19.488846Z"
    }
   },
   "outputs": [
    {
     "data": {
      "text/plain": [
       "False"
      ]
     },
     "execution_count": 14,
     "metadata": {},
     "output_type": "execute_result"
    }
   ],
   "source": [
    "class Cell(object):\n",
    "    def __init__(self):\n",
    "        self._alive = False\n",
    "    @property\n",
    "    def alive(self):\n",
    "        return self._alive\n",
    "    def set_state(self, state):\n",
    "        self._alive = bool(state)\n",
    "    set_alive = partialmethod(set_state, True)\n",
    "    set_dead = partialmethod(set_state, False)\n",
    "c = Cell()\n",
    "c.alive    "
   ]
  },
  {
   "cell_type": "code",
   "execution_count": 15,
   "metadata": {
    "ExecuteTime": {
     "end_time": "2019-10-21T03:18:31.489939Z",
     "start_time": "2019-10-21T03:18:31.456568Z"
    }
   },
   "outputs": [
    {
     "data": {
      "text/plain": [
       "True"
      ]
     },
     "execution_count": 15,
     "metadata": {},
     "output_type": "execute_result"
    }
   ],
   "source": [
    ">>> c.set_alive()\n",
    ">>> c.alive"
   ]
  },
  {
   "cell_type": "code",
   "execution_count": 48,
   "metadata": {
    "ExecuteTime": {
     "end_time": "2019-10-21T06:45:49.851340Z",
     "start_time": "2019-10-21T06:45:49.828548Z"
    }
   },
   "outputs": [],
   "source": [
    "from functools import singledispatch\n",
    "\n",
    "@singledispatch\n",
    "def add(a, b):\n",
    "    raise NotImplementedError('Unsupported type')\n",
    " \n",
    " \n",
    "@add.register(int)\n",
    "def _(a, b):\n",
    "    print(\"First argument is of type \", type(a))\n",
    "    print(a + b)\n",
    " \n",
    " \n",
    "@add.register(str)\n",
    "def _(a, b):\n",
    "    print(\"First argument is of type \", type(a))\n",
    "    print(a + b)\n",
    " \n",
    " \n",
    "@add.register(list)\n",
    "def _(a, b):\n",
    "    print(\"First argument is of type \", type(a))\n",
    "    print(a + b)"
   ]
  },
  {
   "cell_type": "code",
   "execution_count": 18,
   "metadata": {
    "ExecuteTime": {
     "end_time": "2019-10-21T03:29:29.409806Z",
     "start_time": "2019-10-21T03:29:29.377039Z"
    }
   },
   "outputs": [
    {
     "name": "stdout",
     "output_type": "stream",
     "text": [
      "First argument is of type  <class 'int'>\n",
      "3\n",
      "First argument is of type  <class 'str'>\n",
      "PythonProgramming\n",
      "First argument is of type  <class 'list'>\n",
      "[1, 2, 3, 5, 6, 7]\n"
     ]
    }
   ],
   "source": [
    "add(1, 2)\n",
    "add('Python', 'Programming')\n",
    "add([1, 2, 3], [5, 6, 7])"
   ]
  },
  {
   "cell_type": "code",
   "execution_count": 19,
   "metadata": {
    "ExecuteTime": {
     "end_time": "2019-10-21T03:31:13.525134Z",
     "start_time": "2019-10-21T03:31:13.509517Z"
    }
   },
   "outputs": [
    {
     "name": "stdout",
     "output_type": "stream",
     "text": [
      "First argument is of type  <class 'int'>\n",
      "3\n"
     ]
    }
   ],
   "source": [
    "exec(\"add(1, 2)\")"
   ]
  },
  {
   "cell_type": "code",
   "execution_count": 20,
   "metadata": {
    "ExecuteTime": {
     "end_time": "2019-10-21T03:34:59.776586Z",
     "start_time": "2019-10-21T03:34:59.766083Z"
    }
   },
   "outputs": [
    {
     "name": "stdout",
     "output_type": "stream",
     "text": [
      "dict_keys([<class 'object'>, <class 'int'>, <class 'str'>, <class 'list'>])\n"
     ]
    }
   ],
   "source": [
    "print(add.registry.keys())"
   ]
  },
  {
   "cell_type": "code",
   "execution_count": 29,
   "metadata": {
    "ExecuteTime": {
     "end_time": "2019-10-21T04:15:13.740510Z",
     "start_time": "2019-10-21T04:15:13.713621Z"
    }
   },
   "outputs": [
    {
     "name": "stdout",
     "output_type": "stream",
     "text": [
      "First argument is of type  <class 'float'>\n",
      "6.73\n",
      "First argument is of type  <class 'decimal.Decimal'>\n",
      "111.2889999999999997015720510\n"
     ]
    },
    {
     "data": {
      "text/plain": [
       "Decimal('111.2889999999999997015720510')"
      ]
     },
     "execution_count": 29,
     "metadata": {},
     "output_type": "execute_result"
    }
   ],
   "source": [
    "from functools import singledispatch\n",
    "from decimal import Decimal\n",
    " \n",
    "@singledispatch\n",
    "def add(a, b):\n",
    "    raise NotImplementedError('Unsupported type')\n",
    " \n",
    " \n",
    "@add.register(float)\n",
    "@add.register(Decimal)\n",
    "def _(a, b):\n",
    "    print(\"First argument is of type \", type(a))\n",
    "    print(a + b)\n",
    "    return a+b\n",
    "\n",
    "add(1.23, 5.5)\n",
    "add(Decimal(100.5), Decimal(10.789))"
   ]
  },
  {
   "cell_type": "code",
   "execution_count": 33,
   "metadata": {
    "ExecuteTime": {
     "end_time": "2019-10-21T04:15:52.988002Z",
     "start_time": "2019-10-21T04:15:52.971823Z"
    }
   },
   "outputs": [
    {
     "name": "stdout",
     "output_type": "stream",
     "text": [
      "First argument is of type  <class 'float'>\n",
      "3.3000000000000003\n"
     ]
    }
   ],
   "source": [
    "r=exec(\"\"\"add(1.1,2.2)\"\"\")"
   ]
  },
  {
   "cell_type": "code",
   "execution_count": 39,
   "metadata": {
    "ExecuteTime": {
     "end_time": "2019-10-21T04:17:19.629743Z",
     "start_time": "2019-10-21T04:17:19.614036Z"
    }
   },
   "outputs": [
    {
     "name": "stdout",
     "output_type": "stream",
     "text": [
      "First argument is of type  <class 'float'>\n",
      "3.3000000000000003\n"
     ]
    },
    {
     "data": {
      "text/plain": [
       "3.3000000000000003"
      ]
     },
     "execution_count": 39,
     "metadata": {},
     "output_type": "execute_result"
    }
   ],
   "source": [
    "# eval只允许表达式, 不支持import\n",
    "r=eval(\"\"\"add(1.1,2.2)\"\"\")\n",
    "r"
   ]
  },
  {
   "cell_type": "code",
   "execution_count": 25,
   "metadata": {
    "ExecuteTime": {
     "end_time": "2019-10-21T04:07:29.071181Z",
     "start_time": "2019-10-21T04:07:29.064240Z"
    }
   },
   "outputs": [],
   "source": [
    "# add(1,2,3)"
   ]
  },
  {
   "cell_type": "markdown",
   "metadata": {},
   "source": [
    "To enable registering `lambdas` and `pre-existing functions`, the register() attribute can be used in a functional form:\n",
    "\n"
   ]
  },
  {
   "cell_type": "code",
   "execution_count": 23,
   "metadata": {
    "ExecuteTime": {
     "end_time": "2019-10-21T03:46:23.905133Z",
     "start_time": "2019-10-21T03:46:23.894469Z"
    }
   },
   "outputs": [
    {
     "name": "stdout",
     "output_type": "stream",
     "text": [
      "Nothing.\n"
     ]
    }
   ],
   "source": [
    "def nothing(arg, verbose=False):\n",
    "    print(\"Nothing.\")\n",
    "\n",
    "add.register(type(None), nothing)\n",
    "add(None)"
   ]
  },
  {
   "cell_type": "markdown",
   "metadata": {},
   "source": [
    "⊕ [How to convert a string to a function in python? - Stack Overflow](https://stackoverflow.com/questions/7719466/how-to-convert-a-string-to-a-function-in-python)\n"
   ]
  },
  {
   "cell_type": "code",
   "execution_count": 57,
   "metadata": {
    "ExecuteTime": {
     "end_time": "2019-10-21T07:07:53.776464Z",
     "start_time": "2019-10-21T07:07:53.762181Z"
    }
   },
   "outputs": [
    {
     "name": "stdout",
     "output_type": "stream",
     "text": [
      "['add', '5', '3']\n",
      "['add', 'hello world', '3']\n",
      "add(hello world, 3)\n",
      "First argument is of type  <class 'str'>\n",
      "hello world3\n"
     ]
    }
   ],
   "source": [
    "import shlex\n",
    "callstr='add 5 3'\n",
    "print(shlex.split(callstr))\n",
    "callstr=\"add 'hello world' 3\"\n",
    "print(shlex.split(callstr))\n",
    "fc=shlex.split(callstr)\n",
    "print(f\"{fc[0]}({', '.join(fc[1:])})\")\n",
    "eval(fc[0])(*fc[1:])"
   ]
  },
  {
   "cell_type": "code",
   "execution_count": 62,
   "metadata": {
    "ExecuteTime": {
     "end_time": "2019-10-21T07:09:36.161886Z",
     "start_time": "2019-10-21T07:09:36.151753Z"
    }
   },
   "outputs": [
    {
     "data": {
      "text/plain": [
       "['add', '[1,2 8,3]', '78', 'hello world']"
      ]
     },
     "execution_count": 62,
     "metadata": {},
     "output_type": "execute_result"
    }
   ],
   "source": [
    "shlex.split(\"add [1,'2 8',3] '78' 'hello world'\")"
   ]
  },
  {
   "cell_type": "code",
   "execution_count": 56,
   "metadata": {
    "ExecuteTime": {
     "end_time": "2019-10-21T06:54:57.445682Z",
     "start_time": "2019-10-21T06:54:57.435701Z"
    }
   },
   "outputs": [
    {
     "data": {
      "text/plain": [
       "['add', 'hello world', '3']"
      ]
     },
     "execution_count": 56,
     "metadata": {},
     "output_type": "execute_result"
    }
   ],
   "source": [
    "fc=shlex.shlex(callstr, posix=True)\n",
    "fc.whitespace_split = True\n",
    "list(fc)"
   ]
  },
  {
   "cell_type": "code",
   "execution_count": 64,
   "metadata": {
    "ExecuteTime": {
     "end_time": "2019-10-21T22:26:57.661094Z",
     "start_time": "2019-10-21T22:26:57.637714Z"
    }
   },
   "outputs": [
    {
     "data": {
      "text/plain": [
       "'hello `world`'"
      ]
     },
     "metadata": {},
     "output_type": "display_data"
    },
    {
     "data": {
      "text/plain": [
       "'yes'"
      ]
     },
     "metadata": {},
     "output_type": "display_data"
    }
   ],
   "source": [
    "display('hello `world`', 'yes')"
   ]
  },
  {
   "cell_type": "code",
   "execution_count": 66,
   "metadata": {
    "ExecuteTime": {
     "end_time": "2019-10-21T22:27:34.180384Z",
     "start_time": "2019-10-21T22:27:34.169452Z"
    }
   },
   "outputs": [
    {
     "name": "stdout",
     "output_type": "stream",
     "text": [
      "Help on built-in function print in module builtins:\n",
      "\n",
      "print(...)\n",
      "    print(value, ..., sep=' ', end='\\n', file=sys.stdout, flush=False)\n",
      "    \n",
      "    Prints the values to a stream, or to sys.stdout by default.\n",
      "    Optional keyword arguments:\n",
      "    file:  a file-like object (stream); defaults to the current sys.stdout.\n",
      "    sep:   string inserted between values, default a space.\n",
      "    end:   string appended after the last value, default a newline.\n",
      "    flush: whether to forcibly flush the stream.\n",
      "\n"
     ]
    }
   ],
   "source": [
    "help(print)"
   ]
  },
  {
   "cell_type": "code",
   "execution_count": 67,
   "metadata": {
    "ExecuteTime": {
     "end_time": "2019-10-21T22:29:21.894984Z",
     "start_time": "2019-10-21T22:29:21.881003Z"
    }
   },
   "outputs": [
    {
     "name": "stdout",
     "output_type": "stream",
     "text": [
      "1 2\n"
     ]
    }
   ],
   "source": [
    "def write(*args):\n",
    "    print(*args)\n",
    "write('1', '2')"
   ]
  }
 ],
 "metadata": {
  "kernelspec": {
   "display_name": "Python 3",
   "language": "python",
   "name": "python3"
  },
  "language_info": {
   "codemirror_mode": {
    "name": "ipython",
    "version": 3
   },
   "file_extension": ".py",
   "mimetype": "text/x-python",
   "name": "python",
   "nbconvert_exporter": "python",
   "pygments_lexer": "ipython3",
   "version": "3.6.4"
  },
  "varInspector": {
   "cols": {
    "lenName": 16,
    "lenType": 16,
    "lenVar": 40
   },
   "kernels_config": {
    "python": {
     "delete_cmd_postfix": "",
     "delete_cmd_prefix": "del ",
     "library": "var_list.py",
     "varRefreshCmd": "print(var_dic_list())"
    },
    "r": {
     "delete_cmd_postfix": ") ",
     "delete_cmd_prefix": "rm(",
     "library": "var_list.r",
     "varRefreshCmd": "cat(var_dic_list()) "
    }
   },
   "types_to_exclude": [
    "module",
    "function",
    "builtin_function_or_method",
    "instance",
    "_Feature"
   ],
   "window_display": false
  }
 },
 "nbformat": 4,
 "nbformat_minor": 2
}
