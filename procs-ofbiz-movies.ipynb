{
 "cells": [
  {
   "cell_type": "code",
   "execution_count": 1,
   "metadata": {
    "ExecuteTime": {
     "end_time": "2019-01-24T09:37:28.038613Z",
     "start_time": "2019-01-24T09:37:27.966954Z"
    }
   },
   "outputs": [
    {
     "name": "stdout",
     "output_type": "stream",
     "text": [
      "SA_MOVIE Movie Entity None\n",
      "+------------------+----------------+-------------------+\n",
      "| name             | type           | string            |\n",
      "|------------------+----------------+-------------------|\n",
      "| overview         | description    | OVERVIEW          |\n",
      "| releaseDate      | date           | RELEASE_DATE      |\n",
      "| movieId          | id             | MOVIE_ID          |\n",
      "| video            | indicator      | VIDEO             |\n",
      "| title            | name           | TITLE             |\n",
      "| originalLanguage | id             | ORIGINAL_LANGUAGE |\n",
      "| originalTitle    | name           | ORIGINAL_TITLE    |\n",
      "| popularity       | floating-point | POPULARITY        |\n",
      "| voteCount        | numeric        | VOTE_COUNT        |\n",
      "| backdropPath     | url            | BACKDROP_PATH     |\n",
      "| posterPath       | url            | POSTER_PATH       |\n",
      "+------------------+----------------+-------------------+\n",
      "+-------------------+--------+-------------------+\n",
      "| name              | type   | string            |\n",
      "|-------------------+--------+-------------------|\n",
      "| SaMovieGenresAppl | many   | SaMovieGenresAppl |\n",
      "+-------------------+--------+-------------------+\n"
     ]
    }
   ],
   "source": [
    "from sagas.ofbiz.builder import oc, finder, desc_model, abbrev\n",
    "desc_model(\"SaMovie\", False)"
   ]
  },
  {
   "cell_type": "code",
   "execution_count": 2,
   "metadata": {
    "ExecuteTime": {
     "end_time": "2019-01-23T16:22:57.818768Z",
     "start_time": "2019-01-23T16:22:57.792639Z"
    }
   },
   "outputs": [],
   "source": [
    "Long = oc.gateway.jvm.Long\n",
    "ValueHelper=oc.gateway.jvm.com.sagas.generic.ValueHelper\n",
    "val = oc.delegator.makeValue(\"SaMovie\")\n",
    "ValueHelper.setDate(val, \"releaseDate\", \"2014-10-22\")"
   ]
  },
  {
   "cell_type": "code",
   "execution_count": 10,
   "metadata": {
    "ExecuteTime": {
     "end_time": "2019-01-23T16:44:20.309528Z",
     "start_time": "2019-01-23T16:44:20.270841Z"
    }
   },
   "outputs": [
    {
     "name": "stdout",
     "output_type": "stream",
     "text": [
      "1 / 55\n",
      "John Wick [28, 53]\n",
      "\t Action\n",
      "\t Thriller\n",
      "Captain America: Civil War [12, 28, 878]\n",
      "\t Adventure\n",
      "\t Action\n",
      "\t Science Fiction\n",
      "Batman v Superman: Dawn of Justice [28, 12, 14]\n",
      "\t Action\n",
      "\t Adventure\n",
      "\t Fantasy\n",
      "Deadpool [28, 12, 35]\n",
      "\t Action\n",
      "\t Adventure\n",
      "\t Comedy\n",
      "Doctor Strange [28, 12, 14, 878]\n",
      "\t Action\n",
      "\t Adventure\n",
      "\t Fantasy\n",
      "\t Science Fiction\n",
      "Mad Max: Fury Road [28, 12, 878, 53]\n",
      "\t Action\n",
      "\t Adventure\n",
      "\t Science Fiction\n",
      "\t Thriller\n",
      "Jurassic World [28, 12, 878, 53]\n",
      "\t Action\n",
      "\t Adventure\n",
      "\t Science Fiction\n",
      "\t Thriller\n",
      "X-Men: Apocalypse [28, 12, 878, 14]\n",
      "\t Action\n",
      "\t Adventure\n",
      "\t Science Fiction\n",
      "\t Fantasy\n",
      "Now You See Me 2 [28, 35, 53]\n",
      "\t Action\n",
      "\t Comedy\n",
      "\t Thriller\n",
      "Star Wars: The Force Awakens [28, 12, 878, 14]\n",
      "\t Action\n",
      "\t Adventure\n",
      "\t Science Fiction\n",
      "\t Fantasy\n",
      "Sicario [28, 80, 18, 9648, 53]\n",
      "\t Action\n",
      "\t Crime\n",
      "\t Drama\n",
      "\t Mystery\n",
      "\t Thriller\n",
      "Spectre [28, 12, 80]\n",
      "\t Action\n",
      "\t Adventure\n",
      "\t Crime\n",
      "Underworld: Blood Wars [28, 14, 27, 18]\n",
      "\t Action\n",
      "\t Fantasy\n",
      "\t Horror\n",
      "\t Drama\n",
      "Kingsman: The Secret Service [80, 35, 28, 12]\n",
      "\t Crime\n",
      "\t Comedy\n",
      "\t Action\n",
      "\t Adventure\n",
      "Terminator 2: Judgment Day [28, 53, 878]\n",
      "\t Action\n",
      "\t Thriller\n",
      "\t Science Fiction\n",
      "The Hunger Games: Mockingjay - Part 2 [28, 12, 878]\n",
      "\t Action\n",
      "\t Adventure\n",
      "\t Science Fiction\n",
      "The Purge: Election Year [28, 27, 53]\n",
      "\t Action\n",
      "\t Horror\n",
      "\t Thriller\n",
      "Allegiant [12, 878, 28, 9648]\n",
      "\t Adventure\n",
      "\t Science Fiction\n",
      "\t Action\n",
      "\t Mystery\n",
      "Dragon Ball Z: Resurrection 'F' [28, 12, 16, 14]\n",
      "\t Action\n",
      "\t Adventure\n",
      "\t Animation\n",
      "\t Fantasy\n",
      "Suicide Squad [28, 12, 80, 14, 878]\n",
      "\t Action\n",
      "\t Adventure\n",
      "\t Crime\n",
      "\t Fantasy\n",
      "\t Science Fiction\n"
     ]
    }
   ],
   "source": [
    "from json_utils import read_json_file\n",
    "data_root=read_json_file(\"./data/movies_f.json\")\n",
    "genres_root=read_json_file(\"./data/movie_genres_f.json\")\n",
    "\n",
    "genres_map={}\n",
    "for genre in genres_root['genres']:\n",
    "    genres_map[genre['id']]=genre['name']\n",
    "\n",
    "print(data_root[\"page\"], \"/\", data_root[\"total_pages\"])\n",
    "movies=data_root[\"results\"]\n",
    "for movie in movies:\n",
    "    print(movie['title'], movie['genre_ids'])\n",
    "    for id in movie['genre_ids']:\n",
    "        print(\"\\t\", genres_map[id])"
   ]
  },
  {
   "cell_type": "code",
   "execution_count": 11,
   "metadata": {
    "ExecuteTime": {
     "end_time": "2019-01-23T16:58:25.103035Z",
     "start_time": "2019-01-23T16:58:24.480752Z"
    }
   },
   "outputs": [
    {
     "name": "stdout",
     "output_type": "stream",
     "text": [
      "John Wick\n",
      "Captain America: Civil War\n",
      "Batman v Superman: Dawn of Justice\n",
      "Deadpool\n",
      "Doctor Strange\n",
      "Mad Max: Fury Road\n",
      "Jurassic World\n",
      "X-Men: Apocalypse\n",
      "Now You See Me 2\n",
      "Star Wars: The Force Awakens\n",
      "Sicario\n",
      "Spectre\n",
      "Underworld: Blood Wars\n",
      "Kingsman: The Secret Service\n",
      "Terminator 2: Judgment Day\n",
      "The Hunger Games: Mockingjay - Part 2\n",
      "The Purge: Election Year\n",
      "Allegiant\n",
      "Dragon Ball Z: Resurrection 'F'\n",
      "Suicide Squad\n"
     ]
    }
   ],
   "source": [
    "Long = oc.gateway.jvm.Long\n",
    "ValueHelper=oc.gateway.jvm.com.sagas.generic.ValueHelper\n",
    "\n",
    "def indicator(val):\n",
    "    return 'Y' if val else 'N'\n",
    "def create_or_store(entity, movie):\n",
    "    val = oc.delegator.makeValue(entity)\n",
    "    val.set(\"movieId\", str(movie[\"id\"]))\n",
    "    # val.set(\"voteCount\", movie['vote_count'])\n",
    "    ValueHelper.setNumericValue(val, \"voteCount\", movie['vote_count'])\n",
    "    val.set('video', indicator(movie['video']))\n",
    "    val.set('title', movie['title'])\n",
    "    val.set('popularity', movie['popularity'])\n",
    "    val.set('posterPath', movie['poster_path'])\n",
    "    val.set('overview', abbrev(movie['overview'], 250))\n",
    "    # val.set('releaseDate', movie['release_date'])\n",
    "    ValueHelper.setDate(val, \"releaseDate\", movie['release_date'])\n",
    "    \n",
    "    return oc.delegator.createOrStore(val)\n",
    "\n",
    "def store_movie_genres(genre):\n",
    "    val = oc.delegator.makeValue(\"SaMovieGenres\")\n",
    "    val.set(\"movieGenresId\", str(genre[\"id\"]))\n",
    "    val.set(\"movieGenresName\", genre[\"name\"])\n",
    "    return oc.delegator.createOrStore(val)\n",
    "\n",
    "def set_movie_genres(movie_id, genre_ids):\n",
    "    for gid in genre_ids:\n",
    "        val = oc.delegator.makeValue(\"SaMovieGenresAppl\")\n",
    "        val.set(\"movieId\", str(movie_id))\n",
    "        val.set(\"movieGenresId\", str(gid))\n",
    "        oc.delegator.createOrStore(val)\n",
    "    \n",
    "for genre in genres_root['genres']:\n",
    "    store_movie_genres(genre)\n",
    "    \n",
    "for movie in movies:\n",
    "    result=create_or_store(\"SaMovie\", movie)\n",
    "    set_movie_genres(movie[\"id\"], movie['genre_ids'])\n",
    "    print(result.get(\"title\"))"
   ]
  },
  {
   "cell_type": "code",
   "execution_count": 6,
   "metadata": {
    "ExecuteTime": {
     "end_time": "2019-01-23T16:40:05.208381Z",
     "start_time": "2019-01-23T16:40:05.139252Z"
    },
    "scrolled": true
   },
   "outputs": [
    {
     "name": "stdout",
     "output_type": "stream",
     "text": [
      "John Wick\n",
      "Captain America: Civil War\n",
      "Batman v Superman: Dawn of Justice\n",
      "Deadpool\n",
      "Doctor Strange\n",
      "Mad Max: Fury Road\n",
      "Jurassic World\n",
      "X-Men: Apocalypse\n",
      "Now You See Me 2\n",
      "Star Wars: The Force Awakens\n",
      "Sicario\n",
      "Spectre\n",
      "Underworld: Blood Wars\n",
      "Kingsman: The Secret Service\n",
      "Terminator 2: Judgment Day\n",
      "The Hunger Games: Mockingjay - Part 2\n",
      "The Purge: Election Year\n",
      "Allegiant\n",
      "Dragon Ball Z: Resurrection 'F'\n",
      "Suicide Squad\n"
     ]
    }
   ],
   "source": [
    "for mov in oc.all(\"SaMovie\"):\n",
    "    print(mov.get(\"title\"))"
   ]
  }
 ],
 "metadata": {
  "kernelspec": {
   "display_name": "Python 3",
   "language": "python",
   "name": "python3"
  },
  "language_info": {
   "codemirror_mode": {
    "name": "ipython",
    "version": 3
   },
   "file_extension": ".py",
   "mimetype": "text/x-python",
   "name": "python",
   "nbconvert_exporter": "python",
   "pygments_lexer": "ipython3",
   "version": "3.6.4"
  },
  "varInspector": {
   "cols": {
    "lenName": 16,
    "lenType": 16,
    "lenVar": 40
   },
   "kernels_config": {
    "python": {
     "delete_cmd_postfix": "",
     "delete_cmd_prefix": "del ",
     "library": "var_list.py",
     "varRefreshCmd": "print(var_dic_list())"
    },
    "r": {
     "delete_cmd_postfix": ") ",
     "delete_cmd_prefix": "rm(",
     "library": "var_list.r",
     "varRefreshCmd": "cat(var_dic_list()) "
    }
   },
   "types_to_exclude": [
    "module",
    "function",
    "builtin_function_or_method",
    "instance",
    "_Feature"
   ],
   "window_display": false
  }
 },
 "nbformat": 4,
 "nbformat_minor": 2
}
