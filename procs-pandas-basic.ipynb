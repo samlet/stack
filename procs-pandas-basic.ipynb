{
 "cells": [
  {
   "cell_type": "code",
   "execution_count": 1,
   "metadata": {
    "ExecuteTime": {
     "end_time": "2019-02-28T08:04:15.691046Z",
     "start_time": "2019-02-28T08:04:15.022091Z"
    }
   },
   "outputs": [],
   "source": [
    "import pandas as pd\n",
    "import numpy as np\n",
    "import matplotlib.pyplot as plt"
   ]
  },
  {
   "cell_type": "code",
   "execution_count": 3,
   "metadata": {
    "ExecuteTime": {
     "end_time": "2019-02-28T08:04:34.935679Z",
     "start_time": "2019-02-28T08:04:34.919178Z"
    },
    "scrolled": true
   },
   "outputs": [
    {
     "data": {
      "text/plain": [
       "0    1.0\n",
       "1    3.0\n",
       "2    5.0\n",
       "3    NaN\n",
       "4    6.0\n",
       "5    8.0\n",
       "dtype: float64"
      ]
     },
     "execution_count": 3,
     "metadata": {},
     "output_type": "execute_result"
    }
   ],
   "source": [
    "# 通过一个列表的值创建一个系列，让pandas创建一个默认的整数索引：\n",
    "s = pd.Series([1,3,5,np.nan,6,8])\n",
    "s\n",
    "# 注意：np.nan表示不存在"
   ]
  },
  {
   "cell_type": "code",
   "execution_count": 4,
   "metadata": {
    "ExecuteTime": {
     "end_time": "2019-02-28T08:04:37.538071Z",
     "start_time": "2019-02-28T08:04:37.528988Z"
    }
   },
   "outputs": [
    {
     "data": {
      "text/plain": [
       "DatetimeIndex(['2013-01-01', '2013-01-02', '2013-01-03', '2013-01-04',\n",
       "               '2013-01-05', '2013-01-06'],\n",
       "              dtype='datetime64[ns]', freq='D')"
      ]
     },
     "execution_count": 4,
     "metadata": {},
     "output_type": "execute_result"
    }
   ],
   "source": [
    "# 通过numpy创建的数组，可以创建一个pandas中特有的dataframe，使用datetime作为索引和标记列名。\n",
    "\n",
    "dates = pd.date_range('20130101', periods=6)\n",
    "dates"
   ]
  },
  {
   "cell_type": "code",
   "execution_count": 11,
   "metadata": {
    "ExecuteTime": {
     "end_time": "2019-02-28T08:07:41.260223Z",
     "start_time": "2019-02-28T08:07:41.249834Z"
    }
   },
   "outputs": [],
   "source": [
    "# 这里的date_range()是pandas下的一个方法，可以在jupyter notebook下使用如下方法查看使用说明：\n",
    "\n",
    "?pd.date_range\n",
    "# help(pd.date_range)"
   ]
  },
  {
   "cell_type": "code",
   "execution_count": 7,
   "metadata": {
    "ExecuteTime": {
     "end_time": "2019-02-06T08:54:13.237676Z",
     "start_time": "2019-02-06T08:54:13.212732Z"
    }
   },
   "outputs": [
    {
     "data": {
      "text/html": [
       "<div>\n",
       "<style scoped>\n",
       "    .dataframe tbody tr th:only-of-type {\n",
       "        vertical-align: middle;\n",
       "    }\n",
       "\n",
       "    .dataframe tbody tr th {\n",
       "        vertical-align: top;\n",
       "    }\n",
       "\n",
       "    .dataframe thead th {\n",
       "        text-align: right;\n",
       "    }\n",
       "</style>\n",
       "<table border=\"1\" class=\"dataframe\">\n",
       "  <thead>\n",
       "    <tr style=\"text-align: right;\">\n",
       "      <th></th>\n",
       "      <th>A</th>\n",
       "      <th>B</th>\n",
       "      <th>C</th>\n",
       "      <th>D</th>\n",
       "    </tr>\n",
       "  </thead>\n",
       "  <tbody>\n",
       "    <tr>\n",
       "      <th>2013-01-01</th>\n",
       "      <td>1.314963</td>\n",
       "      <td>-1.330998</td>\n",
       "      <td>-1.043611</td>\n",
       "      <td>1.367086</td>\n",
       "    </tr>\n",
       "    <tr>\n",
       "      <th>2013-01-02</th>\n",
       "      <td>0.795748</td>\n",
       "      <td>1.406374</td>\n",
       "      <td>-0.872199</td>\n",
       "      <td>0.426622</td>\n",
       "    </tr>\n",
       "    <tr>\n",
       "      <th>2013-01-03</th>\n",
       "      <td>0.516266</td>\n",
       "      <td>-0.654950</td>\n",
       "      <td>0.844677</td>\n",
       "      <td>-1.642708</td>\n",
       "    </tr>\n",
       "    <tr>\n",
       "      <th>2013-01-04</th>\n",
       "      <td>0.030852</td>\n",
       "      <td>0.353794</td>\n",
       "      <td>-1.114971</td>\n",
       "      <td>0.305245</td>\n",
       "    </tr>\n",
       "    <tr>\n",
       "      <th>2013-01-05</th>\n",
       "      <td>0.846724</td>\n",
       "      <td>0.813074</td>\n",
       "      <td>-0.058637</td>\n",
       "      <td>2.133081</td>\n",
       "    </tr>\n",
       "    <tr>\n",
       "      <th>2013-01-06</th>\n",
       "      <td>-1.095160</td>\n",
       "      <td>0.164834</td>\n",
       "      <td>0.006563</td>\n",
       "      <td>-0.041451</td>\n",
       "    </tr>\n",
       "  </tbody>\n",
       "</table>\n",
       "</div>"
      ],
      "text/plain": [
       "                   A         B         C         D\n",
       "2013-01-01  1.314963 -1.330998 -1.043611  1.367086\n",
       "2013-01-02  0.795748  1.406374 -0.872199  0.426622\n",
       "2013-01-03  0.516266 -0.654950  0.844677 -1.642708\n",
       "2013-01-04  0.030852  0.353794 -1.114971  0.305245\n",
       "2013-01-05  0.846724  0.813074 -0.058637  2.133081\n",
       "2013-01-06 -1.095160  0.164834  0.006563 -0.041451"
      ]
     },
     "execution_count": 7,
     "metadata": {},
     "output_type": "execute_result"
    }
   ],
   "source": [
    "# 我们可以看到这个方法的使用说明和各个参数的作用\n",
    "# 看到这个方法是返回固定频率日期时间索引，返回连续的六个日期信息\n",
    "\n",
    "df = pd.DataFrame(np.random.randn(6,4), index=dates, columns=list('ABCD'))\n",
    "df"
   ]
  },
  {
   "cell_type": "code",
   "execution_count": 8,
   "metadata": {
    "ExecuteTime": {
     "end_time": "2019-02-06T08:54:40.785120Z",
     "start_time": "2019-02-06T08:54:40.779971Z"
    }
   },
   "outputs": [],
   "source": [
    "?np.random.randn()\n",
    "# np.random.randn(6,4)是生成6行4列的标准正态分布数据\n",
    "# 注：这里使用ABCD为列标签，之前生成的日期序列为行标签，6行4列标准正态分布数据为内容的dataframe"
   ]
  },
  {
   "cell_type": "code",
   "execution_count": 9,
   "metadata": {
    "ExecuteTime": {
     "end_time": "2019-02-06T08:55:03.022143Z",
     "start_time": "2019-02-06T08:55:02.999124Z"
    }
   },
   "outputs": [
    {
     "data": {
      "text/html": [
       "<div>\n",
       "<style scoped>\n",
       "    .dataframe tbody tr th:only-of-type {\n",
       "        vertical-align: middle;\n",
       "    }\n",
       "\n",
       "    .dataframe tbody tr th {\n",
       "        vertical-align: top;\n",
       "    }\n",
       "\n",
       "    .dataframe thead th {\n",
       "        text-align: right;\n",
       "    }\n",
       "</style>\n",
       "<table border=\"1\" class=\"dataframe\">\n",
       "  <thead>\n",
       "    <tr style=\"text-align: right;\">\n",
       "      <th></th>\n",
       "      <th>A</th>\n",
       "      <th>B</th>\n",
       "      <th>C</th>\n",
       "      <th>D</th>\n",
       "      <th>E</th>\n",
       "      <th>F</th>\n",
       "    </tr>\n",
       "  </thead>\n",
       "  <tbody>\n",
       "    <tr>\n",
       "      <th>0</th>\n",
       "      <td>1.0</td>\n",
       "      <td>2013-01-02</td>\n",
       "      <td>1.0</td>\n",
       "      <td>3</td>\n",
       "      <td>test</td>\n",
       "      <td>foo</td>\n",
       "    </tr>\n",
       "    <tr>\n",
       "      <th>1</th>\n",
       "      <td>1.0</td>\n",
       "      <td>2013-01-02</td>\n",
       "      <td>1.0</td>\n",
       "      <td>3</td>\n",
       "      <td>train</td>\n",
       "      <td>foo</td>\n",
       "    </tr>\n",
       "    <tr>\n",
       "      <th>2</th>\n",
       "      <td>1.0</td>\n",
       "      <td>2013-01-02</td>\n",
       "      <td>1.0</td>\n",
       "      <td>3</td>\n",
       "      <td>test</td>\n",
       "      <td>foo</td>\n",
       "    </tr>\n",
       "    <tr>\n",
       "      <th>3</th>\n",
       "      <td>1.0</td>\n",
       "      <td>2013-01-02</td>\n",
       "      <td>1.0</td>\n",
       "      <td>3</td>\n",
       "      <td>train</td>\n",
       "      <td>foo</td>\n",
       "    </tr>\n",
       "  </tbody>\n",
       "</table>\n",
       "</div>"
      ],
      "text/plain": [
       "     A          B    C  D      E    F\n",
       "0  1.0 2013-01-02  1.0  3   test  foo\n",
       "1  1.0 2013-01-02  1.0  3  train  foo\n",
       "2  1.0 2013-01-02  1.0  3   test  foo\n",
       "3  1.0 2013-01-02  1.0  3  train  foo"
      ]
     },
     "execution_count": 9,
     "metadata": {},
     "output_type": "execute_result"
    }
   ],
   "source": [
    "# 使用字典来创建dataframe\n",
    "\n",
    "df2 = pd.DataFrame({ 'A' : 1.,\n",
    "                     'B' : pd.Timestamp('20130102'),\n",
    "                     'C' : pd.Series(1,index=list(range(4)),dtype='float32'),\n",
    "                     'D' : np.array([3] * 4,dtype='int32'),\n",
    "                     'E' : pd.Categorical([\"test\",\"train\",\"test\",\"train\"]),\n",
    "                     'F' : 'foo' })\n",
    "df2"
   ]
  },
  {
   "cell_type": "code",
   "execution_count": 10,
   "metadata": {
    "ExecuteTime": {
     "end_time": "2019-02-06T08:56:10.312044Z",
     "start_time": "2019-02-06T08:56:10.305922Z"
    }
   },
   "outputs": [
    {
     "data": {
      "text/plain": [
       "A           float64\n",
       "B    datetime64[ns]\n",
       "C           float32\n",
       "D             int32\n",
       "E          category\n",
       "F            object\n",
       "dtype: object"
      ]
     },
     "execution_count": 10,
     "metadata": {},
     "output_type": "execute_result"
    }
   ],
   "source": [
    "# 查看dataframe的类型信息\n",
    "df2.dtypes"
   ]
  },
  {
   "cell_type": "code",
   "execution_count": 11,
   "metadata": {
    "ExecuteTime": {
     "end_time": "2019-02-06T08:56:30.279610Z",
     "start_time": "2019-02-06T08:56:30.267942Z"
    }
   },
   "outputs": [
    {
     "data": {
      "text/html": [
       "<div>\n",
       "<style scoped>\n",
       "    .dataframe tbody tr th:only-of-type {\n",
       "        vertical-align: middle;\n",
       "    }\n",
       "\n",
       "    .dataframe tbody tr th {\n",
       "        vertical-align: top;\n",
       "    }\n",
       "\n",
       "    .dataframe thead th {\n",
       "        text-align: right;\n",
       "    }\n",
       "</style>\n",
       "<table border=\"1\" class=\"dataframe\">\n",
       "  <thead>\n",
       "    <tr style=\"text-align: right;\">\n",
       "      <th></th>\n",
       "      <th>A</th>\n",
       "      <th>B</th>\n",
       "      <th>C</th>\n",
       "      <th>D</th>\n",
       "    </tr>\n",
       "  </thead>\n",
       "  <tbody>\n",
       "    <tr>\n",
       "      <th>2013-01-01</th>\n",
       "      <td>1.314963</td>\n",
       "      <td>-1.330998</td>\n",
       "      <td>-1.043611</td>\n",
       "      <td>1.367086</td>\n",
       "    </tr>\n",
       "    <tr>\n",
       "      <th>2013-01-02</th>\n",
       "      <td>0.795748</td>\n",
       "      <td>1.406374</td>\n",
       "      <td>-0.872199</td>\n",
       "      <td>0.426622</td>\n",
       "    </tr>\n",
       "    <tr>\n",
       "      <th>2013-01-03</th>\n",
       "      <td>0.516266</td>\n",
       "      <td>-0.654950</td>\n",
       "      <td>0.844677</td>\n",
       "      <td>-1.642708</td>\n",
       "    </tr>\n",
       "    <tr>\n",
       "      <th>2013-01-04</th>\n",
       "      <td>0.030852</td>\n",
       "      <td>0.353794</td>\n",
       "      <td>-1.114971</td>\n",
       "      <td>0.305245</td>\n",
       "    </tr>\n",
       "    <tr>\n",
       "      <th>2013-01-05</th>\n",
       "      <td>0.846724</td>\n",
       "      <td>0.813074</td>\n",
       "      <td>-0.058637</td>\n",
       "      <td>2.133081</td>\n",
       "    </tr>\n",
       "  </tbody>\n",
       "</table>\n",
       "</div>"
      ],
      "text/plain": [
       "                   A         B         C         D\n",
       "2013-01-01  1.314963 -1.330998 -1.043611  1.367086\n",
       "2013-01-02  0.795748  1.406374 -0.872199  0.426622\n",
       "2013-01-03  0.516266 -0.654950  0.844677 -1.642708\n",
       "2013-01-04  0.030852  0.353794 -1.114971  0.305245\n",
       "2013-01-05  0.846724  0.813074 -0.058637  2.133081"
      ]
     },
     "execution_count": 11,
     "metadata": {},
     "output_type": "execute_result"
    }
   ],
   "source": [
    "# 更多内容请参阅基础部分：http://pandas.pydata.org/pandas-docs/version/0.20/basics.html#basics\n",
    "# 查看dataframe顶部和底部的行（默认五行）\n",
    "\n",
    "df.head()#查看默认前五行"
   ]
  },
  {
   "cell_type": "code",
   "execution_count": 12,
   "metadata": {
    "ExecuteTime": {
     "end_time": "2019-02-06T08:56:37.154773Z",
     "start_time": "2019-02-06T08:56:37.143061Z"
    }
   },
   "outputs": [
    {
     "data": {
      "text/html": [
       "<div>\n",
       "<style scoped>\n",
       "    .dataframe tbody tr th:only-of-type {\n",
       "        vertical-align: middle;\n",
       "    }\n",
       "\n",
       "    .dataframe tbody tr th {\n",
       "        vertical-align: top;\n",
       "    }\n",
       "\n",
       "    .dataframe thead th {\n",
       "        text-align: right;\n",
       "    }\n",
       "</style>\n",
       "<table border=\"1\" class=\"dataframe\">\n",
       "  <thead>\n",
       "    <tr style=\"text-align: right;\">\n",
       "      <th></th>\n",
       "      <th>A</th>\n",
       "      <th>B</th>\n",
       "      <th>C</th>\n",
       "      <th>D</th>\n",
       "    </tr>\n",
       "  </thead>\n",
       "  <tbody>\n",
       "    <tr>\n",
       "      <th>2013-01-02</th>\n",
       "      <td>0.795748</td>\n",
       "      <td>1.406374</td>\n",
       "      <td>-0.872199</td>\n",
       "      <td>0.426622</td>\n",
       "    </tr>\n",
       "    <tr>\n",
       "      <th>2013-01-03</th>\n",
       "      <td>0.516266</td>\n",
       "      <td>-0.654950</td>\n",
       "      <td>0.844677</td>\n",
       "      <td>-1.642708</td>\n",
       "    </tr>\n",
       "    <tr>\n",
       "      <th>2013-01-04</th>\n",
       "      <td>0.030852</td>\n",
       "      <td>0.353794</td>\n",
       "      <td>-1.114971</td>\n",
       "      <td>0.305245</td>\n",
       "    </tr>\n",
       "    <tr>\n",
       "      <th>2013-01-05</th>\n",
       "      <td>0.846724</td>\n",
       "      <td>0.813074</td>\n",
       "      <td>-0.058637</td>\n",
       "      <td>2.133081</td>\n",
       "    </tr>\n",
       "    <tr>\n",
       "      <th>2013-01-06</th>\n",
       "      <td>-1.095160</td>\n",
       "      <td>0.164834</td>\n",
       "      <td>0.006563</td>\n",
       "      <td>-0.041451</td>\n",
       "    </tr>\n",
       "  </tbody>\n",
       "</table>\n",
       "</div>"
      ],
      "text/plain": [
       "                   A         B         C         D\n",
       "2013-01-02  0.795748  1.406374 -0.872199  0.426622\n",
       "2013-01-03  0.516266 -0.654950  0.844677 -1.642708\n",
       "2013-01-04  0.030852  0.353794 -1.114971  0.305245\n",
       "2013-01-05  0.846724  0.813074 -0.058637  2.133081\n",
       "2013-01-06 -1.095160  0.164834  0.006563 -0.041451"
      ]
     },
     "execution_count": 12,
     "metadata": {},
     "output_type": "execute_result"
    }
   ],
   "source": [
    "df.tail()#查看默认后五行"
   ]
  },
  {
   "cell_type": "code",
   "execution_count": 13,
   "metadata": {
    "ExecuteTime": {
     "end_time": "2019-02-06T08:56:44.091982Z",
     "start_time": "2019-02-06T08:56:44.080924Z"
    }
   },
   "outputs": [
    {
     "data": {
      "text/html": [
       "<div>\n",
       "<style scoped>\n",
       "    .dataframe tbody tr th:only-of-type {\n",
       "        vertical-align: middle;\n",
       "    }\n",
       "\n",
       "    .dataframe tbody tr th {\n",
       "        vertical-align: top;\n",
       "    }\n",
       "\n",
       "    .dataframe thead th {\n",
       "        text-align: right;\n",
       "    }\n",
       "</style>\n",
       "<table border=\"1\" class=\"dataframe\">\n",
       "  <thead>\n",
       "    <tr style=\"text-align: right;\">\n",
       "      <th></th>\n",
       "      <th>A</th>\n",
       "      <th>B</th>\n",
       "      <th>C</th>\n",
       "      <th>D</th>\n",
       "    </tr>\n",
       "  </thead>\n",
       "  <tbody>\n",
       "    <tr>\n",
       "      <th>2013-01-01</th>\n",
       "      <td>1.314963</td>\n",
       "      <td>-1.330998</td>\n",
       "      <td>-1.043611</td>\n",
       "      <td>1.367086</td>\n",
       "    </tr>\n",
       "    <tr>\n",
       "      <th>2013-01-02</th>\n",
       "      <td>0.795748</td>\n",
       "      <td>1.406374</td>\n",
       "      <td>-0.872199</td>\n",
       "      <td>0.426622</td>\n",
       "    </tr>\n",
       "    <tr>\n",
       "      <th>2013-01-03</th>\n",
       "      <td>0.516266</td>\n",
       "      <td>-0.654950</td>\n",
       "      <td>0.844677</td>\n",
       "      <td>-1.642708</td>\n",
       "    </tr>\n",
       "  </tbody>\n",
       "</table>\n",
       "</div>"
      ],
      "text/plain": [
       "                   A         B         C         D\n",
       "2013-01-01  1.314963 -1.330998 -1.043611  1.367086\n",
       "2013-01-02  0.795748  1.406374 -0.872199  0.426622\n",
       "2013-01-03  0.516266 -0.654950  0.844677 -1.642708"
      ]
     },
     "execution_count": 13,
     "metadata": {},
     "output_type": "execute_result"
    }
   ],
   "source": [
    "df.head(3)#查看前三行"
   ]
  },
  {
   "cell_type": "code",
   "execution_count": 14,
   "metadata": {
    "ExecuteTime": {
     "end_time": "2019-02-06T08:57:01.247847Z",
     "start_time": "2019-02-06T08:57:01.242327Z"
    }
   },
   "outputs": [
    {
     "data": {
      "text/plain": [
       "DatetimeIndex(['2013-01-01', '2013-01-02', '2013-01-03', '2013-01-04',\n",
       "               '2013-01-05', '2013-01-06'],\n",
       "              dtype='datetime64[ns]', freq='D')"
      ]
     },
     "execution_count": 14,
     "metadata": {},
     "output_type": "execute_result"
    }
   ],
   "source": [
    "# 显示索引：\n",
    "\n",
    "df.index"
   ]
  },
  {
   "cell_type": "code",
   "execution_count": 15,
   "metadata": {
    "ExecuteTime": {
     "end_time": "2019-02-06T08:57:11.414176Z",
     "start_time": "2019-02-06T08:57:11.407447Z"
    }
   },
   "outputs": [
    {
     "data": {
      "text/plain": [
       "Index(['A', 'B', 'C', 'D'], dtype='object')"
      ]
     },
     "execution_count": 15,
     "metadata": {},
     "output_type": "execute_result"
    }
   ],
   "source": [
    "# 显示列名：\n",
    "\n",
    "df.columns"
   ]
  },
  {
   "cell_type": "code",
   "execution_count": 16,
   "metadata": {
    "ExecuteTime": {
     "end_time": "2019-02-06T08:57:20.265649Z",
     "start_time": "2019-02-06T08:57:20.259528Z"
    }
   },
   "outputs": [
    {
     "data": {
      "text/plain": [
       "array([[ 1.31496336, -1.33099803, -1.04361106,  1.36708557],\n",
       "       [ 0.79574828,  1.40637369, -0.87219913,  0.42662223],\n",
       "       [ 0.51626637, -0.65495019,  0.8446769 , -1.6427081 ],\n",
       "       [ 0.03085214,  0.35379427, -1.11497063,  0.30524519],\n",
       "       [ 0.84672366,  0.81307397, -0.05863658,  2.13308112],\n",
       "       [-1.09515965,  0.16483368,  0.00656283, -0.04145067]])"
      ]
     },
     "execution_count": 16,
     "metadata": {},
     "output_type": "execute_result"
    }
   ],
   "source": [
    "# 查看底层numpy数据：\n",
    "\n",
    "df.values"
   ]
  },
  {
   "cell_type": "code",
   "execution_count": 18,
   "metadata": {
    "ExecuteTime": {
     "end_time": "2019-02-06T08:57:45.477302Z",
     "start_time": "2019-02-06T08:57:45.446997Z"
    }
   },
   "outputs": [
    {
     "data": {
      "text/html": [
       "<div>\n",
       "<style scoped>\n",
       "    .dataframe tbody tr th:only-of-type {\n",
       "        vertical-align: middle;\n",
       "    }\n",
       "\n",
       "    .dataframe tbody tr th {\n",
       "        vertical-align: top;\n",
       "    }\n",
       "\n",
       "    .dataframe thead th {\n",
       "        text-align: right;\n",
       "    }\n",
       "</style>\n",
       "<table border=\"1\" class=\"dataframe\">\n",
       "  <thead>\n",
       "    <tr style=\"text-align: right;\">\n",
       "      <th></th>\n",
       "      <th>A</th>\n",
       "      <th>B</th>\n",
       "      <th>C</th>\n",
       "      <th>D</th>\n",
       "    </tr>\n",
       "  </thead>\n",
       "  <tbody>\n",
       "    <tr>\n",
       "      <th>count</th>\n",
       "      <td>6.000000</td>\n",
       "      <td>6.000000</td>\n",
       "      <td>6.000000</td>\n",
       "      <td>6.000000</td>\n",
       "    </tr>\n",
       "    <tr>\n",
       "      <th>mean</th>\n",
       "      <td>0.401566</td>\n",
       "      <td>0.125355</td>\n",
       "      <td>-0.373030</td>\n",
       "      <td>0.424646</td>\n",
       "    </tr>\n",
       "    <tr>\n",
       "      <th>std</th>\n",
       "      <td>0.846004</td>\n",
       "      <td>0.989702</td>\n",
       "      <td>0.771371</td>\n",
       "      <td>1.289372</td>\n",
       "    </tr>\n",
       "    <tr>\n",
       "      <th>min</th>\n",
       "      <td>-1.095160</td>\n",
       "      <td>-1.330998</td>\n",
       "      <td>-1.114971</td>\n",
       "      <td>-1.642708</td>\n",
       "    </tr>\n",
       "    <tr>\n",
       "      <th>25%</th>\n",
       "      <td>0.152206</td>\n",
       "      <td>-0.450004</td>\n",
       "      <td>-1.000758</td>\n",
       "      <td>0.045223</td>\n",
       "    </tr>\n",
       "    <tr>\n",
       "      <th>50%</th>\n",
       "      <td>0.656007</td>\n",
       "      <td>0.259314</td>\n",
       "      <td>-0.465418</td>\n",
       "      <td>0.365934</td>\n",
       "    </tr>\n",
       "    <tr>\n",
       "      <th>75%</th>\n",
       "      <td>0.833980</td>\n",
       "      <td>0.698254</td>\n",
       "      <td>-0.009737</td>\n",
       "      <td>1.131970</td>\n",
       "    </tr>\n",
       "    <tr>\n",
       "      <th>max</th>\n",
       "      <td>1.314963</td>\n",
       "      <td>1.406374</td>\n",
       "      <td>0.844677</td>\n",
       "      <td>2.133081</td>\n",
       "    </tr>\n",
       "  </tbody>\n",
       "</table>\n",
       "</div>"
      ],
      "text/plain": [
       "              A         B         C         D\n",
       "count  6.000000  6.000000  6.000000  6.000000\n",
       "mean   0.401566  0.125355 -0.373030  0.424646\n",
       "std    0.846004  0.989702  0.771371  1.289372\n",
       "min   -1.095160 -1.330998 -1.114971 -1.642708\n",
       "25%    0.152206 -0.450004 -1.000758  0.045223\n",
       "50%    0.656007  0.259314 -0.465418  0.365934\n",
       "75%    0.833980  0.698254 -0.009737  1.131970\n",
       "max    1.314963  1.406374  0.844677  2.133081"
      ]
     },
     "execution_count": 18,
     "metadata": {},
     "output_type": "execute_result"
    }
   ],
   "source": [
    "# 对数据的描述性统计信息\n",
    "# 注意：数据需要是数字类型（float，int等)\n",
    "df.describe()"
   ]
  },
  {
   "cell_type": "code",
   "execution_count": 19,
   "metadata": {
    "ExecuteTime": {
     "end_time": "2019-02-06T08:57:55.784730Z",
     "start_time": "2019-02-06T08:57:55.748387Z"
    }
   },
   "outputs": [
    {
     "data": {
      "text/html": [
       "<div>\n",
       "<style scoped>\n",
       "    .dataframe tbody tr th:only-of-type {\n",
       "        vertical-align: middle;\n",
       "    }\n",
       "\n",
       "    .dataframe tbody tr th {\n",
       "        vertical-align: top;\n",
       "    }\n",
       "\n",
       "    .dataframe thead th {\n",
       "        text-align: right;\n",
       "    }\n",
       "</style>\n",
       "<table border=\"1\" class=\"dataframe\">\n",
       "  <thead>\n",
       "    <tr style=\"text-align: right;\">\n",
       "      <th></th>\n",
       "      <th>2013-01-01 00:00:00</th>\n",
       "      <th>2013-01-02 00:00:00</th>\n",
       "      <th>2013-01-03 00:00:00</th>\n",
       "      <th>2013-01-04 00:00:00</th>\n",
       "      <th>2013-01-05 00:00:00</th>\n",
       "      <th>2013-01-06 00:00:00</th>\n",
       "    </tr>\n",
       "  </thead>\n",
       "  <tbody>\n",
       "    <tr>\n",
       "      <th>A</th>\n",
       "      <td>1.314963</td>\n",
       "      <td>0.795748</td>\n",
       "      <td>0.516266</td>\n",
       "      <td>0.030852</td>\n",
       "      <td>0.846724</td>\n",
       "      <td>-1.095160</td>\n",
       "    </tr>\n",
       "    <tr>\n",
       "      <th>B</th>\n",
       "      <td>-1.330998</td>\n",
       "      <td>1.406374</td>\n",
       "      <td>-0.654950</td>\n",
       "      <td>0.353794</td>\n",
       "      <td>0.813074</td>\n",
       "      <td>0.164834</td>\n",
       "    </tr>\n",
       "    <tr>\n",
       "      <th>C</th>\n",
       "      <td>-1.043611</td>\n",
       "      <td>-0.872199</td>\n",
       "      <td>0.844677</td>\n",
       "      <td>-1.114971</td>\n",
       "      <td>-0.058637</td>\n",
       "      <td>0.006563</td>\n",
       "    </tr>\n",
       "    <tr>\n",
       "      <th>D</th>\n",
       "      <td>1.367086</td>\n",
       "      <td>0.426622</td>\n",
       "      <td>-1.642708</td>\n",
       "      <td>0.305245</td>\n",
       "      <td>2.133081</td>\n",
       "      <td>-0.041451</td>\n",
       "    </tr>\n",
       "  </tbody>\n",
       "</table>\n",
       "</div>"
      ],
      "text/plain": [
       "   2013-01-01  2013-01-02  2013-01-03  2013-01-04  2013-01-05  2013-01-06\n",
       "A    1.314963    0.795748    0.516266    0.030852    0.846724   -1.095160\n",
       "B   -1.330998    1.406374   -0.654950    0.353794    0.813074    0.164834\n",
       "C   -1.043611   -0.872199    0.844677   -1.114971   -0.058637    0.006563\n",
       "D    1.367086    0.426622   -1.642708    0.305245    2.133081   -0.041451"
      ]
     },
     "execution_count": 19,
     "metadata": {},
     "output_type": "execute_result"
    }
   ],
   "source": [
    "# 转置调换数据\n",
    "# 注意：就像线性代数里面的转置矩阵\n",
    "df.T"
   ]
  },
  {
   "cell_type": "code",
   "execution_count": 20,
   "metadata": {
    "ExecuteTime": {
     "end_time": "2019-02-06T08:58:17.272053Z",
     "start_time": "2019-02-06T08:58:17.257424Z"
    }
   },
   "outputs": [
    {
     "data": {
      "text/html": [
       "<div>\n",
       "<style scoped>\n",
       "    .dataframe tbody tr th:only-of-type {\n",
       "        vertical-align: middle;\n",
       "    }\n",
       "\n",
       "    .dataframe tbody tr th {\n",
       "        vertical-align: top;\n",
       "    }\n",
       "\n",
       "    .dataframe thead th {\n",
       "        text-align: right;\n",
       "    }\n",
       "</style>\n",
       "<table border=\"1\" class=\"dataframe\">\n",
       "  <thead>\n",
       "    <tr style=\"text-align: right;\">\n",
       "      <th></th>\n",
       "      <th>D</th>\n",
       "      <th>C</th>\n",
       "      <th>B</th>\n",
       "      <th>A</th>\n",
       "    </tr>\n",
       "  </thead>\n",
       "  <tbody>\n",
       "    <tr>\n",
       "      <th>2013-01-01</th>\n",
       "      <td>1.367086</td>\n",
       "      <td>-1.043611</td>\n",
       "      <td>-1.330998</td>\n",
       "      <td>1.314963</td>\n",
       "    </tr>\n",
       "    <tr>\n",
       "      <th>2013-01-02</th>\n",
       "      <td>0.426622</td>\n",
       "      <td>-0.872199</td>\n",
       "      <td>1.406374</td>\n",
       "      <td>0.795748</td>\n",
       "    </tr>\n",
       "    <tr>\n",
       "      <th>2013-01-03</th>\n",
       "      <td>-1.642708</td>\n",
       "      <td>0.844677</td>\n",
       "      <td>-0.654950</td>\n",
       "      <td>0.516266</td>\n",
       "    </tr>\n",
       "    <tr>\n",
       "      <th>2013-01-04</th>\n",
       "      <td>0.305245</td>\n",
       "      <td>-1.114971</td>\n",
       "      <td>0.353794</td>\n",
       "      <td>0.030852</td>\n",
       "    </tr>\n",
       "    <tr>\n",
       "      <th>2013-01-05</th>\n",
       "      <td>2.133081</td>\n",
       "      <td>-0.058637</td>\n",
       "      <td>0.813074</td>\n",
       "      <td>0.846724</td>\n",
       "    </tr>\n",
       "    <tr>\n",
       "      <th>2013-01-06</th>\n",
       "      <td>-0.041451</td>\n",
       "      <td>0.006563</td>\n",
       "      <td>0.164834</td>\n",
       "      <td>-1.095160</td>\n",
       "    </tr>\n",
       "  </tbody>\n",
       "</table>\n",
       "</div>"
      ],
      "text/plain": [
       "                   D         C         B         A\n",
       "2013-01-01  1.367086 -1.043611 -1.330998  1.314963\n",
       "2013-01-02  0.426622 -0.872199  1.406374  0.795748\n",
       "2013-01-03 -1.642708  0.844677 -0.654950  0.516266\n",
       "2013-01-04  0.305245 -1.114971  0.353794  0.030852\n",
       "2013-01-05  2.133081 -0.058637  0.813074  0.846724\n",
       "2013-01-06 -0.041451  0.006563  0.164834 -1.095160"
      ]
     },
     "execution_count": 20,
     "metadata": {},
     "output_type": "execute_result"
    }
   ],
   "source": [
    "# 按轴排序\n",
    "\n",
    "df.sort_index(axis=1, ascending=False)"
   ]
  },
  {
   "cell_type": "code",
   "execution_count": 21,
   "metadata": {
    "ExecuteTime": {
     "end_time": "2019-02-06T08:59:24.932973Z",
     "start_time": "2019-02-06T08:59:24.922160Z"
    }
   },
   "outputs": [],
   "source": [
    "?df.sort_index(axis=1, ascending=False)"
   ]
  },
  {
   "cell_type": "markdown",
   "metadata": {},
   "source": [
    "Signature: df.sort_index(axis=0, level=None, ascending=True, inplace=False, kind='quicksort', na_position='last', sort_remaining=True, by=None)\n",
    "\n",
    "Docstring:\n",
    "Sort object by labels (along an axis)\n",
    "\n",
    "Parameters\n",
    "----------\n",
    "axis : index, columns to direct sorting"
   ]
  },
  {
   "cell_type": "code",
   "execution_count": 22,
   "metadata": {
    "ExecuteTime": {
     "end_time": "2019-02-06T09:00:09.312492Z",
     "start_time": "2019-02-06T09:00:09.300184Z"
    }
   },
   "outputs": [
    {
     "data": {
      "text/html": [
       "<div>\n",
       "<style scoped>\n",
       "    .dataframe tbody tr th:only-of-type {\n",
       "        vertical-align: middle;\n",
       "    }\n",
       "\n",
       "    .dataframe tbody tr th {\n",
       "        vertical-align: top;\n",
       "    }\n",
       "\n",
       "    .dataframe thead th {\n",
       "        text-align: right;\n",
       "    }\n",
       "</style>\n",
       "<table border=\"1\" class=\"dataframe\">\n",
       "  <thead>\n",
       "    <tr style=\"text-align: right;\">\n",
       "      <th></th>\n",
       "      <th>A</th>\n",
       "      <th>B</th>\n",
       "      <th>C</th>\n",
       "      <th>D</th>\n",
       "    </tr>\n",
       "  </thead>\n",
       "  <tbody>\n",
       "    <tr>\n",
       "      <th>2013-01-06</th>\n",
       "      <td>-1.095160</td>\n",
       "      <td>0.164834</td>\n",
       "      <td>0.006563</td>\n",
       "      <td>-0.041451</td>\n",
       "    </tr>\n",
       "    <tr>\n",
       "      <th>2013-01-05</th>\n",
       "      <td>0.846724</td>\n",
       "      <td>0.813074</td>\n",
       "      <td>-0.058637</td>\n",
       "      <td>2.133081</td>\n",
       "    </tr>\n",
       "    <tr>\n",
       "      <th>2013-01-04</th>\n",
       "      <td>0.030852</td>\n",
       "      <td>0.353794</td>\n",
       "      <td>-1.114971</td>\n",
       "      <td>0.305245</td>\n",
       "    </tr>\n",
       "    <tr>\n",
       "      <th>2013-01-03</th>\n",
       "      <td>0.516266</td>\n",
       "      <td>-0.654950</td>\n",
       "      <td>0.844677</td>\n",
       "      <td>-1.642708</td>\n",
       "    </tr>\n",
       "    <tr>\n",
       "      <th>2013-01-02</th>\n",
       "      <td>0.795748</td>\n",
       "      <td>1.406374</td>\n",
       "      <td>-0.872199</td>\n",
       "      <td>0.426622</td>\n",
       "    </tr>\n",
       "    <tr>\n",
       "      <th>2013-01-01</th>\n",
       "      <td>1.314963</td>\n",
       "      <td>-1.330998</td>\n",
       "      <td>-1.043611</td>\n",
       "      <td>1.367086</td>\n",
       "    </tr>\n",
       "  </tbody>\n",
       "</table>\n",
       "</div>"
      ],
      "text/plain": [
       "                   A         B         C         D\n",
       "2013-01-06 -1.095160  0.164834  0.006563 -0.041451\n",
       "2013-01-05  0.846724  0.813074 -0.058637  2.133081\n",
       "2013-01-04  0.030852  0.353794 -1.114971  0.305245\n",
       "2013-01-03  0.516266 -0.654950  0.844677 -1.642708\n",
       "2013-01-02  0.795748  1.406374 -0.872199  0.426622\n",
       "2013-01-01  1.314963 -1.330998 -1.043611  1.367086"
      ]
     },
     "execution_count": 22,
     "metadata": {},
     "output_type": "execute_result"
    }
   ],
   "source": [
    "# 这说明axis可以取0或者1，我们试试看0：\n",
    "\n",
    "df.sort_index(axis=0, ascending=False)"
   ]
  },
  {
   "cell_type": "code",
   "execution_count": 23,
   "metadata": {
    "ExecuteTime": {
     "end_time": "2019-02-06T09:00:55.986679Z",
     "start_time": "2019-02-06T09:00:55.973809Z"
    }
   },
   "outputs": [
    {
     "data": {
      "text/html": [
       "<div>\n",
       "<style scoped>\n",
       "    .dataframe tbody tr th:only-of-type {\n",
       "        vertical-align: middle;\n",
       "    }\n",
       "\n",
       "    .dataframe tbody tr th {\n",
       "        vertical-align: top;\n",
       "    }\n",
       "\n",
       "    .dataframe thead th {\n",
       "        text-align: right;\n",
       "    }\n",
       "</style>\n",
       "<table border=\"1\" class=\"dataframe\">\n",
       "  <thead>\n",
       "    <tr style=\"text-align: right;\">\n",
       "      <th></th>\n",
       "      <th>A</th>\n",
       "      <th>B</th>\n",
       "      <th>C</th>\n",
       "      <th>D</th>\n",
       "    </tr>\n",
       "  </thead>\n",
       "  <tbody>\n",
       "    <tr>\n",
       "      <th>2013-01-01</th>\n",
       "      <td>1.314963</td>\n",
       "      <td>-1.330998</td>\n",
       "      <td>-1.043611</td>\n",
       "      <td>1.367086</td>\n",
       "    </tr>\n",
       "    <tr>\n",
       "      <th>2013-01-03</th>\n",
       "      <td>0.516266</td>\n",
       "      <td>-0.654950</td>\n",
       "      <td>0.844677</td>\n",
       "      <td>-1.642708</td>\n",
       "    </tr>\n",
       "    <tr>\n",
       "      <th>2013-01-06</th>\n",
       "      <td>-1.095160</td>\n",
       "      <td>0.164834</td>\n",
       "      <td>0.006563</td>\n",
       "      <td>-0.041451</td>\n",
       "    </tr>\n",
       "    <tr>\n",
       "      <th>2013-01-04</th>\n",
       "      <td>0.030852</td>\n",
       "      <td>0.353794</td>\n",
       "      <td>-1.114971</td>\n",
       "      <td>0.305245</td>\n",
       "    </tr>\n",
       "    <tr>\n",
       "      <th>2013-01-05</th>\n",
       "      <td>0.846724</td>\n",
       "      <td>0.813074</td>\n",
       "      <td>-0.058637</td>\n",
       "      <td>2.133081</td>\n",
       "    </tr>\n",
       "    <tr>\n",
       "      <th>2013-01-02</th>\n",
       "      <td>0.795748</td>\n",
       "      <td>1.406374</td>\n",
       "      <td>-0.872199</td>\n",
       "      <td>0.426622</td>\n",
       "    </tr>\n",
       "  </tbody>\n",
       "</table>\n",
       "</div>"
      ],
      "text/plain": [
       "                   A         B         C         D\n",
       "2013-01-01  1.314963 -1.330998 -1.043611  1.367086\n",
       "2013-01-03  0.516266 -0.654950  0.844677 -1.642708\n",
       "2013-01-06 -1.095160  0.164834  0.006563 -0.041451\n",
       "2013-01-04  0.030852  0.353794 -1.114971  0.305245\n",
       "2013-01-05  0.846724  0.813074 -0.058637  2.133081\n",
       "2013-01-02  0.795748  1.406374 -0.872199  0.426622"
      ]
     },
     "execution_count": 23,
     "metadata": {},
     "output_type": "execute_result"
    }
   ],
   "source": [
    "# 按值排序\n",
    "\n",
    "df.sort_values(by='B')\n",
    "# 这是B列数据排序，并且其他数据参照B列数据变化。"
   ]
  },
  {
   "cell_type": "markdown",
   "metadata": {},
   "source": [
    "## 选择数据\n",
    "更多内容请参阅索引文档索引：http://pandas.pydata.org/pandas-docs/version/0.20/indexing.html#indexing\n",
    "\n",
    "和选择数据和多指标/高级索引：http://pandas.pydata.org/pandas-docs/version/0.20/advanced.html#advanced\n",
    "\n",
    "\n",
    "\n",
    "选择一个列，返回一个Series，相当于df.A"
   ]
  },
  {
   "cell_type": "code",
   "execution_count": 24,
   "metadata": {
    "ExecuteTime": {
     "end_time": "2019-02-06T09:01:27.958653Z",
     "start_time": "2019-02-06T09:01:27.940127Z"
    }
   },
   "outputs": [
    {
     "data": {
      "text/plain": [
       "2013-01-01    1.314963\n",
       "2013-01-02    0.795748\n",
       "2013-01-03    0.516266\n",
       "2013-01-04    0.030852\n",
       "2013-01-05    0.846724\n",
       "2013-01-06   -1.095160\n",
       "Freq: D, Name: A, dtype: float64"
      ]
     },
     "execution_count": 24,
     "metadata": {},
     "output_type": "execute_result"
    }
   ],
   "source": [
    "df['A'] #取A列数据，返回的是一个序列\n"
   ]
  },
  {
   "cell_type": "code",
   "execution_count": 25,
   "metadata": {
    "ExecuteTime": {
     "end_time": "2019-02-06T09:02:07.796546Z",
     "start_time": "2019-02-06T09:02:07.785917Z"
    }
   },
   "outputs": [
    {
     "data": {
      "text/html": [
       "<div>\n",
       "<style scoped>\n",
       "    .dataframe tbody tr th:only-of-type {\n",
       "        vertical-align: middle;\n",
       "    }\n",
       "\n",
       "    .dataframe tbody tr th {\n",
       "        vertical-align: top;\n",
       "    }\n",
       "\n",
       "    .dataframe thead th {\n",
       "        text-align: right;\n",
       "    }\n",
       "</style>\n",
       "<table border=\"1\" class=\"dataframe\">\n",
       "  <thead>\n",
       "    <tr style=\"text-align: right;\">\n",
       "      <th></th>\n",
       "      <th>A</th>\n",
       "      <th>B</th>\n",
       "      <th>C</th>\n",
       "      <th>D</th>\n",
       "    </tr>\n",
       "  </thead>\n",
       "  <tbody>\n",
       "    <tr>\n",
       "      <th>2013-01-01</th>\n",
       "      <td>1.314963</td>\n",
       "      <td>-1.330998</td>\n",
       "      <td>-1.043611</td>\n",
       "      <td>1.367086</td>\n",
       "    </tr>\n",
       "    <tr>\n",
       "      <th>2013-01-02</th>\n",
       "      <td>0.795748</td>\n",
       "      <td>1.406374</td>\n",
       "      <td>-0.872199</td>\n",
       "      <td>0.426622</td>\n",
       "    </tr>\n",
       "    <tr>\n",
       "      <th>2013-01-03</th>\n",
       "      <td>0.516266</td>\n",
       "      <td>-0.654950</td>\n",
       "      <td>0.844677</td>\n",
       "      <td>-1.642708</td>\n",
       "    </tr>\n",
       "  </tbody>\n",
       "</table>\n",
       "</div>"
      ],
      "text/plain": [
       "                   A         B         C         D\n",
       "2013-01-01  1.314963 -1.330998 -1.043611  1.367086\n",
       "2013-01-02  0.795748  1.406374 -0.872199  0.426622\n",
       "2013-01-03  0.516266 -0.654950  0.844677 -1.642708"
      ]
     },
     "execution_count": 25,
     "metadata": {},
     "output_type": "execute_result"
    }
   ],
   "source": [
    "# 选择通过[]，切片出行数据\n",
    "\n",
    "df[0:3] #使用默认索引取出前三行"
   ]
  },
  {
   "cell_type": "code",
   "execution_count": 26,
   "metadata": {
    "ExecuteTime": {
     "end_time": "2019-02-06T09:02:29.532216Z",
     "start_time": "2019-02-06T09:02:29.519533Z"
    }
   },
   "outputs": [
    {
     "data": {
      "text/html": [
       "<div>\n",
       "<style scoped>\n",
       "    .dataframe tbody tr th:only-of-type {\n",
       "        vertical-align: middle;\n",
       "    }\n",
       "\n",
       "    .dataframe tbody tr th {\n",
       "        vertical-align: top;\n",
       "    }\n",
       "\n",
       "    .dataframe thead th {\n",
       "        text-align: right;\n",
       "    }\n",
       "</style>\n",
       "<table border=\"1\" class=\"dataframe\">\n",
       "  <thead>\n",
       "    <tr style=\"text-align: right;\">\n",
       "      <th></th>\n",
       "      <th>A</th>\n",
       "      <th>B</th>\n",
       "      <th>C</th>\n",
       "      <th>D</th>\n",
       "    </tr>\n",
       "  </thead>\n",
       "  <tbody>\n",
       "    <tr>\n",
       "      <th>2013-01-02</th>\n",
       "      <td>0.795748</td>\n",
       "      <td>1.406374</td>\n",
       "      <td>-0.872199</td>\n",
       "      <td>0.426622</td>\n",
       "    </tr>\n",
       "    <tr>\n",
       "      <th>2013-01-03</th>\n",
       "      <td>0.516266</td>\n",
       "      <td>-0.654950</td>\n",
       "      <td>0.844677</td>\n",
       "      <td>-1.642708</td>\n",
       "    </tr>\n",
       "    <tr>\n",
       "      <th>2013-01-04</th>\n",
       "      <td>0.030852</td>\n",
       "      <td>0.353794</td>\n",
       "      <td>-1.114971</td>\n",
       "      <td>0.305245</td>\n",
       "    </tr>\n",
       "  </tbody>\n",
       "</table>\n",
       "</div>"
      ],
      "text/plain": [
       "                   A         B         C         D\n",
       "2013-01-02  0.795748  1.406374 -0.872199  0.426622\n",
       "2013-01-03  0.516266 -0.654950  0.844677 -1.642708\n",
       "2013-01-04  0.030852  0.353794 -1.114971  0.305245"
      ]
     },
     "execution_count": 26,
     "metadata": {},
     "output_type": "execute_result"
    }
   ],
   "source": [
    "df['20130102':'20130104'] #使用新索引取出对应行"
   ]
  },
  {
   "cell_type": "markdown",
   "metadata": {},
   "source": [
    "## 标签选择\n",
    "在标签选择中查看更多内容：http://pandas.pydata.org/pandas-docs/version/0.20/indexing.html#indexing-label\n",
    "\n",
    "\n",
    "\n",
    "使用标签获取一块数据：\n",
    "\n"
   ]
  },
  {
   "cell_type": "code",
   "execution_count": 27,
   "metadata": {
    "ExecuteTime": {
     "end_time": "2019-02-06T09:02:55.070878Z",
     "start_time": "2019-02-06T09:02:55.063992Z"
    }
   },
   "outputs": [
    {
     "data": {
      "text/plain": [
       "A    1.314963\n",
       "B   -1.330998\n",
       "C   -1.043611\n",
       "D    1.367086\n",
       "Name: 2013-01-01 00:00:00, dtype: float64"
      ]
     },
     "execution_count": 27,
     "metadata": {},
     "output_type": "execute_result"
    }
   ],
   "source": [
    "df.loc[dates[0]] #取出第一行\n"
   ]
  },
  {
   "cell_type": "code",
   "execution_count": 28,
   "metadata": {
    "ExecuteTime": {
     "end_time": "2019-02-06T09:03:03.845539Z",
     "start_time": "2019-02-06T09:03:03.832040Z"
    }
   },
   "outputs": [
    {
     "data": {
      "text/html": [
       "<div>\n",
       "<style scoped>\n",
       "    .dataframe tbody tr th:only-of-type {\n",
       "        vertical-align: middle;\n",
       "    }\n",
       "\n",
       "    .dataframe tbody tr th {\n",
       "        vertical-align: top;\n",
       "    }\n",
       "\n",
       "    .dataframe thead th {\n",
       "        text-align: right;\n",
       "    }\n",
       "</style>\n",
       "<table border=\"1\" class=\"dataframe\">\n",
       "  <thead>\n",
       "    <tr style=\"text-align: right;\">\n",
       "      <th></th>\n",
       "      <th>A</th>\n",
       "      <th>B</th>\n",
       "    </tr>\n",
       "  </thead>\n",
       "  <tbody>\n",
       "    <tr>\n",
       "      <th>2013-01-01</th>\n",
       "      <td>1.314963</td>\n",
       "      <td>-1.330998</td>\n",
       "    </tr>\n",
       "    <tr>\n",
       "      <th>2013-01-02</th>\n",
       "      <td>0.795748</td>\n",
       "      <td>1.406374</td>\n",
       "    </tr>\n",
       "    <tr>\n",
       "      <th>2013-01-03</th>\n",
       "      <td>0.516266</td>\n",
       "      <td>-0.654950</td>\n",
       "    </tr>\n",
       "    <tr>\n",
       "      <th>2013-01-04</th>\n",
       "      <td>0.030852</td>\n",
       "      <td>0.353794</td>\n",
       "    </tr>\n",
       "    <tr>\n",
       "      <th>2013-01-05</th>\n",
       "      <td>0.846724</td>\n",
       "      <td>0.813074</td>\n",
       "    </tr>\n",
       "    <tr>\n",
       "      <th>2013-01-06</th>\n",
       "      <td>-1.095160</td>\n",
       "      <td>0.164834</td>\n",
       "    </tr>\n",
       "  </tbody>\n",
       "</table>\n",
       "</div>"
      ],
      "text/plain": [
       "                   A         B\n",
       "2013-01-01  1.314963 -1.330998\n",
       "2013-01-02  0.795748  1.406374\n",
       "2013-01-03  0.516266 -0.654950\n",
       "2013-01-04  0.030852  0.353794\n",
       "2013-01-05  0.846724  0.813074\n",
       "2013-01-06 -1.095160  0.164834"
      ]
     },
     "execution_count": 28,
     "metadata": {},
     "output_type": "execute_result"
    }
   ],
   "source": [
    "# 通过标签选择多列：\n",
    "\n",
    "df.loc[:,['A','B']] #这里选择的是A,B列数据"
   ]
  },
  {
   "cell_type": "code",
   "execution_count": 29,
   "metadata": {
    "ExecuteTime": {
     "end_time": "2019-02-06T09:03:39.282746Z",
     "start_time": "2019-02-06T09:03:39.270611Z"
    }
   },
   "outputs": [
    {
     "data": {
      "text/html": [
       "<div>\n",
       "<style scoped>\n",
       "    .dataframe tbody tr th:only-of-type {\n",
       "        vertical-align: middle;\n",
       "    }\n",
       "\n",
       "    .dataframe tbody tr th {\n",
       "        vertical-align: top;\n",
       "    }\n",
       "\n",
       "    .dataframe thead th {\n",
       "        text-align: right;\n",
       "    }\n",
       "</style>\n",
       "<table border=\"1\" class=\"dataframe\">\n",
       "  <thead>\n",
       "    <tr style=\"text-align: right;\">\n",
       "      <th></th>\n",
       "      <th>A</th>\n",
       "      <th>B</th>\n",
       "    </tr>\n",
       "  </thead>\n",
       "  <tbody>\n",
       "    <tr>\n",
       "      <th>2013-01-02</th>\n",
       "      <td>0.795748</td>\n",
       "      <td>1.406374</td>\n",
       "    </tr>\n",
       "    <tr>\n",
       "      <th>2013-01-03</th>\n",
       "      <td>0.516266</td>\n",
       "      <td>-0.654950</td>\n",
       "    </tr>\n",
       "    <tr>\n",
       "      <th>2013-01-04</th>\n",
       "      <td>0.030852</td>\n",
       "      <td>0.353794</td>\n",
       "    </tr>\n",
       "  </tbody>\n",
       "</table>\n",
       "</div>"
      ],
      "text/plain": [
       "                   A         B\n",
       "2013-01-02  0.795748  1.406374\n",
       "2013-01-03  0.516266 -0.654950\n",
       "2013-01-04  0.030852  0.353794"
      ]
     },
     "execution_count": 29,
     "metadata": {},
     "output_type": "execute_result"
    }
   ],
   "source": [
    "# 显示标签切片：\n",
    "\n",
    "df.loc['20130102':'20130104',['A','B']]"
   ]
  },
  {
   "cell_type": "code",
   "execution_count": 30,
   "metadata": {
    "ExecuteTime": {
     "end_time": "2019-02-06T09:03:48.421010Z",
     "start_time": "2019-02-06T09:03:48.410814Z"
    }
   },
   "outputs": [
    {
     "data": {
      "text/plain": [
       "A    0.795748\n",
       "B    1.406374\n",
       "Name: 2013-01-02 00:00:00, dtype: float64"
      ]
     },
     "execution_count": 30,
     "metadata": {},
     "output_type": "execute_result"
    }
   ],
   "source": [
    "# 减少返回对象的维度：\n",
    "\n",
    "df.loc['20130102',['A','B']]"
   ]
  },
  {
   "cell_type": "code",
   "execution_count": 31,
   "metadata": {
    "ExecuteTime": {
     "end_time": "2019-02-06T09:03:57.956848Z",
     "start_time": "2019-02-06T09:03:57.951500Z"
    }
   },
   "outputs": [
    {
     "data": {
      "text/plain": [
       "1.3149633573595536"
      ]
     },
     "execution_count": 31,
     "metadata": {},
     "output_type": "execute_result"
    }
   ],
   "source": [
    "# 获得标量值（就是定位一个具体的值）：\n",
    "\n",
    "df.loc[dates[0],'A']"
   ]
  },
  {
   "cell_type": "code",
   "execution_count": 32,
   "metadata": {
    "ExecuteTime": {
     "end_time": "2019-02-06T09:04:08.710578Z",
     "start_time": "2019-02-06T09:04:08.705401Z"
    }
   },
   "outputs": [
    {
     "data": {
      "text/plain": [
       "1.3149633573595536"
      ]
     },
     "execution_count": 32,
     "metadata": {},
     "output_type": "execute_result"
    }
   ],
   "source": [
    "# 快速访问标量（等同于先前的方法）：\n",
    "\n",
    "df.at[dates[0],'A']"
   ]
  }
 ],
 "metadata": {
  "kernelspec": {
   "display_name": "Python 3",
   "language": "python",
   "name": "python3"
  },
  "language_info": {
   "codemirror_mode": {
    "name": "ipython",
    "version": 3
   },
   "file_extension": ".py",
   "mimetype": "text/x-python",
   "name": "python",
   "nbconvert_exporter": "python",
   "pygments_lexer": "ipython3",
   "version": "3.6.4"
  },
  "varInspector": {
   "cols": {
    "lenName": 16,
    "lenType": 16,
    "lenVar": 40
   },
   "kernels_config": {
    "python": {
     "delete_cmd_postfix": "",
     "delete_cmd_prefix": "del ",
     "library": "var_list.py",
     "varRefreshCmd": "print(var_dic_list())"
    },
    "r": {
     "delete_cmd_postfix": ") ",
     "delete_cmd_prefix": "rm(",
     "library": "var_list.r",
     "varRefreshCmd": "cat(var_dic_list()) "
    }
   },
   "types_to_exclude": [
    "module",
    "function",
    "builtin_function_or_method",
    "instance",
    "_Feature"
   ],
   "window_display": false
  }
 },
 "nbformat": 4,
 "nbformat_minor": 2
}
