{
 "cells": [
  {
   "cell_type": "code",
   "execution_count": 3,
   "metadata": {
    "ExecuteTime": {
     "end_time": "2019-10-15T02:30:57.190194Z",
     "start_time": "2019-10-15T02:30:57.181196Z"
    }
   },
   "outputs": [
    {
     "name": "stdout",
     "output_type": "stream",
     "text": [
      "  \u001b[38;5;59m────────  ─────  ───\u001b[0m\n",
      "  \u001b[38;5;188mItem\u001b[0m      \u001b[38;5;188mValue\u001b[0m  \u001b[38;5;188mQty\u001b[0m\n",
      "  \u001b[38;5;188mComputer\u001b[0m  \u001b[38;5;188m$1600\u001b[0m  \u001b[38;5;188m5\u001b[0m\n",
      "  \u001b[38;5;188mPhone\u001b[0m     \u001b[38;5;188m$12\u001b[0m    \u001b[38;5;188m12\u001b[0m\n",
      "  \u001b[38;5;188mPipe\u001b[0m      \u001b[38;5;188m$1\u001b[0m     \u001b[38;5;188m234\u001b[0m\n",
      "  \u001b[38;5;59m────────  ─────  ───\u001b[0m\n",
      "\n",
      "\n"
     ]
    }
   ],
   "source": [
    "import mdv\n",
    "st = '''\n",
    "| Item     | Value | Qty   |\n",
    "|  --- | --- | --- |\n",
    "| Computer | $1600 |  5    |\n",
    "| Phone    | $12   |  12   |\n",
    "| Pipe     | $1    |  234  |\n",
    "'''\n",
    "s = mdv.main(st)\n",
    "print(s)"
   ]
  },
  {
   "cell_type": "code",
   "execution_count": 5,
   "metadata": {
    "ExecuteTime": {
     "end_time": "2019-10-15T02:34:52.858028Z",
     "start_time": "2019-10-15T02:34:52.780628Z"
    }
   },
   "outputs": [
    {
     "name": "stdout",
     "output_type": "stream",
     "text": [
      "\u001b[38;5;188m  The command can contain placeholders:\u001b[0m\n",
      "\n",
      "  \u001b[38;5;59m| \u001b[0m \u001b[38;5;102m\u001b[38;5;102m_fp_     # Will be replaced with filepath\n",
      "  \u001b[38;5;59m| \u001b[0m \u001b[38;5;102m_raw_    # Will be replaced with the base64 encoded raw content\n",
      "  \u001b[38;5;59m| \u001b[0m \u001b[38;5;102m           of the file\n",
      "  \u001b[38;5;59m| \u001b[0m \u001b[38;5;102m_pretty_ # Will be replaced with the base64 encoded prettyfied output\n",
      "\u001b[0m\n",
      "\n",
      "\n"
     ]
    }
   ],
   "source": [
    "s=mdv.main('''The command can contain placeholders:\n",
    "\n",
    "    _fp_     # Will be replaced with filepath\n",
    "    _raw_    # Will be replaced with the base64 encoded raw content\n",
    "               of the file\n",
    "    _pretty_ # Will be replaced with the base64 encoded prettyfied output''')\n",
    "print(s)"
   ]
  },
  {
   "cell_type": "code",
   "execution_count": 6,
   "metadata": {
    "ExecuteTime": {
     "end_time": "2019-10-15T02:36:27.060609Z",
     "start_time": "2019-10-15T02:36:27.034187Z"
    }
   },
   "outputs": [
    {
     "name": "stdout",
     "output_type": "stream",
     "text": [
      "\u001b[38;5;188m  _\u001b[0m\n",
      "\n",
      "\u001b[38;5;59m\u001b[0m\u001b[38;5;194mMdv installation\u001b[0m\n",
      "\n",
      "\u001b[38;5;59m\u001b[0m\u001b[38;5;188m Usage\u001b[0m\n",
      "\n",
      "  \u001b[38;5;59m| \u001b[0m \u001b[38;5;102m\u001b[38;5;102m[sudo] ./setup.py install\n",
      "\u001b[0m\n",
      "\u001b[38;5;59m\n",
      "\u001b[38;5;194m◈\u001b[0m────────────────────────────\u001b[38;5;194m◈\u001b[0m\n",
      "\u001b[0m\n",
      "\n",
      "\n"
     ]
    }
   ],
   "source": [
    "s=mdv.main(\"\"\"_\n",
    "# Mdv installation\n",
    "\n",
    "## Usage\n",
    "\n",
    "    [sudo] ./setup.py install\n",
    "\n",
    "----\n",
    "\"\"\")\n",
    "print(s)"
   ]
  }
 ],
 "metadata": {
  "kernelspec": {
   "display_name": "Python 3",
   "language": "python",
   "name": "python3"
  },
  "language_info": {
   "codemirror_mode": {
    "name": "ipython",
    "version": 3
   },
   "file_extension": ".py",
   "mimetype": "text/x-python",
   "name": "python",
   "nbconvert_exporter": "python",
   "pygments_lexer": "ipython3",
   "version": "3.6.4"
  },
  "varInspector": {
   "cols": {
    "lenName": 16,
    "lenType": 16,
    "lenVar": 40
   },
   "kernels_config": {
    "python": {
     "delete_cmd_postfix": "",
     "delete_cmd_prefix": "del ",
     "library": "var_list.py",
     "varRefreshCmd": "print(var_dic_list())"
    },
    "r": {
     "delete_cmd_postfix": ") ",
     "delete_cmd_prefix": "rm(",
     "library": "var_list.r",
     "varRefreshCmd": "cat(var_dic_list()) "
    }
   },
   "types_to_exclude": [
    "module",
    "function",
    "builtin_function_or_method",
    "instance",
    "_Feature"
   ],
   "window_display": false
  }
 },
 "nbformat": 4,
 "nbformat_minor": 2
}
