{
 "cells": [
  {
   "cell_type": "markdown",
   "metadata": {},
   "source": [
    "⊕ [YAML Tutorial: Everything You Need to Get Started in Minutes](https://www.cloudbees.com/blog/yaml-tutorial-everything-you-need-get-started/)\n"
   ]
  },
  {
   "cell_type": "code",
   "execution_count": 1,
   "metadata": {
    "ExecuteTime": {
     "end_time": "2021-02-10T09:02:02.265682Z",
     "start_time": "2021-02-10T09:02:02.192529Z"
    }
   },
   "outputs": [
    {
     "name": "stdout",
     "output_type": "stream",
     "text": [
      "Agreement\n",
      "AcctgTrans\n",
      "FixedAsset\n",
      "Product\n",
      "WorkEffort\n",
      "InventoryItem\n"
     ]
    }
   ],
   "source": [
    "import yaml\n",
    "stream = open(\"./fixtures/accounting.yml\", 'r')\n",
    "dictionary = yaml.load(stream, Loader=yaml.FullLoader)\n",
    "types=dictionary['types']\n",
    "for key, value in types.items():\n",
    "    print(key)"
   ]
  },
  {
   "cell_type": "code",
   "execution_count": 9,
   "metadata": {
    "ExecuteTime": {
     "end_time": "2021-02-02T23:21:16.913172Z",
     "start_time": "2021-02-02T23:21:16.906805Z"
    }
   },
   "outputs": [
    {
     "name": "stdout",
     "output_type": "stream",
     "text": [
      "<!-- This is an example of a fixed asset (a machine or a workcenter) with standard costing information -->\n",
      "<FixedAsset fixedAssetId=\"WORKCENTER_COST\" fixedAssetTypeId=\"GROUP_EQUIPMENT\" fixedAssetName=\"Demo Workcenter with Standard Costs information\"/>\n",
      "<!-- Deprecated: in the future cost information will be stored in the CostComponentCalc entity;\n",
      "     these entries can then be associated to a work effort thru the WorkEffortCostCalc entity. -->\n",
      "<!-- This is the standard cost per hour needed to setup the fixed asset for the task -->\n",
      "<FixedAssetStdCost fixedAssetId=\"WORKCENTER_COST\" fixedAssetStdCostTypeId=\"SETUP_COST\" fromDate=\"2005-12-31 00:01:00.0\" amountUomId=\"USD\" amount=\"20\"/>\n",
      "<!-- This is the standard cost per hour for the usage of the fixed asset to perform a given task -->\n",
      "<FixedAssetStdCost fixedAssetId=\"WORKCENTER_COST\" fixedAssetStdCostTypeId=\"USAGE_COST\" fromDate=\"2005-12-31 00:01:00.0\" amountUomId=\"USD\" amount=\"80\"/>\n",
      "\n"
     ]
    }
   ],
   "source": [
    "print(types['FixedAsset']['seed'])"
   ]
  },
  {
   "cell_type": "markdown",
   "metadata": {},
   "source": [
    "⊕ [xml.etree.ElementTree — The ElementTree XML API — Python 3.9.1 documentation](https://docs.python.org/3/library/xml.etree.elementtree.html#module-xml.etree.ElementTree)\n"
   ]
  },
  {
   "cell_type": "code",
   "execution_count": 18,
   "metadata": {
    "ExecuteTime": {
     "end_time": "2021-02-02T23:27:20.014045Z",
     "start_time": "2021-02-02T23:27:20.006659Z"
    }
   },
   "outputs": [
    {
     "name": "stdout",
     "output_type": "stream",
     "text": [
      "* FixedAsset(WORKCENTER_COST)\n",
      "\t {'fixedAssetId': 'WORKCENTER_COST', 'fixedAssetTypeId': 'GROUP_EQUIPMENT', 'fixedAssetName': 'Demo Workcenter with Standard Costs information'}\n",
      "* FixedAssetStdCost(WORKCENTER_COST)\n",
      "\t {'fixedAssetId': 'WORKCENTER_COST', 'fixedAssetStdCostTypeId': 'SETUP_COST', 'fromDate': '2005-12-31 00:01:00.0', 'amountUomId': 'USD', 'amount': '20'}\n",
      "* FixedAssetStdCost(WORKCENTER_COST)\n",
      "\t {'fixedAssetId': 'WORKCENTER_COST', 'fixedAssetStdCostTypeId': 'USAGE_COST', 'fromDate': '2005-12-31 00:01:00.0', 'amountUomId': 'USD', 'amount': '80'}\n"
     ]
    }
   ],
   "source": [
    "import xml.etree.ElementTree as ET\n",
    "seed=types['FixedAsset']['seed']\n",
    "root = ET.fromstring('<root>'+seed+'</root>')\n",
    "for child in root:\n",
    "    print(f\"* {child.tag}({child.attrib['fixedAssetId']})\")\n",
    "    print('\\t', child.attrib)"
   ]
  }
 ],
 "metadata": {
  "kernelspec": {
   "display_name": "Python 3",
   "language": "python",
   "name": "python3"
  },
  "language_info": {
   "codemirror_mode": {
    "name": "ipython",
    "version": 3
   },
   "file_extension": ".py",
   "mimetype": "text/x-python",
   "name": "python",
   "nbconvert_exporter": "python",
   "pygments_lexer": "ipython3",
   "version": "3.7.7"
  },
  "varInspector": {
   "cols": {
    "lenName": 16,
    "lenType": 16,
    "lenVar": 40
   },
   "kernels_config": {
    "python": {
     "delete_cmd_postfix": "",
     "delete_cmd_prefix": "del ",
     "library": "var_list.py",
     "varRefreshCmd": "print(var_dic_list())"
    },
    "r": {
     "delete_cmd_postfix": ") ",
     "delete_cmd_prefix": "rm(",
     "library": "var_list.r",
     "varRefreshCmd": "cat(var_dic_list()) "
    }
   },
   "types_to_exclude": [
    "module",
    "function",
    "builtin_function_or_method",
    "instance",
    "_Feature"
   ],
   "window_display": false
  }
 },
 "nbformat": 4,
 "nbformat_minor": 4
}
