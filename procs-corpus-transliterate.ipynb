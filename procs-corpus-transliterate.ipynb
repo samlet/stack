{
 "cells": [
  {
   "cell_type": "code",
   "execution_count": 8,
   "metadata": {
    "ExecuteTime": {
     "end_time": "2019-09-03T07:49:26.272075Z",
     "start_time": "2019-09-03T07:49:26.228431Z"
    }
   },
   "outputs": [
    {
     "data": {
      "text/plain": [
       "[('What are you hiding from me?', 'چه چیزی را از من پنهان می\\u200cکنی؟'),\n",
       " ('Tom got on the wrong train.', 'تام اشتباهی سوار قطار شد.'),\n",
       " (\"Tom doesn't know what to do now.\", 'تام نمی داند الان چه کار کند.'),\n",
       " ('I learned a new word today.', 'من امروز یک کلمه جدید یاد گرفتم.'),\n",
       " (\"I don't sleep a lot.\", 'من زیاد نمی خوابم.'),\n",
       " ('Have you told anyone where our hideout is?',\n",
       "  'آیا تو به کسی گفته ای که مخفیگاه ما کجاست؟'),\n",
       " ('This plant is edible.', 'این گیاه خوراکی است.'),\n",
       " (\"It seems like you're in a bad mood this morning.\",\n",
       "  'به نظر می رسد که امروز صبح در حالت بدی هستی.'),\n",
       " ('Sweet dreams!', 'خواب های خوش ببینی!'),\n",
       " ('I thought my eyes were playing tricks on me.',\n",
       "  'فکر کردم چشم\\u200cهایم مرا فریب می\\u200cدهند.')]"
      ]
     },
     "execution_count": 8,
     "metadata": {},
     "output_type": "execute_result"
    }
   ],
   "source": [
    "from sagas.train.parallel_corpus import load_corpus, take_samples\n",
    "from sagas.nlu.transliterations import translits\n",
    "prefix='/pi/ai/seq2seq'\n",
    "items=load_corpus(f\"{prefix}/en_Persian/pes-eng/pes.txt\")\n",
    "rows=take_samples(items)\n",
    "rows"
   ]
  },
  {
   "cell_type": "code",
   "execution_count": 9,
   "metadata": {
    "ExecuteTime": {
     "end_time": "2019-09-03T07:49:29.561780Z",
     "start_time": "2019-09-03T07:49:28.930657Z"
    }
   },
   "outputs": [
    {
     "name": "stdout",
     "output_type": "stream",
     "text": [
      "چه چیزی را از من پنهان می‌کنی؟ -> What are you hiding from me?\n",
      "chh chizi ra az mn pnhan mikenny \n",
      "تام اشتباهی سوار قطار شد. -> Tom got on the wrong train.\n",
      "tam stbahi svar ghtar shd \n",
      "تام نمی داند الان چه کار کند. -> Tom doesn't know what to do now.\n",
      "tam nmi dand alan chh car kend \n",
      "من امروز یک کلمه جدید یاد گرفتم. -> I learned a new word today.\n",
      "mn amroz ic klmh jdid iad grftm \n",
      "من زیاد نمی خوابم. -> I don't sleep a lot.\n",
      "mn siad nmi joabm \n",
      "آیا تو به کسی گفته ای که مخفیگاه ما کجاست؟ -> Have you told anyone where our hideout is?\n",
      "aia to bh ksi gfth ai ke mkhfigah ma kjast \n",
      "این گیاه خوراکی است. -> This plant is edible.\n",
      "ain giah joraki ast \n",
      "به نظر می رسد که امروز صبح در حالت بدی هستی. -> It seems like you're in a bad mood this morning.\n",
      "bh nazar mi rsd ke amroz sbh dr halt bdi hsti \n",
      "خواب های خوش ببینی! -> Sweet dreams!\n",
      "joab hai josh bbini \n",
      "فکر کردم چشم‌هایم مرا فریب می‌دهند. -> I thought my eyes were playing tricks on me.\n",
      "fkr krdm chshmhaim mra frib midhend \n"
     ]
    }
   ],
   "source": [
    "for l in rows:\n",
    "    print(f\"{l[1]} -> {l[0]}\")\n",
    "    print(translits.translit(l[1], 'fa'))"
   ]
  },
  {
   "cell_type": "code",
   "execution_count": 10,
   "metadata": {
    "ExecuteTime": {
     "end_time": "2019-09-03T07:50:37.531594Z",
     "start_time": "2019-09-03T07:50:37.396034Z"
    }
   },
   "outputs": [
    {
     "data": {
      "text/plain": [
       "[('The converse is also true.', 'و العكس صحيح.'),\n",
       " ('If I knew the truth, I would tell you.', 'إذا عرفت الحقيقة سأخبرك.'),\n",
       " ('I had a strange dream last night.', 'حلمت بحلم غريب ليلة الأمس.'),\n",
       " ('A drowning man will clutch at a straw.', 'الغريق يتعلق بقشة.'),\n",
       " ('Tom saved her from the fire.', 'أنقذها توم من الحريق.'),\n",
       " ('This theory consists of three parts.', 'تتألف هذه النظرية من ثلاثة أجزاء.'),\n",
       " ('Go away.', 'اذهب بعيداً.'),\n",
       " (\"Do you have a driver's license?\", 'هل تملك رخصة قيادة؟'),\n",
       " ('I liked this film.', 'أحببت هذا الفيلم.'),\n",
       " ('He disclosed his intentions.', 'لقد كشف عن نواياه.')]"
      ]
     },
     "execution_count": 10,
     "metadata": {},
     "output_type": "execute_result"
    }
   ],
   "source": [
    "items=load_corpus(f\"{prefix}/ara-eng/ara.txt\")\n",
    "rows=take_samples(items)\n",
    "rows"
   ]
  },
  {
   "cell_type": "code",
   "execution_count": 11,
   "metadata": {
    "ExecuteTime": {
     "end_time": "2019-09-03T07:50:41.715358Z",
     "start_time": "2019-09-03T07:50:41.157469Z"
    }
   },
   "outputs": [
    {
     "name": "stdout",
     "output_type": "stream",
     "text": [
      "و العكس صحيح. -> The converse is also true.\n",
      "o alaks shih \n",
      "إذا عرفت الحقيقة سأخبرك. -> If I knew the truth, I would tell you.\n",
      "eda arft alhkiqa sakhbrk \n",
      "حلمت بحلم غريب ليلة الأمس. -> I had a strange dream last night.\n",
      "hlmt bahlm grib lila alams \n",
      "الغريق يتعلق بقشة. -> A drowning man will clutch at a straw.\n",
      "algriq italk bksha \n",
      "أنقذها توم من الحريق. -> Tom saved her from the fire.\n",
      "ankdha tom mn alhariq \n",
      "تتألف هذه النظرية من ثلاثة أجزاء. -> This theory consists of three parts.\n",
      "ttalf hdh alnzria mn thlatha ajzaa \n",
      "اذهب بعيداً. -> Go away.\n",
      "adhb  \n",
      "هل تملك رخصة قيادة؟ -> Do you have a driver's license?\n",
      "hl tmlk rgsa kiada \n",
      "أحببت هذا الفيلم. -> I liked this film.\n",
      "ahbbt hda alvelm \n",
      "لقد كشف عن نواياه. -> He disclosed his intentions.\n",
      "lkd kshf an noayah \n"
     ]
    }
   ],
   "source": [
    "for l in rows:\n",
    "    print(f\"{l[1]} -> {l[0]}\")\n",
    "    print(translits.translit(l[1], 'ar'))"
   ]
  },
  {
   "cell_type": "code",
   "execution_count": 17,
   "metadata": {
    "ExecuteTime": {
     "end_time": "2019-09-03T08:41:55.744549Z",
     "start_time": "2019-09-03T08:41:55.446731Z"
    }
   },
   "outputs": [
    {
     "name": "stdout",
     "output_type": "stream",
     "text": [
      "(\"Here's your dog.\", 'ها هو كلبك.')\n",
      "ha ho klbk \n",
      "('Are these your dogs?', 'هل هذه كلابك؟')\n",
      "hl hdh klabk \n",
      "('Are those your dogs?', 'هل تلك كلابك؟')\n",
      "hl tlk klabk \n",
      "('If you feed your dog properly, you can increase his lifespan.', 'إذا أطعمت كلبك بشكل صحيح، تستطيع أن ترفع من عمره.')\n",
      "eda atamt klbk bashkl shih  tsttia an trfa mn omarh \n",
      ".. done.\n"
     ]
    }
   ],
   "source": [
    "def search_corpus(loc, lang, words):\n",
    "    items=load_corpus(loc)\n",
    "    rows=take_samples(items)\n",
    "    def search_in(items, phrase):\n",
    "        for item in items:\n",
    "            if words in item[0]:\n",
    "                print(item)\n",
    "                # print(f\"{l[1]} -> {l[0]}\")\n",
    "                print(translits.translit(item[1], lang))\n",
    "        print('.. done.')\n",
    "    search_in(items, words)\n",
    "search_corpus(f\"{prefix}/ara-eng/ara.txt\", 'ar', 'your dog')    "
   ]
  },
  {
   "cell_type": "code",
   "execution_count": 20,
   "metadata": {
    "ExecuteTime": {
     "end_time": "2019-09-03T08:42:53.823968Z",
     "start_time": "2019-09-03T08:42:53.070020Z"
    }
   },
   "outputs": [
    {
     "name": "stdout",
     "output_type": "stream",
     "text": [
      "(\"I don't have a dog.\", 'من سگ ندارم.')\n",
      "mn sg ndarm \n",
      "('Tom has three dogs.', 'تام سه سگ دارد.')\n",
      "tam sh sg dard \n",
      "(\"He's afraid of dogs.\", 'او از سگ ها می ترسد.')\n",
      "ao az sg ha mi trsd \n",
      "('I am afraid of dogs.', 'من از سگ\\u200cها می\\u200cترسم.')\n",
      "mn az sghha mitrsm \n",
      "(\"Dead dogs don't bite.\", 'سگهای مرده گاز نمی گیرند.')\n",
      "sghai mrdh gaz nmi girnd \n",
      "(\"I'm allergic to dogs.\", 'من به سگ ها حساسیت دارم.')\n",
      "mn bh sg ha hsasit darm \n",
      "('I have a dog and a cat.', 'من یک سگ و یک گربه دارم.')\n",
      "mn ic sg o ic grbh darm \n",
      "('He began to talk to the dog.', 'او شروع به صحبت کردن با سگ کرد.')\n",
      "ao shroa bh shbt krdn ba sg krd \n",
      "('She began to talk to the dog.', 'او شروع به صحبت کردن با سگ کرد.')\n",
      "ao shroa bh shbt krdn ba sg krd \n",
      "('He started talking to the dog.', 'او شروع به صحبت کردن با سگ کرد.')\n",
      "ao shroa bh shbt krdn ba sg krd \n",
      "('Yesterday my uncle bought a dog.', 'دیروز عمویم سگی خریداری کرد.')\n",
      "diroz amoim sgi khridari krd \n",
      "('The dog breathed with difficulty.', 'سگ به سختی نفس کشید.')\n",
      "sg bh skhti nfs kshid \n",
      "('Did you feed the dog this morning?', 'امروز صبح به سگ غذا دادی؟')\n",
      "amroz sbh bh sg ghazaa dadi \n",
      "('Can you watch my dog while I’m away?', 'می توانی وقتی من در سفر هستم از سگم مراقبت کنی؟')\n",
      "mi toani oghti mn dr sfr hstm az sgm mraqbt kenny \n",
      "('I walk my dog in the park every morning.', 'من هر روز صبح سگم را برای قدم زدن به پارک میبرم.')\n",
      "mn hr roz sbh sgm ra brai ghdm zdn bh park mibrm \n",
      ".. done.\n"
     ]
    }
   ],
   "source": [
    "search_corpus(f\"{prefix}/en_Persian/pes-eng/pes.txt\", 'fa', 'dog')"
   ]
  }
 ],
 "metadata": {
  "kernelspec": {
   "display_name": "Python 3",
   "language": "python",
   "name": "python3"
  },
  "language_info": {
   "codemirror_mode": {
    "name": "ipython",
    "version": 3
   },
   "file_extension": ".py",
   "mimetype": "text/x-python",
   "name": "python",
   "nbconvert_exporter": "python",
   "pygments_lexer": "ipython3",
   "version": "3.6.4"
  },
  "varInspector": {
   "cols": {
    "lenName": 16,
    "lenType": 16,
    "lenVar": 40
   },
   "kernels_config": {
    "python": {
     "delete_cmd_postfix": "",
     "delete_cmd_prefix": "del ",
     "library": "var_list.py",
     "varRefreshCmd": "print(var_dic_list())"
    },
    "r": {
     "delete_cmd_postfix": ") ",
     "delete_cmd_prefix": "rm(",
     "library": "var_list.r",
     "varRefreshCmd": "cat(var_dic_list()) "
    }
   },
   "types_to_exclude": [
    "module",
    "function",
    "builtin_function_or_method",
    "instance",
    "_Feature"
   ],
   "window_display": false
  }
 },
 "nbformat": 4,
 "nbformat_minor": 2
}
