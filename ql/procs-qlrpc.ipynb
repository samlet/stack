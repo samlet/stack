{
 "cells": [
  {
   "cell_type": "code",
   "execution_count": 3,
   "metadata": {
    "ExecuteTime": {
     "end_time": "2022-05-06T14:50:05.473629Z",
     "start_time": "2022-05-06T14:50:05.467297Z"
    }
   },
   "outputs": [],
   "source": [
    "from sagas.ql.connector import QlConnector\n",
    "import logging\n",
    "# logging.basicConfig(level=logging.WARN)\n",
    "from gql.transport.requests import log as requests_logger\n",
    "requests_logger.setLevel(logging.WARNING)"
   ]
  },
  {
   "cell_type": "code",
   "execution_count": 8,
   "metadata": {
    "ExecuteTime": {
     "end_time": "2022-05-06T14:53:06.893914Z",
     "start_time": "2022-05-06T14:53:06.861917Z"
    }
   },
   "outputs": [
    {
     "data": {
      "text/plain": [
       "[{'id': 'accountingadmin', 'party': {'party_type_id': 'PERSON'}},\n",
       " {'id': 'DemoRepAll', 'party': {'party_type_id': 'PERSON'}},\n",
       " {'id': 'DemoEmployee2', 'party': {'party_type_id': 'PERSON'}},\n",
       " {'id': 'ltdadmin1', 'party': {'party_type_id': 'PERSON'}},\n",
       " {'id': 'TestingTeamMember1', 'party': {'party_type_id': 'PERSON'}},\n",
       " {'id': 'externaluser', 'party': {'party_type_id': 'PERSON'}},\n",
       " {'id': 'DemoBuyer', 'party': {'party_type_id': 'PERSON'}},\n",
       " {'id': 'system', 'party': {'party_type_id': 'PERSON'}},\n",
       " {'id': 'DemoEmployee1', 'party': {'party_type_id': 'PERSON'}},\n",
       " {'id': 'TestingTeamMember2', 'party': {'party_type_id': 'PERSON'}},\n",
       " {'id': 'DemoEbayAccount2', 'party': {'party_type_id': 'PERSON'}},\n",
       " {'id': 'WorkEffortUser', 'party': {'party_type_id': 'PERSON'}},\n",
       " {'id': 'TestDemoCustomer', 'party': {'party_type_id': 'PERSON'}},\n",
       " {'id': 'DemoEmployee3', 'party': {'party_type_id': 'PERSON'}},\n",
       " {'id': 'DemoRepStore', 'party': {'party_type_id': 'PERSON'}},\n",
       " {'id': 'bizadmin', 'party': {'party_type_id': 'PERSON'}},\n",
       " {'id': 'Developer2', 'party': {'party_type_id': 'PERSON'}},\n",
       " {'id': 'TestingTeamMember3', 'party': {'party_type_id': 'PERSON'}},\n",
       " {'id': 'ltdadmin', 'party': {'party_type_id': 'PERSON'}},\n",
       " {'id': 'DemoCustomer1', 'party': {'party_type_id': 'PERSON'}},\n",
       " {'id': 'Developer1', 'party': {'party_type_id': 'PERSON'}},\n",
       " {'id': 'DemoCustomer3', 'party': {'party_type_id': 'PERSON'}},\n",
       " {'id': 'AcctBuyer', 'party': {'party_type_id': 'PERSON'}},\n",
       " {'id': 'DemoEbayAccount1', 'party': {'party_type_id': 'PERSON'}},\n",
       " {'id': '_NA_', 'party': {'party_type_id': 'PERSON'}},\n",
       " {'id': 'FrenchCustomer', 'party': {'party_type_id': 'PERSON'}},\n",
       " {'id': 'Developer3', 'party': {'party_type_id': 'PERSON'}}]"
      ]
     },
     "execution_count": 8,
     "metadata": {},
     "output_type": "execute_result"
    }
   ],
   "source": [
    "qlc=QlConnector()\n",
    "result=qlc.execute('''\n",
    "    {\n",
    "        party {\n",
    "            listPeople {\n",
    "                id\n",
    "                party {\n",
    "                    party_type_id\n",
    "                }\n",
    "            }\n",
    "        }\n",
    "    }\n",
    "''')\n",
    "rs=[e for e in result['party']['listPeople']]\n",
    "rs"
   ]
  },
  {
   "cell_type": "code",
   "execution_count": 10,
   "metadata": {
    "ExecuteTime": {
     "end_time": "2022-05-06T14:54:41.263049Z",
     "start_time": "2022-05-06T14:54:41.041126Z"
    }
   },
   "outputs": [
    {
     "name": "stdout",
     "output_type": "stream",
     "text": [
      "[   {'id': 'accountingadmin', 'party': {'party_type_id': 'PERSON'}},\n",
      "    {'id': 'DemoRepAll', 'party': {'party_type_id': 'PERSON'}},\n",
      "    {'id': 'DemoEmployee2', 'party': {'party_type_id': 'PERSON'}},\n",
      "    {'id': 'ltdadmin1', 'party': {'party_type_id': 'PERSON'}},\n",
      "    {'id': 'TestingTeamMember1', 'party': {'party_type_id': 'PERSON'}},\n",
      "    {'id': 'externaluser', 'party': {'party_type_id': 'PERSON'}},\n",
      "    {'id': 'DemoBuyer', 'party': {'party_type_id': 'PERSON'}},\n",
      "    {'id': 'system', 'party': {'party_type_id': 'PERSON'}},\n",
      "    {'id': 'DemoEmployee1', 'party': {'party_type_id': 'PERSON'}},\n",
      "    {'id': 'TestingTeamMember2', 'party': {'party_type_id': 'PERSON'}},\n",
      "    {'id': 'DemoEbayAccount2', 'party': {'party_type_id': 'PERSON'}},\n",
      "    {'id': 'WorkEffortUser', 'party': {'party_type_id': 'PERSON'}},\n",
      "    {'id': 'TestDemoCustomer', 'party': {'party_type_id': 'PERSON'}},\n",
      "    {'id': 'DemoEmployee3', 'party': {'party_type_id': 'PERSON'}},\n",
      "    {'id': 'DemoRepStore', 'party': {'party_type_id': 'PERSON'}},\n",
      "    {'id': 'bizadmin', 'party': {'party_type_id': 'PERSON'}},\n",
      "    {'id': 'Developer2', 'party': {'party_type_id': 'PERSON'}},\n",
      "    {'id': 'TestingTeamMember3', 'party': {'party_type_id': 'PERSON'}},\n",
      "    {'id': 'ltdadmin', 'party': {'party_type_id': 'PERSON'}},\n",
      "    {'id': 'DemoCustomer1', 'party': {'party_type_id': 'PERSON'}},\n",
      "    {'id': 'Developer1', 'party': {'party_type_id': 'PERSON'}},\n",
      "    {'id': 'DemoCustomer3', 'party': {'party_type_id': 'PERSON'}},\n",
      "    {'id': 'AcctBuyer', 'party': {'party_type_id': 'PERSON'}},\n",
      "    {'id': 'DemoEbayAccount1', 'party': {'party_type_id': 'PERSON'}},\n",
      "    {'id': '_NA_', 'party': {'party_type_id': 'PERSON'}},\n",
      "    {'id': 'FrenchCustomer', 'party': {'party_type_id': 'PERSON'}},\n",
      "    {'id': 'Developer3', 'party': {'party_type_id': 'PERSON'}}]\n"
     ]
    }
   ],
   "source": [
    "# from sagas.misc.utils import dump\n",
    "# dump(rs)\n",
    "import pprint\n",
    "pp = pprint.PrettyPrinter(indent=4)\n",
    "pp.pprint(rs)"
   ]
  },
  {
   "cell_type": "code",
   "execution_count": 16,
   "metadata": {
    "ExecuteTime": {
     "end_time": "2022-05-06T15:26:45.327522Z",
     "start_time": "2022-05-06T15:26:45.292390Z"
    }
   },
   "outputs": [
    {
     "data": {
      "text/plain": [
       "{'model': {'entity': {'name': 'PartyNote',\n",
       "   'combine': True,\n",
       "   'keys': {'value': ['partyId', 'noteId']},\n",
       "   'fields': [{'value': {'name': 'lastUpdatedStamp',\n",
       "      'type': 'date-time',\n",
       "      'pk': False}},\n",
       "    {'value': {'name': 'createdTxStamp', 'type': 'date-time', 'pk': False}},\n",
       "    {'value': {'name': 'createdStamp', 'type': 'date-time', 'pk': False}},\n",
       "    {'value': {'name': 'lastUpdatedTxStamp',\n",
       "      'type': 'date-time',\n",
       "      'pk': False}},\n",
       "    {'value': {'name': 'noteId', 'type': 'id', 'pk': True}},\n",
       "    {'value': {'name': 'id', 'type': 'id', 'pk': True}},\n",
       "    {'value': {'name': 'partyId', 'type': 'id', 'pk': True}}],\n",
       "   'relations': [{'value': {'name': 'Party',\n",
       "      'relEntityName': 'Party',\n",
       "      'keymaps': [{'key': 'partyId', 'value': 'partyId'}]}},\n",
       "    {'value': {'name': 'NoteData',\n",
       "      'relEntityName': 'NoteData',\n",
       "      'keymaps': [{'key': 'noteId', 'value': 'noteId'}]}}]}}}"
      ]
     },
     "execution_count": 16,
     "metadata": {},
     "output_type": "execute_result"
    }
   ],
   "source": [
    "from gql import Client, gql\n",
    "qlc.client.execute(gql('''\n",
    "query GetModel($ent: String){\n",
    "  model {\n",
    "        entity(name: $ent) {\n",
    "            name\n",
    "            combine\n",
    "            keys {value}\n",
    "            fields {\n",
    "                value {\n",
    "                    name\n",
    "                    type\n",
    "                    pk\n",
    "                }\n",
    "            }\n",
    "            relations {\n",
    "                value {\n",
    "                    name\n",
    "                    relEntityName\n",
    "                    keymaps {key value}\n",
    "                }\n",
    "            }\n",
    "        }\n",
    "    }\n",
    "}\n",
    "'''), variable_values={\"ent\": \"PartyNote\"})"
   ]
  }
 ],
 "metadata": {
  "kernelspec": {
   "display_name": "Python 3",
   "language": "python",
   "name": "python3"
  },
  "language_info": {
   "codemirror_mode": {
    "name": "ipython",
    "version": 3
   },
   "file_extension": ".py",
   "mimetype": "text/x-python",
   "name": "python",
   "nbconvert_exporter": "python",
   "pygments_lexer": "ipython3",
   "version": "3.7.7"
  },
  "varInspector": {
   "cols": {
    "lenName": 16,
    "lenType": 16,
    "lenVar": 40
   },
   "kernels_config": {
    "python": {
     "delete_cmd_postfix": "",
     "delete_cmd_prefix": "del ",
     "library": "var_list.py",
     "varRefreshCmd": "print(var_dic_list())"
    },
    "r": {
     "delete_cmd_postfix": ") ",
     "delete_cmd_prefix": "rm(",
     "library": "var_list.r",
     "varRefreshCmd": "cat(var_dic_list()) "
    }
   },
   "types_to_exclude": [
    "module",
    "function",
    "builtin_function_or_method",
    "instance",
    "_Feature"
   ],
   "window_display": false
  }
 },
 "nbformat": 4,
 "nbformat_minor": 4
}
