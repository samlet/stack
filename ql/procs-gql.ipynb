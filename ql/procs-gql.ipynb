{
 "cells": [
  {
   "cell_type": "code",
   "execution_count": 1,
   "metadata": {
    "ExecuteTime": {
     "end_time": "2022-05-06T14:28:19.860813Z",
     "start_time": "2022-05-06T14:28:19.066043Z"
    }
   },
   "outputs": [],
   "source": [
    "from gql import gql, Client\n",
    "from gql.transport.aiohttp import AIOHTTPTransport\n",
    "import nest_asyncio\n",
    "nest_asyncio.apply()"
   ]
  },
  {
   "cell_type": "code",
   "execution_count": null,
   "metadata": {
    "ExecuteTime": {
     "start_time": "2022-05-06T14:29:42.730Z"
    }
   },
   "outputs": [],
   "source": [
    "# Select your transport with a defined url endpoint\n",
    "transport = AIOHTTPTransport(url=\"https://countries.trevorblades.com/\")\n",
    "\n",
    "# Create a GraphQL client using the defined transport\n",
    "client = Client(transport=transport, fetch_schema_from_transport=True)\n",
    "\n",
    "# Provide a GraphQL query\n",
    "query = gql(\n",
    "    \"\"\"\n",
    "    query getContinents {\n",
    "      continents {\n",
    "        code\n",
    "        name\n",
    "      }\n",
    "    }\n",
    "\"\"\"\n",
    ")\n",
    "\n",
    "# Execute the query on the transport\n",
    "result = await client.execute_async(query)"
   ]
  },
  {
   "cell_type": "code",
   "execution_count": 9,
   "metadata": {
    "ExecuteTime": {
     "end_time": "2022-05-06T14:29:44.380232Z",
     "start_time": "2022-05-06T14:29:44.373318Z"
    }
   },
   "outputs": [
    {
     "name": "stdout",
     "output_type": "stream",
     "text": [
      "{'continents': [{'code': 'AF', 'name': 'Africa'}, {'code': 'AN', 'name': 'Antarctica'}, {'code': 'AS', 'name': 'Asia'}, {'code': 'EU', 'name': 'Europe'}, {'code': 'NA', 'name': 'North America'}, {'code': 'OC', 'name': 'Oceania'}, {'code': 'SA', 'name': 'South America'}]}\n"
     ]
    }
   ],
   "source": [
    "print(result)"
   ]
  },
  {
   "cell_type": "code",
   "execution_count": 10,
   "metadata": {
    "ExecuteTime": {
     "end_time": "2022-05-06T14:33:22.208286Z",
     "start_time": "2022-05-06T14:33:20.818870Z"
    }
   },
   "outputs": [
    {
     "name": "stdout",
     "output_type": "stream",
     "text": [
      "{'continents': [{'code': 'AF', 'name': 'Africa'}, {'code': 'AN', 'name': 'Antarctica'}, {'code': 'AS', 'name': 'Asia'}, {'code': 'EU', 'name': 'Europe'}, {'code': 'NA', 'name': 'North America'}, {'code': 'OC', 'name': 'Oceania'}, {'code': 'SA', 'name': 'South America'}]}\n"
     ]
    }
   ],
   "source": [
    "from gql import Client, gql\n",
    "from gql.transport.requests import RequestsHTTPTransport\n",
    "\n",
    "transport = RequestsHTTPTransport(\n",
    "    url=\"https://countries.trevorblades.com/\",\n",
    "    verify=True,\n",
    "    retries=3,\n",
    ")\n",
    "\n",
    "client = Client(transport=transport, fetch_schema_from_transport=True)\n",
    "\n",
    "query = gql(\n",
    "    \"\"\"\n",
    "    query getContinents {\n",
    "      continents {\n",
    "        code\n",
    "        name\n",
    "      }\n",
    "    }\n",
    "\"\"\"\n",
    ")\n",
    "\n",
    "result = client.execute(query)\n",
    "print(result)"
   ]
  },
  {
   "cell_type": "code",
   "execution_count": 22,
   "metadata": {
    "ExecuteTime": {
     "end_time": "2022-05-06T14:43:34.633253Z",
     "start_time": "2022-05-06T14:43:34.598175Z"
    }
   },
   "outputs": [
    {
     "data": {
      "text/plain": [
       "{'party': {'listPeople': [{'id': 'accountingadmin',\n",
       "    'party': {'party_type_id': 'PERSON'}},\n",
       "   {'id': 'DemoRepAll', 'party': {'party_type_id': 'PERSON'}},\n",
       "   {'id': 'DemoEmployee2', 'party': {'party_type_id': 'PERSON'}},\n",
       "   {'id': 'ltdadmin1', 'party': {'party_type_id': 'PERSON'}},\n",
       "   {'id': 'TestingTeamMember1', 'party': {'party_type_id': 'PERSON'}},\n",
       "   {'id': 'externaluser', 'party': {'party_type_id': 'PERSON'}},\n",
       "   {'id': 'DemoBuyer', 'party': {'party_type_id': 'PERSON'}},\n",
       "   {'id': 'system', 'party': {'party_type_id': 'PERSON'}},\n",
       "   {'id': 'DemoEmployee1', 'party': {'party_type_id': 'PERSON'}},\n",
       "   {'id': 'TestingTeamMember2', 'party': {'party_type_id': 'PERSON'}},\n",
       "   {'id': 'DemoEbayAccount2', 'party': {'party_type_id': 'PERSON'}},\n",
       "   {'id': 'WorkEffortUser', 'party': {'party_type_id': 'PERSON'}},\n",
       "   {'id': 'TestDemoCustomer', 'party': {'party_type_id': 'PERSON'}},\n",
       "   {'id': 'DemoEmployee3', 'party': {'party_type_id': 'PERSON'}},\n",
       "   {'id': 'DemoRepStore', 'party': {'party_type_id': 'PERSON'}},\n",
       "   {'id': 'bizadmin', 'party': {'party_type_id': 'PERSON'}},\n",
       "   {'id': 'Developer2', 'party': {'party_type_id': 'PERSON'}},\n",
       "   {'id': 'TestingTeamMember3', 'party': {'party_type_id': 'PERSON'}},\n",
       "   {'id': 'ltdadmin', 'party': {'party_type_id': 'PERSON'}},\n",
       "   {'id': 'DemoCustomer1', 'party': {'party_type_id': 'PERSON'}},\n",
       "   {'id': 'Developer1', 'party': {'party_type_id': 'PERSON'}},\n",
       "   {'id': 'DemoCustomer3', 'party': {'party_type_id': 'PERSON'}},\n",
       "   {'id': 'AcctBuyer', 'party': {'party_type_id': 'PERSON'}},\n",
       "   {'id': 'DemoEbayAccount1', 'party': {'party_type_id': 'PERSON'}},\n",
       "   {'id': '_NA_', 'party': {'party_type_id': 'PERSON'}},\n",
       "   {'id': 'FrenchCustomer', 'party': {'party_type_id': 'PERSON'}},\n",
       "   {'id': 'Developer3', 'party': {'party_type_id': 'PERSON'}}]}}"
      ]
     },
     "execution_count": 22,
     "metadata": {},
     "output_type": "execute_result"
    }
   ],
   "source": [
    "from gql import Client, gql\n",
    "from gql.transport.requests import RequestsHTTPTransport\n",
    "\n",
    "transport = RequestsHTTPTransport(\n",
    "    url=\"http://127.0.0.1:8080/graphql\",\n",
    "    verify=False,\n",
    "    retries=3,\n",
    ")\n",
    "\n",
    "# client = Client(transport=transport, fetch_schema_from_transport=True)\n",
    "client = Client(transport=transport, fetch_schema_from_transport=False)\n",
    "\n",
    "query = gql(\n",
    "    \"\"\"\n",
    "    {\n",
    "        party {\n",
    "            listPeople {\n",
    "                id\n",
    "                party {\n",
    "                    party_type_id\n",
    "                }\n",
    "            }\n",
    "        }\n",
    "    }\n",
    "\"\"\"\n",
    ")\n",
    "\n",
    "result = client.execute(query)\n",
    "result"
   ]
  },
  {
   "cell_type": "code",
   "execution_count": 20,
   "metadata": {
    "ExecuteTime": {
     "end_time": "2022-05-06T14:37:21.525726Z",
     "start_time": "2022-05-06T14:37:21.494321Z"
    }
   },
   "outputs": [
    {
     "data": {
      "text/plain": [
       "[{'id': 'accountingadmin', 'party': {'party_type_id': 'PERSON'}},\n",
       " {'id': 'DemoRepAll', 'party': {'party_type_id': 'PERSON'}},\n",
       " {'id': 'DemoEmployee2', 'party': {'party_type_id': 'PERSON'}},\n",
       " {'id': 'ltdadmin1', 'party': {'party_type_id': 'PERSON'}},\n",
       " {'id': 'TestingTeamMember1', 'party': {'party_type_id': 'PERSON'}},\n",
       " {'id': 'externaluser', 'party': {'party_type_id': 'PERSON'}},\n",
       " {'id': 'DemoBuyer', 'party': {'party_type_id': 'PERSON'}},\n",
       " {'id': 'system', 'party': {'party_type_id': 'PERSON'}},\n",
       " {'id': 'DemoEmployee1', 'party': {'party_type_id': 'PERSON'}},\n",
       " {'id': 'TestingTeamMember2', 'party': {'party_type_id': 'PERSON'}},\n",
       " {'id': 'DemoEbayAccount2', 'party': {'party_type_id': 'PERSON'}},\n",
       " {'id': 'WorkEffortUser', 'party': {'party_type_id': 'PERSON'}},\n",
       " {'id': 'TestDemoCustomer', 'party': {'party_type_id': 'PERSON'}},\n",
       " {'id': 'DemoEmployee3', 'party': {'party_type_id': 'PERSON'}},\n",
       " {'id': 'DemoRepStore', 'party': {'party_type_id': 'PERSON'}},\n",
       " {'id': 'bizadmin', 'party': {'party_type_id': 'PERSON'}},\n",
       " {'id': 'Developer2', 'party': {'party_type_id': 'PERSON'}},\n",
       " {'id': 'TestingTeamMember3', 'party': {'party_type_id': 'PERSON'}},\n",
       " {'id': 'ltdadmin', 'party': {'party_type_id': 'PERSON'}},\n",
       " {'id': 'DemoCustomer1', 'party': {'party_type_id': 'PERSON'}},\n",
       " {'id': 'Developer1', 'party': {'party_type_id': 'PERSON'}},\n",
       " {'id': 'DemoCustomer3', 'party': {'party_type_id': 'PERSON'}},\n",
       " {'id': 'AcctBuyer', 'party': {'party_type_id': 'PERSON'}},\n",
       " {'id': 'DemoEbayAccount1', 'party': {'party_type_id': 'PERSON'}},\n",
       " {'id': '_NA_', 'party': {'party_type_id': 'PERSON'}},\n",
       " {'id': 'FrenchCustomer', 'party': {'party_type_id': 'PERSON'}},\n",
       " {'id': 'Developer3', 'party': {'party_type_id': 'PERSON'}}]"
      ]
     },
     "execution_count": 20,
     "metadata": {},
     "output_type": "execute_result"
    }
   ],
   "source": [
    "result = client.execute(query)\n",
    "[e for e in result['party']['listPeople']]"
   ]
  },
  {
   "cell_type": "code",
   "execution_count": null,
   "metadata": {
    "ExecuteTime": {
     "end_time": "2022-05-06T14:38:55.344155Z",
     "start_time": "2022-05-06T14:38:54.759186Z"
    }
   },
   "outputs": [],
   "source": []
  }
 ],
 "metadata": {
  "kernelspec": {
   "display_name": "Python 3",
   "language": "python",
   "name": "python3"
  },
  "language_info": {
   "codemirror_mode": {
    "name": "ipython",
    "version": 3
   },
   "file_extension": ".py",
   "mimetype": "text/x-python",
   "name": "python",
   "nbconvert_exporter": "python",
   "pygments_lexer": "ipython3",
   "version": "3.7.7"
  },
  "varInspector": {
   "cols": {
    "lenName": 16,
    "lenType": 16,
    "lenVar": 40
   },
   "kernels_config": {
    "python": {
     "delete_cmd_postfix": "",
     "delete_cmd_prefix": "del ",
     "library": "var_list.py",
     "varRefreshCmd": "print(var_dic_list())"
    },
    "r": {
     "delete_cmd_postfix": ") ",
     "delete_cmd_prefix": "rm(",
     "library": "var_list.r",
     "varRefreshCmd": "cat(var_dic_list()) "
    }
   },
   "types_to_exclude": [
    "module",
    "function",
    "builtin_function_or_method",
    "instance",
    "_Feature"
   ],
   "window_display": false
  }
 },
 "nbformat": 4,
 "nbformat_minor": 4
}
