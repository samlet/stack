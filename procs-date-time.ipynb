{
 "cells": [
  {
   "cell_type": "markdown",
   "metadata": {},
   "source": [
    "⊕ [zachwill/moment: Dealing with dates in Python shouldn't have to suck.](https://github.com/zachwill/moment)\n"
   ]
  },
  {
   "cell_type": "code",
   "execution_count": 2,
   "metadata": {
    "ExecuteTime": {
     "end_time": "2018-12-28T13:39:54.629162Z",
     "start_time": "2018-12-28T13:39:53.163837Z"
    },
    "scrolled": true
   },
   "outputs": [
    {
     "ename": "AttributeError",
     "evalue": "'NoneType' object has no attribute 'strftime'",
     "output_type": "error",
     "traceback": [
      "\u001b[0;31m---------------------------------------------------------------------------\u001b[0m",
      "\u001b[0;31mAttributeError\u001b[0m                            Traceback (most recent call last)",
      "\u001b[0;32m<ipython-input-2-255b1d11f773>\u001b[0m in \u001b[0;36m<module>\u001b[0;34m()\u001b[0m\n\u001b[1;32m     18\u001b[0m \u001b[0;34m\u001b[0m\u001b[0m\n\u001b[1;32m     19\u001b[0m \u001b[0;31m# Create a future moment that would otherwise be really difficult\u001b[0m\u001b[0;34m\u001b[0m\u001b[0;34m\u001b[0m\u001b[0m\n\u001b[0;32m---> 20\u001b[0;31m \u001b[0mprint\u001b[0m\u001b[0;34m(\u001b[0m\u001b[0mmoment\u001b[0m\u001b[0;34m.\u001b[0m\u001b[0mdate\u001b[0m\u001b[0;34m(\u001b[0m\u001b[0;34m\"2 weeks from now\"\u001b[0m\u001b[0;34m)\u001b[0m\u001b[0;34m)\u001b[0m\u001b[0;34m\u001b[0m\u001b[0m\n\u001b[0m\u001b[1;32m     21\u001b[0m \u001b[0;34m\u001b[0m\u001b[0m\n\u001b[1;32m     22\u001b[0m \u001b[0;31m# Create a moment from the current datetime\u001b[0m\u001b[0;34m\u001b[0m\u001b[0;34m\u001b[0m\u001b[0m\n",
      "\u001b[0;32m~/miniconda3/envs/bigdata/lib/python3.6/site-packages/moment/core.py\u001b[0m in \u001b[0;36m__str__\u001b[0;34m(self)\u001b[0m\n\u001b[1;32m    118\u001b[0m \u001b[0;34m\u001b[0m\u001b[0m\n\u001b[1;32m    119\u001b[0m     \u001b[0;32mdef\u001b[0m \u001b[0m__str__\u001b[0m\u001b[0;34m(\u001b[0m\u001b[0mself\u001b[0m\u001b[0;34m)\u001b[0m\u001b[0;34m:\u001b[0m\u001b[0;34m\u001b[0m\u001b[0m\n\u001b[0;32m--> 120\u001b[0;31m         \u001b[0mformatted\u001b[0m \u001b[0;34m=\u001b[0m \u001b[0mself\u001b[0m\u001b[0;34m.\u001b[0m\u001b[0m_date\u001b[0m\u001b[0;34m.\u001b[0m\u001b[0mstrftime\u001b[0m\u001b[0;34m(\u001b[0m\u001b[0;34m\"%Y-%m-%dT%H:%M:%S\"\u001b[0m\u001b[0;34m)\u001b[0m\u001b[0;34m\u001b[0m\u001b[0m\n\u001b[0m\u001b[1;32m    121\u001b[0m         \u001b[0mtz\u001b[0m \u001b[0;34m=\u001b[0m \u001b[0mstr\u001b[0m\u001b[0;34m.\u001b[0m\u001b[0mformat\u001b[0m\u001b[0;34m(\u001b[0m\u001b[0;34m\"{0:+06.2f}\"\u001b[0m\u001b[0;34m,\u001b[0m \u001b[0;34m-\u001b[0m\u001b[0mfloat\u001b[0m\u001b[0;34m(\u001b[0m\u001b[0mtimezone\u001b[0m\u001b[0;34m)\u001b[0m \u001b[0;34m/\u001b[0m \u001b[0;36m3600\u001b[0m\u001b[0;34m)\u001b[0m\u001b[0;34m\u001b[0m\u001b[0m\n\u001b[1;32m    122\u001b[0m         \u001b[0;32mreturn\u001b[0m \u001b[0mformatted\u001b[0m \u001b[0;34m+\u001b[0m \u001b[0mtz\u001b[0m\u001b[0;34m\u001b[0m\u001b[0m\n",
      "\u001b[0;31mAttributeError\u001b[0m: 'NoneType' object has no attribute 'strftime'"
     ]
    }
   ],
   "source": [
    "import moment\n",
    "from datetime import datetime\n",
    "\n",
    "# Create a moment from a string\n",
    "moment.date(\"12-18-2012\")\n",
    "\n",
    "# Create a moment with a specified strftime format\n",
    "moment.date(\"12-18-2012\", \"%m-%d-%Y\")\n",
    "\n",
    "# Moment uses the awesome dateparser library behind the scenes\n",
    "moment.date(\"2012-12-18\")\n",
    "\n",
    "# Create a moment with words in it\n",
    "moment.date(\"December 18, 2012\")\n",
    "\n",
    "# Create a moment that would normally be pretty hard to do\n",
    "moment.date(\"2 weeks ago\")\n",
    "\n",
    "# Create a future moment that would otherwise be really difficult\n",
    "print(moment.date(\"2 weeks from now\"))\n",
    "\n",
    "# Create a moment from the current datetime\n",
    "moment.now()\n",
    "\n",
    "# The moment can also be UTC-based\n",
    "moment.utcnow()\n",
    "\n",
    "# Create a moment with the UTC time zone\n",
    "moment.utc(\"2012-12-18\")\n",
    "\n",
    "# Create a moment from a Unix timestamp\n",
    "moment.unix(1355875153626)\n",
    "\n",
    "# Create a moment from a Unix UTC timestamp\n",
    "moment.unix(1355875153626, utc=True)\n",
    "\n",
    "# Return a datetime instance\n",
    "moment.date(2012, 12, 18).date\n",
    "\n",
    "# We can do the same thing with the UTC method\n",
    "moment.utc(2012, 12, 18).date\n",
    "\n",
    "# Create and format a moment using Moment.js semantics\n",
    "moment.now().format(\"YYYY-M-D\")\n",
    "\n",
    "# Create and format a moment with strftime semantics\n",
    "moment.date(2012, 12, 18).strftime(\"%Y-%m-%d\")\n",
    "\n",
    "# Update your moment's time zone\n",
    "moment.date(datetime(2012, 12, 18)).locale(\"US/Central\").date\n",
    "\n",
    "# Alter the moment's UTC time zone to a different time zone\n",
    "moment.utcnow().timezone(\"US/Eastern\").date\n",
    "\n",
    "# Set and update your moment's time zone. For instance, I'm on the\n",
    "# west coast, but want NYC's current time.\n",
    "moment.now().locale(\"US/Pacific\").timezone(\"US/Eastern\")\n",
    "\n",
    "# In order to manipulate time zones, a locale must always be set or\n",
    "# you must be using UTC.\n",
    "moment.utcnow().timezone(\"US/Eastern\").date\n",
    "\n",
    "# You can also clone a moment, so the original stays unaltered\n",
    "now = moment.utcnow().timezone(\"US/Pacific\")\n",
    "future = now.clone().add(weeks=2)"
   ]
  },
  {
   "cell_type": "code",
   "execution_count": 3,
   "metadata": {
    "ExecuteTime": {
     "end_time": "2018-12-28T13:40:46.529917Z",
     "start_time": "2018-12-28T13:40:46.516393Z"
    }
   },
   "outputs": [
    {
     "data": {
      "text/plain": [
       "datetime.datetime(2012, 11, 29, 0, 0)"
      ]
     },
     "execution_count": 3,
     "metadata": {},
     "output_type": "execute_result"
    }
   ],
   "source": [
    "# Customize your moment by chaining commands\n",
    "moment.date(2012, 12, 18).add(days=2).subtract(weeks=3).date"
   ]
  },
  {
   "cell_type": "code",
   "execution_count": 4,
   "metadata": {
    "ExecuteTime": {
     "end_time": "2018-12-28T13:40:56.839372Z",
     "start_time": "2018-12-28T13:40:56.833083Z"
    }
   },
   "outputs": [
    {
     "data": {
      "text/plain": [
       "'2022-02-28  1:40 PM'"
      ]
     },
     "execution_count": 4,
     "metadata": {},
     "output_type": "execute_result"
    }
   ],
   "source": [
    "# Imagine trying to do this with datetime, right?\n",
    "moment.utcnow().add(years=3, months=2).format(\"YYYY-M-D h:m A\")"
   ]
  }
 ],
 "metadata": {
  "kernelspec": {
   "display_name": "Python 3",
   "language": "python",
   "name": "python3"
  },
  "language_info": {
   "codemirror_mode": {
    "name": "ipython",
    "version": 3
   },
   "file_extension": ".py",
   "mimetype": "text/x-python",
   "name": "python",
   "nbconvert_exporter": "python",
   "pygments_lexer": "ipython3",
   "version": "3.6.4"
  },
  "varInspector": {
   "cols": {
    "lenName": 16,
    "lenType": 16,
    "lenVar": 40
   },
   "kernels_config": {
    "python": {
     "delete_cmd_postfix": "",
     "delete_cmd_prefix": "del ",
     "library": "var_list.py",
     "varRefreshCmd": "print(var_dic_list())"
    },
    "r": {
     "delete_cmd_postfix": ") ",
     "delete_cmd_prefix": "rm(",
     "library": "var_list.r",
     "varRefreshCmd": "cat(var_dic_list()) "
    }
   },
   "types_to_exclude": [
    "module",
    "function",
    "builtin_function_or_method",
    "instance",
    "_Feature"
   ],
   "window_display": false
  }
 },
 "nbformat": 4,
 "nbformat_minor": 2
}
