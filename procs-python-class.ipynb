{
 "cells": [
  {
   "cell_type": "markdown",
   "metadata": {},
   "source": [
    "- ⊕ [python类的继承 - Bigberg - 博客园](https://www.cnblogs.com/bigberg/p/7182741.html)\n",
    "- ⊕ [【python】详解类class的继承、__init__初始化、super方法（五） - brucewong0516的博客 - CSDN博客](https://blog.csdn.net/brucewong0516/article/details/79121179)\n",
    "\n"
   ]
  },
  {
   "cell_type": "code",
   "execution_count": 1,
   "metadata": {
    "ExecuteTime": {
     "end_time": "2018-12-24T13:07:17.389236Z",
     "start_time": "2018-12-24T13:07:17.365326Z"
    }
   },
   "outputs": [
    {
     "name": "stdout",
     "output_type": "stream",
     "text": [
      "bigberg 22 weight Chinese\n",
      "bigberg is speaking chinese\n"
     ]
    }
   ],
   "source": [
    "# 如果我们对基类/父类的方法需要修改，可以在子类中重构该方法。如下的talk()方法　\n",
    "class Person(object):\n",
    " \n",
    "    def __init__(self, name, age):\n",
    "        self.name = name\n",
    "        self.age = age\n",
    "        self.weight = 'weight'\n",
    " \n",
    "    def talk(self):\n",
    "        print(\"person is talking....\")\n",
    " \n",
    "class Chinese(Person):\n",
    " \n",
    "    def __init__(self, name, age, language): \n",
    "        Person.__init__(self, name, age) \n",
    "        self.language = language\n",
    "        print(self.name, self.age, self.weight, self.language)\n",
    " \n",
    "    def talk(self):  # 子类 重构方法\n",
    "        print('%s is speaking chinese' % self.name)\n",
    " \n",
    "    def walk(self):\n",
    "        print('is walking...')\n",
    " \n",
    "c = Chinese('bigberg', 22, 'Chinese')\n",
    "c.talk()"
   ]
  },
  {
   "cell_type": "code",
   "execution_count": 2,
   "metadata": {
    "ExecuteTime": {
     "end_time": "2018-12-24T13:07:50.414867Z",
     "start_time": "2018-12-24T13:07:50.390342Z"
    }
   },
   "outputs": [],
   "source": [
    "class Person(object):\n",
    " \n",
    "    def __init__(self, name, age):\n",
    "        self.name = name\n",
    "        self.age = age\n",
    "        self.weight = 'weight'\n",
    " \n",
    "    def talk(self):\n",
    "        print(\"person is talking....\")\n",
    " \n",
    " \n",
    "class Chinese(Person):\n",
    " \n",
    "    def __init__(self, name, age, language):  # 先继承，在重构\n",
    "        Person.__init__(self, name, age)  #继承父类的构造方法，也可以写成：super(Chinese,self).__init__(name,age)\n",
    "        self.language = language    # 定义类的本身属性\n",
    " \n",
    "    def walk(self):\n",
    "        print('is walking...')\n",
    " \n",
    " \n",
    "class American(Person):\n",
    "    pass\n",
    " \n",
    "c = Chinese('bigberg', 22, 'Chinese')"
   ]
  },
  {
   "cell_type": "code",
   "execution_count": 3,
   "metadata": {
    "ExecuteTime": {
     "end_time": "2018-12-24T13:10:21.703824Z",
     "start_time": "2018-12-24T13:10:21.673781Z"
    }
   },
   "outputs": [
    {
     "name": "stdout",
     "output_type": "stream",
     "text": [
      "[0, 1, 2, 3, 4, 5, 6, 7, 8, 9]\n",
      "77 - 2 = 75\n",
      "True\n",
      "True\n",
      "the bases are: (<class '__main__.Parent'>,)\n",
      "\n",
      "    parent class\n",
      "    \n",
      "None\n"
     ]
    }
   ],
   "source": [
    "class Parent(object):\n",
    "    '''\n",
    "    parent class\n",
    "    '''\n",
    "    numList = []\n",
    "    def numdiff(self, a, b):\n",
    "        return a-b\n",
    "\n",
    "class Child(Parent):\n",
    "    pass\n",
    "\n",
    "\n",
    "c = Child()    \n",
    "# subclass will inherit attributes from parent class \n",
    "#子类继承父类的属性   \n",
    "Child.numList.extend(range(10))\n",
    "print(Child.numList)\n",
    "\n",
    "print(\"77 - 2 =\", c.numdiff(77, 2))\n",
    "\n",
    "# built-in function issubclass() \n",
    "print(issubclass(Child, Parent))\n",
    "print(issubclass(Child, object))\n",
    "\n",
    "# __bases__ can show all the parent classes\n",
    "#bases属性查看父类\n",
    "print('the bases are:',Child.__bases__)\n",
    "\n",
    "# doc string will not be inherited\n",
    "#doc属性不会被继承\n",
    "print(Parent.__doc__)\n",
    "print(Child.__doc__)"
   ]
  },
  {
   "cell_type": "code",
   "execution_count": 4,
   "metadata": {
    "ExecuteTime": {
     "end_time": "2018-12-24T13:10:59.303031Z",
     "start_time": "2018-12-24T13:10:59.291769Z"
    }
   },
   "outputs": [
    {
     "name": "stdout",
     "output_type": "stream",
     "text": [
      "create an instance of: Child\n",
      "name attribute is: init Child\n"
     ]
    }
   ],
   "source": [
    "# 子类没有定义自己的初始化函数，父类的初始化函数会被默认调用:\n",
    "\n",
    "#定义父类：Parent\n",
    "class Parent(object):\n",
    "    def __init__(self, name):\n",
    "        self.name = name\n",
    "        print(\"create an instance of:\", self.__class__.__name__)\n",
    "        print(\"name attribute is:\", self.name)\n",
    "#定义子类Child ，继承父类Parent       \n",
    "class Child(Parent):\n",
    "    pass\n",
    "#子类实例化时，由于子类没有初始化，此时父类的初始化函数就会默认被调用\n",
    "#且必须传入父类的参数name\n",
    "c = Child(\"init Child\") "
   ]
  },
  {
   "cell_type": "code",
   "execution_count": 6,
   "metadata": {
    "ExecuteTime": {
     "end_time": "2018-12-24T13:13:20.078228Z",
     "start_time": "2018-12-24T13:13:20.064351Z"
    }
   },
   "outputs": [
    {
     "name": "stdout",
     "output_type": "stream",
     "text": [
      "call __init__ from Child class\n"
     ]
    }
   ],
   "source": [
    "# 子类定义了自己的初始化函数，而在子类中没有显示调用父类的初始化函数，则父类的属性不会被初始化\n",
    "class Parent(object):\n",
    "    def __init__(self, name):\n",
    "        self.name = name\n",
    "        print(\"create an instance of:\", self.__class__.__name__)\n",
    "        print(\"name attribute is:\", self.name)\n",
    "#子类继承父类        \n",
    "class Child(Parent):\n",
    "    #子类中没有显示调用父类的初始化函数\n",
    "    def __init__(self):\n",
    "        print(\"call __init__ from Child class\")\n",
    "#c = Child(\"init Child\") \n",
    "#print()  \n",
    "#将子类实例化  \n",
    "c = Child()\n",
    "# print(c.name)\n",
    "# AttributeError: 'Child' object has no attribute 'name'"
   ]
  },
  {
   "cell_type": "code",
   "execution_count": 7,
   "metadata": {
    "ExecuteTime": {
     "end_time": "2018-12-24T13:14:19.269599Z",
     "start_time": "2018-12-24T13:14:19.252986Z"
    }
   },
   "outputs": [
    {
     "name": "stdout",
     "output_type": "stream",
     "text": [
      "create an instance of: Parent\n",
      "name attribute is: tom\n",
      "call __init__ from Child class\n",
      "create an instance of: Child\n",
      "name attribute is: data from Child\n",
      "data from Child\n"
     ]
    }
   ],
   "source": [
    "# 如果子类定义了自己的初始化函数，显示调用父类，子类和父类的属性都会被初始化\n",
    "\n",
    "class Parent(object):\n",
    "    def __init__(self, name):\n",
    "        self.name = name\n",
    "        print(\"create an instance of:\", self.__class__.__name__)\n",
    "        print(\"name attribute is:\", self.name)\n",
    "\n",
    "class Child(Parent):\n",
    "    def __init__(self):\n",
    "        print(\"call __init__ from Child class\")\n",
    "        super(Child,self).__init__(\"data from Child\")   #要将子类Child和self传递进去\n",
    "#c = Child(\"init Child\") \n",
    "#print() \n",
    "d = Parent('tom')   \n",
    "c = Child()\n",
    "print(c.name)"
   ]
  },
  {
   "cell_type": "code",
   "execution_count": 8,
   "metadata": {
    "ExecuteTime": {
     "end_time": "2018-12-24T13:15:06.753576Z",
     "start_time": "2018-12-24T13:15:06.740101Z"
    }
   },
   "outputs": [
    {
     "name": "stdout",
     "output_type": "stream",
     "text": [
      "This is from Parent\n",
      "This is from Child\n",
      "Hi, Child  value\n"
     ]
    }
   ],
   "source": [
    "# 在子类中，一般会定义与父类相同的属性（数据属性，方法），从而来实现子类特有的行为。也就是说，子类会继承父类的所有的属性和方法，子类也可以覆盖父类同名的属性和方法。\n",
    "class Parent(object):\n",
    "    Value = \"Hi, Parent value\"\n",
    "    def fun(self):\n",
    "        print(\"This is from Parent\")\n",
    "#定义子类，继承父类               \n",
    "class Child(Parent):\n",
    "    Value = \"Hi, Child  value\"\n",
    "    def ffun(self):\n",
    "        print(\"This is from Child\")\n",
    "\n",
    "c = Child()    \n",
    "c.fun()\n",
    "c.ffun()\n",
    "print(Child.Value)"
   ]
  },
  {
   "cell_type": "code",
   "execution_count": 9,
   "metadata": {
    "ExecuteTime": {
     "end_time": "2018-12-24T13:15:39.139117Z",
     "start_time": "2018-12-24T13:15:39.127519Z"
    }
   },
   "outputs": [
    {
     "name": "stdout",
     "output_type": "stream",
     "text": [
      "This is from Child\n",
      "This is from Parent\n"
     ]
    }
   ],
   "source": [
    "# 有时候可能需要在子类中访问父类的一些属性，可以通过父类名直接访问父类的属性，当调用父类的方法是，需要将”self”显示的传递进去的方式：\n",
    "\n",
    "class Parent(object):\n",
    "    Value = \"Hi, Parent value\"\n",
    "    def fun(self):\n",
    "        print(\"This is from Parent\")\n",
    "\n",
    "class Child(Parent):\n",
    "    Value = \"Hi, Child  value\"\n",
    "    def fun(self):\n",
    "        print(\"This is from Child\")\n",
    "        Parent.fun(self)   #调用父类Parent的fun函数方法\n",
    "\n",
    "c = Child()    \n",
    "c.fun()"
   ]
  },
  {
   "cell_type": "code",
   "execution_count": 11,
   "metadata": {
    "ExecuteTime": {
     "end_time": "2018-12-24T13:16:07.169287Z",
     "start_time": "2018-12-24T13:16:07.152209Z"
    }
   },
   "outputs": [
    {
     "name": "stdout",
     "output_type": "stream",
     "text": [
      "This is from Child\n",
      "This is from Parent\n"
     ]
    }
   ],
   "source": [
    "# 这种方式有一个不好的地方就是，需要经父类名硬编码到子类中，为了解决这个问题，可以使用Python中的super关键字：\n",
    "\n",
    "class Parent(object):\n",
    "    Value = \"Hi, Parent value\"\n",
    "    def fun(self):\n",
    "        print(\"This is from Parent\")\n",
    "\n",
    "class Child(Parent):\n",
    "    Value = \"Hi, Child  value\"\n",
    "    def fun(self):\n",
    "        print(\"This is from Child\")\n",
    "        #Parent.fun(self)\n",
    "        super(Child,self).fun()  #相当于用super的方法与上一调用父类的语句置换\n",
    "\n",
    "c = Child()    \n",
    "c.fun()"
   ]
  }
 ],
 "metadata": {
  "kernelspec": {
   "display_name": "Python 3",
   "language": "python",
   "name": "python3"
  },
  "language_info": {
   "codemirror_mode": {
    "name": "ipython",
    "version": 3
   },
   "file_extension": ".py",
   "mimetype": "text/x-python",
   "name": "python",
   "nbconvert_exporter": "python",
   "pygments_lexer": "ipython3",
   "version": "3.6.4"
  },
  "varInspector": {
   "cols": {
    "lenName": 16,
    "lenType": 16,
    "lenVar": 40
   },
   "kernels_config": {
    "python": {
     "delete_cmd_postfix": "",
     "delete_cmd_prefix": "del ",
     "library": "var_list.py",
     "varRefreshCmd": "print(var_dic_list())"
    },
    "r": {
     "delete_cmd_postfix": ") ",
     "delete_cmd_prefix": "rm(",
     "library": "var_list.r",
     "varRefreshCmd": "cat(var_dic_list()) "
    }
   },
   "types_to_exclude": [
    "module",
    "function",
    "builtin_function_or_method",
    "instance",
    "_Feature"
   ],
   "window_display": false
  }
 },
 "nbformat": 4,
 "nbformat_minor": 2
}
