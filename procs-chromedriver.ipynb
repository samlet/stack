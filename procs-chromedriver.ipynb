{
 "cells": [
  {
   "cell_type": "code",
   "execution_count": 1,
   "metadata": {
    "ExecuteTime": {
     "end_time": "2019-09-07T09:27:20.277561Z",
     "start_time": "2019-09-07T09:27:20.128796Z"
    }
   },
   "outputs": [],
   "source": [
    "import time\n",
    "from selenium import webdriver"
   ]
  },
  {
   "cell_type": "code",
   "execution_count": 8,
   "metadata": {
    "ExecuteTime": {
     "end_time": "2019-09-07T09:31:44.347844Z",
     "start_time": "2019-09-07T09:31:35.578918Z"
    }
   },
   "outputs": [],
   "source": [
    "driver = webdriver.Chrome('/usr/local/bin/chromedriver')  # Optional argument, if not specified will search path.\n",
    "driver.get('http://www.baidu.com/');\n",
    "time.sleep(5) # Let the user actually see something!\n",
    "search_box = driver.find_element_by_name('wd')\n",
    "search_box.send_keys('ChromeDriver')\n",
    "search_box.submit()"
   ]
  },
  {
   "cell_type": "code",
   "execution_count": 9,
   "metadata": {
    "ExecuteTime": {
     "end_time": "2019-09-07T09:34:28.030858Z",
     "start_time": "2019-09-07T09:34:27.739180Z"
    }
   },
   "outputs": [],
   "source": [
    "search_box = driver.find_element_by_name('wd')\n",
    "search_box.send_keys('ChromeDriver')\n",
    "search_box.submit()"
   ]
  },
  {
   "cell_type": "code",
   "execution_count": 13,
   "metadata": {
    "ExecuteTime": {
     "end_time": "2019-09-07T09:44:42.978709Z",
     "start_time": "2019-09-07T09:44:42.923135Z"
    }
   },
   "outputs": [
    {
     "name": "stdout",
     "output_type": "stream",
     "text": [
      "百度为您找到相关结果约42,200,000个\n"
     ]
    }
   ],
   "source": [
    "nums = driver.find_elements_by_class_name(\"nums_text\")\n",
    "for el in nums:\n",
    "    print(el.text)"
   ]
  },
  {
   "cell_type": "code",
   "execution_count": 14,
   "metadata": {
    "ExecuteTime": {
     "end_time": "2019-09-07T09:57:53.081851Z",
     "start_time": "2019-09-07T09:57:52.885313Z"
    }
   },
   "outputs": [],
   "source": [
    "driver.quit()"
   ]
  },
  {
   "cell_type": "code",
   "execution_count": 16,
   "metadata": {
    "ExecuteTime": {
     "end_time": "2019-09-07T15:38:01.664970Z",
     "start_time": "2019-09-07T15:37:52.691137Z"
    }
   },
   "outputs": [],
   "source": [
    "# preq: $ chromedriver \n",
    "from selenium import webdriver\n",
    "driver = webdriver.Remote('http://127.0.0.1:9515')\n",
    "driver.get('http://www.baidu.com/');\n",
    "time.sleep(5) # Let the user actually see something!\n",
    "driver.quit()"
   ]
  }
 ],
 "metadata": {
  "kernelspec": {
   "display_name": "Python 3",
   "language": "python",
   "name": "python3"
  },
  "language_info": {
   "codemirror_mode": {
    "name": "ipython",
    "version": 3
   },
   "file_extension": ".py",
   "mimetype": "text/x-python",
   "name": "python",
   "nbconvert_exporter": "python",
   "pygments_lexer": "ipython3",
   "version": "3.6.4"
  },
  "varInspector": {
   "cols": {
    "lenName": 16,
    "lenType": 16,
    "lenVar": 40
   },
   "kernels_config": {
    "python": {
     "delete_cmd_postfix": "",
     "delete_cmd_prefix": "del ",
     "library": "var_list.py",
     "varRefreshCmd": "print(var_dic_list())"
    },
    "r": {
     "delete_cmd_postfix": ") ",
     "delete_cmd_prefix": "rm(",
     "library": "var_list.r",
     "varRefreshCmd": "cat(var_dic_list()) "
    }
   },
   "types_to_exclude": [
    "module",
    "function",
    "builtin_function_or_method",
    "instance",
    "_Feature"
   ],
   "window_display": false
  }
 },
 "nbformat": 4,
 "nbformat_minor": 2
}
