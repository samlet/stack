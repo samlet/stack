{
 "cells": [
  {
   "cell_type": "code",
   "execution_count": 7,
   "metadata": {
    "ExecuteTime": {
     "end_time": "2018-12-26T12:57:02.010314Z",
     "start_time": "2018-12-26T12:57:02.001825Z"
    }
   },
   "outputs": [],
   "source": [
    "import sys\n",
    "\n",
    "from google.protobuf.json_format import MessageToJson\n",
    "from client_wrapper import ServiceClient\n",
    "\n",
    "import nlpserv_pb2 as nlp_messages\n",
    "import nlpserv_pb2_grpc as nlp_service\n",
    "\n",
    "client=ServiceClient(nlp_service, 'NlpProcsStub', 'localhost', 10052)"
   ]
  },
  {
   "cell_type": "code",
   "execution_count": 19,
   "metadata": {
    "ExecuteTime": {
     "end_time": "2018-12-26T13:15:18.378481Z",
     "start_time": "2018-12-26T13:15:18.364303Z"
    }
   },
   "outputs": [
    {
     "name": "stdout",
     "output_type": "stream",
     "text": [
      "这里 r 2\n",
      "是 v 1\n",
      "北京 ns 2\n"
     ]
    }
   ],
   "source": [
    "from utils import dump\n",
    "request = nlp_messages.NlTokenizerRequest(text=nlp_messages.NlText(text=\"这里是北京\"))\n",
    "response = client.Tokenizer(request)\n",
    "# print(response)\n",
    "for t in response.tokens:\n",
    "    # print(MessageToJson(resp))\n",
    "    print(t.text, t.label, t.length)"
   ]
  }
 ],
 "metadata": {
  "kernelspec": {
   "display_name": "Python 3",
   "language": "python",
   "name": "python3"
  },
  "language_info": {
   "codemirror_mode": {
    "name": "ipython",
    "version": 3
   },
   "file_extension": ".py",
   "mimetype": "text/x-python",
   "name": "python",
   "nbconvert_exporter": "python",
   "pygments_lexer": "ipython3",
   "version": "3.6.4"
  },
  "varInspector": {
   "cols": {
    "lenName": 16,
    "lenType": 16,
    "lenVar": 40
   },
   "kernels_config": {
    "python": {
     "delete_cmd_postfix": "",
     "delete_cmd_prefix": "del ",
     "library": "var_list.py",
     "varRefreshCmd": "print(var_dic_list())"
    },
    "r": {
     "delete_cmd_postfix": ") ",
     "delete_cmd_prefix": "rm(",
     "library": "var_list.r",
     "varRefreshCmd": "cat(var_dic_list()) "
    }
   },
   "types_to_exclude": [
    "module",
    "function",
    "builtin_function_or_method",
    "instance",
    "_Feature"
   ],
   "window_display": false
  }
 },
 "nbformat": 4,
 "nbformat_minor": 2
}
