{
 "cells": [
  {
   "cell_type": "markdown",
   "metadata": {},
   "source": [
    "将表单-服务绑定关系找出来；这样可以预判列表字段的数据源，生成新表单时很有用；"
   ]
  },
  {
   "cell_type": "code",
   "execution_count": 2,
   "metadata": {
    "ExecuteTime": {
     "end_time": "2019-04-15T12:34:00.851435Z",
     "start_time": "2019-04-15T12:34:00.822654Z"
    }
   },
   "outputs": [],
   "source": [
    "from sagas.ofbiz.entities import OfEntity as e, oc, finder\n",
    "form_loc='component://webtools/widget/ServiceForms.xml;@JobManagerLockEnable;zh_CN'\n",
    "# form_loc='component://webtools/widget/ServiceForms.xml;JobManagerLockEnable;en_US'\n",
    "# form_loc='component://webtools/widget/ServiceForms.xml;AddJobManagerLock;zh_CN'\n",
    "forms=oc.component('form_mgr')\n",
    "form=forms.getMetaForm(form_loc)"
   ]
  },
  {
   "cell_type": "code",
   "execution_count": 11,
   "metadata": {
    "ExecuteTime": {
     "end_time": "2019-04-15T17:34:48.172283Z",
     "start_time": "2019-04-15T17:34:48.165884Z"
    }
   },
   "outputs": [
    {
     "name": "stdout",
     "output_type": "stream",
     "text": [
      "JobManagerLockEnable list 0\n"
     ]
    }
   ],
   "source": [
    "print(form.getName(), form.getType(), len(form.getTarget()))"
   ]
  },
  {
   "cell_type": "code",
   "execution_count": 16,
   "metadata": {
    "ExecuteTime": {
     "end_time": "2019-04-15T17:45:17.450145Z",
     "start_time": "2019-04-15T17:44:54.198501Z"
    }
   },
   "outputs": [
    {
     "name": "stdout",
     "output_type": "stream",
     "text": [
      "-> find a grid @JobManagerLockEnable\n",
      "-> find a grid @ListStats\n",
      "-> find a grid @ListRequestStats\n",
      "-> find a grid @ListEventStats\n",
      "-> find a grid @ListViewStats\n",
      "-> find a grid @ListRequestBins\n",
      "-> find a grid @ListMetrics\n",
      "-> find a grid @ListCache\n",
      "-> find a grid @ListCacheElements\n",
      "-> find a grid @ListGeoAssoc\n",
      "-> find a grid @ListEntities\n",
      "-> find a grid @ListVisits\n",
      "-> find a grid @ListLoggedInUsers\n",
      "-> find a grid @ListParty\n",
      "-> find a grid @ListPartyN\n",
      "-> find a grid @ListPartyI\n",
      "-> find a grid @ListPartyP\n",
      "-> find a grid @ListPartyT\n",
      "-> find a grid @ListPartyO\n",
      "-> find a grid @ListPartyUserLogin\n",
      "-> find a grid @ListPartyRates\n",
      "-> find a grid @ListSegmentRoles\n",
      "-> find a grid @ListPartyContents\n",
      "-> find a grid @ListPartyRelationships\n",
      "-> find a grid @ListInvoicesApplPayments\n",
      "-> find a grid @ListUnAppliedInvoices\n",
      "-> find a grid @ListUnAppliedPayments\n",
      "-> find a grid @ViewPartyRoles\n",
      "-> find a grid @ListPreference\n",
      "-> find a grid @PartyBillingAccount\n",
      "-> find a grid @PartyReturns\n",
      "-> find a grid @ListProductStoreRole\n",
      "-> find a grid @ExportPartyCsv\n",
      "-> find a grid @ListPartyContactLists\n",
      "-> find a grid @ListLookupContactList\n",
      "-> find a grid @showCalEventRoles\n",
      "-> find a grid @showCalEventRolesDel\n",
      "-> find a grid @ListWorkEffortCommEvents\n",
      "-> find a grid @ListMyTimesheets\n",
      "-> find a grid @ListMyRates\n",
      "-> find a grid @ListTimesheets\n",
      "-> find a grid @DisplayTimesheetEntries\n",
      "-> find a grid @ListTimesheetRoles\n",
      "-> find a grid @ListTimesheetEntries\n",
      "-> find a grid @ListRequests\n",
      "-> find a grid @ListLookupWorkEffort\n",
      "-> find a grid @ListLookupTimesheet\n",
      "-> find a grid @ListImageManagement\n",
      "-> find a grid @ListPeopleApproved\n",
      "-> find a grid @ListImageUpload\n",
      "-> find a grid @ListLookupImage\n",
      "-> find a grid @ListImageRecentlyApproved\n",
      "-> find a grid @ListImageExist\n",
      "-> find a grid @ListImageReplace\n",
      "-> find a grid @ListLookupImageFrame\n",
      "-> find a grid @SizeListOfProduct\n",
      "-> find a grid @ListRunningMrpJobs\n",
      "-> find a grid @ListFinishedMrpJobs\n",
      "-> find a grid @ListProductManufacturingRules\n",
      "-> find a grid @ListBom\n",
      "-> find a grid @ListRoutings\n",
      "-> find a grid @ListRoutingTasks\n",
      "-> find a grid @ListRoutingTaskCosts\n",
      "-> find a grid @ListRoutingTaskRoutings\n",
      "-> find a grid @ListRoutingTaskAssoc\n",
      "-> find a grid @ListRoutingProductLink\n",
      "-> find a grid @ListRoutingTaskProducts\n",
      "-> find a grid @ListRoutingTaskFixedAssets\n",
      "-> find a grid @ListRoutingTaskParties\n",
      "-> find a grid @ListRoutingTaskSkills\n",
      "-> find a grid @ListCostComponentCalc\n",
      "-> find a grid @ListGatewayResponses\n",
      "-> find a grid @ViewGatewayResponsePayments\n",
      "-> find a grid @ListFixedAssets\n",
      "-> find a grid @ListLookupFixedAsset\n",
      "-> find a grid @ListBillingAccount\n",
      "-> find a grid @ListAgreements\n",
      "-> find a grid @ListAgreementItems\n",
      "-> find a grid @ListPaymentGroupMember\n",
      "-> find a grid @ListLookupReconciliation\n",
      "-> find a grid @ListLookupCustomTimePeriod\n",
      "-> find a grid @ListAgreements\n",
      "-> find a grid @ListAgreementItems\n",
      "-> find a grid @ListAgreementItemTerms\n",
      "-> find a grid @ListAgreementTerms\n",
      "-> find a grid @ListAgreementContent\n",
      "-> find a grid @ListAgreementItemProducts\n",
      "-> find a grid @ListAgreementItemFacilities\n",
      "-> find a grid @ListAgreementItemSupplierProducts\n",
      "-> find a grid @ListAgreementItemProductsForReport\n",
      "-> find a grid @ListAgreementItemSupplierProductsForReport\n",
      "-> find a grid @ListAgreementPromoAppls\n",
      "-> find a grid @ListAgreementItemParties\n",
      "-> find a grid @ListAgreementGeographicalApplic\n",
      "-> find a grid @ListAgreementWorkEffortApplics\n",
      "-> find a grid @ListAgreementRoles\n",
      "-> find a grid @ListBillingAccounts\n",
      "-> find a grid @ListBillingAccountsByParty\n",
      "-> find a grid @ListBillingAccountInvoices\n",
      "-> find a grid @ListBillingAccountRoles\n",
      "-> find a grid @ListBillingAccountTerms\n",
      "-> find a grid @ListBillingAccountPayments\n",
      "-> find a grid @ListBillingAccountOrders\n",
      "-> find a grid @ListCostComponentCalc\n",
      "-> find a grid @ListOrderRoles\n",
      "-> find a grid @ListTrackingCode\n",
      "-> find a grid @ListTrackingCodeOrders\n",
      "-> find a grid @ListLookupVisit\n",
      "-> find a grid @ListTrackingCodeType\n",
      "-> find a grid @ListLookupTrackingCodeType\n",
      "-> find a grid @ViewPartiesCreatedByVCard\n",
      "-> find a grid @ViewPartiesExistInVCard\n",
      "-> find a grid @listFindBlogContent\n",
      "-> find a grid @ListExamples\n",
      "-> find a grid @ListExamplesWithFeatures\n",
      "-> find a grid @ListExamplesWithItems\n",
      "-> find a grid @ListExampleItemsInLine\n",
      "-> find a grid @ListExamplesWithStatus\n",
      "-> find a grid @ExampleStatusInLine\n",
      "-> find a grid @ListExampleExport\n",
      "-> find a grid @ListExamplesAjax\n",
      "-> find a grid @ListExampleItems\n",
      "-> find a grid @ListExampleFeatureAppls\n",
      "-> find a grid @ListExampleFeatures\n",
      "-> find a grid @ListExampleFeatureAppls\n",
      "-> find a grid @LookupListExampleFeature\n",
      "total forms: 1808\n",
      "form_services 547\n",
      "form_reqs 715\n"
     ]
    }
   ],
   "source": [
    "from sagas.ofbiz.forms import get_form_locs\n",
    "services=oc.all_service_names()\n",
    "\n",
    "def extract_services(form_locs):\n",
    "    form_services=[]\n",
    "    form_reqs=[]\n",
    "    for form_loc in form_locs:\n",
    "        form=forms.getMetaForm(form_loc)\n",
    "        if len(form.getTarget())>0:\n",
    "            target=form.getTarget()\n",
    "            if target in services:\n",
    "                form_services.append((form.getName(), target))\n",
    "            else:\n",
    "                form_reqs.append((form.getName(), target))\n",
    "    return form_services, form_reqs\n",
    "\n",
    "# form_locs=['component://webtools/widget/ServiceForms.xml;AddJobManagerLock;zh_CN']\n",
    "form_locs=get_form_locs()\n",
    "form_services, form_reqs=extract_services(form_locs)\n",
    "print('form_services', len(form_services))\n",
    "print('form_reqs', len(form_reqs))"
   ]
  },
  {
   "cell_type": "code",
   "execution_count": 17,
   "metadata": {
    "ExecuteTime": {
     "end_time": "2019-04-15T17:46:18.788695Z",
     "start_time": "2019-04-15T17:46:18.775549Z"
    }
   },
   "outputs": [
    {
     "data": {
      "text/plain": [
       "[('FindGenericEntity', 'list${entity}'),\n",
       " ('EditPortalPageColumnWidth', 'updatePortalPageColumnWidth'),\n",
       " ('CommonPortletEdit', 'setPortalPortletAttributes'),\n",
       " ('GenericPortalPageParam', 'setPortalPortletAttributes'),\n",
       " ('FindGenericEntityParam', 'setPortalPortletAttributes')]"
      ]
     },
     "execution_count": 17,
     "metadata": {},
     "output_type": "execute_result"
    }
   ],
   "source": [
    "form_reqs[:5]"
   ]
  },
  {
   "cell_type": "code",
   "execution_count": 18,
   "metadata": {
    "ExecuteTime": {
     "end_time": "2019-04-15T17:48:44.929775Z",
     "start_time": "2019-04-15T17:48:44.923695Z"
    }
   },
   "outputs": [
    {
     "data": {
      "text/plain": [
       "[('NewPortalPage', 'createPortalPage'),\n",
       " ('AddSecurityGroupPermission', 'addSecurityPermissionToSecurityGroup'),\n",
       " ('AddSecurityGroupPermissionManual', 'addSecurityPermissionToSecurityGroup'),\n",
       " ('AddSecurityGroupProtectedView', 'addProtectedViewToSecurityGroup'),\n",
       " ('AddSecurityGroupUserLogin', 'addUserLoginToSecurityGroup')]"
      ]
     },
     "execution_count": 18,
     "metadata": {},
     "output_type": "execute_result"
    }
   ],
   "source": [
    "form_services[:5]"
   ]
  },
  {
   "cell_type": "code",
   "execution_count": 20,
   "metadata": {
    "ExecuteTime": {
     "end_time": "2019-04-15T19:19:57.494052Z",
     "start_time": "2019-04-15T19:19:57.488227Z"
    }
   },
   "outputs": [
    {
     "data": {
      "text/plain": [
       "'NewPortalPage'"
      ]
     },
     "execution_count": 20,
     "metadata": {},
     "output_type": "execute_result"
    }
   ],
   "source": [
    "form_services[0][0]"
   ]
  },
  {
   "cell_type": "code",
   "execution_count": 23,
   "metadata": {
    "ExecuteTime": {
     "end_time": "2019-04-15T19:24:43.275625Z",
     "start_time": "2019-04-15T19:24:43.258195Z"
    }
   },
   "outputs": [
    {
     "name": "stdout",
     "output_type": "stream",
     "text": [
      "done\n"
     ]
    }
   ],
   "source": [
    "import forms_pb2 as fo\n",
    "import protobuf_utils as pu\n",
    "folist=[]\n",
    "frlist=[]\n",
    "for item in form_services:\n",
    "    folist.append(fo.MetaTuple(values=item))\n",
    "for item in form_reqs:\n",
    "    frlist.append(fo.MetaTuple(values=item))\n",
    "fs=fo.MetaFormServices(formServices=folist, formRequests=frlist)\n",
    "pu.write_proto_to(fs, 'data/resources/form_services.data')\n",
    "print('done')"
   ]
  },
  {
   "cell_type": "code",
   "execution_count": 24,
   "metadata": {
    "ExecuteTime": {
     "end_time": "2019-04-15T19:25:48.055579Z",
     "start_time": "2019-04-15T19:25:48.046990Z"
    }
   },
   "outputs": [
    {
     "data": {
      "text/plain": [
       "values: \"NewPortalPage\"\n",
       "values: \"createPortalPage\""
      ]
     },
     "execution_count": 24,
     "metadata": {},
     "output_type": "execute_result"
    }
   ],
   "source": [
    "fs=fo.MetaFormServices()\n",
    "pu.read_proto(fs, 'data/resources/form_services.data')\n",
    "fs.formServices[0]"
   ]
  },
  {
   "cell_type": "code",
   "execution_count": 28,
   "metadata": {
    "ExecuteTime": {
     "end_time": "2019-04-15T20:50:02.174338Z",
     "start_time": "2019-04-15T20:50:01.106558Z"
    }
   },
   "outputs": [
    {
     "name": "stdout",
     "output_type": "stream",
     "text": [
      "¤ /Users/xiaofeiwu/jcloud/vagrant/fedora/fedora-28/ofbiz/ofbiz-framework/applications/accounting/config/AccountingUiLabels.xml\n",
      "+--------+----------------------------------+\n",
      "| lang   | value                            |\n",
      "|--------+----------------------------------|\n",
      "| es     | Editar elemento de acuerdo       |\n",
      "| th     | แก้ไขหัวข้อสัญญา                     |\n",
      "| hi-IN  | अनुबंध मद संपादित करें                |\n",
      "| ru     | Изменить элемент договора        |\n",
      "| fr     | Modifier un article de l'accord  |\n",
      "| nl     | Regel overeenkomst aanpassen     |\n",
      "| ja     | 契約アイテムを編集               |\n",
      "| ar     | تعديل بند الإتفاقية              |\n",
      "| vi     | Chỉnh sửa Hạng mục               |\n",
      "| de     | Vereinbarungsposition bearbeiten |\n",
      "| it     | Aggiorna Riga Contratto          |\n",
      "| zh-TW  | 編輯合約條款                     |\n",
      "| pt     | Editar Item do acordo            |\n",
      "| en     | Edit Agreement Item              |\n",
      "| ro     | Actualizare Linie Contract       |\n",
      "| zh     | 编辑合同条款                     |\n",
      "+--------+----------------------------------+\n"
     ]
    }
   ],
   "source": [
    "from sagas.ofbiz.resources import read_resource\n",
    "resource, rs_lookups = read_resource()\n",
    "\n",
    "def print_property(prop):\n",
    "    from tabulate import tabulate\n",
    "    # print all labels\n",
    "    table_header = ['lang', 'value']\n",
    "    table_data = []\n",
    "    print('¤', prop.location)\n",
    "    # print(prop.values['en'], ',', prop.values['zh'])\n",
    "    for key in prop.values.keys():\n",
    "        # print(key, '☈', prop.values[key])\n",
    "        table_data.append((key, prop.values[key]))\n",
    "    print(tabulate(table_data, headers=table_header, tablefmt='psql'))\n",
    "        \n",
    "# \"PageTitleEditAgreementItem\"\n",
    "form_name=\"EditAgreementItem\"\n",
    "form_title=\"PageTitle\"+form_name\n",
    "if form_title in resource.properties:\n",
    "    prop = resource.properties[form_title]\n",
    "    print_property(prop)\n",
    "else:\n",
    "    print('not found title for form %s'%form_name)"
   ]
  },
  {
   "cell_type": "code",
   "execution_count": 29,
   "metadata": {
    "ExecuteTime": {
     "end_time": "2019-04-15T20:56:41.820282Z",
     "start_time": "2019-04-15T20:56:41.386152Z"
    }
   },
   "outputs": [
    {
     "name": "stdout",
     "output_type": "stream",
     "text": [
      "-> find a grid @JobManagerLockEnable\n",
      "-> find a grid @ListStats\n",
      "-> find a grid @ListRequestStats\n",
      "-> find a grid @ListEventStats\n",
      "-> find a grid @ListViewStats\n",
      "-> find a grid @ListRequestBins\n",
      "-> find a grid @ListMetrics\n",
      "-> find a grid @ListCache\n",
      "-> find a grid @ListCacheElements\n",
      "-> find a grid @ListGeoAssoc\n",
      "-> find a grid @ListEntities\n",
      "-> find a grid @ListVisits\n",
      "-> find a grid @ListLoggedInUsers\n",
      "-> find a grid @ListParty\n",
      "-> find a grid @ListPartyN\n",
      "-> find a grid @ListPartyI\n",
      "-> find a grid @ListPartyP\n",
      "-> find a grid @ListPartyT\n",
      "-> find a grid @ListPartyO\n",
      "-> find a grid @ListPartyUserLogin\n",
      "-> find a grid @ListPartyRates\n",
      "-> find a grid @ListSegmentRoles\n",
      "-> find a grid @ListPartyContents\n",
      "-> find a grid @ListPartyRelationships\n",
      "-> find a grid @ListInvoicesApplPayments\n",
      "-> find a grid @ListUnAppliedInvoices\n",
      "-> find a grid @ListUnAppliedPayments\n",
      "-> find a grid @ViewPartyRoles\n",
      "-> find a grid @ListPreference\n",
      "-> find a grid @PartyBillingAccount\n",
      "-> find a grid @PartyReturns\n",
      "-> find a grid @ListProductStoreRole\n",
      "-> find a grid @ExportPartyCsv\n",
      "-> find a grid @ListPartyContactLists\n",
      "-> find a grid @ListLookupContactList\n",
      "-> find a grid @showCalEventRoles\n",
      "-> find a grid @showCalEventRolesDel\n",
      "-> find a grid @ListWorkEffortCommEvents\n",
      "-> find a grid @ListMyTimesheets\n",
      "-> find a grid @ListMyRates\n",
      "-> find a grid @ListTimesheets\n",
      "-> find a grid @DisplayTimesheetEntries\n",
      "-> find a grid @ListTimesheetRoles\n",
      "-> find a grid @ListTimesheetEntries\n",
      "-> find a grid @ListRequests\n",
      "-> find a grid @ListLookupWorkEffort\n",
      "-> find a grid @ListLookupTimesheet\n",
      "-> find a grid @ListImageManagement\n",
      "-> find a grid @ListPeopleApproved\n",
      "-> find a grid @ListImageUpload\n",
      "-> find a grid @ListLookupImage\n",
      "-> find a grid @ListImageRecentlyApproved\n",
      "-> find a grid @ListImageExist\n",
      "-> find a grid @ListImageReplace\n",
      "-> find a grid @ListLookupImageFrame\n",
      "-> find a grid @SizeListOfProduct\n",
      "-> find a grid @ListRunningMrpJobs\n",
      "-> find a grid @ListFinishedMrpJobs\n",
      "-> find a grid @ListProductManufacturingRules\n",
      "-> find a grid @ListBom\n",
      "-> find a grid @ListRoutings\n",
      "-> find a grid @ListRoutingTasks\n",
      "-> find a grid @ListRoutingTaskCosts\n",
      "-> find a grid @ListRoutingTaskRoutings\n",
      "-> find a grid @ListRoutingTaskAssoc\n",
      "-> find a grid @ListRoutingProductLink\n",
      "-> find a grid @ListRoutingTaskProducts\n",
      "-> find a grid @ListRoutingTaskFixedAssets\n",
      "-> find a grid @ListRoutingTaskParties\n",
      "-> find a grid @ListRoutingTaskSkills\n",
      "-> find a grid @ListCostComponentCalc\n",
      "-> find a grid @ListGatewayResponses\n",
      "-> find a grid @ViewGatewayResponsePayments\n",
      "-> find a grid @ListFixedAssets\n",
      "-> find a grid @ListLookupFixedAsset\n",
      "-> find a grid @ListBillingAccount\n",
      "-> find a grid @ListAgreements\n",
      "-> find a grid @ListAgreementItems\n",
      "-> find a grid @ListPaymentGroupMember\n",
      "-> find a grid @ListLookupReconciliation\n",
      "-> find a grid @ListLookupCustomTimePeriod\n",
      "-> find a grid @ListAgreements\n",
      "-> find a grid @ListAgreementItems\n",
      "-> find a grid @ListAgreementItemTerms\n",
      "-> find a grid @ListAgreementTerms\n",
      "-> find a grid @ListAgreementContent\n",
      "-> find a grid @ListAgreementItemProducts\n",
      "-> find a grid @ListAgreementItemFacilities\n",
      "-> find a grid @ListAgreementItemSupplierProducts\n",
      "-> find a grid @ListAgreementItemProductsForReport\n",
      "-> find a grid @ListAgreementItemSupplierProductsForReport\n",
      "-> find a grid @ListAgreementPromoAppls\n",
      "-> find a grid @ListAgreementItemParties\n",
      "-> find a grid @ListAgreementGeographicalApplic\n",
      "-> find a grid @ListAgreementWorkEffortApplics\n",
      "-> find a grid @ListAgreementRoles\n",
      "-> find a grid @ListBillingAccounts\n",
      "-> find a grid @ListBillingAccountsByParty\n",
      "-> find a grid @ListBillingAccountInvoices\n",
      "-> find a grid @ListBillingAccountRoles\n",
      "-> find a grid @ListBillingAccountTerms\n",
      "-> find a grid @ListBillingAccountPayments\n",
      "-> find a grid @ListBillingAccountOrders\n",
      "-> find a grid @ListCostComponentCalc\n",
      "-> find a grid @ListOrderRoles\n",
      "-> find a grid @ListTrackingCode\n",
      "-> find a grid @ListTrackingCodeOrders\n",
      "-> find a grid @ListLookupVisit\n",
      "-> find a grid @ListTrackingCodeType\n",
      "-> find a grid @ListLookupTrackingCodeType\n",
      "-> find a grid @ViewPartiesCreatedByVCard\n",
      "-> find a grid @ViewPartiesExistInVCard\n",
      "-> find a grid @listFindBlogContent\n",
      "-> find a grid @ListExamples\n",
      "-> find a grid @ListExamplesWithFeatures\n",
      "-> find a grid @ListExamplesWithItems\n",
      "-> find a grid @ListExampleItemsInLine\n",
      "-> find a grid @ListExamplesWithStatus\n",
      "-> find a grid @ExampleStatusInLine\n",
      "-> find a grid @ListExampleExport\n",
      "-> find a grid @ListExamplesAjax\n",
      "-> find a grid @ListExampleItems\n",
      "-> find a grid @ListExampleFeatureAppls\n",
      "-> find a grid @ListExampleFeatures\n",
      "-> find a grid @ListExampleFeatureAppls\n",
      "-> find a grid @LookupListExampleFeature\n"
     ]
    }
   ],
   "source": [
    "import sagas.ofbiz.forms as fo\n",
    "form_list = fo.get_form_list()\n",
    "form_index = fo.collect_forms(form_list)"
   ]
  },
  {
   "cell_type": "code",
   "execution_count": 34,
   "metadata": {
    "ExecuteTime": {
     "end_time": "2019-04-15T21:01:02.111813Z",
     "start_time": "2019-04-15T21:01:02.086808Z"
    },
    "scrolled": true
   },
   "outputs": [
    {
     "name": "stdout",
     "output_type": "stream",
     "text": [
      "1808\n",
      "has title: 296\n",
      "no title: 1512\n"
     ]
    }
   ],
   "source": [
    "def retrieve_title():\n",
    "    has_titles=[]\n",
    "    no_titles=[]\n",
    "    for form_name in form_index.keys():\n",
    "        form_title=\"PageTitle\"+form_name\n",
    "        if form_title in resource.properties:\n",
    "            has_titles.append(form_name)\n",
    "        else:\n",
    "            # print('not found title for form %s'%form_name)\n",
    "            no_titles.append(form_name)\n",
    "    return has_titles, no_titles\n",
    "print(len(form_index.keys()))\n",
    "has_titles, no_titles=retrieve_title()\n",
    "print('has title:', len(has_titles))\n",
    "print('no title:', len(no_titles))"
   ]
  },
  {
   "cell_type": "code",
   "execution_count": 40,
   "metadata": {
    "ExecuteTime": {
     "end_time": "2019-04-15T21:16:05.059662Z",
     "start_time": "2019-04-15T21:16:05.051597Z"
    }
   },
   "outputs": [
    {
     "data": {
      "text/plain": [
       "'Edit Agreement Item'"
      ]
     },
     "execution_count": 40,
     "metadata": {},
     "output_type": "execute_result"
    }
   ],
   "source": [
    "from sagas.util.str_converters import to_camel_case, to_snake_case, to_words\n",
    "to_words(to_snake_case('EditAgreementItem'), True)"
   ]
  }
 ],
 "metadata": {
  "kernelspec": {
   "display_name": "Python 3",
   "language": "python",
   "name": "python3"
  },
  "language_info": {
   "codemirror_mode": {
    "name": "ipython",
    "version": 3
   },
   "file_extension": ".py",
   "mimetype": "text/x-python",
   "name": "python",
   "nbconvert_exporter": "python",
   "pygments_lexer": "ipython3",
   "version": "3.6.4"
  },
  "varInspector": {
   "cols": {
    "lenName": 16,
    "lenType": 16,
    "lenVar": 40
   },
   "kernels_config": {
    "python": {
     "delete_cmd_postfix": "",
     "delete_cmd_prefix": "del ",
     "library": "var_list.py",
     "varRefreshCmd": "print(var_dic_list())"
    },
    "r": {
     "delete_cmd_postfix": ") ",
     "delete_cmd_prefix": "rm(",
     "library": "var_list.r",
     "varRefreshCmd": "cat(var_dic_list()) "
    }
   },
   "types_to_exclude": [
    "module",
    "function",
    "builtin_function_or_method",
    "instance",
    "_Feature"
   ],
   "window_display": false
  }
 },
 "nbformat": 4,
 "nbformat_minor": 2
}
