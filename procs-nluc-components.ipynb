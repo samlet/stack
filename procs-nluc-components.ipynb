{
 "cells": [
  {
   "cell_type": "code",
   "execution_count": 1,
   "metadata": {
    "ExecuteTime": {
     "end_time": "2019-10-19T02:28:08.048102Z",
     "start_time": "2019-10-19T02:28:07.975300Z"
    }
   },
   "outputs": [],
   "source": [
    "%load_ext autoreload\n",
    "%autoreload 2"
   ]
  },
  {
   "cell_type": "code",
   "execution_count": 2,
   "metadata": {
    "ExecuteTime": {
     "end_time": "2019-10-19T02:28:14.263576Z",
     "start_time": "2019-10-19T02:28:13.303647Z"
    }
   },
   "outputs": [],
   "source": [
    "from sagas.nlu.utils import fix_sents\n",
    "from sagas.conf.conf import cf\n",
    "from sagas.nlu.uni_remote import dep_parse\n",
    "from sagas.nlu.corenlp_parser import get_chunks\n",
    "\n",
    "def parse_comps(sents, source):\n",
    "    sents=fix_sents(sents, source)\n",
    "\n",
    "    engine=cf.engine(source)\n",
    "    doc_jsonify, resp = dep_parse(sents, source, engine, ['predicts'])\n",
    "    if len(resp['predicts']) > 0:\n",
    "        rs=resp['predicts']\n",
    "    else:\n",
    "        rs = get_chunks(doc_jsonify)\n",
    "    return rs"
   ]
  },
  {
   "cell_type": "code",
   "execution_count": 45,
   "metadata": {
    "ExecuteTime": {
     "end_time": "2019-10-19T05:38:45.952160Z",
     "start_time": "2019-10-19T05:38:45.705412Z"
    }
   },
   "outputs": [
    {
     "name": "stdout",
     "output_type": "stream",
     "text": [
      ".. request is {'lang': 'ja', 'sents': '彼女は美人なだけでなく、頭もいいです。', 'engine': 'knp', 'pipelines': ['predicts']}\n",
      "words count 4\n",
      "[\n",
      "  {\n",
      "    \"type\": \"predicate\",\n",
      "    \"word\": \"美人なだけでなく、\",\n",
      "    \"head\": \"\",\n",
      "    \"domains\": {\n",
      "      \"ガ\": [\n",
      "        \"彼女\"\n",
      "      ]\n",
      "    },\n",
      "    \"synsets\": [\n",
      "      {\n",
      "        \"word\": \"美人なだけでなく、/美人\",\n",
      "        \"indicator\": \"predicate\",\n",
      "        \"comments\": [\n",
      "          \"smasher.n.02\"\n",
      "        ]\n",
      "      },\n",
      "      {\n",
      "        \"word\": \"彼女\",\n",
      "        \"indicator\": \"ガ\",\n",
      "        \"comments\": [\n",
      "          \"girlfriend.n.02\"\n",
      "        ]\n",
      "      }\n",
      "    ]\n",
      "  },\n",
      "  {\n",
      "    \"type\": \"predicate\",\n",
      "    \"word\": \"いいです。\",\n",
      "    \"head\": \"\",\n",
      "    \"domains\": {\n",
      "      \"ガ\": [\n",
      "        \"頭\"\n",
      "      ]\n",
      "    },\n",
      "    \"synsets\": [\n",
      "      {\n",
      "        \"word\": \"いいです。/良い\",\n",
      "        \"indicator\": \"predicate\",\n",
      "        \"comments\": [\n",
      "          \"well.s.03\",\n",
      "          \"beautiful.a.01\",\n",
      "          \"stunning.s.04\",\n",
      "          \"right.a.05\",\n",
      "          \"fine.s.04\",\n",
      "          \"good.s.20\",\n",
      "          \"good.a.01\",\n",
      "          \"bang-up.s.01\",\n",
      "          \"good.a.03\",\n",
      "          \"good.s.16\",\n",
      "          \"just.a.01\",\n",
      "          \"charitable.s.03\",\n",
      "          \"nice.a.01\",\n",
      "          \"good.s.06\",\n",
      "          \"pleasant.s.02\",\n",
      "          \"good.s.12\",\n",
      "          \"pleasant.a.01\",\n",
      "          \"beautiful.s.02\",\n",
      "          \"correct.s.02\",\n",
      "          \"decent.s.01\",\n",
      "          \"right.a.04\",\n",
      "          \"good.s.07\",\n",
      "          \"satisfactory.a.01\",\n",
      "          \"all_right.s.01\",\n",
      "          \"brilliant.s.01\",\n",
      "          \"well.a.01\"\n",
      "        ]\n",
      "      },\n",
      "      {\n",
      "        \"word\": \"頭\",\n",
      "        \"indicator\": \"ガ\",\n",
      "        \"comments\": [\n",
      "          \"head.n.31\",\n",
      "          \"head.n.01\",\n",
      "          \"mind.n.01\",\n",
      "          \"noddle.n.01\",\n",
      "          \"top.n.01\",\n",
      "          \"head.n.04\",\n",
      "          \"capitulum.n.01\",\n",
      "          \"caput.n.01\",\n",
      "          \"head.n.10\"\n",
      "        ]\n",
      "      }\n",
      "    ]\n",
      "  }\n",
      "]\n"
     ]
    }
   ],
   "source": [
    "import sagas\n",
    "import json\n",
    "from sagas.nlu.uni_remote_viz import list_synsets\n",
    "def make_map(partcol, textcol):\n",
    "    return dict(zip(partcol, textcol))\n",
    "def list_contrast(rs, lang):\n",
    "    result=[]\n",
    "    for serial, r in enumerate(rs):\n",
    "        type_name = r['type']\n",
    "        df = sagas.to_df(r['domains'], ['rel', 'index', 'text', 'lemma', 'children', 'features'])\n",
    "        rec={'type':type_name, 'word':r['word'], 'head': r['head'] if 'head' in r else ''}\n",
    "        rec['domains']=make_map(df['rel'], df['children'])\n",
    "        rec['synsets']=list_synsets(r, lang, True)\n",
    "        result.append(rec)\n",
    "    return result\n",
    "\n",
    "def procs(sents, source):\n",
    "    rs=parse_comps(sents, source=source)\n",
    "    result=list_contrast(rs, source)    \n",
    "    return result\n",
    "\n",
    "sents='彼女は 美人な だけでなく 、 頭も いい です 。'\n",
    "source='ja'\n",
    "json_r=procs(sents, source)\n",
    "print(json.dumps(json_r, indent=2, ensure_ascii=False))"
   ]
  },
  {
   "cell_type": "code",
   "execution_count": 58,
   "metadata": {
    "ExecuteTime": {
     "end_time": "2019-10-19T05:43:59.181822Z",
     "start_time": "2019-10-19T05:43:59.102117Z"
    }
   },
   "outputs": [
    {
     "name": "stdout",
     "output_type": "stream",
     "text": [
      "[{'comments': ['smasher.n.02'],\n",
      "  'indicator': 'predicate',\n",
      "  'word': '美人なだけでなく、/美人'},\n",
      " {'comments': ['girlfriend.n.02'], 'indicator': 'ガ', 'word': '彼女'},\n",
      " {'comments': ['well.s.03',\n",
      "               'beautiful.a.01',\n",
      "               'stunning.s.04',\n",
      "               'right.a.05',\n",
      "               'fine.s.04',\n",
      "               'good.s.20',\n",
      "               'good.a.01',\n",
      "               'bang-up.s.01',\n",
      "               'good.a.03',\n",
      "               'good.s.16',\n",
      "               'just.a.01',\n",
      "               'charitable.s.03',\n",
      "               'nice.a.01',\n",
      "               'good.s.06',\n",
      "               'pleasant.s.02',\n",
      "               'good.s.12',\n",
      "               'pleasant.a.01',\n",
      "               'beautiful.s.02',\n",
      "               'correct.s.02',\n",
      "               'decent.s.01',\n",
      "               'right.a.04',\n",
      "               'good.s.07',\n",
      "               'satisfactory.a.01',\n",
      "               'all_right.s.01',\n",
      "               'brilliant.s.01',\n",
      "               'well.a.01'],\n",
      "  'indicator': 'predicate',\n",
      "  'word': 'いいです。/良い'},\n",
      " {'comments': ['head.n.31',\n",
      "               'head.n.01',\n",
      "               'mind.n.01',\n",
      "               'noddle.n.01',\n",
      "               'top.n.01',\n",
      "               'head.n.04',\n",
      "               'capitulum.n.01',\n",
      "               'caput.n.01',\n",
      "               'head.n.10'],\n",
      "  'indicator': 'ガ',\n",
      "  'word': '頭'}]\n",
      "[('predicate', '美人なだけでなく、/美人'),\n",
      " ('ガ', '彼女'),\n",
      " ('predicate', 'いいです。/良い'),\n",
      " ('ガ', '頭')]\n"
     ]
    }
   ],
   "source": [
    "from pprint import pprint\n",
    "syns=[s for c in json_r for s in c['synsets']]\n",
    "words=[(s['indicator'], s['word']) for s in syns]\n",
    "pprint(syns)\n",
    "pprint(words)"
   ]
  },
  {
   "cell_type": "code",
   "execution_count": 21,
   "metadata": {
    "ExecuteTime": {
     "end_time": "2019-10-19T04:44:15.565427Z",
     "start_time": "2019-10-19T04:44:12.760328Z"
    }
   },
   "outputs": [
    {
     "data": {
      "text/plain": [
       "['well.s.03',\n",
       " 'beautiful.a.01',\n",
       " 'stunning.s.04',\n",
       " 'right.a.05',\n",
       " 'fine.s.04',\n",
       " 'good.s.20',\n",
       " 'good.a.01',\n",
       " 'bang-up.s.01',\n",
       " 'good.a.03',\n",
       " 'good.s.16',\n",
       " 'just.a.01',\n",
       " 'charitable.s.03',\n",
       " 'nice.a.01',\n",
       " 'good.s.06',\n",
       " 'pleasant.s.02',\n",
       " 'good.s.12',\n",
       " 'pleasant.a.01',\n",
       " 'beautiful.s.02',\n",
       " 'correct.s.02',\n",
       " 'decent.s.01',\n",
       " 'right.a.04',\n",
       " 'good.s.07',\n",
       " 'satisfactory.a.01',\n",
       " 'all_right.s.01',\n",
       " 'brilliant.s.01',\n",
       " 'well.a.01']"
      ]
     },
     "execution_count": 21,
     "metadata": {},
     "output_type": "execute_result"
    }
   ],
   "source": [
    "from sagas.nlu.nlu_cli import retrieve_word_info\n",
    "rs=retrieve_word_info('get_synsets', \"良い\", 'ja', '*')\n",
    "rs"
   ]
  },
  {
   "cell_type": "code",
   "execution_count": 41,
   "metadata": {
    "ExecuteTime": {
     "end_time": "2019-10-19T05:08:08.946753Z",
     "start_time": "2019-10-19T05:08:06.012293Z"
    }
   },
   "outputs": [
    {
     "data": {
      "text/plain": [
       "[{'chain': ['smasher.n.02',\n",
       "   'woman.n.01',\n",
       "   'adult.n.01',\n",
       "   'female.n.02',\n",
       "   'person.n.01',\n",
       "   'causal_agent.n.01',\n",
       "   'organism.n.01',\n",
       "   'physical_entity.n.01',\n",
       "   'living_thing.n.01',\n",
       "   'entity.n.01',\n",
       "   'whole.n.02',\n",
       "   'object.n.01'],\n",
       "  'name': 'smasher.n.02',\n",
       "  'offset': 10613996}]"
      ]
     },
     "execution_count": 41,
     "metadata": {},
     "output_type": "execute_result"
    }
   ],
   "source": [
    "from sagas.nlu.nlu_cli import get_chains, get_word_sets\n",
    "rs=get_chains(\"美人なだけでなく/美人\", 'ja', '*')\n",
    "rs"
   ]
  },
  {
   "cell_type": "code",
   "execution_count": 42,
   "metadata": {
    "ExecuteTime": {
     "end_time": "2019-10-19T05:08:16.742117Z",
     "start_time": "2019-10-19T05:08:16.251498Z"
    }
   },
   "outputs": [
    {
     "data": {
      "text/plain": [
       "{'data': [{'definition': 'a very attractive or seductive looking woman',\n",
       "   'domains': {'region': [], 'topic': [], 'usage': []},\n",
       "   'examples': [],\n",
       "   'lemmas': {'en': ['smasher',\n",
       "     'stunner',\n",
       "     'knockout',\n",
       "     'beauty',\n",
       "     'ravisher',\n",
       "     'sweetheart',\n",
       "     'peach',\n",
       "     'lulu',\n",
       "     'looker',\n",
       "     'mantrap',\n",
       "     'dish'],\n",
       "    'ja': ['シャン',\n",
       "     'ベイビー',\n",
       "     'ビューティ',\n",
       "     'ビューティー',\n",
       "     '佳人',\n",
       "     '傾国',\n",
       "     '傾城',\n",
       "     '別嬪',\n",
       "     '契情',\n",
       "     '小町',\n",
       "     '小町娘',\n",
       "     '尤物',\n",
       "     '弁天',\n",
       "     '物いう花',\n",
       "     '物言う花',\n",
       "     '紅裙',\n",
       "     '美人',\n",
       "     '美女',\n",
       "     '美姫',\n",
       "     '美形',\n",
       "     '美玉',\n",
       "     '蛾眉',\n",
       "     'もの言う花',\n",
       "     '辨天',\n",
       "     '麗人'],\n",
       "    'zh': []},\n",
       "   'name': 'smasher.n.02'}],\n",
       " 'result': 'success'}"
      ]
     },
     "execution_count": 42,
     "metadata": {},
     "output_type": "execute_result"
    }
   ],
   "source": [
    "get_word_sets(\"美人なだけでなく/美人\", 'ja', '*')"
   ]
  },
  {
   "cell_type": "code",
   "execution_count": 43,
   "metadata": {
    "ExecuteTime": {
     "end_time": "2019-10-19T05:08:26.161966Z",
     "start_time": "2019-10-19T05:08:26.070164Z"
    }
   },
   "outputs": [
    {
     "data": {
      "text/plain": [
       "{'data': [{'definition': 'a human being',\n",
       "   'domains': {'region': [], 'topic': [], 'usage': []},\n",
       "   'examples': ['there was too much for one person to do'],\n",
       "   'lemmas': {'en': ['person',\n",
       "     'individual',\n",
       "     'someone',\n",
       "     'somebody',\n",
       "     'mortal',\n",
       "     'soul'],\n",
       "    'ja': ['-人', '人', '人間', '個人', '-員', '-者'],\n",
       "    'zh': ['个人', '个体', '凡人', '某人', '灵魂']},\n",
       "   'name': 'person.n.01'},\n",
       "  {'definition': 'any living or extinct member of the family Hominidae characterized by superior intelligence, articulate speech, and erect carriage',\n",
       "   'domains': {'region': [], 'topic': [], 'usage': []},\n",
       "   'examples': [],\n",
       "   'lemmas': {'en': ['homo', 'man', 'human_being', 'human'],\n",
       "    'ja': ['ヒト', '人', '人間', 'ヒト属'],\n",
       "    'zh': ['人', '人类']},\n",
       "   'name': 'homo.n.02'},\n",
       "  {'definition': 'all of the living human inhabitants of the earth',\n",
       "   'domains': {'region': [], 'topic': [], 'usage': []},\n",
       "   'examples': ['all the world loves a lover',\n",
       "    \"she always used `humankind' because `mankind' seemed to slight the women\"],\n",
       "   'lemmas': {'en': ['world',\n",
       "     'human_race',\n",
       "     'humanity',\n",
       "     'humankind',\n",
       "     'human_beings',\n",
       "     'humans',\n",
       "     'mankind',\n",
       "     'man'],\n",
       "    'ja': ['ヒト', '人', '人間', '人類'],\n",
       "    'zh': ['人类']},\n",
       "   'name': 'world.n.08'},\n",
       "  {'definition': 'the complex of all the attributes--behavioral, temperamental, emotional and mental--that characterize a unique individual',\n",
       "   'domains': {'region': [], 'topic': [], 'usage': []},\n",
       "   'examples': ['their different reactions reflected their very different personalities',\n",
       "    'it is his nature to help others'],\n",
       "   'lemmas': {'en': ['personality'],\n",
       "    'ja': ['パーソナリティ',\n",
       "     'パーソナリティー',\n",
       "     '人',\n",
       "     '人となり',\n",
       "     '人品',\n",
       "     '人柄',\n",
       "     '人格',\n",
       "     '人物',\n",
       "     '個性',\n",
       "     '品性',\n",
       "     '心柄',\n",
       "     '性格',\n",
       "     '性質',\n",
       "     '柄'],\n",
       "    'zh': ['个性', '人格', '性格']},\n",
       "   'name': 'personality.n.01'},\n",
       "  {'definition': 'a human body (usually including the clothing)',\n",
       "   'domains': {'region': [], 'topic': [], 'usage': []},\n",
       "   'examples': ['a weapon was hidden on his person'],\n",
       "   'lemmas': {'en': ['person'], 'ja': ['人', '人格者', '人称', '人間'], 'zh': []},\n",
       "   'name': 'person.n.02'},\n",
       "  {'definition': 'the force of workers available',\n",
       "   'domains': {'region': [], 'topic': [], 'usage': []},\n",
       "   'examples': [],\n",
       "   'lemmas': {'en': ['work_force', 'workforce', 'manpower', 'hands', 'men'],\n",
       "    'ja': ['マンパワー', '人', '人員', '人手', '労働人口', '労働力', '労働力人口', '有効労働力', '稼働人口'],\n",
       "    'zh': []},\n",
       "   'name': 'work_force.n.01'},\n",
       "  {'definition': 'the generic use of the word to refer to any human being',\n",
       "   'domains': {'region': [], 'topic': [], 'usage': []},\n",
       "   'examples': ['it was every man for himself'],\n",
       "   'lemmas': {'en': ['man'], 'ja': ['ヒト', '人', '人間'], 'zh': []},\n",
       "   'name': 'man.n.03'},\n",
       "  {'definition': 'an ordinary man',\n",
       "   'domains': {'region': [], 'topic': [], 'usage': []},\n",
       "   'examples': ['a lucky stiff', 'a working stiff'],\n",
       "   'lemmas': {'en': ['stiff'], 'ja': ['人', '凡人', '凡夫'], 'zh': []},\n",
       "   'name': 'stiff.n.01'}],\n",
       " 'result': 'success'}"
      ]
     },
     "execution_count": 43,
     "metadata": {},
     "output_type": "execute_result"
    }
   ],
   "source": [
    "get_word_sets(\"人\", 'ja', '*')"
   ]
  },
  {
   "cell_type": "code",
   "execution_count": 4,
   "metadata": {
    "ExecuteTime": {
     "end_time": "2019-10-19T02:28:44.128611Z",
     "start_time": "2019-10-19T02:28:40.643258Z"
    }
   },
   "outputs": [
    {
     "name": "stdout",
     "output_type": "stream",
     "text": [
      ".. request is {'lang': 'de', 'sents': 'Die Aufnahmen begannen im November.', 'engine': 'corenlp', 'pipelines': ['predicts']}\n",
      "words count 7\n",
      "[\n",
      "  {\n",
      "    \"type\": \"verb_domains\",\n",
      "    \"word\": \"begannen\",\n",
      "    \"head\": \"\",\n",
      "    \"domains\": {\n",
      "      \"nsubj\": [\n",
      "        \"Die\",\n",
      "        \"Aufnahmen\"\n",
      "      ],\n",
      "      \"obl\": [\n",
      "        \"in\",\n",
      "        \"dem\",\n",
      "        \"November\"\n",
      "      ],\n",
      "      \"punct\": [\n",
      "        \".\"\n",
      "      ]\n",
      "    },\n",
      "    \"synsets\": [\n",
      "      {\n",
      "        \"word\": \"begannen/beginnen\",\n",
      "        \"indicator\": \"verb_domains\",\n",
      "        \"comments\": [\n",
      "          \"get_down.v.07\",\n",
      "          \"begin.v.03\",\n",
      "          \"begin.v.08\"\n",
      "        ]\n",
      "      },\n",
      "      {\n",
      "        \"word\": \"November\",\n",
      "        \"indicator\": \"obl\",\n",
      "        \"comments\": [\n",
      "          \"november.n.01\"\n",
      "        ]\n",
      "      }\n",
      "    ]\n",
      "  }\n",
      "]\n"
     ]
    }
   ],
   "source": [
    "procs('Die Aufnahmen begannen im November.', 'de')"
   ]
  },
  {
   "cell_type": "code",
   "execution_count": 15,
   "metadata": {
    "ExecuteTime": {
     "end_time": "2019-10-16T19:59:07.147474Z",
     "start_time": "2019-10-16T19:59:07.061103Z"
    }
   },
   "outputs": [
    {
     "name": "stdout",
     "output_type": "stream",
     "text": [
      "  /**\n",
      "   * Creates a new OrderItemShipGroup with maySplit and isGift filled. - OrderItemShipGroup\n",
      "   *\n",
      "   * Requires orderId\n",
      "   * Returns shipGroupSeqId[String], shipGroupSeqId[String]\n",
      "   */\n",
      "  Future<OfResult> addOrderItemShipGroup(OrderItemShipGroup ent, ) =>\n",
      "      client.invoke('addOrderItemShipGroup', ent, {  });\n",
      "{\n",
      "  \"requires\": [\n",
      "    {\n",
      "      \"name\": \"orderId\",\n",
      "      \"type\": \"String\"\n",
      "    }\n",
      "  ],\n",
      "  \"returns\": [\n",
      "    {\n",
      "      \"name\": \"shipGroupSeqId\",\n",
      "      \"type\": \"String\"\n",
      "    },\n",
      "    {\n",
      "      \"name\": \"shipGroupSeqId\",\n",
      "      \"type\": \"String\"\n",
      "    }\n",
      "  ],\n",
      "  \"parameters\": [\n",
      "    {\n",
      "      \"name\": \"ent\",\n",
      "      \"type\": \"OrderItemShipGroup\"\n",
      "    }\n",
      "  ]\n",
      "}\n"
     ]
    }
   ],
   "source": [
    "from sagas.ofbiz.service_gen import get_service_package, gen_service_stub, get_service_groups\n",
    "import json\n",
    "\n",
    "# name='addOrderItemShipGroup'\n",
    "\n",
    "def print_service(name):\n",
    "    lines=[]\n",
    "    schema=gen_service_stub(lines, name)\n",
    "    print('\\n'.join(lines))\n",
    "    print(json.dumps(schema, indent=2))\n",
    "print_service('addOrderItemShipGroup')"
   ]
  },
  {
   "cell_type": "code",
   "execution_count": 14,
   "metadata": {
    "ExecuteTime": {
     "end_time": "2019-10-16T19:58:22.415621Z",
     "start_time": "2019-10-16T19:58:22.297415Z"
    }
   },
   "outputs": [
    {
     "name": "stdout",
     "output_type": "stream",
     "text": [
      "  /**\n",
      "   * Get WorkEffort Events by a period specified by periodType attribute (one of the\n",
      "          java.util.Calendar field values). Return a Map with periodStart as the key and a Collection of events for that period as value\n",
      "          If filterOutCanceledEvents is set to Boolean(true) then workEfforts with currentStatusId=EVENT_CANCELLED will not be returned.\n",
      "          To limit the events to a particular partyId, specify the partyId.  To limit the events to a set of partyIds, specify a Collection of partyIds.\n",
      "         - \n",
      "   *\n",
      "   * Requires start, numPeriods, periodType\n",
      "   * Returns periods[java.util.List], maxConcurrentEntries[java.lang.Integer]\n",
      "   */\n",
      "  Future<OfResult> getWorkEffortEventsByPeriod({String calendarType, String partyId, List<dynamic> partyIds, String facilityId, String fixedAssetId, String workEffortTypeId, @required DateTime start, @required int numPeriods, @required int periodType, bool filterOutCanceledEvents, List<dynamic> entityExprList}) =>\n",
      "      client.invoke('getWorkEffortEventsByPeriod', null, { 'calendarType': calendarType, 'partyId': partyId, 'partyIds': partyIds, 'facilityId': facilityId, 'fixedAssetId': fixedAssetId, 'workEffortTypeId': workEffortTypeId, 'start': start, 'numPeriods': numPeriods, 'periodType': periodType, 'filterOutCanceledEvents': filterOutCanceledEvents, 'entityExprList': entityExprList });\n",
      "{\n",
      "  \"requires\": [\n",
      "    {\n",
      "      \"name\": \"start\",\n",
      "      \"type\": \"DateTime\"\n",
      "    },\n",
      "    {\n",
      "      \"name\": \"numPeriods\",\n",
      "      \"type\": \"int\"\n",
      "    },\n",
      "    {\n",
      "      \"name\": \"periodType\",\n",
      "      \"type\": \"int\"\n",
      "    }\n",
      "  ],\n",
      "  \"returns\": [\n",
      "    {\n",
      "      \"name\": \"periods\",\n",
      "      \"type\": \"List<dynamic>\"\n",
      "    },\n",
      "    {\n",
      "      \"name\": \"maxConcurrentEntries\",\n",
      "      \"type\": \"int\"\n",
      "    }\n",
      "  ],\n",
      "  \"parameters\": [\n",
      "    {\n",
      "      \"name\": \"calendarType\",\n",
      "      \"mark\": \"\",\n",
      "      \"type\": \"String\"\n",
      "    },\n",
      "    {\n",
      "      \"name\": \"partyId\",\n",
      "      \"mark\": \"\",\n",
      "      \"type\": \"String\"\n",
      "    },\n",
      "    {\n",
      "      \"name\": \"partyIds\",\n",
      "      \"mark\": \"\",\n",
      "      \"type\": \"List<dynamic>\"\n",
      "    },\n",
      "    {\n",
      "      \"name\": \"facilityId\",\n",
      "      \"mark\": \"\",\n",
      "      \"type\": \"String\"\n",
      "    },\n",
      "    {\n",
      "      \"name\": \"fixedAssetId\",\n",
      "      \"mark\": \"\",\n",
      "      \"type\": \"String\"\n",
      "    },\n",
      "    {\n",
      "      \"name\": \"workEffortTypeId\",\n",
      "      \"mark\": \"\",\n",
      "      \"type\": \"String\"\n",
      "    },\n",
      "    {\n",
      "      \"name\": \"start\",\n",
      "      \"mark\": \"@required \",\n",
      "      \"type\": \"DateTime\"\n",
      "    },\n",
      "    {\n",
      "      \"name\": \"numPeriods\",\n",
      "      \"mark\": \"@required \",\n",
      "      \"type\": \"int\"\n",
      "    },\n",
      "    {\n",
      "      \"name\": \"periodType\",\n",
      "      \"mark\": \"@required \",\n",
      "      \"type\": \"int\"\n",
      "    },\n",
      "    {\n",
      "      \"name\": \"filterOutCanceledEvents\",\n",
      "      \"mark\": \"\",\n",
      "      \"type\": \"bool\"\n",
      "    },\n",
      "    {\n",
      "      \"name\": \"entityExprList\",\n",
      "      \"mark\": \"\",\n",
      "      \"type\": \"List<dynamic>\"\n",
      "    }\n",
      "  ]\n",
      "}\n"
     ]
    }
   ],
   "source": [
    "print_service('getWorkEffortEventsByPeriod')"
   ]
  }
 ],
 "metadata": {
  "kernelspec": {
   "display_name": "Python 3",
   "language": "python",
   "name": "python3"
  },
  "language_info": {
   "codemirror_mode": {
    "name": "ipython",
    "version": 3
   },
   "file_extension": ".py",
   "mimetype": "text/x-python",
   "name": "python",
   "nbconvert_exporter": "python",
   "pygments_lexer": "ipython3",
   "version": "3.6.4"
  },
  "varInspector": {
   "cols": {
    "lenName": 16,
    "lenType": 16,
    "lenVar": 40
   },
   "kernels_config": {
    "python": {
     "delete_cmd_postfix": "",
     "delete_cmd_prefix": "del ",
     "library": "var_list.py",
     "varRefreshCmd": "print(var_dic_list())"
    },
    "r": {
     "delete_cmd_postfix": ") ",
     "delete_cmd_prefix": "rm(",
     "library": "var_list.r",
     "varRefreshCmd": "cat(var_dic_list()) "
    }
   },
   "types_to_exclude": [
    "module",
    "function",
    "builtin_function_or_method",
    "instance",
    "_Feature"
   ],
   "window_display": false
  }
 },
 "nbformat": 4,
 "nbformat_minor": 2
}
