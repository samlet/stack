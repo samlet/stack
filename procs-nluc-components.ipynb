{
 "cells": [
  {
   "cell_type": "code",
   "execution_count": 1,
   "metadata": {
    "ExecuteTime": {
     "end_time": "2019-10-16T19:33:04.644317Z",
     "start_time": "2019-10-16T19:33:04.596566Z"
    }
   },
   "outputs": [],
   "source": [
    "%load_ext autoreload\n",
    "%autoreload 2"
   ]
  },
  {
   "cell_type": "code",
   "execution_count": 14,
   "metadata": {
    "ExecuteTime": {
     "end_time": "2019-10-16T04:11:31.176162Z",
     "start_time": "2019-10-16T04:11:31.121780Z"
    }
   },
   "outputs": [],
   "source": [
    "from sagas.nlu.utils import fix_sents\n",
    "from sagas.conf.conf import cf\n",
    "from sagas.nlu.uni_remote import dep_parse\n",
    "from sagas.nlu.corenlp_parser import get_chunks\n",
    "\n",
    "def parse_comps(sents, source):\n",
    "    sents=fix_sents(sents, source)\n",
    "\n",
    "    engine=cf.engine(source)\n",
    "    doc_jsonify, resp = dep_parse(sents, source, engine, ['predicts'])\n",
    "    if len(resp['predicts']) > 0:\n",
    "        rs=resp['predicts']\n",
    "    else:\n",
    "        rs = get_chunks(doc_jsonify)\n",
    "    return rs"
   ]
  },
  {
   "cell_type": "code",
   "execution_count": 15,
   "metadata": {
    "ExecuteTime": {
     "end_time": "2019-10-16T04:11:35.328385Z",
     "start_time": "2019-10-16T04:11:35.102579Z"
    }
   },
   "outputs": [
    {
     "name": "stdout",
     "output_type": "stream",
     "text": [
      ".. request is {'lang': 'ja', 'sents': '彼女は美人なだけでなく、頭もいいです。', 'engine': 'knp', 'pipelines': ['predicts']}\n",
      "words count 4\n",
      "[\n",
      "  {\n",
      "    \"type\": \"predicate\",\n",
      "    \"word\": \"美人なだけでなく、\",\n",
      "    \"head\": \"\",\n",
      "    \"domains\": {\n",
      "      \"ガ\": [\n",
      "        \"彼女\"\n",
      "      ]\n",
      "    },\n",
      "    \"synsets\": [\n",
      "      {\n",
      "        \"word\": \"美人なだけでなく、/美人\",\n",
      "        \"indicator\": \"predicate\",\n",
      "        \"comments\": [\n",
      "          \"smasher.n.02\"\n",
      "        ]\n",
      "      },\n",
      "      {\n",
      "        \"word\": \"彼女\",\n",
      "        \"indicator\": \"ガ\",\n",
      "        \"comments\": [\n",
      "          \"girlfriend.n.02\"\n",
      "        ]\n",
      "      }\n",
      "    ]\n",
      "  },\n",
      "  {\n",
      "    \"type\": \"predicate\",\n",
      "    \"word\": \"いいです。\",\n",
      "    \"head\": \"\",\n",
      "    \"domains\": {\n",
      "      \"ガ\": [\n",
      "        \"頭\"\n",
      "      ]\n",
      "    },\n",
      "    \"synsets\": [\n",
      "      {\n",
      "        \"word\": \"いいです。/良い\",\n",
      "        \"indicator\": \"predicate\",\n",
      "        \"comments\": [\n",
      "          \"well.s.03\",\n",
      "          \"beautiful.a.01\",\n",
      "          \"stunning.s.04\",\n",
      "          \"right.a.05\",\n",
      "          \"fine.s.04\",\n",
      "          \"good.s.20\",\n",
      "          \"good.a.01\",\n",
      "          \"bang-up.s.01\",\n",
      "          \"good.a.03\",\n",
      "          \"good.s.16\",\n",
      "          \"just.a.01\",\n",
      "          \"charitable.s.03\",\n",
      "          \"nice.a.01\",\n",
      "          \"good.s.06\",\n",
      "          \"pleasant.s.02\",\n",
      "          \"good.s.12\",\n",
      "          \"pleasant.a.01\",\n",
      "          \"beautiful.s.02\",\n",
      "          \"correct.s.02\",\n",
      "          \"decent.s.01\",\n",
      "          \"right.a.04\",\n",
      "          \"good.s.07\",\n",
      "          \"satisfactory.a.01\",\n",
      "          \"all_right.s.01\",\n",
      "          \"brilliant.s.01\",\n",
      "          \"well.a.01\"\n",
      "        ]\n",
      "      },\n",
      "      {\n",
      "        \"word\": \"頭\",\n",
      "        \"indicator\": \"ガ\",\n",
      "        \"comments\": [\n",
      "          \"head.n.31\",\n",
      "          \"head.n.01\",\n",
      "          \"mind.n.01\",\n",
      "          \"noddle.n.01\",\n",
      "          \"top.n.01\",\n",
      "          \"head.n.04\",\n",
      "          \"capitulum.n.01\",\n",
      "          \"caput.n.01\",\n",
      "          \"head.n.10\"\n",
      "        ]\n",
      "      }\n",
      "    ]\n",
      "  }\n",
      "]\n"
     ]
    }
   ],
   "source": [
    "import sagas\n",
    "import json\n",
    "from sagas.nlu.uni_remote_viz import list_synsets\n",
    "def make_map(partcol, textcol):\n",
    "    return dict(zip(partcol, textcol))\n",
    "def list_contrast(rs, lang):\n",
    "    result=[]\n",
    "    for serial, r in enumerate(rs):\n",
    "        type_name = r['type']\n",
    "        df = sagas.to_df(r['domains'], ['rel', 'index', 'text', 'lemma', 'children', 'features'])\n",
    "        rec={'type':type_name, 'word':r['word'], 'head': r['head'] if 'head' in r else ''}\n",
    "        rec['domains']=make_map(df['rel'], df['children'])\n",
    "        rec['synsets']=list_synsets(r, lang, True)\n",
    "        result.append(rec)\n",
    "    return result\n",
    "\n",
    "def procs(sents, source):\n",
    "    rs=parse_comps(sents, source=source)\n",
    "    result=list_contrast(rs, source)\n",
    "    print(json.dumps(result, indent=2, ensure_ascii=False))\n",
    "\n",
    "sents='彼女は 美人な だけでなく 、 頭も いい です 。'\n",
    "source='ja'\n",
    "procs(sents, source)"
   ]
  },
  {
   "cell_type": "code",
   "execution_count": 16,
   "metadata": {
    "ExecuteTime": {
     "end_time": "2019-10-16T04:11:39.944259Z",
     "start_time": "2019-10-16T04:11:39.547886Z"
    }
   },
   "outputs": [
    {
     "name": "stdout",
     "output_type": "stream",
     "text": [
      ".. request is {'lang': 'de', 'sents': 'Die Aufnahmen begannen im November.', 'engine': 'corenlp', 'pipelines': ['predicts']}\n",
      "words count 7\n",
      "[\n",
      "  {\n",
      "    \"type\": \"verb_domains\",\n",
      "    \"word\": \"begannen\",\n",
      "    \"head\": \"\",\n",
      "    \"domains\": {\n",
      "      \"nsubj\": [\n",
      "        \"Die\",\n",
      "        \"Aufnahmen\"\n",
      "      ],\n",
      "      \"obl\": [\n",
      "        \"in\",\n",
      "        \"dem\",\n",
      "        \"November\"\n",
      "      ],\n",
      "      \"punct\": [\n",
      "        \".\"\n",
      "      ]\n",
      "    },\n",
      "    \"synsets\": [\n",
      "      {\n",
      "        \"word\": \"begannen/beginnen\",\n",
      "        \"indicator\": \"verb_domains\",\n",
      "        \"comments\": [\n",
      "          \"get_down.v.07\",\n",
      "          \"begin.v.03\",\n",
      "          \"begin.v.08\"\n",
      "        ]\n",
      "      },\n",
      "      {\n",
      "        \"word\": \"November\",\n",
      "        \"indicator\": \"obl\",\n",
      "        \"comments\": [\n",
      "          \"november.n.01\"\n",
      "        ]\n",
      "      }\n",
      "    ]\n",
      "  }\n",
      "]\n"
     ]
    }
   ],
   "source": [
    "procs('Die Aufnahmen begannen im November.', 'de')"
   ]
  },
  {
   "cell_type": "code",
   "execution_count": 15,
   "metadata": {
    "ExecuteTime": {
     "end_time": "2019-10-16T19:59:07.147474Z",
     "start_time": "2019-10-16T19:59:07.061103Z"
    }
   },
   "outputs": [
    {
     "name": "stdout",
     "output_type": "stream",
     "text": [
      "  /**\n",
      "   * Creates a new OrderItemShipGroup with maySplit and isGift filled. - OrderItemShipGroup\n",
      "   *\n",
      "   * Requires orderId\n",
      "   * Returns shipGroupSeqId[String], shipGroupSeqId[String]\n",
      "   */\n",
      "  Future<OfResult> addOrderItemShipGroup(OrderItemShipGroup ent, ) =>\n",
      "      client.invoke('addOrderItemShipGroup', ent, {  });\n",
      "{\n",
      "  \"requires\": [\n",
      "    {\n",
      "      \"name\": \"orderId\",\n",
      "      \"type\": \"String\"\n",
      "    }\n",
      "  ],\n",
      "  \"returns\": [\n",
      "    {\n",
      "      \"name\": \"shipGroupSeqId\",\n",
      "      \"type\": \"String\"\n",
      "    },\n",
      "    {\n",
      "      \"name\": \"shipGroupSeqId\",\n",
      "      \"type\": \"String\"\n",
      "    }\n",
      "  ],\n",
      "  \"parameters\": [\n",
      "    {\n",
      "      \"name\": \"ent\",\n",
      "      \"type\": \"OrderItemShipGroup\"\n",
      "    }\n",
      "  ]\n",
      "}\n"
     ]
    }
   ],
   "source": [
    "from sagas.ofbiz.service_gen import get_service_package, gen_service_stub, get_service_groups\n",
    "import json\n",
    "\n",
    "# name='addOrderItemShipGroup'\n",
    "\n",
    "def print_service(name):\n",
    "    lines=[]\n",
    "    schema=gen_service_stub(lines, name)\n",
    "    print('\\n'.join(lines))\n",
    "    print(json.dumps(schema, indent=2))\n",
    "print_service('addOrderItemShipGroup')"
   ]
  },
  {
   "cell_type": "code",
   "execution_count": 14,
   "metadata": {
    "ExecuteTime": {
     "end_time": "2019-10-16T19:58:22.415621Z",
     "start_time": "2019-10-16T19:58:22.297415Z"
    }
   },
   "outputs": [
    {
     "name": "stdout",
     "output_type": "stream",
     "text": [
      "  /**\n",
      "   * Get WorkEffort Events by a period specified by periodType attribute (one of the\n",
      "          java.util.Calendar field values). Return a Map with periodStart as the key and a Collection of events for that period as value\n",
      "          If filterOutCanceledEvents is set to Boolean(true) then workEfforts with currentStatusId=EVENT_CANCELLED will not be returned.\n",
      "          To limit the events to a particular partyId, specify the partyId.  To limit the events to a set of partyIds, specify a Collection of partyIds.\n",
      "         - \n",
      "   *\n",
      "   * Requires start, numPeriods, periodType\n",
      "   * Returns periods[java.util.List], maxConcurrentEntries[java.lang.Integer]\n",
      "   */\n",
      "  Future<OfResult> getWorkEffortEventsByPeriod({String calendarType, String partyId, List<dynamic> partyIds, String facilityId, String fixedAssetId, String workEffortTypeId, @required DateTime start, @required int numPeriods, @required int periodType, bool filterOutCanceledEvents, List<dynamic> entityExprList}) =>\n",
      "      client.invoke('getWorkEffortEventsByPeriod', null, { 'calendarType': calendarType, 'partyId': partyId, 'partyIds': partyIds, 'facilityId': facilityId, 'fixedAssetId': fixedAssetId, 'workEffortTypeId': workEffortTypeId, 'start': start, 'numPeriods': numPeriods, 'periodType': periodType, 'filterOutCanceledEvents': filterOutCanceledEvents, 'entityExprList': entityExprList });\n",
      "{\n",
      "  \"requires\": [\n",
      "    {\n",
      "      \"name\": \"start\",\n",
      "      \"type\": \"DateTime\"\n",
      "    },\n",
      "    {\n",
      "      \"name\": \"numPeriods\",\n",
      "      \"type\": \"int\"\n",
      "    },\n",
      "    {\n",
      "      \"name\": \"periodType\",\n",
      "      \"type\": \"int\"\n",
      "    }\n",
      "  ],\n",
      "  \"returns\": [\n",
      "    {\n",
      "      \"name\": \"periods\",\n",
      "      \"type\": \"List<dynamic>\"\n",
      "    },\n",
      "    {\n",
      "      \"name\": \"maxConcurrentEntries\",\n",
      "      \"type\": \"int\"\n",
      "    }\n",
      "  ],\n",
      "  \"parameters\": [\n",
      "    {\n",
      "      \"name\": \"calendarType\",\n",
      "      \"mark\": \"\",\n",
      "      \"type\": \"String\"\n",
      "    },\n",
      "    {\n",
      "      \"name\": \"partyId\",\n",
      "      \"mark\": \"\",\n",
      "      \"type\": \"String\"\n",
      "    },\n",
      "    {\n",
      "      \"name\": \"partyIds\",\n",
      "      \"mark\": \"\",\n",
      "      \"type\": \"List<dynamic>\"\n",
      "    },\n",
      "    {\n",
      "      \"name\": \"facilityId\",\n",
      "      \"mark\": \"\",\n",
      "      \"type\": \"String\"\n",
      "    },\n",
      "    {\n",
      "      \"name\": \"fixedAssetId\",\n",
      "      \"mark\": \"\",\n",
      "      \"type\": \"String\"\n",
      "    },\n",
      "    {\n",
      "      \"name\": \"workEffortTypeId\",\n",
      "      \"mark\": \"\",\n",
      "      \"type\": \"String\"\n",
      "    },\n",
      "    {\n",
      "      \"name\": \"start\",\n",
      "      \"mark\": \"@required \",\n",
      "      \"type\": \"DateTime\"\n",
      "    },\n",
      "    {\n",
      "      \"name\": \"numPeriods\",\n",
      "      \"mark\": \"@required \",\n",
      "      \"type\": \"int\"\n",
      "    },\n",
      "    {\n",
      "      \"name\": \"periodType\",\n",
      "      \"mark\": \"@required \",\n",
      "      \"type\": \"int\"\n",
      "    },\n",
      "    {\n",
      "      \"name\": \"filterOutCanceledEvents\",\n",
      "      \"mark\": \"\",\n",
      "      \"type\": \"bool\"\n",
      "    },\n",
      "    {\n",
      "      \"name\": \"entityExprList\",\n",
      "      \"mark\": \"\",\n",
      "      \"type\": \"List<dynamic>\"\n",
      "    }\n",
      "  ]\n",
      "}\n"
     ]
    }
   ],
   "source": [
    "print_service('getWorkEffortEventsByPeriod')"
   ]
  }
 ],
 "metadata": {
  "kernelspec": {
   "display_name": "Python 3",
   "language": "python",
   "name": "python3"
  },
  "language_info": {
   "codemirror_mode": {
    "name": "ipython",
    "version": 3
   },
   "file_extension": ".py",
   "mimetype": "text/x-python",
   "name": "python",
   "nbconvert_exporter": "python",
   "pygments_lexer": "ipython3",
   "version": "3.6.4"
  },
  "varInspector": {
   "cols": {
    "lenName": 16,
    "lenType": 16,
    "lenVar": 40
   },
   "kernels_config": {
    "python": {
     "delete_cmd_postfix": "",
     "delete_cmd_prefix": "del ",
     "library": "var_list.py",
     "varRefreshCmd": "print(var_dic_list())"
    },
    "r": {
     "delete_cmd_postfix": ") ",
     "delete_cmd_prefix": "rm(",
     "library": "var_list.r",
     "varRefreshCmd": "cat(var_dic_list()) "
    }
   },
   "types_to_exclude": [
    "module",
    "function",
    "builtin_function_or_method",
    "instance",
    "_Feature"
   ],
   "window_display": false
  }
 },
 "nbformat": 4,
 "nbformat_minor": 2
}
