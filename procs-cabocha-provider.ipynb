{
 "cells": [
  {
   "cell_type": "code",
   "execution_count": 1,
   "metadata": {
    "ExecuteTime": {
     "end_time": "2018-12-27T09:35:08.626229Z",
     "start_time": "2018-12-27T09:35:08.547291Z"
    }
   },
   "outputs": [],
   "source": [
    "import sys\n",
    "\n",
    "from google.protobuf.json_format import MessageToJson\n",
    "from client_wrapper import ServiceClient\n",
    "\n",
    "import nlpserv_pb2 as nlp_messages\n",
    "import nlpserv_pb2_grpc as nlp_service"
   ]
  },
  {
   "cell_type": "code",
   "execution_count": 25,
   "metadata": {
    "ExecuteTime": {
     "end_time": "2018-12-27T11:28:18.515329Z",
     "start_time": "2018-12-27T11:28:18.486171Z"
    }
   },
   "outputs": [
    {
     "name": "stdout",
     "output_type": "stream",
     "text": [
      "お 0\n",
      "皿 1\n",
      "を 2\n",
      "二 3\n",
      "枚 4\n",
      "ください 5\n",
      "。 9\n"
     ]
    }
   ],
   "source": [
    "from cabocha.analyzer import CaboChaAnalyzer\n",
    "from rasa_nlu.tokenizers import Tokenizer, Token\n",
    "\n",
    "def tokenize(text):         \n",
    "    analyzer = CaboChaAnalyzer()\n",
    "    tree = analyzer.parse(text)\n",
    "    words=[]\n",
    "    for chunk in tree:        \n",
    "        for token in chunk:\n",
    "            # print(token, token.pos)\n",
    "            words.append(token.surface)\n",
    "\n",
    "    running_offset = 0\n",
    "    tokens = []\n",
    "    for word in words:\n",
    "        word_offset = text.index(word, running_offset)\n",
    "        word_len = len(word)\n",
    "        running_offset = word_offset + word_len\n",
    "        tokens.append(Token(word, word_offset))   \n",
    "    return tokens\n",
    "\n",
    "tokens=tokenize(\"お皿を二枚ください。\")\n",
    "for t in tokens:\n",
    "    print(t.text, t.offset)"
   ]
  },
  {
   "cell_type": "code",
   "execution_count": 31,
   "metadata": {
    "ExecuteTime": {
     "end_time": "2018-12-27T11:41:12.370301Z",
     "start_time": "2018-12-27T11:41:12.304603Z"
    },
    "scrolled": false
   },
   "outputs": [
    {
     "name": "stdout",
     "output_type": "stream",
     "text": [
      "0 ['お', '皿', 'を']\n",
      "1 ['二', '枚']\n",
      "2 ['ください', '。']\n"
     ]
    }
   ],
   "source": [
    "text=\"お皿を二枚ください。\"\n",
    "\n",
    "analyzer = CaboChaAnalyzer()\n",
    "tree = analyzer.parse(text)\n",
    "msg_chunks=nlp_messages.NlCabochaChunks()\n",
    "chunks=[]\n",
    "for chunk in tree:\n",
    "    msg_chunk=nlp_messages.NlCabochaChunk()\n",
    "    msg_chunk.id=chunk.id\n",
    "    if not chunk.additional_info is None:\n",
    "        msg_chunk.additional_info=chunk.additional_info\n",
    "    msg_chunk.feature_list.extend(chunk.feature_list)\n",
    "    msg_chunk.func_pos=chunk.func_pos\n",
    "    msg_chunk.head_pos=chunk.head_pos\n",
    "    msg_chunk.link=chunk.link\n",
    "    msg_chunk.score=chunk.score\n",
    "    msg_chunk.token_pos=chunk.token_pos\n",
    "    msg_chunk.next_link_id=chunk.next_link_id\n",
    "    msg_chunk.prev_link_ids.extend(chunk.prev_link_ids)\n",
    "    \n",
    "    words=[]\n",
    "    for token in chunk:\n",
    "        # print(token, token.pos)\n",
    "        word=nlp_messages.NlCabochaToken(surface=token.surface,\n",
    "                                         id=token.id,\n",
    "                                         additional_info=token.additional_info,\n",
    "                                         feature_list=token.feature_list,\n",
    "                                         ne=token.ne,\n",
    "                                         normalized_surface=token.normalized_surface,\n",
    "                                         pos=token.pos,\n",
    "                                         pos1=token.pos1,\n",
    "                                         pos2=token.pos2,\n",
    "                                         pos3=token.pos3,\n",
    "                                         ctype=token.ctype,\n",
    "                                         cform=token.cform,\n",
    "                                         genkei=token.genkei,\n",
    "                                         yomi=token.yomi\n",
    "                                        )\n",
    "        words.append(word)\n",
    "    msg_chunk.tokens.extend(words)\n",
    "    chunks.append(msg_chunk)\n",
    "    \n",
    "msg_chunks.chunks.extend(chunks)\n",
    "for chunk in msg_chunks.chunks:\n",
    "    print(chunk.id, [word.surface for word in chunk.tokens])"
   ]
  },
  {
   "cell_type": "code",
   "execution_count": 33,
   "metadata": {
    "ExecuteTime": {
     "end_time": "2018-12-27T11:55:00.433272Z",
     "start_time": "2018-12-27T11:55:00.411315Z"
    },
    "scrolled": true
   },
   "outputs": [
    {
     "name": "stdout",
     "output_type": "stream",
     "text": [
      "お 0\n",
      "皿 1\n",
      "を 2\n",
      "二 3\n",
      "枚 4\n",
      "ください 5\n",
      "。 9\n"
     ]
    }
   ],
   "source": [
    "from rasa_nlu.tokenizers import Tokenizer, Token\n",
    "\n",
    "def tokenize_msg(text, msg_chunks):         \n",
    "    words=[]\n",
    "    for chunk in msg_chunks.chunks:        \n",
    "        for token in chunk.tokens:\n",
    "            # print(token, token.pos)\n",
    "            words.append(token.surface)\n",
    "\n",
    "    running_offset = 0\n",
    "    tokens = []\n",
    "    for word in words:\n",
    "        word_offset = text.index(word, running_offset)\n",
    "        word_len = len(word)\n",
    "        running_offset = word_offset + word_len\n",
    "        tokens.append(Token(word, word_offset))   \n",
    "    return tokens\n",
    "\n",
    "tokens=tokenize_msg(\"お皿を二枚ください。\", msg_chunks)\n",
    "for t in tokens:\n",
    "    print(t.text, t.offset)"
   ]
  },
  {
   "cell_type": "code",
   "execution_count": null,
   "metadata": {},
   "outputs": [],
   "source": []
  }
 ],
 "metadata": {
  "kernelspec": {
   "display_name": "Python 3",
   "language": "python",
   "name": "python3"
  },
  "language_info": {
   "codemirror_mode": {
    "name": "ipython",
    "version": 3
   },
   "file_extension": ".py",
   "mimetype": "text/x-python",
   "name": "python",
   "nbconvert_exporter": "python",
   "pygments_lexer": "ipython3",
   "version": "3.6.4"
  },
  "varInspector": {
   "cols": {
    "lenName": 16,
    "lenType": 16,
    "lenVar": 40
   },
   "kernels_config": {
    "python": {
     "delete_cmd_postfix": "",
     "delete_cmd_prefix": "del ",
     "library": "var_list.py",
     "varRefreshCmd": "print(var_dic_list())"
    },
    "r": {
     "delete_cmd_postfix": ") ",
     "delete_cmd_prefix": "rm(",
     "library": "var_list.r",
     "varRefreshCmd": "cat(var_dic_list()) "
    }
   },
   "types_to_exclude": [
    "module",
    "function",
    "builtin_function_or_method",
    "instance",
    "_Feature"
   ],
   "window_display": false
  }
 },
 "nbformat": 4,
 "nbformat_minor": 2
}
