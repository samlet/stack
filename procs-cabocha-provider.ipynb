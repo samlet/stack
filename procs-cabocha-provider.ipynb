{
 "cells": [
  {
   "cell_type": "code",
   "execution_count": 2,
   "metadata": {
    "ExecuteTime": {
     "end_time": "2019-01-06T16:39:43.194531Z",
     "start_time": "2019-01-06T16:39:43.098448Z"
    }
   },
   "outputs": [],
   "source": [
    "import sys\n",
    "\n",
    "from google.protobuf.json_format import MessageToJson\n",
    "from client_wrapper import ServiceClient\n",
    "\n",
    "import nlpserv_pb2 as nlp_messages\n",
    "import nlpserv_pb2_grpc as nlp_service"
   ]
  },
  {
   "cell_type": "code",
   "execution_count": 3,
   "metadata": {
    "ExecuteTime": {
     "end_time": "2019-01-06T16:39:48.968498Z",
     "start_time": "2019-01-06T16:39:48.792200Z"
    }
   },
   "outputs": [
    {
     "name": "stdout",
     "output_type": "stream",
     "text": [
      "お 0\n",
      "皿 1\n",
      "を 2\n",
      "二 3\n",
      "枚 4\n",
      "ください 5\n",
      "。 9\n"
     ]
    }
   ],
   "source": [
    "from cabocha.analyzer import CaboChaAnalyzer\n",
    "from rasa_nlu.tokenizers import Tokenizer, Token\n",
    "\n",
    "def tokenize(text):         \n",
    "    analyzer = CaboChaAnalyzer()\n",
    "    tree = analyzer.parse(text)\n",
    "    words=[]\n",
    "    for chunk in tree:        \n",
    "        for token in chunk:\n",
    "            # print(token, token.pos)\n",
    "            words.append(token.surface)\n",
    "\n",
    "    running_offset = 0\n",
    "    tokens = []\n",
    "    for word in words:\n",
    "        word_offset = text.index(word, running_offset)\n",
    "        word_len = len(word)\n",
    "        running_offset = word_offset + word_len\n",
    "        tokens.append(Token(word, word_offset))   \n",
    "    return tokens\n",
    "\n",
    "tokens=tokenize(\"お皿を二枚ください。\")\n",
    "for t in tokens:\n",
    "    print(t.text, t.offset)"
   ]
  },
  {
   "cell_type": "code",
   "execution_count": 4,
   "metadata": {
    "ExecuteTime": {
     "end_time": "2019-01-06T16:40:00.621637Z",
     "start_time": "2019-01-06T16:40:00.556796Z"
    },
    "scrolled": false
   },
   "outputs": [
    {
     "name": "stdout",
     "output_type": "stream",
     "text": [
      "0 ['お', '皿', 'を']\n",
      "\t 接頭詞\n",
      "\t 名詞\n",
      "\t 助詞\n",
      "1 ['二', '枚']\n",
      "\t 名詞\n",
      "\t 名詞\n",
      "2 ['ください', '。']\n",
      "\t 動詞\n",
      "\t 記号\n"
     ]
    }
   ],
   "source": [
    "text=\"お皿を二枚ください。\"\n",
    "\n",
    "analyzer = CaboChaAnalyzer()\n",
    "tree = analyzer.parse(text)\n",
    "msg_chunks=nlp_messages.NlCabochaChunks()\n",
    "chunks=[]\n",
    "for chunk in tree:\n",
    "    msg_chunk=nlp_messages.NlCabochaChunk()\n",
    "    msg_chunk.id=chunk.id\n",
    "    if not chunk.additional_info is None:\n",
    "        msg_chunk.additional_info=chunk.additional_info\n",
    "    msg_chunk.feature_list.extend(chunk.feature_list)\n",
    "    msg_chunk.func_pos=chunk.func_pos\n",
    "    msg_chunk.head_pos=chunk.head_pos\n",
    "    msg_chunk.link=chunk.link\n",
    "    msg_chunk.score=chunk.score\n",
    "    msg_chunk.token_pos=chunk.token_pos\n",
    "    msg_chunk.next_link_id=chunk.next_link_id\n",
    "    msg_chunk.prev_link_ids.extend(chunk.prev_link_ids)\n",
    "    \n",
    "    words=[]\n",
    "    for token in chunk:\n",
    "        # print(token, token.pos)\n",
    "        word=nlp_messages.NlCabochaToken(surface=token.surface,\n",
    "                                         id=token.id,\n",
    "                                         additional_info=token.additional_info,\n",
    "                                         feature_list=token.feature_list,\n",
    "                                         ne=token.ne,\n",
    "                                         normalized_surface=token.normalized_surface,\n",
    "                                         pos=token.pos,\n",
    "                                         pos1=token.pos1,\n",
    "                                         pos2=token.pos2,\n",
    "                                         pos3=token.pos3,\n",
    "                                         ctype=token.ctype,\n",
    "                                         cform=token.cform,\n",
    "                                         genkei=token.genkei,\n",
    "                                         yomi=token.yomi\n",
    "                                        )\n",
    "        words.append(word)\n",
    "    msg_chunk.tokens.extend(words)\n",
    "    chunks.append(msg_chunk)\n",
    "    \n",
    "msg_chunks.chunks.extend(chunks)\n",
    "for chunk in msg_chunks.chunks:\n",
    "    print(chunk.id, [word.surface for word in chunk.tokens])\n",
    "    for word in chunk.tokens:\n",
    "        print(\"\\t\", word.pos)"
   ]
  },
  {
   "cell_type": "code",
   "execution_count": 6,
   "metadata": {
    "ExecuteTime": {
     "end_time": "2019-01-06T16:44:31.016256Z",
     "start_time": "2019-01-06T16:44:30.989388Z"
    },
    "scrolled": true
   },
   "outputs": [
    {
     "name": "stdout",
     "output_type": "stream",
     "text": [
      "お 0\n",
      "皿 1\n",
      "を 2\n",
      "二 3\n",
      "枚 4\n",
      "ください 5\n",
      "。 9\n"
     ]
    }
   ],
   "source": [
    "from rasa_nlu.tokenizers import Tokenizer, Token\n",
    "\n",
    "def tokenize_msg(text, msg_chunks):         \n",
    "    words=[]\n",
    "    for chunk in msg_chunks.chunks:        \n",
    "        for token in chunk.tokens:\n",
    "            # print(token, token.pos)\n",
    "            words.append(token.surface)\n",
    "\n",
    "    running_offset = 0\n",
    "    tokens = []\n",
    "    for word in words:\n",
    "        word_offset = text.index(word, running_offset)\n",
    "        word_len = len(word)\n",
    "        running_offset = word_offset + word_len\n",
    "        tokens.append(Token(word, word_offset))   \n",
    "    return tokens\n",
    "\n",
    "tokens=tokenize_msg(\"お皿を二枚ください。\", msg_chunks)\n",
    "for t in tokens:\n",
    "    print(t.text, t.offset)"
   ]
  },
  {
   "cell_type": "code",
   "execution_count": 21,
   "metadata": {
    "ExecuteTime": {
     "end_time": "2019-01-06T17:16:32.521953Z",
     "start_time": "2019-01-06T17:16:32.389779Z"
    }
   },
   "outputs": [
    {
     "name": "stdout",
     "output_type": "stream",
     "text": [
      "response:\n",
      "太郎 0\n",
      "は 2\n",
      "花子 3\n",
      "が 5\n",
      "読ん 6\n",
      "で 8\n",
      "いる 9\n",
      "本 11\n",
      "を 12\n",
      "次 13\n",
      "郎 14\n",
      "に 15\n",
      "渡し 16\n",
      "た 18\n",
      "0\n",
      "\t 0 太郎 person\n",
      "\t は 助詞 係助詞 * * ctype * ['*', 'は', 'ハ']\n",
      "1\n",
      "\t 2 花子 person\n",
      "\t が 助詞 格助詞 一般 * ctype * ['*', 'が', 'ガ']\n",
      "2\n",
      "\t 読ん 動詞 自立 * * ctype 五段・マ行 ['連用タ接続', '読む', 'ヨン']\n",
      "\t で 助詞 接続助詞 * * ctype * ['*', 'で', 'デ']\n",
      "\t いる 動詞 非自立 * * ctype 一段 ['基本形', 'いる', 'イル']\n",
      "3\n",
      "\t 本 名詞 一般 * * ctype * ['*', '本', 'ホン']\n",
      "\t を 助詞 格助詞 一般 * ctype * ['*', 'を', 'ヲ']\n",
      "4\n",
      "\t 次 名詞 一般 * * ctype * ['*', '次', 'ツギ']\n",
      "\t 郎 名詞 一般 * * ctype * ['*', '郎', 'ロウ']\n",
      "\t に 助詞 格助詞 一般 * ctype * ['*', 'に', 'ニ']\n",
      "5\n",
      "\t 渡し 動詞 自立 * * ctype 五段・サ行 ['連用形', '渡す', 'ワタシ']\n",
      "\t た 助動詞 * * * ctype 特殊・タ ['基本形', 'た', 'タ']\n",
      "response:\n",
      "私 0\n",
      "は 1\n",
      "西海岸 2\n",
      "に 5\n",
      "住ん 6\n",
      "で 8\n",
      "い 9\n",
      "ます 10\n",
      "。 12\n",
      "0\n",
      "\t 私 名詞 代名詞 一般 * ctype * ['*', '私', 'ワタシ']\n",
      "\t は 助詞 係助詞 * * ctype * ['*', 'は', 'ハ']\n",
      "1\n",
      "\t 西海岸 名詞 一般 * * ctype * ['*', '西海岸', 'ニシカイガン']\n",
      "\t に 助詞 格助詞 一般 * ctype * ['*', 'に', 'ニ']\n",
      "2\n",
      "\t 住ん 動詞 自立 * * ctype 五段・マ行 ['連用タ接続', '住む', 'スン']\n",
      "\t で 助詞 接続助詞 * * ctype * ['*', 'で', 'デ']\n",
      "\t い 動詞 非自立 * * ctype 一段 ['連用形', 'いる', 'イ']\n",
      "\t ます 助動詞 * * * ctype 特殊・マス ['基本形', 'ます', 'マス']\n",
      "\t 。 記号 句点 * * ctype * ['*', '。', '。']\n"
     ]
    }
   ],
   "source": [
    "from client_wrapper import ServiceClient\n",
    "import nlpserv_pb2 as nlp_messages\n",
    "import nlpserv_pb2_grpc as nlp_service\n",
    "\n",
    "def run(text):\n",
    "    serv = ServiceClient(nlp_service, 'CabochaNlpProcsStub', 'localhost', 50051)\n",
    "    # Insert example metadata\n",
    "    metadata = [('ip', '127.0.0.1')]\n",
    "    response = serv.Tokenizer(\n",
    "        nlp_messages.NlText(text=text),\n",
    "        metadata=metadata\n",
    "    )\n",
    "    if response:\n",
    "        print(\"response:\")\n",
    "        tokens=tokenize_msg(text, response)\n",
    "        for t in tokens:\n",
    "            print(t.text, t.offset)\n",
    "        \n",
    "        ## print pos\n",
    "        for chunk in response.chunks:     \n",
    "            print(chunk.id)            \n",
    "            for token in chunk.tokens:\n",
    "                pos_set=(token.pos, token.pos1, token.pos2, token.pos3)\n",
    "                if \"人名\" in pos_set:\n",
    "                    print(\"\\t\", token.id, token.surface, \"person\")\n",
    "                elif \"地域\" in pos_set:\n",
    "                    print(\"\\t\", token.id, token.surface, \"location\")\n",
    "                else:\n",
    "                    print(\"\\t\", token.surface, token.pos, token.pos1, \n",
    "                         token.pos2, token.pos3, \"ctype\", token.ctype,\n",
    "                         [token.cform, token.genkei, token.yomi])\n",
    "\n",
    "# pos=token.pos,\n",
    "#    pos1=token.pos1,\n",
    "#    pos2=token.pos2,\n",
    "#    pos3=token.pos3,\n",
    "#    ctype=token.ctype,\n",
    "#    cform=token.cform,\n",
    "#    genkei=token.genkei,\n",
    "#    yomi=token.yomi\n",
    "# run(\"お皿を二枚ください。\")   \n",
    "run(\"太郎は花子が読んでいる本を次郎に渡した\")  \n",
    "run(\"私は西海岸に住んでいます。\")"
   ]
  },
  {
   "cell_type": "code",
   "execution_count": 22,
   "metadata": {
    "ExecuteTime": {
     "end_time": "2019-01-06T17:16:43.080126Z",
     "start_time": "2019-01-06T17:16:43.056338Z"
    },
    "scrolled": true
   },
   "outputs": [
    {
     "name": "stdout",
     "output_type": "stream",
     "text": [
      "response:\n",
      "マリア 0\n",
      "さん 3\n",
      "は 5\n",
      "中国 6\n",
      "しゅっし 8\n",
      "ん 12\n",
      "です 13\n",
      "。 15\n",
      "0\n",
      "\t マリア 名詞 固有名詞 一般 * ctype * ['*', 'マリア', 'マリア']\n",
      "\t 1 さん person\n",
      "\t は 助詞 係助詞 * * ctype * ['*', 'は', 'ハ']\n",
      "1\n",
      "\t 3 中国 location\n",
      "\t しゅっし 名詞 サ変接続 * * ctype * ['*', 'しゅっし', 'シュッシ']\n",
      "\t ん 名詞 非自立 一般 * ctype * ['*', 'ん', 'ン']\n",
      "\t です 助動詞 * * * ctype 特殊・デス ['基本形', 'です', 'デス']\n",
      "\t 。 記号 句点 * * ctype * ['*', '。', '。']\n"
     ]
    }
   ],
   "source": [
    "run(\"マリアさんは中国しゅっしんです。\")"
   ]
  }
 ],
 "metadata": {
  "kernelspec": {
   "display_name": "Python 3",
   "language": "python",
   "name": "python3"
  },
  "language_info": {
   "codemirror_mode": {
    "name": "ipython",
    "version": 3
   },
   "file_extension": ".py",
   "mimetype": "text/x-python",
   "name": "python",
   "nbconvert_exporter": "python",
   "pygments_lexer": "ipython3",
   "version": "3.6.4"
  },
  "varInspector": {
   "cols": {
    "lenName": 16,
    "lenType": 16,
    "lenVar": 40
   },
   "kernels_config": {
    "python": {
     "delete_cmd_postfix": "",
     "delete_cmd_prefix": "del ",
     "library": "var_list.py",
     "varRefreshCmd": "print(var_dic_list())"
    },
    "r": {
     "delete_cmd_postfix": ") ",
     "delete_cmd_prefix": "rm(",
     "library": "var_list.r",
     "varRefreshCmd": "cat(var_dic_list()) "
    }
   },
   "types_to_exclude": [
    "module",
    "function",
    "builtin_function_or_method",
    "instance",
    "_Feature"
   ],
   "window_display": false
  }
 },
 "nbformat": 4,
 "nbformat_minor": 2
}
