{
 "cells": [
  {
   "cell_type": "code",
   "execution_count": 2,
   "metadata": {
    "ExecuteTime": {
     "end_time": "2019-09-02T19:40:46.665973Z",
     "start_time": "2019-09-02T19:40:46.653476Z"
    }
   },
   "outputs": [
    {
     "name": "stdout",
     "output_type": "stream",
     "text": [
      "this is my husband.\n"
     ]
    }
   ],
   "source": [
    "prefix='/pi/langs'\n",
    "file='ko-home.md'\n",
    "with open(f\"{prefix}/{file}\") as f:\n",
    "    lines = f.readlines()\n",
    "    for line in lines:\n",
    "        line=line.strip()\n",
    "        if len(line)>0 and not line.startswith('#'):\n",
    "            print(line)"
   ]
  },
  {
   "cell_type": "code",
   "execution_count": 8,
   "metadata": {
    "ExecuteTime": {
     "end_time": "2019-09-02T19:57:13.599183Z",
     "start_time": "2019-09-02T19:57:13.585508Z"
    }
   },
   "outputs": [
    {
     "name": "stdout",
     "output_type": "stream",
     "text": [
      "this is my husband.\n"
     ]
    }
   ],
   "source": [
    "prefix='/pi/langs'\n",
    "file='ko-home.trans.txt'\n",
    "with open(f\"{prefix}/{file}\") as f:\n",
    "    lines = f.readlines()\n",
    "    for line in lines:\n",
    "        line=line.rstrip()\n",
    "        if len(line)>0 and not line.startswith(' '):\n",
    "            print(line)"
   ]
  },
  {
   "cell_type": "code",
   "execution_count": 6,
   "metadata": {
    "ExecuteTime": {
     "end_time": "2019-09-02T19:51:54.309855Z",
     "start_time": "2019-09-02T19:51:52.769419Z"
    }
   },
   "outputs": [
    {
     "name": "stderr",
     "output_type": "stream",
     "text": [
      " 33%|███▎      | 1/3 [00:00<00:00,  6.99it/s]"
     ]
    },
    {
     "name": "stdout",
     "output_type": "stream",
     "text": [
      ".. default translator - google, retries times - 3, enable chunks parse - True\n"
     ]
    },
    {
     "name": "stderr",
     "output_type": "stream",
     "text": [
      "100%|██████████| 3/3 [00:00<00:00,  6.51it/s]\n"
     ]
    },
    {
     "name": "stdout",
     "output_type": "stream",
     "text": [
      "this is my husband.\n",
      "\tfr=\"c'est mon mari.\"\n",
      "\tzh=\"这是我的丈夫。\"\n",
      "\tko=\"이것은 내 남편입니다.\"\n",
      "\tv0=\"igeos-eun nae nampyeon-ibnida.\"\n",
      "❶ [aux] be cop ☇ husband(noun)\n",
      "2019-09-03 03:51:54,248 - inspector - INFO - this is my husband.(inform) -> 0.936325, with entities \n",
      "2019-09-03 03:51:54,259 - inspector - INFO - this(inform) -> 0.652053, with entities \n",
      "\u001b[34m✔\u001b[0m [\u001b[34maux with pos is ('pron', 'noun'): True, nsubj is ['c_pron', 'c_noun', 'c_propn']: True, cop is c_aux: True\u001b[0m]\n",
      "\u001b[31m✔\u001b[0m [\u001b[31mcop with pos is behave_of(person/organism,n): True, nsubj is ['c_pron', 'c_noun', 'c_propn']: True\u001b[0m]\n",
      "+----+-----------+---------+--------+---------+------------+------------------+\n",
      "|    | rel       |   index | text   | lemma   | children   | features         |\n",
      "|----+-----------+---------+--------+---------+------------+------------------|\n",
      "|  0 | nsubj     |       1 | this   | this    | this..     | c_pron, x_dt..   |\n",
      "|  1 | cop       |       2 | is     | be      | is..       | c_aux, x_vbz..   |\n",
      "|  2 | nmod:poss |       3 | my     | my      | my..       | c_pron, x_prp$.. |\n",
      "|  3 | punct     |       5 | .      | .       | ...        | c_punct, x_...   |\n",
      "+----+-----------+---------+--------+---------+------------+------------------+\n",
      "♥ \u001b[35mbe\u001b[0m([aux]): beryllium.n.01, be.v.01, ...\n",
      "♥ \u001b[35mhusband\u001b[0m(head): husband.n.01, conserve.v....\n",
      "--------------------\n",
      "this is my husband.\n",
      "\tfr=\"c'est mon mari.\"\n",
      "\tzh=\"这是我的丈夫。\"\n",
      "\tko=\"이것은 내 남편입니다.\"\n",
      "\tv0=\"igeos-eun nae nampyeon-ibnida.\"\n",
      "\t♥ be([aux]): beryllium.n.01, be.v.01, ...\n",
      "\t♥ husband(head): husband.n.01, conserve.v....\n",
      "\n"
     ]
    }
   ],
   "source": [
    "from sagas.tool.misc import MiscTool, TransContext\n",
    "class TranslitTool(MiscTool):\n",
    "    def trans(self, source, targets, says, sents):                        \n",
    "        text=sents\n",
    "        ctx=TransContext(source, targets, text, says)        \n",
    "        ctx.sents_map[source[:2]] = text\n",
    "        succ=self.translators[self.translator](ctx)\n",
    "\n",
    "        if not succ:\n",
    "            raise Exception('occurs a error.')\n",
    "        if self.enable_chunks_parse:\n",
    "            addons, result = self.parse_chunks(text, source, targets, ctx, details=False)\n",
    "        else:\n",
    "            addons=[]\n",
    "            # result = '\\n\\t'.join([text] + ctx.target_sents)\n",
    "            lines=[]\n",
    "            lines.append(f'\\t.sent({source}=\"{text}\"')\n",
    "            suffix=\") \\\\\"\n",
    "            result = ', \\n\\t      '.join(lines + ctx.target_sents+[suffix])\n",
    "            print(result)\n",
    "        \n",
    "        if len(addons)>0:\n",
    "            result=result+'\\n\\t'+'\\n\\t'.join(addons)\n",
    "        if self.enable_chunks_parse:\n",
    "            result=result+'\\n'\n",
    "        print('-'*20)\n",
    "        print(result)\n",
    "\n",
    "tool=TranslitTool()\n",
    "tool.trans('en', 'fr;zh-CN;ko', 'ko', 'this is my husband.')"
   ]
  }
 ],
 "metadata": {
  "kernelspec": {
   "display_name": "Python 3",
   "language": "python",
   "name": "python3"
  },
  "language_info": {
   "codemirror_mode": {
    "name": "ipython",
    "version": 3
   },
   "file_extension": ".py",
   "mimetype": "text/x-python",
   "name": "python",
   "nbconvert_exporter": "python",
   "pygments_lexer": "ipython3",
   "version": "3.6.4"
  },
  "varInspector": {
   "cols": {
    "lenName": 16,
    "lenType": 16,
    "lenVar": 40
   },
   "kernels_config": {
    "python": {
     "delete_cmd_postfix": "",
     "delete_cmd_prefix": "del ",
     "library": "var_list.py",
     "varRefreshCmd": "print(var_dic_list())"
    },
    "r": {
     "delete_cmd_postfix": ") ",
     "delete_cmd_prefix": "rm(",
     "library": "var_list.r",
     "varRefreshCmd": "cat(var_dic_list()) "
    }
   },
   "types_to_exclude": [
    "module",
    "function",
    "builtin_function_or_method",
    "instance",
    "_Feature"
   ],
   "window_display": false
  }
 },
 "nbformat": 4,
 "nbformat_minor": 2
}
