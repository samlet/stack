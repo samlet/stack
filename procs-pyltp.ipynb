{
 "cells": [
  {
   "cell_type": "code",
   "execution_count": 4,
   "metadata": {
    "ExecuteTime": {
     "end_time": "2019-07-12T22:21:21.466196Z",
     "start_time": "2019-07-12T22:21:21.233372Z"
    }
   },
   "outputs": [
    {
     "name": "stdout",
     "output_type": "stream",
     "text": [
      "元芳|你|怎么|看\n"
     ]
    }
   ],
   "source": [
    "from pyltp import Segmentor\n",
    "segmentor = Segmentor()\n",
    "segmentor.load(\"/pi/ai/ltp/ltp_data_v3.4.0/cws.model\")\n",
    "words = segmentor.segment(\"元芳你怎么看\")\n",
    "print(\"|\".join(words))\n",
    "segmentor.release()"
   ]
  },
  {
   "cell_type": "markdown",
   "metadata": {},
   "source": [
    "⊕ [pyltp/example.py at master · HIT-SCIR/pyltp](https://github.com/HIT-SCIR/pyltp/blob/master/example/example.py)\n"
   ]
  },
  {
   "cell_type": "code",
   "execution_count": 7,
   "metadata": {
    "ExecuteTime": {
     "end_time": "2019-07-12T22:22:29.729217Z",
     "start_time": "2019-07-12T22:22:29.474409Z"
    }
   },
   "outputs": [
    {
     "name": "stdout",
     "output_type": "stream",
     "text": [
      "中国 进出口 银行 与 中国银行 加强 合作 。\n"
     ]
    }
   ],
   "source": [
    "from pyltp import SentenceSplitter, Segmentor, Postagger, Parser, NamedEntityRecognizer, SementicRoleLabeller\n",
    "import sys, os\n",
    "\n",
    "MODELDIR='/pi/ai/ltp/ltp_data_v3.4.0'\n",
    "paragraph = '中国进出口银行与中国银行加强合作。中国进出口银行与中国银行加强合作！'\n",
    "\n",
    "sentence = SentenceSplitter.split(paragraph)[0]\n",
    "\n",
    "segmentor = Segmentor()\n",
    "segmentor.load(os.path.join(MODELDIR, \"cws.model\"))\n",
    "words = segmentor.segment(sentence)\n",
    "print(\" \".join(words))"
   ]
  },
  {
   "cell_type": "code",
   "execution_count": 8,
   "metadata": {
    "ExecuteTime": {
     "end_time": "2019-07-12T22:22:44.660102Z",
     "start_time": "2019-07-12T22:22:43.780165Z"
    }
   },
   "outputs": [
    {
     "name": "stdout",
     "output_type": "stream",
     "text": [
      "ns v n p ni v v wp\n"
     ]
    }
   ],
   "source": [
    "postagger = Postagger()\n",
    "postagger.load(os.path.join(MODELDIR, \"pos.model\"))\n",
    "postags = postagger.postag(words)\n",
    "# list-of-string parameter is support in 0.1.5\n",
    "# postags = postagger.postag([\"中国\",\"进出口\",\"银行\",\"与\",\"中国银行\",\"加强\",\"合作\"])\n",
    "print(\" \".join(postags))"
   ]
  },
  {
   "cell_type": "code",
   "execution_count": 9,
   "metadata": {
    "ExecuteTime": {
     "end_time": "2019-07-12T22:28:00.251628Z",
     "start_time": "2019-07-12T22:27:59.253306Z"
    }
   },
   "outputs": [
    {
     "name": "stdout",
     "output_type": "stream",
     "text": [
      "3:ATT\t3:ATT\t6:SBV\t6:ADV\t4:POB\t0:HED\t6:VOB\t6:WP\n"
     ]
    }
   ],
   "source": [
    "parser = Parser()\n",
    "parser.load(os.path.join(MODELDIR, \"parser.model\"))\n",
    "arcs = parser.parse(words, postags)\n",
    "\n",
    "print(\"\\t\".join(\"%d:%s\" % (arc.head, arc.relation) for arc in arcs))"
   ]
  },
  {
   "cell_type": "code",
   "execution_count": 13,
   "metadata": {
    "ExecuteTime": {
     "end_time": "2019-07-13T00:08:53.461571Z",
     "start_time": "2019-07-13T00:08:53.379706Z"
    }
   },
   "outputs": [
    {
     "name": "stdout",
     "output_type": "stream",
     "text": [
      "B-Ni\tI-Ni\tE-Ni\tO\tS-Ni\tO\tO\tO\n"
     ]
    }
   ],
   "source": [
    "recognizer = NamedEntityRecognizer()\n",
    "recognizer.load(os.path.join(MODELDIR, \"ner.model\"))\n",
    "netags = recognizer.recognize(words, postags)\n",
    "print(\"\\t\".join(netags))"
   ]
  },
  {
   "cell_type": "code",
   "execution_count": 11,
   "metadata": {
    "ExecuteTime": {
     "end_time": "2019-07-12T22:28:46.530242Z",
     "start_time": "2019-07-12T22:28:43.740681Z"
    }
   },
   "outputs": [
    {
     "name": "stdout",
     "output_type": "stream",
     "text": [
      "5 A0:(0,2)A1:(6,6)\n"
     ]
    }
   ],
   "source": [
    "labeller = SementicRoleLabeller()\n",
    "labeller.load(os.path.join(MODELDIR, \"pisrl.model\"))\n",
    "roles = labeller.label(words, postags, arcs)\n",
    "\n",
    "for role in roles:\n",
    "    print(role.index, \"\".join(\n",
    "            [\"%s:(%d,%d)\" % (arg.name, arg.range.start, arg.range.end) for arg in role.arguments]))"
   ]
  },
  {
   "cell_type": "code",
   "execution_count": 12,
   "metadata": {
    "ExecuteTime": {
     "end_time": "2019-07-12T22:29:05.805093Z",
     "start_time": "2019-07-12T22:29:05.425187Z"
    }
   },
   "outputs": [],
   "source": [
    "segmentor.release()\n",
    "postagger.release()\n",
    "parser.release()\n",
    "recognizer.release()\n",
    "labeller.release()\n"
   ]
  },
  {
   "cell_type": "code",
   "execution_count": 14,
   "metadata": {
    "ExecuteTime": {
     "end_time": "2019-07-13T00:39:11.969256Z",
     "start_time": "2019-07-13T00:39:10.298801Z"
    }
   },
   "outputs": [
    {
     "name": "stdout",
     "output_type": "stream",
     "text": [
      "中国\t进出口\t银行\t与\t中国银行\t加强\t合作\t。\n",
      "3:ATT\t3:ATT\t6:SBV\t6:ADV\t4:POB\t0:HED\t6:VOB\t6:WP\n"
     ]
    }
   ],
   "source": [
    "parser = Parser()\n",
    "parser.load(os.path.join(MODELDIR, \"parser.model\"))\n",
    "segmentor = Segmentor()\n",
    "segmentor.load(os.path.join(MODELDIR, \"cws.model\"))\n",
    "\n",
    "paragraph = '中国进出口银行与中国银行加强合作。中国进出口银行与中国银行加强合作！'\n",
    "\n",
    "sentence = SentenceSplitter.split(paragraph)[0]\n",
    "words = segmentor.segment(sentence)\n",
    "print(\"\\t\".join(words))\n",
    "\n",
    "arcs = parser.parse(words, postags)\n",
    "print(\"\\t\".join(\"%d:%s\" % (arc.head, arc.relation) for arc in arcs))"
   ]
  },
  {
   "cell_type": "code",
   "execution_count": 19,
   "metadata": {
    "ExecuteTime": {
     "end_time": "2019-07-13T00:43:34.964508Z",
     "start_time": "2019-07-13T00:43:34.906301Z"
    }
   },
   "outputs": [
    {
     "name": "stdout",
     "output_type": "stream",
     "text": [
      "银行 --> 中国|ATT|ns|B-Ni\n",
      "银行 --> 进出口|ATT|v|I-Ni\n",
      "加强 --> 银行|SBV|n|E-Ni\n",
      "加强 --> 与|ADV|p|O\n",
      "与 --> 中国银行|POB|ni|S-Ni\n",
      "。 --> 加强|HED|v|O\n",
      "加强 --> 合作|VOB|v|O\n",
      "加强 --> 。|WP|wp|O\n"
     ]
    },
    {
     "data": {
      "text/html": [
       "<div>\n",
       "<style scoped>\n",
       "    .dataframe tbody tr th:only-of-type {\n",
       "        vertical-align: middle;\n",
       "    }\n",
       "\n",
       "    .dataframe tbody tr th {\n",
       "        vertical-align: top;\n",
       "    }\n",
       "\n",
       "    .dataframe thead th {\n",
       "        text-align: right;\n",
       "    }\n",
       "</style>\n",
       "<table border=\"1\" class=\"dataframe\">\n",
       "  <thead>\n",
       "    <tr style=\"text-align: right;\">\n",
       "      <th></th>\n",
       "      <th>弧头</th>\n",
       "      <th>弧尾</th>\n",
       "      <th>依存关系</th>\n",
       "      <th>词性</th>\n",
       "      <th>命名实体</th>\n",
       "    </tr>\n",
       "  </thead>\n",
       "  <tbody>\n",
       "    <tr>\n",
       "      <th>0</th>\n",
       "      <td>银行</td>\n",
       "      <td>中国</td>\n",
       "      <td>ATT</td>\n",
       "      <td>ns</td>\n",
       "      <td>B-Ni</td>\n",
       "    </tr>\n",
       "    <tr>\n",
       "      <th>1</th>\n",
       "      <td>银行</td>\n",
       "      <td>进出口</td>\n",
       "      <td>ATT</td>\n",
       "      <td>v</td>\n",
       "      <td>I-Ni</td>\n",
       "    </tr>\n",
       "    <tr>\n",
       "      <th>2</th>\n",
       "      <td>加强</td>\n",
       "      <td>银行</td>\n",
       "      <td>SBV</td>\n",
       "      <td>n</td>\n",
       "      <td>E-Ni</td>\n",
       "    </tr>\n",
       "    <tr>\n",
       "      <th>3</th>\n",
       "      <td>加强</td>\n",
       "      <td>与</td>\n",
       "      <td>ADV</td>\n",
       "      <td>p</td>\n",
       "      <td>O</td>\n",
       "    </tr>\n",
       "    <tr>\n",
       "      <th>4</th>\n",
       "      <td>与</td>\n",
       "      <td>中国银行</td>\n",
       "      <td>POB</td>\n",
       "      <td>ni</td>\n",
       "      <td>S-Ni</td>\n",
       "    </tr>\n",
       "    <tr>\n",
       "      <th>5</th>\n",
       "      <td>。</td>\n",
       "      <td>加强</td>\n",
       "      <td>HED</td>\n",
       "      <td>v</td>\n",
       "      <td>O</td>\n",
       "    </tr>\n",
       "    <tr>\n",
       "      <th>6</th>\n",
       "      <td>加强</td>\n",
       "      <td>合作</td>\n",
       "      <td>VOB</td>\n",
       "      <td>v</td>\n",
       "      <td>O</td>\n",
       "    </tr>\n",
       "    <tr>\n",
       "      <th>7</th>\n",
       "      <td>加强</td>\n",
       "      <td>。</td>\n",
       "      <td>WP</td>\n",
       "      <td>wp</td>\n",
       "      <td>O</td>\n",
       "    </tr>\n",
       "  </tbody>\n",
       "</table>\n",
       "</div>"
      ],
      "text/plain": [
       "   弧头    弧尾 依存关系  词性  命名实体\n",
       "0  银行    中国  ATT  ns  B-Ni\n",
       "1  银行   进出口  ATT   v  I-Ni\n",
       "2  加强    银行  SBV   n  E-Ni\n",
       "3  加强     与  ADV   p     O\n",
       "4   与  中国银行  POB  ni  S-Ni\n",
       "5   。    加强  HED   v     O\n",
       "6  加强    合作  VOB   v     O\n",
       "7  加强     。   WP  wp     O"
      ]
     },
     "execution_count": 19,
     "metadata": {},
     "output_type": "execute_result"
    }
   ],
   "source": [
    "import sagas\n",
    "rs=[]\n",
    "for i in range(len(words)):\n",
    "    print(\"%s --> %s|%s|%s|%s\" % (words[int(arcs[i].head)-1], words[i], \\\n",
    "        arcs[i].relation, postags[i], netags[i]))\n",
    "    rs.append((words[int(arcs[i].head)-1], words[i], \\\n",
    "       arcs[i].relation, postags[i], netags[i]))\n",
    "sagas.to_df(rs, ['弧头','弧尾','依存关系','词性','命名实体'])"
   ]
  },
  {
   "cell_type": "markdown",
   "metadata": {},
   "source": [
    "## 语义角色标注\n",
    "语义角色标注 (Semantic Role Labeling, SRL) 是一种浅层的语义分析技术，标注句子中某些短语为给定谓词的论元 (语义角色) ，如施事、受事、时间和地点等。其能够对问答系统、信息抽取和机器翻译等应用产生推动作用。 仍然是上面的例子，语义角色标注的结果为下图： ...\n",
    "\n",
    "其中有三个谓词提出，调研和探索。以探索为例，积极是它的方式（一般用ADV表示），而新机制则是它的受事（一般用A1表示）\n",
    "\n",
    "核心的语义角色为 A0-5 六种，A0 通常表示动作的施事，A1通常表示动作的影响等，A2-5 根据谓语动词不同会有不同的语义含义。其余的15个语义角色为附加语义角色，如LOC 表示地点，TMP 表示时间等。附加语义角色列表如下：\n",
    "https://www.ltp-cloud.com/intro#srl_how\n"
   ]
  },
  {
   "attachments": {
    "image.png": {
     "image/png": "[encoded data removed]"
    }
   },
   "cell_type": "markdown",
   "metadata": {},
   "source": [
    "![image.png](attachment:image.png)"
   ]
  },
  {
   "cell_type": "code",
   "execution_count": 21,
   "metadata": {
    "ExecuteTime": {
     "end_time": "2019-07-13T01:52:05.608043Z",
     "start_time": "2019-07-13T01:52:05.589238Z"
    }
   },
   "outputs": [
    {
     "data": {
      "text/html": [
       "<div>\n",
       "<style scoped>\n",
       "    .dataframe tbody tr th:only-of-type {\n",
       "        vertical-align: middle;\n",
       "    }\n",
       "\n",
       "    .dataframe tbody tr th {\n",
       "        vertical-align: top;\n",
       "    }\n",
       "\n",
       "    .dataframe thead th {\n",
       "        text-align: right;\n",
       "    }\n",
       "</style>\n",
       "<table border=\"1\" class=\"dataframe\">\n",
       "  <thead>\n",
       "    <tr style=\"text-align: right;\">\n",
       "      <th></th>\n",
       "      <th>mark</th>\n",
       "      <th>description</th>\n",
       "    </tr>\n",
       "  </thead>\n",
       "  <tbody>\n",
       "    <tr>\n",
       "      <th>0</th>\n",
       "      <td>ADV</td>\n",
       "      <td>adverbial, default tag ( 附加的，默认标记 )</td>\n",
       "    </tr>\n",
       "    <tr>\n",
       "      <th>1</th>\n",
       "      <td>BNE</td>\n",
       "      <td>beneﬁciary ( 受益人 )</td>\n",
       "    </tr>\n",
       "    <tr>\n",
       "      <th>2</th>\n",
       "      <td>CND</td>\n",
       "      <td>condition ( 条件 )</td>\n",
       "    </tr>\n",
       "    <tr>\n",
       "      <th>3</th>\n",
       "      <td>DIR</td>\n",
       "      <td>direction ( 方向 )</td>\n",
       "    </tr>\n",
       "    <tr>\n",
       "      <th>4</th>\n",
       "      <td>DGR</td>\n",
       "      <td>degree ( 程度 )</td>\n",
       "    </tr>\n",
       "    <tr>\n",
       "      <th>5</th>\n",
       "      <td>EXT</td>\n",
       "      <td>extent ( 扩展 )</td>\n",
       "    </tr>\n",
       "    <tr>\n",
       "      <th>6</th>\n",
       "      <td>FRQ</td>\n",
       "      <td>frequency ( 频率 )</td>\n",
       "    </tr>\n",
       "    <tr>\n",
       "      <th>7</th>\n",
       "      <td>LOC</td>\n",
       "      <td>locative ( 地点 )</td>\n",
       "    </tr>\n",
       "    <tr>\n",
       "      <th>8</th>\n",
       "      <td>MNR</td>\n",
       "      <td>manner ( 方式 )</td>\n",
       "    </tr>\n",
       "    <tr>\n",
       "      <th>9</th>\n",
       "      <td>PRP</td>\n",
       "      <td>purpose or reason ( 目的或原因 )</td>\n",
       "    </tr>\n",
       "    <tr>\n",
       "      <th>10</th>\n",
       "      <td>TMP</td>\n",
       "      <td>temporal ( 时间 )</td>\n",
       "    </tr>\n",
       "    <tr>\n",
       "      <th>11</th>\n",
       "      <td>TPC</td>\n",
       "      <td>topic ( 主题 )</td>\n",
       "    </tr>\n",
       "    <tr>\n",
       "      <th>12</th>\n",
       "      <td>CRD</td>\n",
       "      <td>coordinated arguments ( 并列参数 )</td>\n",
       "    </tr>\n",
       "    <tr>\n",
       "      <th>13</th>\n",
       "      <td>PRD</td>\n",
       "      <td>predicate ( 谓语动词 )</td>\n",
       "    </tr>\n",
       "    <tr>\n",
       "      <th>14</th>\n",
       "      <td>PSR</td>\n",
       "      <td>possessor ( 持有者 )</td>\n",
       "    </tr>\n",
       "    <tr>\n",
       "      <th>15</th>\n",
       "      <td>PSE</td>\n",
       "      <td>possessee ( 被持有 )</td>\n",
       "    </tr>\n",
       "  </tbody>\n",
       "</table>\n",
       "</div>"
      ],
      "text/plain": [
       "   mark                          description\n",
       "0   ADV  adverbial, default tag ( 附加的，默认标记 )\n",
       "1   BNE                   beneﬁciary ( 受益人 )\n",
       "2   CND                     condition ( 条件 )\n",
       "3   DIR                     direction ( 方向 )\n",
       "4   DGR                        degree ( 程度 )\n",
       "5   EXT                        extent ( 扩展 )\n",
       "6   FRQ                     frequency ( 频率 )\n",
       "7   LOC                      locative ( 地点 )\n",
       "8   MNR                        manner ( 方式 )\n",
       "9   PRP          purpose or reason ( 目的或原因 )\n",
       "10  TMP                      temporal ( 时间 )\n",
       "11  TPC                         topic ( 主题 )\n",
       "12  CRD       coordinated arguments ( 并列参数 )\n",
       "13  PRD                   predicate ( 谓语动词 )\n",
       "14  PSR                    possessor ( 持有者 )\n",
       "15  PSE                    possessee ( 被持有 )"
      ]
     },
     "execution_count": 21,
     "metadata": {},
     "output_type": "execute_result"
    }
   ],
   "source": [
    "descs='''标记\t说明\n",
    "ADV\tadverbial, default tag ( 附加的，默认标记 )\n",
    "BNE\tbeneﬁciary ( 受益人 )\n",
    "CND\tcondition ( 条件 )\n",
    "DIR\tdirection ( 方向 )\n",
    "DGR\tdegree ( 程度 )\n",
    "EXT\textent ( 扩展 )\n",
    "FRQ\tfrequency ( 频率 )\n",
    "LOC\tlocative ( 地点 )\n",
    "MNR\tmanner ( 方式 )\n",
    "PRP\tpurpose or reason ( 目的或原因 )\n",
    "TMP\ttemporal ( 时间 )\n",
    "TPC\ttopic ( 主题 )\n",
    "CRD\tcoordinated arguments ( 并列参数 )\n",
    "PRD\tpredicate ( 谓语动词 )\n",
    "PSR\tpossessor ( 持有者 )\n",
    "PSE\tpossessee ( 被持有 )'''\n",
    "desc_rs=[]\n",
    "for desc in descs.split('\\n')[1:]:\n",
    "    desc_rs.append(desc.split('\\t'))\n",
    "sagas.to_df(desc_rs, ['mark', 'description'])"
   ]
  },
  {
   "cell_type": "code",
   "execution_count": 24,
   "metadata": {
    "ExecuteTime": {
     "end_time": "2019-07-13T01:55:13.879568Z",
     "start_time": "2019-07-13T01:55:13.340246Z"
    }
   },
   "outputs": [],
   "source": [
    "labeller = SementicRoleLabeller()\n",
    "labeller.load(os.path.join(MODELDIR, \"pisrl.model\"))"
   ]
  },
  {
   "cell_type": "code",
   "execution_count": 39,
   "metadata": {
    "ExecuteTime": {
     "end_time": "2019-07-13T02:12:46.589165Z",
     "start_time": "2019-07-13T02:12:46.516997Z"
    },
    "scrolled": true
   },
   "outputs": [
    {
     "name": "stdout",
     "output_type": "stream",
     "text": [
      "sents 中国 进出口 银行 与 中国银行 加强 合作 。\n",
      "5 -> A0:(0,2) _ A1:(6,6) _ \n",
      "A0 0 2\n",
      "动作的施事 中国进出口银行\n",
      "----\n",
      "A1 6 6\n",
      "动作的影响 合作\n",
      "----\n"
     ]
    }
   ],
   "source": [
    "def join_words(words, arg_range):\n",
    "    return ''.join([str(words[idx]) for idx in range(arg_range.start, arg_range.end+1)])\n",
    "\n",
    "def explain(arg_name):\n",
    "    if arg_name=='A0':\n",
    "        return '动作的施事'\n",
    "    elif arg_name=='A1':\n",
    "        return '动作的影响'\n",
    "    return arg_name\n",
    "\n",
    "print('sents', \" \".join(words))\n",
    "roles = labeller.label(words, postags, arcs)\n",
    "for role in roles:\n",
    "    print(role.index, '->', \"\".join(\n",
    "            [\"%s:(%d,%d) _ \" % (arg.name, arg.range.start, arg.range.end) for arg in role.arguments]))\n",
    "    for arg in role.arguments: \n",
    "        # print(''.join(words[arg.range.start:arg.range.end]))\n",
    "        print(arg.name, arg.range.start, arg.range.end)\n",
    "        # print(arg.name, words[arg.range.start], words[arg.range.end])\n",
    "        print(explain(arg.name), join_words(words, arg.range))\n",
    "        print('----')"
   ]
  },
  {
   "cell_type": "code",
   "execution_count": 40,
   "metadata": {
    "ExecuteTime": {
     "end_time": "2019-07-13T02:55:03.516455Z",
     "start_time": "2019-07-13T02:55:03.479900Z"
    }
   },
   "outputs": [
    {
     "name": "stdout",
     "output_type": "stream",
     "text": [
      "top 5 questions similar to \"\u001b[32mThat was very bad\u001b[0m\"\n"
     ]
    }
   ],
   "source": [
    "from termcolor import colored\n",
    "query=\"That was very bad\"\n",
    "topk = 5\n",
    "print('top %d questions similar to \"%s\"' % (topk, colored(query, 'green')))"
   ]
  },
  {
   "cell_type": "code",
   "execution_count": 2,
   "metadata": {
    "ExecuteTime": {
     "end_time": "2019-07-19T07:52:16.331899Z",
     "start_time": "2019-07-19T07:52:16.296278Z"
    }
   },
   "outputs": [
    {
     "data": {
      "text/html": [
       "<div>\n",
       "<style scoped>\n",
       "    .dataframe tbody tr th:only-of-type {\n",
       "        vertical-align: middle;\n",
       "    }\n",
       "\n",
       "    .dataframe tbody tr th {\n",
       "        vertical-align: top;\n",
       "    }\n",
       "\n",
       "    .dataframe thead th {\n",
       "        text-align: right;\n",
       "    }\n",
       "</style>\n",
       "<table border=\"1\" class=\"dataframe\">\n",
       "  <thead>\n",
       "    <tr style=\"text-align: right;\">\n",
       "      <th></th>\n",
       "      <th>type</th>\n",
       "      <th>tag</th>\n",
       "      <th>desc</th>\n",
       "      <th>example</th>\n",
       "    </tr>\n",
       "  </thead>\n",
       "  <tbody>\n",
       "    <tr>\n",
       "      <th>0</th>\n",
       "      <td>主谓关系</td>\n",
       "      <td>SBV</td>\n",
       "      <td>subject-verb</td>\n",
       "      <td>我送她一束花 (我 &lt;– 送)</td>\n",
       "    </tr>\n",
       "    <tr>\n",
       "      <th>1</th>\n",
       "      <td>动宾关系</td>\n",
       "      <td>VOB</td>\n",
       "      <td>直接宾语，verb-object</td>\n",
       "      <td>我送她一束花 (送 –&gt; 花)</td>\n",
       "    </tr>\n",
       "    <tr>\n",
       "      <th>2</th>\n",
       "      <td>间宾关系</td>\n",
       "      <td>IOB</td>\n",
       "      <td>间接宾语，indirect-object</td>\n",
       "      <td>我送她一束花 (送 –&gt; 她)</td>\n",
       "    </tr>\n",
       "    <tr>\n",
       "      <th>3</th>\n",
       "      <td>前置宾语</td>\n",
       "      <td>FOB</td>\n",
       "      <td>前置宾语，fronting-object</td>\n",
       "      <td>他什么书都读 (书 &lt;– 读)</td>\n",
       "    </tr>\n",
       "    <tr>\n",
       "      <th>4</th>\n",
       "      <td>兼语</td>\n",
       "      <td>DBL</td>\n",
       "      <td>double</td>\n",
       "      <td>他请我吃饭 (请 –&gt; 我)</td>\n",
       "    </tr>\n",
       "    <tr>\n",
       "      <th>5</th>\n",
       "      <td>定中关系</td>\n",
       "      <td>ATT</td>\n",
       "      <td>attribute</td>\n",
       "      <td>红苹果 (红 &lt;– 苹果)</td>\n",
       "    </tr>\n",
       "    <tr>\n",
       "      <th>6</th>\n",
       "      <td>状中结构</td>\n",
       "      <td>ADV</td>\n",
       "      <td>adverbial</td>\n",
       "      <td>非常美丽 (非常 &lt;– 美丽)</td>\n",
       "    </tr>\n",
       "    <tr>\n",
       "      <th>7</th>\n",
       "      <td>动补结构</td>\n",
       "      <td>CMP</td>\n",
       "      <td>complement</td>\n",
       "      <td>做完了作业 (做 –&gt; 完)</td>\n",
       "    </tr>\n",
       "    <tr>\n",
       "      <th>8</th>\n",
       "      <td>并列关系</td>\n",
       "      <td>COO</td>\n",
       "      <td>coordinate</td>\n",
       "      <td>大山和大海 (大山 –&gt; 大海)</td>\n",
       "    </tr>\n",
       "    <tr>\n",
       "      <th>9</th>\n",
       "      <td>介宾关系</td>\n",
       "      <td>POB</td>\n",
       "      <td>preposition-object</td>\n",
       "      <td>在贸易区内 (在 –&gt; 内)</td>\n",
       "    </tr>\n",
       "    <tr>\n",
       "      <th>10</th>\n",
       "      <td>左附加关系</td>\n",
       "      <td>LAD</td>\n",
       "      <td>left adjunct</td>\n",
       "      <td>大山和大海 (和 &lt;– 大海)</td>\n",
       "    </tr>\n",
       "    <tr>\n",
       "      <th>11</th>\n",
       "      <td>右附加关系</td>\n",
       "      <td>RAD</td>\n",
       "      <td>right adjunct</td>\n",
       "      <td>孩子们 (孩子 –&gt; 们)</td>\n",
       "    </tr>\n",
       "    <tr>\n",
       "      <th>12</th>\n",
       "      <td>独立结构</td>\n",
       "      <td>IS</td>\n",
       "      <td>independent structure</td>\n",
       "      <td>两个单句在结构上彼此独立</td>\n",
       "    </tr>\n",
       "    <tr>\n",
       "      <th>13</th>\n",
       "      <td>核心关系</td>\n",
       "      <td>HED</td>\n",
       "      <td>head</td>\n",
       "      <td>指整个句子的核心</td>\n",
       "    </tr>\n",
       "  </tbody>\n",
       "</table>\n",
       "</div>"
      ],
      "text/plain": [
       "     type  tag                   desc           example\n",
       "0    主谓关系  SBV           subject-verb   我送她一束花 (我 <– 送)\n",
       "1    动宾关系  VOB       直接宾语，verb-object   我送她一束花 (送 –> 花)\n",
       "2    间宾关系  IOB   间接宾语，indirect-object   我送她一束花 (送 –> 她)\n",
       "3    前置宾语  FOB   前置宾语，fronting-object   他什么书都读 (书 <– 读)\n",
       "4      兼语  DBL                 double    他请我吃饭 (请 –> 我)\n",
       "5    定中关系  ATT              attribute     红苹果 (红 <– 苹果)\n",
       "6    状中结构  ADV              adverbial   非常美丽 (非常 <– 美丽)\n",
       "7    动补结构  CMP             complement    做完了作业 (做 –> 完)\n",
       "8    并列关系  COO             coordinate  大山和大海 (大山 –> 大海)\n",
       "9    介宾关系  POB     preposition-object    在贸易区内 (在 –> 内)\n",
       "10  左附加关系  LAD           left adjunct   大山和大海 (和 <– 大海)\n",
       "11  右附加关系  RAD          right adjunct     孩子们 (孩子 –> 们)\n",
       "12   独立结构   IS  independent structure      两个单句在结构上彼此独立\n",
       "13   核心关系  HED                   head          指整个句子的核心"
      ]
     },
     "execution_count": 2,
     "metadata": {},
     "output_type": "execute_result"
    }
   ],
   "source": [
    "import sagas\n",
    "dep_defs='''主谓关系\tSBV\tsubject-verb\t我送她一束花 (我 <– 送)\n",
    "动宾关系\tVOB\t直接宾语，verb-object\t我送她一束花 (送 –> 花)\n",
    "间宾关系\tIOB\t间接宾语，indirect-object\t我送她一束花 (送 –> 她)\n",
    "前置宾语\tFOB\t前置宾语，fronting-object\t他什么书都读 (书 <– 读)\n",
    "兼语\tDBL\tdouble\t他请我吃饭 (请 –> 我)\n",
    "定中关系\tATT\tattribute\t红苹果 (红 <– 苹果)\n",
    "状中结构\tADV\tadverbial\t非常美丽 (非常 <– 美丽)\n",
    "动补结构\tCMP\tcomplement\t做完了作业 (做 –> 完)\n",
    "并列关系\tCOO\tcoordinate\t大山和大海 (大山 –> 大海)\n",
    "介宾关系\tPOB\tpreposition-object\t在贸易区内 (在 –> 内)\n",
    "左附加关系\tLAD\tleft adjunct\t大山和大海 (和 <– 大海)\n",
    "右附加关系\tRAD\tright adjunct\t孩子们 (孩子 –> 们)\n",
    "独立结构\tIS\tindependent structure\t两个单句在结构上彼此独立\n",
    "核心关系\tHED\thead\t指整个句子的核心'''.split('\\n')\n",
    "def_rs=[]\n",
    "for dep in dep_defs:\n",
    "    def_rs.append(dep.split('\\t'))\n",
    "sagas.to_df(def_rs, ['type', 'tag', 'desc', 'example'])"
   ]
  },
  {
   "cell_type": "code",
   "execution_count": 28,
   "metadata": {
    "ExecuteTime": {
     "end_time": "2019-07-19T11:47:57.939484Z",
     "start_time": "2019-07-19T11:47:57.888748Z"
    },
    "scrolled": true
   },
   "outputs": [
    {
     "data": {
      "text/html": [
       "<div>\n",
       "<style scoped>\n",
       "    .dataframe tbody tr th:only-of-type {\n",
       "        vertical-align: middle;\n",
       "    }\n",
       "\n",
       "    .dataframe tbody tr th {\n",
       "        vertical-align: top;\n",
       "    }\n",
       "\n",
       "    .dataframe thead th {\n",
       "        text-align: right;\n",
       "    }\n",
       "</style>\n",
       "<table border=\"1\" class=\"dataframe\">\n",
       "  <thead>\n",
       "    <tr style=\"text-align: right;\">\n",
       "      <th></th>\n",
       "      <th>tag</th>\n",
       "      <th>desc</th>\n",
       "      <th>example</th>\n",
       "    </tr>\n",
       "  </thead>\n",
       "  <tbody>\n",
       "    <tr>\n",
       "      <th>0</th>\n",
       "      <td>a</td>\n",
       "      <td>adjective</td>\n",
       "      <td>美丽</td>\n",
       "    </tr>\n",
       "    <tr>\n",
       "      <th>1</th>\n",
       "      <td>ni</td>\n",
       "      <td>organization name</td>\n",
       "      <td>保险公司</td>\n",
       "    </tr>\n",
       "    <tr>\n",
       "      <th>2</th>\n",
       "      <td>b</td>\n",
       "      <td>other noun-modifier</td>\n",
       "      <td>大型, 西式</td>\n",
       "    </tr>\n",
       "    <tr>\n",
       "      <th>3</th>\n",
       "      <td>nl</td>\n",
       "      <td>location noun</td>\n",
       "      <td>城郊</td>\n",
       "    </tr>\n",
       "    <tr>\n",
       "      <th>4</th>\n",
       "      <td>c</td>\n",
       "      <td>conjunction</td>\n",
       "      <td>和, 虽然</td>\n",
       "    </tr>\n",
       "    <tr>\n",
       "      <th>5</th>\n",
       "      <td>ns</td>\n",
       "      <td>geographical name</td>\n",
       "      <td>北京</td>\n",
       "    </tr>\n",
       "    <tr>\n",
       "      <th>6</th>\n",
       "      <td>d</td>\n",
       "      <td>adverb</td>\n",
       "      <td>很</td>\n",
       "    </tr>\n",
       "    <tr>\n",
       "      <th>7</th>\n",
       "      <td>nt</td>\n",
       "      <td>temporal noun</td>\n",
       "      <td>近日, 明代</td>\n",
       "    </tr>\n",
       "    <tr>\n",
       "      <th>8</th>\n",
       "      <td>e</td>\n",
       "      <td>exclamation</td>\n",
       "      <td>哎</td>\n",
       "    </tr>\n",
       "    <tr>\n",
       "      <th>9</th>\n",
       "      <td>nz</td>\n",
       "      <td>other proper noun</td>\n",
       "      <td>诺贝尔奖</td>\n",
       "    </tr>\n",
       "    <tr>\n",
       "      <th>10</th>\n",
       "      <td>g</td>\n",
       "      <td>morpheme</td>\n",
       "      <td>茨, 甥</td>\n",
       "    </tr>\n",
       "    <tr>\n",
       "      <th>11</th>\n",
       "      <td>o</td>\n",
       "      <td>onomatopoeia</td>\n",
       "      <td>哗啦</td>\n",
       "    </tr>\n",
       "    <tr>\n",
       "      <th>12</th>\n",
       "      <td>h</td>\n",
       "      <td>prefix</td>\n",
       "      <td>阿, 伪</td>\n",
       "    </tr>\n",
       "    <tr>\n",
       "      <th>13</th>\n",
       "      <td>p</td>\n",
       "      <td>preposition</td>\n",
       "      <td>在, 把</td>\n",
       "    </tr>\n",
       "    <tr>\n",
       "      <th>14</th>\n",
       "      <td>i</td>\n",
       "      <td>idiom</td>\n",
       "      <td>百花齐放</td>\n",
       "    </tr>\n",
       "    <tr>\n",
       "      <th>15</th>\n",
       "      <td>q</td>\n",
       "      <td>quantity</td>\n",
       "      <td>个</td>\n",
       "    </tr>\n",
       "    <tr>\n",
       "      <th>16</th>\n",
       "      <td>j</td>\n",
       "      <td>abbreviation</td>\n",
       "      <td>公检法</td>\n",
       "    </tr>\n",
       "    <tr>\n",
       "      <th>17</th>\n",
       "      <td>r</td>\n",
       "      <td>pronoun</td>\n",
       "      <td>我们</td>\n",
       "    </tr>\n",
       "    <tr>\n",
       "      <th>18</th>\n",
       "      <td>k</td>\n",
       "      <td>suffix</td>\n",
       "      <td>界, 率</td>\n",
       "    </tr>\n",
       "    <tr>\n",
       "      <th>19</th>\n",
       "      <td>u</td>\n",
       "      <td>auxiliary</td>\n",
       "      <td>的, 地</td>\n",
       "    </tr>\n",
       "    <tr>\n",
       "      <th>20</th>\n",
       "      <td>m</td>\n",
       "      <td>number</td>\n",
       "      <td>一, 第一</td>\n",
       "    </tr>\n",
       "    <tr>\n",
       "      <th>21</th>\n",
       "      <td>v</td>\n",
       "      <td>verb</td>\n",
       "      <td>跑, 学习</td>\n",
       "    </tr>\n",
       "    <tr>\n",
       "      <th>22</th>\n",
       "      <td>n</td>\n",
       "      <td>general noun</td>\n",
       "      <td>苹果</td>\n",
       "    </tr>\n",
       "    <tr>\n",
       "      <th>23</th>\n",
       "      <td>wp</td>\n",
       "      <td>punctuation</td>\n",
       "      <td>，。！</td>\n",
       "    </tr>\n",
       "    <tr>\n",
       "      <th>24</th>\n",
       "      <td>nd</td>\n",
       "      <td>direction noun</td>\n",
       "      <td>右侧</td>\n",
       "    </tr>\n",
       "    <tr>\n",
       "      <th>25</th>\n",
       "      <td>ws</td>\n",
       "      <td>foreign words</td>\n",
       "      <td>CPU</td>\n",
       "    </tr>\n",
       "    <tr>\n",
       "      <th>26</th>\n",
       "      <td>nh</td>\n",
       "      <td>person name</td>\n",
       "      <td>杜甫, 汤姆</td>\n",
       "    </tr>\n",
       "    <tr>\n",
       "      <th>27</th>\n",
       "      <td>x</td>\n",
       "      <td>non-lexeme</td>\n",
       "      <td>萄, 翱</td>\n",
       "    </tr>\n",
       "    <tr>\n",
       "      <th>28</th>\n",
       "      <td></td>\n",
       "      <td></td>\n",
       "      <td></td>\n",
       "    </tr>\n",
       "    <tr>\n",
       "      <th>29</th>\n",
       "      <td>z</td>\n",
       "      <td>descriptive words</td>\n",
       "      <td>瑟瑟，匆匆</td>\n",
       "    </tr>\n",
       "  </tbody>\n",
       "</table>\n",
       "</div>"
      ],
      "text/plain": [
       "   tag                 desc example\n",
       "0    a            adjective      美丽\n",
       "1   ni    organization name    保险公司\n",
       "2    b  other noun-modifier  大型, 西式\n",
       "3   nl        location noun      城郊\n",
       "4    c          conjunction   和, 虽然\n",
       "5   ns    geographical name      北京\n",
       "6    d               adverb       很\n",
       "7   nt        temporal noun  近日, 明代\n",
       "8    e          exclamation       哎\n",
       "9   nz    other proper noun    诺贝尔奖\n",
       "10   g             morpheme    茨, 甥\n",
       "11   o         onomatopoeia      哗啦\n",
       "12   h               prefix    阿, 伪\n",
       "13   p          preposition    在, 把\n",
       "14   i                idiom    百花齐放\n",
       "15   q             quantity       个\n",
       "16   j         abbreviation     公检法\n",
       "17   r              pronoun      我们\n",
       "18   k               suffix    界, 率\n",
       "19   u            auxiliary    的, 地\n",
       "20   m               number   一, 第一\n",
       "21   v                 verb   跑, 学习\n",
       "22   n         general noun      苹果\n",
       "23  wp          punctuation     ，。！\n",
       "24  nd       direction noun      右侧\n",
       "25  ws        foreign words     CPU\n",
       "26  nh          person name  杜甫, 汤姆\n",
       "27   x           non-lexeme    萄, 翱\n",
       "28                                 \n",
       "29   z    descriptive words   瑟瑟，匆匆"
      ]
     },
     "execution_count": 28,
     "metadata": {},
     "output_type": "execute_result"
    }
   ],
   "source": [
    "# https://ltp.readthedocs.io/zh_CN/latest/appendix.html#id3\n",
    "# LTP 使用的是863词性标注集，其各个词性含义如下表\n",
    "pos_defs='''a\tadjective\t美丽\tni\torganization name\t保险公司\n",
    "b\tother noun-modifier\t大型, 西式\tnl\tlocation noun\t城郊\n",
    "c\tconjunction\t和, 虽然\tns\tgeographical name\t北京\n",
    "d\tadverb\t很\tnt\ttemporal noun\t近日, 明代\n",
    "e\texclamation\t哎\tnz\tother proper noun\t诺贝尔奖\n",
    "g\tmorpheme\t茨, 甥\to\tonomatopoeia\t哗啦\n",
    "h\tprefix\t阿, 伪\tp\tpreposition\t在, 把\n",
    "i\tidiom\t百花齐放\tq\tquantity\t个\n",
    "j\tabbreviation\t公检法\tr\tpronoun\t我们\n",
    "k\tsuffix\t界, 率\tu\tauxiliary\t的, 地\n",
    "m\tnumber\t一, 第一\tv\tverb\t跑, 学习\n",
    "n\tgeneral noun\t苹果\twp\tpunctuation\t，。！\n",
    "nd\tdirection noun\t右侧\tws\tforeign words\tCPU\n",
    "nh\tperson name\t杜甫, 汤姆\tx\tnon-lexeme\t萄, 翱\n",
    " \t \t \tz\tdescriptive words\t瑟瑟，匆匆'''.split('\\n')\n",
    "pos_rs=[]\n",
    "for pos in pos_defs:\n",
    "    parts=pos.split('\\t')    \n",
    "    pos_rs.append(parts[:3])\n",
    "    pos_rs.append(parts[3:])\n",
    "sagas.to_df(pos_rs, ['tag','desc','example'])"
   ]
  },
  {
   "cell_type": "code",
   "execution_count": 4,
   "metadata": {
    "ExecuteTime": {
     "end_time": "2019-07-19T08:11:23.437162Z",
     "start_time": "2019-07-19T08:11:20.547588Z"
    }
   },
   "outputs": [],
   "source": [
    "from sagas.zh.ltp_procs import LtpProcs\n",
    "ltp=LtpProcs()"
   ]
  },
  {
   "cell_type": "code",
   "execution_count": 20,
   "metadata": {
    "ExecuteTime": {
     "end_time": "2019-07-19T08:34:45.139174Z",
     "start_time": "2019-07-19T08:34:45.017706Z"
    }
   },
   "outputs": [
    {
     "name": "stdout",
     "output_type": "stream",
     "text": [
      "root 是 1\n",
      "是 --> 我|SBV|r|O\n",
      "老师 --> 是|HED|v|O\n",
      "老师 --> 一个|ATT|m|O\n",
      "老师 --> 好|ATT|a|O\n",
      "是 --> 老师|VOB|n|O\n",
      "[('sbv', '我'), ('vob', '老师')] ['是']\n"
     ]
    },
    {
     "data": {
      "text/html": [
       "<div>\n",
       "<style scoped>\n",
       "    .dataframe tbody tr th:only-of-type {\n",
       "        vertical-align: middle;\n",
       "    }\n",
       "\n",
       "    .dataframe tbody tr th {\n",
       "        vertical-align: top;\n",
       "    }\n",
       "\n",
       "    .dataframe thead th {\n",
       "        text-align: right;\n",
       "    }\n",
       "</style>\n",
       "<table border=\"1\" class=\"dataframe\">\n",
       "  <thead>\n",
       "    <tr style=\"text-align: right;\">\n",
       "      <th></th>\n",
       "      <th>弧头</th>\n",
       "      <th>弧尾</th>\n",
       "      <th>依存关系</th>\n",
       "      <th>词性</th>\n",
       "      <th>命名实体</th>\n",
       "    </tr>\n",
       "  </thead>\n",
       "  <tbody>\n",
       "    <tr>\n",
       "      <th>0</th>\n",
       "      <td>是</td>\n",
       "      <td>我</td>\n",
       "      <td>SBV</td>\n",
       "      <td>r</td>\n",
       "      <td>O</td>\n",
       "    </tr>\n",
       "    <tr>\n",
       "      <th>1</th>\n",
       "      <td>老师</td>\n",
       "      <td>是</td>\n",
       "      <td>HED</td>\n",
       "      <td>v</td>\n",
       "      <td>O</td>\n",
       "    </tr>\n",
       "    <tr>\n",
       "      <th>2</th>\n",
       "      <td>老师</td>\n",
       "      <td>一个</td>\n",
       "      <td>ATT</td>\n",
       "      <td>m</td>\n",
       "      <td>O</td>\n",
       "    </tr>\n",
       "    <tr>\n",
       "      <th>3</th>\n",
       "      <td>老师</td>\n",
       "      <td>好</td>\n",
       "      <td>ATT</td>\n",
       "      <td>a</td>\n",
       "      <td>O</td>\n",
       "    </tr>\n",
       "    <tr>\n",
       "      <th>4</th>\n",
       "      <td>是</td>\n",
       "      <td>老师</td>\n",
       "      <td>VOB</td>\n",
       "      <td>n</td>\n",
       "      <td>O</td>\n",
       "    </tr>\n",
       "  </tbody>\n",
       "</table>\n",
       "</div>"
      ],
      "text/plain": [
       "   弧头  弧尾 依存关系 词性 命名实体\n",
       "0   是   我  SBV  r    O\n",
       "1  老师   是  HED  v    O\n",
       "2  老师  一个  ATT  m    O\n",
       "3  老师   好  ATT  a    O\n",
       "4   是  老师  VOB  n    O"
      ]
     },
     "execution_count": 20,
     "metadata": {},
     "output_type": "execute_result"
    }
   ],
   "source": [
    "def in_filters(val, filters):\n",
    "    for f in filters:\n",
    "        # if val.endswith(f):\n",
    "        # support suffix, also support as 'nsubj:pass'\n",
    "        if f in val:\n",
    "            return True\n",
    "    return False\n",
    "def parse_sentence(sentence, filters):\n",
    "    words = ltp.segmentor.segment(sentence)\n",
    "    postags = ltp.postagger.postag(words)\n",
    "    arcs = ltp.parser.parse(words, postags)\n",
    "    roles = ltp.labeller.label(words, postags, arcs)\n",
    "    netags = ltp.recognizer.recognize(words, postags)\n",
    "    \n",
    "    root=''\n",
    "    root_idx=0\n",
    "    collector=[]\n",
    "    verbs=[]\n",
    "    for i in range(len(words)):\n",
    "        rel=arcs[i].relation\n",
    "        pos=postags[i]\n",
    "        if rel=='HED':\n",
    "            root=words[i]\n",
    "            root_idx=i\n",
    "        if pos=='v':\n",
    "            verbs.append(words[i])\n",
    "\n",
    "    print('root', root, root_idx)\n",
    "    \n",
    "    rs = []\n",
    "    for i in range(len(words)):\n",
    "        print(\"%s --> %s|%s|%s|%s\" % (words[int(arcs[i].head) - 1], words[i], \\\n",
    "                                      arcs[i].relation, postags[i], netags[i]))\n",
    "        pos=postags[i]\n",
    "        dep_idx=int(arcs[i].head) - 1\n",
    "        head=words[dep_idx]\n",
    "        rel=arcs[i].relation\n",
    "        rs.append((head, words[i], \\\n",
    "                   rel, pos, netags[i]))\n",
    "        if dep_idx==root_idx:\n",
    "            collector.append((rel.lower(), words[i]))\n",
    "    df=sagas.to_df(rs, ['弧头', '弧尾', '依存关系', '词性', '命名实体'])\n",
    "    return df, collector, verbs\n",
    "\n",
    "df, collector, verbs=parse_sentence('我是一个好老师', ['SBV', 'OB'])\n",
    "print(collector, verbs)\n",
    "df"
   ]
  },
  {
   "cell_type": "code",
   "execution_count": 22,
   "metadata": {
    "ExecuteTime": {
     "end_time": "2019-07-19T09:08:37.579263Z",
     "start_time": "2019-07-19T09:08:37.540408Z"
    }
   },
   "outputs": [
    {
     "name": "stdout",
     "output_type": "stream",
     "text": [
      "200 {'lang': 'zh', 'root': '是', 'sbv': '我', 'vob': '老师', 'verbs': ['是']}\n"
     ]
    }
   ],
   "source": [
    "def proc(sents):\n",
    "    import requests\n",
    "    data = {'lang':'zh', \"sents\":sents}\n",
    "    response = requests.post('http://localhost:8091/digest', json=data)\n",
    "    print(response.status_code, response.json())\n",
    "\n",
    "proc(\"我是一个好老师\")"
   ]
  },
  {
   "cell_type": "code",
   "execution_count": 23,
   "metadata": {
    "ExecuteTime": {
     "end_time": "2019-07-19T09:08:47.959372Z",
     "start_time": "2019-07-19T09:08:47.930205Z"
    }
   },
   "outputs": [
    {
     "name": "stdout",
     "output_type": "stream",
     "text": [
      "200 {'lang': 'zh', 'root': '是', 'sbv': '你', 'vob': '获得', 'verbs': ['是', '获得']}\n"
     ]
    }
   ],
   "source": [
    "proc('你是如何获得语言的？')"
   ]
  },
  {
   "cell_type": "code",
   "execution_count": 24,
   "metadata": {
    "ExecuteTime": {
     "end_time": "2019-07-19T09:09:02.833664Z",
     "start_time": "2019-07-19T09:09:02.803617Z"
    }
   },
   "outputs": [
    {
     "name": "stdout",
     "output_type": "stream",
     "text": [
      "200 {'lang': 'zh', 'root': '获得', 'sbv': '你', 'vob': '语言', 'verbs': ['获得']}\n"
     ]
    }
   ],
   "source": [
    "proc('你如何获得语言？')"
   ]
  },
  {
   "cell_type": "code",
   "execution_count": 25,
   "metadata": {
    "ExecuteTime": {
     "end_time": "2019-07-19T09:09:20.091597Z",
     "start_time": "2019-07-19T09:09:20.056893Z"
    }
   },
   "outputs": [
    {
     "name": "stdout",
     "output_type": "stream",
     "text": [
      "200 {'lang': 'zh', 'root': '获得', 'sbv': '你', 'vob': '语言', 'verbs': ['获得']}\n"
     ]
    }
   ],
   "source": [
    "proc('你如何获得语言的？')"
   ]
  },
  {
   "cell_type": "code",
   "execution_count": 33,
   "metadata": {
    "ExecuteTime": {
     "end_time": "2019-07-20T02:26:59.956197Z",
     "start_time": "2019-07-20T02:26:59.802498Z"
    }
   },
   "outputs": [
    {
     "name": "stdout",
     "output_type": "stream",
     "text": [
      "获得 --> 你|SBV|r|O\n",
      "获得 --> 如何|ADV|r|O\n",
      "？ --> 获得|HED|v|O\n",
      "获得 --> 语言|VOB|n|O\n",
      "获得 --> 的|RAD|u|O\n",
      "获得 --> ？|WP|wp|O\n"
     ]
    },
    {
     "data": {
      "image/svg+xml": [
       "<?xml version=\"1.0\" encoding=\"UTF-8\" standalone=\"no\"?>\n",
       "<!DOCTYPE svg PUBLIC \"-//W3C//DTD SVG 1.1//EN\"\n",
       " \"http://www.w3.org/Graphics/SVG/1.1/DTD/svg11.dtd\">\n",
       "<!-- Generated by graphviz version 2.40.1 (20161225.0304)\n",
       " -->\n",
       "<!-- Title: deps Pages: 1 -->\n",
       "<svg width=\"165pt\" height=\"288pt\"\n",
       " viewBox=\"0.00 0.00 165.13 288.00\" xmlns=\"http://www.w3.org/2000/svg\" xmlns:xlink=\"http://www.w3.org/1999/xlink\">\n",
       "<g id=\"graph0\" class=\"graph\" transform=\"scale(.8716 .8716) rotate(0) translate(4 326.4264)\">\n",
       "<title>deps</title>\n",
       "<polygon fill=\"#ffffff\" stroke=\"transparent\" points=\"-4,4 -4,-326.4264 185.4508,-326.4264 185.4508,4 -4,4\"/>\n",
       "<!-- 获得 -->\n",
       "<g id=\"node1\" class=\"node\">\n",
       "<title>获得</title>\n",
       "<ellipse fill=\"none\" stroke=\"#000000\" cx=\"31.1127\" cy=\"-161.2132\" rx=\"31.2258\" ry=\"31.2258\"/>\n",
       "<text text-anchor=\"middle\" x=\"31.1127\" y=\"-159.8132\" font-family=\"Times,serif\" font-size=\"14.00\" fill=\"#000000\">获得</text>\n",
       "</g>\n",
       "<!-- 你 -->\n",
       "<g id=\"node2\" class=\"node\">\n",
       "<title>你</title>\n",
       "<ellipse fill=\"none\" stroke=\"#000000\" cx=\"150.3381\" cy=\"-301.2132\" rx=\"21.4286\" ry=\"21.4286\"/>\n",
       "<text text-anchor=\"middle\" x=\"150.3381\" y=\"-299.8132\" font-family=\"Times,serif\" font-size=\"14.00\" fill=\"#000000\">你</text>\n",
       "</g>\n",
       "<!-- 获得&#45;&gt;你 -->\n",
       "<g id=\"edge1\" class=\"edge\">\n",
       "<title>获得&#45;&gt;你</title>\n",
       "<path fill=\"none\" stroke=\"#000000\" d=\"M49.8362,-186.427C67.1036,-209.2218 93.8315,-243.3734 119.2254,-271.2132 121.7506,-273.9816 124.4745,-276.8115 127.2235,-279.5736\"/>\n",
       "<polygon fill=\"#000000\" stroke=\"#000000\" points=\"124.8453,-282.1433 134.4397,-286.6376 129.742,-277.1411 124.8453,-282.1433\"/>\n",
       "<text text-anchor=\"middle\" x=\"90.7254\" y=\"-250.0132\" font-family=\"Times,serif\" font-size=\"14.00\" fill=\"#000000\">sbv</text>\n",
       "</g>\n",
       "<!-- 如何 -->\n",
       "<g id=\"node3\" class=\"node\">\n",
       "<title>如何</title>\n",
       "<ellipse fill=\"none\" stroke=\"#000000\" cx=\"150.3381\" cy=\"-231.2132\" rx=\"31.2258\" ry=\"31.2258\"/>\n",
       "<text text-anchor=\"middle\" x=\"150.3381\" y=\"-229.8132\" font-family=\"Times,serif\" font-size=\"14.00\" fill=\"#000000\">如何</text>\n",
       "</g>\n",
       "<!-- 获得&#45;&gt;如何 -->\n",
       "<g id=\"edge2\" class=\"edge\">\n",
       "<title>获得&#45;&gt;如何</title>\n",
       "<path fill=\"none\" stroke=\"#000000\" d=\"M58.1668,-177.0973C74.7824,-186.8527 96.2661,-199.4663 114.3117,-210.0613\"/>\n",
       "<polygon fill=\"#000000\" stroke=\"#000000\" points=\"112.9954,-213.3471 123.3911,-215.392 116.5396,-207.3106 112.9954,-213.3471\"/>\n",
       "<text text-anchor=\"middle\" x=\"90.7254\" y=\"-203.0132\" font-family=\"Times,serif\" font-size=\"14.00\" fill=\"#000000\">adv</text>\n",
       "</g>\n",
       "<!-- ？ -->\n",
       "<g id=\"node4\" class=\"node\">\n",
       "<title>？</title>\n",
       "<ellipse fill=\"none\" stroke=\"#000000\" cx=\"150.3381\" cy=\"-161.2132\" rx=\"21.4286\" ry=\"21.4286\"/>\n",
       "<text text-anchor=\"middle\" x=\"150.3381\" y=\"-159.8132\" font-family=\"Times,serif\" font-size=\"14.00\" fill=\"#000000\">？</text>\n",
       "</g>\n",
       "<!-- 获得&#45;&gt;？ -->\n",
       "<g id=\"edge6\" class=\"edge\">\n",
       "<title>获得&#45;&gt;？</title>\n",
       "<path fill=\"none\" stroke=\"#000000\" d=\"M62.4378,-161.2132C79.8068,-161.2132 101.3466,-161.2132 118.7564,-161.2132\"/>\n",
       "<polygon fill=\"#000000\" stroke=\"#000000\" points=\"118.9886,-164.7133 128.9886,-161.2132 118.9886,-157.7133 118.9886,-164.7133\"/>\n",
       "<text text-anchor=\"middle\" x=\"90.7254\" y=\"-164.0132\" font-family=\"Times,serif\" font-size=\"14.00\" fill=\"#000000\">wp</text>\n",
       "</g>\n",
       "<!-- 语言 -->\n",
       "<g id=\"node5\" class=\"node\">\n",
       "<title>语言</title>\n",
       "<ellipse fill=\"none\" stroke=\"#000000\" cx=\"150.3381\" cy=\"-91.2132\" rx=\"31.2258\" ry=\"31.2258\"/>\n",
       "<text text-anchor=\"middle\" x=\"150.3381\" y=\"-89.8132\" font-family=\"Times,serif\" font-size=\"14.00\" fill=\"#000000\">语言</text>\n",
       "</g>\n",
       "<!-- 获得&#45;&gt;语言 -->\n",
       "<g id=\"edge4\" class=\"edge\">\n",
       "<title>获得&#45;&gt;语言</title>\n",
       "<path fill=\"none\" stroke=\"#000000\" d=\"M55.749,-141.811C63.3959,-136.1596 71.984,-130.1761 80.2254,-125.2132 90.4436,-119.0599 101.9403,-113.1119 112.6226,-107.9578\"/>\n",
       "<polygon fill=\"#000000\" stroke=\"#000000\" points=\"114.2006,-111.0833 121.7479,-103.6476 111.211,-104.7539 114.2006,-111.0833\"/>\n",
       "<text text-anchor=\"middle\" x=\"90.7254\" y=\"-128.0132\" font-family=\"Times,serif\" font-size=\"14.00\" fill=\"#000000\">vob</text>\n",
       "</g>\n",
       "<!-- 的 -->\n",
       "<g id=\"node6\" class=\"node\">\n",
       "<title>的</title>\n",
       "<ellipse fill=\"none\" stroke=\"#000000\" cx=\"150.3381\" cy=\"-21.2132\" rx=\"21.4286\" ry=\"21.4286\"/>\n",
       "<text text-anchor=\"middle\" x=\"150.3381\" y=\"-19.8132\" font-family=\"Times,serif\" font-size=\"14.00\" fill=\"#000000\">的</text>\n",
       "</g>\n",
       "<!-- 获得&#45;&gt;的 -->\n",
       "<g id=\"edge5\" class=\"edge\">\n",
       "<title>获得&#45;&gt;的</title>\n",
       "<path fill=\"none\" stroke=\"#000000\" d=\"M49.2741,-135.7553C58.3304,-123.3361 69.5955,-108.2917 80.2254,-95.2132 96.7072,-74.9348 101.1392,-70.0747 119.2254,-51.2132 121.8188,-48.5086 124.5843,-45.7176 127.3561,-42.9769\"/>\n",
       "<polygon fill=\"#000000\" stroke=\"#000000\" points=\"129.8685,-45.4158 134.594,-35.9331 124.9864,-40.3992 129.8685,-45.4158\"/>\n",
       "<text text-anchor=\"middle\" x=\"90.7254\" y=\"-98.0132\" font-family=\"Times,serif\" font-size=\"14.00\" fill=\"#000000\">rad</text>\n",
       "</g>\n",
       "<!-- ？&#45;&gt;获得 -->\n",
       "<g id=\"edge3\" class=\"edge\">\n",
       "<title>？&#45;&gt;获得</title>\n",
       "<path fill=\"none\" stroke=\"#000000\" d=\"M130.8485,-152.1137C116.8652,-146.6619 97.5176,-141.3051 80.2254,-144.2132 76.7844,-144.7919 73.2623,-145.5837 69.7621,-146.511\"/>\n",
       "<polygon fill=\"#000000\" stroke=\"#000000\" points=\"68.6187,-143.1997 60.0412,-149.4187 70.6248,-149.9061 68.6187,-143.1997\"/>\n",
       "<text text-anchor=\"middle\" x=\"90.7254\" y=\"-147.0132\" font-family=\"Times,serif\" font-size=\"14.00\" fill=\"#000000\">hed</text>\n",
       "</g>\n",
       "</g>\n",
       "</svg>\n"
      ],
      "text/plain": [
       "<graphviz.dot.Digraph at 0x2020db320>"
      ]
     },
     "execution_count": 33,
     "metadata": {},
     "output_type": "execute_result"
    }
   ],
   "source": [
    "class LtpViz(object):\n",
    "    def __init__(self, ltp=None):\n",
    "        from graphviz import Digraph\n",
    "        from sagas.zh.ltp_procs import LtpProcs\n",
    "        \n",
    "        if ltp is None:\n",
    "            ltp = LtpProcs()\n",
    "        self.ltp=ltp\n",
    "        self.f = Digraph('deps', filename='deps.gv')\n",
    "        self.f.attr(rankdir='LR', size='6,4')\n",
    "        self.f.attr('node', shape='circle')\n",
    "\n",
    "    def deps(self, sentence):\n",
    "        words = self.ltp.segmentor.segment(sentence)\n",
    "        postags = self.ltp.postagger.postag(words)\n",
    "        arcs = self.ltp.parser.parse(words, postags)\n",
    "        roles = self.ltp.labeller.label(words, postags, arcs)\n",
    "        netags = self.ltp.recognizer.recognize(words, postags)\n",
    "\n",
    "        for i in range(len(words)):\n",
    "            a=words[int(arcs[i].head) - 1]\n",
    "            print(\"%s --> %s|%s|%s|%s\" % (a, words[i], \\\n",
    "                                          arcs[i].relation, postags[i], netags[i]))\n",
    "            self.f.edge(a, words[i], label=arcs[i].relation.lower())\n",
    "        return self.f\n",
    "\n",
    "viz=LtpViz(ltp)\n",
    "viz.deps('你如何获得语言的？')"
   ]
  },
  {
   "cell_type": "code",
   "execution_count": 37,
   "metadata": {
    "ExecuteTime": {
     "end_time": "2019-07-20T02:31:51.744042Z",
     "start_time": "2019-07-20T02:31:51.619227Z"
    }
   },
   "outputs": [
    {
     "name": "stdout",
     "output_type": "stream",
     "text": [
      "送 --> 我|SBV|r|O\n",
      "花 --> 送|HED|v|O\n",
      "送 --> 她|IOB|r|O\n",
      "束 --> 一|ATT|m|O\n",
      "花 --> 束|ATT|q|O\n",
      "送 --> 花|VOB|n|O\n"
     ]
    },
    {
     "data": {
      "image/svg+xml": [
       "<?xml version=\"1.0\" encoding=\"UTF-8\" standalone=\"no\"?>\n",
       "<!DOCTYPE svg PUBLIC \"-//W3C//DTD SVG 1.1//EN\"\n",
       " \"http://www.w3.org/Graphics/SVG/1.1/DTD/svg11.dtd\">\n",
       "<!-- Generated by graphviz version 2.40.1 (20161225.0304)\n",
       " -->\n",
       "<!-- Title: deps Pages: 1 -->\n",
       "<svg width=\"335pt\" height=\"170pt\"\n",
       " viewBox=\"0.00 0.00 334.69 170.43\" xmlns=\"http://www.w3.org/2000/svg\" xmlns:xlink=\"http://www.w3.org/1999/xlink\">\n",
       "<g id=\"graph0\" class=\"graph\" transform=\"scale(1 1) rotate(0) translate(4 166.4264)\">\n",
       "<title>deps</title>\n",
       "<polygon fill=\"#ffffff\" stroke=\"transparent\" points=\"-4,4 -4,-166.4264 330.692,-166.4264 330.692,4 -4,4\"/>\n",
       "<!-- 送 -->\n",
       "<g id=\"node1\" class=\"node\">\n",
       "<title>送</title>\n",
       "<ellipse fill=\"none\" stroke=\"#000000\" cx=\"21.2132\" cy=\"-81.2132\" rx=\"21.4286\" ry=\"21.4286\"/>\n",
       "<text text-anchor=\"middle\" x=\"21.2132\" y=\"-79.8132\" font-family=\"Times,serif\" font-size=\"14.00\" fill=\"#000000\">送</text>\n",
       "</g>\n",
       "<!-- 我 -->\n",
       "<g id=\"node2\" class=\"node\">\n",
       "<title>我</title>\n",
       "<ellipse fill=\"none\" stroke=\"#000000\" cx=\"120.6396\" cy=\"-141.2132\" rx=\"21.4286\" ry=\"21.4286\"/>\n",
       "<text text-anchor=\"middle\" x=\"120.6396\" y=\"-139.8132\" font-family=\"Times,serif\" font-size=\"14.00\" fill=\"#000000\">我</text>\n",
       "</g>\n",
       "<!-- 送&#45;&gt;我 -->\n",
       "<g id=\"edge1\" class=\"edge\">\n",
       "<title>送&#45;&gt;我</title>\n",
       "<path fill=\"none\" stroke=\"#000000\" d=\"M39.4495,-92.2181C54.4916,-101.2954 76.065,-114.3142 93.1934,-124.6505\"/>\n",
       "<polygon fill=\"#000000\" stroke=\"#000000\" points=\"91.812,-127.9047 102.1822,-130.0749 95.4287,-121.9114 91.812,-127.9047\"/>\n",
       "<text text-anchor=\"middle\" x=\"70.9264\" y=\"-119.0132\" font-family=\"Times,serif\" font-size=\"14.00\" fill=\"#000000\">sbv</text>\n",
       "</g>\n",
       "<!-- 花 -->\n",
       "<g id=\"node3\" class=\"node\">\n",
       "<title>花</title>\n",
       "<ellipse fill=\"none\" stroke=\"#000000\" cx=\"120.6396\" cy=\"-81.2132\" rx=\"21.4286\" ry=\"21.4286\"/>\n",
       "<text text-anchor=\"middle\" x=\"120.6396\" y=\"-79.8132\" font-family=\"Times,serif\" font-size=\"14.00\" fill=\"#000000\">花</text>\n",
       "</g>\n",
       "<!-- 送&#45;&gt;花 -->\n",
       "<g id=\"edge6\" class=\"edge\">\n",
       "<title>送&#45;&gt;花</title>\n",
       "<path fill=\"none\" stroke=\"#000000\" d=\"M42.7873,-81.2132C56.2071,-81.2132 73.7062,-81.2132 88.7139,-81.2132\"/>\n",
       "<polygon fill=\"#000000\" stroke=\"#000000\" points=\"89.1077,-84.7133 99.1077,-81.2132 89.1076,-77.7133 89.1077,-84.7133\"/>\n",
       "<text text-anchor=\"middle\" x=\"70.9264\" y=\"-84.0132\" font-family=\"Times,serif\" font-size=\"14.00\" fill=\"#000000\">vob</text>\n",
       "</g>\n",
       "<!-- 她 -->\n",
       "<g id=\"node4\" class=\"node\">\n",
       "<title>她</title>\n",
       "<ellipse fill=\"none\" stroke=\"#000000\" cx=\"120.6396\" cy=\"-21.2132\" rx=\"21.4286\" ry=\"21.4286\"/>\n",
       "<text text-anchor=\"middle\" x=\"120.6396\" y=\"-19.8132\" font-family=\"Times,serif\" font-size=\"14.00\" fill=\"#000000\">她</text>\n",
       "</g>\n",
       "<!-- 送&#45;&gt;她 -->\n",
       "<g id=\"edge3\" class=\"edge\">\n",
       "<title>送&#45;&gt;她</title>\n",
       "<path fill=\"none\" stroke=\"#000000\" d=\"M35.7895,-65.4457C42.7539,-58.5704 51.5057,-50.8184 60.4264,-45.2132 69.7168,-39.3757 80.6647,-34.5035 90.6599,-30.708\"/>\n",
       "<polygon fill=\"#000000\" stroke=\"#000000\" points=\"92.0073,-33.9432 100.2409,-27.2755 89.6464,-27.3533 92.0073,-33.9432\"/>\n",
       "<text text-anchor=\"middle\" x=\"70.9264\" y=\"-48.0132\" font-family=\"Times,serif\" font-size=\"14.00\" fill=\"#000000\">iob</text>\n",
       "</g>\n",
       "<!-- 花&#45;&gt;送 -->\n",
       "<g id=\"edge2\" class=\"edge\">\n",
       "<title>花&#45;&gt;送</title>\n",
       "<path fill=\"none\" stroke=\"#000000\" d=\"M101.6094,-71.1081C95.357,-68.2982 88.2559,-65.6299 81.4264,-64.2132 72.2876,-62.3175 69.5652,-62.3175 60.4264,-64.2132 56.905,-64.9437 53.3113,-66.0069 49.799,-67.2508\"/>\n",
       "<polygon fill=\"#000000\" stroke=\"#000000\" points=\"48.2063,-64.1192 40.2435,-71.1081 50.8266,-70.6103 48.2063,-64.1192\"/>\n",
       "<text text-anchor=\"middle\" x=\"70.9264\" y=\"-67.0132\" font-family=\"Times,serif\" font-size=\"14.00\" fill=\"#000000\">hed</text>\n",
       "</g>\n",
       "<!-- 束 -->\n",
       "<g id=\"node5\" class=\"node\">\n",
       "<title>束</title>\n",
       "<ellipse fill=\"none\" stroke=\"#000000\" cx=\"213.0592\" cy=\"-81.2132\" rx=\"21.4286\" ry=\"21.4286\"/>\n",
       "<text text-anchor=\"middle\" x=\"213.0592\" y=\"-79.8132\" font-family=\"Times,serif\" font-size=\"14.00\" fill=\"#000000\">束</text>\n",
       "</g>\n",
       "<!-- 花&#45;&gt;束 -->\n",
       "<g id=\"edge5\" class=\"edge\">\n",
       "<title>花&#45;&gt;束</title>\n",
       "<path fill=\"none\" stroke=\"#000000\" d=\"M142.0748,-81.2132C153.7393,-81.2132 168.3941,-81.2132 181.3546,-81.2132\"/>\n",
       "<polygon fill=\"#000000\" stroke=\"#000000\" points=\"181.7403,-84.7133 191.7402,-81.2132 181.7402,-77.7133 181.7403,-84.7133\"/>\n",
       "<text text-anchor=\"middle\" x=\"166.8494\" y=\"-84.0132\" font-family=\"Times,serif\" font-size=\"14.00\" fill=\"#000000\">att</text>\n",
       "</g>\n",
       "<!-- 一 -->\n",
       "<g id=\"node6\" class=\"node\">\n",
       "<title>一</title>\n",
       "<ellipse fill=\"none\" stroke=\"#000000\" cx=\"305.4788\" cy=\"-81.2132\" rx=\"21.4286\" ry=\"21.4286\"/>\n",
       "<text text-anchor=\"middle\" x=\"305.4788\" y=\"-79.8132\" font-family=\"Times,serif\" font-size=\"14.00\" fill=\"#000000\">一</text>\n",
       "</g>\n",
       "<!-- 束&#45;&gt;一 -->\n",
       "<g id=\"edge4\" class=\"edge\">\n",
       "<title>束&#45;&gt;一</title>\n",
       "<path fill=\"none\" stroke=\"#000000\" d=\"M234.4944,-81.2132C246.1589,-81.2132 260.8136,-81.2132 273.7742,-81.2132\"/>\n",
       "<polygon fill=\"#000000\" stroke=\"#000000\" points=\"274.1598,-84.7133 284.1598,-81.2132 274.1598,-77.7133 274.1598,-84.7133\"/>\n",
       "<text text-anchor=\"middle\" x=\"259.269\" y=\"-84.0132\" font-family=\"Times,serif\" font-size=\"14.00\" fill=\"#000000\">att</text>\n",
       "</g>\n",
       "</g>\n",
       "</svg>\n"
      ],
      "text/plain": [
       "<graphviz.dot.Digraph at 0x20208f860>"
      ]
     },
     "execution_count": 37,
     "metadata": {},
     "output_type": "execute_result"
    }
   ],
   "source": [
    "ana=lambda sents: LtpViz(ltp).deps(sents)\n",
    "ana('我送她一束花')"
   ]
  },
  {
   "cell_type": "code",
   "execution_count": 38,
   "metadata": {
    "ExecuteTime": {
     "end_time": "2019-07-20T02:32:15.772251Z",
     "start_time": "2019-07-20T02:32:15.602233Z"
    }
   },
   "outputs": [
    {
     "name": "stdout",
     "output_type": "stream",
     "text": [
      "现有 --> 朝鲜语|SBV|nz|O\n",
      "可用 --> 现有|HED|v|O\n",
      "个 --> 11172|ATT|m|O\n",
      "音节 --> 个|ATT|q|O\n",
      "现有 --> 音节|VOB|n|O\n",
      "现有 --> 可用|COO|v|O\n"
     ]
    },
    {
     "data": {
      "image/svg+xml": [
       "<?xml version=\"1.0\" encoding=\"UTF-8\" standalone=\"no\"?>\n",
       "<!DOCTYPE svg PUBLIC \"-//W3C//DTD SVG 1.1//EN\"\n",
       " \"http://www.w3.org/Graphics/SVG/1.1/DTD/svg11.dtd\">\n",
       "<!-- Generated by graphviz version 2.40.1 (20161225.0304)\n",
       " -->\n",
       "<!-- Title: deps Pages: 1 -->\n",
       "<svg width=\"415pt\" height=\"251pt\"\n",
       " viewBox=\"0.00 0.00 414.80 250.58\" xmlns=\"http://www.w3.org/2000/svg\" xmlns:xlink=\"http://www.w3.org/1999/xlink\">\n",
       "<g id=\"graph0\" class=\"graph\" transform=\"scale(1 1) rotate(0) translate(4 246.58)\">\n",
       "<title>deps</title>\n",
       "<polygon fill=\"#ffffff\" stroke=\"transparent\" points=\"-4,4 -4,-246.58 410.7981,-246.58 410.7981,4 -4,4\"/>\n",
       "<!-- 现有 -->\n",
       "<g id=\"node1\" class=\"node\">\n",
       "<title>现有</title>\n",
       "<ellipse fill=\"none\" stroke=\"#000000\" cx=\"31.1127\" cy=\"-118.5678\" rx=\"31.2258\" ry=\"31.2258\"/>\n",
       "<text text-anchor=\"middle\" x=\"31.1127\" y=\"-117.1677\" font-family=\"Times,serif\" font-size=\"14.00\" fill=\"#000000\">现有</text>\n",
       "</g>\n",
       "<!-- 朝鲜语 -->\n",
       "<g id=\"node2\" class=\"node\">\n",
       "<title>朝鲜语</title>\n",
       "<ellipse fill=\"none\" stroke=\"#000000\" cx=\"160.2376\" cy=\"-201.5678\" rx=\"41.0244\" ry=\"41.0244\"/>\n",
       "<text text-anchor=\"middle\" x=\"160.2376\" y=\"-200.1677\" font-family=\"Times,serif\" font-size=\"14.00\" fill=\"#000000\">朝鲜语</text>\n",
       "</g>\n",
       "<!-- 现有&#45;&gt;朝鲜语 -->\n",
       "<g id=\"edge1\" class=\"edge\">\n",
       "<title>现有&#45;&gt;朝鲜语</title>\n",
       "<path fill=\"none\" stroke=\"#000000\" d=\"M57.5546,-135.5643C74.6511,-146.5538 97.3038,-161.1146 116.9821,-173.7636\"/>\n",
       "<polygon fill=\"#000000\" stroke=\"#000000\" points=\"115.1906,-176.7727 125.4952,-179.2357 118.9756,-170.8843 115.1906,-176.7727\"/>\n",
       "<text text-anchor=\"middle\" x=\"90.7254\" y=\"-164.3678\" font-family=\"Times,serif\" font-size=\"14.00\" fill=\"#000000\">sbv</text>\n",
       "</g>\n",
       "<!-- 可用 -->\n",
       "<g id=\"node3\" class=\"node\">\n",
       "<title>可用</title>\n",
       "<ellipse fill=\"none\" stroke=\"#000000\" cx=\"160.2376\" cy=\"-111.5678\" rx=\"31.2258\" ry=\"31.2258\"/>\n",
       "<text text-anchor=\"middle\" x=\"160.2376\" y=\"-110.1677\" font-family=\"Times,serif\" font-size=\"14.00\" fill=\"#000000\">可用</text>\n",
       "</g>\n",
       "<!-- 现有&#45;&gt;可用 -->\n",
       "<g id=\"edge6\" class=\"edge\">\n",
       "<title>现有&#45;&gt;可用</title>\n",
       "<path fill=\"none\" stroke=\"#000000\" d=\"M62.5327,-117.3905C74.6304,-116.8933 88.5739,-116.2671 101.2254,-115.5678 106.8646,-115.2561 112.8045,-114.8936 118.6557,-114.5167\"/>\n",
       "<polygon fill=\"#000000\" stroke=\"#000000\" points=\"119.2614,-117.9843 129.008,-113.8304 118.7983,-110.9997 119.2614,-117.9843\"/>\n",
       "<text text-anchor=\"middle\" x=\"90.7254\" y=\"-118.3678\" font-family=\"Times,serif\" font-size=\"14.00\" fill=\"#000000\">coo</text>\n",
       "</g>\n",
       "<!-- 音节 -->\n",
       "<g id=\"node6\" class=\"node\">\n",
       "<title>音节</title>\n",
       "<ellipse fill=\"none\" stroke=\"#000000\" cx=\"160.2376\" cy=\"-31.5678\" rx=\"31.2258\" ry=\"31.2258\"/>\n",
       "<text text-anchor=\"middle\" x=\"160.2376\" y=\"-30.1677\" font-family=\"Times,serif\" font-size=\"14.00\" fill=\"#000000\">音节</text>\n",
       "</g>\n",
       "<!-- 现有&#45;&gt;音节 -->\n",
       "<g id=\"edge5\" class=\"edge\">\n",
       "<title>现有&#45;&gt;音节</title>\n",
       "<path fill=\"none\" stroke=\"#000000\" d=\"M55.7899,-99.3174C63.5116,-93.4733 72.1311,-87.1303 80.2254,-81.5678 94.4002,-71.8267 110.4075,-61.6649 124.3596,-53.0663\"/>\n",
       "<polygon fill=\"#000000\" stroke=\"#000000\" points=\"126.4886,-55.8668 133.1913,-47.6616 122.8348,-49.8961 126.4886,-55.8668\"/>\n",
       "<text text-anchor=\"middle\" x=\"90.7254\" y=\"-84.3678\" font-family=\"Times,serif\" font-size=\"14.00\" fill=\"#000000\">vob</text>\n",
       "</g>\n",
       "<!-- 可用&#45;&gt;现有 -->\n",
       "<g id=\"edge2\" class=\"edge\">\n",
       "<title>可用&#45;&gt;现有</title>\n",
       "<path fill=\"none\" stroke=\"#000000\" d=\"M130.1338,-103.6675C115.0977,-100.7715 96.6536,-98.8049 80.2254,-101.5678 76.7844,-102.1465 73.2623,-102.9383 69.7621,-103.8656\"/>\n",
       "<polygon fill=\"#000000\" stroke=\"#000000\" points=\"68.6187,-100.5542 60.0412,-106.7733 70.6248,-107.2607 68.6187,-100.5542\"/>\n",
       "<text text-anchor=\"middle\" x=\"90.7254\" y=\"-104.3678\" font-family=\"Times,serif\" font-size=\"14.00\" fill=\"#000000\">hed</text>\n",
       "</g>\n",
       "<!-- 个 -->\n",
       "<g id=\"node4\" class=\"node\">\n",
       "<title>个</title>\n",
       "<ellipse fill=\"none\" stroke=\"#000000\" cx=\"272.4562\" cy=\"-31.5678\" rx=\"21.4286\" ry=\"21.4286\"/>\n",
       "<text text-anchor=\"middle\" x=\"272.4562\" y=\"-30.1677\" font-family=\"Times,serif\" font-size=\"14.00\" fill=\"#000000\">个</text>\n",
       "</g>\n",
       "<!-- 11172 -->\n",
       "<g id=\"node5\" class=\"node\">\n",
       "<title>11172</title>\n",
       "<ellipse fill=\"none\" stroke=\"#000000\" cx=\"375.2303\" cy=\"-31.5678\" rx=\"31.6357\" ry=\"31.6357\"/>\n",
       "<text text-anchor=\"middle\" x=\"375.2303\" y=\"-27.3678\" font-family=\"Times,serif\" font-size=\"14.00\" fill=\"#000000\">11172</text>\n",
       "</g>\n",
       "<!-- 个&#45;&gt;11172 -->\n",
       "<g id=\"edge3\" class=\"edge\">\n",
       "<title>个&#45;&gt;11172</title>\n",
       "<path fill=\"none\" stroke=\"#000000\" d=\"M293.751,-31.5678C305.183,-31.5678 319.683,-31.5678 333.272,-31.5678\"/>\n",
       "<polygon fill=\"#000000\" stroke=\"#000000\" points=\"333.4202,-35.0679 343.4201,-31.5678 333.4201,-28.0679 333.4202,-35.0679\"/>\n",
       "<text text-anchor=\"middle\" x=\"318.6659\" y=\"-34.3678\" font-family=\"Times,serif\" font-size=\"14.00\" fill=\"#000000\">att</text>\n",
       "</g>\n",
       "<!-- 音节&#45;&gt;个 -->\n",
       "<g id=\"edge4\" class=\"edge\">\n",
       "<title>音节&#45;&gt;个</title>\n",
       "<path fill=\"none\" stroke=\"#000000\" d=\"M191.4967,-31.5678C206.883,-31.5678 225.3935,-31.5678 240.8292,-31.5678\"/>\n",
       "<polygon fill=\"#000000\" stroke=\"#000000\" points=\"240.948,-35.0679 250.9479,-31.5678 240.9479,-28.0679 240.948,-35.0679\"/>\n",
       "<text text-anchor=\"middle\" x=\"226.2464\" y=\"-34.3678\" font-family=\"Times,serif\" font-size=\"14.00\" fill=\"#000000\">att</text>\n",
       "</g>\n",
       "</g>\n",
       "</svg>\n"
      ],
      "text/plain": [
       "<graphviz.dot.Digraph at 0x20208fd30>"
      ]
     },
     "execution_count": 38,
     "metadata": {},
     "output_type": "execute_result"
    }
   ],
   "source": [
    "ana('朝鲜语现有11172个音节可用')"
   ]
  }
 ],
 "metadata": {
  "kernelspec": {
   "display_name": "Python 3",
   "language": "python",
   "name": "python3"
  },
  "language_info": {
   "codemirror_mode": {
    "name": "ipython",
    "version": 3
   },
   "file_extension": ".py",
   "mimetype": "text/x-python",
   "name": "python",
   "nbconvert_exporter": "python",
   "pygments_lexer": "ipython3",
   "version": "3.6.4"
  },
  "varInspector": {
   "cols": {
    "lenName": 16,
    "lenType": 16,
    "lenVar": 40
   },
   "kernels_config": {
    "python": {
     "delete_cmd_postfix": "",
     "delete_cmd_prefix": "del ",
     "library": "var_list.py",
     "varRefreshCmd": "print(var_dic_list())"
    },
    "r": {
     "delete_cmd_postfix": ") ",
     "delete_cmd_prefix": "rm(",
     "library": "var_list.r",
     "varRefreshCmd": "cat(var_dic_list()) "
    }
   },
   "types_to_exclude": [
    "module",
    "function",
    "builtin_function_or_method",
    "instance",
    "_Feature"
   ],
   "window_display": false
  }
 },
 "nbformat": 4,
 "nbformat_minor": 2
}
