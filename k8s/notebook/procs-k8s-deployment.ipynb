{
 "cells": [
  {
   "cell_type": "code",
   "execution_count": 3,
   "metadata": {
    "ExecuteTime": {
     "end_time": "2020-12-24T10:35:34.091416Z",
     "start_time": "2020-12-24T10:35:33.949296Z"
    }
   },
   "outputs": [
    {
     "name": "stdout",
     "output_type": "stream",
     "text": [
      "Deployment created. status='nginx-deployment'\n"
     ]
    }
   ],
   "source": [
    "from os import path\n",
    "\n",
    "import yaml\n",
    "\n",
    "from kubernetes import client, config\n",
    "\n",
    "\n",
    "def main():\n",
    "    # Configs can be set in Configuration class directly or using helper\n",
    "    # utility. If no argument provided, the config will be loaded from\n",
    "    # default location.\n",
    "    config.load_kube_config()\n",
    "\n",
    "    with open(path.join(path.dirname('.'), \"nginx-deployment.yaml\")) as f:\n",
    "        dep = yaml.safe_load(f)\n",
    "        k8s_apps_v1 = client.AppsV1Api()\n",
    "        resp = k8s_apps_v1.create_namespaced_deployment(\n",
    "            body=dep, namespace=\"default\")\n",
    "        print(\"Deployment created. status='%s'\" % resp.metadata.name)\n",
    "\n",
    "main()"
   ]
  },
  {
   "cell_type": "code",
   "execution_count": 4,
   "metadata": {
    "ExecuteTime": {
     "end_time": "2020-12-24T10:39:09.127910Z",
     "start_time": "2020-12-24T10:39:09.053149Z"
    }
   },
   "outputs": [],
   "source": [
    "config.load_kube_config()\n",
    "apps_v1 = client.AppsV1Api()    "
   ]
  },
  {
   "cell_type": "code",
   "execution_count": 5,
   "metadata": {
    "ExecuteTime": {
     "end_time": "2020-12-24T10:39:12.872035Z",
     "start_time": "2020-12-24T10:39:12.807422Z"
    }
   },
   "outputs": [
    {
     "name": "stdout",
     "output_type": "stream",
     "text": [
      "Deployment deleted. status='{'observedGeneration': 1, 'replicas': 3, 'updatedReplicas': 3, 'readyReplicas': 3, 'availableReplicas': 3, 'conditions': [{'type': 'Available', 'status': 'True', 'lastUpdateTime': '2020-12-24T10:36:02Z', 'lastTransitionTime': '2020-12-24T10:36:02Z', 'reason': 'MinimumReplicasAvailable', 'message': 'Deployment has minimum availability.'}, {'type': 'Progressing', 'status': 'True', 'lastUpdateTime': '2020-12-24T10:36:02Z', 'lastTransitionTime': '2020-12-24T10:35:34Z', 'reason': 'NewReplicaSetAvailable', 'message': 'ReplicaSet \"nginx-deployment-746ccc65d8\" has successfully progressed.'}]}'\n"
     ]
    }
   ],
   "source": [
    "DEPLOYMENT_NAME = \"nginx-deployment\"\n",
    "def delete_deployment(api_instance):\n",
    "    # Delete deployment\n",
    "    api_response = api_instance.delete_namespaced_deployment(\n",
    "        name=DEPLOYMENT_NAME,\n",
    "        namespace=\"default\",\n",
    "        body=client.V1DeleteOptions(\n",
    "            propagation_policy='Foreground',\n",
    "            grace_period_seconds=5))\n",
    "    print(\"Deployment deleted. status='%s'\" % str(api_response.status))\n",
    "    \n",
    "\n",
    "delete_deployment(apps_v1)"
   ]
  }
 ],
 "metadata": {
  "kernelspec": {
   "display_name": "Python 3",
   "language": "python",
   "name": "python3"
  },
  "language_info": {
   "codemirror_mode": {
    "name": "ipython",
    "version": 3
   },
   "file_extension": ".py",
   "mimetype": "text/x-python",
   "name": "python",
   "nbconvert_exporter": "python",
   "pygments_lexer": "ipython3",
   "version": "3.7.7"
  },
  "varInspector": {
   "cols": {
    "lenName": 16,
    "lenType": 16,
    "lenVar": 40
   },
   "kernels_config": {
    "python": {
     "delete_cmd_postfix": "",
     "delete_cmd_prefix": "del ",
     "library": "var_list.py",
     "varRefreshCmd": "print(var_dic_list())"
    },
    "r": {
     "delete_cmd_postfix": ") ",
     "delete_cmd_prefix": "rm(",
     "library": "var_list.r",
     "varRefreshCmd": "cat(var_dic_list()) "
    }
   },
   "types_to_exclude": [
    "module",
    "function",
    "builtin_function_or_method",
    "instance",
    "_Feature"
   ],
   "window_display": false
  }
 },
 "nbformat": 4,
 "nbformat_minor": 4
}
