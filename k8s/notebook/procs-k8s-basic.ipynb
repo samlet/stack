{
 "cells": [
  {
   "cell_type": "code",
   "execution_count": 1,
   "metadata": {
    "ExecuteTime": {
     "end_time": "2020-12-24T10:18:25.710710Z",
     "start_time": "2020-12-24T10:18:24.663949Z"
    }
   },
   "outputs": [
    {
     "name": "stdout",
     "output_type": "stream",
     "text": [
      "Listing pods with their IPs:\n",
      "10.1.0.2\tkube-system\tcoredns-f9fd979d6-52fvq\n",
      "10.1.0.3\tkube-system\tcoredns-f9fd979d6-p97j4\n",
      "192.168.65.3\tkube-system\tetcd-docker-desktop\n",
      "192.168.65.3\tkube-system\tkube-apiserver-docker-desktop\n",
      "192.168.65.3\tkube-system\tkube-controller-manager-docker-desktop\n",
      "192.168.65.3\tkube-system\tkube-proxy-d7tpb\n",
      "192.168.65.3\tkube-system\tkube-scheduler-docker-desktop\n",
      "10.1.0.4\tkube-system\tstorage-provisioner\n",
      "10.1.0.5\tkube-system\tvpnkit-controller\n"
     ]
    }
   ],
   "source": [
    "from kubernetes import client, config\n",
    "\n",
    "# Configs can be set in Configuration class directly or using helper utility\n",
    "config.load_kube_config()\n",
    "\n",
    "v1 = client.CoreV1Api()\n",
    "print(\"Listing pods with their IPs:\")\n",
    "ret = v1.list_pod_for_all_namespaces(watch=False)\n",
    "for i in ret.items:\n",
    "    print(\"%s\\t%s\\t%s\" % (i.status.pod_ip, i.metadata.namespace, i.metadata.name))"
   ]
  },
  {
   "cell_type": "code",
   "execution_count": 5,
   "metadata": {
    "ExecuteTime": {
     "end_time": "2020-12-24T10:24:39.399681Z",
     "start_time": "2020-12-24T10:24:37.569769Z"
    }
   },
   "outputs": [
    {
     "name": "stdout",
     "output_type": "stream",
     "text": [
      "Event: ADDED default\n",
      "Event: ADDED kube-node-lease\n",
      "Event: ADDED kube-public\n",
      "Event: ADDED kube-system\n",
      "interrupt\n",
      "Ended.\n"
     ]
    }
   ],
   "source": [
    "# watch on namespace object:\n",
    "\n",
    "from kubernetes import client, config, watch\n",
    "\n",
    "# Configs can be set in Configuration class directly or using helper utility\n",
    "config.load_kube_config()\n",
    "\n",
    "v1 = client.CoreV1Api()\n",
    "count = 10\n",
    "w = watch.Watch()\n",
    "\n",
    "try:\n",
    "    for event in w.stream(v1.list_namespace, _request_timeout=60):\n",
    "        print(\"Event: %s %s\" % (event['type'], event['object'].metadata.name))\n",
    "        count -= 1\n",
    "        if not count:\n",
    "            w.stop()\n",
    "except:\n",
    "    print('interrupt')\n",
    "print(\"Ended.\")"
   ]
  },
  {
   "cell_type": "code",
   "execution_count": 6,
   "metadata": {
    "ExecuteTime": {
     "end_time": "2020-12-24T10:28:32.489393Z",
     "start_time": "2020-12-24T10:28:32.332911Z"
    }
   },
   "outputs": [
    {
     "name": "stdout",
     "output_type": "stream",
     "text": [
      "Supported APIs (* is preferred version):\n",
      "core                                     v1\n",
      "apiregistration.k8s.io                   *v1,v1beta1\n",
      "extensions                               v1beta1\n",
      "apps                                     v1\n",
      "events.k8s.io                            *v1,v1beta1\n",
      "authentication.k8s.io                    *v1,v1beta1\n",
      "authorization.k8s.io                     *v1,v1beta1\n",
      "autoscaling                              *v1,v2beta1,v2beta2\n",
      "batch                                    *v1,v1beta1\n",
      "certificates.k8s.io                      *v1,v1beta1\n",
      "networking.k8s.io                        *v1,v1beta1\n",
      "policy                                   v1beta1\n",
      "rbac.authorization.k8s.io                *v1,v1beta1\n",
      "storage.k8s.io                           *v1,v1beta1\n",
      "admissionregistration.k8s.io             *v1,v1beta1\n",
      "apiextensions.k8s.io                     *v1,v1beta1\n",
      "scheduling.k8s.io                        *v1,v1beta1\n",
      "coordination.k8s.io                      *v1,v1beta1\n",
      "node.k8s.io                              v1beta1\n",
      "discovery.k8s.io                         v1beta1\n"
     ]
    }
   ],
   "source": [
    "\n",
    "from kubernetes import client, config\n",
    "\n",
    "\n",
    "def main():\n",
    "    # Configs can be set in Configuration class directly or using helper\n",
    "    # utility. If no argument provided, the config will be loaded from\n",
    "    # default location.\n",
    "    config.load_kube_config()\n",
    "\n",
    "    print(\"Supported APIs (* is preferred version):\")\n",
    "    print(\"%-40s %s\" %\n",
    "          (\"core\", \",\".join(client.CoreApi().get_api_versions().versions)))\n",
    "    for api in client.ApisApi().get_api_versions().groups:\n",
    "        versions = []\n",
    "        for v in api.versions:\n",
    "            name = \"\"\n",
    "            if v.version == api.preferred_version.version and len(\n",
    "                    api.versions) > 1:\n",
    "                name += \"*\"\n",
    "            name += v.version\n",
    "            versions.append(name)\n",
    "        print(\"%-40s %s\" % (api.name, \",\".join(versions)))\n",
    "        \n",
    "main()        "
   ]
  }
 ],
 "metadata": {
  "kernelspec": {
   "display_name": "Python 3",
   "language": "python",
   "name": "python3"
  },
  "language_info": {
   "codemirror_mode": {
    "name": "ipython",
    "version": 3
   },
   "file_extension": ".py",
   "mimetype": "text/x-python",
   "name": "python",
   "nbconvert_exporter": "python",
   "pygments_lexer": "ipython3",
   "version": "3.7.7"
  },
  "varInspector": {
   "cols": {
    "lenName": 16,
    "lenType": 16,
    "lenVar": 40
   },
   "kernels_config": {
    "python": {
     "delete_cmd_postfix": "",
     "delete_cmd_prefix": "del ",
     "library": "var_list.py",
     "varRefreshCmd": "print(var_dic_list())"
    },
    "r": {
     "delete_cmd_postfix": ") ",
     "delete_cmd_prefix": "rm(",
     "library": "var_list.r",
     "varRefreshCmd": "cat(var_dic_list()) "
    }
   },
   "types_to_exclude": [
    "module",
    "function",
    "builtin_function_or_method",
    "instance",
    "_Feature"
   ],
   "window_display": false
  }
 },
 "nbformat": 4,
 "nbformat_minor": 4
}
