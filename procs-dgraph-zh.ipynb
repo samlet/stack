{
 "cells": [
  {
   "cell_type": "markdown",
   "metadata": {},
   "source": [
    "⊕ [Anyofterms doesn't work as expected with Chinese characters - Users / Dgraph - Discuss Dgraph](https://discuss.dgraph.io/t/anyofterms-doesnt-work-as-expected-with-chinese-characters/3581/5)\n"
   ]
  },
  {
   "cell_type": "code",
   "execution_count": 33,
   "metadata": {
    "ExecuteTime": {
     "end_time": "2019-06-04T02:22:45.436688Z",
     "start_time": "2019-06-04T02:22:44.793203Z"
    }
   },
   "outputs": [
    {
     "name": "stdout",
     "output_type": "stream",
     "text": [
      "{\n",
      "  \"q\": [\n",
      "    {\n",
      "      \"name@.\": \"名字1\"\n",
      "    },\n",
      "    {\n",
      "      \"name@.\": \"名字2\"\n",
      "    }\n",
      "  ]\n",
      "}\n"
     ]
    }
   ],
   "source": [
    "import sagas.graph.dgraph_helper as helper\n",
    "import pydgraph\n",
    "client=helper.reset('''\n",
    "name: string @index(term) @lang .\n",
    "zh_SBV: string @index(term) @lang .\n",
    "zh_VOB: string @index(term) @lang .\n",
    "''')\n",
    "helper.set_nquads(client, '''\n",
    "    _:x1 <name> \"名字1\"@zh .\n",
    "    _:x2 <name> \"名字2\"@zh .\n",
    "    _:person3 <name> \"Zhang Wei\" (वंश=\"चीनी\", ancestry=\"中文\") .\n",
    "    _:person3 <zh_VOB> \"张伟\"@zh .\n",
    "    _:person3 <zh_VOB> \"zhang wei\" (वंश=\"चीनी\", ancestry=\"中文\") .\n",
    "''')\n",
    "helper.run_q(client, '''{\n",
    "   q(func: anyofterms(name@., \"<名字1 名字2>\")) {\n",
    "     name@.\n",
    "   }\n",
    "}''')"
   ]
  },
  {
   "cell_type": "code",
   "execution_count": 34,
   "metadata": {
    "ExecuteTime": {
     "end_time": "2019-06-04T02:22:56.204992Z",
     "start_time": "2019-06-04T02:22:56.181961Z"
    }
   },
   "outputs": [
    {
     "name": "stdout",
     "output_type": "stream",
     "text": [
      "{\n",
      "  \"q\": [\n",
      "    {\n",
      "      \"zh_VOB@.\": \"zhang wei\",\n",
      "      \"name|ancestry\": \"中文\",\n",
      "      \"name|वंश\": \"चीनी\",\n",
      "      \"name\": \"Zhang Wei\"\n",
      "    }\n",
      "  ]\n",
      "}\n"
     ]
    }
   ],
   "source": [
    "helper.run_q(client, '''{\n",
    "   q(func: anyofterms(name@., \"Zhang Wei\")) {\n",
    "     zh_VOB@.\n",
    "     name@facets\n",
    "   }\n",
    "}''')"
   ]
  },
  {
   "cell_type": "code",
   "execution_count": 35,
   "metadata": {
    "ExecuteTime": {
     "end_time": "2019-06-04T02:22:58.676242Z",
     "start_time": "2019-06-04T02:22:58.654826Z"
    }
   },
   "outputs": [
    {
     "name": "stdout",
     "output_type": "stream",
     "text": [
      "{\n",
      "  \"q\": [\n",
      "    {\n",
      "      \"zh_VOB@zh\": \"张伟\",\n",
      "      \"zh_VOB|ancestry\": \"中文\",\n",
      "      \"zh_VOB|वंश\": \"चीनी\",\n",
      "      \"zh_VOB\": \"zhang wei\"\n",
      "    }\n",
      "  ]\n",
      "}\n"
     ]
    }
   ],
   "source": [
    "helper.run_q(client, '''{\n",
    "   q(func: anyofterms(zh_VOB@zh, \"张 张伟\")) {\n",
    "     zh_VOB@zh\n",
    "     zh_VOB@facets\n",
    "   }\n",
    "}''')"
   ]
  },
  {
   "cell_type": "code",
   "execution_count": 13,
   "metadata": {
    "ExecuteTime": {
     "end_time": "2019-06-04T02:11:39.467585Z",
     "start_time": "2019-06-04T02:11:38.791387Z"
    }
   },
   "outputs": [
    {
     "name": "stdout",
     "output_type": "stream",
     "text": [
      "{\n",
      "  \"q\": [\n",
      "    {\n",
      "      \"name@.\": \"名字1 名字2\"\n",
      "    },\n",
      "    {\n",
      "      \"name@.\": \"名字2\"\n",
      "    }\n",
      "  ]\n",
      "}\n"
     ]
    }
   ],
   "source": [
    "client=helper.reset('name: string @index(term) @lang .')\n",
    "helper.set_nquads(client, '''\n",
    "    _:x1 <name> \"名字1 名字2\"@zh .\n",
    "    _:x2 <name> \"名字2\"@zh .\n",
    "''')\n",
    "helper.run_q(client, '''{\n",
    "   q(func: anyofterms(name@., \"<名字1 名字2>\")) {\n",
    "     name@.\n",
    "   }\n",
    "}''')"
   ]
  }
 ],
 "metadata": {
  "kernelspec": {
   "display_name": "Python 3",
   "language": "python",
   "name": "python3"
  },
  "language_info": {
   "codemirror_mode": {
    "name": "ipython",
    "version": 3
   },
   "file_extension": ".py",
   "mimetype": "text/x-python",
   "name": "python",
   "nbconvert_exporter": "python",
   "pygments_lexer": "ipython3",
   "version": "3.6.4"
  },
  "varInspector": {
   "cols": {
    "lenName": 16,
    "lenType": 16,
    "lenVar": 40
   },
   "kernels_config": {
    "python": {
     "delete_cmd_postfix": "",
     "delete_cmd_prefix": "del ",
     "library": "var_list.py",
     "varRefreshCmd": "print(var_dic_list())"
    },
    "r": {
     "delete_cmd_postfix": ") ",
     "delete_cmd_prefix": "rm(",
     "library": "var_list.r",
     "varRefreshCmd": "cat(var_dic_list()) "
    }
   },
   "types_to_exclude": [
    "module",
    "function",
    "builtin_function_or_method",
    "instance",
    "_Feature"
   ],
   "window_display": false
  }
 },
 "nbformat": 4,
 "nbformat_minor": 2
}
