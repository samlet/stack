{
 "cells": [
  {
   "cell_type": "code",
   "execution_count": null,
   "metadata": {
    "ExecuteTime": {
     "end_time": "2019-01-13T16:03:14.069757Z",
     "start_time": "2019-01-13T16:03:13.909968Z"
    }
   },
   "outputs": [],
   "source": [
    "import sagas.crmsfa.odoo_facade\n",
    "import imp\n",
    "imp.reload(sagas.crmsfa.odoo_facade)"
   ]
  },
  {
   "cell_type": "code",
   "execution_count": 1,
   "metadata": {
    "ExecuteTime": {
     "end_time": "2019-01-13T16:03:34.075901Z",
     "start_time": "2019-01-13T16:03:34.069611Z"
    }
   },
   "outputs": [],
   "source": [
    "from sagas.tool.app_settings import setup_logger, setup_jupyter\n",
    "setup_logger('crmsfa.log')\n",
    "setup_jupyter()"
   ]
  },
  {
   "cell_type": "code",
   "execution_count": 2,
   "metadata": {
    "ExecuteTime": {
     "end_time": "2019-01-13T16:03:36.613899Z",
     "start_time": "2019-01-13T16:03:36.210497Z"
    }
   },
   "outputs": [
    {
     "name": "stderr",
     "output_type": "stream",
     "text": [
      "2019-01-14 00:03:36,305 - sagas.crmsfa.odoo_facade - INFO - ['sagas_odoo']\n"
     ]
    },
    {
     "name": "stdout",
     "output_type": "stream",
     "text": [
      "no sale.order model\n"
     ]
    }
   ],
   "source": [
    "from sagas.crmsfa.odoo_facade import odoo, login\n",
    "login()\n",
    "\n",
    "if 'sale.order' in odoo.env:\n",
    "    Order = odoo.env['sale.order']\n",
    "    order_ids = Order.search([])\n",
    "    print(order_ids)\n",
    "else:\n",
    "    print(\"no sale.order model\")"
   ]
  },
  {
   "cell_type": "code",
   "execution_count": null,
   "metadata": {
    "ExecuteTime": {
     "end_time": "2019-01-13T16:03:14.585323Z",
     "start_time": "2019-01-13T16:03:14.419175Z"
    }
   },
   "outputs": [],
   "source": [
    "user = odoo.env.user\n",
    "print(user.name)            # name of the user connected\n",
    "print(user.company_id.name) # the name of its company"
   ]
  },
  {
   "cell_type": "code",
   "execution_count": null,
   "metadata": {
    "ExecuteTime": {
     "end_time": "2019-01-13T16:03:14.670077Z",
     "start_time": "2019-01-13T16:03:14.588224Z"
    }
   },
   "outputs": [],
   "source": [
    "Country = odoo.env['res.country']\n",
    "de_id = Country.search([('code', '=', 'DE')])[0]\n",
    "de = Country.browse(de_id)\n",
    "print(de)\n",
    "print(de.name)"
   ]
  },
  {
   "cell_type": "code",
   "execution_count": 19,
   "metadata": {
    "ExecuteTime": {
     "end_time": "2019-01-13T16:25:30.268128Z",
     "start_time": "2019-01-13T16:25:30.210289Z"
    }
   },
   "outputs": [
    {
     "name": "stdout",
     "output_type": "stream",
     "text": [
      "+-------------------+-----------+------------------------+\n",
      "| name              | type      | string                 |\n",
      "|-------------------+-----------+------------------------|\n",
      "| __last_update     | datetime  | Last Modified on       |\n",
      "| code              | char      | Country Code           |\n",
      "| address_view_id   | many2one  | Input View             |\n",
      "| address_format    | text      | Layout in Reports      |\n",
      "| name_position     | selection | Customer Name Position |\n",
      "| state_ids         | one2many  | States                 |\n",
      "| currency_id       | many2one  | Currency               |\n",
      "| display_name      | char      | Display Name           |\n",
      "| name              | char      | Country Name           |\n",
      "| create_date       | datetime  | Created on             |\n",
      "| country_group_ids | many2many | Country Groups         |\n",
      "| image             | binary    | Image                  |\n",
      "| write_date        | datetime  | Last Updated on        |\n",
      "| write_uid         | many2one  | Last Updated by        |\n",
      "| phone_code        | integer   | Country Calling Code   |\n",
      "| create_uid        | many2one  | Created by             |\n",
      "| vat_label         | char      | Vat Label              |\n",
      "+-------------------+-----------+------------------------+\n"
     ]
    }
   ],
   "source": [
    "import odoorpc.fields as fields\n",
    "from odoorpc.env import FIELDS_RESERVED\n",
    "from tabulate import tabulate\n",
    "import wcwidth\n",
    "\n",
    "def desc_model(model):\n",
    "    table_header = ['name','type', 'string']\n",
    "    table_data = []\n",
    "\n",
    "    attrs = {\n",
    "                '_name': model,\n",
    "                '_columns': {},\n",
    "            }\n",
    "    fields_get = odoo.execute(model, 'fields_get')\n",
    "    for field_name, field_data in fields_get.items():\n",
    "        if field_name not in FIELDS_RESERVED:\n",
    "            Field = fields.generate_field(field_name, field_data)\n",
    "            attrs['_columns'][field_name] = Field\n",
    "            attrs[field_name] = Field\n",
    "            # print(field_name, \"%\", field_data['type'])\n",
    "            # print(field_data.keys())\n",
    "            # ['searchable', 'sortable', 'depends', 'store', \n",
    "            # 'manual', 'type', 'company_dependent', \n",
    "            # 'change_default', 'readonly', 'string', 'required']\n",
    "            table_data.append((field_name, field_data['type'], \n",
    "                               field_data['string']))\n",
    "            # addi: type(Field)\n",
    "\n",
    "    # print(tabulate(table_data, headers=table_header, tablefmt='grid'))\n",
    "    # print(tabulate(table_data, headers=table_header, tablefmt='fancy_grid'))\n",
    "    print(tabulate(table_data, headers=table_header, tablefmt='psql'))\n",
    "\n",
    "model=\"res.country\"\n",
    "desc_model(model)"
   ]
  },
  {
   "cell_type": "code",
   "execution_count": 21,
   "metadata": {
    "ExecuteTime": {
     "end_time": "2019-01-13T16:26:58.801590Z",
     "start_time": "2019-01-13T16:26:58.779544Z"
    },
    "scrolled": true
   },
   "outputs": [
    {
     "name": "stdout",
     "output_type": "stream",
     "text": [
      "+----------------------------+-----------+-------------------------+\n",
      "| name                       | type      | string                  |\n",
      "|----------------------------+-----------+-------------------------|\n",
      "| message_partner_ids        | many2many | Followers (Partners)    |\n",
      "| message_follower_ids       | one2many  | Followers               |\n",
      "| message_ids                | one2many  | Messages                |\n",
      "| message_unread             | boolean   | Unread Messages         |\n",
      "| website_message_ids        | one2many  | Website Messages        |\n",
      "| message_needaction_counter | integer   | Number of Actions       |\n",
      "| message_needaction         | boolean   | Action Needed           |\n",
      "| display_name               | char      | Display Name            |\n",
      "| message_is_follower        | boolean   | Is Follower             |\n",
      "| message_last_post          | datetime  | Last Message Date       |\n",
      "| __last_update              | datetime  | Last Modified on        |\n",
      "| message_unread_counter     | integer   | Unread Messages Counter |\n",
      "| message_channel_ids        | many2many | Followers (Channels)    |\n",
      "+----------------------------+-----------+-------------------------+\n"
     ]
    }
   ],
   "source": [
    "desc_model('mail.thread')"
   ]
  },
  {
   "cell_type": "code",
   "execution_count": 22,
   "metadata": {
    "ExecuteTime": {
     "end_time": "2019-01-13T16:28:01.295604Z",
     "start_time": "2019-01-13T16:28:01.259836Z"
    },
    "scrolled": true
   },
   "outputs": [
    {
     "name": "stdout",
     "output_type": "stream",
     "text": [
      "+----------------------------+-----------+-------------------------+\n",
      "| name                       | type      | string                  |\n",
      "|----------------------------+-----------+-------------------------|\n",
      "| message_partner_ids        | many2many | Followers (Partners)    |\n",
      "| user_login                 | char      | User Login              |\n",
      "| email_from                 | char      | Email                   |\n",
      "| message_unread             | boolean   | Unread Messages         |\n",
      "| medium_id                  | many2one  | Medium                  |\n",
      "| partner_id                 | many2one  | Customer                |\n",
      "| title                      | many2one  | Title                   |\n",
      "| source_id                  | many2one  | Source                  |\n",
      "| display_name               | char      | Display Name            |\n",
      "| referred                   | char      | Referred By             |\n",
      "| name                       | char      | Opportunity             |\n",
      "| user_id                    | many2one  | Salesperson             |\n",
      "| user_email                 | char      | User Email              |\n",
      "| website                    | char      | Website                 |\n",
      "| probability                | float     | Probability             |\n",
      "| contact_name               | char      | Contact Name            |\n",
      "| active                     | boolean   | Active                  |\n",
      "| opt_out                    | boolean   | Opt-Out                 |\n",
      "| campaign_id                | many2one  | Campaign                |\n",
      "| message_follower_ids       | one2many  | Followers               |\n",
      "| city                       | char      | City                    |\n",
      "| message_ids                | one2many  | Messages                |\n",
      "| partner_address_email      | char      | Partner Contact Email   |\n",
      "| color                      | integer   | Color Index             |\n",
      "| description                | text      | Notes                   |\n",
      "| mobile                     | char      | Mobile                  |\n",
      "| write_date                 | datetime  | Update Date             |\n",
      "| create_date                | datetime  | Create Date             |\n",
      "| street2                    | char      | Street2                 |\n",
      "| priority                   | selection | Priority                |\n",
      "| country_id                 | many2one  | Country                 |\n",
      "| date_last_stage_update     | datetime  | Last Stage Update       |\n",
      "| activity_user_id           | many2one  | Responsible             |\n",
      "| state_id                   | many2one  | State                   |\n",
      "| date_deadline              | date      | Expected Closing        |\n",
      "| message_last_post          | datetime  | Last Message Date       |\n",
      "| write_uid                  | many2one  | Last Updated by         |\n",
      "| kanban_state               | selection | Activity State          |\n",
      "| street                     | char      | Street                  |\n",
      "| message_is_follower        | boolean   | Is Follower             |\n",
      "| activity_ids               | one2many  | Activities              |\n",
      "| zip                        | char      | Zip                     |\n",
      "| message_unread_counter     | integer   | Unread Messages Counter |\n",
      "| message_needaction         | boolean   | Action Needed           |\n",
      "| phone                      | char      | Phone                   |\n",
      "| team_id                    | many2one  | Sales Channel           |\n",
      "| planned_revenue            | float     | Expected Revenue        |\n",
      "| meeting_count              | integer   | # Meetings              |\n",
      "| date_closed                | datetime  | Closed Date             |\n",
      "| date_open                  | datetime  | Assigned                |\n",
      "| function                   | char      | Job Position            |\n",
      "| partner_name               | char      | Customer Name           |\n",
      "| company_id                 | many2one  | Company                 |\n",
      "| __last_update              | datetime  | Last Modified on        |\n",
      "| message_bounce             | integer   | Bounce                  |\n",
      "| company_currency           | many2one  | Currency                |\n",
      "| partner_address_name       | char      | Partner Contact Name    |\n",
      "| stage_id                   | many2one  | Stage                   |\n",
      "| activity_summary           | char      | Next Activity Summary   |\n",
      "| activity_type_id           | many2one  | Next Activity Type      |\n",
      "| website_message_ids        | one2many  | Website Messages        |\n",
      "| message_needaction_counter | integer   | Number of Actions       |\n",
      "| type                       | selection | Type                    |\n",
      "| day_close                  | float     | Days to Close           |\n",
      "| create_uid                 | many2one  | Created by              |\n",
      "| date_action_last           | datetime  | Last Action             |\n",
      "| activity_state             | selection | State                   |\n",
      "| tag_ids                    | many2many | Tags                    |\n",
      "| day_open                   | float     | Days to Assign          |\n",
      "| lost_reason                | many2one  | Lost Reason             |\n",
      "| activity_date_deadline     | date      | Next Activity Deadline  |\n",
      "| email_cc                   | text      | Global CC               |\n",
      "| date_conversion            | datetime  | Conversion Date         |\n",
      "| message_channel_ids        | many2many | Followers (Channels)    |\n",
      "+----------------------------+-----------+-------------------------+\n"
     ]
    }
   ],
   "source": [
    "desc_model('crm.lead')"
   ]
  },
  {
   "cell_type": "code",
   "execution_count": 25,
   "metadata": {
    "ExecuteTime": {
     "end_time": "2019-01-13T17:42:03.356549Z",
     "start_time": "2019-01-13T17:42:03.334599Z"
    }
   },
   "outputs": [
    {
     "name": "stdout",
     "output_type": "stream",
     "text": [
      "True\n"
     ]
    }
   ],
   "source": [
    "model=\"res.partner\"\n",
    "model_exists = odoo.execute('ir.model', 'search',\n",
    "                                          [('model', '=', model)])\n",
    "print(bool(model_exists))"
   ]
  },
  {
   "cell_type": "code",
   "execution_count": 6,
   "metadata": {
    "ExecuteTime": {
     "end_time": "2019-01-13T18:17:16.905651Z",
     "start_time": "2019-01-13T18:17:16.266309Z"
    },
    "scrolled": true
   },
   "outputs": [
    {
     "name": "stdout",
     "output_type": "stream",
     "text": [
      "199\n",
      "+-------------------+-------------------------------+---------+\n",
      "| model             | name                          |   count |\n",
      "|-------------------+-------------------------------+---------|\n",
      "| product.product   | 产品                          |      40 |\n",
      "| product.templat.. | 产品模板                      |      36 |\n",
      "| project.task      | 任务                          |      39 |\n",
      "| account.analyti.. | 分析账户                      |      23 |\n",
      "| calendar.event    | 活动                          |       7 |\n",
      "| mail.test.simpl.. | 测试简单的聊天记录            |       0 |\n",
      "| mail.test         | 测试邮件模型                  |       0 |\n",
      "| mail.thread       | 电邮线程                      |       0 |\n",
      "| crm.lead          | 线索/商机                     |      27 |\n",
      "| res.partner       | 联系人                        |      43 |\n",
      "| mail.channel      | 讨论频道                      |       5 |\n",
      "| crm.team          | 销售渠道                      |       3 |\n",
      "| project.project   | 项目                          |       6 |\n",
      "| base              | base                          |       0 |\n",
      "| base_import.imp.. | base_import.imp..             |       0 |\n",
      "| base_import.tes.. | base_import.tes..             |       0 |\n",
      "| base_import.tes.. | base_import.tes..             |       0 |\n",
      "| base_import.tes.. | base_import.tes..             |       0 |\n",
      "| base_import.tes.. | base_import.tes..             |       0 |\n",
      "| base_import.tes.. | base_import.tes..             |       0 |\n",
      "| base_import.tes.. | base_import.tes..             |       0 |\n",
      "| base_import.tes.. | base_import.tes..             |       0 |\n",
      "| base_import.tes.. | base_import.tes..             |       0 |\n",
      "| base_import.tes.. | base_import.tes..             |       0 |\n",
      "| base_import.tes.. | base_import.tes..             |       0 |\n",
      "| base_import.tes.. | base_import.tes..             |       0 |\n",
      "| base_import.tes.. | base_import.tes..             |       0 |\n",
      "| base_import.tes.. | base_import.tes..             |       0 |\n",
      "| base.language.e.. | base.language.e..             |       0 |\n",
      "| base.partner.me.. | base.partner.me..             |       0 |\n",
      "| base.partner.me.. | base.partner.me..             |       0 |\n",
      "| base.update.tra.. | base.update.tra..             |       0 |\n",
      "| bus.bus           | bus.bus                       |      54 |\n",
      "| calendar.alarm_.. | calendar.alarm_..             |       0 |\n",
      "| crm.opportunity.. | CRM商机分析                   |      27 |\n",
      "| crm.activity.re.. | CRM活动分析                   |       0 |\n",
      "| decimal.precisi.. | decimal.precisi..             |       0 |\n",
      "| format.address... | format.address...             |       0 |\n",
      "| ir.http           | HTTP 路由                     |       0 |\n",
      "| iap.account       | iap.account                   |       0 |\n",
      "| ir.actions.acti.. | ir.actions.acti..             |     198 |\n",
      "| ir.actions.act_.. | ir.actions.act_..             |       1 |\n",
      "| ir.actions.act_.. | ir.actions.act_..             |     173 |\n",
      "| ir.actions.act_.. | ir.actions.act_..             |     198 |\n",
      "| ir.actions.act_.. | ir.actions.act_..             |      60 |\n",
      "| ir.actions.clie.. | ir.actions.clie..             |       5 |\n",
      "| ir.actions.repo.. | ir.actions.repo..             |       7 |\n",
      "| ir.actions.serv.. | ir.actions.serv..             |      12 |\n",
      "| ir.attachment     | ir.attachment                 |     454 |\n",
      "| ir.autovacuum     | ir.autovacuum                 |       0 |\n",
      "| ir.config_param.. | ir.config_param..             |       9 |\n",
      "| ir.default        | ir.default                    |       1 |\n",
      "| ir.exports        | ir.exports                    |       0 |\n",
      "| ir.exports.line   | ir.exports.line               |       0 |\n",
      "| ir.fields.conve.. | ir.fields.conve..             |       0 |\n",
      "| ir.logging        | ir.logging                    |       0 |\n",
      "| ir.mail_server    | ir.mail_server                |       1 |\n",
      "| ir.model.access   | ir.model.access               |     262 |\n",
      "| ir.model.constr.. | ir.model.constr..             |     380 |\n",
      "| ir.model.data     | ir.model.data                 |    6945 |\n",
      "| ir.model.relati.. | ir.model.relati..             |      51 |\n",
      "| ir.property       | ir.property                   |      34 |\n",
      "| ir.qweb           | ir.qweb                       |       0 |\n",
      "| ir.qweb.field     | ir.qweb.field                 |       0 |\n",
      "| ir.qweb.field.b.. | ir.qweb.field.b..             |       0 |\n",
      "| ir.qweb.field.c.. | ir.qweb.field.c..             |       0 |\n",
      "| ir.qweb.field.d.. | ir.qweb.field.d..             |       0 |\n",
      "| ir.qweb.field.d.. | ir.qweb.field.d..             |       0 |\n",
      "| ir.qweb.field.d.. | ir.qweb.field.d..             |       0 |\n",
      "| ir.qweb.field.f.. | ir.qweb.field.f..             |       0 |\n",
      "| ir.qweb.field.f.. | ir.qweb.field.f..             |       0 |\n",
      "| ir.qweb.field.h.. | ir.qweb.field.h..             |       0 |\n",
      "| ir.qweb.field.i.. | ir.qweb.field.i..             |       0 |\n",
      "| ir.qweb.field.i.. | ir.qweb.field.i..             |       0 |\n",
      "| ir.qweb.field.m.. | ir.qweb.field.m..             |       0 |\n",
      "| ir.qweb.field.m.. | ir.qweb.field.m..             |       0 |\n",
      "| ir.qweb.field.q.. | ir.qweb.field.q..             |       0 |\n",
      "| ir.qweb.field.r.. | ir.qweb.field.r..             |       0 |\n",
      "| ir.qweb.field.s.. | ir.qweb.field.s..             |       0 |\n",
      "| ir.qweb.field.t.. | ir.qweb.field.t..             |       0 |\n",
      "| ir.rule           | ir.rule                       |      59 |\n",
      "| ir.sequence       | ir.sequence                   |       0 |\n",
      "| ir.sequence.dat.. | ir.sequence.dat..             |       0 |\n",
      "| ir.translation    | ir.translation                |   30053 |\n",
      "| ir.ui.menu        | ir.ui.menu                    |     143 |\n",
      "| ir.ui.view        | ir.ui.view                    |     479 |\n",
      "| ir.ui.view.cust.. | ir.ui.view.cust..             |       0 |\n",
      "| mail.alias.mixi.. | mail.alias.mixi..             |       0 |\n",
      "| fetchmail.serve.. | POP/IMAP 服务器               |       0 |\n",
      "| portal.mixin      | portal.mixin                  |       0 |\n",
      "| product.attribu.. | product.attribu..             |       4 |\n",
      "| product.attribu.. | product.attribu..             |       2 |\n",
      "| product.attribu.. | product.attribu..             |       5 |\n",
      "| product.price.h.. | product.price.h..             |      40 |\n",
      "| project.task.me.. | project.task.me..             |       0 |\n",
      "| publisher_warra.. | publisher_warra..             |       0 |\n",
      "| report.base.rep.. | report.base.rep..             |       0 |\n",
      "| report.product... | report.product...             |       0 |\n",
      "| res.config        | res.config                    |       0 |\n",
      "| res.config.inst.. | res.config.inst..             |       0 |\n",
      "| res.config.sett.. | res.config.sett..             |       0 |\n",
      "| res.partner.tit.. | res.partner.tit..             |       5 |\n",
      "| res.request.lin.. | res.request.lin..             |       4 |\n",
      "| res.users.log     | res.users.log                 |      27 |\n",
      "| sms.api           | sms.api                       |       0 |\n",
      "| sms.send_sms      | sms.send_sms                  |       0 |\n",
      "| _unknown          | _unknown                      |       0 |\n",
      "| utm.mixin         | utm.mixin                     |       0 |\n",
      "| web_editor.conv.. | web_editor.conv..             |       0 |\n",
      "| web_editor.conv.. | web_editor.conv..             |       0 |\n",
      "| wizard.ir.model.. | wizard.ir.model..             |       0 |\n",
      "| res.partner.cat.. | 业务伙伴标签                  |      17 |\n",
      "| crm.lost.reason   | 丢失线索的原因                |       3 |\n",
      "| product.attribu.. | 产品属性                      |       3 |\n",
      "| product.categor.. | 产品类别                      |       6 |\n",
      "| product.uom.cat.. | 产品计量单位 类别             |       5 |\n",
      "| product.price_l.. | 价格表                        |       0 |\n",
      "| product.priceli.. | 价格表                        |       1 |\n",
      "| product.priceli.. | 价格表项目                    |       1 |\n",
      "| project.task.ty.. | 任务阶段                      |       7 |\n",
      "| resource.calend.. | 休假详情                      |       0 |\n",
      "| calendar.event... | 会议类型                      |       5 |\n",
      "| report.paperfor.. | 允许报表自定义。              |       3 |\n",
      "| res.company       | 公司                          |       1 |\n",
      "| mail.mail         | 出向邮件                      |      15 |\n",
      "| account.analyti.. | 分析标签                      |       1 |\n",
      "| account.analyti.. | 分析行                        |       0 |\n",
      "| product.packagi.. | 包装                          |       0 |\n",
      "| product.uom       | 单位                          |      19 |\n",
      "| mail.followers    | 单据关注者                    |     257 |\n",
      "| calendar.attend.. | 参会者信息                    |      14 |\n",
      "| crm.merge.oppor.. | 合并商机                      |       0 |\n",
      "| res.country       | 国家/地区                     |     250 |\n",
      "| res.country.sta.. | 国家地区州/省                 |     679 |\n",
      "| res.country.gro.. | 国家/地区组                   |       2 |\n",
      "| crm.partner.bin.. | 在CRM向导中处理业务伙伴的绑.. |       0 |\n",
      "| ir.model.fields   | 字段                          |    3157 |\n",
      "| ir.cron           | 安排的动作                    |       5 |\n",
      "| base.language.i.. | 安装语言                      |       0 |\n",
      "| change.password.. | 密码更改向导                  |       0 |\n",
      "| change.password.. | 密码更改向导用户              |       0 |\n",
      "| crm.lead2opport.. | 将线索转为商机的业务伙伴      |       0 |\n",
      "| decimal.precisi.. | 小数.精确度                   |       4 |\n",
      "| res.partner.ind.. | 工业                          |      21 |\n",
      "| resource.calend.. | 工作详情                      |      30 |\n",
      "| ir.module.categ.. | 应用程序                      |      53 |\n",
      "| crm.lead.lost     | 得到丢失原因                  |       0 |\n",
      "| calendar.contac.. | 日历.联系人                   |       2 |\n",
      "| base.module.upd.. | 更新模块                      |       0 |\n",
      "| product.supplie.. | 有关产品的供应商信息。        |      26 |\n",
      "| ir.server.objec.. | 服务器动作值映射              |       0 |\n",
      "| utm.source        | 来源                          |       5 |\n",
      "| crm.stage         | 案件的阶段                    |       4 |\n",
      "| ir.module.modul.. | 模块                          |     294 |\n",
      "| ir.module.modul.. | 模块互斥                      |       0 |\n",
      "| ir.module.modul.. | 模块依赖                      |     543 |\n",
      "| base.module.upg.. | 模块升级                      |       0 |\n",
      "| base.module.uni.. | 模块反安装                    |       0 |\n",
      "| ir.model          | 模型                          |     199 |\n",
      "| mail.activity     | 活动                          |      14 |\n",
      "| mail.activity.m.. | 活动Mixin                     |       0 |\n",
      "| mail.activity.t.. | 活动类型                      |       7 |\n",
      "| calendar.alarm    | 活动警报                      |       7 |\n",
      "| resource.test     | 测试资源模型                  |       0 |\n",
      "| mail.message      | 消息                          |     293 |\n",
      "| mail.message.su.. | 消息子类型                    |      20 |\n",
      "| mail.notificati.. | 消息通知                      |      52 |\n",
      "| web_tour.tour     | 游览                          |       0 |\n",
      "| res.users         | 用户                          |       6 |\n",
      "| bus.presence      | 用户出现                      |       1 |\n",
      "| mail.template     | 电子邮件模板                  |      14 |\n",
      "| mail.alias        | 电邮别名                      |      15 |\n",
      "| mail.compose.me.. | 电邮撰写向导                  |       0 |\n",
      "| email_template... | 电邮模板预览                  |       0 |\n",
      "| ir.filters        | 筛选                          |      10 |\n",
      "| crm.lead.tag      | 线索的类别                    |       8 |\n",
      "| crm.lead2opport.. | 线索至业务伙伴或商机          |       0 |\n",
      "| utm.campaign      | 营销                          |       4 |\n",
      "| web.planner       | 计划                          |       2 |\n",
      "| res.groups        | 访问组                        |      25 |\n",
      "| res.lang          | 语言                          |      78 |\n",
      "| base.language.i.. | 语言导入                      |       0 |\n",
      "| res.currency      | 货币                          |     170 |\n",
      "| res.currency.ra.. | 货币汇率                      |     172 |\n",
      "| resource.calend.. | 资源日历                      |       3 |\n",
      "| resource.mixin    | 资源装饰                      |       0 |\n",
      "| resource.resour.. | 资源详情                      |       0 |\n",
      "| mail.wizard.inv.. | 邀请向导                      |       0 |\n",
      "| mail.tracking.v.. | 邮件追踪值                    |     442 |\n",
      "| ir.actions.todo   | 配置向导                      |       1 |\n",
      "| res.bank          | 银行                          |       4 |\n",
      "| res.partner.ban.. | 银行帐户                      |       1 |\n",
      "| portal.wizard.u.. | 门户用户配置                  |       0 |\n",
      "| portal.wizard     | 门户访问管理                  |       0 |\n",
      "| project.tags      | 项目任务的标签                |       5 |\n",
      "| report.project... | 项目和用户的任务              |      26 |\n",
      "| mail.shortcode    | 预设回应/短码                 |      33 |\n",
      "| utm.medium        | 频道                          |       9 |\n",
      "| mail.channel.pa.. | 频道的收听者                  |       4 |\n",
      "+-------------------+-------------------------------+---------+\n"
     ]
    }
   ],
   "source": [
    "from tabulate import tabulate\n",
    "import wcwidth\n",
    "from sagas.crmsfa.odoo_facade import odoo, login\n",
    "\n",
    "def model_info():\n",
    "    login()\n",
    "\n",
    "    # models = odoo.execute('ir.model', 'browse', [])\n",
    "    # print(models)\n",
    "\n",
    "    # https://stackoverflow.com/questions/2872512/python-truncate-a-long-string\n",
    "    def abbrev(data, l=15):\n",
    "        info = (data[:l] + '..') if len(data) > l else data\n",
    "        return info\n",
    "\n",
    "    table_header = ['model','name', 'count']\n",
    "    table_data = []\n",
    "\n",
    "    Order = odoo.env['ir.model']\n",
    "    order_ids = Order.search([])\n",
    "    print(len(order_ids))\n",
    "    models=Order.browse(order_ids)\n",
    "    # print(models[0])\n",
    "    # odoo/addons/base/ir/ir_model.py\n",
    "    for order in models:\n",
    "        # print(order.model, order.name, order.count)    \n",
    "        table_data.append((abbrev(order.model), \n",
    "                           abbrev(order.name), order.count))\n",
    "\n",
    "    print(tabulate(table_data, headers=table_header, tablefmt='psql'))    \n",
    "\n",
    "model_info()"
   ]
  },
  {
   "cell_type": "code",
   "execution_count": 4,
   "metadata": {
    "ExecuteTime": {
     "end_time": "2019-01-13T18:14:23.675012Z",
     "start_time": "2019-01-13T18:14:23.671694Z"
    }
   },
   "outputs": [],
   "source": [
    "tabulate.WIDE_CHARS_MODE=True"
   ]
  }
 ],
 "metadata": {
  "kernelspec": {
   "display_name": "Python 3",
   "language": "python",
   "name": "python3"
  },
  "language_info": {
   "codemirror_mode": {
    "name": "ipython",
    "version": 3
   },
   "file_extension": ".py",
   "mimetype": "text/x-python",
   "name": "python",
   "nbconvert_exporter": "python",
   "pygments_lexer": "ipython3",
   "version": "3.6.4"
  },
  "varInspector": {
   "cols": {
    "lenName": 16,
    "lenType": 16,
    "lenVar": 40
   },
   "kernels_config": {
    "python": {
     "delete_cmd_postfix": "",
     "delete_cmd_prefix": "del ",
     "library": "var_list.py",
     "varRefreshCmd": "print(var_dic_list())"
    },
    "r": {
     "delete_cmd_postfix": ") ",
     "delete_cmd_prefix": "rm(",
     "library": "var_list.r",
     "varRefreshCmd": "cat(var_dic_list()) "
    }
   },
   "types_to_exclude": [
    "module",
    "function",
    "builtin_function_or_method",
    "instance",
    "_Feature"
   ],
   "window_display": false
  }
 },
 "nbformat": 4,
 "nbformat_minor": 2
}
