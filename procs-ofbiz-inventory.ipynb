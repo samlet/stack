{
 "cells": [
  {
   "cell_type": "code",
   "execution_count": 1,
   "metadata": {
    "ExecuteTime": {
     "end_time": "2019-02-02T15:51:24.551390Z",
     "start_time": "2019-02-02T15:51:24.224068Z"
    },
    "scrolled": false
   },
   "outputs": [
    {
     "name": "stdout",
     "output_type": "stream",
     "text": [
      "None\n",
      "getInventoryAvailableByFacility component://product/minilang/product/inventory/InventoryServices.xml getProductInventoryAvailable\n",
      "default entity:  \n",
      "+-------------------+------------+----------+--------+---------------+\n",
      "| name              | type       | entity   | mode   | description   |\n",
      "|-------------------+------------+----------+--------+---------------|\n",
      "| productId         | String     |          | IN     | *             |\n",
      "| facilityId        | String     |          | IN     | *             |\n",
      "| statusId          | String     |          | IN     |               |\n",
      "| lotId             | String     |          | IN     |               |\n",
      "| quantityOnHandT.. | BigDecimal |          | OUT    | *             |\n",
      "| availableToProm.. | BigDecimal |          | OUT    | *             |\n",
      "| accountingQuant.. | BigDecimal |          | OUT    | *             |\n",
      "| useCache          | Boolean    |          | IN     |               |\n",
      "+-------------------+------------+----------+--------+---------------+\n"
     ]
    }
   ],
   "source": [
    "from sagas.ofbiz.services import OfService, MetaService\n",
    "from sagas.ofbiz.entities import MetaEntity\n",
    "\n",
    "ms = OfService()\n",
    "print(ms._name)\n",
    "MetaService('getInventoryAvailableByFacility').desc(False)"
   ]
  },
  {
   "cell_type": "code",
   "execution_count": 7,
   "metadata": {
    "ExecuteTime": {
     "end_time": "2019-02-02T15:31:18.761506Z",
     "start_time": "2019-02-02T15:31:18.757062Z"
    }
   },
   "outputs": [
    {
     "name": "stdout",
     "output_type": "stream",
     "text": [
      "True\n"
     ]
    }
   ],
   "source": [
    "print(\"t_id\" in \"product_id\")"
   ]
  },
  {
   "cell_type": "code",
   "execution_count": 15,
   "metadata": {
    "ExecuteTime": {
     "end_time": "2019-02-02T16:08:37.743571Z",
     "start_time": "2019-02-02T16:08:37.726226Z"
    }
   },
   "outputs": [
    {
     "name": "stdout",
     "output_type": "stream",
     "text": [
      "{'org.apache.ofbiz', 'org.apache.ofbiz.tenant'}\n",
      "6\n",
      "{'Tenant', 'TenantDomainName', 'TenantComponent', 'TenantKeyEncryptingKey', 'Component', 'TenantDataSource'}\n"
     ]
    }
   ],
   "source": [
    "from sagas.ofbiz.runtime_context import platform\n",
    "oc=platform.oc\n",
    "finder=platform.finder\n",
    "\n",
    "group_reader=oc.delegator.getModelGroupReader()\n",
    "names=group_reader.getGroupNames(\"default\")\n",
    "print(names)\n",
    "result_set=group_reader.getEntityNamesByGroup(\"default\", 'org.apache.ofbiz.tenant')\n",
    "print(len(result_set))\n",
    "print(result_set)"
   ]
  },
  {
   "cell_type": "code",
   "execution_count": 19,
   "metadata": {
    "ExecuteTime": {
     "end_time": "2019-02-02T16:09:17.194822Z",
     "start_time": "2019-02-02T16:09:17.054843Z"
    }
   },
   "outputs": [
    {
     "name": "stdout",
     "output_type": "stream",
     "text": [
      "AgreementFacilityAppl\n",
      "FacilityAndContactMech\n",
      "ProductFacilityLocation\n",
      "FacilityLocationGeoPoint\n",
      "ProdCatalogInvFacility\n",
      "FacilityCalendar\n",
      "FacilityLocation\n",
      "ProductStoreFacility\n",
      "FacilityGroupMember\n",
      "ProductFacilityAndPostalAddress\n",
      "FacilityCalendarType\n",
      "FacilityContentDetail\n",
      "FacilityLocationAndGeoPoint\n",
      "FacilityContent\n",
      "FacilityGroupRole\n",
      "ProductFacilityLocationView\n",
      "FacilityAttribute\n",
      "Facility\n",
      "FacilityType\n",
      "ProductFacility\n",
      "RequirementByProductFacility\n",
      "FacilityTypeAttr\n",
      "FacilityParty\n",
      "FacilityGroupType\n",
      "FacilityContactMech\n",
      "OrderHeaderAndItemFacilityLocation\n",
      "FacilityGroup\n",
      "FacilityContactMechPurpose\n",
      "ProductStoreFacilityByOrder\n",
      "ProductFacilityLocationQuantityTest\n",
      "FacilityGroupRollup\n",
      "AgreementItemAndFacilityAppl\n",
      "FacilityCarrierShipment\n"
     ]
    }
   ],
   "source": [
    "def search_entity(name_filter):\n",
    "    name_filter=name_filter.lower()\n",
    "    model_reader=oc.delegator.getModelReader()\n",
    "    names=model_reader.getEntityNames()\n",
    "    # print(len(names))\n",
    "    for name in names:\n",
    "        if name_filter in name.lower():\n",
    "            print(name)\n",
    "            \n",
    "search_entity('facility')            "
   ]
  },
  {
   "cell_type": "code",
   "execution_count": 10,
   "metadata": {
    "ExecuteTime": {
     "end_time": "2019-02-02T15:58:57.406752Z",
     "start_time": "2019-02-02T15:58:57.380256Z"
    }
   },
   "outputs": [
    {
     "name": "stdout",
     "output_type": "stream",
     "text": [
      "GZ-2644 2019-01-26 21:09:34.864\n",
      "WebStoreWarehouse 2019-01-26 21:09:19.467\n"
     ]
    }
   ],
   "source": [
    "entity = MetaEntity(\"Product\")\n",
    "rec = entity.find_one(productId='GZ-2644')\n",
    "print(rec['productId'], rec['lastUpdatedTxStamp'])\n",
    "\n",
    "entity = MetaEntity(\"Facility\")\n",
    "rec = entity.find_one(facilityId='WebStoreWarehouse')\n",
    "print(rec['facilityId'], rec['lastUpdatedTxStamp'])\n",
    "\n",
    "entity = MetaEntity(\"Facility\")\n",
    "rec = entity.find_one(facilityId='WebStore_not_exists')\n",
    "if not rec is None:\n",
    "    print(rec['facilityId'], rec['lastUpdatedTxStamp'])"
   ]
  },
  {
   "cell_type": "code",
   "execution_count": 12,
   "metadata": {
    "ExecuteTime": {
     "end_time": "2019-02-02T16:07:12.619802Z",
     "start_time": "2019-02-02T16:07:12.584060Z"
    }
   },
   "outputs": [
    {
     "name": "stdout",
     "output_type": "stream",
     "text": [
      "509.000000 509.000000\n"
     ]
    }
   ],
   "source": [
    "ms = OfService()\n",
    "ok, ret=ms.getInventoryAvailableByFacility(productId='GZ-2644', facilityId='WebStoreWarehouse')\n",
    "if ok:\n",
    "    print(ret['quantityOnHandTotal'], ret['availableToPromiseTotal'])"
   ]
  },
  {
   "cell_type": "code",
   "execution_count": 20,
   "metadata": {
    "ExecuteTime": {
     "end_time": "2019-02-02T16:09:24.057113Z",
     "start_time": "2019-02-02T16:09:23.928589Z"
    }
   },
   "outputs": [
    {
     "name": "stdout",
     "output_type": "stream",
     "text": [
      "InventoryItemAndDetail\n",
      "InventoryItemLabelType\n",
      "InventoryItemDetailSummary\n",
      "InventoryItemDetailForSum\n",
      "InventoryItemTypeAttr\n",
      "InventoryItemTempRes\n",
      "InventoryItemAttribute\n",
      "InventoryItemAndLocation\n",
      "InventoryItemStatusForCount\n",
      "InventoryItemLabel\n",
      "InventoryItemStatus\n",
      "ProductInventoryItem\n",
      "InventoryItemType\n",
      "InventoryItemVariance\n",
      "InventoryItemDetail\n",
      "ItemIssuanceAndInventoryItem\n",
      "InventoryItem\n",
      "InventoryItemLabelAppl\n",
      "BalanceInventoryItemsView\n"
     ]
    }
   ],
   "source": [
    "search_entity('inventoryItem')"
   ]
  },
  {
   "cell_type": "code",
   "execution_count": 22,
   "metadata": {
    "ExecuteTime": {
     "end_time": "2019-02-02T16:19:36.108554Z",
     "start_time": "2019-02-02T16:19:36.084590Z"
    }
   },
   "outputs": [
    {
     "data": {
      "text/plain": [
       "{'softIdentifier': None, 'createdStamp': JavaObject id=o22675, 'binNumber': None, 'oldAvailableToPromise': None, 'quantityOnHandTotal': Decimal('8.000000'), 'datetimeManufactured': None, 'expireDate': None, 'oldQuantityOnHand': None, 'partyId': None, 'containerId': None, 'availableToPromiseTotal': Decimal('8.000000'), 'inventoryItemTypeId': 'NON_SERIAL_INV_ITEM', 'locationSeqId': None, 'lastUpdatedStamp': JavaObject id=o22676, 'facilityId': 'WebStoreWarehouse', 'comments': None, 'serialNumber': None, 'productId': 'GZ-1006-4', 'createdTxStamp': JavaObject id=o22677, 'lastUpdatedTxStamp': JavaObject id=o22678, 'lotId': None, 'uomId': None, 'accountingQuantityTotal': Decimal('8.000000'), 'inventoryItemId': '9024', 'ownerPartyId': 'Company', 'activationValidThru': None, 'activationNumber': None, 'currencyUomId': 'USD', 'statusId': None, 'unitCost': Decimal('2.400000'), 'fixedAssetId': None, 'datetimeReceived': JavaObject id=o22679}"
      ]
     },
     "execution_count": 22,
     "metadata": {},
     "output_type": "execute_result"
    }
   ],
   "source": [
    "def record(entity, id_val):\n",
    "    ent=MetaEntity(entity)\n",
    "    pk=ent.model.getOnlyPk()\n",
    "    ctx=oc.j.HashMap()\n",
    "    ctx.put(pk.getName(), id_val)\n",
    "    return oc.delegator.findOne(ent.name, ctx, True)\n",
    "\n",
    "record(\"InventoryItem\", '9024')"
   ]
  },
  {
   "cell_type": "code",
   "execution_count": 23,
   "metadata": {
    "ExecuteTime": {
     "end_time": "2019-02-02T16:48:35.591115Z",
     "start_time": "2019-02-02T16:48:34.674042Z"
    }
   },
   "outputs": [
    {
     "data": {
      "text/plain": [
       "(True, {'responseMessage': 'success', 'physicalInventoryId': '10000'})"
      ]
     },
     "execution_count": 23,
     "metadata": {},
     "output_type": "execute_result"
    }
   ],
   "source": [
    "OfService().createPhysicalInventoryAndVariance(inventoryItemId='9024',\n",
    "                                              varianceReasonId='VAR_LOST')"
   ]
  }
 ],
 "metadata": {
  "kernelspec": {
   "display_name": "Python 3",
   "language": "python",
   "name": "python3"
  },
  "language_info": {
   "codemirror_mode": {
    "name": "ipython",
    "version": 3
   },
   "file_extension": ".py",
   "mimetype": "text/x-python",
   "name": "python",
   "nbconvert_exporter": "python",
   "pygments_lexer": "ipython3",
   "version": "3.6.4"
  },
  "varInspector": {
   "cols": {
    "lenName": 16,
    "lenType": 16,
    "lenVar": 40
   },
   "kernels_config": {
    "python": {
     "delete_cmd_postfix": "",
     "delete_cmd_prefix": "del ",
     "library": "var_list.py",
     "varRefreshCmd": "print(var_dic_list())"
    },
    "r": {
     "delete_cmd_postfix": ") ",
     "delete_cmd_prefix": "rm(",
     "library": "var_list.r",
     "varRefreshCmd": "cat(var_dic_list()) "
    }
   },
   "types_to_exclude": [
    "module",
    "function",
    "builtin_function_or_method",
    "instance",
    "_Feature"
   ],
   "window_display": false
  }
 },
 "nbformat": 4,
 "nbformat_minor": 2
}
