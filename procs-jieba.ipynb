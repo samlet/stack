{
 "cells": [
  {
   "cell_type": "code",
   "execution_count": 1,
   "metadata": {
    "ExecuteTime": {
     "end_time": "2020-01-01T00:42:44.652417Z",
     "start_time": "2020-01-01T00:42:43.334517Z"
    }
   },
   "outputs": [
    {
     "name": "stderr",
     "output_type": "stream",
     "text": [
      "Building prefix dict from the default dictionary ...\n",
      "Loading model from cache /var/folders/fv/7k1qk5v11dn33sdcngv2wbnm0000gn/T/jieba.cache\n"
     ]
    },
    {
     "name": "stdout",
     "output_type": "stream",
     "text": [
      "<generator object Tokenizer.cut at 0x115150a98>\n"
     ]
    },
    {
     "name": "stderr",
     "output_type": "stream",
     "text": [
      "Loading model cost 0.910 seconds.\n",
      "Prefix dict has been built successfully.\n"
     ]
    },
    {
     "name": "stdout",
     "output_type": "stream",
     "text": [
      "Full Mode: 我/ 在/ 学习/ 自然/ 自然语言/ 语言/ 处理\n",
      "Default Mode: 我/ 在/ 学习/ 自然语言/ 处理\n",
      "他, 毕业, 于, 上海交通大学, ，, 在, 百度, 深度, 学习, 研究院, 进行, 研究\n",
      "小明, 硕士, 毕业, 于, 中国, 科学, 学院, 科学院, 中国科学院, 计算, 计算所, ，, 后, 在, 哈佛, 大学, 哈佛大学, 深造\n"
     ]
    }
   ],
   "source": [
    "import jieba\n",
    "\n",
    "seg_list = jieba.cut(\"我在学习自然语言处理\", cut_all=True)\n",
    "print(seg_list)\n",
    "print(\"Full Mode: \" + \"/ \".join(seg_list))  # 全模式\n",
    "\n",
    "seg_list = jieba.cut(\"我在学习自然语言处理\", cut_all=False)\n",
    "print(\"Default Mode: \" + \"/ \".join(seg_list))  # 精确模式\n",
    "\n",
    "seg_list = jieba.cut(\"他毕业于上海交通大学，在百度深度学习研究院进行研究\")  # 默认是精确模式\n",
    "print(\", \".join(seg_list))\n",
    "\n",
    "seg_list = jieba.cut_for_search(\"小明硕士毕业于中国科学院计算所，后在哈佛大学深造\")  # 搜索引擎模式\n",
    "print(\", \".join(seg_list))"
   ]
  },
  {
   "cell_type": "code",
   "execution_count": 2,
   "metadata": {
    "ExecuteTime": {
     "end_time": "2020-01-01T00:42:57.341986Z",
     "start_time": "2020-01-01T00:42:57.326842Z"
    }
   },
   "outputs": [
    {
     "name": "stdout",
     "output_type": "stream",
     "text": [
      "吉姆, 靠, 给, 人, 擦皮鞋, 为生, 。\n",
      "吉姆, 靠, 给, 人, 擦皮, 皮鞋, 擦皮鞋, 为生, 。\n"
     ]
    }
   ],
   "source": [
    "sents='吉姆靠给人擦皮鞋为生。'\n",
    "seg_list = jieba.cut(sents)\n",
    "print(\", \".join(seg_list))\n",
    "seg_list = jieba.cut_for_search(sents)\n",
    "print(\", \".join(seg_list))"
   ]
  },
  {
   "cell_type": "code",
   "execution_count": 6,
   "metadata": {
    "ExecuteTime": {
     "end_time": "2019-09-01T06:34:30.654901Z",
     "start_time": "2019-09-01T06:34:30.640172Z"
    }
   },
   "outputs": [
    {
     "name": "stdout",
     "output_type": "stream",
     "text": [
      "我 r\n",
      "爱 v\n",
      "北京 ns\n",
      "天安门 ns\n"
     ]
    }
   ],
   "source": [
    "import jieba.posseg as pseg\n",
    "def print_pos(sents):\n",
    "    words = pseg.cut(sents)\n",
    "    for word, flag in words:\n",
    "        print('%s %s' % (word, flag))\n",
    "print_pos(\"我爱北京天安门\")"
   ]
  },
  {
   "cell_type": "code",
   "execution_count": 7,
   "metadata": {
    "ExecuteTime": {
     "end_time": "2019-09-01T06:34:43.430880Z",
     "start_time": "2019-09-01T06:34:43.421242Z"
    }
   },
   "outputs": [
    {
     "name": "stdout",
     "output_type": "stream",
     "text": [
      "吉姆 nrt\n",
      "靠 v\n",
      "给 p\n",
      "人 n\n",
      "擦皮鞋 l\n",
      "为生 v\n",
      "。 x\n"
     ]
    }
   ],
   "source": [
    "print_pos('吉姆靠给人擦皮鞋为生。')"
   ]
  },
  {
   "cell_type": "code",
   "execution_count": 17,
   "metadata": {
    "ExecuteTime": {
     "end_time": "2019-09-01T06:52:21.722807Z",
     "start_time": "2019-09-01T06:52:21.710052Z"
    }
   },
   "outputs": [
    {
     "name": "stdout",
     "output_type": "stream",
     "text": [
      "['他', '来到', '了', '网易', '杭研', '大厦']\n",
      "他 r\n",
      "来到 v\n",
      "了 ul\n",
      "网易 n\n",
      "杭 j\n",
      "研 vn\n",
      "大厦 n\n"
     ]
    }
   ],
   "source": [
    "print([w for w in jieba.cut(\"他来到了网易杭研大厦\")])\n",
    "print_pos(\"他来到了网易杭研大厦\")"
   ]
  },
  {
   "cell_type": "code",
   "execution_count": 10,
   "metadata": {
    "ExecuteTime": {
     "end_time": "2019-09-01T06:40:17.366007Z",
     "start_time": "2019-09-01T06:40:17.328462Z"
    }
   },
   "outputs": [
    {
     "data": {
      "text/html": [
       "<div>\n",
       "<style scoped>\n",
       "    .dataframe tbody tr th:only-of-type {\n",
       "        vertical-align: middle;\n",
       "    }\n",
       "\n",
       "    .dataframe tbody tr th {\n",
       "        vertical-align: top;\n",
       "    }\n",
       "\n",
       "    .dataframe thead th {\n",
       "        text-align: right;\n",
       "    }\n",
       "</style>\n",
       "<table border=\"1\" class=\"dataframe\">\n",
       "  <thead>\n",
       "    <tr style=\"text-align: right;\">\n",
       "      <th></th>\n",
       "      <th>词性编码</th>\n",
       "      <th>词性名称</th>\n",
       "      <th>注解</th>\n",
       "    </tr>\n",
       "  </thead>\n",
       "  <tbody>\n",
       "    <tr>\n",
       "      <th>0</th>\n",
       "      <td>Ag</td>\n",
       "      <td>形语素</td>\n",
       "      <td>形容词性语素。形容词代码为 a，语素代码ｇ前面置以A。</td>\n",
       "    </tr>\n",
       "    <tr>\n",
       "      <th>1</th>\n",
       "      <td>a</td>\n",
       "      <td>形成词</td>\n",
       "      <td>取英语形容词 adjective的第1个字母。</td>\n",
       "    </tr>\n",
       "    <tr>\n",
       "      <th>2</th>\n",
       "      <td>ad</td>\n",
       "      <td>副形词</td>\n",
       "      <td>直接作状语的形容词。形容词代码 a和副词代码d并在一起。</td>\n",
       "    </tr>\n",
       "    <tr>\n",
       "      <th>3</th>\n",
       "      <td>an</td>\n",
       "      <td>名形词</td>\n",
       "      <td>具有名词功能的形容词。形容词代码 a和名词代码n并在一起。</td>\n",
       "    </tr>\n",
       "    <tr>\n",
       "      <th>4</th>\n",
       "      <td>b</td>\n",
       "      <td>区别词</td>\n",
       "      <td>取汉字“别”的声母。</td>\n",
       "    </tr>\n",
       "    <tr>\n",
       "      <th>5</th>\n",
       "      <td>c</td>\n",
       "      <td>连词</td>\n",
       "      <td>取英语连词 conjunction的第1个字母。</td>\n",
       "    </tr>\n",
       "    <tr>\n",
       "      <th>6</th>\n",
       "      <td>dg</td>\n",
       "      <td>副语素</td>\n",
       "      <td>副词性语素。副词代码为 d，语素代码ｇ前面置以D。</td>\n",
       "    </tr>\n",
       "    <tr>\n",
       "      <th>7</th>\n",
       "      <td>d</td>\n",
       "      <td>副词</td>\n",
       "      <td>取 adverb的第2个字母，因其第1个字母已用于形容词。</td>\n",
       "    </tr>\n",
       "    <tr>\n",
       "      <th>8</th>\n",
       "      <td>e</td>\n",
       "      <td>叹词</td>\n",
       "      <td>取英语叹词 exclamation的第1个字母。</td>\n",
       "    </tr>\n",
       "    <tr>\n",
       "      <th>9</th>\n",
       "      <td>f</td>\n",
       "      <td>方位词</td>\n",
       "      <td>取汉字“方”</td>\n",
       "    </tr>\n",
       "    <tr>\n",
       "      <th>10</th>\n",
       "      <td>g</td>\n",
       "      <td>语素</td>\n",
       "      <td>绝大多数语素都能作为合成词的“词根”，取汉字“根”的声母。</td>\n",
       "    </tr>\n",
       "    <tr>\n",
       "      <th>11</th>\n",
       "      <td>h</td>\n",
       "      <td>前接成分</td>\n",
       "      <td>取英语 head的第1个字母。</td>\n",
       "    </tr>\n",
       "    <tr>\n",
       "      <th>12</th>\n",
       "      <td>i</td>\n",
       "      <td>成语</td>\n",
       "      <td>取英语成语 idiom的第1个字母。</td>\n",
       "    </tr>\n",
       "    <tr>\n",
       "      <th>13</th>\n",
       "      <td>j</td>\n",
       "      <td>简称略语</td>\n",
       "      <td>取汉字“简”的声母。</td>\n",
       "    </tr>\n",
       "    <tr>\n",
       "      <th>14</th>\n",
       "      <td>k</td>\n",
       "      <td>后接成分</td>\n",
       "      <td></td>\n",
       "    </tr>\n",
       "    <tr>\n",
       "      <th>15</th>\n",
       "      <td>l</td>\n",
       "      <td>习用语</td>\n",
       "      <td>习用语尚未成为成语，有点“临时性”，取“临”的声母。</td>\n",
       "    </tr>\n",
       "    <tr>\n",
       "      <th>16</th>\n",
       "      <td>m</td>\n",
       "      <td>数词</td>\n",
       "      <td>取英语 numeral的第3个字母，n，u已有他用。</td>\n",
       "    </tr>\n",
       "    <tr>\n",
       "      <th>17</th>\n",
       "      <td>Ng</td>\n",
       "      <td>名语素</td>\n",
       "      <td>名词性语素。名词代码为 n，语素代码ｇ前面置以N。</td>\n",
       "    </tr>\n",
       "    <tr>\n",
       "      <th>18</th>\n",
       "      <td>n</td>\n",
       "      <td>名词</td>\n",
       "      <td>取英语名词 noun的第1个字母。</td>\n",
       "    </tr>\n",
       "    <tr>\n",
       "      <th>19</th>\n",
       "      <td>nr</td>\n",
       "      <td>人名</td>\n",
       "      <td>名词代码 n和“人(ren)”的声母并在一起。</td>\n",
       "    </tr>\n",
       "    <tr>\n",
       "      <th>20</th>\n",
       "      <td>ns</td>\n",
       "      <td>地名</td>\n",
       "      <td>名词代码 n和处所词代码s并在一起。</td>\n",
       "    </tr>\n",
       "    <tr>\n",
       "      <th>21</th>\n",
       "      <td>nt</td>\n",
       "      <td>机构团体</td>\n",
       "      <td>“团”的声母为 t，名词代码n和t并在一起。</td>\n",
       "    </tr>\n",
       "    <tr>\n",
       "      <th>22</th>\n",
       "      <td>nz</td>\n",
       "      <td>其他专名</td>\n",
       "      <td>“专”的声母的第 1个字母为z，名词代码n和z并在一起。</td>\n",
       "    </tr>\n",
       "    <tr>\n",
       "      <th>23</th>\n",
       "      <td>o</td>\n",
       "      <td>拟声词</td>\n",
       "      <td>取英语拟声词 onomatopoeia的第1个字母。</td>\n",
       "    </tr>\n",
       "    <tr>\n",
       "      <th>24</th>\n",
       "      <td>p</td>\n",
       "      <td>介词</td>\n",
       "      <td>取英语介词 prepositional的第1个字母。</td>\n",
       "    </tr>\n",
       "    <tr>\n",
       "      <th>25</th>\n",
       "      <td>q</td>\n",
       "      <td>量词</td>\n",
       "      <td>取英语 quantity的第1个字母。</td>\n",
       "    </tr>\n",
       "    <tr>\n",
       "      <th>26</th>\n",
       "      <td>r</td>\n",
       "      <td>代词</td>\n",
       "      <td>取英语代词 pronoun的第2个字母,因p已用于介词。</td>\n",
       "    </tr>\n",
       "    <tr>\n",
       "      <th>27</th>\n",
       "      <td>s</td>\n",
       "      <td>处所词</td>\n",
       "      <td>取英语 space的第1个字母。</td>\n",
       "    </tr>\n",
       "    <tr>\n",
       "      <th>28</th>\n",
       "      <td>tg</td>\n",
       "      <td>时语素</td>\n",
       "      <td>时间词性语素。时间词代码为 t,在语素的代码g前面置以T。</td>\n",
       "    </tr>\n",
       "    <tr>\n",
       "      <th>29</th>\n",
       "      <td>t</td>\n",
       "      <td>时间词</td>\n",
       "      <td>取英语 time的第1个字母。</td>\n",
       "    </tr>\n",
       "    <tr>\n",
       "      <th>30</th>\n",
       "      <td>u</td>\n",
       "      <td>助词</td>\n",
       "      <td>取英语助词 auxiliary</td>\n",
       "    </tr>\n",
       "    <tr>\n",
       "      <th>31</th>\n",
       "      <td>vg</td>\n",
       "      <td>动语素</td>\n",
       "      <td>动词性语素。动词代码为 v。在语素的代码g前面置以V。</td>\n",
       "    </tr>\n",
       "    <tr>\n",
       "      <th>32</th>\n",
       "      <td>v</td>\n",
       "      <td>动词</td>\n",
       "      <td>取英语动词 verb的第一个字母</td>\n",
       "    </tr>\n",
       "    <tr>\n",
       "      <th>33</th>\n",
       "      <td>vd</td>\n",
       "      <td>副动词</td>\n",
       "      <td>直接作状语的动词。动词和副词的代码并在一起。</td>\n",
       "    </tr>\n",
       "    <tr>\n",
       "      <th>34</th>\n",
       "      <td>vn</td>\n",
       "      <td>名动词</td>\n",
       "      <td>指具有名词功能的动词。动词和名词的代码并在一起。</td>\n",
       "    </tr>\n",
       "    <tr>\n",
       "      <th>35</th>\n",
       "      <td>w</td>\n",
       "      <td>标点符号</td>\n",
       "      <td></td>\n",
       "    </tr>\n",
       "    <tr>\n",
       "      <th>36</th>\n",
       "      <td>x</td>\n",
       "      <td>非语素字</td>\n",
       "      <td>非语素字只是一个符号，字母 x通常用于代表未知数、符号。</td>\n",
       "    </tr>\n",
       "    <tr>\n",
       "      <th>37</th>\n",
       "      <td>y</td>\n",
       "      <td>语气词</td>\n",
       "      <td>取汉字“语”的声母。</td>\n",
       "    </tr>\n",
       "    <tr>\n",
       "      <th>38</th>\n",
       "      <td>z</td>\n",
       "      <td>状态词</td>\n",
       "      <td>取汉字“状”的声母的前一个字母</td>\n",
       "    </tr>\n",
       "    <tr>\n",
       "      <th>39</th>\n",
       "      <td>un</td>\n",
       "      <td>未知词</td>\n",
       "      <td>不可识别词及用户自定义词组。取英文Unkonwn首两个字母。(非北大标准，CSW分词中定义)</td>\n",
       "    </tr>\n",
       "  </tbody>\n",
       "</table>\n",
       "</div>"
      ],
      "text/plain": [
       "   词性编码  词性名称                                              注解\n",
       "0    Ag   形语素                     形容词性语素。形容词代码为 a，语素代码ｇ前面置以A。\n",
       "1     a   形成词                         取英语形容词 adjective的第1个字母。\n",
       "2    ad   副形词                    直接作状语的形容词。形容词代码 a和副词代码d并在一起。\n",
       "3    an   名形词                   具有名词功能的形容词。形容词代码 a和名词代码n并在一起。\n",
       "4     b   区别词                                      取汉字“别”的声母。\n",
       "5     c    连词                        取英语连词 conjunction的第1个字母。\n",
       "6    dg   副语素                       副词性语素。副词代码为 d，语素代码ｇ前面置以D。\n",
       "7     d    副词                   取 adverb的第2个字母，因其第1个字母已用于形容词。\n",
       "8     e    叹词                        取英语叹词 exclamation的第1个字母。\n",
       "9     f   方位词                                          取汉字“方”\n",
       "10    g    语素                   绝大多数语素都能作为合成词的“词根”，取汉字“根”的声母。\n",
       "11    h  前接成分                                 取英语 head的第1个字母。\n",
       "12    i    成语                              取英语成语 idiom的第1个字母。\n",
       "13    j  简称略语                                      取汉字“简”的声母。\n",
       "14    k  后接成分                                                \n",
       "15    l   习用语                      习用语尚未成为成语，有点“临时性”，取“临”的声母。\n",
       "16    m    数词                      取英语 numeral的第3个字母，n，u已有他用。\n",
       "17   Ng   名语素                       名词性语素。名词代码为 n，语素代码ｇ前面置以N。\n",
       "18    n    名词                               取英语名词 noun的第1个字母。\n",
       "19   nr    人名                         名词代码 n和“人(ren)”的声母并在一起。\n",
       "20   ns    地名                              名词代码 n和处所词代码s并在一起。\n",
       "21   nt  机构团体                          “团”的声母为 t，名词代码n和t并在一起。\n",
       "22   nz  其他专名                    “专”的声母的第 1个字母为z，名词代码n和z并在一起。\n",
       "23    o   拟声词                      取英语拟声词 onomatopoeia的第1个字母。\n",
       "24    p    介词                      取英语介词 prepositional的第1个字母。\n",
       "25    q    量词                             取英语 quantity的第1个字母。\n",
       "26    r    代词                    取英语代词 pronoun的第2个字母,因p已用于介词。\n",
       "27    s   处所词                                取英语 space的第1个字母。\n",
       "28   tg   时语素                   时间词性语素。时间词代码为 t,在语素的代码g前面置以T。\n",
       "29    t   时间词                                 取英语 time的第1个字母。\n",
       "30    u    助词                                 取英语助词 auxiliary\n",
       "31   vg   动语素                     动词性语素。动词代码为 v。在语素的代码g前面置以V。\n",
       "32    v    动词                                取英语动词 verb的第一个字母\n",
       "33   vd   副动词                          直接作状语的动词。动词和副词的代码并在一起。\n",
       "34   vn   名动词                        指具有名词功能的动词。动词和名词的代码并在一起。\n",
       "35    w  标点符号                                                \n",
       "36    x  非语素字                    非语素字只是一个符号，字母 x通常用于代表未知数、符号。\n",
       "37    y   语气词                                      取汉字“语”的声母。\n",
       "38    z   状态词                                 取汉字“状”的声母的前一个字母\n",
       "39   un   未知词  不可识别词及用户自定义词组。取英文Unkonwn首两个字母。(非北大标准，CSW分词中定义)"
      ]
     },
     "execution_count": 10,
     "metadata": {},
     "output_type": "execute_result"
    }
   ],
   "source": [
    "import sagas\n",
    "pos_expls='''Ag\t形语素\t形容词性语素。形容词代码为 a，语素代码ｇ前面置以A。\n",
    "a\t形成词\t取英语形容词 adjective的第1个字母。\n",
    "ad\t副形词\t直接作状语的形容词。形容词代码 a和副词代码d并在一起。\n",
    "an\t名形词\t具有名词功能的形容词。形容词代码 a和名词代码n并在一起。\n",
    "b\t区别词\t取汉字“别”的声母。\n",
    "c\t连词\t取英语连词 conjunction的第1个字母。\n",
    "dg\t副语素\t副词性语素。副词代码为 d，语素代码ｇ前面置以D。\n",
    "d\t副词\t取 adverb的第2个字母，因其第1个字母已用于形容词。\n",
    "e\t叹词\t取英语叹词 exclamation的第1个字母。\n",
    "f\t方位词\t取汉字“方”\n",
    "g\t语素\t绝大多数语素都能作为合成词的“词根”，取汉字“根”的声母。\n",
    "h\t前接成分\t取英语 head的第1个字母。\n",
    "i\t成语\t取英语成语 idiom的第1个字母。\n",
    "j\t简称略语\t取汉字“简”的声母。\n",
    "k\t后接成分\t\n",
    "l\t习用语\t习用语尚未成为成语，有点“临时性”，取“临”的声母。\n",
    "m\t数词\t取英语 numeral的第3个字母，n，u已有他用。\n",
    "Ng\t名语素\t名词性语素。名词代码为 n，语素代码ｇ前面置以N。\n",
    "n\t名词\t取英语名词 noun的第1个字母。\n",
    "nr\t人名\t名词代码 n和“人(ren)”的声母并在一起。\n",
    "ns\t地名\t名词代码 n和处所词代码s并在一起。\n",
    "nt\t机构团体\t“团”的声母为 t，名词代码n和t并在一起。\n",
    "nz\t其他专名\t“专”的声母的第 1个字母为z，名词代码n和z并在一起。\n",
    "o\t拟声词\t取英语拟声词 onomatopoeia的第1个字母。\n",
    "p\t介词\t取英语介词 prepositional的第1个字母。\n",
    "q\t量词\t取英语 quantity的第1个字母。\n",
    "r\t代词\t取英语代词 pronoun的第2个字母,因p已用于介词。\n",
    "s\t处所词\t取英语 space的第1个字母。\n",
    "tg\t时语素\t时间词性语素。时间词代码为 t,在语素的代码g前面置以T。\n",
    "t\t时间词\t取英语 time的第1个字母。\n",
    "u\t助词\t取英语助词 auxiliary\n",
    "vg\t动语素\t动词性语素。动词代码为 v。在语素的代码g前面置以V。\n",
    "v\t动词\t取英语动词 verb的第一个字母\n",
    "vd\t副动词\t直接作状语的动词。动词和副词的代码并在一起。\n",
    "vn\t名动词\t指具有名词功能的动词。动词和名词的代码并在一起。\n",
    "w\t标点符号\t\n",
    "x\t非语素字\t非语素字只是一个符号，字母 x通常用于代表未知数、符号。\n",
    "y\t语气词\t取汉字“语”的声母。\n",
    "z\t状态词\t取汉字“状”的声母的前一个字母\n",
    "un\t未知词\t不可识别词及用户自定义词组。取英文Unkonwn首两个字母。(非北大标准，CSW分词中定义)'''.split('\\n')\n",
    "df=sagas.to_df([l.split('\\t') for l in pos_expls], '词性编码\t词性名称\t注解'.split('\\t'))\n",
    "df"
   ]
  },
  {
   "cell_type": "code",
   "execution_count": 14,
   "metadata": {
    "ExecuteTime": {
     "end_time": "2019-09-01T06:42:11.221771Z",
     "start_time": "2019-09-01T06:42:11.207242Z"
    }
   },
   "outputs": [
    {
     "data": {
      "text/plain": [
       "[{'注解': '形容词性语素。形容词代码为 a，语素代码ｇ前面置以A。', '词性名称': '形语素', '词性编码': 'Ag'},\n",
       " {'注解': '取英语形容词 adjective的第1个字母。', '词性名称': '形成词', '词性编码': 'a'},\n",
       " {'注解': '直接作状语的形容词。形容词代码 a和副词代码d并在一起。', '词性名称': '副形词', '词性编码': 'ad'},\n",
       " {'注解': '具有名词功能的形容词。形容词代码 a和名词代码n并在一起。', '词性名称': '名形词', '词性编码': 'an'},\n",
       " {'注解': '取汉字“别”的声母。', '词性名称': '区别词', '词性编码': 'b'},\n",
       " {'注解': '取英语连词 conjunction的第1个字母。', '词性名称': '连词', '词性编码': 'c'},\n",
       " {'注解': '副词性语素。副词代码为 d，语素代码ｇ前面置以D。', '词性名称': '副语素', '词性编码': 'dg'},\n",
       " {'注解': '取 adverb的第2个字母，因其第1个字母已用于形容词。', '词性名称': '副词', '词性编码': 'd'},\n",
       " {'注解': '取英语叹词 exclamation的第1个字母。', '词性名称': '叹词', '词性编码': 'e'},\n",
       " {'注解': '取汉字“方”', '词性名称': '方位词', '词性编码': 'f'},\n",
       " {'注解': '绝大多数语素都能作为合成词的“词根”，取汉字“根”的声母。', '词性名称': '语素', '词性编码': 'g'},\n",
       " {'注解': '取英语 head的第1个字母。', '词性名称': '前接成分', '词性编码': 'h'},\n",
       " {'注解': '取英语成语 idiom的第1个字母。', '词性名称': '成语', '词性编码': 'i'},\n",
       " {'注解': '取汉字“简”的声母。', '词性名称': '简称略语', '词性编码': 'j'},\n",
       " {'注解': '', '词性名称': '后接成分', '词性编码': 'k'},\n",
       " {'注解': '习用语尚未成为成语，有点“临时性”，取“临”的声母。', '词性名称': '习用语', '词性编码': 'l'},\n",
       " {'注解': '取英语 numeral的第3个字母，n，u已有他用。', '词性名称': '数词', '词性编码': 'm'},\n",
       " {'注解': '名词性语素。名词代码为 n，语素代码ｇ前面置以N。', '词性名称': '名语素', '词性编码': 'Ng'},\n",
       " {'注解': '取英语名词 noun的第1个字母。', '词性名称': '名词', '词性编码': 'n'},\n",
       " {'注解': '名词代码 n和“人(ren)”的声母并在一起。', '词性名称': '人名', '词性编码': 'nr'},\n",
       " {'注解': '名词代码 n和处所词代码s并在一起。', '词性名称': '地名', '词性编码': 'ns'},\n",
       " {'注解': '“团”的声母为 t，名词代码n和t并在一起。', '词性名称': '机构团体', '词性编码': 'nt'},\n",
       " {'注解': '“专”的声母的第 1个字母为z，名词代码n和z并在一起。', '词性名称': '其他专名', '词性编码': 'nz'},\n",
       " {'注解': '取英语拟声词 onomatopoeia的第1个字母。', '词性名称': '拟声词', '词性编码': 'o'},\n",
       " {'注解': '取英语介词 prepositional的第1个字母。', '词性名称': '介词', '词性编码': 'p'},\n",
       " {'注解': '取英语 quantity的第1个字母。', '词性名称': '量词', '词性编码': 'q'},\n",
       " {'注解': '取英语代词 pronoun的第2个字母,因p已用于介词。', '词性名称': '代词', '词性编码': 'r'},\n",
       " {'注解': '取英语 space的第1个字母。', '词性名称': '处所词', '词性编码': 's'},\n",
       " {'注解': '时间词性语素。时间词代码为 t,在语素的代码g前面置以T。', '词性名称': '时语素', '词性编码': 'tg'},\n",
       " {'注解': '取英语 time的第1个字母。', '词性名称': '时间词', '词性编码': 't'},\n",
       " {'注解': '取英语助词 auxiliary', '词性名称': '助词', '词性编码': 'u'},\n",
       " {'注解': '动词性语素。动词代码为 v。在语素的代码g前面置以V。', '词性名称': '动语素', '词性编码': 'vg'},\n",
       " {'注解': '取英语动词 verb的第一个字母', '词性名称': '动词', '词性编码': 'v'},\n",
       " {'注解': '直接作状语的动词。动词和副词的代码并在一起。', '词性名称': '副动词', '词性编码': 'vd'},\n",
       " {'注解': '指具有名词功能的动词。动词和名词的代码并在一起。', '词性名称': '名动词', '词性编码': 'vn'},\n",
       " {'注解': '', '词性名称': '标点符号', '词性编码': 'w'},\n",
       " {'注解': '非语素字只是一个符号，字母 x通常用于代表未知数、符号。', '词性名称': '非语素字', '词性编码': 'x'},\n",
       " {'注解': '取汉字“语”的声母。', '词性名称': '语气词', '词性编码': 'y'},\n",
       " {'注解': '取汉字“状”的声母的前一个字母', '词性名称': '状态词', '词性编码': 'z'},\n",
       " {'注解': '不可识别词及用户自定义词组。取英文Unkonwn首两个字母。(非北大标准，CSW分词中定义)',\n",
       "  '词性名称': '未知词',\n",
       "  '词性编码': 'un'}]"
      ]
     },
     "execution_count": 14,
     "metadata": {},
     "output_type": "execute_result"
    }
   ],
   "source": [
    "import json\n",
    "expls=df.to_json(orient='records')\n",
    "json.loads(expls)"
   ]
  },
  {
   "cell_type": "code",
   "execution_count": 18,
   "metadata": {
    "ExecuteTime": {
     "end_time": "2019-09-01T06:53:43.085666Z",
     "start_time": "2019-09-01T06:53:43.070343Z"
    }
   },
   "outputs": [
    {
     "name": "stdout",
     "output_type": "stream",
     "text": [
      "word 永和\t\t start: 0 \t\t end:2\n",
      "word 服装\t\t start: 2 \t\t end:4\n",
      "word 饰品\t\t start: 4 \t\t end:6\n",
      "word 有限\t\t start: 6 \t\t end:8\n",
      "word 公司\t\t start: 8 \t\t end:10\n",
      "word 有限公司\t\t start: 6 \t\t end:10\n"
     ]
    }
   ],
   "source": [
    "result = jieba.tokenize('永和服装饰品有限公司', mode='search')\n",
    "for tk in result:\n",
    "    print(\"word %s\\t\\t start: %d \\t\\t end:%d\" % (tk[0],tk[1],tk[2]))"
   ]
  }
 ],
 "metadata": {
  "kernelspec": {
   "display_name": "Python 3",
   "language": "python",
   "name": "python3"
  },
  "language_info": {
   "codemirror_mode": {
    "name": "ipython",
    "version": 3
   },
   "file_extension": ".py",
   "mimetype": "text/x-python",
   "name": "python",
   "nbconvert_exporter": "python",
   "pygments_lexer": "ipython3",
   "version": "3.6.9"
  },
  "varInspector": {
   "cols": {
    "lenName": 16,
    "lenType": 16,
    "lenVar": 40
   },
   "kernels_config": {
    "python": {
     "delete_cmd_postfix": "",
     "delete_cmd_prefix": "del ",
     "library": "var_list.py",
     "varRefreshCmd": "print(var_dic_list())"
    },
    "r": {
     "delete_cmd_postfix": ") ",
     "delete_cmd_prefix": "rm(",
     "library": "var_list.r",
     "varRefreshCmd": "cat(var_dic_list()) "
    }
   },
   "types_to_exclude": [
    "module",
    "function",
    "builtin_function_or_method",
    "instance",
    "_Feature"
   ],
   "window_display": false
  }
 },
 "nbformat": 4,
 "nbformat_minor": 2
}
