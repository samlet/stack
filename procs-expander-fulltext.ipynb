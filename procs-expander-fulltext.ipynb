{
 "cells": [
  {
   "cell_type": "code",
   "execution_count": 1,
   "metadata": {
    "ExecuteTime": {
     "end_time": "2019-08-22T08:29:23.320767Z",
     "start_time": "2019-08-22T08:29:21.700590Z"
    }
   },
   "outputs": [
    {
     "name": "stdout",
     "output_type": "stream",
     "text": [
      "{'createdStamp': '2019-03-03T22:33:37.435000', 'productName': 'Square Gizmo', 'createdByUserLogin': 'admin', 'productId': 'GZ-2002', 'smallImageUrl': '/images/products/GZ-2002/small.png', 'taxable': 'Y', 'primaryProductCategoryId': '101', 'createdTxStamp': '2019-03-03T22:33:34.232000', 'lastUpdatedTxStamp': '2019-03-03T22:33:54.833000', 'isVirtual': 'N', 'autoCreateKeywords': 'Y', 'description': 'A square gizmo', 'chargeShipping': 'Y', 'internalName': 'Square Gizmo', 'lastModifiedByUserLogin': 'admin', 'lastUpdatedStamp': '2019-03-03T22:33:54.941000', 'lastModifiedDate': '2001-05-13T12:00:00', 'productTypeId': 'FINISHED_GOOD', 'createdDate': '2001-05-13T12:00:00', 'isVariant': 'N', 'largeImageUrl': '/images/products/GZ-2002/large.png'}\n"
     ]
    }
   ],
   "source": [
    "import sagas.ofbiz.entities as ee\n",
    "ent=ee.entity('Product')\n",
    "val=ent.record('GZ-2002')\n",
    "print(ent.to_json(val,True))"
   ]
  },
  {
   "cell_type": "code",
   "execution_count": 3,
   "metadata": {
    "ExecuteTime": {
     "end_time": "2019-08-22T08:30:04.950805Z",
     "start_time": "2019-08-22T08:30:04.850533Z"
    }
   },
   "outputs": [
    {
     "name": "stdout",
     "output_type": "stream",
     "text": [
      "AGGREGATED\n",
      "AGGREGATEDSERV_CONF\n",
      "AGGREGATED_CONF\n",
      "AGGREGATED_SERVICE\n",
      "ASSET_USAGE\n",
      "ASSET_USAGE_OUT_IN\n",
      "DIGITAL_GOOD\n",
      "FINDIG_GOOD\n",
      "FINISHED_GOOD\n",
      "GOOD\n",
      "MARKETING_PKG\n",
      "MARKETING_PKG_AUTO\n",
      "MARKETING_PKG_PICK\n",
      "RAW_MATERIAL\n",
      "SERVICE\n",
      "SERVICE_PRODUCT\n",
      "SUBASSEMBLY\n",
      "Test_type\n",
      "Test_type_11\n",
      "Test_type_111\n",
      "Test_type_112\n",
      "Test_type_113\n",
      "Test_type_114\n",
      "WIP\n"
     ]
    }
   ],
   "source": [
    "for p in ee.OfEntity().allProductType():\n",
    "    print(p['productTypeId'])"
   ]
  },
  {
   "cell_type": "code",
   "execution_count": 6,
   "metadata": {
    "ExecuteTime": {
     "end_time": "2019-08-22T08:32:51.389957Z",
     "start_time": "2019-08-22T08:32:51.199194Z"
    }
   },
   "outputs": [
    {
     "data": {
      "text/html": [
       "<div>\n",
       "<style scoped>\n",
       "    .dataframe tbody tr th:only-of-type {\n",
       "        vertical-align: middle;\n",
       "    }\n",
       "\n",
       "    .dataframe tbody tr th {\n",
       "        vertical-align: top;\n",
       "    }\n",
       "\n",
       "    .dataframe thead th {\n",
       "        text-align: right;\n",
       "    }\n",
       "</style>\n",
       "<table border=\"1\" class=\"dataframe\">\n",
       "  <thead>\n",
       "    <tr style=\"text-align: right;\">\n",
       "      <th></th>\n",
       "      <th>countryGeoId</th>\n",
       "      <th>lastUpdatedStamp</th>\n",
       "      <th>city</th>\n",
       "      <th>address1</th>\n",
       "      <th>createdTxStamp</th>\n",
       "      <th>postalCode</th>\n",
       "      <th>createdStamp</th>\n",
       "      <th>lastUpdatedTxStamp</th>\n",
       "      <th>contactMechId</th>\n",
       "      <th>attnName</th>\n",
       "      <th>toName</th>\n",
       "      <th>stateProvinceGeoId</th>\n",
       "      <th>geoPointId</th>\n",
       "    </tr>\n",
       "  </thead>\n",
       "  <tbody>\n",
       "    <tr>\n",
       "      <th>0</th>\n",
       "      <td>USA</td>\n",
       "      <td>2019-03-03 22:33:31.319</td>\n",
       "      <td>Open City</td>\n",
       "      <td>2003 Open Blvd</td>\n",
       "      <td>2019-03-03 22:33:30.670</td>\n",
       "      <td>999999</td>\n",
       "      <td>2019-03-03 22:33:31.319</td>\n",
       "      <td>2019-03-03 22:33:30.670</td>\n",
       "      <td>9000</td>\n",
       "      <td>None</td>\n",
       "      <td>Company XYZ</td>\n",
       "      <td>CA</td>\n",
       "      <td>9000</td>\n",
       "    </tr>\n",
       "    <tr>\n",
       "      <th>1</th>\n",
       "      <td>USA</td>\n",
       "      <td>2019-03-03 22:33:28.459</td>\n",
       "      <td>City of Industry</td>\n",
       "      <td>2004 Factory Blvd</td>\n",
       "      <td>2019-03-03 22:33:28.298</td>\n",
       "      <td>90000</td>\n",
       "      <td>2019-03-03 22:33:28.459</td>\n",
       "      <td>2019-03-03 22:33:28.298</td>\n",
       "      <td>9001</td>\n",
       "      <td>None</td>\n",
       "      <td>Demo Supplier Company</td>\n",
       "      <td>CA</td>\n",
       "      <td>None</td>\n",
       "    </tr>\n",
       "    <tr>\n",
       "      <th>2</th>\n",
       "      <td>USA</td>\n",
       "      <td>2019-03-03 22:33:55.277</td>\n",
       "      <td>New York</td>\n",
       "      <td>2005 Industrial Park Blvd</td>\n",
       "      <td>2019-03-03 22:33:55.263</td>\n",
       "      <td>10000</td>\n",
       "      <td>2019-03-03 22:33:55.277</td>\n",
       "      <td>2019-03-03 22:33:55.263</td>\n",
       "      <td>9002</td>\n",
       "      <td>None</td>\n",
       "      <td>Big Supplier Company</td>\n",
       "      <td>NY</td>\n",
       "      <td>None</td>\n",
       "    </tr>\n",
       "    <tr>\n",
       "      <th>3</th>\n",
       "      <td>FRA</td>\n",
       "      <td>2019-03-03 22:33:55.295</td>\n",
       "      <td>Roissy</td>\n",
       "      <td>2005 Boulevard Industrie</td>\n",
       "      <td>2019-03-03 22:33:55.263</td>\n",
       "      <td>95700</td>\n",
       "      <td>2019-03-03 22:33:55.295</td>\n",
       "      <td>2019-03-03 22:33:55.263</td>\n",
       "      <td>9003</td>\n",
       "      <td>None</td>\n",
       "      <td>Euro Supplier Company</td>\n",
       "      <td>None</td>\n",
       "      <td>None</td>\n",
       "    </tr>\n",
       "    <tr>\n",
       "      <th>4</th>\n",
       "      <td>USA</td>\n",
       "      <td>2019-03-03 22:33:48.426</td>\n",
       "      <td>Orem</td>\n",
       "      <td>2004 Factory Blvd</td>\n",
       "      <td>2019-03-03 22:33:34.232</td>\n",
       "      <td>84057</td>\n",
       "      <td>2019-03-03 22:33:48.426</td>\n",
       "      <td>2019-03-03 22:33:34.232</td>\n",
       "      <td>9010</td>\n",
       "      <td>None</td>\n",
       "      <td>Demo Customer Company</td>\n",
       "      <td>UT</td>\n",
       "      <td>9000</td>\n",
       "    </tr>\n",
       "    <tr>\n",
       "      <th>5</th>\n",
       "      <td>USA</td>\n",
       "      <td>2019-03-03 22:33:48.477</td>\n",
       "      <td>Orem</td>\n",
       "      <td>2004 Factory Blvd</td>\n",
       "      <td>2019-03-03 22:33:34.232</td>\n",
       "      <td>84057</td>\n",
       "      <td>2019-03-03 22:33:48.477</td>\n",
       "      <td>2019-03-03 22:33:34.232</td>\n",
       "      <td>9011</td>\n",
       "      <td>None</td>\n",
       "      <td>Demo Customer Agent</td>\n",
       "      <td>UT</td>\n",
       "      <td>9000</td>\n",
       "    </tr>\n",
       "    <tr>\n",
       "      <th>6</th>\n",
       "      <td>USA</td>\n",
       "      <td>2019-03-03 22:33:48.439</td>\n",
       "      <td>Los Angeles</td>\n",
       "      <td>1234 Commerce Way</td>\n",
       "      <td>2019-03-03 22:33:34.232</td>\n",
       "      <td>90010</td>\n",
       "      <td>2019-03-03 22:33:48.439</td>\n",
       "      <td>2019-03-03 22:33:34.232</td>\n",
       "      <td>9014</td>\n",
       "      <td>None</td>\n",
       "      <td>Demo Customer Company</td>\n",
       "      <td>CA</td>\n",
       "      <td>None</td>\n",
       "    </tr>\n",
       "    <tr>\n",
       "      <th>7</th>\n",
       "      <td>USA</td>\n",
       "      <td>2019-03-03 22:33:48.510</td>\n",
       "      <td>Orem</td>\n",
       "      <td>2004 Factory Blvd</td>\n",
       "      <td>2019-03-03 22:33:34.232</td>\n",
       "      <td>84057</td>\n",
       "      <td>2019-03-03 22:33:48.510</td>\n",
       "      <td>2019-03-03 22:33:34.232</td>\n",
       "      <td>9015</td>\n",
       "      <td>None</td>\n",
       "      <td>Demo Customer</td>\n",
       "      <td>UT</td>\n",
       "      <td>9000</td>\n",
       "    </tr>\n",
       "    <tr>\n",
       "      <th>8</th>\n",
       "      <td>USA</td>\n",
       "      <td>2019-03-03 22:33:34.635</td>\n",
       "      <td>Orem</td>\n",
       "      <td>2003 Open Blvd</td>\n",
       "      <td>2019-03-03 22:33:34.232</td>\n",
       "      <td>84058</td>\n",
       "      <td>2019-03-03 22:33:34.635</td>\n",
       "      <td>2019-03-03 22:33:34.232</td>\n",
       "      <td>9200</td>\n",
       "      <td>ZJAA</td>\n",
       "      <td>Company XYZ</td>\n",
       "      <td>UT</td>\n",
       "      <td>9000</td>\n",
       "    </tr>\n",
       "    <tr>\n",
       "      <th>9</th>\n",
       "      <td>USA</td>\n",
       "      <td>2019-03-03 22:33:31.999</td>\n",
       "      <td>Sacramento</td>\n",
       "      <td>P O BOX 942879</td>\n",
       "      <td>2019-03-03 22:33:30.670</td>\n",
       "      <td>94279</td>\n",
       "      <td>2019-03-03 22:33:31.999</td>\n",
       "      <td>2019-03-03 22:33:30.670</td>\n",
       "      <td>CA_BOE_0</td>\n",
       "      <td>None</td>\n",
       "      <td>Board of Equalization</td>\n",
       "      <td>CA</td>\n",
       "      <td>None</td>\n",
       "    </tr>\n",
       "  </tbody>\n",
       "</table>\n",
       "</div>"
      ],
      "text/plain": [
       "  countryGeoId        lastUpdatedStamp              city  \\\n",
       "0          USA 2019-03-03 22:33:31.319         Open City   \n",
       "1          USA 2019-03-03 22:33:28.459  City of Industry   \n",
       "2          USA 2019-03-03 22:33:55.277          New York   \n",
       "3          FRA 2019-03-03 22:33:55.295            Roissy   \n",
       "4          USA 2019-03-03 22:33:48.426              Orem   \n",
       "5          USA 2019-03-03 22:33:48.477              Orem   \n",
       "6          USA 2019-03-03 22:33:48.439       Los Angeles   \n",
       "7          USA 2019-03-03 22:33:48.510              Orem   \n",
       "8          USA 2019-03-03 22:33:34.635              Orem   \n",
       "9          USA 2019-03-03 22:33:31.999        Sacramento   \n",
       "\n",
       "                    address1          createdTxStamp postalCode  \\\n",
       "0             2003 Open Blvd 2019-03-03 22:33:30.670     999999   \n",
       "1          2004 Factory Blvd 2019-03-03 22:33:28.298      90000   \n",
       "2  2005 Industrial Park Blvd 2019-03-03 22:33:55.263      10000   \n",
       "3   2005 Boulevard Industrie 2019-03-03 22:33:55.263      95700   \n",
       "4          2004 Factory Blvd 2019-03-03 22:33:34.232      84057   \n",
       "5          2004 Factory Blvd 2019-03-03 22:33:34.232      84057   \n",
       "6          1234 Commerce Way 2019-03-03 22:33:34.232      90010   \n",
       "7          2004 Factory Blvd 2019-03-03 22:33:34.232      84057   \n",
       "8             2003 Open Blvd 2019-03-03 22:33:34.232      84058   \n",
       "9             P O BOX 942879 2019-03-03 22:33:30.670      94279   \n",
       "\n",
       "             createdStamp      lastUpdatedTxStamp contactMechId attnName  \\\n",
       "0 2019-03-03 22:33:31.319 2019-03-03 22:33:30.670          9000     None   \n",
       "1 2019-03-03 22:33:28.459 2019-03-03 22:33:28.298          9001     None   \n",
       "2 2019-03-03 22:33:55.277 2019-03-03 22:33:55.263          9002     None   \n",
       "3 2019-03-03 22:33:55.295 2019-03-03 22:33:55.263          9003     None   \n",
       "4 2019-03-03 22:33:48.426 2019-03-03 22:33:34.232          9010     None   \n",
       "5 2019-03-03 22:33:48.477 2019-03-03 22:33:34.232          9011     None   \n",
       "6 2019-03-03 22:33:48.439 2019-03-03 22:33:34.232          9014     None   \n",
       "7 2019-03-03 22:33:48.510 2019-03-03 22:33:34.232          9015     None   \n",
       "8 2019-03-03 22:33:34.635 2019-03-03 22:33:34.232          9200     ZJAA   \n",
       "9 2019-03-03 22:33:31.999 2019-03-03 22:33:30.670      CA_BOE_0     None   \n",
       "\n",
       "                  toName stateProvinceGeoId geoPointId  \n",
       "0            Company XYZ                 CA       9000  \n",
       "1  Demo Supplier Company                 CA       None  \n",
       "2   Big Supplier Company                 NY       None  \n",
       "3  Euro Supplier Company               None       None  \n",
       "4  Demo Customer Company                 UT       9000  \n",
       "5    Demo Customer Agent                 UT       9000  \n",
       "6  Demo Customer Company                 CA       None  \n",
       "7          Demo Customer                 UT       9000  \n",
       "8            Company XYZ                 UT       9000  \n",
       "9  Board of Equalization                 CA       None  "
      ]
     },
     "execution_count": 6,
     "metadata": {},
     "output_type": "execute_result"
    }
   ],
   "source": [
    "from sagas.ofbiz.entities import OfEntity as e\n",
    "e('df').listPostalAddress()"
   ]
  },
  {
   "cell_type": "code",
   "execution_count": 10,
   "metadata": {
    "ExecuteTime": {
     "end_time": "2019-08-22T08:36:47.284738Z",
     "start_time": "2019-08-22T08:36:47.249059Z"
    }
   },
   "outputs": [
    {
     "data": {
      "text/plain": [
       "[{'address1': '2003 Open Blvd',\n",
       "  'address2': None,\n",
       "  'attnName': None,\n",
       "  'city': 'Open City',\n",
       "  'cityGeoId': None,\n",
       "  'contactMechId': '9000',\n",
       "  'countryGeoId': 'USA',\n",
       "  'countyGeoId': None,\n",
       "  'createdStamp': 1551623611319,\n",
       "  'createdTxStamp': 1551623610670,\n",
       "  'directions': None,\n",
       "  'geoPointId': '9000',\n",
       "  'houseNumber': None,\n",
       "  'houseNumberExt': None,\n",
       "  'lastUpdatedStamp': 1551623611319,\n",
       "  'lastUpdatedTxStamp': 1551623610670,\n",
       "  'municipalityGeoId': None,\n",
       "  'postalCode': '999999',\n",
       "  'postalCodeExt': None,\n",
       "  'postalCodeGeoId': None,\n",
       "  'stateProvinceGeoId': 'CA',\n",
       "  'toName': 'Company XYZ'},\n",
       " {'address1': '2004 Factory Blvd',\n",
       "  'address2': None,\n",
       "  'attnName': None,\n",
       "  'city': 'City of Industry',\n",
       "  'cityGeoId': None,\n",
       "  'contactMechId': '9001',\n",
       "  'countryGeoId': 'USA',\n",
       "  'countyGeoId': None,\n",
       "  'createdStamp': 1551623608459,\n",
       "  'createdTxStamp': 1551623608298,\n",
       "  'directions': None,\n",
       "  'geoPointId': None,\n",
       "  'houseNumber': None,\n",
       "  'houseNumberExt': None,\n",
       "  'lastUpdatedStamp': 1551623608459,\n",
       "  'lastUpdatedTxStamp': 1551623608298,\n",
       "  'municipalityGeoId': None,\n",
       "  'postalCode': '90000',\n",
       "  'postalCodeExt': None,\n",
       "  'postalCodeGeoId': None,\n",
       "  'stateProvinceGeoId': 'CA',\n",
       "  'toName': 'Demo Supplier Company'}]"
      ]
     },
     "execution_count": 10,
     "metadata": {},
     "output_type": "execute_result"
    }
   ],
   "source": [
    "rs=e('json').listPostalAddress(_limit=2)\n",
    "json.loads(rs)"
   ]
  },
  {
   "cell_type": "code",
   "execution_count": 17,
   "metadata": {
    "ExecuteTime": {
     "end_time": "2019-08-22T08:53:31.804940Z",
     "start_time": "2019-08-22T08:53:31.721278Z"
    }
   },
   "outputs": [
    {
     "data": {
      "text/plain": [
       "['999999 ; 2003 Open Blvd ; Open City ; Company XYZ',\n",
       " '90000 ; 2004 Factory Blvd ; City of Industry ; Demo Supplier Company',\n",
       " '10000 ; 2005 Industrial Park Blvd ; New York ; Big Supplier Company',\n",
       " '95700 ; 2005 Boulevard Industrie ; Roissy ; Euro Supplier Company',\n",
       " '84057 ; 2004 Factory Blvd ; Orem ; Demo Customer Company',\n",
       " '84057 ; 2004 Factory Blvd ; Orem ; Demo Customer Agent',\n",
       " '90010 ; 1234 Commerce Way ; Los Angeles ; Demo Customer Company',\n",
       " '84057 ; 2004 Factory Blvd ; Orem ; Demo Customer',\n",
       " '84058 ; 2003 Open Blvd ; Orem ; Company XYZ',\n",
       " '94279 ; P O BOX 942879 ; Sacramento ; Board of Equalization',\n",
       " '1000BD ; Prinsengracht 3 ; Amsterdam ; Euro Customer',\n",
       " '34560 ; 400 E Chemin de la Mouline ; Poussan ; French Customer',\n",
       " '11016 ; JAF Building ; PO BOX 1205 ; New York ; NYS Sales Tax Processing',\n",
       " '32451 ; 151 Madison street. ; Edison']"
      ]
     },
     "execution_count": 17,
     "metadata": {},
     "output_type": "execute_result"
    }
   ],
   "source": [
    "def addr(rec, fields):\n",
    "    rs=[]\n",
    "    for f in fields:\n",
    "        if f in rec and rec[f] is not None:\n",
    "            rs.append(rec[f])\n",
    "    return ' ; '.join(rs)\n",
    "\n",
    "rs=e('json').listPostalAddress(_limit=20)\n",
    "[addr(r, ['postalCode', 'address1', 'address2', 'city', 'toName']) for r in json.loads(rs)]"
   ]
  },
  {
   "cell_type": "code",
   "execution_count": 24,
   "metadata": {
    "ExecuteTime": {
     "end_time": "2019-08-22T09:05:10.673506Z",
     "start_time": "2019-08-22T09:05:10.663255Z"
    }
   },
   "outputs": [],
   "source": [
    "def get_addresses(limit=20):\n",
    "    rs=e('json').listPostalAddress(_limit=limit)\n",
    "    return [(r['toName'], r, addr(r, ['postalCode', 'address1', 'address2', 'city', 'toName'])) for r in json.loads(rs)]"
   ]
  },
  {
   "cell_type": "code",
   "execution_count": 25,
   "metadata": {
    "ExecuteTime": {
     "end_time": "2019-08-22T09:05:17.444217Z",
     "start_time": "2019-08-22T09:05:17.368027Z"
    }
   },
   "outputs": [
    {
     "ename": "LockError",
     "evalue": "",
     "output_type": "error",
     "traceback": [
      "\u001b[0;31m---------------------------------------------------------------------------\u001b[0m",
      "\u001b[0;31mLockError\u001b[0m                                 Traceback (most recent call last)",
      "\u001b[0;32m<ipython-input-25-f3e1e267313a>\u001b[0m in \u001b[0;36m<module>\u001b[0;34m()\u001b[0m\n\u001b[1;32m      4\u001b[0m \u001b[0mschema\u001b[0m \u001b[0;34m=\u001b[0m \u001b[0mSchema\u001b[0m\u001b[0;34m(\u001b[0m\u001b[0mtitle\u001b[0m\u001b[0;34m=\u001b[0m\u001b[0mTEXT\u001b[0m\u001b[0;34m(\u001b[0m\u001b[0mstored\u001b[0m\u001b[0;34m=\u001b[0m\u001b[0;32mTrue\u001b[0m\u001b[0;34m)\u001b[0m\u001b[0;34m,\u001b[0m \u001b[0mcontent\u001b[0m\u001b[0;34m=\u001b[0m\u001b[0mTEXT\u001b[0m\u001b[0;34m(\u001b[0m\u001b[0mstored\u001b[0m\u001b[0;34m=\u001b[0m\u001b[0;32mTrue\u001b[0m\u001b[0;34m)\u001b[0m\u001b[0;34m,\u001b[0m \u001b[0mref\u001b[0m\u001b[0;34m=\u001b[0m\u001b[0mSTORED\u001b[0m\u001b[0;34m)\u001b[0m\u001b[0;34m\u001b[0m\u001b[0m\n\u001b[1;32m      5\u001b[0m \u001b[0mix\u001b[0m \u001b[0;34m=\u001b[0m \u001b[0mcreate_in\u001b[0m\u001b[0;34m(\u001b[0m\u001b[0mindex_dir\u001b[0m\u001b[0;34m,\u001b[0m \u001b[0mschema\u001b[0m\u001b[0;34m)\u001b[0m\u001b[0;34m\u001b[0m\u001b[0m\n\u001b[0;32m----> 6\u001b[0;31m \u001b[0mwriter\u001b[0m \u001b[0;34m=\u001b[0m \u001b[0mix\u001b[0m\u001b[0;34m.\u001b[0m\u001b[0mwriter\u001b[0m\u001b[0;34m(\u001b[0m\u001b[0;34m)\u001b[0m\u001b[0;34m\u001b[0m\u001b[0m\n\u001b[0m\u001b[1;32m      7\u001b[0m \u001b[0;34m\u001b[0m\u001b[0m\n\u001b[1;32m      8\u001b[0m \u001b[0;32mfor\u001b[0m \u001b[0maddr\u001b[0m \u001b[0;32min\u001b[0m \u001b[0mget_addresses\u001b[0m\u001b[0;34m(\u001b[0m\u001b[0;34m)\u001b[0m\u001b[0;34m:\u001b[0m\u001b[0;34m\u001b[0m\u001b[0m\n",
      "\u001b[0;32m~/miniconda3/envs/bigdata/lib/python3.6/site-packages/whoosh/index.py\u001b[0m in \u001b[0;36mwriter\u001b[0;34m(self, procs, **kwargs)\u001b[0m\n\u001b[1;32m    462\u001b[0m         \u001b[0;32melse\u001b[0m\u001b[0;34m:\u001b[0m\u001b[0;34m\u001b[0m\u001b[0m\n\u001b[1;32m    463\u001b[0m             \u001b[0;32mfrom\u001b[0m \u001b[0mwhoosh\u001b[0m\u001b[0;34m.\u001b[0m\u001b[0mwriting\u001b[0m \u001b[0;32mimport\u001b[0m \u001b[0mSegmentWriter\u001b[0m\u001b[0;34m\u001b[0m\u001b[0m\n\u001b[0;32m--> 464\u001b[0;31m             \u001b[0;32mreturn\u001b[0m \u001b[0mSegmentWriter\u001b[0m\u001b[0;34m(\u001b[0m\u001b[0mself\u001b[0m\u001b[0;34m,\u001b[0m \u001b[0;34m**\u001b[0m\u001b[0mkwargs\u001b[0m\u001b[0;34m)\u001b[0m\u001b[0;34m\u001b[0m\u001b[0m\n\u001b[0m\u001b[1;32m    465\u001b[0m \u001b[0;34m\u001b[0m\u001b[0m\n\u001b[1;32m    466\u001b[0m     \u001b[0;32mdef\u001b[0m \u001b[0mlock\u001b[0m\u001b[0;34m(\u001b[0m\u001b[0mself\u001b[0m\u001b[0;34m,\u001b[0m \u001b[0mname\u001b[0m\u001b[0;34m)\u001b[0m\u001b[0;34m:\u001b[0m\u001b[0;34m\u001b[0m\u001b[0m\n",
      "\u001b[0;32m~/miniconda3/envs/bigdata/lib/python3.6/site-packages/whoosh/writing.py\u001b[0m in \u001b[0;36m__init__\u001b[0;34m(self, ix, poolclass, timeout, delay, _lk, limitmb, docbase, codec, compound, **kwargs)\u001b[0m\n\u001b[1;32m    513\u001b[0m             if not try_for(self.writelock.acquire, timeout=timeout,\n\u001b[1;32m    514\u001b[0m                            delay=delay):\n\u001b[0;32m--> 515\u001b[0;31m                 \u001b[0;32mraise\u001b[0m \u001b[0mLockError\u001b[0m\u001b[0;34m\u001b[0m\u001b[0m\n\u001b[0m\u001b[1;32m    516\u001b[0m \u001b[0;34m\u001b[0m\u001b[0m\n\u001b[1;32m    517\u001b[0m         \u001b[0;32mif\u001b[0m \u001b[0mcodec\u001b[0m \u001b[0;32mis\u001b[0m \u001b[0;32mNone\u001b[0m\u001b[0;34m:\u001b[0m\u001b[0;34m\u001b[0m\u001b[0m\n",
      "\u001b[0;31mLockError\u001b[0m: "
     ]
    }
   ],
   "source": [
    "index_dir='data/indexes/address'\n",
    "from whoosh.index import create_in\n",
    "from whoosh.fields import *\n",
    "schema = Schema(title=TEXT(stored=True), content=TEXT(stored=True), ref=STORED)\n",
    "ix = create_in(index_dir, schema)\n",
    "writer = ix.writer()\n",
    "\n",
    "for addr in get_addresses():\n",
    "    writer.add_document(title=addr[0], content=addr[2], ref=addr[1])\n",
    "writer.commit()"
   ]
  },
  {
   "cell_type": "code",
   "execution_count": 8,
   "metadata": {
    "ExecuteTime": {
     "end_time": "2019-08-22T09:21:43.958227Z",
     "start_time": "2019-08-22T09:21:43.892190Z"
    }
   },
   "outputs": [
    {
     "name": "stdout",
     "output_type": "stream",
     "text": [
      "Demo Customer\n",
      "\t 84057 ; 2004 Factory <b class=\"match term0\">Blvd</b> ; Orem ; Demo Customer\n",
      "\t {'countryGeoId': 'USA', 'houseNumberExt': None, 'lastUpdatedStamp': 1551623628510, 'address2': None, 'city': 'Orem', 'address1': '2004 Factory Blvd', 'createdTxStamp': 1551623614232, 'postalCode': '84057', 'postalCodeGeoId': None, 'createdStamp': 1551623628510, 'houseNumber': None, 'lastUpdatedTxStamp': 1551623614232, 'postalCodeExt': None, 'contactMechId': '9015', 'attnName': None, 'directions': None, 'countyGeoId': None, 'toName': 'Demo Customer', 'cityGeoId': None, 'municipalityGeoId': None, 'stateProvinceGeoId': 'UT', 'geoPointId': '9000'}\n",
      "Company XYZ\n",
      "\t 84058 ; 2003 Open <b class=\"match term0\">Blvd</b> ; Orem ; Company XYZ\n",
      "\t {'countryGeoId': 'USA', 'houseNumberExt': None, 'lastUpdatedStamp': 1551623614635, 'address2': None, 'city': 'Orem', 'address1': '2003 Open Blvd', 'createdTxStamp': 1551623614232, 'postalCode': '84058', 'postalCodeGeoId': None, 'createdStamp': 1551623614635, 'houseNumber': None, 'lastUpdatedTxStamp': 1551623614232, 'postalCodeExt': None, 'contactMechId': '9200', 'attnName': 'ZJAA', 'directions': None, 'countyGeoId': None, 'toName': 'Company XYZ', 'cityGeoId': None, 'municipalityGeoId': None, 'stateProvinceGeoId': 'UT', 'geoPointId': '9000'}\n",
      "Company XYZ\n",
      "\t 999999 ; 2003 Open <b class=\"match term0\">Blvd</b> ; Open City ; Company XYZ\n",
      "\t {'countryGeoId': 'USA', 'houseNumberExt': None, 'lastUpdatedStamp': 1551623611319, 'address2': None, 'city': 'Open City', 'address1': '2003 Open Blvd', 'createdTxStamp': 1551623610670, 'postalCode': '999999', 'postalCodeGeoId': None, 'createdStamp': 1551623611319, 'houseNumber': None, 'lastUpdatedTxStamp': 1551623610670, 'postalCodeExt': None, 'contactMechId': '9000', 'attnName': None, 'directions': None, 'countyGeoId': None, 'toName': 'Company XYZ', 'cityGeoId': None, 'municipalityGeoId': None, 'stateProvinceGeoId': 'CA', 'geoPointId': '9000'}\n",
      "Demo Customer Company\n",
      "\t 84057 ; 2004 Factory <b class=\"match term0\">Blvd</b> ; Orem ; Demo Customer\n",
      "\t {'countryGeoId': 'USA', 'houseNumberExt': None, 'lastUpdatedStamp': 1551623628426, 'address2': None, 'city': 'Orem', 'address1': '2004 Factory Blvd', 'createdTxStamp': 1551623614232, 'postalCode': '84057', 'postalCodeGeoId': None, 'createdStamp': 1551623628426, 'houseNumber': None, 'lastUpdatedTxStamp': 1551623614232, 'postalCodeExt': None, 'contactMechId': '9010', 'attnName': None, 'directions': None, 'countyGeoId': None, 'toName': 'Demo Customer Company', 'cityGeoId': None, 'municipalityGeoId': None, 'stateProvinceGeoId': 'UT', 'geoPointId': '9000'}\n",
      "Demo Customer Agent\n",
      "\t 84057 ; 2004 Factory <b class=\"match term0\">Blvd</b> ; Orem ; Demo Customer\n",
      "\t {'countryGeoId': 'USA', 'houseNumberExt': None, 'lastUpdatedStamp': 1551623628477, 'address2': None, 'city': 'Orem', 'address1': '2004 Factory Blvd', 'createdTxStamp': 1551623614232, 'postalCode': '84057', 'postalCodeGeoId': None, 'createdStamp': 1551623628477, 'houseNumber': None, 'lastUpdatedTxStamp': 1551623614232, 'postalCodeExt': None, 'contactMechId': '9011', 'attnName': None, 'directions': None, 'countyGeoId': None, 'toName': 'Demo Customer Agent', 'cityGeoId': None, 'municipalityGeoId': None, 'stateProvinceGeoId': 'UT', 'geoPointId': '9000'}\n",
      "Demo Supplier Company\n",
      "\t 90000 ; 2004 Factory <b class=\"match term0\">Blvd</b> ; City of Industry ; Demo\n",
      "\t {'countryGeoId': 'USA', 'houseNumberExt': None, 'lastUpdatedStamp': 1551623608459, 'address2': None, 'city': 'City of Industry', 'address1': '2004 Factory Blvd', 'createdTxStamp': 1551623608298, 'postalCode': '90000', 'postalCodeGeoId': None, 'createdStamp': 1551623608459, 'houseNumber': None, 'lastUpdatedTxStamp': 1551623608298, 'postalCodeExt': None, 'contactMechId': '9001', 'attnName': None, 'directions': None, 'countyGeoId': None, 'toName': 'Demo Supplier Company', 'cityGeoId': None, 'municipalityGeoId': None, 'stateProvinceGeoId': 'CA', 'geoPointId': None}\n",
      "Big Supplier Company\n",
      "\t 2005 Industrial Park <b class=\"match term0\">Blvd</b> ; New York ; Big Supplier\n",
      "\t {'countryGeoId': 'USA', 'houseNumberExt': None, 'lastUpdatedStamp': 1551623635277, 'address2': None, 'city': 'New York', 'address1': '2005 Industrial Park Blvd', 'createdTxStamp': 1551623635263, 'postalCode': '10000', 'postalCodeGeoId': None, 'createdStamp': 1551623635277, 'houseNumber': None, 'lastUpdatedTxStamp': 1551623635263, 'postalCodeExt': None, 'contactMechId': '9002', 'attnName': None, 'directions': None, 'countyGeoId': None, 'toName': 'Big Supplier Company', 'cityGeoId': None, 'municipalityGeoId': None, 'stateProvinceGeoId': 'NY', 'geoPointId': None}\n"
     ]
    }
   ],
   "source": [
    "from whoosh.qparser import QueryParser\n",
    "from whoosh.fields import *\n",
    "from whoosh.index import create_in, open_dir\n",
    "\n",
    "# schema = Schema(title=TEXT(stored=True), content=TEXT(stored=True), ref=STORED)\n",
    "# ix = create_in(index_dir, schema)\n",
    "index_dir='data/indexes/address'\n",
    "ix = open_dir(index_dir)\n",
    "\n",
    "def print_r(results):\n",
    "    for hit in results:\n",
    "        print(hit[\"title\"])\n",
    "        print('\\t', hit.highlights('content'))\n",
    "        print('\\t', hit['ref'])\n",
    "    \n",
    "def search_a(q):\n",
    "    with ix.searcher() as searcher:\n",
    "        query = QueryParser(\"content\", ix.schema).parse(q)\n",
    "        results = searcher.search(query)\n",
    "        print_r(results)\n",
    "\n",
    "search_a('Blvd')"
   ]
  }
 ],
 "metadata": {
  "kernelspec": {
   "display_name": "Python 3",
   "language": "python",
   "name": "python3"
  },
  "language_info": {
   "codemirror_mode": {
    "name": "ipython",
    "version": 3
   },
   "file_extension": ".py",
   "mimetype": "text/x-python",
   "name": "python",
   "nbconvert_exporter": "python",
   "pygments_lexer": "ipython3",
   "version": "3.6.4"
  },
  "varInspector": {
   "cols": {
    "lenName": 16,
    "lenType": 16,
    "lenVar": 40
   },
   "kernels_config": {
    "python": {
     "delete_cmd_postfix": "",
     "delete_cmd_prefix": "del ",
     "library": "var_list.py",
     "varRefreshCmd": "print(var_dic_list())"
    },
    "r": {
     "delete_cmd_postfix": ") ",
     "delete_cmd_prefix": "rm(",
     "library": "var_list.r",
     "varRefreshCmd": "cat(var_dic_list()) "
    }
   },
   "types_to_exclude": [
    "module",
    "function",
    "builtin_function_or_method",
    "instance",
    "_Feature"
   ],
   "window_display": false
  }
 },
 "nbformat": 4,
 "nbformat_minor": 2
}
