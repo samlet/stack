{
 "cells": [
  {
   "cell_type": "code",
   "execution_count": 1,
   "metadata": {
    "ExecuteTime": {
     "end_time": "2019-08-20T17:32:26.057313Z",
     "start_time": "2019-08-20T17:32:24.521432Z"
    }
   },
   "outputs": [
    {
     "name": "stdout",
     "output_type": "stream",
     "text": [
      "{'createdStamp': '2019-03-03T22:33:37.435000', 'productName': 'Square Gizmo', 'createdByUserLogin': 'admin', 'productId': 'GZ-2002', 'smallImageUrl': '/images/products/GZ-2002/small.png', 'taxable': 'Y', 'primaryProductCategoryId': '101', 'createdTxStamp': '2019-03-03T22:33:34.232000', 'lastUpdatedTxStamp': '2019-03-03T22:33:54.833000', 'isVirtual': 'N', 'autoCreateKeywords': 'Y', 'description': 'A square gizmo', 'chargeShipping': 'Y', 'internalName': 'Square Gizmo', 'lastModifiedByUserLogin': 'admin', 'lastUpdatedStamp': '2019-03-03T22:33:54.941000', 'lastModifiedDate': '2001-05-13T12:00:00', 'productTypeId': 'FINISHED_GOOD', 'createdDate': '2001-05-13T12:00:00', 'isVariant': 'N', 'largeImageUrl': '/images/products/GZ-2002/large.png'}\n"
     ]
    }
   ],
   "source": [
    "import sagas.ofbiz.entities as ee\n",
    "ent=ee.entity('Product')\n",
    "val=ent.record('GZ-2002')\n",
    "print(ent.to_json(val,True))"
   ]
  },
  {
   "cell_type": "code",
   "execution_count": 9,
   "metadata": {
    "ExecuteTime": {
     "end_time": "2019-08-21T08:55:03.103617Z",
     "start_time": "2019-08-21T08:55:02.435967Z"
    }
   },
   "outputs": [
    {
     "data": {
      "text/plain": [
       "{'key': 'CostComponentType.description.ACTUAL_LABOR_COST',\n",
       " 'values': {'de': 'Effektive Arbeitskosten',\n",
       "  'en': 'Actual Labor Cost',\n",
       "  'es': 'Coste de mano de obra actual',\n",
       "  'fr': 'Coût réel du travail',\n",
       "  'it': 'Costo attuale manodopera',\n",
       "  'ja': '実績労働原価',\n",
       "  'nl': 'Werk. kosten - Arbeid',\n",
       "  'ro': 'Cost Actual Manopera',\n",
       "  'ru': 'Действительные трудозатраты',\n",
       "  'th': 'ต้นทุนแรงงานโดยแท้จริง',\n",
       "  'vi': 'Chi phí nhân công thực tế',\n",
       "  'zh': '实际劳务费用'}}"
      ]
     },
     "execution_count": 9,
     "metadata": {},
     "output_type": "execute_result"
    }
   ],
   "source": [
    "from sagas.ofbiz.resources import ResourceDigester\n",
    "\n",
    "def property_json(prop_key, prop):\n",
    "    rs={'key':prop_key, 'values':{}}\n",
    "    for key in prop.values.keys():\n",
    "        if key not in ['zh-TW']:\n",
    "            parts=key.split('-')\n",
    "            rs['values'][parts[0]]=prop.values[key]\n",
    "    return rs\n",
    "\n",
    "rd=ResourceDigester(True)\n",
    "props = rd.get_all_properties()\n",
    "\n",
    "label='CostComponentType.description.ACTUAL_LABOR_COST'\n",
    "property_json(label, props[label])"
   ]
  },
  {
   "cell_type": "code",
   "execution_count": 26,
   "metadata": {
    "ExecuteTime": {
     "end_time": "2019-08-21T09:33:10.544143Z",
     "start_time": "2019-08-21T09:33:10.535700Z"
    }
   },
   "outputs": [
    {
     "name": "stdout",
     "output_type": "stream",
     "text": [
      "14778\n"
     ]
    }
   ],
   "source": [
    "print(len(props))"
   ]
  },
  {
   "cell_type": "code",
   "execution_count": 10,
   "metadata": {
    "ExecuteTime": {
     "end_time": "2019-08-21T08:55:05.870176Z",
     "start_time": "2019-08-21T08:55:05.856586Z"
    }
   },
   "outputs": [
    {
     "data": {
      "text/plain": [
       "{'key': 'CostComponentType.description.ACTUAL_LABOR_COST',\n",
       " 'values': {'de': 'Effektive Arbeitskosten',\n",
       "  'en': 'Actual Labor Cost',\n",
       "  'es': 'Coste de mano de obra actual',\n",
       "  'fr': 'Coût réel du travail',\n",
       "  'it': 'Costo attuale manodopera',\n",
       "  'ja': '実績労働原価',\n",
       "  'nl': 'Werk. kosten - Arbeid',\n",
       "  'ro': 'Cost Actual Manopera',\n",
       "  'ru': 'Действительные трудозатраты',\n",
       "  'th': 'ต้นทุนแรงงานโดยแท้จริง',\n",
       "  'vi': 'Chi phí nhân công thực tế',\n",
       "  'zh': '实际劳务费用'}}"
      ]
     },
     "execution_count": 10,
     "metadata": {},
     "output_type": "execute_result"
    }
   ],
   "source": [
    "label='CostComponentType.description.ACTUAL_LABOR_COST'\n",
    "property_json(label, props[label])"
   ]
  },
  {
   "cell_type": "code",
   "execution_count": 36,
   "metadata": {
    "ExecuteTime": {
     "end_time": "2019-08-21T13:15:51.983318Z",
     "start_time": "2019-08-21T13:15:51.970377Z"
    }
   },
   "outputs": [
    {
     "data": {
      "text/plain": [
       "'Effektive Arbeitskosten'"
      ]
     },
     "execution_count": 36,
     "metadata": {},
     "output_type": "execute_result"
    }
   ],
   "source": [
    "props[label].values['de']"
   ]
  },
  {
   "cell_type": "code",
   "execution_count": 30,
   "metadata": {
    "ExecuteTime": {
     "end_time": "2019-08-21T13:07:24.061285Z",
     "start_time": "2019-08-21T13:07:24.044279Z"
    }
   },
   "outputs": [
    {
     "data": {
      "text/plain": [
       "'/Users/xiaofeiwu/jcloud/vagrant/fedora/fedora-28/ofbiz/ofbiz-framework/applications/product/config/ProductEntityLabels.xml'"
      ]
     },
     "execution_count": 30,
     "metadata": {},
     "output_type": "execute_result"
    }
   ],
   "source": [
    "props[label].location"
   ]
  },
  {
   "cell_type": "code",
   "execution_count": 39,
   "metadata": {
    "ExecuteTime": {
     "end_time": "2019-08-21T13:18:08.007573Z",
     "start_time": "2019-08-21T13:18:07.923388Z"
    }
   },
   "outputs": [
    {
     "name": "stdout",
     "output_type": "stream",
     "text": [
      "388\n",
      "[('ProductContentType.description.XTRA_IMG_1_DETAIL', <google.protobuf.pyext._message.ScalarMapContainer object at 0x121d09e90>), ('FieldDescription.ProductStore.reserveOrderEnumId', <google.protobuf.pyext._message.ScalarMapContainer object at 0x121e940d0>)]\n",
      "0.de Zusatzbild 1 Detail\n"
     ]
    }
   ],
   "source": [
    "rs=[(k,v.values) for k,v in props.items() if v.location.endswith('ProductEntityLabels.xml')]\n",
    "print(len(rs))\n",
    "print(rs[:2])\n",
    "print('0.de', rs[0][1]['de'])"
   ]
  },
  {
   "cell_type": "code",
   "execution_count": 40,
   "metadata": {
    "ExecuteTime": {
     "end_time": "2019-08-21T13:20:54.173644Z",
     "start_time": "2019-08-21T13:20:54.106939Z"
    }
   },
   "outputs": [
    {
     "name": "stdout",
     "output_type": "stream",
     "text": [
      "388\n"
     ]
    }
   ],
   "source": [
    "labels=[k for k,v in props.items() if v.location.endswith('ProductEntityLabels.xml')]\n",
    "print(len(labels))"
   ]
  },
  {
   "cell_type": "code",
   "execution_count": 41,
   "metadata": {
    "ExecuteTime": {
     "end_time": "2019-08-21T13:21:11.328783Z",
     "start_time": "2019-08-21T13:21:11.278849Z"
    }
   },
   "outputs": [
    {
     "name": "stdout",
     "output_type": "stream",
     "text": [
      "<class 'resources_pb2.RsProperty'>\n"
     ]
    },
    {
     "data": {
      "text/plain": [
       "[{'key': 'CostComponentType.description.ACTUAL_LABOR_COST',\n",
       "  'lang': 'fr',\n",
       "  'value': 'Coût réel du travail'},\n",
       " {'key': 'CostComponentType.description.ACTUAL_LABOR_COST',\n",
       "  'lang': 'de',\n",
       "  'value': 'Effektive Arbeitskosten'}]"
      ]
     },
     "execution_count": 41,
     "metadata": {},
     "output_type": "execute_result"
    }
   ],
   "source": [
    "def pickups(key, prop, langs):\n",
    "    rs=[]\n",
    "    for k,v in prop.values.items():\n",
    "        if k in langs:\n",
    "            rs.append({'key':key, 'lang':k, 'value':v})\n",
    "    return rs\n",
    "\n",
    "print(type(props[label]))\n",
    "# props[label]\n",
    "arranger=[]\n",
    "arranger.extend(pickups(label, props[label], ['de','fr']))\n",
    "arranger"
   ]
  },
  {
   "cell_type": "code",
   "execution_count": 42,
   "metadata": {
    "ExecuteTime": {
     "end_time": "2019-08-21T13:21:36.846566Z",
     "start_time": "2019-08-21T13:21:36.799304Z"
    }
   },
   "outputs": [
    {
     "name": "stdout",
     "output_type": "stream",
     "text": [
      "762\n"
     ]
    }
   ],
   "source": [
    "arranger=[]\n",
    "for label in labels:\n",
    "    arranger.extend(pickups(label, props[label], ['de','fr']))\n",
    "print(len(arranger))"
   ]
  },
  {
   "cell_type": "code",
   "execution_count": 43,
   "metadata": {
    "ExecuteTime": {
     "end_time": "2019-08-21T13:22:07.779957Z",
     "start_time": "2019-08-21T13:22:06.212148Z"
    }
   },
   "outputs": [
    {
     "name": "stdout",
     "output_type": "stream",
     "text": [
      ".. bert service port is localhost\n",
      "[[ 0.27241755  0.05130382  0.28327864 ...  0.7240178   0.15231645\n",
      "  -0.2559567 ]\n",
      " [-0.07413598 -0.22783506 -0.08978284 ...  1.5093101   1.3512012\n",
      "  -0.03158455]\n",
      " [-0.26575348  0.19135515 -0.35613558 ...  1.396218    1.4187485\n",
      "   0.12651806]]\n"
     ]
    }
   ],
   "source": [
    "class BertManager(object):\n",
    "    def __init__(self):\n",
    "        from sagas.conf.conf import cf\n",
    "        self.ipaddr=cf.conf['bert_servant']\n",
    "        print(f\".. bert service port is {self.ipaddr}\")\n",
    "        self._bc=None\n",
    "    @property\n",
    "    def bc(self):\n",
    "        from bert_serving.client import BertClient\n",
    "        if self._bc is None:\n",
    "            self._bc = BertClient(ip=self.ipaddr)\n",
    "        return self._bc\n",
    "    def do_test(self):\n",
    "        \"\"\"\n",
    "        $ python -m sagas.train.parallel_corpus do_test\n",
    "        :return:\n",
    "        \"\"\"\n",
    "        result=self.bc.encode(['First do it', 'then do it right', 'then do it better'])\n",
    "        print(result)\n",
    "\n",
    "bm=BertManager()\n",
    "bm.do_test()"
   ]
  },
  {
   "cell_type": "code",
   "execution_count": 111,
   "metadata": {
    "ExecuteTime": {
     "end_time": "2019-08-21T19:32:44.814193Z",
     "start_time": "2019-08-21T19:32:44.785061Z"
    }
   },
   "outputs": [
    {
     "data": {
      "text/plain": [
       "['Zusatzbild 1 Detail',\n",
       " 'Image - Vue supplémentaire 1 Détaillée',\n",
       " 'Wählen Sie, wie der Bestand reserviert werden soll.']"
      ]
     },
     "execution_count": 111,
     "metadata": {},
     "output_type": "execute_result"
    }
   ],
   "source": [
    "[row['value'] for row in arranger][:3]"
   ]
  },
  {
   "cell_type": "code",
   "execution_count": 44,
   "metadata": {
    "ExecuteTime": {
     "end_time": "2019-08-21T13:25:39.937456Z",
     "start_time": "2019-08-21T13:22:56.412622Z"
    }
   },
   "outputs": [
    {
     "name": "stdout",
     "output_type": "stream",
     "text": [
      "762 [[ 0.11969224 -0.30593815  1.4547957  ...  1.6677395   0.8444546\n",
      "  -0.19611713]\n",
      " [-0.41851676 -0.27330032  0.44118643 ...  1.3840292   0.27011162\n",
      "   0.20589276]]\n"
     ]
    }
   ],
   "source": [
    "doc_vecs=bm.bc.encode([row['value'] for row in arranger])\n",
    "print(len(doc_vecs), doc_vecs[:2])"
   ]
  },
  {
   "cell_type": "code",
   "execution_count": 46,
   "metadata": {
    "ExecuteTime": {
     "end_time": "2019-08-21T13:26:55.109207Z",
     "start_time": "2019-08-21T13:26:55.093517Z"
    }
   },
   "outputs": [
    {
     "name": "stdout",
     "output_type": "stream",
     "text": [
      "2 768\n"
     ]
    }
   ],
   "source": [
    "sample_vecs=doc_vecs[:2]\n",
    "h, w = sample_vecs.shape\n",
    "print(h,w)"
   ]
  },
  {
   "cell_type": "code",
   "execution_count": 47,
   "metadata": {
    "ExecuteTime": {
     "end_time": "2019-08-21T13:26:58.391419Z",
     "start_time": "2019-08-21T13:26:58.379625Z"
    }
   },
   "outputs": [
    {
     "name": "stdout",
     "output_type": "stream",
     "text": [
      "762 768\n"
     ]
    }
   ],
   "source": [
    "h, w = doc_vecs.shape\n",
    "print(h,w)"
   ]
  },
  {
   "cell_type": "code",
   "execution_count": 48,
   "metadata": {
    "ExecuteTime": {
     "end_time": "2019-08-21T13:28:10.319303Z",
     "start_time": "2019-08-21T13:28:10.292682Z"
    }
   },
   "outputs": [
    {
     "name": "stdout",
     "output_type": "stream",
     "text": [
      "762\n"
     ]
    }
   ],
   "source": [
    "import numpy as np\n",
    "def save_docs(doc_vecs, file):\n",
    "    print(len(doc_vecs))\n",
    "    np.save(file, doc_vecs)  # save\n",
    "\n",
    "feat_name='samples'\n",
    "outf=\"./data/feats/%s.npy\"%feat_name\n",
    "save_docs(doc_vecs, outf)"
   ]
  },
  {
   "cell_type": "code",
   "execution_count": 115,
   "metadata": {
    "ExecuteTime": {
     "end_time": "2019-08-22T06:58:19.442752Z",
     "start_time": "2019-08-22T06:58:19.436586Z"
    }
   },
   "outputs": [
    {
     "name": "stdout",
     "output_type": "stream",
     "text": [
      "./data/feats/samples.npy True\n"
     ]
    }
   ],
   "source": [
    "from os import path\n",
    "print(outf, path.exists(outf))"
   ]
  },
  {
   "cell_type": "code",
   "execution_count": 49,
   "metadata": {
    "ExecuteTime": {
     "end_time": "2019-08-21T13:28:16.312545Z",
     "start_time": "2019-08-21T13:28:16.297257Z"
    }
   },
   "outputs": [],
   "source": [
    "import json_utils\n",
    "meta_outf=\"./data/feats/%s.json\"%feat_name\n",
    "json_utils.write_json_to_file(meta_outf, arranger)"
   ]
  },
  {
   "cell_type": "code",
   "execution_count": 50,
   "metadata": {
    "ExecuteTime": {
     "end_time": "2019-08-21T13:31:33.849883Z",
     "start_time": "2019-08-21T13:31:33.841957Z"
    }
   },
   "outputs": [
    {
     "name": "stdout",
     "output_type": "stream",
     "text": [
      "{'key': 'ProductFeatureType.description.WARRANTY', 'lang': 'fr', 'value': 'Garantie'}\n"
     ]
    }
   ],
   "source": [
    "print(arranger[5])"
   ]
  },
  {
   "cell_type": "code",
   "execution_count": 107,
   "metadata": {
    "ExecuteTime": {
     "end_time": "2019-08-21T15:14:38.404337Z",
     "start_time": "2019-08-21T15:14:38.308911Z"
    }
   },
   "outputs": [
    {
     "name": "stdout",
     "output_type": "stream",
     "text": [
      "h:1, w:768\n",
      "top 5 sentences similar to \"\u001b[32mCharge périodique\u001b[0m\"\n",
      "> \u001b[36m35.0\u001b[0m\tProductPriceType.description.RECURRING_CHARGE \u001b[33m{'key': 'ProductPriceType.description.RECURRING_CHARGE', 'lang': 'fr', 'value': 'Charge périodique'}\u001b[0m\n",
      "> \u001b[36m33.3\u001b[0m\tShipmentContactMechType.description.SHIP_TO_EMAIL \u001b[33m{'key': 'ShipmentContactMechType.description.SHIP_TO_EMAIL', 'lang': 'fr', 'value': \"Courriel de l'expédition\"}\u001b[0m\n",
      "> \u001b[36m33.2\u001b[0m\tProductType.description.DIGITAL_GOOD \u001b[33m{'key': 'ProductType.description.DIGITAL_GOOD', 'lang': 'fr', 'value': 'Produit immatériel'}\u001b[0m\n",
      "> \u001b[36m33.1\u001b[0m\tProductType.description.FINDIG_GOOD \u001b[33m{'key': 'ProductType.description.FINDIG_GOOD', 'lang': 'fr', 'value': 'Produit fini immatériel'}\u001b[0m\n",
      "> \u001b[36m33.0\u001b[0m\tProductContentType.description.DETAIL_IMAGE_ALT \u001b[33m{'key': 'ProductContentType.description.DETAIL_IMAGE_ALT', 'lang': 'fr', 'value': \"Texte alternatif de l'image - Détail\"}\u001b[0m\n"
     ]
    }
   ],
   "source": [
    "topk=5\n",
    "def get_similar(questions, doc_vecs, query):\n",
    "    from sagas.nlu.tts_utils import say_lang\n",
    "    from termcolor import colored\n",
    "    \n",
    "    va = from_redis(r,query)\n",
    "    if va is None:\n",
    "        va=bm.bc.encode([query])        \n",
    "        to_redis(r, va, query)\n",
    "        \n",
    "    query_vec = va[0]        \n",
    "    score = np.sum(query_vec * doc_vecs, axis=1) / np.linalg.norm(doc_vecs, axis=1)\n",
    "    topk_idx = np.argsort(score)[::-1][:topk]\n",
    "    print('top %d sentences similar to \"%s\"' % (topk, colored(query, 'green')))\n",
    "    for idx in topk_idx:\n",
    "        row=questions[idx]\n",
    "        qs=colored(row, 'yellow')\n",
    "        print('> %s\\t%s %s' % (colored('%.1f' % score[idx], 'cyan'), row['key'], qs))\n",
    "\n",
    "get_similar(arranger, doc_vecs, 'Charge périodique')"
   ]
  },
  {
   "cell_type": "code",
   "execution_count": 109,
   "metadata": {
    "ExecuteTime": {
     "end_time": "2019-08-21T15:29:25.057806Z",
     "start_time": "2019-08-21T15:29:24.968038Z"
    }
   },
   "outputs": [
    {
     "name": "stdout",
     "output_type": "stream",
     "text": [
      "h:1, w:768\n",
      "top 5 sentences similar to \"\u001b[32mpériodique\u001b[0m\"\n",
      "> \u001b[36m32.1\u001b[0m\tProductPriceType.description.RECURRING_CHARGE \u001b[33m{'key': 'ProductPriceType.description.RECURRING_CHARGE', 'lang': 'fr', 'value': 'Charge périodique'}\u001b[0m\n",
      "> \u001b[36m31.9\u001b[0m\tProductFeatureType.description.TOPIC \u001b[33m{'key': 'ProductFeatureType.description.TOPIC', 'lang': 'fr', 'value': 'Matière'}\u001b[0m\n",
      "> \u001b[36m31.7\u001b[0m\tProductCategoryType.description.MATERIALS_CATEGORY \u001b[33m{'key': 'ProductCategoryType.description.MATERIALS_CATEGORY', 'lang': 'fr', 'value': 'Matériel'}\u001b[0m\n",
      "> \u001b[36m31.7\u001b[0m\tGoodIdentificationType.description.OTHER_ID \u001b[33m{'key': 'GoodIdentificationType.description.OTHER_ID', 'lang': 'fr', 'value': 'Autre'}\u001b[0m\n",
      "> \u001b[36m31.7\u001b[0m\tSubscriptionType.description.OTHER_SUBSCR \u001b[33m{'key': 'SubscriptionType.description.OTHER_SUBSCR', 'lang': 'fr', 'value': 'Autre'}\u001b[0m\n"
     ]
    }
   ],
   "source": [
    "get_similar(arranger, doc_vecs, 'périodique')"
   ]
  },
  {
   "cell_type": "code",
   "execution_count": 66,
   "metadata": {
    "ExecuteTime": {
     "end_time": "2019-08-21T14:45:16.222183Z",
     "start_time": "2019-08-21T14:45:15.814137Z"
    }
   },
   "outputs": [
    {
     "name": "stdout",
     "output_type": "stream",
     "text": [
      "1 768\n"
     ]
    }
   ],
   "source": [
    "query='Charge périodique'\n",
    "query_vec = bm.bc.encode([query])\n",
    "h, w = query_vec.shape\n",
    "print(h,w)\n",
    "# query_vec"
   ]
  },
  {
   "cell_type": "code",
   "execution_count": 95,
   "metadata": {
    "ExecuteTime": {
     "end_time": "2019-08-21T15:07:13.125018Z",
     "start_time": "2019-08-21T15:07:12.958155Z"
    }
   },
   "outputs": [
    {
     "name": "stdout",
     "output_type": "stream",
     "text": [
      "(80, 80) uint16\n"
     ]
    }
   ],
   "source": [
    "import struct\n",
    "import redis\n",
    "import numpy as np\n",
    "\n",
    "def toRedis(r,a,n):\n",
    "   \"\"\"Store given Numpy array 'a' in Redis under key 'n'\"\"\"\n",
    "   h, w = a.shape\n",
    "   shape = struct.pack('>II',h,w)\n",
    "   encoded = shape + a.tobytes()\n",
    "\n",
    "   # Store encoded data in Redis\n",
    "   r.set(n,encoded)\n",
    "   return\n",
    "\n",
    "def fromRedis(r,n):\n",
    "   \"\"\"Retrieve Numpy array from Redis key 'n'\"\"\"\n",
    "   encoded = r.get(n)\n",
    "   h, w = struct.unpack('>II',encoded[:8])\n",
    "   a = np.frombuffer(encoded, dtype=np.uint16, offset=8).reshape(h,w)\n",
    "   return a\n",
    "\n",
    "# Create 80x80 numpy array to store\n",
    "a0 = np.arange(6400,dtype=np.uint16).reshape(80,80) \n",
    "print(a0.shape, a0.dtype)\n",
    "# Redis connection\n",
    "r = redis.Redis(host='localhost', port=6379, db=0)\n",
    "\n",
    "# Store array a0 in Redis under name 'a0array'\n",
    "toRedis(r,a0,'a0array')\n",
    "\n",
    "# Retrieve from Redis\n",
    "a1 = fromRedis(r,'a0array')\n",
    "\n",
    "np.testing.assert_array_equal(a0,a1)"
   ]
  },
  {
   "cell_type": "code",
   "execution_count": 86,
   "metadata": {
    "ExecuteTime": {
     "end_time": "2019-08-21T15:04:11.085661Z",
     "start_time": "2019-08-21T15:04:11.073619Z"
    }
   },
   "outputs": [
    {
     "name": "stdout",
     "output_type": "stream",
     "text": [
      "(1, 768) float32\n"
     ]
    }
   ],
   "source": [
    "print(query_vec.shape, query_vec.dtype)"
   ]
  },
  {
   "cell_type": "code",
   "execution_count": 87,
   "metadata": {
    "ExecuteTime": {
     "end_time": "2019-08-21T15:04:17.564279Z",
     "start_time": "2019-08-21T15:04:17.488957Z"
    }
   },
   "outputs": [],
   "source": [
    "toRedis(r,query_vec,query)"
   ]
  },
  {
   "cell_type": "code",
   "execution_count": 96,
   "metadata": {
    "ExecuteTime": {
     "end_time": "2019-08-21T15:07:35.171038Z",
     "start_time": "2019-08-21T15:07:35.062105Z"
    }
   },
   "outputs": [
    {
     "name": "stdout",
     "output_type": "stream",
     "text": [
      "h:1, w:768\n",
      "1 768\n"
     ]
    }
   ],
   "source": [
    "def to_redis(r,a,n):\n",
    "   \"\"\"Store given Numpy array 'a' in Redis under key 'n'\"\"\"\n",
    "   h, w = a.shape\n",
    "   shape = struct.pack('>II',h,w)\n",
    "   encoded = shape + a.tobytes()\n",
    "\n",
    "   # Store encoded data in Redis\n",
    "   r.set(n,encoded)\n",
    "   return\n",
    "\n",
    "def from_redis(r,n):\n",
    "    \"\"\"Retrieve Numpy array from Redis key 'n'\"\"\"\n",
    "    encoded = r.get(n)\n",
    "    if encoded is None:\n",
    "        return None\n",
    "    h, w = struct.unpack('>II',encoded[:8])\n",
    "    print(f\"h:{h}, w:{w}\")\n",
    "    a = np.frombuffer(encoded, dtype=np.float32, offset=8).reshape(h,w)\n",
    "    return a\n",
    "\n",
    "# Retrieve from Redis\n",
    "a1 = from_redis(r,query)\n",
    "# print(a1)\n",
    "h, w = a1.shape\n",
    "print(h,w)"
   ]
  },
  {
   "cell_type": "code",
   "execution_count": 88,
   "metadata": {
    "ExecuteTime": {
     "end_time": "2019-08-21T15:04:38.056725Z",
     "start_time": "2019-08-21T15:04:37.959667Z"
    }
   },
   "outputs": [
    {
     "data": {
      "text/plain": [
       "True"
      ]
     },
     "execution_count": 88,
     "metadata": {},
     "output_type": "execute_result"
    }
   ],
   "source": [
    "ae=r.get('unexists')\n",
    "ae is None"
   ]
  },
  {
   "cell_type": "code",
   "execution_count": 113,
   "metadata": {
    "ExecuteTime": {
     "end_time": "2019-08-22T06:30:13.976746Z",
     "start_time": "2019-08-22T06:30:13.641166Z"
    }
   },
   "outputs": [
    {
     "name": "stdout",
     "output_type": "stream",
     "text": [
      ".. request is {'lang': 'de', 'sents': 'Shenzhen ist das Silicon Valley für Hardware-Firmen'}\n"
     ]
    },
    {
     "ename": "AttributeError",
     "evalue": "'TransClipConf' object has no attribute 'common_s'",
     "output_type": "error",
     "traceback": [
      "\u001b[0;31m---------------------------------------------------------------------------\u001b[0m",
      "\u001b[0;31mAttributeError\u001b[0m                            Traceback (most recent call last)",
      "\u001b[0;32m<ipython-input-113-b466a703cf05>\u001b[0m in \u001b[0;36m<module>\u001b[0;34m()\u001b[0m\n\u001b[1;32m     10\u001b[0m \u001b[0;32mfor\u001b[0m \u001b[0mtext\u001b[0m \u001b[0;32min\u001b[0m \u001b[0mtexts\u001b[0m\u001b[0;34m:\u001b[0m\u001b[0;34m\u001b[0m\u001b[0m\n\u001b[1;32m     11\u001b[0m     \u001b[0mdata\u001b[0m \u001b[0;34m=\u001b[0m \u001b[0;34m{\u001b[0m\u001b[0;34m'lang'\u001b[0m\u001b[0;34m:\u001b[0m \u001b[0;34m'de'\u001b[0m\u001b[0;34m,\u001b[0m \u001b[0;34m\"sents\"\u001b[0m\u001b[0;34m:\u001b[0m \u001b[0mtext\u001b[0m\u001b[0;34m}\u001b[0m\u001b[0;34m\u001b[0m\u001b[0m\n\u001b[0;32m---> 12\u001b[0;31m     \u001b[0mexpand\u001b[0m\u001b[0;34m(\u001b[0m\u001b[0mdata\u001b[0m\u001b[0;34m)\u001b[0m\u001b[0;34m\u001b[0m\u001b[0m\n\u001b[0m\u001b[1;32m     13\u001b[0m     \u001b[0mprint\u001b[0m\u001b[0;34m(\u001b[0m\u001b[0;34m'✁'\u001b[0m\u001b[0;34m,\u001b[0m \u001b[0;34m'-'\u001b[0m\u001b[0;34m*\u001b[0m\u001b[0;36m30\u001b[0m\u001b[0;34m)\u001b[0m\u001b[0;34m\u001b[0m\u001b[0m\n",
      "\u001b[0;32m<ipython-input-113-b466a703cf05>\u001b[0m in \u001b[0;36mexpand\u001b[0;34m(data)\u001b[0m\n\u001b[1;32m      2\u001b[0m \u001b[0;32mdef\u001b[0m \u001b[0mexpand\u001b[0m\u001b[0;34m(\u001b[0m\u001b[0mdata\u001b[0m\u001b[0;34m)\u001b[0m\u001b[0;34m:\u001b[0m\u001b[0;34m\u001b[0m\u001b[0m\n\u001b[1;32m      3\u001b[0m     \u001b[0mfixt\u001b[0m\u001b[0;34m=\u001b[0m\u001b[0mInspectorFixture\u001b[0m\u001b[0;34m(\u001b[0m\u001b[0;34m)\u001b[0m\u001b[0;34m\u001b[0m\u001b[0m\n\u001b[0;32m----> 4\u001b[0;31m     \u001b[0mdomains\u001b[0m\u001b[0;34m,\u001b[0m \u001b[0mmeta\u001b[0m\u001b[0;34m=\u001b[0m\u001b[0mfixt\u001b[0m\u001b[0;34m.\u001b[0m\u001b[0mrequest_domains\u001b[0m\u001b[0;34m(\u001b[0m\u001b[0mdata\u001b[0m\u001b[0;34m)\u001b[0m\u001b[0;34m\u001b[0m\u001b[0m\n\u001b[0m\u001b[1;32m      5\u001b[0m \u001b[0;34m\u001b[0m\u001b[0m\n\u001b[1;32m      6\u001b[0m texts = ['Shenzhen ist das Silicon Valley für Hardware-Firmen',\n",
      "\u001b[0;32m~/jcloud/assets/langs/workspace/rasa/stack/sagas/nlu/inspector_fixtures.py\u001b[0m in \u001b[0;36mrequest_domains\u001b[0;34m(self, data, print_format)\u001b[0m\n\u001b[1;32m     21\u001b[0m \u001b[0;34m\u001b[0m\u001b[0m\n\u001b[1;32m     22\u001b[0m         \u001b[0mprint\u001b[0m\u001b[0;34m(\u001b[0m\u001b[0;34mf\".. request is {data}\"\u001b[0m\u001b[0;34m)\u001b[0m\u001b[0;34m\u001b[0m\u001b[0m\n\u001b[0;32m---> 23\u001b[0;31m         \u001b[0mresponse\u001b[0m \u001b[0;34m=\u001b[0m \u001b[0mrequests\u001b[0m\u001b[0;34m.\u001b[0m\u001b[0mpost\u001b[0m\u001b[0;34m(\u001b[0m\u001b[0;34mf'{cf.common_s}/verb_domains'\u001b[0m\u001b[0;34m,\u001b[0m \u001b[0mjson\u001b[0m\u001b[0;34m=\u001b[0m\u001b[0mdata\u001b[0m\u001b[0;34m)\u001b[0m\u001b[0;34m\u001b[0m\u001b[0m\n\u001b[0m\u001b[1;32m     24\u001b[0m         \u001b[0mrs\u001b[0m \u001b[0;34m=\u001b[0m \u001b[0mresponse\u001b[0m\u001b[0;34m.\u001b[0m\u001b[0mjson\u001b[0m\u001b[0;34m(\u001b[0m\u001b[0;34m)\u001b[0m\u001b[0;34m\u001b[0m\u001b[0m\n\u001b[1;32m     25\u001b[0m         \u001b[0;32mif\u001b[0m \u001b[0mlen\u001b[0m\u001b[0;34m(\u001b[0m\u001b[0mrs\u001b[0m\u001b[0;34m)\u001b[0m\u001b[0;34m==\u001b[0m\u001b[0;36m0\u001b[0m\u001b[0;34m:\u001b[0m\u001b[0;34m\u001b[0m\u001b[0m\n",
      "\u001b[0;31mAttributeError\u001b[0m: 'TransClipConf' object has no attribute 'common_s'"
     ]
    }
   ],
   "source": [
    "from sagas.nlu.inspector_fixtures import InspectorFixture\n",
    "from sagas.nlu.inspector_common import Context\n",
    "def expand(data, keys, domains):\n",
    "    fixt=InspectorFixture()\n",
    "    domains, meta=fixt.request_domains(data)\n",
    "    ctx=Context(meta, domains)\n",
    "    # execute get_similar with ctx.chunks\n",
    "    \n",
    "texts = ['Shenzhen ist das Silicon Valley für Hardware-Firmen',\n",
    "                 'Ich stimme dir in diesem Punkt nicht zu.',\n",
    "                 'Die Nutzung der Seite ist kostenlos.',\n",
    "                 ]\n",
    "for text in texts:\n",
    "    data = {'lang': 'de', \"sents\": text}\n",
    "    expand(data)\n",
    "    print('✁', '-'*30)"
   ]
  }
 ],
 "metadata": {
  "kernelspec": {
   "display_name": "Python 3",
   "language": "python",
   "name": "python3"
  },
  "language_info": {
   "codemirror_mode": {
    "name": "ipython",
    "version": 3
   },
   "file_extension": ".py",
   "mimetype": "text/x-python",
   "name": "python",
   "nbconvert_exporter": "python",
   "pygments_lexer": "ipython3",
   "version": "3.6.4"
  },
  "varInspector": {
   "cols": {
    "lenName": 16,
    "lenType": 16,
    "lenVar": 40
   },
   "kernels_config": {
    "python": {
     "delete_cmd_postfix": "",
     "delete_cmd_prefix": "del ",
     "library": "var_list.py",
     "varRefreshCmd": "print(var_dic_list())"
    },
    "r": {
     "delete_cmd_postfix": ") ",
     "delete_cmd_prefix": "rm(",
     "library": "var_list.r",
     "varRefreshCmd": "cat(var_dic_list()) "
    }
   },
   "types_to_exclude": [
    "module",
    "function",
    "builtin_function_or_method",
    "instance",
    "_Feature"
   ],
   "window_display": false
  }
 },
 "nbformat": 4,
 "nbformat_minor": 2
}
