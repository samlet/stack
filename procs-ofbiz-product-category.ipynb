{
 "cells": [
  {
   "cell_type": "code",
   "execution_count": 4,
   "metadata": {
    "ExecuteTime": {
     "end_time": "2019-02-09T11:27:31.611005Z",
     "start_time": "2019-02-09T11:27:31.345863Z"
    }
   },
   "outputs": [
    {
     "name": "stdout",
     "output_type": "stream",
     "text": [
      "✔ testScv default 21 2019-02-09 19:27:31.589 ➷ 1 ms\n",
      "True {'responseMessage': 'success', 'resp': 'service done'}\n"
     ]
    }
   ],
   "source": [
    "from sagas.ofbiz.services import OfService as s, oc, track\n",
    "from sagas.ofbiz.entities import OfEntity as e\n",
    "ok, r=track(lambda a: s().testScv(defaultValue=5.5, message=\"hello world\"))\n",
    "print(ok, r)    "
   ]
  },
  {
   "cell_type": "code",
   "execution_count": 2,
   "metadata": {
    "ExecuteTime": {
     "end_time": "2019-02-09T11:25:37.641000Z",
     "start_time": "2019-02-09T11:25:37.241176Z"
    },
    "scrolled": false
   },
   "outputs": [
    {
     "data": {
      "text/plain": [
       "(True, {'responseMessage': 'success', 'productCategoryId': 'TEST_CATEGORY'})"
      ]
     },
     "execution_count": 2,
     "metadata": {},
     "output_type": "execute_result"
    }
   ],
   "source": [
    "s().createProductCategory(productCategoryId='TEST_CATEGORY',\n",
    "    productCategoryTypeId='USAGE_CATEGORY')"
   ]
  },
  {
   "cell_type": "code",
   "execution_count": 8,
   "metadata": {
    "ExecuteTime": {
     "end_time": "2019-02-09T11:28:36.478487Z",
     "start_time": "2019-02-09T11:28:36.448960Z"
    }
   },
   "outputs": [
    {
     "name": "stdout",
     "output_type": "stream",
     "text": [
      "+-------------------------+-------------------------+\n",
      "| name                    | value                   |\n",
      "|-------------------------+-------------------------|\n",
      "| longDescription         |                         |\n",
      "| lastUpdatedStamp        | 2019-02-09 19:25:37.609 |\n",
      "| productCategoryTypeId   | USAGE_CATEGORY          |\n",
      "| detailScreen            |                         |\n",
      "| createdTxStamp          | 2019-02-09 19:25:37.246 |\n",
      "| createdStamp            | 2019-02-09 19:25:37.609 |\n",
      "| description             |                         |\n",
      "| lastUpdatedTxStamp      | 2019-02-09 19:25:37.246 |\n",
      "| linkTwoImageUrl         |                         |\n",
      "| categoryName            |                         |\n",
      "| productCategoryId       | TEST_CATEGORY           |\n",
      "| linkOneImageUrl         |                         |\n",
      "| primaryParentCategoryId |                         |\n",
      "| categoryImageUrl        |                         |\n",
      "| showInSelect            |                         |\n",
      "+-------------------------+-------------------------+\n"
     ]
    }
   ],
   "source": [
    "import sagas.ofbiz.entities as ee\n",
    "r=e().refProductCategory('TEST_CATEGORY')\n",
    "ee.format(r)"
   ]
  },
  {
   "cell_type": "code",
   "execution_count": 11,
   "metadata": {
    "ExecuteTime": {
     "end_time": "2019-02-09T11:32:50.122204Z",
     "start_time": "2019-02-09T11:32:50.041159Z"
    }
   },
   "outputs": [
    {
     "data": {
      "text/plain": [
       "(True,\n",
       " {'viewSize': 10, 'lowIndex': 1, 'viewIndex': 0, 'productCategoryMembers': [{'fromDate': JavaObject id=o893, 'lastUpdatedStamp': JavaObject id=o894, 'productCategoryId': '101', 'comments': None, 'quantity': None, 'productId': 'GZ-1000', 'sequenceNum': None, 'createdTxStamp': JavaObject id=o895, 'createdStamp': JavaObject id=o896, 'lastUpdatedTxStamp': JavaObject id=o897, 'thruDate': None}, {'fromDate': JavaObject id=o902, 'lastUpdatedStamp': JavaObject id=o903, 'productCategoryId': '101', 'comments': None, 'quantity': None, 'productId': 'GZ-1001', 'sequenceNum': None, 'createdTxStamp': JavaObject id=o904, 'createdStamp': JavaObject id=o905, 'lastUpdatedTxStamp': JavaObject id=o906, 'thruDate': None}, {'fromDate': JavaObject id=o911, 'lastUpdatedStamp': JavaObject id=o912, 'productCategoryId': '101', 'comments': None, 'quantity': None, 'productId': 'GZ-2002', 'sequenceNum': None, 'createdTxStamp': JavaObject id=o913, 'createdStamp': JavaObject id=o914, 'lastUpdatedTxStamp': JavaObject id=o915, 'thruDate': None}, {'fromDate': JavaObject id=o920, 'lastUpdatedStamp': JavaObject id=o921, 'productCategoryId': '101', 'comments': None, 'quantity': None, 'productId': 'GZ-2644', 'sequenceNum': None, 'createdTxStamp': JavaObject id=o922, 'createdStamp': JavaObject id=o923, 'lastUpdatedTxStamp': JavaObject id=o924, 'thruDate': None}, {'fromDate': JavaObject id=o929, 'lastUpdatedStamp': JavaObject id=o930, 'productCategoryId': '101', 'comments': None, 'quantity': None, 'productId': 'GZ-5005', 'sequenceNum': None, 'createdTxStamp': JavaObject id=o931, 'createdStamp': JavaObject id=o932, 'lastUpdatedTxStamp': JavaObject id=o933, 'thruDate': None}, {'fromDate': JavaObject id=o938, 'lastUpdatedStamp': JavaObject id=o939, 'productCategoryId': '101', 'comments': None, 'quantity': None, 'productId': 'GZ-DIG', 'sequenceNum': None, 'createdTxStamp': JavaObject id=o940, 'createdStamp': JavaObject id=o941, 'lastUpdatedTxStamp': JavaObject id=o942, 'thruDate': None}, {'fromDate': JavaObject id=o947, 'lastUpdatedStamp': JavaObject id=o948, 'productCategoryId': '101', 'comments': None, 'quantity': None, 'productId': 'GZ-NEWS-1MO', 'sequenceNum': None, 'createdTxStamp': JavaObject id=o949, 'createdStamp': JavaObject id=o950, 'lastUpdatedTxStamp': JavaObject id=o951, 'thruDate': None}], 'highIndex': 7, 'listSize': 7, 'productCategory': {'longDescription': 'long description of Small Gizmos', 'lastUpdatedStamp': JavaObject id=o957, 'productCategoryTypeId': 'CATALOG_CATEGORY', 'detailScreen': None, 'createdTxStamp': JavaObject id=o958, 'createdStamp': JavaObject id=o959, 'description': None, 'lastUpdatedTxStamp': JavaObject id=o960, 'linkTwoImageUrl': None, 'categoryName': None, 'productCategoryId': '101', 'linkOneImageUrl': None, 'primaryParentCategoryId': '100', 'categoryImageUrl': None, 'showInSelect': None}})"
      ]
     },
     "execution_count": 11,
     "metadata": {},
     "output_type": "execute_result"
    }
   ],
   "source": [
    "s().getProductCategoryAndLimitedMembers(productCategoryId='101',\n",
    "    prodCatalogId='DemoCatalog',\n",
    "    defaultViewSize=10,\n",
    "    limitView=True)"
   ]
  }
 ],
 "metadata": {
  "kernelspec": {
   "display_name": "Python 3",
   "language": "python",
   "name": "python3"
  },
  "language_info": {
   "codemirror_mode": {
    "name": "ipython",
    "version": 3
   },
   "file_extension": ".py",
   "mimetype": "text/x-python",
   "name": "python",
   "nbconvert_exporter": "python",
   "pygments_lexer": "ipython3",
   "version": "3.6.4"
  },
  "varInspector": {
   "cols": {
    "lenName": 16,
    "lenType": 16,
    "lenVar": 40
   },
   "kernels_config": {
    "python": {
     "delete_cmd_postfix": "",
     "delete_cmd_prefix": "del ",
     "library": "var_list.py",
     "varRefreshCmd": "print(var_dic_list())"
    },
    "r": {
     "delete_cmd_postfix": ") ",
     "delete_cmd_prefix": "rm(",
     "library": "var_list.r",
     "varRefreshCmd": "cat(var_dic_list()) "
    }
   },
   "types_to_exclude": [
    "module",
    "function",
    "builtin_function_or_method",
    "instance",
    "_Feature"
   ],
   "window_display": false
  }
 },
 "nbformat": 4,
 "nbformat_minor": 2
}
