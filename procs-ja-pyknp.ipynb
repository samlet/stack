{
 "cells": [
  {
   "cell_type": "code",
   "execution_count": 4,
   "metadata": {
    "ExecuteTime": {
     "end_time": "2019-05-12T20:39:06.408717Z",
     "start_time": "2019-05-12T20:39:03.135385Z"
    }
   },
   "outputs": [
    {
     "name": "stdout",
     "output_type": "stream",
     "text": [
      "speak language with ja ...\n",
      "done.\n"
     ]
    }
   ],
   "source": [
    "import sagas.nlu.tts_utils as tts\n",
    "tts.say_lang(\"私はサッカーをします\", 'ja')"
   ]
  },
  {
   "cell_type": "code",
   "execution_count": 34,
   "metadata": {
    "ExecuteTime": {
     "end_time": "2019-05-14T21:29:15.249846Z",
     "start_time": "2019-05-14T21:29:15.233645Z"
    }
   },
   "outputs": [
    {
     "name": "stdout",
     "output_type": "stream",
     "text": [
      "      私は---D\n",
      "  サッカーを-D\n",
      "        します\n",
      "EOS\n",
      "* 0 2D 0/1 -2.389876\n",
      "私\t名詞,代名詞,一般,*,*,*,私,ワタシ,ワタシ\n",
      "は\t助詞,係助詞,*,*,*,*,は,ハ,ワ\n",
      "* 1 2D 0/1 -2.389876\n",
      "サッカー\t名詞,一般,*,*,*,*,サッカー,サッカー,サッカー\n",
      "を\t助詞,格助詞,一般,*,*,*,を,ヲ,ヲ\n",
      "* 2 -1D 0/1 0.000000\n",
      "し\t動詞,自立,*,*,サ変・スル,連用形,する,シ,シ\n",
      "ます\t助動詞,*,*,*,特殊・マス,基本形,ます,マス,マス\n",
      "EOS\n",
      "\n",
      "% 私はサッカーをします\n",
      "✆ shi(actor:+私@n, obj:+サッカー@n, act:*する@v)\n",
      "ﺴ watashi ha sakka- wo shi masu\n"
     ]
    }
   ],
   "source": [
    "from sagas.ja.dependency import JaDeps\n",
    "deps=JaDeps()\n",
    "deps.tree(\"私はサッカーをします\")"
   ]
  },
  {
   "cell_type": "markdown",
   "metadata": {},
   "source": [
    "### 如何获得依赖信息\n",
    "依赖关系具有树结构。\n",
    "\n",
    "- bnst.parent返回父子句。但是，返回None是因为最后一个子句没有父子句。\n",
    "- bnst.children返回子子句列表。有时没有孩子（空列表）或多个孩子。\n",
    "\n",
    "下面的代码用arrow->打印每个依赖关系"
   ]
  },
  {
   "cell_type": "code",
   "execution_count": 23,
   "metadata": {
    "ExecuteTime": {
     "end_time": "2019-05-13T13:17:08.212321Z",
     "start_time": "2019-05-13T13:17:07.489639Z"
    }
   },
   "outputs": [
    {
     "name": "stdout",
     "output_type": "stream",
     "text": [
      "望遠/ぼうえん 鏡/きょう  -> 見る/みる \n",
      "泳ぐ/およぐ いる/いる -> 少女/しょうじょ \n",
      "少女/しょうじょ  -> 見る/みる \n"
     ]
    }
   ],
   "source": [
    "from pyknp import KNP\n",
    "# from pyknp import Juman\n",
    "\n",
    "knp = KNP()\n",
    "result = knp.parse(\"望遠鏡で泳いでいる少女を見た。\")\n",
    "\n",
    "def dump_deps(result):\n",
    "    for bnst in result.bnst_list():\n",
    "        parent = bnst.parent\n",
    "        if parent is not None:\n",
    "            child_rep = \" \".join(mrph.repname for mrph in bnst.mrph_list())\n",
    "            parent_rep = \" \".join(mrph.repname for mrph in parent.mrph_list())\n",
    "            print(child_rep, \"->\", parent_rep)\n",
    "\n",
    "dump_deps(result)"
   ]
  },
  {
   "cell_type": "code",
   "execution_count": 22,
   "metadata": {
    "ExecuteTime": {
     "end_time": "2019-05-13T13:12:15.825733Z",
     "start_time": "2019-05-13T13:12:15.679485Z"
    }
   },
   "outputs": [
    {
     "name": "stdout",
     "output_type": "stream",
     "text": [
      "私/わたし  -> 見る/みる \n",
      "望遠/ぼうえん 鏡/きょう  -> 見る/みる \n",
      "泳ぐ/およぐ いる/いる -> 少女/しょうじょ \n",
      "少女/しょうじょ  -> 見る/みる \n"
     ]
    }
   ],
   "source": [
    "result = knp.parse(\"私は望遠鏡で泳いでいる少女を見た。\")\n",
    "dump_deps(result)"
   ]
  },
  {
   "cell_type": "code",
   "execution_count": 21,
   "metadata": {
    "ExecuteTime": {
     "end_time": "2019-05-13T13:10:50.310638Z",
     "start_time": "2019-05-13T13:10:50.129933Z"
    }
   },
   "outputs": [
    {
     "name": "stdout",
     "output_type": "stream",
     "text": [
      "私/わたし  -> 見る/みる \n",
      "海/かい  -> 泳ぐ/およぐ いる/いる\n",
      "泳ぐ/およぐ いる/いる -> 少女/しょうじょ \n",
      "少女/しょうじょ  -> 見る/みる \n"
     ]
    }
   ],
   "source": [
    "result = knp.parse(\"私は海で泳いでいる少女を見た。\")\n",
    "dump_deps(result)"
   ]
  },
  {
   "cell_type": "code",
   "execution_count": 44,
   "metadata": {
    "ExecuteTime": {
     "end_time": "2019-05-14T21:47:37.398375Z",
     "start_time": "2019-05-14T21:47:36.867788Z"
    }
   },
   "outputs": [
    {
     "name": "stdout",
     "output_type": "stream",
     "text": [
      "この文を解析してください。\n",
      "この,文,を,解析,する,くださる,。\n"
     ]
    }
   ],
   "source": [
    "from pyknp import Juman\n",
    "jumanpp = Juman()\n",
    "test_str = \"この文を解析してください。\"\n",
    "result = jumanpp.analysis(test_str)\n",
    "print(''.join(mrph.midasi for mrph in result))\n",
    "print(\",\".join(mrph.genkei for mrph in result.mrph_list()))\n",
    "# dump_deps(result)"
   ]
  },
  {
   "cell_type": "markdown",
   "metadata": {},
   "source": [
    "### 如何获得谓词参数结构信息\n",
    "谓词术语结构是由什么做什么及其术语的谓词组成的结构。KNP中的谓词期限结构信息作为基本短语级别信息保存。在pyknp中，Tag类的pas对象保存此信息，并且它指向谓词的基本子句中的Pas对象和其他基本划分中的None。\n",
    "\n",
    "Pas对象管理有关谓词和相应谓词的术语的信息。Pas对象中的arguments对象是一个字典{case：Argument objects列表}。Argument对象管理术语的信息。案例和期限信息不是一对一的对应关系，因为案例等可以采用多个术语。\n",
    "\n",
    "有关Pas和Argument类的详细信息，请参阅以下文档的Pas模块项。 [标签模块](https://pyknp.readthedocs.io/en/latest/tag.html)\n",
    "\n",
    "以下是一个示例程序，用于检索句子中的谓词和术语。"
   ]
  },
  {
   "cell_type": "code",
   "execution_count": 26,
   "metadata": {
    "ExecuteTime": {
     "end_time": "2019-05-13T19:08:44.436417Z",
     "start_time": "2019-05-13T19:08:43.398862Z"
    },
    "scrolled": true
   },
   "outputs": [
    {
     "name": "stdout",
     "output_type": "stream",
     "text": [
      "述語: 泳いでいる\n",
      "\t格: ガ,  項: 少女  (項の基本句ID: 3)\n",
      "述語: 見た。\n",
      "\t格: ヲ,  項: 少女  (項の基本句ID: 3)\n",
      "\t格: デ,  項: 鏡  (項の基本句ID: 1)\n"
     ]
    }
   ],
   "source": [
    "from pyknp import KNP\n",
    "\n",
    "knp = KNP()\n",
    "\n",
    "def proc_predicates(sent):\n",
    "    result = knp.parse(sent)\n",
    "    predicates(result)\n",
    "    \n",
    "def predicates(result):\n",
    "    for tag in result.tag_list():\n",
    "        if tag.pas is not None: # find predicate\n",
    "            print('述語: %s' % ''.join(mrph.midasi for mrph in tag.mrph_list()))\n",
    "            for case, args in tag.pas.arguments.items(): # case: str, args: list of Argument class\n",
    "                for arg in args: # arg: Argument class\n",
    "                    print('\\t格: %s,  項: %s  (項の基本句ID: %d)' % (case, arg.midasi, arg.tid))\n",
    "\n",
    "proc_predicates(\"望遠鏡で泳いでいる少女を見た。\")"
   ]
  },
  {
   "cell_type": "code",
   "execution_count": 27,
   "metadata": {
    "ExecuteTime": {
     "end_time": "2019-05-13T19:08:56.170801Z",
     "start_time": "2019-05-13T19:08:56.035609Z"
    }
   },
   "outputs": [
    {
     "name": "stdout",
     "output_type": "stream",
     "text": [
      "述語: 言いますか？\n",
      "\t格: ガ,  項: これ  (項の基本句ID: 0)\n",
      "\t格: デ,  項: 語  (項の基本句ID: 2)\n",
      "\t格: 修飾,  項: 何と  (項の基本句ID: 3)\n"
     ]
    }
   ],
   "source": [
    "proc_predicates('これは日本語で何と言いますか？')"
   ]
  },
  {
   "cell_type": "markdown",
   "metadata": {},
   "source": [
    "⊕ [日语的格现象（其一） - 知乎](https://zhuanlan.zhihu.com/p/25490919)\n",
    "但“补语”是一个相当模糊的统称，所以在区分不同的 NP 时我们还需要一些更加精确的术语。\n",
    "\n",
    "- 日语里的 NP 通常都有助词跟随，我们称之为「格助詞」（case particle）。我们可以简单地用该格助词来称呼这个 NP。比如在「私が日本酒を飲む」这个句子里，「私（が）」可以称为「ガ格 NP」，「日本酒（を）」称为「ヲ格 NP」。\n",
    "- 另外，我们还有一组主要在跨语言研究中使用的术语。在这组来源于拉丁语的术语中，日语「ガ格」对应的格被称为「主格」（nominative case），「ヲ格」对应的格被称为「対格」（accusative case）。此外还有「ニ格」对应的「与格」（dative case）、「ノ格」对应的「属格」（genitive case）等。主格之外的格还可以统称为「斜格」（oblique case）。\n",
    "- 上面两类术语主要关注 NP 的表面形态，而下面要介绍的术语更靠近 NP 的实际意义一些——「項」（argument）。「項」的定义虽然和“补语”近似，但它的所指范围更狭窄一些，只指那些“义务性”的、必须的成分。比如在 I drink sake at home every night 这个例子里，像 I 和 sake 这样的参与者，就称为谓语动词 drink 的「項」，他们是这个事件最重要的参与者；而 home 虽然也是 NP，但它是由 at 伴随出现的，是副词性成分，并不是在「項」。而在日语中，几乎每个 NP 都有格助词伴随，所以在日语研究中一般笼统地把它们都称为「項」（和原本的定义多少有出入）。比如「私が居酒屋で日本酒を飲む」这个例子里，「私」「居酒屋」「日本酒」都是「飲む」的「項」。但是！「居酒屋」并不是这个事件的必须参与者（“喝”这个行为里，去掉“喝的地方”并不影响表述，但去掉了“喝的人”和“喝的东西”就不成立了），所以它并不是「必須項」。而「私」「日本酒」这样的「必須項」，我们把它们分别称作「外項」和「内項」。"
   ]
  },
  {
   "cell_type": "code",
   "execution_count": 5,
   "metadata": {
    "ExecuteTime": {
     "end_time": "2019-05-13T08:46:23.006033Z",
     "start_time": "2019-05-13T08:46:22.868945Z"
    }
   },
   "outputs": [],
   "source": [
    "import codecs\n",
    "import optparse\n",
    "import pyknp\n",
    "import six\n",
    "import sys\n",
    "\n",
    "def draw_tree(bl, outf):\n",
    "    assert isinstance(bl, pyknp.BList)\n",
    "\n",
    "    tl = pyknp.TList()\n",
    "    tags = bl.tag_list()\n",
    "    for tag in tags:\n",
    "        tl.push_tag(tag)\n",
    "    nodelines = tl.sprint_tree().split(u\"\\n\")[:-1]\n",
    "\n",
    "    outf.write(u\"# S-ID: %s\\n\" % bl.sid)\n",
    "\n",
    "    for i, nl in enumerate(nodelines):\n",
    "        outf.write(nl)\n",
    "        outf.write(u\"\\t\")\n",
    "        outf.write(u\"/ \")\n",
    "        pas = tags[i].features.pas\n",
    "        if pas is not None:\n",
    "            outf.write(pas.cfid)\n",
    "            outf.write(u\"\\t\")\n",
    "            for casename, arglist in sorted(pas.arguments.items()):\n",
    "                for arg in arglist:\n",
    "                    if arg.sid == bl.sid:\n",
    "                        if hasattr(tags[arg.tid], 'head_prime_repname') \\\n",
    "                                and tags[arg.tid].head_prime_repname:\n",
    "                            rep = tags[arg.tid].head_prime_repname\n",
    "                        else:\n",
    "                            rep = tags[arg.tid].repname\n",
    "                    else:\n",
    "                        rep = u\"<sid=%s,tid=%s>\" % (arg.sid, arg.tid)\n",
    "                    outf.write(u\"%s:%s \" % (casename, rep))\n",
    "\n",
    "        outf.write(u\"/ \")\n",
    "        rels = tags[i].features.rels\n",
    "        if rels is not None:\n",
    "            for rel in sorted(rels, key=lambda x: x.atype):\n",
    "                outf.write(u\"%s:%s \" % (rel.atype, rel.target))\n",
    "        outf.write(u\"\\n\")\n",
    "\n",
    "    outf.write(u\"\\n\\n\")\n",
    "\n",
    "\n",
    "def draw_trees(inf, outf, lattice_format):\n",
    "    juman_format = pyknp.JUMAN_FORMAT.DEFAULT\n",
    "    if lattice_format:\n",
    "        juman_format = pyknp.JUMAN_FORMAT.LATTICE_TOP_ONE\n",
    "    lines = []\n",
    "    for line in inf:\n",
    "        lines.append(line)\n",
    "        if line == u\"EOS\\n\":\n",
    "            bl = pyknp.BList(u\"\".join(lines), juman_format=juman_format)\n",
    "            draw_tree(bl, outf)\n",
    "            lines = []"
   ]
  },
  {
   "cell_type": "code",
   "execution_count": 9,
   "metadata": {
    "ExecuteTime": {
     "end_time": "2019-05-13T09:04:26.284214Z",
     "start_time": "2019-05-13T09:04:26.279865Z"
    }
   },
   "outputs": [
    {
     "name": "stdout",
     "output_type": "stream",
     "text": [
      "start .."
     ]
    }
   ],
   "source": [
    "outf = sys.stdout\n",
    "inf=[\"インストールが終わったら動作チェックをします。\"]\n",
    "outf.write('start ..')\n",
    "# draw_trees(inf, outf, False)"
   ]
  },
  {
   "cell_type": "code",
   "execution_count": 36,
   "metadata": {
    "ExecuteTime": {
     "end_time": "2019-05-14T21:30:04.606834Z",
     "start_time": "2019-05-14T21:30:03.889681Z"
    }
   },
   "outputs": [
    {
     "name": "stdout",
     "output_type": "stream",
     "text": [
      "# S-ID: 1\n",
      "   望遠n┐　　　\t/ / \n",
      "    鏡nでp──┐\t/ / \n",
      "泳いでvいるs┐│\t/ 泳ぐ/およぐ:動16\tガ:少女/しょうじょ / \n",
      "      少女nをp┤\t/ / \n",
      "        見たv。*\t/ 見る/みる:動1\tデ:鏡/きょう?鏡/かがみ ヲ:少女/しょうじょ / \n",
      "\n",
      "\n"
     ]
    }
   ],
   "source": [
    "knp = KNP()\n",
    "result = knp.parse(\"望遠鏡で泳いでいる少女を見た。\")\n",
    "draw_tree(result, outf)"
   ]
  },
  {
   "cell_type": "code",
   "execution_count": 39,
   "metadata": {
    "ExecuteTime": {
     "end_time": "2019-05-14T21:30:16.803628Z",
     "start_time": "2019-05-14T21:30:16.698568Z"
    }
   },
   "outputs": [
    {
     "name": "stdout",
     "output_type": "stream",
     "text": [
      "述語: 言いますか？\n",
      "\t格: ガ,  項: これ  (項の基本句ID: 0)\n",
      "\t格: デ,  項: 語  (項の基本句ID: 2)\n",
      "\t格: 修飾,  項: 何と  (項の基本句ID: 3)\n",
      "これ/これ  -> 言う/いう ます/ます  \n",
      "日本/にほん 語/ご  -> 言う/いう ます/ます  \n",
      "何と/なんと -> 言う/いう ます/ます  \n",
      "# S-ID: 4\n",
      "これdはp───┐\t/ / \n",
      "     日本C┐　│\t/ / \n",
      "      語nでp─┤\t/ / \n",
      "         何とa┤\t/ / \n",
      "言いvますsかp？*\t/ 言う/いう:動4\tガ:これ/これ デ:語/ご 修飾:何と/なんと / \n",
      "\n",
      "\n"
     ]
    }
   ],
   "source": [
    "def procs(sent):\n",
    "    result = knp.parse(sent)\n",
    "    predicates(result)\n",
    "    dump_deps(result)\n",
    "    draw_tree(result, outf)\n",
    "\n",
    "procs('これは日本語で何と言いますか？')"
   ]
  },
  {
   "cell_type": "code",
   "execution_count": 41,
   "metadata": {
    "ExecuteTime": {
     "end_time": "2019-05-14T21:30:36.446217Z",
     "start_time": "2019-05-14T21:30:36.336067Z"
    }
   },
   "outputs": [
    {
     "name": "stdout",
     "output_type": "stream",
     "text": [
      "述語: 行きますか？\n",
      "\t格: マデ,  項: 店  (項の基本句ID: 1)\n",
      "\t格: 修飾,  項: どう  (項の基本句ID: 2)\n",
      "この/この -> 御/お 店/みせ  \n",
      "御/お 店/みせ   -> 行く/いく ます/ます  \n",
      "どう/どう -> 行く/いく ます/ます  \n",
      "# S-ID: 6\n",
      "       このd┐　　\t/ / \n",
      "おp店nまでpはp─┐\t/ / \n",
      "           どうd┤\t/ / \n",
      "  行きvますsかp？*\t/ 行く/いく:動9\tマデ:店/みせ?店/てん 修飾:どう/どう / \n",
      "\n",
      "\n"
     ]
    }
   ],
   "source": [
    "procs('このお店まではどう行きますか？')"
   ]
  },
  {
   "cell_type": "code",
   "execution_count": 32,
   "metadata": {
    "ExecuteTime": {
     "end_time": "2019-05-13T19:14:36.899374Z",
     "start_time": "2019-05-13T19:14:36.474884Z"
    }
   },
   "outputs": [
    {
     "name": "stdout",
     "output_type": "stream",
     "text": [
      "述語: 使えますか？\n",
      "\t格: ガ,  項: インターネット  (項の基本句ID: 2)\n",
      "\t格: デ,  項: 部屋  (項の基本句ID: 1)\n",
      "その/その -> 部屋/部屋 \n",
      "部屋/部屋  -> 使える/つかえる ます/ます  \n",
      "インターネット/いんたーねっと  -> 使える/つかえる ます/ます  \n",
      "# S-ID: 7\n",
      "         そのd┐　　\t/ / \n",
      "        部屋Cでp─┐\t/ / \n",
      "インターネットnはp┤\t/ / \n",
      "    使えvますsかp？*\t/ 使える/つかえる:動1\tガ:インターネット/いんたーねっと デ:部屋/部屋 / \n",
      "\n",
      "\n"
     ]
    }
   ],
   "source": [
    "procs('その部屋でインターネットは使えますか？')"
   ]
  },
  {
   "cell_type": "code",
   "execution_count": 19,
   "metadata": {
    "ExecuteTime": {
     "end_time": "2019-05-13T12:28:02.822873Z",
     "start_time": "2019-05-13T12:28:02.027068Z"
    }
   },
   "outputs": [
    {
     "name": "stdout",
     "output_type": "stream",
     "text": [
      "なのは,が,なのはな,と,ごっちゃ,な,の,は,よみ,にくい\n"
     ]
    }
   ],
   "source": [
    "# ⊕ [jumanpp/python_knp.py at master · ku-nlp/jumanpp](https://github.com/ku-nlp/jumanpp/blob/master/sample/python_knp.py)\n",
    "\n",
    "from pyknp import KNP\n",
    "import sys\n",
    "import codecs\n",
    "\n",
    "# Use Juman with KNP\n",
    "knp_with_juman = KNP()\n",
    "result = knp_with_juman.parse(u\"なのはがなのはなとごっちゃなのはよみにくい\")\n",
    "print(','.join(mrph.midasi for bunsetsu in result for mrph in bunsetsu.mrph_list()))"
   ]
  },
  {
   "cell_type": "code",
   "execution_count": 13,
   "metadata": {
    "ExecuteTime": {
     "end_time": "2019-05-13T12:25:08.145968Z",
     "start_time": "2019-05-13T12:25:06.949935Z"
    }
   },
   "outputs": [
    {
     "name": "stdout",
     "output_type": "stream",
     "text": [
      "なのは,が,なのはな,と,ごっちゃ,な,の,は,よみ,にくい\n"
     ]
    }
   ],
   "source": [
    "# Use Juman++ with KNP\n",
    "knp_with_jumanpp = KNP(jumancommand=\"jumanpp\")\n",
    "result = knp_with_jumanpp.parse(u\"なのはがなのはなとごっちゃなのはよみにくい\")\n",
    "print(','.join(mrph.midasi for bunsetsu in result for mrph in bunsetsu.mrph_list() ))"
   ]
  },
  {
   "cell_type": "code",
   "execution_count": 18,
   "metadata": {
    "ExecuteTime": {
     "end_time": "2019-05-13T12:27:25.698404Z",
     "start_time": "2019-05-13T12:27:25.557008Z"
    }
   },
   "outputs": [
    {
     "name": "stdout",
     "output_type": "stream",
     "text": [
      "なのは,が,なのはな,と,ごっちゃ,な,の,は,よみ,にくい\n"
     ]
    }
   ],
   "source": [
    "result = knp_with_jumanpp.parse(u\"なのはがなのはなとごっちゃなのはよみにくい\")\n",
    "print(','.join(mrph.midasi for bunsetsu in result for mrph in bunsetsu.mrph_list() ))"
   ]
  },
  {
   "cell_type": "code",
   "execution_count": 14,
   "metadata": {
    "ExecuteTime": {
     "end_time": "2019-05-13T12:25:29.214265Z",
     "start_time": "2019-05-13T12:25:29.205142Z"
    }
   },
   "outputs": [
    {
     "name": "stdout",
     "output_type": "stream",
     "text": [
      "ID:0, 見出し:なのはが, 係り受けタイプ:D, 親文節ID:3, 素性:<文頭><人名><ガ><助詞><体言><係:ガ格><区切:0-0><格要素><連用要素><名詞項候補><先行詞候補><SM-人><SM-主体><正規化代表表記:なのは/なのは><解析格:ガ>\n",
      "ID:1, 見出し:なのはなと, 係り受けタイプ:P, 親文節ID:2, 素性:<ト><助詞><体言><係:ト格><並キ:名><区切:1-2><並列タイプ:AND><格要素><連用要素><名詞項候補><先行詞候補><正規化代表表記:菜の花/なのはな>\n",
      "ID:2, 見出し:ごっちゃなのは, 係り受けタイプ:D, 親文節ID:3, 素性:<ハ><助詞><体言><用言:判><係:未格><レベル:B><区切:5-5><ID:〜の〜><提題受:10><格要素><連用要素><状態述語><判定詞><名詞項候補><先行詞候補><正規化代表表記:ごっちゃ/ごっちゃ><用言代表表記:ごっちゃ/ごっちゃ><時制-無時制><格解析結果:ごっちゃ/ごっちゃ:判0:ガ/U/-/-/-/-><解析格:ヲ>\n",
      "ID:3, 見出し:よみにくい, 係り受けタイプ:D, 親文節ID:-1, 素性:<文末><準否定表現><態:可能><〜にくい><用言:動><レベル:C><区切:5-5><ID:（文末）><提題受:30><主節><動態述語><正規化代表表記:読む/よむ?詠む/よむ><用言代表表記:読む/よむ+にくい/にくい?詠む/よむ+にくい/にくい><時制-未来><主題格:一人称優位><格関係0:ガ:なのは><格関係2:ヲ:ごっちゃ><格解析結果:詠む/よむ:動2:ガ/C/なのは/0/0/1;ヲ/N/なのはな/1/0/1;ヲ/N/ごっちゃ/2/0/1;ニ/U/-/-/-/-;ト/U/-/-/-/-;デ/U/-/-/-/-;カラ/U/-/-/-/-;ヨリ/U/-/-/-/-;時間/U/-/-/-/-;外の関係/U/-/-/-/-;ノ/U/-/-/-/-;修飾/U/-/-/-/-;トスル/U/-/-/-/->\n"
     ]
    }
   ],
   "source": [
    "# loop for tag (kihonku, basic phrase)\n",
    "for tag in result.tag_list():\n",
    "    print(u\"ID:%s, 見出し:%s, 係り受けタイプ:%s, 親文節ID:%s, 素性:%s\" \\\n",
    "    % (tag.tag_id, \"\".join(mrph.midasi for mrph in tag.mrph_list()),\n",
    "    tag.dpndtype, tag.parent_id, tag.fstring))"
   ]
  },
  {
   "cell_type": "code",
   "execution_count": 15,
   "metadata": {
    "ExecuteTime": {
     "end_time": "2019-05-13T12:26:47.494181Z",
     "start_time": "2019-05-13T12:26:47.486929Z"
    }
   },
   "outputs": [
    {
     "name": "stdout",
     "output_type": "stream",
     "text": [
      "見出し:なのは, 読み:なのは, 原形:なのは, 品詞:名詞, 品詞細分類:人名, 活用型:*, 活用形:*, 意味情報:自動獲得:Wikipedia Wikipedia人名 Wikipedia名 Wikipedia多義 疑似代表表記 代表表記:なのは/なのは, 代表表記:なのは/なのは\n",
      "見出し:が, 読み:が, 原形:が, 品詞:助詞, 品詞細分類:格助詞, 活用型:*, 活用形:*, 意味情報:NIL, 代表表記:\n",
      "見出し:なのはな, 読み:なのはな, 原形:なのはな, 品詞:名詞, 品詞細分類:普通名詞, 活用型:*, 活用形:*, 意味情報:代表表記:菜の花/なのはな カテゴリ:植物 ドメイン:料理・食事, 代表表記:菜の花/なのはな\n",
      "見出し:と, 読み:と, 原形:と, 品詞:助詞, 品詞細分類:格助詞, 活用型:*, 活用形:*, 意味情報:NIL, 代表表記:\n",
      "見出し:ごっちゃ, 読み:ごっちゃ, 原形:ごっちゃ, 品詞:名詞, 品詞細分類:普通名詞, 活用型:*, 活用形:*, 意味情報:代表表記:ごっちゃ/ごっちゃ 副詞識別 自動獲得:テキスト, 代表表記:ごっちゃ/ごっちゃ\n",
      "見出し:な, 読み:な, 原形:だ, 品詞:判定詞, 品詞細分類:*, 活用型:判定詞, 活用形:ダ列基本連体形, 意味情報:NIL, 代表表記:\n",
      "見出し:の, 読み:の, 原形:のだ, 品詞:助動詞, 品詞細分類:*, 活用型:ナ形容詞, 活用形:語幹, 意味情報:NIL, 代表表記:\n",
      "見出し:は, 読み:は, 原形:は, 品詞:助詞, 品詞細分類:副助詞, 活用型:*, 活用形:*, 意味情報:NIL, 代表表記:\n",
      "見出し:よみ, 読み:よみ, 原形:よむ, 品詞:動詞, 品詞細分類:*, 活用型:子音動詞マ行, 活用形:基本連用形, 意味情報:代表表記:詠む/よむ ドメイン:文化・芸術, 代表表記:詠む/よむ\n",
      "見出し:にくい, 読み:にくい, 原形:にくい, 品詞:接尾辞, 品詞細分類:形容詞性述語接尾辞, 活用型:イ形容詞アウオ段, 活用形:基本形, 意味情報:代表表記:にくい/にくい 反義:接尾辞-形容詞性述語接尾辞:やすい/やすい, 代表表記:にくい/にくい\n"
     ]
    }
   ],
   "source": [
    "# loop for mrph\n",
    "for mrph in result.mrph_list():\n",
    "    print(u\"見出し:%s, 読み:%s, 原形:%s, 品詞:%s, 品詞細分類:%s, 活用型:%s, 活用形:%s, 意味情報:%s, 代表表記:%s\" \\\n",
    "    % (mrph.midasi, mrph.yomi, mrph.genkei, mrph.hinsi, mrph.bunrui,\n",
    "    mrph.katuyou1, mrph.katuyou2, mrph.imis, mrph.repname))"
   ]
  }
 ],
 "metadata": {
  "kernelspec": {
   "display_name": "Python 3",
   "language": "python",
   "name": "python3"
  },
  "language_info": {
   "codemirror_mode": {
    "name": "ipython",
    "version": 3
   },
   "file_extension": ".py",
   "mimetype": "text/x-python",
   "name": "python",
   "nbconvert_exporter": "python",
   "pygments_lexer": "ipython3",
   "version": "3.6.4"
  },
  "varInspector": {
   "cols": {
    "lenName": 16,
    "lenType": 16,
    "lenVar": 40
   },
   "kernels_config": {
    "python": {
     "delete_cmd_postfix": "",
     "delete_cmd_prefix": "del ",
     "library": "var_list.py",
     "varRefreshCmd": "print(var_dic_list())"
    },
    "r": {
     "delete_cmd_postfix": ") ",
     "delete_cmd_prefix": "rm(",
     "library": "var_list.r",
     "varRefreshCmd": "cat(var_dic_list()) "
    }
   },
   "types_to_exclude": [
    "module",
    "function",
    "builtin_function_or_method",
    "instance",
    "_Feature"
   ],
   "window_display": false
  }
 },
 "nbformat": 4,
 "nbformat_minor": 2
}
