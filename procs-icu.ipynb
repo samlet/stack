{
 "cells": [
  {
   "cell_type": "code",
   "execution_count": 1,
   "metadata": {
    "ExecuteTime": {
     "end_time": "2019-10-07T20:09:04.950643Z",
     "start_time": "2019-10-07T20:09:04.851371Z"
    }
   },
   "outputs": [
    {
     "data": {
      "text/plain": [
       "'Psappho'"
      ]
     },
     "execution_count": 1,
     "metadata": {},
     "output_type": "execute_result"
    }
   ],
   "source": [
    "import icu\n",
    "tl = icu.Transliterator.createInstance('Any-Latin; Latin-ASCII')\n",
    "tl.transliterate('Ψάπφω')"
   ]
  },
  {
   "cell_type": "code",
   "execution_count": 3,
   "metadata": {
    "ExecuteTime": {
     "end_time": "2019-10-07T20:10:42.119003Z",
     "start_time": "2019-10-07T20:10:42.106412Z"
    }
   },
   "outputs": [
    {
     "data": {
      "text/plain": [
       "'\\u202bʿaylty hna.\\u202c'"
      ]
     },
     "execution_count": 3,
     "metadata": {},
     "output_type": "execute_result"
    }
   ],
   "source": [
    "tl = icu.Transliterator.createInstance('Any-Latin; Latin-ASCII')\n",
    "tl.transliterate('‫عائلتي هنا.‬')"
   ]
  },
  {
   "cell_type": "code",
   "execution_count": 6,
   "metadata": {
    "ExecuteTime": {
     "end_time": "2019-10-07T20:14:11.708188Z",
     "start_time": "2019-10-07T20:14:11.685450Z"
    }
   },
   "outputs": [
    {
     "data": {
      "text/plain": [
       "'\\u202bʿạỷlty hnạ.\\u202c'"
      ]
     },
     "execution_count": 6,
     "metadata": {},
     "output_type": "execute_result"
    }
   ],
   "source": [
    "tl = icu.Transliterator.createInstance('Any-Latin; Latin')\n",
    "tl.transliterate('‫عائلتي هنا.‬')"
   ]
  }
 ],
 "metadata": {
  "kernelspec": {
   "display_name": "Python 3",
   "language": "python",
   "name": "python3"
  },
  "language_info": {
   "codemirror_mode": {
    "name": "ipython",
    "version": 3
   },
   "file_extension": ".py",
   "mimetype": "text/x-python",
   "name": "python",
   "nbconvert_exporter": "python",
   "pygments_lexer": "ipython3",
   "version": "3.6.4"
  },
  "varInspector": {
   "cols": {
    "lenName": 16,
    "lenType": 16,
    "lenVar": 40
   },
   "kernels_config": {
    "python": {
     "delete_cmd_postfix": "",
     "delete_cmd_prefix": "del ",
     "library": "var_list.py",
     "varRefreshCmd": "print(var_dic_list())"
    },
    "r": {
     "delete_cmd_postfix": ") ",
     "delete_cmd_prefix": "rm(",
     "library": "var_list.r",
     "varRefreshCmd": "cat(var_dic_list()) "
    }
   },
   "types_to_exclude": [
    "module",
    "function",
    "builtin_function_or_method",
    "instance",
    "_Feature"
   ],
   "window_display": false
  }
 },
 "nbformat": 4,
 "nbformat_minor": 2
}
