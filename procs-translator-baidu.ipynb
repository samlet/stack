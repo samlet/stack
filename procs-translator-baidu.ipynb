{
 "cells": [
  {
   "cell_type": "code",
   "execution_count": 1,
   "metadata": {
    "ExecuteTime": {
     "end_time": "2019-08-09T08:57:30.611682Z",
     "start_time": "2019-08-09T08:57:27.701511Z"
    }
   },
   "outputs": [
    {
     "name": "stdout",
     "output_type": "stream",
     "text": [
      "[{'src': 'Würde er Deutschland lieben?', 'dst': 'Would he love Germany?'}]\n",
      "[{'src': 'Würde er Deutschland lieben?', 'dst': '彼はドイツが好きですか？'}]\n"
     ]
    }
   ],
   "source": [
    "from sagas.nlu.baidu_translator import BaiduTranslator\n",
    "from sagas.tool.misc import TransContext\n",
    "import time\n",
    "\n",
    "text='Würde er Deutschland lieben?'\n",
    "ctx=TransContext('de', 'en;ja', text, '')\n",
    "tr=BaiduTranslator()\n",
    "for t in ctx.targets.split(';'):\n",
    "    result=tr.trans(ctx.source, t, ctx.text)\n",
    "    print(result)\n",
    "    time.sleep(1.0)    \n",
    "    trans=result[0]['dst']\n",
    "    line = '[%s] ' % t[:2] + trans"
   ]
  },
  {
   "cell_type": "code",
   "execution_count": 7,
   "metadata": {
    "ExecuteTime": {
     "end_time": "2019-08-10T06:24:43.598041Z",
     "start_time": "2019-08-10T06:24:43.590679Z"
    }
   },
   "outputs": [
    {
     "data": {
      "text/plain": [
       "0.17902957339418768"
      ]
     },
     "execution_count": 7,
     "metadata": {},
     "output_type": "execute_result"
    }
   ],
   "source": [
    "import random\n",
    "random.uniform(0.05, 0.20)"
   ]
  }
 ],
 "metadata": {
  "kernelspec": {
   "display_name": "Python 3",
   "language": "python",
   "name": "python3"
  },
  "language_info": {
   "codemirror_mode": {
    "name": "ipython",
    "version": 3
   },
   "file_extension": ".py",
   "mimetype": "text/x-python",
   "name": "python",
   "nbconvert_exporter": "python",
   "pygments_lexer": "ipython3",
   "version": "3.6.4"
  },
  "varInspector": {
   "cols": {
    "lenName": 16,
    "lenType": 16,
    "lenVar": 40
   },
   "kernels_config": {
    "python": {
     "delete_cmd_postfix": "",
     "delete_cmd_prefix": "del ",
     "library": "var_list.py",
     "varRefreshCmd": "print(var_dic_list())"
    },
    "r": {
     "delete_cmd_postfix": ") ",
     "delete_cmd_prefix": "rm(",
     "library": "var_list.r",
     "varRefreshCmd": "cat(var_dic_list()) "
    }
   },
   "types_to_exclude": [
    "module",
    "function",
    "builtin_function_or_method",
    "instance",
    "_Feature"
   ],
   "window_display": false
  }
 },
 "nbformat": 4,
 "nbformat_minor": 2
}
