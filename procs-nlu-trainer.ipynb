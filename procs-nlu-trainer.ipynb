{
 "cells": [
  {
   "cell_type": "code",
   "execution_count": 2,
   "metadata": {
    "ExecuteTime": {
     "end_time": "2019-04-07T17:10:57.751362Z",
     "start_time": "2019-04-07T17:10:53.533850Z"
    }
   },
   "outputs": [
    {
     "name": "stderr",
     "output_type": "stream",
     "text": [
      "/Users/xiaofeiwu/miniconda3/envs/bigdata/lib/python3.6/site-packages/h5py/__init__.py:36: FutureWarning: Conversion of the second argument of issubdtype from `float` to `np.floating` is deprecated. In future, it will be treated as `np.float64 == np.dtype(float).type`.\n",
      "  from ._conv import register_converters as _register_converters\n"
     ]
    }
   ],
   "source": [
    "import logging\n",
    "\n",
    "from rasa_core import utils\n",
    "from rasa_core.agent import Agent\n",
    "from rasa_core.policies.memoization import MemoizationPolicy\n",
    "\n",
    "logger = logging.getLogger(__name__)"
   ]
  },
  {
   "cell_type": "code",
   "execution_count": null,
   "metadata": {},
   "outputs": [],
   "source": [
    "def train_nlu():\n",
    "    from rasa_nlu.training_data import load_data\n",
    "    from rasa_nlu import config\n",
    "    from rasa_nlu.model import Trainer\n",
    "\n",
    "    training_data = load_data('data/nlu_data.md')\n",
    "    trainer = Trainer(config.load(\"nlu_model_config.yml\"))\n",
    "    trainer.train(training_data)\n",
    "    model_directory = trainer.persist('models/nlu/',\n",
    "                                      fixed_model_name=\"current\")\n",
    "\n",
    "    return model_directory\n"
   ]
  },
  {
   "cell_type": "markdown",
   "metadata": {},
   "source": [
    "## command line\n",
    "```sh\n",
    "python -m sagas.bots.tools.corpus_procs gen_dataset corpus/cn-Samples_issue.md nlu_data/cn-Samples.json\n",
    "python -m sagas.bots.tools.corpus_procs gen_dataset corpus/cn-ConcertBot.md nlu_data/cn-ConcertBot.json\n",
    "\n",
    "python -m rasa_nlu.train \\\n",
    "    --config config.yml \\\n",
    "    --data nlu_data/ \\\n",
    "    --path projects \\\n",
    "    --fixed_model_name nlu \\\n",
    "    --project chinese\n",
    "```    "
   ]
  },
  {
   "cell_type": "code",
   "execution_count": 5,
   "metadata": {
    "ExecuteTime": {
     "end_time": "2019-04-07T17:31:32.393619Z",
     "start_time": "2019-04-07T17:31:32.384625Z"
    }
   },
   "outputs": [
    {
     "data": {
      "text/plain": [
       "['../chinese_hanlp/corpus/cn-Samples_issue.md',\n",
       " '../chinese_hanlp/corpus/cn-ConcertBot.md']"
      ]
     },
     "execution_count": 5,
     "metadata": {},
     "output_type": "execute_result"
    }
   ],
   "source": [
    "import io_utils\n",
    "proj_dir='../chinese_hanlp'\n",
    "corpus_dir=proj_dir+'/corpus'\n",
    "nlu_data_dir=proj_dir+'/nlu_data'\n",
    "io_utils.list_files(corpus_dir)"
   ]
  }
 ],
 "metadata": {
  "kernelspec": {
   "display_name": "Python 3",
   "language": "python",
   "name": "python3"
  },
  "language_info": {
   "codemirror_mode": {
    "name": "ipython",
    "version": 3
   },
   "file_extension": ".py",
   "mimetype": "text/x-python",
   "name": "python",
   "nbconvert_exporter": "python",
   "pygments_lexer": "ipython3",
   "version": "3.6.4"
  },
  "varInspector": {
   "cols": {
    "lenName": 16,
    "lenType": 16,
    "lenVar": 40
   },
   "kernels_config": {
    "python": {
     "delete_cmd_postfix": "",
     "delete_cmd_prefix": "del ",
     "library": "var_list.py",
     "varRefreshCmd": "print(var_dic_list())"
    },
    "r": {
     "delete_cmd_postfix": ") ",
     "delete_cmd_prefix": "rm(",
     "library": "var_list.r",
     "varRefreshCmd": "cat(var_dic_list()) "
    }
   },
   "types_to_exclude": [
    "module",
    "function",
    "builtin_function_or_method",
    "instance",
    "_Feature"
   ],
   "window_display": false
  }
 },
 "nbformat": 4,
 "nbformat_minor": 2
}
