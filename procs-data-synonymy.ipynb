{
 "cells": [
  {
   "cell_type": "code",
   "execution_count": 6,
   "metadata": {
    "ExecuteTime": {
     "end_time": "2019-06-13T19:59:23.942450Z",
     "start_time": "2019-06-13T19:59:23.923360Z"
    }
   },
   "outputs": [
    {
     "name": "stdout",
     "output_type": "stream",
     "text": [
      "1 <class 'ruamel.yaml.comments.CommentedMap'>\n",
      "find ☞ en(find, search), zh(查找, 找到, 搜索)\n"
     ]
    }
   ],
   "source": [
    "from ruamel.yaml import YAML\n",
    "yaml = YAML()\n",
    "with open('data/nlu/common.yml') as fp:\n",
    "    str_data = fp.read()\n",
    "data = yaml.load(str_data)\n",
    "print(len(data), type(data))\n",
    "for sk,sv in data['synonymy'].items():\n",
    "    print(sk, \"☞ en(%s), zh(%s)\"%(sv['en'], sv['zh']))"
   ]
  }
 ],
 "metadata": {
  "kernelspec": {
   "display_name": "Python 3",
   "language": "python",
   "name": "python3"
  },
  "language_info": {
   "codemirror_mode": {
    "name": "ipython",
    "version": 3
   },
   "file_extension": ".py",
   "mimetype": "text/x-python",
   "name": "python",
   "nbconvert_exporter": "python",
   "pygments_lexer": "ipython3",
   "version": "3.6.4"
  },
  "varInspector": {
   "cols": {
    "lenName": 16,
    "lenType": 16,
    "lenVar": 40
   },
   "kernels_config": {
    "python": {
     "delete_cmd_postfix": "",
     "delete_cmd_prefix": "del ",
     "library": "var_list.py",
     "varRefreshCmd": "print(var_dic_list())"
    },
    "r": {
     "delete_cmd_postfix": ") ",
     "delete_cmd_prefix": "rm(",
     "library": "var_list.r",
     "varRefreshCmd": "cat(var_dic_list()) "
    }
   },
   "types_to_exclude": [
    "module",
    "function",
    "builtin_function_or_method",
    "instance",
    "_Feature"
   ],
   "window_display": false
  }
 },
 "nbformat": 4,
 "nbformat_minor": 2
}
