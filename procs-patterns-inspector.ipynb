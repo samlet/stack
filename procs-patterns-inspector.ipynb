{
 "cells": [
  {
   "cell_type": "code",
   "execution_count": 29,
   "metadata": {
    "ExecuteTime": {
     "end_time": "2019-08-01T16:21:24.856666Z",
     "start_time": "2019-08-01T16:21:24.822555Z"
    }
   },
   "outputs": [
    {
     "data": {
      "text/plain": [
       "{'data': [{'body': 'tomorrow at eight',\n",
       "   'dim': 'time',\n",
       "   'end': 17,\n",
       "   'latent': False,\n",
       "   'start': 0,\n",
       "   'value': {'grain': 'hour',\n",
       "    'type': 'value',\n",
       "    'value': '2019-08-02T08:00:00.000-07:00',\n",
       "    'values': [{'grain': 'hour',\n",
       "      'type': 'value',\n",
       "      'value': '2019-08-02T08:00:00.000-07:00'},\n",
       "     {'grain': 'hour',\n",
       "      'type': 'value',\n",
       "      'value': '2019-08-02T20:00:00.000-07:00'}]}}],\n",
       " 'result': 'success'}"
      ]
     },
     "execution_count": 29,
     "metadata": {},
     "output_type": "execute_result"
    }
   ],
   "source": [
    "import time\n",
    "import requests\n",
    "import json\n",
    "\n",
    "current_milli_time = lambda: int(round(time.time() * 1000))\n",
    "locale_mappings={'en':'en_GB', 'ru':'ru_Nothing',\n",
    "                 'es':'es_Nothing', 'fr':'fr_Nothing',\n",
    "                 'de':'de_Nothing', 'ja':'ja_Nothing',\n",
    "                 'zh':'zh_CN'\n",
    "                }\n",
    "def query_duckling(text, lang):\n",
    "    if lang in locale_mappings:\n",
    "        locale=locale_mappings[lang]\n",
    "    else:\n",
    "        return {'result':'fail', 'cause':\"unsupport lang\"}\n",
    "    data={'locale':locale, 'text':text, 'reftime':current_milli_time()}\n",
    "    response = requests.post('http://0.0.0.0:8000/parse', data=data)\n",
    "    if response.status_code == 200:\n",
    "        r=response.json()\n",
    "        # print(json.dumps(r, indent=2, ensure_ascii=False))\n",
    "        return {'result':'success', 'data':r}\n",
    "    return {'result':'fail', 'cause':'error response'}\n",
    "\n",
    "resp=query_duckling('tomorrow at eight', 'en')\n",
    "resp"
   ]
  },
  {
   "cell_type": "code",
   "execution_count": 8,
   "metadata": {
    "ExecuteTime": {
     "end_time": "2019-08-01T15:52:33.833495Z",
     "start_time": "2019-08-01T15:52:33.793203Z"
    }
   },
   "outputs": [
    {
     "data": {
      "text/plain": [
       "{'data': [{'end': 15, 'entity': 'GPE', 'start': 10, 'text': 'China'}],\n",
       " 'result': 'success'}"
      ]
     },
     "execution_count": 8,
     "metadata": {},
     "output_type": "execute_result"
    }
   ],
   "source": [
    "def query_entities(data):\n",
    "    response = requests.post('http://localhost:8092/entities', json=data)\n",
    "    if response.status_code == 200:\n",
    "        r=response.json()\n",
    "        return {'result':'success', 'data':r}\n",
    "    return {'result':'fail', 'cause':'error response'}\n",
    "ents=query_entities({\"lang\":\"en\", \"sents\":\"I am from China\"})\n",
    "ents"
   ]
  },
  {
   "cell_type": "code",
   "execution_count": 9,
   "metadata": {
    "ExecuteTime": {
     "end_time": "2019-08-01T15:52:59.586241Z",
     "start_time": "2019-08-01T15:52:59.579302Z"
    }
   },
   "outputs": [
    {
     "data": {
      "text/plain": [
       "['GPE']"
      ]
     },
     "execution_count": 9,
     "metadata": {},
     "output_type": "execute_result"
    }
   ],
   "source": [
    "[d['entity'] for d in ents['data']]"
   ]
  },
  {
   "cell_type": "code",
   "execution_count": 14,
   "metadata": {
    "ExecuteTime": {
     "end_time": "2019-08-01T13:56:21.226630Z",
     "start_time": "2019-08-01T13:56:21.219818Z"
    }
   },
   "outputs": [
    {
     "data": {
      "text/plain": [
       "['time']"
      ]
     },
     "execution_count": 14,
     "metadata": {},
     "output_type": "execute_result"
    }
   ],
   "source": [
    "[d['dim'] for d in resp['data']]"
   ]
  },
  {
   "cell_type": "code",
   "execution_count": 25,
   "metadata": {
    "ExecuteTime": {
     "end_time": "2019-08-01T16:13:54.227536Z",
     "start_time": "2019-08-01T16:13:53.980933Z"
    }
   },
   "outputs": [
    {
     "name": "stdout",
     "output_type": "stream",
     "text": [
      "{'type': 'verb_domains', 'verb': 'har', 'index': '2', 'rel': 'root', 'governor': 0, 'domains': [['nsubj', '1', 'Han', 'han', ['Han'], ['c_pron']], ['advmod', '3', 'ikke', 'ikke', ['ikke'], ['c_adv']], ['obj', '4', 'tøjet', 'tøj', ['tøjet'], ['c_noun']], ['compound:prt', '5', 'på', 'på', ['på'], ['c_adv']], ['punct', '6', '.', '.', ['.'], ['c_punct']]]}\n",
      "\u001b[31m✔\u001b[0m [\u001b[31mverb with nsubj is ['c_pron', 'c_noun']: True, obj is ['c_pron', 'c_noun']: True\u001b[0m]\n",
      "\u001b[31m✔\u001b[0m [\u001b[31mverb with nsubj is ['c_pron', 'c_noun']: True, obj is ['c_pron', 'c_noun']: True, advmod is Inspector('ins_negative_word'): True\u001b[0m]\n",
      "✖ [\u001b[36mverb with nsubj:pass is ['c_pron', 'c_noun']: False, obl is Inspector('ins_date'): False\u001b[0m]\n",
      "✖ [\u001b[36mverb with nsubj:pass is ['c_pron', 'c_noun']: False, obl is Inspector('ins_entity'): False\u001b[0m]\n"
     ]
    }
   ],
   "source": [
    "import requests\n",
    "from sagas.nlu.patterns import Patterns, print_result, Inspector\n",
    "\n",
    "class NegativeWordInspector(Inspector):        \n",
    "    def name(self):\n",
    "        return \"ins_negative_word\"\n",
    "\n",
    "    def run(self, key, ctx):\n",
    "        result=False\n",
    "        # domains=dispatcher.domains\n",
    "        if ctx.meta['lang']=='da':\n",
    "            if 'ikke' in ctx.chunks[key] or 'ikke'==ctx.lemmas[key]:\n",
    "                result=True\n",
    "        return result\n",
    "\n",
    "class DateInspector(Inspector):     \n",
    "    def __init__(self, dim):\n",
    "        self.dim=dim\n",
    "        \n",
    "    def name(self):\n",
    "        return \"ins_date\"\n",
    "\n",
    "    def run(self, key, ctx):\n",
    "        result=False\n",
    "        lang=ctx.meta['lang']\n",
    "        cnt=' '.join(ctx.chunks[key])\n",
    "        print('date ins ->', cnt)\n",
    "        resp=query_duckling(cnt, lang)\n",
    "        if resp['result']=='success':\n",
    "            if self.dim in [d['dim'] for d in resp['data']]:\n",
    "                result=True\n",
    "        return result\n",
    "\n",
    "class EntityInspector(Inspector):     \n",
    "    def __init__(self, dim):\n",
    "        self.dim=dim\n",
    "        \n",
    "    def name(self):\n",
    "        return \"ins_entity\"\n",
    "\n",
    "    def run(self, key, ctx):\n",
    "        result=False\n",
    "        lang=ctx.meta['lang']\n",
    "        cnt=' '.join(ctx.chunks[key])\n",
    "        resp=query_entities({'lang':lang, 'sents':cnt})\n",
    "        if resp['result']=='success':\n",
    "            dims=[d['entity'] for d in resp['data']]\n",
    "            print('entities ->', ', '.join(dims))\n",
    "            if self.dim in dims:\n",
    "                print('%s ∈'%cnt, self.dim)\n",
    "                result=True\n",
    "        return result\n",
    "\n",
    "def procs(data):\n",
    "    response = requests.post('http://localhost:8090/verb_domains', json=data)\n",
    "    rs = response.json()\n",
    "    r=rs[0]\n",
    "    print(r)\n",
    "    domains=r['domains']\n",
    "    meta={'rel':r['rel'], **data}\n",
    "    agency=['c_pron', 'c_noun']\n",
    "    rs=[Patterns(domains, meta, 1).verb(nsubj=agency, obj=agency),\n",
    "        Patterns(domains, meta, 2).verb(nsubj=agency, obj=agency, advmod=NegativeWordInspector()),\n",
    "        Patterns(domains, meta, 2).verb(nsubj_pass=agency, obl=DateInspector('time')),\n",
    "        Patterns(domains, meta, 2).verb(nsubj_pass=agency, obl=EntityInspector('GPE')),\n",
    "       ]\n",
    "    print_result(rs)\n",
    "\n",
    "text='Han har ikke tøjet på.'\n",
    "data = {'lang': 'da', \"sents\": text}\n",
    "procs(data)"
   ]
  },
  {
   "cell_type": "code",
   "execution_count": 23,
   "metadata": {
    "ExecuteTime": {
     "end_time": "2019-08-01T16:13:16.429307Z",
     "start_time": "2019-08-01T16:13:16.226977Z"
    }
   },
   "outputs": [
    {
     "name": "stdout",
     "output_type": "stream",
     "text": [
      "{'type': 'verb_domains', 'verb': 'born', 'index': '3', 'rel': 'root', 'governor': 0, 'domains': [['nsubj:pass', '1', 'I', 'I', ['I'], ['c_pron', 'x_prp']], ['aux:pass', '2', 'was', 'be', ['was'], ['c_aux', 'x_vbd']], ['obl', '5', 'Beijing', 'Beijing', ['in', 'Beijing'], ['c_propn', 'x_nnp']], ['obl', '8', 'spring', 'spring', ['in', 'the', 'spring', 'of', '1982'], ['c_noun', 'x_nn']], ['punct', '11', '.', '.', ['.'], ['c_punct', 'x_.']]]}\n",
      "date ins -> in the spring of 1982\n",
      "entities DATE\n",
      "✖ [\u001b[36mverb with nsubj is ['c_pron', 'c_noun']: False, obj is ['c_pron', 'c_noun']: False\u001b[0m]\n",
      "✖ [\u001b[36mverb with nsubj is ['c_pron', 'c_noun']: False, obj is ['c_pron', 'c_noun']: False, advmod is Inspector('ins_negative_word'): False\u001b[0m]\n",
      "\u001b[31m✔\u001b[0m [\u001b[31mverb with nsubj:pass is ['c_pron', 'c_noun']: True, obl is Inspector('ins_date'): True\u001b[0m]\n",
      "✖ [\u001b[36mverb with nsubj:pass is ['c_pron', 'c_noun']: True, obl is Inspector('ins_entity'): False\u001b[0m]\n"
     ]
    }
   ],
   "source": [
    "# text='I was born in the spring of 1982.'\n",
    "text='I was born in Beijing in the spring of 1982.'\n",
    "data = {'lang': 'en', \"sents\": text}\n",
    "procs(data)"
   ]
  },
  {
   "cell_type": "code",
   "execution_count": 28,
   "metadata": {
    "ExecuteTime": {
     "end_time": "2019-08-01T16:19:40.395554Z",
     "start_time": "2019-08-01T16:19:40.242463Z"
    }
   },
   "outputs": [
    {
     "name": "stdout",
     "output_type": "stream",
     "text": [
      "{'type': 'verb_domains', 'verb': 'born', 'index': '3', 'rel': 'root', 'governor': 0, 'domains': [['nsubj:pass', '1', 'I', 'I', ['I'], ['c_pron', 'x_prp']], ['aux:pass', '2', 'was', 'be', ['was'], ['c_aux', 'x_vbd']], ['obl', '5', 'Beijing', 'Beijing', ['in', 'Beijing'], ['c_propn', 'x_nnp']], ['punct', '6', '.', '.', ['.'], ['c_punct', 'x_.']]]}\n",
      "date ins -> in Beijing\n",
      "entities -> GPE\n",
      "in Beijing ∈ GPE\n",
      "✖ [\u001b[36mverb with nsubj is ['c_pron', 'c_noun']: False, obj is ['c_pron', 'c_noun']: False\u001b[0m]\n",
      "✖ [\u001b[36mverb with nsubj is ['c_pron', 'c_noun']: False, obj is ['c_pron', 'c_noun']: False, advmod is Inspector('ins_negative_word'): False\u001b[0m]\n",
      "✖ [\u001b[36mverb with nsubj:pass is ['c_pron', 'c_noun']: True, obl is Inspector('ins_date'): False\u001b[0m]\n",
      "\u001b[31m✔\u001b[0m [\u001b[31mverb with nsubj:pass is ['c_pron', 'c_noun']: True, obl is Inspector('ins_entity'): True\u001b[0m]\n"
     ]
    }
   ],
   "source": [
    "text='I was born in Beijing.'\n",
    "data = {'lang': 'en', \"sents\": text}\n",
    "procs(data)"
   ]
  },
  {
   "cell_type": "code",
   "execution_count": 10,
   "metadata": {
    "ExecuteTime": {
     "end_time": "2019-08-01T13:20:38.151881Z",
     "start_time": "2019-08-01T13:20:38.133593Z"
    }
   },
   "outputs": [
    {
     "data": {
      "text/plain": [
       "{'x': 5, 'y': 6}"
      ]
     },
     "execution_count": 10,
     "metadata": {},
     "output_type": "execute_result"
    }
   ],
   "source": [
    "x={'y':6}\n",
    "r={'x':5, **x}\n",
    "r"
   ]
  },
  {
   "cell_type": "code",
   "execution_count": 38,
   "metadata": {
    "ExecuteTime": {
     "end_time": "2019-08-01T16:34:30.526829Z",
     "start_time": "2019-08-01T16:34:30.512437Z"
    }
   },
   "outputs": [
    {
     "name": "stdout",
     "output_type": "stream",
     "text": [
      "{'x_x': 5, 'x_2': 6}\n",
      "x_x 5\n",
      "x 6\n"
     ]
    }
   ],
   "source": [
    "def trip_number_suffix(k):\n",
    "    if k[-2]=='_' and k[-1].isdigit():\n",
    "        return k[:-2]\n",
    "    return k\n",
    "def service_method(*args, **kwargs):\n",
    "    print(kwargs)\n",
    "    for k,v in kwargs.items():\n",
    "        # if k[-2]=='_' and k[-1].isdigit():\n",
    "        #    print(k[:-2],v)\n",
    "        print(trip_number_suffix(k), v)\n",
    "service_method(x_x=5, x_2=6)"
   ]
  }
 ],
 "metadata": {
  "kernelspec": {
   "display_name": "Python 3",
   "language": "python",
   "name": "python3"
  },
  "language_info": {
   "codemirror_mode": {
    "name": "ipython",
    "version": 3
   },
   "file_extension": ".py",
   "mimetype": "text/x-python",
   "name": "python",
   "nbconvert_exporter": "python",
   "pygments_lexer": "ipython3",
   "version": "3.6.4"
  },
  "varInspector": {
   "cols": {
    "lenName": 16,
    "lenType": 16,
    "lenVar": 40
   },
   "kernels_config": {
    "python": {
     "delete_cmd_postfix": "",
     "delete_cmd_prefix": "del ",
     "library": "var_list.py",
     "varRefreshCmd": "print(var_dic_list())"
    },
    "r": {
     "delete_cmd_postfix": ") ",
     "delete_cmd_prefix": "rm(",
     "library": "var_list.r",
     "varRefreshCmd": "cat(var_dic_list()) "
    }
   },
   "types_to_exclude": [
    "module",
    "function",
    "builtin_function_or_method",
    "instance",
    "_Feature"
   ],
   "window_display": false
  }
 },
 "nbformat": 4,
 "nbformat_minor": 2
}
