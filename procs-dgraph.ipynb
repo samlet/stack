{
 "cells": [
  {
   "cell_type": "code",
   "execution_count": 43,
   "metadata": {
    "ExecuteTime": {
     "end_time": "2019-05-09T08:33:41.973522Z",
     "start_time": "2019-05-09T08:33:41.904715Z"
    }
   },
   "outputs": [],
   "source": [
    "import pydgraph\n",
    "\n",
    "client_stub = pydgraph.DgraphClientStub('localhost:9080')\n",
    "client = pydgraph.DgraphClient(client_stub)"
   ]
  },
  {
   "cell_type": "code",
   "execution_count": 20,
   "metadata": {
    "ExecuteTime": {
     "end_time": "2019-05-03T21:59:24.532330Z",
     "start_time": "2019-05-03T21:59:24.502261Z"
    }
   },
   "outputs": [
    {
     "data": {
      "text/plain": []
     },
     "execution_count": 20,
     "metadata": {},
     "output_type": "execute_result"
    }
   ],
   "source": [
    "# To set the schema, create an Operation object, set the schema and pass it to DgraphClient#alter(Operation) method.\n",
    "schema = 'name: string @index(exact) .'\n",
    "op = pydgraph.Operation(schema=schema)\n",
    "client.alter(op)"
   ]
  },
  {
   "cell_type": "code",
   "execution_count": 21,
   "metadata": {
    "ExecuteTime": {
     "end_time": "2019-05-03T21:59:28.818061Z",
     "start_time": "2019-05-03T21:59:28.424909Z"
    }
   },
   "outputs": [],
   "source": [
    "import datetime\n",
    "import json\n",
    "\n",
    "import pydgraph\n",
    "\n",
    "\n",
    "# Create a client stub.\n",
    "def create_client_stub():\n",
    "    return pydgraph.DgraphClientStub('localhost:9080')\n",
    "\n",
    "\n",
    "# Create a client.\n",
    "def create_client(client_stub):\n",
    "    return pydgraph.DgraphClient(client_stub)\n",
    "\n",
    "\n",
    "# Drop All - discard all data and start from a clean slate.\n",
    "def drop_all(client):\n",
    "    return client.alter(pydgraph.Operation(drop_all=True))\n",
    "\n",
    "\n",
    "# Set schema.\n",
    "def set_schema(client):\n",
    "    schema = \"\"\"\n",
    "    name: string @index(exact) .\n",
    "    friend: uid @reverse .\n",
    "    age: int .\n",
    "    married: bool .\n",
    "    loc: geo .\n",
    "    dob: datetime .\n",
    "    \"\"\"\n",
    "    return client.alter(pydgraph.Operation(schema=schema))\n",
    "\n",
    "\n",
    "# Create data using JSON.\n",
    "def create_data(client):\n",
    "    # Create a new transaction.\n",
    "    txn = client.txn()\n",
    "    try:\n",
    "        # Create data.\n",
    "        p = {\n",
    "            'name': 'Alice',\n",
    "            'age': 26,\n",
    "            'married': True,\n",
    "            'loc': {\n",
    "                'type': 'Point',\n",
    "                'coordinates': [1.1, 2],\n",
    "            },\n",
    "            'dob': datetime.datetime(1980, 1, 1, 23, 0, 0, 0).isoformat(),\n",
    "            'friend': [\n",
    "                {\n",
    "                    'name': 'Bob',\n",
    "                    'age': 24,\n",
    "                },\n",
    "                {\n",
    "                    'name': 'Charlie',\n",
    "                    'age': 29,\n",
    "                }\n",
    "            ],\n",
    "            'school': [\n",
    "                {\n",
    "                    'name': 'Crown Public School',\n",
    "                }\n",
    "            ]\n",
    "        }\n",
    "\n",
    "        # Run mutation.\n",
    "        assigned = txn.mutate(set_obj=p)\n",
    "\n",
    "        # Commit transaction.\n",
    "        txn.commit()\n",
    "\n",
    "        # Get uid of the outermost object (person named \"Alice\").\n",
    "        # assigned.uids returns a map from blank node names to uids.\n",
    "        # For a json mutation, blank node names \"blank-0\", \"blank-1\", ... are used\n",
    "        # for all the created nodes.\n",
    "        print('Created person named \"Alice\" with uid = {}\\n'.format(assigned.uids['blank-0']))\n",
    "\n",
    "        print('All created nodes (map from blank node names to uids):')\n",
    "        for uid in assigned.uids:\n",
    "            print('{} => {}'.format(uid, assigned.uids[uid]))\n",
    "    finally:\n",
    "        # Clean up. Calling this after txn.commit() is a no-op\n",
    "        # and hence safe.\n",
    "        txn.discard()\n",
    "        print('\\n')\n",
    "\n",
    "\n",
    "#Deleting a data\n",
    "def delete_data(client):\n",
    "    # Create a new transaction.\n",
    "    txn = client.txn()\n",
    "    try:\n",
    "        query1 = \"\"\"query all($a: string)\n",
    "        {\n",
    "           all(func: eq(name, $a)) \n",
    "            {\n",
    "               uid\n",
    "            }   \n",
    "        }\"\"\"\n",
    "        variables1 = {'$a': 'Bob'}\n",
    "        res1 = client.txn(read_only=True).query(query1, variables=variables1)\n",
    "        ppl1 = json.loads(res1.json)\n",
    "        for person in ppl1['all']:\n",
    "            print('Query to find Uid for Bob :')\n",
    "            print(query1)\n",
    "            print('\\n')\n",
    "            print(\"Bob's UID : \")\n",
    "            print(person)\n",
    "            print('\\n')\n",
    "            print('Bob deleted')\n",
    "            print('\\n')\n",
    "\n",
    "\n",
    "        assigned = txn.mutate(del_obj= person)\n",
    "\n",
    "        txn.commit()\n",
    "\n",
    "    finally:\n",
    "        txn.discard()\n",
    "\n",
    "\n",
    "# Query for data.\n",
    "def query_data(client):\n",
    "    # Run query.\n",
    "    query = \"\"\"query all($a: string) {\n",
    "        all(func: eq(name, $a)) {\n",
    "            uid\n",
    "            name\n",
    "            age\n",
    "            married\n",
    "            loc\n",
    "            dob\n",
    "            friend {\n",
    "                name\n",
    "                age\n",
    "            }\n",
    "            school {\n",
    "                name\n",
    "            }\n",
    "        }\n",
    "    }\"\"\"\n",
    "\n",
    "    variables = {'$a': 'Alice'}\n",
    "    res = client.txn(read_only=True).query(query, variables=variables)\n",
    "    ppl = json.loads(res.json)\n",
    "\n",
    "    # Print results.\n",
    "    print('Number of people named \"Alice\": {}'.format(len(ppl['all'])))\n",
    "    print('\\n')\n",
    "    for person in ppl['all']:\n",
    "        print('Query for Alice : \\n' +query)\n",
    "        print('\\n')\n",
    "        print('Result :')\n",
    "        print(person)\n",
    "        print('\\n')\n",
    "\n",
    "#Query to check for deleted node\n",
    "def query_data01(client):\n",
    "    query01 = \"\"\"query all($b: string)\n",
    "        {   all(func: eq(name, $b)) \n",
    "            {   uid, \n",
    "                name,\n",
    "                age\n",
    "                friend \n",
    "                { \n",
    "                    uid,\n",
    "                    name,\n",
    "                    age \n",
    "                }\n",
    "                ~friend \n",
    "                { \n",
    "                    uid,\n",
    "                    name,\n",
    "                    age \n",
    "                }\n",
    "            }   \n",
    "        }\"\"\"\n",
    "\n",
    "    variables01 = {'$b': 'Bob'}\n",
    "    res01 = client.txn(read_only=True).query(query01, variables=variables01)\n",
    "    ppl01 = json.loads(res01.json)\n",
    "\n",
    "    print('Number of people named \"Bob\": {}'.format(len(ppl01['all'])))\n",
    "    print('\\n')\n",
    "    for person in ppl01['all']:\n",
    "        print('Query for Bob :\\n' + query01)\n",
    "        print('\\n')\n",
    "        print('Result :')\n",
    "        print(person)\n",
    "        print('\\n')"
   ]
  },
  {
   "cell_type": "code",
   "execution_count": 22,
   "metadata": {
    "ExecuteTime": {
     "end_time": "2019-05-03T21:59:33.931860Z",
     "start_time": "2019-05-03T21:59:33.788312Z"
    }
   },
   "outputs": [
    {
     "name": "stdout",
     "output_type": "stream",
     "text": [
      "Created person named \"Alice\" with uid = 0x2730\n",
      "\n",
      "All created nodes (map from blank node names to uids):\n",
      "blank-1 => 0x2731\n",
      "blank-2 => 0x2732\n",
      "blank-3 => 0x2733\n",
      "blank-0 => 0x2730\n",
      "\n",
      "\n"
     ]
    }
   ],
   "source": [
    "client_stub = create_client_stub()\n",
    "client = create_client(client_stub)\n",
    "drop_all(client)\n",
    "set_schema(client)\n",
    "create_data(client)"
   ]
  },
  {
   "cell_type": "code",
   "execution_count": 23,
   "metadata": {
    "ExecuteTime": {
     "end_time": "2019-05-03T21:59:37.451460Z",
     "start_time": "2019-05-03T21:59:37.423997Z"
    }
   },
   "outputs": [
    {
     "name": "stdout",
     "output_type": "stream",
     "text": [
      "Number of people named \"Alice\": 1\n",
      "\n",
      "\n",
      "Query for Alice : \n",
      "query all($a: string) {\n",
      "        all(func: eq(name, $a)) {\n",
      "            uid\n",
      "            name\n",
      "            age\n",
      "            married\n",
      "            loc\n",
      "            dob\n",
      "            friend {\n",
      "                name\n",
      "                age\n",
      "            }\n",
      "            school {\n",
      "                name\n",
      "            }\n",
      "        }\n",
      "    }\n",
      "\n",
      "\n",
      "Result :\n",
      "{'uid': '0x2730', 'name': 'Alice', 'age': 26, 'married': True, 'loc': {'type': 'Point', 'coordinates': [1.1, 2]}, 'dob': '1980-01-01T23:00:00Z', 'friend': [{'name': 'Bob', 'age': 24}, {'name': 'Charlie', 'age': 29}], 'school': [{'name': 'Crown Public School'}]}\n",
      "\n",
      "\n"
     ]
    }
   ],
   "source": [
    "query_data(client) # query for Alice"
   ]
  },
  {
   "cell_type": "code",
   "execution_count": 24,
   "metadata": {
    "ExecuteTime": {
     "end_time": "2019-05-03T21:59:41.284329Z",
     "start_time": "2019-05-03T21:59:41.265715Z"
    }
   },
   "outputs": [
    {
     "name": "stdout",
     "output_type": "stream",
     "text": [
      "Number of people named \"Bob\": 1\n",
      "\n",
      "\n",
      "Query for Bob :\n",
      "query all($b: string)\n",
      "        {   all(func: eq(name, $b)) \n",
      "            {   uid, \n",
      "                name,\n",
      "                age\n",
      "                friend \n",
      "                { \n",
      "                    uid,\n",
      "                    name,\n",
      "                    age \n",
      "                }\n",
      "                ~friend \n",
      "                { \n",
      "                    uid,\n",
      "                    name,\n",
      "                    age \n",
      "                }\n",
      "            }   \n",
      "        }\n",
      "\n",
      "\n",
      "Result :\n",
      "{'uid': '0x2731', 'name': 'Bob', 'age': 24, '~friend': [{'uid': '0x2730', 'name': 'Alice', 'age': 26}]}\n",
      "\n",
      "\n"
     ]
    }
   ],
   "source": [
    "query_data01(client) # query for Bob"
   ]
  },
  {
   "cell_type": "code",
   "execution_count": 25,
   "metadata": {
    "ExecuteTime": {
     "end_time": "2019-05-03T21:59:44.883263Z",
     "start_time": "2019-05-03T21:59:44.847086Z"
    }
   },
   "outputs": [
    {
     "name": "stdout",
     "output_type": "stream",
     "text": [
      "Query to find Uid for Bob :\n",
      "query all($a: string)\n",
      "        {\n",
      "           all(func: eq(name, $a)) \n",
      "            {\n",
      "               uid\n",
      "            }   \n",
      "        }\n",
      "\n",
      "\n",
      "Bob's UID : \n",
      "{'uid': '0x2731'}\n",
      "\n",
      "\n",
      "Bob deleted\n",
      "\n",
      "\n"
     ]
    }
   ],
   "source": [
    "delete_data(client) # delete Bob"
   ]
  },
  {
   "cell_type": "code",
   "execution_count": 26,
   "metadata": {
    "ExecuteTime": {
     "end_time": "2019-05-03T21:59:47.969592Z",
     "start_time": "2019-05-03T21:59:47.947433Z"
    }
   },
   "outputs": [
    {
     "name": "stdout",
     "output_type": "stream",
     "text": [
      "Number of people named \"Alice\": 1\n",
      "\n",
      "\n",
      "Query for Alice : \n",
      "query all($a: string) {\n",
      "        all(func: eq(name, $a)) {\n",
      "            uid\n",
      "            name\n",
      "            age\n",
      "            married\n",
      "            loc\n",
      "            dob\n",
      "            friend {\n",
      "                name\n",
      "                age\n",
      "            }\n",
      "            school {\n",
      "                name\n",
      "            }\n",
      "        }\n",
      "    }\n",
      "\n",
      "\n",
      "Result :\n",
      "{'uid': '0x2730', 'name': 'Alice', 'age': 26, 'married': True, 'loc': {'type': 'Point', 'coordinates': [1.1, 2]}, 'dob': '1980-01-01T23:00:00Z', 'friend': [{'name': 'Charlie', 'age': 29}], 'school': [{'name': 'Crown Public School'}]}\n",
      "\n",
      "\n"
     ]
    }
   ],
   "source": [
    "query_data(client) # query for Alice"
   ]
  },
  {
   "cell_type": "code",
   "execution_count": 27,
   "metadata": {
    "ExecuteTime": {
     "end_time": "2019-05-03T21:59:51.442037Z",
     "start_time": "2019-05-03T21:59:51.426840Z"
    }
   },
   "outputs": [
    {
     "name": "stdout",
     "output_type": "stream",
     "text": [
      "Number of people named \"Bob\": 0\n",
      "\n",
      "\n"
     ]
    }
   ],
   "source": [
    "query_data01(client) # query for Bob"
   ]
  },
  {
   "cell_type": "code",
   "execution_count": 31,
   "metadata": {
    "ExecuteTime": {
     "end_time": "2019-05-03T22:01:15.662725Z",
     "start_time": "2019-05-03T22:01:15.645715Z"
    }
   },
   "outputs": [
    {
     "name": "stdout",
     "output_type": "stream",
     "text": [
      "{\n",
      " \"find_person\": [\n",
      "  {\n",
      "   \"uid\": \"0x2730\",\n",
      "   \"name\": \"Alice\",\n",
      "   \"age\": 26\n",
      "  }\n",
      " ]\n",
      "}\n"
     ]
    }
   ],
   "source": [
    "query = \"\"\"{\n",
    "  find_person(func: eq(name, \"Alice\")) {\n",
    "    uid\n",
    "    name\n",
    "    age\n",
    "  }\n",
    "}\n",
    "\"\"\"\n",
    "# variables = {'$a': 'Alice'}\n",
    "res = client.txn(read_only=True).query(query)\n",
    "ppl = json.loads(res.json)\n",
    "print(json.dumps(ppl, indent=True))"
   ]
  },
  {
   "cell_type": "code",
   "execution_count": 40,
   "metadata": {
    "ExecuteTime": {
     "end_time": "2019-05-04T08:48:32.079935Z",
     "start_time": "2019-05-04T08:48:32.014626Z"
    }
   },
   "outputs": [],
   "source": [
    "def create_data(client):\n",
    "    # Create a new transaction.\n",
    "    txn = client.txn()\n",
    "    try:\n",
    "        # Create data.\n",
    "        p = {\n",
    "            'uid': '_:UHJvZHVjdFR5cGU6+TUFS/S0VUSU5HX1BLRw==',\n",
    "            'name': 'Alice',\n",
    "            'age': 26,\n",
    "            'married': True,\n",
    "            'loc': {\n",
    "                'type': 'Point',\n",
    "                'coordinates': [1.1, 2],\n",
    "            },\n",
    "            'dob': datetime.datetime(1980, 1, 1, 23, 0, 0, 0).isoformat(),\n",
    "            'friend': [\n",
    "                {\n",
    "                    'name': 'Bob',\n",
    "                    'age': 24,\n",
    "                },\n",
    "                {\n",
    "                    'name': 'Charlie',\n",
    "                    'age': 29,\n",
    "                }\n",
    "            ],\n",
    "            'school': [\n",
    "                {\n",
    "                    'name': 'Crown Public School',\n",
    "                }\n",
    "            ]\n",
    "        }\n",
    "\n",
    "        # Run mutation.\n",
    "        assigned = txn.mutate(set_obj=p)\n",
    "\n",
    "        # Commit transaction.\n",
    "        txn.commit()\n",
    "\n",
    "        # Get uid of the outermost object (person named \"Alice\").\n",
    "        # assigned.uids returns a map from blank node names to uids.\n",
    "        # For a json mutation, blank node names \"blank-0\", \"blank-1\", ... are used\n",
    "        # for all the created nodes.\n",
    "        print('Created person named \"Alice\" with uid = {}\\n'.format(assigned.uids['blank-0']))\n",
    "\n",
    "        print('All created nodes (map from blank node names to uids):')\n",
    "        for uid in assigned.uids:\n",
    "            print('{} => {}'.format(uid, assigned.uids[uid]))\n",
    "    finally:\n",
    "        # Clean up. Calling this after txn.commit() is a no-op\n",
    "        # and hence safe.\n",
    "        txn.discard()\n",
    "        print('\\n')"
   ]
  },
  {
   "cell_type": "code",
   "execution_count": 41,
   "metadata": {
    "ExecuteTime": {
     "end_time": "2019-05-04T08:48:33.784190Z",
     "start_time": "2019-05-04T08:48:33.695835Z"
    }
   },
   "outputs": [
    {
     "name": "stdout",
     "output_type": "stream",
     "text": [
      "Created person named \"Alice\" with uid = 0x2745\n",
      "\n",
      "All created nodes (map from blank node names to uids):\n",
      "blank-1 => 0x2746\n",
      "blank-2 => 0x2747\n",
      "UHJvZHVjdFR5cGU6+TUFS/S0VUSU5HX1BLRw== => 0x2744\n",
      "blank-0 => 0x2745\n",
      "\n",
      "\n"
     ]
    }
   ],
   "source": [
    "client_stub = create_client_stub()\n",
    "client = create_client(client_stub)\n",
    "drop_all(client)\n",
    "set_schema(client)\n",
    "create_data(client)"
   ]
  }
 ],
 "metadata": {
  "kernelspec": {
   "display_name": "Python 3",
   "language": "python",
   "name": "python3"
  },
  "language_info": {
   "codemirror_mode": {
    "name": "ipython",
    "version": 3
   },
   "file_extension": ".py",
   "mimetype": "text/x-python",
   "name": "python",
   "nbconvert_exporter": "python",
   "pygments_lexer": "ipython3",
   "version": "3.6.4"
  },
  "varInspector": {
   "cols": {
    "lenName": 16,
    "lenType": 16,
    "lenVar": 40
   },
   "kernels_config": {
    "python": {
     "delete_cmd_postfix": "",
     "delete_cmd_prefix": "del ",
     "library": "var_list.py",
     "varRefreshCmd": "print(var_dic_list())"
    },
    "r": {
     "delete_cmd_postfix": ") ",
     "delete_cmd_prefix": "rm(",
     "library": "var_list.r",
     "varRefreshCmd": "cat(var_dic_list()) "
    }
   },
   "types_to_exclude": [
    "module",
    "function",
    "builtin_function_or_method",
    "instance",
    "_Feature"
   ],
   "window_display": false
  }
 },
 "nbformat": 4,
 "nbformat_minor": 2
}
