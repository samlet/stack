{
 "cells": [
  {
   "cell_type": "code",
   "execution_count": 1,
   "metadata": {
    "ExecuteTime": {
     "end_time": "2019-04-13T07:47:33.674526Z",
     "start_time": "2019-04-13T07:47:29.651297Z"
    }
   },
   "outputs": [
    {
     "name": "stdout",
     "output_type": "stream",
     "text": [
      "core: v - 运行\n",
      "\tactor: 苹果电脑\n",
      "\trel.v(状中结构): 可以\n",
      "\tobject: 代码\n",
      "\trel.y(右附加关系): 吗\n",
      "⊕ 苹果电脑/nz 可以/v 运行/v 开源阿尔法狗/v 代码/n 吗/y\n",
      "ﺴ píng guǒ diàn nǎo kě yǐ yùn xíng kāi yuán ā ěr fǎ gǒu dài mǎ ma\n",
      "☫ 蘋果電腦可以運行開源阿爾法狗代碼嗎\n",
      "% 苹果电脑可以运行开源阿尔法狗代码吗\n"
     ]
    }
   ],
   "source": [
    "from pyhanlp import HanLP, JClass\n",
    "CoNLLWord = JClass(\"com.hankcs.hanlp.corpus.dependency.CoNll.CoNLLWord\")\n",
    "NLPTokenizer = JClass(\"com.hankcs.hanlp.tokenizer.NLPTokenizer\")\n",
    "\n",
    "def describe_rel(word, result):\n",
    "    if word.DEPREL==\"主谓关系\":\n",
    "        result.append(\"\\tactor: {}\".format(word.LEMMA))\n",
    "    elif word.DEPREL==\"动宾关系\":\n",
    "        result.append(\"\\tobject: {}\".format(word.LEMMA))\n",
    "    elif word.DEPREL==\"标点符号\":\n",
    "        pass\n",
    "    else:    \n",
    "        result.append(\"\\trel.{}({}): {}\".format(word.POSTAG, word.DEPREL, word.LEMMA))\n",
    "\n",
    "def get_pinyin(sentence):\n",
    "    Pinyin = JClass(\"com.hankcs.hanlp.dictionary.py.Pinyin\")\n",
    "    pinyin_list = HanLP.convertToPinyinList(sentence)\n",
    "    l=[]\n",
    "    for pinyin in pinyin_list:\n",
    "        l.append(\"%s\" % pinyin.getPinyinWithToneMark())\n",
    "    return (\" \".join(l))\n",
    "\n",
    "def parse_tree(sentence):    \n",
    "    conll = HanLP.parseDependency(sentence)\n",
    "    coreindex=0\n",
    "    result=[]\n",
    "    for word in conll.iterator():\n",
    "        if word.HEAD==CoNLLWord.ROOT:\n",
    "            coreindex=word.ID\n",
    "            result.append(\"core: {} - {}\".format(word.POSTAG, word.LEMMA))\n",
    "    for word in conll.iterator():\n",
    "        if word.HEAD.ID==coreindex:\n",
    "            describe_rel(word, result)\n",
    "\n",
    "    result.append(\"⊕ \"+str(NLPTokenizer.analyze(sentence)))\n",
    "    result.append(\"ﺴ \"+get_pinyin(sentence))\n",
    "    result.append(\"☫ \"+HanLP.convertToTraditionalChinese(sentence))\n",
    "    result.append(\"% \"+sentence)\n",
    "    return '\\n'.join(result)\n",
    "\n",
    "raw=\"苹果电脑可以运行开源阿尔法狗代码吗\"\n",
    "result=parse_tree(raw)\n",
    "print(result)"
   ]
  },
  {
   "cell_type": "code",
   "execution_count": 3,
   "metadata": {
    "ExecuteTime": {
     "end_time": "2019-04-13T07:48:55.623207Z",
     "start_time": "2019-04-13T07:48:55.556299Z"
    }
   },
   "outputs": [
    {
     "name": "stdout",
     "output_type": "stream",
     "text": [
      "core: v - 运行\n",
      "\tactor: 苹果电脑\n",
      "\trel.v(状中结构): 可以\n",
      "\tobject: 代码\n",
      "\trel.y(右附加关系): 吗\n",
      "⊕ 苹果电脑/nz 可以/v 运行/v 开源阿尔法狗/v 代码/n 吗/y\n",
      "ﺴ píng guǒ diàn nǎo kě yǐ yùn xíng kāi yuán ā ěr fǎ gǒu dài mǎ ma\n",
      "☫ 蘋果電腦可以運行開源阿爾法狗代碼嗎\n",
      "% 苹果电脑可以运行开源阿尔法狗代码吗\n"
     ]
    }
   ],
   "source": [
    "raw=\"苹果电脑可以运行开源阿尔法狗代码吗\"\n",
    "result=parse_tree(raw)\n",
    "print(result)"
   ]
  }
 ],
 "metadata": {
  "kernelspec": {
   "display_name": "Python 3",
   "language": "python",
   "name": "python3"
  },
  "language_info": {
   "codemirror_mode": {
    "name": "ipython",
    "version": 3
   },
   "file_extension": ".py",
   "mimetype": "text/x-python",
   "name": "python",
   "nbconvert_exporter": "python",
   "pygments_lexer": "ipython3",
   "version": "3.6.4"
  },
  "varInspector": {
   "cols": {
    "lenName": 16,
    "lenType": 16,
    "lenVar": 40
   },
   "kernels_config": {
    "python": {
     "delete_cmd_postfix": "",
     "delete_cmd_prefix": "del ",
     "library": "var_list.py",
     "varRefreshCmd": "print(var_dic_list())"
    },
    "r": {
     "delete_cmd_postfix": ") ",
     "delete_cmd_prefix": "rm(",
     "library": "var_list.r",
     "varRefreshCmd": "cat(var_dic_list()) "
    }
   },
   "types_to_exclude": [
    "module",
    "function",
    "builtin_function_or_method",
    "instance",
    "_Feature"
   ],
   "window_display": false
  }
 },
 "nbformat": 4,
 "nbformat_minor": 2
}
