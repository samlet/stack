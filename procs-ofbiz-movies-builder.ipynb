{
 "cells": [
  {
   "cell_type": "code",
   "execution_count": 7,
   "metadata": {
    "ExecuteTime": {
     "end_time": "2019-01-24T12:34:50.209994Z",
     "start_time": "2019-01-24T12:34:50.201270Z"
    }
   },
   "outputs": [
    {
     "name": "stdout",
     "output_type": "stream",
     "text": [
      "default\n"
     ]
    }
   ],
   "source": [
    "from sagas.ofbiz.builder import oc, finder, abbrev, get_graphql_type, get_mapping_type\n",
    "from sagas.util.str_converters import to_camel_case, to_snake_case\n",
    "print(oc.delegator.getDelegatorName())"
   ]
  },
  {
   "cell_type": "code",
   "execution_count": 13,
   "metadata": {
    "ExecuteTime": {
     "end_time": "2019-01-24T12:46:32.902002Z",
     "start_time": "2019-01-24T12:46:32.878430Z"
    }
   },
   "outputs": [
    {
     "name": "stdout",
     "output_type": "stream",
     "text": [
      "class TestingTypeInput(graphene.InputObjectType):\n",
      "    testing_type_id = graphene.String()\n",
      "    description = graphene.String()\n"
     ]
    }
   ],
   "source": [
    "entities=['TestingType']\n",
    "mutations_c=[]\n",
    "mutations_c.append(\"class Mutations(graphene.ObjectType):\")\n",
    "\n",
    "entity_name='TestingType'\n",
    "gen_ctx={}    \n",
    "gen_ctx['model']=entity_name\n",
    "gen_ctx['s_model']=to_snake_case(entity_name)\n",
    "ent = oc.delegator.getModelEntity(entity_name)\n",
    "autoflds=ent.getAutomaticFieldNames()\n",
    "    \n",
    "model_c=[]\n",
    "model_c.append(\"class {ctx[model]}Input(graphene.InputObjectType):\".format(ctx=gen_ctx))\n",
    "\n",
    "names = ent.getAllFieldNames()\n",
    "for field_name in names:\n",
    "    if field_name not in autoflds:\n",
    "        fld = ent.getField(field_name)\n",
    "        fldtype = get_graphql_type(fld.getType())\n",
    "        model_c.append(\"    {name} = graphene.{type}()\".format(name=to_snake_case(field_name),\n",
    "                                                                 type=fldtype))\n",
    "print(\"\\n\".join(model_c))"
   ]
  },
  {
   "cell_type": "code",
   "execution_count": 15,
   "metadata": {
    "ExecuteTime": {
     "end_time": "2019-01-24T12:47:15.008822Z",
     "start_time": "2019-01-24T12:47:15.000623Z"
    }
   },
   "outputs": [
    {
     "name": "stdout",
     "output_type": "stream",
     "text": [
      "class TestingTypeInput(graphene.InputObjectType):\n",
      "    testing_type_id = graphene.String()\n",
      "    description = graphene.String()\n",
      "\n",
      "class CreateTestingType(graphene.Mutation):\n",
      "    class Arguments:\n",
      "        testing_type_data = TestingTypeInput(required=True)\n",
      "\n",
      "    testing_type = graphene.Field(lambda: TestingType)\n",
      "    Output = TestingType\n",
      "\n",
      "    @staticmethod\n",
      "    def mutate(root, info, testing_type_data=None):\n",
      "        testing_type = input_to_dictionary(testing_type_data, \"TestingType\", TestingType)        \n",
      "        return testing_type\n",
      "\n"
     ]
    }
   ],
   "source": [
    "creator_def='''\n",
    "class Create{ctx[model]}(graphene.Mutation):\n",
    "    class Arguments:\n",
    "        {ctx[s_model]}_data = {ctx[model]}Input(required=True)\n",
    "\n",
    "    {ctx[s_model]} = graphene.Field(lambda: {ctx[model]})\n",
    "    Output = {ctx[model]}\n",
    "\n",
    "    @staticmethod\n",
    "    def mutate(root, info, {ctx[s_model]}_data=None):\n",
    "        {ctx[s_model]} = input_to_dictionary({ctx[s_model]}_data, \"{ctx[model]}\", {ctx[model]})        \n",
    "        return {ctx[s_model]}\n",
    "'''\n",
    "model_c.append(creator_def.format(ctx=gen_ctx))\n",
    "mutations_c.append(\"    create_{ctx[s_model]} = Create{ctx[model]}.Field()\".format(ctx=gen_ctx))\n",
    "print(\"\\n\".join(model_c))"
   ]
  },
  {
   "cell_type": "code",
   "execution_count": 16,
   "metadata": {
    "ExecuteTime": {
     "end_time": "2019-01-24T12:47:18.409744Z",
     "start_time": "2019-01-24T12:47:18.403714Z"
    }
   },
   "outputs": [
    {
     "name": "stdout",
     "output_type": "stream",
     "text": [
      "class TestingTypeInput(graphene.InputObjectType):\n",
      "    testing_type_id = graphene.String()\n",
      "    description = graphene.String()\n",
      "\n",
      "class CreateTestingType(graphene.Mutation):\n",
      "    class Arguments:\n",
      "        testing_type_data = TestingTypeInput(required=True)\n",
      "\n",
      "    testing_type = graphene.Field(lambda: TestingType)\n",
      "    Output = TestingType\n",
      "\n",
      "    @staticmethod\n",
      "    def mutate(root, info, testing_type_data=None):\n",
      "        testing_type = input_to_dictionary(testing_type_data, \"TestingType\", TestingType)        \n",
      "        return testing_type\n",
      "\n",
      "class Mutations(graphene.ObjectType):\n",
      "    create_testing_type = CreateTestingType.Field()\n"
     ]
    }
   ],
   "source": [
    "print(\"\\n\".join(model_c))\n",
    "print(\"\\n\".join(mutations_c))"
   ]
  }
 ],
 "metadata": {
  "kernelspec": {
   "display_name": "Python 3",
   "language": "python",
   "name": "python3"
  },
  "language_info": {
   "codemirror_mode": {
    "name": "ipython",
    "version": 3
   },
   "file_extension": ".py",
   "mimetype": "text/x-python",
   "name": "python",
   "nbconvert_exporter": "python",
   "pygments_lexer": "ipython3",
   "version": "3.6.4"
  },
  "varInspector": {
   "cols": {
    "lenName": 16,
    "lenType": 16,
    "lenVar": 40
   },
   "kernels_config": {
    "python": {
     "delete_cmd_postfix": "",
     "delete_cmd_prefix": "del ",
     "library": "var_list.py",
     "varRefreshCmd": "print(var_dic_list())"
    },
    "r": {
     "delete_cmd_postfix": ") ",
     "delete_cmd_prefix": "rm(",
     "library": "var_list.r",
     "varRefreshCmd": "cat(var_dic_list()) "
    }
   },
   "types_to_exclude": [
    "module",
    "function",
    "builtin_function_or_method",
    "instance",
    "_Feature"
   ],
   "window_display": false
  }
 },
 "nbformat": 4,
 "nbformat_minor": 2
}
