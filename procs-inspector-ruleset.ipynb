{
 "cells": [
  {
   "cell_type": "code",
   "execution_count": 13,
   "metadata": {
    "ExecuteTime": {
     "end_time": "2019-08-23T16:06:25.920792Z",
     "start_time": "2019-08-23T16:06:25.906752Z"
    }
   },
   "outputs": [],
   "source": [
    "def result_df(rs):\n",
    "    from sagas.conf.conf import cf\n",
    "    import sagas\n",
    "\n",
    "    # print_not_matched=cf.is_enabled('print_not_matched')\n",
    "    print_not_matched=True\n",
    "    recs=[]\n",
    "    for r in rs:\n",
    "        if not print_not_matched and not r[1]:\n",
    "            pass\n",
    "        else:\n",
    "            recs.append(('✔' if r[1] else '✖', r[0]))\n",
    "    return sagas.to_df(recs, ['match', 'options'])"
   ]
  },
  {
   "cell_type": "code",
   "execution_count": 7,
   "metadata": {
    "ExecuteTime": {
     "end_time": "2019-08-23T15:56:20.995581Z",
     "start_time": "2019-08-23T15:56:20.984619Z"
    }
   },
   "outputs": [],
   "source": [
    "class RuleSet(object):\n",
    "    def __init__(self, name, rules, executor):\n",
    "        self.name=name\n",
    "        self.rules=rules\n",
    "        self.executor=executor"
   ]
  },
  {
   "cell_type": "code",
   "execution_count": 14,
   "metadata": {
    "ExecuteTime": {
     "end_time": "2019-08-23T16:08:24.190027Z",
     "start_time": "2019-08-23T16:08:23.795517Z"
    }
   },
   "outputs": [
    {
     "name": "stdout",
     "output_type": "stream",
     "text": [
      ".. request is {'lang': 'zh', 'sents': '你有几台笔记本电脑？', 'engine': 'ltp'}\n",
      "type=verb_domains\n",
      "verb=有\n",
      "lemma=有\n",
      "index=2\n",
      "rel=hed\n",
      "governor=0\n",
      "stems=[['sbv', ['你']], ['vob', ['几', '台', '笔记本', '电脑']], ['wp', ['？']]]\n"
     ]
    },
    {
     "data": {
      "text/html": [
       "<div>\n",
       "<style scoped>\n",
       "    .dataframe tbody tr th:only-of-type {\n",
       "        vertical-align: middle;\n",
       "    }\n",
       "\n",
       "    .dataframe tbody tr th {\n",
       "        vertical-align: top;\n",
       "    }\n",
       "\n",
       "    .dataframe thead th {\n",
       "        text-align: right;\n",
       "    }\n",
       "</style>\n",
       "<table border=\"1\" class=\"dataframe\">\n",
       "  <thead>\n",
       "    <tr style=\"text-align: right;\">\n",
       "      <th></th>\n",
       "      <th>rel</th>\n",
       "      <th>index</th>\n",
       "      <th>text</th>\n",
       "      <th>lemma</th>\n",
       "      <th>children</th>\n",
       "      <th>features</th>\n",
       "    </tr>\n",
       "  </thead>\n",
       "  <tbody>\n",
       "    <tr>\n",
       "      <th>0</th>\n",
       "      <td>sbv</td>\n",
       "      <td>1</td>\n",
       "      <td>你</td>\n",
       "      <td>你</td>\n",
       "      <td>[你]</td>\n",
       "      <td>[c_pron, x_r]</td>\n",
       "    </tr>\n",
       "    <tr>\n",
       "      <th>1</th>\n",
       "      <td>vob</td>\n",
       "      <td>6</td>\n",
       "      <td>电脑</td>\n",
       "      <td>电脑</td>\n",
       "      <td>[几, 台, 笔记本, 电脑]</td>\n",
       "      <td>[c_noun, x_n]</td>\n",
       "    </tr>\n",
       "    <tr>\n",
       "      <th>2</th>\n",
       "      <td>wp</td>\n",
       "      <td>7</td>\n",
       "      <td>？</td>\n",
       "      <td>？</td>\n",
       "      <td>[？]</td>\n",
       "      <td>[c_punct, x_wp]</td>\n",
       "    </tr>\n",
       "  </tbody>\n",
       "</table>\n",
       "</div>"
      ],
      "text/plain": [
       "   rel  index text lemma         children         features\n",
       "0  sbv      1    你     你              [你]    [c_pron, x_r]\n",
       "1  vob      6   电脑    电脑  [几, 台, 笔记本, 电脑]    [c_noun, x_n]\n",
       "2   wp      7    ？     ？              [？]  [c_punct, x_wp]"
      ]
     },
     "metadata": {},
     "output_type": "display_data"
    },
    {
     "name": "stdout",
     "output_type": "stream",
     "text": [
      "matched: how_many_artifact\n"
     ]
    },
    {
     "data": {
      "text/html": [
       "<div>\n",
       "<style scoped>\n",
       "    .dataframe tbody tr th:only-of-type {\n",
       "        vertical-align: middle;\n",
       "    }\n",
       "\n",
       "    .dataframe tbody tr th {\n",
       "        vertical-align: top;\n",
       "    }\n",
       "\n",
       "    .dataframe thead th {\n",
       "        text-align: right;\n",
       "    }\n",
       "</style>\n",
       "<table border=\"1\" class=\"dataframe\">\n",
       "  <thead>\n",
       "    <tr style=\"text-align: right;\">\n",
       "      <th></th>\n",
       "      <th>match</th>\n",
       "      <th>options</th>\n",
       "    </tr>\n",
       "  </thead>\n",
       "  <tbody>\n",
       "    <tr>\n",
       "      <th>0</th>\n",
       "      <td>✖</td>\n",
       "      <td>verb with nsubj:pass is ['c_pron', 'c_noun']: ...</td>\n",
       "    </tr>\n",
       "    <tr>\n",
       "      <th>1</th>\n",
       "      <td>✖</td>\n",
       "      <td>verb with nsubj:pass is ['c_pron', 'c_noun']: ...</td>\n",
       "    </tr>\n",
       "    <tr>\n",
       "      <th>2</th>\n",
       "      <td>✔</td>\n",
       "      <td>verb with pos is behave_of(have,v): True, ::en...</td>\n",
       "    </tr>\n",
       "    <tr>\n",
       "      <th>3</th>\n",
       "      <td>✔</td>\n",
       "      <td>verb with pos is behave_of(have,v): True, ::en...</td>\n",
       "    </tr>\n",
       "  </tbody>\n",
       "</table>\n",
       "</div>"
      ],
      "text/plain": [
       "  match                                            options\n",
       "0     ✖  verb with nsubj:pass is ['c_pron', 'c_noun']: ...\n",
       "1     ✖  verb with nsubj:pass is ['c_pron', 'c_noun']: ...\n",
       "2     ✔  verb with pos is behave_of(have,v): True, ::en...\n",
       "3     ✔  verb with pos is behave_of(have,v): True, ::en..."
      ]
     },
     "metadata": {},
     "output_type": "display_data"
    }
   ],
   "source": [
    "from sagas.nlu.inspector_common import Inspector, Context\n",
    "from sagas.nlu.inspectors import InspectorFixture, DateInspector, EntityInspector\n",
    "from sagas.nlu.patterns import Patterns, print_result\n",
    "from sagas.nlu.inspector_wordnet import PredicateWordInspector as kindof\n",
    "from sagas.nlu.inspector_wordnet import VerbInspector as behaveof\n",
    "from sagas.nlu.inspector_rasa import RasaInspector as intentof\n",
    "import requests\n",
    "\n",
    "class InspectorRunner(InspectorFixture):\n",
    "    def __init__(self):\n",
    "        import sagas.nlu.patterns as pat\n",
    "        pat.print_not_matched=True\n",
    "\n",
    "    def procs_common(self, data, presenter='jupyter'):\n",
    "        domains, meta=self.request_domains(data, presenter)\n",
    "        # domains, meta=self.request_domains(data)\n",
    "        agency = ['c_pron', 'c_noun']\n",
    "        behaviours_obl = lambda rs: [Patterns(domains, meta, 5).verb(behaveof(r, 'v'), obl='c_noun') for r in rs]\n",
    "        actions_vob = lambda rs: [Patterns(domains, meta, 5).verb(behaveof(r[0], 'v'), __engine='ltp', vob=kindof(r[1], 'n')) for r in rs]\n",
    "        rs = [Patterns(domains, meta, 2).verb(nsubj_pass=agency, obl=DateInspector('time')),\n",
    "              Patterns(domains, meta, 2).verb(nsubj_pass=agency, obl=EntityInspector('GPE')),\n",
    "              # Patterns(domains, meta, 2).verb(nsubj=agency, xcomp=PredicateWordInspector('color', 'n')),\n",
    "              ]\n",
    "        \n",
    "        # ruleset里定义的patterns不会马上执行\n",
    "        ruleset_stats=RuleSet('how_many_artifact', \n",
    "                              rules=lambda d,m: [# $ sz '你有几台笔记本电脑？'\n",
    "                                  Patterns(domains, meta, 5).verb(behaveof('have', 'v'), __engine='ltp', vob=intentof('how_many', 0.75)),\n",
    "                                  *actions_vob([('have', 'device/artifact'),]),],\n",
    "                              executor=lambda arg: print(f'matched: {arg}'))\n",
    "        \n",
    "        # execute patterns within the ruleset\n",
    "        rule_rs=ruleset_stats.rules(domains, meta)\n",
    "        if all([val[1] for val in rule_rs]):\n",
    "            ruleset_stats.executor(ruleset_stats.name)\n",
    "            \n",
    "        df=result_df(rs+rule_rs)\n",
    "        if presenter=='jupyter':\n",
    "            display(df)\n",
    "        else:\n",
    "            print(df)\n",
    "\n",
    "    def test_1(self):\n",
    "        text = '你有几台笔记本电脑？'\n",
    "        data = {'lang': 'zh', \"sents\": text, 'engine':'ltp'}\n",
    "        self.procs_common(data)\n",
    "        \n",
    "InspectorRunner().test_1()"
   ]
  }
 ],
 "metadata": {
  "kernelspec": {
   "display_name": "Python 3",
   "language": "python",
   "name": "python3"
  },
  "language_info": {
   "codemirror_mode": {
    "name": "ipython",
    "version": 3
   },
   "file_extension": ".py",
   "mimetype": "text/x-python",
   "name": "python",
   "nbconvert_exporter": "python",
   "pygments_lexer": "ipython3",
   "version": "3.6.4"
  },
  "varInspector": {
   "cols": {
    "lenName": 16,
    "lenType": 16,
    "lenVar": 40
   },
   "kernels_config": {
    "python": {
     "delete_cmd_postfix": "",
     "delete_cmd_prefix": "del ",
     "library": "var_list.py",
     "varRefreshCmd": "print(var_dic_list())"
    },
    "r": {
     "delete_cmd_postfix": ") ",
     "delete_cmd_prefix": "rm(",
     "library": "var_list.r",
     "varRefreshCmd": "cat(var_dic_list()) "
    }
   },
   "types_to_exclude": [
    "module",
    "function",
    "builtin_function_or_method",
    "instance",
    "_Feature"
   ],
   "window_display": false
  }
 },
 "nbformat": 4,
 "nbformat_minor": 2
}
