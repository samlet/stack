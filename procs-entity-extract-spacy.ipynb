{
 "cells": [
  {
   "cell_type": "markdown",
   "metadata": {},
   "source": [
    "⊕ [Linguistic Features · spaCy Usage Documentation](https://spacy.io/usage/linguistic-features#section-named-entities)\n"
   ]
  },
  {
   "cell_type": "code",
   "execution_count": 14,
   "metadata": {
    "ExecuteTime": {
     "end_time": "2019-01-03T19:41:48.588338Z",
     "start_time": "2019-01-03T19:41:47.699659Z"
    }
   },
   "outputs": [
    {
     "name": "stdout",
     "output_type": "stream",
     "text": [
      "Apple 0 5 ORG\n",
      "U.K. 27 31 GPE\n",
      "$1 billion 44 54 MONEY\n"
     ]
    }
   ],
   "source": [
    "import spacy\n",
    "\n",
    "nlp = spacy.load('en_core_web_sm')\n",
    "doc = nlp(u'Apple is looking at buying U.K. startup for $1 billion')\n",
    "\n",
    "for ent in doc.ents:\n",
    "    print(ent.text, ent.start_char, ent.end_char, ent.label_)"
   ]
  },
  {
   "cell_type": "code",
   "execution_count": 4,
   "metadata": {
    "ExecuteTime": {
     "end_time": "2019-01-03T08:37:14.409521Z",
     "start_time": "2019-01-03T08:37:14.390086Z"
    }
   },
   "outputs": [
    {
     "name": "stdout",
     "output_type": "stream",
     "text": [
      "Shenzhen 0 8 GPE\n",
      "the Silicon Valley 12 30 LOC\n"
     ]
    }
   ],
   "source": [
    "# doc = nlp(\"The whole city is a startup: Shenzhen is the Silicon Valley for hardware companies\")\n",
    "doc = nlp(\"Shenzhen is the Silicon Valley for hardware companies\")\n",
    "\n",
    "for ent in doc.ents:\n",
    "    print(ent.text, ent.start_char, ent.end_char, ent.label_)"
   ]
  },
  {
   "cell_type": "code",
   "execution_count": 15,
   "metadata": {
    "ExecuteTime": {
     "end_time": "2019-01-03T19:46:09.987006Z",
     "start_time": "2019-01-03T19:46:09.937263Z"
    }
   },
   "outputs": [
    {
     "name": "stdout",
     "output_type": "stream",
     "text": [
      "Harvard University 18 36 ORG\n",
      "the fall of 1973 40 56 DATE\n"
     ]
    }
   ],
   "source": [
    "# doc = nlp(\"Rami Eid is studying at Stony Brook University in NY\")\n",
    "doc=nlp(\"Gates enrolled at Harvard University in the fall of 1973\")\n",
    "for ent in doc.ents:\n",
    "    print(ent.text, ent.start_char, ent.end_char, ent.label_)"
   ]
  },
  {
   "cell_type": "markdown",
   "metadata": {},
   "source": [
    "## IOB SCHEME\n",
    "I – Token is inside an entity.\n",
    "O – Token is outside an entity.\n",
    "B – Token is the beginning of an entity."
   ]
  },
  {
   "cell_type": "code",
   "execution_count": 2,
   "metadata": {
    "ExecuteTime": {
     "end_time": "2018-12-31T17:23:52.042802Z",
     "start_time": "2018-12-31T17:23:51.318365Z"
    }
   },
   "outputs": [
    {
     "name": "stdout",
     "output_type": "stream",
     "text": [
      "[('San Francisco', 0, 13, 'GPE')]\n",
      "['San', 'B', 'GPE']\n",
      "['Francisco', 'I', 'GPE']\n"
     ]
    }
   ],
   "source": [
    "import spacy\n",
    "\n",
    "nlp = spacy.load('en_core_web_sm')\n",
    "doc = nlp(u'San Francisco considers banning sidewalk delivery robots')\n",
    "\n",
    "# document level\n",
    "ents = [(e.text, e.start_char, e.end_char, e.label_) for e in doc.ents]\n",
    "print(ents)\n",
    "\n",
    "# token level\n",
    "ent_san = [doc[0].text, doc[0].ent_iob_, doc[0].ent_type_]\n",
    "ent_francisco = [doc[1].text, doc[1].ent_iob_, doc[1].ent_type_]\n",
    "print(ent_san)  # [u'San', u'B', u'GPE']\n",
    "print(ent_francisco)  # [u'Francisco', u'I', u'GPE']"
   ]
  },
  {
   "cell_type": "markdown",
   "metadata": {},
   "source": [
    "## Built-in entity types\n",
    "TIP: UNDERSTANDING ENTITY TYPES\n",
    "You can also use spacy.explain() to get the description for the string representation of an entity label. For example, spacy.explain(\"LANGUAGE\") will return \"any named language\".\n",
    "Models trained on the OntoNotes 5 corpus support the following entity types:\n",
    "+ https://spacy.io/usage/linguistic-features#entity-types"
   ]
  },
  {
   "cell_type": "code",
   "execution_count": 6,
   "metadata": {
    "ExecuteTime": {
     "end_time": "2019-01-03T08:39:08.629086Z",
     "start_time": "2019-01-03T08:39:07.863188Z"
    }
   },
   "outputs": [
    {
     "name": "stdout",
     "output_type": "stream",
     "text": [
      "Die ganze Stadt ist ein Startup: Shenzhen ist das Silicon Valley für Hardware-Firmen\n",
      "Die DET nk\n",
      "ganze ADJ nk\n",
      "Stadt NOUN sb\n",
      "ist AUX ROOT\n",
      "ein DET nk\n",
      "Startup NOUN pd\n",
      ": PUNCT punct\n",
      "Shenzhen PROPN pd\n",
      "ist AUX ROOT\n",
      "das DET nk\n",
      "Silicon PROPN pnc\n",
      "Valley PROPN sb\n",
      "für ADP mnr\n",
      "Hardware-Firmen NOUN nk\n"
     ]
    }
   ],
   "source": [
    "import spacy\n",
    "from spacy.lang.de.examples import sentences\n",
    "\n",
    "nlp = spacy.load('de_core_news_sm')\n",
    "doc = nlp(sentences[0])\n",
    "print(doc.text)\n",
    "for token in doc:\n",
    "    print(token.text, token.pos_, token.dep_)"
   ]
  },
  {
   "cell_type": "code",
   "execution_count": 7,
   "metadata": {
    "ExecuteTime": {
     "end_time": "2019-01-03T08:39:11.525362Z",
     "start_time": "2019-01-03T08:39:11.426015Z"
    }
   },
   "outputs": [
    {
     "name": "stdout",
     "output_type": "stream",
     "text": [
      "Shenzhen 33 41 LOC\n",
      "Silicon Valley 50 64 LOC\n"
     ]
    }
   ],
   "source": [
    "for ent in doc.ents:\n",
    "    print(ent.text, ent.start_char, ent.end_char, ent.label_)"
   ]
  },
  {
   "cell_type": "code",
   "execution_count": 10,
   "metadata": {
    "ExecuteTime": {
     "end_time": "2019-01-03T08:40:29.701854Z",
     "start_time": "2019-01-03T08:40:28.827650Z"
    },
    "scrolled": true
   },
   "outputs": [
    {
     "name": "stdout",
     "output_type": "stream",
     "text": [
      "Shenzhen 33 41 LOC\n",
      "Silicon Valley 50 64 LOC\n"
     ]
    }
   ],
   "source": [
    "import spacy\n",
    "from spacy.lang.de.examples import sentences\n",
    "\n",
    "nlp = spacy.load('de_core_news_sm')\n",
    "doc = nlp(u'Die ganze Stadt ist ein Startup: Shenzhen ist das Silicon Valley für Hardware-Firmen')\n",
    "for ent in doc.ents:\n",
    "    print(ent.text, ent.start_char, ent.end_char, ent.label_)"
   ]
  },
  {
   "cell_type": "code",
   "execution_count": 12,
   "metadata": {
    "ExecuteTime": {
     "end_time": "2019-01-03T08:46:02.293634Z",
     "start_time": "2019-01-03T08:46:02.275855Z"
    }
   },
   "outputs": [
    {
     "name": "stdout",
     "output_type": "stream",
     "text": [
      "Silicon Valley 17 31 LOC\n"
     ]
    }
   ],
   "source": [
    "doc = nlp(u'Shenzhen ist das Silicon Valley für Hardware-Firmen')\n",
    "for ent in doc.ents:\n",
    "    print(ent.text, ent.start_char, ent.end_char, ent.label_)"
   ]
  },
  {
   "cell_type": "code",
   "execution_count": 5,
   "metadata": {
    "ExecuteTime": {
     "end_time": "2018-12-31T17:31:18.278055Z",
     "start_time": "2018-12-31T17:31:07.808015Z"
    }
   },
   "outputs": [
    {
     "name": "stdout",
     "output_type": "stream",
     "text": [
      "Apple cherche a acheter une startup anglaise pour 1 milliard de dollard\n",
      "Apple ADJ nsubj\n",
      "cherche NOUN amod\n",
      "a AUX aux\n",
      "acheter VERB ROOT\n",
      "une DET det\n",
      "startup ADJ obj\n",
      "anglaise NOUN amod\n",
      "pour ADP case\n",
      "1 NUM nummod\n",
      "milliard NOUN obl\n",
      "de ADP case\n",
      "dollard NOUN nmod\n"
     ]
    }
   ],
   "source": [
    "import spacy\n",
    "from spacy.lang.fr.examples import sentences\n",
    "\n",
    "nlp = spacy.load('fr_core_news_sm')\n",
    "doc = nlp(sentences[0])\n",
    "print(doc.text)\n",
    "for token in doc:\n",
    "    print(token.text, token.pos_, token.dep_)"
   ]
  },
  {
   "cell_type": "code",
   "execution_count": 6,
   "metadata": {
    "ExecuteTime": {
     "end_time": "2018-12-31T17:31:34.873851Z",
     "start_time": "2018-12-31T17:31:34.793476Z"
    }
   },
   "outputs": [
    {
     "name": "stdout",
     "output_type": "stream",
     "text": [
      "Apple 0 5 ORG\n"
     ]
    }
   ],
   "source": [
    "for ent in doc.ents:\n",
    "    print(ent.text, ent.start_char, ent.end_char, ent.label_)"
   ]
  }
 ],
 "metadata": {
  "kernelspec": {
   "display_name": "Python 3",
   "language": "python",
   "name": "python3"
  },
  "language_info": {
   "codemirror_mode": {
    "name": "ipython",
    "version": 3
   },
   "file_extension": ".py",
   "mimetype": "text/x-python",
   "name": "python",
   "nbconvert_exporter": "python",
   "pygments_lexer": "ipython3",
   "version": "3.6.4"
  },
  "varInspector": {
   "cols": {
    "lenName": 16,
    "lenType": 16,
    "lenVar": 40
   },
   "kernels_config": {
    "python": {
     "delete_cmd_postfix": "",
     "delete_cmd_prefix": "del ",
     "library": "var_list.py",
     "varRefreshCmd": "print(var_dic_list())"
    },
    "r": {
     "delete_cmd_postfix": ") ",
     "delete_cmd_prefix": "rm(",
     "library": "var_list.r",
     "varRefreshCmd": "cat(var_dic_list()) "
    }
   },
   "types_to_exclude": [
    "module",
    "function",
    "builtin_function_or_method",
    "instance",
    "_Feature"
   ],
   "window_display": false
  }
 },
 "nbformat": 4,
 "nbformat_minor": 2
}
