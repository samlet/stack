{
 "cells": [
  {
   "cell_type": "markdown",
   "metadata": {},
   "source": [
    "⊕ [Linguistic Features · spaCy Usage Documentation](https://spacy.io/usage/linguistic-features#section-named-entities)\n"
   ]
  },
  {
   "cell_type": "code",
   "execution_count": 6,
   "metadata": {
    "ExecuteTime": {
     "end_time": "2019-07-04T15:21:29.326299Z",
     "start_time": "2019-07-04T15:21:28.403500Z"
    }
   },
   "outputs": [
    {
     "name": "stdout",
     "output_type": "stream",
     "text": [
      "Apple 0 5 ORG\n",
      "U.K. 27 31 GPE\n",
      "$1 billion 44 54 MONEY\n"
     ]
    }
   ],
   "source": [
    "import spacy\n",
    "\n",
    "nlp = spacy.load('en_core_web_sm')\n",
    "doc = nlp(u'Apple is looking at buying U.K. startup for $1 billion')\n",
    "\n",
    "for ent in doc.ents:\n",
    "    print(ent.text, ent.start_char, ent.end_char, ent.label_)"
   ]
  },
  {
   "cell_type": "code",
   "execution_count": 8,
   "metadata": {
    "ExecuteTime": {
     "end_time": "2019-07-04T15:22:45.988412Z",
     "start_time": "2019-07-04T15:22:45.387672Z"
    }
   },
   "outputs": [
    {
     "data": {
      "text/html": [
       "<div>\n",
       "<style scoped>\n",
       "    .dataframe tbody tr th:only-of-type {\n",
       "        vertical-align: middle;\n",
       "    }\n",
       "\n",
       "    .dataframe tbody tr th {\n",
       "        vertical-align: top;\n",
       "    }\n",
       "\n",
       "    .dataframe thead th {\n",
       "        text-align: right;\n",
       "    }\n",
       "</style>\n",
       "<table border=\"1\" class=\"dataframe\">\n",
       "  <thead>\n",
       "    <tr style=\"text-align: right;\">\n",
       "      <th></th>\n",
       "      <th>word</th>\n",
       "      <th>start</th>\n",
       "      <th>end</th>\n",
       "      <th>entity</th>\n",
       "    </tr>\n",
       "  </thead>\n",
       "  <tbody>\n",
       "    <tr>\n",
       "      <th>0</th>\n",
       "      <td>Apple</td>\n",
       "      <td>0</td>\n",
       "      <td>5</td>\n",
       "      <td>ORG</td>\n",
       "    </tr>\n",
       "    <tr>\n",
       "      <th>1</th>\n",
       "      <td>U.K.</td>\n",
       "      <td>27</td>\n",
       "      <td>31</td>\n",
       "      <td>GPE</td>\n",
       "    </tr>\n",
       "    <tr>\n",
       "      <th>2</th>\n",
       "      <td>$1 billion</td>\n",
       "      <td>44</td>\n",
       "      <td>54</td>\n",
       "      <td>MONEY</td>\n",
       "    </tr>\n",
       "  </tbody>\n",
       "</table>\n",
       "</div>"
      ],
      "text/plain": [
       "         word  start  end entity\n",
       "0       Apple      0    5    ORG\n",
       "1        U.K.     27   31    GPE\n",
       "2  $1 billion     44   54  MONEY"
      ]
     },
     "execution_count": 8,
     "metadata": {},
     "output_type": "execute_result"
    }
   ],
   "source": [
    "import sagas\n",
    "rs=[]\n",
    "for ent in doc.ents:\n",
    "    rs.append((ent.text, ent.start_char, ent.end_char, ent.label_))\n",
    "sagas.to_df(rs, ['word', 'start', 'end', 'entity'])"
   ]
  },
  {
   "cell_type": "code",
   "execution_count": 7,
   "metadata": {
    "ExecuteTime": {
     "end_time": "2019-07-04T15:21:32.959058Z",
     "start_time": "2019-07-04T15:21:32.948008Z"
    }
   },
   "outputs": [
    {
     "data": {
      "text/plain": [
       "'(org_Apple; gpe_U.K.; mon_$1 billion)'"
      ]
     },
     "execution_count": 7,
     "metadata": {},
     "output_type": "execute_result"
    }
   ],
   "source": [
    "ents=[ent.label_.lower()[:3]+'_'+ent.text for ent in doc.ents]\n",
    "\"(%s)\"%'; '.join(ents)"
   ]
  },
  {
   "cell_type": "code",
   "execution_count": 3,
   "metadata": {
    "ExecuteTime": {
     "end_time": "2019-07-04T14:04:17.591462Z",
     "start_time": "2019-07-04T14:04:17.575835Z"
    }
   },
   "outputs": [
    {
     "data": {
      "text/plain": [
       "['per',\n",
       " 'nor',\n",
       " 'fac',\n",
       " 'org',\n",
       " 'gpe',\n",
       " 'loc',\n",
       " 'pro',\n",
       " 'eve',\n",
       " 'wor',\n",
       " 'law',\n",
       " 'lan',\n",
       " 'dat',\n",
       " 'tim',\n",
       " 'per',\n",
       " 'mon',\n",
       " 'qua',\n",
       " 'ord',\n",
       " 'car']"
      ]
     },
     "execution_count": 3,
     "metadata": {},
     "output_type": "execute_result"
    }
   ],
   "source": [
    "entity_types_text=\"\"\"PERSON\tPeople, including fictional.\n",
    "NORP\tNationalities or religious or political groups.\n",
    "FAC\tBuildings, airports, highways, bridges, etc.\n",
    "ORG\tCompanies, agencies, institutions, etc.\n",
    "GPE\tCountries, cities, states.\n",
    "LOC\tNon-GPE locations, mountain ranges, bodies of water.\n",
    "PRODUCT\tObjects, vehicles, foods, etc. (Not services.)\n",
    "EVENT\tNamed hurricanes, battles, wars, sports events, etc.\n",
    "WORK_OF_ART\tTitles of books, songs, etc.\n",
    "LAW\tNamed documents made into laws.\n",
    "LANGUAGE\tAny named language.\n",
    "DATE\tAbsolute or relative dates or periods.\n",
    "TIME\tTimes smaller than a day.\n",
    "PERCENT\tPercentage, including ”%“.\n",
    "MONEY\tMonetary values, including unit.\n",
    "QUANTITY\tMeasurements, as of weight or distance.\n",
    "ORDINAL\t“first”, “second”, etc.\n",
    "CARDINAL\tNumerals that do not fall under another type.\"\"\".split('\\n')\n",
    "[line.split('\\t')[0].lower()[:3] for line in entity_types_text]"
   ]
  },
  {
   "cell_type": "code",
   "execution_count": 2,
   "metadata": {
    "ExecuteTime": {
     "end_time": "2019-05-30T00:59:29.532428Z",
     "start_time": "2019-05-30T00:59:29.510054Z"
    }
   },
   "outputs": [
    {
     "name": "stdout",
     "output_type": "stream",
     "text": [
      "Shenzhen 0 8 GPE\n",
      "the Silicon Valley 12 30 LOC\n"
     ]
    }
   ],
   "source": [
    "# doc = nlp(\"The whole city is a startup: Shenzhen is the Silicon Valley for hardware companies\")\n",
    "doc = nlp(\"Shenzhen is the Silicon Valley for hardware companies\")\n",
    "\n",
    "for ent in doc.ents:\n",
    "    print(ent.text, ent.start_char, ent.end_char, ent.label_)"
   ]
  },
  {
   "cell_type": "code",
   "execution_count": 15,
   "metadata": {
    "ExecuteTime": {
     "end_time": "2019-01-03T19:46:09.987006Z",
     "start_time": "2019-01-03T19:46:09.937263Z"
    },
    "scrolled": true
   },
   "outputs": [
    {
     "name": "stdout",
     "output_type": "stream",
     "text": [
      "Harvard University 18 36 ORG\n",
      "the fall of 1973 40 56 DATE\n"
     ]
    }
   ],
   "source": [
    "# doc = nlp(\"Rami Eid is studying at Stony Brook University in NY\")\n",
    "doc=nlp(\"Gates enrolled at Harvard University in the fall of 1973\")\n",
    "for ent in doc.ents:\n",
    "    print(ent.text, ent.start_char, ent.end_char, ent.label_)"
   ]
  },
  {
   "cell_type": "markdown",
   "metadata": {},
   "source": [
    "## IOB SCHEME\n",
    "I – Token is inside an entity.\n",
    "O – Token is outside an entity.\n",
    "B – Token is the beginning of an entity."
   ]
  },
  {
   "cell_type": "code",
   "execution_count": 2,
   "metadata": {
    "ExecuteTime": {
     "end_time": "2018-12-31T17:23:52.042802Z",
     "start_time": "2018-12-31T17:23:51.318365Z"
    }
   },
   "outputs": [
    {
     "name": "stdout",
     "output_type": "stream",
     "text": [
      "[('San Francisco', 0, 13, 'GPE')]\n",
      "['San', 'B', 'GPE']\n",
      "['Francisco', 'I', 'GPE']\n"
     ]
    }
   ],
   "source": [
    "import spacy\n",
    "\n",
    "nlp = spacy.load('en_core_web_sm')\n",
    "doc = nlp(u'San Francisco considers banning sidewalk delivery robots')\n",
    "\n",
    "# document level\n",
    "ents = [(e.text, e.start_char, e.end_char, e.label_) for e in doc.ents]\n",
    "print(ents)\n",
    "\n",
    "# token level\n",
    "ent_san = [doc[0].text, doc[0].ent_iob_, doc[0].ent_type_]\n",
    "ent_francisco = [doc[1].text, doc[1].ent_iob_, doc[1].ent_type_]\n",
    "print(ent_san)  # [u'San', u'B', u'GPE']\n",
    "print(ent_francisco)  # [u'Francisco', u'I', u'GPE']"
   ]
  },
  {
   "cell_type": "markdown",
   "metadata": {},
   "source": [
    "## Built-in entity types\n",
    "TIP: UNDERSTANDING ENTITY TYPES\n",
    "You can also use spacy.explain() to get the description for the string representation of an entity label. For example, spacy.explain(\"LANGUAGE\") will return \"any named language\".\n",
    "Models trained on the OntoNotes 5 corpus support the following entity types:\n",
    "+ https://spacy.io/usage/linguistic-features#entity-types"
   ]
  },
  {
   "cell_type": "code",
   "execution_count": 6,
   "metadata": {
    "ExecuteTime": {
     "end_time": "2019-01-03T08:39:08.629086Z",
     "start_time": "2019-01-03T08:39:07.863188Z"
    }
   },
   "outputs": [
    {
     "name": "stdout",
     "output_type": "stream",
     "text": [
      "Die ganze Stadt ist ein Startup: Shenzhen ist das Silicon Valley für Hardware-Firmen\n",
      "Die DET nk\n",
      "ganze ADJ nk\n",
      "Stadt NOUN sb\n",
      "ist AUX ROOT\n",
      "ein DET nk\n",
      "Startup NOUN pd\n",
      ": PUNCT punct\n",
      "Shenzhen PROPN pd\n",
      "ist AUX ROOT\n",
      "das DET nk\n",
      "Silicon PROPN pnc\n",
      "Valley PROPN sb\n",
      "für ADP mnr\n",
      "Hardware-Firmen NOUN nk\n"
     ]
    }
   ],
   "source": [
    "import spacy\n",
    "from spacy.lang.de.examples import sentences\n",
    "\n",
    "nlp = spacy.load('de_core_news_sm')\n",
    "doc = nlp(sentences[0])\n",
    "print(doc.text)\n",
    "for token in doc:\n",
    "    print(token.text, token.pos_, token.dep_)"
   ]
  },
  {
   "cell_type": "code",
   "execution_count": 7,
   "metadata": {
    "ExecuteTime": {
     "end_time": "2019-01-03T08:39:11.525362Z",
     "start_time": "2019-01-03T08:39:11.426015Z"
    }
   },
   "outputs": [
    {
     "name": "stdout",
     "output_type": "stream",
     "text": [
      "Shenzhen 33 41 LOC\n",
      "Silicon Valley 50 64 LOC\n"
     ]
    }
   ],
   "source": [
    "for ent in doc.ents:\n",
    "    print(ent.text, ent.start_char, ent.end_char, ent.label_)"
   ]
  },
  {
   "cell_type": "code",
   "execution_count": 10,
   "metadata": {
    "ExecuteTime": {
     "end_time": "2019-01-03T08:40:29.701854Z",
     "start_time": "2019-01-03T08:40:28.827650Z"
    },
    "scrolled": true
   },
   "outputs": [
    {
     "name": "stdout",
     "output_type": "stream",
     "text": [
      "Shenzhen 33 41 LOC\n",
      "Silicon Valley 50 64 LOC\n"
     ]
    }
   ],
   "source": [
    "import spacy\n",
    "from spacy.lang.de.examples import sentences\n",
    "\n",
    "nlp = spacy.load('de_core_news_sm')\n",
    "doc = nlp(u'Die ganze Stadt ist ein Startup: Shenzhen ist das Silicon Valley für Hardware-Firmen')\n",
    "for ent in doc.ents:\n",
    "    print(ent.text, ent.start_char, ent.end_char, ent.label_)"
   ]
  },
  {
   "cell_type": "code",
   "execution_count": 12,
   "metadata": {
    "ExecuteTime": {
     "end_time": "2019-01-03T08:46:02.293634Z",
     "start_time": "2019-01-03T08:46:02.275855Z"
    }
   },
   "outputs": [
    {
     "name": "stdout",
     "output_type": "stream",
     "text": [
      "Silicon Valley 17 31 LOC\n"
     ]
    }
   ],
   "source": [
    "doc = nlp(u'Shenzhen ist das Silicon Valley für Hardware-Firmen')\n",
    "for ent in doc.ents:\n",
    "    print(ent.text, ent.start_char, ent.end_char, ent.label_)"
   ]
  },
  {
   "cell_type": "code",
   "execution_count": 1,
   "metadata": {
    "ExecuteTime": {
     "end_time": "2019-06-15T05:47:38.735122Z",
     "start_time": "2019-06-15T05:47:29.179395Z"
    }
   },
   "outputs": [
    {
     "name": "stdout",
     "output_type": "stream",
     "text": [
      "Apple cherche a acheter une startup anglaise pour 1 milliard de dollard\n",
      "Apple ADJ nsubj\n",
      "cherche NOUN amod\n",
      "a AUX aux\n",
      "acheter VERB ROOT\n",
      "une DET det\n",
      "startup ADJ obj\n",
      "anglaise NOUN amod\n",
      "pour ADP case\n",
      "1 NUM nummod\n",
      "milliard NOUN obl\n",
      "de ADP case\n",
      "dollard NOUN nmod\n"
     ]
    }
   ],
   "source": [
    "import spacy\n",
    "from spacy.lang.fr.examples import sentences\n",
    "\n",
    "nlp = spacy.load('fr_core_news_sm')\n",
    "doc = nlp(sentences[0])\n",
    "print(doc.text)\n",
    "for token in doc:\n",
    "    print(token.text, token.pos_, token.dep_)"
   ]
  },
  {
   "cell_type": "code",
   "execution_count": 9,
   "metadata": {
    "ExecuteTime": {
     "end_time": "2019-06-15T06:00:48.290572Z",
     "start_time": "2019-06-15T06:00:48.282182Z"
    }
   },
   "outputs": [
    {
     "name": "stdout",
     "output_type": "stream",
     "text": [
      "Apple 0 5 ORG\n"
     ]
    }
   ],
   "source": [
    "for ent in doc.ents:\n",
    "    print(ent.text, ent.start_char, ent.end_char, ent.label_)"
   ]
  },
  {
   "cell_type": "code",
   "execution_count": 7,
   "metadata": {
    "ExecuteTime": {
     "end_time": "2019-06-15T05:56:00.018721Z",
     "start_time": "2019-06-15T05:56:00.014137Z"
    }
   },
   "outputs": [],
   "source": [
    "from spacy import displacy\n",
    "# displacy.render(doc, style=\"dep\")\n",
    "# spacy.displacy.serve(doc, style='ent')"
   ]
  },
  {
   "cell_type": "code",
   "execution_count": 6,
   "metadata": {
    "ExecuteTime": {
     "end_time": "2019-06-15T05:52:45.967222Z",
     "start_time": "2019-06-15T05:52:45.963607Z"
    }
   },
   "outputs": [],
   "source": [
    "# displacy.render(doc, style=\"dep\")"
   ]
  },
  {
   "cell_type": "code",
   "execution_count": 11,
   "metadata": {
    "ExecuteTime": {
     "end_time": "2019-06-15T06:04:14.967559Z",
     "start_time": "2019-06-15T06:04:14.894287Z"
    }
   },
   "outputs": [
    {
     "data": {
      "text/html": [
       "<style>\n",
       "\n",
       ".markup {\n",
       "    white-space: pre-wrap;\n",
       "}\n",
       "\n",
       ".markup > mark {\n",
       "    padding: 0.15em;\n",
       "    border-radius: 0.25em;\n",
       "    border: 1px solid #fdf07c;\n",
       "    background: #ffffc2;\n",
       "}\n",
       "    </style><div class=\"markup tex2jax_ignore\"><mark>Shenzhen</mark> ist das <mark>Silicon</mark> Valley für <mark>Hardware</mark>-<mark>Firmen</mark></div>"
      ],
      "text/plain": [
       "<__main__.Matches at 0x132523400>"
      ]
     },
     "execution_count": 11,
     "metadata": {},
     "output_type": "execute_result"
    }
   ],
   "source": [
    "from natasha.markup import format_markup_css\n",
    "class Matches(object):\n",
    "    __attributes__ = ['text', 'matches']\n",
    "\n",
    "    def __init__(self, text, matches):\n",
    "        self.text = text\n",
    "        self.matches = matches\n",
    "\n",
    "    def __iter__(self):\n",
    "        return iter(self.matches)\n",
    "\n",
    "    def __getitem__(self, index):\n",
    "        return self.matches[index]\n",
    "\n",
    "    def __len__(self):\n",
    "        return len(self.matches)\n",
    "\n",
    "    def __bool__(self):\n",
    "        return bool(self.matches)\n",
    "\n",
    "    def _repr_html_(self):\n",
    "        spans = [(_[0],_[1]) for _ in self.matches]\n",
    "        return ''.join(format_markup_css(self.text, spans))\n",
    "\n",
    "sents='Shenzhen ist das Silicon Valley für Hardware-Firmen'\n",
    "doc = nlp(sents)\n",
    "entities=[(m.start_char, m.end_char, m.label_) \n",
    "          for m in doc.ents \n",
    "          if m.label_!='']\n",
    "matches = sorted(entities, key=lambda _: _[0])\n",
    "Matches(sents, matches)"
   ]
  }
 ],
 "metadata": {
  "kernelspec": {
   "display_name": "Python 3",
   "language": "python",
   "name": "python3"
  },
  "language_info": {
   "codemirror_mode": {
    "name": "ipython",
    "version": 3
   },
   "file_extension": ".py",
   "mimetype": "text/x-python",
   "name": "python",
   "nbconvert_exporter": "python",
   "pygments_lexer": "ipython3",
   "version": "3.6.4"
  },
  "varInspector": {
   "cols": {
    "lenName": 16,
    "lenType": 16,
    "lenVar": 40
   },
   "kernels_config": {
    "python": {
     "delete_cmd_postfix": "",
     "delete_cmd_prefix": "del ",
     "library": "var_list.py",
     "varRefreshCmd": "print(var_dic_list())"
    },
    "r": {
     "delete_cmd_postfix": ") ",
     "delete_cmd_prefix": "rm(",
     "library": "var_list.r",
     "varRefreshCmd": "cat(var_dic_list()) "
    }
   },
   "types_to_exclude": [
    "module",
    "function",
    "builtin_function_or_method",
    "instance",
    "_Feature"
   ],
   "window_display": false
  }
 },
 "nbformat": 4,
 "nbformat_minor": 2
}
