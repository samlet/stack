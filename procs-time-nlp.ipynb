{
 "cells": [
  {
   "cell_type": "code",
   "execution_count": 1,
   "metadata": {
    "ExecuteTime": {
     "end_time": "2019-07-04T16:50:52.670375Z",
     "start_time": "2019-07-04T16:50:51.646485Z"
    }
   },
   "outputs": [
    {
     "name": "stdout",
     "output_type": "stream",
     "text": [
      "<class 'py4j.java_gateway.JavaObject'>\n",
      "<class 'py4j.java_gateway.JavaGateway'>\n"
     ]
    }
   ],
   "source": [
    "from py4j.java_gateway import JavaGateway, GatewayParameters\n",
    "# gateway = JavaGateway(gateway_parameters=GatewayParameters(auto_field=True))    \n",
    "gateway = JavaGateway(gateway_parameters=GatewayParameters(address='localhost', port=25333))\n",
    "analyst=gateway.entry_point.getTimeAnalyst()\n",
    "print(type(analyst))\n",
    "print(type(gateway))"
   ]
  },
  {
   "cell_type": "code",
   "execution_count": 2,
   "metadata": {
    "ExecuteTime": {
     "end_time": "2019-07-04T16:50:56.527031Z",
     "start_time": "2019-07-04T16:50:56.359766Z"
    }
   },
   "outputs": [
    {
     "name": "stdout",
     "output_type": "stream",
     "text": [
      "Mon Jul 08 15:00:00 GMT 2019\n"
     ]
    }
   ],
   "source": [
    "normalizer=analyst.getNormalizer()\n",
    "normalizer.parse(\"Hi，all.下周一下午三点开会\")\n",
    "units = normalizer.getTimeUnit()\n",
    "for unit in units:\n",
    "    print(unit.getTime())"
   ]
  },
  {
   "cell_type": "code",
   "execution_count": 5,
   "metadata": {
    "ExecuteTime": {
     "end_time": "2019-01-01T09:21:32.901188Z",
     "start_time": "2019-01-01T09:21:32.893029Z"
    }
   },
   "outputs": [
    {
     "name": "stdout",
     "output_type": "stream",
     "text": [
      "Help on class TimeUnit[] in package com.time.nlp:\n",
      "\n",
      "TimeUnit[] implements java.lang.Cloneable, java.io.Serializable {\n",
      "|  \n",
      "|  Methods defined here:\n",
      "|  \n",
      "|  ------------------------------------------------------------\n",
      "|  Fields defined here:\n",
      "|  \n",
      "|  ------------------------------------------------------------\n",
      "|  Internal classes defined here:\n",
      "|  \n",
      "}\n"
     ]
    }
   ],
   "source": [
    "gateway.help(units)"
   ]
  },
  {
   "cell_type": "code",
   "execution_count": 7,
   "metadata": {
    "ExecuteTime": {
     "end_time": "2019-01-01T09:22:58.405405Z",
     "start_time": "2019-01-01T09:22:58.393878Z"
    }
   },
   "outputs": [
    {
     "name": "stdout",
     "output_type": "stream",
     "text": [
      "2019-01-07 15:00:00-False\n"
     ]
    }
   ],
   "source": [
    "DateUtil=gateway.jvm.com.time.util.DateUtil()\n",
    "print(DateUtil.formatDateDefault(units[0].getTime()) + \"-\" + str(units[0].getIsAllDayTime()))"
   ]
  },
  {
   "cell_type": "code",
   "execution_count": 8,
   "metadata": {
    "ExecuteTime": {
     "end_time": "2019-01-01T11:23:59.495194Z",
     "start_time": "2019-01-01T11:23:59.481941Z"
    }
   },
   "outputs": [
    {
     "name": "stdout",
     "output_type": "stream",
     "text": [
      "2019-01-02 06:00:00-False\n"
     ]
    }
   ],
   "source": [
    "normalizer.parse(\"早上六点起床\")\n",
    "unit = normalizer.getTimeUnit()\n",
    "print(DateUtil.formatDateDefault(unit[0].getTime()) + \"-\" + str(unit[0].getIsAllDayTime()))"
   ]
  },
  {
   "cell_type": "code",
   "execution_count": 10,
   "metadata": {
    "ExecuteTime": {
     "end_time": "2019-01-01T11:26:20.257663Z",
     "start_time": "2019-01-01T11:26:20.245300Z"
    }
   },
   "outputs": [
    {
     "name": "stdout",
     "output_type": "stream",
     "text": [
      "周一开会\n",
      "2019-01-07 00:00:00-True\n"
     ]
    }
   ],
   "source": [
    "normalizer.parse(\"周一开会\") # 如果本周已经是周二，识别为下周周一。同理处理各级时间。（未来倾向）\n",
    "unit = normalizer.getTimeUnit()\n",
    "print(\"周一开会\");\n",
    "print(DateUtil.formatDateDefault(unit[0].getTime()) + \"-\" + str(unit[0].getIsAllDayTime()))"
   ]
  },
  {
   "cell_type": "code",
   "execution_count": 7,
   "metadata": {
    "ExecuteTime": {
     "end_time": "2019-01-02T12:10:00.572924Z",
     "start_time": "2019-01-02T12:10:00.452522Z"
    }
   },
   "outputs": [
    {
     "name": "stdout",
     "output_type": "stream",
     "text": [
      "6月3春游\n",
      "2019-06-01 00:00:00-True\n",
      "6月3日春游\n",
      "2019-06-03 00:00:00-True\n"
     ]
    }
   ],
   "source": [
    "def pp(sent):\n",
    "    DateUtil=gateway.jvm.com.time.util.DateUtil()\n",
    "    normalizer.parse(sent)\n",
    "    unit = normalizer.getTimeUnit()\n",
    "    print(sent)\n",
    "    print(DateUtil.formatDateDefault(unit[0].getTime()) + \"-\" + str(unit[0].getIsAllDayTime()))\n",
    "    if len(unit)==2:\n",
    "        print(DateUtil.formatDateDefault(unit[1].getTime()) + \"-\" + str(unit[1].getIsAllDayTime()))\n",
    "\n",
    "pp(\"6月3春游\") # 残缺时间的识别 （打字输入时可便捷用户）\n",
    "pp(\"6月3日春游\")"
   ]
  },
  {
   "cell_type": "code",
   "execution_count": 16,
   "metadata": {
    "ExecuteTime": {
     "end_time": "2019-01-01T11:31:22.861043Z",
     "start_time": "2019-01-01T11:31:22.835474Z"
    }
   },
   "outputs": [
    {
     "name": "stdout",
     "output_type": "stream",
     "text": [
      "明天早上跑步\n",
      "2019-01-02 08:00:00-False\n",
      "本周日到下周日出差\n",
      "2019-01-06 00:00:00-True\n",
      "2019-01-13 00:00:00-True\n"
     ]
    }
   ],
   "source": [
    "pp(\"明天早上跑步\") # 模糊时间范围识别（可在RangeTimeEnum中修改)\n",
    "pp(\"本周日到下周日出差\") # 多时间识别"
   ]
  },
  {
   "cell_type": "code",
   "execution_count": 17,
   "metadata": {
    "ExecuteTime": {
     "end_time": "2019-01-01T11:32:48.061269Z",
     "start_time": "2019-01-01T11:32:48.047053Z"
    }
   },
   "outputs": [
    {
     "name": "stdout",
     "output_type": "stream",
     "text": [
      "周四下午三点到五点开会\n",
      "2019-01-03 15:00:00-False\n",
      "2019-01-03 17:00:00-False\n"
     ]
    }
   ],
   "source": [
    "pp(\"周四下午三点到五点开会\") # 多时间识别，注意第二个时间点用了第一个时间的上文"
   ]
  },
  {
   "cell_type": "code",
   "execution_count": 3,
   "metadata": {
    "ExecuteTime": {
     "end_time": "2019-01-02T13:03:39.455268Z",
     "start_time": "2019-01-02T13:03:39.330639Z"
    },
    "scrolled": true
   },
   "outputs": [
    {
     "name": "stdout",
     "output_type": "stream",
     "text": [
      "周五下午7点到8点 ## 周5下午7点到8点\n",
      "时间文本:周5下午7点,对应时间:2017-07-21 19:00:00\n",
      "2017\n",
      "时间文本:8点,对应时间:2017-07-21 20:00:00\n",
      "2017\n",
      "周5下午7点\n",
      "8点\n",
      "[{'start': 0, 'end': 6}, {'start': 7, 'end': 9}]\n"
     ]
    }
   ],
   "source": [
    "import py4j\n",
    "DateUtil=gateway.jvm.com.time.util.DateUtil()\n",
    "def f(object, fld):\n",
    "    return py4j.java_gateway.get_field(object, fld)\n",
    "def positions(words, text):\n",
    "    running_offset = 0\n",
    "    tokens = []\n",
    "    for word in words:\n",
    "        print(word)\n",
    "        word_offset = text.index(word, running_offset)\n",
    "        word_len = len(word)\n",
    "        running_offset = word_offset + word_len\n",
    "        tokens.append({\"start\":word_offset, \"end\":running_offset})\n",
    "    return tokens\n",
    "\n",
    "text=\"周五下午7点到8点\"\n",
    "normalizer=analyst.getNormalizer()\n",
    "normalizer.parse(text, \"2017-07-19-00-00-00\")\n",
    "units = normalizer.getTimeUnit()\n",
    "print(text, \"##\", normalizer.getTarget())\n",
    "words=[]\n",
    "for unit in units:\n",
    "    expr=f(unit, \"Time_Expression\")\n",
    "    words.append(expr)\n",
    "    print(\"时间文本:\"+ expr +\",对应时间:\"+ DateUtil.formatDateDefault(unit.getTime()))\n",
    "    time_full=(f(unit, \"time_full\"))\n",
    "    print(time_full[0])\n",
    "tokens= positions(words, normalizer.getTarget())\n",
    "print(tokens)"
   ]
  },
  {
   "cell_type": "code",
   "execution_count": 23,
   "metadata": {
    "ExecuteTime": {
     "end_time": "2019-01-01T11:36:59.253053Z",
     "start_time": "2019-01-01T11:36:59.244347Z"
    }
   },
   "outputs": [
    {
     "name": "stdout",
     "output_type": "stream",
     "text": [
      "Help on class JavaMember in module py4j.java_gateway:\n",
      "\n",
      "class JavaMember(builtins.object)\n",
      " |  Methods defined here:\n",
      " |  \n",
      " |  __call__(self, *args)\n",
      " |      Call self as a function.\n",
      " |  \n",
      " |  __init__(self, name, container, target_id, gateway_client)\n",
      " |      Initialize self.  See help(type(self)) for accurate signature.\n",
      " |  \n",
      " |  stream(self, *args)\n",
      " |      Call the method using the 'binary' protocol.\n",
      " |      \n",
      " |      :rtype: The `GatewayConnection` that the call command was sent to.\n",
      " |  \n",
      " |  ----------------------------------------------------------------------\n",
      " |  Data descriptors defined here:\n",
      " |  \n",
      " |  __dict__\n",
      " |      dictionary for instance variables (if defined)\n",
      " |  \n",
      " |  __weakref__\n",
      " |      list of weak references to the object (if defined)\n",
      "\n"
     ]
    }
   ],
   "source": [
    "import py4j\n",
    "help(py4j.java_gateway.JavaMember)"
   ]
  }
 ],
 "metadata": {
  "kernelspec": {
   "display_name": "Python 3",
   "language": "python",
   "name": "python3"
  },
  "language_info": {
   "codemirror_mode": {
    "name": "ipython",
    "version": 3
   },
   "file_extension": ".py",
   "mimetype": "text/x-python",
   "name": "python",
   "nbconvert_exporter": "python",
   "pygments_lexer": "ipython3",
   "version": "3.6.4"
  },
  "varInspector": {
   "cols": {
    "lenName": 16,
    "lenType": 16,
    "lenVar": 40
   },
   "kernels_config": {
    "python": {
     "delete_cmd_postfix": "",
     "delete_cmd_prefix": "del ",
     "library": "var_list.py",
     "varRefreshCmd": "print(var_dic_list())"
    },
    "r": {
     "delete_cmd_postfix": ") ",
     "delete_cmd_prefix": "rm(",
     "library": "var_list.r",
     "varRefreshCmd": "cat(var_dic_list()) "
    }
   },
   "types_to_exclude": [
    "module",
    "function",
    "builtin_function_or_method",
    "instance",
    "_Feature"
   ],
   "window_display": false
  }
 },
 "nbformat": 4,
 "nbformat_minor": 2
}
