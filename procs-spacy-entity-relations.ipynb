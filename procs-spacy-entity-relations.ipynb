{
 "cells": [
  {
   "cell_type": "code",
   "execution_count": 1,
   "metadata": {
    "ExecuteTime": {
     "end_time": "2019-06-01T00:27:56.628979Z",
     "start_time": "2019-06-01T00:27:55.297639Z"
    }
   },
   "outputs": [],
   "source": [
    "import plac\n",
    "import spacy\n",
    "model=\"en_core_web_sm\"\n",
    "nlp = spacy.load(model)"
   ]
  },
  {
   "cell_type": "code",
   "execution_count": 31,
   "metadata": {
    "ExecuteTime": {
     "end_time": "2019-06-01T00:41:31.800753Z",
     "start_time": "2019-06-01T00:41:31.721400Z"
    }
   },
   "outputs": [],
   "source": [
    "def filter_spans(spans):\n",
    "    # Filter a sequence of spans so they don't contain overlaps\n",
    "    get_sort_key = lambda span: (span.end - span.start, span.start)\n",
    "    sorted_spans = sorted(spans, key=get_sort_key, reverse=True)\n",
    "    result = []\n",
    "    seen_tokens = set()\n",
    "    for span in sorted_spans:\n",
    "        if span.start not in seen_tokens and span.end - 1 not in seen_tokens:\n",
    "            result.append(span)\n",
    "            seen_tokens.update(range(span.start, span.end))\n",
    "    return result\n",
    "\n",
    "\n",
    "def extract_currency_relations(doc, ent_type=\"MONEY\"):\n",
    "    # Merge entities and noun chunks into one token\n",
    "    seen_tokens = set()\n",
    "    spans = list(doc.ents) + list(doc.noun_chunks)\n",
    "    spans = filter_spans(spans)\n",
    "    with doc.retokenize() as retokenizer:\n",
    "        for span in spans:\n",
    "            retokenizer.merge(span)\n",
    "\n",
    "    relations = []\n",
    "    for el in doc:\n",
    "        if el.ent_type_ is not None and el.ent_type_!='':\n",
    "            print('--', el.ent_type_)\n",
    "    for money in filter(lambda w: w.ent_type_ == ent_type, doc):\n",
    "        print('**', money.text)\n",
    "        if money.dep_ in (\"attr\", \"dobj\"):\n",
    "            subject = [w for w in money.head.lefts if w.dep_ == \"nsubj\"]\n",
    "            if subject:\n",
    "                subject = subject[0]\n",
    "                relations.append((subject, money))\n",
    "            else:\n",
    "                print('entity no nsubj')\n",
    "        elif money.dep_ == \"pobj\" and money.head.dep_ == \"prep\":\n",
    "            relations.append((money.head.head, money))\n",
    "        else:\n",
    "            print('skip entity dep', money.dep_)\n",
    "    return relations"
   ]
  },
  {
   "cell_type": "code",
   "execution_count": 32,
   "metadata": {
    "ExecuteTime": {
     "end_time": "2019-06-01T00:41:34.248837Z",
     "start_time": "2019-06-01T00:41:34.193032Z"
    }
   },
   "outputs": [
    {
     "name": "stdout",
     "output_type": "stream",
     "text": [
      "-- MONEY\n",
      "-- DATE\n",
      "-- MONEY\n",
      "** $9.4 million\n",
      "** $2.7 million\n",
      "Net income\tMONEY\t$9.4 million\n",
      "the prior year\tMONEY\t$2.7 million\n",
      "-- MONEY\n",
      "-- MONEY\n",
      "** twelve billion dollars\n",
      "** 1b\n",
      "Revenue   \tMONEY\ttwelve billion dollars\n",
      "a loss    \tMONEY\t1b\n"
     ]
    }
   ],
   "source": [
    "TEXTS = [\n",
    "    \"Net income was $9.4 million compared to the prior year of $2.7 million.\",\n",
    "    \"Revenue exceeded twelve billion dollars, with a loss of $1b.\",\n",
    "]\n",
    "for text in TEXTS:\n",
    "    doc = nlp(text)\n",
    "    relations = extract_currency_relations(doc, \"MONEY\")\n",
    "    for r1, r2 in relations:\n",
    "        print(\"{:<10}\\t{}\\t{}\".format(r1.text, r2.ent_type_, r2.text))"
   ]
  },
  {
   "cell_type": "code",
   "execution_count": 34,
   "metadata": {
    "ExecuteTime": {
     "end_time": "2019-06-01T00:46:03.456708Z",
     "start_time": "2019-06-01T00:46:03.428973Z"
    }
   },
   "outputs": [
    {
     "name": "stdout",
     "output_type": "stream",
     "text": [
      "['PERSON']\n"
     ]
    }
   ],
   "source": [
    "# doc = nlp('I am a student')\n",
    "doc = nlp(u\"Mr. Best is a student.\")\n",
    "ents = list(doc.ents)\n",
    "print([ent.label_ for ent in ents])\n",
    "relations = extract_currency_relations(doc, \"PERSON\")\n",
    "for r1, r2 in relations:\n",
    "    print(\"{:<10}\\t{}\\t{}\".format(r1.text, r2.ent_type_, r2.text))"
   ]
  },
  {
   "cell_type": "code",
   "execution_count": 36,
   "metadata": {
    "ExecuteTime": {
     "end_time": "2019-06-01T00:48:06.783179Z",
     "start_time": "2019-06-01T00:48:06.064361Z"
    }
   },
   "outputs": [
    {
     "data": {
      "text/html": [
       "<div>\n",
       "<style scoped>\n",
       "    .dataframe tbody tr th:only-of-type {\n",
       "        vertical-align: middle;\n",
       "    }\n",
       "\n",
       "    .dataframe tbody tr th {\n",
       "        vertical-align: top;\n",
       "    }\n",
       "\n",
       "    .dataframe thead th {\n",
       "        text-align: right;\n",
       "    }\n",
       "</style>\n",
       "<table border=\"1\" class=\"dataframe\">\n",
       "  <thead>\n",
       "    <tr style=\"text-align: right;\">\n",
       "      <th></th>\n",
       "      <th>head</th>\n",
       "      <th>root_dep</th>\n",
       "      <th>root_text</th>\n",
       "      <th>text</th>\n",
       "    </tr>\n",
       "  </thead>\n",
       "  <tbody>\n",
       "    <tr>\n",
       "      <th>0</th>\n",
       "      <td>is</td>\n",
       "      <td>nsubj</td>\n",
       "      <td>Best</td>\n",
       "      <td>Mr. Best</td>\n",
       "    </tr>\n",
       "    <tr>\n",
       "      <th>1</th>\n",
       "      <td>is</td>\n",
       "      <td>attr</td>\n",
       "      <td>student</td>\n",
       "      <td>a university student</td>\n",
       "    </tr>\n",
       "  </tbody>\n",
       "</table>\n",
       "</div>"
      ],
      "text/plain": [
       "  head root_dep root_text                  text\n",
       "0   is    nsubj      Best              Mr. Best\n",
       "1   is     attr   student  a university student"
      ]
     },
     "execution_count": 36,
     "metadata": {},
     "output_type": "execute_result"
    }
   ],
   "source": [
    "import plac\n",
    "import spacy\n",
    "from sagas.nlu.spacy_helper import chunks_df, doc_df\n",
    "model=\"en_core_web_sm\"\n",
    "nlp = spacy.load(model)\n",
    "doc = nlp(u\"Mr. Best is a university student.\")\n",
    "chunks_df(doc)"
   ]
  },
  {
   "cell_type": "code",
   "execution_count": 37,
   "metadata": {
    "ExecuteTime": {
     "end_time": "2019-06-01T00:51:18.636571Z",
     "start_time": "2019-06-01T00:51:18.605951Z"
    }
   },
   "outputs": [
    {
     "data": {
      "text/html": [
       "<div>\n",
       "<style scoped>\n",
       "    .dataframe tbody tr th:only-of-type {\n",
       "        vertical-align: middle;\n",
       "    }\n",
       "\n",
       "    .dataframe tbody tr th {\n",
       "        vertical-align: top;\n",
       "    }\n",
       "\n",
       "    .dataframe thead th {\n",
       "        text-align: right;\n",
       "    }\n",
       "</style>\n",
       "<table border=\"1\" class=\"dataframe\">\n",
       "  <thead>\n",
       "    <tr style=\"text-align: right;\">\n",
       "      <th></th>\n",
       "      <th>head</th>\n",
       "      <th>root_dep</th>\n",
       "      <th>root_text</th>\n",
       "      <th>text</th>\n",
       "    </tr>\n",
       "  </thead>\n",
       "  <tbody>\n",
       "    <tr>\n",
       "      <th>0</th>\n",
       "      <td>was</td>\n",
       "      <td>nsubj</td>\n",
       "      <td>income</td>\n",
       "      <td>Net income</td>\n",
       "    </tr>\n",
       "    <tr>\n",
       "      <th>1</th>\n",
       "      <td>to</td>\n",
       "      <td>pobj</td>\n",
       "      <td>year</td>\n",
       "      <td>the prior year</td>\n",
       "    </tr>\n",
       "  </tbody>\n",
       "</table>\n",
       "</div>"
      ],
      "text/plain": [
       "  head root_dep root_text            text\n",
       "0  was    nsubj    income      Net income\n",
       "1   to     pobj      year  the prior year"
      ]
     },
     "execution_count": 37,
     "metadata": {},
     "output_type": "execute_result"
    }
   ],
   "source": [
    "doc=nlp(\"Net income was $9.4 million compared to the prior year of $2.7 million.\")\n",
    "chunks_df(doc)"
   ]
  },
  {
   "cell_type": "code",
   "execution_count": 38,
   "metadata": {
    "ExecuteTime": {
     "end_time": "2019-06-01T00:52:42.196549Z",
     "start_time": "2019-06-01T00:52:42.161598Z"
    }
   },
   "outputs": [
    {
     "data": {
      "text/html": [
       "<div>\n",
       "<style scoped>\n",
       "    .dataframe tbody tr th:only-of-type {\n",
       "        vertical-align: middle;\n",
       "    }\n",
       "\n",
       "    .dataframe tbody tr th {\n",
       "        vertical-align: top;\n",
       "    }\n",
       "\n",
       "    .dataframe thead th {\n",
       "        text-align: right;\n",
       "    }\n",
       "</style>\n",
       "<table border=\"1\" class=\"dataframe\">\n",
       "  <thead>\n",
       "    <tr style=\"text-align: right;\">\n",
       "      <th></th>\n",
       "      <th>head</th>\n",
       "      <th>root_dep</th>\n",
       "      <th>root_text</th>\n",
       "      <th>text</th>\n",
       "    </tr>\n",
       "  </thead>\n",
       "  <tbody>\n",
       "    <tr>\n",
       "      <th>0</th>\n",
       "      <td>exceeded</td>\n",
       "      <td>nsubj</td>\n",
       "      <td>Revenue</td>\n",
       "      <td>Revenue</td>\n",
       "    </tr>\n",
       "    <tr>\n",
       "      <th>1</th>\n",
       "      <td>exceeded</td>\n",
       "      <td>dobj</td>\n",
       "      <td>dollars</td>\n",
       "      <td>twelve billion dollars</td>\n",
       "    </tr>\n",
       "  </tbody>\n",
       "</table>\n",
       "</div>"
      ],
      "text/plain": [
       "       head root_dep root_text                    text\n",
       "0  exceeded    nsubj   Revenue                 Revenue\n",
       "1  exceeded     dobj   dollars  twelve billion dollars"
      ]
     },
     "execution_count": 38,
     "metadata": {},
     "output_type": "execute_result"
    }
   ],
   "source": [
    "doc=nlp('Revenue exceeded twelve billion dollars')\n",
    "chunks_df(doc)"
   ]
  },
  {
   "cell_type": "code",
   "execution_count": 39,
   "metadata": {
    "ExecuteTime": {
     "end_time": "2019-06-01T00:53:23.734503Z",
     "start_time": "2019-06-01T00:53:23.716661Z"
    }
   },
   "outputs": [
    {
     "data": {
      "text/html": [
       "<div>\n",
       "<style scoped>\n",
       "    .dataframe tbody tr th:only-of-type {\n",
       "        vertical-align: middle;\n",
       "    }\n",
       "\n",
       "    .dataframe tbody tr th {\n",
       "        vertical-align: top;\n",
       "    }\n",
       "\n",
       "    .dataframe thead th {\n",
       "        text-align: right;\n",
       "    }\n",
       "</style>\n",
       "<table border=\"1\" class=\"dataframe\">\n",
       "  <thead>\n",
       "    <tr style=\"text-align: right;\">\n",
       "      <th></th>\n",
       "      <th>dep</th>\n",
       "      <th>lemma</th>\n",
       "      <th>pos</th>\n",
       "      <th>tag</th>\n",
       "      <th>text</th>\n",
       "    </tr>\n",
       "  </thead>\n",
       "  <tbody>\n",
       "    <tr>\n",
       "      <th>0</th>\n",
       "      <td>nsubj</td>\n",
       "      <td>revenue</td>\n",
       "      <td>NOUN</td>\n",
       "      <td>NN</td>\n",
       "      <td>Revenue</td>\n",
       "    </tr>\n",
       "    <tr>\n",
       "      <th>1</th>\n",
       "      <td>ROOT</td>\n",
       "      <td>exceed</td>\n",
       "      <td>VERB</td>\n",
       "      <td>VBD</td>\n",
       "      <td>exceeded</td>\n",
       "    </tr>\n",
       "    <tr>\n",
       "      <th>2</th>\n",
       "      <td>compound</td>\n",
       "      <td>twelve</td>\n",
       "      <td>NUM</td>\n",
       "      <td>CD</td>\n",
       "      <td>twelve</td>\n",
       "    </tr>\n",
       "    <tr>\n",
       "      <th>3</th>\n",
       "      <td>nummod</td>\n",
       "      <td>billion</td>\n",
       "      <td>NUM</td>\n",
       "      <td>CD</td>\n",
       "      <td>billion</td>\n",
       "    </tr>\n",
       "    <tr>\n",
       "      <th>4</th>\n",
       "      <td>dobj</td>\n",
       "      <td>dollar</td>\n",
       "      <td>NOUN</td>\n",
       "      <td>NNS</td>\n",
       "      <td>dollars</td>\n",
       "    </tr>\n",
       "  </tbody>\n",
       "</table>\n",
       "</div>"
      ],
      "text/plain": [
       "        dep    lemma   pos  tag      text\n",
       "0     nsubj  revenue  NOUN   NN   Revenue\n",
       "1      ROOT   exceed  VERB  VBD  exceeded\n",
       "2  compound   twelve   NUM   CD    twelve\n",
       "3    nummod  billion   NUM   CD   billion\n",
       "4      dobj   dollar  NOUN  NNS   dollars"
      ]
     },
     "execution_count": 39,
     "metadata": {},
     "output_type": "execute_result"
    }
   ],
   "source": [
    "doc_df(doc)"
   ]
  },
  {
   "cell_type": "code",
   "execution_count": 48,
   "metadata": {
    "ExecuteTime": {
     "end_time": "2019-06-01T01:11:24.822703Z",
     "start_time": "2019-06-01T01:11:24.677273Z"
    }
   },
   "outputs": [
    {
     "name": "stdout",
     "output_type": "stream",
     "text": [
      "revenue --(nsubj)--> exceed\n",
      "exceed --(ROOT)--> exceed\n",
      "twelve --(compound)--> billion\n",
      "billion --(nummod)--> dollar\n",
      "dollar --(dobj)--> exceed\n"
     ]
    },
    {
     "data": {
      "image/svg+xml": [
       "<?xml version=\"1.0\" encoding=\"UTF-8\" standalone=\"no\"?>\n",
       "<!DOCTYPE svg PUBLIC \"-//W3C//DTD SVG 1.1//EN\"\n",
       " \"http://www.w3.org/Graphics/SVG/1.1/DTD/svg11.dtd\">\n",
       "<!-- Generated by graphviz version 2.40.1 (20161225.0304)\n",
       " -->\n",
       "<!-- Title: deps Pages: 1 -->\n",
       "<svg width=\"432pt\" height=\"135pt\"\n",
       " viewBox=\"0.00 0.00 432.00 134.80\" xmlns=\"http://www.w3.org/2000/svg\" xmlns:xlink=\"http://www.w3.org/1999/xlink\">\n",
       "<g id=\"graph0\" class=\"graph\" transform=\"scale(.8083 .8083) rotate(0) translate(4 162.7717)\">\n",
       "<title>deps</title>\n",
       "<polygon fill=\"#ffffff\" stroke=\"transparent\" points=\"-4,4 -4,-162.7717 530.466,-162.7717 530.466,4 -4,4\"/>\n",
       "<!-- revenue -->\n",
       "<g id=\"node1\" class=\"node\">\n",
       "<title>revenue</title>\n",
       "<ellipse fill=\"none\" stroke=\"#000000\" cx=\"352.7339\" cy=\"-120.6793\" rx=\"38.1851\" ry=\"38.1851\"/>\n",
       "<text text-anchor=\"middle\" x=\"352.7339\" y=\"-116.4793\" font-family=\"Times,serif\" font-size=\"14.00\" fill=\"#000000\">revenue</text>\n",
       "</g>\n",
       "<!-- exceed -->\n",
       "<g id=\"node2\" class=\"node\">\n",
       "<title>exceed</title>\n",
       "<ellipse fill=\"none\" stroke=\"#000000\" cx=\"491.8151\" cy=\"-76.6793\" rx=\"34.8024\" ry=\"34.8024\"/>\n",
       "<text text-anchor=\"middle\" x=\"491.8151\" y=\"-72.4793\" font-family=\"Times,serif\" font-size=\"14.00\" fill=\"#000000\">exceed</text>\n",
       "</g>\n",
       "<!-- revenue&#45;&gt;exceed -->\n",
       "<g id=\"edge1\" class=\"edge\">\n",
       "<title>revenue&#45;&gt;exceed</title>\n",
       "<path fill=\"none\" stroke=\"#000000\" d=\"M389.2758,-109.1188C407.5065,-103.3513 429.6762,-96.3377 448.7312,-90.3094\"/>\n",
       "<polygon fill=\"#000000\" stroke=\"#000000\" points=\"449.896,-93.612 458.3745,-87.2587 447.7845,-86.938 449.896,-93.612\"/>\n",
       "<text text-anchor=\"middle\" x=\"423.9953\" y=\"-104.4793\" font-family=\"Times,serif\" font-size=\"14.00\" fill=\"#000000\">nsubj</text>\n",
       "</g>\n",
       "<!-- exceed&#45;&gt;exceed -->\n",
       "<g id=\"edge2\" class=\"edge\">\n",
       "<title>exceed&#45;&gt;exceed</title>\n",
       "<path fill=\"none\" stroke=\"#000000\" d=\"M479.4431,-109.0704C479.3122,-120.2787 483.4362,-129.3302 491.8151,-129.3302 497.4447,-129.3302 501.1535,-125.2442 502.9416,-119.1633\"/>\n",
       "<polygon fill=\"#000000\" stroke=\"#000000\" points=\"506.4359,-119.4238 504.1871,-109.0704 499.4886,-118.5664 506.4359,-119.4238\"/>\n",
       "<text text-anchor=\"middle\" x=\"491.8151\" y=\"-132.1302\" font-family=\"Times,serif\" font-size=\"14.00\" fill=\"#000000\">ROOT</text>\n",
       "</g>\n",
       "<!-- twelve -->\n",
       "<g id=\"node3\" class=\"node\">\n",
       "<title>twelve</title>\n",
       "<ellipse fill=\"none\" stroke=\"#000000\" cx=\"33.6793\" cy=\"-33.6793\" rx=\"33.8596\" ry=\"33.8596\"/>\n",
       "<text text-anchor=\"middle\" x=\"33.6793\" y=\"-29.4793\" font-family=\"Times,serif\" font-size=\"14.00\" fill=\"#000000\">twelve</text>\n",
       "</g>\n",
       "<!-- billion -->\n",
       "<g id=\"node4\" class=\"node\">\n",
       "<title>billion</title>\n",
       "<ellipse fill=\"none\" stroke=\"#000000\" cx=\"195.6622\" cy=\"-33.6793\" rx=\"33.4012\" ry=\"33.4012\"/>\n",
       "<text text-anchor=\"middle\" x=\"195.6622\" y=\"-29.4793\" font-family=\"Times,serif\" font-size=\"14.00\" fill=\"#000000\">billion</text>\n",
       "</g>\n",
       "<!-- twelve&#45;&gt;billion -->\n",
       "<g id=\"edge3\" class=\"edge\">\n",
       "<title>twelve&#45;&gt;billion</title>\n",
       "<path fill=\"none\" stroke=\"#000000\" d=\"M67.6362,-33.6793C92.206,-33.6793 125.6132,-33.6793 152.1411,-33.6793\"/>\n",
       "<polygon fill=\"#000000\" stroke=\"#000000\" points=\"152.3049,-37.1794 162.3048,-33.6793 152.3048,-30.1794 152.3049,-37.1794\"/>\n",
       "<text text-anchor=\"middle\" x=\"114.9104\" y=\"-36.4793\" font-family=\"Times,serif\" font-size=\"14.00\" fill=\"#000000\">compound</text>\n",
       "</g>\n",
       "<!-- dollar -->\n",
       "<g id=\"node5\" class=\"node\">\n",
       "<title>dollar</title>\n",
       "<ellipse fill=\"none\" stroke=\"#000000\" cx=\"352.7339\" cy=\"-33.6793\" rx=\"30.9706\" ry=\"30.9706\"/>\n",
       "<text text-anchor=\"middle\" x=\"352.7339\" y=\"-29.4793\" font-family=\"Times,serif\" font-size=\"14.00\" fill=\"#000000\">dollar</text>\n",
       "</g>\n",
       "<!-- billion&#45;&gt;dollar -->\n",
       "<g id=\"edge4\" class=\"edge\">\n",
       "<title>billion&#45;&gt;dollar</title>\n",
       "<path fill=\"none\" stroke=\"#000000\" d=\"M228.973,-33.6793C253.1131,-33.6793 285.901,-33.6793 311.6638,-33.6793\"/>\n",
       "<polygon fill=\"#000000\" stroke=\"#000000\" points=\"311.8715,-37.1794 321.8714,-33.6793 311.8714,-30.1794 311.8715,-37.1794\"/>\n",
       "<text text-anchor=\"middle\" x=\"271.7518\" y=\"-36.4793\" font-family=\"Times,serif\" font-size=\"14.00\" fill=\"#000000\">nummod</text>\n",
       "</g>\n",
       "<!-- dollar&#45;&gt;exceed -->\n",
       "<g id=\"edge5\" class=\"edge\">\n",
       "<title>dollar&#45;&gt;exceed</title>\n",
       "<path fill=\"none\" stroke=\"#000000\" d=\"M382.2294,-42.7985C401.5909,-48.7845 427.2348,-56.7129 448.8478,-63.3951\"/>\n",
       "<polygon fill=\"#000000\" stroke=\"#000000\" points=\"447.8698,-66.7561 458.4575,-66.3661 449.9375,-60.0684 447.8698,-66.7561\"/>\n",
       "<text text-anchor=\"middle\" x=\"423.9953\" y=\"-63.4793\" font-family=\"Times,serif\" font-size=\"14.00\" fill=\"#000000\">dobj</text>\n",
       "</g>\n",
       "</g>\n",
       "</svg>\n"
      ],
      "text/plain": [
       "<graphviz.dot.Digraph at 0x123c8d0b8>"
      ]
     },
     "execution_count": 48,
     "metadata": {},
     "output_type": "execute_result"
    }
   ],
   "source": [
    "class SpacyViz(object):\n",
    "    def __init__(self):\n",
    "        from graphviz import Digraph\n",
    "        self.f = Digraph('deps', filename='deps.gv')\n",
    "        self.f.attr(rankdir='LR', size='6,4')\n",
    "        self.f.attr('node', shape='circle')\n",
    "\n",
    "    def print_dependencies(self, doc, segs, file=None):\n",
    "        for word in doc:\n",
    "            print(\"%s --(%s)--> %s\" % (word.lemma_, word.dep_, word.head.lemma_))\n",
    "            self.f.edge(word.lemma_, word.head.lemma_, label=word.dep_)\n",
    "\n",
    "    def analyse(self, sents):\n",
    "        segs = []\n",
    "        doc = nlp(sents)\n",
    "        for word in doc:\n",
    "            self.f.node(word.lemma_)\n",
    "            segs.append(word.lemma_)\n",
    "        self.print_dependencies(doc, segs)\n",
    "        return self.f\n",
    "    \n",
    "    def analyse_chunks(self, sents):\n",
    "        segs = []\n",
    "        doc = nlp(sents)\n",
    "        print(chunks_df(doc))\n",
    "        for chunk in doc.noun_chunks:\n",
    "            self.f.edge(chunk.root.text, \n",
    "                        chunk.root.head.text, \n",
    "                        label=chunk.root.dep_)        \n",
    "        return self.f\n",
    "\n",
    "SpacyViz().analyse('Revenue exceeded twelve billion dollars')"
   ]
  },
  {
   "cell_type": "code",
   "execution_count": 49,
   "metadata": {
    "ExecuteTime": {
     "end_time": "2019-06-01T01:11:31.208590Z",
     "start_time": "2019-06-01T01:11:31.114079Z"
    }
   },
   "outputs": [
    {
     "name": "stdout",
     "output_type": "stream",
     "text": [
      "       head root_dep root_text                    text\n",
      "0  exceeded    nsubj   Revenue                 Revenue\n",
      "1  exceeded     dobj   dollars  twelve billion dollars\n"
     ]
    },
    {
     "data": {
      "image/svg+xml": [
       "<?xml version=\"1.0\" encoding=\"UTF-8\" standalone=\"no\"?>\n",
       "<!DOCTYPE svg PUBLIC \"-//W3C//DTD SVG 1.1//EN\"\n",
       " \"http://www.w3.org/Graphics/SVG/1.1/DTD/svg11.dtd\">\n",
       "<!-- Generated by graphviz version 2.40.1 (20161225.0304)\n",
       " -->\n",
       "<!-- Title: deps Pages: 1 -->\n",
       "<svg width=\"242pt\" height=\"176pt\"\n",
       " viewBox=\"0.00 0.00 242.43 176.22\" xmlns=\"http://www.w3.org/2000/svg\" xmlns:xlink=\"http://www.w3.org/1999/xlink\">\n",
       "<g id=\"graph0\" class=\"graph\" transform=\"scale(1 1) rotate(0) translate(4 172.2219)\">\n",
       "<title>deps</title>\n",
       "<polygon fill=\"#ffffff\" stroke=\"transparent\" points=\"-4,4 -4,-172.2219 238.4254,-172.2219 238.4254,4 -4,4\"/>\n",
       "<!-- Revenue -->\n",
       "<g id=\"node1\" class=\"node\">\n",
       "<title>Revenue</title>\n",
       "<ellipse fill=\"none\" stroke=\"#000000\" cx=\"41.046\" cy=\"-127.1759\" rx=\"41.092\" ry=\"41.092\"/>\n",
       "<text text-anchor=\"middle\" x=\"41.046\" y=\"-122.9759\" font-family=\"Times,serif\" font-size=\"14.00\" fill=\"#000000\">Revenue</text>\n",
       "</g>\n",
       "<!-- exceeded -->\n",
       "<g id=\"node2\" class=\"node\">\n",
       "<title>exceeded</title>\n",
       "<ellipse fill=\"none\" stroke=\"#000000\" cx=\"191.4277\" cy=\"-80.1759\" rx=\"42.9956\" ry=\"42.9956\"/>\n",
       "<text text-anchor=\"middle\" x=\"191.4277\" y=\"-75.9759\" font-family=\"Times,serif\" font-size=\"14.00\" fill=\"#000000\">exceeded</text>\n",
       "</g>\n",
       "<!-- Revenue&#45;&gt;exceeded -->\n",
       "<g id=\"edge1\" class=\"edge\">\n",
       "<title>Revenue&#45;&gt;exceeded</title>\n",
       "<path fill=\"none\" stroke=\"#000000\" d=\"M80.557,-114.8272C98.9449,-109.0803 121.0389,-102.1751 140.6482,-96.0464\"/>\n",
       "<polygon fill=\"#000000\" stroke=\"#000000\" points=\"141.8439,-99.3397 150.3445,-93.0159 139.7557,-92.6585 141.8439,-99.3397\"/>\n",
       "<text text-anchor=\"middle\" x=\"115.2609\" y=\"-109.9759\" font-family=\"Times,serif\" font-size=\"14.00\" fill=\"#000000\">nsubj</text>\n",
       "</g>\n",
       "<!-- dollars -->\n",
       "<g id=\"node3\" class=\"node\">\n",
       "<title>dollars</title>\n",
       "<ellipse fill=\"none\" stroke=\"#000000\" cx=\"41.046\" cy=\"-34.1759\" rx=\"34.3527\" ry=\"34.3527\"/>\n",
       "<text text-anchor=\"middle\" x=\"41.046\" y=\"-29.9759\" font-family=\"Times,serif\" font-size=\"14.00\" fill=\"#000000\">dollars</text>\n",
       "</g>\n",
       "<!-- dollars&#45;&gt;exceeded -->\n",
       "<g id=\"edge2\" class=\"edge\">\n",
       "<title>dollars&#45;&gt;exceeded</title>\n",
       "<path fill=\"none\" stroke=\"#000000\" d=\"M74.0479,-44.2708C93.4668,-50.2108 118.4366,-57.8488 140.3504,-64.5519\"/>\n",
       "<polygon fill=\"#000000\" stroke=\"#000000\" points=\"139.5864,-67.9783 150.1728,-67.5565 141.634,-61.2844 139.5864,-67.9783\"/>\n",
       "<text text-anchor=\"middle\" x=\"115.2609\" y=\"-63.9759\" font-family=\"Times,serif\" font-size=\"14.00\" fill=\"#000000\">dobj</text>\n",
       "</g>\n",
       "</g>\n",
       "</svg>\n"
      ],
      "text/plain": [
       "<graphviz.dot.Digraph at 0x123c84e48>"
      ]
     },
     "execution_count": 49,
     "metadata": {},
     "output_type": "execute_result"
    }
   ],
   "source": [
    "SpacyViz().analyse_chunks('Revenue exceeded twelve billion dollars')"
   ]
  },
  {
   "cell_type": "code",
   "execution_count": 50,
   "metadata": {
    "ExecuteTime": {
     "end_time": "2019-06-01T01:15:08.817484Z",
     "start_time": "2019-06-01T01:15:08.710451Z"
    }
   },
   "outputs": [
    {
     "name": "stdout",
     "output_type": "stream",
     "text": [
      "  head root_dep root_text                  text\n",
      "0   is    nsubj      Best              Mr. Best\n",
      "1   is     attr   student  a university student\n"
     ]
    },
    {
     "data": {
      "image/svg+xml": [
       "<?xml version=\"1.0\" encoding=\"UTF-8\" standalone=\"no\"?>\n",
       "<!DOCTYPE svg PUBLIC \"-//W3C//DTD SVG 1.1//EN\"\n",
       " \"http://www.w3.org/Graphics/SVG/1.1/DTD/svg11.dtd\">\n",
       "<!-- Generated by graphviz version 2.40.1 (20161225.0304)\n",
       " -->\n",
       "<!-- Title: deps Pages: 1 -->\n",
       "<svg width=\"182pt\" height=\"148pt\"\n",
       " viewBox=\"0.00 0.00 181.64 148.48\" xmlns=\"http://www.w3.org/2000/svg\" xmlns:xlink=\"http://www.w3.org/1999/xlink\">\n",
       "<g id=\"graph0\" class=\"graph\" transform=\"scale(1 1) rotate(0) translate(4 144.4817)\">\n",
       "<title>deps</title>\n",
       "<polygon fill=\"#ffffff\" stroke=\"transparent\" points=\"-4,4 -4,-144.4817 177.6433,-144.4817 177.6433,4 -4,4\"/>\n",
       "<!-- Best -->\n",
       "<g id=\"node1\" class=\"node\">\n",
       "<title>Best</title>\n",
       "<ellipse fill=\"none\" stroke=\"#000000\" cx=\"35.6527\" cy=\"-114.6527\" rx=\"25.6592\" ry=\"25.6592\"/>\n",
       "<text text-anchor=\"middle\" x=\"35.6527\" y=\"-110.4527\" font-family=\"Times,serif\" font-size=\"14.00\" fill=\"#000000\">Best</text>\n",
       "</g>\n",
       "<!-- is -->\n",
       "<g id=\"node2\" class=\"node\">\n",
       "<title>is</title>\n",
       "<ellipse fill=\"none\" stroke=\"#000000\" cx=\"155.6433\" cy=\"-74.6527\" rx=\"18\" ry=\"18\"/>\n",
       "<text text-anchor=\"middle\" x=\"155.6433\" y=\"-70.4527\" font-family=\"Times,serif\" font-size=\"14.00\" fill=\"#000000\">is</text>\n",
       "</g>\n",
       "<!-- Best&#45;&gt;is -->\n",
       "<g id=\"edge1\" class=\"edge\">\n",
       "<title>Best&#45;&gt;is</title>\n",
       "<path fill=\"none\" stroke=\"#000000\" d=\"M60.2241,-106.4616C80.1666,-99.8135 108.2448,-90.4534 128.7792,-83.6081\"/>\n",
       "<polygon fill=\"#000000\" stroke=\"#000000\" points=\"130.0856,-86.862 138.4655,-80.3791 127.8718,-80.2213 130.0856,-86.862\"/>\n",
       "<text text-anchor=\"middle\" x=\"104.4743\" y=\"-98.4527\" font-family=\"Times,serif\" font-size=\"14.00\" fill=\"#000000\">nsubj</text>\n",
       "</g>\n",
       "<!-- student -->\n",
       "<g id=\"node3\" class=\"node\">\n",
       "<title>student</title>\n",
       "<ellipse fill=\"none\" stroke=\"#000000\" cx=\"35.6527\" cy=\"-35.6527\" rx=\"35.806\" ry=\"35.806\"/>\n",
       "<text text-anchor=\"middle\" x=\"35.6527\" y=\"-31.4527\" font-family=\"Times,serif\" font-size=\"14.00\" fill=\"#000000\">student</text>\n",
       "</g>\n",
       "<!-- student&#45;&gt;is -->\n",
       "<g id=\"edge2\" class=\"edge\">\n",
       "<title>student&#45;&gt;is</title>\n",
       "<path fill=\"none\" stroke=\"#000000\" d=\"M69.7162,-46.7242C88.4819,-52.8235 111.439,-60.2852 128.9018,-65.961\"/>\n",
       "<polygon fill=\"#000000\" stroke=\"#000000\" points=\"127.8833,-69.3102 138.4755,-69.0727 130.0471,-62.653 127.8833,-69.3102\"/>\n",
       "<text text-anchor=\"middle\" x=\"104.4743\" y=\"-64.4527\" font-family=\"Times,serif\" font-size=\"14.00\" fill=\"#000000\">attr</text>\n",
       "</g>\n",
       "</g>\n",
       "</svg>\n"
      ],
      "text/plain": [
       "<graphviz.dot.Digraph at 0x123c8eba8>"
      ]
     },
     "execution_count": 50,
     "metadata": {},
     "output_type": "execute_result"
    }
   ],
   "source": [
    "SpacyViz().analyse_chunks(\"Mr. Best is a university student.\")"
   ]
  },
  {
   "cell_type": "code",
   "execution_count": 52,
   "metadata": {
    "ExecuteTime": {
     "end_time": "2019-06-01T01:38:01.455838Z",
     "start_time": "2019-06-01T01:38:01.431994Z"
    }
   },
   "outputs": [
    {
     "name": "stdout",
     "output_type": "stream",
     "text": [
      "{\n",
      "  \"nsubj\": \"Revenue\",\n",
      "  \"nsubj|text\": \"Revenue\",\n",
      "  \"nsubj|head\": \"exceeded\",\n",
      "  \"dobj\": \"dollars\",\n",
      "  \"dobj|text\": \"twelve billion dollars\",\n",
      "  \"dobj|head\": \"exceeded\"\n",
      "}\n"
     ]
    }
   ],
   "source": [
    "def put_chunks(doc, props):\n",
    "    toks = {'text': [], 'root_text': [], 'root_dep': [], 'head': []}\n",
    "    for chunk in doc.noun_chunks:\n",
    "        # print(chunk.text, chunk.root.text, chunk.root.dep_,\n",
    "        #      chunk.root.head.text)\n",
    "        toks['text'].append(chunk.text)\n",
    "        toks['root_text'].append(chunk.root.text)\n",
    "        toks['root_dep'].append(chunk.root.dep_)\n",
    "        toks['head'].append(chunk.root.head.text)\n",
    "        props[chunk.root.dep_]=chunk.root.text\n",
    "        props[chunk.root.dep_+'|text']=chunk.text\n",
    "        props[chunk.root.dep_+'|head']=chunk.root.head.text\n",
    "    return toks\n",
    "\n",
    "props={}\n",
    "put_chunks(doc, props)\n",
    "print(json.dumps(props, indent=2))"
   ]
  },
  {
   "cell_type": "code",
   "execution_count": 55,
   "metadata": {
    "ExecuteTime": {
     "end_time": "2019-06-01T02:42:25.830293Z",
     "start_time": "2019-06-01T02:42:25.129010Z"
    }
   },
   "outputs": [],
   "source": [
    "import spacy\n",
    "from spacy.symbols import nsubj, VERB\n",
    "\n",
    "nlp = spacy.load(\"en_core_web_sm\")"
   ]
  },
  {
   "cell_type": "code",
   "execution_count": 66,
   "metadata": {
    "ExecuteTime": {
     "end_time": "2019-06-01T03:06:56.521759Z",
     "start_time": "2019-06-01T03:06:56.189951Z"
    }
   },
   "outputs": [
    {
     "name": "stdout",
     "output_type": "stream",
     "text": [
      "[\"put\"]\n"
     ]
    }
   ],
   "source": [
    "# doc = nlp(u\"Autonomous cars shift insurance liability toward manufacturers\")\n",
    "# doc=nlp(\"Do you know which way to take?\")\n",
    "# doc=nlp(\"Keep an eye on my suitcase while I get my ticket.\")\n",
    "doc=nlp('I put on my hat')\n",
    "# doc=nlp('In order to do this')\n",
    "# Finding a verb with a subject from below — good\n",
    "verbs = []\n",
    "for possible_subject in doc:\n",
    "    if possible_subject.dep == nsubj and possible_subject.head.pos == VERB:\n",
    "        verbs.append(possible_subject.head.lemma_)\n",
    "print(json.dumps(verbs))"
   ]
  }
 ],
 "metadata": {
  "kernelspec": {
   "display_name": "Python 3",
   "language": "python",
   "name": "python3"
  },
  "language_info": {
   "codemirror_mode": {
    "name": "ipython",
    "version": 3
   },
   "file_extension": ".py",
   "mimetype": "text/x-python",
   "name": "python",
   "nbconvert_exporter": "python",
   "pygments_lexer": "ipython3",
   "version": "3.6.4"
  },
  "varInspector": {
   "cols": {
    "lenName": 16,
    "lenType": 16,
    "lenVar": 40
   },
   "kernels_config": {
    "python": {
     "delete_cmd_postfix": "",
     "delete_cmd_prefix": "del ",
     "library": "var_list.py",
     "varRefreshCmd": "print(var_dic_list())"
    },
    "r": {
     "delete_cmd_postfix": ") ",
     "delete_cmd_prefix": "rm(",
     "library": "var_list.r",
     "varRefreshCmd": "cat(var_dic_list()) "
    }
   },
   "types_to_exclude": [
    "module",
    "function",
    "builtin_function_or_method",
    "instance",
    "_Feature"
   ],
   "window_display": false
  }
 },
 "nbformat": 4,
 "nbformat_minor": 2
}
