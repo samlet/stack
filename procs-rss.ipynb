{
 "cells": [
  {
   "cell_type": "code",
   "execution_count": 21,
   "metadata": {
    "ExecuteTime": {
     "end_time": "2019-05-22T22:20:30.411831Z",
     "start_time": "2019-05-22T22:20:28.489367Z"
    }
   },
   "outputs": [
    {
     "name": "stdout",
     "output_type": "stream",
     "text": [
      "dict_keys(['title', 'title_detail', 'summary', 'summary_detail', 'published', 'published_parsed', 'id', 'guidislink', 'link', 'links'])\n"
     ]
    }
   ],
   "source": [
    "import feedparser\n",
    "NewsFeed = feedparser.parse(\"https://rsshub.app/bilibili/user/video/286700005\")\n",
    "entry = NewsFeed.entries[1]\n",
    "print(entry.keys())"
   ]
  },
  {
   "cell_type": "code",
   "execution_count": 17,
   "metadata": {
    "ExecuteTime": {
     "end_time": "2019-05-22T14:59:36.096870Z",
     "start_time": "2019-05-22T14:59:36.083789Z"
    }
   },
   "outputs": [
    {
     "name": "stdout",
     "output_type": "stream",
     "text": [
      "俺は７位以下で即放送終了マリオカートだ!!!【#フブキch】\n",
      "Tue, 21 May 2019 19:00:59 GMT\n",
      "https://www.bilibili.com/video/av53197640\n",
      "ホロライブ所属のバーチャル狐！白上フブキです。\n",
      "７位以下で即放送終了マリオカート、流行ってほしいです。\n",
      "勝ち取りたい。\n",
      "\n",
      "\n",
      "\n",
      "＝＝＝＝＝＝＝＝＝＝＝＝＝＝＝＝＝＝＝＝＝＝＝＝＝＝＝＝\n",
      "????３Dアニメーション：「ホロのぐらふぃてぃ」????\n",
      "\n",
      "５月５日から下記のチャンネルにてホロライブの３Dアニメーションが\n",
      "公開されていきます！\n",
      "よろしくおねがいします(^・ω・^§)ﾉ✨\n",
      "\n",
      "毎週日曜日投稿予定！✨\n",
      "\n",
      "ホロライブ：https://www.youtube.com/channel/UCJFZ...\n",
      "\n",
      "＝＝＝＝<br><img referrerpolicy=\"no-referrer\" src=\"//i1.hdslb.com/bfs/archive/e9e0500caa8623a4d374fbdd4ec01664f32ab225.jpg\">\n",
      "---------------\n",
      "【スプラ2】うまうまになってやるんだ余ー!!!!!【#百鬼あやめ_ホロライブ】\n"
     ]
    }
   ],
   "source": [
    "print(entry.title)\n",
    "print(entry.published)\n",
    "print(entry.link)\n",
    "print(entry.summary)\n",
    "print('---------------')\n",
    "print(NewsFeed.entries[0].title)"
   ]
  },
  {
   "cell_type": "code",
   "execution_count": 13,
   "metadata": {
    "ExecuteTime": {
     "end_time": "2019-05-22T14:53:36.543623Z",
     "start_time": "2019-05-22T14:53:36.535242Z"
    }
   },
   "outputs": [
    {
     "name": "stdout",
     "output_type": "stream",
     "text": [
      "{\n",
      "  \"title\": \"俺は７位以下で即放送終了マリオカートだ!!!【#フブキch】\",\n",
      "  \"title_detail\": {\n",
      "    \"type\": \"text/plain\",\n",
      "    \"language\": null,\n",
      "    \"base\": \"https://rsshub.app/bilibili/user/video/286700005\",\n",
      "    \"value\": \"俺は７位以下で即放送終了マリオカートだ!!!【#フブキch】\"\n",
      "  },\n",
      "  \"summary\": \"ホロライブ所属のバーチャル狐！白上フブキです。\\n７位以下で即放送終了マリオカート、流行ってほしいです。\\n勝ち取りたい。\\n\\n\\n\\n＝＝＝＝＝＝＝＝＝＝＝＝＝＝＝＝＝＝＝＝＝＝＝＝＝＝＝＝\\n????３Dアニメーション：「ホロのぐらふぃてぃ」????\\n\\n５月５日から下記のチャンネルにてホロライブの３Dアニメーションが\\n公開されていきます！\\nよろしくおねがいします(^・ω・^§)ﾉ✨\\n\\n毎週日曜日投稿予定！✨\\n\\nホロライブ：https://www.youtube.com/channel/UCJFZ...\\n\\n＝＝＝＝<br><img referrerpolicy=\\\"no-referrer\\\" src=\\\"//i1.hdslb.com/bfs/archive/e9e0500caa8623a4d374fbdd4ec01664f32ab225.jpg\\\">\",\n",
      "  \"summary_detail\": {\n",
      "    \"type\": \"text/html\",\n",
      "    \"language\": null,\n",
      "    \"base\": \"https://rsshub.app/bilibili/user/video/286700005\",\n",
      "    \"value\": \"ホロライブ所属のバーチャル狐！白上フブキです。\\n７位以下で即放送終了マリオカート、流行ってほしいです。\\n勝ち取りたい。\\n\\n\\n\\n＝＝＝＝＝＝＝＝＝＝＝＝＝＝＝＝＝＝＝＝＝＝＝＝＝＝＝＝\\n????３Dアニメーション：「ホロのぐらふぃてぃ」????\\n\\n５月５日から下記のチャンネルにてホロライブの３Dアニメーションが\\n公開されていきます！\\nよろしくおねがいします(^・ω・^§)ﾉ✨\\n\\n毎週日曜日投稿予定！✨\\n\\nホロライブ：https://www.youtube.com/channel/UCJFZ...\\n\\n＝＝＝＝<br><img referrerpolicy=\\\"no-referrer\\\" src=\\\"//i1.hdslb.com/bfs/archive/e9e0500caa8623a4d374fbdd4ec01664f32ab225.jpg\\\">\"\n",
      "  },\n",
      "  \"published\": \"Tue, 21 May 2019 19:00:59 GMT\",\n",
      "  \"published_parsed\": [\n",
      "    2019,\n",
      "    5,\n",
      "    21,\n",
      "    19,\n",
      "    0,\n",
      "    59,\n",
      "    1,\n",
      "    141,\n",
      "    0\n",
      "  ],\n",
      "  \"id\": \"https://www.bilibili.com/video/av53197640\",\n",
      "  \"guidislink\": true,\n",
      "  \"link\": \"https://www.bilibili.com/video/av53197640\",\n",
      "  \"links\": [\n",
      "    {\n",
      "      \"rel\": \"alternate\",\n",
      "      \"type\": \"text/html\",\n",
      "      \"href\": \"https://www.bilibili.com/video/av53197640\"\n",
      "    }\n",
      "  ]\n",
      "}\n"
     ]
    }
   ],
   "source": [
    "print(json.dumps(entry, ensure_ascii=False, indent=2))"
   ]
  },
  {
   "cell_type": "code",
   "execution_count": 35,
   "metadata": {
    "ExecuteTime": {
     "end_time": "2019-05-22T23:05:02.020287Z",
     "start_time": "2019-05-22T23:05:02.010734Z"
    }
   },
   "outputs": [
    {
     "name": "stdout",
     "output_type": "stream",
     "text": [
      "hololive 的 bilibili 空间\n",
      "https://space.bilibili.com/286700005\n",
      "{\n",
      "  \"title\": \"hololive 的 bilibili 空间\",\n",
      "  \"title_detail\": {\n",
      "    \"type\": \"text/plain\",\n",
      "    \"language\": null,\n",
      "    \"base\": \"https://rsshub.app/bilibili/user/video/286700005\",\n",
      "    \"value\": \"hololive 的 bilibili 空间\"\n",
      "  },\n",
      "  \"links\": [\n",
      "    {\n",
      "      \"rel\": \"alternate\",\n",
      "      \"type\": \"text/html\",\n",
      "      \"href\": \"https://space.bilibili.com/286700005\"\n",
      "    }\n",
      "  ],\n",
      "  \"link\": \"https://space.bilibili.com/286700005\",\n",
      "  \"subtitle\": \"hololive 的 bilibili 空间 - Made with love by RSSHub(https://github.com/DIYgod/RSSHub)\",\n",
      "  \"subtitle_detail\": {\n",
      "    \"type\": \"text/html\",\n",
      "    \"language\": null,\n",
      "    \"base\": \"https://rsshub.app/bilibili/user/video/286700005\",\n",
      "    \"value\": \"hololive 的 bilibili 空间 - Made with love by RSSHub(https://github.com/DIYgod/RSSHub)\"\n",
      "  },\n",
      "  \"generator_detail\": {\n",
      "    \"name\": \"RSSHub\"\n",
      "  },\n",
      "  \"generator\": \"RSSHub\",\n",
      "  \"publisher\": \"i@diygod.me\",\n",
      "  \"publisher_detail\": {\n",
      "    \"email\": \"i@diygod.me\"\n",
      "  },\n",
      "  \"language\": \"zh-cn\",\n",
      "  \"updated\": \"Wed, 22 May 2019 22:19:15 GMT\",\n",
      "  \"updated_parsed\": [\n",
      "    2019,\n",
      "    5,\n",
      "    22,\n",
      "    22,\n",
      "    19,\n",
      "    15,\n",
      "    2,\n",
      "    142,\n",
      "    0\n",
      "  ],\n",
      "  \"ttl\": \"1200\"\n",
      "}\n"
     ]
    }
   ],
   "source": [
    "import json\n",
    "\n",
    "print(NewsFeed['feed']['title'])\n",
    "print(NewsFeed['feed']['link'])\n",
    "feed_data=NewsFeed['feed']\n",
    "print(json.dumps(feed_data, ensure_ascii=False, indent=2))"
   ]
  },
  {
   "cell_type": "code",
   "execution_count": 4,
   "metadata": {
    "ExecuteTime": {
     "end_time": "2019-05-22T14:47:26.632515Z",
     "start_time": "2019-05-22T14:47:26.628023Z"
    }
   },
   "outputs": [],
   "source": [
    "# d = feedparser.parse('http://feedparser.org/docs/examples/atom10.xml')"
   ]
  },
  {
   "cell_type": "code",
   "execution_count": 36,
   "metadata": {
    "ExecuteTime": {
     "end_time": "2019-05-23T22:18:43.461694Z",
     "start_time": "2019-05-23T22:18:43.439446Z"
    }
   },
   "outputs": [],
   "source": [
    "import urllib.request\n",
    "import shutil\n",
    "url=\"https://rsshub.app/bilibili/user/video/286700005\"\n",
    "file_name=\"./data/rss/user_video_286700005.xml\"\n",
    "\n",
    "# Download the file from `url` and save it locally under `file_name`:\n",
    "# urllib.request.urlretrieve(url, file_name)\n",
    "# issue: HTTPError: HTTP Error 403: Forbidden\n",
    "# fix: 用requests代替\n",
    "# with urllib.request.urlopen(url) as response, open(file_name, 'wb') as out_file:\n",
    "#     shutil.copyfileobj(response, out_file)"
   ]
  },
  {
   "cell_type": "code",
   "execution_count": 27,
   "metadata": {
    "ExecuteTime": {
     "end_time": "2019-05-22T22:25:25.824442Z",
     "start_time": "2019-05-22T22:25:13.498897Z"
    }
   },
   "outputs": [],
   "source": [
    "from requests import get  # to make GET request\n",
    "\n",
    "def download(url, file_name):\n",
    "    # open in binary mode\n",
    "    with open(file_name, \"wb\") as file:\n",
    "        # get request\n",
    "        response = get(url)\n",
    "        # write to file\n",
    "        file.write(response.content)\n",
    "download(url, file_name)        "
   ]
  },
  {
   "cell_type": "code",
   "execution_count": 40,
   "metadata": {
    "ExecuteTime": {
     "end_time": "2019-05-23T22:20:59.079503Z",
     "start_time": "2019-05-23T22:20:59.030308Z"
    }
   },
   "outputs": [
    {
     "name": "stdout",
     "output_type": "stream",
     "text": [
      "dict_keys(['title', 'title_detail', 'summary', 'summary_detail', 'published', 'published_parsed', 'id', 'guidislink', 'link', 'links'])\n",
      "♮id https://www.bilibili.com/video/av53296373\n",
      "♮title 【地獄企画】嫌いなもの大食い選手権！！！！！！！！！！\n",
      "Wed, 22 May 2019 19:30:03 GMT\n",
      "♮link https://www.bilibili.com/video/av53296373\n",
      "♮summary ★さくらみこ\n",
      "YouTube→https://www.youtube.com/channel/UC-hM...\n",
      "\n",
      "★ロボ子さん\n",
      "YouTube→https://www.youtube.com/channel/UCDqI...\n",
      "\n",
      "\n",
      "\n",
      "春の新入学ボイス発売中！\n",
      "https://hololive.booth.pm/items/1327223\n",
      "\n",
      "\n",
      "海外の方は、自分で、「転送コム」というBOOTHと提携しているサービスを使うことにより、海外から注文し、海外で商品を受取ることが可能です。\n",
      "（海外的朋友们，BOOTH有<br><img referrerpolicy=\"no-referrer\" src=\"//i1.hdslb.com/bfs/archive/23296595e003fe4b7871cb8987a7eedf192736e0.jpg\">\n"
     ]
    }
   ],
   "source": [
    "def print_entry_fields(entry):\n",
    "    print('♮id', entry.id) # corresponding to guid\n",
    "    print('♮title', entry.title) # title\n",
    "    print(entry.published)\n",
    "    print('♮link', entry.link)\n",
    "    print('♮summary', entry.summary) # corresponding to description\n",
    "\n",
    "import feedparser\n",
    "feed = feedparser.parse(file_name)\n",
    "entry = feed.entries[0]\n",
    "print(entry.keys())\n",
    "print_entry_fields(entry)"
   ]
  },
  {
   "cell_type": "code",
   "execution_count": 41,
   "metadata": {
    "ExecuteTime": {
     "end_time": "2019-05-26T15:52:26.064169Z",
     "start_time": "2019-05-26T15:52:26.025457Z"
    }
   },
   "outputs": [
    {
     "name": "stdout",
     "output_type": "stream",
     "text": [
      "Wed, 22 May 2019 19:30:03 GMT\n",
      "2019-05-22T19:30:03+00:00\n"
     ]
    }
   ],
   "source": [
    "from dateutil.parser import parse\n",
    "print(entry.published)\n",
    "print(parse(entry.published).isoformat())"
   ]
  },
  {
   "cell_type": "code",
   "execution_count": 53,
   "metadata": {
    "ExecuteTime": {
     "end_time": "2019-05-26T17:56:26.808868Z",
     "start_time": "2019-05-26T17:56:26.800545Z"
    }
   },
   "outputs": [
    {
     "name": "stdout",
     "output_type": "stream",
     "text": [
      "{\n",
      "  \"title\": \"hololive 的 bilibili 空间\",\n",
      "  \"title_detail\": {\n",
      "    \"type\": \"text/plain\",\n",
      "    \"language\": null,\n",
      "    \"base\": \"\",\n",
      "    \"value\": \"hololive 的 bilibili 空间\"\n",
      "  },\n",
      "  \"links\": [\n",
      "    {\n",
      "      \"rel\": \"alternate\",\n",
      "      \"type\": \"text/html\",\n",
      "      \"href\": \"https://space.bilibili.com/286700005\"\n",
      "    }\n",
      "  ],\n",
      "  \"link\": \"https://space.bilibili.com/286700005\",\n",
      "  \"subtitle\": \"hololive 的 bilibili 空间 - Made with love by RSSHub(https://github.com/DIYgod/RSSHub)\",\n",
      "  \"subtitle_detail\": {\n",
      "    \"type\": \"text/html\",\n",
      "    \"language\": null,\n",
      "    \"base\": \"\",\n",
      "    \"value\": \"hololive 的 bilibili 空间 - Made with love by RSSHub(https://github.com/DIYgod/RSSHub)\"\n",
      "  },\n",
      "  \"generator_detail\": {\n",
      "    \"name\": \"RSSHub\"\n",
      "  },\n",
      "  \"generator\": \"RSSHub\",\n",
      "  \"publisher\": \"i@diygod.me\",\n",
      "  \"publisher_detail\": {\n",
      "    \"email\": \"i@diygod.me\"\n",
      "  },\n",
      "  \"language\": \"zh-cn\",\n",
      "  \"updated\": \"Wed, 22 May 2019 22:19:15 GMT\",\n",
      "  \"updated_parsed\": [\n",
      "    2019,\n",
      "    5,\n",
      "    22,\n",
      "    22,\n",
      "    19,\n",
      "    15,\n",
      "    2,\n",
      "    142,\n",
      "    0\n",
      "  ],\n",
      "  \"ttl\": \"1200\"\n",
      "}\n"
     ]
    }
   ],
   "source": [
    "feed_data=feed['feed']\n",
    "print(json.dumps(feed_data, ensure_ascii=False, indent=2))"
   ]
  },
  {
   "cell_type": "code",
   "execution_count": 44,
   "metadata": {
    "ExecuteTime": {
     "end_time": "2019-05-26T15:58:57.081082Z",
     "start_time": "2019-05-26T15:58:57.067808Z"
    }
   },
   "outputs": [
    {
     "name": "stdout",
     "output_type": "stream",
     "text": [
      "hololive 的 bilibili 空间 https://space.bilibili.com/286700005 hololive 的 bilibili 空间 - Made with love by RSSHub(https://github.com/DIYgod/RSSHub) 2019-05-22T22:19:15+00:00\n"
     ]
    }
   ],
   "source": [
    "def iso_date(dt):\n",
    "    return parse(dt).isoformat()\n",
    "print(feed_data.title, feed_data.link, feed_data.subtitle, \n",
    "      iso_date(feed_data.updated))"
   ]
  },
  {
   "cell_type": "code",
   "execution_count": 55,
   "metadata": {
    "ExecuteTime": {
     "end_time": "2019-05-26T18:00:18.573145Z",
     "start_time": "2019-05-26T18:00:18.564263Z"
    }
   },
   "outputs": [
    {
     "name": "stdout",
     "output_type": "stream",
     "text": [
      "{\n",
      "  \"title\": \"hololive 的 bilibili 空间\",\n",
      "  \"link\": \"https://space.bilibili.com/286700005\",\n",
      "  \"subtitle\": \"hololive 的 bilibili 空间 - Made with love by RSSHub(https://github.com/DIYgod/RSSHub)\",\n",
      "  \"updated\": \"2019-05-22T22:19:15+00:00\"\n",
      "}\n"
     ]
    }
   ],
   "source": [
    "def feed_jsonify(feed_data):\n",
    "    cols=['title', 'link', 'subtitle', 'updated']\n",
    "    return dict(zip(cols, [feed_data.title, feed_data.link, feed_data.subtitle, \n",
    "      iso_date(feed_data.updated)]))\n",
    "\n",
    "print(json.dumps(feed_jsonify(feed_data), indent=2, ensure_ascii=False))"
   ]
  },
  {
   "cell_type": "code",
   "execution_count": 60,
   "metadata": {
    "ExecuteTime": {
     "end_time": "2019-05-26T18:16:37.797902Z",
     "start_time": "2019-05-26T18:16:37.780545Z"
    }
   },
   "outputs": [
    {
     "name": "stdout",
     "output_type": "stream",
     "text": [
      "♮id https://www.bilibili.com/video/av53296373\n",
      "♮title 【地獄企画】嫌いなもの大食い選手権！！！！！！！！！！\n",
      "Wed, 22 May 2019 19:30:03 GMT\n",
      "♮link https://www.bilibili.com/video/av53296373\n",
      "♮summary ★さくらみこ\n",
      "YouTube→https://www.youtube.com/channel/UC-hM...\n",
      "\n",
      "★ロボ子さん\n",
      "YouTube→https://www.youtube.com/channel/UCDqI...\n",
      "\n",
      "\n",
      "\n",
      "春の新入学ボイス発売中！\n",
      "https://hololive.booth.pm/items/1327223\n",
      "\n",
      "\n",
      "海外の方は、自分で、「転送コム」というBOOTHと提携しているサービスを使うことにより、海外から注文し、海外で商品を受取ることが可能です。\n",
      "（海外的朋友们，BOOTH有<br><img referrerpolicy=\"no-referrer\" src=\"//i1.hdslb.com/bfs/archive/23296595e003fe4b7871cb8987a7eedf192736e0.jpg\">\n"
     ]
    }
   ],
   "source": [
    "def print_entry_fields(entry):\n",
    "    print('♮id', entry.id) # corresponding to guid\n",
    "    print('♮title', entry.title) # title\n",
    "    print(entry.published)\n",
    "    print('♮link', entry.link)\n",
    "    print('♮summary', entry.summary) # corresponding to description\n",
    "\n",
    "def entry_jsonify(entry, lang='ja'):\n",
    "    return {'id':entry.id, 'title@'+lang:entry.title,\n",
    "           'published':iso_date(entry.published),\n",
    "           'link':entry.link,\n",
    "           'summary':entry.summary}\n",
    "\n",
    "entry = feed.entries[0]\n",
    "print_entry_fields(entry)"
   ]
  },
  {
   "cell_type": "code",
   "execution_count": 61,
   "metadata": {
    "ExecuteTime": {
     "end_time": "2019-05-26T18:16:46.594759Z",
     "start_time": "2019-05-26T18:16:46.586604Z"
    }
   },
   "outputs": [
    {
     "name": "stdout",
     "output_type": "stream",
     "text": [
      "{\n",
      "  \"id\": \"https://www.bilibili.com/video/av53296373\",\n",
      "  \"title@ja\": \"【地獄企画】嫌いなもの大食い選手権！！！！！！！！！！\",\n",
      "  \"published\": \"2019-05-22T19:30:03+00:00\",\n",
      "  \"link\": \"https://www.bilibili.com/video/av53296373\",\n",
      "  \"summary\": \"★さくらみこ\\nYouTube→https://www.youtube.com/channel/UC-hM...\\n\\n★ロボ子さん\\nYouTube→https://www.youtube.com/channel/UCDqI...\\n\\n\\n\\n春の新入学ボイス発売中！\\nhttps://hololive.booth.pm/items/1327223\\n\\n\\n海外の方は、自分で、「転送コム」というBOOTHと提携しているサービスを使うことにより、海外から注文し、海外で商品を受取ることが可能です。\\n（海外的朋友们，BOOTH有<br><img referrerpolicy=\\\"no-referrer\\\" src=\\\"//i1.hdslb.com/bfs/archive/23296595e003fe4b7871cb8987a7eedf192736e0.jpg\\\">\"\n",
      "}\n"
     ]
    }
   ],
   "source": [
    "print(json.dumps(entry_jsonify(entry), indent=2, ensure_ascii=False))"
   ]
  },
  {
   "cell_type": "code",
   "execution_count": 62,
   "metadata": {
    "ExecuteTime": {
     "end_time": "2019-05-26T18:16:54.359098Z",
     "start_time": "2019-05-26T18:16:54.345549Z"
    }
   },
   "outputs": [],
   "source": [
    "import json_utils\n",
    "file_name=\"./data/rss/user_video_286700005.json\"\n",
    "entries=[]\n",
    "feed_json=feed_jsonify(feed_data)\n",
    "for entry in feed.entries:\n",
    "    entries.append(entry_jsonify(entry))\n",
    "feed_json['entry']=entries\n",
    "# print(json.dumps(feed_json, indent=2, ensure_ascii=False))\n",
    "json_utils.write_json_to_file(file_name, feed_json)"
   ]
  },
  {
   "cell_type": "code",
   "execution_count": 48,
   "metadata": {
    "ExecuteTime": {
     "end_time": "2019-05-26T17:49:45.062888Z",
     "start_time": "2019-05-26T17:49:45.036296Z"
    }
   },
   "outputs": [
    {
     "name": "stdout",
     "output_type": "stream",
     "text": [
      "title:  string @index(fulltext) @lang .\n",
      "link:  string @index(exact) .\n",
      "subtitle:  string @index(fulltext) @lang .\n",
      "updated:  datetime .\n",
      "entry:  uid @count .\n",
      "id:  string @index(exact) .\n",
      "published:  datetime .\n",
      "summary:  string @index(fulltext) @lang .\n"
     ]
    }
   ],
   "source": [
    "feed_schema='''\n",
    "title: string @index(exact, fulltext) .\n",
    "link: string @index(exact) .\n",
    "subtitle: string @index(fulltext) @lang .\n",
    "updated: datetime .\n",
    "entry: uid @count .\n",
    "'''\n",
    "entry_schema='''\n",
    "id: string @index(exact) .\n",
    "title: string @index(fulltext) @lang .\n",
    "published: datetime .\n",
    "link: string @index(exact) .\n",
    "summary: string @index(fulltext) @lang .\n",
    "'''\n",
    "\n",
    "def overrides_schema(schema_map, schema):\n",
    "    for term in schema.split('\\n'):\n",
    "        s=term.strip()\n",
    "        if len(s)>0:\n",
    "            parts=s.split(':')\n",
    "            schema_map[parts[0]]=parts[1]\n",
    "\n",
    "def build_schema(schema_map):\n",
    "    rs=[]\n",
    "    for k,v in schema_map.items():\n",
    "        rs.append(k+': '+v)\n",
    "    return '\\n'.join(rs)\n",
    "\n",
    "schema_map={}\n",
    "overrides_schema(schema_map, feed_schema)\n",
    "overrides_schema(schema_map, entry_schema)\n",
    "print(build_schema(schema_map))"
   ]
  },
  {
   "cell_type": "code",
   "execution_count": 63,
   "metadata": {
    "ExecuteTime": {
     "end_time": "2019-05-26T18:17:13.217479Z",
     "start_time": "2019-05-26T18:17:12.473843Z"
    }
   },
   "outputs": [],
   "source": [
    "import sagas.graph.dgraph_helper as helper\n",
    "import pydgraph\n",
    "client=helper.reset(build_schema(schema_map))\n",
    "\n",
    "def set_json(client, val):\n",
    "    txn = client.txn()\n",
    "    return txn.mutate(pydgraph.Mutation(commit_now=True), set_obj=val)\n",
    "_=set_json(client, feed_json)"
   ]
  },
  {
   "cell_type": "code",
   "execution_count": 64,
   "metadata": {
    "ExecuteTime": {
     "end_time": "2019-05-26T18:17:16.445870Z",
     "start_time": "2019-05-26T18:17:16.421676Z"
    }
   },
   "outputs": [
    {
     "name": "stdout",
     "output_type": "stream",
     "text": [
      "{\n",
      "  \"data\": [\n",
      "    {\n",
      "      \"link\": \"https://space.bilibili.com/286700005\"\n",
      "    }\n",
      "  ]\n",
      "}\n"
     ]
    }
   ],
   "source": [
    "helper.run_q(client, '''{\n",
    "  data(func: alloftext(title, \"bilibili\")) {\n",
    "     link\n",
    "  }\n",
    "}''')"
   ]
  },
  {
   "cell_type": "code",
   "execution_count": 67,
   "metadata": {
    "ExecuteTime": {
     "end_time": "2019-05-26T18:18:27.121539Z",
     "start_time": "2019-05-26T18:18:27.104787Z"
    }
   },
   "outputs": [
    {
     "name": "stdout",
     "output_type": "stream",
     "text": [
      "{\n",
      "  \"data\": [\n",
      "    {\n",
      "      \"title@ja\": \"【マリカDX】よわよわマリカ卒業！猛特訓！\",\n",
      "      \"link\": \"https://www.bilibili.com/video/av53291273\"\n",
      "    }\n",
      "  ]\n",
      "}\n"
     ]
    }
   ],
   "source": [
    "helper.run_q(client, '''{\n",
    "  data(func: alloftext(title@ja, \"卒業\")) {\n",
    "    title@ja\n",
    "    link\n",
    "  }\n",
    "}''')"
   ]
  },
  {
   "cell_type": "code",
   "execution_count": 68,
   "metadata": {
    "ExecuteTime": {
     "end_time": "2019-05-26T18:19:20.839748Z",
     "start_time": "2019-05-26T18:19:20.810321Z"
    }
   },
   "outputs": [
    {
     "name": "stdout",
     "output_type": "stream",
     "text": [
      "{\n",
      "  \"data\": [\n",
      "    {\n",
      "      \"title@ja\": \"【夜空メル_ロボ子さん】ホロライブお泊り会★裏話【夏色まつり_紫咲シオン】\",\n",
      "      \"link\": \"https://www.bilibili.com/video/av53187636\"\n",
      "    }\n",
      "  ]\n",
      "}\n"
     ]
    }
   ],
   "source": [
    "helper.run_q(client, '''{\n",
    "  data(func: alloftext(title@ja, \"夏色\")) {\n",
    "    title@ja\n",
    "    link\n",
    "  }\n",
    "}''')"
   ]
  },
  {
   "cell_type": "code",
   "execution_count": 2,
   "metadata": {
    "ExecuteTime": {
     "end_time": "2019-06-01T07:42:22.779165Z",
     "start_time": "2019-06-01T07:42:22.636541Z"
    }
   },
   "outputs": [
    {
     "name": "stdout",
     "output_type": "stream",
     "text": [
      "{\n",
      "  \"data\": []\n",
      "}\n"
     ]
    }
   ],
   "source": [
    "import sagas.graph.dgraph_helper as helper\n",
    "import pydgraph\n",
    "client=helper.create_client()\n",
    "helper.run_q(client, '''{\n",
    "  data(func: alloftext(title@ja, \"夏色\")) {\n",
    "    title@ja\n",
    "    link\n",
    "  }\n",
    "}''')"
   ]
  }
 ],
 "metadata": {
  "kernelspec": {
   "display_name": "Python 3",
   "language": "python",
   "name": "python3"
  },
  "language_info": {
   "codemirror_mode": {
    "name": "ipython",
    "version": 3
   },
   "file_extension": ".py",
   "mimetype": "text/x-python",
   "name": "python",
   "nbconvert_exporter": "python",
   "pygments_lexer": "ipython3",
   "version": "3.6.4"
  },
  "varInspector": {
   "cols": {
    "lenName": 16,
    "lenType": 16,
    "lenVar": 40
   },
   "kernels_config": {
    "python": {
     "delete_cmd_postfix": "",
     "delete_cmd_prefix": "del ",
     "library": "var_list.py",
     "varRefreshCmd": "print(var_dic_list())"
    },
    "r": {
     "delete_cmd_postfix": ") ",
     "delete_cmd_prefix": "rm(",
     "library": "var_list.r",
     "varRefreshCmd": "cat(var_dic_list()) "
    }
   },
   "types_to_exclude": [
    "module",
    "function",
    "builtin_function_or_method",
    "instance",
    "_Feature"
   ],
   "window_display": false
  }
 },
 "nbformat": 4,
 "nbformat_minor": 2
}
