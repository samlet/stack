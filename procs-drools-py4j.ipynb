{
 "cells": [
  {
   "cell_type": "code",
   "execution_count": 1,
   "metadata": {
    "ExecuteTime": {
     "end_time": "2019-12-18T15:27:42.204436Z",
     "start_time": "2019-12-18T15:27:42.116965Z"
    }
   },
   "outputs": [],
   "source": [
    "from py4j.java_gateway import JavaGateway, JavaObject, GatewayParameters\n",
    "from py4j.java_gateway import java_import, get_field\n",
    "\n",
    "host=\"localhost\"\n",
    "port=4333\n",
    "callback_port=4334\n",
    "gateway = JavaGateway(python_proxy_port=callback_port,\n",
    "                      gateway_parameters=GatewayParameters(address=host, port=port, auto_field=True))\n",
    "j = gateway.new_jvm_view()\n",
    "java_import(j, 'org.kie.api.*')"
   ]
  },
  {
   "cell_type": "code",
   "execution_count": 5,
   "metadata": {
    "ExecuteTime": {
     "end_time": "2019-12-18T15:28:28.679883Z",
     "start_time": "2019-12-18T15:28:28.661857Z"
    }
   },
   "outputs": [
    {
     "name": "stdout",
     "output_type": "stream",
     "text": [
      "one\n"
     ]
    }
   ],
   "source": [
    "stack = gateway.entry_point.getStack()\n",
    "stack.push('one')\n",
    "print(stack.pop())"
   ]
  },
  {
   "cell_type": "code",
   "execution_count": 7,
   "metadata": {
    "ExecuteTime": {
     "end_time": "2019-12-18T15:30:07.052626Z",
     "start_time": "2019-12-18T15:30:01.328371Z"
    }
   },
   "outputs": [],
   "source": [
    "ks=j.KieServices.get()\n",
    "kc = ks.getKieClasspathContainer()"
   ]
  },
  {
   "cell_type": "code",
   "execution_count": 8,
   "metadata": {
    "ExecuteTime": {
     "end_time": "2019-12-18T15:31:27.041139Z",
     "start_time": "2019-12-18T15:31:23.891528Z"
    }
   },
   "outputs": [],
   "source": [
    "java_import(j, 'org.drools.examples.helloworld.*')\n",
    "j.HelloWorldExample.execute(ks,kc)"
   ]
  }
 ],
 "metadata": {
  "kernelspec": {
   "display_name": "Python 3",
   "language": "python",
   "name": "python3"
  },
  "language_info": {
   "codemirror_mode": {
    "name": "ipython",
    "version": 3
   },
   "file_extension": ".py",
   "mimetype": "text/x-python",
   "name": "python",
   "nbconvert_exporter": "python",
   "pygments_lexer": "ipython3",
   "version": "3.6.9"
  },
  "varInspector": {
   "cols": {
    "lenName": 16,
    "lenType": 16,
    "lenVar": 40
   },
   "kernels_config": {
    "python": {
     "delete_cmd_postfix": "",
     "delete_cmd_prefix": "del ",
     "library": "var_list.py",
     "varRefreshCmd": "print(var_dic_list())"
    },
    "r": {
     "delete_cmd_postfix": ") ",
     "delete_cmd_prefix": "rm(",
     "library": "var_list.r",
     "varRefreshCmd": "cat(var_dic_list()) "
    }
   },
   "types_to_exclude": [
    "module",
    "function",
    "builtin_function_or_method",
    "instance",
    "_Feature"
   ],
   "window_display": false
  }
 },
 "nbformat": 4,
 "nbformat_minor": 2
}
