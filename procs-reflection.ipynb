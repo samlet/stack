{
 "cells": [
  {
   "cell_type": "markdown",
   "metadata": {},
   "source": [
    "⊕ [Python Tutorial: Dynamically Creating Classes with type](https://www.python-course.eu/python3_classes_and_type.php)\n"
   ]
  },
  {
   "cell_type": "code",
   "execution_count": 1,
   "metadata": {
    "ExecuteTime": {
     "end_time": "2019-01-08T17:07:24.678235Z",
     "start_time": "2019-01-08T17:07:24.673645Z"
    }
   },
   "outputs": [
    {
     "name": "stdout",
     "output_type": "stream",
     "text": [
      "<class '__main__.A'>\n"
     ]
    }
   ],
   "source": [
    "# type(classname, superclasses, attributes_dict)\n",
    "\n",
    "class A:\n",
    "    pass\n",
    "x = A()\n",
    "print(type(x))"
   ]
  },
  {
   "cell_type": "code",
   "execution_count": 2,
   "metadata": {
    "ExecuteTime": {
     "end_time": "2019-01-08T17:08:21.648968Z",
     "start_time": "2019-01-08T17:08:21.644024Z"
    }
   },
   "outputs": [
    {
     "name": "stdout",
     "output_type": "stream",
     "text": [
      "<class '__main__.A'>\n"
     ]
    }
   ],
   "source": [
    "A = type(\"A\", (), {})\n",
    "x = A()\n",
    "print(type(x))"
   ]
  },
  {
   "cell_type": "code",
   "execution_count": 3,
   "metadata": {
    "ExecuteTime": {
     "end_time": "2019-01-08T17:09:38.864632Z",
     "start_time": "2019-01-08T17:09:38.846097Z"
    }
   },
   "outputs": [
    {
     "name": "stdout",
     "output_type": "stream",
     "text": [
      "Marvin\n",
      "Hi, I am Marvin\n",
      "Marvin\n",
      "Hi, I am Marvin\n",
      "{'name': 'Marvin'}\n",
      "{'name': 'Marvin'}\n"
     ]
    }
   ],
   "source": [
    "class Robot:\n",
    "    counter = 0\n",
    "    def __init__(self, name):\n",
    "        self.name = name\n",
    "    def sayHello(self):\n",
    "        return \"Hi, I am \" + self.name\n",
    "def Rob_init(self, name):\n",
    "    self.name = name\n",
    "Robot2 = type(\"Robot2\", \n",
    "              (), \n",
    "              {\"counter\":0, \n",
    "               \"__init__\": Rob_init,\n",
    "               \"sayHello\": lambda self: \"Hi, I am \" + self.name})\n",
    "x = Robot2(\"Marvin\")\n",
    "print(x.name)\n",
    "print(x.sayHello())\n",
    "y = Robot(\"Marvin\")\n",
    "print(y.name)\n",
    "print(y.sayHello())\n",
    "print(x.__dict__)\n",
    "print(y.__dict__)"
   ]
  },
  {
   "cell_type": "code",
   "execution_count": 11,
   "metadata": {
    "ExecuteTime": {
     "end_time": "2019-01-08T18:03:26.566112Z",
     "start_time": "2019-01-08T18:03:26.535479Z"
    }
   },
   "outputs": [
    {
     "name": "stdout",
     "output_type": "stream",
     "text": [
      "Marvin\n",
      "Tom\n",
      "Tom\n",
      "** getattr\n",
      "No _name field\n"
     ]
    }
   ],
   "source": [
    "class Robot:\n",
    "    counter = 0\n",
    "    def __init__(self, name):\n",
    "        self.name = name\n",
    "    def sayHello(self):\n",
    "        return \"Hi, I am \" + self.name\n",
    "    def __getattr__(self, method):\n",
    "        print(\"** getattr\")\n",
    "        return super(Robot, self).__getattr__(method)\n",
    "\n",
    "def print_field(obj, field):\n",
    "    try:\n",
    "        print(getattr(obj, field))\n",
    "    except AttributeError:\n",
    "        print('No %s field' % field)\n",
    "        \n",
    "y = Robot(\"Marvin\")\n",
    "print(y.name)\n",
    "# print(y.age)\n",
    "setattr(y, \"name\", \"Tom\")\n",
    "print(y.name)\n",
    "print_field(y, \"name\")\n",
    "print_field(y, \"_name\")"
   ]
  }
 ],
 "metadata": {
  "kernelspec": {
   "display_name": "Python 3",
   "language": "python",
   "name": "python3"
  },
  "language_info": {
   "codemirror_mode": {
    "name": "ipython",
    "version": 3
   },
   "file_extension": ".py",
   "mimetype": "text/x-python",
   "name": "python",
   "nbconvert_exporter": "python",
   "pygments_lexer": "ipython3",
   "version": "3.6.4"
  },
  "varInspector": {
   "cols": {
    "lenName": 16,
    "lenType": 16,
    "lenVar": 40
   },
   "kernels_config": {
    "python": {
     "delete_cmd_postfix": "",
     "delete_cmd_prefix": "del ",
     "library": "var_list.py",
     "varRefreshCmd": "print(var_dic_list())"
    },
    "r": {
     "delete_cmd_postfix": ") ",
     "delete_cmd_prefix": "rm(",
     "library": "var_list.r",
     "varRefreshCmd": "cat(var_dic_list()) "
    }
   },
   "types_to_exclude": [
    "module",
    "function",
    "builtin_function_or_method",
    "instance",
    "_Feature"
   ],
   "window_display": false
  }
 },
 "nbformat": 4,
 "nbformat_minor": 2
}
