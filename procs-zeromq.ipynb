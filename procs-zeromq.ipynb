{
 "cells": [
  {
   "cell_type": "code",
   "execution_count": 2,
   "metadata": {
    "ExecuteTime": {
     "end_time": "2019-05-15T15:50:38.849329Z",
     "start_time": "2019-05-15T15:50:38.826632Z"
    }
   },
   "outputs": [
    {
     "name": "stdout",
     "output_type": "stream",
     "text": [
      "python: /Users/xiaofeiwu/miniconda3/envs/bigdata/bin/python\n",
      "3.6.4 |Anaconda custom (64-bit)| (default, Jan 16 2018, 12:04:33) \n",
      "[GCC 4.2.1 Compatible Clang 4.0.1 (tags/RELEASE_401/final)]\n",
      "pyzmq-18.0.1\n",
      "libzmq-4.2.2\n",
      "Draft API available: False\n"
     ]
    }
   ],
   "source": [
    "import sys\n",
    "import zmq\n",
    "print('python: %s' % sys.executable)\n",
    "print(sys.version)\n",
    "print('pyzmq-%s' % zmq.__version__)\n",
    "print('libzmq-%s' % zmq.zmq_version())\n",
    "print('Draft API available: %s' % zmq.DRAFT_API)"
   ]
  },
  {
   "cell_type": "code",
   "execution_count": 3,
   "metadata": {
    "ExecuteTime": {
     "end_time": "2019-05-15T15:51:23.890132Z",
     "start_time": "2019-05-15T15:51:13.765885Z"
    }
   },
   "outputs": [
    {
     "name": "stdout",
     "output_type": "stream",
     "text": [
      "Connecting to hello world server...\n",
      "Sending request 0 ...\n",
      "Received reply 0 [ b'World' ]\n",
      "Sending request 1 ...\n",
      "Received reply 1 [ b'World' ]\n",
      "Sending request 2 ...\n",
      "Received reply 2 [ b'World' ]\n",
      "Sending request 3 ...\n",
      "Received reply 3 [ b'World' ]\n",
      "Sending request 4 ...\n",
      "Received reply 4 [ b'World' ]\n",
      "Sending request 5 ...\n",
      "Received reply 5 [ b'World' ]\n",
      "Sending request 6 ...\n",
      "Received reply 6 [ b'World' ]\n",
      "Sending request 7 ...\n",
      "Received reply 7 [ b'World' ]\n",
      "Sending request 8 ...\n",
      "Received reply 8 [ b'World' ]\n",
      "Sending request 9 ...\n",
      "Received reply 9 [ b'World' ]\n"
     ]
    }
   ],
   "source": [
    "\n",
    "import zmq\n",
    "\n",
    "context = zmq.Context()\n",
    "\n",
    "#  Socket to talk to server\n",
    "print(\"Connecting to hello world server...\")\n",
    "socket = context.socket(zmq.REQ)\n",
    "socket.connect(\"tcp://localhost:5555\")\n",
    "\n",
    "#  Do 10 requests, waiting each time for a response\n",
    "for request in range(10):\n",
    "    print(\"Sending request %s ...\" % request)\n",
    "    socket.send(b\"Hello\")\n",
    "\n",
    "    #  Get the reply.\n",
    "    message = socket.recv()\n",
    "    print(\"Received reply %s [ %s ]\" % (request, message))"
   ]
  },
  {
   "cell_type": "code",
   "execution_count": 4,
   "metadata": {
    "ExecuteTime": {
     "end_time": "2019-05-15T17:04:25.718219Z",
     "start_time": "2019-05-15T17:04:25.647135Z"
    }
   },
   "outputs": [],
   "source": [
    "from sagas.util.serializer import write_data, read_data\n",
    "# An arbitrary collection of objects supported by pickle.\n",
    "data = {\n",
    "    'a': [1, 2.0, 3, 4+6j],\n",
    "    'b': (\"character string\", b\"byte string\"),\n",
    "    'c': {None, True, False}\n",
    "}\n",
    "write_data('./out/data.pickle', data)"
   ]
  },
  {
   "cell_type": "code",
   "execution_count": 5,
   "metadata": {
    "ExecuteTime": {
     "end_time": "2019-05-15T17:04:52.087705Z",
     "start_time": "2019-05-15T17:04:52.078834Z"
    }
   },
   "outputs": [
    {
     "name": "stdout",
     "output_type": "stream",
     "text": [
      "{'a': [1, 2.0, 3, (4+6j)], 'b': ('character string', b'byte string'), 'c': {False, True, None}}\n"
     ]
    }
   ],
   "source": [
    "rs=read_data('./out/data.pickle')\n",
    "print(rs)"
   ]
  }
 ],
 "metadata": {
  "kernelspec": {
   "display_name": "Python 3",
   "language": "python",
   "name": "python3"
  },
  "language_info": {
   "codemirror_mode": {
    "name": "ipython",
    "version": 3
   },
   "file_extension": ".py",
   "mimetype": "text/x-python",
   "name": "python",
   "nbconvert_exporter": "python",
   "pygments_lexer": "ipython3",
   "version": "3.6.4"
  },
  "varInspector": {
   "cols": {
    "lenName": 16,
    "lenType": 16,
    "lenVar": 40
   },
   "kernels_config": {
    "python": {
     "delete_cmd_postfix": "",
     "delete_cmd_prefix": "del ",
     "library": "var_list.py",
     "varRefreshCmd": "print(var_dic_list())"
    },
    "r": {
     "delete_cmd_postfix": ") ",
     "delete_cmd_prefix": "rm(",
     "library": "var_list.r",
     "varRefreshCmd": "cat(var_dic_list()) "
    }
   },
   "types_to_exclude": [
    "module",
    "function",
    "builtin_function_or_method",
    "instance",
    "_Feature"
   ],
   "window_display": false
  }
 },
 "nbformat": 4,
 "nbformat_minor": 2
}
