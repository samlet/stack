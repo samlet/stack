{
 "cells": [
  {
   "cell_type": "code",
   "execution_count": 4,
   "metadata": {
    "ExecuteTime": {
     "end_time": "2019-01-06T09:34:13.494411Z",
     "start_time": "2019-01-06T09:34:12.755319Z"
    },
    "scrolled": true
   },
   "outputs": [
    {
     "name": "stdout",
     "output_type": "stream",
     "text": [
      "['sagas_odoo']\n",
      "Administrator\n",
      "YourCompany\n",
      "[{'activity_state': False, 'meeting_count': 4, 'sel_groups_23_24': 24, 'commercial_partner_country_id': [233, 'United States'], 'log_ids': [4, 3], 'in_group_18': False, 'companies_count': 1, 'target_sales_won': 0, 'in_group_5': False, 'in_group_17': False, 'im_status': 'offline', 'message_partner_ids': [], 'user_ids': [1], 'alias_id': False, 'message_unread': False, 'tz_offset': '+0800', 'calendar_last_notif_ack': False, 'message_unread_counter': 0, 'in_group_9': False, '__last_update': '2018-12-23 07:50:27', 'email': 'samlet@sagas.ai', 'message_last_post': False, 'target_sales_done': 0, 'bank_ids': [], 'login_date': '2019-01-06 09:34:12', 'task_count': 0, 'password': '', 'activity_ids': [], 'vat': False, 'image_medium': '/9j/4AAQSkZJRgABAQAAAQABAAD/2wBDAAgGBgcGBQgHBwcJCQgKDBQNDAsLDBkSEw8UHRofHh0aHBwgJC4nICIsIxwcKDcpLDAxNDQ0Hyc5PTgyPC4zNDL/2wBDAQkJCQwLDBgNDRgyIRwhMjIyMjIyMjIyMjIyMjIyMjIyMjIyMjIyMjIyMjIyMjIyMjIyMjIyMjIyMjIyMjIyMjL/wAARCACAAIADASIAAhEBAxEB/8QAHwAAAQUBAQEBAQEAAAAAAAAAAAECAwQFBgcICQoL/8QAtRAAAgEDAwIEAwUFBAQAAAF9AQIDAAQRBRIhMUEGE1FhByJxFDKBkaEII0KxwRVS0fAkM2JyggkKFhcYGRolJicoKSo0NTY3ODk6Q0RFRkdISUpTVFVWV1hZWmNkZWZnaGlqc3R1dnd4eXqDhIWGh4iJipKTlJWWl5iZmqKjpKWmp6ipqrKztLW2t7i5usLDxMXGx8jJytLT1NXW19jZ2uHi4+Tl5ufo6erx8vP09fb3+Pn6/8QAHwEAAwEBAQEBAQEBAQAAAAAAAAECAwQFBgcICQoL/8QAtREAAgECBAQDBAcFBAQAAQJ3AAECAxEEBSExBhJBUQdhcRMiMoEIFEKRobHBCSMzUvAVYnLRChYkNOEl8RcYGRomJygpKjU2Nzg5OkNERUZHSElKU1RVVldYWVpjZGVmZ2hpanN0dXZ3eHl6goOEhYaHiImKkpOUlZaXmJmaoqOkpaanqKmqsrO0tba3uLm6wsPExcbHyMnK0tPU1dbX2Nna4uPk5ebn6Onq8vP09fb3+Pn6/9oADAMBAAIRAxEAPwD32iiigAooooAKKK4fxh8QrXQy9jYgXF+OGxysZ9Djqfak3YaTex02r65Y6LbNPeTxoAMgM4BP+fxrznVvjKsFyI7DTQ0S/emnY4b2UDn8f0rzzUVn1q5ku7y7uZLp+TuUEZzx2yPwqomjaxcRPJDEGQDazNJtHHuahzNlTXU9x0r4peG7+1ElzcmxmAy0M45/AjqPyroLLxJo2ouFtNTtpWPQBwCfpmvl46NMpZXBBHJ2jI/A55rRGm3Gn2KC4m+9hlyAxX+ooUxOlY+pc84oryT4Z+O52uo/D2szBy2BZzluf9wnuOOO/b0r1urTuZNWYUUUUxBRRRQAUUUUAFFFLQBheL9al0Dwve6jAgadFCxBh8odiFBPsM5/Cvn+2lup3leQ/NJlpJGX5jnqeK9Z+Ld0E0GxtWcrHNc7nKnrtU4B9Rkj8hXmDK3lq8BL7WCgjG4Hp27VjVlY6KML7Fy126fbo6ReXvPDNyG+pwTVW91O9IO6TaoOMxDapB65HSu00jw9G7B51DtwTnv+tdAui6eYzG9pEyjjDLniufnbZ2OkoqzPFrPUzDdyqWBWRccDg5PpVgAiK7xsaMjcCe59OOpr1S58O6WB8tnEPTCjiuF1fQGtfPntXKYU/KDkGhVLPUHSvHQ4dLmS0vIZU3wyq4MbryUcHKsPxxX1F4T1xfEfhqy1P5RLIm2ZV6LIvDD8wce2K+Z43jEii6JifP3pFLZP4V7L8I76I2t9ZQhjGStyrYwMn5Wz6HhfrXVBnDVjY9MooorQxCiiigAooooAKWkooA4D4qWJu9MsJQpPlSuN23O3K5/p/OuQ8N+WtoYTGAQPmbqcn3ru/H9w4i0y1+UQyzM7sw/ur0znj7xrhdCUW2kvczMq/wCkNuwPugdjXNX1R24RNNM7G1JjOThcVdJBO4E5NcHf+ObTTtjXFrMsZHyu2BuHtmtLw54qtvEUyx2u9XCklD1GPpXOtEdjabOgvpVRG56VzkkfnK5b7pz1rA8QeOBp2py2ZtWuJI32so9aybLxx9vRoxbAuBkIko3D/gJpSi5ajU4x0MzVAkupqgHDN5Yx9a7D4czG28ewW8cskds0csYK8rKeoVh26H8RXH5Dym52E7JFkCsOchgf6V1Xw71N0+I1lai3jUzecjtjJACMw5+orqpOyOGsuZto96FFA6UV0HGFFFFABRRRQAUUUUAc/wCL7GO70kO+AY3A3H+EN8p/pXAaPZhfOs2A2s5JOOM44P1r1XULX7Zp09tnBkQqD79v1rzYt9mvywTYzAEoD0IyCPzFctZa3PQwsk48vYqXnguwYyMdMtbyeQ5M9znfn/D2FaGh6Db6DcJKI4hcSBldkGOD/TiteO9RYDI4+VQSTVW1uTeXvmuVUFSdpPKDtmsTpjF9UcTFp1tqHiTUbkQxmczh1LDPIGK0Lnwjb3YVnht7dQ/mFoY8OSPc9KyzdjTvEjytOBEjjcgx8wYkH8uK6vU711gL7sr1BHcUrtFuCvocBf2sNrczRKc7IiMse+P8RWr8ILSS78Ypcy5Z7a2ll3H/AGiFX8wz1g3UzT3krD+MkD8q9R+Eeli30y+1BgfMmZIVypUhFXI6+u6uikr2OKvLlUrHo9FFFdJwBRRRQAUUUUAFFFFABXK+NNPU2EeoQxgPBJmQqoBKngk+uDj9a6qmSossbRuoZHBVge4PWplHmTRUJcskzzRbmIWiNKyiPGWLHA/H2rP1KO01JXubK8hhvZI9gljlC7gOgPOMfWnJF5dxcabcqGEMzRnI64P9Rg0t3YRKSyaVa3EbDoygfhwK4NnY9mNpas4aXR7Sz1V7m81CKdoyDueUHn+vNdbJeLdaMHUggJuBHQiqFzpfmTq39l2ttGhztVAce1O1S9YWgtkULuxnAxxSk7uyG1y7GLotpFe+KtOtZmIhuLtYzjqep/ofwr6MSNI12ooVewFfMOk6iYfHGkToC0Vpdx8L/ExOG/QkV9PI6yIroQyMMqR3FdtLY8vEbodRRRWpzhRRRQAUUUUAFFFFABRQSFGScCq8kxaJyuQAODQB5f46D6f4m+2wg7LmMSYHcr8rfoAfxos9eieGN1OVdfXp6/Su21XQ7fXtMe1mOyVTvhmAyY2x+o9R3ryOfTrnS7650q8jCTRNuG0ZVlPRl9jXJVp8sr9Genh6qlBR6o09X1rz08uD1we2a4PWtYmjLRRvmVh87j+EegrUui8RZFVd3qPSp/CHg4+JNVe8vlP9lWbZl/6bydox7DuffHeohG70HUlZXZP4D8JSypHrl8hWJctaRnq7dPMPsOcep57V6xoGry28X2SWPfFHyCD8ygnp70eWNvChR0AAwAOw+gH8qdp8Kw3uWU5dTtUe3rXfGKirHnTm5u7OlguYZ1GxxkjO08H8qmrDjCtLtHIPUHqDVtWlQAxyHH91+aLEGjRVRLxwf3sY+qH+lWEmjkGUYH270gH0UUxpkU4zk98dqAH8DrTDJ2Xk1XlmyfUdvSmb2YcnA9qdgJJGUqdzZNMyWTBzgjpRtFKPamMZFlXxVDX/AA/Z65bqbjEU8ALRXA4MY7g+q+oNaR2pudmVUUEszHAUdya8j8S+NbfxDqclozTRaHGdkTlf3V0+eWkxzt44H40nHm0YRbi7obaeEJ73Vltp7m0htpWOJ0uEPmr/ANMxnJJH5V6VHptrptnBYWcIhtYBhUA/U+pPWuQWKGHRTPNbQy2SJn93wAO2COVqloXxBjtREmpPLJpc7+XazuN00OOvmf3k6YbrUwpKGxpVrSq7neeWFxuHPYUWoVrq4Y4Pl7Yiff7x/mKkaWIRG4MimIKZC4OQVxnP0p9rF5dkuVKvJmWTPXc3Jz784/CtDIbGBKpLDPNTRl1jGXyeetLEAsYx1pW4PAoGDO4wTjafbpTGCkkOgPuKmUAptNR4IfBoAtzXGBtTof4qrgEjk0kJEkEbg5BWng4J+tISFXpikI2tg9DTscikYZ/CgYZxSgjNIDkUYoAz9Y046xB9gkkMdlIM3JQ4aRR0jB7A9/YY7mqY8N6X/ZZ0uOxja1JwUPb3Bradgoz3qNcM5wDk+lAHmlxp15oFvqmlWL/apVP7qFpB/q25BYd1wT9cVV8B+HE1W/uNWmKNFC4i8rdu2ygDcfp6ewrV1G7ifxrq8tvw12q2m8DrsUBmHuW4/wCA1W8FSDwx4nOhyg4v1JZh92N1GU59SNw/KqewkdzNpm61a1hkEcEjLvTHRdwJA9M4xWoW354603jJFIpwakBq5Apytng0rDnIpjDGGFAyVeBQVBoRsinUCP/Z', 'email_formatted': 'Administrator <samlet@sagas.ai>', 'lang': 'en_US', 'resource_ids': [], 'in_group_6': False, 'company_ids': [1], 'activity_type_id': False, 'opportunity_count': 0, 'resource_calendar_id': False, 'opportunity_ids': [], 'state_id': [47, 'Pennsylvania'], 'in_group_8': True, 'signup_valid': False, 'message_ids': [], 'activity_user_id': False, 'property_product_pricelist': [1, 'Public Pricelist (CNY)'], 'signature': '<span data-o-mail-quote=\"1\">-- <br data-o-mail-quote=\"1\">\\nAdministrator</span>', 'name': 'Administrator', 'mobile': False, 'in_group_7': True, 'message_follower_ids': [], 'image': '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', 'in_group_10': False, 'city': 'Scranton', 'credit_limit': 0.0, 'category_id': [], 'sel_groups_3_4': 4, 'in_group_16': False, 'task_ids': [], 'write_date': '2018-12-23 07:50:27', 'country_id': [233, 'United States'], 'signup_type': False, 'password_crypt': '$pbkdf2-sha512$25000$QQhBqJUSojQGoPQegxCiNA$Ydooy./xT0e4zkKvZyRbVpliz5u3sj3pQ237MjD2S5Q2Qnjrd4oEuP5uzMA6CHpXHWM/rU1YVXj2r8Vq1QT70g', 'share': False, 'ref': False, 'in_group_25': False, 'image_small': '/9j/4AAQSkZJRgABAQAAAQABAAD/2wBDAAgGBgcGBQgHBwcJCQgKDBQNDAsLDBkSEw8UHRofHh0aHBwgJC4nICIsIxwcKDcpLDAxNDQ0Hyc5PTgyPC4zNDL/2wBDAQkJCQwLDBgNDRgyIRwhMjIyMjIyMjIyMjIyMjIyMjIyMjIyMjIyMjIyMjIyMjIyMjIyMjIyMjIyMjIyMjIyMjL/wAARCABAAEADASIAAhEBAxEB/8QAHwAAAQUBAQEBAQEAAAAAAAAAAAECAwQFBgcICQoL/8QAtRAAAgEDAwIEAwUFBAQAAAF9AQIDAAQRBRIhMUEGE1FhByJxFDKBkaEII0KxwRVS0fAkM2JyggkKFhcYGRolJicoKSo0NTY3ODk6Q0RFRkdISUpTVFVWV1hZWmNkZWZnaGlqc3R1dnd4eXqDhIWGh4iJipKTlJWWl5iZmqKjpKWmp6ipqrKztLW2t7i5usLDxMXGx8jJytLT1NXW19jZ2uHi4+Tl5ufo6erx8vP09fb3+Pn6/8QAHwEAAwEBAQEBAQEBAQAAAAAAAAECAwQFBgcICQoL/8QAtREAAgECBAQDBAcFBAQAAQJ3AAECAxEEBSExBhJBUQdhcRMiMoEIFEKRobHBCSMzUvAVYnLRChYkNOEl8RcYGRomJygpKjU2Nzg5OkNERUZHSElKU1RVVldYWVpjZGVmZ2hpanN0dXZ3eHl6goOEhYaHiImKkpOUlZaXmJmaoqOkpaanqKmqsrO0tba3uLm6wsPExcbHyMnK0tPU1dbX2Nna4uPk5ebn6Onq8vP09fb3+Pn6/9oADAMBAAIRAxEAPwD32iiigCjq+s2GhWD3uo3CwwrwM8lj2VR3PtXkGvfE7xLqUxi0S1eyg6oYUWeVwP73GF+g/Op/ideyXfi9bfzpPIsLZf3Sn+N8ljjr93aKitvCep3tiqR3a2cWMKnP6gVjOpZ2OmlR5lzBpnxd8TIu2/0a0njiTMkqlomP16gE/SvU/DXiOy8UaOmoWW5fmKSwv9+Jx1U/ofcEGvFNQ8K6ppFupmmju0UucRZBUEHPXqKufB7UZLDxTLZ/aFa2v4yDEeGWRRlWx9Nw7dRRTqcwVaPKrnu9FFFbHMFFFFAHlXieKNPiJPcRj5vIHnFgMDain+RX9as2XifR5r5dLh1CGS7ZgFh3EOT9DWp4vso4tds79kADp5bH+92I/LFUIdK0i11G2uLW3iF0XBiwijZzy2cZJ9ySetcVT42epQX7tJHO6n400ObVGs2vF81GZDGFb7w6jOMVzHhqRF8X6VO8nltNqcO0qpJILY2/Qmum0y10y5sr9by3VniuHMiYHzZYncccjuPwrM8I2C6v8QtMMS7YLaaS4YAcYXlf12/rRS+LQK6fL72x77RRRXaeWFFFFAFTVLBNT02e0c7fMXCtj7rdj+BxXmMzzXdmyyQwtGPlkVg+9HGQSNvIxzz716u7qg564zivLPEcOo+H9clvoRusdRkLo3ZJTyUPoT8xHr+FYV4uykjswk7NxZzdhbrpCahtiSGGQHCqjlpGPqW5rq/g1Nby2euCMDzUu1Vm9V2DH4bt9cBqk2r+ItRh0+x3G9uW2DnCxqPvMfQAZJP9TXpfhnw/H4XS0ttOmYc4nnYczE9SR6cDA7DFTQg2+YvFTVuU9CoqlBes6fPGCRwSh/pVlJ45OFbn0PBrpscA8kKMkgVC9wASF7d6rs5lIdjkEcDsKUj5fp0p2AcSWbJ44xx3rB8U63pei6QIdSSKc3bGOG2kbaJCOSSf4VHB3djjHJFbgJqnLYWc1488tvFLNKnku0ihj5f9wZ6L6jvmmM4zSLrQ/DEwhu0S2mvk3fapXLFEyOGyBiPcQNw6nGfWuxWL/SEAwQgMh757D9T+ledx2dgPFWlLNGW0u2u5rVEL7o4m3kQHpk5zz2Ax6V6VFBHA7FFxuAUjPAAzwB26mhRUdEDk5O73BE2qrZ+bHOKe4bAycg+vOKTlOnIFSjBUdxQB/9k=', 'in_group_19': False, 'commercial_company_name': 'YourCompany', 'create_date': False, 'industry_id': False, 'customer': False, 'comment': False, 'signup_token': False, 'child_ids': [], 'in_group_21': False, 'type': 'contact', 'company_id': [1, 'YourCompany'], 'sel_groups_12_13_14': 14, 'date': False, 'in_group_11': False, 'message_needaction_counter': 0, 'street': '215 Vine St', 'meeting_ids': [6, 5, 3, 2], 'commercial_partner_id': [3, 'YourCompany, Administrator'], 'action_id': False, 'in_group_26': False, 'zip': '18503', 'company_name': 'YourCompany', 'barcode': False, 'sale_team_id': [1, 'Europe'], 'id': 1, 'login': 'samlet@sagas.ai', 'alias_contact': False, 'team_id': False, 'create_uid': False, 'is_company': False, 'supplier': False, 'channel_ids': [1, 5], 'employee': False, 'message_channel_ids': [], 'partner_id': [3, 'YourCompany, Administrator'], 'in_group_20': False, 'signup_expiration': False, 'message_bounce': 0, 'in_group_22': False, 'activity_date_deadline': False, 'website': False, 'title': False, 'parent_name': False, 'display_name': 'Administrator', 'opt_out': False, 'phone': '+1 555-555-5555', 'function': False, 'sel_groups_1': 1, 'notification_type': 'inbox', 'active': True, 'message_needaction': False, 'website_message_ids': [], 'message_is_follower': False, 'tz': 'Asia/Shanghai', 'contact_address': 'YourCompany\\n215 Vine St\\n\\nScranton PA 18503\\nUnited States', 'user_id': False, 'new_password': False, 'state': 'active', 'parent_id': False, 'partner_share': False, 'self': [3, 'YourCompany, Administrator'], 'color': 0, 'street2': False, 'signup_url': 'http://localhost:8069/web/login?db=sagas_odoo&login=samlet%40sagas.ai', 'activity_summary': False, 'company_type': 'person', 'in_group_15': False, 'groups_id': [3, 8, 1, 24, 14, 4, 7, 23, 13, 12], 'write_uid': [1, 'Administrator']}]\n"
     ]
    }
   ],
   "source": [
    "import odoorpc\n",
    "\n",
    "# Prepare the connection to the server\n",
    "odoo = odoorpc.ODOO('localhost', port=8069)\n",
    "\n",
    "# Check available databases\n",
    "print(odoo.db.list())\n",
    "\n",
    "# Login\n",
    "# db=\"odoo12\"\n",
    "# username=\"samlet@163.com\"\n",
    "# password=\"intelibm\"\n",
    "\n",
    "db=\"sagas_odoo\"\n",
    "username=\"samlet@sagas.ai\"\n",
    "password=\"samlet\"\n",
    "\n",
    "# odoo.login('db_name', 'user', 'passwd')\n",
    "odoo.login(db, username, password)\n",
    "\n",
    "# Current user\n",
    "user = odoo.env.user\n",
    "print(user.name)            # name of the user connected\n",
    "print(user.company_id.name) # the name of its company\n",
    "\n",
    "# Simple 'raw' query\n",
    "user_data = odoo.execute('res.users', 'read', [user.id])\n",
    "print(user_data)\n",
    "\n",
    "# Use all methods of a model\n",
    "if 'sale.order' in odoo.env:\n",
    "    Order = odoo.env['sale.order']\n",
    "    order_ids = Order.search([])\n",
    "    for order in Order.browse(order_ids):\n",
    "        print(order.name)\n",
    "        products = [line.product_id.name for line in order.order_line]\n",
    "        print(products[:1])"
   ]
  },
  {
   "cell_type": "code",
   "execution_count": 7,
   "metadata": {
    "ExecuteTime": {
     "end_time": "2019-01-06T09:34:52.451685Z",
     "start_time": "2019-01-06T09:34:52.359602Z"
    }
   },
   "outputs": [
    {
     "name": "stdout",
     "output_type": "stream",
     "text": [
      "Recordset('res.users', [1])\n"
     ]
    }
   ],
   "source": [
    "print(user.user_ids)"
   ]
  },
  {
   "cell_type": "code",
   "execution_count": 8,
   "metadata": {
    "ExecuteTime": {
     "end_time": "2019-01-06T11:10:06.640326Z",
     "start_time": "2019-01-06T11:10:06.634128Z"
    }
   },
   "outputs": [],
   "source": [
    "import io\n",
    "filename=\"./sagas/dataset/user_data.json\"\n",
    "text=json.dumps(user_data, indent=4, ensure_ascii=False)\n",
    "with io.open(filename, 'w', encoding=\"utf-8\") as f:\n",
    "    f.write(text)"
   ]
  },
  {
   "cell_type": "code",
   "execution_count": 13,
   "metadata": {
    "ExecuteTime": {
     "end_time": "2019-01-06T11:48:01.497380Z",
     "start_time": "2019-01-06T11:48:01.489544Z"
    }
   },
   "outputs": [],
   "source": [
    "import dataset_utils\n",
    "import imp\n",
    "imp.reload(dataset_utils)\n",
    "dataset_utils.write_dataset(user_data, \"user_data_1\")"
   ]
  },
  {
   "cell_type": "code",
   "execution_count": 2,
   "metadata": {
    "ExecuteTime": {
     "end_time": "2019-01-06T09:20:56.433868Z",
     "start_time": "2019-01-06T09:20:56.401746Z"
    }
   },
   "outputs": [
    {
     "name": "stdout",
     "output_type": "stream",
     "text": [
      "Model('res.partner')\n"
     ]
    }
   ],
   "source": [
    "partner_obj = odoo.env['res.partner']\n",
    "print(partner_obj)"
   ]
  },
  {
   "cell_type": "code",
   "execution_count": 5,
   "metadata": {
    "ExecuteTime": {
     "end_time": "2018-12-06T08:45:34.926151Z",
     "start_time": "2018-12-06T08:45:34.407571Z"
    }
   },
   "outputs": [],
   "source": [
    "p1_id = partner_obj.create({'name': \"Child 1\"})\n",
    "p2_id = partner_obj.create({'name': \"Child 2\"})"
   ]
  },
  {
   "cell_type": "code",
   "execution_count": 44,
   "metadata": {
    "ExecuteTime": {
     "end_time": "2018-12-06T11:17:00.223039Z",
     "start_time": "2018-12-06T11:17:00.188089Z"
    }
   },
   "outputs": [
    {
     "name": "stdout",
     "output_type": "stream",
     "text": [
      "关注者(业务伙伴)\n"
     ]
    }
   ],
   "source": [
    "obj=partner_obj.fields_get()\n",
    "# json.dumps(obj, indent=4, ensure_ascii=False)\n",
    "fld=obj[\"message_partner_ids\"]\n",
    "print(fld[\"string\"])"
   ]
  },
  {
   "cell_type": "code",
   "execution_count": 41,
   "metadata": {
    "ExecuteTime": {
     "end_time": "2018-12-06T09:46:05.195117Z",
     "start_time": "2018-12-06T09:46:05.184353Z"
    }
   },
   "outputs": [],
   "source": [
    "import io\n",
    "filename=\"./dataset/partner_obj.json\"\n",
    "text=json.dumps(obj, indent=4, ensure_ascii=False)\n",
    "with io.open(filename, 'w', encoding=\"utf-8\") as f:\n",
    "    f.write(text)"
   ]
  },
  {
   "cell_type": "code",
   "execution_count": 42,
   "metadata": {
    "ExecuteTime": {
     "end_time": "2018-12-06T09:48:46.546967Z",
     "start_time": "2018-12-06T09:48:46.378596Z"
    }
   },
   "outputs": [],
   "source": [
    "import io\n",
    "filename=\"./dataset/partner_obj_view.json\"\n",
    "obj=partner_obj.fields_view_get()\n",
    "text=json.dumps(obj, indent=4, ensure_ascii=False)\n",
    "with io.open(filename, 'w', encoding=\"utf-8\") as f:\n",
    "    f.write(text)"
   ]
  },
  {
   "cell_type": "code",
   "execution_count": 10,
   "metadata": {
    "ExecuteTime": {
     "end_time": "2018-12-06T08:53:02.880746Z",
     "start_time": "2018-12-06T08:53:02.613282Z"
    }
   },
   "outputs": [
    {
     "name": "stdout",
     "output_type": "stream",
     "text": [
      "[41, 32, 28, 37, 36, 35, 31, 10, 11, 12, 14, 15, 17, 19, 20, 21, 22, 23, 24, 29, 34, 33, 30, 26, 9, 4, 5, 6, 27, 3, 2, 1, 43, 7, 8, 25, 42, 18, 16]\n"
     ]
    }
   ],
   "source": [
    "Product = odoo.env['product.product']\n",
    "product_id = Product.create(\n",
    "            {'name': u\"Product invisible\", 'active': False})\n",
    "product_ids = Product.search([])\n",
    "print(product_ids)"
   ]
  },
  {
   "cell_type": "code",
   "execution_count": 13,
   "metadata": {
    "ExecuteTime": {
     "end_time": "2018-12-06T08:55:39.869235Z",
     "start_time": "2018-12-06T08:55:39.813242Z"
    }
   },
   "outputs": [
    {
     "name": "stdout",
     "output_type": "stream",
     "text": [
      "Recordset('res.country', [57])\n",
      "德国\n"
     ]
    }
   ],
   "source": [
    "Country = odoo.env['res.country']\n",
    "de_id = Country.search([('code', '=', 'DE')])[0]\n",
    "de = Country.browse(de_id)\n",
    "print(de)\n",
    "print(de.name)"
   ]
  },
  {
   "cell_type": "code",
   "execution_count": 14,
   "metadata": {
    "ExecuteTime": {
     "end_time": "2018-12-06T09:09:05.989908Z",
     "start_time": "2018-12-06T09:09:05.832223Z"
    }
   },
   "outputs": [
    {
     "data": {
      "text/plain": [
       "'zh_CN'"
      ]
     },
     "execution_count": 14,
     "metadata": {},
     "output_type": "execute_result"
    }
   ],
   "source": [
    "product_en = Product.browse(1)\n",
    "product_en.env.lang"
   ]
  },
  {
   "cell_type": "code",
   "execution_count": 16,
   "metadata": {
    "ExecuteTime": {
     "end_time": "2018-12-06T09:10:36.164560Z",
     "start_time": "2018-12-06T09:10:36.160155Z"
    }
   },
   "outputs": [
    {
     "name": "stdout",
     "output_type": "stream",
     "text": [
      "预付咨询\n"
     ]
    }
   ],
   "source": [
    "# http://localhost:8069/web#id=1&view_type=form&model=product.template&menu_id=258&action=170\n",
    "print(product_en.name)"
   ]
  },
  {
   "cell_type": "code",
   "execution_count": 18,
   "metadata": {
    "ExecuteTime": {
     "end_time": "2018-12-06T09:11:37.000226Z",
     "start_time": "2018-12-06T09:11:36.861868Z"
    }
   },
   "outputs": [
    {
     "data": {
      "text/plain": [
       "'fr_FR'"
      ]
     },
     "execution_count": 18,
     "metadata": {},
     "output_type": "execute_result"
    }
   ],
   "source": [
    "product_fr = product_en.with_context(lang='fr_FR')\n",
    "product_fr.env.lang"
   ]
  },
  {
   "cell_type": "code",
   "execution_count": 19,
   "metadata": {
    "ExecuteTime": {
     "end_time": "2018-12-06T09:12:01.148202Z",
     "start_time": "2018-12-06T09:12:01.142630Z"
    }
   },
   "outputs": [
    {
     "data": {
      "text/plain": [
       "'Prepaid Consulting'"
      ]
     },
     "execution_count": 19,
     "metadata": {},
     "output_type": "execute_result"
    }
   ],
   "source": [
    "product_fr.name"
   ]
  },
  {
   "cell_type": "code",
   "execution_count": 20,
   "metadata": {
    "ExecuteTime": {
     "end_time": "2018-12-06T09:12:13.359705Z",
     "start_time": "2018-12-06T09:12:13.315322Z"
    }
   },
   "outputs": [],
   "source": [
    "product_fr.name = \"Mon produit\" # Update the french translation"
   ]
  },
  {
   "cell_type": "code",
   "execution_count": 22,
   "metadata": {
    "ExecuteTime": {
     "end_time": "2018-12-06T09:17:55.578670Z",
     "start_time": "2018-12-06T09:17:55.554483Z"
    }
   },
   "outputs": [
    {
     "name": "stdout",
     "output_type": "stream",
     "text": [
      "[41, 32, 28, 37, 36, 35, 31, 10, 11, 12, 13, 14, 15, 17, 19, 20, 21, 22, 23, 24, 29, 34, 33, 30, 26, 9, 4, 5, 6, 27, 3, 2, 1, 44, 45, 46, 40, 43, 7, 8, 25, 42, 18, 16, 38, 39]\n"
     ]
    }
   ],
   "source": [
    "all_product_ids = Product.with_context(active_test=False).search([])\n",
    "print(all_product_ids)"
   ]
  },
  {
   "cell_type": "code",
   "execution_count": 24,
   "metadata": {
    "ExecuteTime": {
     "end_time": "2018-12-06T09:19:22.514844Z",
     "start_time": "2018-12-06T09:19:22.383086Z"
    }
   },
   "outputs": [
    {
     "name": "stdout",
     "output_type": "stream",
     "text": [
      "YourCompany\n"
     ]
    }
   ],
   "source": [
    "Partner = odoo.env['res.partner']\n",
    "partner = Partner.browse(1)\n",
    "print(partner.name)"
   ]
  },
  {
   "cell_type": "code",
   "execution_count": 25,
   "metadata": {
    "ExecuteTime": {
     "end_time": "2018-12-06T09:20:10.392493Z",
     "start_time": "2018-12-06T09:20:10.303079Z"
    }
   },
   "outputs": [
    {
     "data": {
      "text/plain": [
       "True"
      ]
     },
     "execution_count": 25,
     "metadata": {},
     "output_type": "execute_result"
    }
   ],
   "source": [
    "partner.write({'name': 'Samlet co'}) "
   ]
  },
  {
   "cell_type": "code",
   "execution_count": 26,
   "metadata": {
    "ExecuteTime": {
     "end_time": "2018-12-06T09:27:08.242902Z",
     "start_time": "2018-12-06T09:27:08.237482Z"
    }
   },
   "outputs": [
    {
     "data": {
      "text/plain": [
       "{'auto_commit': True, 'auto_context': True, 'timeout': 120.0}"
      ]
     },
     "execution_count": 26,
     "metadata": {},
     "output_type": "execute_result"
    }
   ],
   "source": [
    "odoo.config"
   ]
  },
  {
   "cell_type": "code",
   "execution_count": 27,
   "metadata": {
    "ExecuteTime": {
     "end_time": "2018-12-06T09:27:35.972901Z",
     "start_time": "2018-12-06T09:27:35.967834Z"
    }
   },
   "outputs": [
    {
     "data": {
      "text/plain": [
       "'zh_CN'"
      ]
     },
     "execution_count": 27,
     "metadata": {},
     "output_type": "execute_result"
    }
   ],
   "source": [
    "odoo.env.context['lang']"
   ]
  },
  {
   "cell_type": "code",
   "execution_count": 29,
   "metadata": {
    "ExecuteTime": {
     "end_time": "2018-12-06T09:27:54.007323Z",
     "start_time": "2018-12-06T09:27:53.974921Z"
    }
   },
   "outputs": [
    {
     "data": {
      "text/plain": [
       "[[2, '[SERV_DEL] 成本加成合同']]"
      ]
     },
     "execution_count": 29,
     "metadata": {},
     "output_type": "execute_result"
    }
   ],
   "source": [
    "Product = odoo.env['product.product']\n",
    "Product.name_get([2])"
   ]
  },
  {
   "cell_type": "code",
   "execution_count": 30,
   "metadata": {
    "ExecuteTime": {
     "end_time": "2018-12-06T09:28:14.259233Z",
     "start_time": "2018-12-06T09:28:14.225442Z"
    }
   },
   "outputs": [
    {
     "data": {
      "text/plain": [
       "[[2, '[SERV_DEL] Contrat à prix coûtant majoré']]"
      ]
     },
     "execution_count": 30,
     "metadata": {},
     "output_type": "execute_result"
    }
   ],
   "source": [
    "odoo.env.context['lang'] = 'fr_FR'\n",
    "Product.name_get([2])"
   ]
  },
  {
   "cell_type": "code",
   "execution_count": 31,
   "metadata": {
    "ExecuteTime": {
     "end_time": "2018-12-06T09:32:12.508573Z",
     "start_time": "2018-12-06T09:32:12.472920Z"
    }
   },
   "outputs": [
    {
     "data": {
      "text/plain": [
       "[[2, '[SERV_DEL] Contrat à prix coûtant majoré']]"
      ]
     },
     "execution_count": 31,
     "metadata": {},
     "output_type": "execute_result"
    }
   ],
   "source": [
    "Product.name_get([2])"
   ]
  },
  {
   "cell_type": "code",
   "execution_count": 32,
   "metadata": {
    "ExecuteTime": {
     "end_time": "2018-12-06T09:33:02.906427Z",
     "start_time": "2018-12-06T09:33:02.871271Z"
    }
   },
   "outputs": [
    {
     "data": {
      "text/plain": [
       "[[2, '[SERV_DEL] 成本加成合同']]"
      ]
     },
     "execution_count": 32,
     "metadata": {},
     "output_type": "execute_result"
    }
   ],
   "source": [
    "odoo.env.context['lang'] = 'zh_CN'\n",
    "Product.name_get([2])"
   ]
  },
  {
   "cell_type": "code",
   "execution_count": 45,
   "metadata": {
    "ExecuteTime": {
     "end_time": "2018-12-06T11:24:59.394458Z",
     "start_time": "2018-12-06T11:24:59.212042Z"
    }
   },
   "outputs": [
    {
     "data": {
      "text/plain": [
       "43"
      ]
     },
     "execution_count": 45,
     "metadata": {},
     "output_type": "execute_result"
    }
   ],
   "source": [
    "odoo.env.ref('sale.advance_product_0').id"
   ]
  },
  {
   "cell_type": "code",
   "execution_count": 46,
   "metadata": {
    "ExecuteTime": {
     "end_time": "2018-12-06T11:26:08.927234Z",
     "start_time": "2018-12-06T11:26:08.848619Z"
    }
   },
   "outputs": [
    {
     "data": {
      "text/plain": [
       "Recordset('res.lang', [1])"
      ]
     },
     "execution_count": 46,
     "metadata": {},
     "output_type": "execute_result"
    }
   ],
   "source": [
    "odoo.env.ref('base.lang_en')"
   ]
  },
  {
   "cell_type": "code",
   "execution_count": 47,
   "metadata": {
    "ExecuteTime": {
     "end_time": "2018-12-06T11:26:48.874476Z",
     "start_time": "2018-12-06T11:26:48.868286Z"
    }
   },
   "outputs": [
    {
     "data": {
      "text/plain": [
       "1"
      ]
     },
     "execution_count": 47,
     "metadata": {},
     "output_type": "execute_result"
    }
   ],
   "source": [
    "odoo.env.uid"
   ]
  },
  {
   "cell_type": "code",
   "execution_count": 48,
   "metadata": {
    "ExecuteTime": {
     "end_time": "2018-12-06T11:27:27.220904Z",
     "start_time": "2018-12-06T11:27:27.053705Z"
    }
   },
   "outputs": [
    {
     "name": "stdout",
     "output_type": "stream",
     "text": [
      "Recordset('res.users', [1])\n",
      "Administrator\n"
     ]
    }
   ],
   "source": [
    "user = odoo.env.user\n",
    "print(user)\n",
    "print(user.name)"
   ]
  },
  {
   "cell_type": "code",
   "execution_count": 49,
   "metadata": {
    "ExecuteTime": {
     "end_time": "2018-12-06T11:28:13.518760Z",
     "start_time": "2018-12-06T11:28:13.324307Z"
    }
   },
   "outputs": [
    {
     "data": {
      "text/plain": [
       "'Samlet co'"
      ]
     },
     "execution_count": 49,
     "metadata": {},
     "output_type": "execute_result"
    }
   ],
   "source": [
    "odoo.env.user.company_id.name   # 'res.users' and 'res.company' Model proxies will be fetched"
   ]
  },
  {
   "cell_type": "code",
   "execution_count": 50,
   "metadata": {
    "ExecuteTime": {
     "end_time": "2018-12-06T11:28:37.656284Z",
     "start_time": "2018-12-06T11:28:37.648419Z"
    }
   },
   "outputs": [
    {
     "name": "stdout",
     "output_type": "stream",
     "text": [
      "{'product.product': Model('product.product'),\n",
      " 'res.company': Model('res.company'),\n",
      " 'res.country': Model('res.country'),\n",
      " 'res.lang': Model('res.lang'),\n",
      " 'res.partner': Model('res.partner'),\n",
      " 'res.users': Model('res.users'),\n",
      " 'sale.order': Model('sale.order'),\n",
      " 'sale.order.line': Model('sale.order.line')}\n"
     ]
    }
   ],
   "source": [
    "from pprint import pprint\n",
    "pprint(odoo.env.registry)"
   ]
  },
  {
   "cell_type": "code",
   "execution_count": 51,
   "metadata": {
    "ExecuteTime": {
     "end_time": "2018-12-06T11:29:40.575834Z",
     "start_time": "2018-12-06T11:29:40.543758Z"
    }
   },
   "outputs": [
    {
     "data": {
      "text/plain": [
       "True"
      ]
     },
     "execution_count": 51,
     "metadata": {},
     "output_type": "execute_result"
    }
   ],
   "source": [
    "'res.partner' in odoo.env"
   ]
  },
  {
   "cell_type": "code",
   "execution_count": 53,
   "metadata": {
    "ExecuteTime": {
     "end_time": "2018-12-06T12:03:36.985364Z",
     "start_time": "2018-12-06T12:03:36.911387Z"
    }
   },
   "outputs": [
    {
     "data": {
      "text/plain": [
       "Recordset('res.groups', [11])"
      ]
     },
     "execution_count": 53,
     "metadata": {},
     "output_type": "execute_result"
    }
   ],
   "source": [
    "odoo.env.ref('base.group_public')"
   ]
  },
  {
   "cell_type": "code",
   "execution_count": 55,
   "metadata": {
    "ExecuteTime": {
     "end_time": "2018-12-06T12:19:06.811135Z",
     "start_time": "2018-12-06T12:19:06.806202Z"
    }
   },
   "outputs": [
    {
     "name": "stdout",
     "output_type": "stream",
     "text": [
      "Model('res.users')\n"
     ]
    }
   ],
   "source": [
    "User = odoo.env['res.users'].with_context({'no_reset_password': True})\n",
    "print(User)"
   ]
  },
  {
   "cell_type": "code",
   "execution_count": 77,
   "metadata": {
    "ExecuteTime": {
     "end_time": "2018-12-06T12:43:24.172988Z",
     "start_time": "2018-12-06T12:43:24.147236Z"
    }
   },
   "outputs": [],
   "source": [
    "class SurveyProcs:\n",
    "    def __init__(self, env):\n",
    "        self.env=env\n",
    "    def ref(self, ref_id):\n",
    "        return self.env.ref(ref_id).id\n",
    "        \n",
    "    def tests(self):\n",
    "        User = self.env['res.users'].with_context({'no_reset_password': True})\n",
    "        (group_survey_user, group_employee) = (self.ref('survey.group_survey_user'), self.ref('base.group_user'))\n",
    "        self.survey_manager = User.create({\n",
    "            'name': 'Gustave Doré', 'login': 'kitty2','email': 'gustav.dore@example.com',\n",
    "            'groups_id': [(6, 0, [self.ref('survey.group_survey_manager'), group_survey_user, group_employee])]})\n",
    "\n",
    "        self.survey_user = User.create({\n",
    "            'name': 'Lukas Peeters', 'login': 'Lukas2', 'email': 'lukas.petters@example.com',\n",
    "            'groups_id': [(6, 0, [group_survey_user, group_employee])]})\n",
    "\n",
    "        self.user_public = User.create({\n",
    "            'name': 'Wout Janssens', 'login': 'Wout2', 'email': 'wout.janssens@example.com',\n",
    "            'groups_id': [(6, 0, [self.ref('base.group_public')])]})\n",
    "\n",
    "        # self.survey1 = self.env['survey.survey'].sudo(self.survey_manager).create({'title': \"S0\", 'page_ids': [(0, 0, {'title': \"P0\"})]})\n",
    "        # self.page1 = self.survey1.page_ids[0]"
   ]
  },
  {
   "cell_type": "code",
   "execution_count": 78,
   "metadata": {
    "ExecuteTime": {
     "end_time": "2018-12-06T12:43:28.606715Z",
     "start_time": "2018-12-06T12:43:26.927722Z"
    }
   },
   "outputs": [],
   "source": [
    "procs=SurveyProcs(odoo.env)\n",
    "procs.tests()"
   ]
  },
  {
   "cell_type": "code",
   "execution_count": 68,
   "metadata": {
    "ExecuteTime": {
     "end_time": "2018-12-06T12:33:25.412795Z",
     "start_time": "2018-12-06T12:33:25.288948Z"
    }
   },
   "outputs": [
    {
     "name": "stdout",
     "output_type": "stream",
     "text": [
      "49\n"
     ]
    }
   ],
   "source": [
    "(group_survey_user, group_employee) = (odoo.env.ref('survey.group_survey_user'), odoo.env.ref('base.group_user'))\n",
    "print(group_survey_user.id)"
   ]
  },
  {
   "cell_type": "code",
   "execution_count": 69,
   "metadata": {
    "ExecuteTime": {
     "end_time": "2018-12-06T12:34:17.044612Z",
     "start_time": "2018-12-06T12:34:16.312950Z"
    }
   },
   "outputs": [],
   "source": [
    "(group_survey_user, group_employee) = (odoo.env.ref('survey.group_survey_user'), odoo.env.ref('base.group_user'))\n",
    "survey_manager = User.create({\n",
    "    'name': 'Gustave Doré', 'login': 'Gustav','email': 'gustav.dore@example.com',\n",
    "    'groups_id': [(6, 0, [odoo.env.ref('survey.group_survey_manager').id, group_survey_user.id, group_employee.id])]})\n"
   ]
  }
 ],
 "metadata": {
  "kernelspec": {
   "display_name": "Python 3",
   "language": "python",
   "name": "python3"
  },
  "language_info": {
   "codemirror_mode": {
    "name": "ipython",
    "version": 3
   },
   "file_extension": ".py",
   "mimetype": "text/x-python",
   "name": "python",
   "nbconvert_exporter": "python",
   "pygments_lexer": "ipython3",
   "version": "3.6.4"
  },
  "varInspector": {
   "cols": {
    "lenName": 16,
    "lenType": 16,
    "lenVar": 40
   },
   "kernels_config": {
    "python": {
     "delete_cmd_postfix": "",
     "delete_cmd_prefix": "del ",
     "library": "var_list.py",
     "varRefreshCmd": "print(var_dic_list())"
    },
    "r": {
     "delete_cmd_postfix": ") ",
     "delete_cmd_prefix": "rm(",
     "library": "var_list.r",
     "varRefreshCmd": "cat(var_dic_list()) "
    }
   },
   "types_to_exclude": [
    "module",
    "function",
    "builtin_function_or_method",
    "instance",
    "_Feature"
   ],
   "window_display": false
  }
 },
 "nbformat": 4,
 "nbformat_minor": 2
}
