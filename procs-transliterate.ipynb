{
 "cells": [
  {
   "cell_type": "code",
   "execution_count": 7,
   "metadata": {
    "ExecuteTime": {
     "end_time": "2019-09-02T18:02:01.262965Z",
     "start_time": "2019-09-02T18:02:01.248226Z"
    }
   },
   "outputs": [
    {
     "data": {
      "text/plain": [
       "'son-mog-si-gye'"
      ]
     },
     "execution_count": 7,
     "metadata": {},
     "output_type": "execute_result"
    }
   ],
   "source": [
    "import kroman\n",
    "kroman.parse('손목시계')"
   ]
  },
  {
   "cell_type": "code",
   "execution_count": 8,
   "metadata": {
    "ExecuteTime": {
     "end_time": "2019-09-02T18:11:14.495445Z",
     "start_time": "2019-09-02T18:11:14.484751Z"
    }
   },
   "outputs": [
    {
     "data": {
      "text/plain": [
       "'i-geon nae sam-con-i-ya'"
      ]
     },
     "execution_count": 8,
     "metadata": {},
     "output_type": "execute_result"
    }
   ],
   "source": [
    "kroman.parse('이건 내 삼촌이야')"
   ]
  },
  {
   "cell_type": "code",
   "execution_count": 9,
   "metadata": {
    "ExecuteTime": {
     "end_time": "2019-09-02T18:28:13.003078Z",
     "start_time": "2019-09-02T18:28:12.990239Z"
    }
   },
   "outputs": [
    {
     "data": {
      "text/plain": [
       "'i sang-ja-reur yeor-eo-do doer-gga-yo?'"
      ]
     },
     "execution_count": 9,
     "metadata": {},
     "output_type": "execute_result"
    }
   ],
   "source": [
    "kroman.parse('이 상자를 열어도 될까요?')"
   ]
  },
  {
   "cell_type": "code",
   "execution_count": 11,
   "metadata": {
    "ExecuteTime": {
     "end_time": "2019-09-02T19:23:52.675947Z",
     "start_time": "2019-09-02T19:23:52.660368Z"
    }
   },
   "outputs": [
    {
     "data": {
      "text/plain": [
       "'dang-sin-eun na-eui ga-jang cin-han cin-gu-ib-ni-da.'"
      ]
     },
     "execution_count": 11,
     "metadata": {},
     "output_type": "execute_result"
    }
   ],
   "source": [
    "# you are my best friend.\n",
    "kroman.parse('당신은 나의 가장 친한 친구입니다.')"
   ]
  },
  {
   "cell_type": "code",
   "execution_count": 12,
   "metadata": {
    "ExecuteTime": {
     "end_time": "2019-09-02T20:05:57.390574Z",
     "start_time": "2019-09-02T20:05:57.380928Z"
    }
   },
   "outputs": [
    {
     "data": {
      "text/plain": [
       "'nae cin-gu-deur-eun meong-ceong-ha-da.'"
      ]
     },
     "execution_count": 12,
     "metadata": {},
     "output_type": "execute_result"
    }
   ],
   "source": [
    "kroman.parse('내 친구들은 멍청하다.')"
   ]
  },
  {
   "cell_type": "code",
   "execution_count": 3,
   "metadata": {
    "ExecuteTime": {
     "end_time": "2019-09-02T10:25:13.508548Z",
     "start_time": "2019-09-02T10:25:13.492745Z"
    }
   },
   "outputs": [
    {
     "data": {
      "text/plain": [
       "dict_keys(['sr', 'me', 'mk', 'ru'])"
      ]
     },
     "execution_count": 3,
     "metadata": {},
     "output_type": "execute_result"
    }
   ],
   "source": [
    ">>> import cyrtranslit\n",
    ">>> cyrtranslit.supported()"
   ]
  },
  {
   "cell_type": "code",
   "execution_count": 6,
   "metadata": {
    "ExecuteTime": {
     "end_time": "2019-09-02T10:26:04.785925Z",
     "start_time": "2019-09-02T10:26:04.769170Z"
    }
   },
   "outputs": [
    {
     "data": {
      "text/plain": [
       "'Moj hoverkraft je pun jegulja'"
      ]
     },
     "execution_count": 6,
     "metadata": {},
     "output_type": "execute_result"
    }
   ],
   "source": [
    "# Serbian\n",
    "import cyrtranslit\n",
    "cyrtranslit.to_latin('Мој ховеркрафт је пун јегуља')"
   ]
  },
  {
   "cell_type": "code",
   "execution_count": 5,
   "metadata": {
    "ExecuteTime": {
     "end_time": "2019-09-02T10:25:40.279865Z",
     "start_time": "2019-09-02T10:25:40.269076Z"
    }
   },
   "outputs": [
    {
     "data": {
      "text/plain": [
       "'Мој ховеркрафт је пун јегуља'"
      ]
     },
     "execution_count": 5,
     "metadata": {},
     "output_type": "execute_result"
    }
   ],
   "source": [
    "cyrtranslit.to_cyrillic('Moj hoverkraft je pun jegulja')"
   ]
  },
  {
   "cell_type": "code",
   "execution_count": 14,
   "metadata": {
    "ExecuteTime": {
     "end_time": "2019-09-02T20:19:44.979575Z",
     "start_time": "2019-09-02T20:19:44.965368Z"
    }
   },
   "outputs": [
    {
     "data": {
      "text/plain": [
       "'dobroe utro'"
      ]
     },
     "execution_count": 14,
     "metadata": {},
     "output_type": "execute_result"
    }
   ],
   "source": [
    "cyrtranslit.to_latin('доброе утро', 'ru')"
   ]
  },
  {
   "cell_type": "code",
   "execution_count": 3,
   "metadata": {
    "ExecuteTime": {
     "end_time": "2019-11-21T09:55:36.964033Z",
     "start_time": "2019-11-21T09:55:36.948810Z"
    }
   },
   "outputs": [
    {
     "name": "stdout",
     "output_type": "stream",
     "text": [
      "KANONY\n"
     ]
    }
   ],
   "source": [
    "buck2uni = {\n",
    "            u\"\\u0627\":\"A\",\n",
    "            u\"\\u0627\":\"A\", \n",
    "            u\"\\u0675\":\"A\", \n",
    "            u\"\\u0673\":\"A\", \n",
    "            u\"\\u0630\":\"A\", \n",
    "            u\"\\u0622\":\"AA\", \n",
    "            u\"\\u0628\":\"B\", \n",
    "            u\"\\u067E\":\"P\", \n",
    "            u\"\\u062A\":\"T\", \n",
    "            u\"\\u0637\":\"T\", \n",
    "            u\"\\u0679\":\"T\", \n",
    "            u\"\\u062C\":\"J\", \n",
    "            u\"\\u0633\":\"S\", \n",
    "            u\"\\u062B\":\"S\", \n",
    "            u\"\\u0635\":\"S\", \n",
    "            u\"\\u0686\":\"CH\", \n",
    "            u\"\\u062D\":\"H\", \n",
    "            u\"\\u0647\":\"H\", \n",
    "            u\"\\u0629\":\"H\", \n",
    "            u\"\\u06DF\":\"H\", \n",
    "            u\"\\u062E\":\"KH\", \n",
    "            u\"\\u062F\":\"D\", \n",
    "            u\"\\u0688\":\"D\", \n",
    "            u\"\\u0630\":\"Z\", \n",
    "            u\"\\u0632\":\"Z\", \n",
    "            u\"\\u0636\":\"Z\", \n",
    "            u\"\\u0638\":\"Z\", \n",
    "            u\"\\u068E\":\"Z\", \n",
    "            u\"\\u0631\":\"R\", \n",
    "            u\"\\u0691\":\"R\", \n",
    "            u\"\\u0634\":\"SH\", \n",
    "            u\"\\u063A\":\"GH\", \n",
    "            u\"\\u0641\":\"F\", \n",
    "            u\"\\u06A9\":\"K\", \n",
    "            u\"\\u0642\":\"K\", \n",
    "            u\"\\u06AF\":\"G\", \n",
    "            u\"\\u0644\":\"L\", \n",
    "            u\"\\u0645\":\"M\", \n",
    "            u\"\\u0646\":\"N\", \n",
    "            u\"\\u06BA\":\"N\", \n",
    "            u\"\\u0648\":\"O\", \n",
    "            u\"\\u0649\":\"Y\", \n",
    "            u\"\\u0626\":\"Y\", \n",
    "            u\"\\u06CC\":\"Y\", \n",
    "\n",
    "            u\"\\u06D2\":\"E\", \n",
    "            u\"\\u06C1\":\"H\",\n",
    "            u\"\\u064A\":\"E\"  ,\n",
    "            u\"\\u06C2\":\"AH\"  ,\n",
    "            u\"\\u06BE\":\"H\"  ,\n",
    "            u\"\\u0639\":\"A\"  ,\n",
    "            u\"\\u0643\":\"K\" ,\n",
    "            u\"\\u0621\":\"A\",\n",
    "            u\"\\u0624\":\"O\",\n",
    "            u\"\\u060C\":\"\" #seperator ulta comma\n",
    "}\n",
    "\n",
    "def transString(string, reverse=0):\n",
    "    '''Given a Unicode string, transliterate into Buckwalter. To go from\n",
    "    Buckwalter back to Unicode, set reverse=1'''\n",
    "\n",
    "    for k, v in buck2uni.items():\n",
    "      if not reverse:\n",
    "            string = string.replace(k, v)\n",
    "      else:\n",
    "            string = string.replace(v, k)\n",
    "\n",
    "    return string\n",
    "\n",
    "word = 'قانونی'\n",
    "# word.decode('utf-8', 'ignore')\n",
    "# print(unicode(word, \"utf-8\"))\n",
    "print(transString(word))"
   ]
  },
  {
   "cell_type": "code",
   "execution_count": 5,
   "metadata": {
    "ExecuteTime": {
     "end_time": "2019-11-21T09:57:14.601348Z",
     "start_time": "2019-11-21T09:57:14.591885Z"
    }
   },
   "outputs": [
    {
     "name": "stdout",
     "output_type": "stream",
     "text": [
      "‫أktb klmh.‬\n"
     ]
    }
   ],
   "source": [
    "print(transString(\"\\u202b\\u0623\\u0643\\u062a\\u0628 \\u0643\\u0644\\u0645\\u0629.\\u202c\").lower())"
   ]
  },
  {
   "cell_type": "code",
   "execution_count": 6,
   "metadata": {
    "ExecuteTime": {
     "end_time": "2019-11-21T09:58:36.373707Z",
     "start_time": "2019-11-21T09:58:36.360900Z"
    }
   },
   "outputs": [],
   "source": [
    "buck2uni = {\"'\": u\"\\u0621\", # hamza-on-the-line\n",
    "            \"|\": u\"\\u0622\", # madda\n",
    "            \">\": u\"\\u0623\", # hamza-on-'alif\n",
    "            \"&\": u\"\\u0624\", # hamza-on-waaw\n",
    "            \"<\": u\"\\u0625\", # hamza-under-'alif\n",
    "            \"}\": u\"\\u0626\", # hamza-on-yaa'\n",
    "            \"A\": u\"\\u0627\", # bare 'alif\n",
    "            \"b\": u\"\\u0628\", # baa'\n",
    "            \"p\": u\"\\u0629\", # taa' marbuuTa\n",
    "            \"t\": u\"\\u062A\", # taa'\n",
    "            \"v\": u\"\\u062B\", # thaa'\n",
    "            \"j\": u\"\\u062C\", # jiim\n",
    "            \"H\": u\"\\u062D\", # Haa'\n",
    "            \"x\": u\"\\u062E\", # khaa'\n",
    "            \"d\": u\"\\u062F\", # daal\n",
    "            \"*\": u\"\\u0630\", # dhaal\n",
    "            \"r\": u\"\\u0631\", # raa'\n",
    "            \"z\": u\"\\u0632\", # zaay\n",
    "            \"s\": u\"\\u0633\", # siin\n",
    "            \"$\": u\"\\u0634\", # shiin\n",
    "            \"S\": u\"\\u0635\", # Saad\n",
    "            \"D\": u\"\\u0636\", # Daad\n",
    "            \"T\": u\"\\u0637\", # Taa'\n",
    "            \"Z\": u\"\\u0638\", # Zaa' (DHaa')\n",
    "            \"E\": u\"\\u0639\", # cayn\n",
    "            \"g\": u\"\\u063A\", # ghayn\n",
    "            \"_\": u\"\\u0640\", # taTwiil\n",
    "            \"f\": u\"\\u0641\", # faa'\n",
    "            \"q\": u\"\\u0642\", # qaaf\n",
    "            \"k\": u\"\\u0643\", # kaaf\n",
    "            \"l\": u\"\\u0644\", # laam\n",
    "            \"m\": u\"\\u0645\", # miim\n",
    "            \"n\": u\"\\u0646\", # nuun\n",
    "            \"h\": u\"\\u0647\", # haa'\n",
    "            \"w\": u\"\\u0648\", # waaw\n",
    "            \"Y\": u\"\\u0649\", # 'alif maqSuura\n",
    "            \"y\": u\"\\u064A\", # yaa'\n",
    "            \"F\": u\"\\u064B\", # fatHatayn\n",
    "            \"N\": u\"\\u064C\", # Dammatayn\n",
    "            \"K\": u\"\\u064D\", # kasratayn\n",
    "            \"a\": u\"\\u064E\", # fatHa\n",
    "            \"u\": u\"\\u064F\", # Damma\n",
    "            \"i\": u\"\\u0650\", # kasra\n",
    "            \"~\": u\"\\u0651\", # shaddah\n",
    "            \"o\": u\"\\u0652\", # sukuun\n",
    "            \"`\": u\"\\u0670\", # dagger 'alif\n",
    "            \"{\": u\"\\u0671\", # waSla\n",
    "}\n",
    "\n",
    "# For a reverse transliteration (Unicode -> Buckwalter), a dictionary\n",
    "# which is the reverse of the above buck2uni is essential.\n",
    "\n",
    "uni2buck = {}\n",
    "\n",
    "# Iterate through all the items in the buck2uni dict.\n",
    "for (key, value) in buck2uni.items():\n",
    "\t\t# The value from buck2uni becomes a key in uni2buck, and vice\n",
    "\t\t# versa for the keys.\n",
    "\t\tuni2buck[value] = key"
   ]
  },
  {
   "cell_type": "code",
   "execution_count": 9,
   "metadata": {
    "ExecuteTime": {
     "end_time": "2019-11-21T10:00:44.459052Z",
     "start_time": "2019-11-21T10:00:44.449606Z"
    }
   },
   "outputs": [
    {
     "data": {
      "text/plain": [
       "'\\u202b>ktb klmp.\\u202c'"
      ]
     },
     "execution_count": 9,
     "metadata": {},
     "output_type": "execute_result"
    }
   ],
   "source": [
    "reverse = 1      # When equal to 1, perform reverse transliteration, i.e.,\n",
    "                 # Unicode -> Buckwalter.\n",
    "def transliterateString(inString):\n",
    "\n",
    "\tout = \"\"\n",
    "\t\n",
    "\t# For normal Buckwalter -> Unicode transliteration..\n",
    "\tif not reverse:\n",
    "\n",
    "\t\t# Loop over each character in the string, inString.\n",
    "\t\tfor char in inString:\n",
    "\t\t\t# Look up current char in the dictionary to get its\n",
    "\t\t\t# respective value. If there is no match, e.g., chars like\n",
    "\t\t\t# spaces, then just stick with the current char without any\n",
    "\t\t\t# conversion.\n",
    "\t\t\tout = out + buck2uni.get(char, char)\n",
    "\t\n",
    "\t# Same as above, just in the other direction.\n",
    "\telse:\n",
    "\n",
    "\t\tfor char in inString:\n",
    "\t\t\tout = out + uni2buck.get(char, char)\n",
    "\n",
    "\treturn out\n",
    "\n",
    "transliterateString(\"\\u202b\\u0623\\u0643\\u062a\\u0628 \\u0643\\u0644\\u0645\\u0629.\\u202c\")"
   ]
  },
  {
   "cell_type": "code",
   "execution_count": 10,
   "metadata": {
    "ExecuteTime": {
     "end_time": "2019-11-21T10:02:11.483831Z",
     "start_time": "2019-11-21T10:02:11.475582Z"
    }
   },
   "outputs": [
    {
     "data": {
      "text/plain": [
       "'\\u202b>ktb klmp.\\u202c'"
      ]
     },
     "execution_count": 10,
     "metadata": {},
     "output_type": "execute_result"
    }
   ],
   "source": [
    "def transString(string, reverse=0):\n",
    "    '''Given a Unicode string, transliterate into Buckwalter. To go from\n",
    "    Buckwalter back to Unicode, set reverse=1'''\n",
    "\n",
    "    for k, v in buck2uni.items():\n",
    "        if not reverse:\n",
    "            string = string.replace(v, k)\n",
    "        else:\n",
    "            string = string.replace(k, v)\n",
    "\n",
    "    return string\n",
    "transString(\"\\u202b\\u0623\\u0643\\u062a\\u0628 \\u0643\\u0644\\u0645\\u0629.\\u202c\")"
   ]
  },
  {
   "cell_type": "code",
   "execution_count": 14,
   "metadata": {
    "ExecuteTime": {
     "end_time": "2019-11-21T10:05:19.574874Z",
     "start_time": "2019-11-21T10:05:19.565288Z"
    }
   },
   "outputs": [
    {
     "name": "stdout",
     "output_type": "stream",
     "text": [
      "‫hw why‬\n",
      "‫AlEA}lp lyst Sgyrp.‬\n"
     ]
    }
   ],
   "source": [
    "sents=['‫هو وهي‬',\n",
    "       '‫العائلة ليست صغيرة.‬',\n",
    "      ]\n",
    "for sent in sents:\n",
    "    print(transString(sent))"
   ]
  },
  {
   "cell_type": "code",
   "execution_count": 18,
   "metadata": {
    "ExecuteTime": {
     "end_time": "2019-11-21T10:13:17.529292Z",
     "start_time": "2019-11-21T10:13:17.515753Z"
    }
   },
   "outputs": [
    {
     "data": {
      "text/plain": [
       "{1569: \"'\",\n",
       " 1570: '|',\n",
       " 1571: '?',\n",
       " 1572: '&',\n",
       " 1573: '<',\n",
       " 1574: '}',\n",
       " 1575: 'A',\n",
       " 1576: 'b',\n",
       " 1577: 'p',\n",
       " 1578: 't',\n",
       " 1579: 'v',\n",
       " 1580: 'g',\n",
       " 1581: 'H',\n",
       " 1582: 'x',\n",
       " 1583: 'd',\n",
       " 1584: '*',\n",
       " 1585: 'r',\n",
       " 1586: 'z',\n",
       " 1587: 's',\n",
       " 1588: '$',\n",
       " 1589: 'S',\n",
       " 1590: 'D',\n",
       " 1591: 'T',\n",
       " 1592: 'Z',\n",
       " 1593: 'E',\n",
       " 1594: 'G',\n",
       " 1600: '_',\n",
       " 1601: 'f',\n",
       " 1602: 'q',\n",
       " 1603: 'k',\n",
       " 1604: 'l',\n",
       " 1605: 'm',\n",
       " 1606: 'n',\n",
       " 1607: 'h',\n",
       " 1608: 'w',\n",
       " 1609: 'Y',\n",
       " 1610: 'y',\n",
       " 1611: 'F',\n",
       " 1612: 'N',\n",
       " 1613: 'K',\n",
       " 1617: '~',\n",
       " 1618: 'o',\n",
       " 1615: 'u',\n",
       " 1614: 'a',\n",
       " 1616: 'i'}"
      ]
     },
     "execution_count": 18,
     "metadata": {},
     "output_type": "execute_result"
    }
   ],
   "source": [
    ">>> buckArab = {\"'\":\"ء\", \"|\":\"آ\", \"?\":\"أ\", \"&\":\"ؤ\", \"<\":\"إ\", \"}\":\"ئ\", \"A\":\"ا\", \"b\":\"ب\", \"p\":\"ة\", \"t\":\"ت\", \"v\":\"ث\", \"g\":\"ج\", \"H\":\"ح\", \"x\":\"خ\", \"d\":\"د\", \"*\":\"ذ\", \"r\":\"ر\", \"z\":\"ز\", \"s\":\"س\", \"$\":\"ش\", \"S\":\"ص\", \"D\":\"ض\", \"T\":\"ط\", \"Z\":\"ظ\", \"E\":\"ع\", \"G\":\"غ\", \"_\":\"ـ\", \"f\":\"ف\", \"q\":\"ق\", \"k\":\"ك\", \"l\":\"ل\", \"m\":\"م\", \"n\":\"ن\", \"h\":\"ه\", \"w\":\"و\", \"Y\":\"ى\", \"y\":\"ي\", \"F\":\"ً\", \"N\":\"ٌ\", \"K\":\"ٍ\", \"~\":\"ّ\", \"o\":\"ْ\", \"u\":\"ُ\", \"a\":\"َ\", \"i\":\"ِ\"}\n",
    ">>> ordbuckArab = {ord(v): k for (k, v) in buckArab.items()}\n",
    ">>> ordbuckArab"
   ]
  },
  {
   "cell_type": "code",
   "execution_count": 19,
   "metadata": {
    "ExecuteTime": {
     "end_time": "2019-11-21T10:13:57.534720Z",
     "start_time": "2019-11-21T10:13:57.527008Z"
    }
   },
   "outputs": [
    {
     "data": {
      "text/plain": [
       "'TEST'"
      ]
     },
     "execution_count": 19,
     "metadata": {},
     "output_type": "execute_result"
    }
   ],
   "source": [
    "u'طعصط'.translate(ordbuckArab)"
   ]
  },
  {
   "cell_type": "code",
   "execution_count": 21,
   "metadata": {
    "ExecuteTime": {
     "end_time": "2019-11-21T10:14:37.764326Z",
     "start_time": "2019-11-21T10:14:37.758239Z"
    }
   },
   "outputs": [
    {
     "name": "stdout",
     "output_type": "stream",
     "text": [
      "‫hw why‬\n",
      "‫AlEA}lp lyst SGyrp.‬\n"
     ]
    }
   ],
   "source": [
    "for s in sents:\n",
    "    print(s.translate(ordbuckArab))"
   ]
  }
 ],
 "metadata": {
  "kernelspec": {
   "display_name": "Python 3",
   "language": "python",
   "name": "python3"
  },
  "language_info": {
   "codemirror_mode": {
    "name": "ipython",
    "version": 3
   },
   "file_extension": ".py",
   "mimetype": "text/x-python",
   "name": "python",
   "nbconvert_exporter": "python",
   "pygments_lexer": "ipython3",
   "version": "3.6.4"
  },
  "varInspector": {
   "cols": {
    "lenName": 16,
    "lenType": 16,
    "lenVar": 40
   },
   "kernels_config": {
    "python": {
     "delete_cmd_postfix": "",
     "delete_cmd_prefix": "del ",
     "library": "var_list.py",
     "varRefreshCmd": "print(var_dic_list())"
    },
    "r": {
     "delete_cmd_postfix": ") ",
     "delete_cmd_prefix": "rm(",
     "library": "var_list.r",
     "varRefreshCmd": "cat(var_dic_list()) "
    }
   },
   "types_to_exclude": [
    "module",
    "function",
    "builtin_function_or_method",
    "instance",
    "_Feature"
   ],
   "window_display": false
  }
 },
 "nbformat": 4,
 "nbformat_minor": 2
}
