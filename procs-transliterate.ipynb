{
 "cells": [
  {
   "cell_type": "code",
   "execution_count": 7,
   "metadata": {
    "ExecuteTime": {
     "end_time": "2019-09-02T18:02:01.262965Z",
     "start_time": "2019-09-02T18:02:01.248226Z"
    }
   },
   "outputs": [
    {
     "data": {
      "text/plain": [
       "'son-mog-si-gye'"
      ]
     },
     "execution_count": 7,
     "metadata": {},
     "output_type": "execute_result"
    }
   ],
   "source": [
    "import kroman\n",
    "kroman.parse('손목시계')"
   ]
  },
  {
   "cell_type": "code",
   "execution_count": 8,
   "metadata": {
    "ExecuteTime": {
     "end_time": "2019-09-02T18:11:14.495445Z",
     "start_time": "2019-09-02T18:11:14.484751Z"
    }
   },
   "outputs": [
    {
     "data": {
      "text/plain": [
       "'i-geon nae sam-con-i-ya'"
      ]
     },
     "execution_count": 8,
     "metadata": {},
     "output_type": "execute_result"
    }
   ],
   "source": [
    "kroman.parse('이건 내 삼촌이야')"
   ]
  },
  {
   "cell_type": "code",
   "execution_count": 9,
   "metadata": {
    "ExecuteTime": {
     "end_time": "2019-09-02T18:28:13.003078Z",
     "start_time": "2019-09-02T18:28:12.990239Z"
    }
   },
   "outputs": [
    {
     "data": {
      "text/plain": [
       "'i sang-ja-reur yeor-eo-do doer-gga-yo?'"
      ]
     },
     "execution_count": 9,
     "metadata": {},
     "output_type": "execute_result"
    }
   ],
   "source": [
    "kroman.parse('이 상자를 열어도 될까요?')"
   ]
  },
  {
   "cell_type": "code",
   "execution_count": 11,
   "metadata": {
    "ExecuteTime": {
     "end_time": "2019-09-02T19:23:52.675947Z",
     "start_time": "2019-09-02T19:23:52.660368Z"
    }
   },
   "outputs": [
    {
     "data": {
      "text/plain": [
       "'dang-sin-eun na-eui ga-jang cin-han cin-gu-ib-ni-da.'"
      ]
     },
     "execution_count": 11,
     "metadata": {},
     "output_type": "execute_result"
    }
   ],
   "source": [
    "# you are my best friend.\n",
    "kroman.parse('당신은 나의 가장 친한 친구입니다.')"
   ]
  },
  {
   "cell_type": "code",
   "execution_count": 12,
   "metadata": {
    "ExecuteTime": {
     "end_time": "2019-09-02T20:05:57.390574Z",
     "start_time": "2019-09-02T20:05:57.380928Z"
    }
   },
   "outputs": [
    {
     "data": {
      "text/plain": [
       "'nae cin-gu-deur-eun meong-ceong-ha-da.'"
      ]
     },
     "execution_count": 12,
     "metadata": {},
     "output_type": "execute_result"
    }
   ],
   "source": [
    "kroman.parse('내 친구들은 멍청하다.')"
   ]
  },
  {
   "cell_type": "code",
   "execution_count": 3,
   "metadata": {
    "ExecuteTime": {
     "end_time": "2019-09-02T10:25:13.508548Z",
     "start_time": "2019-09-02T10:25:13.492745Z"
    }
   },
   "outputs": [
    {
     "data": {
      "text/plain": [
       "dict_keys(['sr', 'me', 'mk', 'ru'])"
      ]
     },
     "execution_count": 3,
     "metadata": {},
     "output_type": "execute_result"
    }
   ],
   "source": [
    ">>> import cyrtranslit\n",
    ">>> cyrtranslit.supported()"
   ]
  },
  {
   "cell_type": "code",
   "execution_count": 6,
   "metadata": {
    "ExecuteTime": {
     "end_time": "2019-09-02T10:26:04.785925Z",
     "start_time": "2019-09-02T10:26:04.769170Z"
    }
   },
   "outputs": [
    {
     "data": {
      "text/plain": [
       "'Moj hoverkraft je pun jegulja'"
      ]
     },
     "execution_count": 6,
     "metadata": {},
     "output_type": "execute_result"
    }
   ],
   "source": [
    "# Serbian\n",
    "import cyrtranslit\n",
    "cyrtranslit.to_latin('Мој ховеркрафт је пун јегуља')"
   ]
  },
  {
   "cell_type": "code",
   "execution_count": 5,
   "metadata": {
    "ExecuteTime": {
     "end_time": "2019-09-02T10:25:40.279865Z",
     "start_time": "2019-09-02T10:25:40.269076Z"
    }
   },
   "outputs": [
    {
     "data": {
      "text/plain": [
       "'Мој ховеркрафт је пун јегуља'"
      ]
     },
     "execution_count": 5,
     "metadata": {},
     "output_type": "execute_result"
    }
   ],
   "source": [
    "cyrtranslit.to_cyrillic('Moj hoverkraft je pun jegulja')"
   ]
  },
  {
   "cell_type": "code",
   "execution_count": 14,
   "metadata": {
    "ExecuteTime": {
     "end_time": "2019-09-02T20:19:44.979575Z",
     "start_time": "2019-09-02T20:19:44.965368Z"
    }
   },
   "outputs": [
    {
     "data": {
      "text/plain": [
       "'dobroe utro'"
      ]
     },
     "execution_count": 14,
     "metadata": {},
     "output_type": "execute_result"
    }
   ],
   "source": [
    "cyrtranslit.to_latin('доброе утро', 'ru')"
   ]
  }
 ],
 "metadata": {
  "kernelspec": {
   "display_name": "Python 3",
   "language": "python",
   "name": "python3"
  },
  "language_info": {
   "codemirror_mode": {
    "name": "ipython",
    "version": 3
   },
   "file_extension": ".py",
   "mimetype": "text/x-python",
   "name": "python",
   "nbconvert_exporter": "python",
   "pygments_lexer": "ipython3",
   "version": "3.6.4"
  },
  "varInspector": {
   "cols": {
    "lenName": 16,
    "lenType": 16,
    "lenVar": 40
   },
   "kernels_config": {
    "python": {
     "delete_cmd_postfix": "",
     "delete_cmd_prefix": "del ",
     "library": "var_list.py",
     "varRefreshCmd": "print(var_dic_list())"
    },
    "r": {
     "delete_cmd_postfix": ") ",
     "delete_cmd_prefix": "rm(",
     "library": "var_list.r",
     "varRefreshCmd": "cat(var_dic_list()) "
    }
   },
   "types_to_exclude": [
    "module",
    "function",
    "builtin_function_or_method",
    "instance",
    "_Feature"
   ],
   "window_display": false
  }
 },
 "nbformat": 4,
 "nbformat_minor": 2
}
