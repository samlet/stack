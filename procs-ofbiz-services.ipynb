{
 "cells": [
  {
   "cell_type": "code",
   "execution_count": 1,
   "metadata": {
    "ExecuteTime": {
     "end_time": "2019-02-13T11:33:13.481475Z",
     "start_time": "2019-02-13T11:33:12.715707Z"
    }
   },
   "outputs": [
    {
     "name": "stdout",
     "output_type": "stream",
     "text": [
      "✔ testScv default 21 2019-02-13 19:33:13.459 ➷ 3 ms\n",
      "True {'responseMessage': 'success', 'resp': 'service done'}\n"
     ]
    }
   ],
   "source": [
    "from sagas.ofbiz.services import OfService as s, oc, track\n",
    "from sagas.ofbiz.entities import OfEntity as e\n",
    "ok, r=track(lambda a: s().testScv(defaultValue=5.5, message=\"hello world\"))\n",
    "print(ok, r) "
   ]
  },
  {
   "cell_type": "code",
   "execution_count": 14,
   "metadata": {
    "ExecuteTime": {
     "end_time": "2019-02-18T09:38:33.568800Z",
     "start_time": "2019-02-18T09:38:33.494319Z"
    }
   },
   "outputs": [
    {
     "name": "stdout",
     "output_type": "stream",
     "text": [
      "3551\n"
     ]
    }
   ],
   "source": [
    "services=oc.all_service_names()\n",
    "print(len(services))"
   ]
  },
  {
   "cell_type": "code",
   "execution_count": 10,
   "metadata": {
    "ExecuteTime": {
     "end_time": "2019-02-17T19:46:46.099671Z",
     "start_time": "2019-02-17T19:46:46.092656Z"
    }
   },
   "outputs": [
    {
     "data": {
      "text/plain": [
       "'product_services_price'"
      ]
     },
     "execution_count": 10,
     "metadata": {},
     "output_type": "execute_result"
    }
   ],
   "source": [
    "def norm_loc(loc):\n",
    "    pkg_prefix='ofbiz-framework/applications'\n",
    "    idx=loc.find(pkg_prefix)\n",
    "    return loc[idx+len(pkg_prefix)+1:].replace('servicedef/','').replace('.xml','').replace('/','_')\n",
    "\n",
    "loc='file:/Users/xiaofeiwu/jcloud/vagrant/fedora/fedora-28/ofbiz/ofbiz-framework/applications/product/servicedef/services_price.xml'\n",
    "norm_loc(loc)"
   ]
  },
  {
   "cell_type": "code",
   "execution_count": 13,
   "metadata": {
    "ExecuteTime": {
     "end_time": "2019-02-17T19:54:39.416230Z",
     "start_time": "2019-02-17T19:54:39.078151Z"
    }
   },
   "outputs": [
    {
     "name": "stdout",
     "output_type": "stream",
     "text": [
      "➴ calculateProductPrice product_services_pricepromo\n",
      "➴ createProductPrice product_services\n",
      "➴ createProductPriceAction product_services_pricepromo\n"
     ]
    }
   ],
   "source": [
    "from sagas.ofbiz.services import OfService as s, oc, track\n",
    "from py4j.java_gateway import get_field\n",
    "\n",
    "def search_service(name_filter):\n",
    "    name_filter=name_filter.lower()\n",
    "    services=oc.all_service_names()\n",
    "    result=[]\n",
    "    for name in services:\n",
    "        if name_filter in name.lower():\n",
    "            result.append(name)\n",
    "    return result\n",
    "\n",
    "srvs=search_service('productprice')[:3]\n",
    "for srv in srvs:\n",
    "    serv_model=oc.service_model(srv)\n",
    "    def_loc=get_field(serv_model, 'definitionLocation')\n",
    "    ns=get_field(serv_model, 'nameSpace')\n",
    "    loc=get_field(serv_model, 'location') \n",
    "    \n",
    "    print(\"➴\", srv, norm_loc(def_loc))"
   ]
  },
  {
   "cell_type": "code",
   "execution_count": null,
   "metadata": {},
   "outputs": [],
   "source": []
  },
  {
   "cell_type": "code",
   "execution_count": 9,
   "metadata": {
    "ExecuteTime": {
     "end_time": "2019-02-12T09:09:18.585236Z",
     "start_time": "2019-02-12T09:08:57.938631Z"
    }
   },
   "outputs": [
    {
     "name": "stdout",
     "output_type": "stream",
     "text": [
      "{'org.apache.ofbiz.shipment.verify.VerifyPickSession', 'java.io.File', 'Timestamp', 'javax.servlet.http.HttpServletRequest', 'Integer', 'byte[]', 'Set', 'java.util.Collection', 'java.lang.Integer', 'java.io.Writer', 'org.apache.ofbiz.webapp.event.FileUploadProgressListener', 'Map', 'java.util.List', 'List', 'java.nio.ByteBuffer', 'java.sql.Date', 'org.apache.ofbiz.entity.GenericValue', 'java.util.ListIterator', 'java.io.OutputStream', 'org.apache.ofbiz.shipment.weightPackage.WeightPackageSession', 'GenericPK', 'String', 'Boolean', 'javax.servlet.http.HttpServletResponse', 'java.io.InputStream', 'Object', 'Long', 'java.math.BigDecimal', 'java.sql.Time', 'org.apache.ofbiz.entity.condition.EntityConditionList', 'GenericEntity', 'java.lang.Boolean', 'org.apache.ofbiz.order.shoppingcart.ShoppingCart', 'java.util.Map', 'org.apache.ofbiz.service.mail.MimeMessageWrapper', 'org.apache.ofbiz.product.config.ProductConfigWrapper', 'org.apache.ofbiz.shipment.packing.PackingSession', 'java.sql.Timestamp', 'junit.framework.Test', 'java.awt.image.BufferedImage', 'java.net.URL', 'org.apache.ofbiz.order.shoppingcart.product.ProductPromoWorker$ActionResultInfo', 'java.lang.String', 'java.util.Locale', 'junit.framework.TestResult', 'GenericValue', 'BigDecimal', 'org.apache.ofbiz.entity.condition.EntityCondition', 'Double'}\n"
     ]
    }
   ],
   "source": [
    "from py4j.java_gateway import get_field\n",
    "\n",
    "services=oc.all_service_names()\n",
    "out_types=set()\n",
    "for name in services:\n",
    "    serv_model=oc.service_model(name)\n",
    "    params=serv_model.getModelParamList()\n",
    "    for param in params:\n",
    "        internal = get_field(param, \"internal\")\n",
    "        if internal:\n",
    "            pass\n",
    "        elif get_field(param, 'mode')!='OUT':\n",
    "            param_type=get_field(param, 'type')\n",
    "            out_types.add(param_type)\n",
    "\n",
    "print(out_types)            "
   ]
  },
  {
   "cell_type": "code",
   "execution_count": 10,
   "metadata": {
    "ExecuteTime": {
     "end_time": "2019-02-12T09:09:23.600869Z",
     "start_time": "2019-02-12T09:09:23.582956Z"
    }
   },
   "outputs": [
    {
     "name": "stdout",
     "output_type": "stream",
     "text": [
      "49\n",
      "22\n",
      "org.apache.ofbiz.shipment.verify.VerifyPickSession\n",
      "java.io.File\n",
      "javax.servlet.http.HttpServletRequest\n",
      "Set\n",
      "java.util.Collection\n",
      "java.io.Writer\n",
      "org.apache.ofbiz.webapp.event.FileUploadProgressListener\n",
      "Map\n",
      "java.util.List\n",
      "List\n",
      "java.nio.ByteBuffer\n",
      "java.util.ListIterator\n",
      "java.io.OutputStream\n",
      "org.apache.ofbiz.shipment.weightPackage.WeightPackageSession\n",
      "javax.servlet.http.HttpServletResponse\n",
      "java.io.InputStream\n",
      "Object\n",
      "org.apache.ofbiz.entity.condition.EntityConditionList\n",
      "org.apache.ofbiz.order.shoppingcart.ShoppingCart\n",
      "java.util.Map\n",
      "org.apache.ofbiz.service.mail.MimeMessageWrapper\n",
      "org.apache.ofbiz.product.config.ProductConfigWrapper\n",
      "org.apache.ofbiz.shipment.packing.PackingSession\n",
      "junit.framework.Test\n",
      "java.awt.image.BufferedImage\n",
      "org.apache.ofbiz.order.shoppingcart.product.ProductPromoWorker$ActionResultInfo\n",
      "junit.framework.TestResult\n",
      "org.apache.ofbiz.entity.condition.EntityCondition\n"
     ]
    }
   ],
   "source": [
    "known_out_types={'String', 'java.sql.Date', 'java.lang.String',\n",
    "                 'java.sql.Time', 'java.sql.Timestamp',\n",
    "                 'Integer', 'Boolean','java.lang.Boolean',\n",
    "                 'java.util.TimeZone','GenericPK',\n",
    "                 'Timestamp',\n",
    "                 # 'java.nio.ByteBuffer',\n",
    "                 'java.math.BigDecimal', 'byte[]',\n",
    "                 'java.lang.Integer', 'GenericEntity',\n",
    "                 'GenericValue', 'java.util.Locale',\n",
    "                 'java.net.URL','BigDecimal','Double','Long',\n",
    "                 'org.apache.ofbiz.entity.GenericValue'}\n",
    "print(len(out_types))\n",
    "print(len(known_out_types))\n",
    "for ot in out_types:\n",
    "    if ot not in known_out_types:\n",
    "        print(ot)"
   ]
  },
  {
   "cell_type": "code",
   "execution_count": 7,
   "metadata": {
    "ExecuteTime": {
     "end_time": "2019-02-12T09:06:34.800533Z",
     "start_time": "2019-02-12T09:06:34.765136Z"
    }
   },
   "outputs": [
    {
     "name": "stdout",
     "output_type": "stream",
     "text": [
      "2010-12-10 http://localhost:8080\n",
      "{\"date\":1291910400000,\"time\":\"12:12:10\",\"url\":\"http://localhost:8080\",\"timestamp\":1549962394781}\n"
     ]
    }
   ],
   "source": [
    "from sagas.ofbiz.services import OfService as s, oc, track\n",
    "from sagas.ofbiz.entities import OfEntity as e\n",
    "\n",
    "oc.import_package('java.sql.Date')\n",
    "oc.import_package('java.sql.Time')\n",
    "oc.import_package('java.net.URL')\n",
    "oc.import_package('org.apache.ofbiz.base.util.UtilDateTime')\n",
    "# timestamp = new Date().format 'yyyy-MM-dd HH:mm:ss'\n",
    "ctx=oc.jmap(date=oc.j.Date.valueOf('2010-12-10'),\n",
    "            time=oc.j.Time.valueOf('12:12:10'),\n",
    "            timestamp=oc.j.UtilDateTime.nowTimestamp(),\n",
    "           url=oc.j.URL(\"http://localhost:8080\"))\n",
    "print(ctx['date'], ctx['url'])\n",
    "print(oc.j.ValueHelper.mapToJson(ctx))"
   ]
  },
  {
   "cell_type": "code",
   "execution_count": 14,
   "metadata": {
    "ExecuteTime": {
     "end_time": "2019-02-12T09:12:41.252700Z",
     "start_time": "2019-02-12T09:12:41.208940Z"
    }
   },
   "outputs": [
    {
     "data": {
      "text/plain": [
       "True"
      ]
     },
     "execution_count": 14,
     "metadata": {},
     "output_type": "execute_result"
    }
   ],
   "source": [
    "def is_regular_service(name):\n",
    "    serv_model=oc.service_model(name)\n",
    "    params=serv_model.getModelParamList()\n",
    "    is_regular=True\n",
    "    for param in params:\n",
    "        internal = get_field(param, \"internal\")\n",
    "        p_name = get_field(param, \"name\")\n",
    "        # print(p_name, internal)\n",
    "        if internal:\n",
    "            pass\n",
    "        elif get_field(param, 'mode')!='OUT':\n",
    "            param_type=get_field(param, 'type')\n",
    "            if param_type=='java.nio.ByteBuffer':\n",
    "                print(\"service {} parameter {}'s type is ByteBuffer\"\n",
    "                     .format(name, p_name))      \n",
    "                is_regular=False\n",
    "                break\n",
    "            elif param_type not in known_out_types:\n",
    "                is_regular=False\n",
    "                break\n",
    "    return is_regular\n",
    "\n",
    "def get_all_regular_services():\n",
    "    services=oc.all_service_names()\n",
    "    regular_services=[]\n",
    "    for name in services:    \n",
    "        if is_regular_service(name):\n",
    "            regular_services.append(name)\n",
    "    return regular_services\n",
    "\n",
    "is_regular_service('deleteProductPrice')"
   ]
  },
  {
   "cell_type": "code",
   "execution_count": 15,
   "metadata": {
    "ExecuteTime": {
     "end_time": "2019-02-12T09:13:07.097616Z",
     "start_time": "2019-02-12T09:12:44.271746Z"
    }
   },
   "outputs": [
    {
     "name": "stdout",
     "output_type": "stream",
     "text": [
      "service addAdditionalViewForProduct parameter uploadedFile's type is ByteBuffer\n",
      "service addImageForProductPromo parameter uploadedFile's type is ByteBuffer\n",
      "service addMultipleuploadForProduct parameter uploadedFile's type is ByteBuffer\n",
      "service attachUploadToDataResource parameter uploadedFile's type is ByteBuffer\n",
      "service buildSurveyFromPdf parameter inputByteBuffer's type is ByteBuffer\n",
      "service buildSurveyResponseFromPdf parameter inputByteBuffer's type is ByteBuffer\n",
      "service byteBufferTest parameter byteBuffer1's type is ByteBuffer\n",
      "service byteBufferTest parameter byteBuffer2's type is ByteBuffer\n",
      "service createAnonFile parameter binData's type is ByteBuffer\n",
      "service createBlogEntry parameter uploadedFile's type is ByteBuffer\n",
      "service createBulkProductPromoCode parameter uploadedFile's type is ByteBuffer\n",
      "service createBulkProductPromoCodeEmail parameter uploadedFile's type is ByteBuffer\n",
      "service createCatalinaSession parameter sessionInfo's type is ByteBuffer\n",
      "service createContentFromDataResource parameter uploadedFile's type is ByteBuffer\n",
      "service createDownloadContentForCategory parameter imageData's type is ByteBuffer\n",
      "service createDownloadContentForProduct parameter imageData's type is ByteBuffer\n",
      "service createFile parameter binData's type is ByteBuffer\n",
      "service createImage parameter imageData's type is ByteBuffer\n",
      "service deleteCatalinaSession parameter sessionInfo's type is ByteBuffer\n",
      "service getAcroFieldsFromPdf parameter inputByteBuffer's type is ByteBuffer\n",
      "service importAddressMatchMapCsv parameter uploadedFile's type is ByteBuffer\n",
      "service importInvoice parameter uploadedFile's type is ByteBuffer\n",
      "service importParty parameter uploadedFile's type is ByteBuffer\n",
      "service importVCard parameter infile's type is ByteBuffer\n",
      "service multipleUploadProductImages parameter additionalImageOne's type is ByteBuffer\n",
      "service multipleUploadProductImages parameter additionalImageTwo's type is ByteBuffer\n",
      "service multipleUploadProductImages parameter additionalImageThree's type is ByteBuffer\n",
      "service multipleUploadProductImages parameter additionalImageFour's type is ByteBuffer\n",
      "service multipleUploadProductImages parameter additionalImageFive's type is ByteBuffer\n",
      "service multipleUploadProductImages parameter additionalImageSix's type is ByteBuffer\n",
      "service multipleUploadProductImages parameter additionalImageSeven's type is ByteBuffer\n",
      "service multipleUploadProductImages parameter additionalImageEight's type is ByteBuffer\n",
      "service multipleUploadProductImages parameter additionalImageNine's type is ByteBuffer\n",
      "service multipleUploadProductImages parameter additionalImageTen's type is ByteBuffer\n",
      "service setAcroFields parameter inputByteBuffer's type is ByteBuffer\n",
      "service setAcroFieldsFromSurveyResponse parameter inputByteBuffer's type is ByteBuffer\n",
      "service updateBlogEntry parameter uploadedFile's type is ByteBuffer\n",
      "service updateCatalinaSession parameter sessionInfo's type is ByteBuffer\n",
      "service updateContentAndUploadedFile parameter uploadedFile's type is ByteBuffer\n",
      "service updateDownloadContentForCategory parameter imageData's type is ByteBuffer\n",
      "service updateFile parameter binData's type is ByteBuffer\n",
      "service updateImage parameter imageData's type is ByteBuffer\n",
      "service uploadContentTest parameter uploadFile's type is ByteBuffer\n",
      "service uploadFileInterface parameter uploadedFile's type is ByteBuffer\n",
      "service uploadFrame parameter uploadedFile's type is ByteBuffer\n",
      "service uploadProductAdditionalViewImages parameter additionalImageOne's type is ByteBuffer\n",
      "service uploadProductAdditionalViewImages parameter additionalImageTwo's type is ByteBuffer\n",
      "service uploadProductAdditionalViewImages parameter additionalImageThree's type is ByteBuffer\n",
      "service uploadProductAdditionalViewImages parameter additionalImageFour's type is ByteBuffer\n",
      "3214\n"
     ]
    }
   ],
   "source": [
    "regular_services=get_all_regular_services()\n",
    "print(len(regular_services))"
   ]
  },
  {
   "cell_type": "code",
   "execution_count": 13,
   "metadata": {
    "ExecuteTime": {
     "end_time": "2019-02-12T09:10:24.129413Z",
     "start_time": "2019-02-12T09:10:24.122611Z"
    }
   },
   "outputs": [
    {
     "name": "stdout",
     "output_type": "stream",
     "text": [
      "3551\n"
     ]
    }
   ],
   "source": [
    "print(len(oc.all_service_names()))"
   ]
  },
  {
   "cell_type": "code",
   "execution_count": 1,
   "metadata": {
    "ExecuteTime": {
     "end_time": "2019-02-12T14:00:46.101184Z",
     "start_time": "2019-02-12T14:00:45.340384Z"
    },
    "scrolled": true
   },
   "outputs": [
    {
     "data": {
      "text/plain": [
       "['calcBillingAccountBalance',\n",
       " 'captureBillingAccountPayment',\n",
       " 'captureBillingAccountPayments',\n",
       " 'createBillingAccount',\n",
       " 'createBillingAccountAndRole',\n",
       " 'createBillingAccountRole',\n",
       " 'createBillingAccountTerm',\n",
       " 'createBillingAccountTermAttr',\n",
       " 'deleteBillingAccountTermAttr',\n",
       " 'refundBillingAccountPayment',\n",
       " 'removeBillingAccountRole',\n",
       " 'removeBillingAccountTerm',\n",
       " 'updateBillingAccount',\n",
       " 'updateBillingAccountRole',\n",
       " 'updateBillingAccountTerm',\n",
       " 'updateBillingAccountTermAttr']"
      ]
     },
     "execution_count": 1,
     "metadata": {},
     "output_type": "execute_result"
    }
   ],
   "source": [
    "from sagas.ofbiz.services import OfService as s, search_service\n",
    "search_service('billingAccount')"
   ]
  },
  {
   "cell_type": "code",
   "execution_count": 3,
   "metadata": {
    "ExecuteTime": {
     "end_time": "2019-02-12T14:01:02.387514Z",
     "start_time": "2019-02-12T14:01:02.296545Z"
    }
   },
   "outputs": [
    {
     "data": {
      "text/html": [
       "<div>\n",
       "<style scoped>\n",
       "    .dataframe tbody tr th:only-of-type {\n",
       "        vertical-align: middle;\n",
       "    }\n",
       "\n",
       "    .dataframe tbody tr th {\n",
       "        vertical-align: top;\n",
       "    }\n",
       "\n",
       "    .dataframe thead th {\n",
       "        text-align: right;\n",
       "    }\n",
       "</style>\n",
       "<table border=\"1\" class=\"dataframe\">\n",
       "  <thead>\n",
       "    <tr style=\"text-align: right;\">\n",
       "      <th></th>\n",
       "      <th>description</th>\n",
       "      <th>entity name</th>\n",
       "      <th>internal</th>\n",
       "      <th>mode</th>\n",
       "      <th>name</th>\n",
       "      <th>override optional</th>\n",
       "      <th>required</th>\n",
       "      <th>type</th>\n",
       "      <th>parameter mode</th>\n",
       "    </tr>\n",
       "  </thead>\n",
       "  <tbody>\n",
       "    <tr>\n",
       "      <th>0</th>\n",
       "      <td>None</td>\n",
       "      <td>BillingAccount</td>\n",
       "      <td></td>\n",
       "      <td>OUT</td>\n",
       "      <td>billingAccountId</td>\n",
       "      <td>*</td>\n",
       "      <td>*</td>\n",
       "      <td>String</td>\n",
       "      <td>OUT</td>\n",
       "    </tr>\n",
       "    <tr>\n",
       "      <th>1</th>\n",
       "      <td>None</td>\n",
       "      <td>BillingAccount</td>\n",
       "      <td></td>\n",
       "      <td>IN</td>\n",
       "      <td>accountLimit</td>\n",
       "      <td>*</td>\n",
       "      <td></td>\n",
       "      <td>java.math.BigDecimal</td>\n",
       "      <td>IN</td>\n",
       "    </tr>\n",
       "    <tr>\n",
       "      <th>2</th>\n",
       "      <td>None</td>\n",
       "      <td>BillingAccount</td>\n",
       "      <td></td>\n",
       "      <td>IN</td>\n",
       "      <td>accountCurrencyUomId</td>\n",
       "      <td>*</td>\n",
       "      <td></td>\n",
       "      <td>String</td>\n",
       "      <td>IN</td>\n",
       "    </tr>\n",
       "    <tr>\n",
       "      <th>3</th>\n",
       "      <td>None</td>\n",
       "      <td>BillingAccount</td>\n",
       "      <td></td>\n",
       "      <td>IN</td>\n",
       "      <td>contactMechId</td>\n",
       "      <td>*</td>\n",
       "      <td></td>\n",
       "      <td>String</td>\n",
       "      <td>IN</td>\n",
       "    </tr>\n",
       "    <tr>\n",
       "      <th>4</th>\n",
       "      <td>None</td>\n",
       "      <td>BillingAccount</td>\n",
       "      <td></td>\n",
       "      <td>IN</td>\n",
       "      <td>fromDate</td>\n",
       "      <td>*</td>\n",
       "      <td></td>\n",
       "      <td>java.sql.Timestamp</td>\n",
       "      <td>IN</td>\n",
       "    </tr>\n",
       "    <tr>\n",
       "      <th>5</th>\n",
       "      <td>None</td>\n",
       "      <td>BillingAccount</td>\n",
       "      <td></td>\n",
       "      <td>IN</td>\n",
       "      <td>thruDate</td>\n",
       "      <td>*</td>\n",
       "      <td></td>\n",
       "      <td>java.sql.Timestamp</td>\n",
       "      <td>IN</td>\n",
       "    </tr>\n",
       "    <tr>\n",
       "      <th>6</th>\n",
       "      <td>None</td>\n",
       "      <td>BillingAccount</td>\n",
       "      <td></td>\n",
       "      <td>IN</td>\n",
       "      <td>description</td>\n",
       "      <td>*</td>\n",
       "      <td></td>\n",
       "      <td>String</td>\n",
       "      <td>IN</td>\n",
       "    </tr>\n",
       "    <tr>\n",
       "      <th>7</th>\n",
       "      <td>None</td>\n",
       "      <td>BillingAccount</td>\n",
       "      <td></td>\n",
       "      <td>IN</td>\n",
       "      <td>externalAccountId</td>\n",
       "      <td>*</td>\n",
       "      <td></td>\n",
       "      <td>String</td>\n",
       "      <td>IN</td>\n",
       "    </tr>\n",
       "  </tbody>\n",
       "</table>\n",
       "</div>"
      ],
      "text/plain": [
       "  description     entity name internal mode                  name  \\\n",
       "0        None  BillingAccount           OUT      billingAccountId   \n",
       "1        None  BillingAccount            IN          accountLimit   \n",
       "2        None  BillingAccount            IN  accountCurrencyUomId   \n",
       "3        None  BillingAccount            IN         contactMechId   \n",
       "4        None  BillingAccount            IN              fromDate   \n",
       "5        None  BillingAccount            IN              thruDate   \n",
       "6        None  BillingAccount            IN           description   \n",
       "7        None  BillingAccount            IN     externalAccountId   \n",
       "\n",
       "  override optional required                  type parameter mode  \n",
       "0                 *        *                String            OUT  \n",
       "1                 *           java.math.BigDecimal             IN  \n",
       "2                 *                         String             IN  \n",
       "3                 *                         String             IN  \n",
       "4                 *             java.sql.Timestamp             IN  \n",
       "5                 *             java.sql.Timestamp             IN  \n",
       "6                 *                         String             IN  \n",
       "7                 *                         String             IN  "
      ]
     },
     "execution_count": 3,
     "metadata": {},
     "output_type": "execute_result"
    }
   ],
   "source": [
    "s('meta', False).createBillingAccount"
   ]
  }
 ],
 "metadata": {
  "kernelspec": {
   "display_name": "Python 3",
   "language": "python",
   "name": "python3"
  },
  "language_info": {
   "codemirror_mode": {
    "name": "ipython",
    "version": 3
   },
   "file_extension": ".py",
   "mimetype": "text/x-python",
   "name": "python",
   "nbconvert_exporter": "python",
   "pygments_lexer": "ipython3",
   "version": "3.6.4"
  },
  "varInspector": {
   "cols": {
    "lenName": 16,
    "lenType": 16,
    "lenVar": 40
   },
   "kernels_config": {
    "python": {
     "delete_cmd_postfix": "",
     "delete_cmd_prefix": "del ",
     "library": "var_list.py",
     "varRefreshCmd": "print(var_dic_list())"
    },
    "r": {
     "delete_cmd_postfix": ") ",
     "delete_cmd_prefix": "rm(",
     "library": "var_list.r",
     "varRefreshCmd": "cat(var_dic_list()) "
    }
   },
   "types_to_exclude": [
    "module",
    "function",
    "builtin_function_or_method",
    "instance",
    "_Feature"
   ],
   "window_display": false
  }
 },
 "nbformat": 4,
 "nbformat_minor": 2
}
