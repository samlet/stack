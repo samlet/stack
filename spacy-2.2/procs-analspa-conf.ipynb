{
 "cells": [
  {
   "cell_type": "code",
   "execution_count": 14,
   "metadata": {
    "ExecuteTime": {
     "end_time": "2020-04-22T13:38:46.322733Z",
     "start_time": "2020-04-22T13:38:46.247733Z"
    }
   },
   "outputs": [
    {
     "name": "stdout",
     "output_type": "stream",
     "text": [
      "{'typ': {'ContactMechPurposeType.description.FAX_NUMBER': ['主FAX番号'],\n",
      "         'RoleType.description.EMAIL_ADMIN': ['Eメール管理者']}}\n"
     ]
    },
    {
     "data": {
      "text/plain": [
       "dict_keys(['RoleType.description.EMAIL_ADMIN', 'ContactMechPurposeType.description.FAX_NUMBER'])"
      ]
     },
     "execution_count": 14,
     "metadata": {},
     "output_type": "execute_result"
    }
   ],
   "source": [
    "from sagas.conf import resource_path\n",
    "import json_utils\n",
    "from pprint import pprint\n",
    "lang='ja'\n",
    "file=resource_path(f'analspa_{lang}.json')\n",
    "root=json_utils.read_json_file(file)\n",
    "pprint(root)\n",
    "typ_list=root['typ']\n",
    "typ_list.keys()"
   ]
  },
  {
   "cell_type": "code",
   "execution_count": 1,
   "metadata": {
    "ExecuteTime": {
     "end_time": "2020-04-22T13:27:27.724794Z",
     "start_time": "2020-04-22T13:27:27.705401Z"
    }
   },
   "outputs": [
    {
     "data": {
      "text/plain": [
       "dict_keys(['RoleType.description.EMAIL_ADMIN', 'ContactMechPurposeType.description.FAX_NUMBER'])"
      ]
     },
     "execution_count": 1,
     "metadata": {},
     "output_type": "execute_result"
    }
   ],
   "source": [
    "root={\n",
    "    \"typ\": {\n",
    "        \"RoleType.description.EMAIL_ADMIN\": [\"Eメール管理者\"],\n",
    "        \"ContactMechPurposeType.description.FAX_NUMBER\": [\"主FAX番号\"],\n",
    "    }\n",
    "}\n",
    "typ_list=root['typ']\n",
    "typ_list.keys()"
   ]
  },
  {
   "cell_type": "code",
   "execution_count": 12,
   "metadata": {
    "ExecuteTime": {
     "end_time": "2020-04-22T13:32:12.744668Z",
     "start_time": "2020-04-22T13:32:12.528593Z"
    }
   },
   "outputs": [
    {
     "name": "stdout",
     "output_type": "stream",
     "text": [
      "[('主FAX番号', {'term': 'typ||ContactMechPurposeType.description.FAX_NUMBER', 'value': '主FAX番号'}), ('は', {}), ('ある', {}), ('ます', {}), ('か', {})]\n"
     ]
    },
    {
     "data": {
      "text/html": [
       "<span class=\"tex2jax_ignore\"><svg xmlns=\"http://www.w3.org/2000/svg\" xmlns:xlink=\"http://www.w3.org/1999/xlink\" xml:lang=\"ja\" id=\"c0dd440544884efe83a3bf2b88046e24-0\" class=\"displacy\" width=\"925\" height=\"312.0\" direction=\"ltr\" style=\"max-width: none; height: 312.0px; color: #000000; background: #ffffff; font-family: Arial; direction: ltr\">\n",
       "<text class=\"displacy-token\" fill=\"currentColor\" text-anchor=\"middle\" y=\"222.0\">\n",
       "    <tspan class=\"displacy-word\" fill=\"currentColor\" x=\"50\">主FAX番号</tspan>\n",
       "    <tspan class=\"displacy-tag\" dy=\"2em\" fill=\"currentColor\" x=\"50\">NOUN</tspan>\n",
       "</text>\n",
       "\n",
       "<text class=\"displacy-token\" fill=\"currentColor\" text-anchor=\"middle\" y=\"222.0\">\n",
       "    <tspan class=\"displacy-word\" fill=\"currentColor\" x=\"225\">は</tspan>\n",
       "    <tspan class=\"displacy-tag\" dy=\"2em\" fill=\"currentColor\" x=\"225\">ADP</tspan>\n",
       "</text>\n",
       "\n",
       "<text class=\"displacy-token\" fill=\"currentColor\" text-anchor=\"middle\" y=\"222.0\">\n",
       "    <tspan class=\"displacy-word\" fill=\"currentColor\" x=\"400\">あり</tspan>\n",
       "    <tspan class=\"displacy-tag\" dy=\"2em\" fill=\"currentColor\" x=\"400\">VERB</tspan>\n",
       "</text>\n",
       "\n",
       "<text class=\"displacy-token\" fill=\"currentColor\" text-anchor=\"middle\" y=\"222.0\">\n",
       "    <tspan class=\"displacy-word\" fill=\"currentColor\" x=\"575\">ます</tspan>\n",
       "    <tspan class=\"displacy-tag\" dy=\"2em\" fill=\"currentColor\" x=\"575\">AUX</tspan>\n",
       "</text>\n",
       "\n",
       "<text class=\"displacy-token\" fill=\"currentColor\" text-anchor=\"middle\" y=\"222.0\">\n",
       "    <tspan class=\"displacy-word\" fill=\"currentColor\" x=\"750\">か</tspan>\n",
       "    <tspan class=\"displacy-tag\" dy=\"2em\" fill=\"currentColor\" x=\"750\">PART</tspan>\n",
       "</text>\n",
       "\n",
       "<g class=\"displacy-arrow\">\n",
       "    <path class=\"displacy-arc\" id=\"arrow-c0dd440544884efe83a3bf2b88046e24-0-0\" stroke-width=\"2px\" d=\"M70,177.0 C70,2.0 400.0,2.0 400.0,177.0\" fill=\"none\" stroke=\"currentColor\"/>\n",
       "    <text dy=\"1.25em\" style=\"font-size: 0.8em; letter-spacing: 1px\">\n",
       "        <textPath xlink:href=\"#arrow-c0dd440544884efe83a3bf2b88046e24-0-0\" class=\"displacy-label\" startOffset=\"50%\" side=\"left\" fill=\"currentColor\" text-anchor=\"middle\">nsubj</textPath>\n",
       "    </text>\n",
       "    <path class=\"displacy-arrowhead\" d=\"M70,179.0 L62,167.0 78,167.0\" fill=\"currentColor\"/>\n",
       "</g>\n",
       "\n",
       "<g class=\"displacy-arrow\">\n",
       "    <path class=\"displacy-arc\" id=\"arrow-c0dd440544884efe83a3bf2b88046e24-0-1\" stroke-width=\"2px\" d=\"M70,177.0 C70,89.5 220.0,89.5 220.0,177.0\" fill=\"none\" stroke=\"currentColor\"/>\n",
       "    <text dy=\"1.25em\" style=\"font-size: 0.8em; letter-spacing: 1px\">\n",
       "        <textPath xlink:href=\"#arrow-c0dd440544884efe83a3bf2b88046e24-0-1\" class=\"displacy-label\" startOffset=\"50%\" side=\"left\" fill=\"currentColor\" text-anchor=\"middle\">case</textPath>\n",
       "    </text>\n",
       "    <path class=\"displacy-arrowhead\" d=\"M220.0,179.0 L228.0,167.0 212.0,167.0\" fill=\"currentColor\"/>\n",
       "</g>\n",
       "\n",
       "<g class=\"displacy-arrow\">\n",
       "    <path class=\"displacy-arc\" id=\"arrow-c0dd440544884efe83a3bf2b88046e24-0-2\" stroke-width=\"2px\" d=\"M420,177.0 C420,89.5 570.0,89.5 570.0,177.0\" fill=\"none\" stroke=\"currentColor\"/>\n",
       "    <text dy=\"1.25em\" style=\"font-size: 0.8em; letter-spacing: 1px\">\n",
       "        <textPath xlink:href=\"#arrow-c0dd440544884efe83a3bf2b88046e24-0-2\" class=\"displacy-label\" startOffset=\"50%\" side=\"left\" fill=\"currentColor\" text-anchor=\"middle\">aux</textPath>\n",
       "    </text>\n",
       "    <path class=\"displacy-arrowhead\" d=\"M570.0,179.0 L578.0,167.0 562.0,167.0\" fill=\"currentColor\"/>\n",
       "</g>\n",
       "\n",
       "<g class=\"displacy-arrow\">\n",
       "    <path class=\"displacy-arc\" id=\"arrow-c0dd440544884efe83a3bf2b88046e24-0-3\" stroke-width=\"2px\" d=\"M420,177.0 C420,2.0 750.0,2.0 750.0,177.0\" fill=\"none\" stroke=\"currentColor\"/>\n",
       "    <text dy=\"1.25em\" style=\"font-size: 0.8em; letter-spacing: 1px\">\n",
       "        <textPath xlink:href=\"#arrow-c0dd440544884efe83a3bf2b88046e24-0-3\" class=\"displacy-label\" startOffset=\"50%\" side=\"left\" fill=\"currentColor\" text-anchor=\"middle\">mark</textPath>\n",
       "    </text>\n",
       "    <path class=\"displacy-arrowhead\" d=\"M750.0,179.0 L758.0,167.0 742.0,167.0\" fill=\"currentColor\"/>\n",
       "</g>\n",
       "</svg></span>"
      ],
      "text/plain": [
       "<IPython.core.display.HTML object>"
      ]
     },
     "metadata": {},
     "output_type": "display_data"
    }
   ],
   "source": [
    "from sagas.nlu.analspa import analspa\n",
    "from sagas.nlu.anal_conf import AnalConf\n",
    "DEFAULT_ENT_ID_SEP = \"||\"\n",
    "# DEFAULT_ENT_ID_SEP = \"//\"\n",
    "\n",
    "spa=analspa('ja')\n",
    "for term_name, termls in root.items():\n",
    "    for key, values in termls.items():\n",
    "        label = \"{}{}{}\".format(term_name, DEFAULT_ENT_ID_SEP, key)\n",
    "        spa.add_pats(label, values)\n",
    "doc,terms=spa.parse('主FAX番号はありますか')\n",
    "print([(w.lemma_, w._.term) for w in doc])\n",
    "spa.vis(doc)"
   ]
  },
  {
   "cell_type": "code",
   "execution_count": 13,
   "metadata": {
    "ExecuteTime": {
     "end_time": "2020-04-22T13:32:39.530502Z",
     "start_time": "2020-04-22T13:32:39.523369Z"
    }
   },
   "outputs": [
    {
     "data": {
      "text/plain": [
       "('typ', 'ContactMechPurposeType.description.FAX_NUMBER')"
      ]
     },
     "execution_count": 13,
     "metadata": {},
     "output_type": "execute_result"
    }
   ],
   "source": [
    "AnalConf.split_label('typ||ContactMechPurposeType.description.FAX_NUMBER')"
   ]
  },
  {
   "cell_type": "code",
   "execution_count": 22,
   "metadata": {
    "ExecuteTime": {
     "end_time": "2020-04-22T13:52:04.533268Z",
     "start_time": "2020-04-22T13:52:03.125045Z"
    }
   },
   "outputs": [
    {
     "name": "stdout",
     "output_type": "stream",
     "text": [
      "it ☈\n",
      "{\"RoleType.description.EMAIL_ADMIN\": [\"Amministratore email\"]}\n",
      "zh-TW ☈\n",
      "{\"RoleType.description.EMAIL_ADMIN\": [\"電子郵件管理者\"]}\n",
      "ja ☈\n",
      "{\"RoleType.description.EMAIL_ADMIN\": [\"Eメール管理者\"]}\n",
      "pt-BR ☈\n",
      "{\"RoleType.description.EMAIL_ADMIN\": [\"Administrador de e-mail\"]}\n",
      "vi ☈\n",
      "{\"RoleType.description.EMAIL_ADMIN\": [\"Thư điện tử quản trị\"]}\n",
      "en ☈\n",
      "{\"RoleType.description.EMAIL_ADMIN\": [\"Email Administrator\"]}\n",
      "de ☈\n",
      "{\"RoleType.description.EMAIL_ADMIN\": [\"Email Administrator\"]}\n",
      "zh ☈\n",
      "{\"RoleType.description.EMAIL_ADMIN\": [\"电子邮件管理员\"]}\n",
      "hi-IN ☈\n",
      "{\"RoleType.description.EMAIL_ADMIN\": [\"ईमेल प्रशासक\"]}\n",
      "fr ☈\n",
      "{\"RoleType.description.EMAIL_ADMIN\": [\"Administrateur des emails\"]}\n"
     ]
    }
   ],
   "source": [
    "from sagas.ofbiz.resources import read_resource\n",
    "import json\n",
    "def key_string(word):\n",
    "    resource, rs_lookups=read_resource()\n",
    "    prop = resource.properties[word]\n",
    "    for key in prop.values.keys():\n",
    "        print(key, '☈')\n",
    "        row={word:[prop.values[key]]}\n",
    "        print(json.dumps(row, ensure_ascii=False))\n",
    "\n",
    "key_string('RoleType.description.EMAIL_ADMIN')"
   ]
  },
  {
   "cell_type": "code",
   "execution_count": 23,
   "metadata": {
    "ExecuteTime": {
     "end_time": "2020-04-22T13:52:58.382347Z",
     "start_time": "2020-04-22T13:52:56.811557Z"
    }
   },
   "outputs": [
    {
     "name": "stdout",
     "output_type": "stream",
     "text": [
      "en ☈\n",
      "{\"ContactMechPurposeType.description.FAX_NUMBER\": [\"Main Fax Number\"]}\n",
      "ro ☈\n",
      "{\"ContactMechPurposeType.description.FAX_NUMBER\": [\"Numar Fax Principal\"]}\n",
      "zh ☈\n",
      "{\"ContactMechPurposeType.description.FAX_NUMBER\": [\"主要传真号码\"]}\n",
      "es ☈\n",
      "{\"ContactMechPurposeType.description.FAX_NUMBER\": [\"Número de fax principal\"]}\n",
      "th ☈\n",
      "{\"ContactMechPurposeType.description.FAX_NUMBER\": [\"หมายเลขแฟกซ์หลัก\"]}\n",
      "hi-IN ☈\n",
      "{\"ContactMechPurposeType.description.FAX_NUMBER\": [\"मुख्य फैक्स नंबर\"]}\n",
      "ru ☈\n",
      "{\"ContactMechPurposeType.description.FAX_NUMBER\": [\"Основной номер факса\"]}\n",
      "fr ☈\n",
      "{\"ContactMechPurposeType.description.FAX_NUMBER\": [\"Numéro de télécopie principal\"]}\n",
      "nl ☈\n",
      "{\"ContactMechPurposeType.description.FAX_NUMBER\": [\"Faxnummer\"]}\n",
      "ja ☈\n",
      "{\"ContactMechPurposeType.description.FAX_NUMBER\": [\"主FAX番号\"]}\n",
      "pt-BR ☈\n",
      "{\"ContactMechPurposeType.description.FAX_NUMBER\": [\"Número de fax principal\"]}\n",
      "vi ☈\n",
      "{\"ContactMechPurposeType.description.FAX_NUMBER\": [\"Số fax chính\"]}\n",
      "de ☈\n",
      "{\"ContactMechPurposeType.description.FAX_NUMBER\": [\"Haupt-Faxnummer\"]}\n",
      "it ☈\n",
      "{\"ContactMechPurposeType.description.FAX_NUMBER\": [\"Numero Fax Principale\"]}\n",
      "cs ☈\n",
      "{\"ContactMechPurposeType.description.FAX_NUMBER\": [\"Hlavní faxové číslo\"]}\n",
      "zh-TW ☈\n",
      "{\"ContactMechPurposeType.description.FAX_NUMBER\": [\"主要傳真號碼\"]}\n"
     ]
    }
   ],
   "source": [
    "key_string(\"ContactMechPurposeType.description.FAX_NUMBER\")"
   ]
  },
  {
   "cell_type": "code",
   "execution_count": 15,
   "metadata": {
    "ExecuteTime": {
     "end_time": "2020-04-22T13:43:06.633438Z",
     "start_time": "2020-04-22T13:43:06.623332Z"
    }
   },
   "outputs": [
    {
     "data": {
      "text/plain": [
       "False"
      ]
     },
     "execution_count": 15,
     "metadata": {},
     "output_type": "execute_result"
    }
   ],
   "source": [
    "x='5'\n",
    "x==None"
   ]
  },
  {
   "cell_type": "code",
   "execution_count": 3,
   "metadata": {
    "ExecuteTime": {
     "end_time": "2020-04-22T15:26:17.919100Z",
     "start_time": "2020-04-22T15:26:17.833399Z"
    }
   },
   "outputs": [
    {
     "data": {
      "text/plain": [
       "{'lastUpdatedStamp': JavaObject id=o22, 'isPhysical': 'N', 'parentTypeId': 'GOOD', 'isDigital': 'Y', 'hasTable': 'N', 'createdTxStamp': JavaObject id=o23, 'createdStamp': JavaObject id=o24, 'description': 'Digital Good', 'lastUpdatedTxStamp': JavaObject id=o25, 'productTypeId': 'DIGITAL_GOOD'}"
      ]
     },
     "execution_count": 3,
     "metadata": {},
     "output_type": "execute_result"
    }
   ],
   "source": [
    "from sagas.nlu.warehouse import warehouse as wh\n",
    "from sagas.nlu.anal_data_types import ref_\n",
    "wh/ref_('UHJvZHVjdFR5cGU6RElHSVRBTF9HT09E')"
   ]
  },
  {
   "cell_type": "code",
   "execution_count": 4,
   "metadata": {
    "ExecuteTime": {
     "end_time": "2020-04-22T15:38:01.891987Z",
     "start_time": "2020-04-22T15:38:01.873582Z"
    }
   },
   "outputs": [
    {
     "data": {
      "text/plain": [
       "'ProductType'"
      ]
     },
     "execution_count": 4,
     "metadata": {},
     "output_type": "execute_result"
    }
   ],
   "source": [
    "(wh/ref_('UHJvZHVjdFR5cGU6RElHSVRBTF9HT09E')).getEntityName()"
   ]
  }
 ],
 "metadata": {
  "kernelspec": {
   "display_name": "Python 3",
   "language": "python",
   "name": "python3"
  },
  "language_info": {
   "codemirror_mode": {
    "name": "ipython",
    "version": 3
   },
   "file_extension": ".py",
   "mimetype": "text/x-python",
   "name": "python",
   "nbconvert_exporter": "python",
   "pygments_lexer": "ipython3",
   "version": "3.6.6"
  },
  "varInspector": {
   "cols": {
    "lenName": 16,
    "lenType": 16,
    "lenVar": 40
   },
   "kernels_config": {
    "python": {
     "delete_cmd_postfix": "",
     "delete_cmd_prefix": "del ",
     "library": "var_list.py",
     "varRefreshCmd": "print(var_dic_list())"
    },
    "r": {
     "delete_cmd_postfix": ") ",
     "delete_cmd_prefix": "rm(",
     "library": "var_list.r",
     "varRefreshCmd": "cat(var_dic_list()) "
    }
   },
   "types_to_exclude": [
    "module",
    "function",
    "builtin_function_or_method",
    "instance",
    "_Feature"
   ],
   "window_display": false
  }
 },
 "nbformat": 4,
 "nbformat_minor": 2
}
