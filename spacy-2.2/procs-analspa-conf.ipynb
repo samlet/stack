{
 "cells": [
  {
   "cell_type": "code",
   "execution_count": 14,
   "metadata": {
    "ExecuteTime": {
     "end_time": "2020-04-22T13:38:46.322733Z",
     "start_time": "2020-04-22T13:38:46.247733Z"
    }
   },
   "outputs": [
    {
     "name": "stdout",
     "output_type": "stream",
     "text": [
      "{'typ': {'ContactMechPurposeType.description.FAX_NUMBER': ['主FAX番号'],\n",
      "         'RoleType.description.EMAIL_ADMIN': ['Eメール管理者']}}\n"
     ]
    },
    {
     "data": {
      "text/plain": [
       "dict_keys(['RoleType.description.EMAIL_ADMIN', 'ContactMechPurposeType.description.FAX_NUMBER'])"
      ]
     },
     "execution_count": 14,
     "metadata": {},
     "output_type": "execute_result"
    }
   ],
   "source": [
    "from sagas.conf import resource_path\n",
    "import json_utils\n",
    "from pprint import pprint\n",
    "lang='ja'\n",
    "file=resource_path(f'analspa_{lang}.json')\n",
    "root=json_utils.read_json_file(file)\n",
    "pprint(root)\n",
    "typ_list=root['typ']\n",
    "typ_list.keys()"
   ]
  },
  {
   "cell_type": "code",
   "execution_count": 1,
   "metadata": {
    "ExecuteTime": {
     "end_time": "2020-04-22T13:27:27.724794Z",
     "start_time": "2020-04-22T13:27:27.705401Z"
    }
   },
   "outputs": [
    {
     "data": {
      "text/plain": [
       "dict_keys(['RoleType.description.EMAIL_ADMIN', 'ContactMechPurposeType.description.FAX_NUMBER'])"
      ]
     },
     "execution_count": 1,
     "metadata": {},
     "output_type": "execute_result"
    }
   ],
   "source": [
    "root={\n",
    "    \"typ\": {\n",
    "        \"RoleType.description.EMAIL_ADMIN\": [\"Eメール管理者\"],\n",
    "        \"ContactMechPurposeType.description.FAX_NUMBER\": [\"主FAX番号\"],\n",
    "    }\n",
    "}\n",
    "typ_list=root['typ']\n",
    "typ_list.keys()"
   ]
  },
  {
   "cell_type": "code",
   "execution_count": 12,
   "metadata": {
    "ExecuteTime": {
     "end_time": "2020-04-22T13:32:12.744668Z",
     "start_time": "2020-04-22T13:32:12.528593Z"
    }
   },
   "outputs": [
    {
     "name": "stdout",
     "output_type": "stream",
     "text": [
      "[('主FAX番号', {'term': 'typ||ContactMechPurposeType.description.FAX_NUMBER', 'value': '主FAX番号'}), ('は', {}), ('ある', {}), ('ます', {}), ('か', {})]\n"
     ]
    },
    {
     "data": {
      "text/html": [
       "<span class=\"tex2jax_ignore\"><svg xmlns=\"http://www.w3.org/2000/svg\" xmlns:xlink=\"http://www.w3.org/1999/xlink\" xml:lang=\"ja\" id=\"c0dd440544884efe83a3bf2b88046e24-0\" class=\"displacy\" width=\"925\" height=\"312.0\" direction=\"ltr\" style=\"max-width: none; height: 312.0px; color: #000000; background: #ffffff; font-family: Arial; direction: ltr\">\n",
       "<text class=\"displacy-token\" fill=\"currentColor\" text-anchor=\"middle\" y=\"222.0\">\n",
       "    <tspan class=\"displacy-word\" fill=\"currentColor\" x=\"50\">主FAX番号</tspan>\n",
       "    <tspan class=\"displacy-tag\" dy=\"2em\" fill=\"currentColor\" x=\"50\">NOUN</tspan>\n",
       "</text>\n",
       "\n",
       "<text class=\"displacy-token\" fill=\"currentColor\" text-anchor=\"middle\" y=\"222.0\">\n",
       "    <tspan class=\"displacy-word\" fill=\"currentColor\" x=\"225\">は</tspan>\n",
       "    <tspan class=\"displacy-tag\" dy=\"2em\" fill=\"currentColor\" x=\"225\">ADP</tspan>\n",
       "</text>\n",
       "\n",
       "<text class=\"displacy-token\" fill=\"currentColor\" text-anchor=\"middle\" y=\"222.0\">\n",
       "    <tspan class=\"displacy-word\" fill=\"currentColor\" x=\"400\">あり</tspan>\n",
       "    <tspan class=\"displacy-tag\" dy=\"2em\" fill=\"currentColor\" x=\"400\">VERB</tspan>\n",
       "</text>\n",
       "\n",
       "<text class=\"displacy-token\" fill=\"currentColor\" text-anchor=\"middle\" y=\"222.0\">\n",
       "    <tspan class=\"displacy-word\" fill=\"currentColor\" x=\"575\">ます</tspan>\n",
       "    <tspan class=\"displacy-tag\" dy=\"2em\" fill=\"currentColor\" x=\"575\">AUX</tspan>\n",
       "</text>\n",
       "\n",
       "<text class=\"displacy-token\" fill=\"currentColor\" text-anchor=\"middle\" y=\"222.0\">\n",
       "    <tspan class=\"displacy-word\" fill=\"currentColor\" x=\"750\">か</tspan>\n",
       "    <tspan class=\"displacy-tag\" dy=\"2em\" fill=\"currentColor\" x=\"750\">PART</tspan>\n",
       "</text>\n",
       "\n",
       "<g class=\"displacy-arrow\">\n",
       "    <path class=\"displacy-arc\" id=\"arrow-c0dd440544884efe83a3bf2b88046e24-0-0\" stroke-width=\"2px\" d=\"M70,177.0 C70,2.0 400.0,2.0 400.0,177.0\" fill=\"none\" stroke=\"currentColor\"/>\n",
       "    <text dy=\"1.25em\" style=\"font-size: 0.8em; letter-spacing: 1px\">\n",
       "        <textPath xlink:href=\"#arrow-c0dd440544884efe83a3bf2b88046e24-0-0\" class=\"displacy-label\" startOffset=\"50%\" side=\"left\" fill=\"currentColor\" text-anchor=\"middle\">nsubj</textPath>\n",
       "    </text>\n",
       "    <path class=\"displacy-arrowhead\" d=\"M70,179.0 L62,167.0 78,167.0\" fill=\"currentColor\"/>\n",
       "</g>\n",
       "\n",
       "<g class=\"displacy-arrow\">\n",
       "    <path class=\"displacy-arc\" id=\"arrow-c0dd440544884efe83a3bf2b88046e24-0-1\" stroke-width=\"2px\" d=\"M70,177.0 C70,89.5 220.0,89.5 220.0,177.0\" fill=\"none\" stroke=\"currentColor\"/>\n",
       "    <text dy=\"1.25em\" style=\"font-size: 0.8em; letter-spacing: 1px\">\n",
       "        <textPath xlink:href=\"#arrow-c0dd440544884efe83a3bf2b88046e24-0-1\" class=\"displacy-label\" startOffset=\"50%\" side=\"left\" fill=\"currentColor\" text-anchor=\"middle\">case</textPath>\n",
       "    </text>\n",
       "    <path class=\"displacy-arrowhead\" d=\"M220.0,179.0 L228.0,167.0 212.0,167.0\" fill=\"currentColor\"/>\n",
       "</g>\n",
       "\n",
       "<g class=\"displacy-arrow\">\n",
       "    <path class=\"displacy-arc\" id=\"arrow-c0dd440544884efe83a3bf2b88046e24-0-2\" stroke-width=\"2px\" d=\"M420,177.0 C420,89.5 570.0,89.5 570.0,177.0\" fill=\"none\" stroke=\"currentColor\"/>\n",
       "    <text dy=\"1.25em\" style=\"font-size: 0.8em; letter-spacing: 1px\">\n",
       "        <textPath xlink:href=\"#arrow-c0dd440544884efe83a3bf2b88046e24-0-2\" class=\"displacy-label\" startOffset=\"50%\" side=\"left\" fill=\"currentColor\" text-anchor=\"middle\">aux</textPath>\n",
       "    </text>\n",
       "    <path class=\"displacy-arrowhead\" d=\"M570.0,179.0 L578.0,167.0 562.0,167.0\" fill=\"currentColor\"/>\n",
       "</g>\n",
       "\n",
       "<g class=\"displacy-arrow\">\n",
       "    <path class=\"displacy-arc\" id=\"arrow-c0dd440544884efe83a3bf2b88046e24-0-3\" stroke-width=\"2px\" d=\"M420,177.0 C420,2.0 750.0,2.0 750.0,177.0\" fill=\"none\" stroke=\"currentColor\"/>\n",
       "    <text dy=\"1.25em\" style=\"font-size: 0.8em; letter-spacing: 1px\">\n",
       "        <textPath xlink:href=\"#arrow-c0dd440544884efe83a3bf2b88046e24-0-3\" class=\"displacy-label\" startOffset=\"50%\" side=\"left\" fill=\"currentColor\" text-anchor=\"middle\">mark</textPath>\n",
       "    </text>\n",
       "    <path class=\"displacy-arrowhead\" d=\"M750.0,179.0 L758.0,167.0 742.0,167.0\" fill=\"currentColor\"/>\n",
       "</g>\n",
       "</svg></span>"
      ],
      "text/plain": [
       "<IPython.core.display.HTML object>"
      ]
     },
     "metadata": {},
     "output_type": "display_data"
    }
   ],
   "source": [
    "from sagas.nlu.analspa import analspa\n",
    "from sagas.nlu.anal_conf import AnalConf\n",
    "DEFAULT_ENT_ID_SEP = \"||\"\n",
    "# DEFAULT_ENT_ID_SEP = \"//\"\n",
    "\n",
    "spa=analspa('ja')\n",
    "for term_name, termls in root.items():\n",
    "    for key, values in termls.items():\n",
    "        label = \"{}{}{}\".format(term_name, DEFAULT_ENT_ID_SEP, key)\n",
    "        spa.add_pats(label, values)\n",
    "doc,terms=spa.parse('主FAX番号はありますか')\n",
    "print([(w.lemma_, w._.term) for w in doc])\n",
    "spa.vis(doc)"
   ]
  },
  {
   "cell_type": "code",
   "execution_count": 13,
   "metadata": {
    "ExecuteTime": {
     "end_time": "2020-04-22T13:32:39.530502Z",
     "start_time": "2020-04-22T13:32:39.523369Z"
    }
   },
   "outputs": [
    {
     "data": {
      "text/plain": [
       "('typ', 'ContactMechPurposeType.description.FAX_NUMBER')"
      ]
     },
     "execution_count": 13,
     "metadata": {},
     "output_type": "execute_result"
    }
   ],
   "source": [
    "AnalConf.split_label('typ||ContactMechPurposeType.description.FAX_NUMBER')"
   ]
  },
  {
   "cell_type": "code",
   "execution_count": 1,
   "metadata": {
    "ExecuteTime": {
     "end_time": "2020-04-23T06:47:58.926943Z",
     "start_time": "2020-04-23T06:47:57.346578Z"
    }
   },
   "outputs": [
    {
     "data": {
      "text/plain": [
       "14778"
      ]
     },
     "execution_count": 1,
     "metadata": {},
     "output_type": "execute_result"
    }
   ],
   "source": [
    "from sagas.ofbiz.resources import read_resource\n",
    "import json\n",
    "resource, rs_lookups=read_resource()\n",
    "props=resource.properties\n",
    "keys=[k for k,v in props.items()]\n",
    "len(keys)"
   ]
  },
  {
   "cell_type": "code",
   "execution_count": 7,
   "metadata": {
    "ExecuteTime": {
     "end_time": "2020-04-23T06:53:14.646534Z",
     "start_time": "2020-04-23T06:53:14.604172Z"
    }
   },
   "outputs": [
    {
     "name": "stdout",
     "output_type": "stream",
     "text": [
      "2500\n",
      "117 {'ShipmentContactMechType', 'EmplLeaveType', 'RejectionReason', 'GoodIdentificationType', 'FixedAssetIdentType', 'QuoteType', 'StatusItem', 'InvoiceItemType', 'InvoiceType', 'StatusType', 'MetaDataPredicate', 'AgreementItemType', 'ProductFeatureType', 'TechDataCalendarWeek', 'MimeType', 'WorkReqFulfType', 'ProductAssocType', 'CostComponentType', 'ReturnReason', 'ProductContentType', 'PaymentMethodType', 'DataTemplateType', 'ProductPriceActionType', 'CustomMethod', 'InventoryItemType', 'OrderContentType', 'ContactListType', 'WebSiteContentType', 'ExampleFeatureApplType', 'FinAccountTransType', 'SegmentGroupType', 'GeoAssocType', 'VarianceReason', 'ProductFeatureApplType', 'PartyType', 'OrderBlacklistType', 'RoleType', 'ProductFeatureIactnType', 'ContactMechType', 'SubscriptionType', 'ContentType', 'FixedAssetType', 'EnumerationType', 'ProductPricePurpose', 'ProductCategoryType', 'DataResourceType', 'CharacterSet', 'FixedAssetStdCostType', 'OrderType', 'Uom', 'VisualTheme', 'ContentAssocPredicate', 'WorkEffortAssocType', 'CommunicationEventType', 'GlAccountType', 'TrackingCodeType', 'OrderItemType', 'ProductCategoryLinkType', 'PartyClassificationType', 'DocumentType', 'UomType', 'FacilityType', 'FinAccountType', 'ProductCategoryContentType', 'ProdCatalogCategoryType', 'CustRequestType', 'AgreementType', 'TechDataCalendar', 'FacilityGroupType', 'Content', 'ExampleType', 'DataSource', 'MrpEventType', 'ProdConfItemContentType', 'ProductFeature', 'WorkEffortType', 'ReturnType', 'ContentAssocType', 'SecurityPermission', 'PartyClassificationGroup', 'GlFiscalType', 'OrderAdjustmentType', 'GlResourceType', 'ProductType', 'QuantityBreakType', 'SurveyApplType', 'ProductMeterType', 'ShipmentType', 'ServerHitType', 'CustRequestResolution', 'RateType', 'ContentPurposeType', 'ShoppingListType', 'ProductGlAccountType', 'GlAccountClass', 'ReturnAdjustmentType', 'PaymentType', 'TermType', 'SurveyQuestionType', 'ContactMechPurposeType', 'CommunicationEventPrpTyp', 'TaxAuthorityRateType', 'GeoType', 'PartyContentType', 'AcctgTransType', 'FixedAssetProductType', 'TaxAuthorityAssocType', 'ProductStoreGroup', 'WorkEffortPurposeType', 'RequirementType', 'SecurityGroup', 'ProductPriceType', 'ContentOperation', 'EmplLeaveReasonType', 'ProductMaintType', 'WorkflowParticipantType', 'Enumeration'}\n"
     ]
    }
   ],
   "source": [
    "keys=[k for k,v in props.items() if '.description.' in k]\n",
    "print(len(keys))\n",
    "type_ents={k.split('.', 1)[0] for k in keys}\n",
    "print(len(type_ents), type_ents)"
   ]
  },
  {
   "cell_type": "code",
   "execution_count": 10,
   "metadata": {
    "ExecuteTime": {
     "end_time": "2020-04-23T06:56:31.569330Z",
     "start_time": "2020-04-23T06:56:31.558330Z"
    }
   },
   "outputs": [
    {
     "data": {
      "text/plain": [
       "['PartyType',\n",
       " 'PartyClassificationType',\n",
       " 'PartyClassificationGroup',\n",
       " 'PartyContentType']"
      ]
     },
     "execution_count": 10,
     "metadata": {},
     "output_type": "execute_result"
    }
   ],
   "source": [
    "[e for e in type_ents if 'Party' in e]"
   ]
  },
  {
   "cell_type": "code",
   "execution_count": 22,
   "metadata": {
    "ExecuteTime": {
     "end_time": "2020-04-22T13:52:04.533268Z",
     "start_time": "2020-04-22T13:52:03.125045Z"
    }
   },
   "outputs": [
    {
     "name": "stdout",
     "output_type": "stream",
     "text": [
      "it ☈\n",
      "{\"RoleType.description.EMAIL_ADMIN\": [\"Amministratore email\"]}\n",
      "zh-TW ☈\n",
      "{\"RoleType.description.EMAIL_ADMIN\": [\"電子郵件管理者\"]}\n",
      "ja ☈\n",
      "{\"RoleType.description.EMAIL_ADMIN\": [\"Eメール管理者\"]}\n",
      "pt-BR ☈\n",
      "{\"RoleType.description.EMAIL_ADMIN\": [\"Administrador de e-mail\"]}\n",
      "vi ☈\n",
      "{\"RoleType.description.EMAIL_ADMIN\": [\"Thư điện tử quản trị\"]}\n",
      "en ☈\n",
      "{\"RoleType.description.EMAIL_ADMIN\": [\"Email Administrator\"]}\n",
      "de ☈\n",
      "{\"RoleType.description.EMAIL_ADMIN\": [\"Email Administrator\"]}\n",
      "zh ☈\n",
      "{\"RoleType.description.EMAIL_ADMIN\": [\"电子邮件管理员\"]}\n",
      "hi-IN ☈\n",
      "{\"RoleType.description.EMAIL_ADMIN\": [\"ईमेल प्रशासक\"]}\n",
      "fr ☈\n",
      "{\"RoleType.description.EMAIL_ADMIN\": [\"Administrateur des emails\"]}\n"
     ]
    }
   ],
   "source": [
    "from sagas.ofbiz.resources import read_resource\n",
    "import json\n",
    "def key_string(word):\n",
    "    resource, rs_lookups=read_resource()\n",
    "    prop = resource.properties[word]\n",
    "    for key in prop.values.keys():\n",
    "        print(key, '☈')\n",
    "        row={word:[prop.values[key]]}\n",
    "        print(json.dumps(row, ensure_ascii=False))\n",
    "\n",
    "key_string('RoleType.description.EMAIL_ADMIN')"
   ]
  },
  {
   "cell_type": "code",
   "execution_count": 23,
   "metadata": {
    "ExecuteTime": {
     "end_time": "2020-04-22T13:52:58.382347Z",
     "start_time": "2020-04-22T13:52:56.811557Z"
    }
   },
   "outputs": [
    {
     "name": "stdout",
     "output_type": "stream",
     "text": [
      "en ☈\n",
      "{\"ContactMechPurposeType.description.FAX_NUMBER\": [\"Main Fax Number\"]}\n",
      "ro ☈\n",
      "{\"ContactMechPurposeType.description.FAX_NUMBER\": [\"Numar Fax Principal\"]}\n",
      "zh ☈\n",
      "{\"ContactMechPurposeType.description.FAX_NUMBER\": [\"主要传真号码\"]}\n",
      "es ☈\n",
      "{\"ContactMechPurposeType.description.FAX_NUMBER\": [\"Número de fax principal\"]}\n",
      "th ☈\n",
      "{\"ContactMechPurposeType.description.FAX_NUMBER\": [\"หมายเลขแฟกซ์หลัก\"]}\n",
      "hi-IN ☈\n",
      "{\"ContactMechPurposeType.description.FAX_NUMBER\": [\"मुख्य फैक्स नंबर\"]}\n",
      "ru ☈\n",
      "{\"ContactMechPurposeType.description.FAX_NUMBER\": [\"Основной номер факса\"]}\n",
      "fr ☈\n",
      "{\"ContactMechPurposeType.description.FAX_NUMBER\": [\"Numéro de télécopie principal\"]}\n",
      "nl ☈\n",
      "{\"ContactMechPurposeType.description.FAX_NUMBER\": [\"Faxnummer\"]}\n",
      "ja ☈\n",
      "{\"ContactMechPurposeType.description.FAX_NUMBER\": [\"主FAX番号\"]}\n",
      "pt-BR ☈\n",
      "{\"ContactMechPurposeType.description.FAX_NUMBER\": [\"Número de fax principal\"]}\n",
      "vi ☈\n",
      "{\"ContactMechPurposeType.description.FAX_NUMBER\": [\"Số fax chính\"]}\n",
      "de ☈\n",
      "{\"ContactMechPurposeType.description.FAX_NUMBER\": [\"Haupt-Faxnummer\"]}\n",
      "it ☈\n",
      "{\"ContactMechPurposeType.description.FAX_NUMBER\": [\"Numero Fax Principale\"]}\n",
      "cs ☈\n",
      "{\"ContactMechPurposeType.description.FAX_NUMBER\": [\"Hlavní faxové číslo\"]}\n",
      "zh-TW ☈\n",
      "{\"ContactMechPurposeType.description.FAX_NUMBER\": [\"主要傳真號碼\"]}\n"
     ]
    }
   ],
   "source": [
    "key_string(\"ContactMechPurposeType.description.FAX_NUMBER\")"
   ]
  },
  {
   "cell_type": "code",
   "execution_count": 15,
   "metadata": {
    "ExecuteTime": {
     "end_time": "2020-04-22T13:43:06.633438Z",
     "start_time": "2020-04-22T13:43:06.623332Z"
    }
   },
   "outputs": [
    {
     "data": {
      "text/plain": [
       "False"
      ]
     },
     "execution_count": 15,
     "metadata": {},
     "output_type": "execute_result"
    }
   ],
   "source": [
    "x='5'\n",
    "x==None"
   ]
  },
  {
   "cell_type": "code",
   "execution_count": 3,
   "metadata": {
    "ExecuteTime": {
     "end_time": "2020-04-22T15:26:17.919100Z",
     "start_time": "2020-04-22T15:26:17.833399Z"
    }
   },
   "outputs": [
    {
     "data": {
      "text/plain": [
       "{'lastUpdatedStamp': JavaObject id=o22, 'isPhysical': 'N', 'parentTypeId': 'GOOD', 'isDigital': 'Y', 'hasTable': 'N', 'createdTxStamp': JavaObject id=o23, 'createdStamp': JavaObject id=o24, 'description': 'Digital Good', 'lastUpdatedTxStamp': JavaObject id=o25, 'productTypeId': 'DIGITAL_GOOD'}"
      ]
     },
     "execution_count": 3,
     "metadata": {},
     "output_type": "execute_result"
    }
   ],
   "source": [
    "from sagas.nlu.warehouse import warehouse as wh\n",
    "from sagas.nlu.anal_data_types import ref_\n",
    "wh/ref_('UHJvZHVjdFR5cGU6RElHSVRBTF9HT09E')"
   ]
  },
  {
   "cell_type": "code",
   "execution_count": 4,
   "metadata": {
    "ExecuteTime": {
     "end_time": "2020-04-22T15:38:01.891987Z",
     "start_time": "2020-04-22T15:38:01.873582Z"
    }
   },
   "outputs": [
    {
     "data": {
      "text/plain": [
       "'ProductType'"
      ]
     },
     "execution_count": 4,
     "metadata": {},
     "output_type": "execute_result"
    }
   ],
   "source": [
    "(wh/ref_('UHJvZHVjdFR5cGU6RElHSVRBTF9HT09E')).getEntityName()"
   ]
  },
  {
   "cell_type": "code",
   "execution_count": 5,
   "metadata": {
    "ExecuteTime": {
     "end_time": "2020-04-23T07:22:32.058017Z",
     "start_time": "2020-04-23T07:22:31.943185Z"
    }
   },
   "outputs": [
    {
     "data": {
      "text/html": [
       "<div>\n",
       "<style scoped>\n",
       "    .dataframe tbody tr th:only-of-type {\n",
       "        vertical-align: middle;\n",
       "    }\n",
       "\n",
       "    .dataframe tbody tr th {\n",
       "        vertical-align: top;\n",
       "    }\n",
       "\n",
       "    .dataframe thead th {\n",
       "        text-align: right;\n",
       "    }\n",
       "</style>\n",
       "<table border=\"1\" class=\"dataframe\">\n",
       "  <thead>\n",
       "    <tr style=\"text-align: right;\">\n",
       "      <th></th>\n",
       "      <th>partyTypeId</th>\n",
       "      <th>lastUpdatedStamp</th>\n",
       "      <th>parentTypeId</th>\n",
       "      <th>hasTable</th>\n",
       "      <th>createdTxStamp</th>\n",
       "      <th>createdStamp</th>\n",
       "      <th>description</th>\n",
       "      <th>lastUpdatedTxStamp</th>\n",
       "    </tr>\n",
       "  </thead>\n",
       "  <tbody>\n",
       "    <tr>\n",
       "      <th>0</th>\n",
       "      <td>AUTOMATED_AGENT</td>\n",
       "      <td>2019-03-04 12:33:10.225</td>\n",
       "      <td>None</td>\n",
       "      <td>N</td>\n",
       "      <td>2019-03-04 12:33:09.719</td>\n",
       "      <td>2019-03-04 12:33:10.225</td>\n",
       "      <td>Automated Agent</td>\n",
       "      <td>2019-03-04 12:33:09.719</td>\n",
       "    </tr>\n",
       "    <tr>\n",
       "      <th>1</th>\n",
       "      <td>CORPORATION</td>\n",
       "      <td>2019-03-04 12:33:10.234</td>\n",
       "      <td>LEGAL_ORGANIZATION</td>\n",
       "      <td>N</td>\n",
       "      <td>2019-03-04 12:33:09.719</td>\n",
       "      <td>2019-03-04 12:33:10.234</td>\n",
       "      <td>Corporation</td>\n",
       "      <td>2019-03-04 12:33:09.719</td>\n",
       "    </tr>\n",
       "    <tr>\n",
       "      <th>2</th>\n",
       "      <td>FAMILY</td>\n",
       "      <td>2019-03-04 12:33:10.230</td>\n",
       "      <td>INFORMAL_GROUP</td>\n",
       "      <td>N</td>\n",
       "      <td>2019-03-04 12:33:09.719</td>\n",
       "      <td>2019-03-04 12:33:10.230</td>\n",
       "      <td>Family</td>\n",
       "      <td>2019-03-04 12:33:09.719</td>\n",
       "    </tr>\n",
       "    <tr>\n",
       "      <th>3</th>\n",
       "      <td>GOVERNMENT_AGENCY</td>\n",
       "      <td>2019-03-04 12:33:10.235</td>\n",
       "      <td>LEGAL_ORGANIZATION</td>\n",
       "      <td>N</td>\n",
       "      <td>2019-03-04 12:33:09.719</td>\n",
       "      <td>2019-03-04 12:33:10.235</td>\n",
       "      <td>Government Agency</td>\n",
       "      <td>2019-03-04 12:33:09.719</td>\n",
       "    </tr>\n",
       "    <tr>\n",
       "      <th>4</th>\n",
       "      <td>INFORMAL_GROUP</td>\n",
       "      <td>2019-03-04 12:33:10.228</td>\n",
       "      <td>PARTY_GROUP</td>\n",
       "      <td>N</td>\n",
       "      <td>2019-03-04 12:33:09.719</td>\n",
       "      <td>2019-03-04 12:33:10.228</td>\n",
       "      <td>Informal Group</td>\n",
       "      <td>2019-03-04 12:33:09.719</td>\n",
       "    </tr>\n",
       "    <tr>\n",
       "      <th>5</th>\n",
       "      <td>LEGAL_ORGANIZATION</td>\n",
       "      <td>2019-03-04 12:33:10.233</td>\n",
       "      <td>PARTY_GROUP</td>\n",
       "      <td>N</td>\n",
       "      <td>2019-03-04 12:33:09.719</td>\n",
       "      <td>2019-03-04 12:33:10.233</td>\n",
       "      <td>Legal Organization</td>\n",
       "      <td>2019-03-04 12:33:09.719</td>\n",
       "    </tr>\n",
       "    <tr>\n",
       "      <th>6</th>\n",
       "      <td>PARTY_GROUP</td>\n",
       "      <td>2019-03-04 12:33:10.227</td>\n",
       "      <td>None</td>\n",
       "      <td>Y</td>\n",
       "      <td>2019-03-04 12:33:09.719</td>\n",
       "      <td>2019-03-04 12:33:10.227</td>\n",
       "      <td>Party Group</td>\n",
       "      <td>2019-03-04 12:33:09.719</td>\n",
       "    </tr>\n",
       "    <tr>\n",
       "      <th>7</th>\n",
       "      <td>PERSON</td>\n",
       "      <td>2019-03-04 12:33:10.226</td>\n",
       "      <td>None</td>\n",
       "      <td>Y</td>\n",
       "      <td>2019-03-04 12:33:09.719</td>\n",
       "      <td>2019-03-04 12:33:10.226</td>\n",
       "      <td>Person</td>\n",
       "      <td>2019-03-04 12:33:09.719</td>\n",
       "    </tr>\n",
       "    <tr>\n",
       "      <th>8</th>\n",
       "      <td>TEAM</td>\n",
       "      <td>2019-03-04 12:33:10.231</td>\n",
       "      <td>INFORMAL_GROUP</td>\n",
       "      <td>N</td>\n",
       "      <td>2019-03-04 12:33:09.719</td>\n",
       "      <td>2019-03-04 12:33:10.231</td>\n",
       "      <td>Team</td>\n",
       "      <td>2019-03-04 12:33:09.719</td>\n",
       "    </tr>\n",
       "  </tbody>\n",
       "</table>\n",
       "</div>"
      ],
      "text/plain": [
       "          partyTypeId        lastUpdatedStamp        parentTypeId hasTable  \\\n",
       "0     AUTOMATED_AGENT 2019-03-04 12:33:10.225                None        N   \n",
       "1         CORPORATION 2019-03-04 12:33:10.234  LEGAL_ORGANIZATION        N   \n",
       "2              FAMILY 2019-03-04 12:33:10.230      INFORMAL_GROUP        N   \n",
       "3   GOVERNMENT_AGENCY 2019-03-04 12:33:10.235  LEGAL_ORGANIZATION        N   \n",
       "4      INFORMAL_GROUP 2019-03-04 12:33:10.228         PARTY_GROUP        N   \n",
       "5  LEGAL_ORGANIZATION 2019-03-04 12:33:10.233         PARTY_GROUP        N   \n",
       "6         PARTY_GROUP 2019-03-04 12:33:10.227                None        Y   \n",
       "7              PERSON 2019-03-04 12:33:10.226                None        Y   \n",
       "8                TEAM 2019-03-04 12:33:10.231      INFORMAL_GROUP        N   \n",
       "\n",
       "           createdTxStamp            createdStamp         description  \\\n",
       "0 2019-03-04 12:33:09.719 2019-03-04 12:33:10.225     Automated Agent   \n",
       "1 2019-03-04 12:33:09.719 2019-03-04 12:33:10.234         Corporation   \n",
       "2 2019-03-04 12:33:09.719 2019-03-04 12:33:10.230              Family   \n",
       "3 2019-03-04 12:33:09.719 2019-03-04 12:33:10.235   Government Agency   \n",
       "4 2019-03-04 12:33:09.719 2019-03-04 12:33:10.228      Informal Group   \n",
       "5 2019-03-04 12:33:09.719 2019-03-04 12:33:10.233  Legal Organization   \n",
       "6 2019-03-04 12:33:09.719 2019-03-04 12:33:10.227         Party Group   \n",
       "7 2019-03-04 12:33:09.719 2019-03-04 12:33:10.226              Person   \n",
       "8 2019-03-04 12:33:09.719 2019-03-04 12:33:10.231                Team   \n",
       "\n",
       "       lastUpdatedTxStamp  \n",
       "0 2019-03-04 12:33:09.719  \n",
       "1 2019-03-04 12:33:09.719  \n",
       "2 2019-03-04 12:33:09.719  \n",
       "3 2019-03-04 12:33:09.719  \n",
       "4 2019-03-04 12:33:09.719  \n",
       "5 2019-03-04 12:33:09.719  \n",
       "6 2019-03-04 12:33:09.719  \n",
       "7 2019-03-04 12:33:09.719  \n",
       "8 2019-03-04 12:33:09.719  "
      ]
     },
     "execution_count": 5,
     "metadata": {},
     "output_type": "execute_result"
    }
   ],
   "source": [
    "from sagas.nlu.warehouse import warehouse as wh\n",
    "(wh/'PartyType').records_df()"
   ]
  },
  {
   "cell_type": "code",
   "execution_count": 7,
   "metadata": {
    "ExecuteTime": {
     "end_time": "2020-04-23T07:57:54.951961Z",
     "start_time": "2020-04-23T07:57:54.425674Z"
    }
   },
   "outputs": [
    {
     "data": {
      "text/html": [
       "<div>\n",
       "<style scoped>\n",
       "    .dataframe tbody tr th:only-of-type {\n",
       "        vertical-align: middle;\n",
       "    }\n",
       "\n",
       "    .dataframe tbody tr th {\n",
       "        vertical-align: top;\n",
       "    }\n",
       "\n",
       "    .dataframe thead th {\n",
       "        text-align: right;\n",
       "    }\n",
       "</style>\n",
       "<table border=\"1\" class=\"dataframe\">\n",
       "  <thead>\n",
       "    <tr style=\"text-align: right;\">\n",
       "      <th></th>\n",
       "      <th>lastUpdatedStamp</th>\n",
       "      <th>roleTypeId</th>\n",
       "      <th>parentTypeId</th>\n",
       "      <th>hasTable</th>\n",
       "      <th>createdTxStamp</th>\n",
       "      <th>createdStamp</th>\n",
       "      <th>description</th>\n",
       "      <th>lastUpdatedTxStamp</th>\n",
       "    </tr>\n",
       "  </thead>\n",
       "  <tbody>\n",
       "    <tr>\n",
       "      <th>0</th>\n",
       "      <td>2019-03-04 12:33:10.070</td>\n",
       "      <td>ACCOUNT</td>\n",
       "      <td>SFA_ROLE</td>\n",
       "      <td>N</td>\n",
       "      <td>2019-03-04 12:33:09.719</td>\n",
       "      <td>2019-03-04 12:33:10.070</td>\n",
       "      <td>Account</td>\n",
       "      <td>2019-03-04 12:33:09.719</td>\n",
       "    </tr>\n",
       "    <tr>\n",
       "      <th>1</th>\n",
       "      <td>2019-03-04 12:33:10.069</td>\n",
       "      <td>ACCOUNTANT</td>\n",
       "      <td>None</td>\n",
       "      <td>N</td>\n",
       "      <td>2019-03-04 12:33:09.719</td>\n",
       "      <td>2019-03-04 12:33:10.069</td>\n",
       "      <td>Accountant</td>\n",
       "      <td>2019-03-04 12:33:09.719</td>\n",
       "    </tr>\n",
       "    <tr>\n",
       "      <th>2</th>\n",
       "      <td>2019-03-04 12:33:10.005</td>\n",
       "      <td>ACCOUNT_LEAD</td>\n",
       "      <td>None</td>\n",
       "      <td>N</td>\n",
       "      <td>2019-03-04 12:33:09.719</td>\n",
       "      <td>2019-03-04 12:33:10.005</td>\n",
       "      <td>Account Lead</td>\n",
       "      <td>2019-03-04 12:33:09.719</td>\n",
       "    </tr>\n",
       "    <tr>\n",
       "      <th>3</th>\n",
       "      <td>2019-03-04 12:33:10.071</td>\n",
       "      <td>ADDRESSEE</td>\n",
       "      <td>COMMEVENT_ROLE</td>\n",
       "      <td>N</td>\n",
       "      <td>2019-03-04 12:33:09.719</td>\n",
       "      <td>2019-03-04 12:33:10.071</td>\n",
       "      <td>Addressee</td>\n",
       "      <td>2019-03-04 12:33:09.719</td>\n",
       "    </tr>\n",
       "    <tr>\n",
       "      <th>4</th>\n",
       "      <td>2019-03-04 12:33:10.006</td>\n",
       "      <td>ADMIN</td>\n",
       "      <td>None</td>\n",
       "      <td>N</td>\n",
       "      <td>2019-03-04 12:33:09.719</td>\n",
       "      <td>2019-03-04 12:33:10.006</td>\n",
       "      <td>Administrator</td>\n",
       "      <td>2019-03-04 12:33:09.719</td>\n",
       "    </tr>\n",
       "    <tr>\n",
       "      <th>...</th>\n",
       "      <td>...</td>\n",
       "      <td>...</td>\n",
       "      <td>...</td>\n",
       "      <td>...</td>\n",
       "      <td>...</td>\n",
       "      <td>...</td>\n",
       "      <td>...</td>\n",
       "      <td>...</td>\n",
       "    </tr>\n",
       "    <tr>\n",
       "      <th>112</th>\n",
       "      <td>2019-03-04 12:33:10.057</td>\n",
       "      <td>WEB_MASTER</td>\n",
       "      <td>None</td>\n",
       "      <td>N</td>\n",
       "      <td>2019-03-04 12:33:09.719</td>\n",
       "      <td>2019-03-04 12:33:10.057</td>\n",
       "      <td>Web Master</td>\n",
       "      <td>2019-03-04 12:33:09.719</td>\n",
       "    </tr>\n",
       "    <tr>\n",
       "      <th>113</th>\n",
       "      <td>2019-03-04 12:33:10.145</td>\n",
       "      <td>WF_OWNER</td>\n",
       "      <td>WORKFLOW_ROLE</td>\n",
       "      <td>N</td>\n",
       "      <td>2019-03-04 12:33:09.719</td>\n",
       "      <td>2019-03-04 12:33:10.145</td>\n",
       "      <td>Workflow Owner</td>\n",
       "      <td>2019-03-04 12:33:09.719</td>\n",
       "    </tr>\n",
       "    <tr>\n",
       "      <th>114</th>\n",
       "      <td>2019-03-04 12:33:10.168</td>\n",
       "      <td>WORKER</td>\n",
       "      <td>EMPLOYEE</td>\n",
       "      <td>N</td>\n",
       "      <td>2019-03-04 12:33:09.719</td>\n",
       "      <td>2019-03-04 12:33:10.168</td>\n",
       "      <td>Worker</td>\n",
       "      <td>2019-03-04 12:33:09.719</td>\n",
       "    </tr>\n",
       "    <tr>\n",
       "      <th>115</th>\n",
       "      <td>2019-03-04 12:33:10.061</td>\n",
       "      <td>WORKFLOW_ROLE</td>\n",
       "      <td>None</td>\n",
       "      <td>N</td>\n",
       "      <td>2019-03-04 12:33:09.719</td>\n",
       "      <td>2019-03-04 12:33:10.061</td>\n",
       "      <td>Workflow</td>\n",
       "      <td>2019-03-04 12:33:09.719</td>\n",
       "    </tr>\n",
       "    <tr>\n",
       "      <th>116</th>\n",
       "      <td>2019-03-04 12:33:10.024</td>\n",
       "      <td>_NA_</td>\n",
       "      <td>None</td>\n",
       "      <td>N</td>\n",
       "      <td>2019-03-04 12:33:09.719</td>\n",
       "      <td>2019-03-04 12:33:10.024</td>\n",
       "      <td>Not Applicable</td>\n",
       "      <td>2019-03-04 12:33:09.719</td>\n",
       "    </tr>\n",
       "  </tbody>\n",
       "</table>\n",
       "<p>117 rows × 8 columns</p>\n",
       "</div>"
      ],
      "text/plain": [
       "           lastUpdatedStamp     roleTypeId    parentTypeId hasTable  \\\n",
       "0   2019-03-04 12:33:10.070        ACCOUNT        SFA_ROLE        N   \n",
       "1   2019-03-04 12:33:10.069     ACCOUNTANT            None        N   \n",
       "2   2019-03-04 12:33:10.005   ACCOUNT_LEAD            None        N   \n",
       "3   2019-03-04 12:33:10.071      ADDRESSEE  COMMEVENT_ROLE        N   \n",
       "4   2019-03-04 12:33:10.006          ADMIN            None        N   \n",
       "..                      ...            ...             ...      ...   \n",
       "112 2019-03-04 12:33:10.057     WEB_MASTER            None        N   \n",
       "113 2019-03-04 12:33:10.145       WF_OWNER   WORKFLOW_ROLE        N   \n",
       "114 2019-03-04 12:33:10.168         WORKER        EMPLOYEE        N   \n",
       "115 2019-03-04 12:33:10.061  WORKFLOW_ROLE            None        N   \n",
       "116 2019-03-04 12:33:10.024           _NA_            None        N   \n",
       "\n",
       "             createdTxStamp            createdStamp     description  \\\n",
       "0   2019-03-04 12:33:09.719 2019-03-04 12:33:10.070         Account   \n",
       "1   2019-03-04 12:33:09.719 2019-03-04 12:33:10.069      Accountant   \n",
       "2   2019-03-04 12:33:09.719 2019-03-04 12:33:10.005    Account Lead   \n",
       "3   2019-03-04 12:33:09.719 2019-03-04 12:33:10.071       Addressee   \n",
       "4   2019-03-04 12:33:09.719 2019-03-04 12:33:10.006   Administrator   \n",
       "..                      ...                     ...             ...   \n",
       "112 2019-03-04 12:33:09.719 2019-03-04 12:33:10.057      Web Master   \n",
       "113 2019-03-04 12:33:09.719 2019-03-04 12:33:10.145  Workflow Owner   \n",
       "114 2019-03-04 12:33:09.719 2019-03-04 12:33:10.168          Worker   \n",
       "115 2019-03-04 12:33:09.719 2019-03-04 12:33:10.061        Workflow   \n",
       "116 2019-03-04 12:33:09.719 2019-03-04 12:33:10.024  Not Applicable   \n",
       "\n",
       "         lastUpdatedTxStamp  \n",
       "0   2019-03-04 12:33:09.719  \n",
       "1   2019-03-04 12:33:09.719  \n",
       "2   2019-03-04 12:33:09.719  \n",
       "3   2019-03-04 12:33:09.719  \n",
       "4   2019-03-04 12:33:09.719  \n",
       "..                      ...  \n",
       "112 2019-03-04 12:33:09.719  \n",
       "113 2019-03-04 12:33:09.719  \n",
       "114 2019-03-04 12:33:09.719  \n",
       "115 2019-03-04 12:33:09.719  \n",
       "116 2019-03-04 12:33:09.719  \n",
       "\n",
       "[117 rows x 8 columns]"
      ]
     },
     "execution_count": 7,
     "metadata": {},
     "output_type": "execute_result"
    }
   ],
   "source": [
    "(wh/'RoleType').records_df(limit=10000)"
   ]
  }
 ],
 "metadata": {
  "kernelspec": {
   "display_name": "Python 3",
   "language": "python",
   "name": "python3"
  },
  "language_info": {
   "codemirror_mode": {
    "name": "ipython",
    "version": 3
   },
   "file_extension": ".py",
   "mimetype": "text/x-python",
   "name": "python",
   "nbconvert_exporter": "python",
   "pygments_lexer": "ipython3",
   "version": "3.6.6"
  },
  "varInspector": {
   "cols": {
    "lenName": 16,
    "lenType": 16,
    "lenVar": 40
   },
   "kernels_config": {
    "python": {
     "delete_cmd_postfix": "",
     "delete_cmd_prefix": "del ",
     "library": "var_list.py",
     "varRefreshCmd": "print(var_dic_list())"
    },
    "r": {
     "delete_cmd_postfix": ") ",
     "delete_cmd_prefix": "rm(",
     "library": "var_list.r",
     "varRefreshCmd": "cat(var_dic_list()) "
    }
   },
   "types_to_exclude": [
    "module",
    "function",
    "builtin_function_or_method",
    "instance",
    "_Feature"
   ],
   "window_display": false
  }
 },
 "nbformat": 4,
 "nbformat_minor": 2
}
