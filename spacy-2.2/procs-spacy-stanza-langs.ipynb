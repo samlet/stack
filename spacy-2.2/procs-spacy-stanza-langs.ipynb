{
 "cells": [
  {
   "cell_type": "code",
   "execution_count": 1,
   "metadata": {
    "ExecuteTime": {
     "end_time": "2020-04-19T23:04:22.914894Z",
     "start_time": "2020-04-19T23:04:17.715523Z"
    }
   },
   "outputs": [
    {
     "name": "stderr",
     "output_type": "stream",
     "text": [
      "2020-04-20 07:04:19 INFO: Loading these models for language: ja (Japanese):\n",
      "=======================\n",
      "| Processor | Package |\n",
      "-----------------------\n",
      "| tokenize  | gsd     |\n",
      "| pos       | gsd     |\n",
      "| lemma     | gsd     |\n",
      "| depparse  | gsd     |\n",
      "=======================\n",
      "\n",
      "2020-04-20 07:04:19 INFO: Use device: cpu\n",
      "2020-04-20 07:04:19 INFO: Loading: tokenize\n",
      "2020-04-20 07:04:19 INFO: Loading: pos\n",
      "2020-04-20 07:04:21 INFO: Loading: lemma\n",
      "2020-04-20 07:04:21 INFO: Loading: depparse\n",
      "2020-04-20 07:04:22 INFO: Done loading processors!\n"
     ]
    },
    {
     "name": "stdout",
     "output_type": "stream",
     "text": [
      "TerminologyList -> 主FAX番号\n"
     ]
    },
    {
     "data": {
      "text/html": [
       "<svg xmlns=\"http://www.w3.org/2000/svg\" xmlns:xlink=\"http://www.w3.org/1999/xlink\" xml:lang=\"ja\" id=\"0e1c410161294402b31152e836bc2b81-0\" class=\"displacy\" width=\"925\" height=\"312.0\" direction=\"ltr\" style=\"max-width: none; height: 312.0px; color: #000000; background: #ffffff; font-family: Arial; direction: ltr\">\n",
       "<text class=\"displacy-token\" fill=\"currentColor\" text-anchor=\"middle\" y=\"222.0\">\n",
       "    <tspan class=\"displacy-word\" fill=\"currentColor\" x=\"50\">主FAX番号</tspan>\n",
       "    <tspan class=\"displacy-tag\" dy=\"2em\" fill=\"currentColor\" x=\"50\">NOUN</tspan>\n",
       "</text>\n",
       "\n",
       "<text class=\"displacy-token\" fill=\"currentColor\" text-anchor=\"middle\" y=\"222.0\">\n",
       "    <tspan class=\"displacy-word\" fill=\"currentColor\" x=\"225\">は</tspan>\n",
       "    <tspan class=\"displacy-tag\" dy=\"2em\" fill=\"currentColor\" x=\"225\">ADP</tspan>\n",
       "</text>\n",
       "\n",
       "<text class=\"displacy-token\" fill=\"currentColor\" text-anchor=\"middle\" y=\"222.0\">\n",
       "    <tspan class=\"displacy-word\" fill=\"currentColor\" x=\"400\">あり</tspan>\n",
       "    <tspan class=\"displacy-tag\" dy=\"2em\" fill=\"currentColor\" x=\"400\">VERB</tspan>\n",
       "</text>\n",
       "\n",
       "<text class=\"displacy-token\" fill=\"currentColor\" text-anchor=\"middle\" y=\"222.0\">\n",
       "    <tspan class=\"displacy-word\" fill=\"currentColor\" x=\"575\">ます</tspan>\n",
       "    <tspan class=\"displacy-tag\" dy=\"2em\" fill=\"currentColor\" x=\"575\">AUX</tspan>\n",
       "</text>\n",
       "\n",
       "<text class=\"displacy-token\" fill=\"currentColor\" text-anchor=\"middle\" y=\"222.0\">\n",
       "    <tspan class=\"displacy-word\" fill=\"currentColor\" x=\"750\">か</tspan>\n",
       "    <tspan class=\"displacy-tag\" dy=\"2em\" fill=\"currentColor\" x=\"750\">PART</tspan>\n",
       "</text>\n",
       "\n",
       "<g class=\"displacy-arrow\">\n",
       "    <path class=\"displacy-arc\" id=\"arrow-0e1c410161294402b31152e836bc2b81-0-0\" stroke-width=\"2px\" d=\"M70,177.0 C70,2.0 400.0,2.0 400.0,177.0\" fill=\"none\" stroke=\"currentColor\"/>\n",
       "    <text dy=\"1.25em\" style=\"font-size: 0.8em; letter-spacing: 1px\">\n",
       "        <textPath xlink:href=\"#arrow-0e1c410161294402b31152e836bc2b81-0-0\" class=\"displacy-label\" startOffset=\"50%\" side=\"left\" fill=\"currentColor\" text-anchor=\"middle\">nsubj</textPath>\n",
       "    </text>\n",
       "    <path class=\"displacy-arrowhead\" d=\"M70,179.0 L62,167.0 78,167.0\" fill=\"currentColor\"/>\n",
       "</g>\n",
       "\n",
       "<g class=\"displacy-arrow\">\n",
       "    <path class=\"displacy-arc\" id=\"arrow-0e1c410161294402b31152e836bc2b81-0-1\" stroke-width=\"2px\" d=\"M70,177.0 C70,89.5 220.0,89.5 220.0,177.0\" fill=\"none\" stroke=\"currentColor\"/>\n",
       "    <text dy=\"1.25em\" style=\"font-size: 0.8em; letter-spacing: 1px\">\n",
       "        <textPath xlink:href=\"#arrow-0e1c410161294402b31152e836bc2b81-0-1\" class=\"displacy-label\" startOffset=\"50%\" side=\"left\" fill=\"currentColor\" text-anchor=\"middle\">case</textPath>\n",
       "    </text>\n",
       "    <path class=\"displacy-arrowhead\" d=\"M220.0,179.0 L228.0,167.0 212.0,167.0\" fill=\"currentColor\"/>\n",
       "</g>\n",
       "\n",
       "<g class=\"displacy-arrow\">\n",
       "    <path class=\"displacy-arc\" id=\"arrow-0e1c410161294402b31152e836bc2b81-0-2\" stroke-width=\"2px\" d=\"M420,177.0 C420,89.5 570.0,89.5 570.0,177.0\" fill=\"none\" stroke=\"currentColor\"/>\n",
       "    <text dy=\"1.25em\" style=\"font-size: 0.8em; letter-spacing: 1px\">\n",
       "        <textPath xlink:href=\"#arrow-0e1c410161294402b31152e836bc2b81-0-2\" class=\"displacy-label\" startOffset=\"50%\" side=\"left\" fill=\"currentColor\" text-anchor=\"middle\">aux</textPath>\n",
       "    </text>\n",
       "    <path class=\"displacy-arrowhead\" d=\"M570.0,179.0 L578.0,167.0 562.0,167.0\" fill=\"currentColor\"/>\n",
       "</g>\n",
       "\n",
       "<g class=\"displacy-arrow\">\n",
       "    <path class=\"displacy-arc\" id=\"arrow-0e1c410161294402b31152e836bc2b81-0-3\" stroke-width=\"2px\" d=\"M420,177.0 C420,2.0 750.0,2.0 750.0,177.0\" fill=\"none\" stroke=\"currentColor\"/>\n",
       "    <text dy=\"1.25em\" style=\"font-size: 0.8em; letter-spacing: 1px\">\n",
       "        <textPath xlink:href=\"#arrow-0e1c410161294402b31152e836bc2b81-0-3\" class=\"displacy-label\" startOffset=\"50%\" side=\"left\" fill=\"currentColor\" text-anchor=\"middle\">mark</textPath>\n",
       "    </text>\n",
       "    <path class=\"displacy-arrowhead\" d=\"M750.0,179.0 L758.0,167.0 742.0,167.0\" fill=\"currentColor\"/>\n",
       "</g>\n",
       "</svg>"
      ],
      "text/plain": [
       "<IPython.core.display.HTML object>"
      ]
     },
     "metadata": {},
     "output_type": "display_data"
    }
   ],
   "source": [
    "from spacy.matcher import PhraseMatcher\n",
    "from sagas.nlu.stanza_helper import get_nlp\n",
    "from spacy_stanza import StanzaLanguage\n",
    "\n",
    "snlp = get_nlp('ja')\n",
    "\n",
    "nlp = StanzaLanguage(snlp)\n",
    "matcher = PhraseMatcher(nlp.vocab, attr=\"LOWER\")\n",
    "terms = [\"主FAX番号\"]\n",
    "patterns = [nlp.make_doc(text) for text in terms]\n",
    "matcher.add(\"TerminologyList\", None, *patterns)\n",
    "\n",
    "doc = nlp('主FAX番号はありますか')\n",
    "matches = matcher(doc)\n",
    "spans=[]\n",
    "for match_id, start, end in matches:\n",
    "    span = doc[start:end]\n",
    "    match_id_string = nlp.vocab.strings[match_id]\n",
    "    print(match_id_string, '->', span.text)\n",
    "    spans.append(span)\n",
    "\n",
    "with doc.retokenize() as retokenizer:\n",
    "    for span in spans:\n",
    "        retokenizer.merge(span)\n",
    "\n",
    "from spacy import displacy\n",
    "displacy.render([doc], style=\"dep\")"
   ]
  },
  {
   "cell_type": "code",
   "execution_count": 3,
   "metadata": {
    "ExecuteTime": {
     "end_time": "2020-04-21T14:13:32.785827Z",
     "start_time": "2020-04-21T14:13:32.480118Z"
    }
   },
   "outputs": [
    {
     "name": "stdout",
     "output_type": "stream",
     "text": [
      "[('主FAX番号', {'term': 'TerminologyList', 'value': '主FAX番号'}), ('は', {}), ('ある', {}), ('ます', {}), ('か', {})]\n"
     ]
    },
    {
     "data": {
      "text/html": [
       "<span class=\"tex2jax_ignore\"><svg xmlns=\"http://www.w3.org/2000/svg\" xmlns:xlink=\"http://www.w3.org/1999/xlink\" xml:lang=\"ja\" id=\"3ff663114249496b82b752f22dadb98d-0\" class=\"displacy\" width=\"925\" height=\"312.0\" direction=\"ltr\" style=\"max-width: none; height: 312.0px; color: #000000; background: #ffffff; font-family: Arial; direction: ltr\">\n",
       "<text class=\"displacy-token\" fill=\"currentColor\" text-anchor=\"middle\" y=\"222.0\">\n",
       "    <tspan class=\"displacy-word\" fill=\"currentColor\" x=\"50\">主FAX番号</tspan>\n",
       "    <tspan class=\"displacy-tag\" dy=\"2em\" fill=\"currentColor\" x=\"50\">NOUN</tspan>\n",
       "</text>\n",
       "\n",
       "<text class=\"displacy-token\" fill=\"currentColor\" text-anchor=\"middle\" y=\"222.0\">\n",
       "    <tspan class=\"displacy-word\" fill=\"currentColor\" x=\"225\">は</tspan>\n",
       "    <tspan class=\"displacy-tag\" dy=\"2em\" fill=\"currentColor\" x=\"225\">ADP</tspan>\n",
       "</text>\n",
       "\n",
       "<text class=\"displacy-token\" fill=\"currentColor\" text-anchor=\"middle\" y=\"222.0\">\n",
       "    <tspan class=\"displacy-word\" fill=\"currentColor\" x=\"400\">あり</tspan>\n",
       "    <tspan class=\"displacy-tag\" dy=\"2em\" fill=\"currentColor\" x=\"400\">VERB</tspan>\n",
       "</text>\n",
       "\n",
       "<text class=\"displacy-token\" fill=\"currentColor\" text-anchor=\"middle\" y=\"222.0\">\n",
       "    <tspan class=\"displacy-word\" fill=\"currentColor\" x=\"575\">ます</tspan>\n",
       "    <tspan class=\"displacy-tag\" dy=\"2em\" fill=\"currentColor\" x=\"575\">AUX</tspan>\n",
       "</text>\n",
       "\n",
       "<text class=\"displacy-token\" fill=\"currentColor\" text-anchor=\"middle\" y=\"222.0\">\n",
       "    <tspan class=\"displacy-word\" fill=\"currentColor\" x=\"750\">か</tspan>\n",
       "    <tspan class=\"displacy-tag\" dy=\"2em\" fill=\"currentColor\" x=\"750\">PART</tspan>\n",
       "</text>\n",
       "\n",
       "<g class=\"displacy-arrow\">\n",
       "    <path class=\"displacy-arc\" id=\"arrow-3ff663114249496b82b752f22dadb98d-0-0\" stroke-width=\"2px\" d=\"M70,177.0 C70,2.0 400.0,2.0 400.0,177.0\" fill=\"none\" stroke=\"currentColor\"/>\n",
       "    <text dy=\"1.25em\" style=\"font-size: 0.8em; letter-spacing: 1px\">\n",
       "        <textPath xlink:href=\"#arrow-3ff663114249496b82b752f22dadb98d-0-0\" class=\"displacy-label\" startOffset=\"50%\" side=\"left\" fill=\"currentColor\" text-anchor=\"middle\">nsubj</textPath>\n",
       "    </text>\n",
       "    <path class=\"displacy-arrowhead\" d=\"M70,179.0 L62,167.0 78,167.0\" fill=\"currentColor\"/>\n",
       "</g>\n",
       "\n",
       "<g class=\"displacy-arrow\">\n",
       "    <path class=\"displacy-arc\" id=\"arrow-3ff663114249496b82b752f22dadb98d-0-1\" stroke-width=\"2px\" d=\"M70,177.0 C70,89.5 220.0,89.5 220.0,177.0\" fill=\"none\" stroke=\"currentColor\"/>\n",
       "    <text dy=\"1.25em\" style=\"font-size: 0.8em; letter-spacing: 1px\">\n",
       "        <textPath xlink:href=\"#arrow-3ff663114249496b82b752f22dadb98d-0-1\" class=\"displacy-label\" startOffset=\"50%\" side=\"left\" fill=\"currentColor\" text-anchor=\"middle\">case</textPath>\n",
       "    </text>\n",
       "    <path class=\"displacy-arrowhead\" d=\"M220.0,179.0 L228.0,167.0 212.0,167.0\" fill=\"currentColor\"/>\n",
       "</g>\n",
       "\n",
       "<g class=\"displacy-arrow\">\n",
       "    <path class=\"displacy-arc\" id=\"arrow-3ff663114249496b82b752f22dadb98d-0-2\" stroke-width=\"2px\" d=\"M420,177.0 C420,89.5 570.0,89.5 570.0,177.0\" fill=\"none\" stroke=\"currentColor\"/>\n",
       "    <text dy=\"1.25em\" style=\"font-size: 0.8em; letter-spacing: 1px\">\n",
       "        <textPath xlink:href=\"#arrow-3ff663114249496b82b752f22dadb98d-0-2\" class=\"displacy-label\" startOffset=\"50%\" side=\"left\" fill=\"currentColor\" text-anchor=\"middle\">aux</textPath>\n",
       "    </text>\n",
       "    <path class=\"displacy-arrowhead\" d=\"M570.0,179.0 L578.0,167.0 562.0,167.0\" fill=\"currentColor\"/>\n",
       "</g>\n",
       "\n",
       "<g class=\"displacy-arrow\">\n",
       "    <path class=\"displacy-arc\" id=\"arrow-3ff663114249496b82b752f22dadb98d-0-3\" stroke-width=\"2px\" d=\"M420,177.0 C420,2.0 750.0,2.0 750.0,177.0\" fill=\"none\" stroke=\"currentColor\"/>\n",
       "    <text dy=\"1.25em\" style=\"font-size: 0.8em; letter-spacing: 1px\">\n",
       "        <textPath xlink:href=\"#arrow-3ff663114249496b82b752f22dadb98d-0-3\" class=\"displacy-label\" startOffset=\"50%\" side=\"left\" fill=\"currentColor\" text-anchor=\"middle\">mark</textPath>\n",
       "    </text>\n",
       "    <path class=\"displacy-arrowhead\" d=\"M750.0,179.0 L758.0,167.0 742.0,167.0\" fill=\"currentColor\"/>\n",
       "</g>\n",
       "</svg></span>"
      ],
      "text/plain": [
       "<IPython.core.display.HTML object>"
      ]
     },
     "metadata": {},
     "output_type": "display_data"
    }
   ],
   "source": [
    "from sagas.nlu.analspa import AnalSpa\n",
    "spa=AnalSpa('ja')\n",
    "spa.add_pats(\"TerminologyList\", [\"主FAX番号\"])\n",
    "doc,terms=spa.parse('主FAX番号はありますか')\n",
    "print([(w.lemma_, w._.term) for w in doc])\n",
    "spa.vis(doc)"
   ]
  },
  {
   "cell_type": "code",
   "execution_count": 2,
   "metadata": {
    "ExecuteTime": {
     "end_time": "2020-04-20T14:54:37.992885Z",
     "start_time": "2020-04-20T14:54:37.809940Z"
    }
   },
   "outputs": [
    {
     "name": "stdout",
     "output_type": "stream",
     "text": [
      "[{'term': 'TerminologyList', 'value': 'nomor faks utama'}] ()\n"
     ]
    },
    {
     "data": {
      "text/html": [
       "<svg xmlns=\"http://www.w3.org/2000/svg\" xmlns:xlink=\"http://www.w3.org/1999/xlink\" xml:lang=\"id\" id=\"f645243a56224e4fb305e5fdd06b56ad-0\" class=\"displacy\" width=\"750\" height=\"312.0\" direction=\"ltr\" style=\"max-width: none; height: 312.0px; color: #000000; background: #ffffff; font-family: Arial; direction: ltr\">\n",
       "<text class=\"displacy-token\" fill=\"currentColor\" text-anchor=\"middle\" y=\"222.0\">\n",
       "    <tspan class=\"displacy-word\" fill=\"currentColor\" x=\"50\">Apakah</tspan>\n",
       "    <tspan class=\"displacy-tag\" dy=\"2em\" fill=\"currentColor\" x=\"50\">ADV</tspan>\n",
       "</text>\n",
       "\n",
       "<text class=\"displacy-token\" fill=\"currentColor\" text-anchor=\"middle\" y=\"222.0\">\n",
       "    <tspan class=\"displacy-word\" fill=\"currentColor\" x=\"225\">Anda</tspan>\n",
       "    <tspan class=\"displacy-tag\" dy=\"2em\" fill=\"currentColor\" x=\"225\">PRON</tspan>\n",
       "</text>\n",
       "\n",
       "<text class=\"displacy-token\" fill=\"currentColor\" text-anchor=\"middle\" y=\"222.0\">\n",
       "    <tspan class=\"displacy-word\" fill=\"currentColor\" x=\"400\">memiliki</tspan>\n",
       "    <tspan class=\"displacy-tag\" dy=\"2em\" fill=\"currentColor\" x=\"400\">VERB</tspan>\n",
       "</text>\n",
       "\n",
       "<text class=\"displacy-token\" fill=\"currentColor\" text-anchor=\"middle\" y=\"222.0\">\n",
       "    <tspan class=\"displacy-word\" fill=\"currentColor\" x=\"575\">nomor faks utama?</tspan>\n",
       "    <tspan class=\"displacy-tag\" dy=\"2em\" fill=\"currentColor\" x=\"575\">NOUN</tspan>\n",
       "</text>\n",
       "\n",
       "<g class=\"displacy-arrow\">\n",
       "    <path class=\"displacy-arc\" id=\"arrow-f645243a56224e4fb305e5fdd06b56ad-0-0\" stroke-width=\"2px\" d=\"M70,177.0 C70,2.0 400.0,2.0 400.0,177.0\" fill=\"none\" stroke=\"currentColor\"/>\n",
       "    <text dy=\"1.25em\" style=\"font-size: 0.8em; letter-spacing: 1px\">\n",
       "        <textPath xlink:href=\"#arrow-f645243a56224e4fb305e5fdd06b56ad-0-0\" class=\"displacy-label\" startOffset=\"50%\" side=\"left\" fill=\"currentColor\" text-anchor=\"middle\">advmod</textPath>\n",
       "    </text>\n",
       "    <path class=\"displacy-arrowhead\" d=\"M70,179.0 L62,167.0 78,167.0\" fill=\"currentColor\"/>\n",
       "</g>\n",
       "\n",
       "<g class=\"displacy-arrow\">\n",
       "    <path class=\"displacy-arc\" id=\"arrow-f645243a56224e4fb305e5fdd06b56ad-0-1\" stroke-width=\"2px\" d=\"M245,177.0 C245,89.5 395.0,89.5 395.0,177.0\" fill=\"none\" stroke=\"currentColor\"/>\n",
       "    <text dy=\"1.25em\" style=\"font-size: 0.8em; letter-spacing: 1px\">\n",
       "        <textPath xlink:href=\"#arrow-f645243a56224e4fb305e5fdd06b56ad-0-1\" class=\"displacy-label\" startOffset=\"50%\" side=\"left\" fill=\"currentColor\" text-anchor=\"middle\">nsubj</textPath>\n",
       "    </text>\n",
       "    <path class=\"displacy-arrowhead\" d=\"M245,179.0 L237,167.0 253,167.0\" fill=\"currentColor\"/>\n",
       "</g>\n",
       "\n",
       "<g class=\"displacy-arrow\">\n",
       "    <path class=\"displacy-arc\" id=\"arrow-f645243a56224e4fb305e5fdd06b56ad-0-2\" stroke-width=\"2px\" d=\"M420,177.0 C420,89.5 570.0,89.5 570.0,177.0\" fill=\"none\" stroke=\"currentColor\"/>\n",
       "    <text dy=\"1.25em\" style=\"font-size: 0.8em; letter-spacing: 1px\">\n",
       "        <textPath xlink:href=\"#arrow-f645243a56224e4fb305e5fdd06b56ad-0-2\" class=\"displacy-label\" startOffset=\"50%\" side=\"left\" fill=\"currentColor\" text-anchor=\"middle\">obj</textPath>\n",
       "    </text>\n",
       "    <path class=\"displacy-arrowhead\" d=\"M570.0,179.0 L578.0,167.0 562.0,167.0\" fill=\"currentColor\"/>\n",
       "</g>\n",
       "</svg>"
      ],
      "text/plain": [
       "<IPython.core.display.HTML object>"
      ]
     },
     "metadata": {},
     "output_type": "display_data"
    }
   ],
   "source": [
    "from sagas.nlu.analspa import analspa\n",
    "spa=analspa('id')\n",
    "spa.add_pats(\"TerminologyList\", [\"nomor faks utama\"])\n",
    "doc,terms=spa.parse('Apakah Anda memiliki nomor faks utama?')\n",
    "print(terms, doc.ents)\n",
    "spa.vis(doc)"
   ]
  },
  {
   "cell_type": "code",
   "execution_count": 8,
   "metadata": {
    "ExecuteTime": {
     "end_time": "2020-04-20T14:58:36.342298Z",
     "start_time": "2020-04-20T14:58:36.335192Z"
    }
   },
   "outputs": [
    {
     "name": "stdout",
     "output_type": "stream",
     "text": [
      "0 Apakah 2 advmod\n",
      "1 Anda 2 nsubj\n",
      "2 memiliki 2 root\n",
      "\troot\n",
      "3 nomor faks utama 2 obj\n",
      "4 ? 2 punct\n"
     ]
    }
   ],
   "source": [
    "for token in doc:\n",
    "    print(token.i, token.text, token.head.i, token.dep_)\n",
    "    if token.dep_.upper() == 'ROOT':\n",
    "        print('\\troot')    "
   ]
  },
  {
   "cell_type": "code",
   "execution_count": 3,
   "metadata": {
    "ExecuteTime": {
     "end_time": "2020-04-22T09:40:46.777407Z",
     "start_time": "2020-04-22T09:40:46.152559Z"
    }
   },
   "outputs": [
    {
     "name": "stdout",
     "output_type": "stream",
     "text": [
      "[{'term': 'typ', 'value': '主要传真号码'}, {'term': 'TerminologyList', 'value': '主要传真号码'}] (北京,)\n"
     ]
    },
    {
     "data": {
      "text/html": [
       "<span class=\"tex2jax_ignore\"><svg xmlns=\"http://www.w3.org/2000/svg\" xmlns:xlink=\"http://www.w3.org/1999/xlink\" xml:lang=\"\" id=\"f84d7365126f46029788f14474111cf7-0\" class=\"displacy\" width=\"1625\" height=\"487.0\" direction=\"ltr\" style=\"max-width: none; height: 487.0px; color: #000000; background: #ffffff; font-family: Arial; direction: ltr\">\n",
       "<text class=\"displacy-token\" fill=\"currentColor\" text-anchor=\"middle\" y=\"397.0\">\n",
       "    <tspan class=\"displacy-word\" fill=\"currentColor\" x=\"50\">你</tspan>\n",
       "    <tspan class=\"displacy-tag\" dy=\"2em\" fill=\"currentColor\" x=\"50\">PRON</tspan>\n",
       "</text>\n",
       "\n",
       "<text class=\"displacy-token\" fill=\"currentColor\" text-anchor=\"middle\" y=\"397.0\">\n",
       "    <tspan class=\"displacy-word\" fill=\"currentColor\" x=\"225\">在</tspan>\n",
       "    <tspan class=\"displacy-tag\" dy=\"2em\" fill=\"currentColor\" x=\"225\">VERB</tspan>\n",
       "</text>\n",
       "\n",
       "<text class=\"displacy-token\" fill=\"currentColor\" text-anchor=\"middle\" y=\"397.0\">\n",
       "    <tspan class=\"displacy-word\" fill=\"currentColor\" x=\"400\">北京</tspan>\n",
       "    <tspan class=\"displacy-tag\" dy=\"2em\" fill=\"currentColor\" x=\"400\">PROPN</tspan>\n",
       "</text>\n",
       "\n",
       "<text class=\"displacy-token\" fill=\"currentColor\" text-anchor=\"middle\" y=\"397.0\">\n",
       "    <tspan class=\"displacy-word\" fill=\"currentColor\" x=\"575\">的</tspan>\n",
       "    <tspan class=\"displacy-tag\" dy=\"2em\" fill=\"currentColor\" x=\"575\">PART</tspan>\n",
       "</text>\n",
       "\n",
       "<text class=\"displacy-token\" fill=\"currentColor\" text-anchor=\"middle\" y=\"397.0\">\n",
       "    <tspan class=\"displacy-word\" fill=\"currentColor\" x=\"750\">公司</tspan>\n",
       "    <tspan class=\"displacy-tag\" dy=\"2em\" fill=\"currentColor\" x=\"750\">NOUN</tspan>\n",
       "</text>\n",
       "\n",
       "<text class=\"displacy-token\" fill=\"currentColor\" text-anchor=\"middle\" y=\"397.0\">\n",
       "    <tspan class=\"displacy-word\" fill=\"currentColor\" x=\"925\">的</tspan>\n",
       "    <tspan class=\"displacy-tag\" dy=\"2em\" fill=\"currentColor\" x=\"925\">PART</tspan>\n",
       "</text>\n",
       "\n",
       "<text class=\"displacy-token\" fill=\"currentColor\" text-anchor=\"middle\" y=\"397.0\">\n",
       "    <tspan class=\"displacy-word\" fill=\"currentColor\" x=\"1100\">主要传真号码</tspan>\n",
       "    <tspan class=\"displacy-tag\" dy=\"2em\" fill=\"currentColor\" x=\"1100\">NOUN</tspan>\n",
       "</text>\n",
       "\n",
       "<text class=\"displacy-token\" fill=\"currentColor\" text-anchor=\"middle\" y=\"397.0\">\n",
       "    <tspan class=\"displacy-word\" fill=\"currentColor\" x=\"1275\">是</tspan>\n",
       "    <tspan class=\"displacy-tag\" dy=\"2em\" fill=\"currentColor\" x=\"1275\">VERB</tspan>\n",
       "</text>\n",
       "\n",
       "<text class=\"displacy-token\" fill=\"currentColor\" text-anchor=\"middle\" y=\"397.0\">\n",
       "    <tspan class=\"displacy-word\" fill=\"currentColor\" x=\"1450\">什么</tspan>\n",
       "    <tspan class=\"displacy-tag\" dy=\"2em\" fill=\"currentColor\" x=\"1450\">PRON</tspan>\n",
       "</text>\n",
       "\n",
       "<g class=\"displacy-arrow\">\n",
       "    <path class=\"displacy-arc\" id=\"arrow-f84d7365126f46029788f14474111cf7-0-0\" stroke-width=\"2px\" d=\"M70,352.0 C70,2.0 750.0,2.0 750.0,352.0\" fill=\"none\" stroke=\"currentColor\"/>\n",
       "    <text dy=\"1.25em\" style=\"font-size: 0.8em; letter-spacing: 1px\">\n",
       "        <textPath xlink:href=\"#arrow-f84d7365126f46029788f14474111cf7-0-0\" class=\"displacy-label\" startOffset=\"50%\" side=\"left\" fill=\"currentColor\" text-anchor=\"middle\">nmod</textPath>\n",
       "    </text>\n",
       "    <path class=\"displacy-arrowhead\" d=\"M70,354.0 L62,342.0 78,342.0\" fill=\"currentColor\"/>\n",
       "</g>\n",
       "\n",
       "<g class=\"displacy-arrow\">\n",
       "    <path class=\"displacy-arc\" id=\"arrow-f84d7365126f46029788f14474111cf7-0-1\" stroke-width=\"2px\" d=\"M245,352.0 C245,89.5 745.0,89.5 745.0,352.0\" fill=\"none\" stroke=\"currentColor\"/>\n",
       "    <text dy=\"1.25em\" style=\"font-size: 0.8em; letter-spacing: 1px\">\n",
       "        <textPath xlink:href=\"#arrow-f84d7365126f46029788f14474111cf7-0-1\" class=\"displacy-label\" startOffset=\"50%\" side=\"left\" fill=\"currentColor\" text-anchor=\"middle\">acl:relcl</textPath>\n",
       "    </text>\n",
       "    <path class=\"displacy-arrowhead\" d=\"M245,354.0 L237,342.0 253,342.0\" fill=\"currentColor\"/>\n",
       "</g>\n",
       "\n",
       "<g class=\"displacy-arrow\">\n",
       "    <path class=\"displacy-arc\" id=\"arrow-f84d7365126f46029788f14474111cf7-0-2\" stroke-width=\"2px\" d=\"M245,352.0 C245,264.5 385.0,264.5 385.0,352.0\" fill=\"none\" stroke=\"currentColor\"/>\n",
       "    <text dy=\"1.25em\" style=\"font-size: 0.8em; letter-spacing: 1px\">\n",
       "        <textPath xlink:href=\"#arrow-f84d7365126f46029788f14474111cf7-0-2\" class=\"displacy-label\" startOffset=\"50%\" side=\"left\" fill=\"currentColor\" text-anchor=\"middle\">obj</textPath>\n",
       "    </text>\n",
       "    <path class=\"displacy-arrowhead\" d=\"M385.0,354.0 L393.0,342.0 377.0,342.0\" fill=\"currentColor\"/>\n",
       "</g>\n",
       "\n",
       "<g class=\"displacy-arrow\">\n",
       "    <path class=\"displacy-arc\" id=\"arrow-f84d7365126f46029788f14474111cf7-0-3\" stroke-width=\"2px\" d=\"M245,352.0 C245,177.0 565.0,177.0 565.0,352.0\" fill=\"none\" stroke=\"currentColor\"/>\n",
       "    <text dy=\"1.25em\" style=\"font-size: 0.8em; letter-spacing: 1px\">\n",
       "        <textPath xlink:href=\"#arrow-f84d7365126f46029788f14474111cf7-0-3\" class=\"displacy-label\" startOffset=\"50%\" side=\"left\" fill=\"currentColor\" text-anchor=\"middle\">mark:relcl</textPath>\n",
       "    </text>\n",
       "    <path class=\"displacy-arrowhead\" d=\"M565.0,354.0 L573.0,342.0 557.0,342.0\" fill=\"currentColor\"/>\n",
       "</g>\n",
       "\n",
       "<g class=\"displacy-arrow\">\n",
       "    <path class=\"displacy-arc\" id=\"arrow-f84d7365126f46029788f14474111cf7-0-4\" stroke-width=\"2px\" d=\"M770,352.0 C770,177.0 1090.0,177.0 1090.0,352.0\" fill=\"none\" stroke=\"currentColor\"/>\n",
       "    <text dy=\"1.25em\" style=\"font-size: 0.8em; letter-spacing: 1px\">\n",
       "        <textPath xlink:href=\"#arrow-f84d7365126f46029788f14474111cf7-0-4\" class=\"displacy-label\" startOffset=\"50%\" side=\"left\" fill=\"currentColor\" text-anchor=\"middle\">nmod</textPath>\n",
       "    </text>\n",
       "    <path class=\"displacy-arrowhead\" d=\"M770,354.0 L762,342.0 778,342.0\" fill=\"currentColor\"/>\n",
       "</g>\n",
       "\n",
       "<g class=\"displacy-arrow\">\n",
       "    <path class=\"displacy-arc\" id=\"arrow-f84d7365126f46029788f14474111cf7-0-5\" stroke-width=\"2px\" d=\"M770,352.0 C770,264.5 910.0,264.5 910.0,352.0\" fill=\"none\" stroke=\"currentColor\"/>\n",
       "    <text dy=\"1.25em\" style=\"font-size: 0.8em; letter-spacing: 1px\">\n",
       "        <textPath xlink:href=\"#arrow-f84d7365126f46029788f14474111cf7-0-5\" class=\"displacy-label\" startOffset=\"50%\" side=\"left\" fill=\"currentColor\" text-anchor=\"middle\">case:dec</textPath>\n",
       "    </text>\n",
       "    <path class=\"displacy-arrowhead\" d=\"M910.0,354.0 L918.0,342.0 902.0,342.0\" fill=\"currentColor\"/>\n",
       "</g>\n",
       "\n",
       "<g class=\"displacy-arrow\">\n",
       "    <path class=\"displacy-arc\" id=\"arrow-f84d7365126f46029788f14474111cf7-0-6\" stroke-width=\"2px\" d=\"M1120,352.0 C1120,264.5 1260.0,264.5 1260.0,352.0\" fill=\"none\" stroke=\"currentColor\"/>\n",
       "    <text dy=\"1.25em\" style=\"font-size: 0.8em; letter-spacing: 1px\">\n",
       "        <textPath xlink:href=\"#arrow-f84d7365126f46029788f14474111cf7-0-6\" class=\"displacy-label\" startOffset=\"50%\" side=\"left\" fill=\"currentColor\" text-anchor=\"middle\">nsubj</textPath>\n",
       "    </text>\n",
       "    <path class=\"displacy-arrowhead\" d=\"M1120,354.0 L1112,342.0 1128,342.0\" fill=\"currentColor\"/>\n",
       "</g>\n",
       "\n",
       "<g class=\"displacy-arrow\">\n",
       "    <path class=\"displacy-arc\" id=\"arrow-f84d7365126f46029788f14474111cf7-0-7\" stroke-width=\"2px\" d=\"M1295,352.0 C1295,264.5 1435.0,264.5 1435.0,352.0\" fill=\"none\" stroke=\"currentColor\"/>\n",
       "    <text dy=\"1.25em\" style=\"font-size: 0.8em; letter-spacing: 1px\">\n",
       "        <textPath xlink:href=\"#arrow-f84d7365126f46029788f14474111cf7-0-7\" class=\"displacy-label\" startOffset=\"50%\" side=\"left\" fill=\"currentColor\" text-anchor=\"middle\">obj</textPath>\n",
       "    </text>\n",
       "    <path class=\"displacy-arrowhead\" d=\"M1435.0,354.0 L1443.0,342.0 1427.0,342.0\" fill=\"currentColor\"/>\n",
       "</g>\n",
       "</svg></span>"
      ],
      "text/plain": [
       "<IPython.core.display.HTML object>"
      ]
     },
     "metadata": {},
     "output_type": "display_data"
    }
   ],
   "source": [
    "from sagas.nlu.analspa import AnalSpa\n",
    "spa=AnalSpa('zh')\n",
    "spa.add_pats(\"TerminologyList\", [\"主要传真号码\"])\n",
    "doc,terms=spa.parse('你在北京的公司的主要传真号码是什么')\n",
    "print(terms, doc.ents)\n",
    "spa.vis(doc)"
   ]
  },
  {
   "cell_type": "code",
   "execution_count": 5,
   "metadata": {
    "ExecuteTime": {
     "end_time": "2020-04-22T09:41:54.607308Z",
     "start_time": "2020-04-22T09:41:54.240174Z"
    }
   },
   "outputs": [
    {
     "name": "stdout",
     "output_type": "stream",
     "text": [
      "+----+---------+--------------+--------------+--------+--------+--------------+\n",
      "|    |   index | text         | lemma        | upos   | xpos   | entity       |\n",
      "|----+---------+--------------+--------------+--------+--------+--------------|\n",
      "|  0 |       1 | 你           | 你           | PRON   | PRP    | ['', '']     |\n",
      "|  1 |       2 | 北京         | 北京         | PROPN  | NNP    | ['GPE', 'B'] |\n",
      "|  2 |       3 | 的           | 的           | PART   | DEC    | ['', '']     |\n",
      "|  3 |       4 | 公司         | 公司         | NOUN   | NN     | ['', '']     |\n",
      "|  4 |       5 | 的           | 的           | PART   | DEC    | ['', '']     |\n",
      "|  5 |       6 | 主要传真号码 | 主要传真号码 | NOUN   | NN     | ['', '']     |\n",
      "|  6 |       7 | 是           | 是           | VERB   | VC     | ['', '']     |\n",
      "|  7 |       8 | 什么         | 什么         | PRON   | WP     | ['', '']     |\n",
      "+----+---------+--------------+--------------+--------+--------+--------------+\n"
     ]
    },
    {
     "data": {
      "image/svg+xml": [
       "<?xml version=\"1.0\" encoding=\"UTF-8\" standalone=\"no\"?>\n",
       "<!DOCTYPE svg PUBLIC \"-//W3C//DTD SVG 1.1//EN\"\n",
       " \"http://www.w3.org/Graphics/SVG/1.1/DTD/svg11.dtd\">\n",
       "<!-- Generated by graphviz version 2.40.1 (20161225.0304)\n",
       " -->\n",
       "<!-- Title: deps Pages: 1 -->\n",
       "<svg width=\"576pt\" height=\"115pt\"\n",
       " viewBox=\"0.00 0.00 576.00 115.04\" xmlns=\"http://www.w3.org/2000/svg\" xmlns:xlink=\"http://www.w3.org/1999/xlink\">\n",
       "<g id=\"graph0\" class=\"graph\" transform=\"scale(.7143 .7143) rotate(0) translate(4 157.0457)\">\n",
       "<title>deps</title>\n",
       "<polygon fill=\"#ffffff\" stroke=\"transparent\" points=\"-4,4 -4,-157.0457 802.3571,-157.0457 802.3571,4 -4,4\"/>\n",
       "<!-- 你 -->\n",
       "<g id=\"node1\" class=\"node\">\n",
       "<title>你</title>\n",
       "<polygon fill=\"none\" stroke=\"#ff0000\" stroke-dasharray=\"5,2\" points=\"630.3928,-114.0307 632.1689,-114.1377 633.9266,-114.2978 635.6588,-114.5106 637.3583,-114.7756 639.0186,-115.0919 640.6328,-115.4588 642.1949,-115.8751 643.6989,-116.3398 645.1391,-116.8517 646.5103,-117.4092 647.8079,-118.0109 649.0275,-118.6551 650.1652,-119.34 651.2177,-120.0638 652.182,-120.8246 653.0558,-121.6201 653.8372,-122.4482 654.5249,-123.3067 655.1179,-124.1932 655.6158,-125.1053 656.0188,-126.0405 656.3275,-126.9961 656.5428,-127.9697 656.6661,-128.9584 656.6993,-129.9597 656.6445,-130.9708 656.5043,-131.9888 656.2814,-133.011 655.979,-134.0347 655.6003,-135.0569 655.1489,-136.075 654.6285,-137.086 654.0427,-138.0873 653.3956,-139.0761 652.691,-140.0496 651.9328,-141.0053 651.1251,-141.9404 650.2716,-142.8525 649.3762,-143.739 648.4426,-144.5975 647.4742,-145.4256 646.4747,-146.2212 645.4471,-146.9819 644.3947,-147.7057 643.3202,-148.3907 642.2264,-149.0349 641.1157,-149.6366 639.9904,-150.1941 638.8526,-150.7059 637.7042,-151.1706 636.5468,-151.587 635.3821,-151.9538 634.2112,-152.2701 633.0354,-152.5351 631.8558,-152.7479 630.6733,-152.908 629.4889,-153.015 628.3033,-153.0686 627.1173,-153.0686 625.9317,-153.015 624.7473,-152.908 623.5648,-152.7479 622.3852,-152.5351 621.2094,-152.2701 620.0386,-151.9538 618.8738,-151.587 617.7164,-151.1706 616.568,-150.7059 615.4302,-150.1941 614.3049,-149.6366 613.1942,-149.0349 612.1004,-148.3907 611.0259,-147.7057 609.9735,-146.9819 608.9459,-146.2212 607.9464,-145.4256 606.9781,-144.5975 606.0444,-143.739 605.149,-142.8525 604.2955,-141.9404 603.4878,-141.0053 602.7296,-140.0496 602.025,-139.0761 601.3779,-138.0873 600.7922,-137.086 600.2717,-136.075 599.8203,-135.0569 599.4416,-134.0347 599.1392,-133.011 598.9164,-131.9888 598.7761,-130.9708 598.7213,-129.9597 598.7545,-128.9584 598.8778,-127.9697 599.0931,-126.9961 599.4018,-126.0405 599.8048,-125.1053 600.3028,-124.1932 600.8957,-123.3067 601.5834,-122.4482 602.3648,-121.6201 603.2386,-120.8246 604.2029,-120.0638 605.2554,-119.34 606.3931,-118.6551 607.6127,-118.0109 608.9103,-117.4092 610.2815,-116.8517 611.7218,-116.3398 613.2257,-115.8751 614.7878,-115.4588 616.4021,-115.0919 618.0623,-114.7756 619.7619,-114.5106 621.494,-114.2978 623.2517,-114.1377 625.0278,-114.0307 626.8149,-113.9771 628.6057,-113.9771 630.3928,-114.0307\"/>\n",
       "<text text-anchor=\"middle\" x=\"627.7103\" y=\"-132.1229\" font-family=\"Calibri\" font-size=\"14.00\" fill=\"#000000\">你</text>\n",
       "</g>\n",
       "<!-- 北京 -->\n",
       "<g id=\"node2\" class=\"node\">\n",
       "<title>北京</title>\n",
       "<polygon fill=\"none\" stroke=\"#000000\" points=\"630.7887,-57.0307 632.8268,-57.1377 634.8439,-57.2978 636.8316,-57.5106 638.782,-57.7756 640.6872,-58.0919 642.5397,-58.4588 644.3323,-58.8751 646.0582,-59.3398 647.7109,-59.8517 649.2845,-60.4092 650.7736,-61.0109 652.1732,-61.6551 653.4787,-62.34 654.6865,-63.0638 655.7931,-63.8246 656.7959,-64.6201 657.6926,-65.4482 658.4817,-66.3067 659.1622,-67.1932 659.7336,-68.1053 660.1961,-69.0405 660.5503,-69.9961 660.7974,-70.9697 660.9389,-71.9584 660.977,-72.9597 660.9141,-73.9708 660.7532,-74.9888 660.4974,-76.011 660.1504,-77.0347 659.7158,-78.0569 659.1978,-79.075 658.6006,-80.086 657.9284,-81.0873 657.1858,-82.0761 656.3772,-83.0496 655.5072,-84.0053 654.5802,-84.9404 653.6008,-85.8525 652.5733,-86.739 651.5019,-87.5975 650.3907,-88.4256 649.2436,-89.2212 648.0644,-89.9819 646.8567,-90.7057 645.6236,-91.3907 644.3684,-92.0349 643.0938,-92.6366 641.8025,-93.1941 640.4968,-93.7059 639.1789,-94.1706 637.8508,-94.587 636.5141,-94.9538 635.1704,-95.2701 633.8212,-95.5351 632.4675,-95.7479 631.1106,-95.908 629.7513,-96.015 628.3908,-96.0686 627.0298,-96.0686 625.6693,-96.015 624.3101,-95.908 622.9531,-95.7479 621.5994,-95.5351 620.2502,-95.2701 618.9065,-94.9538 617.5698,-94.587 616.2417,-94.1706 614.9238,-93.7059 613.6181,-93.1941 612.3268,-92.6366 611.0522,-92.0349 609.797,-91.3907 608.5639,-90.7057 607.3562,-89.9819 606.177,-89.2212 605.0299,-88.4256 603.9187,-87.5975 602.8473,-86.739 601.8198,-85.8525 600.8404,-84.9404 599.9134,-84.0053 599.0434,-83.0496 598.2348,-82.0761 597.4922,-81.0873 596.82,-80.086 596.2228,-79.075 595.7048,-78.0569 595.2702,-77.0347 594.9232,-76.011 594.6674,-74.9888 594.5065,-73.9708 594.4436,-72.9597 594.4817,-71.9584 594.6232,-70.9697 594.8703,-69.9961 595.2245,-69.0405 595.687,-68.1053 596.2584,-67.1932 596.9389,-66.3067 597.728,-65.4482 598.6247,-64.6201 599.6275,-63.8246 600.7341,-63.0638 601.9419,-62.34 603.2475,-61.6551 604.647,-61.0109 606.1361,-60.4092 607.7097,-59.8517 609.3624,-59.3398 611.0883,-58.8751 612.8809,-58.4588 614.7334,-58.0919 616.6386,-57.7756 618.589,-57.5106 620.5767,-57.2978 622.5938,-57.1377 624.6319,-57.0307 626.6828,-56.9771 628.7378,-56.9771 630.7887,-57.0307\"/>\n",
       "<text text-anchor=\"middle\" x=\"627.7103\" y=\"-75.1229\" font-family=\"Calibri\" font-size=\"14.00\" fill=\"#000000\">北京</text>\n",
       "</g>\n",
       "<!-- 的 -->\n",
       "<g id=\"node3\" class=\"node\">\n",
       "<title>的</title>\n",
       "<polygon fill=\"none\" stroke=\"#000000\" points=\"772.2962,-24.0307 774.0723,-24.1377 775.83,-24.2978 777.5621,-24.5106 779.2617,-24.7756 780.9219,-25.0919 782.5362,-25.4588 784.0983,-25.8751 785.6022,-26.3398 787.0424,-26.8517 788.4137,-27.4092 789.7113,-28.0109 790.9309,-28.6551 792.0686,-29.34 793.1211,-30.0638 794.0854,-30.8246 794.9592,-31.6201 795.7406,-32.4482 796.4282,-33.3067 797.0212,-34.1932 797.5192,-35.1053 797.9222,-36.0405 798.2308,-36.9961 798.4461,-37.9697 798.5694,-38.9584 798.6026,-39.9597 798.5478,-40.9708 798.4076,-41.9888 798.1847,-43.011 797.8823,-44.0347 797.5037,-45.0569 797.0523,-46.075 796.5318,-47.086 795.9461,-48.0873 795.2989,-49.0761 794.5943,-50.0496 793.8362,-51.0053 793.0285,-51.9404 792.175,-52.8525 791.2796,-53.739 790.3459,-54.5975 789.3776,-55.4256 788.378,-56.2212 787.3505,-56.9819 786.298,-57.7057 785.2236,-58.3907 784.1297,-59.0349 783.019,-59.6366 781.8938,-60.1941 780.756,-60.7059 779.6076,-61.1706 778.4502,-61.587 777.2854,-61.9538 776.1145,-62.2701 774.9387,-62.5351 773.7591,-62.7479 772.5767,-62.908 771.3922,-63.015 770.2067,-63.0686 769.0207,-63.0686 767.8351,-63.015 766.6506,-62.908 765.4682,-62.7479 764.2886,-62.5351 763.1128,-62.2701 761.9419,-61.9538 760.7771,-61.587 759.6198,-61.1706 758.4713,-60.7059 757.3336,-60.1941 756.2083,-59.6366 755.0976,-59.0349 754.0038,-58.3907 752.9293,-57.7057 751.8768,-56.9819 750.8493,-56.2212 749.8497,-55.4256 748.8814,-54.5975 747.9478,-53.739 747.0523,-52.8525 746.1989,-51.9404 745.3911,-51.0053 744.633,-50.0496 743.9284,-49.0761 743.2812,-48.0873 742.6955,-47.086 742.1751,-46.075 741.7237,-45.0569 741.345,-44.0347 741.0426,-43.011 740.8197,-41.9888 740.6795,-40.9708 740.6247,-39.9597 740.6579,-38.9584 740.7812,-37.9697 740.9965,-36.9961 741.3051,-36.0405 741.7082,-35.1053 742.2061,-34.1932 742.7991,-33.3067 743.4867,-32.4482 744.2681,-31.6201 745.142,-30.8246 746.1063,-30.0638 747.1587,-29.34 748.2964,-28.6551 749.516,-28.0109 750.8136,-27.4092 752.1849,-26.8517 753.6251,-26.3398 755.129,-25.8751 756.6911,-25.4588 758.3054,-25.0919 759.9656,-24.7756 761.6652,-24.5106 763.3974,-24.2978 765.1551,-24.1377 766.9311,-24.0307 768.7183,-23.9771 770.5091,-23.9771 772.2962,-24.0307\"/>\n",
       "<text text-anchor=\"middle\" x=\"769.6137\" y=\"-42.1229\" font-family=\"Calibri\" font-size=\"14.00\" fill=\"#000000\">的</text>\n",
       "</g>\n",
       "<!-- 北京&#45;&gt;的 -->\n",
       "<g id=\"edge3\" class=\"edge\">\n",
       "<title>北京&#45;&gt;的</title>\n",
       "<path fill=\"none\" stroke=\"#000000\" d=\"M660.2658,-68.952C682.2628,-63.8365 711.3059,-57.0825 733.9316,-51.8208\"/>\n",
       "<polygon fill=\"#000000\" stroke=\"#000000\" points=\"734.88,-55.1937 743.8273,-49.5195 733.2944,-48.3757 734.88,-55.1937\"/>\n",
       "<text text-anchor=\"middle\" x=\"700.8568\" y=\"-66.7229\" font-family=\"Calibri\" font-size=\"11.00\" fill=\"#000000\">case:dec</text>\n",
       "</g>\n",
       "<!-- 公司 -->\n",
       "<g id=\"node4\" class=\"node\">\n",
       "<title>公司</title>\n",
       "<polygon fill=\"none\" stroke=\"#0000ff\" points=\"501.0065,-57.0307 503.0446,-57.1377 505.0617,-57.2978 507.0494,-57.5106 508.9998,-57.7756 510.905,-58.0919 512.7575,-58.4588 514.5501,-58.8751 516.2759,-59.3398 517.9287,-59.8517 519.5023,-60.4092 520.9914,-61.0109 522.3909,-61.6551 523.6965,-62.34 524.9043,-63.0638 526.0109,-63.8246 527.0136,-64.6201 527.9104,-65.4482 528.6995,-66.3067 529.38,-67.1932 529.9514,-68.1053 530.4139,-69.0405 530.7681,-69.9961 531.0151,-70.9697 531.1567,-71.9584 531.1947,-72.9597 531.1319,-73.9708 530.9709,-74.9888 530.7152,-76.011 530.3681,-77.0347 529.9336,-78.0569 529.4156,-79.075 528.8183,-80.086 528.1462,-81.0873 527.4035,-82.0761 526.595,-83.0496 525.725,-84.0053 524.798,-84.9404 523.8186,-85.8525 522.7911,-86.739 521.7196,-87.5975 520.6084,-88.4256 519.4614,-89.2212 518.2822,-89.9819 517.0744,-90.7057 515.8414,-91.3907 514.5862,-92.0349 513.3116,-92.6366 512.0203,-93.1941 510.7146,-93.7059 509.3967,-94.1706 508.0686,-94.587 506.7319,-94.9538 505.3882,-95.2701 504.0389,-95.5351 502.6853,-95.7479 501.3283,-95.908 499.9691,-96.015 498.6086,-96.0686 497.2476,-96.0686 495.887,-96.015 494.5278,-95.908 493.1709,-95.7479 491.8172,-95.5351 490.4679,-95.2701 489.1243,-94.9538 487.7876,-94.587 486.4594,-94.1706 485.1416,-93.7059 483.8359,-93.1941 482.5446,-92.6366 481.27,-92.0349 480.0147,-91.3907 478.7817,-90.7057 477.5739,-89.9819 476.3948,-89.2212 475.2477,-88.4256 474.1365,-87.5975 473.0651,-86.739 472.0375,-85.8525 471.0581,-84.9404 470.1312,-84.0053 469.2612,-83.0496 468.4526,-82.0761 467.71,-81.0873 467.0378,-80.086 466.4406,-79.075 465.9226,-78.0569 465.488,-77.0347 465.141,-76.011 464.8852,-74.9888 464.7243,-73.9708 464.6614,-72.9597 464.6995,-71.9584 464.841,-70.9697 465.0881,-69.9961 465.4423,-69.0405 465.9048,-68.1053 466.4762,-67.1932 467.1567,-66.3067 467.9458,-65.4482 468.8425,-64.6201 469.8452,-63.8246 470.9519,-63.0638 472.1596,-62.34 473.4652,-61.6551 474.8648,-61.0109 476.3538,-60.4092 477.9275,-59.8517 479.5802,-59.3398 481.3061,-58.8751 483.0986,-58.4588 484.9511,-58.0919 486.8563,-57.7756 488.8067,-57.5106 490.7945,-57.2978 492.8116,-57.1377 494.8497,-57.0307 496.9005,-56.9771 498.9556,-56.9771 501.0065,-57.0307\"/>\n",
       "<text text-anchor=\"middle\" x=\"497.9281\" y=\"-75.1229\" font-family=\"Calibri\" font-size=\"14.00\" fill=\"#000000\">公司</text>\n",
       "</g>\n",
       "<!-- 公司&#45;&gt;你 -->\n",
       "<g id=\"edge1\" class=\"edge\">\n",
       "<title>公司&#45;&gt;你</title>\n",
       "<path fill=\"none\" stroke=\"#000000\" d=\"M522.3391,-87.2441C542.0394,-95.8964 570.0274,-108.1887 592.2078,-117.9302\"/>\n",
       "<polygon fill=\"#000000\" stroke=\"#000000\" points=\"591.0641,-121.2506 601.6274,-122.0673 593.879,-114.8415 591.0641,-121.2506\"/>\n",
       "<text text-anchor=\"middle\" x=\"562.8192\" y=\"-111.7229\" font-family=\"Calibri\" font-size=\"11.00\" fill=\"#000000\">nmod</text>\n",
       "</g>\n",
       "<!-- 公司&#45;&gt;北京 -->\n",
       "<g id=\"edge2\" class=\"edge\">\n",
       "<title>公司&#45;&gt;北京</title>\n",
       "<path fill=\"none\" stroke=\"#000000\" d=\"M530.6776,-76.5229C547.1239,-76.5229 567.2552,-76.5229 584.9095,-76.5229\"/>\n",
       "<polygon fill=\"#000000\" stroke=\"#000000\" points=\"584.9713,-80.023 594.9712,-76.5229 584.9712,-73.023 584.9713,-80.023\"/>\n",
       "<text text-anchor=\"middle\" x=\"562.8192\" y=\"-78.7229\" font-family=\"Calibri\" font-size=\"11.00\" fill=\"#000000\">nmod</text>\n",
       "</g>\n",
       "<!-- 公司&#45;&gt;的 -->\n",
       "<g id=\"edge5\" class=\"edge\">\n",
       "<title>公司&#45;&gt;的</title>\n",
       "<path fill=\"none\" stroke=\"#000000\" d=\"M524.1173,-62.38C543.0742,-52.9773 569.6415,-41.4791 594.5772,-36.5229 640.7307,-27.3494 695.0347,-31.822 730.7769,-36.7963\"/>\n",
       "<polygon fill=\"#000000\" stroke=\"#000000\" points=\"730.3899,-40.2769 740.7932,-38.2713 731.4099,-33.3516 730.3899,-40.2769\"/>\n",
       "<text text-anchor=\"middle\" x=\"627.7103\" y=\"-38.7229\" font-family=\"Calibri\" font-size=\"11.00\" fill=\"#000000\">case:dec</text>\n",
       "</g>\n",
       "<!-- 主要传真号码 -->\n",
       "<g id=\"node5\" class=\"node\">\n",
       "<title>主要传真号码</title>\n",
       "<polygon fill=\"none\" stroke=\"#0000ff\" points=\"332.9265,-57.0307 337.5279,-57.1377 342.0818,-57.2978 346.5695,-57.5106 350.9729,-57.7756 355.2742,-58.0919 359.4565,-58.4588 363.5036,-58.8751 367.4,-59.3398 371.1314,-59.8517 374.6841,-60.4092 378.046,-61.0109 381.2057,-61.6551 384.1533,-62.34 386.88,-63.0638 389.3784,-63.8246 391.6423,-64.6201 393.6668,-65.4482 395.4483,-66.3067 396.9846,-67.1932 398.2748,-68.1053 399.3189,-69.0405 400.1186,-69.9961 400.6764,-70.9697 400.9959,-71.9584 401.0818,-72.9597 400.9399,-73.9708 400.5766,-74.9888 399.9992,-76.011 399.2156,-77.0347 398.2346,-78.0569 397.0651,-79.075 395.7167,-80.086 394.1992,-81.0873 392.5226,-82.0761 390.6971,-83.0496 388.7329,-84.0053 386.6401,-84.9404 384.4289,-85.8525 382.1091,-86.739 379.6901,-87.5975 377.1814,-88.4256 374.5917,-89.2212 371.9295,-89.9819 369.2028,-90.7057 366.419,-91.3907 363.5851,-92.0349 360.7075,-92.6366 357.7921,-93.1941 354.8443,-93.7059 351.869,-94.1706 348.8704,-94.587 345.8526,-94.9538 342.8191,-95.2701 339.7728,-95.5351 336.7167,-95.7479 333.6532,-95.908 330.5845,-96.015 327.5128,-96.0686 324.4402,-96.0686 321.3685,-96.015 318.2998,-95.908 315.2363,-95.7479 312.1801,-95.5351 309.1339,-95.2701 306.1003,-94.9538 303.0826,-94.587 300.084,-94.1706 297.1087,-93.7059 294.1609,-93.1941 291.2455,-92.6366 288.3679,-92.0349 285.534,-91.3907 282.7502,-90.7057 280.0234,-89.9819 277.3613,-89.2212 274.7716,-88.4256 272.2628,-87.5975 269.8439,-86.739 267.5241,-85.8525 265.3129,-84.9404 263.2201,-84.0053 261.2559,-83.0496 259.4304,-82.0761 257.7538,-81.0873 256.2363,-80.086 254.8879,-79.075 253.7184,-78.0569 252.7373,-77.0347 251.9538,-76.011 251.3764,-74.9888 251.0131,-73.9708 250.8712,-72.9597 250.9571,-71.9584 251.2766,-70.9697 251.8344,-69.9961 252.634,-69.0405 253.6782,-68.1053 254.9683,-67.1932 256.5047,-66.3067 258.2862,-65.4482 260.3107,-64.6201 262.5746,-63.8246 265.073,-63.0638 267.7997,-62.34 270.7473,-61.6551 273.907,-61.0109 277.2689,-60.4092 280.8216,-59.8517 284.5529,-59.3398 288.4494,-58.8751 292.4965,-58.4588 296.6788,-58.0919 300.9801,-57.7756 305.3835,-57.5106 309.8712,-57.2978 314.425,-57.1377 319.0265,-57.0307 323.6566,-56.9771 328.2963,-56.9771 332.9265,-57.0307\"/>\n",
       "<text text-anchor=\"middle\" x=\"325.9765\" y=\"-75.1229\" font-family=\"Calibri\" font-size=\"14.00\" fill=\"#000000\">主要传真号码</text>\n",
       "</g>\n",
       "<!-- 主要传真号码&#45;&gt;公司 -->\n",
       "<g id=\"edge4\" class=\"edge\">\n",
       "<title>主要传真号码&#45;&gt;公司</title>\n",
       "<path fill=\"none\" stroke=\"#000000\" d=\"M399.8974,-76.5229C418.5646,-76.5229 438.0053,-76.5229 454.605,-76.5229\"/>\n",
       "<polygon fill=\"#000000\" stroke=\"#000000\" points=\"455.0664,-80.023 465.0664,-76.5229 455.0664,-73.023 455.0664,-80.023\"/>\n",
       "<text text-anchor=\"middle\" x=\"433.037\" y=\"-78.7229\" font-family=\"Calibri\" font-size=\"11.00\" fill=\"#000000\">nmod</text>\n",
       "</g>\n",
       "<!-- 是 -->\n",
       "<g id=\"node6\" class=\"node\">\n",
       "<title>是</title>\n",
       "<polygon fill=\"#d3d3d3\" stroke=\"#d3d3d3\" points=\"162.3163,-17.0307 164.0924,-17.1377 165.8501,-17.2978 167.5822,-17.5106 169.2818,-17.7756 170.942,-18.0919 172.5563,-18.4588 174.1184,-18.8751 175.6223,-19.3398 177.0625,-19.8517 178.4338,-20.4092 179.7314,-21.0109 180.951,-21.6551 182.0887,-22.34 183.1412,-23.0638 184.1055,-23.8246 184.9793,-24.6201 185.7607,-25.4482 186.4483,-26.3067 187.0413,-27.1932 187.5393,-28.1053 187.9423,-29.0405 188.251,-29.9961 188.4662,-30.9697 188.5895,-31.9584 188.6227,-32.9597 188.5679,-33.9708 188.4277,-34.9888 188.2048,-36.011 187.9024,-37.0347 187.5238,-38.0569 187.0724,-39.075 186.5519,-40.086 185.9662,-41.0873 185.319,-42.0761 184.6144,-43.0496 183.8563,-44.0053 183.0486,-44.9404 182.1951,-45.8525 181.2997,-46.739 180.366,-47.5975 179.3977,-48.4256 178.3981,-49.2212 177.3706,-49.9819 176.3181,-50.7057 175.2437,-51.3907 174.1498,-52.0349 173.0391,-52.6366 171.9139,-53.1941 170.7761,-53.7059 169.6277,-54.1706 168.4703,-54.587 167.3055,-54.9538 166.1346,-55.2701 164.9588,-55.5351 163.7792,-55.7479 162.5968,-55.908 161.4123,-56.015 160.2268,-56.0686 159.0408,-56.0686 157.8552,-56.015 156.6707,-55.908 155.4883,-55.7479 154.3087,-55.5351 153.1329,-55.2701 151.962,-54.9538 150.7972,-54.587 149.6399,-54.1706 148.4914,-53.7059 147.3537,-53.1941 146.2284,-52.6366 145.1177,-52.0349 144.0239,-51.3907 142.9494,-50.7057 141.8969,-49.9819 140.8694,-49.2212 139.8698,-48.4256 138.9015,-47.5975 137.9679,-46.739 137.0724,-45.8525 136.219,-44.9404 135.4112,-44.0053 134.6531,-43.0496 133.9485,-42.0761 133.3013,-41.0873 132.7156,-40.086 132.1952,-39.075 131.7438,-38.0569 131.3651,-37.0347 131.0627,-36.011 130.8398,-34.9888 130.6996,-33.9708 130.6448,-32.9597 130.678,-31.9584 130.8013,-30.9697 131.0166,-29.9961 131.3252,-29.0405 131.7283,-28.1053 132.2262,-27.1932 132.8192,-26.3067 133.5068,-25.4482 134.2882,-24.6201 135.1621,-23.8246 136.1264,-23.0638 137.1788,-22.34 138.3165,-21.6551 139.5361,-21.0109 140.8337,-20.4092 142.205,-19.8517 143.6452,-19.3398 145.1491,-18.8751 146.7112,-18.4588 148.3255,-18.0919 149.9857,-17.7756 151.6853,-17.5106 153.4175,-17.2978 155.1752,-17.1377 156.9512,-17.0307 158.7384,-16.9771 160.5292,-16.9771 162.3163,-17.0307\"/>\n",
       "<text text-anchor=\"middle\" x=\"159.6338\" y=\"-35.1229\" font-family=\"Calibri\" font-size=\"14.00\" fill=\"#000000\">是</text>\n",
       "</g>\n",
       "<!-- 是&#45;&gt;主要传真号码 -->\n",
       "<g id=\"edge6\" class=\"edge\">\n",
       "<title>是&#45;&gt;主要传真号码</title>\n",
       "<path fill=\"none\" stroke=\"#000000\" d=\"M185.2603,-42.6852C204.4888,-47.309 231.766,-53.8683 257.1929,-59.9827\"/>\n",
       "<polygon fill=\"#000000\" stroke=\"#000000\" points=\"256.6565,-63.4534 267.1977,-62.3885 258.2932,-56.6474 256.6565,-63.4534\"/>\n",
       "<text text-anchor=\"middle\" x=\"219.5256\" y=\"-55.7229\" font-family=\"Calibri\" font-size=\"11.00\" fill=\"#000000\">nsubj</text>\n",
       "</g>\n",
       "<!-- 什么 -->\n",
       "<g id=\"node7\" class=\"node\">\n",
       "<title>什么</title>\n",
       "<polygon fill=\"none\" stroke=\"#ff0000\" stroke-dasharray=\"5,2\" points=\"329.0549,-.0307 331.093,-.1377 333.1101,-.2978 335.0978,-.5106 337.0482,-.7756 338.9534,-1.0919 340.8059,-1.4588 342.5985,-1.8751 344.3244,-2.3398 345.9771,-2.8517 347.5507,-3.4092 349.0398,-4.0109 350.4393,-4.6551 351.7449,-5.34 352.9527,-6.0638 354.0593,-6.8246 355.0621,-7.6201 355.9588,-8.4482 356.7479,-9.3067 357.4284,-10.1932 357.9998,-11.1053 358.4623,-12.0405 358.8165,-12.9961 359.0636,-13.9697 359.2051,-14.9584 359.2431,-15.9597 359.1803,-16.9708 359.0194,-17.9888 358.7636,-19.011 358.4166,-20.0347 357.982,-21.0569 357.464,-22.075 356.8668,-23.086 356.1946,-24.0873 355.452,-25.0761 354.6434,-26.0496 353.7734,-27.0053 352.8464,-27.9404 351.867,-28.8525 350.8395,-29.739 349.7681,-30.5975 348.6569,-31.4256 347.5098,-32.2212 346.3306,-32.9819 345.1229,-33.7057 343.8898,-34.3907 342.6346,-35.0349 341.36,-35.6366 340.0687,-36.1941 338.763,-36.7059 337.4451,-37.1706 336.117,-37.587 334.7803,-37.9538 333.4366,-38.2701 332.0873,-38.5351 330.7337,-38.7479 329.3767,-38.908 328.0175,-39.015 326.657,-39.0686 325.296,-39.0686 323.9355,-39.015 322.5762,-38.908 321.2193,-38.7479 319.8656,-38.5351 318.5163,-38.2701 317.1727,-37.9538 315.836,-37.587 314.5079,-37.1706 313.19,-36.7059 311.8843,-36.1941 310.593,-35.6366 309.3184,-35.0349 308.0632,-34.3907 306.8301,-33.7057 305.6224,-32.9819 304.4432,-32.2212 303.2961,-31.4256 302.1849,-30.5975 301.1135,-29.739 300.086,-28.8525 299.1065,-27.9404 298.1796,-27.0053 297.3096,-26.0496 296.501,-25.0761 295.7584,-24.0873 295.0862,-23.086 294.489,-22.075 293.971,-21.0569 293.5364,-20.0347 293.1894,-19.011 292.9336,-17.9888 292.7727,-16.9708 292.7098,-15.9597 292.7479,-14.9584 292.8894,-13.9697 293.1365,-12.9961 293.4907,-12.0405 293.9532,-11.1053 294.5246,-10.1932 295.2051,-9.3067 295.9942,-8.4482 296.8909,-7.6201 297.8937,-6.8246 299.0003,-6.0638 300.2081,-5.34 301.5136,-4.6551 302.9132,-4.0109 304.4023,-3.4092 305.9759,-2.8517 307.6286,-2.3398 309.3545,-1.8751 311.1471,-1.4588 312.9996,-1.0919 314.9048,-.7756 316.8551,-.5106 318.8429,-.2978 320.86,-.1377 322.8981,-.0307 324.9489,.0229 327.004,.0229 329.0549,-.0307\"/>\n",
       "<text text-anchor=\"middle\" x=\"325.9765\" y=\"-18.1229\" font-family=\"Calibri\" font-size=\"14.00\" fill=\"#000000\">什么</text>\n",
       "</g>\n",
       "<!-- 是&#45;&gt;什么 -->\n",
       "<g id=\"edge8\" class=\"edge\">\n",
       "<title>是&#45;&gt;什么</title>\n",
       "<path fill=\"none\" stroke=\"#000000\" d=\"M188.8043,-33.3727C194.6248,-32.7526 200.6946,-32.1119 206.3772,-31.5229 232.2973,-28.8363 261.3878,-25.9154 284.3882,-23.628\"/>\n",
       "<polygon fill=\"#000000\" stroke=\"#000000\" points=\"284.8889,-27.0956 294.4942,-22.6248 284.1973,-20.1298 284.8889,-27.0956\"/>\n",
       "<text text-anchor=\"middle\" x=\"219.5256\" y=\"-33.7229\" font-family=\"Calibri\" font-size=\"11.00\" fill=\"#000000\">obj</text>\n",
       "</g>\n",
       "<!-- ROOT -->\n",
       "<g id=\"node8\" class=\"node\">\n",
       "<title>ROOT</title>\n",
       "<polygon fill=\"none\" stroke=\"#000000\" points=\"41.4783,-18.5722 43.8025,-18.6707 46.1027,-18.8182 48.3694,-19.0142 50.5936,-19.2582 52.7662,-19.5495 54.8787,-19.8873 56.9228,-20.2708 58.8909,-20.6987 60.7756,-21.1701 62.5701,-21.6835 64.2682,-22.2376 65.8642,-22.8309 67.353,-23.4617 68.7303,-24.1282 69.9922,-24.8288 71.1357,-25.5614 72.1583,-26.3241 73.0581,-27.1147 73.8341,-27.9311 74.4858,-28.771 75.0132,-29.6322 75.4171,-30.5123 75.6988,-31.4088 75.8602,-32.3194 75.9036,-33.2415 75.8319,-34.1726 75.6484,-35.1101 75.3568,-36.0515 74.961,-36.9942 74.4655,-37.9356 73.8748,-38.8731 73.1937,-39.8042 72.4272,-40.7263 71.5803,-41.6369 70.6583,-42.5334 69.6661,-43.4135 68.6091,-44.2747 67.4922,-45.1147 66.3205,-45.9311 65.0987,-46.7217 63.8315,-47.4843 62.5235,-48.2169 61.1788,-48.9175 59.8015,-49.5841 58.3954,-50.2149 56.964,-50.8081 55.5105,-51.3622 54.0379,-51.8756 52.549,-52.347 51.0462,-52.775 49.5316,-53.1584 48.0073,-53.4962 46.4751,-53.7875 44.9364,-54.0315 43.3928,-54.2275 41.8454,-54.375 40.2954,-54.4735 38.7439,-54.5229 37.1919,-54.5229 35.6404,-54.4735 34.0904,-54.375 32.543,-54.2275 30.9993,-54.0315 29.4607,-53.7875 27.9284,-53.4962 26.4041,-53.1584 24.8896,-52.775 23.3867,-52.347 21.8978,-51.8756 20.4252,-51.3622 18.9717,-50.8081 17.5403,-50.2149 16.1342,-49.5841 14.757,-48.9175 13.4123,-48.2169 12.1042,-47.4843 10.8371,-46.7217 9.6153,-45.9311 8.4435,-45.1147 7.3266,-44.2747 6.2696,-43.4135 5.2775,-42.5334 4.3554,-41.6369 3.5085,-40.7263 2.742,-39.8042 2.061,-38.8731 1.4702,-37.9356 .9747,-36.9942 .579,-36.0515 .2873,-35.1101 .1038,-34.1726 .0321,-33.2415 .0755,-32.3194 .2369,-31.4088 .5186,-30.5123 .9225,-29.6322 1.45,-28.771 2.1016,-27.9311 2.8776,-27.1147 3.7775,-26.3241 4.8,-25.5614 5.9435,-24.8288 7.2055,-24.1282 8.5827,-23.4617 10.0716,-22.8309 11.6675,-22.2376 13.3656,-21.6835 15.1601,-21.1701 17.0448,-20.6987 19.0129,-20.2708 21.0571,-19.8873 23.1696,-19.5495 25.3422,-19.2582 27.5663,-19.0142 29.8331,-18.8182 32.1332,-18.6707 34.4574,-18.5722 36.7961,-18.5229 39.1396,-18.5229 41.4783,-18.5722\"/>\n",
       "<text text-anchor=\"middle\" x=\"37.9679\" y=\"-32.3229\" font-family=\"Calibri\" font-size=\"14.00\" fill=\"#000000\">ROOT</text>\n",
       "</g>\n",
       "<!-- ROOT&#45;&gt;是 -->\n",
       "<g id=\"edge7\" class=\"edge\">\n",
       "<title>ROOT&#45;&gt;是</title>\n",
       "<path fill=\"none\" stroke=\"#000000\" d=\"M75.4644,-36.5229C89.8475,-36.5229 106.2821,-36.5229 120.789,-36.5229\"/>\n",
       "<polygon fill=\"#000000\" stroke=\"#000000\" points=\"120.9547,-40.023 130.9547,-36.5229 120.9547,-33.023 120.9547,-40.023\"/>\n",
       "<text text-anchor=\"middle\" x=\"103.413\" y=\"-38.7229\" font-family=\"Calibri\" font-size=\"11.00\" fill=\"#000000\">root</text>\n",
       "</g>\n",
       "</g>\n",
       "</svg>\n"
      ],
      "text/plain": [
       "<graphviz.dot.Digraph at 0x10500bef0>"
      ]
     },
     "execution_count": 5,
     "metadata": {},
     "output_type": "execute_result"
    }
   ],
   "source": [
    "spa.graph('你北京的公司的主要传真号码是什么')"
   ]
  },
  {
   "cell_type": "code",
   "execution_count": 7,
   "metadata": {
    "ExecuteTime": {
     "end_time": "2020-04-19T23:36:14.598780Z",
     "start_time": "2020-04-19T23:36:14.592809Z"
    }
   },
   "outputs": [
    {
     "name": "stdout",
     "output_type": "stream",
     "text": [
      "(北京,)\n"
     ]
    }
   ],
   "source": [
    "print(doc.ents)"
   ]
  }
 ],
 "metadata": {
  "kernelspec": {
   "display_name": "Python 3",
   "language": "python",
   "name": "python3"
  },
  "language_info": {
   "codemirror_mode": {
    "name": "ipython",
    "version": 3
   },
   "file_extension": ".py",
   "mimetype": "text/x-python",
   "name": "python",
   "nbconvert_exporter": "python",
   "pygments_lexer": "ipython3",
   "version": "3.6.6"
  },
  "varInspector": {
   "cols": {
    "lenName": 16,
    "lenType": 16,
    "lenVar": 40
   },
   "kernels_config": {
    "python": {
     "delete_cmd_postfix": "",
     "delete_cmd_prefix": "del ",
     "library": "var_list.py",
     "varRefreshCmd": "print(var_dic_list())"
    },
    "r": {
     "delete_cmd_postfix": ") ",
     "delete_cmd_prefix": "rm(",
     "library": "var_list.r",
     "varRefreshCmd": "cat(var_dic_list()) "
    }
   },
   "types_to_exclude": [
    "module",
    "function",
    "builtin_function_or_method",
    "instance",
    "_Feature"
   ],
   "window_display": false
  }
 },
 "nbformat": 4,
 "nbformat_minor": 2
}
