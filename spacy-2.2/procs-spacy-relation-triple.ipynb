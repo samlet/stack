{
 "cells": [
  {
   "cell_type": "code",
   "execution_count": 1,
   "metadata": {
    "ExecuteTime": {
     "end_time": "2020-06-17T07:44:30.223287Z",
     "start_time": "2020-06-17T07:44:27.853777Z"
    }
   },
   "outputs": [],
   "source": [
    ">>> import spacy\n",
    ">>> nlp = spacy.load('en_core_web_sm')"
   ]
  },
  {
   "cell_type": "code",
   "execution_count": 2,
   "metadata": {
    "ExecuteTime": {
     "end_time": "2020-06-17T07:45:04.731467Z",
     "start_time": "2020-06-17T07:45:04.724492Z"
    }
   },
   "outputs": [
    {
     "name": "stdout",
     "output_type": "stream",
     "text": [
      "326\n",
      "is\n",
      "‘ve\n",
      "himself\n",
      "this\n",
      "she\n",
      "along\n",
      "no\n",
      "not\n",
      "becomes\n",
      "yourselves\n"
     ]
    }
   ],
   "source": [
    "import spacy\n",
    "spacy_stopwords = spacy.lang.en.stop_words.STOP_WORDS\n",
    "print(len(spacy_stopwords))\n",
    "for stop_word in list(spacy_stopwords)[:10]:\n",
    "    print(stop_word)"
   ]
  },
  {
   "cell_type": "code",
   "execution_count": 3,
   "metadata": {
    "ExecuteTime": {
     "end_time": "2020-06-17T07:46:02.927641Z",
     "start_time": "2020-06-17T07:46:02.783589Z"
    }
   },
   "outputs": [
    {
     "name": "stdout",
     "output_type": "stream",
     "text": [
      "[('Gus', 4), ('London', 3), ('Natural', 3), ('Language', 3), ('Processing', 3)]\n",
      "['Proto', 'currentlyworking', 'based', 'company', 'interested', 'conference', 'happening', '21', 'July', '2019', 'titled', 'Applications', 'helpline', 'number', 'available', '+1', '1234567891', 'helping', 'organize', 'keeps', 'organizing', 'local', 'meetups', 'internal', 'talks', 'workplace', 'presenting', 'introduce', 'reader', 'Use', 'cases', 'Apart', 'work', 'passionate', 'music', 'play', 'enrolled', 'weekend', 'batch', 'situated', 'Mayfair', 'City', 'world', 'class', 'piano', 'instructors']\n"
     ]
    }
   ],
   "source": [
    "from collections import Counter\n",
    "complete_text = ('Gus Proto is a Python developer currently'\n",
    "    'working for a London-based Fintech company. He is'\n",
    "    ' interested in learning Natural Language Processing.'\n",
    "    ' There is a developer conference happening on 21 July'\n",
    "    ' 2019 in London. It is titled \"Applications of Natural'\n",
    "    ' Language Processing\". There is a helpline number '\n",
    "    ' available at +1-1234567891. Gus is helping organize it.'\n",
    "    ' He keeps organizing local Python meetups and several'\n",
    "    ' internal talks at his workplace. Gus is also presenting'\n",
    "    ' a talk. The talk will introduce the reader about \"Use'\n",
    "    ' cases of Natural Language Processing in Fintech\".'\n",
    "    ' Apart from his work, he is very passionate about music.'\n",
    "    ' Gus is learning to play the Piano. He has enrolled '\n",
    "    ' himself in the weekend batch of Great Piano Academy.'\n",
    "    ' Great Piano Academy is situated in Mayfair or the City'\n",
    "    ' of London and has world-class piano instructors.')\n",
    "\n",
    "complete_doc = nlp(complete_text)\n",
    "# Remove stop words and punctuation symbols\n",
    "words = [token.text for token in complete_doc\n",
    "         if not token.is_stop and not token.is_punct]\n",
    "word_freq = Counter(words)\n",
    "# 5 commonly occurring words with their frequencies\n",
    "common_words = word_freq.most_common(5)\n",
    "print (common_words)\n",
    "# Unique words\n",
    "unique_words = [word for (word, freq) in word_freq.items() if freq == 1]\n",
    "print (unique_words)"
   ]
  },
  {
   "cell_type": "code",
   "execution_count": 4,
   "metadata": {
    "ExecuteTime": {
     "end_time": "2020-06-17T07:47:43.036654Z",
     "start_time": "2020-06-17T07:47:43.007325Z"
    }
   },
   "outputs": [],
   "source": [
    "about_text = ('Gus Proto is a Python developer currently'\n",
    "              ' working for a London-based Fintech'\n",
    "              ' company. He is interested in learning'\n",
    "              ' Natural Language Processing.')\n",
    "about_doc = nlp(about_text)"
   ]
  },
  {
   "cell_type": "code",
   "execution_count": 5,
   "metadata": {
    "ExecuteTime": {
     "end_time": "2020-06-17T07:47:59.850679Z",
     "start_time": "2020-06-17T07:47:59.820417Z"
    }
   },
   "outputs": [
    {
     "data": {
      "text/plain": [
       "'Gus Proto'"
      ]
     },
     "execution_count": 5,
     "metadata": {},
     "output_type": "execute_result"
    }
   ],
   "source": [
    "from spacy.matcher import Matcher\n",
    "matcher = Matcher(nlp.vocab)\n",
    "def extract_full_name(nlp_doc):\n",
    "    pattern = [{'POS': 'PROPN'}, {'POS': 'PROPN'}]\n",
    "    matcher.add('FULL_NAME', None, pattern)\n",
    "    matches = matcher(nlp_doc)\n",
    "    for match_id, start, end in matches:\n",
    "        span = nlp_doc[start:end]\n",
    "        return span.text\n",
    "\n",
    "extract_full_name(about_doc)"
   ]
  },
  {
   "cell_type": "code",
   "execution_count": 6,
   "metadata": {
    "ExecuteTime": {
     "end_time": "2020-06-17T07:49:05.942529Z",
     "start_time": "2020-06-17T07:49:05.894481Z"
    }
   },
   "outputs": [
    {
     "data": {
      "text/plain": [
       "'(123) 456-789'"
      ]
     },
     "execution_count": 6,
     "metadata": {},
     "output_type": "execute_result"
    }
   ],
   "source": [
    "# use rule-based matching to extract phone numbers\n",
    "from spacy.matcher import Matcher\n",
    "matcher = Matcher(nlp.vocab)\n",
    "conference_org_text = ('There is a developer conference'\n",
    "    'happening on 21 July 2019 in London. It is titled'\n",
    "    ' \"Applications of Natural Language Processing\".'\n",
    "    ' There is a helpline number available'\n",
    "    ' at (123) 456-789')\n",
    "\n",
    "# ORTH gives the exact text of the token.\n",
    "# SHAPE transforms the token string to show orthographic features.\n",
    "# OP defines operators. Using ? as a value means that the pattern is optional, meaning it can match 0 or 1 times.\n",
    "def extract_phone_number(nlp_doc):\n",
    "    pattern = [{'ORTH': '('}, {'SHAPE': 'ddd'},\n",
    "               {'ORTH': ')'}, {'SHAPE': 'ddd'},\n",
    "               {'ORTH': '-', 'OP': '?'},\n",
    "               {'SHAPE': 'ddd'}]\n",
    "    matcher.add('PHONE_NUMBER', None, pattern)\n",
    "    matches = matcher(nlp_doc)\n",
    "    for match_id, start, end in matches:\n",
    "        span = nlp_doc[start:end]\n",
    "        return span.text\n",
    "\n",
    "conference_org_doc = nlp(conference_org_text)\n",
    "extract_phone_number(conference_org_doc)"
   ]
  },
  {
   "cell_type": "code",
   "execution_count": 7,
   "metadata": {
    "ExecuteTime": {
     "end_time": "2020-06-17T07:52:00.280563Z",
     "start_time": "2020-06-17T07:52:00.259083Z"
    }
   },
   "outputs": [
    {
     "name": "stdout",
     "output_type": "stream",
     "text": [
      "[a, Python, developer, currently, working, for, a, London, -, based, Fintech, company]\n"
     ]
    }
   ],
   "source": [
    "one_line_about_text = ('Gus Proto is a Python developer'\n",
    "    ' currently working for a London-based Fintech company')\n",
    "one_line_about_doc = nlp(one_line_about_text)\n",
    "print (list(one_line_about_doc[5].subtree))"
   ]
  },
  {
   "cell_type": "code",
   "execution_count": 8,
   "metadata": {
    "ExecuteTime": {
     "end_time": "2020-06-17T07:52:19.925286Z",
     "start_time": "2020-06-17T07:52:19.918430Z"
    }
   },
   "outputs": [
    {
     "name": "stdout",
     "output_type": "stream",
     "text": [
      "a Python developer currently working for a London-based Fintech company\n"
     ]
    }
   ],
   "source": [
    "def flatten_tree(tree):\n",
    "    return ''.join([token.text_with_ws for token in list(tree)]).strip()\n",
    "\n",
    "# Print flattened subtree of `developer`\n",
    "print (flatten_tree(one_line_about_doc[5].subtree))"
   ]
  },
  {
   "cell_type": "markdown",
   "metadata": {},
   "source": [
    "By looking at noun phrases, you can get information about your text. For example, `a developer conference` indicates that the text mentions a conference, while the date `21 July` lets you know that conference is scheduled for 21 July. You can figure out whether the conference is in the past or the future. `London` tells you that the conference is in London.\n",
    "\n"
   ]
  },
  {
   "cell_type": "code",
   "execution_count": 9,
   "metadata": {
    "ExecuteTime": {
     "end_time": "2020-06-17T07:52:44.257338Z",
     "start_time": "2020-06-17T07:52:44.235429Z"
    }
   },
   "outputs": [
    {
     "name": "stdout",
     "output_type": "stream",
     "text": [
      "a developer conference\n",
      "21 July\n",
      "London\n"
     ]
    }
   ],
   "source": [
    "# Noun Phrase Detection\n",
    "conference_text = ('There is a developer conference'\n",
    "    ' happening on 21 July 2019 in London.')\n",
    "conference_doc = nlp(conference_text)\n",
    "# Extract Noun Phrases\n",
    "for chunk in conference_doc.noun_chunks:\n",
    "    print (chunk)"
   ]
  },
  {
   "cell_type": "code",
   "execution_count": 13,
   "metadata": {
    "ExecuteTime": {
     "end_time": "2020-06-17T07:59:42.479997Z",
     "start_time": "2020-06-17T07:59:42.448658Z"
    }
   },
   "outputs": [
    {
     "data": {
      "text/plain": [
       "[('Natural Language Processing', 0.2262546275441627),\n",
       " ('Use case', 0.144743722583209),\n",
       " ('talk', 0.08277485376027531),\n",
       " ('reader', 0.07348835537341947),\n",
       " ('fintech', 0.04589422212543074)]"
      ]
     },
     "execution_count": 13,
     "metadata": {},
     "output_type": "execute_result"
    }
   ],
   "source": [
    "import textacy\n",
    "import textacy.ke\n",
    "about_talk_text = ('The talk will introduce reader about Use'\n",
    "                   ' cases of Natural Language Processing in'\n",
    "                   ' Fintech')\n",
    "# pattern = r'(<VERB>?<ADV>*<VERB>+)'\n",
    "about_talk_doc = textacy.make_spacy_doc(about_talk_text,\n",
    "                                        lang='en_core_web_sm')\n",
    "# 通过多种算法识别文档中的关键术语\n",
    "textacy.ke.textrank(about_talk_doc, normalize=\"lemma\", topn=10)"
   ]
  },
  {
   "cell_type": "code",
   "execution_count": 12,
   "metadata": {
    "ExecuteTime": {
     "end_time": "2020-06-17T07:59:20.953129Z",
     "start_time": "2020-06-17T07:59:20.936370Z"
    }
   },
   "outputs": [
    {
     "data": {
      "text/plain": [
       "[('natural language processing', 0.40638777999358033)]"
      ]
     },
     "execution_count": 12,
     "metadata": {},
     "output_type": "execute_result"
    }
   ],
   "source": [
    "textacy.ke.sgrank(about_talk_doc, ngrams=(1, 2, 3, 4), normalize=\"lower\", topn=0.1)"
   ]
  },
  {
   "cell_type": "code",
   "execution_count": 50,
   "metadata": {
    "ExecuteTime": {
     "end_time": "2020-06-17T08:59:50.883885Z",
     "start_time": "2020-06-17T08:59:50.855572Z"
    }
   },
   "outputs": [
    {
     "name": "stdout",
     "output_type": "stream",
     "text": [
      "The talk will introduce reader about Use cases of Natural Language Processing in Fintech\n",
      "[('talk', talk, 1), ('will introduce', introduce, 2), ('reader', reader, 4)]\n"
     ]
    }
   ],
   "source": [
    "from textacy.extract import subject_verb_object_triples\n",
    "def desc(t):\n",
    "    return t.text, t.root, t.start\n",
    "def print_triples(text):\n",
    "    doc=textacy.make_spacy_doc(text, lang='en_core_web_sm')\n",
    "    triples=subject_verb_object_triples(doc)\n",
    "    print(doc.text)\n",
    "    print([(desc(span)) for t in triples for span in t])\n",
    "\n",
    "about_talk_text = ('The talk will introduce reader about Use'\n",
    "                   ' cases of Natural Language Processing in'\n",
    "                   ' Fintech')\n",
    "print_triples(about_talk_text)"
   ]
  },
  {
   "cell_type": "code",
   "execution_count": 55,
   "metadata": {
    "ExecuteTime": {
     "end_time": "2020-06-17T09:02:21.586630Z",
     "start_time": "2020-06-17T09:02:21.557405Z"
    }
   },
   "outputs": [
    {
     "name": "stdout",
     "output_type": "stream",
     "text": [
      "Brooks likes apples, but she likes oranges\n",
      "[('Brooks', Brooks, 0), ('likes', likes, 1), ('apples', apples, 2), ('she', she, 5), ('likes', likes, 6), ('oranges', oranges, 7)]\n"
     ]
    }
   ],
   "source": [
    "# print_triples('This butterfly is blue, and it flies very fast.')\n",
    "# print_triples('This butterfly flies very fast.')\n",
    "print_triples('Brooks likes apples, but she likes oranges')"
   ]
  },
  {
   "cell_type": "markdown",
   "metadata": {},
   "source": [
    "You can use NER to redact people’s names from a text. For example, you might want to do this in order to hide personal information collected in a survey. You can use spaCy to do that:\n"
   ]
  },
  {
   "cell_type": "code",
   "execution_count": 29,
   "metadata": {
    "ExecuteTime": {
     "end_time": "2020-06-17T08:11:58.274511Z",
     "start_time": "2020-06-17T08:11:58.037563Z"
    }
   },
   "outputs": [
    {
     "data": {
      "text/plain": [
       "'Out of 5 people surveyed, [REDACTED] , [REDACTED] and [REDACTED] like apples. [REDACTED] and [REDACTED] like oranges.'"
      ]
     },
     "execution_count": 29,
     "metadata": {},
     "output_type": "execute_result"
    }
   ],
   "source": [
    "survey_text = ('Out of 5 people surveyed, James Robert,'\n",
    "               ' Julie Fuller and Benjamin Brooks like'\n",
    "               ' apples. Kelly Cox and Matthew Evans'\n",
    "               ' like oranges.')\n",
    "\n",
    "def replace_person_names(token):\n",
    "    if token.ent_iob != 0 and token.ent_type_ == 'PERSON':\n",
    "        return '[REDACTED] '\n",
    "    return token.string\n",
    "\n",
    "def redact_names(nlp_doc):\n",
    "    for ent in nlp_doc.ents:\n",
    "        ent.merge()\n",
    "    tokens = map(replace_person_names, nlp_doc)\n",
    "    return ''.join(tokens)\n",
    "\n",
    "survey_doc = nlp(survey_text)\n",
    "redact_names(survey_doc)"
   ]
  },
  {
   "cell_type": "code",
   "execution_count": 35,
   "metadata": {
    "ExecuteTime": {
     "end_time": "2020-06-17T08:19:01.136123Z",
     "start_time": "2020-06-17T08:19:01.081915Z"
    }
   },
   "outputs": [],
   "source": [
    "text = \"Mesdames et messieurs, nous allons bientôt atterrir, merci d'attacher vos ceintures.\"\n",
    "doc = textacy.make_spacy_doc(text, lang='fr_core_news_sm')"
   ]
  },
  {
   "cell_type": "code",
   "execution_count": 36,
   "metadata": {
    "ExecuteTime": {
     "end_time": "2020-06-17T08:19:02.907936Z",
     "start_time": "2020-06-17T08:19:02.898917Z"
    }
   },
   "outputs": [
    {
     "data": {
      "text/plain": [
       "[('nous', nous, 4), ('allons', allons, 5), ('atterrir', atterrir, 7)]"
      ]
     },
     "execution_count": 36,
     "metadata": {},
     "output_type": "execute_result"
    }
   ],
   "source": [
    "triples=subject_verb_object_triples(doc)\n",
    "[(desc(span)) for t in triples for span in t]"
   ]
  },
  {
   "cell_type": "code",
   "execution_count": 43,
   "metadata": {
    "ExecuteTime": {
     "end_time": "2020-06-17T08:55:59.331817Z",
     "start_time": "2020-06-17T08:55:58.875098Z"
    }
   },
   "outputs": [
    {
     "data": {
      "text/html": [
       "<div>\n",
       "<style scoped>\n",
       "    .dataframe tbody tr th:only-of-type {\n",
       "        vertical-align: middle;\n",
       "    }\n",
       "\n",
       "    .dataframe tbody tr th {\n",
       "        vertical-align: top;\n",
       "    }\n",
       "\n",
       "    .dataframe thead th {\n",
       "        text-align: right;\n",
       "    }\n",
       "</style>\n",
       "<table border=\"1\" class=\"dataframe\">\n",
       "  <thead>\n",
       "    <tr style=\"text-align: right;\">\n",
       "      <th></th>\n",
       "      <th>index</th>\n",
       "      <th>text</th>\n",
       "      <th>lemma</th>\n",
       "      <th>upos</th>\n",
       "      <th>xpos</th>\n",
       "      <th>entity</th>\n",
       "    </tr>\n",
       "  </thead>\n",
       "  <tbody>\n",
       "    <tr>\n",
       "      <th>0</th>\n",
       "      <td>1</td>\n",
       "      <td>Mesdames</td>\n",
       "      <td>madame</td>\n",
       "      <td>NOUN</td>\n",
       "      <td>NOUN__Gender=Fem|Number=Plur</td>\n",
       "      <td>[MISC, B]</td>\n",
       "    </tr>\n",
       "    <tr>\n",
       "      <th>1</th>\n",
       "      <td>2</td>\n",
       "      <td>et</td>\n",
       "      <td>et</td>\n",
       "      <td>CCONJ</td>\n",
       "      <td>CCONJ___</td>\n",
       "      <td>[MISC, I]</td>\n",
       "    </tr>\n",
       "    <tr>\n",
       "      <th>2</th>\n",
       "      <td>3</td>\n",
       "      <td>messieurs</td>\n",
       "      <td>monsieur</td>\n",
       "      <td>NOUN</td>\n",
       "      <td>NOUN__Gender=Masc|Number=Plur</td>\n",
       "      <td>[MISC, I]</td>\n",
       "    </tr>\n",
       "    <tr>\n",
       "      <th>3</th>\n",
       "      <td>4</td>\n",
       "      <td>,</td>\n",
       "      <td>,</td>\n",
       "      <td>PUNCT</td>\n",
       "      <td>PUNCT___</td>\n",
       "      <td>[, O]</td>\n",
       "    </tr>\n",
       "    <tr>\n",
       "      <th>4</th>\n",
       "      <td>5</td>\n",
       "      <td>nous</td>\n",
       "      <td>nous</td>\n",
       "      <td>PRON</td>\n",
       "      <td>PRON__Number=Plur|Person=1</td>\n",
       "      <td>[, O]</td>\n",
       "    </tr>\n",
       "    <tr>\n",
       "      <th>5</th>\n",
       "      <td>6</td>\n",
       "      <td>allons</td>\n",
       "      <td>aller</td>\n",
       "      <td>VERB</td>\n",
       "      <td>VERB__Mood=Ind|Number=Plur|Person=1|Tense=Pres...</td>\n",
       "      <td>[, O]</td>\n",
       "    </tr>\n",
       "    <tr>\n",
       "      <th>6</th>\n",
       "      <td>7</td>\n",
       "      <td>bientôt</td>\n",
       "      <td>bientôt</td>\n",
       "      <td>ADV</td>\n",
       "      <td>ADV___</td>\n",
       "      <td>[, O]</td>\n",
       "    </tr>\n",
       "    <tr>\n",
       "      <th>7</th>\n",
       "      <td>8</td>\n",
       "      <td>atterrir</td>\n",
       "      <td>atterrir</td>\n",
       "      <td>VERB</td>\n",
       "      <td>VERB__VerbForm=Inf</td>\n",
       "      <td>[, O]</td>\n",
       "    </tr>\n",
       "    <tr>\n",
       "      <th>8</th>\n",
       "      <td>9</td>\n",
       "      <td>,</td>\n",
       "      <td>,</td>\n",
       "      <td>PUNCT</td>\n",
       "      <td>PUNCT___</td>\n",
       "      <td>[, O]</td>\n",
       "    </tr>\n",
       "    <tr>\n",
       "      <th>9</th>\n",
       "      <td>10</td>\n",
       "      <td>merci</td>\n",
       "      <td>merci</td>\n",
       "      <td>NOUN</td>\n",
       "      <td>NOUN__Gender=Masc|Number=Sing</td>\n",
       "      <td>[, O]</td>\n",
       "    </tr>\n",
       "    <tr>\n",
       "      <th>10</th>\n",
       "      <td>11</td>\n",
       "      <td>d'</td>\n",
       "      <td>de</td>\n",
       "      <td>ADP</td>\n",
       "      <td>ADP___</td>\n",
       "      <td>[, O]</td>\n",
       "    </tr>\n",
       "    <tr>\n",
       "      <th>11</th>\n",
       "      <td>12</td>\n",
       "      <td>attacher</td>\n",
       "      <td>attacher</td>\n",
       "      <td>VERB</td>\n",
       "      <td>VERB__VerbForm=Inf</td>\n",
       "      <td>[, O]</td>\n",
       "    </tr>\n",
       "    <tr>\n",
       "      <th>12</th>\n",
       "      <td>13</td>\n",
       "      <td>vos</td>\n",
       "      <td>votre</td>\n",
       "      <td>DET</td>\n",
       "      <td>DET__Number=Plur|Poss=Yes</td>\n",
       "      <td>[, O]</td>\n",
       "    </tr>\n",
       "    <tr>\n",
       "      <th>13</th>\n",
       "      <td>14</td>\n",
       "      <td>ceintures</td>\n",
       "      <td>ceinture</td>\n",
       "      <td>NOUN</td>\n",
       "      <td>NOUN__Gender=Fem|Number=Plur</td>\n",
       "      <td>[, O]</td>\n",
       "    </tr>\n",
       "    <tr>\n",
       "      <th>14</th>\n",
       "      <td>15</td>\n",
       "      <td>.</td>\n",
       "      <td>.</td>\n",
       "      <td>PUNCT</td>\n",
       "      <td>PUNCT___</td>\n",
       "      <td>[, O]</td>\n",
       "    </tr>\n",
       "  </tbody>\n",
       "</table>\n",
       "</div>"
      ],
      "text/plain": [
       "    index       text     lemma   upos  \\\n",
       "0       1   Mesdames    madame   NOUN   \n",
       "1       2         et        et  CCONJ   \n",
       "2       3  messieurs  monsieur   NOUN   \n",
       "3       4          ,         ,  PUNCT   \n",
       "4       5       nous      nous   PRON   \n",
       "5       6     allons     aller   VERB   \n",
       "6       7    bientôt   bientôt    ADV   \n",
       "7       8   atterrir  atterrir   VERB   \n",
       "8       9          ,         ,  PUNCT   \n",
       "9      10      merci     merci   NOUN   \n",
       "10     11         d'        de    ADP   \n",
       "11     12   attacher  attacher   VERB   \n",
       "12     13        vos     votre    DET   \n",
       "13     14  ceintures  ceinture   NOUN   \n",
       "14     15          .         .  PUNCT   \n",
       "\n",
       "                                                 xpos     entity  \n",
       "0                        NOUN__Gender=Fem|Number=Plur  [MISC, B]  \n",
       "1                                            CCONJ___  [MISC, I]  \n",
       "2                       NOUN__Gender=Masc|Number=Plur  [MISC, I]  \n",
       "3                                            PUNCT___      [, O]  \n",
       "4                          PRON__Number=Plur|Person=1      [, O]  \n",
       "5   VERB__Mood=Ind|Number=Plur|Person=1|Tense=Pres...      [, O]  \n",
       "6                                              ADV___      [, O]  \n",
       "7                                  VERB__VerbForm=Inf      [, O]  \n",
       "8                                            PUNCT___      [, O]  \n",
       "9                       NOUN__Gender=Masc|Number=Sing      [, O]  \n",
       "10                                             ADP___      [, O]  \n",
       "11                                 VERB__VerbForm=Inf      [, O]  \n",
       "12                          DET__Number=Plur|Poss=Yes      [, O]  \n",
       "13                       NOUN__Gender=Fem|Number=Plur      [, O]  \n",
       "14                                           PUNCT___      [, O]  "
      ]
     },
     "metadata": {},
     "output_type": "display_data"
    },
    {
     "data": {
      "image/svg+xml": [
       "<?xml version=\"1.0\" encoding=\"UTF-8\" standalone=\"no\"?>\n",
       "<!DOCTYPE svg PUBLIC \"-//W3C//DTD SVG 1.1//EN\"\n",
       " \"http://www.w3.org/Graphics/SVG/1.1/DTD/svg11.dtd\">\n",
       "<!-- Generated by graphviz version 2.44.0 (20200408.0750)\n",
       " -->\n",
       "<!-- Title: deps Pages: 1 -->\n",
       "<svg width=\"576pt\" height=\"236pt\"\n",
       " viewBox=\"0.00 0.00 576.00 236.20\" xmlns=\"http://www.w3.org/2000/svg\" xmlns:xlink=\"http://www.w3.org/1999/xlink\">\n",
       "<g id=\"graph0\" class=\"graph\" transform=\"scale(0.75 0.75) rotate(0) translate(4 310)\">\n",
       "<title>deps</title>\n",
       "<polygon fill=\"white\" stroke=\"transparent\" points=\"-4,4 -4,-310 761.73,-310 761.73,4 -4,4\"/>\n",
       "<!-- Mesdames -->\n",
       "<g id=\"node1\" class=\"node\">\n",
       "<title>Mesdames</title>\n",
       "<polygon fill=\"none\" stroke=\"blue\" points=\"197.44,-157.05 201.01,-157.15 204.54,-157.3 208.03,-157.49 211.44,-157.74 214.78,-158.03 218.03,-158.36 221.17,-158.75 224.19,-159.18 227.09,-159.65 229.84,-160.16 232.45,-160.71 234.9,-161.31 237.19,-161.94 239.31,-162.61 241.24,-163.31 243,-164.04 244.57,-164.8 245.95,-165.59 247.15,-166.41 248.15,-167.25 248.96,-168.11 249.58,-168.99 250.01,-169.89 250.26,-170.8 250.33,-171.72 250.22,-172.65 249.93,-173.59 249.49,-174.53 248.88,-175.47 248.12,-176.41 247.21,-177.35 246.16,-178.28 244.99,-179.2 243.68,-180.11 242.27,-181.01 240.74,-181.89 239.12,-182.75 237.4,-183.59 235.6,-184.41 233.73,-185.2 231.78,-185.96 229.77,-186.69 227.7,-187.39 225.59,-188.06 223.43,-188.69 221.23,-189.29 219,-189.84 216.73,-190.35 214.45,-190.82 212.14,-191.25 209.81,-191.64 207.47,-191.97 205.11,-192.26 202.75,-192.51 200.38,-192.7 198,-192.85 195.62,-192.95 193.24,-193 190.85,-193 188.47,-192.95 186.09,-192.85 183.71,-192.7 181.34,-192.51 178.98,-192.26 176.62,-191.97 174.28,-191.64 171.95,-191.25 169.64,-190.82 167.36,-190.35 165.09,-189.84 162.86,-189.29 160.66,-188.69 158.5,-188.06 156.39,-187.39 154.32,-186.69 152.31,-185.96 150.36,-185.2 148.49,-184.41 146.69,-183.59 144.97,-182.75 143.35,-181.89 141.82,-181.01 140.41,-180.11 139.1,-179.2 137.93,-178.28 136.88,-177.35 135.97,-176.41 135.21,-175.47 134.6,-174.53 134.16,-173.59 133.87,-172.65 133.76,-171.72 133.83,-170.8 134.08,-169.89 134.51,-168.99 135.13,-168.11 135.94,-167.25 136.94,-166.41 138.14,-165.59 139.52,-164.8 141.09,-164.04 142.85,-163.31 144.78,-162.61 146.9,-161.94 149.19,-161.31 151.64,-160.71 154.25,-160.16 157.01,-159.65 159.9,-159.18 162.92,-158.75 166.06,-158.36 169.31,-158.03 172.65,-157.74 176.07,-157.49 179.55,-157.3 183.08,-157.15 186.65,-157.05 190.25,-157 193.85,-157 197.44,-157.05\"/>\n",
       "<text text-anchor=\"middle\" x=\"192.05\" y=\"-171.3\" font-family=\"Calibri\" font-size=\"14.00\">Mesdames</text>\n",
       "</g>\n",
       "<!-- messieurs -->\n",
       "<g id=\"node3\" class=\"node\">\n",
       "<title>messieurs</title>\n",
       "<polygon fill=\"none\" stroke=\"blue\" points=\"373.94,-269.05 377.3,-269.15 380.63,-269.3 383.91,-269.49 387.12,-269.74 390.27,-270.03 393.32,-270.36 396.28,-270.75 399.12,-271.18 401.85,-271.65 404.44,-272.16 406.9,-272.71 409.21,-273.31 411.36,-273.94 413.35,-274.61 415.18,-275.31 416.83,-276.04 418.31,-276.8 419.61,-277.59 420.73,-278.41 421.67,-279.25 422.44,-280.11 423.02,-280.99 423.43,-281.89 423.66,-282.8 423.73,-283.72 423.62,-284.65 423.36,-285.59 422.93,-286.53 422.36,-287.47 421.65,-288.41 420.79,-289.35 419.81,-290.28 418.7,-291.2 417.47,-292.11 416.14,-293.01 414.7,-293.89 413.18,-294.75 411.56,-295.59 409.87,-296.41 408.1,-297.2 406.27,-297.96 404.38,-298.69 402.43,-299.39 400.44,-300.06 398.41,-300.69 396.34,-301.29 394.23,-301.84 392.1,-302.35 389.95,-302.82 387.78,-303.25 385.59,-303.64 383.38,-303.97 381.17,-304.26 378.94,-304.51 376.71,-304.7 374.47,-304.85 372.23,-304.95 369.99,-305 367.74,-305 365.5,-304.95 363.26,-304.85 361.02,-304.7 358.79,-304.51 356.56,-304.26 354.35,-303.97 352.14,-303.64 349.95,-303.25 347.78,-302.82 345.63,-302.35 343.5,-301.84 341.39,-301.29 339.32,-300.69 337.29,-300.06 335.3,-299.39 333.35,-298.69 331.46,-297.96 329.63,-297.2 327.86,-296.41 326.17,-295.59 324.55,-294.75 323.03,-293.89 321.59,-293.01 320.26,-292.11 319.03,-291.2 317.92,-290.28 316.94,-289.35 316.09,-288.41 315.37,-287.47 314.8,-286.53 314.37,-285.59 314.11,-284.65 314.01,-283.72 314.07,-282.8 314.3,-281.89 314.71,-280.99 315.29,-280.11 316.06,-279.25 317,-278.41 318.12,-277.59 319.42,-276.8 320.9,-276.04 322.55,-275.31 324.38,-274.61 326.37,-273.94 328.52,-273.31 330.83,-272.71 333.29,-272.16 335.88,-271.65 338.61,-271.18 341.45,-270.75 344.41,-270.36 347.47,-270.03 350.61,-269.74 353.82,-269.49 357.1,-269.3 360.43,-269.15 363.79,-269.05 367.17,-269 370.56,-269 373.94,-269.05\"/>\n",
       "<text text-anchor=\"middle\" x=\"368.87\" y=\"-283.3\" font-family=\"Calibri\" font-size=\"14.00\">messieurs</text>\n",
       "</g>\n",
       "<!-- Mesdames&#45;&gt;messieurs -->\n",
       "<g id=\"edge3\" class=\"edge\">\n",
       "<title>Mesdames&#45;&gt;messieurs</title>\n",
       "<path fill=\"none\" stroke=\"black\" d=\"M206.27,-192.3C220.07,-209.32 243.17,-235.01 268.19,-251 281.73,-259.66 297.64,-266.6 312.72,-271.99\"/>\n",
       "<polygon fill=\"black\" stroke=\"black\" points=\"311.88,-275.4 322.48,-275.31 314.14,-268.77 311.88,-275.4\"/>\n",
       "<text text-anchor=\"middle\" x=\"282.19\" y=\"-267.2\" font-family=\"Calibri\" font-size=\"11.00\">conj</text>\n",
       "</g>\n",
       "<!-- , -->\n",
       "<g id=\"node4\" class=\"node\">\n",
       "<title>,</title>\n",
       "<polygon fill=\"none\" stroke=\"black\" points=\"543.37,-216.05 545.15,-216.15 546.9,-216.3 548.64,-216.49 550.34,-216.74 552,-217.03 553.61,-217.36 555.17,-217.75 556.68,-218.18 558.12,-218.65 559.49,-219.16 560.79,-219.71 562,-220.31 563.14,-220.94 564.19,-221.61 565.16,-222.31 566.03,-223.04 566.81,-223.8 567.5,-224.59 568.09,-225.41 568.59,-226.25 569,-227.11 569.3,-227.99 569.52,-228.89 569.64,-229.8 569.68,-230.72 569.62,-231.65 569.48,-232.59 569.26,-233.53 568.96,-234.47 568.58,-235.41 568.13,-236.35 567.61,-237.28 567.02,-238.2 566.37,-239.11 565.67,-240.01 564.91,-240.89 564.1,-241.75 563.25,-242.59 562.35,-243.41 561.42,-244.2 560.45,-244.96 559.45,-245.69 558.42,-246.39 557.37,-247.06 556.3,-247.69 555.2,-248.29 554.09,-248.84 552.97,-249.35 551.83,-249.82 550.68,-250.25 549.52,-250.64 548.36,-250.97 547.19,-251.26 546.01,-251.51 544.83,-251.7 543.65,-251.85 542.47,-251.95 541.28,-252 540.09,-252 538.91,-251.95 537.72,-251.85 536.54,-251.7 535.36,-251.51 534.19,-251.26 533.02,-250.97 531.85,-250.64 530.69,-250.25 529.55,-249.82 528.41,-249.35 527.28,-248.84 526.17,-248.29 525.08,-247.69 524,-247.06 522.95,-246.39 521.92,-245.69 520.92,-244.96 519.96,-244.2 519.02,-243.41 518.13,-242.59 517.27,-241.75 516.46,-240.89 515.71,-240.01 515,-239.11 514.35,-238.2 513.77,-237.28 513.25,-236.35 512.8,-235.41 512.42,-234.47 512.12,-233.53 511.89,-232.59 511.75,-231.65 511.7,-230.72 511.73,-229.8 511.85,-228.89 512.07,-227.99 512.38,-227.11 512.78,-226.25 513.28,-225.41 513.87,-224.59 514.56,-223.8 515.34,-223.04 516.22,-222.31 517.18,-221.61 518.23,-220.94 519.37,-220.31 520.59,-219.71 521.89,-219.16 523.26,-218.65 524.7,-218.18 526.2,-217.75 527.76,-217.36 529.38,-217.03 531.04,-216.74 532.74,-216.49 534.47,-216.3 536.23,-216.15 538,-216.05 539.79,-216 541.58,-216 543.37,-216.05\"/>\n",
       "<text text-anchor=\"middle\" x=\"540.69\" y=\"-230.3\" font-family=\"Calibri\" font-size=\"14.00\">,</text>\n",
       "</g>\n",
       "<!-- Mesdames&#45;&gt;, -->\n",
       "<g id=\"edge9\" class=\"edge\">\n",
       "<title>Mesdames&#45;&gt;,</title>\n",
       "<path fill=\"none\" stroke=\"black\" d=\"M234.69,-184.89C258.01,-190.27 287.64,-196.86 314.19,-202 370.51,-212.91 384.72,-215.14 441.54,-223 461.37,-225.74 483.52,-228.27 501.76,-230.21\"/>\n",
       "<polygon fill=\"black\" stroke=\"black\" points=\"501.41,-233.69 511.72,-231.25 502.14,-226.73 501.41,-233.69\"/>\n",
       "<text text-anchor=\"middle\" x=\"368.87\" y=\"-223.2\" font-family=\"Calibri\" font-size=\"11.00\">punct</text>\n",
       "</g>\n",
       "<!-- allons -->\n",
       "<g id=\"node6\" class=\"node\">\n",
       "<title>allons</title>\n",
       "<polygon fill=\"lightgrey\" stroke=\"lightgrey\" points=\"372.2,-157.05 374.4,-157.15 376.58,-157.3 378.73,-157.49 380.84,-157.74 382.9,-158.03 384.91,-158.36 386.84,-158.75 388.71,-159.18 390.5,-159.65 392.2,-160.16 393.81,-160.71 395.33,-161.31 396.74,-161.94 398.04,-162.61 399.24,-163.31 400.33,-164.04 401.3,-164.8 402.15,-165.59 402.89,-166.41 403.5,-167.25 404,-168.11 404.39,-168.99 404.65,-169.89 404.81,-170.8 404.85,-171.72 404.78,-172.65 404.61,-173.59 404.33,-174.53 403.95,-175.47 403.48,-176.41 402.92,-177.35 402.28,-178.28 401.55,-179.2 400.75,-180.11 399.87,-181.01 398.93,-181.89 397.93,-182.75 396.87,-183.59 395.76,-184.41 394.6,-185.2 393.4,-185.96 392.16,-186.69 390.88,-187.39 389.58,-188.06 388.24,-188.69 386.88,-189.29 385.51,-189.84 384.11,-190.35 382.7,-190.82 381.27,-191.25 379.83,-191.64 378.39,-191.97 376.93,-192.26 375.48,-192.51 374.01,-192.7 372.54,-192.85 371.07,-192.95 369.6,-193 368.13,-193 366.66,-192.95 365.19,-192.85 363.72,-192.7 362.26,-192.51 360.8,-192.26 359.34,-191.97 357.9,-191.64 356.46,-191.25 355.03,-190.82 353.62,-190.35 352.23,-189.84 350.85,-189.29 349.49,-188.69 348.16,-188.06 346.85,-187.39 345.57,-186.69 344.33,-185.96 343.13,-185.2 341.97,-184.41 340.86,-183.59 339.8,-182.75 338.8,-181.89 337.86,-181.01 336.98,-180.11 336.18,-179.2 335.45,-178.28 334.81,-177.35 334.25,-176.41 333.78,-175.47 333.4,-174.53 333.12,-173.59 332.95,-172.65 332.88,-171.72 332.92,-170.8 333.08,-169.89 333.34,-168.99 333.73,-168.11 334.23,-167.25 334.84,-166.41 335.58,-165.59 336.43,-164.8 337.4,-164.04 338.49,-163.31 339.69,-162.61 340.99,-161.94 342.4,-161.31 343.92,-160.71 345.53,-160.16 347.23,-159.65 349.02,-159.18 350.89,-158.75 352.82,-158.36 354.83,-158.03 356.89,-157.74 359,-157.49 361.15,-157.3 363.33,-157.15 365.54,-157.05 367.75,-157 369.98,-157 372.2,-157.05\"/>\n",
       "<text text-anchor=\"middle\" x=\"368.87\" y=\"-171.3\" font-family=\"Calibri\" font-size=\"14.00\">allons</text>\n",
       "</g>\n",
       "<!-- Mesdames&#45;&gt;allons -->\n",
       "<g id=\"edge6\" class=\"edge\">\n",
       "<title>Mesdames&#45;&gt;allons</title>\n",
       "<path fill=\"none\" stroke=\"black\" d=\"M249.32,-175C273.19,-175 300.62,-175 323.08,-175\"/>\n",
       "<polygon fill=\"black\" stroke=\"black\" points=\"323.34,-178.5 333.34,-175 323.34,-171.5 323.34,-178.5\"/>\n",
       "<text text-anchor=\"middle\" x=\"282.19\" y=\"-178.2\" font-family=\"Calibri\" font-size=\"11.00\">conj</text>\n",
       "</g>\n",
       "<!-- merci -->\n",
       "<g id=\"node9\" class=\"node\">\n",
       "<title>merci</title>\n",
       "<polygon fill=\"none\" stroke=\"blue\" points=\"372.08,-95.05 374.2,-95.15 376.31,-95.3 378.38,-95.49 380.42,-95.74 382.41,-96.03 384.34,-96.36 386.21,-96.75 388.01,-97.18 389.74,-97.65 391.38,-98.16 392.93,-98.71 394.39,-99.31 395.76,-99.94 397.02,-100.61 398.17,-101.31 399.22,-102.04 400.15,-102.8 400.98,-103.59 401.69,-104.41 402.28,-105.25 402.77,-106.11 403.14,-106.99 403.39,-107.89 403.54,-108.8 403.58,-109.72 403.51,-110.65 403.35,-111.59 403.08,-112.53 402.72,-113.47 402.26,-114.41 401.72,-115.35 401.1,-116.28 400.4,-117.2 399.62,-118.11 398.78,-119.01 397.87,-119.89 396.91,-120.75 395.88,-121.59 394.81,-122.41 393.69,-123.2 392.53,-123.96 391.34,-124.69 390.11,-125.39 388.85,-126.06 387.56,-126.69 386.25,-127.29 384.92,-127.84 383.57,-128.35 382.21,-128.82 380.83,-129.25 379.45,-129.64 378.05,-129.97 376.65,-130.26 375.24,-130.51 373.83,-130.7 372.41,-130.85 371,-130.95 369.58,-131 368.16,-131 366.74,-130.95 365.32,-130.85 363.9,-130.7 362.49,-130.51 361.08,-130.26 359.68,-129.97 358.28,-129.64 356.9,-129.25 355.52,-128.82 354.16,-128.35 352.81,-127.84 351.48,-127.29 350.17,-126.69 348.89,-126.06 347.62,-125.39 346.39,-124.69 345.2,-123.96 344.04,-123.2 342.92,-122.41 341.85,-121.59 340.83,-120.75 339.86,-119.89 338.95,-119.01 338.11,-118.11 337.33,-117.2 336.63,-116.28 336.01,-115.35 335.47,-114.41 335.01,-113.47 334.65,-112.53 334.38,-111.59 334.22,-110.65 334.15,-109.72 334.19,-108.8 334.34,-107.89 334.6,-106.99 334.97,-106.11 335.45,-105.25 336.04,-104.41 336.75,-103.59 337.58,-102.8 338.51,-102.04 339.56,-101.31 340.71,-100.61 341.97,-99.94 343.34,-99.31 344.8,-98.71 346.35,-98.16 347.99,-97.65 349.72,-97.18 351.52,-96.75 353.39,-96.36 355.32,-96.03 357.31,-95.74 359.35,-95.49 361.42,-95.3 363.53,-95.15 365.65,-95.05 367.79,-95 369.94,-95 372.08,-95.05\"/>\n",
       "<text text-anchor=\"middle\" x=\"368.87\" y=\"-109.3\" font-family=\"Calibri\" font-size=\"14.00\">merci</text>\n",
       "</g>\n",
       "<!-- Mesdames&#45;&gt;merci -->\n",
       "<g id=\"edge10\" class=\"edge\">\n",
       "<title>Mesdames&#45;&gt;merci</title>\n",
       "<path fill=\"none\" stroke=\"black\" d=\"M233.15,-160.78C263.18,-150.13 303.87,-135.7 332.64,-125.49\"/>\n",
       "<polygon fill=\"black\" stroke=\"black\" points=\"334.04,-128.71 342.29,-122.07 331.7,-122.11 334.04,-128.71\"/>\n",
       "<text text-anchor=\"middle\" x=\"282.19\" y=\"-151.2\" font-family=\"Calibri\" font-size=\"11.00\">nmod</text>\n",
       "</g>\n",
       "<!-- . -->\n",
       "<g id=\"node14\" class=\"node\">\n",
       "<title>.</title>\n",
       "<polygon fill=\"none\" stroke=\"black\" points=\"371.55,-41.05 373.32,-41.15 375.08,-41.3 376.81,-41.49 378.51,-41.74 380.17,-42.03 381.79,-42.36 383.35,-42.75 384.85,-43.18 386.29,-43.65 387.67,-44.16 388.96,-44.71 390.18,-45.31 391.32,-45.94 392.37,-46.61 393.34,-47.31 394.21,-48.04 394.99,-48.8 395.68,-49.59 396.27,-50.41 396.77,-51.25 397.17,-52.11 397.48,-52.99 397.7,-53.89 397.82,-54.8 397.85,-55.72 397.8,-56.65 397.66,-57.59 397.44,-58.53 397.13,-59.47 396.76,-60.41 396.3,-61.35 395.78,-62.28 395.2,-63.2 394.55,-64.11 393.85,-65.01 393.09,-65.89 392.28,-66.75 391.43,-67.59 390.53,-68.41 389.6,-69.2 388.63,-69.96 387.63,-70.69 386.6,-71.39 385.55,-72.06 384.48,-72.69 383.38,-73.29 382.27,-73.84 381.15,-74.35 380.01,-74.82 378.86,-75.25 377.7,-75.64 376.54,-75.97 375.37,-76.26 374.19,-76.51 373.01,-76.7 371.83,-76.85 370.64,-76.95 369.46,-77 368.27,-77 367.09,-76.95 365.9,-76.85 364.72,-76.7 363.54,-76.51 362.36,-76.26 361.19,-75.97 360.03,-75.64 358.87,-75.25 357.72,-74.82 356.59,-74.35 355.46,-73.84 354.35,-73.29 353.26,-72.69 352.18,-72.06 351.13,-71.39 350.1,-70.69 349.1,-69.96 348.13,-69.2 347.2,-68.41 346.3,-67.59 345.45,-66.75 344.64,-65.89 343.88,-65.01 343.18,-64.11 342.53,-63.2 341.95,-62.28 341.43,-61.35 340.98,-60.41 340.6,-59.47 340.29,-58.53 340.07,-57.59 339.93,-56.65 339.88,-55.72 339.91,-54.8 340.03,-53.89 340.25,-52.99 340.56,-52.11 340.96,-51.25 341.46,-50.41 342.05,-49.59 342.74,-48.8 343.52,-48.04 344.39,-47.31 345.36,-46.61 346.41,-45.94 347.55,-45.31 348.77,-44.71 350.07,-44.16 351.44,-43.65 352.88,-43.18 354.38,-42.75 355.94,-42.36 357.56,-42.03 359.22,-41.74 360.92,-41.49 362.65,-41.3 364.41,-41.15 366.18,-41.05 367.97,-41 369.76,-41 371.55,-41.05\"/>\n",
       "<text text-anchor=\"middle\" x=\"368.87\" y=\"-55.3\" font-family=\"Calibri\" font-size=\"14.00\">.</text>\n",
       "</g>\n",
       "<!-- Mesdames&#45;&gt;. -->\n",
       "<g id=\"edge15\" class=\"edge\">\n",
       "<title>Mesdames&#45;&gt;.</title>\n",
       "<path fill=\"none\" stroke=\"black\" d=\"M214.17,-157.79C237.76,-138.97 277.47,-108.5 314.19,-86 321.65,-81.43 329.98,-76.95 337.82,-73\"/>\n",
       "<polygon fill=\"black\" stroke=\"black\" points=\"339.6,-76.02 347.04,-68.47 336.52,-69.74 339.6,-76.02\"/>\n",
       "<text text-anchor=\"middle\" x=\"282.19\" y=\"-119.2\" font-family=\"Calibri\" font-size=\"11.00\">punct</text>\n",
       "</g>\n",
       "<!-- et -->\n",
       "<g id=\"node2\" class=\"node\">\n",
       "<title>et</title>\n",
       "<polygon fill=\"none\" stroke=\"black\" points=\"543.37,-270.05 545.15,-270.15 546.9,-270.3 548.64,-270.49 550.34,-270.74 552,-271.03 553.61,-271.36 555.17,-271.75 556.68,-272.18 558.12,-272.65 559.49,-273.16 560.79,-273.71 562,-274.31 563.14,-274.94 564.19,-275.61 565.16,-276.31 566.03,-277.04 566.81,-277.8 567.5,-278.59 568.09,-279.41 568.59,-280.25 569,-281.11 569.3,-281.99 569.52,-282.89 569.64,-283.8 569.68,-284.72 569.62,-285.65 569.48,-286.59 569.26,-287.53 568.96,-288.47 568.58,-289.41 568.13,-290.35 567.61,-291.28 567.02,-292.2 566.37,-293.11 565.67,-294.01 564.91,-294.89 564.1,-295.75 563.25,-296.59 562.35,-297.41 561.42,-298.2 560.45,-298.96 559.45,-299.69 558.42,-300.39 557.37,-301.06 556.3,-301.69 555.2,-302.29 554.09,-302.84 552.97,-303.35 551.83,-303.82 550.68,-304.25 549.52,-304.64 548.36,-304.97 547.19,-305.26 546.01,-305.51 544.83,-305.7 543.65,-305.85 542.47,-305.95 541.28,-306 540.09,-306 538.91,-305.95 537.72,-305.85 536.54,-305.7 535.36,-305.51 534.19,-305.26 533.02,-304.97 531.85,-304.64 530.69,-304.25 529.55,-303.82 528.41,-303.35 527.28,-302.84 526.17,-302.29 525.08,-301.69 524,-301.06 522.95,-300.39 521.92,-299.69 520.92,-298.96 519.96,-298.2 519.02,-297.41 518.13,-296.59 517.27,-295.75 516.46,-294.89 515.71,-294.01 515,-293.11 514.35,-292.2 513.77,-291.28 513.25,-290.35 512.8,-289.41 512.42,-288.47 512.12,-287.53 511.89,-286.59 511.75,-285.65 511.7,-284.72 511.73,-283.8 511.85,-282.89 512.07,-281.99 512.38,-281.11 512.78,-280.25 513.28,-279.41 513.87,-278.59 514.56,-277.8 515.34,-277.04 516.22,-276.31 517.18,-275.61 518.23,-274.94 519.37,-274.31 520.59,-273.71 521.89,-273.16 523.26,-272.65 524.7,-272.18 526.2,-271.75 527.76,-271.36 529.38,-271.03 531.04,-270.74 532.74,-270.49 534.47,-270.3 536.23,-270.15 538,-270.05 539.79,-270 541.58,-270 543.37,-270.05\"/>\n",
       "<text text-anchor=\"middle\" x=\"540.69\" y=\"-284.3\" font-family=\"Calibri\" font-size=\"14.00\">et</text>\n",
       "</g>\n",
       "<!-- messieurs&#45;&gt;et -->\n",
       "<g id=\"edge2\" class=\"edge\">\n",
       "<title>messieurs&#45;&gt;et</title>\n",
       "<path fill=\"none\" stroke=\"black\" d=\"M422.67,-287.31C448.34,-287.46 478.59,-287.64 501.91,-287.78\"/>\n",
       "<polygon fill=\"black\" stroke=\"black\" points=\"502.08,-291.28 512.1,-287.84 502.12,-284.28 502.08,-291.28\"/>\n",
       "<text text-anchor=\"middle\" x=\"457.54\" y=\"-290.2\" font-family=\"Calibri\" font-size=\"11.00\">cc</text>\n",
       "</g>\n",
       "<!-- nous -->\n",
       "<g id=\"node5\" class=\"node\">\n",
       "<title>nous</title>\n",
       "<polygon fill=\"none\" stroke=\"red\" stroke-dasharray=\"5,2\" points=\"543.62,-162.05 545.56,-162.15 547.48,-162.3 549.37,-162.49 551.23,-162.74 553.04,-163.03 554.81,-163.36 556.52,-163.75 558.16,-164.18 559.73,-164.65 561.23,-165.16 562.65,-165.71 563.98,-166.31 565.23,-166.94 566.38,-167.61 567.43,-168.31 568.38,-169.04 569.24,-169.8 569.99,-170.59 570.64,-171.41 571.18,-172.25 571.62,-173.11 571.96,-173.99 572.19,-174.89 572.33,-175.8 572.37,-176.72 572.31,-177.65 572.15,-178.59 571.91,-179.53 571.58,-180.47 571.16,-181.41 570.67,-182.35 570.1,-183.28 569.46,-184.2 568.76,-185.11 567.99,-186.01 567.16,-186.89 566.27,-187.75 565.34,-188.59 564.36,-189.41 563.34,-190.2 562.28,-190.96 561.19,-191.69 560.07,-192.39 558.92,-193.06 557.75,-193.69 556.55,-194.29 555.34,-194.84 554.11,-195.35 552.86,-195.82 551.61,-196.25 550.34,-196.64 549.07,-196.97 547.79,-197.26 546.51,-197.51 545.22,-197.7 543.93,-197.85 542.63,-197.95 541.34,-198 540.04,-198 538.74,-197.95 537.45,-197.85 536.16,-197.7 534.87,-197.51 533.58,-197.26 532.3,-196.97 531.03,-196.64 529.77,-196.25 528.51,-195.82 527.27,-195.35 526.04,-194.84 524.82,-194.29 523.63,-193.69 522.46,-193.06 521.31,-192.39 520.18,-191.69 519.09,-190.96 518.03,-190.2 517.01,-189.41 516.03,-188.59 515.1,-187.75 514.22,-186.89 513.39,-186.01 512.62,-185.11 511.91,-184.2 511.27,-183.28 510.7,-182.35 510.21,-181.41 509.8,-180.47 509.47,-179.53 509.22,-178.59 509.07,-177.65 509.01,-176.72 509.05,-175.8 509.18,-174.89 509.42,-173.99 509.75,-173.11 510.19,-172.25 510.74,-171.41 511.39,-170.59 512.14,-169.8 512.99,-169.04 513.95,-168.31 515,-167.61 516.15,-166.94 517.39,-166.31 518.73,-165.71 520.14,-165.16 521.64,-164.65 523.22,-164.18 524.86,-163.75 526.57,-163.36 528.33,-163.03 530.14,-162.74 532,-162.49 533.89,-162.3 535.82,-162.15 537.76,-162.05 539.71,-162 541.67,-162 543.62,-162.05\"/>\n",
       "<text text-anchor=\"middle\" x=\"540.69\" y=\"-176.3\" font-family=\"Calibri\" font-size=\"14.00\">nous</text>\n",
       "</g>\n",
       "<!-- allons&#45;&gt;, -->\n",
       "<g id=\"edge4\" class=\"edge\">\n",
       "<title>allons&#45;&gt;,</title>\n",
       "<path fill=\"none\" stroke=\"black\" d=\"M396.29,-184.17C417.24,-191.44 447.27,-201.87 473.54,-211 483.45,-214.44 494.19,-218.18 504.07,-221.61\"/>\n",
       "<polygon fill=\"black\" stroke=\"black\" points=\"503.02,-224.95 513.61,-224.93 505.32,-218.34 503.02,-224.95\"/>\n",
       "<text text-anchor=\"middle\" x=\"457.54\" y=\"-214.2\" font-family=\"Calibri\" font-size=\"11.00\">punct</text>\n",
       "</g>\n",
       "<!-- allons&#45;&gt;nous -->\n",
       "<g id=\"edge5\" class=\"edge\">\n",
       "<title>allons&#45;&gt;nous</title>\n",
       "<path fill=\"none\" stroke=\"black\" d=\"M404.43,-174.89C424.6,-174.94 450.52,-175.19 473.54,-176 481.8,-176.29 490.63,-176.73 499.06,-177.22\"/>\n",
       "<polygon fill=\"black\" stroke=\"black\" points=\"498.88,-180.71 509.08,-177.82 499.31,-173.73 498.88,-180.71\"/>\n",
       "<text text-anchor=\"middle\" x=\"457.54\" y=\"-179.2\" font-family=\"Calibri\" font-size=\"11.00\">nsubj</text>\n",
       "</g>\n",
       "<!-- atterrir -->\n",
       "<g id=\"node8\" class=\"node\">\n",
       "<title>atterrir</title>\n",
       "<polygon fill=\"antiquewhite\" stroke=\"antiquewhite\" points=\"544.25,-108.05 546.61,-108.15 548.95,-108.3 551.25,-108.49 553.51,-108.74 555.71,-109.03 557.86,-109.36 559.94,-109.75 561.93,-110.18 563.85,-110.65 565.67,-111.16 567.39,-111.71 569.01,-112.31 570.53,-112.94 571.93,-113.61 573.21,-114.31 574.37,-115.04 575.41,-115.8 576.32,-116.59 577.11,-117.41 577.77,-118.25 578.31,-119.11 578.72,-119.99 579,-120.89 579.17,-121.8 579.21,-122.72 579.14,-123.65 578.95,-124.59 578.65,-125.53 578.25,-126.47 577.75,-127.41 577.15,-128.35 576.46,-129.28 575.68,-130.2 574.82,-131.11 573.88,-132.01 572.88,-132.89 571.8,-133.75 570.67,-134.59 569.48,-135.41 568.24,-136.2 566.95,-136.96 565.62,-137.69 564.26,-138.39 562.86,-139.06 561.43,-139.69 559.98,-140.29 558.5,-140.84 557.01,-141.35 555.49,-141.82 553.97,-142.25 552.43,-142.64 550.88,-142.97 549.33,-143.26 547.76,-143.51 546.2,-143.7 544.62,-143.85 543.05,-143.95 541.48,-144 539.9,-144 538.32,-143.95 536.75,-143.85 535.18,-143.7 533.61,-143.51 532.05,-143.26 530.49,-142.97 528.94,-142.64 527.41,-142.25 525.88,-141.82 524.37,-141.35 522.87,-140.84 521.4,-140.29 519.94,-139.69 518.52,-139.06 517.12,-138.39 515.75,-137.69 514.42,-136.96 513.14,-136.2 511.9,-135.41 510.71,-134.59 509.57,-133.75 508.5,-132.89 507.49,-132.01 506.56,-131.11 505.7,-130.2 504.92,-129.28 504.23,-128.35 503.63,-127.41 503.12,-126.47 502.72,-125.53 502.42,-124.59 502.24,-123.65 502.17,-122.72 502.21,-121.8 502.37,-120.89 502.66,-119.99 503.07,-119.11 503.61,-118.25 504.27,-117.41 505.05,-116.59 505.97,-115.8 507.01,-115.04 508.17,-114.31 509.45,-113.61 510.85,-112.94 512.36,-112.31 513.98,-111.71 515.7,-111.16 517.53,-110.65 519.44,-110.18 521.44,-109.75 523.52,-109.36 525.66,-109.03 527.87,-108.74 530.13,-108.49 532.43,-108.3 534.76,-108.15 537.12,-108.05 539.5,-108 541.88,-108 544.25,-108.05\"/>\n",
       "<text text-anchor=\"middle\" x=\"540.69\" y=\"-122.3\" font-family=\"Calibri\" font-size=\"14.00\">atterrir</text>\n",
       "</g>\n",
       "<!-- allons&#45;&gt;atterrir -->\n",
       "<g id=\"edge8\" class=\"edge\">\n",
       "<title>allons&#45;&gt;atterrir</title>\n",
       "<path fill=\"none\" stroke=\"black\" stroke-dasharray=\"5,2\" d=\"M402.61,-165.55C430.67,-157.46 471.13,-145.78 500.82,-137.21\"/>\n",
       "<polygon fill=\"black\" stroke=\"black\" points=\"501.81,-140.57 510.45,-134.44 499.87,-133.85 501.81,-140.57\"/>\n",
       "<text text-anchor=\"middle\" x=\"457.54\" y=\"-157.2\" font-family=\"Calibri\" font-size=\"11.00\">xcomp</text>\n",
       "</g>\n",
       "<!-- bientôt -->\n",
       "<g id=\"node7\" class=\"node\">\n",
       "<title>bientôt</title>\n",
       "<polygon fill=\"none\" stroke=\"black\" points=\"721.93,-108.05 724.34,-108.15 726.73,-108.3 729.09,-108.49 731.4,-108.74 733.65,-109.03 735.85,-109.36 737.97,-109.75 740.02,-110.18 741.97,-110.65 743.84,-111.16 745.6,-111.71 747.26,-112.31 748.81,-112.94 750.24,-113.61 751.55,-114.31 752.73,-115.04 753.8,-115.8 754.73,-116.59 755.54,-117.41 756.21,-118.25 756.76,-119.11 757.18,-119.99 757.47,-120.89 757.64,-121.8 757.69,-122.72 757.61,-123.65 757.42,-124.59 757.12,-125.53 756.71,-126.47 756.19,-127.41 755.58,-128.35 754.87,-129.28 754.08,-130.2 753.2,-131.11 752.24,-132.01 751.21,-132.89 750.11,-133.75 748.95,-134.59 747.73,-135.41 746.46,-136.2 745.15,-136.96 743.79,-137.69 742.39,-138.39 740.96,-139.06 739.5,-139.69 738.01,-140.29 736.5,-140.84 734.97,-141.35 733.43,-141.82 731.87,-142.25 730.29,-142.64 728.71,-142.97 727.12,-143.26 725.52,-143.51 723.92,-143.7 722.31,-143.85 720.7,-143.95 719.09,-144 717.48,-144 715.86,-143.95 714.25,-143.85 712.65,-143.7 711.04,-143.51 709.45,-143.26 707.85,-142.97 706.27,-142.64 704.7,-142.25 703.14,-141.82 701.59,-141.35 700.06,-140.84 698.55,-140.29 697.06,-139.69 695.6,-139.06 694.17,-138.39 692.78,-137.69 691.42,-136.96 690.1,-136.2 688.83,-135.41 687.61,-134.59 686.45,-133.75 685.36,-132.89 684.33,-132.01 683.37,-131.11 682.49,-130.2 681.69,-129.28 680.98,-128.35 680.37,-127.41 679.86,-126.47 679.45,-125.53 679.14,-124.59 678.95,-123.65 678.88,-122.72 678.92,-121.8 679.09,-120.89 679.38,-119.99 679.8,-119.11 680.35,-118.25 681.03,-117.41 681.83,-116.59 682.77,-115.8 683.83,-115.04 685.02,-114.31 686.33,-113.61 687.76,-112.94 689.31,-112.31 690.96,-111.71 692.73,-111.16 694.59,-110.65 696.55,-110.18 698.59,-109.75 700.72,-109.36 702.91,-109.03 705.17,-108.74 707.48,-108.49 709.83,-108.3 712.22,-108.15 714.64,-108.05 717.07,-108 719.5,-108 721.93,-108.05\"/>\n",
       "<text text-anchor=\"middle\" x=\"718.28\" y=\"-122.3\" font-family=\"Calibri\" font-size=\"14.00\">bientôt</text>\n",
       "</g>\n",
       "<!-- atterrir&#45;&gt;bientôt -->\n",
       "<g id=\"edge7\" class=\"edge\">\n",
       "<title>atterrir&#45;&gt;bientôt</title>\n",
       "<path fill=\"none\" stroke=\"black\" d=\"M578.5,-126C604.92,-126 640.77,-126 669.42,-126\"/>\n",
       "<polygon fill=\"black\" stroke=\"black\" points=\"669.61,-129.5 679.61,-126 669.61,-122.5 669.61,-129.5\"/>\n",
       "<text text-anchor=\"middle\" x=\"634.33\" y=\"-129.2\" font-family=\"Calibri\" font-size=\"11.00\">advmod</text>\n",
       "</g>\n",
       "<!-- attacher -->\n",
       "<g id=\"node11\" class=\"node\">\n",
       "<title>attacher</title>\n",
       "<polygon fill=\"lightgrey\" stroke=\"lightgrey\" points=\"544.85,-54.05 547.61,-54.15 550.33,-54.3 553.02,-54.49 555.66,-54.74 558.23,-55.03 560.74,-55.36 563.16,-55.75 565.5,-56.18 567.73,-56.65 569.86,-57.16 571.87,-57.71 573.76,-58.31 575.53,-58.94 577.16,-59.61 578.66,-60.31 580.01,-61.04 581.23,-61.8 582.29,-62.59 583.21,-63.41 583.99,-64.25 584.61,-65.11 585.09,-65.99 585.42,-66.89 585.62,-67.8 585.67,-68.72 585.58,-69.65 585.36,-70.59 585.02,-71.53 584.55,-72.47 583.96,-73.41 583.26,-74.35 582.45,-75.28 581.54,-76.2 580.54,-77.11 579.45,-78.01 578.27,-78.89 577.02,-79.75 575.69,-80.59 574.3,-81.41 572.86,-82.2 571.35,-82.96 569.8,-83.69 568.21,-84.39 566.57,-85.06 564.91,-85.69 563.21,-86.29 561.49,-86.84 559.74,-87.35 557.98,-87.82 556.19,-88.25 554.4,-88.64 552.59,-88.97 550.77,-89.26 548.95,-89.51 547.12,-89.7 545.28,-89.85 543.45,-89.95 541.61,-90 539.77,-90 537.93,-89.95 536.09,-89.85 534.26,-89.7 532.43,-89.51 530.6,-89.26 528.78,-88.97 526.98,-88.64 525.18,-88.25 523.4,-87.82 521.63,-87.35 519.89,-86.84 518.16,-86.29 516.47,-85.69 514.8,-85.06 513.17,-84.39 511.57,-83.69 510.02,-82.96 508.52,-82.2 507.07,-81.41 505.68,-80.59 504.36,-79.75 503.1,-78.89 501.93,-78.01 500.83,-77.11 499.83,-76.2 498.92,-75.28 498.11,-74.35 497.41,-73.41 496.83,-72.47 496.36,-71.53 496.01,-70.59 495.79,-69.65 495.71,-68.72 495.76,-67.8 495.95,-66.89 496.29,-65.99 496.76,-65.11 497.39,-64.25 498.16,-63.41 499.08,-62.59 500.15,-61.8 501.36,-61.04 502.72,-60.31 504.21,-59.61 505.85,-58.94 507.61,-58.31 509.5,-57.71 511.52,-57.16 513.64,-56.65 515.88,-56.18 518.21,-55.75 520.64,-55.36 523.14,-55.03 525.72,-54.74 528.35,-54.49 531.04,-54.3 533.77,-54.15 536.53,-54.05 539.3,-54 542.08,-54 544.85,-54.05\"/>\n",
       "<text text-anchor=\"middle\" x=\"540.69\" y=\"-68.3\" font-family=\"Calibri\" font-size=\"14.00\">attacher</text>\n",
       "</g>\n",
       "<!-- merci&#45;&gt;attacher -->\n",
       "<g id=\"edge12\" class=\"edge\">\n",
       "<title>merci&#45;&gt;attacher</title>\n",
       "<path fill=\"none\" stroke=\"black\" d=\"M402.61,-105.09C428.91,-98.75 466.1,-89.77 495.11,-82.76\"/>\n",
       "<polygon fill=\"black\" stroke=\"black\" points=\"496.1,-86.12 505,-80.37 494.46,-79.32 496.1,-86.12\"/>\n",
       "<text text-anchor=\"middle\" x=\"457.54\" y=\"-98.2\" font-family=\"Calibri\" font-size=\"11.00\">nmod</text>\n",
       "</g>\n",
       "<!-- ceintures -->\n",
       "<g id=\"node13\" class=\"node\">\n",
       "<title>ceintures</title>\n",
       "<polygon fill=\"none\" stroke=\"blue\" points=\"545.25,-0.05 548.27,-0.15 551.26,-0.3 554.2,-0.49 557.09,-0.74 559.91,-1.03 562.66,-1.36 565.31,-1.75 567.87,-2.18 570.32,-2.65 572.65,-3.16 574.86,-3.71 576.93,-4.31 578.86,-4.94 580.65,-5.61 582.29,-6.31 583.78,-7.04 585.11,-7.8 586.28,-8.59 587.28,-9.41 588.13,-10.25 588.82,-11.11 589.34,-11.99 589.71,-12.89 589.92,-13.8 589.97,-14.72 589.88,-15.65 589.64,-16.59 589.26,-17.53 588.75,-18.47 588.1,-19.41 587.34,-20.35 586.45,-21.28 585.46,-22.2 584.36,-23.11 583.16,-24.01 581.87,-24.89 580.5,-25.75 579.04,-26.59 577.52,-27.41 575.94,-28.2 574.29,-28.96 572.59,-29.69 570.84,-30.39 569.05,-31.06 567.23,-31.69 565.37,-32.29 563.48,-32.84 561.57,-33.35 559.63,-33.82 557.68,-34.25 555.71,-34.64 553.73,-34.97 551.74,-35.26 549.74,-35.51 547.74,-35.7 545.72,-35.85 543.71,-35.95 541.7,-36 539.68,-36 537.66,-35.95 535.65,-35.85 533.64,-35.7 531.63,-35.51 529.64,-35.26 527.64,-34.97 525.66,-34.64 523.7,-34.25 521.74,-33.82 519.81,-33.35 517.9,-32.84 516.01,-32.29 514.15,-31.69 512.32,-31.06 510.53,-30.39 508.79,-29.69 507.09,-28.96 505.44,-28.2 503.85,-27.41 502.33,-26.59 500.88,-25.75 499.51,-24.89 498.22,-24.01 497.02,-23.11 495.92,-22.2 494.92,-21.28 494.04,-20.35 493.27,-19.41 492.63,-18.47 492.11,-17.53 491.73,-16.59 491.5,-15.65 491.4,-14.72 491.46,-13.8 491.67,-12.89 492.03,-11.99 492.56,-11.11 493.24,-10.25 494.09,-9.41 495.1,-8.59 496.27,-7.8 497.6,-7.04 499.08,-6.31 500.72,-5.61 502.51,-4.94 504.45,-4.31 506.52,-3.71 508.72,-3.16 511.06,-2.65 513.5,-2.18 516.06,-1.75 518.72,-1.36 521.46,-1.03 524.28,-0.74 527.17,-0.49 530.12,-0.3 533.11,-0.15 536.13,-0.05 539.17,0 542.21,0 545.25,-0.05\"/>\n",
       "<text text-anchor=\"middle\" x=\"540.69\" y=\"-14.3\" font-family=\"Calibri\" font-size=\"14.00\">ceintures</text>\n",
       "</g>\n",
       "<!-- merci&#45;&gt;ceintures -->\n",
       "<g id=\"edge14\" class=\"edge\">\n",
       "<title>merci&#45;&gt;ceintures</title>\n",
       "<path fill=\"none\" stroke=\"black\" d=\"M397.08,-100.36C405.7,-96.08 415.16,-91.09 423.54,-86 431.98,-80.88 433.23,-78.31 441.54,-73 461.92,-59.99 485.53,-46.71 504.48,-36.46\"/>\n",
       "<polygon fill=\"black\" stroke=\"black\" points=\"506.23,-39.49 513.38,-31.68 502.92,-33.33 506.23,-39.49\"/>\n",
       "<text text-anchor=\"middle\" x=\"457.54\" y=\"-76.2\" font-family=\"Calibri\" font-size=\"11.00\">nmod</text>\n",
       "</g>\n",
       "<!-- d&#39; -->\n",
       "<g id=\"node10\" class=\"node\">\n",
       "<title>d&#39;</title>\n",
       "<polygon fill=\"none\" stroke=\"black\" points=\"720.96,-54.05 722.74,-54.15 724.5,-54.3 726.23,-54.49 727.93,-54.74 729.59,-55.03 731.2,-55.36 732.77,-55.75 734.27,-56.18 735.71,-56.65 737.08,-57.16 738.38,-57.71 739.6,-58.31 740.74,-58.94 741.79,-59.61 742.75,-60.31 743.63,-61.04 744.41,-61.8 745.1,-62.59 745.69,-63.41 746.19,-64.25 746.59,-65.11 746.9,-65.99 747.11,-66.89 747.24,-67.8 747.27,-68.72 747.22,-69.65 747.08,-70.59 746.85,-71.53 746.55,-72.47 746.17,-73.41 745.72,-74.35 745.2,-75.28 744.61,-76.2 743.97,-77.11 743.26,-78.01 742.5,-78.89 741.7,-79.75 740.84,-80.59 739.95,-81.41 739.01,-82.2 738.05,-82.96 737.05,-83.69 736.02,-84.39 734.97,-85.06 733.89,-85.69 732.8,-86.29 731.69,-86.84 730.56,-87.35 729.42,-87.82 728.28,-88.25 727.12,-88.64 725.95,-88.97 724.78,-89.26 723.61,-89.51 722.43,-89.7 721.25,-89.85 720.06,-89.95 718.88,-90 717.69,-90 716.5,-89.95 715.32,-89.85 714.14,-89.7 712.96,-89.51 711.78,-89.26 710.61,-88.97 709.45,-88.64 708.29,-88.25 707.14,-87.82 706,-87.35 704.88,-86.84 703.77,-86.29 702.67,-85.69 701.6,-85.06 700.55,-84.39 699.52,-83.69 698.52,-82.96 697.55,-82.2 696.62,-81.41 695.72,-80.59 694.87,-79.75 694.06,-78.89 693.3,-78.01 692.6,-77.11 691.95,-76.2 691.36,-75.28 690.84,-74.35 690.39,-73.41 690.01,-72.47 689.71,-71.53 689.49,-70.59 689.35,-69.65 689.29,-68.72 689.33,-67.8 689.45,-66.89 689.67,-65.99 689.97,-65.11 690.38,-64.25 690.87,-63.41 691.47,-62.59 692.16,-61.8 692.94,-61.04 693.81,-60.31 694.77,-59.61 695.83,-58.94 696.97,-58.31 698.18,-57.71 699.48,-57.16 700.85,-56.65 702.29,-56.18 703.8,-55.75 705.36,-55.36 706.97,-55.03 708.63,-54.74 710.33,-54.49 712.07,-54.3 713.82,-54.15 715.6,-54.05 717.39,-54 719.18,-54 720.96,-54.05\"/>\n",
       "<text text-anchor=\"middle\" x=\"718.28\" y=\"-68.3\" font-family=\"Calibri\" font-size=\"14.00\">d&#39;</text>\n",
       "</g>\n",
       "<!-- attacher&#45;&gt;d&#39; -->\n",
       "<g id=\"edge11\" class=\"edge\">\n",
       "<title>attacher&#45;&gt;d&#39;</title>\n",
       "<path fill=\"none\" stroke=\"black\" d=\"M585.09,-72C614.09,-72 651.86,-72 679.59,-72\"/>\n",
       "<polygon fill=\"black\" stroke=\"black\" points=\"679.69,-75.5 689.69,-72 679.69,-68.5 679.69,-75.5\"/>\n",
       "<text text-anchor=\"middle\" x=\"634.33\" y=\"-75.2\" font-family=\"Calibri\" font-size=\"11.00\">case</text>\n",
       "</g>\n",
       "<!-- vos -->\n",
       "<g id=\"node12\" class=\"node\">\n",
       "<title>vos</title>\n",
       "<polygon fill=\"none\" stroke=\"black\" points=\"720.96,-0.05 722.74,-0.15 724.5,-0.3 726.23,-0.49 727.93,-0.74 729.59,-1.03 731.2,-1.36 732.77,-1.75 734.27,-2.18 735.71,-2.65 737.08,-3.16 738.38,-3.71 739.6,-4.31 740.74,-4.94 741.79,-5.61 742.75,-6.31 743.63,-7.04 744.41,-7.8 745.1,-8.59 745.69,-9.41 746.19,-10.25 746.59,-11.11 746.9,-11.99 747.11,-12.89 747.24,-13.8 747.27,-14.72 747.22,-15.65 747.08,-16.59 746.85,-17.53 746.55,-18.47 746.17,-19.41 745.72,-20.35 745.2,-21.28 744.61,-22.2 743.97,-23.11 743.26,-24.01 742.5,-24.89 741.7,-25.75 740.84,-26.59 739.95,-27.41 739.01,-28.2 738.05,-28.96 737.05,-29.69 736.02,-30.39 734.97,-31.06 733.89,-31.69 732.8,-32.29 731.69,-32.84 730.56,-33.35 729.42,-33.82 728.28,-34.25 727.12,-34.64 725.95,-34.97 724.78,-35.26 723.61,-35.51 722.43,-35.7 721.25,-35.85 720.06,-35.95 718.88,-36 717.69,-36 716.5,-35.95 715.32,-35.85 714.14,-35.7 712.96,-35.51 711.78,-35.26 710.61,-34.97 709.45,-34.64 708.29,-34.25 707.14,-33.82 706,-33.35 704.88,-32.84 703.77,-32.29 702.67,-31.69 701.6,-31.06 700.55,-30.39 699.52,-29.69 698.52,-28.96 697.55,-28.2 696.62,-27.41 695.72,-26.59 694.87,-25.75 694.06,-24.89 693.3,-24.01 692.6,-23.11 691.95,-22.2 691.36,-21.28 690.84,-20.35 690.39,-19.41 690.01,-18.47 689.71,-17.53 689.49,-16.59 689.35,-15.65 689.29,-14.72 689.33,-13.8 689.45,-12.89 689.67,-11.99 689.97,-11.11 690.38,-10.25 690.87,-9.41 691.47,-8.59 692.16,-7.8 692.94,-7.04 693.81,-6.31 694.77,-5.61 695.83,-4.94 696.97,-4.31 698.18,-3.71 699.48,-3.16 700.85,-2.65 702.29,-2.18 703.8,-1.75 705.36,-1.36 706.97,-1.03 708.63,-0.74 710.33,-0.49 712.07,-0.3 713.82,-0.15 715.6,-0.05 717.39,0 719.18,0 720.96,-0.05\"/>\n",
       "<text text-anchor=\"middle\" x=\"718.28\" y=\"-14.3\" font-family=\"Calibri\" font-size=\"14.00\">vos</text>\n",
       "</g>\n",
       "<!-- ceintures&#45;&gt;vos -->\n",
       "<g id=\"edge13\" class=\"edge\">\n",
       "<title>ceintures&#45;&gt;vos</title>\n",
       "<path fill=\"none\" stroke=\"black\" d=\"M589.21,-18C617.63,-18 653.25,-18 679.7,-18\"/>\n",
       "<polygon fill=\"black\" stroke=\"black\" points=\"679.71,-21.5 689.71,-18 679.71,-14.5 679.71,-21.5\"/>\n",
       "<text text-anchor=\"middle\" x=\"634.33\" y=\"-21.2\" font-family=\"Calibri\" font-size=\"11.00\">nmod:poss</text>\n",
       "</g>\n",
       "<!-- ROOT -->\n",
       "<g id=\"node15\" class=\"node\">\n",
       "<title>ROOT</title>\n",
       "<polygon fill=\"none\" stroke=\"black\" points=\"43.1,-157.05 45.51,-157.15 47.9,-157.3 50.26,-157.49 52.57,-157.74 54.82,-158.03 57.02,-158.36 59.14,-158.75 61.19,-159.18 63.14,-159.65 65.01,-160.16 66.77,-160.71 68.43,-161.31 69.98,-161.94 71.41,-162.61 72.72,-163.31 73.9,-164.04 74.97,-164.8 75.9,-165.59 76.71,-166.41 77.38,-167.25 77.93,-168.11 78.35,-168.99 78.64,-169.89 78.81,-170.8 78.86,-171.72 78.78,-172.65 78.59,-173.59 78.29,-174.53 77.88,-175.47 77.36,-176.41 76.75,-177.35 76.04,-178.28 75.25,-179.2 74.37,-180.11 73.41,-181.01 72.38,-181.89 71.28,-182.75 70.12,-183.59 68.9,-184.41 67.63,-185.2 66.32,-185.96 64.96,-186.69 63.56,-187.39 62.13,-188.06 60.67,-188.69 59.18,-189.29 57.67,-189.84 56.14,-190.35 54.6,-190.82 53.04,-191.25 51.46,-191.64 49.88,-191.97 48.29,-192.26 46.69,-192.51 45.09,-192.7 43.48,-192.85 41.87,-192.95 40.26,-193 38.65,-193 37.03,-192.95 35.42,-192.85 33.82,-192.7 32.21,-192.51 30.62,-192.26 29.02,-191.97 27.44,-191.64 25.87,-191.25 24.31,-190.82 22.76,-190.35 21.23,-189.84 19.72,-189.29 18.23,-188.69 16.77,-188.06 15.34,-187.39 13.95,-186.69 12.59,-185.96 11.27,-185.2 10,-184.41 8.78,-183.59 7.62,-182.75 6.53,-181.89 5.5,-181.01 4.54,-180.11 3.66,-179.2 2.86,-178.28 2.15,-177.35 1.54,-176.41 1.03,-175.47 0.62,-174.53 0.31,-173.59 0.12,-172.65 0.05,-171.72 0.09,-170.8 0.26,-169.89 0.55,-168.99 0.97,-168.11 1.52,-167.25 2.2,-166.41 3,-165.59 3.94,-164.8 5,-164.04 6.19,-163.31 7.5,-162.61 8.93,-161.94 10.48,-161.31 12.13,-160.71 13.9,-160.16 15.76,-159.65 17.72,-159.18 19.76,-158.75 21.89,-158.36 24.08,-158.03 26.34,-157.74 28.65,-157.49 31,-157.3 33.39,-157.15 35.81,-157.05 38.24,-157 40.67,-157 43.1,-157.05\"/>\n",
       "<text text-anchor=\"middle\" x=\"39.45\" y=\"-171.3\" font-family=\"Calibri\" font-size=\"14.00\">ROOT</text>\n",
       "</g>\n",
       "<!-- ROOT&#45;&gt;Mesdames -->\n",
       "<g id=\"edge1\" class=\"edge\">\n",
       "<title>ROOT&#45;&gt;Mesdames</title>\n",
       "<path fill=\"none\" stroke=\"black\" d=\"M78.45,-175C92.46,-175 108.78,-175 124.57,-175\"/>\n",
       "<polygon fill=\"black\" stroke=\"black\" points=\"124.84,-178.5 134.84,-175 124.84,-171.5 124.84,-178.5\"/>\n",
       "<text text-anchor=\"middle\" x=\"106.4\" y=\"-178.2\" font-family=\"Calibri\" font-size=\"11.00\">root</text>\n",
       "</g>\n",
       "</g>\n",
       "</svg>\n"
      ],
      "text/plain": [
       "<graphviz.dot.Digraph at 0x7fe6352567f0>"
      ]
     },
     "execution_count": 43,
     "metadata": {},
     "output_type": "execute_result"
    }
   ],
   "source": [
    "from sagas.nlu.spacy_helper import spacy_mgr, vis\n",
    "from sagas.tracker_jupyter import enable_jupyter_tracker\n",
    "enable_jupyter_tracker()\n",
    "\n",
    "nlp_f = spacy_mgr.get_model('fr')\n",
    "doc_f = nlp_f(text)\n",
    "vis(doc_f, text)"
   ]
  },
  {
   "cell_type": "code",
   "execution_count": 54,
   "metadata": {
    "ExecuteTime": {
     "end_time": "2020-06-17T09:01:57.612389Z",
     "start_time": "2020-06-17T09:01:57.236147Z"
    }
   },
   "outputs": [
    {
     "data": {
      "text/html": [
       "<div>\n",
       "<style scoped>\n",
       "    .dataframe tbody tr th:only-of-type {\n",
       "        vertical-align: middle;\n",
       "    }\n",
       "\n",
       "    .dataframe tbody tr th {\n",
       "        vertical-align: top;\n",
       "    }\n",
       "\n",
       "    .dataframe thead th {\n",
       "        text-align: right;\n",
       "    }\n",
       "</style>\n",
       "<table border=\"1\" class=\"dataframe\">\n",
       "  <thead>\n",
       "    <tr style=\"text-align: right;\">\n",
       "      <th></th>\n",
       "      <th>index</th>\n",
       "      <th>text</th>\n",
       "      <th>lemma</th>\n",
       "      <th>upos</th>\n",
       "      <th>xpos</th>\n",
       "      <th>entity</th>\n",
       "    </tr>\n",
       "  </thead>\n",
       "  <tbody>\n",
       "    <tr>\n",
       "      <th>0</th>\n",
       "      <td>1</td>\n",
       "      <td>Benjamin</td>\n",
       "      <td>Benjamin</td>\n",
       "      <td>PROPN</td>\n",
       "      <td>NNP</td>\n",
       "      <td>[PERSON, B]</td>\n",
       "    </tr>\n",
       "    <tr>\n",
       "      <th>1</th>\n",
       "      <td>2</td>\n",
       "      <td>Brooks</td>\n",
       "      <td>Brooks</td>\n",
       "      <td>PROPN</td>\n",
       "      <td>NNP</td>\n",
       "      <td>[PERSON, I]</td>\n",
       "    </tr>\n",
       "    <tr>\n",
       "      <th>2</th>\n",
       "      <td>3</td>\n",
       "      <td>likes</td>\n",
       "      <td>like</td>\n",
       "      <td>VERB</td>\n",
       "      <td>VBZ</td>\n",
       "      <td>[, O]</td>\n",
       "    </tr>\n",
       "    <tr>\n",
       "      <th>3</th>\n",
       "      <td>4</td>\n",
       "      <td>apples</td>\n",
       "      <td>apple</td>\n",
       "      <td>NOUN</td>\n",
       "      <td>NNS</td>\n",
       "      <td>[, O]</td>\n",
       "    </tr>\n",
       "    <tr>\n",
       "      <th>4</th>\n",
       "      <td>5</td>\n",
       "      <td>,</td>\n",
       "      <td>,</td>\n",
       "      <td>PUNCT</td>\n",
       "      <td>,</td>\n",
       "      <td>[, O]</td>\n",
       "    </tr>\n",
       "    <tr>\n",
       "      <th>5</th>\n",
       "      <td>6</td>\n",
       "      <td>but</td>\n",
       "      <td>but</td>\n",
       "      <td>CCONJ</td>\n",
       "      <td>CC</td>\n",
       "      <td>[, O]</td>\n",
       "    </tr>\n",
       "    <tr>\n",
       "      <th>6</th>\n",
       "      <td>7</td>\n",
       "      <td>she</td>\n",
       "      <td>-PRON-</td>\n",
       "      <td>PRON</td>\n",
       "      <td>PRP</td>\n",
       "      <td>[, O]</td>\n",
       "    </tr>\n",
       "    <tr>\n",
       "      <th>7</th>\n",
       "      <td>8</td>\n",
       "      <td>likes</td>\n",
       "      <td>like</td>\n",
       "      <td>VERB</td>\n",
       "      <td>VBZ</td>\n",
       "      <td>[, O]</td>\n",
       "    </tr>\n",
       "    <tr>\n",
       "      <th>8</th>\n",
       "      <td>9</td>\n",
       "      <td>oranges</td>\n",
       "      <td>orange</td>\n",
       "      <td>NOUN</td>\n",
       "      <td>NNS</td>\n",
       "      <td>[, O]</td>\n",
       "    </tr>\n",
       "  </tbody>\n",
       "</table>\n",
       "</div>"
      ],
      "text/plain": [
       "   index      text     lemma   upos xpos       entity\n",
       "0      1  Benjamin  Benjamin  PROPN  NNP  [PERSON, B]\n",
       "1      2    Brooks    Brooks  PROPN  NNP  [PERSON, I]\n",
       "2      3     likes      like   VERB  VBZ        [, O]\n",
       "3      4    apples     apple   NOUN  NNS        [, O]\n",
       "4      5         ,         ,  PUNCT    ,        [, O]\n",
       "5      6       but       but  CCONJ   CC        [, O]\n",
       "6      7       she    -PRON-   PRON  PRP        [, O]\n",
       "7      8     likes      like   VERB  VBZ        [, O]\n",
       "8      9   oranges    orange   NOUN  NNS        [, O]"
      ]
     },
     "metadata": {},
     "output_type": "display_data"
    },
    {
     "data": {
      "image/svg+xml": [
       "<?xml version=\"1.0\" encoding=\"UTF-8\" standalone=\"no\"?>\n",
       "<!DOCTYPE svg PUBLIC \"-//W3C//DTD SVG 1.1//EN\"\n",
       " \"http://www.w3.org/Graphics/SVG/1.1/DTD/svg11.dtd\">\n",
       "<!-- Generated by graphviz version 2.44.0 (20200408.0750)\n",
       " -->\n",
       "<!-- Title: deps Pages: 1 -->\n",
       "<svg width=\"545pt\" height=\"314pt\"\n",
       " viewBox=\"0.00 0.00 545.23 314.00\" xmlns=\"http://www.w3.org/2000/svg\" xmlns:xlink=\"http://www.w3.org/1999/xlink\">\n",
       "<g id=\"graph0\" class=\"graph\" transform=\"scale(1 1) rotate(0) translate(4 310)\">\n",
       "<title>deps</title>\n",
       "<polygon fill=\"white\" stroke=\"transparent\" points=\"-4,4 -4,-310 541.23,-310 541.23,4 -4,4\"/>\n",
       "<!-- Benjamin -->\n",
       "<g id=\"node1\" class=\"node\">\n",
       "<title>Benjamin</title>\n",
       "<polygon fill=\"none\" stroke=\"black\" points=\"490.77,-270.05 493.92,-270.15 497.04,-270.3 500.12,-270.49 503.13,-270.74 506.08,-271.03 508.94,-271.36 511.71,-271.75 514.38,-272.18 516.94,-272.65 519.37,-273.16 521.67,-273.71 523.84,-274.31 525.86,-274.94 527.72,-275.61 529.44,-276.31 530.99,-277.04 532.37,-277.8 533.59,-278.59 534.64,-279.41 535.53,-280.25 536.24,-281.11 536.79,-281.99 537.17,-282.89 537.39,-283.8 537.45,-284.72 537.35,-285.65 537.1,-286.59 536.71,-287.53 536.17,-288.47 535.5,-289.41 534.7,-290.35 533.78,-291.28 532.74,-292.2 531.59,-293.11 530.34,-294.01 528.99,-294.89 527.56,-295.75 526.05,-296.59 524.46,-297.41 522.8,-298.2 521.08,-298.96 519.31,-299.69 517.48,-300.39 515.62,-301.06 513.71,-301.69 511.77,-302.29 509.8,-302.84 507.8,-303.35 505.78,-303.82 503.75,-304.25 501.69,-304.64 499.62,-304.97 497.55,-305.26 495.46,-305.51 493.37,-305.7 491.27,-305.85 489.17,-305.95 487.06,-306 484.96,-306 482.86,-305.95 480.75,-305.85 478.66,-305.7 476.56,-305.51 474.48,-305.26 472.4,-304.97 470.33,-304.64 468.28,-304.25 466.24,-303.82 464.22,-303.35 462.23,-302.84 460.25,-302.29 458.31,-301.69 456.41,-301.06 454.54,-300.39 452.72,-299.69 450.94,-298.96 449.22,-298.2 447.57,-297.41 445.98,-296.59 444.46,-295.75 443.03,-294.89 441.69,-294.01 440.44,-293.11 439.29,-292.2 438.25,-291.28 437.32,-290.35 436.52,-289.41 435.85,-288.47 435.31,-287.53 434.92,-286.59 434.67,-285.65 434.57,-284.72 434.63,-283.8 434.85,-282.89 435.23,-281.99 435.78,-281.11 436.5,-280.25 437.38,-279.41 438.43,-278.59 439.65,-277.8 441.04,-277.04 442.59,-276.31 444.3,-275.61 446.17,-274.94 448.19,-274.31 450.35,-273.71 452.65,-273.16 455.09,-272.65 457.64,-272.18 460.31,-271.75 463.08,-271.36 465.95,-271.03 468.89,-270.74 471.91,-270.49 474.98,-270.3 478.1,-270.15 481.25,-270.05 484.42,-270 487.6,-270 490.77,-270.05\"/>\n",
       "<text text-anchor=\"middle\" x=\"486.01\" y=\"-284.3\" font-family=\"Calibri\" font-size=\"14.00\">Benjamin</text>\n",
       "</g>\n",
       "<!-- Brooks -->\n",
       "<g id=\"node2\" class=\"node\">\n",
       "<title>Brooks</title>\n",
       "<polygon fill=\"none\" stroke=\"black\" points=\"306.57,-270.05 309.06,-270.15 311.53,-270.3 313.96,-270.49 316.34,-270.74 318.67,-271.03 320.93,-271.36 323.13,-271.75 325.24,-272.18 327.26,-272.65 329.18,-273.16 331,-273.71 332.71,-274.31 334.31,-274.94 335.79,-275.61 337.14,-276.31 338.37,-277.04 339.46,-277.8 340.43,-278.59 341.26,-279.41 341.96,-280.25 342.52,-281.11 342.96,-281.99 343.26,-282.89 343.43,-283.8 343.48,-284.72 343.4,-285.65 343.2,-286.59 342.89,-287.53 342.47,-288.47 341.94,-289.41 341.3,-290.35 340.57,-291.28 339.75,-292.2 338.84,-293.11 337.85,-294.01 336.79,-294.89 335.66,-295.75 334.46,-296.59 333.2,-297.41 331.89,-298.2 330.53,-298.96 329.13,-299.69 327.69,-300.39 326.21,-301.06 324.71,-301.69 323.17,-302.29 321.61,-302.84 320.03,-303.35 318.44,-303.82 316.83,-304.25 315.2,-304.64 313.57,-304.97 311.92,-305.26 310.27,-305.51 308.62,-305.7 306.96,-305.85 305.3,-305.95 303.64,-306 301.97,-306 300.31,-305.95 298.65,-305.85 296.99,-305.7 295.33,-305.51 293.68,-305.26 292.04,-304.97 290.4,-304.64 288.78,-304.25 287.17,-303.82 285.57,-303.35 283.99,-302.84 282.44,-302.29 280.9,-301.69 279.39,-301.06 277.92,-300.39 276.48,-299.69 275.07,-298.96 273.71,-298.2 272.4,-297.41 271.15,-296.59 269.95,-295.75 268.82,-294.89 267.75,-294.01 266.76,-293.11 265.86,-292.2 265.03,-291.28 264.3,-290.35 263.67,-289.41 263.14,-288.47 262.72,-287.53 262.4,-286.59 262.21,-285.65 262.13,-284.72 262.18,-283.8 262.35,-282.89 262.65,-281.99 263.08,-281.11 263.65,-280.25 264.35,-279.41 265.18,-278.59 266.15,-277.8 267.24,-277.04 268.47,-276.31 269.82,-275.61 271.3,-274.94 272.89,-274.31 274.6,-273.71 276.43,-273.16 278.35,-272.65 280.37,-272.18 282.48,-271.75 284.67,-271.36 286.94,-271.03 289.27,-270.74 291.65,-270.49 294.08,-270.3 296.55,-270.15 299.04,-270.05 301.55,-270 304.06,-270 306.57,-270.05\"/>\n",
       "<text text-anchor=\"middle\" x=\"302.8\" y=\"-284.3\" font-family=\"Calibri\" font-size=\"14.00\">Brooks</text>\n",
       "</g>\n",
       "<!-- Brooks&#45;&gt;Benjamin -->\n",
       "<g id=\"edge1\" class=\"edge\">\n",
       "<title>Brooks&#45;&gt;Benjamin</title>\n",
       "<path fill=\"none\" stroke=\"black\" d=\"M343.12,-288C367.12,-288 398.28,-288 425.28,-288\"/>\n",
       "<polygon fill=\"black\" stroke=\"black\" points=\"425.4,-291.5 435.4,-288 425.4,-284.5 425.4,-291.5\"/>\n",
       "<text text-anchor=\"middle\" x=\"391.29\" y=\"-291.2\" font-family=\"Calibri\" font-size=\"11.00\">compound</text>\n",
       "</g>\n",
       "<!-- likes -->\n",
       "<g id=\"node3\" class=\"node\">\n",
       "<title>likes</title>\n",
       "<polygon fill=\"lightgrey\" stroke=\"lightgrey\" points=\"167.17,-135.05 169.04,-135.15 170.88,-135.3 172.7,-135.49 174.48,-135.74 176.22,-136.03 177.91,-136.36 179.55,-136.75 181.13,-137.18 182.64,-137.65 184.08,-138.16 185.44,-138.71 186.72,-139.31 187.91,-139.94 189.02,-140.61 190.03,-141.31 190.95,-142.04 191.77,-142.8 192.49,-143.59 193.11,-144.41 193.63,-145.25 194.05,-146.11 194.38,-146.99 194.6,-147.89 194.73,-148.8 194.77,-149.72 194.71,-150.65 194.56,-151.59 194.33,-152.53 194.01,-153.47 193.62,-154.41 193.14,-155.35 192.6,-156.28 191.98,-157.2 191.3,-158.11 190.56,-159.01 189.77,-159.89 188.92,-160.75 188.03,-161.59 187.09,-162.41 186.11,-163.2 185.09,-163.96 184.04,-164.69 182.97,-165.39 181.86,-166.06 180.73,-166.69 179.59,-167.29 178.42,-167.84 177.24,-168.35 176.05,-168.82 174.84,-169.25 173.63,-169.64 172.41,-169.97 171.18,-170.26 169.95,-170.51 168.71,-170.7 167.47,-170.85 166.23,-170.95 164.98,-171 163.74,-171 162.49,-170.95 161.25,-170.85 160.01,-170.7 158.77,-170.51 157.54,-170.26 156.31,-169.97 155.09,-169.64 153.88,-169.25 152.67,-168.82 151.48,-168.35 150.3,-167.84 149.13,-167.29 147.98,-166.69 146.86,-166.06 145.75,-165.39 144.68,-164.69 143.63,-163.96 142.61,-163.2 141.63,-162.41 140.69,-161.59 139.8,-160.75 138.95,-159.89 138.15,-159.01 137.42,-158.11 136.74,-157.2 136.12,-156.28 135.58,-155.35 135.1,-154.41 134.71,-153.47 134.39,-152.53 134.15,-151.59 134.01,-150.65 133.95,-149.72 133.99,-148.8 134.11,-147.89 134.34,-146.99 134.66,-146.11 135.09,-145.25 135.61,-144.41 136.23,-143.59 136.95,-142.8 137.77,-142.04 138.69,-141.31 139.7,-140.61 140.8,-139.94 142,-139.31 143.28,-138.71 144.64,-138.16 146.08,-137.65 147.59,-137.18 149.17,-136.75 150.8,-136.36 152.5,-136.03 154.24,-135.74 156.02,-135.49 157.84,-135.3 159.68,-135.15 161.55,-135.05 163.42,-135 165.3,-135 167.17,-135.05\"/>\n",
       "<text text-anchor=\"middle\" x=\"164.36\" y=\"-149.3\" font-family=\"Calibri\" font-size=\"14.00\">likes</text>\n",
       "</g>\n",
       "<!-- likes&#45;&gt;Brooks -->\n",
       "<g id=\"edge2\" class=\"edge\">\n",
       "<title>likes&#45;&gt;Brooks</title>\n",
       "<path fill=\"none\" stroke=\"black\" d=\"M176.01,-169.01C191.75,-191.74 223.13,-233.64 257.81,-261 260.73,-263.3 263.85,-265.56 267.04,-267.74\"/>\n",
       "<polygon fill=\"black\" stroke=\"black\" points=\"265.25,-270.75 275.54,-273.27 269.07,-264.88 265.25,-270.75\"/>\n",
       "<text text-anchor=\"middle\" x=\"226.31\" y=\"-247.2\" font-family=\"Calibri\" font-size=\"11.00\">nsubj</text>\n",
       "</g>\n",
       "<!-- likes&#45;&gt;likes -->\n",
       "<g id=\"edge8\" class=\"edge\">\n",
       "<title>likes&#45;&gt;likes</title>\n",
       "<path fill=\"none\" stroke=\"black\" d=\"M154.52,-169.66C152.33,-179.62 155.61,-189 164.36,-189 169.96,-189 173.33,-185.15 174.44,-179.77\"/>\n",
       "<polygon fill=\"black\" stroke=\"black\" points=\"177.94,-179.58 174.2,-169.66 170.94,-179.74 177.94,-179.58\"/>\n",
       "<text text-anchor=\"middle\" x=\"164.36\" y=\"-192.2\" font-family=\"Calibri\" font-size=\"11.00\">conj</text>\n",
       "</g>\n",
       "<!-- apples -->\n",
       "<g id=\"node4\" class=\"node\">\n",
       "<title>apples</title>\n",
       "<polygon fill=\"none\" stroke=\"blue\" points=\"306.37,-216.05 308.73,-216.15 311.06,-216.3 313.37,-216.49 315.62,-216.74 317.83,-217.03 319.98,-217.36 322.05,-217.75 324.05,-218.18 325.96,-218.65 327.79,-219.16 329.51,-219.71 331.13,-220.31 332.64,-220.94 334.04,-221.61 335.32,-222.31 336.48,-223.04 337.52,-223.8 338.44,-224.59 339.22,-225.41 339.89,-226.25 340.42,-227.11 340.83,-227.99 341.12,-228.89 341.28,-229.8 341.33,-230.72 341.25,-231.65 341.07,-232.59 340.77,-233.53 340.37,-234.47 339.87,-235.41 339.27,-236.35 338.57,-237.28 337.8,-238.2 336.94,-239.11 336,-240.01 334.99,-240.89 333.92,-241.75 332.78,-242.59 331.59,-243.41 330.35,-244.2 329.07,-244.96 327.74,-245.69 326.37,-246.39 324.97,-247.06 323.55,-247.69 322.09,-248.29 320.62,-248.84 319.12,-249.35 317.61,-249.82 316.08,-250.25 314.55,-250.64 313,-250.97 311.44,-251.26 309.88,-251.51 308.31,-251.7 306.74,-251.85 305.17,-251.95 303.59,-252 302.02,-252 300.44,-251.95 298.87,-251.85 297.29,-251.7 295.73,-251.51 294.16,-251.26 292.61,-250.97 291.06,-250.64 289.52,-250.25 288,-249.82 286.48,-249.35 284.99,-248.84 283.51,-248.29 282.06,-247.69 280.63,-247.06 279.23,-246.39 277.87,-245.69 276.54,-244.96 275.25,-244.2 274.01,-243.41 272.82,-242.59 271.69,-241.75 270.62,-240.89 269.61,-240.01 268.67,-239.11 267.81,-238.2 267.03,-237.28 266.34,-236.35 265.74,-235.41 265.24,-234.47 264.84,-233.53 264.54,-232.59 264.35,-231.65 264.28,-230.72 264.33,-229.8 264.49,-228.89 264.78,-227.99 265.19,-227.11 265.72,-226.25 266.38,-225.41 267.17,-224.59 268.08,-223.8 269.12,-223.04 270.28,-222.31 271.57,-221.61 272.96,-220.94 274.48,-220.31 276.1,-219.71 277.82,-219.16 279.64,-218.65 281.56,-218.18 283.56,-217.75 285.63,-217.36 287.78,-217.03 289.98,-216.74 292.24,-216.49 294.54,-216.3 296.88,-216.15 299.24,-216.05 301.61,-216 303.99,-216 306.37,-216.05\"/>\n",
       "<text text-anchor=\"middle\" x=\"302.8\" y=\"-230.3\" font-family=\"Calibri\" font-size=\"14.00\">apples</text>\n",
       "</g>\n",
       "<!-- likes&#45;&gt;apples -->\n",
       "<g id=\"edge4\" class=\"edge\">\n",
       "<title>likes&#45;&gt;apples</title>\n",
       "<path fill=\"none\" stroke=\"black\" d=\"M183.66,-165.36C192.4,-171.16 203.05,-178.08 212.81,-184 230.33,-194.62 250.17,-205.85 266.67,-214.96\"/>\n",
       "<polygon fill=\"black\" stroke=\"black\" points=\"265,-218.04 275.45,-219.8 268.37,-211.91 265,-218.04\"/>\n",
       "<text text-anchor=\"middle\" x=\"226.31\" y=\"-203.2\" font-family=\"Calibri\" font-size=\"11.00\">dobj</text>\n",
       "</g>\n",
       "<!-- , -->\n",
       "<g id=\"node5\" class=\"node\">\n",
       "<title>,</title>\n",
       "<polygon fill=\"none\" stroke=\"black\" points=\"305.49,-162.05 307.26,-162.15 309.02,-162.3 310.75,-162.49 312.45,-162.74 314.11,-163.03 315.73,-163.36 317.29,-163.75 318.79,-164.18 320.23,-164.65 321.6,-165.16 322.9,-165.71 324.12,-166.31 325.26,-166.94 326.31,-167.61 327.28,-168.31 328.15,-169.04 328.93,-169.8 329.62,-170.59 330.21,-171.41 330.71,-172.25 331.11,-173.11 331.42,-173.99 331.64,-174.89 331.76,-175.8 331.79,-176.72 331.74,-177.65 331.6,-178.59 331.37,-179.53 331.07,-180.47 330.69,-181.41 330.24,-182.35 329.72,-183.28 329.14,-184.2 328.49,-185.11 327.78,-186.01 327.03,-186.89 326.22,-187.75 325.36,-188.59 324.47,-189.41 323.54,-190.2 322.57,-190.96 321.57,-191.69 320.54,-192.39 319.49,-193.06 318.41,-193.69 317.32,-194.29 316.21,-194.84 315.08,-195.35 313.95,-195.82 312.8,-196.25 311.64,-196.64 310.48,-196.97 309.3,-197.26 308.13,-197.51 306.95,-197.7 305.77,-197.85 304.58,-197.95 303.4,-198 302.21,-198 301.02,-197.95 299.84,-197.85 298.66,-197.7 297.48,-197.51 296.3,-197.26 295.13,-196.97 293.97,-196.64 292.81,-196.25 291.66,-195.82 290.52,-195.35 289.4,-194.84 288.29,-194.29 287.19,-193.69 286.12,-193.06 285.07,-192.39 284.04,-191.69 283.04,-190.96 282.07,-190.2 281.14,-189.41 280.24,-188.59 279.39,-187.75 278.58,-186.89 277.82,-186.01 277.12,-185.11 276.47,-184.2 275.89,-183.28 275.36,-182.35 274.91,-181.41 274.53,-180.47 274.23,-179.53 274.01,-178.59 273.87,-177.65 273.81,-176.72 273.85,-175.8 273.97,-174.89 274.19,-173.99 274.49,-173.11 274.9,-172.25 275.4,-171.41 275.99,-170.59 276.68,-169.8 277.46,-169.04 278.33,-168.31 279.3,-167.61 280.35,-166.94 281.49,-166.31 282.71,-165.71 284,-165.16 285.37,-164.65 286.81,-164.18 288.32,-163.75 289.88,-163.36 291.5,-163.03 293.16,-162.74 294.85,-162.49 296.59,-162.3 298.34,-162.15 300.12,-162.05 301.91,-162 303.7,-162 305.49,-162.05\"/>\n",
       "<text text-anchor=\"middle\" x=\"302.8\" y=\"-176.3\" font-family=\"Calibri\" font-size=\"14.00\">,</text>\n",
       "</g>\n",
       "<!-- likes&#45;&gt;, -->\n",
       "<g id=\"edge5\" class=\"edge\">\n",
       "<title>likes&#45;&gt;,</title>\n",
       "<path fill=\"none\" stroke=\"black\" d=\"M191.34,-158.14C211.95,-162.22 241.04,-167.98 264.2,-172.56\"/>\n",
       "<polygon fill=\"black\" stroke=\"black\" points=\"263.55,-176 274.04,-174.51 264.91,-169.13 263.55,-176\"/>\n",
       "<text text-anchor=\"middle\" x=\"226.31\" y=\"-171.2\" font-family=\"Calibri\" font-size=\"11.00\">punct</text>\n",
       "</g>\n",
       "<!-- but -->\n",
       "<g id=\"node6\" class=\"node\">\n",
       "<title>but</title>\n",
       "<polygon fill=\"none\" stroke=\"black\" points=\"305.49,-108.05 307.26,-108.15 309.02,-108.3 310.75,-108.49 312.45,-108.74 314.11,-109.03 315.73,-109.36 317.29,-109.75 318.79,-110.18 320.23,-110.65 321.6,-111.16 322.9,-111.71 324.12,-112.31 325.26,-112.94 326.31,-113.61 327.28,-114.31 328.15,-115.04 328.93,-115.8 329.62,-116.59 330.21,-117.41 330.71,-118.25 331.11,-119.11 331.42,-119.99 331.64,-120.89 331.76,-121.8 331.79,-122.72 331.74,-123.65 331.6,-124.59 331.37,-125.53 331.07,-126.47 330.69,-127.41 330.24,-128.35 329.72,-129.28 329.14,-130.2 328.49,-131.11 327.78,-132.01 327.03,-132.89 326.22,-133.75 325.36,-134.59 324.47,-135.41 323.54,-136.2 322.57,-136.96 321.57,-137.69 320.54,-138.39 319.49,-139.06 318.41,-139.69 317.32,-140.29 316.21,-140.84 315.08,-141.35 313.95,-141.82 312.8,-142.25 311.64,-142.64 310.48,-142.97 309.3,-143.26 308.13,-143.51 306.95,-143.7 305.77,-143.85 304.58,-143.95 303.4,-144 302.21,-144 301.02,-143.95 299.84,-143.85 298.66,-143.7 297.48,-143.51 296.3,-143.26 295.13,-142.97 293.97,-142.64 292.81,-142.25 291.66,-141.82 290.52,-141.35 289.4,-140.84 288.29,-140.29 287.19,-139.69 286.12,-139.06 285.07,-138.39 284.04,-137.69 283.04,-136.96 282.07,-136.2 281.14,-135.41 280.24,-134.59 279.39,-133.75 278.58,-132.89 277.82,-132.01 277.12,-131.11 276.47,-130.2 275.89,-129.28 275.36,-128.35 274.91,-127.41 274.53,-126.47 274.23,-125.53 274.01,-124.59 273.87,-123.65 273.81,-122.72 273.85,-121.8 273.97,-120.89 274.19,-119.99 274.49,-119.11 274.9,-118.25 275.4,-117.41 275.99,-116.59 276.68,-115.8 277.46,-115.04 278.33,-114.31 279.3,-113.61 280.35,-112.94 281.49,-112.31 282.71,-111.71 284,-111.16 285.37,-110.65 286.81,-110.18 288.32,-109.75 289.88,-109.36 291.5,-109.03 293.16,-108.74 294.85,-108.49 296.59,-108.3 298.34,-108.15 300.12,-108.05 301.91,-108 303.7,-108 305.49,-108.05\"/>\n",
       "<text text-anchor=\"middle\" x=\"302.8\" y=\"-122.3\" font-family=\"Calibri\" font-size=\"14.00\">but</text>\n",
       "</g>\n",
       "<!-- likes&#45;&gt;but -->\n",
       "<g id=\"edge6\" class=\"edge\">\n",
       "<title>likes&#45;&gt;but</title>\n",
       "<path fill=\"none\" stroke=\"black\" d=\"M194.63,-147.21C215.72,-143.03 244.28,-137.38 266.61,-132.96\"/>\n",
       "<polygon fill=\"black\" stroke=\"black\" points=\"267.57,-136.34 276.7,-130.97 266.21,-129.47 267.57,-136.34\"/>\n",
       "<text text-anchor=\"middle\" x=\"226.31\" y=\"-147.2\" font-family=\"Calibri\" font-size=\"11.00\">cc</text>\n",
       "</g>\n",
       "<!-- she -->\n",
       "<g id=\"node7\" class=\"node\">\n",
       "<title>she</title>\n",
       "<polygon fill=\"none\" stroke=\"red\" stroke-dasharray=\"5,2\" points=\"305.49,-54.05 307.26,-54.15 309.02,-54.3 310.75,-54.49 312.45,-54.74 314.11,-55.03 315.73,-55.36 317.29,-55.75 318.79,-56.18 320.23,-56.65 321.6,-57.16 322.9,-57.71 324.12,-58.31 325.26,-58.94 326.31,-59.61 327.28,-60.31 328.15,-61.04 328.93,-61.8 329.62,-62.59 330.21,-63.41 330.71,-64.25 331.11,-65.11 331.42,-65.99 331.64,-66.89 331.76,-67.8 331.79,-68.72 331.74,-69.65 331.6,-70.59 331.37,-71.53 331.07,-72.47 330.69,-73.41 330.24,-74.35 329.72,-75.28 329.14,-76.2 328.49,-77.11 327.78,-78.01 327.03,-78.89 326.22,-79.75 325.36,-80.59 324.47,-81.41 323.54,-82.2 322.57,-82.96 321.57,-83.69 320.54,-84.39 319.49,-85.06 318.41,-85.69 317.32,-86.29 316.21,-86.84 315.08,-87.35 313.95,-87.82 312.8,-88.25 311.64,-88.64 310.48,-88.97 309.3,-89.26 308.13,-89.51 306.95,-89.7 305.77,-89.85 304.58,-89.95 303.4,-90 302.21,-90 301.02,-89.95 299.84,-89.85 298.66,-89.7 297.48,-89.51 296.3,-89.26 295.13,-88.97 293.97,-88.64 292.81,-88.25 291.66,-87.82 290.52,-87.35 289.4,-86.84 288.29,-86.29 287.19,-85.69 286.12,-85.06 285.07,-84.39 284.04,-83.69 283.04,-82.96 282.07,-82.2 281.14,-81.41 280.24,-80.59 279.39,-79.75 278.58,-78.89 277.82,-78.01 277.12,-77.11 276.47,-76.2 275.89,-75.28 275.36,-74.35 274.91,-73.41 274.53,-72.47 274.23,-71.53 274.01,-70.59 273.87,-69.65 273.81,-68.72 273.85,-67.8 273.97,-66.89 274.19,-65.99 274.49,-65.11 274.9,-64.25 275.4,-63.41 275.99,-62.59 276.68,-61.8 277.46,-61.04 278.33,-60.31 279.3,-59.61 280.35,-58.94 281.49,-58.31 282.71,-57.71 284,-57.16 285.37,-56.65 286.81,-56.18 288.32,-55.75 289.88,-55.36 291.5,-55.03 293.16,-54.74 294.85,-54.49 296.59,-54.3 298.34,-54.15 300.12,-54.05 301.91,-54 303.7,-54 305.49,-54.05\"/>\n",
       "<text text-anchor=\"middle\" x=\"302.8\" y=\"-68.3\" font-family=\"Calibri\" font-size=\"14.00\">she</text>\n",
       "</g>\n",
       "<!-- likes&#45;&gt;she -->\n",
       "<g id=\"edge7\" class=\"edge\">\n",
       "<title>likes&#45;&gt;she</title>\n",
       "<path fill=\"none\" stroke=\"black\" d=\"M186.97,-139.06C195.03,-133.93 204.3,-128.13 212.81,-123 232.89,-110.91 255.85,-97.77 273.42,-87.85\"/>\n",
       "<polygon fill=\"black\" stroke=\"black\" points=\"275.57,-90.66 282.57,-82.71 272.14,-84.56 275.57,-90.66\"/>\n",
       "<text text-anchor=\"middle\" x=\"226.31\" y=\"-126.2\" font-family=\"Calibri\" font-size=\"11.00\">nsubj</text>\n",
       "</g>\n",
       "<!-- oranges -->\n",
       "<g id=\"node8\" class=\"node\">\n",
       "<title>oranges</title>\n",
       "<polygon fill=\"none\" stroke=\"blue\" points=\"306.97,-0.05 309.72,-0.15 312.45,-0.3 315.14,-0.49 317.77,-0.74 320.35,-1.03 322.85,-1.36 325.28,-1.75 327.61,-2.18 329.85,-2.65 331.97,-3.16 333.99,-3.71 335.88,-4.31 337.64,-4.94 339.28,-5.61 340.77,-6.31 342.13,-7.04 343.34,-7.8 344.41,-8.59 345.33,-9.41 346.1,-10.25 346.73,-11.11 347.21,-11.99 347.54,-12.89 347.73,-13.8 347.78,-14.72 347.7,-15.65 347.48,-16.59 347.13,-17.53 346.66,-18.47 346.08,-19.41 345.38,-20.35 344.57,-21.28 343.66,-22.2 342.66,-23.11 341.56,-24.01 340.39,-24.89 339.13,-25.75 337.81,-26.59 336.42,-27.41 334.97,-28.2 333.47,-28.96 331.92,-29.69 330.32,-30.39 328.69,-31.06 327.02,-31.69 325.33,-32.29 323.6,-32.84 321.86,-33.35 320.09,-33.82 318.31,-34.25 316.51,-34.64 314.71,-34.97 312.89,-35.26 311.07,-35.51 309.24,-35.7 307.4,-35.85 305.56,-35.95 303.72,-36 301.88,-36 300.04,-35.95 298.21,-35.85 296.37,-35.7 294.54,-35.51 292.72,-35.26 290.9,-34.97 289.09,-34.64 287.3,-34.25 285.52,-33.82 283.75,-33.35 282,-32.84 280.28,-32.29 278.58,-31.69 276.92,-31.06 275.28,-30.39 273.69,-29.69 272.14,-28.96 270.64,-28.2 269.19,-27.41 267.8,-26.59 266.47,-25.75 265.22,-24.89 264.04,-24.01 262.95,-23.11 261.95,-22.2 261.04,-21.28 260.23,-20.35 259.53,-19.41 258.94,-18.47 258.47,-17.53 258.13,-16.59 257.91,-15.65 257.82,-14.72 257.88,-13.8 258.07,-12.89 258.4,-11.99 258.88,-11.11 259.51,-10.25 260.28,-9.41 261.2,-8.59 262.26,-7.8 263.48,-7.04 264.83,-6.31 266.33,-5.61 267.96,-4.94 269.73,-4.31 271.62,-3.71 273.63,-3.16 275.76,-2.65 278,-2.18 280.33,-1.75 282.75,-1.36 285.26,-1.03 287.83,-0.74 290.47,-0.49 293.16,-0.3 295.89,-0.15 298.64,-0.05 301.41,0 304.19,0 306.97,-0.05\"/>\n",
       "<text text-anchor=\"middle\" x=\"302.8\" y=\"-14.3\" font-family=\"Calibri\" font-size=\"14.00\">oranges</text>\n",
       "</g>\n",
       "<!-- likes&#45;&gt;oranges -->\n",
       "<g id=\"edge9\" class=\"edge\">\n",
       "<title>likes&#45;&gt;oranges</title>\n",
       "<path fill=\"none\" stroke=\"black\" d=\"M176.9,-135.94C192.98,-113.09 224,-72.27 257.81,-45 261.19,-42.28 264.86,-39.62 268.59,-37.1\"/>\n",
       "<polygon fill=\"black\" stroke=\"black\" points=\"270.78,-39.85 277.31,-31.5 267,-33.96 270.78,-39.85\"/>\n",
       "<text text-anchor=\"middle\" x=\"226.31\" y=\"-92.2\" font-family=\"Calibri\" font-size=\"11.00\">dobj</text>\n",
       "</g>\n",
       "<!-- ROOT -->\n",
       "<g id=\"node9\" class=\"node\">\n",
       "<title>ROOT</title>\n",
       "<polygon fill=\"none\" stroke=\"black\" points=\"43.1,-135.05 45.51,-135.15 47.9,-135.3 50.26,-135.49 52.57,-135.74 54.82,-136.03 57.02,-136.36 59.14,-136.75 61.19,-137.18 63.14,-137.65 65.01,-138.16 66.77,-138.71 68.43,-139.31 69.98,-139.94 71.41,-140.61 72.72,-141.31 73.9,-142.04 74.97,-142.8 75.9,-143.59 76.71,-144.41 77.38,-145.25 77.93,-146.11 78.35,-146.99 78.64,-147.89 78.81,-148.8 78.86,-149.72 78.78,-150.65 78.59,-151.59 78.29,-152.53 77.88,-153.47 77.36,-154.41 76.75,-155.35 76.04,-156.28 75.25,-157.2 74.37,-158.11 73.41,-159.01 72.38,-159.89 71.28,-160.75 70.12,-161.59 68.9,-162.41 67.63,-163.2 66.32,-163.96 64.96,-164.69 63.56,-165.39 62.13,-166.06 60.67,-166.69 59.18,-167.29 57.67,-167.84 56.14,-168.35 54.6,-168.82 53.04,-169.25 51.46,-169.64 49.88,-169.97 48.29,-170.26 46.69,-170.51 45.09,-170.7 43.48,-170.85 41.87,-170.95 40.26,-171 38.65,-171 37.03,-170.95 35.42,-170.85 33.82,-170.7 32.21,-170.51 30.62,-170.26 29.02,-169.97 27.44,-169.64 25.87,-169.25 24.31,-168.82 22.76,-168.35 21.23,-167.84 19.72,-167.29 18.23,-166.69 16.77,-166.06 15.34,-165.39 13.95,-164.69 12.59,-163.96 11.27,-163.2 10,-162.41 8.78,-161.59 7.62,-160.75 6.53,-159.89 5.5,-159.01 4.54,-158.11 3.66,-157.2 2.86,-156.28 2.15,-155.35 1.54,-154.41 1.03,-153.47 0.62,-152.53 0.31,-151.59 0.12,-150.65 0.05,-149.72 0.09,-148.8 0.26,-147.89 0.55,-146.99 0.97,-146.11 1.52,-145.25 2.2,-144.41 3,-143.59 3.94,-142.8 5,-142.04 6.19,-141.31 7.5,-140.61 8.93,-139.94 10.48,-139.31 12.13,-138.71 13.9,-138.16 15.76,-137.65 17.72,-137.18 19.76,-136.75 21.89,-136.36 24.08,-136.03 26.34,-135.74 28.65,-135.49 31,-135.3 33.39,-135.15 35.81,-135.05 38.24,-135 40.67,-135 43.1,-135.05\"/>\n",
       "<text text-anchor=\"middle\" x=\"39.45\" y=\"-149.3\" font-family=\"Calibri\" font-size=\"14.00\">ROOT</text>\n",
       "</g>\n",
       "<!-- ROOT&#45;&gt;likes -->\n",
       "<g id=\"edge3\" class=\"edge\">\n",
       "<title>ROOT&#45;&gt;likes</title>\n",
       "<path fill=\"none\" stroke=\"black\" d=\"M78.33,-153C92.86,-153 109.46,-153 124.12,-153\"/>\n",
       "<polygon fill=\"black\" stroke=\"black\" points=\"124.39,-156.5 134.39,-153 124.39,-149.5 124.39,-156.5\"/>\n",
       "<text text-anchor=\"middle\" x=\"106.4\" y=\"-156.2\" font-family=\"Calibri\" font-size=\"11.00\">root</text>\n",
       "</g>\n",
       "</g>\n",
       "</svg>\n"
      ],
      "text/plain": [
       "<graphviz.dot.Digraph at 0x7fe62e17e1d0>"
      ]
     },
     "execution_count": 54,
     "metadata": {},
     "output_type": "execute_result"
    }
   ],
   "source": [
    "nlp_f = spacy_mgr.get_model('en')\n",
    "# doc_f = nlp_f('This butterfly flies very fast.')\n",
    "doc_f=nlp_f('Benjamin Brooks likes apples, but she likes oranges')\n",
    "vis(doc_f, doc_f.text)"
   ]
  }
 ],
 "metadata": {
  "kernelspec": {
   "display_name": "Python 3",
   "language": "python",
   "name": "python3"
  },
  "language_info": {
   "codemirror_mode": {
    "name": "ipython",
    "version": 3
   },
   "file_extension": ".py",
   "mimetype": "text/x-python",
   "name": "python",
   "nbconvert_exporter": "python",
   "pygments_lexer": "ipython3",
   "version": "3.6.6"
  },
  "varInspector": {
   "cols": {
    "lenName": 16,
    "lenType": 16,
    "lenVar": 40
   },
   "kernels_config": {
    "python": {
     "delete_cmd_postfix": "",
     "delete_cmd_prefix": "del ",
     "library": "var_list.py",
     "varRefreshCmd": "print(var_dic_list())"
    },
    "r": {
     "delete_cmd_postfix": ") ",
     "delete_cmd_prefix": "rm(",
     "library": "var_list.r",
     "varRefreshCmd": "cat(var_dic_list()) "
    }
   },
   "types_to_exclude": [
    "module",
    "function",
    "builtin_function_or_method",
    "instance",
    "_Feature"
   ],
   "window_display": false
  }
 },
 "nbformat": 4,
 "nbformat_minor": 2
}
