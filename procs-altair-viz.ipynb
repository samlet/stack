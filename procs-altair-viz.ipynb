{
 "cells": [
  {
   "cell_type": "code",
   "execution_count": 1,
   "metadata": {
    "ExecuteTime": {
     "end_time": "2019-10-09T11:05:52.370971Z",
     "start_time": "2019-10-09T11:05:51.739445Z"
    }
   },
   "outputs": [],
   "source": [
    "import pandas as pd\n",
    "import numpy as np\n",
    "import altair as alt\n",
    "\n",
    "DATE_TIME = \"date/time\"\n",
    "DATA_URL = (\n",
    "    \"/pi/ai/code/uber-raw-data-sep14.csv.gz\"\n",
    ")"
   ]
  },
  {
   "cell_type": "code",
   "execution_count": 8,
   "metadata": {
    "ExecuteTime": {
     "end_time": "2019-10-09T11:08:42.088130Z",
     "start_time": "2019-10-09T11:08:42.075435Z"
    }
   },
   "outputs": [
    {
     "data": {
      "text/plain": [
       "'3.2.0'"
      ]
     },
     "execution_count": 8,
     "metadata": {},
     "output_type": "execute_result"
    }
   ],
   "source": [
    "import altair as alt\n",
    "alt.__version__"
   ]
  },
  {
   "cell_type": "code",
   "execution_count": 9,
   "metadata": {
    "ExecuteTime": {
     "end_time": "2019-10-09T11:08:54.825345Z",
     "start_time": "2019-10-09T11:08:54.816050Z"
    }
   },
   "outputs": [
    {
     "name": "stdout",
     "output_type": "stream",
     "text": [
      "default\n"
     ]
    }
   ],
   "source": [
    "print(alt.renderers.active)"
   ]
  },
  {
   "cell_type": "code",
   "execution_count": 3,
   "metadata": {
    "ExecuteTime": {
     "end_time": "2019-10-09T11:07:06.136577Z",
     "start_time": "2019-10-09T11:07:06.124840Z"
    }
   },
   "outputs": [],
   "source": [
    "def load_data(nrows):\n",
    "    data = pd.read_csv(DATA_URL, nrows=nrows)\n",
    "    lowercase = lambda x: str(x).lower()\n",
    "    data.rename(lowercase, axis=\"columns\", inplace=True)\n",
    "    data[DATE_TIME] = pd.to_datetime(data[DATE_TIME])\n",
    "    return data"
   ]
  },
  {
   "cell_type": "code",
   "execution_count": 4,
   "metadata": {
    "ExecuteTime": {
     "end_time": "2019-10-09T11:07:19.433163Z",
     "start_time": "2019-10-09T11:07:07.995791Z"
    }
   },
   "outputs": [],
   "source": [
    "data = load_data(100000)\n",
    "hour=6\n",
    "data = data[data[DATE_TIME].dt.hour == hour]\n",
    "filtered = data[\n",
    "    (data[DATE_TIME].dt.hour >= hour) & (data[DATE_TIME].dt.hour < (hour + 1))\n",
    "]"
   ]
  },
  {
   "cell_type": "code",
   "execution_count": 5,
   "metadata": {
    "ExecuteTime": {
     "end_time": "2019-10-09T11:07:30.564862Z",
     "start_time": "2019-10-09T11:07:30.551661Z"
    }
   },
   "outputs": [],
   "source": [
    "hist = np.histogram(filtered[DATE_TIME].dt.minute, bins=60, range=(0, 60))[0]\n",
    "chart_data = pd.DataFrame({\"minute\": range(60), \"pickups\": hist})"
   ]
  },
  {
   "cell_type": "code",
   "execution_count": 7,
   "metadata": {
    "ExecuteTime": {
     "end_time": "2019-10-09T11:08:04.275215Z",
     "start_time": "2019-10-09T11:08:04.183692Z"
    }
   },
   "outputs": [
    {
     "data": {
      "application/vnd.vegalite.v3+json": {
       "$schema": "https://vega.github.io/schema/vega-lite/v3.4.0.json",
       "config": {
        "mark": {
         "tooltip": null
        },
        "view": {
         "height": 300,
         "width": 400
        }
       },
       "data": {
        "name": "data-1e79450114bb55afd37042d954a8de95"
       },
       "datasets": {
        "data-1e79450114bb55afd37042d954a8de95": [
         {
          "minute": 0,
          "pickups": 35
         },
         {
          "minute": 1,
          "pickups": 41
         },
         {
          "minute": 2,
          "pickups": 43
         },
         {
          "minute": 3,
          "pickups": 39
         },
         {
          "minute": 4,
          "pickups": 37
         },
         {
          "minute": 5,
          "pickups": 40
         },
         {
          "minute": 6,
          "pickups": 38
         },
         {
          "minute": 7,
          "pickups": 48
         },
         {
          "minute": 8,
          "pickups": 36
         },
         {
          "minute": 9,
          "pickups": 36
         },
         {
          "minute": 10,
          "pickups": 42
         },
         {
          "minute": 11,
          "pickups": 51
         },
         {
          "minute": 12,
          "pickups": 46
         },
         {
          "minute": 13,
          "pickups": 36
         },
         {
          "minute": 14,
          "pickups": 42
         },
         {
          "minute": 15,
          "pickups": 56
         },
         {
          "minute": 16,
          "pickups": 50
         },
         {
          "minute": 17,
          "pickups": 59
         },
         {
          "minute": 18,
          "pickups": 54
         },
         {
          "minute": 19,
          "pickups": 48
         },
         {
          "minute": 20,
          "pickups": 47
         },
         {
          "minute": 21,
          "pickups": 61
         },
         {
          "minute": 22,
          "pickups": 60
         },
         {
          "minute": 23,
          "pickups": 59
         },
         {
          "minute": 24,
          "pickups": 63
         },
         {
          "minute": 25,
          "pickups": 56
         },
         {
          "minute": 26,
          "pickups": 52
         },
         {
          "minute": 27,
          "pickups": 70
         },
         {
          "minute": 28,
          "pickups": 47
         },
         {
          "minute": 29,
          "pickups": 55
         },
         {
          "minute": 30,
          "pickups": 53
         },
         {
          "minute": 31,
          "pickups": 55
         },
         {
          "minute": 32,
          "pickups": 52
         },
         {
          "minute": 33,
          "pickups": 60
         },
         {
          "minute": 34,
          "pickups": 46
         },
         {
          "minute": 35,
          "pickups": 56
         },
         {
          "minute": 36,
          "pickups": 51
         },
         {
          "minute": 37,
          "pickups": 61
         },
         {
          "minute": 38,
          "pickups": 62
         },
         {
          "minute": 39,
          "pickups": 49
         },
         {
          "minute": 40,
          "pickups": 50
         },
         {
          "minute": 41,
          "pickups": 52
         },
         {
          "minute": 42,
          "pickups": 65
         },
         {
          "minute": 43,
          "pickups": 52
         },
         {
          "minute": 44,
          "pickups": 48
         },
         {
          "minute": 45,
          "pickups": 49
         },
         {
          "minute": 46,
          "pickups": 62
         },
         {
          "minute": 47,
          "pickups": 64
         },
         {
          "minute": 48,
          "pickups": 59
         },
         {
          "minute": 49,
          "pickups": 68
         },
         {
          "minute": 50,
          "pickups": 72
         },
         {
          "minute": 51,
          "pickups": 55
         },
         {
          "minute": 52,
          "pickups": 66
         },
         {
          "minute": 53,
          "pickups": 60
         },
         {
          "minute": 54,
          "pickups": 56
         },
         {
          "minute": 55,
          "pickups": 61
         },
         {
          "minute": 56,
          "pickups": 71
         },
         {
          "minute": 57,
          "pickups": 64
         },
         {
          "minute": 58,
          "pickups": 56
         },
         {
          "minute": 59,
          "pickups": 63
         }
        ]
       },
       "encoding": {
        "tooltip": [
         {
          "field": "minute",
          "type": "quantitative"
         },
         {
          "field": "pickups",
          "type": "quantitative"
         }
        ],
        "x": {
         "field": "minute",
         "scale": {
          "nice": false
         },
         "type": "quantitative"
        },
        "y": {
         "field": "pickups",
         "type": "quantitative"
        }
       },
       "height": 150,
       "mark": {
        "interpolate": "step-after",
        "line": true,
        "type": "area"
       }
      },
      "text/plain": [
       "<VegaLite 3 object>\n",
       "\n",
       "If you see this message, it means the renderer has not been properly enabled\n",
       "for the frontend that you are using. For more information, see\n",
       "https://altair-viz.github.io/user_guide/troubleshooting.html\n"
      ]
     },
     "execution_count": 7,
     "metadata": {},
     "output_type": "execute_result"
    }
   ],
   "source": [
    "alt.Chart(chart_data, height=150) \\\n",
    "    .mark_area(\n",
    "        interpolate='step-after',\n",
    "        line=True\n",
    "    ).encode(\n",
    "        x=alt.X(\"minute:Q\", scale=alt.Scale(nice=False)),\n",
    "        y=alt.Y(\"pickups:Q\"),\n",
    "        tooltip=['minute', 'pickups']\n",
    "    )"
   ]
  },
  {
   "cell_type": "code",
   "execution_count": 13,
   "metadata": {
    "ExecuteTime": {
     "end_time": "2019-10-09T11:12:06.217239Z",
     "start_time": "2019-10-09T11:12:06.211890Z"
    }
   },
   "outputs": [],
   "source": [
    "# alt.Chart({\n",
    "#   data: 'https://vega.github.io/vega-datasets/data/cars.json',\n",
    "#   encoding: FacetedEncoding({\n",
    "#     x: X({\n",
    "#       shorthand: 'Horsepower'\n",
    "#     })\n",
    "#   }),\n",
    "#   mark: 'point'\n",
    "# })"
   ]
  },
  {
   "cell_type": "code",
   "execution_count": 14,
   "metadata": {
    "ExecuteTime": {
     "end_time": "2019-10-09T11:12:28.728349Z",
     "start_time": "2019-10-09T11:12:28.698943Z"
    }
   },
   "outputs": [
    {
     "data": {
      "application/vnd.vegalite.v3+json": {
       "$schema": "https://vega.github.io/schema/vega-lite/v3.4.0.json",
       "config": {
        "mark": {
         "tooltip": null
        },
        "view": {
         "height": 300,
         "width": 400
        }
       },
       "data": {
        "url": "nonexistent_file.csv"
       },
       "encoding": {
        "x": {
         "field": "x",
         "type": "quantitative"
        },
        "y": {
         "field": "y",
         "type": "quantitative"
        }
       },
       "mark": "line"
      },
      "text/plain": [
       "<VegaLite 3 object>\n",
       "\n",
       "If you see this message, it means the renderer has not been properly enabled\n",
       "for the frontend that you are using. For more information, see\n",
       "https://altair-viz.github.io/user_guide/troubleshooting.html\n"
      ]
     },
     "execution_count": 14,
     "metadata": {},
     "output_type": "execute_result"
    }
   ],
   "source": [
    "import altair as alt\n",
    "\n",
    "alt.Chart('nonexistent_file.csv').mark_line().encode(\n",
    "    x='x:Q',\n",
    "    y='y:Q',\n",
    ")"
   ]
  }
 ],
 "metadata": {
  "kernelspec": {
   "display_name": "Python 3",
   "language": "python",
   "name": "python3"
  },
  "language_info": {
   "codemirror_mode": {
    "name": "ipython",
    "version": 3
   },
   "file_extension": ".py",
   "mimetype": "text/x-python",
   "name": "python",
   "nbconvert_exporter": "python",
   "pygments_lexer": "ipython3",
   "version": "3.6.4"
  },
  "varInspector": {
   "cols": {
    "lenName": 16,
    "lenType": 16,
    "lenVar": 40
   },
   "kernels_config": {
    "python": {
     "delete_cmd_postfix": "",
     "delete_cmd_prefix": "del ",
     "library": "var_list.py",
     "varRefreshCmd": "print(var_dic_list())"
    },
    "r": {
     "delete_cmd_postfix": ") ",
     "delete_cmd_prefix": "rm(",
     "library": "var_list.r",
     "varRefreshCmd": "cat(var_dic_list()) "
    }
   },
   "types_to_exclude": [
    "module",
    "function",
    "builtin_function_or_method",
    "instance",
    "_Feature"
   ],
   "window_display": false
  }
 },
 "nbformat": 4,
 "nbformat_minor": 2
}
