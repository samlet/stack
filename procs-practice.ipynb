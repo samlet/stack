{
 "cells": [
  {
   "cell_type": "code",
   "execution_count": 1,
   "metadata": {
    "ExecuteTime": {
     "end_time": "2019-06-16T07:43:22.748208Z",
     "start_time": "2019-06-16T07:43:20.730478Z"
    }
   },
   "outputs": [
    {
     "name": "stdout",
     "output_type": "stream",
     "text": [
      "loading corpus ...\n",
      "total 167130\n",
      "pickup [142534  34798 146416  52724  81228  78170  57985  22814  29611 166627]\n",
      "[['I value our friendship more than anything.'\n",
      "  \"J'accorde davantage de valeur à notre amitié qu'à quoi que ce soit d'autre.\\n\"]\n",
      " [\"I'm not here for you.\" 'Je ne suis pas là pour vous.\\n']\n",
      " [\"I don't know what could have happened to it.\"\n",
      "  'Je ne sais pas ce qui aurait pu lui arriver.\\n']\n",
      " ['I take a bath every day.' 'Je me baigne tous les jours.\\n']\n",
      " ['Short hair really suits her.'\n",
      "  'Les cheveux courts lui vont vraiment bien.\\n']\n",
      " ['He talks as if he were rich.' \"Il parle comme s'il était riche.\\n\"]\n",
      " [\"He's the love of my life.\" \"C'est l'amour de ma vie.\\n\"]\n",
      " ['His play was a hit.' 'Sa pièce de théâtre fit un tabac.\\n']\n",
      " ['Move out of the way.' 'Sortez du passage !\\n']\n",
      " [\"Our whole case hinges on whether the government's actions were constitutional or not.\"\n",
      "  'Toute notre affaire dépend de si les actions du gouvernement étaient constitutionnelles ou pas.\\n']]\n"
     ]
    }
   ],
   "source": [
    "from sagas.nlu.corpus_helper import filter_term, lines, divide_chunks\n",
    "import numpy\n",
    "import spacy\n",
    "\n",
    "dataf = \"/pi/ai/seq2seq/fra-eng-2019/fra.txt\"\n",
    "# print('loading spacy english model ...')\n",
    "# nlp_spacy = spacy.load('en_core_web_sm')\n",
    "print('loading corpus ...')\n",
    "pairs = lines(dataf)\n",
    "total = len(pairs)\n",
    "print('total', total)\n",
    "array = numpy.array(pairs)\n",
    "random_rows = numpy.random.randint(total, size=10)\n",
    "print('pickup', random_rows)\n",
    "print(array[random_rows, :])\n",
    "\n",
    "# print('analyse ...')\n",
    "rows = array[random_rows, :]\n",
    "dataset = []\n",
    "for r in rows:\n",
    "    sents=str(r[0])\n",
    "    tr_lang=str(r[1].strip())"
   ]
  },
  {
   "cell_type": "code",
   "execution_count": 8,
   "metadata": {
    "ExecuteTime": {
     "end_time": "2019-06-15T12:15:42.545933Z",
     "start_time": "2019-06-15T12:14:38.937726Z"
    }
   },
   "outputs": [
    {
     "name": "stdout",
     "output_type": "stream",
     "text": [
      "speak language with en ...\n",
      "done.\n",
      "♥ Do you speak French well?\n",
      "speak language with fr ...\n",
      "done.\n",
      "♡ Parlez-vous bien le français ?\n",
      "speak language with en ...\n",
      "done.\n",
      "♥ Come home as soon as you can.\n",
      "speak language with fr ...\n",
      "done.\n",
      "♡ Venez à la maison dès que vous pouvez !\n",
      "speak language with en ...\n",
      "done.\n",
      "♥ Break time's over.\n",
      "speak language with fr ...\n",
      "done.\n",
      "♡ La pause est finie.\n",
      "speak language with en ...\n",
      "done.\n",
      "♥ I wonder if you ever think of me.\n",
      "speak language with fr ...\n",
      "done.\n",
      "♡ Je me demande si vous pensez jamais à moi.\n",
      "speak language with en ...\n",
      "done.\n",
      "♥ In the desert, water is worth its weight in gold.\n",
      "speak language with fr ...\n",
      "done.\n",
      "♡ Dans le désert, l'eau vaut son pesant d'or.\n",
      "speak language with en ...\n",
      "done.\n",
      "♥ You have your hat on backwards.\n",
      "speak language with fr ...\n",
      "done.\n",
      "♡ Votre chapeau est à l'envers.\n",
      "speak language with en ...\n",
      "done.\n",
      "♥ I'll go anyway.\n",
      "speak language with fr ...\n",
      "done.\n",
      "♡ J'irai, de toutes façons.\n",
      "speak language with en ...\n",
      "done.\n",
      "♥ This isn't fun. This is boring.\n",
      "speak language with fr ...\n",
      "done.\n",
      "♡ Ce n'est pas amusant, c'est ennuyeux.\n",
      "speak language with en ...\n",
      "done.\n",
      "♥ I'd be curious to know what Tom has to say.\n",
      "speak language with fr ...\n",
      "done.\n",
      "♡ Je serais curieux de savoir ce que Tom a à dire.\n",
      "speak language with en ...\n",
      "done.\n",
      "♥ She appealed to me for help.\n",
      "speak language with fr ...\n",
      "done.\n",
      "♡ Elle a fait appel à moi pour l'aider.\n"
     ]
    }
   ],
   "source": [
    "from sagas.nlu.tts_utils import say_lang\n",
    "lang='en'\n",
    "lang_tr='fr'\n",
    "for r in rows:\n",
    "    sents=str(r[0])\n",
    "    tr_lang=str(r[1].strip())\n",
    "    say_lang(sents, lang)\n",
    "    print('♥',sents)\n",
    "    say_lang(tr_lang, lang_tr)\n",
    "    print('♡',tr_lang)"
   ]
  },
  {
   "cell_type": "code",
   "execution_count": 16,
   "metadata": {
    "ExecuteTime": {
     "end_time": "2019-06-15T12:31:19.431808Z",
     "start_time": "2019-06-15T12:31:19.424314Z"
    }
   },
   "outputs": [],
   "source": [
    "import json_utils\n",
    "json_utils.write_json_to_file('./out/latest_%s.json'%lang_tr, rows.tolist())"
   ]
  },
  {
   "cell_type": "code",
   "execution_count": 17,
   "metadata": {
    "ExecuteTime": {
     "end_time": "2019-06-15T12:31:28.645228Z",
     "start_time": "2019-06-15T12:31:28.635644Z"
    }
   },
   "outputs": [
    {
     "name": "stdout",
     "output_type": "stream",
     "text": [
      "You want something from me, don't you? Tu veux quelque chose de moi, n'est-ce pas ?\n",
      "Do I curse too much? Est-ce que je jure trop ?\n",
      "Are you here on holiday? Es-tu ici en vacances ?\n",
      "She shook hands with him. Elle lui a serré la main.\n",
      "Don't try to carry too much. Ne tente pas de trop porter !\n",
      "I've got to see a dentist. Je dois voir un dentiste.\n",
      "Tom said he found something strange. Tom a dit qu'il avait trouvé quelque chose d'étrange.\n",
      "Your dreams will come true. Tes rêves se réaliseront.\n",
      "Is there anyone in the room? Qui que ce soit se trouve-t-il dans la pièce ?\n",
      "I saw something strange in the sky. J'ai vu quelque chose d'étrange dans le ciel.\n"
     ]
    }
   ],
   "source": [
    "rows=json_utils.read_json_file('./out/latest_%s.json'%lang_tr)\n",
    "for r in rows:\n",
    "    sents=str(r[0])\n",
    "    tr_lang=str(r[1].strip())\n",
    "    print(sents, tr_lang)"
   ]
  },
  {
   "cell_type": "code",
   "execution_count": 19,
   "metadata": {
    "ExecuteTime": {
     "end_time": "2019-06-15T14:19:38.265054Z",
     "start_time": "2019-06-15T14:19:38.248480Z"
    }
   },
   "outputs": [],
   "source": [
    "from prompt_toolkit.shortcuts import print_tokens\n",
    "from prompt_toolkit.styles import style_from_dict\n",
    "from pygments.token import Token\n",
    "\n",
    "# Create a stylesheet.\n",
    "style = style_from_dict({\n",
    "    Token.Hello: '#ff0066',\n",
    "    Token.World: '#44ff44 italic',\n",
    "})\n",
    "\n",
    "# Make a list of (Token, text) tuples.\n",
    "tokens = [\n",
    "    (Token.Hello, 'Hello '),\n",
    "    (Token.World, 'World'),\n",
    "    (Token, '\\n'),\n",
    "]\n",
    "\n",
    "# Print the result.\n",
    "print_tokens(tokens, style=style)"
   ]
  }
 ],
 "metadata": {
  "kernelspec": {
   "display_name": "Python 3",
   "language": "python",
   "name": "python3"
  },
  "language_info": {
   "codemirror_mode": {
    "name": "ipython",
    "version": 3
   },
   "file_extension": ".py",
   "mimetype": "text/x-python",
   "name": "python",
   "nbconvert_exporter": "python",
   "pygments_lexer": "ipython3",
   "version": "3.7.3"
  },
  "varInspector": {
   "cols": {
    "lenName": 16,
    "lenType": 16,
    "lenVar": 40
   },
   "kernels_config": {
    "python": {
     "delete_cmd_postfix": "",
     "delete_cmd_prefix": "del ",
     "library": "var_list.py",
     "varRefreshCmd": "print(var_dic_list())"
    },
    "r": {
     "delete_cmd_postfix": ") ",
     "delete_cmd_prefix": "rm(",
     "library": "var_list.r",
     "varRefreshCmd": "cat(var_dic_list()) "
    }
   },
   "types_to_exclude": [
    "module",
    "function",
    "builtin_function_or_method",
    "instance",
    "_Feature"
   ],
   "window_display": false
  }
 },
 "nbformat": 4,
 "nbformat_minor": 2
}
