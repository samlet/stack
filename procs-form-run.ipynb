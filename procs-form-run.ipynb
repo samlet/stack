{
 "cells": [
  {
   "cell_type": "code",
   "execution_count": 1,
   "metadata": {
    "ExecuteTime": {
     "end_time": "2018-12-24T12:17:00.925746Z",
     "start_time": "2018-12-24T12:17:00.885654Z"
    }
   },
   "outputs": [
    {
     "name": "stdout",
     "output_type": "stream",
     "text": [
      "{'event': 'slot', 'timestamp': None, 'name': 'some_slot', 'value': 'some_value'}\n",
      "☈ [{'event': 'slot', 'timestamp': None, 'name': 'requested_slot', 'value': 'cuisine'}]\n"
     ]
    }
   ],
   "source": [
    "from rasa_core_sdk.forms import FormAction\n",
    "from rasa_core_sdk import Tracker, ActionExecutionRejection\n",
    "from rasa_core_sdk.executor import CollectingDispatcher\n",
    "from rasa_core_sdk.events import SlotSet, Form\n",
    "\n",
    "from actions.procs.restaurant_form import RestaurantForm\n",
    "form = RestaurantForm()\n",
    "\n",
    "tracker = Tracker('default', {'requested_slot': 'some_slot'},\n",
    "                  {'entities': [{'entity': 'some_slot',\n",
    "                                 'value': 'some_value'},\n",
    "                                {'entity': 'some_other_slot',\n",
    "                                 'value': 'some_other_value'}]},\n",
    "                  [], False, None, \n",
    "                  {'name': 'restaurant_form',\n",
    "                       'validate': True, 'rejected': False},\n",
    "                  'action_listen')\n",
    "\n",
    "dispatcher=CollectingDispatcher()\n",
    "domain={}\n",
    "events = form._validate_if_required(dispatcher, tracker, domain)\n",
    "for ev in events:\n",
    "    print(str(ev))\n",
    "\n",
    "# create temp tracker with populated slots from `validate` method\n",
    "temp_tracker = tracker.copy()\n",
    "for e in events:\n",
    "    if e['event'] == 'slot':\n",
    "        temp_tracker.slots[e[\"name\"]] = e[\"value\"]\n",
    "next_slot_events = form.request_next_slot(dispatcher, temp_tracker,\n",
    "                                                  domain)\n",
    "\n",
    "print(\"☈\", next_slot_events)"
   ]
  },
  {
   "cell_type": "code",
   "execution_count": 2,
   "metadata": {
    "ExecuteTime": {
     "end_time": "2018-12-24T12:17:09.858035Z",
     "start_time": "2018-12-24T12:17:09.374425Z"
    }
   },
   "outputs": [
    {
     "name": "stdout",
     "output_type": "stream",
     "text": [
      "req {'requested_slot': 'cuisine'} {'entities': [{'entity': 'cuisine', 'value': 'some_value'}, {'entity': 'some_other_slot', 'value': 'some_other_value'}]}\n",
      "{'event': 'slot', 'timestamp': None, 'name': 'cuisine', 'value': None}\n",
      "{'event': 'slot', 'timestamp': None, 'name': 'requested_slot', 'value': 'cuisine'}\n",
      "☈ [{'template': 'utter_wrong_cuisine'}, {'template': 'utter_ask_cuisine'}]\n"
     ]
    }
   ],
   "source": [
    "from rasa_core_sdk.forms import FormAction\n",
    "from rasa_core_sdk import Tracker, ActionExecutionRejection\n",
    "from rasa_core_sdk.executor import CollectingDispatcher\n",
    "from rasa_core_sdk.events import SlotSet, Form\n",
    "from rasa_core.domain import Domain\n",
    "\n",
    "import warnings\n",
    "import ruamel.yaml.error\n",
    "warnings.simplefilter('ignore', ruamel.yaml.error.UnsafeLoaderWarning)\n",
    "  \n",
    "from actions.procs.restaurant_form import RestaurantForm\n",
    "form = RestaurantForm()\n",
    "DOMAIN_PATH=\"examples/formbot/domain.yml\"\n",
    "\n",
    "## sender_id, slots,\n",
    "#                  latest_message, events, paused, followup_action,\n",
    "#                  active_form, latest_action_name\n",
    "tracker = Tracker('default', {'requested_slot': 'cuisine'},\n",
    "                  {'entities': [{'entity': 'cuisine',\n",
    "                                 'value': 'some_value'},\n",
    "                                {'entity': 'some_other_slot',\n",
    "                                 'value': 'some_other_value'}]},\n",
    "                  [], False, None, \n",
    "                  {'name': 'restaurant_form',\n",
    "                       'validate': True, 'rejected': False},\n",
    "                  'action_listen')\n",
    "print(\"req\", tracker.slots, tracker.latest_message)\n",
    "\n",
    "dispatcher=CollectingDispatcher()\n",
    "domain=Domain.load(DOMAIN_PATH)\n",
    "events=form.run(dispatcher, tracker, domain)\n",
    "for ev in events:\n",
    "    print(str(ev))\n",
    "print(\"☈\", dispatcher.messages)"
   ]
  },
  {
   "cell_type": "code",
   "execution_count": 26,
   "metadata": {
    "ExecuteTime": {
     "end_time": "2018-12-23T14:35:49.436903Z",
     "start_time": "2018-12-23T14:35:49.392567Z"
    }
   },
   "outputs": [
    {
     "name": "stdout",
     "output_type": "stream",
     "text": [
      "✁ req {'requested_slot': 'cuisine'} {'entities': [{'entity': 'cuisine', 'value': 'chinese'}, {'entity': 'some_other_slot', 'value': 'some_other_value'}]}\n",
      "{'event': 'slot', 'timestamp': None, 'name': 'cuisine', 'value': 'chinese'}\n",
      "{'event': 'slot', 'timestamp': None, 'name': 'requested_slot', 'value': 'num_people'}\n",
      "☈ [{'template': 'utter_ask_num_people'}]\n",
      "['cuisine', 'num_people', 'outdoor_seating', 'preferences', 'feedback']\n"
     ]
    }
   ],
   "source": [
    "form = RestaurantForm()\n",
    "\n",
    "tracker = Tracker('default', {'requested_slot': 'cuisine'},\n",
    "                  {'entities': [{'entity': 'cuisine',\n",
    "                                 'value': 'chinese'},\n",
    "                                {'entity': 'some_other_slot',\n",
    "                                 'value': 'some_other_value'}]},\n",
    "                  [], False, None, \n",
    "                  {'name': 'restaurant_form',\n",
    "                       'validate': True, 'rejected': False},\n",
    "                  'action_listen')\n",
    "print(\"✁ req\", tracker.slots, tracker.latest_message)\n",
    "\n",
    "dispatcher=CollectingDispatcher()\n",
    "domain=Domain.load(DOMAIN_PATH)\n",
    "events=form.run(dispatcher, tracker, domain)\n",
    "for ev in events:\n",
    "    print(str(ev))\n",
    "print(\"☈\", dispatcher.messages)\n",
    "print(form.required_slots(tracker))"
   ]
  },
  {
   "cell_type": "code",
   "execution_count": 27,
   "metadata": {
    "ExecuteTime": {
     "end_time": "2018-12-24T11:52:54.700423Z",
     "start_time": "2018-12-24T11:52:54.677192Z"
    }
   },
   "outputs": [
    {
     "name": "stdout",
     "output_type": "stream",
     "text": [
      "{\n",
      "  \"sender_id\": \"default\",\n",
      "  \"slots\": {\n",
      "    \"requested_slot\": \"cuisine\"\n",
      "  },\n",
      "  \"latest_message\": {\n",
      "    \"entities\": [\n",
      "      {\n",
      "        \"entity\": \"cuisine\",\n",
      "        \"value\": \"chinese\"\n",
      "      },\n",
      "      {\n",
      "        \"entity\": \"some_other_slot\",\n",
      "        \"value\": \"some_other_value\"\n",
      "      }\n",
      "    ]\n",
      "  },\n",
      "  \"latest_event_time\": null,\n",
      "  \"paused\": false,\n",
      "  \"events\": [],\n",
      "  \"active_form\": {\n",
      "    \"name\": \"restaurant_form\",\n",
      "    \"validate\": true,\n",
      "    \"rejected\": false\n",
      "  },\n",
      "  \"latest_action_name\": \"action_listen\"\n",
      "}\n"
     ]
    }
   ],
   "source": [
    "from utils import dump\n",
    "dump(tracker.current_state())"
   ]
  },
  {
   "cell_type": "code",
   "execution_count": 11,
   "metadata": {
    "ExecuteTime": {
     "end_time": "2018-12-24T12:29:40.908042Z",
     "start_time": "2018-12-24T12:29:40.841502Z"
    },
    "scrolled": true
   },
   "outputs": [
    {
     "name": "stdout",
     "output_type": "stream",
     "text": [
      "✁ req {'requested_slot': 'num_people'} {'intent': {'name': 'inform', 'confidence': 1.0}, 'entities': [{'entity': 'cuisine', 'value': 'chinese'}, {'entity': 'number', 'value': '8'}, {'entity': 'feedback', 'value': 'its good'}, {'entity': 'seating', 'value': 'in'}, {'entity': 'some_other_slot', 'value': 'some_other_value'}]}\n",
      "2018-12-24 20:29:40,888 | DEBUG : The form '{'name': 'restaurant_form', 'validate': True, 'rejected': False}' is active\n",
      "2018-12-24 20:29:40,889 | DEBUG : Validating user input '{'intent': {'name': 'inform', 'confidence': 1.0}, 'entities': [{'entity': 'cuisine', 'value': 'chinese'}, {'entity': 'number', 'value': '8'}, {'entity': 'feedback', 'value': 'its good'}, {'entity': 'seating', 'value': 'in'}, {'entity': 'some_other_slot', 'value': 'some_other_value'}]}'\n",
      "2018-12-24 20:29:40,890 | DEBUG : Extracted 'chinese' for extra slot 'cuisine'\n",
      "2018-12-24 20:29:40,891 | DEBUG : Extracted 'its good' for extra slot 'feedback'\n",
      "2018-12-24 20:29:40,892 | DEBUG : Trying to extract requested slot 'num_people' ...\n",
      "2018-12-24 20:29:40,894 | DEBUG : Got mapping '{'type': 'from_entity', 'entity': 'num_people', 'intent': ['inform', 'request_restaurant'], 'not_intent': []}'\n",
      "2018-12-24 20:29:40,896 | DEBUG : Got mapping '{'type': 'from_entity', 'entity': 'number', 'intent': [], 'not_intent': []}'\n",
      "2018-12-24 20:29:40,898 | DEBUG : Successfully extracted '8' for requested slot 'num_people'\n",
      "2018-12-24 20:29:40,900 | INFO : Tried to access non existent slot 'outdoor_seating'\n",
      "2018-12-24 20:29:40,902 | DEBUG : Request next slot 'outdoor_seating'\n",
      "{'event': 'slot', 'timestamp': None, 'name': 'cuisine', 'value': 'chinese'}\n",
      "{'event': 'slot', 'timestamp': None, 'name': 'feedback', 'value': 'its good'}\n",
      "{'event': 'slot', 'timestamp': None, 'name': 'num_people', 'value': '8'}\n",
      "{'event': 'slot', 'timestamp': None, 'name': 'requested_slot', 'value': 'outdoor_seating'}\n",
      "☈ [{'template': 'utter_ask_outdoor_seating'}]\n",
      "['cuisine', 'num_people', 'outdoor_seating', 'preferences', 'feedback']\n"
     ]
    }
   ],
   "source": [
    "import logging\n",
    "import sys\n",
    "from utils import dump\n",
    "\n",
    "logging.basicConfig(format='%(asctime)s | %(levelname)s : %(message)s',\n",
    "                     level=logging.DEBUG, stream=sys.stdout)\n",
    "\n",
    "form = RestaurantForm()\n",
    "\n",
    "tracker = Tracker('default', {'requested_slot': 'num_people'},\n",
    "                  {'intent': {'name': 'inform',\n",
    "                                  'confidence': 1.0},\n",
    "                   'entities': [{'entity': 'cuisine',\n",
    "                                 'value': 'chinese'},\n",
    "                                {'entity': 'number',\n",
    "                                 'value': '8'},\n",
    "                                {'entity': 'feedback',\n",
    "                                 'value': 'its good'},\n",
    "                                {'entity': 'seating',\n",
    "                                 'value': 'in'},\n",
    "                                {'entity': 'some_other_slot',\n",
    "                                 'value': 'some_other_value'}]\n",
    "                    },\n",
    "                  [], False, None, \n",
    "                  {'name': 'restaurant_form',\n",
    "                       'validate': True, 'rejected': False},\n",
    "                  'action_listen')\n",
    "print(\"✁ req\", tracker.slots, tracker.latest_message)\n",
    "\n",
    "dispatcher=CollectingDispatcher()\n",
    "domain=Domain.load(DOMAIN_PATH)\n",
    "events=form.run(dispatcher, tracker, domain)\n",
    "for ev in events:\n",
    "    print(str(ev))\n",
    "print(\"☈\", dispatcher.messages)\n",
    "print(form.required_slots(tracker))\n",
    "# dump(tracker.current_state())"
   ]
  },
  {
   "cell_type": "code",
   "execution_count": 12,
   "metadata": {
    "ExecuteTime": {
     "end_time": "2018-12-24T12:34:27.408792Z",
     "start_time": "2018-12-24T12:34:27.316334Z"
    }
   },
   "outputs": [
    {
     "name": "stdout",
     "output_type": "stream",
     "text": [
      "✁ req {'requested_slot': 'outdoor_seating'} {'intent': {'name': 'inform', 'confidence': 1.0}, 'entities': [{'entity': 'cuisine', 'value': 'chinese'}, {'entity': 'number', 'value': '8'}, {'entity': 'feedback', 'value': 'its good'}, {'entity': 'seating', 'value': 'in'}, {'entity': 'some_other_slot', 'value': 'some_other_value'}]}\n",
      "2018-12-24 20:34:27,389 | DEBUG : The form '{'name': 'restaurant_form', 'validate': True, 'rejected': False}' is active\n",
      "2018-12-24 20:34:27,390 | DEBUG : Validating user input '{'intent': {'name': 'inform', 'confidence': 1.0}, 'entities': [{'entity': 'cuisine', 'value': 'chinese'}, {'entity': 'number', 'value': '8'}, {'entity': 'feedback', 'value': 'its good'}, {'entity': 'seating', 'value': 'in'}, {'entity': 'some_other_slot', 'value': 'some_other_value'}]}'\n",
      "2018-12-24 20:34:27,392 | DEBUG : Extracted 'chinese' for extra slot 'cuisine'\n",
      "2018-12-24 20:34:27,393 | DEBUG : Extracted 'its good' for extra slot 'feedback'\n",
      "2018-12-24 20:34:27,394 | DEBUG : Trying to extract requested slot 'outdoor_seating' ...\n",
      "2018-12-24 20:34:27,396 | DEBUG : Got mapping '{'type': 'from_entity', 'entity': 'seating', 'intent': [], 'not_intent': []}'\n",
      "2018-12-24 20:34:27,397 | DEBUG : Successfully extracted 'in' for requested slot 'outdoor_seating'\n",
      "2018-12-24 20:34:27,398 | INFO : Tried to access non existent slot 'num_people'\n",
      "2018-12-24 20:34:27,399 | DEBUG : Request next slot 'num_people'\n",
      "{'event': 'slot', 'timestamp': None, 'name': 'cuisine', 'value': 'chinese'}\n",
      "{'event': 'slot', 'timestamp': None, 'name': 'feedback', 'value': 'its good'}\n",
      "{'event': 'slot', 'timestamp': None, 'name': 'outdoor_seating', 'value': False}\n",
      "{'event': 'slot', 'timestamp': None, 'name': 'requested_slot', 'value': 'num_people'}\n",
      "☈ [{'template': 'utter_ask_num_people'}]\n",
      "['cuisine', 'num_people', 'outdoor_seating', 'preferences', 'feedback']\n"
     ]
    }
   ],
   "source": [
    "import logging\n",
    "import sys\n",
    "from utils import dump\n",
    "\n",
    "logging.basicConfig(format='%(asctime)s | %(levelname)s : %(message)s',\n",
    "                     level=logging.DEBUG, stream=sys.stdout)\n",
    "\n",
    "form = RestaurantForm()\n",
    "\n",
    "tracker = Tracker('default', {'requested_slot': 'outdoor_seating'},\n",
    "                  {'intent': {'name': 'inform',\n",
    "                                  'confidence': 1.0},\n",
    "                   'entities': [{'entity': 'cuisine',\n",
    "                                 'value': 'chinese'},\n",
    "                                {'entity': 'number',\n",
    "                                 'value': '8'},\n",
    "                                {'entity': 'feedback',\n",
    "                                 'value': 'its good'},\n",
    "                                {'entity': 'seating',\n",
    "                                 'value': 'in'},\n",
    "                                {'entity': 'some_other_slot',\n",
    "                                 'value': 'some_other_value'}]\n",
    "                    },\n",
    "                  [], False, None, \n",
    "                  {'name': 'restaurant_form',\n",
    "                       'validate': True, 'rejected': False},\n",
    "                  'action_listen')\n",
    "print(\"✁ req\", tracker.slots, tracker.latest_message)\n",
    "\n",
    "dispatcher=CollectingDispatcher()\n",
    "domain=Domain.load(DOMAIN_PATH)\n",
    "events=form.run(dispatcher, tracker, domain)\n",
    "for ev in events:\n",
    "    print(str(ev))\n",
    "print(\"☈\", dispatcher.messages)\n",
    "print(form.required_slots(tracker))"
   ]
  },
  {
   "cell_type": "code",
   "execution_count": 6,
   "metadata": {
    "ExecuteTime": {
     "end_time": "2018-12-24T12:24:19.173522Z",
     "start_time": "2018-12-24T12:24:19.156846Z"
    }
   },
   "outputs": [
    {
     "name": "stdout",
     "output_type": "stream",
     "text": [
      "2018-12-24 20:24:19,166 | DEBUG : Trying to extract requested slot 'some_slot' ...\n",
      "2018-12-24 20:24:19,168 | DEBUG : Got mapping '{'type': 'from_entity', 'entity': 'some_entity', 'intent': ['some_intent'], 'not_intent': []}'\n",
      "2018-12-24 20:24:19,170 | DEBUG : Successfully extracted 'some_value' for requested slot 'some_slot'\n"
     ]
    }
   ],
   "source": [
    "class CustomFormAction(FormAction):\n",
    "    def slot_mappings(self):\n",
    "        return {\"some_slot\": self.from_entity(entity=\"some_entity\",\n",
    "                                              intent=\"some_intent\")}\n",
    "form = CustomFormAction()\n",
    "\n",
    "tracker = Tracker('default', {'requested_slot': 'some_slot'},\n",
    "                  {'intent': {'name': 'some_intent', 'confidence': 1.0},\n",
    "                   'entities': [{'entity': 'some_entity',\n",
    "                                 'value': 'some_value'}]},\n",
    "                  [], False, None, {}, 'action_listen')\n",
    "\n",
    "slot_values = form.extract_requested_slot(CollectingDispatcher(),\n",
    "                                          tracker, {})\n",
    "# check that the value was extracted for correct intent\n",
    "assert slot_values == {'some_slot': 'some_value'}"
   ]
  }
 ],
 "metadata": {
  "kernelspec": {
   "display_name": "Python 3",
   "language": "python",
   "name": "python3"
  },
  "language_info": {
   "codemirror_mode": {
    "name": "ipython",
    "version": 3
   },
   "file_extension": ".py",
   "mimetype": "text/x-python",
   "name": "python",
   "nbconvert_exporter": "python",
   "pygments_lexer": "ipython3",
   "version": "3.6.4"
  },
  "varInspector": {
   "cols": {
    "lenName": 16,
    "lenType": 16,
    "lenVar": 40
   },
   "kernels_config": {
    "python": {
     "delete_cmd_postfix": "",
     "delete_cmd_prefix": "del ",
     "library": "var_list.py",
     "varRefreshCmd": "print(var_dic_list())"
    },
    "r": {
     "delete_cmd_postfix": ") ",
     "delete_cmd_prefix": "rm(",
     "library": "var_list.r",
     "varRefreshCmd": "cat(var_dic_list()) "
    }
   },
   "types_to_exclude": [
    "module",
    "function",
    "builtin_function_or_method",
    "instance",
    "_Feature"
   ],
   "window_display": false
  }
 },
 "nbformat": 4,
 "nbformat_minor": 2
}
