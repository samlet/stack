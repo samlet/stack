{
 "cells": [
  {
   "cell_type": "code",
   "execution_count": 2,
   "metadata": {
    "ExecuteTime": {
     "end_time": "2018-12-06T15:24:10.032118Z",
     "start_time": "2018-12-06T15:24:10.022834Z"
    }
   },
   "outputs": [
    {
     "name": "stdout",
     "output_type": "stream",
     "text": [
      "This is a translatable string.\n"
     ]
    }
   ],
   "source": [
    "import gettext\n",
    "import os\n",
    "\n",
    "appName = 'i18n_demo'\n",
    "languageDir = os.path.abspath('locale')\n",
    "gettext.bindtextdomain(appName, languageDir)\n",
    "gettext.textdomain(appName)\n",
    "\n",
    "_ = gettext.gettext\n",
    "\n",
    "print(_('This is a translatable string.'))\n"
   ]
  },
  {
   "cell_type": "markdown",
   "metadata": {},
   "source": [
    "⊕ [The world's simplest Python template engine — Makina Corpus](https://makina-corpus.com/blog/metier/2016/the-worlds-simplest-python-template-engine)\n"
   ]
  },
  {
   "cell_type": "code",
   "execution_count": 3,
   "metadata": {
    "ExecuteTime": {
     "end_time": "2018-12-07T08:06:07.836661Z",
     "start_time": "2018-12-07T08:06:07.800635Z"
    }
   },
   "outputs": [
    {
     "data": {
      "text/plain": [
       "'Name: Eric, age: 41'"
      ]
     },
     "execution_count": 3,
     "metadata": {},
     "output_type": "execute_result"
    }
   ],
   "source": [
    "'Name: {person[name]}, age: {person[age]}'.format(person={'name': 'Eric', 'age': 41})"
   ]
  },
  {
   "cell_type": "code",
   "execution_count": 5,
   "metadata": {
    "ExecuteTime": {
     "end_time": "2018-12-07T08:06:43.300552Z",
     "start_time": "2018-12-07T08:06:43.293883Z"
    }
   },
   "outputs": [
    {
     "data": {
      "text/plain": [
       "'My favorite song is: Where is my mind'"
      ]
     },
     "execution_count": 5,
     "metadata": {},
     "output_type": "execute_result"
    }
   ],
   "source": [
    "class Song(object):\n",
    "    title = 'Where is my mind'\n",
    "\n",
    "'My favorite song is: {song.title}'.format(song=Song())"
   ]
  },
  {
   "cell_type": "code",
   "execution_count": 6,
   "metadata": {
    "ExecuteTime": {
     "end_time": "2018-12-07T08:07:03.046117Z",
     "start_time": "2018-12-07T08:07:03.040426Z"
    }
   },
   "outputs": [
    {
     "data": {
      "text/plain": [
       "'My name is Eric and I am 41'"
      ]
     },
     "execution_count": 6,
     "metadata": {},
     "output_type": "execute_result"
    }
   ],
   "source": [
    "\"My name is {name} and I am {age}\".format(name=\"Eric\", age=41)"
   ]
  },
  {
   "cell_type": "code",
   "execution_count": 7,
   "metadata": {
    "ExecuteTime": {
     "end_time": "2018-12-07T08:07:17.657627Z",
     "start_time": "2018-12-07T08:07:17.652052Z"
    }
   },
   "outputs": [
    {
     "data": {
      "text/plain": [
       "'My name is Eric and I am 41'"
      ]
     },
     "execution_count": 7,
     "metadata": {},
     "output_type": "execute_result"
    }
   ],
   "source": [
    "\"My name is %s and I am %d\" % (\"Eric\", 41)"
   ]
  },
  {
   "cell_type": "code",
   "execution_count": 8,
   "metadata": {
    "ExecuteTime": {
     "end_time": "2018-12-07T08:07:34.881801Z",
     "start_time": "2018-12-07T08:07:34.876523Z"
    }
   },
   "outputs": [
    {
     "data": {
      "text/plain": [
       "'      centered      '"
      ]
     },
     "execution_count": 8,
     "metadata": {},
     "output_type": "execute_result"
    }
   ],
   "source": [
    "'{:^20}'.format('centered')"
   ]
  },
  {
   "cell_type": "code",
   "execution_count": 9,
   "metadata": {
    "ExecuteTime": {
     "end_time": "2018-12-07T08:07:56.689245Z",
     "start_time": "2018-12-07T08:07:56.682903Z"
    }
   },
   "outputs": [
    {
     "data": {
      "text/plain": [
       "'My name is <built-in method upper of str object at 0x108b0a8f0>'"
      ]
     },
     "execution_count": 9,
     "metadata": {},
     "output_type": "execute_result"
    }
   ],
   "source": [
    "'My name is {name.upper}'.format(name='eric')"
   ]
  },
  {
   "cell_type": "code",
   "execution_count": 12,
   "metadata": {
    "ExecuteTime": {
     "end_time": "2018-12-07T08:09:27.576439Z",
     "start_time": "2018-12-07T08:09:27.571242Z"
    }
   },
   "outputs": [
    {
     "data": {
      "text/plain": [
       "'3.14'"
      ]
     },
     "execution_count": 12,
     "metadata": {},
     "output_type": "execute_result"
    }
   ],
   "source": [
    "# An interesting feature of format() is the format specification: \n",
    "# instead of just inserting a field with {field}, \n",
    "# we can specify a format like this: {field:spec}.\n",
    "\"{:.3}\".format(3.14159)"
   ]
  },
  {
   "cell_type": "code",
   "execution_count": 16,
   "metadata": {
    "ExecuteTime": {
     "end_time": "2018-12-07T08:11:10.497698Z",
     "start_time": "2018-12-07T08:11:10.482961Z"
    }
   },
   "outputs": [
    {
     "data": {
      "text/plain": [
       "'My name is ERIC'"
      ]
     },
     "execution_count": 16,
     "metadata": {},
     "output_type": "execute_result"
    }
   ],
   "source": [
    "import string\n",
    "class SuperFormatter(string.Formatter):\n",
    "\n",
    "    def format_field(self, value, spec):\n",
    "        if spec == 'call':\n",
    "            return value()\n",
    "        else:\n",
    "            return super(SuperFormatter, self).format_field(value, spec)\n",
    "\n",
    "sf=SuperFormatter()\n",
    "sf.format('My name is {name.upper:call}', name=\"eric\")        "
   ]
  },
  {
   "cell_type": "code",
   "execution_count": 17,
   "metadata": {
    "ExecuteTime": {
     "end_time": "2018-12-07T08:19:54.900454Z",
     "start_time": "2018-12-07T08:19:54.880999Z"
    }
   },
   "outputs": [],
   "source": [
    "class SuperFormatter(string.Formatter):\n",
    "    \"\"\"World's simplest Template engine.\"\"\"\n",
    "\n",
    "    def format_field(self, value, spec):\n",
    "        if spec.startswith('repeat'):\n",
    "            template = spec.partition(':')[-1]\n",
    "            if type(value) is dict:\n",
    "                value = value.items()\n",
    "            return ''.join([template.format(item=item) for item in value])\n",
    "        elif spec == 'call':\n",
    "            return value()\n",
    "        elif spec.startswith('if'):\n",
    "            return (value and spec.partition(':')[-1]) or ''\n",
    "        else:\n",
    "            return super(SuperFormatter, self).format_field(value, spec)\n"
   ]
  },
  {
   "cell_type": "code",
   "execution_count": 18,
   "metadata": {
    "ExecuteTime": {
     "end_time": "2018-12-07T08:20:31.441720Z",
     "start_time": "2018-12-07T08:20:31.384440Z"
    }
   },
   "outputs": [],
   "source": [
    "import unittest\n",
    "class TestSuperFormatterMethods(unittest.TestCase):\n",
    "    \"\"\"tests.\"\"\"\n",
    "\n",
    "    def test_basic(self):\n",
    "        sf = SuperFormatter()\n",
    "        self.assertEqual(\n",
    "            sf.format('a is {a}', a=\"A\"),\n",
    "            \"a is A\"\n",
    "        )\n",
    "\n",
    "    def test_repeat_list(self):\n",
    "        sf = SuperFormatter()\n",
    "        self.assertEqual(\n",
    "            sf.format('''Table of contents:\n",
    "{chapters:repeat:Chapter {{item}}\n",
    "}''', chapters=[\"I\", \"II\", \"III\", \"IV\"]),\n",
    "            '''Table of contents:\n",
    "Chapter I\n",
    "Chapter II\n",
    "Chapter III\n",
    "Chapter IV\n",
    "'''\n",
    "        )\n",
    "\n",
    "    def test_repeat_dict(self):\n",
    "        sf = SuperFormatter()\n",
    "        self.assertEqual(\n",
    "            sf.format(\n",
    "                '''Books:\n",
    "\n",
    "{books:repeat:\"{{item[1]}}\" by {{item[0]}}\n",
    "----\n",
    "}''',\n",
    "                books={\n",
    "                    'Victor Hugo': 'Notre Dame de Paris',\n",
    "                    'Joseph Conrad': 'Lord Jim',\n",
    "                }),\n",
    "            '''Books:\n",
    "\n",
    "\"Notre Dame de Paris\" by Victor Hugo\n",
    "----\n",
    "\"Lord Jim\" by Joseph Conrad\n",
    "----\n",
    "'''\n",
    "        )\n",
    "\n",
    "    def test_call(self):\n",
    "        sf = SuperFormatter()\n",
    "        self.assertEqual(\n",
    "            sf.format('My name is {name.upper:call}', name=\"eric\"),\n",
    "            'My name is ERIC'\n",
    "        )\n",
    "\n",
    "    def test_if_static(self):\n",
    "        sf = SuperFormatter()\n",
    "        self.assertEqual(\n",
    "            sf.format('Action: Back / Logout {manager:if:/ Delete}', manager=True),\n",
    "            'Action: Back / Logout / Delete'\n",
    "        )\n",
    "\n",
    "    def test_if_with_fields(self):\n",
    "        sf = SuperFormatter()\n",
    "        self.assertEqual(\n",
    "            sf.format('Action: Back / Logout {manager:if:/ Delete {id}}', manager=True, id=34),\n",
    "            'Action: Back / Logout / Delete 34'\n",
    "        )"
   ]
  },
  {
   "cell_type": "code",
   "execution_count": 19,
   "metadata": {
    "ExecuteTime": {
     "end_time": "2018-12-07T08:20:38.090408Z",
     "start_time": "2018-12-07T08:20:38.076934Z"
    }
   },
   "outputs": [
    {
     "name": "stderr",
     "output_type": "stream",
     "text": [
      "E\n",
      "======================================================================\n",
      "ERROR: /Users/xiaofeiwu/Library/Jupyter/runtime/kernel-e6142983-7aa9-4f76-b06b-3c75e1e290cb (unittest.loader._FailedTest)\n",
      "----------------------------------------------------------------------\n",
      "AttributeError: module '__main__' has no attribute '/Users/xiaofeiwu/Library/Jupyter/runtime/kernel-e6142983-7aa9-4f76-b06b-3c75e1e290cb'\n",
      "\n",
      "----------------------------------------------------------------------\n",
      "Ran 1 test in 0.001s\n",
      "\n",
      "FAILED (errors=1)\n"
     ]
    },
    {
     "ename": "SystemExit",
     "evalue": "True",
     "output_type": "error",
     "traceback": [
      "An exception has occurred, use %tb to see the full traceback.\n",
      "\u001b[0;31mSystemExit\u001b[0m\u001b[0;31m:\u001b[0m True\n"
     ]
    },
    {
     "name": "stderr",
     "output_type": "stream",
     "text": [
      "/Users/xiaofeiwu/miniconda3/envs/bigdata/lib/python3.6/site-packages/IPython/core/interactiveshell.py:2918: UserWarning: To exit: use 'exit', 'quit', or Ctrl-D.\n",
      "  warn(\"To exit: use 'exit', 'quit', or Ctrl-D.\", stacklevel=1)\n"
     ]
    }
   ],
   "source": [
    "unittest.main()"
   ]
  }
 ],
 "metadata": {
  "kernelspec": {
   "display_name": "Python 3",
   "language": "python",
   "name": "python3"
  },
  "language_info": {
   "codemirror_mode": {
    "name": "ipython",
    "version": 3
   },
   "file_extension": ".py",
   "mimetype": "text/x-python",
   "name": "python",
   "nbconvert_exporter": "python",
   "pygments_lexer": "ipython3",
   "version": "3.6.4"
  },
  "varInspector": {
   "cols": {
    "lenName": 16,
    "lenType": 16,
    "lenVar": 40
   },
   "kernels_config": {
    "python": {
     "delete_cmd_postfix": "",
     "delete_cmd_prefix": "del ",
     "library": "var_list.py",
     "varRefreshCmd": "print(var_dic_list())"
    },
    "r": {
     "delete_cmd_postfix": ") ",
     "delete_cmd_prefix": "rm(",
     "library": "var_list.r",
     "varRefreshCmd": "cat(var_dic_list()) "
    }
   },
   "types_to_exclude": [
    "module",
    "function",
    "builtin_function_or_method",
    "instance",
    "_Feature"
   ],
   "window_display": false
  }
 },
 "nbformat": 4,
 "nbformat_minor": 2
}
