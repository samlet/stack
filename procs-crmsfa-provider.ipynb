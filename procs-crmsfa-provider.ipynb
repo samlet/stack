{
 "cells": [
  {
   "cell_type": "raw",
   "metadata": {},
   "source": [
    "service OdooProcs{\n",
    "    rpc Login (FaOdoo) returns (FaSession) {}\n",
    "    rpc SwitchLang (common.Text) returns (common.Result) {}\n",
    "\n",
    "    // model operations\n",
    "    rpc FieldsGet (FaModel) returns (FaModel) {}\n",
    "    rpc BrowseRecord (FaIds) returns (FaRecordset) {}\n",
    "    rpc WriteRecord (FaRecordset) returns (common.Result) {}\n",
    "    rpc Ref (common.Text) returns (FaRecordset) {}\n",
    "}"
   ]
  },
  {
   "cell_type": "code",
   "execution_count": 2,
   "metadata": {
    "ExecuteTime": {
     "end_time": "2019-01-06T09:26:44.092418Z",
     "start_time": "2019-01-06T09:26:44.006875Z"
    }
   },
   "outputs": [
    {
     "name": "stdout",
     "output_type": "stream",
     "text": [
      "['sagas_odoo']\n"
     ]
    }
   ],
   "source": [
    "import odoorpc\n",
    "\n",
    "# Prepare the connection to the server\n",
    "odoo = odoorpc.ODOO('localhost', port=8069)\n",
    "\n",
    "# Check available databases\n",
    "print(odoo.db.list())"
   ]
  },
  {
   "cell_type": "code",
   "execution_count": 3,
   "metadata": {
    "ExecuteTime": {
     "end_time": "2019-01-06T09:41:58.085673Z",
     "start_time": "2019-01-06T09:41:57.609188Z"
    },
    "scrolled": true
   },
   "outputs": [
    {
     "data": {
      "text/plain": [
       "env {\n",
       "}\n",
       "user: \"Administrator\"\n",
       "org: \"YourCompany\""
      ]
     },
     "execution_count": 3,
     "metadata": {},
     "output_type": "execute_result"
    }
   ],
   "source": [
    "from client_wrapper import ServiceClient\n",
    "import common_types_pb2 as common\n",
    "import crmsfa_pb2\n",
    "import crmsfa_pb2_grpc\n",
    "\n",
    "def login(fa_odoo):\n",
    "    odoo.login(fa_odoo.database, fa_odoo.login, fa_odoo.password)\n",
    "    fa_env=crmsfa_pb2.FaEnvironment()\n",
    "    user=odoo.env.user\n",
    "    session=crmsfa_pb2.FaSession(env=fa_env, \n",
    "                                user=user.name,\n",
    "                                org=user.company_id.name)\n",
    "    return session\n",
    "\n",
    "fa_odoo=crmsfa_pb2.FaOdoo(host=\"localhost\", port=8069,\n",
    "                         login=\"samlet@sagas.ai\",\n",
    "                         password=\"samlet\",\n",
    "                         database=\"sagas_odoo\")\n",
    "login(fa_odoo)"
   ]
  }
 ],
 "metadata": {
  "kernelspec": {
   "display_name": "Python 3",
   "language": "python",
   "name": "python3"
  },
  "language_info": {
   "codemirror_mode": {
    "name": "ipython",
    "version": 3
   },
   "file_extension": ".py",
   "mimetype": "text/x-python",
   "name": "python",
   "nbconvert_exporter": "python",
   "pygments_lexer": "ipython3",
   "version": "3.6.4"
  },
  "varInspector": {
   "cols": {
    "lenName": 16,
    "lenType": 16,
    "lenVar": 40
   },
   "kernels_config": {
    "python": {
     "delete_cmd_postfix": "",
     "delete_cmd_prefix": "del ",
     "library": "var_list.py",
     "varRefreshCmd": "print(var_dic_list())"
    },
    "r": {
     "delete_cmd_postfix": ") ",
     "delete_cmd_prefix": "rm(",
     "library": "var_list.r",
     "varRefreshCmd": "cat(var_dic_list()) "
    }
   },
   "types_to_exclude": [
    "module",
    "function",
    "builtin_function_or_method",
    "instance",
    "_Feature"
   ],
   "window_display": false
  }
 },
 "nbformat": 4,
 "nbformat_minor": 2
}
