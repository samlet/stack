{
 "cells": [
  {
   "cell_type": "markdown",
   "metadata": {},
   "source": [
    "⊕ [How to Use Redis With Python – Real Python](https://realpython.com/python-redis/#using-redis-py-redis-in-python)\n"
   ]
  },
  {
   "cell_type": "code",
   "execution_count": 1,
   "metadata": {
    "ExecuteTime": {
     "end_time": "2019-10-20T04:48:06.536121Z",
     "start_time": "2019-10-20T04:48:06.445751Z"
    }
   },
   "outputs": [
    {
     "data": {
      "text/plain": [
       "True"
      ]
     },
     "execution_count": 1,
     "metadata": {},
     "output_type": "execute_result"
    }
   ],
   "source": [
    ">>> import redis\n",
    ">>> r = redis.Redis()\n",
    ">>> r.mset({\"Croatia\": \"Zagreb\", \"Bahamas\": \"Nassau\"})"
   ]
  },
  {
   "cell_type": "code",
   "execution_count": 2,
   "metadata": {
    "ExecuteTime": {
     "end_time": "2019-10-20T04:48:12.934353Z",
     "start_time": "2019-10-20T04:48:12.877425Z"
    }
   },
   "outputs": [
    {
     "data": {
      "text/plain": [
       "b'Nassau'"
      ]
     },
     "execution_count": 2,
     "metadata": {},
     "output_type": "execute_result"
    }
   ],
   "source": [
    "r.get(\"Bahamas\")"
   ]
  },
  {
   "cell_type": "code",
   "execution_count": 3,
   "metadata": {
    "ExecuteTime": {
     "end_time": "2019-10-20T04:49:42.862108Z",
     "start_time": "2019-10-20T04:49:42.855357Z"
    }
   },
   "outputs": [],
   "source": [
    ">>> import datetime\n",
    ">>> today = datetime.date.today()\n",
    ">>> visitors = {\"dan\", \"jon\", \"alex\"}"
   ]
  },
  {
   "cell_type": "code",
   "execution_count": 4,
   "metadata": {
    "ExecuteTime": {
     "end_time": "2019-10-20T04:49:49.064787Z",
     "start_time": "2019-10-20T04:49:49.048692Z"
    }
   },
   "outputs": [
    {
     "data": {
      "text/plain": [
       "'2019-10-20'"
      ]
     },
     "execution_count": 4,
     "metadata": {},
     "output_type": "execute_result"
    }
   ],
   "source": [
    ">>> stoday = today.isoformat()  # Python 3.7+, or use str(today)\n",
    ">>> stoday"
   ]
  },
  {
   "cell_type": "code",
   "execution_count": 5,
   "metadata": {
    "ExecuteTime": {
     "end_time": "2019-10-20T04:49:58.745912Z",
     "start_time": "2019-10-20T04:49:58.669642Z"
    }
   },
   "outputs": [
    {
     "data": {
      "text/plain": [
       "3"
      ]
     },
     "execution_count": 5,
     "metadata": {},
     "output_type": "execute_result"
    }
   ],
   "source": [
    ">>> r.sadd(stoday, *visitors)  # sadd: set-add"
   ]
  },
  {
   "cell_type": "code",
   "execution_count": 6,
   "metadata": {
    "ExecuteTime": {
     "end_time": "2019-10-20T04:50:06.789413Z",
     "start_time": "2019-10-20T04:50:06.742660Z"
    }
   },
   "outputs": [
    {
     "data": {
      "text/plain": [
       "{b'alex', b'dan', b'jon'}"
      ]
     },
     "execution_count": 6,
     "metadata": {},
     "output_type": "execute_result"
    }
   ],
   "source": [
    "r.smembers(stoday)"
   ]
  },
  {
   "cell_type": "code",
   "execution_count": 7,
   "metadata": {
    "ExecuteTime": {
     "end_time": "2019-10-20T04:53:45.126799Z",
     "start_time": "2019-10-20T04:53:45.114151Z"
    }
   },
   "outputs": [],
   "source": [
    "import random\n",
    "\n",
    "random.seed(444)\n",
    "hats = {f\"hat:{random.getrandbits(32)}\": i for i in (\n",
    "    {\n",
    "        \"color\": \"black\",\n",
    "        \"price\": 49.99,\n",
    "        \"style\": \"fitted\",\n",
    "        \"quantity\": 1000,\n",
    "        \"npurchased\": 0,\n",
    "    },\n",
    "    {\n",
    "        \"color\": \"maroon\",\n",
    "        \"price\": 59.99,\n",
    "        \"style\": \"hipster\",\n",
    "        \"quantity\": 500,\n",
    "        \"npurchased\": 0,\n",
    "    },\n",
    "    {\n",
    "        \"color\": \"green\",\n",
    "        \"price\": 99.99,\n",
    "        \"style\": \"baseball\",\n",
    "        \"quantity\": 200,\n",
    "        \"npurchased\": 0,\n",
    "    })\n",
    "}"
   ]
  },
  {
   "cell_type": "code",
   "execution_count": 8,
   "metadata": {
    "ExecuteTime": {
     "end_time": "2019-10-20T04:53:51.445586Z",
     "start_time": "2019-10-20T04:53:51.433606Z"
    }
   },
   "outputs": [
    {
     "data": {
      "text/plain": [
       "{'hat:1236154736': {'color': 'maroon',\n",
       "  'npurchased': 0,\n",
       "  'price': 59.99,\n",
       "  'quantity': 500,\n",
       "  'style': 'hipster'},\n",
       " 'hat:1326692461': {'color': 'black',\n",
       "  'npurchased': 0,\n",
       "  'price': 49.99,\n",
       "  'quantity': 1000,\n",
       "  'style': 'fitted'},\n",
       " 'hat:56854717': {'color': 'green',\n",
       "  'npurchased': 0,\n",
       "  'price': 99.99,\n",
       "  'quantity': 200,\n",
       "  'style': 'baseball'}}"
      ]
     },
     "execution_count": 8,
     "metadata": {},
     "output_type": "execute_result"
    }
   ],
   "source": [
    "hats"
   ]
  },
  {
   "cell_type": "code",
   "execution_count": 11,
   "metadata": {
    "ExecuteTime": {
     "end_time": "2019-10-20T04:59:20.766553Z",
     "start_time": "2019-10-20T04:59:20.732798Z"
    }
   },
   "outputs": [
    {
     "data": {
      "text/html": [
       "<div>\n",
       "<style scoped>\n",
       "    .dataframe tbody tr th:only-of-type {\n",
       "        vertical-align: middle;\n",
       "    }\n",
       "\n",
       "    .dataframe tbody tr th {\n",
       "        vertical-align: top;\n",
       "    }\n",
       "\n",
       "    .dataframe thead th {\n",
       "        text-align: right;\n",
       "    }\n",
       "</style>\n",
       "<table border=\"1\" class=\"dataframe\">\n",
       "  <thead>\n",
       "    <tr style=\"text-align: right;\">\n",
       "      <th></th>\n",
       "      <th>color</th>\n",
       "      <th>price</th>\n",
       "      <th>style</th>\n",
       "      <th>quantity</th>\n",
       "      <th>npurchased</th>\n",
       "    </tr>\n",
       "  </thead>\n",
       "  <tbody>\n",
       "    <tr>\n",
       "      <th>0</th>\n",
       "      <td>black</td>\n",
       "      <td>49.99</td>\n",
       "      <td>fitted</td>\n",
       "      <td>1000</td>\n",
       "      <td>0</td>\n",
       "    </tr>\n",
       "    <tr>\n",
       "      <th>1</th>\n",
       "      <td>maroon</td>\n",
       "      <td>59.99</td>\n",
       "      <td>hipster</td>\n",
       "      <td>500</td>\n",
       "      <td>0</td>\n",
       "    </tr>\n",
       "    <tr>\n",
       "      <th>2</th>\n",
       "      <td>green</td>\n",
       "      <td>99.99</td>\n",
       "      <td>baseball</td>\n",
       "      <td>200</td>\n",
       "      <td>0</td>\n",
       "    </tr>\n",
       "  </tbody>\n",
       "</table>\n",
       "</div>"
      ],
      "text/plain": [
       "    color  price     style  quantity  npurchased\n",
       "0   black  49.99    fitted      1000           0\n",
       "1  maroon  59.99   hipster       500           0\n",
       "2   green  99.99  baseball       200           0"
      ]
     },
     "execution_count": 11,
     "metadata": {},
     "output_type": "execute_result"
    }
   ],
   "source": [
    "import sagas\n",
    "sagas.dict_df(list(hats.values()))"
   ]
  },
  {
   "cell_type": "code",
   "execution_count": 12,
   "metadata": {
    "ExecuteTime": {
     "end_time": "2019-10-20T05:00:18.604474Z",
     "start_time": "2019-10-20T05:00:18.598594Z"
    }
   },
   "outputs": [],
   "source": [
    "r = redis.Redis()"
   ]
  },
  {
   "cell_type": "markdown",
   "metadata": {},
   "source": [
    "The code block above also introduces the concept of Redis pipelining, which is a way to cut down the number of round-trip transactions that you need to write or read data from your Redis server. If you would have just called r.hmset() three times, then this would necessitate a back-and-forth round trip operation for each row written.\n",
    "\n",
    "With a pipeline, all the commands are buffered on the client side and then sent at once, in one fell swoop, using pipe.hmset() in Line 3. This is why the three True responses are all returned at once, when you call pipe.execute() in Line 4. You’ll see a more advanced use case for a pipeline shortly.\n",
    "\n"
   ]
  },
  {
   "cell_type": "code",
   "execution_count": 13,
   "metadata": {
    "ExecuteTime": {
     "end_time": "2019-10-20T05:00:41.230330Z",
     "start_time": "2019-10-20T05:00:41.178980Z"
    }
   },
   "outputs": [],
   "source": [
    "with r.pipeline() as pipe:\n",
    "   for h_id, hat in hats.items():\n",
    "       pipe.hmset(h_id, hat)\n",
    "   pipe.execute()"
   ]
  },
  {
   "cell_type": "code",
   "execution_count": 14,
   "metadata": {
    "ExecuteTime": {
     "end_time": "2019-10-20T05:00:49.609462Z",
     "start_time": "2019-10-20T05:00:49.556328Z"
    }
   },
   "outputs": [
    {
     "data": {
      "text/plain": [
       "True"
      ]
     },
     "execution_count": 14,
     "metadata": {},
     "output_type": "execute_result"
    }
   ],
   "source": [
    "r.bgsave()"
   ]
  },
  {
   "cell_type": "code",
   "execution_count": 16,
   "metadata": {
    "ExecuteTime": {
     "end_time": "2019-10-20T05:02:13.245398Z",
     "start_time": "2019-10-20T05:02:13.231731Z"
    }
   },
   "outputs": [
    {
     "name": "stdout",
     "output_type": "stream",
     "text": [
      "{b'color': b'green',\n",
      " b'npurchased': b'0',\n",
      " b'price': b'99.99',\n",
      " b'quantity': b'200',\n",
      " b'style': b'baseball'}\n"
     ]
    }
   ],
   "source": [
    "from pprint import pprint\n",
    "pprint(r.hgetall(\"hat:56854717\"))"
   ]
  },
  {
   "cell_type": "code",
   "execution_count": 24,
   "metadata": {
    "ExecuteTime": {
     "end_time": "2019-10-20T05:25:48.585785Z",
     "start_time": "2019-10-20T05:25:48.575338Z"
    }
   },
   "outputs": [
    {
     "data": {
      "text/plain": [
       "{b'color': b'blue', b'price': b'99.99', b'style': b'baseball', b'quantity': b'199', b'npurchased': b'0'}"
      ]
     },
     "execution_count": 24,
     "metadata": {},
     "output_type": "execute_result"
    }
   ],
   "source": [
    "r.hgetall(\"hat:56854717\")"
   ]
  },
  {
   "cell_type": "code",
   "execution_count": 17,
   "metadata": {
    "ExecuteTime": {
     "end_time": "2019-10-20T05:02:23.536775Z",
     "start_time": "2019-10-20T05:02:23.525575Z"
    }
   },
   "outputs": [
    {
     "data": {
      "text/plain": [
       "[b'hat:1236154736', b'hat:1326692461', b'Croatia', b'p\\xc3\\xa9riodique', b'trans', b'2019-10-20', b'Charge p\\xc3\\xa9riodique', b'Die Nutzung der Seite', b'f\\xc3\\xbcr Hardware - Firmen', b'hat:56854717', b'votes', b'in diesem Punkt', b'a0array', b'entitySchema', b'Bahamas']"
      ]
     },
     "execution_count": 17,
     "metadata": {},
     "output_type": "execute_result"
    }
   ],
   "source": [
    "r.keys()  # Careful on a big DB. keys() is O(N)"
   ]
  },
  {
   "cell_type": "code",
   "execution_count": 18,
   "metadata": {
    "ExecuteTime": {
     "end_time": "2019-10-20T05:03:03.297121Z",
     "start_time": "2019-10-20T05:03:03.285604Z"
    }
   },
   "outputs": [
    {
     "data": {
      "text/plain": [
       "199"
      ]
     },
     "execution_count": 18,
     "metadata": {},
     "output_type": "execute_result"
    }
   ],
   "source": [
    "r.hincrby(\"hat:56854717\", \"quantity\", -1)"
   ]
  },
  {
   "cell_type": "code",
   "execution_count": 19,
   "metadata": {
    "ExecuteTime": {
     "end_time": "2019-10-20T05:09:52.986946Z",
     "start_time": "2019-10-20T05:09:52.972667Z"
    }
   },
   "outputs": [
    {
     "data": {
      "text/plain": [
       "b'199'"
      ]
     },
     "execution_count": 19,
     "metadata": {},
     "output_type": "execute_result"
    }
   ],
   "source": [
    "itemid=\"hat:56854717\"\n",
    "nleft: bytes = r.hget(itemid, \"quantity\")\n",
    "nleft"
   ]
  },
  {
   "cell_type": "code",
   "execution_count": 23,
   "metadata": {
    "ExecuteTime": {
     "end_time": "2019-10-20T05:12:37.978841Z",
     "start_time": "2019-10-20T05:12:37.968741Z"
    }
   },
   "outputs": [
    {
     "data": {
      "text/plain": [
       "b'blue'"
      ]
     },
     "execution_count": 23,
     "metadata": {},
     "output_type": "execute_result"
    }
   ],
   "source": [
    "clr=r.hget(itemid, 'color')\n",
    "clr"
   ]
  },
  {
   "cell_type": "code",
   "execution_count": 22,
   "metadata": {
    "ExecuteTime": {
     "end_time": "2019-10-20T05:12:33.297615Z",
     "start_time": "2019-10-20T05:12:33.286584Z"
    }
   },
   "outputs": [
    {
     "data": {
      "text/plain": [
       "0"
      ]
     },
     "execution_count": 22,
     "metadata": {},
     "output_type": "execute_result"
    }
   ],
   "source": [
    "r.hset(itemid, 'color', b'blue')"
   ]
  },
  {
   "cell_type": "code",
   "execution_count": 53,
   "metadata": {
    "ExecuteTime": {
     "end_time": "2019-10-20T06:05:46.858178Z",
     "start_time": "2019-10-20T06:05:46.845635Z"
    }
   },
   "outputs": [
    {
     "data": {
      "text/plain": [
       "1"
      ]
     },
     "execution_count": 53,
     "metadata": {},
     "output_type": "execute_result"
    }
   ],
   "source": [
    "x={'name':'李李', 'age':9}\n",
    "r.hset('hello', 'cnt', json.dumps(x, ensure_ascii=False))"
   ]
  },
  {
   "cell_type": "code",
   "execution_count": 54,
   "metadata": {
    "ExecuteTime": {
     "end_time": "2019-10-20T06:05:48.599715Z",
     "start_time": "2019-10-20T06:05:48.576549Z"
    }
   },
   "outputs": [
    {
     "name": "stdout",
     "output_type": "stream",
     "text": [
      "{\"name\": \"李李\", \"age\": 9}\n"
     ]
    },
    {
     "data": {
      "text/plain": [
       "'李李'"
      ]
     },
     "execution_count": 54,
     "metadata": {},
     "output_type": "execute_result"
    }
   ],
   "source": [
    "import json\n",
    "response=r.hget('hello', 'cnt')\n",
    "t=response.decode('utf8')\n",
    "print(t)\n",
    "obj=json.loads(t)\n",
    "obj['name']"
   ]
  },
  {
   "cell_type": "code",
   "execution_count": 49,
   "metadata": {
    "ExecuteTime": {
     "end_time": "2019-10-20T05:54:24.126097Z",
     "start_time": "2019-10-20T05:54:24.116137Z"
    }
   },
   "outputs": [
    {
     "data": {
      "text/plain": [
       "124"
      ]
     },
     "execution_count": 49,
     "metadata": {},
     "output_type": "execute_result"
    }
   ],
   "source": [
    "random.getrandbits(8)"
   ]
  },
  {
   "cell_type": "code",
   "execution_count": 51,
   "metadata": {
    "ExecuteTime": {
     "end_time": "2019-10-20T06:05:36.461500Z",
     "start_time": "2019-10-20T06:05:36.452091Z"
    }
   },
   "outputs": [
    {
     "data": {
      "text/plain": [
       "1"
      ]
     },
     "execution_count": 51,
     "metadata": {},
     "output_type": "execute_result"
    }
   ],
   "source": [
    "r.hdel('hello', 'cnt')"
   ]
  }
 ],
 "metadata": {
  "kernelspec": {
   "display_name": "Python 3",
   "language": "python",
   "name": "python3"
  },
  "language_info": {
   "codemirror_mode": {
    "name": "ipython",
    "version": 3
   },
   "file_extension": ".py",
   "mimetype": "text/x-python",
   "name": "python",
   "nbconvert_exporter": "python",
   "pygments_lexer": "ipython3",
   "version": "3.6.4"
  },
  "varInspector": {
   "cols": {
    "lenName": 16,
    "lenType": 16,
    "lenVar": 40
   },
   "kernels_config": {
    "python": {
     "delete_cmd_postfix": "",
     "delete_cmd_prefix": "del ",
     "library": "var_list.py",
     "varRefreshCmd": "print(var_dic_list())"
    },
    "r": {
     "delete_cmd_postfix": ") ",
     "delete_cmd_prefix": "rm(",
     "library": "var_list.r",
     "varRefreshCmd": "cat(var_dic_list()) "
    }
   },
   "types_to_exclude": [
    "module",
    "function",
    "builtin_function_or_method",
    "instance",
    "_Feature"
   ],
   "window_display": false
  }
 },
 "nbformat": 4,
 "nbformat_minor": 2
}
