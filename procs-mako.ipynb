{
 "cells": [
  {
   "cell_type": "markdown",
   "metadata": {},
   "source": [
    "⊕ [Usage — Mako 1.0.8 Documentation](https://docs.makotemplates.org/en/latest/usage.html#using-file-based-templates)\n"
   ]
  },
  {
   "cell_type": "code",
   "execution_count": 1,
   "metadata": {
    "ExecuteTime": {
     "end_time": "2018-12-24T09:21:52.680872Z",
     "start_time": "2018-12-24T09:21:52.578943Z"
    }
   },
   "outputs": [
    {
     "name": "stdout",
     "output_type": "stream",
     "text": [
      "hello world!\n",
      "this+is+some+text\n",
      "&lt;tag&gt;some value&lt;/tag&gt;\n"
     ]
    }
   ],
   "source": [
    "from mako.template import Template\n",
    "\n",
    "mytemplate = Template(\"hello world!\")\n",
    "print(mytemplate.render())\n",
    "mytemplate = Template('${\"this is some text\" | u}')\n",
    "print(mytemplate.render())\n",
    "mytemplate = Template('${\" <tag>some value</tag> \" | h,trim}')\n",
    "print(mytemplate.render())\n"
   ]
  },
  {
   "cell_type": "code",
   "execution_count": 2,
   "metadata": {
    "ExecuteTime": {
     "end_time": "2018-12-24T09:22:00.460727Z",
     "start_time": "2018-12-24T09:22:00.453320Z"
    }
   },
   "outputs": [
    {
     "name": "stdout",
     "output_type": "stream",
     "text": [
      "hello, jack!\n"
     ]
    }
   ],
   "source": [
    "from mako.template import Template\n",
    "\n",
    "mytemplate = Template(\"hello, ${name}!\")\n",
    "print(mytemplate.render(name=\"jack\"))"
   ]
  },
  {
   "cell_type": "code",
   "execution_count": 4,
   "metadata": {
    "ExecuteTime": {
     "end_time": "2018-12-07T08:26:36.672299Z",
     "start_time": "2018-12-07T08:26:36.662136Z"
    }
   },
   "outputs": [
    {
     "name": "stdout",
     "output_type": "stream",
     "text": [
      "hello, jack!\n"
     ]
    }
   ],
   "source": [
    "from mako.template import Template\n",
    "from mako.runtime import Context\n",
    "# from StringIO import StringIO\n",
    "from io import StringIO\n",
    "\n",
    "mytemplate = Template(\"hello, ${name}!\")\n",
    "buf = StringIO()\n",
    "ctx = Context(buf, name=\"jack\")\n",
    "mytemplate.render_context(ctx)\n",
    "print(buf.getvalue())"
   ]
  },
  {
   "cell_type": "code",
   "execution_count": 7,
   "metadata": {
    "ExecuteTime": {
     "end_time": "2018-12-07T08:30:33.301849Z",
     "start_time": "2018-12-07T08:30:33.285765Z"
    }
   },
   "outputs": [
    {
     "name": "stdout",
     "output_type": "stream",
     "text": [
      "hello, jack!\n"
     ]
    }
   ],
   "source": [
    "from mako.template import Template\n",
    "\n",
    "# mytemplate = Template(filename='./templates/hello.txt')\n",
    "mytemplate = Template(filename='./templates/hello.txt', module_directory='/tmp/mako_modules')\n",
    "buf = StringIO()\n",
    "ctx = Context(buf, name=\"jack\")\n",
    "mytemplate.render_context(ctx)\n",
    "print(buf.getvalue())"
   ]
  },
  {
   "cell_type": "code",
   "execution_count": 5,
   "metadata": {
    "ExecuteTime": {
     "end_time": "2018-12-24T09:25:01.950936Z",
     "start_time": "2018-12-24T09:25:01.942226Z"
    },
    "scrolled": true
   },
   "outputs": [
    {
     "name": "stdout",
     "output_type": "stream",
     "text": [
      "<ul>\n",
      "    <li>Item 0: one</li>\n",
      "    <li>Item 1: two</li>\n",
      "    <li>Item 2: three</li>\n",
      "</ul>\n"
     ]
    }
   ],
   "source": [
    "from mako.template import Template\n",
    "from io import StringIO\n",
    "from mako.runtime import Context\n",
    "\n",
    "mytemplate = Template(filename='./templates/loop.txt', module_directory='/tmp/mako_modules')\n",
    "buf = StringIO()\n",
    "ctx = Context(buf, name=\"jack\")\n",
    "mytemplate.render_context(ctx)\n",
    "print(buf.getvalue())"
   ]
  },
  {
   "cell_type": "markdown",
   "metadata": {},
   "source": [
    "⊕ [Syntax — Mako 1.0.8 Documentation](https://docs.makotemplates.org/en/latest/syntax.html)\n"
   ]
  },
  {
   "cell_type": "code",
   "execution_count": 7,
   "metadata": {
    "ExecuteTime": {
     "end_time": "2018-12-24T09:26:54.188122Z",
     "start_time": "2018-12-24T09:26:54.161585Z"
    }
   },
   "outputs": [
    {
     "data": {
      "text/plain": [
       "'pythagorean theorem:  61\\n'"
      ]
     },
     "execution_count": 7,
     "metadata": {},
     "output_type": "execute_result"
    }
   ],
   "source": [
    "from io import StringIO\n",
    "from mako.template import Template\n",
    "from mako.lookup import TemplateLookup\n",
    "from mako.runtime import Context\n",
    "\n",
    "# The contents within the ${} tag are evaluated by Python directly, so full expressions are OK:\n",
    "def render_template(file, ctx):\n",
    "    mylookup = TemplateLookup(directories=['./'], output_encoding='utf-8', encoding_errors='replace')\n",
    "    mytemplate = Template(filename='./templates/'+file, module_directory='/tmp/mako_modules', lookup=mylookup)\n",
    "    mytemplate.render_context(ctx)\n",
    "    return (buf.getvalue())\n",
    "\n",
    "buf = StringIO()\n",
    "ctx = Context(buf, x=5, y=6)\n",
    "render_template('expr.txt', ctx)"
   ]
  },
  {
   "cell_type": "code",
   "execution_count": 8,
   "metadata": {
    "ExecuteTime": {
     "end_time": "2018-12-24T09:26:58.830176Z",
     "start_time": "2018-12-24T09:26:58.816248Z"
    }
   },
   "outputs": [
    {
     "data": {
      "text/plain": [
       "'\\nThe fuzzy bunnies\\n\\n'"
      ]
     },
     "execution_count": 8,
     "metadata": {},
     "output_type": "execute_result"
    }
   ],
   "source": [
    "# render_template('imports.txt', ctx)\n",
    "buf = StringIO()\n",
    "ctx = Context(buf)\n",
    "render_template('simple.mako', ctx)"
   ]
  },
  {
   "cell_type": "code",
   "execution_count": 9,
   "metadata": {
    "ExecuteTime": {
     "end_time": "2018-12-24T09:27:01.737504Z",
     "start_time": "2018-12-24T09:27:01.719831Z"
    }
   },
   "outputs": [
    {
     "data": {
      "text/plain": [
       "'\\n\\n\\nthis is myfunc, x is 7\\n\\nwelcome\\n'"
      ]
     },
     "execution_count": 9,
     "metadata": {},
     "output_type": "execute_result"
    }
   ],
   "source": [
    "buf = StringIO()\n",
    "ctx = Context(buf)\n",
    "render_template('simple_incl.mako', ctx)"
   ]
  },
  {
   "cell_type": "code",
   "execution_count": 6,
   "metadata": {
    "ExecuteTime": {
     "end_time": "2018-12-18T12:54:48.368293Z",
     "start_time": "2018-12-18T12:54:48.362658Z"
    },
    "scrolled": true
   },
   "outputs": [
    {
     "name": "stdout",
     "output_type": "stream",
     "text": [
      "\n",
      "\n",
      "\n",
      "\n",
      "    x is: drôle de petite voix m’a réveillé\n",
      "\n",
      "\n",
      "    x is: drôle de petite voix m’a réveillé\n",
      "\n",
      "\n",
      "    x is: drôle de petite voix m’a réveillé\n",
      "\n",
      "\n",
      "    x is: drôle de petite voix m’a réveillé\n",
      "\n",
      "\n"
     ]
    }
   ],
   "source": [
    "buf = StringIO()\n",
    "ctx = Context(buf)\n",
    "print(render_template('unicode_arguments.html', ctx))"
   ]
  },
  {
   "cell_type": "code",
   "execution_count": 7,
   "metadata": {
    "ExecuteTime": {
     "end_time": "2018-12-18T13:00:08.289755Z",
     "start_time": "2018-12-18T13:00:08.280352Z"
    }
   },
   "outputs": [
    {
     "name": "stdout",
     "output_type": "stream",
     "text": [
      "\n",
      "    this is sub index\n",
      "    \n",
      "    this is include 2\n",
      "\n",
      "\n"
     ]
    }
   ],
   "source": [
    "buf = StringIO()\n",
    "ctx = Context(buf)\n",
    "print(render_template('index.html', ctx))"
   ]
  },
  {
   "cell_type": "code",
   "execution_count": 12,
   "metadata": {
    "ExecuteTime": {
     "end_time": "2018-12-24T09:37:42.148107Z",
     "start_time": "2018-12-24T09:37:42.143835Z"
    }
   },
   "outputs": [
    {
     "name": "stdout",
     "output_type": "stream",
     "text": [
      "['some_slot', 'some_other_slot']\n"
     ]
    }
   ],
   "source": [
    "slots=[\"some_slot\", \"some_other_slot\"]\n",
    "print(str(slots))"
   ]
  },
  {
   "cell_type": "code",
   "execution_count": 14,
   "metadata": {
    "ExecuteTime": {
     "end_time": "2018-12-24T09:39:13.615209Z",
     "start_time": "2018-12-24T09:39:13.605373Z"
    }
   },
   "outputs": [
    {
     "name": "stdout",
     "output_type": "stream",
     "text": [
      "class CustomFormAction(FormAction):\n",
      "    def name(self):\n",
      "        return \"some_form\"\n",
      "\n",
      "    @staticmethod\n",
      "    def required_slots(_tracker):\n",
      "        return ['some_slot', 'some_other_slot']\n",
      "\n",
      "\n"
     ]
    }
   ],
   "source": [
    "buf = StringIO()\n",
    "ctx = Context(buf, form_name=\"some_form\", slots=[\"some_slot\", \"some_other_slot\"])\n",
    "print(render_template('custom_form_action.mako', ctx))"
   ]
  }
 ],
 "metadata": {
  "kernelspec": {
   "display_name": "Python 3",
   "language": "python",
   "name": "python3"
  },
  "language_info": {
   "codemirror_mode": {
    "name": "ipython",
    "version": 3
   },
   "file_extension": ".py",
   "mimetype": "text/x-python",
   "name": "python",
   "nbconvert_exporter": "python",
   "pygments_lexer": "ipython3",
   "version": "3.6.4"
  },
  "varInspector": {
   "cols": {
    "lenName": 16,
    "lenType": 16,
    "lenVar": 40
   },
   "kernels_config": {
    "python": {
     "delete_cmd_postfix": "",
     "delete_cmd_prefix": "del ",
     "library": "var_list.py",
     "varRefreshCmd": "print(var_dic_list())"
    },
    "r": {
     "delete_cmd_postfix": ") ",
     "delete_cmd_prefix": "rm(",
     "library": "var_list.r",
     "varRefreshCmd": "cat(var_dic_list()) "
    }
   },
   "types_to_exclude": [
    "module",
    "function",
    "builtin_function_or_method",
    "instance",
    "_Feature"
   ],
   "window_display": false
  }
 },
 "nbformat": 4,
 "nbformat_minor": 2
}
