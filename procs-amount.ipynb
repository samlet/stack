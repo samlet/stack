{
 "cells": [
  {
   "cell_type": "markdown",
   "metadata": {},
   "source": [
    "⊕ [python实现中文数字转阿拉伯数字 - 个人文章 - SegmentFault 思否](https://segmentfault.com/a/1190000013048884)\n",
    "\n",
    "- (1) 零在中文数字串中起补位作用，处理的时候可以忽略掉\n",
    "- (2) 一十通常直接缩减为十，意味着十前获取不到数字时为一十\n",
    "- (3) 单位千、百、十前的数为单个数字\n",
    "- (4) 单位万前的数可以由（3）复合而成\n",
    "- (5) 单位亿前的数可以由（3）、（4）及亿本身复合而成"
   ]
  },
  {
   "cell_type": "code",
   "execution_count": 2,
   "metadata": {
    "ExecuteTime": {
     "end_time": "2018-12-28T08:21:17.180021Z",
     "start_time": "2018-12-28T08:21:17.116103Z"
    }
   },
   "outputs": [],
   "source": [
    "digit = {'一': 1, '二': 2, '三': 3, '四': 4, '五': 5, '六': 6, '七': 7, '八': 8, '九': 9}\n",
    "def _trans(s):\n",
    "    num = 0\n",
    "    if s:\n",
    "        idx_q, idx_b, idx_s = s.find('千'), s.find('百'), s.find('十')\n",
    "        if idx_q != -1:\n",
    "            num += digit[s[idx_q - 1:idx_q]] * 1000\n",
    "        if idx_b != -1:\n",
    "            num += digit[s[idx_b - 1:idx_b]] * 100\n",
    "        if idx_s != -1:\n",
    "            # 十前忽略一的处理\n",
    "            num += digit.get(s[idx_s - 1:idx_s], 1) * 10\n",
    "        if s[-1] in digit:\n",
    "            num += digit[s[-1]]\n",
    "    return num\n",
    "\n",
    "def trans(chn):\n",
    "    chn = chn.replace('零', '')\n",
    "    idx_y, idx_w = chn.rfind('亿'), chn.rfind('万')\n",
    "    if idx_w < idx_y:\n",
    "        idx_w = -1\n",
    "    num_y, num_w = 100000000, 10000\n",
    "    if idx_y != -1 and idx_w != -1:\n",
    "        return trans(chn[:idx_y]) * num_y + _trans(chn[idx_y + 1:idx_w]) * num_w + _trans(chn[idx_w + 1:])\n",
    "    elif idx_y != -1:\n",
    "        return trans(chn[:idx_y]) * num_y + _trans(chn[idx_y + 1:])\n",
    "    elif idx_w != -1:\n",
    "        return _trans(chn[:idx_w]) * num_w + _trans(chn[idx_w + 1:])\n",
    "    return _trans(chn)"
   ]
  },
  {
   "cell_type": "code",
   "execution_count": 5,
   "metadata": {
    "ExecuteTime": {
     "end_time": "2018-12-28T08:22:50.291113Z",
     "start_time": "2018-12-28T08:22:50.279244Z"
    }
   },
   "outputs": [
    {
     "name": "stdout",
     "output_type": "stream",
     "text": [
      "True\n",
      "True\n",
      "True\n",
      "True\n",
      "True\n",
      "True\n",
      "False\n",
      "1023000004890 ?\n"
     ]
    }
   ],
   "source": [
    "print(trans('十') == 10) \n",
    "print(trans('一百零一') == 101)\n",
    "print(trans('九百二十一') == 921)\n",
    "print(trans('五十六万零一十') == 560010)\n",
    "print(trans('一万亿零二千一百零一') == 1000000002101)\n",
    "print(trans('一万亿二千一百万零一百零一') == 1000021000101)\n",
    "print(trans('一万零二百三十亿四千零七千八百九十') == 1023000007890)\n",
    "print(trans('一万零二百三十亿四千零七千八百九十'), \"?\")"
   ]
  }
 ],
 "metadata": {
  "kernelspec": {
   "display_name": "Python 3",
   "language": "python",
   "name": "python3"
  },
  "language_info": {
   "codemirror_mode": {
    "name": "ipython",
    "version": 3
   },
   "file_extension": ".py",
   "mimetype": "text/x-python",
   "name": "python",
   "nbconvert_exporter": "python",
   "pygments_lexer": "ipython3",
   "version": "3.6.4"
  },
  "varInspector": {
   "cols": {
    "lenName": 16,
    "lenType": 16,
    "lenVar": 40
   },
   "kernels_config": {
    "python": {
     "delete_cmd_postfix": "",
     "delete_cmd_prefix": "del ",
     "library": "var_list.py",
     "varRefreshCmd": "print(var_dic_list())"
    },
    "r": {
     "delete_cmd_postfix": ") ",
     "delete_cmd_prefix": "rm(",
     "library": "var_list.r",
     "varRefreshCmd": "cat(var_dic_list()) "
    }
   },
   "types_to_exclude": [
    "module",
    "function",
    "builtin_function_or_method",
    "instance",
    "_Feature"
   ],
   "window_display": false
  }
 },
 "nbformat": 4,
 "nbformat_minor": 2
}
