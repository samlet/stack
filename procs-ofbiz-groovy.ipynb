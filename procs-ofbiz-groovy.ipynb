{
 "cells": [
  {
   "cell_type": "code",
   "execution_count": 1,
   "metadata": {
    "ExecuteTime": {
     "end_time": "2019-02-06T15:50:57.841399Z",
     "start_time": "2019-02-06T15:50:57.580066Z"
    }
   },
   "outputs": [],
   "source": [
    "from py4j.java_gateway import java_import\n",
    "from sagas.ofbiz.runtime_context import platform\n",
    "\n",
    "oc = platform.oc\n",
    "finder = platform.finder\n",
    "helper = platform.helper"
   ]
  },
  {
   "cell_type": "code",
   "execution_count": 2,
   "metadata": {
    "ExecuteTime": {
     "end_time": "2019-02-06T15:51:03.673788Z",
     "start_time": "2019-02-06T15:51:03.650343Z"
    }
   },
   "outputs": [
    {
     "name": "stdout",
     "output_type": "stream",
     "text": [
      "{'userLoginId': 'system'}\n"
     ]
    }
   ],
   "source": [
    "java_import(oc.j, 'com.sagas.generic.*')\n",
    "director=oc.j.MiniLangDirector(oc.dispatcher)\n",
    "ctx=director.createServiceMethodContext()\n",
    "user=ctx.getUserLogin()\n",
    "print(user)"
   ]
  },
  {
   "cell_type": "code",
   "execution_count": 3,
   "metadata": {
    "ExecuteTime": {
     "end_time": "2019-02-06T15:51:06.515300Z",
     "start_time": "2019-02-06T15:51:06.512017Z"
    }
   },
   "outputs": [],
   "source": [
    "simple_source='''\n",
    "def aService(){\n",
    "    logError('A valid rate: '+parameters.name)\n",
    "    Map result = success()\n",
    "    result.level = 19\n",
    "    return result\n",
    "}\n",
    "'''"
   ]
  },
  {
   "cell_type": "code",
   "execution_count": 4,
   "metadata": {
    "ExecuteTime": {
     "end_time": "2019-02-06T15:51:08.629135Z",
     "start_time": "2019-02-06T15:51:08.474460Z"
    }
   },
   "outputs": [],
   "source": [
    "manager=oc.j.GroovyManager()\n",
    "manager.addSource(\"simple\", simple_source)"
   ]
  },
  {
   "cell_type": "code",
   "execution_count": 5,
   "metadata": {
    "ExecuteTime": {
     "end_time": "2019-02-06T15:51:10.637609Z",
     "start_time": "2019-02-06T15:51:10.580652Z"
    }
   },
   "outputs": [
    {
     "name": "stdout",
     "output_type": "stream",
     "text": [
      "{'level': 19, 'responseMessage': 'success'}\n"
     ]
    }
   ],
   "source": [
    "gd=oc.j.GroovyDirector(manager, oc.dispatcher)\n",
    "ctx=oc.jmap(name=\"tom\")\n",
    "result_names=oc.j.HashSet()\n",
    "result=gd.exec(\"simple\", 'aService', ctx, result_names)\n",
    "print(result)"
   ]
  },
  {
   "cell_type": "code",
   "execution_count": 15,
   "metadata": {
    "ExecuteTime": {
     "end_time": "2019-02-06T16:04:42.078605Z",
     "start_time": "2019-02-06T16:04:42.032257Z"
    }
   },
   "outputs": [
    {
     "name": "stdout",
     "output_type": "stream",
     "text": [
      "+----------------------------+-------------------------+\n",
      "| name                       | value                   |\n",
      "|----------------------------+-------------------------|\n",
      "| partyIdFrom                | Company                 |\n",
      "| latestCancelDate           |                         |\n",
      "| createdStamp               | 2019-01-26 21:09:31.06  |\n",
      "| estimatedReadyDate         |                         |\n",
      "| lastModifiedByUserLogin    |                         |\n",
      "| estimatedArrivalWorkEffId  |                         |\n",
      "| additionalShippingCharge   |                         |\n",
      "| destinationTelecomNumberId | 9025                    |\n",
      "| estimatedShipCost          | 12.10                   |\n",
      "| createdByUserLogin         |                         |\n",
      "| estimatedShipWorkEffId     |                         |\n",
      "| destinationFacilityId      |                         |\n",
      "| lastUpdatedStamp           | 2019-01-26 21:09:31.06  |\n",
      "| addtlShippingChargeDesc    |                         |\n",
      "| lastModifiedDate           |                         |\n",
      "| originContactMechId        | 9200                    |\n",
      "| createdTxStamp             | 2019-01-26 21:09:22.215 |\n",
      "| lastUpdatedTxStamp         | 2019-01-26 21:09:22.215 |\n",
      "| primaryReturnId            |                         |\n",
      "| originFacilityId           | WebStoreWarehouse       |\n",
      "| currencyUomId              |                         |\n",
      "| createdDate                | 2009-08-17 14:56:57.553 |\n",
      "| statusId                   | SHIPMENT_SHIPPED        |\n",
      "| destinationContactMechId   | 9015                    |\n",
      "| shipmentId                 | 9996                    |\n",
      "| originTelecomNumberId      | 9201                    |\n",
      "| primaryOrderId             | Demo1002                |\n",
      "| estimatedShipDate          |                         |\n",
      "| partyIdTo                  | DemoCustomer            |\n",
      "| shipmentTypeId             | SALES_SHIPMENT          |\n",
      "| estimatedArrivalDate       |                         |\n",
      "| picklistBinId              |                         |\n",
      "| primaryShipGroupSeqId      | 00001                   |\n",
      "| handlingInstructions       |                         |\n",
      "+----------------------------+-------------------------+\n",
      "+----------------------------+-------------------------+\n",
      "| name                       | value                   |\n",
      "|----------------------------+-------------------------|\n",
      "| lastUpdatedStamp           | 2019-01-26 21:09:31.061 |\n",
      "| quantity                   | 3.000000                |\n",
      "| productId                  | WG-1111                 |\n",
      "| shipmentContentDescription |                         |\n",
      "| shipmentId                 | 9996                    |\n",
      "| createdTxStamp             | 2019-01-26 21:09:22.215 |\n",
      "| createdStamp               | 2019-01-26 21:09:31.061 |\n",
      "| lastUpdatedTxStamp         | 2019-01-26 21:09:22.215 |\n",
      "| shipmentItemSeqId          | 00001                   |\n",
      "+----------------------------+-------------------------+\n",
      "1\n"
     ]
    }
   ],
   "source": [
    "from sagas.ofbiz.entities import format\n",
    "loc=\"component://ecommerce/groovyScripts/order/ShipmentStatus.groovy\"\n",
    "\n",
    "ctx=oc.jmap(shipmentId=\"9996\")\n",
    "result_names=oc.j.HashSet()\n",
    "result_names.add('context')\n",
    "\n",
    "result=gd.exec(loc,None, ctx, result_names)\n",
    "\n",
    "format(result['context']['shipment'])\n",
    "for item in result['context']['shipmentItems']:\n",
    "    format(item)\n",
    "print(len(result['context']['orderShipmentInfoSummaryList']))"
   ]
  },
  {
   "cell_type": "code",
   "execution_count": 11,
   "metadata": {
    "ExecuteTime": {
     "end_time": "2019-02-01T19:01:02.387887Z",
     "start_time": "2019-02-01T19:01:02.380499Z"
    }
   },
   "outputs": [
    {
     "name": "stdout",
     "output_type": "stream",
     "text": [
      "/Users/xiaofeiwu/jcloud/assets/langs/workspace/rasa/stack\n"
     ]
    }
   ],
   "source": [
    "import os\n",
    "print(os.getcwd())"
   ]
  },
  {
   "cell_type": "code",
   "execution_count": 13,
   "metadata": {
    "ExecuteTime": {
     "end_time": "2019-02-01T19:03:09.303227Z",
     "start_time": "2019-02-01T19:03:09.278859Z"
    }
   },
   "outputs": [
    {
     "name": "stdout",
     "output_type": "stream",
     "text": [
      "166\n"
     ]
    }
   ],
   "source": [
    "java_import(oc.j, 'java.io.*')\n",
    "java_import(oc.j, 'org.apache.ofbiz.base.util.*')\n",
    "# read from ofbiz root folder\n",
    "text=oc.j.UtilIO.readString(oc.j.FileInputStream(oc.j.File(\"./NOTICE\")))\n",
    "print(len(text))"
   ]
  }
 ],
 "metadata": {
  "kernelspec": {
   "display_name": "Python 3",
   "language": "python",
   "name": "python3"
  },
  "language_info": {
   "codemirror_mode": {
    "name": "ipython",
    "version": 3
   },
   "file_extension": ".py",
   "mimetype": "text/x-python",
   "name": "python",
   "nbconvert_exporter": "python",
   "pygments_lexer": "ipython3",
   "version": "3.6.4"
  },
  "varInspector": {
   "cols": {
    "lenName": 16,
    "lenType": 16,
    "lenVar": 40
   },
   "kernels_config": {
    "python": {
     "delete_cmd_postfix": "",
     "delete_cmd_prefix": "del ",
     "library": "var_list.py",
     "varRefreshCmd": "print(var_dic_list())"
    },
    "r": {
     "delete_cmd_postfix": ") ",
     "delete_cmd_prefix": "rm(",
     "library": "var_list.r",
     "varRefreshCmd": "cat(var_dic_list()) "
    }
   },
   "types_to_exclude": [
    "module",
    "function",
    "builtin_function_or_method",
    "instance",
    "_Feature"
   ],
   "window_display": false
  }
 },
 "nbformat": 4,
 "nbformat_minor": 2
}
