{
 "cells": [
  {
   "cell_type": "markdown",
   "metadata": {},
   "source": [
    "⊕ [Comprehensions — Python 3 Patterns, Recipes and Idioms](https://python-3-patterns-idioms-test.readthedocs.io/en/latest/Comprehensions.html)\n"
   ]
  },
  {
   "cell_type": "code",
   "execution_count": 4,
   "metadata": {
    "ExecuteTime": {
     "end_time": "2019-10-23T19:15:49.492731Z",
     "start_time": "2019-10-23T19:15:49.482984Z"
    }
   },
   "outputs": [
    {
     "name": "stdout",
     "output_type": "stream",
     "text": [
      "[1, 81, 0, 16]\n"
     ]
    }
   ],
   "source": [
    "a_list = [1, '4', 9, 'a', 0, 4]\n",
    "\n",
    "squared_ints = [ e**2 for e in a_list if type(e) == int ]\n",
    "print(squared_ints)\n",
    "# [ 1, 81, 0, 16 ]"
   ]
  },
  {
   "cell_type": "code",
   "execution_count": 5,
   "metadata": {
    "ExecuteTime": {
     "end_time": "2019-10-23T19:16:33.389558Z",
     "start_time": "2019-10-23T19:16:33.338165Z"
    }
   },
   "outputs": [
    {
     "data": {
      "text/plain": [
       "<filter at 0x10bf5f5c0>"
      ]
     },
     "execution_count": 5,
     "metadata": {},
     "output_type": "execute_result"
    }
   ],
   "source": [
    "import types\n",
    "filter(lambda e: type(e) == types.IntType, a_list)"
   ]
  },
  {
   "cell_type": "code",
   "execution_count": 7,
   "metadata": {
    "ExecuteTime": {
     "end_time": "2019-10-23T19:17:05.782067Z",
     "start_time": "2019-10-23T19:17:05.767022Z"
    }
   },
   "outputs": [
    {
     "data": {
      "text/plain": [
       "<map at 0x10bf46b00>"
      ]
     },
     "execution_count": 7,
     "metadata": {},
     "output_type": "execute_result"
    }
   ],
   "source": [
    "map(lambda e: e**2, filter(lambda e: type(e) == types.IntType, a_list))"
   ]
  },
  {
   "cell_type": "code",
   "execution_count": 8,
   "metadata": {
    "ExecuteTime": {
     "end_time": "2019-10-23T19:17:57.509661Z",
     "start_time": "2019-10-23T19:17:57.495332Z"
    }
   },
   "outputs": [
    {
     "data": {
      "text/plain": [
       "[[1, 0, 0], [0, 1, 0], [0, 0, 1]]"
      ]
     },
     "execution_count": 8,
     "metadata": {},
     "output_type": "execute_result"
    }
   ],
   "source": [
    "[ [ 1 if item_idx == row_idx else 0 for item_idx in range(0, 3) ] for row_idx in range(0, 3) ]"
   ]
  },
  {
   "cell_type": "code",
   "execution_count": 10,
   "metadata": {
    "ExecuteTime": {
     "end_time": "2019-10-23T19:18:20.271184Z",
     "start_time": "2019-10-23T19:18:20.266247Z"
    }
   },
   "outputs": [],
   "source": [
    "# ['%s=%s' % (n, v) for n, v in zip(self.all_names, self)]"
   ]
  },
  {
   "cell_type": "code",
   "execution_count": 12,
   "metadata": {
    "ExecuteTime": {
     "end_time": "2019-10-23T19:18:41.556356Z",
     "start_time": "2019-10-23T19:18:41.491002Z"
    }
   },
   "outputs": [
    {
     "name": "stdout",
     "output_type": "stream",
     "text": [
      "./procs-corenlp-routines.md\n",
      "./procs-python-decorator.md\n",
      "./procs-python-platform.md\n",
      "./procs-stack-issues.md\n",
      "./procs-ofbiz-gen.md\n",
      "./procs-pandas-json.md\n",
      "./procs-web-speech-api.md\n",
      "./procs-postgres.md\n",
      "./procs-ofbiz-product-price.md\n",
      "./procs-artifacts.md\n",
      "./procss-dss.md\n",
      "./procs-ofbiz-product.md\n",
      "./procs-python-xml-gen.md\n",
      "./procs-python-dev-tool.md\n",
      "./procs-python-xml.md\n",
      "./procs-cli-routines.md\n",
      "./procs-consul.md\n",
      "./procs-dgraph-schema.md\n",
      "./procs-ofbiz-entity.md\n",
      "./procs-http-proxy.md\n",
      "./procs-distributed.md\n",
      "./procs-log4j.md\n",
      "./procs-python-cache.md\n",
      "./procs-networkx.md\n",
      "./procs-python-functions.md\n",
      "./procs-rocksdb.md\n",
      "./procs-jupyter-routines.md\n",
      "./procs-ofbiz-tool.md\n",
      "./procs-python-protobuf.md\n",
      "./procs.md\n",
      "./procs-python-profiler.md\n",
      "./procs-python-env.md\n",
      "./procs-rasa-form.md\n",
      "./procs-ofbiz-product-review.md\n",
      "./procs-ofbiz-groovy.md\n",
      "./procs-pandas-statistics.md\n",
      "./procs-date-time.md\n",
      "./procs-rocksdb-java.md\n",
      "./procs-web.md\n",
      "./procs-rocksdb-mysql.md\n",
      "./procs-rss.md\n",
      "./procs-python-compile.md\n",
      "./procs-aio-pika.md\n",
      "./procs-audio.md\n",
      "./config.md\n",
      "./procs-dgraph-i18n.md\n",
      "./procs-graphviz.md\n",
      "./procs-python-asyncio.md\n",
      "./procs-actions.md\n",
      "./procs-rabbitmq-docker.md\n",
      "./procs-pandas-routines.md\n",
      "./procs-ofbiz-srv-forecastings.md\n",
      "./procs-tabulate.md\n",
      "./procs-pandas-options.md\n",
      "./procs-rasa-issues.md\n",
      "./procs-graphviz-ascii.md\n",
      "./procs-python-yaml.md\n",
      "./procs-python-itertools.md\n",
      "./procs-go-modules.md\n",
      "./procs-ofbiz-product-inventory.md\n",
      "./procs-streamlit-routines.md\n",
      "./procs-python-module.md\n",
      "./procs-python-threading.md\n",
      "./procs-bash.md\n",
      "./procs-nlu.md\n",
      "./procs-hanlp-routines.md\n",
      "./procs-ofbiz-routines.md\n",
      "./procs-pyarrow.md\n",
      "./procs-stack.md\n",
      "./procs-aiohttp.md\n",
      "./procs-dgraph.md\n",
      "./procs-ofbiz-kafka.md\n",
      "./procs-python-date-time.md\n",
      "./procs-dgraph-routines.md\n",
      "./procs-python-eval.md\n",
      "./procs-logging.md\n",
      "./blueprints/party-common.md\n",
      "./ecommerce/procs-groovy-jupyter.md\n",
      "./ecommerce/procs-gradle.md\n",
      "./ecommerce/procs.md\n",
      "./ecommerce/procs-groovy.md\n",
      "./ecommerce/procs-gradle-projects.md\n",
      "./ecommerce/procs-gradle-mirror.md\n",
      "./ecommerce/procs-gradle-tasks.md\n",
      "./ecommerce/procs-groovy-dsl.md\n",
      "./crawlers/tutorial/procs-scrapy-tutorial.md\n",
      "./crawlers/langcrs/procs-langcrs.md\n",
      "./dart/procs-dart-client.md\n",
      "./dart/crmsfa/README.md\n",
      "./interacts/procs-interacts.md\n",
      "./compose/dev/procs-compose-dev.md\n",
      "./agents/prototypes/concertbot/procs-concertbot.md\n",
      "./agents/prototypes/concertbot/data/stories.md\n",
      "./nlu_data/nlu_data.md\n",
      "./mats/procs-mats.md\n",
      "./mats/nlu_multilang/procs-german-nlu.md\n",
      "./mats/nlu_multilang/procs-nlu-multilang.md\n",
      "./mats/nlu_multilang/corpus/cn-Question-Parts.md\n",
      "./mats/nlu_multilang/corpus/cn-Samples_issue.md\n",
      "./mats/nlu_multilang/corpus/ja-Samples.md\n",
      "./mats/nlu_multilang/corpus/cn-ConcertBot.md\n",
      "./mats/nlu_multilang/ru/nlu_data.md\n",
      "./mats/nlu_multilang/_tpl/nlu_data.md\n",
      "./mats/nlu_multilang/de/nlu_data.md\n",
      "./mats/nlu_multilang/fr/nlu_data.md\n",
      "./mats/nlu_multilang/es/nlu_data.md\n",
      "./mats/nlu_multilang/en/common.md\n",
      "./mats/nlu_multilang/en/nlu_data.md\n",
      "./sagas/tests/multiprocessing/urls.md\n",
      "./ref_src/app/procs.md\n",
      "./ref_src/multiplex/README.md\n",
      "./examples/formbot/data/stories.md\n",
      "./examples/formbot/data/nlu_data.md\n",
      "./scripts/procs-procfile.md\n",
      "./generators/procs-yaml.md\n",
      "./generators/procs-generator.md\n",
      "./data/nlu.md\n",
      "./data/stories_p.md\n",
      "./data/stories.md\n",
      "./data/test_multifile_stories/stories_part_1.md\n",
      "./data/test_multifile_stories/stories_part_2.md\n",
      "./data/rss/procs-dgraph-rss.md\n",
      "./data/graph/procs-dgraph-json.md\n",
      "./data/labels/procs-dgraph-ofbiz-labels.md\n",
      "./data/test_evaluations/end_to_end_story.md\n",
      "./data/ofbiz/procs-dgraph-ofbiz.md\n",
      "./data/test_stories/stories_defaultdomain.md\n",
      "./data/test_stories/stories_babi_small.md\n",
      "./data/test_stories/stories_unused_checkpoints.md\n",
      "./data/test_stories/stories_with_cycle.md\n",
      "./data/test_stories/stories_checkpoint_after_or.md\n",
      "./data/test_stories/stories_restart.md\n",
      "./data/test_stories/stories.md\n",
      "./data/test_stories/stories_form.md\n",
      "./data/examples/rasa/demo-rasa.md\n",
      "./fsms/fsm-thread.md\n",
      "./talk/common-General.md\n",
      "./talk/core-form.md\n",
      "./talk/common-Restaurant.md\n"
     ]
    }
   ],
   "source": [
    "import os\n",
    "restFiles = [os.path.join(d[0], f) for d in os.walk(\".\")\n",
    "             for f in d[2] if f.endswith(\".md\")]\n",
    "for r in restFiles:\n",
    "    print(r)"
   ]
  },
  {
   "cell_type": "code",
   "execution_count": 13,
   "metadata": {
    "ExecuteTime": {
     "end_time": "2019-10-23T19:19:54.248795Z",
     "start_time": "2019-10-23T19:19:54.237402Z"
    }
   },
   "outputs": [
    {
     "data": {
      "text/plain": [
       "{'Alice', 'Bob', 'John'}"
      ]
     },
     "execution_count": 13,
     "metadata": {},
     "output_type": "execute_result"
    }
   ],
   "source": [
    "names = [ 'Bob', 'JOHN', 'alice', 'bob', 'ALICE', 'J', 'Bob' ]\n",
    "{ name[0].upper() + name[1:].lower() for name in names if len(name) > 1 }"
   ]
  },
  {
   "cell_type": "code",
   "execution_count": 14,
   "metadata": {
    "ExecuteTime": {
     "end_time": "2019-10-23T19:20:50.239404Z",
     "start_time": "2019-10-23T19:20:50.222828Z"
    }
   },
   "outputs": [
    {
     "data": {
      "text/plain": [
       "{'a': 17, 'b': 34, 'z': 3}"
      ]
     },
     "execution_count": 14,
     "metadata": {},
     "output_type": "execute_result"
    }
   ],
   "source": [
    "mcase = {'a':10, 'b': 34, 'A': 7, 'Z':3}\n",
    "\n",
    "mcase_frequency = { k.lower() : mcase.get(k.lower(), 0) + mcase.get(k.upper(), 0) for k in mcase.keys() }\n",
    "mcase_frequency"
   ]
  },
  {
   "cell_type": "code",
   "execution_count": 15,
   "metadata": {
    "ExecuteTime": {
     "end_time": "2019-10-26T04:43:42.451168Z",
     "start_time": "2019-10-26T04:43:42.426259Z"
    }
   },
   "outputs": [],
   "source": [
    "def fn():\n",
    "    print('a fn')\n",
    "exports={fn}"
   ]
  },
  {
   "cell_type": "code",
   "execution_count": 20,
   "metadata": {
    "ExecuteTime": {
     "end_time": "2019-10-26T04:45:03.302915Z",
     "start_time": "2019-10-26T04:45:03.289487Z"
    }
   },
   "outputs": [
    {
     "name": "stdout",
     "output_type": "stream",
     "text": [
      "fn\n"
     ]
    }
   ],
   "source": [
    "for e in exports:\n",
    "    print(str(e.__name__))"
   ]
  },
  {
   "cell_type": "code",
   "execution_count": 22,
   "metadata": {
    "ExecuteTime": {
     "end_time": "2019-10-26T05:36:58.724423Z",
     "start_time": "2019-10-26T05:36:58.710801Z"
    }
   },
   "outputs": [
    {
     "data": {
      "text/plain": [
       "'c.txt'"
      ]
     },
     "execution_count": 22,
     "metadata": {},
     "output_type": "execute_result"
    }
   ],
   "source": [
    "import ntpath\n",
    "ntpath.basename(\"a/b/c.txt\")"
   ]
  },
  {
   "cell_type": "code",
   "execution_count": 26,
   "metadata": {
    "ExecuteTime": {
     "end_time": "2019-10-26T05:39:10.308094Z",
     "start_time": "2019-10-26T05:39:10.289014Z"
    }
   },
   "outputs": [
    {
     "data": {
      "text/plain": [
       "'add_fun'"
      ]
     },
     "execution_count": 26,
     "metadata": {},
     "output_type": "execute_result"
    }
   ],
   "source": [
    "ntpath.basename('./add_fun.py').replace('.py','')"
   ]
  },
  {
   "cell_type": "code",
   "execution_count": 27,
   "metadata": {
    "ExecuteTime": {
     "end_time": "2019-10-26T05:48:33.754584Z",
     "start_time": "2019-10-26T05:48:33.743458Z"
    }
   },
   "outputs": [
    {
     "data": {
      "text/plain": [
       "'add_fun.py'"
      ]
     },
     "execution_count": 27,
     "metadata": {},
     "output_type": "execute_result"
    }
   ],
   "source": [
    "import os\n",
    "os.path.basename('./add_fun.py')"
   ]
  },
  {
   "cell_type": "code",
   "execution_count": 5,
   "metadata": {
    "ExecuteTime": {
     "end_time": "2019-10-26T05:50:58.275364Z",
     "start_time": "2019-10-26T05:50:58.266199Z"
    }
   },
   "outputs": [
    {
     "name": "stdout",
     "output_type": "stream",
     "text": [
      "{<function add at 0x11085eb70>}\n"
     ]
    }
   ],
   "source": [
    "import augmentor\n",
    "fname='add_fun'\n",
    "exec(f\"from augmentor.{fname} import exports ; print(exports)\")"
   ]
  },
  {
   "cell_type": "code",
   "execution_count": null,
   "metadata": {},
   "outputs": [],
   "source": []
  }
 ],
 "metadata": {
  "kernelspec": {
   "display_name": "Python 3",
   "language": "python",
   "name": "python3"
  },
  "language_info": {
   "codemirror_mode": {
    "name": "ipython",
    "version": 3
   },
   "file_extension": ".py",
   "mimetype": "text/x-python",
   "name": "python",
   "nbconvert_exporter": "python",
   "pygments_lexer": "ipython3",
   "version": "3.6.4"
  },
  "varInspector": {
   "cols": {
    "lenName": 16,
    "lenType": 16,
    "lenVar": 40
   },
   "kernels_config": {
    "python": {
     "delete_cmd_postfix": "",
     "delete_cmd_prefix": "del ",
     "library": "var_list.py",
     "varRefreshCmd": "print(var_dic_list())"
    },
    "r": {
     "delete_cmd_postfix": ") ",
     "delete_cmd_prefix": "rm(",
     "library": "var_list.r",
     "varRefreshCmd": "cat(var_dic_list()) "
    }
   },
   "types_to_exclude": [
    "module",
    "function",
    "builtin_function_or_method",
    "instance",
    "_Feature"
   ],
   "window_display": false
  }
 },
 "nbformat": 4,
 "nbformat_minor": 2
}
