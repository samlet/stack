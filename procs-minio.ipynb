{
 "cells": [
  {
   "cell_type": "code",
   "execution_count": 22,
   "metadata": {
    "ExecuteTime": {
     "end_time": "2019-05-07T18:15:21.817050Z",
     "start_time": "2019-05-07T18:15:21.738797Z"
    }
   },
   "outputs": [],
   "source": [
    "from minio import Minio\n",
    "from minio.error import ResponseError\n",
    "\n",
    "client = Minio('localhost:9001',\n",
    "                  access_key='minio',\n",
    "                  secret_key='minio123',\n",
    "                  secure=False)"
   ]
  },
  {
   "cell_type": "code",
   "execution_count": 14,
   "metadata": {
    "ExecuteTime": {
     "end_time": "2019-05-02T13:24:35.753961Z",
     "start_time": "2019-05-02T13:24:35.688839Z"
    }
   },
   "outputs": [],
   "source": [
    "bucket_name=\"mybucket\"\n",
    "try:\n",
    "    if not client.bucket_exists(bucket_name):\n",
    "        client.make_bucket(bucket_name, location=\"us-east-1\")\n",
    "except ResponseError as err:\n",
    "    print(err)"
   ]
  },
  {
   "cell_type": "code",
   "execution_count": 15,
   "metadata": {
    "ExecuteTime": {
     "end_time": "2019-05-02T13:24:38.249753Z",
     "start_time": "2019-05-02T13:24:38.238266Z"
    }
   },
   "outputs": [
    {
     "name": "stdout",
     "output_type": "stream",
     "text": [
      "mybucket 2019-05-02 13:19:45.984000+00:00\n"
     ]
    }
   ],
   "source": [
    "buckets = client.list_buckets()\n",
    "\n",
    "for bucket in buckets:\n",
    "    print(bucket.name, bucket.creation_date)"
   ]
  },
  {
   "cell_type": "code",
   "execution_count": 17,
   "metadata": {
    "ExecuteTime": {
     "end_time": "2019-05-02T13:44:00.072225Z",
     "start_time": "2019-05-02T13:43:59.886790Z"
    }
   },
   "outputs": [],
   "source": [
    "import os\n",
    "\n",
    "try:\n",
    "    with open('data/movies.json', 'rb') as file_data:\n",
    "        file_stat = os.stat('data/movies.json')\n",
    "        client.put_object(bucket_name, 'my-objectname', file_data,\n",
    "                          file_stat.st_size, content_type='application/json')\n",
    "except ResponseError as err:\n",
    "    print(err)"
   ]
  },
  {
   "cell_type": "code",
   "execution_count": 18,
   "metadata": {
    "ExecuteTime": {
     "end_time": "2019-05-02T13:44:14.417536Z",
     "start_time": "2019-05-02T13:44:14.377669Z"
    }
   },
   "outputs": [],
   "source": [
    "# Get a full object\n",
    "try:\n",
    "    data = client.get_object(bucket_name, 'my-objectname')\n",
    "    with open('out/my-testfile', 'wb') as file_data:\n",
    "        for d in data.stream(32*1024):\n",
    "            file_data.write(d)\n",
    "except ResponseError as err:\n",
    "    print(err)"
   ]
  },
  {
   "cell_type": "code",
   "execution_count": 19,
   "metadata": {
    "ExecuteTime": {
     "end_time": "2019-05-02T13:45:36.391766Z",
     "start_time": "2019-05-02T13:45:36.385948Z"
    },
    "scrolled": true
   },
   "outputs": [
    {
     "name": "stdout",
     "output_type": "stream",
     "text": [
      "os.stat_result(st_mode=33188, st_ino=8652106649, st_dev=16777220, st_nlink=1, st_uid=501, st_gid=20, st_size=12695, st_atime=1556804736, st_mtime=1556804654, st_ctime=1556804654)\n"
     ]
    }
   ],
   "source": [
    "file_stat = os.stat('out/my-testfile')\n",
    "print(file_stat)"
   ]
  },
  {
   "cell_type": "code",
   "execution_count": 20,
   "metadata": {
    "ExecuteTime": {
     "end_time": "2019-05-02T13:46:23.139540Z",
     "start_time": "2019-05-02T13:46:23.129838Z"
    }
   },
   "outputs": [
    {
     "name": "stdout",
     "output_type": "stream",
     "text": [
      "os.stat_result(st_mode=33188, st_ino=8627515855, st_dev=16777220, st_nlink=1, st_uid=501, st_gid=20, st_size=12695, st_atime=1556804783, st_mtime=1548255236, st_ctime=1548255236)\n"
     ]
    }
   ],
   "source": [
    "file_stat = os.stat('data/movies.json')\n",
    "print(file_stat)"
   ]
  }
 ],
 "metadata": {
  "kernelspec": {
   "display_name": "Python 3",
   "language": "python",
   "name": "python3"
  },
  "language_info": {
   "codemirror_mode": {
    "name": "ipython",
    "version": 3
   },
   "file_extension": ".py",
   "mimetype": "text/x-python",
   "name": "python",
   "nbconvert_exporter": "python",
   "pygments_lexer": "ipython3",
   "version": "3.6.4"
  },
  "varInspector": {
   "cols": {
    "lenName": 16,
    "lenType": 16,
    "lenVar": 40
   },
   "kernels_config": {
    "python": {
     "delete_cmd_postfix": "",
     "delete_cmd_prefix": "del ",
     "library": "var_list.py",
     "varRefreshCmd": "print(var_dic_list())"
    },
    "r": {
     "delete_cmd_postfix": ") ",
     "delete_cmd_prefix": "rm(",
     "library": "var_list.r",
     "varRefreshCmd": "cat(var_dic_list()) "
    }
   },
   "types_to_exclude": [
    "module",
    "function",
    "builtin_function_or_method",
    "instance",
    "_Feature"
   ],
   "window_display": false
  }
 },
 "nbformat": 4,
 "nbformat_minor": 2
}
