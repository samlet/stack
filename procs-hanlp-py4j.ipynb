{
 "cells": [
  {
   "cell_type": "code",
   "execution_count": 2,
   "metadata": {
    "ExecuteTime": {
     "end_time": "2019-04-17T08:13:43.837261Z",
     "start_time": "2019-04-17T08:13:43.726357Z"
    }
   },
   "outputs": [
    {
     "name": "stdout",
     "output_type": "stream",
     "text": [
      "6 3\n",
      "ni3\n",
      "hao3\n"
     ]
    }
   ],
   "source": [
    "from py4j.java_gateway import JavaGateway, JavaObject, GatewayParameters\n",
    "from py4j.java_gateway import java_import, get_field\n",
    "\n",
    "host=\"localhost\"\n",
    "port=2333\n",
    "callback_port=2334\n",
    "gateway = JavaGateway(python_proxy_port=callback_port,\n",
    "                      gateway_parameters=GatewayParameters(address=host, port=port, auto_field=True))\n",
    "random = gateway.jvm.java.util.Random()   # create a java.util.Random instance\n",
    "number1 = random.nextInt(10)              # call the Random.nextInt method\n",
    "number2 = random.nextInt(10)\n",
    "print(number1, number2)\n",
    "\n",
    "j = gateway.new_jvm_view()\n",
    "java_import(j, 'com.hankcs.hanlp.*')\n",
    "java_import(j, 'java.util.*')\n",
    "java_import(j, 'com.hankcs.hanlp.util.*')\n",
    "java_import(j, 'com.hankcs.hanlp.utility.*')\n",
    "java_import(j, 'com.hankcs.hanlp.corpus.tag.Nature')\n",
    "# stack=j.Stack()\n",
    "# m = j.HashMap()\n",
    "\n",
    "text=\"你好\"\n",
    "result=j.HanLP.convertToPinyinList(text)\n",
    "for pinyin in result:\n",
    "    print(pinyin)"
   ]
  },
  {
   "cell_type": "code",
   "execution_count": 3,
   "metadata": {
    "ExecuteTime": {
     "end_time": "2019-04-17T08:13:47.989100Z",
     "start_time": "2019-04-17T08:13:47.401781Z"
    },
    "scrolled": true
   },
   "outputs": [
    {
     "name": "stdout",
     "output_type": "stream",
     "text": [
      "苹果电脑/tech\n",
      "可以/v\n",
      "运行/vn\n",
      "开源/vn\n",
      "阿尔法狗/tech\n",
      "代码/n\n",
      "吗/y\n"
     ]
    }
   ],
   "source": [
    "pcNature = j.Nature.create(\"tech\")\n",
    "nature_c=j.Nature\n",
    "natures=gateway.new_array(nature_c,1)\n",
    "natures[0]=pcNature\n",
    "j.LexiconUtility.setAttribute(\"苹果电脑\", natures)\n",
    "j.LexiconUtility.setAttribute(\"阿尔法狗\", natures)\n",
    "termList = j.HanLP.segment(\"苹果电脑可以运行开源阿尔法狗代码吗\")\n",
    "for term in termList:\n",
    "    print(term, )"
   ]
  },
  {
   "cell_type": "code",
   "execution_count": 4,
   "metadata": {
    "ExecuteTime": {
     "end_time": "2019-04-17T08:13:51.678816Z",
     "start_time": "2019-04-17T08:13:51.271309Z"
    }
   },
   "outputs": [
    {
     "name": "stdout",
     "output_type": "stream",
     "text": [
      "苹果电脑 --(主谓关系)--> 运行\n",
      "可以 --(状中结构)--> 运行\n",
      "运行 --(核心关系)--> ##核心##\n",
      "开源阿尔法狗 --(定中关系)--> 代码\n",
      "代码 --(动宾关系)--> 运行\n",
      "吗 --(右附加关系)--> 运行\n"
     ]
    }
   ],
   "source": [
    "raw=\"苹果电脑可以运行开源阿尔法狗代码吗\"\n",
    "sentence = j.HanLP.parseDependency(raw)\n",
    "for word in sentence.getWordArray():\n",
    "# for word in sentence.getWordArrayWithRoot():\n",
    "    print(\"%s --(%s)--> %s\"%(word.LEMMA, word.DEPREL, word.HEAD.LEMMA))"
   ]
  },
  {
   "cell_type": "code",
   "execution_count": 5,
   "metadata": {
    "ExecuteTime": {
     "end_time": "2019-04-17T08:14:01.311279Z",
     "start_time": "2019-04-17T08:14:01.137605Z"
    }
   },
   "outputs": [
    {
     "name": "stdout",
     "output_type": "stream",
     "text": [
      "core: v - 运行\n",
      "\tactor: 苹果电脑\n",
      "\trel.v(状中结构): 可以\n",
      "\tobject: 代码\n",
      "\trel.y(右附加关系): 吗\n",
      "⊕ 苹果电脑/tech 可以/v 运行/v 开源阿尔法狗/v 代码/n 吗/y\n",
      "⊙ 苹果电脑/tech 可以/动词 运行/动词 开源阿尔法狗/动词 代码/名词 吗/语气词\n",
      "ﺴ píng guǒ diàn nǎo kě yǐ yùn xíng kāi yuán ā ěr fǎ gǒu dài mǎ ma\n",
      "☫ 蘋果電腦可以運行開源阿爾法狗代碼嗎\n",
      "% 苹果电脑可以运行开源阿尔法狗代码吗\n"
     ]
    }
   ],
   "source": [
    "def describe_rel(word, result):\n",
    "    if word.DEPREL==\"主谓关系\":\n",
    "        result.append(\"\\tactor: {}\".format(word.LEMMA))\n",
    "    elif word.DEPREL==\"动宾关系\":\n",
    "        result.append(\"\\tobject: {}\".format(word.LEMMA))\n",
    "    elif word.DEPREL==\"标点符号\":\n",
    "        pass\n",
    "    else:    \n",
    "        result.append(\"\\trel.{}({}): {}\".format(word.POSTAG, word.DEPREL, word.LEMMA))\n",
    "\n",
    "def get_pinyin(sentence):\n",
    "    pinyin_list = j.HanLP.convertToPinyinList(sentence)\n",
    "    l=[]\n",
    "    for pinyin in pinyin_list:\n",
    "        l.append(\"%s\" % pinyin.getPinyinWithToneMark())\n",
    "    return (\" \".join(l))\n",
    "\n",
    "java_import(j, 'com.hankcs.hanlp.corpus.dependency.CoNll.CoNLLWord')\n",
    "java_import(j, \"com.hankcs.hanlp.tokenizer.NLPTokenizer\")\n",
    "def parse_tree(sentence):    \n",
    "    conll = j.HanLP.parseDependency(sentence)\n",
    "    coreindex=0\n",
    "    result=[]\n",
    "    for word in conll.iterator():\n",
    "        if word.HEAD==j.CoNLLWord.ROOT:\n",
    "            coreindex=word.ID\n",
    "            result.append(\"core: {} - {}\".format(word.POSTAG, word.LEMMA))\n",
    "    for word in conll.iterator():\n",
    "        if word.HEAD.ID==coreindex:\n",
    "            describe_rel(word, result)\n",
    "\n",
    "    result.append(\"⊕ \"+str(j.NLPTokenizer.analyze(sentence)))\n",
    "    result.append(\"⊙ \"+str(j.NLPTokenizer.analyze(sentence).translateLabels()))\n",
    "    result.append(\"ﺴ \"+get_pinyin(sentence))\n",
    "    result.append(\"☫ \"+j.HanLP.convertToTraditionalChinese(sentence))\n",
    "    result.append(\"% \"+sentence)\n",
    "    return '\\n'.join(result)\n",
    "\n",
    "raw=\"苹果电脑可以运行开源阿尔法狗代码吗\"\n",
    "result=parse_tree(raw)\n",
    "print(result)"
   ]
  },
  {
   "cell_type": "code",
   "execution_count": 17,
   "metadata": {
    "ExecuteTime": {
     "end_time": "2019-04-13T07:48:59.400884Z",
     "start_time": "2019-04-13T07:48:59.309284Z"
    }
   },
   "outputs": [
    {
     "name": "stdout",
     "output_type": "stream",
     "text": [
      "core: v - 运行\n",
      "\tactor: 苹果电脑\n",
      "\trel.v(状中结构): 可以\n",
      "\tobject: 代码\n",
      "\trel.y(右附加关系): 吗\n",
      "⊕ 苹果电脑/tech 可以/v 运行/v 开源阿尔法狗/v 代码/n 吗/y\n",
      "ﺴ píng guǒ diàn nǎo kě yǐ yùn xíng kāi yuán ā ěr fǎ gǒu dài mǎ ma\n",
      "☫ 蘋果電腦可以運行開源阿爾法狗代碼嗎\n",
      "% 苹果电脑可以运行开源阿尔法狗代码吗\n"
     ]
    }
   ],
   "source": [
    "raw=\"苹果电脑可以运行开源阿尔法狗代码吗\"\n",
    "result=parse_tree(raw)\n",
    "print(result)"
   ]
  },
  {
   "cell_type": "code",
   "execution_count": 21,
   "metadata": {
    "ExecuteTime": {
     "end_time": "2019-04-13T07:57:18.238780Z",
     "start_time": "2019-04-13T07:57:18.170164Z"
    }
   },
   "outputs": [
    {
     "name": "stdout",
     "output_type": "stream",
     "text": [
      "开源阿尔法狗 --(定中关系)--> \n",
      "代码 --(动宾关系)--> \n",
      "运行 --(核心关系)--> \n",
      "##核心##\n"
     ]
    }
   ],
   "source": [
    "# 可以直接遍历子树，从某棵子树的某个节点一路遍历到虚根\n",
    "sentence = j.HanLP.parseDependency(raw)\n",
    "wordArray = sentence.getWordArray()\n",
    "head = wordArray[3]\n",
    "while head is not None:\n",
    "    if head == j.CoNLLWord.ROOT:\n",
    "        print(head.LEMMA)\n",
    "    else:\n",
    "        print(\"%s --(%s)--> \"%(head.LEMMA, head.DEPREL))\n",
    "    head = head.HEAD"
   ]
  },
  {
   "cell_type": "code",
   "execution_count": 7,
   "metadata": {
    "ExecuteTime": {
     "end_time": "2019-04-17T08:19:29.294779Z",
     "start_time": "2019-04-17T08:19:29.223117Z"
    }
   },
   "outputs": [
    {
     "name": "stdout",
     "output_type": "stream",
     "text": [
      "+--------------+------------+----------+\n",
      "| a            | rel        | b        |\n",
      "|--------------+------------+----------|\n",
      "| 苹果电脑     | 主谓关系   | 运行     |\n",
      "| 可以         | 状中结构   | 运行     |\n",
      "| 运行         | 核心关系   | ##核心## |\n",
      "| 开源阿尔法狗 | 定中关系   | 代码     |\n",
      "| 代码         | 动宾关系   | 运行     |\n",
      "| 吗           | 右附加关系 | 运行     |\n",
      "+--------------+------------+----------+\n"
     ]
    }
   ],
   "source": [
    "from tabulate import tabulate\n",
    "table_header = ['a','rel','b']\n",
    "table_data = []\n",
    "\n",
    "# 顺序遍历\n",
    "sentence = j.HanLP.parseDependency(raw)\n",
    "wordArray = sentence.getWordArray()\n",
    "for word in wordArray:\n",
    "    # print(\"%s --(%s)--> %s\"%(word.LEMMA, word.DEPREL, word.HEAD.LEMMA))\n",
    "    table_data.append((word.LEMMA, word.DEPREL, word.HEAD.LEMMA))\n",
    "print(tabulate(table_data, headers=table_header, tablefmt='psql'))    "
   ]
  },
  {
   "cell_type": "code",
   "execution_count": 1,
   "metadata": {
    "ExecuteTime": {
     "end_time": "2019-04-14T13:36:19.719038Z",
     "start_time": "2019-04-14T13:36:18.926431Z"
    }
   },
   "outputs": [
    {
     "name": "stdout",
     "output_type": "stream",
     "text": [
      "get form component://party/widget/partymgr/LookupForms.xml;LookupPartyName;zh\n"
     ]
    }
   ],
   "source": [
    "from sagas.ofbiz.resource_mappings import ResourceMappings\n",
    "from protobuf_utils import write_proto_to, read_proto\n",
    "data_file='./data/resources/form_res_sample.data'\n",
    "forms=['component://party/widget/partymgr/LookupForms.xml;LookupPartyName;zh']\n",
    "rm=ResourceMappings()\n",
    "meta_package=rm.build_package(forms)\n",
    "write_proto_to(meta_package, data_file)"
   ]
  },
  {
   "cell_type": "code",
   "execution_count": 1,
   "metadata": {
    "ExecuteTime": {
     "end_time": "2019-04-14T14:19:18.231844Z",
     "start_time": "2019-04-14T14:19:14.625699Z"
    }
   },
   "outputs": [],
   "source": [
    "from sagas.ofbiz.entities import OfEntity as e, oc, finder\n",
    "form_loc='component://webtools/widget/ServiceForms.xml;@JobManagerLockEnable;zh_CN'\n",
    "# form_loc='component://webtools/widget/ServiceForms.xml;JobManagerLockEnable;en_US'\n",
    "# form_loc='component://webtools/widget/ServiceForms.xml;AddJobManagerLock;zh_CN'\n",
    "forms=oc.component('form_mgr')\n",
    "form=forms.getMetaForm(form_loc)"
   ]
  },
  {
   "cell_type": "code",
   "execution_count": 2,
   "metadata": {
    "ExecuteTime": {
     "end_time": "2019-04-14T14:19:20.192357Z",
     "start_time": "2019-04-14T14:19:20.153573Z"
    }
   },
   "outputs": [],
   "source": [
    "form_loc='component://content/widget/layout/LayoutForms.xml;LayoutSubContentMaster;zh_CN'\n",
    "# form_loc='component://content/widget/layout/LayoutForms.xml;EditLayout;zh_CN'\n",
    "form=forms.getMetaForm(form_loc)"
   ]
  },
  {
   "cell_type": "code",
   "execution_count": 4,
   "metadata": {
    "ExecuteTime": {
     "end_time": "2019-04-14T13:36:49.580622Z",
     "start_time": "2019-04-14T13:36:49.572099Z"
    }
   },
   "outputs": [
    {
     "name": "stdout",
     "output_type": "stream",
     "text": [
      "lastName 姓氏\n"
     ]
    }
   ],
   "source": [
    "from forms_pb2 import MetaForm, MetaMappingPackage, MetaFieldMapping, MetaFieldMappings, SUBMIT, RESET\n",
    "\n",
    "meta_package=MetaMappingPackage()\n",
    "read_proto(meta_package, data_file)\n",
    "mapflds=meta_package.mappings['PartyLastName']\n",
    "for mapfld in mapflds.fields:\n",
    "    print(mapfld.fieldName, mapfld.fieldTitle)"
   ]
  },
  {
   "cell_type": "code",
   "execution_count": 5,
   "metadata": {
    "ExecuteTime": {
     "end_time": "2019-04-14T13:37:06.453815Z",
     "start_time": "2019-04-14T13:37:06.104440Z"
    }
   },
   "outputs": [],
   "source": [
    "from sagas.ofbiz.forms import get_form_list, collect_forms\n",
    "form_list = get_form_list()\n",
    "form_index = collect_forms(form_list)"
   ]
  },
  {
   "cell_type": "code",
   "execution_count": 6,
   "metadata": {
    "ExecuteTime": {
     "end_time": "2019-04-14T13:37:10.820156Z",
     "start_time": "2019-04-14T13:37:09.857059Z"
    }
   },
   "outputs": [
    {
     "name": "stdout",
     "output_type": "stream",
     "text": [
      "1802\n",
      "get form component://common/widget/PortalPageForms.xml;ListPortalPages;zh_CN\n",
      "get form component://common/widget/LookupForms.xml;ListPortalPages;zh_CN\n",
      "get form component://common/widget/PortalPageForms.xml;NewPortalPage;zh_CN\n",
      "get form component://common/widget/PortalPageForms.xml;PortletCategoryAndPortlet;zh_CN\n",
      "get form component://common/widget/PortalPageForms.xml;PortletList;zh_CN\n",
      "get form component://common/widget/PortalPageForms.xml;FindGenericEntity;zh_CN\n",
      "get form component://common/widget/PortalPageForms.xml;EditPortalPageColumnWidth;zh_CN\n",
      "get form component://common/widget/PortletEditForms.xml;CommonPortletEdit;zh_CN\n",
      "get form component://common/widget/PortletEditForms.xml;GenericPortalPageParam;zh_CN\n",
      "get form component://common/widget/PortletEditForms.xml;FindGenericEntityParam;zh_CN\n",
      "get form component://common/widget/PortletEditForms.xml;GenericScreenletParam;zh_CN\n",
      "get form component://common/widget/PortletEditForms.xml;GenericScreenletAjaxParam;zh_CN\n",
      "get form component://common/widget/PortletEditForms.xml;GenericScreenletAjaxWithMenuParam;zh_CN\n",
      "get form component://common/widget/LookupForms.xml;LookupGeo;zh_CN\n",
      "get form component://common/widget/LookupForms.xml;ListLookupGeo;zh_CN\n",
      "get form component://webtools/widget/GeoManagementForms.xml;ListLookupGeo;zh_CN\n",
      "get form component://common/widget/LookupForms.xml;LookupGeoName;zh_CN\n",
      "get form component://common/widget/LookupForms.xml;ListLookupGeoName;zh_CN\n",
      "get form component://common/widget/LookupForms.xml;LookupUserLogin;zh_CN\n",
      "get form component://common/widget/SecurityForms.xml;LookupUserLogin;zh_CN\n",
      "get form component://common/widget/LookupForms.xml;ListLookedUpUserLogins;zh_CN\n",
      "get form component://common/widget/SecurityForms.xml;ListLookedUpUserLogins;zh_CN\n",
      "get form component://common/widget/LookupForms.xml;LookupPortalPage;zh_CN\n",
      "get form component://common/widget/LookupForms.xml;LookupLocale;zh_CN\n",
      "get form component://common/widget/LookupForms.xml;ListLocales;zh_CN\n",
      "get form component://common/widget/SecurityForms.xml;AddSecurityGroupPermission;zh_CN\n",
      "get form component://common/widget/SecurityForms.xml;AddSecurityGroupPermissionManual;zh_CN\n",
      "get form component://common/widget/SecurityForms.xml;AddSecurityGroupProtectedView;zh_CN\n",
      "get form component://common/widget/SecurityForms.xml;AddSecurityGroupUserLogin;zh_CN\n",
      "get form component://common/widget/SecurityForms.xml;AddUserLogin;zh_CN\n",
      "get form component://party/widget/partymgr/PartyForms.xml;AddUserLogin;zh_CN\n",
      "get form component://common/widget/SecurityForms.xml;AddUserLoginSecurityGroup;zh_CN\n",
      "get form component://common/widget/SecurityForms.xml;CertIssuerList;zh_CN\n",
      "get form component://common/widget/SecurityForms.xml;CreateSecurityGroup;zh_CN\n",
      "get form component://common/widget/SecurityForms.xml;EditSecurityGroup;zh_CN\n",
      "get form component://common/widget/SecurityForms.xml;ListSecurityGroupPermissions;zh_CN\n",
      "get form component://common/widget/SecurityForms.xml;ListSecurityGroupProtectedViews;zh_CN\n",
      "get form component://common/widget/SecurityForms.xml;ListSecurityGroups;zh_CN\n",
      "get form component://common/widget/SecurityForms.xml;ListSecurityGroupUserLogins;zh_CN\n",
      "get form component://common/widget/SecurityForms.xml;ListUserLogins;zh_CN\n",
      "get form component://common/widget/SecurityForms.xml;ListUserLoginSecurityGroups;zh_CN\n",
      "get form component://common/widget/SecurityForms.xml;UpdatePassword;zh_CN\n",
      "get form component://party/widget/partymgr/PartyForms.xml;UpdatePassword;zh_CN\n",
      "get form component://common/widget/SecurityForms.xml;UpdateUserLoginSecurity;zh_CN\n",
      "get form component://party/widget/partymgr/PartyForms.xml;UpdateUserLoginSecurity;zh_CN\n",
      "get form component://common/widget/SecurityForms.xml;EditCertificate;zh_CN\n",
      "get form component://common/widget/SecurityForms.xml;ViewCertificate;zh_CN\n",
      "get form component://common/widget/SecurityForms.xml;CertToKeystore;zh_CN\n",
      "get form component://webtools/widget/tempExprForms.xml;FindTemporalExpression;zh_CN\n",
      "get form component://webtools/widget/tempExprForms.xml;BasicExpressionList;zh_CN\n",
      "get form component://webtools/widget/tempExprForms.xml;ListTemporalExpressions;zh_CN\n",
      "get form component://webtools/widget/tempExprForms.xml;ListChildExpressions;zh_CN\n",
      "get form component://webtools/widget/ServiceForms.xml;ScheduleJob;zh_CN\n",
      "get form component://webtools/widget/ServiceForms.xml;RunService;zh_CN\n",
      "get form component://webtools/widget/ServiceForms.xml;FindJobs;zh_CN\n",
      "get form component://webtools/widget/ServiceForms.xml;ListJobs;zh_CN\n",
      "get form component://webtools/widget/ServiceForms.xml;JobDetails;zh_CN\n",
      "get form component://webtools/widget/ServiceForms.xml;JobRuntimeDataInfo;zh_CN\n",
      "get form component://webtools/widget/ServiceForms.xml;PoolState;zh_CN\n",
      "get form component://webtools/widget/ServiceForms.xml;ListJavaThread;zh_CN\n",
      "get form component://webtools/widget/ServiceForms.xml;ListServices;zh_CN\n",
      "get form component://webtools/widget/ServiceForms.xml;FindJobManagerLock;zh_CN\n",
      "get form component://webtools/widget/ServiceForms.xml;ListJobManagerLock;zh_CN\n",
      "get form component://webtools/widget/ServiceForms.xml;AddJobManagerLock;zh_CN\n",
      "get form component://webtools/widget/ServiceForms.xml;JobManagerLockEnable;zh_CN\n"
     ]
    },
    {
     "ename": "Py4JJavaError",
     "evalue": "An error occurred while calling o180.getMetaForm.\n: java.lang.NullPointerException\n\tat org.apache.ofbiz.widget.model.FormFactory.createModelForm(FormFactory.java:134)\n\tat org.apache.ofbiz.widget.model.FormFactory.createModelForm(FormFactory.java:130)\n\tat org.apache.ofbiz.widget.model.FormFactory.getFormFromLocation(FormFactory.java:71)\n\tat com.sagas.meta.FormManager.getModelForm(FormManager.java:79)\n\tat com.sagas.meta.FormManager.getMetaForm(FormManager.java:202)\n\tat com.sagas.meta.FormManager.getMetaForm(FormManager.java:177)\n\tat sun.reflect.GeneratedMethodAccessor48.invoke(Unknown Source)\n\tat sun.reflect.DelegatingMethodAccessorImpl.invoke(DelegatingMethodAccessorImpl.java:43)\n\tat java.lang.reflect.Method.invoke(Method.java:498)\n\tat py4j.reflection.MethodInvoker.invoke(MethodInvoker.java:244)\n\tat py4j.reflection.ReflectionEngine.invoke(ReflectionEngine.java:357)\n\tat py4j.Gateway.invoke(Gateway.java:282)\n\tat py4j.commands.AbstractCommand.invokeMethod(AbstractCommand.java:132)\n\tat py4j.commands.CallCommand.execute(CallCommand.java:79)\n\tat py4j.GatewayConnection.run(GatewayConnection.java:238)\n\tat java.lang.Thread.run(Thread.java:745)\n",
     "output_type": "error",
     "traceback": [
      "\u001b[0;31m---------------------------------------------------------------------------\u001b[0m",
      "\u001b[0;31mPy4JJavaError\u001b[0m                             Traceback (most recent call last)",
      "\u001b[0;32m<ipython-input-6-53f075ef1923>\u001b[0m in \u001b[0;36m<module>\u001b[0;34m()\u001b[0m\n\u001b[1;32m     14\u001b[0m \u001b[0mdata_file\u001b[0m\u001b[0;34m=\u001b[0m\u001b[0;34m'./data/resources/form_res.data'\u001b[0m\u001b[0;34m\u001b[0m\u001b[0m\n\u001b[1;32m     15\u001b[0m \u001b[0mrm\u001b[0m\u001b[0;34m=\u001b[0m\u001b[0mResourceMappings\u001b[0m\u001b[0;34m(\u001b[0m\u001b[0;34m)\u001b[0m\u001b[0;34m\u001b[0m\u001b[0m\n\u001b[0;32m---> 16\u001b[0;31m \u001b[0mmeta_package\u001b[0m\u001b[0;34m=\u001b[0m\u001b[0mrm\u001b[0m\u001b[0;34m.\u001b[0m\u001b[0mbuild_package\u001b[0m\u001b[0;34m(\u001b[0m\u001b[0mforms\u001b[0m\u001b[0;34m)\u001b[0m\u001b[0;34m\u001b[0m\u001b[0m\n\u001b[0m\u001b[1;32m     17\u001b[0m \u001b[0mwrite_proto_to\u001b[0m\u001b[0;34m(\u001b[0m\u001b[0mmeta_package\u001b[0m\u001b[0;34m,\u001b[0m \u001b[0mdata_file\u001b[0m\u001b[0;34m)\u001b[0m\u001b[0;34m\u001b[0m\u001b[0m\n\u001b[1;32m     18\u001b[0m \u001b[0mprint\u001b[0m\u001b[0;34m(\u001b[0m\u001b[0;34m'done.'\u001b[0m\u001b[0;34m)\u001b[0m\u001b[0;34m\u001b[0m\u001b[0m\n",
      "\u001b[0;32m~/jcloud/assets/langs/workspace/rasa/stack/sagas/ofbiz/resource_mappings.py\u001b[0m in \u001b[0;36mbuild_package\u001b[0;34m(self, form_locs)\u001b[0m\n\u001b[1;32m     22\u001b[0m         \u001b[0;32mfor\u001b[0m \u001b[0mform_loc\u001b[0m \u001b[0;32min\u001b[0m \u001b[0mform_locs\u001b[0m\u001b[0;34m:\u001b[0m\u001b[0;34m\u001b[0m\u001b[0m\n\u001b[1;32m     23\u001b[0m             \u001b[0mprint\u001b[0m\u001b[0;34m(\u001b[0m\u001b[0;34m'get form'\u001b[0m\u001b[0;34m,\u001b[0m \u001b[0mform_loc\u001b[0m\u001b[0;34m)\u001b[0m\u001b[0;34m\u001b[0m\u001b[0m\n\u001b[0;32m---> 24\u001b[0;31m             \u001b[0mform\u001b[0m\u001b[0;34m=\u001b[0m\u001b[0mself\u001b[0m\u001b[0;34m.\u001b[0m\u001b[0mget_form\u001b[0m\u001b[0;34m(\u001b[0m\u001b[0mform_loc\u001b[0m\u001b[0;34m)\u001b[0m\u001b[0;34m\u001b[0m\u001b[0m\n\u001b[0m\u001b[1;32m     25\u001b[0m             \u001b[0mpy_form\u001b[0m \u001b[0;34m=\u001b[0m \u001b[0mMetaForm\u001b[0m\u001b[0;34m(\u001b[0m\u001b[0;34m)\u001b[0m\u001b[0;34m\u001b[0m\u001b[0m\n\u001b[1;32m     26\u001b[0m             \u001b[0mform_data\u001b[0m \u001b[0;34m=\u001b[0m \u001b[0mform\u001b[0m\u001b[0;34m.\u001b[0m\u001b[0mtoByteString\u001b[0m\u001b[0;34m(\u001b[0m\u001b[0;34m)\u001b[0m\u001b[0;34m.\u001b[0m\u001b[0mtoByteArray\u001b[0m\u001b[0;34m(\u001b[0m\u001b[0;34m)\u001b[0m\u001b[0;34m\u001b[0m\u001b[0m\n",
      "\u001b[0;32m~/jcloud/assets/langs/workspace/rasa/stack/sagas/ofbiz/resource_mappings.py\u001b[0m in \u001b[0;36mget_form\u001b[0;34m(self, form_loc)\u001b[0m\n\u001b[1;32m     13\u001b[0m         \u001b[0;31m# form_loc='component://party/widget/partymgr/LookupForms.xml;LookupPartyName;en_US'\u001b[0m\u001b[0;34m\u001b[0m\u001b[0;34m\u001b[0m\u001b[0m\n\u001b[1;32m     14\u001b[0m         \u001b[0;31m# form_loc='component://party/widget/partymgr/LookupForms.xml;LookupPartyName;zh'\u001b[0m\u001b[0;34m\u001b[0m\u001b[0;34m\u001b[0m\u001b[0m\n\u001b[0;32m---> 15\u001b[0;31m         \u001b[0mform\u001b[0m\u001b[0;34m=\u001b[0m\u001b[0mforms\u001b[0m\u001b[0;34m.\u001b[0m\u001b[0mgetMetaForm\u001b[0m\u001b[0;34m(\u001b[0m\u001b[0mform_loc\u001b[0m\u001b[0;34m)\u001b[0m\u001b[0;34m\u001b[0m\u001b[0m\n\u001b[0m\u001b[1;32m     16\u001b[0m         \u001b[0;31m# print(form)\u001b[0m\u001b[0;34m\u001b[0m\u001b[0;34m\u001b[0m\u001b[0m\n\u001b[1;32m     17\u001b[0m         \u001b[0;32mreturn\u001b[0m \u001b[0mform\u001b[0m\u001b[0;34m\u001b[0m\u001b[0m\n",
      "\u001b[0;32m~/miniconda3/envs/bigdata/lib/python3.6/site-packages/py4j/java_gateway.py\u001b[0m in \u001b[0;36m__call__\u001b[0;34m(self, *args)\u001b[0m\n\u001b[1;32m   1284\u001b[0m         \u001b[0manswer\u001b[0m \u001b[0;34m=\u001b[0m \u001b[0mself\u001b[0m\u001b[0;34m.\u001b[0m\u001b[0mgateway_client\u001b[0m\u001b[0;34m.\u001b[0m\u001b[0msend_command\u001b[0m\u001b[0;34m(\u001b[0m\u001b[0mcommand\u001b[0m\u001b[0;34m)\u001b[0m\u001b[0;34m\u001b[0m\u001b[0m\n\u001b[1;32m   1285\u001b[0m         return_value = get_return_value(\n\u001b[0;32m-> 1286\u001b[0;31m             answer, self.gateway_client, self.target_id, self.name)\n\u001b[0m\u001b[1;32m   1287\u001b[0m \u001b[0;34m\u001b[0m\u001b[0m\n\u001b[1;32m   1288\u001b[0m         \u001b[0;32mfor\u001b[0m \u001b[0mtemp_arg\u001b[0m \u001b[0;32min\u001b[0m \u001b[0mtemp_args\u001b[0m\u001b[0;34m:\u001b[0m\u001b[0;34m\u001b[0m\u001b[0m\n",
      "\u001b[0;32m~/miniconda3/envs/bigdata/lib/python3.6/site-packages/py4j/protocol.py\u001b[0m in \u001b[0;36mget_return_value\u001b[0;34m(answer, gateway_client, target_id, name)\u001b[0m\n\u001b[1;32m    326\u001b[0m                 raise Py4JJavaError(\n\u001b[1;32m    327\u001b[0m                     \u001b[0;34m\"An error occurred while calling {0}{1}{2}.\\n\"\u001b[0m\u001b[0;34m.\u001b[0m\u001b[0;34m\u001b[0m\u001b[0m\n\u001b[0;32m--> 328\u001b[0;31m                     format(target_id, \".\", name), value)\n\u001b[0m\u001b[1;32m    329\u001b[0m             \u001b[0;32melse\u001b[0m\u001b[0;34m:\u001b[0m\u001b[0;34m\u001b[0m\u001b[0m\n\u001b[1;32m    330\u001b[0m                 raise Py4JError(\n",
      "\u001b[0;31mPy4JJavaError\u001b[0m: An error occurred while calling o180.getMetaForm.\n: java.lang.NullPointerException\n\tat org.apache.ofbiz.widget.model.FormFactory.createModelForm(FormFactory.java:134)\n\tat org.apache.ofbiz.widget.model.FormFactory.createModelForm(FormFactory.java:130)\n\tat org.apache.ofbiz.widget.model.FormFactory.getFormFromLocation(FormFactory.java:71)\n\tat com.sagas.meta.FormManager.getModelForm(FormManager.java:79)\n\tat com.sagas.meta.FormManager.getMetaForm(FormManager.java:202)\n\tat com.sagas.meta.FormManager.getMetaForm(FormManager.java:177)\n\tat sun.reflect.GeneratedMethodAccessor48.invoke(Unknown Source)\n\tat sun.reflect.DelegatingMethodAccessorImpl.invoke(DelegatingMethodAccessorImpl.java:43)\n\tat java.lang.reflect.Method.invoke(Method.java:498)\n\tat py4j.reflection.MethodInvoker.invoke(MethodInvoker.java:244)\n\tat py4j.reflection.ReflectionEngine.invoke(ReflectionEngine.java:357)\n\tat py4j.Gateway.invoke(Gateway.java:282)\n\tat py4j.commands.AbstractCommand.invokeMethod(AbstractCommand.java:132)\n\tat py4j.commands.CallCommand.execute(CallCommand.java:79)\n\tat py4j.GatewayConnection.run(GatewayConnection.java:238)\n\tat java.lang.Thread.run(Thread.java:745)\n"
     ]
    }
   ],
   "source": [
    "from sagas.ofbiz.resource_mappings import ResourceMappings\n",
    "from protobuf_utils import write_proto_to, read_proto\n",
    "from forms_pb2 import MetaForm, MetaMappingPackage, MetaFieldMapping, MetaFieldMappings, SUBMIT, RESET\n",
    "\n",
    "print(len(form_index.items()))\n",
    "\n",
    "forms=[]\n",
    "for k,locs in form_index.items():\n",
    "    for loc in locs:\n",
    "        # loc.name, loc.location, loc.uri\n",
    "        form_loc=loc.uri+';'+k+';zh_CN'\n",
    "        forms.append(form_loc)\n",
    "\n",
    "data_file='./data/resources/form_res.data'\n",
    "rm=ResourceMappings()\n",
    "meta_package=rm.build_package(forms)\n",
    "write_proto_to(meta_package, data_file)\n",
    "print('done.')"
   ]
  },
  {
   "cell_type": "code",
   "execution_count": null,
   "metadata": {},
   "outputs": [],
   "source": []
  }
 ],
 "metadata": {
  "kernelspec": {
   "display_name": "Python 3",
   "language": "python",
   "name": "python3"
  },
  "language_info": {
   "codemirror_mode": {
    "name": "ipython",
    "version": 3
   },
   "file_extension": ".py",
   "mimetype": "text/x-python",
   "name": "python",
   "nbconvert_exporter": "python",
   "pygments_lexer": "ipython3",
   "version": "3.6.9"
  },
  "varInspector": {
   "cols": {
    "lenName": 16,
    "lenType": 16,
    "lenVar": 40
   },
   "kernels_config": {
    "python": {
     "delete_cmd_postfix": "",
     "delete_cmd_prefix": "del ",
     "library": "var_list.py",
     "varRefreshCmd": "print(var_dic_list())"
    },
    "r": {
     "delete_cmd_postfix": ") ",
     "delete_cmd_prefix": "rm(",
     "library": "var_list.r",
     "varRefreshCmd": "cat(var_dic_list()) "
    }
   },
   "types_to_exclude": [
    "module",
    "function",
    "builtin_function_or_method",
    "instance",
    "_Feature"
   ],
   "window_display": false
  }
 },
 "nbformat": 4,
 "nbformat_minor": 2
}
