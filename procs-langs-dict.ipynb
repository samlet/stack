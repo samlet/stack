{
 "cells": [
  {
   "cell_type": "code",
   "execution_count": 5,
   "metadata": {
    "ExecuteTime": {
     "end_time": "2019-07-15T07:01:07.675304Z",
     "start_time": "2019-07-15T07:01:07.653743Z"
    }
   },
   "outputs": [
    {
     "data": {
      "text/plain": [
       "['verb',\n",
       " ['أنفق',\n",
       "  'أمضى',\n",
       "  'قضى',\n",
       "  'بذل',\n",
       "  'بذر',\n",
       "  'نهك',\n",
       "  'بدد',\n",
       "  'استعمل',\n",
       "  'استخدم',\n",
       "  'أنفق الثروة',\n",
       "  'ضنى'],\n",
       " [['أنفق',\n",
       "   ['spend', 'outlay', 'expend', 'disburse', 'exhaust', 'lay out'],\n",
       "   None,\n",
       "   0.034756977],\n",
       "  ['أمضى', ['spend'], None, 0.0009706933],\n",
       "  ['قضى',\n",
       "   ['spend', 'ordain', 'pay', 'settle', 'preordain', 'predestine'],\n",
       "   None,\n",
       "   0.0006991642],\n",
       "  ['بذل', ['do', 'exert', 'spend', 'extend'], None, 0.0005617942],\n",
       "  ['بذر',\n",
       "   ['sow', 'inseminate', 'waste', 'fritter', 'disseminate', 'spend'],\n",
       "   None,\n",
       "   1.922354e-05],\n",
       "  ['نهك',\n",
       "   ['macerate', 'overdo', 'wear', 'harass', 'overstrain', 'spend'],\n",
       "   None,\n",
       "   1.922354e-05],\n",
       "  ['بدد',\n",
       "   ['dawdle', 'waste', 'scatter', 'disperse', 'dissipate', 'spend'],\n",
       "   None,\n",
       "   1.922354e-05],\n",
       "  ['استعمل',\n",
       "   ['use', 'employ', 'ply', 'spend', 'bestow', 'anticipate'],\n",
       "   None,\n",
       "   1.922354e-05],\n",
       "  ['استخدم',\n",
       "   ['use', 'utilize', 'employ', 'harness', 'exercise', 'spend'],\n",
       "   None,\n",
       "   1.922354e-05],\n",
       "  ['أنفق الثروة', ['spend'], None, 1.922354e-05],\n",
       "  ['ضنى',\n",
       "   ['tucker', 'spend', 'tire', 'languish', 'exhaust'],\n",
       "   None,\n",
       "   1.922354e-05]],\n",
       " 'spend',\n",
       " 2]"
      ]
     },
     "execution_count": 5,
     "metadata": {},
     "output_type": "execute_result"
    }
   ],
   "source": [
    "import sagas\n",
    "# $ python -m sagas.nlu.google_translator translate 'spend' ar en True\n",
    "verbs=[['verb', ['أنفق', 'أمضى', 'قضى', 'بذل', 'بذر', 'نهك', 'بدد', 'استعمل', 'استخدم', 'أنفق الثروة', 'ضنى'], [['أنفق', ['spend', 'outlay', 'expend', 'disburse', 'exhaust', 'lay out'], None, 0.034756977], ['أمضى', ['spend'], None, 0.0009706933], ['قضى', ['spend', 'ordain', 'pay', 'settle', 'preordain', 'predestine'], None, 0.0006991642], ['بذل', ['do', 'exert', 'spend', 'extend'], None, 0.0005617942], ['بذر', ['sow', 'inseminate', 'waste', 'fritter', 'disseminate', 'spend'], None, 1.922354e-05], ['نهك', ['macerate', 'overdo', 'wear', 'harass', 'overstrain', 'spend'], None, 1.922354e-05], ['بدد', ['dawdle', 'waste', 'scatter', 'disperse', 'dissipate', 'spend'], None, 1.922354e-05], ['استعمل', ['use', 'employ', 'ply', 'spend', 'bestow', 'anticipate'], None, 1.922354e-05], ['استخدم', ['use', 'utilize', 'employ', 'harness', 'exercise', 'spend'], None, 1.922354e-05], ['أنفق الثروة', ['spend'], None, 1.922354e-05], ['ضنى', ['tucker', 'spend', 'tire', 'languish', 'exhaust'], None, 1.922354e-05]], 'spend', 2]]\n",
    "# sagas.to_df(verbs)\n",
    "verbs[0]"
   ]
  },
  {
   "cell_type": "code",
   "execution_count": 8,
   "metadata": {
    "ExecuteTime": {
     "end_time": "2019-07-15T07:02:57.217203Z",
     "start_time": "2019-07-15T07:02:57.193873Z"
    }
   },
   "outputs": [
    {
     "data": {
      "text/html": [
       "<div>\n",
       "<style scoped>\n",
       "    .dataframe tbody tr th:only-of-type {\n",
       "        vertical-align: middle;\n",
       "    }\n",
       "\n",
       "    .dataframe tbody tr th {\n",
       "        vertical-align: top;\n",
       "    }\n",
       "\n",
       "    .dataframe thead th {\n",
       "        text-align: right;\n",
       "    }\n",
       "</style>\n",
       "<table border=\"1\" class=\"dataframe\">\n",
       "  <thead>\n",
       "    <tr style=\"text-align: right;\">\n",
       "      <th></th>\n",
       "      <th>word</th>\n",
       "      <th>translations</th>\n",
       "      <th>c</th>\n",
       "      <th>freq</th>\n",
       "    </tr>\n",
       "  </thead>\n",
       "  <tbody>\n",
       "    <tr>\n",
       "      <th>0</th>\n",
       "      <td>أنفق</td>\n",
       "      <td>[spend, outlay, expend, disburse, exhaust, lay...</td>\n",
       "      <td>None</td>\n",
       "      <td>0.034757</td>\n",
       "    </tr>\n",
       "    <tr>\n",
       "      <th>1</th>\n",
       "      <td>أمضى</td>\n",
       "      <td>[spend]</td>\n",
       "      <td>None</td>\n",
       "      <td>0.000971</td>\n",
       "    </tr>\n",
       "    <tr>\n",
       "      <th>2</th>\n",
       "      <td>قضى</td>\n",
       "      <td>[spend, ordain, pay, settle, preordain, predes...</td>\n",
       "      <td>None</td>\n",
       "      <td>0.000699</td>\n",
       "    </tr>\n",
       "    <tr>\n",
       "      <th>3</th>\n",
       "      <td>بذل</td>\n",
       "      <td>[do, exert, spend, extend]</td>\n",
       "      <td>None</td>\n",
       "      <td>0.000562</td>\n",
       "    </tr>\n",
       "    <tr>\n",
       "      <th>4</th>\n",
       "      <td>بذر</td>\n",
       "      <td>[sow, inseminate, waste, fritter, disseminate,...</td>\n",
       "      <td>None</td>\n",
       "      <td>0.000019</td>\n",
       "    </tr>\n",
       "    <tr>\n",
       "      <th>5</th>\n",
       "      <td>نهك</td>\n",
       "      <td>[macerate, overdo, wear, harass, overstrain, s...</td>\n",
       "      <td>None</td>\n",
       "      <td>0.000019</td>\n",
       "    </tr>\n",
       "    <tr>\n",
       "      <th>6</th>\n",
       "      <td>بدد</td>\n",
       "      <td>[dawdle, waste, scatter, disperse, dissipate, ...</td>\n",
       "      <td>None</td>\n",
       "      <td>0.000019</td>\n",
       "    </tr>\n",
       "    <tr>\n",
       "      <th>7</th>\n",
       "      <td>استعمل</td>\n",
       "      <td>[use, employ, ply, spend, bestow, anticipate]</td>\n",
       "      <td>None</td>\n",
       "      <td>0.000019</td>\n",
       "    </tr>\n",
       "    <tr>\n",
       "      <th>8</th>\n",
       "      <td>استخدم</td>\n",
       "      <td>[use, utilize, employ, harness, exercise, spend]</td>\n",
       "      <td>None</td>\n",
       "      <td>0.000019</td>\n",
       "    </tr>\n",
       "    <tr>\n",
       "      <th>9</th>\n",
       "      <td>أنفق الثروة</td>\n",
       "      <td>[spend]</td>\n",
       "      <td>None</td>\n",
       "      <td>0.000019</td>\n",
       "    </tr>\n",
       "    <tr>\n",
       "      <th>10</th>\n",
       "      <td>ضنى</td>\n",
       "      <td>[tucker, spend, tire, languish, exhaust]</td>\n",
       "      <td>None</td>\n",
       "      <td>0.000019</td>\n",
       "    </tr>\n",
       "  </tbody>\n",
       "</table>\n",
       "</div>"
      ],
      "text/plain": [
       "           word                                       translations     c  \\\n",
       "0          أنفق  [spend, outlay, expend, disburse, exhaust, lay...  None   \n",
       "1          أمضى                                            [spend]  None   \n",
       "2           قضى  [spend, ordain, pay, settle, preordain, predes...  None   \n",
       "3           بذل                         [do, exert, spend, extend]  None   \n",
       "4           بذر  [sow, inseminate, waste, fritter, disseminate,...  None   \n",
       "5           نهك  [macerate, overdo, wear, harass, overstrain, s...  None   \n",
       "6           بدد  [dawdle, waste, scatter, disperse, dissipate, ...  None   \n",
       "7        استعمل      [use, employ, ply, spend, bestow, anticipate]  None   \n",
       "8        استخدم   [use, utilize, employ, harness, exercise, spend]  None   \n",
       "9   أنفق الثروة                                            [spend]  None   \n",
       "10          ضنى           [tucker, spend, tire, languish, exhaust]  None   \n",
       "\n",
       "        freq  \n",
       "0   0.034757  \n",
       "1   0.000971  \n",
       "2   0.000699  \n",
       "3   0.000562  \n",
       "4   0.000019  \n",
       "5   0.000019  \n",
       "6   0.000019  \n",
       "7   0.000019  \n",
       "8   0.000019  \n",
       "9   0.000019  \n",
       "10  0.000019  "
      ]
     },
     "execution_count": 8,
     "metadata": {},
     "output_type": "execute_result"
    }
   ],
   "source": [
    "sagas.to_df(verbs[0][2], ['word', 'translations', 'c','freq'])"
   ]
  },
  {
   "cell_type": "code",
   "execution_count": 11,
   "metadata": {
    "ExecuteTime": {
     "end_time": "2019-07-15T07:15:48.896136Z",
     "start_time": "2019-07-15T07:15:48.885640Z"
    }
   },
   "outputs": [
    {
     "data": {
      "text/plain": [
       "['noun',\n",
       " ['مدينة', 'سكان المدينة'],\n",
       " [['مدينة', ['city', 'town', 'metropolis'], None, 0.38553435],\n",
       "  ['سكان المدينة', ['townspeople', 'city', 'townsfolk'], None, 4.4696069e-05]],\n",
       " 'city',\n",
       " 1]"
      ]
     },
     "execution_count": 11,
     "metadata": {},
     "output_type": "execute_result"
    }
   ],
   "source": [
    "# $ python -m sagas.nlu.google_translator translate 'city' ar en True\n",
    "nouns=[['noun', ['مدينة', 'سكان المدينة'], [['مدينة', ['city', 'town', 'metropolis'], None, 0.38553435], ['سكان المدينة', ['townspeople', 'city', 'townsfolk'], None, 4.4696069e-05]], 'city', 1]]\n",
    "nouns[0]"
   ]
  },
  {
   "cell_type": "code",
   "execution_count": 12,
   "metadata": {
    "ExecuteTime": {
     "end_time": "2019-07-15T07:21:19.422809Z",
     "start_time": "2019-07-15T07:21:19.061032Z"
    }
   },
   "outputs": [
    {
     "data": {
      "text/html": [
       "<style  type=\"text/css\" >\n",
       "</style>  \n",
       "<table id=\"T_240031b0_a6d1_11e9_868d_9801a7aeec51\" > \n",
       "<thead>    <tr> \n",
       "        <th class=\"blank level0\" ></th> \n",
       "        <th class=\"col_heading level0 col0\" >word</th> \n",
       "        <th class=\"col_heading level0 col1\" >translations</th> \n",
       "        <th class=\"col_heading level0 col2\" >c</th> \n",
       "        <th class=\"col_heading level0 col3\" >freq</th> \n",
       "    </tr></thead> \n",
       "<tbody>    <tr> \n",
       "        <th id=\"T_240031b0_a6d1_11e9_868d_9801a7aeec51level0_row0\" class=\"row_heading level0 row0\" >0</th> \n",
       "        <td id=\"T_240031b0_a6d1_11e9_868d_9801a7aeec51row0_col0\" class=\"data row0 col0\" >مدينة</td> \n",
       "        <td id=\"T_240031b0_a6d1_11e9_868d_9801a7aeec51row0_col1\" class=\"data row0 col1\" >['city', 'town', 'metropolis']</td> \n",
       "        <td id=\"T_240031b0_a6d1_11e9_868d_9801a7aeec51row0_col2\" class=\"data row0 col2\" >None</td> \n",
       "        <td id=\"T_240031b0_a6d1_11e9_868d_9801a7aeec51row0_col3\" class=\"data row0 col3\" >0.385534</td> \n",
       "    </tr>    <tr> \n",
       "        <th id=\"T_240031b0_a6d1_11e9_868d_9801a7aeec51level0_row1\" class=\"row_heading level0 row1\" >1</th> \n",
       "        <td id=\"T_240031b0_a6d1_11e9_868d_9801a7aeec51row1_col0\" class=\"data row1 col0\" >سكان المدينة</td> \n",
       "        <td id=\"T_240031b0_a6d1_11e9_868d_9801a7aeec51row1_col1\" class=\"data row1 col1\" >['townspeople', 'city', 'townsfolk']</td> \n",
       "        <td id=\"T_240031b0_a6d1_11e9_868d_9801a7aeec51row1_col2\" class=\"data row1 col2\" >None</td> \n",
       "        <td id=\"T_240031b0_a6d1_11e9_868d_9801a7aeec51row1_col3\" class=\"data row1 col3\" >4.46961e-05</td> \n",
       "    </tr></tbody> \n",
       "</table> "
      ],
      "text/plain": [
       "<pandas.io.formats.style.Styler at 0x10b1549b0>"
      ]
     },
     "execution_count": 12,
     "metadata": {},
     "output_type": "execute_result"
    }
   ],
   "source": [
    "df=sagas.to_df(nouns[0][2], ['word', 'translations', 'c','freq'])\n",
    "df.style"
   ]
  },
  {
   "cell_type": "code",
   "execution_count": 15,
   "metadata": {
    "ExecuteTime": {
     "end_time": "2019-07-15T07:25:03.296289Z",
     "start_time": "2019-07-15T07:25:03.270133Z"
    }
   },
   "outputs": [
    {
     "data": {
      "text/html": [
       "<style  type=\"text/css\" >\n",
       "    #T_a9747748_a6d1_11e9_8bf6_9801a7aeec51row0_col3 {\n",
       "            color:  black;\n",
       "        }    #T_a9747748_a6d1_11e9_8bf6_9801a7aeec51row1_col3 {\n",
       "            color:  red;\n",
       "        }</style>  \n",
       "<table id=\"T_a9747748_a6d1_11e9_8bf6_9801a7aeec51\" > \n",
       "<thead>    <tr> \n",
       "        <th class=\"blank level0\" ></th> \n",
       "        <th class=\"col_heading level0 col0\" >word</th> \n",
       "        <th class=\"col_heading level0 col1\" >translations</th> \n",
       "        <th class=\"col_heading level0 col2\" >c</th> \n",
       "        <th class=\"col_heading level0 col3\" >freq</th> \n",
       "    </tr></thead> \n",
       "<tbody>    <tr> \n",
       "        <th id=\"T_a9747748_a6d1_11e9_8bf6_9801a7aeec51level0_row0\" class=\"row_heading level0 row0\" >0</th> \n",
       "        <td id=\"T_a9747748_a6d1_11e9_8bf6_9801a7aeec51row0_col0\" class=\"data row0 col0\" >مدينة</td> \n",
       "        <td id=\"T_a9747748_a6d1_11e9_8bf6_9801a7aeec51row0_col1\" class=\"data row0 col1\" >['city', 'town', 'metropolis']</td> \n",
       "        <td id=\"T_a9747748_a6d1_11e9_8bf6_9801a7aeec51row0_col2\" class=\"data row0 col2\" >None</td> \n",
       "        <td id=\"T_a9747748_a6d1_11e9_8bf6_9801a7aeec51row0_col3\" class=\"data row0 col3\" >0.385534</td> \n",
       "    </tr>    <tr> \n",
       "        <th id=\"T_a9747748_a6d1_11e9_8bf6_9801a7aeec51level0_row1\" class=\"row_heading level0 row1\" >1</th> \n",
       "        <td id=\"T_a9747748_a6d1_11e9_8bf6_9801a7aeec51row1_col0\" class=\"data row1 col0\" >سكان المدينة</td> \n",
       "        <td id=\"T_a9747748_a6d1_11e9_8bf6_9801a7aeec51row1_col1\" class=\"data row1 col1\" >['townspeople', 'city', 'townsfolk']</td> \n",
       "        <td id=\"T_a9747748_a6d1_11e9_8bf6_9801a7aeec51row1_col2\" class=\"data row1 col2\" >None</td> \n",
       "        <td id=\"T_a9747748_a6d1_11e9_8bf6_9801a7aeec51row1_col3\" class=\"data row1 col3\" >4.46961e-05</td> \n",
       "    </tr></tbody> \n",
       "</table> "
      ],
      "text/plain": [
       "<pandas.io.formats.style.Styler at 0x10bd94b70>"
      ]
     },
     "execution_count": 15,
     "metadata": {},
     "output_type": "execute_result"
    }
   ],
   "source": [
    "def color_negative_red(val):\n",
    "    \"\"\"\n",
    "    Takes a scalar and returns a string with\n",
    "    the css property `'color: red'` for negative\n",
    "    strings, black otherwise.\n",
    "    \"\"\"\n",
    "    color = 'red' if val < 0.1 else 'black'\n",
    "    return 'color: %s' % color\n",
    "s = df.style.applymap(color_negative_red, subset=['freq'])\n",
    "s"
   ]
  },
  {
   "cell_type": "code",
   "execution_count": 31,
   "metadata": {
    "ExecuteTime": {
     "end_time": "2019-07-15T07:36:58.746077Z",
     "start_time": "2019-07-15T07:36:58.725459Z"
    }
   },
   "outputs": [
    {
     "data": {
      "text/html": [
       "<style  type=\"text/css\" >\n",
       "    #T_53e5cfa8_a6d3_11e9_a14a_9801a7aeec51 th {\n",
       "          font-size: 20px;\n",
       "          text-align: center;\n",
       "          font-weight: bold;\n",
       "          color: #6d6d6d;\n",
       "          background-color: #f7f7f9;\n",
       "    }    #T_53e5cfa8_a6d3_11e9_a14a_9801a7aeec51 td {\n",
       "          font-size: 16px;\n",
       "          max-width: 280px;\n",
       "    }    #T_53e5cfa8_a6d3_11e9_a14a_9801a7aeec51 tr:hover td:hover {\n",
       "          max-width: 200px;\n",
       "          font-size: 20pt;\n",
       "    }    #T_53e5cfa8_a6d3_11e9_a14a_9801a7aeec51row0_col3 {\n",
       "            color:  black;\n",
       "        }    #T_53e5cfa8_a6d3_11e9_a14a_9801a7aeec51row1_col3 {\n",
       "            color:  red;\n",
       "        }</style>  \n",
       "<table id=\"T_53e5cfa8_a6d3_11e9_a14a_9801a7aeec51\" > \n",
       "<thead>    <tr> \n",
       "        <th class=\"blank level0\" ></th> \n",
       "        <th class=\"col_heading level0 col0\" >word</th> \n",
       "        <th class=\"col_heading level0 col1\" >translations</th> \n",
       "        <th class=\"col_heading level0 col2\" >c</th> \n",
       "        <th class=\"col_heading level0 col3\" >freq</th> \n",
       "    </tr></thead> \n",
       "<tbody>    <tr> \n",
       "        <th id=\"T_53e5cfa8_a6d3_11e9_a14a_9801a7aeec51level0_row0\" class=\"row_heading level0 row0\" >0</th> \n",
       "        <td id=\"T_53e5cfa8_a6d3_11e9_a14a_9801a7aeec51row0_col0\" class=\"data row0 col0\" >مدينة</td> \n",
       "        <td id=\"T_53e5cfa8_a6d3_11e9_a14a_9801a7aeec51row0_col1\" class=\"data row0 col1\" >['city', 'town', 'metropolis']</td> \n",
       "        <td id=\"T_53e5cfa8_a6d3_11e9_a14a_9801a7aeec51row0_col2\" class=\"data row0 col2\" >None</td> \n",
       "        <td id=\"T_53e5cfa8_a6d3_11e9_a14a_9801a7aeec51row0_col3\" class=\"data row0 col3\" >0.385534</td> \n",
       "    </tr>    <tr> \n",
       "        <th id=\"T_53e5cfa8_a6d3_11e9_a14a_9801a7aeec51level0_row1\" class=\"row_heading level0 row1\" >1</th> \n",
       "        <td id=\"T_53e5cfa8_a6d3_11e9_a14a_9801a7aeec51row1_col0\" class=\"data row1 col0\" >سكان المدينة</td> \n",
       "        <td id=\"T_53e5cfa8_a6d3_11e9_a14a_9801a7aeec51row1_col1\" class=\"data row1 col1\" >['townspeople', 'city', 'townsfolk']</td> \n",
       "        <td id=\"T_53e5cfa8_a6d3_11e9_a14a_9801a7aeec51row1_col2\" class=\"data row1 col2\" >None</td> \n",
       "        <td id=\"T_53e5cfa8_a6d3_11e9_a14a_9801a7aeec51row1_col3\" class=\"data row1 col3\" >4.46961e-05</td> \n",
       "    </tr></tbody> \n",
       "</table> "
      ],
      "text/plain": [
       "<pandas.io.formats.style.Styler at 0x10bdd6160>"
      ]
     },
     "execution_count": 31,
     "metadata": {},
     "output_type": "execute_result"
    }
   ],
   "source": [
    "# Set CSS properties for th elements in dataframe\n",
    "th_props = [\n",
    "  ('font-size', '20px'),\n",
    "  ('text-align', 'center'),\n",
    "  ('font-weight', 'bold'),\n",
    "  ('color', '#6d6d6d'),\n",
    "  ('background-color', '#f7f7f9')\n",
    "  ]\n",
    "\n",
    "# Set CSS properties for td elements in dataframe\n",
    "td_props = [\n",
    "  ('font-size', '16px'),\n",
    "  ('max-width', '280px')\n",
    "  ]\n",
    "\n",
    "# Set table styles\n",
    "# ⊕ [Styling — pandas 0.24.2 documentation](https://pandas.pydata.org/pandas-docs/stable/user_guide/style.html#Fun-stuff)\n",
    "styles = [\n",
    "    dict(selector=\"th\", props=th_props),\n",
    "    dict(selector=\"td\", props=td_props),\n",
    "    dict(selector=\"tr:hover td:hover\",\n",
    "                 props=[('max-width', '200px'),\n",
    "                        ('font-size', '20pt')])\n",
    "  ]\n",
    "df.style.applymap(color_negative_red, subset=['freq']).set_table_styles(styles)"
   ]
  },
  {
   "cell_type": "code",
   "execution_count": 38,
   "metadata": {
    "ExecuteTime": {
     "end_time": "2019-07-15T22:28:07.518029Z",
     "start_time": "2019-07-15T22:28:04.972871Z"
    }
   },
   "outputs": [
    {
     "name": "stdout",
     "output_type": "stream",
     "text": [
      "✁ لدي اثنين من الثلاجات(I have two refrigerators ❣ ladaya athnyn min althalajat)\n",
      "لدي(I have, ladaya) اثنين(Two, athnyn) من(From, min) الثلاجات(Refrigerators, althalajat) .\n"
     ]
    },
    {
     "data": {
      "text/html": [
       "<style  type=\"text/css\" >\n",
       "    #T_d1c4be00_a74f_11e9_a97d_9801a7aeec51 th {\n",
       "          font-size: 20px;\n",
       "          text-align: center;\n",
       "          font-weight: bold;\n",
       "          color: #6d6d6d;\n",
       "          background-color: #f7f7f9;\n",
       "    }    #T_d1c4be00_a74f_11e9_a97d_9801a7aeec51 td {\n",
       "          font-size: 16px;\n",
       "          max-width: 280px;\n",
       "    }    #T_d1c4be00_a74f_11e9_a97d_9801a7aeec51 tr:hover td:hover {\n",
       "          max-width: 200px;\n",
       "          font-size: 20pt;\n",
       "    }</style>  \n",
       "<table id=\"T_d1c4be00_a74f_11e9_a97d_9801a7aeec51\" > \n",
       "<thead>    <tr> \n",
       "        <th class=\"blank level0\" ></th> \n",
       "        <th class=\"col_heading level0 col0\" >word</th> \n",
       "        <th class=\"col_heading level0 col1\" >trans</th> \n",
       "        <th class=\"col_heading level0 col2\" >ips</th> \n",
       "    </tr></thead> \n",
       "<tbody>    <tr> \n",
       "        <th id=\"T_d1c4be00_a74f_11e9_a97d_9801a7aeec51level0_row0\" class=\"row_heading level0 row0\" >0</th> \n",
       "        <td id=\"T_d1c4be00_a74f_11e9_a97d_9801a7aeec51row0_col0\" class=\"data row0 col0\" >لدي</td> \n",
       "        <td id=\"T_d1c4be00_a74f_11e9_a97d_9801a7aeec51row0_col1\" class=\"data row0 col1\" >I have</td> \n",
       "        <td id=\"T_d1c4be00_a74f_11e9_a97d_9801a7aeec51row0_col2\" class=\"data row0 col2\" > ladaya</td> \n",
       "    </tr>    <tr> \n",
       "        <th id=\"T_d1c4be00_a74f_11e9_a97d_9801a7aeec51level0_row1\" class=\"row_heading level0 row1\" >1</th> \n",
       "        <td id=\"T_d1c4be00_a74f_11e9_a97d_9801a7aeec51row1_col0\" class=\"data row1 col0\" >اثنين</td> \n",
       "        <td id=\"T_d1c4be00_a74f_11e9_a97d_9801a7aeec51row1_col1\" class=\"data row1 col1\" >Two</td> \n",
       "        <td id=\"T_d1c4be00_a74f_11e9_a97d_9801a7aeec51row1_col2\" class=\"data row1 col2\" > athnyn</td> \n",
       "    </tr>    <tr> \n",
       "        <th id=\"T_d1c4be00_a74f_11e9_a97d_9801a7aeec51level0_row2\" class=\"row_heading level0 row2\" >2</th> \n",
       "        <td id=\"T_d1c4be00_a74f_11e9_a97d_9801a7aeec51row2_col0\" class=\"data row2 col0\" >من</td> \n",
       "        <td id=\"T_d1c4be00_a74f_11e9_a97d_9801a7aeec51row2_col1\" class=\"data row2 col1\" >From</td> \n",
       "        <td id=\"T_d1c4be00_a74f_11e9_a97d_9801a7aeec51row2_col2\" class=\"data row2 col2\" > min</td> \n",
       "    </tr>    <tr> \n",
       "        <th id=\"T_d1c4be00_a74f_11e9_a97d_9801a7aeec51level0_row3\" class=\"row_heading level0 row3\" >3</th> \n",
       "        <td id=\"T_d1c4be00_a74f_11e9_a97d_9801a7aeec51row3_col0\" class=\"data row3 col0\" >الثلاجات</td> \n",
       "        <td id=\"T_d1c4be00_a74f_11e9_a97d_9801a7aeec51row3_col1\" class=\"data row3 col1\" >Refrigerators</td> \n",
       "        <td id=\"T_d1c4be00_a74f_11e9_a97d_9801a7aeec51row3_col2\" class=\"data row3 col2\" > althalajat</td> \n",
       "    </tr></tbody> \n",
       "</table> "
      ],
      "text/plain": [
       "<pandas.io.formats.style.Styler at 0x10f57c780>"
      ]
     },
     "execution_count": 38,
     "metadata": {},
     "output_type": "execute_result"
    }
   ],
   "source": [
    "import time\n",
    "from sagas.nlu.nlu_tools import NluTools\n",
    "from sagas.nlu.google_translator import translate\n",
    "\n",
    "def marks(t, lead=True):\n",
    "    if len(t)>0:\n",
    "        if lead:\n",
    "            return ','+' '.join(t)[1:]\n",
    "        else:\n",
    "            return ' '.join(t)[1:]\n",
    "    return ''\n",
    "def process_df(source, target, text, ips_idx=0):\n",
    "    import sagas\n",
    "    rs=[]\n",
    "    options=set(['get_pronounce'])\n",
    "    # options.add('get_pronounce')\n",
    "    res,t = translate(text, source=source, target=target,\n",
    "                      trans_verbose=False, options=options)\n",
    "    # print(res, text, t[ips_idx])\n",
    "    print('✁', '%s(%s %s)'%(text, res, ''.join(t)))\n",
    "    for sent in text.split(' '):\n",
    "        res,t = translate(sent, source=source, target=target,\n",
    "                          trans_verbose=False, options=options)\n",
    "        # print(res, sent, t[ips_idx])\n",
    "        print('%s(%s%s)'%(sent,res,marks(t)), end =\" \")\n",
    "        rs.append((sent,res,marks(t,False)))\n",
    "        time.sleep(0.05)\n",
    "    print('.')\n",
    "    return sagas.to_df(rs, ['word', 'trans', 'ips']).style.set_table_styles(styles)\n",
    "process_df('ar', 'en', 'لدي اثنين من الثلاجات')"
   ]
  },
  {
   "cell_type": "code",
   "execution_count": 42,
   "metadata": {
    "ExecuteTime": {
     "end_time": "2019-07-16T01:06:45.747864Z",
     "start_time": "2019-07-16T01:06:45.738214Z"
    }
   },
   "outputs": [
    {
     "name": "stdout",
     "output_type": "stream",
     "text": [
      "['ext_0', 'ext_1', 'ext_2', 'ext_3', 'ext_4', 'ext_5']\n",
      "['1', '2', '3', '4', 'ext_4', 'ext_5']\n"
     ]
    }
   ],
   "source": [
    "size=6\n",
    "listOfStrings = ['ext_'+str(i) for i in range(size)]\n",
    "print(listOfStrings)\n",
    "listOfStrings[0:4]=['1','2','3','4']\n",
    "print(listOfStrings)"
   ]
  }
 ],
 "metadata": {
  "kernelspec": {
   "display_name": "Python 3",
   "language": "python",
   "name": "python3"
  },
  "language_info": {
   "codemirror_mode": {
    "name": "ipython",
    "version": 3
   },
   "file_extension": ".py",
   "mimetype": "text/x-python",
   "name": "python",
   "nbconvert_exporter": "python",
   "pygments_lexer": "ipython3",
   "version": "3.6.4"
  },
  "varInspector": {
   "cols": {
    "lenName": 16,
    "lenType": 16,
    "lenVar": 40
   },
   "kernels_config": {
    "python": {
     "delete_cmd_postfix": "",
     "delete_cmd_prefix": "del ",
     "library": "var_list.py",
     "varRefreshCmd": "print(var_dic_list())"
    },
    "r": {
     "delete_cmd_postfix": ") ",
     "delete_cmd_prefix": "rm(",
     "library": "var_list.r",
     "varRefreshCmd": "cat(var_dic_list()) "
    }
   },
   "types_to_exclude": [
    "module",
    "function",
    "builtin_function_or_method",
    "instance",
    "_Feature"
   ],
   "window_display": false
  }
 },
 "nbformat": 4,
 "nbformat_minor": 2
}
