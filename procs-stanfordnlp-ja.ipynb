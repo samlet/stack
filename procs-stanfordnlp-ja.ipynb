{
 "cells": [
  {
   "cell_type": "code",
   "execution_count": 10,
   "metadata": {
    "ExecuteTime": {
     "end_time": "2019-05-28T03:38:33.350005Z",
     "start_time": "2019-05-28T03:38:27.673629Z"
    }
   },
   "outputs": [
    {
     "name": "stdout",
     "output_type": "stream",
     "text": [
      "Use device: cpu\n",
      "---\n",
      "Loading: tokenize\n",
      "With settings: \n",
      "{'model_path': '/pi/ai/corenlp/zh_gsd_models/zh_gsd_tokenizer.pt', 'lang': 'zh', 'shorthand': 'zh_gsd', 'mode': 'predict'}\n",
      "---\n",
      "Loading: pos\n",
      "With settings: \n",
      "{'model_path': '/pi/ai/corenlp/zh_gsd_models/zh_gsd_tagger.pt', 'pretrain_path': '/pi/ai/corenlp/zh_gsd_models/zh_gsd.pretrain.pt', 'lang': 'zh', 'shorthand': 'zh_gsd', 'mode': 'predict'}\n",
      "---\n",
      "Loading: lemma\n",
      "With settings: \n",
      "{'model_path': '/pi/ai/corenlp/zh_gsd_models/zh_gsd_lemmatizer.pt', 'lang': 'zh', 'shorthand': 'zh_gsd', 'mode': 'predict'}\n",
      "Building an attentional Seq2Seq model...\n",
      "Using a Bi-LSTM encoder\n",
      "Using soft attention for LSTM.\n",
      "Finetune all embeddings.\n",
      "[Running seq2seq lemmatizer with edit classifier]\n",
      "---\n",
      "Loading: depparse\n",
      "With settings: \n",
      "{'model_path': '/pi/ai/corenlp/zh_gsd_models/zh_gsd_parser.pt', 'pretrain_path': '/pi/ai/corenlp/zh_gsd_models/zh_gsd.pretrain.pt', 'lang': 'zh', 'shorthand': 'zh_gsd', 'mode': 'predict'}\n",
      "Done loading processors!\n",
      "---\n",
      "Use device: cpu\n",
      "---\n",
      "Loading: tokenize\n",
      "With settings: \n",
      "{'model_path': '/pi/ai/corenlp/ja_gsd_models/ja_gsd_tokenizer.pt', 'lang': 'ja', 'shorthand': 'ja_gsd', 'mode': 'predict'}\n",
      "---\n",
      "Loading: pos\n",
      "With settings: \n",
      "{'model_path': '/pi/ai/corenlp/ja_gsd_models/ja_gsd_tagger.pt', 'pretrain_path': '/pi/ai/corenlp/ja_gsd_models/ja_gsd.pretrain.pt', 'lang': 'ja', 'shorthand': 'ja_gsd', 'mode': 'predict'}\n",
      "---\n",
      "Loading: lemma\n",
      "With settings: \n",
      "{'model_path': '/pi/ai/corenlp/ja_gsd_models/ja_gsd_lemmatizer.pt', 'lang': 'ja', 'shorthand': 'ja_gsd', 'mode': 'predict'}\n",
      "Building an attentional Seq2Seq model...\n",
      "Using a Bi-LSTM encoder\n",
      "Using soft attention for LSTM.\n",
      "Finetune all embeddings.\n",
      "[Running seq2seq lemmatizer with edit classifier]\n",
      "---\n",
      "Loading: depparse\n",
      "With settings: \n",
      "{'model_path': '/pi/ai/corenlp/ja_gsd_models/ja_gsd_parser.pt', 'pretrain_path': '/pi/ai/corenlp/ja_gsd_models/ja_gsd.pretrain.pt', 'lang': 'ja', 'shorthand': 'ja_gsd', 'mode': 'predict'}\n",
      "Done loading processors!\n",
      "---\n"
     ]
    }
   ],
   "source": [
    "import stanfordnlp\n",
    "\n",
    "model_dir='/pi/ai/corenlp'\n",
    "nlp_zh = stanfordnlp.Pipeline(models_dir=model_dir, \n",
    "                              lang='zh',\n",
    "                              treebank='zh_gsd')\n",
    "nlp_ja = stanfordnlp.Pipeline(models_dir=model_dir, \n",
    "                              lang='ja',\n",
    "                              treebank='ja_gsd')"
   ]
  },
  {
   "cell_type": "code",
   "execution_count": 18,
   "metadata": {
    "ExecuteTime": {
     "end_time": "2019-05-28T03:49:11.275301Z",
     "start_time": "2019-05-28T03:49:11.099473Z"
    }
   },
   "outputs": [
    {
     "name": "stdout",
     "output_type": "stream",
     "text": [
      "text: 我 \tlemma: 我\tupos: PRON\txpos: PRP\n",
      "text: 是 \tlemma: 是\tupos: AUX\txpos: VC\n",
      "text: 一 \tlemma: 一\tupos: NUM\txpos: CD\n",
      "text: 個 \tlemma: 個\tupos: NOUN\txpos: NNB\n",
      "text: 高中 \tlemma: 高中\tupos: NOUN\txpos: NN\n",
      "text: 生 \tlemma: 生\tupos: PART\txpos: SFN\n",
      "('我', '6', 'dep')\n",
      "('是', '6', 'cop')\n",
      "('一', '4', 'nummod')\n",
      "('個', '6', 'nmod')\n",
      "('高中', '6', 'case:suff')\n",
      "('生', '0', 'root')\n"
     ]
    }
   ],
   "source": [
    "def analyse(sents, nlp):\n",
    "    doc = nlp(sents)\n",
    "    print(*[f'text: {word.text+\" \"}\\tlemma: {word.lemma}\\tupos: {word.upos}\\txpos: {word.xpos}' for sent in doc.sentences for word in sent.words], sep='\\n')\n",
    "    doc.sentences[0].print_dependencies()\n",
    "\n",
    "# sents='我是一个中学生。'\n",
    "# sents='我是一個高中生。'\n",
    "sents='我是一個高中生'\n",
    "analyse(sents, nlp_zh)"
   ]
  },
  {
   "cell_type": "code",
   "execution_count": 15,
   "metadata": {
    "ExecuteTime": {
     "end_time": "2019-05-28T03:40:53.174681Z",
     "start_time": "2019-05-28T03:40:53.078807Z"
    }
   },
   "outputs": [
    {
     "name": "stdout",
     "output_type": "stream",
     "text": [
      "text: 私 \tlemma: 私\tupos: PRON\txpos: _\n",
      "text: は \tlemma: は\tupos: ADP\txpos: _\n",
      "text: 中学生 \tlemma: 中学生\tupos: NOUN\txpos: _\n",
      "text: です \tlemma: だ\tupos: AUX\txpos: _\n",
      "text: 。 \tlemma: 。\tupos: PUNCT\txpos: _\n",
      "('私', '3', 'nsubj')\n",
      "('は', '1', 'case')\n",
      "('中学生', '0', 'root')\n",
      "('です', '3', 'cop')\n",
      "('。', '3', 'punct')\n"
     ]
    }
   ],
   "source": [
    "sents='私は中学生です。'\n",
    "analyse(sents, nlp_ja)"
   ]
  },
  {
   "cell_type": "code",
   "execution_count": 16,
   "metadata": {
    "ExecuteTime": {
     "end_time": "2019-05-28T03:42:18.932812Z",
     "start_time": "2019-05-28T03:42:18.839728Z"
    }
   },
   "outputs": [
    {
     "name": "stdout",
     "output_type": "stream",
     "text": [
      "text: 私 \tlemma: 私\tupos: PRON\txpos: _\n",
      "text: は \tlemma: は\tupos: ADP\txpos: _\n",
      "text: 高校生 \tlemma: 高校生\tupos: NOUN\txpos: _\n",
      "text: です \tlemma: だ\tupos: AUX\txpos: _\n",
      "text: 。 \tlemma: 。\tupos: PUNCT\txpos: _\n",
      "('私', '3', 'nsubj')\n",
      "('は', '1', 'case')\n",
      "('高校生', '0', 'root')\n",
      "('です', '3', 'cop')\n",
      "('。', '3', 'punct')\n"
     ]
    }
   ],
   "source": [
    "analyse('私は高校生です。', nlp_ja)"
   ]
  },
  {
   "cell_type": "code",
   "execution_count": 2,
   "metadata": {
    "ExecuteTime": {
     "end_time": "2019-07-19T05:41:22.446478Z",
     "start_time": "2019-07-19T05:41:19.678100Z"
    }
   },
   "outputs": [
    {
     "name": "stdout",
     "output_type": "stream",
     "text": [
      "Use device: cpu\n",
      "---\n",
      "Loading: tokenize\n",
      "With settings: \n",
      "{'model_path': '/pi/ai/corenlp/ja_gsd_models/ja_gsd_tokenizer.pt', 'lang': 'ja', 'shorthand': 'ja_gsd', 'mode': 'predict'}\n",
      "---\n",
      "Loading: pos\n",
      "With settings: \n",
      "{'model_path': '/pi/ai/corenlp/ja_gsd_models/ja_gsd_tagger.pt', 'pretrain_path': '/pi/ai/corenlp/ja_gsd_models/ja_gsd.pretrain.pt', 'lang': 'ja', 'shorthand': 'ja_gsd', 'mode': 'predict'}\n",
      "---\n",
      "Loading: lemma\n",
      "With settings: \n",
      "{'model_path': '/pi/ai/corenlp/ja_gsd_models/ja_gsd_lemmatizer.pt', 'lang': 'ja', 'shorthand': 'ja_gsd', 'mode': 'predict'}\n",
      "Building an attentional Seq2Seq model...\n",
      "Using a Bi-LSTM encoder\n",
      "Using soft attention for LSTM.\n",
      "Finetune all embeddings.\n",
      "[Running seq2seq lemmatizer with edit classifier]\n",
      "---\n",
      "Loading: depparse\n",
      "With settings: \n",
      "{'model_path': '/pi/ai/corenlp/ja_gsd_models/ja_gsd_parser.pt', 'pretrain_path': '/pi/ai/corenlp/ja_gsd_models/ja_gsd.pretrain.pt', 'lang': 'ja', 'shorthand': 'ja_gsd', 'mode': 'predict'}\n",
      "Done loading processors!\n",
      "---\n",
      "text: 私 \tlemma: 私\tupos: PRON\txpos: _\n",
      "text: は \tlemma: は\tupos: ADP\txpos: _\n",
      "text: 高校生 \tlemma: 高校生\tupos: NOUN\txpos: _\n",
      "text: です \tlemma: だ\tupos: AUX\txpos: _\n",
      "text: 。 \tlemma: 。\tupos: PUNCT\txpos: _\n",
      "('私', '3', 'nsubj')\n",
      "('は', '1', 'case')\n",
      "('高校生', '0', 'root')\n",
      "('です', '3', 'cop')\n",
      "('。', '3', 'punct')\n"
     ]
    },
    {
     "data": {
      "image/svg+xml": [
       "<?xml version=\"1.0\" encoding=\"UTF-8\" standalone=\"no\"?>\n",
       "<!DOCTYPE svg PUBLIC \"-//W3C//DTD SVG 1.1//EN\"\n",
       " \"http://www.w3.org/Graphics/SVG/1.1/DTD/svg11.dtd\">\n",
       "<!-- Generated by graphviz version 2.40.1 (20161225.0304)\n",
       " -->\n",
       "<!-- Title: deps Pages: 1 -->\n",
       "<svg width=\"322pt\" height=\"192pt\"\n",
       " viewBox=\"0.00 0.00 321.87 192.43\" xmlns=\"http://www.w3.org/2000/svg\" xmlns:xlink=\"http://www.w3.org/1999/xlink\">\n",
       "<g id=\"graph0\" class=\"graph\" transform=\"scale(1 1) rotate(0) translate(4 188.4264)\">\n",
       "<title>deps</title>\n",
       "<polygon fill=\"#ffffff\" stroke=\"transparent\" points=\"-4,4 -4,-188.4264 317.8695,-188.4264 317.8695,4 -4,4\"/>\n",
       "<!-- 私 -->\n",
       "<g id=\"node1\" class=\"node\">\n",
       "<title>私</title>\n",
       "<ellipse fill=\"none\" stroke=\"#000000\" cx=\"180.2406\" cy=\"-163.2132\" rx=\"21.4286\" ry=\"21.4286\"/>\n",
       "<text text-anchor=\"middle\" x=\"180.2406\" y=\"-161.8132\" font-family=\"Times,serif\" font-size=\"14.00\" fill=\"#000000\">私</text>\n",
       "</g>\n",
       "<!-- は -->\n",
       "<g id=\"node2\" class=\"node\">\n",
       "<title>は</title>\n",
       "<ellipse fill=\"none\" stroke=\"#000000\" cx=\"292.6563\" cy=\"-163.2132\" rx=\"21.4286\" ry=\"21.4286\"/>\n",
       "<text text-anchor=\"middle\" x=\"292.6563\" y=\"-161.8132\" font-family=\"Times,serif\" font-size=\"14.00\" fill=\"#000000\">は</text>\n",
       "</g>\n",
       "<!-- 私&#45;&gt;は -->\n",
       "<g id=\"edge2\" class=\"edge\">\n",
       "<title>私&#45;&gt;は</title>\n",
       "<path fill=\"none\" stroke=\"#000000\" d=\"M201.6497,-163.2132C218.5273,-163.2132 242.3061,-163.2132 261.3247,-163.2132\"/>\n",
       "<polygon fill=\"#000000\" stroke=\"#000000\" points=\"261.3269,-166.7133 271.3269,-163.2132 261.3269,-159.7133 261.3269,-166.7133\"/>\n",
       "<text text-anchor=\"middle\" x=\"241.3982\" y=\"-166.0132\" font-family=\"Times,serif\" font-size=\"14.00\" fill=\"#000000\">case</text>\n",
       "</g>\n",
       "<!-- 高校生 -->\n",
       "<g id=\"node3\" class=\"node\">\n",
       "<title>高校生</title>\n",
       "<ellipse fill=\"none\" stroke=\"#000000\" cx=\"41.0122\" cy=\"-74.2132\" rx=\"41.0244\" ry=\"41.0244\"/>\n",
       "<text text-anchor=\"middle\" x=\"41.0122\" y=\"-72.8132\" font-family=\"Times,serif\" font-size=\"14.00\" fill=\"#000000\">高校生</text>\n",
       "</g>\n",
       "<!-- 高校生&#45;&gt;私 -->\n",
       "<g id=\"edge1\" class=\"edge\">\n",
       "<title>高校生&#45;&gt;私</title>\n",
       "<path fill=\"none\" stroke=\"#000000\" d=\"M75.7863,-96.4421C99.855,-111.8277 131.4103,-131.9991 153.5142,-146.1287\"/>\n",
       "<polygon fill=\"#000000\" stroke=\"#000000\" points=\"151.7572,-149.1595 162.0679,-151.5966 155.5274,-143.2616 151.7572,-149.1595\"/>\n",
       "<text text-anchor=\"middle\" x=\"115.5761\" y=\"-133.0132\" font-family=\"Times,serif\" font-size=\"14.00\" fill=\"#000000\">nsubj</text>\n",
       "</g>\n",
       "<!-- です -->\n",
       "<g id=\"node4\" class=\"node\">\n",
       "<title>です</title>\n",
       "<ellipse fill=\"none\" stroke=\"#000000\" cx=\"180.2406\" cy=\"-93.2132\" rx=\"31.2258\" ry=\"31.2258\"/>\n",
       "<text text-anchor=\"middle\" x=\"180.2406\" y=\"-91.8132\" font-family=\"Times,serif\" font-size=\"14.00\" fill=\"#000000\">です</text>\n",
       "</g>\n",
       "<!-- 高校生&#45;&gt;です -->\n",
       "<g id=\"edge4\" class=\"edge\">\n",
       "<title>高校生&#45;&gt;です</title>\n",
       "<path fill=\"none\" stroke=\"#000000\" d=\"M81.6571,-79.7599C99.7228,-82.2252 120.9565,-85.1229 139.0816,-87.5964\"/>\n",
       "<polygon fill=\"#000000\" stroke=\"#000000\" points=\"138.6867,-91.0749 149.0682,-88.9592 139.6333,-84.1391 138.6867,-91.0749\"/>\n",
       "<text text-anchor=\"middle\" x=\"115.5761\" y=\"-89.0132\" font-family=\"Times,serif\" font-size=\"14.00\" fill=\"#000000\">cop</text>\n",
       "</g>\n",
       "<!-- 。 -->\n",
       "<g id=\"node5\" class=\"node\">\n",
       "<title>。</title>\n",
       "<ellipse fill=\"none\" stroke=\"#000000\" cx=\"180.2406\" cy=\"-21.2132\" rx=\"21.4286\" ry=\"21.4286\"/>\n",
       "<text text-anchor=\"middle\" x=\"180.2406\" y=\"-19.8132\" font-family=\"Times,serif\" font-size=\"14.00\" fill=\"#000000\">。</text>\n",
       "</g>\n",
       "<!-- 高校生&#45;&gt;。 -->\n",
       "<g id=\"edge5\" class=\"edge\">\n",
       "<title>高校生&#45;&gt;。</title>\n",
       "<path fill=\"none\" stroke=\"#000000\" d=\"M79.4255,-59.5904C101.9752,-51.0064 130.0321,-40.326 150.8178,-32.4136\"/>\n",
       "<polygon fill=\"#000000\" stroke=\"#000000\" points=\"152.281,-35.6017 160.3816,-28.7729 149.7906,-29.0596 152.281,-35.6017\"/>\n",
       "<text text-anchor=\"middle\" x=\"115.5761\" y=\"-54.0132\" font-family=\"Times,serif\" font-size=\"14.00\" fill=\"#000000\">punct</text>\n",
       "</g>\n",
       "<!-- 。&#45;&gt;高校生 -->\n",
       "<g id=\"edge3\" class=\"edge\">\n",
       "<title>。&#45;&gt;高校生</title>\n",
       "<path fill=\"none\" stroke=\"#000000\" d=\"M159.3764,-16.7916C142.725,-14.2296 119.1083,-12.7994 100.0244,-20.2132 91.0885,-23.6846 82.6808,-29.2104 75.1663,-35.4302\"/>\n",
       "<polygon fill=\"#000000\" stroke=\"#000000\" points=\"72.505,-33.1144 67.38,-42.3873 77.169,-38.3343 72.505,-33.1144\"/>\n",
       "<text text-anchor=\"middle\" x=\"115.5761\" y=\"-23.0132\" font-family=\"Times,serif\" font-size=\"14.00\" fill=\"#000000\">root</text>\n",
       "</g>\n",
       "</g>\n",
       "</svg>\n"
      ],
      "text/plain": [
       "<graphviz.dot.Digraph at 0x148163f60>"
      ]
     },
     "execution_count": 2,
     "metadata": {},
     "output_type": "execute_result"
    }
   ],
   "source": [
    "from sagas.nlu.corenlp_helper import CoreNlp, CoreNlpViz, langs\n",
    "nlp_ja=langs['ja']()\n",
    "ana=lambda sents: CoreNlpViz().analyse(sents, nlp_ja)\n",
    "ana('私は高校生です。')"
   ]
  },
  {
   "cell_type": "code",
   "execution_count": 4,
   "metadata": {
    "ExecuteTime": {
     "end_time": "2019-07-19T05:44:29.255598Z",
     "start_time": "2019-07-19T05:44:29.029205Z"
    }
   },
   "outputs": [
    {
     "name": "stdout",
     "output_type": "stream",
     "text": [
      "text: 私 \tlemma: 私\tupos: PRON\txpos: _\n",
      "text: は \tlemma: は\tupos: ADP\txpos: _\n",
      "text: ドイツ \tlemma: ドイツ\tupos: PROPN\txpos: _\n",
      "text: 出身 \tlemma: 出身\tupos: NOUN\txpos: _\n",
      "text: です \tlemma: だ\tupos: AUX\txpos: _\n",
      "('私', '4', 'nsubj')\n",
      "('は', '1', 'case')\n",
      "('ドイツ', '4', 'compound')\n",
      "('出身', '0', 'root')\n",
      "('です', '4', 'cop')\n"
     ]
    },
    {
     "data": {
      "image/svg+xml": [
       "<?xml version=\"1.0\" encoding=\"UTF-8\" standalone=\"no\"?>\n",
       "<!DOCTYPE svg PUBLIC \"-//W3C//DTD SVG 1.1//EN\"\n",
       " \"http://www.w3.org/Graphics/SVG/1.1/DTD/svg11.dtd\">\n",
       "<!-- Generated by graphviz version 2.40.1 (20161225.0304)\n",
       " -->\n",
       "<!-- Title: deps Pages: 1 -->\n",
       "<svg width=\"350pt\" height=\"230pt\"\n",
       " viewBox=\"0.00 0.00 349.87 230.33\" xmlns=\"http://www.w3.org/2000/svg\" xmlns:xlink=\"http://www.w3.org/1999/xlink\">\n",
       "<g id=\"graph0\" class=\"graph\" transform=\"scale(1 1) rotate(0) translate(4 226.3259)\">\n",
       "<title>deps</title>\n",
       "<polygon fill=\"#ffffff\" stroke=\"transparent\" points=\"-4,4 -4,-226.3259 345.8695,-226.3259 345.8695,4 -4,4\"/>\n",
       "<!-- 私 -->\n",
       "<g id=\"node1\" class=\"node\">\n",
       "<title>私</title>\n",
       "<ellipse fill=\"none\" stroke=\"#000000\" cx=\"198.3411\" cy=\"-201.1127\" rx=\"21.4286\" ry=\"21.4286\"/>\n",
       "<text text-anchor=\"middle\" x=\"198.3411\" y=\"-199.7127\" font-family=\"Times,serif\" font-size=\"14.00\" fill=\"#000000\">私</text>\n",
       "</g>\n",
       "<!-- は -->\n",
       "<g id=\"node2\" class=\"node\">\n",
       "<title>は</title>\n",
       "<ellipse fill=\"none\" stroke=\"#000000\" cx=\"320.6563\" cy=\"-201.1127\" rx=\"21.4286\" ry=\"21.4286\"/>\n",
       "<text text-anchor=\"middle\" x=\"320.6563\" y=\"-199.7127\" font-family=\"Times,serif\" font-size=\"14.00\" fill=\"#000000\">は</text>\n",
       "</g>\n",
       "<!-- 私&#45;&gt;は -->\n",
       "<g id=\"edge2\" class=\"edge\">\n",
       "<title>私&#45;&gt;は</title>\n",
       "<path fill=\"none\" stroke=\"#000000\" d=\"M219.6468,-201.1127C238.8222,-201.1127 267.2557,-201.1127 289.0744,-201.1127\"/>\n",
       "<polygon fill=\"#000000\" stroke=\"#000000\" points=\"289.1844,-204.6128 299.1844,-201.1127 289.1844,-197.6128 289.1844,-204.6128\"/>\n",
       "<text text-anchor=\"middle\" x=\"269.3982\" y=\"-203.9127\" font-family=\"Times,serif\" font-size=\"14.00\" fill=\"#000000\">case</text>\n",
       "</g>\n",
       "<!-- ドイツ -->\n",
       "<g id=\"node3\" class=\"node\">\n",
       "<title>ドイツ</title>\n",
       "<ellipse fill=\"none\" stroke=\"#000000\" cx=\"198.3411\" cy=\"-121.1127\" rx=\"41.0244\" ry=\"41.0244\"/>\n",
       "<text text-anchor=\"middle\" x=\"198.3411\" y=\"-119.7127\" font-family=\"Times,serif\" font-size=\"14.00\" fill=\"#000000\">ドイツ</text>\n",
       "</g>\n",
       "<!-- 出身 -->\n",
       "<g id=\"node4\" class=\"node\">\n",
       "<title>出身</title>\n",
       "<ellipse fill=\"none\" stroke=\"#000000\" cx=\"31.1127\" cy=\"-98.1127\" rx=\"31.2258\" ry=\"31.2258\"/>\n",
       "<text text-anchor=\"middle\" x=\"31.1127\" y=\"-96.7127\" font-family=\"Times,serif\" font-size=\"14.00\" fill=\"#000000\">出身</text>\n",
       "</g>\n",
       "<!-- 出身&#45;&gt;私 -->\n",
       "<g id=\"edge1\" class=\"edge\">\n",
       "<title>出身&#45;&gt;私</title>\n",
       "<path fill=\"none\" stroke=\"#000000\" d=\"M56.9303,-115.8586C64.3905,-120.8776 72.5823,-126.2855 80.2254,-131.1127 110.8277,-150.4403 146.682,-171.467 170.7916,-185.3774\"/>\n",
       "<polygon fill=\"#000000\" stroke=\"#000000\" points=\"169.3187,-188.5679 179.7321,-190.5202 172.809,-182.5001 169.3187,-188.5679\"/>\n",
       "<text text-anchor=\"middle\" x=\"109.7772\" y=\"-169.9127\" font-family=\"Times,serif\" font-size=\"14.00\" fill=\"#000000\">nsubj</text>\n",
       "</g>\n",
       "<!-- 出身&#45;&gt;ドイツ -->\n",
       "<g id=\"edge3\" class=\"edge\">\n",
       "<title>出身&#45;&gt;ドイツ</title>\n",
       "<path fill=\"none\" stroke=\"#000000\" d=\"M62.1752,-102.3849C86.1506,-105.6824 119.8204,-110.3132 147.6797,-114.1449\"/>\n",
       "<polygon fill=\"#000000\" stroke=\"#000000\" points=\"147.2685,-117.6212 157.6521,-115.5165 148.2223,-110.6865 147.2685,-117.6212\"/>\n",
       "<text text-anchor=\"middle\" x=\"109.7772\" y=\"-115.9127\" font-family=\"Times,serif\" font-size=\"14.00\" fill=\"#000000\">compound</text>\n",
       "</g>\n",
       "<!-- です -->\n",
       "<g id=\"node5\" class=\"node\">\n",
       "<title>です</title>\n",
       "<ellipse fill=\"none\" stroke=\"#000000\" cx=\"198.3411\" cy=\"-31.1127\" rx=\"31.2258\" ry=\"31.2258\"/>\n",
       "<text text-anchor=\"middle\" x=\"198.3411\" y=\"-29.7127\" font-family=\"Times,serif\" font-size=\"14.00\" fill=\"#000000\">です</text>\n",
       "</g>\n",
       "<!-- 出身&#45;&gt;です -->\n",
       "<g id=\"edge5\" class=\"edge\">\n",
       "<title>出身&#45;&gt;です</title>\n",
       "<path fill=\"none\" stroke=\"#000000\" d=\"M60.7392,-87.8386C82.619,-80.0875 113.0393,-68.9677 139.3289,-58.1127 146.2736,-55.2452 153.6047,-52.0395 160.6496,-48.8663\"/>\n",
       "<polygon fill=\"#000000\" stroke=\"#000000\" points=\"162.3698,-51.9286 170.0156,-44.5943 159.4649,-45.5598 162.3698,-51.9286\"/>\n",
       "<text text-anchor=\"middle\" x=\"109.7772\" y=\"-83.9127\" font-family=\"Times,serif\" font-size=\"14.00\" fill=\"#000000\">cop</text>\n",
       "</g>\n",
       "<!-- です&#45;&gt;出身 -->\n",
       "<g id=\"edge4\" class=\"edge\">\n",
       "<title>です&#45;&gt;出身</title>\n",
       "<path fill=\"none\" stroke=\"#000000\" d=\"M167.2856,-28.695C142.4196,-28.0881 107.3388,-30.2994 80.2254,-44.1127 70.8252,-48.9018 62.345,-56.2867 55.1806,-64.0727\"/>\n",
       "<polygon fill=\"#000000\" stroke=\"#000000\" points=\"52.3145,-62.0386 48.4694,-71.9111 57.6319,-66.5912 52.3145,-62.0386\"/>\n",
       "<text text-anchor=\"middle\" x=\"109.7772\" y=\"-46.9127\" font-family=\"Times,serif\" font-size=\"14.00\" fill=\"#000000\">root</text>\n",
       "</g>\n",
       "</g>\n",
       "</svg>\n"
      ],
      "text/plain": [
       "<graphviz.dot.Digraph at 0x10f7f62e8>"
      ]
     },
     "execution_count": 4,
     "metadata": {},
     "output_type": "execute_result"
    }
   ],
   "source": [
    "ana('私はドイツ出身です')"
   ]
  },
  {
   "cell_type": "code",
   "execution_count": 5,
   "metadata": {
    "ExecuteTime": {
     "end_time": "2019-07-19T05:45:36.088374Z",
     "start_time": "2019-07-19T05:45:35.688195Z"
    }
   },
   "outputs": [
    {
     "name": "stdout",
     "output_type": "stream",
     "text": [
      "text: 私達 \tlemma: 私達\tupos: PRON\txpos: _\n",
      "text: は \tlemma: は\tupos: ADP\txpos: _\n",
      "text: 月 \tlemma: 月\tupos: NOUN\txpos: _\n",
      "text: に \tlemma: に\tupos: ADP\txpos: _\n",
      "text: 達する \tlemma: 達する\tupos: VERB\txpos: _\n",
      "text: 。 \tlemma: 。\tupos: PUNCT\txpos: _\n",
      "('私達', '5', 'nsubj')\n",
      "('は', '1', 'case')\n",
      "('月', '5', 'iobj')\n",
      "('に', '3', 'case')\n",
      "('達する', '0', 'root')\n",
      "('。', '5', 'punct')\n"
     ]
    },
    {
     "data": {
      "image/svg+xml": [
       "<?xml version=\"1.0\" encoding=\"UTF-8\" standalone=\"no\"?>\n",
       "<!DOCTYPE svg PUBLIC \"-//W3C//DTD SVG 1.1//EN\"\n",
       " \"http://www.w3.org/Graphics/SVG/1.1/DTD/svg11.dtd\">\n",
       "<!-- Generated by graphviz version 2.40.1 (20161225.0304)\n",
       " -->\n",
       "<!-- Title: deps Pages: 1 -->\n",
       "<svg width=\"322pt\" height=\"193pt\"\n",
       " viewBox=\"0.00 0.00 321.87 193.33\" xmlns=\"http://www.w3.org/2000/svg\" xmlns:xlink=\"http://www.w3.org/1999/xlink\">\n",
       "<g id=\"graph0\" class=\"graph\" transform=\"scale(1 1) rotate(0) translate(4 189.3259)\">\n",
       "<title>deps</title>\n",
       "<polygon fill=\"#ffffff\" stroke=\"transparent\" points=\"-4,4 -4,-189.3259 317.8695,-189.3259 317.8695,4 -4,4\"/>\n",
       "<!-- 私達 -->\n",
       "<g id=\"node1\" class=\"node\">\n",
       "<title>私達</title>\n",
       "<ellipse fill=\"none\" stroke=\"#000000\" cx=\"180.2406\" cy=\"-154.2132\" rx=\"31.2258\" ry=\"31.2258\"/>\n",
       "<text text-anchor=\"middle\" x=\"180.2406\" y=\"-152.8132\" font-family=\"Times,serif\" font-size=\"14.00\" fill=\"#000000\">私達</text>\n",
       "</g>\n",
       "<!-- は -->\n",
       "<g id=\"node2\" class=\"node\">\n",
       "<title>は</title>\n",
       "<ellipse fill=\"none\" stroke=\"#000000\" cx=\"292.6563\" cy=\"-154.2132\" rx=\"21.4286\" ry=\"21.4286\"/>\n",
       "<text text-anchor=\"middle\" x=\"292.6563\" y=\"-152.8132\" font-family=\"Times,serif\" font-size=\"14.00\" fill=\"#000000\">は</text>\n",
       "</g>\n",
       "<!-- 私達&#45;&gt;は -->\n",
       "<g id=\"edge2\" class=\"edge\">\n",
       "<title>私達&#45;&gt;は</title>\n",
       "<path fill=\"none\" stroke=\"#000000\" d=\"M211.5547,-154.2132C226.968,-154.2132 245.511,-154.2132 260.9738,-154.2132\"/>\n",
       "<polygon fill=\"#000000\" stroke=\"#000000\" points=\"261.1104,-157.7133 271.1103,-154.2132 261.1103,-150.7133 261.1104,-157.7133\"/>\n",
       "<text text-anchor=\"middle\" x=\"241.3982\" y=\"-157.0132\" font-family=\"Times,serif\" font-size=\"14.00\" fill=\"#000000\">case</text>\n",
       "</g>\n",
       "<!-- 月 -->\n",
       "<g id=\"node3\" class=\"node\">\n",
       "<title>月</title>\n",
       "<ellipse fill=\"none\" stroke=\"#000000\" cx=\"180.2406\" cy=\"-84.2132\" rx=\"21.4286\" ry=\"21.4286\"/>\n",
       "<text text-anchor=\"middle\" x=\"180.2406\" y=\"-82.8132\" font-family=\"Times,serif\" font-size=\"14.00\" fill=\"#000000\">月</text>\n",
       "</g>\n",
       "<!-- に -->\n",
       "<g id=\"node4\" class=\"node\">\n",
       "<title>に</title>\n",
       "<ellipse fill=\"none\" stroke=\"#000000\" cx=\"292.6563\" cy=\"-84.2132\" rx=\"21.4286\" ry=\"21.4286\"/>\n",
       "<text text-anchor=\"middle\" x=\"292.6563\" y=\"-82.8132\" font-family=\"Times,serif\" font-size=\"14.00\" fill=\"#000000\">に</text>\n",
       "</g>\n",
       "<!-- 月&#45;&gt;に -->\n",
       "<g id=\"edge4\" class=\"edge\">\n",
       "<title>月&#45;&gt;に</title>\n",
       "<path fill=\"none\" stroke=\"#000000\" d=\"M201.6497,-84.2132C218.5273,-84.2132 242.3061,-84.2132 261.3247,-84.2132\"/>\n",
       "<polygon fill=\"#000000\" stroke=\"#000000\" points=\"261.3269,-87.7133 271.3269,-84.2132 261.3269,-80.7133 261.3269,-87.7133\"/>\n",
       "<text text-anchor=\"middle\" x=\"241.3982\" y=\"-87.0132\" font-family=\"Times,serif\" font-size=\"14.00\" fill=\"#000000\">case</text>\n",
       "</g>\n",
       "<!-- 達する -->\n",
       "<g id=\"node5\" class=\"node\">\n",
       "<title>達する</title>\n",
       "<ellipse fill=\"none\" stroke=\"#000000\" cx=\"41.0122\" cy=\"-69.2132\" rx=\"41.0244\" ry=\"41.0244\"/>\n",
       "<text text-anchor=\"middle\" x=\"41.0122\" y=\"-67.8132\" font-family=\"Times,serif\" font-size=\"14.00\" fill=\"#000000\">達する</text>\n",
       "</g>\n",
       "<!-- 達する&#45;&gt;私達 -->\n",
       "<g id=\"edge1\" class=\"edge\">\n",
       "<title>達する&#45;&gt;私達</title>\n",
       "<path fill=\"none\" stroke=\"#000000\" d=\"M76.1454,-90.6623C97.1507,-103.4862 123.7594,-119.731 144.8162,-132.5863\"/>\n",
       "<polygon fill=\"#000000\" stroke=\"#000000\" points=\"143.1092,-135.6449 153.4681,-137.8684 146.7567,-129.6703 143.1092,-135.6449\"/>\n",
       "<text text-anchor=\"middle\" x=\"115.5761\" y=\"-124.0132\" font-family=\"Times,serif\" font-size=\"14.00\" fill=\"#000000\">nsubj</text>\n",
       "</g>\n",
       "<!-- 達する&#45;&gt;月 -->\n",
       "<g id=\"edge3\" class=\"edge\">\n",
       "<title>達する&#45;&gt;月</title>\n",
       "<path fill=\"none\" stroke=\"#000000\" d=\"M82.0323,-73.6326C103.382,-75.9327 129.0748,-78.7008 148.8254,-80.8286\"/>\n",
       "<polygon fill=\"#000000\" stroke=\"#000000\" points=\"148.5214,-84.3161 158.8388,-81.9074 149.2713,-77.3563 148.5214,-84.3161\"/>\n",
       "<text text-anchor=\"middle\" x=\"115.5761\" y=\"-81.0132\" font-family=\"Times,serif\" font-size=\"14.00\" fill=\"#000000\">iobj</text>\n",
       "</g>\n",
       "<!-- 。 -->\n",
       "<g id=\"node6\" class=\"node\">\n",
       "<title>。</title>\n",
       "<ellipse fill=\"none\" stroke=\"#000000\" cx=\"180.2406\" cy=\"-21.2132\" rx=\"21.4286\" ry=\"21.4286\"/>\n",
       "<text text-anchor=\"middle\" x=\"180.2406\" y=\"-19.8132\" font-family=\"Times,serif\" font-size=\"14.00\" fill=\"#000000\">。</text>\n",
       "</g>\n",
       "<!-- 達する&#45;&gt;。 -->\n",
       "<g id=\"edge6\" class=\"edge\">\n",
       "<title>達する&#45;&gt;。</title>\n",
       "<path fill=\"none\" stroke=\"#000000\" d=\"M79.7951,-55.8425C102.1987,-48.1187 129.9412,-38.5543 150.5901,-31.4354\"/>\n",
       "<polygon fill=\"#000000\" stroke=\"#000000\" points=\"151.7894,-34.7242 160.1025,-28.156 149.5078,-28.1065 151.7894,-34.7242\"/>\n",
       "<text text-anchor=\"middle\" x=\"115.5761\" y=\"-51.0132\" font-family=\"Times,serif\" font-size=\"14.00\" fill=\"#000000\">punct</text>\n",
       "</g>\n",
       "<!-- 。&#45;&gt;達する -->\n",
       "<g id=\"edge5\" class=\"edge\">\n",
       "<title>。&#45;&gt;達する</title>\n",
       "<path fill=\"none\" stroke=\"#000000\" d=\"M159.7431,-14.9144C143.0906,-10.9035 119.2903,-7.7287 100.0244,-15.2132 91.0885,-18.6846 82.6808,-24.2104 75.1663,-30.4302\"/>\n",
       "<polygon fill=\"#000000\" stroke=\"#000000\" points=\"72.505,-28.1144 67.38,-37.3873 77.169,-33.3343 72.505,-28.1144\"/>\n",
       "<text text-anchor=\"middle\" x=\"115.5761\" y=\"-18.0132\" font-family=\"Times,serif\" font-size=\"14.00\" fill=\"#000000\">root</text>\n",
       "</g>\n",
       "</g>\n",
       "</svg>\n"
      ],
      "text/plain": [
       "<graphviz.dot.Digraph at 0x10f7f6cc0>"
      ]
     },
     "execution_count": 5,
     "metadata": {},
     "output_type": "execute_result"
    }
   ],
   "source": [
    "ana('b')"
   ]
  },
  {
   "cell_type": "code",
   "execution_count": 6,
   "metadata": {
    "ExecuteTime": {
     "end_time": "2019-07-19T06:18:15.559305Z",
     "start_time": "2019-07-19T06:18:15.329698Z"
    }
   },
   "outputs": [
    {
     "name": "stdout",
     "output_type": "stream",
     "text": [
      "text: 私たち \tlemma: 私たち\tupos: PRON\txpos: _\n",
      "text: は \tlemma: は\tupos: ADP\txpos: _\n",
      "text: すべて \tlemma: すべて\tupos: NOUN\txpos: _\n",
      "text: を \tlemma: を\tupos: ADP\txpos: _\n",
      "text: 可能 \tlemma: 可能\tupos: ADJ\txpos: _\n",
      "text: に \tlemma: だ\tupos: AUX\txpos: _\n",
      "text: し \tlemma: する\tupos: AUX\txpos: _\n",
      "text: ます \tlemma: ます\tupos: AUX\txpos: _\n",
      "text: 。 \tlemma: 。\tupos: PUNCT\txpos: _\n",
      "('私たち', '5', 'nsubj')\n",
      "('は', '1', 'case')\n",
      "('すべて', '5', 'obj')\n",
      "('を', '3', 'case')\n",
      "('可能', '0', 'root')\n",
      "('に', '5', 'aux')\n",
      "('し', '5', 'aux')\n",
      "('ます', '5', 'aux')\n",
      "('。', '5', 'punct')\n"
     ]
    },
    {
     "data": {
      "image/svg+xml": [
       "<?xml version=\"1.0\" encoding=\"UTF-8\" standalone=\"no\"?>\n",
       "<!DOCTYPE svg PUBLIC \"-//W3C//DTD SVG 1.1//EN\"\n",
       " \"http://www.w3.org/Graphics/SVG/1.1/DTD/svg11.dtd\">\n",
       "<!-- Generated by graphviz version 2.40.1 (20161225.0304)\n",
       " -->\n",
       "<!-- Title: deps Pages: 1 -->\n",
       "<svg width=\"257pt\" height=\"360pt\"\n",
       " viewBox=\"0.00 0.00 257.37 360.00\" xmlns=\"http://www.w3.org/2000/svg\" xmlns:xlink=\"http://www.w3.org/1999/xlink\">\n",
       "<g id=\"graph0\" class=\"graph\" transform=\"scale(.7996 .7996) rotate(0) translate(4 446.2254)\">\n",
       "<title>deps</title>\n",
       "<polygon fill=\"#ffffff\" stroke=\"transparent\" points=\"-4,4 -4,-446.2254 317.8695,-446.2254 317.8695,4 -4,4\"/>\n",
       "<!-- 私たち -->\n",
       "<g id=\"node1\" class=\"node\">\n",
       "<title>私たち</title>\n",
       "<ellipse fill=\"none\" stroke=\"#000000\" cx=\"170.3411\" cy=\"-401.2132\" rx=\"41.0244\" ry=\"41.0244\"/>\n",
       "<text text-anchor=\"middle\" x=\"170.3411\" y=\"-399.8132\" font-family=\"Times,serif\" font-size=\"14.00\" fill=\"#000000\">私たち</text>\n",
       "</g>\n",
       "<!-- は -->\n",
       "<g id=\"node2\" class=\"node\">\n",
       "<title>は</title>\n",
       "<ellipse fill=\"none\" stroke=\"#000000\" cx=\"292.6563\" cy=\"-401.2132\" rx=\"21.4286\" ry=\"21.4286\"/>\n",
       "<text text-anchor=\"middle\" x=\"292.6563\" y=\"-399.8132\" font-family=\"Times,serif\" font-size=\"14.00\" fill=\"#000000\">は</text>\n",
       "</g>\n",
       "<!-- 私たち&#45;&gt;は -->\n",
       "<g id=\"edge2\" class=\"edge\">\n",
       "<title>私たち&#45;&gt;は</title>\n",
       "<path fill=\"none\" stroke=\"#000000\" d=\"M211.4106,-401.2132C227.6062,-401.2132 245.9162,-401.2132 261.0487,-401.2132\"/>\n",
       "<polygon fill=\"#000000\" stroke=\"#000000\" points=\"261.4304,-404.7133 271.4303,-401.2132 261.4303,-397.7133 261.4304,-404.7133\"/>\n",
       "<text text-anchor=\"middle\" x=\"241.3982\" y=\"-404.0132\" font-family=\"Times,serif\" font-size=\"14.00\" fill=\"#000000\">case</text>\n",
       "</g>\n",
       "<!-- すべて -->\n",
       "<g id=\"node3\" class=\"node\">\n",
       "<title>すべて</title>\n",
       "<ellipse fill=\"none\" stroke=\"#000000\" cx=\"170.3411\" cy=\"-301.2132\" rx=\"41.0244\" ry=\"41.0244\"/>\n",
       "<text text-anchor=\"middle\" x=\"170.3411\" y=\"-299.8132\" font-family=\"Times,serif\" font-size=\"14.00\" fill=\"#000000\">すべて</text>\n",
       "</g>\n",
       "<!-- を -->\n",
       "<g id=\"node4\" class=\"node\">\n",
       "<title>を</title>\n",
       "<ellipse fill=\"none\" stroke=\"#000000\" cx=\"292.6563\" cy=\"-301.2132\" rx=\"21.4286\" ry=\"21.4286\"/>\n",
       "<text text-anchor=\"middle\" x=\"292.6563\" y=\"-299.8132\" font-family=\"Times,serif\" font-size=\"14.00\" fill=\"#000000\">を</text>\n",
       "</g>\n",
       "<!-- すべて&#45;&gt;を -->\n",
       "<g id=\"edge4\" class=\"edge\">\n",
       "<title>すべて&#45;&gt;を</title>\n",
       "<path fill=\"none\" stroke=\"#000000\" d=\"M211.4106,-301.2132C227.6062,-301.2132 245.9162,-301.2132 261.0487,-301.2132\"/>\n",
       "<polygon fill=\"#000000\" stroke=\"#000000\" points=\"261.4304,-304.7133 271.4303,-301.2132 261.4303,-297.7133 261.4304,-304.7133\"/>\n",
       "<text text-anchor=\"middle\" x=\"241.3982\" y=\"-304.0132\" font-family=\"Times,serif\" font-size=\"14.00\" fill=\"#000000\">case</text>\n",
       "</g>\n",
       "<!-- 可能 -->\n",
       "<g id=\"node5\" class=\"node\">\n",
       "<title>可能</title>\n",
       "<ellipse fill=\"none\" stroke=\"#000000\" cx=\"31.1127\" cy=\"-161.2132\" rx=\"31.2258\" ry=\"31.2258\"/>\n",
       "<text text-anchor=\"middle\" x=\"31.1127\" y=\"-159.8132\" font-family=\"Times,serif\" font-size=\"14.00\" fill=\"#000000\">可能</text>\n",
       "</g>\n",
       "<!-- 可能&#45;&gt;私たち -->\n",
       "<g id=\"edge1\" class=\"edge\">\n",
       "<title>可能&#45;&gt;私たち</title>\n",
       "<path fill=\"none\" stroke=\"#000000\" d=\"M43.4783,-190.0583C60.4445,-228.3302 93.0023,-297.3332 129.3289,-351.2132 131.7963,-354.8728 134.473,-358.5875 137.2366,-362.2542\"/>\n",
       "<polygon fill=\"#000000\" stroke=\"#000000\" points=\"134.4806,-364.4117 143.3777,-370.1642 140.0098,-360.1189 134.4806,-364.4117\"/>\n",
       "<text text-anchor=\"middle\" x=\"95.7772\" y=\"-324.0132\" font-family=\"Times,serif\" font-size=\"14.00\" fill=\"#000000\">nsubj</text>\n",
       "</g>\n",
       "<!-- 可能&#45;&gt;すべて -->\n",
       "<g id=\"edge3\" class=\"edge\">\n",
       "<title>可能&#45;&gt;すべて</title>\n",
       "<path fill=\"none\" stroke=\"#000000\" d=\"M52.4314,-184.1843C60.9891,-193.3001 70.9957,-203.8284 80.2254,-213.2132 97.3781,-230.6543 116.7478,-249.6563 133.1216,-265.5247\"/>\n",
       "<polygon fill=\"#000000\" stroke=\"#000000\" points=\"130.7936,-268.1423 140.4152,-272.5782 135.6599,-263.1105 130.7936,-268.1423\"/>\n",
       "<text text-anchor=\"middle\" x=\"95.7772\" y=\"-246.0132\" font-family=\"Times,serif\" font-size=\"14.00\" fill=\"#000000\">obj</text>\n",
       "</g>\n",
       "<!-- に -->\n",
       "<g id=\"node6\" class=\"node\">\n",
       "<title>に</title>\n",
       "<ellipse fill=\"none\" stroke=\"#000000\" cx=\"170.3411\" cy=\"-221.2132\" rx=\"21.4286\" ry=\"21.4286\"/>\n",
       "<text text-anchor=\"middle\" x=\"170.3411\" y=\"-219.8132\" font-family=\"Times,serif\" font-size=\"14.00\" fill=\"#000000\">に</text>\n",
       "</g>\n",
       "<!-- 可能&#45;&gt;に -->\n",
       "<g id=\"edge6\" class=\"edge\">\n",
       "<title>可能&#45;&gt;に</title>\n",
       "<path fill=\"none\" stroke=\"#000000\" d=\"M59.9609,-173.6452C83.7626,-183.9025 117.3812,-198.3903 141.2495,-208.6763\"/>\n",
       "<polygon fill=\"#000000\" stroke=\"#000000\" points=\"139.9399,-211.923 150.5086,-212.6665 142.7103,-205.4946 139.9399,-211.923\"/>\n",
       "<text text-anchor=\"middle\" x=\"95.7772\" y=\"-198.0132\" font-family=\"Times,serif\" font-size=\"14.00\" fill=\"#000000\">aux</text>\n",
       "</g>\n",
       "<!-- し -->\n",
       "<g id=\"node7\" class=\"node\">\n",
       "<title>し</title>\n",
       "<ellipse fill=\"none\" stroke=\"#000000\" cx=\"170.3411\" cy=\"-161.2132\" rx=\"21.4286\" ry=\"21.4286\"/>\n",
       "<text text-anchor=\"middle\" x=\"170.3411\" y=\"-159.8132\" font-family=\"Times,serif\" font-size=\"14.00\" fill=\"#000000\">し</text>\n",
       "</g>\n",
       "<!-- 可能&#45;&gt;し -->\n",
       "<g id=\"edge7\" class=\"edge\">\n",
       "<title>可能&#45;&gt;し</title>\n",
       "<path fill=\"none\" stroke=\"#000000\" d=\"M62.3583,-161.2132C85.0601,-161.2132 115.6787,-161.2132 138.5142,-161.2132\"/>\n",
       "<polygon fill=\"#000000\" stroke=\"#000000\" points=\"138.7156,-164.7133 148.7156,-161.2132 138.7156,-157.7133 138.7156,-164.7133\"/>\n",
       "<text text-anchor=\"middle\" x=\"95.7772\" y=\"-164.0132\" font-family=\"Times,serif\" font-size=\"14.00\" fill=\"#000000\">aux</text>\n",
       "</g>\n",
       "<!-- ます -->\n",
       "<g id=\"node8\" class=\"node\">\n",
       "<title>ます</title>\n",
       "<ellipse fill=\"none\" stroke=\"#000000\" cx=\"170.3411\" cy=\"-91.2132\" rx=\"31.2258\" ry=\"31.2258\"/>\n",
       "<text text-anchor=\"middle\" x=\"170.3411\" y=\"-89.8132\" font-family=\"Times,serif\" font-size=\"14.00\" fill=\"#000000\">ます</text>\n",
       "</g>\n",
       "<!-- 可能&#45;&gt;ます -->\n",
       "<g id=\"edge8\" class=\"edge\">\n",
       "<title>可能&#45;&gt;ます</title>\n",
       "<path fill=\"none\" stroke=\"#000000\" d=\"M58.953,-147.2159C80.156,-136.5556 109.5635,-121.7704 132.8383,-110.0685\"/>\n",
       "<polygon fill=\"#000000\" stroke=\"#000000\" points=\"134.7096,-113.0452 142.0718,-105.4262 131.5653,-106.7911 134.7096,-113.0452\"/>\n",
       "<text text-anchor=\"middle\" x=\"95.7772\" y=\"-138.0132\" font-family=\"Times,serif\" font-size=\"14.00\" fill=\"#000000\">aux</text>\n",
       "</g>\n",
       "<!-- 。 -->\n",
       "<g id=\"node9\" class=\"node\">\n",
       "<title>。</title>\n",
       "<ellipse fill=\"none\" stroke=\"#000000\" cx=\"170.3411\" cy=\"-21.2132\" rx=\"21.4286\" ry=\"21.4286\"/>\n",
       "<text text-anchor=\"middle\" x=\"170.3411\" y=\"-19.8132\" font-family=\"Times,serif\" font-size=\"14.00\" fill=\"#000000\">。</text>\n",
       "</g>\n",
       "<!-- 可能&#45;&gt;。 -->\n",
       "<g id=\"edge9\" class=\"edge\">\n",
       "<title>可能&#45;&gt;。</title>\n",
       "<path fill=\"none\" stroke=\"#000000\" d=\"M50.3496,-136.5778C69.1714,-113.2606 99.311,-77.9444 129.3289,-51.2132 133.9715,-47.0789 139.1658,-42.9475 144.2563,-39.1307\"/>\n",
       "<polygon fill=\"#000000\" stroke=\"#000000\" points=\"146.5782,-41.7699 152.6094,-33.0593 142.4626,-36.1076 146.5782,-41.7699\"/>\n",
       "<text text-anchor=\"middle\" x=\"95.7772\" y=\"-103.0132\" font-family=\"Times,serif\" font-size=\"14.00\" fill=\"#000000\">punct</text>\n",
       "</g>\n",
       "<!-- 。&#45;&gt;可能 -->\n",
       "<g id=\"edge5\" class=\"edge\">\n",
       "<title>。&#45;&gt;可能</title>\n",
       "<path fill=\"none\" stroke=\"#000000\" d=\"M149.6721,-15.2159C129.944,-10.8178 100.3289,-7.8269 80.2254,-22.2132 63.8164,-33.9557 48.9894,-83.9642 40.0205,-120.6463\"/>\n",
       "<polygon fill=\"#000000\" stroke=\"#000000\" points=\"36.5629,-120.0574 37.6497,-130.5963 43.3722,-121.6799 36.5629,-120.0574\"/>\n",
       "<text text-anchor=\"middle\" x=\"95.7772\" y=\"-25.0132\" font-family=\"Times,serif\" font-size=\"14.00\" fill=\"#000000\">root</text>\n",
       "</g>\n",
       "</g>\n",
       "</svg>\n"
      ],
      "text/plain": [
       "<graphviz.dot.Digraph at 0x10f7f6da0>"
      ]
     },
     "execution_count": 6,
     "metadata": {},
     "output_type": "execute_result"
    }
   ],
   "source": [
    "ana('私たちはすべてを可能にします。')"
   ]
  }
 ],
 "metadata": {
  "kernelspec": {
   "display_name": "Python 3",
   "language": "python",
   "name": "python3"
  },
  "language_info": {
   "codemirror_mode": {
    "name": "ipython",
    "version": 3
   },
   "file_extension": ".py",
   "mimetype": "text/x-python",
   "name": "python",
   "nbconvert_exporter": "python",
   "pygments_lexer": "ipython3",
   "version": "3.6.4"
  },
  "varInspector": {
   "cols": {
    "lenName": 16,
    "lenType": 16,
    "lenVar": 40
   },
   "kernels_config": {
    "python": {
     "delete_cmd_postfix": "",
     "delete_cmd_prefix": "del ",
     "library": "var_list.py",
     "varRefreshCmd": "print(var_dic_list())"
    },
    "r": {
     "delete_cmd_postfix": ") ",
     "delete_cmd_prefix": "rm(",
     "library": "var_list.r",
     "varRefreshCmd": "cat(var_dic_list()) "
    }
   },
   "types_to_exclude": [
    "module",
    "function",
    "builtin_function_or_method",
    "instance",
    "_Feature"
   ],
   "window_display": false
  }
 },
 "nbformat": 4,
 "nbformat_minor": 2
}
