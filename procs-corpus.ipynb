{
 "cells": [
  {
   "cell_type": "code",
   "execution_count": 11,
   "metadata": {
    "ExecuteTime": {
     "end_time": "2019-06-06T12:38:35.595224Z",
     "start_time": "2019-06-06T12:38:35.010565Z"
    }
   },
   "outputs": [],
   "source": [
    "import io_utils\n",
    "corpus_dir=\"/pi/ai/corpus-zh/Chinese-Names-Corpus-master\"\n",
    "rs=[line.strip() for line in io_utils.lines(corpus_dir+'/Chinese_Names_Corpus（120W）.txt')]\n",
    "dataset=rs[3:-1]"
   ]
  },
  {
   "cell_type": "code",
   "execution_count": 12,
   "metadata": {
    "ExecuteTime": {
     "end_time": "2019-06-06T12:38:37.580200Z",
     "start_time": "2019-06-06T12:38:37.573765Z"
    },
    "scrolled": true
   },
   "outputs": [
    {
     "name": "stdout",
     "output_type": "stream",
     "text": [
      "阿安 佐治\n"
     ]
    }
   ],
   "source": [
    "print(dataset[0], dataset[-1])"
   ]
  },
  {
   "cell_type": "code",
   "execution_count": 18,
   "metadata": {
    "ExecuteTime": {
     "end_time": "2019-06-06T12:43:30.507126Z",
     "start_time": "2019-06-06T12:43:30.395705Z"
    }
   },
   "outputs": [
    {
     "name": "stdout",
     "output_type": "stream",
     "text": [
      "pickup [ 697176  287769  393901  388135  867837  249464     241 1028504  981418\n",
      "  302602]\n",
      "['孙风雷' '黄洪基' '李克睿' '李基凯' '肖卫华' '何秀杰' '阿丽亚' '张光汉' '尹家燕' '黄彦玲']\n"
     ]
    }
   ],
   "source": [
    "import numpy\n",
    "\n",
    "total=len(dataset)\n",
    "random_rows = numpy.random.randint(total, size=10)\n",
    "print('pickup', random_rows)\n",
    "array = numpy.array(dataset)\n",
    "print(array[random_rows])"
   ]
  },
  {
   "cell_type": "code",
   "execution_count": 17,
   "metadata": {
    "ExecuteTime": {
     "end_time": "2019-06-09T04:53:13.505953Z",
     "start_time": "2019-06-09T04:53:13.151363Z"
    }
   },
   "outputs": [
    {
     "name": "stdout",
     "output_type": "stream",
     "text": [
      "['价格:', ' 128元']\n",
      "['https://p.qpic.cn/qqumall/0/15435437435c009bbf78be8.jpg/0']\n"
     ]
    }
   ],
   "source": [
    "from bs4 import BeautifulSoup\n",
    "\n",
    "def parse_product(text, verbose=True):\n",
    "    soup = BeautifulSoup(text, 'html.parser')\n",
    "    props=[]\n",
    "    images=[]\n",
    "    for c in soup:\n",
    "        if verbose:\n",
    "            print(c.name,'~', c)\n",
    "        if c.string is not None and len(c.string.strip())>0:\n",
    "            if verbose:\n",
    "                print('\\t@', c.string)\n",
    "            props.append(c.string)\n",
    "    if verbose:\n",
    "        print('** find images')\n",
    "    imgs=soup.find_all('img')\n",
    "    for img in imgs:\n",
    "        if verbose:\n",
    "            print(img)\n",
    "            print('\\t', img['src'])\n",
    "        images.append(img['src'])\n",
    "    return props, images\n",
    "\n",
    "text=\"<img src=\\\"https://p.qpic.cn/qqumall/0/15435437435c009bbf78be8.jpg/0\\\" referrerpolicy=\\\"no-referrer\\\" /><br>\\n        <strong>价格:</strong> 128元\"\n",
    "props, images=parse_product(text, verbose=False)\n",
    "print(props)\n",
    "print(images)"
   ]
  },
  {
   "cell_type": "code",
   "execution_count": 25,
   "metadata": {
    "ExecuteTime": {
     "end_time": "2019-06-09T05:08:59.319793Z",
     "start_time": "2019-06-09T05:08:59.308784Z"
    }
   },
   "outputs": [
    {
     "data": {
      "text/plain": [
       "{'image': 'https://p.qpic.cn/qqumall/0/15435437435c009bbf78be8.jpg/0',\n",
       " '价格:': ' 128元'}"
      ]
     },
     "execution_count": 25,
     "metadata": {},
     "output_type": "execute_result"
    }
   ],
   "source": [
    "def map_list(a):\n",
    "    b = {a[i]: a[i+1] for i in range(0, len(a), 2)}            \n",
    "    return b\n",
    "\n",
    "{**map_list(props), 'image':images[0]}"
   ]
  },
  {
   "cell_type": "code",
   "execution_count": 26,
   "metadata": {
    "ExecuteTime": {
     "end_time": "2019-06-09T05:10:40.019167Z",
     "start_time": "2019-06-09T05:10:40.014137Z"
    }
   },
   "outputs": [],
   "source": [
    "def get_product_attrs(entry):\n",
    "    text=entry['summary']\n",
    "    props, images=parse_product(text, verbose=False)\n",
    "    return {**map_list(props), 'image':images[0]}"
   ]
  },
  {
   "cell_type": "code",
   "execution_count": 8,
   "metadata": {
    "ExecuteTime": {
     "end_time": "2019-06-07T08:58:32.135974Z",
     "start_time": "2019-06-07T08:58:32.126275Z"
    }
   },
   "outputs": [
    {
     "name": "stdout",
     "output_type": "stream",
     "text": [
      "<?xml version=\"1.0\" ?>\n",
      "<entity-engine-xml>\n",
      "\t<mylist id=\"entity-engine-xml_575821\" type=\"list\">\n",
      "\t\t<item id=\"mylist_779952_1\" type=\"str\">foo</item>\n",
      "\t\t<item id=\"mylist_779952_2\" type=\"str\">bar</item>\n",
      "\t\t<item id=\"mylist_779952_3\" type=\"str\">baz</item>\n",
      "\t</mylist>\n",
      "\t<mydict id=\"entity-engine-xml_285283\" type=\"dict\">\n",
      "\t\t<foo id=\"mydict_831929\" type=\"str\">bar</foo>\n",
      "\t\t<baz id=\"mydict_138366\" type=\"int\">1</baz>\n",
      "\t</mydict>\n",
      "\t<ok id=\"entity-engine-xml_784310\" type=\"bool\">True</ok>\n",
      "</entity-engine-xml>\n",
      "\n"
     ]
    }
   ],
   "source": [
    "import dicttoxml\n",
    "from xml.dom.minidom import parseString\n",
    "obj = {u'mylist': [u'foo', u'bar', u'baz'], \n",
    "       u'mydict': {u'foo': u'bar', u'baz': 1}, \n",
    "       u'ok': True}\n",
    "xml_with_ids = dicttoxml.dicttoxml(obj, \n",
    "                                   custom_root='entity-engine-xml',\n",
    "                                   ids=True)\n",
    "print(parseString(xml_with_ids).toprettyxml())"
   ]
  },
  {
   "cell_type": "code",
   "execution_count": 10,
   "metadata": {
    "ExecuteTime": {
     "end_time": "2019-06-07T09:05:10.589273Z",
     "start_time": "2019-06-07T09:05:10.582930Z"
    }
   },
   "outputs": [
    {
     "name": "stdout",
     "output_type": "stream",
     "text": [
      "b'<foo>bar</foo><baz>1</baz>'\n"
     ]
    }
   ],
   "source": [
    "rec={u'foo': u'bar', u'baz': 1}\n",
    "xml_snippet = dicttoxml.dicttoxml(rec, root=False, attr_type=False)\n",
    "print(xml_snippet)"
   ]
  },
  {
   "cell_type": "code",
   "execution_count": 1,
   "metadata": {
    "ExecuteTime": {
     "end_time": "2019-06-07T12:56:33.844404Z",
     "start_time": "2019-06-07T12:56:33.157919Z"
    }
   },
   "outputs": [
    {
     "name": "stdout",
     "output_type": "stream",
     "text": [
      "['UHJvZHVjdDpEZW1vUHJvZHVjdA==', 'UHJvZHVjdDpEZW1vUHJvZHVjdC0x', 'UHJvZHVjdDpEZW1vUHJvZHVjdC0y', 'UHJvZHVjdDpEZW1vUHJvZHVjdC0z', 'UHJvZHVjdEFzc29jOkRlbW9Qcm9kdWN04parRGVtb1Byb2R1Y3QtMuKWq1BST0RVQ1RfVkFSSUFOVOKWqzIwMDYtMDUtMTMgMTI6MDA6MDAuMA==', 'UHJvZHVjdEFzc29jOkRlbW9Qcm9kdWN04parRGVtb1Byb2R1Y3QtMuKWq1BST0RVQ1RfVkFSSUFOVOKWqzIwMDYtMDUtMTMgMTI6MDA6MDAuMA==', 'UHJvZHVjdEFzc29jOkRlbW9Qcm9kdWN04parRGVtb1Byb2R1Y3QtM+KWq1BST0RVQ1RfVkFSSUFOVOKWqzIwMDYtMDUtMTMgMTI6MDA6MDAuMA==', 'UHJvZHVjdFByaWNlOkRlbW9Qcm9kdWN0LTHilqtERUZBVUxUX1BSSUNF4parUFVSQ0hBU0XilqtVU0TilqtfTkFf4parMjAwNi0wNS0xMyAxMjowMDowMC4w', 'UHJvZHVjdFByaWNlOkRlbW9Qcm9kdWN0LTLilqtERUZBVUxUX1BSSUNF4parUFVSQ0hBU0XilqtVU0TilqtfTkFf4parMjAwNi0wNS0xMyAxMjowMDowMC4w', 'UHJvZHVjdFByaWNlOkRlbW9Qcm9kdWN0LTPilqtERUZBVUxUX1BSSUNF4parUFVSQ0hBU0XilqtVU0TilqtfTkFf4parMjAwNi0wNS0xMyAxMjowMDowMC4w']\n"
     ]
    }
   ],
   "source": [
    "import xml.etree.ElementTree as ET\n",
    "from sagas.ofbiz.entity_prefabs import EntityPrefabs\n",
    "xml_file='data/product/ProductPriceTestData.xml'\n",
    "tree = ET.parse(xml_file)\n",
    "root = tree.getroot()\n",
    "ep=EntityPrefabs()\n",
    "record_set, ids=ep.convert_to_record_set(root)\n",
    "print(ids)"
   ]
  },
  {
   "cell_type": "code",
   "execution_count": 8,
   "metadata": {
    "ExecuteTime": {
     "end_time": "2019-06-07T13:04:53.611961Z",
     "start_time": "2019-06-07T13:04:53.528499Z"
    }
   },
   "outputs": [
    {
     "name": "stdout",
     "output_type": "stream",
     "text": [
      "Product\n",
      "\t UHJvZHVjdDpEZW1..\n",
      "Product\n",
      "\t UHJvZHVjdDpEZW1..\n",
      "Product\n",
      "\t UHJvZHVjdDpEZW1..\n",
      "Product\n",
      "\t UHJvZHVjdDpEZW1..\n",
      "ProductAssoc\n",
      "\t UHJvZHVjdEFzc29..\n",
      "ProductAssoc\n",
      "\t UHJvZHVjdEFzc29..\n",
      "ProductAssoc\n",
      "\t UHJvZHVjdEFzc29..\n",
      "ProductPrice\n",
      "\t UHJvZHVjdFByaWN..\n",
      "ProductPrice\n",
      "\t UHJvZHVjdFByaWN..\n",
      "ProductPrice\n",
      "\t UHJvZHVjdFByaWN..\n"
     ]
    }
   ],
   "source": [
    "from values_pb2 import TaStringEntries, TaStringEntriesBatch\n",
    "from sagas.util.string_util import abbrev\n",
    "rs=[]\n",
    "for item in record_set:\n",
    "    rs.append(item[1])\n",
    "    print(item[1].entityName) # TaStringEntries\n",
    "    print('\\t', abbrev(item[0]))\n",
    "batch=TaStringEntriesBatch(records=rs)"
   ]
  },
  {
   "cell_type": "code",
   "execution_count": 10,
   "metadata": {
    "ExecuteTime": {
     "end_time": "2019-06-07T13:05:55.391079Z",
     "start_time": "2019-06-07T13:05:55.385654Z"
    }
   },
   "outputs": [
    {
     "name": "stdout",
     "output_type": "stream",
     "text": [
      "10\n"
     ]
    }
   ],
   "source": [
    "print(len(batch.records))"
   ]
  },
  {
   "cell_type": "code",
   "execution_count": 4,
   "metadata": {
    "ExecuteTime": {
     "end_time": "2019-06-09T05:59:44.963469Z",
     "start_time": "2019-06-09T05:59:44.949321Z"
    }
   },
   "outputs": [
    {
     "data": {
      "text/plain": [
       "'Westore'"
      ]
     },
     "execution_count": 4,
     "metadata": {},
     "output_type": "execute_result"
    }
   ],
   "source": [
    "import json_utils\n",
    "rss_doc=json_utils.read_json_file('./data/rss/westore_new.json')\n",
    "rss_doc['title']"
   ]
  },
  {
   "cell_type": "code",
   "execution_count": 5,
   "metadata": {
    "ExecuteTime": {
     "end_time": "2019-06-09T05:59:47.197797Z",
     "start_time": "2019-06-09T05:59:47.186948Z"
    }
   },
   "outputs": [
    {
     "data": {
      "text/plain": [
       "'2019-06-09 13:59:47.191664'"
      ]
     },
     "execution_count": 5,
     "metadata": {},
     "output_type": "execute_result"
    }
   ],
   "source": [
    "import datetime\n",
    "from dateutil.parser import parse\n",
    "def now():\n",
    "    return datetime.datetime.now().isoformat()\n",
    "def now_jdbc():\n",
    "    return datetime.datetime.now().isoformat(' ')\n",
    "def to_jdbc(dt):\n",
    "    return parse(dt).isoformat(' ')\n",
    "now_jdbc()"
   ]
  },
  {
   "cell_type": "code",
   "execution_count": 15,
   "metadata": {
    "ExecuteTime": {
     "end_time": "2019-06-09T06:46:18.348308Z",
     "start_time": "2019-06-09T06:46:18.339583Z"
    }
   },
   "outputs": [
    {
     "data": {
      "text/plain": [
       "'/product/33154'"
      ]
     },
     "execution_count": 15,
     "metadata": {},
     "output_type": "execute_result"
    }
   ],
   "source": [
    "def extract_id(id):\n",
    "    prefix='&path='\n",
    "    return id[id.index(prefix)+len(prefix):]\n",
    "\n",
    "id=\"https://umall.vip.qq.com/v2/?_wv=1025&_wwv=4&product=32482&path=/product/33154\"\n",
    "extract_id(id)"
   ]
  },
  {
   "cell_type": "code",
   "execution_count": 16,
   "metadata": {
    "ExecuteTime": {
     "end_time": "2019-06-09T06:46:29.229976Z",
     "start_time": "2019-06-09T06:46:29.192294Z"
    }
   },
   "outputs": [
    {
     "name": "stdout",
     "output_type": "stream",
     "text": [
      "[\n",
      "  {\n",
      "    \"productName\": \"微信黄脸OK卫衣\",\n",
      "    \"createdDate\": \"2019-06-09 14:46:29.216305\",\n",
      "    \"lastModifiedDate\": \"2019-06-09 14:46:29.216319\",\n",
      "    \"fromDate\": \"2019-06-01 15:21:31.169197\",\n",
      "    \"isVirtual\": \"N\",\n",
      "    \"productTypeId\": \"FINISHED_GOOD\",\n",
      "    \"productId\": \"/product/35022\",\n",
      "    \"productPricePurposeId\": \"PURCHASE\",\n",
      "    \"price\": 218.0,\n",
      "    \"currencyUomId\": \"CNY\",\n",
      "    \"largeImageUrl\": \"https://p.qpic.cn/qqumall/0/15501366235c65352fb2c0d.jpg/0\"\n",
      "  },\n",
      "  {\n",
      "    \"productName\": \"微信黄脸拉链卫衣\",\n",
      "    \"createdDate\": \"2019-06-09 14:46:29.216782\",\n",
      "    \"lastModifiedDate\": \"2019-06-09 14:46:29.216789\",\n",
      "    \"fromDate\": \"2019-06-01 15:21:31.169210\",\n",
      "    \"isVirtual\": \"N\",\n",
      "    \"productTypeId\": \"FINISHED_GOOD\",\n",
      "    \"productId\": \"/product/34547\",\n",
      "    \"productPricePurposeId\": \"PURCHASE\",\n",
      "    \"price\": 248.0,\n",
      "    \"currencyUomId\": \"CNY\",\n",
      "    \"largeImageUrl\": \"https://p.qpic.cn/qqumall/0/15432226195bfbb55bc49cd.jpg/0\"\n",
      "  },\n",
      "  {\n",
      "    \"productName\": \"微信黄脸长柄雨伞\",\n",
      "    \"createdDate\": \"2019-06-09 14:46:29.217702\",\n",
      "    \"lastModifiedDate\": \"2019-06-09 14:46:29.217712\",\n",
      "    \"fromDate\": \"2019-06-01 15:21:31.169219\",\n",
      "    \"isVirtual\": \"N\",\n",
      "    \"productTypeId\": \"FINISHED_GOOD\",\n",
      "    \"productId\": \"/product/34545\",\n",
      "    \"productPricePurposeId\": \"PURCHASE\",\n",
      "    \"price\": 128.0,\n",
      "    \"currencyUomId\": \"CNY\",\n",
      "    \"largeImageUrl\": \"https://p.qpic.cn/qqumall/0/15432217045bfbb1c88813e.jpg/0\"\n",
      "  },\n",
      "  {\n",
      "    \"productName\": \"微信黄脸晴雨伞\",\n",
      "    \"createdDate\": \"2019-06-09 14:46:29.218090\",\n",
      "    \"lastModifiedDate\": \"2019-06-09 14:46:29.218095\",\n",
      "    \"fromDate\": \"2019-06-01 15:21:31.169227\",\n",
      "    \"isVirtual\": \"N\",\n",
      "    \"productTypeId\": \"FINISHED_GOOD\",\n",
      "    \"productId\": \"/product/34543\",\n",
      "    \"productPricePurposeId\": \"PURCHASE\",\n",
      "    \"price\": 128.0,\n",
      "    \"currencyUomId\": \"CNY\",\n",
      "    \"largeImageUrl\": \"https://p.qpic.cn/qqumall/0/15435437435c009bbf78be8.jpg/0\"\n",
      "  },\n",
      "  {\n",
      "    \"productName\": \"微信长柄雨伞\",\n",
      "    \"createdDate\": \"2019-06-09 14:46:29.218418\",\n",
      "    \"lastModifiedDate\": \"2019-06-09 14:46:29.218423\",\n",
      "    \"fromDate\": \"2019-06-01 15:21:31.169236\",\n",
      "    \"isVirtual\": \"N\",\n",
      "    \"productTypeId\": \"FINISHED_GOOD\",\n",
      "    \"productId\": \"/product/34542\",\n",
      "    \"productPricePurposeId\": \"PURCHASE\",\n",
      "    \"price\": 128.0,\n",
      "    \"currencyUomId\": \"CNY\",\n",
      "    \"largeImageUrl\": \"https://p.qpic.cn/qqumall/0/15432211675bfbafafb557a.jpg/0\"\n",
      "  },\n",
      "  {\n",
      "    \"productName\": \"微信福禄寿喜树脂公仔套装\",\n",
      "    \"createdDate\": \"2019-06-09 14:46:29.218734\",\n",
      "    \"lastModifiedDate\": \"2019-06-09 14:46:29.218739\",\n",
      "    \"fromDate\": \"2019-06-01 15:21:31.169243\",\n",
      "    \"isVirtual\": \"N\",\n",
      "    \"productTypeId\": \"FINISHED_GOOD\",\n",
      "    \"productId\": \"/product/33158\",\n",
      "    \"productPricePurposeId\": \"PURCHASE\",\n",
      "    \"price\": 118.0,\n",
      "    \"currencyUomId\": \"CNY\",\n",
      "    \"largeImageUrl\": \"https://p.qpic.cn/qqumall/0/15410396005bda65f01e2bc.jpg/0\"\n",
      "  },\n",
      "  {\n",
      "    \"productName\": \"微信福禄寿喜毛绒公仔套装\",\n",
      "    \"createdDate\": \"2019-06-09 14:46:29.219169\",\n",
      "    \"lastModifiedDate\": \"2019-06-09 14:46:29.219180\",\n",
      "    \"fromDate\": \"2019-06-01 15:21:31.169251\",\n",
      "    \"isVirtual\": \"N\",\n",
      "    \"productTypeId\": \"FINISHED_GOOD\",\n",
      "    \"productId\": \"/product/33156\",\n",
      "    \"productPricePurposeId\": \"PURCHASE\",\n",
      "    \"price\": 188.0,\n",
      "    \"currencyUomId\": \"CNY\",\n",
      "    \"largeImageUrl\": \"https://p.qpic.cn/qqumall/0/15410389475bda63637beb6.jpg/0\"\n",
      "  },\n",
      "  {\n",
      "    \"productName\": \"微信红包抱枕（含毛毯）\",\n",
      "    \"createdDate\": \"2019-06-09 14:46:29.219638\",\n",
      "    \"lastModifiedDate\": \"2019-06-09 14:46:29.219645\",\n",
      "    \"fromDate\": \"2019-06-01 15:21:31.169259\",\n",
      "    \"isVirtual\": \"N\",\n",
      "    \"productTypeId\": \"FINISHED_GOOD\",\n",
      "    \"productId\": \"/product/33147\",\n",
      "    \"productPricePurposeId\": \"PURCHASE\",\n",
      "    \"price\": 138.0,\n",
      "    \"currencyUomId\": \"CNY\",\n",
      "    \"largeImageUrl\": \"https://p.qpic.cn/qqumall/0/15409818455bd984553c7cb.jpg/0\"\n",
      "  },\n",
      "  {\n",
      "    \"productName\": \"微信黄脸大贴纸\",\n",
      "    \"createdDate\": \"2019-06-09 14:46:29.220000\",\n",
      "    \"lastModifiedDate\": \"2019-06-09 14:46:29.220006\",\n",
      "    \"fromDate\": \"2019-06-01 15:21:31.169267\",\n",
      "    \"isVirtual\": \"N\",\n",
      "    \"productTypeId\": \"FINISHED_GOOD\",\n",
      "    \"productId\": \"/product/33155\",\n",
      "    \"productPricePurposeId\": \"PURCHASE\",\n",
      "    \"price\": 8.0,\n",
      "    \"currencyUomId\": \"CNY\",\n",
      "    \"largeImageUrl\": \"https://p.qpic.cn/qqumall/0/15410383975bda613d64a3e.jpg/0\"\n",
      "  },\n",
      "  {\n",
      "    \"productName\": \"微信小黄脸表情冰箱贴\",\n",
      "    \"createdDate\": \"2019-06-09 14:46:29.220327\",\n",
      "    \"lastModifiedDate\": \"2019-06-09 14:46:29.220331\",\n",
      "    \"fromDate\": \"2019-06-01 15:21:31.169275\",\n",
      "    \"isVirtual\": \"N\",\n",
      "    \"productTypeId\": \"FINISHED_GOOD\",\n",
      "    \"productId\": \"/product/33154\",\n",
      "    \"productPricePurposeId\": \"PURCHASE\",\n",
      "    \"price\": 16.0,\n",
      "    \"currencyUomId\": \"CNY\",\n",
      "    \"largeImageUrl\": \"https://p.qpic.cn/qqumall/0/15410382535bda60ad330fe.jpg/0\"\n",
      "  },\n",
      "  {\n",
      "    \"productName\": \"微信红包拿来手机壳\",\n",
      "    \"createdDate\": \"2019-06-09 14:46:29.220645\",\n",
      "    \"lastModifiedDate\": \"2019-06-09 14:46:29.220650\",\n",
      "    \"fromDate\": \"2019-06-01 15:21:31.169283\",\n",
      "    \"isVirtual\": \"N\",\n",
      "    \"productTypeId\": \"FINISHED_GOOD\",\n",
      "    \"productId\": \"/product/33133\",\n",
      "    \"productPricePurposeId\": \"PURCHASE\",\n",
      "    \"price\": 68.0,\n",
      "    \"currencyUomId\": \"CNY\",\n",
      "    \"largeImageUrl\": \"https://p.qpic.cn/qqumall/0/15409769005bd9710458efb.jpg/0\"\n",
      "  },\n",
      "  {\n",
      "    \"productName\": \"微信LOGO冰箱贴\",\n",
      "    \"createdDate\": \"2019-06-09 14:46:29.220969\",\n",
      "    \"lastModifiedDate\": \"2019-06-09 14:46:29.220975\",\n",
      "    \"fromDate\": \"2019-06-01 15:21:31.169291\",\n",
      "    \"isVirtual\": \"N\",\n",
      "    \"productTypeId\": \"FINISHED_GOOD\",\n",
      "    \"productId\": \"/product/33153\",\n",
      "    \"productPricePurposeId\": \"PURCHASE\",\n",
      "    \"price\": 15.0,\n",
      "    \"currencyUomId\": \"CNY\",\n",
      "    \"largeImageUrl\": \"https://p.qpic.cn/qqumall/0/15410380125bda5fbc3e511.jpg/0\"\n",
      "  },\n",
      "  {\n",
      "    \"productName\": \"微信恭喜发财手机壳\",\n",
      "    \"createdDate\": \"2019-06-09 14:46:29.221294\",\n",
      "    \"lastModifiedDate\": \"2019-06-09 14:46:29.221299\",\n",
      "    \"fromDate\": \"2019-06-01 15:21:31.169299\",\n",
      "    \"isVirtual\": \"N\",\n",
      "    \"productTypeId\": \"FINISHED_GOOD\",\n",
      "    \"productId\": \"/product/33135\",\n",
      "    \"productPricePurposeId\": \"PURCHASE\",\n",
      "    \"price\": 68.0,\n",
      "    \"currencyUomId\": \"CNY\",\n",
      "    \"largeImageUrl\": \"https://p.qpic.cn/qqumall/0/15409778095bd97491853bc.jpg/0\"\n",
      "  },\n",
      "  {\n",
      "    \"productName\": \"微信红包贴纸\",\n",
      "    \"createdDate\": \"2019-06-09 14:46:29.221641\",\n",
      "    \"lastModifiedDate\": \"2019-06-09 14:46:29.221649\",\n",
      "    \"fromDate\": \"2019-06-01 15:21:31.169307\",\n",
      "    \"isVirtual\": \"N\",\n",
      "    \"productTypeId\": \"FINISHED_GOOD\",\n",
      "    \"productId\": \"/product/33159\",\n",
      "    \"productPricePurposeId\": \"PURCHASE\",\n",
      "    \"price\": 10.0,\n",
      "    \"currencyUomId\": \"CNY\",\n",
      "    \"largeImageUrl\": \"https://p.qpic.cn/qqumall/0/15410397575bda668d68805.jpg/0\"\n",
      "  },\n",
      "  {\n",
      "    \"productName\": \"微信黄脸儿童款T-shirt（白）\",\n",
      "    \"createdDate\": \"2019-06-09 14:46:29.222025\",\n",
      "    \"lastModifiedDate\": \"2019-06-09 14:46:29.222031\",\n",
      "    \"fromDate\": \"2019-06-01 15:21:31.169315\",\n",
      "    \"isVirtual\": \"N\",\n",
      "    \"productTypeId\": \"FINISHED_GOOD\",\n",
      "    \"productId\": \"/product/32478\",\n",
      "    \"productPricePurposeId\": \"PURCHASE\",\n",
      "    \"price\": 88.0,\n",
      "    \"currencyUomId\": \"CNY\",\n",
      "    \"largeImageUrl\": \"https://p.qpic.cn/qqumall/0/15405218485bd27f784f052.jpg/0\"\n",
      "  },\n",
      "  {\n",
      "    \"productName\": \"微信LOGO款T-shirt（黑）\",\n",
      "    \"createdDate\": \"2019-06-09 14:46:29.222360\",\n",
      "    \"lastModifiedDate\": \"2019-06-09 14:46:29.222365\",\n",
      "    \"fromDate\": \"2019-06-01 15:21:31.169323\",\n",
      "    \"isVirtual\": \"N\",\n",
      "    \"productTypeId\": \"FINISHED_GOOD\",\n",
      "    \"productId\": \"/product/32475\",\n",
      "    \"productPricePurposeId\": \"PURCHASE\",\n",
      "    \"price\": 98.0,\n",
      "    \"currencyUomId\": \"CNY\",\n",
      "    \"largeImageUrl\": \"https://p.qpic.cn/qqumall/0/15402976045bcf13844da19.jpg/0\"\n",
      "  },\n",
      "  {\n",
      "    \"productName\": \"微信黄脸捂脸款T-shirt（白）\",\n",
      "    \"createdDate\": \"2019-06-09 14:46:29.222682\",\n",
      "    \"lastModifiedDate\": \"2019-06-09 14:46:29.222687\",\n",
      "    \"fromDate\": \"2019-06-01 15:21:31.169335\",\n",
      "    \"isVirtual\": \"N\",\n",
      "    \"productTypeId\": \"FINISHED_GOOD\",\n",
      "    \"productId\": \"/product/32479\",\n",
      "    \"productPricePurposeId\": \"PURCHASE\",\n",
      "    \"price\": 98.0,\n",
      "    \"currencyUomId\": \"CNY\",\n",
      "    \"largeImageUrl\": \"https://p.qpic.cn/qqumall/0/15405217695bd27f29885e5.jpg/0\"\n",
      "  },\n",
      "  {\n",
      "    \"productName\": \"微信LOGO抱枕\",\n",
      "    \"createdDate\": \"2019-06-09 14:46:29.223001\",\n",
      "    \"lastModifiedDate\": \"2019-06-09 14:46:29.223006\",\n",
      "    \"fromDate\": \"2019-06-01 15:21:31.169345\",\n",
      "    \"isVirtual\": \"N\",\n",
      "    \"productTypeId\": \"FINISHED_GOOD\",\n",
      "    \"productId\": \"/product/32492\",\n",
      "    \"productPricePurposeId\": \"PURCHASE\",\n",
      "    \"price\": 116.0,\n",
      "    \"currencyUomId\": \"CNY\",\n",
      "    \"largeImageUrl\": \"https://p.qpic.cn/qqumall/0/15435435625c009b0aa45c4.jpg/0\"\n",
      "  },\n",
      "  {\n",
      "    \"productName\": \"微信气泡狗抱枕（一对装）\",\n",
      "    \"createdDate\": \"2019-06-09 14:46:29.223398\",\n",
      "    \"lastModifiedDate\": \"2019-06-09 14:46:29.223406\",\n",
      "    \"fromDate\": \"2019-06-01 15:21:31.169352\",\n",
      "    \"isVirtual\": \"N\",\n",
      "    \"productTypeId\": \"FINISHED_GOOD\",\n",
      "    \"productId\": \"/product/32491\",\n",
      "    \"productPricePurposeId\": \"PURCHASE\",\n",
      "    \"price\": 116.0,\n",
      "    \"currencyUomId\": \"CNY\",\n",
      "    \"largeImageUrl\": \"https://p.qpic.cn/qqumall/0/15402991815bcf19ad27880.jpg/0\"\n",
      "  },\n",
      "  {\n",
      "    \"productName\": \"微信绿盒子笔记本套装\",\n",
      "    \"createdDate\": \"2019-06-09 14:46:29.223777\",\n",
      "    \"lastModifiedDate\": \"2019-06-09 14:46:29.223782\",\n",
      "    \"fromDate\": \"2019-06-01 15:21:31.169360\",\n",
      "    \"isVirtual\": \"N\",\n",
      "    \"productTypeId\": \"FINISHED_GOOD\",\n",
      "    \"productId\": \"/product/32489\",\n",
      "    \"productPricePurposeId\": \"PURCHASE\",\n",
      "    \"price\": 78.0,\n",
      "    \"currencyUomId\": \"CNY\",\n",
      "    \"largeImageUrl\": \"https://p.qpic.cn/qqumall/0/15402992865bcf1a168331b.jpg/0\"\n",
      "  }\n",
      "]\n"
     ]
    }
   ],
   "source": [
    "from sagas.ofbiz.product.product_data import get_product_attrs\n",
    "from values_pb2 import TaStringEntries, TaStringEntriesBatch\n",
    "product_set=[]\n",
    "for entry in rss_doc['entry']:\n",
    "    # print(entry[\"title@zh\"], entry['published'])\n",
    "    data={}\n",
    "    data['productName']=entry[\"title@zh\"]\n",
    "    data['createdDate']=now_jdbc()\n",
    "    data['lastModifiedDate']=now_jdbc()\n",
    "    data['fromDate']=to_jdbc(entry['published'])\n",
    "    data['isVirtual']='N'\n",
    "    data['productTypeId']=\"FINISHED_GOOD\"\n",
    "    data['productId']=extract_id(entry['id'])\n",
    "    data['productPricePurposeId']=\"PURCHASE\"\n",
    "    # data['priceDetailText']=entry['summary']\n",
    "    attrs=get_product_attrs(entry)\n",
    "    if \"价格:\" in attrs:\n",
    "        data['price']=float(attrs['价格:'].strip().replace('元',''))\n",
    "        data['currencyUomId']='CNY'\n",
    "    if \"image\" in attrs:\n",
    "        data['largeImageUrl']=attrs['image']\n",
    "    product_set.append(data)\n",
    "\n",
    "print(json.dumps(product_set, indent=2, ensure_ascii=False))"
   ]
  },
  {
   "cell_type": "code",
   "execution_count": 10,
   "metadata": {
    "ExecuteTime": {
     "end_time": "2019-06-09T06:43:26.587940Z",
     "start_time": "2019-06-09T06:43:26.571543Z"
    }
   },
   "outputs": [
    {
     "data": {
      "text/plain": [
       "values {\n",
       "  key: \"createdDate\"\n",
       "  value: \"2019-06-09 14:43:22.450174\"\n",
       "}\n",
       "values {\n",
       "  key: \"isVirtual\"\n",
       "  value: \"N\"\n",
       "}\n",
       "values {\n",
       "  key: \"largeImageUrl\"\n",
       "  value: \"https://p.qpic.cn/qqumall/0/15501366235c65352fb2c0d.jpg/0\"\n",
       "}\n",
       "values {\n",
       "  key: \"lastModifiedDate\"\n",
       "  value: \"2019-06-09 14:43:22.450192\"\n",
       "}\n",
       "values {\n",
       "  key: \"productId\"\n",
       "  value: \"https://umall.vip.qq.com/v2/?_wv=1025&_wwv=4&product=32482&path=/product/35022\"\n",
       "}\n",
       "values {\n",
       "  key: \"productName\"\n",
       "  value: \"\\345\\276\\256\\344\\277\\241\\351\\273\\204\\350\\204\\270OK\\345\\215\\253\\350\\241\\243\"\n",
       "}\n",
       "values {\n",
       "  key: \"productTypeId\"\n",
       "  value: \"FINISHED_GOOD\"\n",
       "}\n",
       "entityName: \"Product\""
      ]
     },
     "execution_count": 10,
     "metadata": {},
     "output_type": "execute_result"
    }
   ],
   "source": [
    "def filter_entity(entity_name, props, pickups):\n",
    "    values={}\n",
    "    for p in pickups:\n",
    "        if p in props:\n",
    "            values[p]=str(props[p])\n",
    "    record=TaStringEntries(entityName=entity_name, values=values)\n",
    "    return record\n",
    "filter_entity('Product', product_set[0], ['productName', 'createdDate', \n",
    "                               'lastModifiedDate', 'isVirtual',\n",
    "                              'productTypeId', 'productId',\n",
    "                              'largeImageUrl'])"
   ]
  },
  {
   "cell_type": "code",
   "execution_count": 51,
   "metadata": {
    "ExecuteTime": {
     "end_time": "2019-06-09T05:54:50.516834Z",
     "start_time": "2019-06-09T05:54:50.508734Z"
    }
   },
   "outputs": [
    {
     "data": {
      "text/plain": [
       "values {\n",
       "  key: \"createdDate\"\n",
       "  value: \"2019-06-09 13:46:15.272187\"\n",
       "}\n",
       "values {\n",
       "  key: \"fromDate\"\n",
       "  value: \"2019-06-01 15:21:31.169197\"\n",
       "}\n",
       "values {\n",
       "  key: \"lastModifiedDate\"\n",
       "  value: \"2019-06-09 13:46:15.272202\"\n",
       "}\n",
       "values {\n",
       "  key: \"price\"\n",
       "  value: \"218.0\"\n",
       "}\n",
       "values {\n",
       "  key: \"productId\"\n",
       "  value: \"https://umall.vip.qq.com/v2/?_wv=1025&_wwv=4&product=32482&path=/product/35022\"\n",
       "}\n",
       "values {\n",
       "  key: \"productPricePurposeId\"\n",
       "  value: \"PURCHASE\"\n",
       "}\n",
       "entityName: \"ProductPrice\""
      ]
     },
     "execution_count": 51,
     "metadata": {},
     "output_type": "execute_result"
    }
   ],
   "source": [
    "filter_entity('ProductPrice', product_set[0], ['createdDate', \n",
    "                               'lastModifiedDate', 'fromDate',\n",
    "                              'price', 'productId',\n",
    "                              'productPricePurposeId'])"
   ]
  },
  {
   "cell_type": "code",
   "execution_count": 17,
   "metadata": {
    "ExecuteTime": {
     "end_time": "2019-06-10T04:28:55.643099Z",
     "start_time": "2019-06-10T04:28:55.572592Z"
    }
   },
   "outputs": [
    {
     "data": {
      "text/plain": [
       "values {\n",
       "  key: \"createdDate\"\n",
       "  value: \"2019-06-09 14:46:29.216305\"\n",
       "}\n",
       "values {\n",
       "  key: \"isVirtual\"\n",
       "  value: \"N\"\n",
       "}\n",
       "values {\n",
       "  key: \"largeImageUrl\"\n",
       "  value: \"https://p.qpic.cn/qqumall/0/15501366235c65352fb2c0d.jpg/0\"\n",
       "}\n",
       "values {\n",
       "  key: \"lastModifiedDate\"\n",
       "  value: \"2019-06-09 14:46:29.216319\"\n",
       "}\n",
       "values {\n",
       "  key: \"productId\"\n",
       "  value: \"/product/35022\"\n",
       "}\n",
       "values {\n",
       "  key: \"productName\"\n",
       "  value: \"\\345\\276\\256\\344\\277\\241\\351\\273\\204\\350\\204\\270OK\\345\\215\\253\\350\\241\\243\"\n",
       "}\n",
       "values {\n",
       "  key: \"productTypeId\"\n",
       "  value: \"FINISHED_GOOD\"\n",
       "}\n",
       "entityName: \"ProductPrice\""
      ]
     },
     "execution_count": 17,
     "metadata": {},
     "output_type": "execute_result"
    }
   ],
   "source": [
    "import sagas.ofbiz.entities as ee\n",
    "ent=ee.entity('Product')\n",
    "filter_entity('ProductPrice', product_set[0], ent.field_names)"
   ]
  },
  {
   "cell_type": "code",
   "execution_count": 4,
   "metadata": {
    "ExecuteTime": {
     "end_time": "2019-10-18T22:41:17.184987Z",
     "start_time": "2019-10-18T22:41:17.161705Z"
    }
   },
   "outputs": [
    {
     "name": "stdout",
     "output_type": "stream",
     "text": [
      "Chtěl bych nějaký předkrm.\n",
      "['Chtěl bych nějaký předkrm.']\n"
     ]
    }
   ],
   "source": [
    "sents='Chtěl / chtěla bych nějaký předkrm.'\n",
    "if '/' in sents:\n",
    "    sents=sents.replace(' / ', '/')\n",
    "    words=[w.split('/')[0] for w in sents.split(' ')]\n",
    "    sents=' '.join(words)\n",
    "print(sents)\n",
    "tokens = re.split(r\"([.!?]) /\", sents)\n",
    "print(tokens)"
   ]
  },
  {
   "cell_type": "code",
   "execution_count": 7,
   "metadata": {
    "ExecuteTime": {
     "end_time": "2019-10-18T22:46:44.373273Z",
     "start_time": "2019-10-18T22:46:44.349260Z"
    }
   },
   "outputs": [
    {
     "name": "stdout",
     "output_type": "stream",
     "text": [
      "Chtěl bych nějaký předkrm.\n",
      "Máte oheň ?\n"
     ]
    }
   ],
   "source": [
    "import re\n",
    "text='Máte oheň? / Můžete mi připálit?'\n",
    "\n",
    "def alternate(sents):\n",
    "    if '/' in sents:\n",
    "        tokens = re.split(r\"([.!?]) /\", sents)\n",
    "        if len(tokens)>1:\n",
    "            sents=' '.join(tokens[0:2])\n",
    "        else:\n",
    "            sents=sents.replace(' / ', '/')\n",
    "            words=[w.split('/')[0] for w in sents.split(' ')]\n",
    "            sents=' '.join(words)\n",
    "    return sents\n",
    "\n",
    "print(alternate('Chtěl / chtěla bych nějaký předkrm.'))\n",
    "print(alternate('Máte oheň? / Můžete mi připálit?'))"
   ]
  },
  {
   "cell_type": "code",
   "execution_count": 14,
   "metadata": {
    "ExecuteTime": {
     "end_time": "2019-10-18T23:22:04.294793Z",
     "start_time": "2019-10-18T23:22:04.274983Z"
    }
   },
   "outputs": [
    {
     "name": "stdout",
     "output_type": "stream",
     "text": [
      "True False\n"
     ]
    },
    {
     "data": {
      "text/plain": [
       "'\\u202bاو (مرد) سر وقت آمد؟ '"
      ]
     },
     "execution_count": 14,
     "metadata": {},
     "output_type": "execute_result"
    }
   ],
   "source": [
    "sents='‫او (مرد) سر وقت آمد؟ او (مرد) نتوانست سر وقت بیاید.‬'\n",
    "print('؟ ' in sents, ' ؟' in sents)\n",
    "sents[:sents.index('؟ ')+2]"
   ]
  },
  {
   "cell_type": "code",
   "execution_count": 6,
   "metadata": {
    "ExecuteTime": {
     "end_time": "2019-10-19T00:20:42.664202Z",
     "start_time": "2019-10-19T00:20:42.646323Z"
    }
   },
   "outputs": [
    {
     "name": "stdout",
     "output_type": "stream",
     "text": [
      "‫دخترم نمی‌خواست فوتبال بازی کند.‬\n",
      "‫دخترم نمی‌خواست فوتبال بازی کند.‬\n",
      "‫دخترم نمی‌خواست فوتبال بازی کند.‬\n"
     ]
    },
    {
     "data": {
      "text/plain": [
       "'\\u202bدخترم نمی\\u200cخواست فوتبال بازی کند.\\u202c'"
      ]
     },
     "execution_count": 6,
     "metadata": {},
     "output_type": "execute_result"
    }
   ],
   "source": [
    "from sagas.nlu.utils import *\n",
    "sents='‫دخترم نمی‌خواست فوتبال بازی کند.‬'\n",
    "print(sents)\n",
    "sents=proc_lang_routines(sents, 'fa')\n",
    "print(sents)\n",
    "print(fix_sents(sents, 'fa'))\n",
    "sents"
   ]
  },
  {
   "cell_type": "code",
   "execution_count": 11,
   "metadata": {
    "ExecuteTime": {
     "end_time": "2019-10-19T00:36:54.508173Z",
     "start_time": "2019-10-19T00:36:54.494172Z"
    }
   },
   "outputs": [
    {
     "name": "stdout",
     "output_type": "stream",
     "text": [
      "['', 'خدختر', '\\u202bدخترم', '']\n",
      "*** \n",
      "--- \n",
      "***************\n",
      "*** 1,5 ****\n",
      "! خ  د  خ  ت  ر--- 1,6 ----\n",
      "! ‫  د  خ  ت  ر+ م"
     ]
    }
   ],
   "source": [
    "import difflib\n",
    "import sys\n",
    "text=\"\"\"\n",
    "خدختر\n",
    "‫دخترم\n",
    "\"\"\".split('\\n')\n",
    "print(text)\n",
    "r=difflib.context_diff(text[1], text[2])\n",
    "sys.stdout.writelines(r)"
   ]
  },
  {
   "cell_type": "code",
   "execution_count": 12,
   "metadata": {
    "ExecuteTime": {
     "end_time": "2019-10-19T00:41:47.843730Z",
     "start_time": "2019-10-19T00:41:47.832828Z"
    }
   },
   "outputs": [
    {
     "name": "stdout",
     "output_type": "stream",
     "text": [
      "*** \n",
      "--- \n",
      "***************\n",
      "*** 1,3 ****\n",
      "  s! y  s--- 1,3 ----\n",
      "  s! v  s"
     ]
    }
   ],
   "source": [
    "r=difflib.context_diff('sys', 'svs')\n",
    "sys.stdout.writelines(r)"
   ]
  }
 ],
 "metadata": {
  "kernelspec": {
   "display_name": "Python 3",
   "language": "python",
   "name": "python3"
  },
  "language_info": {
   "codemirror_mode": {
    "name": "ipython",
    "version": 3
   },
   "file_extension": ".py",
   "mimetype": "text/x-python",
   "name": "python",
   "nbconvert_exporter": "python",
   "pygments_lexer": "ipython3",
   "version": "3.6.4"
  },
  "varInspector": {
   "cols": {
    "lenName": 16,
    "lenType": 16,
    "lenVar": 40
   },
   "kernels_config": {
    "python": {
     "delete_cmd_postfix": "",
     "delete_cmd_prefix": "del ",
     "library": "var_list.py",
     "varRefreshCmd": "print(var_dic_list())"
    },
    "r": {
     "delete_cmd_postfix": ") ",
     "delete_cmd_prefix": "rm(",
     "library": "var_list.r",
     "varRefreshCmd": "cat(var_dic_list()) "
    }
   },
   "types_to_exclude": [
    "module",
    "function",
    "builtin_function_or_method",
    "instance",
    "_Feature"
   ],
   "window_display": false
  }
 },
 "nbformat": 4,
 "nbformat_minor": 2
}
