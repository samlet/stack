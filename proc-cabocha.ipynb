{
 "cells": [
  {
   "cell_type": "code",
   "execution_count": 1,
   "metadata": {
    "ExecuteTime": {
     "end_time": "2019-04-13T07:58:54.834530Z",
     "start_time": "2019-04-13T07:58:54.642367Z"
    },
    "scrolled": true
   },
   "outputs": [
    {
     "name": "stdout",
     "output_type": "stream",
     "text": [
      "    太郎は---------D\n",
      "      花子が-D     |\n",
      "    読んでいる-D   |\n",
      "            本を---D\n",
      "            次郎に-D\n",
      "            渡した。\n",
      "EOS\n",
      "\n",
      "    太郎は---------D\n",
      "      花子が-D     |\n",
      "    読んでいる-D   |\n",
      "            本を---D\n",
      "            次郎に-D\n",
      "            渡した。\n",
      "EOS\n",
      "\n",
      "* 0 5D 0/1 -0.742128\n",
      "太郎\t名詞,固有名詞,人名,名,*,*,太郎,タロウ,タロー\n",
      "は\t助詞,係助詞,*,*,*,*,は,ハ,ワ\n",
      "* 1 2D 0/1 1.700175\n",
      "花子\t名詞,固有名詞,人名,名,*,*,花子,ハナコ,ハナコ\n",
      "が\t助詞,格助詞,一般,*,*,*,が,ガ,ガ\n",
      "* 2 3D 0/2 1.825021\n",
      "読ん\t動詞,自立,*,*,五段・マ行,連用タ接続,読む,ヨン,ヨン\n",
      "で\t助詞,接続助詞,*,*,*,*,で,デ,デ\n",
      "いる\t動詞,非自立,*,*,一段,基本形,いる,イル,イル\n",
      "* 3 5D 0/1 -0.742128\n",
      "本\t名詞,一般,*,*,*,*,本,ホン,ホン\n",
      "を\t助詞,格助詞,一般,*,*,*,を,ヲ,ヲ\n",
      "* 4 5D 1/2 -0.742128\n",
      "次\t名詞,一般,*,*,*,*,次,ツギ,ツギ\n",
      "郎\t名詞,一般,*,*,*,*,郎,ロウ,ロー\n",
      "に\t助詞,格助詞,一般,*,*,*,に,ニ,ニ\n",
      "* 5 -1D 0/1 0.000000\n",
      "渡し\t動詞,自立,*,*,五段・サ行,連用形,渡す,ワタシ,ワタシ\n",
      "た\t助動詞,*,*,*,特殊・タ,基本形,た,タ,タ\n",
      "。\t記号,句点,*,*,*,*,。,。,。\n",
      "EOS\n",
      "\n"
     ]
    }
   ],
   "source": [
    "import CaboCha\n",
    "\n",
    "# c = CaboCha.Parser(\"\");\n",
    "c = CaboCha.Parser()\n",
    "\n",
    "# sentence = \"太郎はこの本を二郎を見た女性に渡した。\"\n",
    "sentence = \"太郎は花子が読んでいる本を次郎に渡した。\"\n",
    "print(c.parseToString(sentence))\n",
    "\n",
    "tree =  c.parse(sentence)\n",
    "\n",
    "print(tree.toString(CaboCha.FORMAT_TREE))\n",
    "print(tree.toString(CaboCha.FORMAT_LATTICE))"
   ]
  },
  {
   "cell_type": "code",
   "execution_count": 46,
   "metadata": {
    "ExecuteTime": {
     "end_time": "2018-10-27T11:42:58.318329Z",
     "start_time": "2018-10-27T11:42:58.314307Z"
    },
    "scrolled": true
   },
   "outputs": [
    {
     "name": "stdout",
     "output_type": "stream",
     "text": [
      "<sentence>\n",
      " <chunk id=\"0\" link=\"5\" rel=\"D\" score=\"-0.742128\" head=\"0\" func=\"1\">\n",
      "  <tok id=\"0\" feature=\"名詞,固有名詞,人名,名,*,*,太郎,タロウ,タロー\">太郎</tok>\n",
      "  <tok id=\"1\" feature=\"助詞,係助詞,*,*,*,*,は,ハ,ワ\">は</tok>\n",
      " </chunk>\n",
      " <chunk id=\"1\" link=\"2\" rel=\"D\" score=\"1.700175\" head=\"2\" func=\"3\">\n",
      "  <tok id=\"2\" feature=\"名詞,固有名詞,人名,名,*,*,花子,ハナコ,ハナコ\">花子</tok>\n",
      "  <tok id=\"3\" feature=\"助詞,格助詞,一般,*,*,*,が,ガ,ガ\">が</tok>\n",
      " </chunk>\n",
      " <chunk id=\"2\" link=\"3\" rel=\"D\" score=\"1.825021\" head=\"4\" func=\"6\">\n",
      "  <tok id=\"4\" feature=\"動詞,自立,*,*,五段・マ行,連用タ接続,読む,ヨン,ヨン\">読ん</tok>\n",
      "  <tok id=\"5\" feature=\"助詞,接続助詞,*,*,*,*,で,デ,デ\">で</tok>\n",
      "  <tok id=\"6\" feature=\"動詞,非自立,*,*,一段,基本形,いる,イル,イル\">いる</tok>\n",
      " </chunk>\n",
      " <chunk id=\"3\" link=\"5\" rel=\"D\" score=\"-0.742128\" head=\"7\" func=\"8\">\n",
      "  <tok id=\"7\" feature=\"名詞,一般,*,*,*,*,本,ホン,ホン\">本</tok>\n",
      "  <tok id=\"8\" feature=\"助詞,格助詞,一般,*,*,*,を,ヲ,ヲ\">を</tok>\n",
      " </chunk>\n",
      " <chunk id=\"4\" link=\"5\" rel=\"D\" score=\"-0.742128\" head=\"10\" func=\"11\">\n",
      "  <tok id=\"9\" feature=\"名詞,一般,*,*,*,*,次,ツギ,ツギ\">次</tok>\n",
      "  <tok id=\"10\" feature=\"名詞,一般,*,*,*,*,郎,ロウ,ロー\">郎</tok>\n",
      "  <tok id=\"11\" feature=\"助詞,格助詞,一般,*,*,*,に,ニ,ニ\">に</tok>\n",
      " </chunk>\n",
      " <chunk id=\"5\" link=\"-1\" rel=\"D\" score=\"0.000000\" head=\"12\" func=\"13\">\n",
      "  <tok id=\"12\" feature=\"動詞,自立,*,*,五段・サ行,連用形,渡す,ワタシ,ワタシ\">渡し</tok>\n",
      "  <tok id=\"13\" feature=\"助動詞,*,*,*,特殊・タ,基本形,た,タ,タ\">た</tok>\n",
      "  <tok id=\"14\" feature=\"記号,句点,*,*,*,*,。,。,。\">。</tok>\n",
      " </chunk>\n",
      "</sentence>\n",
      "\n"
     ]
    }
   ],
   "source": [
    "print(tree.toString(CaboCha.FORMAT_XML))"
   ]
  },
  {
   "cell_type": "code",
   "execution_count": 47,
   "metadata": {
    "ExecuteTime": {
     "end_time": "2018-10-27T11:45:44.599492Z",
     "start_time": "2018-10-27T11:45:44.594037Z"
    }
   },
   "outputs": [
    {
     "name": "stdout",
     "output_type": "stream",
     "text": [
      "    太郎は---------D\n",
      "      花子が-D     |\n",
      "    読んでいる-D   |\n",
      "            本を---D\n",
      "            次郎に-D\n",
      "            渡した。\n",
      "EOS\n",
      "* 0 5D 0/1 -0.742128\n",
      "太郎\t名詞,固有名詞,人名,名,*,*,太郎,タロウ,タロー\n",
      "は\t助詞,係助詞,*,*,*,*,は,ハ,ワ\n",
      "* 1 2D 0/1 1.700175\n",
      "花子\t名詞,固有名詞,人名,名,*,*,花子,ハナコ,ハナコ\n",
      "が\t助詞,格助詞,一般,*,*,*,が,ガ,ガ\n",
      "* 2 3D 0/2 1.825021\n",
      "読ん\t動詞,自立,*,*,五段・マ行,連用タ接続,読む,ヨン,ヨン\n",
      "で\t助詞,接続助詞,*,*,*,*,で,デ,デ\n",
      "いる\t動詞,非自立,*,*,一段,基本形,いる,イル,イル\n",
      "* 3 5D 0/1 -0.742128\n",
      "本\t名詞,一般,*,*,*,*,本,ホン,ホン\n",
      "を\t助詞,格助詞,一般,*,*,*,を,ヲ,ヲ\n",
      "* 4 5D 1/2 -0.742128\n",
      "次\t名詞,一般,*,*,*,*,次,ツギ,ツギ\n",
      "郎\t名詞,一般,*,*,*,*,郎,ロウ,ロー\n",
      "に\t助詞,格助詞,一般,*,*,*,に,ニ,ニ\n",
      "* 5 -1D 0/1 0.000000\n",
      "渡し\t動詞,自立,*,*,五段・サ行,連用形,渡す,ワタシ,ワタシ\n",
      "た\t助動詞,*,*,*,特殊・タ,基本形,た,タ,タ\n",
      "。\t記号,句点,*,*,*,*,。,。,。\n",
      "EOS\n",
      "\n"
     ]
    }
   ],
   "source": [
    "print(tree.toString(CaboCha.FORMAT_TREE_LATTICE))"
   ]
  },
  {
   "cell_type": "code",
   "execution_count": 9,
   "metadata": {
    "ExecuteTime": {
     "end_time": "2018-12-26T14:31:08.722230Z",
     "start_time": "2018-12-26T14:31:08.698915Z"
    }
   },
   "outputs": [
    {
     "name": "stdout",
     "output_type": "stream",
     "text": [
      "Chunk(\"太郎は\")0,5\n",
      "\t太郎 ☞ 名詞\n",
      "\tは ☞ 助詞\n",
      "Chunk(\"花子が\")1,2\n",
      "\t花子 ☞ 名詞\n",
      "\tが ☞ 助詞\n",
      "Chunk(\"読んでいる\")2,3\n",
      "\t読ん ☞ 動詞\n",
      "\tで ☞ 助詞\n",
      "\tいる ☞ 動詞\n",
      "Chunk(\"本を\")3,5\n",
      "\t本 ☞ 名詞\n",
      "\tを ☞ 助詞\n",
      "Chunk(\"次郎に\")4,5\n",
      "\t次 ☞ 名詞\n",
      "\t郎 ☞ 名詞\n",
      "\tに ☞ 助詞\n",
      "Chunk(\"渡した\")5,-1\n",
      "\t渡し ☞ 動詞\n",
      "\tた ☞ 助動詞\n"
     ]
    }
   ],
   "source": [
    "from cabocha.analyzer import CaboChaAnalyzer\n",
    "analyzer = CaboChaAnalyzer()\n",
    "# seq=\"日本語の形態素解析はすごい\"\n",
    "# seq=\"太郎はこの本を二郎を見た女性に渡した。\"\n",
    "# seq=\"あなたたち自身がこれをやらないといけない\"\n",
    "seq=\"太郎は花子が読んでいる本を次郎に渡した\"\n",
    "tree = analyzer.parse(seq)\n",
    "for chunk in tree:\n",
    "    print(str(chunk)+str(chunk.id)+\",\"+str(chunk.link))\n",
    "    for token in chunk:\n",
    "        print(\"\\t\"+str(token.surface)+\" ☞ \"+token.pos)"
   ]
  },
  {
   "cell_type": "code",
   "execution_count": 7,
   "metadata": {
    "ExecuteTime": {
     "end_time": "2018-12-26T14:27:35.686024Z",
     "start_time": "2018-12-26T14:27:35.624353Z"
    }
   },
   "outputs": [
    {
     "name": "stdout",
     "output_type": "stream",
     "text": [
      "Chunk(\"渡した\")\n",
      "Token(\"太郎\") <class 'cabocha.analyzer.Token'>\n",
      "{\n",
      "  \"id\": 0,\n",
      "  \"additional_info\": null,\n",
      "  \"feature\": \"名詞,固有名詞,人名,名,*,*,太郎,タロウ,タロー\",\n",
      "  \"feature_list\": [\n",
      "    \"名詞\",\n",
      "    \"固有名詞\",\n",
      "    \"人名\",\n",
      "    \"名\",\n",
      "    \"*\",\n",
      "    \"*\",\n",
      "    \"太郎\",\n",
      "    \"タロウ\",\n",
      "    \"タロー\"\n",
      "  ],\n",
      "  \"feature_list_size\": 9,\n",
      "  \"ne\": null,\n",
      "  \"normalized_surface\": \"太郎\",\n",
      "  \"surface\": \"太郎\",\n",
      "  \"pos\": \"名詞\",\n",
      "  \"pos1\": \"固有名詞\",\n",
      "  \"pos2\": \"人名\",\n",
      "  \"pos3\": \"名\",\n",
      "  \"ctype\": \"*\",\n",
      "  \"cform\": \"*\",\n",
      "  \"genkei\": \"太郎\",\n",
      "  \"yomi\": \"タロウ\"\n",
      "}\n"
     ]
    }
   ],
   "source": [
    "from utils import dump\n",
    "# 遵循chunk的依赖\n",
    "chunks = tree.chunks\n",
    "start_chunk = chunks[0]\n",
    "print(start_chunk.next_link)\n",
    "token=start_chunk.tokens[0]\n",
    "print(token, type(token))\n",
    "dump(token.dict())"
   ]
  },
  {
   "cell_type": "code",
   "execution_count": 12,
   "metadata": {
    "ExecuteTime": {
     "end_time": "2018-12-26T14:32:24.062753Z",
     "start_time": "2018-12-26T14:32:24.052235Z"
    }
   },
   "outputs": [
    {
     "name": "stdout",
     "output_type": "stream",
     "text": [
      "[Chunk(\"太郎は\"), Chunk(\"本を\"), Chunk(\"次郎に\")]\n",
      "[]\n"
     ]
    }
   ],
   "source": [
    "seq=\"太郎は花子が読んでいる本を次郎に渡した\"\n",
    "tree = analyzer.parse(seq)\n",
    "chunks = tree.chunks\n",
    "\n",
    "# 关注chunk的来源\n",
    "end_chunk = chunks[-1]\n",
    "print(end_chunk.prev_links)\n",
    "print(end_chunk.prev_links[0].prev_links)\n",
    "# print(end_chunk.prev_links[0].prev_links[0].prev_links)"
   ]
  },
  {
   "cell_type": "code",
   "execution_count": 16,
   "metadata": {
    "ExecuteTime": {
     "end_time": "2018-12-26T14:34:46.504803Z",
     "start_time": "2018-12-26T14:34:46.497247Z"
    }
   },
   "outputs": [
    {
     "name": "stdout",
     "output_type": "stream",
     "text": [
      "Chunk(\"太郎は\")\n",
      "{\n",
      "  \"id\": 0,\n",
      "  \"additional_info\": null,\n",
      "  \"feature_list\": [\n",
      "    \"SCASE:は\",\n",
      "    \"SHS:太郎\",\n",
      "    \"SHP0:名詞\",\n",
      "    \"SHP1:固有名詞\",\n",
      "    \"SHP2:人名\",\n",
      "    \"SHP3:名\",\n",
      "    \"SFS:は\",\n",
      "    \"SFP0:助詞\",\n",
      "    \"SFP1:係助詞\",\n",
      "    \"SLS:太郎\",\n",
      "    \"SLP0:名詞\",\n",
      "    \"SLP1:固有名詞\",\n",
      "    \"SLP2:人名\",\n",
      "    \"SLP3:名\",\n",
      "    \"SRS:は\",\n",
      "    \"SRP0:助詞\",\n",
      "    \"SRP1:係助詞\",\n",
      "    \"LF:は\",\n",
      "    \"RL:太郎\",\n",
      "    \"RH:太郎\",\n",
      "    \"RF:は\",\n",
      "    \"SBOS:1\",\n",
      "    \"GCASE:は\",\n",
      "    \"A:は\"\n",
      "  ],\n",
      "  \"feature_list_size\": 24,\n",
      "  \"func_pos\": 1,\n",
      "  \"head_pos\": 0,\n",
      "  \"link\": 5,\n",
      "  \"score\": -0.742127537727356,\n",
      "  \"token_pos\": 0,\n",
      "  \"token_size\": 2,\n",
      "  \"tokens\": [\n",
      "    {\n",
      "      \"id\": 0,\n",
      "      \"additional_info\": null,\n",
      "      \"feature\": \"名詞,固有名詞,人名,名,*,*,太郎,タロウ,タロー\",\n",
      "      \"feature_list\": [\n",
      "        \"名詞\",\n",
      "        \"固有名詞\",\n",
      "        \"人名\",\n",
      "        \"名\",\n",
      "        \"*\",\n",
      "        \"*\",\n",
      "        \"太郎\",\n",
      "        \"タロウ\",\n",
      "        \"タロー\"\n",
      "      ],\n",
      "      \"feature_list_size\": 9,\n",
      "      \"ne\": null,\n",
      "      \"normalized_surface\": \"太郎\",\n",
      "      \"surface\": \"太郎\",\n",
      "      \"pos\": \"名詞\",\n",
      "      \"pos1\": \"固有名詞\",\n",
      "      \"pos2\": \"人名\",\n",
      "      \"pos3\": \"名\",\n",
      "      \"ctype\": \"*\",\n",
      "      \"cform\": \"*\",\n",
      "      \"genkei\": \"太郎\",\n",
      "      \"yomi\": \"タロウ\"\n",
      "    },\n",
      "    {\n",
      "      \"id\": 1,\n",
      "      \"additional_info\": null,\n",
      "      \"feature\": \"助詞,係助詞,*,*,*,*,は,ハ,ワ\",\n",
      "      \"feature_list\": [\n",
      "        \"助詞\",\n",
      "        \"係助詞\",\n",
      "        \"*\",\n",
      "        \"*\",\n",
      "        \"*\",\n",
      "        \"*\",\n",
      "        \"は\",\n",
      "        \"ハ\",\n",
      "        \"ワ\"\n",
      "      ],\n",
      "      \"feature_list_size\": 9,\n",
      "      \"ne\": null,\n",
      "      \"normalized_surface\": \"は\",\n",
      "      \"surface\": \"は\",\n",
      "      \"pos\": \"助詞\",\n",
      "      \"pos1\": \"係助詞\",\n",
      "      \"pos2\": \"*\",\n",
      "      \"pos3\": \"*\",\n",
      "      \"ctype\": \"*\",\n",
      "      \"cform\": \"*\",\n",
      "      \"genkei\": \"は\",\n",
      "      \"yomi\": \"ハ\"\n",
      "    }\n",
      "  ],\n",
      "  \"next_link_id\": 5,\n",
      "  \"prev_link_ids\": []\n",
      "}\n"
     ]
    }
   ],
   "source": [
    "seq=\"太郎は花子が読んでいる本を次郎に渡した\"\n",
    "tree = analyzer.parse(seq)\n",
    "chunks = tree.chunks\n",
    "chunk = chunks[0]\n",
    "print(chunk)\n",
    "dump(chunk.dict())"
   ]
  },
  {
   "cell_type": "code",
   "execution_count": 14,
   "metadata": {
    "ExecuteTime": {
     "end_time": "2018-12-26T14:33:31.457615Z",
     "start_time": "2018-12-26T14:33:31.433665Z"
    }
   },
   "outputs": [
    {
     "data": {
      "text/plain": [
       "[Chunk(\"太郎は\"), Chunk(\"花子が\"), Chunk(\"本を\"), Chunk(\"次郎に\")]"
      ]
     },
     "execution_count": 14,
     "metadata": {},
     "output_type": "execute_result"
    }
   ],
   "source": [
    "# 检索适合特定条件的块或令牌\n",
    "tree.find(function=lambda chunk: any(token.pos == \"名詞\" for token in chunk))"
   ]
  },
  {
   "cell_type": "code",
   "execution_count": 9,
   "metadata": {
    "ExecuteTime": {
     "end_time": "2018-10-27T08:00:42.182535Z",
     "start_time": "2018-10-27T08:00:42.175732Z"
    }
   },
   "outputs": [
    {
     "data": {
      "text/plain": [
       "[Chunk(\"すごい\")]"
      ]
     },
     "execution_count": 9,
     "metadata": {},
     "output_type": "execute_result"
    }
   ],
   "source": [
    "tree.find(function=lambda chunk: any(token.pos == \"形容詞\" for token in chunk))"
   ]
  },
  {
   "cell_type": "code",
   "execution_count": 14,
   "metadata": {
    "ExecuteTime": {
     "end_time": "2018-10-27T08:48:23.202586Z",
     "start_time": "2018-10-27T08:48:23.189749Z"
    }
   },
   "outputs": [
    {
     "data": {
      "text/plain": [
       "[Chunk(\"太郎は\"), Chunk(\"本を\"), Chunk(\"二郎を\"), Chunk(\"女性に\")]"
      ]
     },
     "execution_count": 14,
     "metadata": {},
     "output_type": "execute_result"
    }
   ],
   "source": [
    "# 太郎把这本书递给了看见次郎的女人。\n",
    "# Taro handed this book to the woman who saw Jiro.\n",
    "sentence=\"太郎はこの本を二郎を見た女性に渡した。\"\n",
    "tree = analyzer.parse(sentence)\n",
    "tree.find(function=lambda chunk: any(token.pos == \"名詞\" for token in chunk))"
   ]
  },
  {
   "cell_type": "code",
   "execution_count": 28,
   "metadata": {
    "ExecuteTime": {
     "end_time": "2018-10-27T09:02:45.378994Z",
     "start_time": "2018-10-27T09:02:45.371113Z"
    }
   },
   "outputs": [
    {
     "name": "stdout",
     "output_type": "stream",
     "text": [
      "Chunk(\"女性に\")\n",
      "[Chunk(\"見た\")]\n",
      "[Chunk(\"本を\"), Chunk(\"二郎を\")]\n"
     ]
    }
   ],
   "source": [
    "chunks=tree.find(function=lambda chunk: any(token.pos == \"名詞\" for token in chunk))\n",
    "end_chunk = chunks[-1]\n",
    "print(end_chunk)\n",
    "print(end_chunk.prev_links)\n",
    "print(end_chunk.prev_links[0].prev_links)"
   ]
  },
  {
   "cell_type": "code",
   "execution_count": 27,
   "metadata": {
    "ExecuteTime": {
     "end_time": "2018-10-27T08:58:48.188920Z",
     "start_time": "2018-10-27T08:58:48.183226Z"
    }
   },
   "outputs": [
    {
     "name": "stdout",
     "output_type": "stream",
     "text": [
      "Chunk(\"女性に\")\n",
      "Chunk(\"渡した。\")\n",
      "Chunk(\"太郎は\")\n",
      "Chunk(\"渡した。\")\n",
      "Chunk(\"本を\")\n",
      "Chunk(\"見た\")\n"
     ]
    }
   ],
   "source": [
    "print(end_chunk)\n",
    "print(end_chunk.next_link)\n",
    "print(chunks[0])\n",
    "print(chunks[0].next_link)\n",
    "print(chunks[1])\n",
    "print(chunks[1].next_link)"
   ]
  },
  {
   "cell_type": "code",
   "execution_count": 13,
   "metadata": {
    "ExecuteTime": {
     "end_time": "2018-10-27T08:13:48.624531Z",
     "start_time": "2018-10-27T08:13:48.610974Z"
    },
    "scrolled": true
   },
   "outputs": [
    {
     "name": "stdout",
     "output_type": "stream",
     "text": [
      "  太郎は-----------D\n",
      "      この-D       |\n",
      "        本を---D   |\n",
      "        二郎を-D   |\n",
      "            見た-D |\n",
      "            女性に-D\n",
      "            渡した。\n",
      "EOS\n",
      "\n"
     ]
    }
   ],
   "source": [
    "c = CaboCha.Parser()\n",
    "tree =  c.parse(sentence)\n",
    "print(tree.toString(CaboCha.FORMAT_TREE))"
   ]
  },
  {
   "cell_type": "code",
   "execution_count": 25,
   "metadata": {
    "ExecuteTime": {
     "end_time": "2018-12-27T12:18:41.858317Z",
     "start_time": "2018-12-27T12:18:41.842663Z"
    },
    "scrolled": true
   },
   "outputs": [
    {
     "name": "stdout",
     "output_type": "stream",
     "text": [
      "Chunk(\"太郎は\") ['名詞,固有名詞,人名,名,*,*,太郎,タロウ,タロー', '助詞,係助詞,*,*,*,*,は,ハ,ワ']\n",
      "Chunk(\"この\") ['連体詞,*,*,*,*,*,この,コノ,コノ']\n",
      "Chunk(\"本を\") ['名詞,一般,*,*,*,*,本,ホン,ホン', '助詞,格助詞,一般,*,*,*,を,ヲ,ヲ']\n",
      "Chunk(\"二郎を\") ['名詞,数,*,*,*,*,二,ニ,ニ', '名詞,一般,*,*,*,*,郎,ロウ,ロー', '助詞,格助詞,一般,*,*,*,を,ヲ,ヲ']\n",
      "Chunk(\"見た\") ['動詞,自立,*,*,一段,連用形,見る,ミ,ミ', '助動詞,*,*,*,特殊・タ,基本形,た,タ,タ']\n",
      "Chunk(\"女性に\") ['名詞,一般,*,*,*,*,女性,ジョセイ,ジョセイ', '助詞,格助詞,一般,*,*,*,に,ニ,ニ']\n",
      "Chunk(\"渡した。\") ['動詞,自立,*,*,五段・サ行,連用形,渡す,ワタシ,ワタシ', '助動詞,*,*,*,特殊・タ,基本形,た,タ,タ', '記号,句点,*,*,*,*,。,。,。']\n"
     ]
    },
    {
     "data": {
      "text/plain": [
       "[Chunk(\"太郎は\"), Chunk(\"本を\"), Chunk(\"二郎を\"), Chunk(\"女性に\")]"
      ]
     },
     "execution_count": 25,
     "metadata": {},
     "output_type": "execute_result"
    }
   ],
   "source": [
    "sentence=\"太郎はこの本を二郎を見た女性に渡した。\"\n",
    "tree = analyzer.parse(sentence)\n",
    "for chunk in tree.chunks:\n",
    "    print(chunk, [token.feature for token in chunk])\n",
    "tree.find(function=lambda chunk: any(token.pos == \"名詞\" for token in chunk))"
   ]
  }
 ],
 "metadata": {
  "kernelspec": {
   "display_name": "Python 3",
   "language": "python",
   "name": "python3"
  },
  "language_info": {
   "codemirror_mode": {
    "name": "ipython",
    "version": 3
   },
   "file_extension": ".py",
   "mimetype": "text/x-python",
   "name": "python",
   "nbconvert_exporter": "python",
   "pygments_lexer": "ipython3",
   "version": "3.6.4"
  },
  "varInspector": {
   "cols": {
    "lenName": 16,
    "lenType": 16,
    "lenVar": 40
   },
   "kernels_config": {
    "python": {
     "delete_cmd_postfix": "",
     "delete_cmd_prefix": "del ",
     "library": "var_list.py",
     "varRefreshCmd": "print(var_dic_list())"
    },
    "r": {
     "delete_cmd_postfix": ") ",
     "delete_cmd_prefix": "rm(",
     "library": "var_list.r",
     "varRefreshCmd": "cat(var_dic_list()) "
    }
   },
   "position": {
    "height": "378px",
    "left": "443px",
    "right": "20px",
    "top": "120px",
    "width": "350px"
   },
   "types_to_exclude": [
    "module",
    "function",
    "builtin_function_or_method",
    "instance",
    "_Feature"
   ],
   "window_display": false
  }
 },
 "nbformat": 4,
 "nbformat_minor": 2
}
