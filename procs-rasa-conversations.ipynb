{
 "cells": [
  {
   "cell_type": "code",
   "execution_count": 3,
   "metadata": {
    "ExecuteTime": {
     "end_time": "2019-04-02T08:02:13.633658Z",
     "start_time": "2019-04-02T08:02:13.598726Z"
    }
   },
   "outputs": [],
   "source": [
    "import requests\n",
    "import json\n",
    "\n",
    "#$ ./query.py talk \"hi\"\n",
    "#$ ./query.py talk \"/joke\"\n",
    "def talk(sender, a_str):\n",
    "    headers = {\n",
    "        'content-type': 'application/json',\n",
    "    }\n",
    "    # data = '{'+'\"message\": \"{}\"'.format(a_str)+'}'\n",
    "    data={'sender':sender, 'message':a_str}\n",
    "    response = requests.post('http://localhost:5005/webhooks/rest/webhook', \n",
    "                             headers=headers, data=json.dumps(data))\n",
    "    # print(response.text)\n",
    "    return response.json()"
   ]
  },
  {
   "cell_type": "code",
   "execution_count": 4,
   "metadata": {
    "ExecuteTime": {
     "end_time": "2019-04-02T08:02:15.521429Z",
     "start_time": "2019-04-02T08:02:15.292363Z"
    }
   },
   "outputs": [
    {
     "name": "stdout",
     "output_type": "stream",
     "text": [
      "[{'recipient_id': 'samlet', 'text': 'Great, carry on!'}]\n"
     ]
    }
   ],
   "source": [
    "r=talk('samlet', 'i am greet')\n",
    "print(r)"
   ]
  },
  {
   "cell_type": "code",
   "execution_count": 41,
   "metadata": {
    "ExecuteTime": {
     "end_time": "2019-03-31T14:39:27.275990Z",
     "start_time": "2019-03-31T14:39:26.980074Z"
    }
   },
   "outputs": [
    {
     "name": "stdout",
     "output_type": "stream",
     "text": [
      "[]\n",
      "[{'recipient_id': 'samlet', 'text': 'Great, carry on!'}]\n",
      "[]\n"
     ]
    }
   ],
   "source": [
    "r=talk('samlet', 'just a test')\n",
    "print(r)\n",
    "print(talk('samlet', 'i am greet'))\n",
    "print(talk('samlet', 'bye'))"
   ]
  },
  {
   "cell_type": "code",
   "execution_count": 6,
   "metadata": {
    "ExecuteTime": {
     "end_time": "2019-03-30T18:08:38.649416Z",
     "start_time": "2019-03-30T18:08:38.643917Z"
    }
   },
   "outputs": [
    {
     "name": "stdout",
     "output_type": "stream",
     "text": [
      "{\"message\": \"i am greet\"}\n",
      "{\"message\": \"i am greet\"}\n"
     ]
    }
   ],
   "source": [
    "a_str='i am greet'\n",
    "data = '{'+'\"message\": \"{}\"'.format(a_str)+'}'\n",
    "print(data)\n",
    "\n",
    "data={'message':a_str}\n",
    "print(json.dumps(data))"
   ]
  },
  {
   "cell_type": "code",
   "execution_count": 9,
   "metadata": {
    "ExecuteTime": {
     "end_time": "2019-03-30T18:10:10.927200Z",
     "start_time": "2019-03-30T18:10:10.847177Z"
    }
   },
   "outputs": [
    {
     "name": "stdout",
     "output_type": "stream",
     "text": [
      "[{\"recipient_id\":\"kitty\",\"text\":\"Hi, how is it going?\"}]\n",
      "\n"
     ]
    }
   ],
   "source": [
    "talk('kitty', 'hello')"
   ]
  },
  {
   "cell_type": "code",
   "execution_count": 10,
   "metadata": {
    "ExecuteTime": {
     "end_time": "2019-03-30T18:10:19.611956Z",
     "start_time": "2019-03-30T18:10:19.540016Z"
    }
   },
   "outputs": [
    {
     "name": "stdout",
     "output_type": "stream",
     "text": [
      "[]\n",
      "\n"
     ]
    }
   ],
   "source": [
    "talk('kitty', 'hello')"
   ]
  },
  {
   "cell_type": "code",
   "execution_count": 25,
   "metadata": {
    "ExecuteTime": {
     "end_time": "2019-03-30T18:31:10.145449Z",
     "start_time": "2019-03-30T18:31:10.065198Z"
    }
   },
   "outputs": [
    {
     "data": {
      "text/plain": [
       "[{'recipient_id': 'tommy', 'text': 'Hi, how is it going?'}]"
      ]
     },
     "execution_count": 25,
     "metadata": {},
     "output_type": "execute_result"
    }
   ],
   "source": [
    "talk('tommy', 'hello')"
   ]
  },
  {
   "cell_type": "code",
   "execution_count": 26,
   "metadata": {
    "ExecuteTime": {
     "end_time": "2019-03-30T18:31:27.117918Z",
     "start_time": "2019-03-30T18:31:26.917285Z"
    }
   },
   "outputs": [
    {
     "name": "stdout",
     "output_type": "stream",
     "text": [
      "[{'recipient_id': 'tommy', 'text': 'Great, carry on!'}]\n",
      "[{'recipient_id': 'tommy', 'text': 'Goodbye!'}]\n"
     ]
    }
   ],
   "source": [
    "print(talk('tommy', 'i am greet'))\n",
    "print(talk('tommy', 'bye'))"
   ]
  },
  {
   "cell_type": "code",
   "execution_count": 31,
   "metadata": {
    "ExecuteTime": {
     "end_time": "2019-03-31T08:26:09.228345Z",
     "start_time": "2019-03-31T08:26:09.113904Z"
    }
   },
   "outputs": [
    {
     "name": "stdout",
     "output_type": "stream",
     "text": [
      "[{'recipient_id': 'samlet', 'text': 'Great, carry on!'}]\n",
      "{'recipient_id': 'samlet', 'text': 'Great, carry on!'}\n"
     ]
    },
    {
     "data": {
      "text/plain": [
       "recipients {\n",
       "  id: \"samlet\"\n",
       "  text: \"Great, carry on!\"\n",
       "}"
      ]
     },
     "execution_count": 31,
     "metadata": {},
     "output_type": "execute_result"
    }
   ],
   "source": [
    "import blueprints_pb2_grpc\n",
    "import blueprints_pb2\n",
    "\n",
    "rs=talk('samlet', 'i am greet')\n",
    "print(rs)\n",
    "recips=[]\n",
    "for r in rs:\n",
    "    print(r)\n",
    "    recips.append(blueprints_pb2.BotRecipient(id=r['recipient_id'], text=r['text']))\n",
    "blueprints_pb2.BotResponse(recipients=recips)"
   ]
  }
 ],
 "metadata": {
  "kernelspec": {
   "display_name": "Python 3",
   "language": "python",
   "name": "python3"
  },
  "language_info": {
   "codemirror_mode": {
    "name": "ipython",
    "version": 3
   },
   "file_extension": ".py",
   "mimetype": "text/x-python",
   "name": "python",
   "nbconvert_exporter": "python",
   "pygments_lexer": "ipython3",
   "version": "3.6.4"
  },
  "varInspector": {
   "cols": {
    "lenName": 16,
    "lenType": 16,
    "lenVar": 40
   },
   "kernels_config": {
    "python": {
     "delete_cmd_postfix": "",
     "delete_cmd_prefix": "del ",
     "library": "var_list.py",
     "varRefreshCmd": "print(var_dic_list())"
    },
    "r": {
     "delete_cmd_postfix": ") ",
     "delete_cmd_prefix": "rm(",
     "library": "var_list.r",
     "varRefreshCmd": "cat(var_dic_list()) "
    }
   },
   "types_to_exclude": [
    "module",
    "function",
    "builtin_function_or_method",
    "instance",
    "_Feature"
   ],
   "window_display": false
  }
 },
 "nbformat": 4,
 "nbformat_minor": 2
}
