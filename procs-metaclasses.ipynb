{
 "cells": [
  {
   "cell_type": "code",
   "execution_count": 2,
   "metadata": {
    "ExecuteTime": {
     "end_time": "2019-09-04T07:42:22.523462Z",
     "start_time": "2019-09-04T07:42:21.162619Z"
    }
   },
   "outputs": [
    {
     "name": "stdout",
     "output_type": "stream",
     "text": [
      "Do you need the answer? (y/n): 6\n",
      "The silence of the philosphers\n"
     ]
    }
   ],
   "source": [
    "# the following variable would be set as the result of a runtime calculation:\n",
    "x = input(\"Do you need the answer? (y/n): \")\n",
    "if x==\"y\":\n",
    "    required = True\n",
    "else:\n",
    "    required = False\n",
    "    \n",
    "    \n",
    "def the_answer(self, *args):              \n",
    "        return 42\n",
    "    \n",
    "def augment_answer(cls):                      \n",
    "    if required:\n",
    "        cls.the_answer = the_answer\n",
    "    # we have to return the class now:\n",
    "    return cls\n",
    " \n",
    "    \n",
    "@augment_answer\n",
    "class Philosopher1: \n",
    "    pass\n",
    "@augment_answer\n",
    "class Philosopher2: \n",
    "    pass\n",
    "@augment_answer\n",
    "class Philosopher3: \n",
    "    pass\n",
    " \n",
    "    \n",
    "plato = Philosopher1()\n",
    "kant = Philosopher2()\n",
    "  \n",
    "    \n",
    "# let's see what Plato and Kant have to say :-)\n",
    "if required:\n",
    "    print(kant.the_answer())\n",
    "    print(plato.the_answer())\n",
    "else:\n",
    "    print(\"The silence of the philosphers\")"
   ]
  },
  {
   "cell_type": "code",
   "execution_count": 3,
   "metadata": {
    "ExecuteTime": {
     "end_time": "2019-09-04T07:47:25.896845Z",
     "start_time": "2019-09-04T07:47:25.878875Z"
    }
   },
   "outputs": [
    {
     "name": "stdout",
     "output_type": "stream",
     "text": [
      "['BPF', 'LOG4', 'NV_MAGICCONST', 'RECIP_BPF', 'Random', 'SG_MAGICCONST', 'SystemRandom', 'TWOPI', '_BuiltinMethodType', '_MethodType', '_Sequence', '_Set', '_acos', '_bisect', '_ceil', '_cos', '_e', '_exp', '_inst', '_itertools', '_log', '_pi', '_random', '_sha512', '_sin', '_sqrt', '_test', '_test_generator', '_urandom', '_warn', 'betavariate', 'choice', 'choices', 'expovariate', 'gammavariate', 'gauss', 'getrandbits', 'getstate', 'lognormvariate', 'normalvariate', 'paretovariate', 'randint', 'random', 'randrange', 'sample', 'seed', 'setstate', 'shuffle', 'triangular', 'uniform', 'vonmisesvariate', 'weibullvariate']\n"
     ]
    }
   ],
   "source": [
    "import random\n",
    "cls = \"random\" # name of the class as a string\n",
    "all_attributes = [x for x in dir(eval(cls)) if not x.startswith(\"__\") ]\n",
    "print(all_attributes)"
   ]
  },
  {
   "cell_type": "code",
   "execution_count": 4,
   "metadata": {
    "ExecuteTime": {
     "end_time": "2019-09-04T07:49:48.752852Z",
     "start_time": "2019-09-04T07:49:48.740999Z"
    }
   },
   "outputs": [
    {
     "name": "stdout",
     "output_type": "stream",
     "text": [
      "['Random', 'SystemRandom', '_BuiltinMethodType', '_MethodType', '_Sequence', '_Set', '_acos', '_ceil', '_cos', '_exp', '_log', '_sha512', '_sin', '_sqrt', '_test', '_test_generator', '_urandom', '_warn', 'betavariate', 'choice', 'choices', 'expovariate', 'gammavariate', 'gauss', 'getrandbits', 'getstate', 'lognormvariate', 'normalvariate', 'paretovariate', 'randint', 'random', 'randrange', 'sample', 'seed', 'setstate', 'shuffle', 'triangular', 'uniform', 'vonmisesvariate', 'weibullvariate']\n"
     ]
    }
   ],
   "source": [
    "# Now, we are filtering the callable attributes, i.e. the public methods of the class.\n",
    "\n",
    "methods = [x for x in dir(eval(cls)) if not x.startswith(\"__\") \n",
    "                              and callable(eval(cls + \".\" + x))]\n",
    "print(methods)"
   ]
  },
  {
   "cell_type": "code",
   "execution_count": 5,
   "metadata": {
    "ExecuteTime": {
     "end_time": "2019-09-04T07:51:59.913273Z",
     "start_time": "2019-09-04T07:51:59.903030Z"
    }
   },
   "outputs": [
    {
     "name": "stdout",
     "output_type": "stream",
     "text": [
      "['BPF', 'LOG4', 'NV_MAGICCONST', 'RECIP_BPF', 'SG_MAGICCONST', 'TWOPI', '_bisect', '_e', '_inst', '_itertools', '_pi', '_random']\n"
     ]
    }
   ],
   "source": [
    "# Getting the non callable attributes of the class can be easily achieved by negating callable, i.e. adding \"not\":\n",
    "\n",
    "non_callable_attributes = [x for x in dir(eval(cls)) if not x.startswith(\"__\") \n",
    "                              and not callable(eval(cls + \".\" + x))]\n",
    "print(non_callable_attributes)"
   ]
  },
  {
   "cell_type": "code",
   "execution_count": 6,
   "metadata": {
    "ExecuteTime": {
     "end_time": "2019-09-04T07:52:34.916651Z",
     "start_time": "2019-09-04T07:52:34.899813Z"
    }
   },
   "outputs": [
    {
     "data": {
      "text/plain": [
       "[3, 4, 42]"
      ]
     },
     "execution_count": 6,
     "metadata": {},
     "output_type": "execute_result"
    }
   ],
   "source": [
    "# In normal Python programming it is neither recommended nor necessary to apply methods in the following way, but it is possible:\n",
    "\n",
    "lst = [3,4]\n",
    "list.__dict__[\"append\"](lst, 42)\n",
    "lst"
   ]
  },
  {
   "cell_type": "code",
   "execution_count": 7,
   "metadata": {
    "ExecuteTime": {
     "end_time": "2019-09-04T07:56:34.265799Z",
     "start_time": "2019-09-04T07:56:34.231717Z"
    }
   },
   "outputs": [
    {
     "name": "stdout",
     "output_type": "stream",
     "text": [
      "0\n",
      "10\n"
     ]
    }
   ],
   "source": [
    "# Memoization and Decorators\n",
    "def call_counter(func):\n",
    "    def helper(*args, **kwargs):\n",
    "        helper.calls += 1\n",
    "        return func(*args, **kwargs)\n",
    "    helper.calls = 0\n",
    "    helper.__name__= func.__name__\n",
    "    return helper\n",
    "\n",
    "@call_counter\n",
    "def f():\n",
    "    pass\n",
    "print(f.calls)\n",
    "for _ in range(10):\n",
    "    f()\n",
    "    \n",
    "print(f.calls)"
   ]
  },
  {
   "cell_type": "code",
   "execution_count": 11,
   "metadata": {
    "ExecuteTime": {
     "end_time": "2019-09-06T14:10:15.268199Z",
     "start_time": "2019-09-06T14:10:15.250508Z"
    }
   },
   "outputs": [
    {
     "name": "stdout",
     "output_type": "stream",
     "text": [
      "<module>\n",
      "xx_func\n"
     ]
    }
   ],
   "source": [
    "import inspect\n",
    "\n",
    "this_function_name = inspect.currentframe().f_code.co_name\n",
    "print(this_function_name)\n",
    "\n",
    "def xx_func():\n",
    "    this_function_name = inspect.currentframe().f_code.co_name\n",
    "    print(this_function_name)\n",
    "\n",
    "xx_func()"
   ]
  },
  {
   "cell_type": "code",
   "execution_count": 31,
   "metadata": {
    "ExecuteTime": {
     "end_time": "2019-09-06T19:59:49.670179Z",
     "start_time": "2019-09-06T19:59:49.630220Z"
    }
   },
   "outputs": [
    {
     "name": "stdout",
     "output_type": "stream",
     "text": [
      "clsname:  A\n",
      "superclasses:  (<class '__main__.S'>,)\n",
      "attributedict:  {'__module__': '__main__', '__qualname__': 'A'}\n",
      "10\n",
      "A list files en\n"
     ]
    }
   ],
   "source": [
    "# https://www.python-course.eu/python3_metaclasses.php\n",
    "class LittleMeta(type):\n",
    "    def __new__(cls, clsname, superclasses, attributedict):\n",
    "        print(\"clsname: \", clsname)\n",
    "        print(\"superclasses: \", superclasses)\n",
    "        print(\"attributedict: \", attributedict)\n",
    "        return type.__new__(cls, clsname, superclasses, attributedict)\n",
    "    \n",
    "    def __init__(cls, clsname, superclasses, attributedict):        \n",
    "        cls.the_answer = 10\n",
    "        def _(self, text, lang):\n",
    "            print(type(self).__name__, text, lang)\n",
    "        cls._=_\n",
    "    \n",
    "    # def __call__(cls, *args, **kwargs):\n",
    "    #    print(args, kwargs)\n",
    "    \n",
    "    \n",
    "class S:\n",
    "    pass\n",
    "class A(S, metaclass=LittleMeta):\n",
    "    pass\n",
    "\n",
    "a = A()\n",
    "print(a.the_answer)\n",
    "a._('list files', 'en')"
   ]
  },
  {
   "cell_type": "code",
   "execution_count": 38,
   "metadata": {
    "ExecuteTime": {
     "end_time": "2019-09-07T01:29:49.486084Z",
     "start_time": "2019-09-07T01:29:49.477994Z"
    }
   },
   "outputs": [
    {
     "data": {
      "text/plain": [
       "True"
      ]
     },
     "execution_count": 38,
     "metadata": {},
     "output_type": "execute_result"
    }
   ],
   "source": [
    "any([True, False])"
   ]
  },
  {
   "cell_type": "code",
   "execution_count": 36,
   "metadata": {
    "ExecuteTime": {
     "end_time": "2019-09-07T01:29:32.075585Z",
     "start_time": "2019-09-07T01:29:32.067215Z"
    }
   },
   "outputs": [
    {
     "data": {
      "text/plain": [
       "True"
      ]
     },
     "execution_count": 36,
     "metadata": {},
     "output_type": "execute_result"
    }
   ],
   "source": [
    "any([True])"
   ]
  },
  {
   "cell_type": "code",
   "execution_count": 34,
   "metadata": {
    "ExecuteTime": {
     "end_time": "2019-09-07T01:28:15.970470Z",
     "start_time": "2019-09-07T01:28:15.956557Z"
    }
   },
   "outputs": [
    {
     "data": {
      "text/plain": [
       "False"
      ]
     },
     "execution_count": 34,
     "metadata": {},
     "output_type": "execute_result"
    }
   ],
   "source": [
    "all([True, False])"
   ]
  }
 ],
 "metadata": {
  "kernelspec": {
   "display_name": "Python 3",
   "language": "python",
   "name": "python3"
  },
  "language_info": {
   "codemirror_mode": {
    "name": "ipython",
    "version": 3
   },
   "file_extension": ".py",
   "mimetype": "text/x-python",
   "name": "python",
   "nbconvert_exporter": "python",
   "pygments_lexer": "ipython3",
   "version": "3.6.4"
  },
  "varInspector": {
   "cols": {
    "lenName": 16,
    "lenType": 16,
    "lenVar": 40
   },
   "kernels_config": {
    "python": {
     "delete_cmd_postfix": "",
     "delete_cmd_prefix": "del ",
     "library": "var_list.py",
     "varRefreshCmd": "print(var_dic_list())"
    },
    "r": {
     "delete_cmd_postfix": ") ",
     "delete_cmd_prefix": "rm(",
     "library": "var_list.r",
     "varRefreshCmd": "cat(var_dic_list()) "
    }
   },
   "types_to_exclude": [
    "module",
    "function",
    "builtin_function_or_method",
    "instance",
    "_Feature"
   ],
   "window_display": false
  }
 },
 "nbformat": 4,
 "nbformat_minor": 2
}
