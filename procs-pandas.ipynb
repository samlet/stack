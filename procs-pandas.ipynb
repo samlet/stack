{
 "cells": [
  {
   "cell_type": "code",
   "execution_count": 1,
   "metadata": {
    "ExecuteTime": {
     "end_time": "2019-02-04T10:41:45.303430Z",
     "start_time": "2019-02-04T10:41:44.907878Z"
    }
   },
   "outputs": [],
   "source": [
    "import numpy as np\n",
    "import pandas as pd\n",
    "\n",
    "np.random.seed(1234)\n",
    "d1 = pd.Series(2*np.random.normal(size = 100)+3)\n",
    "d2 = np.random.f(2,4,size = 100)\n",
    "d3 = np.random.randint(1,100,size = 100)"
   ]
  },
  {
   "cell_type": "code",
   "execution_count": 2,
   "metadata": {
    "ExecuteTime": {
     "end_time": "2019-02-04T10:42:00.081686Z",
     "start_time": "2019-02-04T10:41:59.819505Z"
    }
   },
   "outputs": [
    {
     "data": {
      "text/plain": [
       "count    100.000000\n",
       "mean       3.070225\n",
       "std        2.001402\n",
       "min       -4.127033\n",
       "25%        2.040101\n",
       "50%        3.204555\n",
       "75%        4.434788\n",
       "max        7.781921\n",
       "dtype: float64"
      ]
     },
     "execution_count": 2,
     "metadata": {},
     "output_type": "execute_result"
    }
   ],
   "source": [
    "d1.count()          #非空元素计算\n",
    "d1.min()            #最小值\n",
    "d1.max()            #最大值\n",
    "d1.idxmin()         #最小值的位置，类似于R中的which.min函数\n",
    "d1.idxmax()         #最大值的位置，类似于R中的which.max函数\n",
    "d1.quantile(0.1)    #10%分位数\n",
    "d1.sum()            #求和\n",
    "d1.mean()           #均值\n",
    "d1.median()         #中位数\n",
    "d1.mode()           #众数\n",
    "d1.var()            #方差\n",
    "d1.std()            #标准差\n",
    "d1.mad()            #平均绝对偏差\n",
    "d1.skew()           #偏度\n",
    "d1.kurt()           #峰度\n",
    "d1.describe()       #一次性输出多个描述性统计指标"
   ]
  },
  {
   "cell_type": "markdown",
   "metadata": {},
   "source": [
    "必须注意的是，descirbe方法只能针对序列或数据框，一维数组是没有这个方法的"
   ]
  },
  {
   "cell_type": "code",
   "execution_count": 3,
   "metadata": {
    "ExecuteTime": {
     "end_time": "2019-02-04T10:43:07.557295Z",
     "start_time": "2019-02-04T10:43:07.515150Z"
    }
   },
   "outputs": [
    {
     "data": {
      "text/html": [
       "<div>\n",
       "<style scoped>\n",
       "    .dataframe tbody tr th:only-of-type {\n",
       "        vertical-align: middle;\n",
       "    }\n",
       "\n",
       "    .dataframe tbody tr th {\n",
       "        vertical-align: top;\n",
       "    }\n",
       "\n",
       "    .dataframe thead th {\n",
       "        text-align: right;\n",
       "    }\n",
       "</style>\n",
       "<table border=\"1\" class=\"dataframe\">\n",
       "  <thead>\n",
       "    <tr style=\"text-align: right;\">\n",
       "      <th></th>\n",
       "      <th>0</th>\n",
       "    </tr>\n",
       "  </thead>\n",
       "  <tbody>\n",
       "    <tr>\n",
       "      <th>总数</th>\n",
       "      <td>100.000000</td>\n",
       "    </tr>\n",
       "    <tr>\n",
       "      <th>最小值</th>\n",
       "      <td>-4.127033</td>\n",
       "    </tr>\n",
       "    <tr>\n",
       "      <th>最小值位置</th>\n",
       "      <td>81.000000</td>\n",
       "    </tr>\n",
       "    <tr>\n",
       "      <th>25%分位数</th>\n",
       "      <td>2.040101</td>\n",
       "    </tr>\n",
       "    <tr>\n",
       "      <th>中位数</th>\n",
       "      <td>3.204555</td>\n",
       "    </tr>\n",
       "    <tr>\n",
       "      <th>75%分位数</th>\n",
       "      <td>4.434788</td>\n",
       "    </tr>\n",
       "    <tr>\n",
       "      <th>均值</th>\n",
       "      <td>3.070225</td>\n",
       "    </tr>\n",
       "    <tr>\n",
       "      <th>最大值</th>\n",
       "      <td>7.781921</td>\n",
       "    </tr>\n",
       "    <tr>\n",
       "      <th>最大值位数</th>\n",
       "      <td>39.000000</td>\n",
       "    </tr>\n",
       "    <tr>\n",
       "      <th>平均绝对偏差</th>\n",
       "      <td>1.511288</td>\n",
       "    </tr>\n",
       "    <tr>\n",
       "      <th>方差</th>\n",
       "      <td>4.005609</td>\n",
       "    </tr>\n",
       "    <tr>\n",
       "      <th>标准差</th>\n",
       "      <td>2.001402</td>\n",
       "    </tr>\n",
       "    <tr>\n",
       "      <th>偏度</th>\n",
       "      <td>-0.649478</td>\n",
       "    </tr>\n",
       "    <tr>\n",
       "      <th>峰度</th>\n",
       "      <td>1.220109</td>\n",
       "    </tr>\n",
       "  </tbody>\n",
       "</table>\n",
       "</div>"
      ],
      "text/plain": [
       "                 0\n",
       "总数      100.000000\n",
       "最小值      -4.127033\n",
       "最小值位置    81.000000\n",
       "25%分位数    2.040101\n",
       "中位数       3.204555\n",
       "75%分位数    4.434788\n",
       "均值        3.070225\n",
       "最大值       7.781921\n",
       "最大值位数    39.000000\n",
       "平均绝对偏差    1.511288\n",
       "方差        4.005609\n",
       "标准差       2.001402\n",
       "偏度       -0.649478\n",
       "峰度        1.220109"
      ]
     },
     "execution_count": 3,
     "metadata": {},
     "output_type": "execute_result"
    }
   ],
   "source": [
    "# 自定义一个函数，将这些统计指标汇总在一起：\n",
    "\n",
    "def status(x) : \n",
    "    return pd.Series([x.count(),x.min(),x.idxmin(),x.quantile(.25),x.median(),\n",
    "                      x.quantile(.75),x.mean(),x.max(),x.idxmax(),x.mad(),x.var(),\n",
    "                      x.std(),x.skew(),x.kurt()],index=['总数','最小值','最小值位置','25%分位数',\n",
    "                    '中位数','75%分位数','均值','最大值','最大值位数','平均绝对偏差','方差','标准差','偏度','峰度'])\n",
    "df = pd.DataFrame(status(d1))\n",
    "df"
   ]
  },
  {
   "cell_type": "markdown",
   "metadata": {},
   "source": [
    "在实际的工作中，我们可能需要处理的是一系列的数值型数据框，如何将这个函数应用到数据框中的每一列呢？可以使用apply函数，这个非常类似于R中的apply的应用方法。 \n",
    "将之前创建的d1,d2,d3数据构建数据框："
   ]
  },
  {
   "cell_type": "code",
   "execution_count": 4,
   "metadata": {
    "ExecuteTime": {
     "end_time": "2019-02-04T10:44:53.483478Z",
     "start_time": "2019-02-04T10:44:53.452488Z"
    }
   },
   "outputs": [
    {
     "data": {
      "text/html": [
       "<div>\n",
       "<style scoped>\n",
       "    .dataframe tbody tr th:only-of-type {\n",
       "        vertical-align: middle;\n",
       "    }\n",
       "\n",
       "    .dataframe tbody tr th {\n",
       "        vertical-align: top;\n",
       "    }\n",
       "\n",
       "    .dataframe thead th {\n",
       "        text-align: right;\n",
       "    }\n",
       "</style>\n",
       "<table border=\"1\" class=\"dataframe\">\n",
       "  <thead>\n",
       "    <tr style=\"text-align: right;\">\n",
       "      <th></th>\n",
       "      <th>x1</th>\n",
       "      <th>x2</th>\n",
       "      <th>x3</th>\n",
       "    </tr>\n",
       "  </thead>\n",
       "  <tbody>\n",
       "    <tr>\n",
       "      <th>总数</th>\n",
       "      <td>100.000000</td>\n",
       "      <td>100.000000</td>\n",
       "      <td>100.000000</td>\n",
       "    </tr>\n",
       "    <tr>\n",
       "      <th>最小值</th>\n",
       "      <td>-4.127033</td>\n",
       "      <td>0.014330</td>\n",
       "      <td>3.000000</td>\n",
       "    </tr>\n",
       "    <tr>\n",
       "      <th>最小值位置</th>\n",
       "      <td>81.000000</td>\n",
       "      <td>72.000000</td>\n",
       "      <td>76.000000</td>\n",
       "    </tr>\n",
       "    <tr>\n",
       "      <th>25%分位数</th>\n",
       "      <td>2.040101</td>\n",
       "      <td>0.249580</td>\n",
       "      <td>25.000000</td>\n",
       "    </tr>\n",
       "    <tr>\n",
       "      <th>中位数</th>\n",
       "      <td>3.204555</td>\n",
       "      <td>1.000613</td>\n",
       "      <td>54.500000</td>\n",
       "    </tr>\n",
       "    <tr>\n",
       "      <th>75%分位数</th>\n",
       "      <td>4.434788</td>\n",
       "      <td>2.101581</td>\n",
       "      <td>73.000000</td>\n",
       "    </tr>\n",
       "    <tr>\n",
       "      <th>均值</th>\n",
       "      <td>3.070225</td>\n",
       "      <td>2.028608</td>\n",
       "      <td>51.490000</td>\n",
       "    </tr>\n",
       "    <tr>\n",
       "      <th>最大值</th>\n",
       "      <td>7.781921</td>\n",
       "      <td>18.791565</td>\n",
       "      <td>98.000000</td>\n",
       "    </tr>\n",
       "    <tr>\n",
       "      <th>最大值位数</th>\n",
       "      <td>39.000000</td>\n",
       "      <td>53.000000</td>\n",
       "      <td>96.000000</td>\n",
       "    </tr>\n",
       "    <tr>\n",
       "      <th>平均绝对偏差</th>\n",
       "      <td>1.511288</td>\n",
       "      <td>1.922669</td>\n",
       "      <td>24.010800</td>\n",
       "    </tr>\n",
       "    <tr>\n",
       "      <th>方差</th>\n",
       "      <td>4.005609</td>\n",
       "      <td>10.206447</td>\n",
       "      <td>780.090808</td>\n",
       "    </tr>\n",
       "    <tr>\n",
       "      <th>标准差</th>\n",
       "      <td>2.001402</td>\n",
       "      <td>3.194753</td>\n",
       "      <td>27.930106</td>\n",
       "    </tr>\n",
       "    <tr>\n",
       "      <th>偏度</th>\n",
       "      <td>-0.649478</td>\n",
       "      <td>3.326246</td>\n",
       "      <td>-0.118917</td>\n",
       "    </tr>\n",
       "    <tr>\n",
       "      <th>峰度</th>\n",
       "      <td>1.220109</td>\n",
       "      <td>12.636286</td>\n",
       "      <td>-1.211579</td>\n",
       "    </tr>\n",
       "  </tbody>\n",
       "</table>\n",
       "</div>"
      ],
      "text/plain": [
       "                x1          x2          x3\n",
       "总数      100.000000  100.000000  100.000000\n",
       "最小值      -4.127033    0.014330    3.000000\n",
       "最小值位置    81.000000   72.000000   76.000000\n",
       "25%分位数    2.040101    0.249580   25.000000\n",
       "中位数       3.204555    1.000613   54.500000\n",
       "75%分位数    4.434788    2.101581   73.000000\n",
       "均值        3.070225    2.028608   51.490000\n",
       "最大值       7.781921   18.791565   98.000000\n",
       "最大值位数    39.000000   53.000000   96.000000\n",
       "平均绝对偏差    1.511288    1.922669   24.010800\n",
       "方差        4.005609   10.206447  780.090808\n",
       "标准差       2.001402    3.194753   27.930106\n",
       "偏度       -0.649478    3.326246   -0.118917\n",
       "峰度        1.220109   12.636286   -1.211579"
      ]
     },
     "execution_count": 4,
     "metadata": {},
     "output_type": "execute_result"
    }
   ],
   "source": [
    "df = pd.DataFrame(np.array([d1,d2,d3]).T, columns=['x1','x2','x3'])\n",
    "df.head()\n",
    "\n",
    "df.apply(status)"
   ]
  },
  {
   "cell_type": "code",
   "execution_count": 5,
   "metadata": {
    "ExecuteTime": {
     "end_time": "2019-02-04T10:48:24.047341Z",
     "start_time": "2019-02-04T10:48:23.841444Z"
    }
   },
   "outputs": [],
   "source": [
    "import matplotlib.pyplot as plt\n",
    "import matplotlib\n",
    "matplotlib.style.use('ggplot')\n",
    "%matplotlib inline"
   ]
  },
  {
   "cell_type": "markdown",
   "metadata": {},
   "source": [
    "注：使用pandas创建一个Series（序列），序列值是随机生成的1000个标准正态分布值，索引是从2000-1-1开始的1000个时间序列值\n",
    "\n"
   ]
  },
  {
   "cell_type": "code",
   "execution_count": 6,
   "metadata": {
    "ExecuteTime": {
     "end_time": "2019-02-04T10:48:31.367949Z",
     "start_time": "2019-02-04T10:48:31.018443Z"
    }
   },
   "outputs": [
    {
     "data": {
      "text/plain": [
       "<matplotlib.axes._subplots.AxesSubplot at 0x1164eada0>"
      ]
     },
     "execution_count": 6,
     "metadata": {},
     "output_type": "execute_result"
    },
    {
     "data": {
      "image/png": "[encoded data removed]",
      "text/plain": [
       "<matplotlib.figure.Figure at 0x11631af98>"
      ]
     },
     "metadata": {},
     "output_type": "display_data"
    }
   ],
   "source": [
    "import pandas as pd\n",
    "import numpy as np\n",
    "ts = pd.Series(np.random.randn(1000), index=pd.date_range('1/1/2000', periods=1000))\n",
    "ts.plot()"
   ]
  },
  {
   "cell_type": "markdown",
   "metadata": {},
   "source": [
    "可以看出，这个图非常不规则，因为相邻的两个值也是随机大小\n",
    "这里加上了ts = ts.cumsum()，意思是返回累积值，在时间序列分析中，经常观察累积值曲线观察走势.\n",
    "\n",
    "是不是这个累积值看起来规则多了呢?"
   ]
  },
  {
   "cell_type": "code",
   "execution_count": 7,
   "metadata": {
    "ExecuteTime": {
     "end_time": "2019-02-04T10:50:26.411973Z",
     "start_time": "2019-02-04T10:50:26.175970Z"
    },
    "scrolled": true
   },
   "outputs": [
    {
     "data": {
      "text/plain": [
       "<matplotlib.axes._subplots.AxesSubplot at 0x116525f98>"
      ]
     },
     "execution_count": 7,
     "metadata": {},
     "output_type": "execute_result"
    },
    {
     "data": {
      "image/png": "[encoded data removed]",
      "text/plain": [
       "<matplotlib.figure.Figure at 0x1165d97b8>"
      ]
     },
     "metadata": {},
     "output_type": "display_data"
    }
   ],
   "source": [
    "import pandas as pd\n",
    "import numpy as np\n",
    "ts = pd.Series(np.random.randn(1000), index=pd.date_range('1/1/2000', periods=1000))\n",
    "ts = ts.cumsum()\n",
    "ts.plot()"
   ]
  },
  {
   "cell_type": "markdown",
   "metadata": {},
   "source": [
    "使用pandas创建了一个DataFrame（数据框，有点像excel表格那种），为什么不用刚才的Series呢？\n",
    "\n",
    "划重点啦！因为这里DataFrame中创建了4组数据\n",
    "\n",
    "这4组数据都是随机生成的1000个标准正态分布值\n",
    "\n",
    "索引是从2000-1-1开始的1000个时间序列值\n",
    "\n",
    "并且也是求他们各自的累积值并且画图"
   ]
  },
  {
   "cell_type": "code",
   "execution_count": 8,
   "metadata": {
    "ExecuteTime": {
     "end_time": "2019-02-04T10:56:41.729760Z",
     "start_time": "2019-02-04T10:56:41.404922Z"
    },
    "scrolled": true
   },
   "outputs": [
    {
     "data": {
      "text/plain": [
       "<matplotlib.axes._subplots.AxesSubplot at 0x116823748>"
      ]
     },
     "execution_count": 8,
     "metadata": {},
     "output_type": "execute_result"
    },
    {
     "data": {
      "text/plain": [
       "<matplotlib.figure.Figure at 0x116864668>"
      ]
     },
     "metadata": {},
     "output_type": "display_data"
    },
    {
     "data": {
      "image/png": "[encoded data removed]",
      "text/plain": [
       "<matplotlib.figure.Figure at 0x116758748>"
      ]
     },
     "metadata": {},
     "output_type": "display_data"
    }
   ],
   "source": [
    "df = pd.DataFrame(np.random.randn(1000, 4), index=ts.index, columns=list('ABCD'))\n",
    "df = df.cumsum()\n",
    "plt.figure()\n",
    "df.plot()"
   ]
  },
  {
   "cell_type": "code",
   "execution_count": 9,
   "metadata": {
    "ExecuteTime": {
     "end_time": "2019-02-04T11:00:51.187051Z",
     "start_time": "2019-02-04T11:00:51.181223Z"
    }
   },
   "outputs": [
    {
     "data": {
      "text/plain": [
       "[0, 1, 2]"
      ]
     },
     "execution_count": 9,
     "metadata": {},
     "output_type": "execute_result"
    }
   ],
   "source": [
    "list(range(len('xyz')))"
   ]
  },
  {
   "cell_type": "markdown",
   "metadata": {},
   "source": [
    "使用DataFrame创建了2组数据，也是1000个标准正态分布，分别命名为B、C（就行excel中列名）\n",
    "\n",
    "并且求累积值\n",
    "\n",
    "再在原来的df（DataFrame的简称）(这里名字是df3）上加上一列名为A\n",
    "\n",
    "A的值是0-999（使用df3的长度为1000，然后range被套列表生成一列数，作为x轴），y轴是B列数据（累积值），c列数据最后绘图没有用上"
   ]
  },
  {
   "cell_type": "code",
   "execution_count": 10,
   "metadata": {
    "ExecuteTime": {
     "end_time": "2019-02-04T11:01:33.255819Z",
     "start_time": "2019-02-04T11:01:33.024435Z"
    }
   },
   "outputs": [
    {
     "data": {
      "text/plain": [
       "<matplotlib.axes._subplots.AxesSubplot at 0x1169870f0>"
      ]
     },
     "execution_count": 10,
     "metadata": {},
     "output_type": "execute_result"
    },
    {
     "data": {
      "image/png": "[encoded data removed]",
      "text/plain": [
       "<matplotlib.figure.Figure at 0x116980c50>"
      ]
     },
     "metadata": {},
     "output_type": "display_data"
    }
   ],
   "source": [
    "df3 = pd.DataFrame(np.random.randn(1000, 2), columns=['B', 'C']).cumsum()\n",
    "df3['A'] = pd.Series(list(range(len(df))))\n",
    "df3.plot(x='A', y='B')"
   ]
  },
  {
   "cell_type": "code",
   "execution_count": 12,
   "metadata": {
    "ExecuteTime": {
     "end_time": "2019-02-04T11:03:07.016630Z",
     "start_time": "2019-02-04T11:03:06.980621Z"
    },
    "scrolled": true
   },
   "outputs": [
    {
     "data": {
      "text/html": [
       "<div>\n",
       "<style scoped>\n",
       "    .dataframe tbody tr th:only-of-type {\n",
       "        vertical-align: middle;\n",
       "    }\n",
       "\n",
       "    .dataframe tbody tr th {\n",
       "        vertical-align: top;\n",
       "    }\n",
       "\n",
       "    .dataframe thead th {\n",
       "        text-align: right;\n",
       "    }\n",
       "</style>\n",
       "<table border=\"1\" class=\"dataframe\">\n",
       "  <thead>\n",
       "    <tr style=\"text-align: right;\">\n",
       "      <th></th>\n",
       "      <th>A</th>\n",
       "      <th>B</th>\n",
       "      <th>C</th>\n",
       "      <th>D</th>\n",
       "    </tr>\n",
       "  </thead>\n",
       "  <tbody>\n",
       "    <tr>\n",
       "      <th>2000-01-01</th>\n",
       "      <td>-1.974207</td>\n",
       "      <td>-0.671157</td>\n",
       "      <td>-0.709526</td>\n",
       "      <td>0.873632</td>\n",
       "    </tr>\n",
       "    <tr>\n",
       "      <th>2000-01-02</th>\n",
       "      <td>-0.941348</td>\n",
       "      <td>0.256741</td>\n",
       "      <td>1.044619</td>\n",
       "      <td>0.685581</td>\n",
       "    </tr>\n",
       "    <tr>\n",
       "      <th>2000-01-03</th>\n",
       "      <td>-1.180258</td>\n",
       "      <td>0.477377</td>\n",
       "      <td>0.809862</td>\n",
       "      <td>0.335963</td>\n",
       "    </tr>\n",
       "    <tr>\n",
       "      <th>2000-01-04</th>\n",
       "      <td>-0.680418</td>\n",
       "      <td>-0.196442</td>\n",
       "      <td>0.790442</td>\n",
       "      <td>-1.581054</td>\n",
       "    </tr>\n",
       "    <tr>\n",
       "      <th>2000-01-05</th>\n",
       "      <td>-3.890949</td>\n",
       "      <td>1.495107</td>\n",
       "      <td>1.687386</td>\n",
       "      <td>-1.531064</td>\n",
       "    </tr>\n",
       "    <tr>\n",
       "      <th>2000-01-06</th>\n",
       "      <td>-3.550266</td>\n",
       "      <td>2.400415</td>\n",
       "      <td>3.306413</td>\n",
       "      <td>-1.182988</td>\n",
       "    </tr>\n",
       "    <tr>\n",
       "      <th>2000-01-07</th>\n",
       "      <td>-4.017105</td>\n",
       "      <td>0.983606</td>\n",
       "      <td>4.570592</td>\n",
       "      <td>-1.823247</td>\n",
       "    </tr>\n",
       "    <tr>\n",
       "      <th>2000-01-08</th>\n",
       "      <td>-6.408867</td>\n",
       "      <td>0.206634</td>\n",
       "      <td>4.215379</td>\n",
       "      <td>-2.965966</td>\n",
       "    </tr>\n",
       "    <tr>\n",
       "      <th>2000-01-09</th>\n",
       "      <td>-7.164463</td>\n",
       "      <td>-0.676156</td>\n",
       "      <td>3.485211</td>\n",
       "      <td>-3.684008</td>\n",
       "    </tr>\n",
       "    <tr>\n",
       "      <th>2000-01-10</th>\n",
       "      <td>-6.286498</td>\n",
       "      <td>0.347984</td>\n",
       "      <td>4.740890</td>\n",
       "      <td>-4.402415</td>\n",
       "    </tr>\n",
       "    <tr>\n",
       "      <th>2000-01-11</th>\n",
       "      <td>-5.466648</td>\n",
       "      <td>0.976572</td>\n",
       "      <td>3.157733</td>\n",
       "      <td>-4.580040</td>\n",
       "    </tr>\n",
       "    <tr>\n",
       "      <th>2000-01-12</th>\n",
       "      <td>-4.984265</td>\n",
       "      <td>0.255305</td>\n",
       "      <td>4.127996</td>\n",
       "      <td>-5.381141</td>\n",
       "    </tr>\n",
       "    <tr>\n",
       "      <th>2000-01-13</th>\n",
       "      <td>-4.508116</td>\n",
       "      <td>1.515573</td>\n",
       "      <td>5.114263</td>\n",
       "      <td>-4.255379</td>\n",
       "    </tr>\n",
       "    <tr>\n",
       "      <th>2000-01-14</th>\n",
       "      <td>-2.585961</td>\n",
       "      <td>1.515952</td>\n",
       "      <td>4.464052</td>\n",
       "      <td>-4.607440</td>\n",
       "    </tr>\n",
       "    <tr>\n",
       "      <th>2000-01-15</th>\n",
       "      <td>-1.256312</td>\n",
       "      <td>1.808085</td>\n",
       "      <td>5.021327</td>\n",
       "      <td>-3.073431</td>\n",
       "    </tr>\n",
       "    <tr>\n",
       "      <th>2000-01-16</th>\n",
       "      <td>-0.260434</td>\n",
       "      <td>1.034978</td>\n",
       "      <td>4.899893</td>\n",
       "      <td>-4.732343</td>\n",
       "    </tr>\n",
       "    <tr>\n",
       "      <th>2000-01-17</th>\n",
       "      <td>-0.245872</td>\n",
       "      <td>-0.581759</td>\n",
       "      <td>3.488449</td>\n",
       "      <td>-4.077339</td>\n",
       "    </tr>\n",
       "    <tr>\n",
       "      <th>2000-01-18</th>\n",
       "      <td>0.712558</td>\n",
       "      <td>0.503391</td>\n",
       "      <td>3.897452</td>\n",
       "      <td>-5.054385</td>\n",
       "    </tr>\n",
       "    <tr>\n",
       "      <th>2000-01-19</th>\n",
       "      <td>1.267849</td>\n",
       "      <td>0.112109</td>\n",
       "      <td>3.357640</td>\n",
       "      <td>-3.535810</td>\n",
       "    </tr>\n",
       "    <tr>\n",
       "      <th>2000-01-20</th>\n",
       "      <td>-0.421280</td>\n",
       "      <td>0.710054</td>\n",
       "      <td>3.281066</td>\n",
       "      <td>-3.493166</td>\n",
       "    </tr>\n",
       "    <tr>\n",
       "      <th>2000-01-21</th>\n",
       "      <td>-1.740055</td>\n",
       "      <td>0.050178</td>\n",
       "      <td>2.828039</td>\n",
       "      <td>-0.749884</td>\n",
       "    </tr>\n",
       "    <tr>\n",
       "      <th>2000-01-22</th>\n",
       "      <td>-0.400543</td>\n",
       "      <td>-0.803595</td>\n",
       "      <td>1.711237</td>\n",
       "      <td>-1.079381</td>\n",
       "    </tr>\n",
       "    <tr>\n",
       "      <th>2000-01-23</th>\n",
       "      <td>-0.123544</td>\n",
       "      <td>-1.216330</td>\n",
       "      <td>3.001524</td>\n",
       "      <td>-1.871394</td>\n",
       "    </tr>\n",
       "    <tr>\n",
       "      <th>2000-01-24</th>\n",
       "      <td>-0.402261</td>\n",
       "      <td>1.727586</td>\n",
       "      <td>2.502904</td>\n",
       "      <td>-2.257820</td>\n",
       "    </tr>\n",
       "    <tr>\n",
       "      <th>2000-01-25</th>\n",
       "      <td>-1.266559</td>\n",
       "      <td>1.067980</td>\n",
       "      <td>1.649721</td>\n",
       "      <td>-3.387753</td>\n",
       "    </tr>\n",
       "    <tr>\n",
       "      <th>2000-01-26</th>\n",
       "      <td>1.297414</td>\n",
       "      <td>0.199353</td>\n",
       "      <td>2.617944</td>\n",
       "      <td>-3.289652</td>\n",
       "    </tr>\n",
       "    <tr>\n",
       "      <th>2000-01-27</th>\n",
       "      <td>1.453369</td>\n",
       "      <td>0.157342</td>\n",
       "      <td>2.588024</td>\n",
       "      <td>-3.055564</td>\n",
       "    </tr>\n",
       "    <tr>\n",
       "      <th>2000-01-28</th>\n",
       "      <td>1.202093</td>\n",
       "      <td>0.410868</td>\n",
       "      <td>2.757784</td>\n",
       "      <td>-4.207374</td>\n",
       "    </tr>\n",
       "    <tr>\n",
       "      <th>2000-01-29</th>\n",
       "      <td>0.797352</td>\n",
       "      <td>-0.802876</td>\n",
       "      <td>2.245806</td>\n",
       "      <td>-3.650108</td>\n",
       "    </tr>\n",
       "    <tr>\n",
       "      <th>2000-01-30</th>\n",
       "      <td>0.310235</td>\n",
       "      <td>-2.228895</td>\n",
       "      <td>2.693693</td>\n",
       "      <td>-2.289843</td>\n",
       "    </tr>\n",
       "    <tr>\n",
       "      <th>...</th>\n",
       "      <td>...</td>\n",
       "      <td>...</td>\n",
       "      <td>...</td>\n",
       "      <td>...</td>\n",
       "    </tr>\n",
       "    <tr>\n",
       "      <th>2002-08-28</th>\n",
       "      <td>24.663383</td>\n",
       "      <td>-22.154385</td>\n",
       "      <td>20.615593</td>\n",
       "      <td>-15.393109</td>\n",
       "    </tr>\n",
       "    <tr>\n",
       "      <th>2002-08-29</th>\n",
       "      <td>24.036682</td>\n",
       "      <td>-20.781570</td>\n",
       "      <td>20.080307</td>\n",
       "      <td>-13.869817</td>\n",
       "    </tr>\n",
       "    <tr>\n",
       "      <th>2002-08-30</th>\n",
       "      <td>23.468459</td>\n",
       "      <td>-20.711982</td>\n",
       "      <td>19.691084</td>\n",
       "      <td>-15.222936</td>\n",
       "    </tr>\n",
       "    <tr>\n",
       "      <th>2002-08-31</th>\n",
       "      <td>22.701639</td>\n",
       "      <td>-22.593688</td>\n",
       "      <td>18.199918</td>\n",
       "      <td>-14.603315</td>\n",
       "    </tr>\n",
       "    <tr>\n",
       "      <th>2002-09-01</th>\n",
       "      <td>23.463886</td>\n",
       "      <td>-22.361908</td>\n",
       "      <td>16.736756</td>\n",
       "      <td>-14.510635</td>\n",
       "    </tr>\n",
       "    <tr>\n",
       "      <th>2002-09-02</th>\n",
       "      <td>22.901056</td>\n",
       "      <td>-20.342286</td>\n",
       "      <td>16.293299</td>\n",
       "      <td>-15.790189</td>\n",
       "    </tr>\n",
       "    <tr>\n",
       "      <th>2002-09-03</th>\n",
       "      <td>24.001624</td>\n",
       "      <td>-20.035231</td>\n",
       "      <td>15.746160</td>\n",
       "      <td>-15.752013</td>\n",
       "    </tr>\n",
       "    <tr>\n",
       "      <th>2002-09-04</th>\n",
       "      <td>24.073675</td>\n",
       "      <td>-21.044870</td>\n",
       "      <td>16.784627</td>\n",
       "      <td>-15.852608</td>\n",
       "    </tr>\n",
       "    <tr>\n",
       "      <th>2002-09-05</th>\n",
       "      <td>24.520471</td>\n",
       "      <td>-20.975141</td>\n",
       "      <td>17.441122</td>\n",
       "      <td>-15.747152</td>\n",
       "    </tr>\n",
       "    <tr>\n",
       "      <th>2002-09-06</th>\n",
       "      <td>24.377049</td>\n",
       "      <td>-21.585406</td>\n",
       "      <td>17.542668</td>\n",
       "      <td>-15.451314</td>\n",
       "    </tr>\n",
       "    <tr>\n",
       "      <th>2002-09-07</th>\n",
       "      <td>25.105843</td>\n",
       "      <td>-22.672544</td>\n",
       "      <td>17.796932</td>\n",
       "      <td>-16.667876</td>\n",
       "    </tr>\n",
       "    <tr>\n",
       "      <th>2002-09-08</th>\n",
       "      <td>25.323981</td>\n",
       "      <td>-24.763037</td>\n",
       "      <td>20.575172</td>\n",
       "      <td>-16.082209</td>\n",
       "    </tr>\n",
       "    <tr>\n",
       "      <th>2002-09-09</th>\n",
       "      <td>26.575889</td>\n",
       "      <td>-26.311571</td>\n",
       "      <td>19.645410</td>\n",
       "      <td>-15.464214</td>\n",
       "    </tr>\n",
       "    <tr>\n",
       "      <th>2002-09-10</th>\n",
       "      <td>24.645739</td>\n",
       "      <td>-24.361734</td>\n",
       "      <td>19.588823</td>\n",
       "      <td>-15.305178</td>\n",
       "    </tr>\n",
       "    <tr>\n",
       "      <th>2002-09-11</th>\n",
       "      <td>23.449127</td>\n",
       "      <td>-23.652005</td>\n",
       "      <td>16.321336</td>\n",
       "      <td>-13.826834</td>\n",
       "    </tr>\n",
       "    <tr>\n",
       "      <th>2002-09-12</th>\n",
       "      <td>24.960374</td>\n",
       "      <td>-24.788195</td>\n",
       "      <td>15.679868</td>\n",
       "      <td>-15.715353</td>\n",
       "    </tr>\n",
       "    <tr>\n",
       "      <th>2002-09-13</th>\n",
       "      <td>25.115185</td>\n",
       "      <td>-24.943937</td>\n",
       "      <td>15.762620</td>\n",
       "      <td>-17.330261</td>\n",
       "    </tr>\n",
       "    <tr>\n",
       "      <th>2002-09-14</th>\n",
       "      <td>25.238558</td>\n",
       "      <td>-25.170846</td>\n",
       "      <td>14.994299</td>\n",
       "      <td>-18.224791</td>\n",
       "    </tr>\n",
       "    <tr>\n",
       "      <th>2002-09-15</th>\n",
       "      <td>24.928090</td>\n",
       "      <td>-24.800895</td>\n",
       "      <td>15.288649</td>\n",
       "      <td>-20.482494</td>\n",
       "    </tr>\n",
       "    <tr>\n",
       "      <th>2002-09-16</th>\n",
       "      <td>24.658505</td>\n",
       "      <td>-24.687548</td>\n",
       "      <td>15.158813</td>\n",
       "      <td>-19.474906</td>\n",
       "    </tr>\n",
       "    <tr>\n",
       "      <th>2002-09-17</th>\n",
       "      <td>24.643252</td>\n",
       "      <td>-24.365009</td>\n",
       "      <td>15.451283</td>\n",
       "      <td>-17.735202</td>\n",
       "    </tr>\n",
       "    <tr>\n",
       "      <th>2002-09-18</th>\n",
       "      <td>23.968956</td>\n",
       "      <td>-24.476005</td>\n",
       "      <td>16.096352</td>\n",
       "      <td>-15.497735</td>\n",
       "    </tr>\n",
       "    <tr>\n",
       "      <th>2002-09-19</th>\n",
       "      <td>23.493670</td>\n",
       "      <td>-24.509422</td>\n",
       "      <td>16.930704</td>\n",
       "      <td>-14.774442</td>\n",
       "    </tr>\n",
       "    <tr>\n",
       "      <th>2002-09-20</th>\n",
       "      <td>22.190603</td>\n",
       "      <td>-24.062275</td>\n",
       "      <td>16.297017</td>\n",
       "      <td>-15.671886</td>\n",
       "    </tr>\n",
       "    <tr>\n",
       "      <th>2002-09-21</th>\n",
       "      <td>21.990580</td>\n",
       "      <td>-24.940946</td>\n",
       "      <td>18.144552</td>\n",
       "      <td>-16.151752</td>\n",
       "    </tr>\n",
       "    <tr>\n",
       "      <th>2002-09-22</th>\n",
       "      <td>24.125169</td>\n",
       "      <td>-25.153019</td>\n",
       "      <td>19.243157</td>\n",
       "      <td>-17.470025</td>\n",
       "    </tr>\n",
       "    <tr>\n",
       "      <th>2002-09-23</th>\n",
       "      <td>24.376682</td>\n",
       "      <td>-24.813668</td>\n",
       "      <td>19.437193</td>\n",
       "      <td>-15.681105</td>\n",
       "    </tr>\n",
       "    <tr>\n",
       "      <th>2002-09-24</th>\n",
       "      <td>24.333379</td>\n",
       "      <td>-24.931485</td>\n",
       "      <td>20.124696</td>\n",
       "      <td>-16.400141</td>\n",
       "    </tr>\n",
       "    <tr>\n",
       "      <th>2002-09-25</th>\n",
       "      <td>24.956324</td>\n",
       "      <td>-24.306109</td>\n",
       "      <td>20.537082</td>\n",
       "      <td>-15.693300</td>\n",
       "    </tr>\n",
       "    <tr>\n",
       "      <th>2002-09-26</th>\n",
       "      <td>25.556428</td>\n",
       "      <td>-23.964910</td>\n",
       "      <td>21.777418</td>\n",
       "      <td>-15.957279</td>\n",
       "    </tr>\n",
       "  </tbody>\n",
       "</table>\n",
       "<p>1000 rows × 4 columns</p>\n",
       "</div>"
      ],
      "text/plain": [
       "                    A          B          C          D\n",
       "2000-01-01  -1.974207  -0.671157  -0.709526   0.873632\n",
       "2000-01-02  -0.941348   0.256741   1.044619   0.685581\n",
       "2000-01-03  -1.180258   0.477377   0.809862   0.335963\n",
       "2000-01-04  -0.680418  -0.196442   0.790442  -1.581054\n",
       "2000-01-05  -3.890949   1.495107   1.687386  -1.531064\n",
       "2000-01-06  -3.550266   2.400415   3.306413  -1.182988\n",
       "2000-01-07  -4.017105   0.983606   4.570592  -1.823247\n",
       "2000-01-08  -6.408867   0.206634   4.215379  -2.965966\n",
       "2000-01-09  -7.164463  -0.676156   3.485211  -3.684008\n",
       "2000-01-10  -6.286498   0.347984   4.740890  -4.402415\n",
       "2000-01-11  -5.466648   0.976572   3.157733  -4.580040\n",
       "2000-01-12  -4.984265   0.255305   4.127996  -5.381141\n",
       "2000-01-13  -4.508116   1.515573   5.114263  -4.255379\n",
       "2000-01-14  -2.585961   1.515952   4.464052  -4.607440\n",
       "2000-01-15  -1.256312   1.808085   5.021327  -3.073431\n",
       "2000-01-16  -0.260434   1.034978   4.899893  -4.732343\n",
       "2000-01-17  -0.245872  -0.581759   3.488449  -4.077339\n",
       "2000-01-18   0.712558   0.503391   3.897452  -5.054385\n",
       "2000-01-19   1.267849   0.112109   3.357640  -3.535810\n",
       "2000-01-20  -0.421280   0.710054   3.281066  -3.493166\n",
       "2000-01-21  -1.740055   0.050178   2.828039  -0.749884\n",
       "2000-01-22  -0.400543  -0.803595   1.711237  -1.079381\n",
       "2000-01-23  -0.123544  -1.216330   3.001524  -1.871394\n",
       "2000-01-24  -0.402261   1.727586   2.502904  -2.257820\n",
       "2000-01-25  -1.266559   1.067980   1.649721  -3.387753\n",
       "2000-01-26   1.297414   0.199353   2.617944  -3.289652\n",
       "2000-01-27   1.453369   0.157342   2.588024  -3.055564\n",
       "2000-01-28   1.202093   0.410868   2.757784  -4.207374\n",
       "2000-01-29   0.797352  -0.802876   2.245806  -3.650108\n",
       "2000-01-30   0.310235  -2.228895   2.693693  -2.289843\n",
       "...               ...        ...        ...        ...\n",
       "2002-08-28  24.663383 -22.154385  20.615593 -15.393109\n",
       "2002-08-29  24.036682 -20.781570  20.080307 -13.869817\n",
       "2002-08-30  23.468459 -20.711982  19.691084 -15.222936\n",
       "2002-08-31  22.701639 -22.593688  18.199918 -14.603315\n",
       "2002-09-01  23.463886 -22.361908  16.736756 -14.510635\n",
       "2002-09-02  22.901056 -20.342286  16.293299 -15.790189\n",
       "2002-09-03  24.001624 -20.035231  15.746160 -15.752013\n",
       "2002-09-04  24.073675 -21.044870  16.784627 -15.852608\n",
       "2002-09-05  24.520471 -20.975141  17.441122 -15.747152\n",
       "2002-09-06  24.377049 -21.585406  17.542668 -15.451314\n",
       "2002-09-07  25.105843 -22.672544  17.796932 -16.667876\n",
       "2002-09-08  25.323981 -24.763037  20.575172 -16.082209\n",
       "2002-09-09  26.575889 -26.311571  19.645410 -15.464214\n",
       "2002-09-10  24.645739 -24.361734  19.588823 -15.305178\n",
       "2002-09-11  23.449127 -23.652005  16.321336 -13.826834\n",
       "2002-09-12  24.960374 -24.788195  15.679868 -15.715353\n",
       "2002-09-13  25.115185 -24.943937  15.762620 -17.330261\n",
       "2002-09-14  25.238558 -25.170846  14.994299 -18.224791\n",
       "2002-09-15  24.928090 -24.800895  15.288649 -20.482494\n",
       "2002-09-16  24.658505 -24.687548  15.158813 -19.474906\n",
       "2002-09-17  24.643252 -24.365009  15.451283 -17.735202\n",
       "2002-09-18  23.968956 -24.476005  16.096352 -15.497735\n",
       "2002-09-19  23.493670 -24.509422  16.930704 -14.774442\n",
       "2002-09-20  22.190603 -24.062275  16.297017 -15.671886\n",
       "2002-09-21  21.990580 -24.940946  18.144552 -16.151752\n",
       "2002-09-22  24.125169 -25.153019  19.243157 -17.470025\n",
       "2002-09-23  24.376682 -24.813668  19.437193 -15.681105\n",
       "2002-09-24  24.333379 -24.931485  20.124696 -16.400141\n",
       "2002-09-25  24.956324 -24.306109  20.537082 -15.693300\n",
       "2002-09-26  25.556428 -23.964910  21.777418 -15.957279\n",
       "\n",
       "[1000 rows x 4 columns]"
      ]
     },
     "execution_count": 12,
     "metadata": {},
     "output_type": "execute_result"
    }
   ],
   "source": [
    "# 条形图\n",
    "# 对于标记的非时间序列数据，你可能希望生成条形图：\n",
    "\n",
    "import matplotlib\n",
    "import matplotlib.pyplot as plt\n",
    "import pandas as pd\n",
    "import numpy as np\n",
    "matplotlib.style.use('ggplot')#使用ggplot样式\n",
    "%matplotlib inline\n",
    "\n",
    "ts = pd.Series(np.random.randn(1000), index=pd.date_range('1/1/2000', periods=1000))\n",
    "ts = ts.cumsum()\n",
    "df = pd.DataFrame(np.random.randn(1000, 4), index=ts.index, columns=list('ABCD'))\n",
    "df = df.cumsum()\n",
    "df"
   ]
  },
  {
   "cell_type": "code",
   "execution_count": 13,
   "metadata": {
    "ExecuteTime": {
     "end_time": "2019-02-04T11:03:46.453090Z",
     "start_time": "2019-02-04T11:03:46.262938Z"
    },
    "scrolled": true
   },
   "outputs": [
    {
     "data": {
      "text/plain": [
       "<matplotlib.lines.Line2D at 0x1169e28d0>"
      ]
     },
     "execution_count": 13,
     "metadata": {},
     "output_type": "execute_result"
    },
    {
     "data": {
      "image/png": "[encoded data removed]",
      "text/plain": [
       "<matplotlib.figure.Figure at 0x1169791d0>"
      ]
     },
     "metadata": {},
     "output_type": "display_data"
    }
   ],
   "source": [
    "plt.figure();\n",
    "df.iloc[5].plot(kind='bar')\n",
    "plt.axhline(0, color='k')\n",
    "\n",
    "# 注：df.iloc[5]意思是取出df第6行（索引为5），然后绘制条形图\n",
    "# plt.axhline(0, color='k')指的是在y=0的位置画一条黑色的线"
   ]
  },
  {
   "cell_type": "code",
   "execution_count": 14,
   "metadata": {
    "ExecuteTime": {
     "end_time": "2019-02-04T11:07:41.506998Z",
     "start_time": "2019-02-04T11:07:41.196566Z"
    },
    "scrolled": true
   },
   "outputs": [
    {
     "data": {
      "text/plain": [
       "<matplotlib.axes._subplots.AxesSubplot at 0x116b22d30>"
      ]
     },
     "execution_count": 14,
     "metadata": {},
     "output_type": "execute_result"
    },
    {
     "data": {
      "image/png": "[encoded data removed]",
      "text/plain": [
       "<matplotlib.figure.Figure at 0x116af1470>"
      ]
     },
     "metadata": {},
     "output_type": "display_data"
    }
   ],
   "source": [
    "df2 = pd.DataFrame(np.random.rand(10, 4), columns=['a', 'b', 'c', 'd'])\n",
    "df2.plot.bar()\n",
    "# 同一幅图绘制多个条形图比较"
   ]
  },
  {
   "cell_type": "code",
   "execution_count": 15,
   "metadata": {
    "ExecuteTime": {
     "end_time": "2019-02-04T11:08:52.864684Z",
     "start_time": "2019-02-04T11:08:52.588706Z"
    },
    "scrolled": true
   },
   "outputs": [
    {
     "data": {
      "text/plain": [
       "<matplotlib.axes._subplots.AxesSubplot at 0x1169c5d30>"
      ]
     },
     "execution_count": 15,
     "metadata": {},
     "output_type": "execute_result"
    },
    {
     "data": {
      "image/png": "[encoded data removed]",
      "text/plain": [
       "<matplotlib.figure.Figure at 0x116b1acc0>"
      ]
     },
     "metadata": {},
     "output_type": "display_data"
    }
   ],
   "source": [
    "df2.plot.bar(stacked=True)\n",
    "# 注：将a、b、c、d数据叠加起来绘制条形图"
   ]
  },
  {
   "cell_type": "code",
   "execution_count": 16,
   "metadata": {
    "ExecuteTime": {
     "end_time": "2019-02-04T11:09:05.435096Z",
     "start_time": "2019-02-04T11:09:05.083877Z"
    },
    "scrolled": true
   },
   "outputs": [
    {
     "data": {
      "text/plain": [
       "<matplotlib.axes._subplots.AxesSubplot at 0x116c3f748>"
      ]
     },
     "execution_count": 16,
     "metadata": {},
     "output_type": "execute_result"
    },
    {
     "data": {
      "image/png": "[encoded data removed]",
      "text/plain": [
       "<matplotlib.figure.Figure at 0x116af1588>"
      ]
     },
     "metadata": {},
     "output_type": "display_data"
    }
   ],
   "source": [
    "df2.plot.barh(stacked=True)\n",
    "# 注：绘制水平叠加条形图"
   ]
  },
  {
   "cell_type": "markdown",
   "metadata": {},
   "source": [
    "## 直方图\n"
   ]
  },
  {
   "cell_type": "code",
   "execution_count": 17,
   "metadata": {
    "ExecuteTime": {
     "end_time": "2019-02-04T11:09:50.917358Z",
     "start_time": "2019-02-04T11:09:50.902375Z"
    }
   },
   "outputs": [
    {
     "data": {
      "text/html": [
       "<div>\n",
       "<style scoped>\n",
       "    .dataframe tbody tr th:only-of-type {\n",
       "        vertical-align: middle;\n",
       "    }\n",
       "\n",
       "    .dataframe tbody tr th {\n",
       "        vertical-align: top;\n",
       "    }\n",
       "\n",
       "    .dataframe thead th {\n",
       "        text-align: right;\n",
       "    }\n",
       "</style>\n",
       "<table border=\"1\" class=\"dataframe\">\n",
       "  <thead>\n",
       "    <tr style=\"text-align: right;\">\n",
       "      <th></th>\n",
       "      <th>a</th>\n",
       "      <th>b</th>\n",
       "      <th>c</th>\n",
       "    </tr>\n",
       "  </thead>\n",
       "  <tbody>\n",
       "    <tr>\n",
       "      <th>0</th>\n",
       "      <td>0.315527</td>\n",
       "      <td>0.152397</td>\n",
       "      <td>-2.177642</td>\n",
       "    </tr>\n",
       "    <tr>\n",
       "      <th>1</th>\n",
       "      <td>0.504475</td>\n",
       "      <td>0.929167</td>\n",
       "      <td>-0.718356</td>\n",
       "    </tr>\n",
       "    <tr>\n",
       "      <th>2</th>\n",
       "      <td>0.419294</td>\n",
       "      <td>-0.879575</td>\n",
       "      <td>-0.894870</td>\n",
       "    </tr>\n",
       "    <tr>\n",
       "      <th>3</th>\n",
       "      <td>-0.626081</td>\n",
       "      <td>-1.536683</td>\n",
       "      <td>-1.008666</td>\n",
       "    </tr>\n",
       "    <tr>\n",
       "      <th>4</th>\n",
       "      <td>2.106907</td>\n",
       "      <td>0.178452</td>\n",
       "      <td>-0.659536</td>\n",
       "    </tr>\n",
       "  </tbody>\n",
       "</table>\n",
       "</div>"
      ],
      "text/plain": [
       "          a         b         c\n",
       "0  0.315527  0.152397 -2.177642\n",
       "1  0.504475  0.929167 -0.718356\n",
       "2  0.419294 -0.879575 -0.894870\n",
       "3 -0.626081 -1.536683 -1.008666\n",
       "4  2.106907  0.178452 -0.659536"
      ]
     },
     "execution_count": 17,
     "metadata": {},
     "output_type": "execute_result"
    }
   ],
   "source": [
    "df4 = pd.DataFrame({'a': np.random.randn(1000) + 1, 'b': np.random.randn(1000),\n",
    "                    'c': np.random.randn(1000) - 1}, columns=['a', 'b', 'c'])\n",
    "df4.head()\n",
    "\n",
    "# 注：以标准正态分布为基础产生一个df4"
   ]
  },
  {
   "cell_type": "code",
   "execution_count": 19,
   "metadata": {
    "ExecuteTime": {
     "end_time": "2019-02-04T11:10:10.741244Z",
     "start_time": "2019-02-04T11:10:10.438834Z"
    },
    "scrolled": true
   },
   "outputs": [
    {
     "data": {
      "text/plain": [
       "<matplotlib.axes._subplots.AxesSubplot at 0x116f40a58>"
      ]
     },
     "execution_count": 19,
     "metadata": {},
     "output_type": "execute_result"
    },
    {
     "data": {
      "text/plain": [
       "<matplotlib.figure.Figure at 0x116d299e8>"
      ]
     },
     "metadata": {},
     "output_type": "display_data"
    },
    {
     "data": {
      "image/png": "[encoded data removed]",
      "text/plain": [
       "<matplotlib.figure.Figure at 0x1170c7630>"
      ]
     },
     "metadata": {},
     "output_type": "display_data"
    }
   ],
   "source": [
    "plt.figure()\n",
    "df4.plot.hist(alpha=0.5)\n",
    "# 注：绘制直方图，alpha=0.5意思为透明度为50%\n",
    "# 注：明明有三列数据，画出有六种颜色，应该是是颜色叠加出了新颜色"
   ]
  },
  {
   "cell_type": "code",
   "execution_count": 20,
   "metadata": {
    "ExecuteTime": {
     "end_time": "2019-02-04T11:11:21.325413Z",
     "start_time": "2019-02-04T11:11:20.942969Z"
    }
   },
   "outputs": [
    {
     "data": {
      "text/plain": [
       "<matplotlib.axes._subplots.AxesSubplot at 0x1172693c8>"
      ]
     },
     "execution_count": 20,
     "metadata": {},
     "output_type": "execute_result"
    },
    {
     "data": {
      "text/plain": [
       "<matplotlib.figure.Figure at 0x116ff08d0>"
      ]
     },
     "metadata": {},
     "output_type": "display_data"
    },
    {
     "data": {
      "image/png": "[encoded data removed]",
      "text/plain": [
       "<matplotlib.figure.Figure at 0x116da5630>"
      ]
     },
     "metadata": {},
     "output_type": "display_data"
    }
   ],
   "source": [
    "plt.figure()\n",
    "df4.plot.hist(stacked=True, bins=20)\n",
    "# 注：画堆积直方图（不会重叠，直观）bins=20指的是分为20个区段\n",
    "# 图中没有显示20个因为正态分布距离中心远处取值可能心很小，\n",
    "# 可能只有个别值，在图中不明显"
   ]
  },
  {
   "cell_type": "code",
   "execution_count": 21,
   "metadata": {
    "ExecuteTime": {
     "end_time": "2019-02-04T11:11:40.563720Z",
     "start_time": "2019-02-04T11:11:40.358669Z"
    }
   },
   "outputs": [
    {
     "data": {
      "text/plain": [
       "<matplotlib.axes._subplots.AxesSubplot at 0x11731e828>"
      ]
     },
     "execution_count": 21,
     "metadata": {},
     "output_type": "execute_result"
    },
    {
     "data": {
      "image/png": "[encoded data removed]",
      "text/plain": [
       "<matplotlib.figure.Figure at 0x116eaeb38>"
      ]
     },
     "metadata": {},
     "output_type": "display_data"
    }
   ],
   "source": [
    "plt.figure();\n",
    "df4['a'].plot.hist(orientation='horizontal', cumulative=True)\n",
    "# 注：取出A列画横向累积直方图，采用默认10个区段"
   ]
  },
  {
   "cell_type": "code",
   "execution_count": 22,
   "metadata": {
    "ExecuteTime": {
     "end_time": "2019-02-04T11:12:00.002591Z",
     "start_time": "2019-02-04T11:11:59.783236Z"
    }
   },
   "outputs": [
    {
     "data": {
      "text/plain": [
       "<matplotlib.axes._subplots.AxesSubplot at 0x117459c50>"
      ]
     },
     "execution_count": 22,
     "metadata": {},
     "output_type": "execute_result"
    },
    {
     "data": {
      "image/png": "[encoded data removed]",
      "text/plain": [
       "<matplotlib.figure.Figure at 0x1171d07f0>"
      ]
     },
     "metadata": {},
     "output_type": "display_data"
    }
   ],
   "source": [
    "plt.figure()\n",
    "df['A'].diff().hist()\n",
    "# 注：diff为差分，即后一个减去前一个,我们看一下："
   ]
  },
  {
   "cell_type": "code",
   "execution_count": 23,
   "metadata": {
    "ExecuteTime": {
     "end_time": "2019-02-04T11:12:19.210369Z",
     "start_time": "2019-02-04T11:12:19.185013Z"
    }
   },
   "outputs": [
    {
     "data": {
      "text/plain": [
       "2000-01-01         NaN\n",
       "2000-01-02    1.032859\n",
       "2000-01-03   -0.238910\n",
       "2000-01-04    0.499840\n",
       "2000-01-05   -3.210531\n",
       "Freq: D, Name: A, dtype: float64"
      ]
     },
     "execution_count": 23,
     "metadata": {},
     "output_type": "execute_result"
    }
   ],
   "source": [
    "df['A'].diff().head()\n",
    "# 注：显示A列中差分结果的前五个数"
   ]
  },
  {
   "cell_type": "markdown",
   "metadata": {},
   "source": [
    "注意，第一个值不存在,因为原来的第一个数减去前面一个（第一个的前面一个数不存在），所以为NaN\n",
    "\n",
    "差分后绘制的直方图为（默认为十个区段吧）：..."
   ]
  },
  {
   "cell_type": "code",
   "execution_count": 25,
   "metadata": {
    "ExecuteTime": {
     "end_time": "2019-02-04T11:14:19.218150Z",
     "start_time": "2019-02-04T11:14:18.669738Z"
    }
   },
   "outputs": [
    {
     "data": {
      "text/plain": [
       "array([[<matplotlib.axes._subplots.AxesSubplot object at 0x117aacf28>,\n",
       "        <matplotlib.axes._subplots.AxesSubplot object at 0x117ae8278>],\n",
       "       [<matplotlib.axes._subplots.AxesSubplot object at 0x117a263c8>,\n",
       "        <matplotlib.axes._subplots.AxesSubplot object at 0x117b794a8>]],\n",
       "      dtype=object)"
      ]
     },
     "execution_count": 25,
     "metadata": {},
     "output_type": "execute_result"
    },
    {
     "data": {
      "text/plain": [
       "<matplotlib.figure.Figure at 0x11790a240>"
      ]
     },
     "metadata": {},
     "output_type": "display_data"
    },
    {
     "data": {
      "image/png": "[encoded data removed]",
      "text/plain": [
       "<matplotlib.figure.Figure at 0x11793d828>"
      ]
     },
     "metadata": {},
     "output_type": "display_data"
    }
   ],
   "source": [
    "plt.figure()\n",
    "df.diff().hist(color='g', alpha=0.5, bins=20)\n",
    "# 注：df中四栏（4列）分别绘制一阶差分的图（绿色，半透明，分20区段），\n",
    "# 有种2x2子图的感觉"
   ]
  },
  {
   "cell_type": "code",
   "execution_count": 26,
   "metadata": {
    "ExecuteTime": {
     "end_time": "2019-02-04T11:15:23.275750Z",
     "start_time": "2019-02-04T11:15:22.762196Z"
    }
   },
   "outputs": [
    {
     "data": {
      "text/plain": [
       "array([[<matplotlib.axes._subplots.AxesSubplot object at 0x11797fac8>,\n",
       "        <matplotlib.axes._subplots.AxesSubplot object at 0x117d1e7f0>],\n",
       "       [<matplotlib.axes._subplots.AxesSubplot object at 0x117d4a8d0>,\n",
       "        <matplotlib.axes._subplots.AxesSubplot object at 0x117cc7e10>]],\n",
       "      dtype=object)"
      ]
     },
     "execution_count": 26,
     "metadata": {},
     "output_type": "execute_result"
    },
    {
     "data": {
      "image/png": "[encoded data removed]",
      "text/plain": [
       "<matplotlib.figure.Figure at 0x117c13518>"
      ]
     },
     "metadata": {},
     "output_type": "display_data"
    }
   ],
   "source": [
    "data = pd.Series(np.random.randn(1000))\n",
    "data.hist(by=np.random.randint(0, 4, 1000),figsize=(6, 4))\n",
    "# 注：这里产生1000个正态分布的随机数，然后使用hist方法中的by参数随机产生0-3中的整数（即0、1、2、3）\n",
    "# 将原来的1000个正态分布的随机数对应上分组绘制四张图\n",
    "# 图的长宽大小为6x4"
   ]
  }
 ],
 "metadata": {
  "kernelspec": {
   "display_name": "Python 3",
   "language": "python",
   "name": "python3"
  },
  "language_info": {
   "codemirror_mode": {
    "name": "ipython",
    "version": 3
   },
   "file_extension": ".py",
   "mimetype": "text/x-python",
   "name": "python",
   "nbconvert_exporter": "python",
   "pygments_lexer": "ipython3",
   "version": "3.6.4"
  },
  "varInspector": {
   "cols": {
    "lenName": 16,
    "lenType": 16,
    "lenVar": 40
   },
   "kernels_config": {
    "python": {
     "delete_cmd_postfix": "",
     "delete_cmd_prefix": "del ",
     "library": "var_list.py",
     "varRefreshCmd": "print(var_dic_list())"
    },
    "r": {
     "delete_cmd_postfix": ") ",
     "delete_cmd_prefix": "rm(",
     "library": "var_list.r",
     "varRefreshCmd": "cat(var_dic_list()) "
    }
   },
   "types_to_exclude": [
    "module",
    "function",
    "builtin_function_or_method",
    "instance",
    "_Feature"
   ],
   "window_display": false
  }
 },
 "nbformat": 4,
 "nbformat_minor": 2
}
