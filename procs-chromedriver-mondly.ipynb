{
 "cells": [
  {
   "cell_type": "code",
   "execution_count": 1,
   "metadata": {
    "ExecuteTime": {
     "end_time": "2019-09-22T07:25:34.451475Z",
     "start_time": "2019-09-22T07:24:00.166838Z"
    }
   },
   "outputs": [],
   "source": [
    "import time\n",
    "from selenium import webdriver\n",
    "driver = webdriver.Chrome('/usr/local/bin/chromedriver')  # Optional argument, if not specified will search path.\n",
    "driver.get('https://app.mondly.com/home');"
   ]
  },
  {
   "cell_type": "code",
   "execution_count": 65,
   "metadata": {
    "ExecuteTime": {
     "end_time": "2019-09-22T08:26:14.358583Z",
     "start_time": "2019-09-22T08:26:14.332005Z"
    }
   },
   "outputs": [
    {
     "name": "stdout",
     "output_type": "stream",
     "text": [
      "{'information': ['معلومات'], 'gate': ['بوابة'], 'ticket': ['تذكرة'], 'Where is the airport, please?': ['أين المطار, رجاءا؟'], 'When will the plane leave?': ['متى تغادر الطائرة؟'], 'Where is the gate?': ['اين البوابه؟'], 'When do we land?': ['\\u202bمتى نهبط؟\\u202c'], 'Where is the ticketing area?': ['اين منطقه التذاكر؟'], 'Where is airport security?': ['أين أمن المطار؟']}\n"
     ]
    }
   ],
   "source": [
    "all_assocs={}\n",
    "def put_assoc(key_s, value_s):\n",
    "    if key_s in all_assocs:\n",
    "        value_ls=all_assocs[key_s]\n",
    "        if value_s in value_ls:\n",
    "            return False\n",
    "        else:\n",
    "            value_ls.append(value_s)\n",
    "    else:\n",
    "        all_assocs[key_s]=[value_s]\n",
    "    return True\n",
    "def put_assocs(assocs):\n",
    "    # the key is target language, value is english(will be as key)\n",
    "    for k,v in assocs.items():\n",
    "        if k !='' and v!='':\n",
    "            put_assoc(v,k)\n",
    "\n",
    "def load_assocs():\n",
    "    import json_utils\n",
    "    data=json_utils.read_json_file(\"./data/corpus/mondly_assocs.json\")\n",
    "    return data\n",
    "\n",
    "all_assocs=load_assocs()\n",
    "print(all_assocs)"
   ]
  },
  {
   "cell_type": "code",
   "execution_count": 67,
   "metadata": {
    "ExecuteTime": {
     "end_time": "2019-09-22T08:26:37.829109Z",
     "start_time": "2019-09-22T08:26:37.712270Z"
    }
   },
   "outputs": [
    {
     "name": "stdout",
     "output_type": "stream",
     "text": [
      "total sections 2\n",
      "total sents 18\n",
      "current assocs 9\n",
      "{\n",
      "  \"maelumat\": \"information\",\n",
      "  \"bawwaba\": \"gate\",\n",
      "  \"tazkira\": \"ticket\",\n",
      "  \"Ayn al matar, raja'an?\": \"Where is the airport, please?\",\n",
      "  \"Mata tughader alta'iera?\": \"When will the plane leave?\",\n",
      "  \"Ayn albawaba?\": \"Where is the gate?\",\n",
      "  \"Mata nahbet?\": \"When do we land?\",\n",
      "  \"Ayn mantiqat altazaker?\": \"Where is the ticketing area?\",\n",
      "  \"Ayn amn almatar?\": \"Where is airport security?\"\n",
      "}\n",
      "total assocs 9\n",
      "{\n",
      "  \"information\": [\n",
      "    \"معلومات\",\n",
      "    \"maelumat\"\n",
      "  ],\n",
      "  \"gate\": [\n",
      "    \"بوابة\",\n",
      "    \"bawwaba\"\n",
      "  ],\n",
      "  \"ticket\": [\n",
      "    \"تذكرة\",\n",
      "    \"tazkira\"\n",
      "  ],\n",
      "  \"Where is the airport, please?\": [\n",
      "    \"أين المطار, رجاءا؟\",\n",
      "    \"Ayn al matar, raja'an?\"\n",
      "  ],\n",
      "  \"When will the plane leave?\": [\n",
      "    \"متى تغادر الطائرة؟\",\n",
      "    \"Mata tughader alta'iera?\"\n",
      "  ],\n",
      "  \"Where is the gate?\": [\n",
      "    \"اين البوابه؟\",\n",
      "    \"Ayn albawaba?\"\n",
      "  ],\n",
      "  \"When do we land?\": [\n",
      "    \"‫متى نهبط؟‬\",\n",
      "    \"Mata nahbet?\"\n",
      "  ],\n",
      "  \"Where is the ticketing area?\": [\n",
      "    \"اين منطقه التذاكر؟\",\n",
      "    \"Ayn mantiqat altazaker?\"\n",
      "  ],\n",
      "  \"Where is airport security?\": [\n",
      "    \"أين أمن المطار؟\",\n",
      "    \"Ayn amn almatar?\"\n",
      "  ]\n",
      "}\n"
     ]
    }
   ],
   "source": [
    "import json\n",
    "def convert_list(lst): \n",
    "    res_dct = {lst[i]: lst[i + 1] for i in range(0, len(lst), 2)} \n",
    "    return res_dct\n",
    "\n",
    "# nums = driver.find_elements_by_class_name(\"word phrase word-even\")\n",
    "nums = driver.find_elements_by_class_name(\"words\")\n",
    "print(f\"total sections {len(nums)}\")\n",
    "texts=[]\n",
    "for el in nums:\n",
    "    # print(el.text)\n",
    "    texts.extend(el.text.split('\\n'))\n",
    "print(f\"total sents {len(texts)}\")\n",
    "texts_count=len(texts)\n",
    "if (texts_count % 2) != 0:  \n",
    "    texts=texts[1:]\n",
    "text_assocs=convert_list(texts)\n",
    "print(f\"current assocs {len(text_assocs)}\")\n",
    "# for k,v in text_assocs.items():\n",
    "#     print(f\"{k} -> {v}\")\n",
    "json_s=json.dumps(text_assocs, indent=2, ensure_ascii=False)\n",
    "print(json_s)\n",
    "put_assocs(text_assocs)\n",
    "print(f\"total assocs {len(all_assocs)}\")\n",
    "print(json.dumps(all_assocs, indent=2, ensure_ascii=False))\n",
    "json_utils.write_json_to_file(\"./data/corpus/mondly_assocs.json\", \n",
    "                              all_assocs)"
   ]
  },
  {
   "cell_type": "code",
   "execution_count": 27,
   "metadata": {
    "ExecuteTime": {
     "end_time": "2019-09-22T07:48:38.545427Z",
     "start_time": "2019-09-22T07:48:38.458364Z"
    }
   },
   "outputs": [
    {
     "name": "stdout",
     "output_type": "stream",
     "text": [
      "total 2\n",
      "words ---------------\n",
      "\n",
      "phrases ---------------\n",
      "When will the plane leave?\n",
      "Ayn albawaba?\n",
      "Where is the gate?\n",
      "Mata nahbet?\n",
      "When do we land?\n",
      "Ayn mantiqat altazaker?\n",
      "Where is the ticketing area?\n",
      "Ayn amn almatar?\n",
      "Where is airport security?\n"
     ]
    }
   ],
   "source": [
    "words = driver.find_elements_by_class_name(\"words\")\n",
    "print('total', len(words))\n",
    "print('words', '-'*15)\n",
    "print(words[0].text)\n",
    "print('phrases', '-'*15)\n",
    "print(words[1].text)\n",
    "# for el in words:\n",
    "#     print(el.text)"
   ]
  },
  {
   "cell_type": "code",
   "execution_count": 61,
   "metadata": {
    "ExecuteTime": {
     "end_time": "2019-09-22T08:23:15.339768Z",
     "start_time": "2019-09-22T08:23:15.318118Z"
    }
   },
   "outputs": [
    {
     "name": "stdout",
     "output_type": "stream",
     "text": [
      "{'You are': {'Antum takunoun'}, 'I was': {'Ana kunt', 'انا كنت'}, 'You were': {'Anta kunt', 'انت كنت', 'انتم كنتم', 'Antum kuntum'}, 'He was': {'Hwa kan', 'هو كان'}, 'She was': {'هي كانت', 'Hia kanat'}, 'We were': {'Nahnu kunna', 'نحن كنا'}, 'They were': {'هم كانوا', 'Hom kannou'}, 'I will be': {\"Ana sa'akoun\", 'انا سأكون'}, 'You will be': {'Anta satakoun', 'انتم ستكونون', 'انت ستكون', 'Antum satakunun'}, 'He will be': {'هو سيكون', 'Hwa sayakoun'}, 'She will be': {'Hia satakoun', 'هي ستكون'}, 'We will be': {'Nahnu sanakoun', 'نحن سنكون'}, 'They will be': {'هم سيكونون', 'Hom sayakunoun'}, 'You leave': {'Antum tatrokoun'}, 'I left': {'انا تركت', 'Ana tarakt'}, 'You left': {'Anta tarakt', 'انت تركت', 'انتم تركتم', 'Antum taraktum'}, 'He left': {'هو ترك', 'Hwa tarrak'}, 'She left': {'Hia tarrakat', 'هي تركت'}, 'We left': {'نحن تركنا', 'Nahnu tarakna'}, 'They left': {'هم تركوا', 'Hum tarakou'}, 'I will leave': {'انا سأترك', \"Ana sa'atrok\"}, 'You will leave': {'Anta satatrok', 'انت ستترك', 'انتم ستتركون'}, 'He will leave': {'Hwa saytrok', 'هو سيترك'}, 'She will leave': {'هي ستترك', 'Hia satatrok'}, 'We will leave': {'نحن سنترك', 'Nahnu sanatrok'}, 'They will leave': {'هم سيتركون'}}\n"
     ]
    }
   ],
   "source": [
    "verb_assocs={}\n",
    "def put_verb(text):\n",
    "    if ' = ' in text:\n",
    "        pair=text.split(' = ')\n",
    "        key=pair[1]\n",
    "        val=pair[0]\n",
    "        if key in verb_assocs:\n",
    "            verb_assocs[key].add(val)\n",
    "        else:\n",
    "            verb_assocs[key]={val}\n",
    "        return True\n",
    "    return False\n",
    "\n",
    "def load_verbs():\n",
    "    import json_utils\n",
    "    data=json_utils.read_json_file(\"./data/corpus/mondly_verbs.json\")\n",
    "    return {k:set(v) for k,v in data.items()}\n",
    "\n",
    "verb_assocs=load_verbs()\n",
    "print(verb_assocs)"
   ]
  },
  {
   "cell_type": "code",
   "execution_count": 53,
   "metadata": {
    "ExecuteTime": {
     "end_time": "2019-09-22T08:15:35.438819Z",
     "start_time": "2019-09-22T08:15:35.426850Z"
    }
   },
   "outputs": [
    {
     "data": {
      "text/plain": [
       "{1, 2, 3}"
      ]
     },
     "execution_count": 53,
     "metadata": {},
     "output_type": "execute_result"
    }
   ],
   "source": [
    "xs=[1,2,3]\n",
    "xh=set(xs)\n",
    "xh"
   ]
  },
  {
   "cell_type": "code",
   "execution_count": 63,
   "metadata": {
    "ExecuteTime": {
     "end_time": "2019-09-22T08:23:44.707586Z",
     "start_time": "2019-09-22T08:23:44.463951Z"
    }
   },
   "outputs": [
    {
     "name": "stdout",
     "output_type": "stream",
     "text": [
      "total section 4\n",
      "{\n",
      "  \"You are\": [\n",
      "    \"Anta takun\",\n",
      "    \"Antum takunoun\"\n",
      "  ],\n",
      "  \"I was\": [\n",
      "    \"Ana kunt\",\n",
      "    \"انا كنت\"\n",
      "  ],\n",
      "  \"You were\": [\n",
      "    \"Anta kunt\",\n",
      "    \"انت كنت\",\n",
      "    \"انتم كنتم\",\n",
      "    \"Antum kuntum\"\n",
      "  ],\n",
      "  \"He was\": [\n",
      "    \"Hwa kan\",\n",
      "    \"هو كان\"\n",
      "  ],\n",
      "  \"She was\": [\n",
      "    \"هي كانت\",\n",
      "    \"Hia kanat\"\n",
      "  ],\n",
      "  \"We were\": [\n",
      "    \"Nahnu kunna\",\n",
      "    \"نحن كنا\"\n",
      "  ],\n",
      "  \"They were\": [\n",
      "    \"هم كانوا\",\n",
      "    \"Hom kannou\"\n",
      "  ],\n",
      "  \"I will be\": [\n",
      "    \"Ana sa'akoun\",\n",
      "    \"انا سأكون\"\n",
      "  ],\n",
      "  \"You will be\": [\n",
      "    \"Anta satakoun\",\n",
      "    \"انتم ستكونون\",\n",
      "    \"انت ستكون\",\n",
      "    \"Antum satakunun\"\n",
      "  ],\n",
      "  \"He will be\": [\n",
      "    \"هو سيكون\",\n",
      "    \"Hwa sayakoun\"\n",
      "  ],\n",
      "  \"She will be\": [\n",
      "    \"Hia satakoun\",\n",
      "    \"هي ستكون\"\n",
      "  ],\n",
      "  \"We will be\": [\n",
      "    \"Nahnu sanakoun\",\n",
      "    \"نحن سنكون\"\n",
      "  ],\n",
      "  \"They will be\": [\n",
      "    \"هم سيكونون\",\n",
      "    \"Hom sayakunoun\"\n",
      "  ],\n",
      "  \"You leave\": [\n",
      "    \"Antum tatrokoun\",\n",
      "    \"Anta tatrok\"\n",
      "  ],\n",
      "  \"I left\": [\n",
      "    \"انا تركت\",\n",
      "    \"Ana tarakt\"\n",
      "  ],\n",
      "  \"You left\": [\n",
      "    \"Anta tarakt\",\n",
      "    \"انت تركت\",\n",
      "    \"انتم تركتم\",\n",
      "    \"Antum taraktum\"\n",
      "  ],\n",
      "  \"He left\": [\n",
      "    \"هو ترك\",\n",
      "    \"Hwa tarrak\"\n",
      "  ],\n",
      "  \"She left\": [\n",
      "    \"Hia tarrakat\",\n",
      "    \"هي تركت\"\n",
      "  ],\n",
      "  \"We left\": [\n",
      "    \"نحن تركنا\",\n",
      "    \"Nahnu tarakna\"\n",
      "  ],\n",
      "  \"They left\": [\n",
      "    \"هم تركوا\",\n",
      "    \"Hum tarakou\"\n",
      "  ],\n",
      "  \"I will leave\": [\n",
      "    \"انا سأترك\",\n",
      "    \"Ana sa'atrok\"\n",
      "  ],\n",
      "  \"You will leave\": [\n",
      "    \"Anta satatrok\",\n",
      "    \"انت ستترك\",\n",
      "    \"انتم ستتركون\"\n",
      "  ],\n",
      "  \"He will leave\": [\n",
      "    \"Hwa saytrok\",\n",
      "    \"هو سيترك\"\n",
      "  ],\n",
      "  \"She will leave\": [\n",
      "    \"هي ستترك\",\n",
      "    \"Hia satatrok\"\n",
      "  ],\n",
      "  \"We will leave\": [\n",
      "    \"نحن سنترك\",\n",
      "    \"Nahnu sanatrok\"\n",
      "  ],\n",
      "  \"They will leave\": [\n",
      "    \"هم سيتركون\"\n",
      "  ],\n",
      "  \"I am\": [\n",
      "    \"Ana a'koun\"\n",
      "  ],\n",
      "  \"He is\": [\n",
      "    \"Hwa yakun\"\n",
      "  ],\n",
      "  \"She is\": [\n",
      "    \"Hia takoun\"\n",
      "  ],\n",
      "  \"We are\": [\n",
      "    \"Nahnu nakoun\"\n",
      "  ],\n",
      "  \"They are\": [\n",
      "    \"Hom yakunoun\"\n",
      "  ],\n",
      "  \"I leave\": [\n",
      "    \"Ana atrok\"\n",
      "  ],\n",
      "  \"He leaves\": [\n",
      "    \"Hwa yatrok\"\n",
      "  ],\n",
      "  \"She leaves\": [\n",
      "    \"Hia tatrok\"\n",
      "  ],\n",
      "  \"We leave\": [\n",
      "    \"Nahnu natrok\"\n",
      "  ],\n",
      "  \"They leave\": [\n",
      "    \"Hum yatrokoun\"\n",
      "  ]\n",
      "}\n"
     ]
    }
   ],
   "source": [
    "# import jsonpickle\n",
    "import json_utils\n",
    "verbs = driver.find_elements_by_class_name(\"translation-verb\")\n",
    "print('total section', len(verbs))\n",
    "for v in verbs:\n",
    "    # print(v.text)\n",
    "    for t in v.text.split('\\n'):\n",
    "        put_verb(t)\n",
    "# print(verb_assocs)\n",
    "# print(jsonpickle.encode(verb_assocs))\n",
    "json_data={k:list(v) for k,v in verb_assocs.items()}\n",
    "print(json.dumps(json_data, \n",
    "                 indent=2, ensure_ascii=False))\n",
    "json_utils.write_json_to_file(\"./data/corpus/mondly_verbs.json\", json_data)"
   ]
  },
  {
   "cell_type": "code",
   "execution_count": 68,
   "metadata": {
    "ExecuteTime": {
     "end_time": "2019-09-22T08:43:49.365487Z",
     "start_time": "2019-09-22T08:43:49.209123Z"
    }
   },
   "outputs": [],
   "source": [
    "driver.quit()"
   ]
  }
 ],
 "metadata": {
  "kernelspec": {
   "display_name": "Python 3",
   "language": "python",
   "name": "python3"
  },
  "language_info": {
   "codemirror_mode": {
    "name": "ipython",
    "version": 3
   },
   "file_extension": ".py",
   "mimetype": "text/x-python",
   "name": "python",
   "nbconvert_exporter": "python",
   "pygments_lexer": "ipython3",
   "version": "3.6.4"
  },
  "varInspector": {
   "cols": {
    "lenName": 16,
    "lenType": 16,
    "lenVar": 40
   },
   "kernels_config": {
    "python": {
     "delete_cmd_postfix": "",
     "delete_cmd_prefix": "del ",
     "library": "var_list.py",
     "varRefreshCmd": "print(var_dic_list())"
    },
    "r": {
     "delete_cmd_postfix": ") ",
     "delete_cmd_prefix": "rm(",
     "library": "var_list.r",
     "varRefreshCmd": "cat(var_dic_list()) "
    }
   },
   "types_to_exclude": [
    "module",
    "function",
    "builtin_function_or_method",
    "instance",
    "_Feature"
   ],
   "window_display": false
  }
 },
 "nbformat": 4,
 "nbformat_minor": 2
}
