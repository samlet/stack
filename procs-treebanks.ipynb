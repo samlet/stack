{
 "cells": [
  {
   "cell_type": "code",
   "execution_count": 2,
   "metadata": {
    "ExecuteTime": {
     "end_time": "2019-07-30T04:14:07.728399Z",
     "start_time": "2019-07-30T04:14:07.695960Z"
    }
   },
   "outputs": [
    {
     "name": "stdout",
     "output_type": "stream",
     "text": [
      "75\n",
      "53 ['Afrikaans', 'Ancient Greek', 'Arabic', 'Armenian', 'Basque', 'Bulgarian', 'Buryat', 'Catalan', 'Chinese (traditional)', 'Croatian', 'Czech', 'Danish', 'Dutch', 'English', 'Estonian', 'Finnish', 'French', 'Galician', 'German', 'Gothic', 'Greek', 'Hebrew', 'Hindi', 'Hungarian', 'Indonesian', 'Irish', 'Italian', 'Japanese', 'Kazakh', 'Korean', 'Kurmanji', 'Latin', 'Latvian', 'North Sami', 'Norwegian', 'Old Church Slavonic', 'Old French', 'Persian', 'Polish', 'Portuguese', 'Romanian', 'Russian', 'Serbian', 'Slovak', 'Slovenian', 'Spanish', 'Swedish', 'Turkish', 'Ukrainian', 'Upper Sorbian', 'Urdu', 'Uyghur', 'Vietnamese']\n"
     ]
    }
   ],
   "source": [
    "treebanks=\"\"\"LANGUAGE\tTREEBANK\tLANGUAGE CODE\tTREEBANK CODE\tMODELS\tVERSION\tTREEBANK LICENSE\tTREEBANK DOC\tNOTES\n",
    "Afrikaans\tAfriBooms\taf\taf_afribooms\tdownload\t0.2.0\tCreative Commons License\t\t \n",
    "Ancient Greek\tPerseus\tgrc\tgrc_perseus\tdownload\t0.2.0\tCreative Commons License\t\t \n",
    " \tPROIEL\tgrc\tgrc_proiel\tdownload\t0.2.0\tCreative Commons License\t\t\n",
    "Arabic\tPADT\tar\tar_padt\tdownload\t0.2.0\tCreative Commons License\t\t\n",
    "Armenian\tArmTDP\thy\thy_armtdp\tdownload\t0.2.0\tCreative Commons License\t\t \n",
    "Basque\tBDT\teu\teu_bdt\tdownload\t0.2.0\tCreative Commons License\t\t\n",
    "Bulgarian\tBTB\tbg\tbg_btb\tdownload\t0.2.0\tCreative Commons License\t\t\n",
    "Buryat\tBDT\tbxr\tbxr_bdt\tdownload\t0.2.0\tCreative Commons License\t\t \n",
    "Catalan\tAnCora\tca\tca_ancora\tdownload\t0.2.0\tGNU License\t\t\n",
    "Chinese (traditional)\tGSD\tzh\tzh_gsd\tdownload\t0.2.0\tCreative Commons License\t\t\n",
    "Croatian\tSET\thr\thr_set\tdownload\t0.2.0\tCreative Commons License\t\t\n",
    "Czech\tCAC\tcs\tcs_cac\tdownload\t0.2.0\tCreative Commons License\t\t \n",
    " \tFicTree\tcs\tcs_fictree\tdownload\t0.2.0\tCreative Commons License\t\t \n",
    " \tPDT\tcs\tcs_pdt\tdownload\t0.2.0\tCreative Commons License\t\t\n",
    "Danish\tDDT\tda\tda_ddt\tdownload\t0.2.0\tCreative Commons License\t\t \n",
    "Dutch\tAlpino\tnl\tnl_alpino\tdownload\t0.2.0\tCreative Commons License\t\t\n",
    " \tLassySmall\tnl\tnl_lassysmall\tdownload\t0.2.0\tCreative Commons License\t\t \n",
    "English\tEWT\ten\ten_ewt\tdownload\t0.2.0\tCreative Commons License\t\t\n",
    " \tGUM\ten\ten_gum\tdownload\t0.2.0\tCreative Commons License\t\t \n",
    " \tLinES\ten\ten_lines\tdownload\t0.2.0\tCreative Commons License\t\t \n",
    "Estonian\tEDT\tet\tet_edt\tdownload\t0.2.0\tCreative Commons License\t\t\n",
    "Finnish\tFTB\tfi\tfi_ftb\tdownload\t0.2.0\tGNU License\t\t \n",
    " \tTDT\tfi\tfi_tdt\tdownload\t0.2.0\tCreative Commons License\t\t \n",
    "French\tGSD\tfr\tfr_gsd\tdownload\t0.2.0\tCreative Commons License\t\t\n",
    " \tSequoia\tfr\tfr_sequoia\tdownload\t0.2.0\tLGPLLR\t\t \n",
    " \tSpoken\tfr\tfr_spoken\tdownload\t0.2.0\tCreative Commons License\t\t\n",
    "Galician\tCTG\tgl\tgl_ctg\tdownload\t0.2.0\tCreative Commons License\t\t\n",
    " \tTreeGal\tgl\tgl_treegal\tdownload\t0.2.0\tLGPLLR\t\t\n",
    "German\tGSD\tde\tde_gsd\tdownload\t0.2.0\tCreative Commons License\t\t\n",
    "Gothic\tPROIEL\tgot\tgot_proiel\tdownload\t0.2.0\tCreative Commons License\t\t\n",
    "Greek\tGDT\tel\tel_gdt\tdownload\t0.2.0\tCreative Commons License\t\t\n",
    "Hebrew\tHTB\the\the_htb\tdownload\t0.2.0\tCreative Commons License\t\t\n",
    "Hindi\tHDTB\thi\thi_hdtb\tdownload\t0.2.0\tCreative Commons License\t\t\n",
    "Hungarian\tSzeged\thu\thu_szeged\tdownload\t0.2.0\tCreative Commons License\t\t\n",
    "Indonesian\tGSD\tid\tid_gsd\tdownload\t0.2.0\tCreative Commons License\t\t\n",
    "Irish\tIDT\tga\tga_idt\tdownload\t0.2.0\tCreative Commons License\t\t\n",
    "Italian\tISDT\tit\tit_isdt\tdownload\t0.2.0\tCreative Commons License\t\t \n",
    " \tPoSTWITA\tit\tit_postwita\tdownload\t0.2.0\tCreative Commons License\t\t \n",
    "Japanese\tGSD\tja\tja_gsd\tdownload\t0.2.0\tCreative Commons License\t\t \n",
    "Kazakh\tKTB\tkk\tkk_ktb\tdownload\t0.2.0\tCreative Commons License\t\t \n",
    "Korean\tGSD\tko\tko_gsd\tdownload\t0.2.0\tCreative Commons License\t\t \n",
    " \tKaist\tko\tko_kaist\tdownload\t0.2.0\tCreative Commons License\t\t\n",
    "Kurmanji\tMG\tkmr\tkmr_mg\tdownload\t0.2.0\tCreative Commons License\t\t  \n",
    "Latin\tITTB\tla\tla_ittb\tdownload\t0.2.0\tCreative Commons License\t\t\n",
    " \tPerseus\tla\tla_perseus\tdownload\t0.2.0\tCreative Commons License\t\t \n",
    " \tPROIEL\tla\tla_proiel\tdownload\t0.2.0\tCreative Commons License\t\t \n",
    "Latvian\tLVTB\tlv\tlv_lvtb\tdownload\t0.2.0\tCreative Commons License\t\t\n",
    "North Sami\tGiella\tsme\tsme_giella\tdownload\t0.2.0\tCreative Commons License\t\t\n",
    "Norwegian\tBokmaal\tno_bokmaal\tno_bokmaal\tdownload\t0.2.0\tCreative Commons License\t\t\n",
    " \tNynorsk\tno_nynorsk\tno_nynorsk\tdownload\t0.2.0\tCreative Commons License\t\t\n",
    " \tNynorskLIA\tno_nynorsk\tno_nynorsklia\tdownload\t0.2.0\tCreative Commons License\t\t \n",
    "Old Church Slavonic\tPROIEL\tcu\tcu_proiel\tdownload\t0.2.0\tCreative Commons License\t\t\n",
    "Old French\tSRCMF\tfro\tfro_srcmf\tdownload\t0.2.0\tCreative Commons License\t\t\n",
    "Persian\tSeraji\tfa\tfa_seraji\tdownload\t0.2.0\tCreative Commons License\t\t\n",
    "Polish\tLFG\tpl\tpl_lfg\tdownload\t0.2.0\tGNU License\t\t\n",
    " \tSZ\tpl\tpl_sz\tdownload\t0.2.0\tGNU License\t\t \n",
    "Portuguese\tBosque\tpt\tpt_bosque\tdownload\t0.2.0\tCreative Commons License\t\t\n",
    "Romanian\tRRT\tro\tro_rrt\tdownload\t0.2.0\tCreative Commons License\t\t\n",
    "Russian\tSynTagRus\tru\tru_syntagrus\tdownload\t0.2.0\tCreative Commons License\t\t\n",
    " \tTaiga\tru\tru_taiga\tdownload\t0.2.0\tCreative Commons License\t\t\n",
    "Serbian\tSET\tsr\tsr_set\tdownload\t0.2.0\tCreative Commons License\t\t\n",
    "Slovak\tSNK\tsk\tsk_snk\tdownload\t0.2.0\tCreative Commons License\t\t\n",
    "Slovenian\tSSJ\tsl\tsl_ssj\tdownload\t0.2.0\tCreative Commons License\t\t\n",
    " \tSST\tsl\tsl_sst\tdownload\t0.2.0\tCreative Commons License\t\t \n",
    "Spanish\tAnCora\tes\tes_ancora\tdownload\t0.2.0\tGNU License\t\t\n",
    "Swedish\tLinES\tsv\tsv_lines\tdownload\t0.2.0\tCreative Commons License\t\t \n",
    " \tTalbanken\tsv\tsv_talbanken\tdownload\t0.2.0\tCreative Commons License\t\t\n",
    "Turkish\tIMST\ttr\ttr_imst\tdownload\t0.2.0\tCreative Commons License\t\t\n",
    "Ukrainian\tIU\tuk\tuk_iu\tdownload\t0.2.0\tCreative Commons License\t\t\n",
    "Upper Sorbian\tUFAL\thsb\thsb_ufal\tdownload\t0.2.0\tCreative Commons License\t\t  \n",
    "Urdu\tUDTB\tur\tur_udtb\tdownload\t0.2.0\tCreative Commons License\t\t\n",
    "Uyghur\tUDT\tug\tug_udt\tdownload\t0.2.0\tCreative Commons License\t\t\n",
    "Vietnamese\tVTB\tvi\tvi_vtb\tdownload\t0.2.0\tCreative Commons License\t\t\n",
    "\"\"\".split('\\n')\n",
    "print(len(treebanks))\n",
    "langs=[]\n",
    "lang_tab=[]\n",
    "for bank in treebanks[1:]:\n",
    "    parts=bank.split('\\t')\n",
    "    if parts[0].strip()!='':\n",
    "        langs.append(parts[0])\n",
    "    lang_tab.append(parts)\n",
    "print(len(langs), langs)"
   ]
  },
  {
   "cell_type": "code",
   "execution_count": 3,
   "metadata": {
    "ExecuteTime": {
     "end_time": "2019-07-30T04:14:11.897631Z",
     "start_time": "2019-07-30T04:14:11.835951Z"
    }
   },
   "outputs": [
    {
     "data": {
      "text/html": [
       "<div>\n",
       "<style scoped>\n",
       "    .dataframe tbody tr th:only-of-type {\n",
       "        vertical-align: middle;\n",
       "    }\n",
       "\n",
       "    .dataframe tbody tr th {\n",
       "        vertical-align: top;\n",
       "    }\n",
       "\n",
       "    .dataframe thead th {\n",
       "        text-align: right;\n",
       "    }\n",
       "</style>\n",
       "<table border=\"1\" class=\"dataframe\">\n",
       "  <thead>\n",
       "    <tr style=\"text-align: right;\">\n",
       "      <th></th>\n",
       "      <th>LANGUAGE</th>\n",
       "      <th>TREEBANK</th>\n",
       "      <th>LANGUAGE CODE</th>\n",
       "      <th>TREEBANK CODE</th>\n",
       "      <th>MODELS</th>\n",
       "      <th>VERSION</th>\n",
       "      <th>TREEBANK LICENSE</th>\n",
       "      <th>TREEBANK DOC</th>\n",
       "      <th>NOTES</th>\n",
       "    </tr>\n",
       "  </thead>\n",
       "  <tbody>\n",
       "    <tr>\n",
       "      <th>0</th>\n",
       "      <td>Afrikaans</td>\n",
       "      <td>AfriBooms</td>\n",
       "      <td>af</td>\n",
       "      <td>af_afribooms</td>\n",
       "      <td>download</td>\n",
       "      <td>0.2.0</td>\n",
       "      <td>Creative Commons License</td>\n",
       "      <td></td>\n",
       "      <td></td>\n",
       "    </tr>\n",
       "    <tr>\n",
       "      <th>1</th>\n",
       "      <td>Ancient Greek</td>\n",
       "      <td>Perseus</td>\n",
       "      <td>grc</td>\n",
       "      <td>grc_perseus</td>\n",
       "      <td>download</td>\n",
       "      <td>0.2.0</td>\n",
       "      <td>Creative Commons License</td>\n",
       "      <td></td>\n",
       "      <td></td>\n",
       "    </tr>\n",
       "    <tr>\n",
       "      <th>2</th>\n",
       "      <td></td>\n",
       "      <td>PROIEL</td>\n",
       "      <td>grc</td>\n",
       "      <td>grc_proiel</td>\n",
       "      <td>download</td>\n",
       "      <td>0.2.0</td>\n",
       "      <td>Creative Commons License</td>\n",
       "      <td></td>\n",
       "      <td></td>\n",
       "    </tr>\n",
       "    <tr>\n",
       "      <th>3</th>\n",
       "      <td>Arabic</td>\n",
       "      <td>PADT</td>\n",
       "      <td>ar</td>\n",
       "      <td>ar_padt</td>\n",
       "      <td>download</td>\n",
       "      <td>0.2.0</td>\n",
       "      <td>Creative Commons License</td>\n",
       "      <td></td>\n",
       "      <td></td>\n",
       "    </tr>\n",
       "    <tr>\n",
       "      <th>4</th>\n",
       "      <td>Armenian</td>\n",
       "      <td>ArmTDP</td>\n",
       "      <td>hy</td>\n",
       "      <td>hy_armtdp</td>\n",
       "      <td>download</td>\n",
       "      <td>0.2.0</td>\n",
       "      <td>Creative Commons License</td>\n",
       "      <td></td>\n",
       "      <td></td>\n",
       "    </tr>\n",
       "  </tbody>\n",
       "</table>\n",
       "</div>"
      ],
      "text/plain": [
       "        LANGUAGE   TREEBANK LANGUAGE CODE TREEBANK CODE    MODELS VERSION  \\\n",
       "0      Afrikaans  AfriBooms            af  af_afribooms  download   0.2.0   \n",
       "1  Ancient Greek    Perseus           grc   grc_perseus  download   0.2.0   \n",
       "2                    PROIEL           grc    grc_proiel  download   0.2.0   \n",
       "3         Arabic       PADT            ar       ar_padt  download   0.2.0   \n",
       "4       Armenian     ArmTDP            hy     hy_armtdp  download   0.2.0   \n",
       "\n",
       "           TREEBANK LICENSE TREEBANK DOC NOTES  \n",
       "0  Creative Commons License                     \n",
       "1  Creative Commons License                     \n",
       "2  Creative Commons License                     \n",
       "3  Creative Commons License                     \n",
       "4  Creative Commons License                     "
      ]
     },
     "execution_count": 3,
     "metadata": {},
     "output_type": "execute_result"
    }
   ],
   "source": [
    "import sagas\n",
    "cols=treebanks[0].split('\\t')\n",
    "df=sagas.to_df(lang_tab, cols)\n",
    "df.head()"
   ]
  },
  {
   "cell_type": "code",
   "execution_count": 9,
   "metadata": {
    "ExecuteTime": {
     "end_time": "2019-07-27T02:57:39.223088Z",
     "start_time": "2019-07-27T02:57:39.215398Z"
    }
   },
   "outputs": [
    {
     "data": {
      "text/plain": [
       "True"
      ]
     },
     "execution_count": 9,
     "metadata": {},
     "output_type": "execute_result"
    }
   ],
   "source": [
    "import sagas.nlu.corenlp_helper as helper\n",
    "'ja' in helper.langs.keys()"
   ]
  },
  {
   "cell_type": "code",
   "execution_count": 22,
   "metadata": {
    "ExecuteTime": {
     "end_time": "2019-07-30T04:47:59.099609Z",
     "start_time": "2019-07-30T04:47:59.068549Z"
    }
   },
   "outputs": [
    {
     "name": "stdout",
     "output_type": "stream",
     "text": [
      "Ancient Greek grc {'LANGUAGE': ' ', 'TREEBANK': 'PROIEL', 'LANGUAGE CODE': 'grc', 'TREEBANK CODE': 'grc_proiel', 'MODELS': 'download', 'VERSION': '0.2.0', 'TREEBANK LICENSE': 'Creative Commons License', 'TREEBANK DOC': '', 'NOTES': ''}\n"
     ]
    }
   ],
   "source": [
    "import json\n",
    "# target='ar_padt'\n",
    "target='grc_proiel'\n",
    "rs=json.loads(df.to_json(orient='records'))\n",
    "\n",
    "def get_bank_meta(treebank):\n",
    "    target_row=None\n",
    "    cur_lang=None\n",
    "    for row in rs:\n",
    "        if 'LANGUAGE' in row and row['LANGUAGE'].strip()!='':\n",
    "            cur_lang=row['LANGUAGE']\n",
    "        if row['TREEBANK CODE']==treebank:\n",
    "            target_row=row\n",
    "            break\n",
    "    return cur_lang, target_row\n",
    "\n",
    "lang, target_row=get_bank_meta('grc_proiel')\n",
    "print(lang, target_row['LANGUAGE CODE'], target_row)"
   ]
  },
  {
   "cell_type": "code",
   "execution_count": 23,
   "metadata": {
    "ExecuteTime": {
     "end_time": "2019-07-30T04:48:05.114188Z",
     "start_time": "2019-07-30T04:48:05.090021Z"
    }
   },
   "outputs": [],
   "source": [
    "import io_utils\n",
    "import os\n",
    "import json_utils\n",
    "folders=io_utils.list_subdirectories('/pi/ai/corenlp/')\n",
    "model_dirs=[]\n",
    "suffix='_models'\n",
    "for folder in folders:\n",
    "    if folder.endswith(suffix):\n",
    "        model_dirs.append((folder))\n",
    "\n",
    "# print(model_dirs)\n",
    "suffix_len=len(suffix)\n",
    "all_models=[]\n",
    "for dir in model_dirs:\n",
    "    model_name=os.path.basename(dir)[:-suffix_len]\n",
    "    lang, meta=get_bank_meta(model_name)\n",
    "    model_idx={'name':meta['LANGUAGE CODE'], 'lang':lang, \n",
    "               'model':model_name, 'version':meta['VERSION'], 'treebank':meta['TREEBANK']}\n",
    "    all_models.append(model_idx)\n",
    "\n",
    "json_utils.write_json_to_file('./conf/treebanks.json', all_models)"
   ]
  },
  {
   "cell_type": "code",
   "execution_count": 28,
   "metadata": {
    "ExecuteTime": {
     "end_time": "2019-07-30T04:57:17.061463Z",
     "start_time": "2019-07-30T04:57:17.052875Z"
    }
   },
   "outputs": [
    {
     "name": "stdout",
     "output_type": "stream",
     "text": [
      "{'name': 'ar', 'lang': 'Arabic', 'model': 'ar_padt', 'version': '0.2.0', 'treebank': 'PADT'}\n"
     ]
    }
   ],
   "source": [
    "conf=json_utils.read_json_file('./conf/treebanks.json')\n",
    "lang='ar'\n",
    "item=next(x for x in conf if x['name']==lang)\n",
    "print(item)"
   ]
  },
  {
   "cell_type": "code",
   "execution_count": 30,
   "metadata": {
    "ExecuteTime": {
     "end_time": "2019-07-30T05:25:07.665855Z",
     "start_time": "2019-07-30T05:25:07.653143Z"
    }
   },
   "outputs": [
    {
     "name": "stdout",
     "output_type": "stream",
     "text": [
      "None\n"
     ]
    }
   ],
   "source": [
    "item=next((x for x in conf if x['name']=='ppp'), None)\n",
    "print(item)"
   ]
  }
 ],
 "metadata": {
  "kernelspec": {
   "display_name": "Python 3",
   "language": "python",
   "name": "python3"
  },
  "language_info": {
   "codemirror_mode": {
    "name": "ipython",
    "version": 3
   },
   "file_extension": ".py",
   "mimetype": "text/x-python",
   "name": "python",
   "nbconvert_exporter": "python",
   "pygments_lexer": "ipython3",
   "version": "3.6.4"
  },
  "varInspector": {
   "cols": {
    "lenName": 16,
    "lenType": 16,
    "lenVar": 40
   },
   "kernels_config": {
    "python": {
     "delete_cmd_postfix": "",
     "delete_cmd_prefix": "del ",
     "library": "var_list.py",
     "varRefreshCmd": "print(var_dic_list())"
    },
    "r": {
     "delete_cmd_postfix": ") ",
     "delete_cmd_prefix": "rm(",
     "library": "var_list.r",
     "varRefreshCmd": "cat(var_dic_list()) "
    }
   },
   "types_to_exclude": [
    "module",
    "function",
    "builtin_function_or_method",
    "instance",
    "_Feature"
   ],
   "window_display": false
  }
 },
 "nbformat": 4,
 "nbformat_minor": 2
}
