{
 "cells": [
  {
   "cell_type": "code",
   "execution_count": 1,
   "metadata": {
    "ExecuteTime": {
     "end_time": "2019-02-03T19:36:42.557372Z",
     "start_time": "2019-02-03T19:36:42.156670Z"
    }
   },
   "outputs": [],
   "source": [
    "import pyarrow.plasma as plasma\n",
    "client = plasma.connect(\"/tmp/plasma\")"
   ]
  },
  {
   "cell_type": "code",
   "execution_count": 2,
   "metadata": {
    "ExecuteTime": {
     "end_time": "2019-02-03T19:37:00.898344Z",
     "start_time": "2019-02-03T19:37:00.879763Z"
    }
   },
   "outputs": [
    {
     "data": {
      "text/plain": [
       "ObjectID(6161616161616161616161616161616161616161)"
      ]
     },
     "execution_count": 2,
     "metadata": {},
     "output_type": "execute_result"
    }
   ],
   "source": [
    "id = plasma.ObjectID(20 * b\"a\")\n",
    "id"
   ]
  },
  {
   "cell_type": "code",
   "execution_count": 4,
   "metadata": {
    "ExecuteTime": {
     "end_time": "2019-02-03T19:37:31.161792Z",
     "start_time": "2019-02-03T19:37:31.157295Z"
    }
   },
   "outputs": [],
   "source": [
    "# The random generation of Object IDs is often good enough to ensure unique IDs. You can easily create a helper function that randomly generates object IDs as follows:\n",
    "import numpy as np\n",
    "\n",
    "def random_object_id():\n",
    "    return plasma.ObjectID(np.random.bytes(20))"
   ]
  },
  {
   "cell_type": "code",
   "execution_count": 6,
   "metadata": {
    "ExecuteTime": {
     "end_time": "2019-02-03T19:37:45.757933Z",
     "start_time": "2019-02-03T19:37:45.749738Z"
    }
   },
   "outputs": [
    {
     "data": {
      "text/plain": [
       "'hello, world'"
      ]
     },
     "execution_count": 6,
     "metadata": {},
     "output_type": "execute_result"
    }
   ],
   "source": [
    "# Create a python object.\n",
    "object_id = client.put(\"hello, world\")\n",
    "\n",
    "# Get the object.\n",
    "client.get(object_id)"
   ]
  },
  {
   "cell_type": "code",
   "execution_count": 7,
   "metadata": {
    "ExecuteTime": {
     "end_time": "2019-02-03T19:39:00.409572Z",
     "start_time": "2019-02-03T19:38:58.389564Z"
    }
   },
   "outputs": [
    {
     "name": "stdout",
     "output_type": "stream",
     "text": [
      "{ObjectID(19b2b9d8f32e6c93ba6582f6613006da6ed4397e): {'data_size': 512, 'metadata_size': 0, 'ref_count': 0, 'create_time': 1549222662, 'construct_duration': 0, 'state': 'sealed'}, ObjectID(57ea70c4a54470126d38ce22e117b08332b7911c): {'data_size': 512, 'metadata_size': 0, 'ref_count': 0, 'create_time': 1549222738, 'construct_duration': 0, 'state': 'sealed'}, ObjectID(243466a67be9870020311598d1301e62fc66c719): {'data_size': 100, 'metadata_size': 0, 'ref_count': 1, 'create_time': 1549222740, 'construct_duration': -1, 'state': 'created'}, ObjectID(9c4eb639cb6652a88163184a25e3ae60d7aa77b1): {'data_size': 512, 'metadata_size': 0, 'ref_count': 0, 'create_time': 1549222665, 'construct_duration': 0, 'state': 'sealed'}, ObjectID(19a6f8ba099828c7fc57c0babeb85b3c9e476f3f): {'data_size': 512, 'metadata_size': 0, 'ref_count': 0, 'create_time': 1549222740, 'construct_duration': 0, 'state': 'sealed'}}\n"
     ]
    }
   ],
   "source": [
    "import pyarrow.plasma as plasma\n",
    "import time\n",
    "\n",
    "client = plasma.connect(\"/tmp/plasma\")\n",
    "\n",
    "client.put(\"hello, world\")\n",
    "# Sleep a little so we get different creation times\n",
    "time.sleep(2)\n",
    "client.put(\"another object\")\n",
    "# Create an object that is not sealed yet\n",
    "object_id = plasma.ObjectID.from_random()\n",
    "client.create(object_id, 100)\n",
    "print(client.list())"
   ]
  },
  {
   "cell_type": "code",
   "execution_count": 8,
   "metadata": {
    "ExecuteTime": {
     "end_time": "2019-02-03T19:41:54.522800Z",
     "start_time": "2019-02-03T19:41:54.508676Z"
    }
   },
   "outputs": [],
   "source": [
    "import pyarrow as pa\n",
    "import pandas as pd\n",
    "\n",
    "# Create a Pandas DataFrame\n",
    "d = {'one' : pd.Series([1., 2., 3.], index=['a', 'b', 'c']),\n",
    "     'two' : pd.Series([1., 2., 3., 4.], index=['a', 'b', 'c', 'd'])}\n",
    "df = pd.DataFrame(d)\n",
    "\n",
    "# Convert the Pandas DataFrame into a PyArrow RecordBatch\n",
    "record_batch = pa.RecordBatch.from_pandas(df)"
   ]
  },
  {
   "cell_type": "markdown",
   "metadata": {},
   "source": [
    "Creating the Plasma object requires an ObjectID and the size of the data. Now that we have converted the Pandas DataFrame into a PyArrow RecordBatch, use the MockOutputStream to determine the size of the Plasma object.\n",
    "\n"
   ]
  },
  {
   "cell_type": "code",
   "execution_count": 9,
   "metadata": {
    "ExecuteTime": {
     "end_time": "2019-02-04T07:00:31.461947Z",
     "start_time": "2019-02-04T07:00:31.411210Z"
    }
   },
   "outputs": [],
   "source": [
    "# Create the Plasma object from the PyArrow RecordBatch. Most of the work here\n",
    "# is done to determine the size of buffer to request from the object store.\n",
    "object_id = plasma.ObjectID(np.random.bytes(20))\n",
    "mock_sink = pa.MockOutputStream()\n",
    "stream_writer = pa.RecordBatchStreamWriter(mock_sink, record_batch.schema)\n",
    "stream_writer.write_batch(record_batch)\n",
    "stream_writer.close()\n",
    "data_size = mock_sink.size()\n",
    "buf = client.create(object_id, data_size)\n"
   ]
  },
  {
   "cell_type": "code",
   "execution_count": 12,
   "metadata": {
    "ExecuteTime": {
     "end_time": "2019-02-04T07:01:07.797613Z",
     "start_time": "2019-02-04T07:01:07.793376Z"
    }
   },
   "outputs": [
    {
     "name": "stdout",
     "output_type": "stream",
     "text": [
      "1196\n"
     ]
    }
   ],
   "source": [
    "print(buf.size)"
   ]
  },
  {
   "cell_type": "code",
   "execution_count": 13,
   "metadata": {
    "ExecuteTime": {
     "end_time": "2019-02-04T07:01:27.539564Z",
     "start_time": "2019-02-04T07:01:27.534458Z"
    }
   },
   "outputs": [],
   "source": [
    "# Write the PyArrow RecordBatch to Plasma\n",
    "stream = pa.FixedSizeBufferWriter(buf)\n",
    "stream_writer = pa.RecordBatchStreamWriter(stream, record_batch.schema)\n",
    "stream_writer.write_batch(record_batch)\n",
    "stream_writer.close()"
   ]
  },
  {
   "cell_type": "code",
   "execution_count": 14,
   "metadata": {
    "ExecuteTime": {
     "end_time": "2019-02-04T07:01:48.236903Z",
     "start_time": "2019-02-04T07:01:48.232082Z"
    }
   },
   "outputs": [],
   "source": [
    "# Finally, seal the finished object for use by all clients:\n",
    "\n",
    "# Seal the Plasma object\n",
    "client.seal(object_id)"
   ]
  },
  {
   "cell_type": "markdown",
   "metadata": {},
   "source": [
    "## Getting Pandas DataFrames from Plasma\n",
    "* https://arrow.apache.org/docs/python/plasma.html#getting-pandas-dataframes-from-plasma\n",
    "Since we store the Pandas DataFrame as a PyArrow RecordBatch object, to get the object back from the Plasma store, we follow similar steps to those specified in Getting Arrow Objects from Plasma.\n",
    "\n",
    "We first have to convert the PlasmaBuffer returned from client.get_buffers into an Arrow BufferReader object."
   ]
  },
  {
   "cell_type": "code",
   "execution_count": 15,
   "metadata": {
    "ExecuteTime": {
     "end_time": "2019-02-04T07:06:34.162158Z",
     "start_time": "2019-02-04T07:06:34.156995Z"
    }
   },
   "outputs": [],
   "source": [
    "# Fetch the Plasma object\n",
    "[data] = client.get_buffers([object_id])  # Get PlasmaBuffer from ObjectID\n",
    "buffer = pa.BufferReader(data)"
   ]
  },
  {
   "cell_type": "code",
   "execution_count": 16,
   "metadata": {
    "ExecuteTime": {
     "end_time": "2019-02-04T07:07:35.389206Z",
     "start_time": "2019-02-04T07:07:35.382346Z"
    }
   },
   "outputs": [],
   "source": [
    "# From the BufferReader, we can create a specific RecordBatchStreamReader in Arrow to reconstruct the stored PyArrow RecordBatch object.\n",
    "\n",
    "# Convert object back into an Arrow RecordBatch\n",
    "reader = pa.RecordBatchStreamReader(buffer)\n",
    "record_batch = reader.read_next_batch()"
   ]
  },
  {
   "cell_type": "code",
   "execution_count": 17,
   "metadata": {
    "ExecuteTime": {
     "end_time": "2019-02-04T07:09:33.053351Z",
     "start_time": "2019-02-04T07:09:33.035234Z"
    }
   },
   "outputs": [],
   "source": [
    "# The last step is to convert the PyArrow RecordBatch object back into the original Pandas DataFrame structure.\n",
    "\n",
    "# Convert back into Pandas\n",
    "result = record_batch.to_pandas()"
   ]
  },
  {
   "cell_type": "code",
   "execution_count": null,
   "metadata": {},
   "outputs": [],
   "source": []
  }
 ],
 "metadata": {
  "kernelspec": {
   "display_name": "Python 3",
   "language": "python",
   "name": "python3"
  },
  "language_info": {
   "codemirror_mode": {
    "name": "ipython",
    "version": 3
   },
   "file_extension": ".py",
   "mimetype": "text/x-python",
   "name": "python",
   "nbconvert_exporter": "python",
   "pygments_lexer": "ipython3",
   "version": "3.6.4"
  },
  "varInspector": {
   "cols": {
    "lenName": 16,
    "lenType": 16,
    "lenVar": 40
   },
   "kernels_config": {
    "python": {
     "delete_cmd_postfix": "",
     "delete_cmd_prefix": "del ",
     "library": "var_list.py",
     "varRefreshCmd": "print(var_dic_list())"
    },
    "r": {
     "delete_cmd_postfix": ") ",
     "delete_cmd_prefix": "rm(",
     "library": "var_list.r",
     "varRefreshCmd": "cat(var_dic_list()) "
    }
   },
   "types_to_exclude": [
    "module",
    "function",
    "builtin_function_or_method",
    "instance",
    "_Feature"
   ],
   "window_display": false
  }
 },
 "nbformat": 4,
 "nbformat_minor": 2
}
