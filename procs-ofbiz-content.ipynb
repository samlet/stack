{
 "cells": [
  {
   "cell_type": "code",
   "execution_count": 3,
   "metadata": {
    "ExecuteTime": {
     "end_time": "2019-05-21T21:46:17.351307Z",
     "start_time": "2019-05-21T21:46:17.201288Z"
    }
   },
   "outputs": [
    {
     "name": "stdout",
     "output_type": "stream",
     "text": [
      "WebSite\n",
      "WebSiteRole\n",
      "WebPage\n",
      "WebPreferenceType\n",
      "WebAnalyticsConfig\n",
      "WebSitePublishPoint\n",
      "WebSitePathAlias\n",
      "WebSiteAndContent\n",
      "WebSiteContent\n",
      "WebSiteContentType\n",
      "WebAnalyticsType\n",
      "WebSiteContactList\n",
      "WebUserPreference\n"
     ]
    }
   ],
   "source": [
    "from sagas.ofbiz.entities import oc,finder,OfEntity as e\n",
    "def search_entity(name_filter):\n",
    "    name_filter=name_filter.lower()\n",
    "    model_reader=oc.delegator.getModelReader()\n",
    "    names=model_reader.getEntityNames()\n",
    "    # print(len(names))\n",
    "    for name in names:\n",
    "        if name_filter in name.lower():\n",
    "            print(name)\n",
    "\n",
    "search_entity('web')"
   ]
  },
  {
   "cell_type": "code",
   "execution_count": 5,
   "metadata": {
    "ExecuteTime": {
     "end_time": "2019-05-21T21:47:02.633006Z",
     "start_time": "2019-05-21T21:47:02.586989Z"
    }
   },
   "outputs": [
    {
     "data": {
      "text/html": [
       "<div>\n",
       "<style scoped>\n",
       "    .dataframe tbody tr th:only-of-type {\n",
       "        vertical-align: middle;\n",
       "    }\n",
       "\n",
       "    .dataframe tbody tr th {\n",
       "        vertical-align: top;\n",
       "    }\n",
       "\n",
       "    .dataframe thead th {\n",
       "        text-align: right;\n",
       "    }\n",
       "</style>\n",
       "<table border=\"1\" class=\"dataframe\">\n",
       "  <thead>\n",
       "    <tr style=\"text-align: right;\">\n",
       "      <th></th>\n",
       "      <th>entity name</th>\n",
       "      <th>mapping</th>\n",
       "      <th>relation</th>\n",
       "      <th>type</th>\n",
       "      <th>relation type</th>\n",
       "    </tr>\n",
       "  </thead>\n",
       "  <tbody>\n",
       "    <tr>\n",
       "      <th>0</th>\n",
       "      <td>DataResourceType</td>\n",
       "      <td>parentTypeId►dataResourceTypeId</td>\n",
       "      <td>ParentDataResourceType</td>\n",
       "      <td>one</td>\n",
       "      <td>one</td>\n",
       "    </tr>\n",
       "    <tr>\n",
       "      <th>1</th>\n",
       "      <td>DataResource</td>\n",
       "      <td>dataResourceTypeId►dataResourceTypeId</td>\n",
       "      <td>DataResource</td>\n",
       "      <td>many</td>\n",
       "      <td>many</td>\n",
       "    </tr>\n",
       "    <tr>\n",
       "      <th>2</th>\n",
       "      <td>DataResourceType</td>\n",
       "      <td>dataResourceTypeId►parentTypeId</td>\n",
       "      <td>ChildDataResourceType</td>\n",
       "      <td>many</td>\n",
       "      <td>many</td>\n",
       "    </tr>\n",
       "    <tr>\n",
       "      <th>3</th>\n",
       "      <td>DataResourceTypeAttr</td>\n",
       "      <td>dataResourceTypeId►dataResourceTypeId</td>\n",
       "      <td>DataResourceTypeAttr</td>\n",
       "      <td>many</td>\n",
       "      <td>many</td>\n",
       "    </tr>\n",
       "  </tbody>\n",
       "</table>\n",
       "</div>"
      ],
      "text/plain": [
       "            entity name                                mapping  \\\n",
       "0      DataResourceType        parentTypeId►dataResourceTypeId   \n",
       "1          DataResource  dataResourceTypeId►dataResourceTypeId   \n",
       "2      DataResourceType        dataResourceTypeId►parentTypeId   \n",
       "3  DataResourceTypeAttr  dataResourceTypeId►dataResourceTypeId   \n",
       "\n",
       "                 relation  type relation type  \n",
       "0  ParentDataResourceType   one           one  \n",
       "1            DataResource  many          many  \n",
       "2   ChildDataResourceType  many          many  \n",
       "3    DataResourceTypeAttr  many          many  "
      ]
     },
     "execution_count": 5,
     "metadata": {},
     "output_type": "execute_result"
    }
   ],
   "source": [
    "e('relations').DataResourceType"
   ]
  }
 ],
 "metadata": {
  "kernelspec": {
   "display_name": "Python 3",
   "language": "python",
   "name": "python3"
  },
  "language_info": {
   "codemirror_mode": {
    "name": "ipython",
    "version": 3
   },
   "file_extension": ".py",
   "mimetype": "text/x-python",
   "name": "python",
   "nbconvert_exporter": "python",
   "pygments_lexer": "ipython3",
   "version": "3.6.4"
  },
  "varInspector": {
   "cols": {
    "lenName": 16,
    "lenType": 16,
    "lenVar": 40
   },
   "kernels_config": {
    "python": {
     "delete_cmd_postfix": "",
     "delete_cmd_prefix": "del ",
     "library": "var_list.py",
     "varRefreshCmd": "print(var_dic_list())"
    },
    "r": {
     "delete_cmd_postfix": ") ",
     "delete_cmd_prefix": "rm(",
     "library": "var_list.r",
     "varRefreshCmd": "cat(var_dic_list()) "
    }
   },
   "types_to_exclude": [
    "module",
    "function",
    "builtin_function_or_method",
    "instance",
    "_Feature"
   ],
   "window_display": false
  }
 },
 "nbformat": 4,
 "nbformat_minor": 2
}
