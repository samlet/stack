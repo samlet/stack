{
 "cells": [
  {
   "cell_type": "code",
   "execution_count": 2,
   "metadata": {
    "ExecuteTime": {
     "end_time": "2019-05-08T18:45:51.162832Z",
     "start_time": "2019-05-08T18:45:51.150259Z"
    }
   },
   "outputs": [
    {
     "name": "stdout",
     "output_type": "stream",
     "text": [
      "edit agreement item\n",
      "edit agreement item\n"
     ]
    }
   ],
   "source": [
    "def convert_form_name(form_name):\n",
    "    \"\"\"\n",
    "    Usage: convert_form_name('EditAgreementItem')\n",
    "    :param form_name:\n",
    "    :return: like 'Edit Agreement Item'\n",
    "    \"\"\"\n",
    "    from sagas.util.str_converters import to_camel_case, to_snake_case, to_words\n",
    "    return to_words(to_snake_case(form_name), True).lower()\n",
    "\n",
    "print(convert_form_name('EditAgreementItem'))\n",
    "print(convert_form_name('editAgreementItem'))"
   ]
  },
  {
   "cell_type": "code",
   "execution_count": 3,
   "metadata": {
    "ExecuteTime": {
     "end_time": "2019-05-08T18:45:57.362985Z",
     "start_time": "2019-05-08T18:45:57.190722Z"
    }
   },
   "outputs": [],
   "source": [
    "import sagas.storage.data_space as ds\n",
    "forms_db=ds.DataSpace('forms.db', [b'phrase', b'name', b'type', b'form_file', b'location', b'uri'])"
   ]
  },
  {
   "cell_type": "code",
   "execution_count": 23,
   "metadata": {
    "ExecuteTime": {
     "end_time": "2019-04-18T22:24:13.736875Z",
     "start_time": "2019-04-18T22:24:13.661435Z"
    }
   },
   "outputs": [],
   "source": [
    "forms_db.cleanup_db()"
   ]
  },
  {
   "cell_type": "code",
   "execution_count": 7,
   "metadata": {
    "ExecuteTime": {
     "end_time": "2019-05-08T18:47:30.655904Z",
     "start_time": "2019-05-08T18:47:30.649159Z"
    }
   },
   "outputs": [
    {
     "name": "stdout",
     "output_type": "stream",
     "text": [
      "<class 'bytes'>\n",
      "<class 'str'>\n"
     ]
    }
   ],
   "source": [
    "my_str = \"hello world\"\n",
    "my_str_as_bytes = str.encode(my_str)\n",
    "print(type(my_str_as_bytes)) # ensure it is byte representation\n",
    "my_decoded_str = my_str_as_bytes.decode()\n",
    "print(type(my_decoded_str)) # ensure it is string representation"
   ]
  },
  {
   "cell_type": "code",
   "execution_count": 8,
   "metadata": {
    "ExecuteTime": {
     "end_time": "2019-05-08T18:47:34.047952Z",
     "start_time": "2019-05-08T18:47:32.859420Z"
    }
   },
   "outputs": [],
   "source": [
    "import sagas.ofbiz.forms as frms\n",
    "form_list = frms.get_form_list()\n",
    "form_index = frms.collect_forms(form_list, verbose=False)\n",
    "count=0\n",
    "phrases=[]\n",
    "for k,locs in form_index.items():\n",
    "    count=count+1\n",
    "    # print('♥', count, k)\n",
    "    for loc in locs:\n",
    "        # print('\\t✎', loc.name, loc.location, loc.uri)\n",
    "        phrase=convert_form_name(k)\n",
    "        phrases.append(phrase)\n",
    "        forms_db.put(str.encode(phrase), b'name', str.encode(k))\n",
    "        forms_db.put(str.encode(phrase), b'type', str.encode('form'))\n",
    "        forms_db.put(str.encode(phrase), b'form_file', str.encode(loc.name))\n",
    "        forms_db.put(str.encode(phrase), b'location', str.encode(loc.location))\n",
    "        forms_db.put(str.encode(phrase), b'uri', str.encode(loc.uri))"
   ]
  },
  {
   "cell_type": "code",
   "execution_count": 9,
   "metadata": {
    "ExecuteTime": {
     "end_time": "2019-05-08T18:47:36.832941Z",
     "start_time": "2019-05-08T18:47:36.828004Z"
    }
   },
   "outputs": [
    {
     "name": "stdout",
     "output_type": "stream",
     "text": [
      "True\n"
     ]
    }
   ],
   "source": [
    "p=convert_form_name('ListTaskContent')\n",
    "print(p in phrases)"
   ]
  },
  {
   "cell_type": "code",
   "execution_count": 10,
   "metadata": {
    "ExecuteTime": {
     "end_time": "2019-05-08T18:47:42.564923Z",
     "start_time": "2019-05-08T18:47:42.559696Z"
    }
   },
   "outputs": [
    {
     "name": "stdout",
     "output_type": "stream",
     "text": [
      "1918\n",
      "['list portal pages', 'list portal pages', 'new portal page', 'portlet category and portlet', 'portlet list']\n"
     ]
    }
   ],
   "source": [
    "print(len(phrases))\n",
    "print(phrases[:5])"
   ]
  },
  {
   "cell_type": "code",
   "execution_count": 28,
   "metadata": {
    "ExecuteTime": {
     "end_time": "2019-04-18T22:25:04.436938Z",
     "start_time": "2019-04-18T22:25:04.425636Z"
    }
   },
   "outputs": [
    {
     "name": "stdout",
     "output_type": "stream",
     "text": [
      "b'ListPortalPages'\n",
      "(b'ListPortalPages', b'form', b'LookupForms', b'/Users/xiaofeiwu/jcloud/vagrant/fedora/fedora-28/ofbiz/ofbiz-framework/framework/common/widget/LookupForms.xml', b'component://common/widget/LookupForms.xml')\n"
     ]
    }
   ],
   "source": [
    "def u(val):\n",
    "    return str.encode(val)\n",
    "def rec(key):\n",
    "    return (forms_db.get(u(key), b'name'), \n",
    "            forms_db.get(u(key), b'type'), \n",
    "            forms_db.get(u(key), b'form_file'), \n",
    "            forms_db.get(u(key), b'location'), \n",
    "            forms_db.get(u(key), b'uri'))\n",
    "    \n",
    "print(forms_db.get(b'list portal pages', b'name'))\n",
    "print(rec('list portal pages'))"
   ]
  },
  {
   "cell_type": "code",
   "execution_count": 20,
   "metadata": {
    "ExecuteTime": {
     "end_time": "2019-04-18T22:21:25.649966Z",
     "start_time": "2019-04-18T22:21:25.621137Z"
    }
   },
   "outputs": [
    {
     "data": {
      "text/plain": [
       "['lookup person', 'mru lookup person', 'list lookup person']"
      ]
     },
     "execution_count": 20,
     "metadata": {},
     "output_type": "execute_result"
    }
   ],
   "source": [
    "from difflib import get_close_matches\n",
    "get_close_matches('lookup person', phrases)"
   ]
  },
  {
   "cell_type": "code",
   "execution_count": 13,
   "metadata": {
    "ExecuteTime": {
     "end_time": "2019-04-18T22:17:30.063771Z",
     "start_time": "2019-04-18T22:17:30.057114Z"
    }
   },
   "outputs": [
    {
     "name": "stdout",
     "output_type": "stream",
     "text": [
      "(b'TaskForms', b'/Users/xiaofeiwu/jcloud/vagrant/fedora/fedora-28/ofbiz/ofbiz-framework/plugins/projectmgr/widget/forms/TaskForms.xml', b'component://projectmgr/widget/forms/TaskForms.xml')\n"
     ]
    }
   ],
   "source": [
    "print(rec('list task content'))"
   ]
  },
  {
   "cell_type": "code",
   "execution_count": 21,
   "metadata": {
    "ExecuteTime": {
     "end_time": "2019-04-18T22:21:37.680471Z",
     "start_time": "2019-04-18T22:21:37.601341Z"
    }
   },
   "outputs": [
    {
     "name": "stdout",
     "output_type": "stream",
     "text": [
      "['my tasks', 'my tasks', 'task info']\n",
      "['edit person', 'create time period', 'view party person']\n"
     ]
    }
   ],
   "source": [
    "print(get_close_matches('task', phrases))\n",
    "print(get_close_matches('create person', phrases))"
   ]
  },
  {
   "cell_type": "code",
   "execution_count": 4,
   "metadata": {
    "ExecuteTime": {
     "end_time": "2019-05-08T18:46:22.729857Z",
     "start_time": "2019-05-08T18:46:22.066009Z"
    }
   },
   "outputs": [
    {
     "name": "stdout",
     "output_type": "stream",
     "text": [
      "3574\n"
     ]
    }
   ],
   "source": [
    "from sagas.ofbiz.services import OfService as s, oc, track\n",
    "\n",
    "all_services=oc.all_service_names()\n",
    "services=[convert_form_name(s) for s in all_services]\n",
    "print(len(services))"
   ]
  },
  {
   "cell_type": "code",
   "execution_count": 11,
   "metadata": {
    "ExecuteTime": {
     "end_time": "2019-05-08T18:47:46.230858Z",
     "start_time": "2019-05-08T18:47:46.104622Z"
    }
   },
   "outputs": [
    {
     "name": "stdout",
     "output_type": "stream",
     "text": [
      "['edit person', 'create time period', 'view party person']\n",
      "['create person', 'create update person', 'get person']\n"
     ]
    }
   ],
   "source": [
    "from difflib import get_close_matches\n",
    "print(get_close_matches('create person', phrases))\n",
    "print(get_close_matches('create person', services))"
   ]
  }
 ],
 "metadata": {
  "kernelspec": {
   "display_name": "Python 3",
   "language": "python",
   "name": "python3"
  },
  "language_info": {
   "codemirror_mode": {
    "name": "ipython",
    "version": 3
   },
   "file_extension": ".py",
   "mimetype": "text/x-python",
   "name": "python",
   "nbconvert_exporter": "python",
   "pygments_lexer": "ipython3",
   "version": "3.6.4"
  },
  "varInspector": {
   "cols": {
    "lenName": 16,
    "lenType": 16,
    "lenVar": 40
   },
   "kernels_config": {
    "python": {
     "delete_cmd_postfix": "",
     "delete_cmd_prefix": "del ",
     "library": "var_list.py",
     "varRefreshCmd": "print(var_dic_list())"
    },
    "r": {
     "delete_cmd_postfix": ") ",
     "delete_cmd_prefix": "rm(",
     "library": "var_list.r",
     "varRefreshCmd": "cat(var_dic_list()) "
    }
   },
   "types_to_exclude": [
    "module",
    "function",
    "builtin_function_or_method",
    "instance",
    "_Feature"
   ],
   "window_display": false
  }
 },
 "nbformat": 4,
 "nbformat_minor": 2
}
