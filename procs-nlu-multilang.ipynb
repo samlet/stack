{
 "cells": [
  {
   "cell_type": "code",
   "execution_count": 6,
   "metadata": {
    "ExecuteTime": {
     "end_time": "2019-08-18T08:18:06.578694Z",
     "start_time": "2019-08-18T08:18:00.798221Z"
    }
   },
   "outputs": [
    {
     "name": "stderr",
     "output_type": "stream",
     "text": [
      "/Users/xiaofeiwu/miniconda3/envs/bigdata/lib/python3.6/site-packages/rasa_nlu/training_data/training_data.py:191: UserWarning: Intent 'context_indicator' has only 1 training examples! Minimum is 2, training may fail.\n",
      "  self.MIN_EXAMPLES_PER_INTENT))\n",
      "/Users/xiaofeiwu/miniconda3/envs/bigdata/lib/python3.6/site-packages/rasa_nlu/training_data/training_data.py:191: UserWarning: Intent 'using' has only 1 training examples! Minimum is 2, training may fail.\n",
      "  self.MIN_EXAMPLES_PER_INTENT))\n",
      "/Users/xiaofeiwu/miniconda3/envs/bigdata/lib/python3.6/site-packages/rasa_nlu/training_data/training_data.py:199: UserWarning: Entity 'event' has only 1 training examples! minimum is 2, training may fail.\n",
      "  self.MIN_EXAMPLES_PER_ENTITY))\n",
      "/Users/xiaofeiwu/miniconda3/envs/bigdata/lib/python3.6/site-packages/rasa_nlu/training_data/training_data.py:199: UserWarning: Entity 'num_hours' has only 1 training examples! minimum is 2, training may fail.\n",
      "  self.MIN_EXAMPLES_PER_ENTITY))\n",
      "/Users/xiaofeiwu/miniconda3/envs/bigdata/lib/python3.6/site-packages/rasa_nlu/training_data/training_data.py:199: UserWarning: Entity 'num_month' has only 1 training examples! minimum is 2, training may fail.\n",
      "  self.MIN_EXAMPLES_PER_ENTITY))\n",
      "/Users/xiaofeiwu/miniconda3/envs/bigdata/lib/python3.6/site-packages/rasa_nlu/training_data/training_data.py:199: UserWarning: Entity 'thing' has only 1 training examples! minimum is 2, training may fail.\n",
      "  self.MIN_EXAMPLES_PER_ENTITY))\n",
      "Epochs: 100%|██████████| 300/300 [00:03<00:00, 78.63it/s, loss=0.117, acc=1.000]\n"
     ]
    },
    {
     "name": "stdout",
     "output_type": "stream",
     "text": [
      "/pi/stack/mats/nlu_multilang/projects/de\n",
      "Model trained. Stored in '/pi/stack/mats/nlu_multilang/projects/de/default/current'.\n"
     ]
    },
    {
     "data": {
      "text/plain": [
       "'/pi/stack/mats/nlu_multilang/projects/de/default/current'"
      ]
     },
     "execution_count": 6,
     "metadata": {},
     "output_type": "execute_result"
    }
   ],
   "source": [
    "import os\n",
    "path_prefix='/pi/stack/mats/nlu_multilang/'\n",
    "def train_nlu(lang='de'):\n",
    "    from rasa_nlu.training_data import load_data\n",
    "    from rasa_nlu import config\n",
    "    from rasa_nlu.model import Trainer\n",
    "    \n",
    "    config_file=path_prefix+\"config_%s.yml\"%lang\n",
    "    model_directory: Text = f\"{path_prefix}projects\"\n",
    "    model_name: Text = lang\n",
    "    training_data_file=f\"{path_prefix}{lang}/nlu_data.md\"\n",
    "\n",
    "    training_data = load_data(training_data_file)\n",
    "    trainer = Trainer(config.load(config_file))\n",
    "    trainer.train(training_data)\n",
    "\n",
    "    # Attention: trainer.persist stores the model and all meta data into a folder.\n",
    "    # The folder itself is not zipped.\n",
    "    model_path = os.path.join(model_directory, model_name)\n",
    "    print(model_path)\n",
    "    model_directory = trainer.persist(model_path, \n",
    "                                      fixed_model_name=\"current\")\n",
    "\n",
    "    print(\"Model trained. Stored in '{}'.\".format(model_directory))\n",
    "\n",
    "    return model_directory\n",
    "\n",
    "train_nlu()"
   ]
  }
 ],
 "metadata": {
  "kernelspec": {
   "display_name": "Python 3",
   "language": "python",
   "name": "python3"
  },
  "language_info": {
   "codemirror_mode": {
    "name": "ipython",
    "version": 3
   },
   "file_extension": ".py",
   "mimetype": "text/x-python",
   "name": "python",
   "nbconvert_exporter": "python",
   "pygments_lexer": "ipython3",
   "version": "3.6.4"
  },
  "varInspector": {
   "cols": {
    "lenName": 16,
    "lenType": 16,
    "lenVar": 40
   },
   "kernels_config": {
    "python": {
     "delete_cmd_postfix": "",
     "delete_cmd_prefix": "del ",
     "library": "var_list.py",
     "varRefreshCmd": "print(var_dic_list())"
    },
    "r": {
     "delete_cmd_postfix": ") ",
     "delete_cmd_prefix": "rm(",
     "library": "var_list.r",
     "varRefreshCmd": "cat(var_dic_list()) "
    }
   },
   "types_to_exclude": [
    "module",
    "function",
    "builtin_function_or_method",
    "instance",
    "_Feature"
   ],
   "window_display": false
  }
 },
 "nbformat": 4,
 "nbformat_minor": 2
}
