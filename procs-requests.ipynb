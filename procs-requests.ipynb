{
 "cells": [
  {
   "cell_type": "code",
   "execution_count": 1,
   "metadata": {
    "ExecuteTime": {
     "end_time": "2019-05-30T08:27:57.332588Z",
     "start_time": "2019-05-30T08:27:57.092967Z"
    }
   },
   "outputs": [
    {
     "data": {
      "text/plain": [
       "{'todo1': 'Remember the milk'}"
      ]
     },
     "execution_count": 1,
     "metadata": {},
     "output_type": "execute_result"
    }
   ],
   "source": [
    "# at first, run: sagas/tests/services/todo.py\n",
    ">>> from requests import put, get\n",
    ">>> put('http://localhost:5000/todo1', data={'data': 'Remember the milk'}).json()"
   ]
  },
  {
   "cell_type": "code",
   "execution_count": 2,
   "metadata": {
    "ExecuteTime": {
     "end_time": "2019-05-30T08:28:13.730998Z",
     "start_time": "2019-05-30T08:28:13.715919Z"
    }
   },
   "outputs": [
    {
     "data": {
      "text/plain": [
       "{'todo1': 'Remember the milk'}"
      ]
     },
     "execution_count": 2,
     "metadata": {},
     "output_type": "execute_result"
    }
   ],
   "source": [
    ">>> get('http://localhost:5000/todo1').json()"
   ]
  },
  {
   "cell_type": "code",
   "execution_count": 3,
   "metadata": {
    "ExecuteTime": {
     "end_time": "2019-05-30T08:28:23.958218Z",
     "start_time": "2019-05-30T08:28:23.942584Z"
    }
   },
   "outputs": [
    {
     "data": {
      "text/plain": [
       "{'todo2': 'Change my brakepads'}"
      ]
     },
     "execution_count": 3,
     "metadata": {},
     "output_type": "execute_result"
    }
   ],
   "source": [
    ">>> put('http://localhost:5000/todo2', data={'data': 'Change my brakepads'}).json()"
   ]
  },
  {
   "cell_type": "code",
   "execution_count": 4,
   "metadata": {
    "ExecuteTime": {
     "end_time": "2019-05-30T08:28:32.075625Z",
     "start_time": "2019-05-30T08:28:32.058936Z"
    }
   },
   "outputs": [
    {
     "data": {
      "text/plain": [
       "{'todo2': 'Change my brakepads'}"
      ]
     },
     "execution_count": 4,
     "metadata": {},
     "output_type": "execute_result"
    }
   ],
   "source": [
    ">>> get('http://localhost:5000/todo2').json()"
   ]
  },
  {
   "cell_type": "code",
   "execution_count": 7,
   "metadata": {
    "ExecuteTime": {
     "end_time": "2019-05-30T08:31:21.327502Z",
     "start_time": "2019-05-30T08:31:21.278318Z"
    }
   },
   "outputs": [
    {
     "data": {
      "text/plain": [
       "[{'createdStamp': 1551623640489,\n",
       "  'createdTxStamp': 1551623640305,\n",
       "  'lastUpdatedStamp': 1551623640489,\n",
       "  'lastUpdatedTxStamp': 1551623640305,\n",
       "  'moreInfoItemId': '9000',\n",
       "  'moreInfoItemName': 'workEffortId',\n",
       "  'moreInfoUrl': '/projectmgr/control/taskView',\n",
       "  'noteDateTime': 1551623640463,\n",
       "  'noteId': '10000',\n",
       "  'noteInfo': 'New task assignment',\n",
       "  'noteName': 'SYSTEMNOTE',\n",
       "  'noteParty': 'admin'},\n",
       " {'createdStamp': 1551623640495,\n",
       "  'createdTxStamp': 1551623640305,\n",
       "  'lastUpdatedStamp': 1551623640495,\n",
       "  'lastUpdatedTxStamp': 1551623640305,\n",
       "  'moreInfoItemId': '9000',\n",
       "  'moreInfoItemName': 'workEffortId',\n",
       "  'moreInfoUrl': '/projectmgr/control/taskView',\n",
       "  'noteDateTime': 1551623640495,\n",
       "  'noteId': '10001',\n",
       "  'noteInfo': 'New task assignment',\n",
       "  'noteName': 'SYSTEMNOTE',\n",
       "  'noteParty': 'DemoCustomer1'},\n",
       " {'createdStamp': 1551623640508,\n",
       "  'createdTxStamp': 1551623640305,\n",
       "  'lastUpdatedStamp': 1551623640508,\n",
       "  'lastUpdatedTxStamp': 1551623640305,\n",
       "  'moreInfoItemId': '9000',\n",
       "  'moreInfoItemName': 'workEffortId',\n",
       "  'moreInfoUrl': '/projectmgr/control/taskView',\n",
       "  'noteDateTime': 1551623640508,\n",
       "  'noteId': '10002',\n",
       "  'noteInfo': 'New task assignment',\n",
       "  'noteName': 'SYSTEMNOTE',\n",
       "  'noteParty': 'DemoCustomer3'}]"
      ]
     },
     "execution_count": 7,
     "metadata": {},
     "output_type": "execute_result"
    }
   ],
   "source": [
    "# preqs: start srv\n",
    "get('http://localhost:8099/list_notes/0/3').json()"
   ]
  },
  {
   "cell_type": "code",
   "execution_count": 19,
   "metadata": {
    "ExecuteTime": {
     "end_time": "2019-05-30T08:52:14.926223Z",
     "start_time": "2019-05-30T08:52:14.899654Z"
    }
   },
   "outputs": [
    {
     "data": {
      "text/plain": [
       "{'_result': 0, 'resp': 'service done', 'responseMessage': 'success'}"
      ]
     },
     "execution_count": 19,
     "metadata": {},
     "output_type": "execute_result"
    }
   ],
   "source": [
    "from requests import put, get, post\n",
    "post('http://localhost:8099/srv/testScv', \n",
    "     json={\"defaultValue\": 5.5, \"message\": \"hello world\"}).json()"
   ]
  }
 ],
 "metadata": {
  "kernelspec": {
   "display_name": "Python 3",
   "language": "python",
   "name": "python3"
  },
  "language_info": {
   "codemirror_mode": {
    "name": "ipython",
    "version": 3
   },
   "file_extension": ".py",
   "mimetype": "text/x-python",
   "name": "python",
   "nbconvert_exporter": "python",
   "pygments_lexer": "ipython3",
   "version": "3.6.4"
  },
  "varInspector": {
   "cols": {
    "lenName": 16,
    "lenType": 16,
    "lenVar": 40
   },
   "kernels_config": {
    "python": {
     "delete_cmd_postfix": "",
     "delete_cmd_prefix": "del ",
     "library": "var_list.py",
     "varRefreshCmd": "print(var_dic_list())"
    },
    "r": {
     "delete_cmd_postfix": ") ",
     "delete_cmd_prefix": "rm(",
     "library": "var_list.r",
     "varRefreshCmd": "cat(var_dic_list()) "
    }
   },
   "types_to_exclude": [
    "module",
    "function",
    "builtin_function_or_method",
    "instance",
    "_Feature"
   ],
   "window_display": false
  }
 },
 "nbformat": 4,
 "nbformat_minor": 2
}
