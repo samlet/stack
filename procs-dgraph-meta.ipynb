{
 "cells": [
  {
   "cell_type": "code",
   "execution_count": 1,
   "metadata": {
    "ExecuteTime": {
     "end_time": "2019-05-09T08:20:17.299770Z",
     "start_time": "2019-05-09T08:20:17.287330Z"
    }
   },
   "outputs": [
    {
     "name": "stdout",
     "output_type": "stream",
     "text": [
      "query all($a: string)\n",
      "        {\n",
      "           all(func: eq(name, $a)) \n",
      "            {\n",
      "               uid\n",
      "            }   \n",
      "        }\n"
     ]
    }
   ],
   "source": [
    "query1 = \"\"\"query all($a: string)\n",
    "        {\n",
    "           all(func: eq(%s, $a)) \n",
    "            {\n",
    "               uid\n",
    "            }   \n",
    "        }\"\"\"\n",
    "print(query1%(\"name\"))"
   ]
  },
  {
   "cell_type": "code",
   "execution_count": 4,
   "metadata": {
    "ExecuteTime": {
     "end_time": "2019-05-11T07:56:13.099483Z",
     "start_time": "2019-05-11T07:56:13.081978Z"
    }
   },
   "outputs": [
    {
     "name": "stdout",
     "output_type": "stream",
     "text": [
      "1980-01-01T23:00:00\n"
     ]
    },
    {
     "data": {
      "text/plain": [
       "datetime.datetime(2019, 1, 26, 21, 9, 22, 215000)"
      ]
     },
     "execution_count": 4,
     "metadata": {},
     "output_type": "execute_result"
    }
   ],
   "source": [
    "import datetime\n",
    "\n",
    "d=datetime.datetime(1980, 1, 1, 23, 0, 0, 0).isoformat()\n",
    "print(d)\n",
    "datetime.datetime.fromtimestamp(1548508162215/1000)"
   ]
  },
  {
   "cell_type": "code",
   "execution_count": 14,
   "metadata": {
    "ExecuteTime": {
     "end_time": "2019-05-11T08:12:31.676791Z",
     "start_time": "2019-05-11T08:12:31.554923Z"
    }
   },
   "outputs": [
    {
     "name": "stdout",
     "output_type": "stream",
     "text": [
      "2019-03-03 22:33:34.232\n",
      "1551623614232\n",
      "2019-03-03 22:33:34.232000\n",
      "2019-03-03T22:33:34.232000\n",
      "{'createdStamp': '2019-03-03T22:33:37.435000', 'productName': 'Square Gizmo', 'createdByUserLogin': 'admin', 'productId': 'GZ-2002', 'smallImageUrl': '/images/products/GZ-2002/small.png', 'taxable': 'Y', 'primaryProductCategoryId': '101', 'createdTxStamp': '2019-03-03T22:33:34.232000', 'lastUpdatedTxStamp': '2019-03-03T22:33:54.833000', 'isVirtual': 'N', 'autoCreateKeywords': 'Y', 'description': 'A square gizmo', 'chargeShipping': 'Y', 'internalName': 'Square Gizmo', 'lastModifiedByUserLogin': 'admin', 'lastUpdatedStamp': '2019-03-03T22:33:54.941000', 'lastModifiedDate': '2001-05-13T12:00:00', 'productTypeId': 'FINISHED_GOOD', 'createdDate': '2001-05-13T12:00:00', 'isVariant': 'N', 'largeImageUrl': '/images/products/GZ-2002/large.png'}\n"
     ]
    }
   ],
   "source": [
    "from sagas.ofbiz.entities import OfEntity as e, oc\n",
    "from sagas.ofbiz.entity_gen import get_dgraph_type\n",
    "import json\n",
    "\n",
    "def to_isoformat(datetime_val):\n",
    "    dt=datetime.datetime.fromtimestamp(datetime_val/1000)\n",
    "    return dt.isoformat()\n",
    "\n",
    "def filter_json_val(model, json_val):\n",
    "    result={}\n",
    "    for k,v in json_val.items():\n",
    "        if v is not None:\n",
    "            if is_dt_field(model, k):\n",
    "                result[k]=to_isoformat(v)\n",
    "            else:\n",
    "                result[k]=v\n",
    "    return result\n",
    "\n",
    "def is_dt_field(model, fld_name):\n",
    "    fld=model.getField(fld_name)\n",
    "    vt=get_dgraph_type(fld.getType())\n",
    "    return vt=='datetime'        \n",
    "\n",
    "val=e().refProduct('GZ-2002')\n",
    "print(val['createdTxStamp'])\n",
    "jval=json.loads(e('json').refProduct('GZ-2002'))\n",
    "print(jval['createdTxStamp'])\n",
    "print(datetime.datetime.fromtimestamp(jval['createdTxStamp']/1000))\n",
    "\n",
    "print(to_isoformat(jval['createdTxStamp']))\n",
    "model=oc.delegator.getModelEntity('Product')\n",
    "print(filter_json_val(model, jval))"
   ]
  },
  {
   "cell_type": "code",
   "execution_count": 7,
   "metadata": {
    "ExecuteTime": {
     "end_time": "2019-05-11T21:17:47.216301Z",
     "start_time": "2019-05-11T21:17:47.187740Z"
    },
    "scrolled": true
   },
   "outputs": [
    {
     "name": "stdout",
     "output_type": "stream",
     "text": [
      "{'createdStamp': '2019-03-03T22:33:37.435000', 'productName': 'Square Gizmo', 'createdByUserLogin': 'admin', 'productId': 'GZ-2002', 'smallImageUrl': '/images/products/GZ-2002/small.png', 'taxable': 'Y', 'primaryProductCategoryId': '101', 'createdTxStamp': '2019-03-03T22:33:34.232000', 'lastUpdatedTxStamp': '2019-03-03T22:33:54.833000', 'isVirtual': 'N', 'autoCreateKeywords': 'Y', 'description': 'A square gizmo', 'chargeShipping': 'Y', 'internalName': 'Square Gizmo', 'lastModifiedByUserLogin': 'admin', 'lastUpdatedStamp': '2019-03-03T22:33:54.941000', 'lastModifiedDate': '2001-05-13T12:00:00', 'productTypeId': 'FINISHED_GOOD', 'createdDate': '2001-05-13T12:00:00', 'isVariant': 'N', 'largeImageUrl': '/images/products/GZ-2002/large.png'}\n"
     ]
    }
   ],
   "source": [
    "import sagas.ofbiz.entities as ee\n",
    "ent=ee.entity('Product')\n",
    "val=ent.record('GZ-2002')\n",
    "print(ent.to_json(val,True))"
   ]
  },
  {
   "cell_type": "code",
   "execution_count": 5,
   "metadata": {
    "ExecuteTime": {
     "end_time": "2019-05-09T21:37:43.892447Z",
     "start_time": "2019-05-09T21:37:43.887583Z"
    }
   },
   "outputs": [],
   "source": [
    "schema = \"\"\"\n",
    "    mo_name: string @index(exact) .\n",
    "    mo_relation: uid @reverse .\n",
    "    mo_total: int .\n",
    "    mo_last_modified: datetime .\n",
    "    mo_table: string .\n",
    "    mo_service: string .\n",
    "    mo_form_uri: string .\n",
    "    mo_field: uid .\n",
    "    mo_type: string .\n",
    "    mo_mode: string .\n",
    "    mo_primary: bool .\n",
    "    mo_primary_keys: [string] @index(term) .    \n",
    "    \"\"\"\n",
    "# print(schema)"
   ]
  },
  {
   "cell_type": "code",
   "execution_count": null,
   "metadata": {},
   "outputs": [],
   "source": []
  },
  {
   "cell_type": "code",
   "execution_count": 8,
   "metadata": {
    "ExecuteTime": {
     "end_time": "2019-05-09T21:15:52.212992Z",
     "start_time": "2019-05-09T21:15:52.173473Z"
    }
   },
   "outputs": [
    {
     "name": "stdout",
     "output_type": "stream",
     "text": [
      "['partyId', 'salutation', 'firstName', 'middleName', 'lastName', 'personalTitle', 'suffix', 'nickname', 'firstNameLocal', 'middleNameLocal', 'lastNameLocal', 'otherLocal', 'memberId', 'gender', 'birthDate', 'deceasedDate', 'height', 'weight', 'mothersMaidenName', 'maritalStatus', 'socialSecurityNumber', 'passportNumber', 'passportExpireDate', 'totalYearsWorkExperience', 'comments', 'employmentStatusEnumId', 'residenceStatusEnumId', 'occupation', 'yearsWithEmployer', 'monthsWithEmployer', 'existingCustomer', 'cardId', 'lastUpdatedStamp', 'lastUpdatedTxStamp', 'createdStamp', 'createdTxStamp']\n"
     ]
    }
   ],
   "source": [
    "from sagas.ofbiz.entities import OfEntity as e, MetaEntity, oc, format\n",
    "ent_name=\"Person\"\n",
    "ent=MetaEntity(ent_name)\n",
    "flds=[str(fld.getName()) for fld in ent.model.getFieldsIterator()]\n",
    "print(flds)"
   ]
  },
  {
   "cell_type": "code",
   "execution_count": 9,
   "metadata": {
    "ExecuteTime": {
     "end_time": "2019-05-09T21:16:00.030210Z",
     "start_time": "2019-05-09T21:16:00.001397Z"
    }
   },
   "outputs": [
    {
     "name": "stdout",
     "output_type": "stream",
     "text": [
      "['*', ' ', ' ', ' ', ' ', ' ', ' ', ' ', ' ', ' ', ' ', ' ', ' ', ' ', ' ', ' ', ' ', ' ', ' ', ' ', ' ', ' ', ' ', ' ', ' ', ' ', ' ', ' ', ' ', ' ', ' ', ' ', ' ', ' ', ' ', ' ']\n",
      "['partyId']\n"
     ]
    }
   ],
   "source": [
    "prikeys=['*' if fld.getIsPk() else ' '  for fld in ent.model.getFieldsIterator()]\n",
    "print(prikeys)\n",
    "print(ent.primary)"
   ]
  },
  {
   "cell_type": "code",
   "execution_count": 2,
   "metadata": {
    "ExecuteTime": {
     "end_time": "2019-05-11T21:07:37.813444Z",
     "start_time": "2019-05-11T21:07:37.649628Z"
    }
   },
   "outputs": [
    {
     "name": "stdout",
     "output_type": "stream",
     "text": [
      "[{'name': 'partyId', 'type': 'id', 'schema_type': 'string', 'primary': True}, {'name': 'salutation', 'type': 'name', 'schema_type': 'string', 'primary': False}, {'name': 'firstName', 'type': 'name', 'schema_type': 'string', 'primary': False}]\n"
     ]
    }
   ],
   "source": [
    "from sagas.ofbiz.entities import OfEntity as e, MetaEntity, oc, format\n",
    "from sagas.ofbiz.entity_gen import get_dgraph_type\n",
    "ent_name=\"Person\"\n",
    "ent=MetaEntity(ent_name)\n",
    "flds=[]\n",
    "for fld in ent.model.getFieldsIterator():\n",
    "    # print(fld.getName(), fld.getType(), fld.getIsPk(), fld.getIsAutoCreatedInternal())\n",
    "    if not fld.getIsAutoCreatedInternal():\n",
    "        flds.append({'name':fld.getName(), \n",
    "                     'type':fld.getType(), \n",
    "                     'schema_type': get_dgraph_type(fld.getType()),\n",
    "                     'primary':fld.getIsPk()})\n",
    "\n",
    "print(flds[:3])\n",
    "ent_desc={'name':ent_name, 'primary_keys':ent.primary, 'field':flds}"
   ]
  },
  {
   "cell_type": "code",
   "execution_count": 3,
   "metadata": {
    "ExecuteTime": {
     "end_time": "2019-05-10T08:03:23.468443Z",
     "start_time": "2019-05-10T08:03:23.463603Z"
    }
   },
   "outputs": [
    {
     "name": "stdout",
     "output_type": "stream",
     "text": [
      "string\n",
      "float\n"
     ]
    }
   ],
   "source": [
    "types=['id', 'currency-precise']\n",
    "for t in types:\n",
    "    print(get_dgraph_type(t))"
   ]
  },
  {
   "cell_type": "code",
   "execution_count": 3,
   "metadata": {
    "ExecuteTime": {
     "end_time": "2019-05-10T08:19:32.851992Z",
     "start_time": "2019-05-10T08:19:30.693095Z"
    }
   },
   "outputs": [
    {
     "name": "stdout",
     "output_type": "stream",
     "text": [
      "['PaymentBudgetAllocation', 'AgreementRole', 'PaymentGatewayPayflowPro', 'SurveyTrigger', 'WorkEffortKeyword']\n",
      "['AddProductToBestSellCategory', 'FindBestSellingProduct', 'FindCategoryChild', 'MoveItemBetweenShipGroups', 'RemoveProductFromBestSellCategory']\n"
     ]
    }
   ],
   "source": [
    "from sagas.ofbiz.entities import OfEntity as e, MetaEntity, oc, format\n",
    "import sagas.ofbiz.entities as es\n",
    "from sagas.ofbiz.entity_gen import get_dgraph_type\n",
    "\n",
    "# ents=[str(v) for v in es.all_entities()]\n",
    "ents=es.all_entities(False)\n",
    "print(ents[:5])\n",
    "servs=es.oc.all_service_names()\n",
    "print(servs[:5])"
   ]
  },
  {
   "cell_type": "code",
   "execution_count": 12,
   "metadata": {
    "ExecuteTime": {
     "end_time": "2019-05-10T08:39:13.647298Z",
     "start_time": "2019-05-10T08:39:13.626758Z"
    }
   },
   "outputs": [
    {
     "name": "stdout",
     "output_type": "stream",
     "text": [
      "string\n"
     ]
    }
   ],
   "source": [
    "def deduce_type(a,b):\n",
    "    src=set([a,b])\n",
    "    result='string'\n",
    "    if src==set(['string','int']):\n",
    "        result='string'\n",
    "    elif src==set(['int','float']):\n",
    "        result='float'\n",
    "    elif src==set(['string','datetime']):\n",
    "        result='datetime'\n",
    "    else:\n",
    "        raise ValueError('cannot reduce: %s-%s', a,b)\n",
    "    return result\n",
    "\n",
    "print(deduce_type('string','int'))"
   ]
  },
  {
   "cell_type": "code",
   "execution_count": 5,
   "metadata": {
    "ExecuteTime": {
     "end_time": "2019-05-11T21:12:22.635604Z",
     "start_time": "2019-05-11T21:12:22.564475Z"
    }
   },
   "outputs": [
    {
     "name": "stdout",
     "output_type": "stream",
     "text": [
      "{'lastUpdatedStamp': 'datetime', 'lastUpdatedTxStamp': 'datetime', 'createdStamp': 'datetime', 'createdTxStamp': 'datetime'}\n",
      "lastUpdatedStamp: datetime .\n",
      "lastUpdatedTxStamp: datetime .\n",
      "createdStamp: datetime .\n",
      "createdTxStamp: datetime .\n"
     ]
    }
   ],
   "source": [
    "def collect_internal_fields(ent_name, fld_mapping):\n",
    "    ent=MetaEntity(ent_name)\n",
    "    for fld in ent.model.getFieldsIterator():\n",
    "        # print(fld.getName(), fld.getType(), fld.getIsPk(), fld.getIsAutoCreatedInternal())\n",
    "        if fld.getIsAutoCreatedInternal():            \n",
    "            fld_name=str(fld.getName())\n",
    "            fld_type=get_dgraph_type(fld.getType())\n",
    "            fld_mapping[fld_name]=fld_type\n",
    "\n",
    "def to_schema(var_map):\n",
    "    all_types=[]\n",
    "    for k,v in var_map.items():\n",
    "        all_types.append(\"%s: %s .\"%(k,v))\n",
    "    schema='\\n'.join(all_types)\n",
    "    return schema\n",
    "\n",
    "fld_map={}\n",
    "collect_internal_fields('Person', fld_map)\n",
    "print(fld_map)\n",
    "print(to_schema(fld_map))"
   ]
  },
  {
   "cell_type": "code",
   "execution_count": 14,
   "metadata": {
    "ExecuteTime": {
     "end_time": "2019-05-10T08:40:36.980377Z",
     "start_time": "2019-05-10T08:40:32.978776Z"
    }
   },
   "outputs": [
    {
     "name": "stdout",
     "output_type": "stream",
     "text": [
      "deduce fields 12\n",
      "total fields 2216\n",
      "('PaymentGatewayEway', 'testMode', 'string')\n",
      "('OrderHeader', 'priority', 'string')\n",
      "('SettlementTerm', 'termValue', 'int')\n",
      "('WorkEffortReview', 'rating', 'float')\n",
      "('CreditCard', 'validFromDate', 'string')\n",
      "CreditCard's field validFromDate has different field type: string-datetime\n",
      "EmailAddressVerification's field expireDate has different field type: datetime-string\n"
     ]
    }
   ],
   "source": [
    "def collect_fields(ent_name, fld_mapping, skip_fields, messages):\n",
    "    ent=MetaEntity(ent_name)\n",
    "    for fld in ent.model.getFieldsIterator():\n",
    "        # print(fld.getName(), fld.getType(), fld.getIsPk(), fld.getIsAutoCreatedInternal())\n",
    "        if not fld.getIsAutoCreatedInternal():            \n",
    "            fld_name=str(fld.getName())\n",
    "            fld_type=get_dgraph_type(fld.getType())\n",
    "            if fld_name in fld_mapping:\n",
    "                if fld_type!=fld_mapping[fld_name]:\n",
    "                    messages.append(\"%s's field %s has different field type: %s-%s\"%\n",
    "                         (ent_name, fld_name, fld_type, fld_mapping[fld_name])\n",
    "                        )\n",
    "                    skip_fields.append((ent_name, fld_name, fld_type))\n",
    "                    dtype=deduce_type(fld_type, fld_mapping[fld_name])\n",
    "                    fld_mapping[fld_name]=dtype\n",
    "                else:\n",
    "                    pass\n",
    "            else:\n",
    "                fld_mapping[fld_name]=fld_type\n",
    "\n",
    "\n",
    "fld_mapping={}\n",
    "skip_fields=[]\n",
    "messages=[]\n",
    "for ent in ents:\n",
    "    collect_fields(ent, fld_mapping, skip_fields, messages)\n",
    "print('deduce fields', len(skip_fields))\n",
    "print('total fields', len(fld_mapping))\n",
    "for sf in skip_fields[:5]:\n",
    "    print(sf)\n",
    "for m in messages:\n",
    "    if 'datetime' in m:\n",
    "        print(m)    "
   ]
  },
  {
   "cell_type": "code",
   "execution_count": 15,
   "metadata": {
    "ExecuteTime": {
     "end_time": "2019-05-10T08:51:05.764099Z",
     "start_time": "2019-05-10T08:51:05.611332Z"
    }
   },
   "outputs": [
    {
     "data": {
      "text/plain": [
       "True"
      ]
     },
     "execution_count": 15,
     "metadata": {},
     "output_type": "execute_result"
    }
   ],
   "source": [
    "import pickle\n",
    "import redis\n",
    "\n",
    "r = redis.StrictRedis('localhost')\n",
    "p_mydict = pickle.dumps(fld_mapping)\n",
    "r.set('entitySchema',p_mydict)"
   ]
  },
  {
   "cell_type": "code",
   "execution_count": 16,
   "metadata": {
    "ExecuteTime": {
     "end_time": "2019-05-10T08:51:45.708763Z",
     "start_time": "2019-05-10T08:51:45.698603Z"
    }
   },
   "outputs": [],
   "source": [
    "read_dict = r.get('entitySchema')\n",
    "entity_schema = pickle.loads(read_dict)"
   ]
  },
  {
   "cell_type": "code",
   "execution_count": 22,
   "metadata": {
    "ExecuteTime": {
     "end_time": "2019-05-10T09:03:40.565349Z",
     "start_time": "2019-05-10T09:03:40.556447Z"
    }
   },
   "outputs": [
    {
     "name": "stdout",
     "output_type": "stream",
     "text": [
      "2216\n",
      "budgetId: string .\n",
      "budgetItemSeqId: string .\n",
      "paymentId: string .\n",
      "amount: float .\n",
      "agreementId: string .\n"
     ]
    }
   ],
   "source": [
    "print(len(entity_schema))\n",
    "limit=0\n",
    "# mo_table: string .\n",
    "for k,v in entity_schema.items():\n",
    "    print(\"%s: %s .\"%(k,v))\n",
    "    limit=limit+1\n",
    "    if limit>=5:\n",
    "        break"
   ]
  },
  {
   "cell_type": "code",
   "execution_count": 23,
   "metadata": {
    "ExecuteTime": {
     "end_time": "2019-05-10T09:03:52.779101Z",
     "start_time": "2019-05-10T09:03:52.769563Z"
    }
   },
   "outputs": [
    {
     "name": "stdout",
     "output_type": "stream",
     "text": [
      "['budgetId: string .', 'budgetItemSeqId: string .', 'paymentId: string .', 'amount: float .', 'agreementId: string .']\n"
     ]
    }
   ],
   "source": [
    "all_types=[]\n",
    "for k,v in entity_schema.items():\n",
    "    all_types.append(\"%s: %s .\"%(k,v))\n",
    "print(all_types[:5])\n",
    "schema='\\n'.join(all_types)"
   ]
  },
  {
   "cell_type": "code",
   "execution_count": 24,
   "metadata": {
    "ExecuteTime": {
     "end_time": "2019-05-10T09:04:44.818755Z",
     "start_time": "2019-05-10T09:04:16.641783Z"
    }
   },
   "outputs": [
    {
     "data": {
      "text/plain": []
     },
     "execution_count": 24,
     "metadata": {},
     "output_type": "execute_result"
    }
   ],
   "source": [
    "import sagas.graph.graph_manager as g\n",
    "gm=g.GraphManager()\n",
    "gm.reset_schema(schema)"
   ]
  },
  {
   "cell_type": "code",
   "execution_count": 2,
   "metadata": {
    "ExecuteTime": {
     "end_time": "2019-05-21T14:07:31.490865Z",
     "start_time": "2019-05-21T14:07:31.016420Z"
    }
   },
   "outputs": [],
   "source": [
    "from sagas.ofbiz.entities import oc,finder,OfEntity"
   ]
  }
 ],
 "metadata": {
  "kernelspec": {
   "display_name": "Python 3",
   "language": "python",
   "name": "python3"
  },
  "language_info": {
   "codemirror_mode": {
    "name": "ipython",
    "version": 3
   },
   "file_extension": ".py",
   "mimetype": "text/x-python",
   "name": "python",
   "nbconvert_exporter": "python",
   "pygments_lexer": "ipython3",
   "version": "3.6.4"
  },
  "varInspector": {
   "cols": {
    "lenName": 16,
    "lenType": 16,
    "lenVar": 40
   },
   "kernels_config": {
    "python": {
     "delete_cmd_postfix": "",
     "delete_cmd_prefix": "del ",
     "library": "var_list.py",
     "varRefreshCmd": "print(var_dic_list())"
    },
    "r": {
     "delete_cmd_postfix": ") ",
     "delete_cmd_prefix": "rm(",
     "library": "var_list.r",
     "varRefreshCmd": "cat(var_dic_list()) "
    }
   },
   "types_to_exclude": [
    "module",
    "function",
    "builtin_function_or_method",
    "instance",
    "_Feature"
   ],
   "window_display": false
  }
 },
 "nbformat": 4,
 "nbformat_minor": 2
}
