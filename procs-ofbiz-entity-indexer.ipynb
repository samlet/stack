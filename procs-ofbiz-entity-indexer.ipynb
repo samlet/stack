{
 "cells": [
  {
   "cell_type": "code",
   "execution_count": 1,
   "metadata": {
    "ExecuteTime": {
     "end_time": "2019-04-14T21:31:47.113990Z",
     "start_time": "2019-04-14T21:31:46.398181Z"
    },
    "scrolled": true
   },
   "outputs": [
    {
     "data": {
      "text/html": [
       "<div>\n",
       "<style scoped>\n",
       "    .dataframe tbody tr th:only-of-type {\n",
       "        vertical-align: middle;\n",
       "    }\n",
       "\n",
       "    .dataframe tbody tr th {\n",
       "        vertical-align: top;\n",
       "    }\n",
       "\n",
       "    .dataframe thead th {\n",
       "        text-align: right;\n",
       "    }\n",
       "</style>\n",
       "<table border=\"1\" class=\"dataframe\">\n",
       "  <thead>\n",
       "    <tr style=\"text-align: right;\">\n",
       "      <th></th>\n",
       "      <th>internal</th>\n",
       "      <th>name</th>\n",
       "      <th>primary</th>\n",
       "      <th>type</th>\n",
       "      <th>field type</th>\n",
       "    </tr>\n",
       "  </thead>\n",
       "  <tbody>\n",
       "    <tr>\n",
       "      <th>0</th>\n",
       "      <td></td>\n",
       "      <td>partyId</td>\n",
       "      <td>*</td>\n",
       "      <td>id</td>\n",
       "      <td>id</td>\n",
       "    </tr>\n",
       "    <tr>\n",
       "      <th>1</th>\n",
       "      <td></td>\n",
       "      <td>salutation</td>\n",
       "      <td></td>\n",
       "      <td>name</td>\n",
       "      <td>name</td>\n",
       "    </tr>\n",
       "    <tr>\n",
       "      <th>2</th>\n",
       "      <td></td>\n",
       "      <td>firstName</td>\n",
       "      <td></td>\n",
       "      <td>name</td>\n",
       "      <td>name</td>\n",
       "    </tr>\n",
       "    <tr>\n",
       "      <th>3</th>\n",
       "      <td></td>\n",
       "      <td>middleName</td>\n",
       "      <td></td>\n",
       "      <td>name</td>\n",
       "      <td>name</td>\n",
       "    </tr>\n",
       "    <tr>\n",
       "      <th>4</th>\n",
       "      <td></td>\n",
       "      <td>lastName</td>\n",
       "      <td></td>\n",
       "      <td>name</td>\n",
       "      <td>name</td>\n",
       "    </tr>\n",
       "    <tr>\n",
       "      <th>5</th>\n",
       "      <td></td>\n",
       "      <td>personalTitle</td>\n",
       "      <td></td>\n",
       "      <td>name</td>\n",
       "      <td>name</td>\n",
       "    </tr>\n",
       "    <tr>\n",
       "      <th>6</th>\n",
       "      <td></td>\n",
       "      <td>suffix</td>\n",
       "      <td></td>\n",
       "      <td>name</td>\n",
       "      <td>name</td>\n",
       "    </tr>\n",
       "    <tr>\n",
       "      <th>7</th>\n",
       "      <td></td>\n",
       "      <td>nickname</td>\n",
       "      <td></td>\n",
       "      <td>name</td>\n",
       "      <td>name</td>\n",
       "    </tr>\n",
       "    <tr>\n",
       "      <th>8</th>\n",
       "      <td></td>\n",
       "      <td>firstNameLocal</td>\n",
       "      <td></td>\n",
       "      <td>name</td>\n",
       "      <td>name</td>\n",
       "    </tr>\n",
       "    <tr>\n",
       "      <th>9</th>\n",
       "      <td></td>\n",
       "      <td>middleNameLocal</td>\n",
       "      <td></td>\n",
       "      <td>name</td>\n",
       "      <td>name</td>\n",
       "    </tr>\n",
       "    <tr>\n",
       "      <th>10</th>\n",
       "      <td></td>\n",
       "      <td>lastNameLocal</td>\n",
       "      <td></td>\n",
       "      <td>name</td>\n",
       "      <td>name</td>\n",
       "    </tr>\n",
       "    <tr>\n",
       "      <th>11</th>\n",
       "      <td></td>\n",
       "      <td>otherLocal</td>\n",
       "      <td></td>\n",
       "      <td>name</td>\n",
       "      <td>name</td>\n",
       "    </tr>\n",
       "    <tr>\n",
       "      <th>12</th>\n",
       "      <td></td>\n",
       "      <td>memberId</td>\n",
       "      <td></td>\n",
       "      <td>id</td>\n",
       "      <td>id</td>\n",
       "    </tr>\n",
       "    <tr>\n",
       "      <th>13</th>\n",
       "      <td></td>\n",
       "      <td>gender</td>\n",
       "      <td></td>\n",
       "      <td>indicator</td>\n",
       "      <td>indicator</td>\n",
       "    </tr>\n",
       "    <tr>\n",
       "      <th>14</th>\n",
       "      <td></td>\n",
       "      <td>birthDate</td>\n",
       "      <td></td>\n",
       "      <td>date</td>\n",
       "      <td>date</td>\n",
       "    </tr>\n",
       "    <tr>\n",
       "      <th>15</th>\n",
       "      <td></td>\n",
       "      <td>deceasedDate</td>\n",
       "      <td></td>\n",
       "      <td>date</td>\n",
       "      <td>date</td>\n",
       "    </tr>\n",
       "    <tr>\n",
       "      <th>16</th>\n",
       "      <td></td>\n",
       "      <td>height</td>\n",
       "      <td></td>\n",
       "      <td>floating-point</td>\n",
       "      <td>floating-point</td>\n",
       "    </tr>\n",
       "    <tr>\n",
       "      <th>17</th>\n",
       "      <td></td>\n",
       "      <td>weight</td>\n",
       "      <td></td>\n",
       "      <td>floating-point</td>\n",
       "      <td>floating-point</td>\n",
       "    </tr>\n",
       "    <tr>\n",
       "      <th>18</th>\n",
       "      <td></td>\n",
       "      <td>mothersMaidenName</td>\n",
       "      <td></td>\n",
       "      <td>long-varchar</td>\n",
       "      <td>long-varchar</td>\n",
       "    </tr>\n",
       "    <tr>\n",
       "      <th>19</th>\n",
       "      <td></td>\n",
       "      <td>maritalStatus</td>\n",
       "      <td></td>\n",
       "      <td>indicator</td>\n",
       "      <td>indicator</td>\n",
       "    </tr>\n",
       "    <tr>\n",
       "      <th>20</th>\n",
       "      <td></td>\n",
       "      <td>socialSecurityNumber</td>\n",
       "      <td></td>\n",
       "      <td>long-varchar</td>\n",
       "      <td>long-varchar</td>\n",
       "    </tr>\n",
       "    <tr>\n",
       "      <th>21</th>\n",
       "      <td></td>\n",
       "      <td>passportNumber</td>\n",
       "      <td></td>\n",
       "      <td>long-varchar</td>\n",
       "      <td>long-varchar</td>\n",
       "    </tr>\n",
       "    <tr>\n",
       "      <th>22</th>\n",
       "      <td></td>\n",
       "      <td>passportExpireDate</td>\n",
       "      <td></td>\n",
       "      <td>date</td>\n",
       "      <td>date</td>\n",
       "    </tr>\n",
       "    <tr>\n",
       "      <th>23</th>\n",
       "      <td></td>\n",
       "      <td>totalYearsWorkExperience</td>\n",
       "      <td></td>\n",
       "      <td>floating-point</td>\n",
       "      <td>floating-point</td>\n",
       "    </tr>\n",
       "    <tr>\n",
       "      <th>24</th>\n",
       "      <td></td>\n",
       "      <td>comments</td>\n",
       "      <td></td>\n",
       "      <td>comment</td>\n",
       "      <td>comment</td>\n",
       "    </tr>\n",
       "    <tr>\n",
       "      <th>25</th>\n",
       "      <td></td>\n",
       "      <td>employmentStatusEnumId</td>\n",
       "      <td></td>\n",
       "      <td>id</td>\n",
       "      <td>id</td>\n",
       "    </tr>\n",
       "    <tr>\n",
       "      <th>26</th>\n",
       "      <td></td>\n",
       "      <td>residenceStatusEnumId</td>\n",
       "      <td></td>\n",
       "      <td>id</td>\n",
       "      <td>id</td>\n",
       "    </tr>\n",
       "    <tr>\n",
       "      <th>27</th>\n",
       "      <td></td>\n",
       "      <td>occupation</td>\n",
       "      <td></td>\n",
       "      <td>name</td>\n",
       "      <td>name</td>\n",
       "    </tr>\n",
       "    <tr>\n",
       "      <th>28</th>\n",
       "      <td></td>\n",
       "      <td>yearsWithEmployer</td>\n",
       "      <td></td>\n",
       "      <td>numeric</td>\n",
       "      <td>numeric</td>\n",
       "    </tr>\n",
       "    <tr>\n",
       "      <th>29</th>\n",
       "      <td></td>\n",
       "      <td>monthsWithEmployer</td>\n",
       "      <td></td>\n",
       "      <td>numeric</td>\n",
       "      <td>numeric</td>\n",
       "    </tr>\n",
       "    <tr>\n",
       "      <th>30</th>\n",
       "      <td></td>\n",
       "      <td>existingCustomer</td>\n",
       "      <td></td>\n",
       "      <td>indicator</td>\n",
       "      <td>indicator</td>\n",
       "    </tr>\n",
       "    <tr>\n",
       "      <th>31</th>\n",
       "      <td></td>\n",
       "      <td>cardId</td>\n",
       "      <td></td>\n",
       "      <td>id-long</td>\n",
       "      <td>id-long</td>\n",
       "    </tr>\n",
       "    <tr>\n",
       "      <th>32</th>\n",
       "      <td>*</td>\n",
       "      <td>lastUpdatedStamp</td>\n",
       "      <td></td>\n",
       "      <td>date-time</td>\n",
       "      <td>date-time</td>\n",
       "    </tr>\n",
       "    <tr>\n",
       "      <th>33</th>\n",
       "      <td>*</td>\n",
       "      <td>lastUpdatedTxStamp</td>\n",
       "      <td></td>\n",
       "      <td>date-time</td>\n",
       "      <td>date-time</td>\n",
       "    </tr>\n",
       "    <tr>\n",
       "      <th>34</th>\n",
       "      <td>*</td>\n",
       "      <td>createdStamp</td>\n",
       "      <td></td>\n",
       "      <td>date-time</td>\n",
       "      <td>date-time</td>\n",
       "    </tr>\n",
       "    <tr>\n",
       "      <th>35</th>\n",
       "      <td>*</td>\n",
       "      <td>createdTxStamp</td>\n",
       "      <td></td>\n",
       "      <td>date-time</td>\n",
       "      <td>date-time</td>\n",
       "    </tr>\n",
       "  </tbody>\n",
       "</table>\n",
       "</div>"
      ],
      "text/plain": [
       "   internal                      name primary            type      field type\n",
       "0                             partyId       *              id              id\n",
       "1                          salutation                    name            name\n",
       "2                           firstName                    name            name\n",
       "3                          middleName                    name            name\n",
       "4                            lastName                    name            name\n",
       "5                       personalTitle                    name            name\n",
       "6                              suffix                    name            name\n",
       "7                            nickname                    name            name\n",
       "8                      firstNameLocal                    name            name\n",
       "9                     middleNameLocal                    name            name\n",
       "10                      lastNameLocal                    name            name\n",
       "11                         otherLocal                    name            name\n",
       "12                           memberId                      id              id\n",
       "13                             gender               indicator       indicator\n",
       "14                          birthDate                    date            date\n",
       "15                       deceasedDate                    date            date\n",
       "16                             height          floating-point  floating-point\n",
       "17                             weight          floating-point  floating-point\n",
       "18                  mothersMaidenName            long-varchar    long-varchar\n",
       "19                      maritalStatus               indicator       indicator\n",
       "20               socialSecurityNumber            long-varchar    long-varchar\n",
       "21                     passportNumber            long-varchar    long-varchar\n",
       "22                 passportExpireDate                    date            date\n",
       "23           totalYearsWorkExperience          floating-point  floating-point\n",
       "24                           comments                 comment         comment\n",
       "25             employmentStatusEnumId                      id              id\n",
       "26              residenceStatusEnumId                      id              id\n",
       "27                         occupation                    name            name\n",
       "28                  yearsWithEmployer                 numeric         numeric\n",
       "29                 monthsWithEmployer                 numeric         numeric\n",
       "30                   existingCustomer               indicator       indicator\n",
       "31                             cardId                 id-long         id-long\n",
       "32        *          lastUpdatedStamp               date-time       date-time\n",
       "33        *        lastUpdatedTxStamp               date-time       date-time\n",
       "34        *              createdStamp               date-time       date-time\n",
       "35        *            createdTxStamp               date-time       date-time"
      ]
     },
     "execution_count": 1,
     "metadata": {},
     "output_type": "execute_result"
    }
   ],
   "source": [
    "from sagas.ofbiz.entities import OfEntity as e, oc, MetaEntity, all_entities\n",
    "e('meta').Person"
   ]
  },
  {
   "cell_type": "code",
   "execution_count": 2,
   "metadata": {
    "ExecuteTime": {
     "end_time": "2019-04-14T21:31:50.121153Z",
     "start_time": "2019-04-14T21:31:50.111823Z"
    }
   },
   "outputs": [
    {
     "name": "stdout",
     "output_type": "stream",
     "text": [
      "True\n",
      "PARTY\n"
     ]
    }
   ],
   "source": [
    "ent=MetaEntity('PartyNameContactMechView')\n",
    "print(ent.model.getPlainTableName() is None or len(ent.model.getPlainTableName())==0)\n",
    "ent=MetaEntity('Party')\n",
    "print(ent.model.getPlainTableName())"
   ]
  },
  {
   "cell_type": "code",
   "execution_count": 6,
   "metadata": {
    "ExecuteTime": {
     "end_time": "2019-04-14T21:32:59.322935Z",
     "start_time": "2019-04-14T21:32:59.312973Z"
    }
   },
   "outputs": [
    {
     "name": "stdout",
     "output_type": "stream",
     "text": [
      "False\n",
      "True\n"
     ]
    }
   ],
   "source": [
    "oc.import_package('com.sagas.generic.*')\n",
    "print(oc.j.Utils.isViewEntity(ent.model))\n",
    "print(oc.j.Utils.isViewEntity(MetaEntity('PartyNameContactMechView').model))"
   ]
  },
  {
   "cell_type": "code",
   "execution_count": 7,
   "metadata": {
    "ExecuteTime": {
     "end_time": "2019-04-14T21:35:12.504411Z",
     "start_time": "2019-04-14T21:35:12.454462Z"
    }
   },
   "outputs": [
    {
     "data": {
      "text/plain": [
       "{'birthDate': ['Person'],\n",
       " 'cardId': ['Person'],\n",
       " 'comments': ['Person'],\n",
       " 'createdByUserLogin': ['Party'],\n",
       " 'createdDate': ['Party'],\n",
       " 'dataSourceId': ['Party'],\n",
       " 'deceasedDate': ['Person'],\n",
       " 'description': ['Party'],\n",
       " 'employmentStatusEnumId': ['Person'],\n",
       " 'existingCustomer': ['Person'],\n",
       " 'externalId': ['Party'],\n",
       " 'firstName': ['Person'],\n",
       " 'firstNameLocal': ['Person'],\n",
       " 'gender': ['Person'],\n",
       " 'height': ['Person'],\n",
       " 'isUnread': ['Party'],\n",
       " 'lastModifiedByUserLogin': ['Party'],\n",
       " 'lastModifiedDate': ['Party'],\n",
       " 'lastName': ['Person'],\n",
       " 'lastNameLocal': ['Person'],\n",
       " 'maritalStatus': ['Person'],\n",
       " 'memberId': ['Person'],\n",
       " 'middleName': ['Person'],\n",
       " 'middleNameLocal': ['Person'],\n",
       " 'monthsWithEmployer': ['Person'],\n",
       " 'mothersMaidenName': ['Person'],\n",
       " 'nickname': ['Person'],\n",
       " 'occupation': ['Person'],\n",
       " 'otherLocal': ['Person'],\n",
       " 'partyId': ['Person', 'Party'],\n",
       " 'partyTypeId': ['Party'],\n",
       " 'passportExpireDate': ['Person'],\n",
       " 'passportNumber': ['Person'],\n",
       " 'personalTitle': ['Person'],\n",
       " 'preferredCurrencyUomId': ['Party'],\n",
       " 'residenceStatusEnumId': ['Person'],\n",
       " 'salutation': ['Person'],\n",
       " 'socialSecurityNumber': ['Person'],\n",
       " 'statusId': ['Party'],\n",
       " 'suffix': ['Person'],\n",
       " 'totalYearsWorkExperience': ['Person'],\n",
       " 'weight': ['Person'],\n",
       " 'yearsWithEmployer': ['Person']}"
      ]
     },
     "execution_count": 7,
     "metadata": {},
     "output_type": "execute_result"
    }
   ],
   "source": [
    "def build_field_index(ents):\n",
    "    field_index={}\n",
    "    for ent_name in ents:\n",
    "        ent=MetaEntity(ent_name)        \n",
    "        if not oc.j.Utils.isViewEntity(ent.model):\n",
    "            for fld in ent.model.getFieldsIterator():\n",
    "                if not fld.getIsAutoCreatedInternal():\n",
    "                    fld_name=fld.getName()\n",
    "                    if fld_name not in field_index:\n",
    "                        field_index[fld_name]=[ent_name]\n",
    "                    else:\n",
    "                        field_index[fld_name].append(ent_name)\n",
    "    return field_index\n",
    "\n",
    "ents=['Person', 'Party']\n",
    "build_field_index(ents)"
   ]
  },
  {
   "cell_type": "code",
   "execution_count": 8,
   "metadata": {
    "ExecuteTime": {
     "end_time": "2019-04-14T21:35:28.047996Z",
     "start_time": "2019-04-14T21:35:23.419406Z"
    }
   },
   "outputs": [
    {
     "name": "stdout",
     "output_type": "stream",
     "text": [
      "2216\n"
     ]
    }
   ],
   "source": [
    "ents=all_entities()\n",
    "idx=build_field_index(ents)\n",
    "print(len(idx))"
   ]
  },
  {
   "cell_type": "code",
   "execution_count": 10,
   "metadata": {
    "ExecuteTime": {
     "end_time": "2019-04-14T21:37:13.499204Z",
     "start_time": "2019-04-14T21:37:13.446039Z"
    }
   },
   "outputs": [
    {
     "name": "stdout",
     "output_type": "stream",
     "text": [
      "2216\n"
     ]
    }
   ],
   "source": [
    "import resources_pb2 as res\n",
    "import protobuf_utils\n",
    "idx_b={}\n",
    "for k,v in idx.items():\n",
    "    idx_b[k]=res.RsEntityReference(entities=v)\n",
    "rs=res.RsEntities(fieldRefs=idx_b)\n",
    "protobuf_utils.write_proto_to(rs, 'data/resources/entities_index.data')\n",
    "\n",
    "print(len(rs.fieldRefs))"
   ]
  },
  {
   "cell_type": "code",
   "execution_count": 17,
   "metadata": {
    "ExecuteTime": {
     "end_time": "2019-04-14T21:42:24.846446Z",
     "start_time": "2019-04-14T21:42:24.820006Z"
    }
   },
   "outputs": [
    {
     "name": "stdout",
     "output_type": "stream",
     "text": [
      "2216\n",
      "entities: \"Person\"\n",
      "entities: \"OfbizDemo\"\n",
      "entities: \"PartyNameHistory\"\n",
      "\n"
     ]
    }
   ],
   "source": [
    "target='data/resources/entities_index.data'\n",
    "rs=res.RsEntities()\n",
    "protobuf_utils.read_proto(rs, target)\n",
    "\n",
    "print(len(rs.fieldRefs))\n",
    "print(rs.fieldRefs['lastName'])"
   ]
  },
  {
   "cell_type": "code",
   "execution_count": 13,
   "metadata": {
    "ExecuteTime": {
     "end_time": "2019-04-14T21:37:42.591878Z",
     "start_time": "2019-04-14T21:37:42.584723Z"
    }
   },
   "outputs": [
    {
     "name": "stdout",
     "output_type": "stream",
     "text": [
      "True\n",
      "False\n"
     ]
    }
   ],
   "source": [
    "def is_field(qname):\n",
    "    return qname in rs.fieldRefs\n",
    "\n",
    "print(is_field('lastName'))\n",
    "print(is_field('fakeName'))"
   ]
  },
  {
   "cell_type": "code",
   "execution_count": 3,
   "metadata": {
    "ExecuteTime": {
     "end_time": "2019-04-15T20:31:17.473891Z",
     "start_time": "2019-04-15T20:31:16.465215Z"
    }
   },
   "outputs": [
    {
     "data": {
      "text/plain": [
       "True"
      ]
     },
     "execution_count": 3,
     "metadata": {},
     "output_type": "execute_result"
    }
   ],
   "source": [
    "from sagas.ofbiz.resources import read_resource\n",
    "resource, rs_lookups = read_resource()\n",
    "\n",
    "def is_description(word, lang='zh'):\n",
    "    lang_idx = rs_lookups.indexTable[lang]\n",
    "\n",
    "    if word in lang_idx.indexes:\n",
    "        keys = lang_idx.indexes[word]\n",
    "        for key in keys.value:\n",
    "            # print(word, \"☞\", key)\n",
    "            if '.description.' in key:\n",
    "                return True\n",
    "    return False\n",
    "\n",
    "lang='zh'\n",
    "word='会员'\n",
    "is_description(word, lang)"
   ]
  },
  {
   "cell_type": "code",
   "execution_count": null,
   "metadata": {},
   "outputs": [],
   "source": []
  }
 ],
 "metadata": {
  "kernelspec": {
   "display_name": "Python 3",
   "language": "python",
   "name": "python3"
  },
  "language_info": {
   "codemirror_mode": {
    "name": "ipython",
    "version": 3
   },
   "file_extension": ".py",
   "mimetype": "text/x-python",
   "name": "python",
   "nbconvert_exporter": "python",
   "pygments_lexer": "ipython3",
   "version": "3.6.4"
  },
  "varInspector": {
   "cols": {
    "lenName": 16,
    "lenType": 16,
    "lenVar": 40
   },
   "kernels_config": {
    "python": {
     "delete_cmd_postfix": "",
     "delete_cmd_prefix": "del ",
     "library": "var_list.py",
     "varRefreshCmd": "print(var_dic_list())"
    },
    "r": {
     "delete_cmd_postfix": ") ",
     "delete_cmd_prefix": "rm(",
     "library": "var_list.r",
     "varRefreshCmd": "cat(var_dic_list()) "
    }
   },
   "types_to_exclude": [
    "module",
    "function",
    "builtin_function_or_method",
    "instance",
    "_Feature"
   ],
   "window_display": false
  }
 },
 "nbformat": 4,
 "nbformat_minor": 2
}
