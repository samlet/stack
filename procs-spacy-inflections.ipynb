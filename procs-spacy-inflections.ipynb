{
 "cells": [
  {
   "cell_type": "code",
   "execution_count": 2,
   "metadata": {
    "ExecuteTime": {
     "end_time": "2019-04-26T16:12:38.332234Z",
     "start_time": "2019-04-26T16:12:37.468317Z"
    }
   },
   "outputs": [
    {
     "name": "stdout",
     "output_type": "stream",
     "text": [
      "Apple 0 5 ORG\n",
      "U.K. 27 31 GPE\n",
      "$1 billion 44 54 MONEY\n"
     ]
    }
   ],
   "source": [
    "import spacy\n",
    "\n",
    "nlp = spacy.load('en_core_web_sm')\n",
    "doc = nlp(u'Apple is looking at buying U.K. startup for $1 billion')\n",
    "\n",
    "for ent in doc.ents:\n",
    "    print(ent.text, ent.start_char, ent.end_char, ent.label_)"
   ]
  },
  {
   "cell_type": "code",
   "execution_count": 3,
   "metadata": {
    "ExecuteTime": {
     "end_time": "2019-04-26T16:12:44.010958Z",
     "start_time": "2019-04-26T16:12:43.976753Z"
    }
   },
   "outputs": [
    {
     "data": {
      "text/plain": [
       "'examples'"
      ]
     },
     "execution_count": 3,
     "metadata": {},
     "output_type": "execute_result"
    }
   ],
   "source": [
    "import pyinflect\n",
    "doc = nlp('This is an example.')\n",
    "doc[3]._.inflect('NNS')"
   ]
  },
  {
   "cell_type": "code",
   "execution_count": 5,
   "metadata": {
    "ExecuteTime": {
     "end_time": "2019-04-26T16:13:16.859779Z",
     "start_time": "2019-04-26T16:13:16.853735Z"
    }
   },
   "outputs": [
    {
     "name": "stdout",
     "output_type": "stream",
     "text": [
      "was were\n"
     ]
    }
   ],
   "source": [
    "print(doc[1]._.inflect('VBD', 0), doc[1]._.inflect('VBD', 1))"
   ]
  },
  {
   "cell_type": "code",
   "execution_count": 6,
   "metadata": {
    "ExecuteTime": {
     "end_time": "2019-04-26T16:13:51.591772Z",
     "start_time": "2019-04-26T16:13:51.585832Z"
    }
   },
   "outputs": [
    {
     "data": {
      "text/plain": [
       "{'NN': ('watch',),\n",
       " 'NNS': ('watches',),\n",
       " 'VB': ('watch',),\n",
       " 'VBD': ('watched',),\n",
       " 'VBG': ('watching',),\n",
       " 'VBN': ('watched',),\n",
       " 'VBP': ('watch',),\n",
       " 'VBZ': ('watches',)}"
      ]
     },
     "execution_count": 6,
     "metadata": {},
     "output_type": "execute_result"
    }
   ],
   "source": [
    "from pyinflect import getAllInflections, getInflection\n",
    "getAllInflections('watch')"
   ]
  },
  {
   "cell_type": "code",
   "execution_count": 7,
   "metadata": {
    "ExecuteTime": {
     "end_time": "2019-04-26T16:14:02.898994Z",
     "start_time": "2019-04-26T16:14:02.893066Z"
    }
   },
   "outputs": [
    {
     "data": {
      "text/plain": [
       "{'VB': ('watch',),\n",
       " 'VBD': ('watched',),\n",
       " 'VBG': ('watching',),\n",
       " 'VBN': ('watched',),\n",
       " 'VBP': ('watch',),\n",
       " 'VBZ': ('watches',)}"
      ]
     },
     "execution_count": 7,
     "metadata": {},
     "output_type": "execute_result"
    }
   ],
   "source": [
    "getAllInflections('watch', pos_type='V')"
   ]
  },
  {
   "cell_type": "code",
   "execution_count": 8,
   "metadata": {
    "ExecuteTime": {
     "end_time": "2019-04-26T16:14:12.675740Z",
     "start_time": "2019-04-26T16:14:12.670019Z"
    }
   },
   "outputs": [
    {
     "data": {
      "text/plain": [
       "('watched',)"
      ]
     },
     "execution_count": 8,
     "metadata": {},
     "output_type": "execute_result"
    }
   ],
   "source": [
    "getInflection('watch', tag='VBD')"
   ]
  }
 ],
 "metadata": {
  "kernelspec": {
   "display_name": "Python 3",
   "language": "python",
   "name": "python3"
  },
  "language_info": {
   "codemirror_mode": {
    "name": "ipython",
    "version": 3
   },
   "file_extension": ".py",
   "mimetype": "text/x-python",
   "name": "python",
   "nbconvert_exporter": "python",
   "pygments_lexer": "ipython3",
   "version": "3.6.4"
  },
  "varInspector": {
   "cols": {
    "lenName": 16,
    "lenType": 16,
    "lenVar": 40
   },
   "kernels_config": {
    "python": {
     "delete_cmd_postfix": "",
     "delete_cmd_prefix": "del ",
     "library": "var_list.py",
     "varRefreshCmd": "print(var_dic_list())"
    },
    "r": {
     "delete_cmd_postfix": ") ",
     "delete_cmd_prefix": "rm(",
     "library": "var_list.r",
     "varRefreshCmd": "cat(var_dic_list()) "
    }
   },
   "types_to_exclude": [
    "module",
    "function",
    "builtin_function_or_method",
    "instance",
    "_Feature"
   ],
   "window_display": false
  }
 },
 "nbformat": 4,
 "nbformat_minor": 2
}
