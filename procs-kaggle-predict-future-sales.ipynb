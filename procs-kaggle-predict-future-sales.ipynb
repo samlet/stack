{
 "cells": [
  {
   "cell_type": "markdown",
   "metadata": {},
   "source": [
    "⊕ [Kaggle比赛——预测未来销售（二） - 机器学习&数据挖掘 - CSDN博客](https://blog.csdn.net/weixin_42715356/article/details/84671601)\n"
   ]
  },
  {
   "cell_type": "code",
   "execution_count": 1,
   "metadata": {
    "ExecuteTime": {
     "end_time": "2019-02-11T09:45:47.262822Z",
     "start_time": "2019-02-11T09:45:46.877224Z"
    }
   },
   "outputs": [],
   "source": [
    "data_path='/pi/ai/kaggle/competitive-data-science-predict-future-sales'\n",
    "\n",
    "import time\t\t# 导入时间模块，用于查看执行过程中所耗费的时间\n",
    "start_time = time.time()\n",
    "\n",
    "import numpy as np\n",
    "\n",
    "import warnings\n",
    "warnings.filterwarnings('ignore')\n",
    "\n",
    "import pandas as pd\n",
    "pd.set_option('display.max_rows', 99)\t# 在控制台显示dataframe数据最多行数,超过后自动省略\n",
    "pd.set_option('display.max_columns', 50)\t# 在控制台显示dataframe数据最多列数,超过后自动省略\n"
   ]
  },
  {
   "cell_type": "code",
   "execution_count": 2,
   "metadata": {
    "ExecuteTime": {
     "end_time": "2019-02-11T09:45:49.299574Z",
     "start_time": "2019-02-11T09:45:47.265033Z"
    }
   },
   "outputs": [],
   "source": [
    "sale_train = pd.read_csv('%s/sales_train.csv' % data_path)"
   ]
  },
  {
   "cell_type": "code",
   "execution_count": 3,
   "metadata": {
    "ExecuteTime": {
     "end_time": "2019-02-11T09:45:50.479385Z",
     "start_time": "2019-02-11T09:45:49.301784Z"
    }
   },
   "outputs": [],
   "source": [
    "# 根据销售数据sale_train中的日销量，统计出当月的月销量，并将月销量汇入到训练集train_data当中。\n",
    "\n",
    "Item_Index=['shop_id', 'item_id', 'date_block_num']\n",
    "\n",
    "data_temp1=sale_train[['shop_id','item_id', 'date_block_num','item_cnt_day']]\n",
    "train_data=data_temp1.groupby(by=Item_Index)['item_cnt_day'].agg(['sum']).reset_index().rename(columns = {'sum': 'item_cnt_month'})\n",
    "train_data['item_cnt_month'] = train_data['item_cnt_month'].astype(int).fillna(0)\n"
   ]
  },
  {
   "cell_type": "code",
   "execution_count": 4,
   "metadata": {
    "ExecuteTime": {
     "end_time": "2019-02-11T09:45:50.826803Z",
     "start_time": "2019-02-11T09:45:50.481681Z"
    }
   },
   "outputs": [],
   "source": [
    "# 从items.csv文件中将item_categroy_id属性汇入到训练集train_data当中。\n",
    "\n",
    "item = pd.read_csv('%s/items.csv' % data_path)\n",
    "train_data = train_data.merge(item[['item_id', 'item_category_id']], on = ['item_id'], how = 'left')"
   ]
  },
  {
   "cell_type": "markdown",
   "metadata": {},
   "source": [
    "## 修正后的item_cat_id_fix属性\n",
    "  根据item_categories.csv文件的item_category_name字段，对item_categroy_id属性进行修正，将同一个类别不同型号归为同一个类别（根据商品类型名划分（见2.3）），从并将item_categroy_id_fix属性汇入到训练集train_data当中。\n"
   ]
  },
  {
   "cell_type": "code",
   "execution_count": 5,
   "metadata": {
    "ExecuteTime": {
     "end_time": "2019-02-11T09:45:51.612470Z",
     "start_time": "2019-02-11T09:45:50.829144Z"
    }
   },
   "outputs": [],
   "source": [
    "item_cat = pd.read_csv('%s/item_categories.csv' % data_path)\n",
    "item_cat.item_category_name[0]=1\n",
    "item_cat.item_category_name[1:8]=2\n",
    "item_cat.item_category_name[8]=3\n",
    "item_cat.item_category_name[9]=4\n",
    "item_cat.item_category_name[10:18]=5\n",
    "item_cat.item_category_name[18:25]=6\n",
    "item_cat.item_category_name[25]=7\n",
    "item_cat.item_category_name[26:28]=8\n",
    "item_cat.item_category_name[28:32]=9\n",
    "item_cat.item_category_name[32:37]=10\n",
    "item_cat.item_category_name[37:43]=11\n",
    "item_cat.item_category_name[43:55]=12\n",
    "item_cat.item_category_name[55:61]=13\n",
    "item_cat.item_category_name[61:73]=14\n",
    "item_cat.item_category_name[73:79]=15\n",
    "item_cat.item_category_name[79:81]=16\n",
    "item_cat.item_category_name[81:83]=17\n",
    "item_cat.item_category_name[83]=18\n",
    "item_cat=item_cat.rename(columns = {'item_category_name': 'item_cat_id_fix'})\n",
    "train_data = train_data.merge(item_cat[['item_cat_id_fix', 'item_category_id']], on = ['item_category_id'], how = 'left')\n"
   ]
  },
  {
   "cell_type": "code",
   "execution_count": 6,
   "metadata": {
    "ExecuteTime": {
     "end_time": "2019-02-11T09:45:51.716948Z",
     "start_time": "2019-02-11T09:45:51.614903Z"
    }
   },
   "outputs": [],
   "source": [
    "sale_test  = pd.read_csv('%s/test.csv' % data_path)"
   ]
  },
  {
   "cell_type": "markdown",
   "metadata": {},
   "source": [
    "## 将测试数据汇入测试集当中 (fix-issues)\n",
    "  将测试文件当中每个ID对应的shop_id和item_id汇入到测试集test_data当中，并将测试集当中的date_block_num赋为34（因为这是要预测2015年11月份的销售量，对应的date_block_num值为34）"
   ]
  },
  {
   "cell_type": "code",
   "execution_count": 7,
   "metadata": {
    "ExecuteTime": {
     "end_time": "2019-02-11T09:45:51.765327Z",
     "start_time": "2019-02-11T09:45:51.719130Z"
    }
   },
   "outputs": [],
   "source": [
    "test_data=sale_test[['shop_id', 'item_id']]\n",
    "test_data['date_block_num']=34"
   ]
  },
  {
   "cell_type": "code",
   "execution_count": 8,
   "metadata": {
    "ExecuteTime": {
     "end_time": "2019-02-11T09:45:51.863088Z",
     "start_time": "2019-02-11T09:45:51.767590Z"
    }
   },
   "outputs": [],
   "source": [
    "# 从items.csv文件中将item_categroy_id属性汇入到测试集test_data当中。\n",
    "item = pd.read_csv('%s/items.csv' % data_path)\n",
    "test_data = test_data.merge(item[['item_id', 'item_category_id']], on = ['item_id'], how = 'left')\n"
   ]
  },
  {
   "cell_type": "markdown",
   "metadata": {},
   "source": [
    "## 修正后的item_cat_id_fix属性\n",
    "  根据item_categories.csv文件的item_category_name字段，对item_categroy_id属性进行修正，将同一个类别不同型号归为同一个类别（根据商品类型名划分（见2.3）），从并将item_categroy_id_fix属性汇入到测试集test_data当中。"
   ]
  },
  {
   "cell_type": "code",
   "execution_count": 9,
   "metadata": {
    "ExecuteTime": {
     "end_time": "2019-02-11T09:45:51.900488Z",
     "start_time": "2019-02-11T09:45:51.865513Z"
    }
   },
   "outputs": [],
   "source": [
    "# item_cat = pd.read_csv('%s/item_categories.csv' % data_path)\n",
    "test_data = test_data.merge(item_cat[['item_cat_id_fix', 'item_category_id']], on = ['item_category_id'], how = 'left')\n"
   ]
  },
  {
   "cell_type": "code",
   "execution_count": 10,
   "metadata": {
    "ExecuteTime": {
     "end_time": "2019-02-11T09:46:16.984634Z",
     "start_time": "2019-02-11T09:46:16.765635Z"
    }
   },
   "outputs": [],
   "source": [
    "# 汇聚训练数据与测试数据\n",
    "all_data=pd.concat([train_data,test_data],axis=0)"
   ]
  },
  {
   "cell_type": "markdown",
   "metadata": {},
   "source": [
    "## 提取均值特征\n",
    "  分别计算不同shop、item_id、item_category_id、item_cat_id_fix的每月商品销量的平均值作为特征。"
   ]
  },
  {
   "cell_type": "code",
   "execution_count": 11,
   "metadata": {
    "ExecuteTime": {
     "end_time": "2019-02-11T09:46:43.005890Z",
     "start_time": "2019-02-11T09:46:39.809325Z"
    }
   },
   "outputs": [
    {
     "name": "stderr",
     "output_type": "stream",
     "text": [
      "100%|██████████| 4/4 [00:03<00:00,  1.27it/s]"
     ]
    },
    {
     "name": "stdout",
     "output_type": "stream",
     "text": [
      "['shop_id_cnt_month_mean', 'item_id_cnt_month_mean', 'item_category_id_cnt_month_mean', 'item_cat_id_fix_cnt_month_mean']\n"
     ]
    },
    {
     "name": "stderr",
     "output_type": "stream",
     "text": [
      "\n"
     ]
    }
   ],
   "source": [
    "Target = 'item_cnt_month'\n",
    "mean_encoded_col=[]\n",
    "\n",
    "from tqdm import tqdm\n",
    "for col in tqdm(['shop_id', 'item_id', 'item_category_id', 'item_cat_id_fix']):\n",
    "\tcol_tr = all_data[['date_block_num']+[col]+[Target]]\n",
    "\tcol_tr=col_tr.groupby(['date_block_num']+[col])[Target].agg('mean').reset_index().rename(columns ={Target:col+'_cnt_month_mean'})\n",
    "\tall_data=all_data.merge(col_tr,on=['date_block_num']+[col],how = 'left')\n",
    "\tmean_encoded_col.append(col+'_cnt_month_mean')\n",
    "\n",
    "print(mean_encoded_col)\n"
   ]
  },
  {
   "cell_type": "markdown",
   "metadata": {},
   "source": [
    "## 提取前月份的各销量特征 (3.3-issue)\n",
    "  提取当前月的前第一个月、前第二个月、前第三个月、前第四个月、前年该月的销量各特征作为特征。"
   ]
  },
  {
   "cell_type": "code",
   "execution_count": 12,
   "metadata": {
    "ExecuteTime": {
     "end_time": "2019-02-11T09:47:39.068088Z",
     "start_time": "2019-02-11T09:47:24.253683Z"
    }
   },
   "outputs": [
    {
     "name": "stderr",
     "output_type": "stream",
     "text": [
      "\r",
      "  0%|          | 0/5 [00:00<?, ?it/s]"
     ]
    },
    {
     "name": "stdout",
     "output_type": "stream",
     "text": [
      "['shop_id_cnt_month_mean', 'item_id_cnt_month_mean', 'item_category_id_cnt_month_mean', 'item_cat_id_fix_cnt_month_mean', 'item_cnt_month']\n"
     ]
    },
    {
     "name": "stderr",
     "output_type": "stream",
     "text": [
      "100%|██████████| 5/5 [00:14<00:00,  3.08s/it]\n"
     ]
    },
    {
     "ename": "NameError",
     "evalue": "name 'downcast_dtypes' is not defined",
     "output_type": "error",
     "traceback": [
      "\u001b[0;31m---------------------------------------------------------------------------\u001b[0m",
      "\u001b[0;31mNameError\u001b[0m                                 Traceback (most recent call last)",
      "\u001b[0;32m<ipython-input-12-80758adee078>\u001b[0m in \u001b[0;36m<module>\u001b[0;34m()\u001b[0m\n\u001b[1;32m     13\u001b[0m \u001b[0;34m\u001b[0m\u001b[0m\n\u001b[1;32m     14\u001b[0m \u001b[0mpre_cols\u001b[0m \u001b[0;34m=\u001b[0m \u001b[0;34m[\u001b[0m\u001b[0mcol\u001b[0m \u001b[0;32mfor\u001b[0m \u001b[0mcol\u001b[0m \u001b[0;32min\u001b[0m \u001b[0mall_data\u001b[0m\u001b[0;34m.\u001b[0m\u001b[0mcolumns\u001b[0m \u001b[0;32mif\u001b[0m \u001b[0;34m'_pre_'\u001b[0m \u001b[0;32min\u001b[0m \u001b[0mcol\u001b[0m\u001b[0;34m]\u001b[0m\u001b[0;34m\u001b[0m\u001b[0m\n\u001b[0;32m---> 15\u001b[0;31m \u001b[0mall_data\u001b[0m \u001b[0;34m=\u001b[0m \u001b[0mdowncast_dtypes\u001b[0m\u001b[0;34m(\u001b[0m\u001b[0mall_data\u001b[0m\u001b[0;34m)\u001b[0m\u001b[0;34m\u001b[0m\u001b[0m\n\u001b[0m",
      "\u001b[0;31mNameError\u001b[0m: name 'downcast_dtypes' is not defined"
     ]
    }
   ],
   "source": [
    "id_col=['shop_id', 'item_id']\n",
    "index_cols = ['item_category_id', 'item_cat_id_fix', 'date_block_num']\n",
    "cols_to_rename = mean_encoded_col+[Target]\n",
    "print(cols_to_rename)\n",
    "shift_range = [1, 2, 3, 4, 12]\t\t# 下一个月、两个月、三个月、四个月和下一年\n",
    "\n",
    "for month_shift in tqdm(shift_range):\n",
    "\ttrain_shift = all_data[id_col + index_cols + cols_to_rename].copy()\n",
    "\ttrain_shift['date_block_num'] = train_shift['date_block_num'] - month_shift\n",
    "\tfoo = lambda x: '{}_pre_{}'.format(x, month_shift) if x in cols_to_rename else x\n",
    "\ttrain_shift = train_shift.rename(columns=foo)\n",
    "\tall_data = pd.merge(all_data, train_shift, on=id_col+index_cols, how='left').fillna(0)\n",
    "\n",
    "pre_cols = [col for col in all_data.columns if '_pre_' in col]\n",
    "all_data = downcast_dtypes(all_data)\n"
   ]
  }
 ],
 "metadata": {
  "kernelspec": {
   "display_name": "Python 3",
   "language": "python",
   "name": "python3"
  },
  "language_info": {
   "codemirror_mode": {
    "name": "ipython",
    "version": 3
   },
   "file_extension": ".py",
   "mimetype": "text/x-python",
   "name": "python",
   "nbconvert_exporter": "python",
   "pygments_lexer": "ipython3",
   "version": "3.6.4"
  },
  "varInspector": {
   "cols": {
    "lenName": 16,
    "lenType": 16,
    "lenVar": 40
   },
   "kernels_config": {
    "python": {
     "delete_cmd_postfix": "",
     "delete_cmd_prefix": "del ",
     "library": "var_list.py",
     "varRefreshCmd": "print(var_dic_list())"
    },
    "r": {
     "delete_cmd_postfix": ") ",
     "delete_cmd_prefix": "rm(",
     "library": "var_list.r",
     "varRefreshCmd": "cat(var_dic_list()) "
    }
   },
   "types_to_exclude": [
    "module",
    "function",
    "builtin_function_or_method",
    "instance",
    "_Feature"
   ],
   "window_display": false
  }
 },
 "nbformat": 4,
 "nbformat_minor": 2
}
