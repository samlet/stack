{
 "cells": [
  {
   "cell_type": "code",
   "execution_count": 3,
   "metadata": {
    "ExecuteTime": {
     "end_time": "2019-04-08T19:30:29.034101Z",
     "start_time": "2019-04-08T19:30:28.979384Z"
    }
   },
   "outputs": [
    {
     "ename": "Py4JError",
     "evalue": "An error occurred while calling t.getName. Trace:\npy4j.Py4JException: Method getName([]) does not exist\n\tat py4j.reflection.ReflectionEngine.getMethod(ReflectionEngine.java:318)\n\tat py4j.reflection.ReflectionEngine.getMethod(ReflectionEngine.java:326)\n\tat py4j.Gateway.invoke(Gateway.java:274)\n\tat py4j.commands.AbstractCommand.invokeMethod(AbstractCommand.java:132)\n\tat py4j.commands.CallCommand.execute(CallCommand.java:79)\n\tat py4j.GatewayConnection.run(GatewayConnection.java:238)\n\tat java.lang.Thread.run(Thread.java:748)\n\n",
     "output_type": "error",
     "traceback": [
      "\u001b[0;31m---------------------------------------------------------------------------\u001b[0m",
      "\u001b[0;31mPy4JError\u001b[0m                                 Traceback (most recent call last)",
      "\u001b[0;32m<ipython-input-3-1edab9656de4>\u001b[0m in \u001b[0;36m<module>\u001b[0;34m()\u001b[0m\n\u001b[1;32m      1\u001b[0m \u001b[0;32mfrom\u001b[0m \u001b[0mpy4j\u001b[0m\u001b[0;34m.\u001b[0m\u001b[0mjava_gateway\u001b[0m \u001b[0;32mimport\u001b[0m \u001b[0mJavaGateway\u001b[0m\u001b[0;34m\u001b[0m\u001b[0m\n\u001b[1;32m      2\u001b[0m \u001b[0mgateway\u001b[0m \u001b[0;34m=\u001b[0m \u001b[0mJavaGateway\u001b[0m\u001b[0;34m(\u001b[0m\u001b[0;34m)\u001b[0m                   \u001b[0;31m# connect to the JVM\u001b[0m\u001b[0;34m\u001b[0m\u001b[0m\n\u001b[0;32m----> 3\u001b[0;31m \u001b[0mname\u001b[0m \u001b[0;34m=\u001b[0m \u001b[0mgateway\u001b[0m\u001b[0;34m.\u001b[0m\u001b[0mentry_point\u001b[0m\u001b[0;34m.\u001b[0m\u001b[0mgetName\u001b[0m\u001b[0;34m(\u001b[0m\u001b[0;34m)\u001b[0m\u001b[0;34m\u001b[0m\u001b[0m\n\u001b[0m\u001b[1;32m      4\u001b[0m \u001b[0mprint\u001b[0m\u001b[0;34m(\u001b[0m\u001b[0mname\u001b[0m\u001b[0;34m)\u001b[0m\u001b[0;34m\u001b[0m\u001b[0m\n",
      "\u001b[0;32m~/miniconda3/envs/bigdata/lib/python3.6/site-packages/py4j/java_gateway.py\u001b[0m in \u001b[0;36m__call__\u001b[0;34m(self, *args)\u001b[0m\n\u001b[1;32m   1284\u001b[0m         \u001b[0manswer\u001b[0m \u001b[0;34m=\u001b[0m \u001b[0mself\u001b[0m\u001b[0;34m.\u001b[0m\u001b[0mgateway_client\u001b[0m\u001b[0;34m.\u001b[0m\u001b[0msend_command\u001b[0m\u001b[0;34m(\u001b[0m\u001b[0mcommand\u001b[0m\u001b[0;34m)\u001b[0m\u001b[0;34m\u001b[0m\u001b[0m\n\u001b[1;32m   1285\u001b[0m         return_value = get_return_value(\n\u001b[0;32m-> 1286\u001b[0;31m             answer, self.gateway_client, self.target_id, self.name)\n\u001b[0m\u001b[1;32m   1287\u001b[0m \u001b[0;34m\u001b[0m\u001b[0m\n\u001b[1;32m   1288\u001b[0m         \u001b[0;32mfor\u001b[0m \u001b[0mtemp_arg\u001b[0m \u001b[0;32min\u001b[0m \u001b[0mtemp_args\u001b[0m\u001b[0;34m:\u001b[0m\u001b[0;34m\u001b[0m\u001b[0m\n",
      "\u001b[0;32m~/miniconda3/envs/bigdata/lib/python3.6/site-packages/py4j/protocol.py\u001b[0m in \u001b[0;36mget_return_value\u001b[0;34m(answer, gateway_client, target_id, name)\u001b[0m\n\u001b[1;32m    330\u001b[0m                 raise Py4JError(\n\u001b[1;32m    331\u001b[0m                     \u001b[0;34m\"An error occurred while calling {0}{1}{2}. Trace:\\n{3}\\n\"\u001b[0m\u001b[0;34m.\u001b[0m\u001b[0;34m\u001b[0m\u001b[0m\n\u001b[0;32m--> 332\u001b[0;31m                     format(target_id, \".\", name, value))\n\u001b[0m\u001b[1;32m    333\u001b[0m         \u001b[0;32melse\u001b[0m\u001b[0;34m:\u001b[0m\u001b[0;34m\u001b[0m\u001b[0m\n\u001b[1;32m    334\u001b[0m             raise Py4JError(\n",
      "\u001b[0;31mPy4JError\u001b[0m: An error occurred while calling t.getName. Trace:\npy4j.Py4JException: Method getName([]) does not exist\n\tat py4j.reflection.ReflectionEngine.getMethod(ReflectionEngine.java:318)\n\tat py4j.reflection.ReflectionEngine.getMethod(ReflectionEngine.java:326)\n\tat py4j.Gateway.invoke(Gateway.java:274)\n\tat py4j.commands.AbstractCommand.invokeMethod(AbstractCommand.java:132)\n\tat py4j.commands.CallCommand.execute(CallCommand.java:79)\n\tat py4j.GatewayConnection.run(GatewayConnection.java:238)\n\tat java.lang.Thread.run(Thread.java:748)\n\n"
     ]
    }
   ],
   "source": [
    "from py4j.java_gateway import JavaGateway\n",
    "gateway = JavaGateway()                   # connect to the JVM\n",
    "name = gateway.entry_point.getName()\n",
    "print(name)"
   ]
  },
  {
   "cell_type": "code",
   "execution_count": 1,
   "metadata": {
    "ExecuteTime": {
     "end_time": "2019-04-08T19:27:30.856299Z",
     "start_time": "2019-04-08T19:27:30.645242Z"
    }
   },
   "outputs": [
    {
     "ename": "Py4JError",
     "evalue": "An error occurred while calling t.getDelegator. Trace:\npy4j.Py4JException: Method getDelegator([]) does not exist\n\tat py4j.reflection.ReflectionEngine.getMethod(ReflectionEngine.java:318)\n\tat py4j.reflection.ReflectionEngine.getMethod(ReflectionEngine.java:326)\n\tat py4j.Gateway.invoke(Gateway.java:274)\n\tat py4j.commands.AbstractCommand.invokeMethod(AbstractCommand.java:132)\n\tat py4j.commands.CallCommand.execute(CallCommand.java:79)\n\tat py4j.GatewayConnection.run(GatewayConnection.java:238)\n\tat java.lang.Thread.run(Thread.java:748)\n\n",
     "output_type": "error",
     "traceback": [
      "\u001b[0;31m---------------------------------------------------------------------------\u001b[0m",
      "\u001b[0;31mPy4JError\u001b[0m                                 Traceback (most recent call last)",
      "\u001b[0;32m<ipython-input-1-b404b145f79f>\u001b[0m in \u001b[0;36m<module>\u001b[0;34m()\u001b[0m\n\u001b[1;32m      2\u001b[0m \u001b[0mgateway\u001b[0m \u001b[0;34m=\u001b[0m \u001b[0mJavaGateway\u001b[0m\u001b[0;34m(\u001b[0m\u001b[0;34m)\u001b[0m                   \u001b[0;31m# connect to the JVM\u001b[0m\u001b[0;34m\u001b[0m\u001b[0m\n\u001b[1;32m      3\u001b[0m \u001b[0;34m\u001b[0m\u001b[0m\n\u001b[0;32m----> 4\u001b[0;31m \u001b[0mdelegator\u001b[0m \u001b[0;34m=\u001b[0m \u001b[0mgateway\u001b[0m\u001b[0;34m.\u001b[0m\u001b[0mentry_point\u001b[0m\u001b[0;34m.\u001b[0m\u001b[0mgetDelegator\u001b[0m\u001b[0;34m(\u001b[0m\u001b[0;34m)\u001b[0m\u001b[0;34m\u001b[0m\u001b[0m\n\u001b[0m\u001b[1;32m      5\u001b[0m \u001b[0mprint\u001b[0m\u001b[0;34m(\u001b[0m\u001b[0mdelegator\u001b[0m\u001b[0;34m)\u001b[0m\u001b[0;34m\u001b[0m\u001b[0m\n\u001b[1;32m      6\u001b[0m \u001b[0mdisp\u001b[0m \u001b[0;34m=\u001b[0m \u001b[0mgateway\u001b[0m\u001b[0;34m.\u001b[0m\u001b[0mentry_point\u001b[0m\u001b[0;34m.\u001b[0m\u001b[0mgetDispatcher\u001b[0m\u001b[0;34m(\u001b[0m\u001b[0;34m)\u001b[0m\u001b[0;34m\u001b[0m\u001b[0m\n",
      "\u001b[0;32m~/miniconda3/envs/bigdata/lib/python3.6/site-packages/py4j/java_gateway.py\u001b[0m in \u001b[0;36m__call__\u001b[0;34m(self, *args)\u001b[0m\n\u001b[1;32m   1284\u001b[0m         \u001b[0manswer\u001b[0m \u001b[0;34m=\u001b[0m \u001b[0mself\u001b[0m\u001b[0;34m.\u001b[0m\u001b[0mgateway_client\u001b[0m\u001b[0;34m.\u001b[0m\u001b[0msend_command\u001b[0m\u001b[0;34m(\u001b[0m\u001b[0mcommand\u001b[0m\u001b[0;34m)\u001b[0m\u001b[0;34m\u001b[0m\u001b[0m\n\u001b[1;32m   1285\u001b[0m         return_value = get_return_value(\n\u001b[0;32m-> 1286\u001b[0;31m             answer, self.gateway_client, self.target_id, self.name)\n\u001b[0m\u001b[1;32m   1287\u001b[0m \u001b[0;34m\u001b[0m\u001b[0m\n\u001b[1;32m   1288\u001b[0m         \u001b[0;32mfor\u001b[0m \u001b[0mtemp_arg\u001b[0m \u001b[0;32min\u001b[0m \u001b[0mtemp_args\u001b[0m\u001b[0;34m:\u001b[0m\u001b[0;34m\u001b[0m\u001b[0m\n",
      "\u001b[0;32m~/miniconda3/envs/bigdata/lib/python3.6/site-packages/py4j/protocol.py\u001b[0m in \u001b[0;36mget_return_value\u001b[0;34m(answer, gateway_client, target_id, name)\u001b[0m\n\u001b[1;32m    330\u001b[0m                 raise Py4JError(\n\u001b[1;32m    331\u001b[0m                     \u001b[0;34m\"An error occurred while calling {0}{1}{2}. Trace:\\n{3}\\n\"\u001b[0m\u001b[0;34m.\u001b[0m\u001b[0;34m\u001b[0m\u001b[0m\n\u001b[0;32m--> 332\u001b[0;31m                     format(target_id, \".\", name, value))\n\u001b[0m\u001b[1;32m    333\u001b[0m         \u001b[0;32melse\u001b[0m\u001b[0;34m:\u001b[0m\u001b[0;34m\u001b[0m\u001b[0m\n\u001b[1;32m    334\u001b[0m             raise Py4JError(\n",
      "\u001b[0;31mPy4JError\u001b[0m: An error occurred while calling t.getDelegator. Trace:\npy4j.Py4JException: Method getDelegator([]) does not exist\n\tat py4j.reflection.ReflectionEngine.getMethod(ReflectionEngine.java:318)\n\tat py4j.reflection.ReflectionEngine.getMethod(ReflectionEngine.java:326)\n\tat py4j.Gateway.invoke(Gateway.java:274)\n\tat py4j.commands.AbstractCommand.invokeMethod(AbstractCommand.java:132)\n\tat py4j.commands.CallCommand.execute(CallCommand.java:79)\n\tat py4j.GatewayConnection.run(GatewayConnection.java:238)\n\tat java.lang.Thread.run(Thread.java:748)\n\n"
     ]
    }
   ],
   "source": [
    "from py4j.java_gateway import JavaGateway\n",
    "gateway = JavaGateway()                   # connect to the JVM\n",
    "\n",
    "delegator = gateway.entry_point.getDelegator()\n",
    "print(delegator)\n",
    "disp = gateway.entry_point.getDispatcher()\n",
    "print(disp)\n",
    "print(delegator.getDelegatorName())\n",
    "\n",
    "result=delegator.findAll(\"Person\", False)\n",
    "print(len(result))"
   ]
  },
  {
   "cell_type": "markdown",
   "metadata": {},
   "source": [
    "⊕ [3. Advanced Topics — Py4J](https://www.py4j.org/advanced_topics.html)\n"
   ]
  },
  {
   "cell_type": "code",
   "execution_count": 10,
   "metadata": {
    "ExecuteTime": {
     "end_time": "2019-01-20T14:42:07.480193Z",
     "start_time": "2019-01-20T14:42:07.461431Z"
    }
   },
   "outputs": [
    {
     "data": {
      "text/plain": [
       "{'lastUpdatedStamp': JavaObject id=o4865, 'createdTxStamp': JavaObject id=o4866, 'testingTypeId': 'PERFOMFINDTEST', 'createdStamp': JavaObject id=o4867, 'lastUpdatedTxStamp': JavaObject id=o4868}"
      ]
     },
     "execution_count": 10,
     "metadata": {},
     "output_type": "execute_result"
    }
   ],
   "source": [
    "from py4j.java_gateway import java_import\n",
    "j = gateway.new_jvm_view()\n",
    "java_import(j,'java.util.*')\n",
    "# jList = j.ArrayList()\n",
    "\n",
    "delegator.removeAll(\"TestingType\")\n",
    "\n",
    "m = j.HashMap()\n",
    "m[\"testingTypeId\"]=\"PERFOMFINDTEST\"\n",
    "delegator.create(\"TestingType\", m)"
   ]
  },
  {
   "cell_type": "code",
   "execution_count": 16,
   "metadata": {
    "ExecuteTime": {
     "end_time": "2019-01-20T14:51:47.458823Z",
     "start_time": "2019-01-20T14:51:47.371291Z"
    }
   },
   "outputs": [
    {
     "name": "stdout",
     "output_type": "stream",
     "text": [
      "create entity -> Testing\n",
      "\t testingId == PERF_TEST_1\n",
      "\t testingTypeId == PERFOMFINDTEST\n",
      "\t testingName == nice name one\n",
      "create entity -> Testing\n",
      "\t testingId == PERF_TEST_2\n",
      "\t testingTypeId == PERFOMFINDTEST\n",
      "\t testingName == nice other name two\n",
      "create entity -> Testing\n",
      "\t testingId == PERF_TEST_3\n",
      "\t testingTypeId == PERFOMFINDTEST\n",
      "\t testingName == medium name three\n",
      "create entity -> Testing\n",
      "\t testingId == PERF_TEST_4\n",
      "\t testingTypeId == PERFOMFINDTEST\n",
      "\t testingName == bad nme four\n",
      "create entity -> Testing\n",
      "\t testingId == PERF_TEST_5\n",
      "\t testingTypeId == PERFOMFINDTEST\n",
      "\t testingName == nice name one\n"
     ]
    }
   ],
   "source": [
    "def create(entity, **kwargs):\n",
    "    print(\"create entity ->\", entity)\n",
    "    m = j.HashMap()\n",
    "    for key, value in kwargs.items(): \n",
    "        print (\"\\t\", \"%s == %s\" %(key, value)) \n",
    "        m[key]=value\n",
    "    delegator.create(entity, m)\n",
    "\n",
    "delegator.removeAll(\"Testing\")\n",
    "\n",
    "create(\"Testing\", testingId=\"PERF_TEST_1\", \n",
    "       testingTypeId=\"PERFOMFINDTEST\", \n",
    "       testingName=\"nice name one\")\n",
    "create(\"Testing\", testingId=\"PERF_TEST_2\", testingTypeId=\"PERFOMFINDTEST\", testingName=\"nice other name two\")\n",
    "create(\"Testing\", testingId=\"PERF_TEST_3\", testingTypeId=\"PERFOMFINDTEST\", testingName=\"medium name three\")\n",
    "create(\"Testing\", testingId=\"PERF_TEST_4\", testingTypeId=\"PERFOMFINDTEST\", testingName=\"bad nme four\")\n",
    "create(\"Testing\", testingId=\"PERF_TEST_5\", testingTypeId=\"PERFOMFINDTEST\", testingName=\"nice name one\")"
   ]
  },
  {
   "cell_type": "code",
   "execution_count": 26,
   "metadata": {
    "ExecuteTime": {
     "end_time": "2019-01-20T16:19:35.389456Z",
     "start_time": "2019-01-20T16:19:34.962646Z"
    }
   },
   "outputs": [
    {
     "name": "stdout",
     "output_type": "stream",
     "text": [
      "blockingTestScv\n",
      "byteBufferTest\n",
      "createOfbizDemo\n",
      "createOfbizDemoByJavaService\n",
      "createTestOrderRentalProduct\n",
      "createTestSalesOrderSingle\n",
      "createTestSalesOrders\n",
      "createTestingSubtype\n",
      "createTestingType\n",
      "deleteTestingSubtype\n",
      "deleteTestingType\n",
      "entitySortTest\n",
      "groupTest\n",
      "serviceStreamTest\n",
      "shoppingCartRemoteTest\n",
      "shoppingCartTest\n",
      "simpleMapListTest\n",
      "testEntityAutoCreateTestingItemPkMissing\n",
      "testEntityAutoCreateTestingItemPkPresent\n",
      "testEntityAutoCreateTestingNodeMemberPkMissing\n",
      "testEntityAutoCreateTestingNodeMemberPkPresent\n",
      "testEntityAutoCreateTestingPkMissing\n",
      "testEntityAutoCreateTestingPkPresent\n",
      "testEntityAutoCreateTestingStatus\n",
      "testEntityAutoDeleteTestingStatus\n",
      "testEntityAutoExpireTestFieldType\n",
      "testEntityAutoExpireTestingNodeMember\n",
      "testEntityAutoRemoveTesting\n",
      "testEntityAutoUpdateTesting\n",
      "testEntityAutoUpdateTestingStatus\n",
      "updateTestingSubtype\n",
      "updateTestingType\n",
      "uploadContentTest\n"
     ]
    }
   ],
   "source": [
    "gateway = JavaGateway()\n",
    "disp = gateway.entry_point.getDispatcher()\n",
    "ctx=disp.getDispatchContext()\n",
    "names=ctx.getAllServiceNames()\n",
    "for name in names:\n",
    "    if name.startswith(\"createOfbizDemo\") or (\"Test\" in name):\n",
    "        print(name)"
   ]
  },
  {
   "cell_type": "code",
   "execution_count": 24,
   "metadata": {
    "ExecuteTime": {
     "end_time": "2019-01-20T16:17:39.430584Z",
     "start_time": "2019-01-20T16:17:39.415405Z"
    }
   },
   "outputs": [
    {
     "name": "stdout",
     "output_type": "stream",
     "text": [
      "{'comments', 'firstName', 'lastName', 'locale', 'login.password', 'login.username', 'ofbizDemoTypeId', 'timeZone', 'userLogin', 'visualTheme'}\n",
      "{'errorMessage', 'errorMessageList', 'locale', 'ofbizDemoId', 'responseMessage', 'successMessage', 'successMessageList', 'timeZone', 'userLogin', 'visualTheme'}\n"
     ]
    }
   ],
   "source": [
    "service=ctx.getModelService(\"createOfbizDemo\")\n",
    "print(service.getInParamNames())\n",
    "print(service.getOutParamNames())"
   ]
  },
  {
   "cell_type": "code",
   "execution_count": 28,
   "metadata": {
    "ExecuteTime": {
     "end_time": "2019-01-20T16:25:43.362426Z",
     "start_time": "2019-01-20T16:25:43.332309Z"
    }
   },
   "outputs": [
    {
     "name": "stdout",
     "output_type": "stream",
     "text": [
      "{'defaultValue', 'locale', 'login.password', 'login.username', 'message', 'timeZone', 'userLogin', 'visualTheme'}\n",
      "{'errorMessage', 'errorMessageList', 'locale', 'resp', 'responseMessage', 'successMessage', 'successMessageList', 'timeZone', 'userLogin', 'visualTheme'}\n",
      "{'responseMessage': 'success', 'resp': 'service done'}\n"
     ]
    }
   ],
   "source": [
    "from py4j.java_gateway import java_import\n",
    "j = gateway.new_jvm_view()\n",
    "java_import(j,'java.util.*')\n",
    "\n",
    "service=ctx.getModelService(\"testScv\")\n",
    "print(service.getInParamNames())\n",
    "print(service.getOutParamNames())\n",
    "\n",
    "context=j.HashMap()\n",
    "context[\"message\"]=\"Remote Service Test\"\n",
    "ret=disp.runSync(\"testScv\", context)\n",
    "print(ret)"
   ]
  },
  {
   "cell_type": "code",
   "execution_count": 42,
   "metadata": {
    "ExecuteTime": {
     "end_time": "2019-01-21T11:25:47.817219Z",
     "start_time": "2019-01-21T11:25:47.804505Z"
    }
   },
   "outputs": [
    {
     "data": {
      "text/plain": [
       "<module 'sagas.ofbiz.connector' from '/Users/xiaofeiwu/jcloud/assets/langs/workspace/rasa/stack/sagas/ofbiz/connector.py'>"
      ]
     },
     "execution_count": 42,
     "metadata": {},
     "output_type": "execute_result"
    }
   ],
   "source": [
    "import sagas.ofbiz.connector\n",
    "import imp\n",
    "imp.reload(sagas.ofbiz.connector)"
   ]
  },
  {
   "cell_type": "code",
   "execution_count": 44,
   "metadata": {
    "ExecuteTime": {
     "end_time": "2019-01-21T11:26:00.496265Z",
     "start_time": "2019-01-21T11:26:00.484010Z"
    }
   },
   "outputs": [
    {
     "name": "stdout",
     "output_type": "stream",
     "text": [
      "default\n"
     ]
    }
   ],
   "source": [
    "from sagas.ofbiz.connector import OfbizConnector\n",
    "oc=OfbizConnector()\n",
    "print(oc.delegator.getDelegatorName())"
   ]
  },
  {
   "cell_type": "code",
   "execution_count": 45,
   "metadata": {
    "ExecuteTime": {
     "end_time": "2019-01-21T11:26:03.835071Z",
     "start_time": "2019-01-21T11:26:03.785794Z"
    },
    "scrolled": true
   },
   "outputs": [
    {
     "data": {
      "text/plain": [
       "{'responseMessage': 'success', 'resp': 'service done'}"
      ]
     },
     "execution_count": 45,
     "metadata": {},
     "output_type": "execute_result"
    }
   ],
   "source": [
    "oc.call(\"testScv\", message=\"hello world\")"
   ]
  },
  {
   "cell_type": "code",
   "execution_count": 41,
   "metadata": {
    "ExecuteTime": {
     "end_time": "2019-01-21T09:44:24.791896Z",
     "start_time": "2019-01-21T09:44:24.612434Z"
    }
   },
   "outputs": [],
   "source": [
    "oc.remove_all(\"Testing\")\n",
    "\n",
    "oc.create(\"Testing\", testingId=\"PERF_TEST_1\", \n",
    "       testingTypeId=\"PERFOMFINDTEST\", \n",
    "       testingName=\"nice name one\")\n",
    "oc.create(\"Testing\", testingId=\"PERF_TEST_2\", testingTypeId=\"PERFOMFINDTEST\", testingName=\"nice other name two\")\n",
    "oc.create(\"Testing\", testingId=\"PERF_TEST_3\", testingTypeId=\"PERFOMFINDTEST\", testingName=\"medium name three\")\n",
    "oc.create(\"Testing\", testingId=\"PERF_TEST_4\", testingTypeId=\"PERFOMFINDTEST\", testingName=\"bad nme four\")\n",
    "oc.create(\"Testing\", testingId=\"PERF_TEST_5\", testingTypeId=\"PERFOMFINDTEST\", testingName=\"nice name one\")"
   ]
  },
  {
   "cell_type": "code",
   "execution_count": 48,
   "metadata": {
    "ExecuteTime": {
     "end_time": "2019-01-21T11:35:27.633675Z",
     "start_time": "2019-01-21T11:35:27.592498Z"
    },
    "scrolled": true
   },
   "outputs": [
    {
     "name": "stdout",
     "output_type": "stream",
     "text": [
      "{'lastUpdatedStamp': JavaObject id=o66, 'comments': None, 'createdTxStamp': JavaObject id=o67, 'testingTypeId': 'PERFOMFINDTEST', 'testingSize': None, 'createdStamp': JavaObject id=o68, 'testingId': 'PERF_TEST_1', 'description': None, 'lastUpdatedTxStamp': JavaObject id=o69, 'testingDate': None, 'testingName': 'nice name one'}\n",
      "{'lastUpdatedStamp': JavaObject id=o74, 'comments': None, 'createdTxStamp': JavaObject id=o75, 'testingTypeId': 'PERFOMFINDTEST', 'testingSize': None, 'createdStamp': JavaObject id=o76, 'testingId': 'PERF_TEST_2', 'description': None, 'lastUpdatedTxStamp': JavaObject id=o77, 'testingDate': None, 'testingName': 'nice other name two'}\n",
      "{'lastUpdatedStamp': JavaObject id=o82, 'comments': None, 'createdTxStamp': JavaObject id=o83, 'testingTypeId': 'PERFOMFINDTEST', 'testingSize': None, 'createdStamp': JavaObject id=o84, 'testingId': 'PERF_TEST_3', 'description': None, 'lastUpdatedTxStamp': JavaObject id=o85, 'testingDate': None, 'testingName': 'medium name three'}\n",
      "{'lastUpdatedStamp': JavaObject id=o90, 'comments': None, 'createdTxStamp': JavaObject id=o91, 'testingTypeId': 'PERFOMFINDTEST', 'testingSize': None, 'createdStamp': JavaObject id=o92, 'testingId': 'PERF_TEST_4', 'description': None, 'lastUpdatedTxStamp': JavaObject id=o93, 'testingDate': None, 'testingName': 'bad nme four'}\n",
      "{'lastUpdatedStamp': JavaObject id=o98, 'comments': None, 'createdTxStamp': JavaObject id=o99, 'testingTypeId': 'PERFOMFINDTEST', 'testingSize': None, 'createdStamp': JavaObject id=o100, 'testingId': 'PERF_TEST_5', 'description': None, 'lastUpdatedTxStamp': JavaObject id=o101, 'testingDate': None, 'testingName': 'nice name one'}\n"
     ]
    }
   ],
   "source": [
    "result=oc.all(\"Testing\")\n",
    "for rec in result:\n",
    "    print(rec)"
   ]
  },
  {
   "cell_type": "code",
   "execution_count": 49,
   "metadata": {
    "ExecuteTime": {
     "end_time": "2019-01-21T11:37:31.096560Z",
     "start_time": "2019-01-21T11:37:31.079033Z"
    }
   },
   "outputs": [
    {
     "name": "stdout",
     "output_type": "stream",
     "text": [
      "{'lastUpdatedStamp': JavaObject id=o107, 'successiveFailedLogins': None, 'passwordHint': None, 'createdTxStamp': JavaObject id=o108, 'createdStamp': JavaObject id=o109, 'externalAuthId': None, 'lastUpdatedTxStamp': JavaObject id=o110, 'lastTimeZone': None, 'enabled': 'N', 'lastLocale': None, 'currentPassword': None, 'userLoginId': 'system', 'isSystem': 'Y', 'disabledDateTime': None, 'disabledBy': None, 'hasLoggedOut': None, 'userLdapDn': None, 'requirePasswordChange': None, 'lastCurrencyUom': None, 'partyId': 'system'}\n"
     ]
    }
   ],
   "source": [
    "user=oc.gateway.getUserLogin()\n",
    "print(user)"
   ]
  },
  {
   "cell_type": "code",
   "execution_count": 52,
   "metadata": {
    "ExecuteTime": {
     "end_time": "2019-01-21T11:41:54.109748Z",
     "start_time": "2019-01-21T11:41:54.078202Z"
    }
   },
   "outputs": [
    {
     "name": "stdout",
     "output_type": "stream",
     "text": [
      "{'listIt': JavaObject id=o139, 'listSize': 1, 'responseMessage': 'success', 'queryString': 'testingId=PERF_TEST_1&amp;noConditionFind=N', 'queryStringMap': {'testingId': 'PERF_TEST_1', 'noConditionFind': 'N'}}\n",
      "[{'lastUpdatedStamp': JavaObject id=o151, 'comments': None, 'createdTxStamp': JavaObject id=o152, 'testingTypeId': 'PERFOMFINDTEST', 'testingSize': None, 'createdStamp': JavaObject id=o153, 'testingId': 'PERF_TEST_1', 'description': None, 'lastUpdatedTxStamp': JavaObject id=o154, 'testingDate': None, 'testingName': 'nice name one'}]\n"
     ]
    }
   ],
   "source": [
    "inputs=oc.jmap(testingId=\"PERF_TEST_1\")\n",
    "ret=oc.call(\"performFind\", userLogin=user, entityName=\"Testing\", inputFields=inputs)\n",
    "print(ret)\n",
    "listIt=ret['listIt']\n",
    "foundElements = listIt.getCompleteList()\n",
    "print(foundElements)"
   ]
  },
  {
   "cell_type": "code",
   "execution_count": 54,
   "metadata": {
    "ExecuteTime": {
     "end_time": "2019-01-21T11:48:04.020386Z",
     "start_time": "2019-01-21T11:48:04.011529Z"
    }
   },
   "outputs": [
    {
     "name": "stdout",
     "output_type": "stream",
     "text": [
      "True\n",
      "True\n"
     ]
    }
   ],
   "source": [
    "from py4j.java_gateway import java_import\n",
    "java_import(oc.j, 'org.apache.ofbiz.service.ServiceUtil')\n",
    "print(oc.j.ServiceUtil.isSuccess(ret))\n",
    "print('listIt' in ret)"
   ]
  },
  {
   "cell_type": "code",
   "execution_count": 55,
   "metadata": {
    "ExecuteTime": {
     "end_time": "2019-01-21T11:49:23.748642Z",
     "start_time": "2019-01-21T11:49:23.721293Z"
    }
   },
   "outputs": [
    {
     "name": "stdout",
     "output_type": "stream",
     "text": [
      "[{'lastUpdatedStamp': JavaObject id=o164, 'comments': None, 'createdTxStamp': JavaObject id=o165, 'testingTypeId': 'PERFOMFINDTEST', 'testingSize': None, 'createdStamp': JavaObject id=o166, 'testingId': 'PERF_TEST_1', 'description': None, 'lastUpdatedTxStamp': JavaObject id=o167, 'testingDate': None, 'testingName': 'nice name one'}]\n"
     ]
    }
   ],
   "source": [
    "inputs=oc.jmap(testingId=\"PERF_TEST_1\")\n",
    "params=oc.jmap(entityName=\"Testing\", inputFields=inputs)\n",
    "result=oc.gateway.find(params)\n",
    "print(result)"
   ]
  },
  {
   "cell_type": "code",
   "execution_count": 77,
   "metadata": {
    "ExecuteTime": {
     "end_time": "2019-01-21T12:26:21.161772Z",
     "start_time": "2019-01-21T12:26:21.144381Z"
    }
   },
   "outputs": [
    {
     "name": "stdout",
     "output_type": "stream",
     "text": [
      "{'testingName': 'name', 'testingName_op': 'contains'}\n"
     ]
    }
   ],
   "source": [
    "def hash_map(*args):\n",
    "    arg_len=len(args)\n",
    "    if arg_len%2==1:\n",
    "        raise ValueError(\"You must pass an even sized array to the toMap method (size = \" + arg_len + \")\")\n",
    "    \n",
    "    m = oc.j.HashMap()\n",
    "    i=0\n",
    "    while i<arg_len:\n",
    "        m[args[i]] = args[i+1]\n",
    "        i=i+2\n",
    "    return m\n",
    "\n",
    "m=hash_map(\"testingName\", \"name\", \"testingName_op\", \"contains\")\n",
    "print(m)                         "
   ]
  },
  {
   "cell_type": "code",
   "execution_count": 98,
   "metadata": {
    "ExecuteTime": {
     "end_time": "2019-01-21T12:48:47.677124Z",
     "start_time": "2019-01-21T12:48:47.578050Z"
    }
   },
   "outputs": [
    {
     "name": "stdout",
     "output_type": "stream",
     "text": [
      "testing contains name\n"
     ]
    },
    {
     "ename": "TypeError",
     "evalue": "'JavaPackage' object is not callable",
     "output_type": "error",
     "traceback": [
      "\u001b[0;31m---------------------------------------------------------------------------\u001b[0m",
      "\u001b[0;31mTypeError\u001b[0m                                 Traceback (most recent call last)",
      "\u001b[0;32m<ipython-input-98-5bd3dc6f0767>\u001b[0m in \u001b[0;36m<module>\u001b[0;34m()\u001b[0m\n\u001b[1;32m     20\u001b[0m \u001b[0;34m\u001b[0m\u001b[0m\n\u001b[1;32m     21\u001b[0m \u001b[0muser\u001b[0m\u001b[0;34m=\u001b[0m\u001b[0moc\u001b[0m\u001b[0;34m.\u001b[0m\u001b[0mgateway\u001b[0m\u001b[0;34m.\u001b[0m\u001b[0mgetUserLogin\u001b[0m\u001b[0;34m(\u001b[0m\u001b[0;34m)\u001b[0m\u001b[0;34m\u001b[0m\u001b[0m\n\u001b[0;32m---> 22\u001b[0;31m \u001b[0mtests_op\u001b[0m\u001b[0;34m(\u001b[0m\u001b[0;34m'name'\u001b[0m\u001b[0;34m,\u001b[0m \u001b[0;34m'contains'\u001b[0m\u001b[0;34m)\u001b[0m\u001b[0;34m\u001b[0m\u001b[0m\n\u001b[0m\u001b[1;32m     23\u001b[0m \u001b[0mtests_op\u001b[0m\u001b[0;34m(\u001b[0m\u001b[0;34m'nice'\u001b[0m\u001b[0;34m,\u001b[0m \u001b[0;34m'like'\u001b[0m\u001b[0;34m)\u001b[0m\u001b[0;34m\u001b[0m\u001b[0m\n\u001b[1;32m     24\u001b[0m \u001b[0mtests_op\u001b[0m\u001b[0;34m(\u001b[0m\u001b[0;34m'name'\u001b[0m\u001b[0;34m,\u001b[0m \u001b[0;34m'not-like'\u001b[0m\u001b[0;34m)\u001b[0m\u001b[0;34m\u001b[0m\u001b[0m\n",
      "\u001b[0;32m<ipython-input-98-5bd3dc6f0767>\u001b[0m in \u001b[0;36mtests_op\u001b[0;34m(val, op)\u001b[0m\n\u001b[1;32m     12\u001b[0m     \u001b[0mprint\u001b[0m\u001b[0;34m(\u001b[0m\u001b[0;34m'testing'\u001b[0m\u001b[0;34m,\u001b[0m \u001b[0mop\u001b[0m\u001b[0;34m,\u001b[0m \u001b[0mval\u001b[0m\u001b[0;34m)\u001b[0m\u001b[0;34m\u001b[0m\u001b[0m\n\u001b[1;32m     13\u001b[0m     \u001b[0minputs\u001b[0m\u001b[0;34m=\u001b[0m\u001b[0mhash_map\u001b[0m\u001b[0;34m(\u001b[0m\u001b[0;34m\"testingName\"\u001b[0m\u001b[0;34m,\u001b[0m \u001b[0mval\u001b[0m\u001b[0;34m,\u001b[0m \u001b[0;34m\"testingName_op\"\u001b[0m\u001b[0;34m,\u001b[0m \u001b[0mop\u001b[0m\u001b[0;34m)\u001b[0m\u001b[0;34m\u001b[0m\u001b[0m\n\u001b[0;32m---> 14\u001b[0;31m     \u001b[0mok\u001b[0m\u001b[0;34m,\u001b[0m \u001b[0mresult\u001b[0m\u001b[0;34m=\u001b[0m\u001b[0mfind\u001b[0m\u001b[0;34m(\u001b[0m\u001b[0;34m\"Testing\"\u001b[0m\u001b[0;34m,\u001b[0m \u001b[0minputs\u001b[0m\u001b[0;34m)\u001b[0m\u001b[0;34m\u001b[0m\u001b[0m\n\u001b[0m\u001b[1;32m     15\u001b[0m     \u001b[0;32mif\u001b[0m \u001b[0mok\u001b[0m\u001b[0;34m:\u001b[0m\u001b[0;34m\u001b[0m\u001b[0m\n\u001b[1;32m     16\u001b[0m         \u001b[0;32mfor\u001b[0m \u001b[0mrec\u001b[0m \u001b[0;32min\u001b[0m \u001b[0mresult\u001b[0m\u001b[0;34m:\u001b[0m\u001b[0;34m\u001b[0m\u001b[0m\n",
      "\u001b[0;32m<ipython-input-98-5bd3dc6f0767>\u001b[0m in \u001b[0;36mfind\u001b[0;34m(entity, inputs)\u001b[0m\n\u001b[1;32m      2\u001b[0m     \u001b[0;31m# inputs=oc.jmap(testingId=\"PERF_TEST_1\")\u001b[0m\u001b[0;34m\u001b[0m\u001b[0;34m\u001b[0m\u001b[0m\n\u001b[1;32m      3\u001b[0m     \u001b[0mret\u001b[0m\u001b[0;34m=\u001b[0m\u001b[0moc\u001b[0m\u001b[0;34m.\u001b[0m\u001b[0mcall\u001b[0m\u001b[0;34m(\u001b[0m\u001b[0;34m\"performFind\"\u001b[0m\u001b[0;34m,\u001b[0m \u001b[0muserLogin\u001b[0m\u001b[0;34m=\u001b[0m\u001b[0muser\u001b[0m\u001b[0;34m,\u001b[0m \u001b[0mentityName\u001b[0m\u001b[0;34m=\u001b[0m\u001b[0mentity\u001b[0m\u001b[0;34m,\u001b[0m \u001b[0minputFields\u001b[0m\u001b[0;34m=\u001b[0m\u001b[0minputs\u001b[0m\u001b[0;34m)\u001b[0m\u001b[0;34m\u001b[0m\u001b[0m\n\u001b[0;32m----> 4\u001b[0;31m     \u001b[0;32mif\u001b[0m \u001b[0moc\u001b[0m\u001b[0;34m.\u001b[0m\u001b[0mj\u001b[0m\u001b[0;34m.\u001b[0m\u001b[0mServiceUtil\u001b[0m\u001b[0;34m.\u001b[0m\u001b[0misSuccess\u001b[0m\u001b[0;34m(\u001b[0m\u001b[0mret\u001b[0m\u001b[0;34m)\u001b[0m\u001b[0;34m:\u001b[0m\u001b[0;34m\u001b[0m\u001b[0m\n\u001b[0m\u001b[1;32m      5\u001b[0m         \u001b[0mlistIt\u001b[0m\u001b[0;34m=\u001b[0m\u001b[0mret\u001b[0m\u001b[0;34m[\u001b[0m\u001b[0;34m'listIt'\u001b[0m\u001b[0;34m]\u001b[0m\u001b[0;34m\u001b[0m\u001b[0m\n\u001b[1;32m      6\u001b[0m         \u001b[0mfoundElements\u001b[0m \u001b[0;34m=\u001b[0m \u001b[0mlistIt\u001b[0m\u001b[0;34m.\u001b[0m\u001b[0mgetCompleteList\u001b[0m\u001b[0;34m(\u001b[0m\u001b[0;34m)\u001b[0m\u001b[0;34m\u001b[0m\u001b[0m\n",
      "\u001b[0;31mTypeError\u001b[0m: 'JavaPackage' object is not callable"
     ]
    }
   ],
   "source": [
    "def find(entity, inputs):\n",
    "    # inputs=oc.jmap(testingId=\"PERF_TEST_1\")\n",
    "    ret=oc.call(\"performFind\", userLogin=user, entityName=entity, inputFields=inputs)\n",
    "    if oc.j.ServiceUtil.isSuccess(ret):\n",
    "        listIt=ret['listIt']\n",
    "        foundElements = listIt.getCompleteList()\n",
    "        return(True, foundElements)\n",
    "    else:\n",
    "        return(False, oc.j.ServiceUtil.getErrorMessage(ret))\n",
    "\n",
    "def tests_op(val, op):\n",
    "    print('testing', op, val)\n",
    "    inputs=hash_map(\"testingName\", val, \"testingName_op\", op)\n",
    "    ok, result=find(\"Testing\", inputs)\n",
    "    if ok:\n",
    "        for rec in result:\n",
    "            print(\"\\t\", rec['testingName'])\n",
    "    else:\n",
    "        print(\"\\t\", 'error', result)\n",
    "\n",
    "user=oc.gateway.getUserLogin()\n",
    "tests_op('name', 'contains')\n",
    "tests_op('nice', 'like')\n",
    "tests_op('name', 'not-like')\n",
    "tests_op('name', 'not-contains')"
   ]
  },
  {
   "cell_type": "code",
   "execution_count": 84,
   "metadata": {
    "ExecuteTime": {
     "end_time": "2019-01-21T12:28:52.032202Z",
     "start_time": "2019-01-21T12:28:52.021540Z"
    }
   },
   "outputs": [
    {
     "name": "stdout",
     "output_type": "stream",
     "text": [
      "2019-01-21 20:28:52.029\n"
     ]
    }
   ],
   "source": [
    "java_import(oc.j, 'org.apache.ofbiz.base.util.UtilDateTime')\n",
    "UtilDateTime=oc.j.UtilDateTime\n",
    "nowTimestamp = UtilDateTime.nowTimestamp()\n",
    "print(nowTimestamp)"
   ]
  },
  {
   "cell_type": "code",
   "execution_count": 83,
   "metadata": {
    "ExecuteTime": {
     "end_time": "2019-01-21T12:28:14.744677Z",
     "start_time": "2019-01-21T12:28:14.709967Z"
    }
   },
   "outputs": [
    {
     "name": "stdout",
     "output_type": "stream",
     "text": [
      "{'description': 'Date Node', 'testingNodeId': 'NODE_1'}\n"
     ]
    },
    {
     "data": {
      "text/plain": [
       "{'lastUpdatedStamp': JavaObject id=o417, 'createdTxStamp': JavaObject id=o418, 'createdStamp': JavaObject id=o419, 'description': 'Date Node', 'lastUpdatedTxStamp': JavaObject id=o420, 'testingNodeId': 'NODE_1'}"
      ]
     },
     "execution_count": 83,
     "metadata": {},
     "output_type": "execute_result"
    }
   ],
   "source": [
    "def create(entity, *args):\n",
    "    # print(hash_map(*args))\n",
    "    return oc.delegator.create(entity, hash_map(*args))\n",
    "    \n",
    "oc.delegator.removeAll(\"TestingNode\")    \n",
    "create(\"TestingNode\", \"testingNodeId\", \"NODE_1\", \"description\", \"Date Node\")"
   ]
  },
  {
   "cell_type": "code",
   "execution_count": 95,
   "metadata": {
    "ExecuteTime": {
     "end_time": "2019-01-21T12:43:38.930378Z",
     "start_time": "2019-01-21T12:43:38.900343Z"
    }
   },
   "outputs": [
    {
     "name": "stdout",
     "output_type": "stream",
     "text": [
      "default\n"
     ]
    }
   ],
   "source": [
    "oc=OfbizConnector()\n",
    "print(oc.delegator.getDelegatorName())\n",
    "\n",
    "def clear_all():\n",
    "    oc.delegator.removeAll(\"TestingNodeMember\") \n",
    "    oc.delegator.removeAll(\"TestingNode\")   \n",
    "    oc.delegator.removeAll(\"Testing\")  \n",
    "    oc.delegator.removeAll(\"TestingType\") \n",
    "\n",
    "clear_all()"
   ]
  },
  {
   "cell_type": "code",
   "execution_count": 96,
   "metadata": {
    "ExecuteTime": {
     "end_time": "2019-01-21T12:43:42.198845Z",
     "start_time": "2019-01-21T12:43:41.835191Z"
    }
   },
   "outputs": [
    {
     "name": "stdout",
     "output_type": "stream",
     "text": [
      "2019-01-21 20:43:41.897\n",
      "{'testingTypeId': 'PERFOMFINDTEST'}\n",
      "{'testingTypeId': 'PERFOMFINDTEST', 'testingId': 'PERF_TEST_1', 'testingName': 'nice name one'}\n",
      "{'testingTypeId': 'PERFOMFINDTEST', 'testingId': 'PERF_TEST_2', 'testingName': 'nice other name two'}\n",
      "{'testingTypeId': 'PERFOMFINDTEST', 'testingId': 'PERF_TEST_3', 'testingName': 'medium name three'}\n",
      "{'testingTypeId': 'PERFOMFINDTEST', 'testingId': 'PERF_TEST_4', 'testingName': 'bad nme four'}\n",
      "{'testingTypeId': 'PERFOMFINDTEST', 'testingId': 'PERF_TEST_5', 'testingName': 'nice name one'}\n",
      "{'testingTypeId': 'PERFOMFINDTEST', 'testingId': 'PERF_TEST_6'}\n",
      "{'testingTypeId': 'PERFOMFINDTEST', 'testingId': 'PERF_TEST_7'}\n",
      "{'testingTypeId': 'PERFOMFINDTEST', 'testingId': 'PERF_TEST_8'}\n",
      "{'testingTypeId': 'PERFOMFINDTEST', 'testingId': 'PERF_TEST_9'}\n",
      "{'description': 'Date Node', 'testingNodeId': 'NODE_1'}\n",
      "{'fromDate': JavaObject id=o165, 'extendFromDate': JavaObject id=o166, 'testingId': 'PERF_TEST_5', 'extendThruDate': JavaObject id=o167, 'testingNodeId': 'NODE_1', 'thruDate': JavaObject id=o168}\n",
      "{'fromDate': JavaObject id=o179, 'extendFromDate': JavaObject id=o180, 'testingId': 'PERF_TEST_6', 'extendThruDate': JavaObject id=o181, 'testingNodeId': 'NODE_1', 'thruDate': JavaObject id=o182}\n",
      "{'fromDate': JavaObject id=o193, 'extendFromDate': JavaObject id=o194, 'testingId': 'PERF_TEST_7', 'extendThruDate': JavaObject id=o195, 'testingNodeId': 'NODE_1', 'thruDate': JavaObject id=o196}\n",
      "{'fromDate': JavaObject id=o207, 'extendFromDate': JavaObject id=o208, 'testingId': 'PERF_TEST_8', 'extendThruDate': JavaObject id=o209, 'testingNodeId': 'NODE_1', 'thruDate': JavaObject id=o210}\n",
      "{'fromDate': JavaObject id=o221, 'extendFromDate': JavaObject id=o222, 'testingId': 'PERF_TEST_9', 'extendThruDate': JavaObject id=o223, 'testingNodeId': 'NODE_1', 'thruDate': JavaObject id=o224}\n"
     ]
    },
    {
     "data": {
      "text/plain": [
       "{'fromDate': JavaObject id=o230, 'lastUpdatedStamp': JavaObject id=o231, 'extendFromDate': JavaObject id=o232, 'createdTxStamp': JavaObject id=o233, 'createdStamp': JavaObject id=o234, 'testingId': 'PERF_TEST_9', 'lastUpdatedTxStamp': JavaObject id=o235, 'extendThruDate': JavaObject id=o236, 'testingNodeId': 'NODE_1', 'thruDate': JavaObject id=o237}"
      ]
     },
     "execution_count": 96,
     "metadata": {},
     "output_type": "execute_result"
    }
   ],
   "source": [
    "java_import(oc.j, 'org.apache.ofbiz.base.util.UtilDateTime')\n",
    "UtilDateTime=oc.j.UtilDateTime\n",
    "nowTimestamp = UtilDateTime.nowTimestamp()\n",
    "print(nowTimestamp)\n",
    "\n",
    "create(\"TestingType\", \"testingTypeId\", \"PERFOMFINDTEST\")\n",
    "\n",
    "create(\"Testing\", \"testingId\", \"PERF_TEST_1\", \"testingTypeId\", \"PERFOMFINDTEST\", \"testingName\", \"nice name one\")\n",
    "create(\"Testing\", \"testingId\", \"PERF_TEST_2\", \"testingTypeId\", \"PERFOMFINDTEST\", \"testingName\", \"nice other name two\")\n",
    "create(\"Testing\", \"testingId\", \"PERF_TEST_3\", \"testingTypeId\", \"PERFOMFINDTEST\", \"testingName\", \"medium name three\")\n",
    "create(\"Testing\", \"testingId\", \"PERF_TEST_4\", \"testingTypeId\", \"PERFOMFINDTEST\", \"testingName\", \"bad nme four\")\n",
    "create(\"Testing\", \"testingId\", \"PERF_TEST_5\", \"testingTypeId\", \"PERFOMFINDTEST\", \"testingName\", \"nice name one\")\n",
    "create(\"Testing\", \"testingId\", \"PERF_TEST_6\", \"testingTypeId\", \"PERFOMFINDTEST\")\n",
    "create(\"Testing\", \"testingId\", \"PERF_TEST_7\", \"testingTypeId\", \"PERFOMFINDTEST\")\n",
    "create(\"Testing\", \"testingId\", \"PERF_TEST_8\", \"testingTypeId\", \"PERFOMFINDTEST\")\n",
    "create(\"Testing\", \"testingId\", \"PERF_TEST_9\", \"testingTypeId\", \"PERFOMFINDTEST\")\n",
    "\n",
    "create(\"TestingNode\", \"testingNodeId\", \"NODE_1\", \"description\", \"Date Node\")\n",
    "create(\"TestingNodeMember\", \"testingNodeId\", \"NODE_1\", \"testingId\", \"PERF_TEST_5\",\n",
    "        \"fromDate\", UtilDateTime.addDaysToTimestamp(nowTimestamp, 1),\n",
    "        \"thruDate\", UtilDateTime.addDaysToTimestamp(nowTimestamp, 3),\n",
    "        \"extendFromDate\", UtilDateTime.addDaysToTimestamp(nowTimestamp, -1),\n",
    "        \"extendThruDate\", UtilDateTime.addDaysToTimestamp(nowTimestamp, 3))\n",
    "create(\"TestingNodeMember\", \"testingNodeId\", \"NODE_1\", \"testingId\", \"PERF_TEST_6\",\n",
    "        \"fromDate\", UtilDateTime.addDaysToTimestamp(nowTimestamp, -1),\n",
    "        \"thruDate\", UtilDateTime.addDaysToTimestamp(nowTimestamp, 1),\n",
    "        \"extendFromDate\", UtilDateTime.addDaysToTimestamp(nowTimestamp, -1),\n",
    "        \"extendThruDate\", UtilDateTime.addDaysToTimestamp(nowTimestamp, 3))\n",
    "create(\"TestingNodeMember\", \"testingNodeId\", \"NODE_1\", \"testingId\", \"PERF_TEST_7\",\n",
    "        \"fromDate\", UtilDateTime.addDaysToTimestamp(nowTimestamp, -1),\n",
    "        \"thruDate\", UtilDateTime.addDaysToTimestamp(nowTimestamp, 1),\n",
    "        \"extendFromDate\", UtilDateTime.addDaysToTimestamp(nowTimestamp, -1),\n",
    "        \"extendThruDate\", UtilDateTime.addDaysToTimestamp(nowTimestamp, 3))\n",
    "create(\"TestingNodeMember\", \"testingNodeId\", \"NODE_1\", \"testingId\", \"PERF_TEST_8\",\n",
    "        \"fromDate\", UtilDateTime.addDaysToTimestamp(nowTimestamp, -3),\n",
    "        \"thruDate\", UtilDateTime.addDaysToTimestamp(nowTimestamp, 1),\n",
    "        \"extendFromDate\", UtilDateTime.addDaysToTimestamp(nowTimestamp, -1),\n",
    "        \"extendThruDate\", UtilDateTime.addDaysToTimestamp(nowTimestamp, 3))\n",
    "create(\"TestingNodeMember\", \"testingNodeId\", \"NODE_1\", \"testingId\", \"PERF_TEST_9\",\n",
    "        \"fromDate\", UtilDateTime.addDaysToTimestamp(nowTimestamp, -3),\n",
    "        \"thruDate\", UtilDateTime.addDaysToTimestamp(nowTimestamp, -1),\n",
    "        \"extendFromDate\", UtilDateTime.addDaysToTimestamp(nowTimestamp, -1),\n",
    "        \"extendThruDate\", UtilDateTime.addDaysToTimestamp(nowTimestamp, -3))\n"
   ]
  },
  {
   "cell_type": "code",
   "execution_count": null,
   "metadata": {},
   "outputs": [],
   "source": []
  }
 ],
 "metadata": {
  "kernelspec": {
   "display_name": "Python 3",
   "language": "python",
   "name": "python3"
  },
  "language_info": {
   "codemirror_mode": {
    "name": "ipython",
    "version": 3
   },
   "file_extension": ".py",
   "mimetype": "text/x-python",
   "name": "python",
   "nbconvert_exporter": "python",
   "pygments_lexer": "ipython3",
   "version": "3.6.4"
  },
  "varInspector": {
   "cols": {
    "lenName": 16,
    "lenType": 16,
    "lenVar": 40
   },
   "kernels_config": {
    "python": {
     "delete_cmd_postfix": "",
     "delete_cmd_prefix": "del ",
     "library": "var_list.py",
     "varRefreshCmd": "print(var_dic_list())"
    },
    "r": {
     "delete_cmd_postfix": ") ",
     "delete_cmd_prefix": "rm(",
     "library": "var_list.r",
     "varRefreshCmd": "cat(var_dic_list()) "
    }
   },
   "types_to_exclude": [
    "module",
    "function",
    "builtin_function_or_method",
    "instance",
    "_Feature"
   ],
   "window_display": false
  }
 },
 "nbformat": 4,
 "nbformat_minor": 2
}
