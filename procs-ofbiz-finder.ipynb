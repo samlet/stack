{
 "cells": [
  {
   "cell_type": "code",
   "execution_count": 37,
   "metadata": {
    "ExecuteTime": {
     "end_time": "2019-01-22T15:10:19.818732Z",
     "start_time": "2019-01-22T15:10:19.720494Z"
    }
   },
   "outputs": [
    {
     "name": "stdout",
     "output_type": "stream",
     "text": [
      "default\n"
     ]
    }
   ],
   "source": [
    "from sagas.ofbiz.connector import OfbizConnector\n",
    "from sagas.ofbiz.finder import Finder\n",
    "oc=OfbizConnector()\n",
    "finder=Finder(oc)\n",
    "print(oc.delegator.getDelegatorName())"
   ]
  },
  {
   "cell_type": "code",
   "execution_count": 38,
   "metadata": {
    "ExecuteTime": {
     "end_time": "2019-01-22T15:10:22.938263Z",
     "start_time": "2019-01-22T15:10:22.796349Z"
    }
   },
   "outputs": [],
   "source": [
    "def clear_all():\n",
    "    oc.delegator.removeAll(\"TestingNodeMember\") \n",
    "    oc.delegator.removeAll(\"TestingNode\")   \n",
    "    oc.delegator.removeAll(\"Testing\")  \n",
    "    oc.delegator.removeAll(\"TestingType\") \n",
    "\n",
    "clear_all()"
   ]
  },
  {
   "cell_type": "code",
   "execution_count": 39,
   "metadata": {
    "ExecuteTime": {
     "end_time": "2019-01-22T15:10:29.685943Z",
     "start_time": "2019-01-22T15:10:28.504233Z"
    }
   },
   "outputs": [],
   "source": [
    "def prepare():\n",
    "    create=finder.create\n",
    "    UtilDateTime=finder.oc.j.UtilDateTime\n",
    "    nowTimestamp=finder.now()\n",
    "    \n",
    "    create(\"TestingType\", \"testingTypeId\", \"PERFOMFINDTEST\")\n",
    "\n",
    "    create(\"Testing\", \"testingId\", \"PERF_TEST_1\", \"testingTypeId\", \"PERFOMFINDTEST\", \"testingName\", \"nice name one\")\n",
    "    create(\"Testing\", \"testingId\", \"PERF_TEST_2\", \"testingTypeId\", \"PERFOMFINDTEST\", \"testingName\", \"nice other name two\")\n",
    "    create(\"Testing\", \"testingId\", \"PERF_TEST_3\", \"testingTypeId\", \"PERFOMFINDTEST\", \"testingName\", \"medium name three\")\n",
    "    create(\"Testing\", \"testingId\", \"PERF_TEST_4\", \"testingTypeId\", \"PERFOMFINDTEST\", \"testingName\", \"bad nme four\")\n",
    "    create(\"Testing\", \"testingId\", \"PERF_TEST_5\", \"testingTypeId\", \"PERFOMFINDTEST\", \"testingName\", \"nice name one\")\n",
    "    create(\"Testing\", \"testingId\", \"PERF_TEST_6\", \"testingTypeId\", \"PERFOMFINDTEST\")\n",
    "    create(\"Testing\", \"testingId\", \"PERF_TEST_7\", \"testingTypeId\", \"PERFOMFINDTEST\")\n",
    "    create(\"Testing\", \"testingId\", \"PERF_TEST_8\", \"testingTypeId\", \"PERFOMFINDTEST\")\n",
    "    create(\"Testing\", \"testingId\", \"PERF_TEST_9\", \"testingTypeId\", \"PERFOMFINDTEST\")\n",
    "\n",
    "    create(\"TestingNode\", \"testingNodeId\", \"NODE_1\", \"description\", \"Date Node\")\n",
    "    create(\"TestingNodeMember\", \"testingNodeId\", \"NODE_1\", \"testingId\", \"PERF_TEST_5\",\n",
    "            \"fromDate\", UtilDateTime.addDaysToTimestamp(nowTimestamp, 1),\n",
    "            \"thruDate\", UtilDateTime.addDaysToTimestamp(nowTimestamp, 3),\n",
    "            \"extendFromDate\", UtilDateTime.addDaysToTimestamp(nowTimestamp, -1),\n",
    "            \"extendThruDate\", UtilDateTime.addDaysToTimestamp(nowTimestamp, 3))\n",
    "    create(\"TestingNodeMember\", \"testingNodeId\", \"NODE_1\", \"testingId\", \"PERF_TEST_6\",\n",
    "            \"fromDate\", UtilDateTime.addDaysToTimestamp(nowTimestamp, -1),\n",
    "            \"thruDate\", UtilDateTime.addDaysToTimestamp(nowTimestamp, 1),\n",
    "            \"extendFromDate\", UtilDateTime.addDaysToTimestamp(nowTimestamp, -1),\n",
    "            \"extendThruDate\", UtilDateTime.addDaysToTimestamp(nowTimestamp, 3))\n",
    "    create(\"TestingNodeMember\", \"testingNodeId\", \"NODE_1\", \"testingId\", \"PERF_TEST_7\",\n",
    "            \"fromDate\", UtilDateTime.addDaysToTimestamp(nowTimestamp, -1),\n",
    "            \"thruDate\", UtilDateTime.addDaysToTimestamp(nowTimestamp, 1),\n",
    "            \"extendFromDate\", UtilDateTime.addDaysToTimestamp(nowTimestamp, -1),\n",
    "            \"extendThruDate\", UtilDateTime.addDaysToTimestamp(nowTimestamp, 3))\n",
    "    create(\"TestingNodeMember\", \"testingNodeId\", \"NODE_1\", \"testingId\", \"PERF_TEST_8\",\n",
    "            \"fromDate\", UtilDateTime.addDaysToTimestamp(nowTimestamp, -3),\n",
    "            \"thruDate\", UtilDateTime.addDaysToTimestamp(nowTimestamp, 1),\n",
    "            \"extendFromDate\", UtilDateTime.addDaysToTimestamp(nowTimestamp, -1),\n",
    "            \"extendThruDate\", UtilDateTime.addDaysToTimestamp(nowTimestamp, 3))\n",
    "    create(\"TestingNodeMember\", \"testingNodeId\", \"NODE_1\", \"testingId\", \"PERF_TEST_9\",\n",
    "            \"fromDate\", UtilDateTime.addDaysToTimestamp(nowTimestamp, -3),\n",
    "            \"thruDate\", UtilDateTime.addDaysToTimestamp(nowTimestamp, -1),\n",
    "            \"extendFromDate\", UtilDateTime.addDaysToTimestamp(nowTimestamp, -1),\n",
    "            \"extendThruDate\", UtilDateTime.addDaysToTimestamp(nowTimestamp, -3))\n",
    "\n",
    "prepare()"
   ]
  },
  {
   "cell_type": "code",
   "execution_count": 41,
   "metadata": {
    "ExecuteTime": {
     "end_time": "2019-01-22T15:10:46.098282Z",
     "start_time": "2019-01-22T15:10:45.352466Z"
    }
   },
   "outputs": [
    {
     "name": "stdout",
     "output_type": "stream",
     "text": [
      "testing contains name\n",
      "\t nice name one\n",
      "\t nice other name two\n",
      "\t medium name three\n",
      "\t nice name one\n",
      "testing like nice\n",
      "\t nice name one\n",
      "\t nice other name two\n",
      "\t nice name one\n",
      "testing not-like name\n",
      "\t nice name one\n",
      "\t nice other name two\n",
      "\t medium name three\n",
      "\t bad nme four\n",
      "\t nice name one\n",
      "testing not-contains name\n",
      "\t bad nme four\n"
     ]
    }
   ],
   "source": [
    "def tests_op(val, op):\n",
    "    print('testing', op, val)\n",
    "    inputs=finder.hash_map(\"testingName\", val, \"testingName_op\", op)\n",
    "    ok, result=finder.find(\"Testing\", inputs)\n",
    "    if ok:\n",
    "        for rec in result:\n",
    "            print(\"\\t\", rec['testingName'])\n",
    "    else:\n",
    "        print(\"\\t\", 'error', result)\n",
    "\n",
    "tests_op('name', 'contains')\n",
    "tests_op('nice', 'like')\n",
    "tests_op('name', 'not-like')\n",
    "tests_op('name', 'not-contains')"
   ]
  },
  {
   "cell_type": "code",
   "execution_count": 42,
   "metadata": {
    "ExecuteTime": {
     "end_time": "2019-01-22T15:11:05.753366Z",
     "start_time": "2019-01-22T15:11:05.663547Z"
    }
   },
   "outputs": [
    {
     "name": "stdout",
     "output_type": "stream",
     "text": [
      "True\n",
      "PERF_TEST_6 2019-01-21 23:10:28.633\n",
      "PERF_TEST_7 2019-01-21 23:10:28.633\n",
      "PERF_TEST_8 2019-01-19 23:10:28.633\n"
     ]
    }
   ],
   "source": [
    "def filter_by_date(filter=True):\n",
    "    UtilDateTime=finder.oc.j.UtilDateTime\n",
    "    # nowTimestamp=finder.now()\n",
    "    userLogin=finder.user\n",
    "    if filter:\n",
    "        filter_val=\"Y\"\n",
    "    else:\n",
    "        filter_val=\"N\"\n",
    "\n",
    "    inputFields=finder.hash_map(\"testingNodeId\", \"NODE_1\")\n",
    "    performFindMap=finder.hash_map(\"userLogin\", userLogin, \n",
    "                               \"entityName\", \"TestingNodeMember\", \n",
    "                               \"inputFields\", inputFields, \n",
    "                               \"filterByDate\", filter_val, \n",
    "                               \"filterByDateValue\", UtilDateTime.nowTimestamp())\n",
    "\n",
    "    result = oc.dispatcher.runSync(\"performFind\", performFindMap)\n",
    "    print(finder.success(result))\n",
    "    listIt = result['listIt']\n",
    "    foundElements = listIt.getCompleteList()\n",
    "    for e in foundElements:\n",
    "        print(e['testingId'], e['fromDate'])\n",
    "\n",
    "filter_by_date(True)"
   ]
  },
  {
   "cell_type": "code",
   "execution_count": 43,
   "metadata": {
    "ExecuteTime": {
     "end_time": "2019-01-22T15:11:11.668573Z",
     "start_time": "2019-01-22T15:11:11.609061Z"
    }
   },
   "outputs": [
    {
     "name": "stdout",
     "output_type": "stream",
     "text": [
      "TESTING Testing None\n",
      "\t one Testing->TestingType[testingTypeId:testingTypeId]\n",
      "\t many Testing->TestingItem[testingId:testingId]\n",
      "\t many Testing->TestingNodeMember[testingId:testingId]\n",
      "TESTING_NODE Testing Node None\n",
      "\t one TestingNode->PrimaryParentTestingNode[primaryParentNodeId:testingNodeId]\n",
      "\t many TestingNode->PrimaryChildTestingNode[testingNodeId:primaryParentNodeId]\n",
      "\t many TestingNode->TestingNodeMember[testingNodeId:testingNodeId]\n"
     ]
    }
   ],
   "source": [
    "def desc_relations(entity_name):\n",
    "    ent=oc.delegator.getModelEntity(entity_name)\n",
    "    print(ent.getPlainTableName(), ent.getTitle(), ent.getDescription())\n",
    "    for rel in ent.getRelationsList(True, True, True):\n",
    "        print(\"\\t\", rel.getType(), rel)\n",
    "\n",
    "desc_relations(\"Testing\")\n",
    "desc_relations(\"TestingNode\")"
   ]
  },
  {
   "cell_type": "code",
   "execution_count": 44,
   "metadata": {
    "ExecuteTime": {
     "end_time": "2019-01-22T15:11:25.962037Z",
     "start_time": "2019-01-22T15:11:25.732362Z"
    }
   },
   "outputs": [
    {
     "name": "stdout",
     "output_type": "stream",
     "text": [
      "{'description': None, 'lastUpdatedStamp': JavaObject id=o173, 'lastUpdatedTxStamp': JavaObject id=o174, 'createdTxStamp': JavaObject id=o175, 'testingTypeId': 'PERFOMFINDTEST', 'createdStamp': JavaObject id=o176}\n",
      "0\n"
     ]
    }
   ],
   "source": [
    "def find_one(entity, params):\n",
    "    return oc.delegator.findOne(entity, params, True)\n",
    "def jlist(*args):\n",
    "    m = oc.j.ArrayList()\n",
    "    for e in args:\n",
    "        m.append(e)\n",
    "    return m\n",
    "\n",
    "ent=find_one(\"Testing\", finder.hash_map(\"testingId\", \"PERF_TEST_1\"))\n",
    "rel=ent.getRelatedOne(\"TestingType\", False)\n",
    "print(rel)\n",
    "items=ent.getRelated(\"TestingNodeMember\", jlist('testingId'))\n",
    "print(len(items))\n",
    "for item in items:\n",
    "    print(item)"
   ]
  },
  {
   "cell_type": "code",
   "execution_count": 45,
   "metadata": {
    "ExecuteTime": {
     "end_time": "2019-01-22T15:11:30.506719Z",
     "start_time": "2019-01-22T15:11:30.358828Z"
    }
   },
   "outputs": [
    {
     "name": "stdout",
     "output_type": "stream",
     "text": [
      "members 5\n",
      "PERF_TEST_5 {'fromDate': JavaObject id=o190, 'lastUpdatedStamp': JavaObject id=o191, 'extendFromDate': JavaObject id=o192, 'createdTxStamp': JavaObject id=o193, 'createdStamp': JavaObject id=o194, 'testingId': 'PERF_TEST_5', 'lastUpdatedTxStamp': JavaObject id=o195, 'extendThruDate': JavaObject id=o196, 'testingNodeId': 'NODE_1', 'thruDate': JavaObject id=o197}\n",
      "PERF_TEST_6 {'fromDate': JavaObject id=o202, 'lastUpdatedStamp': JavaObject id=o203, 'extendFromDate': JavaObject id=o204, 'createdTxStamp': JavaObject id=o205, 'createdStamp': JavaObject id=o206, 'testingId': 'PERF_TEST_6', 'lastUpdatedTxStamp': JavaObject id=o207, 'extendThruDate': JavaObject id=o208, 'testingNodeId': 'NODE_1', 'thruDate': JavaObject id=o209}\n",
      "PERF_TEST_7 {'fromDate': JavaObject id=o214, 'lastUpdatedStamp': JavaObject id=o215, 'extendFromDate': JavaObject id=o216, 'createdTxStamp': JavaObject id=o217, 'createdStamp': JavaObject id=o218, 'testingId': 'PERF_TEST_7', 'lastUpdatedTxStamp': JavaObject id=o219, 'extendThruDate': JavaObject id=o220, 'testingNodeId': 'NODE_1', 'thruDate': JavaObject id=o221}\n",
      "PERF_TEST_8 {'fromDate': JavaObject id=o226, 'lastUpdatedStamp': JavaObject id=o227, 'extendFromDate': JavaObject id=o228, 'createdTxStamp': JavaObject id=o229, 'createdStamp': JavaObject id=o230, 'testingId': 'PERF_TEST_8', 'lastUpdatedTxStamp': JavaObject id=o231, 'extendThruDate': JavaObject id=o232, 'testingNodeId': 'NODE_1', 'thruDate': JavaObject id=o233}\n",
      "PERF_TEST_9 {'fromDate': JavaObject id=o238, 'lastUpdatedStamp': JavaObject id=o239, 'extendFromDate': JavaObject id=o240, 'createdTxStamp': JavaObject id=o241, 'createdStamp': JavaObject id=o242, 'testingId': 'PERF_TEST_9', 'lastUpdatedTxStamp': JavaObject id=o243, 'extendThruDate': JavaObject id=o244, 'testingNodeId': 'NODE_1', 'thruDate': JavaObject id=o245}\n"
     ]
    }
   ],
   "source": [
    "ent=find_one(\"TestingNode\", finder.hash_map(\"testingNodeId\", \"NODE_1\"))\n",
    "items=ent.getRelated(\"TestingNodeMember\", jlist('testingNodeId'))\n",
    "print(\"members\", len(items))\n",
    "for item in items:\n",
    "    print(item['testingId'], item)"
   ]
  }
 ],
 "metadata": {
  "kernelspec": {
   "display_name": "Python 3",
   "language": "python",
   "name": "python3"
  },
  "language_info": {
   "codemirror_mode": {
    "name": "ipython",
    "version": 3
   },
   "file_extension": ".py",
   "mimetype": "text/x-python",
   "name": "python",
   "nbconvert_exporter": "python",
   "pygments_lexer": "ipython3",
   "version": "3.6.4"
  },
  "varInspector": {
   "cols": {
    "lenName": 16,
    "lenType": 16,
    "lenVar": 40
   },
   "kernels_config": {
    "python": {
     "delete_cmd_postfix": "",
     "delete_cmd_prefix": "del ",
     "library": "var_list.py",
     "varRefreshCmd": "print(var_dic_list())"
    },
    "r": {
     "delete_cmd_postfix": ") ",
     "delete_cmd_prefix": "rm(",
     "library": "var_list.r",
     "varRefreshCmd": "cat(var_dic_list()) "
    }
   },
   "types_to_exclude": [
    "module",
    "function",
    "builtin_function_or_method",
    "instance",
    "_Feature"
   ],
   "window_display": false
  }
 },
 "nbformat": 4,
 "nbformat_minor": 2
}
