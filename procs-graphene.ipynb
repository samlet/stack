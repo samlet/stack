{
 "cells": [
  {
   "cell_type": "code",
   "execution_count": 1,
   "metadata": {
    "ExecuteTime": {
     "end_time": "2019-01-08T07:58:52.960864Z",
     "start_time": "2019-01-08T07:58:52.635826Z"
    }
   },
   "outputs": [],
   "source": [
    "import graphene\n",
    "\n",
    "class Query(graphene.ObjectType):\n",
    "    hello = graphene.String(argument=graphene.String(default_value=\"stranger\"))\n",
    "\n",
    "    def resolve_hello(self, info, argument):\n",
    "        return 'Hello ' + argument\n",
    "\n",
    "schema = graphene.Schema(query=Query)"
   ]
  },
  {
   "cell_type": "code",
   "execution_count": 2,
   "metadata": {
    "ExecuteTime": {
     "end_time": "2019-01-08T07:59:54.306998Z",
     "start_time": "2019-01-08T07:59:54.298227Z"
    }
   },
   "outputs": [
    {
     "name": "stdout",
     "output_type": "stream",
     "text": [
      "Hello stranger\n",
      "Hello graph\n"
     ]
    }
   ],
   "source": [
    "result = schema.execute('{ hello }')\n",
    "print(result.data['hello']) # \"Hello stranger\"\n",
    "\n",
    "# or passing the argument in the query\n",
    "result = schema.execute('{ hello (argument: \"graph\") }')\n",
    "print(result.data['hello']) # \"Hello graph\""
   ]
  },
  {
   "cell_type": "raw",
   "metadata": {
    "ExecuteTime": {
     "end_time": "2019-01-08T09:01:56.384720Z",
     "start_time": "2019-01-08T09:01:56.020865Z"
    }
   },
   "source": [
    "class Query(graphene.ObjectType):\n",
    "    user = graphene.Field(User)\n",
    "\n",
    "    def resolve_user(self, info):\n",
    "        return info.context.get('user')\n",
    "\n",
    "schema = graphene.Schema(Query)\n",
    "result = schema.execute(\n",
    "    '''query getUser($id: ID) {\n",
    "        user(id: $id) {\n",
    "            id\n",
    "            firstName\n",
    "            lastName\n",
    "        }\n",
    "    }''',\n",
    "    variables={'id': 12},\n",
    ")"
   ]
  },
  {
   "cell_type": "code",
   "execution_count": 4,
   "metadata": {
    "ExecuteTime": {
     "end_time": "2019-01-08T09:05:07.394044Z",
     "start_time": "2019-01-08T09:05:07.360281Z"
    }
   },
   "outputs": [
    {
     "name": "stdout",
     "output_type": "stream",
     "text": [
      "OrderedDict([('id', '1'), ('name', 'Syrus'), ('age', 27)])\n"
     ]
    }
   ],
   "source": [
    "import graphene\n",
    "\n",
    "\n",
    "class Patron(graphene.ObjectType):\n",
    "    id = graphene.ID()\n",
    "    name = graphene.String()\n",
    "    age = graphene.Int()\n",
    "\n",
    "\n",
    "class Query(graphene.ObjectType):\n",
    "\n",
    "    patron = graphene.Field(Patron)\n",
    "\n",
    "    def resolve_patron(self, info):\n",
    "        return Patron(id=1, name=\"Syrus\", age=27)\n",
    "\n",
    "\n",
    "schema = graphene.Schema(query=Query)\n",
    "query = \"\"\"\n",
    "    query something{\n",
    "      patron {\n",
    "        id\n",
    "        name\n",
    "        age\n",
    "      }\n",
    "    }\n",
    "\"\"\"\n",
    "\n",
    "\n",
    "def test_query():\n",
    "    result = schema.execute(query)\n",
    "    assert not result.errors\n",
    "    assert result.data == {\"patron\": {\"id\": \"1\", \"name\": \"Syrus\", \"age\": 27}}\n",
    "\n",
    "result = schema.execute(query)\n",
    "print(result.data[\"patron\"])"
   ]
  },
  {
   "cell_type": "code",
   "execution_count": 5,
   "metadata": {
    "ExecuteTime": {
     "end_time": "2019-01-08T09:07:31.031351Z",
     "start_time": "2019-01-08T09:07:30.988034Z"
    }
   },
   "outputs": [
    {
     "name": "stdout",
     "output_type": "stream",
     "text": [
      "OrderedDict([('id', 'X'), ('name', 'Console')])\n"
     ]
    }
   ],
   "source": [
    "import graphene\n",
    "\n",
    "\n",
    "class User(graphene.ObjectType):\n",
    "    id = graphene.ID()\n",
    "    name = graphene.String()\n",
    "\n",
    "\n",
    "class Query(graphene.ObjectType):\n",
    "    me = graphene.Field(User)\n",
    "\n",
    "    def resolve_me(self, info):\n",
    "        return info.context[\"user\"]\n",
    "\n",
    "\n",
    "schema = graphene.Schema(query=Query)\n",
    "query = \"\"\"\n",
    "    query something{\n",
    "      me {\n",
    "        id\n",
    "        name\n",
    "      }\n",
    "    }\n",
    "\"\"\"\n",
    "\n",
    "\n",
    "def test_query():\n",
    "    result = schema.execute(query, context={\"user\": User(id=\"1\", name=\"Syrus\")})\n",
    "    assert not result.errors\n",
    "    assert result.data == {\"me\": {\"id\": \"1\", \"name\": \"Syrus\"}}\n",
    "\n",
    "\n",
    "result = schema.execute(query, context={\"user\": User(id=\"X\", name=\"Console\")})\n",
    "print(result.data[\"me\"])\n"
   ]
  },
  {
   "cell_type": "code",
   "execution_count": 7,
   "metadata": {
    "ExecuteTime": {
     "end_time": "2019-01-08T18:06:47.688814Z",
     "start_time": "2019-01-08T18:06:47.675974Z"
    }
   },
   "outputs": [
    {
     "name": "stdout",
     "output_type": "stream",
     "text": [
      "#0 object(User) (2)\n",
      "    id => str(1) \"1\"\n",
      "    name => str(5) \"Syrus\"\n",
      "#0 object(User) (2)\n",
      "    id => str(1) \"1\"\n",
      "    name => str(3) \"Tom\"\n"
     ]
    }
   ],
   "source": [
    "from var_dump import var_dump\n",
    "user=User(id=\"1\", name=\"Syrus\")\n",
    "var_dump(user)\n",
    "setattr(user, \"name\", \"Tom\")\n",
    "var_dump(user)"
   ]
  }
 ],
 "metadata": {
  "kernelspec": {
   "display_name": "Python 3",
   "language": "python",
   "name": "python3"
  },
  "language_info": {
   "codemirror_mode": {
    "name": "ipython",
    "version": 3
   },
   "file_extension": ".py",
   "mimetype": "text/x-python",
   "name": "python",
   "nbconvert_exporter": "python",
   "pygments_lexer": "ipython3",
   "version": "3.6.4"
  },
  "varInspector": {
   "cols": {
    "lenName": 16,
    "lenType": 16,
    "lenVar": 40
   },
   "kernels_config": {
    "python": {
     "delete_cmd_postfix": "",
     "delete_cmd_prefix": "del ",
     "library": "var_list.py",
     "varRefreshCmd": "print(var_dic_list())"
    },
    "r": {
     "delete_cmd_postfix": ") ",
     "delete_cmd_prefix": "rm(",
     "library": "var_list.r",
     "varRefreshCmd": "cat(var_dic_list()) "
    }
   },
   "types_to_exclude": [
    "module",
    "function",
    "builtin_function_or_method",
    "instance",
    "_Feature"
   ],
   "window_display": false
  }
 },
 "nbformat": 4,
 "nbformat_minor": 2
}
