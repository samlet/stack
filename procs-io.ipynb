{
 "cells": [
  {
   "cell_type": "code",
   "execution_count": 6,
   "metadata": {
    "ExecuteTime": {
     "end_time": "2019-08-23T14:08:35.250541Z",
     "start_time": "2019-08-23T14:08:35.233143Z"
    }
   },
   "outputs": [
    {
     "name": "stdout",
     "output_type": "stream",
     "text": [
      "cn-Question-Parts.md\n",
      "cn-Samples_issue.md\n",
      "cn-ConcertBot.md\n"
     ]
    }
   ],
   "source": [
    "import glob\n",
    "import os\n",
    "prefix='mats/nlu_multilang'\n",
    "rs=glob.glob(f'{prefix}/corpus/cn-*.md')\n",
    "for f in rs:\n",
    "    print(os.path.basename(f))"
   ]
  },
  {
   "cell_type": "code",
   "execution_count": 10,
   "metadata": {
    "ExecuteTime": {
     "end_time": "2019-08-23T14:10:36.585662Z",
     "start_time": "2019-08-23T14:10:36.576248Z"
    }
   },
   "outputs": [
    {
     "data": {
      "text/plain": [
       "['mats/nlu_multilang/corpus/cn-Question-Parts.md',\n",
       " 'mats/nlu_multilang/corpus/cn-Samples_issue.md',\n",
       " 'mats/nlu_multilang/corpus/cn-ConcertBot.md']"
      ]
     },
     "execution_count": 10,
     "metadata": {},
     "output_type": "execute_result"
    }
   ],
   "source": [
    "rs"
   ]
  },
  {
   "cell_type": "code",
   "execution_count": 9,
   "metadata": {
    "ExecuteTime": {
     "end_time": "2019-08-23T14:10:03.087577Z",
     "start_time": "2019-08-23T14:10:03.069553Z"
    }
   },
   "outputs": [
    {
     "data": {
      "text/plain": [
       "['cn-Question-Parts.md', 'cn-Samples_issue.md', 'cn-ConcertBot.md']"
      ]
     },
     "execution_count": 9,
     "metadata": {},
     "output_type": "execute_result"
    }
   ],
   "source": [
    "names = [os.path.basename(x) for x in glob.glob(f'{prefix}/corpus/cn-*.md')]\n",
    "names"
   ]
  },
  {
   "cell_type": "code",
   "execution_count": 12,
   "metadata": {
    "ExecuteTime": {
     "end_time": "2019-08-23T14:11:30.966754Z",
     "start_time": "2019-08-23T14:11:30.952843Z"
    }
   },
   "outputs": [
    {
     "data": {
      "text/plain": [
       "['cn-Question-Parts.json', 'cn-Samples_issue.json', 'cn-ConcertBot.json']"
      ]
     },
     "execution_count": 12,
     "metadata": {},
     "output_type": "execute_result"
    }
   ],
   "source": [
    "targets=[f.replace('.md', '.json') for f in names]\n",
    "targets"
   ]
  },
  {
   "cell_type": "code",
   "execution_count": 16,
   "metadata": {
    "ExecuteTime": {
     "end_time": "2019-08-23T14:17:07.159497Z",
     "start_time": "2019-08-23T14:17:07.137563Z"
    }
   },
   "outputs": [
    {
     "data": {
      "text/plain": [
       "[('mats/nlu_multilang/corpus/cn-Question-Parts.md',\n",
       "  'zh/cn-Question-Parts.json'),\n",
       " ('mats/nlu_multilang/corpus/cn-Samples_issue.md', 'zh/cn-Samples_issue.json'),\n",
       " ('mats/nlu_multilang/corpus/cn-ConcertBot.md', 'zh/cn-ConcertBot.json')]"
      ]
     },
     "execution_count": 16,
     "metadata": {},
     "output_type": "execute_result"
    }
   ],
   "source": [
    "lang_prefix='cn'\n",
    "target_prefix='zh/'\n",
    "trans_files = [(x, target_prefix+os.path.basename(x).replace('.md', '.json')) for x in glob.glob(f'{prefix}/corpus/{lang_prefix}-*.md')]\n",
    "trans_files"
   ]
  },
  {
   "cell_type": "code",
   "execution_count": 17,
   "metadata": {
    "ExecuteTime": {
     "end_time": "2019-08-23T15:30:05.245102Z",
     "start_time": "2019-08-23T15:30:05.215824Z"
    }
   },
   "outputs": [
    {
     "data": {
      "text/plain": [
       "True"
      ]
     },
     "execution_count": 17,
     "metadata": {},
     "output_type": "execute_result"
    }
   ],
   "source": [
    "data = [False, False, False]\n",
    "not any(data)"
   ]
  },
  {
   "cell_type": "code",
   "execution_count": 19,
   "metadata": {
    "ExecuteTime": {
     "end_time": "2019-08-23T15:30:41.716600Z",
     "start_time": "2019-08-23T15:30:41.698982Z"
    }
   },
   "outputs": [
    {
     "name": "stdout",
     "output_type": "stream",
     "text": [
      "False\n",
      "True\n"
     ]
    }
   ],
   "source": [
    "data = [True, False, False]\n",
    "print(all(data))\n",
    "data = [True, True, True]\n",
    "print(all(data))"
   ]
  }
 ],
 "metadata": {
  "kernelspec": {
   "display_name": "Python 3",
   "language": "python",
   "name": "python3"
  },
  "language_info": {
   "codemirror_mode": {
    "name": "ipython",
    "version": 3
   },
   "file_extension": ".py",
   "mimetype": "text/x-python",
   "name": "python",
   "nbconvert_exporter": "python",
   "pygments_lexer": "ipython3",
   "version": "3.6.4"
  },
  "varInspector": {
   "cols": {
    "lenName": 16,
    "lenType": 16,
    "lenVar": 40
   },
   "kernels_config": {
    "python": {
     "delete_cmd_postfix": "",
     "delete_cmd_prefix": "del ",
     "library": "var_list.py",
     "varRefreshCmd": "print(var_dic_list())"
    },
    "r": {
     "delete_cmd_postfix": ") ",
     "delete_cmd_prefix": "rm(",
     "library": "var_list.r",
     "varRefreshCmd": "cat(var_dic_list()) "
    }
   },
   "types_to_exclude": [
    "module",
    "function",
    "builtin_function_or_method",
    "instance",
    "_Feature"
   ],
   "window_display": false
  }
 },
 "nbformat": 4,
 "nbformat_minor": 2
}
