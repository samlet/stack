{
 "cells": [
  {
   "cell_type": "code",
   "execution_count": 1,
   "metadata": {
    "ExecuteTime": {
     "end_time": "2018-12-19T06:54:28.165126Z",
     "start_time": "2018-12-19T06:54:28.146565Z"
    }
   },
   "outputs": [],
   "source": [
    "from rasa_core_sdk.forms import FormAction\n",
    "from rasa_core_sdk import Tracker, ActionExecutionRejection\n",
    "from rasa_core_sdk.executor import CollectingDispatcher\n",
    "from rasa_core_sdk.events import SlotSet, Form\n",
    "\n",
    "class CustomFormAction(FormAction):\n",
    "    def name(self):\n",
    "        return \"some_form\"\n",
    "\n",
    "    @staticmethod\n",
    "    def required_slots(_tracker):\n",
    "        return [\"some_slot\", \"some_other_slot\"]\n",
    "form = CustomFormAction()"
   ]
  },
  {
   "cell_type": "code",
   "execution_count": 2,
   "metadata": {
    "ExecuteTime": {
     "end_time": "2018-12-19T06:55:20.480985Z",
     "start_time": "2018-12-19T06:55:20.473252Z"
    }
   },
   "outputs": [],
   "source": [
    "tracker = Tracker('default', {'requested_slot': 'some_slot'},\n",
    "                  {'entities': [{'entity': 'some_slot',\n",
    "                                 'value': 'some_value'},\n",
    "                                {'entity': 'some_other_slot',\n",
    "                                 'value': 'some_other_value'}]},\n",
    "                  [], False, None, {}, 'action_listen')\n",
    "\n",
    "events = form.validate(CollectingDispatcher(), tracker, {})\n",
    "# check that validation succeed\n",
    "assert (events == [SlotSet('some_other_slot', 'some_other_value'),\n",
    "                   SlotSet('some_slot', 'some_value')] or\n",
    "        events == [SlotSet('some_slot', 'some_value'),\n",
    "                   SlotSet('some_other_slot', 'some_other_value')])"
   ]
  },
  {
   "cell_type": "code",
   "execution_count": 4,
   "metadata": {
    "ExecuteTime": {
     "end_time": "2018-12-19T06:55:53.647056Z",
     "start_time": "2018-12-19T06:55:53.641796Z"
    }
   },
   "outputs": [
    {
     "name": "stdout",
     "output_type": "stream",
     "text": [
      "{'event': 'slot', 'timestamp': None, 'name': 'some_other_slot', 'value': 'some_other_value'}\n",
      "{'event': 'slot', 'timestamp': None, 'name': 'some_slot', 'value': 'some_value'}\n"
     ]
    }
   ],
   "source": [
    "for ev in events:\n",
    "    print(ev)"
   ]
  }
 ],
 "metadata": {
  "kernelspec": {
   "display_name": "Python 3",
   "language": "python",
   "name": "python3"
  },
  "language_info": {
   "codemirror_mode": {
    "name": "ipython",
    "version": 3
   },
   "file_extension": ".py",
   "mimetype": "text/x-python",
   "name": "python",
   "nbconvert_exporter": "python",
   "pygments_lexer": "ipython3",
   "version": "3.6.4"
  },
  "varInspector": {
   "cols": {
    "lenName": 16,
    "lenType": 16,
    "lenVar": 40
   },
   "kernels_config": {
    "python": {
     "delete_cmd_postfix": "",
     "delete_cmd_prefix": "del ",
     "library": "var_list.py",
     "varRefreshCmd": "print(var_dic_list())"
    },
    "r": {
     "delete_cmd_postfix": ") ",
     "delete_cmd_prefix": "rm(",
     "library": "var_list.r",
     "varRefreshCmd": "cat(var_dic_list()) "
    }
   },
   "types_to_exclude": [
    "module",
    "function",
    "builtin_function_or_method",
    "instance",
    "_Feature"
   ],
   "window_display": false
  }
 },
 "nbformat": 4,
 "nbformat_minor": 2
}
