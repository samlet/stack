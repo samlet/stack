{
 "cells": [
  {
   "cell_type": "code",
   "execution_count": 1,
   "metadata": {
    "ExecuteTime": {
     "end_time": "2018-12-18T16:40:57.673727Z",
     "start_time": "2018-12-18T16:40:57.668533Z"
    }
   },
   "outputs": [],
   "source": [
    "filename=\"./talk/common-Restaurant.md\"\n",
    "f = open(filename)\n",
    "lines=f.readlines()\n",
    "f.close()"
   ]
  },
  {
   "cell_type": "code",
   "execution_count": 16,
   "metadata": {
    "ExecuteTime": {
     "end_time": "2018-12-18T17:13:08.091963Z",
     "start_time": "2018-12-18T17:13:08.086163Z"
    }
   },
   "outputs": [
    {
     "name": "stdout",
     "output_type": "stream",
     "text": [
      "default\n",
      "sorry, I didn't understand you, please try input something else\n"
     ]
    }
   ],
   "source": [
    "raw='''* default \"sorry, I didn't understand you, please try input something else\"\n",
    "'''\n",
    "parts=raw[2:].split('\"')\n",
    "print(parts[0].strip())\n",
    "print(parts[1])"
   ]
  },
  {
   "cell_type": "code",
   "execution_count": 42,
   "metadata": {
    "ExecuteTime": {
     "end_time": "2018-12-18T17:54:50.645535Z",
     "start_time": "2018-12-18T17:54:50.524683Z"
    }
   },
   "outputs": [],
   "source": [
    "import yaml\n",
    "\n",
    "class IntentForm:\n",
    "    def __init__(self):\n",
    "        self.form_name=\"_unname_\"\n",
    "        self.lines=[]\n",
    "    def print_form(self):        \n",
    "        print(yaml.dump(self.get_form()))\n",
    "    def get_form(self):\n",
    "        document=\"\".join(intent.form.lines)\n",
    "        return yaml.load(document)\n",
    "\n",
    "class IntentStory:\n",
    "    def __init__(self):\n",
    "        self.story_name=\"_unname_\"\n",
    "        self.lines=[]\n",
    "    \n",
    "class IntentSection:    \n",
    "    def __init__(self, intent_name):\n",
    "        self.intent_name=intent_name\n",
    "        self.lines=[]\n",
    "        self.attributes={}\n",
    "        self.form=IntentForm()\n",
    "        self.story=IntentStory()\n",
    "        self.in_form=False\n",
    "        self.in_story=False\n",
    "    def add_intent_attr(self, attr_name, attr_cnt):\n",
    "        self.attributes[attr_name]=attr_cnt\n",
    "    def add_line(self, line):    \n",
    "        if self.in_form and line.startswith(\"```\"):\n",
    "            self.in_form=False\n",
    "            return                            \n",
    "        if self.in_form:\n",
    "            self.form.lines.append(line)\n",
    "            return\n",
    "        \n",
    "        if self.in_story and not line.startswith(\"  \"):\n",
    "            self.in_story=False\n",
    "        elif self.in_story:\n",
    "            self.story.lines.append(line)\n",
    "            return\n",
    "            \n",
    "        if line.startswith(\"* \"):\n",
    "            parts=line[2:].split('\"')\n",
    "            self.add_intent_attr(parts[0].strip(), parts[1])\n",
    "        elif line.startswith(\"@ form \"):\n",
    "            self.form.form_name=line[len(\"@ form \"):].strip()\n",
    "        elif line.startswith(\"@ story \"):\n",
    "            self.story.story_name=line[len(\"@ story \"):].strip()\n",
    "            self.in_story=True\n",
    "        elif line.startswith(\"```yaml\"):\n",
    "            self.in_form=True\n",
    "        else:\n",
    "            self.lines.append(line)\n"
   ]
  },
  {
   "cell_type": "code",
   "execution_count": 43,
   "metadata": {
    "ExecuteTime": {
     "end_time": "2018-12-18T17:54:55.353629Z",
     "start_time": "2018-12-18T17:54:55.298517Z"
    }
   },
   "outputs": [
    {
     "name": "stdout",
     "output_type": "stream",
     "text": [
      "☈ request restaurant\n",
      "☈ affirm restaurant\n",
      "☈ inform\n"
     ]
    }
   ],
   "source": [
    "def parse_lines(lines):\n",
    "    intents=[]\n",
    "    intent=IntentSection(\"_head__\")\n",
    "    for line in lines:\n",
    "        line_s=line.strip()\n",
    "        if line.startswith(\"##\"):        \n",
    "            intent_name=line[3:].strip()\n",
    "            print(\"☈\", intent_name)\n",
    "            intent=IntentSection(intent_name)\n",
    "            intents.append(intent)\n",
    "        elif len(line_s)==0 or line_s.startswith(\"#\"):\n",
    "            pass\n",
    "        else:\n",
    "            intent.add_line(line)\n",
    "    return intents\n",
    "\n",
    "def get_intent(intents, intent_name):\n",
    "    it = next((x for x in intents if x.intent_name==intent_name), None)\n",
    "    return it\n",
    "\n",
    "intents=parse_lines(lines)"
   ]
  },
  {
   "cell_type": "code",
   "execution_count": 11,
   "metadata": {
    "ExecuteTime": {
     "end_time": "2018-12-18T17:03:06.952035Z",
     "start_time": "2018-12-18T17:03:06.946490Z"
    }
   },
   "outputs": [
    {
     "name": "stdout",
     "output_type": "stream",
     "text": [
      "yeah a cheap restaurant serving international food\n",
      "\n"
     ]
    }
   ],
   "source": [
    "it = next((x for x in intents if x.intent_name==\"affirm restaurant\"), None)\n",
    "print(\"\".join(it.lines))"
   ]
  },
  {
   "cell_type": "code",
   "execution_count": 19,
   "metadata": {
    "ExecuteTime": {
     "end_time": "2018-12-18T17:26:45.395506Z",
     "start_time": "2018-12-18T17:26:45.390251Z"
    }
   },
   "outputs": [
    {
     "name": "stdout",
     "output_type": "stream",
     "text": [
      "im looking for a restaurant\n",
      "can i get [cuisine:o](swedish) food in any area\n",
      "a restaurant that serves [cuisine:o](caribbean) food\n",
      "id like a restaurant\n",
      "im looking for a restaurant that serves [cuisine:o](mediterranean) food\n",
      "can i find a restaurant that serves [cuisine:o](chinese)\n",
      "i need to find a restaurant\n",
      "uh im looking for a restaurant that serves [cuisine:o](kosher) food\n",
      "uh can i find a restaurant and it should serve [cuisine:o](brazilian) food\n",
      "im looking for a restaurant serving [cuisine:o](italian) food\n",
      "restaurant please\n",
      "i'd like to book a table for [num_people:n](two) with [cuisine:o](brazilian) cuisine\n",
      "i need a table for [num_people:n](4)\n",
      "\n"
     ]
    }
   ],
   "source": [
    "it = next((x for x in intents if x.intent_name==\"request restaurant\"), None)\n",
    "print(\"\".join(it.lines))"
   ]
  },
  {
   "cell_type": "code",
   "execution_count": 23,
   "metadata": {
    "ExecuteTime": {
     "end_time": "2018-12-18T17:31:46.447052Z",
     "start_time": "2018-12-18T17:31:46.438218Z"
    }
   },
   "outputs": [
    {
     "name": "stdout",
     "output_type": "stream",
     "text": [
      "restaurant\n",
      "{'default': \"sorry, I didn't understand you, please try input something else\", 'submit': 'done!'}\n",
      "fields:\n",
      "  cuisine:\n",
      "    text: \"what cuisine?\"\n",
      "  num_people:\n",
      "    text: \"how many people?\"\n",
      "    type: number\n",
      "  outdoor_seating:\n",
      "    text: \"do you want to seat outside?\"\n",
      "    type: boolean\n",
      "  preferences:\n",
      "    text: \"please provide additional preferences\"\n",
      "  feedback:\n",
      "    text: \"please give your feedback\"\n",
      "\n"
     ]
    }
   ],
   "source": [
    "intent=get_intent(intents, \"request restaurant\")\n",
    "print(intent.form.form_name)\n",
    "print(intent.attributes)\n",
    "print(\"\".join(intent.form.lines))"
   ]
  },
  {
   "cell_type": "code",
   "execution_count": 25,
   "metadata": {
    "ExecuteTime": {
     "end_time": "2018-12-18T17:33:28.281865Z",
     "start_time": "2018-12-18T17:33:28.273714Z"
    }
   },
   "outputs": [
    {
     "name": "stdout",
     "output_type": "stream",
     "text": [
      "fields:\n",
      "  cuisine: {text: 'what cuisine?'}\n",
      "  feedback: {text: please give your feedback}\n",
      "  num_people: {text: 'how many people?', type: number}\n",
      "  outdoor_seating: {text: 'do you want to seat outside?', type: boolean}\n",
      "  preferences: {text: please provide additional preferences}\n",
      "\n"
     ]
    }
   ],
   "source": [
    "import yaml\n",
    "document=\"\".join(intent.form.lines)\n",
    "print(yaml.dump(yaml.load(document)))"
   ]
  },
  {
   "cell_type": "code",
   "execution_count": 40,
   "metadata": {
    "ExecuteTime": {
     "end_time": "2018-12-18T17:41:27.848693Z",
     "start_time": "2018-12-18T17:41:27.834309Z"
    }
   },
   "outputs": [
    {
     "name": "stdout",
     "output_type": "stream",
     "text": [
      "fields:\n",
      "  cuisine: {text: 'what cuisine?'}\n",
      "  feedback: {text: please give your feedback}\n",
      "  num_people: {text: 'how many people?', type: number}\n",
      "  outdoor_seating: {text: 'do you want to seat outside?', type: boolean}\n",
      "  preferences: {text: please provide additional preferences}\n",
      "\n",
      "cuisine\n",
      "num_people\n",
      "outdoor_seating\n",
      "preferences\n",
      "feedback\n",
      "num_people.type = number\n"
     ]
    }
   ],
   "source": [
    "intent=get_intent(intents, \"request restaurant\")\n",
    "intent.form.print_form()\n",
    "form=intent.form.get_form()\n",
    "for fld in form[\"fields\"]:\n",
    "    print(fld)\n",
    "fields=form[\"fields\"]\n",
    "print(\"num_people.type\", \"=\", fields[\"num_people\"][\"type\"])"
   ]
  }
 ],
 "metadata": {
  "kernelspec": {
   "display_name": "Python 3",
   "language": "python",
   "name": "python3"
  },
  "language_info": {
   "codemirror_mode": {
    "name": "ipython",
    "version": 3
   },
   "file_extension": ".py",
   "mimetype": "text/x-python",
   "name": "python",
   "nbconvert_exporter": "python",
   "pygments_lexer": "ipython3",
   "version": "3.6.4"
  },
  "varInspector": {
   "cols": {
    "lenName": 16,
    "lenType": 16,
    "lenVar": 40
   },
   "kernels_config": {
    "python": {
     "delete_cmd_postfix": "",
     "delete_cmd_prefix": "del ",
     "library": "var_list.py",
     "varRefreshCmd": "print(var_dic_list())"
    },
    "r": {
     "delete_cmd_postfix": ") ",
     "delete_cmd_prefix": "rm(",
     "library": "var_list.r",
     "varRefreshCmd": "cat(var_dic_list()) "
    }
   },
   "types_to_exclude": [
    "module",
    "function",
    "builtin_function_or_method",
    "instance",
    "_Feature"
   ],
   "window_display": false
  }
 },
 "nbformat": 4,
 "nbformat_minor": 2
}
