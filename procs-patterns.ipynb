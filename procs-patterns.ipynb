{
 "cells": [
  {
   "cell_type": "code",
   "execution_count": 26,
   "metadata": {
    "ExecuteTime": {
     "end_time": "2018-12-29T12:19:55.244762Z",
     "start_time": "2018-12-29T12:19:55.238811Z"
    }
   },
   "outputs": [],
   "source": [
    "# doesn't work on module level\n",
    "def load_c(file):\n",
    "    with open(file) as f:\n",
    "        code = compile(f.read(), file, 'exec')\n",
    "        exec(code)\n",
    "load_c(\"singleton.py\")"
   ]
  },
  {
   "cell_type": "code",
   "execution_count": 25,
   "metadata": {
    "ExecuteTime": {
     "end_time": "2018-12-29T12:19:53.450139Z",
     "start_time": "2018-12-29T12:19:53.445208Z"
    }
   },
   "outputs": [],
   "source": [
    "# doesn't work on module level\n",
    "import runpy\n",
    "file_globals = runpy.run_path(\"singleton.py\")"
   ]
  },
  {
   "cell_type": "markdown",
   "metadata": {},
   "source": [
    "⊕ [imp — Access the import internals — Python 3.7.2 documentation](https://docs.python.org/3/library/imp.html#imp.reload)\n"
   ]
  },
  {
   "cell_type": "code",
   "execution_count": 21,
   "metadata": {
    "ExecuteTime": {
     "end_time": "2018-12-29T12:18:34.402278Z",
     "start_time": "2018-12-29T12:18:34.393730Z"
    }
   },
   "outputs": [
    {
     "data": {
      "text/plain": [
       "<module 'singleton' from '/Users/xiaofeiwu/jcloud/assets/langs/workspace/rasa/stack/singleton.py'>"
      ]
     },
     "execution_count": 21,
     "metadata": {},
     "output_type": "execute_result"
    }
   ],
   "source": [
    "# work on module level\n",
    "import singleton\n",
    "import imp\n",
    "imp.reload(singleton)"
   ]
  },
  {
   "cell_type": "code",
   "execution_count": 23,
   "metadata": {
    "ExecuteTime": {
     "end_time": "2018-12-29T12:18:42.942392Z",
     "start_time": "2018-12-29T12:18:42.934386Z"
    }
   },
   "outputs": [],
   "source": [
    "import os\n",
    "\n",
    "class AddressExtractor(singleton.Singleton):\n",
    "    def __init__(self):\n",
    "        print('load ltp model start...')\n",
    "\n",
    "        pwd = os.getcwd()\n",
    "        project_path = os.path.abspath(os.path.dirname(pwd) + os.path.sep + \".\")\n",
    "        print(project_path)\n",
    "    "
   ]
  },
  {
   "cell_type": "code",
   "execution_count": 24,
   "metadata": {
    "ExecuteTime": {
     "end_time": "2018-12-29T12:18:44.864480Z",
     "start_time": "2018-12-29T12:18:44.857425Z"
    }
   },
   "outputs": [
    {
     "name": "stdout",
     "output_type": "stream",
     "text": [
      "* create one.\n",
      "load ltp model start...\n",
      "/Users/xiaofeiwu/jcloud/assets/langs/workspace/rasa\n",
      "load ltp model start...\n",
      "/Users/xiaofeiwu/jcloud/assets/langs/workspace/rasa\n"
     ]
    }
   ],
   "source": [
    "x1=AddressExtractor()\n",
    "x2=AddressExtractor()"
   ]
  }
 ],
 "metadata": {
  "kernelspec": {
   "display_name": "Python 3",
   "language": "python",
   "name": "python3"
  },
  "language_info": {
   "codemirror_mode": {
    "name": "ipython",
    "version": 3
   },
   "file_extension": ".py",
   "mimetype": "text/x-python",
   "name": "python",
   "nbconvert_exporter": "python",
   "pygments_lexer": "ipython3",
   "version": "3.6.4"
  },
  "varInspector": {
   "cols": {
    "lenName": 16,
    "lenType": 16,
    "lenVar": 40
   },
   "kernels_config": {
    "python": {
     "delete_cmd_postfix": "",
     "delete_cmd_prefix": "del ",
     "library": "var_list.py",
     "varRefreshCmd": "print(var_dic_list())"
    },
    "r": {
     "delete_cmd_postfix": ") ",
     "delete_cmd_prefix": "rm(",
     "library": "var_list.r",
     "varRefreshCmd": "cat(var_dic_list()) "
    }
   },
   "types_to_exclude": [
    "module",
    "function",
    "builtin_function_or_method",
    "instance",
    "_Feature"
   ],
   "window_display": false
  }
 },
 "nbformat": 4,
 "nbformat_minor": 2
}
