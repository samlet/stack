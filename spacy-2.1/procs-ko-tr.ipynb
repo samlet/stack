{
 "cells": [
  {
   "cell_type": "code",
   "execution_count": 1,
   "metadata": {
    "ExecuteTime": {
     "end_time": "2019-07-17T00:33:28.939603Z",
     "start_time": "2019-07-17T00:33:26.127063Z"
    }
   },
   "outputs": [
    {
     "name": "stdout",
     "output_type": "stream",
     "text": [
      "✁ I have two refrigerators(나는 냉장고가 두 개있다. ❣ naneun naengjang-goga du gaeissda.)\n",
      "I(나는, naneun) have(있다, issda) two(두, du) refrigerators(냉장고, naengjang-go) .\n"
     ]
    }
   ],
   "source": [
    "from sagas.nlu.trans_helper import process_en_th\n",
    "process_en_th('I have two refrigerators', 'ko')"
   ]
  },
  {
   "cell_type": "code",
   "execution_count": 3,
   "metadata": {
    "ExecuteTime": {
     "end_time": "2019-07-17T00:35:46.576116Z",
     "start_time": "2019-07-17T00:35:43.294762Z"
    }
   },
   "outputs": [
    {
     "name": "stdout",
     "output_type": "stream",
     "text": [
      "✁ 그렇게 큰 규모는 아니었습니다.(它不是那么大。 ❣ geuleohge keun gyumoneun anieossseubnida.)\n",
      "그렇게(所以, geuleohge) 큰(伟大, keun) 규모는(规模, gyumoneun) 아니었습니다.(事实并非如此。, anieossseubnida.) .\n"
     ]
    }
   ],
   "source": [
    "from sagas.ko.korea_processor import KoreaProcessor\n",
    "kp=KoreaProcessor()\n",
    "kp.process('ko', 'zh', '그렇게 큰 규모는 아니었습니다.')"
   ]
  },
  {
   "cell_type": "code",
   "execution_count": 4,
   "metadata": {
    "ExecuteTime": {
     "end_time": "2019-07-17T00:36:32.604503Z",
     "start_time": "2019-07-17T00:36:29.932183Z"
    }
   },
   "outputs": [
    {
     "name": "stdout",
     "output_type": "stream",
     "text": [
      "✁ 그렇게 큰 규모는 아니었습니다.(It was not that big. ❣ geuleohge keun gyumoneun anieossseubnida.)\n",
      "그렇게(like that, geuleohge) 큰(large, keun) 규모는(The scale, gyumoneun) 아니었습니다.(It was not., anieossseubnida.) .\n"
     ]
    }
   ],
   "source": [
    "kp.process('ko', 'en', '그렇게 큰 규모는 아니었습니다.', 0)"
   ]
  },
  {
   "cell_type": "code",
   "execution_count": 5,
   "metadata": {
    "ExecuteTime": {
     "end_time": "2019-07-17T00:38:00.424993Z",
     "start_time": "2019-07-17T00:37:57.249109Z"
    }
   },
   "outputs": [
    {
     "name": "stdout",
     "output_type": "stream",
     "text": [
      "✁ 나는 냉장고가 두 개있다.(I have two refrigerators. ❣ naneun naengjang-goga du gaeissda.)\n",
      "나는(I, naneun) 냉장고가(Refrigerator, naengjang-goga) 두(two, du) 개있다.(There are dogs., gaeissda.) .\n"
     ]
    }
   ],
   "source": [
    "kp.process('ko', 'en', '나는 냉장고가 두 개있다.', 0)"
   ]
  }
 ],
 "metadata": {
  "kernelspec": {
   "display_name": "Python 3",
   "language": "python",
   "name": "python3"
  },
  "language_info": {
   "codemirror_mode": {
    "name": "ipython",
    "version": 3
   },
   "file_extension": ".py",
   "mimetype": "text/x-python",
   "name": "python",
   "nbconvert_exporter": "python",
   "pygments_lexer": "ipython3",
   "version": "3.7.3"
  },
  "varInspector": {
   "cols": {
    "lenName": 16,
    "lenType": 16,
    "lenVar": 40
   },
   "kernels_config": {
    "python": {
     "delete_cmd_postfix": "",
     "delete_cmd_prefix": "del ",
     "library": "var_list.py",
     "varRefreshCmd": "print(var_dic_list())"
    },
    "r": {
     "delete_cmd_postfix": ") ",
     "delete_cmd_prefix": "rm(",
     "library": "var_list.r",
     "varRefreshCmd": "cat(var_dic_list()) "
    }
   },
   "types_to_exclude": [
    "module",
    "function",
    "builtin_function_or_method",
    "instance",
    "_Feature"
   ],
   "window_display": false
  }
 },
 "nbformat": 4,
 "nbformat_minor": 2
}
