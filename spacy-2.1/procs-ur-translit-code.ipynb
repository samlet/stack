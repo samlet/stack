{
 "cells": [
  {
   "cell_type": "code",
   "execution_count": 8,
   "metadata": {
    "ExecuteTime": {
     "end_time": "2019-09-09T12:04:22.145488Z",
     "start_time": "2019-09-09T12:04:22.132296Z"
    }
   },
   "outputs": [
    {
     "name": "stdout",
     "output_type": "stream",
     "text": [
      "KANONY\n"
     ]
    }
   ],
   "source": [
    "# https://dev.to/shanalikhan/transliterate-urdu-to-roman-urdu-in-python-4hjg\n",
    "# https://www.ijunoon.com/transliteration/urdu-to-roman/\n",
    "buck2uni = {\n",
    "            u\"\\u0627\":\"A\",\n",
    "            u\"\\u0627\":\"A\", \n",
    "            u\"\\u0675\":\"A\", \n",
    "            u\"\\u0673\":\"A\", \n",
    "            u\"\\u0630\":\"A\", \n",
    "            u\"\\u0622\":\"AA\", \n",
    "            u\"\\u0628\":\"B\", \n",
    "            u\"\\u067E\":\"P\", \n",
    "            u\"\\u062A\":\"T\", \n",
    "            u\"\\u0637\":\"T\", \n",
    "            u\"\\u0679\":\"T\", \n",
    "            u\"\\u062C\":\"J\", \n",
    "            u\"\\u0633\":\"S\", \n",
    "            u\"\\u062B\":\"S\", \n",
    "            u\"\\u0635\":\"S\", \n",
    "            u\"\\u0686\":\"CH\", \n",
    "            u\"\\u062D\":\"H\", \n",
    "            u\"\\u0647\":\"H\", \n",
    "            u\"\\u0629\":\"H\", \n",
    "            u\"\\u06DF\":\"H\", \n",
    "            u\"\\u062E\":\"KH\", \n",
    "            u\"\\u062F\":\"D\", \n",
    "            u\"\\u0688\":\"D\", \n",
    "            u\"\\u0630\":\"Z\", \n",
    "            u\"\\u0632\":\"Z\", \n",
    "            u\"\\u0636\":\"Z\", \n",
    "            u\"\\u0638\":\"Z\", \n",
    "            u\"\\u068E\":\"Z\", \n",
    "            u\"\\u0631\":\"R\", \n",
    "            u\"\\u0691\":\"R\", \n",
    "            u\"\\u0634\":\"SH\", \n",
    "            u\"\\u063A\":\"GH\", \n",
    "            u\"\\u0641\":\"F\", \n",
    "            u\"\\u06A9\":\"K\", \n",
    "            u\"\\u0642\":\"K\", \n",
    "            u\"\\u06AF\":\"G\", \n",
    "            u\"\\u0644\":\"L\", \n",
    "            u\"\\u0645\":\"M\", \n",
    "            u\"\\u0646\":\"N\", \n",
    "            u\"\\u06BA\":\"N\", \n",
    "            u\"\\u0648\":\"O\", \n",
    "            u\"\\u0649\":\"Y\", \n",
    "            u\"\\u0626\":\"Y\", \n",
    "            u\"\\u06CC\":\"Y\", \n",
    "\n",
    "            u\"\\u06D2\":\"E\", \n",
    "            u\"\\u06C1\":\"H\",\n",
    "            u\"\\u064A\":\"E\"  ,\n",
    "            u\"\\u06C2\":\"AH\"  ,\n",
    "            u\"\\u06BE\":\"H\"  ,\n",
    "            u\"\\u0639\":\"A\"  ,\n",
    "            u\"\\u0643\":\"K\" ,\n",
    "            u\"\\u0621\":\"A\",\n",
    "            u\"\\u0624\":\"O\",\n",
    "            u\"\\u060C\":\"\" #seperator ulta comma\n",
    "}\n",
    "\n",
    "def transString(string, reverse=0):\n",
    "    '''Given a Unicode string, transliterate into Buckwalter. To go from\n",
    "    Buckwalter back to Unicode, set reverse=1'''\n",
    "\n",
    "    for k, v in buck2uni.items():\n",
    "      if not reverse:\n",
    "            string = string.replace(k, v)\n",
    "      else:\n",
    "            string = string.replace(v, k)\n",
    "\n",
    "    return string\n",
    "\n",
    "word = 'قانونی'\n",
    "# word.decode('utf-8', 'ignore')\n",
    "# print(unicode(word, \"utf-8\"))\n",
    "print(transString(word))"
   ]
  },
  {
   "cell_type": "code",
   "execution_count": 4,
   "metadata": {
    "ExecuteTime": {
     "end_time": "2019-09-09T11:53:06.499451Z",
     "start_time": "2019-09-09T11:53:06.493857Z"
    }
   },
   "outputs": [
    {
     "name": "stdout",
     "output_type": "stream",
     "text": [
      "oh amyr he۔\n"
     ]
    }
   ],
   "source": [
    "print(transString('وہ امیر ہے۔').lower())"
   ]
  },
  {
   "cell_type": "code",
   "execution_count": 6,
   "metadata": {
    "ExecuteTime": {
     "end_time": "2019-09-09T11:55:25.631692Z",
     "start_time": "2019-09-09T11:55:25.625412Z"
    }
   },
   "outputs": [],
   "source": [
    "# from sagas.nlu.transliterations import translit\n"
   ]
  }
 ],
 "metadata": {
  "kernelspec": {
   "display_name": "Python 3",
   "language": "python",
   "name": "python3"
  },
  "language_info": {
   "codemirror_mode": {
    "name": "ipython",
    "version": 3
   },
   "file_extension": ".py",
   "mimetype": "text/x-python",
   "name": "python",
   "nbconvert_exporter": "python",
   "pygments_lexer": "ipython3",
   "version": "3.7.3"
  },
  "varInspector": {
   "cols": {
    "lenName": 16,
    "lenType": 16,
    "lenVar": 40
   },
   "kernels_config": {
    "python": {
     "delete_cmd_postfix": "",
     "delete_cmd_prefix": "del ",
     "library": "var_list.py",
     "varRefreshCmd": "print(var_dic_list())"
    },
    "r": {
     "delete_cmd_postfix": ") ",
     "delete_cmd_prefix": "rm(",
     "library": "var_list.r",
     "varRefreshCmd": "cat(var_dic_list()) "
    }
   },
   "types_to_exclude": [
    "module",
    "function",
    "builtin_function_or_method",
    "instance",
    "_Feature"
   ],
   "window_display": false
  }
 },
 "nbformat": 4,
 "nbformat_minor": 2
}
