{
 "cells": [
  {
   "cell_type": "markdown",
   "metadata": {},
   "source": [
    "* https://dateparser.readthedocs.io/en/latest/\n",
    "\n",
    "## Supported Calendars\n",
    "- Gregorian calendar.\n",
    "\n",
    "- Persian Jalali calendar. For more information, refer to Persian Jalali Calendar.\n",
    "\n",
    "- Hijri/Islamic Calendar. For more information, refer to Hijri Calendar."
   ]
  },
  {
   "cell_type": "code",
   "execution_count": 1,
   "metadata": {
    "ExecuteTime": {
     "end_time": "2019-09-14T07:43:12.745337Z",
     "start_time": "2019-09-14T07:43:12.500236Z"
    }
   },
   "outputs": [
    {
     "data": {
      "text/plain": [
       "{'date_obj': datetime.datetime(2009, 3, 20, 0, 0), 'period': 'day'}"
      ]
     },
     "execution_count": 1,
     "metadata": {},
     "output_type": "execute_result"
    }
   ],
   "source": [
    ">>> from dateparser.calendars.jalali import JalaliCalendar\n",
    ">>> JalaliCalendar(u'جمعه سی ام اسفند ۱۳۸۷').get_date()"
   ]
  },
  {
   "cell_type": "code",
   "execution_count": 2,
   "metadata": {
    "ExecuteTime": {
     "end_time": "2019-09-14T07:49:08.687672Z",
     "start_time": "2019-09-14T07:49:08.681700Z"
    }
   },
   "outputs": [],
   "source": [
    "# >>> from dateparser.calendars.hijri import HijriCalendar\n",
    "# >>> HijriCalendar(u'17-01-1437 هـ 08:30 مساءً').get_date()"
   ]
  },
  {
   "cell_type": "markdown",
   "metadata": {},
   "source": [
    "⊕ [sobhe/hazm: Python library for digesting Persian text.](https://github.com/sobhe/hazm)\n"
   ]
  },
  {
   "cell_type": "code",
   "execution_count": 2,
   "metadata": {
    "ExecuteTime": {
     "end_time": "2019-09-14T15:12:01.300841Z",
     "start_time": "2019-09-14T15:11:59.802043Z"
    }
   },
   "outputs": [
    {
     "data": {
      "text/plain": [
       "'اصلاح نویسه\\u200cها و استفاده از نیم\\u200cفاصله پردازش را آسان می\\u200cکند'"
      ]
     },
     "execution_count": 2,
     "metadata": {},
     "output_type": "execute_result"
    }
   ],
   "source": [
    ">>> from __future__ import unicode_literals\n",
    ">>> from hazm import *\n",
    "\n",
    ">>> normalizer = Normalizer()\n",
    ">>> normalizer.normalize('اصلاح نويسه ها و استفاده از نیم‌فاصله پردازش را آسان مي كند')"
   ]
  },
  {
   "cell_type": "code",
   "execution_count": 2,
   "metadata": {
    "ExecuteTime": {
     "end_time": "2019-09-14T15:10:51.726255Z",
     "start_time": "2019-09-14T15:10:51.715682Z"
    }
   },
   "outputs": [
    {
     "data": {
      "text/plain": [
       "['ما هم برای وصل کردن آمدیم!', 'ولی برای پردازش، جدا بهتر نیست؟']"
      ]
     },
     "execution_count": 2,
     "metadata": {},
     "output_type": "execute_result"
    }
   ],
   "source": [
    "sent_tokenize('ما هم برای وصل کردن آمدیم! ولی برای پردازش، جدا بهتر نیست؟')"
   ]
  },
  {
   "cell_type": "code",
   "execution_count": 4,
   "metadata": {
    "ExecuteTime": {
     "end_time": "2019-09-14T15:11:08.559857Z",
     "start_time": "2019-09-14T15:11:08.551255Z"
    }
   },
   "outputs": [
    {
     "data": {
      "text/plain": [
       "['ولی', 'برای', 'پردازش', '،', 'جدا', 'بهتر', 'نیست', '؟']"
      ]
     },
     "execution_count": 4,
     "metadata": {},
     "output_type": "execute_result"
    }
   ],
   "source": [
    "word_tokenize('ولی برای پردازش، جدا بهتر نیست؟')"
   ]
  },
  {
   "cell_type": "code",
   "execution_count": 5,
   "metadata": {
    "ExecuteTime": {
     "end_time": "2019-09-14T15:11:21.769282Z",
     "start_time": "2019-09-14T15:11:21.746223Z"
    }
   },
   "outputs": [
    {
     "data": {
      "text/plain": [
       "'کتاب'"
      ]
     },
     "execution_count": 5,
     "metadata": {},
     "output_type": "execute_result"
    }
   ],
   "source": [
    ">>> stemmer = Stemmer()\n",
    ">>> stemmer.stem('کتاب‌ها')"
   ]
  },
  {
   "cell_type": "code",
   "execution_count": 5,
   "metadata": {
    "ExecuteTime": {
     "end_time": "2019-09-14T15:24:20.062653Z",
     "start_time": "2019-09-14T15:24:19.660779Z"
    }
   },
   "outputs": [
    {
     "data": {
      "text/plain": [
       "'رفت#رو'"
      ]
     },
     "execution_count": 5,
     "metadata": {},
     "output_type": "execute_result"
    }
   ],
   "source": [
    ">>> lemmatizer = Lemmatizer()\n",
    ">>> lemmatizer.lemmatize('می‌روم')"
   ]
  },
  {
   "cell_type": "code",
   "execution_count": 2,
   "metadata": {
    "ExecuteTime": {
     "end_time": "2019-09-14T15:23:46.623599Z",
     "start_time": "2019-09-14T15:23:43.838304Z"
    }
   },
   "outputs": [
    {
     "data": {
      "text/plain": [
       "[('ما', 'PRO'), ('بسیار', 'ADV'), ('کتاب', 'N'), ('می\\u200cخوانیم', 'V')]"
      ]
     },
     "execution_count": 2,
     "metadata": {},
     "output_type": "execute_result"
    }
   ],
   "source": [
    "tagger = POSTagger(model='/pi/fa/resources/postagger.model')\n",
    "tagger.tag(word_tokenize('ما بسیار کتاب می‌خوانیم'))"
   ]
  },
  {
   "cell_type": "code",
   "execution_count": 3,
   "metadata": {
    "ExecuteTime": {
     "end_time": "2019-09-14T15:23:52.651346Z",
     "start_time": "2019-09-14T15:23:52.420975Z"
    }
   },
   "outputs": [
    {
     "data": {
      "text/plain": [
       "'[کتاب خواندن NP] [را POSTP] [دوست داریم VP]'"
      ]
     },
     "execution_count": 3,
     "metadata": {},
     "output_type": "execute_result"
    }
   ],
   "source": [
    "from hazm import *\n",
    "chunker = Chunker(model='/pi/fa/resources/chunker.model')\n",
    "tagged = tagger.tag(word_tokenize('کتاب خواندن را دوست داریم'))\n",
    "tree2brackets(chunker.parse(tagged))"
   ]
  },
  {
   "cell_type": "code",
   "execution_count": 10,
   "metadata": {
    "ExecuteTime": {
     "end_time": "2019-09-14T15:34:17.776197Z",
     "start_time": "2019-09-14T15:34:12.759898Z"
    }
   },
   "outputs": [
    {
     "data": {
      "image/svg+xml": [
       "<?xml version=\"1.0\" encoding=\"UTF-8\" standalone=\"no\"?>\n",
       "<!DOCTYPE svg PUBLIC \"-//W3C//DTD SVG 1.1//EN\"\n",
       " \"http://www.w3.org/Graphics/SVG/1.1/DTD/svg11.dtd\">\n",
       "<!-- Generated by graphviz version 2.40.1 (20161225.0304)\n",
       " -->\n",
       "<!-- Title: G Pages: 1 -->\n",
       "<svg width=\"292pt\" height=\"302pt\"\n",
       " viewBox=\"0.00 0.00 292.15 302.00\" xmlns=\"http://www.w3.org/2000/svg\" xmlns:xlink=\"http://www.w3.org/1999/xlink\">\n",
       "<g id=\"graph0\" class=\"graph\" transform=\"scale(1 1) rotate(0) translate(4 298)\">\n",
       "<title>G</title>\n",
       "<polygon fill=\"#ffffff\" stroke=\"transparent\" points=\"-4,4 -4,-298 288.1495,-298 288.1495,4 -4,4\"/>\n",
       "<!-- 0 -->\n",
       "<g id=\"node1\" class=\"node\">\n",
       "<title>0</title>\n",
       "<text text-anchor=\"middle\" x=\"153.1495\" y=\"-271.8\" font-family=\"Times,serif\" font-size=\"14.00\" fill=\"#000000\">0 (None)</text>\n",
       "</g>\n",
       "<!-- 6 -->\n",
       "<g id=\"node2\" class=\"node\">\n",
       "<title>6</title>\n",
       "<text text-anchor=\"middle\" x=\"153.1495\" y=\"-188.3315\" font-family=\"Times,serif\" font-size=\"14.00\" fill=\"#000000\">6 (درمی‌آید)</text>\n",
       "</g>\n",
       "<!-- 0&#45;&gt;6 -->\n",
       "<g id=\"edge1\" class=\"edge\">\n",
       "<title>0&#45;&gt;6</title>\n",
       "<path fill=\"none\" stroke=\"#000000\" d=\"M153.1495,-257.7616C153.1495,-246.3597 153.1495,-231.4342 153.1495,-218.494\"/>\n",
       "<polygon fill=\"#000000\" stroke=\"#000000\" points=\"156.6495,-218.2121 153.1495,-208.2121 149.6495,-218.2121 156.6495,-218.2121\"/>\n",
       "<text text-anchor=\"middle\" x=\"172.2046\" y=\"-228.8\" font-family=\"Times,serif\" font-size=\"14.00\" fill=\"#000000\">ROOT</text>\n",
       "</g>\n",
       "<!-- 1 -->\n",
       "<g id=\"node3\" class=\"node\">\n",
       "<title>1</title>\n",
       "<text text-anchor=\"middle\" x=\"32.1495\" y=\"-102.3315\" font-family=\"Times,serif\" font-size=\"14.00\" fill=\"#000000\">1 (زنگ‌ها)</text>\n",
       "</g>\n",
       "<!-- 6&#45;&gt;1 -->\n",
       "<g id=\"edge4\" class=\"edge\">\n",
       "<title>6&#45;&gt;1</title>\n",
       "<path fill=\"none\" stroke=\"#000000\" d=\"M127.1255,-171.9449C118.9322,-166.2307 109.8609,-159.8736 101.5772,-154 89.7972,-145.6474 76.9516,-136.4278 65.5487,-128.2044\"/>\n",
       "<polygon fill=\"#000000\" stroke=\"#000000\" points=\"67.3078,-125.1576 57.1515,-122.1409 63.2099,-130.8327 67.3078,-125.1576\"/>\n",
       "<text text-anchor=\"middle\" x=\"113.4356\" y=\"-142.8\" font-family=\"Times,serif\" font-size=\"14.00\" fill=\"#000000\">SBJ</text>\n",
       "</g>\n",
       "<!-- 2 -->\n",
       "<g id=\"node4\" class=\"node\">\n",
       "<title>2</title>\n",
       "<text text-anchor=\"middle\" x=\"111.1495\" y=\"-102.3315\" font-family=\"Times,serif\" font-size=\"14.00\" fill=\"#000000\">2 (برای)</text>\n",
       "</g>\n",
       "<!-- 6&#45;&gt;2 -->\n",
       "<g id=\"edge5\" class=\"edge\">\n",
       "<title>6&#45;&gt;2</title>\n",
       "<path fill=\"none\" stroke=\"#000000\" d=\"M143.0755,-171.8095C140.0215,-166.1452 136.7113,-159.8504 133.8184,-154 130.275,-146.8341 126.62,-138.9965 123.307,-131.6966\"/>\n",
       "<polygon fill=\"#000000\" stroke=\"#000000\" points=\"126.3291,-129.8817 119.0438,-122.1891 119.9418,-132.7458 126.3291,-129.8817\"/>\n",
       "<text text-anchor=\"middle\" x=\"149.315\" y=\"-142.8\" font-family=\"Times,serif\" font-size=\"14.00\" fill=\"#000000\">ADV</text>\n",
       "</g>\n",
       "<!-- 4 -->\n",
       "<g id=\"node6\" class=\"node\">\n",
       "<title>4</title>\n",
       "<text text-anchor=\"middle\" x=\"185.1495\" y=\"-102.3315\" font-family=\"Times,serif\" font-size=\"14.00\" fill=\"#000000\">4 (به)</text>\n",
       "</g>\n",
       "<!-- 6&#45;&gt;4 -->\n",
       "<g id=\"edge6\" class=\"edge\">\n",
       "<title>6&#45;&gt;4</title>\n",
       "<path fill=\"none\" stroke=\"#000000\" d=\"M159.9358,-171.7616C164.2633,-160.1316 169.9548,-144.8357 174.835,-131.72\"/>\n",
       "<polygon fill=\"#000000\" stroke=\"#000000\" points=\"178.1657,-132.8049 178.3729,-122.2121 171.6052,-130.3637 178.1657,-132.8049\"/>\n",
       "<text text-anchor=\"middle\" x=\"183.9908\" y=\"-142.8\" font-family=\"Times,serif\" font-size=\"14.00\" fill=\"#000000\">VPP</text>\n",
       "</g>\n",
       "<!-- 7 -->\n",
       "<g id=\"node8\" class=\"node\">\n",
       "<title>7</title>\n",
       "<text text-anchor=\"middle\" x=\"257.1495\" y=\"-102.3315\" font-family=\"Times,serif\" font-size=\"14.00\" fill=\"#000000\">7 (؟)</text>\n",
       "</g>\n",
       "<!-- 6&#45;&gt;7 -->\n",
       "<g id=\"edge7\" class=\"edge\">\n",
       "<title>6&#45;&gt;7</title>\n",
       "<path fill=\"none\" stroke=\"#000000\" d=\"M178.3737,-171.7125C185.8104,-166.1527 193.8963,-159.9399 201.1495,-154 210.8204,-146.0802 221.1048,-137.0769 230.1858,-128.9135\"/>\n",
       "<polygon fill=\"#000000\" stroke=\"#000000\" points=\"232.7505,-131.3127 237.8105,-122.0042 228.0501,-126.1255 232.7505,-131.3127\"/>\n",
       "<text text-anchor=\"middle\" x=\"235.8218\" y=\"-142.8\" font-family=\"Times,serif\" font-size=\"14.00\" fill=\"#000000\">PUNC</text>\n",
       "</g>\n",
       "<!-- 3 -->\n",
       "<g id=\"node5\" class=\"node\">\n",
       "<title>3</title>\n",
       "<text text-anchor=\"middle\" x=\"111.1495\" y=\"-16.3315\" font-family=\"Times,serif\" font-size=\"14.00\" fill=\"#000000\">3 (که)</text>\n",
       "</g>\n",
       "<!-- 2&#45;&gt;3 -->\n",
       "<g id=\"edge2\" class=\"edge\">\n",
       "<title>2&#45;&gt;3</title>\n",
       "<path fill=\"none\" stroke=\"#000000\" d=\"M111.1495,-85.7616C111.1495,-74.3597 111.1495,-59.4342 111.1495,-46.494\"/>\n",
       "<polygon fill=\"#000000\" stroke=\"#000000\" points=\"114.6495,-46.2121 111.1495,-36.2121 107.6495,-46.2121 114.6495,-46.2121\"/>\n",
       "<text text-anchor=\"middle\" x=\"137.2149\" y=\"-56.8\" font-family=\"Times,serif\" font-size=\"14.00\" fill=\"#000000\">POSDEP</text>\n",
       "</g>\n",
       "<!-- 5 -->\n",
       "<g id=\"node7\" class=\"node\">\n",
       "<title>5</title>\n",
       "<text text-anchor=\"middle\" x=\"186.1495\" y=\"-16.3315\" font-family=\"Times,serif\" font-size=\"14.00\" fill=\"#000000\">5 (صدا)</text>\n",
       "</g>\n",
       "<!-- 4&#45;&gt;5 -->\n",
       "<g id=\"edge3\" class=\"edge\">\n",
       "<title>4&#45;&gt;5</title>\n",
       "<path fill=\"none\" stroke=\"#000000\" d=\"M185.3615,-85.7616C185.4941,-74.3597 185.6677,-59.4342 185.8181,-46.494\"/>\n",
       "<polygon fill=\"#000000\" stroke=\"#000000\" points=\"189.3211,-46.2522 185.9377,-36.2121 182.3216,-46.1707 189.3211,-46.2522\"/>\n",
       "<text text-anchor=\"middle\" x=\"212.2149\" y=\"-56.8\" font-family=\"Times,serif\" font-size=\"14.00\" fill=\"#000000\">POSDEP</text>\n",
       "</g>\n",
       "</g>\n",
       "</svg>\n"
      ],
      "text/plain": [
       "<DependencyGraph with 8 nodes>"
      ]
     },
     "execution_count": 10,
     "metadata": {},
     "output_type": "execute_result"
    }
   ],
   "source": [
    "parser = DependencyParser(tagger=tagger, \n",
    "                          lemmatizer=lemmatizer,\n",
    "                         )\n",
    "parser.parse(word_tokenize('زنگ‌ها برای که به صدا درمی‌آید؟'))"
   ]
  },
  {
   "cell_type": "code",
   "execution_count": 11,
   "metadata": {
    "ExecuteTime": {
     "end_time": "2019-09-14T15:34:29.820926Z",
     "start_time": "2019-09-14T15:34:25.204042Z"
    }
   },
   "outputs": [
    {
     "data": {
      "image/svg+xml": [
       "<?xml version=\"1.0\" encoding=\"UTF-8\" standalone=\"no\"?>\n",
       "<!DOCTYPE svg PUBLIC \"-//W3C//DTD SVG 1.1//EN\"\n",
       " \"http://www.w3.org/Graphics/SVG/1.1/DTD/svg11.dtd\">\n",
       "<!-- Generated by graphviz version 2.40.1 (20161225.0304)\n",
       " -->\n",
       "<!-- Title: G Pages: 1 -->\n",
       "<svg width=\"292pt\" height=\"302pt\"\n",
       " viewBox=\"0.00 0.00 292.15 302.00\" xmlns=\"http://www.w3.org/2000/svg\" xmlns:xlink=\"http://www.w3.org/1999/xlink\">\n",
       "<g id=\"graph0\" class=\"graph\" transform=\"scale(1 1) rotate(0) translate(4 298)\">\n",
       "<title>G</title>\n",
       "<polygon fill=\"#ffffff\" stroke=\"transparent\" points=\"-4,4 -4,-298 288.1495,-298 288.1495,4 -4,4\"/>\n",
       "<!-- 0 -->\n",
       "<g id=\"node1\" class=\"node\">\n",
       "<title>0</title>\n",
       "<text text-anchor=\"middle\" x=\"153.1495\" y=\"-271.8\" font-family=\"Times,serif\" font-size=\"14.00\" fill=\"#000000\">0 (None)</text>\n",
       "</g>\n",
       "<!-- 6 -->\n",
       "<g id=\"node2\" class=\"node\">\n",
       "<title>6</title>\n",
       "<text text-anchor=\"middle\" x=\"153.1495\" y=\"-188.3315\" font-family=\"Times,serif\" font-size=\"14.00\" fill=\"#000000\">6 (درمی‌آید)</text>\n",
       "</g>\n",
       "<!-- 0&#45;&gt;6 -->\n",
       "<g id=\"edge1\" class=\"edge\">\n",
       "<title>0&#45;&gt;6</title>\n",
       "<path fill=\"none\" stroke=\"#000000\" d=\"M153.1495,-257.7616C153.1495,-246.3597 153.1495,-231.4342 153.1495,-218.494\"/>\n",
       "<polygon fill=\"#000000\" stroke=\"#000000\" points=\"156.6495,-218.2121 153.1495,-208.2121 149.6495,-218.2121 156.6495,-218.2121\"/>\n",
       "<text text-anchor=\"middle\" x=\"172.2046\" y=\"-228.8\" font-family=\"Times,serif\" font-size=\"14.00\" fill=\"#000000\">ROOT</text>\n",
       "</g>\n",
       "<!-- 1 -->\n",
       "<g id=\"node3\" class=\"node\">\n",
       "<title>1</title>\n",
       "<text text-anchor=\"middle\" x=\"32.1495\" y=\"-102.3315\" font-family=\"Times,serif\" font-size=\"14.00\" fill=\"#000000\">1 (زنگ‌ها)</text>\n",
       "</g>\n",
       "<!-- 6&#45;&gt;1 -->\n",
       "<g id=\"edge4\" class=\"edge\">\n",
       "<title>6&#45;&gt;1</title>\n",
       "<path fill=\"none\" stroke=\"#000000\" d=\"M127.1255,-171.9449C118.9322,-166.2307 109.8609,-159.8736 101.5772,-154 89.7972,-145.6474 76.9516,-136.4278 65.5487,-128.2044\"/>\n",
       "<polygon fill=\"#000000\" stroke=\"#000000\" points=\"67.3078,-125.1576 57.1515,-122.1409 63.2099,-130.8327 67.3078,-125.1576\"/>\n",
       "<text text-anchor=\"middle\" x=\"113.4356\" y=\"-142.8\" font-family=\"Times,serif\" font-size=\"14.00\" fill=\"#000000\">SBJ</text>\n",
       "</g>\n",
       "<!-- 2 -->\n",
       "<g id=\"node4\" class=\"node\">\n",
       "<title>2</title>\n",
       "<text text-anchor=\"middle\" x=\"111.1495\" y=\"-102.3315\" font-family=\"Times,serif\" font-size=\"14.00\" fill=\"#000000\">2 (برای)</text>\n",
       "</g>\n",
       "<!-- 6&#45;&gt;2 -->\n",
       "<g id=\"edge5\" class=\"edge\">\n",
       "<title>6&#45;&gt;2</title>\n",
       "<path fill=\"none\" stroke=\"#000000\" d=\"M143.0755,-171.8095C140.0215,-166.1452 136.7113,-159.8504 133.8184,-154 130.275,-146.8341 126.62,-138.9965 123.307,-131.6966\"/>\n",
       "<polygon fill=\"#000000\" stroke=\"#000000\" points=\"126.3291,-129.8817 119.0438,-122.1891 119.9418,-132.7458 126.3291,-129.8817\"/>\n",
       "<text text-anchor=\"middle\" x=\"149.315\" y=\"-142.8\" font-family=\"Times,serif\" font-size=\"14.00\" fill=\"#000000\">ADV</text>\n",
       "</g>\n",
       "<!-- 4 -->\n",
       "<g id=\"node6\" class=\"node\">\n",
       "<title>4</title>\n",
       "<text text-anchor=\"middle\" x=\"185.1495\" y=\"-102.3315\" font-family=\"Times,serif\" font-size=\"14.00\" fill=\"#000000\">4 (به)</text>\n",
       "</g>\n",
       "<!-- 6&#45;&gt;4 -->\n",
       "<g id=\"edge6\" class=\"edge\">\n",
       "<title>6&#45;&gt;4</title>\n",
       "<path fill=\"none\" stroke=\"#000000\" d=\"M159.9358,-171.7616C164.2633,-160.1316 169.9548,-144.8357 174.835,-131.72\"/>\n",
       "<polygon fill=\"#000000\" stroke=\"#000000\" points=\"178.1657,-132.8049 178.3729,-122.2121 171.6052,-130.3637 178.1657,-132.8049\"/>\n",
       "<text text-anchor=\"middle\" x=\"183.9908\" y=\"-142.8\" font-family=\"Times,serif\" font-size=\"14.00\" fill=\"#000000\">VPP</text>\n",
       "</g>\n",
       "<!-- 7 -->\n",
       "<g id=\"node8\" class=\"node\">\n",
       "<title>7</title>\n",
       "<text text-anchor=\"middle\" x=\"257.1495\" y=\"-102.3315\" font-family=\"Times,serif\" font-size=\"14.00\" fill=\"#000000\">7 (؟)</text>\n",
       "</g>\n",
       "<!-- 6&#45;&gt;7 -->\n",
       "<g id=\"edge7\" class=\"edge\">\n",
       "<title>6&#45;&gt;7</title>\n",
       "<path fill=\"none\" stroke=\"#000000\" d=\"M178.3737,-171.7125C185.8104,-166.1527 193.8963,-159.9399 201.1495,-154 210.8204,-146.0802 221.1048,-137.0769 230.1858,-128.9135\"/>\n",
       "<polygon fill=\"#000000\" stroke=\"#000000\" points=\"232.7505,-131.3127 237.8105,-122.0042 228.0501,-126.1255 232.7505,-131.3127\"/>\n",
       "<text text-anchor=\"middle\" x=\"235.8218\" y=\"-142.8\" font-family=\"Times,serif\" font-size=\"14.00\" fill=\"#000000\">PUNC</text>\n",
       "</g>\n",
       "<!-- 3 -->\n",
       "<g id=\"node5\" class=\"node\">\n",
       "<title>3</title>\n",
       "<text text-anchor=\"middle\" x=\"111.1495\" y=\"-16.3315\" font-family=\"Times,serif\" font-size=\"14.00\" fill=\"#000000\">3 (که)</text>\n",
       "</g>\n",
       "<!-- 2&#45;&gt;3 -->\n",
       "<g id=\"edge2\" class=\"edge\">\n",
       "<title>2&#45;&gt;3</title>\n",
       "<path fill=\"none\" stroke=\"#000000\" d=\"M111.1495,-85.7616C111.1495,-74.3597 111.1495,-59.4342 111.1495,-46.494\"/>\n",
       "<polygon fill=\"#000000\" stroke=\"#000000\" points=\"114.6495,-46.2121 111.1495,-36.2121 107.6495,-46.2121 114.6495,-46.2121\"/>\n",
       "<text text-anchor=\"middle\" x=\"137.2149\" y=\"-56.8\" font-family=\"Times,serif\" font-size=\"14.00\" fill=\"#000000\">POSDEP</text>\n",
       "</g>\n",
       "<!-- 5 -->\n",
       "<g id=\"node7\" class=\"node\">\n",
       "<title>5</title>\n",
       "<text text-anchor=\"middle\" x=\"186.1495\" y=\"-16.3315\" font-family=\"Times,serif\" font-size=\"14.00\" fill=\"#000000\">5 (صدا)</text>\n",
       "</g>\n",
       "<!-- 4&#45;&gt;5 -->\n",
       "<g id=\"edge3\" class=\"edge\">\n",
       "<title>4&#45;&gt;5</title>\n",
       "<path fill=\"none\" stroke=\"#000000\" d=\"M185.3615,-85.7616C185.4941,-74.3597 185.6677,-59.4342 185.8181,-46.494\"/>\n",
       "<polygon fill=\"#000000\" stroke=\"#000000\" points=\"189.3211,-46.2522 185.9377,-36.2121 182.3216,-46.1707 189.3211,-46.2522\"/>\n",
       "<text text-anchor=\"middle\" x=\"212.2149\" y=\"-56.8\" font-family=\"Times,serif\" font-size=\"14.00\" fill=\"#000000\">POSDEP</text>\n",
       "</g>\n",
       "</g>\n",
       "</svg>\n"
      ],
      "text/plain": [
       "<DependencyGraph with 8 nodes>"
      ]
     },
     "execution_count": 11,
     "metadata": {},
     "output_type": "execute_result"
    }
   ],
   "source": [
    "parser.parse(word_tokenize('زنگ‌ها برای که به صدا درمی‌آید؟'))"
   ]
  }
 ],
 "metadata": {
  "kernelspec": {
   "display_name": "Python 3",
   "language": "python",
   "name": "python3"
  },
  "language_info": {
   "codemirror_mode": {
    "name": "ipython",
    "version": 3
   },
   "file_extension": ".py",
   "mimetype": "text/x-python",
   "name": "python",
   "nbconvert_exporter": "python",
   "pygments_lexer": "ipython3",
   "version": "3.7.3"
  },
  "varInspector": {
   "cols": {
    "lenName": 16,
    "lenType": 16,
    "lenVar": 40
   },
   "kernels_config": {
    "python": {
     "delete_cmd_postfix": "",
     "delete_cmd_prefix": "del ",
     "library": "var_list.py",
     "varRefreshCmd": "print(var_dic_list())"
    },
    "r": {
     "delete_cmd_postfix": ") ",
     "delete_cmd_prefix": "rm(",
     "library": "var_list.r",
     "varRefreshCmd": "cat(var_dic_list()) "
    }
   },
   "types_to_exclude": [
    "module",
    "function",
    "builtin_function_or_method",
    "instance",
    "_Feature"
   ],
   "window_display": false
  }
 },
 "nbformat": 4,
 "nbformat_minor": 2
}
