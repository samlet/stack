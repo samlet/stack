{
 "cells": [
  {
   "cell_type": "markdown",
   "metadata": {},
   "source": [
    "* https://github.com/lk-geimfari/mimesis\n",
    "* https://mimesis.name/getting_started.html#locales"
   ]
  },
  {
   "cell_type": "code",
   "execution_count": 1,
   "metadata": {
    "ExecuteTime": {
     "end_time": "2019-09-02T08:02:56.117480Z",
     "start_time": "2019-09-02T08:02:56.068247Z"
    }
   },
   "outputs": [],
   "source": [
    ">>> from mimesis import Person\n",
    ">>> from mimesis.enums import Gender\n",
    ">>> person = Person('en')"
   ]
  },
  {
   "cell_type": "code",
   "execution_count": 2,
   "metadata": {
    "ExecuteTime": {
     "end_time": "2019-09-02T08:03:06.951651Z",
     "start_time": "2019-09-02T08:03:06.932729Z"
    }
   },
   "outputs": [
    {
     "data": {
      "text/plain": [
       "'Adriene Porter'"
      ]
     },
     "execution_count": 2,
     "metadata": {},
     "output_type": "execute_result"
    }
   ],
   "source": [
    "person.full_name(gender=Gender.FEMALE)"
   ]
  },
  {
   "cell_type": "code",
   "execution_count": 3,
   "metadata": {
    "ExecuteTime": {
     "end_time": "2019-09-02T08:03:43.680359Z",
     "start_time": "2019-09-02T08:03:43.669782Z"
    }
   },
   "outputs": [
    {
     "data": {
      "text/plain": [
       "'Hosea Adkins'"
      ]
     },
     "execution_count": 3,
     "metadata": {},
     "output_type": "execute_result"
    }
   ],
   "source": [
    "person.full_name(gender=Gender.MALE)"
   ]
  },
  {
   "cell_type": "code",
   "execution_count": 4,
   "metadata": {
    "ExecuteTime": {
     "end_time": "2019-09-02T08:05:25.817353Z",
     "start_time": "2019-09-02T08:05:25.788166Z"
    }
   },
   "outputs": [
    {
     "data": {
      "text/plain": [
       "'Noviembre'"
      ]
     },
     "execution_count": 4,
     "metadata": {},
     "output_type": "execute_result"
    }
   ],
   "source": [
    ">>> from mimesis import Generic\n",
    ">>> g = Generic('es')\n",
    "\n",
    ">>> g.datetime.month()"
   ]
  },
  {
   "cell_type": "code",
   "execution_count": 5,
   "metadata": {
    "ExecuteTime": {
     "end_time": "2019-09-02T08:05:34.919790Z",
     "start_time": "2019-09-02T08:05:34.911473Z"
    }
   },
   "outputs": [
    {
     "data": {
      "text/plain": [
       "'011245009356328'"
      ]
     },
     "execution_count": 5,
     "metadata": {},
     "output_type": "execute_result"
    }
   ],
   "source": [
    ">>> g.code.imei()"
   ]
  },
  {
   "cell_type": "code",
   "execution_count": 6,
   "metadata": {
    "ExecuteTime": {
     "end_time": "2019-09-02T08:05:43.801211Z",
     "start_time": "2019-09-02T08:05:43.791616Z"
    }
   },
   "outputs": [
    {
     "data": {
      "text/plain": [
       "'Manzana'"
      ]
     },
     "execution_count": 6,
     "metadata": {},
     "output_type": "execute_result"
    }
   ],
   "source": [
    ">>> g.food.fruit()"
   ]
  },
  {
   "cell_type": "code",
   "execution_count": 7,
   "metadata": {
    "ExecuteTime": {
     "end_time": "2019-09-02T08:08:21.148717Z",
     "start_time": "2019-09-02T08:08:21.142592Z"
    }
   },
   "outputs": [],
   "source": [
    "locales=''''''"
   ]
  }
 ],
 "metadata": {
  "kernelspec": {
   "display_name": "Python 3",
   "language": "python",
   "name": "python3"
  },
  "language_info": {
   "codemirror_mode": {
    "name": "ipython",
    "version": 3
   },
   "file_extension": ".py",
   "mimetype": "text/x-python",
   "name": "python",
   "nbconvert_exporter": "python",
   "pygments_lexer": "ipython3",
   "version": "3.7.3"
  },
  "varInspector": {
   "cols": {
    "lenName": 16,
    "lenType": 16,
    "lenVar": 40
   },
   "kernels_config": {
    "python": {
     "delete_cmd_postfix": "",
     "delete_cmd_prefix": "del ",
     "library": "var_list.py",
     "varRefreshCmd": "print(var_dic_list())"
    },
    "r": {
     "delete_cmd_postfix": ") ",
     "delete_cmd_prefix": "rm(",
     "library": "var_list.r",
     "varRefreshCmd": "cat(var_dic_list()) "
    }
   },
   "types_to_exclude": [
    "module",
    "function",
    "builtin_function_or_method",
    "instance",
    "_Feature"
   ],
   "window_display": false
  }
 },
 "nbformat": 4,
 "nbformat_minor": 2
}
