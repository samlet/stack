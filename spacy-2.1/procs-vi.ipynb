{
 "cells": [
  {
   "cell_type": "code",
   "execution_count": 2,
   "metadata": {
    "ExecuteTime": {
     "end_time": "2019-09-19T23:51:52.770660Z",
     "start_time": "2019-09-19T23:51:52.766973Z"
    }
   },
   "outputs": [],
   "source": [
    "# import nagisa\n",
    "\n",
    "# text = 'Pythonで簡単に使えるツールです'\n",
    "# words = nagisa.tagging(text)\n",
    "# print(words)"
   ]
  },
  {
   "cell_type": "markdown",
   "metadata": {},
   "source": [
    "⊕ [undertheseanlp/underthesea: Underthesea - Vietnamese NLP Toolkit](https://github.com/undertheseanlp/underthesea)\n"
   ]
  },
  {
   "cell_type": "code",
   "execution_count": 3,
   "metadata": {
    "ExecuteTime": {
     "end_time": "2019-09-19T23:57:46.115695Z",
     "start_time": "2019-09-19T23:57:44.902082Z"
    }
   },
   "outputs": [],
   "source": [
    "from underthesea import sent_tokenize"
   ]
  },
  {
   "cell_type": "code",
   "execution_count": 4,
   "metadata": {
    "ExecuteTime": {
     "end_time": "2019-09-19T23:58:04.417702Z",
     "start_time": "2019-09-19T23:58:04.314335Z"
    }
   },
   "outputs": [
    {
     "data": {
      "text/plain": [
       "['Taylor cho biết lúc đầu cô cảm thấy ngại với cô bạn thân Amanda nhưng rồi mọi thứ trôi qua nhanh chóng.',\n",
       " 'Amanda cũng thoải mái với mối quan hệ này.']"
      ]
     },
     "execution_count": 4,
     "metadata": {},
     "output_type": "execute_result"
    }
   ],
   "source": [
    "text = 'Taylor cho biết lúc đầu cô cảm thấy ngại với cô bạn thân Amanda nhưng rồi mọi thứ trôi qua nhanh chóng. Amanda cũng thoải mái với mối quan hệ này.'\n",
    "sent_tokenize(text)"
   ]
  },
  {
   "cell_type": "code",
   "execution_count": 5,
   "metadata": {
    "ExecuteTime": {
     "end_time": "2019-09-19T23:58:21.356784Z",
     "start_time": "2019-09-19T23:58:21.341421Z"
    }
   },
   "outputs": [
    {
     "data": {
      "text/plain": [
       "['Chàng', 'trai', '9X', 'Quảng Trị', 'khởi nghiệp', 'từ', 'nấm', 'sò']"
      ]
     },
     "execution_count": 5,
     "metadata": {},
     "output_type": "execute_result"
    }
   ],
   "source": [
    ">>> # -*- coding: utf-8 -*-\n",
    ">>> from underthesea import word_tokenize\n",
    ">>> sentence = 'Chàng trai 9X Quảng Trị khởi nghiệp từ nấm sò'\n",
    "\n",
    ">>> word_tokenize(sentence)"
   ]
  },
  {
   "cell_type": "code",
   "execution_count": 6,
   "metadata": {
    "ExecuteTime": {
     "end_time": "2019-09-19T23:58:30.066959Z",
     "start_time": "2019-09-19T23:58:30.056025Z"
    }
   },
   "outputs": [
    {
     "data": {
      "text/plain": [
       "'Chàng trai 9X Quảng_Trị khởi_nghiệp từ nấm sò'"
      ]
     },
     "execution_count": 6,
     "metadata": {},
     "output_type": "execute_result"
    }
   ],
   "source": [
    "word_tokenize(sentence, format=\"text\")"
   ]
  },
  {
   "cell_type": "code",
   "execution_count": 7,
   "metadata": {
    "ExecuteTime": {
     "end_time": "2019-09-19T23:58:45.657992Z",
     "start_time": "2019-09-19T23:58:45.630470Z"
    }
   },
   "outputs": [
    {
     "data": {
      "text/plain": [
       "[('Chợ', 'N'),\n",
       " ('thịt', 'N'),\n",
       " ('chó', 'N'),\n",
       " ('nổi tiếng', 'A'),\n",
       " ('ở', 'E'),\n",
       " ('Sài Gòn', 'Np'),\n",
       " ('bị', 'V'),\n",
       " ('truy quét', 'V')]"
      ]
     },
     "execution_count": 7,
     "metadata": {},
     "output_type": "execute_result"
    }
   ],
   "source": [
    ">>> from underthesea import pos_tag\n",
    ">>> pos_tag('Chợ thịt chó nổi tiếng ở Sài Gòn bị truy quét')"
   ]
  },
  {
   "cell_type": "code",
   "execution_count": 8,
   "metadata": {
    "ExecuteTime": {
     "end_time": "2019-09-19T23:59:21.077870Z",
     "start_time": "2019-09-19T23:59:21.059803Z"
    }
   },
   "outputs": [
    {
     "data": {
      "text/plain": [
       "[('Bác sĩ', 'N', 'B-NP'),\n",
       " ('bây giờ', 'P', 'B-NP'),\n",
       " ('có thể', 'R', 'O'),\n",
       " ('thản nhiên', 'A', 'B-AP'),\n",
       " ('báo', 'V', 'B-VP'),\n",
       " ('tin', 'N', 'B-NP'),\n",
       " ('bệnh nhân', 'N', 'B-NP'),\n",
       " ('bị', 'V', 'B-VP'),\n",
       " ('ung thư', 'N', 'B-NP'),\n",
       " ('?', 'CH', 'O')]"
      ]
     },
     "execution_count": 8,
     "metadata": {},
     "output_type": "execute_result"
    }
   ],
   "source": [
    ">>> from underthesea import chunk\n",
    ">>> text = 'Bác sĩ bây giờ có thể thản nhiên báo tin bệnh nhân bị ung thư?'\n",
    ">>> chunk(text)"
   ]
  },
  {
   "cell_type": "code",
   "execution_count": 9,
   "metadata": {
    "ExecuteTime": {
     "end_time": "2019-09-19T23:59:36.088321Z",
     "start_time": "2019-09-19T23:59:36.067364Z"
    }
   },
   "outputs": [
    {
     "data": {
      "text/plain": [
       "[('Chưa', 'R', 'O', 'O'),\n",
       " ('tiết lộ', 'V', 'B-VP', 'O'),\n",
       " ('lịch trình', 'V', 'B-VP', 'O'),\n",
       " ('tới', 'E', 'B-PP', 'O'),\n",
       " ('Việt Nam', 'Np', 'B-NP', 'B-LOC'),\n",
       " ('của', 'E', 'B-PP', 'O'),\n",
       " ('Tổng thống', 'N', 'B-NP', 'B-LOC'),\n",
       " ('Mỹ Donald Trump', 'Np', 'B-NP', 'I-LOC')]"
      ]
     },
     "execution_count": 9,
     "metadata": {},
     "output_type": "execute_result"
    }
   ],
   "source": [
    ">>> from underthesea import ner\n",
    ">>> text = 'Chưa tiết lộ lịch trình tới Việt Nam của Tổng thống Mỹ Donald Trump'\n",
    ">>> ner(text)"
   ]
  }
 ],
 "metadata": {
  "kernelspec": {
   "display_name": "Python 3",
   "language": "python",
   "name": "python3"
  },
  "language_info": {
   "codemirror_mode": {
    "name": "ipython",
    "version": 3
   },
   "file_extension": ".py",
   "mimetype": "text/x-python",
   "name": "python",
   "nbconvert_exporter": "python",
   "pygments_lexer": "ipython3",
   "version": "3.7.3"
  },
  "varInspector": {
   "cols": {
    "lenName": 16,
    "lenType": 16,
    "lenVar": 40
   },
   "kernels_config": {
    "python": {
     "delete_cmd_postfix": "",
     "delete_cmd_prefix": "del ",
     "library": "var_list.py",
     "varRefreshCmd": "print(var_dic_list())"
    },
    "r": {
     "delete_cmd_postfix": ") ",
     "delete_cmd_prefix": "rm(",
     "library": "var_list.r",
     "varRefreshCmd": "cat(var_dic_list()) "
    }
   },
   "types_to_exclude": [
    "module",
    "function",
    "builtin_function_or_method",
    "instance",
    "_Feature"
   ],
   "window_display": false
  }
 },
 "nbformat": 4,
 "nbformat_minor": 2
}
