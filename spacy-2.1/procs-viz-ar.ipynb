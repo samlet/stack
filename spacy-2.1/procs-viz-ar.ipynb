{
 "cells": [
  {
   "cell_type": "code",
   "execution_count": 2,
   "metadata": {
    "ExecuteTime": {
     "end_time": "2019-09-11T09:10:59.122647Z",
     "start_time": "2019-09-11T09:10:59.106916Z"
    }
   },
   "outputs": [
    {
     "name": "stdout",
     "output_type": "stream",
     "text": [
      "{\n",
      "  \"result\": \"success\",\n",
      "  \"data\": [\n",
      "    {\n",
      "      \"body\": \"الجمعة 7 مساء\",\n",
      "      \"start\": 0,\n",
      "      \"value\": {\n",
      "        \"values\": [\n",
      "          {\n",
      "            \"value\": \"2019-09-13T19:00:00.000-07:00\",\n",
      "            \"grain\": \"hour\",\n",
      "            \"type\": \"value\"\n",
      "          },\n",
      "          {\n",
      "            \"value\": \"2019-09-20T19:00:00.000-07:00\",\n",
      "            \"grain\": \"hour\",\n",
      "            \"type\": \"value\"\n",
      "          },\n",
      "          {\n",
      "            \"value\": \"2019-09-27T19:00:00.000-07:00\",\n",
      "            \"grain\": \"hour\",\n",
      "            \"type\": \"value\"\n",
      "          }\n",
      "        ],\n",
      "        \"value\": \"2019-09-13T19:00:00.000-07:00\",\n",
      "        \"grain\": \"hour\",\n",
      "        \"type\": \"value\"\n",
      "      },\n",
      "      \"end\": 13,\n",
      "      \"dim\": \"time\",\n",
      "      \"latent\": false\n",
      "    },\n",
      "    {\n",
      "      \"body\": \"إلى 8 مساء\",\n",
      "      \"start\": 15,\n",
      "      \"value\": {\n",
      "        \"values\": [\n",
      "          {\n",
      "            \"to\": {\n",
      "              \"value\": \"2019-09-11T20:00:00.000-07:00\",\n",
      "              \"grain\": \"hour\"\n",
      "            },\n",
      "            \"type\": \"interval\"\n",
      "          },\n",
      "          {\n",
      "            \"to\": {\n",
      "              \"value\": \"2019-09-12T20:00:00.000-07:00\",\n",
      "              \"grain\": \"hour\"\n",
      "            },\n",
      "            \"type\": \"interval\"\n",
      "          },\n",
      "          {\n",
      "            \"to\": {\n",
      "              \"value\": \"2019-09-13T20:00:00.000-07:00\",\n",
      "              \"grain\": \"hour\"\n",
      "            },\n",
      "            \"type\": \"interval\"\n",
      "          }\n",
      "        ],\n",
      "        \"to\": {\n",
      "          \"value\": \"2019-09-11T20:00:00.000-07:00\",\n",
      "          \"grain\": \"hour\"\n",
      "        },\n",
      "        \"type\": \"interval\"\n",
      "      },\n",
      "      \"end\": 25,\n",
      "      \"dim\": \"time\",\n",
      "      \"latent\": false\n",
      "    }\n",
      "  ]\n",
      "}\n",
      "-------------------------\n",
      "['time', 'time']\n"
     ]
    }
   ],
   "source": [
    "# $ curl -XPOST http://0.0.0.0:8000/parse --data 'locale=ar_Nothing&text=الجمعة 7 مساءً إلى 8 مساءً'\n",
    "from json_utils import pretty_json\n",
    "def duckling(text, lang='en'):    \n",
    "    from sagas.nlu.inspectors import query_duckling\n",
    "\n",
    "    resp = query_duckling(text, lang)\n",
    "    print(pretty_json(resp))\n",
    "    print('-'*25)\n",
    "    print([d['dim'] for d in resp['data']])\n",
    "\n",
    "# 周五下午7点到8点; aljumeat 7 msa'an 'iilaa 8 msa'an\n",
    "duckling('الجمعة 7 مساءً إلى 8 مساءً', 'ar')"
   ]
  }
 ],
 "metadata": {
  "kernelspec": {
   "display_name": "Python 3",
   "language": "python",
   "name": "python3"
  },
  "language_info": {
   "codemirror_mode": {
    "name": "ipython",
    "version": 3
   },
   "file_extension": ".py",
   "mimetype": "text/x-python",
   "name": "python",
   "nbconvert_exporter": "python",
   "pygments_lexer": "ipython3",
   "version": "3.7.3"
  },
  "varInspector": {
   "cols": {
    "lenName": 16,
    "lenType": 16,
    "lenVar": 40
   },
   "kernels_config": {
    "python": {
     "delete_cmd_postfix": "",
     "delete_cmd_prefix": "del ",
     "library": "var_list.py",
     "varRefreshCmd": "print(var_dic_list())"
    },
    "r": {
     "delete_cmd_postfix": ") ",
     "delete_cmd_prefix": "rm(",
     "library": "var_list.r",
     "varRefreshCmd": "cat(var_dic_list()) "
    }
   },
   "types_to_exclude": [
    "module",
    "function",
    "builtin_function_or_method",
    "instance",
    "_Feature"
   ],
   "window_display": false
  }
 },
 "nbformat": 4,
 "nbformat_minor": 2
}
