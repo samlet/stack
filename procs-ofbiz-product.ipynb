{
 "cells": [
  {
   "cell_type": "code",
   "execution_count": 1,
   "metadata": {
    "ExecuteTime": {
     "end_time": "2019-04-08T19:17:16.484197Z",
     "start_time": "2019-04-08T19:17:15.728192Z"
    }
   },
   "outputs": [
    {
     "ename": "Py4JError",
     "evalue": "An error occurred while calling t.getDelegator. Trace:\npy4j.Py4JException: Method getDelegator([]) does not exist\n\tat py4j.reflection.ReflectionEngine.getMethod(ReflectionEngine.java:318)\n\tat py4j.reflection.ReflectionEngine.getMethod(ReflectionEngine.java:326)\n\tat py4j.Gateway.invoke(Gateway.java:274)\n\tat py4j.commands.AbstractCommand.invokeMethod(AbstractCommand.java:132)\n\tat py4j.commands.CallCommand.execute(CallCommand.java:79)\n\tat py4j.GatewayConnection.run(GatewayConnection.java:238)\n\tat java.lang.Thread.run(Thread.java:748)\n\n",
     "output_type": "error",
     "traceback": [
      "\u001b[0;31m---------------------------------------------------------------------------\u001b[0m",
      "\u001b[0;31mPy4JError\u001b[0m                                 Traceback (most recent call last)",
      "\u001b[0;32m<ipython-input-1-57b6e461b641>\u001b[0m in \u001b[0;36m<module>\u001b[0;34m()\u001b[0m\n\u001b[0;32m----> 1\u001b[0;31m \u001b[0;32mfrom\u001b[0m \u001b[0msagas\u001b[0m\u001b[0;34m.\u001b[0m\u001b[0mofbiz\u001b[0m\u001b[0;34m.\u001b[0m\u001b[0mbuilder\u001b[0m \u001b[0;32mimport\u001b[0m \u001b[0moc\u001b[0m\u001b[0;34m,\u001b[0m \u001b[0mfinder\u001b[0m\u001b[0;34m,\u001b[0m \u001b[0mdesc_model\u001b[0m\u001b[0;34m,\u001b[0m \u001b[0mabbrev\u001b[0m\u001b[0;34m\u001b[0m\u001b[0m\n\u001b[0m\u001b[1;32m      2\u001b[0m \u001b[0mdesc_model\u001b[0m\u001b[0;34m(\u001b[0m\u001b[0;34m\"TestingNode\"\u001b[0m\u001b[0;34m,\u001b[0m \u001b[0;32mFalse\u001b[0m\u001b[0;34m)\u001b[0m\u001b[0;34m\u001b[0m\u001b[0m\n",
      "\u001b[0;32m~/jcloud/assets/langs/workspace/rasa/stack/sagas/ofbiz/builder.py\u001b[0m in \u001b[0;36m<module>\u001b[0;34m()\u001b[0m\n\u001b[1;32m      4\u001b[0m \u001b[0;32mimport\u001b[0m \u001b[0mfire\u001b[0m\u001b[0;34m\u001b[0m\u001b[0m\n\u001b[1;32m      5\u001b[0m \u001b[0;34m\u001b[0m\u001b[0m\n\u001b[0;32m----> 6\u001b[0;31m \u001b[0;32mfrom\u001b[0m \u001b[0msagas\u001b[0m\u001b[0;34m.\u001b[0m\u001b[0mofbiz\u001b[0m\u001b[0;34m.\u001b[0m\u001b[0mruntime_context\u001b[0m \u001b[0;32mimport\u001b[0m \u001b[0mplatform\u001b[0m\u001b[0;34m\u001b[0m\u001b[0m\n\u001b[0m\u001b[1;32m      7\u001b[0m \u001b[0;34m\u001b[0m\u001b[0m\n\u001b[1;32m      8\u001b[0m \u001b[0moc\u001b[0m\u001b[0;34m=\u001b[0m\u001b[0mplatform\u001b[0m\u001b[0;34m.\u001b[0m\u001b[0moc\u001b[0m\u001b[0;34m\u001b[0m\u001b[0m\n",
      "\u001b[0;32m~/jcloud/assets/langs/workspace/rasa/stack/sagas/ofbiz/runtime_context.py\u001b[0m in \u001b[0;36m<module>\u001b[0;34m()\u001b[0m\n\u001b[1;32m     10\u001b[0m \u001b[0;34m\u001b[0m\u001b[0m\n\u001b[1;32m     11\u001b[0m \u001b[0;31m# platform singleton\u001b[0m\u001b[0;34m\u001b[0m\u001b[0;34m\u001b[0m\u001b[0m\n\u001b[0;32m---> 12\u001b[0;31m \u001b[0mplatform\u001b[0m\u001b[0;34m=\u001b[0m\u001b[0mPlatform\u001b[0m\u001b[0;34m(\u001b[0m\u001b[0moc\u001b[0m \u001b[0;34m=\u001b[0m \u001b[0mOfbizConnector\u001b[0m\u001b[0;34m(\u001b[0m\u001b[0;34m)\u001b[0m\u001b[0;34m)\u001b[0m\u001b[0;34m\u001b[0m\u001b[0m\n\u001b[0m",
      "\u001b[0;32m~/jcloud/assets/langs/workspace/rasa/stack/sagas/ofbiz/connector.py\u001b[0m in \u001b[0;36m__init__\u001b[0;34m(self)\u001b[0m\n\u001b[1;32m      9\u001b[0m     \u001b[0;32mdef\u001b[0m \u001b[0m__init__\u001b[0m\u001b[0;34m(\u001b[0m\u001b[0mself\u001b[0m\u001b[0;34m)\u001b[0m\u001b[0;34m:\u001b[0m\u001b[0;34m\u001b[0m\u001b[0m\n\u001b[1;32m     10\u001b[0m         \u001b[0mself\u001b[0m\u001b[0;34m.\u001b[0m\u001b[0mgateway\u001b[0m \u001b[0;34m=\u001b[0m \u001b[0mJavaGateway\u001b[0m\u001b[0;34m(\u001b[0m\u001b[0;34m)\u001b[0m  \u001b[0;31m# connect to the JVM\u001b[0m\u001b[0;34m\u001b[0m\u001b[0m\n\u001b[0;32m---> 11\u001b[0;31m         \u001b[0mself\u001b[0m\u001b[0;34m.\u001b[0m\u001b[0mdelegator\u001b[0m \u001b[0;34m=\u001b[0m \u001b[0mself\u001b[0m\u001b[0;34m.\u001b[0m\u001b[0mgateway\u001b[0m\u001b[0;34m.\u001b[0m\u001b[0mentry_point\u001b[0m\u001b[0;34m.\u001b[0m\u001b[0mgetDelegator\u001b[0m\u001b[0;34m(\u001b[0m\u001b[0;34m)\u001b[0m\u001b[0;34m\u001b[0m\u001b[0m\n\u001b[0m\u001b[1;32m     12\u001b[0m         \u001b[0mself\u001b[0m\u001b[0;34m.\u001b[0m\u001b[0mdispatcher\u001b[0m\u001b[0;34m=\u001b[0m\u001b[0mself\u001b[0m\u001b[0;34m.\u001b[0m\u001b[0mgateway\u001b[0m\u001b[0;34m.\u001b[0m\u001b[0mentry_point\u001b[0m\u001b[0;34m.\u001b[0m\u001b[0mgetDispatcher\u001b[0m\u001b[0;34m(\u001b[0m\u001b[0;34m)\u001b[0m\u001b[0;34m\u001b[0m\u001b[0m\n\u001b[1;32m     13\u001b[0m         \u001b[0mself\u001b[0m\u001b[0;34m.\u001b[0m\u001b[0mctx\u001b[0m\u001b[0;34m=\u001b[0m \u001b[0mself\u001b[0m\u001b[0;34m.\u001b[0m\u001b[0mdispatcher\u001b[0m\u001b[0;34m.\u001b[0m\u001b[0mgetDispatchContext\u001b[0m\u001b[0;34m(\u001b[0m\u001b[0;34m)\u001b[0m\u001b[0;34m\u001b[0m\u001b[0m\n",
      "\u001b[0;32m~/miniconda3/envs/bigdata/lib/python3.6/site-packages/py4j/java_gateway.py\u001b[0m in \u001b[0;36m__call__\u001b[0;34m(self, *args)\u001b[0m\n\u001b[1;32m   1284\u001b[0m         \u001b[0manswer\u001b[0m \u001b[0;34m=\u001b[0m \u001b[0mself\u001b[0m\u001b[0;34m.\u001b[0m\u001b[0mgateway_client\u001b[0m\u001b[0;34m.\u001b[0m\u001b[0msend_command\u001b[0m\u001b[0;34m(\u001b[0m\u001b[0mcommand\u001b[0m\u001b[0;34m)\u001b[0m\u001b[0;34m\u001b[0m\u001b[0m\n\u001b[1;32m   1285\u001b[0m         return_value = get_return_value(\n\u001b[0;32m-> 1286\u001b[0;31m             answer, self.gateway_client, self.target_id, self.name)\n\u001b[0m\u001b[1;32m   1287\u001b[0m \u001b[0;34m\u001b[0m\u001b[0m\n\u001b[1;32m   1288\u001b[0m         \u001b[0;32mfor\u001b[0m \u001b[0mtemp_arg\u001b[0m \u001b[0;32min\u001b[0m \u001b[0mtemp_args\u001b[0m\u001b[0;34m:\u001b[0m\u001b[0;34m\u001b[0m\u001b[0m\n",
      "\u001b[0;32m~/miniconda3/envs/bigdata/lib/python3.6/site-packages/py4j/protocol.py\u001b[0m in \u001b[0;36mget_return_value\u001b[0;34m(answer, gateway_client, target_id, name)\u001b[0m\n\u001b[1;32m    330\u001b[0m                 raise Py4JError(\n\u001b[1;32m    331\u001b[0m                     \u001b[0;34m\"An error occurred while calling {0}{1}{2}. Trace:\\n{3}\\n\"\u001b[0m\u001b[0;34m.\u001b[0m\u001b[0;34m\u001b[0m\u001b[0m\n\u001b[0;32m--> 332\u001b[0;31m                     format(target_id, \".\", name, value))\n\u001b[0m\u001b[1;32m    333\u001b[0m         \u001b[0;32melse\u001b[0m\u001b[0;34m:\u001b[0m\u001b[0;34m\u001b[0m\u001b[0m\n\u001b[1;32m    334\u001b[0m             raise Py4JError(\n",
      "\u001b[0;31mPy4JError\u001b[0m: An error occurred while calling t.getDelegator. Trace:\npy4j.Py4JException: Method getDelegator([]) does not exist\n\tat py4j.reflection.ReflectionEngine.getMethod(ReflectionEngine.java:318)\n\tat py4j.reflection.ReflectionEngine.getMethod(ReflectionEngine.java:326)\n\tat py4j.Gateway.invoke(Gateway.java:274)\n\tat py4j.commands.AbstractCommand.invokeMethod(AbstractCommand.java:132)\n\tat py4j.commands.CallCommand.execute(CallCommand.java:79)\n\tat py4j.GatewayConnection.run(GatewayConnection.java:238)\n\tat java.lang.Thread.run(Thread.java:748)\n\n"
     ]
    }
   ],
   "source": [
    "from sagas.ofbiz.builder import oc, finder, desc_model, abbrev\n",
    "desc_model(\"TestingNode\", False)"
   ]
  },
  {
   "cell_type": "code",
   "execution_count": 1,
   "metadata": {
    "ExecuteTime": {
     "end_time": "2019-03-13T18:09:13.100627Z",
     "start_time": "2019-03-13T18:09:12.254322Z"
    }
   },
   "outputs": [
    {
     "data": {
      "text/html": [
       "<div>\n",
       "<style scoped>\n",
       "    .dataframe tbody tr th:only-of-type {\n",
       "        vertical-align: middle;\n",
       "    }\n",
       "\n",
       "    .dataframe tbody tr th {\n",
       "        vertical-align: top;\n",
       "    }\n",
       "\n",
       "    .dataframe thead th {\n",
       "        text-align: right;\n",
       "    }\n",
       "</style>\n",
       "<table border=\"1\" class=\"dataframe\">\n",
       "  <thead>\n",
       "    <tr style=\"text-align: right;\">\n",
       "      <th></th>\n",
       "      <th>internal</th>\n",
       "      <th>name</th>\n",
       "      <th>primary</th>\n",
       "      <th>type</th>\n",
       "      <th>field type</th>\n",
       "    </tr>\n",
       "  </thead>\n",
       "  <tbody>\n",
       "    <tr>\n",
       "      <th>0</th>\n",
       "      <td></td>\n",
       "      <td>productId</td>\n",
       "      <td>*</td>\n",
       "      <td>id</td>\n",
       "      <td>id</td>\n",
       "    </tr>\n",
       "    <tr>\n",
       "      <th>1</th>\n",
       "      <td></td>\n",
       "      <td>contentId</td>\n",
       "      <td>*</td>\n",
       "      <td>id</td>\n",
       "      <td>id</td>\n",
       "    </tr>\n",
       "    <tr>\n",
       "      <th>2</th>\n",
       "      <td></td>\n",
       "      <td>productContentTypeId</td>\n",
       "      <td>*</td>\n",
       "      <td>id</td>\n",
       "      <td>id</td>\n",
       "    </tr>\n",
       "    <tr>\n",
       "      <th>3</th>\n",
       "      <td></td>\n",
       "      <td>fromDate</td>\n",
       "      <td>*</td>\n",
       "      <td>date-time</td>\n",
       "      <td>date-time</td>\n",
       "    </tr>\n",
       "    <tr>\n",
       "      <th>4</th>\n",
       "      <td></td>\n",
       "      <td>thruDate</td>\n",
       "      <td></td>\n",
       "      <td>date-time</td>\n",
       "      <td>date-time</td>\n",
       "    </tr>\n",
       "    <tr>\n",
       "      <th>5</th>\n",
       "      <td></td>\n",
       "      <td>purchaseFromDate</td>\n",
       "      <td></td>\n",
       "      <td>date-time</td>\n",
       "      <td>date-time</td>\n",
       "    </tr>\n",
       "    <tr>\n",
       "      <th>6</th>\n",
       "      <td></td>\n",
       "      <td>purchaseThruDate</td>\n",
       "      <td></td>\n",
       "      <td>date-time</td>\n",
       "      <td>date-time</td>\n",
       "    </tr>\n",
       "    <tr>\n",
       "      <th>7</th>\n",
       "      <td></td>\n",
       "      <td>useCountLimit</td>\n",
       "      <td></td>\n",
       "      <td>numeric</td>\n",
       "      <td>numeric</td>\n",
       "    </tr>\n",
       "    <tr>\n",
       "      <th>8</th>\n",
       "      <td></td>\n",
       "      <td>useTime</td>\n",
       "      <td></td>\n",
       "      <td>numeric</td>\n",
       "      <td>numeric</td>\n",
       "    </tr>\n",
       "    <tr>\n",
       "      <th>9</th>\n",
       "      <td></td>\n",
       "      <td>useTimeUomId</td>\n",
       "      <td></td>\n",
       "      <td>id</td>\n",
       "      <td>id</td>\n",
       "    </tr>\n",
       "    <tr>\n",
       "      <th>10</th>\n",
       "      <td></td>\n",
       "      <td>useRoleTypeId</td>\n",
       "      <td></td>\n",
       "      <td>id</td>\n",
       "      <td>id</td>\n",
       "    </tr>\n",
       "    <tr>\n",
       "      <th>11</th>\n",
       "      <td></td>\n",
       "      <td>sequenceNum</td>\n",
       "      <td></td>\n",
       "      <td>numeric</td>\n",
       "      <td>numeric</td>\n",
       "    </tr>\n",
       "    <tr>\n",
       "      <th>12</th>\n",
       "      <td>*</td>\n",
       "      <td>lastUpdatedStamp</td>\n",
       "      <td></td>\n",
       "      <td>date-time</td>\n",
       "      <td>date-time</td>\n",
       "    </tr>\n",
       "    <tr>\n",
       "      <th>13</th>\n",
       "      <td>*</td>\n",
       "      <td>lastUpdatedTxStamp</td>\n",
       "      <td></td>\n",
       "      <td>date-time</td>\n",
       "      <td>date-time</td>\n",
       "    </tr>\n",
       "    <tr>\n",
       "      <th>14</th>\n",
       "      <td>*</td>\n",
       "      <td>createdStamp</td>\n",
       "      <td></td>\n",
       "      <td>date-time</td>\n",
       "      <td>date-time</td>\n",
       "    </tr>\n",
       "    <tr>\n",
       "      <th>15</th>\n",
       "      <td>*</td>\n",
       "      <td>createdTxStamp</td>\n",
       "      <td></td>\n",
       "      <td>date-time</td>\n",
       "      <td>date-time</td>\n",
       "    </tr>\n",
       "  </tbody>\n",
       "</table>\n",
       "</div>"
      ],
      "text/plain": [
       "   internal                  name primary       type field type\n",
       "0                       productId       *         id         id\n",
       "1                       contentId       *         id         id\n",
       "2            productContentTypeId       *         id         id\n",
       "3                        fromDate       *  date-time  date-time\n",
       "4                        thruDate          date-time  date-time\n",
       "5                purchaseFromDate          date-time  date-time\n",
       "6                purchaseThruDate          date-time  date-time\n",
       "7                   useCountLimit            numeric    numeric\n",
       "8                         useTime            numeric    numeric\n",
       "9                    useTimeUomId                 id         id\n",
       "10                  useRoleTypeId                 id         id\n",
       "11                    sequenceNum            numeric    numeric\n",
       "12        *      lastUpdatedStamp          date-time  date-time\n",
       "13        *    lastUpdatedTxStamp          date-time  date-time\n",
       "14        *          createdStamp          date-time  date-time\n",
       "15        *        createdTxStamp          date-time  date-time"
      ]
     },
     "execution_count": 1,
     "metadata": {},
     "output_type": "execute_result"
    }
   ],
   "source": [
    "# ProductContent\n",
    "from sagas.ofbiz.entities import OfEntity as e\n",
    "e('meta').ProductContent"
   ]
  },
  {
   "cell_type": "code",
   "execution_count": 3,
   "metadata": {
    "ExecuteTime": {
     "end_time": "2019-03-13T18:17:37.073080Z",
     "start_time": "2019-03-13T18:17:37.026260Z"
    }
   },
   "outputs": [
    {
     "name": "stdout",
     "output_type": "stream",
     "text": [
      "+-------------------------+-------------------------+\n",
      "| name                    | value                   |\n",
      "|-------------------------+-------------------------|\n",
      "| ownerContentId          |                         |\n",
      "| createdStamp            | 2019-03-03 22:33:19.323 |\n",
      "| contentId               | HELP_PRODUCT            |\n",
      "| contentTypeId           | DOCUMENT                |\n",
      "| description             |                         |\n",
      "| mimeTypeId              | text/html               |\n",
      "| childLeafCount          |                         |\n",
      "| privilegeEnumId         |                         |\n",
      "| dataSourceId            |                         |\n",
      "| lastModifiedByUserLogin |                         |\n",
      "| dataResourceId          | HELP_PRODUCT            |\n",
      "| createdByUserLogin      |                         |\n",
      "| lastUpdatedStamp        | 2019-03-03 22:33:19.323 |\n",
      "| templateDataResourceId  | HELP_TEMPL              |\n",
      "| lastModifiedDate        |                         |\n",
      "| instanceOfContentId     |                         |\n",
      "| createdTxStamp          | 2019-03-03 22:33:19.315 |\n",
      "| lastUpdatedTxStamp      | 2019-03-03 22:33:19.315 |\n",
      "| serviceName             |                         |\n",
      "| customMethodId          |                         |\n",
      "| characterSetId          |                         |\n",
      "| contentName             | Catalog Manager         |\n",
      "| createdDate             |                         |\n",
      "| statusId                | CTNT_IN_PROGRESS        |\n",
      "| localeString            | en                      |\n",
      "| decoratorContentId      |                         |\n",
      "| childBranchCount        |                         |\n",
      "+-------------------------+-------------------------+\n"
     ]
    },
    {
     "data": {
      "text/plain": [
       "{'ownerContentId': None, 'createdStamp': JavaObject id=o1080, 'contentId': 'HELP_PRODUCT', 'contentTypeId': 'DOCUMENT', 'description': None, 'mimeTypeId': 'text/html', 'childLeafCount': None, 'privilegeEnumId': None, 'dataSourceId': None, 'lastModifiedByUserLogin': None, 'dataResourceId': 'HELP_PRODUCT', 'createdByUserLogin': None, 'lastUpdatedStamp': JavaObject id=o1081, 'templateDataResourceId': 'HELP_TEMPL', 'lastModifiedDate': None, 'instanceOfContentId': None, 'createdTxStamp': JavaObject id=o1082, 'lastUpdatedTxStamp': JavaObject id=o1083, 'serviceName': None, 'customMethodId': None, 'characterSetId': None, 'contentName': 'Catalog Manager', 'createdDate': None, 'statusId': 'CTNT_IN_PROGRESS', 'localeString': 'en', 'decoratorContentId': None, 'childBranchCount': None}"
      ]
     },
     "execution_count": 3,
     "metadata": {},
     "output_type": "execute_result"
    }
   ],
   "source": [
    "e('table').refContent('HELP_PRODUCT')"
   ]
  },
  {
   "cell_type": "code",
   "execution_count": 3,
   "metadata": {
    "ExecuteTime": {
     "end_time": "2019-02-22T19:56:42.918821Z",
     "start_time": "2019-02-22T19:56:42.435466Z"
    }
   },
   "outputs": [],
   "source": [
    "from sagas.ofbiz.entities import OfEntity as e\n",
    "product=e().refProduct('GZ-2002')"
   ]
  },
  {
   "cell_type": "code",
   "execution_count": 14,
   "metadata": {
    "ExecuteTime": {
     "end_time": "2019-02-02T09:31:15.728855Z",
     "start_time": "2019-02-02T09:31:15.543036Z"
    }
   },
   "outputs": [
    {
     "name": "stdout",
     "output_type": "stream",
     "text": [
      "PRODUCT Product None\n",
      "+------------------------+-----------------+-----------------------------+\n",
      "| name                   | type            | string                      |\n",
      "|------------------------+-----------------+-----------------------------|\n",
      "| originGeoId            | id              | ORIGIN_GEO_ID               |\n",
      "| detailScreen           | long-varchar    | DETAIL_SCREEN               |\n",
      "| requireInventory       | indicator       | REQUIRE_INVENTORY           |\n",
      "| quantityUomId          | id              | QUANTITY_UOM_ID             |\n",
      "| mediumImageUrl         | url             | MEDIUM_IMAGE_URL            |\n",
      "| productName            | name            | PRODUCT_NAME                |\n",
      "| introductionDate       | date-time       | INTRODUCTION_DATE           |\n",
      "| shippingHeight         | fixed-point     | SHIPPING_HEIGHT             |\n",
      "| originalImageUrl       | url             | ORIGINAL_IMAGE_URL          |\n",
      "| inShippingBox          | indicator       | IN_SHIPPING_BOX             |\n",
      "| detailImageUrl         | url             | DETAIL_IMAGE_URL            |\n",
      "| supportDiscontinuati.. | date-time       | SUPPORT_DISCONTINUATION_D.. |\n",
      "| productWidth           | fixed-point     | PRODUCT_WIDTH               |\n",
      "| includeInPromotions    | indicator       | INCLUDE_IN_PROMOTIONS       |\n",
      "| configId               | id              | CONFIG_ID                   |\n",
      "| billOfMaterialLevel    | numeric         | BILL_OF_MATERIAL_LEVEL      |\n",
      "| lotIdFilledIn          | long-varchar    | LOT_ID_FILLED_IN            |\n",
      "| productRating          | fixed-point     | PRODUCT_RATING              |\n",
      "| createdByUserLogin     | id-vlong        | CREATED_BY_USER_LOGIN       |\n",
      "| brandName              | name            | BRAND_NAME                  |\n",
      "| requireAmount          | indicator       | REQUIRE_AMOUNT              |\n",
      "| productId              | id              | PRODUCT_ID                  |\n",
      "| smallImageUrl          | url             | SMALL_IMAGE_URL             |\n",
      "| taxable                | indicator       | TAXABLE                     |\n",
      "| primaryProductCatego.. | id              | PRIMARY_PRODUCT_CATEGORY_.. |\n",
      "| salesDiscontinuation.. | date-time       | SALES_DISCONTINUATION_DAT.. |\n",
      "| salesDiscWhenNotAvai.. | indicator       | SALES_DISC_WHEN_NOT_AVAIL   |\n",
      "| returnable             | indicator       | RETURNABLE                  |\n",
      "| weightUomId            | id              | WEIGHT_UOM_ID               |\n",
      "| isVirtual              | indicator       | IS_VIRTUAL                  |\n",
      "| priceDetailText        | description     | PRICE_DETAIL_TEXT           |\n",
      "| reserv2ndPPPerc        | fixed-point     | RESERV2ND_P_P_PERC          |\n",
      "| widthUomId             | id              | WIDTH_UOM_ID                |\n",
      "| longDescription        | very-long       | LONG_DESCRIPTION            |\n",
      "| diameterUomId          | id              | DIAMETER_UOM_ID             |\n",
      "| autoCreateKeywords     | indicator       | AUTO_CREATE_KEYWORDS        |\n",
      "| amountUomTypeId        | id              | AMOUNT_UOM_TYPE_ID          |\n",
      "| productDiameter        | fixed-point     | PRODUCT_DIAMETER            |\n",
      "| ratingTypeEnum         | id              | RATING_TYPE_ENUM            |\n",
      "| description            | description     | DESCRIPTION                 |\n",
      "| chargeShipping         | indicator       | CHARGE_SHIPPING             |\n",
      "| reservNthPPPerc        | fixed-point     | RESERV_NTH_P_P_PERC         |\n",
      "| quantityIncluded       | fixed-point     | QUANTITY_INCLUDED           |\n",
      "| heightUomId            | id              | HEIGHT_UOM_ID               |\n",
      "| internalName           | description     | INTERNAL_NAME               |\n",
      "| lastModifiedByUserLo.. | id-vlong        | LAST_MODIFIED_BY_USER_LOG.. |\n",
      "| virtualVariantMethod.. | id              | VIRTUAL_VARIANT_METHOD_EN.. |\n",
      "| shippingWeight         | fixed-point     | SHIPPING_WEIGHT             |\n",
      "| shippingWidth          | fixed-point     | SHIPPING_WIDTH              |\n",
      "| shippingDepth          | fixed-point     | SHIPPING_DEPTH              |\n",
      "| reservMaxPersons       | fixed-point     | RESERV_MAX_PERSONS          |\n",
      "| fixedAmount            | currency-amount | FIXED_AMOUNT                |\n",
      "| inventoryItemTypeId    | id              | INVENTORY_ITEM_TYPE_ID      |\n",
      "| piecesIncluded         | numeric         | PIECES_INCLUDED             |\n",
      "| productDepth           | fixed-point     | PRODUCT_DEPTH               |\n",
      "| facilityId             | id              | FACILITY_ID                 |\n",
      "| comments               | comment         | COMMENTS                    |\n",
      "| releaseDate            | date-time       | RELEASE_DATE                |\n",
      "| productHeight          | fixed-point     | PRODUCT_HEIGHT              |\n",
      "| lastModifiedDate       | date-time       | LAST_MODIFIED_DATE          |\n",
      "| defaultShipmentBoxTy.. | id              | DEFAULT_SHIPMENT_BOX_TYPE.. |\n",
      "| orderDecimalQuantity   | indicator       | ORDER_DECIMAL_QUANTITY      |\n",
      "| inventoryMessage       | description     | INVENTORY_MESSAGE           |\n",
      "| productWeight          | fixed-point     | PRODUCT_WEIGHT              |\n",
      "| depthUomId             | id              | DEPTH_UOM_ID                |\n",
      "| productTypeId          | id              | PRODUCT_TYPE_ID             |\n",
      "| createdDate            | date-time       | CREATED_DATE                |\n",
      "| isVariant              | indicator       | IS_VARIANT                  |\n",
      "| largeImageUrl          | url             | LARGE_IMAGE_URL             |\n",
      "| requirementMethodEnu.. | id              | REQUIREMENT_METHOD_ENUM_I.. |\n",
      "+------------------------+-----------------+-----------------------------+\n",
      "+------------------------+----------+-----------------------------+\n",
      "| name                   | type     | string                      |\n",
      "|------------------------+----------+-----------------------------|\n",
      "| ProductType            | one      | ProductType                 |\n",
      "| ProductTypeAttr        | many     | ProductTypeAttr             |\n",
      "| ProductCategory        | one      | PrimaryProductCategory      |\n",
      "| Facility               | one      | Facility                    |\n",
      "| Uom                    | one      | QuantityUom                 |\n",
      "| UomType                | one      | AmountUomType               |\n",
      "| Uom                    | one      | WeightUom                   |\n",
      "| Uom                    | one      | HeightUom                   |\n",
      "| Uom                    | one      | WidthUom                    |\n",
      "| Uom                    | one      | DepthUom                    |\n",
      "| Uom                    | one      | DiameterUom                 |\n",
      "| Enumeration            | one      | VirtualVariantMethodEnume.. |\n",
      "| Enumeration            | one      | RatingEnumeration           |\n",
      "| Enumeration            | one      | RequirementMethodEnumerat.. |\n",
      "| Geo                    | one      | OriginGeo                   |\n",
      "| UserLogin              | one      | CreatedByUserLogin          |\n",
      "| UserLogin              | one      | LastModifiedByUserLogin     |\n",
      "| ProductFeatureAndApp.. | many     | ProductFeatureAndAppl       |\n",
      "| ShipmentBoxType        | one      | DefaultShipmentBoxType      |\n",
      "| InventoryItemType      | one      | InventoryItemType           |\n",
      "| Agreement              | many     | Agreement                   |\n",
      "| AgreementProductAppl   | many     | AgreementProductAppl        |\n",
      "| CartAbandonedLine      | many     | CartAbandonedLine           |\n",
      "| CommunicationEventPr.. | many     | CommunicationEventProduct   |\n",
      "| CostComponent          | many     | CostComponent               |\n",
      "| CustRequestItem        | many     | CustRequestItem             |\n",
      "| FixedAsset             | many     | InstanceOfFixedAsset        |\n",
      "| FixedAssetProduct      | many     | FixedAssetProduct           |\n",
      "| GoodIdentification     | many     | GoodIdentification          |\n",
      "| InventoryItem          | many     | InventoryItem               |\n",
      "| InventoryItemTempRes   | many     | InventoryItemTempRes        |\n",
      "| InvoiceItem            | many     | InvoiceItem                 |\n",
      "| MrpEvent               | many     | MrpEvent                    |\n",
      "| OrderItem              | many     | OrderItem                   |\n",
      "| OrderSummaryEntry      | many     | OrderSummaryEntry           |\n",
      "| PartyNeed              | many     | PartyNeed                   |\n",
      "| ProductAssoc           | many     | MainProductAssoc            |\n",
      "| ProductAssoc           | many     | AssocProductAssoc           |\n",
      "| ProductAttribute       | many     | ProductAttribute            |\n",
      "| ProductAverageCost     | many     | ProductAverageCost          |\n",
      "| ProductCalculatedInf.. | one-nofk | ProductCalculatedInfo       |\n",
      "| ProductCategoryMembe.. | many     | ProductCategoryMember       |\n",
      "| ProductConfig          | many     | ProductProductConfig        |\n",
      "| ProductConfigProduct   | many     | ProductProductConfigProdu.. |\n",
      "| ProductConfigStats     | many     | ProductProductConfigStats   |\n",
      "| ProductContent         | many     | ProductContent              |\n",
      "| ProductCostComponent.. | many     | ProductCostComponentCalc    |\n",
      "| ProductFacility        | many     | ProductFacility             |\n",
      "| ProductFacilityLocat.. | many     | ProductFacilityLocation     |\n",
      "| ProductFeatureAppl     | many     | ProductFeatureAppl          |\n",
      "| ProductFeatureApplAt.. | many     | ProductFeatureApplAttr      |\n",
      "| ProductGeo             | many     | ProductGeo                  |\n",
      "| ProductGlAccount       | many     | ProductGlAccount            |\n",
      "| ProductGroupOrder      | many     | ProductGroupOrder           |\n",
      "| ProductKeyword         | many     | ProductKeyword              |\n",
      "| ProductMaint           | many     | ProductMaint                |\n",
      "| ProductManufacturing.. | many     | ProductManufacturingRule    |\n",
      "| ProductManufacturing.. | many     | ProductForProductManufact.. |\n",
      "| ProductManufacturing.. | many     | ProductInProductManufactu.. |\n",
      "| ProductManufacturing.. | many     | ProductSubstProductManufa.. |\n",
      "| ProductMeter           | many     | ProductMeter                |\n",
      "| ProductOrderItem       | many     | ProductOrderItem            |\n",
      "| ProductPaymentMethod.. | many     | ProductPaymentMethodType    |\n",
      "| ProductPrice           | many     | ProductPrice                |\n",
      "| ProductPromoProduct    | many     | ProductPromoProduct         |\n",
      "| ProductReview          | many     | ProductReview               |\n",
      "| ProductRole            | many     | ProductRole                 |\n",
      "| ProductStoreSurveyAp.. | many     | ProductStoreSurveyAppl      |\n",
      "| ProductSubscriptionR.. | many     | ProductSubscriptionResour.. |\n",
      "| QuoteItem              | many     | QuoteItem                   |\n",
      "| ReorderGuideline       | many     | ReorderGuideline            |\n",
      "| Requirement            | many     | Requirement                 |\n",
      "| ReturnItem             | many     | ReturnItem                  |\n",
      "| SalesForecastDetail    | many     | SalesForecastDetail         |\n",
      "| ShipmentItem           | many     | ShipmentItem                |\n",
      "| ShipmentPackageConte.. | many     | SubShipmentPackageContent   |\n",
      "| ShipmentReceipt        | many     | ShipmentReceipt             |\n",
      "| ShoppingListItem       | many     | ShoppingListItem            |\n",
      "| Subscription           | many     | Subscription                |\n",
      "| SupplierProduct        | many     | SupplierProduct             |\n",
      "| VendorProduct          | many     | VendorProduct               |\n",
      "| WorkEffortGoodStanda.. | many     | WorkEffortGoodStandard      |\n",
      "+------------------------+----------+-----------------------------+\n"
     ]
    }
   ],
   "source": [
    "desc_model(\"Product\", False)"
   ]
  },
  {
   "cell_type": "code",
   "execution_count": 15,
   "metadata": {
    "ExecuteTime": {
     "end_time": "2019-02-02T09:32:05.970673Z",
     "start_time": "2019-02-02T09:32:05.953691Z"
    }
   },
   "outputs": [
    {
     "name": "stdout",
     "output_type": "stream",
     "text": [
      "PRODUCT_TYPE Product Type None\n",
      "+---------------+-------------+-----------------+\n",
      "| name          | type        | string          |\n",
      "|---------------+-------------+-----------------|\n",
      "| isPhysical    | indicator   | IS_PHYSICAL     |\n",
      "| parentTypeId  | id          | PARENT_TYPE_ID  |\n",
      "| isDigital     | indicator   | IS_DIGITAL      |\n",
      "| hasTable      | indicator   | HAS_TABLE       |\n",
      "| description   | description | DESCRIPTION     |\n",
      "| productTypeId | id          | PRODUCT_TYPE_ID |\n",
      "+---------------+-------------+-----------------+\n",
      "+-----------------+--------+-------------------+\n",
      "| name            | type   | string            |\n",
      "|-----------------+--------+-------------------|\n",
      "| ProductType     | one    | ParentProductType |\n",
      "| Product         | many   | Product           |\n",
      "| ProductType     | many   | ChildProductType  |\n",
      "| ProductTypeAttr | many   | ProductTypeAttr   |\n",
      "+-----------------+--------+-------------------+\n"
     ]
    }
   ],
   "source": [
    "desc_model(\"ProductType\", False)"
   ]
  },
  {
   "cell_type": "code",
   "execution_count": 18,
   "metadata": {
    "ExecuteTime": {
     "end_time": "2019-02-02T09:34:04.985174Z",
     "start_time": "2019-02-02T09:34:04.961220Z"
    }
   },
   "outputs": [
    {
     "name": "stdout",
     "output_type": "stream",
     "text": [
      "total 18\n",
      "AGGREGATED\n",
      "AGGREGATEDSERV_CONF\n",
      "AGGREGATED_CONF\n",
      "AGGREGATED_SERVICE\n",
      "ASSET_USAGE\n",
      "ASSET_USAGE_OUT_IN\n",
      "DIGITAL_GOOD\n",
      "FINDIG_GOOD\n",
      "FINISHED_GOOD\n",
      "GOOD\n",
      "MARKETING_PKG\n",
      "MARKETING_PKG_AUTO\n",
      "MARKETING_PKG_PICK\n",
      "RAW_MATERIAL\n",
      "SERVICE\n",
      "SERVICE_PRODUCT\n",
      "SUBASSEMBLY\n",
      "WIP\n"
     ]
    }
   ],
   "source": [
    "result=finder.find_list(\"ProductType\")\n",
    "print(\"total\", len(result))\n",
    "for rec in result:\n",
    "    print(rec['productTypeId'])"
   ]
  },
  {
   "cell_type": "code",
   "execution_count": 7,
   "metadata": {
    "ExecuteTime": {
     "end_time": "2019-02-02T09:20:45.134763Z",
     "start_time": "2019-02-02T09:20:45.128734Z"
    }
   },
   "outputs": [
    {
     "name": "stdout",
     "output_type": "stream",
     "text": [
      "org.apache.ofbiz.service.ModelService createProduct\n"
     ]
    }
   ],
   "source": [
    "service=oc.service_model('createProduct')\n",
    "print(service['module'], service['name'])"
   ]
  },
  {
   "cell_type": "code",
   "execution_count": 21,
   "metadata": {
    "ExecuteTime": {
     "end_time": "2019-02-02T09:34:53.573049Z",
     "start_time": "2019-02-02T09:34:53.469232Z"
    }
   },
   "outputs": [],
   "source": [
    "result=oc.call(\"createProduct\", \n",
    "               userLogin=finder.user, \n",
    "               internalName='Test_product',\n",
    "               productTypeId='GOOD')"
   ]
  },
  {
   "cell_type": "code",
   "execution_count": 22,
   "metadata": {
    "ExecuteTime": {
     "end_time": "2019-02-02T09:34:55.251768Z",
     "start_time": "2019-02-02T09:34:55.242448Z"
    }
   },
   "outputs": [
    {
     "name": "stdout",
     "output_type": "stream",
     "text": [
      "True\n"
     ]
    }
   ],
   "source": [
    "# print(result)\n",
    "ok=oc.j.ServiceUtil.isSuccess(result)\n",
    "print(ok)\n",
    "if not ok:\n",
    "    err=oc.j.ServiceUtil.getErrorMessage(result)\n",
    "    print(err)"
   ]
  },
  {
   "cell_type": "code",
   "execution_count": 37,
   "metadata": {
    "ExecuteTime": {
     "end_time": "2019-02-02T11:50:27.609762Z",
     "start_time": "2019-02-02T11:50:27.603451Z"
    }
   },
   "outputs": [
    {
     "name": "stdout",
     "output_type": "stream",
     "text": [
      "{'productId': '10002', 'responseMessage': 'success'}\n",
      "10002\n"
     ]
    }
   ],
   "source": [
    "print(result)\n",
    "print(result['productId'])"
   ]
  },
  {
   "cell_type": "code",
   "execution_count": 25,
   "metadata": {
    "ExecuteTime": {
     "end_time": "2019-02-02T11:16:04.528609Z",
     "start_time": "2019-02-02T11:16:04.469403Z"
    }
   },
   "outputs": [
    {
     "data": {
      "text/plain": [
       "{'originGeoId': None, 'detailScreen': None, 'createdStamp': JavaObject id=o2391, 'requireInventory': None, 'quantityUomId': None, 'mediumImageUrl': None, 'productName': None, 'introductionDate': None, 'shippingHeight': None, 'originalImageUrl': None, 'inShippingBox': None, 'detailImageUrl': None, 'supportDiscontinuationDate': None, 'productWidth': None, 'includeInPromotions': None, 'configId': None, 'billOfMaterialLevel': 0, 'lotIdFilledIn': None, 'productRating': None, 'createdByUserLogin': 'system', 'brandName': None, 'requireAmount': None, 'productId': '10002', 'smallImageUrl': None, 'taxable': None, 'primaryProductCategoryId': None, 'salesDiscontinuationDate': None, 'createdTxStamp': JavaObject id=o2392, 'lastUpdatedTxStamp': JavaObject id=o2393, 'salesDiscWhenNotAvail': None, 'returnable': None, 'weightUomId': None, 'isVirtual': 'N', 'priceDetailText': None, 'reserv2ndPPPerc': None, 'widthUomId': None, 'longDescription': None, 'diameterUomId': None, 'autoCreateKeywords': None, 'amountUomTypeId': None, 'productDiameter': None, 'ratingTypeEnum': None, 'description': None, 'chargeShipping': None, 'reservNthPPPerc': None, 'quantityIncluded': None, 'heightUomId': None, 'internalName': 'Test_product', 'lastModifiedByUserLogin': 'system', 'virtualVariantMethodEnum': None, 'shippingWeight': None, 'shippingWidth': None, 'shippingDepth': None, 'reservMaxPersons': None, 'fixedAmount': None, 'inventoryItemTypeId': None, 'piecesIncluded': None, 'productDepth': None, 'lastUpdatedStamp': JavaObject id=o2394, 'facilityId': None, 'comments': None, 'releaseDate': None, 'productHeight': None, 'lastModifiedDate': JavaObject id=o2395, 'defaultShipmentBoxTypeId': None, 'orderDecimalQuantity': None, 'inventoryMessage': None, 'productWeight': None, 'depthUomId': None, 'productTypeId': 'GOOD', 'createdDate': JavaObject id=o2396, 'isVariant': 'N', 'largeImageUrl': None, 'requirementMethodEnumId': None}"
      ]
     },
     "execution_count": 25,
     "metadata": {},
     "output_type": "execute_result"
    }
   ],
   "source": [
    "finder.find_one('Product', oc.jmap(productId='10002'))"
   ]
  },
  {
   "cell_type": "code",
   "execution_count": 27,
   "metadata": {
    "ExecuteTime": {
     "end_time": "2019-02-02T11:20:24.538462Z",
     "start_time": "2019-02-02T11:20:24.486134Z"
    }
   },
   "outputs": [
    {
     "name": "stdout",
     "output_type": "stream",
     "text": [
      "productId\n"
     ]
    }
   ],
   "source": [
    "def desc_prikey(entity_name):\n",
    "    ent = oc.delegator.getModelEntity(entity_name)\n",
    "    names = ent.getAllFieldNames()\n",
    "    for field_name in names:\n",
    "        fld = ent.getField(field_name)\n",
    "        if fld.getIsPk():\n",
    "            print(fld.getName())        \n",
    "        \n",
    "entity_name=\"Product\"\n",
    "desc_prikey(entity_name)"
   ]
  },
  {
   "cell_type": "code",
   "execution_count": 29,
   "metadata": {
    "ExecuteTime": {
     "end_time": "2019-02-02T11:22:07.245663Z",
     "start_time": "2019-02-02T11:22:07.238072Z"
    }
   },
   "outputs": [
    {
     "name": "stdout",
     "output_type": "stream",
     "text": [
      "1\n",
      "productId\n"
     ]
    }
   ],
   "source": [
    "ent = oc.delegator.getModelEntity(entity_name)\n",
    "print(ent.getPksSize())\n",
    "for fld in ent.getPkFieldNames():\n",
    "    print(fld)"
   ]
  },
  {
   "cell_type": "code",
   "execution_count": 14,
   "metadata": {
    "ExecuteTime": {
     "end_time": "2019-02-02T14:15:55.936102Z",
     "start_time": "2019-02-02T14:15:55.721909Z"
    }
   },
   "outputs": [
    {
     "name": "stdout",
     "output_type": "stream",
     "text": [
      "None\n",
      "True {'productId': '10013', 'responseMessage': 'success'}\n",
      "True {'responseMessage': 'success'}\n"
     ]
    }
   ],
   "source": [
    "# from sagas.ofbiz.runtime_context import platform\n",
    "# oc=platform.oc\n",
    "# finder=platform.finder\n",
    "\n",
    "class OfService(object):\n",
    "    # _oc=platform.oc\n",
    "    _name = None\n",
    "    _fields = {}   # {field: field object}\n",
    "\n",
    "    def __init__(self):\n",
    "        super(OfService, self).__init__()\n",
    "        \n",
    "    def __getattr__(cls, method):\n",
    "        \"\"\"Provide a dynamic access to a service method.\"\"\"\n",
    "        if method.startswith('_'):\n",
    "            return super(ServiceModel, cls).__getattr__(method)\n",
    "        def service_method(*args, **kwargs):\n",
    "            \"\"\"Return the result of the service request.\"\"\"            \n",
    "            # check args with runSync/runSyncIgnore/...\n",
    "            params=oc.jmap(**kwargs)\n",
    "            if \"userLogin\" not in kwargs:\n",
    "                params.put('userLogin', finder.user)\n",
    "            result = oc.dispatcher.runSync(method, params)\n",
    "            ok=oc.j.ServiceUtil.isSuccess(result)\n",
    "            if not ok:\n",
    "                err=oc.j.ServiceUtil.getErrorMessage(result)\n",
    "            return ok, result\n",
    "        return service_method\n",
    "\n",
    "    def __repr__(cls):\n",
    "        return \"MetaService(%r)\" % (cls._name)\n",
    "\n",
    "ms=OfService()\n",
    "print(ms._name)\n",
    "# ok, result=ms.createProduct(userLogin=finder.user, \n",
    "ok, result=ms.createProduct(\n",
    "               internalName='Test_product',\n",
    "               productTypeId='GOOD')\n",
    "print(ok, result)\n",
    "product_id=result['productId']\n",
    "ok, result=ms.updateProduct(productId=product_id, \n",
    "                            productName='Test_name_B',\n",
    "                            description='Updated description')\n",
    "print(ok, result)"
   ]
  },
  {
   "cell_type": "code",
   "execution_count": 62,
   "metadata": {
    "ExecuteTime": {
     "end_time": "2019-02-02T12:32:09.535207Z",
     "start_time": "2019-02-02T12:32:09.462666Z"
    }
   },
   "outputs": [
    {
     "name": "stdout",
     "output_type": "stream",
     "text": [
      "False {'errorMessageList': ['Exception thrown while creating the \"newEntity\" GenericValue: org.apache.ofbiz.entity.GenericEntityException: Error while inserting: [GenericEntity:Product][billOfMaterialLevel,0(java.lang.Long)][createdByUserLogin,system(java.lang.String)][createdDate,2019-02-02 20:32:09.469(java.sql.Timestamp)][createdStamp,2019-02-02 20:32:09.47(java.sql.Timestamp)][createdTxStamp,2019-02-02 20:32:09.468(java.sql.Timestamp)][internalName,Test_product(java.lang.String)][isVariant,N(java.lang.String)][isVirtual,N(java.lang.String)][lastModifiedByUserLogin,system(java.lang.String)][lastModifiedDate,2019-02-02 20:32:09.469(java.sql.Timestamp)][lastUpdatedStamp,2019-02-02 20:32:09.47(java.sql.Timestamp)][lastUpdatedTxStamp,2019-02-02 20:32:09.468(java.sql.Timestamp)][productId,10008(java.lang.String)][productTypeId,FOO(java.lang.String)] (SQL Exception while executing the following:INSERT INTO PRODUCT (PRODUCT_ID, PRODUCT_TYPE_ID, PRIMARY_PRODUCT_CATEGORY_ID, FACILITY_ID, INTRODUCTION_DATE, RELEASE_DATE, SUPPORT_DISCONTINUATION_DATE, SALES_DISCONTINUATION_DATE, SALES_DISC_WHEN_NOT_AVAIL, INTERNAL_NAME, BRAND_NAME, COMMENTS, PRODUCT_NAME, DESCRIPTION, LONG_DESCRIPTION, PRICE_DETAIL_TEXT, SMALL_IMAGE_URL, MEDIUM_IMAGE_URL, LARGE_IMAGE_URL, DETAIL_IMAGE_URL, ORIGINAL_IMAGE_URL, DETAIL_SCREEN, INVENTORY_MESSAGE, INVENTORY_ITEM_TYPE_ID, REQUIRE_INVENTORY, QUANTITY_UOM_ID, QUANTITY_INCLUDED, PIECES_INCLUDED, REQUIRE_AMOUNT, FIXED_AMOUNT, AMOUNT_UOM_TYPE_ID, WEIGHT_UOM_ID, SHIPPING_WEIGHT, PRODUCT_WEIGHT, HEIGHT_UOM_ID, PRODUCT_HEIGHT, SHIPPING_HEIGHT, WIDTH_UOM_ID, PRODUCT_WIDTH, SHIPPING_WIDTH, DEPTH_UOM_ID, PRODUCT_DEPTH, SHIPPING_DEPTH, DIAMETER_UOM_ID, PRODUCT_DIAMETER, PRODUCT_RATING, RATING_TYPE_ENUM, RETURNABLE, TAXABLE, CHARGE_SHIPPING, AUTO_CREATE_KEYWORDS, INCLUDE_IN_PROMOTIONS, IS_VIRTUAL, IS_VARIANT, VIRTUAL_VARIANT_METHOD_ENUM, ORIGIN_GEO_ID, REQUIREMENT_METHOD_ENUM_ID, BILL_OF_MATERIAL_LEVEL, RESERV_MAX_PERSONS, RESERV2ND_P_P_PERC, RESERV_NTH_P_P_PERC, CONFIG_ID, CREATED_DATE, CREATED_BY_USER_LOGIN, LAST_MODIFIED_DATE, LAST_MODIFIED_BY_USER_LOGIN, IN_SHIPPING_BOX, DEFAULT_SHIPMENT_BOX_TYPE_ID, LOT_ID_FILLED_IN, ORDER_DECIMAL_QUANTITY, LAST_UPDATED_STAMP, LAST_UPDATED_TX_STAMP, CREATED_STAMP, CREATED_TX_STAMP) VALUES (?, ?, ?, ?, ?, ?, ?, ?, ?, ?, ?, ?, ?, ?, ?, ?, ?, ?, ?, ?, ?, ?, ?, ?, ?, ?, ?, ?, ?, ?, ?, ?, ?, ?, ?, ?, ?, ?, ?, ?, ?, ?, ?, ?, ?, ?, ?, ?, ?, ?, ?, ?, ?, ?, ?, ?, ?, ?, ?, ?, ?, ?, ?, ?, ?, ?, ?, ?, ?, ?, ?, ?, ?, ?) (Cannot add or update a child row: a foreign key constraint fails (`ofbiz`.`product`, CONSTRAINT `PROD_TYPE` FOREIGN KEY (`PRODUCT_TYPE_ID`) REFERENCES `PRODUCT_TYPE` (`PRODUCT_TYPE_ID`)))) (Error while inserting: [GenericEntity:Product][billOfMaterialLevel,0(java.lang.Long)][createdByUserLogin,system(java.lang.String)][createdDate,2019-02-02 20:32:09.469(java.sql.Timestamp)][createdStamp,2019-02-02 20:32:09.47(java.sql.Timestamp)][createdTxStamp,2019-02-02 20:32:09.468(java.sql.Timestamp)][internalName,Test_product(java.lang.String)][isVariant,N(java.lang.String)][isVirtual,N(java.lang.String)][lastModifiedByUserLogin,system(java.lang.String)][lastModifiedDate,2019-02-02 20:32:09.469(java.sql.Timestamp)][lastUpdatedStamp,2019-02-02 20:32:09.47(java.sql.Timestamp)][lastUpdatedTxStamp,2019-02-02 20:32:09.468(java.sql.Timestamp)][productId,10008(java.lang.String)][productTypeId,FOO(java.lang.String)] (SQL Exception while executing the following:INSERT INTO PRODUCT (PRODUCT_ID, PRODUCT_TYPE_ID, PRIMARY_PRODUCT_CATEGORY_ID, FACILITY_ID, INTRODUCTION_DATE, RELEASE_DATE, SUPPORT_DISCONTINUATION_DATE, SALES_DISCONTINUATION_DATE, SALES_DISC_WHEN_NOT_AVAIL, INTERNAL_NAME, BRAND_NAME, COMMENTS, PRODUCT_NAME, DESCRIPTION, LONG_DESCRIPTION, PRICE_DETAIL_TEXT, SMALL_IMAGE_URL, MEDIUM_IMAGE_URL, LARGE_IMAGE_URL, DETAIL_IMAGE_URL, ORIGINAL_IMAGE_URL, DETAIL_SCREEN, INVENTORY_MESSAGE, INVENTORY_ITEM_TYPE_ID, REQUIRE_INVENTORY, QUANTITY_UOM_ID, QUANTITY_INCLUDED, PIECES_INCLUDED, REQUIRE_AMOUNT, FIXED_AMOUNT, AMOUNT_UOM_TYPE_ID, WEIGHT_UOM_ID, SHIPPING_WEIGHT, PRODUCT_WEIGHT, HEIGHT_UOM_ID, PRODUCT_HEIGHT, SHIPPING_HEIGHT, WIDTH_UOM_ID, PRODUCT_WIDTH, SHIPPING_WIDTH, DEPTH_UOM_ID, PRODUCT_DEPTH, SHIPPING_DEPTH, DIAMETER_UOM_ID, PRODUCT_DIAMETER, PRODUCT_RATING, RATING_TYPE_ENUM, RETURNABLE, TAXABLE, CHARGE_SHIPPING, AUTO_CREATE_KEYWORDS, INCLUDE_IN_PROMOTIONS, IS_VIRTUAL, IS_VARIANT, VIRTUAL_VARIANT_METHOD_ENUM, ORIGIN_GEO_ID, REQUIREMENT_METHOD_ENUM_ID, BILL_OF_MATERIAL_LEVEL, RESERV_MAX_PERSONS, RESERV2ND_P_P_PERC, RESERV_NTH_P_P_PERC, CONFIG_ID, CREATED_DATE, CREATED_BY_USER_LOGIN, LAST_MODIFIED_DATE, LAST_MODIFIED_BY_USER_LOGIN, IN_SHIPPING_BOX, DEFAULT_SHIPMENT_BOX_TYPE_ID, LOT_ID_FILLED_IN, ORDER_DECIMAL_QUANTITY, LAST_UPDATED_STAMP, LAST_UPDATED_TX_STAMP, CREATED_STAMP, CREATED_TX_STAMP) VALUES (?, ?, ?, ?, ?, ?, ?, ?, ?, ?, ?, ?, ?, ?, ?, ?, ?, ?, ?, ?, ?, ?, ?, ?, ?, ?, ?, ?, ?, ?, ?, ?, ?, ?, ?, ?, ?, ?, ?, ?, ?, ?, ?, ?, ?, ?, ?, ?, ?, ?, ?, ?, ?, ?, ?, ?, ?, ?, ?, ?, ?, ?, ?, ?, ?, ?, ?, ?, ?, ?, ?, ?, ?, ?) (Cannot add or update a child row: a foreign key constraint fails (`ofbiz`.`product`, CONSTRAINT `PROD_TYPE` FOREIGN KEY (`PRODUCT_TYPE_ID`) REFERENCES `PRODUCT_TYPE` (`PRODUCT_TYPE_ID`)))))'], 'productId': '10008', 'responseMessage': 'error'}\n"
     ]
    }
   ],
   "source": [
    "ok, result=ms.createProduct(userLogin=finder.user, \n",
    "               internalName='Test_product',\n",
    "               productTypeId='FOO')\n",
    "print(ok, result)"
   ]
  },
  {
   "cell_type": "code",
   "execution_count": 8,
   "metadata": {
    "ExecuteTime": {
     "end_time": "2019-02-02T14:04:57.953012Z",
     "start_time": "2019-02-02T14:04:57.904738Z"
    }
   },
   "outputs": [
    {
     "name": "stdout",
     "output_type": "stream",
     "text": [
      "['productId']\n",
      "Test_product\n",
      "5\n",
      "Test_product\n",
      "Test_product\n",
      "Test_product\n",
      "Test_product\n",
      "Test_product\n"
     ]
    }
   ],
   "source": [
    "class MetaEntity(object):\n",
    "    def __init__(self, name):\n",
    "        self.name=name\n",
    "        self.model = oc.delegator.getModelEntity(self.name)\n",
    "    @property\n",
    "    def primary(self):        \n",
    "        return self.model.getPkFieldNames()\n",
    "    @property\n",
    "    def field_names(self):     \n",
    "        names = self.model.getAllFieldNames()\n",
    "        return names\n",
    "    \n",
    "    def find_one(self, **kwargs):\n",
    "        params=oc.jmap(**kwargs)\n",
    "        return oc.delegator.findOne(self.name, params, True)\n",
    "    def find_list(self, limit=10, offset=0):\n",
    "        return finder.find_list(self.name, limit, offset)\n",
    "\n",
    "entity=MetaEntity(\"Product\")\n",
    "print(entity.primary)\n",
    "rec=entity.find_one(productId='10005')\n",
    "print(rec['internalName'])\n",
    "recs=entity.find_list(5, 0)\n",
    "print(len(recs))\n",
    "for r in recs:\n",
    "    print(r['internalName'])"
   ]
  },
  {
   "cell_type": "code",
   "execution_count": 15,
   "metadata": {
    "ExecuteTime": {
     "end_time": "2019-02-02T14:18:39.263503Z",
     "start_time": "2019-02-02T14:18:39.251050Z"
    }
   },
   "outputs": [
    {
     "name": "stdout",
     "output_type": "stream",
     "text": [
      "Updated description\n"
     ]
    }
   ],
   "source": [
    "product_id=\"10013\"\n",
    "entity=MetaEntity(\"Product\")\n",
    "rec=entity.find_one(productId=product_id)\n",
    "print(rec['description'])"
   ]
  },
  {
   "cell_type": "code",
   "execution_count": 1,
   "metadata": {
    "ExecuteTime": {
     "end_time": "2019-02-02T14:56:43.861414Z",
     "start_time": "2019-02-02T14:56:43.494167Z"
    },
    "scrolled": true
   },
   "outputs": [
    {
     "name": "stdout",
     "output_type": "stream",
     "text": [
      "5\n",
      "Company Vehicle\n",
      "CPU intel 586\n",
      "Dough\n",
      "DropShip from DemoSupplier\n",
      "DropShip from BigSupplier\n"
     ]
    }
   ],
   "source": [
    "from sagas.ofbiz.runtime_context import platform\n",
    "oc=platform.oc\n",
    "finder=platform.finder\n",
    "\n",
    "limit=5\n",
    "offset=15\n",
    "findOptions = oc.j.EntityFindOptions()\n",
    "findOptions.setLimit(limit)\n",
    "findOptions.setOffset(offset)\n",
    "# findOptions.setMaxRows(limit)\n",
    "rows = oc.delegator.findList('Product', None, None, None, findOptions, False)\n",
    "print(len(rows))\n",
    "for r in rows:\n",
    "    print(r['internalName'])"
   ]
  },
  {
   "cell_type": "code",
   "execution_count": 16,
   "metadata": {
    "ExecuteTime": {
     "end_time": "2019-02-02T15:14:31.936905Z",
     "start_time": "2019-02-02T15:14:31.712140Z"
    }
   },
   "outputs": [
    {
     "name": "stdout",
     "output_type": "stream",
     "text": [
      "updateProduct component://product/minilang/product/product/ProductServices.xml updateProduct\n",
      "[interfaceProduct:false]\n",
      "default entity:  Product\n",
      "+-------------------+--------------+----------+--------+---------------+\n",
      "| name              | type         | entity   | mode   | description   |\n",
      "|-------------------+--------------+----------+--------+---------------|\n",
      "| productId         | String       | Product  | IN     | *             |\n",
      "| productTypeId     | String       | Product  | IN     |               |\n",
      "| primaryProductC.. | String       | Product  | IN     |               |\n",
      "| facilityId        | String       | Product  | IN     |               |\n",
      "| introductionDat.. | java.sql.T.. | Product  | IN     |               |\n",
      "| releaseDate       | java.sql.T.. | Product  | IN     |               |\n",
      "| supportDisconti.. | java.sql.T.. | Product  | IN     |               |\n",
      "| salesDiscontinu.. | java.sql.T.. | Product  | IN     |               |\n",
      "| salesDiscWhenNo.. | String       | Product  | IN     |               |\n",
      "| internalName      | String       | Product  | IN     |               |\n",
      "| brandName         | String       | Product  | IN     |               |\n",
      "| comments          | String       | Product  | IN     |               |\n",
      "| productName       | String       | Product  | IN     |               |\n",
      "| description       | String       | Product  | IN     |               |\n",
      "| longDescription   | String       | Product  | IN     |               |\n",
      "| priceDetailText   | String       | Product  | IN     |               |\n",
      "| smallImageUrl     | String       | Product  | IN     |               |\n",
      "| mediumImageUrl    | String       | Product  | IN     |               |\n",
      "| largeImageUrl     | String       | Product  | IN     |               |\n",
      "| detailImageUrl    | String       | Product  | IN     |               |\n",
      "| originalImageUr.. | String       | Product  | IN     |               |\n",
      "| detailScreen      | String       | Product  | IN     |               |\n",
      "| inventoryMessag.. | String       | Product  | IN     |               |\n",
      "| inventoryItemTy.. | String       | Product  | IN     |               |\n",
      "| requireInventor.. | String       | Product  | IN     |               |\n",
      "| quantityUomId     | String       | Product  | IN     |               |\n",
      "| quantityInclude.. | java.math... | Product  | IN     |               |\n",
      "| piecesIncluded    | Long         | Product  | IN     |               |\n",
      "| requireAmount     | String       | Product  | IN     |               |\n",
      "| fixedAmount       | java.math... | Product  | IN     |               |\n",
      "| amountUomTypeId   | String       | Product  | IN     |               |\n",
      "| weightUomId       | String       | Product  | IN     |               |\n",
      "| shippingWeight    | java.math... | Product  | IN     |               |\n",
      "| productWeight     | java.math... | Product  | IN     |               |\n",
      "| heightUomId       | String       | Product  | IN     |               |\n",
      "| productHeight     | java.math... | Product  | IN     |               |\n",
      "| shippingHeight    | java.math... | Product  | IN     |               |\n",
      "| widthUomId        | String       | Product  | IN     |               |\n",
      "| productWidth      | java.math... | Product  | IN     |               |\n",
      "| shippingWidth     | java.math... | Product  | IN     |               |\n",
      "| depthUomId        | String       | Product  | IN     |               |\n",
      "| productDepth      | java.math... | Product  | IN     |               |\n",
      "| shippingDepth     | java.math... | Product  | IN     |               |\n",
      "| diameterUomId     | String       | Product  | IN     |               |\n",
      "| productDiameter   | java.math... | Product  | IN     |               |\n",
      "| productRating     | java.math... | Product  | IN     |               |\n",
      "| ratingTypeEnum    | String       | Product  | IN     |               |\n",
      "| returnable        | String       | Product  | IN     |               |\n",
      "| taxable           | String       | Product  | IN     |               |\n",
      "| chargeShipping    | String       | Product  | IN     |               |\n",
      "| autoCreateKeywo.. | String       | Product  | IN     |               |\n",
      "| includeInPromot.. | String       | Product  | IN     |               |\n",
      "| isVirtual         | String       | Product  | IN     |               |\n",
      "| isVariant         | String       | Product  | IN     |               |\n",
      "| virtualVariantM.. | String       | Product  | IN     |               |\n",
      "| originGeoId       | String       | Product  | IN     |               |\n",
      "| requirementMeth.. | String       | Product  | IN     |               |\n",
      "| billOfMaterialL.. | Long         | Product  | IN     |               |\n",
      "| reservMaxPerson.. | java.math... | Product  | IN     |               |\n",
      "| reserv2ndPPPerc   | java.math... | Product  | IN     |               |\n",
      "| reservNthPPPerc   | java.math... | Product  | IN     |               |\n",
      "| configId          | String       | Product  | IN     |               |\n",
      "| inShippingBox     | String       | Product  | IN     |               |\n",
      "| defaultShipment.. | String       | Product  | IN     |               |\n",
      "| lotIdFilledIn     | String       | Product  | IN     |               |\n",
      "| orderDecimalQua.. | String       | Product  | IN     |               |\n",
      "+-------------------+--------------+----------+--------+---------------+\n"
     ]
    }
   ],
   "source": [
    "from py4j.java_gateway import get_field \n",
    "from sagas.util.string_util import abbrev\n",
    "from tabulate import tabulate\n",
    "\n",
    "class MetaService(object):\n",
    "    def __init__(self, name):\n",
    "        self.name=name\n",
    "        self.model=oc.service_model(name)\n",
    "    @property\n",
    "    def parameters(self):\n",
    "        return self.model.getAllParamNames()\n",
    "    @property\n",
    "    def inputs(self):\n",
    "        return self.model.getInParamNames()\n",
    "    @property\n",
    "    def outputs(self):\n",
    "        return self.model.getOutParamNames()\n",
    "    @property\n",
    "    def location(self):\n",
    "        return get_field(self.model, \"location\")\n",
    "    @property\n",
    "    def invoke_method(self):\n",
    "        return get_field(self.model, \"invoke\")\n",
    "    @property\n",
    "    def interfaces(self):\n",
    "        return get_field(self.model, \"implServices\")\n",
    "    @property\n",
    "    def default_entity(self):\n",
    "        return get_field(self.model, \"defaultEntityName\")\n",
    "    def desc(self, show_internal=True):\n",
    "        print(self.name, self.location, self.invoke_method)\n",
    "        for intf in self.interfaces:\n",
    "            print(intf)\n",
    "        print(\"default entity: \", self.default_entity)\n",
    "        \n",
    "        table_header = ['name', 'type', 'entity', 'mode', 'description']\n",
    "        table_data = []\n",
    "        params=self.model.getModelParamList()\n",
    "        for param in params:\n",
    "            p_name=get_field(param, \"name\")\n",
    "            p_type=get_field(param, \"type\")\n",
    "            p_entity=get_field(param, \"entityName\")\n",
    "            p_mode=get_field(param, \"mode\")\n",
    "            p_desc=get_field(param, \"description\")\n",
    "            \n",
    "            optional=get_field(param, \"optional\")\n",
    "            internal=get_field(param, \"internal\")\n",
    "            \n",
    "            if internal and not show_internal:\n",
    "                continue\n",
    "            \n",
    "            if p_desc is None:\n",
    "                p_desc=\" \"\n",
    "            if not optional:\n",
    "                p_desc=\"* \"+p_desc\n",
    "            if internal:\n",
    "                p_desc=\"@ \"+p_desc\n",
    "            \n",
    "            table_data.append((abbrev(p_name, 15),\n",
    "                               abbrev(p_type,10), p_entity, p_mode,\n",
    "                              abbrev(p_desc,20)))\n",
    "                              \n",
    "        print(tabulate(table_data, headers=table_header, tablefmt='psql'))\n",
    "        \n",
    "ms=MetaService(\"updateProduct\")\n",
    "# print(ms.parameters)\n",
    "# print(ms.inputs)\n",
    "ms.desc(show_internal=False)"
   ]
  },
  {
   "cell_type": "code",
   "execution_count": 17,
   "metadata": {
    "ExecuteTime": {
     "end_time": "2019-02-02T15:15:39.148553Z",
     "start_time": "2019-02-02T15:15:39.069208Z"
    },
    "scrolled": true
   },
   "outputs": [
    {
     "name": "stdout",
     "output_type": "stream",
     "text": [
      "createProduct component://product/minilang/product/product/ProductServices.xml createProduct\n",
      "[interfaceProduct:false]\n",
      "default entity:  Product\n",
      "+-------------------+--------------+----------+--------+---------------+\n",
      "| name              | type         | entity   | mode   | description   |\n",
      "|-------------------+--------------+----------+--------+---------------|\n",
      "| productId         | String       | Product  | INOUT  |               |\n",
      "| primaryProductC.. | String       | Product  | IN     |               |\n",
      "| facilityId        | String       | Product  | IN     |               |\n",
      "| introductionDat.. | java.sql.T.. | Product  | IN     |               |\n",
      "| releaseDate       | java.sql.T.. | Product  | IN     |               |\n",
      "| supportDisconti.. | java.sql.T.. | Product  | IN     |               |\n",
      "| salesDiscontinu.. | java.sql.T.. | Product  | IN     |               |\n",
      "| salesDiscWhenNo.. | String       | Product  | IN     |               |\n",
      "| brandName         | String       | Product  | IN     |               |\n",
      "| comments          | String       | Product  | IN     |               |\n",
      "| productName       | String       | Product  | IN     |               |\n",
      "| description       | String       | Product  | IN     |               |\n",
      "| longDescription   | String       | Product  | IN     |               |\n",
      "| priceDetailText   | String       | Product  | IN     |               |\n",
      "| smallImageUrl     | String       | Product  | IN     |               |\n",
      "| mediumImageUrl    | String       | Product  | IN     |               |\n",
      "| largeImageUrl     | String       | Product  | IN     |               |\n",
      "| detailImageUrl    | String       | Product  | IN     |               |\n",
      "| originalImageUr.. | String       | Product  | IN     |               |\n",
      "| detailScreen      | String       | Product  | IN     |               |\n",
      "| inventoryMessag.. | String       | Product  | IN     |               |\n",
      "| inventoryItemTy.. | String       | Product  | IN     |               |\n",
      "| requireInventor.. | String       | Product  | IN     |               |\n",
      "| quantityUomId     | String       | Product  | IN     |               |\n",
      "| quantityInclude.. | java.math... | Product  | IN     |               |\n",
      "| piecesIncluded    | Long         | Product  | IN     |               |\n",
      "| requireAmount     | String       | Product  | IN     |               |\n",
      "| fixedAmount       | java.math... | Product  | IN     |               |\n",
      "| amountUomTypeId   | String       | Product  | IN     |               |\n",
      "| weightUomId       | String       | Product  | IN     |               |\n",
      "| shippingWeight    | java.math... | Product  | IN     |               |\n",
      "| productWeight     | java.math... | Product  | IN     |               |\n",
      "| heightUomId       | String       | Product  | IN     |               |\n",
      "| productHeight     | java.math... | Product  | IN     |               |\n",
      "| shippingHeight    | java.math... | Product  | IN     |               |\n",
      "| widthUomId        | String       | Product  | IN     |               |\n",
      "| productWidth      | java.math... | Product  | IN     |               |\n",
      "| shippingWidth     | java.math... | Product  | IN     |               |\n",
      "| depthUomId        | String       | Product  | IN     |               |\n",
      "| productDepth      | java.math... | Product  | IN     |               |\n",
      "| shippingDepth     | java.math... | Product  | IN     |               |\n",
      "| diameterUomId     | String       | Product  | IN     |               |\n",
      "| productDiameter   | java.math... | Product  | IN     |               |\n",
      "| productRating     | java.math... | Product  | IN     |               |\n",
      "| ratingTypeEnum    | String       | Product  | IN     |               |\n",
      "| returnable        | String       | Product  | IN     |               |\n",
      "| taxable           | String       | Product  | IN     |               |\n",
      "| chargeShipping    | String       | Product  | IN     |               |\n",
      "| autoCreateKeywo.. | String       | Product  | IN     |               |\n",
      "| includeInPromot.. | String       | Product  | IN     |               |\n",
      "| isVirtual         | String       | Product  | IN     |               |\n",
      "| isVariant         | String       | Product  | IN     |               |\n",
      "| virtualVariantM.. | String       | Product  | IN     |               |\n",
      "| originGeoId       | String       | Product  | IN     |               |\n",
      "| requirementMeth.. | String       | Product  | IN     |               |\n",
      "| billOfMaterialL.. | Long         | Product  | IN     |               |\n",
      "| reservMaxPerson.. | java.math... | Product  | IN     |               |\n",
      "| reserv2ndPPPerc   | java.math... | Product  | IN     |               |\n",
      "| reservNthPPPerc   | java.math... | Product  | IN     |               |\n",
      "| configId          | String       | Product  | IN     |               |\n",
      "| inShippingBox     | String       | Product  | IN     |               |\n",
      "| defaultShipment.. | String       | Product  | IN     |               |\n",
      "| lotIdFilledIn     | String       | Product  | IN     |               |\n",
      "| orderDecimalQua.. | String       | Product  | IN     |               |\n",
      "| productTypeId     | String       | Product  | IN     | *             |\n",
      "| internalName      | String       | Product  | IN     | *             |\n",
      "+-------------------+--------------+----------+--------+---------------+\n"
     ]
    }
   ],
   "source": [
    "MetaService(\"createProduct\").desc(False)"
   ]
  },
  {
   "cell_type": "code",
   "execution_count": 18,
   "metadata": {
    "ExecuteTime": {
     "end_time": "2019-02-02T15:16:48.853969Z",
     "start_time": "2019-02-02T15:16:48.829532Z"
    }
   },
   "outputs": [
    {
     "name": "stdout",
     "output_type": "stream",
     "text": [
      "getInventoryAvailableByFacility component://product/minilang/product/inventory/InventoryServices.xml getProductInventoryAvailable\n",
      "default entity:  \n",
      "+-------------------+------------+----------+--------+---------------+\n",
      "| name              | type       | entity   | mode   | description   |\n",
      "|-------------------+------------+----------+--------+---------------|\n",
      "| productId         | String     |          | IN     | *             |\n",
      "| facilityId        | String     |          | IN     | *             |\n",
      "| statusId          | String     |          | IN     |               |\n",
      "| lotId             | String     |          | IN     |               |\n",
      "| quantityOnHandT.. | BigDecimal |          | OUT    | *             |\n",
      "| availableToProm.. | BigDecimal |          | OUT    | *             |\n",
      "| accountingQuant.. | BigDecimal |          | OUT    | *             |\n",
      "| useCache          | Boolean    |          | IN     |               |\n",
      "+-------------------+------------+----------+--------+---------------+\n"
     ]
    }
   ],
   "source": [
    "MetaService('getInventoryAvailableByFacility').desc(False)"
   ]
  }
 ],
 "metadata": {
  "kernelspec": {
   "display_name": "Python 3",
   "language": "python",
   "name": "python3"
  },
  "language_info": {
   "codemirror_mode": {
    "name": "ipython",
    "version": 3
   },
   "file_extension": ".py",
   "mimetype": "text/x-python",
   "name": "python",
   "nbconvert_exporter": "python",
   "pygments_lexer": "ipython3",
   "version": "3.6.4"
  },
  "varInspector": {
   "cols": {
    "lenName": 16,
    "lenType": 16,
    "lenVar": 40
   },
   "kernels_config": {
    "python": {
     "delete_cmd_postfix": "",
     "delete_cmd_prefix": "del ",
     "library": "var_list.py",
     "varRefreshCmd": "print(var_dic_list())"
    },
    "r": {
     "delete_cmd_postfix": ") ",
     "delete_cmd_prefix": "rm(",
     "library": "var_list.r",
     "varRefreshCmd": "cat(var_dic_list()) "
    }
   },
   "types_to_exclude": [
    "module",
    "function",
    "builtin_function_or_method",
    "instance",
    "_Feature"
   ],
   "window_display": false
  }
 },
 "nbformat": 4,
 "nbformat_minor": 2
}
