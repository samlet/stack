{
 "cells": [
  {
   "cell_type": "markdown",
   "metadata": {},
   "source": [
    "⊕ [基于 Python 3 新增的函数注解（Function Annotations ）语法实现参数类型检查功能 - Huang Huang 的博客](https://mozillazg.com/2016/01/python-function-argument-type-check-base-on-function-annotations.html)\n"
   ]
  },
  {
   "cell_type": "code",
   "execution_count": 5,
   "metadata": {
    "ExecuteTime": {
     "end_time": "2018-11-29T13:30:23.867363Z",
     "start_time": "2018-11-29T13:30:23.860225Z"
    }
   },
   "outputs": [
    {
     "data": {
      "text/plain": [
       "{'a': int, 'b': \"it's b\", 'c': str, 'return': tuple}"
      ]
     },
     "execution_count": 5,
     "metadata": {},
     "output_type": "execute_result"
    }
   ],
   "source": [
    "def foobar(a: int, b: \"it's b\", c: str = 5) -> tuple:\n",
    "    return a, b, c\n",
    "foobar.__annotations__\n"
   ]
  },
  {
   "cell_type": "code",
   "execution_count": 10,
   "metadata": {
    "ExecuteTime": {
     "end_time": "2018-11-29T13:31:46.946441Z",
     "start_time": "2018-11-29T13:31:46.938008Z"
    }
   },
   "outputs": [
    {
     "name": "stdout",
     "output_type": "stream",
     "text": [
      "(a:int, b:\"it's b\", c:str=5) -> tuple\n",
      "a: <class 'int'>\n",
      "b: \"it's b\"\n",
      "c: <class 'str'>\n",
      "return -> <class 'tuple'>\n"
     ]
    }
   ],
   "source": [
    "import inspect\n",
    "sig = inspect.signature(foobar)\n",
    "print(sig)\n",
    "\n",
    "for k, v in sig.parameters.items():\n",
    "    print('{k}: {a!r}'.format(k=k, a=v.annotation))     \n",
    "\n",
    "print(\"return ->\", sig.return_annotation)"
   ]
  },
  {
   "cell_type": "code",
   "execution_count": 11,
   "metadata": {
    "ExecuteTime": {
     "end_time": "2018-11-29T13:32:00.820979Z",
     "start_time": "2018-11-29T13:32:00.814557Z"
    }
   },
   "outputs": [
    {
     "data": {
      "text/plain": [
       "('a', 2, 3)"
      ]
     },
     "execution_count": 11,
     "metadata": {},
     "output_type": "execute_result"
    }
   ],
   "source": [
    "foobar(a='a', b=2, c=3)"
   ]
  },
  {
   "cell_type": "markdown",
   "metadata": {},
   "source": [
    "- a: int 这种是注解参数\n",
    "- c: str = 5 是注解有默认值的参数\n",
    "- -> tuple 是注解返回值。"
   ]
  },
  {
   "cell_type": "code",
   "execution_count": 2,
   "metadata": {
    "ExecuteTime": {
     "end_time": "2018-11-29T13:28:39.818461Z",
     "start_time": "2018-11-29T13:28:39.814641Z"
    }
   },
   "outputs": [],
   "source": [
    "def foobar(a: 1+1) -> 2 * 2:\n",
    "    return a"
   ]
  },
  {
   "cell_type": "code",
   "execution_count": 4,
   "metadata": {
    "ExecuteTime": {
     "end_time": "2019-09-04T07:37:45.639988Z",
     "start_time": "2019-09-04T07:37:45.574447Z"
    }
   },
   "outputs": [],
   "source": [
    "import collections\n",
    "import functools\n",
    "import inspect\n",
    "\n",
    "\n",
    "def check(func):\n",
    "    msg = ('Expected type {expected!r} for argument {argument}, '\n",
    "           'but got type {got!r} with value {value!r}')\n",
    "    # 获取函数定义的参数\n",
    "    sig = inspect.signature(func)\n",
    "    parameters = sig.parameters          # 参数有序字典\n",
    "    arg_keys = tuple(parameters.keys())   # 参数名称\n",
    "\n",
    "    @functools.wraps(func)\n",
    "    def wrapper(*args, **kwargs):\n",
    "        CheckItem = collections.namedtuple('CheckItem', ('anno', 'arg_name', 'value'))\n",
    "        check_list = []\n",
    "\n",
    "        # collect args   *args 传入的参数以及对应的函数参数注解\n",
    "        for i, value in enumerate(args):\n",
    "            arg_name = arg_keys[i]\n",
    "            anno = parameters[arg_name].annotation\n",
    "            check_list.append(CheckItem(anno, arg_name, value))\n",
    "\n",
    "        # collect kwargs  **kwargs 传入的参数以及对应的函数参数注解\n",
    "        for arg_name, value in kwargs.items():\n",
    "            anno = parameters[arg_name].annotation\n",
    "            check_list.append(CheckItem(anno, arg_name, value))\n",
    "\n",
    "        # check type\n",
    "        for item in check_list:\n",
    "            if not isinstance(item.value, item.anno):\n",
    "                error = msg.format(expected=item.anno, argument=item.arg_name,\n",
    "                                   got=type(item.value), value=item.value)\n",
    "                raise TypeError(error)\n",
    "\n",
    "        return func(*args, **kwargs)\n",
    "\n",
    "    return wrapper"
   ]
  },
  {
   "cell_type": "code",
   "execution_count": 2,
   "metadata": {
    "ExecuteTime": {
     "end_time": "2019-09-04T07:37:33.483051Z",
     "start_time": "2019-09-04T07:37:33.476000Z"
    }
   },
   "outputs": [],
   "source": [
    "@check\n",
    "def foobar(a: int, b: str, c: float = 3.2) -> tuple:\n",
    "    return a, b, c"
   ]
  },
  {
   "cell_type": "code",
   "execution_count": 3,
   "metadata": {
    "ExecuteTime": {
     "end_time": "2019-09-04T07:37:35.755637Z",
     "start_time": "2019-09-04T07:37:35.736204Z"
    }
   },
   "outputs": [
    {
     "data": {
      "text/plain": [
       "(1, 'b', 3.2)"
      ]
     },
     "execution_count": 3,
     "metadata": {},
     "output_type": "execute_result"
    }
   ],
   "source": [
    "foobar(1, 'b')"
   ]
  },
  {
   "cell_type": "code",
   "execution_count": 17,
   "metadata": {
    "ExecuteTime": {
     "end_time": "2018-11-29T13:34:15.009506Z",
     "start_time": "2018-11-29T13:34:15.005122Z"
    }
   },
   "outputs": [],
   "source": [
    "# foobar('a', 'b')\n",
    "# TypeError: Expected type <class 'int'> for argument a, but got type <class 'str'> with value 'a'"
   ]
  },
  {
   "cell_type": "code",
   "execution_count": 18,
   "metadata": {
    "ExecuteTime": {
     "end_time": "2018-11-29T13:42:37.850249Z",
     "start_time": "2018-11-29T13:42:37.844428Z"
    }
   },
   "outputs": [
    {
     "name": "stdout",
     "output_type": "stream",
     "text": [
      "5\n"
     ]
    }
   ],
   "source": [
    "age: int = 5\n",
    "print(age)"
   ]
  },
  {
   "cell_type": "code",
   "execution_count": 19,
   "metadata": {
    "ExecuteTime": {
     "end_time": "2018-11-29T13:43:27.594733Z",
     "start_time": "2018-11-29T13:43:27.590161Z"
    }
   },
   "outputs": [],
   "source": [
    "from typing import List\n",
    "\n",
    "def print_names(names: List[str]) -> None:\n",
    "    for student in names:\n",
    "        print(student)"
   ]
  },
  {
   "cell_type": "code",
   "execution_count": 20,
   "metadata": {
    "ExecuteTime": {
     "end_time": "2018-11-29T13:43:44.100773Z",
     "start_time": "2018-11-29T13:43:44.086782Z"
    }
   },
   "outputs": [],
   "source": [
    "from typing import List, Tuple\n",
    "\n",
    "\n",
    "# Declare a point type annotation using a tuple of ints of [x, y]\n",
    "Point = Tuple[int, int]\n",
    "\n",
    "\n",
    "# Create a function designed to take in a list of Points\n",
    "def print_points(points: List[Point]):\n",
    "    for point in points:\n",
    "        print(\"X:\", point[0], \"  Y:\", point[1])"
   ]
  },
  {
   "cell_type": "code",
   "execution_count": 21,
   "metadata": {
    "ExecuteTime": {
     "end_time": "2018-11-29T13:44:04.537154Z",
     "start_time": "2018-11-29T13:44:04.523986Z"
    }
   },
   "outputs": [],
   "source": [
    "from typing import Optional\n",
    "\n",
    "def try_to_print(some_num: Optional[int]):\n",
    "    if some_num:\n",
    "        print(some_num)\n",
    "    else:\n",
    "        print('Value was None!')"
   ]
  },
  {
   "cell_type": "code",
   "execution_count": 22,
   "metadata": {
    "ExecuteTime": {
     "end_time": "2018-11-29T13:44:30.741019Z",
     "start_time": "2018-11-29T13:44:30.735133Z"
    }
   },
   "outputs": [],
   "source": [
    "from typing import Union\n",
    "\n",
    "def print_grade(grade: Union[int, str]):\n",
    "    if isinstance(grade, str):\n",
    "        print(grade + ' percent')\n",
    "    else:\n",
    "        print(str(grade) + '%')"
   ]
  },
  {
   "cell_type": "markdown",
   "metadata": {},
   "source": [
    "⊕ [输入 - 支持类型提示 - Python 3.7.1文档](https://docs.python.org/3/library/typing.html)\n"
   ]
  },
  {
   "cell_type": "code",
   "execution_count": 24,
   "metadata": {
    "ExecuteTime": {
     "end_time": "2018-11-29T13:56:20.404533Z",
     "start_time": "2018-11-29T13:56:20.396979Z"
    }
   },
   "outputs": [],
   "source": [
    "from typing import NamedTuple\n",
    "class Employee(NamedTuple):\n",
    "    name: str\n",
    "    id: int = 3\n",
    "\n",
    "employee = Employee('Guido')\n",
    "assert employee.id == 3"
   ]
  }
 ],
 "metadata": {
  "kernelspec": {
   "display_name": "Python 3",
   "language": "python",
   "name": "python3"
  },
  "language_info": {
   "codemirror_mode": {
    "name": "ipython",
    "version": 3
   },
   "file_extension": ".py",
   "mimetype": "text/x-python",
   "name": "python",
   "nbconvert_exporter": "python",
   "pygments_lexer": "ipython3",
   "version": "3.6.4"
  },
  "varInspector": {
   "cols": {
    "lenName": 16,
    "lenType": 16,
    "lenVar": 40
   },
   "kernels_config": {
    "python": {
     "delete_cmd_postfix": "",
     "delete_cmd_prefix": "del ",
     "library": "var_list.py",
     "varRefreshCmd": "print(var_dic_list())"
    },
    "r": {
     "delete_cmd_postfix": ") ",
     "delete_cmd_prefix": "rm(",
     "library": "var_list.r",
     "varRefreshCmd": "cat(var_dic_list()) "
    }
   },
   "types_to_exclude": [
    "module",
    "function",
    "builtin_function_or_method",
    "instance",
    "_Feature"
   ],
   "window_display": false
  }
 },
 "nbformat": 4,
 "nbformat_minor": 2
}
