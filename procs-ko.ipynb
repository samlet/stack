{
 "cells": [
  {
   "cell_type": "code",
   "execution_count": 3,
   "metadata": {
    "ExecuteTime": {
     "end_time": "2019-07-11T18:33:59.150692Z",
     "start_time": "2019-07-11T18:33:59.143241Z"
    }
   },
   "outputs": [
    {
     "name": "stdout",
     "output_type": "stream",
     "text": [
      "['지금은', '전', '세계가', '한', '마을이', '되었다']\n"
     ]
    }
   ],
   "source": [
    "text='지금은 전 세계가 한 마을이 되었다'\n",
    "sents=text.split(' ')\n",
    "print(sents)"
   ]
  },
  {
   "cell_type": "code",
   "execution_count": 4,
   "metadata": {
    "ExecuteTime": {
     "end_time": "2019-07-11T18:34:02.372659Z",
     "start_time": "2019-07-11T18:34:01.049723Z"
    }
   },
   "outputs": [
    {
     "name": "stdout",
     "output_type": "stream",
     "text": [
      "Now the whole world has become a village.\n",
      "[]\n"
     ]
    }
   ],
   "source": [
    "from sagas.nlu.google_translator import translate\n",
    "source='ko'\n",
    "target='en'\n",
    "verbose=False\n",
    "res,t = translate(text, source=source, target=target,\n",
    "                        trans_verbose=verbose)\n",
    "print(res)\n",
    "print(t)"
   ]
  },
  {
   "cell_type": "code",
   "execution_count": 29,
   "metadata": {
    "ExecuteTime": {
     "end_time": "2019-07-11T19:45:59.003481Z",
     "start_time": "2019-07-11T19:45:58.985110Z"
    }
   },
   "outputs": [
    {
     "name": "stdout",
     "output_type": "stream",
     "text": [
      "{'en_US': 'com.apple.speech.synthesis.voice.Victoria', 'it_IT': 'com.apple.speech.synthesis.voice.luca', 'sv_SE': 'com.apple.speech.synthesis.voice.alva', 'fr_CA': 'com.apple.speech.synthesis.voice.amelie', 'de_DE': 'com.apple.speech.synthesis.voice.anna', 'he_IL': 'com.apple.speech.synthesis.voice.carmit', 'id_ID': 'com.apple.speech.synthesis.voice.damayanti', 'en_GB': 'com.apple.speech.synthesis.voice.daniel', 'es_AR': 'com.apple.speech.synthesis.voice.diego', 'nl_BE': 'com.apple.speech.synthesis.voice.ellen', 'en-scotland': 'com.apple.speech.synthesis.voice.fiona', 'ro_RO': 'com.apple.speech.synthesis.voice.ioana', 'pt_PT': 'com.apple.speech.synthesis.voice.joana', 'es_ES': 'com.apple.speech.synthesis.voice.monica', 'es_MX': 'com.apple.speech.synthesis.voice.paulina', 'th_TH': 'com.apple.speech.synthesis.voice.kanya', 'en_AU': 'com.apple.speech.synthesis.voice.karen', 'ja_JP': 'com.apple.speech.synthesis.voice.kyoko', 'sk_SK': 'com.apple.speech.synthesis.voice.laura', 'hi_IN': 'com.apple.speech.synthesis.voice.lekha', 'pt_BR': 'com.apple.speech.synthesis.voice.luciana', 'ar_SA': 'com.apple.speech.synthesis.voice.maged', 'hu_HU': 'com.apple.speech.synthesis.voice.mariska', 'zh_TW': 'com.apple.speech.synthesis.voice.mei-jia', 'el_GR': 'com.apple.speech.synthesis.voice.melina', 'ru_RU': 'com.apple.speech.synthesis.voice.yuri', 'en_IE': 'com.apple.speech.synthesis.voice.moira', 'nb_NO': 'com.apple.speech.synthesis.voice.nora', 'da_DK': 'com.apple.speech.synthesis.voice.sara', 'fi_FI': 'com.apple.speech.synthesis.voice.satu', 'zh_HK': 'com.apple.speech.synthesis.voice.sin-ji', 'en_ZA': 'com.apple.speech.synthesis.voice.tessa', 'fr_FR': 'com.apple.speech.synthesis.voice.thomas', 'zh_CN': 'com.apple.speech.synthesis.voice.ting-ting.premium', 'en_IN': 'com.apple.speech.synthesis.voice.veena', 'nl_NL': 'com.apple.speech.synthesis.voice.xander', 'tr_TR': 'com.apple.speech.synthesis.voice.yelda', 'ko_KR': 'com.apple.speech.synthesis.voice.yuna', 'pl_PL': 'com.apple.speech.synthesis.voice.zosia', 'cs_CZ': 'com.apple.speech.synthesis.voice.zuzana'}\n"
     ]
    }
   ],
   "source": [
    "import pyttsx3\n",
    "engine = pyttsx3.init()\n",
    "voices = engine.getProperty('voices')       #getting details of current voice\n",
    "langs=[v.languages[0] for v in voices]\n",
    "ids=[v.id for v in voices]\n",
    "langs_map=dict(zip(langs,ids))\n",
    "print(langs_map)"
   ]
  },
  {
   "cell_type": "code",
   "execution_count": 38,
   "metadata": {
    "ExecuteTime": {
     "end_time": "2019-07-11T19:52:59.762668Z",
     "start_time": "2019-07-11T19:52:56.646912Z"
    }
   },
   "outputs": [],
   "source": [
    "def say_in(sents, lang, rate=200):\n",
    "    engine.setProperty('rate', rate)     # setting up new voice rate\n",
    "    engine.setProperty('voice', langs_map[lang])\n",
    "    engine.say(sents)\n",
    "    engine.runAndWait()\n",
    "say_in('지금은 전 세계가 한 마을이 되었다', 'ko_KR', 150)"
   ]
  },
  {
   "cell_type": "code",
   "execution_count": 39,
   "metadata": {
    "ExecuteTime": {
     "end_time": "2019-07-11T19:53:13.871468Z",
     "start_time": "2019-07-11T19:53:10.755742Z"
    }
   },
   "outputs": [],
   "source": [
    "say_in('지금은 전 세계가 한 마을이 되었다', 'ko_KR', 200)"
   ]
  },
  {
   "cell_type": "code",
   "execution_count": 32,
   "metadata": {
    "ExecuteTime": {
     "end_time": "2019-07-11T19:47:18.043162Z",
     "start_time": "2019-07-11T19:47:18.036513Z"
    }
   },
   "outputs": [
    {
     "name": "stdout",
     "output_type": "stream",
     "text": [
      "200.0\n"
     ]
    }
   ],
   "source": [
    "rate = engine.getProperty('rate')   # getting details of current speaking rate\n",
    "print (rate)                        #printing current voice rate"
   ]
  },
  {
   "cell_type": "code",
   "execution_count": 34,
   "metadata": {
    "ExecuteTime": {
     "end_time": "2019-07-11T19:48:24.019985Z",
     "start_time": "2019-07-11T19:48:24.015885Z"
    }
   },
   "outputs": [],
   "source": [
    "engine.setProperty('rate', 125)     # setting up new voice rate"
   ]
  },
  {
   "cell_type": "code",
   "execution_count": 21,
   "metadata": {
    "ExecuteTime": {
     "end_time": "2019-07-11T19:41:08.012199Z",
     "start_time": "2019-07-11T19:41:04.866650Z"
    }
   },
   "outputs": [],
   "source": [
    "import pyttsx3\n",
    "engine = pyttsx3.init()\n",
    "engine.say(\"I will speak this text\")\n",
    "engine.runAndWait()"
   ]
  },
  {
   "cell_type": "code",
   "execution_count": 45,
   "metadata": {
    "ExecuteTime": {
     "end_time": "2019-07-11T20:06:42.918472Z",
     "start_time": "2019-07-11T20:06:36.701046Z"
    }
   },
   "outputs": [
    {
     "name": "stdout",
     "output_type": "stream",
     "text": [
      "✁ 지금은 전 세계가 한 마을이 되었다(现在整个世界都变成了一个村庄。 ❣ jigeum-eun jeon segyega han ma-eul-i doeeossda)\n",
      "지금은(现在, jigeum-eun) 전(的, jeon) 세계가(世界, segyega) 한(一, han) 마을이(镇, ma-eul-i) 되었다(是的, doeeossda) .\n",
      "speak language with ko ...\n",
      "done.\n"
     ]
    }
   ],
   "source": [
    "import time\n",
    "from sagas.nlu.nlu_tools import NluTools\n",
    "def process(source, target, text, ips_idx=1):\n",
    "    options=set(['get_pronounce'])\n",
    "    # options.add('get_pronounce')\n",
    "    res,t = translate(text, source=source, target=target,\n",
    "                      trans_verbose=verbose, options=options)\n",
    "    # print(res, text, t[ips_idx])\n",
    "    print('✁', '%s(%s %s)'%(text, res, t[ips_idx]))\n",
    "    for sent in text.split(' '):\n",
    "        res,t = translate(sent, source=source, target=target,\n",
    "                          trans_verbose=verbose, options=options)\n",
    "        # print(res, sent, t[ips_idx])\n",
    "        print('%s(%s,%s)'%(sent,res,t[ips_idx][1:]), end =\" \")\n",
    "        time.sleep(0.05)\n",
    "    print('.')\n",
    "\n",
    "text='지금은 전 세계가 한 마을이 되었다'\n",
    "target='zh-CN'\n",
    "process('ko', target, text)\n",
    "NluTools().say(text, 'ko')"
   ]
  },
  {
   "cell_type": "code",
   "execution_count": 53,
   "metadata": {
    "ExecuteTime": {
     "end_time": "2019-07-11T22:29:29.145896Z",
     "start_time": "2019-07-11T22:29:23.470443Z"
    }
   },
   "outputs": [
    {
     "name": "stdout",
     "output_type": "stream",
     "text": [
      "✁ 유전이 발견되었죠.(发现了油田。 ❣ yujeon-i balgyeondoeeossjyo.)\n",
      "유전이(遗传, yujeon-i) 발견되었죠.(它成为发现。, balgyeondoeeossjyo.) .\n",
      "speak language with ko ...\n",
      "done.\n"
     ]
    }
   ],
   "source": [
    "def analyse_ko(text):\n",
    "    target='zh-CN'\n",
    "    process('ko', target, text)\n",
    "    NluTools().say(text, 'ko')\n",
    "analyse_ko('유전이 발견되었죠.')"
   ]
  },
  {
   "cell_type": "code",
   "execution_count": 57,
   "metadata": {
    "ExecuteTime": {
     "end_time": "2019-07-12T00:06:32.798485Z",
     "start_time": "2019-07-12T00:06:32.794161Z"
    }
   },
   "outputs": [],
   "source": [
    "# def analyse_ar(text):\n",
    "#     target='zh-CN'\n",
    "#     process('ar', target, text, 0)\n",
    "#     NluTools().say(text, 'ar')\n",
    "# analyse_ko('مع جور هوبيمان,ايمر كامينيكا, وي جانج')"
   ]
  },
  {
   "cell_type": "code",
   "execution_count": 54,
   "metadata": {
    "ExecuteTime": {
     "end_time": "2019-07-11T22:33:24.697142Z",
     "start_time": "2019-07-11T22:33:17.406094Z"
    },
    "collapsed": true
   },
   "outputs": [
    {
     "name": "stdout",
     "output_type": "stream",
     "text": [
      "✁ 그렇게 큰 규모는 아니었습니다.(它不是那么大。 ❣ geuleohge keun gyumoneun anieossseubnida.)\n",
      "그렇게(所以, geuleohge) 큰(伟大, keun) 규모는(规模, gyumoneun) 아니었습니다.(事实并非如此。, anieossseubnida.) .\n",
      "speak language with ko ...\n",
      "done.\n"
     ]
    }
   ],
   "source": [
    "analyse_ko('그렇게 큰 규모는 아니었습니다.')"
   ]
  },
  {
   "cell_type": "code",
   "execution_count": 46,
   "metadata": {
    "ExecuteTime": {
     "end_time": "2019-07-11T20:06:52.096086Z",
     "start_time": "2019-07-11T20:06:45.019968Z"
    },
    "collapsed": true
   },
   "outputs": [
    {
     "name": "stdout",
     "output_type": "stream",
     "text": [
      "✔ 이제 전 세계가 마을이되었습니다.\n",
      "✁ 이제 전 세계가 마을이되었습니다.(现在整个世界都变成了一个村庄。 ❣ ije jeon segyega ma-eul-idoeeossseubnida.)\n",
      "이제(现在, ije) 전(的, jeon) 세계가(世界, segyega) 마을이되었습니다.(我成了一个小镇。, ma-eul-idoeeossseubnida.) .\n",
      "speak language with ko ...\n",
      "done.\n"
     ]
    }
   ],
   "source": [
    "def analyse(sents_zh):\n",
    "    # translate from chinese to korea\n",
    "    sents_ko,_ = translate(sents_zh, source='zh-CN', target='ko')\n",
    "    print('✔', sents_ko)\n",
    "    process('ko', 'zh-CN', sents_ko)\n",
    "    NluTools().say(sents_ko, 'ko')\n",
    "\n",
    "analyse('现在整个世界都变成了一个村庄。')"
   ]
  },
  {
   "cell_type": "code",
   "execution_count": 10,
   "metadata": {
    "ExecuteTime": {
     "end_time": "2019-07-11T18:47:46.317055Z",
     "start_time": "2019-07-11T18:47:43.883918Z"
    }
   },
   "outputs": [
    {
     "name": "stdout",
     "output_type": "stream",
     "text": [
      "이제 세계는 지구촌이되었습니다. 现在，全世界变成了一个地球村。 []\n",
      "이제 세계는 지구촌이되었습니다. 现在，全世界变成了一个地球村。 []\n"
     ]
    }
   ],
   "source": [
    "process('zh-CN', 'ko', '现在，全世界变成了一个地球村。')"
   ]
  },
  {
   "cell_type": "code",
   "execution_count": 12,
   "metadata": {
    "ExecuteTime": {
     "end_time": "2019-07-11T18:49:43.702110Z",
     "start_time": "2019-07-11T18:49:41.269932Z"
    }
   },
   "outputs": [
    {
     "name": "stdout",
     "output_type": "stream",
     "text": [
      "저는 학생입니다 I am a student []\n",
      "나는 I []\n",
      "오전 am []\n",
      "에이 a []\n",
      "학생 student []\n"
     ]
    }
   ],
   "source": [
    "process('en', 'ko', 'I am a student')"
   ]
  },
  {
   "cell_type": "code",
   "execution_count": 51,
   "metadata": {
    "ExecuteTime": {
     "end_time": "2019-07-11T21:39:05.963665Z",
     "start_time": "2019-07-11T21:39:02.566057Z"
    }
   },
   "outputs": [
    {
     "name": "stdout",
     "output_type": "stream",
     "text": [
      "74148582\n"
     ]
    }
   ],
   "source": [
    "def read_csv(file):\n",
    "    import pandas as pd\n",
    "    df = pd.read_csv(file, \n",
    "                     compression='xz')\n",
    "    df.head()\n",
    "\n",
    "def read_text_file(file):\n",
    "    import lzma\n",
    "    with lzma.open(file) as f:\n",
    "        file_content = f.read()\n",
    "        return file_content.decode('utf-8')\n",
    "file='/pi/ai/ko/full_train.csv.xz'\n",
    "r=read_text_file(file)\n",
    "print(len(r))"
   ]
  },
  {
   "cell_type": "code",
   "execution_count": 52,
   "metadata": {
    "ExecuteTime": {
     "end_time": "2019-07-11T21:39:08.777735Z",
     "start_time": "2019-07-11T21:39:08.770027Z"
    }
   },
   "outputs": [
    {
     "data": {
      "text/plain": [
       "'\"5\",\"````````````````````````````````````````\",\"\"\\n\"3\",\"``^^사용해봐아겟네요...\",\"\"\\n\"4\",\"``\",\"괜찮네요~ 깔끔하고ㅇ\"\\n\"2'"
      ]
     },
     "execution_count": 52,
     "metadata": {},
     "output_type": "execute_result"
    }
   ],
   "source": [
    "r[:100]"
   ]
  },
  {
   "cell_type": "code",
   "execution_count": 3,
   "metadata": {
    "ExecuteTime": {
     "end_time": "2019-07-29T16:24:04.153474Z",
     "start_time": "2019-07-29T16:24:03.638789Z"
    }
   },
   "outputs": [
    {
     "name": "stdout",
     "output_type": "stream",
     "text": [
      "text: 이제 \tlemma: 이제\tupos: ADV\txpos: mag\n",
      "text: 세계는 \tlemma: 세계+는\tupos: NOUN\txpos: ncn+jxt\n",
      "text: 지구촌이되었습니다. \tlemma: 지구+살이+다는가+이+었+다\tupos: VERB\txpos: ncpa+xsv+ep+ef\n",
      "('이제', '2', 'advmod')\n",
      "('세계는', '0', 'root')\n",
      "('지구촌이되었습니다.', '2', 'conj')\n"
     ]
    },
    {
     "data": {
      "image/svg+xml": [
       "<?xml version=\"1.0\" encoding=\"UTF-8\" standalone=\"no\"?>\n",
       "<!DOCTYPE svg PUBLIC \"-//W3C//DTD SVG 1.1//EN\"\n",
       " \"http://www.w3.org/Graphics/SVG/1.1/DTD/svg11.dtd\">\n",
       "<!-- Generated by graphviz version 2.40.1 (20161225.0304)\n",
       " -->\n",
       "<!-- Title: deps Pages: 1 -->\n",
       "<svg width=\"576pt\" height=\"89pt\"\n",
       " viewBox=\"0.00 0.00 576.00 89.10\" xmlns=\"http://www.w3.org/2000/svg\" xmlns:xlink=\"http://www.w3.org/1999/xlink\">\n",
       "<g id=\"graph0\" class=\"graph\" transform=\"scale(.6558 .6558) rotate(0) translate(4 131.8715)\">\n",
       "<title>deps</title>\n",
       "<polygon fill=\"#ffffff\" stroke=\"transparent\" points=\"-4,4 -4,-131.8715 874.3576,-131.8715 874.3576,4 -4,4\"/>\n",
       "<!-- 이제\n",
       "(now, ije) -->\n",
       "<g id=\"node1\" class=\"node\">\n",
       "<title>이제\n",
       "(now, ije)</title>\n",
       "<ellipse fill=\"none\" stroke=\"#000000\" cx=\"591.0421\" cy=\"-100.4358\" rx=\"50.8621\" ry=\"27.3717\"/>\n",
       "<text text-anchor=\"middle\" x=\"591.0421\" y=\"-104.6358\" font-family=\"Calibri\" font-size=\"14.00\" fill=\"#000000\">이제</text>\n",
       "<text text-anchor=\"middle\" x=\"591.0421\" y=\"-87.8358\" font-family=\"Calibri\" font-size=\"14.00\" fill=\"#000000\">(now, ije)</text>\n",
       "</g>\n",
       "<!-- 세계는\n",
       "(The world, segyeneun) -->\n",
       "<g id=\"node2\" class=\"node\">\n",
       "<title>세계는\n",
       "(The world, segyeneun)</title>\n",
       "<ellipse fill=\"none\" stroke=\"#000000\" cx=\"115.3116\" cy=\"-63.4358\" rx=\"115.1235\" ry=\"27.3717\"/>\n",
       "<text text-anchor=\"middle\" x=\"115.3116\" y=\"-67.6358\" font-family=\"Calibri\" font-size=\"14.00\" fill=\"#000000\">세계는</text>\n",
       "<text text-anchor=\"middle\" x=\"115.3116\" y=\"-50.8358\" font-family=\"Calibri\" font-size=\"14.00\" fill=\"#000000\">(The world, segyeneun)</text>\n",
       "</g>\n",
       "<!-- 세계는\n",
       "(The world, segyeneun)&#45;&gt;이제\n",
       "(now, ije) -->\n",
       "<g id=\"edge1\" class=\"edge\">\n",
       "<title>세계는\n",
       "(The world, segyeneun)&#45;&gt;이제\n",
       "(now, ije)</title>\n",
       "<path fill=\"none\" stroke=\"#000000\" d=\"M225.0511,-71.9708C319.9857,-79.3543 453.7314,-89.7564 530.4911,-95.7264\"/>\n",
       "<polygon fill=\"#000000\" stroke=\"#000000\" points=\"530.2356,-99.217 540.4769,-96.5031 530.7785,-92.2381 530.2356,-99.217\"/>\n",
       "<text text-anchor=\"middle\" x=\"271.1749\" y=\"-80.2358\" font-family=\"Times,serif\" font-size=\"14.00\" fill=\"#000000\">advmod</text>\n",
       "</g>\n",
       "<!-- 지구촌이되었습니다.\n",
       "(It has become a global village., jiguchon&#45;idoeeossseubnida.) -->\n",
       "<g id=\"node3\" class=\"node\">\n",
       "<title>지구촌이되었습니다.\n",
       "(It has become a global village., jiguchon&#45;idoeeossseubnida.)</title>\n",
       "<ellipse fill=\"none\" stroke=\"#000000\" cx=\"591.0421\" cy=\"-27.4358\" rx=\"279.1311\" ry=\"27.3717\"/>\n",
       "<text text-anchor=\"middle\" x=\"591.0421\" y=\"-31.6358\" font-family=\"Calibri\" font-size=\"14.00\" fill=\"#000000\">지구촌이되었습니다.</text>\n",
       "<text text-anchor=\"middle\" x=\"591.0421\" y=\"-14.8358\" font-family=\"Calibri\" font-size=\"14.00\" fill=\"#000000\">(It has become a global village., jiguchon&#45;idoeeossseubnida.)</text>\n",
       "</g>\n",
       "<!-- 세계는\n",
       "(The world, segyeneun)&#45;&gt;지구촌이되었습니다.\n",
       "(It has become a global village., jiguchon&#45;idoeeossseubnida.) -->\n",
       "<g id=\"edge3\" class=\"edge\">\n",
       "<title>세계는\n",
       "(The world, segyeneun)&#45;&gt;지구촌이되었습니다.\n",
       "(It has become a global village., jiguchon&#45;idoeeossseubnida.)</title>\n",
       "<path fill=\"none\" stroke=\"#000000\" d=\"M225.3502,-55.1088C265.5766,-52.0647 312.7415,-48.4956 359.5753,-44.9516\"/>\n",
       "<polygon fill=\"#000000\" stroke=\"#000000\" points=\"359.8542,-48.4406 369.5615,-44.1959 359.3259,-41.4605 359.8542,-48.4406\"/>\n",
       "<text text-anchor=\"middle\" x=\"271.1749\" y=\"-56.2358\" font-family=\"Times,serif\" font-size=\"14.00\" fill=\"#000000\">conj</text>\n",
       "</g>\n",
       "<!-- 지구촌이되었습니다.\n",
       "(It has become a global village., jiguchon&#45;idoeeossseubnida.)&#45;&gt;세계는\n",
       "(The world, segyeneun) -->\n",
       "<g id=\"edge2\" class=\"edge\">\n",
       "<title>지구촌이되었습니다.\n",
       "(It has become a global village., jiguchon&#45;idoeeossseubnida.)&#45;&gt;세계는\n",
       "(The world, segyeneun)</title>\n",
       "<path fill=\"none\" stroke=\"#000000\" d=\"M319.585,-20.8642C295.5341,-22.2674 271.6065,-24.3871 248.6232,-27.4358 230.5764,-29.8296 211.5061,-33.9709 193.6073,-38.6123\"/>\n",
       "<polygon fill=\"#000000\" stroke=\"#000000\" points=\"192.5549,-35.2707 183.798,-41.2344 194.3626,-42.0332 192.5549,-35.2707\"/>\n",
       "<text text-anchor=\"middle\" x=\"271.1749\" y=\"-30.2358\" font-family=\"Times,serif\" font-size=\"14.00\" fill=\"#000000\">root</text>\n",
       "</g>\n",
       "</g>\n",
       "</svg>\n"
      ],
      "text/plain": [
       "<graphviz.dot.Digraph at 0x11c763e48>"
      ]
     },
     "execution_count": 3,
     "metadata": {},
     "output_type": "execute_result"
    }
   ],
   "source": [
    "from sagas.nlu.corenlp_helper import LangDialect as dia\n",
    "dia('ko').ana('이제 세계는 지구촌이되었습니다.')  # with word translation"
   ]
  }
 ],
 "metadata": {
  "kernelspec": {
   "display_name": "Python 3",
   "language": "python",
   "name": "python3"
  },
  "language_info": {
   "codemirror_mode": {
    "name": "ipython",
    "version": 3
   },
   "file_extension": ".py",
   "mimetype": "text/x-python",
   "name": "python",
   "nbconvert_exporter": "python",
   "pygments_lexer": "ipython3",
   "version": "3.6.4"
  },
  "varInspector": {
   "cols": {
    "lenName": 16,
    "lenType": 16,
    "lenVar": 40
   },
   "kernels_config": {
    "python": {
     "delete_cmd_postfix": "",
     "delete_cmd_prefix": "del ",
     "library": "var_list.py",
     "varRefreshCmd": "print(var_dic_list())"
    },
    "r": {
     "delete_cmd_postfix": ") ",
     "delete_cmd_prefix": "rm(",
     "library": "var_list.r",
     "varRefreshCmd": "cat(var_dic_list()) "
    }
   },
   "types_to_exclude": [
    "module",
    "function",
    "builtin_function_or_method",
    "instance",
    "_Feature"
   ],
   "window_display": false
  }
 },
 "nbformat": 4,
 "nbformat_minor": 2
}
