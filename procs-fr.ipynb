{
 "cells": [
  {
   "cell_type": "code",
   "execution_count": 3,
   "metadata": {
    "ExecuteTime": {
     "end_time": "2019-08-18T06:36:04.049302Z",
     "start_time": "2019-08-18T06:35:56.662943Z"
    }
   },
   "outputs": [
    {
     "name": "stdout",
     "output_type": "stream",
     "text": [
      "Tu donnes du fromage à ton enfant\n"
     ]
    },
    {
     "data": {
      "text/html": [
       "<div>\n",
       "<style scoped>\n",
       "    .dataframe tbody tr th:only-of-type {\n",
       "        vertical-align: middle;\n",
       "    }\n",
       "\n",
       "    .dataframe tbody tr th {\n",
       "        vertical-align: top;\n",
       "    }\n",
       "\n",
       "    .dataframe thead th {\n",
       "        text-align: right;\n",
       "    }\n",
       "</style>\n",
       "<table border=\"1\" class=\"dataframe\">\n",
       "  <thead>\n",
       "    <tr style=\"text-align: right;\">\n",
       "      <th></th>\n",
       "      <th>text</th>\n",
       "      <th>pos</th>\n",
       "      <th>dep</th>\n",
       "      <th>tag</th>\n",
       "    </tr>\n",
       "  </thead>\n",
       "  <tbody>\n",
       "    <tr>\n",
       "      <th>0</th>\n",
       "      <td>Tu</td>\n",
       "      <td>PRON</td>\n",
       "      <td>ROOT</td>\n",
       "      <td>PRON__Number=Sing|Person=1</td>\n",
       "    </tr>\n",
       "    <tr>\n",
       "      <th>1</th>\n",
       "      <td>donnes</td>\n",
       "      <td>VERB</td>\n",
       "      <td>amod</td>\n",
       "      <td>VERB__Gender=Masc|Number=Sing|Tense=Past|VerbF...</td>\n",
       "    </tr>\n",
       "    <tr>\n",
       "      <th>2</th>\n",
       "      <td>du</td>\n",
       "      <td>DET</td>\n",
       "      <td>det</td>\n",
       "      <td>DET__Gender=Masc|Number=Sing</td>\n",
       "    </tr>\n",
       "    <tr>\n",
       "      <th>3</th>\n",
       "      <td>fromage</td>\n",
       "      <td>NOUN</td>\n",
       "      <td>obj</td>\n",
       "      <td>NOUN__Gender=Masc|Number=Sing</td>\n",
       "    </tr>\n",
       "    <tr>\n",
       "      <th>4</th>\n",
       "      <td>à</td>\n",
       "      <td>ADP</td>\n",
       "      <td>case</td>\n",
       "      <td>ADP___</td>\n",
       "    </tr>\n",
       "    <tr>\n",
       "      <th>5</th>\n",
       "      <td>ton</td>\n",
       "      <td>NOUN</td>\n",
       "      <td>nmod</td>\n",
       "      <td>NOUN__Gender=Masc|Number=Sing</td>\n",
       "    </tr>\n",
       "    <tr>\n",
       "      <th>6</th>\n",
       "      <td>enfant</td>\n",
       "      <td>NOUN</td>\n",
       "      <td>amod</td>\n",
       "      <td>NOUN__Number=Sing</td>\n",
       "    </tr>\n",
       "  </tbody>\n",
       "</table>\n",
       "</div>"
      ],
      "text/plain": [
       "      text   pos   dep                                                tag\n",
       "0       Tu  PRON  ROOT                         PRON__Number=Sing|Person=1\n",
       "1   donnes  VERB  amod  VERB__Gender=Masc|Number=Sing|Tense=Past|VerbF...\n",
       "2       du   DET   det                       DET__Gender=Masc|Number=Sing\n",
       "3  fromage  NOUN   obj                      NOUN__Gender=Masc|Number=Sing\n",
       "4        à   ADP  case                                             ADP___\n",
       "5      ton  NOUN  nmod                      NOUN__Gender=Masc|Number=Sing\n",
       "6   enfant  NOUN  amod                                  NOUN__Number=Sing"
      ]
     },
     "execution_count": 3,
     "metadata": {},
     "output_type": "execute_result"
    }
   ],
   "source": [
    "import spacy\n",
    "import sagas\n",
    "# import spacy_procs\n",
    "\n",
    "from spacy.lang.fr.examples import sentences\n",
    "nlp = spacy.load('fr_core_news_sm')\n",
    "# doc = nlp(sentences[0])\n",
    "# doc = nlp(\"Tu donnes du fromage à ton enfant.\")\n",
    "doc = nlp(\"Tu donnes du fromage à ton enfant\")\n",
    "print(doc.text)\n",
    "rs=[]\n",
    "for token in doc:\n",
    "    rs.append((token.text, token.pos_, token.dep_, token.tag_))\n",
    "sagas.to_df(rs, ['text', 'pos', 'dep', 'tag'])"
   ]
  },
  {
   "cell_type": "code",
   "execution_count": 2,
   "metadata": {
    "ExecuteTime": {
     "end_time": "2019-05-28T01:00:38.990330Z",
     "start_time": "2019-05-28T01:00:38.964451Z"
    }
   },
   "outputs": [
    {
     "data": {
      "text/plain": [
       "set()"
      ]
     },
     "execution_count": 2,
     "metadata": {},
     "output_type": "execute_result"
    }
   ],
   "source": [
    "import sagas.nlu.spacy_helper as sr\n",
    "sr.get_verbs(doc)"
   ]
  },
  {
   "cell_type": "code",
   "execution_count": 4,
   "metadata": {
    "ExecuteTime": {
     "end_time": "2019-05-28T01:07:44.729762Z",
     "start_time": "2019-05-28T01:07:44.704088Z"
    }
   },
   "outputs": [
    {
     "name": "stdout",
     "output_type": "stream",
     "text": [
      "Je PRON nsubj\n",
      "suis AUX cop\n",
      "un DET det\n",
      "étudiant NOUN ROOT\n"
     ]
    },
    {
     "data": {
      "text/plain": [
       "set()"
      ]
     },
     "execution_count": 4,
     "metadata": {},
     "output_type": "execute_result"
    }
   ],
   "source": [
    "sents='Je suis un étudiant'\n",
    "doc=nlp(sents)\n",
    "for token in doc:\n",
    "    print(token.text, token.pos_, token.dep_)\n",
    "sr.get_verbs(doc)"
   ]
  },
  {
   "cell_type": "code",
   "execution_count": 6,
   "metadata": {
    "ExecuteTime": {
     "end_time": "2019-04-17T13:56:19.484998Z",
     "start_time": "2019-04-17T13:56:19.461596Z"
    }
   },
   "outputs": [
    {
     "name": "stdout",
     "output_type": "stream",
     "text": [
      "root: Tu pronoun\n",
      "verbs+: set()\n",
      "tu(amod:donner, obj:fromage)\n",
      "------------\n",
      "\t ⊙ Tu ROOT ☈Tu [donnes, fromage]\n",
      "\t ☑ donnes amod ☈Tu []\n",
      "\t 2 du det ☈fromage []\n",
      "\t ☑ fromage obj ☈Tu [du, ton, enfant]\n",
      "\t 4 à case ☈ton []\n",
      "\t 5 ton nmod ☈fromage [à]\n",
      "\t 6 enfant amod ☈fromage []\n",
      "------------ noun_chunks\n",
      "Tu donnes du fromage à ton enfant ☼Tu ROOT ☈Tu\n",
      "------------ merge subject\n",
      "root: Tu\n",
      "------------\n",
      "\t ⊙ Tu ROOT ☈Tu [donnes, fromage]\n",
      "\t ☑ donnes amod ☈Tu []\n",
      "\t 2 du det ☈fromage []\n",
      "\t ☑ fromage obj ☈Tu [du, ton, enfant]\n",
      "\t 4 à case ☈ton []\n",
      "\t 5 ton nmod ☈fromage [à]\n",
      "\t 6 enfant amod ☈fromage []\n"
     ]
    }
   ],
   "source": [
    "import sagas.nlu.spacy_procs as sp\n",
    "sp.analyse(doc)"
   ]
  },
  {
   "cell_type": "code",
   "execution_count": 1,
   "metadata": {
    "ExecuteTime": {
     "end_time": "2019-04-18T13:04:15.446049Z",
     "start_time": "2019-04-18T13:03:52.368584Z"
    }
   },
   "outputs": [
    {
     "name": "stdout",
     "output_type": "stream",
     "text": [
      "(ROOT\n",
      "  (SENT\n",
      "    (NP (PRON Tu) (VERB donnes))\n",
      "    (VN (ADP de))\n",
      "    (NP (DET le) (NOUN fromage)\n",
      "      (PP (ADP à)\n",
      "        (NP (DET ton) (NOUN enfant))))\n",
      "    (PUNCT .)))\n",
      "[('ROOT', 0, 2), ('nsubj', 2, 1), ('case', 5, 3), ('det', 5, 4), ('nmod', 2, 5), ('case', 8, 6), ('nmod:poss', 8, 7), ('nmod', 2, 8), ('punct', 2, 9)]\n",
      "------------ ✁\n",
      "☑ ('donnes', 'VERB')\n",
      "nsubj.actor: ('Tu', 'PRON')\n",
      "nmod: ('fromage', 'NOUN')\n",
      "nmod: ('enfant', 'NOUN')\n",
      "**raw sentence: Tu donnes du fromage à ton enfant.\n",
      "------------ ☼\n"
     ]
    }
   ],
   "source": [
    "import sagas.nlu.procs_dependency as deps\n",
    "sent=\"Tu donnes du fromage à ton enfant.\"\n",
    "dp=deps.DependencyProcs()\n",
    "dp.parse(sent)"
   ]
  },
  {
   "cell_type": "code",
   "execution_count": 2,
   "metadata": {
    "ExecuteTime": {
     "end_time": "2019-04-18T13:04:28.328871Z",
     "start_time": "2019-04-18T13:04:26.906299Z"
    }
   },
   "outputs": [
    {
     "name": "stdout",
     "output_type": "stream",
     "text": [
      "(ROOT\n",
      "  (SENT\n",
      "    (NP (PRON Tu) (VERB donnes))\n",
      "    (VN (ADP de))\n",
      "    (NP (DET le) (NOUN fromage)\n",
      "      (PP (ADP à)\n",
      "        (NP (DET ton) (NOUN enfant))))\n",
      "    (PUNCT .)))\n",
      "[('ROOT', 0, 2), ('nsubj', 2, 1), ('case', 5, 3), ('det', 5, 4), ('nmod', 2, 5), ('case', 8, 6), ('nmod:poss', 8, 7), ('nmod', 2, 8), ('punct', 2, 9)]\n",
      "------------ ✁\n",
      "☑ ('donnes', 'VERB')\n",
      "nsubj.actor: ('Tu', 'PRON')\n",
      "nmod: ('fromage', 'NOUN')\n",
      "nmod: ('enfant', 'NOUN')\n",
      "**raw sentence: Tu donnes du fromage à ton enfant.\n",
      "------------ ☼\n"
     ]
    }
   ],
   "source": [
    "dp.parse(sent)"
   ]
  },
  {
   "cell_type": "code",
   "execution_count": 6,
   "metadata": {
    "ExecuteTime": {
     "end_time": "2019-04-18T13:06:56.019639Z",
     "start_time": "2019-04-18T13:06:55.817233Z"
    },
    "scrolled": true
   },
   "outputs": [
    {
     "name": "stdout",
     "output_type": "stream",
     "text": [
      "(ROOT\n",
      "  (SENT\n",
      "    (NP (PRON Tu) (VERB donnes))\n",
      "    (VN (ADP de))\n",
      "    (NP (DET le) (NOUN fromage)\n",
      "      (PP (ADP à)\n",
      "        (NP (DET ton) (NOUN enfant))))\n",
      "    (PUNCT .)))\n"
     ]
    }
   ],
   "source": [
    "tags=dp.nlp.pos_tag(sent)\n",
    "treelog=str(dp.nlp.parse(sent))\n",
    "print(treelog)"
   ]
  },
  {
   "cell_type": "code",
   "execution_count": 8,
   "metadata": {
    "ExecuteTime": {
     "end_time": "2019-04-18T13:15:57.699045Z",
     "start_time": "2019-04-18T13:15:57.645168Z"
    }
   },
   "outputs": [
    {
     "name": "stdout",
     "output_type": "stream",
     "text": [
      "[('ROOT', 0, 2), ('nsubj', 2, 1), ('case', 5, 3), ('det', 5, 4), ('nmod', 2, 5), ('case', 8, 6), ('nmod:poss', 8, 7), ('nmod', 2, 8), ('punct', 2, 9)]\n",
      "+---------------------+------------------------+---------------------+\n",
      "| a                   | rel                    | b                   |\n",
      "|---------------------+------------------------+---------------------|\n",
      "| ('.', 'PUNCT')      | ROOT                   | ('donnes', 'VERB')  |\n",
      "| ('donnes', 'VERB')  | nsubj.actor            | ('Tu', 'PRON')      |\n",
      "| ('fromage', 'NOUN') | case@投影              | ('de', 'ADP')       |\n",
      "| ('fromage', 'NOUN') | det@限定词             | ('le', 'DET')       |\n",
      "| ('donnes', 'VERB')  | nmod                   | ('fromage', 'NOUN') |\n",
      "| ('enfant', 'NOUN')  | case@投影              | ('à', 'ADP')        |\n",
      "| ('enfant', 'NOUN')  | nmod:poss@复合名词修饰 | ('ton', 'DET')      |\n",
      "| ('donnes', 'VERB')  | nmod                   | ('enfant', 'NOUN')  |\n",
      "| ('donnes', 'VERB')  | punct@符号             | ('.', 'PUNCT')      |\n",
      "+---------------------+------------------------+---------------------+\n"
     ]
    }
   ],
   "source": [
    "from tabulate import tabulate\n",
    "table_header = ['a','rel','b']\n",
    "table_data = []\n",
    "tree=dp.nlp.dependency_parse(sent)\n",
    "print(tree)\n",
    "for node in tree:\n",
    "    refindex=node[1]\n",
    "    relname=node[0]\n",
    "    target=node[2]\n",
    "    rel=dp.explain_rel(relname)\n",
    "    table_data.append((str(tags[refindex-1]), rel, str(tags[target-1])))\n",
    "\n",
    "print(tabulate(table_data, headers=table_header, tablefmt='psql'))"
   ]
  },
  {
   "cell_type": "code",
   "execution_count": 3,
   "metadata": {
    "ExecuteTime": {
     "end_time": "2019-08-13T12:21:00.333152Z",
     "start_time": "2019-08-13T12:21:00.117632Z"
    }
   },
   "outputs": [
    {
     "name": "stdout",
     "output_type": "stream",
     "text": [
      "text: Les \tlemma: le\tupos: DET\txpos: _\n",
      "text: lunettes \tlemma: lunette\tupos: NOUN\txpos: _\n",
      "text: que \tlemma: que\tupos: PRON\txpos: _\n",
      "text: tu \tlemma: il\tupos: PRON\txpos: _\n",
      "text: cherches \tlemma: cherche\tupos: VERB\txpos: _\n",
      "text: sont \tlemma: être\tupos: AUX\txpos: _\n",
      "text: en \tlemma: en\tupos: ADP\txpos: _\n",
      "text: haut \tlemma: haut\tupos: NOUN\txpos: _\n",
      "text: de \tlemma: de\tupos: ADP\txpos: _\n",
      "text: l' \tlemma: le\tupos: DET\txpos: _\n",
      "text: escalier \tlemma: escalier\tupos: NOUN\txpos: _\n",
      "text: . \tlemma: .\tupos: PUNCT\txpos: _\n",
      "('Les', '2', 'det')\n",
      "('lunettes', '8', 'nsubj')\n",
      "('que', '5', 'obj')\n",
      "('tu', '5', 'nsubj')\n",
      "('cherches', '2', 'acl:relcl')\n",
      "('sont', '8', 'cop')\n",
      "('en', '8', 'case')\n",
      "('haut', '0', 'root')\n",
      "('de', '11', 'case')\n",
      "(\"l'\", '11', 'det')\n",
      "('escalier', '8', 'nmod')\n",
      "('.', '8', 'punct')\n"
     ]
    },
    {
     "data": {
      "image/svg+xml": [
       "<?xml version=\"1.0\" encoding=\"UTF-8\" standalone=\"no\"?>\n",
       "<!DOCTYPE svg PUBLIC \"-//W3C//DTD SVG 1.1//EN\"\n",
       " \"http://www.w3.org/Graphics/SVG/1.1/DTD/svg11.dtd\">\n",
       "<!-- Generated by graphviz version 2.40.1 (20161225.0304)\n",
       " -->\n",
       "<!-- Title: deps Pages: 1 -->\n",
       "<svg width=\"506pt\" height=\"261pt\"\n",
       " viewBox=\"0.00 0.00 506.08 261.00\" xmlns=\"http://www.w3.org/2000/svg\" xmlns:xlink=\"http://www.w3.org/1999/xlink\">\n",
       "<g id=\"graph0\" class=\"graph\" transform=\"scale(1 1) rotate(0) translate(4 257)\">\n",
       "<title>deps</title>\n",
       "<polygon fill=\"#ffffff\" stroke=\"transparent\" points=\"-4,4 -4,-257 502.0828,-257 502.0828,4 -4,4\"/>\n",
       "<!-- Les -->\n",
       "<g id=\"node1\" class=\"node\">\n",
       "<title>Les</title>\n",
       "<ellipse fill=\"none\" stroke=\"#000000\" cx=\"331.7546\" cy=\"-235\" rx=\"27\" ry=\"18\"/>\n",
       "<text text-anchor=\"middle\" x=\"331.7546\" y=\"-230.8\" font-family=\"Calibri\" font-size=\"14.00\" fill=\"#000000\">Les</text>\n",
       "</g>\n",
       "<!-- lunettes -->\n",
       "<g id=\"node2\" class=\"node\">\n",
       "<title>lunettes</title>\n",
       "<ellipse fill=\"none\" stroke=\"#000000\" cx=\"163.6077\" cy=\"-235\" rx=\"41.1612\" ry=\"18\"/>\n",
       "<text text-anchor=\"middle\" x=\"163.6077\" y=\"-230.8\" font-family=\"Calibri\" font-size=\"14.00\" fill=\"#000000\">lunettes</text>\n",
       "</g>\n",
       "<!-- lunettes&#45;&gt;Les -->\n",
       "<g id=\"edge1\" class=\"edge\">\n",
       "<title>lunettes&#45;&gt;Les</title>\n",
       "<path fill=\"none\" stroke=\"#000000\" d=\"M204.7411,-235C232.2074,-235 268.0318,-235 294.6292,-235\"/>\n",
       "<polygon fill=\"#000000\" stroke=\"#000000\" points=\"294.6923,-238.5001 304.6923,-235 294.6922,-231.5001 294.6923,-238.5001\"/>\n",
       "<text text-anchor=\"middle\" x=\"245.2263\" y=\"-237.8\" font-family=\"Times,serif\" font-size=\"14.00\" fill=\"#000000\">det</text>\n",
       "</g>\n",
       "<!-- cherches -->\n",
       "<g id=\"node5\" class=\"node\">\n",
       "<title>cherches</title>\n",
       "<ellipse fill=\"none\" stroke=\"#000000\" cx=\"331.7546\" cy=\"-181\" rx=\"45.9804\" ry=\"18\"/>\n",
       "<text text-anchor=\"middle\" x=\"331.7546\" y=\"-176.8\" font-family=\"Calibri\" font-size=\"14.00\" fill=\"#000000\">cherches</text>\n",
       "</g>\n",
       "<!-- lunettes&#45;&gt;cherches -->\n",
       "<g id=\"edge5\" class=\"edge\">\n",
       "<title>lunettes&#45;&gt;cherches</title>\n",
       "<path fill=\"none\" stroke=\"#000000\" d=\"M196.8281,-224.3313C222.427,-216.1103 258.1012,-204.6536 286.3383,-195.5853\"/>\n",
       "<polygon fill=\"#000000\" stroke=\"#000000\" points=\"287.5364,-198.8767 295.9873,-192.4866 285.396,-192.212 287.5364,-198.8767\"/>\n",
       "<text text-anchor=\"middle\" x=\"245.2263\" y=\"-217.8\" font-family=\"Times,serif\" font-size=\"14.00\" fill=\"#000000\">acl:relcl</text>\n",
       "</g>\n",
       "<!-- que -->\n",
       "<g id=\"node3\" class=\"node\">\n",
       "<title>que</title>\n",
       "<ellipse fill=\"none\" stroke=\"#000000\" cx=\"471.0828\" cy=\"-208\" rx=\"27\" ry=\"18\"/>\n",
       "<text text-anchor=\"middle\" x=\"471.0828\" y=\"-203.8\" font-family=\"Calibri\" font-size=\"14.00\" fill=\"#000000\">que</text>\n",
       "</g>\n",
       "<!-- tu -->\n",
       "<g id=\"node4\" class=\"node\">\n",
       "<title>tu</title>\n",
       "<ellipse fill=\"none\" stroke=\"#000000\" cx=\"471.0828\" cy=\"-154\" rx=\"27\" ry=\"18\"/>\n",
       "<text text-anchor=\"middle\" x=\"471.0828\" y=\"-149.8\" font-family=\"Calibri\" font-size=\"14.00\" fill=\"#000000\">tu</text>\n",
       "</g>\n",
       "<!-- cherches&#45;&gt;que -->\n",
       "<g id=\"edge3\" class=\"edge\">\n",
       "<title>cherches&#45;&gt;que</title>\n",
       "<path fill=\"none\" stroke=\"#000000\" d=\"M373.1804,-189.0278C392.8081,-192.8314 416.0357,-197.3326 434.9395,-200.9959\"/>\n",
       "<polygon fill=\"#000000\" stroke=\"#000000\" points=\"434.4632,-204.4686 444.9465,-202.9351 435.795,-197.5965 434.4632,-204.4686\"/>\n",
       "<text text-anchor=\"middle\" x=\"410.9138\" y=\"-201.8\" font-family=\"Times,serif\" font-size=\"14.00\" fill=\"#000000\">obj</text>\n",
       "</g>\n",
       "<!-- cherches&#45;&gt;tu -->\n",
       "<g id=\"edge4\" class=\"edge\">\n",
       "<title>cherches&#45;&gt;tu</title>\n",
       "<path fill=\"none\" stroke=\"#000000\" d=\"M373.1804,-172.9722C392.8081,-169.1686 416.0357,-164.6674 434.9395,-161.0041\"/>\n",
       "<polygon fill=\"#000000\" stroke=\"#000000\" points=\"435.795,-164.4035 444.9465,-159.0649 434.4632,-157.5314 435.795,-164.4035\"/>\n",
       "<text text-anchor=\"middle\" x=\"410.9138\" y=\"-170.8\" font-family=\"Times,serif\" font-size=\"14.00\" fill=\"#000000\">nsubj</text>\n",
       "</g>\n",
       "<!-- sont -->\n",
       "<g id=\"node6\" class=\"node\">\n",
       "<title>sont</title>\n",
       "<ellipse fill=\"none\" stroke=\"#000000\" cx=\"163.6077\" cy=\"-181\" rx=\"27\" ry=\"18\"/>\n",
       "<text text-anchor=\"middle\" x=\"163.6077\" y=\"-176.8\" font-family=\"Calibri\" font-size=\"14.00\" fill=\"#000000\">sont</text>\n",
       "</g>\n",
       "<!-- en -->\n",
       "<g id=\"node7\" class=\"node\">\n",
       "<title>en</title>\n",
       "<ellipse fill=\"none\" stroke=\"#000000\" cx=\"163.6077\" cy=\"-127\" rx=\"27\" ry=\"18\"/>\n",
       "<text text-anchor=\"middle\" x=\"163.6077\" y=\"-122.8\" font-family=\"Calibri\" font-size=\"14.00\" fill=\"#000000\">en</text>\n",
       "</g>\n",
       "<!-- haut -->\n",
       "<g id=\"node8\" class=\"node\">\n",
       "<title>haut</title>\n",
       "<ellipse fill=\"none\" stroke=\"#000000\" cx=\"27.3188\" cy=\"-108\" rx=\"27.1387\" ry=\"18\"/>\n",
       "<text text-anchor=\"middle\" x=\"27.3188\" y=\"-103.8\" font-family=\"Calibri\" font-size=\"14.00\" fill=\"#000000\">haut</text>\n",
       "</g>\n",
       "<!-- haut&#45;&gt;lunettes -->\n",
       "<g id=\"edge2\" class=\"edge\">\n",
       "<title>haut&#45;&gt;lunettes</title>\n",
       "<path fill=\"none\" stroke=\"#000000\" d=\"M37.9554,-124.7372C46.513,-137.5568 59.2776,-155.3082 72.6375,-169 92.2928,-189.1436 99.6618,-191.5906 122.5272,-208 125.3874,-210.0526 128.3924,-212.1448 131.4214,-214.2104\"/>\n",
       "<polygon fill=\"#000000\" stroke=\"#000000\" points=\"129.6652,-217.2468 139.9207,-219.9069 133.5625,-211.432 129.6652,-217.2468\"/>\n",
       "<text text-anchor=\"middle\" x=\"88.5823\" y=\"-197.8\" font-family=\"Times,serif\" font-size=\"14.00\" fill=\"#000000\">nsubj</text>\n",
       "</g>\n",
       "<!-- haut&#45;&gt;sont -->\n",
       "<g id=\"edge6\" class=\"edge\">\n",
       "<title>haut&#45;&gt;sont</title>\n",
       "<path fill=\"none\" stroke=\"#000000\" d=\"M46.9326,-120.6764C54.8213,-125.6272 64.0646,-131.245 72.6375,-136 92.0091,-146.7444 114.2935,-157.7885 131.9579,-166.2467\"/>\n",
       "<polygon fill=\"#000000\" stroke=\"#000000\" points=\"130.7141,-169.5306 141.2484,-170.6613 133.7184,-163.2081 130.7141,-169.5306\"/>\n",
       "<text text-anchor=\"middle\" x=\"88.5823\" y=\"-153.8\" font-family=\"Times,serif\" font-size=\"14.00\" fill=\"#000000\">cop</text>\n",
       "</g>\n",
       "<!-- haut&#45;&gt;en -->\n",
       "<g id=\"edge7\" class=\"edge\">\n",
       "<title>haut&#45;&gt;en</title>\n",
       "<path fill=\"none\" stroke=\"#000000\" d=\"M54.2451,-111.7538C74.9651,-114.6424 103.8288,-118.6662 126.7009,-121.8548\"/>\n",
       "<polygon fill=\"#000000\" stroke=\"#000000\" points=\"126.3498,-125.3397 136.7373,-123.254 127.3164,-118.4067 126.3498,-125.3397\"/>\n",
       "<text text-anchor=\"middle\" x=\"88.5823\" y=\"-120.8\" font-family=\"Times,serif\" font-size=\"14.00\" fill=\"#000000\">case</text>\n",
       "</g>\n",
       "<!-- escalier -->\n",
       "<g id=\"node11\" class=\"node\">\n",
       "<title>escalier</title>\n",
       "<ellipse fill=\"none\" stroke=\"#000000\" cx=\"163.6077\" cy=\"-73\" rx=\"40.6594\" ry=\"18\"/>\n",
       "<text text-anchor=\"middle\" x=\"163.6077\" y=\"-68.8\" font-family=\"Calibri\" font-size=\"14.00\" fill=\"#000000\">escalier</text>\n",
       "</g>\n",
       "<!-- haut&#45;&gt;escalier -->\n",
       "<g id=\"edge11\" class=\"edge\">\n",
       "<title>haut&#45;&gt;escalier</title>\n",
       "<path fill=\"none\" stroke=\"#000000\" d=\"M52.7125,-101.2223C59.2047,-99.5043 66.1764,-97.6721 72.6375,-96 87.5015,-92.1532 103.7513,-88.0213 118.3517,-84.3358\"/>\n",
       "<polygon fill=\"#000000\" stroke=\"#000000\" points=\"119.3172,-87.702 128.1588,-81.8645 117.6067,-80.9142 119.3172,-87.702\"/>\n",
       "<text text-anchor=\"middle\" x=\"88.5823\" y=\"-98.8\" font-family=\"Times,serif\" font-size=\"14.00\" fill=\"#000000\">nmod</text>\n",
       "</g>\n",
       "<!-- . -->\n",
       "<g id=\"node12\" class=\"node\">\n",
       "<title>.</title>\n",
       "<ellipse fill=\"none\" stroke=\"#000000\" cx=\"163.6077\" cy=\"-18\" rx=\"27\" ry=\"18\"/>\n",
       "<text text-anchor=\"middle\" x=\"163.6077\" y=\"-13.8\" font-family=\"Calibri\" font-size=\"14.00\" fill=\"#000000\">.</text>\n",
       "</g>\n",
       "<!-- haut&#45;&gt;. -->\n",
       "<g id=\"edge12\" class=\"edge\">\n",
       "<title>haut&#45;&gt;.</title>\n",
       "<path fill=\"none\" stroke=\"#000000\" d=\"M43.5402,-93.1848C51.9385,-85.8335 62.5281,-77.0437 72.6375,-70 91.9573,-56.5391 114.9965,-43.3967 133.055,-33.6919\"/>\n",
       "<polygon fill=\"#000000\" stroke=\"#000000\" points=\"134.8051,-36.7255 141.9983,-28.9468 131.5243,-30.542 134.8051,-36.7255\"/>\n",
       "<text text-anchor=\"middle\" x=\"88.5823\" y=\"-72.8\" font-family=\"Times,serif\" font-size=\"14.00\" fill=\"#000000\">punct</text>\n",
       "</g>\n",
       "<!-- de -->\n",
       "<g id=\"node9\" class=\"node\">\n",
       "<title>de</title>\n",
       "<ellipse fill=\"none\" stroke=\"#000000\" cx=\"331.7546\" cy=\"-100\" rx=\"27\" ry=\"18\"/>\n",
       "<text text-anchor=\"middle\" x=\"331.7546\" y=\"-95.8\" font-family=\"Calibri\" font-size=\"14.00\" fill=\"#000000\">de</text>\n",
       "</g>\n",
       "<!-- l&#39; -->\n",
       "<g id=\"node10\" class=\"node\">\n",
       "<title>l&#39;</title>\n",
       "<ellipse fill=\"none\" stroke=\"#000000\" cx=\"331.7546\" cy=\"-46\" rx=\"27\" ry=\"18\"/>\n",
       "<text text-anchor=\"middle\" x=\"331.7546\" y=\"-41.8\" font-family=\"Calibri\" font-size=\"14.00\" fill=\"#000000\">l&#39;</text>\n",
       "</g>\n",
       "<!-- escalier&#45;&gt;de -->\n",
       "<g id=\"edge9\" class=\"edge\">\n",
       "<title>escalier&#45;&gt;de</title>\n",
       "<path fill=\"none\" stroke=\"#000000\" d=\"M202.184,-79.1943C230.2118,-83.6949 267.8934,-89.7456 295.3937,-94.1614\"/>\n",
       "<polygon fill=\"#000000\" stroke=\"#000000\" points=\"294.9651,-97.6373 305.3936,-95.7671 296.075,-90.7259 294.9651,-97.6373\"/>\n",
       "<text text-anchor=\"middle\" x=\"245.2263\" y=\"-91.8\" font-family=\"Times,serif\" font-size=\"14.00\" fill=\"#000000\">case</text>\n",
       "</g>\n",
       "<!-- escalier&#45;&gt;l&#39; -->\n",
       "<g id=\"edge10\" class=\"edge\">\n",
       "<title>escalier&#45;&gt;l&#39;</title>\n",
       "<path fill=\"none\" stroke=\"#000000\" d=\"M202.184,-66.8057C230.2118,-62.3051 267.8934,-56.2544 295.3937,-51.8386\"/>\n",
       "<polygon fill=\"#000000\" stroke=\"#000000\" points=\"296.075,-55.2741 305.3936,-50.2329 294.9651,-48.3627 296.075,-55.2741\"/>\n",
       "<text text-anchor=\"middle\" x=\"245.2263\" y=\"-65.8\" font-family=\"Times,serif\" font-size=\"14.00\" fill=\"#000000\">det</text>\n",
       "</g>\n",
       "<!-- .&#45;&gt;haut -->\n",
       "<g id=\"edge8\" class=\"edge\">\n",
       "<title>.&#45;&gt;haut</title>\n",
       "<path fill=\"none\" stroke=\"#000000\" d=\"M138.5136,-10.8811C119.0752,-6.8934 92.2437,-4.8611 72.6375,-17 50.5857,-30.6531 38.9176,-58.6175 32.9785,-79.9639\"/>\n",
       "<polygon fill=\"#000000\" stroke=\"#000000\" points=\"29.5446,-79.2683 30.5027,-89.8197 36.3336,-80.9737 29.5446,-79.2683\"/>\n",
       "<text text-anchor=\"middle\" x=\"88.5823\" y=\"-19.8\" font-family=\"Times,serif\" font-size=\"14.00\" fill=\"#000000\">root</text>\n",
       "</g>\n",
       "</g>\n",
       "</svg>\n"
      ],
      "text/plain": [
       "<graphviz.dot.Digraph at 0x141034c88>"
      ]
     },
     "execution_count": 3,
     "metadata": {},
     "output_type": "execute_result"
    }
   ],
   "source": [
    "import sagas\n",
    "sagas.dia('fr').ana_s(\"Les lunettes que tu cherches sont en haut de l'escalier.\")"
   ]
  },
  {
   "cell_type": "code",
   "execution_count": 2,
   "metadata": {
    "ExecuteTime": {
     "end_time": "2019-08-13T12:18:54.993456Z",
     "start_time": "2019-08-13T12:18:54.813933Z"
    }
   },
   "outputs": [
    {
     "name": "stdout",
     "output_type": "stream",
     "text": [
      "text: Tu \tlemma: il\tupos: PRON\txpos: _\n",
      "text: as \tlemma: avoir\tupos: AUX\txpos: _\n",
      "text: choisi \tlemma: choisir\tupos: VERB\txpos: _\n",
      "text: laquelle \tlemma: lequel\tupos: PRON\txpos: _\n",
      "text: tu \tlemma: il\tupos: PRON\txpos: _\n",
      "text: vas \tlemma: vas\tupos: VERB\txpos: _\n",
      "text: manger \tlemma: manger\tupos: VERB\txpos: _\n",
      "text: ? \tlemma: ?\tupos: PUNCT\txpos: _\n",
      "('Tu', '3', 'nsubj')\n",
      "('as', '3', 'aux')\n",
      "('choisi', '0', 'root')\n",
      "('laquelle', '6', 'obj')\n",
      "('tu', '6', 'nsubj')\n",
      "('vas', '3', 'ccomp')\n",
      "('manger', '6', 'xcomp')\n",
      "('?', '3', 'punct')\n"
     ]
    },
    {
     "data": {
      "image/svg+xml": [
       "<?xml version=\"1.0\" encoding=\"UTF-8\" standalone=\"no\"?>\n",
       "<!DOCTYPE svg PUBLIC \"-//W3C//DTD SVG 1.1//EN\"\n",
       " \"http://www.w3.org/Graphics/SVG/1.1/DTD/svg11.dtd\">\n",
       "<!-- Generated by graphviz version 2.40.1 (20161225.0304)\n",
       " -->\n",
       "<!-- Title: deps Pages: 1 -->\n",
       "<svg width=\"356pt\" height=\"207pt\"\n",
       " viewBox=\"0.00 0.00 356.04 207.00\" xmlns=\"http://www.w3.org/2000/svg\" xmlns:xlink=\"http://www.w3.org/1999/xlink\">\n",
       "<g id=\"graph0\" class=\"graph\" transform=\"scale(1 1) rotate(0) translate(4 203)\">\n",
       "<title>deps</title>\n",
       "<polygon fill=\"#ffffff\" stroke=\"transparent\" points=\"-4,4 -4,-203 352.0389,-203 352.0389,4 -4,4\"/>\n",
       "<!-- Tu -->\n",
       "<g id=\"node1\" class=\"node\">\n",
       "<title>Tu</title>\n",
       "<ellipse fill=\"none\" stroke=\"#000000\" cx=\"165.7502\" cy=\"-181\" rx=\"27\" ry=\"18\"/>\n",
       "<text text-anchor=\"middle\" x=\"165.7502\" y=\"-176.8\" font-family=\"Calibri\" font-size=\"14.00\" fill=\"#000000\">Tu</text>\n",
       "</g>\n",
       "<!-- as -->\n",
       "<g id=\"node2\" class=\"node\">\n",
       "<title>as</title>\n",
       "<ellipse fill=\"none\" stroke=\"#000000\" cx=\"165.7502\" cy=\"-127\" rx=\"27\" ry=\"18\"/>\n",
       "<text text-anchor=\"middle\" x=\"165.7502\" y=\"-122.8\" font-family=\"Calibri\" font-size=\"14.00\" fill=\"#000000\">as</text>\n",
       "</g>\n",
       "<!-- choisi -->\n",
       "<g id=\"node3\" class=\"node\">\n",
       "<title>choisi</title>\n",
       "<ellipse fill=\"none\" stroke=\"#000000\" cx=\"32.7164\" cy=\"-90\" rx=\"32.9342\" ry=\"18\"/>\n",
       "<text text-anchor=\"middle\" x=\"32.7164\" y=\"-85.8\" font-family=\"Calibri\" font-size=\"14.00\" fill=\"#000000\">choisi</text>\n",
       "</g>\n",
       "<!-- choisi&#45;&gt;Tu -->\n",
       "<g id=\"edge1\" class=\"edge\">\n",
       "<title>choisi&#45;&gt;Tu</title>\n",
       "<path fill=\"none\" stroke=\"#000000\" d=\"M50.5687,-105.4096C60.0855,-113.3706 72.1334,-123.0547 83.4328,-131 100.355,-142.8992 120.1467,-154.975 136.0821,-164.2775\"/>\n",
       "<polygon fill=\"#000000\" stroke=\"#000000\" points=\"134.5586,-167.4395 144.9682,-169.412 138.0607,-161.3785 134.5586,-167.4395\"/>\n",
       "<text text-anchor=\"middle\" x=\"102.0915\" y=\"-156.8\" font-family=\"Times,serif\" font-size=\"14.00\" fill=\"#000000\">nsubj</text>\n",
       "</g>\n",
       "<!-- choisi&#45;&gt;as -->\n",
       "<g id=\"edge2\" class=\"edge\">\n",
       "<title>choisi&#45;&gt;as</title>\n",
       "<path fill=\"none\" stroke=\"#000000\" d=\"M62.2409,-98.2115C82.5944,-103.8723 109.7235,-111.4176 131.1017,-117.3634\"/>\n",
       "<polygon fill=\"#000000\" stroke=\"#000000\" points=\"130.2041,-120.7466 140.7763,-120.0542 132.0799,-114.0025 130.2041,-120.7466\"/>\n",
       "<text text-anchor=\"middle\" x=\"102.0915\" y=\"-115.8\" font-family=\"Times,serif\" font-size=\"14.00\" fill=\"#000000\">aux</text>\n",
       "</g>\n",
       "<!-- vas -->\n",
       "<g id=\"node6\" class=\"node\">\n",
       "<title>vas</title>\n",
       "<ellipse fill=\"none\" stroke=\"#000000\" cx=\"165.7502\" cy=\"-73\" rx=\"27\" ry=\"18\"/>\n",
       "<text text-anchor=\"middle\" x=\"165.7502\" y=\"-68.8\" font-family=\"Calibri\" font-size=\"14.00\" fill=\"#000000\">vas</text>\n",
       "</g>\n",
       "<!-- choisi&#45;&gt;vas -->\n",
       "<g id=\"edge6\" class=\"edge\">\n",
       "<title>choisi&#45;&gt;vas</title>\n",
       "<path fill=\"none\" stroke=\"#000000\" d=\"M64.9201,-85.8848C84.3032,-83.4079 109.0394,-80.2469 129.16,-77.6757\"/>\n",
       "<polygon fill=\"#000000\" stroke=\"#000000\" points=\"129.7327,-81.1311 139.2083,-76.3917 128.8453,-74.1876 129.7327,-81.1311\"/>\n",
       "<text text-anchor=\"middle\" x=\"102.0915\" y=\"-85.8\" font-family=\"Times,serif\" font-size=\"14.00\" fill=\"#000000\">ccomp</text>\n",
       "</g>\n",
       "<!-- ? -->\n",
       "<g id=\"node8\" class=\"node\">\n",
       "<title>?</title>\n",
       "<ellipse fill=\"none\" stroke=\"#000000\" cx=\"165.7502\" cy=\"-18\" rx=\"27\" ry=\"18\"/>\n",
       "<text text-anchor=\"middle\" x=\"165.7502\" y=\"-13.8\" font-family=\"Calibri\" font-size=\"14.00\" fill=\"#000000\">?</text>\n",
       "</g>\n",
       "<!-- choisi&#45;&gt;? -->\n",
       "<g id=\"edge8\" class=\"edge\">\n",
       "<title>choisi&#45;&gt;?</title>\n",
       "<path fill=\"none\" stroke=\"#000000\" d=\"M54.7623,-76.5547C63.6038,-71.269 73.9319,-65.2271 83.4328,-60 100.1956,-50.7775 119.2034,-41.0335 134.7274,-33.2551\"/>\n",
       "<polygon fill=\"#000000\" stroke=\"#000000\" points=\"136.5027,-36.281 143.8918,-28.6882 133.3805,-30.0158 136.5027,-36.281\"/>\n",
       "<text text-anchor=\"middle\" x=\"102.0915\" y=\"-62.8\" font-family=\"Times,serif\" font-size=\"14.00\" fill=\"#000000\">punct</text>\n",
       "</g>\n",
       "<!-- laquelle -->\n",
       "<g id=\"node4\" class=\"node\">\n",
       "<title>laquelle</title>\n",
       "<ellipse fill=\"none\" stroke=\"#000000\" cx=\"307.4463\" cy=\"-127\" rx=\"40.6854\" ry=\"18\"/>\n",
       "<text text-anchor=\"middle\" x=\"307.4463\" y=\"-122.8\" font-family=\"Calibri\" font-size=\"14.00\" fill=\"#000000\">laquelle</text>\n",
       "</g>\n",
       "<!-- tu -->\n",
       "<g id=\"node5\" class=\"node\">\n",
       "<title>tu</title>\n",
       "<ellipse fill=\"none\" stroke=\"#000000\" cx=\"307.4463\" cy=\"-73\" rx=\"27\" ry=\"18\"/>\n",
       "<text text-anchor=\"middle\" x=\"307.4463\" y=\"-68.8\" font-family=\"Calibri\" font-size=\"14.00\" fill=\"#000000\">tu</text>\n",
       "</g>\n",
       "<!-- vas&#45;&gt;laquelle -->\n",
       "<g id=\"edge4\" class=\"edge\">\n",
       "<title>vas&#45;&gt;laquelle</title>\n",
       "<path fill=\"none\" stroke=\"#000000\" d=\"M189.0639,-82.4495C196.0264,-85.238 203.6855,-88.2724 210.7502,-91 228.9103,-98.0114 249.0771,-105.5573 266.2745,-111.9205\"/>\n",
       "<polygon fill=\"#000000\" stroke=\"#000000\" points=\"265.426,-115.338 276.0193,-115.5174 267.8499,-108.7711 265.426,-115.338\"/>\n",
       "<text text-anchor=\"middle\" x=\"229.8019\" y=\"-107.8\" font-family=\"Times,serif\" font-size=\"14.00\" fill=\"#000000\">obj</text>\n",
       "</g>\n",
       "<!-- vas&#45;&gt;tu -->\n",
       "<g id=\"edge5\" class=\"edge\">\n",
       "<title>vas&#45;&gt;tu</title>\n",
       "<path fill=\"none\" stroke=\"#000000\" d=\"M193.0706,-73C214.9273,-73 245.8079,-73 269.9736,-73\"/>\n",
       "<polygon fill=\"#000000\" stroke=\"#000000\" points=\"270.2097,-76.5001 280.2097,-73 270.2097,-69.5001 270.2097,-76.5001\"/>\n",
       "<text text-anchor=\"middle\" x=\"229.8019\" y=\"-75.8\" font-family=\"Times,serif\" font-size=\"14.00\" fill=\"#000000\">nsubj</text>\n",
       "</g>\n",
       "<!-- manger -->\n",
       "<g id=\"node7\" class=\"node\">\n",
       "<title>manger</title>\n",
       "<ellipse fill=\"none\" stroke=\"#000000\" cx=\"307.4463\" cy=\"-19\" rx=\"40.1836\" ry=\"18\"/>\n",
       "<text text-anchor=\"middle\" x=\"307.4463\" y=\"-14.8\" font-family=\"Calibri\" font-size=\"14.00\" fill=\"#000000\">manger</text>\n",
       "</g>\n",
       "<!-- vas&#45;&gt;manger -->\n",
       "<g id=\"edge7\" class=\"edge\">\n",
       "<title>vas&#45;&gt;manger</title>\n",
       "<path fill=\"none\" stroke=\"#000000\" d=\"M189.0639,-63.5505C196.0264,-60.762 203.6855,-57.7276 210.7502,-55 228.9103,-47.9886 249.0771,-40.4427 266.2745,-34.0795\"/>\n",
       "<polygon fill=\"#000000\" stroke=\"#000000\" points=\"267.8499,-37.2289 276.0193,-30.4826 265.426,-30.662 267.8499,-37.2289\"/>\n",
       "<text text-anchor=\"middle\" x=\"229.8019\" y=\"-57.8\" font-family=\"Times,serif\" font-size=\"14.00\" fill=\"#000000\">xcomp</text>\n",
       "</g>\n",
       "<!-- ?&#45;&gt;choisi -->\n",
       "<g id=\"edge3\" class=\"edge\">\n",
       "<title>?&#45;&gt;choisi</title>\n",
       "<path fill=\"none\" stroke=\"#000000\" d=\"M140.1731,-11.6711C123.1392,-8.8512 100.7842,-7.9269 83.4328,-17 65.0278,-26.624 51.9574,-46.3052 43.6994,-62.8089\"/>\n",
       "<polygon fill=\"#000000\" stroke=\"#000000\" points=\"40.4405,-61.5163 39.3894,-72.0588 46.7855,-64.4728 40.4405,-61.5163\"/>\n",
       "<text text-anchor=\"middle\" x=\"102.0915\" y=\"-19.8\" font-family=\"Times,serif\" font-size=\"14.00\" fill=\"#000000\">root</text>\n",
       "</g>\n",
       "</g>\n",
       "</svg>\n"
      ],
      "text/plain": [
       "<graphviz.dot.Digraph at 0x141034668>"
      ]
     },
     "execution_count": 2,
     "metadata": {},
     "output_type": "execute_result"
    }
   ],
   "source": [
    "import sagas\n",
    "sagas.dia('fr').ana_s(\"Tu as choisi laquelle tu vas manger ?\")"
   ]
  }
 ],
 "metadata": {
  "kernelspec": {
   "display_name": "Python 3",
   "language": "python",
   "name": "python3"
  },
  "language_info": {
   "codemirror_mode": {
    "name": "ipython",
    "version": 3
   },
   "file_extension": ".py",
   "mimetype": "text/x-python",
   "name": "python",
   "nbconvert_exporter": "python",
   "pygments_lexer": "ipython3",
   "version": "3.6.4"
  },
  "varInspector": {
   "cols": {
    "lenName": 16,
    "lenType": 16,
    "lenVar": 40
   },
   "kernels_config": {
    "python": {
     "delete_cmd_postfix": "",
     "delete_cmd_prefix": "del ",
     "library": "var_list.py",
     "varRefreshCmd": "print(var_dic_list())"
    },
    "r": {
     "delete_cmd_postfix": ") ",
     "delete_cmd_prefix": "rm(",
     "library": "var_list.r",
     "varRefreshCmd": "cat(var_dic_list()) "
    }
   },
   "types_to_exclude": [
    "module",
    "function",
    "builtin_function_or_method",
    "instance",
    "_Feature"
   ],
   "window_display": false
  }
 },
 "nbformat": 4,
 "nbformat_minor": 2
}
