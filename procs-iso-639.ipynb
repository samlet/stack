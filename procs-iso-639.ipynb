{
 "cells": [
  {
   "cell_type": "code",
   "execution_count": 1,
   "metadata": {
    "ExecuteTime": {
     "end_time": "2019-08-06T07:25:14.830973Z",
     "start_time": "2019-08-06T07:25:14.662787Z"
    }
   },
   "outputs": [
    {
     "data": {
      "text/plain": [
       "7981"
      ]
     },
     "execution_count": 1,
     "metadata": {},
     "output_type": "execute_result"
    }
   ],
   "source": [
    ">>> from iso639 import languages\n",
    ">>> from pprint import pprint\n",
    "\n",
    ">>> len(languages)"
   ]
  },
  {
   "cell_type": "code",
   "execution_count": 2,
   "metadata": {
    "ExecuteTime": {
     "end_time": "2019-08-06T07:25:16.860279Z",
     "start_time": "2019-08-06T07:25:16.851957Z"
    }
   },
   "outputs": [
    {
     "data": {
      "text/plain": [
       "'Aragonese'"
      ]
     },
     "execution_count": 2,
     "metadata": {},
     "output_type": "execute_result"
    }
   ],
   "source": [
    "aragonese = languages.get(alpha2='an')\n",
    "aragonese.name"
   ]
  },
  {
   "cell_type": "code",
   "execution_count": 3,
   "metadata": {
    "ExecuteTime": {
     "end_time": "2019-08-06T07:25:18.722079Z",
     "start_time": "2019-08-06T07:25:18.704429Z"
    }
   },
   "outputs": [
    {
     "name": "stdout",
     "output_type": "stream",
     "text": [
      "ja jpn Japanese\n",
      "{'inverted': 'Japanese',\n",
      " 'macro': '',\n",
      " 'name': 'Japanese',\n",
      " 'names': [],\n",
      " 'part1': 'ja',\n",
      " 'part2b': 'jpn',\n",
      " 'part2t': 'jpn',\n",
      " 'part3': 'jpn',\n",
      " 'part5': ''}\n"
     ]
    }
   ],
   "source": [
    "aragonese = languages.get(part1='ja')\n",
    "print(aragonese.part1, aragonese.part3, aragonese.name)\n",
    "pprint(vars(aragonese))"
   ]
  },
  {
   "cell_type": "code",
   "execution_count": 4,
   "metadata": {
    "ExecuteTime": {
     "end_time": "2019-08-06T07:25:24.499413Z",
     "start_time": "2019-08-06T07:25:24.487824Z"
    }
   },
   "outputs": [
    {
     "data": {
      "text/plain": [
       "'jpn'"
      ]
     },
     "execution_count": 4,
     "metadata": {},
     "output_type": "execute_result"
    }
   ],
   "source": [
    "def get_locale(lang):\n",
    "    aragonese = languages.get(part1=lang)\n",
    "    return aragonese.part3\n",
    "get_locale('ja')"
   ]
  },
  {
   "cell_type": "code",
   "execution_count": 6,
   "metadata": {
    "ExecuteTime": {
     "end_time": "2019-08-06T07:56:45.621121Z",
     "start_time": "2019-08-06T07:56:45.610223Z"
    }
   },
   "outputs": [
    {
     "name": "stdout",
     "output_type": "stream",
     "text": [
      "deu rus\n"
     ]
    }
   ],
   "source": [
    "print(get_locale('de'), get_locale('ru'))"
   ]
  },
  {
   "cell_type": "code",
   "execution_count": 6,
   "metadata": {
    "ExecuteTime": {
     "end_time": "2019-08-02T06:41:30.714696Z",
     "start_time": "2019-08-02T06:41:30.707191Z"
    }
   },
   "outputs": [
    {
     "name": "stdout",
     "output_type": "stream",
     "text": [
      "{'inverted': 'Chinese',\n",
      " 'macro': '',\n",
      " 'name': 'Chinese',\n",
      " 'names': [],\n",
      " 'part1': 'zh',\n",
      " 'part2b': 'chi',\n",
      " 'part2t': 'zho',\n",
      " 'part3': 'zho',\n",
      " 'part5': ''}\n"
     ]
    }
   ],
   "source": [
    "aragonese = languages.get(part1='zh')\n",
    "pprint(vars(aragonese))"
   ]
  },
  {
   "cell_type": "code",
   "execution_count": 8,
   "metadata": {
    "ExecuteTime": {
     "end_time": "2019-08-02T07:38:30.239976Z",
     "start_time": "2019-08-02T07:38:30.223923Z"
    }
   },
   "outputs": [
    {
     "name": "stdout",
     "output_type": "stream",
     "text": [
      "{'inverted': 'Chinese, Mandarin',\n",
      " 'macro': 'zho',\n",
      " 'name': 'Mandarin Chinese',\n",
      " 'names': [],\n",
      " 'part1': '',\n",
      " 'part2b': '',\n",
      " 'part2t': '',\n",
      " 'part3': 'cmn',\n",
      " 'part5': ''}\n"
     ]
    }
   ],
   "source": [
    "aragonese = languages.get(part3='cmn')\n",
    "pprint(vars(aragonese))"
   ]
  },
  {
   "cell_type": "code",
   "execution_count": 13,
   "metadata": {
    "ExecuteTime": {
     "end_time": "2019-08-03T05:54:06.933968Z",
     "start_time": "2019-08-03T05:54:06.702531Z"
    }
   },
   "outputs": [
    {
     "name": "stdout",
     "output_type": "stream",
     "text": [
      "29 ['als', 'arb', 'bul', 'cat', 'cmn', 'dan', 'ell', 'eng', 'eus', 'fas', 'fin', 'fra', 'glg', 'heb', 'hrv', 'ind', 'ita', 'jpn', 'nld', 'nno', 'nob', 'pol', 'por', 'qcn', 'slv', 'spa', 'swe', 'tha', 'zsm']\n"
     ]
    },
    {
     "data": {
      "text/html": [
       "<div>\n",
       "<style scoped>\n",
       "    .dataframe tbody tr th:only-of-type {\n",
       "        vertical-align: middle;\n",
       "    }\n",
       "\n",
       "    .dataframe tbody tr th {\n",
       "        vertical-align: top;\n",
       "    }\n",
       "\n",
       "    .dataframe thead th {\n",
       "        text-align: right;\n",
       "    }\n",
       "</style>\n",
       "<table border=\"1\" class=\"dataframe\">\n",
       "  <thead>\n",
       "    <tr style=\"text-align: right;\">\n",
       "      <th></th>\n",
       "      <th>code</th>\n",
       "      <th>part1</th>\n",
       "      <th>micro</th>\n",
       "      <th>name</th>\n",
       "    </tr>\n",
       "  </thead>\n",
       "  <tbody>\n",
       "    <tr>\n",
       "      <th>0</th>\n",
       "      <td>eng</td>\n",
       "      <td>en</td>\n",
       "      <td></td>\n",
       "      <td>English</td>\n",
       "    </tr>\n",
       "    <tr>\n",
       "      <th>1</th>\n",
       "      <td>als</td>\n",
       "      <td></td>\n",
       "      <td>sqi</td>\n",
       "      <td>Tosk Albanian</td>\n",
       "    </tr>\n",
       "    <tr>\n",
       "      <th>2</th>\n",
       "      <td>arb</td>\n",
       "      <td></td>\n",
       "      <td>ara</td>\n",
       "      <td>Standard Arabic</td>\n",
       "    </tr>\n",
       "    <tr>\n",
       "      <th>3</th>\n",
       "      <td>bul</td>\n",
       "      <td>bg</td>\n",
       "      <td></td>\n",
       "      <td>Bulgarian</td>\n",
       "    </tr>\n",
       "    <tr>\n",
       "      <th>4</th>\n",
       "      <td>cat</td>\n",
       "      <td>ca</td>\n",
       "      <td></td>\n",
       "      <td>Catalan</td>\n",
       "    </tr>\n",
       "    <tr>\n",
       "      <th>5</th>\n",
       "      <td>cmn</td>\n",
       "      <td></td>\n",
       "      <td>zho</td>\n",
       "      <td>Mandarin Chinese</td>\n",
       "    </tr>\n",
       "    <tr>\n",
       "      <th>6</th>\n",
       "      <td>dan</td>\n",
       "      <td>da</td>\n",
       "      <td></td>\n",
       "      <td>Danish</td>\n",
       "    </tr>\n",
       "    <tr>\n",
       "      <th>7</th>\n",
       "      <td>ell</td>\n",
       "      <td>el</td>\n",
       "      <td></td>\n",
       "      <td>Modern Greek (1453-)</td>\n",
       "    </tr>\n",
       "    <tr>\n",
       "      <th>8</th>\n",
       "      <td>eus</td>\n",
       "      <td>eu</td>\n",
       "      <td></td>\n",
       "      <td>Basque</td>\n",
       "    </tr>\n",
       "    <tr>\n",
       "      <th>9</th>\n",
       "      <td>fas</td>\n",
       "      <td>fa</td>\n",
       "      <td></td>\n",
       "      <td>Persian</td>\n",
       "    </tr>\n",
       "    <tr>\n",
       "      <th>10</th>\n",
       "      <td>fin</td>\n",
       "      <td>fi</td>\n",
       "      <td></td>\n",
       "      <td>Finnish</td>\n",
       "    </tr>\n",
       "    <tr>\n",
       "      <th>11</th>\n",
       "      <td>fra</td>\n",
       "      <td>fr</td>\n",
       "      <td></td>\n",
       "      <td>French</td>\n",
       "    </tr>\n",
       "    <tr>\n",
       "      <th>12</th>\n",
       "      <td>glg</td>\n",
       "      <td>gl</td>\n",
       "      <td></td>\n",
       "      <td>Galician</td>\n",
       "    </tr>\n",
       "    <tr>\n",
       "      <th>13</th>\n",
       "      <td>heb</td>\n",
       "      <td>he</td>\n",
       "      <td></td>\n",
       "      <td>Hebrew</td>\n",
       "    </tr>\n",
       "    <tr>\n",
       "      <th>14</th>\n",
       "      <td>hrv</td>\n",
       "      <td>hr</td>\n",
       "      <td>hbs</td>\n",
       "      <td>Croatian</td>\n",
       "    </tr>\n",
       "    <tr>\n",
       "      <th>15</th>\n",
       "      <td>ind</td>\n",
       "      <td>id</td>\n",
       "      <td>msa</td>\n",
       "      <td>Indonesian</td>\n",
       "    </tr>\n",
       "    <tr>\n",
       "      <th>16</th>\n",
       "      <td>ita</td>\n",
       "      <td>it</td>\n",
       "      <td></td>\n",
       "      <td>Italian</td>\n",
       "    </tr>\n",
       "    <tr>\n",
       "      <th>17</th>\n",
       "      <td>jpn</td>\n",
       "      <td>ja</td>\n",
       "      <td></td>\n",
       "      <td>Japanese</td>\n",
       "    </tr>\n",
       "    <tr>\n",
       "      <th>18</th>\n",
       "      <td>nld</td>\n",
       "      <td>nl</td>\n",
       "      <td></td>\n",
       "      <td>Dutch</td>\n",
       "    </tr>\n",
       "    <tr>\n",
       "      <th>19</th>\n",
       "      <td>nno</td>\n",
       "      <td>nn</td>\n",
       "      <td>nor</td>\n",
       "      <td>Norwegian Nynorsk</td>\n",
       "    </tr>\n",
       "    <tr>\n",
       "      <th>20</th>\n",
       "      <td>nob</td>\n",
       "      <td>nb</td>\n",
       "      <td>nor</td>\n",
       "      <td>Norwegian Bokmål</td>\n",
       "    </tr>\n",
       "    <tr>\n",
       "      <th>21</th>\n",
       "      <td>pol</td>\n",
       "      <td>pl</td>\n",
       "      <td></td>\n",
       "      <td>Polish</td>\n",
       "    </tr>\n",
       "    <tr>\n",
       "      <th>22</th>\n",
       "      <td>por</td>\n",
       "      <td>pt</td>\n",
       "      <td></td>\n",
       "      <td>Portuguese</td>\n",
       "    </tr>\n",
       "    <tr>\n",
       "      <th>23</th>\n",
       "      <td>slv</td>\n",
       "      <td>sl</td>\n",
       "      <td></td>\n",
       "      <td>Slovenian</td>\n",
       "    </tr>\n",
       "    <tr>\n",
       "      <th>24</th>\n",
       "      <td>spa</td>\n",
       "      <td>es</td>\n",
       "      <td></td>\n",
       "      <td>Spanish</td>\n",
       "    </tr>\n",
       "    <tr>\n",
       "      <th>25</th>\n",
       "      <td>swe</td>\n",
       "      <td>sv</td>\n",
       "      <td></td>\n",
       "      <td>Swedish</td>\n",
       "    </tr>\n",
       "    <tr>\n",
       "      <th>26</th>\n",
       "      <td>tha</td>\n",
       "      <td>th</td>\n",
       "      <td></td>\n",
       "      <td>Thai</td>\n",
       "    </tr>\n",
       "    <tr>\n",
       "      <th>27</th>\n",
       "      <td>zsm</td>\n",
       "      <td></td>\n",
       "      <td>msa</td>\n",
       "      <td>Standard Malay</td>\n",
       "    </tr>\n",
       "  </tbody>\n",
       "</table>\n",
       "</div>"
      ],
      "text/plain": [
       "   code part1 micro                  name\n",
       "0   eng    en                     English\n",
       "1   als         sqi         Tosk Albanian\n",
       "2   arb         ara       Standard Arabic\n",
       "3   bul    bg                   Bulgarian\n",
       "4   cat    ca                     Catalan\n",
       "5   cmn         zho      Mandarin Chinese\n",
       "6   dan    da                      Danish\n",
       "7   ell    el        Modern Greek (1453-)\n",
       "8   eus    eu                      Basque\n",
       "9   fas    fa                     Persian\n",
       "10  fin    fi                     Finnish\n",
       "11  fra    fr                      French\n",
       "12  glg    gl                    Galician\n",
       "13  heb    he                      Hebrew\n",
       "14  hrv    hr   hbs              Croatian\n",
       "15  ind    id   msa            Indonesian\n",
       "16  ita    it                     Italian\n",
       "17  jpn    ja                    Japanese\n",
       "18  nld    nl                       Dutch\n",
       "19  nno    nn   nor     Norwegian Nynorsk\n",
       "20  nob    nb   nor      Norwegian Bokmål\n",
       "21  pol    pl                      Polish\n",
       "22  por    pt                  Portuguese\n",
       "23  slv    sl                   Slovenian\n",
       "24  spa    es                     Spanish\n",
       "25  swe    sv                     Swedish\n",
       "26  tha    th                        Thai\n",
       "27  zsm         msa        Standard Malay"
      ]
     },
     "execution_count": 13,
     "metadata": {},
     "output_type": "execute_result"
    }
   ],
   "source": [
    "from nltk.corpus import wordnet as wn\n",
    "import sagas\n",
    "langs=wn.langs()\n",
    "print(len(langs), sorted(langs))\n",
    "rs=[]\n",
    "excepts=['qcn']\n",
    "for lang in langs:\n",
    "    if lang not in excepts:\n",
    "        loc = languages.get(part3=lang)\n",
    "        rs.append((loc.part3, loc.part1, loc.macro, loc.name))\n",
    "\n",
    "sagas.to_df(rs, ['code', 'part1', 'micro', 'name'])"
   ]
  },
  {
   "cell_type": "code",
   "execution_count": 15,
   "metadata": {
    "ExecuteTime": {
     "end_time": "2019-08-03T06:00:05.917056Z",
     "start_time": "2019-08-03T06:00:05.890992Z"
    }
   },
   "outputs": [
    {
     "name": "stdout",
     "output_type": "stream",
     "text": [
      "27 {'en': 'eng', 'ar': 'arb', 'bg': 'bul', 'ca': 'cat', 'zh': 'cmn', 'da': 'dan', 'el': 'ell', 'eu': 'eus', 'fa': 'fas', 'fi': 'fin', 'fr': 'fra', 'gl': 'glg', 'he': 'heb', 'hr': 'hrv', 'id': 'ind', 'it': 'ita', 'ja': 'jpn', 'nl': 'nld', 'nn': 'nno', 'nb': 'nob', 'pl': 'pol', 'pt': 'por', 'zh-TW': 'qcn', 'sl': 'slv', 'es': 'spa', 'sv': 'swe', 'th': 'tha'}\n"
     ]
    }
   ],
   "source": [
    "annex={'arb':'ar', 'cmn':'zh', 'qcn':'zh-TW'}\n",
    "mappings={}\n",
    "for lang in langs:\n",
    "    if lang in annex:\n",
    "        mappings[annex[lang]]=lang\n",
    "    else:\n",
    "        loc = languages.get(part3=lang)\n",
    "        if loc.part1!='':\n",
    "            mappings[loc.part1]=loc.part3\n",
    "print(len(mappings), mappings)"
   ]
  },
  {
   "cell_type": "code",
   "execution_count": 16,
   "metadata": {
    "ExecuteTime": {
     "end_time": "2019-08-03T06:03:14.426034Z",
     "start_time": "2019-08-03T06:03:14.386220Z"
    }
   },
   "outputs": [],
   "source": [
    "import json_utils\n",
    "json_utils.write_json('./conf/iso-639.json', mappings)"
   ]
  },
  {
   "cell_type": "code",
   "execution_count": 20,
   "metadata": {
    "ExecuteTime": {
     "end_time": "2019-08-03T06:07:31.495354Z",
     "start_time": "2019-08-03T06:07:31.487879Z"
    }
   },
   "outputs": [
    {
     "data": {
      "text/plain": [
       "'cmn'"
      ]
     },
     "execution_count": 20,
     "metadata": {},
     "output_type": "execute_result"
    }
   ],
   "source": [
    "iso_map=json_utils.read_json_file('./conf/iso-639.json')\n",
    "iso_map['zh']"
   ]
  },
  {
   "cell_type": "code",
   "execution_count": 23,
   "metadata": {
    "ExecuteTime": {
     "end_time": "2019-08-03T06:11:26.464155Z",
     "start_time": "2019-08-03T06:11:26.454172Z"
    }
   },
   "outputs": [
    {
     "name": "stdout",
     "output_type": "stream",
     "text": [
      "27 {'eng': 'en', 'arb': 'ar', 'bul': 'bg', 'cat': 'ca', 'cmn': 'zh', 'dan': 'da', 'ell': 'el', 'eus': 'eu', 'fas': 'fa', 'fin': 'fi', 'fra': 'fr', 'glg': 'gl', 'heb': 'he', 'hrv': 'hr', 'ind': 'id', 'ita': 'it', 'jpn': 'ja', 'nld': 'nl', 'nno': 'nn', 'nob': 'nb', 'pol': 'pl', 'por': 'pt', 'qcn': 'zh-TW', 'slv': 'sl', 'spa': 'es', 'swe': 'sv', 'tha': 'th'}\n"
     ]
    }
   ],
   "source": [
    "rev_map={v:k for k,v in iso_map.items()}\n",
    "print(len(rev_map), rev_map)"
   ]
  },
  {
   "cell_type": "code",
   "execution_count": 28,
   "metadata": {
    "ExecuteTime": {
     "end_time": "2019-08-03T06:14:15.942265Z",
     "start_time": "2019-08-03T06:14:15.937855Z"
    }
   },
   "outputs": [],
   "source": [
    "try:\n",
    "    loc = languages.get(part3='qcn')\n",
    "except KeyError:\n",
    "    loc=None"
   ]
  }
 ],
 "metadata": {
  "kernelspec": {
   "display_name": "Python 3",
   "language": "python",
   "name": "python3"
  },
  "language_info": {
   "codemirror_mode": {
    "name": "ipython",
    "version": 3
   },
   "file_extension": ".py",
   "mimetype": "text/x-python",
   "name": "python",
   "nbconvert_exporter": "python",
   "pygments_lexer": "ipython3",
   "version": "3.6.4"
  },
  "varInspector": {
   "cols": {
    "lenName": 16,
    "lenType": 16,
    "lenVar": 40
   },
   "kernels_config": {
    "python": {
     "delete_cmd_postfix": "",
     "delete_cmd_prefix": "del ",
     "library": "var_list.py",
     "varRefreshCmd": "print(var_dic_list())"
    },
    "r": {
     "delete_cmd_postfix": ") ",
     "delete_cmd_prefix": "rm(",
     "library": "var_list.r",
     "varRefreshCmd": "cat(var_dic_list()) "
    }
   },
   "types_to_exclude": [
    "module",
    "function",
    "builtin_function_or_method",
    "instance",
    "_Feature"
   ],
   "window_display": false
  }
 },
 "nbformat": 4,
 "nbformat_minor": 2
}
