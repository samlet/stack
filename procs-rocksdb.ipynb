{
 "cells": [
  {
   "cell_type": "code",
   "execution_count": 1,
   "metadata": {
    "ExecuteTime": {
     "end_time": "2019-04-16T15:22:22.992417Z",
     "start_time": "2019-04-16T15:22:22.937358Z"
    }
   },
   "outputs": [
    {
     "name": "stdout",
     "output_type": "stream",
     "text": [
      "b'data'\n"
     ]
    }
   ],
   "source": [
    "import rocksdb\n",
    "db = rocksdb.DB(\"out/test.db\", rocksdb.Options(create_if_missing=True))\n",
    "db.put(b'a', b'data')\n",
    "print(db.get(b'a'))"
   ]
  },
  {
   "cell_type": "code",
   "execution_count": 8,
   "metadata": {
    "ExecuteTime": {
     "end_time": "2019-04-16T18:05:24.559264Z",
     "start_time": "2019-04-16T18:05:24.554778Z"
    }
   },
   "outputs": [
    {
     "data": {
      "text/plain": [
       "'test.db'"
      ]
     },
     "execution_count": 8,
     "metadata": {},
     "output_type": "execute_result"
    }
   ],
   "source": [
    "import os\n",
    "os.path.basename('out/test.db')"
   ]
  },
  {
   "cell_type": "code",
   "execution_count": 20,
   "metadata": {
    "ExecuteTime": {
     "end_time": "2019-04-16T15:47:35.715550Z",
     "start_time": "2019-04-16T15:47:35.668541Z"
    }
   },
   "outputs": [
    {
     "name": "stdout",
     "output_type": "stream",
     "text": [
      "b'6'\n"
     ]
    }
   ],
   "source": [
    "# The following example python merge operator implements a counter\n",
    "\n",
    "class AssocCounter(rocksdb.interfaces.AssociativeMergeOperator):\n",
    "    def merge(self, key, existing_value, value):\n",
    "        if existing_value:\n",
    "            s = int(existing_value) + int(value)\n",
    "            return (True, str(s).encode('ascii'))\n",
    "        return (True, value)\n",
    "\n",
    "    def name(self):\n",
    "        return b'AssocCounter'\n",
    "\n",
    "\n",
    "opts = rocksdb.Options()\n",
    "opts.create_if_missing = True\n",
    "opts.merge_operator = AssocCounter()\n",
    "db = rocksdb.DB('out/test_merge.db', opts)\n",
    "\n",
    "db.merge(b\"a\", b\"1\")\n",
    "db.merge(b\"a\", b\"1\")\n",
    "\n",
    "# prints b'2'\n",
    "print(db.get(b\"a\"))"
   ]
  },
  {
   "cell_type": "code",
   "execution_count": 24,
   "metadata": {
    "ExecuteTime": {
     "end_time": "2019-04-16T15:48:53.801106Z",
     "start_time": "2019-04-16T15:48:53.757715Z"
    }
   },
   "outputs": [
    {
     "data": {
      "text/plain": [
       "72"
      ]
     },
     "execution_count": 24,
     "metadata": {},
     "output_type": "execute_result"
    }
   ],
   "source": [
    "import gc\n",
    "del db\n",
    "gc.collect()"
   ]
  },
  {
   "cell_type": "code",
   "execution_count": 7,
   "metadata": {
    "ExecuteTime": {
     "end_time": "2019-04-16T16:14:20.897438Z",
     "start_time": "2019-04-16T16:14:20.823390Z"
    }
   },
   "outputs": [
    {
     "name": "stdout",
     "output_type": "stream",
     "text": [
      "505066\n",
      "505066\n"
     ]
    }
   ],
   "source": [
    "# We provide a set of default operators rocksdb.merge_operators.UintAddOperator and rocksdb.merge_operators.StringAppendOperator:\n",
    "\n",
    "from rocksdb.merge_operators import UintAddOperator, StringAppendOperator\n",
    "import struct\n",
    "\n",
    "opts = rocksdb.Options()\n",
    "opts.create_if_missing = True\n",
    "# you should also play with StringAppendOperator\n",
    "opts.merge_operator = UintAddOperator()\n",
    "db = rocksdb.DB('out/test_uint.db', opts)\n",
    "db.put(b'a', struct.pack('Q', 5566))\n",
    "for x in range(1000):\n",
    "    db.merge(b\"a\", struct.pack('Q', x))\n",
    "# self.assertEqual(5566 + sum(range(1000)), struct.unpack('Q', self.db.get(b'a'))[0])\n",
    "ret=struct.unpack('Q', db.get(b'a'))[0]\n",
    "print(ret)\n",
    "print(5566 + sum(range(1000)))"
   ]
  },
  {
   "cell_type": "code",
   "execution_count": 6,
   "metadata": {
    "ExecuteTime": {
     "end_time": "2019-04-16T16:14:17.866451Z",
     "start_time": "2019-04-16T16:14:17.809676Z"
    }
   },
   "outputs": [
    {
     "data": {
      "text/plain": [
       "505"
      ]
     },
     "execution_count": 6,
     "metadata": {},
     "output_type": "execute_result"
    }
   ],
   "source": [
    "del db\n",
    "gc.collect()"
   ]
  },
  {
   "cell_type": "markdown",
   "metadata": {},
   "source": [
    "## PrefixExtractor\n",
    "According to Prefix API a prefix_extractor can reduce IO for scans within a prefix range. A python prefix extractor must implement the rocksdb.interfaces.SliceTransform interface.\n",
    "\n",
    "The following example presents a prefix extractor of a static size. So always the first 5 bytes are used as the prefix\n"
   ]
  },
  {
   "cell_type": "code",
   "execution_count": 1,
   "metadata": {
    "ExecuteTime": {
     "end_time": "2019-04-16T16:24:22.540226Z",
     "start_time": "2019-04-16T16:24:22.422274Z"
    }
   },
   "outputs": [
    {
     "name": "stdout",
     "output_type": "stream",
     "text": [
      "{b'00002.x': b'x', b'00002.y': b'y', b'00002.z': b'z'}\n"
     ]
    }
   ],
   "source": [
    "import rocksdb\n",
    "import gc\n",
    "from itertools import takewhile\n",
    "class StaticPrefix(rocksdb.interfaces.SliceTransform):\n",
    "    def name(self):\n",
    "        return b'static'\n",
    "\n",
    "    def transform(self, src):\n",
    "        return (0, 5)\n",
    "\n",
    "    def in_domain(self, src):\n",
    "        return len(src) >= 5\n",
    "\n",
    "    def in_range(self, dst):\n",
    "        return len(dst) == 5\n",
    "\n",
    "opts = rocksdb.Options()\n",
    "opts.create_if_missing=True\n",
    "opts.prefix_extractor = StaticPrefix()\n",
    "\n",
    "db = rocksdb.DB('out/test_prefix.db', opts)\n",
    "\n",
    "db.put(b'00001.x', b'x')\n",
    "db.put(b'00001.y', b'y')\n",
    "db.put(b'00001.z', b'z')\n",
    "\n",
    "db.put(b'00002.x', b'x')\n",
    "db.put(b'00002.y', b'y')\n",
    "db.put(b'00002.z', b'z')\n",
    "\n",
    "db.put(b'00003.x', b'x')\n",
    "db.put(b'00003.y', b'y')\n",
    "db.put(b'00003.z', b'z')\n",
    "\n",
    "prefix = b'00002'\n",
    "\n",
    "it = db.iteritems()\n",
    "it.seek(prefix)\n",
    "\n",
    "# prints {b'00002.z': b'z', b'00002.y': b'y', b'00002.x': b'x'}\n",
    "print(dict(takewhile(lambda item: item[0].startswith(prefix), it)))"
   ]
  },
  {
   "cell_type": "code",
   "execution_count": 2,
   "metadata": {
    "ExecuteTime": {
     "end_time": "2019-04-16T16:24:35.391863Z",
     "start_time": "2019-04-16T16:24:35.380625Z"
    }
   },
   "outputs": [],
   "source": [
    "db.put(b'00003.z', b'z')"
   ]
  },
  {
   "cell_type": "code",
   "execution_count": 2,
   "metadata": {
    "ExecuteTime": {
     "end_time": "2019-04-16T16:18:56.842004Z",
     "start_time": "2019-04-16T16:18:56.776295Z"
    }
   },
   "outputs": [
    {
     "data": {
      "text/plain": [
       "0"
      ]
     },
     "execution_count": 2,
     "metadata": {},
     "output_type": "execute_result"
    }
   ],
   "source": [
    "# close\n",
    "del db\n",
    "gc.collect()"
   ]
  },
  {
   "cell_type": "code",
   "execution_count": 32,
   "metadata": {
    "ExecuteTime": {
     "end_time": "2019-04-16T16:10:23.575136Z",
     "start_time": "2019-04-16T16:10:23.569678Z"
    }
   },
   "outputs": [
    {
     "name": "stdout",
     "output_type": "stream",
     "text": [
      "1\n",
      "4\n"
     ]
    }
   ],
   "source": [
    "for e in (takewhile(lambda x: x<5, [1,4,6,4,1])):\n",
    "    print(e)"
   ]
  },
  {
   "cell_type": "markdown",
   "metadata": {},
   "source": [
    "⊕ [7.3. struct — Interpret strings as packed binary data — Python 2.7.16 documentation](https://docs.python.org/2/library/struct.html)\n"
   ]
  },
  {
   "cell_type": "code",
   "execution_count": 7,
   "metadata": {
    "ExecuteTime": {
     "end_time": "2019-04-16T16:46:14.137456Z",
     "start_time": "2019-04-16T16:46:14.131103Z"
    }
   },
   "outputs": [
    {
     "name": "stdout",
     "output_type": "stream",
     "text": [
      "8\n",
      "8\n"
     ]
    }
   ],
   "source": [
    "import struct\n",
    "print(len(struct.pack('Q', 5)))\n",
    "print(len(struct.pack('Q', 500000)))"
   ]
  },
  {
   "cell_type": "code",
   "execution_count": 1,
   "metadata": {
    "ExecuteTime": {
     "end_time": "2019-04-16T19:06:41.007705Z",
     "start_time": "2019-04-16T19:06:40.941195Z"
    }
   },
   "outputs": [
    {
     "data": {
      "text/plain": [
       "b'val'"
      ]
     },
     "execution_count": 1,
     "metadata": {},
     "output_type": "execute_result"
    }
   ],
   "source": [
    "from sagas.storage.data_space import DataSpace, sys_db\n",
    "def int_to_bytes(ob):\n",
    "    return str(ob).encode('ascii')\n",
    "\n",
    "sys_db.put(b'obj', b'property', b'val')\n",
    "sys_db.get(b'obj', b'property')"
   ]
  },
  {
   "cell_type": "code",
   "execution_count": 2,
   "metadata": {
    "ExecuteTime": {
     "end_time": "2019-04-16T19:06:48.076379Z",
     "start_time": "2019-04-16T19:06:48.070063Z"
    }
   },
   "outputs": [
    {
     "data": {
      "text/plain": [
       "[((<ColumnFamilyHandle name: b'property', id: 1, state: valid>, b'obj'),\n",
       "  b'val')]"
      ]
     },
     "execution_count": 2,
     "metadata": {},
     "output_type": "execute_result"
    }
   ],
   "source": [
    "sys_db.all_column_values(b'property')"
   ]
  },
  {
   "cell_type": "code",
   "execution_count": 2,
   "metadata": {
    "ExecuteTime": {
     "end_time": "2019-04-16T18:44:04.442146Z",
     "start_time": "2019-04-16T18:44:04.428324Z"
    }
   },
   "outputs": [
    {
     "data": {
      "text/plain": [
       "[b'default', b'property', b'value']"
      ]
     },
     "execution_count": 2,
     "metadata": {},
     "output_type": "execute_result"
    }
   ],
   "source": [
    "import rocksdb\n",
    "import os\n",
    "rocksdb.list_column_families(\n",
    "        os.path.join('./db', 'sys.db'),\n",
    "        rocksdb.Options(),\n",
    "    )"
   ]
  },
  {
   "cell_type": "code",
   "execution_count": 3,
   "metadata": {
    "ExecuteTime": {
     "end_time": "2019-04-16T18:45:40.633132Z",
     "start_time": "2019-04-16T18:45:40.626935Z"
    }
   },
   "outputs": [
    {
     "data": {
      "text/plain": [
       "True"
      ]
     },
     "execution_count": 3,
     "metadata": {},
     "output_type": "execute_result"
    }
   ],
   "source": [
    "os.path.exists(os.path.join('./db', 'sys.db'))"
   ]
  },
  {
   "cell_type": "code",
   "execution_count": 6,
   "metadata": {
    "ExecuteTime": {
     "end_time": "2019-04-16T19:08:49.645580Z",
     "start_time": "2019-04-16T19:08:49.639967Z"
    }
   },
   "outputs": [
    {
     "name": "stdout",
     "output_type": "stream",
     "text": [
      "b'value'\n"
     ]
    }
   ],
   "source": [
    "new_cf_column_family = sys_db.db.get_column_family(b'value')\n",
    "sys_db.db.put( (new_cf_column_family, b'key'), b'value' )\n",
    "print( sys_db.db.get( (new_cf_column_family, b'key') ) ) # b'value'\n"
   ]
  },
  {
   "cell_type": "code",
   "execution_count": 8,
   "metadata": {
    "ExecuteTime": {
     "end_time": "2019-04-16T19:10:17.882003Z",
     "start_time": "2019-04-16T19:10:17.869189Z"
    }
   },
   "outputs": [],
   "source": [
    "import rocksdb\n",
    "\n",
    "default_column_family = sys_db.db.get_column_family(b'default')\n",
    "\n",
    "batch = rocksdb.WriteBatch()\n",
    "batch.put( (default_column_family, b'key2'), b'value2' )\n",
    "batch.put( (new_cf_column_family, b'key3'), b'value3' )\n",
    "batch.delete( (default_column_family, b'key') ) \n",
    "\n",
    "sys_db.db.write(batch)"
   ]
  },
  {
   "cell_type": "code",
   "execution_count": 1,
   "metadata": {
    "ExecuteTime": {
     "end_time": "2019-04-24T14:54:17.698528Z",
     "start_time": "2019-04-24T14:54:17.660453Z"
    }
   },
   "outputs": [
    {
     "name": "stdout",
     "output_type": "stream",
     "text": [
      "name: \"hello\"\n",
      "\n"
     ]
    }
   ],
   "source": [
    "from simple_pb2 import MyObj, Foo\n",
    "obj=MyObj(name='hello')\n",
    "print(obj)"
   ]
  },
  {
   "cell_type": "code",
   "execution_count": 4,
   "metadata": {
    "ExecuteTime": {
     "end_time": "2019-04-24T14:55:23.254111Z",
     "start_time": "2019-04-24T14:55:23.242188Z"
    }
   },
   "outputs": [
    {
     "name": "stdout",
     "output_type": "stream",
     "text": [
      "name: \"hello\"\n",
      "\n"
     ]
    }
   ],
   "source": [
    "from sagas.storage.data_space import DataSpace, sys_db\n",
    "new_cf_column_family = sys_db.db.get_column_family(b'value')\n",
    "\n",
    "sys_db.db.put( (new_cf_column_family, b'key'), obj.SerializeToString() )\n",
    "val= sys_db.db.get( (new_cf_column_family, b'key') )\n",
    "obj=MyObj()\n",
    "obj.ParseFromString(val)\n",
    "print(obj)"
   ]
  }
 ],
 "metadata": {
  "kernelspec": {
   "display_name": "Python 3",
   "language": "python",
   "name": "python3"
  },
  "language_info": {
   "codemirror_mode": {
    "name": "ipython",
    "version": 3
   },
   "file_extension": ".py",
   "mimetype": "text/x-python",
   "name": "python",
   "nbconvert_exporter": "python",
   "pygments_lexer": "ipython3",
   "version": "3.6.4"
  },
  "varInspector": {
   "cols": {
    "lenName": 16,
    "lenType": 16,
    "lenVar": 40
   },
   "kernels_config": {
    "python": {
     "delete_cmd_postfix": "",
     "delete_cmd_prefix": "del ",
     "library": "var_list.py",
     "varRefreshCmd": "print(var_dic_list())"
    },
    "r": {
     "delete_cmd_postfix": ") ",
     "delete_cmd_prefix": "rm(",
     "library": "var_list.r",
     "varRefreshCmd": "cat(var_dic_list()) "
    }
   },
   "types_to_exclude": [
    "module",
    "function",
    "builtin_function_or_method",
    "instance",
    "_Feature"
   ],
   "window_display": false
  }
 },
 "nbformat": 4,
 "nbformat_minor": 2
}
