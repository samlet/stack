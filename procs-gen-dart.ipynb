{
 "cells": [
  {
   "cell_type": "code",
   "execution_count": 4,
   "metadata": {
    "ExecuteTime": {
     "end_time": "2019-02-25T15:45:32.192963Z",
     "start_time": "2019-02-25T15:45:32.189418Z"
    }
   },
   "outputs": [],
   "source": [
    "import re"
   ]
  },
  {
   "cell_type": "code",
   "execution_count": 24,
   "metadata": {
    "ExecuteTime": {
     "end_time": "2019-02-25T15:55:00.615667Z",
     "start_time": "2019-02-25T15:55:00.599656Z"
    }
   },
   "outputs": [
    {
     "data": {
      "text/plain": [
       "'egg'"
      ]
     },
     "execution_count": 24,
     "metadata": {},
     "output_type": "execute_result"
    }
   ],
   "source": [
    "m = re.search(r'(?<=-)\\w+', 'spam-egg')\n",
    "m.group(0)"
   ]
  },
  {
   "cell_type": "code",
   "execution_count": 34,
   "metadata": {
    "ExecuteTime": {
     "end_time": "2019-02-25T16:05:05.100624Z",
     "start_time": "2019-02-25T16:05:05.090781Z"
    }
   },
   "outputs": [
    {
     "data": {
      "text/plain": [
       "'static PyObject*\\npy_myfunc(void)\\n{'"
      ]
     },
     "execution_count": 34,
     "metadata": {},
     "output_type": "execute_result"
    }
   ],
   "source": [
    "re.sub(r'def\\s+([a-zA-Z_][a-zA-Z_0-9]*)\\s*\\(\\s*\\):',\n",
    "       r'static PyObject*\\npy_\\1(void)\\n{',\n",
    "       'def myfunc():')"
   ]
  },
  {
   "cell_type": "code",
   "execution_count": 54,
   "metadata": {
    "ExecuteTime": {
     "end_time": "2019-02-25T16:26:46.641151Z",
     "start_time": "2019-02-25T16:26:46.631560Z"
    }
   },
   "outputs": [],
   "source": [
    "class GenProp(object):\n",
    "    def __init__(self, prop_type, prop_name):\n",
    "        self.prop_type=prop_type\n",
    "        self.prop_name=prop_name\n",
    "class GenCollection(object):\n",
    "    def __init__(self, collection_type, element_type, prop_name):\n",
    "        self.prop_name=prop_name\n",
    "        self.collection_type=collection_type\n",
    "        self.element_type=element_type\n",
    "class GenMeta(object):\n",
    "    def __init__(self):\n",
    "        self.class_name=''\n",
    "        self.base_name=''\n",
    "        self.attributes=[]"
   ]
  },
  {
   "cell_type": "code",
   "execution_count": 55,
   "metadata": {
    "ExecuteTime": {
     "end_time": "2019-02-25T16:26:48.936451Z",
     "start_time": "2019-02-25T16:26:48.919885Z"
    }
   },
   "outputs": [
    {
     "name": "stdout",
     "output_type": "stream",
     "text": [
      "@class Schedule * Equatable\n",
      "@prop DateTime * fromDate\n",
      "@prop TimeOfDay * fromTime\n",
      "@prop DateTime * toDate\n",
      "@prop TimeOfDay * toTime\n",
      "@collection List - String allActivities\n",
      "@prop String * activity\n",
      "<__main__.GenMeta object at 0x10a4b8160>\n"
     ]
    }
   ],
   "source": [
    "code=\"\"\"class Schedule extends Equatable {\n",
    "  DateTime fromDate= DateTime.now();\n",
    "  TimeOfDay fromTime = const TimeOfDay(hour: 7, minute: 28);\n",
    "  DateTime toDate = DateTime.now();\n",
    "  TimeOfDay toTime = const TimeOfDay(hour: 7, minute: 28);\n",
    "  // final List<String> allActivities = <String>['hiking', 'swimming', 'boating', 'fishing'];\n",
    "  List<String> allActivities= <String>['hiking', 'swimming'];\n",
    "  String activity = 'fishing';\n",
    "\"\"\"\n",
    "meta=GenMeta()\n",
    "for line in code.splitlines():    \n",
    "    # print(line)\n",
    "    match_obj=re.match(r'class (.*) extends (.*) {', line, re.M|re.I)\n",
    "    if match_obj:\n",
    "        print(\"@class\", match_obj.group(1),\"*\", match_obj.group(2))\n",
    "        meta.class_name=match_obj.group(1)\n",
    "        meta.base_name=match_obj.group(2)\n",
    "    else:\n",
    "        pass\n",
    "    \n",
    "    match_obj=re.match(r'\\s*([a-zA-Z_][a-zA-Z_0-9]*)\\s*([a-zA-Z_][a-zA-Z_0-9]*)\\s*=(.*);', line, re.M|re.I)\n",
    "    # match_obj=re.search(r'([a-zA-Z_]+) ([a-zA-Z_]+) = ([a-zA-Z_]+);', line)\n",
    "    if match_obj:\n",
    "        print(\"@prop\", match_obj.group(1),'*', match_obj.group(2))\n",
    "        meta.attributes.append(GenProp(match_obj.group(1), match_obj.group(2)))\n",
    "    else:\n",
    "        pass\n",
    "    \n",
    "    # process collections\n",
    "    match_obj=re.match(r'\\s*([a-zA-Z_][a-zA-Z_0-9]*)<(.*)>\\s*([a-zA-Z_][a-zA-Z_0-9]*)\\s*=(.*);', line, re.M|re.I)\n",
    "    if match_obj:\n",
    "        print(\"@collection\", match_obj.group(1),\"-\", match_obj.group(2), match_obj.group(3))\n",
    "        meta.attributes.append(GenCollection(match_obj.group(1),match_obj.group(2), match_obj.group(3)))\n",
    "    else:\n",
    "        pass\n",
    "\n",
    "print(meta)"
   ]
  },
  {
   "cell_type": "code",
   "execution_count": 67,
   "metadata": {
    "ExecuteTime": {
     "end_time": "2019-02-25T16:31:30.612980Z",
     "start_time": "2019-02-25T16:31:30.607113Z"
    }
   },
   "outputs": [
    {
     "name": "stdout",
     "output_type": "stream",
     "text": [
      "{\n",
      "  \"class_name\": \"Schedule\",\n",
      "  \"base_name\": \"Equatable\",\n",
      "  \"attributes\": [\n",
      "    {\n",
      "      \"prop_type\": \"DateTime\",\n",
      "      \"prop_name\": \"fromDate\"\n",
      "    },\n",
      "    {\n",
      "      \"prop_type\": \"TimeOfDay\",\n",
      "      \"prop_name\": \"fromTime\"\n",
      "    },\n",
      "    {\n",
      "      \"prop_type\": \"DateTime\",\n",
      "      \"prop_name\": \"toDate\"\n",
      "    },\n",
      "    {\n",
      "      \"prop_type\": \"TimeOfDay\",\n",
      "      \"prop_name\": \"toTime\"\n",
      "    },\n",
      "    {\n",
      "      \"prop_name\": \"allActivities\",\n",
      "      \"collection_type\": \"List\",\n",
      "      \"element_type\": \"String\"\n",
      "    },\n",
      "    {\n",
      "      \"prop_type\": \"String\",\n",
      "      \"prop_name\": \"activity\"\n",
      "    }\n",
      "  ]\n",
      "}\n"
     ]
    }
   ],
   "source": [
    "import json\n",
    "# json.dumps(meta.__dict__)\n",
    "from json import JSONEncoder\n",
    "class MyEncoder(JSONEncoder):\n",
    "    def default(self, o):\n",
    "        return o.__dict__    \n",
    "\n",
    "# data=(MyEncoder().encode(meta))\n",
    "# print(data)\n",
    "jd=json.dumps(meta, cls=MyEncoder, indent=2)\n",
    "print(jd)"
   ]
  },
  {
   "cell_type": "code",
   "execution_count": 71,
   "metadata": {
    "ExecuteTime": {
     "end_time": "2019-02-25T16:48:20.276232Z",
     "start_time": "2019-02-25T16:48:20.266667Z"
    }
   },
   "outputs": [
    {
     "name": "stdout",
     "output_type": "stream",
     "text": [
      "  Schedule({\n",
      "    this.fromDate, this.fromTime, this.toDate, this.toTime, this.allActivities, this.activity\n",
      "  }) : super([\n",
      "    fromDate, fromTime, toDate, toTime, allActivities, activity\n",
      "  ]);\n"
     ]
    }
   ],
   "source": [
    "def gen_constructor(meta):\n",
    "    lines=[]\n",
    "    lines.append('  %s({'%meta.class_name)\n",
    "    attr_defs=[]\n",
    "    attr_equals=[]\n",
    "    for attr in meta.attributes:\n",
    "        attr_defs.append('this.%s'%attr.prop_name)\n",
    "        attr_equals.append(attr.prop_name)\n",
    "    lines.append('    '+', '.join(attr_defs))\n",
    "    lines.append('  }) : super([')\n",
    "    lines.append('    '+', '.join(attr_equals))\n",
    "    lines.append('  ]);')\n",
    "    print('\\n'.join(lines))\n",
    "\n",
    "gen_constructor(meta)"
   ]
  },
  {
   "cell_type": "code",
   "execution_count": 73,
   "metadata": {
    "ExecuteTime": {
     "end_time": "2019-02-25T16:52:45.009725Z",
     "start_time": "2019-02-25T16:52:44.999963Z"
    }
   },
   "outputs": [
    {
     "name": "stdout",
     "output_type": "stream",
     "text": [
      "  static Schedule overridesSchedule(Map<String, dynamic> map) {\n",
      "    return Schedule(\n",
      "        fromDate: map['fromDate'],\n",
      "        fromTime: map['fromTime'],\n",
      "        toDate: map['toDate'],\n",
      "        toTime: map['toTime'],\n",
      "        allActivities: map['allActivities'],\n",
      "        activity: map['activity']\n",
      "  }\n"
     ]
    }
   ],
   "source": [
    "lines=[]\n",
    "lines.append('  static %s overrides%s(Map<String, dynamic> map) {'%(meta.class_name, meta.class_name))\n",
    "lines.append('    return %s('%meta.class_name)\n",
    "setters=[]\n",
    "for attr in meta.attributes:\n",
    "    setters.append(\"        %s: map['%s']\"%(attr.prop_name, attr.prop_name))\n",
    "lines.append(\",\\n\".join(setters))\n",
    "lines.append('  }')\n",
    "print('\\n'.join(lines))"
   ]
  },
  {
   "cell_type": "code",
   "execution_count": 77,
   "metadata": {
    "ExecuteTime": {
     "end_time": "2019-02-25T16:56:58.694578Z",
     "start_time": "2019-02-25T16:56:58.683974Z"
    }
   },
   "outputs": [
    {
     "name": "stdout",
     "output_type": "stream",
     "text": [
      "  Map<String, dynamic> asMap() {\n",
      "    return {'fromDate':fromDate, 'fromTime':fromTime, 'toDate':toDate, 'toTime':toTime, 'allActivities':allActivities, 'activity':activity};\n",
      "  }\n"
     ]
    }
   ],
   "source": [
    "lines=[]\n",
    "lines.append('  Map<String, dynamic> asMap() {')\n",
    "setters=[]\n",
    "for attr in meta.attributes:\n",
    "    setters.append(\"'%s':%s\"%(attr.prop_name, attr.prop_name))\n",
    "lines.append(\"    return {%s};\"%(', '.join(setters)))\n",
    "lines.append('  }')\n",
    "print('\\n'.join(lines))"
   ]
  }
 ],
 "metadata": {
  "kernelspec": {
   "display_name": "Python 3",
   "language": "python",
   "name": "python3"
  },
  "language_info": {
   "codemirror_mode": {
    "name": "ipython",
    "version": 3
   },
   "file_extension": ".py",
   "mimetype": "text/x-python",
   "name": "python",
   "nbconvert_exporter": "python",
   "pygments_lexer": "ipython3",
   "version": "3.6.4"
  },
  "varInspector": {
   "cols": {
    "lenName": 16,
    "lenType": 16,
    "lenVar": 40
   },
   "kernels_config": {
    "python": {
     "delete_cmd_postfix": "",
     "delete_cmd_prefix": "del ",
     "library": "var_list.py",
     "varRefreshCmd": "print(var_dic_list())"
    },
    "r": {
     "delete_cmd_postfix": ") ",
     "delete_cmd_prefix": "rm(",
     "library": "var_list.r",
     "varRefreshCmd": "cat(var_dic_list()) "
    }
   },
   "types_to_exclude": [
    "module",
    "function",
    "builtin_function_or_method",
    "instance",
    "_Feature"
   ],
   "window_display": false
  }
 },
 "nbformat": 4,
 "nbformat_minor": 2
}
