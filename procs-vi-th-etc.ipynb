{
 "cells": [
  {
   "cell_type": "code",
   "execution_count": 2,
   "metadata": {
    "ExecuteTime": {
     "end_time": "2019-07-17T00:23:43.836350Z",
     "start_time": "2019-07-17T00:23:41.514067Z"
    }
   },
   "outputs": [
    {
     "name": "stdout",
     "output_type": "stream",
     "text": [
      "✁ Tôi là sinh viên(我是学生 ❣ Wǒ shì xuéshēng)\n",
      "Tôi(我, Wǒ) là(是, Shì) sinh(天生, Tiānshēng) viên(成员, Chéngyuán) .\n"
     ]
    }
   ],
   "source": [
    "import time\n",
    "from sagas.nlu.google_translator import translate\n",
    "\n",
    "def marks(t):\n",
    "    if len(t)>0:\n",
    "        return ','+' '.join(t)[1:]\n",
    "    return ''\n",
    "def process(source, target, text):\n",
    "    options=set(['get_pronounce'])\n",
    "    # options.add('get_pronounce')\n",
    "    res,t = translate(text, source=source, target=target,\n",
    "                      trans_verbose=False, options=options)\n",
    "    # print(res, text, t[ips_idx])\n",
    "    print('✁', '%s(%s %s)'%(text, res, ''.join(t.pronounce)))\n",
    "    for sent in text.split(' '):\n",
    "        res,t = translate(sent, source=source, target=target,\n",
    "                          trans_verbose=False, options=options)\n",
    "        # print(res, sent, t[ips_idx])\n",
    "        print('%s(%s%s)'%(sent,res,marks(t.pronounce)), end =\" \")\n",
    "        time.sleep(0.05)\n",
    "    print('.')\n",
    "\n",
    "def analyse_vi(text):\n",
    "    target='zh'\n",
    "    process('vi', target, text)\n",
    "\n",
    "analyse_vi('Tôi là sinh viên')"
   ]
  },
  {
   "cell_type": "code",
   "execution_count": 3,
   "metadata": {
    "ExecuteTime": {
     "end_time": "2019-07-17T00:23:48.382021Z",
     "start_time": "2019-07-17T00:23:47.040635Z"
    }
   },
   "outputs": [
    {
     "name": "stdout",
     "output_type": "stream",
     "text": [
      "✁ ฉันมีตู้เย็นสองตู้(我有两个冰箱。 ❣ Wǒ yǒu liǎng gè bīngxiāng.❣ C̄hạn mī tū̂ yĕn s̄xng tū̂)\n",
      "ฉันมีตู้เย็นสองตู้(我有两个冰箱。, Wǒ yǒu liǎng gè bīngxiāng. ❣ C̄hạn mī tū̂ yĕn s̄xng tū̂) .\n"
     ]
    }
   ],
   "source": [
    "def analyse_th(text):\n",
    "    target='zh'\n",
    "    process('th', target, text)\n",
    "\n",
    "analyse_th('ฉันมีตู้เย็นสองตู้')"
   ]
  },
  {
   "cell_type": "code",
   "execution_count": 4,
   "metadata": {
    "ExecuteTime": {
     "end_time": "2019-07-17T00:23:52.827927Z",
     "start_time": "2019-07-17T00:23:51.706990Z"
    }
   },
   "outputs": [
    {
     "name": "stderr",
     "output_type": "stream",
     "text": [
      "Building prefix dict from the default dictionary ...\n",
      "Dumping model to file cache /var/folders/fv/7k1qk5v11dn33sdcngv2wbnm0000gn/T/jieba.cache\n",
      "Loading model cost 1.030 seconds.\n",
      "Prefix dict has been built succesfully.\n"
     ]
    },
    {
     "name": "stdout",
     "output_type": "stream",
     "text": [
      "他 来到 了 网易 杭研 大厦\n"
     ]
    }
   ],
   "source": [
    "import jieba\n",
    "seg_list = jieba.cut(\"他来到了网易杭研大厦\")  # 默认是精确模式\n",
    "print(\" \".join(seg_list))"
   ]
  },
  {
   "cell_type": "code",
   "execution_count": 6,
   "metadata": {
    "ExecuteTime": {
     "end_time": "2019-07-17T00:24:12.947735Z",
     "start_time": "2019-07-17T00:24:10.826112Z"
    }
   },
   "outputs": [
    {
     "name": "stdout",
     "output_type": "stream",
     "text": [
      "✁ 我是一个学生(Tôi là sinh viên )\n",
      "我(Tôi) 是(Vâng) 一个(Một) 学生(Sinh viên) .\n"
     ]
    }
   ],
   "source": [
    "def process_zh_vi(text, target='vi'):\n",
    "    source='zh-CN'    \n",
    "    res,t = translate(text, source=source, target=target,\n",
    "                      trans_verbose=False)\n",
    "    print('✁', '%s(%s %s)'%(text, res, ''.join(t.pronounce)))\n",
    "    for sent in jieba.cut(text):\n",
    "        res,t = translate(sent, source=source, target=target,\n",
    "                          trans_verbose=False)\n",
    "        print('%s(%s%s)'%(sent,res,marks(t.pronounce)), end =\" \")\n",
    "        time.sleep(0.05)\n",
    "    print('.')\n",
    "process_zh_vi('我是一个学生')"
   ]
  },
  {
   "cell_type": "code",
   "execution_count": 7,
   "metadata": {
    "ExecuteTime": {
     "end_time": "2019-07-17T00:24:19.070522Z",
     "start_time": "2019-07-17T00:24:15.682614Z"
    }
   },
   "outputs": [
    {
     "name": "stdout",
     "output_type": "stream",
     "text": [
      "✁ 我是一个学生(ฉันเป็นนักเรียน )\n",
      "我(ผม) 是(มันเป็น) 一个() 学生(นักเรียน) .\n"
     ]
    }
   ],
   "source": [
    "process_zh_vi('我是一个学生', 'th')"
   ]
  },
  {
   "cell_type": "code",
   "execution_count": 9,
   "metadata": {
    "ExecuteTime": {
     "end_time": "2019-07-17T00:24:28.321928Z",
     "start_time": "2019-07-17T00:24:26.134960Z"
    }
   },
   "outputs": [
    {
     "name": "stdout",
     "output_type": "stream",
     "text": [
      "✁ I am a student(Tôi là một sinh viên )\n",
      "I(tôi) am(là) a(một) student(sinh viên) .\n"
     ]
    }
   ],
   "source": [
    "def process_en_vi(text, target='vi'):\n",
    "    source='en'    \n",
    "    res,t = translate(text, source=source, target=target,\n",
    "                      trans_verbose=False)\n",
    "    print('✁', '%s(%s %s)'%(text, res, ''.join(t.pronounce)))\n",
    "    for sent in text.split(' '):\n",
    "        res,t = translate(sent, source=source, target=target,\n",
    "                          trans_verbose=False)\n",
    "        print('%s(%s%s)'%(sent,res,marks(t.pronounce)), end =\" \")\n",
    "        time.sleep(0.05)\n",
    "    print('.')\n",
    "process_en_vi('I am a student')"
   ]
  },
  {
   "cell_type": "code",
   "execution_count": 10,
   "metadata": {
    "ExecuteTime": {
     "end_time": "2019-07-17T00:24:40.088449Z",
     "start_time": "2019-07-17T00:24:37.866740Z"
    }
   },
   "outputs": [
    {
     "name": "stdout",
     "output_type": "stream",
     "text": [
      "✁ I am a student(aku adalah seorang murid )\n",
      "I(saya) am(saya) a(Sebuah) student(mahasiswa) .\n"
     ]
    }
   ],
   "source": [
    "# indonesian\n",
    "process_en_vi('I am a student', 'id')"
   ]
  },
  {
   "cell_type": "code",
   "execution_count": 11,
   "metadata": {
    "ExecuteTime": {
     "end_time": "2019-07-17T00:24:46.005579Z",
     "start_time": "2019-07-17T00:24:43.744081Z"
    }
   },
   "outputs": [
    {
     "name": "stdout",
     "output_type": "stream",
     "text": [
      "✁ I am a student(أنا طالب )\n",
      "I(أنا) am(صباحا) a(ا) student(طالب علم) .\n"
     ]
    }
   ],
   "source": [
    "process_en_vi('I am a student', 'ar')"
   ]
  },
  {
   "cell_type": "code",
   "execution_count": 12,
   "metadata": {
    "ExecuteTime": {
     "end_time": "2019-07-17T00:24:53.110932Z",
     "start_time": "2019-07-17T00:24:50.883029Z"
    }
   },
   "outputs": [
    {
     "name": "stdout",
     "output_type": "stream",
     "text": [
      "✁ I am a student(ben bir öğrenciyim )\n",
      "I(ben) am(ben) a(bir) student(Öğrenci) .\n"
     ]
    }
   ],
   "source": [
    "# turkish\n",
    "process_en_vi('I am a student', 'tr')"
   ]
  },
  {
   "cell_type": "code",
   "execution_count": 13,
   "metadata": {
    "ExecuteTime": {
     "end_time": "2019-07-17T00:25:08.741619Z",
     "start_time": "2019-07-17T00:25:06.589043Z"
    }
   },
   "outputs": [
    {
     "name": "stdout",
     "output_type": "stream",
     "text": [
      "✁ I am a student(ฉันเป็นนักเรียน )\n",
      "I(ผม) am(am) a() student(นักเรียน) .\n"
     ]
    }
   ],
   "source": [
    "process_en_vi('I am a student', 'th')"
   ]
  },
  {
   "cell_type": "code",
   "execution_count": 14,
   "metadata": {
    "ExecuteTime": {
     "end_time": "2019-07-17T00:25:15.813826Z",
     "start_time": "2019-07-17T00:25:13.631993Z"
    }
   },
   "outputs": [
    {
     "name": "stdout",
     "output_type": "stream",
     "text": [
      "✁ I have two refrigerators(ฉันมีตู้เย็นสองตู้ ❣ C̄hạn mī tū̂ yĕn s̄xng tū̂)\n",
      "I(ผม, P̄hm) have(มี, Mī) two(สอง, S̄xng) refrigerators(ตู้เย็น, Tū̂ yĕn) .\n"
     ]
    }
   ],
   "source": [
    "def marks_th(t):\n",
    "    if len(t)>0:\n",
    "        return ','+t[0][1:]\n",
    "    return ''\n",
    "def process_en_th(text, target='th'):\n",
    "    source='en'    \n",
    "    options=set(['get_pronounce'])\n",
    "    res,t = translate(text, source=source, target=target,\n",
    "                      trans_verbose=False, options=options)\n",
    "    print('✁', '%s(%s %s)'%(text, res, ''.join(t.pronounce)))\n",
    "    for sent in text.split(' '):\n",
    "        res,t = translate(sent, source=source, target=target,\n",
    "                          trans_verbose=False, options=options)\n",
    "        print('%s(%s%s)'%(sent,res,marks_th(t.pronounce)), end =\" \")\n",
    "        time.sleep(0.05)\n",
    "    print('.')\n",
    "process_en_th('I have two refrigerators')"
   ]
  },
  {
   "cell_type": "code",
   "execution_count": 15,
   "metadata": {
    "ExecuteTime": {
     "end_time": "2019-07-17T00:25:22.350420Z",
     "start_time": "2019-07-17T00:25:20.120863Z"
    }
   },
   "outputs": [
    {
     "name": "stdout",
     "output_type": "stream",
     "text": [
      "✁ I have two refrigerators(لدي اثنين من الثلاجات ❣ ladaya athnyn min althalajat)\n",
      "I(أنا, 'ana) have(يملك, yamlik) two(اثنان, athnan) refrigerators(ثلاجات, thalajat) .\n"
     ]
    }
   ],
   "source": [
    "process_en_th('I have two refrigerators', 'ar')"
   ]
  },
  {
   "cell_type": "code",
   "execution_count": 33,
   "metadata": {
    "ExecuteTime": {
     "end_time": "2019-07-15T06:47:23.272423Z",
     "start_time": "2019-07-15T06:47:18.857802Z"
    }
   },
   "outputs": [
    {
     "name": "stdout",
     "output_type": "stream",
     "text": [
      "✁ We are going to the park to play(نحن ذاهبون إلى الحديقة للعب ❣ nahn dhahbwn 'iilaa alhadiqat lilaeb)\n",
      "We(نحن, nahn) are(هي, hi) going(ذاهب, dhahib) to(إلى, 'iilaa) the(ال, al) park(منتزه, muntazah) to(إلى, 'iilaa) play(لعب, laeib) .\n"
     ]
    }
   ],
   "source": [
    "process_en_th('We are going to the park to play', 'ar')"
   ]
  },
  {
   "cell_type": "code",
   "execution_count": 32,
   "metadata": {
    "ExecuteTime": {
     "end_time": "2019-07-13T21:31:17.848932Z",
     "start_time": "2019-07-13T21:31:15.224531Z"
    }
   },
   "outputs": [
    {
     "name": "stdout",
     "output_type": "stream",
     "text": [
      "✁ I have two refrigerators(יש לי שני מקררים )\n",
      "I(אני) have(יש) two(שתיים) refrigerators(מקררים) .\n"
     ]
    }
   ],
   "source": [
    "# hebrew\n",
    "process_en_vi('I have two refrigerators', 'iw')"
   ]
  },
  {
   "cell_type": "code",
   "execution_count": 26,
   "metadata": {
    "ExecuteTime": {
     "end_time": "2019-07-13T09:07:44.265729Z",
     "start_time": "2019-07-13T09:07:41.918631Z"
    }
   },
   "outputs": [
    {
     "name": "stdout",
     "output_type": "stream",
     "text": [
      "✁ I have two refrigerators(मेरे पास दो रेफ्रिजरेटर हैं ❣ mere paas do rephrijaretar hain)\n",
      "I(मैं, main) have(है, hai) two(दो, do) refrigerators(रेफ्रिजरेटर, rephrijaretar) .\n"
     ]
    }
   ],
   "source": [
    "process_en_th('I have two refrigerators', 'hi')"
   ]
  },
  {
   "cell_type": "code",
   "execution_count": null,
   "metadata": {
    "ExecuteTime": {
     "start_time": "2019-07-17T00:21:33.424Z"
    }
   },
   "outputs": [],
   "source": [
    "process_en_th('I am a student', 'hi')"
   ]
  },
  {
   "cell_type": "code",
   "execution_count": 29,
   "metadata": {
    "ExecuteTime": {
     "end_time": "2019-07-13T09:15:22.490141Z",
     "start_time": "2019-07-13T09:15:19.595801Z"
    }
   },
   "outputs": [
    {
     "name": "stdout",
     "output_type": "stream",
     "text": [
      "✁ I am a student(είμαι μαθητής ❣ eímai mathitís)\n",
      "I(Εγώ, Egó) am(είμαι, eímai) a(ένα, éna) student(μαθητης σχολειου, mathitis scholeiou) .\n"
     ]
    }
   ],
   "source": [
    "# greek language\n",
    "process_en_th('I am a student', 'el')"
   ]
  },
  {
   "cell_type": "code",
   "execution_count": 30,
   "metadata": {
    "ExecuteTime": {
     "end_time": "2019-07-13T09:16:05.465225Z",
     "start_time": "2019-07-13T09:16:02.864305Z"
    }
   },
   "outputs": [
    {
     "name": "stdout",
     "output_type": "stream",
     "text": [
      "✁ I have two refrigerators(Έχω δύο ψυγεία ❣ Écho dýo psygeía)\n",
      "I(Εγώ, Egó) have(έχω, écho) two(δύο, dýo) refrigerators(ψυγεία, psygeía) .\n"
     ]
    }
   ],
   "source": [
    "process_en_th('I have two refrigerators', 'el')"
   ]
  },
  {
   "cell_type": "code",
   "execution_count": 16,
   "metadata": {
    "ExecuteTime": {
     "end_time": "2019-07-17T00:25:45.562033Z",
     "start_time": "2019-07-17T00:25:43.197716Z"
    }
   },
   "outputs": [
    {
     "name": "stdout",
     "output_type": "stream",
     "text": [
      "✁ I have two refrigerators(나는 냉장고가 두 개있다. ❣ naneun naengjang-goga du gaeissda.)\n",
      "I(나는, naneun) have(있다, issda) two(두, du) refrigerators(냉장고, naengjang-go) .\n"
     ]
    }
   ],
   "source": [
    "process_en_th('I have two refrigerators', 'ko')"
   ]
  }
 ],
 "metadata": {
  "kernelspec": {
   "display_name": "Python 3",
   "language": "python",
   "name": "python3"
  },
  "language_info": {
   "codemirror_mode": {
    "name": "ipython",
    "version": 3
   },
   "file_extension": ".py",
   "mimetype": "text/x-python",
   "name": "python",
   "nbconvert_exporter": "python",
   "pygments_lexer": "ipython3",
   "version": "3.6.4"
  },
  "varInspector": {
   "cols": {
    "lenName": 16,
    "lenType": 16,
    "lenVar": 40
   },
   "kernels_config": {
    "python": {
     "delete_cmd_postfix": "",
     "delete_cmd_prefix": "del ",
     "library": "var_list.py",
     "varRefreshCmd": "print(var_dic_list())"
    },
    "r": {
     "delete_cmd_postfix": ") ",
     "delete_cmd_prefix": "rm(",
     "library": "var_list.r",
     "varRefreshCmd": "cat(var_dic_list()) "
    }
   },
   "types_to_exclude": [
    "module",
    "function",
    "builtin_function_or_method",
    "instance",
    "_Feature"
   ],
   "window_display": false
  }
 },
 "nbformat": 4,
 "nbformat_minor": 2
}
