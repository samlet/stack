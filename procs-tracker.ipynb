{
 "cells": [
  {
   "cell_type": "code",
   "execution_count": 1,
   "metadata": {
    "ExecuteTime": {
     "end_time": "2019-10-13T01:39:41.994788Z",
     "start_time": "2019-10-13T01:39:41.955945Z"
    }
   },
   "outputs": [],
   "source": [
    "%load_ext autoreload\n",
    "%autoreload 2"
   ]
  },
  {
   "cell_type": "code",
   "execution_count": 2,
   "metadata": {
    "ExecuteTime": {
     "end_time": "2019-10-12T21:39:47.550179Z",
     "start_time": "2019-10-12T21:39:46.931037Z"
    }
   },
   "outputs": [
    {
     "name": "stdout",
     "output_type": "stream",
     "text": [
      "hello world\n",
      "\u001b[31mjust red\u001b[0m\n"
     ]
    }
   ],
   "source": [
    "import abc\n",
    "class TrackerIntf(abc.ABC):\n",
    "    @abc.abstractmethod\n",
    "    def info(self, *args, sep=' ', end='\\n', file=None):\n",
    "        pass\n",
    "    @abc.abstractmethod\n",
    "    def emphasis(self, color, *args):\n",
    "        pass\n",
    "    @abc.abstractmethod\n",
    "    def dfs(self, *args):\n",
    "        pass\n",
    "    @abc.abstractmethod\n",
    "    def gv(self, dot):\n",
    "        pass\n",
    "\n",
    "class DefaultImpl(TrackerIntf):    \n",
    "    def info(self, *args, sep=' ', end='\\n', file=None):\n",
    "        print(*args, sep=sep, end=end, file=file)\n",
    "    def emphasis(self, color, *args):\n",
    "        from sagas.tool.misc import color_print\n",
    "        color_print(color, ' '.join(args))\n",
    "    def dfs(self, *args):\n",
    "        for arg in args:\n",
    "            print(arg)    \n",
    "    def gv(self, dot):\n",
    "        from sagas.nlu.nlu_cli import scribes\n",
    "        print(scribes(dot))\n",
    "        \n",
    "class Runtime(object):\n",
    "    def __init__(self):\n",
    "        self.tracker=DefaultImpl()\n",
    "\n",
    "runtime=Runtime()\n",
    "\n",
    "info=lambda *args: runtime.tracker.info(*args)\n",
    "emp=lambda c, *args: runtime.tracker.emphasis(c, *args)\n",
    "info('hello', 'world')\n",
    "emp('red', 'just', 'red')"
   ]
  },
  {
   "cell_type": "code",
   "execution_count": 5,
   "metadata": {
    "ExecuteTime": {
     "end_time": "2019-10-12T22:24:31.274044Z",
     "start_time": "2019-10-12T22:24:31.215369Z"
    }
   },
   "outputs": [],
   "source": [
    "class JupyterImpl(TrackerIntf):    \n",
    "    def info(self, *args, sep=' ', end='\\n', file=None):\n",
    "        print(*args, sep=sep, end=end, file=file)\n",
    "    def emphasis(self, color, *args):\n",
    "        from sagas.tool.misc import color_print\n",
    "        color_print(color, ' '.join(args))\n",
    "    def dfs(self, *args):\n",
    "        for arg in args:\n",
    "            display(arg)    \n",
    "    def gv(self, dot):\n",
    "        display(dot)\n",
    "\n",
    "jupyter_inst=JupyterImpl()\n",
    "def enable_jupyter_tracker():\n",
    "    runtime.tracker=jupyter_inst\n",
    "\n",
    "enable_jupyter_tracker()"
   ]
  },
  {
   "cell_type": "code",
   "execution_count": 3,
   "metadata": {
    "ExecuteTime": {
     "end_time": "2019-10-13T01:40:00.182779Z",
     "start_time": "2019-10-13T01:39:59.302090Z"
    }
   },
   "outputs": [
    {
     "name": "stdout",
     "output_type": "stream",
     "text": [
      "Tuolla ylhäällä asuu vanha nainen.\n",
      ".. request is {'lang': 'fi', 'sents': 'Tuolla ylhäällä asuu vanha nainen.', 'engine': 'corenlp', 'pipelines': ['predicts']}\n",
      "words count 6\n",
      "\u001b[36m✁ chunks. -------------------------\u001b[0m\n",
      "❶ verb_domains(asua) _\n"
     ]
    },
    {
     "data": {
      "text/html": [
       "<div>\n",
       "<style scoped>\n",
       "    .dataframe tbody tr th:only-of-type {\n",
       "        vertical-align: middle;\n",
       "    }\n",
       "\n",
       "    .dataframe tbody tr th {\n",
       "        vertical-align: top;\n",
       "    }\n",
       "\n",
       "    .dataframe thead th {\n",
       "        text-align: right;\n",
       "    }\n",
       "</style>\n",
       "<table border=\"1\" class=\"dataframe\">\n",
       "  <thead>\n",
       "    <tr style=\"text-align: right;\">\n",
       "      <th></th>\n",
       "      <th>rel</th>\n",
       "      <th>index</th>\n",
       "      <th>text</th>\n",
       "      <th>lemma</th>\n",
       "      <th>children</th>\n",
       "      <th>features</th>\n",
       "    </tr>\n",
       "  </thead>\n",
       "  <tbody>\n",
       "    <tr>\n",
       "      <th>0</th>\n",
       "      <td>advmod</td>\n",
       "      <td>2</td>\n",
       "      <td>ylhäällä</td>\n",
       "      <td>ylhäällä</td>\n",
       "      <td>[Tuolla, ylhäällä]</td>\n",
       "      <td>[c_adv, x_adv]</td>\n",
       "    </tr>\n",
       "    <tr>\n",
       "      <th>1</th>\n",
       "      <td>nsubj</td>\n",
       "      <td>5</td>\n",
       "      <td>nainen</td>\n",
       "      <td>nainen</td>\n",
       "      <td>[vanha, nainen, .]</td>\n",
       "      <td>[c_noun, x_n,sg,nom]</td>\n",
       "    </tr>\n",
       "  </tbody>\n",
       "</table>\n",
       "</div>"
      ],
      "text/plain": [
       "      rel index      text     lemma            children              features\n",
       "0  advmod     2  ylhäällä  ylhäällä  [Tuolla, ylhäällä]        [c_adv, x_adv]\n",
       "1   nsubj     5    nainen    nainen  [vanha, nainen, .]  [c_noun, x_n,sg,nom]"
      ]
     },
     "metadata": {},
     "output_type": "display_data"
    },
    {
     "name": "stdout",
     "output_type": "stream",
     "text": [
      "\u001b[32madvmod ->\u001b[0m tuolla ylhäällä\n",
      "\u001b[32mnsubj ->\u001b[0m vanha nainen .\n",
      "\u001b[35m♥ asuu/asua(verb_domains): occupy.v.02, populate.v.0...\u001b[0m\n",
      "\u001b[35m[verb_domains](asuu) lives\u001b[0m\n",
      "\u001b[36m\t[advmod](Tuolla ylhäällä) up there\u001b[0m\n",
      "\u001b[36m\t[nsubj](vanha nainen .) old woman .\u001b[0m\n",
      "Up there lives an old woman.\n",
      "0 -  Tuolla (There)\n",
      "1 -  ylhäällä (up)\n",
      "2 -  asuu (lives)\n",
      "3 -  vanha (old)\n",
      "4 -  nainen. (woman.)\n",
      "\u001b[36m(There) (up) (lives) (old) (woman.)\u001b[0m\n"
     ]
    }
   ],
   "source": [
    "from sagas.tracker_jupyter import enable_jupyter_tracker\n",
    "from sagas.nlu.nlu_tools import NluTools\n",
    "enable_jupyter_tracker()\n",
    "tools=NluTools()\n",
    "tools.clip_parse('fi', 'Tuolla ylhäällä asuu vanha nainen.')"
   ]
  },
  {
   "cell_type": "code",
   "execution_count": 2,
   "metadata": {
    "ExecuteTime": {
     "end_time": "2019-10-13T01:27:16.408334Z",
     "start_time": "2019-10-13T01:27:15.678821Z"
    }
   },
   "outputs": [
    {
     "name": "stdout",
     "output_type": "stream",
     "text": [
      "Die Aufnahmen begannen im November.\n",
      ".. request is {'lang': 'de', 'sents': 'Die Aufnahmen begannen im November.', 'engine': 'corenlp', 'pipelines': ['predicts']}\n",
      "words count 7\n",
      "\u001b[36m✁ chunks. -------------------------\u001b[0m\n",
      "❶ verb_domains(beginnen) _\n"
     ]
    },
    {
     "data": {
      "text/html": [
       "<div>\n",
       "<style scoped>\n",
       "    .dataframe tbody tr th:only-of-type {\n",
       "        vertical-align: middle;\n",
       "    }\n",
       "\n",
       "    .dataframe tbody tr th {\n",
       "        vertical-align: top;\n",
       "    }\n",
       "\n",
       "    .dataframe thead th {\n",
       "        text-align: right;\n",
       "    }\n",
       "</style>\n",
       "<table border=\"1\" class=\"dataframe\">\n",
       "  <thead>\n",
       "    <tr style=\"text-align: right;\">\n",
       "      <th></th>\n",
       "      <th>rel</th>\n",
       "      <th>index</th>\n",
       "      <th>text</th>\n",
       "      <th>lemma</th>\n",
       "      <th>children</th>\n",
       "      <th>features</th>\n",
       "    </tr>\n",
       "  </thead>\n",
       "  <tbody>\n",
       "    <tr>\n",
       "      <th>0</th>\n",
       "      <td>nsubj</td>\n",
       "      <td>2</td>\n",
       "      <td>Aufnahmen</td>\n",
       "      <td>Aufnahme</td>\n",
       "      <td>[Die, Aufnahmen]</td>\n",
       "      <td>[c_noun, x_nn]</td>\n",
       "    </tr>\n",
       "    <tr>\n",
       "      <th>1</th>\n",
       "      <td>obl</td>\n",
       "      <td>6</td>\n",
       "      <td>November</td>\n",
       "      <td>November</td>\n",
       "      <td>[in, dem, November]</td>\n",
       "      <td>[c_propn, x_nn]</td>\n",
       "    </tr>\n",
       "    <tr>\n",
       "      <th>2</th>\n",
       "      <td>punct</td>\n",
       "      <td>7</td>\n",
       "      <td>.</td>\n",
       "      <td>.</td>\n",
       "      <td>[.]</td>\n",
       "      <td>[c_punct, x_$.]</td>\n",
       "    </tr>\n",
       "  </tbody>\n",
       "</table>\n",
       "</div>"
      ],
      "text/plain": [
       "     rel index       text     lemma             children         features\n",
       "0  nsubj     2  Aufnahmen  Aufnahme     [Die, Aufnahmen]   [c_noun, x_nn]\n",
       "1    obl     6   November  November  [in, dem, November]  [c_propn, x_nn]\n",
       "2  punct     7          .         .                  [.]  [c_punct, x_$.]"
      ]
     },
     "metadata": {},
     "output_type": "display_data"
    },
    {
     "name": "stdout",
     "output_type": "stream",
     "text": [
      "\u001b[32mnsubj ->\u001b[0m der Aufnahme\n",
      "\u001b[32mobl ->\u001b[0m in der November\n",
      "\u001b[35m♥ begannen/beginnen(verb_domains): get_down.v.07, begin.v.03...\u001b[0m\n",
      "\u001b[35m♥ November(obl): november.n.01...\u001b[0m\n",
      "\u001b[35m[verb_domains](begannen) started\u001b[0m\n",
      "\u001b[36m\t[nsubj](Die Aufnahmen) the recordings\u001b[0m\n",
      "\u001b[36m\t[obl](in dem November) in November\u001b[0m\n",
      "The recordings began in November.\n",
      "0 -  Die (The)\n",
      "1 -  Aufnahmen (Recordings)\n",
      "2 -  begannen (started)\n",
      "3 -  im (in the)\n",
      "4 -  November. (November.)\n",
      "\u001b[36m(The) (Recordings) (started) (in the) (November.)\u001b[0m\n"
     ]
    }
   ],
   "source": [
    "enable_jupyter_tracker()\n",
    "tools.clip_parse('de', 'Die Aufnahmen begannen im November.')"
   ]
  },
  {
   "cell_type": "code",
   "execution_count": 1,
   "metadata": {
    "ExecuteTime": {
     "end_time": "2019-10-13T02:00:36.344121Z",
     "start_time": "2019-10-13T02:00:35.212288Z"
    }
   },
   "outputs": [
    {
     "name": "stdout",
     "output_type": "stream",
     "text": [
      "❶ [verb] begannen/beginnen, pos: verb/vvfin, idx: 3 (root, 0)\n",
      "\u001b[34m✔ verb with nsubj is ['c_pron', 'c_noun', 'c_propn']: True, obl is ['c_pron', 'c_noun', 'c_propn']: True\u001b[0m\n",
      "\u001b[34m✔ verb with nsubj is ['c_pron', 'c_noun', 'c_propn']: True\u001b[0m\n",
      "\u001b[31m✔ verb with nsubj is ['c_pron', 'c_noun', 'c_propn']: True, obl is Inspector('ins_date'): True\u001b[0m\n",
      "\u001b[34m✔ verb with nsubj is kind_of(activity,n): True\u001b[0m\n",
      ".. results\n",
      "['ins_date/duckling/obl', 'ins_date/duckling/obl']\n",
      "\u001b[36m{('ins_date', 'duckling', 'obl'): 'November = month 2019-11-01 00:00:00-07:00\\n'}\u001b[0m\n",
      "\u001b[35m[verb_domains](begannen) started\u001b[0m\n",
      "\u001b[36m\t[nsubj](Die Aufnahmen) the recordings\u001b[0m\n",
      "\u001b[36m\t[obl](in dem November) in November\u001b[0m\n"
     ]
    },
    {
     "data": {
      "text/html": [
       "<div>\n",
       "<style scoped>\n",
       "    .dataframe tbody tr th:only-of-type {\n",
       "        vertical-align: middle;\n",
       "    }\n",
       "\n",
       "    .dataframe tbody tr th {\n",
       "        vertical-align: top;\n",
       "    }\n",
       "\n",
       "    .dataframe thead th {\n",
       "        text-align: right;\n",
       "    }\n",
       "</style>\n",
       "<table border=\"1\" class=\"dataframe\">\n",
       "  <thead>\n",
       "    <tr style=\"text-align: right;\">\n",
       "      <th></th>\n",
       "      <th>rel</th>\n",
       "      <th>index</th>\n",
       "      <th>text</th>\n",
       "      <th>lemma</th>\n",
       "      <th>children</th>\n",
       "      <th>features</th>\n",
       "    </tr>\n",
       "  </thead>\n",
       "  <tbody>\n",
       "    <tr>\n",
       "      <th>0</th>\n",
       "      <td>nsubj</td>\n",
       "      <td>2</td>\n",
       "      <td>Aufnahmen</td>\n",
       "      <td>Aufnahme</td>\n",
       "      <td>Die, Aufnahmen..</td>\n",
       "      <td>c_noun, x_nn..</td>\n",
       "    </tr>\n",
       "    <tr>\n",
       "      <th>1</th>\n",
       "      <td>obl</td>\n",
       "      <td>6</td>\n",
       "      <td>November</td>\n",
       "      <td>November</td>\n",
       "      <td>in, dem, Novemb..</td>\n",
       "      <td>c_propn, x_nn..</td>\n",
       "    </tr>\n",
       "    <tr>\n",
       "      <th>2</th>\n",
       "      <td>punct</td>\n",
       "      <td>7</td>\n",
       "      <td>.</td>\n",
       "      <td>.</td>\n",
       "      <td>...</td>\n",
       "      <td>c_punct, x_$...</td>\n",
       "    </tr>\n",
       "  </tbody>\n",
       "</table>\n",
       "</div>"
      ],
      "text/plain": [
       "     rel index       text     lemma           children         features\n",
       "0  nsubj     2  Aufnahmen  Aufnahme   Die, Aufnahmen..   c_noun, x_nn..\n",
       "1    obl     6   November  November  in, dem, Novemb..  c_propn, x_nn..\n",
       "2  punct     7          .         .                ...  c_punct, x_$..."
      ]
     },
     "metadata": {},
     "output_type": "display_data"
    },
    {
     "name": "stdout",
     "output_type": "stream",
     "text": [
      "\u001b[32mnsubj ->\u001b[0m der Aufnahme\n",
      "\u001b[32mobl ->\u001b[0m in der November\n",
      "\u001b[35m♥ begannen/beginnen([verb]): get_down.v.07, begin.v.03...\u001b[0m\n",
      "\u001b[35m♥ November(obl): november.n.01...\u001b[0m\n"
     ]
    }
   ],
   "source": [
    "from sagas.tracker_jupyter import enable_jupyter_tracker\n",
    "from sagas.tool.misc import get_verb_domains\n",
    "enable_jupyter_tracker()\n",
    "data = {'lang': 'de', \"sents\": 'Die Aufnahmen begannen im November.', 'engine':'corenlp'}\n",
    "_=get_verb_domains(data)"
   ]
  }
 ],
 "metadata": {
  "kernelspec": {
   "display_name": "Python 3",
   "language": "python",
   "name": "python3"
  },
  "language_info": {
   "codemirror_mode": {
    "name": "ipython",
    "version": 3
   },
   "file_extension": ".py",
   "mimetype": "text/x-python",
   "name": "python",
   "nbconvert_exporter": "python",
   "pygments_lexer": "ipython3",
   "version": "3.6.4"
  },
  "varInspector": {
   "cols": {
    "lenName": 16,
    "lenType": 16,
    "lenVar": 40
   },
   "kernels_config": {
    "python": {
     "delete_cmd_postfix": "",
     "delete_cmd_prefix": "del ",
     "library": "var_list.py",
     "varRefreshCmd": "print(var_dic_list())"
    },
    "r": {
     "delete_cmd_postfix": ") ",
     "delete_cmd_prefix": "rm(",
     "library": "var_list.r",
     "varRefreshCmd": "cat(var_dic_list()) "
    }
   },
   "types_to_exclude": [
    "module",
    "function",
    "builtin_function_or_method",
    "instance",
    "_Feature"
   ],
   "window_display": false
  }
 },
 "nbformat": 4,
 "nbformat_minor": 2
}
