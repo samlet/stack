{
 "cells": [
  {
   "cell_type": "code",
   "execution_count": 29,
   "metadata": {
    "ExecuteTime": {
     "end_time": "2019-01-23T18:44:37.286267Z",
     "start_time": "2019-01-23T18:44:37.153170Z"
    }
   },
   "outputs": [],
   "source": [
    "import json\n",
    "import graphene\n",
    "from sagas.ofbiz.schema_testing_g import *\n",
    "from sagas.ofbiz.connector import OfbizConnector\n",
    "from sagas.ofbiz.finder import Finder\n",
    "from sagas.ofbiz.util import QueryHelper\n",
    "from py4j.java_gateway import java_import\n",
    "\n",
    "oc=OfbizConnector()\n",
    "finder=Finder(oc)\n",
    "helper=QueryHelper(oc, finder)\n",
    "\n",
    "java_import(oc.j, 'org.apache.ofbiz.entity.util.*')\n",
    "\n",
    "class Query(graphene.ObjectType):\n",
    "    movies = graphene.List(lambda: SaMovie, limit=graphene.Int(),\n",
    "        offset=graphene.Int())\n",
    "    movie_genres = graphene.List(lambda: SaMovieGenres)\n",
    "\n",
    "    def resolve_movies(self, info, limit=None, offset=None, **kwargs):\n",
    "        entity_name = \"SaMovie\"\n",
    "        # recs = oc.all(entity_name)\n",
    "        # print(\"total record\", len(recs))\n",
    "        findOptions = oc.j.EntityFindOptions()\n",
    "        if limit is None:\n",
    "            limit=5\n",
    "        if offset is None:\n",
    "            offset=0\n",
    "        \n",
    "        # print(limit, offset)\n",
    "        findOptions.setLimit(limit)\n",
    "        findOptions.setOffset(offset)\n",
    "        recs=oc.delegator.findList(\"SaMovie\", None, None, None, findOptions, False)\n",
    "\n",
    "        ent = oc.delegator.getModelEntity(entity_name)\n",
    "        result = helper.fill_records(ent, SaMovie, recs)\n",
    "        return result\n",
    "\n",
    "    def resolve_movie_genres(self, info):\n",
    "        entity_name = \"SaMovieGenres\"\n",
    "        recs = oc.all(entity_name)\n",
    "        ent = oc.delegator.getModelEntity(entity_name)\n",
    "        result = helper.fill_records(ent, SaMovieGenres, recs)\n",
    "        return result\n",
    "\n",
    "\n",
    "schema = graphene.Schema(query=Query)"
   ]
  },
  {
   "cell_type": "code",
   "execution_count": 30,
   "metadata": {
    "ExecuteTime": {
     "end_time": "2019-01-23T18:44:40.862436Z",
     "start_time": "2019-01-23T18:44:40.646313Z"
    }
   },
   "outputs": [
    {
     "name": "stdout",
     "output_type": "stream",
     "text": [
      "{\n",
      "  \"movies\": [\n",
      "    {\n",
      "      \"title\": \"Batman v Superman: Dawn of Justice\",\n",
      "      \"saMovieGenresAppl\": [\n",
      "        {\n",
      "          \"movieGenresId\": \"12\"\n",
      "        },\n",
      "        {\n",
      "          \"movieGenresId\": \"14\"\n",
      "        },\n",
      "        {\n",
      "          \"movieGenresId\": \"28\"\n",
      "        }\n",
      "      ]\n",
      "    },\n",
      "    {\n",
      "      \"title\": \"Deadpool\",\n",
      "      \"saMovieGenresAppl\": [\n",
      "        {\n",
      "          \"movieGenresId\": \"12\"\n",
      "        },\n",
      "        {\n",
      "          \"movieGenresId\": \"28\"\n",
      "        },\n",
      "        {\n",
      "          \"movieGenresId\": \"35\"\n",
      "        }\n",
      "      ]\n",
      "    },\n",
      "    {\n",
      "      \"title\": \"Doctor Strange\",\n",
      "      \"saMovieGenresAppl\": [\n",
      "        {\n",
      "          \"movieGenresId\": \"12\"\n",
      "        },\n",
      "        {\n",
      "          \"movieGenresId\": \"14\"\n",
      "        },\n",
      "        {\n",
      "          \"movieGenresId\": \"28\"\n",
      "        },\n",
      "        {\n",
      "          \"movieGenresId\": \"878\"\n",
      "        }\n",
      "      ]\n",
      "    }\n",
      "  ]\n",
      "}\n"
     ]
    }
   ],
   "source": [
    "q1 = '''\n",
    "{\n",
    "  movies (limit:3, offset:2) {\n",
    "    title\n",
    "    saMovieGenresAppl{\n",
    "        movieGenresId\n",
    "    }\n",
    "  }\n",
    "}\n",
    "'''.strip()\n",
    "q2 = '''\n",
    "{\n",
    "  movies {\n",
    "    title\n",
    "    saMovieGenresAppl{\n",
    "        movieGenresId\n",
    "    }\n",
    "  }\n",
    "}\n",
    "'''.strip()\n",
    "\n",
    "result = schema.execute(q1)\n",
    "print(json.dumps(result.data, indent=2, ensure_ascii=False))"
   ]
  },
  {
   "cell_type": "code",
   "execution_count": 11,
   "metadata": {
    "ExecuteTime": {
     "end_time": "2019-01-23T18:22:30.957948Z",
     "start_time": "2019-01-23T18:22:30.867391Z"
    }
   },
   "outputs": [
    {
     "data": {
      "text/plain": [
       "(True,\n",
       " [{'overview': 'Deadpool tells the origin story of former Special Forces operative turned mercenary Wade Wilson, who after being subjected to a rogue experiment that leaves him with accelerated healing powers, adopts the alter ego Deadpool. Armed with his new abilit..', 'lastUpdatedStamp': JavaObject id=o3338, 'releaseDate': JavaObject id=o3339, 'createdTxStamp': JavaObject id=o3340, 'createdStamp': JavaObject id=o3341, 'lastUpdatedTxStamp': JavaObject id=o3342, 'movieId': '293660', 'video': 'N', 'title': 'Deadpool', 'originalLanguage': None, 'originalTitle': None, 'popularity': 36.61, 'voteCount': 18642, 'backdropPath': None, 'posterPath': '/inVq3FRqcYIRl2la8iZikYYxFNR.jpg'}])"
      ]
     },
     "execution_count": 11,
     "metadata": {},
     "output_type": "execute_result"
    }
   ],
   "source": [
    "inputs=oc.jmap(title=\"Deadpool\")\n",
    "finder.find(\"SaMovie\", inputs)"
   ]
  },
  {
   "cell_type": "code",
   "execution_count": 15,
   "metadata": {
    "ExecuteTime": {
     "end_time": "2019-01-23T18:33:01.005796Z",
     "start_time": "2019-01-23T18:33:00.979224Z"
    }
   },
   "outputs": [
    {
     "name": "stdout",
     "output_type": "stream",
     "text": [
      "209112 Batman v Superman: Dawn of Justice\n",
      "293660 Deadpool\n"
     ]
    }
   ],
   "source": [
    "from py4j.java_gateway import java_import\n",
    "java_import(oc.j, 'org.apache.ofbiz.entity.util.*')\n",
    "findOptions = oc.j.EntityFindOptions()\n",
    "findOptions.setLimit(2)\n",
    "findOptions.setOffset(2)\n",
    "rows=oc.delegator.findList(\"SaMovie\", None, None, None, findOptions, False)\n",
    "for row in rows:\n",
    "    print(row.get(\"movieId\"), row.get(\"title\"))"
   ]
  },
  {
   "cell_type": "code",
   "execution_count": 17,
   "metadata": {
    "ExecuteTime": {
     "end_time": "2019-01-23T18:34:00.460144Z",
     "start_time": "2019-01-23T18:34:00.423825Z"
    }
   },
   "outputs": [
    {
     "name": "stdout",
     "output_type": "stream",
     "text": [
      "293660 Deadpool\n",
      "284052 Doctor Strange\n"
     ]
    }
   ],
   "source": [
    "findOptions = oc.j.EntityFindOptions()\n",
    "findOptions.setLimit(2)\n",
    "findOptions.setOffset(3)\n",
    "rows=oc.delegator.findList(\"SaMovie\", None, None, None, findOptions, False)\n",
    "for row in rows:\n",
    "    print(row.get(\"movieId\"), row.get(\"title\"))"
   ]
  }
 ],
 "metadata": {
  "kernelspec": {
   "display_name": "Python 3",
   "language": "python",
   "name": "python3"
  },
  "language_info": {
   "codemirror_mode": {
    "name": "ipython",
    "version": 3
   },
   "file_extension": ".py",
   "mimetype": "text/x-python",
   "name": "python",
   "nbconvert_exporter": "python",
   "pygments_lexer": "ipython3",
   "version": "3.6.4"
  },
  "varInspector": {
   "cols": {
    "lenName": 16,
    "lenType": 16,
    "lenVar": 40
   },
   "kernels_config": {
    "python": {
     "delete_cmd_postfix": "",
     "delete_cmd_prefix": "del ",
     "library": "var_list.py",
     "varRefreshCmd": "print(var_dic_list())"
    },
    "r": {
     "delete_cmd_postfix": ") ",
     "delete_cmd_prefix": "rm(",
     "library": "var_list.r",
     "varRefreshCmd": "cat(var_dic_list()) "
    }
   },
   "types_to_exclude": [
    "module",
    "function",
    "builtin_function_or_method",
    "instance",
    "_Feature"
   ],
   "window_display": false
  }
 },
 "nbformat": 4,
 "nbformat_minor": 2
}
