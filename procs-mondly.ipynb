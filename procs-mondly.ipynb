{
 "cells": [
  {
   "cell_type": "code",
   "execution_count": 2,
   "metadata": {
    "ExecuteTime": {
     "end_time": "2019-09-22T08:56:08.849613Z",
     "start_time": "2019-09-22T08:56:08.809416Z"
    }
   },
   "outputs": [],
   "source": [
    "%load_ext autoreload"
   ]
  },
  {
   "cell_type": "code",
   "execution_count": 3,
   "metadata": {
    "ExecuteTime": {
     "end_time": "2019-09-22T08:56:10.892433Z",
     "start_time": "2019-09-22T08:56:10.887526Z"
    }
   },
   "outputs": [],
   "source": [
    "%autoreload 2"
   ]
  },
  {
   "cell_type": "code",
   "execution_count": 4,
   "metadata": {
    "ExecuteTime": {
     "end_time": "2019-09-22T08:57:52.668908Z",
     "start_time": "2019-09-22T08:56:14.701936Z"
    }
   },
   "outputs": [],
   "source": [
    "from sagas.corpus.mondly_corpus import MondlyCorpus\n",
    "mon=MondlyCorpus()\n",
    "mon.launch_driver()"
   ]
  },
  {
   "cell_type": "code",
   "execution_count": 21,
   "metadata": {
    "ExecuteTime": {
     "end_time": "2019-09-22T09:13:56.849055Z",
     "start_time": "2019-09-22T09:13:56.814624Z"
    }
   },
   "outputs": [],
   "source": [
    "# mon.all_assocs={}"
   ]
  },
  {
   "cell_type": "code",
   "execution_count": 25,
   "metadata": {
    "ExecuteTime": {
     "end_time": "2019-09-22T09:16:05.477658Z",
     "start_time": "2019-09-22T09:16:05.361263Z"
    }
   },
   "outputs": [
    {
     "name": "stdout",
     "output_type": "stream",
     "text": [
      "total sents 18\n",
      "current assocs 9\n",
      "total assocs 23\n",
      "total verbs 36\n"
     ]
    }
   ],
   "source": [
    "mon.extract_assocs()\n",
    "mon.extract_verbs()"
   ]
  },
  {
   "cell_type": "code",
   "execution_count": 26,
   "metadata": {
    "ExecuteTime": {
     "end_time": "2019-09-22T09:18:27.755184Z",
     "start_time": "2019-09-22T09:18:27.543262Z"
    }
   },
   "outputs": [],
   "source": [
    "mon.shutdown()"
   ]
  }
 ],
 "metadata": {
  "kernelspec": {
   "display_name": "Python 3",
   "language": "python",
   "name": "python3"
  },
  "language_info": {
   "codemirror_mode": {
    "name": "ipython",
    "version": 3
   },
   "file_extension": ".py",
   "mimetype": "text/x-python",
   "name": "python",
   "nbconvert_exporter": "python",
   "pygments_lexer": "ipython3",
   "version": "3.6.4"
  },
  "varInspector": {
   "cols": {
    "lenName": 16,
    "lenType": 16,
    "lenVar": 40
   },
   "kernels_config": {
    "python": {
     "delete_cmd_postfix": "",
     "delete_cmd_prefix": "del ",
     "library": "var_list.py",
     "varRefreshCmd": "print(var_dic_list())"
    },
    "r": {
     "delete_cmd_postfix": ") ",
     "delete_cmd_prefix": "rm(",
     "library": "var_list.r",
     "varRefreshCmd": "cat(var_dic_list()) "
    }
   },
   "types_to_exclude": [
    "module",
    "function",
    "builtin_function_or_method",
    "instance",
    "_Feature"
   ],
   "window_display": false
  }
 },
 "nbformat": 4,
 "nbformat_minor": 2
}
