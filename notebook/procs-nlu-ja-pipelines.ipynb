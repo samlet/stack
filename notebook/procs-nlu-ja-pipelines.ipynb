{
 "cells": [
  {
   "cell_type": "code",
   "execution_count": 12,
   "metadata": {
    "ExecuteTime": {
     "end_time": "2019-01-06T17:56:02.575713Z",
     "start_time": "2019-01-06T17:56:02.565768Z"
    }
   },
   "outputs": [
    {
     "data": {
      "text/plain": [
       "<module 'sagas.provider.cabocha_entity_extractor' from '/Users/xiaofeiwu/jcloud/assets/langs/workspace/rasa/stack/sagas/provider/cabocha_entity_extractor.py'>"
      ]
     },
     "execution_count": 12,
     "metadata": {},
     "output_type": "execute_result"
    }
   ],
   "source": [
    "import sagas.provider.cabocha_utils\n",
    "import sagas.provider.cabocha_entity_extractor\n",
    "import imp\n",
    "imp.reload(sagas.provider.cabocha_utils)\n",
    "imp.reload(sagas.provider.cabocha_entity_extractor)"
   ]
  },
  {
   "cell_type": "code",
   "execution_count": 4,
   "metadata": {
    "ExecuteTime": {
     "end_time": "2019-01-06T17:42:58.348684Z",
     "start_time": "2019-01-06T17:42:58.311122Z"
    }
   },
   "outputs": [
    {
     "name": "stderr",
     "output_type": "stream",
     "text": [
      "INFO:sagas.provider.cabocha_utils:Trying to connect cabocha rpc with address 'localhost:50051'\n"
     ]
    }
   ],
   "source": [
    "import logging\n",
    "import os\n",
    "import sys\n",
    "\n",
    "import pytest\n",
    "from rasa_nlu import data_router, config\n",
    "from rasa_nlu.components import ComponentBuilder\n",
    "from rasa_nlu.model import Trainer\n",
    "from rasa_nlu.utils import zip_folder\n",
    "from rasa_nlu import training_data\n",
    "\n",
    "# logging.basicConfig(level=\"DEBUG\")\n",
    "logging.basicConfig(level=\"INFO\")\n",
    "CONFIG_DEFAULTS_PATH = \"sample_configs/config_defaults.yml\"\n",
    "DEFAULT_DATA_PATH = \"data/examples/rasa/demo-rasa.json\"\n",
    "TEST_MODEL_PATH = \"test_models/test_model_spacy_sklearn\"\n",
    "\n",
    "def component_builder():\n",
    "    return ComponentBuilder()\n",
    "def cabocha(component_builder, default_config):\n",
    "    return component_builder.create_component(\"sagas.provider.cabocha_utils.Cabocha\", default_config)\n",
    "\n",
    "def default_config():\n",
    "    return config.load(CONFIG_DEFAULTS_PATH)\n",
    "\n",
    "cabocha=cabocha(component_builder(), default_config())"
   ]
  },
  {
   "cell_type": "code",
   "execution_count": 13,
   "metadata": {
    "ExecuteTime": {
     "end_time": "2019-01-06T17:56:08.518461Z",
     "start_time": "2019-01-06T17:56:08.479809Z"
    },
    "scrolled": true
   },
   "outputs": [
    {
     "name": "stdout",
     "output_type": "stream",
     "text": [
      "太郎 0\n",
      "は 2\n",
      "花子 3\n",
      "が 5\n",
      "読ん 6\n",
      "で 8\n",
      "いる 9\n",
      "本 11\n",
      "を 12\n",
      "次 13\n",
      "郎 14\n",
      "に 15\n",
      "渡し 16\n",
      "た 18\n",
      "total entities 2\n",
      "{'entity': 'person', 'value': '太郎', 'start': 0, 'confidence': None, 'end': 2, 'extractor': 'sagas.provider.cabocha_entity_extractor.CabochaEntityExtractor'}\n",
      "{'entity': 'person', 'value': '花子', 'start': 3, 'confidence': None, 'end': 5, 'extractor': 'sagas.provider.cabocha_entity_extractor.CabochaEntityExtractor'}\n"
     ]
    }
   ],
   "source": [
    "from rasa_nlu.training_data import TrainingData, Message\n",
    "\n",
    "from sagas.provider.cabocha_tokenizer import CabochaTokenizer\n",
    "from sagas.provider.cabocha_entity_extractor import CabochaEntityExtractor\n",
    "\n",
    "def test_cabocha_comps(text, nlp, nlp_doc):\n",
    "    ext = CabochaTokenizer()\n",
    "    \n",
    "    example = Message(text, {\n",
    "        \"intent\": \"wish\",\n",
    "        \"entities\": [],\n",
    "        \"cabocha_doc\": nlp_doc})\n",
    "\n",
    "    ext.process(example, cabocha=nlp)\n",
    "    for token in example.get(\"tokens\"):\n",
    "        print(token.text, token.offset)\n",
    "    \n",
    "    # entity extractor\n",
    "    ext = CabochaEntityExtractor()\n",
    "    ext.process(example, cabocha=nlp)\n",
    "    print(\"total entities\", len(example.get(\"entities\", [])))\n",
    "    for ent in example.get(\"entities\"):\n",
    "        print(ent)\n",
    "\n",
    "text=\"太郎は花子が読んでいる本を次郎に渡した\"\n",
    "test_cabocha_comps(text, cabocha, cabocha.doc_for_text(text))"
   ]
  }
 ],
 "metadata": {
  "kernelspec": {
   "display_name": "Python 3",
   "language": "python",
   "name": "python3"
  },
  "language_info": {
   "codemirror_mode": {
    "name": "ipython",
    "version": 3
   },
   "file_extension": ".py",
   "mimetype": "text/x-python",
   "name": "python",
   "nbconvert_exporter": "python",
   "pygments_lexer": "ipython3",
   "version": "3.6.4"
  },
  "varInspector": {
   "cols": {
    "lenName": 16,
    "lenType": 16,
    "lenVar": 40
   },
   "kernels_config": {
    "python": {
     "delete_cmd_postfix": "",
     "delete_cmd_prefix": "del ",
     "library": "var_list.py",
     "varRefreshCmd": "print(var_dic_list())"
    },
    "r": {
     "delete_cmd_postfix": ") ",
     "delete_cmd_prefix": "rm(",
     "library": "var_list.r",
     "varRefreshCmd": "cat(var_dic_list()) "
    }
   },
   "types_to_exclude": [
    "module",
    "function",
    "builtin_function_or_method",
    "instance",
    "_Feature"
   ],
   "window_display": false
  }
 },
 "nbformat": 4,
 "nbformat_minor": 2
}
