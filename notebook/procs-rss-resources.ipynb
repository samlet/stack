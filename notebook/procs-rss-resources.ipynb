{
 "cells": [
  {
   "cell_type": "code",
   "execution_count": 4,
   "metadata": {
    "ExecuteTime": {
     "end_time": "2019-06-01T06:42:36.499117Z",
     "start_time": "2019-06-01T06:42:36.483060Z"
    }
   },
   "outputs": [
    {
     "name": "stdout",
     "output_type": "stream",
     "text": [
      "[{'url': 'https://rsshub.app/bilibili/user/video/286700005', 'file': './data/rss/user_video_286700005', 'lang': 'ja'}, {'url': 'https://rsshub.app/bilibili/bangumi/media/9192', 'file': './data/rss/bangumi_media_9192', 'lang': 'zh'}]\n"
     ]
    }
   ],
   "source": [
    "import json_utils\n",
    "resources=json_utils.read_json_file('data/rss/rss_resources.json')\n",
    "print(resources)"
   ]
  },
  {
   "cell_type": "code",
   "execution_count": 5,
   "metadata": {
    "ExecuteTime": {
     "end_time": "2019-06-01T07:14:37.074086Z",
     "start_time": "2019-06-01T07:14:37.064887Z"
    }
   },
   "outputs": [
    {
     "name": "stdout",
     "output_type": "stream",
     "text": [
      "['https://rsshub.app/westore/new, zh', 'https://rsshub.app/bilibili/bangumi/media/9192, zh']\n"
     ]
    }
   ],
   "source": [
    "import io_utils\n",
    "urls=[]\n",
    "for url in io_utils.lines('./data/rss/urls.txt'):\n",
    "    url=url.strip()\n",
    "    if len(url)>0 and not url.startswith('#'):\n",
    "        urls.append(url)\n",
    "print(urls)"
   ]
  },
  {
   "cell_type": "code",
   "execution_count": 6,
   "metadata": {
    "ExecuteTime": {
     "end_time": "2019-06-01T07:17:43.579645Z",
     "start_time": "2019-06-01T07:17:43.574048Z"
    }
   },
   "outputs": [
    {
     "data": {
      "text/plain": [
       "['https://rsshub.app/westore/new']"
      ]
     },
     "execution_count": 6,
     "metadata": {},
     "output_type": "execute_result"
    }
   ],
   "source": [
    "'https://rsshub.app/westore/new'.split(',')"
   ]
  },
  {
   "cell_type": "code",
   "execution_count": 9,
   "metadata": {
    "ExecuteTime": {
     "end_time": "2019-06-01T07:18:56.118120Z",
     "start_time": "2019-06-01T07:18:56.097957Z"
    }
   },
   "outputs": [
    {
     "name": "stdout",
     "output_type": "stream",
     "text": [
      "[\n",
      "  {\n",
      "    \"url\": \"https://rsshub.app/westore/new\",\n",
      "    \"file\": \"data/rss/westore_new\",\n",
      "    \"lang\": \"zh\"\n",
      "  },\n",
      "  {\n",
      "    \"url\": \"https://rsshub.app/bilibili/user/video/286700005\",\n",
      "    \"file\": \"data/rss/bilibili_user_video_286700005\",\n",
      "    \"lang\": \"ja\"\n",
      "  },\n",
      "  {\n",
      "    \"url\": \"https://rsshub.app/bilibili/bangumi/media/9192\",\n",
      "    \"file\": \"data/rss/bilibili_bangumi_media_9192\",\n",
      "    \"lang\": \"zh\"\n",
      "  }\n",
      "]\n"
     ]
    }
   ],
   "source": [
    "import json\n",
    "data_file_prefix='data/rss/'\n",
    "def create_resource_digest(url_raw, lang='zh'):\n",
    "    # https://rsshub.app/bilibili/bangumi/media/9192, ja\n",
    "    parts=url_raw.split(',')\n",
    "    url=parts[0]\n",
    "    if len(parts)>1:\n",
    "        lang=parts[1].strip()\n",
    "    digest={'url':url}\n",
    "    digest['file']=data_file_prefix+url.replace('https://rsshub.app/',\"\").replace('/','_')\n",
    "    digest['lang']=lang\n",
    "    return digest\n",
    "\n",
    "urls=['https://rsshub.app/westore/new, zh',\n",
    "      'https://rsshub.app/bilibili/user/video/286700005, ja',\n",
    "     'https://rsshub.app/bilibili/bangumi/media/9192']\n",
    "resources=[]\n",
    "for url in urls:\n",
    "    resources.append(create_resource_digest(url))\n",
    "\n",
    "print(json.dumps(resources, indent=2))"
   ]
  },
  {
   "cell_type": "code",
   "execution_count": 3,
   "metadata": {
    "ExecuteTime": {
     "end_time": "2019-06-01T06:20:06.075948Z",
     "start_time": "2019-06-01T06:20:06.068784Z"
    }
   },
   "outputs": [
    {
     "name": "stdout",
     "output_type": "stream",
     "text": [
      "False\n"
     ]
    }
   ],
   "source": [
    "import os\n",
    "path='data/rss/rss_resources.json_'\n",
    "print(os.path.isfile(path))"
   ]
  },
  {
   "cell_type": "code",
   "execution_count": 2,
   "metadata": {
    "ExecuteTime": {
     "end_time": "2019-06-01T06:58:19.479467Z",
     "start_time": "2019-06-01T06:58:11.392821Z"
    },
    "scrolled": true
   },
   "outputs": [
    {
     "name": "stderr",
     "output_type": "stream",
     "text": [
      "proc bilibili/bangumi/media/9192: 100%|██████████| 2/2 [00:07<00:00,  2.90s/it]"
     ]
    },
    {
     "name": "stdout",
     "output_type": "stream",
     "text": [
      "done\n"
     ]
    },
    {
     "name": "stderr",
     "output_type": "stream",
     "text": [
      "\n"
     ]
    }
   ],
   "source": [
    "from tqdm import tqdm\n",
    "import os\n",
    "from sagas.graph.rss_hub import download, RssHub\n",
    "import json_utils\n",
    "\n",
    "def short_url(url):\n",
    "    return url.replace('https://rsshub.app/',\"\")\n",
    "\n",
    "# resources=json_utils.read_json_file('data/rss/rss_resources.json')\n",
    "# print(resources)\n",
    "\n",
    "hub=RssHub()\n",
    "pbar=tqdm(resources)\n",
    "for res in pbar:\n",
    "    path=res['file']+'.xml'\n",
    "    json_path=res['file']+'.json'\n",
    "    pbar.set_description(\"proc %s\" % short_url(res['url']))\n",
    "    if os.path.isfile(path):\n",
    "        # print('%s exists'%path)\n",
    "        pass\n",
    "    else:\n",
    "        download(res['url'], path)\n",
    "    if not os.path.isfile(json_path):\n",
    "        hub.write_feed_json(path, json_path, lang=res['lang'])\n",
    "print('done')        "
   ]
  },
  {
   "cell_type": "code",
   "execution_count": 13,
   "metadata": {
    "ExecuteTime": {
     "end_time": "2019-06-01T06:57:35.508455Z",
     "start_time": "2019-06-01T06:57:35.498848Z"
    }
   },
   "outputs": [
    {
     "data": {
      "text/plain": [
       "'2019-06-01T14:57:35.500382'"
      ]
     },
     "execution_count": 13,
     "metadata": {},
     "output_type": "execute_result"
    }
   ],
   "source": [
    "import datetime\n",
    "datetime.datetime.now().isoformat()"
   ]
  }
 ],
 "metadata": {
  "kernelspec": {
   "display_name": "Python 3",
   "language": "python",
   "name": "python3"
  },
  "language_info": {
   "codemirror_mode": {
    "name": "ipython",
    "version": 3
   },
   "file_extension": ".py",
   "mimetype": "text/x-python",
   "name": "python",
   "nbconvert_exporter": "python",
   "pygments_lexer": "ipython3",
   "version": "3.6.4"
  },
  "varInspector": {
   "cols": {
    "lenName": 16,
    "lenType": 16,
    "lenVar": 40
   },
   "kernels_config": {
    "python": {
     "delete_cmd_postfix": "",
     "delete_cmd_prefix": "del ",
     "library": "var_list.py",
     "varRefreshCmd": "print(var_dic_list())"
    },
    "r": {
     "delete_cmd_postfix": ") ",
     "delete_cmd_prefix": "rm(",
     "library": "var_list.r",
     "varRefreshCmd": "cat(var_dic_list()) "
    }
   },
   "types_to_exclude": [
    "module",
    "function",
    "builtin_function_or_method",
    "instance",
    "_Feature"
   ],
   "window_display": false
  }
 },
 "nbformat": 4,
 "nbformat_minor": 2
}
