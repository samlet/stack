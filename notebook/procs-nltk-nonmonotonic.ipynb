{
 "cells": [
  {
   "cell_type": "code",
   "execution_count": 1,
   "metadata": {
    "ExecuteTime": {
     "end_time": "2019-08-02T05:37:12.364785Z",
     "start_time": "2019-08-02T05:37:11.529102Z"
    }
   },
   "outputs": [],
   "source": [
    "from nltk import *\n",
    "from nltk.inference.nonmonotonic import *\n",
    "from nltk.sem import logic\n",
    "logic._counter._value = 0\n",
    "read_expr = logic.Expression.fromstring"
   ]
  },
  {
   "cell_type": "code",
   "execution_count": 3,
   "metadata": {
    "ExecuteTime": {
     "end_time": "2019-08-02T05:52:17.033578Z",
     "start_time": "2019-08-02T05:52:17.027380Z"
    }
   },
   "outputs": [],
   "source": [
    "os.environ[\"PATH\"] += os.pathsep + '/pi/prover9/bin'"
   ]
  },
  {
   "cell_type": "code",
   "execution_count": 4,
   "metadata": {
    "ExecuteTime": {
     "end_time": "2019-08-02T05:52:19.389017Z",
     "start_time": "2019-08-02T05:52:19.299215Z"
    }
   },
   "outputs": [
    {
     "data": {
      "text/plain": [
       "True"
      ]
     },
     "execution_count": 4,
     "metadata": {},
     "output_type": "execute_result"
    }
   ],
   "source": [
    "p1 = read_expr(r'all x.(man(x) -> mortal(x))')\n",
    "p2 = read_expr(r'man(Socrates)')\n",
    "c = read_expr(r'mortal(Socrates)')\n",
    "prover = Prover9Command(c, [p1,p2])\n",
    "prover.prove()"
   ]
  },
  {
   "cell_type": "code",
   "execution_count": 6,
   "metadata": {
    "ExecuteTime": {
     "end_time": "2019-08-02T06:01:24.386789Z",
     "start_time": "2019-08-02T06:01:22.861505Z"
    }
   },
   "outputs": [
    {
     "data": {
      "text/plain": [
       "[<frame ID=801 name=Cause_to_make_noise>, <frame ID=39 name=Communication_noise>, ...]"
      ]
     },
     "execution_count": 6,
     "metadata": {},
     "output_type": "execute_result"
    }
   ],
   "source": [
    "from nltk.corpus import framenet as fn\n",
    "fn.frames('noise')"
   ]
  },
  {
   "cell_type": "code",
   "execution_count": 7,
   "metadata": {
    "ExecuteTime": {
     "end_time": "2019-08-02T06:01:33.155172Z",
     "start_time": "2019-08-02T06:01:33.139533Z"
    }
   },
   "outputs": [
    {
     "data": {
      "text/plain": [
       "['Cause_to_make_noise', 'Communication_noise', 'Make_noise', 'Motion_noise']"
      ]
     },
     "execution_count": 7,
     "metadata": {},
     "output_type": "execute_result"
    }
   ],
   "source": [
    "[f.name for f in fn.frames('noise')]"
   ]
  },
  {
   "cell_type": "code",
   "execution_count": 8,
   "metadata": {
    "ExecuteTime": {
     "end_time": "2019-08-02T06:01:45.738883Z",
     "start_time": "2019-08-02T06:01:45.723892Z"
    }
   },
   "outputs": [
    {
     "data": {
      "text/plain": [
       "['Cause_to_make_noise',\n",
       " 'Communication_noise',\n",
       " 'Make_noise',\n",
       " 'Motion_noise',\n",
       " 'Noise_makers']"
      ]
     },
     "execution_count": 8,
     "metadata": {},
     "output_type": "execute_result"
    }
   ],
   "source": [
    "[f.name for f in fn.frames('(?i)noise')]"
   ]
  }
 ],
 "metadata": {
  "kernelspec": {
   "display_name": "Python 3",
   "language": "python",
   "name": "python3"
  },
  "language_info": {
   "codemirror_mode": {
    "name": "ipython",
    "version": 3
   },
   "file_extension": ".py",
   "mimetype": "text/x-python",
   "name": "python",
   "nbconvert_exporter": "python",
   "pygments_lexer": "ipython3",
   "version": "3.6.4"
  },
  "varInspector": {
   "cols": {
    "lenName": 16,
    "lenType": 16,
    "lenVar": 40
   },
   "kernels_config": {
    "python": {
     "delete_cmd_postfix": "",
     "delete_cmd_prefix": "del ",
     "library": "var_list.py",
     "varRefreshCmd": "print(var_dic_list())"
    },
    "r": {
     "delete_cmd_postfix": ") ",
     "delete_cmd_prefix": "rm(",
     "library": "var_list.r",
     "varRefreshCmd": "cat(var_dic_list()) "
    }
   },
   "types_to_exclude": [
    "module",
    "function",
    "builtin_function_or_method",
    "instance",
    "_Feature"
   ],
   "window_display": false
  }
 },
 "nbformat": 4,
 "nbformat_minor": 2
}
