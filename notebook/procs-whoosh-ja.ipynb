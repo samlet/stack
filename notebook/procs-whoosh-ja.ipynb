{
 "cells": [
  {
   "cell_type": "code",
   "execution_count": 2,
   "metadata": {
    "ExecuteTime": {
     "end_time": "2019-05-08T13:28:58.963027Z",
     "start_time": "2019-05-08T13:28:58.796824Z"
    }
   },
   "outputs": [
    {
     "name": "stdout",
     "output_type": "stream",
     "text": [
      "すもも 名詞,一般,*,*,*,*,すもも,スモモ,スモモ\n",
      "も 助詞,係助詞,*,*,*,*,も,モ,モ\n",
      "もも 名詞,一般,*,*,*,*,もも,モモ,モモ\n",
      "も 助詞,係助詞,*,*,*,*,も,モ,モ\n",
      "もも 名詞,一般,*,*,*,*,もも,モモ,モモ\n",
      "の 助詞,連体化,*,*,*,*,の,ノ,ノ\n",
      "うち 名詞,非自立,副詞可能,*,*,*,うち,ウチ,ウチ\n"
     ]
    }
   ],
   "source": [
    "from igo.Tagger import Tagger\n",
    "t = Tagger() # use bundled dictionary\n",
    "for m in t.parse(u'すもももももももものうち'):\n",
    "    print(m.surface, m.feature)"
   ]
  },
  {
   "cell_type": "code",
   "execution_count": 9,
   "metadata": {
    "ExecuteTime": {
     "end_time": "2019-05-08T18:06:20.487799Z",
     "start_time": "2019-05-08T18:06:20.417560Z"
    }
   },
   "outputs": [
    {
     "name": "stdout",
     "output_type": "stream",
     "text": [
      "この 連体詞,*,*,*,*,*,この,コノ,コノ\n",
      "たん 名詞,一般,*,*,*,*,たん,タン,タン\n",
      "ご 接頭詞,名詞接続,*,*,*,*,ご,ゴ,ゴ\n",
      "の 助詞,連体化,*,*,*,*,の,ノ,ノ\n",
      "いみ 動詞,自立,*,*,五段・マ行,連用形,いむ,イミ,イミ\n",
      "を 助詞,格助詞,一般,*,*,*,を,ヲ,ヲ\n",
      "おぼえ 動詞,自立,*,*,一段,連用形,おぼえる,オボエ,オボエ\n",
      "て 助詞,接続助詞,*,*,*,*,て,テ,テ\n",
      "ください 動詞,非自立,*,*,五段・ラ行特殊,命令ｉ,くださる,クダサイ,クダサイ\n"
     ]
    }
   ],
   "source": [
    "from igo.Tagger import Tagger\n",
    "sent='このたんごのいみをおぼえてください'\n",
    "\n",
    "t = Tagger() # use bundled dictionary\n",
    "for m in t.parse(sent):\n",
    "    print(m.surface, m.feature)"
   ]
  },
  {
   "cell_type": "code",
   "execution_count": 1,
   "metadata": {
    "ExecuteTime": {
     "end_time": "2019-05-08T13:37:14.641674Z",
     "start_time": "2019-05-08T13:37:14.608091Z"
    }
   },
   "outputs": [
    {
     "name": "stdout",
     "output_type": "stream",
     "text": [
      "['私', 'は', 'python', '大好き', 'Standing', ' ', 'Engineer', 'です', '．']\n"
     ]
    }
   ],
   "source": [
    "import tinysegmenter\n",
    "statement = '私はpython大好きStanding Engineerです．'\n",
    "tokenized_statement = tinysegmenter.tokenize(statement)\n",
    "print(tokenized_statement)"
   ]
  },
  {
   "cell_type": "code",
   "execution_count": 10,
   "metadata": {
    "ExecuteTime": {
     "end_time": "2019-05-08T18:19:14.071553Z",
     "start_time": "2019-05-08T18:19:14.019706Z"
    }
   },
   "outputs": [],
   "source": [
    "import igo.Tagger\n",
    "import sagas.ja.whoosh\n",
    "from sagas.ja.whoosh.IgoTokenizer import IgoTokenizer\n",
    "from sagas.ja.whoosh.TinySegmenterTokenizer import TinySegmenterTokenizer\n",
    "from sagas.ja.whoosh.MeCabTokenizer import MeCabTokenizer\n",
    "\n",
    "# tk = IgoTokenizer()\n",
    "# tk = TinySegmenterTokenizer()\n",
    "tk = MeCabTokenizer()"
   ]
  },
  {
   "cell_type": "code",
   "execution_count": 16,
   "metadata": {
    "ExecuteTime": {
     "end_time": "2019-05-08T18:39:04.225016Z",
     "start_time": "2019-05-08T18:39:04.189103Z"
    }
   },
   "outputs": [],
   "source": [
    "from whoosh.index import create_in\n",
    "from whoosh.fields import *\n",
    "from whoosh.qparser import QueryParser\n",
    "import os\n",
    "import shutil\n",
    "\n",
    "target_dir=\"out/indexdir\"\n",
    "schema = Schema(title=TEXT(stored=True), \n",
    "                path=ID(stored=True), \n",
    "                # content=TEXT)\n",
    "                content=TEXT(analyzer=tk))\n",
    "\n",
    "if os.path.exists(target_dir):\n",
    "    shutil.rmtree(target_dir)\n",
    "os.mkdir(target_dir)\n",
    "ix = create_in(target_dir, schema)\n",
    "writer = ix.writer()\n",
    "\n",
    "writer.add_document(title=u\"First document\", path=u\"/a\",\n",
    "                    content=u\"このたんごのいみをおぼえてください\")\n",
    "writer.add_document(title=u\"Second document\", path=u\"/b\",\n",
    "                    content=u\"彼女を呼びます。\")\n",
    "writer.commit()"
   ]
  },
  {
   "cell_type": "code",
   "execution_count": 17,
   "metadata": {
    "ExecuteTime": {
     "end_time": "2019-05-08T18:39:10.305589Z",
     "start_time": "2019-05-08T18:39:10.281837Z"
    }
   },
   "outputs": [
    {
     "name": "stdout",
     "output_type": "stream",
     "text": [
      "<Hit {'path': '/a', 'title': 'First document'}>\n"
     ]
    }
   ],
   "source": [
    "def search_word(word):\n",
    "    with ix.searcher() as searcher:\n",
    "        query = QueryParser(\"content\", ix.schema).parse(word)\n",
    "        results = searcher.search(query)\n",
    "        print(results[0])\n",
    "\n",
    "search_word(\"おぼえ\")"
   ]
  },
  {
   "cell_type": "code",
   "execution_count": 18,
   "metadata": {
    "ExecuteTime": {
     "end_time": "2019-05-08T18:39:12.365857Z",
     "start_time": "2019-05-08T18:39:12.346462Z"
    }
   },
   "outputs": [
    {
     "name": "stdout",
     "output_type": "stream",
     "text": [
      "<Hit {'path': '/b', 'title': 'Second document'}>\n"
     ]
    }
   ],
   "source": [
    "search_word(\"呼び\")"
   ]
  },
  {
   "cell_type": "code",
   "execution_count": 23,
   "metadata": {
    "ExecuteTime": {
     "end_time": "2019-05-08T18:42:42.263473Z",
     "start_time": "2019-05-08T18:42:42.236033Z"
    }
   },
   "outputs": [
    {
     "name": "stdout",
     "output_type": "stream",
     "text": [
      "<Hit {'path': '/b', 'title': 'Second document'}>\n"
     ]
    }
   ],
   "source": [
    "import whoosh.qparser as qparser\n",
    "word=\"second\"\n",
    "with ix.searcher() as searcher:\n",
    "    parser = qparser.QueryParser(\"title\", ix.schema)\n",
    "    parser.add_plugin(qparser.FuzzyTermPlugin())\n",
    "    query=parser.parse(word)\n",
    "    results = searcher.search(query)\n",
    "    print(results[0])"
   ]
  },
  {
   "cell_type": "code",
   "execution_count": 24,
   "metadata": {
    "ExecuteTime": {
     "end_time": "2019-05-08T18:42:45.908909Z",
     "start_time": "2019-05-08T18:42:45.904705Z"
    }
   },
   "outputs": [
    {
     "name": "stdout",
     "output_type": "stream",
     "text": [
      "title:second\n"
     ]
    }
   ],
   "source": [
    "print(query)"
   ]
  }
 ],
 "metadata": {
  "kernelspec": {
   "display_name": "Python 3",
   "language": "python",
   "name": "python3"
  },
  "language_info": {
   "codemirror_mode": {
    "name": "ipython",
    "version": 3
   },
   "file_extension": ".py",
   "mimetype": "text/x-python",
   "name": "python",
   "nbconvert_exporter": "python",
   "pygments_lexer": "ipython3",
   "version": "3.6.4"
  },
  "varInspector": {
   "cols": {
    "lenName": 16,
    "lenType": 16,
    "lenVar": 40
   },
   "kernels_config": {
    "python": {
     "delete_cmd_postfix": "",
     "delete_cmd_prefix": "del ",
     "library": "var_list.py",
     "varRefreshCmd": "print(var_dic_list())"
    },
    "r": {
     "delete_cmd_postfix": ") ",
     "delete_cmd_prefix": "rm(",
     "library": "var_list.r",
     "varRefreshCmd": "cat(var_dic_list()) "
    }
   },
   "types_to_exclude": [
    "module",
    "function",
    "builtin_function_or_method",
    "instance",
    "_Feature"
   ],
   "window_display": false
  }
 },
 "nbformat": 4,
 "nbformat_minor": 2
}
