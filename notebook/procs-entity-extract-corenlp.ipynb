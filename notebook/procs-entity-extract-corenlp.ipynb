{
 "cells": [
  {
   "cell_type": "markdown",
   "metadata": {},
   "source": [
    "⊕ [Stanford CoreNLP API in NLTK · nltk/nltk Wiki](https://github.com/nltk/nltk/wiki/Stanford-CoreNLP-API-in-NLTK)\n"
   ]
  },
  {
   "cell_type": "code",
   "execution_count": 1,
   "metadata": {
    "ExecuteTime": {
     "end_time": "2019-01-03T12:38:23.698744Z",
     "start_time": "2019-01-03T12:38:08.030699Z"
    }
   },
   "outputs": [
    {
     "data": {
      "text/plain": [
       "[Tree('ROOT', [Tree('NUR', [Tree('S', [Tree('PPER', ['Ich']), Tree('VAFIN', ['bin']), Tree('AP', [Tree('ADJD', ['schwanger'])])])])])]"
      ]
     },
     "execution_count": 1,
     "metadata": {},
     "output_type": "execute_result"
    }
   ],
   "source": [
    "from nltk.parse import CoreNLPParser\n",
    "parser = CoreNLPParser('http://localhost:9004')\n",
    "list(parser.raw_parse('Ich bin schwanger'))"
   ]
  },
  {
   "cell_type": "code",
   "execution_count": 2,
   "metadata": {
    "ExecuteTime": {
     "end_time": "2019-01-03T12:40:09.816902Z",
     "start_time": "2019-01-03T12:40:09.773268Z"
    }
   },
   "outputs": [
    {
     "data": {
      "text/plain": [
       "[('Ich', 'PPER'), ('bin', 'VAFIN'), ('schwanger', 'ADJD')]"
      ]
     },
     "execution_count": 2,
     "metadata": {},
     "output_type": "execute_result"
    }
   ],
   "source": [
    "pos_tagger = CoreNLPParser('http://localhost:9004', tagtype='pos')\n",
    "pos_tagger.tag('Ich bin schwanger'.split())"
   ]
  },
  {
   "cell_type": "code",
   "execution_count": 4,
   "metadata": {
    "ExecuteTime": {
     "end_time": "2019-01-03T12:40:37.600996Z",
     "start_time": "2019-01-03T12:40:37.537326Z"
    }
   },
   "outputs": [
    {
     "data": {
      "text/plain": [
       "[('Donald', 'PERSON'),\n",
       " ('Trump', 'PERSON'),\n",
       " ('besuchte', 'O'),\n",
       " ('Angela', 'PERSON'),\n",
       " ('Merkel', 'PERSON'),\n",
       " ('in', 'O'),\n",
       " ('Berlin', 'LOCATION'),\n",
       " ('.', 'O')]"
      ]
     },
     "execution_count": 4,
     "metadata": {},
     "output_type": "execute_result"
    }
   ],
   "source": [
    "ner_tagger = CoreNLPParser('http://localhost:9004', tagtype='ner')\n",
    "ner_tagger.tag('Donald Trump besuchte Angela Merkel in Berlin.'.split())"
   ]
  },
  {
   "cell_type": "code",
   "execution_count": 6,
   "metadata": {
    "ExecuteTime": {
     "end_time": "2019-01-03T12:42:46.129654Z",
     "start_time": "2019-01-03T12:42:46.102301Z"
    }
   },
   "outputs": [
    {
     "data": {
      "text/plain": [
       "[('Shenzhen', 'LOCATION'),\n",
       " ('ist', 'O'),\n",
       " ('das', 'O'),\n",
       " ('Silicon', 'ORGANIZATION'),\n",
       " ('Valley', 'ORGANIZATION'),\n",
       " ('für', 'O'),\n",
       " ('Hardware-Firmen', 'O')]"
      ]
     },
     "execution_count": 6,
     "metadata": {},
     "output_type": "execute_result"
    }
   ],
   "source": [
    "text=\"Shenzhen ist das Silicon Valley für Hardware-Firmen\"\n",
    "ner_tagger.tag(text.split())"
   ]
  },
  {
   "cell_type": "code",
   "execution_count": 17,
   "metadata": {
    "ExecuteTime": {
     "end_time": "2019-01-03T13:06:05.443787Z",
     "start_time": "2019-01-03T13:06:05.437291Z"
    }
   },
   "outputs": [],
   "source": [
    "from pynlp import StanfordCoreNLP\n",
    "\n",
    "# annotators = tokenize, ssplit, pos, lemma, ner, depparse, coref\n",
    "# annotators = 'tokenize, ssplit, pos, lemma, ner, entitymentions, coref, sentiment, quote, openie'\n",
    "annotators = 'tokenize, ssplit, pos, lemma, ner, entitymentions, coref, sentiment, openie'\n",
    "# annotators = 'tokenize, ssplit, pos, lemma, ner'\n",
    "options = {'openie.resolve_coref': True}\n",
    "\n",
    "nlp = StanfordCoreNLP(annotators=annotators, options=options)"
   ]
  },
  {
   "cell_type": "code",
   "execution_count": 18,
   "metadata": {
    "ExecuteTime": {
     "end_time": "2019-01-03T13:07:17.716332Z",
     "start_time": "2019-01-03T13:06:10.279937Z"
    }
   },
   "outputs": [
    {
     "name": "stdout",
     "output_type": "stream",
     "text": [
      "GOP Sen. Rand Paul was assaulted in his home in Bowling Green, Kentucky, on Friday, according to Kentucky State Police. State troopers responded to a call to the senator's residence at 3:21 p.m. Friday. Police arrested a man named Rene Albert Boucher, who they allege \"intentionally assaulted\" Paul, causing him \"minor injury\". Boucher, 59, of Bowling Green was charged with one count of fourth-degree assault. As of Saturday afternoon, he was being held in the Warren County Regional Jail on a $5,000 bond.\n"
     ]
    }
   ],
   "source": [
    "text = ('GOP Sen. Rand Paul was assaulted in his home in Bowling Green, Kentucky, on Friday, '\n",
    "        'according to Kentucky State Police. State troopers responded to a call to the senator\\'s '\n",
    "        'residence at 3:21 p.m. Friday. Police arrested a man named Rene Albert Boucher, who they '\n",
    "        'allege \"intentionally assaulted\" Paul, causing him \"minor injury\". Boucher, 59, of Bowling '\n",
    "        'Green was charged with one count of fourth-degree assault. As of Saturday afternoon, he '\n",
    "        'was being held in the Warren County Regional Jail on a $5,000 bond.')\n",
    "document = nlp(text)\n",
    "print(document) # prints 'text'"
   ]
  },
  {
   "cell_type": "code",
   "execution_count": 19,
   "metadata": {
    "ExecuteTime": {
     "end_time": "2019-01-03T13:07:26.175371Z",
     "start_time": "2019-01-03T13:07:26.167705Z"
    }
   },
   "outputs": [
    {
     "name": "stdout",
     "output_type": "stream",
     "text": [
      "0 )GOP Sen. Rand Paul was assaulted in his home in Bowling Green, Kentucky, on Friday, according to Kentucky State Police. \n",
      "1 )State troopers responded to a call to the senator's residence at 3:21 p.m. Friday. \n",
      "2 )Police arrested a man named Rene Albert Boucher, who they allege \"intentionally assaulted\" Paul, causing him \"minor injury\". \n",
      "3 )Boucher, 59, of Bowling Green was charged with one count of fourth-degree assault. \n",
      "4 )As of Saturday afternoon, he was being held in the Warren County Regional Jail on a $5,000 bond.\n"
     ]
    }
   ],
   "source": [
    "for index, sentence in enumerate(document):\n",
    "    print(index, sentence, sep=' )')\n"
   ]
  },
  {
   "cell_type": "code",
   "execution_count": 20,
   "metadata": {
    "ExecuteTime": {
     "end_time": "2019-01-03T13:07:29.427231Z",
     "start_time": "2019-01-03T13:07:29.405640Z"
    }
   },
   "outputs": [
    {
     "data": {
      "text/plain": [
       "['Rand Paul', 'his', 'Rene Albert Boucher', 'Paul', 'him', 'Boucher', 'he']"
      ]
     },
     "execution_count": 20,
     "metadata": {},
     "output_type": "execute_result"
    }
   ],
   "source": [
    "[str(entity) for entity in document.entities if entity.type == 'PERSON']\n"
   ]
  },
  {
   "cell_type": "code",
   "execution_count": 21,
   "metadata": {
    "ExecuteTime": {
     "end_time": "2019-01-03T13:07:36.036967Z",
     "start_time": "2019-01-03T13:07:36.028447Z"
    }
   },
   "outputs": [
    {
     "name": "stdout",
     "output_type": "stream",
     "text": [
      "GOP (ORGANIZATION)\n",
      "Rand Paul (PERSON)\n",
      "Bowling Green (CITY)\n",
      "Kentucky (STATE_OR_PROVINCE)\n",
      "Friday (DATE)\n",
      "Kentucky State Police (ORGANIZATION)\n",
      "his (PERSON)\n"
     ]
    }
   ],
   "source": [
    "first_sentence = document[0]\n",
    "for entity in first_sentence.entities:\n",
    "    print(entity, '({})'.format(entity.type))"
   ]
  },
  {
   "cell_type": "code",
   "execution_count": 22,
   "metadata": {
    "ExecuteTime": {
     "end_time": "2019-01-03T13:07:38.299237Z",
     "start_time": "2019-01-03T13:07:38.291496Z"
    }
   },
   "outputs": [
    {
     "name": "stdout",
     "output_type": "stream",
     "text": [
      "was VBD\n",
      "assaulted VBN\n",
      "according VBG\n"
     ]
    }
   ],
   "source": [
    "# Let's find all the 'VB' tags in the first sentence. A Sentence object iterates over Token objects.\n",
    "\n",
    "for token in first_sentence:\n",
    "    if 'VB' in token.pos:\n",
    "        print(token, token.pos)"
   ]
  },
  {
   "cell_type": "code",
   "execution_count": 23,
   "metadata": {
    "ExecuteTime": {
     "end_time": "2019-01-03T13:07:40.479723Z",
     "start_time": "2019-01-03T13:07:40.468027Z"
    }
   },
   "outputs": [
    {
     "name": "stdout",
     "output_type": "stream",
     "text": [
      "was -> be\n",
      "assaulted -> assault\n",
      "according -> accord\n"
     ]
    }
   ],
   "source": [
    "# Using the same words, lets see the lemmas.\n",
    "\n",
    "for token in first_sentence:\n",
    "    if 'VB' in token.pos:\n",
    "       print(token, '->', token.lemma)"
   ]
  },
  {
   "cell_type": "code",
   "execution_count": 24,
   "metadata": {
    "ExecuteTime": {
     "end_time": "2019-01-03T13:07:42.594272Z",
     "start_time": "2019-01-03T13:07:42.586201Z"
    }
   },
   "outputs": [
    {
     "name": "stdout",
     "output_type": "stream",
     "text": [
      "((State troopers))-[id=13] responded to a call to the senator's residence at 3:21 p.m. Friday. \n",
      "Police arrested a man named Rene Albert Boucher, who (they)-[id=16] allege \"intentionally assaulted\" Paul, causing him \"minor injury\". \n",
      "\n"
     ]
    }
   ],
   "source": [
    "# Coreference resultion\n",
    "# Let's use pynlp to find the first CorefChain in the text.\n",
    "\n",
    "chain = document.coref_chains[0]\n",
    "print(chain)"
   ]
  },
  {
   "cell_type": "code",
   "execution_count": 26,
   "metadata": {
    "ExecuteTime": {
     "end_time": "2019-01-03T13:10:14.802421Z",
     "start_time": "2019-01-03T13:10:14.793945Z"
    }
   },
   "outputs": [
    {
     "name": "stdout",
     "output_type": "stream",
     "text": [
      "Coreference: State troopers\n",
      "\n",
      "type: NOMINAL\n",
      "number: PLURAL\n",
      "animacy: ANIMATE\n",
      "gender: UNKNOWN\n"
     ]
    }
   ],
   "source": [
    "ref = chain.referent\n",
    "print('Coreference: {}\\n'.format(ref))\n",
    "\n",
    "for attr in 'type', 'number', 'animacy', 'gender':\n",
    "    print(attr,  getattr(ref, attr), sep=': ')\n",
    "\n",
    "# Note that we can also index coreferences by id\n",
    "# assert chain[4].is_referent"
   ]
  },
  {
   "cell_type": "code",
   "execution_count": 27,
   "metadata": {
    "ExecuteTime": {
     "end_time": "2019-01-03T13:11:07.154085Z",
     "start_time": "2019-01-03T13:11:07.147852Z"
    }
   },
   "outputs": [
    {
     "name": "stdout",
     "output_type": "stream",
     "text": [
      "[]\n"
     ]
    }
   ],
   "source": [
    "print(document.quotes)\n"
   ]
  },
  {
   "cell_type": "code",
   "execution_count": 28,
   "metadata": {
    "ExecuteTime": {
     "end_time": "2019-01-03T13:12:21.592522Z",
     "start_time": "2019-01-03T13:12:21.565050Z"
    }
   },
   "outputs": [],
   "source": [
    "with open('annotation.dat', 'wb') as file:\n",
    "    file.write(document.to_bytes())"
   ]
  },
  {
   "cell_type": "code",
   "execution_count": 29,
   "metadata": {
    "ExecuteTime": {
     "end_time": "2019-01-03T13:15:25.266524Z",
     "start_time": "2019-01-03T13:15:25.254366Z"
    }
   },
   "outputs": [],
   "source": [
    "# To load a pynlp document, instantiate a Document with the from_bytes class method.\n",
    "\n",
    "from pynlp import Document\n",
    "with open('annotation.dat', 'rb') as file:\n",
    "    document = Document.from_bytes(file.read())"
   ]
  }
 ],
 "metadata": {
  "kernelspec": {
   "display_name": "Python 3",
   "language": "python",
   "name": "python3"
  },
  "language_info": {
   "codemirror_mode": {
    "name": "ipython",
    "version": 3
   },
   "file_extension": ".py",
   "mimetype": "text/x-python",
   "name": "python",
   "nbconvert_exporter": "python",
   "pygments_lexer": "ipython3",
   "version": "3.6.4"
  },
  "varInspector": {
   "cols": {
    "lenName": 16,
    "lenType": 16,
    "lenVar": 40
   },
   "kernels_config": {
    "python": {
     "delete_cmd_postfix": "",
     "delete_cmd_prefix": "del ",
     "library": "var_list.py",
     "varRefreshCmd": "print(var_dic_list())"
    },
    "r": {
     "delete_cmd_postfix": ") ",
     "delete_cmd_prefix": "rm(",
     "library": "var_list.r",
     "varRefreshCmd": "cat(var_dic_list()) "
    }
   },
   "types_to_exclude": [
    "module",
    "function",
    "builtin_function_or_method",
    "instance",
    "_Feature"
   ],
   "window_display": false
  }
 },
 "nbformat": 4,
 "nbformat_minor": 2
}
