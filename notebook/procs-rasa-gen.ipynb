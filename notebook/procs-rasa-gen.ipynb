{
 "cells": [
  {
   "cell_type": "code",
   "execution_count": 2,
   "metadata": {
    "ExecuteTime": {
     "end_time": "2019-04-06T08:47:53.704272Z",
     "start_time": "2019-04-06T08:47:53.447219Z"
    }
   },
   "outputs": [
    {
     "name": "stdout",
     "output_type": "stream",
     "text": [
      "\n",
      "class ActionAboutDate(Action):\n",
      "  def name(self):\n",
      "    return \"action_about_date\"\n",
      "\n",
      "  def run(self, dispatcher, tracker, domain):\n",
      "    # print(tracker.latest_message)\n",
      "    dispatcher.utter_message(\"{}\".format('all done.'))\n",
      "    return [SlotSet(\"response\", 'ok')]\n",
      "\n"
     ]
    }
   ],
   "source": [
    "from mako.template import Template\n",
    "from sagas.util.str_converters import to_camel_case, to_snake_case\n",
    "import clipboard\n",
    "\n",
    "action_def='''\n",
    "class Action${action_c}(Action):\n",
    "  def name(self):\n",
    "    return \"action_${action}\"\n",
    "\n",
    "  def run(self, dispatcher, tracker, domain):\n",
    "    # print(tracker.latest_message)\n",
    "    dispatcher.utter_message(\"{}\".format('all done.'))\n",
    "    return [SlotSet(\"response\", 'ok')]\n",
    "'''\n",
    "\n",
    "mytemplate = Template(action_def)\n",
    "action='about_date'\n",
    "result=(mytemplate.render(action=action, action_c=to_camel_case(action, True)))\n",
    "print(result)\n",
    "clipboard.copy(result)"
   ]
  }
 ],
 "metadata": {
  "kernelspec": {
   "display_name": "Python 3",
   "language": "python",
   "name": "python3"
  },
  "language_info": {
   "codemirror_mode": {
    "name": "ipython",
    "version": 3
   },
   "file_extension": ".py",
   "mimetype": "text/x-python",
   "name": "python",
   "nbconvert_exporter": "python",
   "pygments_lexer": "ipython3",
   "version": "3.6.4"
  },
  "varInspector": {
   "cols": {
    "lenName": 16,
    "lenType": 16,
    "lenVar": 40
   },
   "kernels_config": {
    "python": {
     "delete_cmd_postfix": "",
     "delete_cmd_prefix": "del ",
     "library": "var_list.py",
     "varRefreshCmd": "print(var_dic_list())"
    },
    "r": {
     "delete_cmd_postfix": ") ",
     "delete_cmd_prefix": "rm(",
     "library": "var_list.r",
     "varRefreshCmd": "cat(var_dic_list()) "
    }
   },
   "types_to_exclude": [
    "module",
    "function",
    "builtin_function_or_method",
    "instance",
    "_Feature"
   ],
   "window_display": false
  }
 },
 "nbformat": 4,
 "nbformat_minor": 2
}
