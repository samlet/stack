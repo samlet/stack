{
 "cells": [
  {
   "cell_type": "code",
   "execution_count": 1,
   "metadata": {
    "ExecuteTime": {
     "end_time": "2018-12-19T13:38:40.236127Z",
     "start_time": "2018-12-19T13:38:39.687785Z"
    }
   },
   "outputs": [],
   "source": [
    "import json\n",
    "\n",
    "import pytest\n",
    "from httpretty import httpretty\n",
    "\n",
    "from rasa_core.actions import action\n",
    "from rasa_core.actions.action import (\n",
    "    ActionRestart, UtterAction,\n",
    "    ActionListen, RemoteAction,\n",
    "    ActionExecutionRejection)\n",
    "from rasa_core.domain import Domain\n",
    "from rasa_core.events import Restarted, SlotSet, UserUtteranceReverted\n",
    "from rasa_core.trackers import DialogueStateTracker\n",
    "from rasa_core.utils import EndpointConfig"
   ]
  },
  {
   "cell_type": "markdown",
   "metadata": {},
   "source": [
    "## source from: conftest.py "
   ]
  },
  {
   "cell_type": "code",
   "execution_count": 24,
   "metadata": {
    "ExecuteTime": {
     "end_time": "2018-12-19T15:32:30.322857Z",
     "start_time": "2018-12-19T15:32:30.243595Z"
    }
   },
   "outputs": [],
   "source": [
    "from rasa_core import train, server\n",
    "from rasa_core.agent import Agent\n",
    "from rasa_core.channels import CollectingOutputChannel, RestInput, channel\n",
    "from rasa_core.dispatcher import Dispatcher\n",
    "from rasa_core.domain import Domain\n",
    "from rasa_core.interpreter import RegexInterpreter\n",
    "from rasa_core.nlg import TemplatedNaturalLanguageGenerator\n",
    "from rasa_core.policies.ensemble import SimplePolicyEnsemble, PolicyEnsemble\n",
    "from rasa_core.policies.memoization import (\n",
    "    Policy, MemoizationPolicy, AugmentedMemoizationPolicy)\n",
    "from rasa_core.processor import MessageProcessor\n",
    "from rasa_core.slots import Slot\n",
    "from rasa_core.tracker_store import InMemoryTrackerStore\n",
    "from rasa_core.trackers import DialogueStateTracker\n",
    "from rasa_core.utils import zip_folder\n",
    "\n",
    "DEFAULT_DOMAIN_PATH = \"data/test_domains/default_with_slots.yml\"\n",
    "\n",
    "DEFAULT_STORIES_FILE = \"data/test_stories/stories_defaultdomain.md\"\n",
    "\n",
    "END_TO_END_STORY_FILE = \"data/test_evaluations/end_to_end_story.md\"\n",
    "\n",
    "MOODBOT_MODEL_PATH = \"examples/moodbot/models/dialogue\"\n",
    "\n",
    "DEFAULT_ENDPOINTS_FILE = \"data/test_endpoints/example_endpoints.yml\"\n",
    "\n",
    "@pytest.fixture(scope=\"session\")\n",
    "def default_domain():\n",
    "    return Domain.load(DEFAULT_DOMAIN_PATH)\n",
    "@pytest.fixture(scope=\"session\")\n",
    "def default_agent(default_domain):\n",
    "    agent = Agent(default_domain,\n",
    "                  policies=[MemoizationPolicy()],\n",
    "                  interpreter=RegexInterpreter(),\n",
    "                  tracker_store=InMemoryTrackerStore(default_domain))\n",
    "    training_data = agent.load_data(DEFAULT_STORIES_FILE)\n",
    "    agent.train(training_data)\n",
    "    return agent\n",
    "\n",
    "@pytest.fixture\n",
    "def default_dispatcher_collecting(default_nlg):\n",
    "    bot = CollectingOutputChannel()\n",
    "    return Dispatcher(\"my-sender\", bot, default_nlg)\n",
    "@pytest.fixture\n",
    "def default_nlg(default_domain):\n",
    "    return TemplatedNaturalLanguageGenerator(default_domain.templates)\n",
    "@pytest.fixture(scope=\"session\")\n",
    "def default_agent_path(default_agent, path):\n",
    "    # path = tmpdir_factory.mktemp(\"agent\").strpath\n",
    "    default_agent.persist(path)\n",
    "    return path"
   ]
  },
  {
   "cell_type": "code",
   "execution_count": 26,
   "metadata": {
    "ExecuteTime": {
     "end_time": "2018-12-19T15:34:24.513819Z",
     "start_time": "2018-12-19T15:34:24.018743Z"
    },
    "scrolled": true
   },
   "outputs": [
    {
     "name": "stderr",
     "output_type": "stream",
     "text": [
      "/Users/xiaofeiwu/miniconda3/envs/bigdata/lib/python3.6/site-packages/pykwalify/core.py:99: UnsafeLoaderWarning: \n",
      "The default 'Loader' for 'load(stream)' without further arguments can be unsafe.\n",
      "Use 'load(stream, Loader=ruamel.yaml.Loader)' explicitly if that is OK.\n",
      "Alternatively include the following in your code:\n",
      "\n",
      "  import warnings\n",
      "  warnings.simplefilter('ignore', ruamel.yaml.error.UnsafeLoaderWarning)\n",
      "\n",
      "In most other cases you should consider using 'safe_load(stream)'\n",
      "  data = yaml.load(stream)\n",
      "Processed Story Blocks: 100%|██████████| 5/5 [00:00<00:00, 295.30it/s, # trackers=2]\n",
      "Processed Story Blocks: 100%|██████████| 5/5 [00:00<00:00, 256.24it/s, # trackers=6]\n",
      "Processed Story Blocks: 100%|██████████| 5/5 [00:00<00:00, 125.10it/s, # trackers=10]\n",
      "Processed Story Blocks: 100%|██████████| 5/5 [00:00<00:00, 109.15it/s, # trackers=10]\n",
      "Processed actions: 0it [00:00, ?it/s, # examples=2]"
     ]
    },
    {
     "name": "stdout",
     "output_type": "stream",
     "text": [
      "[<TextSlot(name: None)>]\n"
     ]
    },
    {
     "name": "stderr",
     "output_type": "stream",
     "text": [
      "Processed actions: 49it [00:00, 252.63it/s, # examples=49]\n"
     ]
    }
   ],
   "source": [
    "domain=default_domain()\n",
    "print(domain.slots)\n",
    "agent=default_agent(domain)\n",
    "default_agent_path(agent, \"./model_temp\")\n",
    "nlg=default_nlg(domain)\n",
    "dispatcher_collecting=default_dispatcher_collecting(nlg)"
   ]
  },
  {
   "cell_type": "code",
   "execution_count": 22,
   "metadata": {
    "ExecuteTime": {
     "end_time": "2018-12-19T14:06:14.316964Z",
     "start_time": "2018-12-19T14:06:14.252019Z"
    }
   },
   "outputs": [],
   "source": [
    "def test_remote_action_logs_events(default_dispatcher_collecting,\n",
    "                                   default_domain):\n",
    "    tracker = DialogueStateTracker(\"default\",\n",
    "                                   default_domain.slots)\n",
    "\n",
    "    endpoint = EndpointConfig(\"https://abc.defg/webhooks/actions\")\n",
    "    remote_action = action.RemoteAction(\"my_action\",\n",
    "                                        endpoint)\n",
    "\n",
    "    response = {\n",
    "        \"events\": [\n",
    "            {\"event\": \"slot\", \"value\": \"rasa\", \"name\": \"name\"}],\n",
    "        \"responses\": [{\"text\": \"test text\",\n",
    "                       \"buttons\": [{\"title\": \"cheap\", \"payload\": \"cheap\"}]},\n",
    "                      {\"template\": \"utter_greet\"}]}\n",
    "\n",
    "    httpretty.register_uri(\n",
    "        httpretty.POST,\n",
    "        'https://abc.defg/webhooks/actions',\n",
    "        body=json.dumps(response))\n",
    "\n",
    "    httpretty.enable()\n",
    "    events = remote_action.run(default_dispatcher_collecting,\n",
    "                               tracker,\n",
    "                               default_domain)\n",
    "    httpretty.disable()\n",
    "\n",
    "    assert (httpretty.latest_requests[-1].path ==\n",
    "            \"/webhooks/actions\")\n",
    "\n",
    "    b = httpretty.latest_requests[-1].body.decode(\"utf-8\")\n",
    "\n",
    "    assert json.loads(b) == {\n",
    "        'domain': default_domain.as_dict(),\n",
    "        'next_action': 'my_action',\n",
    "        'sender_id': 'default',\n",
    "        'tracker': {\n",
    "            'latest_message': {\n",
    "                'entities': [],\n",
    "                'intent': {},\n",
    "                'text': None\n",
    "            },\n",
    "            'active_form': {},\n",
    "            'latest_action_name': None,\n",
    "            'sender_id': 'default',\n",
    "            'paused': False,\n",
    "            'followup_action': 'action_listen',\n",
    "            'latest_event_time': None,\n",
    "            'slots': {'name': None},\n",
    "            'events': [],\n",
    "            'latest_input_channel': None\n",
    "        }\n",
    "    }\n",
    "\n",
    "    assert events == [SlotSet(\"name\", \"rasa\")]\n",
    "    print(events)\n",
    "\n",
    "    channel = default_dispatcher_collecting.output_channel\n",
    "    assert channel.messages == [\n",
    "        {\"text\": \"test text\", \"recipient_id\": \"my-sender\",\n",
    "         \"buttons\": [{\"title\": \"cheap\", \"payload\": \"cheap\"}]},\n",
    "        {\"text\": \"hey there None!\", \"recipient_id\": \"my-sender\"}]"
   ]
  },
  {
   "cell_type": "code",
   "execution_count": 23,
   "metadata": {
    "ExecuteTime": {
     "end_time": "2018-12-19T14:06:23.072423Z",
     "start_time": "2018-12-19T14:06:22.661977Z"
    },
    "scrolled": true
   },
   "outputs": [
    {
     "name": "stderr",
     "output_type": "stream",
     "text": [
      "/Users/xiaofeiwu/miniconda3/envs/bigdata/lib/python3.6/site-packages/pykwalify/core.py:99: UnsafeLoaderWarning: \n",
      "The default 'Loader' for 'load(stream)' without further arguments can be unsafe.\n",
      "Use 'load(stream, Loader=ruamel.yaml.Loader)' explicitly if that is OK.\n",
      "Alternatively include the following in your code:\n",
      "\n",
      "  import warnings\n",
      "  warnings.simplefilter('ignore', ruamel.yaml.error.UnsafeLoaderWarning)\n",
      "\n",
      "In most other cases you should consider using 'safe_load(stream)'\n",
      "  data = yaml.load(stream)\n",
      "Processed Story Blocks: 100%|██████████| 5/5 [00:00<00:00, 377.50it/s, # trackers=1]\n",
      "Processed Story Blocks: 100%|██████████| 5/5 [00:00<00:00, 319.00it/s, # trackers=3]\n",
      "Processed Story Blocks: 100%|██████████| 5/5 [00:00<00:00, 141.95it/s, # trackers=10]\n",
      "Processed Story Blocks: 100%|██████████| 5/5 [00:00<00:00, 120.03it/s, # trackers=10]\n",
      "Processed actions: 0it [00:00, ?it/s, # examples=10]"
     ]
    },
    {
     "name": "stdout",
     "output_type": "stream",
     "text": [
      "[<TextSlot(name: None)>]\n"
     ]
    },
    {
     "name": "stderr",
     "output_type": "stream",
     "text": [
      "Processed actions: 49it [00:00, 231.21it/s, # examples=49]\n"
     ]
    },
    {
     "name": "stdout",
     "output_type": "stream",
     "text": [
      "[<rasa_core.events.SlotSet object at 0x119690780>]\n"
     ]
    }
   ],
   "source": [
    "domain=default_domain()\n",
    "print(domain.slots)\n",
    "agent=default_agent(domain)\n",
    "nlg=default_nlg(domain)\n",
    "dispatcher_collecting=default_dispatcher_collecting(nlg)\n",
    "\n",
    "test_remote_action_logs_events(dispatcher_collecting, domain)"
   ]
  },
  {
   "cell_type": "code",
   "execution_count": 28,
   "metadata": {
    "ExecuteTime": {
     "end_time": "2018-12-19T15:45:06.050091Z",
     "start_time": "2018-12-19T15:45:05.667107Z"
    },
    "scrolled": false
   },
   "outputs": [
    {
     "name": "stderr",
     "output_type": "stream",
     "text": [
      "/Users/xiaofeiwu/miniconda3/envs/bigdata/lib/python3.6/site-packages/pykwalify/core.py:99: UnsafeLoaderWarning: \n",
      "The default 'Loader' for 'load(stream)' without further arguments can be unsafe.\n",
      "Use 'load(stream, Loader=ruamel.yaml.Loader)' explicitly if that is OK.\n",
      "Alternatively include the following in your code:\n",
      "\n",
      "  import warnings\n",
      "  warnings.simplefilter('ignore', ruamel.yaml.error.UnsafeLoaderWarning)\n",
      "\n",
      "In most other cases you should consider using 'safe_load(stream)'\n",
      "  data = yaml.load(stream)\n",
      "Processed Story Blocks: 100%|██████████| 5/5 [00:00<00:00, 346.30it/s, # trackers=2]\n",
      "Processed Story Blocks: 100%|██████████| 5/5 [00:00<00:00, 287.64it/s, # trackers=6]\n",
      "Processed Story Blocks: 100%|██████████| 5/5 [00:00<00:00, 159.14it/s, # trackers=10]\n",
      "Processed Story Blocks: 100%|██████████| 5/5 [00:00<00:00, 184.83it/s, # trackers=10]\n",
      "Processed actions: 49it [00:00, 238.46it/s, # examples=49]\n"
     ]
    }
   ],
   "source": [
    "from rasa_core.interpreter import INTENT_MESSAGE_PREFIX\n",
    "def test_agent_handle_message(default_agent):\n",
    "    message = INTENT_MESSAGE_PREFIX + 'greet{\"name\":\"Rasa\"}'\n",
    "    result = default_agent.handle_message(message,\n",
    "                                          sender_id=\"test_agent_handle_message\")\n",
    "    assert result == [{'recipient_id': 'test_agent_handle_message',\n",
    "                       'text': 'hey there Rasa!'}]\n",
    "    \n",
    "domain=default_domain()\n",
    "agent=default_agent(domain)\n",
    "nlg=default_nlg(domain)\n",
    "dispatcher_collecting=default_dispatcher_collecting(nlg)\n",
    "\n",
    "test_agent_handle_message(agent)"
   ]
  },
  {
   "cell_type": "code",
   "execution_count": 29,
   "metadata": {
    "ExecuteTime": {
     "end_time": "2018-12-20T08:23:00.235516Z",
     "start_time": "2018-12-20T08:23:00.165435Z"
    }
   },
   "outputs": [
    {
     "data": {
      "text/plain": [
       "{'actions': ['utter_default', 'utter_greet', 'utter_goodbye'],\n",
       " 'config': {'store_entities_as_slots': True},\n",
       " 'entities': ['name'],\n",
       " 'forms': [],\n",
       " 'intents': [{'greet': {'use_entities': True}},\n",
       "  {'default': {'use_entities': True}},\n",
       "  {'goodbye': {'use_entities': True}},\n",
       "  {'affirm': {'use_entities': True}},\n",
       "  {'thank_you': {'use_entities': True}},\n",
       "  {'change_bank_details': {'use_entities': True}},\n",
       "  {'simple': {'use_entities': True}},\n",
       "  {'hello': {'use_entities': True}},\n",
       "  {'why': {'use_entities': True}},\n",
       "  {'next_intent': {'use_entities': True}}],\n",
       " 'slots': {'name': {'auto_fill': True,\n",
       "   'initial_value': None,\n",
       "   'type': 'rasa_core.slots.TextSlot'}},\n",
       " 'templates': {'utter_default': [{'text': 'default message'}],\n",
       "  'utter_goodbye': [{'text': 'goodbye 😢'}, {'text': 'bye bye 😢'}],\n",
       "  'utter_greet': [{'text': 'hey there {name}!'}]}}"
      ]
     },
     "execution_count": 29,
     "metadata": {},
     "output_type": "execute_result"
    }
   ],
   "source": [
    "domain.as_dict()"
   ]
  },
  {
   "cell_type": "code",
   "execution_count": 35,
   "metadata": {
    "ExecuteTime": {
     "end_time": "2018-12-20T10:56:00.228017Z",
     "start_time": "2018-12-20T10:55:59.855583Z"
    },
    "scrolled": false
   },
   "outputs": [
    {
     "name": "stderr",
     "output_type": "stream",
     "text": [
      "/Users/xiaofeiwu/miniconda3/envs/bigdata/lib/python3.6/site-packages/pykwalify/core.py:99: UnsafeLoaderWarning: \n",
      "The default 'Loader' for 'load(stream)' without further arguments can be unsafe.\n",
      "Use 'load(stream, Loader=ruamel.yaml.Loader)' explicitly if that is OK.\n",
      "Alternatively include the following in your code:\n",
      "\n",
      "  import warnings\n",
      "  warnings.simplefilter('ignore', ruamel.yaml.error.UnsafeLoaderWarning)\n",
      "\n",
      "In most other cases you should consider using 'safe_load(stream)'\n",
      "  data = yaml.load(stream)\n",
      "Processed Story Blocks: 100%|██████████| 5/5 [00:00<00:00, 365.12it/s, # trackers=2]\n",
      "Processed Story Blocks: 100%|██████████| 5/5 [00:00<00:00, 302.80it/s, # trackers=6]\n",
      "Processed Story Blocks: 100%|██████████| 5/5 [00:00<00:00, 138.37it/s, # trackers=10]\n",
      "Processed Story Blocks: 100%|██████████| 5/5 [00:00<00:00, 117.78it/s, # trackers=10]\n",
      "Processed actions: 49it [00:00, 320.46it/s, # examples=49]\n"
     ]
    },
    {
     "name": "stdout",
     "output_type": "stream",
     "text": [
      "SlotSet(key: test, value: 4)\n",
      "[]\n"
     ]
    }
   ],
   "source": [
    "def disp_events(events):\n",
    "    # assert events == [SlotSet(\"test\", 4)]\n",
    "    for ev in events:\n",
    "        print(str(ev))\n",
    "    \n",
    "def test_action(default_dispatcher_collecting,\n",
    "                                   default_domain, fun_name):\n",
    "    tracker = DialogueStateTracker(\"default\",\n",
    "                                   default_domain.slots)\n",
    "\n",
    "    endpoint = EndpointConfig(\"http://localhost:5055/webhook\")\n",
    "    remote_action = action.RemoteAction(fun_name, endpoint)\n",
    "\n",
    "    events = remote_action.run(default_dispatcher_collecting,\n",
    "                               tracker,\n",
    "                               default_domain)\n",
    "    disp_events(events)\n",
    "\n",
    "    channel = default_dispatcher_collecting.output_channel\n",
    "    print(channel.messages)\n",
    "\n",
    "def run_fixture(fun_name, fun):\n",
    "    domain=default_domain()\n",
    "    agent=default_agent(domain)\n",
    "    nlg=default_nlg(domain)\n",
    "    dispatcher_collecting=default_dispatcher_collecting(nlg)\n",
    "    fun(dispatcher_collecting, domain, fun_name)\n",
    "\n",
    "run_fixture(\"my_custom_action\", test_action)"
   ]
  },
  {
   "cell_type": "code",
   "execution_count": 37,
   "metadata": {
    "ExecuteTime": {
     "end_time": "2018-12-20T12:38:20.375647Z",
     "start_time": "2018-12-20T12:38:20.352726Z"
    }
   },
   "outputs": [],
   "source": [
    "@pytest.fixture\n",
    "def default_processor(default_domain, default_nlg):\n",
    "    agent = Agent(default_domain,\n",
    "                  SimplePolicyEnsemble([AugmentedMemoizationPolicy()]),\n",
    "                  interpreter=RegexInterpreter())\n",
    "\n",
    "    training_data = agent.load_data(DEFAULT_STORIES_FILE)\n",
    "    agent.train(training_data)\n",
    "    tracker_store = InMemoryTrackerStore(default_domain)\n",
    "    return MessageProcessor(agent.interpreter,\n",
    "                            agent.policy_ensemble,\n",
    "                            default_domain,\n",
    "                            tracker_store,\n",
    "                            default_nlg)"
   ]
  },
  {
   "cell_type": "code",
   "execution_count": 46,
   "metadata": {
    "ExecuteTime": {
     "end_time": "2018-12-20T13:37:47.066167Z",
     "start_time": "2018-12-20T13:37:46.681871Z"
    },
    "scrolled": true
   },
   "outputs": [
    {
     "name": "stderr",
     "output_type": "stream",
     "text": [
      "Processed Story Blocks: 100%|██████████| 5/5 [00:00<00:00, 370.42it/s, # trackers=2]\n",
      "Processed Story Blocks: 100%|██████████| 5/5 [00:00<00:00, 292.85it/s, # trackers=6]\n",
      "Processed Story Blocks: 100%|██████████| 5/5 [00:00<00:00, 213.23it/s, # trackers=10]\n",
      "Processed Story Blocks: 100%|██████████| 5/5 [00:00<00:00, 118.18it/s, # trackers=10]\n",
      "Processed actions: 49it [00:00, 247.07it/s, # examples=49]"
     ]
    },
    {
     "name": "stdout",
     "output_type": "stream",
     "text": [
      "text\n",
      "\t /greet{\"name\": \"boy\"}\n",
      "intent\n",
      "\t {'name': 'greet', 'confidence': 1.0}\n",
      "intent_ranking\n",
      "\t [{'name': 'greet', 'confidence': 1.0}]\n",
      "entities\n",
      "\t [{'entity': 'name', 'start': 6, 'end': 21, 'value': 'boy'}]\n"
     ]
    },
    {
     "name": "stderr",
     "output_type": "stream",
     "text": [
      "\n"
     ]
    }
   ],
   "source": [
    "from rasa_core.channels import CollectingOutputChannel\n",
    "from rasa_core.channels import UserMessage\n",
    "from rasa_core.events import (\n",
    "    ReminderScheduled, UserUttered, ActionExecuted,\n",
    "    BotUttered, Restarted)\n",
    "from rasa_nlu.training_data import Message\n",
    "\n",
    "def test_message_processor(default_processor):\n",
    "    out = CollectingOutputChannel()\n",
    "    default_processor.handle_message(UserMessage('/greet{\"name\":\"Core\"}', out))\n",
    "    assert {'recipient_id': 'default',\n",
    "            'text': 'hey there Core!'} == out.latest_output()\n",
    "\n",
    "def test_parsing(default_processor):\n",
    "    message = Message('/greet{\"name\": \"boy\"}')\n",
    "    parsed = default_processor._parse_message(message)\n",
    "    assert parsed[\"intent\"][\"name\"] == 'greet'\n",
    "    assert parsed[\"entities\"][0][\"entity\"] == 'name'\n",
    "    for item in parsed:\n",
    "        print(item)\n",
    "        print(\"\\t\", parsed[item])\n",
    "    \n",
    "processor=default_processor(domain, nlg)\n",
    "test_message_processor(processor)\n",
    "test_parsing(processor)"
   ]
  }
 ],
 "metadata": {
  "kernelspec": {
   "display_name": "Python 3",
   "language": "python",
   "name": "python3"
  },
  "language_info": {
   "codemirror_mode": {
    "name": "ipython",
    "version": 3
   },
   "file_extension": ".py",
   "mimetype": "text/x-python",
   "name": "python",
   "nbconvert_exporter": "python",
   "pygments_lexer": "ipython3",
   "version": "3.6.4"
  },
  "varInspector": {
   "cols": {
    "lenName": 16,
    "lenType": 16,
    "lenVar": 40
   },
   "kernels_config": {
    "python": {
     "delete_cmd_postfix": "",
     "delete_cmd_prefix": "del ",
     "library": "var_list.py",
     "varRefreshCmd": "print(var_dic_list())"
    },
    "r": {
     "delete_cmd_postfix": ") ",
     "delete_cmd_prefix": "rm(",
     "library": "var_list.r",
     "varRefreshCmd": "cat(var_dic_list()) "
    }
   },
   "types_to_exclude": [
    "module",
    "function",
    "builtin_function_or_method",
    "instance",
    "_Feature"
   ],
   "window_display": false
  }
 },
 "nbformat": 4,
 "nbformat_minor": 2
}
