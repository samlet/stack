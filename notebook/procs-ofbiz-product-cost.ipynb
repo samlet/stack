{
 "cells": [
  {
   "cell_type": "code",
   "execution_count": 1,
   "metadata": {
    "ExecuteTime": {
     "end_time": "2019-02-09T11:39:33.329308Z",
     "start_time": "2019-02-09T11:39:32.919604Z"
    }
   },
   "outputs": [
    {
     "name": "stdout",
     "output_type": "stream",
     "text": [
      "✔ testScv default 21 2019-02-09 19:39:33.304 ➷ 1 ms\n",
      "True {'responseMessage': 'success', 'resp': 'service done'}\n"
     ]
    }
   ],
   "source": [
    "from sagas.ofbiz.services import OfService as s, oc, track\n",
    "from sagas.ofbiz.entities import OfEntity as e\n",
    "ok, r=track(lambda a: s().testScv(defaultValue=5.5, message=\"hello world\"))\n",
    "print(ok, r)    "
   ]
  },
  {
   "cell_type": "code",
   "execution_count": 2,
   "metadata": {
    "ExecuteTime": {
     "end_time": "2019-02-09T11:41:38.637345Z",
     "start_time": "2019-02-09T11:41:38.291609Z"
    }
   },
   "outputs": [
    {
     "data": {
      "text/plain": [
       "(True, {'responseMessage': 'success', 'totalCost': Decimal('84.000000')})"
      ]
     },
     "execution_count": 2,
     "metadata": {},
     "output_type": "execute_result"
    }
   ],
   "source": [
    "s().calculateProductCosts(productId='PROD_MANUF',\n",
    "                        currencyUomId='USD',\n",
    "                        costComponentTypePrefix='EST_STD')"
   ]
  },
  {
   "cell_type": "code",
   "execution_count": 11,
   "metadata": {
    "ExecuteTime": {
     "end_time": "2019-02-09T11:57:59.821616Z",
     "start_time": "2019-02-09T11:57:59.632395Z"
    }
   },
   "outputs": [
    {
     "data": {
      "text/html": [
       "<div>\n",
       "<style scoped>\n",
       "    .dataframe tbody tr th:only-of-type {\n",
       "        vertical-align: middle;\n",
       "    }\n",
       "\n",
       "    .dataframe tbody tr th {\n",
       "        vertical-align: top;\n",
       "    }\n",
       "\n",
       "    .dataframe thead th {\n",
       "        text-align: right;\n",
       "    }\n",
       "</style>\n",
       "<table border=\"1\" class=\"dataframe\">\n",
       "  <thead>\n",
       "    <tr style=\"text-align: right;\">\n",
       "      <th></th>\n",
       "      <th>workEffortId</th>\n",
       "      <th>lastUpdatedStamp</th>\n",
       "      <th>costComponentTypeId</th>\n",
       "      <th>cost</th>\n",
       "      <th>productId</th>\n",
       "      <th>createdTxStamp</th>\n",
       "      <th>createdStamp</th>\n",
       "      <th>productFeatureId</th>\n",
       "      <th>lastUpdatedTxStamp</th>\n",
       "      <th>costComponentId</th>\n",
       "      <th>costComponentCalcId</th>\n",
       "      <th>thruDate</th>\n",
       "      <th>fromDate</th>\n",
       "      <th>geoId</th>\n",
       "      <th>fixedAssetId</th>\n",
       "      <th>costUomId</th>\n",
       "      <th>partyId</th>\n",
       "    </tr>\n",
       "  </thead>\n",
       "  <tbody>\n",
       "    <tr>\n",
       "      <th>0</th>\n",
       "      <td>None</td>\n",
       "      <td>2019-02-09 19:41:38.448</td>\n",
       "      <td>EST_STD_ROUTE_COST</td>\n",
       "      <td>10.000000</td>\n",
       "      <td>PROD_MANUF</td>\n",
       "      <td>2019-02-09 19:41:38.297</td>\n",
       "      <td>2019-02-09 19:41:38.448</td>\n",
       "      <td>None</td>\n",
       "      <td>2019-02-09 19:41:38.297</td>\n",
       "      <td>10000</td>\n",
       "      <td>None</td>\n",
       "      <td>2119-01-16</td>\n",
       "      <td>2019-02-09 19:41:38.448</td>\n",
       "      <td>None</td>\n",
       "      <td>None</td>\n",
       "      <td>USD</td>\n",
       "      <td>None</td>\n",
       "    </tr>\n",
       "    <tr>\n",
       "      <th>1</th>\n",
       "      <td>None</td>\n",
       "      <td>2019-02-09 19:41:38.455</td>\n",
       "      <td>EST_STD_MAT_COST</td>\n",
       "      <td>39.000000</td>\n",
       "      <td>PROD_MANUF</td>\n",
       "      <td>2019-02-09 19:41:38.297</td>\n",
       "      <td>2019-02-09 19:41:38.455</td>\n",
       "      <td>None</td>\n",
       "      <td>2019-02-09 19:41:38.297</td>\n",
       "      <td>10001</td>\n",
       "      <td>None</td>\n",
       "      <td>2119-01-16</td>\n",
       "      <td>2019-02-09 19:41:38.454</td>\n",
       "      <td>None</td>\n",
       "      <td>None</td>\n",
       "      <td>USD</td>\n",
       "      <td>None</td>\n",
       "    </tr>\n",
       "    <tr>\n",
       "      <th>2</th>\n",
       "      <td>None</td>\n",
       "      <td>2019-02-09 19:41:38.460</td>\n",
       "      <td>EST_STD_OTHER_COST</td>\n",
       "      <td>31.000000</td>\n",
       "      <td>PROD_MANUF</td>\n",
       "      <td>2019-02-09 19:41:38.297</td>\n",
       "      <td>2019-02-09 19:41:38.460</td>\n",
       "      <td>None</td>\n",
       "      <td>2019-02-09 19:41:38.297</td>\n",
       "      <td>10002</td>\n",
       "      <td>None</td>\n",
       "      <td>2119-01-16</td>\n",
       "      <td>2019-02-09 19:41:38.459</td>\n",
       "      <td>None</td>\n",
       "      <td>None</td>\n",
       "      <td>USD</td>\n",
       "      <td>None</td>\n",
       "    </tr>\n",
       "    <tr>\n",
       "      <th>3</th>\n",
       "      <td>None</td>\n",
       "      <td>2019-02-09 19:41:38.616</td>\n",
       "      <td>EST_STD_GEN_COST</td>\n",
       "      <td>4.000000</td>\n",
       "      <td>PROD_MANUF</td>\n",
       "      <td>2019-02-09 19:41:38.297</td>\n",
       "      <td>2019-02-09 19:41:38.616</td>\n",
       "      <td>None</td>\n",
       "      <td>2019-02-09 19:41:38.297</td>\n",
       "      <td>10003</td>\n",
       "      <td>None</td>\n",
       "      <td>2119-01-16</td>\n",
       "      <td>2019-02-09 19:41:38.615</td>\n",
       "      <td>None</td>\n",
       "      <td>None</td>\n",
       "      <td>USD</td>\n",
       "      <td>None</td>\n",
       "    </tr>\n",
       "  </tbody>\n",
       "</table>\n",
       "</div>"
      ],
      "text/plain": [
       "  workEffortId        lastUpdatedStamp costComponentTypeId       cost  \\\n",
       "0         None 2019-02-09 19:41:38.448  EST_STD_ROUTE_COST  10.000000   \n",
       "1         None 2019-02-09 19:41:38.455    EST_STD_MAT_COST  39.000000   \n",
       "2         None 2019-02-09 19:41:38.460  EST_STD_OTHER_COST  31.000000   \n",
       "3         None 2019-02-09 19:41:38.616    EST_STD_GEN_COST   4.000000   \n",
       "\n",
       "    productId          createdTxStamp            createdStamp  \\\n",
       "0  PROD_MANUF 2019-02-09 19:41:38.297 2019-02-09 19:41:38.448   \n",
       "1  PROD_MANUF 2019-02-09 19:41:38.297 2019-02-09 19:41:38.455   \n",
       "2  PROD_MANUF 2019-02-09 19:41:38.297 2019-02-09 19:41:38.460   \n",
       "3  PROD_MANUF 2019-02-09 19:41:38.297 2019-02-09 19:41:38.616   \n",
       "\n",
       "  productFeatureId      lastUpdatedTxStamp costComponentId  \\\n",
       "0             None 2019-02-09 19:41:38.297           10000   \n",
       "1             None 2019-02-09 19:41:38.297           10001   \n",
       "2             None 2019-02-09 19:41:38.297           10002   \n",
       "3             None 2019-02-09 19:41:38.297           10003   \n",
       "\n",
       "  costComponentCalcId    thruDate                fromDate geoId fixedAssetId  \\\n",
       "0                None  2119-01-16 2019-02-09 19:41:38.448  None         None   \n",
       "1                None  2119-01-16 2019-02-09 19:41:38.454  None         None   \n",
       "2                None  2119-01-16 2019-02-09 19:41:38.459  None         None   \n",
       "3                None  2119-01-16 2019-02-09 19:41:38.615  None         None   \n",
       "\n",
       "  costUomId partyId  \n",
       "0       USD    None  \n",
       "1       USD    None  \n",
       "2       USD    None  \n",
       "3       USD    None  "
      ]
     },
     "execution_count": 11,
     "metadata": {},
     "output_type": "execute_result"
    }
   ],
   "source": [
    "from sagas.ofbiz.services import OfService as s, oc, track\n",
    "from sagas.ofbiz.entities import OfEntity as e, default_thru, MetaEntity, record_list_df\n",
    "import pyarrow as pa\n",
    "import datetime\n",
    "\n",
    "def record_list_df(ent_name, records):\n",
    "    ent = MetaEntity(ent_name)\n",
    "    field_names = ent.field_names\n",
    "    data = []\n",
    "    skip_fields = ['lastModifiedDate']\n",
    "    pnames = []\n",
    "    for fld in field_names:\n",
    "        if fld not in skip_fields:\n",
    "            pnames.append(fld)\n",
    "\n",
    "            field_arr = []\n",
    "            model_fld = ent.model.getField(fld)\n",
    "            fld_type = model_fld.getType()\n",
    "            # print('- ', fld, fld_type)\n",
    "            for rec in records:\n",
    "                val = rec[fld]\n",
    "                if val is None:\n",
    "                    if fld == 'thruDate':\n",
    "                        val = default_thru()\n",
    "                elif fld_type == 'date-time':\n",
    "                    time_ms = rec[fld].getTime()\n",
    "                    val = datetime.datetime.fromtimestamp(time_ms / 1000)\n",
    "\n",
    "                field_arr.append(val)\n",
    "            data.append(pa.array(field_arr))\n",
    "\n",
    "    batch = pa.RecordBatch.from_arrays(data, pnames)\n",
    "    batches = [batch]\n",
    "    table = pa.Table.from_batches(batches)\n",
    "    return table.to_pandas()\n",
    "\n",
    "rs=e().queryCostComponent(productId='PROD_MANUF')\n",
    "record_list_df('CostComponent', rs)"
   ]
  },
  {
   "cell_type": "code",
   "execution_count": 1,
   "metadata": {
    "ExecuteTime": {
     "end_time": "2019-02-09T12:16:06.041525Z",
     "start_time": "2019-02-09T12:16:05.311177Z"
    },
    "scrolled": true
   },
   "outputs": [
    {
     "data": {
      "text/html": [
       "<div>\n",
       "<style scoped>\n",
       "    .dataframe tbody tr th:only-of-type {\n",
       "        vertical-align: middle;\n",
       "    }\n",
       "\n",
       "    .dataframe tbody tr th {\n",
       "        vertical-align: top;\n",
       "    }\n",
       "\n",
       "    .dataframe thead th {\n",
       "        text-align: right;\n",
       "    }\n",
       "</style>\n",
       "<table border=\"1\" class=\"dataframe\">\n",
       "  <thead>\n",
       "    <tr style=\"text-align: right;\">\n",
       "      <th></th>\n",
       "      <th>workEffortId</th>\n",
       "      <th>lastUpdatedStamp</th>\n",
       "      <th>costComponentTypeId</th>\n",
       "      <th>cost</th>\n",
       "      <th>productId</th>\n",
       "      <th>createdTxStamp</th>\n",
       "      <th>createdStamp</th>\n",
       "      <th>productFeatureId</th>\n",
       "      <th>lastUpdatedTxStamp</th>\n",
       "      <th>costComponentId</th>\n",
       "      <th>costComponentCalcId</th>\n",
       "      <th>thruDate</th>\n",
       "      <th>fromDate</th>\n",
       "      <th>geoId</th>\n",
       "      <th>fixedAssetId</th>\n",
       "      <th>costUomId</th>\n",
       "      <th>partyId</th>\n",
       "    </tr>\n",
       "  </thead>\n",
       "  <tbody>\n",
       "    <tr>\n",
       "      <th>0</th>\n",
       "      <td>None</td>\n",
       "      <td>2019-02-09 19:41:38.448</td>\n",
       "      <td>EST_STD_ROUTE_COST</td>\n",
       "      <td>10.0</td>\n",
       "      <td>PROD_MANUF</td>\n",
       "      <td>2019-02-09 19:41:38.297</td>\n",
       "      <td>2019-02-09 19:41:38.448</td>\n",
       "      <td>None</td>\n",
       "      <td>2019-02-09 19:41:38.297</td>\n",
       "      <td>10000</td>\n",
       "      <td>None</td>\n",
       "      <td>2119-01-16</td>\n",
       "      <td>2019-02-09 19:41:38.448</td>\n",
       "      <td>None</td>\n",
       "      <td>None</td>\n",
       "      <td>USD</td>\n",
       "      <td>None</td>\n",
       "    </tr>\n",
       "    <tr>\n",
       "      <th>1</th>\n",
       "      <td>None</td>\n",
       "      <td>2019-02-09 19:41:38.455</td>\n",
       "      <td>EST_STD_MAT_COST</td>\n",
       "      <td>39.0</td>\n",
       "      <td>PROD_MANUF</td>\n",
       "      <td>2019-02-09 19:41:38.297</td>\n",
       "      <td>2019-02-09 19:41:38.455</td>\n",
       "      <td>None</td>\n",
       "      <td>2019-02-09 19:41:38.297</td>\n",
       "      <td>10001</td>\n",
       "      <td>None</td>\n",
       "      <td>2119-01-16</td>\n",
       "      <td>2019-02-09 19:41:38.454</td>\n",
       "      <td>None</td>\n",
       "      <td>None</td>\n",
       "      <td>USD</td>\n",
       "      <td>None</td>\n",
       "    </tr>\n",
       "    <tr>\n",
       "      <th>2</th>\n",
       "      <td>None</td>\n",
       "      <td>2019-02-09 19:41:38.460</td>\n",
       "      <td>EST_STD_OTHER_COST</td>\n",
       "      <td>31.0</td>\n",
       "      <td>PROD_MANUF</td>\n",
       "      <td>2019-02-09 19:41:38.297</td>\n",
       "      <td>2019-02-09 19:41:38.460</td>\n",
       "      <td>None</td>\n",
       "      <td>2019-02-09 19:41:38.297</td>\n",
       "      <td>10002</td>\n",
       "      <td>None</td>\n",
       "      <td>2119-01-16</td>\n",
       "      <td>2019-02-09 19:41:38.459</td>\n",
       "      <td>None</td>\n",
       "      <td>None</td>\n",
       "      <td>USD</td>\n",
       "      <td>None</td>\n",
       "    </tr>\n",
       "    <tr>\n",
       "      <th>3</th>\n",
       "      <td>None</td>\n",
       "      <td>2019-02-09 19:41:38.616</td>\n",
       "      <td>EST_STD_GEN_COST</td>\n",
       "      <td>4.0</td>\n",
       "      <td>PROD_MANUF</td>\n",
       "      <td>2019-02-09 19:41:38.297</td>\n",
       "      <td>2019-02-09 19:41:38.616</td>\n",
       "      <td>None</td>\n",
       "      <td>2019-02-09 19:41:38.297</td>\n",
       "      <td>10003</td>\n",
       "      <td>None</td>\n",
       "      <td>2119-01-16</td>\n",
       "      <td>2019-02-09 19:41:38.615</td>\n",
       "      <td>None</td>\n",
       "      <td>None</td>\n",
       "      <td>USD</td>\n",
       "      <td>None</td>\n",
       "    </tr>\n",
       "  </tbody>\n",
       "</table>\n",
       "</div>"
      ],
      "text/plain": [
       "  workEffortId        lastUpdatedStamp costComponentTypeId  cost   productId  \\\n",
       "0         None 2019-02-09 19:41:38.448  EST_STD_ROUTE_COST  10.0  PROD_MANUF   \n",
       "1         None 2019-02-09 19:41:38.455    EST_STD_MAT_COST  39.0  PROD_MANUF   \n",
       "2         None 2019-02-09 19:41:38.460  EST_STD_OTHER_COST  31.0  PROD_MANUF   \n",
       "3         None 2019-02-09 19:41:38.616    EST_STD_GEN_COST   4.0  PROD_MANUF   \n",
       "\n",
       "           createdTxStamp            createdStamp productFeatureId  \\\n",
       "0 2019-02-09 19:41:38.297 2019-02-09 19:41:38.448             None   \n",
       "1 2019-02-09 19:41:38.297 2019-02-09 19:41:38.455             None   \n",
       "2 2019-02-09 19:41:38.297 2019-02-09 19:41:38.460             None   \n",
       "3 2019-02-09 19:41:38.297 2019-02-09 19:41:38.616             None   \n",
       "\n",
       "       lastUpdatedTxStamp costComponentId costComponentCalcId    thruDate  \\\n",
       "0 2019-02-09 19:41:38.297           10000                None  2119-01-16   \n",
       "1 2019-02-09 19:41:38.297           10001                None  2119-01-16   \n",
       "2 2019-02-09 19:41:38.297           10002                None  2119-01-16   \n",
       "3 2019-02-09 19:41:38.297           10003                None  2119-01-16   \n",
       "\n",
       "                 fromDate geoId fixedAssetId costUomId partyId  \n",
       "0 2019-02-09 19:41:38.448  None         None       USD    None  \n",
       "1 2019-02-09 19:41:38.454  None         None       USD    None  \n",
       "2 2019-02-09 19:41:38.459  None         None       USD    None  \n",
       "3 2019-02-09 19:41:38.615  None         None       USD    None  "
      ]
     },
     "execution_count": 1,
     "metadata": {},
     "output_type": "execute_result"
    }
   ],
   "source": [
    "from sagas.ofbiz.services import OfService as s, oc, track\n",
    "from sagas.ofbiz.entities import OfEntity as e, record_list_df\n",
    "\n",
    "rs=e('df').queryCostComponent(productId='PROD_MANUF')\n",
    "rs"
   ]
  },
  {
   "cell_type": "code",
   "execution_count": 2,
   "metadata": {
    "ExecuteTime": {
     "end_time": "2019-02-09T12:16:15.009632Z",
     "start_time": "2019-02-09T12:16:15.001341Z"
    }
   },
   "outputs": [
    {
     "name": "stdout",
     "output_type": "stream",
     "text": [
      "<class 'pandas.core.frame.DataFrame'>\n",
      "RangeIndex: 4 entries, 0 to 3\n",
      "Data columns (total 17 columns):\n",
      "workEffortId           0 non-null object\n",
      "lastUpdatedStamp       4 non-null datetime64[ns]\n",
      "costComponentTypeId    4 non-null object\n",
      "cost                   4 non-null float64\n",
      "productId              4 non-null object\n",
      "createdTxStamp         4 non-null datetime64[ns]\n",
      "createdStamp           4 non-null datetime64[ns]\n",
      "productFeatureId       0 non-null object\n",
      "lastUpdatedTxStamp     4 non-null datetime64[ns]\n",
      "costComponentId        4 non-null object\n",
      "costComponentCalcId    0 non-null object\n",
      "thruDate               4 non-null object\n",
      "fromDate               4 non-null datetime64[ns]\n",
      "geoId                  0 non-null object\n",
      "fixedAssetId           0 non-null object\n",
      "costUomId              4 non-null object\n",
      "partyId                0 non-null object\n",
      "dtypes: datetime64[ns](5), float64(1), object(11)\n",
      "memory usage: 624.0+ bytes\n"
     ]
    }
   ],
   "source": [
    "rs.info()"
   ]
  },
  {
   "cell_type": "code",
   "execution_count": 4,
   "metadata": {
    "ExecuteTime": {
     "end_time": "2019-02-09T12:16:56.712455Z",
     "start_time": "2019-02-09T12:16:56.699987Z"
    }
   },
   "outputs": [
    {
     "data": {
      "text/plain": [
       "count     4.000000\n",
       "mean     21.000000\n",
       "std      16.673332\n",
       "min       4.000000\n",
       "25%       8.500000\n",
       "50%      20.500000\n",
       "75%      33.000000\n",
       "max      39.000000\n",
       "Name: cost, dtype: float64"
      ]
     },
     "execution_count": 4,
     "metadata": {},
     "output_type": "execute_result"
    }
   ],
   "source": [
    "rs['cost'].describe()"
   ]
  },
  {
   "cell_type": "code",
   "execution_count": 5,
   "metadata": {
    "ExecuteTime": {
     "end_time": "2019-02-09T12:17:44.535995Z",
     "start_time": "2019-02-09T12:17:44.528733Z"
    }
   },
   "outputs": [
    {
     "data": {
      "text/plain": [
       "84.0"
      ]
     },
     "execution_count": 5,
     "metadata": {},
     "output_type": "execute_result"
    }
   ],
   "source": [
    "rs['cost'].sum()"
   ]
  },
  {
   "cell_type": "code",
   "execution_count": 5,
   "metadata": {
    "ExecuteTime": {
     "end_time": "2019-02-09T12:13:15.470234Z",
     "start_time": "2019-02-09T12:13:15.423565Z"
    }
   },
   "outputs": [
    {
     "data": {
      "text/html": [
       "<div>\n",
       "<style scoped>\n",
       "    .dataframe tbody tr th:only-of-type {\n",
       "        vertical-align: middle;\n",
       "    }\n",
       "\n",
       "    .dataframe tbody tr th {\n",
       "        vertical-align: top;\n",
       "    }\n",
       "\n",
       "    .dataframe thead th {\n",
       "        text-align: right;\n",
       "    }\n",
       "</style>\n",
       "<table border=\"1\" class=\"dataframe\">\n",
       "  <thead>\n",
       "    <tr style=\"text-align: right;\">\n",
       "      <th></th>\n",
       "      <th>name</th>\n",
       "      <th>primary</th>\n",
       "      <th>type</th>\n",
       "      <th>field type</th>\n",
       "    </tr>\n",
       "  </thead>\n",
       "  <tbody>\n",
       "    <tr>\n",
       "      <th>0</th>\n",
       "      <td>costComponentId</td>\n",
       "      <td>*</td>\n",
       "      <td>id</td>\n",
       "      <td>id</td>\n",
       "    </tr>\n",
       "    <tr>\n",
       "      <th>1</th>\n",
       "      <td>costComponentTypeId</td>\n",
       "      <td></td>\n",
       "      <td>id</td>\n",
       "      <td>id</td>\n",
       "    </tr>\n",
       "    <tr>\n",
       "      <th>2</th>\n",
       "      <td>productId</td>\n",
       "      <td></td>\n",
       "      <td>id</td>\n",
       "      <td>id</td>\n",
       "    </tr>\n",
       "    <tr>\n",
       "      <th>3</th>\n",
       "      <td>productFeatureId</td>\n",
       "      <td></td>\n",
       "      <td>id</td>\n",
       "      <td>id</td>\n",
       "    </tr>\n",
       "    <tr>\n",
       "      <th>4</th>\n",
       "      <td>partyId</td>\n",
       "      <td></td>\n",
       "      <td>id</td>\n",
       "      <td>id</td>\n",
       "    </tr>\n",
       "    <tr>\n",
       "      <th>5</th>\n",
       "      <td>geoId</td>\n",
       "      <td></td>\n",
       "      <td>id</td>\n",
       "      <td>id</td>\n",
       "    </tr>\n",
       "    <tr>\n",
       "      <th>6</th>\n",
       "      <td>workEffortId</td>\n",
       "      <td></td>\n",
       "      <td>id</td>\n",
       "      <td>id</td>\n",
       "    </tr>\n",
       "    <tr>\n",
       "      <th>7</th>\n",
       "      <td>fixedAssetId</td>\n",
       "      <td></td>\n",
       "      <td>id</td>\n",
       "      <td>id</td>\n",
       "    </tr>\n",
       "    <tr>\n",
       "      <th>8</th>\n",
       "      <td>costComponentCalcId</td>\n",
       "      <td></td>\n",
       "      <td>id</td>\n",
       "      <td>id</td>\n",
       "    </tr>\n",
       "    <tr>\n",
       "      <th>9</th>\n",
       "      <td>fromDate</td>\n",
       "      <td></td>\n",
       "      <td>date-time</td>\n",
       "      <td>date-time</td>\n",
       "    </tr>\n",
       "    <tr>\n",
       "      <th>10</th>\n",
       "      <td>thruDate</td>\n",
       "      <td></td>\n",
       "      <td>date-time</td>\n",
       "      <td>date-time</td>\n",
       "    </tr>\n",
       "    <tr>\n",
       "      <th>11</th>\n",
       "      <td>cost</td>\n",
       "      <td></td>\n",
       "      <td>fixed-point</td>\n",
       "      <td>fixed-point</td>\n",
       "    </tr>\n",
       "    <tr>\n",
       "      <th>12</th>\n",
       "      <td>costUomId</td>\n",
       "      <td></td>\n",
       "      <td>id</td>\n",
       "      <td>id</td>\n",
       "    </tr>\n",
       "    <tr>\n",
       "      <th>13</th>\n",
       "      <td>lastUpdatedStamp</td>\n",
       "      <td></td>\n",
       "      <td>date-time</td>\n",
       "      <td>date-time</td>\n",
       "    </tr>\n",
       "    <tr>\n",
       "      <th>14</th>\n",
       "      <td>lastUpdatedTxStamp</td>\n",
       "      <td></td>\n",
       "      <td>date-time</td>\n",
       "      <td>date-time</td>\n",
       "    </tr>\n",
       "    <tr>\n",
       "      <th>15</th>\n",
       "      <td>createdStamp</td>\n",
       "      <td></td>\n",
       "      <td>date-time</td>\n",
       "      <td>date-time</td>\n",
       "    </tr>\n",
       "    <tr>\n",
       "      <th>16</th>\n",
       "      <td>createdTxStamp</td>\n",
       "      <td></td>\n",
       "      <td>date-time</td>\n",
       "      <td>date-time</td>\n",
       "    </tr>\n",
       "  </tbody>\n",
       "</table>\n",
       "</div>"
      ],
      "text/plain": [
       "                   name primary         type   field type\n",
       "0       costComponentId       *           id           id\n",
       "1   costComponentTypeId                   id           id\n",
       "2             productId                   id           id\n",
       "3      productFeatureId                   id           id\n",
       "4               partyId                   id           id\n",
       "5                 geoId                   id           id\n",
       "6          workEffortId                   id           id\n",
       "7          fixedAssetId                   id           id\n",
       "8   costComponentCalcId                   id           id\n",
       "9              fromDate            date-time    date-time\n",
       "10             thruDate            date-time    date-time\n",
       "11                 cost          fixed-point  fixed-point\n",
       "12            costUomId                   id           id\n",
       "13     lastUpdatedStamp            date-time    date-time\n",
       "14   lastUpdatedTxStamp            date-time    date-time\n",
       "15         createdStamp            date-time    date-time\n",
       "16       createdTxStamp            date-time    date-time"
      ]
     },
     "execution_count": 5,
     "metadata": {},
     "output_type": "execute_result"
    }
   ],
   "source": [
    "e('meta').CostComponent"
   ]
  },
  {
   "cell_type": "code",
   "execution_count": 6,
   "metadata": {
    "ExecuteTime": {
     "end_time": "2019-02-09T12:20:00.210221Z",
     "start_time": "2019-02-09T12:20:00.123410Z"
    }
   },
   "outputs": [
    {
     "data": {
      "text/plain": [
       "(True, {'responseMessage': 'success', 'productCost': Decimal('84.000000')})"
      ]
     },
     "execution_count": 6,
     "metadata": {},
     "output_type": "execute_result"
    }
   ],
   "source": [
    "s().getProductCost(productId='PROD_MANUF',\n",
    "                currencyUomId='USD',\n",
    "                costComponentTypePrefix='EST_STD')"
   ]
  }
 ],
 "metadata": {
  "kernelspec": {
   "display_name": "Python 3",
   "language": "python",
   "name": "python3"
  },
  "language_info": {
   "codemirror_mode": {
    "name": "ipython",
    "version": 3
   },
   "file_extension": ".py",
   "mimetype": "text/x-python",
   "name": "python",
   "nbconvert_exporter": "python",
   "pygments_lexer": "ipython3",
   "version": "3.6.4"
  },
  "varInspector": {
   "cols": {
    "lenName": 16,
    "lenType": 16,
    "lenVar": 40
   },
   "kernels_config": {
    "python": {
     "delete_cmd_postfix": "",
     "delete_cmd_prefix": "del ",
     "library": "var_list.py",
     "varRefreshCmd": "print(var_dic_list())"
    },
    "r": {
     "delete_cmd_postfix": ") ",
     "delete_cmd_prefix": "rm(",
     "library": "var_list.r",
     "varRefreshCmd": "cat(var_dic_list()) "
    }
   },
   "types_to_exclude": [
    "module",
    "function",
    "builtin_function_or_method",
    "instance",
    "_Feature"
   ],
   "window_display": false
  }
 },
 "nbformat": 4,
 "nbformat_minor": 2
}
