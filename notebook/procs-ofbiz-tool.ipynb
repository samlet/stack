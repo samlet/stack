{
 "cells": [
  {
   "cell_type": "code",
   "execution_count": 14,
   "metadata": {
    "ExecuteTime": {
     "end_time": "2019-02-09T10:05:13.704928Z",
     "start_time": "2019-02-09T10:05:13.518392Z"
    }
   },
   "outputs": [
    {
     "name": "stdout",
     "output_type": "stream",
     "text": [
      "root routine\n",
      "productId='Test_product_C',\n",
      "productPriceTypeId='AVERAGE_COST',\n",
      "productPricePurposeId='COMPONENT_PRICE',\n",
      "productStoreGroupId='Test_group',\n",
      "currencyUomId='USD',\n",
      "price=oc.j.BigDecimal(50),\n",
      "fromDate=oc.j.Timestamp.valueOf('2013-07-04 00:00:00')\n"
     ]
    }
   ],
   "source": [
    "import xml.etree.ElementTree as ET\n",
    "import clipboard\n",
    "\n",
    "sett='''\n",
    "<set field=\"serviceCtx.productId\" value=\"Test_product_C\"/>\n",
    "        <set field=\"serviceCtx.productPriceTypeId\" value=\"AVERAGE_COST\"/>\n",
    "        <set field=\"serviceCtx.productPricePurposeId\" value=\"COMPONENT_PRICE\"/>\n",
    "        <set field=\"serviceCtx.productStoreGroupId\" value=\"Test_group\"/>\n",
    "        <set field=\"serviceCtx.currencyUomId\" value=\"USD\"/>\n",
    "        <set field=\"serviceCtx.price\" type=\"BigDecimal\" value=\"50\"/>\n",
    "        <set field=\"serviceCtx.fromDate\" type=\"Timestamp\" value=\"2013-07-04 00:00:00\"/>\n",
    "'''\n",
    "root = ET.fromstring('<routine>'+sett+'</routine>')\n",
    "print('root', root.tag)\n",
    "result=[]\n",
    "for setter in root.findall('set'):\n",
    "    field=setter.get('field')\n",
    "    type=setter.get('type')\n",
    "    value=setter.get('value')\n",
    "    if field.startswith(\"serviceCtx.\"):\n",
    "        if type=='BigDecimal':\n",
    "            value='oc.j.BigDecimal('+value+')'\n",
    "        elif type=='Timestamp':\n",
    "            value=\"oc.j.Timestamp.valueOf('\"+value+\"')\"\n",
    "        else:\n",
    "            value=\"'\"+value+\"'\"\n",
    "        line=\"{}={}\".format(field.split('.')[1], value)\n",
    "        result.append(line)\n",
    "\n",
    "text=\",\\n\".join(result)\n",
    "print(text)\n",
    "clipboard.copy(text)"
   ]
  },
  {
   "cell_type": "code",
   "execution_count": null,
   "metadata": {},
   "outputs": [],
   "source": [
    "sett = clipboard.paste()"
   ]
  }
 ],
 "metadata": {
  "kernelspec": {
   "display_name": "Python 3",
   "language": "python",
   "name": "python3"
  },
  "language_info": {
   "codemirror_mode": {
    "name": "ipython",
    "version": 3
   },
   "file_extension": ".py",
   "mimetype": "text/x-python",
   "name": "python",
   "nbconvert_exporter": "python",
   "pygments_lexer": "ipython3",
   "version": "3.6.4"
  },
  "varInspector": {
   "cols": {
    "lenName": 16,
    "lenType": 16,
    "lenVar": 40
   },
   "kernels_config": {
    "python": {
     "delete_cmd_postfix": "",
     "delete_cmd_prefix": "del ",
     "library": "var_list.py",
     "varRefreshCmd": "print(var_dic_list())"
    },
    "r": {
     "delete_cmd_postfix": ") ",
     "delete_cmd_prefix": "rm(",
     "library": "var_list.r",
     "varRefreshCmd": "cat(var_dic_list()) "
    }
   },
   "types_to_exclude": [
    "module",
    "function",
    "builtin_function_or_method",
    "instance",
    "_Feature"
   ],
   "window_display": false
  }
 },
 "nbformat": 4,
 "nbformat_minor": 2
}
