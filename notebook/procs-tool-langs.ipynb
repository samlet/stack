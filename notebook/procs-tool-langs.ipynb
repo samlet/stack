{
 "cells": [
  {
   "cell_type": "code",
   "execution_count": 8,
   "metadata": {
    "ExecuteTime": {
     "end_time": "2020-01-16T04:57:12.382530Z",
     "start_time": "2020-01-16T04:57:12.320744Z"
    }
   },
   "outputs": [
    {
     "name": "stdout",
     "output_type": "stream",
     "text": [
      "The autoreload extension is already loaded. To reload it, use:\n",
      "  %reload_ext autoreload\n"
     ]
    }
   ],
   "source": [
    "%load_ext autoreload\n",
    "%autoreload 2"
   ]
  },
  {
   "cell_type": "code",
   "execution_count": 1,
   "metadata": {
    "ExecuteTime": {
     "end_time": "2020-01-11T11:17:15.459748Z",
     "start_time": "2020-01-11T11:17:14.186848Z"
    }
   },
   "outputs": [
    {
     "data": {
      "text/plain": [
       "('predicts',\n",
       " [{'type': 'predicate',\n",
       "   'lemma': '便利だ',\n",
       "   'index': 2,\n",
       "   'phonetic': 'べんりだ',\n",
       "   'word': '便利じゃない。',\n",
       "   'rel': 'D',\n",
       "   'governor': 0,\n",
       "   'pos': 'adj',\n",
       "   'domains': [['ガ', 1, 'パソコンは', 'パソコン', ['パソコン'], ['c_noun', 'x_n']]],\n",
       "   'stems': []}])"
      ]
     },
     "execution_count": 1,
     "metadata": {},
     "output_type": "execute_result"
    }
   ],
   "source": [
    "from sagas.nlu.ruleset_procs import cached_chunks, get_main_domains\n",
    "get_main_domains('彼のパソコンは便利じゃない。', 'ja', 'knp')"
   ]
  },
  {
   "cell_type": "code",
   "execution_count": 1,
   "metadata": {
    "ExecuteTime": {
     "end_time": "2020-01-16T03:46:10.298787Z",
     "start_time": "2020-01-16T03:46:09.575467Z"
    }
   },
   "outputs": [
    {
     "name": "stdout",
     "output_type": "stream",
     "text": [
      "predicate 便利じゃない。 便利だ ['pos', 'rel', 'lemma', 'word', 'stems', 'lang', 'sents']\n",
      "[['ガ', 1, 'パソコンは', 'パソコン', ['パソコン'], ['c_noun', 'x_n']]]\n",
      "\u001b[31m✔ (_none_) subj with pos is ('adj',): True, ガ is kind_of(artifact,n): True\u001b[0m\n",
      "\u001b[32m.. results 1\u001b[0m\n",
      "\u001b[33m{'kind_of/default/ガ'}\u001b[0m\n"
     ]
    },
    {
     "data": {
      "text/plain": [
       "{'kind_of/default/...': {'category': 'artifact', 'pos': 'n'}}"
      ]
     },
     "metadata": {},
     "output_type": "display_data"
    }
   ],
   "source": [
    "from sagas.tool.dynamic_rules import dynamic_rule\n",
    "data = {'lang': 'ja', \"sents\": '彼のパソコンは便利じゃない。'}\n",
    "dynamic_rule(data, \"\"\"subj('adj',ガ=kindof('artifact', 'n'))\"\"\", \n",
    "             engine='knp')"
   ]
  },
  {
   "cell_type": "code",
   "execution_count": 9,
   "metadata": {
    "ExecuteTime": {
     "end_time": "2020-01-16T04:57:19.992959Z",
     "start_time": "2020-01-16T04:57:19.754570Z"
    }
   },
   "outputs": [
    {
     "name": "stdout",
     "output_type": "stream",
     "text": [
      "aux_domains will will ['pos', 'head', 'lemma', 'word', 'stems', 'lang', 'sents']\n",
      "[('nsubj', '1', 'what', 'what', ['what'], ['c_pron', 'x_wp']),\n",
      " ('aux', '2', 'will', 'will', ['will'], ['c_aux', 'x_md']),\n",
      " ('cop', '3', 'be', 'be', ['be'], ['c_aux', 'x_vb']),\n",
      " ('det', '4', 'the', 'the', ['the'], ['c_det', 'x_dt']),\n",
      " ('nmod', '8', 'days', 'day', ['in', 'three', 'days'], ['c_noun', 'x_nns']),\n",
      " ('punct', '9', '?', '?', ['?'], ['c_punct', 'x_.'])]\n",
      "\u001b[31m✔ (_none_) root with pos is predicts: True\u001b[0m\n",
      "aux_domains be be ['pos', 'head', 'lemma', 'word', 'stems', 'lang', 'sents']\n",
      "[('nsubj', '1', 'what', 'what', ['what'], ['c_pron', 'x_wp']),\n",
      " ('aux', '2', 'will', 'will', ['will'], ['c_aux', 'x_md']),\n",
      " ('cop', '3', 'be', 'be', ['be'], ['c_aux', 'x_vb']),\n",
      " ('det', '4', 'the', 'the', ['the'], ['c_det', 'x_dt']),\n",
      " ('nmod', '8', 'days', 'day', ['in', 'three', 'days'], ['c_noun', 'x_nns']),\n",
      " ('punct', '9', '?', '?', ['?'], ['c_punct', 'x_.'])]\n",
      "\u001b[31m✔ (_none_) root with pos is predicts: True\u001b[0m\n"
     ]
    }
   ],
   "source": [
    "from sagas.tool.dynamic_rules import dynamic_rule\n",
    "\n",
    "data = {'lang': 'en', \"sents\": 'what will be the weather in three days?'}\n",
    "dynamic_rule(data, \"\"\"root(predict_aux(\n",
    "                ud.__text('will') >> [ud.nsubj('what'), ud.dc_cat('weather')]))\"\"\")"
   ]
  },
  {
   "cell_type": "code",
   "execution_count": 1,
   "metadata": {
    "ExecuteTime": {
     "end_time": "2020-01-16T04:57:38.003359Z",
     "start_time": "2020-01-16T04:57:36.667885Z"
    }
   },
   "outputs": [
    {
     "name": "stdout",
     "output_type": "stream",
     "text": [
      "verb_domains dilindungi dilindungi ['rel', 'lemma', 'word', 'stems', 'lang', 'sents']\n",
      "[('nsubj:pass', '4', 'yang', 'yang', ['yang'], ['c_pron', 'x_s--']),\n",
      " ('head_acl', '3', 'hewan', 'hewan', ['hewan'], ['c_noun', 'x_nsd'])]\n",
      "\u001b[31m✔ (_none_) verb with pos is behave_of(protect,v): True, head_acl is kind_of(animal,n): True, nsubj:pass is ins_match(equals: yang): True\u001b[0m\n",
      "\u001b[32m.. results 2\u001b[0m\n",
      "\u001b[33m{'kind_of/default/head_acl', 'behave_of/default/predicate'}\u001b[0m\n"
     ]
    },
    {
     "data": {
      "text/plain": [
       "{'behave_of/default/...': {'category': 'protect', 'pos': 'v'},\n",
       " 'kind_of/default/...': {'category': 'animal', 'pos': 'n'}}"
      ]
     },
     "metadata": {},
     "output_type": "display_data"
    }
   ],
   "source": [
    "from sagas.tool.dynamic_rules import dynamic_rule\n",
    "# \"大象是保护动物。\"\n",
    "data = {'lang': 'id', \"sents\": 'Gajah adalah hewan yang dilindungi.'}\n",
    "dynamic_rule(data, \"\"\"verb(behaveof('protect', 'v'), head_acl=kindof('animal', 'n'), nsubj_pass=matchins('yang'))\"\"\")"
   ]
  }
 ],
 "metadata": {
  "kernelspec": {
   "display_name": "Python 3",
   "language": "python",
   "name": "python3"
  },
  "language_info": {
   "codemirror_mode": {
    "name": "ipython",
    "version": 3
   },
   "file_extension": ".py",
   "mimetype": "text/x-python",
   "name": "python",
   "nbconvert_exporter": "python",
   "pygments_lexer": "ipython3",
   "version": "3.6.9"
  },
  "varInspector": {
   "cols": {
    "lenName": 16,
    "lenType": 16,
    "lenVar": 40
   },
   "kernels_config": {
    "python": {
     "delete_cmd_postfix": "",
     "delete_cmd_prefix": "del ",
     "library": "var_list.py",
     "varRefreshCmd": "print(var_dic_list())"
    },
    "r": {
     "delete_cmd_postfix": ") ",
     "delete_cmd_prefix": "rm(",
     "library": "var_list.r",
     "varRefreshCmd": "cat(var_dic_list()) "
    }
   },
   "types_to_exclude": [
    "module",
    "function",
    "builtin_function_or_method",
    "instance",
    "_Feature"
   ],
   "window_display": false
  }
 },
 "nbformat": 4,
 "nbformat_minor": 2
}
