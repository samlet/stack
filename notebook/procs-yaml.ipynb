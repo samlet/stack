{
 "cells": [
  {
   "cell_type": "code",
   "execution_count": 1,
   "metadata": {
    "ExecuteTime": {
     "end_time": "2019-03-19T07:41:22.819367Z",
     "start_time": "2019-03-19T07:41:22.768927Z"
    }
   },
   "outputs": [
    {
     "name": "stdout",
     "output_type": "stream",
     "text": [
      "# example\n",
      "name:\n",
      "  # details\n",
      "  family: Smith   # very common\n",
      "  given: Bob      # one of the siblings\n"
     ]
    }
   ],
   "source": [
    "import sys\n",
    "from ruamel.yaml import YAML\n",
    "\n",
    "inp = \"\"\"\\\n",
    "# example\n",
    "name:\n",
    "  # details\n",
    "  family: Smith   # very common\n",
    "  given: Alice    # one of the siblings\n",
    "\"\"\"\n",
    "\n",
    "yaml = YAML()\n",
    "code = yaml.load(inp)\n",
    "code['name']['given'] = 'Bob'\n",
    "\n",
    "yaml.dump(code, sys.stdout)"
   ]
  },
  {
   "cell_type": "code",
   "execution_count": 5,
   "metadata": {
    "ExecuteTime": {
     "end_time": "2019-03-19T07:49:57.495330Z",
     "start_time": "2019-03-19T07:49:57.488844Z"
    }
   },
   "outputs": [
    {
     "data": {
      "text/plain": [
       "[{'state': 'idle', 'status': 4},\n",
       " {'state': 'running', 'status': 4},\n",
       " {'state': 'stopped'}]"
      ]
     },
     "execution_count": 5,
     "metadata": {},
     "output_type": "execute_result"
    }
   ],
   "source": [
    "import yaml\n",
    "\n",
    "inp='''\n",
    "- state: idle\n",
    "  status: 4\n",
    "- state: running\n",
    "  status: 4\n",
    "- state: stopped\n",
    "\n",
    "'''\n",
    "yaml.load(inp)"
   ]
  },
  {
   "cell_type": "code",
   "execution_count": 11,
   "metadata": {
    "ExecuteTime": {
     "end_time": "2019-03-19T07:54:30.702158Z",
     "start_time": "2019-03-19T07:54:30.695569Z"
    }
   },
   "outputs": [
    {
     "name": "stdout",
     "output_type": "stream",
     "text": [
      "{'hero': {'hp': 34, 'sp': 8, 'level': 4}, 'orc': {'hp': 12, 'sp': 0, 'level': 2}}\n",
      "{'hp': 34, 'sp': 8, 'level': 4}\n",
      "{'hp': 12, 'sp': 0, 'level': 2}\n"
     ]
    }
   ],
   "source": [
    "inp='''\n",
    "hero:\n",
    "  hp: 34\n",
    "  sp: 8\n",
    "  level: 4\n",
    "orc:\n",
    "  hp: 12\n",
    "  sp: 0\n",
    "  level: 2\n",
    "'''\n",
    "data=yaml.load(inp)\n",
    "print(data)\n",
    "for el in data:\n",
    "    print(data[el])"
   ]
  },
  {
   "cell_type": "code",
   "execution_count": 12,
   "metadata": {
    "ExecuteTime": {
     "end_time": "2019-03-19T08:04:05.623434Z",
     "start_time": "2019-03-19T08:04:05.617733Z"
    }
   },
   "outputs": [
    {
     "name": "stdout",
     "output_type": "stream",
     "text": [
      "{'Available': {'Take': {'go': 'Taken', 'using': 'duration'}}}\n"
     ]
    }
   ],
   "source": [
    "inp='''\n",
    "Chopstick:\n",
    "    Available:\n",
    "        Take: {go: Taken, using: duration}\n",
    "\n",
    "'''\n",
    "data=yaml.load(inp)\n",
    "for el in data:\n",
    "    print(data[el])"
   ]
  }
 ],
 "metadata": {
  "kernelspec": {
   "display_name": "Python 3",
   "language": "python",
   "name": "python3"
  },
  "language_info": {
   "codemirror_mode": {
    "name": "ipython",
    "version": 3
   },
   "file_extension": ".py",
   "mimetype": "text/x-python",
   "name": "python",
   "nbconvert_exporter": "python",
   "pygments_lexer": "ipython3",
   "version": "3.6.4"
  },
  "varInspector": {
   "cols": {
    "lenName": 16,
    "lenType": 16,
    "lenVar": 40
   },
   "kernels_config": {
    "python": {
     "delete_cmd_postfix": "",
     "delete_cmd_prefix": "del ",
     "library": "var_list.py",
     "varRefreshCmd": "print(var_dic_list())"
    },
    "r": {
     "delete_cmd_postfix": ") ",
     "delete_cmd_prefix": "rm(",
     "library": "var_list.r",
     "varRefreshCmd": "cat(var_dic_list()) "
    }
   },
   "types_to_exclude": [
    "module",
    "function",
    "builtin_function_or_method",
    "instance",
    "_Feature"
   ],
   "window_display": false
  }
 },
 "nbformat": 4,
 "nbformat_minor": 2
}
