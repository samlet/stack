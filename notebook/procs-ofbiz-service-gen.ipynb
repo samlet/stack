{
 "cells": [
  {
   "cell_type": "code",
   "execution_count": 1,
   "metadata": {
    "ExecuteTime": {
     "end_time": "2019-02-13T13:43:21.065393Z",
     "start_time": "2019-02-13T13:43:20.748798Z"
    }
   },
   "outputs": [],
   "source": [
    "%matplotlib inline"
   ]
  },
  {
   "cell_type": "code",
   "execution_count": 1,
   "metadata": {
    "ExecuteTime": {
     "end_time": "2019-02-14T13:41:29.833523Z",
     "start_time": "2019-02-14T13:41:29.794998Z"
    }
   },
   "outputs": [
    {
     "data": {
      "text/plain": [
       "'0.10.8.1'"
      ]
     },
     "execution_count": 1,
     "metadata": {},
     "output_type": "execute_result"
    }
   ],
   "source": [
    "import py4j\n",
    "py4j.__version__"
   ]
  },
  {
   "cell_type": "code",
   "execution_count": 1,
   "metadata": {
    "ExecuteTime": {
     "end_time": "2019-02-16T09:03:08.120509Z",
     "start_time": "2019-02-16T09:03:07.604032Z"
    }
   },
   "outputs": [
    {
     "name": "stdout",
     "output_type": "stream",
     "text": [
      "✔ testScv default 21 2019-02-16 17:03:08.087 ➷ 14 ms\n",
      "True {'responseMessage': 'success', 'resp': 'service done'}\n"
     ]
    }
   ],
   "source": [
    "from sagas.ofbiz.services import OfService as s, oc, track\n",
    "from sagas.ofbiz.entities import OfEntity as e\n",
    "from py4j.java_gateway import get_field\n",
    "ok, r=track(lambda a: s().testScv(defaultValue=5.5, message=\"hello world\"))\n",
    "print(ok, r) "
   ]
  },
  {
   "cell_type": "code",
   "execution_count": 11,
   "metadata": {
    "ExecuteTime": {
     "end_time": "2019-02-14T13:52:30.405597Z",
     "start_time": "2019-02-14T13:52:30.384711Z"
    }
   },
   "outputs": [
    {
     "name": "stdout",
     "output_type": "stream",
     "text": [
      "An error occurred while calling o141.findList.\n",
      "org.apache.ofbiz.entity.GenericModelException: Could not find definition for entity name Tests (Could not find definition for entity name Tests)\n"
     ]
    }
   ],
   "source": [
    "from sagas.ofbiz.entities import OfEntity as e, finder\n",
    "from py4j.protocol import Py4JError\n",
    "\n",
    "entity=\"Tests\"\n",
    "limit=1\n",
    "start=5\n",
    "\n",
    "try:\n",
    "    result = finder.find_list(entity, limit, start)\n",
    "    print(oc.j.ValueHelper.valueListToJson(result))\n",
    "except Py4JError as e:\n",
    "    print(e.errmsg+e.java_exception.getMessage())    "
   ]
  },
  {
   "cell_type": "code",
   "execution_count": 2,
   "metadata": {
    "ExecuteTime": {
     "end_time": "2019-02-16T12:46:32.232579Z",
     "start_time": "2019-02-16T12:46:31.723713Z"
    }
   },
   "outputs": [
    {
     "name": "stdout",
     "output_type": "stream",
     "text": [
      "False {'_result': 1, 'messages': ['Type conversion of field [defaultValue] to type [Double] failed for value \"x\": org.apache.ofbiz.base.util.GeneralException: java.text.ParseException: Unparseable number: \"x\" (java.text.ParseException: Unparseable number: \"x\")']}\n"
     ]
    }
   ],
   "source": [
    "from sagas.ofbiz.services import OfService as s, oc, track\n",
    "ok, r=await s('srv').testScv(defaultValue='x', message=\"hello world\")\n",
    "print(ok,r)"
   ]
  },
  {
   "cell_type": "code",
   "execution_count": 3,
   "metadata": {
    "ExecuteTime": {
     "end_time": "2019-02-16T12:46:36.585117Z",
     "start_time": "2019-02-16T12:46:36.569782Z"
    }
   },
   "outputs": [
    {
     "name": "stdout",
     "output_type": "stream",
     "text": [
      "True {'responseMessage': 'success', 'resp': 'service done', '_result': 0}\n"
     ]
    }
   ],
   "source": [
    "ok, r=await s('srv').testScv(defaultValue=6.6, message=\"hello world\")\n",
    "print(ok,r)"
   ]
  },
  {
   "cell_type": "code",
   "execution_count": 2,
   "metadata": {
    "ExecuteTime": {
     "end_time": "2019-02-13T16:53:54.618938Z",
     "start_time": "2019-02-13T16:53:54.528056Z"
    }
   },
   "outputs": [
    {
     "name": "stdout",
     "output_type": "stream",
     "text": [
      " [x] Requesting ...\n",
      " [.] Got {\"responseMessage\":\"success\",\"resp\":\"service done\",\"_result\":0}\n"
     ]
    }
   ],
   "source": [
    "import asyncio\n",
    "import uuid\n",
    "import json\n",
    "from sagas.ofbiz.srv_client import SrvClient\n",
    "\n",
    "loop = asyncio.get_event_loop()\n",
    "rpc = await SrvClient(loop).connect()\n",
    "print(\" [x] Requesting ...\")\n",
    "json_pars = json.dumps({'_service': 'testScv',\n",
    "                        'defaultValue': 5.5,\n",
    "                        'message': \"hello world\"})\n",
    "response = await rpc.call(json_pars)\n",
    "print(\" [.] Got %s\" % response)"
   ]
  },
  {
   "cell_type": "code",
   "execution_count": 3,
   "metadata": {
    "ExecuteTime": {
     "end_time": "2019-02-13T16:54:15.658752Z",
     "start_time": "2019-02-13T16:54:15.642474Z"
    }
   },
   "outputs": [
    {
     "name": "stdout",
     "output_type": "stream",
     "text": [
      " [.] Got {\"responseMessage\":\"success\",\"resp\":\"service done\",\"_result\":0}\n"
     ]
    }
   ],
   "source": [
    "json_pars = json.dumps({'_service': 'testScv',\n",
    "                        'defaultValue': 5.5,\n",
    "                        'message': \"hello world\"})\n",
    "response = await rpc.call(json_pars)\n",
    "print(\" [.] Got %s\" % response)"
   ]
  },
  {
   "cell_type": "code",
   "execution_count": 4,
   "metadata": {
    "ExecuteTime": {
     "end_time": "2019-02-13T17:00:37.120111Z",
     "start_time": "2019-02-13T17:00:37.110221Z"
    }
   },
   "outputs": [
    {
     "name": "stdout",
     "output_type": "stream",
     "text": [
      "{\"defaultValue\": 5.5, \"message\": \"hello world\"}\n"
     ]
    }
   ],
   "source": [
    "def params(**kwargs):\n",
    "    print(json.dumps(kwargs))\n",
    "params(defaultValue=5.5, message=\"hello world\")"
   ]
  },
  {
   "cell_type": "code",
   "execution_count": 3,
   "metadata": {
    "ExecuteTime": {
     "end_time": "2019-02-13T13:43:26.105109Z",
     "start_time": "2019-02-13T13:43:26.092577Z"
    }
   },
   "outputs": [
    {
     "name": "stdout",
     "output_type": "stream",
     "text": [
      "Success 0\n",
      "{\n",
      "  \"responseMessage\": \"success\",\n",
      "  \"resp\": \"service done\"\n",
      "}\n"
     ]
    }
   ],
   "source": [
    "import json\n",
    "json_pars=json.dumps({'defaultValue':5.5, 'message':\"hello world\"})\n",
    "\n",
    "srv=oc.j.ServiceInvoker(oc.dispatcher, oc.delegator, \"testScv\", json_pars)\n",
    "ret=srv.invoke()\n",
    "print(ret, ret.getID())\n",
    "json_r=srv.getJsonResult()\n",
    "print(json.dumps(json.loads(json_r), indent=2))"
   ]
  },
  {
   "cell_type": "code",
   "execution_count": 13,
   "metadata": {
    "ExecuteTime": {
     "end_time": "2019-02-13T13:44:51.834571Z",
     "start_time": "2019-02-13T13:44:51.822730Z"
    }
   },
   "outputs": [
    {
     "name": "stdout",
     "output_type": "stream",
     "text": [
      "{\n",
      "  \"responseMessage\": \"success\",\n",
      "  \"resp\": \"service done\"\n",
      "}\n"
     ]
    }
   ],
   "source": [
    "result=srv.getResult()\n",
    "json_r=oc.j.ValueHelper.mapToJson(result)\n",
    "# print(json_r)\n",
    "print(json.dumps(json.loads(json_r), indent=2))"
   ]
  },
  {
   "cell_type": "code",
   "execution_count": 6,
   "metadata": {
    "ExecuteTime": {
     "end_time": "2019-02-13T13:43:45.214770Z",
     "start_time": "2019-02-13T13:43:45.211384Z"
    }
   },
   "outputs": [],
   "source": [
    "async def multiply(*, x, y):\n",
    "    return x * y"
   ]
  },
  {
   "cell_type": "code",
   "execution_count": 12,
   "metadata": {
    "ExecuteTime": {
     "end_time": "2019-02-13T13:44:27.205000Z",
     "start_time": "2019-02-13T13:44:27.199059Z"
    }
   },
   "outputs": [
    {
     "name": "stdout",
     "output_type": "stream",
     "text": [
      "25\n"
     ]
    }
   ],
   "source": [
    "r=await multiply(x=5,y=5)\n",
    "print(r)"
   ]
  },
  {
   "cell_type": "code",
   "execution_count": 14,
   "metadata": {
    "ExecuteTime": {
     "end_time": "2019-02-13T12:45:37.466680Z",
     "start_time": "2019-02-13T12:45:37.463028Z"
    }
   },
   "outputs": [],
   "source": [
    "# import pandas as pd\n",
    "# df=pd.read_json(json_r, orient='index')\n",
    "# df"
   ]
  },
  {
   "cell_type": "code",
   "execution_count": 15,
   "metadata": {
    "ExecuteTime": {
     "end_time": "2019-02-13T13:45:03.628941Z",
     "start_time": "2019-02-13T13:45:03.619352Z"
    }
   },
   "outputs": [
    {
     "data": {
      "application/json": {
       "resp": "service done",
       "responseMessage": "success"
      },
      "text/plain": [
       "<IPython.core.display.JSON object>"
      ]
     },
     "execution_count": 15,
     "metadata": {
      "application/json": {
       "expanded": false,
       "root": "root"
      }
     },
     "output_type": "execute_result"
    }
   ],
   "source": [
    "from IPython.display import display, JSON\n",
    "JSON(json.loads(json_r))"
   ]
  },
  {
   "cell_type": "code",
   "execution_count": 27,
   "metadata": {
    "ExecuteTime": {
     "end_time": "2019-02-13T13:10:11.278211Z",
     "start_time": "2019-02-13T13:10:11.249047Z"
    }
   },
   "outputs": [
    {
     "name": "stdout",
     "output_type": "stream",
     "text": [
      "IN defaultValue Double\n",
      "IN message String\n",
      "OUT resp String\n"
     ]
    }
   ],
   "source": [
    "def service_gen(name):\n",
    "    serv_model=oc.service_model(name)\n",
    "    params=serv_model.getModelParamList()\n",
    "    for param in params:\n",
    "        internal = get_field(param, \"internal\")\n",
    "        p_name = get_field(param, \"name\")\n",
    "        p_type=get_field(param, 'type')\n",
    "        p_mode=get_field(param, 'mode')\n",
    "        # print(p_name, internal)\n",
    "        if internal:\n",
    "            pass\n",
    "        else:\n",
    "            print(p_mode, p_name, p_type)\n",
    "\n",
    "service_gen('testScv')"
   ]
  },
  {
   "cell_type": "code",
   "execution_count": 4,
   "metadata": {
    "ExecuteTime": {
     "end_time": "2019-02-18T11:03:30.096632Z",
     "start_time": "2019-02-18T11:03:04.306741Z"
    }
   },
   "outputs": [
    {
     "name": "stdout",
     "output_type": "stream",
     "text": [
      "service addAdditionalViewForProduct parameter uploadedFile's type is ByteBuffer\n",
      "service addImageForProductPromo parameter uploadedFile's type is ByteBuffer\n",
      "service addMultipleuploadForProduct parameter uploadedFile's type is ByteBuffer\n",
      "service attachUploadToDataResource parameter uploadedFile's type is ByteBuffer\n",
      "service buildSurveyFromPdf parameter inputByteBuffer's type is ByteBuffer\n",
      "service buildSurveyResponseFromPdf parameter inputByteBuffer's type is ByteBuffer\n",
      "service byteBufferTest parameter byteBuffer1's type is ByteBuffer\n",
      "service createAnonFile parameter binData's type is ByteBuffer\n",
      "service createArticleContent parameter uploadedFile's type is ByteBuffer\n",
      "service createBlogEntry parameter uploadedFile's type is ByteBuffer\n",
      "service createBulkProductPromoCode parameter uploadedFile's type is ByteBuffer\n",
      "service createBulkProductPromoCodeEmail parameter uploadedFile's type is ByteBuffer\n",
      "service createCatalinaSession parameter sessionInfo's type is ByteBuffer\n",
      "service createCommContentDataResource parameter imageData's type is ByteBuffer\n",
      "service createContentFromDataResource parameter uploadedFile's type is ByteBuffer\n",
      "service createContentFromUploadedFile parameter uploadedFile's type is ByteBuffer\n",
      "service createDataResource parameter uploadedFile's type is ByteBuffer\n",
      "service createDataResourceAndAssocToContent parameter uploadedFile's type is ByteBuffer\n",
      "service createDataText parameter uploadedFile's type is ByteBuffer\n",
      "service createDownloadContentForCategory parameter imageData's type is ByteBuffer\n",
      "service createDownloadContentForProduct parameter imageData's type is ByteBuffer\n",
      "service createElectronicText parameter uploadedFile's type is ByteBuffer\n",
      "service createElectronicTextForm parameter uploadedFile's type is ByteBuffer\n",
      "service createFile parameter binData's type is ByteBuffer\n",
      "service createImage parameter imageData's type is ByteBuffer\n",
      "service createPartyTextContent parameter uploadedFile's type is ByteBuffer\n",
      "service createTextAndUploadedContent parameter uploadedFile's type is ByteBuffer\n",
      "service createTextContent parameter uploadedFile's type is ByteBuffer\n",
      "service createWorkEffortTextContent parameter uploadedFile's type is ByteBuffer\n",
      "service deleteCatalinaSession parameter sessionInfo's type is ByteBuffer\n",
      "service getAcroFieldsFromPdf parameter inputByteBuffer's type is ByteBuffer\n",
      "service importAddressMatchMapCsv parameter uploadedFile's type is ByteBuffer\n",
      "service importInvoice parameter uploadedFile's type is ByteBuffer\n",
      "service importParty parameter uploadedFile's type is ByteBuffer\n",
      "service importVCard parameter infile's type is ByteBuffer\n",
      "service multipleUploadProductImages parameter additionalImageOne's type is ByteBuffer\n",
      "service persistCompDoc parameter imageData's type is ByteBuffer\n",
      "service persistCompDocContent parameter imageData's type is ByteBuffer\n",
      "service persistCompDocPdf2Survey parameter imageData's type is ByteBuffer\n",
      "service persistContentAndAssoc parameter imageData's type is ByteBuffer\n",
      "service persistContentWithRevision parameter imageData's type is ByteBuffer\n",
      "service persistDataResourceAndData parameter imageData's type is ByteBuffer\n",
      "service setAcroFields parameter inputByteBuffer's type is ByteBuffer\n",
      "service setAcroFieldsFromSurveyResponse parameter inputByteBuffer's type is ByteBuffer\n",
      "service updateBlogEntry parameter uploadedFile's type is ByteBuffer\n",
      "service updateCatalinaSession parameter sessionInfo's type is ByteBuffer\n",
      "service updateCommContentDataResource parameter imageData's type is ByteBuffer\n",
      "service updateContentAndUploadedFile parameter uploadedFile's type is ByteBuffer\n",
      "service updateDownloadContentForCategory parameter imageData's type is ByteBuffer\n",
      "service updateFile parameter binData's type is ByteBuffer\n",
      "service updateImage parameter imageData's type is ByteBuffer\n",
      "service uploadAgreementContentFile parameter uploadedFile's type is ByteBuffer\n",
      "service uploadContentTest parameter uploadFile's type is ByteBuffer\n",
      "service uploadFileInterface parameter uploadedFile's type is ByteBuffer\n",
      "service uploadFrame parameter uploadedFile's type is ByteBuffer\n",
      "service uploadPartyContentFile parameter uploadedFile's type is ByteBuffer\n",
      "service uploadProductAdditionalViewImages parameter additionalImageOne's type is ByteBuffer\n",
      "service uploadWorkEffortContentFile parameter uploadedFile's type is ByteBuffer\n",
      "3345\n"
     ]
    }
   ],
   "source": [
    "from sagas.ofbiz.service_gen import get_all_regular_services\n",
    "services=get_all_regular_services()\n",
    "print(len(services))"
   ]
  },
  {
   "cell_type": "code",
   "execution_count": 37,
   "metadata": {
    "ExecuteTime": {
     "end_time": "2019-02-18T11:42:27.598095Z",
     "start_time": "2019-02-18T11:42:27.251226Z"
    }
   },
   "outputs": [],
   "source": [
    "from ruamel.yaml import YAML\n",
    "yaml = YAML()\n",
    "with open('.services.yml', 'w') as outfile:\n",
    "    yaml.dump(services, outfile)"
   ]
  },
  {
   "cell_type": "code",
   "execution_count": 40,
   "metadata": {
    "ExecuteTime": {
     "end_time": "2019-02-18T11:46:04.745201Z",
     "start_time": "2019-02-18T11:46:04.181457Z"
    }
   },
   "outputs": [
    {
     "name": "stdout",
     "output_type": "stream",
     "text": [
      "3345 <class 'ruamel.yaml.comments.CommentedSeq'>\n",
      "['AddProductToBestSellCategory', 'FindBestSellingProduct', 'FindCategoryChild', 'MoveItemBetweenShipGroups', 'RemoveProductFromBestSellCategory']\n"
     ]
    }
   ],
   "source": [
    "with open('.services.yml') as fp:\n",
    "    str_data = fp.read()\n",
    "data = yaml.load(str_data)\n",
    "print(len(data), type(data))\n",
    "print(data[:5])"
   ]
  },
  {
   "cell_type": "code",
   "execution_count": 26,
   "metadata": {
    "ExecuteTime": {
     "end_time": "2019-02-18T11:28:48.080824Z",
     "start_time": "2019-02-18T11:28:48.076365Z"
    }
   },
   "outputs": [
    {
     "name": "stdout",
     "output_type": "stream",
     "text": [
      "-1\n",
      "of\n"
     ]
    }
   ],
   "source": [
    "print('hel'.find('x'))\n",
    "print('oF'.lower())"
   ]
  },
  {
   "cell_type": "code",
   "execution_count": 27,
   "metadata": {
    "ExecuteTime": {
     "end_time": "2019-02-18T11:28:58.964651Z",
     "start_time": "2019-02-18T11:28:58.958573Z"
    }
   },
   "outputs": [],
   "source": [
    "def norm_loc(loc):\n",
    "    pkg_prefixes=['ofbiz-framework/applications', \n",
    "                  'ofbiz-framework/framework',\n",
    "                  'ofbiz-framework/plugins']\n",
    "    for pkg_prefix in pkg_prefixes:\n",
    "        idx=loc.find(pkg_prefix)\n",
    "        if idx!=-1:\n",
    "            return loc[idx+len(pkg_prefix)+1:].replace('servicedef/','').replace('.xml','').replace('/','_').lower()\n",
    "    raise ValueError('Cannot normalize the location '+loc)\n",
    "    \n",
    "def get_service_package(srv):\n",
    "    serv_model = oc.service_model(srv)\n",
    "    def_loc = get_field(serv_model, 'definitionLocation')\n",
    "    return norm_loc(def_loc)"
   ]
  },
  {
   "cell_type": "code",
   "execution_count": 28,
   "metadata": {
    "ExecuteTime": {
     "end_time": "2019-02-18T11:29:05.036117Z",
     "start_time": "2019-02-18T11:29:03.921087Z"
    }
   },
   "outputs": [
    {
     "name": "stdout",
     "output_type": "stream",
     "text": [
      "111\n"
     ]
    }
   ],
   "source": [
    "# from sagas.ofbiz.service_gen import get_service_package\n",
    "service_groups={}\n",
    "for srv in services:\n",
    "    pkg=get_service_package(srv)\n",
    "    if pkg in service_groups:\n",
    "        grp=service_groups[pkg]\n",
    "        grp.append(srv)\n",
    "    else:\n",
    "        service_groups[pkg]=[srv]\n",
    "\n",
    "print(len(service_groups))"
   ]
  },
  {
   "cell_type": "code",
   "execution_count": 29,
   "metadata": {
    "ExecuteTime": {
     "end_time": "2019-02-18T11:29:06.468824Z",
     "start_time": "2019-02-18T11:29:06.448150Z"
    }
   },
   "outputs": [
    {
     "name": "stdout",
     "output_type": "stream",
     "text": [
      "product_services\n",
      "order_services\n",
      "accounting_services_sagepay\n",
      "common_services\n",
      "party_services\n",
      "accounting_services_perm\n",
      "accounting_services_valuelink\n",
      "product_services_facility\n",
      "order_services_shoppinglist\n",
      "accounting_services_fixedasset\n",
      "accounting_services_finaccount\n",
      "accounting_services_admin\n",
      "product_services_shipment\n",
      "marketing_services\n",
      "manufacturing_services_bom\n",
      "manufacturing_services_production_run\n",
      "order_services_return\n",
      "common_services_security\n",
      "order_services_requirement\n",
      "workeffort_services_timesheet\n",
      "content_services_website\n",
      "accounting_services_invoice\n",
      "accounting_services_authorizedotnet\n",
      "accounting_services_paymentmethod\n",
      "product_services_feature\n",
      "humanres_services\n",
      "workeffort_services\n",
      "content_services_content\n",
      "product_services_maint\n",
      "service_services\n",
      "order_services_quote\n",
      "common_services_test\n",
      "content_services_survey\n",
      "accounting_services_billing\n",
      "accounting_services_tax\n",
      "accounting_services_ledger\n",
      "product_services_cost\n",
      "product_services_pricepromo\n",
      "accounting_services_payment\n",
      "product_services_picklist\n",
      "common_services_cdyne\n",
      "content_services\n",
      "product_services_store\n",
      "manufacturing_services_routing\n",
      "entityext_services\n",
      "content_services_data\n",
      "accounting_services_clearcommerce\n",
      "product_services_view\n",
      "product_services_uom\n",
      "accounting_services_agreement\n",
      "order_services_request\n",
      "order_services_reservations\n",
      "party_services_agreement\n",
      "workeffort_services_workeffort\n",
      "humanres_services_employment\n",
      "accounting_services_budget\n",
      "manufacturing_services_calendar\n",
      "order_services_cart\n",
      "content_services_contenttypes\n",
      "content_services_commevent\n",
      "party_services_communication\n",
      "entityext_services_tenant\n",
      "product_services_config\n",
      "marketing_services_contact\n",
      "party_services_contact\n",
      "accounting_services_cost\n",
      "common_services_geo\n",
      "common_services_method\n",
      "content_services_document\n",
      "common_services_email\n",
      "humanres_services_position\n",
      "entityext_services_group\n",
      "entityext_services_synchronization\n",
      "common_services_enum\n",
      "example_services\n",
      "product_services_rental\n",
      "product_services_inventory\n",
      "manufacturing_services_mrp\n",
      "ofbizdemo_services\n",
      "order_services_order\n",
      "party_services_party\n",
      "accounting_services_paymentgateway\n",
      "humanres_services_ability\n",
      "product_services_price\n",
      "product_services_subscription\n",
      "accounting_services_rate\n",
      "product_services_supplier\n",
      "marketing_services_opportunity\n",
      "product_services_shipmentgateway\n",
      "manufacturing_services\n",
      "commonext_services\n",
      "accounting_services_cybersource\n",
      "product_services_shipment_dhl\n",
      "webtools_services\n",
      "manufacturing_services_formula\n",
      "product_services_perm\n",
      "product_services_shipment_fedex\n",
      "party_services_view\n",
      "securityext_services\n",
      "sagas_services\n",
      "accounting_services_securepay\n",
      "accounting_services_orbital\n",
      "accounting_services_paypal\n",
      "accounting_services_verisign\n",
      "accounting_services_pccharge\n",
      "order_services_perm\n",
      "accounting_services_rita\n",
      "content_services_ftp\n",
      "service_services_test_se\n",
      "product_services_shipment_ups\n",
      "product_services_shipment_usps\n"
     ]
    }
   ],
   "source": [
    "for k in service_groups.keys():\n",
    "    print(k)"
   ]
  },
  {
   "cell_type": "code",
   "execution_count": 41,
   "metadata": {
    "ExecuteTime": {
     "end_time": "2019-02-18T11:50:40.666675Z",
     "start_time": "2019-02-18T11:50:40.659717Z"
    }
   },
   "outputs": [
    {
     "name": "stdout",
     "output_type": "stream",
     "text": [
      "6\n"
     ]
    }
   ],
   "source": [
    "srvs=service_groups['humanres_services_position']\n",
    "print(len(srvs))"
   ]
  },
  {
   "cell_type": "code",
   "execution_count": 12,
   "metadata": {
    "ExecuteTime": {
     "end_time": "2019-02-18T11:15:07.937238Z",
     "start_time": "2019-02-18T11:15:07.928862Z"
    }
   },
   "outputs": [
    {
     "name": "stdout",
     "output_type": "stream",
     "text": [
      "party_party\n"
     ]
    }
   ],
   "source": [
    "from sagas.ofbiz.entities import OfEntity as e\n",
    "from sagas.ofbiz.entity_gen import norm_package\n",
    "\n",
    "def get_entity_package_def(entity_name):\n",
    "    model = oc.delegator.getModelEntity(entity_name)\n",
    "    return norm_package(model.getPackageName())\n",
    "\n",
    "print(get_entity_package_def('Person'))"
   ]
  },
  {
   "cell_type": "code",
   "execution_count": 42,
   "metadata": {
    "ExecuteTime": {
     "end_time": "2019-02-18T11:51:18.894510Z",
     "start_time": "2019-02-18T11:51:18.879916Z"
    }
   },
   "outputs": [
    {
     "name": "stdout",
     "output_type": "stream",
     "text": [
      "{'humanres_position'}\n"
     ]
    }
   ],
   "source": [
    "def proc_service_refs(serv_name, deps):\n",
    "    model_serv = oc.service_model(serv_name)\n",
    "    def_ent = get_field(model_serv, 'defaultEntityName')\n",
    "    if def_ent != \"\":\n",
    "        ent_pkg=get_entity_package_def(def_ent)\n",
    "        deps.add(ent_pkg)\n",
    "\n",
    "serv_grp='humanres_services_position'\n",
    "srvs=service_groups[serv_grp]\n",
    "deps=set()\n",
    "for srv in srvs:\n",
    "    proc_service_refs(srv, deps)\n",
    "\n",
    "print(deps)"
   ]
  }
 ],
 "metadata": {
  "kernelspec": {
   "display_name": "Python 3",
   "language": "python",
   "name": "python3"
  },
  "language_info": {
   "codemirror_mode": {
    "name": "ipython",
    "version": 3
   },
   "file_extension": ".py",
   "mimetype": "text/x-python",
   "name": "python",
   "nbconvert_exporter": "python",
   "pygments_lexer": "ipython3",
   "version": "3.6.4"
  },
  "varInspector": {
   "cols": {
    "lenName": 16,
    "lenType": 16,
    "lenVar": 40
   },
   "kernels_config": {
    "python": {
     "delete_cmd_postfix": "",
     "delete_cmd_prefix": "del ",
     "library": "var_list.py",
     "varRefreshCmd": "print(var_dic_list())"
    },
    "r": {
     "delete_cmd_postfix": ") ",
     "delete_cmd_prefix": "rm(",
     "library": "var_list.r",
     "varRefreshCmd": "cat(var_dic_list()) "
    }
   },
   "types_to_exclude": [
    "module",
    "function",
    "builtin_function_or_method",
    "instance",
    "_Feature"
   ],
   "window_display": false
  }
 },
 "nbformat": 4,
 "nbformat_minor": 2
}
