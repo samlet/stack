{
 "cells": [
  {
   "cell_type": "code",
   "execution_count": 22,
   "metadata": {
    "ExecuteTime": {
     "end_time": "2019-07-28T10:09:48.741207Z",
     "start_time": "2019-07-28T10:09:48.664921Z"
    }
   },
   "outputs": [],
   "source": [
    "def check_item(feats, key, el):\n",
    "    if key in feats:\n",
    "        return el in feats[key]\n",
    "    return False\n",
    "\n",
    "# c(domains).verb(nsubj='c_pron', obj='c_noun')\n",
    "def verb_pattern_checker(domains):\n",
    "    rel_feats={x[0]:x[5] for x in domains}\n",
    "    if(check_item(rel_feats, 'nsubj', 'c_pron') and\n",
    "       check_item(rel_feats, 'obj', 'c_noun')):\n",
    "        print('pattern: verb+nsubj(pron)+obj(noun)')\n",
    "        \n",
    "class Patterns(object):\n",
    "    _name = None\n",
    "    _fields = {}  # {field: field object}\n",
    "    def __init__(self, domains=None, track=True):\n",
    "        super(Patterns, self).__init__()\n",
    "        self.domains=domains\n",
    "        self.track=track\n",
    "    def __getattr__(self, method):\n",
    "        \"\"\"Provide a dynamic access to a service method.\"\"\"\n",
    "        if method.startswith('_'):\n",
    "            return super(Patterns, self).__getattr__(method)\n",
    "\n",
    "        def service_method(*args, **kwargs):\n",
    "            \"\"\"Return the result of the check request.\"\"\"\n",
    "            rel_feats={x[0]:x[5] for x in self.domains}\n",
    "            options=[]                \n",
    "            result=True\n",
    "            for key, value in kwargs.items():\n",
    "                opt_ret=check_item(rel_feats, key, value)\n",
    "                if not opt_ret:\n",
    "                    result=False\n",
    "                options.append('{} is {}: {}'.format(key,value,opt_ret))\n",
    "            if self.track:\n",
    "                return \"%s with %s\"%(method, ', '.join(options)), result\n",
    "            else:\n",
    "                return result\n",
    "        return service_method"
   ]
  },
  {
   "cell_type": "code",
   "execution_count": 25,
   "metadata": {
    "ExecuteTime": {
     "end_time": "2019-07-28T10:12:30.759655Z",
     "start_time": "2019-07-28T10:12:30.417489Z"
    }
   },
   "outputs": [
    {
     "name": "stdout",
     "output_type": "stream",
     "text": [
      "✧ machen 6\n",
      "✔ [verb with nsubj is c_pron: True, obj is c_noun: True]\n",
      "✖ [verb with nsubj is c_noun: False, obj is c_noun: True]\n"
     ]
    },
    {
     "data": {
      "text/html": [
       "<div>\n",
       "<style scoped>\n",
       "    .dataframe tbody tr th:only-of-type {\n",
       "        vertical-align: middle;\n",
       "    }\n",
       "\n",
       "    .dataframe tbody tr th {\n",
       "        vertical-align: top;\n",
       "    }\n",
       "\n",
       "    .dataframe thead th {\n",
       "        text-align: right;\n",
       "    }\n",
       "</style>\n",
       "<table border=\"1\" class=\"dataframe\">\n",
       "  <thead>\n",
       "    <tr style=\"text-align: right;\">\n",
       "      <th></th>\n",
       "      <th>rel</th>\n",
       "      <th>index</th>\n",
       "      <th>text</th>\n",
       "      <th>lemma</th>\n",
       "      <th>children</th>\n",
       "      <th>features</th>\n",
       "    </tr>\n",
       "  </thead>\n",
       "  <tbody>\n",
       "    <tr>\n",
       "      <th>0</th>\n",
       "      <td>nsubj</td>\n",
       "      <td>1</td>\n",
       "      <td>Du</td>\n",
       "      <td>du</td>\n",
       "      <td>[Du]</td>\n",
       "      <td>[c_pron]</td>\n",
       "    </tr>\n",
       "    <tr>\n",
       "      <th>1</th>\n",
       "      <td>aux</td>\n",
       "      <td>2</td>\n",
       "      <td>wirst</td>\n",
       "      <td>werden</td>\n",
       "      <td>[wirst]</td>\n",
       "      <td>[c_aux]</td>\n",
       "    </tr>\n",
       "    <tr>\n",
       "      <th>2</th>\n",
       "      <td>obj</td>\n",
       "      <td>4</td>\n",
       "      <td>Fenster</td>\n",
       "      <td>Fenster</td>\n",
       "      <td>[das, Fenster]</td>\n",
       "      <td>[c_noun]</td>\n",
       "    </tr>\n",
       "    <tr>\n",
       "      <th>3</th>\n",
       "      <td>xcomp</td>\n",
       "      <td>5</td>\n",
       "      <td>kaputt</td>\n",
       "      <td>kaputt</td>\n",
       "      <td>[kaputt]</td>\n",
       "      <td>[c_adv]</td>\n",
       "    </tr>\n",
       "    <tr>\n",
       "      <th>4</th>\n",
       "      <td>punct</td>\n",
       "      <td>7</td>\n",
       "      <td>.</td>\n",
       "      <td>.</td>\n",
       "      <td>[.]</td>\n",
       "      <td>[c_punct]</td>\n",
       "    </tr>\n",
       "  </tbody>\n",
       "</table>\n",
       "</div>"
      ],
      "text/plain": [
       "     rel index     text    lemma        children   features\n",
       "0  nsubj     1       Du       du            [Du]   [c_pron]\n",
       "1    aux     2    wirst   werden         [wirst]    [c_aux]\n",
       "2    obj     4  Fenster  Fenster  [das, Fenster]   [c_noun]\n",
       "3  xcomp     5   kaputt   kaputt        [kaputt]    [c_adv]\n",
       "4  punct     7        .        .             [.]  [c_punct]"
      ]
     },
     "metadata": {},
     "output_type": "display_data"
    }
   ],
   "source": [
    "def print_result(rs):\n",
    "    for r in rs:\n",
    "        print('%s [%s]'%('✔' if r[1] else '✖', r[0]))\n",
    "def verb_patterns(domains):\n",
    "    print_result([Patterns(domains).verb(nsubj='c_pron', obj='c_noun'),\n",
    "           Patterns(domains).verb(nsubj='c_noun', obj='c_noun')])\n",
    "                \n",
    "def get_verb_domains(data, return_df=False):\n",
    "    import requests\n",
    "    import sagas\n",
    "    response = requests.post('http://localhost:8090/verb_domains', json=data)\n",
    "    # print(response.status_code, response.json())\n",
    "    df_set=[]\n",
    "    if response.status_code == 200:\n",
    "        rs = response.json()\n",
    "        for r in rs:\n",
    "            type_name=r['type']\n",
    "\n",
    "            if type_name=='verb_domains':\n",
    "                print('✧', r['verb'], r['index'])\n",
    "                # verb_pattern_checker(r['domains'])\n",
    "                domains=r['domains']\n",
    "                verb_patterns(domains)\n",
    "            elif type_name=='aux_domains':\n",
    "                # 'rel': word.dependency_relation, 'governor': word.governor, 'head': dc.text\n",
    "                print('℗', r['aux'], r['rel'], '☇', r['head'])\n",
    "            elif type_name=='subj_domains':\n",
    "                print('✁', r['subj'], r['rel'], '☇', r['head'])\n",
    "            else:\n",
    "                raise Exception('Cannot process specific type: {}'.format(type_name))\n",
    "\n",
    "            df = sagas.to_df(r['domains'], ['rel', 'index', 'text', 'lemma', 'children', 'features'])\n",
    "            df_set.append(df)\n",
    "            if not return_df:\n",
    "                sagas.print_df(df)\n",
    "    if return_df:\n",
    "        return df_set\n",
    "\n",
    "source='de'\n",
    "text='Du wirst das Fenster kaputt machen.'\n",
    "data = {'lang': source, \"sents\": text}\n",
    "for df in get_verb_domains(data, True):\n",
    "    display(df)"
   ]
  }
 ],
 "metadata": {
  "kernelspec": {
   "display_name": "Python 3",
   "language": "python",
   "name": "python3"
  },
  "language_info": {
   "codemirror_mode": {
    "name": "ipython",
    "version": 3
   },
   "file_extension": ".py",
   "mimetype": "text/x-python",
   "name": "python",
   "nbconvert_exporter": "python",
   "pygments_lexer": "ipython3",
   "version": "3.6.4"
  },
  "varInspector": {
   "cols": {
    "lenName": 16,
    "lenType": 16,
    "lenVar": 40
   },
   "kernels_config": {
    "python": {
     "delete_cmd_postfix": "",
     "delete_cmd_prefix": "del ",
     "library": "var_list.py",
     "varRefreshCmd": "print(var_dic_list())"
    },
    "r": {
     "delete_cmd_postfix": ") ",
     "delete_cmd_prefix": "rm(",
     "library": "var_list.r",
     "varRefreshCmd": "cat(var_dic_list()) "
    }
   },
   "types_to_exclude": [
    "module",
    "function",
    "builtin_function_or_method",
    "instance",
    "_Feature"
   ],
   "window_display": false
  }
 },
 "nbformat": 4,
 "nbformat_minor": 2
}
