{
 "cells": [
  {
   "cell_type": "markdown",
   "metadata": {},
   "source": [
    "⊕ [Python Tutorial: Dynamically Creating Classes with type](https://www.python-course.eu/python3_classes_and_type.php)\n"
   ]
  },
  {
   "cell_type": "code",
   "execution_count": 1,
   "metadata": {
    "ExecuteTime": {
     "end_time": "2019-01-08T17:07:24.678235Z",
     "start_time": "2019-01-08T17:07:24.673645Z"
    }
   },
   "outputs": [
    {
     "name": "stdout",
     "output_type": "stream",
     "text": [
      "<class '__main__.A'>\n"
     ]
    }
   ],
   "source": [
    "# type(classname, superclasses, attributes_dict)\n",
    "\n",
    "class A:\n",
    "    pass\n",
    "x = A()\n",
    "print(type(x))"
   ]
  },
  {
   "cell_type": "code",
   "execution_count": 2,
   "metadata": {
    "ExecuteTime": {
     "end_time": "2019-01-08T17:08:21.648968Z",
     "start_time": "2019-01-08T17:08:21.644024Z"
    }
   },
   "outputs": [
    {
     "name": "stdout",
     "output_type": "stream",
     "text": [
      "<class '__main__.A'>\n"
     ]
    }
   ],
   "source": [
    "A = type(\"A\", (), {})\n",
    "x = A()\n",
    "print(type(x))"
   ]
  },
  {
   "cell_type": "code",
   "execution_count": 3,
   "metadata": {
    "ExecuteTime": {
     "end_time": "2019-01-08T17:09:38.864632Z",
     "start_time": "2019-01-08T17:09:38.846097Z"
    }
   },
   "outputs": [
    {
     "name": "stdout",
     "output_type": "stream",
     "text": [
      "Marvin\n",
      "Hi, I am Marvin\n",
      "Marvin\n",
      "Hi, I am Marvin\n",
      "{'name': 'Marvin'}\n",
      "{'name': 'Marvin'}\n"
     ]
    }
   ],
   "source": [
    "class Robot:\n",
    "    counter = 0\n",
    "    def __init__(self, name):\n",
    "        self.name = name\n",
    "    def sayHello(self):\n",
    "        return \"Hi, I am \" + self.name\n",
    "def Rob_init(self, name):\n",
    "    self.name = name\n",
    "Robot2 = type(\"Robot2\", \n",
    "              (), \n",
    "              {\"counter\":0, \n",
    "               \"__init__\": Rob_init,\n",
    "               \"sayHello\": lambda self: \"Hi, I am \" + self.name})\n",
    "x = Robot2(\"Marvin\")\n",
    "print(x.name)\n",
    "print(x.sayHello())\n",
    "y = Robot(\"Marvin\")\n",
    "print(y.name)\n",
    "print(y.sayHello())\n",
    "print(x.__dict__)\n",
    "print(y.__dict__)"
   ]
  },
  {
   "cell_type": "code",
   "execution_count": 11,
   "metadata": {
    "ExecuteTime": {
     "end_time": "2019-01-08T18:03:26.566112Z",
     "start_time": "2019-01-08T18:03:26.535479Z"
    }
   },
   "outputs": [
    {
     "name": "stdout",
     "output_type": "stream",
     "text": [
      "Marvin\n",
      "Tom\n",
      "Tom\n",
      "** getattr\n",
      "No _name field\n"
     ]
    }
   ],
   "source": [
    "class Robot:\n",
    "    counter = 0\n",
    "    def __init__(self, name):\n",
    "        self.name = name\n",
    "    def sayHello(self):\n",
    "        return \"Hi, I am \" + self.name\n",
    "    def __getattr__(self, method):\n",
    "        print(\"** getattr\")\n",
    "        return super(Robot, self).__getattr__(method)\n",
    "\n",
    "def print_field(obj, field):\n",
    "    try:\n",
    "        print(getattr(obj, field))\n",
    "    except AttributeError:\n",
    "        print('No %s field' % field)\n",
    "        \n",
    "y = Robot(\"Marvin\")\n",
    "print(y.name)\n",
    "# print(y.age)\n",
    "setattr(y, \"name\", \"Tom\")\n",
    "print(y.name)\n",
    "print_field(y, \"name\")\n",
    "print_field(y, \"_name\")"
   ]
  },
  {
   "cell_type": "code",
   "execution_count": 2,
   "metadata": {
    "ExecuteTime": {
     "end_time": "2019-01-14T13:04:52.591931Z",
     "start_time": "2019-01-14T13:04:52.583043Z"
    }
   },
   "outputs": [
    {
     "data": {
      "text/plain": [
       "[('__class__', type),\n",
       " ('__dict__',\n",
       "  mappingproxy({'__dict__': <attribute '__dict__' of 'MyClass' objects>,\n",
       "                '__doc__': None,\n",
       "                '__module__': '__main__',\n",
       "                '__weakref__': <attribute '__weakref__' of 'MyClass' objects>,\n",
       "                'a': '12',\n",
       "                'b': '34',\n",
       "                'myfunc': <function __main__.MyClass.myfunc>})),\n",
       " ('__doc__', None),\n",
       " ('__module__', '__main__'),\n",
       " ('__weakref__', <attribute '__weakref__' of 'MyClass' objects>),\n",
       " ('a', '12'),\n",
       " ('b', '34')]"
      ]
     },
     "execution_count": 2,
     "metadata": {},
     "output_type": "execute_result"
    }
   ],
   "source": [
    "#⊕ [python - Getting attributes of a class - Stack Overflow](https://stackoverflow.com/questions/9058305/getting-attributes-of-a-class)\n",
    "\n",
    "class MyClass(object):\n",
    "    a = '12'\n",
    "    b = '34'\n",
    "    def myfunc(self):\n",
    "        return self.a\n",
    "\n",
    "import inspect    \n",
    "inspect.getmembers(MyClass, lambda a:not(inspect.isroutine(a)))"
   ]
  },
  {
   "cell_type": "code",
   "execution_count": 21,
   "metadata": {
    "ExecuteTime": {
     "end_time": "2019-01-14T13:35:39.409794Z",
     "start_time": "2019-01-14T13:35:39.392945Z"
    }
   },
   "outputs": [
    {
     "data": {
      "text/plain": [
       "[('__class__', graphene.utils.subclass_with_meta.SubclassWithMeta_Meta),\n",
       " ('__dict__',\n",
       "  mappingproxy({'__doc__': None,\n",
       "                '__module__': '__main__',\n",
       "                '_meta': <ObjectTypeOptions name='CrmLead'>,\n",
       "                'email_from': <<String meta=<ScalarOptions name='String'>> at 0x11302e1d0>,\n",
       "                'name': <<String meta=<ScalarOptions name='String'>> at 0x11302ea58>})),\n",
       " ('__doc__', None),\n",
       " ('__module__', '__main__'),\n",
       " ('__weakref__', <attribute '__weakref__' of 'SubclassWithMeta' objects>),\n",
       " ('_meta', <ObjectTypeOptions name='CrmLead'>),\n",
       " ('email_from', <<String meta=<ScalarOptions name='String'>> at 0x11302e1d0>),\n",
       " ('is_type_of', None),\n",
       " ('name', <<String meta=<ScalarOptions name='String'>> at 0x11302ea58>)]"
      ]
     },
     "execution_count": 21,
     "metadata": {},
     "output_type": "execute_result"
    }
   ],
   "source": [
    "import graphene\n",
    "class CrmLead(graphene.ObjectType):\n",
    "    name = graphene.String()\n",
    "    email_from=graphene.String()\n",
    "\n",
    "import inspect    \n",
    "inspect.getmembers(CrmLead, lambda a:not(inspect.isroutine(a)))"
   ]
  },
  {
   "cell_type": "code",
   "execution_count": 25,
   "metadata": {
    "ExecuteTime": {
     "end_time": "2019-01-14T13:36:51.472675Z",
     "start_time": "2019-01-14T13:36:51.465702Z"
    }
   },
   "outputs": [
    {
     "name": "stdout",
     "output_type": "stream",
     "text": [
      "('_meta', <ObjectTypeOptions name='CrmLead'>)\n",
      "('email_from', <graphene.types.scalars.String object at 0x11302e1d0>)\n",
      "('is_type_of', None)\n",
      "('name', <graphene.types.scalars.String object at 0x11302ea58>)\n"
     ]
    }
   ],
   "source": [
    "attributes = inspect.getmembers(CrmLead, lambda a:not(inspect.isroutine(a)))\n",
    "fields=[a for a in attributes if not(a[0].startswith('__') and a[0].endswith('__'))]\n",
    "for f in fields:\n",
    "    print(f)"
   ]
  },
  {
   "cell_type": "code",
   "execution_count": 27,
   "metadata": {
    "ExecuteTime": {
     "end_time": "2019-01-14T13:40:18.533689Z",
     "start_time": "2019-01-14T13:40:18.525277Z"
    }
   },
   "outputs": [],
   "source": [
    "def desc_type(type_name):\n",
    "    # attributes = inspect.getmembers(type(type_name), lambda a:not(inspect.isroutine(a)))\n",
    "    attributes = inspect.getmembers(type_name, lambda a:not(inspect.isroutine(a)))    \n",
    "    fields=[a for a in attributes if not(a[0].startswith('__') and a[0].endswith('__'))]\n",
    "    for f in fields:\n",
    "        print(f)        "
   ]
  },
  {
   "cell_type": "code",
   "execution_count": 34,
   "metadata": {
    "ExecuteTime": {
     "end_time": "2019-01-14T13:47:12.793440Z",
     "start_time": "2019-01-14T13:47:12.777890Z"
    }
   },
   "outputs": [
    {
     "name": "stdout",
     "output_type": "stream",
     "text": [
      "CrmLead\n",
      "('_meta', <ObjectTypeOptions name='CrmLead'>)\n",
      "('email_from', <graphene.types.scalars.String object at 0x11302e1d0>)\n",
      "('is_type_of', None)\n",
      "('name', <graphene.types.scalars.String object at 0x11302ea58>)\n",
      "----------\n",
      "('DESCRIPTOR', <google.protobuf.pyext._message.MessageDescriptor object at 0x1130185f0>)\n",
      "('Extensions', <attribute 'Extensions' of 'google.protobuf.pyext._message.CMessage' objects>)\n",
      "('USERNAME_FIELD_NUMBER', 1)\n",
      "('USER_ID_FIELD_NUMBER', 2)\n",
      "('_extensions_by_name', {})\n",
      "('_extensions_by_number', {})\n",
      "----------\n"
     ]
    },
    {
     "data": {
      "text/plain": [
       "[('DESCRIPTOR',\n",
       "  <google.protobuf.pyext._message.MessageDescriptor at 0x1130185f0>),\n",
       " ('Extensions',\n",
       "  <attribute 'Extensions' of 'google.protobuf.pyext._message.CMessage' objects>),\n",
       " ('USERNAME_FIELD_NUMBER', 1),\n",
       " ('USER_ID_FIELD_NUMBER', 2),\n",
       " ('__class__', google.protobuf.pyext.cpp_message.GeneratedProtocolMessageType),\n",
       " ('__doc__', None),\n",
       " ('__hash__', None),\n",
       " ('__module__', 'users_types_pb2'),\n",
       " ('__slots__', ()),\n",
       " ('_extensions_by_name', {}),\n",
       " ('_extensions_by_number', {})]"
      ]
     },
     "execution_count": 34,
     "metadata": {},
     "output_type": "execute_result"
    }
   ],
   "source": [
    "lead=CrmLead()\n",
    "print(type(lead))\n",
    "#⊕ [how to dynamically create an instance of a class in python? - Stack Overflow](https://stackoverflow.com/questions/3451779/how-to-dynamically-create-an-instance-of-a-class-in-python)\n",
    "klass = globals()[\"CrmLead\"]\n",
    "# instance = klass()\n",
    "# print(type(instance))\n",
    "desc_type(klass)\n",
    "\n",
    "print(\"----------\")\n",
    "\n",
    "from users_types_pb2 import User\n",
    "desc_type(globals()[\"User\"])\n",
    "\n",
    "print(\"----------\")\n",
    "\n",
    "inspect.getmembers(User, lambda a:not(inspect.isroutine(a)))"
   ]
  },
  {
   "cell_type": "markdown",
   "metadata": {},
   "source": [
    "⊕ [inspect — Inspect live objects — Python 3.7.2 documentation](https://docs.python.org/3/library/inspect.html#inspect.getmembers)\n"
   ]
  },
  {
   "cell_type": "code",
   "execution_count": 29,
   "metadata": {
    "ExecuteTime": {
     "end_time": "2019-01-17T08:36:57.138862Z",
     "start_time": "2019-01-17T08:36:57.115983Z"
    }
   },
   "outputs": [
    {
     "name": "stdout",
     "output_type": "stream",
     "text": [
      "myfunc <function MyClass.myfunc at 0x10a12aea0>\n",
      "\t ('myfunc', <function MyClass.myfunc at 0x10a12aea0>) <class 'tuple'>\n",
      "(self, a:int, c:str=5) -> tuple\n",
      "<class 'int'> <class 'type'>\n",
      "int\n",
      "<class 'str'> <class 'type'>\n",
      "str\n"
     ]
    }
   ],
   "source": [
    "class MyClass(object):\n",
    "    a = '12'\n",
    "    b = '34'\n",
    "    def myfunc(self, a: int, c: str = 5) -> tuple:\n",
    "        return self.a\n",
    "\n",
    "import inspect\n",
    "# inspect.getmembers(MyClass, lambda a:not(inspect.isroutine(a)))\n",
    "members=inspect.getmembers(MyClass, lambda a:(inspect.isfunction(a)))\n",
    "for m in members:\n",
    "    print(m[0], m[1])\n",
    "    print(\"\\t\", m, type(m))\n",
    "    sig = inspect.signature(m[1])\n",
    "    print(sig)\n",
    "    for k, v in sig.parameters.items():\n",
    "        if k!=\"self\":\n",
    "            print(v.annotation, type(v.annotation))\n",
    "            print(v.annotation.__name__)\n",
    "            "
   ]
  },
  {
   "cell_type": "code",
   "execution_count": 24,
   "metadata": {
    "ExecuteTime": {
     "end_time": "2019-01-17T08:28:01.146210Z",
     "start_time": "2019-01-17T08:28:01.139213Z"
    }
   },
   "outputs": [
    {
     "name": "stdout",
     "output_type": "stream",
     "text": [
      "Help on class type in module builtins:\n",
      "\n",
      "class type(object)\n",
      " |  type(object_or_name, bases, dict)\n",
      " |  type(object) -> the object's type\n",
      " |  type(name, bases, dict) -> a new type\n",
      " |  \n",
      " |  Methods defined here:\n",
      " |  \n",
      " |  __call__(self, /, *args, **kwargs)\n",
      " |      Call self as a function.\n",
      " |  \n",
      " |  __delattr__(self, name, /)\n",
      " |      Implement delattr(self, name).\n",
      " |  \n",
      " |  __dir__(...)\n",
      " |      __dir__() -> list\n",
      " |      specialized __dir__ implementation for types\n",
      " |  \n",
      " |  __getattribute__(self, name, /)\n",
      " |      Return getattr(self, name).\n",
      " |  \n",
      " |  __init__(self, /, *args, **kwargs)\n",
      " |      Initialize self.  See help(type(self)) for accurate signature.\n",
      " |  \n",
      " |  __instancecheck__(...)\n",
      " |      __instancecheck__() -> bool\n",
      " |      check if an object is an instance\n",
      " |  \n",
      " |  __new__(*args, **kwargs)\n",
      " |      Create and return a new object.  See help(type) for accurate signature.\n",
      " |  \n",
      " |  __prepare__(...)\n",
      " |      __prepare__() -> dict\n",
      " |      used to create the namespace for the class statement\n",
      " |  \n",
      " |  __repr__(self, /)\n",
      " |      Return repr(self).\n",
      " |  \n",
      " |  __setattr__(self, name, value, /)\n",
      " |      Implement setattr(self, name, value).\n",
      " |  \n",
      " |  __sizeof__(...)\n",
      " |      __sizeof__() -> int\n",
      " |      return memory consumption of the type object\n",
      " |  \n",
      " |  __subclasscheck__(...)\n",
      " |      __subclasscheck__() -> bool\n",
      " |      check if a class is a subclass\n",
      " |  \n",
      " |  __subclasses__(...)\n",
      " |      __subclasses__() -> list of immediate subclasses\n",
      " |  \n",
      " |  mro(...)\n",
      " |      mro() -> list\n",
      " |      return a type's method resolution order\n",
      " |  \n",
      " |  ----------------------------------------------------------------------\n",
      " |  Data descriptors defined here:\n",
      " |  \n",
      " |  __abstractmethods__\n",
      " |  \n",
      " |  __dict__\n",
      " |  \n",
      " |  __text_signature__\n",
      " |  \n",
      " |  ----------------------------------------------------------------------\n",
      " |  Data and other attributes defined here:\n",
      " |  \n",
      " |  __base__ = <class 'object'>\n",
      " |      The most base type\n",
      " |  \n",
      " |  __bases__ = (<class 'object'>,)\n",
      " |  \n",
      " |  __basicsize__ = 864\n",
      " |  \n",
      " |  __dictoffset__ = 264\n",
      " |  \n",
      " |  __flags__ = 2148291584\n",
      " |  \n",
      " |  __itemsize__ = 40\n",
      " |  \n",
      " |  __mro__ = (<class 'type'>, <class 'object'>)\n",
      " |  \n",
      " |  __weakrefoffset__ = 368\n",
      "\n"
     ]
    }
   ],
   "source": [
    "help(type)"
   ]
  },
  {
   "cell_type": "code",
   "execution_count": 26,
   "metadata": {
    "ExecuteTime": {
     "end_time": "2019-01-17T08:29:41.672828Z",
     "start_time": "2019-01-17T08:29:41.668722Z"
    }
   },
   "outputs": [
    {
     "name": "stdout",
     "output_type": "stream",
     "text": [
      "<class 'int'>\n"
     ]
    }
   ],
   "source": [
    "print(type(5))"
   ]
  }
 ],
 "metadata": {
  "kernelspec": {
   "display_name": "Python 3",
   "language": "python",
   "name": "python3"
  },
  "language_info": {
   "codemirror_mode": {
    "name": "ipython",
    "version": 3
   },
   "file_extension": ".py",
   "mimetype": "text/x-python",
   "name": "python",
   "nbconvert_exporter": "python",
   "pygments_lexer": "ipython3",
   "version": "3.6.4"
  },
  "varInspector": {
   "cols": {
    "lenName": 16,
    "lenType": 16,
    "lenVar": 40
   },
   "kernels_config": {
    "python": {
     "delete_cmd_postfix": "",
     "delete_cmd_prefix": "del ",
     "library": "var_list.py",
     "varRefreshCmd": "print(var_dic_list())"
    },
    "r": {
     "delete_cmd_postfix": ") ",
     "delete_cmd_prefix": "rm(",
     "library": "var_list.r",
     "varRefreshCmd": "cat(var_dic_list()) "
    }
   },
   "types_to_exclude": [
    "module",
    "function",
    "builtin_function_or_method",
    "instance",
    "_Feature"
   ],
   "window_display": false
  }
 },
 "nbformat": 4,
 "nbformat_minor": 2
}
