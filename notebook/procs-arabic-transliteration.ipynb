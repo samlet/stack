{
 "cells": [
  {
   "cell_type": "markdown",
   "metadata": {},
   "source": [
    "# Arabic Transliteration \n",
    "This notebook demonstrates a use example of the Arabic Transliterator module compiled by the MTG. Please download and install the latest module version. The phrase used here are very short and are just for demonstration. For a more complicated use-case of the module invoving the transliteration of structured tsv files, please refer to the sanaa transliteration notebooks of the https://github.com/MTG/arab-andalusian-music/tree/master/sanaa_lyrics/transliteration_guide\n",
    "\n",
    "## Description\n",
    "This module reads phrases from a csv file column and creates another file with the transliterations. \n",
    "Original and transliterated versions of the phrases are displayed side by side.\n",
    "Phrases must NOT contain numbers"
   ]
  },
  {
   "cell_type": "code",
   "execution_count": 2,
   "metadata": {
    "ExecuteTime": {
     "end_time": "2019-11-21T12:59:20.084897Z",
     "start_time": "2019-11-21T12:59:19.668388Z"
    }
   },
   "outputs": [],
   "source": [
    "import sys, os, glob, json, codecs, platform\n",
    "import ArabicTransliterator\n",
    "# from ALA_LC_Transliterator import ALA_LC_Transliterator\n",
    "from ArabicTransliterator import ALA_LC_Transliterator\n",
    "import mishkal.tashkeel.tashkeel as tashkeel\n",
    "import pandas as pd\n",
    "from IPython.display import display, HTML"
   ]
  },
  {
   "cell_type": "code",
   "execution_count": 1,
   "metadata": {
    "ExecuteTime": {
     "end_time": "2019-11-21T12:59:17.868299Z",
     "start_time": "2019-11-21T12:59:17.864931Z"
    }
   },
   "outputs": [],
   "source": [
    "inputfile1 = 'data/phrases.csv'\n",
    "inputfile2 = 'data/nouns.csv'"
   ]
  },
  {
   "cell_type": "code",
   "execution_count": 3,
   "metadata": {
    "ExecuteTime": {
     "end_time": "2019-11-21T12:59:22.114405Z",
     "start_time": "2019-11-21T12:59:22.107290Z"
    }
   },
   "outputs": [],
   "source": [
    "transliterator = ALA_LC_Transliterator()"
   ]
  },
  {
   "cell_type": "code",
   "execution_count": 4,
   "metadata": {
    "ExecuteTime": {
     "end_time": "2019-11-21T12:59:24.867959Z",
     "start_time": "2019-11-21T12:59:24.858474Z"
    }
   },
   "outputs": [],
   "source": [
    "def transliterate(text, vocalize=True):\n",
    "    voc = text\n",
    "    if vocalize:\n",
    "        vocalizer=tashkeel.TashkeelClass()\n",
    "        voc = vocalizer.tashkeel(text)\n",
    "    return transliterator.do(voc.strip())\n",
    "\n",
    "def transliterate_df(inputdf):\n",
    "    outputdf = pd.DataFrame(columns = ['transliterations'])\n",
    "    for i, row in inputdf.iterrows():\n",
    "        for elem in row: \n",
    "            t = transliterate(elem.strip(), vocalize=True)\n",
    "            t_df = pd.DataFrame({'transliterations' : [t]}, index=[i])\n",
    "            outputdf = outputdf.append(t_df)\n",
    "    return outputdf"
   ]
  },
  {
   "cell_type": "code",
   "execution_count": 5,
   "metadata": {
    "ExecuteTime": {
     "end_time": "2019-11-21T12:59:28.286385Z",
     "start_time": "2019-11-21T12:59:27.973589Z"
    }
   },
   "outputs": [
    {
     "data": {
      "text/html": [
       "<div>\n",
       "<style scoped>\n",
       "    .dataframe tbody tr th:only-of-type {\n",
       "        vertical-align: middle;\n",
       "    }\n",
       "\n",
       "    .dataframe tbody tr th {\n",
       "        vertical-align: top;\n",
       "    }\n",
       "\n",
       "    .dataframe thead th {\n",
       "        text-align: right;\n",
       "    }\n",
       "</style>\n",
       "<table border=\"1\" class=\"dataframe\">\n",
       "  <thead>\n",
       "    <tr style=\"text-align: right;\">\n",
       "      <th></th>\n",
       "      <th>phrase</th>\n",
       "      <th>transliterations</th>\n",
       "    </tr>\n",
       "  </thead>\n",
       "  <tbody>\n",
       "    <tr>\n",
       "      <th>0</th>\n",
       "      <td>إذا كنت ذا عشق ووجد ورقة</td>\n",
       "      <td>idhā kannat dhā ‘ishqun wawujid wariqah</td>\n",
       "    </tr>\n",
       "    <tr>\n",
       "      <th>1</th>\n",
       "      <td>فنغمته تحيي النفوس وتشتفي</td>\n",
       "      <td>fanaghmatuh tuḥayyī al-nufūs watashtaffī</td>\n",
       "    </tr>\n",
       "    <tr>\n",
       "      <th>2</th>\n",
       "      <td>قُلْتُ أَهَذَا وَلَيْسَ يَكْفِي</td>\n",
       "      <td>qult ahadhā walays yakfī</td>\n",
       "    </tr>\n",
       "    <tr>\n",
       "      <th>3</th>\n",
       "      <td>يا من على طيف الخيال أحالني</td>\n",
       "      <td>yā man ‘alá ṭayf al-khayāl aḥālanī</td>\n",
       "    </tr>\n",
       "  </tbody>\n",
       "</table>\n",
       "</div>"
      ],
      "text/plain": [
       "                            phrase                          transliterations\n",
       "0         إذا كنت ذا عشق ووجد ورقة   idhā kannat dhā ‘ishqun wawujid wariqah\n",
       "1        فنغمته تحيي النفوس وتشتفي  fanaghmatuh tuḥayyī al-nufūs watashtaffī\n",
       "2  قُلْتُ أَهَذَا وَلَيْسَ يَكْفِي                  qult ahadhā walays yakfī\n",
       "3      يا من على طيف الخيال أحالني        yā man ‘alá ṭayf al-khayāl aḥālanī"
      ]
     },
     "metadata": {},
     "output_type": "display_data"
    }
   ],
   "source": [
    "inputdf = pd.read_csv(inputfile1)\n",
    "outputdf = transliterate_df(inputdf)\n",
    "d = pd.concat([inputdf, outputdf], axis=1)\n",
    "display(d)"
   ]
  },
  {
   "cell_type": "code",
   "execution_count": 7,
   "metadata": {
    "ExecuteTime": {
     "end_time": "2019-11-21T13:00:32.573350Z",
     "start_time": "2019-11-21T13:00:29.924297Z"
    }
   },
   "outputs": [
    {
     "data": {
      "text/html": [
       "<div>\n",
       "<style scoped>\n",
       "    .dataframe tbody tr th:only-of-type {\n",
       "        vertical-align: middle;\n",
       "    }\n",
       "\n",
       "    .dataframe tbody tr th {\n",
       "        vertical-align: top;\n",
       "    }\n",
       "\n",
       "    .dataframe thead th {\n",
       "        text-align: right;\n",
       "    }\n",
       "</style>\n",
       "<table border=\"1\" class=\"dataframe\">\n",
       "  <thead>\n",
       "    <tr style=\"text-align: right;\">\n",
       "      <th></th>\n",
       "      <th>الاستهلال</th>\n",
       "      <th>transliterations</th>\n",
       "    </tr>\n",
       "  </thead>\n",
       "  <tbody>\n",
       "    <tr>\n",
       "      <th>0</th>\n",
       "      <td>الحجاز الكبير</td>\n",
       "      <td>al-ḥjāz al-kabīr</td>\n",
       "    </tr>\n",
       "    <tr>\n",
       "      <th>1</th>\n",
       "      <td>إنشاد</td>\n",
       "      <td>inshād</td>\n",
       "    </tr>\n",
       "    <tr>\n",
       "      <th>2</th>\n",
       "      <td>احمد أقريش</td>\n",
       "      <td>iḥmad aquraysh</td>\n",
       "    </tr>\n",
       "    <tr>\n",
       "      <th>3</th>\n",
       "      <td>احمد البردعي</td>\n",
       "      <td>iḥmad al-barda‘ī</td>\n",
       "    </tr>\n",
       "    <tr>\n",
       "      <th>4</th>\n",
       "      <td>احمد الشنتوف</td>\n",
       "      <td>iḥmad al-shntūf</td>\n",
       "    </tr>\n",
       "    <tr>\n",
       "      <th>5</th>\n",
       "      <td>احمد المرابط</td>\n",
       "      <td>iḥmad al-marābiṭ</td>\n",
       "    </tr>\n",
       "    <tr>\n",
       "      <th>6</th>\n",
       "      <td>احمد الورديغي</td>\n",
       "      <td>iḥmad al-ūrdīghī</td>\n",
       "    </tr>\n",
       "    <tr>\n",
       "      <th>7</th>\n",
       "      <td>احمد بنعياد</td>\n",
       "      <td>iḥmad bn‘yād</td>\n",
       "    </tr>\n",
       "    <tr>\n",
       "      <th>8</th>\n",
       "      <td>احمد حرازم</td>\n",
       "      <td>iḥmad ḥrāzm</td>\n",
       "    </tr>\n",
       "    <tr>\n",
       "      <th>9</th>\n",
       "      <td>استوديو خاص</td>\n",
       "      <td>stūdīū khāṣṣ</td>\n",
       "    </tr>\n",
       "    <tr>\n",
       "      <th>10</th>\n",
       "      <td>الأمين الأكرمي</td>\n",
       "      <td>al-amīn al-kramī</td>\n",
       "    </tr>\n",
       "    <tr>\n",
       "      <th>11</th>\n",
       "      <td>الإذاعة والتلفزة الوطنية</td>\n",
       "      <td>al-dhā‘ah wal-talfazah al-waṭanīyah</td>\n",
       "    </tr>\n",
       "    <tr>\n",
       "      <th>12</th>\n",
       "      <td>الإنشاد</td>\n",
       "      <td>al-inshād</td>\n",
       "    </tr>\n",
       "    <tr>\n",
       "      <th>13</th>\n",
       "      <td>الاستهلال</td>\n",
       "      <td>al-istihlāl</td>\n",
       "    </tr>\n",
       "    <tr>\n",
       "      <th>14</th>\n",
       "      <td>الاصبهان</td>\n",
       "      <td>al-āṣbhān</td>\n",
       "    </tr>\n",
       "    <tr>\n",
       "      <th>15</th>\n",
       "      <td>الانصراف</td>\n",
       "      <td>al-inṣirāf</td>\n",
       "    </tr>\n",
       "    <tr>\n",
       "      <th>16</th>\n",
       "      <td>البيانو</td>\n",
       "      <td>al-biyānū</td>\n",
       "    </tr>\n",
       "    <tr>\n",
       "      <th>17</th>\n",
       "      <td>التواشي السبع لطبع المشرقي</td>\n",
       "      <td>al-tūāshī al-sab‘ liṭubi‘ al-mashriqī</td>\n",
       "    </tr>\n",
       "    <tr>\n",
       "      <th>18</th>\n",
       "      <td>التوشية الأولى</td>\n",
       "      <td>al-tawshīh al-ūlá</td>\n",
       "    </tr>\n",
       "    <tr>\n",
       "      <th>19</th>\n",
       "      <td>التوشية الأولى لطبع المشرقي</td>\n",
       "      <td>al-tawshīh al-ūlá liṭubi‘ al-mashriqī</td>\n",
       "    </tr>\n",
       "  </tbody>\n",
       "</table>\n",
       "</div>"
      ],
      "text/plain": [
       "                      الاستهلال                       transliterations\n",
       "0                 الحجاز الكبير                       al-ḥjāz al-kabīr\n",
       "1                         إنشاد                                 inshād\n",
       "2                    احمد أقريش                         iḥmad aquraysh\n",
       "3                  احمد البردعي                       iḥmad al-barda‘ī\n",
       "4                  احمد الشنتوف                        iḥmad al-shntūf\n",
       "5                  احمد المرابط                       iḥmad al-marābiṭ\n",
       "6                 احمد الورديغي                       iḥmad al-ūrdīghī\n",
       "7                   احمد بنعياد                           iḥmad bn‘yād\n",
       "8                    احمد حرازم                            iḥmad ḥrāzm\n",
       "9                   استوديو خاص                           stūdīū khāṣṣ\n",
       "10               الأمين الأكرمي                       al-amīn al-kramī\n",
       "11     الإذاعة والتلفزة الوطنية    al-dhā‘ah wal-talfazah al-waṭanīyah\n",
       "12                      الإنشاد                              al-inshād\n",
       "13                    الاستهلال                            al-istihlāl\n",
       "14                     الاصبهان                              al-āṣbhān\n",
       "15                     الانصراف                             al-inṣirāf\n",
       "16                      البيانو                              al-biyānū\n",
       "17   التواشي السبع لطبع المشرقي  al-tūāshī al-sab‘ liṭubi‘ al-mashriqī\n",
       "18               التوشية الأولى                      al-tawshīh al-ūlá\n",
       "19  التوشية الأولى لطبع المشرقي  al-tawshīh al-ūlá liṭubi‘ al-mashriqī"
      ]
     },
     "metadata": {},
     "output_type": "display_data"
    }
   ],
   "source": [
    "inputdf = pd.read_csv(inputfile2)\n",
    "outputdf = transliterate_df(inputdf)\n",
    "d = pd.concat([inputdf, outputdf], axis=1)\n",
    "display(d[:20])"
   ]
  },
  {
   "cell_type": "code",
   "execution_count": 9,
   "metadata": {
    "ExecuteTime": {
     "end_time": "2019-11-21T10:34:24.622801Z",
     "start_time": "2019-11-21T10:34:24.590375Z"
    }
   },
   "outputs": [
    {
     "data": {
      "text/plain": [
       "'al-inṣirāf'"
      ]
     },
     "execution_count": 9,
     "metadata": {},
     "output_type": "execute_result"
    }
   ],
   "source": [
    "transliterate('الانصراف\t')"
   ]
  },
  {
   "cell_type": "code",
   "execution_count": 10,
   "metadata": {
    "ExecuteTime": {
     "end_time": "2019-11-21T10:35:12.117883Z",
     "start_time": "2019-11-21T10:35:11.956880Z"
    }
   },
   "outputs": [
    {
     "data": {
      "text/plain": [
       "'[UNK] man fuḍulik [UNK] āiṭlab lī sayyārah ujrah .[UNK]'"
      ]
     },
     "execution_count": 10,
     "metadata": {},
     "output_type": "execute_result"
    }
   ],
   "source": [
    "transliterate('‫من فضلك، اطلب لي سيارة أجرة.‬')"
   ]
  },
  {
   "cell_type": "code",
   "execution_count": 8,
   "metadata": {
    "ExecuteTime": {
     "end_time": "2019-11-21T13:01:15.265391Z",
     "start_time": "2019-11-21T13:01:15.173190Z"
    }
   },
   "outputs": [
    {
     "data": {
      "text/plain": [
       "'[UNK] man fuḍulik [UNK] ‘alá ṭawl .[UNK]'"
      ]
     },
     "execution_count": 8,
     "metadata": {},
     "output_type": "execute_result"
    }
   ],
   "source": [
    "transliterate('‫من فضلك، على طول.‬')"
   ]
  },
  {
   "cell_type": "code",
   "execution_count": 9,
   "metadata": {
    "ExecuteTime": {
     "end_time": "2019-11-21T13:01:23.663955Z",
     "start_time": "2019-11-21T13:01:23.654950Z"
    }
   },
   "outputs": [
    {
     "data": {
      "text/plain": [
       "'[UNK]mn fḍlk[UNK] ‘lá ṭūl.[UNK]'"
      ]
     },
     "execution_count": 9,
     "metadata": {},
     "output_type": "execute_result"
    }
   ],
   "source": [
    "transliterate('‫من فضلك، على طول.‬', False)"
   ]
  },
  {
   "cell_type": "code",
   "execution_count": 10,
   "metadata": {
    "ExecuteTime": {
     "end_time": "2019-11-21T13:07:54.679787Z",
     "start_time": "2019-11-21T13:07:54.575849Z"
    }
   },
   "outputs": [
    {
     "data": {
      "text/plain": [
       "'[UNK] man fuḍulik [UNK] hunāk ‘ind al-zāwiyah ‘alá al-īsār .[UNK]'"
      ]
     },
     "execution_count": 10,
     "metadata": {},
     "output_type": "execute_result"
    }
   ],
   "source": [
    "transliterate('‫من فضلك، هناك عند الزاوية على اليسار.‬')"
   ]
  },
  {
   "cell_type": "code",
   "execution_count": 11,
   "metadata": {
    "ExecuteTime": {
     "end_time": "2019-11-21T13:08:42.542137Z",
     "start_time": "2019-11-21T13:08:42.394006Z"
    }
   },
   "outputs": [
    {
     "name": "stdout",
     "output_type": "stream",
     "text": [
      "[UNK] man\n",
      "faḍalak [UNK]\n",
      "hunāk\n",
      "‘ind\n",
      "al-zāwiyah\n",
      "‘alá\n",
      "al-īsār .[UNK]\n"
     ]
    }
   ],
   "source": [
    "sents='‫من فضلك، هناك عند الزاوية على اليسار.‬'\n",
    "for s in sents.split(' '):\n",
    "    print(transliterate(s))"
   ]
  },
  {
   "cell_type": "code",
   "execution_count": 13,
   "metadata": {
    "ExecuteTime": {
     "end_time": "2019-11-21T13:21:49.443749Z",
     "start_time": "2019-11-21T13:21:49.272720Z"
    }
   },
   "outputs": [
    {
     "name": "stdout",
     "output_type": "stream",
     "text": [
      "mādhā tanṣaḥinnay an af‘al [UNK]\n",
      "mādhā\n",
      "tanṣaḥinnay\n",
      "ann\n",
      "af‘al [UNK]\n"
     ]
    }
   ],
   "source": [
    "sents='ماذا تنصحني أن أفعل؟'\n",
    "print(transliterate(sents))\n",
    "for s in sents.split(' '):\n",
    "    print(transliterate(s))"
   ]
  }
 ],
 "metadata": {
  "kernelspec": {
   "display_name": "Python 3",
   "language": "python",
   "name": "python3"
  },
  "language_info": {
   "codemirror_mode": {
    "name": "ipython",
    "version": 3
   },
   "file_extension": ".py",
   "mimetype": "text/x-python",
   "name": "python",
   "nbconvert_exporter": "python",
   "pygments_lexer": "ipython3",
   "version": "3.6.4"
  },
  "varInspector": {
   "cols": {
    "lenName": 16,
    "lenType": 16,
    "lenVar": 40
   },
   "kernels_config": {
    "python": {
     "delete_cmd_postfix": "",
     "delete_cmd_prefix": "del ",
     "library": "var_list.py",
     "varRefreshCmd": "print(var_dic_list())"
    },
    "r": {
     "delete_cmd_postfix": ") ",
     "delete_cmd_prefix": "rm(",
     "library": "var_list.r",
     "varRefreshCmd": "cat(var_dic_list()) "
    }
   },
   "types_to_exclude": [
    "module",
    "function",
    "builtin_function_or_method",
    "instance",
    "_Feature"
   ],
   "window_display": false
  }
 },
 "nbformat": 4,
 "nbformat_minor": 2
}
