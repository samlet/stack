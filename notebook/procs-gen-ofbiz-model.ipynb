{
 "cells": [
  {
   "cell_type": "code",
   "execution_count": 5,
   "metadata": {
    "ExecuteTime": {
     "end_time": "2019-02-27T16:51:13.485138Z",
     "start_time": "2019-02-27T16:51:13.481718Z"
    }
   },
   "outputs": [],
   "source": [
    "import sagas.ofbiz.gen_tool as gt"
   ]
  },
  {
   "cell_type": "code",
   "execution_count": 6,
   "metadata": {
    "ExecuteTime": {
     "end_time": "2019-02-27T16:51:19.367682Z",
     "start_time": "2019-02-27T16:51:19.356302Z"
    }
   },
   "outputs": [
    {
     "name": "stdout",
     "output_type": "stream",
     "text": [
      "@class Schedule * Equatable\n",
      "@prop DateTime * fromDate\n",
      "@prop TimeOfDay * fromTime\n",
      "@prop DateTime * toDate\n",
      "@prop TimeOfDay * toTime\n",
      "@collection List - String allActivities\n",
      "@prop String * activity\n",
      "{\n",
      "  \"class_name\": \"Schedule\",\n",
      "  \"base_name\": \"Equatable\",\n",
      "  \"attributes\": [\n",
      "    {\n",
      "      \"prop_type\": \"DateTime\",\n",
      "      \"prop_name\": \"fromDate\"\n",
      "    },\n",
      "    {\n",
      "      \"prop_type\": \"TimeOfDay\",\n",
      "      \"prop_name\": \"fromTime\"\n",
      "    },\n",
      "    {\n",
      "      \"prop_type\": \"DateTime\",\n",
      "      \"prop_name\": \"toDate\"\n",
      "    },\n",
      "    {\n",
      "      \"prop_type\": \"TimeOfDay\",\n",
      "      \"prop_name\": \"toTime\"\n",
      "    },\n",
      "    {\n",
      "      \"prop_name\": \"allActivities\",\n",
      "      \"collection_type\": \"List\",\n",
      "      \"element_type\": \"String\"\n",
      "    },\n",
      "    {\n",
      "      \"prop_type\": \"String\",\n",
      "      \"prop_name\": \"activity\"\n",
      "    }\n",
      "  ]\n",
      "}\n"
     ]
    }
   ],
   "source": [
    "code=\"\"\"class Schedule extends Equatable {\n",
    "  DateTime fromDate= DateTime.now();\n",
    "  TimeOfDay fromTime = const TimeOfDay(hour: 7, minute: 28);\n",
    "  DateTime toDate = DateTime.now();\n",
    "  TimeOfDay toTime = const TimeOfDay(hour: 7, minute: 28);\n",
    "  // final List<String> allActivities = <String>['hiking', 'swimming', 'boating', 'fishing'];\n",
    "  List<String> allActivities= <String>['hiking', 'swimming'];\n",
    "  String activity = 'fishing';\n",
    "\"\"\"\n",
    "meta=gt.analyse(code)\n",
    "gt.dump(meta)"
   ]
  },
  {
   "cell_type": "code",
   "execution_count": 26,
   "metadata": {
    "ExecuteTime": {
     "end_time": "2019-02-27T18:07:54.651468Z",
     "start_time": "2019-02-27T18:07:54.625621Z"
    }
   },
   "outputs": [
    {
     "name": "stdout",
     "output_type": "stream",
     "text": [
      "@class LinearSales\n",
      "@prop int * year\n",
      "@prop int * yearLower\n",
      "@prop int * yearUpper\n",
      "@prop int * sales\n",
      "@prop int * salesLower\n",
      "@prop int * salesUpper\n",
      "@prop double * radius\n",
      "{\n",
      "  \"class_name\": \"DssLinearSales\",\n",
      "  \"base_name\": \"\",\n",
      "  \"attributes\": [\n",
      "    {\n",
      "      \"prop_type\": \"int\",\n",
      "      \"prop_name\": \"year\"\n",
      "    },\n",
      "    {\n",
      "      \"prop_type\": \"int\",\n",
      "      \"prop_name\": \"yearLower\"\n",
      "    },\n",
      "    {\n",
      "      \"prop_type\": \"int\",\n",
      "      \"prop_name\": \"yearUpper\"\n",
      "    },\n",
      "    {\n",
      "      \"prop_type\": \"int\",\n",
      "      \"prop_name\": \"sales\"\n",
      "    },\n",
      "    {\n",
      "      \"prop_type\": \"int\",\n",
      "      \"prop_name\": \"salesLower\"\n",
      "    },\n",
      "    {\n",
      "      \"prop_type\": \"int\",\n",
      "      \"prop_name\": \"salesUpper\"\n",
      "    },\n",
      "    {\n",
      "      \"prop_type\": \"double\",\n",
      "      \"prop_name\": \"radius\"\n",
      "    }\n",
      "  ]\n",
      "}\n"
     ]
    }
   ],
   "source": [
    "import re\n",
    "\n",
    "code=\"\"\"class LinearSales {\n",
    "  final int year;\n",
    "  final int yearLower;\n",
    "  final int yearUpper;\n",
    "  final int sales;\n",
    "  final int salesLower;\n",
    "  final int salesUpper;\n",
    "  final double radius;\n",
    "\"\"\"\n",
    "meta=gt.GenMeta()\n",
    "prefix=\"Dss\"\n",
    "for line in code.splitlines():    \n",
    "    # print(line)\n",
    "    match_obj=re.match(r'class (.*) {', line, re.M|re.I)\n",
    "    if match_obj:\n",
    "        print(\"@class\", match_obj.group(1))\n",
    "        meta.class_name=prefix+match_obj.group(1)\n",
    "    else:\n",
    "        pass\n",
    "    \n",
    "    match_obj=re.match(r'\\s*(var|final)?\\s*([a-zA-Z_][a-zA-Z_0-9]*)\\s*([a-zA-Z_][a-zA-Z_0-9]*)\\s*(.*);', line, re.M|re.I)\n",
    "    # match_obj=re.search(r'([a-zA-Z_]+) ([a-zA-Z_]+) = ([a-zA-Z_]+);', line)\n",
    "    if match_obj:\n",
    "        print(\"@prop\", match_obj.group(2),'*', match_obj.group(3))\n",
    "        meta.attributes.append(gt.GenProp(match_obj.group(2), match_obj.group(3)))\n",
    "    else:\n",
    "        pass\n",
    "    \n",
    "    # process collections\n",
    "    match_obj=re.match(r'\\s*([a-zA-Z_][a-zA-Z_0-9]*)<(.*)>\\s*([a-zA-Z_][a-zA-Z_0-9]*)\\s*=(.*);', line, re.M|re.I)\n",
    "    if match_obj:\n",
    "        print(\"@collection\", match_obj.group(1),\"-\", match_obj.group(2), match_obj.group(3))\n",
    "        meta.attributes.append(GenCollection(match_obj.group(1),match_obj.group(2), match_obj.group(3)))\n",
    "    else:\n",
    "        pass\n",
    "\n",
    "gt.dump(meta)"
   ]
  },
  {
   "cell_type": "code",
   "execution_count": 27,
   "metadata": {
    "ExecuteTime": {
     "end_time": "2019-02-27T18:08:04.546266Z",
     "start_time": "2019-02-27T18:08:04.536833Z"
    }
   },
   "outputs": [
    {
     "name": "stdout",
     "output_type": "stream",
     "text": [
      "numeric\n",
      "date-time\n"
     ]
    }
   ],
   "source": [
    "type_mappings = {\"String\": \"description\",\n",
    "                 \"int\":\"numeric\",\n",
    "                 \"double\":\"floating-point\",\n",
    "                 \"DateTime\":\"date-time\",\n",
    "                 \"Uint8List\":\"byte-array\"}\n",
    "\n",
    "def get_mapping_type(field_type):    \n",
    "    if field_type not in type_mappings:\n",
    "        raise ValueError(\"Cannot find mapping type for \" + field_type)\n",
    "    return type_mappings[field_type]\n",
    "\n",
    "print(get_mapping_type('int'))\n",
    "print(get_mapping_type('DateTime'))"
   ]
  },
  {
   "cell_type": "code",
   "execution_count": 28,
   "metadata": {
    "ExecuteTime": {
     "end_time": "2019-02-27T18:08:06.824096Z",
     "start_time": "2019-02-27T18:08:06.810158Z"
    }
   },
   "outputs": [
    {
     "name": "stdout",
     "output_type": "stream",
     "text": [
      "    <entity entity-name=\"DssLinearSales\" package-name=\"com.sagas.dss\" title=\"Dss Linear Sales\">\n",
      "      <field name=\"year\" type=\"numeric\"></field>\n",
      "      <field name=\"yearLower\" type=\"numeric\"></field>\n",
      "      <field name=\"yearUpper\" type=\"numeric\"></field>\n",
      "      <field name=\"sales\" type=\"numeric\"></field>\n",
      "      <field name=\"salesLower\" type=\"numeric\"></field>\n",
      "      <field name=\"salesUpper\" type=\"numeric\"></field>\n",
      "      <field name=\"radius\" type=\"floating-point\"></field>\n",
      "      <field name=\"DssLinearSalesId\" type=\"id\"></field>\n",
      "      <prim-key field=\"DssLinearSalesId\"/>\n",
      "    </entity>\n"
     ]
    }
   ],
   "source": [
    "from sagas.util.str_converters import to_snake_case, to_words\n",
    "# print(to_words(to_snake_case('LinearSales'), True))\n",
    "lines=[]\n",
    "entity_title=to_words(to_snake_case(meta.class_name), True)\n",
    "lines.append('    <entity entity-name=\"{name}\" package-name=\"com.sagas.dss\" title=\"{title}\">'.format(\n",
    "        name=meta.class_name, title=entity_title))\n",
    "for attr in meta.attributes:\n",
    "    lines.append('      <field name=\"%s\" type=\"%s\"></field>'%(attr.prop_name, get_mapping_type(attr.prop_type)))\n",
    "# add the primary key\n",
    "prim=to_words(meta.class_name)+\"Id\"\n",
    "lines.append('      <field name=\"%s\" type=\"id\"></field>'%prim)\n",
    "lines.append('      <prim-key field=\"%s\"/>'%prim)\n",
    "lines.append('    </entity>')\n",
    "\n",
    "print('\\n'.join(lines))"
   ]
  },
  {
   "cell_type": "code",
   "execution_count": 30,
   "metadata": {
    "ExecuteTime": {
     "end_time": "2019-02-28T08:15:10.739338Z",
     "start_time": "2019-02-28T08:15:10.723179Z"
    }
   },
   "outputs": [
    {
     "data": {
      "text/plain": [
       "0    91\n",
       "1    51\n",
       "2    94\n",
       "3    72\n",
       "4    43\n",
       "5     1\n",
       "6    91\n",
       "7    39\n",
       "8    10\n",
       "9    28\n",
       "dtype: int64"
      ]
     },
     "execution_count": 30,
     "metadata": {},
     "output_type": "execute_result"
    }
   ],
   "source": [
    "import numpy as np\n",
    "import pandas as pd\n",
    "import pyarrow as pa\n",
    "\n",
    "s = pd.Series(np.random.randint(1, 100, size=10))\n",
    "s"
   ]
  },
  {
   "cell_type": "code",
   "execution_count": 39,
   "metadata": {
    "ExecuteTime": {
     "end_time": "2019-02-28T08:22:20.407188Z",
     "start_time": "2019-02-28T08:22:20.398381Z"
    }
   },
   "outputs": [
    {
     "data": {
      "text/plain": [
       "DatetimeIndex(['2007-12-31', '2008-12-31', '2009-12-31', '2010-12-31',\n",
       "               '2011-12-31', '2012-12-31', '2013-12-31', '2014-12-31',\n",
       "               '2015-12-31', '2016-12-31'],\n",
       "              dtype='datetime64[ns]', freq='A-DEC')"
      ]
     },
     "execution_count": 39,
     "metadata": {},
     "output_type": "execute_result"
    }
   ],
   "source": [
    "rng = pd.date_range('1/1/2007 00:00', periods=10, freq='Y')\n",
    "rng"
   ]
  },
  {
   "cell_type": "code",
   "execution_count": 40,
   "metadata": {
    "ExecuteTime": {
     "end_time": "2019-02-28T08:22:37.627316Z",
     "start_time": "2019-02-28T08:22:37.607754Z"
    }
   },
   "outputs": [
    {
     "data": {
      "text/plain": [
       "2007-12-31    78\n",
       "2008-12-31     7\n",
       "2009-12-31    95\n",
       "2010-12-31    27\n",
       "2011-12-31     5\n",
       "2012-12-31    77\n",
       "2013-12-31    87\n",
       "2014-12-31    78\n",
       "2015-12-31    22\n",
       "2016-12-31     3\n",
       "Freq: A-DEC, dtype: int64"
      ]
     },
     "execution_count": 40,
     "metadata": {},
     "output_type": "execute_result"
    }
   ],
   "source": [
    "ts = pd.Series(np.random.randint(1,100, size=10), rng)\n",
    "ts"
   ]
  },
  {
   "cell_type": "code",
   "execution_count": 41,
   "metadata": {
    "ExecuteTime": {
     "end_time": "2019-02-28T08:22:48.277517Z",
     "start_time": "2019-02-28T08:22:48.261392Z"
    }
   },
   "outputs": [
    {
     "data": {
      "text/plain": [
       "2007    78\n",
       "2008     7\n",
       "2009    95\n",
       "2010    27\n",
       "2011     5\n",
       "2012    77\n",
       "2013    87\n",
       "2014    78\n",
       "2015    22\n",
       "2016     3\n",
       "Freq: A-DEC, dtype: int64"
      ]
     },
     "execution_count": 41,
     "metadata": {},
     "output_type": "execute_result"
    }
   ],
   "source": [
    "# 将时间日期索引转化为时间阶段索引\n",
    "ps = ts.to_period()\n",
    "ps"
   ]
  },
  {
   "cell_type": "code",
   "execution_count": 42,
   "metadata": {
    "ExecuteTime": {
     "end_time": "2019-02-28T08:28:49.001693Z",
     "start_time": "2019-02-28T08:28:48.958087Z"
    }
   },
   "outputs": [],
   "source": [
    "?ps.to_json"
   ]
  },
  {
   "cell_type": "code",
   "execution_count": 43,
   "metadata": {
    "ExecuteTime": {
     "end_time": "2019-02-28T08:30:29.481664Z",
     "start_time": "2019-02-28T08:30:29.469486Z"
    }
   },
   "outputs": [
    {
     "data": {
      "text/plain": [
       "'[78,7,95,27,5,77,87,78,22,3]'"
      ]
     },
     "execution_count": 43,
     "metadata": {},
     "output_type": "execute_result"
    }
   ],
   "source": [
    "ps.to_json(orient='records')"
   ]
  },
  {
   "cell_type": "code",
   "execution_count": 49,
   "metadata": {
    "ExecuteTime": {
     "end_time": "2019-02-28T08:34:12.208287Z",
     "start_time": "2019-02-28T08:34:12.196455Z"
    }
   },
   "outputs": [
    {
     "data": {
      "text/plain": [
       "'{\"schema\": {\"fields\":[{\"name\":\"index\",\"type\":\"datetime\",\"freq\":\"A-DEC\"},{\"name\":\"values\",\"type\":\"integer\"}],\"primaryKey\":[\"index\"],\"pandas_version\":\"0.20.0\"}, \"data\": [{\"index\":\"2007-01-01T00:00:00.000Z\",\"values\":78},{\"index\":\"2008-01-01T00:00:00.000Z\",\"values\":7},{\"index\":\"2009-01-01T00:00:00.000Z\",\"values\":95},{\"index\":\"2010-01-01T00:00:00.000Z\",\"values\":27},{\"index\":\"2011-01-01T00:00:00.000Z\",\"values\":5},{\"index\":\"2012-01-01T00:00:00.000Z\",\"values\":77},{\"index\":\"2013-01-01T00:00:00.000Z\",\"values\":87},{\"index\":\"2014-01-01T00:00:00.000Z\",\"values\":78},{\"index\":\"2015-01-01T00:00:00.000Z\",\"values\":22},{\"index\":\"2016-01-01T00:00:00.000Z\",\"values\":3}]}'"
      ]
     },
     "execution_count": 49,
     "metadata": {},
     "output_type": "execute_result"
    }
   ],
   "source": [
    "ps.to_json(orient='table')"
   ]
  },
  {
   "cell_type": "code",
   "execution_count": 59,
   "metadata": {
    "ExecuteTime": {
     "end_time": "2019-02-28T08:42:50.624507Z",
     "start_time": "2019-02-28T08:42:50.397364Z"
    }
   },
   "outputs": [
    {
     "data": {
      "image/png": "[encoded data removed]",
      "text/plain": [
       "<matplotlib.figure.Figure at 0x10d3f8dd8>"
      ]
     },
     "metadata": {
      "needs_background": "light"
     },
     "output_type": "display_data"
    }
   ],
   "source": [
    "import matplotlib.pyplot as plt\n",
    "ps.plot()\n",
    "plt.show()"
   ]
  },
  {
   "cell_type": "code",
   "execution_count": 68,
   "metadata": {
    "ExecuteTime": {
     "end_time": "2019-02-28T08:50:54.409947Z",
     "start_time": "2019-02-28T08:50:54.392649Z"
    }
   },
   "outputs": [
    {
     "name": "stdout",
     "output_type": "stream",
     "text": [
      "2007-01-01 00:00:00 <YearEnd: month=12>\n",
      "\t 2007 78\n",
      "2008-01-01 00:00:00 <YearEnd: month=12>\n",
      "\t 2008 7\n",
      "2009-01-01 00:00:00 <YearEnd: month=12>\n",
      "\t 2009 95\n",
      "2010-01-01 00:00:00 <YearEnd: month=12>\n",
      "\t 2010 27\n",
      "2011-01-01 00:00:00 <YearEnd: month=12>\n",
      "\t 2011 5\n",
      "2012-01-01 00:00:00 <YearEnd: month=12>\n",
      "\t 2012 77\n",
      "2013-01-01 00:00:00 <YearEnd: month=12>\n",
      "\t 2013 87\n",
      "2014-01-01 00:00:00 <YearEnd: month=12>\n",
      "\t 2014 78\n",
      "2015-01-01 00:00:00 <YearEnd: month=12>\n",
      "\t 2015 22\n",
      "2016-01-01 00:00:00 <YearEnd: month=12>\n",
      "\t 2016 3\n"
     ]
    }
   ],
   "source": [
    "for it in ps.items():\n",
    "    period=it[0]\n",
    "    print(period.start_time\t, period.freq)\n",
    "    print('\\t', str(period), it[1])"
   ]
  },
  {
   "cell_type": "code",
   "execution_count": 66,
   "metadata": {
    "ExecuteTime": {
     "end_time": "2019-02-28T08:48:30.075908Z",
     "start_time": "2019-02-28T08:48:30.068360Z"
    }
   },
   "outputs": [],
   "source": [
    "?pd.Period"
   ]
  },
  {
   "cell_type": "code",
   "execution_count": 69,
   "metadata": {
    "ExecuteTime": {
     "end_time": "2019-02-28T08:55:39.667359Z",
     "start_time": "2019-02-28T08:55:39.311885Z"
    }
   },
   "outputs": [
    {
     "data": {
      "text/html": [
       "<div>\n",
       "<style scoped>\n",
       "    .dataframe tbody tr th:only-of-type {\n",
       "        vertical-align: middle;\n",
       "    }\n",
       "\n",
       "    .dataframe tbody tr th {\n",
       "        vertical-align: top;\n",
       "    }\n",
       "\n",
       "    .dataframe thead th {\n",
       "        text-align: right;\n",
       "    }\n",
       "</style>\n",
       "<table border=\"1\" class=\"dataframe\">\n",
       "  <thead>\n",
       "    <tr style=\"text-align: right;\">\n",
       "      <th></th>\n",
       "      <th>internal</th>\n",
       "      <th>name</th>\n",
       "      <th>primary</th>\n",
       "      <th>type</th>\n",
       "      <th>field type</th>\n",
       "    </tr>\n",
       "  </thead>\n",
       "  <tbody>\n",
       "    <tr>\n",
       "      <th>0</th>\n",
       "      <td></td>\n",
       "      <td>year</td>\n",
       "      <td></td>\n",
       "      <td>description</td>\n",
       "      <td>description</td>\n",
       "    </tr>\n",
       "    <tr>\n",
       "      <th>1</th>\n",
       "      <td></td>\n",
       "      <td>sales</td>\n",
       "      <td></td>\n",
       "      <td>numeric</td>\n",
       "      <td>numeric</td>\n",
       "    </tr>\n",
       "    <tr>\n",
       "      <th>2</th>\n",
       "      <td></td>\n",
       "      <td>DssOrdinalSalesId</td>\n",
       "      <td>*</td>\n",
       "      <td>id</td>\n",
       "      <td>id</td>\n",
       "    </tr>\n",
       "    <tr>\n",
       "      <th>3</th>\n",
       "      <td>*</td>\n",
       "      <td>lastUpdatedStamp</td>\n",
       "      <td></td>\n",
       "      <td>date-time</td>\n",
       "      <td>date-time</td>\n",
       "    </tr>\n",
       "    <tr>\n",
       "      <th>4</th>\n",
       "      <td>*</td>\n",
       "      <td>lastUpdatedTxStamp</td>\n",
       "      <td></td>\n",
       "      <td>date-time</td>\n",
       "      <td>date-time</td>\n",
       "    </tr>\n",
       "    <tr>\n",
       "      <th>5</th>\n",
       "      <td>*</td>\n",
       "      <td>createdStamp</td>\n",
       "      <td></td>\n",
       "      <td>date-time</td>\n",
       "      <td>date-time</td>\n",
       "    </tr>\n",
       "    <tr>\n",
       "      <th>6</th>\n",
       "      <td>*</td>\n",
       "      <td>createdTxStamp</td>\n",
       "      <td></td>\n",
       "      <td>date-time</td>\n",
       "      <td>date-time</td>\n",
       "    </tr>\n",
       "  </tbody>\n",
       "</table>\n",
       "</div>"
      ],
      "text/plain": [
       "  internal                name primary         type   field type\n",
       "0                         year          description  description\n",
       "1                        sales              numeric      numeric\n",
       "2            DssOrdinalSalesId       *           id           id\n",
       "3        *    lastUpdatedStamp            date-time    date-time\n",
       "4        *  lastUpdatedTxStamp            date-time    date-time\n",
       "5        *        createdStamp            date-time    date-time\n",
       "6        *      createdTxStamp            date-time    date-time"
      ]
     },
     "execution_count": 69,
     "metadata": {},
     "output_type": "execute_result"
    }
   ],
   "source": [
    "from sagas.ofbiz.entities import OfEntity as e\n",
    "e('meta').DssOrdinalSales"
   ]
  },
  {
   "cell_type": "code",
   "execution_count": 76,
   "metadata": {
    "ExecuteTime": {
     "end_time": "2019-02-28T09:32:17.058651Z",
     "start_time": "2019-02-28T09:32:17.038088Z"
    }
   },
   "outputs": [
    {
     "name": "stdout",
     "output_type": "stream",
     "text": [
      "<?xml version=\"1.0\" encoding=\"UTF-8\"?>\n",
      "<entity-engine-xml>\n",
      "    <DssOrdinalSales dssOrdinalSalesId=\"2007-01-01 00:00:00\" year=\"2007\" sales=\"78\"/>\n",
      "    <DssOrdinalSales dssOrdinalSalesId=\"2008-01-01 00:00:00\" year=\"2008\" sales=\"7\"/>\n",
      "    <DssOrdinalSales dssOrdinalSalesId=\"2009-01-01 00:00:00\" year=\"2009\" sales=\"95\"/>\n",
      "    <DssOrdinalSales dssOrdinalSalesId=\"2010-01-01 00:00:00\" year=\"2010\" sales=\"27\"/>\n",
      "    <DssOrdinalSales dssOrdinalSalesId=\"2011-01-01 00:00:00\" year=\"2011\" sales=\"5\"/>\n",
      "    <DssOrdinalSales dssOrdinalSalesId=\"2012-01-01 00:00:00\" year=\"2012\" sales=\"77\"/>\n",
      "    <DssOrdinalSales dssOrdinalSalesId=\"2013-01-01 00:00:00\" year=\"2013\" sales=\"87\"/>\n",
      "    <DssOrdinalSales dssOrdinalSalesId=\"2014-01-01 00:00:00\" year=\"2014\" sales=\"78\"/>\n",
      "    <DssOrdinalSales dssOrdinalSalesId=\"2015-01-01 00:00:00\" year=\"2015\" sales=\"22\"/>\n",
      "    <DssOrdinalSales dssOrdinalSalesId=\"2016-01-01 00:00:00\" year=\"2016\" sales=\"3\"/>\n",
      "</entity-engine-xml>\n"
     ]
    }
   ],
   "source": [
    "entity_name=\"DssOrdinalSales\"\n",
    "id_col=\"dssOrdinalSalesId\"\n",
    "index_col='year'\n",
    "val_col='sales'\n",
    "\n",
    "lines=[]\n",
    "data_header='''<?xml version=\"1.0\" encoding=\"UTF-8\"?>\n",
    "<entity-engine-xml>'''\n",
    "data_footer='''</entity-engine-xml>'''\n",
    "data_item='''    <{entity} {id_col}=\"{id}\" {index_col}=\"{index}\" {val_col}=\"{val}\"/>'''\n",
    "lines.append(data_header)\n",
    "for it in ps.items():\n",
    "    period=it[0]\n",
    "    # print(period.start_time\t, period.freq)\n",
    "    lines.append(data_item.format(entity=entity_name, \n",
    "                                 id_col=id_col,\n",
    "                                 index_col=index_col,\n",
    "                                 val_col=val_col,\n",
    "                                 id=str(period.start_time),\n",
    "                                 index=str(period),\n",
    "                                 val=it[1]))\n",
    "lines.append(data_footer)\n",
    "cnt='\\n'.join(lines)\n",
    "print(cnt)"
   ]
  },
  {
   "cell_type": "code",
   "execution_count": 78,
   "metadata": {
    "ExecuteTime": {
     "end_time": "2019-02-28T09:35:38.033208Z",
     "start_time": "2019-02-28T09:35:38.028065Z"
    }
   },
   "outputs": [],
   "source": [
    "import io_utils\n",
    "io_utils.write_to_file('./data/dss/'+entity_name+\"GenData.xml\", cnt)"
   ]
  },
  {
   "cell_type": "code",
   "execution_count": 73,
   "metadata": {
    "ExecuteTime": {
     "end_time": "2019-02-28T09:21:25.128170Z",
     "start_time": "2019-02-28T09:21:25.123082Z"
    }
   },
   "outputs": [
    {
     "name": "stdout",
     "output_type": "stream",
     "text": [
      "dssOrdinalSales\n"
     ]
    }
   ],
   "source": [
    "lower_first = lambda s: s[:1].lower() + s[1:] if s else ''\n",
    "print(lower_first('DssOrdinalSales'))"
   ]
  },
  {
   "cell_type": "code",
   "execution_count": 1,
   "metadata": {
    "ExecuteTime": {
     "end_time": "2019-02-28T12:01:07.842220Z",
     "start_time": "2019-02-28T12:01:07.110143Z"
    }
   },
   "outputs": [
    {
     "data": {
      "text/plain": [
       "{'DssLinearSales', 'DssOrdinalSales'}"
      ]
     },
     "execution_count": 1,
     "metadata": {},
     "output_type": "execute_result"
    }
   ],
   "source": [
    "from sagas.ofbiz.entities import OfEntity as e, get_package_entities\n",
    "get_package_entities('com.sagas.dss')"
   ]
  }
 ],
 "metadata": {
  "kernelspec": {
   "display_name": "Python 3",
   "language": "python",
   "name": "python3"
  },
  "language_info": {
   "codemirror_mode": {
    "name": "ipython",
    "version": 3
   },
   "file_extension": ".py",
   "mimetype": "text/x-python",
   "name": "python",
   "nbconvert_exporter": "python",
   "pygments_lexer": "ipython3",
   "version": "3.6.4"
  },
  "varInspector": {
   "cols": {
    "lenName": 16,
    "lenType": 16,
    "lenVar": 40
   },
   "kernels_config": {
    "python": {
     "delete_cmd_postfix": "",
     "delete_cmd_prefix": "del ",
     "library": "var_list.py",
     "varRefreshCmd": "print(var_dic_list())"
    },
    "r": {
     "delete_cmd_postfix": ") ",
     "delete_cmd_prefix": "rm(",
     "library": "var_list.r",
     "varRefreshCmd": "cat(var_dic_list()) "
    }
   },
   "types_to_exclude": [
    "module",
    "function",
    "builtin_function_or_method",
    "instance",
    "_Feature"
   ],
   "window_display": false
  }
 },
 "nbformat": 4,
 "nbformat_minor": 2
}
