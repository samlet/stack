{
 "cells": [
  {
   "cell_type": "code",
   "execution_count": 2,
   "metadata": {
    "ExecuteTime": {
     "end_time": "2019-04-20T13:27:07.271150Z",
     "start_time": "2019-04-20T13:27:07.235077Z"
    }
   },
   "outputs": [
    {
     "data": {
      "text/plain": [
       "[PosixPath('docker'),\n",
       " PosixPath('blueprints'),\n",
       " PosixPath('dump'),\n",
       " PosixPath('ecommerce'),\n",
       " PosixPath('test'),\n",
       " PosixPath('test_models'),\n",
       " PosixPath('bin'),\n",
       " PosixPath('out'),\n",
       " PosixPath('config'),\n",
       " PosixPath('dart'),\n",
       " PosixPath('google'),\n",
       " PosixPath('addons'),\n",
       " PosixPath('compose'),\n",
       " PosixPath('agents'),\n",
       " PosixPath('rasa_core'),\n",
       " PosixPath('server'),\n",
       " PosixPath('protocol'),\n",
       " PosixPath('__pycache__'),\n",
       " PosixPath('nlu_data'),\n",
       " PosixPath('rasa-app-data'),\n",
       " PosixPath('sagas'),\n",
       " PosixPath('test-output'),\n",
       " PosixPath('ref_src'),\n",
       " PosixPath('examples'),\n",
       " PosixPath('model'),\n",
       " PosixPath('actions'),\n",
       " PosixPath('db'),\n",
       " PosixPath('templates'),\n",
       " PosixPath('sample_configs'),\n",
       " PosixPath('.ipynb_checkpoints'),\n",
       " PosixPath('myfilters'),\n",
       " PosixPath('generators'),\n",
       " PosixPath('test.db'),\n",
       " PosixPath('.git'),\n",
       " PosixPath('data'),\n",
       " PosixPath('assets'),\n",
       " PosixPath('fsms'),\n",
       " PosixPath('model_temp'),\n",
       " PosixPath('.idea'),\n",
       " PosixPath('talk')]"
      ]
     },
     "execution_count": 2,
     "metadata": {},
     "output_type": "execute_result"
    }
   ],
   "source": [
    "from pathlib import Path\n",
    "p = Path('.')\n",
    "[x for x in p.iterdir() if x.is_dir()]"
   ]
  },
  {
   "cell_type": "code",
   "execution_count": 3,
   "metadata": {
    "ExecuteTime": {
     "end_time": "2019-04-20T13:27:25.984815Z",
     "start_time": "2019-04-20T13:27:25.736350Z"
    }
   },
   "outputs": [
    {
     "data": {
      "text/plain": [
       "[PosixPath('mylib.py'),\n",
       " PosixPath('values_pb2_grpc.py'),\n",
       " PosixPath('nlpserv_pb2.py'),\n",
       " PosixPath('forms_pb2.py'),\n",
       " PosixPath('common_types_pb2_grpc.py'),\n",
       " PosixPath('protobuf_utils.py'),\n",
       " PosixPath('values_pb2.py'),\n",
       " PosixPath('metainfo_pb2.py'),\n",
       " PosixPath('users_types_pb2.py'),\n",
       " PosixPath('simple_pb2_grpc.py'),\n",
       " PosixPath('common_types_pb2.py'),\n",
       " PosixPath('helloworld_pb2_grpc.py'),\n",
       " PosixPath('crmsfa_pb2.py'),\n",
       " PosixPath('resources_pb2_grpc.py'),\n",
       " PosixPath('options_pb2_grpc.py'),\n",
       " PosixPath('form_runner.py'),\n",
       " PosixPath('action_testor.py'),\n",
       " PosixPath('dataset_utils.py'),\n",
       " PosixPath('nlpserv_pb2_grpc.py'),\n",
       " PosixPath('sysdefs.py'),\n",
       " PosixPath('users_pb2.py'),\n",
       " PosixPath('hello_pb2_grpc.py'),\n",
       " PosixPath('metainfo_pb2_grpc.py'),\n",
       " PosixPath('blueprints_pb2.py'),\n",
       " PosixPath('agent_testor.py'),\n",
       " PosixPath('client_wrapper.py'),\n",
       " PosixPath('generator.py'),\n",
       " PosixPath('users_types_pb2_grpc.py'),\n",
       " PosixPath('form_mock_testor.py'),\n",
       " PosixPath('blueprints_pb2_grpc.py'),\n",
       " PosixPath('utils.py'),\n",
       " PosixPath('crmsfa_pb2_grpc.py'),\n",
       " PosixPath('options_pb2.py'),\n",
       " PosixPath('forms_pb2_grpc.py'),\n",
       " PosixPath('simple_pb2.py'),\n",
       " PosixPath('form_testor.py'),\n",
       " PosixPath('singleton.py'),\n",
       " PosixPath('helloworld_pb2.py'),\n",
       " PosixPath('action_runner.py'),\n",
       " PosixPath('io_utils.py'),\n",
       " PosixPath('users_pb2_grpc.py'),\n",
       " PosixPath('json_utils.py'),\n",
       " PosixPath('hello_pb2.py'),\n",
       " PosixPath('nlu_testor.py'),\n",
       " PosixPath('resources_pb2.py'),\n",
       " PosixPath('test/test_annotations.py'),\n",
       " PosixPath('google/protobuf/type_pb2_grpc.py'),\n",
       " PosixPath('google/protobuf/struct_pb2_grpc.py'),\n",
       " PosixPath('google/protobuf/field_mask_pb2_grpc.py'),\n",
       " PosixPath('google/protobuf/duration_pb2_grpc.py'),\n",
       " PosixPath('google/protobuf/wrappers_pb2.py'),\n",
       " PosixPath('google/protobuf/descriptor_pb2.py'),\n",
       " PosixPath('google/protobuf/field_mask_pb2.py'),\n",
       " PosixPath('google/protobuf/source_context_pb2_grpc.py'),\n",
       " PosixPath('google/protobuf/wrappers_pb2_grpc.py'),\n",
       " PosixPath('google/protobuf/empty_pb2.py'),\n",
       " PosixPath('google/protobuf/api_pb2.py'),\n",
       " PosixPath('google/protobuf/source_context_pb2.py'),\n",
       " PosixPath('google/protobuf/any_pb2.py'),\n",
       " PosixPath('google/protobuf/duration_pb2.py'),\n",
       " PosixPath('google/protobuf/timestamp_pb2_grpc.py'),\n",
       " PosixPath('google/protobuf/descriptor_pb2_grpc.py'),\n",
       " PosixPath('google/protobuf/struct_pb2.py'),\n",
       " PosixPath('google/protobuf/any_pb2_grpc.py'),\n",
       " PosixPath('google/protobuf/type_pb2.py'),\n",
       " PosixPath('google/protobuf/api_pb2_grpc.py'),\n",
       " PosixPath('google/protobuf/timestamp_pb2.py'),\n",
       " PosixPath('google/protobuf/empty_pb2_grpc.py'),\n",
       " PosixPath('agents/prototypes/concertbot/actions.old.py'),\n",
       " PosixPath('agents/prototypes/concertbot/__init__.py'),\n",
       " PosixPath('agents/prototypes/concertbot/visualize.py'),\n",
       " PosixPath('agents/prototypes/concertbot/train.py'),\n",
       " PosixPath('agents/prototypes/concertbot/train_interactive.py'),\n",
       " PosixPath('server/test_tf_gpu.py'),\n",
       " PosixPath('sagas/__init__.py'),\n",
       " PosixPath('sagas/bots/hanlp_procs.py'),\n",
       " PosixPath('sagas/bots/action_gen.py'),\n",
       " PosixPath('sagas/bots/__init__.py'),\n",
       " PosixPath('sagas/bots/action_broker.py'),\n",
       " PosixPath('sagas/bots/action_runner.py'),\n",
       " PosixPath('sagas/bots/servants/__init__.py'),\n",
       " PosixPath('sagas/bots/servants/endpoint.py'),\n",
       " PosixPath('sagas/bots/tools/corpus_procs.py'),\n",
       " PosixPath('sagas/bots/tools/__init__.py'),\n",
       " PosixPath('sagas/nlu/spacy_procs.py'),\n",
       " PosixPath('sagas/nlu/__init__.py'),\n",
       " PosixPath('sagas/nlu/tts_utils.py'),\n",
       " PosixPath('sagas/nlu/common.py'),\n",
       " PosixPath('sagas/nlu/procs_dependency.py'),\n",
       " PosixPath('sagas/util/string_util.py'),\n",
       " PosixPath('sagas/util/str_converters.py'),\n",
       " PosixPath('sagas/util/name_util.py'),\n",
       " PosixPath('sagas/ja/__init__.py'),\n",
       " PosixPath('sagas/ja/japanese_tokenizer.py'),\n",
       " PosixPath('sagas/listings/__init__.py'),\n",
       " PosixPath('sagas/tests/test_threading.py'),\n",
       " PosixPath('sagas/tests/test_services.py'),\n",
       " PosixPath('sagas/tests/test_simple.py'),\n",
       " PosixPath('sagas/tests/test_ofbiz_api.py'),\n",
       " PosixPath('sagas/tests/__init__.py'),\n",
       " PosixPath('sagas/tests/connect_with_odoorpc.py'),\n",
       " PosixPath('sagas/tests/test_threadlocal.py'),\n",
       " PosixPath('sagas/tests/test_entities.py'),\n",
       " PosixPath('sagas/tests/cabocha_client.py'),\n",
       " PosixPath('sagas/tests/test_protobuf.py'),\n",
       " PosixPath('sagas/tests/ja_nlu_tests.py'),\n",
       " PosixPath('sagas/tests/test_graphql_api.py'),\n",
       " PosixPath('sagas/tests/test_movies.py'),\n",
       " PosixPath('sagas/tests/test_decorator.py'),\n",
       " PosixPath('sagas/tests/bots/bot_query.py'),\n",
       " PosixPath('sagas/tests/net/__init__.py'),\n",
       " PosixPath('sagas/tests/net/gevent_t.py'),\n",
       " PosixPath('sagas/tests/multiprocessing/combining_s.py'),\n",
       " PosixPath('sagas/tests/multiprocessing/multiprocessing_s.py'),\n",
       " PosixPath('sagas/tests/multiprocessing/pool_s.py'),\n",
       " PosixPath('sagas/tests/multiprocessing/__init__.py'),\n",
       " PosixPath('sagas/tests/multiprocessing/queue_s.py'),\n",
       " PosixPath('sagas/tests/multiprocessing/sub_s.py'),\n",
       " PosixPath('sagas/tests/multiprocessing/m_2.py'),\n",
       " PosixPath('sagas/tests/multiprocessing/combining_processes.py'),\n",
       " PosixPath('sagas/tests/multiprocessing/communicate_s.py'),\n",
       " PosixPath('sagas/tests/async/async_testing.py'),\n",
       " PosixPath('sagas/tests/async/sleep_s.py'),\n",
       " PosixPath('sagas/tests/async/aiohttp_s.py'),\n",
       " PosixPath('sagas/tests/async/async_wget.py'),\n",
       " PosixPath('sagas/tests/async/simple.py'),\n",
       " PosixPath('sagas/tests/bus/receive_logs_topic.py'),\n",
       " PosixPath('sagas/tests/bus/__init__.py'),\n",
       " PosixPath('sagas/tests/bus/artifacts_testing.py'),\n",
       " PosixPath('sagas/tests/bus/emit_log_topic.py'),\n",
       " PosixPath('sagas/tests/bus/aio/receive_logs_topic.py'),\n",
       " PosixPath('sagas/tests/bus/aio/__init__.py'),\n",
       " PosixPath('sagas/tests/bus/aio/emit_log_topic.py'),\n",
       " PosixPath('sagas/tests/cli/__init__.py'),\n",
       " PosixPath('sagas/tests/cli/diff_tool.py'),\n",
       " PosixPath('sagas/tests/services/__init__.py'),\n",
       " PosixPath('sagas/tests/services/todo_list.py'),\n",
       " PosixPath('sagas/tests/services/todo.py'),\n",
       " PosixPath('sagas/tests/services/simple.py'),\n",
       " PosixPath('sagas/tests/hybrid/rpc_srv_client.py'),\n",
       " PosixPath('sagas/tests/hybrid/message_server.py'),\n",
       " PosixPath('sagas/tests/hybrid/hybrid_srv.py'),\n",
       " PosixPath('sagas/tests/hybrid/__init__.py'),\n",
       " PosixPath('sagas/tests/hybrid/func_client.py'),\n",
       " PosixPath('sagas/tests/hybrid/rpc_client.py'),\n",
       " PosixPath('sagas/tests/hybrid/rpc-callee.py'),\n",
       " PosixPath('sagas/tests/hybrid/web_srv.py'),\n",
       " PosixPath('sagas/tests/hybrid/rpc_json_server.py'),\n",
       " PosixPath('sagas/tests/hybrid/rpc_server.py'),\n",
       " PosixPath('sagas/tests/hybrid/func_server.py'),\n",
       " PosixPath('sagas/tests/hybrid/rpc-caller.py'),\n",
       " PosixPath('sagas/provider/amount_extractor.py'),\n",
       " PosixPath('sagas/provider/cabocha_entity_extractor.py'),\n",
       " PosixPath('sagas/provider/cabocha_tokenizer.py'),\n",
       " PosixPath('sagas/provider/hanlp_utils.py'),\n",
       " PosixPath('sagas/provider/__init__.py'),\n",
       " PosixPath('sagas/provider/time_extractor.py'),\n",
       " PosixPath('sagas/provider/hanlp_entity_extractor.py'),\n",
       " PosixPath('sagas/provider/cabocha_utils.py'),\n",
       " PosixPath('sagas/provider/hanlp_tokenizer.py'),\n",
       " PosixPath('sagas/backend/cabocha_backend.py'),\n",
       " PosixPath('sagas/backend/__init__.py'),\n",
       " PosixPath('sagas/storage/__init__.py'),\n",
       " PosixPath('sagas/storage/data_space.py'),\n",
       " PosixPath('sagas/ofbiz/srv.py'),\n",
       " PosixPath('sagas/ofbiz/finder.py'),\n",
       " PosixPath('sagas/ofbiz/services.py'),\n",
       " PosixPath('sagas/ofbiz/resource_indexer.py'),\n",
       " PosixPath('sagas/ofbiz/env.py'),\n",
       " PosixPath('sagas/ofbiz/schema_queries_g.py'),\n",
       " PosixPath('sagas/ofbiz/blackboard.py'),\n",
       " PosixPath('sagas/ofbiz/util.py'),\n",
       " PosixPath('sagas/ofbiz/entity_prefabs.py'),\n",
       " PosixPath('sagas/ofbiz/resource_mappings.py'),\n",
       " PosixPath('sagas/ofbiz/gen_section.py'),\n",
       " PosixPath('sagas/ofbiz/movies_api.py'),\n",
       " PosixPath('sagas/ofbiz/runtime_context.py'),\n",
       " PosixPath('sagas/ofbiz/tools.py'),\n",
       " PosixPath('sagas/ofbiz/mutations_builder.py'),\n",
       " PosixPath('sagas/ofbiz/__init__.py'),\n",
       " PosixPath('sagas/ofbiz/movies.py'),\n",
       " PosixPath('sagas/ofbiz/rpc_artifacts.py'),\n",
       " PosixPath('sagas/ofbiz/builder.py'),\n",
       " PosixPath('sagas/ofbiz/forms.py'),\n",
       " PosixPath('sagas/ofbiz/form_services.py'),\n",
       " PosixPath('sagas/ofbiz/service_gen.py'),\n",
       " PosixPath('sagas/ofbiz/bloc_gen.py'),\n",
       " PosixPath('sagas/ofbiz/connector.py'),\n",
       " PosixPath('sagas/ofbiz/resources.py'),\n",
       " PosixPath('sagas/ofbiz/date_time.py'),\n",
       " PosixPath('sagas/ofbiz/gen_data.py'),\n",
       " PosixPath('sagas/ofbiz/entities.py'),\n",
       " PosixPath('sagas/ofbiz/routines.py'),\n",
       " PosixPath('sagas/ofbiz/movies_data_loader.py'),\n",
       " PosixPath('sagas/ofbiz/gen_tool.py'),\n",
       " PosixPath('sagas/ofbiz/rpc_basic.py'),\n",
       " PosixPath('sagas/ofbiz/schema_mutations_g.py'),\n",
       " PosixPath('sagas/ofbiz/party_note_services.py'),\n",
       " PosixPath('sagas/ofbiz/local_testing.py'),\n",
       " PosixPath('sagas/ofbiz/schema_testing.py'),\n",
       " PosixPath('sagas/ofbiz/entity_meta_indexer.py'),\n",
       " PosixPath('sagas/ofbiz/entity_gen.py'),\n",
       " PosixPath('sagas/ofbiz/manufacturing/manufacturing_procs.py'),\n",
       " PosixPath('sagas/ofbiz/manufacturing/__init__.py'),\n",
       " PosixPath('sagas/users/__init__.py'),\n",
       " PosixPath('sagas/users/users_backend.py'),\n",
       " PosixPath('sagas/crmsfa/odoo_graphql.py'),\n",
       " PosixPath('sagas/crmsfa/__init__.py'),\n",
       " PosixPath('sagas/crmsfa/odoo_facade.py'),\n",
       " PosixPath('sagas/crmsfa/odoo_info.py'),\n",
       " PosixPath('sagas/crmsfa/crmsfa_backend.py'),\n",
       " PosixPath('sagas/tool/app_settings.py'),\n",
       " PosixPath('sagas/tool/__init__.py'),\n",
       " PosixPath('sagas/tool/modules.py'),\n",
       " PosixPath('sagas/hybrid/sender.py'),\n",
       " PosixPath('sagas/hybrid/hybrid_srv.py'),\n",
       " PosixPath('sagas/hybrid/__init__.py'),\n",
       " PosixPath('sagas/hybrid/srv_client.py'),\n",
       " PosixPath('ref_src/app/sample_app.py'),\n",
       " PosixPath('ref_src/webapp/app.py'),\n",
       " PosixPath('ref_src/io/example8.py'),\n",
       " PosixPath('ref_src/server/server.py'),\n",
       " PosixPath('ref_src/cabocha/analyzer.py'),\n",
       " PosixPath('ref_src/cabocha/__init__.py'),\n",
       " PosixPath('ref_src/cabocha/tokenizer.py'),\n",
       " PosixPath('ref_src/cabocha/filter.py'),\n",
       " PosixPath('ref_src/multiplex/multiplex_server.py'),\n",
       " PosixPath('ref_src/multiplex/helloworld_pb2_grpc.py'),\n",
       " PosixPath('ref_src/multiplex/route_guide_pb2.py'),\n",
       " PosixPath('ref_src/multiplex/multiplex_client.py'),\n",
       " PosixPath('ref_src/multiplex/route_guide_resources.py'),\n",
       " PosixPath('ref_src/multiplex/helloworld_pb2.py'),\n",
       " PosixPath('ref_src/multiplex/route_guide_pb2_grpc.py'),\n",
       " PosixPath('ref_src/multiplex/run_codegen.py'),\n",
       " PosixPath('actions/__init__.py'),\n",
       " PosixPath('actions/procs/concert_actions.py'),\n",
       " PosixPath('actions/procs/restaurant_form.py'),\n",
       " PosixPath('actions/procs/myactions.py'),\n",
       " PosixPath('actions/procs/actions.py'),\n",
       " PosixPath('actions/procs/__init__.py'),\n",
       " PosixPath('myfilters/__init__.py'),\n",
       " PosixPath('generators/module_generator.py'),\n",
       " PosixPath('generators/output/planet/api.py'),\n",
       " PosixPath('generators/output/planet/setup.py'),\n",
       " PosixPath('generators/output/planet/utils.py'),\n",
       " PosixPath('generators/output/planet/schema_planet.py'),\n",
       " PosixPath('generators/output/planet/schema_people.py'),\n",
       " PosixPath('generators/output/planet/schema.py'),\n",
       " PosixPath('generators/output/planet/database/model_planet.py'),\n",
       " PosixPath('generators/output/planet/database/model_people.py'),\n",
       " PosixPath('generators/output/planet/database/base.py'),\n",
       " PosixPath('generators/templates/api.py'),\n",
       " PosixPath('generators/templates/utils.py'),\n",
       " PosixPath('data/test_endpoints/__init__.py')]"
      ]
     },
     "execution_count": 3,
     "metadata": {},
     "output_type": "execute_result"
    }
   ],
   "source": [
    "list(p.glob('**/*.py'))"
   ]
  },
  {
   "cell_type": "code",
   "execution_count": 5,
   "metadata": {
    "ExecuteTime": {
     "end_time": "2019-04-20T13:28:22.956108Z",
     "start_time": "2019-04-20T13:28:22.947050Z"
    }
   },
   "outputs": [
    {
     "data": {
      "text/plain": [
       "PosixPath('/etc/init.d/reboot')"
      ]
     },
     "execution_count": 5,
     "metadata": {},
     "output_type": "execute_result"
    }
   ],
   "source": [
    "p = Path('/etc')\n",
    "q = p / 'init.d' / 'reboot'\n",
    "q\n",
    "# PosixPath('/etc/init.d/reboot')"
   ]
  },
  {
   "cell_type": "code",
   "execution_count": 6,
   "metadata": {
    "ExecuteTime": {
     "end_time": "2019-04-20T13:28:26.090252Z",
     "start_time": "2019-04-20T13:28:26.082865Z"
    }
   },
   "outputs": [
    {
     "data": {
      "text/plain": [
       "PosixPath('/private/etc/init.d/reboot')"
      ]
     },
     "execution_count": 6,
     "metadata": {},
     "output_type": "execute_result"
    }
   ],
   "source": [
    ">>> q.resolve()"
   ]
  },
  {
   "cell_type": "code",
   "execution_count": 8,
   "metadata": {
    "ExecuteTime": {
     "end_time": "2019-04-20T13:29:05.627673Z",
     "start_time": "2019-04-20T13:29:05.620343Z"
    }
   },
   "outputs": [
    {
     "name": "stdout",
     "output_type": "stream",
     "text": [
      "False False\n"
     ]
    }
   ],
   "source": [
    "print(q.exists(), q.is_dir())"
   ]
  },
  {
   "cell_type": "code",
   "execution_count": 12,
   "metadata": {
    "ExecuteTime": {
     "end_time": "2019-04-20T13:31:56.781194Z",
     "start_time": "2019-04-20T13:31:56.770591Z"
    }
   },
   "outputs": [
    {
     "name": "stdout",
     "output_type": "stream",
     "text": [
      "/Users/xiaofeiwu/jcloud/blueprints/books/langs/fr-Food.md True\n",
      "# fr-Food.md\n",
      "\n"
     ]
    }
   ],
   "source": [
    "p=Path('/pi/langs')\n",
    "q=p/'fr-Food.md'\n",
    "print(q.resolve(), q.exists())\n",
    "with q.open() as f: \n",
    "    print(f.readline())"
   ]
  }
 ],
 "metadata": {
  "kernelspec": {
   "display_name": "Python 3",
   "language": "python",
   "name": "python3"
  },
  "language_info": {
   "codemirror_mode": {
    "name": "ipython",
    "version": 3
   },
   "file_extension": ".py",
   "mimetype": "text/x-python",
   "name": "python",
   "nbconvert_exporter": "python",
   "pygments_lexer": "ipython3",
   "version": "3.6.4"
  },
  "varInspector": {
   "cols": {
    "lenName": 16,
    "lenType": 16,
    "lenVar": 40
   },
   "kernels_config": {
    "python": {
     "delete_cmd_postfix": "",
     "delete_cmd_prefix": "del ",
     "library": "var_list.py",
     "varRefreshCmd": "print(var_dic_list())"
    },
    "r": {
     "delete_cmd_postfix": ") ",
     "delete_cmd_prefix": "rm(",
     "library": "var_list.r",
     "varRefreshCmd": "cat(var_dic_list()) "
    }
   },
   "types_to_exclude": [
    "module",
    "function",
    "builtin_function_or_method",
    "instance",
    "_Feature"
   ],
   "window_display": false
  }
 },
 "nbformat": 4,
 "nbformat_minor": 2
}
