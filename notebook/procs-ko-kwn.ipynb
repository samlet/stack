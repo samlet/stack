{
 "cells": [
  {
   "cell_type": "code",
   "execution_count": 3,
   "metadata": {
    "ExecuteTime": {
     "end_time": "2020-02-28T11:08:35.926113Z",
     "start_time": "2020-02-28T11:08:35.873659Z"
    }
   },
   "outputs": [
    {
     "data": {
      "text/html": [
       "<div>\n",
       "<style scoped>\n",
       "    .dataframe tbody tr th:only-of-type {\n",
       "        vertical-align: middle;\n",
       "    }\n",
       "\n",
       "    .dataframe tbody tr th {\n",
       "        vertical-align: top;\n",
       "    }\n",
       "\n",
       "    .dataframe thead th {\n",
       "        text-align: right;\n",
       "    }\n",
       "</style>\n",
       "<table border=\"1\" class=\"dataframe\">\n",
       "  <thead>\n",
       "    <tr style=\"text-align: right;\">\n",
       "      <th></th>\n",
       "      <th># synset_id</th>\n",
       "      <th>pos</th>\n",
       "      <th>english_lemmas</th>\n",
       "      <th>korean_lemmas</th>\n",
       "    </tr>\n",
       "  </thead>\n",
       "  <tbody>\n",
       "    <tr>\n",
       "      <th>0</th>\n",
       "      <td>00001740-v</td>\n",
       "      <td>Verb</td>\n",
       "      <td>breathe, take_a_breath, suspire, respire</td>\n",
       "      <td>호흡하</td>\n",
       "    </tr>\n",
       "    <tr>\n",
       "      <th>1</th>\n",
       "      <td>00002325-v</td>\n",
       "      <td>Verb</td>\n",
       "      <td>respire</td>\n",
       "      <td>호흡하</td>\n",
       "    </tr>\n",
       "    <tr>\n",
       "      <th>2</th>\n",
       "      <td>00002684-n</td>\n",
       "      <td>Noun</td>\n",
       "      <td>physical_object, object</td>\n",
       "      <td>물, 놈</td>\n",
       "    </tr>\n",
       "    <tr>\n",
       "      <th>3</th>\n",
       "      <td>00002724-v</td>\n",
       "      <td>Verb</td>\n",
       "      <td>choke</td>\n",
       "      <td>질식하</td>\n",
       "    </tr>\n",
       "    <tr>\n",
       "      <th>4</th>\n",
       "      <td>00003553-n</td>\n",
       "      <td>Noun</td>\n",
       "      <td>whole, unit</td>\n",
       "      <td>전체, 전적, 전부, 총체, 전반</td>\n",
       "    </tr>\n",
       "  </tbody>\n",
       "</table>\n",
       "</div>"
      ],
      "text/plain": [
       "  # synset_id   pos                            english_lemmas  \\\n",
       "0  00001740-v  Verb  breathe, take_a_breath, suspire, respire   \n",
       "1  00002325-v  Verb                                   respire   \n",
       "2  00002684-n  Noun                   physical_object, object   \n",
       "3  00002724-v  Verb                                     choke   \n",
       "4  00003553-n  Noun                               whole, unit   \n",
       "\n",
       "        korean_lemmas  \n",
       "0                 호흡하  \n",
       "1                 호흡하  \n",
       "2                물, 놈  \n",
       "3                 질식하  \n",
       "4  전체, 전적, 전부, 총체, 전반  "
      ]
     },
     "execution_count": 3,
     "metadata": {},
     "output_type": "execute_result"
    }
   ],
   "source": [
    "import pandas as pd\n",
    "data_path='/pi/ai/nltk/kwn_1.0/kwn_synset_list.tsv'\n",
    "df = pd.read_csv(data_path, sep='\\t')\n",
    "df.head()"
   ]
  },
  {
   "cell_type": "code",
   "execution_count": 4,
   "metadata": {
    "ExecuteTime": {
     "end_time": "2020-02-28T11:11:51.515564Z",
     "start_time": "2020-02-28T11:11:51.475783Z"
    }
   },
   "outputs": [
    {
     "data": {
      "text/html": [
       "<div>\n",
       "<style scoped>\n",
       "    .dataframe tbody tr th:only-of-type {\n",
       "        vertical-align: middle;\n",
       "    }\n",
       "\n",
       "    .dataframe tbody tr th {\n",
       "        vertical-align: top;\n",
       "    }\n",
       "\n",
       "    .dataframe thead th {\n",
       "        text-align: right;\n",
       "    }\n",
       "</style>\n",
       "<table border=\"1\" class=\"dataframe\">\n",
       "  <thead>\n",
       "    <tr style=\"text-align: right;\">\n",
       "      <th></th>\n",
       "      <th># synset_id</th>\n",
       "      <th>pos</th>\n",
       "      <th>english_lemmas</th>\n",
       "      <th>korean_lemmas</th>\n",
       "    </tr>\n",
       "  </thead>\n",
       "  <tbody>\n",
       "    <tr>\n",
       "      <th>2</th>\n",
       "      <td>00002684-n</td>\n",
       "      <td>Noun</td>\n",
       "      <td>physical_object, object</td>\n",
       "      <td>물, 놈</td>\n",
       "    </tr>\n",
       "    <tr>\n",
       "      <th>6</th>\n",
       "      <td>00004258-n</td>\n",
       "      <td>Noun</td>\n",
       "      <td>living_thing, animate_thing</td>\n",
       "      <td>생물</td>\n",
       "    </tr>\n",
       "    <tr>\n",
       "      <th>7</th>\n",
       "      <td>00004475-n</td>\n",
       "      <td>Noun</td>\n",
       "      <td>being, organism</td>\n",
       "      <td>미생물, 생물</td>\n",
       "    </tr>\n",
       "    <tr>\n",
       "      <th>9</th>\n",
       "      <td>00006269-n</td>\n",
       "      <td>Noun</td>\n",
       "      <td>life</td>\n",
       "      <td>생물</td>\n",
       "    </tr>\n",
       "    <tr>\n",
       "      <th>13</th>\n",
       "      <td>00007846-n</td>\n",
       "      <td>Noun</td>\n",
       "      <td>individual, person, mortal, someone, soul, som...</td>\n",
       "      <td>인, 인간, 인물, 사람, 인류</td>\n",
       "    </tr>\n",
       "    <tr>\n",
       "      <th>...</th>\n",
       "      <td>...</td>\n",
       "      <td>...</td>\n",
       "      <td>...</td>\n",
       "      <td>...</td>\n",
       "    </tr>\n",
       "    <tr>\n",
       "      <th>9431</th>\n",
       "      <td>15008847-n</td>\n",
       "      <td>Noun</td>\n",
       "      <td>seawater, saltwater, brine</td>\n",
       "      <td>간수, 식염수, 해수, 소금물, 바닷물</td>\n",
       "    </tr>\n",
       "    <tr>\n",
       "      <th>9432</th>\n",
       "      <td>15009326-n</td>\n",
       "      <td>Noun</td>\n",
       "      <td>fresh_water, freshwater</td>\n",
       "      <td>단물, 담수, 민물</td>\n",
       "    </tr>\n",
       "    <tr>\n",
       "      <th>9437</th>\n",
       "      <td>15032376-n</td>\n",
       "      <td>Noun</td>\n",
       "      <td>toxicant, poisonous_substance, poison</td>\n",
       "      <td>독물, 독기, 독, 독소, 독약</td>\n",
       "    </tr>\n",
       "    <tr>\n",
       "      <th>9440</th>\n",
       "      <td>15036916-n</td>\n",
       "      <td>Noun</td>\n",
       "      <td>venom</td>\n",
       "      <td>독물, 독기, 독</td>\n",
       "    </tr>\n",
       "    <tr>\n",
       "      <th>9443</th>\n",
       "      <td>15046716-n</td>\n",
       "      <td>Noun</td>\n",
       "      <td>soft_water</td>\n",
       "      <td>연수, 단물</td>\n",
       "    </tr>\n",
       "  </tbody>\n",
       "</table>\n",
       "<p>233 rows × 4 columns</p>\n",
       "</div>"
      ],
      "text/plain": [
       "     # synset_id   pos                                     english_lemmas  \\\n",
       "2     00002684-n  Noun                            physical_object, object   \n",
       "6     00004258-n  Noun                        living_thing, animate_thing   \n",
       "7     00004475-n  Noun                                    being, organism   \n",
       "9     00006269-n  Noun                                               life   \n",
       "13    00007846-n  Noun  individual, person, mortal, someone, soul, som...   \n",
       "...          ...   ...                                                ...   \n",
       "9431  15008847-n  Noun                         seawater, saltwater, brine   \n",
       "9432  15009326-n  Noun                            fresh_water, freshwater   \n",
       "9437  15032376-n  Noun              toxicant, poisonous_substance, poison   \n",
       "9440  15036916-n  Noun                                              venom   \n",
       "9443  15046716-n  Noun                                         soft_water   \n",
       "\n",
       "              korean_lemmas  \n",
       "2                      물, 놈  \n",
       "6                        생물  \n",
       "7                   미생물, 생물  \n",
       "9                        생물  \n",
       "13        인, 인간, 인물, 사람, 인류  \n",
       "...                     ...  \n",
       "9431  간수, 식염수, 해수, 소금물, 바닷물  \n",
       "9432             단물, 담수, 민물  \n",
       "9437      독물, 독기, 독, 독소, 독약  \n",
       "9440              독물, 독기, 독  \n",
       "9443                 연수, 단물  \n",
       "\n",
       "[233 rows x 4 columns]"
      ]
     },
     "execution_count": 4,
     "metadata": {},
     "output_type": "execute_result"
    }
   ],
   "source": [
    "df[df['korean_lemmas'].str.contains('물')]"
   ]
  },
  {
   "cell_type": "code",
   "execution_count": 7,
   "metadata": {
    "ExecuteTime": {
     "end_time": "2020-02-28T11:13:45.760806Z",
     "start_time": "2020-02-28T11:13:45.726100Z"
    }
   },
   "outputs": [
    {
     "data": {
      "text/html": [
       "<div>\n",
       "<style scoped>\n",
       "    .dataframe tbody tr th:only-of-type {\n",
       "        vertical-align: middle;\n",
       "    }\n",
       "\n",
       "    .dataframe tbody tr th {\n",
       "        vertical-align: top;\n",
       "    }\n",
       "\n",
       "    .dataframe thead th {\n",
       "        text-align: right;\n",
       "    }\n",
       "</style>\n",
       "<table border=\"1\" class=\"dataframe\">\n",
       "  <thead>\n",
       "    <tr style=\"text-align: right;\">\n",
       "      <th></th>\n",
       "      <th># synset_id</th>\n",
       "      <th>pos</th>\n",
       "      <th>english_lemmas</th>\n",
       "      <th>korean_lemmas</th>\n",
       "    </tr>\n",
       "  </thead>\n",
       "  <tbody>\n",
       "    <tr>\n",
       "      <th>9437</th>\n",
       "      <td>15032376-n</td>\n",
       "      <td>Noun</td>\n",
       "      <td>toxicant, poisonous_substance, poison</td>\n",
       "      <td>독물, 독기, 독, 독소, 독약</td>\n",
       "    </tr>\n",
       "  </tbody>\n",
       "</table>\n",
       "</div>"
      ],
      "text/plain": [
       "     # synset_id   pos                         english_lemmas  \\\n",
       "9437  15032376-n  Noun  toxicant, poisonous_substance, poison   \n",
       "\n",
       "          korean_lemmas  \n",
       "9437  독물, 독기, 독, 독소, 독약  "
      ]
     },
     "execution_count": 7,
     "metadata": {},
     "output_type": "execute_result"
    }
   ],
   "source": [
    "df[df['# synset_id'].str.match('15032376-n')]"
   ]
  },
  {
   "cell_type": "code",
   "execution_count": 29,
   "metadata": {
    "ExecuteTime": {
     "end_time": "2020-02-28T11:54:55.437005Z",
     "start_time": "2020-02-28T11:54:55.427265Z"
    }
   },
   "outputs": [
    {
     "name": "stdout",
     "output_type": "stream",
     "text": [
      "saskatchewan.n.01 one of the three prairie provinces in west central Canada\n"
     ]
    }
   ],
   "source": [
    "def word_def(refid):\n",
    "    offset, pos = refid.split('-')\n",
    "    syn = wn.synset_from_pos_and_offset(pos, int(offset))\n",
    "    return syn\n",
    "syn=word_def('08829775-n')\n",
    "print(syn.name(), syn.definition())"
   ]
  },
  {
   "cell_type": "code",
   "execution_count": 27,
   "metadata": {
    "ExecuteTime": {
     "end_time": "2020-02-28T11:52:28.439240Z",
     "start_time": "2020-02-28T11:52:28.416957Z"
    }
   },
   "outputs": [
    {
     "data": {
      "text/html": [
       "<div>\n",
       "<style scoped>\n",
       "    .dataframe tbody tr th:only-of-type {\n",
       "        vertical-align: middle;\n",
       "    }\n",
       "\n",
       "    .dataframe tbody tr th {\n",
       "        vertical-align: top;\n",
       "    }\n",
       "\n",
       "    .dataframe thead th {\n",
       "        text-align: right;\n",
       "    }\n",
       "</style>\n",
       "<table border=\"1\" class=\"dataframe\">\n",
       "  <thead>\n",
       "    <tr style=\"text-align: right;\">\n",
       "      <th></th>\n",
       "      <th># synset_id</th>\n",
       "      <th>pos</th>\n",
       "      <th>english_lemmas</th>\n",
       "      <th>korean_lemmas</th>\n",
       "    </tr>\n",
       "  </thead>\n",
       "  <tbody>\n",
       "  </tbody>\n",
       "</table>\n",
       "</div>"
      ],
      "text/plain": [
       "Empty DataFrame\n",
       "Columns: [# synset_id, pos, english_lemmas, korean_lemmas]\n",
       "Index: []"
      ]
     },
     "execution_count": 27,
     "metadata": {},
     "output_type": "execute_result"
    }
   ],
   "source": [
    "df[df['# synset_id'].str.match('08829775-n')]"
   ]
  },
  {
   "cell_type": "code",
   "execution_count": 26,
   "metadata": {
    "ExecuteTime": {
     "end_time": "2020-02-28T11:51:53.826563Z",
     "start_time": "2020-02-28T11:51:53.798126Z"
    }
   },
   "outputs": [
    {
     "data": {
      "text/html": [
       "<div>\n",
       "<style scoped>\n",
       "    .dataframe tbody tr th:only-of-type {\n",
       "        vertical-align: middle;\n",
       "    }\n",
       "\n",
       "    .dataframe tbody tr th {\n",
       "        vertical-align: top;\n",
       "    }\n",
       "\n",
       "    .dataframe thead th {\n",
       "        text-align: right;\n",
       "    }\n",
       "</style>\n",
       "<table border=\"1\" class=\"dataframe\">\n",
       "  <thead>\n",
       "    <tr style=\"text-align: right;\">\n",
       "      <th></th>\n",
       "      <th># synset_id</th>\n",
       "      <th>pos</th>\n",
       "      <th>english_lemmas</th>\n",
       "      <th>korean_lemmas</th>\n",
       "    </tr>\n",
       "  </thead>\n",
       "  <tbody>\n",
       "  </tbody>\n",
       "</table>\n",
       "</div>"
      ],
      "text/plain": [
       "Empty DataFrame\n",
       "Columns: [# synset_id, pos, english_lemmas, korean_lemmas]\n",
       "Index: []"
      ]
     },
     "execution_count": 26,
     "metadata": {},
     "output_type": "execute_result"
    }
   ],
   "source": [
    "df[df['korean_lemmas'].str.contains('서스캐처원')]"
   ]
  },
  {
   "cell_type": "code",
   "execution_count": 10,
   "metadata": {
    "ExecuteTime": {
     "end_time": "2020-02-28T11:18:13.084220Z",
     "start_time": "2020-02-28T11:18:13.054274Z"
    }
   },
   "outputs": [
    {
     "data": {
      "text/html": [
       "<div>\n",
       "<style scoped>\n",
       "    .dataframe tbody tr th:only-of-type {\n",
       "        vertical-align: middle;\n",
       "    }\n",
       "\n",
       "    .dataframe tbody tr th {\n",
       "        vertical-align: top;\n",
       "    }\n",
       "\n",
       "    .dataframe thead th {\n",
       "        text-align: right;\n",
       "    }\n",
       "</style>\n",
       "<table border=\"1\" class=\"dataframe\">\n",
       "  <thead>\n",
       "    <tr style=\"text-align: right;\">\n",
       "      <th></th>\n",
       "      <th># synset_id</th>\n",
       "      <th>pos</th>\n",
       "      <th>english_lemmas</th>\n",
       "      <th>korean_lemmas</th>\n",
       "    </tr>\n",
       "  </thead>\n",
       "  <tbody>\n",
       "    <tr>\n",
       "      <th>6</th>\n",
       "      <td>00004258-n</td>\n",
       "      <td>Noun</td>\n",
       "      <td>living_thing, animate_thing</td>\n",
       "      <td>생물</td>\n",
       "    </tr>\n",
       "    <tr>\n",
       "      <th>7</th>\n",
       "      <td>00004475-n</td>\n",
       "      <td>Noun</td>\n",
       "      <td>being, organism</td>\n",
       "      <td>미생물, 생물</td>\n",
       "    </tr>\n",
       "    <tr>\n",
       "      <th>9</th>\n",
       "      <td>00006269-n</td>\n",
       "      <td>Noun</td>\n",
       "      <td>life</td>\n",
       "      <td>생물</td>\n",
       "    </tr>\n",
       "    <tr>\n",
       "      <th>14</th>\n",
       "      <td>00015388-n</td>\n",
       "      <td>Noun</td>\n",
       "      <td>animate_being, brute, animal, creature, fauna,...</td>\n",
       "      <td>미물, 생물, 조수</td>\n",
       "    </tr>\n",
       "    <tr>\n",
       "      <th>1692</th>\n",
       "      <td>01326291-n</td>\n",
       "      <td>Noun</td>\n",
       "      <td>micro-organism, microorganism</td>\n",
       "      <td>미생물</td>\n",
       "    </tr>\n",
       "    <tr>\n",
       "      <th>1714</th>\n",
       "      <td>01384491-n</td>\n",
       "      <td>Noun</td>\n",
       "      <td>germ, bug, microbe</td>\n",
       "      <td>미생물</td>\n",
       "    </tr>\n",
       "    <tr>\n",
       "      <th>5205</th>\n",
       "      <td>06037666-n</td>\n",
       "      <td>Noun</td>\n",
       "      <td>biological_science, biology</td>\n",
       "      <td>생물학, 생물</td>\n",
       "    </tr>\n",
       "    <tr>\n",
       "      <th>5228</th>\n",
       "      <td>06072275-n</td>\n",
       "      <td>Noun</td>\n",
       "      <td>entomology, bugology</td>\n",
       "      <td>생물학</td>\n",
       "    </tr>\n",
       "    <tr>\n",
       "      <th>5230</th>\n",
       "      <td>06077648-n</td>\n",
       "      <td>Noun</td>\n",
       "      <td>microbiology</td>\n",
       "      <td>미생물학</td>\n",
       "    </tr>\n",
       "    <tr>\n",
       "      <th>7704</th>\n",
       "      <td>10260706-n</td>\n",
       "      <td>Noun</td>\n",
       "      <td>life</td>\n",
       "      <td>생명, 생물, 인생</td>\n",
       "    </tr>\n",
       "    <tr>\n",
       "      <th>8123</th>\n",
       "      <td>11530008-n</td>\n",
       "      <td>Noun</td>\n",
       "      <td>microflora</td>\n",
       "      <td>미생물</td>\n",
       "    </tr>\n",
       "  </tbody>\n",
       "</table>\n",
       "</div>"
      ],
      "text/plain": [
       "     # synset_id   pos                                     english_lemmas  \\\n",
       "6     00004258-n  Noun                        living_thing, animate_thing   \n",
       "7     00004475-n  Noun                                    being, organism   \n",
       "9     00006269-n  Noun                                               life   \n",
       "14    00015388-n  Noun  animate_being, brute, animal, creature, fauna,...   \n",
       "1692  01326291-n  Noun                      micro-organism, microorganism   \n",
       "1714  01384491-n  Noun                                 germ, bug, microbe   \n",
       "5205  06037666-n  Noun                        biological_science, biology   \n",
       "5228  06072275-n  Noun                               entomology, bugology   \n",
       "5230  06077648-n  Noun                                       microbiology   \n",
       "7704  10260706-n  Noun                                               life   \n",
       "8123  11530008-n  Noun                                         microflora   \n",
       "\n",
       "     korean_lemmas  \n",
       "6               생물  \n",
       "7          미생물, 생물  \n",
       "9               생물  \n",
       "14      미물, 생물, 조수  \n",
       "1692           미생물  \n",
       "1714           미생물  \n",
       "5205       생물학, 생물  \n",
       "5228           생물학  \n",
       "5230          미생물학  \n",
       "7704    생명, 생물, 인생  \n",
       "8123           미생물  "
      ]
     },
     "execution_count": 10,
     "metadata": {},
     "output_type": "execute_result"
    }
   ],
   "source": [
    "rows=df[df['korean_lemmas'].str.contains('생물')]\n",
    "rows"
   ]
  },
  {
   "cell_type": "code",
   "execution_count": 23,
   "metadata": {
    "ExecuteTime": {
     "end_time": "2020-02-28T11:46:00.917462Z",
     "start_time": "2020-02-28T11:46:00.894183Z"
    }
   },
   "outputs": [
    {
     "data": {
      "text/plain": [
       "[{'id': '00004258-n',\n",
       "  'en': ['living_thing', 'animate_thing'],\n",
       "  'ko': ['생물'],\n",
       "  'translit': ['saeng-mur'],\n",
       "  'name': 'living_thing.n.01',\n",
       "  'definition': 'a living (or once living) entity'},\n",
       " {'id': '00004475-n',\n",
       "  'en': ['being', 'organism'],\n",
       "  'ko': ['미생물', '생물'],\n",
       "  'translit': ['mi-saeng-mur', 'saeng-mur'],\n",
       "  'name': 'organism.n.01',\n",
       "  'definition': 'a living thing that has (or can develop) the ability to act or function independently'},\n",
       " {'id': '00006269-n',\n",
       "  'en': ['life'],\n",
       "  'ko': ['생물'],\n",
       "  'translit': ['saeng-mur'],\n",
       "  'name': 'life.n.10',\n",
       "  'definition': 'living things collectively'},\n",
       " {'id': '00015388-n',\n",
       "  'en': ['animate_being', 'brute', 'animal', 'creature', 'fauna', 'beast'],\n",
       "  'ko': ['미물', '생물', '조수'],\n",
       "  'translit': ['mi-mur', 'saeng-mur', 'jo-su'],\n",
       "  'name': 'animal.n.01',\n",
       "  'definition': 'a living organism characterized by voluntary movement'},\n",
       " {'id': '01326291-n',\n",
       "  'en': ['micro-organism', 'microorganism'],\n",
       "  'ko': ['미생물'],\n",
       "  'translit': ['mi-saeng-mur'],\n",
       "  'name': 'microorganism.n.01',\n",
       "  'definition': 'any organism of microscopic size'},\n",
       " {'id': '01384491-n',\n",
       "  'en': ['germ', 'bug', 'microbe'],\n",
       "  'ko': ['미생물'],\n",
       "  'translit': ['mi-saeng-mur'],\n",
       "  'name': 'microbe.n.01',\n",
       "  'definition': 'a minute life form (especially a disease-causing bacterium); the term is not in technical use'},\n",
       " {'id': '06037666-n',\n",
       "  'en': ['biological_science', 'biology'],\n",
       "  'ko': ['생물학', '생물'],\n",
       "  'translit': ['saeng-mur-hag', 'saeng-mur'],\n",
       "  'name': 'biology.n.01',\n",
       "  'definition': 'the science that studies living organisms'},\n",
       " {'id': '06072275-n',\n",
       "  'en': ['entomology', 'bugology'],\n",
       "  'ko': ['생물학'],\n",
       "  'translit': ['saeng-mur-hag'],\n",
       "  'name': 'entomology.n.01',\n",
       "  'definition': 'the branch of zoology that studies insects'},\n",
       " {'id': '06077648-n',\n",
       "  'en': ['microbiology'],\n",
       "  'ko': ['미생물학'],\n",
       "  'translit': ['mi-saeng-mur-hag'],\n",
       "  'name': 'microbiology.n.01',\n",
       "  'definition': 'the branch of biology that studies microorganisms and their effects on humans'},\n",
       " {'id': '10260706-n',\n",
       "  'en': ['life'],\n",
       "  'ko': ['생명', '생물', '인생'],\n",
       "  'translit': ['saeng-myeong', 'saeng-mur', 'in-saeng'],\n",
       "  'name': 'life.n.08',\n",
       "  'definition': 'a living person'},\n",
       " {'id': '11530008-n',\n",
       "  'en': ['microflora'],\n",
       "  'ko': ['미생물'],\n",
       "  'translit': ['mi-saeng-mur'],\n",
       "  'name': 'microflora.n.01',\n",
       "  'definition': 'microscopic plants; bacteria are often considered to be microflora'}]"
      ]
     },
     "execution_count": 23,
     "metadata": {},
     "output_type": "execute_result"
    }
   ],
   "source": [
    "from sagas.nlu.transliterations import translits\n",
    "from nltk.corpus import wordnet as wn\n",
    "\n",
    "rs=[]\n",
    "lookups_nor={}\n",
    "lookups_tra={}\n",
    "for index, row in rows.iterrows():\n",
    "    ko_lemmas=row['korean_lemmas'].split(', ')\n",
    "    refid=row['# synset_id']\n",
    "    offset, pos = refid.split('-')\n",
    "    syn = wn.synset_from_pos_and_offset(pos, int(offset))\n",
    "    rs.append({'id': refid,\n",
    "               'en': row['english_lemmas'].split(', '), \n",
    "               'ko': ko_lemmas,\n",
    "               'translit': [translits.translit(le, 'ko') for le in ko_lemmas],\n",
    "               'name': syn.name(),\n",
    "               'definition': syn.definition()\n",
    "              })\n",
    "    for kw in ko_lemmas:\n",
    "        if kw not in lookups_nor:\n",
    "            lookups_nor[kw]={syn.name()}\n",
    "            lookups_tra[translits.translit(kw, 'ko')]={syn.name()}\n",
    "        else:\n",
    "            lookups_nor[kw].add(syn.name())\n",
    "            lookups_tra[translits.translit(kw, 'ko')].add(syn.name())\n",
    "rs"
   ]
  },
  {
   "cell_type": "code",
   "execution_count": 34,
   "metadata": {
    "ExecuteTime": {
     "end_time": "2020-02-28T12:11:15.557585Z",
     "start_time": "2020-02-28T12:11:15.544563Z"
    }
   },
   "outputs": [
    {
     "data": {
      "text/plain": [
       "{'생물': {'animal.n.01',\n",
       "  'biology.n.01',\n",
       "  'life.n.08',\n",
       "  'life.n.10',\n",
       "  'living_thing.n.01',\n",
       "  'organism.n.01'},\n",
       " '미생물': {'microbe.n.01',\n",
       "  'microflora.n.01',\n",
       "  'microorganism.n.01',\n",
       "  'organism.n.01'},\n",
       " '미물': {'animal.n.01'},\n",
       " '조수': {'animal.n.01'},\n",
       " '생물학': {'biology.n.01', 'entomology.n.01'},\n",
       " '미생물학': {'microbiology.n.01'},\n",
       " '생명': {'life.n.08'},\n",
       " '인생': {'life.n.08'},\n",
       " '산성의': {'acid.s.03'},\n",
       " '욕심 많은': {'avaricious.s.01'},\n",
       " '빠르다': {'agile.s.01'},\n",
       " '충분한': {'adequate.a.01'},\n",
       " '무서워하다': {'afraid.a.01'},\n",
       " '무서워': {'frightened.s.01'},\n",
       " '호전': {'aggressive.a.01'},\n",
       " '죽었다': {'dead.a.01'},\n",
       " '죽다': {'dead.a.01'},\n",
       " '알파벳': {'alphabetic.a.02'}}"
      ]
     },
     "execution_count": 34,
     "metadata": {},
     "output_type": "execute_result"
    }
   ],
   "source": [
    "lookups_nor"
   ]
  },
  {
   "cell_type": "code",
   "execution_count": 35,
   "metadata": {
    "ExecuteTime": {
     "end_time": "2020-02-28T12:11:20.747112Z",
     "start_time": "2020-02-28T12:11:20.739562Z"
    }
   },
   "outputs": [
    {
     "data": {
      "text/plain": [
       "{'saeng-mur': {'animal.n.01',\n",
       "  'biology.n.01',\n",
       "  'life.n.08',\n",
       "  'life.n.10',\n",
       "  'living_thing.n.01',\n",
       "  'organism.n.01'},\n",
       " 'mi-saeng-mur': {'microbe.n.01',\n",
       "  'microflora.n.01',\n",
       "  'microorganism.n.01',\n",
       "  'organism.n.01'},\n",
       " 'mi-mur': {'animal.n.01'},\n",
       " 'jo-su': {'animal.n.01'},\n",
       " 'saeng-mur-hag': {'biology.n.01', 'entomology.n.01'},\n",
       " 'mi-saeng-mur-hag': {'microbiology.n.01'},\n",
       " 'saeng-myeong': {'life.n.08'},\n",
       " 'in-saeng': {'life.n.08'},\n",
       " 'san-seong-eui': {'acid.s.03'},\n",
       " 'yog-sim manh-eun': {'avaricious.s.01'},\n",
       " 'bba-reu-da': {'agile.s.01'},\n",
       " 'cung-bun-han': {'adequate.a.01'},\n",
       " 'mu-seo-weo-ha-da': {'afraid.a.01'},\n",
       " 'mu-seo-weo': {'frightened.s.01'},\n",
       " 'ho-jeon': {'aggressive.a.01'},\n",
       " 'jug-eoss-da': {'dead.a.01'},\n",
       " 'jug-da': {'dead.a.01'},\n",
       " 'ar-pa-bes': {'alphabetic.a.02'}}"
      ]
     },
     "execution_count": 35,
     "metadata": {},
     "output_type": "execute_result"
    }
   ],
   "source": [
    "lookups_tra"
   ]
  },
  {
   "cell_type": "code",
   "execution_count": 30,
   "metadata": {
    "ExecuteTime": {
     "end_time": "2020-02-28T12:05:14.775266Z",
     "start_time": "2020-02-28T12:05:14.726958Z"
    }
   },
   "outputs": [
    {
     "data": {
      "text/html": [
       "<div>\n",
       "<style scoped>\n",
       "    .dataframe tbody tr th:only-of-type {\n",
       "        vertical-align: middle;\n",
       "    }\n",
       "\n",
       "    .dataframe tbody tr th {\n",
       "        vertical-align: top;\n",
       "    }\n",
       "\n",
       "    .dataframe thead th {\n",
       "        text-align: right;\n",
       "    }\n",
       "</style>\n",
       "<table border=\"1\" class=\"dataframe\">\n",
       "  <thead>\n",
       "    <tr style=\"text-align: right;\">\n",
       "      <th></th>\n",
       "      <th># Wiktionary</th>\n",
       "      <th>kor</th>\n",
       "      <th>http://wiktionary.org/</th>\n",
       "      <th>CC BY-SA</th>\n",
       "    </tr>\n",
       "  </thead>\n",
       "  <tbody>\n",
       "    <tr>\n",
       "      <th>0</th>\n",
       "      <td>00025470-a</td>\n",
       "      <td>kor:lemma</td>\n",
       "      <td>산성의</td>\n",
       "      <td>NaN</td>\n",
       "    </tr>\n",
       "    <tr>\n",
       "      <th>1</th>\n",
       "      <td>00029933-a</td>\n",
       "      <td>kor:lemma</td>\n",
       "      <td>욕심 많은</td>\n",
       "      <td>NaN</td>\n",
       "    </tr>\n",
       "    <tr>\n",
       "      <th>2</th>\n",
       "      <td>00032733-a</td>\n",
       "      <td>kor:lemma</td>\n",
       "      <td>빠르다</td>\n",
       "      <td>NaN</td>\n",
       "    </tr>\n",
       "    <tr>\n",
       "      <th>3</th>\n",
       "      <td>00051045-a</td>\n",
       "      <td>kor:lemma</td>\n",
       "      <td>충분한</td>\n",
       "      <td>NaN</td>\n",
       "    </tr>\n",
       "    <tr>\n",
       "      <th>4</th>\n",
       "      <td>00077645-a</td>\n",
       "      <td>kor:lemma</td>\n",
       "      <td>무서워하다</td>\n",
       "      <td>NaN</td>\n",
       "    </tr>\n",
       "  </tbody>\n",
       "</table>\n",
       "</div>"
      ],
      "text/plain": [
       "  # Wiktionary        kor http://wiktionary.org/  CC BY-SA\n",
       "0   00025470-a  kor:lemma                    산성의       NaN\n",
       "1   00029933-a  kor:lemma                  욕심 많은       NaN\n",
       "2   00032733-a  kor:lemma                    빠르다       NaN\n",
       "3   00051045-a  kor:lemma                    충분한       NaN\n",
       "4   00077645-a  kor:lemma                  무서워하다       NaN"
      ]
     },
     "execution_count": 30,
     "metadata": {},
     "output_type": "execute_result"
    }
   ],
   "source": [
    "import pandas as pd\n",
    "data_path='/pi/ai/nltk/data/wikt/wn-wikt-kor.tab'\n",
    "df = pd.read_csv(data_path, sep='\\t')\n",
    "df.head()"
   ]
  },
  {
   "cell_type": "code",
   "execution_count": 31,
   "metadata": {
    "ExecuteTime": {
     "end_time": "2020-02-28T12:06:12.901812Z",
     "start_time": "2020-02-28T12:06:12.875114Z"
    }
   },
   "outputs": [
    {
     "data": {
      "text/plain": [
       "0      산성의\n",
       "1    욕심 많은\n",
       "2      빠르다\n",
       "3      충분한\n",
       "4    무서워하다\n",
       "Name: http://wiktionary.org/, dtype: object"
      ]
     },
     "execution_count": 31,
     "metadata": {},
     "output_type": "execute_result"
    }
   ],
   "source": [
    "df.head()['http://wiktionary.org/']"
   ]
  },
  {
   "cell_type": "code",
   "execution_count": 32,
   "metadata": {
    "ExecuteTime": {
     "end_time": "2020-02-28T12:10:33.926089Z",
     "start_time": "2020-02-28T12:10:33.908556Z"
    }
   },
   "outputs": [],
   "source": [
    "rows=df[:10]\n",
    "for index, row in rows.iterrows():\n",
    "    refid=row['# Wiktionary']\n",
    "    kw=row['http://wiktionary.org/']\n",
    "    offset, pos = refid.split('-')\n",
    "    syn = wn.synset_from_pos_and_offset(pos, int(offset))\n",
    "    if kw not in lookups_nor:\n",
    "        lookups_nor[kw]={syn.name()}\n",
    "        lookups_tra[translits.translit(kw, 'ko')]={syn.name()}\n",
    "    else:\n",
    "        lookups_nor[kw].add(syn.name())\n",
    "        lookups_tra[translits.translit(kw, 'ko')].add(syn.name())"
   ]
  },
  {
   "cell_type": "code",
   "execution_count": 33,
   "metadata": {
    "ExecuteTime": {
     "end_time": "2020-02-28T12:10:45.057408Z",
     "start_time": "2020-02-28T12:10:45.045499Z"
    }
   },
   "outputs": [
    {
     "data": {
      "text/plain": [
       "{'saeng-mur': {'animal.n.01',\n",
       "  'biology.n.01',\n",
       "  'life.n.08',\n",
       "  'life.n.10',\n",
       "  'living_thing.n.01',\n",
       "  'organism.n.01'},\n",
       " 'mi-saeng-mur': {'microbe.n.01',\n",
       "  'microflora.n.01',\n",
       "  'microorganism.n.01',\n",
       "  'organism.n.01'},\n",
       " 'mi-mur': {'animal.n.01'},\n",
       " 'jo-su': {'animal.n.01'},\n",
       " 'saeng-mur-hag': {'biology.n.01', 'entomology.n.01'},\n",
       " 'mi-saeng-mur-hag': {'microbiology.n.01'},\n",
       " 'saeng-myeong': {'life.n.08'},\n",
       " 'in-saeng': {'life.n.08'},\n",
       " 'san-seong-eui': {'acid.s.03'},\n",
       " 'yog-sim manh-eun': {'avaricious.s.01'},\n",
       " 'bba-reu-da': {'agile.s.01'},\n",
       " 'cung-bun-han': {'adequate.a.01'},\n",
       " 'mu-seo-weo-ha-da': {'afraid.a.01'},\n",
       " 'mu-seo-weo': {'frightened.s.01'},\n",
       " 'ho-jeon': {'aggressive.a.01'},\n",
       " 'jug-eoss-da': {'dead.a.01'},\n",
       " 'jug-da': {'dead.a.01'},\n",
       " 'ar-pa-bes': {'alphabetic.a.02'}}"
      ]
     },
     "execution_count": 33,
     "metadata": {},
     "output_type": "execute_result"
    }
   ],
   "source": [
    "lookups_tra"
   ]
  },
  {
   "cell_type": "code",
   "execution_count": 44,
   "metadata": {
    "ExecuteTime": {
     "end_time": "2020-02-28T13:11:10.165789Z",
     "start_time": "2020-02-28T13:11:10.155641Z"
    }
   },
   "outputs": [],
   "source": [
    "import json\n",
    "import io\n",
    "class SetEncoder(json.JSONEncoder):\n",
    "    def default(self, obj):\n",
    "        if isinstance(obj, set):\n",
    "             return list(obj)\n",
    "        return json.JSONEncoder.default(self, obj)\n",
    "\n",
    "output_path='/pi/stack/sagas/conf/synsets'\n",
    "with io.open(f\"{output_path}/ko_nor.json\", 'w', encoding=\"utf-8\") as f:\n",
    "    f.write(json.dumps(lookups_nor, indent=2, ensure_ascii=False,\n",
    "                       cls=SetEncoder))\n",
    "with io.open(f\"{output_path}/ko_tra.json\", 'w', encoding=\"utf-8\") as f:\n",
    "    f.write(json.dumps(lookups_tra, indent=2, ensure_ascii=False,\n",
    "                       cls=SetEncoder))"
   ]
  },
  {
   "cell_type": "code",
   "execution_count": 46,
   "metadata": {
    "ExecuteTime": {
     "end_time": "2020-02-28T13:18:01.327472Z",
     "start_time": "2020-02-28T13:18:01.318380Z"
    }
   },
   "outputs": [
    {
     "data": {
      "text/plain": [
       "'having the characteristics of an acid'"
      ]
     },
     "execution_count": 46,
     "metadata": {},
     "output_type": "execute_result"
    }
   ],
   "source": [
    "wn.synset('acid.s.03').definition()"
   ]
  },
  {
   "cell_type": "code",
   "execution_count": 5,
   "metadata": {
    "ExecuteTime": {
     "end_time": "2020-02-28T14:32:42.820723Z",
     "start_time": "2020-02-28T14:32:42.811499Z"
    }
   },
   "outputs": [
    {
     "data": {
      "text/plain": [
       "'s'"
      ]
     },
     "execution_count": 5,
     "metadata": {},
     "output_type": "execute_result"
    }
   ],
   "source": [
    "from nltk.corpus import wordnet as wn\n",
    "wn.synset('acid.s.03').pos()"
   ]
  },
  {
   "cell_type": "code",
   "execution_count": 49,
   "metadata": {
    "ExecuteTime": {
     "end_time": "2020-02-28T13:44:57.063349Z",
     "start_time": "2020-02-28T13:44:57.058368Z"
    }
   },
   "outputs": [
    {
     "name": "stdout",
     "output_type": "stream",
     "text": [
      "empty\n"
     ]
    }
   ],
   "source": [
    "idx_nor={}\n",
    "if not idx_nor:\n",
    "    print('empty')\n",
    "else:\n",
    "    print('non-empty')"
   ]
  },
  {
   "cell_type": "code",
   "execution_count": 50,
   "metadata": {
    "ExecuteTime": {
     "end_time": "2020-02-28T14:22:27.890100Z",
     "start_time": "2020-02-28T14:22:27.823988Z"
    }
   },
   "outputs": [
    {
     "data": {
      "text/plain": [
       "[Synset('necessary.a.01'), Synset('want.v.02'), Synset('need.n.02')]"
      ]
     },
     "execution_count": 50,
     "metadata": {},
     "output_type": "execute_result"
    }
   ],
   "source": [
    "from sagas.ko.kwn_procs import kwn\n",
    "kwn.get_synsets('필요')"
   ]
  },
  {
   "cell_type": "code",
   "execution_count": 4,
   "metadata": {
    "ExecuteTime": {
     "end_time": "2020-02-28T14:42:36.923310Z",
     "start_time": "2020-02-28T14:42:36.916115Z"
    }
   },
   "outputs": [
    {
     "data": {
      "text/plain": [
       "[Synset('necessary.a.01'), Synset('want.v.02'), Synset('need.n.02')]"
      ]
     },
     "execution_count": 4,
     "metadata": {},
     "output_type": "execute_result"
    }
   ],
   "source": [
    "from sagas.nlu.omw_extended import get_synsets\n",
    "sets=get_synsets('ko', '필요', '*')\n",
    "sets"
   ]
  },
  {
   "cell_type": "code",
   "execution_count": 3,
   "metadata": {
    "ExecuteTime": {
     "end_time": "2020-02-28T14:42:25.983421Z",
     "start_time": "2020-02-28T14:42:25.973746Z"
    }
   },
   "outputs": [
    {
     "data": {
      "text/plain": [
       "[Synset('want.v.02')]"
      ]
     },
     "execution_count": 3,
     "metadata": {},
     "output_type": "execute_result"
    }
   ],
   "source": [
    "from sagas.nlu.omw_extended import get_synsets\n",
    "sets=get_synsets('ko', '필요', 'v')\n",
    "sets"
   ]
  }
 ],
 "metadata": {
  "kernelspec": {
   "display_name": "Python 3",
   "language": "python",
   "name": "python3"
  },
  "language_info": {
   "codemirror_mode": {
    "name": "ipython",
    "version": 3
   },
   "file_extension": ".py",
   "mimetype": "text/x-python",
   "name": "python",
   "nbconvert_exporter": "python",
   "pygments_lexer": "ipython3",
   "version": "3.6.6"
  },
  "varInspector": {
   "cols": {
    "lenName": 16,
    "lenType": 16,
    "lenVar": 40
   },
   "kernels_config": {
    "python": {
     "delete_cmd_postfix": "",
     "delete_cmd_prefix": "del ",
     "library": "var_list.py",
     "varRefreshCmd": "print(var_dic_list())"
    },
    "r": {
     "delete_cmd_postfix": ") ",
     "delete_cmd_prefix": "rm(",
     "library": "var_list.r",
     "varRefreshCmd": "cat(var_dic_list()) "
    }
   },
   "types_to_exclude": [
    "module",
    "function",
    "builtin_function_or_method",
    "instance",
    "_Feature"
   ],
   "window_display": false
  }
 },
 "nbformat": 4,
 "nbformat_minor": 2
}
