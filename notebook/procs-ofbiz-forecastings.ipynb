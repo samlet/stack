{
 "cells": [
  {
   "cell_type": "code",
   "execution_count": 1,
   "metadata": {
    "ExecuteTime": {
     "end_time": "2019-02-12T08:48:50.581279Z",
     "start_time": "2019-02-12T08:48:50.576572Z"
    }
   },
   "outputs": [],
   "source": [
    "# cols = ['行ID'，'订单ID'，'发货日期'，'发货模式'，\n",
    "# '客户ID'，'客户名称'，'细分'，\n",
    "# '国家'，'城市'，'州'，'邮政编码'，\n",
    "# '地区'，'产品ID'，'类别'，\n",
    "# '子类别'，'产品名称'，'数量'，\n",
    "# '折扣'，'利润'] \n",
    "cols = ['Row ID', 'Order ID', 'Ship Date', 'Ship Mode', \n",
    "        'Customer ID', 'Customer Name', 'Segment', \n",
    "        'Country', 'City', 'State', 'Postal Code', \n",
    "        'Region', 'Product ID', 'Category', \n",
    "        'Sub-Category', 'Product Name', 'Quantity', \n",
    "        'Discount', 'Profit']"
   ]
  }
 ],
 "metadata": {
  "kernelspec": {
   "display_name": "Python 3",
   "language": "python",
   "name": "python3"
  },
  "language_info": {
   "codemirror_mode": {
    "name": "ipython",
    "version": 3
   },
   "file_extension": ".py",
   "mimetype": "text/x-python",
   "name": "python",
   "nbconvert_exporter": "python",
   "pygments_lexer": "ipython3",
   "version": "3.6.4"
  },
  "varInspector": {
   "cols": {
    "lenName": 16,
    "lenType": 16,
    "lenVar": 40
   },
   "kernels_config": {
    "python": {
     "delete_cmd_postfix": "",
     "delete_cmd_prefix": "del ",
     "library": "var_list.py",
     "varRefreshCmd": "print(var_dic_list())"
    },
    "r": {
     "delete_cmd_postfix": ") ",
     "delete_cmd_prefix": "rm(",
     "library": "var_list.r",
     "varRefreshCmd": "cat(var_dic_list()) "
    }
   },
   "types_to_exclude": [
    "module",
    "function",
    "builtin_function_or_method",
    "instance",
    "_Feature"
   ],
   "window_display": false
  }
 },
 "nbformat": 4,
 "nbformat_minor": 2
}
