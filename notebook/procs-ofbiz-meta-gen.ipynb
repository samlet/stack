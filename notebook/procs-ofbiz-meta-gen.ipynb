{
 "cells": [
  {
   "cell_type": "code",
   "execution_count": 1,
   "metadata": {
    "ExecuteTime": {
     "end_time": "2019-01-21T14:30:01.862474Z",
     "start_time": "2019-01-21T14:30:01.850681Z"
    }
   },
   "outputs": [],
   "source": [
    "from tabulate import tabulate\n",
    "import wcwidth\n",
    "\n",
    "def abbrev(data, l=15):\n",
    "    info = (data[:l] + '..') if len(data) > l else data\n",
    "    return info"
   ]
  },
  {
   "cell_type": "code",
   "execution_count": 98,
   "metadata": {
    "ExecuteTime": {
     "end_time": "2019-01-21T19:39:22.071810Z",
     "start_time": "2019-01-21T19:39:22.060124Z"
    }
   },
   "outputs": [
    {
     "name": "stdout",
     "output_type": "stream",
     "text": [
      "default\n"
     ]
    }
   ],
   "source": [
    "from sagas.ofbiz.connector import OfbizConnector\n",
    "from sagas.ofbiz.finder import Finder\n",
    "oc=OfbizConnector()\n",
    "finder=Finder(oc)\n",
    "print(oc.delegator.getDelegatorName())"
   ]
  },
  {
   "cell_type": "code",
   "execution_count": 100,
   "metadata": {
    "ExecuteTime": {
     "end_time": "2019-01-21T19:42:07.782013Z",
     "start_time": "2019-01-21T19:42:07.768036Z"
    }
   },
   "outputs": [],
   "source": [
    "def desc_relations(entity_name):\n",
    "    table_header = ['name','type', 'string']\n",
    "    table_data = []\n",
    "    ent=oc.delegator.getModelEntity(entity_name)\n",
    "    # print(ent.getPlainTableName(), ent.getTitle(), ent.getDescription())\n",
    "    for rel in ent.getRelationsList(True, True, True):\n",
    "        # print(\"\\t\", rel.getType(), rel)\n",
    "        relation_name=rel.getTitle()+rel.getRelEntityName()\n",
    "        table_data.append((abbrev(rel.getRelEntityName(), 20), \n",
    "                        rel.getType(), \n",
    "                        abbrev(relation_name, 25)))\n",
    "    print(tabulate(table_data, headers=table_header, tablefmt='psql'))"
   ]
  },
  {
   "cell_type": "code",
   "execution_count": 102,
   "metadata": {
    "ExecuteTime": {
     "end_time": "2019-01-21T19:42:50.331527Z",
     "start_time": "2019-01-21T19:42:50.298268Z"
    }
   },
   "outputs": [
    {
     "name": "stdout",
     "output_type": "stream",
     "text": [
      "TESTING_NODE Testing Node None\n",
      "+---------------------+-------------+------------------------+\n",
      "| name                | type        | string                 |\n",
      "|---------------------+-------------+------------------------|\n",
      "| lastUpdatedStamp    | date-time   | LAST_UPDATED_STAMP     |\n",
      "| createdTxStamp      | date-time   | CREATED_TX_STAMP       |\n",
      "| createdStamp        | date-time   | CREATED_STAMP          |\n",
      "| description         | description | DESCRIPTION            |\n",
      "| lastUpdatedTxStamp  | date-time   | LAST_UPDATED_TX_STAMP  |\n",
      "| testingNodeId       | id          | TESTING_NODE_ID        |\n",
      "| primaryParentNodeId | id          | PRIMARY_PARENT_NODE_ID |\n",
      "+---------------------+-------------+------------------------+\n",
      "+-------------------+--------+--------------------------+\n",
      "| name              | type   | string                   |\n",
      "|-------------------+--------+--------------------------|\n",
      "| TestingNode       | one    | PrimaryParentTestingNode |\n",
      "| TestingNode       | many   | PrimaryChildTestingNode  |\n",
      "| TestingNodeMember | many   | TestingNodeMember        |\n",
      "+-------------------+--------+--------------------------+\n"
     ]
    }
   ],
   "source": [
    "# entity_name=\"Testing\"\n",
    "# entity_name=\"TestingType\"\n",
    "entity_name=\"TestingNode\"\n",
    "ent=oc.delegator.getModelEntity(entity_name)\n",
    "print(ent.getPlainTableName(), ent.getTitle(), ent.getDescription())\n",
    "table_header = ['name','type', 'string']\n",
    "table_data = []\n",
    "names=ent.getAllFieldNames()\n",
    "for field_name in names:\n",
    "    fld=ent.getField(field_name)\n",
    "    table_data.append((abbrev(field_name, 20), \n",
    "                        fld.getType(), \n",
    "                        abbrev(fld.getColName(), 25)))\n",
    "print(tabulate(table_data, headers=table_header, tablefmt='psql'))\n",
    "desc_relations(entity_name)"
   ]
  },
  {
   "cell_type": "code",
   "execution_count": 20,
   "metadata": {
    "ExecuteTime": {
     "end_time": "2019-01-21T15:15:33.333995Z",
     "start_time": "2019-01-21T15:15:33.274348Z"
    }
   },
   "outputs": [
    {
     "name": "stdout",
     "output_type": "stream",
     "text": [
      "string\n",
      "float\n",
      "Float\n"
     ]
    }
   ],
   "source": [
    "# the date and time types:\n",
    "#     <field-type-def type=\"date-time\" sql-type=\"DATETIME(3)\" java-type=\"java.sql.Timestamp\"/>\n",
    "#     <field-type-def type=\"date\" sql-type=\"DATE\" java-type=\"java.sql.Date\"/>\n",
    "#     <field-type-def type=\"time\" sql-type=\"TIME(3)\" java-type=\"java.sql.Time\"/>\n",
    "type_mappings={\"string\":[\"blob\",\"byte-array\",\"object\",\n",
    "                         \"date-time\",\"date\",\"time\",\n",
    "                         \"id\",\"id-long\",\"id-vlong\",\n",
    "                        \"indicator\",\"very-short\",\"short-varchar\",\"long-varchar\",\"very-long\",\n",
    "                        \"comment\",\"description\",\"name\",\"value\",\n",
    "                        \"credit-card-number\",\"credit-card-date\",\"email\",\"url\",\"tel-number\"],\n",
    "              \"float\":[\"currency-amount\",\"currency-precise\",\"fixed-point\",\"floating-point\"],\n",
    "              \"int\":[\"numeric\"]}\n",
    "gl_mappings={\"string\":\"String\", \"float\":\"Float\", \"int\":\"Int\"}\n",
    "def get_mapping_type(field_type):\n",
    "    for k, v in type_mappings.items():\n",
    "        if field_type in v:\n",
    "            return k\n",
    "    raise ValueError(\"Cannot find mapping type for \"+field_type)\n",
    "def get_graphql_type(field_type):\n",
    "    mt=get_mapping_type(field_type)\n",
    "    return gl_mappings[mt]\n",
    "\n",
    "print(get_mapping_type('date'))\n",
    "print(get_mapping_type('currency-precise'))\n",
    "print(get_graphql_type('currency-precise'))"
   ]
  },
  {
   "cell_type": "code",
   "execution_count": 92,
   "metadata": {
    "ExecuteTime": {
     "end_time": "2019-01-21T17:37:08.282503Z",
     "start_time": "2019-01-21T17:37:08.110580Z"
    }
   },
   "outputs": [
    {
     "name": "stdout",
     "output_type": "stream",
     "text": [
      "import graphene\n",
      "\n",
      "\n",
      "class Testing(graphene.ObjectType):\n",
      "    last_updated_stamp = graphene.String()\n",
      "    comments = graphene.String()\n",
      "    created_tx_stamp = graphene.String()\n",
      "    testing_type_id = graphene.String()\n",
      "    testing_size = graphene.Int()\n",
      "    created_stamp = graphene.String()\n",
      "    testing_id = graphene.String()\n",
      "    description = graphene.String()\n",
      "    last_updated_tx_stamp = graphene.String()\n",
      "    testing_date = graphene.String()\n",
      "    testing_name = graphene.String()\n",
      "    testing_type = graphene.Field(lambda: TestingType)\n",
      "    testing_item = graphene.List(lambda: TestingItem)\n",
      "    testing_node_member = graphene.List(lambda: TestingNodeMember)\n",
      "\n",
      "    def resolve_testing_type(self, info):\n",
      "        return get_related_one(\"TestingType\", TestingType, testingTypeId=self.testing_type_id)\n",
      "\n",
      "    def resolve_testing_item(self, info):\n",
      "        return get_relations(\"TestingItem\", TestingItem, testingId=self.testing_id)\n",
      "\n",
      "    def resolve_testing_node_member(self, info):\n",
      "        return get_relations(\"TestingNodeMember\", TestingNodeMember, testingId=self.testing_id)\n",
      "\n",
      "class TestingType(graphene.ObjectType):\n",
      "    last_updated_stamp = graphene.String()\n",
      "    created_tx_stamp = graphene.String()\n",
      "    testing_type_id = graphene.String()\n",
      "    created_stamp = graphene.String()\n",
      "    description = graphene.String()\n",
      "    last_updated_tx_stamp = graphene.String()\n",
      "    testing = graphene.List(lambda: Testing)\n",
      "\n",
      "    def resolve_testing(self, info):\n",
      "        return get_relations(\"Testing\", Testing, testingTypeId=self.testing_type_id)\n",
      "\n",
      "class TestingItem(graphene.ObjectType):\n",
      "    last_updated_stamp = graphene.String()\n",
      "    testing_history = graphene.String()\n",
      "    created_tx_stamp = graphene.String()\n",
      "    created_stamp = graphene.String()\n",
      "    testing_id = graphene.String()\n",
      "    last_updated_tx_stamp = graphene.String()\n",
      "    testing_seq_id = graphene.String()\n",
      "    testing = graphene.Field(lambda: Testing)\n",
      "\n",
      "    def resolve_testing(self, info):\n",
      "        return get_related_one(\"Testing\", Testing, testingId=self.testing_id)\n",
      "\n",
      "class TestingNode(graphene.ObjectType):\n",
      "    last_updated_stamp = graphene.String()\n",
      "    created_tx_stamp = graphene.String()\n",
      "    created_stamp = graphene.String()\n",
      "    description = graphene.String()\n",
      "    last_updated_tx_stamp = graphene.String()\n",
      "    testing_node_id = graphene.String()\n",
      "    primary_parent_node_id = graphene.String()\n",
      "    testing_node = graphene.Field(lambda: TestingNode)\n",
      "    testing_node = graphene.List(lambda: TestingNode)\n",
      "    testing_node_member = graphene.List(lambda: TestingNodeMember)\n",
      "\n",
      "    def resolve_testing_node(self, info):\n",
      "        return get_related_one(\"TestingNode\", TestingNode, testingNodeId=self.primary_parent_node_id)\n",
      "\n",
      "    def resolve_testing_node(self, info):\n",
      "        return get_relations(\"TestingNode\", TestingNode, primaryParentNodeId=self.testing_node_id)\n",
      "\n",
      "    def resolve_testing_node_member(self, info):\n",
      "        return get_relations(\"TestingNodeMember\", TestingNodeMember, testingNodeId=self.testing_node_id)\n",
      "\n",
      "class TestingNodeMember(graphene.ObjectType):\n",
      "    from_date = graphene.String()\n",
      "    last_updated_stamp = graphene.String()\n",
      "    extend_from_date = graphene.String()\n",
      "    created_tx_stamp = graphene.String()\n",
      "    created_stamp = graphene.String()\n",
      "    testing_id = graphene.String()\n",
      "    last_updated_tx_stamp = graphene.String()\n",
      "    extend_thru_date = graphene.String()\n",
      "    testing_node_id = graphene.String()\n",
      "    thru_date = graphene.String()\n",
      "    testing = graphene.Field(lambda: Testing)\n",
      "    testing_node = graphene.Field(lambda: TestingNode)\n",
      "\n",
      "    def resolve_testing(self, info):\n",
      "        return get_related_one(\"Testing\", Testing, testingId=self.testing_id)\n",
      "\n",
      "    def resolve_testing_node(self, info):\n",
      "        return get_related_one(\"TestingNode\", TestingNode, testingNodeId=self.testing_node_id)\n"
     ]
    }
   ],
   "source": [
    "from sagas.util.str_converters import to_camel_case, to_snake_case\n",
    "\n",
    "program_header='''import graphene\n",
    "'''\n",
    "program_footer='''\n",
    "schema = graphene.Schema(query=Query)\n",
    "'''\n",
    "resover_def='''\n",
    "    def resolve_{rel_name}(self, info):\n",
    "        return {method}(\"{model}\", {model}, {inputs})'''\n",
    "headers=[]\n",
    "footers=[]\n",
    "headers.append(program_header)\n",
    "footers.append(program_footer)\n",
    "    \n",
    "def gen_model(entity_name):\n",
    "    lines=[]\n",
    "    resolvers=[]\n",
    "    ent=oc.delegator.getModelEntity(entity_name)\n",
    "    \n",
    "    lines.append(\"class {ent}(graphene.ObjectType):\".format(ent=entity_name))\n",
    "    names=ent.getAllFieldNames()\n",
    "    for field_name in names:\n",
    "        fld=ent.getField(field_name)\n",
    "        fldtype=get_graphql_type(fld.getType())\n",
    "        lines.append(\"    {name} = graphene.{type}()\".format(name=to_snake_case(field_name),\n",
    "                                                            type=fldtype))\n",
    "\n",
    "    for rel in ent.getRelationsList(True, False, True):\n",
    "        model_name=rel.getRelEntityName()\n",
    "        rel_name=to_snake_case(model_name)    \n",
    "        # extract relation fields\n",
    "        inputs=[]\n",
    "        for key in rel.getKeyMaps():\n",
    "            inputs.append(\"{}=self.{}\".format(key.getRelFieldName(), \n",
    "                                           to_snake_case(key.getFieldName())))\n",
    "        # build\n",
    "        if rel.getType()==\"many\":\n",
    "            method=\"get_relations\"\n",
    "            lines.append(\"    {name} = graphene.List(lambda: {model})\".format(\n",
    "                name=rel_name, model=model_name))\n",
    "        else:\n",
    "            method=\"get_related_one\"\n",
    "            lines.append(\"    {name} = graphene.Field(lambda: {model})\".format(\n",
    "                name=rel_name, model=model_name))\n",
    "        resolvers.append(resover_def.format(rel_name=rel_name,\n",
    "                                           model=model_name,\n",
    "                                           method=method,\n",
    "                                           inputs=\", \".join(inputs)))\n",
    "    return \"\\n\".join(lines+resolvers)\n",
    "\n",
    "all_models=[]\n",
    "models=[\"Testing\", \"TestingType\", \"TestingItem\", \"TestingNode\", \"TestingNodeMember\"]\n",
    "for mo in models:\n",
    "    all_models.append(gen_model(mo))\n",
    "# program=(\"\\n\".join(headers+lines+resolvers+footers))\n",
    "program=(\"\\n\\n\".join(headers+all_models))\n",
    "print(program)\n",
    "exec(program)"
   ]
  },
  {
   "cell_type": "code",
   "execution_count": 95,
   "metadata": {
    "ExecuteTime": {
     "end_time": "2019-01-21T17:40:17.122759Z",
     "start_time": "2019-01-21T17:40:16.977304Z"
    }
   },
   "outputs": [],
   "source": [
    "def fill_record(model, val, rec):\n",
    "    names=model.getAllFieldNames()\n",
    "    for field_name in names:\n",
    "        setattr(val, to_snake_case(field_name), rec[field_name])\n",
    "def create_list(*args):\n",
    "    m = oc.j.ArrayList()\n",
    "    for e in args:\n",
    "        m.append(e)\n",
    "    return m\n",
    "\n",
    "def get_related_one(entity, of_type, **kwargs):\n",
    "    model=oc.delegator.getModelEntity(entity)\n",
    "    rec=finder.find_one(entity, oc.jmap(**kwargs))\n",
    "    instance=of_type()\n",
    "    fill_record(model, instance, rec)\n",
    "    return instance\n",
    "\n",
    "def get_relations(entity, of_type, **kwargs):\n",
    "    model=oc.delegator.getModelEntity(entity)\n",
    "    fields=oc.jmap(**kwargs)\n",
    "    orders=create_list()\n",
    "    recs=oc.delegator.findByAnd(entity, fields, orders, True) \n",
    "    result=[]\n",
    "    for rec in recs:\n",
    "        val=of_type()\n",
    "        fill_record(model, val, rec)\n",
    "        result.append(val)\n",
    "    return result\n",
    "\n",
    "def fill_records(model, of_type, recs):\n",
    "    result=[]\n",
    "    for rec in recs:\n",
    "        val=of_type()\n",
    "        fill_record(model, val, rec)\n",
    "        result.append(val)\n",
    "    return result\n",
    "\n",
    "class Query(graphene.ObjectType):\n",
    "    testing = graphene.List(lambda: Testing)\n",
    "    testing_node= graphene.List(lambda: TestingNode)\n",
    "\n",
    "    def resolve_testing(self, info):\n",
    "        entity_name=\"Testing\"\n",
    "        recs=oc.all(entity_name)\n",
    "        ent=oc.delegator.getModelEntity(entity_name)\n",
    "        result=fill_records(Testing, recs)\n",
    "        return result\n",
    "    \n",
    "    def resolve_testing_node(self, info):\n",
    "        # print(\"query testing_node\")\n",
    "        entity_name=\"TestingNode\"\n",
    "        recs=oc.all(entity_name)\n",
    "        ent=oc.delegator.getModelEntity(entity_name)\n",
    "        result=fill_records(ent, TestingNode, recs)\n",
    "        return result\n",
    "\n",
    "schema = graphene.Schema(query=Query)"
   ]
  },
  {
   "cell_type": "code",
   "execution_count": 97,
   "metadata": {
    "ExecuteTime": {
     "end_time": "2019-01-21T17:41:20.407825Z",
     "start_time": "2019-01-21T17:41:20.362488Z"
    }
   },
   "outputs": [
    {
     "name": "stdout",
     "output_type": "stream",
     "text": [
      "{\n",
      "  \"testingNode\": [\n",
      "    {\n",
      "      \"testingNodeId\": \"NODE_1\",\n",
      "      \"testingNodeMember\": [\n",
      "        {\n",
      "          \"testingNodeId\": \"NODE_1\",\n",
      "          \"testingId\": \"PERF_TEST_5\"\n",
      "        },\n",
      "        {\n",
      "          \"testingNodeId\": \"NODE_1\",\n",
      "          \"testingId\": \"PERF_TEST_6\"\n",
      "        },\n",
      "        {\n",
      "          \"testingNodeId\": \"NODE_1\",\n",
      "          \"testingId\": \"PERF_TEST_7\"\n",
      "        },\n",
      "        {\n",
      "          \"testingNodeId\": \"NODE_1\",\n",
      "          \"testingId\": \"PERF_TEST_8\"\n",
      "        },\n",
      "        {\n",
      "          \"testingNodeId\": \"NODE_1\",\n",
      "          \"testingId\": \"PERF_TEST_9\"\n",
      "        }\n",
      "      ]\n",
      "    }\n",
      "  ]\n",
      "}\n"
     ]
    }
   ],
   "source": [
    "import json\n",
    "\n",
    "q1 = '''\n",
    "{\n",
    "  testing {\n",
    "    testingId\n",
    "    testingName\n",
    "    testingTypeId\n",
    "    testingType{\n",
    "        lastUpdatedTxStamp\n",
    "        description\n",
    "    }\n",
    "  }\n",
    "}\n",
    "'''.strip()\n",
    "q2 = '''\n",
    "{\n",
    "  testingNode {\n",
    "    testingNodeId\n",
    "    testingNodeMember{\n",
    "        testingNodeId\n",
    "        testingId\n",
    "    }\n",
    "  }\n",
    "}\n",
    "'''.strip()\n",
    "result = schema.execute(q2)\n",
    "print(json.dumps(result.data, indent=2, ensure_ascii=False))"
   ]
  }
 ],
 "metadata": {
  "kernelspec": {
   "display_name": "Python 3",
   "language": "python",
   "name": "python3"
  },
  "language_info": {
   "codemirror_mode": {
    "name": "ipython",
    "version": 3
   },
   "file_extension": ".py",
   "mimetype": "text/x-python",
   "name": "python",
   "nbconvert_exporter": "python",
   "pygments_lexer": "ipython3",
   "version": "3.6.4"
  },
  "varInspector": {
   "cols": {
    "lenName": 16,
    "lenType": 16,
    "lenVar": 40
   },
   "kernels_config": {
    "python": {
     "delete_cmd_postfix": "",
     "delete_cmd_prefix": "del ",
     "library": "var_list.py",
     "varRefreshCmd": "print(var_dic_list())"
    },
    "r": {
     "delete_cmd_postfix": ") ",
     "delete_cmd_prefix": "rm(",
     "library": "var_list.r",
     "varRefreshCmd": "cat(var_dic_list()) "
    }
   },
   "types_to_exclude": [
    "module",
    "function",
    "builtin_function_or_method",
    "instance",
    "_Feature"
   ],
   "window_display": false
  }
 },
 "nbformat": 4,
 "nbformat_minor": 2
}
