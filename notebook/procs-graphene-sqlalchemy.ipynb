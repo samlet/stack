{
 "cells": [
  {
   "cell_type": "code",
   "execution_count": 5,
   "metadata": {
    "ExecuteTime": {
     "end_time": "2020-01-06T08:09:23.789154Z",
     "start_time": "2020-01-06T08:09:23.714970Z"
    }
   },
   "outputs": [
    {
     "name": "stdout",
     "output_type": "stream",
     "text": [
      "\n",
      "/// Entity Person, Person\n",
      "class Person extends EntityBase {\n",
      "\n",
      "  /// this entity has only one pk\n",
      "  final int yearsWithEmployer;\n",
      "  final String lastName;\n",
      "  final String occupation;\n",
      "  final String gender;\n",
      "  final String employmentStatusEnumId;\n",
      "  final String socialSecurityNumber;\n",
      "  final String suffix;\n",
      "  final String mothersMaidenName;\n",
      "  final String middleNameLocal;\n",
      "  final String existingCustomer;\n",
      "  final String residenceStatusEnumId;\n",
      "  final String nickname;\n",
      "  final String partyId; // pk\n",
      "  final String memberId;\n",
      "  final double height;\n",
      "  final String passportNumber;\n",
      "  final String lastNameLocal;\n",
      "  final String comments;\n",
      "  final int monthsWithEmployer;\n",
      "  final double weight;\n",
      "  final DateTime birthDate;\n",
      "  final String otherLocal;\n",
      "  final String firstName;\n",
      "  final String cardId;\n",
      "  final String middleName;\n",
      "  final String firstNameLocal;\n",
      "  final DateTime passportExpireDate;\n",
      "  final String salutation;\n",
      "  final String personalTitle;\n",
      "  final DateTime deceasedDate;\n",
      "  final double totalYearsWorkExperience;\n",
      "  final String maritalStatus;\n",
      "  Person({entityId,\n",
      "    this.yearsWithEmployer, this.lastName, this.occupation, this.gender, this.employmentStatusEnumId, this.socialSecurityNumber, this.suffix, this.mothersMaidenName, this.middleNameLocal, this.existingCustomer, this.residenceStatusEnumId, this.nickname, @required this.partyId, this.memberId, this.height, this.passportNumber, this.lastNameLocal, this.comments, this.monthsWithEmployer, this.weight, this.birthDate, this.otherLocal, this.firstName, this.cardId, this.middleName, this.firstNameLocal, this.passportExpireDate, this.salutation, this.personalTitle, this.deceasedDate, this.totalYearsWorkExperience, this.maritalStatus,\n",
      "    lastUpdatedStamp,\n",
      "    createdStamp}) : super(entityId, lastUpdatedStamp, createdStamp);\n",
      "\n",
      "  @override\n",
      "  String toString() => 'Person { id: $entityId }';\n",
      "\n",
      "  @override\n",
      "  Map<String, dynamic> asMap() {\n",
      "    return {'yearsWithEmployer':yearsWithEmployer, 'lastName':lastName, 'occupation':occupation, 'gender':gender, 'employmentStatusEnumId':employmentStatusEnumId, 'socialSecurityNumber':socialSecurityNumber, 'suffix':suffix, 'mothersMaidenName':mothersMaidenName, 'middleNameLocal':middleNameLocal, 'existingCustomer':existingCustomer, 'residenceStatusEnumId':residenceStatusEnumId, 'nickname':nickname, 'partyId':partyId, 'memberId':memberId, 'height':height, 'passportNumber':passportNumber, 'lastNameLocal':lastNameLocal, 'comments':comments, 'monthsWithEmployer':monthsWithEmployer, 'weight':weight, 'birthDate':birthDate, 'otherLocal':otherLocal, 'firstName':firstName, 'cardId':cardId, 'middleName':middleName, 'firstNameLocal':firstNameLocal, 'passportExpireDate':passportExpireDate, 'salutation':salutation, 'personalTitle':personalTitle, 'deceasedDate':deceasedDate, 'totalYearsWorkExperience':totalYearsWorkExperience, 'maritalStatus':maritalStatus};\n",
      "  }\n",
      "\n",
      "}\n"
     ]
    }
   ],
   "source": [
    "from sagas.ofbiz.entity_gen import gen_bloc_model\n",
    "lines = []\n",
    "# entities = ['Testing', 'TestingType', 'TestFieldType', 'Person']\n",
    "entities = ['Person']\n",
    "for entity_name in entities:\n",
    "    # entity_name='TestFieldType'\n",
    "    gen_bloc_model(lines, entity_name)\n",
    "print('\\n'.join(lines))"
   ]
  },
  {
   "cell_type": "code",
   "execution_count": 2,
   "metadata": {
    "ExecuteTime": {
     "end_time": "2020-01-06T08:28:43.186684Z",
     "start_time": "2020-01-06T08:28:43.163450Z"
    }
   },
   "outputs": [],
   "source": [
    "from sqlalchemy import create_engine\n",
    "from sqlalchemy.ext.declarative import declarative_base\n",
    "from sqlalchemy.orm import scoped_session, sessionmaker\n",
    "\n",
    "engine = create_engine('sqlite:///database.sqlite3', convert_unicode=True)\n",
    "db_session = scoped_session(sessionmaker(autocommit=False,\n",
    "                                         autoflush=False,\n",
    "                                         bind=engine))\n",
    "Base = declarative_base()\n",
    "Base.query = db_session.query_property()"
   ]
  },
  {
   "cell_type": "code",
   "execution_count": 3,
   "metadata": {
    "ExecuteTime": {
     "end_time": "2020-01-06T08:28:45.507011Z",
     "start_time": "2020-01-06T08:28:45.484599Z"
    }
   },
   "outputs": [],
   "source": [
    "# from database import Base\n",
    "from sqlalchemy import Column, DateTime, ForeignKey, Integer, String, func\n",
    "from sqlalchemy.orm import backref, relationship\n",
    "\n",
    "\n",
    "class Department(Base):\n",
    "    __tablename__ = 'department'\n",
    "    id = Column(Integer, primary_key=True)\n",
    "    name = Column(String)\n",
    "\n",
    "\n",
    "class Role(Base):\n",
    "    __tablename__ = 'roles'\n",
    "    role_id = Column(Integer, primary_key=True)\n",
    "    name = Column(String)\n",
    "\n",
    "\n",
    "class Employee(Base):\n",
    "    __tablename__ = 'employee'\n",
    "    id = Column(Integer, primary_key=True)\n",
    "    name = Column(String)\n",
    "    # Use default=func.now() to set the default hiring time\n",
    "    # of an Employee to be the current time when an\n",
    "    # Employee record was created\n",
    "    hired_on = Column(DateTime, default=func.now())\n",
    "    department_id = Column(Integer, ForeignKey('department.id'))\n",
    "    role_id = Column(Integer, ForeignKey('roles.role_id'))\n",
    "    # Use cascade='delete,all' to propagate the deletion of a Department onto its Employees\n",
    "    department = relationship(\n",
    "        Department,\n",
    "        backref=backref('employees',\n",
    "                        uselist=True,\n",
    "                        cascade='delete,all'))\n",
    "    role = relationship(\n",
    "        Role,\n",
    "        backref=backref('roles',\n",
    "                        uselist=True,\n",
    "                        cascade='delete,all'))"
   ]
  },
  {
   "cell_type": "code",
   "execution_count": 4,
   "metadata": {
    "ExecuteTime": {
     "end_time": "2020-01-06T08:28:49.462625Z",
     "start_time": "2020-01-06T08:28:49.397401Z"
    }
   },
   "outputs": [],
   "source": [
    "def init_db():\n",
    "    # import all modules here that might define models so that\n",
    "    # they will be registered properly on the metadata.  Otherwise\n",
    "    # you will have to import them first before calling init_db()\n",
    "    # from models import Department, Employee, Role\n",
    "    Base.metadata.drop_all(bind=engine)\n",
    "    Base.metadata.create_all(bind=engine)\n",
    "\n",
    "    # Create the fixtures\n",
    "    engineering = Department(name='Engineering')\n",
    "    db_session.add(engineering)\n",
    "    hr = Department(name='Human Resources')\n",
    "    db_session.add(hr)\n",
    "\n",
    "    manager = Role(name='manager')\n",
    "    db_session.add(manager)\n",
    "    engineer = Role(name='engineer')\n",
    "    db_session.add(engineer)\n",
    "\n",
    "    peter = Employee(name='Peter', department=engineering, role=engineer)\n",
    "    db_session.add(peter)\n",
    "    roy = Employee(name='Roy', department=engineering, role=engineer)\n",
    "    db_session.add(roy)\n",
    "    tracy = Employee(name='Tracy', department=hr, role=manager)\n",
    "    db_session.add(tracy)\n",
    "    db_session.commit()\n",
    "    \n",
    "init_db()    "
   ]
  },
  {
   "cell_type": "code",
   "execution_count": 5,
   "metadata": {
    "ExecuteTime": {
     "end_time": "2020-01-06T08:28:52.402525Z",
     "start_time": "2020-01-06T08:28:52.397883Z"
    }
   },
   "outputs": [],
   "source": [
    "DepartmentModel=Department\n",
    "EmployeeModel=Employee\n",
    "RoleModel=Role"
   ]
  },
  {
   "cell_type": "code",
   "execution_count": 6,
   "metadata": {
    "ExecuteTime": {
     "end_time": "2020-01-06T08:28:55.298308Z",
     "start_time": "2020-01-06T08:28:54.490964Z"
    }
   },
   "outputs": [],
   "source": [
    "import graphene\n",
    "from graphene import relay\n",
    "from graphene_sqlalchemy import SQLAlchemyConnectionField, SQLAlchemyObjectType\n",
    "\n",
    "\n",
    "class Department(SQLAlchemyObjectType):\n",
    "    class Meta:\n",
    "        model = DepartmentModel\n",
    "        interfaces = (relay.Node, )\n",
    "\n",
    "\n",
    "class Employee(SQLAlchemyObjectType):\n",
    "    class Meta:\n",
    "        model = EmployeeModel\n",
    "        interfaces = (relay.Node, )\n",
    "\n",
    "\n",
    "class Role(SQLAlchemyObjectType):\n",
    "    class Meta:\n",
    "        model = RoleModel\n",
    "        interfaces = (relay.Node, )\n",
    "\n",
    "\n",
    "class Query(graphene.ObjectType):\n",
    "    node = relay.Node.Field()\n",
    "    # Allow only single column sorting\n",
    "    all_employees = SQLAlchemyConnectionField(\n",
    "        Employee, sort=Employee.sort_argument())\n",
    "    # Allows sorting over multiple columns, by default over the primary key\n",
    "    all_roles = SQLAlchemyConnectionField(Role)\n",
    "    # Disable sorting over this field\n",
    "    all_departments = SQLAlchemyConnectionField(Department, sort=None)\n",
    "\n",
    "\n",
    "schema = graphene.Schema(query=Query, types=[Department, Employee, Role])"
   ]
  },
  {
   "cell_type": "code",
   "execution_count": 12,
   "metadata": {
    "ExecuteTime": {
     "end_time": "2020-01-06T08:31:17.866767Z",
     "start_time": "2020-01-06T08:31:17.837389Z"
    }
   },
   "outputs": [
    {
     "name": "stdout",
     "output_type": "stream",
     "text": [
      "None\n"
     ]
    },
    {
     "data": {
      "text/plain": [
       "{'allEmployees': {'edges': [{'node': {'id': 'RW1wbG95ZWU6MQ==',\n",
       "     'name': 'Peter',\n",
       "     'department': {'id': 'RGVwYXJ0bWVudDox', 'name': 'Engineering'},\n",
       "     'role': {'id': 'Um9sZToy', 'name': 'engineer'}}},\n",
       "   {'node': {'id': 'RW1wbG95ZWU6Mg==',\n",
       "     'name': 'Roy',\n",
       "     'department': {'id': 'RGVwYXJ0bWVudDox', 'name': 'Engineering'},\n",
       "     'role': {'id': 'Um9sZToy', 'name': 'engineer'}}},\n",
       "   {'node': {'id': 'RW1wbG95ZWU6Mw==',\n",
       "     'name': 'Tracy',\n",
       "     'department': {'id': 'RGVwYXJ0bWVudDoy', 'name': 'Human Resources'},\n",
       "     'role': {'id': 'Um9sZTox', 'name': 'manager'}}}]}}"
      ]
     },
     "execution_count": 12,
     "metadata": {},
     "output_type": "execute_result"
    }
   ],
   "source": [
    "def to_std_dicts(value):\n",
    "    \"\"\"Convert nested ordered dicts to normal dicts for better comparison.\"\"\"\n",
    "    if isinstance(value, dict):\n",
    "        return {k: to_std_dicts(v) for k, v in value.items()}\n",
    "    elif isinstance(value, list):\n",
    "        return [to_std_dicts(v) for v in value]\n",
    "    else:\n",
    "        return value\n",
    "    \n",
    "query = \"\"\"\n",
    "{\n",
    "  allEmployees(sort: [NAME_ASC, ID_ASC]) {\n",
    "    edges {\n",
    "      node {\n",
    "        id\n",
    "        name\n",
    "        department {\n",
    "          id\n",
    "          name\n",
    "        }\n",
    "        role {\n",
    "          id\n",
    "          name\n",
    "        }\n",
    "      }\n",
    "    }\n",
    "  }\n",
    "}\n",
    "\"\"\"\n",
    "result = schema.execute(query, context_value={'session': db_session})\n",
    "print(result.errors)\n",
    "to_std_dicts(result.data)"
   ]
  },
  {
   "cell_type": "code",
   "execution_count": 16,
   "metadata": {
    "ExecuteTime": {
     "end_time": "2020-01-06T08:37:37.232405Z",
     "start_time": "2020-01-06T08:37:37.223312Z"
    }
   },
   "outputs": [
    {
     "name": "stdout",
     "output_type": "stream",
     "text": [
      "[GraphQLError('Cannot query field \"id\" on type \"DepartmentConnection\".',), GraphQLError('Cannot query field \"name\" on type \"DepartmentConnection\".',)]\n"
     ]
    }
   ],
   "source": [
    "# query = \"\"\"\n",
    "#     query {\n",
    "#       allDepartments {\n",
    "#         id\n",
    "#         name\n",
    "#       }      \n",
    "#     }\n",
    "# \"\"\"\n",
    "# result = schema.execute(query, context_value={'session': db_session})\n",
    "# print(result.errors)\n",
    "# to_std_dicts(result.data)"
   ]
  },
  {
   "cell_type": "code",
   "execution_count": 24,
   "metadata": {
    "ExecuteTime": {
     "end_time": "2020-01-06T08:55:37.226332Z",
     "start_time": "2020-01-06T08:55:37.182870Z"
    },
    "scrolled": true
   },
   "outputs": [
    {
     "ename": "InvalidRequestError",
     "evalue": "Table 'association' is already defined for this MetaData instance.  Specify 'extend_existing=True' to redefine options and columns on an existing Table object.",
     "output_type": "error",
     "traceback": [
      "\u001b[0;31m---------------------------------------------------------------------------\u001b[0m",
      "\u001b[0;31mInvalidRequestError\u001b[0m                       Traceback (most recent call last)",
      "\u001b[0;32m<ipython-input-24-b3b24db73498>\u001b[0m in \u001b[0;36m<module>\u001b[0;34m\u001b[0m\n\u001b[1;32m      9\u001b[0m     \u001b[0mBase\u001b[0m\u001b[0;34m.\u001b[0m\u001b[0mmetadata\u001b[0m\u001b[0;34m,\u001b[0m\u001b[0;34m\u001b[0m\u001b[0;34m\u001b[0m\u001b[0m\n\u001b[1;32m     10\u001b[0m     \u001b[0mColumn\u001b[0m\u001b[0;34m(\u001b[0m\u001b[0;34m\"pet_id\"\u001b[0m\u001b[0;34m,\u001b[0m \u001b[0mInteger\u001b[0m\u001b[0;34m,\u001b[0m \u001b[0mForeignKey\u001b[0m\u001b[0;34m(\u001b[0m\u001b[0;34m\"pets.id\"\u001b[0m\u001b[0;34m)\u001b[0m\u001b[0;34m)\u001b[0m\u001b[0;34m,\u001b[0m\u001b[0;34m\u001b[0m\u001b[0;34m\u001b[0m\u001b[0m\n\u001b[0;32m---> 11\u001b[0;31m     \u001b[0mColumn\u001b[0m\u001b[0;34m(\u001b[0m\u001b[0;34m\"reporter_id\"\u001b[0m\u001b[0;34m,\u001b[0m \u001b[0mInteger\u001b[0m\u001b[0;34m,\u001b[0m \u001b[0mForeignKey\u001b[0m\u001b[0;34m(\u001b[0m\u001b[0;34m\"reporters.id\"\u001b[0m\u001b[0;34m)\u001b[0m\u001b[0;34m)\u001b[0m\u001b[0;34m,\u001b[0m\u001b[0;34m\u001b[0m\u001b[0;34m\u001b[0m\u001b[0m\n\u001b[0m\u001b[1;32m     12\u001b[0m )\n\u001b[1;32m     13\u001b[0m \u001b[0;34m\u001b[0m\u001b[0m\n",
      "\u001b[0;32m<string>\u001b[0m in \u001b[0;36m__new__\u001b[0;34m(cls, *args, **kw)\u001b[0m\n",
      "\u001b[0;32m~/miniconda3/envs/rasa/lib/python3.6/site-packages/sqlalchemy/util/deprecations.py\u001b[0m in \u001b[0;36mwarned\u001b[0;34m(fn, *args, **kwargs)\u001b[0m\n\u001b[1;32m    126\u001b[0m                     )\n\u001b[1;32m    127\u001b[0m \u001b[0;34m\u001b[0m\u001b[0m\n\u001b[0;32m--> 128\u001b[0;31m             \u001b[0;32mreturn\u001b[0m \u001b[0mfn\u001b[0m\u001b[0;34m(\u001b[0m\u001b[0;34m*\u001b[0m\u001b[0margs\u001b[0m\u001b[0;34m,\u001b[0m \u001b[0;34m**\u001b[0m\u001b[0mkwargs\u001b[0m\u001b[0;34m)\u001b[0m\u001b[0;34m\u001b[0m\u001b[0;34m\u001b[0m\u001b[0m\n\u001b[0m\u001b[1;32m    129\u001b[0m \u001b[0;34m\u001b[0m\u001b[0m\n\u001b[1;32m    130\u001b[0m         \u001b[0mdoc\u001b[0m \u001b[0;34m=\u001b[0m \u001b[0mfn\u001b[0m\u001b[0;34m.\u001b[0m\u001b[0m__doc__\u001b[0m \u001b[0;32mis\u001b[0m \u001b[0;32mnot\u001b[0m \u001b[0;32mNone\u001b[0m \u001b[0;32mand\u001b[0m \u001b[0mfn\u001b[0m\u001b[0;34m.\u001b[0m\u001b[0m__doc__\u001b[0m \u001b[0;32mor\u001b[0m \u001b[0;34m\"\"\u001b[0m\u001b[0;34m\u001b[0m\u001b[0;34m\u001b[0m\u001b[0m\n",
      "\u001b[0;32m~/miniconda3/envs/rasa/lib/python3.6/site-packages/sqlalchemy/sql/schema.py\u001b[0m in \u001b[0;36m__new__\u001b[0;34m(cls, *args, **kw)\u001b[0m\n\u001b[1;32m    486\u001b[0m                     \u001b[0;34m\"to redefine \"\u001b[0m\u001b[0;34m\u001b[0m\u001b[0;34m\u001b[0m\u001b[0m\n\u001b[1;32m    487\u001b[0m                     \u001b[0;34m\"options and columns on an \"\u001b[0m\u001b[0;34m\u001b[0m\u001b[0;34m\u001b[0m\u001b[0m\n\u001b[0;32m--> 488\u001b[0;31m                     \u001b[0;34m\"existing Table object.\"\u001b[0m \u001b[0;34m%\u001b[0m \u001b[0mkey\u001b[0m\u001b[0;34m\u001b[0m\u001b[0;34m\u001b[0m\u001b[0m\n\u001b[0m\u001b[1;32m    489\u001b[0m                 )\n\u001b[1;32m    490\u001b[0m             \u001b[0mtable\u001b[0m \u001b[0;34m=\u001b[0m \u001b[0mmetadata\u001b[0m\u001b[0;34m.\u001b[0m\u001b[0mtables\u001b[0m\u001b[0;34m[\u001b[0m\u001b[0mkey\u001b[0m\u001b[0;34m]\u001b[0m\u001b[0;34m\u001b[0m\u001b[0;34m\u001b[0m\u001b[0m\n",
      "\u001b[0;31mInvalidRequestError\u001b[0m: Table 'association' is already defined for this MetaData instance.  Specify 'extend_existing=True' to redefine options and columns on an existing Table object."
     ]
    }
   ],
   "source": [
    "import enum\n",
    "from sqlalchemy import (Column, Date, Enum, ForeignKey, Integer, String, Table,\n",
    "                        func, select)\n",
    "from sqlalchemy.ext.hybrid import hybrid_property\n",
    "\n",
    "PetKind = Enum(\"cat\", \"dog\", name=\"pet_kind\")\n",
    "association_table = Table(\n",
    "    \"association\",\n",
    "    Base.metadata,\n",
    "    Column(\"pet_id\", Integer, ForeignKey(\"pets.id\")),\n",
    "    Column(\"reporter_id\", Integer, ForeignKey(\"reporters.id\")),\n",
    ")\n",
    "\n",
    "class Reporter(Base):\n",
    "    __tablename__ = \"reporters\"\n",
    "\n",
    "    id = Column(Integer(), primary_key=True)\n",
    "    first_name = Column(String(30), doc=\"First name\")\n",
    "    last_name = Column(String(30), doc=\"Last name\")\n",
    "    email = Column(String(), doc=\"Email\")\n",
    "    favorite_pet_kind = Column(PetKind)\n",
    "    pets = relationship(\"Pet\", secondary=association_table, backref=\"reporters\")\n",
    "    articles = relationship(\"Article\", backref=\"reporter\")\n",
    "    favorite_article = relationship(\"Article\", uselist=False)\n",
    "\n",
    "    @hybrid_property\n",
    "    def hybrid_prop(self):\n",
    "        return self.first_name\n",
    "\n",
    "    column_prop = column_property(\n",
    "        select([func.cast(func.count(id), Integer)]), doc=\"Column property\"\n",
    "    )\n",
    "\n",
    "    composite_prop = composite(CompositeFullName, first_name, last_name, doc=\"Composite\")\n",
    "\n",
    "class Article(Base):\n",
    "    __tablename__ = \"articles\"\n",
    "    id = Column(Integer(), primary_key=True)\n",
    "    headline = Column(String(100))\n",
    "    pub_date = Column(Date())\n",
    "    reporter_id = Column(Integer(), ForeignKey(\"reporters.id\"))\n"
   ]
  }
 ],
 "metadata": {
  "kernelspec": {
   "display_name": "Python 3",
   "language": "python",
   "name": "python3"
  },
  "language_info": {
   "codemirror_mode": {
    "name": "ipython",
    "version": 3
   },
   "file_extension": ".py",
   "mimetype": "text/x-python",
   "name": "python",
   "nbconvert_exporter": "python",
   "pygments_lexer": "ipython3",
   "version": "3.6.9"
  },
  "varInspector": {
   "cols": {
    "lenName": 16,
    "lenType": 16,
    "lenVar": 40
   },
   "kernels_config": {
    "python": {
     "delete_cmd_postfix": "",
     "delete_cmd_prefix": "del ",
     "library": "var_list.py",
     "varRefreshCmd": "print(var_dic_list())"
    },
    "r": {
     "delete_cmd_postfix": ") ",
     "delete_cmd_prefix": "rm(",
     "library": "var_list.r",
     "varRefreshCmd": "cat(var_dic_list()) "
    }
   },
   "types_to_exclude": [
    "module",
    "function",
    "builtin_function_or_method",
    "instance",
    "_Feature"
   ],
   "window_display": false
  }
 },
 "nbformat": 4,
 "nbformat_minor": 2
}
