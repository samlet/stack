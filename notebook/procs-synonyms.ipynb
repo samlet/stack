{
 "cells": [
  {
   "cell_type": "code",
   "execution_count": 1,
   "metadata": {
    "ExecuteTime": {
     "end_time": "2019-04-18T08:04:54.921459Z",
     "start_time": "2019-04-18T08:04:54.808381Z"
    }
   },
   "outputs": [],
   "source": [
    "import os\n",
    "import clipboard\n",
    "\n",
    "def limit_len(itemname, maxlen=20):\n",
    "    if len(itemname)>maxlen:\n",
    "        # the item name length less equals 4 characters \n",
    "        itemname=itemname[:maxlen]     \n",
    "    return itemname\n",
    "\n",
    "def fix_line(line):\n",
    "    index=line.find(\" \")\n",
    "    itemname=line[:index]\n",
    "    itembody=line[index:]\n",
    "\n",
    "    # itemname=itemname.replace(\"-\",\"\")\n",
    "    # itemname=itemname.replace(\".\",\"\")\n",
    "    # itemname=itemname.replace(\"@\",\"\")\n",
    "    itemname=itemname.translate({ord(i):None for i in '-.@?!~$%'})\n",
    "    # print(itemname+\"#\")\n",
    "    itemname=limit_len(itemname)    \n",
    "    line=itemname+\" \"+itembody\n",
    "    return line\n",
    "\n",
    "## append the reverse word\n",
    "def proc_words(line, allcontent):\n",
    "    parts=line.strip().split(\" \")\n",
    "    # print(parts[0]+\".\")\n",
    "    itemcnt=parts[0][1:]\n",
    "    for part in parts[1:]:\n",
    "        allcontent.append(limit_len(part)+\" \"+itemcnt)\n",
    "\n",
    "def filter_file(filename, allcontent):\n",
    "    f = open(filename, \"r\")\n",
    "    lines=f.readlines()\n",
    "    for line in lines:    \n",
    "        line=line.rstrip()\n",
    "        if len(line)==0:\n",
    "            continue\n",
    "        if line.lstrip().startswith(\"%\"):\n",
    "            continue\n",
    "        if line.lstrip().startswith(\"@\"):\n",
    "            proc_words(line, allcontent)\n",
    "            continue\n",
    "        allcontent.append(fix_line(line))\n",
    "\n",
    "def join_all_files(files):\n",
    "    allcontent=[]\n",
    "    for filename in files:\n",
    "        print('♮', filename)\n",
    "        filter_file(filename, allcontent)\n",
    "        # allcontent=allcontent+f.read()            \n",
    "\n",
    "    return allcontent"
   ]
  },
  {
   "cell_type": "code",
   "execution_count": 3,
   "metadata": {
    "ExecuteTime": {
     "end_time": "2019-04-18T08:06:20.543126Z",
     "start_time": "2019-04-18T08:06:20.530202Z"
    }
   },
   "outputs": [
    {
     "name": "stdout",
     "output_type": "stream",
     "text": [
      "♮ data/synonyms/ja-Common.txt\n",
      "laugh  笑い 一笑 おかしいこと\n",
      "smile  笑い\n",
      "smilingface  笑顔\n"
     ]
    }
   ],
   "source": [
    "import glob\n",
    "\n",
    "def proc_data_files(glob_filter):\n",
    "    ## basics: katakana.txt hiragana.txt\n",
    "    # files=[\"ja-Basics.txt\", \"ja-Food.txt\", \"ja-Colors.txt\", \n",
    "        # \"ja-Places.txt\", \"ja-Politics.txt\"]\n",
    "    files=glob.glob(glob_filter)\n",
    "    result=join_all_files(files)\n",
    "    return result\n",
    "    \n",
    "def proc_japanese():\n",
    "    ## basics: katakana.txt hiragana.txt\n",
    "    # files=[\"ja-Basics.txt\", \"ja-Food.txt\", \"ja-Colors.txt\", \n",
    "        # \"ja-Places.txt\", \"ja-Politics.txt\"]\n",
    "    result=proc_data_files('data/synonyms/ja-*.txt')\n",
    "    print('\\n'.join(result))\n",
    "\n",
    "proc_japanese()"
   ]
  },
  {
   "cell_type": "code",
   "execution_count": 5,
   "metadata": {
    "ExecuteTime": {
     "end_time": "2019-04-18T08:13:34.292574Z",
     "start_time": "2019-04-18T08:13:34.283645Z"
    }
   },
   "outputs": [
    {
     "name": "stdout",
     "output_type": "stream",
     "text": [
      "♮ data/synonyms/cn-Common.txt\n",
      "edit  编辑 修改 改\n",
      "view  查看 看看\n",
      "list  列出 浏览\n",
      "add  增加 添加 新增\n",
      "create  创建 新建\n",
      "delete  删除\n",
      "remove 删除\n",
      "delete 删除\n",
      "create 创建\n",
      "add 创建\n"
     ]
    }
   ],
   "source": [
    "def proc_chinese():\n",
    "    result=proc_data_files('data/synonyms/cn-*.txt')\n",
    "    print('\\n'.join(result))\n",
    "\n",
    "proc_chinese()"
   ]
  },
  {
   "cell_type": "code",
   "execution_count": 9,
   "metadata": {
    "ExecuteTime": {
     "end_time": "2019-04-18T20:14:29.834406Z",
     "start_time": "2019-04-18T20:14:29.829407Z"
    }
   },
   "outputs": [
    {
     "name": "stdout",
     "output_type": "stream",
     "text": [
      "{'John', 'Jack', 'Janice', 'Jane'}\n"
     ]
    }
   ],
   "source": [
    "engineers = set(['John', 'Jane', 'Jack', 'Jack', 'Janice'])\n",
    "print(engineers)"
   ]
  },
  {
   "cell_type": "code",
   "execution_count": 18,
   "metadata": {
    "ExecuteTime": {
     "end_time": "2019-04-18T20:27:29.584988Z",
     "start_time": "2019-04-18T20:27:29.539789Z"
    }
   },
   "outputs": [
    {
     "name": "stdout",
     "output_type": "stream",
     "text": [
      "♮ data/synonyms/cn-Common.txt\n",
      "actions ...\n",
      "edit {'编辑', '修改', '改'}\n",
      "view {'查看', '看看'}\n",
      "list {'浏览', '列出'}\n",
      "add {'创建', '增加', '添加', '新增'}\n",
      "create {'创建', '新建'}\n",
      "delete {'删除'}\n",
      "remove {'删除'}\n",
      "words ...\n",
      "编辑 {'edit'}\n",
      "修改 {'edit'}\n",
      "改 {'edit'}\n",
      "查看 {'view'}\n",
      "看看 {'view'}\n",
      "列出 {'list'}\n",
      "浏览 {'list'}\n",
      "增加 {'add'}\n",
      "添加 {'add'}\n",
      "新增 {'add'}\n",
      "创建 {'create', 'add'}\n",
      "新建 {'create'}\n",
      "删除 {'remove', 'delete'}\n"
     ]
    }
   ],
   "source": [
    "import re\n",
    "action_index={}\n",
    "word_index={}\n",
    "result=proc_data_files('data/synonyms/cn-*.txt')\n",
    "for line in result:\n",
    "    # words=line.split(' ')\n",
    "    words=re.split(\"[ \\t]+\", line)\n",
    "    key=words[0]\n",
    "    if key in action_index:\n",
    "        # Update the set, adding elements from all others.\n",
    "        action_index[key].update(words[1:])\n",
    "    else:\n",
    "        action_index[key]=set(words[1:])\n",
    "    for val in words[1:]:\n",
    "        if val in word_index:\n",
    "            word_index[val].add(key)\n",
    "        else:\n",
    "            word_index[val]=set([key])\n",
    "\n",
    "print('actions ...')\n",
    "for k,v in action_index.items():\n",
    "    print(k,v)\n",
    "print('words ...')\n",
    "for k,v in word_index.items():\n",
    "    print(k,v)"
   ]
  },
  {
   "cell_type": "code",
   "execution_count": 21,
   "metadata": {
    "ExecuteTime": {
     "end_time": "2019-04-18T21:07:35.146932Z",
     "start_time": "2019-04-18T21:07:35.138851Z"
    }
   },
   "outputs": [
    {
     "data": {
      "text/plain": [
       "'edit agreement item'"
      ]
     },
     "execution_count": 21,
     "metadata": {},
     "output_type": "execute_result"
    }
   ],
   "source": [
    "def convert_form_name(form_name):\n",
    "    \"\"\"\n",
    "    Usage: convert_form_name('EditAgreementItem')\n",
    "    :param form_name:\n",
    "    :return: like 'Edit Agreement Item'\n",
    "    \"\"\"\n",
    "    from sagas.util.str_converters import to_camel_case, to_snake_case, to_words\n",
    "    return to_words(to_snake_case(form_name), True).lower()\n",
    "\n",
    "convert_form_name('EditAgreementItem')"
   ]
  }
 ],
 "metadata": {
  "kernelspec": {
   "display_name": "Python 3",
   "language": "python",
   "name": "python3"
  },
  "language_info": {
   "codemirror_mode": {
    "name": "ipython",
    "version": 3
   },
   "file_extension": ".py",
   "mimetype": "text/x-python",
   "name": "python",
   "nbconvert_exporter": "python",
   "pygments_lexer": "ipython3",
   "version": "3.6.4"
  },
  "varInspector": {
   "cols": {
    "lenName": 16,
    "lenType": 16,
    "lenVar": 40
   },
   "kernels_config": {
    "python": {
     "delete_cmd_postfix": "",
     "delete_cmd_prefix": "del ",
     "library": "var_list.py",
     "varRefreshCmd": "print(var_dic_list())"
    },
    "r": {
     "delete_cmd_postfix": ") ",
     "delete_cmd_prefix": "rm(",
     "library": "var_list.r",
     "varRefreshCmd": "cat(var_dic_list()) "
    }
   },
   "types_to_exclude": [
    "module",
    "function",
    "builtin_function_or_method",
    "instance",
    "_Feature"
   ],
   "window_display": false
  }
 },
 "nbformat": 4,
 "nbformat_minor": 2
}
