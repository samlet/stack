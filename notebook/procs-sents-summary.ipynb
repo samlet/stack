{
 "cells": [
  {
   "cell_type": "code",
   "execution_count": 6,
   "metadata": {
    "ExecuteTime": {
     "end_time": "2019-11-17T21:57:19.882327Z",
     "start_time": "2019-11-17T21:57:19.694986Z"
    }
   },
   "outputs": [
    {
     "name": "stdout",
     "output_type": "stream",
     "text": [
      ".. request is {'lang': 'fi', 'sents': 'Tuolla ylhäällä asuu vanha nainen.', 'engine': 'corenlp', 'pipelines': ['predicts']}\n",
      "0. verb_domains -> asuu\n",
      "\u001b[35m[verb_domains](asuu) lives\u001b[0m\n",
      "\u001b[36m\t[advmod](Tuolla ylhäällä) up there\u001b[0m\n",
      "\u001b[36m\t[nsubj](vanha nainen .) old woman .\u001b[0m\n"
     ]
    }
   ],
   "source": [
    "from sagas.nlu.uni_remote import dep_parse\n",
    "from sagas.nlu.uni_remote_viz import list_contrast\n",
    "from sagas.conf.conf import cf\n",
    "from sagas.nlu.utils import fix_sents\n",
    "from sagas.nlu.corenlp_parser import get_chunks\n",
    "\n",
    "def sents_summary(sents, source):\n",
    "    sents=fix_sents(sents, source)\n",
    "    engine=cf.engine(source)\n",
    "    doc_jsonify, resp = dep_parse(sents, source, engine, ['predicts'])\n",
    "    if doc_jsonify is None:\n",
    "        raise Exception(f'Cannot parse sentence for lang {source}')\n",
    "    if len(resp['predicts']) > 0:\n",
    "        rs=resp['predicts']\n",
    "    else:\n",
    "        rs = get_chunks(doc_jsonify)\n",
    "\n",
    "    for serial, r in enumerate(rs):\n",
    "        print(f\"{serial}. {r['type']} -> {r['word']}\")\n",
    "    list_contrast(rs, source)\n",
    "\n",
    "# en=\"Up there lives an old woman.\"\n",
    "sents_summary('Tuolla ylhäällä asuu vanha nainen.', 'fi')"
   ]
  }
 ],
 "metadata": {
  "kernelspec": {
   "display_name": "Python 3",
   "language": "python",
   "name": "python3"
  },
  "language_info": {
   "codemirror_mode": {
    "name": "ipython",
    "version": 3
   },
   "file_extension": ".py",
   "mimetype": "text/x-python",
   "name": "python",
   "nbconvert_exporter": "python",
   "pygments_lexer": "ipython3",
   "version": "3.6.4"
  },
  "varInspector": {
   "cols": {
    "lenName": 16,
    "lenType": 16,
    "lenVar": 40
   },
   "kernels_config": {
    "python": {
     "delete_cmd_postfix": "",
     "delete_cmd_prefix": "del ",
     "library": "var_list.py",
     "varRefreshCmd": "print(var_dic_list())"
    },
    "r": {
     "delete_cmd_postfix": ") ",
     "delete_cmd_prefix": "rm(",
     "library": "var_list.r",
     "varRefreshCmd": "cat(var_dic_list()) "
    }
   },
   "types_to_exclude": [
    "module",
    "function",
    "builtin_function_or_method",
    "instance",
    "_Feature"
   ],
   "window_display": false
  }
 },
 "nbformat": 4,
 "nbformat_minor": 2
}
