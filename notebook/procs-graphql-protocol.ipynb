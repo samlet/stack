{
 "cells": [
  {
   "cell_type": "code",
   "execution_count": 15,
   "metadata": {
    "ExecuteTime": {
     "end_time": "2019-01-08T06:57:42.864569Z",
     "start_time": "2019-01-08T06:57:42.793508Z"
    },
    "scrolled": true
   },
   "outputs": [
    {
     "name": "stdout",
     "output_type": "stream",
     "text": [
      "<Document: definitions=[<Query: selections=[<Field: name=user, arguments=[<Argument: name=id, value=4>], selections=[<Field: name=id>, <Field: name=name>, <Field: name=profilePic>, <Field: name=profilePic, alias=avatar, arguments=[<Argument: name=width, value=30>, <Argument: name=height, value=30>]>]>]>]>\n",
      "#0 object(Document) (1)\n",
      "    definitions => list(1) \n",
      "        [0] => object(Query) (4)\n",
      "            selections => list(1) \n",
      "                [0] => object(Field) (5)\n",
      "                    name => str(4) \"user\"\n",
      "                    alias => NoneType(None) \n",
      "                    arguments => list(1) \n",
      "                        [0] => object(Argument) (2)\n",
      "                            name => str(2) \"id\"\n",
      "                            value => int(4) \n",
      "                    directives => list(0) \n",
      "                    selections => list(4) \n",
      "                        [0] => object(Field) (5)\n",
      "                            name => str(2) \"id\"\n",
      "                            alias => NoneType(None) \n",
      "                            arguments => list(0) \n",
      "                            directives => list(0) \n",
      "                            selections => list(0) \n",
      "                        [1] => object(Field) (5)\n",
      "                            name => str(4) \"name\"\n",
      "                            alias => NoneType(None) \n",
      "                            arguments => list(0) \n",
      "                            directives => list(0) \n",
      "                            selections => list(0) \n",
      "                        [2] => object(Field) (5)\n",
      "                            name => str(10) \"profilePic\"\n",
      "                            alias => NoneType(None) \n",
      "                            arguments => list(0) \n",
      "                            directives => list(0) \n",
      "                            selections => list(0) \n",
      "                        [3] => object(Field) (5)\n",
      "                            name => str(10) \"profilePic\"\n",
      "                            alias => str(6) \"avatar\"\n",
      "                            arguments => list(2) \n",
      "                                [0] => object(Argument) (2)\n",
      "                                    name => str(5) \"width\"\n",
      "                                    value => int(30) \n",
      "                                [1] => object(Argument) (2)\n",
      "                                    name => str(6) \"height\"\n",
      "                                    value => int(30) \n",
      "                            directives => list(0) \n",
      "                            selections => list(0) \n",
      "            name => NoneType(None) \n",
      "            variable_definitions => list(0) \n",
      "            directives => list(0) \n"
     ]
    }
   ],
   "source": [
    "from graphql.parser import GraphQLParser\n",
    "import pprint\n",
    "from var_dump import var_dump\n",
    "\n",
    "parser = GraphQLParser()\n",
    "ast = parser.parse(\"\"\"\n",
    "{\n",
    "  user(id: 4) {\n",
    "    id\n",
    "    name\n",
    "    profilePic\n",
    "    avatar: profilePic(width: 30, height: 30)\n",
    "  }\n",
    "}\n",
    "\"\"\")\n",
    "\n",
    "# pp = pprint.PrettyPrinter(indent=4)\n",
    "# pp.pprint(ast)\n",
    "print(ast)\n",
    "var_dump(ast)"
   ]
  },
  {
   "cell_type": "code",
   "execution_count": 18,
   "metadata": {
    "ExecuteTime": {
     "end_time": "2019-01-08T07:10:16.124711Z",
     "start_time": "2019-01-08T07:10:16.119888Z"
    }
   },
   "outputs": [],
   "source": [
    "def print_tree(q):\n",
    "    from graphql.parser import GraphQLParser\n",
    "    parser = GraphQLParser()\n",
    "    ast = parser.parse(q)\n",
    "    var_dump(ast)"
   ]
  },
  {
   "cell_type": "code",
   "execution_count": 16,
   "metadata": {
    "ExecuteTime": {
     "end_time": "2019-01-08T07:00:27.875608Z",
     "start_time": "2019-01-08T07:00:27.855109Z"
    }
   },
   "outputs": [
    {
     "name": "stdout",
     "output_type": "stream",
     "text": [
      "#0 object(Document) (1)\n",
      "    definitions => list(1) \n",
      "        [0] => object(Query) (4)\n",
      "            selections => list(1) \n",
      "                [0] => object(Field) (5)\n",
      "                    name => str(2) \"me\"\n",
      "                    alias => NoneType(None) \n",
      "                    arguments => list(0) \n",
      "                    directives => list(0) \n",
      "                    selections => list(1) \n",
      "                        [0] => object(Field) (5)\n",
      "                            name => str(4) \"name\"\n",
      "                            alias => NoneType(None) \n",
      "                            arguments => list(0) \n",
      "                            directives => list(0) \n",
      "                            selections => list(0) \n",
      "            name => NoneType(None) \n",
      "            variable_definitions => list(0) \n",
      "            directives => list(0) \n",
      "[<Query: selections=[<Field: name=me, selections=[<Field: name=name>]>]>]\n",
      "[<Field: name=me, selections=[<Field: name=name>]>]\n",
      "<Field: name=me, selections=[<Field: name=name>]>\n"
     ]
    }
   ],
   "source": [
    "from unittest import TestCase\n",
    "\n",
    "from graphql.ast import Document, Query, Field, Argument, FragmentDefinition, \\\n",
    "    FragmentSpread, NamedType, Variable, VariableDefinition\n",
    "from graphql.parser import GraphQLParser\n",
    "\n",
    "doc=parser.parse(\"\"\"\n",
    "{ me { name } }\n",
    "\"\"\")\n",
    "var_dump(doc)\n",
    "print(doc.definitions)\n",
    "print(doc.definitions[0].selections)\n",
    "for fld in doc.definitions[0].selections:\n",
    "    print(fld)"
   ]
  },
  {
   "cell_type": "code",
   "execution_count": 19,
   "metadata": {
    "ExecuteTime": {
     "end_time": "2019-01-08T07:10:47.295174Z",
     "start_time": "2019-01-08T07:10:47.226933Z"
    }
   },
   "outputs": [
    {
     "name": "stdout",
     "output_type": "stream",
     "text": [
      "#0 object(Document) (1)\n",
      "    definitions => list(1) \n",
      "        [0] => object(Query) (4)\n",
      "            selections => list(1) \n",
      "                [0] => object(Field) (5)\n",
      "                    name => str(6) \"author\"\n",
      "                    alias => NoneType(None) \n",
      "                    arguments => list(1) \n",
      "                        [0] => object(Argument) (2)\n",
      "                            name => str(2) \"id\"\n",
      "                            value => object(Variable) (1)\n",
      "                                name => str(2) \"id\"\n",
      "                    directives => list(0) \n",
      "                    selections => list(4) \n",
      "                        [0] => object(Field) (5)\n",
      "                            name => str(2) \"id\"\n",
      "                            alias => NoneType(None) \n",
      "                            arguments => list(0) \n",
      "                            directives => list(0) \n",
      "                            selections => list(0) \n",
      "                        [1] => object(Field) (5)\n",
      "                            name => str(9) \"firstName\"\n",
      "                            alias => NoneType(None) \n",
      "                            arguments => list(0) \n",
      "                            directives => list(0) \n",
      "                            selections => list(0) \n",
      "                        [2] => object(Field) (5)\n",
      "                            name => str(8) \"lastName\"\n",
      "                            alias => NoneType(None) \n",
      "                            arguments => list(0) \n",
      "                            directives => list(0) \n",
      "                            selections => list(0) \n",
      "                        [3] => object(Field) (5)\n",
      "                            name => str(5) \"posts\"\n",
      "                            alias => NoneType(None) \n",
      "                            arguments => list(0) \n",
      "                            directives => list(0) \n",
      "                            selections => list(1) \n",
      "                                [0] => object(Field) (5)\n",
      "                                    name => str(5) \"title\"\n",
      "                                    alias => NoneType(None) \n",
      "                                    arguments => list(0) \n",
      "                                    directives => list(0) \n",
      "                                    selections => list(0) \n",
      "            name => str(10) \"findAuthor\"\n",
      "            variable_definitions => list(1) \n",
      "                [0] => object(VariableDefinition) (3)\n",
      "                    name => str(2) \"id\"\n",
      "                    type => object(NonNullType) (1)\n",
      "                        type => object(NamedType) (1)\n",
      "                            name => str(3) \"Int\"\n",
      "                    default_value => NoneType(None) \n",
      "            directives => list(0) \n"
     ]
    }
   ],
   "source": [
    "print_tree('''query findAuthor($id: Int!) {\n",
    "  author(id: $id) {\n",
    "    id\n",
    "    firstName\n",
    "    lastName\n",
    "    posts {\n",
    "      title\n",
    "    }\n",
    "  }\n",
    "}\n",
    "''')"
   ]
  },
  {
   "cell_type": "code",
   "execution_count": 20,
   "metadata": {
    "ExecuteTime": {
     "end_time": "2019-01-08T07:14:15.127144Z",
     "start_time": "2019-01-08T07:14:15.054255Z"
    },
    "scrolled": true
   },
   "outputs": [
    {
     "name": "stdout",
     "output_type": "stream",
     "text": [
      "#0 object(Document) (1)\n",
      "    definitions => list(1) \n",
      "        [0] => object(Query) (4)\n",
      "            selections => list(1) \n",
      "                [0] => object(Field) (5)\n",
      "                    name => str(6) \"author\"\n",
      "                    alias => NoneType(None) \n",
      "                    arguments => list(1) \n",
      "                        [0] => object(Argument) (2)\n",
      "                            name => str(2) \"id\"\n",
      "                            value => object(Variable) (1)\n",
      "                                name => str(2) \"id\"\n",
      "                    directives => list(0) \n",
      "                    selections => list(4) \n",
      "                        [0] => object(Field) (5)\n",
      "                            name => str(2) \"id\"\n",
      "                            alias => NoneType(None) \n",
      "                            arguments => list(0) \n",
      "                            directives => list(0) \n",
      "                            selections => list(0) \n",
      "                        [1] => object(Field) (5)\n",
      "                            name => str(9) \"firstName\"\n",
      "                            alias => NoneType(None) \n",
      "                            arguments => list(0) \n",
      "                            directives => list(0) \n",
      "                            selections => list(0) \n",
      "                        [2] => object(Field) (5)\n",
      "                            name => str(8) \"lastName\"\n",
      "                            alias => NoneType(None) \n",
      "                            arguments => list(0) \n",
      "                            directives => list(0) \n",
      "                            selections => list(0) \n",
      "                        [3] => object(Field) (5)\n",
      "                            name => str(5) \"posts\"\n",
      "                            alias => NoneType(None) \n",
      "                            arguments => list(0) \n",
      "                            directives => list(1) \n",
      "                                [0] => object(Directive) (2)\n",
      "                                    name => str(7) \"include\"\n",
      "                                    arguments => list(1) \n",
      "                                        [0] => object(Argument) (2)\n",
      "                                            name => str(2) \"if\"\n",
      "                                            value => object(Variable) (1)\n",
      "                                                name => str(9) \"withPosts\"\n",
      "                            selections => list(1) \n",
      "                                [0] => object(Field) (5)\n",
      "                                    name => str(5) \"title\"\n",
      "                                    alias => NoneType(None) \n",
      "                                    arguments => list(0) \n",
      "                                    directives => list(0) \n",
      "                                    selections => list(0) \n",
      "            name => str(10) \"findAuthor\"\n",
      "            variable_definitions => list(2) \n",
      "                [0] => object(VariableDefinition) (3)\n",
      "                    name => str(2) \"id\"\n",
      "                    type => object(NamedType) (1)\n",
      "                        name => str(3) \"Int\"\n",
      "                    default_value => int(1) \n",
      "                [1] => object(VariableDefinition) (3)\n",
      "                    name => str(9) \"withPosts\"\n",
      "                    type => object(NonNullType) (1)\n",
      "                        type => object(NamedType) (1)\n",
      "                            name => str(7) \"Boolean\"\n",
      "                    default_value => NoneType(None) \n",
      "            directives => list(0) \n"
     ]
    }
   ],
   "source": [
    "print_tree('''query findAuthor($id: Int = 1, $withPosts: Boolean!) {\n",
    "  author(id: $id) {\n",
    "    id\n",
    "    firstName\n",
    "    lastName\n",
    "    posts @include(if: $withPosts) {\n",
    "      title\n",
    "    }\n",
    "  }\n",
    "}\n",
    "''')"
   ]
  },
  {
   "cell_type": "code",
   "execution_count": 21,
   "metadata": {
    "ExecuteTime": {
     "end_time": "2019-01-08T07:24:07.118168Z",
     "start_time": "2019-01-08T07:24:07.053310Z"
    },
    "scrolled": true
   },
   "outputs": [
    {
     "name": "stdout",
     "output_type": "stream",
     "text": [
      "#0 object(Document) (1)\n",
      "    definitions => list(1) \n",
      "        [0] => object(Mutation) (4)\n",
      "            selections => list(1) \n",
      "                [0] => object(Field) (5)\n",
      "                    name => str(10) \"upvotePost\"\n",
      "                    alias => NoneType(None) \n",
      "                    arguments => list(1) \n",
      "                        [0] => object(Argument) (2)\n",
      "                            name => str(6) \"postId\"\n",
      "                            value => object(Variable) (1)\n",
      "                                name => str(2) \"id\"\n",
      "                    directives => list(0) \n",
      "                    selections => list(3) \n",
      "                        [0] => object(Field) (5)\n",
      "                            name => str(2) \"id\"\n",
      "                            alias => NoneType(None) \n",
      "                            arguments => list(0) \n",
      "                            directives => list(0) \n",
      "                            selections => list(0) \n",
      "                        [1] => object(Field) (5)\n",
      "                            name => str(5) \"title\"\n",
      "                            alias => NoneType(None) \n",
      "                            arguments => list(0) \n",
      "                            directives => list(0) \n",
      "                            selections => list(0) \n",
      "                        [2] => object(Field) (5)\n",
      "                            name => str(5) \"votes\"\n",
      "                            alias => NoneType(None) \n",
      "                            arguments => list(0) \n",
      "                            directives => list(0) \n",
      "                            selections => list(0) \n",
      "            name => str(6) \"upPost\"\n",
      "            variable_definitions => list(1) \n",
      "                [0] => object(VariableDefinition) (3)\n",
      "                    name => str(2) \"id\"\n",
      "                    type => object(NonNullType) (1)\n",
      "                        type => object(NamedType) (1)\n",
      "                            name => str(3) \"Int\"\n",
      "                    default_value => NoneType(None) \n",
      "            directives => list(0) \n"
     ]
    }
   ],
   "source": [
    "print_tree('''mutation upPost($id: Int!) {\n",
    "  upvotePost(postId: $id) {\n",
    "    id\n",
    "    title\n",
    "    votes\n",
    "  }\n",
    "}\n",
    "''')"
   ]
  }
 ],
 "metadata": {
  "kernelspec": {
   "display_name": "Python 3",
   "language": "python",
   "name": "python3"
  },
  "language_info": {
   "codemirror_mode": {
    "name": "ipython",
    "version": 3
   },
   "file_extension": ".py",
   "mimetype": "text/x-python",
   "name": "python",
   "nbconvert_exporter": "python",
   "pygments_lexer": "ipython3",
   "version": "3.6.4"
  },
  "varInspector": {
   "cols": {
    "lenName": 16,
    "lenType": 16,
    "lenVar": 40
   },
   "kernels_config": {
    "python": {
     "delete_cmd_postfix": "",
     "delete_cmd_prefix": "del ",
     "library": "var_list.py",
     "varRefreshCmd": "print(var_dic_list())"
    },
    "r": {
     "delete_cmd_postfix": ") ",
     "delete_cmd_prefix": "rm(",
     "library": "var_list.r",
     "varRefreshCmd": "cat(var_dic_list()) "
    }
   },
   "types_to_exclude": [
    "module",
    "function",
    "builtin_function_or_method",
    "instance",
    "_Feature"
   ],
   "window_display": false
  }
 },
 "nbformat": 4,
 "nbformat_minor": 2
}
