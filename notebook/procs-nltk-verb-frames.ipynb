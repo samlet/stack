{
 "cells": [
  {
   "cell_type": "code",
   "execution_count": 1,
   "metadata": {
    "ExecuteTime": {
     "end_time": "2019-08-02T06:12:11.998145Z",
     "start_time": "2019-08-02T06:12:09.331316Z"
    }
   },
   "outputs": [
    {
     "data": {
      "text/plain": [
       "[5, 9]"
      ]
     },
     "execution_count": 1,
     "metadata": {},
     "output_type": "execute_result"
    }
   ],
   "source": [
    "from nltk.corpus import wordnet as wn\n",
    "wn.synset('think.v.01').frame_ids()"
   ]
  },
  {
   "cell_type": "code",
   "execution_count": 3,
   "metadata": {
    "ExecuteTime": {
     "end_time": "2019-08-02T06:12:47.610596Z",
     "start_time": "2019-08-02T06:12:47.598814Z"
    }
   },
   "outputs": [
    {
     "name": "stdout",
     "output_type": "stream",
     "text": [
      "Lemma('think.v.01.think') [5, 9]\n",
      "Something think something Adjective/Noun | Somebody think somebody\n",
      "Lemma('think.v.01.believe') [5, 9]\n",
      "Something believe something Adjective/Noun | Somebody believe somebody\n",
      "Lemma('think.v.01.consider') [5, 9]\n",
      "Something consider something Adjective/Noun | Somebody consider somebody\n",
      "Lemma('think.v.01.conceive') [5, 9]\n",
      "Something conceive something Adjective/Noun | Somebody conceive somebody\n"
     ]
    }
   ],
   "source": [
    "for lemma in wn.synset('think.v.01').lemmas():\n",
    "    print(lemma, lemma.frame_ids())\n",
    "    print(\" | \".join(lemma.frame_strings()))"
   ]
  },
  {
   "cell_type": "code",
   "execution_count": 4,
   "metadata": {
    "ExecuteTime": {
     "end_time": "2019-08-02T06:13:21.048638Z",
     "start_time": "2019-08-02T06:13:21.041915Z"
    }
   },
   "outputs": [
    {
     "data": {
      "text/plain": [
       "[8]"
      ]
     },
     "execution_count": 4,
     "metadata": {},
     "output_type": "execute_result"
    }
   ],
   "source": [
    "wn.synset('stretch.v.02').frame_ids()"
   ]
  },
  {
   "cell_type": "code",
   "execution_count": 5,
   "metadata": {
    "ExecuteTime": {
     "end_time": "2019-08-02T06:13:32.703713Z",
     "start_time": "2019-08-02T06:13:32.693428Z"
    }
   },
   "outputs": [
    {
     "name": "stdout",
     "output_type": "stream",
     "text": [
      "Lemma('stretch.v.02.stretch') [8, 2]\n",
      "Somebody stretch something | Somebody stretch\n",
      "Lemma('stretch.v.02.extend') [8]\n",
      "Somebody extend something\n"
     ]
    }
   ],
   "source": [
    "for lemma in wn.synset('stretch.v.02').lemmas():\n",
    "    print(lemma, lemma.frame_ids())\n",
    "    print(\" | \".join(lemma.frame_strings()))"
   ]
  },
  {
   "cell_type": "code",
   "execution_count": 21,
   "metadata": {
    "ExecuteTime": {
     "end_time": "2019-08-02T06:34:22.862730Z",
     "start_time": "2019-08-02T06:34:22.256842Z"
    }
   },
   "outputs": [
    {
     "name": "stdout",
     "output_type": "stream",
     "text": [
      "[Synset('dog.n.01'), Synset('spy.n.01')]\n"
     ]
    }
   ],
   "source": [
    "print(wn.synsets('犬', lang='jpn'))"
   ]
  },
  {
   "cell_type": "code",
   "execution_count": 39,
   "metadata": {
    "ExecuteTime": {
     "end_time": "2019-08-02T08:43:23.386265Z",
     "start_time": "2019-08-02T08:43:23.255611Z"
    }
   },
   "outputs": [
    {
     "name": "stdout",
     "output_type": "stream",
     "text": [
      "[Synset('dog.n.01')]\n"
     ]
    }
   ],
   "source": [
    "print(wn.synsets('hund', lang='dan'))"
   ]
  },
  {
   "cell_type": "code",
   "execution_count": 44,
   "metadata": {
    "ExecuteTime": {
     "end_time": "2019-08-02T08:53:31.500673Z",
     "start_time": "2019-08-02T08:53:31.488863Z"
    }
   },
   "outputs": [
    {
     "name": "stdout",
     "output_type": "stream",
     "text": [
      "[Synset('green.n.01'), Synset('green.n.04')]\n",
      "[]\n",
      "[]\n",
      "[Synset('beer.n.01')]\n"
     ]
    }
   ],
   "source": [
    "words=['grøn', 'hvid', 'blå', 'øl']\n",
    "for word in words:\n",
    "    print(wn.synsets(word, lang='dan'))"
   ]
  },
  {
   "cell_type": "code",
   "execution_count": 45,
   "metadata": {
    "ExecuteTime": {
     "end_time": "2019-08-02T08:53:39.407327Z",
     "start_time": "2019-08-02T08:53:39.382394Z"
    }
   },
   "outputs": [
    {
     "name": "stdout",
     "output_type": "stream",
     "text": [
      "[Synset('red.n.01'), Synset('red.n.02'), Synset('bolshevik.n.01'), Synset('loss.n.06'), Synset('red.s.01'), Synset('crimson.s.02'), Synset('crimson.s.03')]\n",
      "[Synset('green.n.01'), Synset('park.n.02'), Synset('green.n.03'), Synset('green.n.04'), Synset('green.n.05'), Synset('green.n.06'), Synset('greens.n.01'), Synset('k.n.07'), Synset('green.v.01'), Synset('green.s.01'), Synset('green.a.02'), Synset('green.a.03'), Synset('green.s.04'), Synset('fleeceable.s.01')]\n",
      "[Synset('blue.n.01'), Synset('blue.n.02'), Synset('blue.n.03'), Synset('blue_sky.n.01'), Synset('bluing.n.01'), Synset('amobarbital_sodium.n.01'), Synset('blue.n.07'), Synset('blue.v.01'), Synset('blue.s.01'), Synset('blue.s.02'), Synset('gloomy.s.02'), Synset('blasphemous.s.02'), Synset('blue.s.05'), Synset('aristocratic.s.01'), Synset('blue.s.07'), Synset('blue.s.08')]\n",
      "[Synset('beer.n.01')]\n"
     ]
    }
   ],
   "source": [
    "words=['red', 'green', 'blue', 'beer']\n",
    "for word in words:\n",
    "    print(wn.synsets(word, lang='eng'))"
   ]
  },
  {
   "cell_type": "code",
   "execution_count": 81,
   "metadata": {
    "ExecuteTime": {
     "end_time": "2019-08-02T15:52:59.084712Z",
     "start_time": "2019-08-02T15:52:59.059219Z"
    }
   },
   "outputs": [
    {
     "name": "stdout",
     "output_type": "stream",
     "text": [
      "['commodity', 'trade_good', 'good']\n",
      "['artifact', 'artefact']\n",
      "['whole', 'unit']\n",
      "['object', 'physical_object']\n",
      "['physical_entity']\n",
      "['entity']\n"
     ]
    }
   ],
   "source": [
    "cla='merchandise.n.01'\n",
    "c=wn.synset(cla)\n",
    "for c_c in list(c.closure(hyper)):\n",
    "    print(c_c.lemma_names('eng'))"
   ]
  },
  {
   "cell_type": "code",
   "execution_count": 88,
   "metadata": {
    "ExecuteTime": {
     "end_time": "2019-08-03T06:22:13.755881Z",
     "start_time": "2019-08-03T06:22:13.749555Z"
    }
   },
   "outputs": [
    {
     "data": {
      "text/plain": [
       "'red.n.01'"
      ]
     },
     "execution_count": 88,
     "metadata": {},
     "output_type": "execute_result"
    }
   ],
   "source": [
    "c=wn.synset('red.n.01')\n",
    "c.name()"
   ]
  },
  {
   "cell_type": "code",
   "execution_count": 67,
   "metadata": {
    "ExecuteTime": {
     "end_time": "2019-08-02T14:58:13.860818Z",
     "start_time": "2019-08-02T14:58:13.765222Z"
    }
   },
   "outputs": [
    {
     "name": "stdout",
     "output_type": "stream",
     "text": [
      "['有彩色']\n",
      "['カラー', '彩り', '色', '色合', '色合い', '色彩', '色相', '色調']\n",
      "[]\n",
      "['性質', '特性', '特質']\n",
      "['アトリビュート', '属性']\n",
      "['抽象的実体']\n",
      "['実体']\n"
     ]
    }
   ],
   "source": [
    "c=wn.synset('red.n.01')\n",
    "for c_c in list(c.closure(hyper)):\n",
    "    print(c_c.lemma_names('jpn'))"
   ]
  },
  {
   "cell_type": "code",
   "execution_count": 68,
   "metadata": {
    "ExecuteTime": {
     "end_time": "2019-08-02T14:58:29.636257Z",
     "start_time": "2019-08-02T14:58:29.616821Z"
    }
   },
   "outputs": [
    {
     "name": "stdout",
     "output_type": "stream",
     "text": [
      "[]\n",
      "['couleur', 'teinte']\n",
      "[]\n",
      "['propriété']\n",
      "['attribut']\n",
      "['abstraction']\n",
      "['entité']\n"
     ]
    }
   ],
   "source": [
    "c=wn.synset('red.n.01')\n",
    "for c_c in list(c.closure(hyper)):\n",
    "    print(c_c.lemma_names('fra'))"
   ]
  },
  {
   "cell_type": "code",
   "execution_count": 99,
   "metadata": {
    "ExecuteTime": {
     "end_time": "2019-08-04T14:41:49.701468Z",
     "start_time": "2019-08-04T14:41:49.689701Z"
    }
   },
   "outputs": [
    {
     "name": "stdout",
     "output_type": "stream",
     "text": [
      "chromatic_color.n.01 ['chromatic_color', 'chromatic_colour', 'spectral_color', 'spectral_colour'] []\n",
      "color.n.01 ['color', 'colour', 'coloring', 'colouring'] []\n",
      "visual_property.n.01 ['visual_property'] []\n",
      "property.n.02 ['property'] []\n",
      "attribute.n.02 ['attribute'] []\n",
      "abstraction.n.06 ['abstraction', 'abstract_entity'] ['抽象化', '抽象派作品']\n",
      "entity.n.01 ['entity'] ['实体', '实存物']\n"
     ]
    }
   ],
   "source": [
    "c=wn.synset('red.n.01')\n",
    "for c_c in list(c.closure(hyper)):\n",
    "    print(c_c.name(), c_c.lemma_names('eng'), c_c.lemma_names('cmn'))"
   ]
  },
  {
   "cell_type": "code",
   "execution_count": 106,
   "metadata": {
    "ExecuteTime": {
     "end_time": "2019-08-04T16:32:08.036536Z",
     "start_time": "2019-08-04T16:32:07.976661Z"
    }
   },
   "outputs": [
    {
     "name": "stdout",
     "output_type": "stream",
     "text": [
      "dog.n.01 ['dog', 'domestic_dog', 'Canis_familiaris'] ['犬', '狗']\n",
      "canine.n.02 ['canine', 'canid'] ['犬科动物']\n",
      "domestic_animal.n.01 ['domestic_animal', 'domesticated_animal'] []\n",
      "carnivore.n.01 ['carnivore'] ['食肉动物']\n",
      "animal.n.01 ['animal', 'animate_being', 'beast', 'brute', 'creature', 'fauna'] ['凶残的人', '动物', '动物群', '生物', '畜生', '野兽']\n",
      "placental.n.01 ['placental', 'placental_mammal', 'eutherian', 'eutherian_mammal'] []\n",
      "organism.n.01 ['organism', 'being'] ['有机体', '生物']\n",
      "mammal.n.01 ['mammal', 'mammalian'] []\n",
      "living_thing.n.01 ['living_thing', 'animate_thing'] ['生物']\n",
      "vertebrate.n.01 ['vertebrate', 'craniate'] []\n",
      "whole.n.02 ['whole', 'unit'] ['单位', '部件']\n",
      "chordate.n.01 ['chordate'] []\n",
      "object.n.01 ['object', 'physical_object'] ['客体', '对象', '物体', '目标']\n",
      "physical_entity.n.01 ['physical_entity'] []\n",
      "entity.n.01 ['entity'] ['实体', '实存物']\n",
      "['dog', 'domestic_dog', 'Canis_familiaris', '犬', '狗', 'canine', 'canid', '犬科动物', 'domestic_animal', 'domesticated_animal', 'carnivore', '食肉动物', 'animal', 'animate_being', 'beast', 'brute', 'creature', 'fauna', '凶残的人', '动物', '动物群', '生物', '畜生', '野兽', 'placental', 'placental_mammal', 'eutherian', 'eutherian_mammal', 'organism', 'being', '有机体', '生物', 'mammal', 'mammalian', 'living_thing', 'animate_thing', '生物', 'vertebrate', 'craniate', 'whole', 'unit', '单位', '部件', 'chordate', 'object', 'physical_object', '客体', '对象', '物体', '目标', 'physical_entity', 'entity', '实体', '实存物']\n"
     ]
    }
   ],
   "source": [
    "def desc(synset):\n",
    "    c=wn.synset(synset)\n",
    "    # keys=[c.name(), c.lemma_names('eng'), c.lemma_names('cmn')]\n",
    "    keys=[]\n",
    "    for c_c in [c]+list(c.closure(hyper)):\n",
    "        print(c_c.name(), c_c.lemma_names('eng'), c_c.lemma_names('cmn'))\n",
    "        keys.extend(c_c.lemma_names('eng'))\n",
    "        keys.extend(c_c.lemma_names('cmn'))\n",
    "    print(keys)\n",
    "desc('dog.n.01')    "
   ]
  },
  {
   "cell_type": "code",
   "execution_count": 103,
   "metadata": {
    "ExecuteTime": {
     "end_time": "2019-08-04T16:12:35.367690Z",
     "start_time": "2019-08-04T16:12:35.332680Z"
    }
   },
   "outputs": [
    {
     "name": "stdout",
     "output_type": "stream",
     "text": [
      "garment.n.01 ['garment'] ['衣服']\n",
      "clothing.n.01 ['clothing', 'article_of_clothing', 'vesture', 'wear', 'wearable', 'habiliment'] ['衣服']\n",
      "consumer_goods.n.01 ['consumer_goods'] ['消费品', '生活资料']\n",
      "covering.n.02 ['covering'] ['覆盖物']\n",
      "commodity.n.01 ['commodity', 'trade_good', 'good'] ['商品', '货物']\n",
      "artifact.n.01 ['artifact', 'artefact'] []\n",
      "whole.n.02 ['whole', 'unit'] ['单位', '部件']\n",
      "object.n.01 ['object', 'physical_object'] ['客体', '对象', '物体', '目标']\n",
      "physical_entity.n.01 ['physical_entity'] []\n",
      "entity.n.01 ['entity'] ['实体', '实存物']\n",
      "['garment', '衣服', 'clothing', 'article_of_clothing', 'vesture', 'wear', 'wearable', 'habiliment', '衣服', 'consumer_goods', '消费品', '生活资料', 'covering', '覆盖物', 'commodity', 'trade_good', 'good', '商品', '货物', 'artifact', 'artefact', 'whole', 'unit', '单位', '部件', 'object', 'physical_object', '客体', '对象', '物体', '目标', 'physical_entity', 'entity', '实体', '实存物']\n"
     ]
    }
   ],
   "source": [
    "desc('sweater.n.01')"
   ]
  },
  {
   "cell_type": "code",
   "execution_count": 101,
   "metadata": {
    "ExecuteTime": {
     "end_time": "2019-08-04T15:08:12.279987Z",
     "start_time": "2019-08-04T15:08:12.262539Z"
    }
   },
   "outputs": [
    {
     "name": "stdout",
     "output_type": "stream",
     "text": [
      "chromatic_color.n.01 ['chromatic_color', 'chromatic_colour', 'spectral_color', 'spectral_colour'] []\n",
      "color.n.01 ['color', 'colour', 'coloring', 'colouring'] []\n",
      "visual_property.n.01 ['visual_property'] []\n",
      "property.n.02 ['property'] []\n",
      "attribute.n.02 ['attribute'] []\n",
      "abstraction.n.06 ['abstraction', 'abstract_entity'] ['抽象化', '抽象派作品']\n",
      "entity.n.01 ['entity'] ['实体', '实存物']\n",
      "['chromatic_color', 'chromatic_colour', 'spectral_color', 'spectral_colour', 'color', 'colour', 'coloring', 'colouring', 'visual_property', 'property', 'attribute', 'abstraction', 'abstract_entity', '抽象化', '抽象派作品', 'entity', '实体', '实存物']\n"
     ]
    }
   ],
   "source": [
    "c=wn.synset('blue.n.01')\n",
    "keys=[]\n",
    "for c_c in list(c.closure(hyper)):\n",
    "    print(c_c.name(), c_c.lemma_names('eng'), c_c.lemma_names('cmn'))\n",
    "    keys.extend(c_c.lemma_names('eng'))\n",
    "    keys.extend(c_c.lemma_names('cmn'))\n",
    "print(keys)"
   ]
  },
  {
   "cell_type": "code",
   "execution_count": 70,
   "metadata": {
    "ExecuteTime": {
     "end_time": "2019-08-02T15:00:07.978348Z",
     "start_time": "2019-08-02T15:00:07.969488Z"
    }
   },
   "outputs": [
    {
     "name": "stdout",
     "output_type": "stream",
     "text": [
      "['bleu', 'bleue']\n",
      "[]\n",
      "['couleur', 'teinte']\n",
      "[]\n",
      "['propriété']\n",
      "['attribut']\n",
      "['abstraction']\n",
      "['entité']\n"
     ]
    }
   ],
   "source": [
    "c=wn.synset('blue.n.01')\n",
    "print(c.lemma_names('fra'))\n",
    "for c_c in list(c.closure(hyper)):\n",
    "    print(c_c.lemma_names('fra'))"
   ]
  },
  {
   "cell_type": "code",
   "execution_count": 73,
   "metadata": {
    "ExecuteTime": {
     "end_time": "2019-08-02T15:08:17.102868Z",
     "start_time": "2019-08-02T15:08:17.078783Z"
    }
   },
   "outputs": [
    {
     "name": "stdout",
     "output_type": "stream",
     "text": [
      "total langs 29\n",
      "0 eng ['blue', 'blueness']\n",
      "1 als []\n",
      "2 arb []\n",
      "3 bul ['син', 'синьо']\n",
      "4 cat ['blau', 'blavor']\n",
      "5 cmn ['蓝色']\n",
      "6 dan []\n",
      "7 ell ['μπλε']\n",
      "8 eus ['urdin', 'urdintasun']\n",
      "9 fas []\n",
      "10 fin ['sininen', 'sinisyys']\n",
      "11 fra ['bleu', 'bleue']\n",
      "12 glg ['azul']\n",
      "13 heb []\n",
      "14 hrv ['plava', 'plava_boja']\n",
      "15 ind ['biru']\n",
      "16 ita []\n",
      "17 jpn ['ブルー', '青', '青み', '青味', '青碧', '青色']\n",
      "18 nld ['hemelsblauw', 'lazuur', 'azuur', 'blauw']\n",
      "19 nno []\n",
      "20 nob []\n",
      "21 pol ['niebieskość']\n",
      "22 por ['azul']\n",
      "23 qcn []\n",
      "24 slv ['modrilo', 'modrina', 'sinjina']\n",
      "25 spa []\n",
      "26 swe ['blåhet']\n",
      "27 tha ['น้ำเงิน', 'สีน้ำเงิน']\n",
      "28 zsm ['biru']\n"
     ]
    }
   ],
   "source": [
    "langs=wn.langs()\n",
    "print('total langs', len(langs))\n",
    "c=wn.synset('blue.n.01')\n",
    "for idx in range(len(langs)):\n",
    "    print(idx, langs[idx], c.lemma_names(langs[idx]))"
   ]
  },
  {
   "cell_type": "code",
   "execution_count": 74,
   "metadata": {
    "ExecuteTime": {
     "end_time": "2019-08-02T15:11:16.347254Z",
     "start_time": "2019-08-02T15:11:16.321383Z"
    }
   },
   "outputs": [
    {
     "name": "stdout",
     "output_type": "stream",
     "text": [
      "0 eng ['red', 'redness']\n",
      "1 als []\n",
      "2 arb []\n",
      "3 bul ['червен']\n",
      "4 cat ['vermell', 'vermellor']\n",
      "5 cmn ['红色']\n",
      "6 dan ['rød', 'rødfarvet']\n",
      "7 ell ['κόκκινο']\n",
      "8 eus ['gorri', 'gorritasun']\n",
      "9 fas []\n",
      "10 fin ['punainen', 'punaisuus']\n",
      "11 fra ['bureaucratie', 'paperasserie', 'rouge']\n",
      "12 glg ['vermello']\n",
      "13 heb ['אָדֹם']\n",
      "14 hrv ['crvena', 'crvena_boja', 'crveno']\n",
      "15 ind ['kemerahan', 'merah']\n",
      "16 ita ['rosso']\n",
      "17 jpn ['レッド', 'さ丹', '丹色', '丹赤', '朱', '朱塗', '真赭', '緋', '赤', '赤み', '赤いこと', '赤色']\n",
      "18 nld ['keel', 'rood']\n",
      "19 nno []\n",
      "20 nob ['rødfarget', 'rødt']\n",
      "21 pol ['czerwień', 'czerwoność']\n",
      "22 por ['encarnado', 'escarlate', 'rubra', 'rubro', 'vermelha', 'vermelhidão', 'vermelho', 'Vermelho']\n",
      "23 qcn []\n",
      "24 slv ['rdeča_barva']\n",
      "25 spa ['rojo']\n",
      "26 swe ['rodnad']\n",
      "27 tha ['แดง', 'สีแดง']\n",
      "28 zsm ['kemerahan', 'merah']\n"
     ]
    }
   ],
   "source": [
    "c=wn.synset('red.n.01')\n",
    "for idx in range(len(langs)):\n",
    "    print(idx, langs[idx], c.lemma_names(langs[idx]))"
   ]
  },
  {
   "cell_type": "code",
   "execution_count": 83,
   "metadata": {
    "ExecuteTime": {
     "end_time": "2019-08-02T15:54:19.163117Z",
     "start_time": "2019-08-02T15:54:19.148711Z"
    }
   },
   "outputs": [
    {
     "name": "stdout",
     "output_type": "stream",
     "text": [
      "[Synset('six.n.01'), Synset('six-spot.n.01'), Synset('six.s.01')]\n",
      "[Synset('merchandise.n.01'), Synset('product.n.02'), Synset('product.n.03'), Synset('product.n.04'), Synset('product.n.05'), Synset('intersection.n.04')]\n",
      "[Synset('good.n.01'), Synset('good.n.02'), Synset('good.n.03'), Synset('commodity.n.01'), Synset('good.a.01'), Synset('full.s.06'), Synset('good.a.03'), Synset('estimable.s.02'), Synset('beneficial.s.01'), Synset('good.s.06'), Synset('good.s.07'), Synset('adept.s.01'), Synset('good.s.09'), Synset('dear.s.02'), Synset('dependable.s.04'), Synset('good.s.12'), Synset('good.s.13'), Synset('effective.s.04'), Synset('good.s.15'), Synset('good.s.16'), Synset('good.s.17'), Synset('good.s.18'), Synset('good.s.19'), Synset('good.s.20'), Synset('good.s.21'), Synset('well.r.01'), Synset('thoroughly.r.02')]\n",
      "[Synset('virtual.s.01'), Synset('virtual.s.02')]\n"
     ]
    }
   ],
   "source": [
    "print(wn.synsets('six', lang='eng'))\n",
    "print(wn.synsets('product', lang='eng'))\n",
    "print(wn.synsets('good', lang='eng'))\n",
    "print(wn.synsets('virtual', lang='eng'))\n",
    "# print(wn.synsets('virtual_object', lang='eng'))"
   ]
  },
  {
   "cell_type": "code",
   "execution_count": 76,
   "metadata": {
    "ExecuteTime": {
     "end_time": "2019-08-02T15:12:46.248590Z",
     "start_time": "2019-08-02T15:12:46.216816Z"
    }
   },
   "outputs": [
    {
     "name": "stdout",
     "output_type": "stream",
     "text": [
      "0 eng ['six', '6', 'VI', 'sixer', 'sise', 'Captain_Hicks', 'half_a_dozen', 'sextet', 'sestet', 'sextuplet', 'hexad']\n",
      "1 als []\n",
      "2 arb []\n",
      "3 bul []\n",
      "4 cat ['6', 'sis']\n",
      "5 cmn ['六']\n",
      "6 dan []\n",
      "7 ell []\n",
      "8 eus ['sei']\n",
      "9 fas []\n",
      "10 fin ['6', 'Captain_Hicks', 'heksa', 'kuusi', 'kuusikko', 'kuutonen', 'puoli_tusinaa', 'sekstetti', 'VI']\n",
      "11 fra ['10', 'sextuor', 'sextuplé', 'six']\n",
      "12 glg []\n",
      "13 heb []\n",
      "14 hrv ['šest']\n",
      "15 ind ['enam']\n",
      "16 ita ['sei']\n",
      "17 jpn ['６', '６つ', '六', '六つ', '半ダース', '陸']\n",
      "18 nld ['zes', 'sextool']\n",
      "19 nno []\n",
      "20 nob []\n",
      "21 pol ['półtuzin']\n",
      "22 por ['6']\n",
      "23 qcn ['六']\n",
      "24 slv ['6', 'šest', 'VI']\n",
      "25 spa []\n",
      "26 swe []\n",
      "27 tha ['๖', 'หก', 'ครึ่งโหล', '6']\n",
      "28 zsm ['enam']\n"
     ]
    }
   ],
   "source": [
    "c=wn.synset('six.n.01')\n",
    "for idx in range(len(langs)):\n",
    "    print(idx, langs[idx], c.lemma_names(langs[idx]))"
   ]
  },
  {
   "cell_type": "code",
   "execution_count": 38,
   "metadata": {
    "ExecuteTime": {
     "end_time": "2019-08-02T07:26:58.337387Z",
     "start_time": "2019-08-02T07:26:58.326512Z"
    }
   },
   "outputs": [
    {
     "name": "stdout",
     "output_type": "stream",
     "text": [
      "[Synset('dog.n.01'), Synset('spy.n.01')]\n"
     ]
    }
   ],
   "source": [
    "# import sagas\n",
    "# loc=sagas.locales.get_locale('ja')\n",
    "import sagas.nlu.locales as locales\n",
    "loc=locales.get_locale('ja')\n",
    "print(wn.synsets('犬', lang=loc))"
   ]
  },
  {
   "cell_type": "code",
   "execution_count": 57,
   "metadata": {
    "ExecuteTime": {
     "end_time": "2019-08-02T09:05:45.109958Z",
     "start_time": "2019-08-02T09:05:45.086362Z"
    }
   },
   "outputs": [
    {
     "name": "stdout",
     "output_type": "stream",
     "text": [
      "[Synset('cat.n.01'), Synset('kitty.n.04'), Synset('mouser.n.01')]\n"
     ]
    },
    {
     "data": {
      "text/plain": [
       "[Synset('domestic_cat.n.01'),\n",
       " Synset('wildcat.n.03'),\n",
       " Synset('abyssinian.n.01'),\n",
       " Synset('alley_cat.n.01'),\n",
       " Synset('angora.n.04'),\n",
       " Synset('burmese_cat.n.01'),\n",
       " Synset('egyptian_cat.n.01'),\n",
       " Synset('kitty.n.04'),\n",
       " Synset('maltese.n.03'),\n",
       " Synset('manx.n.02'),\n",
       " Synset('mouser.n.01'),\n",
       " Synset('persian_cat.n.01'),\n",
       " Synset('siamese_cat.n.01'),\n",
       " Synset('tabby.n.01'),\n",
       " Synset('tabby.n.02'),\n",
       " Synset('tiger_cat.n.02'),\n",
       " Synset('tom.n.02'),\n",
       " Synset('tortoiseshell.n.03'),\n",
       " Synset('cougar.n.01'),\n",
       " Synset('european_wildcat.n.01'),\n",
       " Synset('jaguarundi.n.01'),\n",
       " Synset('jungle_cat.n.01'),\n",
       " Synset('kaffir_cat.n.01'),\n",
       " Synset('leopard_cat.n.01'),\n",
       " Synset('lynx.n.02'),\n",
       " Synset('manul.n.01'),\n",
       " Synset('margay.n.01'),\n",
       " Synset('ocelot.n.01'),\n",
       " Synset('sand_cat.n.01'),\n",
       " Synset('serval.n.01'),\n",
       " Synset('tiger_cat.n.01'),\n",
       " Synset('blue_point_siamese.n.01'),\n",
       " Synset('gib.n.02'),\n",
       " Synset('bobcat.n.01'),\n",
       " Synset('canada_lynx.n.01'),\n",
       " Synset('caracal.n.01'),\n",
       " Synset('common_lynx.n.01'),\n",
       " Synset('spotted_lynx.n.01')]"
      ]
     },
     "execution_count": 57,
     "metadata": {},
     "output_type": "execute_result"
    }
   ],
   "source": [
    "print(wn.synsets('猫', lang='cmn'))\n",
    "c=wn.synset('cat.n.01')\n",
    "hypo = lambda s: s.hyponyms()\n",
    "hyper = lambda s: s.hypernyms()\n",
    "list(c.closure(hypo))"
   ]
  },
  {
   "cell_type": "code",
   "execution_count": 58,
   "metadata": {
    "ExecuteTime": {
     "end_time": "2019-08-02T09:06:26.527610Z",
     "start_time": "2019-08-02T09:06:26.518449Z"
    }
   },
   "outputs": [
    {
     "data": {
      "text/plain": [
       "[Synset('feline.n.01'),\n",
       " Synset('carnivore.n.01'),\n",
       " Synset('placental.n.01'),\n",
       " Synset('mammal.n.01'),\n",
       " Synset('vertebrate.n.01'),\n",
       " Synset('chordate.n.01'),\n",
       " Synset('animal.n.01'),\n",
       " Synset('organism.n.01'),\n",
       " Synset('living_thing.n.01'),\n",
       " Synset('whole.n.02'),\n",
       " Synset('object.n.01'),\n",
       " Synset('physical_entity.n.01'),\n",
       " Synset('entity.n.01')]"
      ]
     },
     "execution_count": 58,
     "metadata": {},
     "output_type": "execute_result"
    }
   ],
   "source": [
    "list(c.closure(hyper))"
   ]
  },
  {
   "cell_type": "code",
   "execution_count": 59,
   "metadata": {
    "ExecuteTime": {
     "end_time": "2019-08-02T09:07:47.622074Z",
     "start_time": "2019-08-02T09:07:47.611373Z"
    }
   },
   "outputs": [
    {
     "data": {
      "text/plain": [
       "['ネコ', 'キャット', 'にゃんにゃん', '猫']"
      ]
     },
     "execution_count": 59,
     "metadata": {},
     "output_type": "execute_result"
    }
   ],
   "source": [
    "c.lemma_names('jpn')"
   ]
  },
  {
   "cell_type": "code",
   "execution_count": 61,
   "metadata": {
    "ExecuteTime": {
     "end_time": "2019-08-02T09:09:11.919697Z",
     "start_time": "2019-08-02T09:09:11.910260Z"
    }
   },
   "outputs": [
    {
     "data": {
      "text/plain": [
       "[Synset('feline.n.01')]"
      ]
     },
     "execution_count": 61,
     "metadata": {},
     "output_type": "execute_result"
    }
   ],
   "source": [
    "c.hypernyms()"
   ]
  },
  {
   "cell_type": "code",
   "execution_count": 63,
   "metadata": {
    "ExecuteTime": {
     "end_time": "2019-08-02T09:10:42.078451Z",
     "start_time": "2019-08-02T09:10:42.057067Z"
    }
   },
   "outputs": [
    {
     "name": "stdout",
     "output_type": "stream",
     "text": [
      "['猫科動物', 'ネコ科動物']\n",
      "['肉食動物']\n",
      "['有胎盤哺乳類', '有胎盤類']\n",
      "['哺乳', '哺乳動物']\n",
      "['脊椎動物', '頭蓋動物']\n",
      "['脊索動物']\n",
      "['アニマル', '4つ脚', '4つ足', '動物', '四つ脚', '四つ足', '毛の荒物', '獣', '獣畜', '珍獣', '生体', '生物', '生き物', '生類', '鳥獣']\n",
      "['有機体', '生体', '生活体', '生物', '生き物']\n",
      "['生き物']\n",
      "['一統', '全体', '全般', '総体']\n",
      "['もの', '物']\n",
      "[]\n",
      "['実体']\n"
     ]
    }
   ],
   "source": [
    "c=wn.synset('cat.n.01')\n",
    "for c_c in list(c.closure(hyper)):\n",
    "    print(c_c.lemma_names('jpn'))"
   ]
  },
  {
   "cell_type": "code",
   "execution_count": 85,
   "metadata": {
    "ExecuteTime": {
     "end_time": "2019-08-03T06:19:26.803057Z",
     "start_time": "2019-08-03T06:19:26.786265Z"
    }
   },
   "outputs": [
    {
     "name": "stdout",
     "output_type": "stream",
     "text": [
      "['猫科动物', '猫科的动物']\n",
      "['食肉动物']\n",
      "[]\n",
      "[]\n",
      "[]\n",
      "[]\n",
      "['凶残的人', '动物', '动物群', '生物', '畜生', '野兽']\n",
      "['有机体', '生物']\n",
      "['生物']\n",
      "['单位', '部件']\n",
      "['客体', '对象', '物体', '目标']\n",
      "[]\n",
      "['实体', '实存物']\n"
     ]
    }
   ],
   "source": [
    "c=wn.synset('cat.n.01')\n",
    "for c_c in list(c.closure(hyper)):\n",
    "    print(c_c.lemma_names('cmn'))"
   ]
  },
  {
   "cell_type": "code",
   "execution_count": 91,
   "metadata": {
    "ExecuteTime": {
     "end_time": "2019-08-03T07:22:05.169513Z",
     "start_time": "2019-08-03T07:22:05.116074Z"
    }
   },
   "outputs": [
    {
     "name": "stdout",
     "output_type": "stream",
     "text": [
      "domestic_cat.n.01 ['家猫'] ['domestic_cat', 'house_cat', 'Felis_domesticus', 'Felis_catus'] ['felis_domesticus']\n",
      "wildcat.n.03 ['野猫'] ['wildcat'] ['chat_sauvage']\n",
      "abyssinian.n.01 ['阿比西尼亚猫'] ['Abyssinian', 'Abyssinian_cat'] ['abyssin']\n",
      "alley_cat.n.01 ['野猫'] ['alley_cat'] []\n",
      "angora.n.04 ['安哥拉猫'] ['Angora', 'Angora_cat'] []\n",
      "burmese_cat.n.01 ['缅甸猫'] ['Burmese_cat'] []\n",
      "egyptian_cat.n.01 ['埃及猫'] ['Egyptian_cat'] []\n",
      "kitty.n.04 ['小猫', '猫'] ['kitty', 'kitty-cat', 'puss', 'pussy', 'pussycat'] ['minou']\n",
      "maltese.n.03 ['马耳他猫'] ['Maltese', 'Maltese_cat'] []\n",
      "manx.n.02 ['马恩岛猫'] ['Manx', 'Manx_cat'] []\n",
      "mouser.n.01 ['猫'] ['mouser'] ['ratier']\n",
      "persian_cat.n.01 ['波斯猫'] ['Persian_cat'] ['chat_persan', 'Persan']\n",
      "siamese_cat.n.01 ['暹罗猫'] ['Siamese_cat', 'Siamese'] ['siamois']\n",
      "tabby.n.01 ['斑猫', '虎斑猫'] ['tabby', 'tabby_cat'] ['chat_tigré']\n",
      "tabby.n.02 ['雌猫'] ['tabby', 'queen'] ['chat_tigré', 'dame', 'reine']\n",
      "tiger_cat.n.02 ['山猫', '豹猫'] ['tiger_cat'] []\n",
      "tom.n.02 ['公猫', '雄猫'] ['tom', 'tomcat'] ['chat', 'matou']\n",
      "tortoiseshell.n.03 ['花斑家猫'] ['tortoiseshell', 'tortoiseshell-cat', 'calico_cat'] []\n",
      "cougar.n.01 ['美洲豹'] ['cougar', 'puma', 'catamount', 'mountain_lion', 'painter', 'panther', 'Felis_concolor'] ['cougar', 'lion_des_montagnes', 'panthère', 'peintre', 'puma', 'puma_concolor', 'Puma_concolor']\n",
      "european_wildcat.n.01 ['野猫'] ['European_wildcat', 'catamountain', 'Felis_silvestris'] ['felis_silvestris']\n",
      "jaguarundi.n.01 ['獭猫', '美洲山猫'] ['jaguarundi', 'jaguarundi_cat', 'jaguarondi', 'eyra', 'Felis_yagouaroundi'] ['chat_loutre', 'eyra', 'jaguarondi']\n",
      "jungle_cat.n.01 ['丛林猫'] ['jungle_cat', 'Felis_chaus'] ['chat_de_jungle', 'chat_des_marais', 'chaus', 'felis_chaus']\n",
      "kaffir_cat.n.01 ['非洲的山猫'] ['kaffir_cat', 'caffer_cat', 'Felis_ocreata'] []\n",
      "leopard_cat.n.01 ['豹猫'] ['leopard_cat', 'Felis_bengalensis'] ['chat_de_chine', 'chat_léopard_du_bengale']\n",
      "lynx.n.02 ['山猫', '猞猁'] ['lynx', 'catamount'] ['lynx', 'lynx_(mammifère)|fr:lynx']\n",
      "manul.n.01 ['兔狲'] ['manul', \"Pallas's_cat\", 'Felis_manul'] ['chat_de_pallas', 'felis_manul', 'otocolobus_manul']\n",
      "margay.n.01 ['虎猫'] ['margay', 'margay_cat', 'Felis_wiedi'] ['chat-tigre', 'margay']\n",
      "ocelot.n.01 ['豹猫'] ['ocelot', 'panther_cat', 'Felis_pardalis'] ['ocelot']\n",
      "sand_cat.n.01 ['沙猫'] ['sand_cat'] ['chat_de_marguerite', 'chat_des_sables', 'chat_du_désert', 'chat_du_général_marguerite']\n",
      "serval.n.01 ['薮猫'] ['serval', 'Felis_serval'] ['serval']\n",
      "tiger_cat.n.01 ['豹猫'] ['tiger_cat', 'Felis_tigrina'] []\n",
      "blue_point_siamese.n.01 ['暹罗猫'] ['blue_point_Siamese'] []\n",
      "gib.n.02 ['阉猫'] ['gib'] ['gib']\n",
      "bobcat.n.01 ['北美大山猫', '短尾猫', '红猫'] ['bobcat', 'bay_lynx', 'Lynx_rufus'] ['bobcat', 'lynx_bai', 'lynx_pardé', 'lynx_roux', 'lynx_rufus']\n",
      "canada_lynx.n.01 ['加拿大猞猁'] ['Canada_lynx', 'Lynx_canadensis'] ['lynx_canadensis', 'lynx_du_canada']\n",
      "caracal.n.01 ['大山猫', '狞猫', '猞猁', '薮猫'] ['caracal', 'desert_lynx', 'Lynx_caracal'] ['caracal', 'lynx_de_perse', 'lynx_du_désert']\n",
      "common_lynx.n.01 ['普通猞猁'] ['common_lynx', 'Lynx_lynx'] ['lynx_commun', \"lynx_d'eurasie\", 'lynx_lynx']\n",
      "spotted_lynx.n.01 ['南欧猞猁'] ['spotted_lynx', 'Lynx_pardina'] []\n"
     ]
    }
   ],
   "source": [
    "c=wn.synset('cat.n.01')\n",
    "for c_c in list(c.closure(hypo)):\n",
    "    print(c_c.name(), c_c.lemma_names('cmn'), c_c.lemma_names('eng'), c_c.lemma_names('fra'))"
   ]
  },
  {
   "cell_type": "code",
   "execution_count": 65,
   "metadata": {
    "ExecuteTime": {
     "end_time": "2019-08-02T09:11:56.125661Z",
     "start_time": "2019-08-02T09:11:55.803011Z"
    }
   },
   "outputs": [
    {
     "name": "stdout",
     "output_type": "stream",
     "text": [
      "['félidé', 'félin']\n",
      "['carnivore']\n",
      "['placentaire']\n",
      "['mammifère']\n",
      "['vertébré']\n",
      "['cordés']\n",
      "['animal', 'bête', 'créature', 'être', 'faune']\n",
      "['être', 'organisme', 'organisme_vivant']\n",
      "[]\n",
      "['ensemble', 'totalité', 'tout', 'unité']\n",
      "['chose', 'objet']\n",
      "[]\n",
      "['entité']\n"
     ]
    }
   ],
   "source": [
    "for c_c in list(c.closure(hyper)):\n",
    "    print(c_c.lemma_names('fra'))"
   ]
  },
  {
   "cell_type": "code",
   "execution_count": 66,
   "metadata": {
    "ExecuteTime": {
     "end_time": "2019-08-02T09:16:09.135843Z",
     "start_time": "2019-08-02T09:16:09.121697Z"
    }
   },
   "outputs": [
    {
     "data": {
      "text/plain": [
       "[Lemma('bad.a.01.bad')]"
      ]
     },
     "execution_count": 66,
     "metadata": {},
     "output_type": "execute_result"
    }
   ],
   "source": [
    "good = wn.synset('good.a.01')\n",
    "good.lemmas()[0].antonyms()"
   ]
  },
  {
   "cell_type": "code",
   "execution_count": 52,
   "metadata": {
    "ExecuteTime": {
     "end_time": "2019-08-02T08:58:53.091027Z",
     "start_time": "2019-08-02T08:58:53.080455Z"
    }
   },
   "outputs": [
    {
     "name": "stdout",
     "output_type": "stream",
     "text": [
      "[Synset('red.n.01'), Synset('bloom.n.04')]\n",
      "[Synset('green.n.01')]\n",
      "[Synset('blue.s.01')]\n",
      "[Synset('purple.s.01')]\n"
     ]
    }
   ],
   "source": [
    "words=['红色','绿色','蓝', '紫']\n",
    "for w in words:\n",
    "    print(wn.synsets(w, lang='cmn'))"
   ]
  },
  {
   "cell_type": "code",
   "execution_count": 55,
   "metadata": {
    "ExecuteTime": {
     "end_time": "2019-08-02T09:01:08.729429Z",
     "start_time": "2019-08-02T09:01:08.722812Z"
    }
   },
   "outputs": [
    {
     "name": "stdout",
     "output_type": "stream",
     "text": [
      "Lemma('purple.s.01.purple') []\n",
      "Lemma('purple.s.01.violet') []\n",
      "Lemma('purple.s.01.purplish') []\n"
     ]
    }
   ],
   "source": [
    "c = wn.synset('purple.s.01')\n",
    "for lemma in c.lemmas():\n",
    "    print(lemma, lemma.frame_ids())"
   ]
  },
  {
   "cell_type": "code",
   "execution_count": 56,
   "metadata": {
    "ExecuteTime": {
     "end_time": "2019-08-02T09:04:16.379705Z",
     "start_time": "2019-08-02T09:04:16.361898Z"
    }
   },
   "outputs": [
    {
     "data": {
      "text/plain": [
       "[]"
      ]
     },
     "execution_count": 56,
     "metadata": {},
     "output_type": "execute_result"
    }
   ],
   "source": [
    "hypo = lambda s: s.hyponyms()\n",
    "list(c.closure(hypo))"
   ]
  },
  {
   "cell_type": "code",
   "execution_count": 31,
   "metadata": {
    "ExecuteTime": {
     "end_time": "2019-08-02T06:59:46.758887Z",
     "start_time": "2019-08-02T06:59:46.752832Z"
    }
   },
   "outputs": [
    {
     "data": {
      "text/plain": [
       "[]"
      ]
     },
     "execution_count": 31,
     "metadata": {},
     "output_type": "execute_result"
    }
   ],
   "source": [
    "wn.synsets('筛选', lang='cmn')"
   ]
  },
  {
   "cell_type": "code",
   "execution_count": 32,
   "metadata": {
    "ExecuteTime": {
     "end_time": "2019-08-02T06:59:58.800121Z",
     "start_time": "2019-08-02T06:59:58.791791Z"
    }
   },
   "outputs": [
    {
     "data": {
      "text/plain": [
       "[Synset('discover.v.07'), Synset('descry.v.01')]"
      ]
     },
     "execution_count": 32,
     "metadata": {},
     "output_type": "execute_result"
    }
   ],
   "source": [
    "wn.synsets('找出', lang='cmn')"
   ]
  },
  {
   "cell_type": "code",
   "execution_count": 37,
   "metadata": {
    "ExecuteTime": {
     "end_time": "2019-08-02T07:01:27.203482Z",
     "start_time": "2019-08-02T07:01:27.192972Z"
    }
   },
   "outputs": [
    {
     "name": "stdout",
     "output_type": "stream",
     "text": [
      "0.25\n",
      "0.5\n",
      "1.0\n"
     ]
    }
   ],
   "source": [
    "select = wn.synsets(u'选择', lang='cmn')[0]\n",
    "selectn3= wn.synsets(u'找出', lang='cmn')[0]\n",
    "print(select.path_similarity(selectn3))\n",
    "selectn1 = wn.synsets(u'选出', lang='cmn')[0]\n",
    "print(select.path_similarity(selectn1))\n",
    "selectn2 = wn.synsets(u'选', lang='cmn')[0]\n",
    "print(select.path_similarity(selectn2))"
   ]
  },
  {
   "cell_type": "markdown",
   "metadata": {},
   "source": [
    "## Similarity\n",
    "synset1.path_similarity(synset2): Return a score denoting how similar two word senses are, based on the shortest path that connects the senses in the is-a (hypernym/hypnoym) taxonomy. The score is in the range 0 to 1. By default, there is now a fake root node added to verbs so for cases where previously a path could not be found---and None was returned---it should return a value. The old behavior can be achieved by setting simulate_root to be False. A score of 1 represents identity i.e. comparing a sense with itself will return 1."
   ]
  },
  {
   "cell_type": "code",
   "execution_count": 6,
   "metadata": {
    "ExecuteTime": {
     "end_time": "2019-08-02T06:13:55.761717Z",
     "start_time": "2019-08-02T06:13:55.752659Z"
    }
   },
   "outputs": [],
   "source": [
    ">>> dog = wn.synset('dog.n.01')\n",
    ">>> cat = wn.synset('cat.n.01')\n",
    ">>> hit = wn.synset('hit.v.01')\n",
    ">>> slap = wn.synset('slap.v.01')"
   ]
  },
  {
   "cell_type": "code",
   "execution_count": 7,
   "metadata": {
    "ExecuteTime": {
     "end_time": "2019-08-02T06:14:02.694251Z",
     "start_time": "2019-08-02T06:14:02.680709Z"
    }
   },
   "outputs": [
    {
     "data": {
      "text/plain": [
       "0.2"
      ]
     },
     "execution_count": 7,
     "metadata": {},
     "output_type": "execute_result"
    }
   ],
   "source": [
    ">>> dog.path_similarity(cat)  # doctest: +ELLIPSIS"
   ]
  },
  {
   "cell_type": "code",
   "execution_count": 8,
   "metadata": {
    "ExecuteTime": {
     "end_time": "2019-08-02T06:14:51.554681Z",
     "start_time": "2019-08-02T06:14:51.545998Z"
    }
   },
   "outputs": [
    {
     "data": {
      "text/plain": [
       "0.14285714285714285"
      ]
     },
     "execution_count": 8,
     "metadata": {},
     "output_type": "execute_result"
    }
   ],
   "source": [
    ">>> hit.path_similarity(slap)  # doctest: +ELLIPSIS"
   ]
  },
  {
   "cell_type": "code",
   "execution_count": 9,
   "metadata": {
    "ExecuteTime": {
     "end_time": "2019-08-02T06:17:08.266657Z",
     "start_time": "2019-08-02T06:17:02.193960Z"
    }
   },
   "outputs": [
    {
     "name": "stdout",
     "output_type": "stream",
     "text": [
      "Synset('entity.n.01')\n",
      "Synset('physical_entity.n.01')\n",
      "Synset('abstraction.n.06')\n",
      "Synset('thing.n.12')\n",
      "Synset('object.n.01')\n",
      "Synset('whole.n.02')\n",
      "Synset('congener.n.03')\n",
      "Synset('living_thing.n.01')\n",
      "Synset('organism.n.01')\n",
      "Synset('benthos.n.02')\n"
     ]
    }
   ],
   "source": [
    "# Iterate over all the noun synsets:\n",
    "for synset in list(wn.all_synsets('n'))[:10]:\n",
    "    print(synset)"
   ]
  },
  {
   "cell_type": "code",
   "execution_count": 10,
   "metadata": {
    "ExecuteTime": {
     "end_time": "2019-08-02T06:17:40.725935Z",
     "start_time": "2019-08-02T06:17:40.718238Z"
    }
   },
   "outputs": [
    {
     "data": {
      "text/plain": [
       "[Synset('dog.n.01'),\n",
       " Synset('frump.n.01'),\n",
       " Synset('dog.n.03'),\n",
       " Synset('cad.n.01'),\n",
       " Synset('frank.n.02'),\n",
       " Synset('pawl.n.01'),\n",
       " Synset('andiron.n.01'),\n",
       " Synset('chase.v.01')]"
      ]
     },
     "execution_count": 10,
     "metadata": {},
     "output_type": "execute_result"
    }
   ],
   "source": [
    "wn.synsets('dog') # doctest: +ELLIPSIS"
   ]
  },
  {
   "cell_type": "code",
   "execution_count": 11,
   "metadata": {
    "ExecuteTime": {
     "end_time": "2019-08-02T06:17:46.694979Z",
     "start_time": "2019-08-02T06:17:46.676301Z"
    }
   },
   "outputs": [
    {
     "data": {
      "text/plain": [
       "[Synset('chase.v.01')]"
      ]
     },
     "execution_count": 11,
     "metadata": {},
     "output_type": "execute_result"
    }
   ],
   "source": [
    "wn.synsets('dog', pos='v')"
   ]
  },
  {
   "cell_type": "code",
   "execution_count": 107,
   "metadata": {
    "ExecuteTime": {
     "end_time": "2019-08-05T05:45:20.904288Z",
     "start_time": "2019-08-05T05:45:20.807159Z"
    }
   },
   "outputs": [
    {
     "name": "stdout",
     "output_type": "stream",
     "text": [
      "Synset('chase.v.01') [Synset('pursue.v.02')]\n"
     ]
    }
   ],
   "source": [
    "# Walk through the synsets looking at their hypernyms:\n",
    "synset=wn.synsets('dog', pos='v')[0]\n",
    "print(synset, synset.hypernyms())"
   ]
  },
  {
   "cell_type": "code",
   "execution_count": 112,
   "metadata": {
    "ExecuteTime": {
     "end_time": "2019-08-05T05:46:04.654095Z",
     "start_time": "2019-08-05T05:46:04.645369Z"
    }
   },
   "outputs": [
    {
     "data": {
      "text/plain": [
       "[Synset('yellow.s.01'),\n",
       " Synset('chicken.s.01'),\n",
       " Synset('yellow.s.03'),\n",
       " Synset('scandalmongering.s.01'),\n",
       " Synset('yellow.s.05'),\n",
       " Synset('jaundiced.s.01')]"
      ]
     },
     "execution_count": 112,
     "metadata": {},
     "output_type": "execute_result"
    }
   ],
   "source": [
    "wn.synsets('yellow', pos='a')"
   ]
  },
  {
   "cell_type": "code",
   "execution_count": 115,
   "metadata": {
    "ExecuteTime": {
     "end_time": "2019-08-05T06:17:19.723444Z",
     "start_time": "2019-08-05T06:17:19.716471Z"
    }
   },
   "outputs": [
    {
     "data": {
      "text/plain": [
       "[Synset('yellow.n.01'),\n",
       " Synset('yellow.s.01'),\n",
       " Synset('chicken.s.01'),\n",
       " Synset('yellow.s.03'),\n",
       " Synset('scandalmongering.s.01'),\n",
       " Synset('yellow.s.05'),\n",
       " Synset('jaundiced.s.01')]"
      ]
     },
     "execution_count": 115,
     "metadata": {},
     "output_type": "execute_result"
    }
   ],
   "source": [
    "wn.synsets('yellow', pos=['n','a'])"
   ]
  },
  {
   "cell_type": "code",
   "execution_count": 127,
   "metadata": {
    "ExecuteTime": {
     "end_time": "2019-08-05T06:22:13.124197Z",
     "start_time": "2019-08-05T06:22:13.116659Z"
    }
   },
   "outputs": [
    {
     "data": {
      "text/plain": [
       "[Synset('yellow.s.01'), Synset('yellow.s.03')]"
      ]
     },
     "execution_count": 127,
     "metadata": {},
     "output_type": "execute_result"
    }
   ],
   "source": [
    "wn.synsets('amarelo', lang='por', pos='a')"
   ]
  },
  {
   "cell_type": "code",
   "execution_count": 130,
   "metadata": {
    "ExecuteTime": {
     "end_time": "2019-08-05T06:23:41.525809Z",
     "start_time": "2019-08-05T06:23:41.517635Z"
    }
   },
   "outputs": [
    {
     "name": "stdout",
     "output_type": "stream",
     "text": [
      "s Synset('yellow.s.01')\n",
      "s Synset('yellow.s.03')\n",
      "n Synset('yellow.n.01')\n",
      "n Synset('yellow.n.01')\n",
      "n Synset('amber.n.01')\n",
      "n Synset('huang_he.n.01')\n"
     ]
    }
   ],
   "source": [
    "rs=wn.synsets('amarelo', lang='por', pos=None)\n",
    "for r in rs:\n",
    "    print(r.pos(), r)"
   ]
  },
  {
   "cell_type": "code",
   "execution_count": 14,
   "metadata": {
    "ExecuteTime": {
     "end_time": "2019-08-02T06:20:57.077851Z",
     "start_time": "2019-08-02T06:20:55.987657Z"
    }
   },
   "outputs": [
    {
     "name": "stdout",
     "output_type": "stream",
     "text": [
      "<breakdown.n.03: PosScore=0.0 NegScore=0.25>\n"
     ]
    }
   ],
   "source": [
    "from nltk.corpus import sentiwordnet as swn\n",
    "breakdown = swn.senti_synset('breakdown.n.03')\n",
    "print(breakdown)"
   ]
  },
  {
   "cell_type": "code",
   "execution_count": 15,
   "metadata": {
    "ExecuteTime": {
     "end_time": "2019-08-02T06:21:02.955472Z",
     "start_time": "2019-08-02T06:21:02.949497Z"
    }
   },
   "outputs": [
    {
     "data": {
      "text/plain": [
       "0.0"
      ]
     },
     "execution_count": 15,
     "metadata": {},
     "output_type": "execute_result"
    }
   ],
   "source": [
    "breakdown.pos_score()"
   ]
  },
  {
   "cell_type": "code",
   "execution_count": 16,
   "metadata": {
    "ExecuteTime": {
     "end_time": "2019-08-02T06:21:11.246220Z",
     "start_time": "2019-08-02T06:21:11.239951Z"
    }
   },
   "outputs": [
    {
     "data": {
      "text/plain": [
       "0.25"
      ]
     },
     "execution_count": 16,
     "metadata": {},
     "output_type": "execute_result"
    }
   ],
   "source": [
    "breakdown.neg_score()"
   ]
  },
  {
   "cell_type": "code",
   "execution_count": 17,
   "metadata": {
    "ExecuteTime": {
     "end_time": "2019-08-02T06:21:18.322072Z",
     "start_time": "2019-08-02T06:21:18.313310Z"
    }
   },
   "outputs": [
    {
     "data": {
      "text/plain": [
       "0.75"
      ]
     },
     "execution_count": 17,
     "metadata": {},
     "output_type": "execute_result"
    }
   ],
   "source": [
    "breakdown.obj_score()"
   ]
  },
  {
   "cell_type": "code",
   "execution_count": 18,
   "metadata": {
    "ExecuteTime": {
     "end_time": "2019-08-02T06:21:46.618870Z",
     "start_time": "2019-08-02T06:21:46.605468Z"
    }
   },
   "outputs": [
    {
     "data": {
      "text/plain": [
       "[SentiSynset('decelerate.v.01'),\n",
       " SentiSynset('slow.v.02'),\n",
       " SentiSynset('slow.v.03'),\n",
       " SentiSynset('slow.a.01'),\n",
       " SentiSynset('slow.a.02'),\n",
       " SentiSynset('dense.s.04'),\n",
       " SentiSynset('slow.a.04'),\n",
       " SentiSynset('boring.s.01'),\n",
       " SentiSynset('dull.s.08'),\n",
       " SentiSynset('slowly.r.01'),\n",
       " SentiSynset('behind.r.03')]"
      ]
     },
     "execution_count": 18,
     "metadata": {},
     "output_type": "execute_result"
    }
   ],
   "source": [
    "list(swn.senti_synsets('slow'))"
   ]
  },
  {
   "cell_type": "code",
   "execution_count": 19,
   "metadata": {
    "ExecuteTime": {
     "end_time": "2019-08-02T06:22:14.917966Z",
     "start_time": "2019-08-02T06:22:14.908332Z"
    }
   },
   "outputs": [
    {
     "data": {
      "text/plain": [
       "<filter at 0x12d812e10>"
      ]
     },
     "execution_count": 19,
     "metadata": {},
     "output_type": "execute_result"
    }
   ],
   "source": [
    "happy = swn.senti_synsets('happy', 'a')\n",
    "happy"
   ]
  },
  {
   "cell_type": "code",
   "execution_count": 20,
   "metadata": {
    "ExecuteTime": {
     "end_time": "2019-08-02T06:22:25.348819Z",
     "start_time": "2019-08-02T06:22:25.344866Z"
    }
   },
   "outputs": [],
   "source": [
    "all = swn.all_senti_synsets()"
   ]
  },
  {
   "cell_type": "markdown",
   "metadata": {},
   "source": [
    "### synset1.res_similarity(synset2, ic): \n",
    "Resnik Similarity: Return a score denoting how similar two word senses are, based on the Information Content (IC) of the Least Common Subsumer (most specific ancestor node). Note that for any similarity measure that uses information content, the result is dependent on the corpus used to generate the information content and the specifics of how the information content was created.\n"
   ]
  },
  {
   "cell_type": "code",
   "execution_count": 92,
   "metadata": {
    "ExecuteTime": {
     "end_time": "2019-08-03T09:29:06.825113Z",
     "start_time": "2019-08-03T09:29:02.862618Z"
    }
   },
   "outputs": [],
   "source": [
    ">>> from nltk.corpus import genesis\n",
    ">>> genesis_ic = wn.ic(genesis, False, 0.0)"
   ]
  },
  {
   "cell_type": "code",
   "execution_count": 93,
   "metadata": {
    "ExecuteTime": {
     "end_time": "2019-08-03T09:29:25.834480Z",
     "start_time": "2019-08-03T09:29:25.828336Z"
    }
   },
   "outputs": [],
   "source": [
    ">>> dog = wn.synset('dog.n.01')\n",
    ">>> cat = wn.synset('cat.n.01')\n",
    ">>> hit = wn.synset('hit.v.01')\n",
    ">>> slap = wn.synset('slap.v.01')"
   ]
  },
  {
   "cell_type": "code",
   "execution_count": 94,
   "metadata": {
    "ExecuteTime": {
     "end_time": "2019-08-03T09:29:42.086008Z",
     "start_time": "2019-08-03T09:29:42.075250Z"
    }
   },
   "outputs": [
    {
     "data": {
      "text/plain": [
       "7.204023991374837"
      ]
     },
     "execution_count": 94,
     "metadata": {},
     "output_type": "execute_result"
    }
   ],
   "source": [
    ">>> dog.res_similarity(cat, genesis_ic)  # doctest: +ELLIPSIS"
   ]
  }
 ],
 "metadata": {
  "kernelspec": {
   "display_name": "Python 3",
   "language": "python",
   "name": "python3"
  },
  "language_info": {
   "codemirror_mode": {
    "name": "ipython",
    "version": 3
   },
   "file_extension": ".py",
   "mimetype": "text/x-python",
   "name": "python",
   "nbconvert_exporter": "python",
   "pygments_lexer": "ipython3",
   "version": "3.6.4"
  },
  "varInspector": {
   "cols": {
    "lenName": 16,
    "lenType": 16,
    "lenVar": 40
   },
   "kernels_config": {
    "python": {
     "delete_cmd_postfix": "",
     "delete_cmd_prefix": "del ",
     "library": "var_list.py",
     "varRefreshCmd": "print(var_dic_list())"
    },
    "r": {
     "delete_cmd_postfix": ") ",
     "delete_cmd_prefix": "rm(",
     "library": "var_list.r",
     "varRefreshCmd": "cat(var_dic_list()) "
    }
   },
   "types_to_exclude": [
    "module",
    "function",
    "builtin_function_or_method",
    "instance",
    "_Feature"
   ],
   "window_display": false
  }
 },
 "nbformat": 4,
 "nbformat_minor": 2
}
