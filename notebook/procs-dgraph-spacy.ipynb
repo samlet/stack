{
 "cells": [
  {
   "cell_type": "code",
   "execution_count": 1,
   "metadata": {
    "ExecuteTime": {
     "end_time": "2019-05-24T15:45:25.622462Z",
     "start_time": "2019-05-24T15:45:25.460400Z"
    }
   },
   "outputs": [],
   "source": [
    "def lines(filename):\n",
    "    with open(filename) as f:\n",
    "        lines = f.readlines()        \n",
    "        return [line.split('\\t') for line in lines]\n",
    "    \n",
    "dataf=\"/pi/ai/seq2seq/jpn-eng/jpn.txt\"\n",
    "pairs=lines(dataf)"
   ]
  },
  {
   "cell_type": "code",
   "execution_count": 2,
   "metadata": {
    "ExecuteTime": {
     "end_time": "2019-05-24T15:45:27.567660Z",
     "start_time": "2019-05-24T15:45:27.557335Z"
    }
   },
   "outputs": [
    {
     "name": "stdout",
     "output_type": "stream",
     "text": [
      "[['Hi.', 'やっほー。\\n'], ['Hi.', 'こんにちは！\\n'], ['Run.', '走れ。\\n'], ['Run.', '走って！\\n'], ['Who?', '誰？\\n']]\n",
      "43009\n"
     ]
    }
   ],
   "source": [
    "print(pairs[:5])\n",
    "print(len(pairs))"
   ]
  },
  {
   "cell_type": "code",
   "execution_count": 4,
   "metadata": {
    "ExecuteTime": {
     "end_time": "2019-05-26T02:34:46.564019Z",
     "start_time": "2019-05-26T02:34:46.554144Z"
    }
   },
   "outputs": [
    {
     "name": "stdout",
     "output_type": "stream",
     "text": [
      "Hi.\n",
      "Hi.\n",
      "Run.\n",
      "Run.\n",
      "Who?\n"
     ]
    }
   ],
   "source": [
    "for pair in pairs[:5]:\n",
    "    print(pair[0])"
   ]
  },
  {
   "cell_type": "code",
   "execution_count": 5,
   "metadata": {
    "ExecuteTime": {
     "end_time": "2019-05-26T02:35:12.231944Z",
     "start_time": "2019-05-26T02:35:10.770499Z"
    }
   },
   "outputs": [],
   "source": [
    "import spacy\n",
    "from spacy.symbols import nsubj, VERB\n",
    "\n",
    "nlp = spacy.load(\"en_core_web_sm\")"
   ]
  },
  {
   "cell_type": "code",
   "execution_count": 7,
   "metadata": {
    "ExecuteTime": {
     "end_time": "2019-05-26T02:53:43.617821Z",
     "start_time": "2019-05-26T02:42:46.027672Z"
    }
   },
   "outputs": [
    {
     "data": {
      "application/vnd.jupyter.widget-view+json": {
       "model_id": "48b0df7d34ea433397822e22695942c6",
       "version_major": 2,
       "version_minor": 0
      },
      "text/html": [
       "<p>Failed to display Jupyter Widget of type <code>IntProgress</code>.</p>\n",
       "<p>\n",
       "  If you're reading this message in the Jupyter Notebook or JupyterLab Notebook, it may mean\n",
       "  that the widgets JavaScript is still loading. If this message persists, it\n",
       "  likely means that the widgets JavaScript library is either not installed or\n",
       "  not enabled. See the <a href=\"https://ipywidgets.readthedocs.io/en/stable/user_install.html\">Jupyter\n",
       "  Widgets Documentation</a> for setup instructions.\n",
       "</p>\n",
       "<p>\n",
       "  If you're reading this message in another frontend (for example, a static\n",
       "  rendering on GitHub or <a href=\"https://nbviewer.jupyter.org/\">NBViewer</a>),\n",
       "  it may mean that your frontend doesn't currently support widgets.\n",
       "</p>\n"
      ],
      "text/plain": [
       "IntProgress(value=0, max=43009)"
      ]
     },
     "metadata": {},
     "output_type": "display_data"
    },
    {
     "name": "stdout",
     "output_type": "stream",
     "text": [
      "32521\n"
     ]
    }
   ],
   "source": [
    "from ipywidgets import IntProgress\n",
    "from IPython.display import display\n",
    "\n",
    "max_count=len(pairs)\n",
    "f = IntProgress(min=0, max=max_count) # instantiate the bar\n",
    "display(f) # display the bar\n",
    "\n",
    "def step(val=1):\n",
    "    f.value += val # signal to increment the progress bar   \n",
    "\n",
    "verb_maps={}\n",
    "\n",
    "for pair in pairs:\n",
    "    doc = nlp(pair[0])\n",
    "    # Finding a verb with a subject from below — good\n",
    "    verbs = set()\n",
    "    for possible_subject in doc:\n",
    "        if possible_subject.dep == nsubj and possible_subject.head.pos == VERB:\n",
    "            verbs.add(possible_subject.head)\n",
    "    if len(verbs)>0:\n",
    "        verb_maps[pair[0]]=verbs\n",
    "    step()\n",
    "\n",
    "print(len(verb_maps))"
   ]
  },
  {
   "cell_type": "code",
   "execution_count": 10,
   "metadata": {
    "ExecuteTime": {
     "end_time": "2019-05-26T02:59:00.156354Z",
     "start_time": "2019-05-26T02:59:00.145444Z"
    }
   },
   "outputs": [
    {
     "name": "stdout",
     "output_type": "stream",
     "text": [
      "[\"I'm not a kid.\", 'もう子どもじゃないんだから。\\n'] {'m}\n",
      "[\"Who's with Tom?\", 'トムと一緒にいるのは誰ですか？\\n'] {'s}\n"
     ]
    }
   ],
   "source": [
    "print(pairs[2000], verb_maps[pairs[2000][0]])\n",
    "print(pairs[3000], verb_maps[pairs[3000][0]])"
   ]
  },
  {
   "cell_type": "code",
   "execution_count": 12,
   "metadata": {
    "ExecuteTime": {
     "end_time": "2019-05-26T03:18:44.450736Z",
     "start_time": "2019-05-26T03:18:43.089305Z"
    }
   },
   "outputs": [],
   "source": [
    "import resources_pb2 as res\n",
    "import protobuf_utils\n",
    "\n",
    "def parse(pair, rs):\n",
    "    doc = nlp(pair[0])\n",
    "    data = doc.to_bytes()\n",
    "    lang=res.RsLang(entries=pair, store=data)\n",
    "    rs.append(lang)\n",
    "\n",
    "rs=[]\n",
    "for i in range(2000,2100):\n",
    "    parse(pairs[i], rs)\n",
    "langs=res.RsLangs(langs=rs)"
   ]
  },
  {
   "cell_type": "code",
   "execution_count": 13,
   "metadata": {
    "ExecuteTime": {
     "end_time": "2019-05-26T03:18:58.378472Z",
     "start_time": "2019-05-26T03:18:58.371587Z"
    }
   },
   "outputs": [
    {
     "name": "stdout",
     "output_type": "stream",
     "text": [
      "100\n"
     ]
    }
   ],
   "source": [
    "print(len(langs.langs))"
   ]
  },
  {
   "cell_type": "code",
   "execution_count": 14,
   "metadata": {
    "ExecuteTime": {
     "end_time": "2019-05-26T03:20:15.374639Z",
     "start_time": "2019-05-26T03:20:15.364678Z"
    }
   },
   "outputs": [],
   "source": [
    "protobuf_utils.write_proto_to(langs, './data/langs/samples_100.data')"
   ]
  },
  {
   "cell_type": "code",
   "execution_count": 23,
   "metadata": {
    "ExecuteTime": {
     "end_time": "2019-05-29T00:52:26.178634Z",
     "start_time": "2019-05-29T00:52:26.157702Z"
    }
   },
   "outputs": [
    {
     "name": "stdout",
     "output_type": "stream",
     "text": [
      "100\n"
     ]
    }
   ],
   "source": [
    "load_langs=res.RsLangs()\n",
    "protobuf_utils.read_proto(load_langs, './data/langs/samples_100.data')\n",
    "print(len(load_langs.langs))"
   ]
  },
  {
   "cell_type": "code",
   "execution_count": 19,
   "metadata": {
    "ExecuteTime": {
     "end_time": "2019-05-28T01:08:40.420422Z",
     "start_time": "2019-05-28T01:08:40.224710Z"
    }
   },
   "outputs": [
    {
     "name": "stdout",
     "output_type": "stream",
     "text": [
      "I'm not a kid. {'m}\n",
      "I'm not alone. {'m}\n",
      "I'm not angry! {'m}\n",
      "I'm not angry. {'m}\n",
      "I'm not drunk. {'m}\n",
      "I'm not lying. {lying}\n",
      "I'm on a diet. {'m}\n",
      "I'm on a diet. {'m}\n",
      "I'm satisfied. {'m}\n",
      "I'm satisfied. {'m}\n",
      "I'm so hungry. {'m}\n",
      "I'm surprised. {'m}\n",
      "I'm too short. {'m}\n",
      "I'm unmarried. {'m}\n",
      "I'm very busy. {'m}\n",
      "I'm very busy. {'m}\n",
      "I'm very busy. {'m}\n",
      "I'm voting no. {voting}\n",
      "I've found it. {found}\n",
      "I've got time. {got}\n",
      "Is Tom around? {Is}\n",
      "Is Tom asleep? {Is}\n",
      "Is Tom famous? {Is}\n",
      "Is Tom guilty? {Is}\n",
      "Is Tom lonely? {Is}\n",
      "Is Tom nearby? {Is}\n",
      "Is Tom stupid? {Is}\n",
      "Is he at home? {Is}\n",
      "Is he correct? {Is}\n",
      "Is it raining? {Is}\n",
      "Is it serious? {Is}\n",
      "Is it too big? {Is}\n",
      "Is that Tom's? {Is}\n",
      "Is that a cat? {Is}\n",
      "Is that right? {Is}\n",
      "Is that right? {Is}\n",
      "Is that yours? {Is}\n",
      "Is there more? set()\n",
      "Is this Tom's? {Is}\n",
      "Is this Tom's? {Is}\n",
      "Is this yours? {Is}\n",
      "Isn't it cool? {Is}\n",
      "Isn't it cute? {Is}\n",
      "Isn't it hard? {Is}\n",
      "Isn't it hard? {Is}\n",
      "Isn't it nice? {Is}\n",
      "Isn't it true? {Is}\n",
      "Isn't it true? {Is}\n",
      "Isn't it true? {Is}\n",
      "Isn't that so? {Is}\n",
      "Isn't that so? {Is}\n",
      "It hurts here. {hurts}\n",
      "It is raining. {raining}\n",
      "It is snowing. {snowing}\n",
      "It isn't mine. {is}\n",
      "It isn't mine. {is}\n",
      "It might rain. {rain}\n",
      "It smells bad. {smells}\n",
      "It won't hurt. {hurt}\n",
      "It won't open. {open}\n",
      "It won't work. {work}\n",
      "It's 2:30 now. {'s}\n",
      "It's 8:00 p.m. {'s}\n",
      "It's a secret. {'s}\n",
      "It's all true. {'s}\n",
      "It's annoying. {'s}\n",
      "It's business. {'s}\n",
      "It's dark now. {'s}\n",
      "It's exciting. {'s}\n",
      "It's for free. {'s}\n",
      "It's for sale. {'s}\n",
      "It's freezing. {freezing}\n",
      "It's homemade. {'s}\n",
      "It's instinct. {'s}\n",
      "It's midnight. {'s}\n",
      "It's my money. {'s}\n",
      "It's my treat. {'s}\n",
      "It's my treat. {'s}\n",
      "It's not easy. {'s}\n",
      "It's not fair. {'s}\n",
      "It's not fair. {'s}\n",
      "It's not hard. {'s}\n",
      "It's not here. {'s}\n",
      "It's not mine. {'s}\n",
      "It's not true. {'s}\n",
      "It's not true. {'s}\n",
      "It's outdated. {'s}\n",
      "It's possible. {'s}\n",
      "It's possible. {'s}\n",
      "It's so quiet. {'s}\n",
      "It's so sweet. {'s}\n",
      "It's so weird. {'s}\n",
      "It's terrible. {'s}\n",
      "It's too easy. {'s}\n",
      "It's too hard. {'s}\n",
      "It's too late. {'s}\n",
      "It's too loud. {'s}\n",
      "It's too loud. {'s}\n",
      "It's unlikely. {'s}\n",
      "It's very new. {'s}\n"
     ]
    }
   ],
   "source": [
    "from spacy.tokens import Doc\n",
    "\n",
    "def get_verbs(doc):\n",
    "    verbs = set()\n",
    "    for possible_subject in doc:\n",
    "        if possible_subject.dep == nsubj and possible_subject.head.pos == VERB:\n",
    "            verbs.add(possible_subject.head)\n",
    "    return verbs\n",
    "        \n",
    "for lang in langs.langs:\n",
    "    doc=Doc(nlp.vocab).from_bytes(lang.store)\n",
    "    print(lang.entries[0], get_verbs(doc))"
   ]
  },
  {
   "cell_type": "code",
   "execution_count": 24,
   "metadata": {
    "ExecuteTime": {
     "end_time": "2019-05-29T00:52:44.661903Z",
     "start_time": "2019-05-29T00:52:44.466199Z"
    }
   },
   "outputs": [
    {
     "name": "stdout",
     "output_type": "stream",
     "text": [
      "I PRON nsubj\n",
      "am VERB ROOT\n",
      "a DET det\n",
      "student NOUN attr\n"
     ]
    },
    {
     "data": {
      "text/plain": [
       "{am}"
      ]
     },
     "execution_count": 24,
     "metadata": {},
     "output_type": "execute_result"
    }
   ],
   "source": [
    "import sagas.nlu.spacy_helper as sr\n",
    "\n",
    "sents='I am a student'\n",
    "doc=nlp(sents)\n",
    "for token in doc:\n",
    "    print(token.text, token.pos_, token.dep_)\n",
    "sr.get_verbs(doc)"
   ]
  }
 ],
 "metadata": {
  "kernelspec": {
   "display_name": "Python 3",
   "language": "python",
   "name": "python3"
  },
  "language_info": {
   "codemirror_mode": {
    "name": "ipython",
    "version": 3
   },
   "file_extension": ".py",
   "mimetype": "text/x-python",
   "name": "python",
   "nbconvert_exporter": "python",
   "pygments_lexer": "ipython3",
   "version": "3.6.4"
  },
  "varInspector": {
   "cols": {
    "lenName": 16,
    "lenType": 16,
    "lenVar": 40
   },
   "kernels_config": {
    "python": {
     "delete_cmd_postfix": "",
     "delete_cmd_prefix": "del ",
     "library": "var_list.py",
     "varRefreshCmd": "print(var_dic_list())"
    },
    "r": {
     "delete_cmd_postfix": ") ",
     "delete_cmd_prefix": "rm(",
     "library": "var_list.r",
     "varRefreshCmd": "cat(var_dic_list()) "
    }
   },
   "types_to_exclude": [
    "module",
    "function",
    "builtin_function_or_method",
    "instance",
    "_Feature"
   ],
   "window_display": false
  }
 },
 "nbformat": 4,
 "nbformat_minor": 2
}
