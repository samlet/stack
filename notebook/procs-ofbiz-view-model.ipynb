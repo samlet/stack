{
 "cells": [
  {
   "cell_type": "code",
   "execution_count": 1,
   "metadata": {
    "ExecuteTime": {
     "end_time": "2022-01-03T12:20:51.695073Z",
     "start_time": "2022-01-03T12:20:49.352182Z"
    }
   },
   "outputs": [
    {
     "name": "stdout",
     "output_type": "stream",
     "text": [
      "2022-01-03 20:20:51,673 - sagas.ofbiz.connector - INFO - connect to py4j-gateway localhost 22333\n"
     ]
    }
   ],
   "source": [
    "import json\n",
    "import os\n",
    "\n",
    "import io_utils\n",
    "from sagas.ofbiz.services import OfService as s, oc, search_service"
   ]
  },
  {
   "cell_type": "code",
   "execution_count": 2,
   "metadata": {
    "ExecuteTime": {
     "end_time": "2022-01-03T12:20:51.797606Z",
     "start_time": "2022-01-03T12:20:51.709611Z"
    }
   },
   "outputs": [
    {
     "data": {
      "text/plain": [
       "False"
      ]
     },
     "execution_count": 2,
     "metadata": {},
     "output_type": "execute_result"
    }
   ],
   "source": [
    "import sagas.ofbiz.entities as ee\n",
    "ent=ee.entity('Product')\n",
    "ent.is_view()"
   ]
  },
  {
   "cell_type": "code",
   "execution_count": 3,
   "metadata": {
    "ExecuteTime": {
     "end_time": "2022-01-03T12:20:51.819603Z",
     "start_time": "2022-01-03T12:20:51.803055Z"
    }
   },
   "outputs": [
    {
     "data": {
      "text/plain": [
       "True"
      ]
     },
     "execution_count": 3,
     "metadata": {},
     "output_type": "execute_result"
    }
   ],
   "source": [
    "# ent=ee.entity('BenefitTypeAndParty')\n",
    "# ent=ee.entity('AgreementItemAndPartyAppl')\n",
    "ent=ee.entity('AgreementContentAndInfo')\n",
    "ent.is_view()"
   ]
  },
  {
   "cell_type": "code",
   "execution_count": 4,
   "metadata": {
    "ExecuteTime": {
     "end_time": "2022-01-03T12:20:51.861040Z",
     "start_time": "2022-01-03T12:20:51.832396Z"
    }
   },
   "outputs": [
    {
     "data": {
      "text/plain": [
       "47"
      ]
     },
     "execution_count": 4,
     "metadata": {},
     "output_type": "execute_result"
    }
   ],
   "source": [
    "ent.model.getAliasesSize()"
   ]
  },
  {
   "cell_type": "code",
   "execution_count": 5,
   "metadata": {
    "ExecuteTime": {
     "end_time": "2022-01-03T12:20:51.907096Z",
     "start_time": "2022-01-03T12:20:51.880436Z"
    }
   },
   "outputs": [
    {
     "data": {
      "text/plain": [
       "('AgreementContent Content and DataResource View', 'None')"
      ]
     },
     "execution_count": 5,
     "metadata": {},
     "output_type": "execute_result"
    }
   ],
   "source": [
    "ent.model.getTitle(), ent.model.getDescription()"
   ]
  },
  {
   "cell_type": "code",
   "execution_count": 6,
   "metadata": {
    "ExecuteTime": {
     "end_time": "2022-01-03T12:20:51.963008Z",
     "start_time": "2022-01-03T12:20:51.942924Z"
    }
   },
   "outputs": [
    {
     "data": {
      "text/plain": [
       "'org.apache.ofbiz.accounting.invoice'"
      ]
     },
     "execution_count": 6,
     "metadata": {},
     "output_type": "execute_result"
    }
   ],
   "source": [
    "ent.model.getPackageName()"
   ]
  },
  {
   "cell_type": "code",
   "execution_count": 7,
   "metadata": {
    "ExecuteTime": {
     "end_time": "2022-01-03T12:20:51.999437Z",
     "start_time": "2022-01-03T12:20:51.976323Z"
    }
   },
   "outputs": [
    {
     "data": {
      "text/plain": [
       "[{'ent': 'AgreementContent', 'alias': 'AGC'},\n",
       " {'ent': 'Content', 'alias': 'CO'},\n",
       " {'ent': 'DataResource', 'alias': 'DR'}]"
      ]
     },
     "execution_count": 7,
     "metadata": {},
     "output_type": "execute_result"
    }
   ],
   "source": [
    "members=ent.model.getAllModelMemberEntities()\n",
    "[{'ent': ent.getEntityName(), 'alias': ent.getEntityAlias()} for ent in members]"
   ]
  },
  {
   "cell_type": "code",
   "execution_count": 8,
   "metadata": {
    "ExecuteTime": {
     "end_time": "2022-01-03T12:20:52.037807Z",
     "start_time": "2022-01-03T12:20:52.012332Z"
    }
   },
   "outputs": [
    {
     "data": {
      "text/plain": [
       "[{'ent': 'AGC', 'rel': 'CO', 'keymaps': [{'contentId': 'contentId'}]},\n",
       " {'ent': 'CO', 'rel': 'DR', 'keymaps': [{'dataResourceId': 'dataResourceId'}]}]"
      ]
     },
     "execution_count": 8,
     "metadata": {},
     "output_type": "execute_result"
    }
   ],
   "source": [
    "links=ent.model.getViewLinksCopy()\n",
    "[{'ent': link.getEntityAlias(), \n",
    " 'rel': link.getRelEntityAlias(),\n",
    " 'keymaps': [{ks.getFieldName():ks.getRelFieldName()} for ks in link.getKeyMapsCopy()],\n",
    " } for link in links]"
   ]
  },
  {
   "cell_type": "code",
   "execution_count": 9,
   "metadata": {
    "ExecuteTime": {
     "end_time": "2022-01-03T12:20:52.192911Z",
     "start_time": "2022-01-03T12:20:52.046037Z"
    }
   },
   "outputs": [
    {
     "data": {
      "text/plain": [
       "[{'name': 'fromDate',\n",
       "  'field': 'fromDate',\n",
       "  'entity_alias': 'AGC',\n",
       "  'col_alias': 'FROM_DATE',\n",
       "  'description': '',\n",
       "  'group_by': False,\n",
       "  'function': '',\n",
       "  'field_set': ''},\n",
       " {'name': 'agreementId',\n",
       "  'field': 'agreementId',\n",
       "  'entity_alias': 'AGC',\n",
       "  'col_alias': 'AGREEMENT_ID',\n",
       "  'description': '',\n",
       "  'group_by': False,\n",
       "  'function': '',\n",
       "  'field_set': ''},\n",
       " {'name': 'contentId',\n",
       "  'field': 'contentId',\n",
       "  'entity_alias': 'AGC',\n",
       "  'col_alias': 'CONTENT_ID',\n",
       "  'description': '',\n",
       "  'group_by': False,\n",
       "  'function': '',\n",
       "  'field_set': ''},\n",
       " {'name': 'agreementItemSeqId',\n",
       "  'field': 'agreementItemSeqId',\n",
       "  'entity_alias': 'AGC',\n",
       "  'col_alias': 'AGREEMENT_ITEM_SEQ_ID',\n",
       "  'description': '',\n",
       "  'group_by': False,\n",
       "  'function': '',\n",
       "  'field_set': ''},\n",
       " {'name': 'agreementContentTypeId',\n",
       "  'field': 'agreementContentTypeId',\n",
       "  'entity_alias': 'AGC',\n",
       "  'col_alias': 'AGREEMENT_CONTENT_TYPE_ID',\n",
       "  'description': '',\n",
       "  'group_by': False,\n",
       "  'function': '',\n",
       "  'field_set': ''},\n",
       " {'name': 'thruDate',\n",
       "  'field': 'thruDate',\n",
       "  'entity_alias': 'AGC',\n",
       "  'col_alias': 'THRU_DATE',\n",
       "  'description': '',\n",
       "  'group_by': False,\n",
       "  'function': '',\n",
       "  'field_set': ''},\n",
       " {'name': 'ownerContentId',\n",
       "  'field': 'ownerContentId',\n",
       "  'entity_alias': 'CO',\n",
       "  'col_alias': 'OWNER_CONTENT_ID',\n",
       "  'description': 'Used for permissions checking',\n",
       "  'group_by': False,\n",
       "  'function': '',\n",
       "  'field_set': ''},\n",
       " {'name': 'contentTypeId',\n",
       "  'field': 'contentTypeId',\n",
       "  'entity_alias': 'CO',\n",
       "  'col_alias': 'CONTENT_TYPE_ID',\n",
       "  'description': '',\n",
       "  'group_by': False,\n",
       "  'function': '',\n",
       "  'field_set': ''},\n",
       " {'name': 'description',\n",
       "  'field': 'description',\n",
       "  'entity_alias': 'CO',\n",
       "  'col_alias': 'DESCRIPTION',\n",
       "  'description': '',\n",
       "  'group_by': False,\n",
       "  'function': '',\n",
       "  'field_set': ''},\n",
       " {'name': 'mimeTypeId',\n",
       "  'field': 'mimeTypeId',\n",
       "  'entity_alias': 'CO',\n",
       "  'col_alias': 'MIME_TYPE_ID',\n",
       "  'description': '',\n",
       "  'group_by': False,\n",
       "  'function': '',\n",
       "  'field_set': ''},\n",
       " {'name': 'childLeafCount',\n",
       "  'field': 'childLeafCount',\n",
       "  'entity_alias': 'CO',\n",
       "  'col_alias': 'CHILD_LEAF_COUNT',\n",
       "  'description': '',\n",
       "  'group_by': False,\n",
       "  'function': '',\n",
       "  'field_set': ''},\n",
       " {'name': 'privilegeEnumId',\n",
       "  'field': 'privilegeEnumId',\n",
       "  'entity_alias': 'CO',\n",
       "  'col_alias': 'PRIVILEGE_ENUM_ID',\n",
       "  'description': '',\n",
       "  'group_by': False,\n",
       "  'function': '',\n",
       "  'field_set': ''},\n",
       " {'name': 'dataSourceId',\n",
       "  'field': 'dataSourceId',\n",
       "  'entity_alias': 'CO',\n",
       "  'col_alias': 'DATA_SOURCE_ID',\n",
       "  'description': '',\n",
       "  'group_by': False,\n",
       "  'function': '',\n",
       "  'field_set': ''},\n",
       " {'name': 'lastModifiedByUserLogin',\n",
       "  'field': 'lastModifiedByUserLogin',\n",
       "  'entity_alias': 'CO',\n",
       "  'col_alias': 'LAST_MODIFIED_BY_USER_LOGIN',\n",
       "  'description': '',\n",
       "  'group_by': False,\n",
       "  'function': '',\n",
       "  'field_set': ''},\n",
       " {'name': 'dataResourceId',\n",
       "  'field': 'dataResourceId',\n",
       "  'entity_alias': 'CO',\n",
       "  'col_alias': 'DATA_RESOURCE_ID',\n",
       "  'description': '',\n",
       "  'group_by': False,\n",
       "  'function': '',\n",
       "  'field_set': ''},\n",
       " {'name': 'createdByUserLogin',\n",
       "  'field': 'createdByUserLogin',\n",
       "  'entity_alias': 'CO',\n",
       "  'col_alias': 'CREATED_BY_USER_LOGIN',\n",
       "  'description': '',\n",
       "  'group_by': False,\n",
       "  'function': '',\n",
       "  'field_set': ''},\n",
       " {'name': 'templateDataResourceId',\n",
       "  'field': 'templateDataResourceId',\n",
       "  'entity_alias': 'CO',\n",
       "  'col_alias': 'TEMPLATE_DATA_RESOURCE_ID',\n",
       "  'description': '',\n",
       "  'group_by': False,\n",
       "  'function': '',\n",
       "  'field_set': ''},\n",
       " {'name': 'lastModifiedDate',\n",
       "  'field': 'lastModifiedDate',\n",
       "  'entity_alias': 'CO',\n",
       "  'col_alias': 'LAST_MODIFIED_DATE',\n",
       "  'description': '',\n",
       "  'group_by': False,\n",
       "  'function': '',\n",
       "  'field_set': ''},\n",
       " {'name': 'instanceOfContentId',\n",
       "  'field': 'instanceOfContentId',\n",
       "  'entity_alias': 'CO',\n",
       "  'col_alias': 'INSTANCE_OF_CONTENT_ID',\n",
       "  'description': '',\n",
       "  'group_by': False,\n",
       "  'function': '',\n",
       "  'field_set': ''},\n",
       " {'name': 'serviceName',\n",
       "  'field': 'serviceName',\n",
       "  'entity_alias': 'CO',\n",
       "  'col_alias': 'SERVICE_NAME',\n",
       "  'description': 'Deprecated : use customMethod pattern instead. Kept for backward compatibility',\n",
       "  'group_by': False,\n",
       "  'function': '',\n",
       "  'field_set': ''},\n",
       " {'name': 'customMethodId',\n",
       "  'field': 'customMethodId',\n",
       "  'entity_alias': 'CO',\n",
       "  'col_alias': 'CUSTOM_METHOD_ID',\n",
       "  'description': '',\n",
       "  'group_by': False,\n",
       "  'function': '',\n",
       "  'field_set': ''},\n",
       " {'name': 'characterSetId',\n",
       "  'field': 'characterSetId',\n",
       "  'entity_alias': 'CO',\n",
       "  'col_alias': 'CHARACTER_SET_ID',\n",
       "  'description': '',\n",
       "  'group_by': False,\n",
       "  'function': '',\n",
       "  'field_set': ''},\n",
       " {'name': 'contentName',\n",
       "  'field': 'contentName',\n",
       "  'entity_alias': 'CO',\n",
       "  'col_alias': 'CONTENT_NAME',\n",
       "  'description': '',\n",
       "  'group_by': False,\n",
       "  'function': '',\n",
       "  'field_set': ''},\n",
       " {'name': 'createdDate',\n",
       "  'field': 'createdDate',\n",
       "  'entity_alias': 'CO',\n",
       "  'col_alias': 'CREATED_DATE',\n",
       "  'description': '',\n",
       "  'group_by': False,\n",
       "  'function': '',\n",
       "  'field_set': ''},\n",
       " {'name': 'statusId',\n",
       "  'field': 'statusId',\n",
       "  'entity_alias': 'CO',\n",
       "  'col_alias': 'STATUS_ID',\n",
       "  'description': '',\n",
       "  'group_by': False,\n",
       "  'function': '',\n",
       "  'field_set': ''},\n",
       " {'name': 'localeString',\n",
       "  'field': 'localeString',\n",
       "  'entity_alias': 'CO',\n",
       "  'col_alias': 'LOCALE_STRING',\n",
       "  'description': '',\n",
       "  'group_by': False,\n",
       "  'function': '',\n",
       "  'field_set': ''},\n",
       " {'name': 'decoratorContentId',\n",
       "  'field': 'decoratorContentId',\n",
       "  'entity_alias': 'CO',\n",
       "  'col_alias': 'DECORATOR_CONTENT_ID',\n",
       "  'description': '',\n",
       "  'group_by': False,\n",
       "  'function': '',\n",
       "  'field_set': ''},\n",
       " {'name': 'childBranchCount',\n",
       "  'field': 'childBranchCount',\n",
       "  'entity_alias': 'CO',\n",
       "  'col_alias': 'CHILD_BRANCH_COUNT',\n",
       "  'description': '',\n",
       "  'group_by': False,\n",
       "  'function': '',\n",
       "  'field_set': ''},\n",
       " {'name': 'drDataResourceName',\n",
       "  'field': 'dataResourceName',\n",
       "  'entity_alias': 'DR',\n",
       "  'col_alias': 'DR_DATA_RESOURCE_NAME',\n",
       "  'description': '',\n",
       "  'group_by': False,\n",
       "  'function': '',\n",
       "  'field_set': ''},\n",
       " {'name': 'drSurveyId',\n",
       "  'field': 'surveyId',\n",
       "  'entity_alias': 'DR',\n",
       "  'col_alias': 'DR_SURVEY_ID',\n",
       "  'description': '',\n",
       "  'group_by': False,\n",
       "  'function': '',\n",
       "  'field_set': ''},\n",
       " {'name': 'drDataTemplateTypeId',\n",
       "  'field': 'dataTemplateTypeId',\n",
       "  'entity_alias': 'DR',\n",
       "  'col_alias': 'DR_DATA_TEMPLATE_TYPE_ID',\n",
       "  'description': '',\n",
       "  'group_by': False,\n",
       "  'function': '',\n",
       "  'field_set': ''},\n",
       " {'name': 'drLastModifiedDate',\n",
       "  'field': 'lastModifiedDate',\n",
       "  'entity_alias': 'DR',\n",
       "  'col_alias': 'DR_LAST_MODIFIED_DATE',\n",
       "  'description': '',\n",
       "  'group_by': False,\n",
       "  'function': '',\n",
       "  'field_set': ''},\n",
       " {'name': 'drMimeTypeId',\n",
       "  'field': 'mimeTypeId',\n",
       "  'entity_alias': 'DR',\n",
       "  'col_alias': 'DR_MIME_TYPE_ID',\n",
       "  'description': '',\n",
       "  'group_by': False,\n",
       "  'function': '',\n",
       "  'field_set': ''},\n",
       " {'name': 'drDataCategoryId',\n",
       "  'field': 'dataCategoryId',\n",
       "  'entity_alias': 'DR',\n",
       "  'col_alias': 'DR_DATA_CATEGORY_ID',\n",
       "  'description': '',\n",
       "  'group_by': False,\n",
       "  'function': '',\n",
       "  'field_set': ''},\n",
       " {'name': 'drSurveyResponseId',\n",
       "  'field': 'surveyResponseId',\n",
       "  'entity_alias': 'DR',\n",
       "  'col_alias': 'DR_SURVEY_RESPONSE_ID',\n",
       "  'description': '',\n",
       "  'group_by': False,\n",
       "  'function': '',\n",
       "  'field_set': ''},\n",
       " {'name': 'drCharacterSetId',\n",
       "  'field': 'characterSetId',\n",
       "  'entity_alias': 'DR',\n",
       "  'col_alias': 'DR_CHARACTER_SET_ID',\n",
       "  'description': '',\n",
       "  'group_by': False,\n",
       "  'function': '',\n",
       "  'field_set': ''},\n",
       " {'name': 'drDataSourceId',\n",
       "  'field': 'dataSourceId',\n",
       "  'entity_alias': 'DR',\n",
       "  'col_alias': 'DR_DATA_SOURCE_ID',\n",
       "  'description': '',\n",
       "  'group_by': False,\n",
       "  'function': '',\n",
       "  'field_set': ''},\n",
       " {'name': 'drLastModifiedByUserLogin',\n",
       "  'field': 'lastModifiedByUserLogin',\n",
       "  'entity_alias': 'DR',\n",
       "  'col_alias': 'DR_LAST_MODIFIED_BY_USER_LOGIN',\n",
       "  'description': '',\n",
       "  'group_by': False,\n",
       "  'function': '',\n",
       "  'field_set': ''},\n",
       " {'name': 'drCreatedDate',\n",
       "  'field': 'createdDate',\n",
       "  'entity_alias': 'DR',\n",
       "  'col_alias': 'DR_CREATED_DATE',\n",
       "  'description': '',\n",
       "  'group_by': False,\n",
       "  'function': '',\n",
       "  'field_set': ''},\n",
       " {'name': 'drStatusId',\n",
       "  'field': 'statusId',\n",
       "  'entity_alias': 'DR',\n",
       "  'col_alias': 'DR_STATUS_ID',\n",
       "  'description': '',\n",
       "  'group_by': False,\n",
       "  'function': '',\n",
       "  'field_set': ''},\n",
       " {'name': 'drLocaleString',\n",
       "  'field': 'localeString',\n",
       "  'entity_alias': 'DR',\n",
       "  'col_alias': 'DR_LOCALE_STRING',\n",
       "  'description': '',\n",
       "  'group_by': False,\n",
       "  'function': '',\n",
       "  'field_set': ''},\n",
       " {'name': 'drRelatedDetailId',\n",
       "  'field': 'relatedDetailId',\n",
       "  'entity_alias': 'DR',\n",
       "  'col_alias': 'DR_RELATED_DETAIL_ID',\n",
       "  'description': 'Depending on the dataResourceTypeId this can point to other entities, like: Survey, SurveyResponse, etc.',\n",
       "  'group_by': False,\n",
       "  'function': '',\n",
       "  'field_set': ''},\n",
       " {'name': 'drDataResourceId',\n",
       "  'field': 'dataResourceId',\n",
       "  'entity_alias': 'DR',\n",
       "  'col_alias': 'DR_DATA_RESOURCE_ID',\n",
       "  'description': '',\n",
       "  'group_by': False,\n",
       "  'function': '',\n",
       "  'field_set': ''},\n",
       " {'name': 'drIsPublic',\n",
       "  'field': 'isPublic',\n",
       "  'entity_alias': 'DR',\n",
       "  'col_alias': 'DR_IS_PUBLIC',\n",
       "  'description': 'If this is set to Y then anyone can download it, otherwise the download is restricted.',\n",
       "  'group_by': False,\n",
       "  'function': '',\n",
       "  'field_set': ''},\n",
       " {'name': 'drObjectInfo',\n",
       "  'field': 'objectInfo',\n",
       "  'entity_alias': 'DR',\n",
       "  'col_alias': 'DR_OBJECT_INFO',\n",
       "  'description': 'For Short Text the text goes here.',\n",
       "  'group_by': False,\n",
       "  'function': '',\n",
       "  'field_set': ''},\n",
       " {'name': 'drDataResourceTypeId',\n",
       "  'field': 'dataResourceTypeId',\n",
       "  'entity_alias': 'DR',\n",
       "  'col_alias': 'DR_DATA_RESOURCE_TYPE_ID',\n",
       "  'description': '',\n",
       "  'group_by': False,\n",
       "  'function': '',\n",
       "  'field_set': ''},\n",
       " {'name': 'drCreatedByUserLogin',\n",
       "  'field': 'createdByUserLogin',\n",
       "  'entity_alias': 'DR',\n",
       "  'col_alias': 'DR_CREATED_BY_USER_LOGIN',\n",
       "  'description': '',\n",
       "  'group_by': False,\n",
       "  'function': '',\n",
       "  'field_set': ''}]"
      ]
     },
     "execution_count": 9,
     "metadata": {},
     "output_type": "execute_result"
    }
   ],
   "source": [
    "aliases=ent.model.getAliasesCopy()\n",
    "[{'name': a.getName(), \n",
    "  'field': a.getField(),\n",
    "  'entity_alias': a.getEntityAlias(),\n",
    "  'col_alias': a.getColAlias(),\n",
    "  'description': a.getDescription(),\n",
    "  'group_by': a.getGroupBy(),\n",
    "  'function': a.getFunction(),\n",
    "  'field_set': a.getFieldSet(),\n",
    " } for a in aliases]"
   ]
  },
  {
   "cell_type": "code",
   "execution_count": 17,
   "metadata": {
    "ExecuteTime": {
     "end_time": "2022-01-03T12:26:10.758612Z",
     "start_time": "2022-01-03T12:26:10.698179Z"
    }
   },
   "outputs": [
    {
     "data": {
      "text/plain": [
       "[{'name': 'ElectronicText',\n",
       "  'title': '',\n",
       "  'rel_entity_name': 'ElectronicText',\n",
       "  'type': 'one-nofk',\n",
       "  'fkName': '',\n",
       "  'keymaps': [{'field_name': 'dataResourceId',\n",
       "    'rel_field_name': 'dataResourceId'}]},\n",
       " {'name': 'ImageDataResource',\n",
       "  'title': '',\n",
       "  'rel_entity_name': 'ImageDataResource',\n",
       "  'type': 'one-nofk',\n",
       "  'fkName': '',\n",
       "  'keymaps': [{'field_name': 'dataResourceId',\n",
       "    'rel_field_name': 'dataResourceId'}]},\n",
       " {'name': 'OtherDataResource',\n",
       "  'title': '',\n",
       "  'rel_entity_name': 'OtherDataResource',\n",
       "  'type': 'one-nofk',\n",
       "  'fkName': '',\n",
       "  'keymaps': [{'field_name': 'dataResourceId',\n",
       "    'rel_field_name': 'dataResourceId'}]},\n",
       " {'name': 'ContentAssocDataResourceViewFrom',\n",
       "  'title': '',\n",
       "  'rel_entity_name': 'ContentAssocDataResourceViewFrom',\n",
       "  'type': 'many',\n",
       "  'fkName': '',\n",
       "  'keymaps': [{'field_name': 'contentId',\n",
       "    'rel_field_name': 'contentIdStart'}]},\n",
       " {'name': 'ContentAssocDataResourceViewTo',\n",
       "  'title': '',\n",
       "  'rel_entity_name': 'ContentAssocDataResourceViewTo',\n",
       "  'type': 'many',\n",
       "  'fkName': '',\n",
       "  'keymaps': [{'field_name': 'contentId',\n",
       "    'rel_field_name': 'contentIdStart'}]}]"
      ]
     },
     "execution_count": 17,
     "metadata": {},
     "output_type": "execute_result"
    }
   ],
   "source": [
    "rels=ent.model.getRelations()\n",
    "[{'name': rel.getCombinedName(),\n",
    " 'title': rel.getTitle(), \n",
    "  'rel_entity_name': rel.getRelEntityName(),\n",
    "  'type': rel.getType(),\n",
    "  'fkName': rel.getFkName(),\n",
    "  'keymaps': [{'field_name': ks.getFieldName(),\n",
    "              'rel_field_name': ks.getRelFieldName()} for ks in rel.getKeyMaps()],\n",
    " } for rel in rels]"
   ]
  }
 ],
 "metadata": {
  "kernelspec": {
   "display_name": "Python 3",
   "language": "python",
   "name": "python3"
  },
  "language_info": {
   "codemirror_mode": {
    "name": "ipython",
    "version": 3
   },
   "file_extension": ".py",
   "mimetype": "text/x-python",
   "name": "python",
   "nbconvert_exporter": "python",
   "pygments_lexer": "ipython3",
   "version": "3.7.7"
  },
  "varInspector": {
   "cols": {
    "lenName": 16,
    "lenType": 16,
    "lenVar": 40
   },
   "kernels_config": {
    "python": {
     "delete_cmd_postfix": "",
     "delete_cmd_prefix": "del ",
     "library": "var_list.py",
     "varRefreshCmd": "print(var_dic_list())"
    },
    "r": {
     "delete_cmd_postfix": ") ",
     "delete_cmd_prefix": "rm(",
     "library": "var_list.r",
     "varRefreshCmd": "cat(var_dic_list()) "
    }
   },
   "types_to_exclude": [
    "module",
    "function",
    "builtin_function_or_method",
    "instance",
    "_Feature"
   ],
   "window_display": false
  }
 },
 "nbformat": 4,
 "nbformat_minor": 4
}
