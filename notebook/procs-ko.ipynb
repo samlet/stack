{
 "cells": [
  {
   "cell_type": "code",
   "execution_count": 3,
   "metadata": {
    "ExecuteTime": {
     "end_time": "2019-07-11T18:33:59.150692Z",
     "start_time": "2019-07-11T18:33:59.143241Z"
    }
   },
   "outputs": [
    {
     "name": "stdout",
     "output_type": "stream",
     "text": [
      "['지금은', '전', '세계가', '한', '마을이', '되었다']\n"
     ]
    }
   ],
   "source": [
    "text='지금은 전 세계가 한 마을이 되었다'\n",
    "sents=text.split(' ')\n",
    "print(sents)"
   ]
  },
  {
   "cell_type": "code",
   "execution_count": 4,
   "metadata": {
    "ExecuteTime": {
     "end_time": "2019-07-11T18:34:02.372659Z",
     "start_time": "2019-07-11T18:34:01.049723Z"
    }
   },
   "outputs": [
    {
     "name": "stdout",
     "output_type": "stream",
     "text": [
      "Now the whole world has become a village.\n",
      "[]\n"
     ]
    }
   ],
   "source": [
    "from sagas.nlu.google_translator import translate\n",
    "source='ko'\n",
    "target='en'\n",
    "verbose=False\n",
    "res,t = translate(text, source=source, target=target,\n",
    "                        trans_verbose=verbose)\n",
    "print(res)\n",
    "print(t)"
   ]
  },
  {
   "cell_type": "code",
   "execution_count": 29,
   "metadata": {
    "ExecuteTime": {
     "end_time": "2019-07-11T19:45:59.003481Z",
     "start_time": "2019-07-11T19:45:58.985110Z"
    }
   },
   "outputs": [
    {
     "name": "stdout",
     "output_type": "stream",
     "text": [
      "{'en_US': 'com.apple.speech.synthesis.voice.Victoria', 'it_IT': 'com.apple.speech.synthesis.voice.luca', 'sv_SE': 'com.apple.speech.synthesis.voice.alva', 'fr_CA': 'com.apple.speech.synthesis.voice.amelie', 'de_DE': 'com.apple.speech.synthesis.voice.anna', 'he_IL': 'com.apple.speech.synthesis.voice.carmit', 'id_ID': 'com.apple.speech.synthesis.voice.damayanti', 'en_GB': 'com.apple.speech.synthesis.voice.daniel', 'es_AR': 'com.apple.speech.synthesis.voice.diego', 'nl_BE': 'com.apple.speech.synthesis.voice.ellen', 'en-scotland': 'com.apple.speech.synthesis.voice.fiona', 'ro_RO': 'com.apple.speech.synthesis.voice.ioana', 'pt_PT': 'com.apple.speech.synthesis.voice.joana', 'es_ES': 'com.apple.speech.synthesis.voice.monica', 'es_MX': 'com.apple.speech.synthesis.voice.paulina', 'th_TH': 'com.apple.speech.synthesis.voice.kanya', 'en_AU': 'com.apple.speech.synthesis.voice.karen', 'ja_JP': 'com.apple.speech.synthesis.voice.kyoko', 'sk_SK': 'com.apple.speech.synthesis.voice.laura', 'hi_IN': 'com.apple.speech.synthesis.voice.lekha', 'pt_BR': 'com.apple.speech.synthesis.voice.luciana', 'ar_SA': 'com.apple.speech.synthesis.voice.maged', 'hu_HU': 'com.apple.speech.synthesis.voice.mariska', 'zh_TW': 'com.apple.speech.synthesis.voice.mei-jia', 'el_GR': 'com.apple.speech.synthesis.voice.melina', 'ru_RU': 'com.apple.speech.synthesis.voice.yuri', 'en_IE': 'com.apple.speech.synthesis.voice.moira', 'nb_NO': 'com.apple.speech.synthesis.voice.nora', 'da_DK': 'com.apple.speech.synthesis.voice.sara', 'fi_FI': 'com.apple.speech.synthesis.voice.satu', 'zh_HK': 'com.apple.speech.synthesis.voice.sin-ji', 'en_ZA': 'com.apple.speech.synthesis.voice.tessa', 'fr_FR': 'com.apple.speech.synthesis.voice.thomas', 'zh_CN': 'com.apple.speech.synthesis.voice.ting-ting.premium', 'en_IN': 'com.apple.speech.synthesis.voice.veena', 'nl_NL': 'com.apple.speech.synthesis.voice.xander', 'tr_TR': 'com.apple.speech.synthesis.voice.yelda', 'ko_KR': 'com.apple.speech.synthesis.voice.yuna', 'pl_PL': 'com.apple.speech.synthesis.voice.zosia', 'cs_CZ': 'com.apple.speech.synthesis.voice.zuzana'}\n"
     ]
    }
   ],
   "source": [
    "import pyttsx3\n",
    "engine = pyttsx3.init()\n",
    "voices = engine.getProperty('voices')       #getting details of current voice\n",
    "langs=[v.languages[0] for v in voices]\n",
    "ids=[v.id for v in voices]\n",
    "langs_map=dict(zip(langs,ids))\n",
    "print(langs_map)"
   ]
  },
  {
   "cell_type": "code",
   "execution_count": 38,
   "metadata": {
    "ExecuteTime": {
     "end_time": "2019-07-11T19:52:59.762668Z",
     "start_time": "2019-07-11T19:52:56.646912Z"
    }
   },
   "outputs": [],
   "source": [
    "def say_in(sents, lang, rate=200):\n",
    "    engine.setProperty('rate', rate)     # setting up new voice rate\n",
    "    engine.setProperty('voice', langs_map[lang])\n",
    "    engine.say(sents)\n",
    "    engine.runAndWait()\n",
    "say_in('지금은 전 세계가 한 마을이 되었다', 'ko_KR', 150)"
   ]
  },
  {
   "cell_type": "code",
   "execution_count": 39,
   "metadata": {
    "ExecuteTime": {
     "end_time": "2019-07-11T19:53:13.871468Z",
     "start_time": "2019-07-11T19:53:10.755742Z"
    }
   },
   "outputs": [],
   "source": [
    "say_in('지금은 전 세계가 한 마을이 되었다', 'ko_KR', 200)"
   ]
  },
  {
   "cell_type": "code",
   "execution_count": 32,
   "metadata": {
    "ExecuteTime": {
     "end_time": "2019-07-11T19:47:18.043162Z",
     "start_time": "2019-07-11T19:47:18.036513Z"
    }
   },
   "outputs": [
    {
     "name": "stdout",
     "output_type": "stream",
     "text": [
      "200.0\n"
     ]
    }
   ],
   "source": [
    "rate = engine.getProperty('rate')   # getting details of current speaking rate\n",
    "print (rate)                        #printing current voice rate"
   ]
  },
  {
   "cell_type": "code",
   "execution_count": 34,
   "metadata": {
    "ExecuteTime": {
     "end_time": "2019-07-11T19:48:24.019985Z",
     "start_time": "2019-07-11T19:48:24.015885Z"
    }
   },
   "outputs": [],
   "source": [
    "engine.setProperty('rate', 125)     # setting up new voice rate"
   ]
  },
  {
   "cell_type": "code",
   "execution_count": 21,
   "metadata": {
    "ExecuteTime": {
     "end_time": "2019-07-11T19:41:08.012199Z",
     "start_time": "2019-07-11T19:41:04.866650Z"
    }
   },
   "outputs": [],
   "source": [
    "import pyttsx3\n",
    "engine = pyttsx3.init()\n",
    "engine.say(\"I will speak this text\")\n",
    "engine.runAndWait()"
   ]
  },
  {
   "cell_type": "code",
   "execution_count": 45,
   "metadata": {
    "ExecuteTime": {
     "end_time": "2019-07-11T20:06:42.918472Z",
     "start_time": "2019-07-11T20:06:36.701046Z"
    }
   },
   "outputs": [
    {
     "name": "stdout",
     "output_type": "stream",
     "text": [
      "✁ 지금은 전 세계가 한 마을이 되었다(现在整个世界都变成了一个村庄。 ❣ jigeum-eun jeon segyega han ma-eul-i doeeossda)\n",
      "지금은(现在, jigeum-eun) 전(的, jeon) 세계가(世界, segyega) 한(一, han) 마을이(镇, ma-eul-i) 되었다(是的, doeeossda) .\n",
      "speak language with ko ...\n",
      "done.\n"
     ]
    }
   ],
   "source": [
    "import time\n",
    "from sagas.nlu.nlu_tools import NluTools\n",
    "def process(source, target, text, ips_idx=1):\n",
    "    options=set(['get_pronounce'])\n",
    "    # options.add('get_pronounce')\n",
    "    res,t = translate(text, source=source, target=target,\n",
    "                      trans_verbose=verbose, options=options)\n",
    "    # print(res, text, t[ips_idx])\n",
    "    print('✁', '%s(%s %s)'%(text, res, t[ips_idx]))\n",
    "    for sent in text.split(' '):\n",
    "        res,t = translate(sent, source=source, target=target,\n",
    "                          trans_verbose=verbose, options=options)\n",
    "        # print(res, sent, t[ips_idx])\n",
    "        print('%s(%s,%s)'%(sent,res,t[ips_idx][1:]), end =\" \")\n",
    "        time.sleep(0.05)\n",
    "    print('.')\n",
    "\n",
    "text='지금은 전 세계가 한 마을이 되었다'\n",
    "target='zh-CN'\n",
    "process('ko', target, text)\n",
    "NluTools().say(text, 'ko')"
   ]
  },
  {
   "cell_type": "code",
   "execution_count": 53,
   "metadata": {
    "ExecuteTime": {
     "end_time": "2019-07-11T22:29:29.145896Z",
     "start_time": "2019-07-11T22:29:23.470443Z"
    }
   },
   "outputs": [
    {
     "name": "stdout",
     "output_type": "stream",
     "text": [
      "✁ 유전이 발견되었죠.(发现了油田。 ❣ yujeon-i balgyeondoeeossjyo.)\n",
      "유전이(遗传, yujeon-i) 발견되었죠.(它成为发现。, balgyeondoeeossjyo.) .\n",
      "speak language with ko ...\n",
      "done.\n"
     ]
    }
   ],
   "source": [
    "def analyse_ko(text):\n",
    "    target='zh-CN'\n",
    "    process('ko', target, text)\n",
    "    NluTools().say(text, 'ko')\n",
    "analyse_ko('유전이 발견되었죠.')"
   ]
  },
  {
   "cell_type": "code",
   "execution_count": 57,
   "metadata": {
    "ExecuteTime": {
     "end_time": "2019-07-12T00:06:32.798485Z",
     "start_time": "2019-07-12T00:06:32.794161Z"
    }
   },
   "outputs": [],
   "source": [
    "# def analyse_ar(text):\n",
    "#     target='zh-CN'\n",
    "#     process('ar', target, text, 0)\n",
    "#     NluTools().say(text, 'ar')\n",
    "# analyse_ko('مع جور هوبيمان,ايمر كامينيكا, وي جانج')"
   ]
  },
  {
   "cell_type": "code",
   "execution_count": 54,
   "metadata": {
    "ExecuteTime": {
     "end_time": "2019-07-11T22:33:24.697142Z",
     "start_time": "2019-07-11T22:33:17.406094Z"
    },
    "collapsed": true
   },
   "outputs": [
    {
     "name": "stdout",
     "output_type": "stream",
     "text": [
      "✁ 그렇게 큰 규모는 아니었습니다.(它不是那么大。 ❣ geuleohge keun gyumoneun anieossseubnida.)\n",
      "그렇게(所以, geuleohge) 큰(伟大, keun) 규모는(规模, gyumoneun) 아니었습니다.(事实并非如此。, anieossseubnida.) .\n",
      "speak language with ko ...\n",
      "done.\n"
     ]
    }
   ],
   "source": [
    "analyse_ko('그렇게 큰 규모는 아니었습니다.')"
   ]
  },
  {
   "cell_type": "code",
   "execution_count": 46,
   "metadata": {
    "ExecuteTime": {
     "end_time": "2019-07-11T20:06:52.096086Z",
     "start_time": "2019-07-11T20:06:45.019968Z"
    },
    "collapsed": true
   },
   "outputs": [
    {
     "name": "stdout",
     "output_type": "stream",
     "text": [
      "✔ 이제 전 세계가 마을이되었습니다.\n",
      "✁ 이제 전 세계가 마을이되었습니다.(现在整个世界都变成了一个村庄。 ❣ ije jeon segyega ma-eul-idoeeossseubnida.)\n",
      "이제(现在, ije) 전(的, jeon) 세계가(世界, segyega) 마을이되었습니다.(我成了一个小镇。, ma-eul-idoeeossseubnida.) .\n",
      "speak language with ko ...\n",
      "done.\n"
     ]
    }
   ],
   "source": [
    "def analyse(sents_zh):\n",
    "    # translate from chinese to korea\n",
    "    sents_ko,_ = translate(sents_zh, source='zh-CN', target='ko')\n",
    "    print('✔', sents_ko)\n",
    "    process('ko', 'zh-CN', sents_ko)\n",
    "    NluTools().say(sents_ko, 'ko')\n",
    "\n",
    "analyse('现在整个世界都变成了一个村庄。')"
   ]
  },
  {
   "cell_type": "code",
   "execution_count": 10,
   "metadata": {
    "ExecuteTime": {
     "end_time": "2019-07-11T18:47:46.317055Z",
     "start_time": "2019-07-11T18:47:43.883918Z"
    }
   },
   "outputs": [
    {
     "name": "stdout",
     "output_type": "stream",
     "text": [
      "이제 세계는 지구촌이되었습니다. 现在，全世界变成了一个地球村。 []\n",
      "이제 세계는 지구촌이되었습니다. 现在，全世界变成了一个地球村。 []\n"
     ]
    }
   ],
   "source": [
    "process('zh-CN', 'ko', '现在，全世界变成了一个地球村。')"
   ]
  },
  {
   "cell_type": "code",
   "execution_count": 12,
   "metadata": {
    "ExecuteTime": {
     "end_time": "2019-07-11T18:49:43.702110Z",
     "start_time": "2019-07-11T18:49:41.269932Z"
    }
   },
   "outputs": [
    {
     "name": "stdout",
     "output_type": "stream",
     "text": [
      "저는 학생입니다 I am a student []\n",
      "나는 I []\n",
      "오전 am []\n",
      "에이 a []\n",
      "학생 student []\n"
     ]
    }
   ],
   "source": [
    "process('en', 'ko', 'I am a student')"
   ]
  },
  {
   "cell_type": "code",
   "execution_count": 51,
   "metadata": {
    "ExecuteTime": {
     "end_time": "2019-07-11T21:39:05.963665Z",
     "start_time": "2019-07-11T21:39:02.566057Z"
    }
   },
   "outputs": [
    {
     "name": "stdout",
     "output_type": "stream",
     "text": [
      "74148582\n"
     ]
    }
   ],
   "source": [
    "def read_csv(file):\n",
    "    import pandas as pd\n",
    "    df = pd.read_csv(file, \n",
    "                     compression='xz')\n",
    "    df.head()\n",
    "\n",
    "def read_text_file(file):\n",
    "    import lzma\n",
    "    with lzma.open(file) as f:\n",
    "        file_content = f.read()\n",
    "        return file_content.decode('utf-8')\n",
    "file='/pi/ai/ko/full_train.csv.xz'\n",
    "r=read_text_file(file)\n",
    "print(len(r))"
   ]
  },
  {
   "cell_type": "code",
   "execution_count": 52,
   "metadata": {
    "ExecuteTime": {
     "end_time": "2019-07-11T21:39:08.777735Z",
     "start_time": "2019-07-11T21:39:08.770027Z"
    }
   },
   "outputs": [
    {
     "data": {
      "text/plain": [
       "'\"5\",\"````````````````````````````````````````\",\"\"\\n\"3\",\"``^^사용해봐아겟네요...\",\"\"\\n\"4\",\"``\",\"괜찮네요~ 깔끔하고ㅇ\"\\n\"2'"
      ]
     },
     "execution_count": 52,
     "metadata": {},
     "output_type": "execute_result"
    }
   ],
   "source": [
    "r[:100]"
   ]
  },
  {
   "cell_type": "code",
   "execution_count": 3,
   "metadata": {
    "ExecuteTime": {
     "end_time": "2019-07-29T16:24:04.153474Z",
     "start_time": "2019-07-29T16:24:03.638789Z"
    }
   },
   "outputs": [
    {
     "name": "stdout",
     "output_type": "stream",
     "text": [
      "text: 이제 \tlemma: 이제\tupos: ADV\txpos: mag\n",
      "text: 세계는 \tlemma: 세계+는\tupos: NOUN\txpos: ncn+jxt\n",
      "text: 지구촌이되었습니다. \tlemma: 지구+살이+다는가+이+었+다\tupos: VERB\txpos: ncpa+xsv+ep+ef\n",
      "('이제', '2', 'advmod')\n",
      "('세계는', '0', 'root')\n",
      "('지구촌이되었습니다.', '2', 'conj')\n"
     ]
    },
    {
     "data": {
      "image/svg+xml": [
       "<?xml version=\"1.0\" encoding=\"UTF-8\" standalone=\"no\"?>\n",
       "<!DOCTYPE svg PUBLIC \"-//W3C//DTD SVG 1.1//EN\"\n",
       " \"http://www.w3.org/Graphics/SVG/1.1/DTD/svg11.dtd\">\n",
       "<!-- Generated by graphviz version 2.40.1 (20161225.0304)\n",
       " -->\n",
       "<!-- Title: deps Pages: 1 -->\n",
       "<svg width=\"576pt\" height=\"89pt\"\n",
       " viewBox=\"0.00 0.00 576.00 89.10\" xmlns=\"http://www.w3.org/2000/svg\" xmlns:xlink=\"http://www.w3.org/1999/xlink\">\n",
       "<g id=\"graph0\" class=\"graph\" transform=\"scale(.6558 .6558) rotate(0) translate(4 131.8715)\">\n",
       "<title>deps</title>\n",
       "<polygon fill=\"#ffffff\" stroke=\"transparent\" points=\"-4,4 -4,-131.8715 874.3576,-131.8715 874.3576,4 -4,4\"/>\n",
       "<!-- 이제\n",
       "(now, ije) -->\n",
       "<g id=\"node1\" class=\"node\">\n",
       "<title>이제\n",
       "(now, ije)</title>\n",
       "<ellipse fill=\"none\" stroke=\"#000000\" cx=\"591.0421\" cy=\"-100.4358\" rx=\"50.8621\" ry=\"27.3717\"/>\n",
       "<text text-anchor=\"middle\" x=\"591.0421\" y=\"-104.6358\" font-family=\"Calibri\" font-size=\"14.00\" fill=\"#000000\">이제</text>\n",
       "<text text-anchor=\"middle\" x=\"591.0421\" y=\"-87.8358\" font-family=\"Calibri\" font-size=\"14.00\" fill=\"#000000\">(now, ije)</text>\n",
       "</g>\n",
       "<!-- 세계는\n",
       "(The world, segyeneun) -->\n",
       "<g id=\"node2\" class=\"node\">\n",
       "<title>세계는\n",
       "(The world, segyeneun)</title>\n",
       "<ellipse fill=\"none\" stroke=\"#000000\" cx=\"115.3116\" cy=\"-63.4358\" rx=\"115.1235\" ry=\"27.3717\"/>\n",
       "<text text-anchor=\"middle\" x=\"115.3116\" y=\"-67.6358\" font-family=\"Calibri\" font-size=\"14.00\" fill=\"#000000\">세계는</text>\n",
       "<text text-anchor=\"middle\" x=\"115.3116\" y=\"-50.8358\" font-family=\"Calibri\" font-size=\"14.00\" fill=\"#000000\">(The world, segyeneun)</text>\n",
       "</g>\n",
       "<!-- 세계는\n",
       "(The world, segyeneun)&#45;&gt;이제\n",
       "(now, ije) -->\n",
       "<g id=\"edge1\" class=\"edge\">\n",
       "<title>세계는\n",
       "(The world, segyeneun)&#45;&gt;이제\n",
       "(now, ije)</title>\n",
       "<path fill=\"none\" stroke=\"#000000\" d=\"M225.0511,-71.9708C319.9857,-79.3543 453.7314,-89.7564 530.4911,-95.7264\"/>\n",
       "<polygon fill=\"#000000\" stroke=\"#000000\" points=\"530.2356,-99.217 540.4769,-96.5031 530.7785,-92.2381 530.2356,-99.217\"/>\n",
       "<text text-anchor=\"middle\" x=\"271.1749\" y=\"-80.2358\" font-family=\"Times,serif\" font-size=\"14.00\" fill=\"#000000\">advmod</text>\n",
       "</g>\n",
       "<!-- 지구촌이되었습니다.\n",
       "(It has become a global village., jiguchon&#45;idoeeossseubnida.) -->\n",
       "<g id=\"node3\" class=\"node\">\n",
       "<title>지구촌이되었습니다.\n",
       "(It has become a global village., jiguchon&#45;idoeeossseubnida.)</title>\n",
       "<ellipse fill=\"none\" stroke=\"#000000\" cx=\"591.0421\" cy=\"-27.4358\" rx=\"279.1311\" ry=\"27.3717\"/>\n",
       "<text text-anchor=\"middle\" x=\"591.0421\" y=\"-31.6358\" font-family=\"Calibri\" font-size=\"14.00\" fill=\"#000000\">지구촌이되었습니다.</text>\n",
       "<text text-anchor=\"middle\" x=\"591.0421\" y=\"-14.8358\" font-family=\"Calibri\" font-size=\"14.00\" fill=\"#000000\">(It has become a global village., jiguchon&#45;idoeeossseubnida.)</text>\n",
       "</g>\n",
       "<!-- 세계는\n",
       "(The world, segyeneun)&#45;&gt;지구촌이되었습니다.\n",
       "(It has become a global village., jiguchon&#45;idoeeossseubnida.) -->\n",
       "<g id=\"edge3\" class=\"edge\">\n",
       "<title>세계는\n",
       "(The world, segyeneun)&#45;&gt;지구촌이되었습니다.\n",
       "(It has become a global village., jiguchon&#45;idoeeossseubnida.)</title>\n",
       "<path fill=\"none\" stroke=\"#000000\" d=\"M225.3502,-55.1088C265.5766,-52.0647 312.7415,-48.4956 359.5753,-44.9516\"/>\n",
       "<polygon fill=\"#000000\" stroke=\"#000000\" points=\"359.8542,-48.4406 369.5615,-44.1959 359.3259,-41.4605 359.8542,-48.4406\"/>\n",
       "<text text-anchor=\"middle\" x=\"271.1749\" y=\"-56.2358\" font-family=\"Times,serif\" font-size=\"14.00\" fill=\"#000000\">conj</text>\n",
       "</g>\n",
       "<!-- 지구촌이되었습니다.\n",
       "(It has become a global village., jiguchon&#45;idoeeossseubnida.)&#45;&gt;세계는\n",
       "(The world, segyeneun) -->\n",
       "<g id=\"edge2\" class=\"edge\">\n",
       "<title>지구촌이되었습니다.\n",
       "(It has become a global village., jiguchon&#45;idoeeossseubnida.)&#45;&gt;세계는\n",
       "(The world, segyeneun)</title>\n",
       "<path fill=\"none\" stroke=\"#000000\" d=\"M319.585,-20.8642C295.5341,-22.2674 271.6065,-24.3871 248.6232,-27.4358 230.5764,-29.8296 211.5061,-33.9709 193.6073,-38.6123\"/>\n",
       "<polygon fill=\"#000000\" stroke=\"#000000\" points=\"192.5549,-35.2707 183.798,-41.2344 194.3626,-42.0332 192.5549,-35.2707\"/>\n",
       "<text text-anchor=\"middle\" x=\"271.1749\" y=\"-30.2358\" font-family=\"Times,serif\" font-size=\"14.00\" fill=\"#000000\">root</text>\n",
       "</g>\n",
       "</g>\n",
       "</svg>\n"
      ],
      "text/plain": [
       "<graphviz.dot.Digraph at 0x11c763e48>"
      ]
     },
     "execution_count": 3,
     "metadata": {},
     "output_type": "execute_result"
    }
   ],
   "source": [
    "from sagas.nlu.corenlp_helper import LangDialect as dia\n",
    "dia('ko').ana('이제 세계는 지구촌이되었습니다.')  # with word translation"
   ]
  },
  {
   "cell_type": "code",
   "execution_count": 2,
   "metadata": {
    "ExecuteTime": {
     "end_time": "2019-10-03T09:22:09.169743Z",
     "start_time": "2019-10-03T09:22:08.558931Z"
    }
   },
   "outputs": [
    {
     "name": "stdout",
     "output_type": "stream",
     "text": [
      "Booking a flight to Athens, I would like to table.\n",
      "♡ a-te-ne-haeng bi-haeng-gi pyo-reur ye-mae-ha-go sip-eo-yo.\n",
      "text: 아테네행 \tlemma: 아테네행\tupos: NOUN\txpos: ncn\n",
      "text: 비행기 \tlemma: 비행기\tupos: NOUN\txpos: ncn\n",
      "text: 표를 \tlemma: 표+를\tupos: NOUN\txpos: ncn+jco\n",
      "text: 예매하고 \tlemma: 예매+하+고\tupos: VERB\txpos: ncpa+xsv+ecx\n",
      "text: 싶어요. \tlemma: 싶어요.\tupos: AUX\txpos: px+ef\n",
      "('아테네행', '2', 'compound')\n",
      "('비행기', '3', 'compound')\n",
      "('표를', '4', 'obj')\n",
      "('예매하고', '0', 'root')\n",
      "('싶어요.', '4', 'punct')\n"
     ]
    },
    {
     "data": {
      "image/svg+xml": [
       "<?xml version=\"1.0\" encoding=\"UTF-8\" standalone=\"no\"?>\n",
       "<!DOCTYPE svg PUBLIC \"-//W3C//DTD SVG 1.1//EN\"\n",
       " \"http://www.w3.org/Graphics/SVG/1.1/DTD/svg11.dtd\">\n",
       "<!-- Generated by graphviz version 2.40.1 (20161225.0304)\n",
       " -->\n",
       "<!-- Title: deps Pages: 1 -->\n",
       "<svg width=\"576pt\" height=\"56pt\"\n",
       " viewBox=\"0.00 0.00 576.00 55.73\" xmlns=\"http://www.w3.org/2000/svg\" xmlns:xlink=\"http://www.w3.org/1999/xlink\">\n",
       "<g id=\"graph0\" class=\"graph\" transform=\"scale(.4101 .4101) rotate(0) translate(4 131.8903)\">\n",
       "<title>deps</title>\n",
       "<polygon fill=\"#ffffff\" stroke=\"transparent\" points=\"-4,4 -4,-131.8903 1400.4631,-131.8903 1400.4631,4 -4,4\"/>\n",
       "<!-- 아테네행\n",
       "(Athens, a&#45;te&#45;ne&#45;haeng) -->\n",
       "<g id=\"node1\" class=\"node\">\n",
       "<title>아테네행\n",
       "(Athens, a&#45;te&#45;ne&#45;haeng)</title>\n",
       "<polygon fill=\"none\" stroke=\"#000000\" points=\"1283.9552,-73.1298 1291.5497,-73.2797 1299.0656,-73.5041 1306.4722,-73.8024 1313.7397,-74.1737 1320.8388,-74.6169 1327.7414,-75.131 1334.4209,-75.7145 1340.8517,-76.3657 1347.01,-77.083 1352.8736,-77.8642 1358.4221,-78.7074 1363.6371,-79.6102 1368.5019,-80.57 1373.0022,-81.5844 1377.1257,-82.6504 1380.862,-83.7652 1384.2033,-84.9257 1387.1437,-86.1288 1389.6793,-87.3711 1391.8086,-88.6492 1393.5319,-89.9597 1394.8517,-91.2989 1395.7722,-92.6632 1396.2996,-94.0488 1396.4414,-95.4519 1396.2072,-96.8688 1395.6075,-98.2954 1394.6546,-99.7279 1393.3614,-101.1624 1391.7422,-102.5949 1389.8121,-104.0216 1387.5866,-105.4384 1385.082,-106.8415 1382.3149,-108.2271 1379.302,-109.5914 1376.0602,-110.9306 1372.6063,-112.2411 1368.9568,-113.5192 1365.128,-114.7616 1361.1358,-115.9646 1356.9953,-117.1251 1352.7212,-118.2399 1348.3274,-119.306 1343.8271,-120.3203 1339.2326,-121.2802 1334.5554,-122.1829 1329.8061,-123.0261 1324.9944,-123.8074 1320.1292,-124.5246 1315.2186,-125.1759 1310.2697,-125.7593 1305.2891,-126.2734 1300.2824,-126.7167 1295.2547,-127.088 1290.2108,-127.3862 1285.1546,-127.6106 1280.0899,-127.7605 1275.0203,-127.8356 1269.9491,-127.8356 1264.8795,-127.7605 1259.8148,-127.6106 1254.7587,-127.3862 1249.7147,-127.088 1244.6871,-126.7167 1239.6804,-126.2734 1234.6997,-125.7593 1229.7508,-125.1759 1224.8402,-124.5246 1219.975,-123.8074 1215.1634,-123.0261 1210.4141,-122.1829 1205.7369,-121.2802 1201.1424,-120.3203 1196.6421,-119.306 1192.2483,-118.2399 1187.9742,-117.1251 1183.8337,-115.9646 1179.8414,-114.7616 1176.0126,-113.5192 1172.3631,-112.2411 1168.9092,-110.9306 1165.6674,-109.5914 1162.6545,-108.2271 1159.8874,-106.8415 1157.3828,-105.4384 1155.1573,-104.0216 1153.2272,-102.5949 1151.608,-101.1624 1150.3149,-99.7279 1149.3619,-98.2954 1148.7622,-96.8688 1148.528,-95.4519 1148.6699,-94.0488 1149.1972,-92.6632 1150.1177,-91.2989 1151.4375,-89.9597 1153.1609,-88.6492 1155.2901,-87.3711 1157.8258,-86.1288 1160.7661,-84.9257 1164.1074,-83.7652 1167.8438,-82.6504 1171.9672,-81.5844 1176.4675,-80.57 1181.3324,-79.6102 1186.5473,-78.7074 1192.0958,-77.8642 1197.9594,-77.083 1204.1177,-76.3657 1210.5485,-75.7145 1217.228,-75.131 1224.1307,-74.6169 1231.2297,-74.1737 1238.4972,-73.8024 1245.9039,-73.5041 1253.4198,-73.2797 1261.0142,-73.1298 1268.6559,-73.0547 1276.3135,-73.0547 1283.9552,-73.1298\"/>\n",
       "<text text-anchor=\"middle\" x=\"1272.4847\" y=\"-104.6452\" font-family=\"Calibri\" font-size=\"14.00\" fill=\"#000000\">아테네행</text>\n",
       "<text text-anchor=\"middle\" x=\"1272.4847\" y=\"-87.8452\" font-family=\"Calibri\" font-size=\"14.00\" fill=\"#000000\">(Athens, a&#45;te&#45;ne&#45;haeng)</text>\n",
       "</g>\n",
       "<!-- 비행기\n",
       "(airplane, bi&#45;haeng&#45;gi) -->\n",
       "<g id=\"node2\" class=\"node\">\n",
       "<title>비행기\n",
       "(airplane, bi&#45;haeng&#45;gi)</title>\n",
       "<polygon fill=\"none\" stroke=\"#000000\" points=\"948.8928,-73.1298 955.9613,-73.2797 962.9568,-73.5041 969.8505,-73.8024 976.6147,-74.1737 983.2222,-74.6169 989.6468,-75.131 995.8637,-75.7145 1001.8492,-76.3657 1007.5811,-77.083 1013.0386,-77.8642 1018.2029,-78.7074 1023.0567,-79.6102 1027.5846,-80.57 1031.7733,-81.5844 1035.6112,-82.6504 1039.0888,-83.7652 1042.1987,-84.9257 1044.9355,-86.1288 1047.2955,-87.3711 1049.2773,-88.6492 1050.8813,-89.9597 1052.1097,-91.2989 1052.9665,-92.6632 1053.4573,-94.0488 1053.5894,-95.4519 1053.3713,-96.8688 1052.8132,-98.2954 1051.9262,-99.7279 1050.7226,-101.1624 1049.2156,-102.5949 1047.4191,-104.0216 1045.3477,-105.4384 1043.0166,-106.8415 1040.4411,-108.2271 1037.6368,-109.5914 1034.6195,-110.9306 1031.4048,-112.2411 1028.008,-113.5192 1024.4444,-114.7616 1020.7286,-115.9646 1016.8748,-117.1251 1012.8967,-118.2399 1008.8072,-119.306 1004.6185,-120.3203 1000.3422,-121.2802 995.9889,-122.1829 991.5685,-123.0261 987.09,-123.8074 982.5618,-124.5246 977.9912,-125.1759 973.385,-125.7593 968.7493,-126.2734 964.0893,-126.7167 959.4098,-127.088 954.7151,-127.3862 950.0091,-127.6106 945.2952,-127.7605 940.5767,-127.8356 935.8566,-127.8356 931.1381,-127.7605 926.4241,-127.6106 921.7181,-127.3862 917.0234,-127.088 912.344,-126.7167 907.684,-126.2734 903.0482,-125.7593 898.442,-125.1759 893.8715,-124.5246 889.3432,-123.8074 884.8648,-123.0261 880.4444,-122.1829 876.0911,-121.2802 871.8147,-120.3203 867.6261,-119.306 863.5366,-118.2399 859.5584,-117.1251 855.7046,-115.9646 851.9888,-114.7616 848.4252,-113.5192 845.0285,-112.2411 841.8137,-110.9306 838.7964,-109.5914 835.9922,-108.2271 833.4167,-106.8415 831.0855,-105.4384 829.0142,-104.0216 827.2177,-102.5949 825.7106,-101.1624 824.507,-99.7279 823.62,-98.2954 823.0619,-96.8688 822.8439,-95.4519 822.976,-94.0488 823.4668,-92.6632 824.3235,-91.2989 825.5519,-89.9597 827.1559,-88.6492 829.1378,-87.3711 831.4978,-86.1288 834.2345,-84.9257 837.3444,-83.7652 840.8221,-82.6504 844.6599,-81.5844 848.8486,-80.57 853.3766,-79.6102 858.2304,-78.7074 863.3946,-77.8642 868.8522,-77.083 874.584,-76.3657 880.5695,-75.7145 886.7864,-75.131 893.2111,-74.6169 899.8186,-74.1737 906.5827,-73.8024 913.4765,-73.5041 920.4719,-73.2797 927.5404,-73.1298 934.653,-73.0547 941.7803,-73.0547 948.8928,-73.1298\"/>\n",
       "<text text-anchor=\"middle\" x=\"938.2166\" y=\"-104.6452\" font-family=\"Calibri\" font-size=\"14.00\" fill=\"#000000\">비행기</text>\n",
       "<text text-anchor=\"middle\" x=\"938.2166\" y=\"-87.8452\" font-family=\"Calibri\" font-size=\"14.00\" fill=\"#000000\">(airplane, bi&#45;haeng&#45;gi)</text>\n",
       "</g>\n",
       "<!-- 비행기\n",
       "(airplane, bi&#45;haeng&#45;gi)&#45;&gt;아테네행\n",
       "(Athens, a&#45;te&#45;ne&#45;haeng) -->\n",
       "<g id=\"edge1\" class=\"edge\">\n",
       "<title>비행기\n",
       "(airplane, bi&#45;haeng&#45;gi)&#45;&gt;아테네행\n",
       "(Athens, a&#45;te&#45;ne&#45;haeng)</title>\n",
       "<path fill=\"none\" stroke=\"#000000\" d=\"M1051.3846,-100.4452C1080.0175,-100.4452 1111.0177,-100.4452 1140.4909,-100.4452\"/>\n",
       "<polygon fill=\"#000000\" stroke=\"#000000\" points=\"1140.8459,-103.9453 1150.8459,-100.4452 1140.8459,-96.9453 1140.8459,-103.9453\"/>\n",
       "<text text-anchor=\"middle\" x=\"1100.9546\" y=\"-103.2452\" font-family=\"Times,serif\" font-size=\"14.00\" fill=\"#000000\">compound</text>\n",
       "</g>\n",
       "<!-- 표를\n",
       "(The Table, pyo&#45;reur) -->\n",
       "<g id=\"node3\" class=\"node\">\n",
       "<title>표를\n",
       "(The Table, pyo&#45;reur)</title>\n",
       "<polygon fill=\"none\" stroke=\"#000000\" points=\"627.8185,-73.1298 634.5635,-73.2797 641.2387,-73.5041 647.817,-73.8024 654.2716,-74.1737 660.5766,-74.6169 666.7073,-75.131 672.6396,-75.7145 678.3512,-76.3657 683.8207,-77.083 689.0284,-77.8642 693.9564,-78.7074 698.588,-79.6102 702.9087,-80.57 706.9057,-81.5844 710.5679,-82.6504 713.8864,-83.7652 716.854,-84.9257 719.4654,-86.1288 721.7174,-87.3711 723.6086,-88.6492 725.1392,-89.9597 726.3113,-91.2989 727.1289,-92.6632 727.5972,-94.0488 727.7232,-95.4519 727.5152,-96.8688 726.9826,-98.2954 726.1362,-99.7279 724.9877,-101.1624 723.5497,-102.5949 721.8354,-104.0216 719.8588,-105.4384 717.6344,-106.8415 715.1767,-108.2271 712.5008,-109.5914 709.6216,-110.9306 706.554,-112.2411 703.3127,-113.5192 699.9122,-114.7616 696.3665,-115.9646 692.6891,-117.1251 688.893,-118.2399 684.9907,-119.306 680.9937,-120.3203 676.9131,-121.2802 672.7591,-122.1829 668.541,-123.0261 664.2675,-123.8074 659.9465,-124.5246 655.5851,-125.1759 651.1898,-125.7593 646.7662,-126.2734 642.3194,-126.7167 637.8541,-127.088 633.3743,-127.3862 628.8837,-127.6106 624.3855,-127.7605 619.8829,-127.8356 615.3789,-127.8356 610.8763,-127.7605 606.3782,-127.6106 601.8875,-127.3862 597.4077,-127.088 592.9424,-126.7167 588.4957,-126.2734 584.0721,-125.7593 579.6768,-125.1759 575.3154,-124.5246 570.9944,-123.8074 566.7209,-123.0261 562.5028,-122.1829 558.3487,-121.2802 554.2681,-120.3203 550.2712,-119.306 546.3688,-118.2399 542.5728,-117.1251 538.8954,-115.9646 535.3496,-114.7616 531.9491,-113.5192 528.7078,-112.2411 525.6402,-110.9306 522.761,-109.5914 520.0851,-108.2271 517.6275,-106.8415 515.403,-105.4384 513.4265,-104.0216 511.7122,-102.5949 510.2741,-101.1624 509.1256,-99.7279 508.2792,-98.2954 507.7467,-96.8688 507.5386,-95.4519 507.6646,-94.0488 508.133,-92.6632 508.9505,-91.2989 510.1227,-89.9597 511.6533,-88.6492 513.5444,-87.3711 515.7964,-86.1288 518.4079,-84.9257 521.3755,-83.7652 524.6939,-82.6504 528.3562,-81.5844 532.3531,-80.57 536.6738,-79.6102 541.3055,-78.7074 546.2334,-77.8642 551.4412,-77.083 556.9107,-76.3657 562.6222,-75.7145 568.5546,-75.131 574.6852,-74.6169 580.9903,-74.1737 587.4449,-73.8024 594.0231,-73.5041 600.6984,-73.2797 607.4434,-73.1298 614.2304,-73.0547 621.0315,-73.0547 627.8185,-73.1298\"/>\n",
       "<text text-anchor=\"middle\" x=\"617.6309\" y=\"-104.6452\" font-family=\"Calibri\" font-size=\"14.00\" fill=\"#000000\">표를</text>\n",
       "<text text-anchor=\"middle\" x=\"617.6309\" y=\"-87.8452\" font-family=\"Calibri\" font-size=\"14.00\" fill=\"#000000\">(The Table, pyo&#45;reur)</text>\n",
       "</g>\n",
       "<!-- 표를\n",
       "(The Table, pyo&#45;reur)&#45;&gt;비행기\n",
       "(airplane, bi&#45;haeng&#45;gi) -->\n",
       "<g id=\"edge2\" class=\"edge\">\n",
       "<title>표를\n",
       "(The Table, pyo&#45;reur)&#45;&gt;비행기\n",
       "(airplane, bi&#45;haeng&#45;gi)</title>\n",
       "<path fill=\"none\" stroke=\"#000000\" d=\"M725.7197,-100.4452C754.2568,-100.4452 785.272,-100.4452 814.5626,-100.4452\"/>\n",
       "<polygon fill=\"#000000\" stroke=\"#000000\" points=\"814.8443,-103.9453 824.8443,-100.4452 814.8442,-96.9453 814.8443,-103.9453\"/>\n",
       "<text text-anchor=\"middle\" x=\"775.4787\" y=\"-103.2452\" font-family=\"Times,serif\" font-size=\"14.00\" fill=\"#000000\">compound</text>\n",
       "</g>\n",
       "<!-- 예매하고\n",
       "(Ticketing and, ye&#45;mae&#45;ha&#45;go) -->\n",
       "<g id=\"node4\" class=\"node\">\n",
       "<title>예매하고\n",
       "(Ticketing and, ye&#45;mae&#45;ha&#45;go)</title>\n",
       "<polygon fill=\"none\" stroke=\"#000000\" points=\"301.4939,-18.1298 310.852,-18.2797 320.1134,-18.5041 329.2402,-18.8024 338.1954,-19.1737 346.9431,-19.6169 355.4489,-20.131 363.6795,-20.7145 371.6038,-21.3657 379.1923,-22.083 386.4177,-22.8642 393.2548,-23.7074 399.6808,-24.6102 405.6754,-25.57 411.2209,-26.5844 416.3019,-27.6504 420.906,-28.7652 425.0233,-29.9257 428.6465,-31.1288 431.771,-32.3711 434.3947,-33.6492 436.5183,-34.9597 438.1446,-36.2989 439.2789,-37.6632 439.9287,-39.0488 440.1035,-40.4519 439.8149,-41.8688 439.076,-43.2954 437.9017,-44.7279 436.3082,-46.1624 434.313,-47.5949 431.9346,-49.0216 429.1923,-50.4384 426.1061,-51.8415 422.6963,-53.2271 418.9837,-54.5914 414.989,-55.9306 410.733,-57.2411 406.236,-58.5192 401.518,-59.7616 396.5986,-60.9646 391.4965,-62.1251 386.2298,-63.2399 380.8156,-64.306 375.2702,-65.3203 369.6086,-66.2802 363.8452,-67.1829 357.993,-68.0261 352.0639,-68.8074 346.0688,-69.5246 340.0178,-70.1759 333.9196,-70.7593 327.7822,-71.2734 321.6128,-71.7167 315.4175,-72.088 309.2022,-72.3862 302.9717,-72.6106 296.7309,-72.7605 290.484,-72.8356 284.235,-72.8356 277.988,-72.7605 271.7472,-72.6106 265.5168,-72.3862 259.3014,-72.088 253.1062,-71.7167 246.9367,-71.2734 240.7993,-70.7593 234.7012,-70.1759 228.6501,-69.5246 222.6551,-68.8074 216.726,-68.0261 210.8737,-67.1829 205.1103,-66.2802 199.4488,-65.3203 193.9033,-64.306 188.4891,-63.2399 183.2224,-62.1251 178.1204,-60.9646 173.2009,-59.7616 168.483,-58.5192 163.9859,-57.2411 159.7299,-55.9306 155.7352,-54.5914 152.0226,-53.2271 148.6129,-51.8415 145.5266,-50.4384 142.7843,-49.0216 140.4059,-47.5949 138.4107,-46.1624 136.8173,-44.7279 135.6429,-43.2954 134.9041,-41.8688 134.6154,-40.4519 134.7902,-39.0488 135.44,-37.6632 136.5743,-36.2989 138.2006,-34.9597 140.3242,-33.6492 142.948,-32.3711 146.0725,-31.1288 149.6956,-29.9257 153.8129,-28.7652 158.417,-27.6504 163.4981,-26.5844 169.0435,-25.57 175.0381,-24.6102 181.4642,-23.7074 188.3013,-22.8642 195.5266,-22.083 203.1151,-21.3657 211.0394,-20.7145 219.2701,-20.131 227.7758,-19.6169 236.5236,-19.1737 245.4788,-18.8024 254.6056,-18.5041 263.8669,-18.2797 273.2251,-18.1298 282.6415,-18.0547 292.0774,-18.0547 301.4939,-18.1298\"/>\n",
       "<text text-anchor=\"middle\" x=\"287.3595\" y=\"-49.6452\" font-family=\"Calibri\" font-size=\"14.00\" fill=\"#000000\">예매하고</text>\n",
       "<text text-anchor=\"middle\" x=\"287.3595\" y=\"-32.8452\" font-family=\"Calibri\" font-size=\"14.00\" fill=\"#000000\">(Ticketing and, ye&#45;mae&#45;ha&#45;go)</text>\n",
       "</g>\n",
       "<!-- 예매하고\n",
       "(Ticketing and, ye&#45;mae&#45;ha&#45;go)&#45;&gt;표를\n",
       "(The Table, pyo&#45;reur) -->\n",
       "<g id=\"edge3\" class=\"edge\">\n",
       "<title>예매하고\n",
       "(Ticketing and, ye&#45;mae&#45;ha&#45;go)&#45;&gt;표를\n",
       "(The Table, pyo&#45;reur)</title>\n",
       "<path fill=\"none\" stroke=\"#000000\" d=\"M390.049,-62.546C428.1169,-68.8855 471.3769,-76.0895 509.8828,-82.5019\"/>\n",
       "<polygon fill=\"#000000\" stroke=\"#000000\" points=\"509.6456,-86.0105 520.0847,-84.2008 510.7955,-79.1056 509.6456,-86.0105\"/>\n",
       "<text text-anchor=\"middle\" x=\"473.7832\" y=\"-81.2452\" font-family=\"Times,serif\" font-size=\"14.00\" fill=\"#000000\">obj</text>\n",
       "</g>\n",
       "<!-- 싶어요.\n",
       "(want., sip&#45;eo&#45;yo.) -->\n",
       "<g id=\"node5\" class=\"node\">\n",
       "<title>싶어요.\n",
       "(want., sip&#45;eo&#45;yo.)</title>\n",
       "<polygon fill=\"none\" stroke=\"#000000\" points=\"626.5446,-.1298 632.4461,-.2797 638.2867,-.5041 644.0424,-.8024 649.6898,-1.1737 655.2065,-1.6169 660.5705,-2.131 665.761,-2.7145 670.7584,-3.3657 675.5439,-4.083 680.1005,-4.8642 684.4122,-5.7074 688.4647,-6.6102 692.2451,-7.57 695.7422,-8.5844 698.9465,-9.6504 701.85,-10.7652 704.4465,-11.9257 706.7314,-13.1288 708.7018,-14.3711 710.3565,-15.6492 711.6957,-16.9597 712.7213,-18.2989 713.4366,-19.6632 713.8464,-21.0488 713.9567,-22.4519 713.7746,-23.8688 713.3086,-25.2954 712.5681,-26.7279 711.5632,-28.1624 710.305,-29.5949 708.8051,-31.0216 707.0757,-32.4384 705.1294,-33.8415 702.979,-35.2271 700.6378,-36.5914 698.1186,-37.9306 695.4346,-39.2411 692.5986,-40.5192 689.6233,-41.7616 686.5209,-42.9646 683.3034,-44.1251 679.982,-45.2399 676.5676,-46.306 673.0705,-47.3203 669.5001,-48.2802 665.8655,-49.1829 662.1749,-50.0261 658.4358,-50.8074 654.6551,-51.5246 650.8391,-52.1759 646.9934,-52.7593 643.1229,-53.2734 639.2322,-53.7167 635.3253,-54.088 631.4057,-54.3862 627.4766,-54.6106 623.5409,-54.7605 619.6013,-54.8356 615.6605,-54.8356 611.721,-54.7605 607.7853,-54.6106 603.8562,-54.3862 599.9365,-54.088 596.0296,-53.7167 592.1389,-53.2734 588.2685,-52.7593 584.4228,-52.1759 580.6068,-51.5246 576.8261,-50.8074 573.087,-50.0261 569.3964,-49.1829 565.7617,-48.2802 562.1914,-47.3203 558.6942,-46.306 555.2799,-45.2399 551.9585,-44.1251 548.7409,-42.9646 545.6386,-41.7616 542.6633,-40.5192 539.8273,-39.2411 537.1433,-37.9306 534.6241,-36.5914 532.2828,-35.2271 530.1325,-33.8415 528.1862,-32.4384 526.4568,-31.0216 524.9569,-29.5949 523.6987,-28.1624 522.6938,-26.7279 521.9532,-25.2954 521.4872,-23.8688 521.3052,-22.4519 521.4155,-21.0488 521.8252,-19.6632 522.5406,-18.2989 523.5662,-16.9597 524.9054,-15.6492 526.56,-14.3711 528.5304,-13.1288 530.8153,-11.9257 533.4118,-10.7652 536.3153,-9.6504 539.5196,-8.5844 543.0168,-7.57 546.7972,-6.6102 550.8497,-5.7074 555.1614,-4.8642 559.7179,-4.083 564.5035,-3.3657 569.5008,-2.7145 574.6914,-2.131 580.0554,-1.6169 585.572,-1.1737 591.2195,-.8024 596.9752,-.5041 602.8157,-.2797 608.7173,-.1298 614.6556,-.0547 620.6062,-.0547 626.5446,-.1298\"/>\n",
       "<text text-anchor=\"middle\" x=\"617.6309\" y=\"-31.6452\" font-family=\"Calibri\" font-size=\"14.00\" fill=\"#000000\">싶어요.</text>\n",
       "<text text-anchor=\"middle\" x=\"617.6309\" y=\"-14.8452\" font-family=\"Calibri\" font-size=\"14.00\" fill=\"#000000\">(want., sip&#45;eo&#45;yo.)</text>\n",
       "</g>\n",
       "<!-- 예매하고\n",
       "(Ticketing and, ye&#45;mae&#45;ha&#45;go)&#45;&gt;싶어요.\n",
       "(want., sip&#45;eo&#45;yo.) -->\n",
       "<g id=\"edge5\" class=\"edge\">\n",
       "<title>예매하고\n",
       "(Ticketing and, ye&#45;mae&#45;ha&#45;go)&#45;&gt;싶어요.\n",
       "(want., sip&#45;eo&#45;yo.)</title>\n",
       "<path fill=\"none\" stroke=\"#000000\" d=\"M438.9624,-37.1827C465.6408,-35.7287 492.7934,-34.2489 517.61,-32.8964\"/>\n",
       "<polygon fill=\"#000000\" stroke=\"#000000\" points=\"517.9324,-36.3841 527.7271,-32.345 517.5514,-29.3945 517.9324,-36.3841\"/>\n",
       "<text text-anchor=\"middle\" x=\"473.7832\" y=\"-39.2452\" font-family=\"Times,serif\" font-size=\"14.00\" fill=\"#000000\">punct</text>\n",
       "</g>\n",
       "<!-- ROOT -->\n",
       "<g id=\"node6\" class=\"node\">\n",
       "<title>ROOT</title>\n",
       "<polygon fill=\"none\" stroke=\"#000000\" points=\"41.4783,-27.4945 43.8025,-27.593 46.1027,-27.7405 48.3694,-27.9365 50.5936,-28.1805 52.7662,-28.4718 54.8787,-28.8096 56.9228,-29.1931 58.8909,-29.621 60.7756,-30.0924 62.5701,-30.6058 64.2682,-31.1599 65.8642,-31.7532 67.353,-32.384 68.7303,-33.0505 69.9922,-33.7511 71.1357,-34.4837 72.1583,-35.2464 73.0581,-36.037 73.8341,-36.8534 74.4858,-37.6933 75.0132,-38.5545 75.4171,-39.4346 75.6988,-40.3311 75.8602,-41.2417 75.9036,-42.1638 75.8319,-43.0949 75.6484,-44.0324 75.3568,-44.9738 74.961,-45.9165 74.4655,-46.8579 73.8748,-47.7954 73.1937,-48.7265 72.4272,-49.6486 71.5803,-50.5592 70.6583,-51.4558 69.6661,-52.3358 68.6091,-53.197 67.4922,-54.037 66.3205,-54.8534 65.0987,-55.644 63.8315,-56.4066 62.5235,-57.1392 61.1788,-57.8398 59.8015,-58.5064 58.3954,-59.1372 56.964,-59.7304 55.5105,-60.2845 54.0379,-60.798 52.549,-61.2693 51.0462,-61.6973 49.5316,-62.0807 48.0073,-62.4185 46.4751,-62.7098 44.9364,-62.9538 43.3928,-63.1498 41.8454,-63.2973 40.2954,-63.3958 38.7439,-63.4452 37.1919,-63.4452 35.6404,-63.3958 34.0904,-63.2973 32.543,-63.1498 30.9993,-62.9538 29.4607,-62.7098 27.9284,-62.4185 26.4041,-62.0807 24.8896,-61.6973 23.3867,-61.2693 21.8978,-60.798 20.4252,-60.2845 18.9717,-59.7304 17.5403,-59.1372 16.1342,-58.5064 14.757,-57.8398 13.4123,-57.1392 12.1042,-56.4066 10.8371,-55.644 9.6153,-54.8534 8.4435,-54.037 7.3266,-53.197 6.2696,-52.3358 5.2775,-51.4558 4.3554,-50.5592 3.5085,-49.6486 2.742,-48.7265 2.061,-47.7954 1.4702,-46.8579 .9747,-45.9165 .579,-44.9738 .2873,-44.0324 .1038,-43.0949 .0321,-42.1638 .0755,-41.2417 .2369,-40.3311 .5186,-39.4346 .9225,-38.5545 1.45,-37.6933 2.1016,-36.8534 2.8776,-36.037 3.7775,-35.2464 4.8,-34.4837 5.9435,-33.7511 7.2055,-33.0505 8.5827,-32.384 10.0716,-31.7532 11.6675,-31.1599 13.3656,-30.6058 15.1601,-30.0924 17.0448,-29.621 19.0129,-29.1931 21.0571,-28.8096 23.1696,-28.4718 25.3422,-28.1805 27.5663,-27.9365 29.8331,-27.7405 32.1332,-27.593 34.4574,-27.4945 36.7961,-27.4452 39.1396,-27.4452 41.4783,-27.4945\"/>\n",
       "<text text-anchor=\"middle\" x=\"37.9679\" y=\"-41.2452\" font-family=\"Calibri\" font-size=\"14.00\" fill=\"#000000\">ROOT</text>\n",
       "</g>\n",
       "<!-- ROOT&#45;&gt;예매하고\n",
       "(Ticketing and, ye&#45;mae&#45;ha&#45;go) -->\n",
       "<g id=\"edge4\" class=\"edge\">\n",
       "<title>ROOT&#45;&gt;예매하고\n",
       "(Ticketing and, ye&#45;mae&#45;ha&#45;go)</title>\n",
       "<path fill=\"none\" stroke=\"#000000\" d=\"M75.3043,-45.4452C90.0577,-45.4452 108.0898,-45.4452 127.3466,-45.4452\"/>\n",
       "<polygon fill=\"#000000\" stroke=\"#000000\" points=\"127.5175,-48.9453 137.5174,-45.4452 127.5174,-41.9453 127.5175,-48.9453\"/>\n",
       "<text text-anchor=\"middle\" x=\"105.2116\" y=\"-48.2452\" font-family=\"Times,serif\" font-size=\"14.00\" fill=\"#000000\">root</text>\n",
       "</g>\n",
       "</g>\n",
       "</svg>\n"
      ],
      "text/plain": [
       "<graphviz.dot.Digraph at 0x125994c50>"
      ]
     },
     "execution_count": 2,
     "metadata": {},
     "output_type": "execute_result"
    }
   ],
   "source": [
    "chunk='''我 要 订 到雅典 机票 。\n",
    "아테네행 비행기 표를 예매하고 싶어요.\n",
    "atenehaeng bihaeng-gi pyoleul yemaehago sip-eoyo.\n",
    "'''.split('\\n')\n",
    "import sagas\n",
    "ko=lambda s: sagas.dia('ko', local_translit=True).ana(s)\n",
    "ko(chunk[1])"
   ]
  }
 ],
 "metadata": {
  "kernelspec": {
   "display_name": "Python 3",
   "language": "python",
   "name": "python3"
  },
  "language_info": {
   "codemirror_mode": {
    "name": "ipython",
    "version": 3
   },
   "file_extension": ".py",
   "mimetype": "text/x-python",
   "name": "python",
   "nbconvert_exporter": "python",
   "pygments_lexer": "ipython3",
   "version": "3.6.9"
  },
  "varInspector": {
   "cols": {
    "lenName": 16,
    "lenType": 16,
    "lenVar": 40
   },
   "kernels_config": {
    "python": {
     "delete_cmd_postfix": "",
     "delete_cmd_prefix": "del ",
     "library": "var_list.py",
     "varRefreshCmd": "print(var_dic_list())"
    },
    "r": {
     "delete_cmd_postfix": ") ",
     "delete_cmd_prefix": "rm(",
     "library": "var_list.r",
     "varRefreshCmd": "cat(var_dic_list()) "
    }
   },
   "types_to_exclude": [
    "module",
    "function",
    "builtin_function_or_method",
    "instance",
    "_Feature"
   ],
   "window_display": false
  }
 },
 "nbformat": 4,
 "nbformat_minor": 2
}
