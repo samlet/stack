{
 "cells": [
  {
   "cell_type": "code",
   "execution_count": 1,
   "metadata": {
    "ExecuteTime": {
     "end_time": "2019-01-22T15:52:27.548338Z",
     "start_time": "2019-01-22T15:52:27.477178Z"
    }
   },
   "outputs": [],
   "source": [
    "from sagas.ofbiz.builder import oc, finder, abbrev"
   ]
  },
  {
   "cell_type": "code",
   "execution_count": 2,
   "metadata": {
    "ExecuteTime": {
     "end_time": "2019-01-22T15:52:42.139066Z",
     "start_time": "2019-01-22T15:52:42.130960Z"
    }
   },
   "outputs": [
    {
     "name": "stdout",
     "output_type": "stream",
     "text": [
      "default\n"
     ]
    }
   ],
   "source": [
    "print(oc.delegator.getDelegatorName())"
   ]
  },
  {
   "cell_type": "code",
   "execution_count": 3,
   "metadata": {
    "ExecuteTime": {
     "end_time": "2019-01-22T16:20:22.056626Z",
     "start_time": "2019-01-22T16:20:21.637585Z"
    }
   },
   "outputs": [],
   "source": [
    "import graphene\n",
    "\n",
    "class Person(graphene.ObjectType):\n",
    "    first_name = graphene.String()\n",
    "    last_name = graphene.String()\n",
    "    full_name = graphene.String()\n",
    "\n",
    "    def resolve_full_name(self, info):\n",
    "        return '{} {}'.format(self.first_name, self.last_name)"
   ]
  },
  {
   "cell_type": "markdown",
   "metadata": {},
   "source": [
    "⊕ [Graphene-Python](http://docs.graphene-python.org/en/latest/types/mutations/)\n"
   ]
  },
  {
   "cell_type": "code",
   "execution_count": 5,
   "metadata": {
    "ExecuteTime": {
     "end_time": "2019-01-22T16:21:21.434363Z",
     "start_time": "2019-01-22T16:21:21.401271Z"
    }
   },
   "outputs": [],
   "source": [
    "class CreatePerson(graphene.Mutation):\n",
    "    class Arguments:\n",
    "        name = graphene.String()\n",
    "\n",
    "    ok = graphene.Boolean()\n",
    "    person = graphene.Field(lambda: Person)\n",
    "\n",
    "    def mutate(self, info, name):\n",
    "        person = Person(name=name)\n",
    "        ok = True\n",
    "        return CreatePerson(person=person, ok=ok)\n",
    "\n",
    "# ... the Mutation Class\n",
    "\n",
    "class Person(graphene.ObjectType):\n",
    "    name = graphene.String()\n",
    "    age = graphene.Int()\n",
    "\n",
    "class MyMutations(graphene.ObjectType):\n",
    "    create_person = CreatePerson.Field()\n",
    "\n",
    "# We must define a query for our schema\n",
    "class Query(graphene.ObjectType):\n",
    "    person = graphene.Field(Person)\n",
    "\n",
    "schema = graphene.Schema(query=Query, mutation=MyMutations)    "
   ]
  },
  {
   "cell_type": "markdown",
   "metadata": {},
   "source": [
    "## InputFields and InputObjectTypes\n"
   ]
  },
  {
   "cell_type": "code",
   "execution_count": 6,
   "metadata": {
    "ExecuteTime": {
     "end_time": "2019-01-22T16:37:04.441322Z",
     "start_time": "2019-01-22T16:37:04.401837Z"
    }
   },
   "outputs": [],
   "source": [
    "import graphene\n",
    "\n",
    "class Person(graphene.ObjectType):\n",
    "    name = graphene.String()\n",
    "    age = graphene.Int()\n",
    "    \n",
    "class PersonInput(graphene.InputObjectType):\n",
    "    name = graphene.String(required=True)\n",
    "    age = graphene.Int(required=True)\n",
    "\n",
    "class CreatePerson(graphene.Mutation):\n",
    "    class Arguments:\n",
    "        person_data = PersonInput(required=True)\n",
    "\n",
    "    person = graphene.Field(lambda: Person)\n",
    "    Output = Person\n",
    "\n",
    "    @staticmethod\n",
    "    def mutate(root, info, person_data=None):\n",
    "        person = Person(\n",
    "            name=person_data.name,\n",
    "            age=person_data.age\n",
    "        )\n",
    "        # return CreatePerson(person=person)\n",
    "        return person\n",
    "\n",
    "# ... the Mutation Class    \n",
    "class MyMutations(graphene.ObjectType):\n",
    "    create_person = CreatePerson.Field()\n",
    "\n",
    "# We must define a query for our schema\n",
    "class Query(graphene.ObjectType):\n",
    "    person = graphene.Field(Person)\n",
    "\n",
    "schema = graphene.Schema(query=Query, mutation=MyMutations)    "
   ]
  },
  {
   "cell_type": "code",
   "execution_count": 7,
   "metadata": {
    "ExecuteTime": {
     "end_time": "2019-01-22T16:37:10.981887Z",
     "start_time": "2019-01-22T16:37:10.972673Z"
    }
   },
   "outputs": [
    {
     "name": "stdout",
     "output_type": "stream",
     "text": [
      "{\n",
      "  \"createPerson\": {\n",
      "    \"name\": \"Peter\",\n",
      "    \"__typename\": \"Person\"\n",
      "  }\n",
      "}\n"
     ]
    }
   ],
   "source": [
    "import json\n",
    "\n",
    "q1 = '''\n",
    "mutation myFirstMutation {\n",
    "    createPerson(personData: {name:\"Peter\", age: 24}) {\n",
    "        person {\n",
    "            name,\n",
    "            age\n",
    "        }\n",
    "    }\n",
    "}\n",
    "'''.strip()\n",
    "q2 = '''\n",
    "mutation myFirstMutation {\n",
    "    createPerson(personData: {name:\"Peter\", age: 24}) {\n",
    "        name\n",
    "        __typename\n",
    "    }\n",
    "}\n",
    "'''.strip()\n",
    "# result = schema.execute(q1)\n",
    "result = schema.execute(q2)\n",
    "print(json.dumps(result.data, indent=2, ensure_ascii=False))"
   ]
  },
  {
   "cell_type": "code",
   "execution_count": 2,
   "metadata": {
    "ExecuteTime": {
     "end_time": "2019-01-22T17:31:10.544061Z",
     "start_time": "2019-01-22T17:31:10.503591Z"
    }
   },
   "outputs": [
    {
     "name": "stdout",
     "output_type": "stream",
     "text": [
      "6dc16232-0a0a-41dc-b61a-aee713a05fff\n",
      "4affa0dc-f_bb520235-50df..-474c-b019-6c9946d6d6ef\n"
     ]
    }
   ],
   "source": [
    "import uuid\n",
    "from sagas.ofbiz.builder import abbrev\n",
    "\n",
    "def rand_id():\n",
    "    return abbrev(\"f_\"+str(uuid.uuid4()), 15)\n",
    "\n",
    "print(uuid.uuid4())\n",
    "strval=\"4affa0dc-(var)-474c-b019-6c9946d6d6ef\"\n",
    "print(strval.replace(\"(var)\", rand_id()))"
   ]
  },
  {
   "cell_type": "code",
   "execution_count": 6,
   "metadata": {
    "ExecuteTime": {
     "end_time": "2019-01-22T17:35:48.101302Z",
     "start_time": "2019-01-22T17:35:48.067164Z"
    }
   },
   "outputs": [
    {
     "name": "stdout",
     "output_type": "stream",
     "text": [
      "2019-01-23 01:35:48.097\n"
     ]
    }
   ],
   "source": [
    "from sagas.ofbiz.builder import oc, finder, abbrev\n",
    "from sagas.util.str_converters import to_camel_case, to_snake_case\n",
    "import graphene\n",
    "import json\n",
    "\n",
    "def input_to_dictionary(input, entity, of_type):\n",
    "    output=of_type()\n",
    "    m = oc.j.HashMap()\n",
    "    for key in input:        \n",
    "        value=input[key]\n",
    "        setattr(output, key, value)\n",
    "        m[to_camel_case(key)] = value\n",
    "    val=oc.delegator.create(entity, m)\n",
    "    # print(to_snake_case('lastUpdatedStamp'), val['lastUpdatedStamp'], val)\n",
    "    setattr(output, \"last_updated_stamp\", val['lastUpdatedStamp'])\n",
    "    return output\n",
    "\n",
    "class TestingType(graphene.ObjectType):\n",
    "    testing_type_id = graphene.String()\n",
    "    last_updated_stamp=graphene.String()\n",
    "    \n",
    "val=input_to_dictionary({\"testing_type_id\":rand_id()},\n",
    "                    \"TestingType\", TestingType)\n",
    "print(val.last_updated_stamp)"
   ]
  },
  {
   "cell_type": "code",
   "execution_count": 8,
   "metadata": {
    "ExecuteTime": {
     "end_time": "2019-01-22T17:37:05.455558Z",
     "start_time": "2019-01-22T17:37:05.373865Z"
    }
   },
   "outputs": [
    {
     "name": "stdout",
     "output_type": "stream",
     "text": [
      "{\n",
      "  \"createTestingType\": {\n",
      "    \"testingTypeId\": \"f_cdb89977-33c4..\",\n",
      "    \"lastUpdatedStamp\": \"2019-01-23 01:37:05.448\",\n",
      "    \"__typename\": \"TestingType\"\n",
      "  }\n",
      "}\n"
     ]
    }
   ],
   "source": [
    "class TestingTypeInput(graphene.InputObjectType):\n",
    "    testing_type_id = graphene.String(required=True)\n",
    "\n",
    "class CreateTestingType(graphene.Mutation):\n",
    "    class Arguments:\n",
    "        testing_type_data = TestingTypeInput(required=True)\n",
    "\n",
    "    testing_type = graphene.Field(lambda: TestingType)\n",
    "    Output = TestingType\n",
    "\n",
    "    @staticmethod\n",
    "    def mutate(root, info, testing_type_data=None):\n",
    "        testing_type = input_to_dictionary(testing_type_data, \"TestingType\", TestingType)\n",
    "        # return CreatePerson(person=person)\n",
    "        return testing_type\n",
    "\n",
    "# ... the Mutation Class    \n",
    "class MyMutations(graphene.ObjectType):\n",
    "    create_testing_type = CreateTestingType.Field()\n",
    "\n",
    "# We must define a query for our schema\n",
    "class Query(graphene.ObjectType):\n",
    "    testing_type = graphene.Field(TestingType)\n",
    "\n",
    "schema = graphene.Schema(query=Query, mutation=MyMutations)   \n",
    "\n",
    "## testing\n",
    "q2 = '''\n",
    "mutation myFirstMutation {\n",
    "    createTestingType(testingTypeData: {testingTypeId:\"(id)\"}) {\n",
    "        testingTypeId\n",
    "        lastUpdatedStamp\n",
    "        __typename\n",
    "    }\n",
    "}\n",
    "'''.replace(\"(id)\", rand_id()).strip()\n",
    "# result = schema.execute(q1)\n",
    "result = schema.execute(q2)\n",
    "print(json.dumps(result.data, indent=2, ensure_ascii=False))"
   ]
  },
  {
   "cell_type": "code",
   "execution_count": 13,
   "metadata": {
    "ExecuteTime": {
     "end_time": "2019-01-22T17:44:39.530807Z",
     "start_time": "2019-01-22T17:44:39.495119Z"
    }
   },
   "outputs": [
    {
     "name": "stdout",
     "output_type": "stream",
     "text": [
      "TESTING_TYPE Testing Entity Type None\n",
      "+---------------+-------------+-----------------+\n",
      "| name          | type        | string          |\n",
      "|---------------+-------------+-----------------|\n",
      "| testingTypeId | id          | TESTING_TYPE_ID |\n",
      "| description   | description | DESCRIPTION     |\n",
      "+---------------+-------------+-----------------+\n"
     ]
    }
   ],
   "source": [
    "from tabulate import tabulate\n",
    "\n",
    "def desc_model(entity_name):\n",
    "    ent = oc.delegator.getModelEntity(entity_name)\n",
    "    autoflds=ent.getAutomaticFieldNames()\n",
    "    print(ent.getPlainTableName(), ent.getTitle(), ent.getDescription())\n",
    "    table_header = ['name', 'type', 'string']\n",
    "    table_data = []\n",
    "    names = ent.getAllFieldNames()\n",
    "    for field_name in names:\n",
    "        if field_name not in autoflds:\n",
    "            fld = ent.getField(field_name)\n",
    "            table_data.append((abbrev(field_name, 20),\n",
    "                               fld.getType(),\n",
    "                               abbrev(fld.getColName(), 25)))\n",
    "    print(tabulate(table_data, headers=table_header, tablefmt='psql'))\n",
    "    # desc_relations(entity_name)\n",
    "\n",
    "desc_model(\"TestingType\")"
   ]
  }
 ],
 "metadata": {
  "kernelspec": {
   "display_name": "Python 3",
   "language": "python",
   "name": "python3"
  },
  "language_info": {
   "codemirror_mode": {
    "name": "ipython",
    "version": 3
   },
   "file_extension": ".py",
   "mimetype": "text/x-python",
   "name": "python",
   "nbconvert_exporter": "python",
   "pygments_lexer": "ipython3",
   "version": "3.6.4"
  },
  "varInspector": {
   "cols": {
    "lenName": 16,
    "lenType": 16,
    "lenVar": 40
   },
   "kernels_config": {
    "python": {
     "delete_cmd_postfix": "",
     "delete_cmd_prefix": "del ",
     "library": "var_list.py",
     "varRefreshCmd": "print(var_dic_list())"
    },
    "r": {
     "delete_cmd_postfix": ") ",
     "delete_cmd_prefix": "rm(",
     "library": "var_list.r",
     "varRefreshCmd": "cat(var_dic_list()) "
    }
   },
   "types_to_exclude": [
    "module",
    "function",
    "builtin_function_or_method",
    "instance",
    "_Feature"
   ],
   "window_display": false
  }
 },
 "nbformat": 4,
 "nbformat_minor": 2
}
