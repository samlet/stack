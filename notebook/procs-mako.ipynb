{
 "cells": [
  {
   "cell_type": "markdown",
   "metadata": {},
   "source": [
    "⊕ [Usage — Mako 1.0.8 Documentation](https://docs.makotemplates.org/en/latest/usage.html#using-file-based-templates)\n"
   ]
  },
  {
   "cell_type": "code",
   "execution_count": 1,
   "metadata": {
    "ExecuteTime": {
     "end_time": "2018-12-24T09:21:52.680872Z",
     "start_time": "2018-12-24T09:21:52.578943Z"
    }
   },
   "outputs": [
    {
     "name": "stdout",
     "output_type": "stream",
     "text": [
      "hello world!\n",
      "this+is+some+text\n",
      "&lt;tag&gt;some value&lt;/tag&gt;\n"
     ]
    }
   ],
   "source": [
    "from mako.template import Template\n",
    "\n",
    "mytemplate = Template(\"hello world!\")\n",
    "print(mytemplate.render())\n",
    "mytemplate = Template('${\"this is some text\" | u}')\n",
    "print(mytemplate.render())\n",
    "mytemplate = Template('${\" <tag>some value</tag> \" | h,trim}')\n",
    "print(mytemplate.render())\n"
   ]
  },
  {
   "cell_type": "code",
   "execution_count": 2,
   "metadata": {
    "ExecuteTime": {
     "end_time": "2018-12-24T09:22:00.460727Z",
     "start_time": "2018-12-24T09:22:00.453320Z"
    }
   },
   "outputs": [
    {
     "name": "stdout",
     "output_type": "stream",
     "text": [
      "hello, jack!\n"
     ]
    }
   ],
   "source": [
    "from mako.template import Template\n",
    "\n",
    "mytemplate = Template(\"hello, ${name}!\")\n",
    "print(mytemplate.render(name=\"jack\"))"
   ]
  },
  {
   "cell_type": "code",
   "execution_count": 4,
   "metadata": {
    "ExecuteTime": {
     "end_time": "2018-12-07T08:26:36.672299Z",
     "start_time": "2018-12-07T08:26:36.662136Z"
    }
   },
   "outputs": [
    {
     "name": "stdout",
     "output_type": "stream",
     "text": [
      "hello, jack!\n"
     ]
    }
   ],
   "source": [
    "from mako.template import Template\n",
    "from mako.runtime import Context\n",
    "# from StringIO import StringIO\n",
    "from io import StringIO\n",
    "\n",
    "mytemplate = Template(\"hello, ${name}!\")\n",
    "buf = StringIO()\n",
    "ctx = Context(buf, name=\"jack\")\n",
    "mytemplate.render_context(ctx)\n",
    "print(buf.getvalue())"
   ]
  },
  {
   "cell_type": "code",
   "execution_count": 7,
   "metadata": {
    "ExecuteTime": {
     "end_time": "2018-12-07T08:30:33.301849Z",
     "start_time": "2018-12-07T08:30:33.285765Z"
    }
   },
   "outputs": [
    {
     "name": "stdout",
     "output_type": "stream",
     "text": [
      "hello, jack!\n"
     ]
    }
   ],
   "source": [
    "from mako.template import Template\n",
    "\n",
    "# mytemplate = Template(filename='./templates/hello.txt')\n",
    "mytemplate = Template(filename='./templates/hello.txt', module_directory='/tmp/mako_modules')\n",
    "buf = StringIO()\n",
    "ctx = Context(buf, name=\"jack\")\n",
    "mytemplate.render_context(ctx)\n",
    "print(buf.getvalue())"
   ]
  },
  {
   "cell_type": "code",
   "execution_count": 5,
   "metadata": {
    "ExecuteTime": {
     "end_time": "2018-12-24T09:25:01.950936Z",
     "start_time": "2018-12-24T09:25:01.942226Z"
    },
    "scrolled": true
   },
   "outputs": [
    {
     "name": "stdout",
     "output_type": "stream",
     "text": [
      "<ul>\n",
      "    <li>Item 0: one</li>\n",
      "    <li>Item 1: two</li>\n",
      "    <li>Item 2: three</li>\n",
      "</ul>\n"
     ]
    }
   ],
   "source": [
    "from mako.template import Template\n",
    "from io import StringIO\n",
    "from mako.runtime import Context\n",
    "\n",
    "mytemplate = Template(filename='./templates/loop.txt', module_directory='/tmp/mako_modules')\n",
    "buf = StringIO()\n",
    "ctx = Context(buf, name=\"jack\")\n",
    "mytemplate.render_context(ctx)\n",
    "print(buf.getvalue())"
   ]
  },
  {
   "cell_type": "markdown",
   "metadata": {},
   "source": [
    "⊕ [Syntax — Mako 1.0.8 Documentation](https://docs.makotemplates.org/en/latest/syntax.html)\n"
   ]
  },
  {
   "cell_type": "code",
   "execution_count": 2,
   "metadata": {
    "ExecuteTime": {
     "end_time": "2019-01-05T09:31:11.643440Z",
     "start_time": "2019-01-05T09:31:11.547056Z"
    }
   },
   "outputs": [
    {
     "data": {
      "text/plain": [
       "'pythagorean theorem:  61\\n'"
      ]
     },
     "execution_count": 2,
     "metadata": {},
     "output_type": "execute_result"
    }
   ],
   "source": [
    "from io import StringIO\n",
    "from mako.template import Template\n",
    "from mako.lookup import TemplateLookup\n",
    "from mako.runtime import Context\n",
    "\n",
    "# The contents within the ${} tag are evaluated by Python directly, so full expressions are OK:\n",
    "def render_template(file, ctx):\n",
    "    mylookup = TemplateLookup(directories=['./'], output_encoding='utf-8', encoding_errors='replace')\n",
    "    mytemplate = Template(filename='./templates/'+file, module_directory='/tmp/mako_modules', lookup=mylookup)\n",
    "    mytemplate.render_context(ctx)\n",
    "    return (buf.getvalue())\n",
    "\n",
    "buf = StringIO()\n",
    "ctx = Context(buf, x=5, y=6)\n",
    "render_template('expr.txt', ctx)"
   ]
  },
  {
   "cell_type": "code",
   "execution_count": 8,
   "metadata": {
    "ExecuteTime": {
     "end_time": "2018-12-24T09:26:58.830176Z",
     "start_time": "2018-12-24T09:26:58.816248Z"
    }
   },
   "outputs": [
    {
     "data": {
      "text/plain": [
       "'\\nThe fuzzy bunnies\\n\\n'"
      ]
     },
     "execution_count": 8,
     "metadata": {},
     "output_type": "execute_result"
    }
   ],
   "source": [
    "# render_template('imports.txt', ctx)\n",
    "buf = StringIO()\n",
    "ctx = Context(buf)\n",
    "render_template('simple.mako', ctx)"
   ]
  },
  {
   "cell_type": "code",
   "execution_count": 9,
   "metadata": {
    "ExecuteTime": {
     "end_time": "2018-12-24T09:27:01.737504Z",
     "start_time": "2018-12-24T09:27:01.719831Z"
    }
   },
   "outputs": [
    {
     "data": {
      "text/plain": [
       "'\\n\\n\\nthis is myfunc, x is 7\\n\\nwelcome\\n'"
      ]
     },
     "execution_count": 9,
     "metadata": {},
     "output_type": "execute_result"
    }
   ],
   "source": [
    "buf = StringIO()\n",
    "ctx = Context(buf)\n",
    "render_template('simple_incl.mako', ctx)"
   ]
  },
  {
   "cell_type": "code",
   "execution_count": 6,
   "metadata": {
    "ExecuteTime": {
     "end_time": "2018-12-18T12:54:48.368293Z",
     "start_time": "2018-12-18T12:54:48.362658Z"
    },
    "scrolled": true
   },
   "outputs": [
    {
     "name": "stdout",
     "output_type": "stream",
     "text": [
      "\n",
      "\n",
      "\n",
      "\n",
      "    x is: drôle de petite voix m’a réveillé\n",
      "\n",
      "\n",
      "    x is: drôle de petite voix m’a réveillé\n",
      "\n",
      "\n",
      "    x is: drôle de petite voix m’a réveillé\n",
      "\n",
      "\n",
      "    x is: drôle de petite voix m’a réveillé\n",
      "\n",
      "\n"
     ]
    }
   ],
   "source": [
    "buf = StringIO()\n",
    "ctx = Context(buf)\n",
    "print(render_template('unicode_arguments.html', ctx))"
   ]
  },
  {
   "cell_type": "code",
   "execution_count": 7,
   "metadata": {
    "ExecuteTime": {
     "end_time": "2018-12-18T13:00:08.289755Z",
     "start_time": "2018-12-18T13:00:08.280352Z"
    }
   },
   "outputs": [
    {
     "name": "stdout",
     "output_type": "stream",
     "text": [
      "\n",
      "    this is sub index\n",
      "    \n",
      "    this is include 2\n",
      "\n",
      "\n"
     ]
    }
   ],
   "source": [
    "buf = StringIO()\n",
    "ctx = Context(buf)\n",
    "print(render_template('index.html', ctx))"
   ]
  },
  {
   "cell_type": "code",
   "execution_count": 12,
   "metadata": {
    "ExecuteTime": {
     "end_time": "2018-12-24T09:37:42.148107Z",
     "start_time": "2018-12-24T09:37:42.143835Z"
    }
   },
   "outputs": [
    {
     "name": "stdout",
     "output_type": "stream",
     "text": [
      "['some_slot', 'some_other_slot']\n"
     ]
    }
   ],
   "source": [
    "slots=[\"some_slot\", \"some_other_slot\"]\n",
    "print(str(slots))"
   ]
  },
  {
   "cell_type": "code",
   "execution_count": 3,
   "metadata": {
    "ExecuteTime": {
     "end_time": "2019-01-05T09:31:17.499720Z",
     "start_time": "2019-01-05T09:31:17.491180Z"
    }
   },
   "outputs": [
    {
     "name": "stdout",
     "output_type": "stream",
     "text": [
      "class CustomFormAction(FormAction):\n",
      "    def name(self):\n",
      "        return \"some_form_form\"\n",
      "\n",
      "    @staticmethod\n",
      "    def required_slots(_tracker):\n",
      "        return ['some_slot', 'some_other_slot']\n",
      "\n",
      "\n"
     ]
    }
   ],
   "source": [
    "buf = StringIO()\n",
    "ctx = Context(buf, form_name=\"some_form\", slots=[\"some_slot\", \"some_other_slot\"])\n",
    "print(render_template('custom_form_action.mako', ctx))"
   ]
  },
  {
   "cell_type": "code",
   "execution_count": null,
   "metadata": {},
   "outputs": [],
   "source": [
    "# package_name - nlpserv\n",
    "# ${file_name} - hanlp_utils\n",
    "# ${class_name} - Hanlp\n",
    "# ${component_name} - hanlp\n",
    "# ${service_name} - NlpProcs"
   ]
  },
  {
   "cell_type": "code",
   "execution_count": null,
   "metadata": {},
   "outputs": [],
   "source": [
    "# ${class_name} - TimeExtractor\n",
    "# ${file_name} - time_extractor\n",
    "# ${component_name} - TimeAnalyst"
   ]
  },
  {
   "cell_type": "code",
   "execution_count": 5,
   "metadata": {
    "ExecuteTime": {
     "end_time": "2019-01-05T09:34:09.114466Z",
     "start_time": "2019-01-05T09:34:09.098821Z"
    }
   },
   "outputs": [
    {
     "name": "stdout",
     "output_type": "stream",
     "text": [
      "from __future__ import absolute_import\n",
      "from __future__ import division\n",
      "from __future__ import print_function\n",
      "from __future__ import unicode_literals\n",
      "\n",
      "import logging\n",
      "\n",
      "import typing\n",
      "from typing import Any\n",
      "from typing import Dict\n",
      "from typing import List\n",
      "from typing import Optional\n",
      "from typing import Text\n",
      "\n",
      "from rasa_nlu.components import Component\n",
      "from rasa_nlu.config import RasaNLUModelConfig\n",
      "from rasa_nlu.training_data import Message\n",
      "from rasa_nlu.training_data import TrainingData\n",
      "\n",
      "from client_wrapper import ServiceClient\n",
      "\n",
      "import nlpserv_pb2 as nlp_messages\n",
      "import nlpserv_pb2_grpc as nlp_service\n",
      "\n",
      "logger = logging.getLogger(__name__)\n",
      "\n",
      "if typing.TYPE_CHECKING:\n",
      "    from rasa_nlu.model import Metadata\n",
      "\n",
      "class Hanlp(Component):\n",
      "    # name = \"nlp_xxx\"\n",
      "    name=\"sagas.provider.hanlp_utils.Hanlp\"\n",
      "\n",
      "    provides = [\"hanlp_doc\", \"hanlp\"]\n",
      "\n",
      "    defaults = {\n",
      "        # name of the language model to load - if it is not set\n",
      "        # we will be looking for a language model that is named\n",
      "        # after the language of the model, e.g. `en`\n",
      "        \"model\": None,\n",
      "\n",
      "        # when retrieving word vectors, this will decide if the casing\n",
      "        # of the word is relevant. E.g. `hello` and `Hello` will\n",
      "        # retrieve the same vector, if set to `False`. For some\n",
      "        # applications and models it makes sense to differentiate\n",
      "        # between these two words, therefore setting this to `True`.\n",
      "        \"case_sensitive\": False,\n",
      "        \"host\": \"localhost\",\n",
      "        \"port\": 10052\n",
      "    }\n",
      "\n",
      "    def __init__(self, component_config=None, nlp=None):\n",
      "        # type: (Dict[Text, Any], ServiceClient) -> None\n",
      "\n",
      "        self.nlp = nlp\n",
      "        super(Hanlp, self).__init__(component_config)   \n",
      "\n",
      "   @classmethod\n",
      "    def required_packages(cls):\n",
      "        # type: () -> List[Text]\n",
      "        return [\"grpc\"]\n",
      "\n",
      "    @classmethod\n",
      "    def create_client(cls, component_conf):\n",
      "        try:\n",
      "            rpc_host = component_conf.get(\"host\")\n",
      "            rpc_port = component_conf.get(\"port\")\n",
      "\n",
      "            # if no model is specified, we fall back to the language string\n",
      "            # if not spacy_model_name:\n",
      "            logger.info(\"Trying to connect hanlp rpc with \"\n",
      "                        \"address '{}:{}'\".format(rpc_host, rpc_port))\n",
      "\n",
      "            client = ServiceClient(nlp_service, 'NlpProcsStub', rpc_host, int(rpc_port))\n",
      "            return client\n",
      "        except ValueError as e:  # pragma: no cover\n",
      "            raise Exception(\"hanlp init error. {}\".format(e))\n",
      "\n",
      "    @classmethod\n",
      "    def create(cls, cfg):\n",
      "        # type: (RasaNLUModelConfig) -> Hanlp\n",
      "\n",
      "        component_conf = cfg.for_component(cls.name, cls.defaults)\n",
      "\n",
      "        # cls.ensure_proper_language_model(nlp)\n",
      "        client=cls.create_client(component_conf)\n",
      "        return Hanlp(component_conf, client)\n",
      "\n",
      "   def provide_context(self):\n",
      "        # type: () -> Dict[Text, Any]\n",
      "\n",
      "        return {\"hanlp\": self.nlp}\n",
      "\n",
      "    def doc_for_text(self, text):\n",
      "        request = nlp_messages.NlTokenizerRequest(text=nlp_messages.NlText(text=text))\n",
      "        response = self.nlp.EntityExtractor(request)\n",
      "        return response      \n",
      "\n",
      "    def train(self, training_data, config, **kwargs):\n",
      "        # type: (TrainingData, RasaNLUModelConfig, **Any) -> None\n",
      "\n",
      "        for example in training_data.training_examples:\n",
      "            example.set(\"hanlp_doc\", self.doc_for_text(example.text))\n",
      "\n",
      "    def process(self, message, **kwargs):\n",
      "        # type: (Message, **Any) -> None\n",
      "\n",
      "        message.set(\"hanlp_doc\", self.doc_for_text(message.text))\n",
      "\n",
      "    @classmethod\n",
      "    def load(cls,\n",
      "             model_dir=None,\n",
      "             model_metadata=None,\n",
      "             cached_component=None,\n",
      "             **kwargs):\n",
      "        # type: (Text, Metadata, Optional[Hanlp], **Any) -> Hanlp\n",
      "\n",
      "        if cached_component:\n",
      "            return cached_component\n",
      "\n",
      "        component_config = model_metadata.for_component(cls.name)\n",
      "        return cls(component_config, cls.create_client(component_config))\n",
      "\n",
      "\n",
      "\n"
     ]
    }
   ],
   "source": [
    "buf = StringIO()\n",
    "ctx = Context(buf, package_name=\"nlpserv\", \n",
    "              file_name=\"hanlp_utils\",\n",
    "              class_name=\"Hanlp\",\n",
    "              component_name=\"hanlp\",\n",
    "              service_name=\"NlpProcs\",\n",
    "              slots=[\"some_slot\", \"some_other_slot\"])\n",
    "print(render_template('nlu_utils.mako', ctx))"
   ]
  },
  {
   "cell_type": "code",
   "execution_count": 8,
   "metadata": {
    "ExecuteTime": {
     "end_time": "2019-01-05T09:37:40.422441Z",
     "start_time": "2019-01-05T09:37:40.414968Z"
    }
   },
   "outputs": [
    {
     "name": "stdout",
     "output_type": "stream",
     "text": [
      "from __future__ import absolute_import\n",
      "from __future__ import division\n",
      "from __future__ import print_function\n",
      "from __future__ import unicode_literals\n",
      "\n",
      "import datetime\n",
      "import logging\n",
      "from inspect import getmembers\n",
      "\n",
      "import typing\n",
      "from typing import Any, Dict\n",
      "from typing import List\n",
      "from typing import Optional\n",
      "from typing import Text\n",
      "\n",
      "from rasa_nlu.config import RasaNLUModelConfig\n",
      "from rasa_nlu.extractors import EntityExtractor\n",
      "from rasa_nlu.model import Metadata\n",
      "from rasa_nlu.training_data import Message\n",
      "from py4j.java_gateway import JavaGateway, GatewayParameters\n",
      "import py4j\n",
      "\n",
      "if typing.TYPE_CHECKING:\n",
      "    from py4j.java_gateway import JavaObject, JavaGateway\n",
      "\n",
      "class CoreNlpExtractor(EntityExtractor):\n",
      "    \"\"\"Adds entity normalization by analyzing found entities and\n",
      "    transforming them into regular formats.\"\"\"\n",
      "\n",
      "    # name = \"ner_xxx\"\n",
      "    name = \"sagas.provider.corenlp_extractor.CoreNlpExtractor\"\n",
      "\n",
      "    provides = [\"entities\"]\n",
      "\n",
      "    defaults = {        \n",
      "        # dimensions can be configured to contain an array of strings\n",
      "        # with the names of the dimensions to filter for\n",
      "        \"dimensions\": None,\n",
      "        \"host\": \"localhost\",\n",
      "        \"port\": 25333\n",
      "    }\n",
      "\n",
      "    def __init__(self, component_config=None, gateway=None, bridge=None):\n",
      "        # type: (Dict[Text, Any], JavaGateway, JavaObject) -> None\n",
      "\n",
      "        super(CoreNlpExtractor, self).__init__(component_config)\n",
      "        self.gateway=gateway\n",
      "        self.bridge = bridge\n",
      "        if self.bridge is None:\n",
      "            self.bridge = gateway.entry_point.getNlpAnalyst()\n",
      "        # self.DateUtil=gateway.jvm.com.time.util.DateUtil()\n",
      "\n",
      "    @classmethod\n",
      "    def required_packages(cls):\n",
      "        # type: () -> List[Text]\n",
      "        return [\"py4j\"]\n",
      "\n",
      "    @classmethod\n",
      "    def create_bridge(cls, component_config):\n",
      "        try:\n",
      "            host = component_config.get(\"host\")\n",
      "            port= int(component_config.get(\"port\"))\n",
      "            logging.info(\"CoreNlpExtractor gateway host/port: {} {}\".format(host, port))\n",
      "            gateway = JavaGateway(gateway_parameters=GatewayParameters(address=host, port=port))\n",
      "            c = gateway.entry_point.getNlpAnalyst()\n",
      "            return gateway, c\n",
      "        except ValueError as e:  # pragma: no cover\n",
      "            raise Exception(\"NlpAnalyst init error. {}\".format(e))\n",
      "\n",
      "    @classmethod\n",
      "    def create(cls, config):\n",
      "        # type: (RasaNLUModelConfig) -> CoreNlpExtractor\n",
      "\n",
      "        component_config = config.for_component(cls.name, cls.defaults)\n",
      "        dims = component_config.get(\"dimensions\")\n",
      "        # if dims:\n",
      "        gateway, c=cls.create_bridge(component_config)\n",
      "        return CoreNlpExtractor(component_config, gateway, c)\n",
      "\n",
      "    @classmethod\n",
      "    def cache_key(cls, model_metadata):\n",
      "        # type: (Metadata) -> Optional[Text]\n",
      "\n",
      "        return None\n",
      "\n",
      "    def f(self, object, fld):\n",
      "        return py4j.java_gateway.get_field(object, fld)\n",
      "\n",
      "    def process(self, message, **kwargs):\n",
      "        # type: (Message, **Any) -> None\n",
      "\n",
      "        if self.bridge is None:\n",
      "            logging.fatal(\"no NlpAnalyst provider\")\n",
      "            return\n",
      "\n",
      "        entities = []\n",
      "        # .......\n",
      "\n",
      "        extracted = self.add_extractor_name(entities)\n",
      "        message.set(\"entities\", message.get(\"entities\", []) + extracted,\n",
      "                    add_to_output=True)\n",
      "\n",
      "    @classmethod\n",
      "    def load(cls,\n",
      "             model_dir=None,  # type: Text\n",
      "             model_metadata=None,  # type: Metadata\n",
      "             cached_component=None,  # type: Optional[CoreNlpExtractor]\n",
      "             **kwargs  # type: **Any\n",
      "             ):\n",
      "        # type: (...) -> CoreNlpExtractor\n",
      "\n",
      "        component_config = model_metadata.for_component(cls.name)\n",
      "        gateway, c = cls.create_bridge(component_config)\n",
      "        return cls(component_config, gateway, c)\n",
      "\n",
      "\n"
     ]
    }
   ],
   "source": [
    "# ${class_name} - TimeExtractor\n",
    "# ${file_name} - time_extractor\n",
    "# ${component_name} - TimeAnalyst\n",
    "buf = StringIO()\n",
    "ctx = Context(buf, file_name=\"corenlp_extractor\",\n",
    "              class_name=\"CoreNlpExtractor\",\n",
    "              component_name=\"NlpAnalyst\",\n",
    "              slots=[\"some_slot\", \"some_other_slot\"])\n",
    "print(render_template('nlu_extractor_py4j.mako', ctx))"
   ]
  },
  {
   "cell_type": "code",
   "execution_count": 13,
   "metadata": {
    "ExecuteTime": {
     "end_time": "2019-01-05T12:07:56.269407Z",
     "start_time": "2019-01-05T12:07:56.254069Z"
    }
   },
   "outputs": [
    {
     "name": "stdout",
     "output_type": "stream",
     "text": [
      "\"\"\"The Python implementation of the GRPC crmsfa.CrmsfaProcs server.\"\"\"\n",
      "\n",
      "from concurrent import futures\n",
      "import time\n",
      "\n",
      "import grpc\n",
      "\n",
      "import common_types_pb2 as common\n",
      "import crmsfa_pb2\n",
      "import crmsfa_pb2_grpc\n",
      "\n",
      "_ONE_DAY_IN_SECONDS = 60 * 60 * 24\n",
      "\n",
      "\n",
      "class CrmsfaProcs(crmsfa_pb2_grpc.CrmsfaProcsServicer):\n",
      "\n",
      "    def Ping(self, request, context):\n",
      "        return common.PingReply(message='Ping, %s!' % request.name)\n",
      "\n",
      "\n",
      "def serve():\n",
      "    server = grpc.server(futures.ThreadPoolExecutor(max_workers=10))\n",
      "    crmsfa_pb2_grpc.add_CrmsfaProcsServicer_to_server(CrmsfaProcs(), server)\n",
      "    server.add_insecure_port('[::]:50051')\n",
      "    server.start()\n",
      "    try:\n",
      "        while True:\n",
      "            time.sleep(_ONE_DAY_IN_SECONDS)\n",
      "    except KeyboardInterrupt:\n",
      "        server.stop(0)\n",
      "\n",
      "\n",
      "if __name__ == '__main__':\n",
      "    serve()\n",
      "\n"
     ]
    }
   ],
   "source": [
    "# ${service_name} = Greeter\n",
    "# ${package_name} = helloworld\n",
    "import clipboard\n",
    "\n",
    "buf = StringIO()\n",
    "ctx = Context(buf, package_name=\"crmsfa\", service_name=\"CrmsfaProcs\")\n",
    "allcnt=render_template('grpc_server.mako', ctx)\n",
    "clipboard.copy(allcnt)\n",
    "print(allcnt)"
   ]
  },
  {
   "cell_type": "code",
   "execution_count": 14,
   "metadata": {
    "ExecuteTime": {
     "end_time": "2019-01-05T12:17:28.415810Z",
     "start_time": "2019-01-05T12:17:28.402658Z"
    }
   },
   "outputs": [
    {
     "name": "stdout",
     "output_type": "stream",
     "text": [
      "from client_wrapper import ServiceClient\n",
      "import common_types_pb2 as common\n",
      "import crmsfa_pb2\n",
      "import crmsfa_pb2_grpc\n",
      "\n",
      "serv = ServiceClient(crmsfa_pb2_grpc, 'CrmsfaProcsStub', 'localhost', 50051)\n",
      "\n",
      "def run():\n",
      "    response = serv.Ping(common.PingRequest(name='you'))\n",
      "    print(\"Greeter client received: \" + response.message)\n",
      "\n",
      "if __name__ == '__main__':\n",
      "    run()\n",
      "\n"
     ]
    }
   ],
   "source": [
    "import clipboard\n",
    "\n",
    "buf = StringIO()\n",
    "ctx = Context(buf, package_name=\"crmsfa\", service_name=\"CrmsfaProcs\")\n",
    "allcnt=render_template('grpc_client.mako', ctx)\n",
    "clipboard.copy(allcnt)\n",
    "print(allcnt)"
   ]
  },
  {
   "cell_type": "code",
   "execution_count": 19,
   "metadata": {
    "ExecuteTime": {
     "end_time": "2019-01-05T14:07:05.605676Z",
     "start_time": "2019-01-05T14:07:05.589477Z"
    }
   },
   "outputs": [
    {
     "name": "stdout",
     "output_type": "stream",
     "text": [
      "import 'dart:async';\n",
      "\n",
      "import 'package:grpc/grpc.dart';\n",
      "\n",
      "import 'package:crmsfa/src/generated/common_types.pb.dart';\n",
      "import 'package:crmsfa/src/generated/crmsfa.pb.dart';\n",
      "import 'package:crmsfa/src/generated/crmsfa.pbgrpc.dart';\n",
      "\n",
      "Future<void> main(List<String> args) async {\n",
      "  final channel = new ClientChannel('localhost',\n",
      "      port: 50051,\n",
      "      options: const ChannelOptions(\n",
      "          credentials: const ChannelCredentials.insecure()));\n",
      "  final stub = new CrmsfaProcsClient(channel);\n",
      "\n",
      "  final name = args.isNotEmpty ? args[0] : 'world';\n",
      "\n",
      "  try {\n",
      "    final response = await stub.ping(new PingRequest()..name = name);\n",
      "    print('Client received: ${response.message}');\n",
      "  } catch (e) {\n",
      "    print('Caught error: $e');\n",
      "  }\n",
      "  await channel.shutdown();\n",
      "}\n",
      "\n"
     ]
    }
   ],
   "source": [
    "import clipboard\n",
    "\n",
    "buf = StringIO()\n",
    "ctx = Context(buf, package_name=\"crmsfa\", service_name=\"CrmsfaProcs\")\n",
    "allcnt=render_template('grpc_client_dart.mako', ctx)\n",
    "clipboard.copy(allcnt)\n",
    "print(allcnt)"
   ]
  }
 ],
 "metadata": {
  "kernelspec": {
   "display_name": "Python 3",
   "language": "python",
   "name": "python3"
  },
  "language_info": {
   "codemirror_mode": {
    "name": "ipython",
    "version": 3
   },
   "file_extension": ".py",
   "mimetype": "text/x-python",
   "name": "python",
   "nbconvert_exporter": "python",
   "pygments_lexer": "ipython3",
   "version": "3.6.4"
  },
  "varInspector": {
   "cols": {
    "lenName": 16,
    "lenType": 16,
    "lenVar": 40
   },
   "kernels_config": {
    "python": {
     "delete_cmd_postfix": "",
     "delete_cmd_prefix": "del ",
     "library": "var_list.py",
     "varRefreshCmd": "print(var_dic_list())"
    },
    "r": {
     "delete_cmd_postfix": ") ",
     "delete_cmd_prefix": "rm(",
     "library": "var_list.r",
     "varRefreshCmd": "cat(var_dic_list()) "
    }
   },
   "types_to_exclude": [
    "module",
    "function",
    "builtin_function_or_method",
    "instance",
    "_Feature"
   ],
   "window_display": false
  }
 },
 "nbformat": 4,
 "nbformat_minor": 2
}
