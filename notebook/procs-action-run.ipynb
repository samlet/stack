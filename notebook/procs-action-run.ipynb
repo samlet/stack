{
 "cells": [
  {
   "cell_type": "code",
   "execution_count": 26,
   "metadata": {
    "ExecuteTime": {
     "end_time": "2018-12-23T14:52:25.971834Z",
     "start_time": "2018-12-23T14:52:25.903605Z"
    }
   },
   "outputs": [
    {
     "name": "stdout",
     "output_type": "stream",
     "text": [
      "{\n",
      "  \"domain\": {\n",
      "    \"config\": {\n",
      "      \"store_entities_as_slots\": true\n",
      "    },\n",
      "    \"intents\": [\n",
      "      {\n",
      "        \"greet\": {\n",
      "          \"use_entities\": true\n",
      "        }\n",
      "      },\n",
      "      {\n",
      "        \"default\": {\n",
      "          \"use_entities\": true\n",
      "        }\n",
      "      },\n",
      "      {\n",
      "        \"goodbye\": {\n",
      "          \"use_entities\": true\n",
      "        }\n",
      "      },\n",
      "      {\n",
      "        \"affirm\": {\n",
      "          \"use_entities\": true\n",
      "        }\n",
      "      },\n",
      "      {\n",
      "        \"thank_you\": {\n",
      "          \"use_entities\": true\n",
      "        }\n",
      "      },\n",
      "      {\n",
      "        \"change_bank_details\": {\n",
      "          \"use_entities\": true\n",
      "        }\n",
      "      },\n",
      "      {\n",
      "        \"simple\": {\n",
      "          \"use_entities\": true\n",
      "        }\n",
      "      },\n",
      "      {\n",
      "        \"hello\": {\n",
      "          \"use_entities\": true\n",
      "        }\n",
      "      },\n",
      "      {\n",
      "        \"why\": {\n",
      "          \"use_entities\": true\n",
      "        }\n",
      "      },\n",
      "      {\n",
      "        \"next_intent\": {\n",
      "          \"use_entities\": true\n",
      "        }\n",
      "      }\n",
      "    ],\n",
      "    \"entities\": [\n",
      "      \"name\"\n",
      "    ],\n",
      "    \"slots\": {\n",
      "      \"name\": {\n",
      "        \"type\": \"rasa_core.slots.TextSlot\",\n",
      "        \"initial_value\": null,\n",
      "        \"auto_fill\": true\n",
      "      }\n",
      "    },\n",
      "    \"templates\": {\n",
      "      \"utter_greet\": [\n",
      "        {\n",
      "          \"text\": \"hey there {name}!\"\n",
      "        }\n",
      "      ],\n",
      "      \"utter_goodbye\": [\n",
      "        {\n",
      "          \"text\": \"goodbye 😢\"\n",
      "        },\n",
      "        {\n",
      "          \"text\": \"bye bye 😢\"\n",
      "        }\n",
      "      ],\n",
      "      \"utter_default\": [\n",
      "        {\n",
      "          \"text\": \"default message\"\n",
      "        }\n",
      "      ]\n",
      "    },\n",
      "    \"actions\": [\n",
      "      \"utter_default\",\n",
      "      \"utter_greet\",\n",
      "      \"utter_goodbye\"\n",
      "    ],\n",
      "    \"forms\": []\n",
      "  },\n",
      "  \"next_action\": \"my_custom_action\",\n",
      "  \"sender_id\": \"default\",\n",
      "  \"tracker\": {\n",
      "    \"latest_message\": {\n",
      "      \"entities\": [],\n",
      "      \"intent\": {},\n",
      "      \"text\": null\n",
      "    },\n",
      "    \"active_form\": {},\n",
      "    \"latest_action_name\": null,\n",
      "    \"sender_id\": \"default\",\n",
      "    \"paused\": false,\n",
      "    \"followup_action\": \"action_listen\",\n",
      "    \"latest_event_time\": null,\n",
      "    \"slots\": {\n",
      "      \"name\": null\n",
      "    },\n",
      "    \"events\": [],\n",
      "    \"latest_input_channel\": null\n",
      "  }\n",
      "}\n"
     ]
    }
   ],
   "source": [
    "import json\n",
    "from utils import dump\n",
    "from rasa_core.domain import Domain\n",
    "\n",
    "DEFAULT_DOMAIN_PATH = \"data/test_domains/default_with_slots.yml\"\n",
    "def default_domain():\n",
    "    return Domain.load(DEFAULT_DOMAIN_PATH)\n",
    "\n",
    "domain=default_domain()\n",
    "req={\n",
    "        'domain': domain.as_dict(),\n",
    "        'next_action': 'my_custom_action',\n",
    "        'sender_id': 'default',\n",
    "        'tracker': {\n",
    "            'latest_message': {\n",
    "                'entities': [],\n",
    "                'intent': {},\n",
    "                'text': None\n",
    "            },\n",
    "            'active_form': {},\n",
    "            'latest_action_name': None,\n",
    "            'sender_id': 'default',\n",
    "            'paused': False,\n",
    "            'followup_action': 'action_listen',\n",
    "            'latest_event_time': None,\n",
    "            'slots': {'name': None},\n",
    "            'events': [],\n",
    "            'latest_input_channel': None\n",
    "        }\n",
    "    }\n",
    "\n",
    "dump(req)"
   ]
  },
  {
   "cell_type": "code",
   "execution_count": 3,
   "metadata": {
    "ExecuteTime": {
     "end_time": "2018-12-23T12:17:48.190388Z",
     "start_time": "2018-12-23T12:17:48.177285Z"
    }
   },
   "outputs": [],
   "source": [
    "from rasa_core_sdk import Action\n",
    "from rasa_core_sdk.events import SlotSet\n",
    "\n",
    "class MyCustomAction(Action):\n",
    "    def name(self):\n",
    "        return \"my_custom_action\"\n",
    "\n",
    "    def run(self, dispatcher, tracker, domain):\n",
    "        dispatcher.utter_template(\"utter_custom_template\", tracker)\n",
    "        return [SlotSet(\"test\", 4)]\n"
   ]
  },
  {
   "cell_type": "code",
   "execution_count": 22,
   "metadata": {
    "ExecuteTime": {
     "end_time": "2018-12-23T12:29:28.956943Z",
     "start_time": "2018-12-23T12:29:28.946705Z"
    }
   },
   "outputs": [],
   "source": [
    "from rasa_core_sdk import utils, Action, Tracker\n",
    "from rasa_core_sdk.executor import CollectingDispatcher, ActionExecutor\n",
    "import logging\n",
    "import sys\n",
    "\n",
    "def create_api_response(events, messages):\n",
    "    return {\n",
    "        \"events\": events if events else [],\n",
    "        \"responses\": messages\n",
    "    }\n",
    "\n",
    "logger = logging.getLogger(__name__)\n",
    "logging.basicConfig(format='%(asctime)s | %(levelname)s : %(message)s',\n",
    "                     level=logging.DEBUG, stream=sys.stdout)\n",
    "\n",
    "tracker = Tracker.from_dict(req)\n",
    "dispatcher = CollectingDispatcher()"
   ]
  },
  {
   "cell_type": "code",
   "execution_count": 21,
   "metadata": {
    "ExecuteTime": {
     "end_time": "2018-12-23T12:29:10.218550Z",
     "start_time": "2018-12-23T12:29:10.212098Z"
    }
   },
   "outputs": [
    {
     "name": "stdout",
     "output_type": "stream",
     "text": [
      "2018-12-23 20:29:10,214 | INFO : Received request to run 'my_custom_action'\n"
     ]
    }
   ],
   "source": [
    "action_name=\"my_custom_action\"\n",
    "logger.info(\"Received request to run '{}'\".format(action_name))\n",
    "# events = action(dispatcher, tracker, domain)\n",
    "# logger.debug(\"Successfully ran '{}'\".format(action_name))\n",
    "# create_api_response(events, dispatcher.messages)"
   ]
  },
  {
   "cell_type": "code",
   "execution_count": 27,
   "metadata": {
    "ExecuteTime": {
     "end_time": "2018-12-23T14:52:38.949649Z",
     "start_time": "2018-12-23T14:52:38.929538Z"
    }
   },
   "outputs": [
    {
     "name": "stdout",
     "output_type": "stream",
     "text": [
      "2018-12-23 22:52:38,943 | INFO : Registered function for 'my_custom_action'.\n",
      "{\n",
      "  \"events\": [\n",
      "    {\n",
      "      \"event\": \"slot\",\n",
      "      \"timestamp\": null,\n",
      "      \"name\": \"test\",\n",
      "      \"value\": 4\n",
      "    }\n",
      "  ],\n",
      "  \"responses\": [\n",
      "    {\n",
      "      \"template\": \"utter_custom_template\"\n",
      "    }\n",
      "  ]\n",
      "}\n"
     ]
    }
   ],
   "source": [
    "executor=ActionExecutor()\n",
    "executor.register_action(MyCustomAction())\n",
    "req={\n",
    "        'domain': domain.as_dict(),\n",
    "        'next_action': 'my_custom_action',\n",
    "        'sender_id': 'default',\n",
    "        'tracker': {\n",
    "            'latest_message': {\n",
    "                'entities': [],\n",
    "                'intent': {},\n",
    "                'text': None\n",
    "            },\n",
    "            'active_form': {},\n",
    "            'latest_action_name': None,\n",
    "            'sender_id': 'default',\n",
    "            'paused': False,\n",
    "            'followup_action': 'action_listen',\n",
    "            'latest_event_time': None,\n",
    "            'slots': {'name': None},\n",
    "            'events': [],\n",
    "            'latest_input_channel': None\n",
    "        }\n",
    "    }\n",
    "result=executor.run(req)\n",
    "dump(result)"
   ]
  }
 ],
 "metadata": {
  "kernelspec": {
   "display_name": "Python 3",
   "language": "python",
   "name": "python3"
  },
  "language_info": {
   "codemirror_mode": {
    "name": "ipython",
    "version": 3
   },
   "file_extension": ".py",
   "mimetype": "text/x-python",
   "name": "python",
   "nbconvert_exporter": "python",
   "pygments_lexer": "ipython3",
   "version": "3.6.4"
  },
  "varInspector": {
   "cols": {
    "lenName": 16,
    "lenType": 16,
    "lenVar": 40
   },
   "kernels_config": {
    "python": {
     "delete_cmd_postfix": "",
     "delete_cmd_prefix": "del ",
     "library": "var_list.py",
     "varRefreshCmd": "print(var_dic_list())"
    },
    "r": {
     "delete_cmd_postfix": ") ",
     "delete_cmd_prefix": "rm(",
     "library": "var_list.r",
     "varRefreshCmd": "cat(var_dic_list()) "
    }
   },
   "types_to_exclude": [
    "module",
    "function",
    "builtin_function_or_method",
    "instance",
    "_Feature"
   ],
   "window_display": false
  }
 },
 "nbformat": 4,
 "nbformat_minor": 2
}
