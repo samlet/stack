{
 "cells": [
  {
   "cell_type": "code",
   "execution_count": 5,
   "metadata": {
    "ExecuteTime": {
     "end_time": "2021-03-30T16:51:19.383161Z",
     "start_time": "2021-03-30T16:51:17.060856Z"
    }
   },
   "outputs": [],
   "source": [
    "from ltp import LTP\n",
    "ltp = LTP() # 默认加载 Small 模型\n",
    "seg, hidden = ltp.seg([\"他叫汤姆去拿外衣。\"])\n",
    "pos = ltp.pos(hidden)\n",
    "ner = ltp.ner(hidden)\n",
    "srl = ltp.srl(hidden)\n",
    "dep = ltp.dep(hidden)\n",
    "sdp = ltp.sdp(hidden)"
   ]
  },
  {
   "cell_type": "code",
   "execution_count": 2,
   "metadata": {
    "ExecuteTime": {
     "end_time": "2021-03-30T15:42:04.209388Z",
     "start_time": "2021-03-30T15:42:04.193526Z"
    }
   },
   "outputs": [
    {
     "data": {
      "text/plain": [
       "[['他', '叫', '汤姆', '去', '拿', '外衣', '。']]"
      ]
     },
     "execution_count": 2,
     "metadata": {},
     "output_type": "execute_result"
    }
   ],
   "source": [
    "seg"
   ]
  },
  {
   "cell_type": "code",
   "execution_count": 3,
   "metadata": {
    "ExecuteTime": {
     "end_time": "2021-03-30T15:42:10.387579Z",
     "start_time": "2021-03-30T15:42:10.375707Z"
    }
   },
   "outputs": [
    {
     "data": {
      "text/plain": [
       "[['r', 'v', 'nh', 'v', 'v', 'n', 'wp']]"
      ]
     },
     "execution_count": 3,
     "metadata": {},
     "output_type": "execute_result"
    }
   ],
   "source": [
    "pos"
   ]
  },
  {
   "cell_type": "code",
   "execution_count": 6,
   "metadata": {
    "ExecuteTime": {
     "end_time": "2021-03-30T16:51:27.039567Z",
     "start_time": "2021-03-30T16:51:26.978082Z"
    }
   },
   "outputs": [
    {
     "data": {
      "text/plain": [
       "[[[],\n",
       "  [('A0', 0, 0), ('A1', 2, 2), ('A2', 3, 5)],\n",
       "  [],\n",
       "  [],\n",
       "  [('A0', 2, 2), ('A1', 5, 5)],\n",
       "  [],\n",
       "  []]]"
      ]
     },
     "execution_count": 6,
     "metadata": {},
     "output_type": "execute_result"
    }
   ],
   "source": [
    "srl"
   ]
  }
 ],
 "metadata": {
  "kernelspec": {
   "display_name": "Python 3",
   "language": "python",
   "name": "python3"
  },
  "language_info": {
   "codemirror_mode": {
    "name": "ipython",
    "version": 3
   },
   "file_extension": ".py",
   "mimetype": "text/x-python",
   "name": "python",
   "nbconvert_exporter": "python",
   "pygments_lexer": "ipython3",
   "version": "3.7.7"
  },
  "varInspector": {
   "cols": {
    "lenName": 16,
    "lenType": 16,
    "lenVar": 40
   },
   "kernels_config": {
    "python": {
     "delete_cmd_postfix": "",
     "delete_cmd_prefix": "del ",
     "library": "var_list.py",
     "varRefreshCmd": "print(var_dic_list())"
    },
    "r": {
     "delete_cmd_postfix": ") ",
     "delete_cmd_prefix": "rm(",
     "library": "var_list.r",
     "varRefreshCmd": "cat(var_dic_list()) "
    }
   },
   "types_to_exclude": [
    "module",
    "function",
    "builtin_function_or_method",
    "instance",
    "_Feature"
   ],
   "window_display": false
  }
 },
 "nbformat": 4,
 "nbformat_minor": 4
}
