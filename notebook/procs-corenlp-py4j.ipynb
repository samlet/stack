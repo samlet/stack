{
 "cells": [
  {
   "cell_type": "code",
   "execution_count": 2,
   "metadata": {
    "ExecuteTime": {
     "end_time": "2019-04-19T08:48:53.217337Z",
     "start_time": "2019-04-19T08:48:53.151364Z"
    }
   },
   "outputs": [],
   "source": [
    "from py4j.java_gateway import JavaGateway, JavaObject, GatewayParameters\n",
    "from py4j.java_gateway import java_import, get_field\n",
    "\n",
    "host=\"localhost\"\n",
    "port=2433\n",
    "callback_port=2434\n",
    "gateway = JavaGateway(python_proxy_port=callback_port,\n",
    "                      gateway_parameters=GatewayParameters(address=host, port=port, auto_field=True))\n",
    "j = gateway.new_jvm_view()\n",
    "java_import(j, 'edu.stanford.nlp.pipeline.*')"
   ]
  },
  {
   "cell_type": "code",
   "execution_count": 3,
   "metadata": {
    "ExecuteTime": {
     "end_time": "2019-04-19T08:50:40.322947Z",
     "start_time": "2019-04-19T08:49:50.552099Z"
    }
   },
   "outputs": [],
   "source": [
    "cn = gateway.entry_point.nlp('cn')"
   ]
  },
  {
   "cell_type": "code",
   "execution_count": 6,
   "metadata": {
    "ExecuteTime": {
     "end_time": "2019-04-19T08:57:17.634623Z",
     "start_time": "2019-04-19T08:57:17.417836Z"
    }
   },
   "outputs": [
    {
     "name": "stdout",
     "output_type": "stream",
     "text": [
      "克林顿-1\n",
      "说-2\n",
      "，-3\n",
      "华盛顿-4\n",
      "将-5\n",
      "逐步-6\n",
      "落-7\n",
      "实-8\n",
      "对-9\n",
      "韩国-10\n",
      "的-11\n",
      "经济-12\n",
      "援助-13\n",
      "。-14\n",
      "金-1\n",
      "大-2\n",
      "中-3\n",
      "对-4\n",
      "克林顿-5\n",
      "的-6\n",
      "讲话-7\n",
      "报以-8\n",
      "掌声-9\n",
      "：-10\n",
      "克林顿-11\n",
      "总统-12\n",
      "在-13\n",
      "会谈-14\n",
      "中-15\n",
      "重申-16\n",
      "，-17\n",
      "他-18\n",
      "坚定-19\n",
      "地-20\n",
      "支持-21\n",
      "韩国-22\n",
      "摆脱-23\n",
      "经济-24\n",
      "危机-25\n",
      "。-26\n"
     ]
    }
   ],
   "source": [
    "text=\"\"\"克林顿说，华盛顿将逐步落实对韩国的经济援助。\n",
    "金大中对克林顿的讲话报以掌声：克林顿总统在会谈中重申，他坚定地支持韩国摆脱经济危机。\n",
    "\"\"\"\n",
    "# document = j.Annotation(text)\n",
    "document = j.CoreDocument(text)\n",
    "cn.annotate(document)\n",
    "for tok in document.tokens():\n",
    "    print(tok)"
   ]
  },
  {
   "cell_type": "code",
   "execution_count": 7,
   "metadata": {
    "ExecuteTime": {
     "end_time": "2019-04-19T09:00:41.894707Z",
     "start_time": "2019-04-19T08:58:02.212619Z"
    }
   },
   "outputs": [
    {
     "ename": "Py4JJavaError",
     "evalue": "An error occurred while calling t.nlp.\n: java.lang.OutOfMemoryError: Java heap space\n\tat java.io.ObjectInputStream$HandleTable.grow(ObjectInputStream.java:3494)\n\tat java.io.ObjectInputStream$HandleTable.assign(ObjectInputStream.java:3300)\n\tat java.io.ObjectInputStream.readOrdinaryObject(ObjectInputStream.java:1799)\n\tat java.io.ObjectInputStream.readObject0(ObjectInputStream.java:1353)\n\tat java.io.ObjectInputStream.readObject(ObjectInputStream.java:373)\n\tat java.util.HashMap.readObject(HashMap.java:1396)\n\tat sun.reflect.GeneratedMethodAccessor4.invoke(Unknown Source)\n\tat sun.reflect.DelegatingMethodAccessorImpl.invoke(DelegatingMethodAccessorImpl.java:43)\n\tat java.lang.reflect.Method.invoke(Method.java:498)\n\tat java.io.ObjectStreamClass.invokeReadObject(ObjectStreamClass.java:1058)\n\tat java.io.ObjectInputStream.readSerialData(ObjectInputStream.java:1909)\n\tat java.io.ObjectInputStream.readOrdinaryObject(ObjectInputStream.java:1808)\n\tat java.io.ObjectInputStream.readObject0(ObjectInputStream.java:1353)\n\tat java.io.ObjectInputStream.defaultReadFields(ObjectInputStream.java:2018)\n\tat java.io.ObjectInputStream.readSerialData(ObjectInputStream.java:1942)\n\tat java.io.ObjectInputStream.readOrdinaryObject(ObjectInputStream.java:1808)\n\tat java.io.ObjectInputStream.readObject0(ObjectInputStream.java:1353)\n\tat java.io.ObjectInputStream.readObject(ObjectInputStream.java:373)\n\tat edu.stanford.nlp.io.IOUtils.readObjectFromURLOrClasspathOrFileSystem(IOUtils.java:309)\n\tat edu.stanford.nlp.coref.statistical.FeatureExtractor.loadVocabulary(FeatureExtractor.java:90)\n\tat edu.stanford.nlp.coref.statistical.FeatureExtractor.<init>(FeatureExtractor.java:75)\n\tat edu.stanford.nlp.coref.statistical.StatisticalCorefAlgorithm.<init>(StatisticalCorefAlgorithm.java:63)\n\tat edu.stanford.nlp.coref.statistical.StatisticalCorefAlgorithm.<init>(StatisticalCorefAlgorithm.java:44)\n\tat edu.stanford.nlp.coref.CorefAlgorithm.fromProps(CorefAlgorithm.java:28)\n\tat edu.stanford.nlp.coref.CorefSystem.<init>(CorefSystem.java:34)\n\tat edu.stanford.nlp.pipeline.CorefAnnotator.<init>(CorefAnnotator.java:67)\n\tat edu.stanford.nlp.pipeline.AnnotatorImplementations.coref(AnnotatorImplementations.java:196)\n\tat edu.stanford.nlp.pipeline.StanfordCoreNLP.lambda$getNamedAnnotators$14(StanfordCoreNLP.java:532)\n\tat edu.stanford.nlp.pipeline.StanfordCoreNLP$$Lambda$25/1144730751.apply(Unknown Source)\n\tat edu.stanford.nlp.pipeline.StanfordCoreNLP.lambda$null$30(StanfordCoreNLP.java:602)\n\tat edu.stanford.nlp.pipeline.StanfordCoreNLP$$Lambda$38/1003814163.get(Unknown Source)\n\tat edu.stanford.nlp.util.Lazy$3.compute(Lazy.java:126)\n",
     "output_type": "error",
     "traceback": [
      "\u001b[0;31m---------------------------------------------------------------------------\u001b[0m",
      "\u001b[0;31mPy4JJavaError\u001b[0m                             Traceback (most recent call last)",
      "\u001b[0;32m<ipython-input-7-53ac02069461>\u001b[0m in \u001b[0;36m<module>\u001b[0;34m()\u001b[0m\n\u001b[0;32m----> 1\u001b[0;31m \u001b[0men\u001b[0m \u001b[0;34m=\u001b[0m \u001b[0mgateway\u001b[0m\u001b[0;34m.\u001b[0m\u001b[0mentry_point\u001b[0m\u001b[0;34m.\u001b[0m\u001b[0mnlp\u001b[0m\u001b[0;34m(\u001b[0m\u001b[0;34m'en'\u001b[0m\u001b[0;34m)\u001b[0m\u001b[0;34m\u001b[0m\u001b[0m\n\u001b[0m",
      "\u001b[0;32m~/miniconda3/envs/bigdata/lib/python3.6/site-packages/py4j/java_gateway.py\u001b[0m in \u001b[0;36m__call__\u001b[0;34m(self, *args)\u001b[0m\n\u001b[1;32m   1284\u001b[0m         \u001b[0manswer\u001b[0m \u001b[0;34m=\u001b[0m \u001b[0mself\u001b[0m\u001b[0;34m.\u001b[0m\u001b[0mgateway_client\u001b[0m\u001b[0;34m.\u001b[0m\u001b[0msend_command\u001b[0m\u001b[0;34m(\u001b[0m\u001b[0mcommand\u001b[0m\u001b[0;34m)\u001b[0m\u001b[0;34m\u001b[0m\u001b[0m\n\u001b[1;32m   1285\u001b[0m         return_value = get_return_value(\n\u001b[0;32m-> 1286\u001b[0;31m             answer, self.gateway_client, self.target_id, self.name)\n\u001b[0m\u001b[1;32m   1287\u001b[0m \u001b[0;34m\u001b[0m\u001b[0m\n\u001b[1;32m   1288\u001b[0m         \u001b[0;32mfor\u001b[0m \u001b[0mtemp_arg\u001b[0m \u001b[0;32min\u001b[0m \u001b[0mtemp_args\u001b[0m\u001b[0;34m:\u001b[0m\u001b[0;34m\u001b[0m\u001b[0m\n",
      "\u001b[0;32m~/miniconda3/envs/bigdata/lib/python3.6/site-packages/py4j/protocol.py\u001b[0m in \u001b[0;36mget_return_value\u001b[0;34m(answer, gateway_client, target_id, name)\u001b[0m\n\u001b[1;32m    326\u001b[0m                 raise Py4JJavaError(\n\u001b[1;32m    327\u001b[0m                     \u001b[0;34m\"An error occurred while calling {0}{1}{2}.\\n\"\u001b[0m\u001b[0;34m.\u001b[0m\u001b[0;34m\u001b[0m\u001b[0m\n\u001b[0;32m--> 328\u001b[0;31m                     format(target_id, \".\", name), value)\n\u001b[0m\u001b[1;32m    329\u001b[0m             \u001b[0;32melse\u001b[0m\u001b[0;34m:\u001b[0m\u001b[0;34m\u001b[0m\u001b[0m\n\u001b[1;32m    330\u001b[0m                 raise Py4JError(\n",
      "\u001b[0;31mPy4JJavaError\u001b[0m: An error occurred while calling t.nlp.\n: java.lang.OutOfMemoryError: Java heap space\n\tat java.io.ObjectInputStream$HandleTable.grow(ObjectInputStream.java:3494)\n\tat java.io.ObjectInputStream$HandleTable.assign(ObjectInputStream.java:3300)\n\tat java.io.ObjectInputStream.readOrdinaryObject(ObjectInputStream.java:1799)\n\tat java.io.ObjectInputStream.readObject0(ObjectInputStream.java:1353)\n\tat java.io.ObjectInputStream.readObject(ObjectInputStream.java:373)\n\tat java.util.HashMap.readObject(HashMap.java:1396)\n\tat sun.reflect.GeneratedMethodAccessor4.invoke(Unknown Source)\n\tat sun.reflect.DelegatingMethodAccessorImpl.invoke(DelegatingMethodAccessorImpl.java:43)\n\tat java.lang.reflect.Method.invoke(Method.java:498)\n\tat java.io.ObjectStreamClass.invokeReadObject(ObjectStreamClass.java:1058)\n\tat java.io.ObjectInputStream.readSerialData(ObjectInputStream.java:1909)\n\tat java.io.ObjectInputStream.readOrdinaryObject(ObjectInputStream.java:1808)\n\tat java.io.ObjectInputStream.readObject0(ObjectInputStream.java:1353)\n\tat java.io.ObjectInputStream.defaultReadFields(ObjectInputStream.java:2018)\n\tat java.io.ObjectInputStream.readSerialData(ObjectInputStream.java:1942)\n\tat java.io.ObjectInputStream.readOrdinaryObject(ObjectInputStream.java:1808)\n\tat java.io.ObjectInputStream.readObject0(ObjectInputStream.java:1353)\n\tat java.io.ObjectInputStream.readObject(ObjectInputStream.java:373)\n\tat edu.stanford.nlp.io.IOUtils.readObjectFromURLOrClasspathOrFileSystem(IOUtils.java:309)\n\tat edu.stanford.nlp.coref.statistical.FeatureExtractor.loadVocabulary(FeatureExtractor.java:90)\n\tat edu.stanford.nlp.coref.statistical.FeatureExtractor.<init>(FeatureExtractor.java:75)\n\tat edu.stanford.nlp.coref.statistical.StatisticalCorefAlgorithm.<init>(StatisticalCorefAlgorithm.java:63)\n\tat edu.stanford.nlp.coref.statistical.StatisticalCorefAlgorithm.<init>(StatisticalCorefAlgorithm.java:44)\n\tat edu.stanford.nlp.coref.CorefAlgorithm.fromProps(CorefAlgorithm.java:28)\n\tat edu.stanford.nlp.coref.CorefSystem.<init>(CorefSystem.java:34)\n\tat edu.stanford.nlp.pipeline.CorefAnnotator.<init>(CorefAnnotator.java:67)\n\tat edu.stanford.nlp.pipeline.AnnotatorImplementations.coref(AnnotatorImplementations.java:196)\n\tat edu.stanford.nlp.pipeline.StanfordCoreNLP.lambda$getNamedAnnotators$14(StanfordCoreNLP.java:532)\n\tat edu.stanford.nlp.pipeline.StanfordCoreNLP$$Lambda$25/1144730751.apply(Unknown Source)\n\tat edu.stanford.nlp.pipeline.StanfordCoreNLP.lambda$null$30(StanfordCoreNLP.java:602)\n\tat edu.stanford.nlp.pipeline.StanfordCoreNLP$$Lambda$38/1003814163.get(Unknown Source)\n\tat edu.stanford.nlp.util.Lazy$3.compute(Lazy.java:126)\n"
     ]
    }
   ],
   "source": [
    "en = gateway.entry_point.nlp('en')"
   ]
  }
 ],
 "metadata": {
  "kernelspec": {
   "display_name": "Python 3",
   "language": "python",
   "name": "python3"
  },
  "language_info": {
   "codemirror_mode": {
    "name": "ipython",
    "version": 3
   },
   "file_extension": ".py",
   "mimetype": "text/x-python",
   "name": "python",
   "nbconvert_exporter": "python",
   "pygments_lexer": "ipython3",
   "version": "3.6.9"
  },
  "varInspector": {
   "cols": {
    "lenName": 16,
    "lenType": 16,
    "lenVar": 40
   },
   "kernels_config": {
    "python": {
     "delete_cmd_postfix": "",
     "delete_cmd_prefix": "del ",
     "library": "var_list.py",
     "varRefreshCmd": "print(var_dic_list())"
    },
    "r": {
     "delete_cmd_postfix": ") ",
     "delete_cmd_prefix": "rm(",
     "library": "var_list.r",
     "varRefreshCmd": "cat(var_dic_list()) "
    }
   },
   "types_to_exclude": [
    "module",
    "function",
    "builtin_function_or_method",
    "instance",
    "_Feature"
   ],
   "window_display": false
  }
 },
 "nbformat": 4,
 "nbformat_minor": 2
}
