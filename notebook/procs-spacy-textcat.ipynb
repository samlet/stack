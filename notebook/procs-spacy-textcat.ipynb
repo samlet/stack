{
 "cells": [
  {
   "cell_type": "code",
   "execution_count": 1,
   "metadata": {
    "ExecuteTime": {
     "end_time": "2019-06-16T07:54:14.762680Z",
     "start_time": "2019-06-16T07:54:09.693945Z"
    }
   },
   "outputs": [
    {
     "name": "stdout",
     "output_type": "stream",
     "text": [
      "{'POSITIVE': 0.9999545812606812, 'NEGATIVE': 0.0029810541309416294}\n",
      "{'POSITIVE': 0.03980657830834389, 'NEGATIVE': 0.9391224384307861}\n"
     ]
    }
   ],
   "source": [
    "import spacy\n",
    "nlp = spacy.load('en')\n",
    "\n",
    "train_data = [\n",
    "    (u\"That was very bad\", {\"cats\": {\"POSITIVE\": 0, \"NEGATIVE\": 1}}),\n",
    "    (u\"it is so bad\", {\"cats\": {\"POSITIVE\": 0, \"NEGATIVE\": 1}}),\n",
    "    (u\"so terrible\", {\"cats\": {\"POSITIVE\": 0, \"NEGATIVE\": 1}}),\n",
    "    (u\"I like it\", {\"cats\": {\"POSITIVE\": 1, \"NEGATIVE\": 0}}),\n",
    "    (u\"It is very good.\", {\"cats\": {\"POSITIVE\": 1, \"NEGATIVE\": 0}}),\n",
    "    (u\"That was great!\", {\"cats\": {\"POSITIVE\": 1, \"NEGATIVE\": 0}})\n",
    "]\n",
    "\n",
    "textcat = nlp.create_pipe('textcat')\n",
    "nlp.add_pipe(textcat, last=True)\n",
    "textcat.add_label('POSITIVE')\n",
    "textcat.add_label('NEGATIVE')\n",
    "optimizer = nlp.begin_training()\n",
    "for itn in range(10):\n",
    "    for doc, gold in train_data:\n",
    "        nlp.update([doc], [gold], sgd=optimizer)\n",
    "doc = nlp(u'It is good.')\n",
    "print(doc.cats)\n",
    "doc = nlp(u'It is bad.')\n",
    "print(doc.cats)"
   ]
  }
 ],
 "metadata": {
  "kernelspec": {
   "display_name": "Python 3",
   "language": "python",
   "name": "python3"
  },
  "language_info": {
   "codemirror_mode": {
    "name": "ipython",
    "version": 3
   },
   "file_extension": ".py",
   "mimetype": "text/x-python",
   "name": "python",
   "nbconvert_exporter": "python",
   "pygments_lexer": "ipython3",
   "version": "3.7.3"
  },
  "varInspector": {
   "cols": {
    "lenName": 16,
    "lenType": 16,
    "lenVar": 40
   },
   "kernels_config": {
    "python": {
     "delete_cmd_postfix": "",
     "delete_cmd_prefix": "del ",
     "library": "var_list.py",
     "varRefreshCmd": "print(var_dic_list())"
    },
    "r": {
     "delete_cmd_postfix": ") ",
     "delete_cmd_prefix": "rm(",
     "library": "var_list.r",
     "varRefreshCmd": "cat(var_dic_list()) "
    }
   },
   "types_to_exclude": [
    "module",
    "function",
    "builtin_function_or_method",
    "instance",
    "_Feature"
   ],
   "window_display": false
  }
 },
 "nbformat": 4,
 "nbformat_minor": 2
}
