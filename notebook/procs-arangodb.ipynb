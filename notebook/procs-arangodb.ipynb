{
 "cells": [
  {
   "cell_type": "markdown",
   "metadata": {},
   "source": [
    "⊕ [Tutorial: Python in 10 Minutes - ArangoDB database](https://www.arangodb.com/tutorials/tutorial-python/)\n"
   ]
  },
  {
   "cell_type": "code",
   "execution_count": 1,
   "metadata": {
    "ExecuteTime": {
     "end_time": "2019-05-19T11:57:01.761140Z",
     "start_time": "2019-05-19T11:57:01.496415Z"
    }
   },
   "outputs": [],
   "source": [
    "from pyArango.connection import *\n",
    "conn = Connection(username=\"root\", password=\"\")"
   ]
  },
  {
   "cell_type": "markdown",
   "metadata": {},
   "source": [
    "When this code executes, it initializes the server connection on the conn variable. By default, pyArango attempts to establish a connection to http://127.0.0.1:8529. That is, it wants to initialize a remote connection to your local host on port 8529. If you are hosting ArangoDB on a different server or use a different port, you need to set these options when you instantiate the Connection class.\n",
    "\n"
   ]
  },
  {
   "cell_type": "code",
   "execution_count": 3,
   "metadata": {
    "ExecuteTime": {
     "end_time": "2019-05-19T11:57:51.611124Z",
     "start_time": "2019-05-19T11:57:51.371563Z"
    }
   },
   "outputs": [
    {
     "data": {
      "text/plain": [
       "ArangoDB database: school"
      ]
     },
     "execution_count": 3,
     "metadata": {},
     "output_type": "execute_result"
    }
   ],
   "source": [
    "# db = conn.createDatabase(name=\"school\")\n",
    "db = conn[\"school\"]\n",
    "db"
   ]
  },
  {
   "cell_type": "code",
   "execution_count": 4,
   "metadata": {
    "ExecuteTime": {
     "end_time": "2019-05-19T11:58:03.497402Z",
     "start_time": "2019-05-19T11:58:03.456714Z"
    }
   },
   "outputs": [
    {
     "data": {
      "text/plain": [
       "ArangoDB collection name: Students, id: 13724, type: document, status: loaded"
      ]
     },
     "execution_count": 4,
     "metadata": {},
     "output_type": "execute_result"
    }
   ],
   "source": [
    ">>> studentsCollection = db.createCollection(name=\"Students\")\n",
    ">>> db[\"Students\"]"
   ]
  },
  {
   "cell_type": "markdown",
   "metadata": {},
   "source": [
    "## 创建集合\n",
    "ArangoDB将文档和边缘分组到集合中。这类似于关系数据库中表的概念，但关键的区别是集合是无模式的。\n",
    "\n",
    "在pyArango中，您可以通过调用createCollection()给定数据库上的方法来创建集合。例如，在上一节中，您创建了一个school数据库。您可能希望为该学生提供该数据库的集合。"
   ]
  },
  {
   "cell_type": "code",
   "execution_count": 6,
   "metadata": {
    "ExecuteTime": {
     "end_time": "2019-05-19T12:00:45.206087Z",
     "start_time": "2019-05-19T12:00:45.199362Z"
    }
   },
   "outputs": [
    {
     "data": {
      "text/plain": [
       "ArangoDB collection name: Students, id: 13724, type: document, status: loaded"
      ]
     },
     "execution_count": 6,
     "metadata": {},
     "output_type": "execute_result"
    }
   ],
   "source": [
    "# >>> studentsCollection = db.createCollection(name=\"Students\")\n",
    ">>> db[\"Students\"]"
   ]
  },
  {
   "cell_type": "markdown",
   "metadata": {},
   "source": [
    "## 创建文档\n",
    "设置数据库和集合后，您可以开始向它们添加数据。继续与Relational数据库进行比较，其中集合是表，文档是该表上的一行。但是，与行不同，文档是无模式的。您可以包含应用程序所需的任何值排列。\n",
    "\n",
    "例如，将学生添加到集合中："
   ]
  },
  {
   "cell_type": "code",
   "execution_count": 20,
   "metadata": {
    "ExecuteTime": {
     "end_time": "2019-05-19T12:08:33.282483Z",
     "start_time": "2019-05-19T12:08:33.274980Z"
    }
   },
   "outputs": [
    {
     "data": {
      "text/plain": [
       "ArangoDoc '_id: None, _key: None, _rev: None': <store: {'name': 'John Smith'}>"
      ]
     },
     "execution_count": 20,
     "metadata": {},
     "output_type": "execute_result"
    }
   ],
   "source": [
    ">>> doc1 = studentsCollection.createDocument()\n",
    ">>> doc1[\"name\"] = \"John Smith\"\n",
    ">>> doc1"
   ]
  },
  {
   "cell_type": "code",
   "execution_count": 8,
   "metadata": {
    "ExecuteTime": {
     "end_time": "2019-05-19T12:01:40.480999Z",
     "start_time": "2019-05-19T12:01:40.472128Z"
    }
   },
   "outputs": [
    {
     "data": {
      "text/plain": [
       "ArangoDoc '_id: None, _key: None, _rev: None': <store: {'firstname': 'Emily', 'lastname': 'Bronte'}>"
      ]
     },
     "execution_count": 8,
     "metadata": {},
     "output_type": "execute_result"
    }
   ],
   "source": [
    ">>> doc2 = studentsCollection.createDocument()\n",
    ">>> doc2[\"firstname\"] = \"Emily\"\n",
    ">>> doc2[\"lastname\"] = \"Bronte\"\n",
    ">>> doc2"
   ]
  },
  {
   "cell_type": "markdown",
   "metadata": {},
   "source": [
    "该文档显示_id为“无”，因为您尚未将其保存到ArangoDB。这意味着变量存在于Python代码中，但不存在于数据库中。ArangoDB _id通过将集合名称与值配对来构造值_key。它还为您处理分配，您只需设置密钥并保存文档。\n",
    "\n"
   ]
  },
  {
   "cell_type": "code",
   "execution_count": 21,
   "metadata": {
    "ExecuteTime": {
     "end_time": "2019-05-19T12:08:40.014843Z",
     "start_time": "2019-05-19T12:08:40.002601Z"
    }
   },
   "outputs": [
    {
     "data": {
      "text/plain": [
       "ArangoDoc '_id: Students/johnsmith, _key: johnsmith, _rev: _Yq3PTwu--_': <store: {'name': 'John Smith'}>"
      ]
     },
     "execution_count": 21,
     "metadata": {},
     "output_type": "execute_result"
    }
   ],
   "source": [
    ">>> doc1._key = \"johnsmith\"\n",
    ">>> doc1.save()\n",
    ">>> doc1"
   ]
  },
  {
   "cell_type": "code",
   "execution_count": 22,
   "metadata": {
    "ExecuteTime": {
     "end_time": "2019-05-19T12:08:42.919514Z",
     "start_time": "2019-05-19T12:08:42.906141Z"
    }
   },
   "outputs": [
    {
     "data": {
      "text/plain": [
       "ArangoDoc '_id: Students/johnsmith, _key: johnsmith, _rev: _Yq3PTwu--_': <store: {'name': 'John Smith'}>"
      ]
     },
     "execution_count": 22,
     "metadata": {},
     "output_type": "execute_result"
    }
   ],
   "source": [
    "studentsCollection[\"johnsmith\"]"
   ]
  },
  {
   "cell_type": "markdown",
   "metadata": {},
   "source": [
    "您可能希望从数据库中删除文档。这可以通过该delete()方法完成。"
   ]
  },
  {
   "cell_type": "code",
   "execution_count": 23,
   "metadata": {
    "ExecuteTime": {
     "end_time": "2019-05-19T12:08:45.117136Z",
     "start_time": "2019-05-19T12:08:45.103806Z"
    }
   },
   "outputs": [],
   "source": [
    ">>> tom = studentsCollection[\"johnsmith\"]\n",
    ">>> tom.delete()\n",
    "# >>> studentsCollection[\"johnsmith\"]"
   ]
  },
  {
   "cell_type": "code",
   "execution_count": 10,
   "metadata": {
    "ExecuteTime": {
     "end_time": "2019-05-19T12:03:14.047015Z",
     "start_time": "2019-05-19T12:03:13.959366Z"
    }
   },
   "outputs": [],
   "source": [
    "students = [('Oscar', 'Wilde', 3.5), ('Thomas', 'Hobbes', 3.2), \n",
    "    ('Mark', 'Twain', 3.0), ('Kate', 'Chopin', 3.8), ('Fyodor', 'Dostoevsky', 3.1), \n",
    "    ('Jane', 'Austen',3.4), ('Mary', 'Wollstonecraft', 3.7), ('Percy', 'Shelley', 3.5), \n",
    "    ('William', 'Faulkner', 3.8), ('Charlotte', 'Bronte', 3.0)]\n",
    "for (first, last, gpa) in students:\n",
    "    doc = studentsCollection.createDocument()\n",
    "    doc['name'] = \"%s %s\" % (first, last)\n",
    "    doc['gpa'] = gpa \n",
    "    doc['year'] = 2017\n",
    "    doc._key = ''.join([first, last]).lower() \n",
    "    doc.save()"
   ]
  },
  {
   "cell_type": "code",
   "execution_count": 12,
   "metadata": {
    "ExecuteTime": {
     "end_time": "2019-05-19T12:04:02.957262Z",
     "start_time": "2019-05-19T12:04:02.919776Z"
    }
   },
   "outputs": [
    {
     "name": "stdout",
     "output_type": "stream",
     "text": [
      "Student: Kate Chopin\n",
      "GPA:     3.8\n"
     ]
    }
   ],
   "source": [
    "# 访问数据库中的文档。最简单的方法是使用_key值。\n",
    "def report_gpa(document):\n",
    "    print(\"Student: %s\" % document['name'])\n",
    "    print(\"GPA:     %s\" % document['gpa'])\n",
    "kate = studentsCollection['katechopin']\n",
    "report_gpa(kate)"
   ]
  },
  {
   "cell_type": "code",
   "execution_count": 13,
   "metadata": {
    "ExecuteTime": {
     "end_time": "2019-05-19T12:04:53.143083Z",
     "start_time": "2019-05-19T12:04:53.137554Z"
    }
   },
   "outputs": [],
   "source": [
    "# 当您从ArangoDB中读取文档到您的应用程序时，您将创建该文档的本地副本。然后，您可以对文档进行操作，对其进行任何更改，然后使用该save()方法将结果推送到数据库。\n",
    "def update_gpa(key, new_gpa):\n",
    "   doc = studentsCollection[key]\n",
    "   doc['gpa'] = new_gpa\n",
    "   doc.save()"
   ]
  },
  {
   "cell_type": "code",
   "execution_count": 24,
   "metadata": {
    "ExecuteTime": {
     "end_time": "2019-05-19T12:08:50.283355Z",
     "start_time": "2019-05-19T12:08:50.268809Z"
    }
   },
   "outputs": [
    {
     "name": "stdout",
     "output_type": "stream",
     "text": [
      "Top Soring Students:\n",
      "- Mary Wollstonecraft\n",
      "- Kate Chopin\n",
      "- Percy Shelley\n",
      "- William Faulkner\n",
      "- Oscar Wilde\n"
     ]
    }
   ],
   "source": [
    "# 您可能希望对给定集合中的所有文档进行操作。使用该fetchAll()方法，您可以检索并迭代文档列表。例如，假设这是学期结束，你想知道哪些学生的平均成绩高于3.5：\n",
    "def top_scores(col, gpa):\n",
    "   print(\"Top Soring Students:\")\n",
    "   for student in col.fetchAll():\n",
    "      if student['gpa'] >= gpa:\n",
    "         print(\"- %s\" % student['name'])\n",
    "top_scores(studentsCollection, 3.5)"
   ]
  },
  {
   "cell_type": "markdown",
   "metadata": {},
   "source": [
    "## AQL用法\n",
    "除了上面显示的Python方法之外，ArangoDB还提供了一种查询语言（称为AQL），用于检索和修改数据库上的文档。在pyArango中，您可以使用该AQLQuery()方法发出这些查询。\n",
    "\n",
    "例如，假设您要检索ArangoDB中所有文档的密钥："
   ]
  },
  {
   "cell_type": "code",
   "execution_count": 25,
   "metadata": {
    "ExecuteTime": {
     "end_time": "2019-05-19T12:09:49.238589Z",
     "start_time": "2019-05-19T12:09:49.227795Z"
    }
   },
   "outputs": [
    {
     "name": "stdout",
     "output_type": "stream",
     "text": [
      "marywollstonecraft\n",
      "katechopin\n",
      "percyshelley\n",
      "fyodordostoevsky\n",
      "marktwain\n",
      "williamfaulkner\n",
      "oscarwilde\n",
      "charlottebronte\n",
      "thomashobbes\n",
      "janeausten\n"
     ]
    }
   ],
   "source": [
    "aql = \"FOR x IN Students RETURN x._key\"\n",
    "queryResult = db.AQLQuery(aql, rawResults=True, batchSize=100)\n",
    "for key in queryResult:\n",
    "   print(key)"
   ]
  },
  {
   "cell_type": "markdown",
   "metadata": {},
   "source": [
    "在上面的示例中，该AQLQuery()方法将AQL查询作为参数，并带有两个附加选项：\n",
    "\n",
    "* rawResults 定义是否需要查询返回的实际结果。\n",
    "* batchSize 当查询返回的结果多于给定值时，pyArango驱动程序会自动请求新批次。\n",
    "\n",
    "请记住，文件的顺序不能保证。如果您需要按特定顺序排列结果，请在AQL查询中添加sort子句。"
   ]
  },
  {
   "cell_type": "markdown",
   "metadata": {},
   "source": [
    "⊕ [Graph | Example AQL Queries for Graphs | Cookbook | ArangoDB Documentation](https://www.arangodb.com/docs/stable/cookbook/graph-example-actors-and-movies.html)\n"
   ]
  },
  {
   "cell_type": "markdown",
   "metadata": {},
   "source": [
    "During this solution we will be using arangosh to create and query the data. All the AQL queries are strings and can simply be copied over to your favorite driver instead of arangosh.\n",
    "\n",
    "Create a Test Dataset in arangosh: ...\n",
    "\n",
    "示例是使用nodejs编写的."
   ]
  },
  {
   "cell_type": "markdown",
   "metadata": {},
   "source": [
    "## 使用AQL插入文档\n",
    "与上面的文档创建类似，您也可以使用AQL将文档插入ArangoDB。这是通过INSERT使用bindVars该AQLQuery()方法选项的语句完成的。"
   ]
  },
  {
   "cell_type": "code",
   "execution_count": 26,
   "metadata": {
    "ExecuteTime": {
     "end_time": "2019-05-19T12:19:09.506860Z",
     "start_time": "2019-05-19T12:19:09.492967Z"
    }
   },
   "outputs": [],
   "source": [
    ">>> doc = {'_key': 'denisdiderot', 'name': 'Denis Diderot', 'gpa': 3.7}\n",
    ">>> bind = {\"doc\": doc}\n",
    ">>> aql = \"INSERT @doc INTO Students LET newDoc = NEW RETURN newDoc\"\n",
    ">>> queryResult = db.AQLQuery(aql, bindVars=bind)"
   ]
  },
  {
   "cell_type": "code",
   "execution_count": 27,
   "metadata": {
    "ExecuteTime": {
     "end_time": "2019-05-19T12:19:26.714380Z",
     "start_time": "2019-05-19T12:19:26.706541Z"
    }
   },
   "outputs": [
    {
     "data": {
      "text/plain": [
       "ArangoDoc '_id: Students/denisdiderot, _key: denisdiderot, _rev: _Yq3Y6fK--_': <store: {'gpa': 3.7, 'name': 'Denis Diderot'}>"
      ]
     },
     "execution_count": 27,
     "metadata": {},
     "output_type": "execute_result"
    }
   ],
   "source": [
    "queryResult[0]"
   ]
  },
  {
   "cell_type": "markdown",
   "metadata": {},
   "source": [
    "## 使用AQL更新文档\n",
    "如果数据库中已存在文档并且您想要修改该文档中的数据，则可以使用该UPDATE语句。例如，假设您在CSV文件中收到学生的更新成绩点平均值。\n",
    "\n",
    "首先，检查其中一个学生的GPA以查看旧值："
   ]
  },
  {
   "cell_type": "code",
   "execution_count": 28,
   "metadata": {
    "ExecuteTime": {
     "end_time": "2019-05-19T12:19:49.960057Z",
     "start_time": "2019-05-19T12:19:49.946422Z"
    }
   },
   "outputs": [
    {
     "data": {
      "text/plain": [
       "ArangoDoc '_id: Students/katechopin, _key: katechopin, _rev: _Yq3KVZK--_': <store: {'name': 'Kate Chopin', 'gpa': 3.8, 'year': 2017}>"
      ]
     },
     "execution_count": 28,
     "metadata": {},
     "output_type": "execute_result"
    }
   ],
   "source": [
    "db[\"Students\"][\"katechopin\"]"
   ]
  },
  {
   "cell_type": "code",
   "execution_count": 30,
   "metadata": {
    "ExecuteTime": {
     "end_time": "2019-05-19T12:20:53.582889Z",
     "start_time": "2019-05-19T12:20:53.563650Z"
    }
   },
   "outputs": [
    {
     "ename": "FileNotFoundError",
     "evalue": "[Errno 2] No such file or directory: 'grades.csv'",
     "output_type": "error",
     "traceback": [
      "\u001b[0;31m---------------------------------------------------------------------------\u001b[0m",
      "\u001b[0;31mFileNotFoundError\u001b[0m                         Traceback (most recent call last)",
      "\u001b[0;32m<ipython-input-30-2f34b7576eb8>\u001b[0m in \u001b[0;36m<module>\u001b[0;34m()\u001b[0m\n\u001b[1;32m      1\u001b[0m \u001b[0;31m# 然后遍历文件，更新每个学生的GPA：\u001b[0m\u001b[0;34m\u001b[0m\u001b[0;34m\u001b[0m\u001b[0m\n\u001b[0;32m----> 2\u001b[0;31m \u001b[0;32mwith\u001b[0m \u001b[0mopen\u001b[0m\u001b[0;34m(\u001b[0m\u001b[0;34m\"grades.csv\"\u001b[0m\u001b[0;34m,\u001b[0m \u001b[0;34m\"r\"\u001b[0m\u001b[0;34m)\u001b[0m \u001b[0;32mas\u001b[0m \u001b[0mf\u001b[0m\u001b[0;34m:\u001b[0m\u001b[0;34m\u001b[0m\u001b[0m\n\u001b[0m\u001b[1;32m      3\u001b[0m    \u001b[0mgrades\u001b[0m \u001b[0;34m=\u001b[0m \u001b[0mf\u001b[0m\u001b[0;34m.\u001b[0m\u001b[0mread\u001b[0m\u001b[0;34m(\u001b[0m\u001b[0;34m)\u001b[0m\u001b[0;34m.\u001b[0m\u001b[0msplit\u001b[0m\u001b[0;34m(\u001b[0m\u001b[0;34m','\u001b[0m\u001b[0;34m)\u001b[0m\u001b[0;34m\u001b[0m\u001b[0m\n\u001b[1;32m      4\u001b[0m \u001b[0;32mfor\u001b[0m \u001b[0mkey\u001b[0m\u001b[0;34m,\u001b[0m\u001b[0mgpa\u001b[0m \u001b[0;32min\u001b[0m \u001b[0mgrades\u001b[0m\u001b[0;34m.\u001b[0m\u001b[0mitems\u001b[0m\u001b[0;34m(\u001b[0m\u001b[0;34m)\u001b[0m\u001b[0;34m:\u001b[0m\u001b[0;34m\u001b[0m\u001b[0m\n\u001b[1;32m      5\u001b[0m    \u001b[0mdoc\u001b[0m \u001b[0;34m=\u001b[0m \u001b[0;34m{\u001b[0m\u001b[0;34m\"gpa\"\u001b[0m\u001b[0;34m:\u001b[0m \u001b[0mfloat\u001b[0m\u001b[0;34m(\u001b[0m\u001b[0mgpa\u001b[0m\u001b[0;34m)\u001b[0m\u001b[0;34m}\u001b[0m\u001b[0;34m\u001b[0m\u001b[0m\n",
      "\u001b[0;31mFileNotFoundError\u001b[0m: [Errno 2] No such file or directory: 'grades.csv'"
     ]
    }
   ],
   "source": [
    "# 然后遍历文件，更新每个学生的GPA：\n",
    "with open(\"grades.csv\", \"r\") as f:\n",
    "   grades = f.read().split(',')\n",
    "for key,gpa in grades.items():\n",
    "   doc = {\"gpa\": float(gpa)}\n",
    "   bind = {\"doc\": doc, \"key\": key}\n",
    "   aql = \"UPDATE @key WITH @doc IN Stdents LET pdated NEW RETRN updated\"\n",
    "   db.AQLQuery(aql, bindVars=bind)\n",
    "\n",
    "# 最后，再次检查学生的GPA。\n",
    "db[\"Students\"][\"katechopin\"]"
   ]
  }
 ],
 "metadata": {
  "kernelspec": {
   "display_name": "Python 3",
   "language": "python",
   "name": "python3"
  },
  "language_info": {
   "codemirror_mode": {
    "name": "ipython",
    "version": 3
   },
   "file_extension": ".py",
   "mimetype": "text/x-python",
   "name": "python",
   "nbconvert_exporter": "python",
   "pygments_lexer": "ipython3",
   "version": "3.6.4"
  },
  "varInspector": {
   "cols": {
    "lenName": 16,
    "lenType": 16,
    "lenVar": 40
   },
   "kernels_config": {
    "python": {
     "delete_cmd_postfix": "",
     "delete_cmd_prefix": "del ",
     "library": "var_list.py",
     "varRefreshCmd": "print(var_dic_list())"
    },
    "r": {
     "delete_cmd_postfix": ") ",
     "delete_cmd_prefix": "rm(",
     "library": "var_list.r",
     "varRefreshCmd": "cat(var_dic_list()) "
    }
   },
   "types_to_exclude": [
    "module",
    "function",
    "builtin_function_or_method",
    "instance",
    "_Feature"
   ],
   "window_display": false
  }
 },
 "nbformat": 4,
 "nbformat_minor": 2
}
