{
 "cells": [
  {
   "cell_type": "code",
   "execution_count": 1,
   "metadata": {
    "ExecuteTime": {
     "end_time": "2019-09-03T09:14:51.643800Z",
     "start_time": "2019-09-03T09:14:49.190808Z"
    }
   },
   "outputs": [
    {
     "data": {
      "text/plain": [
       "'ɦindiː'"
      ]
     },
     "execution_count": 1,
     "metadata": {},
     "output_type": "execute_result"
    }
   ],
   "source": [
    "from epitran.backoff import Backoff\n",
    "backoff = Backoff(['hin-Deva', 'eng-Latn'])\n",
    "backoff.transliterate('हिन्दी')"
   ]
  },
  {
   "cell_type": "code",
   "execution_count": 2,
   "metadata": {
    "ExecuteTime": {
     "end_time": "2019-09-03T09:14:56.734863Z",
     "start_time": "2019-09-03T09:14:56.717522Z"
    }
   },
   "outputs": [
    {
     "data": {
      "text/plain": [
       "'do aːdmiː ɔːr tiːn ɔːrten'"
      ]
     },
     "execution_count": 2,
     "metadata": {},
     "output_type": "execute_result"
    }
   ],
   "source": [
    "backoff.transliterate('दो आदमी और तीन औरतें')"
   ]
  },
  {
   "cell_type": "code",
   "execution_count": 5,
   "metadata": {
    "ExecuteTime": {
     "end_time": "2019-09-03T09:17:27.088377Z",
     "start_time": "2019-09-03T09:17:26.267420Z"
    }
   },
   "outputs": [
    {
     "name": "stdout",
     "output_type": "stream",
     "text": [
      "dyɰyn\n"
     ]
    }
   ],
   "source": [
    "import epitran\n",
    "epi = epitran.Epitran('tur-Latn')\n",
    "# epi.word_to_tuples(u'Düğün')\n",
    "print(epi.transliterate(u'Düğün'))"
   ]
  },
  {
   "cell_type": "code",
   "execution_count": 8,
   "metadata": {
    "ExecuteTime": {
     "end_time": "2019-09-03T09:17:59.346777Z",
     "start_time": "2019-09-03T09:17:59.328078Z"
    }
   },
   "outputs": [
    {
     "name": "stdout",
     "output_type": "stream",
     "text": [
      "dyɰyn\n"
     ]
    }
   ],
   "source": [
    "print(epi.transliterate(u'Düğün', normpunc=True, ligatures=True))"
   ]
  },
  {
   "cell_type": "markdown",
   "metadata": {},
   "source": [
    "https://github.com/dmort27/epitran"
   ]
  },
  {
   "cell_type": "code",
   "execution_count": 11,
   "metadata": {
    "ExecuteTime": {
     "end_time": "2019-09-03T09:21:24.164045Z",
     "start_time": "2019-09-03T09:21:22.053544Z"
    }
   },
   "outputs": [],
   "source": [
    "epi_ar = epitran.Epitran('ara-Arab')\n",
    "epi_fa = epitran.Epitran('fas-Arab')"
   ]
  },
  {
   "cell_type": "code",
   "execution_count": 10,
   "metadata": {
    "ExecuteTime": {
     "end_time": "2019-09-03T09:19:33.499039Z",
     "start_time": "2019-09-03T09:19:33.488077Z"
    }
   },
   "outputs": [
    {
     "name": "stdout",
     "output_type": "stream",
     "text": [
      "haː huː klbk.\n"
     ]
    }
   ],
   "source": [
    "print(epi_ar.transliterate('ها هو كلبك.'))"
   ]
  },
  {
   "cell_type": "code",
   "execution_count": 12,
   "metadata": {
    "ExecuteTime": {
     "end_time": "2019-09-03T09:22:05.565481Z",
     "start_time": "2019-09-03T09:22:05.544544Z"
    }
   },
   "outputs": [
    {
     "name": "stdout",
     "output_type": "stream",
     "text": [
      "mn sɡ ndɒrm.\n"
     ]
    }
   ],
   "source": [
    "print(epi_fa.transliterate('من سگ ندارم.'))"
   ]
  },
  {
   "cell_type": "code",
   "execution_count": 15,
   "metadata": {
    "ExecuteTime": {
     "end_time": "2019-09-03T18:32:19.583845Z",
     "start_time": "2019-09-03T18:32:19.561701Z"
    }
   },
   "outputs": [
    {
     "name": "stdout",
     "output_type": "stream",
     "text": [
      "ɒjn ʔmvj mn ɒst\n"
     ]
    }
   ],
   "source": [
    "fa=\"این عموی من است\"\n",
    "print(epi_fa.transliterate(fa))"
   ]
  },
  {
   "cell_type": "code",
   "execution_count": 13,
   "metadata": {
    "ExecuteTime": {
     "end_time": "2019-09-03T09:38:02.457255Z",
     "start_time": "2019-09-03T09:38:01.622689Z"
    }
   },
   "outputs": [],
   "source": [
    "epi_hi = epitran.Epitran('hin-Deva')"
   ]
  },
  {
   "cell_type": "code",
   "execution_count": 14,
   "metadata": {
    "ExecuteTime": {
     "end_time": "2019-09-03T09:38:29.441006Z",
     "start_time": "2019-09-03T09:38:29.425346Z"
    }
   },
   "outputs": [
    {
     "name": "stdout",
     "output_type": "stream",
     "text": [
      "do aːdmiː ɔːrə tiːnə ɔːrten\n"
     ]
    }
   ],
   "source": [
    "print(epi_hi.transliterate('दो आदमी और तीन औरतें'))"
   ]
  },
  {
   "cell_type": "code",
   "execution_count": 21,
   "metadata": {
    "ExecuteTime": {
     "end_time": "2019-09-03T21:33:49.138488Z",
     "start_time": "2019-09-03T21:33:49.122298Z"
    }
   },
   "outputs": [
    {
     "data": {
      "text/plain": [
       "'Psápphō'"
      ]
     },
     "execution_count": 21,
     "metadata": {},
     "output_type": "execute_result"
    }
   ],
   "source": [
    "# https://gist.github.com/dpk/8325992\n",
    "import icu\n",
    "greek2latin = icu.Transliterator.createInstance('Greek-Latin')\n",
    "greek2latin.transliterate('Ψάπφω') # => 'Psápphō'"
   ]
  },
  {
   "cell_type": "code",
   "execution_count": 19,
   "metadata": {
    "ExecuteTime": {
     "end_time": "2019-09-03T21:33:08.543686Z",
     "start_time": "2019-09-03T21:33:08.501885Z"
    }
   },
   "outputs": [
    {
     "data": {
      "text/plain": [
       "'Ψάπφω'"
      ]
     },
     "execution_count": 19,
     "metadata": {},
     "output_type": "execute_result"
    }
   ],
   "source": [
    "latin2greek = icu.Transliterator.createInstance('Greek-Latin', icu.UTransDirection.REVERSE)\n",
    "latin2greek.transliterate('Psápphō') # => 'Ψάπφω'"
   ]
  },
  {
   "cell_type": "code",
   "execution_count": 20,
   "metadata": {
    "ExecuteTime": {
     "end_time": "2019-09-03T21:33:19.439753Z",
     "start_time": "2019-09-03T21:33:19.428752Z"
    }
   },
   "outputs": [
    {
     "data": {
      "text/plain": [
       "'Ψάπφω'"
      ]
     },
     "execution_count": 20,
     "metadata": {},
     "output_type": "execute_result"
    }
   ],
   "source": [
    "latin2greek = greek2latin.createInverse()\n",
    "latin2greek.transliterate('Psápphō') # => 'Ψάπφω'"
   ]
  },
  {
   "cell_type": "code",
   "execution_count": 22,
   "metadata": {
    "ExecuteTime": {
     "end_time": "2019-09-03T21:34:40.929964Z",
     "start_time": "2019-09-03T21:34:40.909895Z"
    }
   },
   "outputs": [
    {
     "data": {
      "text/plain": [
       "'Aristotélēs, Plátōn, Sōkrátēs'"
      ]
     },
     "execution_count": 22,
     "metadata": {},
     "output_type": "execute_result"
    }
   ],
   "source": [
    ">>> import icu\n",
    ">>> tr = icu.Transliterator.createInstance('Any-Latin; Title').transliterate\n",
    ">>> tr('Ἀριστοτέλης, Πλάτων, Σωκράτης')"
   ]
  },
  {
   "cell_type": "code",
   "execution_count": 36,
   "metadata": {
    "ExecuteTime": {
     "end_time": "2019-09-03T21:51:38.542281Z",
     "start_time": "2019-09-03T21:51:38.522464Z"
    }
   },
   "outputs": [
    {
     "data": {
      "text/plain": [
       "'aristotélēs, plátōn, sōkrátēs'"
      ]
     },
     "execution_count": 36,
     "metadata": {},
     "output_type": "execute_result"
    }
   ],
   "source": [
    "tr_l = icu.Transliterator.createInstance('Any-Latin; Lower').transliterate\n",
    "tr_l('Ἀριστοτέλης, Πλάτων, Σωκράτης')"
   ]
  },
  {
   "cell_type": "code",
   "execution_count": 23,
   "metadata": {
    "ExecuteTime": {
     "end_time": "2019-09-03T21:34:55.997632Z",
     "start_time": "2019-09-03T21:34:55.591269Z"
    }
   },
   "outputs": [
    {
     "data": {
      "text/plain": [
       "'Rì Běn Guó'"
      ]
     },
     "execution_count": 23,
     "metadata": {},
     "output_type": "execute_result"
    }
   ],
   "source": [
    "tr('日本国')  # \"Nippon-koku\" = Japan"
   ]
  },
  {
   "cell_type": "code",
   "execution_count": 24,
   "metadata": {
    "ExecuteTime": {
     "end_time": "2019-09-03T21:36:39.784086Z",
     "start_time": "2019-09-03T21:36:39.765344Z"
    }
   },
   "outputs": [
    {
     "data": {
      "text/plain": [
       "'Kẖạlh'"
      ]
     },
     "execution_count": 24,
     "metadata": {},
     "output_type": "execute_result"
    }
   ],
   "source": [
    "fa=\"خاله\"\n",
    "tr(fa)"
   ]
  },
  {
   "cell_type": "code",
   "execution_count": 25,
   "metadata": {
    "ExecuteTime": {
     "end_time": "2019-09-03T21:36:57.610833Z",
     "start_time": "2019-09-03T21:36:57.599413Z"
    }
   },
   "outputs": [
    {
     "data": {
      "text/plain": [
       "'Ạy̰n ʿmwy̰ Mn Ạst'"
      ]
     },
     "execution_count": 25,
     "metadata": {},
     "output_type": "execute_result"
    }
   ],
   "source": [
    "fa=\"این عموی من است\"\n",
    "tr(fa)"
   ]
  },
  {
   "cell_type": "code",
   "execution_count": 53,
   "metadata": {
    "ExecuteTime": {
     "end_time": "2019-09-04T13:21:17.336794Z",
     "start_time": "2019-09-04T13:21:17.310289Z"
    }
   },
   "outputs": [
    {
     "name": "stdout",
     "output_type": "stream",
     "text": [
      "ạlʿạỷlẗ lyst ṣgẖyrẗ\n",
      "alʿaylt lyst sghyrt\n",
      "alʿaylt lyst sghyrt\n",
      "ayn ʿmwy mn ast\n"
     ]
    }
   ],
   "source": [
    "# v0=\"aleayilat laysat saghiratan\"\n",
    "ar=\"العائلة ليست صغيرة\"\n",
    "tr_1 = icu.Transliterator.createInstance('Any-Latin; Lower').transliterate\n",
    "tr_2 = icu.Transliterator.createInstance('Any-Latin; Latin-ASCII').transliterate\n",
    "tr_3 = icu.Transliterator.createInstance('Arabic-Latin; Latin-ASCII').transliterate\n",
    "# tr_l = icu.Transliterator.createInstance('Latin-ASCII; Lower').transliterate\n",
    "print(tr_1(ar))\n",
    "print(tr_2(ar))\n",
    "print(tr_3(ar))\n",
    "print(tr_2(fa))"
   ]
  },
  {
   "cell_type": "code",
   "execution_count": 69,
   "metadata": {
    "ExecuteTime": {
     "end_time": "2019-09-04T15:08:41.170216Z",
     "start_time": "2019-09-04T15:08:41.151193Z"
    }
   },
   "outputs": [
    {
     "data": {
      "text/plain": [
       "'Yş Ly Klb'"
      ]
     },
     "execution_count": 69,
     "metadata": {},
     "output_type": "execute_result"
    }
   ],
   "source": [
    "he=\"יש לי כלב\"\n",
    "tr(he)"
   ]
  },
  {
   "cell_type": "code",
   "execution_count": 55,
   "metadata": {
    "ExecuteTime": {
     "end_time": "2019-09-04T13:22:25.445034Z",
     "start_time": "2019-09-04T13:22:25.431734Z"
    }
   },
   "outputs": [
    {
     "name": "stdout",
     "output_type": "stream",
     "text": [
      "Mujhē Kŏphī Pīnā Hai\n",
      "mujhē kŏphī pīnā hai\n",
      "mujhe kophi pina hai\n"
     ]
    }
   ],
   "source": [
    "hi=\"मुझे कॉफी पीना है\"\n",
    "print(tr(hi))\n",
    "print(tr_1(hi))\n",
    "print(tr_2(hi))"
   ]
  },
  {
   "cell_type": "code",
   "execution_count": 27,
   "metadata": {
    "ExecuteTime": {
     "end_time": "2019-09-03T21:40:44.867445Z",
     "start_time": "2019-09-03T21:40:44.848409Z"
    }
   },
   "outputs": [
    {
     "data": {
      "text/plain": [
       "'Kyanpasu'"
      ]
     },
     "execution_count": 27,
     "metadata": {},
     "output_type": "execute_result"
    }
   ],
   "source": [
    "tr('キャンパス')"
   ]
  },
  {
   "cell_type": "code",
   "execution_count": 63,
   "metadata": {
    "ExecuteTime": {
     "end_time": "2019-09-04T14:20:57.817061Z",
     "start_time": "2019-09-04T14:20:57.767779Z"
    }
   },
   "outputs": [
    {
     "data": {
      "text/plain": [
       "'Shizutsu'"
      ]
     },
     "execution_count": 63,
     "metadata": {},
     "output_type": "execute_result"
    }
   ],
   "source": [
    "tr('しずつ')"
   ]
  },
  {
   "cell_type": "code",
   "execution_count": 64,
   "metadata": {
    "ExecuteTime": {
     "end_time": "2019-09-04T14:21:28.234647Z",
     "start_time": "2019-09-04T14:21:28.212737Z"
    }
   },
   "outputs": [
    {
     "data": {
      "text/plain": [
       "'Shǎoshizutsu Shàng Dáshitekita……Kana？'"
      ]
     },
     "execution_count": 64,
     "metadata": {},
     "output_type": "execute_result"
    }
   ],
   "source": [
    "tr('少しずつ上達してきた……かな？')"
   ]
  },
  {
   "cell_type": "code",
   "execution_count": 59,
   "metadata": {
    "ExecuteTime": {
     "end_time": "2019-09-04T13:31:20.885773Z",
     "start_time": "2019-09-04T13:31:20.723731Z"
    }
   },
   "outputs": [
    {
     "name": "stdout",
     "output_type": "stream",
     "text": [
      "ASCII-Latin\n",
      "Accents-Any\n",
      "Amharic-Latin/BGN\n",
      "Any-Accents\n",
      "Any-Publishing\n",
      "Arab-Latn\n",
      "Arabic-Latin\n",
      "Arabic-Latin/BGN\n",
      "Armenian-Latin\n",
      "Armenian-Latin/BGN\n",
      "Armn-Latn\n",
      "Azerbaijani-Latin/BGN\n",
      "Belarusian-Latin/BGN\n",
      "Beng-Arab\n",
      "Beng-Deva\n",
      "Beng-Gujr\n",
      "Beng-Guru\n",
      "Beng-Knda\n",
      "Beng-Latn\n",
      "Beng-Mlym\n",
      "Beng-Orya\n",
      "Beng-Taml\n",
      "Beng-Telu\n",
      "Beng-ur\n",
      "Bengali-Arabic\n",
      "Bengali-Devanagari\n",
      "Bengali-Gujarati\n",
      "Bengali-Gurmukhi\n",
      "Bengali-Kannada\n",
      "Bengali-Latin\n",
      "Bengali-Malayalam\n",
      "Bengali-Oriya\n",
      "Bengali-Tamil\n",
      "Bengali-Telugu\n",
      "Bopo-Latn\n",
      "Bopomofo-Latin\n",
      "Bulgarian-Latin/BGN\n",
      "Cyrillic-Latin\n",
      "Cyrl-Latn\n",
      "Deva-Arab\n",
      "Deva-Beng\n",
      "Deva-Gujr\n",
      "Deva-Guru\n",
      "Deva-Knda\n",
      "Deva-Latn\n",
      "Deva-Mlym\n",
      "Deva-Orya\n",
      "Deva-Taml\n",
      "Deva-Telu\n",
      "Deva-ur\n",
      "Devanagari-Arabic\n",
      "Devanagari-Bengali\n",
      "Devanagari-Gujarati\n",
      "Devanagari-Gurmukhi\n",
      "Devanagari-Kannada\n",
      "Devanagari-Latin\n",
      "Devanagari-Malayalam\n",
      "Devanagari-Oriya\n",
      "Devanagari-Tamil\n",
      "Devanagari-Telugu\n",
      "Digit-Tone\n",
      "Fullwidth-Halfwidth\n",
      "Geor-Latn\n",
      "Georgian-Latin\n",
      "Georgian-Latin/BGN\n",
      "Greek-Latin\n",
      "Greek-Latin/BGN\n",
      "Greek-Latin/UNGEGN\n",
      "Grek-Latn\n",
      "Grek-Latn/UNGEGN\n",
      "Gujarati-Arabic\n",
      "Gujarati-Bengali\n",
      "Gujarati-Devanagari\n",
      "Gujarati-Gurmukhi\n",
      "Gujarati-Kannada\n",
      "Gujarati-Latin\n",
      "Gujarati-Malayalam\n",
      "Gujarati-Oriya\n",
      "Gujarati-Tamil\n",
      "Gujarati-Telugu\n",
      "Gujr-Arab\n",
      "Gujr-Beng\n",
      "Gujr-Deva\n",
      "Gujr-Guru\n",
      "Gujr-Knda\n",
      "Gujr-Latn\n",
      "Gujr-Mlym\n",
      "Gujr-Orya\n",
      "Gujr-Taml\n",
      "Gujr-Telu\n",
      "Gujr-ur\n",
      "Gurmukhi-Arabic\n",
      "Gurmukhi-Bengali\n",
      "Gurmukhi-Devanagari\n",
      "Gurmukhi-Gujarati\n",
      "Gurmukhi-Kannada\n",
      "Gurmukhi-Latin\n",
      "Gurmukhi-Malayalam\n",
      "Gurmukhi-Oriya\n",
      "Gurmukhi-Tamil\n",
      "Gurmukhi-Telugu\n",
      "Guru-Arab\n",
      "Guru-Beng\n",
      "Guru-Deva\n",
      "Guru-Gujr\n",
      "Guru-Knda\n",
      "Guru-Latn\n",
      "Guru-Mlym\n",
      "Guru-Orya\n",
      "Guru-Taml\n",
      "Guru-Telu\n",
      "Guru-ur\n",
      "Halfwidth-Fullwidth\n",
      "Han-Latin\n",
      "Han-Latin/Names\n",
      "Hang-Latn\n",
      "Hangul-Latin\n",
      "Hani-Latn\n",
      "Hans-Hant\n",
      "Hant-Hans\n",
      "Hebr-Latn\n",
      "Hebrew-Latin\n",
      "Hebrew-Latin/BGN\n",
      "Hira-Kana\n",
      "Hira-Latn\n",
      "Hiragana-Katakana\n",
      "Hiragana-Latin\n",
      "IPA-XSampa\n",
      "Jamo-Latin\n",
      "Jamo-Latn\n",
      "Kana-Hira\n",
      "Kana-Latn\n",
      "Kannada-Arabic\n",
      "Kannada-Bengali\n",
      "Kannada-Devanagari\n",
      "Kannada-Gujarati\n",
      "Kannada-Gurmukhi\n",
      "Kannada-Latin\n",
      "Kannada-Malayalam\n",
      "Kannada-Oriya\n",
      "Kannada-Tamil\n",
      "Kannada-Telugu\n",
      "Katakana-Hiragana\n",
      "Katakana-Latin\n",
      "Katakana-Latin/BGN\n",
      "Kazakh-Latin/BGN\n",
      "Kirghiz-Latin/BGN\n",
      "Knda-Arab\n",
      "Knda-Beng\n",
      "Knda-Deva\n",
      "Knda-Gujr\n",
      "Knda-Guru\n",
      "Knda-Latn\n",
      "Knda-Mlym\n",
      "Knda-Orya\n",
      "Knda-Taml\n",
      "Knda-Telu\n",
      "Knda-ur\n",
      "Korean-Latin/BGN\n",
      "Latin-ASCII\n",
      "Latin-Arabic\n",
      "Latin-Armenian\n",
      "Latin-Bengali\n",
      "Latin-Bopomofo\n",
      "Latin-Cyrillic\n",
      "Latin-Devanagari\n",
      "Latin-Georgian\n",
      "Latin-Greek\n",
      "Latin-Greek/UNGEGN\n",
      "Latin-Gujarati\n",
      "Latin-Gurmukhi\n",
      "Latin-Hangul\n",
      "Latin-Hebrew\n",
      "Latin-Hiragana\n",
      "Latin-Jamo\n",
      "Latin-Kannada\n",
      "Latin-Katakana\n",
      "Latin-Malayalam\n",
      "Latin-NumericPinyin\n",
      "Latin-Oriya\n",
      "Latin-Russian/BGN\n",
      "Latin-Syriac\n",
      "Latin-Tamil\n",
      "Latin-Telugu\n",
      "Latin-Thaana\n",
      "Latin-Thai\n",
      "Latn-Arab\n",
      "Latn-Armn\n",
      "Latn-Beng\n",
      "Latn-Bopo\n",
      "Latn-Cyrl\n",
      "Latn-Deva\n",
      "Latn-Geor\n",
      "Latn-Grek\n",
      "Latn-Grek/UNGEGN\n",
      "Latn-Gujr\n",
      "Latn-Guru\n",
      "Latn-Hang\n",
      "Latn-Hebr\n",
      "Latn-Hira\n",
      "Latn-Jamo\n",
      "Latn-Kana\n",
      "Latn-Knda\n",
      "Latn-Mlym\n",
      "Latn-Orya\n",
      "Latn-Syrc\n",
      "Latn-Taml\n",
      "Latn-Telu\n",
      "Latn-Thaa\n",
      "Latn-Thai\n",
      "Macedonian-Latin/BGN\n",
      "Malayalam-Arabic\n",
      "Malayalam-Bengali\n",
      "Malayalam-Devanagari\n",
      "Malayalam-Gujarati\n",
      "Malayalam-Gurmukhi\n",
      "Malayalam-Kannada\n",
      "Malayalam-Latin\n",
      "Malayalam-Oriya\n",
      "Malayalam-Tamil\n",
      "Malayalam-Telugu\n",
      "Maldivian-Latin/BGN\n",
      "Mlym-Arab\n",
      "Mlym-Beng\n",
      "Mlym-Deva\n",
      "Mlym-Gujr\n",
      "Mlym-Guru\n",
      "Mlym-Knda\n",
      "Mlym-Latn\n",
      "Mlym-Orya\n",
      "Mlym-Taml\n",
      "Mlym-Telu\n",
      "Mlym-ur\n",
      "Mongolian-Latin/BGN\n",
      "NumericPinyin-Latin\n",
      "NumericPinyin-Pinyin\n",
      "Oriya-Arabic\n",
      "Oriya-Bengali\n",
      "Oriya-Devanagari\n",
      "Oriya-Gujarati\n",
      "Oriya-Gurmukhi\n",
      "Oriya-Kannada\n",
      "Oriya-Latin\n",
      "Oriya-Malayalam\n",
      "Oriya-Tamil\n",
      "Oriya-Telugu\n",
      "Orya-Arab\n",
      "Orya-Beng\n",
      "Orya-Deva\n",
      "Orya-Gujr\n",
      "Orya-Guru\n",
      "Orya-Knda\n",
      "Orya-Latn\n",
      "Orya-Mlym\n",
      "Orya-Taml\n",
      "Orya-Telu\n",
      "Orya-ur\n",
      "Pashto-Latin/BGN\n",
      "Persian-Latin/BGN\n",
      "Pinyin-NumericPinyin\n",
      "Publishing-Any\n",
      "Russian-Latin/BGN\n",
      "Serbian-Latin/BGN\n",
      "Simplified-Traditional\n",
      "Syrc-Latn\n",
      "Syriac-Latin\n",
      "Tamil-Arabic\n",
      "Tamil-Bengali\n",
      "Tamil-Devanagari\n",
      "Tamil-Gujarati\n",
      "Tamil-Gurmukhi\n",
      "Tamil-Kannada\n",
      "Tamil-Latin\n",
      "Tamil-Malayalam\n",
      "Tamil-Oriya\n",
      "Tamil-Telugu\n",
      "Taml-Arab\n",
      "Taml-Beng\n",
      "Taml-Deva\n",
      "Taml-Gujr\n",
      "Taml-Guru\n",
      "Taml-Knda\n",
      "Taml-Latn\n",
      "Taml-Mlym\n",
      "Taml-Orya\n",
      "Taml-Telu\n",
      "Taml-ur\n",
      "Telu-Arab\n",
      "Telu-Beng\n",
      "Telu-Deva\n",
      "Telu-Gujr\n",
      "Telu-Guru\n",
      "Telu-Knda\n",
      "Telu-Latn\n",
      "Telu-Mlym\n",
      "Telu-Orya\n",
      "Telu-Taml\n",
      "Telu-ur\n",
      "Telugu-Arabic\n",
      "Telugu-Bengali\n",
      "Telugu-Devanagari\n",
      "Telugu-Gujarati\n",
      "Telugu-Gurmukhi\n",
      "Telugu-Kannada\n",
      "Telugu-Latin\n",
      "Telugu-Malayalam\n",
      "Telugu-Oriya\n",
      "Telugu-Tamil\n",
      "Thaa-Latn\n",
      "Thaana-Latin\n",
      "Thai-Latin\n",
      "Thai-Latn\n",
      "Tone-Digit\n",
      "Traditional-Simplified\n",
      "Turkmen-Latin/BGN\n",
      "Ukrainian-Latin/BGN\n",
      "Uzbek-Latin/BGN\n",
      "XSampa-IPA\n",
      "Zawgyi-my\n",
      "am-am_FONIPA\n",
      "am-am_Latn/BGN\n",
      "am-ar\n",
      "am-chr\n",
      "am-fa\n",
      "am_FONIPA-am\n",
      "ar-ar_Latn/BGN\n",
      "az-Lower\n",
      "az-Title\n",
      "az-Upper\n",
      "az_Cyrl-az/BGN\n",
      "be-be_Latn/BGN\n",
      "bg-bg_Latn/BGN\n",
      "ch-am\n",
      "ch-ar\n",
      "ch-ch_FONIPA\n",
      "ch-chr\n",
      "ch-fa\n",
      "chr-chr_FONIPA\n",
      "cs-am\n",
      "cs-ar\n",
      "cs-chr\n",
      "cs-cs_FONIPA\n",
      "cs-fa\n",
      "cs-ja\n",
      "cs-ko\n",
      "cs_FONIPA-ja\n",
      "cs_FONIPA-ko\n",
      "dsb-dsb_FONIPA\n",
      "dv-dv_Latn/BGN\n",
      "el-Lower\n",
      "el-Title\n",
      "el-Upper\n",
      "el-el_Latn/BGN\n",
      "eo-am\n",
      "eo-ar\n",
      "eo-chr\n",
      "eo-eo_FONIPA\n",
      "eo-fa\n",
      "es-am\n",
      "es-ar\n",
      "es-chr\n",
      "es-es_FONIPA\n",
      "es-fa\n",
      "es-ja\n",
      "es-zh\n",
      "es_419-am\n",
      "es_419-ar\n",
      "es_419-chr\n",
      "es_419-fa\n",
      "es_419-ja\n",
      "es_419-zh\n",
      "es_FONIPA-am\n",
      "es_FONIPA-es_419_FONIPA\n",
      "es_FONIPA-ja\n",
      "es_FONIPA-zh\n",
      "fa-fa_Latn/BGN\n",
      "he-he_Latn/BGN\n",
      "hy-am\n",
      "hy-ar\n",
      "hy-chr\n",
      "hy-fa\n",
      "hy-hy_FONIPA\n",
      "hy-hy_Latn/BGN\n",
      "hy_AREVMDA-am\n",
      "hy_AREVMDA-ar\n",
      "hy_AREVMDA-chr\n",
      "hy_AREVMDA-fa\n",
      "hy_AREVMDA-hy_AREVMDA_FONIPA\n",
      "ia-am\n",
      "ia-ar\n",
      "ia-chr\n",
      "ia-fa\n",
      "ia-ia_FONIPA\n",
      "it-am\n",
      "it-ja\n",
      "ja_Hrkt-ja_Latn/BGN\n",
      "ja_Latn-ko\n",
      "ja_Latn-ru\n",
      "ka-ka_Latn/BGN\n",
      "kk-am\n",
      "kk-ar\n",
      "kk-chr\n",
      "kk-fa\n",
      "kk-kk_FONIPA\n",
      "kk-kk_Latn/BGN\n",
      "ko-ko_Latn/BGN\n",
      "ky-am\n",
      "ky-ar\n",
      "ky-chr\n",
      "ky-fa\n",
      "ky-ky_FONIPA\n",
      "ky-ky_Latn/BGN\n",
      "la-la_FONIPA\n",
      "lt-Lower\n",
      "lt-Title\n",
      "lt-Upper\n",
      "mk-mk_Latn/BGN\n",
      "mn-mn_Latn/BGN\n",
      "mn-mn_Latn/MNS\n",
      "my-am\n",
      "my-ar\n",
      "my-chr\n",
      "my-fa\n",
      "my-my_FONIPA\n",
      "nl-Title\n",
      "pl-am\n",
      "pl-ar\n",
      "pl-chr\n",
      "pl-fa\n",
      "pl-ja\n",
      "pl-pl_FONIPA\n",
      "pl_FONIPA-ja\n",
      "ps-ps_Latn/BGN\n",
      "rm_SURSILV-am\n",
      "rm_SURSILV-ar\n",
      "rm_SURSILV-chr\n",
      "rm_SURSILV-fa\n",
      "rm_SURSILV-rm_FONIPA_SURSILV\n",
      "ro-am\n",
      "ro-ar\n",
      "ro-chr\n",
      "ro-fa\n",
      "ro-ja\n",
      "ro-ro_FONIPA\n",
      "ro_FONIPA-ja\n",
      "ru-ja\n",
      "ru-ru_Latn/BGN\n",
      "ru-zh\n",
      "ru_Latn-ru/BGN\n",
      "sat-am\n",
      "sat-ar\n",
      "sat-chr\n",
      "sat-fa\n",
      "sat_Olck-sat_FONIPA\n",
      "si-am\n",
      "si-ar\n",
      "si-chr\n",
      "si-fa\n",
      "si-si_FONIPA\n",
      "si-si_Latn\n",
      "sk-am\n",
      "sk-ar\n",
      "sk-chr\n",
      "sk-fa\n",
      "sk-ja\n",
      "sk-sk_FONIPA\n",
      "sk_FONIPA-ja\n",
      "sr-sr_Latn/BGN\n",
      "tk_Cyrl-tk/BGN\n",
      "tlh-am\n",
      "tlh-ar\n",
      "tlh-chr\n",
      "tlh-fa\n",
      "tlh-tlh_FONIPA\n",
      "tr-Lower\n",
      "tr-Title\n",
      "tr-Upper\n",
      "uk-uk_Latn/BGN\n",
      "und_FONIPA-ar\n",
      "und_FONIPA-chr\n",
      "und_FONIPA-fa\n",
      "und_FONIPA-und_FONXSAMP\n",
      "und_FONXSAMP-und_FONIPA\n",
      "uz_Cyrl-uz/BGN\n",
      "uz_Cyrl-uz_Latn\n",
      "uz_Latn-uz_Cyrl\n",
      "xh-am\n",
      "xh-ar\n",
      "xh-chr\n",
      "xh-fa\n",
      "xh-xh_FONIPA\n",
      "yo-yo_BJ\n",
      "zh_Latn_PINYIN-ru\n",
      "zu-am\n",
      "zu-ar\n",
      "zu-chr\n",
      "zu-fa\n",
      "zu-zu_FONIPA\n",
      "Any-Null\n",
      "Any-Lower\n",
      "Any-Upper\n",
      "Any-Title\n",
      "Any-Name\n",
      "Name-Any\n",
      "Any-Remove\n",
      "Any-Hex/Unicode\n",
      "Any-Hex/Java\n",
      "Any-Hex/C\n",
      "Any-Hex/XML\n",
      "Any-Hex/XML10\n",
      "Any-Hex/Perl\n",
      "Any-Hex\n",
      "Hex-Any/Unicode\n",
      "Hex-Any/Java\n",
      "Hex-Any/C\n",
      "Hex-Any/XML\n",
      "Hex-Any/XML10\n",
      "Hex-Any/Perl\n",
      "Hex-Any\n",
      "Any-NFC\n",
      "Any-NFKC\n",
      "Any-NFD\n",
      "Any-NFKD\n",
      "Any-FCD\n",
      "Any-FCC\n",
      "Any-am\n",
      "Any-ar\n",
      "Any-rm_FONIPA_SURSILV\n",
      "Any-chr\n",
      "Any-fa\n",
      "Any-Latn\n",
      "Any-dv_Latn/BGN\n",
      "Any-ro_FONIPA\n",
      "Any-dsb_FONIPA\n",
      "Any-ru_Latn/BGN\n",
      "Any-zh\n",
      "Any-Latin\n",
      "Any-el_Latn/BGN\n",
      "Any-eo_FONIPA\n",
      "Any-si_FONIPA\n",
      "Any-si_Latn\n",
      "Any-es_FONIPA\n",
      "Any-sk_FONIPA\n",
      "Any-und_FONIPA\n",
      "Any-und_FONXSAMP\n",
      "Any-az/BGN\n",
      "Any-Gujr\n",
      "Any-Knda\n",
      "Any-Telu\n",
      "Any-Taml\n",
      "Any-ur\n",
      "Any-Guru\n",
      "Any-Deva\n",
      "Any-Beng\n",
      "Any-Orya\n",
      "Any-Arab\n",
      "Any-Syriac\n",
      "Any-Greek\n",
      "Any-Greek/UNGEGN\n",
      "Any-Gurmukhi\n",
      "Any-Cyrillic\n",
      "Any-Hangul\n",
      "Any-Telugu\n",
      "Any-Bopomofo\n",
      "Any-Bengali\n",
      "Any-Katakana\n",
      "Any-Arabic\n",
      "Any-Thai\n",
      "Any-Gujarati\n",
      "Any-Malayalam\n",
      "Any-Hiragana\n",
      "Any-Armenian\n",
      "Any-Thaana\n",
      "Any-Jamo\n",
      "Any-Georgian\n",
      "Any-Oriya\n",
      "Any-Devanagari\n",
      "Any-Hebrew\n",
      "Any-Kannada\n",
      "Any-Tamil\n",
      "Any-fa_Latn/BGN\n",
      "Any-Mlym\n",
      "Any-Any\n",
      "Any-Hant\n",
      "Any-Hans\n",
      "Any-uz_Cyrl\n",
      "Any-uk_Latn/BGN\n",
      "Any-he_Latn/BGN\n",
      "Any-hy_AREVMDA_FONIPA\n",
      "Any-hy_FONIPA\n",
      "Any-hy_Latn/BGN\n",
      "Any-ia_FONIPA\n",
      "Any-uz/BGN\n",
      "Any-uz_Latn\n",
      "Any-xh_FONIPA\n",
      "Any-ka_Latn/BGN\n",
      "Any-kk_Latn/BGN\n",
      "Any-kk_FONIPA\n",
      "Any-yo_BJ\n",
      "Any-ky_Latn/BGN\n",
      "Any-ky_FONIPA\n",
      "Any-la_FONIPA\n",
      "Any-chr_FONIPA\n",
      "Any-zu_FONIPA\n",
      "Any-ru\n",
      "Any-Geor\n",
      "Any-Cyrl\n",
      "Any-Hebr\n",
      "Any-Thaa\n",
      "Any-Grek\n",
      "Any-Grek/UNGEGN\n",
      "Any-Hang\n",
      "Any-Syrc\n",
      "Any-Armn\n",
      "Any-Hira\n",
      "Any-Kana\n",
      "Any-Bopo\n",
      "Any-mn_Latn/BGN\n",
      "Any-mn_Latn/MNS\n",
      "Any-my_FONIPA\n",
      "Any-sr_Latn/BGN\n",
      "Any-sat_FONIPA\n",
      "Any-my\n",
      "Any-am_Latn/BGN\n",
      "Any-am_FONIPA\n",
      "Any-ar_Latn/BGN\n",
      "Any-mk_Latn/BGN\n",
      "Any-be_Latn/BGN\n",
      "Any-bg_Latn/BGN\n",
      "Any-es_419_FONIPA\n",
      "Any-pl_FONIPA\n",
      "Any-ps_Latn/BGN\n",
      "Any-tk/BGN\n",
      "Any-ch_FONIPA\n",
      "Any-cs_FONIPA\n"
     ]
    }
   ],
   "source": [
    "for id in icu.Transliterator.getAvailableIDs():\n",
    "    print(id)"
   ]
  },
  {
   "cell_type": "code",
   "execution_count": 62,
   "metadata": {
    "ExecuteTime": {
     "end_time": "2019-09-04T13:36:43.053628Z",
     "start_time": "2019-09-04T13:36:43.040241Z"
    }
   },
   "outputs": [
    {
     "data": {
      "text/plain": [
       "'Shì Héhaitsudesuka？'"
      ]
     },
     "execution_count": 62,
     "metadata": {},
     "output_type": "execute_result"
    }
   ],
   "source": [
    "# tr_ja = icu.Transliterator.createInstance('Katakana-Latin; Latin-ASCII').transliterate\n",
    "# tr_ja(\"試合はいつですか？\")\n",
    "tr(\"試合はいつですか？\")"
   ]
  },
  {
   "cell_type": "code",
   "execution_count": 28,
   "metadata": {
    "ExecuteTime": {
     "end_time": "2019-09-03T21:41:08.383042Z",
     "start_time": "2019-09-03T21:41:08.369832Z"
    }
   },
   "outputs": [
    {
     "data": {
      "text/plain": [
       "'Biologičeskom'"
      ]
     },
     "execution_count": 28,
     "metadata": {},
     "output_type": "execute_result"
    }
   ],
   "source": [
    "tr('биологическом')"
   ]
  },
  {
   "cell_type": "code",
   "execution_count": 29,
   "metadata": {
    "ExecuteTime": {
     "end_time": "2019-09-03T21:41:38.150243Z",
     "start_time": "2019-09-03T21:41:38.132788Z"
    }
   },
   "outputs": [
    {
     "data": {
      "text/plain": [
       "'Gim, Gugsam'"
      ]
     },
     "execution_count": 29,
     "metadata": {},
     "output_type": "execute_result"
    }
   ],
   "source": [
    "tr('김, 국삼')"
   ]
  },
  {
   "cell_type": "code",
   "execution_count": 30,
   "metadata": {
    "ExecuteTime": {
     "end_time": "2019-09-03T21:43:52.276385Z",
     "start_time": "2019-09-03T21:43:52.252587Z"
    }
   },
   "outputs": [
    {
     "data": {
      "text/plain": [
       "\"Sēn'gupta\""
      ]
     },
     "execution_count": 30,
     "metadata": {},
     "output_type": "execute_result"
    }
   ],
   "source": [
    "tr('सेन्गुप्त')"
   ]
  },
  {
   "cell_type": "code",
   "execution_count": 33,
   "metadata": {
    "ExecuteTime": {
     "end_time": "2019-09-03T21:46:20.937081Z",
     "start_time": "2019-09-03T21:46:20.920364Z"
    }
   },
   "outputs": [
    {
     "data": {
      "text/plain": [
       "'सेन्गुप्त'"
      ]
     },
     "execution_count": 33,
     "metadata": {},
     "output_type": "execute_result"
    }
   ],
   "source": [
    "tr_ar = icu.Transliterator.createInstance('NFKD; Lower; Latin-Katakana;').transliterate\n",
    "tr_ar('सेन्गुप्त')"
   ]
  },
  {
   "cell_type": "code",
   "execution_count": 34,
   "metadata": {
    "ExecuteTime": {
     "end_time": "2019-09-03T21:48:56.234341Z",
     "start_time": "2019-09-03T21:48:56.217218Z"
    }
   },
   "outputs": [
    {
     "data": {
      "text/plain": [
       "'ạlʿạỷlẗ lyst ṣgẖyrẗ'"
      ]
     },
     "execution_count": 34,
     "metadata": {},
     "output_type": "execute_result"
    }
   ],
   "source": [
    "latin = icu.Transliterator.createInstance('Arabic-Latin')\n",
    "ar=\"العائلة ليست صغيرة\"\n",
    "latin.transliterate(ar)"
   ]
  }
 ],
 "metadata": {
  "kernelspec": {
   "display_name": "Python 3",
   "language": "python",
   "name": "python3"
  },
  "language_info": {
   "codemirror_mode": {
    "name": "ipython",
    "version": 3
   },
   "file_extension": ".py",
   "mimetype": "text/x-python",
   "name": "python",
   "nbconvert_exporter": "python",
   "pygments_lexer": "ipython3",
   "version": "3.6.4"
  },
  "varInspector": {
   "cols": {
    "lenName": 16,
    "lenType": 16,
    "lenVar": 40
   },
   "kernels_config": {
    "python": {
     "delete_cmd_postfix": "",
     "delete_cmd_prefix": "del ",
     "library": "var_list.py",
     "varRefreshCmd": "print(var_dic_list())"
    },
    "r": {
     "delete_cmd_postfix": ") ",
     "delete_cmd_prefix": "rm(",
     "library": "var_list.r",
     "varRefreshCmd": "cat(var_dic_list()) "
    }
   },
   "types_to_exclude": [
    "module",
    "function",
    "builtin_function_or_method",
    "instance",
    "_Feature"
   ],
   "window_display": false
  }
 },
 "nbformat": 4,
 "nbformat_minor": 2
}
