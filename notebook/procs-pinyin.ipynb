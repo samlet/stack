{
 "cells": [
  {
   "cell_type": "markdown",
   "metadata": {},
   "source": [
    "⊕ [mozillazg/python-pinyin: 汉字转拼音(pypinyin)](https://github.com/mozillazg/python-pinyin)\n"
   ]
  },
  {
   "cell_type": "code",
   "execution_count": 1,
   "metadata": {
    "ExecuteTime": {
     "end_time": "2019-09-01T07:29:23.081438Z",
     "start_time": "2019-09-01T07:29:22.863529Z"
    }
   },
   "outputs": [
    {
     "data": {
      "text/plain": [
       "[['zhōng'], ['xīn']]"
      ]
     },
     "execution_count": 1,
     "metadata": {},
     "output_type": "execute_result"
    }
   ],
   "source": [
    "from pypinyin import pinyin, lazy_pinyin, Style\n",
    "pinyin('中心')"
   ]
  },
  {
   "cell_type": "code",
   "execution_count": 2,
   "metadata": {
    "ExecuteTime": {
     "end_time": "2019-09-01T07:29:50.887684Z",
     "start_time": "2019-09-01T07:29:50.875849Z"
    }
   },
   "outputs": [
    {
     "data": {
      "text/plain": [
       "[['zhōng', 'zhòng'], ['xīn']]"
      ]
     },
     "execution_count": 2,
     "metadata": {},
     "output_type": "execute_result"
    }
   ],
   "source": [
    "pinyin('中心', heteronym=True)  # 启用多音字模式"
   ]
  },
  {
   "cell_type": "code",
   "execution_count": 3,
   "metadata": {
    "ExecuteTime": {
     "end_time": "2019-09-01T07:30:07.097784Z",
     "start_time": "2019-09-01T07:30:07.088032Z"
    }
   },
   "outputs": [
    {
     "data": {
      "text/plain": [
       "[['zho1ng', 'zho4ng'], ['xi1n']]"
      ]
     },
     "execution_count": 3,
     "metadata": {},
     "output_type": "execute_result"
    }
   ],
   "source": [
    "pinyin('中心', style=Style.TONE2, heteronym=True)"
   ]
  },
  {
   "cell_type": "code",
   "execution_count": 4,
   "metadata": {
    "ExecuteTime": {
     "end_time": "2019-09-01T07:30:31.146850Z",
     "start_time": "2019-09-01T07:30:31.139322Z"
    }
   },
   "outputs": [
    {
     "data": {
      "text/plain": [
       "[['чжун1'], ['синь1']]"
      ]
     },
     "execution_count": 4,
     "metadata": {},
     "output_type": "execute_result"
    }
   ],
   "source": [
    "pinyin('中心', style=Style.CYRILLIC)  # 俄语字母风格"
   ]
  },
  {
   "cell_type": "code",
   "execution_count": 5,
   "metadata": {
    "ExecuteTime": {
     "end_time": "2019-09-01T07:31:01.803879Z",
     "start_time": "2019-09-01T07:31:01.793314Z"
    }
   },
   "outputs": [
    {
     "data": {
      "text/plain": [
       "['zhong', 'xin']"
      ]
     },
     "execution_count": 5,
     "metadata": {},
     "output_type": "execute_result"
    }
   ],
   "source": [
    "lazy_pinyin('中心')  # 不考虑多音字的情况"
   ]
  },
  {
   "cell_type": "code",
   "execution_count": 6,
   "metadata": {
    "ExecuteTime": {
     "end_time": "2019-09-01T07:31:53.122750Z",
     "start_time": "2019-09-01T07:31:53.111316Z"
    }
   },
   "outputs": [
    {
     "data": {
      "text/plain": [
       "['xia', 'yu', 'tian']"
      ]
     },
     "execution_count": 6,
     "metadata": {},
     "output_type": "execute_result"
    }
   ],
   "source": [
    "lazy_pinyin('下雨天')"
   ]
  },
  {
   "cell_type": "code",
   "execution_count": 9,
   "metadata": {
    "ExecuteTime": {
     "end_time": "2019-09-01T07:35:04.218120Z",
     "start_time": "2019-09-01T07:35:04.204451Z"
    }
   },
   "outputs": [
    {
     "data": {
      "text/plain": [
       "['ni', 'hao', 'abcこんにちは']"
      ]
     },
     "execution_count": 9,
     "metadata": {},
     "output_type": "execute_result"
    }
   ],
   "source": [
    "# 内置了简单的分词功能，对字符串按是否是中文字符进行分词。\n",
    "# 如果安装了 jieba 分词模块，程序会自动调用。\n",
    "from pypinyin import lazy_pinyin\n",
    "lazy_pinyin(u'你好abcこんにちは')"
   ]
  }
 ],
 "metadata": {
  "kernelspec": {
   "display_name": "Python 3",
   "language": "python",
   "name": "python3"
  },
  "language_info": {
   "codemirror_mode": {
    "name": "ipython",
    "version": 3
   },
   "file_extension": ".py",
   "mimetype": "text/x-python",
   "name": "python",
   "nbconvert_exporter": "python",
   "pygments_lexer": "ipython3",
   "version": "3.6.4"
  },
  "varInspector": {
   "cols": {
    "lenName": 16,
    "lenType": 16,
    "lenVar": 40
   },
   "kernels_config": {
    "python": {
     "delete_cmd_postfix": "",
     "delete_cmd_prefix": "del ",
     "library": "var_list.py",
     "varRefreshCmd": "print(var_dic_list())"
    },
    "r": {
     "delete_cmd_postfix": ") ",
     "delete_cmd_prefix": "rm(",
     "library": "var_list.r",
     "varRefreshCmd": "cat(var_dic_list()) "
    }
   },
   "types_to_exclude": [
    "module",
    "function",
    "builtin_function_or_method",
    "instance",
    "_Feature"
   ],
   "window_display": false
  }
 },
 "nbformat": 4,
 "nbformat_minor": 2
}
