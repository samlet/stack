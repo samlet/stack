{
 "cells": [
  {
   "cell_type": "code",
   "execution_count": 2,
   "metadata": {
    "ExecuteTime": {
     "end_time": "2019-03-25T06:52:46.287064Z",
     "start_time": "2019-03-25T06:52:46.281089Z"
    }
   },
   "outputs": [
    {
     "name": "stdout",
     "output_type": "stream",
     "text": [
      "{hello}, jack!\n"
     ]
    }
   ],
   "source": [
    "from mako.template import Template\n",
    "\n",
    "mytemplate = Template(\"{hello}, ${name}!\")\n",
    "print(mytemplate.render(name=\"jack\"))"
   ]
  },
  {
   "cell_type": "code",
   "execution_count": 5,
   "metadata": {
    "ExecuteTime": {
     "end_time": "2019-03-25T06:57:25.556975Z",
     "start_time": "2019-03-25T06:57:25.549152Z"
    }
   },
   "outputs": [
    {
     "name": "stdout",
     "output_type": "stream",
     "text": [
      "import 'package:flutter/material.dart';\n",
      "\n",
      "class LocationSelection extends StatefulWidget {\n",
      "  @override\n",
      "  State<LocationSelection> createState() => _LocationSelectionState();\n",
      "}\n",
      "\n",
      "class _LocationSelectionState extends State<LocationSelection> {\n",
      "  final TextEditingController _textController = TextEditingController();\n",
      "\n",
      "  @override\n",
      "  Widget build(BuildContext context) {\n",
      "    return Form(\n",
      "        child: Row(\n",
      "      children: [\n",
      "        Expanded(\n",
      "          child: Padding(\n",
      "            padding: EdgeInsets.only(left: 10.0),\n",
      "            child: TextFormField(\n",
      "              controller: _textController,\n",
      "              decoration: InputDecoration(\n",
      "                labelText: 'City',\n",
      "                hintText: 'Chicago',\n",
      "              ),\n",
      "            ),\n",
      "          ),\n",
      "        ),\n",
      "        IconButton(\n",
      "          icon: Icon(Icons.search),\n",
      "          onPressed: () {\n",
      "            Navigator.pop(context, _textController.text);\n",
      "          },\n",
      "        )\n",
      "      ],\n",
      "    ));\n",
      "  }\n",
      "}\n",
      "\n",
      "\n"
     ]
    }
   ],
   "source": [
    "section_seg='''import 'package:flutter/material.dart';\n",
    "\n",
    "class ${name} extends StatefulWidget {\n",
    "  @override\n",
    "  State<${name}> createState() => _${name}State();\n",
    "}\n",
    "\n",
    "class _${name}State extends State<${name}> {\n",
    "  final TextEditingController _textController = TextEditingController();\n",
    "\n",
    "  @override\n",
    "  Widget build(BuildContext context) {\n",
    "    return Form(\n",
    "        child: Row(\n",
    "      children: [\n",
    "        Expanded(\n",
    "          child: Padding(\n",
    "            padding: EdgeInsets.only(left: 10.0),\n",
    "            child: TextFormField(\n",
    "              controller: _textController,\n",
    "              decoration: InputDecoration(\n",
    "                labelText: 'City',\n",
    "                hintText: 'Chicago',\n",
    "              ),\n",
    "            ),\n",
    "          ),\n",
    "        ),\n",
    "        IconButton(\n",
    "          icon: Icon(Icons.search),\n",
    "          onPressed: () {\n",
    "            Navigator.pop(context, _textController.text);\n",
    "          },\n",
    "        )\n",
    "      ],\n",
    "    ));\n",
    "  }\n",
    "}\n",
    "\n",
    "'''\n",
    "\n",
    "tpl=Template(section_seg)\n",
    "print(tpl.render(name=\"LocationSelection\"))"
   ]
  },
  {
   "cell_type": "code",
   "execution_count": 6,
   "metadata": {
    "ExecuteTime": {
     "end_time": "2019-03-25T06:58:27.643045Z",
     "start_time": "2019-03-25T06:58:27.449161Z"
    }
   },
   "outputs": [],
   "source": [
    "import clipboard\n",
    "cnt=tpl.render(name=\"LocationSelection\")\n",
    "clipboard.copy(cnt)"
   ]
  }
 ],
 "metadata": {
  "kernelspec": {
   "display_name": "Python 3",
   "language": "python",
   "name": "python3"
  },
  "language_info": {
   "codemirror_mode": {
    "name": "ipython",
    "version": 3
   },
   "file_extension": ".py",
   "mimetype": "text/x-python",
   "name": "python",
   "nbconvert_exporter": "python",
   "pygments_lexer": "ipython3",
   "version": "3.6.4"
  },
  "varInspector": {
   "cols": {
    "lenName": 16,
    "lenType": 16,
    "lenVar": 40
   },
   "kernels_config": {
    "python": {
     "delete_cmd_postfix": "",
     "delete_cmd_prefix": "del ",
     "library": "var_list.py",
     "varRefreshCmd": "print(var_dic_list())"
    },
    "r": {
     "delete_cmd_postfix": ") ",
     "delete_cmd_prefix": "rm(",
     "library": "var_list.r",
     "varRefreshCmd": "cat(var_dic_list()) "
    }
   },
   "types_to_exclude": [
    "module",
    "function",
    "builtin_function_or_method",
    "instance",
    "_Feature"
   ],
   "window_display": false
  }
 },
 "nbformat": 4,
 "nbformat_minor": 2
}
