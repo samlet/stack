{
 "cells": [
  {
   "cell_type": "code",
   "execution_count": 1,
   "metadata": {
    "ExecuteTime": {
     "end_time": "2019-02-10T14:13:54.647682Z",
     "start_time": "2019-02-10T14:13:54.171618Z"
    }
   },
   "outputs": [
    {
     "name": "stdout",
     "output_type": "stream",
     "text": [
      "✔ testScv default 21 2019-02-10 22:13:54.522 ➷ 20 ms\n",
      "True {'responseMessage': 'success', 'resp': 'service done'}\n"
     ]
    }
   ],
   "source": [
    "from sagas.ofbiz.services import OfService as s, oc, track\n",
    "ok, r=track(lambda a: s().testScv(defaultValue=5.5, message=\"hello world\"))\n",
    "print(ok, r)    "
   ]
  },
  {
   "cell_type": "code",
   "execution_count": 2,
   "metadata": {
    "ExecuteTime": {
     "end_time": "2019-02-10T14:16:00.606764Z",
     "start_time": "2019-02-10T14:16:00.128014Z"
    },
    "scrolled": true
   },
   "outputs": [
    {
     "data": {
      "text/html": [
       "<div>\n",
       "<style scoped>\n",
       "    .dataframe tbody tr th:only-of-type {\n",
       "        vertical-align: middle;\n",
       "    }\n",
       "\n",
       "    .dataframe tbody tr th {\n",
       "        vertical-align: top;\n",
       "    }\n",
       "\n",
       "    .dataframe thead th {\n",
       "        text-align: right;\n",
       "    }\n",
       "</style>\n",
       "<table border=\"1\" class=\"dataframe\">\n",
       "  <thead>\n",
       "    <tr style=\"text-align: right;\">\n",
       "      <th></th>\n",
       "      <th>description</th>\n",
       "      <th>entity name</th>\n",
       "      <th>mode</th>\n",
       "      <th>name</th>\n",
       "      <th>override optional</th>\n",
       "      <th>required</th>\n",
       "      <th>type</th>\n",
       "      <th>parameter mode</th>\n",
       "    </tr>\n",
       "  </thead>\n",
       "  <tbody>\n",
       "    <tr>\n",
       "      <th>0</th>\n",
       "      <td></td>\n",
       "      <td></td>\n",
       "      <td>IN</td>\n",
       "      <td>partyId</td>\n",
       "      <td>*</td>\n",
       "      <td>*</td>\n",
       "      <td>String</td>\n",
       "      <td>IN</td>\n",
       "    </tr>\n",
       "    <tr>\n",
       "      <th>1</th>\n",
       "      <td></td>\n",
       "      <td></td>\n",
       "      <td>IN</td>\n",
       "      <td>noteName</td>\n",
       "      <td>*</td>\n",
       "      <td></td>\n",
       "      <td>String</td>\n",
       "      <td>IN</td>\n",
       "    </tr>\n",
       "    <tr>\n",
       "      <th>2</th>\n",
       "      <td></td>\n",
       "      <td></td>\n",
       "      <td>INOUT</td>\n",
       "      <td>noteId</td>\n",
       "      <td>*</td>\n",
       "      <td></td>\n",
       "      <td>String</td>\n",
       "      <td>INOUT</td>\n",
       "    </tr>\n",
       "    <tr>\n",
       "      <th>3</th>\n",
       "      <td></td>\n",
       "      <td></td>\n",
       "      <td>IN</td>\n",
       "      <td>note</td>\n",
       "      <td>*</td>\n",
       "      <td></td>\n",
       "      <td>String</td>\n",
       "      <td>IN</td>\n",
       "    </tr>\n",
       "    <tr>\n",
       "      <th>4</th>\n",
       "      <td>None</td>\n",
       "      <td>None</td>\n",
       "      <td>OUT</td>\n",
       "      <td>responseMessage</td>\n",
       "      <td>*</td>\n",
       "      <td></td>\n",
       "      <td>String</td>\n",
       "      <td>OUT</td>\n",
       "    </tr>\n",
       "    <tr>\n",
       "      <th>5</th>\n",
       "      <td>None</td>\n",
       "      <td>None</td>\n",
       "      <td>OUT</td>\n",
       "      <td>errorMessage</td>\n",
       "      <td>*</td>\n",
       "      <td></td>\n",
       "      <td>String</td>\n",
       "      <td>OUT</td>\n",
       "    </tr>\n",
       "    <tr>\n",
       "      <th>6</th>\n",
       "      <td>None</td>\n",
       "      <td>None</td>\n",
       "      <td>OUT</td>\n",
       "      <td>errorMessageList</td>\n",
       "      <td>*</td>\n",
       "      <td></td>\n",
       "      <td>java.util.List</td>\n",
       "      <td>OUT</td>\n",
       "    </tr>\n",
       "    <tr>\n",
       "      <th>7</th>\n",
       "      <td>None</td>\n",
       "      <td>None</td>\n",
       "      <td>OUT</td>\n",
       "      <td>successMessage</td>\n",
       "      <td>*</td>\n",
       "      <td></td>\n",
       "      <td>String</td>\n",
       "      <td>OUT</td>\n",
       "    </tr>\n",
       "    <tr>\n",
       "      <th>8</th>\n",
       "      <td>None</td>\n",
       "      <td>None</td>\n",
       "      <td>OUT</td>\n",
       "      <td>successMessageList</td>\n",
       "      <td>*</td>\n",
       "      <td></td>\n",
       "      <td>java.util.List</td>\n",
       "      <td>OUT</td>\n",
       "    </tr>\n",
       "    <tr>\n",
       "      <th>9</th>\n",
       "      <td>None</td>\n",
       "      <td>None</td>\n",
       "      <td>INOUT</td>\n",
       "      <td>userLogin</td>\n",
       "      <td>*</td>\n",
       "      <td></td>\n",
       "      <td>org.apache.ofbiz.entity.GenericValue</td>\n",
       "      <td>INOUT</td>\n",
       "    </tr>\n",
       "    <tr>\n",
       "      <th>10</th>\n",
       "      <td>None</td>\n",
       "      <td>None</td>\n",
       "      <td>IN</td>\n",
       "      <td>login.username</td>\n",
       "      <td>*</td>\n",
       "      <td></td>\n",
       "      <td>String</td>\n",
       "      <td>IN</td>\n",
       "    </tr>\n",
       "    <tr>\n",
       "      <th>11</th>\n",
       "      <td>None</td>\n",
       "      <td>None</td>\n",
       "      <td>IN</td>\n",
       "      <td>login.password</td>\n",
       "      <td>*</td>\n",
       "      <td></td>\n",
       "      <td>String</td>\n",
       "      <td>IN</td>\n",
       "    </tr>\n",
       "    <tr>\n",
       "      <th>12</th>\n",
       "      <td>None</td>\n",
       "      <td>None</td>\n",
       "      <td>INOUT</td>\n",
       "      <td>locale</td>\n",
       "      <td>*</td>\n",
       "      <td></td>\n",
       "      <td>java.util.Locale</td>\n",
       "      <td>INOUT</td>\n",
       "    </tr>\n",
       "    <tr>\n",
       "      <th>13</th>\n",
       "      <td>None</td>\n",
       "      <td>None</td>\n",
       "      <td>INOUT</td>\n",
       "      <td>timeZone</td>\n",
       "      <td>*</td>\n",
       "      <td></td>\n",
       "      <td>java.util.TimeZone</td>\n",
       "      <td>INOUT</td>\n",
       "    </tr>\n",
       "    <tr>\n",
       "      <th>14</th>\n",
       "      <td>None</td>\n",
       "      <td>None</td>\n",
       "      <td>INOUT</td>\n",
       "      <td>visualTheme</td>\n",
       "      <td>*</td>\n",
       "      <td></td>\n",
       "      <td>org.apache.ofbiz.widget.renderer.VisualTheme</td>\n",
       "      <td>INOUT</td>\n",
       "    </tr>\n",
       "  </tbody>\n",
       "</table>\n",
       "</div>"
      ],
      "text/plain": [
       "   description entity name   mode                name override optional  \\\n",
       "0                              IN             partyId                 *   \n",
       "1                              IN            noteName                 *   \n",
       "2                           INOUT              noteId                 *   \n",
       "3                              IN                note                 *   \n",
       "4         None        None    OUT     responseMessage                 *   \n",
       "5         None        None    OUT        errorMessage                 *   \n",
       "6         None        None    OUT    errorMessageList                 *   \n",
       "7         None        None    OUT      successMessage                 *   \n",
       "8         None        None    OUT  successMessageList                 *   \n",
       "9         None        None  INOUT           userLogin                 *   \n",
       "10        None        None     IN      login.username                 *   \n",
       "11        None        None     IN      login.password                 *   \n",
       "12        None        None  INOUT              locale                 *   \n",
       "13        None        None  INOUT            timeZone                 *   \n",
       "14        None        None  INOUT         visualTheme                 *   \n",
       "\n",
       "   required                                          type parameter mode  \n",
       "0         *                                        String             IN  \n",
       "1                                                  String             IN  \n",
       "2                                                  String          INOUT  \n",
       "3                                                  String             IN  \n",
       "4                                                  String            OUT  \n",
       "5                                                  String            OUT  \n",
       "6                                          java.util.List            OUT  \n",
       "7                                                  String            OUT  \n",
       "8                                          java.util.List            OUT  \n",
       "9                    org.apache.ofbiz.entity.GenericValue          INOUT  \n",
       "10                                                 String             IN  \n",
       "11                                                 String             IN  \n",
       "12                                       java.util.Locale          INOUT  \n",
       "13                                     java.util.TimeZone          INOUT  \n",
       "14           org.apache.ofbiz.widget.renderer.VisualTheme          INOUT  "
      ]
     },
     "execution_count": 2,
     "metadata": {},
     "output_type": "execute_result"
    }
   ],
   "source": [
    "s('meta').createPartyNote"
   ]
  },
  {
   "cell_type": "code",
   "execution_count": 12,
   "metadata": {
    "ExecuteTime": {
     "end_time": "2019-02-10T14:33:33.573749Z",
     "start_time": "2019-02-10T14:33:33.412243Z"
    }
   },
   "outputs": [
    {
     "name": "stdout",
     "output_type": "stream",
     "text": [
      "✔ createPartyNote default 21 2019-02-10 22:33:33.424 ➷ 18 ms\n",
      "✔ createNote default 21 2019-02-10 22:33:33.424 ➷ 2 ms\n",
      "10004\n"
     ]
    }
   ],
   "source": [
    "# noteId='DemoNote', 这个参数是用于引用已经存在的note-data\n",
    "ok,r=track(lambda a: s().createPartyNote(partyId='DemoCustomer',    \n",
    "    noteName='Demo Note',\n",
    "    note='This is demo note to test createPartyNote service'))\n",
    "if ok:\n",
    "    note_id=r['noteId']\n",
    "    print(note_id)"
   ]
  },
  {
   "cell_type": "code",
   "execution_count": 6,
   "metadata": {
    "ExecuteTime": {
     "end_time": "2019-02-10T14:20:42.504555Z",
     "start_time": "2019-02-10T14:20:42.412887Z"
    }
   },
   "outputs": [
    {
     "data": {
      "text/html": [
       "<div>\n",
       "<style scoped>\n",
       "    .dataframe tbody tr th:only-of-type {\n",
       "        vertical-align: middle;\n",
       "    }\n",
       "\n",
       "    .dataframe tbody tr th {\n",
       "        vertical-align: top;\n",
       "    }\n",
       "\n",
       "    .dataframe thead th {\n",
       "        text-align: right;\n",
       "    }\n",
       "</style>\n",
       "<table border=\"1\" class=\"dataframe\">\n",
       "  <thead>\n",
       "    <tr style=\"text-align: right;\">\n",
       "      <th></th>\n",
       "      <th>name</th>\n",
       "      <th>primary</th>\n",
       "      <th>type</th>\n",
       "      <th>field type</th>\n",
       "    </tr>\n",
       "  </thead>\n",
       "  <tbody>\n",
       "    <tr>\n",
       "      <th>0</th>\n",
       "      <td>partyId</td>\n",
       "      <td>*</td>\n",
       "      <td>id</td>\n",
       "      <td>id</td>\n",
       "    </tr>\n",
       "    <tr>\n",
       "      <th>1</th>\n",
       "      <td>noteId</td>\n",
       "      <td>*</td>\n",
       "      <td>id</td>\n",
       "      <td>id</td>\n",
       "    </tr>\n",
       "    <tr>\n",
       "      <th>2</th>\n",
       "      <td>lastUpdatedStamp</td>\n",
       "      <td></td>\n",
       "      <td>date-time</td>\n",
       "      <td>date-time</td>\n",
       "    </tr>\n",
       "    <tr>\n",
       "      <th>3</th>\n",
       "      <td>lastUpdatedTxStamp</td>\n",
       "      <td></td>\n",
       "      <td>date-time</td>\n",
       "      <td>date-time</td>\n",
       "    </tr>\n",
       "    <tr>\n",
       "      <th>4</th>\n",
       "      <td>createdStamp</td>\n",
       "      <td></td>\n",
       "      <td>date-time</td>\n",
       "      <td>date-time</td>\n",
       "    </tr>\n",
       "    <tr>\n",
       "      <th>5</th>\n",
       "      <td>createdTxStamp</td>\n",
       "      <td></td>\n",
       "      <td>date-time</td>\n",
       "      <td>date-time</td>\n",
       "    </tr>\n",
       "  </tbody>\n",
       "</table>\n",
       "</div>"
      ],
      "text/plain": [
       "                 name primary       type field type\n",
       "0             partyId       *         id         id\n",
       "1              noteId       *         id         id\n",
       "2    lastUpdatedStamp          date-time  date-time\n",
       "3  lastUpdatedTxStamp          date-time  date-time\n",
       "4        createdStamp          date-time  date-time\n",
       "5      createdTxStamp          date-time  date-time"
      ]
     },
     "execution_count": 6,
     "metadata": {},
     "output_type": "execute_result"
    }
   ],
   "source": [
    "from sagas.ofbiz.entities import OfEntity as e\n",
    "e('meta').PartyNote"
   ]
  },
  {
   "cell_type": "code",
   "execution_count": 8,
   "metadata": {
    "ExecuteTime": {
     "end_time": "2019-02-10T14:21:44.898589Z",
     "start_time": "2019-02-10T14:21:44.806525Z"
    }
   },
   "outputs": [
    {
     "data": {
      "text/html": [
       "<div>\n",
       "<style scoped>\n",
       "    .dataframe tbody tr th:only-of-type {\n",
       "        vertical-align: middle;\n",
       "    }\n",
       "\n",
       "    .dataframe tbody tr th {\n",
       "        vertical-align: top;\n",
       "    }\n",
       "\n",
       "    .dataframe thead th {\n",
       "        text-align: right;\n",
       "    }\n",
       "</style>\n",
       "<table border=\"1\" class=\"dataframe\">\n",
       "  <thead>\n",
       "    <tr style=\"text-align: right;\">\n",
       "      <th></th>\n",
       "      <th>lastUpdatedStamp</th>\n",
       "      <th>createdTxStamp</th>\n",
       "      <th>createdStamp</th>\n",
       "      <th>lastUpdatedTxStamp</th>\n",
       "      <th>noteId</th>\n",
       "      <th>partyId</th>\n",
       "    </tr>\n",
       "  </thead>\n",
       "  <tbody>\n",
       "    <tr>\n",
       "      <th>0</th>\n",
       "      <td>2019-02-10 22:18:03.252</td>\n",
       "      <td>2019-02-10 22:18:03.039</td>\n",
       "      <td>2019-02-10 22:18:03.252</td>\n",
       "      <td>2019-02-10 22:18:03.039</td>\n",
       "      <td>10000</td>\n",
       "      <td>DemoCustomer</td>\n",
       "    </tr>\n",
       "    <tr>\n",
       "      <th>1</th>\n",
       "      <td>2019-02-10 22:18:52.681</td>\n",
       "      <td>2019-02-10 22:18:52.611</td>\n",
       "      <td>2019-02-10 22:18:52.681</td>\n",
       "      <td>2019-02-10 22:18:52.611</td>\n",
       "      <td>10001</td>\n",
       "      <td>DemoCustomer</td>\n",
       "    </tr>\n",
       "    <tr>\n",
       "      <th>2</th>\n",
       "      <td>2019-02-10 22:19:03.919</td>\n",
       "      <td>2019-02-10 22:19:03.914</td>\n",
       "      <td>2019-02-10 22:19:03.919</td>\n",
       "      <td>2019-02-10 22:19:03.914</td>\n",
       "      <td>10002</td>\n",
       "      <td>DemoCustomer</td>\n",
       "    </tr>\n",
       "  </tbody>\n",
       "</table>\n",
       "</div>"
      ],
      "text/plain": [
       "         lastUpdatedStamp          createdTxStamp            createdStamp  \\\n",
       "0 2019-02-10 22:18:03.252 2019-02-10 22:18:03.039 2019-02-10 22:18:03.252   \n",
       "1 2019-02-10 22:18:52.681 2019-02-10 22:18:52.611 2019-02-10 22:18:52.681   \n",
       "2 2019-02-10 22:19:03.919 2019-02-10 22:19:03.914 2019-02-10 22:19:03.919   \n",
       "\n",
       "       lastUpdatedTxStamp noteId       partyId  \n",
       "0 2019-02-10 22:18:03.039  10000  DemoCustomer  \n",
       "1 2019-02-10 22:18:52.611  10001  DemoCustomer  \n",
       "2 2019-02-10 22:19:03.914  10002  DemoCustomer  "
      ]
     },
     "execution_count": 8,
     "metadata": {},
     "output_type": "execute_result"
    }
   ],
   "source": [
    "e('df').queryPartyNote(partyId='DemoCustomer')"
   ]
  },
  {
   "cell_type": "code",
   "execution_count": 9,
   "metadata": {
    "ExecuteTime": {
     "end_time": "2019-02-10T14:23:02.290334Z",
     "start_time": "2019-02-10T14:23:02.260873Z"
    }
   },
   "outputs": [
    {
     "data": {
      "text/html": [
       "<div>\n",
       "<style scoped>\n",
       "    .dataframe tbody tr th:only-of-type {\n",
       "        vertical-align: middle;\n",
       "    }\n",
       "\n",
       "    .dataframe tbody tr th {\n",
       "        vertical-align: top;\n",
       "    }\n",
       "\n",
       "    .dataframe thead th {\n",
       "        text-align: right;\n",
       "    }\n",
       "</style>\n",
       "<table border=\"1\" class=\"dataframe\">\n",
       "  <thead>\n",
       "    <tr style=\"text-align: right;\">\n",
       "      <th></th>\n",
       "      <th>name</th>\n",
       "      <th>primary</th>\n",
       "      <th>type</th>\n",
       "      <th>field type</th>\n",
       "    </tr>\n",
       "  </thead>\n",
       "  <tbody>\n",
       "    <tr>\n",
       "      <th>0</th>\n",
       "      <td>noteId</td>\n",
       "      <td>*</td>\n",
       "      <td>id</td>\n",
       "      <td>id</td>\n",
       "    </tr>\n",
       "    <tr>\n",
       "      <th>1</th>\n",
       "      <td>noteName</td>\n",
       "      <td></td>\n",
       "      <td>name</td>\n",
       "      <td>name</td>\n",
       "    </tr>\n",
       "    <tr>\n",
       "      <th>2</th>\n",
       "      <td>noteInfo</td>\n",
       "      <td></td>\n",
       "      <td>very-long</td>\n",
       "      <td>very-long</td>\n",
       "    </tr>\n",
       "    <tr>\n",
       "      <th>3</th>\n",
       "      <td>noteDateTime</td>\n",
       "      <td></td>\n",
       "      <td>date-time</td>\n",
       "      <td>date-time</td>\n",
       "    </tr>\n",
       "    <tr>\n",
       "      <th>4</th>\n",
       "      <td>lastUpdatedStamp</td>\n",
       "      <td></td>\n",
       "      <td>date-time</td>\n",
       "      <td>date-time</td>\n",
       "    </tr>\n",
       "    <tr>\n",
       "      <th>5</th>\n",
       "      <td>lastUpdatedTxStamp</td>\n",
       "      <td></td>\n",
       "      <td>date-time</td>\n",
       "      <td>date-time</td>\n",
       "    </tr>\n",
       "    <tr>\n",
       "      <th>6</th>\n",
       "      <td>createdStamp</td>\n",
       "      <td></td>\n",
       "      <td>date-time</td>\n",
       "      <td>date-time</td>\n",
       "    </tr>\n",
       "    <tr>\n",
       "      <th>7</th>\n",
       "      <td>createdTxStamp</td>\n",
       "      <td></td>\n",
       "      <td>date-time</td>\n",
       "      <td>date-time</td>\n",
       "    </tr>\n",
       "    <tr>\n",
       "      <th>8</th>\n",
       "      <td>noteParty</td>\n",
       "      <td></td>\n",
       "      <td>id</td>\n",
       "      <td>id</td>\n",
       "    </tr>\n",
       "    <tr>\n",
       "      <th>9</th>\n",
       "      <td>moreInfoUrl</td>\n",
       "      <td></td>\n",
       "      <td>value</td>\n",
       "      <td>value</td>\n",
       "    </tr>\n",
       "    <tr>\n",
       "      <th>10</th>\n",
       "      <td>moreInfoItemId</td>\n",
       "      <td></td>\n",
       "      <td>value</td>\n",
       "      <td>value</td>\n",
       "    </tr>\n",
       "    <tr>\n",
       "      <th>11</th>\n",
       "      <td>moreInfoItemName</td>\n",
       "      <td></td>\n",
       "      <td>value</td>\n",
       "      <td>value</td>\n",
       "    </tr>\n",
       "  </tbody>\n",
       "</table>\n",
       "</div>"
      ],
      "text/plain": [
       "                  name primary       type field type\n",
       "0               noteId       *         id         id\n",
       "1             noteName               name       name\n",
       "2             noteInfo          very-long  very-long\n",
       "3         noteDateTime          date-time  date-time\n",
       "4     lastUpdatedStamp          date-time  date-time\n",
       "5   lastUpdatedTxStamp          date-time  date-time\n",
       "6         createdStamp          date-time  date-time\n",
       "7       createdTxStamp          date-time  date-time\n",
       "8            noteParty                 id         id\n",
       "9          moreInfoUrl              value      value\n",
       "10      moreInfoItemId              value      value\n",
       "11    moreInfoItemName              value      value"
      ]
     },
     "execution_count": 9,
     "metadata": {},
     "output_type": "execute_result"
    }
   ],
   "source": [
    "e('meta').NoteData"
   ]
  },
  {
   "cell_type": "code",
   "execution_count": 10,
   "metadata": {
    "ExecuteTime": {
     "end_time": "2019-02-10T14:24:06.879155Z",
     "start_time": "2019-02-10T14:24:06.774586Z"
    },
    "scrolled": true
   },
   "outputs": [
    {
     "data": {
      "text/html": [
       "<div>\n",
       "<style scoped>\n",
       "    .dataframe tbody tr th:only-of-type {\n",
       "        vertical-align: middle;\n",
       "    }\n",
       "\n",
       "    .dataframe tbody tr th {\n",
       "        vertical-align: top;\n",
       "    }\n",
       "\n",
       "    .dataframe thead th {\n",
       "        text-align: right;\n",
       "    }\n",
       "</style>\n",
       "<table border=\"1\" class=\"dataframe\">\n",
       "  <thead>\n",
       "    <tr style=\"text-align: right;\">\n",
       "      <th></th>\n",
       "      <th>lastUpdatedStamp</th>\n",
       "      <th>noteName</th>\n",
       "      <th>noteDateTime</th>\n",
       "      <th>createdTxStamp</th>\n",
       "      <th>moreInfoItemName</th>\n",
       "      <th>createdStamp</th>\n",
       "      <th>noteInfo</th>\n",
       "      <th>lastUpdatedTxStamp</th>\n",
       "      <th>moreInfoUrl</th>\n",
       "      <th>noteId</th>\n",
       "      <th>moreInfoItemId</th>\n",
       "      <th>noteParty</th>\n",
       "    </tr>\n",
       "  </thead>\n",
       "  <tbody>\n",
       "    <tr>\n",
       "      <th>0</th>\n",
       "      <td>2019-02-10 22:18:03.222</td>\n",
       "      <td>Demo Note</td>\n",
       "      <td>2019-02-10 22:18:03.222</td>\n",
       "      <td>2019-02-10 22:18:03.039</td>\n",
       "      <td>None</td>\n",
       "      <td>2019-02-10 22:18:03.222</td>\n",
       "      <td>This is demo note to test createPartyNote service</td>\n",
       "      <td>2019-02-10 22:18:03.039</td>\n",
       "      <td>None</td>\n",
       "      <td>10000</td>\n",
       "      <td>None</td>\n",
       "      <td>system</td>\n",
       "    </tr>\n",
       "    <tr>\n",
       "      <th>1</th>\n",
       "      <td>2019-02-10 22:18:52.655</td>\n",
       "      <td>Demo Note</td>\n",
       "      <td>2019-02-10 22:18:52.640</td>\n",
       "      <td>2019-02-10 22:18:52.611</td>\n",
       "      <td>None</td>\n",
       "      <td>2019-02-10 22:18:52.655</td>\n",
       "      <td>This is demo note to test createPartyNote service</td>\n",
       "      <td>2019-02-10 22:18:52.611</td>\n",
       "      <td>None</td>\n",
       "      <td>10001</td>\n",
       "      <td>None</td>\n",
       "      <td>system</td>\n",
       "    </tr>\n",
       "    <tr>\n",
       "      <th>2</th>\n",
       "      <td>2019-02-10 22:19:03.917</td>\n",
       "      <td>Demo Note</td>\n",
       "      <td>2019-02-10 22:19:03.916</td>\n",
       "      <td>2019-02-10 22:19:03.914</td>\n",
       "      <td>None</td>\n",
       "      <td>2019-02-10 22:19:03.917</td>\n",
       "      <td>This is demo note to test createPartyNote service</td>\n",
       "      <td>2019-02-10 22:19:03.914</td>\n",
       "      <td>None</td>\n",
       "      <td>10002</td>\n",
       "      <td>None</td>\n",
       "      <td>system</td>\n",
       "    </tr>\n",
       "  </tbody>\n",
       "</table>\n",
       "</div>"
      ],
      "text/plain": [
       "         lastUpdatedStamp   noteName            noteDateTime  \\\n",
       "0 2019-02-10 22:18:03.222  Demo Note 2019-02-10 22:18:03.222   \n",
       "1 2019-02-10 22:18:52.655  Demo Note 2019-02-10 22:18:52.640   \n",
       "2 2019-02-10 22:19:03.917  Demo Note 2019-02-10 22:19:03.916   \n",
       "\n",
       "           createdTxStamp moreInfoItemName            createdStamp  \\\n",
       "0 2019-02-10 22:18:03.039             None 2019-02-10 22:18:03.222   \n",
       "1 2019-02-10 22:18:52.611             None 2019-02-10 22:18:52.655   \n",
       "2 2019-02-10 22:19:03.914             None 2019-02-10 22:19:03.917   \n",
       "\n",
       "                                            noteInfo      lastUpdatedTxStamp  \\\n",
       "0  This is demo note to test createPartyNote service 2019-02-10 22:18:03.039   \n",
       "1  This is demo note to test createPartyNote service 2019-02-10 22:18:52.611   \n",
       "2  This is demo note to test createPartyNote service 2019-02-10 22:19:03.914   \n",
       "\n",
       "  moreInfoUrl noteId moreInfoItemId noteParty  \n",
       "0        None  10000           None    system  \n",
       "1        None  10001           None    system  \n",
       "2        None  10002           None    system  "
      ]
     },
     "execution_count": 10,
     "metadata": {},
     "output_type": "execute_result"
    }
   ],
   "source": [
    "e('df').listNoteData()"
   ]
  },
  {
   "cell_type": "code",
   "execution_count": 13,
   "metadata": {
    "ExecuteTime": {
     "end_time": "2019-02-10T14:40:31.593773Z",
     "start_time": "2019-02-10T14:40:06.544382Z"
    }
   },
   "outputs": [],
   "source": [
    "from requests import put, get\n",
    "json_data=get('https://jsonplaceholder.typicode.com/posts?_start={startIndex}&_limit={limit}'\n",
    "   .format(startIndex=0, limit=100)).json()"
   ]
  },
  {
   "cell_type": "code",
   "execution_count": 19,
   "metadata": {
    "ExecuteTime": {
     "end_time": "2019-02-10T14:44:23.413173Z",
     "start_time": "2019-02-10T14:44:22.011348Z"
    }
   },
   "outputs": [
    {
     "name": "stdout",
     "output_type": "stream",
     "text": [
      "100\n"
     ]
    }
   ],
   "source": [
    "print(len(json_data))\n",
    "# print(json_data)\n",
    "for r in json_data:\n",
    "#     print(r['id'], r['title'], r['body'])\n",
    "    ok,r=s().createPartyNote(partyId='DemoCustomer',    \n",
    "        noteName=r['title'],\n",
    "        note=r['body'])\n",
    "    if not ok:\n",
    "        print(r)\n",
    "        break"
   ]
  },
  {
   "cell_type": "code",
   "execution_count": 3,
   "metadata": {
    "ExecuteTime": {
     "end_time": "2019-02-10T15:00:29.052800Z",
     "start_time": "2019-02-10T15:00:28.993239Z"
    }
   },
   "outputs": [
    {
     "data": {
      "text/html": [
       "<div>\n",
       "<style scoped>\n",
       "    .dataframe tbody tr th:only-of-type {\n",
       "        vertical-align: middle;\n",
       "    }\n",
       "\n",
       "    .dataframe tbody tr th {\n",
       "        vertical-align: top;\n",
       "    }\n",
       "\n",
       "    .dataframe thead th {\n",
       "        text-align: right;\n",
       "    }\n",
       "</style>\n",
       "<table border=\"1\" class=\"dataframe\">\n",
       "  <thead>\n",
       "    <tr style=\"text-align: right;\">\n",
       "      <th></th>\n",
       "      <th>lastUpdatedStamp</th>\n",
       "      <th>noteName</th>\n",
       "      <th>noteDateTime</th>\n",
       "      <th>createdTxStamp</th>\n",
       "      <th>moreInfoItemName</th>\n",
       "      <th>createdStamp</th>\n",
       "      <th>noteInfo</th>\n",
       "      <th>lastUpdatedTxStamp</th>\n",
       "      <th>moreInfoUrl</th>\n",
       "      <th>noteId</th>\n",
       "      <th>moreInfoItemId</th>\n",
       "      <th>noteParty</th>\n",
       "    </tr>\n",
       "  </thead>\n",
       "  <tbody>\n",
       "    <tr>\n",
       "      <th>0</th>\n",
       "      <td>2019-02-10 22:44:22.024</td>\n",
       "      <td>sunt aut facere repellat provident occaecati e...</td>\n",
       "      <td>2019-02-10 22:44:22.024</td>\n",
       "      <td>2019-02-10 22:44:22.023</td>\n",
       "      <td>None</td>\n",
       "      <td>2019-02-10 22:44:22.024</td>\n",
       "      <td>quia et suscipit\\nsuscipit recusandae consequu...</td>\n",
       "      <td>2019-02-10 22:44:22.023</td>\n",
       "      <td>None</td>\n",
       "      <td>10005</td>\n",
       "      <td>None</td>\n",
       "      <td>system</td>\n",
       "    </tr>\n",
       "    <tr>\n",
       "      <th>1</th>\n",
       "      <td>2019-02-10 22:44:22.072</td>\n",
       "      <td>qui est esse</td>\n",
       "      <td>2019-02-10 22:44:22.071</td>\n",
       "      <td>2019-02-10 22:44:22.070</td>\n",
       "      <td>None</td>\n",
       "      <td>2019-02-10 22:44:22.072</td>\n",
       "      <td>est rerum tempore vitae\\nsequi sint nihil repr...</td>\n",
       "      <td>2019-02-10 22:44:22.070</td>\n",
       "      <td>None</td>\n",
       "      <td>10006</td>\n",
       "      <td>None</td>\n",
       "      <td>system</td>\n",
       "    </tr>\n",
       "    <tr>\n",
       "      <th>2</th>\n",
       "      <td>2019-02-10 22:44:22.092</td>\n",
       "      <td>ea molestias quasi exercitationem repellat qui...</td>\n",
       "      <td>2019-02-10 22:44:22.091</td>\n",
       "      <td>2019-02-10 22:44:22.090</td>\n",
       "      <td>None</td>\n",
       "      <td>2019-02-10 22:44:22.092</td>\n",
       "      <td>et iusto sed quo iure\\nvoluptatem occaecati om...</td>\n",
       "      <td>2019-02-10 22:44:22.090</td>\n",
       "      <td>None</td>\n",
       "      <td>10007</td>\n",
       "      <td>None</td>\n",
       "      <td>system</td>\n",
       "    </tr>\n",
       "  </tbody>\n",
       "</table>\n",
       "</div>"
      ],
      "text/plain": [
       "         lastUpdatedStamp                                           noteName  \\\n",
       "0 2019-02-10 22:44:22.024  sunt aut facere repellat provident occaecati e...   \n",
       "1 2019-02-10 22:44:22.072                                       qui est esse   \n",
       "2 2019-02-10 22:44:22.092  ea molestias quasi exercitationem repellat qui...   \n",
       "\n",
       "             noteDateTime          createdTxStamp moreInfoItemName  \\\n",
       "0 2019-02-10 22:44:22.024 2019-02-10 22:44:22.023             None   \n",
       "1 2019-02-10 22:44:22.071 2019-02-10 22:44:22.070             None   \n",
       "2 2019-02-10 22:44:22.091 2019-02-10 22:44:22.090             None   \n",
       "\n",
       "             createdStamp                                           noteInfo  \\\n",
       "0 2019-02-10 22:44:22.024  quia et suscipit\\nsuscipit recusandae consequu...   \n",
       "1 2019-02-10 22:44:22.072  est rerum tempore vitae\\nsequi sint nihil repr...   \n",
       "2 2019-02-10 22:44:22.092  et iusto sed quo iure\\nvoluptatem occaecati om...   \n",
       "\n",
       "       lastUpdatedTxStamp moreInfoUrl noteId moreInfoItemId noteParty  \n",
       "0 2019-02-10 22:44:22.023        None  10005           None    system  \n",
       "1 2019-02-10 22:44:22.070        None  10006           None    system  \n",
       "2 2019-02-10 22:44:22.090        None  10007           None    system  "
      ]
     },
     "execution_count": 3,
     "metadata": {},
     "output_type": "execute_result"
    }
   ],
   "source": [
    "from sagas.ofbiz.entities import OfEntity as e\n",
    "e('df').listNoteData(_offset=5,_limit=3)"
   ]
  },
  {
   "cell_type": "code",
   "execution_count": 4,
   "metadata": {
    "ExecuteTime": {
     "end_time": "2019-02-10T15:00:43.071477Z",
     "start_time": "2019-02-10T15:00:43.050219Z"
    }
   },
   "outputs": [
    {
     "data": {
      "text/plain": [
       "[]"
      ]
     },
     "execution_count": 4,
     "metadata": {},
     "output_type": "execute_result"
    }
   ],
   "source": [
    "e().listNoteData(_offset=105,_limit=3)"
   ]
  },
  {
   "cell_type": "code",
   "execution_count": 7,
   "metadata": {
    "ExecuteTime": {
     "end_time": "2019-02-10T15:14:14.917210Z",
     "start_time": "2019-02-10T15:14:14.912950Z"
    }
   },
   "outputs": [
    {
     "name": "stdout",
     "output_type": "stream",
     "text": [
      "todo 2019-02-10 23:14:14.914151\n"
     ]
    }
   ],
   "source": [
    "import datetime\n",
    "print(\"todo \"+str(datetime.datetime.now()))"
   ]
  },
  {
   "cell_type": "code",
   "execution_count": 2,
   "metadata": {
    "ExecuteTime": {
     "end_time": "2019-02-10T15:33:08.277988Z",
     "start_time": "2019-02-10T15:33:08.253908Z"
    }
   },
   "outputs": [
    {
     "name": "stdout",
     "output_type": "stream",
     "text": [
      "sunt aut facere repellat provident occaecati excepturi optio reprehenderit\n",
      "qui est esse\n",
      "ea molestias quasi exercitationem repellat qui ipsa sit aut\n"
     ]
    }
   ],
   "source": [
    "from sagas.ofbiz.entities import OfEntity as e, oc\n",
    "import json\n",
    "\n",
    "rs=e().listNoteData(_offset=5,_limit=3)\n",
    "json_rs=oc.j.ValueHelper.valueListToJson(rs)\n",
    "for r in json.loads(json_rs):\n",
    "    print(r['noteName'])"
   ]
  },
  {
   "cell_type": "code",
   "execution_count": 1,
   "metadata": {
    "ExecuteTime": {
     "end_time": "2019-02-10T15:35:07.053327Z",
     "start_time": "2019-02-10T15:35:06.328243Z"
    }
   },
   "outputs": [
    {
     "data": {
      "text/plain": [
       "'[{\"lastUpdatedStamp\":1549809862024,\"noteName\":\"sunt aut facere repellat provident occaecati excepturi optio reprehenderit\",\"noteDateTime\":1549809862024,\"createdTxStamp\":1549809862023,\"moreInfoItemName\":null,\"createdStamp\":1549809862024,\"noteInfo\":\"quia et suscipit\\\\nsuscipit recusandae consequuntur expedita et cum\\\\nreprehenderit molestiae ut ut quas totam\\\\nnostrum rerum est autem sunt rem eveniet architecto\",\"lastUpdatedTxStamp\":1549809862023,\"moreInfoUrl\":null,\"noteId\":\"10005\",\"moreInfoItemId\":null,\"noteParty\":\"system\"},{\"lastUpdatedStamp\":1549809862072,\"noteName\":\"qui est esse\",\"noteDateTime\":1549809862071,\"createdTxStamp\":1549809862070,\"moreInfoItemName\":null,\"createdStamp\":1549809862072,\"noteInfo\":\"est rerum tempore vitae\\\\nsequi sint nihil reprehenderit dolor beatae ea dolores neque\\\\nfugiat blanditiis voluptate porro vel nihil molestiae ut reiciendis\\\\nqui aperiam non debitis possimus qui neque nisi nulla\",\"lastUpdatedTxStamp\":1549809862070,\"moreInfoUrl\":null,\"noteId\":\"10006\",\"moreInfoItemId\":null,\"noteParty\":\"system\"},{\"lastUpdatedStamp\":1549809862092,\"noteName\":\"ea molestias quasi exercitationem repellat qui ipsa sit aut\",\"noteDateTime\":1549809862091,\"createdTxStamp\":1549809862090,\"moreInfoItemName\":null,\"createdStamp\":1549809862092,\"noteInfo\":\"et iusto sed quo iure\\\\nvoluptatem occaecati omnis eligendi aut ad\\\\nvoluptatem doloribus vel accusantium quis pariatur\\\\nmolestiae porro eius odio et labore et velit aut\",\"lastUpdatedTxStamp\":1549809862090,\"moreInfoUrl\":null,\"noteId\":\"10007\",\"moreInfoItemId\":null,\"noteParty\":\"system\"}]'"
      ]
     },
     "execution_count": 1,
     "metadata": {},
     "output_type": "execute_result"
    }
   ],
   "source": [
    "from sagas.ofbiz.entities import OfEntity as e\n",
    "e('json').listNoteData(_offset=5,_limit=3)"
   ]
  }
 ],
 "metadata": {
  "kernelspec": {
   "display_name": "Python 3",
   "language": "python",
   "name": "python3"
  },
  "language_info": {
   "codemirror_mode": {
    "name": "ipython",
    "version": 3
   },
   "file_extension": ".py",
   "mimetype": "text/x-python",
   "name": "python",
   "nbconvert_exporter": "python",
   "pygments_lexer": "ipython3",
   "version": "3.6.4"
  },
  "varInspector": {
   "cols": {
    "lenName": 16,
    "lenType": 16,
    "lenVar": 40
   },
   "kernels_config": {
    "python": {
     "delete_cmd_postfix": "",
     "delete_cmd_prefix": "del ",
     "library": "var_list.py",
     "varRefreshCmd": "print(var_dic_list())"
    },
    "r": {
     "delete_cmd_postfix": ") ",
     "delete_cmd_prefix": "rm(",
     "library": "var_list.r",
     "varRefreshCmd": "cat(var_dic_list()) "
    }
   },
   "types_to_exclude": [
    "module",
    "function",
    "builtin_function_or_method",
    "instance",
    "_Feature"
   ],
   "window_display": false
  }
 },
 "nbformat": 4,
 "nbformat_minor": 2
}
