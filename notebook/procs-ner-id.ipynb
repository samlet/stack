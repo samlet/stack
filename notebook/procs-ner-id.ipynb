{
 "cells": [
  {
   "cell_type": "code",
   "execution_count": 1,
   "metadata": {
    "ExecuteTime": {
     "end_time": "2020-02-27T09:22:54.417998Z",
     "start_time": "2020-02-27T09:22:54.338391Z"
    }
   },
   "outputs": [],
   "source": [
    "from py4j.java_gateway import JavaGateway, JavaObject, GatewayParameters\n",
    "from py4j.java_gateway import java_import, get_field\n",
    "\n",
    "host=\"localhost\"\n",
    "port=4333\n",
    "callback_port=4334\n",
    "gateway = JavaGateway(python_proxy_port=callback_port,\n",
    "                      gateway_parameters=GatewayParameters(address=host, port=port, auto_field=True))\n",
    "j = gateway.new_jvm_view()"
   ]
  },
  {
   "cell_type": "code",
   "execution_count": 2,
   "metadata": {
    "ExecuteTime": {
     "end_time": "2020-02-27T09:22:57.030884Z",
     "start_time": "2020-02-27T09:22:56.325610Z"
    }
   },
   "outputs": [
    {
     "data": {
      "text/plain": [
       "[{'start': 0, 'end': 6, 'text': 'Jokowi', 'entity': 'PERSON'},\n",
       " {'start': 16, 'end': 25, 'text': 'Singapura', 'entity': 'LOCATION'}]"
      ]
     },
     "execution_count": 2,
     "metadata": {},
     "output_type": "execute_result"
    }
   ],
   "source": [
    "import json\n",
    "\n",
    "def id_parse(sents):\n",
    "    ner = gateway.entry_point.getIndonesiaNer()\n",
    "    return json.loads(ner.nerJson(sents))\n",
    "\n",
    "def id_ner(sents):\n",
    "    running_offset = 0\n",
    "    rs = []\n",
    "    tokens = id_parse(sents)\n",
    "    for token in tokens:\n",
    "        word = token['token']\n",
    "        word_offset = sents.index(word, running_offset)\n",
    "        word_len = len(word)\n",
    "        running_offset = word_offset + word_len\n",
    "        rs.append({\"start\": word_offset,\n",
    "                   \"end\": running_offset,\n",
    "                   'text': word, 'entity': token['xmlTag']\n",
    "                   })\n",
    "    return [w for w in rs if w['entity'] != 'OTHER']\n",
    "\n",
    "id_ner(\"Jokowi pergi ke Singapura.\")"
   ]
  }
 ],
 "metadata": {
  "kernelspec": {
   "display_name": "Python 3",
   "language": "python",
   "name": "python3"
  },
  "language_info": {
   "codemirror_mode": {
    "name": "ipython",
    "version": 3
   },
   "file_extension": ".py",
   "mimetype": "text/x-python",
   "name": "python",
   "nbconvert_exporter": "python",
   "pygments_lexer": "ipython3",
   "version": "3.6.6"
  },
  "varInspector": {
   "cols": {
    "lenName": 16,
    "lenType": 16,
    "lenVar": 40
   },
   "kernels_config": {
    "python": {
     "delete_cmd_postfix": "",
     "delete_cmd_prefix": "del ",
     "library": "var_list.py",
     "varRefreshCmd": "print(var_dic_list())"
    },
    "r": {
     "delete_cmd_postfix": ") ",
     "delete_cmd_prefix": "rm(",
     "library": "var_list.r",
     "varRefreshCmd": "cat(var_dic_list()) "
    }
   },
   "types_to_exclude": [
    "module",
    "function",
    "builtin_function_or_method",
    "instance",
    "_Feature"
   ],
   "window_display": false
  }
 },
 "nbformat": 4,
 "nbformat_minor": 2
}
