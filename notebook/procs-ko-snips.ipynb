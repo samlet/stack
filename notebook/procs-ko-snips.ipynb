{
 "cells": [
  {
   "cell_type": "code",
   "execution_count": 2,
   "metadata": {
    "ExecuteTime": {
     "end_time": "2020-02-28T15:14:36.723316Z",
     "start_time": "2020-02-28T15:14:36.649761Z"
    }
   },
   "outputs": [
    {
     "data": {
      "text/plain": [
       "[{'value': '금요일 오후 7',\n",
       "  'range': {'start': 0, 'end': 8},\n",
       "  'entity': {'kind': 'InstantTime',\n",
       "   'value': '2020-02-28 19:00:00 +08:00',\n",
       "   'grain': 'Hour',\n",
       "   'precision': 'Exact'},\n",
       "  'alternatives': [],\n",
       "  'entity_kind': 'snips/datetime'},\n",
       " {'value': '오후 8시',\n",
       "  'range': {'start': 14, 'end': 19},\n",
       "  'entity': {'kind': 'InstantTime',\n",
       "   'value': '2020-02-28 20:00:00 +08:00',\n",
       "   'grain': 'Hour',\n",
       "   'precision': 'Exact'},\n",
       "  'alternatives': [],\n",
       "  'entity_kind': 'snips/datetime'}]"
      ]
     },
     "execution_count": 2,
     "metadata": {},
     "output_type": "execute_result"
    }
   ],
   "source": [
    "from snips_nlu_parsers import BuiltinEntityParser\n",
    "\n",
    "text='금요일 오후 7 시부 터 오후 8시' \n",
    "parser = BuiltinEntityParser.build(language='ko')\n",
    "parsing = parser.parse(text)\n",
    "parsing"
   ]
  },
  {
   "cell_type": "code",
   "execution_count": 5,
   "metadata": {
    "ExecuteTime": {
     "end_time": "2020-02-28T15:22:30.297459Z",
     "start_time": "2020-02-28T15:22:30.258203Z"
    }
   },
   "outputs": [
    {
     "data": {
      "text/plain": [
       "[{'value': '이번 주말에',\n",
       "  'range': {'start': 0, 'end': 6},\n",
       "  'entity': {'kind': 'TimeInterval',\n",
       "   'from': '2020-02-28 18:00:00 +08:00',\n",
       "   'to': '2020-03-02 00:00:00 +08:00'},\n",
       "  'alternatives': [],\n",
       "  'entity_kind': 'snips/datetime'}]"
      ]
     },
     "execution_count": 5,
     "metadata": {},
     "output_type": "execute_result"
    }
   ],
   "source": [
    "# text='이번 주말에' \n",
    "text='이번 주말에 벌써 계획이 있어요?'\n",
    "parser = BuiltinEntityParser.build(language='ko')\n",
    "parsing = parser.parse(text)\n",
    "parsing"
   ]
  },
  {
   "cell_type": "code",
   "execution_count": 6,
   "metadata": {
    "ExecuteTime": {
     "end_time": "2020-02-28T15:26:20.567785Z",
     "start_time": "2020-02-28T15:26:20.526075Z"
    }
   },
   "outputs": [
    {
     "data": {
      "text/plain": [
       "[]"
      ]
     },
     "execution_count": 6,
     "metadata": {},
     "output_type": "execute_result"
    }
   ],
   "source": [
    "text='있어요'\n",
    "parser = BuiltinEntityParser.build(language='ko')\n",
    "parsing = parser.parse(text)\n",
    "parsing"
   ]
  }
 ],
 "metadata": {
  "kernelspec": {
   "display_name": "Python 3",
   "language": "python",
   "name": "python3"
  },
  "language_info": {
   "codemirror_mode": {
    "name": "ipython",
    "version": 3
   },
   "file_extension": ".py",
   "mimetype": "text/x-python",
   "name": "python",
   "nbconvert_exporter": "python",
   "pygments_lexer": "ipython3",
   "version": "3.6.6"
  },
  "varInspector": {
   "cols": {
    "lenName": 16,
    "lenType": 16,
    "lenVar": 40
   },
   "kernels_config": {
    "python": {
     "delete_cmd_postfix": "",
     "delete_cmd_prefix": "del ",
     "library": "var_list.py",
     "varRefreshCmd": "print(var_dic_list())"
    },
    "r": {
     "delete_cmd_postfix": ") ",
     "delete_cmd_prefix": "rm(",
     "library": "var_list.r",
     "varRefreshCmd": "cat(var_dic_list()) "
    }
   },
   "types_to_exclude": [
    "module",
    "function",
    "builtin_function_or_method",
    "instance",
    "_Feature"
   ],
   "window_display": false
  }
 },
 "nbformat": 4,
 "nbformat_minor": 2
}
