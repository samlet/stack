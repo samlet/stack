{
 "cells": [
  {
   "cell_type": "code",
   "execution_count": 4,
   "metadata": {
    "ExecuteTime": {
     "end_time": "2019-09-02T09:29:20.269065Z",
     "start_time": "2019-09-02T09:28:29.744700Z"
    }
   },
   "outputs": [
    {
     "name": "stdout",
     "output_type": "stream",
     "text": [
      "  1. Italian                    2. Hindi                      3. French                   \n",
      "  4. Spanish; Castilian         5. Vietnamese                 6. Arabic                   \n",
      "  7. Macedonian                 8. Bosnian-Croatian-Serbian   9. Norwegian Nynorsk        \n",
      " 10. Azerbaijani               11. Bulgarian                 12. Georgian                 \n",
      " 13. Galician                  14. Amharic                   15. Yiddish                  \n",
      " 16. Norwegian                 17. Estonian                  18. Japanese                 \n",
      " 19. Haitian; Haitian Creole   20. Belarusian                21. Greek, Modern            \n",
      " 22. Welsh                     23. Albanian                  24. Marathi (Marāṭhī)        \n",
      " 25. Armenian                  26. Slovene                   27. Korean                   \n",
      " 28. Irish                     29. Bengali                   30. Serbian                  \n",
      " 31. Finnish                   32. Catalan; Valencian        33. Croatian                 \n",
      " 34. Dutch                     35. Swedish                   36. Tagalog                  \n",
      " 37. Danish                    38. Kannada                   39. Maltese                  \n",
      " 40. Swahili                   41. Latvian                   42. Telugu                   \n",
      " 43. Ukrainian                 44. Romanian, Moldavian, ...  45. Persian                  \n",
      " 46. Latin                     47. Slovak                    48. Icelandic                \n",
      " 49. Portuguese                50. Urdu                      51. Gujarati                 \n",
      " 52. Tamil                     53. Khmer                     54. Malay                    \n",
      " 55. Afrikaans                 56. Basque                    57. Polish                   \n",
      " 58. German                    59. Esperanto                 60. Indonesian               \n",
      " 61. Chinese                   62. Czech                     63. Hebrew (modern)          \n",
      " 64. Lithuanian                65. Turkish                   66. Bosnian                  \n",
      " 67. Hungarian                 68. Thai                      69. Russian                  \n",
      "\n"
     ]
    }
   ],
   "source": [
    "from polyglot.transliteration import Transliterator\n",
    "from polyglot.downloader import downloader\n",
    "print(downloader.supported_languages_table(\"transliteration2\"))"
   ]
  },
  {
   "cell_type": "code",
   "execution_count": 11,
   "metadata": {
    "ExecuteTime": {
     "end_time": "2019-09-02T10:01:20.697660Z",
     "start_time": "2019-09-02T10:01:12.240772Z"
    }
   },
   "outputs": [
    {
     "name": "stdout",
     "output_type": "stream",
     "text": [
      "[polyglot_data] Error loading all-transliteration2: Package 'all-\n",
      "[polyglot_data]     transliteration2' not found in index\n"
     ]
    },
    {
     "data": {
      "text/plain": [
       "False"
      ]
     },
     "execution_count": 11,
     "metadata": {},
     "output_type": "execute_result"
    }
   ],
   "source": [
    "downloader.download('all-transliteration2')"
   ]
  },
  {
   "cell_type": "code",
   "execution_count": 3,
   "metadata": {
    "ExecuteTime": {
     "end_time": "2019-09-02T09:28:21.923168Z",
     "start_time": "2019-09-02T09:28:21.754216Z"
    }
   },
   "outputs": [
    {
     "name": "stdout",
     "output_type": "stream",
     "text": [
      "وي\n",
      "ويل\n",
      "ميت\n",
      "ات\n",
      "ييايت\n",
      "أوكلوك\n",
      "ون\n",
      "ثورسداي\n",
      "مورنينغ\n",
      "\n"
     ]
    }
   ],
   "source": [
    "from polyglot.transliteration import Transliterator\n",
    "from polyglot.text import Text\n",
    "blob = \"\"\"We will meet at eight o'clock on Thursday morning.\"\"\"\n",
    "text = Text(blob)\n",
    "for x in text.transliterate(\"ar\"):\n",
    "    print(x)"
   ]
  },
  {
   "cell_type": "code",
   "execution_count": 7,
   "metadata": {
    "ExecuteTime": {
     "end_time": "2019-09-02T09:44:15.873587Z",
     "start_time": "2019-09-02T09:44:15.827763Z"
    }
   },
   "outputs": [
    {
     "name": "stdout",
     "output_type": "stream",
     "text": [
      "sabah\n",
      "alkher\n"
     ]
    }
   ],
   "source": [
    "text = Text('صباح الخير', hint_language_code='ar')\n",
    "for x in text.transliterate(\"en\"):\n",
    "    print(x)"
   ]
  },
  {
   "cell_type": "code",
   "execution_count": 34,
   "metadata": {
    "ExecuteTime": {
     "end_time": "2019-09-03T06:51:32.720154Z",
     "start_time": "2019-09-03T06:51:32.656133Z"
    }
   },
   "outputs": [
    {
     "name": "stdout",
     "output_type": "stream",
     "text": [
      "ساباه الخير "
     ]
    }
   ],
   "source": [
    "text = Text('sabah alkher', hint_language_code='en')\n",
    "for x in text.transliterate(\"ar\"):\n",
    "    print(x, end=' ')"
   ]
  },
  {
   "cell_type": "code",
   "execution_count": 35,
   "metadata": {
    "ExecuteTime": {
     "end_time": "2019-09-03T06:52:32.177401Z",
     "start_time": "2019-09-03T06:52:32.143803Z"
    }
   },
   "outputs": [
    {
     "data": {
      "text/plain": [
       "'bokr tov'"
      ]
     },
     "execution_count": 35,
     "metadata": {},
     "output_type": "execute_result"
    }
   ],
   "source": [
    "def translit(sents, lang, target='en'):\n",
    "    text = Text(sents, hint_language_code=lang)\n",
    "    return ' '.join([x for x in text.transliterate(target)])\n",
    "translit('בוקר טוב', 'he')"
   ]
  },
  {
   "cell_type": "code",
   "execution_count": 37,
   "metadata": {
    "ExecuteTime": {
     "end_time": "2019-09-03T06:53:13.101261Z",
     "start_time": "2019-09-03T06:53:13.065784Z"
    }
   },
   "outputs": [
    {
     "data": {
      "text/plain": [
       "'בוקר טוב'"
      ]
     },
     "execution_count": 37,
     "metadata": {},
     "output_type": "execute_result"
    }
   ],
   "source": [
    "translit('bokr tov', 'en', 'he')"
   ]
  },
  {
   "cell_type": "code",
   "execution_count": 30,
   "metadata": {
    "ExecuteTime": {
     "end_time": "2019-09-02T10:16:07.888539Z",
     "start_time": "2019-09-02T10:16:07.844148Z"
    }
   },
   "outputs": [
    {
     "data": {
      "text/plain": [
       "'sabah alkher'"
      ]
     },
     "execution_count": 30,
     "metadata": {},
     "output_type": "execute_result"
    }
   ],
   "source": [
    "translit('صباح الخير', 'ar')"
   ]
  },
  {
   "cell_type": "code",
   "execution_count": 23,
   "metadata": {
    "ExecuteTime": {
     "end_time": "2019-09-02T10:15:10.862561Z",
     "start_time": "2019-09-02T10:15:10.823744Z"
    }
   },
   "outputs": [
    {
     "data": {
      "text/plain": [
       "'sbh bakhir'"
      ]
     },
     "execution_count": 23,
     "metadata": {},
     "output_type": "execute_result"
    }
   ],
   "source": [
    "translit('صبح بخیر', 'fa')"
   ]
  },
  {
   "cell_type": "code",
   "execution_count": 38,
   "metadata": {
    "ExecuteTime": {
     "end_time": "2019-09-03T06:53:42.553762Z",
     "start_time": "2019-09-03T06:53:42.490030Z"
    }
   },
   "outputs": [
    {
     "data": {
      "text/plain": [
       "'سبه بخیر'"
      ]
     },
     "execution_count": 38,
     "metadata": {},
     "output_type": "execute_result"
    }
   ],
   "source": [
    "translit('sbh bakhir', 'en', 'fa')"
   ]
  },
  {
   "cell_type": "code",
   "execution_count": 24,
   "metadata": {
    "ExecuteTime": {
     "end_time": "2019-09-02T10:15:13.032309Z",
     "start_time": "2019-09-02T10:15:13.016349Z"
    }
   },
   "outputs": [
    {
     "data": {
      "text/plain": [
       "'shubh prbhat'"
      ]
     },
     "execution_count": 24,
     "metadata": {},
     "output_type": "execute_result"
    }
   ],
   "source": [
    "translit('शुभ प्रभात', 'hi')"
   ]
  },
  {
   "cell_type": "code",
   "execution_count": 25,
   "metadata": {
    "ExecuteTime": {
     "end_time": "2019-09-02T10:15:15.816406Z",
     "start_time": "2019-09-02T10:15:15.731732Z"
    },
    "scrolled": true
   },
   "outputs": [
    {
     "data": {
      "text/plain": [
       "'dobroe utro'"
      ]
     },
     "execution_count": 25,
     "metadata": {},
     "output_type": "execute_result"
    }
   ],
   "source": [
    "translit('доброе утро', 'ru')"
   ]
  },
  {
   "cell_type": "code",
   "execution_count": 26,
   "metadata": {
    "ExecuteTime": {
     "end_time": "2019-09-02T10:15:17.780389Z",
     "start_time": "2019-09-02T10:15:17.751129Z"
    }
   },
   "outputs": [
    {
     "data": {
      "text/plain": [
       "'swasdi ton cheea kea'"
      ]
     },
     "execution_count": 26,
     "metadata": {},
     "output_type": "execute_result"
    }
   ],
   "source": [
    "translit('สวัสดีตอนเช้าค่ะ', 'th')"
   ]
  },
  {
   "cell_type": "code",
   "execution_count": 27,
   "metadata": {
    "ExecuteTime": {
     "end_time": "2019-09-02T10:15:20.851578Z",
     "start_time": "2019-09-02T10:15:20.833264Z"
    }
   },
   "outputs": [
    {
     "data": {
      "text/plain": [
       "'  zhongwen'"
      ]
     },
     "execution_count": 27,
     "metadata": {},
     "output_type": "execute_result"
    }
   ],
   "source": [
    "translit('这是中文', 'zh')"
   ]
  },
  {
   "cell_type": "code",
   "execution_count": 28,
   "metadata": {
    "ExecuteTime": {
     "end_time": "2019-09-02T10:15:23.987162Z",
     "start_time": "2019-09-02T10:15:23.972446Z"
    }
   },
   "outputs": [
    {
     "data": {
      "text/plain": [
       "' '"
      ]
     },
     "execution_count": 28,
     "metadata": {},
     "output_type": "execute_result"
    }
   ],
   "source": [
    "translit('좋은 아침', 'ko')"
   ]
  },
  {
   "cell_type": "code",
   "execution_count": 29,
   "metadata": {
    "ExecuteTime": {
     "end_time": "2019-09-02T10:15:26.302559Z",
     "start_time": "2019-09-02T10:15:26.259200Z"
    }
   },
   "outputs": [
    {
     "data": {
      "text/plain": [
       "'   i '"
      ]
     },
     "execution_count": 29,
     "metadata": {},
     "output_type": "execute_result"
    }
   ],
   "source": [
    "translit('おはようございます', 'ja')"
   ]
  }
 ],
 "metadata": {
  "kernelspec": {
   "display_name": "Python 3",
   "language": "python",
   "name": "python3"
  },
  "language_info": {
   "codemirror_mode": {
    "name": "ipython",
    "version": 3
   },
   "file_extension": ".py",
   "mimetype": "text/x-python",
   "name": "python",
   "nbconvert_exporter": "python",
   "pygments_lexer": "ipython3",
   "version": "3.6.4"
  },
  "varInspector": {
   "cols": {
    "lenName": 16,
    "lenType": 16,
    "lenVar": 40
   },
   "kernels_config": {
    "python": {
     "delete_cmd_postfix": "",
     "delete_cmd_prefix": "del ",
     "library": "var_list.py",
     "varRefreshCmd": "print(var_dic_list())"
    },
    "r": {
     "delete_cmd_postfix": ") ",
     "delete_cmd_prefix": "rm(",
     "library": "var_list.r",
     "varRefreshCmd": "cat(var_dic_list()) "
    }
   },
   "types_to_exclude": [
    "module",
    "function",
    "builtin_function_or_method",
    "instance",
    "_Feature"
   ],
   "window_display": false
  }
 },
 "nbformat": 4,
 "nbformat_minor": 2
}
