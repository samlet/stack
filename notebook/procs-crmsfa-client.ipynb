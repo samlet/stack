{
 "cells": [
  {
   "cell_type": "code",
   "execution_count": 1,
   "metadata": {
    "ExecuteTime": {
     "end_time": "2019-01-05T12:12:17.807409Z",
     "start_time": "2019-01-05T12:12:17.764172Z"
    }
   },
   "outputs": [],
   "source": [
    "from client_wrapper import ServiceClient\n",
    "import common_types_pb2 as common\n",
    "import crmsfa_pb2\n",
    "import crmsfa_pb2_grpc\n",
    "\n",
    "serv = ServiceClient(crmsfa_pb2_grpc, 'CrmsfaProcsStub', 'localhost', 50051)"
   ]
  },
  {
   "cell_type": "code",
   "execution_count": 2,
   "metadata": {
    "ExecuteTime": {
     "end_time": "2019-01-05T12:13:29.299184Z",
     "start_time": "2019-01-05T12:13:29.291673Z"
    }
   },
   "outputs": [
    {
     "name": "stdout",
     "output_type": "stream",
     "text": [
      "Greeter client received: Ping, you!\n"
     ]
    }
   ],
   "source": [
    "response = serv.Ping(common.PingRequest(name='you'))\n",
    "print(\"Greeter client received: \" + response.message)"
   ]
  },
  {
   "cell_type": "code",
   "execution_count": 3,
   "metadata": {
    "ExecuteTime": {
     "end_time": "2019-01-05T13:29:42.784562Z",
     "start_time": "2019-01-05T13:29:42.754279Z"
    }
   },
   "outputs": [
    {
     "name": "stdout",
     "output_type": "stream",
     "text": [
      "User created: tom\n",
      "user {\n",
      "  username: \"alexa\"\n",
      "  user_id: 1\n",
      "}\n",
      "\n",
      "user {\n",
      "  username: \"christie\"\n",
      "  user_id: 1\n",
      "}\n",
      "\n"
     ]
    }
   ],
   "source": [
    "import users_pb2_grpc as users_service\n",
    "import users_types_pb2 as users_messages\n",
    "from client_wrapper import ServiceClient\n",
    "\n",
    "\n",
    "def run():\n",
    "    users = ServiceClient(users_service, 'UsersStub', 'localhost', 50051)\n",
    "    # Insert example metadata\n",
    "    metadata = [('ip', '127.0.0.1')]\n",
    "    response = users.CreateUser(\n",
    "        users_messages.CreateUserRequest(username='tom'),\n",
    "        metadata=metadata\n",
    "    )\n",
    "    if response:\n",
    "        print(\"User created:\", response.user.username)\n",
    "    request = users_messages.GetUsersRequest(\n",
    "        user=[users_messages.User(username=\"alexa\", user_id=1),\n",
    "              users_messages.User(username=\"christie\", user_id=1)]\n",
    "    )\n",
    "    response = users.GetUsers(request)\n",
    "    for resp in response:\n",
    "        print(resp)\n",
    "\n",
    "run()        "
   ]
  }
 ],
 "metadata": {
  "kernelspec": {
   "display_name": "Python 3",
   "language": "python",
   "name": "python3"
  },
  "language_info": {
   "codemirror_mode": {
    "name": "ipython",
    "version": 3
   },
   "file_extension": ".py",
   "mimetype": "text/x-python",
   "name": "python",
   "nbconvert_exporter": "python",
   "pygments_lexer": "ipython3",
   "version": "3.6.4"
  },
  "varInspector": {
   "cols": {
    "lenName": 16,
    "lenType": 16,
    "lenVar": 40
   },
   "kernels_config": {
    "python": {
     "delete_cmd_postfix": "",
     "delete_cmd_prefix": "del ",
     "library": "var_list.py",
     "varRefreshCmd": "print(var_dic_list())"
    },
    "r": {
     "delete_cmd_postfix": ") ",
     "delete_cmd_prefix": "rm(",
     "library": "var_list.r",
     "varRefreshCmd": "cat(var_dic_list()) "
    }
   },
   "types_to_exclude": [
    "module",
    "function",
    "builtin_function_or_method",
    "instance",
    "_Feature"
   ],
   "window_display": false
  }
 },
 "nbformat": 4,
 "nbformat_minor": 2
}
