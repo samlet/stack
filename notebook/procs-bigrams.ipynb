{
 "cells": [
  {
   "cell_type": "code",
   "execution_count": 2,
   "metadata": {
    "ExecuteTime": {
     "end_time": "2020-02-27T12:18:23.846807Z",
     "start_time": "2020-02-27T12:18:23.830633Z"
    }
   },
   "outputs": [
    {
     "name": "stdout",
     "output_type": "stream",
     "text": [
      "['fi', 'in', 'nd', 'bi', 'ig', 'gr', 'ra', 'am', 'ms', 'he', 'er', 're']\n"
     ]
    }
   ],
   "source": [
    "# 使用re.findall在文本（字母双字母）中找到彼此相继的所有两个字母的集合\n",
    "import re\n",
    "print(re.findall(r'(?=([a-zA-Z]{2}))', 'find bigrams here'))"
   ]
  },
  {
   "cell_type": "code",
   "execution_count": 3,
   "metadata": {
    "ExecuteTime": {
     "end_time": "2020-02-27T12:20:39.483950Z",
     "start_time": "2020-02-27T12:20:39.464869Z"
    }
   },
   "outputs": [
    {
     "data": {
      "text/plain": [
       "[('this', 'is'), ('is', 'a'), ('a', 'test')]"
      ]
     },
     "execution_count": 3,
     "metadata": {},
     "output_type": "execute_result"
    }
   ],
   "source": [
    "# 生成单词列表的bigrams的生成器\n",
    "def pairwise(iterable):\n",
    "    \"\"\"Iterate over pairs of an iterable.\"\"\"\n",
    "    i = iter(iterable)\n",
    "    j = iter(iterable)\n",
    "    next(j)\n",
    "    yield from zip(i, j)\n",
    "list(pairwise([\"this\", \"is\", \"a\", \"test\"]))"
   ]
  },
  {
   "cell_type": "code",
   "execution_count": 12,
   "metadata": {
    "ExecuteTime": {
     "end_time": "2020-02-27T12:23:40.087358Z",
     "start_time": "2020-02-27T12:23:40.073785Z"
    }
   },
   "outputs": [
    {
     "data": {
      "text/plain": [
       "[('a', ' '), (' ', 't'), ('t', 'e'), ('e', 's'), ('s', 't')]"
      ]
     },
     "execution_count": 12,
     "metadata": {},
     "output_type": "execute_result"
    }
   ],
   "source": [
    "list(nltk.bigrams('a test'))"
   ]
  },
  {
   "cell_type": "code",
   "execution_count": 15,
   "metadata": {
    "ExecuteTime": {
     "end_time": "2020-02-27T12:26:37.085467Z",
     "start_time": "2020-02-27T12:26:37.073596Z"
    }
   },
   "outputs": [
    {
     "name": "stdout",
     "output_type": "stream",
     "text": [
      "found ('a', 'test') ('a', 'test')\n"
     ]
    }
   ],
   "source": [
    "import nltk\n",
    "words=[\"this\", \"is\", \"a\", \"test\"]\n",
    "# target=\"New York\"\n",
    "target=['a', 'test']\n",
    "for pair in pairwise(words):\n",
    "    for bigram in nltk.bigrams(target):\n",
    "        if bigram == pair:\n",
    "            print('found', bigram, pair)  # found"
   ]
  }
 ],
 "metadata": {
  "kernelspec": {
   "display_name": "Python 3",
   "language": "python",
   "name": "python3"
  },
  "language_info": {
   "codemirror_mode": {
    "name": "ipython",
    "version": 3
   },
   "file_extension": ".py",
   "mimetype": "text/x-python",
   "name": "python",
   "nbconvert_exporter": "python",
   "pygments_lexer": "ipython3",
   "version": "3.6.6"
  },
  "varInspector": {
   "cols": {
    "lenName": 16,
    "lenType": 16,
    "lenVar": 40
   },
   "kernels_config": {
    "python": {
     "delete_cmd_postfix": "",
     "delete_cmd_prefix": "del ",
     "library": "var_list.py",
     "varRefreshCmd": "print(var_dic_list())"
    },
    "r": {
     "delete_cmd_postfix": ") ",
     "delete_cmd_prefix": "rm(",
     "library": "var_list.r",
     "varRefreshCmd": "cat(var_dic_list()) "
    }
   },
   "types_to_exclude": [
    "module",
    "function",
    "builtin_function_or_method",
    "instance",
    "_Feature"
   ],
   "window_display": false
  }
 },
 "nbformat": 4,
 "nbformat_minor": 2
}
