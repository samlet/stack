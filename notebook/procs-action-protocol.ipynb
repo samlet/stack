{
 "cells": [
  {
   "cell_type": "code",
   "execution_count": 6,
   "metadata": {
    "ExecuteTime": {
     "end_time": "2019-04-06T12:58:12.307125Z",
     "start_time": "2019-04-06T12:58:12.147385Z"
    }
   },
   "outputs": [
    {
     "name": "stdout",
     "output_type": "stream",
     "text": [
      "{\n",
      "  \"domain\": {\n",
      "    \"config\": {\n",
      "      \"store_entities_as_slots\": true\n",
      "    },\n",
      "    \"intents\": [\n",
      "      {\n",
      "        \"greet\": {\n",
      "          \"use_entities\": true\n",
      "        }\n",
      "      },\n",
      "      {\n",
      "        \"default\": {\n",
      "          \"use_entities\": true\n",
      "        }\n",
      "      },\n",
      "      {\n",
      "        \"goodbye\": {\n",
      "          \"use_entities\": true\n",
      "        }\n",
      "      },\n",
      "      {\n",
      "        \"affirm\": {\n",
      "          \"use_entities\": true\n",
      "        }\n",
      "      },\n",
      "      {\n",
      "        \"thank_you\": {\n",
      "          \"use_entities\": true\n",
      "        }\n",
      "      },\n",
      "      {\n",
      "        \"change_bank_details\": {\n",
      "          \"use_entities\": true\n",
      "        }\n",
      "      },\n",
      "      {\n",
      "        \"simple\": {\n",
      "          \"use_entities\": true\n",
      "        }\n",
      "      },\n",
      "      {\n",
      "        \"hello\": {\n",
      "          \"use_entities\": true\n",
      "        }\n",
      "      },\n",
      "      {\n",
      "        \"why\": {\n",
      "          \"use_entities\": true\n",
      "        }\n",
      "      },\n",
      "      {\n",
      "        \"next_intent\": {\n",
      "          \"use_entities\": true\n",
      "        }\n",
      "      }\n",
      "    ],\n",
      "    \"entities\": [\n",
      "      \"name\"\n",
      "    ],\n",
      "    \"slots\": {\n",
      "      \"name\": {\n",
      "        \"type\": \"rasa_core.slots.TextSlot\",\n",
      "        \"initial_value\": null,\n",
      "        \"auto_fill\": true\n",
      "      }\n",
      "    },\n",
      "    \"templates\": {\n",
      "      \"utter_greet\": [\n",
      "        {\n",
      "          \"text\": \"hey there {name}!\"\n",
      "        }\n",
      "      ],\n",
      "      \"utter_goodbye\": [\n",
      "        {\n",
      "          \"text\": \"goodbye 😢\"\n",
      "        },\n",
      "        {\n",
      "          \"text\": \"bye bye 😢\"\n",
      "        }\n",
      "      ],\n",
      "      \"utter_default\": [\n",
      "        {\n",
      "          \"text\": \"default message\"\n",
      "        }\n",
      "      ]\n",
      "    },\n",
      "    \"actions\": [\n",
      "      \"utter_default\",\n",
      "      \"utter_greet\",\n",
      "      \"utter_goodbye\"\n",
      "    ],\n",
      "    \"forms\": []\n",
      "  },\n",
      "  \"next_action\": \"my_action\",\n",
      "  \"sender_id\": \"default\",\n",
      "  \"tracker\": {\n",
      "    \"latest_message\": {\n",
      "      \"entities\": [],\n",
      "      \"intent\": {},\n",
      "      \"text\": null\n",
      "    },\n",
      "    \"active_form\": {},\n",
      "    \"latest_action_name\": null,\n",
      "    \"sender_id\": \"default\",\n",
      "    \"paused\": false,\n",
      "    \"followup_action\": \"action_listen\",\n",
      "    \"latest_event_time\": null,\n",
      "    \"slots\": {\n",
      "      \"name\": null\n",
      "    },\n",
      "    \"events\": [],\n",
      "    \"latest_input_channel\": null\n",
      "  }\n",
      "}\n"
     ]
    }
   ],
   "source": [
    "import json\n",
    "import utils\n",
    "from rasa_core.domain import Domain\n",
    "\n",
    "DEFAULT_DOMAIN_PATH = \"data/test_domains/default_with_slots.yml\"\n",
    "def default_domain():\n",
    "    return Domain.load(DEFAULT_DOMAIN_PATH)\n",
    "\n",
    "domain=default_domain()\n",
    "req={\n",
    "        'domain': domain.as_dict(),\n",
    "        'next_action': 'my_action',\n",
    "        'sender_id': 'default',\n",
    "        'tracker': {\n",
    "            'latest_message': {\n",
    "                'entities': [],\n",
    "                'intent': {},\n",
    "                'text': None\n",
    "            },\n",
    "            'active_form': {},\n",
    "            'latest_action_name': None,\n",
    "            'sender_id': 'default',\n",
    "            'paused': False,\n",
    "            'followup_action': 'action_listen',\n",
    "            'latest_event_time': None,\n",
    "            'slots': {'name': None},\n",
    "            'events': [],\n",
    "            'latest_input_channel': None\n",
    "        }\n",
    "    }\n",
    "\n",
    "utils.dump(req)"
   ]
  },
  {
   "cell_type": "code",
   "execution_count": 2,
   "metadata": {
    "ExecuteTime": {
     "end_time": "2019-04-06T12:54:00.387505Z",
     "start_time": "2019-04-06T12:54:00.375165Z"
    }
   },
   "outputs": [
    {
     "name": "stdout",
     "output_type": "stream",
     "text": [
      "{\n",
      "  \"events\": [\n",
      "    {\n",
      "      \"event\": \"slot\",\n",
      "      \"value\": \"rasa\",\n",
      "      \"name\": \"name\"\n",
      "    }\n",
      "  ],\n",
      "  \"responses\": [\n",
      "    {\n",
      "      \"text\": \"test text\",\n",
      "      \"buttons\": [\n",
      "        {\n",
      "          \"title\": \"cheap\",\n",
      "          \"payload\": \"cheap\"\n",
      "        }\n",
      "      ]\n",
      "    },\n",
      "    {\n",
      "      \"template\": \"utter_greet\"\n",
      "    }\n",
      "  ]\n",
      "}\n",
      "{\n",
      "  \"events\": [\n",
      "    {\n",
      "      \"event\": \"form\",\n",
      "      \"name\": \"restaurant_form\",\n",
      "      \"timestamp\": null\n",
      "    },\n",
      "    {\n",
      "      \"event\": \"slot\",\n",
      "      \"timestamp\": null,\n",
      "      \"name\": \"requested_slot\",\n",
      "      \"value\": \"cuisine\"\n",
      "    }\n",
      "  ],\n",
      "  \"responses\": [\n",
      "    {\n",
      "      \"template\": \"utter_ask_cuisine\"\n",
      "    }\n",
      "  ]\n",
      "}\n"
     ]
    }
   ],
   "source": [
    "response = {\n",
    "    \"events\": [\n",
    "        {\"event\": \"slot\", \"value\": \"rasa\", \"name\": \"name\"}],\n",
    "    \"responses\": [{\"text\": \"test text\",\n",
    "                   \"buttons\": [{\"title\": \"cheap\", \"payload\": \"cheap\"}]},\n",
    "                  {\"template\": \"utter_greet\"}]}\n",
    "utils.dump(response)\n",
    "response = {\n",
    "        'events': [\n",
    "            {'event': 'form', 'name': 'restaurant_form', 'timestamp': None},\n",
    "            {'event': 'slot', 'timestamp': None,\n",
    "             'name': 'requested_slot', 'value': 'cuisine'}\n",
    "        ],\n",
    "        'responses': [\n",
    "            {'template': 'utter_ask_cuisine'}\n",
    "        ]\n",
    "    }\n",
    "utils.dump(response)"
   ]
  },
  {
   "cell_type": "code",
   "execution_count": 13,
   "metadata": {
    "ExecuteTime": {
     "end_time": "2019-04-06T13:00:49.204011Z",
     "start_time": "2019-04-06T13:00:49.185672Z"
    }
   },
   "outputs": [
    {
     "name": "stdout",
     "output_type": "stream",
     "text": [
      "UserUttered(text: None, intent: {}, entities: [])\n",
      "UserUttered(text: None, intent: {}, entities: [])\n",
      "UserUttered(text: /greet, intent: {'name': 'greet', 'confidence': 1.0}, entities: [])\n"
     ]
    }
   ],
   "source": [
    "from rasa_core.trackers import DialogueStateTracker, EventVerbosity\n",
    "from rasa_core.events import (\n",
    "    UserUttered, ActionExecuted, Restarted, ActionReverted,\n",
    "    UserUtteranceReverted)\n",
    "from rasa_core.actions.action import ACTION_LISTEN_NAME\n",
    "\n",
    "tracker = DialogueStateTracker(\"default\", domain.slots)\n",
    "print(tracker.latest_message)\n",
    "tracker.update(ActionExecuted(ACTION_LISTEN_NAME))\n",
    "print(tracker.latest_message)\n",
    "intent = {\"name\": \"greet\", \"confidence\": 1.0}\n",
    "tracker.update(UserUttered(\"/greet\", intent, []))\n",
    "tracker.update(ActionExecuted(\"my_action\"))\n",
    "tracker.update(ActionExecuted(ACTION_LISTEN_NAME))\n",
    "print(tracker.latest_message)"
   ]
  },
  {
   "cell_type": "code",
   "execution_count": 14,
   "metadata": {
    "ExecuteTime": {
     "end_time": "2019-04-06T13:02:21.580275Z",
     "start_time": "2019-04-06T13:02:21.574774Z"
    }
   },
   "outputs": [
    {
     "name": "stdout",
     "output_type": "stream",
     "text": [
      "UserUttered(text: /bye, intent: {'name': 'bye', 'confidence': 1.0}, entities: [])\n"
     ]
    }
   ],
   "source": [
    "intent = {\"name\": \"bye\", \"confidence\": 1.0}\n",
    "tracker.update(UserUttered(\"/bye\", intent, []))\n",
    "print(tracker.latest_message)"
   ]
  },
  {
   "cell_type": "code",
   "execution_count": 27,
   "metadata": {
    "ExecuteTime": {
     "end_time": "2019-04-06T13:38:37.603530Z",
     "start_time": "2019-04-06T13:38:37.424417Z"
    }
   },
   "outputs": [
    {
     "name": "stdout",
     "output_type": "stream",
     "text": [
      "Logged UserUtterance - tracker now has 1 events\n",
      "UserUttered(text: 找音乐会, intent: {'name': 'search_concerts', 'confidence': 0.9683102369308472}, entities: [{'start': 1, 'end': 4, 'value': '音乐会', 'entity': 'place', 'confidence': 0.736472186969171, 'extractor': 'ner_crf'}])\n"
     ]
    }
   ],
   "source": [
    "from rasa_core.interpreter import RasaNLUHttpInterpreter\n",
    "from rasa_core.utils import EndpointConfig, AvailableEndpoints\n",
    "\n",
    "text=\"找音乐会\"\n",
    "tracker = DialogueStateTracker(\"default\", domain.slots)\n",
    "endpoint = EndpointConfig(\"http://localhost:5000\")\n",
    "interpreter=RasaNLUHttpInterpreter(model_name=\"nlu\", \n",
    "                                   project_name='chinese',\n",
    "                                   endpoint=endpoint)\n",
    "parse_data = interpreter.parse(text)\n",
    "# print(parse_data)\n",
    "tracker.update(UserUttered(text, parse_data[\"intent\"],\n",
    "                           parse_data[\"entities\"], parse_data))\n",
    "# store all entities as slots\n",
    "for e in domain.slots_for_entities(parse_data[\"entities\"]):\n",
    "    tracker.update(e)\n",
    "\n",
    "print(\"Logged UserUtterance - \"\n",
    "             \"tracker now has {} events\".format(len(tracker.events)))\n",
    "print(tracker.latest_message)"
   ]
  },
  {
   "cell_type": "code",
   "execution_count": 30,
   "metadata": {
    "ExecuteTime": {
     "end_time": "2019-04-06T14:01:30.053865Z",
     "start_time": "2019-04-06T14:01:30.041304Z"
    }
   },
   "outputs": [
    {
     "name": "stdout",
     "output_type": "stream",
     "text": [
      "UserUttered(text: 找音乐会, intent: {'name': 'search_concerts', 'confidence': 0.9683102369308472}, entities: [{'start': 1, 'end': 4, 'value': '音乐会', 'entity': 'place', 'confidence': 0.736472186969171, 'extractor': 'ner_crf'}])\n"
     ]
    },
    {
     "data": {
      "text/plain": [
       "[{'event': 'slot', 'name': 'response', 'timestamp': None, 'value': 'ok'}]"
      ]
     },
     "execution_count": 30,
     "metadata": {},
     "output_type": "execute_result"
    }
   ],
   "source": [
    "from rasa_core_sdk.executor import CollectingDispatcher\n",
    "from actions.procs.actions import ActionAboutDate\n",
    "dispatcher=CollectingDispatcher()\n",
    "ac=ActionAboutDate()\n",
    "ac.run(dispatcher, tracker, domain)"
   ]
  },
  {
   "cell_type": "code",
   "execution_count": 32,
   "metadata": {
    "ExecuteTime": {
     "end_time": "2019-04-06T19:51:58.065178Z",
     "start_time": "2019-04-06T19:51:58.039631Z"
    }
   },
   "outputs": [
    {
     "name": "stderr",
     "output_type": "stream",
     "text": [
      "INFO:rasa_core_sdk.executor:Registered function for 'action_joke'.\n",
      "INFO:rasa_core_sdk.executor:Registered function for 'action_about_date'.\n",
      "INFO:rasa_core_sdk.executor:Registered function for 'action_search_concerts'.\n",
      "INFO:rasa_core_sdk.executor:Registered function for 'action_search_venues'.\n",
      "INFO:rasa_core_sdk.executor:Registered function for 'action_show_concert_reviews'.\n",
      "INFO:rasa_core_sdk.executor:Registered function for 'action_show_venue_reviews'.\n",
      "INFO:rasa_core_sdk.executor:Registered function for 'my_custom_action'.\n",
      "INFO:rasa_core_sdk.executor:Registered function for 'restaurant_form'.\n"
     ]
    }
   ],
   "source": [
    "from rasa_core_sdk.executor import ActionExecutor\n",
    "import logging\n",
    "logger = logging.getLogger(__name__)\n",
    "logging.basicConfig(level=logging.DEBUG)\n",
    "\n",
    "executor = ActionExecutor()\n",
    "action_package_name='actions.procs'\n",
    "executor.register_package(action_package_name)"
   ]
  },
  {
   "cell_type": "code",
   "execution_count": 34,
   "metadata": {
    "ExecuteTime": {
     "end_time": "2019-04-06T20:29:38.879139Z",
     "start_time": "2019-04-06T20:29:38.868489Z"
    }
   },
   "outputs": [
    {
     "name": "stdout",
     "output_type": "stream",
     "text": [
      "UserUttered(text: 找音乐会, intent: {'name': 'search_concerts', 'confidence': 0.9683102369308472}, entities: [{'start': 1, 'end': 4, 'value': '音乐会', 'entity': 'place', 'confidence': 0.736472186969171, 'extractor': 'ner_crf'}])\n"
     ]
    },
    {
     "data": {
      "text/plain": [
       "{'events': [{'event': 'slot',\n",
       "   'name': 'response',\n",
       "   'timestamp': None,\n",
       "   'value': 'ok'}],\n",
       " 'responses': [{'text': 'all done.'},\n",
       "  {'text': 'all done.'},\n",
       "  {'text': 'all done.'}]}"
      ]
     },
     "execution_count": 34,
     "metadata": {},
     "output_type": "execute_result"
    }
   ],
   "source": [
    "def create_api_response(events, messages):\n",
    "    return {\n",
    "        \"events\": events if events else [],\n",
    "        \"responses\": messages\n",
    "    }\n",
    "\n",
    "action_name='action_about_date'\n",
    "action = executor.actions.get(action_name)\n",
    "events = action(dispatcher, tracker, domain)\n",
    "create_api_response(events, dispatcher.messages)"
   ]
  },
  {
   "cell_type": "code",
   "execution_count": 37,
   "metadata": {
    "ExecuteTime": {
     "end_time": "2019-04-06T20:38:39.469552Z",
     "start_time": "2019-04-06T20:38:39.460284Z"
    }
   },
   "outputs": [
    {
     "name": "stderr",
     "output_type": "stream",
     "text": [
      "ERROR:rasa_core.trackers:Tried to set non existent slot 'response'. Make sure you added all your slots to your domain file.\n"
     ]
    }
   ],
   "source": [
    "from rasa_core.events import deserialise_events\n",
    "evs=deserialise_events(events)\n",
    "for ev in evs:\n",
    "    tracker.update(ev)"
   ]
  }
 ],
 "metadata": {
  "kernelspec": {
   "display_name": "Python 3",
   "language": "python",
   "name": "python3"
  },
  "language_info": {
   "codemirror_mode": {
    "name": "ipython",
    "version": 3
   },
   "file_extension": ".py",
   "mimetype": "text/x-python",
   "name": "python",
   "nbconvert_exporter": "python",
   "pygments_lexer": "ipython3",
   "version": "3.6.4"
  },
  "varInspector": {
   "cols": {
    "lenName": 16,
    "lenType": 16,
    "lenVar": 40
   },
   "kernels_config": {
    "python": {
     "delete_cmd_postfix": "",
     "delete_cmd_prefix": "del ",
     "library": "var_list.py",
     "varRefreshCmd": "print(var_dic_list())"
    },
    "r": {
     "delete_cmd_postfix": ") ",
     "delete_cmd_prefix": "rm(",
     "library": "var_list.r",
     "varRefreshCmd": "cat(var_dic_list()) "
    }
   },
   "types_to_exclude": [
    "module",
    "function",
    "builtin_function_or_method",
    "instance",
    "_Feature"
   ],
   "window_display": false
  }
 },
 "nbformat": 4,
 "nbformat_minor": 2
}
