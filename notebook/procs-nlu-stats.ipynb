{
 "cells": [
  {
   "cell_type": "raw",
   "metadata": {},
   "source": [
    "⊕ [Damage taken as - Official Path of Exile Wiki](https://pathofexile.gamepedia.com/Damage_taken_as)\n",
    "\n",
    "(4-6)% increased maximum Energy Shield\n",
    "(4-6)% increased maximum Life\n",
    "(4-6)% increased maximum Mana\n",
    "\n",
    "6% increased Movement Speed(60-100)% increased Evasion Rating\n",
    "+5% to maximum Cold Resistance\n",
    "+50% to Cold Resistance\n",
    "Gain (10-15)% of Physical Damage as Extra Cold Damage\n",
    "Reflects (25-50) Cold Damage to Melee Attackers\n",
    "+5% Chance to Block\n",
    "20% of Fire Damage from Hits taken as Cold Damage"
   ]
  }
 ],
 "metadata": {
  "kernelspec": {
   "display_name": "Python 3",
   "language": "python",
   "name": "python3"
  },
  "language_info": {
   "codemirror_mode": {
    "name": "ipython",
    "version": 3
   },
   "file_extension": ".py",
   "mimetype": "text/x-python",
   "name": "python",
   "nbconvert_exporter": "python",
   "pygments_lexer": "ipython3",
   "version": "3.6.9"
  },
  "varInspector": {
   "cols": {
    "lenName": 16,
    "lenType": 16,
    "lenVar": 40
   },
   "kernels_config": {
    "python": {
     "delete_cmd_postfix": "",
     "delete_cmd_prefix": "del ",
     "library": "var_list.py",
     "varRefreshCmd": "print(var_dic_list())"
    },
    "r": {
     "delete_cmd_postfix": ") ",
     "delete_cmd_prefix": "rm(",
     "library": "var_list.r",
     "varRefreshCmd": "cat(var_dic_list()) "
    }
   },
   "types_to_exclude": [
    "module",
    "function",
    "builtin_function_or_method",
    "instance",
    "_Feature"
   ],
   "window_display": false
  }
 },
 "nbformat": 4,
 "nbformat_minor": 2
}
