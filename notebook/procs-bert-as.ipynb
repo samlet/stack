{
 "cells": [
  {
   "cell_type": "code",
   "execution_count": 3,
   "metadata": {
    "ExecuteTime": {
     "end_time": "2019-06-16T08:19:09.447066Z",
     "start_time": "2019-06-16T08:19:09.432842Z"
    }
   },
   "outputs": [
    {
     "name": "stdout",
     "output_type": "stream",
     "text": [
      "['That was very bad', 'it is so bad', 'so terrible', 'I like it', 'It is very good.', 'That was great!']\n"
     ]
    }
   ],
   "source": [
    "import numpy as np\n",
    "from bert_serving.client import BertClient\n",
    "from termcolor import colored\n",
    "\n",
    "train_data = [\n",
    "    (u\"That was very bad\", {\"cats\": {\"POSITIVE\": 0, \"NEGATIVE\": 1}}),\n",
    "    (u\"it is so bad\", {\"cats\": {\"POSITIVE\": 0, \"NEGATIVE\": 1}}),\n",
    "    (u\"so terrible\", {\"cats\": {\"POSITIVE\": 0, \"NEGATIVE\": 1}}),\n",
    "    (u\"I like it\", {\"cats\": {\"POSITIVE\": 1, \"NEGATIVE\": 0}}),\n",
    "    (u\"It is very good.\", {\"cats\": {\"POSITIVE\": 1, \"NEGATIVE\": 0}}),\n",
    "    (u\"That was great!\", {\"cats\": {\"POSITIVE\": 1, \"NEGATIVE\": 0}})\n",
    "]\n",
    "questions = [t[0] for t in train_data]\n",
    "print(questions)"
   ]
  },
  {
   "cell_type": "code",
   "execution_count": 48,
   "metadata": {
    "ExecuteTime": {
     "end_time": "2019-06-16T12:08:07.188704Z",
     "start_time": "2019-06-16T12:08:06.313042Z"
    }
   },
   "outputs": [
    {
     "data": {
      "text/plain": [
       "array([[ 0.13186465,  0.32404128, -0.82704467, ..., -0.3711961 ,\n",
       "        -0.3925013 , -0.31721827],\n",
       "       [ 0.24873514, -0.12334406, -0.38933834, ..., -0.44756237,\n",
       "        -0.5591354 , -0.11345179],\n",
       "       [ 0.28627363, -0.18580145, -0.30906814, ..., -0.29593706,\n",
       "        -0.39310458,  0.07640193]], dtype=float32)"
      ]
     },
     "execution_count": 48,
     "metadata": {},
     "output_type": "execute_result"
    }
   ],
   "source": [
    "from bert_serving.client import BertClient\n",
    "bc = BertClient()\n",
    "bc.encode(['First do it', 'then do it right', 'then do it better'])"
   ]
  },
  {
   "cell_type": "code",
   "execution_count": 51,
   "metadata": {
    "ExecuteTime": {
     "end_time": "2019-06-16T12:09:43.417312Z",
     "start_time": "2019-06-16T12:09:42.970162Z"
    }
   },
   "outputs": [
    {
     "data": {
      "text/plain": [
       "array([[ 0.28627363, -0.18580145, -0.30906814, ..., -0.29593706,\n",
       "        -0.39310458,  0.07640193],\n",
       "       [ 0.38893676, -0.38931534, -0.30416116, ...,  0.14372948,\n",
       "         0.04086732,  0.00814748]], dtype=float32)"
      ]
     },
     "execution_count": 51,
     "metadata": {},
     "output_type": "execute_result"
    }
   ],
   "source": [
    "bc.encode(['then do it better', 'I told you not to tell anyone.'])"
   ]
  },
  {
   "cell_type": "code",
   "execution_count": 66,
   "metadata": {
    "ExecuteTime": {
     "end_time": "2019-06-16T17:42:42.231349Z",
     "start_time": "2019-06-16T17:42:41.448847Z"
    }
   },
   "outputs": [
    {
     "data": {
      "text/plain": [
       "array([[ 0.13186465,  0.32404128, -0.82704467, ..., -0.3711961 ,\n",
       "        -0.3925013 , -0.31721827],\n",
       "       [ 0.24873514, -0.12334406, -0.38933834, ..., -0.44756237,\n",
       "        -0.5591354 , -0.11345179],\n",
       "       [ 0.2862737 , -0.18580146, -0.30906788, ..., -0.29593676,\n",
       "        -0.3931048 ,  0.07640249]], dtype=float32)"
      ]
     },
     "execution_count": 66,
     "metadata": {},
     "output_type": "execute_result"
    }
   ],
   "source": [
    "a=bc.encode(['First do it', 'then do it right'])\n",
    "b=bc.encode(['then do it better'])       \n",
    "np.vstack((a, b))"
   ]
  },
  {
   "cell_type": "code",
   "execution_count": 32,
   "metadata": {
    "ExecuteTime": {
     "end_time": "2019-06-16T09:01:08.350231Z",
     "start_time": "2019-06-16T09:01:07.925889Z"
    }
   },
   "outputs": [
    {
     "name": "stdout",
     "output_type": "stream",
     "text": [
      "[0, 0, 0]\n",
      "<class 'numpy.ndarray'> [[ 0.13186485  0.32404107 -0.82704383 ... -0.37119558 -0.39250153\n",
      "  -0.31721818]\n",
      " [ 0.24873503 -0.12334415 -0.38933882 ... -0.44756237 -0.55913574\n",
      "  -0.11345189]\n",
      " [ 0.28627354 -0.18580157 -0.30906835 ... -0.29593667 -0.3931053\n",
      "   0.07640244]]\n"
     ]
    }
   ],
   "source": [
    "lst_str=['First do it', 'then do it right', 'then do it better']\n",
    "list_vec = bc.encode(lst_str)\n",
    "list_label = [0 for _ in lst_str]  # a dummy list of all-zero labels\n",
    "print(list_label)\n",
    "print(type(list_vec), list_vec)"
   ]
  },
  {
   "cell_type": "code",
   "execution_count": 25,
   "metadata": {
    "ExecuteTime": {
     "end_time": "2019-06-16T08:53:09.190937Z",
     "start_time": "2019-06-16T08:53:07.857212Z"
    }
   },
   "outputs": [],
   "source": [
    "import tensorflow as tf\n",
    "# write to tfrecord\n",
    "with tf.python_io.TFRecordWriter('tmp.tfrecord') as writer:\n",
    "    def create_float_feature(values):\n",
    "        return tf.train.Feature(float_list=tf.train.FloatList(value=values))\n",
    "\n",
    "    def create_int_feature(values):\n",
    "        return tf.train.Feature(int64_list=tf.train.Int64List(value=list(values)))\n",
    "\n",
    "    for (vec, label) in zip(list_vec, list_label):\n",
    "        features = {'features': create_float_feature(vec), 'labels': create_int_feature([label])}\n",
    "        tf_example = tf.train.Example(features=tf.train.Features(feature=features))\n",
    "        writer.write(tf_example.SerializeToString())"
   ]
  },
  {
   "cell_type": "code",
   "execution_count": 26,
   "metadata": {
    "ExecuteTime": {
     "end_time": "2019-06-16T08:53:38.008215Z",
     "start_time": "2019-06-16T08:53:36.270980Z"
    }
   },
   "outputs": [
    {
     "name": "stdout",
     "output_type": "stream",
     "text": [
      "\n",
      "WARNING: The TensorFlow contrib module will not be included in TensorFlow 2.0.\n",
      "For more information, please see:\n",
      "  * https://github.com/tensorflow/community/blob/master/rfcs/20180907-contrib-sunset.md\n",
      "  * https://github.com/tensorflow/addons\n",
      "If you depend on functionality not listed there, please file an issue.\n",
      "\n",
      "WARNING:tensorflow:From <ipython-input-26-bb7ffed71c41>:9: map_and_batch (from tensorflow.contrib.data.python.ops.batching) is deprecated and will be removed in a future version.\n",
      "Instructions for updating:\n",
      "Use `tf.data.experimental.map_and_batch(...)`.\n"
     ]
    }
   ],
   "source": [
    "def _decode_record(record):\n",
    "    \"\"\"Decodes a record to a TensorFlow example.\"\"\"\n",
    "    return tf.parse_single_example(record, {\n",
    "        'features': tf.FixedLenFeature([768], tf.float32),\n",
    "        'labels': tf.FixedLenFeature([], tf.int64),\n",
    "    })\n",
    "\n",
    "ds = (tf.data.TFRecordDataset('tmp.tfrecord').repeat().shuffle(buffer_size=100).apply(\n",
    "    tf.contrib.data.map_and_batch(lambda record: _decode_record(record), batch_size=64))\n",
    "      .make_one_shot_iterator().get_next())"
   ]
  },
  {
   "cell_type": "code",
   "execution_count": 30,
   "metadata": {
    "ExecuteTime": {
     "end_time": "2019-06-16T08:55:42.636835Z",
     "start_time": "2019-06-16T08:55:42.633577Z"
    }
   },
   "outputs": [],
   "source": [
    "# print(ds)\n",
    "# name_to_features = {\n",
    "#     \"feature\": tf.FixedLenFeature([max_seq_length * num_hidden], tf.float32),\n",
    "#     \"label_ids\": tf.FixedLenFeature([], tf.int64),\n",
    "# }\n",
    "\n",
    "# def _decode_record(record, name_to_features):\n",
    "#     \"\"\"Decodes a record to a TensorFlow example.\"\"\"\n",
    "#     example = tf.parse_single_example(record, name_to_features)\n",
    "#     example['feature'] = tf.reshape(example['feature'], [max_seq_length, -1])\n",
    "#     return example"
   ]
  },
  {
   "cell_type": "code",
   "execution_count": 5,
   "metadata": {
    "ExecuteTime": {
     "end_time": "2019-06-16T08:26:52.467125Z",
     "start_time": "2019-06-16T08:26:52.175233Z"
    }
   },
   "outputs": [
    {
     "data": {
      "text/plain": [
       "array([[-5.04763722e-02, -4.87895310e-02, -4.83554065e-01,\n",
       "        -3.42728883e-01, -1.14914678e-01,  1.62609816e-01,\n",
       "         2.15244770e-01,  3.63935769e-01,  3.03730786e-01,\n",
       "        -4.82231468e-01, -4.92257215e-02, -1.86317861e-01,\n",
       "        -1.67600513e-01, -2.55926222e-01, -9.69771028e-01,\n",
       "         6.47908509e-01, -3.97496045e-01, -2.62127548e-01,\n",
       "         3.59476879e-02,  2.64713436e-01, -2.11805508e-01,\n",
       "         3.13155830e-01, -4.49802876e-01, -7.70862550e-02,\n",
       "         2.49953300e-01, -3.49985540e-01,  1.01401851e-01,\n",
       "        -4.91841704e-01, -1.98673695e-01,  2.33608961e-01,\n",
       "         3.21058810e-01, -2.94979453e-01, -1.78063601e-01,\n",
       "        -1.19715571e-01,  1.49329379e-01,  4.04063702e-01,\n",
       "         4.29855198e-01,  7.30635673e-02, -4.05314118e-01,\n",
       "         6.16669953e-02, -5.23368716e-01, -3.88182312e-01,\n",
       "        -2.52037108e-01, -4.18566853e-01, -1.22309744e-01,\n",
       "        -3.84358525e-01, -6.28781468e-02,  7.63056800e-02,\n",
       "         3.56706455e-02, -5.75758040e-01, -8.97076726e-01,\n",
       "         7.11736456e-02, -2.45786637e-01, -5.80639616e-02,\n",
       "        -2.74653584e-01,  3.07207763e-01, -1.62431091e-01,\n",
       "         4.24342930e-01, -5.59586644e-01, -1.52007282e-01,\n",
       "        -3.83540303e-01, -2.41918132e-01,  7.31756315e-02,\n",
       "        -3.19370657e-01,  1.59245446e-01, -5.28045774e-01,\n",
       "         3.62667851e-02,  1.10428786e+00, -5.15008807e-01,\n",
       "        -7.70923868e-02, -7.03501165e-01, -3.02387565e-01,\n",
       "         4.67924416e-01,  2.53899038e-01, -6.69532716e-02,\n",
       "        -3.97073537e-01, -4.47419018e-01,  1.60276264e-01,\n",
       "        -1.47554725e-01, -5.91053301e-03,  3.10648493e-02,\n",
       "         2.26235002e-01, -2.39544794e-01,  3.39233607e-01,\n",
       "        -1.33441016e-01, -1.26758724e-01, -2.09148210e-02,\n",
       "        -2.97665775e-01, -3.04057777e-01, -1.30265653e-02,\n",
       "         1.17460892e-01, -2.02547625e-01, -2.82637298e-01,\n",
       "        -3.92482817e-01,  9.59591754e-03, -6.51352033e-02,\n",
       "         1.32500857e-01,  8.61489102e-02, -1.34880751e-01,\n",
       "        -4.60818671e-02,  3.27320904e-01, -9.89751935e-01,\n",
       "         3.60227861e-02, -1.32711485e-01,  4.21982944e-01,\n",
       "         4.72227752e-01,  3.24860185e-01, -1.23921514e-01,\n",
       "         4.28988636e-01,  2.65539140e-01,  1.34455813e-02,\n",
       "         1.36955395e-01,  2.01954842e-01, -8.55436623e-02,\n",
       "         5.92156947e-02,  2.84995317e-01, -3.65430892e-01,\n",
       "         4.07694839e-02, -1.62081495e-01, -3.61321449e-01,\n",
       "        -4.30751950e-01, -2.16260955e-01, -2.94016600e-01,\n",
       "         1.39700219e-01,  2.17273280e-01,  9.84985605e-02,\n",
       "        -1.95564449e-01,  6.76040590e-01,  3.20950598e-02,\n",
       "        -6.14267468e-01,  3.99035901e-01,  1.59693837e-01,\n",
       "         7.10783064e-01, -4.57395256e-01, -3.72150749e-01,\n",
       "         3.32283229e-01,  3.53665590e-01,  2.12303236e-01,\n",
       "        -3.90389144e-01, -1.01570927e-01, -5.53082228e-02,\n",
       "        -6.54096752e-02,  3.22264731e-01,  1.59613967e-01,\n",
       "         8.83449733e-01, -2.54555494e-01,  3.82490829e-02,\n",
       "        -5.72326481e-01,  2.53733993e-01,  5.04646063e-01,\n",
       "        -2.29625389e-01,  1.35210797e-01, -1.89752340e-01,\n",
       "        -8.09706330e-01, -7.06247747e-01, -3.55716169e-01,\n",
       "        -3.39848995e-02, -2.83998996e-01,  5.82586639e-02,\n",
       "        -2.31287166e-01,  3.40482980e-01,  1.35545313e-01,\n",
       "         4.60507780e-01,  3.06708276e-01, -2.46761404e-02,\n",
       "        -1.34220719e-03, -8.27617720e-02,  4.60485697e-01,\n",
       "        -1.27591610e-01, -1.29885048e-01, -5.54092042e-02,\n",
       "        -1.42040685e-01,  2.55147219e-01,  5.59639573e-01,\n",
       "         2.76255578e-01, -3.40858437e-02, -2.84029812e-01,\n",
       "        -3.09973419e-01,  8.25631544e-02,  5.41571677e-01,\n",
       "        -9.03629899e-01,  4.77635682e-01, -1.75915599e-01,\n",
       "        -2.86741052e-02, -3.15968096e-01,  2.61357725e-01,\n",
       "         7.61848629e-01, -3.77215087e-01, -1.89323917e-01,\n",
       "         8.68218064e-01, -5.62694715e-03,  1.85228243e-01,\n",
       "        -8.92433673e-02, -1.98240697e-01,  2.50539213e-01,\n",
       "        -4.36007202e-01, -3.81686926e-01,  7.28693902e-02,\n",
       "        -6.32825732e-01,  3.31470549e-01,  5.46588540e-01,\n",
       "         1.14628576e-01,  2.58114755e-01, -5.24698198e-01,\n",
       "         2.48086248e-02,  4.11605656e-01,  1.55043021e-01,\n",
       "        -9.85632166e-02,  4.72123176e-03,  5.48254251e-01,\n",
       "        -7.48927474e-01,  5.78370154e-01, -1.21276893e-01,\n",
       "         2.43777707e-01,  9.24432725e-02,  7.13557899e-02,\n",
       "        -1.08761147e-01,  2.30335876e-01,  1.88199684e-01,\n",
       "         3.80730391e-01,  2.24006847e-01, -4.28775162e-01,\n",
       "        -1.39135927e-01,  5.14754236e-01, -1.31294936e-01,\n",
       "         2.45013520e-01, -2.58607212e-02,  1.86310306e-01,\n",
       "        -5.62312841e-01, -2.29979366e-01, -3.22521865e-01,\n",
       "         1.09064415e-01,  4.55519594e-02, -1.68950588e-01,\n",
       "         4.65196371e-03, -1.80546984e-01,  6.11515455e-02,\n",
       "        -2.78195832e-02, -3.42268527e-01, -3.48125994e-02,\n",
       "        -1.74196661e-01,  6.00054935e-02, -7.18659982e-02,\n",
       "         4.82262939e-01,  2.33246922e-01,  1.99483991e-01,\n",
       "         6.54415339e-02, -6.96541905e-01,  5.93639731e-01,\n",
       "         2.58910000e-01, -5.77980340e-01, -3.16222668e-01,\n",
       "        -3.32523048e-01, -4.25646842e-01, -2.13916868e-01,\n",
       "        -7.72625685e-01, -3.98564070e-01, -1.63470536e-01,\n",
       "        -7.03273118e-01, -4.48886633e-01,  1.40953988e-01,\n",
       "         1.24253787e-01,  2.03541309e-01, -1.22537687e-02,\n",
       "        -1.93225779e-02,  4.81292186e-03,  3.90171617e-01,\n",
       "         1.52418345e-01, -1.60994306e-01, -4.49743606e-02,\n",
       "        -4.02635634e-01, -7.72111043e-02,  5.12001097e-01,\n",
       "         1.28716320e-01, -3.69693726e-01, -3.37238789e-01,\n",
       "         4.40401465e-01,  3.77929568e-01,  1.54844269e-01,\n",
       "        -2.66474307e-01, -1.04306564e-01,  2.85045713e-01,\n",
       "        -4.33577716e-01,  4.61308956e-01,  7.19144344e-01,\n",
       "         1.73254594e-01,  1.89079240e-01, -1.77486276e-03,\n",
       "        -2.40180016e-01, -2.15768456e-01, -2.44147658e-01,\n",
       "         1.99313667e-02, -2.26926804e-01, -7.56713748e-01,\n",
       "         6.76837087e-01, -4.33502585e-01, -3.38199943e-01,\n",
       "         3.89442027e-01, -4.38689709e-01, -2.21760005e-01,\n",
       "        -3.94112200e-01,  6.14984572e-01,  2.43763179e-01,\n",
       "        -3.04593384e-01, -6.82921946e-01,  9.09316689e-02,\n",
       "        -4.23655063e-02, -5.50868392e-01, -7.40359402e+00,\n",
       "        -1.61642972e-02,  1.22349665e-01,  7.02438653e-02,\n",
       "         4.01563406e-01, -4.86139208e-01,  4.01430167e-02,\n",
       "         5.61724782e-01, -3.43990386e-01, -4.41298634e-03,\n",
       "        -3.01064365e-02, -3.87644947e-01, -2.10713059e-01,\n",
       "         4.45452124e-01, -1.67215914e-02,  1.78541675e-01,\n",
       "        -1.68407597e-02, -3.47359985e-01, -1.19607374e-01,\n",
       "         9.13120866e-01, -3.48683715e-01, -5.23323298e-01,\n",
       "         1.60033062e-01,  2.31806003e-02,  1.52030393e-01,\n",
       "         5.63392758e-01, -6.22901976e-01,  2.25363612e-01,\n",
       "        -3.57144065e-02, -2.49391988e-01,  9.85222086e-02,\n",
       "        -2.76603043e-01,  7.10818022e-02,  2.50678927e-01,\n",
       "        -4.22286570e-01, -3.60547930e-01,  2.43680269e-01,\n",
       "         3.73228006e-02,  3.03403497e-01,  3.29843253e-01,\n",
       "        -3.32803801e-02, -5.60959160e-01, -2.14439839e-01,\n",
       "         2.57003456e-01,  3.85897100e-01, -6.24067724e-01,\n",
       "         1.18285143e+00, -5.14544621e-02, -4.99579430e-01,\n",
       "        -1.41696660e-02,  3.01034629e-01,  2.08612129e-01,\n",
       "        -9.23993587e-02, -6.71614766e-01,  6.71246499e-02,\n",
       "        -8.78650136e-03,  4.39412594e-01,  3.52269381e-01,\n",
       "         6.84353054e-01, -2.45156828e-02,  6.35478124e-02,\n",
       "        -2.99978465e-01, -1.34098232e-01,  8.62786919e-02,\n",
       "         3.27152789e-01, -3.45698535e-01,  2.35906094e-01,\n",
       "        -4.72368479e-01, -2.52152264e-01,  1.58814624e-01,\n",
       "         3.69551539e-01,  1.62906244e-01, -4.56410907e-02,\n",
       "        -1.23972356e+00, -4.00097460e-01,  3.03156793e-01,\n",
       "         2.06205323e-01,  1.90678731e-01, -4.79576178e-02,\n",
       "        -2.49490783e-01, -7.32117832e-01, -8.40785325e-01,\n",
       "        -5.33924043e-01, -2.99721258e-03,  3.81456912e-01,\n",
       "         3.94507229e-01, -1.58458054e-01, -9.59153295e-01,\n",
       "         9.52327531e-03, -3.23988140e-01,  4.44294751e-01,\n",
       "         6.54498696e-01,  1.29721805e-01,  2.20536903e-01,\n",
       "         1.96581125e-01, -4.19810079e-02,  4.23105150e-01,\n",
       "        -4.23940837e-01, -7.98716426e-01, -5.13852715e-01,\n",
       "        -2.00187564e-01, -8.02453011e-02,  4.09810930e-01,\n",
       "         4.00854051e-01,  2.34328195e-01, -3.19561660e-01,\n",
       "        -3.48234087e-01,  3.11755717e-01,  2.86338389e-01,\n",
       "         4.70056534e-01,  1.15877748e-01,  2.62835115e-01,\n",
       "         2.76919395e-01,  6.73376203e-01, -4.22911584e-01,\n",
       "        -3.65294218e-01, -2.61962831e-01,  2.24583223e-01,\n",
       "         5.43166399e-02, -3.31104606e-01, -3.15931976e-01,\n",
       "         6.60741478e-02, -6.61035478e-01,  1.15730844e-01,\n",
       "         3.98343176e-01, -3.96806225e-02, -3.52700174e-01,\n",
       "        -2.13117033e-01, -2.49409705e-01,  3.30769986e-01,\n",
       "         1.80328209e-02,  1.44493384e-02, -1.13495901e-01,\n",
       "        -4.14086506e-02, -3.95953327e-01,  1.64107889e-01,\n",
       "         1.19831488e-01, -6.00653291e-01,  1.51731685e-01,\n",
       "         4.85555083e-01,  7.24986047e-02,  2.90187411e-02,\n",
       "        -2.23433137e-01,  1.77348092e-01,  1.42484799e-01,\n",
       "         7.25863338e-01, -4.94817108e-01, -7.39043229e-04,\n",
       "        -2.46516749e-01,  5.84190726e-01,  1.13794468e-01,\n",
       "        -1.95326239e-01, -7.57274851e-02, -4.39141333e-01,\n",
       "        -1.14158668e-01,  3.19281965e-01, -3.29531372e-01,\n",
       "        -2.92317450e-01,  1.65494889e-01, -2.59529591e-01,\n",
       "        -1.80348307e-01, -2.84969807e-01, -2.08944440e-01,\n",
       "         1.80451334e-01,  3.50011855e-01,  7.08451152e-01,\n",
       "        -4.26912397e-01,  6.59721494e-02, -5.86958647e-01,\n",
       "         8.85339826e-02,  2.04959080e-01, -5.72759509e-01,\n",
       "        -5.02988584e-02, -1.01943851e-01,  8.80232379e-02,\n",
       "         1.80507272e-01, -3.44791770e-01, -2.29787514e-01,\n",
       "        -4.98718798e-01,  2.92021394e-01,  4.81511317e-02,\n",
       "        -2.00692415e-01, -4.72927466e-02, -2.16833755e-01,\n",
       "         3.77571769e-02, -3.64457101e-01, -2.31796697e-01,\n",
       "         2.86982566e-01,  2.33828112e-01,  2.16019750e-01,\n",
       "         1.51939154e-01, -1.59381792e-01,  8.22735578e-02,\n",
       "        -1.12107396e-01,  1.06895149e-01, -2.06694335e-01,\n",
       "         3.79509628e-01,  3.13503623e-01, -5.06513170e-04,\n",
       "         1.54008970e-01, -4.28908318e-02, -1.07971027e-01,\n",
       "        -1.09529115e-01,  2.93811738e-01,  6.74499333e-01,\n",
       "         3.62686254e-02,  6.29466325e-02,  8.02469552e-01,\n",
       "        -1.55267164e-01, -3.47411722e-01,  3.42540592e-01,\n",
       "        -1.26054734e-02, -5.97091496e-01, -5.10187224e-02,\n",
       "        -8.68551731e-01,  6.23146407e-02, -4.55734879e-01,\n",
       "        -2.38784000e-01, -4.14969921e-01,  3.59839618e-01,\n",
       "        -1.47576198e-01,  1.02013694e-02,  1.35972947e-01,\n",
       "         4.83855188e-01,  2.10162014e-01, -3.78103912e-01,\n",
       "        -2.23940611e-01,  4.12456244e-02,  5.00168681e-01,\n",
       "         2.07083777e-01, -3.76130119e-02,  4.30609547e-02,\n",
       "        -2.24631667e-01, -4.79218632e-01, -9.84237939e-02,\n",
       "         6.67879730e-02, -1.58174172e-01,  8.87526944e-02,\n",
       "         8.65542665e-02, -1.52491555e-01, -2.85199583e-01,\n",
       "        -6.32226586e-01, -3.12227666e-01,  1.78564176e-01,\n",
       "         2.52112269e-01,  4.58980389e-02, -6.84755564e-01,\n",
       "         2.60831416e-01, -3.59472811e-01,  4.02395964e-01,\n",
       "         5.26910841e-01, -7.52503723e-02,  8.06474015e-02,\n",
       "        -2.50530690e-01,  7.34681413e-02, -6.83819801e-02,\n",
       "        -4.49710041e-01,  1.46163106e-01,  2.72584587e-01,\n",
       "         5.59767008e-01, -3.67792755e-01,  5.37023664e-01,\n",
       "         4.49327141e-01, -3.07134539e-02,  4.83723395e-02,\n",
       "         4.86557156e-01,  3.21429014e-01, -1.63252845e-01,\n",
       "         2.83667855e-02,  1.31356388e-01,  2.58612692e-01,\n",
       "        -2.67934978e-01,  2.11521834e-02, -3.12336862e-01,\n",
       "        -2.09544808e-01, -5.54152355e-02,  1.35304540e-01,\n",
       "        -3.59517127e-01,  1.60529420e-01,  5.28437980e-02,\n",
       "        -1.70037255e-01,  6.19024336e-02,  3.87305051e-01,\n",
       "         5.87297697e-03, -4.31714207e-01, -3.05691868e-01,\n",
       "        -3.42771858e-01, -7.24239886e-01, -2.84586549e-01,\n",
       "        -6.22430444e-02, -3.47114503e-01,  6.10656202e-01,\n",
       "         1.28979385e-01,  7.73211598e-01,  2.74116218e-01,\n",
       "         4.21004295e-01,  1.29371151e-01, -1.47774313e-02,\n",
       "        -6.04460351e-02, -1.94461197e-01,  1.90253362e-01,\n",
       "         1.25584841e-01, -1.68759793e-01,  2.36331075e-01,\n",
       "         2.13982254e-01,  6.61824524e-01,  9.32011083e-02,\n",
       "        -2.50482559e-01,  3.84900779e-01,  1.41894892e-01,\n",
       "        -5.99167570e-02, -4.87564147e-01,  3.33168089e-01,\n",
       "         2.97561735e-01, -5.61321020e-01,  1.34709850e-01,\n",
       "        -2.67272890e-01, -4.75619614e-01, -3.18863839e-01,\n",
       "         5.09926915e-01, -9.93556157e-02,  5.43393970e-01,\n",
       "         4.81798977e-01,  4.55004066e-01, -1.54532835e-01,\n",
       "         5.75332701e-01, -2.32462317e-01,  2.33076885e-01,\n",
       "         7.11255729e-01,  3.17571834e-02, -5.84526539e-01,\n",
       "         2.59491913e-02, -1.03950217e-01,  6.59788847e-02,\n",
       "        -2.29496509e-02, -2.42274314e-01,  3.83695602e-01,\n",
       "         8.52975547e-02,  3.08363408e-01,  4.53852981e-01,\n",
       "         4.25317764e-01,  7.33517781e-02,  5.25155485e-01,\n",
       "         3.34688962e-01, -2.01037407e-01, -4.38669845e-02,\n",
       "        -1.68875128e-01,  2.13348225e-01,  1.03660271e-01,\n",
       "         9.99794304e-01, -2.61046231e-01, -1.07348144e-01,\n",
       "         9.81686935e-02, -8.58243555e-02,  6.34391963e-01,\n",
       "         4.51112747e-01, -1.03273652e-01,  5.65166697e-02,\n",
       "        -3.41153443e-01,  2.26960033e-01, -5.90643585e-02,\n",
       "        -8.57425630e-02,  5.10800600e-01, -3.43987525e-01,\n",
       "        -1.19338430e-01,  9.68759134e-03,  3.57017428e-01,\n",
       "        -2.09313750e-01, -3.08310807e-01,  1.20006561e-01,\n",
       "        -1.72993630e-01,  3.58680427e-01,  4.20914501e-01,\n",
       "         3.44029628e-02,  2.02634364e-01, -2.84572132e-02,\n",
       "        -3.56973857e-01, -1.26398116e-01, -1.57385156e-01,\n",
       "        -1.92781270e-01, -2.84308761e-01, -2.90697426e-01,\n",
       "        -3.19330335e-01,  2.61022151e-01, -1.92258999e-01,\n",
       "        -2.24671699e-02, -4.01603550e-01, -3.41294587e-01,\n",
       "         4.11915451e-01, -2.24512853e-02, -5.34617491e-02,\n",
       "        -3.72779757e-01,  2.31060192e-01, -3.21997225e-01,\n",
       "        -1.47610381e-01, -8.49898979e-02, -5.37202239e-01,\n",
       "         1.94813818e-01,  3.98281664e-01, -4.33255360e-02,\n",
       "        -4.72657457e-02,  1.88172877e-01,  3.73954535e-01,\n",
       "        -3.41946185e-01, -3.08604032e-01,  3.71417820e-01,\n",
       "        -7.12380588e-01,  3.71582091e-01, -3.19600791e-01,\n",
       "        -1.96174249e-01, -3.48654568e-01,  5.78956962e-01,\n",
       "        -1.68487310e-01,  6.03868663e-01, -1.33972481e-01,\n",
       "        -2.59954423e-01, -2.58174866e-01, -7.05363333e-01,\n",
       "         2.93260157e-01,  1.48797944e-01, -9.89599153e-02,\n",
       "        -1.02455460e-01, -8.02413166e-01,  4.70520258e-01,\n",
       "        -3.40599775e-01, -2.50465810e-01,  1.05227254e-01,\n",
       "         3.00580323e-01, -3.39744478e-01, -3.93122256e-01,\n",
       "         1.51080161e-01, -6.99848756e-02,  2.40006093e-02,\n",
       "        -5.29510565e-02,  3.65970358e-02, -1.75830156e-01,\n",
       "        -5.40623292e-02,  1.06459439e-01,  2.67154396e-01,\n",
       "        -2.83159435e-01, -4.88803610e-02,  4.55452830e-01,\n",
       "        -6.56050384e-01,  2.04875633e-01, -4.97061193e-01,\n",
       "        -2.24411175e-01, -4.12554324e-01, -3.22530031e-01,\n",
       "         4.86728728e-01,  5.89432061e-01,  5.45742035e-01,\n",
       "        -1.43064544e-01, -2.28559762e-01, -8.45394880e-02,\n",
       "        -5.39655268e-01,  4.40740019e-01, -1.54860038e-02,\n",
       "        -4.41374689e-01, -1.95274636e-01, -4.06682402e-01]], dtype=float32)"
      ]
     },
     "execution_count": 5,
     "metadata": {},
     "output_type": "execute_result"
    }
   ],
   "source": [
    "# As a feature of BERT, you may get encodes of a pair of sentences by concatenating them with |||, e.g.\n",
    "bc.encode(['First do it ||| then do it right'])"
   ]
  },
  {
   "cell_type": "code",
   "execution_count": 8,
   "metadata": {
    "ExecuteTime": {
     "end_time": "2019-06-16T08:29:28.921121Z",
     "start_time": "2019-06-16T08:29:28.379789Z"
    }
   },
   "outputs": [],
   "source": [
    "doc_vecs = bc.encode(questions)\n",
    "topk = 5"
   ]
  },
  {
   "cell_type": "code",
   "execution_count": 10,
   "metadata": {
    "ExecuteTime": {
     "end_time": "2019-06-16T08:31:42.249258Z",
     "start_time": "2019-06-16T08:31:41.993099Z"
    }
   },
   "outputs": [
    {
     "name": "stdout",
     "output_type": "stream",
     "text": [
      "top 5 questions similar to \"\u001b[32mThat was very bad\u001b[0m\"\n",
      "> \u001b[36m11.3\u001b[0m\t\u001b[33mThat was very bad\u001b[0m\n",
      "> \u001b[36m8.2\u001b[0m\t\u001b[33mit is so bad\u001b[0m\n",
      "> \u001b[36m7.9\u001b[0m\t\u001b[33mThat was great!\u001b[0m\n",
      "> \u001b[36m7.7\u001b[0m\t\u001b[33mIt is very good.\u001b[0m\n",
      "> \u001b[36m7.6\u001b[0m\t\u001b[33mso terrible\u001b[0m\n"
     ]
    }
   ],
   "source": [
    "def get_similar(query):\n",
    "    query_vec = bc.encode([query])[0]\n",
    "    score = np.sum(query_vec * doc_vecs, axis=1) / np.linalg.norm(doc_vecs, axis=1)\n",
    "    topk_idx = np.argsort(score)[::-1][:topk]\n",
    "    print('top %d questions similar to \"%s\"' % (topk, colored(query, 'green')))\n",
    "    for idx in topk_idx:\n",
    "        print('> %s\\t%s' % (colored('%.1f' % score[idx], 'cyan'), colored(questions[idx], 'yellow')))\n",
    "\n",
    "query=\"That was very bad\"\n",
    "get_similar(query)"
   ]
  },
  {
   "cell_type": "code",
   "execution_count": 44,
   "metadata": {
    "ExecuteTime": {
     "end_time": "2019-06-16T09:31:08.684549Z",
     "start_time": "2019-06-16T09:31:08.245039Z"
    }
   },
   "outputs": [
    {
     "name": "stdout",
     "output_type": "stream",
     "text": [
      "loading corpus ...\n",
      "total 43953\n",
      "pickup ok, total 1000\n"
     ]
    }
   ],
   "source": [
    "from sagas.nlu.corpus_helper import filter_term, lines, divide_chunks\n",
    "import numpy\n",
    "import spacy\n",
    "\n",
    "samples_count=1000\n",
    "# dataf = \"/pi/ai/seq2seq/fra-eng-2019/fra.txt\"\n",
    "dataf='/pi/ai/seq2seq/jpn-eng-2019/jpn.txt'\n",
    "print('loading corpus ...')\n",
    "pairs = lines(dataf)\n",
    "total = len(pairs)\n",
    "print('total', total)\n",
    "array = numpy.array(pairs)\n",
    "random_rows = numpy.random.randint(total, size=samples_count)\n",
    "# print('pickup', random_rows)\n",
    "# print(array[random_rows, :])\n",
    "\n",
    "# print('analyse ...')\n",
    "rows = array[random_rows, :]\n",
    "dataset = []\n",
    "for r in rows:\n",
    "    sents=str(r[0])\n",
    "    tr_lang=str(r[1].strip())\n",
    "    dataset.append(sents)\n",
    "\n",
    "print('pickup ok, total %d'%len(dataset))"
   ]
  },
  {
   "cell_type": "code",
   "execution_count": 17,
   "metadata": {
    "ExecuteTime": {
     "end_time": "2019-06-16T08:38:08.244945Z",
     "start_time": "2019-06-16T08:36:59.766007Z"
    }
   },
   "outputs": [
    {
     "name": "stdout",
     "output_type": "stream",
     "text": [
      "top 5 questions similar to \"\u001b[32mI want the two of you to quit arguing.\u001b[0m\"\n",
      "> \u001b[36m8.9\u001b[0m\t\u001b[33mI know what the three of you want.\u001b[0m\n",
      "> \u001b[36m8.4\u001b[0m\t\u001b[33mI told you to leave.\u001b[0m\n",
      "> \u001b[36m8.2\u001b[0m\t\u001b[33mIt is not appropriate for you to do this.\u001b[0m\n",
      "> \u001b[36m8.2\u001b[0m\t\u001b[33mI want you and me to be happy.\u001b[0m\n",
      "> \u001b[36m8.2\u001b[0m\t\u001b[33mYou're wasting both of our time.\u001b[0m\n"
     ]
    }
   ],
   "source": [
    "questions=dataset\n",
    "doc_vecs = bc.encode(questions)\n",
    "\n",
    "query=\"I want the two of you to quit arguing.\"\n",
    "get_similar(query)"
   ]
  },
  {
   "cell_type": "code",
   "execution_count": 19,
   "metadata": {
    "ExecuteTime": {
     "end_time": "2019-06-16T08:45:08.967406Z",
     "start_time": "2019-06-16T08:45:08.686649Z"
    }
   },
   "outputs": [
    {
     "name": "stdout",
     "output_type": "stream",
     "text": [
      "top 5 questions similar to \"\u001b[32mI told you to leave.\u001b[0m\"\n",
      "> \u001b[36m10.5\u001b[0m\t\u001b[33mI told you to leave.\u001b[0m\n",
      "> \u001b[36m8.6\u001b[0m\t\u001b[33mThey want you to resign.\u001b[0m\n",
      "> \u001b[36m8.5\u001b[0m\t\u001b[33mI knew you wouldn't help us.\u001b[0m\n",
      "> \u001b[36m8.4\u001b[0m\t\u001b[33mWe're waiting for you to leave.\u001b[0m\n",
      "> \u001b[36m8.2\u001b[0m\t\u001b[33mI now know what I told you was wrong.\u001b[0m\n"
     ]
    }
   ],
   "source": [
    "query=\"I told you to leave.\"\n",
    "get_similar(query)"
   ]
  },
  {
   "cell_type": "code",
   "execution_count": 34,
   "metadata": {
    "ExecuteTime": {
     "end_time": "2019-06-16T09:05:39.385242Z",
     "start_time": "2019-06-16T09:05:39.350143Z"
    }
   },
   "outputs": [
    {
     "name": "stdout",
     "output_type": "stream",
     "text": [
      "1000\n"
     ]
    }
   ],
   "source": [
    "import numpy as np\n",
    "print(len(doc_vecs))\n",
    "np.save('./data/bert/samples_1000.npy', doc_vecs) # save"
   ]
  },
  {
   "cell_type": "code",
   "execution_count": 35,
   "metadata": {
    "ExecuteTime": {
     "end_time": "2019-06-16T09:07:03.953264Z",
     "start_time": "2019-06-16T09:07:03.940557Z"
    }
   },
   "outputs": [
    {
     "name": "stdout",
     "output_type": "stream",
     "text": [
      "1000\n"
     ]
    }
   ],
   "source": [
    "doc_vecs=np.load('./data/bert/samples_1000.npy') # load\n",
    "print(len(doc_vecs))"
   ]
  },
  {
   "cell_type": "code",
   "execution_count": 36,
   "metadata": {
    "ExecuteTime": {
     "end_time": "2019-06-16T09:07:12.316478Z",
     "start_time": "2019-06-16T09:07:11.977267Z"
    }
   },
   "outputs": [
    {
     "name": "stdout",
     "output_type": "stream",
     "text": [
      "top 5 questions similar to \"\u001b[32mI told you to leave.\u001b[0m\"\n",
      "> \u001b[36m10.5\u001b[0m\t\u001b[33mI told you to leave.\u001b[0m\n",
      "> \u001b[36m8.6\u001b[0m\t\u001b[33mThey want you to resign.\u001b[0m\n",
      "> \u001b[36m8.5\u001b[0m\t\u001b[33mI knew you wouldn't help us.\u001b[0m\n",
      "> \u001b[36m8.4\u001b[0m\t\u001b[33mWe're waiting for you to leave.\u001b[0m\n",
      "> \u001b[36m8.2\u001b[0m\t\u001b[33mI now know what I told you was wrong.\u001b[0m\n"
     ]
    }
   ],
   "source": [
    "query=\"I told you to leave.\"\n",
    "get_similar(query)"
   ]
  },
  {
   "cell_type": "code",
   "execution_count": 37,
   "metadata": {
    "ExecuteTime": {
     "end_time": "2019-06-16T09:10:38.417649Z",
     "start_time": "2019-06-16T09:10:38.092567Z"
    }
   },
   "outputs": [
    {
     "name": "stdout",
     "output_type": "stream",
     "text": [
      "top 5 questions similar to \"\u001b[32mI told you to leave.\u001b[0m\"\n",
      "> \u001b[36m6.9\u001b[0m\t\u001b[33mDo you know how Tom got the scar on his chin?\u001b[0m\n",
      "> \u001b[36m6.8\u001b[0m\t\u001b[33mI don't like those people.\u001b[0m\n",
      "> \u001b[36m6.5\u001b[0m\t\u001b[33mTom taught Mary to swim.\u001b[0m\n"
     ]
    }
   ],
   "source": [
    "doc_vecs=list_vec\n",
    "query=\"I told you to leave.\"\n",
    "get_similar(query)"
   ]
  },
  {
   "cell_type": "code",
   "execution_count": 38,
   "metadata": {
    "ExecuteTime": {
     "end_time": "2019-06-16T09:11:05.172904Z",
     "start_time": "2019-06-16T09:11:04.892322Z"
    }
   },
   "outputs": [
    {
     "name": "stdout",
     "output_type": "stream",
     "text": [
      "top 5 questions similar to \"\u001b[32mI told you to leave.\u001b[0m\"\n",
      "> \u001b[36m10.5\u001b[0m\t\u001b[33mI told you to leave.\u001b[0m\n",
      "> \u001b[36m8.6\u001b[0m\t\u001b[33mThey want you to resign.\u001b[0m\n",
      "> \u001b[36m8.5\u001b[0m\t\u001b[33mI knew you wouldn't help us.\u001b[0m\n",
      "> \u001b[36m8.4\u001b[0m\t\u001b[33mWe're waiting for you to leave.\u001b[0m\n",
      "> \u001b[36m8.2\u001b[0m\t\u001b[33mI now know what I told you was wrong.\u001b[0m\n"
     ]
    }
   ],
   "source": [
    "doc_vecs=np.load('./data/bert/samples_1000.npy') # load\n",
    "query=\"I told you to leave.\"\n",
    "get_similar(query)"
   ]
  },
  {
   "cell_type": "code",
   "execution_count": 45,
   "metadata": {
    "ExecuteTime": {
     "end_time": "2019-06-16T09:31:16.688204Z",
     "start_time": "2019-06-16T09:31:16.535837Z"
    }
   },
   "outputs": [
    {
     "name": "stdout",
     "output_type": "stream",
     "text": [
      "43953\n",
      "['Go.', 'Go.', 'Hi.', 'Hi.', 'Run.']\n"
     ]
    }
   ],
   "source": [
    "questions=[]\n",
    "for r in array:\n",
    "    sents=str(r[0])\n",
    "    questions.append(sents)\n",
    "print(len(questions))\n",
    "print(questions[:5])"
   ]
  },
  {
   "cell_type": "code",
   "execution_count": 46,
   "metadata": {
    "ExecuteTime": {
     "end_time": "2019-06-16T11:41:41.537065Z",
     "start_time": "2019-06-16T09:32:03.980909Z"
    }
   },
   "outputs": [
    {
     "name": "stdout",
     "output_type": "stream",
     "text": [
      "done\n"
     ]
    }
   ],
   "source": [
    "from bert_serving.client import BertClient\n",
    "import numpy as np\n",
    "\n",
    "# 默认的选项: \"max_seq_len=25\"\n",
    "# bc = BertClient(check_length=False) # disable the length-check, or, start a new server with a larger \"max_seq_len\"\n",
    "bc = BertClient()\n",
    "doc_vecs = bc.encode(questions)\n",
    "np.save('./data/bert/jpn-eng.npy', doc_vecs) # save\n",
    "print('done')"
   ]
  },
  {
   "cell_type": "code",
   "execution_count": 52,
   "metadata": {
    "ExecuteTime": {
     "end_time": "2019-06-16T12:38:22.752279Z",
     "start_time": "2019-06-16T12:38:19.411581Z"
    },
    "scrolled": true
   },
   "outputs": [
    {
     "name": "stdout",
     "output_type": "stream",
     "text": [
      "top 5 questions similar to \"\u001b[32mI told you to leave.\u001b[0m\"\n",
      "> \u001b[36m9.1\u001b[0m\t\u001b[33mI told you not to tell anyone.\u001b[0m\n",
      "> \u001b[36m9.0\u001b[0m\t\u001b[33mI thought I told you to go to bed.\u001b[0m\n",
      "> \u001b[36m8.9\u001b[0m\t\u001b[33mI thought I told you to stay in the car.\u001b[0m\n",
      "> \u001b[36m8.9\u001b[0m\t\u001b[33mI said stay back.\u001b[0m\n",
      "> \u001b[36m8.9\u001b[0m\t\u001b[33mI thought I told you to clean your room.\u001b[0m\n"
     ]
    }
   ],
   "source": [
    "doc_vecs=np.load('./data/bert/jpn-eng.npy') # load\n",
    "query=\"I told you to leave.\"\n",
    "get_similar(query)"
   ]
  },
  {
   "cell_type": "code",
   "execution_count": 60,
   "metadata": {
    "ExecuteTime": {
     "end_time": "2019-06-16T12:40:39.292836Z",
     "start_time": "2019-06-16T12:40:38.423486Z"
    }
   },
   "outputs": [
    {
     "name": "stdout",
     "output_type": "stream",
     "text": [
      "top 5 questions similar to \"\u001b[32mI want a book.\u001b[0m\"\n",
      "> \u001b[36m11.8\u001b[0m\t\u001b[33mI want a book.\u001b[0m\n",
      "> \u001b[36m11.1\u001b[0m\t\u001b[33mI want a computer.\u001b[0m\n",
      "> \u001b[36m11.1\u001b[0m\t\u001b[33mI want a guitar.\u001b[0m\n",
      "> \u001b[36m10.8\u001b[0m\t\u001b[33mI want a personal computer.\u001b[0m\n",
      "> \u001b[36m10.8\u001b[0m\t\u001b[33mI want something to read.\u001b[0m\n"
     ]
    }
   ],
   "source": [
    "query=\"I want a book.\"\n",
    "get_similar(query)"
   ]
  },
  {
   "cell_type": "code",
   "execution_count": 63,
   "metadata": {
    "ExecuteTime": {
     "end_time": "2019-06-16T13:37:43.144469Z",
     "start_time": "2019-06-16T13:37:43.033297Z"
    }
   },
   "outputs": [
    {
     "name": "stdout",
     "output_type": "stream",
     "text": [
      "{\n",
      "  \"client\": \"622011fc-2a47-4566-a19e-b691f660c1c7\",\n",
      "  \"num_process\": 3,\n",
      "  \"ventilator -> worker\": [\n",
      "    \"ipc:///var/folders/fv/7k1qk5v11dn33sdcngv2wbnm0000gn/T/tmpKwF5i1/socket\",\n",
      "    \"ipc:///var/folders/fv/7k1qk5v11dn33sdcngv2wbnm0000gn/T/tmpQ3zt4o/socket\",\n",
      "    \"ipc:///var/folders/fv/7k1qk5v11dn33sdcngv2wbnm0000gn/T/tmpD5ZyQI/socket\",\n",
      "    \"ipc:///var/folders/fv/7k1qk5v11dn33sdcngv2wbnm0000gn/T/tmpteIJ8y/socket\",\n",
      "    \"ipc:///var/folders/fv/7k1qk5v11dn33sdcngv2wbnm0000gn/T/tmpac7Bg9/socket\",\n",
      "    \"ipc:///var/folders/fv/7k1qk5v11dn33sdcngv2wbnm0000gn/T/tmpMQlvcG/socket\",\n",
      "    \"ipc:///var/folders/fv/7k1qk5v11dn33sdcngv2wbnm0000gn/T/tmp8QmPJM/socket\",\n",
      "    \"ipc:///var/folders/fv/7k1qk5v11dn33sdcngv2wbnm0000gn/T/tmpAtuwba/socket\"\n",
      "  ],\n",
      "  \"worker -> sink\": \"ipc:///var/folders/fv/7k1qk5v11dn33sdcngv2wbnm0000gn/T/tmpxVOUkN/socket\",\n",
      "  \"ventilator <-> sink\": \"ipc:///var/folders/fv/7k1qk5v11dn33sdcngv2wbnm0000gn/T/tmphH8qe9/socket\",\n",
      "  \"server_current_time\": \"2019-06-16 21:37:43.038621\",\n",
      "  \"statistic\": {\n",
      "    \"num_data_request\": 15,\n",
      "    \"num_total_seq\": 43971,\n",
      "    \"num_sys_request\": 5,\n",
      "    \"num_total_request\": 20,\n",
      "    \"num_total_client\": 2,\n",
      "    \"num_active_client\": 0,\n",
      "    \"avg_request_per_client\": 10.0,\n",
      "    \"min_request_per_client\": 3,\n",
      "    \"max_request_per_client\": 17,\n",
      "    \"num_min_request_per_client\": 1,\n",
      "    \"num_max_request_per_client\": 1,\n",
      "    \"avg_size_per_request\": 10989.75,\n",
      "    \"min_size_per_request\": 1,\n",
      "    \"max_size_per_request\": 43953,\n",
      "    \"num_min_size_per_request\": 1,\n",
      "    \"num_max_size_per_request\": 1,\n",
      "    \"avg_last_two_interval\": 641.1639172701999,\n",
      "    \"min_last_two_interval\": 3.810895652999534,\n",
      "    \"max_last_two_interval\": 7444.377083128,\n",
      "    \"num_min_last_two_interval\": 1,\n",
      "    \"num_max_last_two_interval\": 1,\n",
      "    \"avg_request_per_second\": 0.07070298401501826,\n",
      "    \"min_request_per_second\": 0.00013432957369481036,\n",
      "    \"max_request_per_second\": 0.2624055054388345,\n",
      "    \"num_min_request_per_second\": 1,\n",
      "    \"num_max_request_per_second\": 1\n",
      "  },\n",
      "  \"device_map\": [],\n",
      "  \"num_concurrent_socket\": 8,\n",
      "  \"ckpt_name\": \"bert_model.ckpt\",\n",
      "  \"config_name\": \"bert_config.json\",\n",
      "  \"cors\": \"*\",\n",
      "  \"cpu\": false,\n",
      "  \"do_lower_case\": true,\n",
      "  \"fixed_embed_length\": false,\n",
      "  \"fp16\": false,\n",
      "  \"gpu_memory_fraction\": 0.5,\n",
      "  \"graph_tmp_dir\": null,\n",
      "  \"http_max_connect\": 10,\n",
      "  \"http_port\": null,\n",
      "  \"mask_cls_sep\": false,\n",
      "  \"max_batch_size\": 256,\n",
      "  \"max_seq_len\": 50,\n",
      "  \"model_dir\": \"/pi/ai/bert/uncased_L-12_H-768_A-12/\",\n",
      "  \"num_worker\": 2,\n",
      "  \"pooling_layer\": [\n",
      "    -2\n",
      "  ],\n",
      "  \"pooling_strategy\": 2,\n",
      "  \"port\": 5555,\n",
      "  \"port_out\": 5556,\n",
      "  \"prefetch_size\": 10,\n",
      "  \"priority_batch_size\": 16,\n",
      "  \"show_tokens_to_client\": false,\n",
      "  \"tuned_model_dir\": null,\n",
      "  \"verbose\": false,\n",
      "  \"xla\": false,\n",
      "  \"tensorflow_version\": [\n",
      "    \"1\",\n",
      "    \"13\",\n",
      "    \"1\"\n",
      "  ],\n",
      "  \"python_version\": \"3.7.3 (default, Mar 27 2019, 16:54:48) \\n[Clang 4.0.1 (tags/RELEASE_401/final)]\",\n",
      "  \"server_version\": \"1.9.1\",\n",
      "  \"pyzmq_version\": \"18.0.1\",\n",
      "  \"zmq_version\": \"4.3.1\",\n",
      "  \"server_start_time\": \"2019-06-16 17:29:13.633487\"\n",
      "}\n"
     ]
    }
   ],
   "source": [
    "print(json.dumps(bc.server_status, indent=2, ensure_ascii=False))"
   ]
  },
  {
   "cell_type": "code",
   "execution_count": 65,
   "metadata": {
    "ExecuteTime": {
     "end_time": "2019-06-16T17:15:15.219473Z",
     "start_time": "2019-06-16T17:15:15.212796Z"
    }
   },
   "outputs": [
    {
     "name": "stdout",
     "output_type": "stream",
     "text": [
      "0\n",
      "1\n"
     ]
    }
   ],
   "source": [
    "loop_for=2\n",
    "for n in range(loop_for):\n",
    "    print(n)"
   ]
  },
  {
   "cell_type": "code",
   "execution_count": 71,
   "metadata": {
    "ExecuteTime": {
     "end_time": "2019-06-17T08:15:47.437475Z",
     "start_time": "2019-06-17T08:15:46.764188Z"
    }
   },
   "outputs": [
    {
     "data": {
      "text/plain": [
       "array([[ 0.13186465,  0.32404128, -0.82704467, ..., -0.3711961 ,\n",
       "        -0.3925013 , -0.31721827],\n",
       "       [ 0.24873514, -0.12334406, -0.38933834, ..., -0.44756237,\n",
       "        -0.5591354 , -0.11345179],\n",
       "       [ 0.28627363, -0.18580145, -0.30906814, ..., -0.29593706,\n",
       "        -0.39310458,  0.07640193]], dtype=float32)"
      ]
     },
     "execution_count": 71,
     "metadata": {},
     "output_type": "execute_result"
    }
   ],
   "source": [
    "from bert_serving.client import BertClient\n",
    "# bc = BertClient(ip='192.168.1.105')\n",
    "# bc = BertClient(ip='pc')\n",
    "bc = BertClient(ip='localhost')\n",
    "bc.encode(['First do it', 'then do it right', 'then do it better'])"
   ]
  }
 ],
 "metadata": {
  "kernelspec": {
   "display_name": "Python 3",
   "language": "python",
   "name": "python3"
  },
  "language_info": {
   "codemirror_mode": {
    "name": "ipython",
    "version": 3
   },
   "file_extension": ".py",
   "mimetype": "text/x-python",
   "name": "python",
   "nbconvert_exporter": "python",
   "pygments_lexer": "ipython3",
   "version": "3.6.4"
  },
  "varInspector": {
   "cols": {
    "lenName": 16,
    "lenType": 16,
    "lenVar": 40
   },
   "kernels_config": {
    "python": {
     "delete_cmd_postfix": "",
     "delete_cmd_prefix": "del ",
     "library": "var_list.py",
     "varRefreshCmd": "print(var_dic_list())"
    },
    "r": {
     "delete_cmd_postfix": ") ",
     "delete_cmd_prefix": "rm(",
     "library": "var_list.r",
     "varRefreshCmd": "cat(var_dic_list()) "
    }
   },
   "types_to_exclude": [
    "module",
    "function",
    "builtin_function_or_method",
    "instance",
    "_Feature"
   ],
   "window_display": false
  }
 },
 "nbformat": 4,
 "nbformat_minor": 2
}
