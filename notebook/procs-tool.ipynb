{
 "cells": [
  {
   "cell_type": "code",
   "execution_count": 3,
   "metadata": {
    "ExecuteTime": {
     "end_time": "2020-01-16T04:01:17.629482Z",
     "start_time": "2020-01-16T04:01:17.573044Z"
    }
   },
   "outputs": [],
   "source": [
    "%load_ext autoreload\n",
    "%autoreload 2"
   ]
  },
  {
   "cell_type": "code",
   "execution_count": 28,
   "metadata": {
    "ExecuteTime": {
     "end_time": "2020-01-11T06:06:03.033912Z",
     "start_time": "2020-01-11T06:06:02.980532Z"
    }
   },
   "outputs": [],
   "source": [
    "from sagas import tool\n",
    "tool.init_logger()"
   ]
  },
  {
   "cell_type": "code",
   "execution_count": 29,
   "metadata": {
    "ExecuteTime": {
     "end_time": "2020-01-11T06:14:24.686351Z",
     "start_time": "2020-01-11T06:14:24.577175Z"
    }
   },
   "outputs": [
    {
     "name": "stdout",
     "output_type": "stream",
     "text": [
      "\u001b[31mhello\u001b[0m\n"
     ]
    }
   ],
   "source": [
    "tool.color_print('red', 'hello')"
   ]
  },
  {
   "cell_type": "code",
   "execution_count": 10,
   "metadata": {
    "ExecuteTime": {
     "end_time": "2020-01-11T03:37:05.876263Z",
     "start_time": "2020-01-11T03:37:05.847675Z"
    }
   },
   "outputs": [
    {
     "data": {
      "text/plain": [
       "b'?'"
      ]
     },
     "execution_count": 10,
     "metadata": {},
     "output_type": "execute_result"
    }
   ],
   "source": [
    "from unicodedata import normalize\n",
    "word='、？'\n",
    "word = normalize('NFKD', word).encode('ascii', 'ignore')\n",
    "word"
   ]
  },
  {
   "cell_type": "code",
   "execution_count": 12,
   "metadata": {
    "ExecuteTime": {
     "end_time": "2020-01-11T03:38:33.779430Z",
     "start_time": "2020-01-11T03:38:33.753778Z"
    }
   },
   "outputs": [
    {
     "data": {
      "text/plain": [
       "'?'"
      ]
     },
     "execution_count": 12,
     "metadata": {},
     "output_type": "execute_result"
    }
   ],
   "source": [
    "import unicodedata\n",
    "norm=lambda t: unicodedata.normalize('NFKC', t).encode('ascii', 'ignore').decode(\"utf-8\")\n",
    "norm('、？')"
   ]
  },
  {
   "cell_type": "code",
   "execution_count": 22,
   "metadata": {
    "ExecuteTime": {
     "end_time": "2020-01-11T05:44:41.010503Z",
     "start_time": "2020-01-11T05:44:40.963448Z"
    }
   },
   "outputs": [
    {
     "data": {
      "text/plain": [
       "[{'start': 2, 'end': 4, 'value': '中国', 'entity': 'LOC', 'confidence': None}]"
      ]
     },
     "execution_count": 22,
     "metadata": {},
     "output_type": "execute_result"
    }
   ],
   "source": [
    "import sagas.tool as sag\n",
    "import saai.tool as saa\n",
    "saa.ner_jieba('我是中国的学生')"
   ]
  },
  {
   "cell_type": "code",
   "execution_count": 25,
   "metadata": {
    "ExecuteTime": {
     "end_time": "2020-01-11T05:49:46.695348Z",
     "start_time": "2020-01-11T05:49:46.650617Z"
    }
   },
   "outputs": [
    {
     "data": {
      "text/html": [
       "<div class=\"tex2jax_ignore\" style=\"white-space: pre-wrap\">我是<span style=\"padding: 2px; border-radius: 4px; border: 1px solid #c8e6c9; background: #e8f5e9\">中国<span style=\"vertical-align: middle; margin-left: 2px; font-size: 0.7em; color: #66bb6a;\">LOC</span></span>的学生</div>"
      ],
      "text/plain": [
       "BoxMarkup('我是中国的学生', [Span(2, 4, 'LOC')])"
      ]
     },
     "metadata": {},
     "output_type": "display_data"
    }
   ],
   "source": [
    "saa.ner_jieba_vis('我是中国的学生')"
   ]
  },
  {
   "cell_type": "code",
   "execution_count": 26,
   "metadata": {
    "ExecuteTime": {
     "end_time": "2020-01-11T06:04:01.117255Z",
     "start_time": "2020-01-11T06:04:01.039192Z"
    }
   },
   "outputs": [
    {
     "data": {
      "text/plain": [
       "'/Users/xiaofeiwu/jcloud/assets/langs/workspace/rasa/stack/sagas/conf/sagas_conf.json'"
      ]
     },
     "execution_count": 26,
     "metadata": {},
     "output_type": "execute_result"
    }
   ],
   "source": [
    "from sagas.conf import resource_path\n",
    "resource_path('sagas_conf.json')"
   ]
  },
  {
   "cell_type": "code",
   "execution_count": 27,
   "metadata": {
    "ExecuteTime": {
     "end_time": "2020-01-11T06:05:19.972228Z",
     "start_time": "2020-01-11T06:05:19.934095Z"
    }
   },
   "outputs": [
    {
     "data": {
      "text/plain": [
       "'/Users/xiaofeiwu/jcloud/assets/langs/workspace/rasa/stack/sagas/conf/logger.yml'"
      ]
     },
     "execution_count": 27,
     "metadata": {},
     "output_type": "execute_result"
    }
   ],
   "source": [
    "resource_path('logger.yml')"
   ]
  },
  {
   "cell_type": "code",
   "execution_count": 32,
   "metadata": {
    "ExecuteTime": {
     "end_time": "2020-01-11T07:37:54.827067Z",
     "start_time": "2020-01-11T07:37:54.776202Z"
    }
   },
   "outputs": [
    {
     "data": {
      "text/plain": [
       "['mod_multilang.json']"
      ]
     },
     "execution_count": 32,
     "metadata": {},
     "output_type": "execute_result"
    }
   ],
   "source": [
    "from sagas.conf import resource_dir\n",
    "from fnmatch import fnmatch\n",
    "resource_dir(lambda f: fnmatch(f, 'mod_*.json'))"
   ]
  },
  {
   "cell_type": "code",
   "execution_count": 33,
   "metadata": {
    "ExecuteTime": {
     "end_time": "2020-01-11T07:40:30.174507Z",
     "start_time": "2020-01-11T07:40:30.131495Z"
    }
   },
   "outputs": [
    {
     "data": {
      "text/plain": [
       "True"
      ]
     },
     "execution_count": 33,
     "metadata": {},
     "output_type": "execute_result"
    }
   ],
   "source": [
    "import os\n",
    "os.path.exists('/tmp')"
   ]
  },
  {
   "cell_type": "code",
   "execution_count": 59,
   "metadata": {
    "ExecuteTime": {
     "end_time": "2020-01-11T10:22:49.089189Z",
     "start_time": "2020-01-11T10:22:48.854849Z"
    }
   },
   "outputs": [
    {
     "data": {
      "text/plain": [
       "('verb_domains',\n",
       " [{'index': '2',\n",
       "   'text': 'stimme',\n",
       "   'lemma': 'stimmen',\n",
       "   'upos': 'VERB',\n",
       "   'xpos': 'VVFIN',\n",
       "   'feats': 'Mood=Ind|Number=Sing|Person=1|Tense=Pres|VerbForm=Fin',\n",
       "   'governor': 0,\n",
       "   'dependency_relation': 'root',\n",
       "   'obl': [{'index': '6',\n",
       "     'text': 'Punkt',\n",
       "     'lemma': 'Punkt',\n",
       "     'upos': 'NOUN',\n",
       "     'xpos': 'NN',\n",
       "     'feats': 'Case=Dat|Gender=Masc|Number=Sing',\n",
       "     'governor': 2,\n",
       "     'dependency_relation': 'obl',\n",
       "     'case': [{'index': '4',\n",
       "       'text': 'in',\n",
       "       'lemma': 'in',\n",
       "       'upos': 'ADP',\n",
       "       'xpos': 'APPR',\n",
       "       'feats': '_',\n",
       "       'governor': 6,\n",
       "       'dependency_relation': 'case'}],\n",
       "     'det': [{'index': '5',\n",
       "       'text': 'diesem',\n",
       "       'lemma': 'dies',\n",
       "       'upos': 'PRON',\n",
       "       'xpos': 'PDAT',\n",
       "       'feats': 'Case=Dat|Gender=Masc|Number=Sing|PronType=Dem',\n",
       "       'governor': 6,\n",
       "       'dependency_relation': 'det'}]}],\n",
       "   'compound:prt': [{'index': '8',\n",
       "     'text': 'zu',\n",
       "     'lemma': 'zu',\n",
       "     'upos': 'ADP',\n",
       "     'xpos': 'PTKVZ',\n",
       "     'feats': '_',\n",
       "     'governor': 2,\n",
       "     'dependency_relation': 'compound:prt'}],\n",
       "   'advmod': [{'index': '7',\n",
       "     'text': 'nicht',\n",
       "     'lemma': 'nicht',\n",
       "     'upos': 'PART',\n",
       "     'xpos': 'PTKNEG',\n",
       "     'feats': 'Polarity=Neg',\n",
       "     'governor': 2,\n",
       "     'dependency_relation': 'advmod'}],\n",
       "   'obj': [{'index': '3',\n",
       "     'text': 'dir',\n",
       "     'lemma': 'dur',\n",
       "     'upos': 'PRON',\n",
       "     'xpos': 'PRF',\n",
       "     'feats': 'Case=Acc|Number=Sing|Person=1|PronType=Prs|Reflex=Yes',\n",
       "     'governor': 2,\n",
       "     'dependency_relation': 'obj'}],\n",
       "   'punct': [{'index': '9',\n",
       "     'text': '.',\n",
       "     'lemma': '.',\n",
       "     'upos': 'PUNCT',\n",
       "     'xpos': '$.',\n",
       "     'feats': '_',\n",
       "     'governor': 2,\n",
       "     'dependency_relation': 'punct'}],\n",
       "   'nsubj': [{'index': '1',\n",
       "     'text': 'Ich',\n",
       "     'lemma': 'ich',\n",
       "     'upos': 'PRON',\n",
       "     'xpos': 'PPER',\n",
       "     'feats': 'Case=Nom|Number=Sing|Person=1|PronType=Prs',\n",
       "     'governor': 2,\n",
       "     'dependency_relation': 'nsubj'}]}])"
      ]
     },
     "execution_count": 59,
     "metadata": {},
     "output_type": "execute_result"
    }
   ],
   "source": [
    "from sagas.nlu.ruleset_procs import cached_chunks, get_main_domains\n",
    "get_main_domains('Ich stimme dir in diesem Punkt nicht zu.', 'de', 'corenlp')"
   ]
  },
  {
   "cell_type": "code",
   "execution_count": 79,
   "metadata": {
    "ExecuteTime": {
     "end_time": "2020-01-11T11:11:02.736803Z",
     "start_time": "2020-01-11T11:11:02.674209Z"
    }
   },
   "outputs": [
    {
     "data": {
      "text/plain": [
       "('predicts',\n",
       " [{'type': 'predicate',\n",
       "   'lemma': '便利だ',\n",
       "   'index': 2,\n",
       "   'phonetic': 'べんりだ',\n",
       "   'word': '便利じゃない。',\n",
       "   'rel': 'D',\n",
       "   'governor': 0,\n",
       "   'domains': [['ガ', 1, 'パソコンは', 'パソコン', ['パソコン'], ['c_noun', 'x_n']]],\n",
       "   'stems': []}])"
      ]
     },
     "execution_count": 79,
     "metadata": {},
     "output_type": "execute_result"
    }
   ],
   "source": [
    "from sagas.nlu.ruleset_procs import cached_chunks, get_main_domains\n",
    "get_main_domains('彼のパソコンは便利じゃない。', 'ja', 'knp')"
   ]
  },
  {
   "cell_type": "code",
   "execution_count": 76,
   "metadata": {
    "ExecuteTime": {
     "end_time": "2020-01-11T10:52:49.785573Z",
     "start_time": "2020-01-11T10:52:49.728902Z"
    }
   },
   "outputs": [
    {
     "name": "stdout",
     "output_type": "stream",
     "text": [
      "verb_domains stimme stimmen ['rel', 'lemma', 'word', 'stems', 'lang', 'sents']\n",
      "[('nsubj', '1', 'Ich', 'ich', ['Ich'], ['c_pron', 'x_pper']),\n",
      " ('obj', '3', 'dir', 'dur', ['dir'], ['c_pron', 'x_prf']),\n",
      " ('obl', '6', 'Punkt', 'Punkt', ['in', 'diesem', 'Punkt'], ['c_noun', 'x_nn']),\n",
      " ('advmod', '7', 'nicht', 'nicht', ['nicht'], ['c_part', 'x_ptkneg']),\n",
      " ('compound:prt', '8', 'zu', 'zu', ['zu'], ['c_adp', 'x_ptkvz']),\n",
      " ('punct', '9', '.', '.', ['.'], ['c_punct', 'x_$.'])]\n",
      "\u001b[36m✖ (_none_) verb with nsubj is ['c_pron', 'c_noun']: True, obj is kind_of(print_media/artifact,n): False\u001b[0m\n"
     ]
    }
   ],
   "source": [
    "from sagas.conf.conf import cf\n",
    "from sagas.tracker_jupyter import enable_jupyter_tracker\n",
    "from sagas.nlu.rules_header import *\n",
    "# from sagas.nlu.inspectors import InspectorFixture\n",
    "from sagas.nlu.patterns import print_result\n",
    "from sagas.nlu.uni_remote import dep_parse\n",
    "from sagas.nlu.corenlp_parser import get_chunks\n",
    "from sagas.nlu.rules_meta import build_meta\n",
    "\n",
    "from pprint import pprint\n",
    "\n",
    "enable_jupyter_tracker()\n",
    "cf.enable_opt('print_not_matched')\n",
    "\n",
    "def dynamic_rule(data, rule_str, name='_none_', engine=None):\n",
    "    # ft=InspectorFixture()\n",
    "    # domains, meta=ft.request_domains(data, engine=engine)\n",
    "    if engine is None:\n",
    "        engine=cf.engine(data['lang'])\n",
    "    pipelines=['predicts']\n",
    "    doc_jsonify, resp = dep_parse(data['sents'], data['lang'], engine, pipelines)\n",
    "    if doc_jsonify is not None:\n",
    "        if len(resp['predicts'])>0:\n",
    "            domains_set=resp['predicts']\n",
    "        else:\n",
    "            domains_set=get_chunks(doc_jsonify)\n",
    "        \n",
    "        for r in domains_set:\n",
    "            domains = r['domains']            \n",
    "            meta = build_meta(r, data)\n",
    "            print(r['type'], meta['word'], meta['lemma'], list(meta.keys()))\n",
    "            pprint(domains)\n",
    "            agency = ['c_pron', 'c_noun']\n",
    "            rs=eval(f\"[Patterns(domains, meta, 5, name='{name}').{rule_str}]\")\n",
    "            print_result(rs)\n",
    "\n",
    "data = {'lang': 'de', \"sents\": 'Ich stimme dir in diesem Punkt nicht zu.'}\n",
    "dynamic_rule(data, \"\"\"verb(nsubj=agency, obj=kindof('print_media/artifact', 'n'))\"\"\")"
   ]
  },
  {
   "cell_type": "code",
   "execution_count": 65,
   "metadata": {
    "ExecuteTime": {
     "end_time": "2020-01-11T10:34:12.909534Z",
     "start_time": "2020-01-11T10:34:10.073963Z"
    }
   },
   "outputs": [
    {
     "name": "stdout",
     "output_type": "stream",
     "text": [
      "[('nsubj', '1', 'They', 'they', ['They'], ['c_pron', 'x_prp']),\n",
      " ('obj',\n",
      "  '4',\n",
      "  'newspapers',\n",
      "  'newspaper',\n",
      "  ['these', 'newspapers'],\n",
      "  ['c_noun', 'x_nns']),\n",
      " ('punct', '5', '.', '.', ['.'], ['c_punct', 'x_.'])]\n",
      "\u001b[31m✔ (_none_) verb with nsubj is ['c_pron', 'c_noun']: True, obj is kind_of(print_media/artifact,n): True\u001b[0m\n",
      "\u001b[32m.. results 1\u001b[0m\n",
      "\u001b[33m{'kind_of/default/obj'}\u001b[0m\n"
     ]
    },
    {
     "data": {
      "text/plain": [
       "{'kind_of/default/...': {'category': 'print_media/artifact', 'pos': 'n'}}"
      ]
     },
     "metadata": {},
     "output_type": "display_data"
    }
   ],
   "source": [
    "data = {'lang': 'en', \"sents\": 'They read these newspapers.'}\n",
    "dynamic_rule(data, \"\"\"verb(nsubj=agency, obj=kindof('print_media/artifact', 'n'))\"\"\")"
   ]
  },
  {
   "cell_type": "code",
   "execution_count": 77,
   "metadata": {
    "ExecuteTime": {
     "end_time": "2020-01-11T10:52:56.609398Z",
     "start_time": "2020-01-11T10:52:56.556791Z"
    }
   },
   "outputs": [
    {
     "name": "stdout",
     "output_type": "stream",
     "text": [
      "aux_domains am be ['pos', 'head', 'lemma', 'word', 'stems', 'lang', 'sents']\n",
      "[('nsubj', '1', 'I', 'I', ['I'], ['c_pron', 'x_prp']),\n",
      " ('cop', '2', 'am', 'be', ['am'], ['c_aux', 'x_vbp']),\n",
      " ('det', '3', 'a', 'a', ['a'], ['c_det', 'x_dt']),\n",
      " ('punct', '5', '.', '.', ['.'], ['c_punct', 'x_.'])]\n",
      "\u001b[36m✖ (_none_) verb with nsubj is ['c_pron', 'c_noun']: True, obj is kind_of(print_media/artifact,n): False\u001b[0m\n"
     ]
    }
   ],
   "source": [
    "data = {'lang': 'en', \"sents\": 'I am a student.'}\n",
    "dynamic_rule(data, \"\"\"verb(nsubj=agency, obj=kindof('print_media/artifact', 'n'))\"\"\")"
   ]
  },
  {
   "cell_type": "code",
   "execution_count": 68,
   "metadata": {
    "ExecuteTime": {
     "end_time": "2020-01-11T10:35:13.659561Z",
     "start_time": "2020-01-11T10:35:09.085939Z"
    }
   },
   "outputs": [
    {
     "name": "stdout",
     "output_type": "stream",
     "text": [
      "[]\n",
      "\u001b[36m✖ (_none_) verb with pos is behave_of(cheap,a): False, ガ is kind_of(present,n): False\u001b[0m\n",
      "[['ガ', 1, 'お土産は', '土産', ['御', '土産'], ['c_x', 'x_p']],\n",
      " ['修飾', 2, 'きれいで', 'きれいで', ['綺麗だ'], ['c_adj', 'x_j']]]\n",
      "\u001b[31m✔ (_none_) verb with pos is behave_of(cheap,a): True, ガ is kind_of(present,n): True\u001b[0m\n",
      "\u001b[32m.. results 2\u001b[0m\n",
      "\u001b[33m{'behave_of/default/predicate', 'kind_of/default/ガ'}\u001b[0m\n"
     ]
    },
    {
     "data": {
      "text/plain": [
       "{'behave_of/default/...': {'category': 'cheap', 'pos': 'a'},\n",
       " 'kind_of/default/...': {'category': 'present', 'pos': 'n'}}"
      ]
     },
     "metadata": {},
     "output_type": "display_data"
    }
   ],
   "source": [
    "data = {'lang': 'ja', \"sents\": 'このお土産はきれいで安いです。'}\n",
    "# data = {'lang': 'ja', \"sents\": 'このお土産は安いです。'}\n",
    "dynamic_rule(data, \"\"\"verb(behaveof('cheap', 'a'), ガ=kindof('present', 'n'))\"\"\", \n",
    "             engine='knp')"
   ]
  },
  {
   "cell_type": "code",
   "execution_count": 69,
   "metadata": {
    "ExecuteTime": {
     "end_time": "2020-01-11T10:36:53.715773Z",
     "start_time": "2020-01-11T10:36:53.156072Z"
    }
   },
   "outputs": [
    {
     "name": "stdout",
     "output_type": "stream",
     "text": [
      "[['ガ', 1, 'パソコンは', 'パソコン', ['パソコン'], ['c_noun', 'x_n']]]\n",
      "\u001b[36m✖ (_none_) subj with pos is ('adj',): False, ガ is kind_of(artifact,n): True\u001b[0m\n"
     ]
    }
   ],
   "source": [
    "data = {'lang': 'ja', \"sents\": '彼のパソコンは便利じゃない。'}\n",
    "dynamic_rule(data, \"\"\"subj('adj',ガ=kindof('artifact', 'n'))\"\"\", \n",
    "             engine='knp')"
   ]
  },
  {
   "cell_type": "code",
   "execution_count": 2,
   "metadata": {
    "ExecuteTime": {
     "end_time": "2020-01-15T05:07:13.699204Z",
     "start_time": "2020-01-15T05:07:13.690700Z"
    }
   },
   "outputs": [
    {
     "data": {
      "text/plain": [
       "[42]"
      ]
     },
     "execution_count": 2,
     "metadata": {},
     "output_type": "execute_result"
    }
   ],
   "source": [
    "eval(compile('[42]', '<string>', 'eval')) "
   ]
  }
 ],
 "metadata": {
  "kernelspec": {
   "display_name": "Python 3",
   "language": "python",
   "name": "python3"
  },
  "language_info": {
   "codemirror_mode": {
    "name": "ipython",
    "version": 3
   },
   "file_extension": ".py",
   "mimetype": "text/x-python",
   "name": "python",
   "nbconvert_exporter": "python",
   "pygments_lexer": "ipython3",
   "version": "3.6.9"
  },
  "varInspector": {
   "cols": {
    "lenName": 16,
    "lenType": 16,
    "lenVar": 40
   },
   "kernels_config": {
    "python": {
     "delete_cmd_postfix": "",
     "delete_cmd_prefix": "del ",
     "library": "var_list.py",
     "varRefreshCmd": "print(var_dic_list())"
    },
    "r": {
     "delete_cmd_postfix": ") ",
     "delete_cmd_prefix": "rm(",
     "library": "var_list.r",
     "varRefreshCmd": "cat(var_dic_list()) "
    }
   },
   "types_to_exclude": [
    "module",
    "function",
    "builtin_function_or_method",
    "instance",
    "_Feature"
   ],
   "window_display": false
  }
 },
 "nbformat": 4,
 "nbformat_minor": 2
}
