{
 "cells": [
  {
   "cell_type": "code",
   "execution_count": 1,
   "metadata": {
    "ExecuteTime": {
     "end_time": "2020-01-11T02:45:16.873784Z",
     "start_time": "2020-01-11T02:45:16.840210Z"
    }
   },
   "outputs": [],
   "source": [
    "%load_ext autoreload\n",
    "%autoreload 2"
   ]
  },
  {
   "cell_type": "code",
   "execution_count": 28,
   "metadata": {
    "ExecuteTime": {
     "end_time": "2020-01-11T06:06:03.033912Z",
     "start_time": "2020-01-11T06:06:02.980532Z"
    }
   },
   "outputs": [],
   "source": [
    "from sagas import tool\n",
    "tool.init_logger()"
   ]
  },
  {
   "cell_type": "code",
   "execution_count": 20,
   "metadata": {
    "ExecuteTime": {
     "end_time": "2020-01-11T05:38:51.565362Z",
     "start_time": "2020-01-11T05:38:51.435691Z"
    }
   },
   "outputs": [
    {
     "name": "stdout",
     "output_type": "stream",
     "text": [
      "\u001b[31mhello\u001b[0m\n"
     ]
    }
   ],
   "source": [
    "tool.cprint('red', 'hello')"
   ]
  },
  {
   "cell_type": "code",
   "execution_count": 10,
   "metadata": {
    "ExecuteTime": {
     "end_time": "2020-01-11T03:37:05.876263Z",
     "start_time": "2020-01-11T03:37:05.847675Z"
    }
   },
   "outputs": [
    {
     "data": {
      "text/plain": [
       "b'?'"
      ]
     },
     "execution_count": 10,
     "metadata": {},
     "output_type": "execute_result"
    }
   ],
   "source": [
    "from unicodedata import normalize\n",
    "word='、？'\n",
    "word = normalize('NFKD', word).encode('ascii', 'ignore')\n",
    "word"
   ]
  },
  {
   "cell_type": "code",
   "execution_count": 12,
   "metadata": {
    "ExecuteTime": {
     "end_time": "2020-01-11T03:38:33.779430Z",
     "start_time": "2020-01-11T03:38:33.753778Z"
    }
   },
   "outputs": [
    {
     "data": {
      "text/plain": [
       "'?'"
      ]
     },
     "execution_count": 12,
     "metadata": {},
     "output_type": "execute_result"
    }
   ],
   "source": [
    "import unicodedata\n",
    "norm=lambda t: unicodedata.normalize('NFKC', t).encode('ascii', 'ignore').decode(\"utf-8\")\n",
    "norm('、？')"
   ]
  },
  {
   "cell_type": "code",
   "execution_count": 22,
   "metadata": {
    "ExecuteTime": {
     "end_time": "2020-01-11T05:44:41.010503Z",
     "start_time": "2020-01-11T05:44:40.963448Z"
    }
   },
   "outputs": [
    {
     "data": {
      "text/plain": [
       "[{'start': 2, 'end': 4, 'value': '中国', 'entity': 'LOC', 'confidence': None}]"
      ]
     },
     "execution_count": 22,
     "metadata": {},
     "output_type": "execute_result"
    }
   ],
   "source": [
    "import sagas.tool as sag\n",
    "import saai.tool as saa\n",
    "saa.ner_jieba('我是中国的学生')"
   ]
  },
  {
   "cell_type": "code",
   "execution_count": 25,
   "metadata": {
    "ExecuteTime": {
     "end_time": "2020-01-11T05:49:46.695348Z",
     "start_time": "2020-01-11T05:49:46.650617Z"
    }
   },
   "outputs": [
    {
     "data": {
      "text/html": [
       "<div class=\"tex2jax_ignore\" style=\"white-space: pre-wrap\">我是<span style=\"padding: 2px; border-radius: 4px; border: 1px solid #c8e6c9; background: #e8f5e9\">中国<span style=\"vertical-align: middle; margin-left: 2px; font-size: 0.7em; color: #66bb6a;\">LOC</span></span>的学生</div>"
      ],
      "text/plain": [
       "BoxMarkup('我是中国的学生', [Span(2, 4, 'LOC')])"
      ]
     },
     "metadata": {},
     "output_type": "display_data"
    }
   ],
   "source": [
    "saa.ner_jieba_vis('我是中国的学生')"
   ]
  },
  {
   "cell_type": "code",
   "execution_count": 26,
   "metadata": {
    "ExecuteTime": {
     "end_time": "2020-01-11T06:04:01.117255Z",
     "start_time": "2020-01-11T06:04:01.039192Z"
    }
   },
   "outputs": [
    {
     "data": {
      "text/plain": [
       "'/Users/xiaofeiwu/jcloud/assets/langs/workspace/rasa/stack/sagas/conf/sagas_conf.json'"
      ]
     },
     "execution_count": 26,
     "metadata": {},
     "output_type": "execute_result"
    }
   ],
   "source": [
    "from sagas.conf import resource_path\n",
    "resource_path('sagas_conf.json')"
   ]
  },
  {
   "cell_type": "code",
   "execution_count": 27,
   "metadata": {
    "ExecuteTime": {
     "end_time": "2020-01-11T06:05:19.972228Z",
     "start_time": "2020-01-11T06:05:19.934095Z"
    }
   },
   "outputs": [
    {
     "data": {
      "text/plain": [
       "'/Users/xiaofeiwu/jcloud/assets/langs/workspace/rasa/stack/sagas/conf/logger.yml'"
      ]
     },
     "execution_count": 27,
     "metadata": {},
     "output_type": "execute_result"
    }
   ],
   "source": [
    "resource_path('logger.yml')"
   ]
  }
 ],
 "metadata": {
  "kernelspec": {
   "display_name": "Python 3",
   "language": "python",
   "name": "python3"
  },
  "language_info": {
   "codemirror_mode": {
    "name": "ipython",
    "version": 3
   },
   "file_extension": ".py",
   "mimetype": "text/x-python",
   "name": "python",
   "nbconvert_exporter": "python",
   "pygments_lexer": "ipython3",
   "version": "3.6.9"
  },
  "varInspector": {
   "cols": {
    "lenName": 16,
    "lenType": 16,
    "lenVar": 40
   },
   "kernels_config": {
    "python": {
     "delete_cmd_postfix": "",
     "delete_cmd_prefix": "del ",
     "library": "var_list.py",
     "varRefreshCmd": "print(var_dic_list())"
    },
    "r": {
     "delete_cmd_postfix": ") ",
     "delete_cmd_prefix": "rm(",
     "library": "var_list.r",
     "varRefreshCmd": "cat(var_dic_list()) "
    }
   },
   "types_to_exclude": [
    "module",
    "function",
    "builtin_function_or_method",
    "instance",
    "_Feature"
   ],
   "window_display": false
  }
 },
 "nbformat": 4,
 "nbformat_minor": 2
}
