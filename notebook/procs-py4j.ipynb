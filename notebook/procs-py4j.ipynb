{
 "cells": [
  {
   "cell_type": "code",
   "execution_count": 1,
   "metadata": {
    "ExecuteTime": {
     "end_time": "2019-04-12T19:16:57.087986Z",
     "start_time": "2019-04-12T19:16:56.952762Z"
    },
    "scrolled": true
   },
   "outputs": [
    {
     "name": "stdout",
     "output_type": "stream",
     "text": [
      "9 9\n"
     ]
    }
   ],
   "source": [
    "from py4j.java_gateway import JavaGateway\n",
    "gateway = JavaGateway()                   # connect to the JVM\n",
    "random = gateway.jvm.java.util.Random()   # create a java.util.Random instance\n",
    "number1 = random.nextInt(10)              # call the Random.nextInt method\n",
    "number2 = random.nextInt(10)\n",
    "print(number1, number2)"
   ]
  },
  {
   "cell_type": "code",
   "execution_count": 3,
   "metadata": {
    "ExecuteTime": {
     "end_time": "2019-04-08T19:24:24.030716Z",
     "start_time": "2019-04-08T19:24:23.995757Z"
    }
   },
   "outputs": [
    {
     "data": {
      "text/plain": [
       "'Second item'"
      ]
     },
     "execution_count": 3,
     "metadata": {},
     "output_type": "execute_result"
    }
   ],
   "source": [
    "stack = gateway.entry_point.getStack()\n",
    ">>> stack.push(\"First %s\" % ('item'))\n",
    ">>> stack.push(\"Second item\")\n",
    ">>> stack.pop()"
   ]
  },
  {
   "cell_type": "code",
   "execution_count": 8,
   "metadata": {
    "ExecuteTime": {
     "end_time": "2019-01-20T13:37:11.431250Z",
     "start_time": "2019-01-20T13:37:11.422376Z"
    }
   },
   "outputs": [
    {
     "name": "stdout",
     "output_type": "stream",
     "text": [
      "First item\n",
      "First item\n"
     ]
    }
   ],
   "source": [
    "print(stack.pop())\n",
    "print(stack.pop())"
   ]
  },
  {
   "cell_type": "code",
   "execution_count": 6,
   "metadata": {
    "ExecuteTime": {
     "end_time": "2019-01-01T08:25:20.753940Z",
     "start_time": "2019-01-01T08:25:20.734148Z"
    }
   },
   "outputs": [
    {
     "ename": "Py4JJavaError",
     "evalue": "An error occurred while calling o1.pop.\n: java.lang.IndexOutOfBoundsException: Index: 0, Size: 0\n\tat java.util.LinkedList.checkElementIndex(LinkedList.java:555)\n\tat java.util.LinkedList.remove(LinkedList.java:525)\n\tat com.samlet.bridge.Stack.pop(Stack.java:14)\n\tat sun.reflect.NativeMethodAccessorImpl.invoke0(Native Method)\n\tat sun.reflect.NativeMethodAccessorImpl.invoke(NativeMethodAccessorImpl.java:62)\n\tat sun.reflect.DelegatingMethodAccessorImpl.invoke(DelegatingMethodAccessorImpl.java:43)\n\tat java.lang.reflect.Method.invoke(Method.java:498)\n\tat py4j.reflection.MethodInvoker.invoke(MethodInvoker.java:244)\n\tat py4j.reflection.ReflectionEngine.invoke(ReflectionEngine.java:357)\n\tat py4j.Gateway.invoke(Gateway.java:282)\n\tat py4j.commands.AbstractCommand.invokeMethod(AbstractCommand.java:132)\n\tat py4j.commands.CallCommand.execute(CallCommand.java:79)\n\tat py4j.GatewayConnection.run(GatewayConnection.java:238)\n\tat java.lang.Thread.run(Thread.java:745)\n",
     "output_type": "error",
     "traceback": [
      "\u001b[0;31m---------------------------------------------------------------------------\u001b[0m",
      "\u001b[0;31mPy4JJavaError\u001b[0m                             Traceback (most recent call last)",
      "\u001b[0;32m<ipython-input-6-7b721186bb76>\u001b[0m in \u001b[0;36m<module>\u001b[0;34m()\u001b[0m\n\u001b[0;32m----> 1\u001b[0;31m \u001b[0mprint\u001b[0m\u001b[0;34m(\u001b[0m\u001b[0mstack\u001b[0m\u001b[0;34m.\u001b[0m\u001b[0mpop\u001b[0m\u001b[0;34m(\u001b[0m\u001b[0;34m)\u001b[0m\u001b[0;34m)\u001b[0m\u001b[0;34m\u001b[0m\u001b[0m\n\u001b[0m",
      "\u001b[0;32m~/miniconda3/envs/bigdata/lib/python3.6/site-packages/py4j/java_gateway.py\u001b[0m in \u001b[0;36m__call__\u001b[0;34m(self, *args)\u001b[0m\n\u001b[1;32m   1284\u001b[0m         \u001b[0manswer\u001b[0m \u001b[0;34m=\u001b[0m \u001b[0mself\u001b[0m\u001b[0;34m.\u001b[0m\u001b[0mgateway_client\u001b[0m\u001b[0;34m.\u001b[0m\u001b[0msend_command\u001b[0m\u001b[0;34m(\u001b[0m\u001b[0mcommand\u001b[0m\u001b[0;34m)\u001b[0m\u001b[0;34m\u001b[0m\u001b[0m\n\u001b[1;32m   1285\u001b[0m         return_value = get_return_value(\n\u001b[0;32m-> 1286\u001b[0;31m             answer, self.gateway_client, self.target_id, self.name)\n\u001b[0m\u001b[1;32m   1287\u001b[0m \u001b[0;34m\u001b[0m\u001b[0m\n\u001b[1;32m   1288\u001b[0m         \u001b[0;32mfor\u001b[0m \u001b[0mtemp_arg\u001b[0m \u001b[0;32min\u001b[0m \u001b[0mtemp_args\u001b[0m\u001b[0;34m:\u001b[0m\u001b[0;34m\u001b[0m\u001b[0m\n",
      "\u001b[0;32m~/miniconda3/envs/bigdata/lib/python3.6/site-packages/py4j/protocol.py\u001b[0m in \u001b[0;36mget_return_value\u001b[0;34m(answer, gateway_client, target_id, name)\u001b[0m\n\u001b[1;32m    326\u001b[0m                 raise Py4JJavaError(\n\u001b[1;32m    327\u001b[0m                     \u001b[0;34m\"An error occurred while calling {0}{1}{2}.\\n\"\u001b[0m\u001b[0;34m.\u001b[0m\u001b[0;34m\u001b[0m\u001b[0m\n\u001b[0;32m--> 328\u001b[0;31m                     format(target_id, \".\", name), value)\n\u001b[0m\u001b[1;32m    329\u001b[0m             \u001b[0;32melse\u001b[0m\u001b[0;34m:\u001b[0m\u001b[0;34m\u001b[0m\u001b[0m\n\u001b[1;32m    330\u001b[0m                 raise Py4JError(\n",
      "\u001b[0;31mPy4JJavaError\u001b[0m: An error occurred while calling o1.pop.\n: java.lang.IndexOutOfBoundsException: Index: 0, Size: 0\n\tat java.util.LinkedList.checkElementIndex(LinkedList.java:555)\n\tat java.util.LinkedList.remove(LinkedList.java:525)\n\tat com.samlet.bridge.Stack.pop(Stack.java:14)\n\tat sun.reflect.NativeMethodAccessorImpl.invoke0(Native Method)\n\tat sun.reflect.NativeMethodAccessorImpl.invoke(NativeMethodAccessorImpl.java:62)\n\tat sun.reflect.DelegatingMethodAccessorImpl.invoke(DelegatingMethodAccessorImpl.java:43)\n\tat java.lang.reflect.Method.invoke(Method.java:498)\n\tat py4j.reflection.MethodInvoker.invoke(MethodInvoker.java:244)\n\tat py4j.reflection.ReflectionEngine.invoke(ReflectionEngine.java:357)\n\tat py4j.Gateway.invoke(Gateway.java:282)\n\tat py4j.commands.AbstractCommand.invokeMethod(AbstractCommand.java:132)\n\tat py4j.commands.CallCommand.execute(CallCommand.java:79)\n\tat py4j.GatewayConnection.run(GatewayConnection.java:238)\n\tat java.lang.Thread.run(Thread.java:745)\n"
     ]
    }
   ],
   "source": [
    "print(stack.pop())"
   ]
  },
  {
   "cell_type": "code",
   "execution_count": 7,
   "metadata": {
    "ExecuteTime": {
     "end_time": "2019-01-01T08:32:42.911130Z",
     "start_time": "2019-01-01T08:32:42.898360Z"
    }
   },
   "outputs": [
    {
     "data": {
      "text/plain": [
       "1"
      ]
     },
     "execution_count": 7,
     "metadata": {},
     "output_type": "execute_result"
    }
   ],
   "source": [
    ">>> stack.push('First item')\n",
    ">>> internal_list = stack.getInternalList()\n",
    ">>> len(internal_list)"
   ]
  },
  {
   "cell_type": "code",
   "execution_count": 8,
   "metadata": {
    "ExecuteTime": {
     "end_time": "2019-01-01T08:33:08.125161Z",
     "start_time": "2019-01-01T08:33:08.115258Z"
    }
   },
   "outputs": [
    {
     "data": {
      "text/plain": [
       "['First item', 'Second item']"
      ]
     },
     "execution_count": 8,
     "metadata": {},
     "output_type": "execute_result"
    }
   ],
   "source": [
    ">>> internal_list.append('Second item')\n",
    ">>> stack.getInternalList()"
   ]
  },
  {
   "cell_type": "code",
   "execution_count": 9,
   "metadata": {
    "ExecuteTime": {
     "end_time": "2019-01-01T08:33:34.961318Z",
     "start_time": "2019-01-01T08:33:34.946639Z"
    }
   },
   "outputs": [
    {
     "name": "stdout",
     "output_type": "stream",
     "text": [
      "Help on class Stack in package com.samlet.bridge:\n",
      "\n",
      "Stack {\n",
      "|  \n",
      "|  Methods defined here:\n",
      "|  \n",
      "|  getInternalList() : List\n",
      "|  \n",
      "|  pop() : String\n",
      "|  \n",
      "|  push(String) : void\n",
      "|  \n",
      "|  pushAll(List) : void\n",
      "|  \n",
      "|  ------------------------------------------------------------\n",
      "|  Fields defined here:\n",
      "|  \n",
      "|  ------------------------------------------------------------\n",
      "|  Internal classes defined here:\n",
      "|  \n",
      "}\n"
     ]
    }
   ],
   "source": [
    ">>> gateway.help(stack)"
   ]
  },
  {
   "cell_type": "code",
   "execution_count": 11,
   "metadata": {
    "ExecuteTime": {
     "end_time": "2019-01-01T08:34:11.673168Z",
     "start_time": "2019-01-01T08:34:11.653865Z"
    }
   },
   "outputs": [
    {
     "data": {
      "text/plain": [
       "[120, 214]"
      ]
     },
     "execution_count": 11,
     "metadata": {},
     "output_type": "execute_result"
    }
   ],
   "source": [
    "# Finally, you do not need an entry point to create and access objects. You can use the jvm member to call constructors and static members:\n",
    ">>> java_list = gateway.jvm.java.util.ArrayList()\n",
    ">>> java_list.append(214)\n",
    ">>> java_list.append(120)\n",
    ">>> gateway.jvm.java.util.Collections.sort(java_list)\n",
    ">>> java_list"
   ]
  },
  {
   "cell_type": "code",
   "execution_count": 20,
   "metadata": {
    "ExecuteTime": {
     "end_time": "2019-01-20T14:10:21.253742Z",
     "start_time": "2019-01-20T14:10:21.225708Z"
    }
   },
   "outputs": [
    {
     "name": "stdout",
     "output_type": "stream",
     "text": [
      "org.apache.ofbiz.entity.GenericDelegator@bfb98c5\n",
      "org.apache.ofbiz.service.GenericDispatcherFactory$GenericDispatcher@15eceb08\n",
      "default\n",
      "46\n"
     ]
    }
   ],
   "source": [
    "from py4j.java_gateway import JavaGateway\n",
    "gateway = JavaGateway()                   # connect to the JVM\n",
    "\n",
    "delegator = gateway.entry_point.getDelegator()\n",
    "print(delegator)\n",
    "disp = gateway.entry_point.getDispatcher()\n",
    "print(disp)\n",
    "print(delegator.getDelegatorName())\n",
    "\n",
    "result=delegator.findAll(\"Person\", False)\n",
    "print(len(result))"
   ]
  },
  {
   "cell_type": "markdown",
   "metadata": {},
   "source": [
    "## Importing packages with JVM Views\n",
    "Py4J allows you to import packages so that you don’t have to type the fully qualified name of the classes you want to instantiate. The java.lang package is always automatically imported."
   ]
  },
  {
   "cell_type": "code",
   "execution_count": 13,
   "metadata": {
    "ExecuteTime": {
     "end_time": "2019-01-01T12:11:22.921790Z",
     "start_time": "2019-01-01T12:11:22.898820Z"
    }
   },
   "outputs": [
    {
     "name": "stdout",
     "output_type": "stream",
     "text": [
      "a\n"
     ]
    },
    {
     "data": {
      "text/plain": [
       "'a'"
      ]
     },
     "execution_count": 13,
     "metadata": {},
     "output_type": "execute_result"
    }
   ],
   "source": [
    ">>> from py4j.java_gateway import JavaGateway\n",
    ">>> gateway = JavaGateway()\n",
    ">>> from py4j.java_gateway import java_import\n",
    ">>> java_import(gateway.jvm,'java.util.*')\n",
    ">>> jList = gateway.jvm.ArrayList()\n",
    ">>> jMap = gateway.jvm.HashMap()\n",
    ">>> print(gateway.jvm.java.lang.String(\"a\"))\n",
    ">>> gateway.jvm.String(\"a\")"
   ]
  },
  {
   "cell_type": "markdown",
   "metadata": {},
   "source": [
    "As opposed to Java where import statements do not cross compilation units (java source files), the jvm instance can be shared across multiple Python modules: in other words, import statements are global.\n",
    "\n",
    "The recommended way to use import statements is to use one JVMView instance per Python module. Here is an example on how to create and use a JVMView:"
   ]
  },
  {
   "cell_type": "code",
   "execution_count": 14,
   "metadata": {
    "ExecuteTime": {
     "end_time": "2019-01-01T12:12:22.428646Z",
     "start_time": "2019-01-01T12:12:22.419708Z"
    }
   },
   "outputs": [],
   "source": [
    ">>> module1_view = gateway.new_jvm_view()\n",
    ">>> module2_view = gateway.new_jvm_view()\n",
    ">>> java_import(module1_view,'java.util.ArrayList')\n",
    ">>> jList2 = module1_view.ArrayList()"
   ]
  },
  {
   "cell_type": "code",
   "execution_count": 16,
   "metadata": {
    "ExecuteTime": {
     "end_time": "2019-01-01T12:12:58.720118Z",
     "start_time": "2019-01-01T12:12:58.715757Z"
    }
   },
   "outputs": [],
   "source": [
    "# >>> jList3 = module2_view.ArrayList()\n",
    "# 'JavaPackage' object is not callable"
   ]
  },
  {
   "cell_type": "code",
   "execution_count": 18,
   "metadata": {
    "ExecuteTime": {
     "end_time": "2019-01-01T12:15:22.450703Z",
     "start_time": "2019-01-01T12:15:22.432198Z"
    }
   },
   "outputs": [
    {
     "name": "stdout",
     "output_type": "stream",
     "text": [
      "1\n",
      "hello\n"
     ]
    }
   ],
   "source": [
    ">>> l = gateway.jvm.java.util.ArrayList()\n",
    ">>> l.append(1) # calling Python interface\n",
    ">>> l.add('hello') # calling Java interface\n",
    ">>> for elem in l:\n",
    "...     print(elem)"
   ]
  },
  {
   "cell_type": "code",
   "execution_count": 19,
   "metadata": {
    "ExecuteTime": {
     "end_time": "2019-01-01T12:15:45.033508Z",
     "start_time": "2019-01-01T12:15:45.013056Z"
    }
   },
   "outputs": [
    {
     "data": {
      "text/plain": [
       "{'a': 0, 'b': 1}"
      ]
     },
     "execution_count": 19,
     "metadata": {},
     "output_type": "execute_result"
    }
   ],
   "source": [
    ">>> m = gateway.jvm.java.util.HashMap()\n",
    ">>> m[\"a\"] = 0\n",
    ">>> m.put(\"b\",1)\n",
    ">>> m"
   ]
  },
  {
   "cell_type": "code",
   "execution_count": 20,
   "metadata": {
    "ExecuteTime": {
     "end_time": "2019-01-01T12:15:55.400594Z",
     "start_time": "2019-01-01T12:15:55.394145Z"
    }
   },
   "outputs": [
    {
     "data": {
      "text/plain": [
       "True"
      ]
     },
     "execution_count": 20,
     "metadata": {},
     "output_type": "execute_result"
    }
   ],
   "source": [
    ">>> u\"b\" in m"
   ]
  },
  {
   "cell_type": "code",
   "execution_count": 21,
   "metadata": {
    "ExecuteTime": {
     "end_time": "2019-01-01T12:16:04.942130Z",
     "start_time": "2019-01-01T12:16:04.932313Z"
    }
   },
   "outputs": [
    {
     "data": {
      "text/plain": [
       "{'b': 1}"
      ]
     },
     "execution_count": 21,
     "metadata": {},
     "output_type": "execute_result"
    }
   ],
   "source": [
    ">>> del(m[\"a\"])\n",
    ">>> m"
   ]
  },
  {
   "cell_type": "code",
   "execution_count": 22,
   "metadata": {
    "ExecuteTime": {
     "end_time": "2019-01-01T12:16:21.921911Z",
     "start_time": "2019-01-01T12:16:21.911748Z"
    }
   },
   "outputs": [
    {
     "name": "stdout",
     "output_type": "stream",
     "text": [
      "b:1\n",
      "c:2\n"
     ]
    }
   ],
   "source": [
    ">>> m[\"c\"] = 2\n",
    ">>> for key in m:\n",
    "...     print(\"%s:%i\" % (key,m[key]))"
   ]
  }
 ],
 "metadata": {
  "kernelspec": {
   "display_name": "Python 3",
   "language": "python",
   "name": "python3"
  },
  "language_info": {
   "codemirror_mode": {
    "name": "ipython",
    "version": 3
   },
   "file_extension": ".py",
   "mimetype": "text/x-python",
   "name": "python",
   "nbconvert_exporter": "python",
   "pygments_lexer": "ipython3",
   "version": "3.6.4"
  },
  "varInspector": {
   "cols": {
    "lenName": 16,
    "lenType": 16,
    "lenVar": 40
   },
   "kernels_config": {
    "python": {
     "delete_cmd_postfix": "",
     "delete_cmd_prefix": "del ",
     "library": "var_list.py",
     "varRefreshCmd": "print(var_dic_list())"
    },
    "r": {
     "delete_cmd_postfix": ") ",
     "delete_cmd_prefix": "rm(",
     "library": "var_list.r",
     "varRefreshCmd": "cat(var_dic_list()) "
    }
   },
   "types_to_exclude": [
    "module",
    "function",
    "builtin_function_or_method",
    "instance",
    "_Feature"
   ],
   "window_display": false
  }
 },
 "nbformat": 4,
 "nbformat_minor": 2
}
