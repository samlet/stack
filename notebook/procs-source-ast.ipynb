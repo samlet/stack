{
 "cells": [
  {
   "cell_type": "code",
   "execution_count": 1,
   "metadata": {
    "ExecuteTime": {
     "end_time": "2020-06-27T08:42:37.566863Z",
     "start_time": "2020-06-27T08:42:36.970492Z"
    }
   },
   "outputs": [],
   "source": [
    "import pandas\n",
    "import inspect"
   ]
  },
  {
   "cell_type": "code",
   "execution_count": 2,
   "metadata": {
    "ExecuteTime": {
     "end_time": "2020-06-27T08:42:37.753419Z",
     "start_time": "2020-06-27T08:42:37.569546Z"
    }
   },
   "outputs": [
    {
     "name": "stdout",
     "output_type": "stream",
     "text": [
      "<class 'str'>\n"
     ]
    }
   ],
   "source": [
    "source_DF = inspect.getsource(pandas.DataFrame)\n",
    "print(type(source_DF))"
   ]
  },
  {
   "cell_type": "code",
   "execution_count": 3,
   "metadata": {
    "ExecuteTime": {
     "end_time": "2020-06-27T08:42:37.765851Z",
     "start_time": "2020-06-27T08:42:37.757034Z"
    }
   },
   "outputs": [
    {
     "name": "stdout",
     "output_type": "stream",
     "text": [
      "class DataFrame(NDFrame):\n",
      "    \"\"\"\n",
      "    Two-dimensional, size-mutable, potentially heterogeneous tabular data.\n",
      "\n",
      "    Data structure also contains labeled axes (rows and columns).\n",
      "    Arithmetic operation\n"
     ]
    }
   ],
   "source": [
    "print(source_DF[:200])"
   ]
  },
  {
   "cell_type": "code",
   "execution_count": 4,
   "metadata": {
    "ExecuteTime": {
     "end_time": "2020-06-27T08:42:38.650546Z",
     "start_time": "2020-06-27T08:42:37.769945Z"
    }
   },
   "outputs": [
    {
     "name": "stdout",
     "output_type": "stream",
     "text": [
      "class AddOperation(faust.Record):\n",
      "    x: int\n",
      "    y: int\n",
      "\n"
     ]
    }
   ],
   "source": [
    "from sagas.tests.brokers import faust_task\n",
    "# faust_task.add\n",
    "src=inspect.getsource(faust_task.AddOperation)\n",
    "print(src)"
   ]
  },
  {
   "cell_type": "code",
   "execution_count": 5,
   "metadata": {
    "ExecuteTime": {
     "end_time": "2020-06-27T08:42:38.670437Z",
     "start_time": "2020-06-27T08:42:38.658973Z"
    }
   },
   "outputs": [],
   "source": [
    "from types import FunctionType\n",
    "\n",
    "def extract_wrapped(decorated):\n",
    "    closure = (c.cell_contents for c in decorated.__closure__)\n",
    "    return next((c for c in closure if isinstance(c, FunctionType)), None)"
   ]
  },
  {
   "cell_type": "code",
   "execution_count": 6,
   "metadata": {
    "ExecuteTime": {
     "end_time": "2020-06-27T08:42:38.725113Z",
     "start_time": "2020-06-27T08:42:38.679220Z"
    }
   },
   "outputs": [
    {
     "data": {
      "text/plain": [
       "<Agent: init sagas.tests.brokers.faust_[.]add>"
      ]
     },
     "execution_count": 6,
     "metadata": {},
     "output_type": "execute_result"
    }
   ],
   "source": [
    "inspect.unwrap(faust_task.add)"
   ]
  },
  {
   "cell_type": "code",
   "execution_count": 7,
   "metadata": {
    "ExecuteTime": {
     "end_time": "2020-06-27T08:42:38.774637Z",
     "start_time": "2020-06-27T08:42:38.746091Z"
    }
   },
   "outputs": [
    {
     "data": {
      "text/plain": [
       "<Signature (*, index: int = None, active_partitions: Set[faust.types.tuples.TP] = None, stream: faust.types.streams.StreamT = None, channel: faust.types.channels.ChannelT = None) -> faust.types.agents.ActorT[typing.Union[typing.AsyncIterable, typing.Awaitable]]>"
      ]
     },
     "execution_count": 7,
     "metadata": {},
     "output_type": "execute_result"
    }
   ],
   "source": [
    "sig = inspect.signature(faust_task.add, follow_wrapped=True)\n",
    "sig"
   ]
  },
  {
   "cell_type": "code",
   "execution_count": 8,
   "metadata": {
    "ExecuteTime": {
     "end_time": "2020-06-27T08:42:38.901719Z",
     "start_time": "2020-06-27T08:42:38.823953Z"
    }
   },
   "outputs": [
    {
     "data": {
      "text/plain": [
       "['class Agent(AgentT, Service):\\n',\n",
       " '    \"\"\"Agent.\\n',\n",
       " '\\n',\n",
       " '    This is the type of object returned by the ``@app.agent`` decorator.\\n',\n",
       " '    \"\"\"\\n',\n",
       " '\\n',\n",
       " '    # supervisor is None until the agent is started so we cast to simplify.\\n',\n",
       " '    supervisor: SupervisorStrategyT = cast(SupervisorStrategyT, None)\\n',\n",
       " '\\n',\n",
       " '    # channel is loaded lazily on .channel property access\\n']"
      ]
     },
     "execution_count": 8,
     "metadata": {},
     "output_type": "execute_result"
    }
   ],
   "source": [
    "import dill\n",
    "src=dill.source.getsourcelines(faust_task.add)\n",
    "src[0][:10]"
   ]
  },
  {
   "cell_type": "code",
   "execution_count": 9,
   "metadata": {
    "ExecuteTime": {
     "end_time": "2020-06-27T08:42:38.921526Z",
     "start_time": "2020-06-27T08:42:38.906313Z"
    }
   },
   "outputs": [
    {
     "data": {
      "text/plain": [
       "'import faust\\n\\napp = faust.App(\\'myapp\\', broker=\\'kafka://\\')\\n\\nclass AddOperation(faust.Record):\\n    x: int\\n    y: int\\n\\n@app.agent()\\nasync def add(stream):\\n    \"\"\"\\n    Add function\\n    :param stream:\\n    :return:\\n    \"\"\"\\n    async for op in stream:\\n        yield op.x + op.y\\n\\n@app.command()\\nasync def produce():\\n    await add.send(value=AddOperation(2, 2))\\n\\nif __name__ == \\'__main__\\':\\n    # $ faust -A sagas.tests.brokers.faust_task worker -l info\\n    # $ faust -A sagas.tests.brokers.faust_task produce\\n    app.main()\\n'"
      ]
     },
     "execution_count": 9,
     "metadata": {},
     "output_type": "execute_result"
    }
   ],
   "source": [
    "import ast, gast\n",
    "code = open('/Users/xiaofeiwu/jcloud/assets/langs/workspace/rasa/stack/sagas/tests/brokers/faust_task.py').read()\n",
    "code"
   ]
  },
  {
   "cell_type": "code",
   "execution_count": 10,
   "metadata": {
    "ExecuteTime": {
     "end_time": "2020-06-27T08:42:38.953218Z",
     "start_time": "2020-06-27T08:42:38.924941Z"
    }
   },
   "outputs": [
    {
     "data": {
      "text/plain": [
       "\"Module(body=[Import(names=[alias(name='faust', asname=None)]), Assign(targets=[Name(id='app', ctx=Store(), annotation=None)], value=Call(func=Attribute(value=Name(id='faust', ctx=Load(), annotation=None), attr='App', ctx=Load()), args=[Str(s='myapp')], keywords=[keyword(arg='broker', value=Str(s='kafka://'))])), ClassDef(name='AddOperation', bases=[Attribute(value=Name(id='faust', ctx=Load(), annotation=None), attr='Record', ctx=Load())], keywords=[], body=[AnnAssign(target=Name(id='x', ctx=Store(), annotation=None), annotation=Name(id='int', ctx=Load(), annotation=None), value=None, simple=1), AnnAssign(target=Name(id='y', ctx=Store(), annotation=None), annotation=Name(id='int', ctx=Load(), annotation=None), value=None, simple=1)], decorator_list=[]), AsyncFunctionDef(name='add', args=arguments(args=[Name(id='stream', ctx=Param(), annotation=None)], vararg=None, kwonlyargs=[], kw_defaults=[], kwarg=None, defaults=[]), body=[Expr(value=Str(s='\\\\n    Add function\\\\n    :param stream:\\\\n    :return:\\\\n    ')), AsyncFor(target=Name(id='op', ctx=Store(), annotation=None), iter=Name(id='stream', ctx=Load(), annotation=None), body=[Expr(value=Yield(value=BinOp(left=Attribute(value=Name(id='op', ctx=Load(), annotation=None), attr='x', ctx=Load()), op=Add(), right=Attribute(value=Name(id='op', ctx=Load(), annotation=None), attr='y', ctx=Load()))))], orelse=[])], decorator_list=[Call(func=Attribute(value=Name(id='app', ctx=Load(), annotation=None), attr='agent', ctx=Load()), args=[], keywords=[])], returns=None), AsyncFunctionDef(name='produce', args=arguments(args=[], vararg=None, kwonlyargs=[], kw_defaults=[], kwarg=None, defaults=[]), body=[Expr(value=Await(value=Call(func=Attribute(value=Name(id='add', ctx=Load(), annotation=None), attr='send', ctx=Load()), args=[], keywords=[keyword(arg='value', value=Call(func=Name(id='AddOperation', ctx=Load(), annotation=None), args=[Num(n=2), Num(n=2)], keywords=[]))])))], decorator_list=[Call(func=Attribute(value=Name(id='app', ctx=Load(), annotation=None), attr='command', ctx=Load()), args=[], keywords=[])], returns=None), If(test=Compare(left=Name(id='__name__', ctx=Load(), annotation=None), ops=[Eq()], comparators=[Str(s='__main__')]), body=[Expr(value=Call(func=Attribute(value=Name(id='app', ctx=Load(), annotation=None), attr='main', ctx=Load()), args=[], keywords=[]))], orelse=[])])\""
      ]
     },
     "execution_count": 10,
     "metadata": {},
     "output_type": "execute_result"
    }
   ],
   "source": [
    "tree = ast.parse(code)\n",
    "gtree = gast.ast_to_gast(tree)\n",
    "dump = gast.dump(gtree)\n",
    "dump"
   ]
  },
  {
   "cell_type": "code",
   "execution_count": 11,
   "metadata": {
    "ExecuteTime": {
     "end_time": "2020-06-27T08:42:38.974175Z",
     "start_time": "2020-06-27T08:42:38.956377Z"
    }
   },
   "outputs": [
    {
     "data": {
      "text/plain": [
       "{'body'}"
      ]
     },
     "execution_count": 11,
     "metadata": {},
     "output_type": "execute_result"
    }
   ],
   "source": [
    "{name for name, _ in gast.iter_fields(tree)}"
   ]
  },
  {
   "cell_type": "code",
   "execution_count": 12,
   "metadata": {
    "ExecuteTime": {
     "end_time": "2020-06-27T08:42:39.014948Z",
     "start_time": "2020-06-27T08:42:39.005925Z"
    }
   },
   "outputs": [
    {
     "data": {
      "text/plain": [
       "(<_ast.Import at 0x7feb030ee750>, <_ast.Assign at 0x7feb030ee7d0>)"
      ]
     },
     "execution_count": 12,
     "metadata": {},
     "output_type": "execute_result"
    }
   ],
   "source": [
    "tree.body[0], tree.body[1]"
   ]
  },
  {
   "cell_type": "code",
   "execution_count": 13,
   "metadata": {
    "ExecuteTime": {
     "end_time": "2020-06-27T08:42:39.053338Z",
     "start_time": "2020-06-27T08:42:39.033053Z"
    }
   },
   "outputs": [
    {
     "data": {
      "text/plain": [
       "<_ast.AsyncFunctionDef at 0x7feb030eec10>"
      ]
     },
     "execution_count": 13,
     "metadata": {},
     "output_type": "execute_result"
    }
   ],
   "source": [
    "tree.body[3]"
   ]
  },
  {
   "cell_type": "code",
   "execution_count": 14,
   "metadata": {
    "ExecuteTime": {
     "end_time": "2020-06-27T08:42:39.094567Z",
     "start_time": "2020-06-27T08:42:39.056170Z"
    }
   },
   "outputs": [
    {
     "data": {
      "text/plain": [
       "\"AsyncFunctionDef(name='add', args=arguments(args=[Name(id='stream', ctx=Param(), annotation=None)], vararg=None, kwonlyargs=[], kw_defaults=[], kwarg=None, defaults=[]), body=[Expr(value=Str(s='\\\\n    Add function\\\\n    :param stream:\\\\n    :return:\\\\n    ')), AsyncFor(target=Name(id='op', ctx=Store(), annotation=None), iter=Name(id='stream', ctx=Load(), annotation=None), body=[Expr(value=Yield(value=BinOp(left=Attribute(value=Name(id='op', ctx=Load(), annotation=None), attr='x', ctx=Load()), op=Add(), right=Attribute(value=Name(id='op', ctx=Load(), annotation=None), attr='y', ctx=Load()))))], orelse=[])], decorator_list=[Call(func=Attribute(value=Name(id='app', ctx=Load(), annotation=None), attr='agent', ctx=Load()), args=[], keywords=[])], returns=None)\""
      ]
     },
     "execution_count": 14,
     "metadata": {},
     "output_type": "execute_result"
    }
   ],
   "source": [
    "func=gtree.body[3]\n",
    "# docs = gast.get_docstring(func)\n",
    "# docs\n",
    "gast.dump(func)"
   ]
  },
  {
   "cell_type": "code",
   "execution_count": 15,
   "metadata": {
    "ExecuteTime": {
     "end_time": "2020-06-27T08:42:39.139621Z",
     "start_time": "2020-06-27T08:42:39.105252Z"
    }
   },
   "outputs": [
    {
     "name": "stdout",
     "output_type": "stream",
     "text": [
      "add\n",
      "\n",
      "\n",
      "@app.agent()\n",
      "async def add(stream):\n",
      "    '\\n    Add function\\n    :param stream:\\n    :return:\\n    '\n",
      "    async for op in stream:\n",
      "        (yield (op.x + op.y))\n",
      "\n",
      "produce\n",
      "\n",
      "\n",
      "@app.command()\n",
      "async def produce():\n",
      "    (await add.send(value=AddOperation(2, 2)))\n",
      "\n"
     ]
    }
   ],
   "source": [
    "import astunparse\n",
    "class Trans(gast.NodeTransformer):\n",
    "    def visit_AsyncFunctionDef(self, node):\n",
    "        print(node.name)\n",
    "        print(astunparse.unparse(node))\n",
    "        return node.name\n",
    "\n",
    "result = Trans().visit(gtree)\n",
    "# gast.dump(result)"
   ]
  },
  {
   "cell_type": "code",
   "execution_count": 16,
   "metadata": {
    "ExecuteTime": {
     "end_time": "2020-06-27T08:42:39.165209Z",
     "start_time": "2020-06-27T08:42:39.142512Z"
    }
   },
   "outputs": [
    {
     "data": {
      "text/plain": [
       "<_ast.ClassDef at 0x7feb030ee9d0>"
      ]
     },
     "execution_count": 16,
     "metadata": {},
     "output_type": "execute_result"
    }
   ],
   "source": [
    "tree.body[2]"
   ]
  },
  {
   "cell_type": "code",
   "execution_count": 17,
   "metadata": {
    "ExecuteTime": {
     "end_time": "2020-06-27T08:42:39.174845Z",
     "start_time": "2020-06-27T08:42:39.171760Z"
    }
   },
   "outputs": [],
   "source": [
    "# compile(gast.gast_to_ast(tree), '<test>', 'exec')"
   ]
  },
  {
   "cell_type": "code",
   "execution_count": 18,
   "metadata": {
    "ExecuteTime": {
     "end_time": "2020-06-27T08:42:39.196152Z",
     "start_time": "2020-06-27T08:42:39.180790Z"
    }
   },
   "outputs": [
    {
     "data": {
      "text/plain": [
       "<code object <module> at 0x7feb03143c90, file \"<test>\", line 1>"
      ]
     },
     "execution_count": 18,
     "metadata": {},
     "output_type": "execute_result"
    }
   ],
   "source": [
    "code = 'with open(\"any\"): pass'\n",
    "tree_c = gast.parse(code)\n",
    "compile(gast.gast_to_ast(tree_c), '<test>', 'exec')"
   ]
  },
  {
   "cell_type": "code",
   "execution_count": 19,
   "metadata": {
    "ExecuteTime": {
     "end_time": "2020-06-27T08:42:39.229798Z",
     "start_time": "2020-06-27T08:42:39.216420Z"
    }
   },
   "outputs": [
    {
     "data": {
      "text/plain": [
       "\"\\nwith open('any'):\\n    pass\\n\""
      ]
     },
     "execution_count": 19,
     "metadata": {},
     "output_type": "execute_result"
    }
   ],
   "source": [
    "import astunparse\n",
    "astunparse.unparse(gast.gast_to_ast(tree_c))"
   ]
  },
  {
   "cell_type": "code",
   "execution_count": 20,
   "metadata": {
    "ExecuteTime": {
     "end_time": "2020-06-27T08:42:39.262169Z",
     "start_time": "2020-06-27T08:42:39.247629Z"
    }
   },
   "outputs": [
    {
     "name": "stdout",
     "output_type": "stream",
     "text": [
      "\n",
      "\n",
      "class AddOperation(faust.Record):\n",
      "    x: int\n",
      "    y: int\n",
      "\n"
     ]
    }
   ],
   "source": [
    "print(astunparse.unparse(tree.body[2]))"
   ]
  },
  {
   "cell_type": "code",
   "execution_count": 21,
   "metadata": {
    "ExecuteTime": {
     "end_time": "2020-06-27T08:42:39.280207Z",
     "start_time": "2020-06-27T08:42:39.267182Z"
    }
   },
   "outputs": [
    {
     "data": {
      "text/plain": [
       "(<_ast.AsyncFunctionDef at 0x7feb030eec10>, <_ast.Expr at 0x7feb030eecd0>)"
      ]
     },
     "execution_count": 21,
     "metadata": {},
     "output_type": "execute_result"
    }
   ],
   "source": [
    "tree.body[3], tree.body[3].body[0]"
   ]
  },
  {
   "cell_type": "code",
   "execution_count": 22,
   "metadata": {
    "ExecuteTime": {
     "end_time": "2020-06-27T08:42:39.302666Z",
     "start_time": "2020-06-27T08:42:39.288448Z"
    }
   },
   "outputs": [
    {
     "data": {
      "text/plain": [
       "(\"Assign(targets=[Name(id='app', ctx=Store())], value=Call(func=Attribute(value=Name(id='faust', ctx=Load()), attr='App', ctx=Load()), args=[Str(s='myapp')], keywords=[keyword(arg='broker', value=Str(s='kafka://'))]))\",\n",
       " _ast.Name)"
      ]
     },
     "execution_count": 22,
     "metadata": {},
     "output_type": "execute_result"
    }
   ],
   "source": [
    "gast.dump(tree.body[1]), type(tree.body[1].targets[0])"
   ]
  },
  {
   "cell_type": "code",
   "execution_count": 23,
   "metadata": {
    "ExecuteTime": {
     "end_time": "2020-06-27T08:42:39.340757Z",
     "start_time": "2020-06-27T08:42:39.326072Z"
    }
   },
   "outputs": [
    {
     "data": {
      "text/plain": [
       "_ast.AsyncFunctionDef"
      ]
     },
     "execution_count": 23,
     "metadata": {},
     "output_type": "execute_result"
    }
   ],
   "source": [
    "type(tree.body[3])"
   ]
  },
  {
   "cell_type": "code",
   "execution_count": 24,
   "metadata": {
    "ExecuteTime": {
     "end_time": "2020-06-27T08:42:39.379458Z",
     "start_time": "2020-06-27T08:42:39.361836Z"
    }
   },
   "outputs": [
    {
     "data": {
      "text/plain": [
       "({'args', 'body', 'decorator_list', 'name', 'returns'}, 'add')"
      ]
     },
     "execution_count": 24,
     "metadata": {},
     "output_type": "execute_result"
    }
   ],
   "source": [
    "node=tree.body[3]\n",
    "{name for name, _ in gast.iter_fields(node)}, node.name"
   ]
  },
  {
   "cell_type": "code",
   "execution_count": 25,
   "metadata": {
    "ExecuteTime": {
     "end_time": "2020-06-27T08:42:39.394741Z",
     "start_time": "2020-06-27T08:42:39.384541Z"
    }
   },
   "outputs": [
    {
     "data": {
      "text/plain": [
       "('body',)"
      ]
     },
     "execution_count": 25,
     "metadata": {},
     "output_type": "execute_result"
    }
   ],
   "source": [
    "tree._fields"
   ]
  },
  {
   "cell_type": "code",
   "execution_count": 26,
   "metadata": {
    "ExecuteTime": {
     "end_time": "2020-06-27T08:42:39.419457Z",
     "start_time": "2020-06-27T08:42:39.405581Z"
    }
   },
   "outputs": [
    {
     "name": "stdout",
     "output_type": "stream",
     "text": [
      "{'names'}\n",
      "Import\n",
      "{'value', 'targets'}\n",
      "Assign\n",
      "{'keywords', 'decorator_list', 'bases', 'body', 'name'}\n",
      "AddOperation\n",
      "{'args', 'decorator_list', 'returns', 'body', 'name'}\n",
      "add\n",
      "{'args', 'decorator_list', 'returns', 'body', 'name'}\n",
      "produce\n",
      "{'orelse', 'body', 'test'}\n",
      "If\n"
     ]
    }
   ],
   "source": [
    "for node in tree.body:\n",
    "    print({name for name, _ in gast.iter_fields(node)})\n",
    "    if 'name' in node._fields:\n",
    "        print(node.name)\n",
    "    else:\n",
    "        print(type(node).__name__)\n",
    "    "
   ]
  },
  {
   "cell_type": "code",
   "execution_count": 27,
   "metadata": {
    "ExecuteTime": {
     "end_time": "2020-06-27T08:42:39.442562Z",
     "start_time": "2020-06-27T08:42:39.429472Z"
    }
   },
   "outputs": [
    {
     "data": {
      "text/plain": [
       "<_ast.Module at 0x7feb030ee650>"
      ]
     },
     "execution_count": 27,
     "metadata": {},
     "output_type": "execute_result"
    }
   ],
   "source": [
    "tree"
   ]
  },
  {
   "cell_type": "code",
   "execution_count": 28,
   "metadata": {
    "ExecuteTime": {
     "end_time": "2020-06-27T08:42:39.491116Z",
     "start_time": "2020-06-27T08:42:39.450647Z"
    }
   },
   "outputs": [
    {
     "name": "stdout",
     "output_type": "stream",
     "text": [
      "Module: _\n",
      "├── Import: _\n",
      "├── Assign: _\n",
      "├── ClassDef: AddOperation\n",
      "│   ├── AnnAssign: _\n",
      "│   └── AnnAssign: _\n",
      "├── AsyncFunctionDef: add\n",
      "│   ├── Expr: _\n",
      "│   └── AsyncFor: _\n",
      "│       └── Expr: _\n",
      "├── AsyncFunctionDef: produce\n",
      "│   └── Expr: _\n",
      "└── If: _\n",
      "    └── Expr: _\n"
     ]
    }
   ],
   "source": [
    "from anytree import NodeMixin\n",
    "from anytree import RenderTree\n",
    "class AstNode(NodeMixin, object):\n",
    "    def __init__(self, parent=None, ast_node=None):\n",
    "        self.name=ast_node.name if 'name' in ast_node._fields else '_'\n",
    "        self.parent = parent\n",
    "        self.ast_node=ast_node       \n",
    "        self.ast_type=type(ast_node).__name__\n",
    "        def as_children(body):\n",
    "            return [AstNode(parent=self, ast_node=n) for n in ast_node.body]\n",
    "        self.children = as_children(ast_node) if 'body' in ast_node._fields else []\n",
    "\n",
    "    def __repr__(self):\n",
    "        return f\"{self.name}\"\n",
    "\n",
    "root=AstNode(ast_node=tree)\n",
    "rnd_tree = RenderTree(root)\n",
    "for pre, fill, node in rnd_tree:\n",
    "    print(f\"{pre}{node.ast_type}: {node.name}\")"
   ]
  }
 ],
 "metadata": {
  "kernelspec": {
   "display_name": "Python 3",
   "language": "python",
   "name": "python3"
  },
  "language_info": {
   "codemirror_mode": {
    "name": "ipython",
    "version": 3
   },
   "file_extension": ".py",
   "mimetype": "text/x-python",
   "name": "python",
   "nbconvert_exporter": "python",
   "pygments_lexer": "ipython3",
   "version": "3.7.7"
  },
  "varInspector": {
   "cols": {
    "lenName": 16,
    "lenType": 16,
    "lenVar": 40
   },
   "kernels_config": {
    "python": {
     "delete_cmd_postfix": "",
     "delete_cmd_prefix": "del ",
     "library": "var_list.py",
     "varRefreshCmd": "print(var_dic_list())"
    },
    "r": {
     "delete_cmd_postfix": ") ",
     "delete_cmd_prefix": "rm(",
     "library": "var_list.r",
     "varRefreshCmd": "cat(var_dic_list()) "
    }
   },
   "types_to_exclude": [
    "module",
    "function",
    "builtin_function_or_method",
    "instance",
    "_Feature"
   ],
   "window_display": false
  }
 },
 "nbformat": 4,
 "nbformat_minor": 4
}
