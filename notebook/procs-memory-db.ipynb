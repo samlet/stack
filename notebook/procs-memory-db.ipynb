{
 "cells": [
  {
   "cell_type": "markdown",
   "metadata": {},
   "source": [
    "⊕ [sqlite3 — DB-API 2.0 interface for SQLite databases — Python 3.8.1 documentation](https://docs.python.org/3/library/sqlite3.html)"
   ]
  },
  {
   "cell_type": "code",
   "execution_count": 2,
   "metadata": {
    "ExecuteTime": {
     "end_time": "2020-01-03T02:34:51.623451Z",
     "start_time": "2020-01-03T02:34:51.612527Z"
    }
   },
   "outputs": [],
   "source": [
    "import sqlite3\n",
    "conn = sqlite3.connect(\":memory:\")\n",
    "c = conn.cursor()\n",
    "c.execute('''create table stocks\n",
    "(date text, trans text, symbol text,\n",
    " qty real, price real)''')\n",
    "c.execute(\"\"\"insert into stocks\n",
    "          values ('2006-01-05','BUY','RHAT',100,35.14)\"\"\")\n",
    "conn.commit()\n",
    "c.close()"
   ]
  },
  {
   "cell_type": "code",
   "execution_count": 3,
   "metadata": {
    "ExecuteTime": {
     "end_time": "2020-01-03T02:35:07.185705Z",
     "start_time": "2020-01-03T02:35:07.169934Z"
    }
   },
   "outputs": [
    {
     "data": {
      "text/plain": [
       "<sqlite3.Cursor at 0x103bd4810>"
      ]
     },
     "execution_count": 3,
     "metadata": {},
     "output_type": "execute_result"
    }
   ],
   "source": [
    ">>> conn.row_factory = sqlite3.Row\n",
    ">>> c = conn.cursor()\n",
    ">>> c.execute('select * from stocks')"
   ]
  },
  {
   "cell_type": "code",
   "execution_count": 4,
   "metadata": {
    "ExecuteTime": {
     "end_time": "2020-01-03T02:35:20.810556Z",
     "start_time": "2020-01-03T02:35:20.801997Z"
    }
   },
   "outputs": [
    {
     "data": {
      "text/plain": [
       "('2006-01-05', 'BUY', 'RHAT', 100.0, 35.14)"
      ]
     },
     "execution_count": 4,
     "metadata": {},
     "output_type": "execute_result"
    }
   ],
   "source": [
    ">>> r = c.fetchone()\n",
    ">>> type(r)\n",
    "# <class 'sqlite3.Row'>\n",
    ">>> tuple(r)"
   ]
  },
  {
   "cell_type": "code",
   "execution_count": 5,
   "metadata": {
    "ExecuteTime": {
     "end_time": "2020-01-03T02:35:54.414918Z",
     "start_time": "2020-01-03T02:35:54.406626Z"
    }
   },
   "outputs": [],
   "source": [
    "con = sqlite3.connect(\":memory:\")\n",
    "cur = con.cursor()\n",
    "cur.executescript(\"\"\"\n",
    "    create table person(\n",
    "        firstname,\n",
    "        lastname,\n",
    "        age\n",
    "    );\n",
    "\n",
    "    create table book(\n",
    "        title,\n",
    "        author,\n",
    "        published\n",
    "    );\n",
    "\n",
    "    insert into book(title, author, published)\n",
    "    values (\n",
    "        'Dirk Gently''s Holistic Detective Agency',\n",
    "        'Douglas Adams',\n",
    "        1987\n",
    "    );\n",
    "    \"\"\")\n",
    "con.close()"
   ]
  }
 ],
 "metadata": {
  "kernelspec": {
   "display_name": "Python 3",
   "language": "python",
   "name": "python3"
  },
  "language_info": {
   "codemirror_mode": {
    "name": "ipython",
    "version": 3
   },
   "file_extension": ".py",
   "mimetype": "text/x-python",
   "name": "python",
   "nbconvert_exporter": "python",
   "pygments_lexer": "ipython3",
   "version": "3.6.9"
  },
  "varInspector": {
   "cols": {
    "lenName": 16,
    "lenType": 16,
    "lenVar": 40
   },
   "kernels_config": {
    "python": {
     "delete_cmd_postfix": "",
     "delete_cmd_prefix": "del ",
     "library": "var_list.py",
     "varRefreshCmd": "print(var_dic_list())"
    },
    "r": {
     "delete_cmd_postfix": ") ",
     "delete_cmd_prefix": "rm(",
     "library": "var_list.r",
     "varRefreshCmd": "cat(var_dic_list()) "
    }
   },
   "types_to_exclude": [
    "module",
    "function",
    "builtin_function_or_method",
    "instance",
    "_Feature"
   ],
   "window_display": false
  }
 },
 "nbformat": 4,
 "nbformat_minor": 2
}
