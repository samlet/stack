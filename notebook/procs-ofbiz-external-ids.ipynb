{
 "cells": [
  {
   "cell_type": "code",
   "execution_count": 1,
   "metadata": {
    "ExecuteTime": {
     "end_time": "2019-04-19T19:45:45.926816Z",
     "start_time": "2019-04-19T19:45:44.361122Z"
    }
   },
   "outputs": [],
   "source": [
    "import os\n",
    "from whoosh.index import open_dir\n",
    "from whoosh.index import create_in\n",
    "from whoosh.fields import *\n",
    "\n",
    "from jieba.analyse import ChineseAnalyzer\n",
    "from whoosh.qparser import QueryParser\n",
    "from sagas.ofbiz.resources import ResourceDigester, read_resource\n",
    "\n",
    "analyzer = ChineseAnalyzer()\n",
    "schema = Schema(en=TEXT(stored=True),\n",
    "    fr=TEXT(stored=True),\n",
    "    key=ID(stored=True),\n",
    "    zh=TEXT(stored=True, analyzer=analyzer))"
   ]
  },
  {
   "cell_type": "code",
   "execution_count": 2,
   "metadata": {
    "ExecuteTime": {
     "end_time": "2019-04-19T20:02:17.486970Z",
     "start_time": "2019-04-19T20:02:17.473666Z"
    }
   },
   "outputs": [],
   "source": [
    "def index_resource(resource):\n",
    "    ## rewrite mode\n",
    "    out_dir='out/external_refs'\n",
    "    if not os.path.exists(out_dir):\n",
    "        os.mkdir(out_dir)\n",
    "    idx = create_in(out_dir, schema)\n",
    "    writer = idx.writer()\n",
    "\n",
    "    for key, prop in resource.properties.items():\n",
    "        writer.add_document(\n",
    "            key=key,\n",
    "            en=prop.values['en'],\n",
    "            zh=prop.values['zh'],\n",
    "            fr=prop.values['fr']\n",
    "        )\n",
    "\n",
    "    writer.commit()"
   ]
  },
  {
   "cell_type": "code",
   "execution_count": 2,
   "metadata": {
    "ExecuteTime": {
     "end_time": "2019-04-25T16:48:14.054945Z",
     "start_time": "2019-04-25T16:48:14.041545Z"
    }
   },
   "outputs": [
    {
     "name": "stdout",
     "output_type": "stream",
     "text": [
      "name: \"hello\"\n",
      "\n"
     ]
    }
   ],
   "source": [
    "import protobuf_utils as pu\n",
    "from simple_pb2 import MyObj, Foo\n",
    "obj=MyObj(name='hello')\n",
    "print(obj)\n",
    "pu.write_proto_to(obj, 'data/resources/tests_obj.data')"
   ]
  },
  {
   "cell_type": "code",
   "execution_count": 5,
   "metadata": {
    "ExecuteTime": {
     "end_time": "2019-04-25T20:27:00.004358Z",
     "start_time": "2019-04-25T20:26:59.909980Z"
    }
   },
   "outputs": [
    {
     "name": "stdout",
     "output_type": "stream",
     "text": [
      "+----------------------------+------------------------------------+\n",
      "| name                       | value                              |\n",
      "|----------------------------+------------------------------------|\n",
      "| originGeoId                |                                    |\n",
      "| detailScreen               |                                    |\n",
      "| createdStamp               | 2019-03-03 22:33:37.435            |\n",
      "| requireInventory           |                                    |\n",
      "| quantityUomId              |                                    |\n",
      "| mediumImageUrl             |                                    |\n",
      "| productName                | Square Gizmo                       |\n",
      "| introductionDate           |                                    |\n",
      "| shippingHeight             |                                    |\n",
      "| originalImageUrl           |                                    |\n",
      "| inShippingBox              |                                    |\n",
      "| detailImageUrl             |                                    |\n",
      "| supportDiscontinuationDate |                                    |\n",
      "| productWidth               |                                    |\n",
      "| includeInPromotions        |                                    |\n",
      "| configId                   |                                    |\n",
      "| billOfMaterialLevel        |                                    |\n",
      "| lotIdFilledIn              |                                    |\n",
      "| productRating              |                                    |\n",
      "| createdByUserLogin         | admin                              |\n",
      "| brandName                  |                                    |\n",
      "| requireAmount              |                                    |\n",
      "| productId                  | GZ-2002                            |\n",
      "| smallImageUrl              | /images/products/GZ-2002/small.png |\n",
      "| taxable                    | Y                                  |\n",
      "| primaryProductCategoryId   | 101                                |\n",
      "| salesDiscontinuationDate   |                                    |\n",
      "| createdTxStamp             | 2019-03-03 22:33:34.232            |\n",
      "| lastUpdatedTxStamp         | 2019-03-03 22:33:54.833            |\n",
      "| salesDiscWhenNotAvail      |                                    |\n",
      "| returnable                 |                                    |\n",
      "| weightUomId                |                                    |\n",
      "| isVirtual                  | N                                  |\n",
      "| priceDetailText            |                                    |\n",
      "| reserv2ndPPPerc            |                                    |\n",
      "| widthUomId                 |                                    |\n",
      "| longDescription            |                                    |\n",
      "| diameterUomId              |                                    |\n",
      "| autoCreateKeywords         | Y                                  |\n",
      "| amountUomTypeId            |                                    |\n",
      "| productDiameter            |                                    |\n",
      "| ratingTypeEnum             |                                    |\n",
      "| description                | A square gizmo                     |\n",
      "| chargeShipping             | Y                                  |\n",
      "| reservNthPPPerc            |                                    |\n",
      "| quantityIncluded           |                                    |\n",
      "| heightUomId                |                                    |\n",
      "| internalName               | Square Gizmo                       |\n",
      "| lastModifiedByUserLogin    | admin                              |\n",
      "| virtualVariantMethodEnum   |                                    |\n",
      "| shippingWeight             |                                    |\n",
      "| shippingWidth              |                                    |\n",
      "| shippingDepth              |                                    |\n",
      "| reservMaxPersons           |                                    |\n",
      "| fixedAmount                |                                    |\n",
      "| inventoryItemTypeId        |                                    |\n",
      "| piecesIncluded             |                                    |\n",
      "| productDepth               |                                    |\n",
      "| lastUpdatedStamp           | 2019-03-03 22:33:54.941            |\n",
      "| facilityId                 |                                    |\n",
      "| comments                   |                                    |\n",
      "| releaseDate                |                                    |\n",
      "| productHeight              |                                    |\n",
      "| lastModifiedDate           | 2001-05-13 12:00:00.0              |\n",
      "| defaultShipmentBoxTypeId   |                                    |\n",
      "| orderDecimalQuantity       |                                    |\n",
      "| inventoryMessage           |                                    |\n",
      "| productWeight              |                                    |\n",
      "| depthUomId                 |                                    |\n",
      "| productTypeId              | FINISHED_GOOD                      |\n",
      "| createdDate                | 2001-05-13 12:00:00.0              |\n",
      "| isVariant                  | N                                  |\n",
      "| largeImageUrl              | /images/products/GZ-2002/large.png |\n",
      "| requirementMethodEnumId    |                                    |\n",
      "+----------------------------+------------------------------------+\n"
     ]
    }
   ],
   "source": [
    "from sagas.ofbiz.entities import OfEntity as e, oc\n",
    "import sagas.ofbiz.entities as ee\n",
    "\n",
    "product=e().refProduct('GZ-2002')\n",
    "ee.format(product)"
   ]
  },
  {
   "cell_type": "code",
   "execution_count": 6,
   "metadata": {
    "ExecuteTime": {
     "end_time": "2019-04-25T20:29:36.986670Z",
     "start_time": "2019-04-25T20:29:36.896123Z"
    }
   },
   "outputs": [
    {
     "data": {
      "text/html": [
       "<div>\n",
       "<style scoped>\n",
       "    .dataframe tbody tr th:only-of-type {\n",
       "        vertical-align: middle;\n",
       "    }\n",
       "\n",
       "    .dataframe tbody tr th {\n",
       "        vertical-align: top;\n",
       "    }\n",
       "\n",
       "    .dataframe thead th {\n",
       "        text-align: right;\n",
       "    }\n",
       "</style>\n",
       "<table border=\"1\" class=\"dataframe\">\n",
       "  <thead>\n",
       "    <tr style=\"text-align: right;\">\n",
       "      <th></th>\n",
       "      <th>internal</th>\n",
       "      <th>name</th>\n",
       "      <th>primary</th>\n",
       "      <th>type</th>\n",
       "      <th>field type</th>\n",
       "    </tr>\n",
       "  </thead>\n",
       "  <tbody>\n",
       "    <tr>\n",
       "      <th>0</th>\n",
       "      <td></td>\n",
       "      <td>productTypeId</td>\n",
       "      <td>*</td>\n",
       "      <td>id</td>\n",
       "      <td>id</td>\n",
       "    </tr>\n",
       "    <tr>\n",
       "      <th>1</th>\n",
       "      <td></td>\n",
       "      <td>parentTypeId</td>\n",
       "      <td></td>\n",
       "      <td>id</td>\n",
       "      <td>id</td>\n",
       "    </tr>\n",
       "    <tr>\n",
       "      <th>2</th>\n",
       "      <td></td>\n",
       "      <td>isPhysical</td>\n",
       "      <td></td>\n",
       "      <td>indicator</td>\n",
       "      <td>indicator</td>\n",
       "    </tr>\n",
       "    <tr>\n",
       "      <th>3</th>\n",
       "      <td></td>\n",
       "      <td>isDigital</td>\n",
       "      <td></td>\n",
       "      <td>indicator</td>\n",
       "      <td>indicator</td>\n",
       "    </tr>\n",
       "    <tr>\n",
       "      <th>4</th>\n",
       "      <td></td>\n",
       "      <td>hasTable</td>\n",
       "      <td></td>\n",
       "      <td>indicator</td>\n",
       "      <td>indicator</td>\n",
       "    </tr>\n",
       "    <tr>\n",
       "      <th>5</th>\n",
       "      <td></td>\n",
       "      <td>description</td>\n",
       "      <td></td>\n",
       "      <td>description</td>\n",
       "      <td>description</td>\n",
       "    </tr>\n",
       "    <tr>\n",
       "      <th>6</th>\n",
       "      <td>*</td>\n",
       "      <td>lastUpdatedStamp</td>\n",
       "      <td></td>\n",
       "      <td>date-time</td>\n",
       "      <td>date-time</td>\n",
       "    </tr>\n",
       "    <tr>\n",
       "      <th>7</th>\n",
       "      <td>*</td>\n",
       "      <td>lastUpdatedTxStamp</td>\n",
       "      <td></td>\n",
       "      <td>date-time</td>\n",
       "      <td>date-time</td>\n",
       "    </tr>\n",
       "    <tr>\n",
       "      <th>8</th>\n",
       "      <td>*</td>\n",
       "      <td>createdStamp</td>\n",
       "      <td></td>\n",
       "      <td>date-time</td>\n",
       "      <td>date-time</td>\n",
       "    </tr>\n",
       "    <tr>\n",
       "      <th>9</th>\n",
       "      <td>*</td>\n",
       "      <td>createdTxStamp</td>\n",
       "      <td></td>\n",
       "      <td>date-time</td>\n",
       "      <td>date-time</td>\n",
       "    </tr>\n",
       "  </tbody>\n",
       "</table>\n",
       "</div>"
      ],
      "text/plain": [
       "  internal                name primary         type   field type\n",
       "0                productTypeId       *           id           id\n",
       "1                 parentTypeId                   id           id\n",
       "2                   isPhysical            indicator    indicator\n",
       "3                    isDigital            indicator    indicator\n",
       "4                     hasTable            indicator    indicator\n",
       "5                  description          description  description\n",
       "6        *    lastUpdatedStamp            date-time    date-time\n",
       "7        *  lastUpdatedTxStamp            date-time    date-time\n",
       "8        *        createdStamp            date-time    date-time\n",
       "9        *      createdTxStamp            date-time    date-time"
      ]
     },
     "execution_count": 6,
     "metadata": {},
     "output_type": "execute_result"
    }
   ],
   "source": [
    "e('meta').ProductType"
   ]
  },
  {
   "cell_type": "code",
   "execution_count": 25,
   "metadata": {
    "ExecuteTime": {
     "end_time": "2019-04-26T08:48:26.476198Z",
     "start_time": "2019-04-26T08:48:26.392017Z"
    }
   },
   "outputs": [
    {
     "name": "stdout",
     "output_type": "stream",
     "text": [
      "AGGREGATED Configurable Good\n",
      "AGGREGATEDSERV_CONF Configurable Service Configuration\n",
      "AGGREGATED_CONF Configurable Good Configuration\n",
      "AGGREGATED_SERVICE Configurable Service using inventory\n",
      "ASSET_USAGE Fixed Asset Usage\n",
      "ASSET_USAGE_OUT_IN Fixed Asset Usage For Rental of an asset which is shipped from and returned to inventory\n",
      "DIGITAL_GOOD Digital Good\n",
      "FINDIG_GOOD Finished/Digital Good\n",
      "FINISHED_GOOD Finished Good\n",
      "GOOD Good\n",
      "MARKETING_PKG Marketing Package\n",
      "MARKETING_PKG_AUTO Marketing Package: Auto Manufactured\n",
      "MARKETING_PKG_PICK Marketing Package: Pick Assembly\n",
      "RAW_MATERIAL Raw Material\n",
      "SERVICE Service\n",
      "SERVICE_PRODUCT Service a product using inventory\n",
      "SUBASSEMBLY Subassembly\n",
      "Test_type None\n",
      "Test_type_11 None\n",
      "Test_type_111 None\n",
      "Test_type_112 None\n",
      "Test_type_113 None\n",
      "Test_type_114 None\n",
      "WIP Work In Process\n"
     ]
    }
   ],
   "source": [
    "# find(String entityName, EntityCondition whereEntityCondition, \n",
    "# EntityCondition havingEntityCondition, Set<String> fieldsToSelect, \n",
    "# List<String> orderBy, EntityFindOptions findOptions) \n",
    "iter=oc.delegator.find('ProductType', None, None, None, None, None)\n",
    "# while iter.hasNext():\n",
    "#     val=iter.next()\n",
    "#     print(val.get('productTypeId'), val.get('description'))\n",
    "\n",
    "# For performance reasons do not use the EntityListIterator.hasNext() method, \n",
    "# just call next() until it returns null; see JavaDoc comments in the \n",
    "# EntityListIterator class for details and an example\n",
    "val=iter.next()\n",
    "while val is not None:\n",
    "    print(val.get('productTypeId'), val.get('description'))\n",
    "    val=iter.next()"
   ]
  },
  {
   "cell_type": "code",
   "execution_count": 18,
   "metadata": {
    "ExecuteTime": {
     "end_time": "2019-04-25T20:56:04.529942Z",
     "start_time": "2019-04-25T20:56:04.453980Z"
    }
   },
   "outputs": [
    {
     "name": "stdout",
     "output_type": "stream",
     "text": [
      "['productTypeId']\n",
      "UHJvZHVjdFR5cGU6RklORElHX0dPT0Q=\n",
      "['FINDIG_GOOD']\n",
      "[('productTypeId', 'FINDIG_GOOD')]\n",
      "+--------------------+-------------------------+\n",
      "| name               | value                   |\n",
      "|--------------------+-------------------------|\n",
      "| lastUpdatedStamp   | 2019-03-03 22:33:14.056 |\n",
      "| isPhysical         | Y                       |\n",
      "| parentTypeId       | GOOD                    |\n",
      "| isDigital          | Y                       |\n",
      "| hasTable           | N                       |\n",
      "| createdTxStamp     | 2019-03-03 22:33:13.489 |\n",
      "| createdStamp       | 2019-03-03 22:33:14.056 |\n",
      "| description        | Finished/Digital Good   |\n",
      "| lastUpdatedTxStamp | 2019-03-03 22:33:13.489 |\n",
      "| productTypeId      | FINDIG_GOOD             |\n",
      "+--------------------+-------------------------+\n"
     ]
    }
   ],
   "source": [
    "from sagas.util.name_util import to_global_id, from_global_id\n",
    "entity='ProductType'\n",
    "model=oc.delegator.getModelEntity(entity)\n",
    "pks=[]\n",
    "for fld in model.getPkFieldNames():\n",
    "    pks.append(fld)\n",
    "print(pks)\n",
    "gid=to_global_id(entity, 'FINDIG_GOOD')\n",
    "print(gid)\n",
    "\n",
    "params=oc.jmap()\n",
    "t,idstring=from_global_id(gid)\n",
    "ids=idstring.split('♡')\n",
    "print(ids)\n",
    "mapped=zip(pks, ids)\n",
    "ctx=list(mapped) \n",
    "print(ctx)\n",
    "# print(ctx[0][0])\n",
    "for el in ctx:\n",
    "    params.put(el[0], el[1])\n",
    "result = oc.delegator.findOne(entity, params, True)\n",
    "ee.format(result)"
   ]
  },
  {
   "cell_type": "code",
   "execution_count": 19,
   "metadata": {
    "ExecuteTime": {
     "end_time": "2019-04-25T21:13:27.104854Z",
     "start_time": "2019-04-25T21:13:26.999146Z"
    }
   },
   "outputs": [
    {
     "data": {
      "text/plain": [
       "[('UHJvZHVjdFR5cGU6QUdHUkVHQVRFRA==', 'AGGREGATED', 'Configurable Good'),\n",
       " ('UHJvZHVjdFR5cGU6QUdHUkVHQVRFRFNFUlZfQ09ORg==',\n",
       "  'AGGREGATEDSERV_CONF',\n",
       "  'Configurable Service Configuration'),\n",
       " ('UHJvZHVjdFR5cGU6QUdHUkVHQVRFRF9DT05G',\n",
       "  'AGGREGATED_CONF',\n",
       "  'Configurable Good Configuration'),\n",
       " ('UHJvZHVjdFR5cGU6QUdHUkVHQVRFRF9TRVJWSUNF',\n",
       "  'AGGREGATED_SERVICE',\n",
       "  'Configurable Service using inventory'),\n",
       " ('UHJvZHVjdFR5cGU6QVNTRVRfVVNBR0U=', 'ASSET_USAGE', 'Fixed Asset Usage'),\n",
       " ('UHJvZHVjdFR5cGU6QVNTRVRfVVNBR0VfT1VUX0lO',\n",
       "  'ASSET_USAGE_OUT_IN',\n",
       "  'Fixed Asset Usage For Rental of an asset which is shipped from and returned to inventory'),\n",
       " ('UHJvZHVjdFR5cGU6RElHSVRBTF9HT09E', 'DIGITAL_GOOD', 'Digital Good'),\n",
       " ('UHJvZHVjdFR5cGU6RklORElHX0dPT0Q=', 'FINDIG_GOOD', 'Finished/Digital Good'),\n",
       " ('UHJvZHVjdFR5cGU6RklOSVNIRURfR09PRA==', 'FINISHED_GOOD', 'Finished Good'),\n",
       " ('UHJvZHVjdFR5cGU6R09PRA==', 'GOOD', 'Good'),\n",
       " ('UHJvZHVjdFR5cGU6TUFSS0VUSU5HX1BLRw==',\n",
       "  'MARKETING_PKG',\n",
       "  'Marketing Package'),\n",
       " ('UHJvZHVjdFR5cGU6TUFSS0VUSU5HX1BLR19BVVRP',\n",
       "  'MARKETING_PKG_AUTO',\n",
       "  'Marketing Package: Auto Manufactured'),\n",
       " ('UHJvZHVjdFR5cGU6TUFSS0VUSU5HX1BLR19QSUNL',\n",
       "  'MARKETING_PKG_PICK',\n",
       "  'Marketing Package: Pick Assembly'),\n",
       " ('UHJvZHVjdFR5cGU6UkFXX01BVEVSSUFM', 'RAW_MATERIAL', 'Raw Material'),\n",
       " ('UHJvZHVjdFR5cGU6U0VSVklDRQ==', 'SERVICE', 'Service'),\n",
       " ('UHJvZHVjdFR5cGU6U0VSVklDRV9QUk9EVUNU',\n",
       "  'SERVICE_PRODUCT',\n",
       "  'Service a product using inventory'),\n",
       " ('UHJvZHVjdFR5cGU6U1VCQVNTRU1CTFk=', 'SUBASSEMBLY', 'Subassembly'),\n",
       " ('UHJvZHVjdFR5cGU6VGVzdF90eXBl', 'Test_type', None),\n",
       " ('UHJvZHVjdFR5cGU6VGVzdF90eXBlXzEx', 'Test_type_11', None),\n",
       " ('UHJvZHVjdFR5cGU6VGVzdF90eXBlXzExMQ==', 'Test_type_111', None),\n",
       " ('UHJvZHVjdFR5cGU6VGVzdF90eXBlXzExMg==', 'Test_type_112', None),\n",
       " ('UHJvZHVjdFR5cGU6VGVzdF90eXBlXzExMw==', 'Test_type_113', None),\n",
       " ('UHJvZHVjdFR5cGU6VGVzdF90eXBlXzExNA==', 'Test_type_114', None),\n",
       " ('UHJvZHVjdFR5cGU6V0lQ', 'WIP', 'Work In Process')]"
      ]
     },
     "execution_count": 19,
     "metadata": {},
     "output_type": "execute_result"
    }
   ],
   "source": [
    "import sagas.ofbiz.entity_global_ref as gr\n",
    "ent_ref=gr.EntityGlobalRef('ProductType')\n",
    "ent_ref.fill_records('productTypeId', 'description')"
   ]
  },
  {
   "cell_type": "code",
   "execution_count": 27,
   "metadata": {
    "ExecuteTime": {
     "end_time": "2019-04-26T08:58:06.911521Z",
     "start_time": "2019-04-26T08:58:06.834713Z"
    }
   },
   "outputs": [
    {
     "name": "stdout",
     "output_type": "stream",
     "text": [
      "24\n",
      "links {\n",
      "  gid: \"UHJvZHVjdFR5cGU6QUdHUkVHQVRFRA==\"\n",
      "  name: \"AGGREGATED\"\n",
      "  description: \"Configurable Good\"\n",
      "}\n",
      "links {\n",
      "  gid: \"UHJvZHVjdFR5cGU6QUdHUkVHQVRFRFNFUlZfQ09ORg==\"\n",
      "  name: \"AGGREGATEDSERV_CONF\"\n",
      "  description: \"Configurable Service Configuration\"\n",
      "}\n",
      "links {\n",
      "  gid: \"UHJvZHVjdFR5cGU6QUdHUkVHQVRFRF9DT05G\"\n",
      "  name: \"AGGREGATED_CONF\"\n",
      "  description: \"Configurable Good Configuration\"\n",
      "}\n",
      "links {\n",
      "  gid: \"UHJvZHVjdFR5cGU6QUdHUkVHQVRFRF9TRVJWSUNF\"\n",
      "  name: \"AGGREGATED_SERVICE\"\n",
      "  description: \"Configurable Service using inventory\"\n",
      "}\n",
      "links {\n",
      "  gid: \"UHJvZHVjdFR5cGU6QVNTRVRfVVNBR0U=\"\n",
      "  name: \"ASSET_USAGE\"\n",
      "  description: \"Fixed Asset Usage\"\n",
      "}\n",
      "links {\n",
      "  gid: \"UHJvZHVjdFR5cGU6QVNTRVRfVVNBR0VfT1VUX0lO\"\n",
      "  name: \"ASSET_USAGE_OUT_IN\"\n",
      "  description: \"Fixed Asset Usage For Rental of an asset which is shipped from and returned to inventory\"\n",
      "}\n",
      "links {\n",
      "  gid: \"UHJvZHVjdFR5cGU6RElHSVRBTF9HT09E\"\n",
      "  name: \"DIGITAL_GOOD\"\n",
      "  description: \"Digital Good\"\n",
      "}\n",
      "links {\n",
      "  gid: \"UHJvZHVjdFR5cGU6RklORElHX0dPT0Q=\"\n",
      "  name: \"FINDIG_GOOD\"\n",
      "  description: \"Finished/Digital Good\"\n",
      "}\n",
      "links {\n",
      "  gid: \"UHJvZHVjdFR5cGU6RklOSVNIRURfR09PRA==\"\n",
      "  name: \"FINISHED_GOOD\"\n",
      "  description: \"Finished Good\"\n",
      "}\n",
      "links {\n",
      "  gid: \"UHJvZHVjdFR5cGU6R09PRA==\"\n",
      "  name: \"GOOD\"\n",
      "  description: \"Good\"\n",
      "}\n",
      "links {\n",
      "  gid: \"UHJvZHVjdFR5cGU6TUFSS0VUSU5HX1BLRw==\"\n",
      "  name: \"MARKETING_PKG\"\n",
      "  description: \"Marketing Package\"\n",
      "}\n",
      "links {\n",
      "  gid: \"UHJvZHVjdFR5cGU6TUFSS0VUSU5HX1BLR19BVVRP\"\n",
      "  name: \"MARKETING_PKG_AUTO\"\n",
      "  description: \"Marketing Package: Auto Manufactured\"\n",
      "}\n",
      "links {\n",
      "  gid: \"UHJvZHVjdFR5cGU6TUFSS0VUSU5HX1BLR19QSUNL\"\n",
      "  name: \"MARKETING_PKG_PICK\"\n",
      "  description: \"Marketing Package: Pick Assembly\"\n",
      "}\n",
      "links {\n",
      "  gid: \"UHJvZHVjdFR5cGU6UkFXX01BVEVSSUFM\"\n",
      "  name: \"RAW_MATERIAL\"\n",
      "  description: \"Raw Material\"\n",
      "}\n",
      "links {\n",
      "  gid: \"UHJvZHVjdFR5cGU6U0VSVklDRQ==\"\n",
      "  name: \"SERVICE\"\n",
      "  description: \"Service\"\n",
      "}\n",
      "links {\n",
      "  gid: \"UHJvZHVjdFR5cGU6U0VSVklDRV9QUk9EVUNU\"\n",
      "  name: \"SERVICE_PRODUCT\"\n",
      "  description: \"Service a product using inventory\"\n",
      "}\n",
      "links {\n",
      "  gid: \"UHJvZHVjdFR5cGU6U1VCQVNTRU1CTFk=\"\n",
      "  name: \"SUBASSEMBLY\"\n",
      "  description: \"Subassembly\"\n",
      "}\n",
      "links {\n",
      "  gid: \"UHJvZHVjdFR5cGU6VGVzdF90eXBl\"\n",
      "  name: \"Test_type\"\n",
      "}\n",
      "links {\n",
      "  gid: \"UHJvZHVjdFR5cGU6VGVzdF90eXBlXzEx\"\n",
      "  name: \"Test_type_11\"\n",
      "}\n",
      "links {\n",
      "  gid: \"UHJvZHVjdFR5cGU6VGVzdF90eXBlXzExMQ==\"\n",
      "  name: \"Test_type_111\"\n",
      "}\n",
      "links {\n",
      "  gid: \"UHJvZHVjdFR5cGU6VGVzdF90eXBlXzExMg==\"\n",
      "  name: \"Test_type_112\"\n",
      "}\n",
      "links {\n",
      "  gid: \"UHJvZHVjdFR5cGU6VGVzdF90eXBlXzExMw==\"\n",
      "  name: \"Test_type_113\"\n",
      "}\n",
      "links {\n",
      "  gid: \"UHJvZHVjdFR5cGU6VGVzdF90eXBlXzExNA==\"\n",
      "  name: \"Test_type_114\"\n",
      "}\n",
      "links {\n",
      "  gid: \"UHJvZHVjdFR5cGU6V0lQ\"\n",
      "  name: \"WIP\"\n",
      "  description: \"Work In Process\"\n",
      "}\n",
      "\n"
     ]
    }
   ],
   "source": [
    "from values_pb2 import ExternalLinks, ExternalLink\n",
    "rs=ent_ref.fill_records('productTypeId', 'description')\n",
    "links=[]\n",
    "for rec in rs:\n",
    "    link=ExternalLink(gid=rec[0], name=rec[1], description=rec[2])\n",
    "    links.append(link)\n",
    "links_rs=ExternalLinks(links=links)\n",
    "print(len(links_rs.links))\n",
    "print(links_rs)"
   ]
  },
  {
   "cell_type": "code",
   "execution_count": 22,
   "metadata": {
    "ExecuteTime": {
     "end_time": "2019-04-25T21:20:29.273212Z",
     "start_time": "2019-04-25T21:20:29.267487Z"
    }
   },
   "outputs": [],
   "source": [
    "import protobuf_utils as pu\n",
    "pu.write_proto_to(links_rs, 'data/resources/rs_product_type.data')"
   ]
  },
  {
   "cell_type": "code",
   "execution_count": 28,
   "metadata": {
    "ExecuteTime": {
     "end_time": "2019-04-26T13:05:39.791620Z",
     "start_time": "2019-04-26T13:05:39.758320Z"
    }
   },
   "outputs": [
    {
     "data": {
      "text/plain": [
       "True"
      ]
     },
     "execution_count": 28,
     "metadata": {},
     "output_type": "execute_result"
    }
   ],
   "source": [
    "desc_fld=['id','name']\n",
    "isinstance(desc_fld, list)"
   ]
  }
 ],
 "metadata": {
  "kernelspec": {
   "display_name": "Python 3",
   "language": "python",
   "name": "python3"
  },
  "language_info": {
   "codemirror_mode": {
    "name": "ipython",
    "version": 3
   },
   "file_extension": ".py",
   "mimetype": "text/x-python",
   "name": "python",
   "nbconvert_exporter": "python",
   "pygments_lexer": "ipython3",
   "version": "3.6.6"
  },
  "varInspector": {
   "cols": {
    "lenName": 16,
    "lenType": 16,
    "lenVar": 40
   },
   "kernels_config": {
    "python": {
     "delete_cmd_postfix": "",
     "delete_cmd_prefix": "del ",
     "library": "var_list.py",
     "varRefreshCmd": "print(var_dic_list())"
    },
    "r": {
     "delete_cmd_postfix": ") ",
     "delete_cmd_prefix": "rm(",
     "library": "var_list.r",
     "varRefreshCmd": "cat(var_dic_list()) "
    }
   },
   "types_to_exclude": [
    "module",
    "function",
    "builtin_function_or_method",
    "instance",
    "_Feature"
   ],
   "window_display": false
  }
 },
 "nbformat": 4,
 "nbformat_minor": 2
}
