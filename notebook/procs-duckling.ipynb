{
 "cells": [
  {
   "cell_type": "code",
   "execution_count": 18,
   "metadata": {
    "ExecuteTime": {
     "end_time": "2020-02-08T18:06:54.997036Z",
     "start_time": "2020-02-08T18:06:54.967449Z"
    }
   },
   "outputs": [
    {
     "name": "stdout",
     "output_type": "stream",
     "text": [
      "[\n",
      "  {\n",
      "    \"body\": \"tomorrow at eight\",\n",
      "    \"start\": 0,\n",
      "    \"value\": {\n",
      "      \"values\": [\n",
      "        {\n",
      "          \"value\": \"2013-10-12T08:00:00.000-07:00\",\n",
      "          \"grain\": \"hour\",\n",
      "          \"type\": \"value\"\n",
      "        },\n",
      "        {\n",
      "          \"value\": \"2013-10-12T20:00:00.000-07:00\",\n",
      "          \"grain\": \"hour\",\n",
      "          \"type\": \"value\"\n",
      "        }\n",
      "      ],\n",
      "      \"value\": \"2013-10-12T08:00:00.000-07:00\",\n",
      "      \"grain\": \"hour\",\n",
      "      \"type\": \"value\"\n",
      "    },\n",
      "    \"end\": 17,\n",
      "    \"dim\": \"time\",\n",
      "    \"latent\": false\n",
      "  }\n",
      "]\n"
     ]
    }
   ],
   "source": [
    "# preqs: $ start duckling\n",
    "import requests\n",
    "import json\n",
    "# data='locale=en_GB&text=tomorrow at eight&reftime=1381536182000'\n",
    "data={'locale':'en_GB', 'text':'tomorrow at eight', 'reftime':'1381536182000'}\n",
    "response = requests.post('http://0.0.0.0:8000/parse', data=data)\n",
    "# print(response.status_code, response.json())\n",
    "if response.status_code == 200:\n",
    "    print(json.dumps(response.json(), indent=2, ensure_ascii=False))"
   ]
  },
  {
   "cell_type": "code",
   "execution_count": 3,
   "metadata": {
    "ExecuteTime": {
     "end_time": "2020-02-08T17:31:02.087427Z",
     "start_time": "2020-02-08T17:31:02.075946Z"
    }
   },
   "outputs": [
    {
     "data": {
      "text/plain": [
       "1581183062081"
      ]
     },
     "execution_count": 3,
     "metadata": {},
     "output_type": "execute_result"
    }
   ],
   "source": [
    "import time\n",
    "import requests\n",
    "import json\n",
    "\n",
    "current_milli_time = lambda: int(round(time.time() * 1000))\n",
    "def query(text, locale='en_GB'):\n",
    "    data={'locale':locale, 'text':text, 'reftime':current_milli_time()}\n",
    "    response = requests.post('http://0.0.0.0:8000/parse', data=data)\n",
    "    if response.status_code == 200:\n",
    "        r=response.json()\n",
    "        # print(json.dumps(r, indent=2, ensure_ascii=False))\n",
    "        return {'result':'success', 'data':r}\n",
    "    return {'result':'fail'}\n",
    "# query('tomorrow at eight')\n",
    "current_milli_time()"
   ]
  },
  {
   "cell_type": "code",
   "execution_count": 9,
   "metadata": {
    "ExecuteTime": {
     "end_time": "2019-08-01T13:51:58.143338Z",
     "start_time": "2019-08-01T13:51:58.128815Z"
    }
   },
   "outputs": [
    {
     "data": {
      "text/plain": [
       "{'data': [{'body': 'tomorrow at eight',\n",
       "   'dim': 'time',\n",
       "   'end': 17,\n",
       "   'latent': False,\n",
       "   'start': 0,\n",
       "   'value': {'grain': 'hour',\n",
       "    'type': 'value',\n",
       "    'value': '2019-08-02T08:00:00.000-07:00',\n",
       "    'values': [{'grain': 'hour',\n",
       "      'type': 'value',\n",
       "      'value': '2019-08-02T08:00:00.000-07:00'},\n",
       "     {'grain': 'hour',\n",
       "      'type': 'value',\n",
       "      'value': '2019-08-02T20:00:00.000-07:00'}]}}],\n",
       " 'result': 'success'}"
      ]
     },
     "execution_count": 9,
     "metadata": {},
     "output_type": "execute_result"
    }
   ],
   "source": [
    "query('tomorrow at eight')"
   ]
  },
  {
   "cell_type": "code",
   "execution_count": 10,
   "metadata": {
    "ExecuteTime": {
     "end_time": "2019-08-01T13:52:09.986815Z",
     "start_time": "2019-08-01T13:52:09.971439Z"
    }
   },
   "outputs": [
    {
     "data": {
      "text/plain": [
       "{'data': [], 'result': 'success'}"
      ]
     },
     "execution_count": 10,
     "metadata": {},
     "output_type": "execute_result"
    }
   ],
   "source": [
    "query('noting')"
   ]
  },
  {
   "cell_type": "code",
   "execution_count": 5,
   "metadata": {
    "ExecuteTime": {
     "end_time": "2019-08-01T13:41:33.749409Z",
     "start_time": "2019-08-01T13:41:33.701064Z"
    }
   },
   "outputs": [
    {
     "name": "stdout",
     "output_type": "stream",
     "text": [
      "Last night\n",
      "Last night\n"
     ]
    },
    {
     "data": {
      "text/plain": [
       "{'data': [{'body': 'Last night',\n",
       "   'dim': 'time',\n",
       "   'end': 10,\n",
       "   'latent': False,\n",
       "   'start': 0,\n",
       "   'value': {'from': {'grain': 'hour',\n",
       "     'value': '2019-07-31T18:00:00.000-07:00'},\n",
       "    'to': {'grain': 'hour', 'value': '2019-08-01T00:00:00.000-07:00'},\n",
       "    'type': 'interval',\n",
       "    'values': [{'from': {'grain': 'hour',\n",
       "       'value': '2019-07-31T18:00:00.000-07:00'},\n",
       "      'to': {'grain': 'hour', 'value': '2019-08-01T00:00:00.000-07:00'},\n",
       "      'type': 'interval'}]}}],\n",
       " 'result': 'success'}"
      ]
     },
     "execution_count": 5,
     "metadata": {},
     "output_type": "execute_result"
    }
   ],
   "source": [
    "sents='Last night, I swam in the pool'\n",
    "r=query(sents)\n",
    "rd=r['data'][0]\n",
    "start=rd['start']\n",
    "end=rd['end']\n",
    "print(sents[start:end])\n",
    "print(rd['body'])\n",
    "r"
   ]
  },
  {
   "cell_type": "code",
   "execution_count": 8,
   "metadata": {
    "ExecuteTime": {
     "end_time": "2019-08-01T13:43:22.623006Z",
     "start_time": "2019-08-01T13:43:22.596942Z"
    }
   },
   "outputs": [
    {
     "name": "stdout",
     "output_type": "stream",
     "text": [
      "{'data': [{'body': 'spring of 1982',\n",
      "           'dim': 'time',\n",
      "           'end': 21,\n",
      "           'latent': False,\n",
      "           'start': 7,\n",
      "           'value': {'from': {'grain': 'day',\n",
      "                              'value': '1982-03-20T00:00:00.000-08:00'},\n",
      "                     'to': {'grain': 'day',\n",
      "                            'value': '1982-06-22T00:00:00.000-07:00'},\n",
      "                     'type': 'interval',\n",
      "                     'values': [{'from': {'grain': 'day',\n",
      "                                          'value': '1982-03-20T00:00:00.000-08:00'},\n",
      "                                 'to': {'grain': 'day',\n",
      "                                        'value': '1982-06-22T00:00:00.000-07:00'},\n",
      "                                 'type': 'interval'}]}}],\n",
      " 'result': 'success'}\n"
     ]
    }
   ],
   "source": [
    "from pprint import pprint\n",
    "pprint(query('in the spring of 1982'))"
   ]
  },
  {
   "cell_type": "code",
   "execution_count": 4,
   "metadata": {
    "ExecuteTime": {
     "end_time": "2020-02-08T17:33:12.175583Z",
     "start_time": "2020-02-08T17:33:12.142111Z"
    }
   },
   "outputs": [
    {
     "data": {
      "text/plain": [
       "{'result': 'success',\n",
       " 'data': [{'body': 'الجمعة 7 مساء',\n",
       "   'start': 0,\n",
       "   'value': {'values': [{'value': '2020-02-14T19:00:00.000-08:00',\n",
       "      'grain': 'hour',\n",
       "      'type': 'value'},\n",
       "     {'value': '2020-02-21T19:00:00.000-08:00',\n",
       "      'grain': 'hour',\n",
       "      'type': 'value'},\n",
       "     {'value': '2020-02-28T19:00:00.000-08:00',\n",
       "      'grain': 'hour',\n",
       "      'type': 'value'}],\n",
       "    'value': '2020-02-14T19:00:00.000-08:00',\n",
       "    'grain': 'hour',\n",
       "    'type': 'value'},\n",
       "   'end': 13,\n",
       "   'dim': 'time',\n",
       "   'latent': False},\n",
       "  {'body': 'إلى 8 مساء',\n",
       "   'start': 15,\n",
       "   'value': {'values': [{'to': {'value': '2020-02-08T20:00:00.000-08:00',\n",
       "       'grain': 'hour'},\n",
       "      'type': 'interval'},\n",
       "     {'to': {'value': '2020-02-09T20:00:00.000-08:00', 'grain': 'hour'},\n",
       "      'type': 'interval'},\n",
       "     {'to': {'value': '2020-02-10T20:00:00.000-08:00', 'grain': 'hour'},\n",
       "      'type': 'interval'}],\n",
       "    'to': {'value': '2020-02-08T20:00:00.000-08:00', 'grain': 'hour'},\n",
       "    'type': 'interval'},\n",
       "   'end': 25,\n",
       "   'dim': 'time',\n",
       "   'latent': False}]}"
      ]
     },
     "execution_count": 4,
     "metadata": {},
     "output_type": "execute_result"
    }
   ],
   "source": [
    "sents='الجمعة 7 مساءً إلى 8 مساءً'\n",
    "query(sents, 'ar_Nothing')"
   ]
  },
  {
   "cell_type": "code",
   "execution_count": 6,
   "metadata": {
    "ExecuteTime": {
     "end_time": "2020-02-08T17:34:06.353717Z",
     "start_time": "2020-02-08T17:34:06.335240Z"
    }
   },
   "outputs": [
    {
     "data": {
      "text/plain": [
       "{'result': 'success',\n",
       " 'data': [{'body': 'في نهاية الأسبوع',\n",
       "   'start': 16,\n",
       "   'value': {'values': [{'to': {'value': '2020-02-10T00:00:00.000-08:00',\n",
       "       'grain': 'hour'},\n",
       "      'from': {'value': '2020-02-07T18:00:00.000-08:00', 'grain': 'hour'},\n",
       "      'type': 'interval'},\n",
       "     {'to': {'value': '2020-02-17T00:00:00.000-08:00', 'grain': 'hour'},\n",
       "      'from': {'value': '2020-02-14T18:00:00.000-08:00', 'grain': 'hour'},\n",
       "      'type': 'interval'},\n",
       "     {'to': {'value': '2020-02-24T00:00:00.000-08:00', 'grain': 'hour'},\n",
       "      'from': {'value': '2020-02-21T18:00:00.000-08:00', 'grain': 'hour'},\n",
       "      'type': 'interval'}],\n",
       "    'to': {'value': '2020-02-10T00:00:00.000-08:00', 'grain': 'hour'},\n",
       "    'from': {'value': '2020-02-07T18:00:00.000-08:00', 'grain': 'hour'},\n",
       "    'type': 'interval'},\n",
       "   'end': 32,\n",
       "   'dim': 'time',\n",
       "   'latent': False}]}"
      ]
     },
     "execution_count": 6,
     "metadata": {},
     "output_type": "execute_result"
    }
   ],
   "source": [
    "# I suggest that we meet on the weekend.\n",
    "sents='‫أقترح أن نلتقي في نهاية الأسبوع.‬'\n",
    "query(sents, 'ar_Nothing')"
   ]
  },
  {
   "cell_type": "code",
   "execution_count": 8,
   "metadata": {
    "ExecuteTime": {
     "end_time": "2020-02-08T17:37:50.514793Z",
     "start_time": "2020-02-08T17:37:50.498366Z"
    }
   },
   "outputs": [
    {
     "data": {
      "text/plain": [
       "{'result': 'success',\n",
       " 'data': [{'body': 'في نهاية الأسبوع',\n",
       "   'start': 0,\n",
       "   'value': {'values': [{'to': {'value': '2020-02-10T00:00:00.000-08:00',\n",
       "       'grain': 'hour'},\n",
       "      'from': {'value': '2020-02-07T18:00:00.000-08:00', 'grain': 'hour'},\n",
       "      'type': 'interval'},\n",
       "     {'to': {'value': '2020-02-17T00:00:00.000-08:00', 'grain': 'hour'},\n",
       "      'from': {'value': '2020-02-14T18:00:00.000-08:00', 'grain': 'hour'},\n",
       "      'type': 'interval'},\n",
       "     {'to': {'value': '2020-02-24T00:00:00.000-08:00', 'grain': 'hour'},\n",
       "      'from': {'value': '2020-02-21T18:00:00.000-08:00', 'grain': 'hour'},\n",
       "      'type': 'interval'}],\n",
       "    'to': {'value': '2020-02-10T00:00:00.000-08:00', 'grain': 'hour'},\n",
       "    'from': {'value': '2020-02-07T18:00:00.000-08:00', 'grain': 'hour'},\n",
       "    'type': 'interval'},\n",
       "   'end': 16,\n",
       "   'dim': 'time',\n",
       "   'latent': False}]}"
      ]
     },
     "execution_count": 8,
     "metadata": {},
     "output_type": "execute_result"
    }
   ],
   "source": [
    "sents='في نهاية الأسبوع'\n",
    "rdata=query(sents, 'ar_Nothing')\n",
    "rdata"
   ]
  },
  {
   "cell_type": "code",
   "execution_count": 17,
   "metadata": {
    "ExecuteTime": {
     "end_time": "2020-02-08T17:40:43.896095Z",
     "start_time": "2020-02-08T17:40:43.888377Z"
    }
   },
   "outputs": [
    {
     "name": "stdout",
     "output_type": "stream",
     "text": [
      "dict_keys(['body', 'start', 'value', 'end', 'dim', 'latent'])\n",
      "from -  {'value': '2020-02-07T18:00:00.000-08:00', 'grain': 'hour'}\n",
      "to -  {'value': '2020-02-10T00:00:00.000-08:00', 'grain': 'hour'}\n"
     ]
    }
   ],
   "source": [
    "print(rdata['data'][0].keys())\n",
    "print('from - ', rdata['data'][0]['value']['from'])\n",
    "print('to - ', rdata['data'][0]['value']['to'])"
   ]
  }
 ],
 "metadata": {
  "kernelspec": {
   "display_name": "Python 3",
   "language": "python",
   "name": "python3"
  },
  "language_info": {
   "codemirror_mode": {
    "name": "ipython",
    "version": 3
   },
   "file_extension": ".py",
   "mimetype": "text/x-python",
   "name": "python",
   "nbconvert_exporter": "python",
   "pygments_lexer": "ipython3",
   "version": "3.6.9"
  },
  "varInspector": {
   "cols": {
    "lenName": 16,
    "lenType": 16,
    "lenVar": 40
   },
   "kernels_config": {
    "python": {
     "delete_cmd_postfix": "",
     "delete_cmd_prefix": "del ",
     "library": "var_list.py",
     "varRefreshCmd": "print(var_dic_list())"
    },
    "r": {
     "delete_cmd_postfix": ") ",
     "delete_cmd_prefix": "rm(",
     "library": "var_list.r",
     "varRefreshCmd": "cat(var_dic_list()) "
    }
   },
   "types_to_exclude": [
    "module",
    "function",
    "builtin_function_or_method",
    "instance",
    "_Feature"
   ],
   "window_display": false
  }
 },
 "nbformat": 4,
 "nbformat_minor": 2
}
