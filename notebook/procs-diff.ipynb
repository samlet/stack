{
 "cells": [
  {
   "cell_type": "markdown",
   "metadata": {},
   "source": [
    "⊕ [6.3. difflib — Helpers for computing deltas — Python 3.6.8 documentation](https://docs.python.org/3.6/library/difflib.html)\n"
   ]
  },
  {
   "cell_type": "code",
   "execution_count": 6,
   "metadata": {
    "ExecuteTime": {
     "end_time": "2019-04-18T19:07:21.743928Z",
     "start_time": "2019-04-18T19:07:21.735588Z"
    }
   },
   "outputs": [
    {
     "name": "stdout",
     "output_type": "stream",
     "text": [
      "0.75 0.75 1.0\n"
     ]
    }
   ],
   "source": [
    "from difflib import SequenceMatcher, context_diff\n",
    "s = SequenceMatcher(None, \"abcd\", \"bcde\")\n",
    "print(s.ratio(), s.quick_ratio(), s.real_quick_ratio())"
   ]
  },
  {
   "cell_type": "code",
   "execution_count": 7,
   "metadata": {
    "ExecuteTime": {
     "end_time": "2019-04-18T19:07:23.754054Z",
     "start_time": "2019-04-18T19:07:23.747269Z"
    }
   },
   "outputs": [
    {
     "name": "stdout",
     "output_type": "stream",
     "text": [
      "*** before.py\n",
      "--- after.py\n",
      "***************\n",
      "*** 1,4 ****\n",
      "! bacon\n",
      "! eggs\n",
      "! ham\n",
      "  guido\n",
      "--- 1,4 ----\n",
      "! python\n",
      "! eggy\n",
      "! hamster\n",
      "  guido\n"
     ]
    }
   ],
   "source": [
    "import sys\n",
    "s1 = ['bacon\\n', 'eggs\\n', 'ham\\n', 'guido\\n']\n",
    "s2 = ['python\\n', 'eggy\\n', 'hamster\\n', 'guido\\n']\n",
    "sys.stdout.writelines(context_diff(s1, s2, fromfile='before.py', tofile='after.py'))"
   ]
  },
  {
   "cell_type": "code",
   "execution_count": 8,
   "metadata": {
    "ExecuteTime": {
     "end_time": "2019-04-18T19:08:05.691446Z",
     "start_time": "2019-04-18T19:08:05.674446Z"
    }
   },
   "outputs": [
    {
     "data": {
      "text/plain": [
       "['apple', 'ape']"
      ]
     },
     "execution_count": 8,
     "metadata": {},
     "output_type": "execute_result"
    }
   ],
   "source": [
    "from difflib import *\n",
    "get_close_matches('appel', ['ape', 'apple', 'peach', 'puppy'])"
   ]
  },
  {
   "cell_type": "code",
   "execution_count": 9,
   "metadata": {
    "ExecuteTime": {
     "end_time": "2019-04-18T19:08:33.539117Z",
     "start_time": "2019-04-18T19:08:33.533623Z"
    }
   },
   "outputs": [
    {
     "data": {
      "text/plain": [
       "['while']"
      ]
     },
     "execution_count": 9,
     "metadata": {},
     "output_type": "execute_result"
    }
   ],
   "source": [
    ">>> import keyword\n",
    ">>> get_close_matches('wheel', keyword.kwlist)"
   ]
  },
  {
   "cell_type": "code",
   "execution_count": 10,
   "metadata": {
    "ExecuteTime": {
     "end_time": "2019-04-18T19:08:47.993193Z",
     "start_time": "2019-04-18T19:08:47.988280Z"
    }
   },
   "outputs": [
    {
     "data": {
      "text/plain": [
       "['except']"
      ]
     },
     "execution_count": 10,
     "metadata": {},
     "output_type": "execute_result"
    }
   ],
   "source": [
    ">>> get_close_matches('accept', keyword.kwlist)"
   ]
  },
  {
   "cell_type": "code",
   "execution_count": 11,
   "metadata": {
    "ExecuteTime": {
     "end_time": "2019-04-18T19:10:00.362219Z",
     "start_time": "2019-04-18T19:10:00.356729Z"
    }
   },
   "outputs": [
    {
     "name": "stdout",
     "output_type": "stream",
     "text": [
      "- one\n",
      "?  ^\n",
      "+ ore\n",
      "?  ^\n",
      "- two\n",
      "- three\n",
      "?  -\n",
      "+ tree\n",
      "+ emu\n"
     ]
    }
   ],
   "source": [
    "diff = ndiff('one\\ntwo\\nthree\\n'.splitlines(keepends=True),\n",
    "             'ore\\ntree\\nemu\\n'.splitlines(keepends=True))\n",
    "print(''.join(diff), end=\"\")"
   ]
  },
  {
   "cell_type": "code",
   "execution_count": 12,
   "metadata": {
    "ExecuteTime": {
     "end_time": "2019-04-18T19:14:14.820960Z",
     "start_time": "2019-04-18T19:14:14.814155Z"
    }
   },
   "outputs": [
    {
     "data": {
      "text/plain": [
       "[Match(a=0, b=0, size=2), Match(a=3, b=2, size=2), Match(a=5, b=4, size=0)]"
      ]
     },
     "execution_count": 12,
     "metadata": {},
     "output_type": "execute_result"
    }
   ],
   "source": [
    ">>> s = SequenceMatcher(None, \"abxcd\", \"abcd\")\n",
    ">>> s.get_matching_blocks()"
   ]
  },
  {
   "cell_type": "code",
   "execution_count": 13,
   "metadata": {
    "ExecuteTime": {
     "end_time": "2019-04-18T19:14:58.883623Z",
     "start_time": "2019-04-18T19:14:58.872787Z"
    }
   },
   "outputs": [
    {
     "name": "stdout",
     "output_type": "stream",
     "text": [
      "delete    a[0:1] --> b[0:0]      'q' --> ''\n",
      "equal     a[1:3] --> b[0:2]     'ab' --> 'ab'\n",
      "replace   a[3:4] --> b[2:3]      'x' --> 'y'\n",
      "equal     a[4:6] --> b[3:5]     'cd' --> 'cd'\n",
      "insert    a[6:6] --> b[5:6]       '' --> 'f'\n"
     ]
    }
   ],
   "source": [
    "a = \"qabxcd\"\n",
    "b = \"abycdf\"\n",
    "s = SequenceMatcher(None, a, b)\n",
    "for tag, i1, i2, j1, j2 in s.get_opcodes():\n",
    "    print('{:7}   a[{}:{}] --> b[{}:{}] {!r:>8} --> {!r}'.format(\n",
    "        tag, i1, i2, j1, j2, a[i1:i2], b[j1:j2]))"
   ]
  },
  {
   "cell_type": "code",
   "execution_count": 14,
   "metadata": {
    "ExecuteTime": {
     "end_time": "2019-04-18T19:15:35.809563Z",
     "start_time": "2019-04-18T19:15:35.804473Z"
    }
   },
   "outputs": [
    {
     "name": "stdout",
     "output_type": "stream",
     "text": [
      "0.866\n"
     ]
    }
   ],
   "source": [
    "s = SequenceMatcher(lambda x: x == \" \",\n",
    "                    \"private Thread currentThread;\",\n",
    "                    \"private volatile Thread currentThread;\")\n",
    "print(round(s.ratio(), 3))"
   ]
  },
  {
   "cell_type": "code",
   "execution_count": 15,
   "metadata": {
    "ExecuteTime": {
     "end_time": "2019-04-18T19:17:39.876460Z",
     "start_time": "2019-04-18T19:17:39.865814Z"
    }
   },
   "outputs": [
    {
     "name": "stdout",
     "output_type": "stream",
     "text": [
      "['    1. Beautiful is better than ugly.\\n',\n",
      " '-   2. Explicit is better than implicit.\\n',\n",
      " '-   3. Simple is better than complex.\\n',\n",
      " '+   3.   Simple is better than complex.\\n',\n",
      " '?     ++\\n',\n",
      " '-   4. Complex is better than complicated.\\n',\n",
      " '?            ^                     ---- ^\\n',\n",
      " '+   4. Complicated is better than complex.\\n',\n",
      " '?           ++++ ^                      ^\\n',\n",
      " '+   5. Flat is better than nested.\\n']\n"
     ]
    }
   ],
   "source": [
    "text1 = '''  1. Beautiful is better than ugly.\n",
    "  2. Explicit is better than implicit.\n",
    "  3. Simple is better than complex.\n",
    "  4. Complex is better than complicated.\n",
    "'''.splitlines(keepends=True)\n",
    "text2 = '''  1. Beautiful is better than ugly.\n",
    "  3.   Simple is better than complex.\n",
    "  4. Complicated is better than complex.\n",
    "  5. Flat is better than nested.\n",
    "'''.splitlines(keepends=True)\n",
    "\n",
    "d = Differ()\n",
    "result = list(d.compare(text1, text2))\n",
    "\n",
    "from pprint import pprint\n",
    "pprint(result)"
   ]
  },
  {
   "cell_type": "code",
   "execution_count": 16,
   "metadata": {
    "ExecuteTime": {
     "end_time": "2019-04-18T19:18:06.950826Z",
     "start_time": "2019-04-18T19:18:06.945137Z"
    },
    "scrolled": true
   },
   "outputs": [
    {
     "name": "stdout",
     "output_type": "stream",
     "text": [
      "    1. Beautiful is better than ugly.\n",
      "-   2. Explicit is better than implicit.\n",
      "-   3. Simple is better than complex.\n",
      "+   3.   Simple is better than complex.\n",
      "?     ++\n",
      "-   4. Complex is better than complicated.\n",
      "?            ^                     ---- ^\n",
      "+   4. Complicated is better than complex.\n",
      "?           ++++ ^                      ^\n",
      "+   5. Flat is better than nested.\n"
     ]
    }
   ],
   "source": [
    ">>> import sys\n",
    ">>> sys.stdout.writelines(result)"
   ]
  }
 ],
 "metadata": {
  "kernelspec": {
   "display_name": "Python 3",
   "language": "python",
   "name": "python3"
  },
  "language_info": {
   "codemirror_mode": {
    "name": "ipython",
    "version": 3
   },
   "file_extension": ".py",
   "mimetype": "text/x-python",
   "name": "python",
   "nbconvert_exporter": "python",
   "pygments_lexer": "ipython3",
   "version": "3.6.4"
  },
  "varInspector": {
   "cols": {
    "lenName": 16,
    "lenType": 16,
    "lenVar": 40
   },
   "kernels_config": {
    "python": {
     "delete_cmd_postfix": "",
     "delete_cmd_prefix": "del ",
     "library": "var_list.py",
     "varRefreshCmd": "print(var_dic_list())"
    },
    "r": {
     "delete_cmd_postfix": ") ",
     "delete_cmd_prefix": "rm(",
     "library": "var_list.r",
     "varRefreshCmd": "cat(var_dic_list()) "
    }
   },
   "types_to_exclude": [
    "module",
    "function",
    "builtin_function_or_method",
    "instance",
    "_Feature"
   ],
   "window_display": false
  }
 },
 "nbformat": 4,
 "nbformat_minor": 2
}
