{
 "cells": [
  {
   "cell_type": "markdown",
   "metadata": {},
   "source": [
    "⊕ [PropBank](http://www.nltk.org/howto/propbank.html)\n"
   ]
  },
  {
   "cell_type": "code",
   "execution_count": 1,
   "metadata": {
    "ExecuteTime": {
     "end_time": "2019-08-02T06:30:07.152738Z",
     "start_time": "2019-08-02T06:30:06.285954Z"
    }
   },
   "outputs": [
    {
     "name": "stdout",
     "output_type": "stream",
     "text": [
      "[<PropbankInstance: wsj_0001.mrg, sent 0, word 8>, <PropbankInstance: wsj_0001.mrg, sent 1, word 10>, ...]\n"
     ]
    }
   ],
   "source": [
    ">>> from nltk.corpus import propbank\n",
    ">>> pb_instances = propbank.instances()\n",
    ">>> print(pb_instances) # doctest: +NORMALIZE_WHITESPACE"
   ]
  },
  {
   "cell_type": "code",
   "execution_count": 2,
   "metadata": {
    "ExecuteTime": {
     "end_time": "2019-08-02T06:30:24.779158Z",
     "start_time": "2019-08-02T06:30:24.758489Z"
    }
   },
   "outputs": [
    {
     "data": {
      "text/plain": [
       "('wsj_0004.mrg', 8, 16)"
      ]
     },
     "execution_count": 2,
     "metadata": {},
     "output_type": "execute_result"
    }
   ],
   "source": [
    ">>> inst = pb_instances[103]\n",
    ">>> (inst.fileid, inst.sentnum, inst.wordnum)"
   ]
  },
  {
   "cell_type": "code",
   "execution_count": 3,
   "metadata": {
    "ExecuteTime": {
     "end_time": "2019-08-02T06:30:34.768851Z",
     "start_time": "2019-08-02T06:30:34.762216Z"
    }
   },
   "outputs": [
    {
     "data": {
      "text/plain": [
       "'gold'"
      ]
     },
     "execution_count": 3,
     "metadata": {},
     "output_type": "execute_result"
    }
   ],
   "source": [
    "inst.tagger"
   ]
  },
  {
   "cell_type": "code",
   "execution_count": 4,
   "metadata": {
    "ExecuteTime": {
     "end_time": "2019-08-02T06:30:43.769093Z",
     "start_time": "2019-08-02T06:30:43.761945Z"
    }
   },
   "outputs": [
    {
     "data": {
      "text/plain": [
       "<PropbankInflection: vp--a>"
      ]
     },
     "execution_count": 4,
     "metadata": {},
     "output_type": "execute_result"
    }
   ],
   "source": [
    "inst.inflection"
   ]
  },
  {
   "cell_type": "code",
   "execution_count": 5,
   "metadata": {
    "ExecuteTime": {
     "end_time": "2019-08-02T06:30:52.844297Z",
     "start_time": "2019-08-02T06:30:52.838502Z"
    }
   },
   "outputs": [],
   "source": [
    "infl = inst.inflection"
   ]
  },
  {
   "cell_type": "code",
   "execution_count": 6,
   "metadata": {
    "ExecuteTime": {
     "end_time": "2019-08-02T06:30:58.568074Z",
     "start_time": "2019-08-02T06:30:58.561274Z"
    }
   },
   "outputs": [
    {
     "data": {
      "text/plain": [
       "('v', 'p', '-', '-', 'a')"
      ]
     },
     "execution_count": 6,
     "metadata": {},
     "output_type": "execute_result"
    }
   ],
   "source": [
    "infl.form, infl.tense, infl.aspect, infl.person, infl.voice"
   ]
  },
  {
   "cell_type": "code",
   "execution_count": 7,
   "metadata": {
    "ExecuteTime": {
     "end_time": "2019-08-02T06:31:16.284352Z",
     "start_time": "2019-08-02T06:31:16.275904Z"
    }
   },
   "outputs": [
    {
     "data": {
      "text/plain": [
       "'rise.01'"
      ]
     },
     "execution_count": 7,
     "metadata": {},
     "output_type": "execute_result"
    }
   ],
   "source": [
    "inst.roleset"
   ]
  },
  {
   "cell_type": "code",
   "execution_count": 8,
   "metadata": {
    "ExecuteTime": {
     "end_time": "2019-08-02T06:31:23.455669Z",
     "start_time": "2019-08-02T06:31:23.448936Z"
    }
   },
   "outputs": [
    {
     "data": {
      "text/plain": [
       "PropbankTreePointer(16, 0)"
      ]
     },
     "execution_count": 8,
     "metadata": {},
     "output_type": "execute_result"
    }
   ],
   "source": [
    "inst.predicate"
   ]
  },
  {
   "cell_type": "code",
   "execution_count": 9,
   "metadata": {
    "ExecuteTime": {
     "end_time": "2019-08-02T06:31:30.215287Z",
     "start_time": "2019-08-02T06:31:30.208642Z"
    }
   },
   "outputs": [
    {
     "data": {
      "text/plain": [
       "((PropbankTreePointer(0, 2), 'ARG1'),\n",
       " (PropbankTreePointer(13, 1), 'ARGM-DIS'),\n",
       " (PropbankTreePointer(17, 1), 'ARG4-to'),\n",
       " (PropbankTreePointer(20, 1), 'ARG3-from'))"
      ]
     },
     "execution_count": 9,
     "metadata": {},
     "output_type": "execute_result"
    }
   ],
   "source": [
    "inst.arguments"
   ]
  },
  {
   "cell_type": "code",
   "execution_count": 10,
   "metadata": {
    "ExecuteTime": {
     "end_time": "2019-08-02T06:31:42.669503Z",
     "start_time": "2019-08-02T06:31:42.662116Z"
    }
   },
   "outputs": [
    {
     "name": "stdout",
     "output_type": "stream",
     "text": [
      "16 0\n"
     ]
    }
   ],
   "source": [
    "print(inst.predicate.wordnum, inst.predicate.height)"
   ]
  },
  {
   "cell_type": "code",
   "execution_count": 11,
   "metadata": {
    "ExecuteTime": {
     "end_time": "2019-08-02T06:31:52.375377Z",
     "start_time": "2019-08-02T06:31:51.965840Z"
    }
   },
   "outputs": [
    {
     "data": {
      "image/png": "[encoded data removed]",
      "text/plain": [
       "Tree('VBD', ['rose'])"
      ]
     },
     "execution_count": 11,
     "metadata": {},
     "output_type": "execute_result"
    }
   ],
   "source": [
    ">>> tree = inst.tree\n",
    ">>> from nltk.corpus import treebank\n",
    ">>> assert tree == treebank.parsed_sents(inst.fileid)[inst.sentnum]\n",
    ">>> inst.predicate.select(tree)"
   ]
  },
  {
   "cell_type": "code",
   "execution_count": 12,
   "metadata": {
    "ExecuteTime": {
     "end_time": "2019-08-02T06:32:04.489489Z",
     "start_time": "2019-08-02T06:32:04.482315Z"
    }
   },
   "outputs": [
    {
     "name": "stdout",
     "output_type": "stream",
     "text": [
      "ARG1       (NP-SBJ (NP (DT The) (NN yield)) (PP (IN on) (NP (\n",
      "ARGM-DIS   (PP (IN for) (NP (NN example)))\n",
      "ARG4-to    (PP-DIR (TO to) (NP (CD 8.04) (NN %)))\n",
      "ARG3-from  (PP-DIR (IN from) (NP (CD 7.90) (NN %)))\n"
     ]
    }
   ],
   "source": [
    ">>> for (argloc, argid) in inst.arguments:\n",
    "...     print('%-10s %s' % (argid, argloc.select(tree).pformat(500)[:50]))"
   ]
  },
  {
   "cell_type": "code",
   "execution_count": 13,
   "metadata": {
    "ExecuteTime": {
     "end_time": "2019-08-02T06:32:25.523758Z",
     "start_time": "2019-08-02T06:32:25.517983Z"
    }
   },
   "outputs": [
    {
     "name": "stdout",
     "output_type": "stream",
     "text": [
      "(4, 0) (VBD rose)\n"
     ]
    }
   ],
   "source": [
    ">>> treepos = inst.predicate.treepos(tree)\n",
    ">>> print (treepos, tree[treepos])"
   ]
  }
 ],
 "metadata": {
  "kernelspec": {
   "display_name": "Python 3",
   "language": "python",
   "name": "python3"
  },
  "language_info": {
   "codemirror_mode": {
    "name": "ipython",
    "version": 3
   },
   "file_extension": ".py",
   "mimetype": "text/x-python",
   "name": "python",
   "nbconvert_exporter": "python",
   "pygments_lexer": "ipython3",
   "version": "3.6.4"
  },
  "varInspector": {
   "cols": {
    "lenName": 16,
    "lenType": 16,
    "lenVar": 40
   },
   "kernels_config": {
    "python": {
     "delete_cmd_postfix": "",
     "delete_cmd_prefix": "del ",
     "library": "var_list.py",
     "varRefreshCmd": "print(var_dic_list())"
    },
    "r": {
     "delete_cmd_postfix": ") ",
     "delete_cmd_prefix": "rm(",
     "library": "var_list.r",
     "varRefreshCmd": "cat(var_dic_list()) "
    }
   },
   "types_to_exclude": [
    "module",
    "function",
    "builtin_function_or_method",
    "instance",
    "_Feature"
   ],
   "window_display": false
  }
 },
 "nbformat": 4,
 "nbformat_minor": 2
}
