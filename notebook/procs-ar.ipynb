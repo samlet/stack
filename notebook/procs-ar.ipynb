{
 "cells": [
  {
   "cell_type": "code",
   "execution_count": 1,
   "metadata": {
    "ExecuteTime": {
     "end_time": "2019-07-12T00:07:39.093965Z",
     "start_time": "2019-07-12T00:07:39.088318Z"
    }
   },
   "outputs": [
    {
     "name": "stdout",
     "output_type": "stream",
     "text": [
      "['أنا', 'والمعلم']\n"
     ]
    }
   ],
   "source": [
    "text='أنا والمعلم'\n",
    "print(text.split(' '))"
   ]
  },
  {
   "cell_type": "code",
   "execution_count": 9,
   "metadata": {
    "ExecuteTime": {
     "end_time": "2019-07-12T00:26:41.613972Z",
     "start_time": "2019-07-12T00:26:37.147999Z"
    }
   },
   "outputs": [
    {
     "name": "stdout",
     "output_type": "stream",
     "text": [
      "✁ أنا والمعلم(I am a teacher ❣ 'ana walmaelim)\n",
      "أنا(I, 'ana) والمعلم(And teacher) .\n",
      "speak language with ar ...\n",
      "done.\n"
     ]
    }
   ],
   "source": [
    "import time\n",
    "from sagas.nlu.nlu_tools import NluTools\n",
    "from sagas.nlu.google_translator import translate\n",
    "\n",
    "def marks(t):\n",
    "    if len(t)>0:\n",
    "        return ','+' '.join(t)[1:]\n",
    "    return ''\n",
    "def process(source, target, text, ips_idx=0):\n",
    "    options=set(['get_pronounce'])\n",
    "    # options.add('get_pronounce')\n",
    "    res,t = translate(text, source=source, target=target,\n",
    "                      trans_verbose=False, options=options)\n",
    "    # print(res, text, t[ips_idx])\n",
    "    print('✁', '%s(%s %s)'%(text, res, ''.join(t)))\n",
    "    for sent in text.split(' '):\n",
    "        res,t = translate(sent, source=source, target=target,\n",
    "                          trans_verbose=False, options=options)\n",
    "        # print(res, sent, t[ips_idx])\n",
    "        print('%s(%s%s)'%(sent,res,marks(t)), end =\" \")\n",
    "        time.sleep(0.05)\n",
    "    print('.')\n",
    "\n",
    "text='أنا والمعلم'\n",
    "target='en'\n",
    "process('ar', target, text)\n",
    "NluTools().say(text, 'ar')"
   ]
  },
  {
   "cell_type": "code",
   "execution_count": 11,
   "metadata": {
    "ExecuteTime": {
     "end_time": "2019-07-12T00:30:18.040458Z",
     "start_time": "2019-07-12T00:30:11.298677Z"
    }
   },
   "outputs": [
    {
     "name": "stdout",
     "output_type": "stream",
     "text": [
      "✁ أنا طالب جامعي صيني.(I am a Chinese university student. ❣ 'ana talab jamiei sini.)\n",
      "أنا(I, 'ana) طالب(Student, talab) جامعي(Collectors, jamiei) صيني.(Chinese., sini.) .\n",
      "speak language with ar ...\n",
      "done.\n"
     ]
    }
   ],
   "source": [
    "def analyse_ar(text):\n",
    "    target='en'\n",
    "    process('ar', target, text)\n",
    "    NluTools().say(text, 'ar')\n",
    "\n",
    "analyse_ar('أنا طالب جامعي صيني.')"
   ]
  },
  {
   "cell_type": "code",
   "execution_count": 4,
   "metadata": {
    "ExecuteTime": {
     "end_time": "2019-07-21T15:49:52.055688Z",
     "start_time": "2019-07-21T15:49:50.326094Z"
    }
   },
   "outputs": [
    {
     "name": "stdout",
     "output_type": "stream",
     "text": [
      "انا معلم.\n"
     ]
    }
   ],
   "source": [
    "from sagas.nlu.google_translator import get_word_map, translate\n",
    "sents='I am a teacher.'\n",
    "r,_ = translate(sents, source='en', target='ar')\n",
    "print(r)"
   ]
  },
  {
   "cell_type": "code",
   "execution_count": 13,
   "metadata": {
    "ExecuteTime": {
     "end_time": "2019-07-12T00:39:15.002667Z",
     "start_time": "2019-07-12T00:39:08.650211Z"
    }
   },
   "outputs": [
    {
     "name": "stdout",
     "output_type": "stream",
     "text": [
      "✁ انا معلم.(I am a teacher. ❣ 'iinaa muelim.)\n",
      "انا(I, 'ana) معلم.(Teacher., muelim.) .\n",
      "speak language with ar ...\n",
      "done.\n"
     ]
    }
   ],
   "source": [
    "analyse_ar(r)"
   ]
  },
  {
   "cell_type": "code",
   "execution_count": 1,
   "metadata": {
    "ExecuteTime": {
     "end_time": "2019-07-21T16:27:08.789829Z",
     "start_time": "2019-07-21T16:27:02.936973Z"
    }
   },
   "outputs": [
    {
     "name": "stdout",
     "output_type": "stream",
     "text": [
      "Use device: cpu\n",
      "---\n",
      "Loading: tokenize\n",
      "With settings: \n",
      "{'model_path': '/pi/ai/corenlp/ar_padt_models/ar_padt_tokenizer.pt', 'lang': 'ar', 'shorthand': 'ar_padt', 'mode': 'predict'}\n",
      "---\n",
      "Loading: mwt\n",
      "With settings: \n",
      "{'model_path': '/pi/ai/corenlp/ar_padt_models/ar_padt_mwt_expander.pt', 'lang': 'ar', 'shorthand': 'ar_padt', 'mode': 'predict'}\n",
      "Building an attentional Seq2Seq model...\n",
      "Using a Bi-LSTM encoder\n",
      "Using soft attention for LSTM.\n",
      "Finetune all embeddings.\n",
      "---\n",
      "Loading: pos\n",
      "With settings: \n",
      "{'model_path': '/pi/ai/corenlp/ar_padt_models/ar_padt_tagger.pt', 'pretrain_path': '/pi/ai/corenlp/ar_padt_models/ar_padt.pretrain.pt', 'lang': 'ar', 'shorthand': 'ar_padt', 'mode': 'predict'}\n",
      "---\n",
      "Loading: lemma\n",
      "With settings: \n",
      "{'model_path': '/pi/ai/corenlp/ar_padt_models/ar_padt_lemmatizer.pt', 'lang': 'ar', 'shorthand': 'ar_padt', 'mode': 'predict'}\n",
      "Building an attentional Seq2Seq model...\n",
      "Using a Bi-LSTM encoder\n",
      "Using soft attention for LSTM.\n",
      "Finetune all embeddings.\n",
      "[Running seq2seq lemmatizer with edit classifier]\n",
      "---\n",
      "Loading: depparse\n",
      "With settings: \n",
      "{'model_path': '/pi/ai/corenlp/ar_padt_models/ar_padt_parser.pt', 'pretrain_path': '/pi/ai/corenlp/ar_padt_models/ar_padt.pretrain.pt', 'lang': 'ar', 'shorthand': 'ar_padt', 'mode': 'predict'}\n",
      "Done loading processors!\n",
      "---\n",
      "text: أنا \tlemma: هُوَ\tupos: PRON\txpos: SP---2MS1-\n",
      "text: طالب \tlemma: طَالِب\tupos: NOUN\txpos: N------S1I\n",
      "text: جامعي \tlemma: جَامِعِيّ\tupos: ADJ\txpos: A-----MS1I\n",
      "text: صيني \tlemma: صِينِيّ\tupos: ADJ\txpos: A-----MS2I\n",
      "('أنا', '2', 'nsubj')\n",
      "('طالب', '0', 'root')\n",
      "('جامعي', '2', 'amod')\n",
      "('صيني', '2', 'amod')\n"
     ]
    },
    {
     "data": {
      "image/svg+xml": [
       "<?xml version=\"1.0\" encoding=\"UTF-8\" standalone=\"no\"?>\n",
       "<!DOCTYPE svg PUBLIC \"-//W3C//DTD SVG 1.1//EN\"\n",
       " \"http://www.w3.org/Graphics/SVG/1.1/DTD/svg11.dtd\">\n",
       "<!-- Generated by graphviz version 2.40.1 (20161225.0304)\n",
       " -->\n",
       "<!-- Title: deps Pages: 1 -->\n",
       "<svg width=\"420pt\" height=\"218pt\"\n",
       " viewBox=\"0.00 0.00 419.65 218.07\" xmlns=\"http://www.w3.org/2000/svg\" xmlns:xlink=\"http://www.w3.org/1999/xlink\">\n",
       "<g id=\"graph0\" class=\"graph\" transform=\"scale(1 1) rotate(0) translate(4 214.072)\">\n",
       "<title>deps</title>\n",
       "<polygon fill=\"#ffffff\" stroke=\"transparent\" points=\"-4,4 -4,-214.072 415.6537,-214.072 415.6537,4 -4,4\"/>\n",
       "<!-- أنا\n",
       "(I, &#39;ana) -->\n",
       "<g id=\"node1\" class=\"node\">\n",
       "<title>أنا\n",
       "(I, &#39;ana)</title>\n",
       "<ellipse fill=\"none\" stroke=\"#000000\" cx=\"318.3792\" cy=\"-181.036\" rx=\"44.6301\" ry=\"29.072\"/>\n",
       "<text text-anchor=\"middle\" x=\"318.3792\" y=\"-186.3675\" font-family=\"Calibri\" font-size=\"14.00\" fill=\"#000000\">أنا</text>\n",
       "<text text-anchor=\"middle\" x=\"318.3792\" y=\"-167.3044\" font-family=\"Calibri\" font-size=\"14.00\" fill=\"#000000\">(I, &#39;ana)</text>\n",
       "</g>\n",
       "<!-- طالب\n",
       "(Student, talab) -->\n",
       "<g id=\"node2\" class=\"node\">\n",
       "<title>طالب\n",
       "(Student, talab)</title>\n",
       "<ellipse fill=\"none\" stroke=\"#000000\" cx=\"79.0005\" cy=\"-86.036\" rx=\"79.0011\" ry=\"29.072\"/>\n",
       "<text text-anchor=\"middle\" x=\"79.0005\" y=\"-91.3675\" font-family=\"Calibri\" font-size=\"14.00\" fill=\"#000000\">طالب</text>\n",
       "<text text-anchor=\"middle\" x=\"79.0005\" y=\"-72.3044\" font-family=\"Calibri\" font-size=\"14.00\" fill=\"#000000\">(Student, talab)</text>\n",
       "</g>\n",
       "<!-- طالب\n",
       "(Student, talab)&#45;&gt;أنا\n",
       "(I, &#39;ana) -->\n",
       "<g id=\"edge1\" class=\"edge\">\n",
       "<title>طالب\n",
       "(Student, talab)&#45;&gt;أنا\n",
       "(I, &#39;ana)</title>\n",
       "<path fill=\"none\" stroke=\"#000000\" d=\"M132.7218,-107.3558C174.109,-123.7808 230.8003,-146.2794 270.6143,-162.08\"/>\n",
       "<polygon fill=\"#000000\" stroke=\"#000000\" points=\"269.5144,-165.409 280.1003,-165.8446 272.0966,-158.9026 269.5144,-165.409\"/>\n",
       "<text text-anchor=\"middle\" x=\"191.5528\" y=\"-138.836\" font-family=\"Times,serif\" font-size=\"14.00\" fill=\"#000000\">nsubj</text>\n",
       "</g>\n",
       "<!-- جامعي\n",
       "(Collectors, jamiei) -->\n",
       "<g id=\"node3\" class=\"node\">\n",
       "<title>جامعي\n",
       "(Collectors, jamiei)</title>\n",
       "<ellipse fill=\"none\" stroke=\"#000000\" cx=\"318.3792\" cy=\"-105.036\" rx=\"93.0497\" ry=\"29.072\"/>\n",
       "<text text-anchor=\"middle\" x=\"318.3792\" y=\"-110.3675\" font-family=\"Calibri\" font-size=\"14.00\" fill=\"#000000\">جامعي</text>\n",
       "<text text-anchor=\"middle\" x=\"318.3792\" y=\"-91.3044\" font-family=\"Calibri\" font-size=\"14.00\" fill=\"#000000\">(Collectors, jamiei)</text>\n",
       "</g>\n",
       "<!-- طالب\n",
       "(Student, talab)&#45;&gt;جامعي\n",
       "(Collectors, jamiei) -->\n",
       "<g id=\"edge3\" class=\"edge\">\n",
       "<title>طالب\n",
       "(Student, talab)&#45;&gt;جامعي\n",
       "(Collectors, jamiei)</title>\n",
       "<path fill=\"none\" stroke=\"#000000\" d=\"M156.3893,-92.1785C175.9932,-93.7345 197.3346,-95.4284 217.8991,-97.0607\"/>\n",
       "<polygon fill=\"#000000\" stroke=\"#000000\" points=\"217.6754,-100.5538 227.921,-97.8561 218.2293,-93.5758 217.6754,-100.5538\"/>\n",
       "<text text-anchor=\"middle\" x=\"191.5528\" y=\"-98.836\" font-family=\"Times,serif\" font-size=\"14.00\" fill=\"#000000\">amod</text>\n",
       "</g>\n",
       "<!-- صيني\n",
       "(Chinese, sini) -->\n",
       "<g id=\"node4\" class=\"node\">\n",
       "<title>صيني\n",
       "(Chinese, sini)</title>\n",
       "<ellipse fill=\"none\" stroke=\"#000000\" cx=\"318.3792\" cy=\"-29.036\" rx=\"74.6651\" ry=\"29.072\"/>\n",
       "<text text-anchor=\"middle\" x=\"318.3792\" y=\"-34.3675\" font-family=\"Calibri\" font-size=\"14.00\" fill=\"#000000\">صيني</text>\n",
       "<text text-anchor=\"middle\" x=\"318.3792\" y=\"-15.3044\" font-family=\"Calibri\" font-size=\"14.00\" fill=\"#000000\">(Chinese, sini)</text>\n",
       "</g>\n",
       "<!-- طالب\n",
       "(Student, talab)&#45;&gt;صيني\n",
       "(Chinese, sini) -->\n",
       "<g id=\"edge4\" class=\"edge\">\n",
       "<title>طالب\n",
       "(Student, talab)&#45;&gt;صيني\n",
       "(Chinese, sini)</title>\n",
       "<path fill=\"none\" stroke=\"#000000\" d=\"M145.3629,-70.234C176.0767,-62.9205 212.6795,-54.2048 244.2919,-46.6774\"/>\n",
       "<polygon fill=\"#000000\" stroke=\"#000000\" points=\"245.4492,-49.9997 254.3665,-44.2785 243.8277,-43.1901 245.4492,-49.9997\"/>\n",
       "<text text-anchor=\"middle\" x=\"191.5528\" y=\"-64.836\" font-family=\"Times,serif\" font-size=\"14.00\" fill=\"#000000\">amod</text>\n",
       "</g>\n",
       "<!-- صيني\n",
       "(Chinese, sini)&#45;&gt;طالب\n",
       "(Student, talab) -->\n",
       "<g id=\"edge2\" class=\"edge\">\n",
       "<title>صيني\n",
       "(Chinese, sini)&#45;&gt;طالب\n",
       "(Student, talab)</title>\n",
       "<path fill=\"none\" stroke=\"#000000\" d=\"M244.98,-23.8304C222.5189,-24.0292 197.9559,-26.0891 176.0011,-32.036 158.1169,-36.8802 139.9859,-45.701 124.3154,-54.8287\"/>\n",
       "<polygon fill=\"#000000\" stroke=\"#000000\" points=\"122.1484,-52.0484 115.3937,-60.2107 125.7642,-58.0423 122.1484,-52.0484\"/>\n",
       "<text text-anchor=\"middle\" x=\"191.5528\" y=\"-34.836\" font-family=\"Times,serif\" font-size=\"14.00\" fill=\"#000000\">root</text>\n",
       "</g>\n",
       "</g>\n",
       "</svg>\n"
      ],
      "text/plain": [
       "<graphviz.dot.Digraph at 0x10cc83048>"
      ]
     },
     "execution_count": 1,
     "metadata": {},
     "output_type": "execute_result"
    }
   ],
   "source": [
    "from sagas.nlu.google_translator import get_word_map, translate\n",
    "from sagas.nlu.corenlp_helper import CoreNlp, CoreNlpViz, get_nlp\n",
    "\n",
    "def tra(sents): \n",
    "    r,_ = translate(sents, source='en', target='ar')\n",
    "    print(r)\n",
    "    return r\n",
    "ana=lambda sents: CoreNlpViz(shape='ellipse', size='8,5', fontsize=20).analyse(sents, get_nlp('ar'), \n",
    "                                       get_word_map('ar','en', sents))\n",
    "ana_en=lambda sents: ana(tra(sents))\n",
    "# ana=lambda sents: CoreNlpViz(shape='ellipse', size='8,5', fontsize=20).analyse(sents, get_nlp('ar'))\n",
    "\n",
    "ana('أنا طالب جامعي صيني')"
   ]
  },
  {
   "cell_type": "code",
   "execution_count": 8,
   "metadata": {
    "ExecuteTime": {
     "end_time": "2019-07-21T15:54:16.953046Z",
     "start_time": "2019-07-21T15:54:15.338074Z"
    }
   },
   "outputs": [
    {
     "name": "stdout",
     "output_type": "stream",
     "text": [
      "انت مدرس\n",
      "text: انت \tlemma: أَنتَى\tupos: PRON\txpos: SP---2MS1-\n",
      "text: مدرس \tlemma: مُدَرِّس\tupos: NOUN\txpos: N------S1I\n",
      "('انت', '2', 'nmod')\n",
      "('مدرس', '0', 'root')\n"
     ]
    },
    {
     "data": {
      "image/svg+xml": [
       "<?xml version=\"1.0\" encoding=\"UTF-8\" standalone=\"no\"?>\n",
       "<!DOCTYPE svg PUBLIC \"-//W3C//DTD SVG 1.1//EN\"\n",
       " \"http://www.w3.org/Graphics/SVG/1.1/DTD/svg11.dtd\">\n",
       "<!-- Generated by graphviz version 2.40.1 (20161225.0304)\n",
       " -->\n",
       "<!-- Title: deps Pages: 1 -->\n",
       "<svg width=\"408pt\" height=\"98pt\"\n",
       " viewBox=\"0.00 0.00 408.12 98.07\" xmlns=\"http://www.w3.org/2000/svg\" xmlns:xlink=\"http://www.w3.org/1999/xlink\">\n",
       "<g id=\"graph0\" class=\"graph\" transform=\"scale(1 1) rotate(0) translate(4 94.072)\">\n",
       "<title>deps</title>\n",
       "<polygon fill=\"#ffffff\" stroke=\"transparent\" points=\"-4,4 -4,-94.072 404.1235,-94.072 404.1235,4 -4,4\"/>\n",
       "<!-- انت\n",
       "(You are, &#39;ant) -->\n",
       "<g id=\"node1\" class=\"node\">\n",
       "<title>انت\n",
       "(You are, &#39;ant)</title>\n",
       "<ellipse fill=\"none\" stroke=\"#000000\" cx=\"327.3005\" cy=\"-29.036\" rx=\"72.6465\" ry=\"29.072\"/>\n",
       "<text text-anchor=\"middle\" x=\"327.3005\" y=\"-34.3675\" font-family=\"Calibri\" font-size=\"14.00\" fill=\"#000000\">انت</text>\n",
       "<text text-anchor=\"middle\" x=\"327.3005\" y=\"-15.3044\" font-family=\"Calibri\" font-size=\"14.00\" fill=\"#000000\">(You are, &#39;ant)</text>\n",
       "</g>\n",
       "<!-- مدرس\n",
       "(Teacher, mudaris) -->\n",
       "<g id=\"node2\" class=\"node\">\n",
       "<title>مدرس\n",
       "(Teacher, mudaris)</title>\n",
       "<ellipse fill=\"none\" stroke=\"#000000\" cx=\"93.2939\" cy=\"-29.036\" rx=\"93.0883\" ry=\"29.072\"/>\n",
       "<text text-anchor=\"middle\" x=\"93.2939\" y=\"-34.3675\" font-family=\"Calibri\" font-size=\"14.00\" fill=\"#000000\">مدرس</text>\n",
       "<text text-anchor=\"middle\" x=\"93.2939\" y=\"-15.3044\" font-family=\"Calibri\" font-size=\"14.00\" fill=\"#000000\">(Teacher, mudaris)</text>\n",
       "</g>\n",
       "<!-- مدرس\n",
       "(Teacher, mudaris)&#45;&gt;انت\n",
       "(You are, &#39;ant) -->\n",
       "<g id=\"edge1\" class=\"edge\">\n",
       "<title>مدرس\n",
       "(Teacher, mudaris)&#45;&gt;انت\n",
       "(You are, &#39;ant)</title>\n",
       "<path fill=\"none\" stroke=\"#000000\" d=\"M186.7883,-29.036C205.6931,-29.036 225.4518,-29.036 243.9789,-29.036\"/>\n",
       "<polygon fill=\"#000000\" stroke=\"#000000\" points=\"244.1318,-32.5361 254.1318,-29.036 244.1317,-25.5361 244.1318,-32.5361\"/>\n",
       "<text text-anchor=\"middle\" x=\"220.5326\" y=\"-31.836\" font-family=\"Times,serif\" font-size=\"14.00\" fill=\"#000000\">nmod</text>\n",
       "</g>\n",
       "<!-- مدرس\n",
       "(Teacher, mudaris)&#45;&gt;مدرس\n",
       "(Teacher, mudaris) -->\n",
       "<g id=\"edge2\" class=\"edge\">\n",
       "<title>مدرس\n",
       "(Teacher, mudaris)&#45;&gt;مدرس\n",
       "(Teacher, mudaris)</title>\n",
       "<path fill=\"none\" stroke=\"#000000\" d=\"M69.692,-57.5092C69.1844,-67.735 77.0517,-76.072 93.2939,-76.072 103.6991,-76.072 110.6672,-72.6505 114.1982,-67.5028\"/>\n",
       "<polygon fill=\"#000000\" stroke=\"#000000\" points=\"117.6687,-68.0758 116.8958,-57.5092 110.9106,-66.2515 117.6687,-68.0758\"/>\n",
       "<text text-anchor=\"middle\" x=\"93.2939\" y=\"-78.872\" font-family=\"Times,serif\" font-size=\"14.00\" fill=\"#000000\">root</text>\n",
       "</g>\n",
       "</g>\n",
       "</svg>\n"
      ],
      "text/plain": [
       "<graphviz.dot.Digraph at 0x137b067b8>"
      ]
     },
     "execution_count": 8,
     "metadata": {},
     "output_type": "execute_result"
    }
   ],
   "source": [
    "ana_en('you are a teacher')"
   ]
  },
  {
   "cell_type": "code",
   "execution_count": 2,
   "metadata": {
    "ExecuteTime": {
     "end_time": "2019-07-21T15:43:33.321067Z",
     "start_time": "2019-07-21T15:43:32.299225Z"
    }
   },
   "outputs": [
    {
     "name": "stdout",
     "output_type": "stream",
     "text": [
      "text: انا \tlemma: انا\tupos: X\txpos: U---------\n",
      "text: معلم \tlemma: مُعَلِّم\tupos: NOUN\txpos: N------S1I\n",
      "('انا', '2', 'nmod')\n",
      "('معلم', '0', 'root')\n"
     ]
    },
    {
     "data": {
      "image/svg+xml": [
       "<?xml version=\"1.0\" encoding=\"UTF-8\" standalone=\"no\"?>\n",
       "<!DOCTYPE svg PUBLIC \"-//W3C//DTD SVG 1.1//EN\"\n",
       " \"http://www.w3.org/Graphics/SVG/1.1/DTD/svg11.dtd\">\n",
       "<!-- Generated by graphviz version 2.40.1 (20161225.0304)\n",
       " -->\n",
       "<!-- Title: deps Pages: 1 -->\n",
       "<svg width=\"363pt\" height=\"98pt\"\n",
       " viewBox=\"0.00 0.00 362.62 98.07\" xmlns=\"http://www.w3.org/2000/svg\" xmlns:xlink=\"http://www.w3.org/1999/xlink\">\n",
       "<g id=\"graph0\" class=\"graph\" transform=\"scale(1 1) rotate(0) translate(4 94.072)\">\n",
       "<title>deps</title>\n",
       "<polygon fill=\"#ffffff\" stroke=\"transparent\" points=\"-4,4 -4,-94.072 358.6187,-94.072 358.6187,4 -4,4\"/>\n",
       "<!-- انا\n",
       "(I, &#39;ana) -->\n",
       "<g id=\"node1\" class=\"node\">\n",
       "<title>انا\n",
       "(I, &#39;ana)</title>\n",
       "<ellipse fill=\"none\" stroke=\"#000000\" cx=\"310.0537\" cy=\"-29.036\" rx=\"44.6301\" ry=\"29.072\"/>\n",
       "<text text-anchor=\"middle\" x=\"310.0537\" y=\"-34.3675\" font-family=\"Calibri\" font-size=\"14.00\" fill=\"#000000\">انا</text>\n",
       "<text text-anchor=\"middle\" x=\"310.0537\" y=\"-15.3044\" font-family=\"Calibri\" font-size=\"14.00\" fill=\"#000000\">(I, &#39;ana)</text>\n",
       "</g>\n",
       "<!-- معلم\n",
       "(Teacher, muealam) -->\n",
       "<g id=\"node2\" class=\"node\">\n",
       "<title>معلم\n",
       "(Teacher, muealam)</title>\n",
       "<ellipse fill=\"none\" stroke=\"#000000\" cx=\"98.7995\" cy=\"-29.036\" rx=\"98.5995\" ry=\"29.072\"/>\n",
       "<text text-anchor=\"middle\" x=\"98.7995\" y=\"-34.3675\" font-family=\"Calibri\" font-size=\"14.00\" fill=\"#000000\">معلم</text>\n",
       "<text text-anchor=\"middle\" x=\"98.7995\" y=\"-15.3044\" font-family=\"Calibri\" font-size=\"14.00\" fill=\"#000000\">(Teacher, muealam)</text>\n",
       "</g>\n",
       "<!-- معلم\n",
       "(Teacher, muealam)&#45;&gt;انا\n",
       "(I, &#39;ana) -->\n",
       "<g id=\"edge1\" class=\"edge\">\n",
       "<title>معلم\n",
       "(Teacher, muealam)&#45;&gt;انا\n",
       "(I, &#39;ana)</title>\n",
       "<path fill=\"none\" stroke=\"#000000\" d=\"M197.6228,-29.036C217.4614,-29.036 237.6213,-29.036 255.2879,-29.036\"/>\n",
       "<polygon fill=\"#000000\" stroke=\"#000000\" points=\"255.3803,-32.5361 265.3802,-29.036 255.3802,-25.5361 255.3803,-32.5361\"/>\n",
       "<text text-anchor=\"middle\" x=\"231.5439\" y=\"-31.836\" font-family=\"Times,serif\" font-size=\"14.00\" fill=\"#000000\">nmod</text>\n",
       "</g>\n",
       "<!-- معلم\n",
       "(Teacher, muealam)&#45;&gt;معلم\n",
       "(Teacher, muealam) -->\n",
       "<g id=\"edge2\" class=\"edge\">\n",
       "<title>معلم\n",
       "(Teacher, muealam)&#45;&gt;معلم\n",
       "(Teacher, muealam)</title>\n",
       "<path fill=\"none\" stroke=\"#000000\" d=\"M74.0737,-57.5092C73.542,-67.735 81.7839,-76.072 98.7995,-76.072 109.7002,-76.072 117.0001,-72.6505 120.6993,-67.5028\"/>\n",
       "<polygon fill=\"#000000\" stroke=\"#000000\" points=\"124.172,-68.0843 123.5254,-57.5092 117.4362,-66.1794 124.172,-68.0843\"/>\n",
       "<text text-anchor=\"middle\" x=\"98.7995\" y=\"-78.872\" font-family=\"Times,serif\" font-size=\"14.00\" fill=\"#000000\">root</text>\n",
       "</g>\n",
       "</g>\n",
       "</svg>\n"
      ],
      "text/plain": [
       "<graphviz.dot.Digraph at 0x107582c88>"
      ]
     },
     "execution_count": 2,
     "metadata": {},
     "output_type": "execute_result"
    }
   ],
   "source": [
    "ana('انا معلم')"
   ]
  },
  {
   "cell_type": "code",
   "execution_count": 6,
   "metadata": {
    "ExecuteTime": {
     "end_time": "2019-07-21T15:14:19.313010Z",
     "start_time": "2019-07-21T15:14:19.304047Z"
    }
   },
   "outputs": [
    {
     "name": "stdout",
     "output_type": "stream",
     "text": [
      "انا\n",
      "معلم\n",
      "انا\n",
      "(x)\n",
      "معلم\n",
      "(x)\n"
     ]
    }
   ],
   "source": [
    "text='انا معلم'\n",
    "rs = {}\n",
    "for sent in text.split(' '):\n",
    "    print(sent)\n",
    "    rs[sent] = '%s\\n(%s)' % (sent, 'x')\n",
    "for sent in text.split(' '):\n",
    "    print(rs[sent])"
   ]
  },
  {
   "cell_type": "code",
   "execution_count": 9,
   "metadata": {
    "ExecuteTime": {
     "end_time": "2019-07-21T15:56:22.918953Z",
     "start_time": "2019-07-21T15:56:20.805768Z"
    }
   },
   "outputs": [
    {
     "name": "stdout",
     "output_type": "stream",
     "text": [
      "انا من اليابان\n",
      "text: انا \tlemma: انا\tupos: X\txpos: U---------\n",
      "text: من \tlemma: مِن\tupos: ADP\txpos: P---------\n",
      "text: اليابان \tlemma: اَليَابَان\tupos: NOUN\txpos: N------S2D\n",
      "('انا', '0', 'root')\n",
      "('من', '3', 'case')\n",
      "('اليابان', '1', 'nmod')\n"
     ]
    },
    {
     "data": {
      "image/svg+xml": [
       "<?xml version=\"1.0\" encoding=\"UTF-8\" standalone=\"no\"?>\n",
       "<!DOCTYPE svg PUBLIC \"-//W3C//DTD SVG 1.1//EN\"\n",
       " \"http://www.w3.org/Graphics/SVG/1.1/DTD/svg11.dtd\">\n",
       "<!-- Generated by graphviz version 2.40.1 (20161225.0304)\n",
       " -->\n",
       "<!-- Title: deps Pages: 1 -->\n",
       "<svg width=\"520pt\" height=\"66pt\"\n",
       " viewBox=\"0.00 0.00 520.13 66.07\" xmlns=\"http://www.w3.org/2000/svg\" xmlns:xlink=\"http://www.w3.org/1999/xlink\">\n",
       "<g id=\"graph0\" class=\"graph\" transform=\"scale(1 1) rotate(0) translate(4 62.072)\">\n",
       "<title>deps</title>\n",
       "<polygon fill=\"#ffffff\" stroke=\"transparent\" points=\"-4,4 -4,-62.072 516.1332,-62.072 516.1332,4 -4,4\"/>\n",
       "<!-- انا\n",
       "(I, &#39;ana) -->\n",
       "<g id=\"node1\" class=\"node\">\n",
       "<title>انا\n",
       "(I, &#39;ana)</title>\n",
       "<ellipse fill=\"none\" stroke=\"#000000\" cx=\"44.565\" cy=\"-29.036\" rx=\"44.6301\" ry=\"29.072\"/>\n",
       "<text text-anchor=\"middle\" x=\"44.565\" y=\"-34.3675\" font-family=\"Calibri\" font-size=\"14.00\" fill=\"#000000\">انا</text>\n",
       "<text text-anchor=\"middle\" x=\"44.565\" y=\"-15.3044\" font-family=\"Calibri\" font-size=\"14.00\" fill=\"#000000\">(I, &#39;ana)</text>\n",
       "</g>\n",
       "<!-- اليابان\n",
       "(Japan, alyaban) -->\n",
       "<g id=\"node3\" class=\"node\">\n",
       "<title>اليابان\n",
       "(Japan, alyaban)</title>\n",
       "<ellipse fill=\"none\" stroke=\"#000000\" cx=\"242.0768\" cy=\"-29.036\" rx=\"85.1145\" ry=\"29.072\"/>\n",
       "<text text-anchor=\"middle\" x=\"242.0768\" y=\"-34.3675\" font-family=\"Calibri\" font-size=\"14.00\" fill=\"#000000\">اليابان</text>\n",
       "<text text-anchor=\"middle\" x=\"242.0768\" y=\"-15.3044\" font-family=\"Calibri\" font-size=\"14.00\" fill=\"#000000\">(Japan, alyaban)</text>\n",
       "</g>\n",
       "<!-- انا\n",
       "(I, &#39;ana)&#45;&gt;اليابان\n",
       "(Japan, alyaban) -->\n",
       "<g id=\"edge3\" class=\"edge\">\n",
       "<title>انا\n",
       "(I, &#39;ana)&#45;&gt;اليابان\n",
       "(Japan, alyaban)</title>\n",
       "<path fill=\"none\" stroke=\"#000000\" d=\"M89.3835,-29.036C106.5201,-29.036 126.7823,-29.036 146.8499,-29.036\"/>\n",
       "<polygon fill=\"#000000\" stroke=\"#000000\" points=\"146.9886,-32.5361 156.9885,-29.036 146.9885,-25.5361 146.9886,-32.5361\"/>\n",
       "<text text-anchor=\"middle\" x=\"123.0748\" y=\"-31.836\" font-family=\"Times,serif\" font-size=\"14.00\" fill=\"#000000\">nmod</text>\n",
       "</g>\n",
       "<!-- من\n",
       "(From, min) -->\n",
       "<g id=\"node2\" class=\"node\">\n",
       "<title>من\n",
       "(From, min)</title>\n",
       "<ellipse fill=\"none\" stroke=\"#000000\" cx=\"449.6786\" cy=\"-29.036\" rx=\"62.4093\" ry=\"29.072\"/>\n",
       "<text text-anchor=\"middle\" x=\"449.6786\" y=\"-34.3675\" font-family=\"Calibri\" font-size=\"14.00\" fill=\"#000000\">من</text>\n",
       "<text text-anchor=\"middle\" x=\"449.6786\" y=\"-15.3044\" font-family=\"Calibri\" font-size=\"14.00\" fill=\"#000000\">(From, min)</text>\n",
       "</g>\n",
       "<!-- اليابان\n",
       "(Japan, alyaban)&#45;&gt;انا\n",
       "(I, &#39;ana) -->\n",
       "<g id=\"edge1\" class=\"edge\">\n",
       "<title>اليابان\n",
       "(Japan, alyaban)&#45;&gt;انا\n",
       "(I, &#39;ana)</title>\n",
       "<path fill=\"none\" stroke=\"#000000\" d=\"M170.6163,-13.1303C150.1098,-10.4374 127.7272,-9.2875 107.13,-12.036 103.164,-12.5652 99.0932,-13.2752 95.023,-14.1056\"/>\n",
       "<polygon fill=\"#000000\" stroke=\"#000000\" points=\"93.9469,-10.7606 84.9672,-16.3834 95.4934,-17.5877 93.9469,-10.7606\"/>\n",
       "<text text-anchor=\"middle\" x=\"123.0748\" y=\"-14.836\" font-family=\"Times,serif\" font-size=\"14.00\" fill=\"#000000\">root</text>\n",
       "</g>\n",
       "<!-- اليابان\n",
       "(Japan, alyaban)&#45;&gt;من\n",
       "(From, min) -->\n",
       "<g id=\"edge2\" class=\"edge\">\n",
       "<title>اليابان\n",
       "(Japan, alyaban)&#45;&gt;من\n",
       "(From, min)</title>\n",
       "<path fill=\"none\" stroke=\"#000000\" d=\"M327.4151,-29.036C343.8365,-29.036 360.8948,-29.036 376.8742,-29.036\"/>\n",
       "<polygon fill=\"#000000\" stroke=\"#000000\" points=\"377.2016,-32.5361 387.2015,-29.036 377.2015,-25.5361 377.2016,-32.5361\"/>\n",
       "<text text-anchor=\"middle\" x=\"357.179\" y=\"-31.836\" font-family=\"Times,serif\" font-size=\"14.00\" fill=\"#000000\">case</text>\n",
       "</g>\n",
       "</g>\n",
       "</svg>\n"
      ],
      "text/plain": [
       "<graphviz.dot.Digraph at 0x118748d68>"
      ]
     },
     "execution_count": 9,
     "metadata": {},
     "output_type": "execute_result"
    }
   ],
   "source": [
    "ana_en('I am from Japan')"
   ]
  },
  {
   "cell_type": "code",
   "execution_count": 4,
   "metadata": {
    "ExecuteTime": {
     "end_time": "2019-07-21T16:30:15.851297Z",
     "start_time": "2019-07-21T16:30:14.438140Z"
    }
   },
   "outputs": [
    {
     "name": "stdout",
     "output_type": "stream",
     "text": [
      "أنا أدعمك\n",
      "text: أنا \tlemma: هُوَ\tupos: PRON\txpos: SP---2MS1-\n",
      "text: أدعمك \tlemma: أَدُعمُك\tupos: X\txpos: U---------\n",
      "('أنا', '2', 'nmod')\n",
      "('أدعمك', '0', 'root')\n"
     ]
    },
    {
     "data": {
      "image/svg+xml": [
       "<?xml version=\"1.0\" encoding=\"UTF-8\" standalone=\"no\"?>\n",
       "<!DOCTYPE svg PUBLIC \"-//W3C//DTD SVG 1.1//EN\"\n",
       " \"http://www.w3.org/Graphics/SVG/1.1/DTD/svg11.dtd\">\n",
       "<!-- Generated by graphviz version 2.40.1 (20161225.0304)\n",
       " -->\n",
       "<!-- Title: deps Pages: 1 -->\n",
       "<svg width=\"405pt\" height=\"98pt\"\n",
       " viewBox=\"0.00 0.00 404.91 98.07\" xmlns=\"http://www.w3.org/2000/svg\" xmlns:xlink=\"http://www.w3.org/1999/xlink\">\n",
       "<g id=\"graph0\" class=\"graph\" transform=\"scale(1 1) rotate(0) translate(4 94.072)\">\n",
       "<title>deps</title>\n",
       "<polygon fill=\"#ffffff\" stroke=\"transparent\" points=\"-4,4 -4,-94.072 400.9139,-94.072 400.9139,4 -4,4\"/>\n",
       "<!-- أنا\n",
       "(I, &#39;ana) -->\n",
       "<g id=\"node1\" class=\"node\">\n",
       "<title>أنا\n",
       "(I, &#39;ana)</title>\n",
       "<ellipse fill=\"none\" stroke=\"#000000\" cx=\"352.3489\" cy=\"-29.036\" rx=\"44.6301\" ry=\"29.072\"/>\n",
       "<text text-anchor=\"middle\" x=\"352.3489\" y=\"-34.3675\" font-family=\"Calibri\" font-size=\"14.00\" fill=\"#000000\">أنا</text>\n",
       "<text text-anchor=\"middle\" x=\"352.3489\" y=\"-15.3044\" font-family=\"Calibri\" font-size=\"14.00\" fill=\"#000000\">(I, &#39;ana)</text>\n",
       "</g>\n",
       "<!-- أدعمك\n",
       "(I support you, &#39;adeimuk) -->\n",
       "<g id=\"node2\" class=\"node\">\n",
       "<title>أدعمك\n",
       "(I support you, &#39;adeimuk)</title>\n",
       "<ellipse fill=\"none\" stroke=\"#000000\" cx=\"119.9471\" cy=\"-29.036\" rx=\"119.8943\" ry=\"29.072\"/>\n",
       "<text text-anchor=\"middle\" x=\"119.9471\" y=\"-34.3675\" font-family=\"Calibri\" font-size=\"14.00\" fill=\"#000000\">أدعمك</text>\n",
       "<text text-anchor=\"middle\" x=\"119.9471\" y=\"-15.3044\" font-family=\"Calibri\" font-size=\"14.00\" fill=\"#000000\">(I support you, &#39;adeimuk)</text>\n",
       "</g>\n",
       "<!-- أدعمك\n",
       "(I support you, &#39;adeimuk)&#45;&gt;أنا\n",
       "(I, &#39;ana) -->\n",
       "<g id=\"edge1\" class=\"edge\">\n",
       "<title>أدعمك\n",
       "(I support you, &#39;adeimuk)&#45;&gt;أنا\n",
       "(I, &#39;ana)</title>\n",
       "<path fill=\"none\" stroke=\"#000000\" d=\"M240.2325,-29.036C260.1358,-29.036 279.8792,-29.036 297.123,-29.036\"/>\n",
       "<polygon fill=\"#000000\" stroke=\"#000000\" points=\"297.5159,-32.5361 307.5158,-29.036 297.5158,-25.5361 297.5159,-32.5361\"/>\n",
       "<text text-anchor=\"middle\" x=\"273.8391\" y=\"-31.836\" font-family=\"Times,serif\" font-size=\"14.00\" fill=\"#000000\">nmod</text>\n",
       "</g>\n",
       "<!-- أدعمك\n",
       "(I support you, &#39;adeimuk)&#45;&gt;أدعمك\n",
       "(I support you, &#39;adeimuk) -->\n",
       "<g id=\"edge2\" class=\"edge\">\n",
       "<title>أدعمك\n",
       "(I support you, &#39;adeimuk)&#45;&gt;أدعمك\n",
       "(I support you, &#39;adeimuk)</title>\n",
       "<path fill=\"none\" stroke=\"#000000\" d=\"M91.475,-57.5092C90.8627,-67.735 100.3534,-76.072 119.9471,-76.072 132.8055,-76.072 141.3129,-72.4815 145.4693,-67.1231\"/>\n",
       "<polygon fill=\"#000000\" stroke=\"#000000\" points=\"148.8317,-68.096 148.4193,-57.5092 142.1397,-66.0425 148.8317,-68.096\"/>\n",
       "<text text-anchor=\"middle\" x=\"119.9471\" y=\"-78.872\" font-family=\"Times,serif\" font-size=\"14.00\" fill=\"#000000\">root</text>\n",
       "</g>\n",
       "</g>\n",
       "</svg>\n"
      ],
      "text/plain": [
       "<graphviz.dot.Digraph at 0x11dd0beb8>"
      ]
     },
     "metadata": {},
     "output_type": "display_data"
    }
   ],
   "source": [
    "# ana_en('Full support for Arabic')\n",
    "r=ana_en('I support you')\n",
    "display(r)"
   ]
  },
  {
   "cell_type": "code",
   "execution_count": 2,
   "metadata": {
    "ExecuteTime": {
     "end_time": "2019-07-21T16:27:23.768336Z",
     "start_time": "2019-07-21T16:27:23.762490Z"
    }
   },
   "outputs": [],
   "source": [
    "def ana_s(sents):\n",
    "    for sent in sents:\n",
    "        print(sent)\n",
    "        r=ana(sent)\n",
    "        display(r)"
   ]
  },
  {
   "cell_type": "code",
   "execution_count": 3,
   "metadata": {
    "ExecuteTime": {
     "end_time": "2019-07-21T16:27:30.738661Z",
     "start_time": "2019-07-21T16:27:27.165283Z"
    }
   },
   "outputs": [
    {
     "name": "stdout",
     "output_type": "stream",
     "text": [
      "أنا أدعمك\n",
      "text: أنا \tlemma: هُوَ\tupos: PRON\txpos: SP---2MS1-\n",
      "text: أدعمك \tlemma: أَدُعمُك\tupos: X\txpos: U---------\n",
      "('أنا', '2', 'nmod')\n",
      "('أدعمك', '0', 'root')\n"
     ]
    },
    {
     "data": {
      "image/svg+xml": [
       "<?xml version=\"1.0\" encoding=\"UTF-8\" standalone=\"no\"?>\n",
       "<!DOCTYPE svg PUBLIC \"-//W3C//DTD SVG 1.1//EN\"\n",
       " \"http://www.w3.org/Graphics/SVG/1.1/DTD/svg11.dtd\">\n",
       "<!-- Generated by graphviz version 2.40.1 (20161225.0304)\n",
       " -->\n",
       "<!-- Title: deps Pages: 1 -->\n",
       "<svg width=\"405pt\" height=\"98pt\"\n",
       " viewBox=\"0.00 0.00 404.91 98.07\" xmlns=\"http://www.w3.org/2000/svg\" xmlns:xlink=\"http://www.w3.org/1999/xlink\">\n",
       "<g id=\"graph0\" class=\"graph\" transform=\"scale(1 1) rotate(0) translate(4 94.072)\">\n",
       "<title>deps</title>\n",
       "<polygon fill=\"#ffffff\" stroke=\"transparent\" points=\"-4,4 -4,-94.072 400.9139,-94.072 400.9139,4 -4,4\"/>\n",
       "<!-- أنا\n",
       "(I, &#39;ana) -->\n",
       "<g id=\"node1\" class=\"node\">\n",
       "<title>أنا\n",
       "(I, &#39;ana)</title>\n",
       "<ellipse fill=\"none\" stroke=\"#000000\" cx=\"352.3489\" cy=\"-29.036\" rx=\"44.6301\" ry=\"29.072\"/>\n",
       "<text text-anchor=\"middle\" x=\"352.3489\" y=\"-34.3675\" font-family=\"Calibri\" font-size=\"14.00\" fill=\"#000000\">أنا</text>\n",
       "<text text-anchor=\"middle\" x=\"352.3489\" y=\"-15.3044\" font-family=\"Calibri\" font-size=\"14.00\" fill=\"#000000\">(I, &#39;ana)</text>\n",
       "</g>\n",
       "<!-- أدعمك\n",
       "(I support you, &#39;adeimuk) -->\n",
       "<g id=\"node2\" class=\"node\">\n",
       "<title>أدعمك\n",
       "(I support you, &#39;adeimuk)</title>\n",
       "<ellipse fill=\"none\" stroke=\"#000000\" cx=\"119.9471\" cy=\"-29.036\" rx=\"119.8943\" ry=\"29.072\"/>\n",
       "<text text-anchor=\"middle\" x=\"119.9471\" y=\"-34.3675\" font-family=\"Calibri\" font-size=\"14.00\" fill=\"#000000\">أدعمك</text>\n",
       "<text text-anchor=\"middle\" x=\"119.9471\" y=\"-15.3044\" font-family=\"Calibri\" font-size=\"14.00\" fill=\"#000000\">(I support you, &#39;adeimuk)</text>\n",
       "</g>\n",
       "<!-- أدعمك\n",
       "(I support you, &#39;adeimuk)&#45;&gt;أنا\n",
       "(I, &#39;ana) -->\n",
       "<g id=\"edge1\" class=\"edge\">\n",
       "<title>أدعمك\n",
       "(I support you, &#39;adeimuk)&#45;&gt;أنا\n",
       "(I, &#39;ana)</title>\n",
       "<path fill=\"none\" stroke=\"#000000\" d=\"M240.2325,-29.036C260.1358,-29.036 279.8792,-29.036 297.123,-29.036\"/>\n",
       "<polygon fill=\"#000000\" stroke=\"#000000\" points=\"297.5159,-32.5361 307.5158,-29.036 297.5158,-25.5361 297.5159,-32.5361\"/>\n",
       "<text text-anchor=\"middle\" x=\"273.8391\" y=\"-31.836\" font-family=\"Times,serif\" font-size=\"14.00\" fill=\"#000000\">nmod</text>\n",
       "</g>\n",
       "<!-- أدعمك\n",
       "(I support you, &#39;adeimuk)&#45;&gt;أدعمك\n",
       "(I support you, &#39;adeimuk) -->\n",
       "<g id=\"edge2\" class=\"edge\">\n",
       "<title>أدعمك\n",
       "(I support you, &#39;adeimuk)&#45;&gt;أدعمك\n",
       "(I support you, &#39;adeimuk)</title>\n",
       "<path fill=\"none\" stroke=\"#000000\" d=\"M91.475,-57.5092C90.8627,-67.735 100.3534,-76.072 119.9471,-76.072 132.8055,-76.072 141.3129,-72.4815 145.4693,-67.1231\"/>\n",
       "<polygon fill=\"#000000\" stroke=\"#000000\" points=\"148.8317,-68.096 148.4193,-57.5092 142.1397,-66.0425 148.8317,-68.096\"/>\n",
       "<text text-anchor=\"middle\" x=\"119.9471\" y=\"-78.872\" font-family=\"Times,serif\" font-size=\"14.00\" fill=\"#000000\">root</text>\n",
       "</g>\n",
       "</g>\n",
       "</svg>\n"
      ],
      "text/plain": [
       "<graphviz.dot.Digraph at 0x10cc83470>"
      ]
     },
     "metadata": {},
     "output_type": "display_data"
    },
    {
     "name": "stdout",
     "output_type": "stream",
     "text": [
      "انا معلم\n",
      "text: انا \tlemma: انا\tupos: X\txpos: U---------\n",
      "text: معلم \tlemma: مُعَلِّم\tupos: NOUN\txpos: N------S1I\n",
      "('انا', '2', 'nmod')\n",
      "('معلم', '0', 'root')\n"
     ]
    },
    {
     "data": {
      "image/svg+xml": [
       "<?xml version=\"1.0\" encoding=\"UTF-8\" standalone=\"no\"?>\n",
       "<!DOCTYPE svg PUBLIC \"-//W3C//DTD SVG 1.1//EN\"\n",
       " \"http://www.w3.org/Graphics/SVG/1.1/DTD/svg11.dtd\">\n",
       "<!-- Generated by graphviz version 2.40.1 (20161225.0304)\n",
       " -->\n",
       "<!-- Title: deps Pages: 1 -->\n",
       "<svg width=\"363pt\" height=\"98pt\"\n",
       " viewBox=\"0.00 0.00 362.62 98.07\" xmlns=\"http://www.w3.org/2000/svg\" xmlns:xlink=\"http://www.w3.org/1999/xlink\">\n",
       "<g id=\"graph0\" class=\"graph\" transform=\"scale(1 1) rotate(0) translate(4 94.072)\">\n",
       "<title>deps</title>\n",
       "<polygon fill=\"#ffffff\" stroke=\"transparent\" points=\"-4,4 -4,-94.072 358.6187,-94.072 358.6187,4 -4,4\"/>\n",
       "<!-- انا\n",
       "(I, &#39;ana) -->\n",
       "<g id=\"node1\" class=\"node\">\n",
       "<title>انا\n",
       "(I, &#39;ana)</title>\n",
       "<ellipse fill=\"none\" stroke=\"#000000\" cx=\"310.0537\" cy=\"-29.036\" rx=\"44.6301\" ry=\"29.072\"/>\n",
       "<text text-anchor=\"middle\" x=\"310.0537\" y=\"-34.3675\" font-family=\"Calibri\" font-size=\"14.00\" fill=\"#000000\">انا</text>\n",
       "<text text-anchor=\"middle\" x=\"310.0537\" y=\"-15.3044\" font-family=\"Calibri\" font-size=\"14.00\" fill=\"#000000\">(I, &#39;ana)</text>\n",
       "</g>\n",
       "<!-- معلم\n",
       "(Teacher, muealam) -->\n",
       "<g id=\"node2\" class=\"node\">\n",
       "<title>معلم\n",
       "(Teacher, muealam)</title>\n",
       "<ellipse fill=\"none\" stroke=\"#000000\" cx=\"98.7995\" cy=\"-29.036\" rx=\"98.5995\" ry=\"29.072\"/>\n",
       "<text text-anchor=\"middle\" x=\"98.7995\" y=\"-34.3675\" font-family=\"Calibri\" font-size=\"14.00\" fill=\"#000000\">معلم</text>\n",
       "<text text-anchor=\"middle\" x=\"98.7995\" y=\"-15.3044\" font-family=\"Calibri\" font-size=\"14.00\" fill=\"#000000\">(Teacher, muealam)</text>\n",
       "</g>\n",
       "<!-- معلم\n",
       "(Teacher, muealam)&#45;&gt;انا\n",
       "(I, &#39;ana) -->\n",
       "<g id=\"edge1\" class=\"edge\">\n",
       "<title>معلم\n",
       "(Teacher, muealam)&#45;&gt;انا\n",
       "(I, &#39;ana)</title>\n",
       "<path fill=\"none\" stroke=\"#000000\" d=\"M197.6228,-29.036C217.4614,-29.036 237.6213,-29.036 255.2879,-29.036\"/>\n",
       "<polygon fill=\"#000000\" stroke=\"#000000\" points=\"255.3803,-32.5361 265.3802,-29.036 255.3802,-25.5361 255.3803,-32.5361\"/>\n",
       "<text text-anchor=\"middle\" x=\"231.5439\" y=\"-31.836\" font-family=\"Times,serif\" font-size=\"14.00\" fill=\"#000000\">nmod</text>\n",
       "</g>\n",
       "<!-- معلم\n",
       "(Teacher, muealam)&#45;&gt;معلم\n",
       "(Teacher, muealam) -->\n",
       "<g id=\"edge2\" class=\"edge\">\n",
       "<title>معلم\n",
       "(Teacher, muealam)&#45;&gt;معلم\n",
       "(Teacher, muealam)</title>\n",
       "<path fill=\"none\" stroke=\"#000000\" d=\"M74.0737,-57.5092C73.542,-67.735 81.7839,-76.072 98.7995,-76.072 109.7002,-76.072 117.0001,-72.6505 120.6993,-67.5028\"/>\n",
       "<polygon fill=\"#000000\" stroke=\"#000000\" points=\"124.172,-68.0843 123.5254,-57.5092 117.4362,-66.1794 124.172,-68.0843\"/>\n",
       "<text text-anchor=\"middle\" x=\"98.7995\" y=\"-78.872\" font-family=\"Times,serif\" font-size=\"14.00\" fill=\"#000000\">root</text>\n",
       "</g>\n",
       "</g>\n",
       "</svg>\n"
      ],
      "text/plain": [
       "<graphviz.dot.Digraph at 0x10f27a6d8>"
      ]
     },
     "metadata": {},
     "output_type": "display_data"
    },
    {
     "name": "stdout",
     "output_type": "stream",
     "text": [
      "انا من اليابان\n",
      "text: انا \tlemma: انا\tupos: X\txpos: U---------\n",
      "text: من \tlemma: مِن\tupos: ADP\txpos: P---------\n",
      "text: اليابان \tlemma: اَليَابَان\tupos: NOUN\txpos: N------S2D\n",
      "('انا', '0', 'root')\n",
      "('من', '3', 'case')\n",
      "('اليابان', '1', 'nmod')\n"
     ]
    },
    {
     "data": {
      "image/svg+xml": [
       "<?xml version=\"1.0\" encoding=\"UTF-8\" standalone=\"no\"?>\n",
       "<!DOCTYPE svg PUBLIC \"-//W3C//DTD SVG 1.1//EN\"\n",
       " \"http://www.w3.org/Graphics/SVG/1.1/DTD/svg11.dtd\">\n",
       "<!-- Generated by graphviz version 2.40.1 (20161225.0304)\n",
       " -->\n",
       "<!-- Title: deps Pages: 1 -->\n",
       "<svg width=\"520pt\" height=\"66pt\"\n",
       " viewBox=\"0.00 0.00 520.13 66.07\" xmlns=\"http://www.w3.org/2000/svg\" xmlns:xlink=\"http://www.w3.org/1999/xlink\">\n",
       "<g id=\"graph0\" class=\"graph\" transform=\"scale(1 1) rotate(0) translate(4 62.072)\">\n",
       "<title>deps</title>\n",
       "<polygon fill=\"#ffffff\" stroke=\"transparent\" points=\"-4,4 -4,-62.072 516.1332,-62.072 516.1332,4 -4,4\"/>\n",
       "<!-- انا\n",
       "(I, &#39;ana) -->\n",
       "<g id=\"node1\" class=\"node\">\n",
       "<title>انا\n",
       "(I, &#39;ana)</title>\n",
       "<ellipse fill=\"none\" stroke=\"#000000\" cx=\"44.565\" cy=\"-29.036\" rx=\"44.6301\" ry=\"29.072\"/>\n",
       "<text text-anchor=\"middle\" x=\"44.565\" y=\"-34.3675\" font-family=\"Calibri\" font-size=\"14.00\" fill=\"#000000\">انا</text>\n",
       "<text text-anchor=\"middle\" x=\"44.565\" y=\"-15.3044\" font-family=\"Calibri\" font-size=\"14.00\" fill=\"#000000\">(I, &#39;ana)</text>\n",
       "</g>\n",
       "<!-- اليابان\n",
       "(Japan, alyaban) -->\n",
       "<g id=\"node3\" class=\"node\">\n",
       "<title>اليابان\n",
       "(Japan, alyaban)</title>\n",
       "<ellipse fill=\"none\" stroke=\"#000000\" cx=\"242.0768\" cy=\"-29.036\" rx=\"85.1145\" ry=\"29.072\"/>\n",
       "<text text-anchor=\"middle\" x=\"242.0768\" y=\"-34.3675\" font-family=\"Calibri\" font-size=\"14.00\" fill=\"#000000\">اليابان</text>\n",
       "<text text-anchor=\"middle\" x=\"242.0768\" y=\"-15.3044\" font-family=\"Calibri\" font-size=\"14.00\" fill=\"#000000\">(Japan, alyaban)</text>\n",
       "</g>\n",
       "<!-- انا\n",
       "(I, &#39;ana)&#45;&gt;اليابان\n",
       "(Japan, alyaban) -->\n",
       "<g id=\"edge3\" class=\"edge\">\n",
       "<title>انا\n",
       "(I, &#39;ana)&#45;&gt;اليابان\n",
       "(Japan, alyaban)</title>\n",
       "<path fill=\"none\" stroke=\"#000000\" d=\"M89.3835,-29.036C106.5201,-29.036 126.7823,-29.036 146.8499,-29.036\"/>\n",
       "<polygon fill=\"#000000\" stroke=\"#000000\" points=\"146.9886,-32.5361 156.9885,-29.036 146.9885,-25.5361 146.9886,-32.5361\"/>\n",
       "<text text-anchor=\"middle\" x=\"123.0748\" y=\"-31.836\" font-family=\"Times,serif\" font-size=\"14.00\" fill=\"#000000\">nmod</text>\n",
       "</g>\n",
       "<!-- من\n",
       "(From, min) -->\n",
       "<g id=\"node2\" class=\"node\">\n",
       "<title>من\n",
       "(From, min)</title>\n",
       "<ellipse fill=\"none\" stroke=\"#000000\" cx=\"449.6786\" cy=\"-29.036\" rx=\"62.4093\" ry=\"29.072\"/>\n",
       "<text text-anchor=\"middle\" x=\"449.6786\" y=\"-34.3675\" font-family=\"Calibri\" font-size=\"14.00\" fill=\"#000000\">من</text>\n",
       "<text text-anchor=\"middle\" x=\"449.6786\" y=\"-15.3044\" font-family=\"Calibri\" font-size=\"14.00\" fill=\"#000000\">(From, min)</text>\n",
       "</g>\n",
       "<!-- اليابان\n",
       "(Japan, alyaban)&#45;&gt;انا\n",
       "(I, &#39;ana) -->\n",
       "<g id=\"edge1\" class=\"edge\">\n",
       "<title>اليابان\n",
       "(Japan, alyaban)&#45;&gt;انا\n",
       "(I, &#39;ana)</title>\n",
       "<path fill=\"none\" stroke=\"#000000\" d=\"M170.6163,-13.1303C150.1098,-10.4374 127.7272,-9.2875 107.13,-12.036 103.164,-12.5652 99.0932,-13.2752 95.023,-14.1056\"/>\n",
       "<polygon fill=\"#000000\" stroke=\"#000000\" points=\"93.9469,-10.7606 84.9672,-16.3834 95.4934,-17.5877 93.9469,-10.7606\"/>\n",
       "<text text-anchor=\"middle\" x=\"123.0748\" y=\"-14.836\" font-family=\"Times,serif\" font-size=\"14.00\" fill=\"#000000\">root</text>\n",
       "</g>\n",
       "<!-- اليابان\n",
       "(Japan, alyaban)&#45;&gt;من\n",
       "(From, min) -->\n",
       "<g id=\"edge2\" class=\"edge\">\n",
       "<title>اليابان\n",
       "(Japan, alyaban)&#45;&gt;من\n",
       "(From, min)</title>\n",
       "<path fill=\"none\" stroke=\"#000000\" d=\"M327.4151,-29.036C343.8365,-29.036 360.8948,-29.036 376.8742,-29.036\"/>\n",
       "<polygon fill=\"#000000\" stroke=\"#000000\" points=\"377.2016,-32.5361 387.2015,-29.036 377.2015,-25.5361 377.2016,-32.5361\"/>\n",
       "<text text-anchor=\"middle\" x=\"357.179\" y=\"-31.836\" font-family=\"Times,serif\" font-size=\"14.00\" fill=\"#000000\">case</text>\n",
       "</g>\n",
       "</g>\n",
       "</svg>\n"
      ],
      "text/plain": [
       "<graphviz.dot.Digraph at 0x1301345c0>"
      ]
     },
     "metadata": {},
     "output_type": "display_data"
    }
   ],
   "source": [
    "ana_s([    \n",
    "    'أنا أدعمك',\n",
    "    'انا معلم',\n",
    "    'انا من اليابان', \n",
    "])"
   ]
  }
 ],
 "metadata": {
  "kernelspec": {
   "display_name": "Python 3",
   "language": "python",
   "name": "python3"
  },
  "language_info": {
   "codemirror_mode": {
    "name": "ipython",
    "version": 3
   },
   "file_extension": ".py",
   "mimetype": "text/x-python",
   "name": "python",
   "nbconvert_exporter": "python",
   "pygments_lexer": "ipython3",
   "version": "3.6.4"
  },
  "varInspector": {
   "cols": {
    "lenName": 16,
    "lenType": 16,
    "lenVar": 40
   },
   "kernels_config": {
    "python": {
     "delete_cmd_postfix": "",
     "delete_cmd_prefix": "del ",
     "library": "var_list.py",
     "varRefreshCmd": "print(var_dic_list())"
    },
    "r": {
     "delete_cmd_postfix": ") ",
     "delete_cmd_prefix": "rm(",
     "library": "var_list.r",
     "varRefreshCmd": "cat(var_dic_list()) "
    }
   },
   "types_to_exclude": [
    "module",
    "function",
    "builtin_function_or_method",
    "instance",
    "_Feature"
   ],
   "window_display": false
  }
 },
 "nbformat": 4,
 "nbformat_minor": 2
}
