{
 "cells": [
  {
   "cell_type": "code",
   "execution_count": 1,
   "metadata": {
    "ExecuteTime": {
     "end_time": "2020-01-16T04:02:03.226387Z",
     "start_time": "2020-01-16T04:02:03.188927Z"
    }
   },
   "outputs": [],
   "source": [
    "%load_ext autoreload\n",
    "%autoreload 2"
   ]
  },
  {
   "cell_type": "code",
   "execution_count": 11,
   "metadata": {
    "ExecuteTime": {
     "end_time": "2020-01-16T04:16:49.586043Z",
     "start_time": "2020-01-16T04:16:49.560682Z"
    }
   },
   "outputs": [
    {
     "data": {
      "text/plain": [
       "['/Users/xiaofeiwu/jcloud/assets/langs/workspace/rasa/stack/sagas/conf/synonyms/id_def.yml',\n",
       " '/Users/xiaofeiwu/jcloud/assets/langs/workspace/rasa/stack/sagas/conf/synonyms/test_def.yml',\n",
       " '/Users/xiaofeiwu/jcloud/assets/langs/workspace/rasa/stack/sagas/conf/synonyms/pt_def.yml']"
      ]
     },
     "execution_count": 11,
     "metadata": {},
     "output_type": "execute_result"
    }
   ],
   "source": [
    "import ntpath\n",
    "from sagas.conf import resource_dir\n",
    "from fnmatch import fnmatch\n",
    "resource_dir(lambda f: fnmatch(f, '*_def.yml'), 'synonyms', True)"
   ]
  },
  {
   "cell_type": "code",
   "execution_count": 6,
   "metadata": {
    "ExecuteTime": {
     "end_time": "2020-01-16T04:10:53.494725Z",
     "start_time": "2020-01-16T04:10:53.468283Z"
    }
   },
   "outputs": [
    {
     "data": {
      "text/plain": [
       "'pt_def.yml'"
      ]
     },
     "execution_count": 6,
     "metadata": {},
     "output_type": "execute_result"
    }
   ],
   "source": [
    "ntpath.basename('pt_def.yml')"
   ]
  },
  {
   "cell_type": "code",
   "execution_count": 7,
   "metadata": {
    "ExecuteTime": {
     "end_time": "2020-01-16T04:13:15.195155Z",
     "start_time": "2020-01-16T04:13:15.168130Z"
    }
   },
   "outputs": [
    {
     "data": {
      "text/plain": [
       "'/Users/xiaofeiwu/jcloud/assets/langs/workspace/rasa/stack/sagas/conf/synonyms'"
      ]
     },
     "execution_count": 7,
     "metadata": {},
     "output_type": "execute_result"
    }
   ],
   "source": [
    "from sagas.conf import resource_path\n",
    "resource_path('synonyms')"
   ]
  },
  {
   "cell_type": "code",
   "execution_count": 9,
   "metadata": {
    "ExecuteTime": {
     "end_time": "2020-01-16T04:14:26.804244Z",
     "start_time": "2020-01-16T04:14:26.764471Z"
    }
   },
   "outputs": [
    {
     "data": {
      "text/plain": [
       "'/tmp/hello'"
      ]
     },
     "execution_count": 9,
     "metadata": {},
     "output_type": "execute_result"
    }
   ],
   "source": [
    "import os\n",
    "os.path.join('/tmp', 'hello')"
   ]
  }
 ],
 "metadata": {
  "kernelspec": {
   "display_name": "Python 3",
   "language": "python",
   "name": "python3"
  },
  "language_info": {
   "codemirror_mode": {
    "name": "ipython",
    "version": 3
   },
   "file_extension": ".py",
   "mimetype": "text/x-python",
   "name": "python",
   "nbconvert_exporter": "python",
   "pygments_lexer": "ipython3",
   "version": "3.6.9"
  },
  "varInspector": {
   "cols": {
    "lenName": 16,
    "lenType": 16,
    "lenVar": 40
   },
   "kernels_config": {
    "python": {
     "delete_cmd_postfix": "",
     "delete_cmd_prefix": "del ",
     "library": "var_list.py",
     "varRefreshCmd": "print(var_dic_list())"
    },
    "r": {
     "delete_cmd_postfix": ") ",
     "delete_cmd_prefix": "rm(",
     "library": "var_list.r",
     "varRefreshCmd": "cat(var_dic_list()) "
    }
   },
   "types_to_exclude": [
    "module",
    "function",
    "builtin_function_or_method",
    "instance",
    "_Feature"
   ],
   "window_display": false
  }
 },
 "nbformat": 4,
 "nbformat_minor": 2
}
