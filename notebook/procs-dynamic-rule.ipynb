{
 "cells": [
  {
   "cell_type": "markdown",
   "metadata": {},
   "source": [
    "```\n",
    "rs = [Patterns(domains, meta, 2).verb(nsubj_pass=agency, obl=dateins('time')),\n",
    "          Patterns(domains, meta, 2).verb(nsubj_pass=agency, obl=entins('GPE')),\n",
    "          Patterns(domains, meta, 5).entire(intentof('tech', 0.6, True)),\n",
    "          Patterns(domains, meta, 5).verb(nsubj=agency, obl=intentof('context_indicator', 0.6, False)),\n",
    "          Patterns(domains, meta, 5).verb(nsubj=intentof('using', 0.6, False), cop='c_aux'),\n",
    "          ]\n",
    "```"
   ]
  },
  {
   "cell_type": "code",
   "execution_count": 1,
   "metadata": {
    "ExecuteTime": {
     "end_time": "2019-11-17T18:52:48.088511Z",
     "start_time": "2019-11-17T18:52:46.689050Z"
    }
   },
   "outputs": [
    {
     "name": "stdout",
     "output_type": "stream",
     "text": [
      ".. request is {'lang': 'de', 'sents': 'Shenzhen ist das Silicon Valley für Hardware-Firmen'}\n",
      "2019-11-18 02:52:47,896 - root - DEBUG - type=aux_domains\n",
      "2019-11-18 02:52:47,897 - root - DEBUG - word=ist\n",
      "2019-11-18 02:52:47,898 - root - DEBUG - lemma=sein\n",
      "2019-11-18 02:52:47,899 - root - DEBUG - rel=cop\n",
      "2019-11-18 02:52:47,903 - root - DEBUG - governor=4\n",
      "2019-11-18 02:52:47,907 - root - DEBUG - head=Silicon\n",
      "2019-11-18 02:52:47,908 - root - DEBUG - head_pos=propn\n",
      "2019-11-18 02:52:47,912 - root - DEBUG - delegator=False\n",
      "2019-11-18 02:52:47,917 - root - DEBUG - index=2\n",
      "2019-11-18 02:52:47,919 - root - DEBUG - stems=[['nsubj', ['Shenzhen']], ['cop', ['sein']], ['det', ['der']], ['flat', ['Valley']], ['nmod', ['für', 'Hardware', '-', 'Firma']], ['punct', ['.']]]\n"
     ]
    },
    {
     "data": {
      "text/html": [
       "<div>\n",
       "<style scoped>\n",
       "    .dataframe tbody tr th:only-of-type {\n",
       "        vertical-align: middle;\n",
       "    }\n",
       "\n",
       "    .dataframe tbody tr th {\n",
       "        vertical-align: top;\n",
       "    }\n",
       "\n",
       "    .dataframe thead th {\n",
       "        text-align: right;\n",
       "    }\n",
       "</style>\n",
       "<table border=\"1\" class=\"dataframe\">\n",
       "  <thead>\n",
       "    <tr style=\"text-align: right;\">\n",
       "      <th></th>\n",
       "      <th>rel</th>\n",
       "      <th>index</th>\n",
       "      <th>text</th>\n",
       "      <th>lemma</th>\n",
       "      <th>children</th>\n",
       "      <th>features</th>\n",
       "    </tr>\n",
       "  </thead>\n",
       "  <tbody>\n",
       "    <tr>\n",
       "      <th>0</th>\n",
       "      <td>nsubj</td>\n",
       "      <td>1</td>\n",
       "      <td>Shenzhen</td>\n",
       "      <td>Shenzhen</td>\n",
       "      <td>[Shenzhen]</td>\n",
       "      <td>[c_propn, x_ne]</td>\n",
       "    </tr>\n",
       "    <tr>\n",
       "      <th>1</th>\n",
       "      <td>cop</td>\n",
       "      <td>2</td>\n",
       "      <td>ist</td>\n",
       "      <td>sein</td>\n",
       "      <td>[ist]</td>\n",
       "      <td>[c_aux, x_vafin]</td>\n",
       "    </tr>\n",
       "    <tr>\n",
       "      <th>2</th>\n",
       "      <td>det</td>\n",
       "      <td>3</td>\n",
       "      <td>das</td>\n",
       "      <td>der</td>\n",
       "      <td>[das]</td>\n",
       "      <td>[c_det, x_art]</td>\n",
       "    </tr>\n",
       "    <tr>\n",
       "      <th>3</th>\n",
       "      <td>flat</td>\n",
       "      <td>5</td>\n",
       "      <td>Valley</td>\n",
       "      <td>Valley</td>\n",
       "      <td>[Valley]</td>\n",
       "      <td>[c_propn, x_ne]</td>\n",
       "    </tr>\n",
       "    <tr>\n",
       "      <th>4</th>\n",
       "      <td>nmod</td>\n",
       "      <td>9</td>\n",
       "      <td>Firmen</td>\n",
       "      <td>Firma</td>\n",
       "      <td>[für, Hardware, -, Firmen]</td>\n",
       "      <td>[c_noun, x_nn]</td>\n",
       "    </tr>\n",
       "    <tr>\n",
       "      <th>5</th>\n",
       "      <td>punct</td>\n",
       "      <td>10</td>\n",
       "      <td>.</td>\n",
       "      <td>.</td>\n",
       "      <td>[.]</td>\n",
       "      <td>[c_punct, x_$.]</td>\n",
       "    </tr>\n",
       "  </tbody>\n",
       "</table>\n",
       "</div>"
      ],
      "text/plain": [
       "     rel index      text     lemma                    children  \\\n",
       "0  nsubj     1  Shenzhen  Shenzhen                  [Shenzhen]   \n",
       "1    cop     2       ist      sein                       [ist]   \n",
       "2    det     3       das       der                       [das]   \n",
       "3   flat     5    Valley    Valley                    [Valley]   \n",
       "4   nmod     9    Firmen     Firma  [für, Hardware, -, Firmen]   \n",
       "5  punct    10         .         .                         [.]   \n",
       "\n",
       "           features  \n",
       "0   [c_propn, x_ne]  \n",
       "1  [c_aux, x_vafin]  \n",
       "2    [c_det, x_art]  \n",
       "3   [c_propn, x_ne]  \n",
       "4    [c_noun, x_nn]  \n",
       "5   [c_punct, x_$.]  "
      ]
     },
     "metadata": {},
     "output_type": "display_data"
    },
    {
     "name": "stdout",
     "output_type": "stream",
     "text": [
      "2019-11-18 02:52:48,072 - inspector - INFO - Shenzhen ist das Silicon Valley für Hardware-Firmen(tech) -> 0.974656, with entities LOC\n",
      "\u001b[34m✔ entire with pos is ins_rasa for (tech): True\u001b[0m\n",
      ".. results\n",
      "['ins_rasa/default/Shenzhen ist das Silicon Valley für Hardware-Firmen']\n"
     ]
    },
    {
     "data": {
      "text/plain": [
       "{'ins_rasa/default/...': {'intent': 'tech', 'confidence': 0.9746562838554382}}"
      ]
     },
     "metadata": {},
     "output_type": "display_data"
    },
    {
     "name": "stdout",
     "output_type": "stream",
     "text": [
      "✁ ------------------------------\n"
     ]
    }
   ],
   "source": [
    "from sagas.nlu.inspectors import InspectorFixture\n",
    "from sagas.nlu.inspectors import NegativeWordInspector as negative\n",
    "from sagas.nlu.inspectors import DateInspector as dateins\n",
    "from sagas.nlu.inspectors import EntityInspector as entins\n",
    "from sagas.nlu.inspector_wordnet import PredicateWordInspector as kindof\n",
    "from sagas.nlu.inspector_wordnet import VerbInspector as behaveof\n",
    "from sagas.nlu.inspector_rasa import RasaInspector as intentof\n",
    "\n",
    "from sagas.nlu.patterns import Patterns, print_result\n",
    "from sagas.conf.conf import cf\n",
    "\n",
    "from sagas.tracker_jupyter import enable_jupyter_tracker\n",
    "enable_jupyter_tracker()\n",
    "cf.enable_opt('print_not_matched')\n",
    "    \n",
    "def dynamic_rule(data, rule_str):\n",
    "    ft=InspectorFixture()\n",
    "    domains, meta=ft.request_domains(data)\n",
    "    agency = ['c_pron', 'c_noun']\n",
    "    rs=eval(f\"[Patterns(domains, meta, 2).{rule_str}]\")    \n",
    "    print_result(rs)\n",
    "\n",
    "text='Shenzhen ist das Silicon Valley für Hardware-Firmen'\n",
    "data = {'lang': 'de', \"sents\": text}\n",
    "dynamic_rule(data, \"entire(intentof('tech', 0.6, True))\")\n",
    "print('✁', '-'*30)"
   ]
  },
  {
   "cell_type": "code",
   "execution_count": 3,
   "metadata": {
    "ExecuteTime": {
     "end_time": "2019-11-17T18:21:48.709457Z",
     "start_time": "2019-11-17T18:21:48.369477Z"
    }
   },
   "outputs": [
    {
     "name": "stdout",
     "output_type": "stream",
     "text": [
      ".. request is {'lang': 'de', 'sents': 'Ich stimme dir in diesem Punkt nicht zu.'}\n",
      "2019-11-18 02:21:48,529 - root - DEBUG - type=verb_domains\n",
      "2019-11-18 02:21:48,530 - root - DEBUG - word=stimme\n",
      "2019-11-18 02:21:48,530 - root - DEBUG - lemma=stimmen\n",
      "2019-11-18 02:21:48,531 - root - DEBUG - index=2\n",
      "2019-11-18 02:21:48,533 - root - DEBUG - upos=verb\n",
      "2019-11-18 02:21:48,534 - root - DEBUG - xpos=vvfin\n",
      "2019-11-18 02:21:48,539 - root - DEBUG - rel=root\n",
      "2019-11-18 02:21:48,543 - root - DEBUG - governor=0\n",
      "2019-11-18 02:21:48,545 - root - DEBUG - stems=[['nsubj', ['ich']], ['obj', ['dur']], ['obl', ['in', 'dies', 'Punkt']], ['advmod', ['nicht']], ['compound:prt', ['zu']], ['punct', ['.']]]\n"
     ]
    },
    {
     "data": {
      "text/html": [
       "<div>\n",
       "<style scoped>\n",
       "    .dataframe tbody tr th:only-of-type {\n",
       "        vertical-align: middle;\n",
       "    }\n",
       "\n",
       "    .dataframe tbody tr th {\n",
       "        vertical-align: top;\n",
       "    }\n",
       "\n",
       "    .dataframe thead th {\n",
       "        text-align: right;\n",
       "    }\n",
       "</style>\n",
       "<table border=\"1\" class=\"dataframe\">\n",
       "  <thead>\n",
       "    <tr style=\"text-align: right;\">\n",
       "      <th></th>\n",
       "      <th>rel</th>\n",
       "      <th>index</th>\n",
       "      <th>text</th>\n",
       "      <th>lemma</th>\n",
       "      <th>children</th>\n",
       "      <th>features</th>\n",
       "    </tr>\n",
       "  </thead>\n",
       "  <tbody>\n",
       "    <tr>\n",
       "      <th>0</th>\n",
       "      <td>nsubj</td>\n",
       "      <td>1</td>\n",
       "      <td>Ich</td>\n",
       "      <td>ich</td>\n",
       "      <td>[Ich]</td>\n",
       "      <td>[c_pron, x_pper]</td>\n",
       "    </tr>\n",
       "    <tr>\n",
       "      <th>1</th>\n",
       "      <td>obj</td>\n",
       "      <td>3</td>\n",
       "      <td>dir</td>\n",
       "      <td>dur</td>\n",
       "      <td>[dir]</td>\n",
       "      <td>[c_pron, x_prf]</td>\n",
       "    </tr>\n",
       "    <tr>\n",
       "      <th>2</th>\n",
       "      <td>obl</td>\n",
       "      <td>6</td>\n",
       "      <td>Punkt</td>\n",
       "      <td>Punkt</td>\n",
       "      <td>[in, diesem, Punkt]</td>\n",
       "      <td>[c_noun, x_nn]</td>\n",
       "    </tr>\n",
       "    <tr>\n",
       "      <th>3</th>\n",
       "      <td>advmod</td>\n",
       "      <td>7</td>\n",
       "      <td>nicht</td>\n",
       "      <td>nicht</td>\n",
       "      <td>[nicht]</td>\n",
       "      <td>[c_part, x_ptkneg]</td>\n",
       "    </tr>\n",
       "    <tr>\n",
       "      <th>4</th>\n",
       "      <td>compound:prt</td>\n",
       "      <td>8</td>\n",
       "      <td>zu</td>\n",
       "      <td>zu</td>\n",
       "      <td>[zu]</td>\n",
       "      <td>[c_adp, x_ptkvz]</td>\n",
       "    </tr>\n",
       "    <tr>\n",
       "      <th>5</th>\n",
       "      <td>punct</td>\n",
       "      <td>9</td>\n",
       "      <td>.</td>\n",
       "      <td>.</td>\n",
       "      <td>[.]</td>\n",
       "      <td>[c_punct, x_$.]</td>\n",
       "    </tr>\n",
       "  </tbody>\n",
       "</table>\n",
       "</div>"
      ],
      "text/plain": [
       "            rel index   text  lemma             children            features\n",
       "0         nsubj     1    Ich    ich                [Ich]    [c_pron, x_pper]\n",
       "1           obj     3    dir    dur                [dir]     [c_pron, x_prf]\n",
       "2           obl     6  Punkt  Punkt  [in, diesem, Punkt]      [c_noun, x_nn]\n",
       "3        advmod     7  nicht  nicht              [nicht]  [c_part, x_ptkneg]\n",
       "4  compound:prt     8     zu     zu                 [zu]    [c_adp, x_ptkvz]\n",
       "5         punct     9      .      .                  [.]     [c_punct, x_$.]"
      ]
     },
     "metadata": {},
     "output_type": "display_data"
    },
    {
     "name": "stdout",
     "output_type": "stream",
     "text": [
      "2019-11-18 02:21:48,705 - inspector - INFO - Ich stimme dir in diesem Punkt nicht zu.(context_indicator) -> 0.613826, with entities \n",
      "\u001b[36m✖ entire with pos is ins_rasa for (tech): False\u001b[0m\n"
     ]
    }
   ],
   "source": [
    "text='Ich stimme dir in diesem Punkt nicht zu.'\n",
    "data = {'lang': 'de', \"sents\": text}\n",
    "dynamic_rule(data, \"entire(intentof('tech', 0.6, True))\")"
   ]
  }
 ],
 "metadata": {
  "kernelspec": {
   "display_name": "Python 3",
   "language": "python",
   "name": "python3"
  },
  "language_info": {
   "codemirror_mode": {
    "name": "ipython",
    "version": 3
   },
   "file_extension": ".py",
   "mimetype": "text/x-python",
   "name": "python",
   "nbconvert_exporter": "python",
   "pygments_lexer": "ipython3",
   "version": "3.6.4"
  },
  "varInspector": {
   "cols": {
    "lenName": 16,
    "lenType": 16,
    "lenVar": 40
   },
   "kernels_config": {
    "python": {
     "delete_cmd_postfix": "",
     "delete_cmd_prefix": "del ",
     "library": "var_list.py",
     "varRefreshCmd": "print(var_dic_list())"
    },
    "r": {
     "delete_cmd_postfix": ") ",
     "delete_cmd_prefix": "rm(",
     "library": "var_list.r",
     "varRefreshCmd": "cat(var_dic_list()) "
    }
   },
   "types_to_exclude": [
    "module",
    "function",
    "builtin_function_or_method",
    "instance",
    "_Feature"
   ],
   "window_display": false
  }
 },
 "nbformat": 4,
 "nbformat_minor": 2
}
