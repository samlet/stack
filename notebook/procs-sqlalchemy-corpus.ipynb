{
 "cells": [
  {
   "cell_type": "code",
   "execution_count": 32,
   "metadata": {
    "ExecuteTime": {
     "end_time": "2020-01-06T07:29:31.093836Z",
     "start_time": "2020-01-06T07:29:31.080289Z"
    }
   },
   "outputs": [],
   "source": [
    "from sqlalchemy import create_engine\n",
    "engine = create_engine('sqlite:///:memory:', echo=True)\n",
    "# engine = create_engine('sqlite:///database.sqlite3', convert_unicode=True, echo=True)\n",
    "\n",
    "from sqlalchemy import Table, Column, Integer, String, MetaData, ForeignKey\n",
    "metadata = MetaData()\n",
    "corpus = Table('corpus', metadata,\n",
    "              Column('id', Integer, primary_key=True),\n",
    "              Column('index', Integer),\n",
    "              Column('chapter', String),\n",
    "              Column('text', String),\n",
    "              Column('translate', String),\n",
    "              Column('translite', String),\n",
    "              Column('audio', String),\n",
    "              Column('lang', String),\n",
    ")"
   ]
  },
  {
   "cell_type": "code",
   "execution_count": 33,
   "metadata": {
    "ExecuteTime": {
     "end_time": "2020-01-06T07:29:33.768109Z",
     "start_time": "2020-01-06T07:29:33.717255Z"
    }
   },
   "outputs": [
    {
     "name": "stdout",
     "output_type": "stream",
     "text": [
      "2020-01-06 15:29:33,720 INFO sqlalchemy.engine.base.Engine SELECT CAST('test plain returns' AS VARCHAR(60)) AS anon_1\n",
      "2020-01-06 15:29:33,723 INFO sqlalchemy.engine.base.Engine ()\n",
      "2020-01-06 15:29:33,729 INFO sqlalchemy.engine.base.Engine SELECT CAST('test unicode returns' AS VARCHAR(60)) AS anon_1\n",
      "2020-01-06 15:29:33,732 INFO sqlalchemy.engine.base.Engine ()\n",
      "2020-01-06 15:29:33,738 INFO sqlalchemy.engine.base.Engine PRAGMA main.table_info(\"corpus\")\n",
      "2020-01-06 15:29:33,743 INFO sqlalchemy.engine.base.Engine ()\n",
      "2020-01-06 15:29:33,749 INFO sqlalchemy.engine.base.Engine PRAGMA temp.table_info(\"corpus\")\n",
      "2020-01-06 15:29:33,754 INFO sqlalchemy.engine.base.Engine ()\n"
     ]
    }
   ],
   "source": [
    "metadata.drop_all(engine)"
   ]
  },
  {
   "cell_type": "code",
   "execution_count": 34,
   "metadata": {
    "ExecuteTime": {
     "end_time": "2020-01-06T07:29:36.032363Z",
     "start_time": "2020-01-06T07:29:35.994134Z"
    }
   },
   "outputs": [
    {
     "name": "stdout",
     "output_type": "stream",
     "text": [
      "2020-01-06 15:29:35,995 INFO sqlalchemy.engine.base.Engine PRAGMA main.table_info(\"corpus\")\n",
      "2020-01-06 15:29:35,998 INFO sqlalchemy.engine.base.Engine ()\n",
      "2020-01-06 15:29:36,001 INFO sqlalchemy.engine.base.Engine PRAGMA temp.table_info(\"corpus\")\n",
      "2020-01-06 15:29:36,006 INFO sqlalchemy.engine.base.Engine ()\n",
      "2020-01-06 15:29:36,011 INFO sqlalchemy.engine.base.Engine \n",
      "CREATE TABLE corpus (\n",
      "\tid INTEGER NOT NULL, \n",
      "\t\"index\" INTEGER, \n",
      "\tchapter VARCHAR, \n",
      "\ttext VARCHAR, \n",
      "\ttranslate VARCHAR, \n",
      "\ttranslite VARCHAR, \n",
      "\taudio VARCHAR, \n",
      "\tlang VARCHAR, \n",
      "\tPRIMARY KEY (id)\n",
      ")\n",
      "\n",
      "\n",
      "2020-01-06 15:29:36,014 INFO sqlalchemy.engine.base.Engine ()\n",
      "2020-01-06 15:29:36,016 INFO sqlalchemy.engine.base.Engine COMMIT\n"
     ]
    }
   ],
   "source": [
    "metadata.create_all(engine)"
   ]
  },
  {
   "cell_type": "code",
   "execution_count": 35,
   "metadata": {
    "ExecuteTime": {
     "end_time": "2020-01-06T07:29:40.002032Z",
     "start_time": "2020-01-06T07:29:39.984868Z"
    }
   },
   "outputs": [
    {
     "data": {
      "text/plain": [
       "['/pi/stack/crawlers/langcrs/all_no.json',\n",
       " '/pi/stack/crawlers/langcrs/all_lv.json',\n",
       " '/pi/stack/crawlers/langcrs/all_da.json',\n",
       " '/pi/stack/crawlers/langcrs/all_af.json',\n",
       " '/pi/stack/crawlers/langcrs/all_id.json',\n",
       " '/pi/stack/crawlers/langcrs/all_cs.json',\n",
       " '/pi/stack/crawlers/langcrs/all_fa.json',\n",
       " '/pi/stack/crawlers/langcrs/all_vi.json',\n",
       " '/pi/stack/crawlers/langcrs/all_es.json',\n",
       " '/pi/stack/crawlers/langcrs/all_ar.json',\n",
       " '/pi/stack/crawlers/langcrs/all_sv.json',\n",
       " '/pi/stack/crawlers/langcrs/all_fr.json',\n",
       " '/pi/stack/crawlers/langcrs/all_et.json',\n",
       " '/pi/stack/crawlers/langcrs/all_he.json',\n",
       " '/pi/stack/crawlers/langcrs/all_ko.json',\n",
       " '/pi/stack/crawlers/langcrs/all_ro.json',\n",
       " '/pi/stack/crawlers/langcrs/all_bg.json',\n",
       " '/pi/stack/crawlers/langcrs/all_ca.json',\n",
       " '/pi/stack/crawlers/langcrs/all_hi.json',\n",
       " '/pi/stack/crawlers/langcrs/all_el.json',\n",
       " '/pi/stack/crawlers/langcrs/all_ur.json',\n",
       " '/pi/stack/crawlers/langcrs/all_fi.json',\n",
       " '/pi/stack/crawlers/langcrs/all_de.json',\n",
       " '/pi/stack/crawlers/langcrs/all_uk.json',\n",
       " '/pi/stack/crawlers/langcrs/all_pl.json',\n",
       " '/pi/stack/crawlers/langcrs/all_ru.json',\n",
       " '/pi/stack/crawlers/langcrs/all_it.json',\n",
       " '/pi/stack/crawlers/langcrs/all_hr.json',\n",
       " '/pi/stack/crawlers/langcrs/all_sr.json',\n",
       " '/pi/stack/crawlers/langcrs/all_sk.json',\n",
       " '/pi/stack/crawlers/langcrs/all_pt.json',\n",
       " '/pi/stack/crawlers/langcrs/all_hu.json',\n",
       " '/pi/stack/crawlers/langcrs/all_sl.json',\n",
       " '/pi/stack/crawlers/langcrs/all_tr.json',\n",
       " '/pi/stack/crawlers/langcrs/all_zh.json',\n",
       " '/pi/stack/crawlers/langcrs/all_hy.json',\n",
       " '/pi/stack/crawlers/langcrs/all_ja.json',\n",
       " '/pi/stack/crawlers/langcrs/all_nl.json']"
      ]
     },
     "execution_count": 35,
     "metadata": {},
     "output_type": "execute_result"
    }
   ],
   "source": [
    "import glob\n",
    "corpus_prefix='/pi/stack/crawlers/langcrs'\n",
    "ds=[f for f in glob.glob(f'{corpus_prefix}/all_*.json')]\n",
    "ds"
   ]
  },
  {
   "cell_type": "code",
   "execution_count": 36,
   "metadata": {
    "ExecuteTime": {
     "end_time": "2020-01-06T07:29:43.051589Z",
     "start_time": "2020-01-06T07:29:42.931990Z"
    }
   },
   "outputs": [
    {
     "name": "stdout",
     "output_type": "stream",
     "text": [
      "[{'chapter': 'Reading and writing', 'index': 1, 'text': 'I read.', 'translate': 'Je lis.', 'translit': '', 'audio': 'https://www.book2.nl/book2/FR/SOUND/0103.mp3', 'lang': 'fr'}, {'chapter': 'Reading and writing', 'index': 2, 'text': 'I read a letter (character).', 'translate': 'Je lis une lettre.', 'translit': '', 'audio': 'https://www.book2.nl/book2/FR/SOUND/0104.mp3', 'lang': 'fr'}, {'chapter': 'Reading and writing', 'index': 3, 'text': 'I read a word.', 'translate': 'Je lis un mot.', 'translit': '', 'audio': 'https://www.book2.nl/book2/FR/SOUND/0105.mp3', 'lang': 'fr'}]\n",
      "2020-01-06 15:29:43,013 INFO sqlalchemy.engine.base.Engine INSERT INTO corpus (\"index\", chapter, text, translate, audio, lang) VALUES (?, ?, ?, ?, ?, ?)\n",
      "2020-01-06 15:29:43,014 INFO sqlalchemy.engine.base.Engine ((1, 'Reading and writing', 'I read.', 'Je lis.', 'https://www.book2.nl/book2/FR/SOUND/0103.mp3', 'fr'), (2, 'Reading and writing', 'I read a letter (character).', 'Je lis une lettre.', 'https://www.book2.nl/book2/FR/SOUND/0104.mp3', 'fr'), (3, 'Reading and writing', 'I read a word.', 'Je lis un mot.', 'https://www.book2.nl/book2/FR/SOUND/0105.mp3', 'fr'), (4, 'Reading and writing', 'I read a sentence.', 'Je lis une phrase.', 'https://www.book2.nl/book2/FR/SOUND/0106.mp3', 'fr'), (5, 'Reading and writing', 'I read a letter.', 'Je lis une lettre.', 'https://www.book2.nl/book2/FR/SOUND/0107.mp3', 'fr'), (6, 'Reading and writing', 'I read a book.', 'Je lis un livre.', 'https://www.book2.nl/book2/FR/SOUND/0108.mp3', 'fr'), (7, 'Reading and writing', 'I read.', 'Je lis.', 'https://www.book2.nl/book2/FR/SOUND/0109.mp3', 'fr'), (8, 'Reading and writing', 'You read.', 'Tu lis.', 'https://www.book2.nl/book2/FR/SOUND/0110.mp3', 'fr')  ... displaying 10 of 5400 total bound parameter sets ...  (17, 'Reading and writing', 'You write.', 'あなたは 書きます 。', 'https://www.book2.nl/book2/JA/SOUND/0119.mp3', 'ja'), (18, 'Reading and writing', 'He writes.', '彼は 書きます 。', 'https://www.book2.nl/book2/JA/SOUND/0120.mp3', 'ja'))\n",
      "2020-01-06 15:29:43,036 INFO sqlalchemy.engine.base.Engine COMMIT\n"
     ]
    },
    {
     "data": {
      "text/plain": [
       "<sqlalchemy.engine.result.ResultProxy at 0x113abef98>"
      ]
     },
     "execution_count": 36,
     "metadata": {},
     "output_type": "execute_result"
    }
   ],
   "source": [
    "def load_corpus(langs):\n",
    "    rs=[]\n",
    "    for lang in langs:\n",
    "        with open(f'/pi/stack/crawlers/langcrs/all_{lang}.json') as json_file:\n",
    "            sents=json.load(json_file)\n",
    "            for s in sents:\n",
    "                s['lang']=lang\n",
    "            rs.extend(sents)\n",
    "    return rs\n",
    "        \n",
    "conn = engine.connect()\n",
    "rs=load_corpus(['fr', 'es', 'ja'])\n",
    "print(rs[:3])\n",
    "conn.execute(corpus.insert(), rs)"
   ]
  },
  {
   "cell_type": "code",
   "execution_count": 38,
   "metadata": {
    "ExecuteTime": {
     "end_time": "2020-01-06T07:30:10.630759Z",
     "start_time": "2020-01-06T07:30:10.610796Z"
    }
   },
   "outputs": [
    {
     "name": "stdout",
     "output_type": "stream",
     "text": [
      "2020-01-06 15:30:10,615 INFO sqlalchemy.engine.base.Engine SELECT corpus.id, corpus.\"index\", corpus.chapter, corpus.text, corpus.translate, corpus.translite, corpus.audio, corpus.lang \n",
      "FROM corpus \n",
      "WHERE corpus.chapter = ? AND corpus.lang = ?\n",
      "2020-01-06 15:30:10,617 INFO sqlalchemy.engine.base.Engine ('People', 'ja')\n",
      "(3601, 1, 'People', 'I', '私', None, 'https://www.book2.nl/book2/JA/SOUND/0003.mp3', 'ja')\n",
      "(3602, 2, 'People', 'I and you', '私と あなた', None, 'https://www.book2.nl/book2/JA/SOUND/0004.mp3', 'ja')\n",
      "(3603, 3, 'People', 'both of us', '私達', None, 'https://www.book2.nl/book2/JA/SOUND/0005.mp3', 'ja')\n",
      "(3604, 4, 'People', 'he', '彼', None, 'https://www.book2.nl/book2/JA/SOUND/0006.mp3', 'ja')\n",
      "(3605, 5, 'People', 'he and she', '彼と 彼女', None, 'https://www.book2.nl/book2/JA/SOUND/0007.mp3', 'ja')\n",
      "(3606, 6, 'People', 'they both', '彼ら', None, 'https://www.book2.nl/book2/JA/SOUND/0008.mp3', 'ja')\n",
      "(3607, 7, 'People', 'the man', '男性', None, 'https://www.book2.nl/book2/JA/SOUND/0009.mp3', 'ja')\n",
      "(3608, 8, 'People', 'the woman', '女性', None, 'https://www.book2.nl/book2/JA/SOUND/0010.mp3', 'ja')\n",
      "(3609, 9, 'People', 'the child', '子供', None, 'https://www.book2.nl/book2/JA/SOUND/0011.mp3', 'ja')\n",
      "(3610, 10, 'People', 'a family', '家族', None, 'https://www.book2.nl/book2/JA/SOUND/0012.mp3', 'ja')\n",
      "(3611, 11, 'People', 'my family', '私の 家族', None, 'https://www.book2.nl/book2/JA/SOUND/0013.mp3', 'ja')\n",
      "(3612, 12, 'People', 'My family is here.', '私の 家族は ここに います 。', None, 'https://www.book2.nl/book2/JA/SOUND/0014.mp3', 'ja')\n",
      "(3613, 13, 'People', 'I am here.', '私は ここに います 。', None, 'https://www.book2.nl/book2/JA/SOUND/0015.mp3', 'ja')\n",
      "(3614, 14, 'People', 'You are here.', 'あなたは ここに います 。', None, 'https://www.book2.nl/book2/JA/SOUND/0016.mp3', 'ja')\n",
      "(3615, 15, 'People', 'He is here and she is here.', '彼は ここに います 。 そして 彼女は ここに います 。', None, 'https://www.book2.nl/book2/JA/SOUND/0017.mp3', 'ja')\n",
      "(3616, 16, 'People', 'We are here.', '私達は ここに います 。', None, 'https://www.book2.nl/book2/JA/SOUND/0018.mp3', 'ja')\n",
      "(3617, 17, 'People', 'You are here.', 'あなた達は ここに います 。', None, 'https://www.book2.nl/book2/JA/SOUND/0019.mp3', 'ja')\n",
      "(3618, 18, 'People', 'They are all here.', '彼らは 皆 ここに います 。', None, 'https://www.book2.nl/book2/JA/SOUND/0020.mp3', 'ja')\n"
     ]
    }
   ],
   "source": [
    "from sqlalchemy.sql import select\n",
    "from sqlalchemy.sql import and_, or_, not_\n",
    "\n",
    "# s = select([corpus])\n",
    "# result = conn.execute(s)\n",
    "chapter='People'\n",
    "# lang='es'\n",
    "lang='ja'\n",
    "s = select([corpus]).where(and_ (corpus.c.chapter==chapter,\n",
    "                               corpus.c.lang==lang))\n",
    "for row in conn.execute(s):\n",
    "    print(row)"
   ]
  }
 ],
 "metadata": {
  "kernelspec": {
   "display_name": "Python 3",
   "language": "python",
   "name": "python3"
  },
  "language_info": {
   "codemirror_mode": {
    "name": "ipython",
    "version": 3
   },
   "file_extension": ".py",
   "mimetype": "text/x-python",
   "name": "python",
   "nbconvert_exporter": "python",
   "pygments_lexer": "ipython3",
   "version": "3.6.9"
  },
  "varInspector": {
   "cols": {
    "lenName": 16,
    "lenType": 16,
    "lenVar": 40
   },
   "kernels_config": {
    "python": {
     "delete_cmd_postfix": "",
     "delete_cmd_prefix": "del ",
     "library": "var_list.py",
     "varRefreshCmd": "print(var_dic_list())"
    },
    "r": {
     "delete_cmd_postfix": ") ",
     "delete_cmd_prefix": "rm(",
     "library": "var_list.r",
     "varRefreshCmd": "cat(var_dic_list()) "
    }
   },
   "types_to_exclude": [
    "module",
    "function",
    "builtin_function_or_method",
    "instance",
    "_Feature"
   ],
   "window_display": false
  }
 },
 "nbformat": 4,
 "nbformat_minor": 2
}
