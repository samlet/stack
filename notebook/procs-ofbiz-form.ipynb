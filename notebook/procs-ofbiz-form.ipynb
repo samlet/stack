{
 "cells": [
  {
   "cell_type": "code",
   "execution_count": 1,
   "metadata": {
    "ExecuteTime": {
     "end_time": "2019-04-11T19:08:25.852863Z",
     "start_time": "2019-04-11T19:08:24.990432Z"
    }
   },
   "outputs": [
    {
     "name": "stdout",
     "output_type": "stream",
     "text": [
      "name: \"LookupPartyName\"\n",
      "target: \"LookupPartyName\"\n",
      "type: \"single\"\n",
      "fields {\n",
      "  name: \"partyId\"\n",
      "  title: \"\\344\\274\\232\\345\\221\\230\\346\\240\\207\\350\\257\\206\"\n",
      "  fieldType: TEXTQBE\n",
      "  titleOriginal: \"${uiLabelMap.PartyPartyId}\"\n",
      "}\n",
      "fields {\n",
      "  name: \"partyTypeId\"\n",
      "  title: \"\\344\\274\\232\\345\\221\\230\\347\\261\\273\\345\\236\\213\\346\\240\\207\\350\\257\\206\"\n",
      "  fieldType: DROP_DOWN\n",
      "  titleOriginal: \"${uiLabelMap.PartyTypeId}\"\n",
      "  dropDownField {\n",
      "    allowEmpty: true\n",
      "    current: \"first-in-list\"\n",
      "    size: \"1\"\n",
      "    textSize: \"0\"\n",
      "  }\n",
      "}\n",
      "fields {\n",
      "  name: \"firstName\"\n",
      "  title: \"\\345\\220\\215\\345\\255\\227\"\n",
      "  fieldType: TEXTQBE\n",
      "  titleOriginal: \"${uiLabelMap.PartyFirstName}\"\n",
      "}\n",
      "fields {\n",
      "  name: \"lastName\"\n",
      "  title: \"\\345\\247\\223\\346\\260\\217\"\n",
      "  fieldType: TEXTQBE\n",
      "  titleOriginal: \"${uiLabelMap.PartyLastName}\"\n",
      "}\n",
      "fields {\n",
      "  name: \"groupName\"\n",
      "  title: \"\\347\\273\\204\\345\\220\\215\\347\\247\\260\"\n",
      "  fieldType: TEXTQBE\n",
      "  titleOriginal: \"${uiLabelMap.PartyGroupName}\"\n",
      "}\n",
      "fields {\n",
      "  name: \"noConditionFind\"\n",
      "  title: \"No Condition Find\"\n",
      "  fieldType: HIDDEN\n",
      "}\n",
      "fields {\n",
      "  name: \"submitButton\"\n",
      "  title: \"\\346\\237\\245\\346\\211\\276\"\n",
      "  fieldType: SUBMIT\n",
      "  titleOriginal: \"${uiLabelMap.CommonFind}\"\n",
      "}\n",
      "\n"
     ]
    }
   ],
   "source": [
    "from sagas.ofbiz.entities import OfEntity as e, oc, finder\n",
    "hub=oc.component('entity_event_hub')\n",
    "forms=oc.component('form_mgr')\n",
    "\n",
    "# form_loc=\"component://content/widget/forum/BlogForms.xml;EditBlog;en_US\"\n",
    "# form_loc='component://party/widget/partymgr/LookupForms.xml;LookupPartyName;en_US'\n",
    "form_loc='component://party/widget/partymgr/LookupForms.xml;LookupPartyName;zh'\n",
    "form=forms.getMetaForm(form_loc)\n",
    "print(form)"
   ]
  },
  {
   "cell_type": "code",
   "execution_count": 10,
   "metadata": {
    "ExecuteTime": {
     "end_time": "2019-04-11T19:40:33.252500Z",
     "start_time": "2019-04-11T19:40:33.208250Z"
    }
   },
   "outputs": [
    {
     "name": "stdout",
     "output_type": "stream",
     "text": [
      "partyId ♯ 会员标识 ${uiLabelMap.PartyPartyId} ♯ PartyPartyId\n",
      "partyTypeId ♯ 会员类型标识 ${uiLabelMap.PartyTypeId} ♯ PartyTypeId\n",
      "firstName ♯ 名字 ${uiLabelMap.PartyFirstName} ♯ PartyFirstName\n",
      "lastName ♯ 姓氏 ${uiLabelMap.PartyLastName} ♯ PartyLastName\n",
      "groupName ♯ 组名称 ${uiLabelMap.PartyGroupName} ♯ PartyGroupName\n",
      "mappings {\n",
      "  key: \"PartyFirstName\"\n",
      "  value {\n",
      "    fields {\n",
      "      key: \"PartyFirstName\"\n",
      "      fieldName: \"firstName\"\n",
      "      fieldTitle: \"\\345\\220\\215\\345\\255\\227\"\n",
      "      fieldTitleOriginal: \"${uiLabelMap.PartyFirstName}\"\n",
      "      formUri: \"component://party/widget/partymgr/LookupForms.xml;LookupPartyName;zh\"\n",
      "    }\n",
      "  }\n",
      "}\n",
      "mappings {\n",
      "  key: \"PartyGroupName\"\n",
      "  value {\n",
      "    fields {\n",
      "      key: \"PartyGroupName\"\n",
      "      fieldName: \"groupName\"\n",
      "      fieldTitle: \"\\347\\273\\204\\345\\220\\215\\347\\247\\260\"\n",
      "      fieldTitleOriginal: \"${uiLabelMap.PartyGroupName}\"\n",
      "      formUri: \"component://party/widget/partymgr/LookupForms.xml;LookupPartyName;zh\"\n",
      "    }\n",
      "  }\n",
      "}\n",
      "mappings {\n",
      "  key: \"PartyLastName\"\n",
      "  value {\n",
      "    fields {\n",
      "      key: \"PartyLastName\"\n",
      "      fieldName: \"lastName\"\n",
      "      fieldTitle: \"\\345\\247\\223\\346\\260\\217\"\n",
      "      fieldTitleOriginal: \"${uiLabelMap.PartyLastName}\"\n",
      "      formUri: \"component://party/widget/partymgr/LookupForms.xml;LookupPartyName;zh\"\n",
      "    }\n",
      "  }\n",
      "}\n",
      "mappings {\n",
      "  key: \"PartyPartyId\"\n",
      "  value {\n",
      "    fields {\n",
      "      key: \"PartyPartyId\"\n",
      "      fieldName: \"partyId\"\n",
      "      fieldTitle: \"\\344\\274\\232\\345\\221\\230\\346\\240\\207\\350\\257\\206\"\n",
      "      fieldTitleOriginal: \"${uiLabelMap.PartyPartyId}\"\n",
      "      formUri: \"component://party/widget/partymgr/LookupForms.xml;LookupPartyName;zh\"\n",
      "    }\n",
      "  }\n",
      "}\n",
      "mappings {\n",
      "  key: \"PartyTypeId\"\n",
      "  value {\n",
      "    fields {\n",
      "      key: \"PartyTypeId\"\n",
      "      fieldName: \"partyTypeId\"\n",
      "      fieldTitle: \"\\344\\274\\232\\345\\221\\230\\347\\261\\273\\345\\236\\213\\346\\240\\207\\350\\257\\206\"\n",
      "      fieldTitleOriginal: \"${uiLabelMap.PartyTypeId}\"\n",
      "      formUri: \"component://party/widget/partymgr/LookupForms.xml;LookupPartyName;zh\"\n",
      "    }\n",
      "  }\n",
      "}\n",
      "\n"
     ]
    }
   ],
   "source": [
    "from forms_pb2 import MetaForm, MetaMappingPackage, MetaFieldMapping, MetaFieldMappings, SUBMIT, RESET\n",
    "\n",
    "def extract_key(original):\n",
    "    return original.replace('${uiLabelMap.', '').replace('}', '').strip()\n",
    "    \n",
    "py_form=MetaForm()\n",
    "form_data=form.toByteString().toByteArray()\n",
    "py_form.ParseFromString(form_data)\n",
    "package={}\n",
    "for fld in py_form.fields:\n",
    "    if fld.titleOriginal is not None and len(fld.titleOriginal)>0 and fld.fieldType not in (SUBMIT, RESET):                \n",
    "        key=extract_key(fld.titleOriginal)\n",
    "        print(fld.name, '♯', fld.title, fld.titleOriginal, '♯', key)\n",
    "        mapping=MetaFieldMapping(key=key, fieldName=fld.name, \n",
    "                                 fieldTitle=fld.title, \n",
    "                                 fieldTitleOriginal=fld.titleOriginal,\n",
    "                                 formUri=form_loc\n",
    "                                )\n",
    "        if key in package:\n",
    "            package[key].fields.append(mapping)\n",
    "            # print('+', package[key])\n",
    "        else:\n",
    "            # print('add', key)\n",
    "            package[key]=MetaFieldMappings(fields=[mapping])\n",
    "\n",
    "meta_package=MetaMappingPackage(mappings=package)\n",
    "print(meta_package)"
   ]
  },
  {
   "cell_type": "code",
   "execution_count": 6,
   "metadata": {
    "ExecuteTime": {
     "end_time": "2019-03-13T13:42:09.708340Z",
     "start_time": "2019-03-13T13:42:09.700495Z"
    }
   },
   "outputs": [
    {
     "data": {
      "text/plain": [
       "'component://workeffort/widget/TimesheetForms.xml'"
      ]
     },
     "execution_count": 6,
     "metadata": {},
     "output_type": "execute_result"
    }
   ],
   "source": [
    "def component_loc(loc):\n",
    "    prefix=\"component://\"\n",
    "    pkg_prefixes = ['ofbiz-framework/applications',\n",
    "                    'ofbiz-framework/framework',\n",
    "                    'ofbiz-framework/plugins']\n",
    "    for pkg_prefix in pkg_prefixes:\n",
    "        idx = loc.find(pkg_prefix)\n",
    "        if idx != -1:\n",
    "            return prefix+loc[idx + len(pkg_prefix) + 1:]\n",
    "    raise ValueError('Cannot normalize the location ' + loc)\n",
    "\n",
    "component_loc('/Users/xiaofeiwu/jcloud/vagrant/fedora/fedora-28/ofbiz/ofbiz-framework/applications/workeffort/widget/TimesheetForms.xml')"
   ]
  },
  {
   "cell_type": "code",
   "execution_count": 1,
   "metadata": {
    "ExecuteTime": {
     "end_time": "2019-03-13T13:55:37.134714Z",
     "start_time": "2019-03-13T13:55:36.949127Z"
    }
   },
   "outputs": [
    {
     "data": {
      "text/plain": [
       "'workeffort_timesheetforms'"
      ]
     },
     "execution_count": 1,
     "metadata": {},
     "output_type": "execute_result"
    }
   ],
   "source": [
    "from sagas.ofbiz.util import norm_loc\n",
    "norm_loc('/Users/xiaofeiwu/jcloud/vagrant/fedora/fedora-28/ofbiz/ofbiz-framework/applications/workeffort/widget/TimesheetForms.xml')"
   ]
  },
  {
   "cell_type": "code",
   "execution_count": 4,
   "metadata": {
    "ExecuteTime": {
     "end_time": "2019-03-13T13:25:52.029370Z",
     "start_time": "2019-03-13T13:25:51.750941Z"
    }
   },
   "outputs": [
    {
     "name": "stdout",
     "output_type": "stream",
     "text": [
      "base\n",
      "entity\n",
      "security\n",
      "datafile\n",
      "minilang\n",
      "common\n",
      "service\n",
      "catalina\n",
      "entityext\n",
      "webapp\n",
      "widget\n",
      "testtools\n",
      "webtools\n",
      "bluelight\n",
      "common-theme\n",
      "flatgrey\n",
      "rainbowstone\n",
      "tomahawk\n",
      "datamodel\n",
      "party\n",
      "securityext\n",
      "content\n",
      "workeffort\n",
      "product\n",
      "manufacturing\n",
      "accounting\n",
      "humanres\n",
      "order\n",
      "marketing\n",
      "commonext\n",
      "ecommerce\n",
      "example\n",
      "ofbizDemo\n",
      "projectmgr\n",
      "sagas\n"
     ]
    }
   ],
   "source": [
    "from sagas.ofbiz.entity_prefabs import all_components\n",
    "all_components()"
   ]
  },
  {
   "cell_type": "code",
   "execution_count": 2,
   "metadata": {
    "ExecuteTime": {
     "end_time": "2019-03-13T13:25:39.585832Z",
     "start_time": "2019-03-13T13:25:39.578723Z"
    }
   },
   "outputs": [],
   "source": [
    "class FormResource(object):\n",
    "    def __init__(self, comp, name, location):\n",
    "        self.comp=comp\n",
    "        self.name=name\n",
    "        self.location=location\n",
    "        \n",
    "        self.forms=[]\n",
    "\n",
    "class FormDescriptor(object):\n",
    "    def __init__(self, tag, name, type, target, extends):\n",
    "        self.tag=tag\n",
    "        self.name=name\n",
    "        self.type=type\n",
    "        self.target=target\n",
    "        self.extends=extends"
   ]
  },
  {
   "cell_type": "code",
   "execution_count": 6,
   "metadata": {
    "ExecuteTime": {
     "end_time": "2019-03-13T13:27:03.556297Z",
     "start_time": "2019-03-13T13:27:03.468313Z"
    },
    "code_folding": []
   },
   "outputs": [
    {
     "name": "stdout",
     "output_type": "stream",
     "text": [
      "common 12\n",
      "\t {'forms': 4, 'screens': 6, 'menus': 2, 'trees': 0, 'others': 0}\n",
      "webtools 24\n",
      "\t {'forms': 10, 'screens': 13, 'menus': 1, 'trees': 0, 'others': 0}\n",
      "bluelight 1\n",
      "\t {'forms': 0, 'screens': 0, 'menus': 0, 'trees': 0, 'others': 0}\n",
      "common-theme 4\n",
      "\t {'forms': 0, 'screens': 3, 'menus': 0, 'trees': 0, 'others': 0}\n",
      "flatgrey 1\n",
      "\t {'forms': 0, 'screens': 0, 'menus': 0, 'trees': 0, 'others': 0}\n",
      "rainbowstone 1\n",
      "\t {'forms': 0, 'screens': 0, 'menus': 0, 'trees': 0, 'others': 0}\n",
      "tomahawk 1\n",
      "\t {'forms': 0, 'screens': 0, 'menus': 0, 'trees': 0, 'others': 0}\n",
      "party 20\n",
      "\t {'forms': 8, 'screens': 11, 'menus': 1, 'trees': 0, 'others': 0}\n",
      "securityext 1\n",
      "\t {'forms': 0, 'screens': 1, 'menus': 0, 'trees': 0, 'others': 0}\n",
      "content 40\n",
      "** get unexpected file type CMSTemplates\n",
      "\t {'forms': 13, 'screens': 15, 'menus': 9, 'trees': 2, 'others': 1}\n",
      "workeffort 22\n",
      "\t {'forms': 12, 'screens': 7, 'menus': 2, 'trees': 1, 'others': 0}\n",
      "product 48\n",
      "\t {'forms': 20, 'screens': 24, 'menus': 3, 'trees': 1, 'others': 0}\n",
      "manufacturing 17\n",
      "\t {'forms': 7, 'screens': 9, 'menus': 1, 'trees': 0, 'others': 0}\n",
      "accounting 61\n",
      "\t {'forms': 25, 'screens': 31, 'menus': 4, 'trees': 1, 'others': 0}\n",
      "humanres 33\n",
      "\t {'forms': 15, 'screens': 16, 'menus': 1, 'trees': 1, 'others': 0}\n",
      "order 31\n",
      "\t {'forms': 12, 'screens': 18, 'menus': 1, 'trees': 0, 'others': 0}\n",
      "marketing 38\n",
      "\t {'forms': 15, 'screens': 16, 'menus': 7, 'trees': 0, 'others': 0}\n",
      "commonext 9\n",
      "\t {'forms': 2, 'screens': 5, 'menus': 2, 'trees': 0, 'others': 0}\n",
      "ecommerce 24\n",
      "** get unexpected file type BlogTemplates\n",
      "\t {'forms': 3, 'screens': 16, 'menus': 1, 'trees': 2, 'others': 1}\n",
      "example 12\n",
      "** get unexpected file type ExampleCompoundWidgets\n",
      "\t {'forms': 5, 'screens': 5, 'menus': 1, 'trees': 0, 'others': 1}\n",
      "ofbizDemo 4\n",
      "\t {'forms': 1, 'screens': 2, 'menus': 1, 'trees': 0, 'others': 0}\n",
      "projectmgr 14\n",
      "\t {'forms': 5, 'screens': 7, 'menus': 1, 'trees': 1, 'others': 0}\n",
      "sagas 4\n",
      "\t {'forms': 1, 'screens': 2, 'menus': 1, 'trees': 0, 'others': 0}\n",
      "158\n"
     ]
    }
   ],
   "source": [
    "from sagas.ofbiz.entities import OfEntity as e, oc, finder\n",
    "import os\n",
    "import io_utils\n",
    "oc.import_package('org.apache.ofbiz.base.component.ComponentConfig')\n",
    "allComponents = oc.j.ComponentConfig.getAllComponents()\n",
    "form_list=[]\n",
    "for c in allComponents:\n",
    "    # print(c.getRootLocation())\n",
    "    widget_dir=c.getRootLocation()+\"widget\"\n",
    "    if os.path.isdir(widget_dir):\n",
    "        files=io_utils.list_files(widget_dir)\n",
    "        print(c.getGlobalName(), len(files))\n",
    "        counts={'forms':0, 'screens':0, 'menus':0, 'trees':0, 'others':0}\n",
    "        for f in files:\n",
    "            base=os.path.basename(f)\n",
    "            name=os.path.splitext(base)[0]\n",
    "            if 'Form' in name:\n",
    "                counts['forms']=counts['forms']+1\n",
    "                form_list.append(FormResource(c.getGlobalName(), name, f))\n",
    "            elif 'Screen' in name:\n",
    "                counts['screens']=counts['screens']+1\n",
    "            elif 'Menu' in name:\n",
    "                counts['menus']=counts['menus']+1\n",
    "            elif 'Tree' in name:\n",
    "                counts['trees']=counts['trees']+1\n",
    "            elif name=='Theme':\n",
    "                pass\n",
    "            else:\n",
    "                counts['others']=counts['others']+1\n",
    "                print('** get unexpected file type', name)\n",
    "        print('\\t', counts)\n",
    "\n",
    "print(len(form_list))"
   ]
  },
  {
   "cell_type": "code",
   "execution_count": 46,
   "metadata": {
    "ExecuteTime": {
     "end_time": "2019-03-13T12:57:08.348646Z",
     "start_time": "2019-03-13T12:57:08.094841Z"
    }
   },
   "outputs": [
    {
     "name": "stdout",
     "output_type": "stream",
     "text": [
      "duplicate form name ListPortalPages, extends -> None\n",
      "duplicate form name LookupUserLogin, extends -> None\n",
      "duplicate form name ListLookedUpUserLogins, extends -> None\n",
      "duplicate form name ListLookupGeo, extends -> ListGeos\n",
      "duplicate form name AddUserLogin, extends -> None\n",
      "duplicate form name UpdatePassword, extends -> None\n",
      "duplicate form name UpdateUserLoginSecurity, extends -> None\n",
      "duplicate form name ListWebSites, extends -> None\n",
      "duplicate form name FindContent, extends -> None\n",
      "duplicate form name EditContent, extends -> None\n",
      "duplicate form name AddContentPurposeOperation, extends -> None\n",
      "duplicate form name UpdateContentPurposeOperation, extends -> None\n",
      "duplicate form name ListWorkEffortCommEvents, extends -> None\n",
      "duplicate form name LookupCommEvent, extends -> None\n",
      "duplicate form name ListLookupCommEvent, extends -> None\n",
      "duplicate form name AddWorkEffortContent, extends -> None\n",
      "duplicate form name ListWorkEffortContents, extends -> None\n",
      "duplicate form name ListRequests, extends -> None\n",
      "duplicate form name ListLookupWorkEffort, extends -> None\n",
      "duplicate form name ListCommEvents, extends -> None\n",
      "duplicate form name EditCommEvent, extends -> EditCommEvent\n",
      "duplicate form name FindProductStoreRole, extends -> None\n",
      "duplicate form name ListProductStoreRole, extends -> None\n",
      "duplicate form name EditProductStoreRole, extends -> None\n",
      "duplicate form name LookupProductFeature, extends -> None\n",
      "duplicate form name ListLookupProductFeature, extends -> None\n",
      "duplicate form name CreateSimpleTextContentForAlternateLocale, extends -> None\n",
      "duplicate form name CreateProductStoreCatalog, extends -> None\n",
      "duplicate form name UpdateProductStoreCatalog, extends -> None\n",
      "duplicate form name ListShipment, extends -> None\n",
      "duplicate form name UpdateInventoryItemLabelAppls, extends -> None\n",
      "duplicate form name AddInventoryItemLabelAppl, extends -> None\n",
      "duplicate form name ListShipmentPlan, extends -> None\n",
      "duplicate form name AddFixedAssetProduct, extends -> None\n",
      "duplicate form name ListAgreements, extends -> None\n",
      "duplicate form name ListAgreementItems, extends -> None\n",
      "duplicate form name AddAgreementWorkEffortApplic, extends -> None\n",
      "duplicate form name ListAgreementWorkEffortApplics, extends -> None\n",
      "duplicate form name ListGlAccountOrganization, extends -> None\n",
      "duplicate form name AssignGlAccount, extends -> None\n",
      "duplicate form name ListProductGlAccounts, extends -> None\n",
      "duplicate form name AddProductGlAccount, extends -> None\n",
      "duplicate form name AddFixedAssetTypeGlAccount, extends -> None\n",
      "duplicate form name FixedAssetTypeGlAccounts, extends -> None\n",
      "duplicate form name EditBillingAccount, extends -> None\n",
      "duplicate form name ListPaymentGroupMember, extends -> None\n",
      "duplicate form name ListPaymentsNotApplied, extends -> None\n",
      "duplicate form name AcctgTransAndEntries, extends -> AcctgTransAndEntries\n",
      "duplicate form name ListCostComponentCalc, extends -> None\n",
      "duplicate form name ListAcctgTransEntries, extends -> None\n",
      "duplicate form name ListGlReconciliationEntries, extends -> None\n",
      "duplicate form name ListTaxAuthorityGlAccounts, extends -> None\n",
      "duplicate form name AddTaxAuthorityGlAccount, extends -> None\n",
      "duplicate form name EditVendor, extends -> None\n",
      "duplicate form name LookupInvoice, extends -> None\n",
      "duplicate form name LookupPayment, extends -> None\n",
      "duplicate form name ListReports, extends -> None\n",
      "duplicate form name LookupInvoice, extends -> None\n",
      "duplicate form name LookupPayment, extends -> None\n",
      "duplicate form name ListEmplLeaves, extends -> None\n",
      "duplicate form name LookupBudget, extends -> None\n",
      "duplicate form name ListBudgets, extends -> None\n",
      "duplicate form name ListEmplPositions, extends -> None\n",
      "duplicate form name ListTerminationReasons, extends -> None\n",
      "duplicate form name ListSalarySteps, extends -> None\n",
      "duplicate form name ListPayGrades, extends -> None\n",
      "duplicate form name ListUnemploymentClaims, extends -> None\n",
      "duplicate form name ListAgreementEmploymentAppls, extends -> None\n",
      "duplicate form name ListPerfReviews, extends -> None\n",
      "duplicate form name ListPartyResumes, extends -> None\n",
      "duplicate form name ListEmploymentApps, extends -> None\n",
      "duplicate form name FindQuotes, extends -> None\n",
      "duplicate form name ListQuotes, extends -> None\n",
      "duplicate form name FindRequirements, extends -> None\n",
      "duplicate form name ListRequests, extends -> ListRequestList\n",
      "duplicate form name ListReturns, extends -> None\n",
      "duplicate form name ListLookupContactList, extends -> None\n",
      "duplicate form name LookupCommEvent, extends -> None\n",
      "duplicate form name ListLookupCommEvent, extends -> None\n",
      "duplicate form name ListPreferredContactMech, extends -> None\n",
      "duplicate form name CreateWebSiteContactList, extends -> None\n",
      "duplicate form name ViewWebSiteContactList, extends -> None\n",
      "duplicate form name ListSegmentGroupClass, extends -> None\n",
      "duplicate form name ListAccounts, extends -> ListAccounts\n",
      "duplicate form name EditProductStore, extends -> None\n",
      "duplicate form name EditWebSite, extends -> EditWebSite\n",
      "duplicate form name EditProdCatalog, extends -> EditProdCatalog\n",
      "duplicate form name EditProduct, extends -> None\n",
      "duplicate form name AddForumMessage, extends -> None\n",
      "duplicate form name FindContent, extends -> None\n",
      "duplicate form name ListFindContent, extends -> None\n",
      "duplicate form name EditContent, extends -> None\n",
      "duplicate form name DataResourceMaster, extends -> None\n",
      "duplicate form name EditDataResourceText, extends -> DataResourceMaster\n",
      "duplicate form name ImageUpload, extends -> None\n",
      "duplicate form name EditAddContentMaster, extends -> None\n",
      "duplicate form name EditAddContent, extends -> EditAddContentMaster\n",
      "duplicate form name EditAddBioContent, extends -> EditAddContentMaster\n",
      "duplicate form name EditAddImageMaster, extends -> None\n",
      "duplicate form name EditAddImage, extends -> EditAddImageMaster\n",
      "duplicate form name EditAddBioImage, extends -> EditAddImageMaster\n",
      "duplicate form name ListExampleFeatureAppls, extends -> None\n",
      "duplicate form name AddExampleFeatureAppl, extends -> None\n",
      "duplicate form name AddPartyRole, extends -> AddPartyRole\n",
      "duplicate form name ListPhaseInfo, extends -> ListPhaseInfo\n",
      "duplicate form name ListTaskInfo, extends -> ListTaskInfo\n",
      "duplicate form name AddTimesheetEntry, extends -> None\n",
      "duplicate form name QuickCreateTimeEntry, extends -> None\n",
      "duplicate form name ListTimesheetEntries, extends -> None\n",
      "duplicate form name MyTasks, extends -> None\n",
      "duplicate form name ListTimeEntries, extends -> None\n",
      "duplicate form name EditWorkEffortPartyAssigns, extends -> None\n",
      "duplicate form name ListWorkEffortRequests, extends -> None\n",
      "duplicate form name ListRequests, extends -> ListRequestList\n",
      "duplicate form name EditCustRequest, extends -> EditSmallCustRequest\n",
      "duplicate form name RequestInfo, extends -> None\n",
      "duplicate form name ViewRequestWorkEfforts, extends -> ViewRequestWorkEfforts\n",
      "duplicate form name OverviewRequestItems, extends -> OverviewRequestItems\n",
      "1919\n"
     ]
    }
   ],
   "source": [
    "import xml.etree.ElementTree as ET\n",
    "\n",
    "total=0\n",
    "form_index={}\n",
    "for form_res in form_list:\n",
    "    tree = ET.parse(form_res.location)\n",
    "    root = tree.getroot()\n",
    "    for child in root:\n",
    "        # tag, name, type, target        \n",
    "        fd=FormDescriptor(child.tag, child.get('name'), \n",
    "                          child.get('type'), \n",
    "                          child.get('target'),\n",
    "                          child.get('extends')\n",
    "                         )\n",
    "        form_res.forms.append(fd)\n",
    "        if fd.name not in form_index:\n",
    "            form_index[fd.name]=[form_res]\n",
    "        else:\n",
    "            form_index[fd.name].append(form_res)\n",
    "            print('duplicate form name %s, extends -> %s'%(fd.name, fd.extends))\n",
    "        total=total+1\n",
    "print(total)        "
   ]
  },
  {
   "cell_type": "code",
   "execution_count": 39,
   "metadata": {
    "ExecuteTime": {
     "end_time": "2019-03-13T12:53:41.218061Z",
     "start_time": "2019-03-13T12:53:41.212037Z"
    }
   },
   "outputs": [
    {
     "name": "stdout",
     "output_type": "stream",
     "text": [
      "PortalPageForms /Users/xiaofeiwu/jcloud/vagrant/fedora/fedora-28/ofbiz/ofbiz-framework/framework/common/widget/PortalPageForms.xml\n",
      "{\n",
      "    \"comp\": \"common\",\n",
      "    \"forms\": [\n",
      "        {\n",
      "            \"extends\": null,\n",
      "            \"name\": \"ListPortalPages\",\n",
      "            \"tag\": \"{http://ofbiz.apache.org/Widget-Form}form\",\n",
      "            \"target\": null,\n",
      "            \"type\": \"list\"\n",
      "        },\n",
      "        {\n",
      "            \"extends\": null,\n",
      "            \"name\": \"NewPortalPage\",\n",
      "            \"tag\": \"{http://ofbiz.apache.org/Widget-Form}form\",\n",
      "            \"target\": \"createPortalPage\",\n",
      "            \"type\": \"single\"\n",
      "        },\n",
      "        {\n",
      "            \"extends\": null,\n",
      "            \"name\": \"PortletCategoryAndPortlet\",\n",
      "            \"tag\": \"{http://ofbiz.apache.org/Widget-Form}form\",\n",
      "            \"target\": null,\n",
      "            \"type\": \"list\"\n",
      "        },\n",
      "        {\n",
      "            \"extends\": null,\n",
      "            \"name\": \"PortletList\",\n",
      "            \"tag\": \"{http://ofbiz.apache.org/Widget-Form}form\",\n",
      "            \"target\": null,\n",
      "            \"type\": \"list\"\n",
      "        },\n",
      "        {\n",
      "            \"extends\": null,\n",
      "            \"name\": \"FindGenericEntity\",\n",
      "            \"tag\": \"{http://ofbiz.apache.org/Widget-Form}form\",\n",
      "            \"target\": \"list${entity}\",\n",
      "            \"type\": \"single\"\n",
      "        },\n",
      "        {\n",
      "            \"extends\": null,\n",
      "            \"name\": \"EditPortalPageColumnWidth\",\n",
      "            \"tag\": \"{http://ofbiz.apache.org/Widget-Form}form\",\n",
      "            \"target\": \"updatePortalPageColumnWidth\",\n",
      "            \"type\": \"single\"\n",
      "        }\n",
      "    ],\n",
      "    \"location\": \"/Users/xiaofeiwu/jcloud/vagrant/fedora/fedora-28/ofbiz/ofbiz-framework/framework/common/widget/PortalPageForms.xml\",\n",
      "    \"name\": \"PortalPageForms\"\n",
      "}\n"
     ]
    }
   ],
   "source": [
    "import json\n",
    "form=form_list[0]\n",
    "print(form.name, form.location)\n",
    "# print(form.forms)\n",
    "printstr=json.dumps(form, default=lambda o: o.__dict__, \n",
    "            sort_keys=True, indent=4)\n",
    "print(printstr)"
   ]
  },
  {
   "cell_type": "code",
   "execution_count": 41,
   "metadata": {
    "ExecuteTime": {
     "end_time": "2019-03-13T12:54:14.836626Z",
     "start_time": "2019-03-13T12:54:14.831520Z"
    }
   },
   "outputs": [
    {
     "name": "stdout",
     "output_type": "stream",
     "text": [
      "ProjectForms /Users/xiaofeiwu/jcloud/vagrant/fedora/fedora-28/ofbiz/ofbiz-framework/plugins/projectmgr/widget/forms/ProjectForms.xml\n",
      "ProjectForms /Users/xiaofeiwu/jcloud/vagrant/fedora/fedora-28/ofbiz/ofbiz-framework/plugins/projectmgr/widget/forms/ProjectForms.xml\n"
     ]
    }
   ],
   "source": [
    "locs=form_index['ListTaskInfo']\n",
    "for loc in locs:\n",
    "    print(loc.name, loc.location)"
   ]
  },
  {
   "cell_type": "code",
   "execution_count": 47,
   "metadata": {
    "ExecuteTime": {
     "end_time": "2019-03-13T12:58:06.130447Z",
     "start_time": "2019-03-13T12:58:06.125074Z"
    },
    "scrolled": true
   },
   "outputs": [
    {
     "name": "stdout",
     "output_type": "stream",
     "text": [
      "TimesheetForms /Users/xiaofeiwu/jcloud/vagrant/fedora/fedora-28/ofbiz/ofbiz-framework/applications/workeffort/widget/TimesheetForms.xml\n",
      "TimeSheetForms /Users/xiaofeiwu/jcloud/vagrant/fedora/fedora-28/ofbiz/ofbiz-framework/plugins/projectmgr/widget/forms/TimeSheetForms.xml\n"
     ]
    }
   ],
   "source": [
    "# AddTimesheetEntry\n",
    "locs=form_index['AddTimesheetEntry']\n",
    "for loc in locs:\n",
    "    print(loc.name, loc.location)"
   ]
  }
 ],
 "metadata": {
  "kernelspec": {
   "display_name": "Python 3",
   "language": "python",
   "name": "python3"
  },
  "language_info": {
   "codemirror_mode": {
    "name": "ipython",
    "version": 3
   },
   "file_extension": ".py",
   "mimetype": "text/x-python",
   "name": "python",
   "nbconvert_exporter": "python",
   "pygments_lexer": "ipython3",
   "version": "3.6.4"
  },
  "varInspector": {
   "cols": {
    "lenName": 16,
    "lenType": 16,
    "lenVar": 40
   },
   "kernels_config": {
    "python": {
     "delete_cmd_postfix": "",
     "delete_cmd_prefix": "del ",
     "library": "var_list.py",
     "varRefreshCmd": "print(var_dic_list())"
    },
    "r": {
     "delete_cmd_postfix": ") ",
     "delete_cmd_prefix": "rm(",
     "library": "var_list.r",
     "varRefreshCmd": "cat(var_dic_list()) "
    }
   },
   "types_to_exclude": [
    "module",
    "function",
    "builtin_function_or_method",
    "instance",
    "_Feature"
   ],
   "window_display": false
  }
 },
 "nbformat": 4,
 "nbformat_minor": 2
}
