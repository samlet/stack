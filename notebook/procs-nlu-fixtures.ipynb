{
 "cells": [
  {
   "cell_type": "code",
   "execution_count": 45,
   "metadata": {
    "ExecuteTime": {
     "end_time": "2020-01-17T10:27:09.976371Z",
     "start_time": "2020-01-17T10:27:09.950798Z"
    }
   },
   "outputs": [
    {
     "name": "stdout",
     "output_type": "stream",
     "text": [
      "~ loc_states\n",
      ".. We are here.\n",
      ".. They are all here.\n",
      ".. I am here.\n",
      ".. He is here and she is here.\n",
      ".. You are here.\n",
      ".. My family is here.\n",
      ".. We are at school.\n",
      ".. \n",
      ".. John is from London.\n",
      ".. London is in Great Britain.\n",
      ".. Maria is from Madrid.\n",
      ".. Madrid is in Spain.\n",
      ".. Peter and Martha are from Berlin.\n",
      ".. Berlin is in Germany.\n",
      ".. \n",
      ".. France is in Europe.\n",
      ".. Egypt is in Africa.\n",
      ".. Japan is in Asia.\n",
      ".. Canada is in North America.\n",
      ".. Panama is in Central America.\n",
      ".. Brazil is in South America.\n",
      ".. \n",
      ".. London is a capital city.\n",
      ".. Madrid and Berlin are also capital cities.\n",
      ".. Capital cities are big and noisy.\n",
      ".. \n",
      "~ object_states\n",
      ".. The family is not small.\n",
      ".. The family is big.\n",
      ".. He speaks English.\n",
      ".. She speaks Spanish.\n",
      ".. \n",
      "~ object_explain\n",
      ".. We are a family.\n",
      ".. Here is my address.\n",
      ".. Those are the school children.\n",
      ".. That is the teacher.\n",
      ".. That is the class.\n",
      ".. Learning languages is interesting.\n",
      ".. \n",
      "~ behave\n",
      ".. We are having class / a lesson.\n",
      ".. I learn English.\n",
      ".. You learn Spanish.\n",
      ".. He learns German.\n",
      ".. We learn French.\n",
      ".. You all learn Italian.\n",
      ".. They learn Russian.\n",
      ".. \n",
      "~ purpose\n",
      ".. We want to understand people.\n",
      ".. We want to speak with people.\n",
      ".. \n",
      ".. \n"
     ]
    }
   ],
   "source": [
    "from typing import Optional, Tuple, Text\n",
    "import re\n",
    "\n",
    "prefix='/pi/ws/agent_dispatcher/fixtures/'\n",
    "DEFAULT_ENCODING = \"utf-8\"\n",
    "filename='describes.md'\n",
    "\n",
    "comment_regex = re.compile(r\"<!--[\\s\\S]*?--!*>\", re.MULTILINE)\n",
    "item_regex = re.compile(r\"\\s*[-*+]\\s*(.+)\")\n",
    "\n",
    "def strip_comments(text: Text) -> Text:\n",
    "    \"\"\" Removes comments defined by `comment_regex` from `text`. \"\"\"\n",
    "    return re.sub(comment_regex, \"\", text)\n",
    "\n",
    "def find_section_header(line: Text) -> Optional[Tuple[Text, Text]]:\n",
    "    \"\"\"Checks if the current line contains a section header\n",
    "    and returns the section and the title.\"\"\"\n",
    "    # match = re.search(r\"##\\s*(.+?):(.+)\", line)\n",
    "    match = re.search(r\"##\\s*(.+)\", line)\n",
    "    if match is not None:\n",
    "        return match.group(1)\n",
    "\n",
    "    return None\n",
    "\n",
    "def parse_item(line):\n",
    "    print('..', line)\n",
    "\n",
    "with open(prefix+filename, encoding=DEFAULT_ENCODING) as f:\n",
    "    cnt=f.read()\n",
    "    # print(cnt)\n",
    "    s = strip_comments(cnt)\n",
    "    current_section= ''\n",
    "    for line in s.splitlines():\n",
    "        line = line.strip()\n",
    "        header = find_section_header(line)\n",
    "        if header:\n",
    "            current_section=header\n",
    "            print(f\"~ {current_section}\")\n",
    "        else:\n",
    "            parse_item(line)\n",
    "            # load_files(line)"
   ]
  },
  {
   "cell_type": "code",
   "execution_count": 41,
   "metadata": {
    "ExecuteTime": {
     "end_time": "2020-01-16T09:57:28.772459Z",
     "start_time": "2020-01-16T09:57:28.758342Z"
    }
   },
   "outputs": [
    {
     "data": {
      "text/plain": [
       "{'package': 'common',\n",
       " 'lang': 'ja',\n",
       " 'rules_1': {'f1': \"subj('adj', ガ=kindof('artifact', 'n'))\",\n",
       "  'f2': \"subj('adj', ガ=kindof('object', 'n'))\"},\n",
       " 'rules_2': {'animal': \"verb(behaveof('protect', 'v'), head_acl=kindof('animal', 'n'), nsubj_pass=matchins('yang'))\"},\n",
       " 'intents': {'describe_object': {'rules': {'f1': \"subj('adj', ガ=kindof('artifact', 'n'))\",\n",
       "    'f2': \"subj('adj', ガ=kindof('object', 'n'))\",\n",
       "    'animal': \"verb(behaveof('protect', 'v'), head_acl=kindof('animal', 'n'), nsubj_pass=matchins('yang'))\"},\n",
       "   'examples': ['彼のパソコンは便利じゃない。']},\n",
       "  'describe_artifact': {'rules': {'f1': \"subj('adj', ガ=kindof('artifact', 'n'))\",\n",
       "    'f2': \"subj('adj', ガ=kindof('object', 'n'))\"},\n",
       "   'examples': ['彼の。']}}}"
      ]
     },
     "execution_count": 41,
     "metadata": {},
     "output_type": "execute_result"
    }
   ],
   "source": [
    "rule_pkg=\"\"\"package: common\n",
    "lang: ja\n",
    "\n",
    "rules_1: &defaults\n",
    "    f1: subj('adj', ガ=kindof('artifact', 'n'))\n",
    "    f2: subj('adj', ガ=kindof('object', 'n'))\n",
    "rules_2: &targets\n",
    "    animal: verb(behaveof('protect', 'v'), head_acl=kindof('animal', 'n'), nsubj_pass=matchins('yang'))\n",
    "    \n",
    "intents:\n",
    "  describe_object: \n",
    "    rules:\n",
    "        <<: *defaults\n",
    "        <<: *targets\n",
    "    examples:\n",
    "      - 彼のパソコンは便利じゃない。\n",
    "      \n",
    "  describe_artifact:         \n",
    "    rules:\n",
    "        *defaults  \n",
    "    examples:\n",
    "      - 彼の。\n",
    "\"\"\"\n",
    "\n",
    "import yaml\n",
    "yaml.safe_load(rule_pkg)"
   ]
  },
  {
   "cell_type": "code",
   "execution_count": 34,
   "metadata": {
    "ExecuteTime": {
     "end_time": "2020-01-16T09:50:40.481201Z",
     "start_time": "2020-01-16T09:50:40.457732Z"
    }
   },
   "outputs": [
    {
     "name": "stdout",
     "output_type": "stream",
     "text": [
      "dict_keys(['describe_object', 'describe_artifact'])\n"
     ]
    }
   ],
   "source": [
    "pkg=yaml.safe_load(rule_pkg)\n",
    "print(pkg['intents'].keys())"
   ]
  },
  {
   "cell_type": "code",
   "execution_count": 37,
   "metadata": {
    "ExecuteTime": {
     "end_time": "2020-01-16T09:52:14.754005Z",
     "start_time": "2020-01-16T09:52:14.746239Z"
    }
   },
   "outputs": [
    {
     "name": "stdout",
     "output_type": "stream",
     "text": [
      "describe_object\n",
      "{'f1': \"subj('adj', ガ=kindof('artifact', 'n'))\", 'f2': \"subj('adj', ガ=kindof('object', 'n'))\", 'f3': \"subj('adj', ガ=kindof('object', 'a'))\"}\n",
      "describe_artifact\n",
      "{'f1': \"subj('adj', ガ=kindof('artifact', 'n'))\", 'f2': \"subj('adj', ガ=kindof('object', 'n'))\"}\n"
     ]
    }
   ],
   "source": [
    "intents=pkg['intents']\n",
    "for k,intent in intents.items():\n",
    "    print(k)\n",
    "    print(intent['rules'])"
   ]
  },
  {
   "cell_type": "code",
   "execution_count": 44,
   "metadata": {
    "ExecuteTime": {
     "end_time": "2020-01-16T09:59:05.732189Z",
     "start_time": "2020-01-16T09:59:05.675063Z"
    }
   },
   "outputs": [
    {
     "name": "stdout",
     "output_type": "stream",
     "text": [
      "*** f1\n",
      "verb_domains dilindungi dilindungi ['rel', 'lemma', 'word', 'stems', 'lang', 'sents']\n",
      "[('nsubj:pass', '4', 'yang', 'yang', ['yang'], ['c_pron', 'x_s--']),\n",
      " ('head_acl', '3', 'hewan', 'hewan', ['hewan'], ['c_noun', 'x_nsd'])]\n",
      "\u001b[36m✖ (_none_) subj with pos is ('adj',): False, ガ is kind_of(artifact,n): False\u001b[0m\n",
      "*** f2\n",
      "verb_domains dilindungi dilindungi ['rel', 'lemma', 'word', 'stems', 'lang', 'sents']\n",
      "[('nsubj:pass', '4', 'yang', 'yang', ['yang'], ['c_pron', 'x_s--']),\n",
      " ('head_acl', '3', 'hewan', 'hewan', ['hewan'], ['c_noun', 'x_nsd'])]\n",
      "\u001b[36m✖ (_none_) subj with pos is ('adj',): False, ガ is kind_of(object,n): False\u001b[0m\n",
      "*** animal\n",
      "verb_domains dilindungi dilindungi ['rel', 'lemma', 'word', 'stems', 'lang', 'sents']\n",
      "[('nsubj:pass', '4', 'yang', 'yang', ['yang'], ['c_pron', 'x_s--']),\n",
      " ('head_acl', '3', 'hewan', 'hewan', ['hewan'], ['c_noun', 'x_nsd'])]\n",
      "\u001b[31m✔ (_none_) verb with pos is behave_of(protect,v): True, head_acl is kind_of(animal,n): True, nsubj:pass is ins_match(equals: yang): True\u001b[0m\n",
      "\u001b[32m.. results 2\u001b[0m\n",
      "\u001b[33m{'behave_of/default/predicate', 'kind_of/default/head_acl'}\u001b[0m\n"
     ]
    },
    {
     "data": {
      "text/plain": [
       "{'behave_of/default/...': {'category': 'protect', 'pos': 'v'},\n",
       " 'kind_of/default/...': {'category': 'animal', 'pos': 'n'}}"
      ]
     },
     "metadata": {},
     "output_type": "display_data"
    }
   ],
   "source": [
    "from sagas.tool.dynamic_rules import dynamic_rule\n",
    "pkg=yaml.safe_load(rule_pkg)\n",
    "intents=pkg['intents']\n",
    "for k,rule in intents['describe_object']['rules'].items():\n",
    "    print('***', k)\n",
    "    data = {'lang': 'id', \"sents\": 'Gajah adalah hewan yang dilindungi.'}\n",
    "    dynamic_rule(data, rule)"
   ]
  }
 ],
 "metadata": {
  "kernelspec": {
   "display_name": "Python 3",
   "language": "python",
   "name": "python3"
  },
  "language_info": {
   "codemirror_mode": {
    "name": "ipython",
    "version": 3
   },
   "file_extension": ".py",
   "mimetype": "text/x-python",
   "name": "python",
   "nbconvert_exporter": "python",
   "pygments_lexer": "ipython3",
   "version": "3.6.9"
  },
  "varInspector": {
   "cols": {
    "lenName": 16,
    "lenType": 16,
    "lenVar": 40
   },
   "kernels_config": {
    "python": {
     "delete_cmd_postfix": "",
     "delete_cmd_prefix": "del ",
     "library": "var_list.py",
     "varRefreshCmd": "print(var_dic_list())"
    },
    "r": {
     "delete_cmd_postfix": ") ",
     "delete_cmd_prefix": "rm(",
     "library": "var_list.r",
     "varRefreshCmd": "cat(var_dic_list()) "
    }
   },
   "types_to_exclude": [
    "module",
    "function",
    "builtin_function_or_method",
    "instance",
    "_Feature"
   ],
   "window_display": false
  }
 },
 "nbformat": 4,
 "nbformat_minor": 2
}
