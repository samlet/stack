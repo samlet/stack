{
 "cells": [
  {
   "cell_type": "code",
   "execution_count": 14,
   "metadata": {
    "ExecuteTime": {
     "end_time": "2020-01-14T16:31:17.502395Z",
     "start_time": "2020-01-14T16:31:17.479980Z"
    }
   },
   "outputs": [
    {
     "name": "stdout",
     "output_type": "stream",
     "text": [
      "~ loc_states\n",
      ".. We are here.\n",
      ".. They are all here.\n",
      ".. I am here.\n",
      ".. He is here and she is here.\n",
      ".. You are here.\n",
      ".. My family is here.\n",
      ".. We are at school.\n",
      ".. \n",
      ".. John is from London.\n",
      ".. London is in Great Britain.\n",
      ".. Maria is from Madrid.\n",
      ".. Madrid is in Spain.\n",
      ".. Peter and Martha are from Berlin.\n",
      ".. Berlin is in Germany.\n",
      ".. \n",
      ".. France is in Europe.\n",
      ".. Egypt is in Africa.\n",
      ".. Japan is in Asia.\n",
      ".. Canada is in North America.\n",
      ".. Panama is in Central America.\n",
      ".. Brazil is in South America.\n",
      ".. \n",
      ".. London is a capital city.\n",
      ".. Madrid and Berlin are also capital cities.\n",
      ".. Capital cities are big and noisy.\n",
      ".. \n",
      "~ object_states\n",
      ".. The family is not small.\n",
      ".. The family is big.\n",
      ".. He speaks English.\n",
      ".. She speaks Spanish.\n",
      ".. \n",
      "~ object_explain\n",
      ".. We are a family.\n",
      ".. Here is my address.\n",
      ".. Those are the school children.\n",
      ".. That is the teacher.\n",
      ".. That is the class.\n",
      ".. Learning languages is interesting.\n",
      ".. \n",
      "~ behave\n",
      ".. We are having class / a lesson.\n",
      ".. I learn English.\n",
      ".. You learn Spanish.\n",
      ".. He learns German.\n",
      ".. We learn French.\n",
      ".. You all learn Italian.\n",
      ".. They learn Russian.\n",
      ".. \n",
      "~ purpose\n",
      ".. We want to understand people.\n",
      ".. We want to speak with people.\n",
      ".. \n",
      ".. \n"
     ]
    }
   ],
   "source": [
    "from typing import Optional, Tuple, Text\n",
    "import re\n",
    "\n",
    "prefix='/pi/ws/agent_dispatcher/fixtures/'\n",
    "DEFAULT_ENCODING = \"utf-8\"\n",
    "filename='describes.md'\n",
    "\n",
    "comment_regex = re.compile(r\"<!--[\\s\\S]*?--!*>\", re.MULTILINE)\n",
    "item_regex = re.compile(r\"\\s*[-*+]\\s*(.+)\")\n",
    "\n",
    "def strip_comments(text: Text) -> Text:\n",
    "    \"\"\" Removes comments defined by `comment_regex` from `text`. \"\"\"\n",
    "    return re.sub(comment_regex, \"\", text)\n",
    "\n",
    "def find_section_header(line: Text) -> Optional[Tuple[Text, Text]]:\n",
    "    \"\"\"Checks if the current line contains a section header\n",
    "    and returns the section and the title.\"\"\"\n",
    "    # match = re.search(r\"##\\s*(.+?):(.+)\", line)\n",
    "    match = re.search(r\"##\\s*(.+)\", line)\n",
    "    if match is not None:\n",
    "        return match.group(1)\n",
    "\n",
    "    return None\n",
    "\n",
    "def parse_item(line):\n",
    "    print('..', line)\n",
    "\n",
    "with open(prefix+filename, encoding=DEFAULT_ENCODING) as f:\n",
    "    cnt=f.read()\n",
    "    # print(cnt)\n",
    "    s = strip_comments(cnt)\n",
    "    current_section= ''\n",
    "    for line in s.splitlines():\n",
    "        line = line.strip()\n",
    "        header = find_section_header(line)\n",
    "        if header:\n",
    "            current_section=header\n",
    "            print(f\"~ {current_section}\")\n",
    "        else:\n",
    "            parse_item(line)\n",
    "            # load_files(line)"
   ]
  },
  {
   "cell_type": "code",
   "execution_count": 32,
   "metadata": {
    "ExecuteTime": {
     "end_time": "2020-01-15T06:15:18.386064Z",
     "start_time": "2020-01-15T06:15:18.373352Z"
    }
   },
   "outputs": [
    {
     "data": {
      "text/plain": [
       "{'package': 'common',\n",
       " 'lang': 'ja',\n",
       " 'rules_1': {'f1': \"subj('adj', ガ=kindof('artifact', 'n'))\",\n",
       "  'f2': \"subj('adj', ガ=kindof('object', 'n'))\"},\n",
       " 'rules_2': {'f3': \"subj('adj', ガ=kindof('object', 'a'))\"},\n",
       " 'intents': {'describe_object': {'rules': {'f1': \"subj('adj', ガ=kindof('artifact', 'n'))\",\n",
       "    'f2': \"subj('adj', ガ=kindof('object', 'n'))\",\n",
       "    'f3': \"subj('adj', ガ=kindof('object', 'a'))\"},\n",
       "   'examples': ['彼のパソコンは便利じゃない。']},\n",
       "  'describe_artifact': {'rules': {'f1': \"subj('adj', ガ=kindof('artifact', 'n'))\",\n",
       "    'f2': \"subj('adj', ガ=kindof('object', 'n'))\"},\n",
       "   'examples': ['彼の。']}}}"
      ]
     },
     "execution_count": 32,
     "metadata": {},
     "output_type": "execute_result"
    }
   ],
   "source": [
    "rule_pkg=\"\"\"package: common\n",
    "lang: ja\n",
    "\n",
    "rules_1: &defaults\n",
    "    f1: subj('adj', ガ=kindof('artifact', 'n'))\n",
    "    f2: subj('adj', ガ=kindof('object', 'n'))\n",
    "rules_2: &targets\n",
    "    f3: subj('adj', ガ=kindof('object', 'a'))\n",
    "    \n",
    "intents:\n",
    "  describe_object: \n",
    "    rules:\n",
    "        <<: *defaults\n",
    "        <<: *targets\n",
    "    examples:\n",
    "      - 彼のパソコンは便利じゃない。\n",
    "      \n",
    "  describe_artifact:         \n",
    "    rules:\n",
    "        *defaults  \n",
    "    examples:\n",
    "      - 彼の。\n",
    "\"\"\"\n",
    "\n",
    "import yaml\n",
    "yaml.safe_load(rule_pkg)"
   ]
  },
  {
   "cell_type": "code",
   "execution_count": 33,
   "metadata": {
    "ExecuteTime": {
     "end_time": "2020-01-15T06:20:44.193147Z",
     "start_time": "2020-01-15T06:20:44.182004Z"
    }
   },
   "outputs": [
    {
     "data": {
      "text/plain": [
       "dict_keys(['describe_object', 'describe_artifact'])"
      ]
     },
     "execution_count": 33,
     "metadata": {},
     "output_type": "execute_result"
    }
   ],
   "source": [
    "pkg=yaml.safe_load(rule_pkg)\n",
    "pkg['intents'].keys()"
   ]
  }
 ],
 "metadata": {
  "kernelspec": {
   "display_name": "Python 3",
   "language": "python",
   "name": "python3"
  },
  "language_info": {
   "codemirror_mode": {
    "name": "ipython",
    "version": 3
   },
   "file_extension": ".py",
   "mimetype": "text/x-python",
   "name": "python",
   "nbconvert_exporter": "python",
   "pygments_lexer": "ipython3",
   "version": "3.6.9"
  },
  "varInspector": {
   "cols": {
    "lenName": 16,
    "lenType": 16,
    "lenVar": 40
   },
   "kernels_config": {
    "python": {
     "delete_cmd_postfix": "",
     "delete_cmd_prefix": "del ",
     "library": "var_list.py",
     "varRefreshCmd": "print(var_dic_list())"
    },
    "r": {
     "delete_cmd_postfix": ") ",
     "delete_cmd_prefix": "rm(",
     "library": "var_list.r",
     "varRefreshCmd": "cat(var_dic_list()) "
    }
   },
   "types_to_exclude": [
    "module",
    "function",
    "builtin_function_or_method",
    "instance",
    "_Feature"
   ],
   "window_display": false
  }
 },
 "nbformat": 4,
 "nbformat_minor": 2
}
