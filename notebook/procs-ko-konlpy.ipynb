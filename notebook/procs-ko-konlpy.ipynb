{
 "cells": [
  {
   "cell_type": "code",
   "execution_count": 11,
   "metadata": {
    "ExecuteTime": {
     "end_time": "2020-02-27T17:14:43.100474Z",
     "start_time": "2020-02-27T17:14:43.094287Z"
    }
   },
   "outputs": [],
   "source": [
    "%matplotlib inline"
   ]
  },
  {
   "cell_type": "code",
   "execution_count": 1,
   "metadata": {
    "ExecuteTime": {
     "end_time": "2020-02-27T12:14:59.600387Z",
     "start_time": "2020-02-27T12:14:59.303461Z"
    }
   },
   "outputs": [
    {
     "name": "stdout",
     "output_type": "stream",
     "text": [
      "대한민국헌법\n",
      "\n",
      "유구\n"
     ]
    }
   ],
   "source": [
    ">>> from konlpy.corpus import kolaw\n",
    ">>> c = kolaw.open('constitution.txt').read()\n",
    ">>> print(c[:10])"
   ]
  },
  {
   "cell_type": "code",
   "execution_count": 2,
   "metadata": {
    "ExecuteTime": {
     "end_time": "2020-02-27T12:15:20.304691Z",
     "start_time": "2020-02-27T12:15:20.289261Z"
    }
   },
   "outputs": [
    {
     "name": "stdout",
     "output_type": "stream",
     "text": [
      "지방공무원법 일부개정법률안\n",
      "\n"
     ]
    }
   ],
   "source": [
    ">>> from konlpy.corpus import kobill\n",
    ">>> d = kobill.open('1809890.txt').read()\n",
    ">>> print(d[:15])"
   ]
  },
  {
   "cell_type": "code",
   "execution_count": 3,
   "metadata": {
    "ExecuteTime": {
     "end_time": "2020-02-27T12:16:23.043308Z",
     "start_time": "2020-02-27T12:15:56.306458Z"
    },
    "scrolled": true
   },
   "outputs": [
    {
     "name": "stdout",
     "output_type": "stream",
     "text": [
      "\n",
      "Collocations among tagged words:\n",
      "[(('가부', 'NNG'), ('동수', 'NNG')),\n",
      " (('강제', 'NNG'), ('노역', 'NNG')),\n",
      " (('경자', 'NNG'), ('유전', 'NNG')),\n",
      " (('고', 'ECS'), ('채취', 'NNG')),\n",
      " (('공무', 'NNG'), ('담임', 'NNG')),\n",
      " (('공중', 'NNG'), ('도덕', 'NNG')),\n",
      " (('과반', 'NNG'), ('수가', 'NNG')),\n",
      " (('교전', 'NNG'), ('상태', 'NNG')),\n",
      " (('그러', 'VV'), ('나', 'ECE')),\n",
      " (('기본적', 'NNG'), ('인권', 'NNG'))]\n"
     ]
    }
   ],
   "source": [
    "from konlpy.tag import Kkma\n",
    "from konlpy.corpus import kolaw\n",
    "from konlpy.utils import pprint\n",
    "from nltk import collocations\n",
    "\n",
    "\n",
    "measures = collocations.BigramAssocMeasures()\n",
    "doc = kolaw.open('constitution.txt').read()\n",
    "\n",
    "print('\\nCollocations among tagged words:')\n",
    "tagged_words = Kkma().pos(doc)\n",
    "finder = collocations.BigramCollocationFinder.from_words(tagged_words)\n",
    "pprint(finder.nbest(measures.pmi, 10)) # top 5 n-grams with highest PMI"
   ]
  },
  {
   "cell_type": "code",
   "execution_count": 4,
   "metadata": {
    "ExecuteTime": {
     "end_time": "2020-02-27T12:16:50.882680Z",
     "start_time": "2020-02-27T12:16:50.804633Z"
    }
   },
   "outputs": [
    {
     "name": "stdout",
     "output_type": "stream",
     "text": [
      "\n",
      "Collocations among words:\n",
      "[('현행', '범인'),\n",
      " ('형의', '선고'),\n",
      " ('내부', '규율'),\n",
      " ('정치적', '중립성'),\n",
      " ('누구', '든지'),\n",
      " ('회계', '연도'),\n",
      " ('지체', '없이'),\n",
      " ('평화적', '통일'),\n",
      " ('형사', '피고인'),\n",
      " ('지방', '자치')]\n"
     ]
    }
   ],
   "source": [
    "print('\\nCollocations among words:')\n",
    "words = [w for w, t in tagged_words]\n",
    "ignored_words = [u'안녕']\n",
    "finder = collocations.BigramCollocationFinder.from_words(words)\n",
    "finder.apply_word_filter(lambda w: len(w) < 2 or w in ignored_words)\n",
    "finder.apply_freq_filter(3) # only bigrams that appear 3+ times\n",
    "pprint(finder.nbest(measures.pmi, 10))"
   ]
  },
  {
   "cell_type": "code",
   "execution_count": 5,
   "metadata": {
    "ExecuteTime": {
     "end_time": "2020-02-27T12:17:00.398377Z",
     "start_time": "2020-02-27T12:17:00.334595Z"
    }
   },
   "outputs": [
    {
     "name": "stdout",
     "output_type": "stream",
     "text": [
      "\n",
      "Collocations among tags:\n",
      "[('XR', 'XSA'), ('JKC', 'VCN'), ('EPT', 'EPT'), ('VCN', 'ECD'), ('ECD', 'VX')]\n"
     ]
    }
   ],
   "source": [
    "print('\\nCollocations among tags:')\n",
    "tags = [t for w, t in tagged_words]\n",
    "finder = collocations.BigramCollocationFinder.from_words(tags)\n",
    "pprint(finder.nbest(measures.pmi, 5))"
   ]
  },
  {
   "cell_type": "markdown",
   "metadata": {},
   "source": [
    "⊕ [Mining English and Korean text with Python — Courses](https://www.lucypark.kr/courses/2015-ba/text-mining.html#python-packages-for-text-mining-and-nlp)\n"
   ]
  },
  {
   "cell_type": "code",
   "execution_count": 6,
   "metadata": {
    "ExecuteTime": {
     "end_time": "2020-02-27T17:12:17.335992Z",
     "start_time": "2020-02-27T17:12:17.328311Z"
    }
   },
   "outputs": [],
   "source": [
    "from konlpy.corpus import kobill    # Docs from pokr.kr/bill\n",
    "files_ko = kobill.fileids()         # Get file ids\n",
    "doc_ko = kobill.open('1809890.txt').read()"
   ]
  },
  {
   "cell_type": "code",
   "execution_count": 7,
   "metadata": {
    "ExecuteTime": {
     "end_time": "2020-02-27T17:12:34.202984Z",
     "start_time": "2020-02-27T17:12:29.660371Z"
    }
   },
   "outputs": [
    {
     "name": "stderr",
     "output_type": "stream",
     "text": [
      "/Users/xiaofeiwu/miniconda3/envs/rasa/lib/python3.6/site-packages/konlpy/tag/_okt.py:16: UserWarning: \"Twitter\" has changed to \"Okt\" since KoNLPy v0.4.5.\n",
      "  warn('\"Twitter\" has changed to \"Okt\" since KoNLPy v0.4.5.')\n"
     ]
    }
   ],
   "source": [
    "from konlpy.tag import Twitter; t = Twitter()\n",
    "tokens_ko = t.morphs(doc_ko)"
   ]
  },
  {
   "cell_type": "code",
   "execution_count": 8,
   "metadata": {
    "ExecuteTime": {
     "end_time": "2020-02-27T17:12:46.254004Z",
     "start_time": "2020-02-27T17:12:46.249099Z"
    }
   },
   "outputs": [],
   "source": [
    "import nltk\n",
    "ko = nltk.Text(tokens_ko, name='대한민국 국회 의안 제 1809890호')   # For Python 2, input `name` as u'유니코드'"
   ]
  },
  {
   "cell_type": "code",
   "execution_count": 9,
   "metadata": {
    "ExecuteTime": {
     "end_time": "2020-02-27T17:12:58.518008Z",
     "start_time": "2020-02-27T17:12:58.456324Z"
    }
   },
   "outputs": [
    {
     "name": "stdout",
     "output_type": "stream",
     "text": [
      "1777\n",
      "476\n"
     ]
    },
    {
     "data": {
      "text/plain": [
       "FreqDist({'\\n\\n': 127, '.': 49, '의': 46, '육아휴직': 38, '을': 28, '(': 27, ')': 26, '이': 25, '자': 24, '에': 23, ...})"
      ]
     },
     "execution_count": 9,
     "metadata": {},
     "output_type": "execute_result"
    }
   ],
   "source": [
    "print(len(ko.tokens))       # returns number of tokens (document length)\n",
    "print(len(set(ko.tokens)))  # returns number of unique tokens\n",
    "ko.vocab()          "
   ]
  },
  {
   "cell_type": "code",
   "execution_count": 12,
   "metadata": {
    "ExecuteTime": {
     "end_time": "2020-02-27T17:14:47.187457Z",
     "start_time": "2020-02-27T17:14:46.517026Z"
    }
   },
   "outputs": [
    {
     "data": {
      "image/png": "[encoded data removed]",
      "text/plain": [
       "<Figure size 432x288 with 1 Axes>"
      ]
     },
     "metadata": {
      "needs_background": "light"
     },
     "output_type": "display_data"
    }
   ],
   "source": [
    "ko.plot(50)     # Plot sorted frequency of top 50 tokens\n"
   ]
  },
  {
   "cell_type": "code",
   "execution_count": 13,
   "metadata": {
    "ExecuteTime": {
     "end_time": "2020-02-27T17:15:26.691335Z",
     "start_time": "2020-02-27T17:15:26.671281Z"
    }
   },
   "outputs": [
    {
     "data": {
      "text/plain": [
       "6"
      ]
     },
     "execution_count": 13,
     "metadata": {},
     "output_type": "execute_result"
    }
   ],
   "source": [
    "ko.count('초등학교')   # Counts occurrences\n"
   ]
  },
  {
   "cell_type": "code",
   "execution_count": 14,
   "metadata": {
    "ExecuteTime": {
     "end_time": "2020-02-27T17:15:35.492588Z",
     "start_time": "2020-02-27T17:15:35.271158Z"
    }
   },
   "outputs": [
    {
     "data": {
      "image/png": "[encoded data removed]",
      "text/plain": [
       "<Figure size 432x288 with 1 Axes>"
      ]
     },
     "metadata": {
      "needs_background": "light"
     },
     "output_type": "display_data"
    }
   ],
   "source": [
    "ko.dispersion_plot(['육아휴직', '초등학교', '공무원'])\n"
   ]
  },
  {
   "cell_type": "code",
   "execution_count": 17,
   "metadata": {
    "ExecuteTime": {
     "end_time": "2020-02-27T17:17:39.737420Z",
     "start_time": "2020-02-27T17:17:39.720363Z"
    }
   },
   "outputs": [
    {
     "data": {
      "text/plain": [
       "[('작고', 'Noun'),\n",
       " ('노란', 'Adjective'),\n",
       " ('강아지', 'Noun'),\n",
       " ('가', 'Josa'),\n",
       " ('페르시안', 'Noun'),\n",
       " ('고양이', 'Noun'),\n",
       " ('에게', 'Josa'),\n",
       " ('짖었다', 'Verb')]"
      ]
     },
     "execution_count": 17,
     "metadata": {},
     "output_type": "execute_result"
    }
   ],
   "source": [
    "from konlpy.tag import Twitter; t = Twitter()\n",
    "tags_ko = t.pos(\"작고 노란 강아지가 페르시안 고양이에게 짖었다\")\n",
    "tags_ko"
   ]
  },
  {
   "cell_type": "code",
   "execution_count": 19,
   "metadata": {
    "ExecuteTime": {
     "end_time": "2020-02-27T17:19:02.687890Z",
     "start_time": "2020-02-27T17:19:02.677740Z"
    }
   },
   "outputs": [],
   "source": [
    "from konlpy.corpus import kobill\n",
    "docs_ko = [kobill.open(i).read() for i in kobill.fileids()]"
   ]
  },
  {
   "cell_type": "code",
   "execution_count": 21,
   "metadata": {
    "ExecuteTime": {
     "end_time": "2020-02-27T17:19:29.088683Z",
     "start_time": "2020-02-27T17:19:27.169423Z"
    }
   },
   "outputs": [
    {
     "name": "stdout",
     "output_type": "stream",
     "text": [
      "['행정절차법/Noun', '일부/Noun', '개정/Noun', '법률/Noun', '안/Noun']\n"
     ]
    }
   ],
   "source": [
    "from konlpy.tag import Twitter; t = Twitter()\n",
    "pos = lambda d: ['/'.join(p) for p in t.pos(d, stem=True, norm=True)]\n",
    "texts_ko = [pos(doc) for doc in docs_ko]\n",
    "print(texts_ko[0][:5])"
   ]
  },
  {
   "cell_type": "code",
   "execution_count": 1,
   "metadata": {
    "ExecuteTime": {
     "end_time": "2020-02-27T20:07:52.808537Z",
     "start_time": "2020-02-27T20:07:52.382536Z"
    }
   },
   "outputs": [
    {
     "name": "stdout",
     "output_type": "stream",
     "text": [
      "['영등포구청역', '에', '있', '는', '맛집', '좀', '알려', '주', '세요', '.']\n"
     ]
    }
   ],
   "source": [
    "from konlpy.tag import Mecab\n",
    "mecab = Mecab()\n",
    "print(mecab.morphs(u'영등포구청역에 있는 맛집 좀 알려주세요.'))"
   ]
  },
  {
   "cell_type": "markdown",
   "metadata": {},
   "source": [
    "```\n",
    "We need pizza and spaghetti.\n",
    "우리는 피자와 스파게티가 필요해요.\n",
    "ulineun pijawa seupagetiga pil-yohaeyo.\n",
    "```\n",
    "```\n",
    "0 -  우리는 (We are,  ulineun)\n",
    "1 -  피자와 (Pizza and,  pijawa)\n",
    "2 -  스파게티가 (Spaghetti,  seupagetiga)\n",
    "3 -  필요해요 (I need,  pil-yohaeyo)\n",
    "4 -  . (.,  .)\n",
    "```"
   ]
  },
  {
   "cell_type": "code",
   "execution_count": 8,
   "metadata": {
    "ExecuteTime": {
     "end_time": "2020-02-27T21:52:21.412612Z",
     "start_time": "2020-02-27T21:52:21.405134Z"
    }
   },
   "outputs": [
    {
     "name": "stdout",
     "output_type": "stream",
     "text": [
      "['필요', '해요']\n",
      "['필요']\n",
      "[('필요', 'NNG'), ('해요', 'XSA+EC')]\n"
     ]
    }
   ],
   "source": [
    "word='필요해요'\n",
    "print(mecab.morphs(word))\n",
    "print(mecab.nouns(word))\n",
    "print(mecab.pos(word))"
   ]
  },
  {
   "cell_type": "code",
   "execution_count": 30,
   "metadata": {
    "ExecuteTime": {
     "end_time": "2020-02-27T23:16:59.141787Z",
     "start_time": "2020-02-27T23:16:59.104880Z"
    }
   },
   "outputs": [
    {
     "name": "stdout",
     "output_type": "stream",
     "text": [
      "[['피자', 'NNG'], ['와', 'JC'], ['스파게티', 'NNG'], ['가', 'JKS']]\n",
      "피자\n"
     ]
    }
   ],
   "source": [
    "word='피자와 스파게티가'\n",
    "def extract_ko(target, word):\n",
    "    response = requests.post(f'http://localhost:1700/ko/extract/{target}', \n",
    "                             json={'sents':word})\n",
    "    if response.status_code == 200:\n",
    "        sets= response.json()\n",
    "        return sets\n",
    "    return []\n",
    "rs=extract_ko('pos', word)\n",
    "print(rs)\n",
    "if rs:\n",
    "    print(rs[0][0])"
   ]
  },
  {
   "cell_type": "code",
   "execution_count": 33,
   "metadata": {
    "ExecuteTime": {
     "end_time": "2020-02-27T23:40:37.809661Z",
     "start_time": "2020-02-27T23:40:37.800970Z"
    }
   },
   "outputs": [
    {
     "data": {
      "text/plain": [
       "'extract_ko'"
      ]
     },
     "execution_count": 33,
     "metadata": {},
     "output_type": "execute_result"
    }
   ],
   "source": [
    "fn=extract_ko\n",
    "fn.__name__"
   ]
  },
  {
   "cell_type": "code",
   "execution_count": 18,
   "metadata": {
    "ExecuteTime": {
     "end_time": "2020-02-27T22:06:52.675816Z",
     "start_time": "2020-02-27T22:06:52.579195Z"
    }
   },
   "outputs": [
    {
     "data": {
      "text/plain": [
       "{'name': 'word.n.01',\n",
       " 'definition': 'a unit of language that native speakers can identify',\n",
       " 'examples': ['words are the blocks from which sentences are made',\n",
       "  'he hardly said ten words all morning'],\n",
       " 'domains': {'topic': [], 'region': [], 'usage': []},\n",
       " 'lemmas': {'en': ['word'],\n",
       "  'zh': ['单词', '字词', '词'],\n",
       "  'ja': ['ワード', '単語', '言葉', '語', '辞'],\n",
       "  'fr': ['mot'],\n",
       "  'de': ['Wort'],\n",
       "  'id': ['istilah', 'kata', 'perkataan'],\n",
       "  'nl': ['woord']}}"
      ]
     },
     "execution_count": 18,
     "metadata": {},
     "output_type": "execute_result"
    }
   ],
   "source": [
    "import requests\n",
    "from sagas.conf.conf import cf\n",
    "\n",
    "def get_word_sets(word, lang='en', pos='*'):\n",
    "    response = requests.post(f'{cf.ensure(\"words_servant\")}/word_sets',\n",
    "                             json={'word':word, 'lang':lang, 'pos':pos})\n",
    "    # print(response.status_code, response.json())\n",
    "    if response.status_code == 200:\n",
    "        sets= response.json()\n",
    "        if sets:\n",
    "            return sets[0]\n",
    "    return None\n",
    "\n",
    "get_word_sets('word')"
   ]
  },
  {
   "cell_type": "code",
   "execution_count": 21,
   "metadata": {
    "ExecuteTime": {
     "end_time": "2020-02-27T22:10:54.036718Z",
     "start_time": "2020-02-27T22:10:54.019675Z"
    }
   },
   "outputs": [
    {
     "name": "stdout",
     "output_type": "stream",
     "text": [
      "필요 pir-yo NNG necessary.a.01(absolutely essential)\n",
      "해요 hae-yo XSA+EC _\n"
     ]
    }
   ],
   "source": [
    "from sagas.nlu.transliterations import translits\n",
    "def translit(word):\n",
    "    for w,p in mecab.pos(word):\n",
    "        expl='_'\n",
    "        if p in ('NNG', 'VV'):\n",
    "            ws=get_word_sets(w, 'ko')\n",
    "            if ws:\n",
    "                expl=f\"{ws['name']}({ws['definition']})\"                \n",
    "        print(w, translits.translit(w, 'ko'), p, expl)\n",
    "translit('필요해요')"
   ]
  },
  {
   "cell_type": "code",
   "execution_count": 22,
   "metadata": {
    "ExecuteTime": {
     "end_time": "2020-02-27T22:11:12.742537Z",
     "start_time": "2020-02-27T22:11:12.693835Z"
    }
   },
   "outputs": [
    {
     "name": "stdout",
     "output_type": "stream",
     "text": [
      "['피자', '와', '스파게티', '가']\n",
      "['피자', '스파게티']\n",
      "[('피자', 'NNG'), ('와', 'JC'), ('스파게티', 'NNG'), ('가', 'JKS')]\n",
      "피자 pi-ja NNG pizza.n.01(Italian open pie made of thin bread dough spread with a spiced mixture of e.g. tomato sauce and cheese)\n",
      "와 wa JC _\n",
      "스파게티 seu-pa-ge-ti NNG spaghetti.n.02(pasta in the form of long strings)\n",
      "가 ga JKS _\n"
     ]
    }
   ],
   "source": [
    "word='피자와 스파게티가'\n",
    "print(mecab.morphs(word))\n",
    "print(mecab.nouns(word))\n",
    "print(mecab.pos(word))\n",
    "\n",
    "translit(word)"
   ]
  },
  {
   "cell_type": "code",
   "execution_count": 24,
   "metadata": {
    "ExecuteTime": {
     "end_time": "2020-02-27T22:11:52.836296Z",
     "start_time": "2020-02-27T22:11:52.821011Z"
    }
   },
   "outputs": [
    {
     "name": "stdout",
     "output_type": "stream",
     "text": [
      "['기다리']\n",
      "[]\n",
      "[('기다리', 'VV')]\n",
      "기다리 gi-da-ri VV _\n"
     ]
    }
   ],
   "source": [
    "word='기다리'\n",
    "print(mecab.morphs(word))\n",
    "print(mecab.nouns(word))\n",
    "print(mecab.pos(word))\n",
    "\n",
    "translit(word)"
   ]
  },
  {
   "cell_type": "code",
   "execution_count": 25,
   "metadata": {
    "ExecuteTime": {
     "end_time": "2020-02-27T22:12:24.412152Z",
     "start_time": "2020-02-27T22:12:24.237953Z"
    }
   },
   "outputs": [
    {
     "name": "stdout",
     "output_type": "stream",
     "text": [
      "단독 dan-dog NNG _\n",
      "입찰 ib-car NNG _\n",
      "보다 bo-da JKB _\n",
      "복수 bog-su NNG plural.a.01(composed of more than one member, set, or kind)\n",
      "입찰 ib-car NNG _\n",
      "의 eui JKG _\n",
      "경우 gyeong-u NNG case.n.01(an occurrence of something)\n"
     ]
    }
   ],
   "source": [
    "translit('단독입찰보다 복수입찰의 경우')"
   ]
  },
  {
   "cell_type": "code",
   "execution_count": 3,
   "metadata": {
    "ExecuteTime": {
     "end_time": "2020-02-27T20:02:45.495309Z",
     "start_time": "2020-02-27T20:02:45.443216Z"
    }
   },
   "outputs": [
    {
     "name": "stdout",
     "output_type": "stream",
     "text": [
      "['단독', '입찰', '보다', '복수', '입찰', '의', '경우']\n"
     ]
    }
   ],
   "source": [
    ">>> from konlpy.tag import Okt\n",
    ">>> okt = Okt()\n",
    ">>> print(okt.morphs(u'단독입찰보다 복수입찰의 경우'))"
   ]
  },
  {
   "cell_type": "code",
   "execution_count": 5,
   "metadata": {
    "ExecuteTime": {
     "end_time": "2020-02-27T20:03:52.620623Z",
     "start_time": "2020-02-27T20:03:52.592944Z"
    }
   },
   "outputs": [
    {
     "name": "stdout",
     "output_type": "stream",
     "text": [
      "[('이', 'Determiner'), ('것', 'Noun'), ('도', 'Josa'), ('되다', 'Verb'), ('ㅋㅋ', 'KoreanParticle')]\n"
     ]
    }
   ],
   "source": [
    ">>> print(okt.pos(u'이것도 되나욬ㅋㅋ', norm=True, stem=True))"
   ]
  },
  {
   "cell_type": "code",
   "execution_count": 13,
   "metadata": {
    "ExecuteTime": {
     "end_time": "2020-02-27T20:06:49.663932Z",
     "start_time": "2020-02-27T20:06:49.489792Z"
    }
   },
   "outputs": [
    {
     "name": "stdout",
     "output_type": "stream",
     "text": [
      "['필요해요']\n",
      "[]\n",
      "[('필요해요', 'Adjective')]\n",
      "[('필요하다', 'Adjective')]\n",
      "['필요해요']\n"
     ]
    }
   ],
   "source": [
    "word='필요해요'\n",
    "print(okt.morphs(word))\n",
    "print(okt.phrases(word))\n",
    "print(okt.pos(word))\n",
    "print(okt.pos(word, norm=True, stem=True))\n",
    "print(okt.morphs(word))"
   ]
  },
  {
   "cell_type": "code",
   "execution_count": 37,
   "metadata": {
    "ExecuteTime": {
     "end_time": "2020-02-28T10:48:48.222753Z",
     "start_time": "2020-02-28T10:48:48.216270Z"
    }
   },
   "outputs": [
    {
     "name": "stdout",
     "output_type": "stream",
     "text": [
      "su-ho-ha mae-su-ha ba-kwi\n"
     ]
    }
   ],
   "source": [
    "print(translits.translit('수호하', 'ko'),\n",
    "      translits.translit('매수하', 'ko'),\n",
    "      translits.translit('바퀴', 'ko'),\n",
    "     )"
   ]
  }
 ],
 "metadata": {
  "kernelspec": {
   "display_name": "Python 3",
   "language": "python",
   "name": "python3"
  },
  "language_info": {
   "codemirror_mode": {
    "name": "ipython",
    "version": 3
   },
   "file_extension": ".py",
   "mimetype": "text/x-python",
   "name": "python",
   "nbconvert_exporter": "python",
   "pygments_lexer": "ipython3",
   "version": "3.6.6"
  },
  "varInspector": {
   "cols": {
    "lenName": 16,
    "lenType": 16,
    "lenVar": 40
   },
   "kernels_config": {
    "python": {
     "delete_cmd_postfix": "",
     "delete_cmd_prefix": "del ",
     "library": "var_list.py",
     "varRefreshCmd": "print(var_dic_list())"
    },
    "r": {
     "delete_cmd_postfix": ") ",
     "delete_cmd_prefix": "rm(",
     "library": "var_list.r",
     "varRefreshCmd": "cat(var_dic_list()) "
    }
   },
   "types_to_exclude": [
    "module",
    "function",
    "builtin_function_or_method",
    "instance",
    "_Feature"
   ],
   "window_display": false
  }
 },
 "nbformat": 4,
 "nbformat_minor": 2
}
