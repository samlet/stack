{
 "cells": [
  {
   "cell_type": "code",
   "execution_count": 23,
   "metadata": {
    "ExecuteTime": {
     "end_time": "2019-05-25T16:34:15.765692Z",
     "start_time": "2019-05-25T16:34:15.675962Z"
    }
   },
   "outputs": [],
   "source": [
    "import sagas.graph.dgraph_helper as helper\n",
    "import pydgraph\n",
    "\n",
    "def reset(schema):\n",
    "    client = helper.create_client()\n",
    "    # client.login(\"root\", \"password\")\n",
    "    helper.drop_all(client)\n",
    "    helper.set_schema(client, schema)\n",
    "    return client\n",
    "\n",
    "client=reset('name: string @index(term) .')"
   ]
  },
  {
   "cell_type": "code",
   "execution_count": 24,
   "metadata": {
    "ExecuteTime": {
     "end_time": "2019-05-25T16:34:19.546181Z",
     "start_time": "2019-05-25T16:34:19.476839Z"
    }
   },
   "outputs": [],
   "source": [
    "txn = client.txn()\n",
    "_ = txn.mutate(pydgraph.Mutation(commit_now=True), set_nquads=\"\"\"\n",
    "    <_:alice> <name> \"Alice\" .\n",
    "    <_:greg> <name> \"Greg\" .\n",
    "    <_:alice> <follows> <_:greg> .\n",
    "\"\"\")"
   ]
  },
  {
   "cell_type": "code",
   "execution_count": 21,
   "metadata": {
    "ExecuteTime": {
     "end_time": "2019-05-25T16:33:00.228976Z",
     "start_time": "2019-05-25T16:33:00.185041Z"
    }
   },
   "outputs": [
    {
     "name": "stdout",
     "output_type": "stream",
     "text": [
      "b'{\"me\":[{\"name\":\"Alice\",\"follows\":[{\"name\":\"Greg\"}]}]}'\n",
      "[\n",
      "  {\n",
      "    \"name\": \"Alice\",\n",
      "    \"follows\": [\n",
      "      {\n",
      "        \"name\": \"Greg\"\n",
      "      }\n",
      "    ]\n",
      "  }\n",
      "]\n"
     ]
    }
   ],
   "source": [
    "query = \"\"\"query me($a: string) {\n",
    "    me(func: anyofterms(name, \"Alice\"))\n",
    "    {\n",
    "        name\n",
    "        follows\n",
    "        {\n",
    "            name\n",
    "        }\n",
    "    }\n",
    "}\"\"\"\n",
    "response = client.txn().query(query, variables={'$a': 'Alice'})\n",
    "print(response.json)\n",
    "\n",
    "rs=json.loads(response.json).get('me')\n",
    "print(json.dumps(rs, ensure_ascii=False, indent=2))"
   ]
  },
  {
   "cell_type": "code",
   "execution_count": 25,
   "metadata": {
    "ExecuteTime": {
     "end_time": "2019-05-25T16:35:43.451899Z",
     "start_time": "2019-05-25T16:35:43.259452Z"
    }
   },
   "outputs": [],
   "source": [
    "client=reset('''\n",
    "    name: string @index(exact, term) .\n",
    "    rated: uid @reverse @count .\n",
    "''')"
   ]
  },
  {
   "cell_type": "code",
   "execution_count": 26,
   "metadata": {
    "ExecuteTime": {
     "end_time": "2019-05-25T16:36:30.242608Z",
     "start_time": "2019-05-25T16:36:30.132633Z"
    }
   },
   "outputs": [],
   "source": [
    "txn = client.txn()\n",
    "_ = txn.mutate(pydgraph.Mutation(commit_now=True), set_nquads=\"\"\"\n",
    "    # -- Facets on scalar predicates\n",
    "    _:alice <name> \"Alice\" .\n",
    "    _:alice <mobile> \"040123456\" (since=2006-01-02T15:04:05) .\n",
    "    _:alice <car> \"MA0123\" (since=2006-02-02T13:01:09, first=true) .\n",
    "\n",
    "    _:bob <name> \"Bob\" .\n",
    "    _:bob <car> \"MA0134\" (since=2006-02-02T13:01:09) .\n",
    "\n",
    "    _:charlie <name> \"Charlie\" .\n",
    "    _:dave <name> \"Dave\" .\n",
    "\n",
    "\n",
    "    # -- Facets on UID predicates\n",
    "    _:alice <friend> _:bob (close=true, relative=false) .\n",
    "    _:alice <friend> _:charlie (close=false, relative=true) .\n",
    "    _:alice <friend> _:dave (close=true, relative=true) .\n",
    "\n",
    "\n",
    "    # -- Facets for variable propagation\n",
    "    _:movie1 <name> \"Movie 1\" .\n",
    "    _:movie2 <name> \"Movie 2\" .\n",
    "    _:movie3 <name> \"Movie 3\" .\n",
    "\n",
    "    _:alice <rated> _:movie1 (rating=3) .\n",
    "    _:alice <rated> _:movie2 (rating=2) .\n",
    "    _:alice <rated> _:movie3 (rating=5) .\n",
    "\n",
    "    _:bob <rated> _:movie1 (rating=5) .\n",
    "    _:bob <rated> _:movie2 (rating=5) .\n",
    "    _:bob <rated> _:movie3 (rating=5) .\n",
    "\n",
    "    _:charlie <rated> _:movie1 (rating=2) .\n",
    "    _:charlie <rated> _:movie2 (rating=5) .\n",
    "    _:charlie <rated> _:movie3 (rating=1) .\n",
    "\"\"\")"
   ]
  },
  {
   "cell_type": "code",
   "execution_count": 29,
   "metadata": {
    "ExecuteTime": {
     "end_time": "2019-05-25T16:39:46.819701Z",
     "start_time": "2019-05-25T16:39:46.779588Z"
    }
   },
   "outputs": [
    {
     "name": "stdout",
     "output_type": "stream",
     "text": [
      "{\n",
      "  \"data\": [\n",
      "    {\n",
      "      \"name\": \"Alice\",\n",
      "      \"mobile\": \"040123456\",\n",
      "      \"car\": \"MA0123\"\n",
      "    }\n",
      "  ]\n",
      "}\n"
     ]
    }
   ],
   "source": [
    "response = client.txn().query('''{\n",
    "  data(func: eq(name, \"Alice\")) {\n",
    "     name\n",
    "     mobile\n",
    "     car\n",
    "  }\n",
    "}''')\n",
    "\n",
    "def print_rs(response):\n",
    "    rs=json.loads(response.json)\n",
    "    print(json.dumps(rs, ensure_ascii=False, indent=2))\n",
    "\n",
    "print_rs(response)"
   ]
  },
  {
   "cell_type": "code",
   "execution_count": 30,
   "metadata": {
    "ExecuteTime": {
     "end_time": "2019-05-25T16:40:16.702401Z",
     "start_time": "2019-05-25T16:40:16.669741Z"
    }
   },
   "outputs": [
    {
     "name": "stdout",
     "output_type": "stream",
     "text": [
      "{\n",
      "  \"data\": [\n",
      "    {\n",
      "      \"name\": \"Alice\",\n",
      "      \"mobile|since\": \"2006-01-02T15:04:05Z\",\n",
      "      \"mobile\": \"040123456\",\n",
      "      \"car|since\": \"2006-02-02T13:01:09Z\",\n",
      "      \"car\": \"MA0123\"\n",
      "    }\n",
      "  ]\n",
      "}\n"
     ]
    }
   ],
   "source": [
    "response = client.txn().query('''{\n",
    "  data(func: eq(name, \"Alice\")) {\n",
    "     name\n",
    "     mobile @facets(since)\n",
    "     car @facets(since)\n",
    "  }\n",
    "}''')\n",
    "print_rs(response)"
   ]
  },
  {
   "cell_type": "code",
   "execution_count": 32,
   "metadata": {
    "ExecuteTime": {
     "end_time": "2019-05-25T16:43:46.379659Z",
     "start_time": "2019-05-25T16:43:46.348731Z"
    }
   },
   "outputs": [
    {
     "name": "stdout",
     "output_type": "stream",
     "text": [
      "{\n",
      "  \"data\": [\n",
      "    {\n",
      "      \"name\": \"Alice\",\n",
      "      \"mobile|since\": \"2006-01-02T15:04:05Z\",\n",
      "      \"mobile\": \"040123456\",\n",
      "      \"car|first\": true,\n",
      "      \"car|since\": \"2006-02-02T13:01:09Z\",\n",
      "      \"car\": \"MA0123\"\n",
      "    }\n",
      "  ]\n",
      "}\n"
     ]
    }
   ],
   "source": [
    "# 查询边缘上的所有方面@facets\n",
    "response = client.txn().query('''{\n",
    "  data(func: eq(name, \"Alice\")) {\n",
    "     name\n",
    "     mobile @facets\n",
    "     car @facets\n",
    "  }\n",
    "}''')\n",
    "print_rs(response)"
   ]
  },
  {
   "cell_type": "markdown",
   "metadata": {},
   "source": [
    "在变异时，Facets键和值可以直接使用特定于语言的字符。但是<>在查询时需要将方面键括在尖括号中。这类似于谓词。"
   ]
  },
  {
   "cell_type": "code",
   "execution_count": 33,
   "metadata": {
    "ExecuteTime": {
     "end_time": "2019-05-25T16:46:55.069901Z",
     "start_time": "2019-05-25T16:46:54.996498Z"
    }
   },
   "outputs": [
    {
     "data": {
      "text/plain": [
       "uids {\n",
       "  key: \"person1\"\n",
       "  value: \"0x77ed\"\n",
       "}\n",
       "uids {\n",
       "  key: \"person2\"\n",
       "  value: \"0x77ee\"\n",
       "}\n",
       "uids {\n",
       "  key: \"person3\"\n",
       "  value: \"0x77ef\"\n",
       "}\n",
       "context {\n",
       "  start_ts: 30093\n",
       "  commit_ts: 30094\n",
       "  preds: \"1-name\"\n",
       "  preds: \"1-_predicate_\"\n",
       "}\n",
       "latency {\n",
       "  parsing_ns: 24721200\n",
       "  processing_ns: 30775500\n",
       "}"
      ]
     },
     "execution_count": 33,
     "metadata": {},
     "output_type": "execute_result"
    }
   ],
   "source": [
    "def set_nquads(nquads):\n",
    "    txn = client.txn()\n",
    "    return txn.mutate(pydgraph.Mutation(commit_now=True), set_nquads=nquads)\n",
    "\n",
    "set_nquads(\"\"\"\n",
    "\t\t_:person1 <name> \"Daniel\" (वंश=\"स्पेनी\", ancestry=\"Español\") .\n",
    "\t\t_:person2 <name> \"Raj\" (वंश=\"हिंदी\", ancestry=\"हिंदी\") .\n",
    "\t\t_:person3 <name> \"Zhang Wei\" (वंश=\"चीनी\", ancestry=\"中文\") .\n",
    "\"\"\")"
   ]
  },
  {
   "cell_type": "code",
   "execution_count": 34,
   "metadata": {
    "ExecuteTime": {
     "end_time": "2019-05-25T16:47:40.434260Z",
     "start_time": "2019-05-25T16:47:40.403824Z"
    }
   },
   "outputs": [
    {
     "name": "stdout",
     "output_type": "stream",
     "text": [
      "{\n",
      "  \"q\": [\n",
      "    {\n",
      "      \"name\": \"Movie 3\"\n",
      "    },\n",
      "    {\n",
      "      \"name\": \"Alice\"\n",
      "    },\n",
      "    {\n",
      "      \"name\": \"Bob\"\n",
      "    },\n",
      "    {\n",
      "      \"name\": \"Charlie\"\n",
      "    },\n",
      "    {\n",
      "      \"name\": \"Dave\"\n",
      "    },\n",
      "    {\n",
      "      \"name\": \"Movie 1\"\n",
      "    },\n",
      "    {\n",
      "      \"name\": \"Movie 2\"\n",
      "    },\n",
      "    {\n",
      "      \"name|वंश\": \"स्पेनी\",\n",
      "      \"name\": \"Daniel\"\n",
      "    },\n",
      "    {\n",
      "      \"name|वंश\": \"हिंदी\",\n",
      "      \"name\": \"Raj\"\n",
      "    },\n",
      "    {\n",
      "      \"name|वंश\": \"चीनी\",\n",
      "      \"name\": \"Zhang Wei\"\n",
      "    }\n",
      "  ]\n",
      "}\n"
     ]
    }
   ],
   "source": [
    "response = client.txn().query('''{\n",
    "  q(func: has(name)) {\n",
    "    name @facets(<वंश>)\n",
    "  }\n",
    "}''')\n",
    "print_rs(response)"
   ]
  },
  {
   "cell_type": "markdown",
   "metadata": {},
   "source": [
    "请求特定谓词时可以指定别名。语法类似于为其他谓词请求别名的方式。orderasc并且orderdesc不允许作为别名，因为它们具有特殊含义。除此之外，其他任何东西都可以设置为别名。\n",
    "这里我们设置car_since，close_friend别名since，close分别刻面。"
   ]
  },
  {
   "cell_type": "code",
   "execution_count": 35,
   "metadata": {
    "ExecuteTime": {
     "end_time": "2019-05-25T16:50:41.819377Z",
     "start_time": "2019-05-25T16:50:41.791720Z"
    }
   },
   "outputs": [
    {
     "name": "stdout",
     "output_type": "stream",
     "text": [
      "{\n",
      "  \"data\": [\n",
      "    {\n",
      "      \"name\": \"Alice\",\n",
      "      \"mobile\": \"040123456\",\n",
      "      \"car_since\": \"2006-02-02T13:01:09Z\",\n",
      "      \"car\": \"MA0123\",\n",
      "      \"friend\": [\n",
      "        {\n",
      "          \"name\": \"Bob\",\n",
      "          \"close_friend\": true\n",
      "        },\n",
      "        {\n",
      "          \"name\": \"Charlie\",\n",
      "          \"close_friend\": false\n",
      "        },\n",
      "        {\n",
      "          \"name\": \"Dave\",\n",
      "          \"close_friend\": true\n",
      "        }\n",
      "      ]\n",
      "    }\n",
      "  ]\n",
      "}\n"
     ]
    }
   ],
   "source": [
    "response = client.txn().query('''{\n",
    "   data(func: eq(name, \"Alice\")) {\n",
    "     name\n",
    "     mobile\n",
    "     car @facets(car_since: since)\n",
    "     friend @facets(close_friend: close) {\n",
    "       name\n",
    "     }\n",
    "   }\n",
    "}''')\n",
    "print_rs(response)"
   ]
  },
  {
   "cell_type": "code",
   "execution_count": 36,
   "metadata": {
    "ExecuteTime": {
     "end_time": "2019-05-25T16:55:46.869026Z",
     "start_time": "2019-05-25T16:55:46.841580Z"
    }
   },
   "outputs": [
    {
     "name": "stdout",
     "output_type": "stream",
     "text": [
      "{\n",
      "  \"data\": [\n",
      "    {\n",
      "      \"name\": \"Alice\",\n",
      "      \"friend\": [\n",
      "        {\n",
      "          \"name\": \"Bob\",\n",
      "          \"friend|close\": true\n",
      "        },\n",
      "        {\n",
      "          \"name\": \"Charlie\",\n",
      "          \"friend|close\": false\n",
      "        },\n",
      "        {\n",
      "          \"name\": \"Dave\",\n",
      "          \"friend|close\": true\n",
      "        }\n",
      "      ]\n",
      "    }\n",
      "  ]\n",
      "}\n"
     ]
    }
   ],
   "source": [
    "def run_q(query):\n",
    "    response = client.txn().query(query)\n",
    "    print_rs(response)\n",
    "\n",
    "run_q('''{\n",
    "   data(func: eq(name, \"Alice\")) {\n",
    "     name\n",
    "     friend @facets(close) {\n",
    "       name\n",
    "     }\n",
    "   }\n",
    "}\n",
    "''')"
   ]
  },
  {
   "cell_type": "code",
   "execution_count": 37,
   "metadata": {
    "ExecuteTime": {
     "end_time": "2019-05-25T16:57:54.253292Z",
     "start_time": "2019-05-25T16:57:54.229476Z"
    }
   },
   "outputs": [
    {
     "name": "stdout",
     "output_type": "stream",
     "text": [
      "{\n",
      "  \"data\": [\n",
      "    {\n",
      "      \"name\": \"Alice\",\n",
      "      \"friend\": [\n",
      "        {\n",
      "          \"name\": \"Bob\",\n",
      "          \"car|since\": \"2006-02-02T13:01:09Z\",\n",
      "          \"car\": \"MA0134\",\n",
      "          \"friend|close\": true,\n",
      "          \"friend|relative\": false\n",
      "        },\n",
      "        {\n",
      "          \"name\": \"Charlie\",\n",
      "          \"friend|close\": false,\n",
      "          \"friend|relative\": true\n",
      "        },\n",
      "        {\n",
      "          \"name\": \"Dave\",\n",
      "          \"friend|close\": true,\n",
      "          \"friend|relative\": true\n",
      "        }\n",
      "      ]\n",
      "    }\n",
      "  ]\n",
      "}\n"
     ]
    }
   ],
   "source": [
    "run_q('''{\n",
    "  data(func: eq(name, \"Alice\")) {\n",
    "    name\n",
    "    friend @facets {\n",
    "      name\n",
    "      car @facets\n",
    "    }\n",
    "  }\n",
    "}\n",
    "''')"
   ]
  },
  {
   "cell_type": "code",
   "execution_count": 38,
   "metadata": {
    "ExecuteTime": {
     "end_time": "2019-05-25T17:02:34.528312Z",
     "start_time": "2019-05-25T17:02:34.480700Z"
    }
   },
   "outputs": [
    {
     "name": "stdout",
     "output_type": "stream",
     "text": [
      "{\n",
      "  \"data\": [\n",
      "    {\n",
      "      \"friend\": [\n",
      "        {\n",
      "          \"name\": \"Bob\"\n",
      "        },\n",
      "        {\n",
      "          \"name\": \"Dave\"\n",
      "        }\n",
      "      ]\n",
      "    }\n",
      "  ]\n",
      "}\n"
     ]
    }
   ],
   "source": [
    "# 基于facet过滤边缘\n",
    "run_q('''{\n",
    "  data(func: eq(name, \"Alice\")) {\n",
    "    friend @facets(eq(close, true)) {\n",
    "      name\n",
    "    }\n",
    "  }\n",
    "}\n",
    "''')"
   ]
  },
  {
   "cell_type": "code",
   "execution_count": 39,
   "metadata": {
    "ExecuteTime": {
     "end_time": "2019-05-25T17:03:38.664939Z",
     "start_time": "2019-05-25T17:03:38.631997Z"
    }
   },
   "outputs": [
    {
     "name": "stdout",
     "output_type": "stream",
     "text": [
      "{\n",
      "  \"data\": [\n",
      "    {\n",
      "      \"friend\": [\n",
      "        {\n",
      "          \"name\": \"Bob\",\n",
      "          \"friend|relative\": false\n",
      "        },\n",
      "        {\n",
      "          \"name\": \"Dave\",\n",
      "          \"friend|relative\": true\n",
      "        }\n",
      "      ]\n",
      "    }\n",
      "  ]\n",
      "}\n"
     ]
    }
   ],
   "source": [
    "# 要返回构面以及过滤器，请@facets(<facetname>)在查询中添加另一个构面\n",
    "run_q('''{\n",
    "  data(func: eq(name, \"Alice\")) {\n",
    "    friend @facets(eq(close, true)) @facets(relative) { # filter close friends and give relative status\n",
    "      name\n",
    "    }\n",
    "  }\n",
    "}\n",
    "''')"
   ]
  },
  {
   "cell_type": "code",
   "execution_count": 40,
   "metadata": {
    "ExecuteTime": {
     "end_time": "2019-05-25T17:04:37.594707Z",
     "start_time": "2019-05-25T17:04:37.572716Z"
    }
   },
   "outputs": [
    {
     "name": "stdout",
     "output_type": "stream",
     "text": [
      "{\n",
      "  \"data\": [\n",
      "    {\n",
      "      \"friend\": [\n",
      "        {\n",
      "          \"name\": \"Dave\",\n",
      "          \"friend|relative\": true\n",
      "        }\n",
      "      ]\n",
      "    }\n",
      "  ]\n",
      "}\n"
     ]
    }
   ],
   "source": [
    "# Facet查询可以用AND，OR和组成NOT\n",
    "run_q('''{\n",
    "  data(func: eq(name, \"Alice\")) {\n",
    "    friend @facets(eq(close, true) AND eq(relative, true)) @facets(relative) { # filter close friends in my relation\n",
    "      name\n",
    "    }\n",
    "  }\n",
    "}\n",
    "''')"
   ]
  },
  {
   "cell_type": "code",
   "execution_count": 41,
   "metadata": {
    "ExecuteTime": {
     "end_time": "2019-05-25T17:21:02.117325Z",
     "start_time": "2019-05-25T17:21:02.009095Z"
    }
   },
   "outputs": [
    {
     "name": "stdout",
     "output_type": "stream",
     "text": [
      "{\n",
      "  \"me\": [\n",
      "    {\n",
      "      \"name\": \"Alice\",\n",
      "      \"rated\": [\n",
      "        {\n",
      "          \"name\": \"Movie 3\",\n",
      "          \"rated|rating\": 5\n",
      "        },\n",
      "        {\n",
      "          \"name\": \"Movie 1\",\n",
      "          \"rated|rating\": 3\n",
      "        },\n",
      "        {\n",
      "          \"name\": \"Movie 2\",\n",
      "          \"rated|rating\": 2\n",
      "        }\n",
      "      ]\n",
      "    },\n",
      "    {\n",
      "      \"name\": \"Bob\",\n",
      "      \"rated\": [\n",
      "        {\n",
      "          \"name\": \"Movie 3\",\n",
      "          \"rated|rating\": 5\n",
      "        },\n",
      "        {\n",
      "          \"name\": \"Movie 1\",\n",
      "          \"rated|rating\": 5\n",
      "        },\n",
      "        {\n",
      "          \"name\": \"Movie 2\",\n",
      "          \"rated|rating\": 5\n",
      "        }\n",
      "      ]\n",
      "    },\n",
      "    {\n",
      "      \"name\": \"Charlie\",\n",
      "      \"rated\": [\n",
      "        {\n",
      "          \"name\": \"Movie 2\",\n",
      "          \"rated|rating\": 5\n",
      "        },\n",
      "        {\n",
      "          \"name\": \"Movie 1\",\n",
      "          \"rated|rating\": 2\n",
      "        },\n",
      "        {\n",
      "          \"name\": \"Movie 3\",\n",
      "          \"rated|rating\": 1\n",
      "        }\n",
      "      ]\n",
      "    }\n",
      "  ]\n",
      "}\n"
     ]
    }
   ],
   "source": [
    "# 可以对uid边缘上的构面进行排序。在这里，我们对Alice，Bob和Charlie评定的电影进行排序，rating这是一个方面\n",
    "run_q('''{\n",
    "  me(func: anyofterms(name, \"Alice Bob Charlie\")) {\n",
    "    name\n",
    "    rated @facets(orderdesc: rating) {\n",
    "      name\n",
    "    }\n",
    "  }\n",
    "}\n",
    "''')"
   ]
  },
  {
   "cell_type": "markdown",
   "metadata": {},
   "source": [
    "## 将Facet值分配给变量\n",
    "UID边上的构面可以存储在值变量中。变量是从边缘目标到构面值的映射。\n",
    "爱丽丝的朋友通过变量报告close和relative。"
   ]
  },
  {
   "cell_type": "code",
   "execution_count": 42,
   "metadata": {
    "ExecuteTime": {
     "end_time": "2019-05-25T17:24:14.877841Z",
     "start_time": "2019-05-25T17:24:14.849580Z"
    }
   },
   "outputs": [
    {
     "name": "stdout",
     "output_type": "stream",
     "text": [
      "{\n",
      "  \"friend\": [\n",
      "    {\n",
      "      \"name\": \"Bob\",\n",
      "      \"val(a)\": true\n",
      "    },\n",
      "    {\n",
      "      \"name\": \"Charlie\",\n",
      "      \"val(a)\": false\n",
      "    },\n",
      "    {\n",
      "      \"name\": \"Dave\",\n",
      "      \"val(a)\": true\n",
      "    }\n",
      "  ],\n",
      "  \"relative\": [\n",
      "    {\n",
      "      \"name\": \"Bob\",\n",
      "      \"val(b)\": false\n",
      "    },\n",
      "    {\n",
      "      \"name\": \"Charlie\",\n",
      "      \"val(b)\": true\n",
      "    },\n",
      "    {\n",
      "      \"name\": \"Dave\",\n",
      "      \"val(b)\": true\n",
      "    }\n",
      "  ]\n",
      "}\n"
     ]
    }
   ],
   "source": [
    "run_q('''{\n",
    "  var(func: eq(name, \"Alice\")) {\n",
    "    friend @facets(a as close, b as relative)\n",
    "  }\n",
    "\n",
    "  friend(func: uid(a)) {\n",
    "    name\n",
    "    val(a)\n",
    "  }\n",
    "\n",
    "  relative(func: uid(b)) {\n",
    "    name\n",
    "    val(b)\n",
    "  }\n",
    "}\n",
    "''')"
   ]
  },
  {
   "cell_type": "code",
   "execution_count": 43,
   "metadata": {
    "ExecuteTime": {
     "end_time": "2019-05-25T19:35:06.733681Z",
     "start_time": "2019-05-25T19:35:06.696783Z"
    }
   },
   "outputs": [
    {
     "name": "stdout",
     "output_type": "stream",
     "text": [
      "{\n",
      "  \"friend\": [\n",
      "    {\n",
      "      \"name\": \"Bob\",\n",
      "      \"val(a)\": true\n",
      "    },\n",
      "    {\n",
      "      \"name\": \"Charlie\",\n",
      "      \"val(a)\": false\n",
      "    },\n",
      "    {\n",
      "      \"name\": \"Dave\",\n",
      "      \"val(a)\": true\n",
      "    }\n",
      "  ],\n",
      "  \"relative\": [\n",
      "    {\n",
      "      \"name\": \"Bob\",\n",
      "      \"val(b)\": false\n",
      "    },\n",
      "    {\n",
      "      \"name\": \"Charlie\",\n",
      "      \"val(b)\": true\n",
      "    },\n",
      "    {\n",
      "      \"name\": \"Dave\",\n",
      "      \"val(b)\": true\n",
      "    }\n",
      "  ]\n",
      "}\n"
     ]
    }
   ],
   "source": [
    "# UID边上的facet可以以边到facet值的映射的格式保存到值变量里\n",
    "run_q('''{\n",
    "  var(func: eq(name, \"Alice\")) {\n",
    "    friend @facets(a as close, b as relative)\n",
    "  }\n",
    "\n",
    "  friend(func: uid(a)) {\n",
    "    name\n",
    "    val(a)\n",
    "  }\n",
    "\n",
    "  relative(func: uid(b)) {\n",
    "    name\n",
    "    val(b)\n",
    "  }\n",
    "}\n",
    "''')"
   ]
  },
  {
   "cell_type": "markdown",
   "metadata": {},
   "source": [
    "## 方面和可变传播\n",
    "可以将face的值int和值float分配给变量，从而传播值。\n",
    "爱丽丝，鲍勃和查理各自评价每部电影。facet rating上的值变量将电影映射到评级。通过多条路径到达电影的查询会对每条路径上的评级进行求和。以下总结了爱丽丝，鲍勃和查理对三部电影的收视率。"
   ]
  },
  {
   "cell_type": "code",
   "execution_count": 44,
   "metadata": {
    "ExecuteTime": {
     "end_time": "2019-05-25T19:36:12.011661Z",
     "start_time": "2019-05-25T19:36:11.978160Z"
    }
   },
   "outputs": [
    {
     "name": "stdout",
     "output_type": "stream",
     "text": [
      "{\n",
      "  \"data\": [\n",
      "    {\n",
      "      \"name\": \"Movie 3\",\n",
      "      \"val(total_rating)\": 11,\n",
      "      \"val(average_rating)\": 3.666667\n",
      "    },\n",
      "    {\n",
      "      \"name\": \"Movie 1\",\n",
      "      \"val(total_rating)\": 10,\n",
      "      \"val(average_rating)\": 3.333333\n",
      "    },\n",
      "    {\n",
      "      \"name\": \"Movie 2\",\n",
      "      \"val(total_rating)\": 12,\n",
      "      \"val(average_rating)\": 4.0\n",
      "    }\n",
      "  ]\n",
      "}\n"
     ]
    }
   ],
   "source": [
    "run_q('''{\n",
    "  var(func: anyofterms(name, \"Alice Bob Charlie\")) {\n",
    "    num_raters as math(1)\n",
    "    rated @facets(r as rating) {\n",
    "      total_rating as math(r) # sum of the 3 ratings\n",
    "      average_rating as math(total_rating / num_raters)\n",
    "    }\n",
    "  }\n",
    "  data(func: uid(total_rating)) {\n",
    "    name\n",
    "    val(total_rating)\n",
    "    val(average_rating)\n",
    "  }\n",
    "\n",
    "}\n",
    "''')"
   ]
  },
  {
   "cell_type": "code",
   "execution_count": 45,
   "metadata": {
    "ExecuteTime": {
     "end_time": "2019-05-25T19:36:54.579937Z",
     "start_time": "2019-05-25T19:36:54.554030Z"
    }
   },
   "outputs": [
    {
     "name": "stdout",
     "output_type": "stream",
     "text": [
      "{\n",
      "  \"data\": [\n",
      "    {\n",
      "      \"name\": \"Alice\",\n",
      "      \"rated\": [\n",
      "        {\n",
      "          \"name\": \"Movie 3\",\n",
      "          \"rated|rating\": 5\n",
      "        },\n",
      "        {\n",
      "          \"name\": \"Movie 1\",\n",
      "          \"rated|rating\": 3\n",
      "        },\n",
      "        {\n",
      "          \"name\": \"Movie 2\",\n",
      "          \"rated|rating\": 2\n",
      "        }\n",
      "      ],\n",
      "      \"avg(val(r))\": 3.333333\n",
      "    }\n",
      "  ]\n",
      "}\n"
     ]
    }
   ],
   "source": [
    "## 可以聚合分配给值变量的构面值。\n",
    "run_q('''{\n",
    "  data(func: eq(name, \"Alice\")) {\n",
    "    name\n",
    "    rated @facets(r as rating) {\n",
    "      name\n",
    "    }\n",
    "    avg(val(r))\n",
    "  }\n",
    "}\n",
    "''')"
   ]
  },
  {
   "cell_type": "code",
   "execution_count": 47,
   "metadata": {
    "ExecuteTime": {
     "end_time": "2019-05-25T19:38:32.643419Z",
     "start_time": "2019-05-25T19:38:32.615394Z"
    }
   },
   "outputs": [
    {
     "name": "stdout",
     "output_type": "stream",
     "text": [
      "{\n",
      "  \"data\": [\n",
      "    {\n",
      "      \"name\": \"Alice\",\n",
      "      \"rated\": [\n",
      "        {\n",
      "          \"name\": \"Movie 3\",\n",
      "          \"rated|rating\": 5\n",
      "        },\n",
      "        {\n",
      "          \"name\": \"Movie 1\",\n",
      "          \"rated|rating\": 3\n",
      "        },\n",
      "        {\n",
      "          \"name\": \"Movie 2\",\n",
      "          \"rated|rating\": 2\n",
      "        }\n",
      "      ],\n",
      "      \"avg(val(r))\": 8.333333\n",
      "    },\n",
      "    {\n",
      "      \"name\": \"Bob\",\n",
      "      \"rated\": [\n",
      "        {\n",
      "          \"name\": \"Movie 3\",\n",
      "          \"rated|rating\": 5\n",
      "        },\n",
      "        {\n",
      "          \"name\": \"Movie 1\",\n",
      "          \"rated|rating\": 5\n",
      "        },\n",
      "        {\n",
      "          \"name\": \"Movie 2\",\n",
      "          \"rated|rating\": 5\n",
      "        }\n",
      "      ],\n",
      "      \"avg(val(r))\": 8.333333\n",
      "    }\n",
      "  ]\n",
      "}\n"
     ]
    }
   ],
   "source": [
    "# r是从电影到达到电影的查询中边缘的评级总和的地图。\n",
    "# 因此，以下内容并未正确计算Alice和Bob的平均评分 - \n",
    "# 它计算的是Alice和Bob评级的平均值的2倍\n",
    "run_q('''{\n",
    "  data(func: anyofterms(name, \"Alice Bob\")) {\n",
    "    name\n",
    "    rated @facets(r as rating) {\n",
    "      name\n",
    "    }\n",
    "    avg(val(r))\n",
    "  }\n",
    "}\n",
    "''')"
   ]
  },
  {
   "cell_type": "code",
   "execution_count": 48,
   "metadata": {
    "ExecuteTime": {
     "end_time": "2019-05-25T19:39:59.846375Z",
     "start_time": "2019-05-25T19:39:59.817199Z"
    }
   },
   "outputs": [
    {
     "name": "stdout",
     "output_type": "stream",
     "text": [
      "{\n",
      "  \"data\": [\n",
      "    {\n",
      "      \"name\": \"Movie 3\",\n",
      "      \"val(avg_rating)\": 3.666667\n",
      "    },\n",
      "    {\n",
      "      \"name\": \"Movie 1\",\n",
      "      \"val(avg_rating)\": 3.333333\n",
      "    },\n",
      "    {\n",
      "      \"name\": \"Movie 2\",\n",
      "      \"val(avg_rating)\": 4.0\n",
      "    }\n",
      "  ]\n",
      "}\n"
     ]
    }
   ],
   "source": [
    "# 计算用户的平均评级需要一个将用户映射到其评级总和的变量\n",
    "run_q('''{\n",
    "  var(func: has(rated)) {\n",
    "    num_rated as math(1)\n",
    "    rated @facets(r as rating) {\n",
    "      avg_rating as math(r / num_rated)\n",
    "    }\n",
    "  }\n",
    "\n",
    "  data(func: uid(avg_rating)) {\n",
    "    name\n",
    "    val(avg_rating)\n",
    "  }\n",
    "}\n",
    "''')"
   ]
  }
 ],
 "metadata": {
  "kernelspec": {
   "display_name": "Python 3",
   "language": "python",
   "name": "python3"
  },
  "language_info": {
   "codemirror_mode": {
    "name": "ipython",
    "version": 3
   },
   "file_extension": ".py",
   "mimetype": "text/x-python",
   "name": "python",
   "nbconvert_exporter": "python",
   "pygments_lexer": "ipython3",
   "version": "3.6.4"
  },
  "varInspector": {
   "cols": {
    "lenName": 16,
    "lenType": 16,
    "lenVar": 40
   },
   "kernels_config": {
    "python": {
     "delete_cmd_postfix": "",
     "delete_cmd_prefix": "del ",
     "library": "var_list.py",
     "varRefreshCmd": "print(var_dic_list())"
    },
    "r": {
     "delete_cmd_postfix": ") ",
     "delete_cmd_prefix": "rm(",
     "library": "var_list.r",
     "varRefreshCmd": "cat(var_dic_list()) "
    }
   },
   "types_to_exclude": [
    "module",
    "function",
    "builtin_function_or_method",
    "instance",
    "_Feature"
   ],
   "window_display": false
  }
 },
 "nbformat": 4,
 "nbformat_minor": 2
}
