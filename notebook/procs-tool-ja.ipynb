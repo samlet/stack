{
 "cells": [
  {
   "cell_type": "code",
   "execution_count": 1,
   "metadata": {
    "ExecuteTime": {
     "end_time": "2020-01-11T11:17:15.459748Z",
     "start_time": "2020-01-11T11:17:14.186848Z"
    }
   },
   "outputs": [
    {
     "data": {
      "text/plain": [
       "('predicts',\n",
       " [{'type': 'predicate',\n",
       "   'lemma': '便利だ',\n",
       "   'index': 2,\n",
       "   'phonetic': 'べんりだ',\n",
       "   'word': '便利じゃない。',\n",
       "   'rel': 'D',\n",
       "   'governor': 0,\n",
       "   'pos': 'adj',\n",
       "   'domains': [['ガ', 1, 'パソコンは', 'パソコン', ['パソコン'], ['c_noun', 'x_n']]],\n",
       "   'stems': []}])"
      ]
     },
     "execution_count": 1,
     "metadata": {},
     "output_type": "execute_result"
    }
   ],
   "source": [
    "from sagas.nlu.ruleset_procs import cached_chunks, get_main_domains\n",
    "get_main_domains('彼のパソコンは便利じゃない。', 'ja', 'knp')"
   ]
  },
  {
   "cell_type": "code",
   "execution_count": 2,
   "metadata": {
    "ExecuteTime": {
     "end_time": "2020-01-11T11:29:07.041738Z",
     "start_time": "2020-01-11T11:29:06.991529Z"
    }
   },
   "outputs": [
    {
     "name": "stdout",
     "output_type": "stream",
     "text": [
      "predicate 便利じゃない。 便利だ ['pos', 'rel', 'lemma', 'word', 'stems', 'lang', 'sents']\n",
      "[['ガ', 1, 'パソコンは', 'パソコン', ['パソコン'], ['c_noun', 'x_n']]]\n",
      "\u001b[31m✔ (_none_) subj with pos is ('adj',): True, ガ is kind_of(artifact,n): True\u001b[0m\n",
      "\u001b[32m.. results 1\u001b[0m\n",
      "\u001b[33m{'kind_of/default/ガ'}\u001b[0m\n"
     ]
    },
    {
     "data": {
      "text/plain": [
       "{'kind_of/default/...': {'category': 'artifact', 'pos': 'n'}}"
      ]
     },
     "metadata": {},
     "output_type": "display_data"
    }
   ],
   "source": [
    "from sagas.tool.dynamic_rules import dynamic_rule\n",
    "data = {'lang': 'ja', \"sents\": '彼のパソコンは便利じゃない。'}\n",
    "dynamic_rule(data, \"\"\"subj('adj',ガ=kindof('artifact', 'n'))\"\"\", \n",
    "             engine='knp')"
   ]
  }
 ],
 "metadata": {
  "kernelspec": {
   "display_name": "Python 3",
   "language": "python",
   "name": "python3"
  },
  "language_info": {
   "codemirror_mode": {
    "name": "ipython",
    "version": 3
   },
   "file_extension": ".py",
   "mimetype": "text/x-python",
   "name": "python",
   "nbconvert_exporter": "python",
   "pygments_lexer": "ipython3",
   "version": "3.6.9"
  },
  "varInspector": {
   "cols": {
    "lenName": 16,
    "lenType": 16,
    "lenVar": 40
   },
   "kernels_config": {
    "python": {
     "delete_cmd_postfix": "",
     "delete_cmd_prefix": "del ",
     "library": "var_list.py",
     "varRefreshCmd": "print(var_dic_list())"
    },
    "r": {
     "delete_cmd_postfix": ") ",
     "delete_cmd_prefix": "rm(",
     "library": "var_list.r",
     "varRefreshCmd": "cat(var_dic_list()) "
    }
   },
   "types_to_exclude": [
    "module",
    "function",
    "builtin_function_or_method",
    "instance",
    "_Feature"
   ],
   "window_display": false
  }
 },
 "nbformat": 4,
 "nbformat_minor": 2
}
