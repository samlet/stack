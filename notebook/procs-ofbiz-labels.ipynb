{
 "cells": [
  {
   "cell_type": "code",
   "execution_count": 11,
   "metadata": {
    "ExecuteTime": {
     "end_time": "2019-04-09T12:45:33.945799Z",
     "start_time": "2019-04-09T12:45:32.773309Z"
    }
   },
   "outputs": [
    {
     "name": "stdout",
     "output_type": "stream",
     "text": [
      "- DateTimeLabels.xml\n",
      "- SecurityEntityLabels.xml\n",
      "- DefaultMessagesUiLabels.xml\n",
      "- MiniLangErrorUiLabels.xml\n",
      "- CommonErrorUiLabels.xml\n",
      "- SecurityUiLabels.xml\n",
      "- CommonUiLabels.xml\n",
      "- TemporalExpressionUiLabels.xml\n",
      "- CommonEntityLabels.xml\n",
      "- SecurityextUiLabels.xml\n",
      "- CommonHelpUiLabels.xml\n",
      "- CommonPortalEntityLabels.xml\n",
      "- QRCodeUiLabels.xml\n",
      "- PrefErrorUiLabels.xml\n",
      "- ServiceErrorUiLabels.xml\n",
      "- ServiceUiLabels.xml\n",
      "- EntityExtUiLabels.xml\n",
      "- WebappEntityLabels.xml\n",
      "- WebappUiLabels.xml\n",
      "- conditionalUiLabels.xml\n",
      "- WebtoolsErrorUiLabels.xml\n",
      "- WebtoolsUiLabels.xml\n",
      "- CommonThemeUiLabels.xml\n",
      "- PartyErrorUiLabels.xml\n",
      "- PartyUiLabels.xml\n",
      "- PartyEntityLabels.xml\n",
      "- EmailPasswordUiLabels.xml\n",
      "- ContentUiLabels.xml\n",
      "- ContentEntityLabels.xml\n",
      "- ContentErrorUiLabels.xml\n",
      "- WorkEffortUiLabels.xml\n",
      "- WorkEffortEntityLabels.xml\n",
      "- ProductErrorUiLabels.xml\n",
      "- ProductUiLabels.xml\n",
      "- ProductPromoUiLabels.xml\n",
      "- ProductEntityLabels.xml\n",
      "- ManufacturingEntityLabels.xml\n",
      "- ManufacturingReportsUiLabels.xml\n",
      "- ManufacturingUiLabels.xml\n",
      "- AccountingUiLabels.xml\n",
      "- AccountingEntityLabels.xml\n",
      "- AccountingErrorUiLabels.xml\n",
      "- HumanResUiLabels.xml\n",
      "- HumanResErrorUiLabels.xml\n",
      "- HumanResEntityLabels.xml\n",
      "- OrderEntityLabels.xml\n",
      "- OrderErrorUiLabels.xml\n",
      "- OrderUiLabels.xml\n",
      "- MarketingUiLabels.xml\n",
      "- MarketingEntityLabels.xml\n",
      "- CommonExtUiLabels.xml\n",
      "- SetupUiLabels.xml\n",
      "- EcommerceUiLabels.xml\n",
      "- ExampleUiLabels.xml\n",
      "- ExampleHelpUiLabels.xml\n",
      "- ExampleEntityLabels.xml\n",
      "- OfbizDemoUiLabels.xml\n",
      "- ProjectMgrUiLabels.xml\n",
      "- SagasUiLabels.xml\n"
     ]
    }
   ],
   "source": [
    "from sagas.ofbiz.services import OfService as s, oc, track\n",
    "import os\n",
    "import io_utils\n",
    "import xml.etree.ElementTree as ET\n",
    "\n",
    "def parse_resource_file(xml_file):\n",
    "    tree = ET.parse(xml_file)\n",
    "    root = tree.getroot()\n",
    "    if root.tag=='resource':\n",
    "        print('-', os.path.basename(xml_file))\n",
    "\n",
    "oc.import_package('org.apache.ofbiz.base.component.ComponentConfig')\n",
    "allComponents = oc.j.ComponentConfig.getAllComponents()\n",
    "for c in allComponents:\n",
    "    conf_dir=c.getRootLocation()+'config'\n",
    "    if os.path.isdir(conf_dir):\n",
    "        files=io_utils.list_files(conf_dir)\n",
    "        for f in files:\n",
    "            if f.endswith('.xml'):\n",
    "                parse_resource_file(f)"
   ]
  },
  {
   "cell_type": "code",
   "execution_count": 2,
   "metadata": {
    "ExecuteTime": {
     "end_time": "2019-04-09T09:36:58.615930Z",
     "start_time": "2019-04-09T09:36:58.556600Z"
    }
   },
   "outputs": [
    {
     "name": "stdout",
     "output_type": "stream",
     "text": [
      "SagasApplication\n",
      "\t value Sagas Application en\n",
      "\t value Sagas应用程序 zh\n",
      "\t value Sagas應用程式 zh-TW\n",
      "SagasCompanyName\n",
      "\t value OFBiz: Sagas en\n",
      "\t value OFBiz: Sagas zh-TW\n",
      "SagasCompanySubtitle\n",
      "\t value Part of the Apache OFBiz Family of Open Source Software en\n",
      "\t value Un modulo della famiglia di software open source Apache OFBiz it\n",
      "\t value 开源软件OFBiz的组成部分 zh\n",
      "\t value 開源軟體OFBiz的組成部分 zh-TW\n",
      "SagasViewPermissionError\n",
      "\t value You are not allowed to view this page. en\n",
      "\t value 不允许你浏览这个页面。 zh\n",
      "\t value 不允許您檢視這個頁面. zh-TW\n"
     ]
    }
   ],
   "source": [
    "from resources_pb2 import RsResource, RsProperty, RsIndex, RsLookups\n",
    "\n",
    "xml_file='data/i18n/SagasUiLabels.xml'\n",
    "\n",
    "# ns = {'lang': 'http://www.w3.org/XML/1998/namespace'}\n",
    "tree = ET.parse(xml_file)\n",
    "root = tree.getroot()\n",
    "properties={}\n",
    "for child in root:\n",
    "    if child.tag=='property':\n",
    "        key=child.get('key')\n",
    "        print(key)\n",
    "        props={}\n",
    "        for vnode in child:\n",
    "            # print(vnode.tag, vnode.attrib, vnode.get('{http://www.w3.org/XML/1998/namespace}lang'))\n",
    "            lang=vnode.get('{http://www.w3.org/XML/1998/namespace}lang')\n",
    "            print('\\t', vnode.tag, vnode.text, lang)\n",
    "            props[lang]=vnode.text\n",
    "        property=RsProperty(key=key, values=props, location=xml_file)\n",
    "        if key in properties:\n",
    "            print('❣ the key %s has already exists'%key)\n",
    "        properties[key]=property\n",
    "\n",
    "resource=RsResource(properties=properties)"
   ]
  },
  {
   "cell_type": "code",
   "execution_count": 3,
   "metadata": {
    "ExecuteTime": {
     "end_time": "2019-04-09T09:36:58.630609Z",
     "start_time": "2019-04-09T09:36:58.620334Z"
    }
   },
   "outputs": [
    {
     "name": "stdout",
     "output_type": "stream",
     "text": [
      "key: \"a\"\n",
      "values {\n",
      "  key: \"a\"\n",
      "  value: \"b\"\n",
      "}\n",
      "\n"
     ]
    }
   ],
   "source": [
    "from resources_pb2 import RsResource, RsProperty, RsIndex, RsLookups\n",
    "prop=RsProperty(key='a', values={'a':'b'})\n",
    "print(prop)"
   ]
  },
  {
   "cell_type": "code",
   "execution_count": 10,
   "metadata": {
    "ExecuteTime": {
     "end_time": "2019-04-09T09:50:37.592188Z",
     "start_time": "2019-04-09T09:50:37.563387Z"
    }
   },
   "outputs": [
    {
     "name": "stdout",
     "output_type": "stream",
     "text": [
      "Sagas Application\n",
      "indexTable {\n",
      "  key: \"en\"\n",
      "  value {\n",
      "    indexes {\n",
      "      key: \"OFBiz: Sagas\"\n",
      "      value: \"SagasCompanyName\"\n",
      "    }\n",
      "    indexes {\n",
      "      key: \"Part of the Apache OFBiz Family of Open Source Software\"\n",
      "      value: \"SagasCompanySubtitle\"\n",
      "    }\n",
      "    indexes {\n",
      "      key: \"Sagas Application\"\n",
      "      value: \"SagasApplication\"\n",
      "    }\n",
      "    indexes {\n",
      "      key: \"You are not allowed to view this page.\"\n",
      "      value: \"SagasViewPermissionError\"\n",
      "    }\n",
      "  }\n",
      "}\n",
      "indexTable {\n",
      "  key: \"it\"\n",
      "  value {\n",
      "    indexes {\n",
      "      key: \"Un modulo della famiglia di software open source Apache OFBiz\"\n",
      "      value: \"SagasCompanySubtitle\"\n",
      "    }\n",
      "  }\n",
      "}\n",
      "indexTable {\n",
      "  key: \"zh\"\n",
      "  value {\n",
      "    indexes {\n",
      "      key: \"Sagas\\345\\272\\224\\347\\224\\250\\347\\250\\213\\345\\272\\217\"\n",
      "      value: \"SagasApplication\"\n",
      "    }\n",
      "    indexes {\n",
      "      key: \"\\344\\270\\215\\345\\205\\201\\350\\256\\270\\344\\275\\240\\346\\265\\217\\350\\247\\210\\350\\277\\231\\344\\270\\252\\351\\241\\265\\351\\235\\242\\343\\200\\202\"\n",
      "      value: \"SagasViewPermissionError\"\n",
      "    }\n",
      "    indexes {\n",
      "      key: \"\\345\\274\\200\\346\\272\\220\\350\\275\\257\\344\\273\\266OFBiz\\347\\232\\204\\347\\273\\204\\346\\210\\220\\351\\203\\250\\345\\210\\206\"\n",
      "      value: \"SagasCompanySubtitle\"\n",
      "    }\n",
      "  }\n",
      "}\n",
      "indexTable {\n",
      "  key: \"zh-TW\"\n",
      "  value {\n",
      "    indexes {\n",
      "      key: \"OFBiz: Sagas\"\n",
      "      value: \"SagasCompanyName\"\n",
      "    }\n",
      "    indexes {\n",
      "      key: \"Sagas\\346\\207\\211\\347\\224\\250\\347\\250\\213\\345\\274\\217\"\n",
      "      value: \"SagasApplication\"\n",
      "    }\n",
      "    indexes {\n",
      "      key: \"\\344\\270\\215\\345\\205\\201\\350\\250\\261\\346\\202\\250\\346\\252\\242\\350\\246\\226\\351\\200\\231\\345\\200\\213\\351\\240\\201\\351\\235\\242.\"\n",
      "      value: \"SagasViewPermissionError\"\n",
      "    }\n",
      "    indexes {\n",
      "      key: \"\\351\\226\\213\\346\\272\\220\\350\\273\\237\\351\\253\\224OFBiz\\347\\232\\204\\347\\265\\204\\346\\210\\220\\351\\203\\250\\345\\210\\206\"\n",
      "      value: \"SagasCompanySubtitle\"\n",
      "    }\n",
      "  }\n",
      "}\n",
      "\n"
     ]
    }
   ],
   "source": [
    "# print(resource)\n",
    "print(resource.properties['SagasApplication'].values['en'])\n",
    "lookups={}\n",
    "\n",
    "def get_index(lang):\n",
    "    if lang in lookups:\n",
    "        return lookups[lang]\n",
    "    lookups[lang]={}\n",
    "    return lookups[lang]\n",
    "    \n",
    "for key,prop in resource.properties.items():\n",
    "    # print(key, prop)    \n",
    "    for pname, pval in prop.values.items():\n",
    "        index=get_index(pname)\n",
    "        index[pval]=key\n",
    "\n",
    "lookup_builder={}\n",
    "for k,v in lookups.items():\n",
    "    index=RsIndex(indexes=v)\n",
    "    lookup_builder[k]=index\n",
    "\n",
    "rs_lookups=RsLookups(indexTable=lookup_builder)\n",
    "print(rs_lookups)"
   ]
  },
  {
   "cell_type": "code",
   "execution_count": 15,
   "metadata": {
    "ExecuteTime": {
     "end_time": "2019-04-09T10:36:09.487223Z",
     "start_time": "2019-04-09T10:36:09.480694Z"
    }
   },
   "outputs": [
    {
     "name": "stdout",
     "output_type": "stream",
     "text": [
      "SagasApplication\n",
      "程序 ☞ \n"
     ]
    }
   ],
   "source": [
    "zh=rs_lookups.indexTable['zh']\n",
    "print(zh.indexes['Sagas应用程序'])\n",
    "word='程序'\n",
    "print(word, \"☞\", zh.indexes[word])"
   ]
  },
  {
   "cell_type": "code",
   "execution_count": 18,
   "metadata": {
    "ExecuteTime": {
     "end_time": "2019-04-09T12:25:04.216652Z",
     "start_time": "2019-04-09T12:24:59.508776Z"
    }
   },
   "outputs": [
    {
     "name": "stdout",
     "output_type": "stream",
     "text": [
      "- DateTimeLabels.xml\n",
      "- SecurityEntityLabels.xml\n",
      "- DefaultMessagesUiLabels.xml\n",
      "- MiniLangErrorUiLabels.xml\n",
      "- CommonErrorUiLabels.xml\n",
      "- SecurityUiLabels.xml\n",
      "- CommonUiLabels.xml\n",
      "- TemporalExpressionUiLabels.xml\n",
      "- CommonEntityLabels.xml\n",
      "- SecurityextUiLabels.xml\n",
      "- CommonHelpUiLabels.xml\n",
      "- CommonPortalEntityLabels.xml\n",
      "- QRCodeUiLabels.xml\n",
      "- PrefErrorUiLabels.xml\n",
      "- ServiceErrorUiLabels.xml\n",
      "- ServiceUiLabels.xml\n",
      "- EntityExtUiLabels.xml\n",
      "- WebappEntityLabels.xml\n",
      "- WebappUiLabels.xml\n",
      "- conditionalUiLabels.xml\n",
      "- WebtoolsErrorUiLabels.xml\n",
      "- WebtoolsUiLabels.xml\n",
      "- CommonThemeUiLabels.xml\n",
      "- PartyErrorUiLabels.xml\n",
      "- PartyUiLabels.xml\n",
      "❣ the key FormFieldTitle_disabledDateTime has already exists\n",
      "❣ the key FormFieldTitle_enabled has already exists\n",
      "❣ the key FormFieldTitle_passwordHint has already exists\n",
      "❣ the key FormFieldTitle_successiveFailedLogins has already exists\n",
      "- PartyEntityLabels.xml\n",
      "- EmailPasswordUiLabels.xml\n",
      "- ContentUiLabels.xml\n",
      "- ContentEntityLabels.xml\n",
      "- ContentErrorUiLabels.xml\n",
      "- WorkEffortUiLabels.xml\n",
      "- WorkEffortEntityLabels.xml\n",
      "- ProductErrorUiLabels.xml\n",
      "- ProductUiLabels.xml\n",
      "❣ the key FormFieldTitle_contentType has already exists\n",
      "- ProductPromoUiLabels.xml\n",
      "- ProductEntityLabels.xml\n",
      "- ManufacturingEntityLabels.xml\n",
      "- ManufacturingReportsUiLabels.xml\n",
      "- ManufacturingUiLabels.xml\n",
      "- AccountingUiLabels.xml\n",
      "❣ the key FormFieldTitle_agreementItemSeqId has already exists\n",
      "❣ the key FormFieldTitle_productId has already exists\n",
      "- AccountingEntityLabels.xml\n",
      "❣ the key RateType.description.DISCOUNTED has already exists\n",
      "❣ the key RateType.description.OVERTIME has already exists\n",
      "❣ the key RateType.description.STANDARD has already exists\n",
      "- AccountingErrorUiLabels.xml\n",
      "- HumanResUiLabels.xml\n",
      "❣ the key FormFieldTitle_title has already exists\n",
      "- HumanResErrorUiLabels.xml\n",
      "- HumanResEntityLabels.xml\n",
      "- OrderEntityLabels.xml\n",
      "- OrderErrorUiLabels.xml\n",
      "- OrderUiLabels.xml\n",
      "❣ the key FormFieldTitle_returnItemSeqId has already exists\n",
      "- MarketingUiLabels.xml\n",
      "❣ the key FormFieldTitle_custRequestId has already exists\n",
      "- MarketingEntityLabels.xml\n",
      "- CommonExtUiLabels.xml\n",
      "- SetupUiLabels.xml\n",
      "- EcommerceUiLabels.xml\n",
      "❣ the key PageTitleSplitItemsForShipping has already exists\n",
      "- ExampleUiLabels.xml\n",
      "- ExampleHelpUiLabels.xml\n",
      "- ExampleEntityLabels.xml\n",
      "- OfbizDemoUiLabels.xml\n",
      "- ProjectMgrUiLabels.xml\n",
      "❣ the key PageTitleProjectInformation has already exists\n",
      "- SagasUiLabels.xml\n"
     ]
    }
   ],
   "source": [
    "from sagas.ofbiz.resources import ResourceDigester\n",
    "rd=ResourceDigester(verbose=False)\n",
    "resource=rd.process()\n",
    "rs_lookups=rd.build_index(resource)\n",
    "with open('./data/resources/labels_res.data', \"wb\") as f:\n",
    "    f.write(resource.SerializeToString())\n",
    "with open('./data/resources/labels_index.data', \"wb\") as f:\n",
    "    f.write(rs_lookups.SerializeToString())    \n",
    "\n",
    "print('done')"
   ]
  },
  {
   "cell_type": "code",
   "execution_count": 1,
   "metadata": {
    "ExecuteTime": {
     "end_time": "2019-04-09T12:54:20.737700Z",
     "start_time": "2019-04-09T12:54:19.904043Z"
    }
   },
   "outputs": [
    {
     "name": "stdout",
     "output_type": "stream",
     "text": [
      "Sagas应用程序 ☞ SagasApplication\n",
      "Sagas Application , Sagas应用程序\n"
     ]
    }
   ],
   "source": [
    "from resources_pb2 import RsResource, RsProperty, RsIndex, RsLookups\n",
    "import protobuf_utils\n",
    "\n",
    "word='Sagas应用程序'\n",
    "\n",
    "rs_lookups=RsLookups()\n",
    "resource=RsResource()\n",
    "protobuf_utils.read_proto(rs_lookups, './data/resources/labels_index.data')\n",
    "protobuf_utils.read_proto(resource, './data/resources/labels_res.data')\n",
    "zh = rs_lookups.indexTable['zh']\n",
    "key=zh.indexes[word]\n",
    "print(word, \"☞\", key)\n",
    "prop=resource.properties[key]\n",
    "print(prop.values['en'], ',', prop.values['zh'])"
   ]
  },
  {
   "cell_type": "code",
   "execution_count": 2,
   "metadata": {
    "ExecuteTime": {
     "end_time": "2019-04-09T12:54:28.857894Z",
     "start_time": "2019-04-09T12:54:28.852659Z"
    }
   },
   "outputs": [
    {
     "name": "stdout",
     "output_type": "stream",
     "text": [
      "14778\n",
      "12031\n"
     ]
    }
   ],
   "source": [
    "print(len(resource.properties))\n",
    "print(len(zh.indexes))"
   ]
  },
  {
   "cell_type": "code",
   "execution_count": 13,
   "metadata": {
    "ExecuteTime": {
     "end_time": "2019-04-09T12:57:58.027885Z",
     "start_time": "2019-04-09T12:57:58.019469Z"
    }
   },
   "outputs": [
    {
     "name": "stdout",
     "output_type": "stream",
     "text": [
      "en ☈ Sagas Application\n",
      "zh-TW ☈ Sagas應用程式\n",
      "zh ☈ Sagas应用程序\n"
     ]
    }
   ],
   "source": [
    "for key in prop.values.keys():\n",
    "    print(key, '☈', prop.values[key])"
   ]
  },
  {
   "cell_type": "code",
   "execution_count": 18,
   "metadata": {
    "ExecuteTime": {
     "end_time": "2019-04-09T13:59:42.195137Z",
     "start_time": "2019-04-09T13:59:42.171945Z"
    }
   },
   "outputs": [
    {
     "name": "stdout",
     "output_type": "stream",
     "text": [
      "\n",
      "False\n",
      "True\n"
     ]
    }
   ],
   "source": [
    "key = zh.indexes['xxx']\n",
    "print(key)\n",
    "print('xy' in zh.indexes)\n",
    "print('xxx' in zh.indexes)"
   ]
  },
  {
   "cell_type": "code",
   "execution_count": 22,
   "metadata": {
    "ExecuteTime": {
     "end_time": "2019-04-09T14:01:37.445923Z",
     "start_time": "2019-04-09T14:01:37.213633Z"
    }
   },
   "outputs": [
    {
     "name": "stdout",
     "output_type": "stream",
     "text": [
      "cs 1605\n",
      "pt 4151\n",
      "zh-CN 728\n",
      "en 12910\n",
      "ro 7010\n",
      "en-IN 1\n",
      "th 8379\n",
      "es 7371\n",
      "ru 6869\n",
      "fr 11456\n",
      "de-CH 81\n",
      "ja 11563\n",
      "vi 10383\n",
      "it 11533\n",
      "zh-TW 11980\n",
      "en-AU 1\n",
      "zh 12032\n",
      "hi-IN 3439\n",
      "nl 5521\n",
      "en-GB 64\n",
      "da 936\n",
      "pt-BR 5136\n",
      "ar 5379\n",
      "de 10831\n",
      "pt-PT 601\n"
     ]
    }
   ],
   "source": [
    "for index in rs_lookups.indexTable:\n",
    "    lang_items=rs_lookups.indexTable[index]\n",
    "    print(index, len(lang_items.indexes))"
   ]
  }
 ],
 "metadata": {
  "kernelspec": {
   "display_name": "Python 3",
   "language": "python",
   "name": "python3"
  },
  "language_info": {
   "codemirror_mode": {
    "name": "ipython",
    "version": 3
   },
   "file_extension": ".py",
   "mimetype": "text/x-python",
   "name": "python",
   "nbconvert_exporter": "python",
   "pygments_lexer": "ipython3",
   "version": "3.6.6"
  },
  "varInspector": {
   "cols": {
    "lenName": 16,
    "lenType": 16,
    "lenVar": 40
   },
   "kernels_config": {
    "python": {
     "delete_cmd_postfix": "",
     "delete_cmd_prefix": "del ",
     "library": "var_list.py",
     "varRefreshCmd": "print(var_dic_list())"
    },
    "r": {
     "delete_cmd_postfix": ") ",
     "delete_cmd_prefix": "rm(",
     "library": "var_list.r",
     "varRefreshCmd": "cat(var_dic_list()) "
    }
   },
   "types_to_exclude": [
    "module",
    "function",
    "builtin_function_or_method",
    "instance",
    "_Feature"
   ],
   "window_display": false
  }
 },
 "nbformat": 4,
 "nbformat_minor": 2
}
