{
 "cells": [
  {
   "cell_type": "code",
   "execution_count": 2,
   "metadata": {
    "ExecuteTime": {
     "end_time": "2020-02-29T09:37:37.910087Z",
     "start_time": "2020-02-29T09:37:37.051596Z"
    }
   },
   "outputs": [],
   "source": [
    "from faust import Record\n",
    "\n",
    "class LogEvent(Record, serializer='json'):\n",
    "    severity: str\n",
    "    message: str\n",
    "    timestamp: float\n",
    "    optional_field: str = 'default value'\n",
    "\n",
    "event = LogEvent(\n",
    "    severity='error',\n",
    "    message='Broken pact',\n",
    "    timestamp=666.0,\n",
    ")"
   ]
  },
  {
   "cell_type": "code",
   "execution_count": 3,
   "metadata": {
    "ExecuteTime": {
     "end_time": "2020-02-29T09:37:48.252516Z",
     "start_time": "2020-02-29T09:37:48.235309Z"
    }
   },
   "outputs": [
    {
     "data": {
      "text/plain": [
       "'error'"
      ]
     },
     "execution_count": 3,
     "metadata": {},
     "output_type": "execute_result"
    }
   ],
   "source": [
    "event.severity"
   ]
  },
  {
   "cell_type": "code",
   "execution_count": 5,
   "metadata": {
    "ExecuteTime": {
     "end_time": "2020-02-29T09:38:31.538416Z",
     "start_time": "2020-02-29T09:38:31.530135Z"
    }
   },
   "outputs": [
    {
     "data": {
      "text/plain": [
       "b'{\"severity\": \"error\", \"message\": \"Broken pact\", \"timestamp\": 666.0, \"optional_field\": \"default value\", \"__faust\": {\"ns\": \"__main__.LogEvent\"}}'"
      ]
     },
     "execution_count": 5,
     "metadata": {},
     "output_type": "execute_result"
    }
   ],
   "source": [
    "serialized = event.dumps()\n",
    "serialized"
   ]
  },
  {
   "cell_type": "code",
   "execution_count": 6,
   "metadata": {
    "ExecuteTime": {
     "end_time": "2020-02-29T09:39:14.217044Z",
     "start_time": "2020-02-29T09:39:14.206876Z"
    }
   },
   "outputs": [
    {
     "data": {
      "text/plain": [
       "<LogEvent: severity='error', message='Broken pact', timestamp=666.0, optional_field='default value'>"
      ]
     },
     "execution_count": 6,
     "metadata": {},
     "output_type": "execute_result"
    }
   ],
   "source": [
    "restored = LogEvent.loads(serialized)\n",
    "restored"
   ]
  },
  {
   "cell_type": "code",
   "execution_count": 7,
   "metadata": {
    "ExecuteTime": {
     "end_time": "2020-02-29T09:39:40.763859Z",
     "start_time": "2020-02-29T09:39:40.751648Z"
    }
   },
   "outputs": [
    {
     "data": {
      "text/plain": [
       "<StringField: LogEvent.severity: str>"
      ]
     },
     "execution_count": 7,
     "metadata": {},
     "output_type": "execute_result"
    }
   ],
   "source": [
    "# You can also subclass a Record to create a new record\n",
    "# with additional fields\n",
    "class RemoteLogEvent(LogEvent):\n",
    "    url: str\n",
    "\n",
    "# You can also refer to record fields and pass them around:\n",
    "LogEvent.severity"
   ]
  }
 ],
 "metadata": {
  "kernelspec": {
   "display_name": "Python 3",
   "language": "python",
   "name": "python3"
  },
  "language_info": {
   "codemirror_mode": {
    "name": "ipython",
    "version": 3
   },
   "file_extension": ".py",
   "mimetype": "text/x-python",
   "name": "python",
   "nbconvert_exporter": "python",
   "pygments_lexer": "ipython3",
   "version": "3.6.6"
  },
  "varInspector": {
   "cols": {
    "lenName": 16,
    "lenType": 16,
    "lenVar": 40
   },
   "kernels_config": {
    "python": {
     "delete_cmd_postfix": "",
     "delete_cmd_prefix": "del ",
     "library": "var_list.py",
     "varRefreshCmd": "print(var_dic_list())"
    },
    "r": {
     "delete_cmd_postfix": ") ",
     "delete_cmd_prefix": "rm(",
     "library": "var_list.r",
     "varRefreshCmd": "cat(var_dic_list()) "
    }
   },
   "types_to_exclude": [
    "module",
    "function",
    "builtin_function_or_method",
    "instance",
    "_Feature"
   ],
   "window_display": false
  }
 },
 "nbformat": 4,
 "nbformat_minor": 2
}
