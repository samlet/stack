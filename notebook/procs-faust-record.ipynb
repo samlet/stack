{
 "cells": [
  {
   "cell_type": "code",
   "execution_count": 1,
   "metadata": {
    "ExecuteTime": {
     "end_time": "2020-06-26T10:59:26.051205Z",
     "start_time": "2020-06-26T10:59:25.729324Z"
    }
   },
   "outputs": [],
   "source": [
    "from faust import Record\n",
    "\n",
    "class LogEvent(Record, serializer='json'):\n",
    "    severity: str\n",
    "    message: str\n",
    "    timestamp: float\n",
    "    optional_field: str = 'default value'\n",
    "\n",
    "event = LogEvent(\n",
    "    severity='error',\n",
    "    message='Broken pact',\n",
    "    timestamp=666.0,\n",
    ")"
   ]
  },
  {
   "cell_type": "code",
   "execution_count": 2,
   "metadata": {
    "ExecuteTime": {
     "end_time": "2020-06-26T10:59:26.077364Z",
     "start_time": "2020-06-26T10:59:26.054509Z"
    }
   },
   "outputs": [
    {
     "data": {
      "text/plain": [
       "'error'"
      ]
     },
     "execution_count": 2,
     "metadata": {},
     "output_type": "execute_result"
    }
   ],
   "source": [
    "event.severity"
   ]
  },
  {
   "cell_type": "code",
   "execution_count": 3,
   "metadata": {
    "ExecuteTime": {
     "end_time": "2020-06-26T10:59:26.163691Z",
     "start_time": "2020-06-26T10:59:26.085358Z"
    }
   },
   "outputs": [
    {
     "data": {
      "text/plain": [
       "b'{\"severity\": \"error\", \"message\": \"Broken pact\", \"timestamp\": 666.0, \"optional_field\": \"default value\", \"__faust\": {\"ns\": \"__main__.LogEvent\"}}'"
      ]
     },
     "execution_count": 3,
     "metadata": {},
     "output_type": "execute_result"
    }
   ],
   "source": [
    "serialized = event.dumps()\n",
    "serialized"
   ]
  },
  {
   "cell_type": "code",
   "execution_count": 4,
   "metadata": {
    "ExecuteTime": {
     "end_time": "2020-06-26T10:59:26.186091Z",
     "start_time": "2020-06-26T10:59:26.169141Z"
    }
   },
   "outputs": [
    {
     "data": {
      "text/plain": [
       "<LogEvent: severity='error', message='Broken pact', timestamp=666.0, optional_field='default value'>"
      ]
     },
     "execution_count": 4,
     "metadata": {},
     "output_type": "execute_result"
    }
   ],
   "source": [
    "restored = LogEvent.loads(serialized)\n",
    "restored"
   ]
  },
  {
   "cell_type": "code",
   "execution_count": 5,
   "metadata": {
    "ExecuteTime": {
     "end_time": "2020-06-26T10:59:26.223890Z",
     "start_time": "2020-06-26T10:59:26.195714Z"
    }
   },
   "outputs": [
    {
     "data": {
      "text/plain": [
       "<StringField: LogEvent.severity: str>"
      ]
     },
     "execution_count": 5,
     "metadata": {},
     "output_type": "execute_result"
    }
   ],
   "source": [
    "# You can also subclass a Record to create a new record\n",
    "# with additional fields\n",
    "class RemoteLogEvent(LogEvent):\n",
    "    url: str\n",
    "\n",
    "# You can also refer to record fields and pass them around:\n",
    "LogEvent.severity"
   ]
  },
  {
   "cell_type": "code",
   "execution_count": 10,
   "metadata": {
    "ExecuteTime": {
     "end_time": "2020-06-26T11:00:46.204813Z",
     "start_time": "2020-06-26T11:00:46.196968Z"
    }
   },
   "outputs": [],
   "source": [
    "import faust\n",
    "from typing import Any, Awaitable, Callable, Mapping, MutableMapping, Sequence\n",
    "\n",
    "class Request(faust.Record):\n",
    "    id: str\n",
    "\n",
    "    #: Name of the task as registered in the task_registry.\n",
    "    name: str\n",
    "\n",
    "    #: Positional arguments to the task.\n",
    "    arguments: Sequence\n",
    "\n",
    "    #: Keyword arguments to the task.\n",
    "    keyword_arguments: Mapping\n",
    "\n",
    "r=Request(id='1', name='sa', arguments=[1,2,3], keyword_arguments={'words':['to', 'the']})"
   ]
  },
  {
   "cell_type": "code",
   "execution_count": 12,
   "metadata": {
    "ExecuteTime": {
     "end_time": "2020-06-26T11:01:28.767464Z",
     "start_time": "2020-06-26T11:01:28.761321Z"
    }
   },
   "outputs": [
    {
     "data": {
      "text/plain": [
       "<FieldDescriptor: Request.keyword_arguments: typing.Mapping>"
      ]
     },
     "execution_count": 12,
     "metadata": {},
     "output_type": "execute_result"
    }
   ],
   "source": [
    "Request.keyword_arguments, r.keyword_arguments"
   ]
  },
  {
   "cell_type": "code",
   "execution_count": 13,
   "metadata": {
    "ExecuteTime": {
     "end_time": "2020-06-26T11:04:14.422007Z",
     "start_time": "2020-06-26T11:04:14.414111Z"
    }
   },
   "outputs": [
    {
     "data": {
      "text/plain": [
       "{'id': '1',\n",
       " 'name': 'sa',\n",
       " 'arguments': [1, 2, 3],\n",
       " 'keyword_arguments': {'words': ['to', 'the']},\n",
       " '__faust': {'ns': '__main__.Request'}}"
      ]
     },
     "execution_count": 13,
     "metadata": {},
     "output_type": "execute_result"
    }
   ],
   "source": [
    "r.dumps()"
   ]
  },
  {
   "cell_type": "code",
   "execution_count": 14,
   "metadata": {
    "ExecuteTime": {
     "end_time": "2020-06-26T15:43:29.432578Z",
     "start_time": "2020-06-26T15:43:29.422091Z"
    }
   },
   "outputs": [],
   "source": [
    "class Account(faust.Record, serializer='json'):\n",
    "    id: str\n",
    "    balance: float\n",
    "\n",
    "class Transfer(faust.Record, serializer='json'):\n",
    "    account: Account\n",
    "    amount: float\n",
    "\n",
    "transfer = Transfer(\n",
    "    account=Account(id='RBH1235678', balance=13000.0),\n",
    "    amount=1000.0,\n",
    ")"
   ]
  },
  {
   "cell_type": "markdown",
   "metadata": {},
   "source": [
    "### Consult this table of supported annotations:\n",
    "<table class=\"docutils align-default\">\n",
    "<colgroup>\n",
    "<col style=\"width: 14%\">\n",
    "<col style=\"width: 86%\">\n",
    "</colgroup>\n",
    "<thead>\n",
    "<tr class=\"row-odd\"><th class=\"head\"><p>Collection</p></th>\n",
    "<th class=\"head\"><p>Recognized Annotations</p></th>\n",
    "</tr>\n",
    "</thead>\n",
    "<tbody>\n",
    "<tr class=\"row-even\"><td><p>List</p></td>\n",
    "<td><ul class=\"simple\">\n",
    "<li><p><a class=\"reference external\" href=\"https://docs.python.org/dev/library/typing.html#typing.List\" title=\"(in Python v3.9)\"><code class=\"xref py py-class docutils literal notranslate\"><span class=\"pre\">List[ModelT]</span></code></a></p></li>\n",
    "<li><p><a class=\"reference external\" href=\"https://docs.python.org/dev/library/typing.html#typing.Sequence\" title=\"(in Python v3.9)\"><code class=\"xref py py-class docutils literal notranslate\"><span class=\"pre\">Sequence[ModelT]</span></code></a></p></li>\n",
    "<li><p><a class=\"reference external\" href=\"https://docs.python.org/dev/library/typing.html#typing.MutableSequence\" title=\"(in Python v3.9)\"><code class=\"xref py py-class docutils literal notranslate\"><span class=\"pre\">MutableSequence[ModelT]</span></code></a></p></li>\n",
    "</ul>\n",
    "</td>\n",
    "</tr>\n",
    "<tr class=\"row-odd\"><td><p>Set</p></td>\n",
    "<td><ul class=\"simple\">\n",
    "<li><p><a class=\"reference external\" href=\"https://docs.python.org/dev/library/typing.html#typing.AbstractSet\" title=\"(in Python v3.9)\"><code class=\"xref py py-class docutils literal notranslate\"><span class=\"pre\">AbstractSet[ModelT]</span></code></a></p></li>\n",
    "<li><p><a class=\"reference external\" href=\"https://docs.python.org/dev/library/typing.html#typing.Set\" title=\"(in Python v3.9)\"><code class=\"xref py py-class docutils literal notranslate\"><span class=\"pre\">Set[ModelT]</span></code></a></p></li>\n",
    "<li><p><a class=\"reference external\" href=\"https://docs.python.org/dev/library/typing.html#typing.MutableSet\" title=\"(in Python v3.9)\"><code class=\"xref py py-class docutils literal notranslate\"><span class=\"pre\">MutableSet[ModelT]</span></code></a></p></li>\n",
    "</ul>\n",
    "</td>\n",
    "</tr>\n",
    "<tr class=\"row-even\"><td><p>Tuple</p></td>\n",
    "<td><ul class=\"simple\">\n",
    "<li><p><code class=\"xref py py-class docutils literal notranslate\"><span class=\"pre\">Tuple[ModelT,</span> <span class=\"pre\">...]</span></code></p></li>\n",
    "<li><p><code class=\"xref py py-class docutils literal notranslate\"><span class=\"pre\">Tuple[ModelT,</span> <span class=\"pre\">ModelT,</span> <span class=\"pre\">str]</span></code></p></li>\n",
    "</ul>\n",
    "</td>\n",
    "</tr>\n",
    "<tr class=\"row-odd\"><td><p>Mapping</p></td>\n",
    "<td><ul class=\"simple\">\n",
    "<li><p><a class=\"reference external\" href=\"https://docs.python.org/dev/library/typing.html#typing.Dict\" title=\"(in Python v3.9)\"><code class=\"xref py py-class docutils literal notranslate\"><span class=\"pre\">Dict[KT,</span> <span class=\"pre\">ModelT]</span></code></a></p></li>\n",
    "<li><p><a class=\"reference external\" href=\"https://docs.python.org/dev/library/typing.html#typing.Dict\" title=\"(in Python v3.9)\"><code class=\"xref py py-class docutils literal notranslate\"><span class=\"pre\">Dict[ModelT,</span> <span class=\"pre\">ModelT]</span></code></a></p></li>\n",
    "<li><p><a class=\"reference external\" href=\"https://docs.python.org/dev/library/typing.html#typing.Mapping\" title=\"(in Python v3.9)\"><code class=\"xref py py-class docutils literal notranslate\"><span class=\"pre\">Mapping[KT,</span> <span class=\"pre\">ModelT]</span></code></a></p></li>\n",
    "<li><p><a class=\"reference external\" href=\"https://docs.python.org/dev/library/typing.html#typing.MutableMapping\" title=\"(in Python v3.9)\"><code class=\"xref py py-class docutils literal notranslate\"><span class=\"pre\">MutableMapping[KT,</span> <span class=\"pre\">ModelT]</span></code></a></p></li>\n",
    "</ul>\n",
    "</td>\n",
    "</tr>\n",
    "</tbody>\n",
    "</table>"
   ]
  },
  {
   "cell_type": "code",
   "execution_count": 15,
   "metadata": {
    "ExecuteTime": {
     "end_time": "2020-06-26T15:43:40.045895Z",
     "start_time": "2020-06-26T15:43:40.037477Z"
    }
   },
   "outputs": [],
   "source": [
    "from typing import List\n",
    "import faust\n",
    "\n",
    "class User(faust.Record):\n",
    "    accounts: List[Account]"
   ]
  },
  {
   "cell_type": "code",
   "execution_count": 16,
   "metadata": {
    "ExecuteTime": {
     "end_time": "2020-06-26T15:46:54.152386Z",
     "start_time": "2020-06-26T15:46:54.143304Z"
    }
   },
   "outputs": [],
   "source": [
    "from typing import Mapping\n",
    "import faust\n",
    "\n",
    "class User(faust.Record):\n",
    "    accounts: Mapping[str, Account]"
   ]
  },
  {
   "cell_type": "code",
   "execution_count": 17,
   "metadata": {
    "ExecuteTime": {
     "end_time": "2020-06-26T15:54:46.299762Z",
     "start_time": "2020-06-26T15:54:46.290358Z"
    }
   },
   "outputs": [],
   "source": [
    "# The best practice when creating model instances is to use keyword arguments, \n",
    "# but positional arguments are also supported!\n",
    "import faust\n",
    "\n",
    "class Point(faust.Record):\n",
    "    x: int\n",
    "    y: int\n",
    "\n",
    "class XYZPoint(Point):\n",
    "    z: int\n",
    "\n",
    "point = XYZPoint(10, 20, 30)\n",
    "assert (point.x, point.y, point.z) == (10, 20, 30)"
   ]
  },
  {
   "cell_type": "code",
   "execution_count": 21,
   "metadata": {
    "ExecuteTime": {
     "end_time": "2020-06-26T15:58:13.984319Z",
     "start_time": "2020-06-26T15:58:13.965919Z"
    }
   },
   "outputs": [
    {
     "name": "stdout",
     "output_type": "stream",
     "text": [
      "{'__faust': {'ns': '__main__.Account'},\n",
      " 'balance': '12.3',\n",
      " 'user': <User: id='07ecaebf-48c4-4c9e-92ad-d16d2f4a9a19', first_name='Franz', last_name='Kafka'>}\n"
     ]
    }
   ],
   "source": [
    "from decimal import Decimal\n",
    "\n",
    "class Asset(faust.Record):\n",
    "    url: str\n",
    "    type: str\n",
    "\n",
    "class ImageAsset(Asset):\n",
    "    type = 'image'\n",
    "\n",
    "class VideoAsset(Asset):\n",
    "    runtime_seconds: float\n",
    "    type = 'video'\n",
    "\n",
    "class Article(faust.Record, polymorphic_fields=True):\n",
    "    assets: List[Asset]\n",
    "\n",
    "class User(faust.Record):\n",
    "    id: str\n",
    "    first_name: str\n",
    "    last_name: str\n",
    "\n",
    "class Account(faust.Record):\n",
    "    user: User\n",
    "    balance: Decimal\n",
    "        \n",
    "user = User(\n",
    "   id='07ecaebf-48c4-4c9e-92ad-d16d2f4a9a19',\n",
    "   first_name='Franz',\n",
    "   last_name='Kafka',\n",
    ")\n",
    "account = Account(\n",
    "   user=user,\n",
    "   balance='12.3',\n",
    ")\n",
    "\n",
    "from pprint import pprint\n",
    "pprint(account.to_representation())"
   ]
  },
  {
   "cell_type": "code",
   "execution_count": 23,
   "metadata": {
    "ExecuteTime": {
     "end_time": "2020-06-26T16:00:35.639701Z",
     "start_time": "2020-06-26T16:00:35.633464Z"
    }
   },
   "outputs": [
    {
     "data": {
      "text/plain": [
       "b'{\"user\": {\"id\": \"07ecaebf-48c4-4c9e-92ad-d16d2f4a9a19\", \"first_name\": \"Franz\", \"last_name\": \"Kafka\", \"__faust\": {\"ns\": \"__main__.User\"}}, \"balance\": \"12.3\", \"__faust\": {\"ns\": \"__main__.Account\"}}'"
      ]
     },
     "execution_count": 23,
     "metadata": {},
     "output_type": "execute_result"
    }
   ],
   "source": [
    "account.dumps(serializer='json')"
   ]
  },
  {
   "cell_type": "code",
   "execution_count": 24,
   "metadata": {
    "ExecuteTime": {
     "end_time": "2020-06-26T16:00:57.698005Z",
     "start_time": "2020-06-26T16:00:57.690513Z"
    }
   },
   "outputs": [
    {
     "data": {
      "text/plain": [
       "{'user': <User: id='07ecaebf-48c4-4c9e-92ad-d16d2f4a9a19', first_name='Franz', last_name='Kafka'>,\n",
       " 'balance': '12.3'}"
      ]
     },
     "execution_count": 24,
     "metadata": {},
     "output_type": "execute_result"
    }
   ],
   "source": [
    "account.asdict()"
   ]
  },
  {
   "cell_type": "code",
   "execution_count": 22,
   "metadata": {
    "ExecuteTime": {
     "end_time": "2020-06-26T15:58:36.223315Z",
     "start_time": "2020-06-26T15:58:36.214003Z"
    }
   },
   "outputs": [
    {
     "data": {
      "text/plain": [
       "[<ValidationError: age is not correct type for <IntegerField: Person.age: int>, got <class 'str'>: ValueError(\"invalid literal for int() with base 10: 'Gordon Gekko'\") <IntegerField: Person.age: int>>]"
      ]
     },
     "execution_count": 22,
     "metadata": {},
     "output_type": "execute_result"
    }
   ],
   "source": [
    "class Person(faust.Record):\n",
    "    age: int\n",
    "    name: str\n",
    "\n",
    "p = Person(age=\"Gordon Gekko\", name=\"32\")\n",
    "p.validate()"
   ]
  }
 ],
 "metadata": {
  "kernelspec": {
   "display_name": "Python 3",
   "language": "python",
   "name": "python3"
  },
  "language_info": {
   "codemirror_mode": {
    "name": "ipython",
    "version": 3
   },
   "file_extension": ".py",
   "mimetype": "text/x-python",
   "name": "python",
   "nbconvert_exporter": "python",
   "pygments_lexer": "ipython3",
   "version": "3.7.7"
  },
  "varInspector": {
   "cols": {
    "lenName": 16,
    "lenType": 16,
    "lenVar": 40
   },
   "kernels_config": {
    "python": {
     "delete_cmd_postfix": "",
     "delete_cmd_prefix": "del ",
     "library": "var_list.py",
     "varRefreshCmd": "print(var_dic_list())"
    },
    "r": {
     "delete_cmd_postfix": ") ",
     "delete_cmd_prefix": "rm(",
     "library": "var_list.r",
     "varRefreshCmd": "cat(var_dic_list()) "
    }
   },
   "types_to_exclude": [
    "module",
    "function",
    "builtin_function_or_method",
    "instance",
    "_Feature"
   ],
   "window_display": false
  }
 },
 "nbformat": 4,
 "nbformat_minor": 2
}
