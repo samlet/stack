{
 "cells": [
  {
   "cell_type": "code",
   "execution_count": 1,
   "metadata": {
    "ExecuteTime": {
     "end_time": "2020-06-29T05:24:45.202119Z",
     "start_time": "2020-06-29T05:24:44.897696Z"
    }
   },
   "outputs": [],
   "source": [
    "from faust import Record\n",
    "\n",
    "class LogEvent(Record, serializer='json'):\n",
    "    severity: str\n",
    "    message: str\n",
    "    timestamp: float\n",
    "    optional_field: str = 'default value'\n",
    "\n",
    "event = LogEvent(\n",
    "    severity='error',\n",
    "    message='Broken pact',\n",
    "    timestamp=666.0,\n",
    ")"
   ]
  },
  {
   "cell_type": "code",
   "execution_count": 2,
   "metadata": {
    "ExecuteTime": {
     "end_time": "2020-06-29T05:24:45.229378Z",
     "start_time": "2020-06-29T05:24:45.204934Z"
    }
   },
   "outputs": [
    {
     "data": {
      "text/plain": [
       "'error'"
      ]
     },
     "execution_count": 2,
     "metadata": {},
     "output_type": "execute_result"
    }
   ],
   "source": [
    "event.severity"
   ]
  },
  {
   "cell_type": "code",
   "execution_count": 3,
   "metadata": {
    "ExecuteTime": {
     "end_time": "2020-06-29T05:24:45.300557Z",
     "start_time": "2020-06-29T05:24:45.238941Z"
    }
   },
   "outputs": [
    {
     "data": {
      "text/plain": [
       "b'{\"severity\": \"error\", \"message\": \"Broken pact\", \"timestamp\": 666.0, \"optional_field\": \"default value\", \"__faust\": {\"ns\": \"__main__.LogEvent\"}}'"
      ]
     },
     "execution_count": 3,
     "metadata": {},
     "output_type": "execute_result"
    }
   ],
   "source": [
    "serialized = event.dumps()\n",
    "serialized"
   ]
  },
  {
   "cell_type": "code",
   "execution_count": 4,
   "metadata": {
    "ExecuteTime": {
     "end_time": "2020-06-29T05:24:45.319454Z",
     "start_time": "2020-06-29T05:24:45.310924Z"
    }
   },
   "outputs": [
    {
     "data": {
      "text/plain": [
       "<LogEvent: severity='error', message='Broken pact', timestamp=666.0, optional_field='default value'>"
      ]
     },
     "execution_count": 4,
     "metadata": {},
     "output_type": "execute_result"
    }
   ],
   "source": [
    "restored = LogEvent.loads(serialized)\n",
    "restored"
   ]
  },
  {
   "cell_type": "code",
   "execution_count": 5,
   "metadata": {
    "ExecuteTime": {
     "end_time": "2020-06-29T05:24:45.335589Z",
     "start_time": "2020-06-29T05:24:45.322769Z"
    }
   },
   "outputs": [
    {
     "data": {
      "text/plain": [
       "<StringField: LogEvent.severity: str>"
      ]
     },
     "execution_count": 5,
     "metadata": {},
     "output_type": "execute_result"
    }
   ],
   "source": [
    "# You can also subclass a Record to create a new record\n",
    "# with additional fields\n",
    "class RemoteLogEvent(LogEvent):\n",
    "    url: str\n",
    "\n",
    "# You can also refer to record fields and pass them around:\n",
    "LogEvent.severity"
   ]
  },
  {
   "cell_type": "code",
   "execution_count": 6,
   "metadata": {
    "ExecuteTime": {
     "end_time": "2020-06-29T05:24:45.360146Z",
     "start_time": "2020-06-29T05:24:45.338450Z"
    }
   },
   "outputs": [],
   "source": [
    "import faust\n",
    "from typing import Any, Awaitable, Callable, Mapping, MutableMapping, Sequence\n",
    "\n",
    "class Request(faust.Record):\n",
    "    id: str\n",
    "\n",
    "    #: Name of the task as registered in the task_registry.\n",
    "    name: str\n",
    "\n",
    "    #: Positional arguments to the task.\n",
    "    arguments: Sequence\n",
    "\n",
    "    #: Keyword arguments to the task.\n",
    "    keyword_arguments: Mapping\n",
    "\n",
    "r=Request(id='1', name='sa', arguments=[1,2,3], keyword_arguments={'words':['to', 'the']})"
   ]
  },
  {
   "cell_type": "code",
   "execution_count": 7,
   "metadata": {
    "ExecuteTime": {
     "end_time": "2020-06-29T05:24:45.391952Z",
     "start_time": "2020-06-29T05:24:45.368743Z"
    }
   },
   "outputs": [
    {
     "data": {
      "text/plain": [
       "(<FieldDescriptor: Request.keyword_arguments: typing.Mapping>,\n",
       " {'words': ['to', 'the']})"
      ]
     },
     "execution_count": 7,
     "metadata": {},
     "output_type": "execute_result"
    }
   ],
   "source": [
    "Request.keyword_arguments, r.keyword_arguments"
   ]
  },
  {
   "cell_type": "code",
   "execution_count": 8,
   "metadata": {
    "ExecuteTime": {
     "end_time": "2020-06-29T05:24:45.443428Z",
     "start_time": "2020-06-29T05:24:45.397895Z"
    }
   },
   "outputs": [
    {
     "data": {
      "text/plain": [
       "{'id': '1',\n",
       " 'name': 'sa',\n",
       " 'arguments': [1, 2, 3],\n",
       " 'keyword_arguments': {'words': ['to', 'the']},\n",
       " '__faust': {'ns': '__main__.Request'}}"
      ]
     },
     "execution_count": 8,
     "metadata": {},
     "output_type": "execute_result"
    }
   ],
   "source": [
    "r.dumps()"
   ]
  },
  {
   "cell_type": "code",
   "execution_count": 9,
   "metadata": {
    "ExecuteTime": {
     "end_time": "2020-06-29T05:24:45.493167Z",
     "start_time": "2020-06-29T05:24:45.469488Z"
    }
   },
   "outputs": [],
   "source": [
    "class Account(faust.Record, serializer='json'):\n",
    "    id: str\n",
    "    balance: float\n",
    "\n",
    "class Transfer(faust.Record, serializer='json'):\n",
    "    account: Account\n",
    "    amount: float\n",
    "\n",
    "transfer = Transfer(\n",
    "    account=Account(id='RBH1235678', balance=13000.0),\n",
    "    amount=1000.0,\n",
    ")"
   ]
  },
  {
   "cell_type": "markdown",
   "metadata": {},
   "source": [
    "### Consult this table of supported annotations:\n",
    "<table class=\"docutils align-default\">\n",
    "<colgroup>\n",
    "<col style=\"width: 14%\">\n",
    "<col style=\"width: 86%\">\n",
    "</colgroup>\n",
    "<thead>\n",
    "<tr class=\"row-odd\"><th class=\"head\"><p>Collection</p></th>\n",
    "<th class=\"head\"><p>Recognized Annotations</p></th>\n",
    "</tr>\n",
    "</thead>\n",
    "<tbody>\n",
    "<tr class=\"row-even\"><td><p>List</p></td>\n",
    "<td><ul class=\"simple\">\n",
    "<li><p><a class=\"reference external\" href=\"https://docs.python.org/dev/library/typing.html#typing.List\" title=\"(in Python v3.9)\"><code class=\"xref py py-class docutils literal notranslate\"><span class=\"pre\">List[ModelT]</span></code></a></p></li>\n",
    "<li><p><a class=\"reference external\" href=\"https://docs.python.org/dev/library/typing.html#typing.Sequence\" title=\"(in Python v3.9)\"><code class=\"xref py py-class docutils literal notranslate\"><span class=\"pre\">Sequence[ModelT]</span></code></a></p></li>\n",
    "<li><p><a class=\"reference external\" href=\"https://docs.python.org/dev/library/typing.html#typing.MutableSequence\" title=\"(in Python v3.9)\"><code class=\"xref py py-class docutils literal notranslate\"><span class=\"pre\">MutableSequence[ModelT]</span></code></a></p></li>\n",
    "</ul>\n",
    "</td>\n",
    "</tr>\n",
    "<tr class=\"row-odd\"><td><p>Set</p></td>\n",
    "<td><ul class=\"simple\">\n",
    "<li><p><a class=\"reference external\" href=\"https://docs.python.org/dev/library/typing.html#typing.AbstractSet\" title=\"(in Python v3.9)\"><code class=\"xref py py-class docutils literal notranslate\"><span class=\"pre\">AbstractSet[ModelT]</span></code></a></p></li>\n",
    "<li><p><a class=\"reference external\" href=\"https://docs.python.org/dev/library/typing.html#typing.Set\" title=\"(in Python v3.9)\"><code class=\"xref py py-class docutils literal notranslate\"><span class=\"pre\">Set[ModelT]</span></code></a></p></li>\n",
    "<li><p><a class=\"reference external\" href=\"https://docs.python.org/dev/library/typing.html#typing.MutableSet\" title=\"(in Python v3.9)\"><code class=\"xref py py-class docutils literal notranslate\"><span class=\"pre\">MutableSet[ModelT]</span></code></a></p></li>\n",
    "</ul>\n",
    "</td>\n",
    "</tr>\n",
    "<tr class=\"row-even\"><td><p>Tuple</p></td>\n",
    "<td><ul class=\"simple\">\n",
    "<li><p><code class=\"xref py py-class docutils literal notranslate\"><span class=\"pre\">Tuple[ModelT,</span> <span class=\"pre\">...]</span></code></p></li>\n",
    "<li><p><code class=\"xref py py-class docutils literal notranslate\"><span class=\"pre\">Tuple[ModelT,</span> <span class=\"pre\">ModelT,</span> <span class=\"pre\">str]</span></code></p></li>\n",
    "</ul>\n",
    "</td>\n",
    "</tr>\n",
    "<tr class=\"row-odd\"><td><p>Mapping</p></td>\n",
    "<td><ul class=\"simple\">\n",
    "<li><p><a class=\"reference external\" href=\"https://docs.python.org/dev/library/typing.html#typing.Dict\" title=\"(in Python v3.9)\"><code class=\"xref py py-class docutils literal notranslate\"><span class=\"pre\">Dict[KT,</span> <span class=\"pre\">ModelT]</span></code></a></p></li>\n",
    "<li><p><a class=\"reference external\" href=\"https://docs.python.org/dev/library/typing.html#typing.Dict\" title=\"(in Python v3.9)\"><code class=\"xref py py-class docutils literal notranslate\"><span class=\"pre\">Dict[ModelT,</span> <span class=\"pre\">ModelT]</span></code></a></p></li>\n",
    "<li><p><a class=\"reference external\" href=\"https://docs.python.org/dev/library/typing.html#typing.Mapping\" title=\"(in Python v3.9)\"><code class=\"xref py py-class docutils literal notranslate\"><span class=\"pre\">Mapping[KT,</span> <span class=\"pre\">ModelT]</span></code></a></p></li>\n",
    "<li><p><a class=\"reference external\" href=\"https://docs.python.org/dev/library/typing.html#typing.MutableMapping\" title=\"(in Python v3.9)\"><code class=\"xref py py-class docutils literal notranslate\"><span class=\"pre\">MutableMapping[KT,</span> <span class=\"pre\">ModelT]</span></code></a></p></li>\n",
    "</ul>\n",
    "</td>\n",
    "</tr>\n",
    "</tbody>\n",
    "</table>"
   ]
  },
  {
   "cell_type": "code",
   "execution_count": 10,
   "metadata": {
    "ExecuteTime": {
     "end_time": "2020-06-29T05:24:45.521350Z",
     "start_time": "2020-06-29T05:24:45.507833Z"
    }
   },
   "outputs": [],
   "source": [
    "from typing import List\n",
    "import faust\n",
    "\n",
    "class User(faust.Record):\n",
    "    accounts: List[Account]"
   ]
  },
  {
   "cell_type": "code",
   "execution_count": 11,
   "metadata": {
    "ExecuteTime": {
     "end_time": "2020-06-29T05:24:45.545842Z",
     "start_time": "2020-06-29T05:24:45.531102Z"
    }
   },
   "outputs": [],
   "source": [
    "from typing import Mapping\n",
    "import faust\n",
    "\n",
    "class User(faust.Record):\n",
    "    accounts: Mapping[str, Account]"
   ]
  },
  {
   "cell_type": "code",
   "execution_count": 12,
   "metadata": {
    "ExecuteTime": {
     "end_time": "2020-06-29T05:24:45.567755Z",
     "start_time": "2020-06-29T05:24:45.553915Z"
    }
   },
   "outputs": [],
   "source": [
    "# The best practice when creating model instances is to use keyword arguments, \n",
    "# but positional arguments are also supported!\n",
    "import faust\n",
    "\n",
    "class Point(faust.Record):\n",
    "    x: int\n",
    "    y: int\n",
    "\n",
    "class XYZPoint(Point):\n",
    "    z: int\n",
    "\n",
    "point = XYZPoint(10, 20, 30)\n",
    "assert (point.x, point.y, point.z) == (10, 20, 30)"
   ]
  },
  {
   "cell_type": "code",
   "execution_count": 13,
   "metadata": {
    "ExecuteTime": {
     "end_time": "2020-06-29T05:24:45.599688Z",
     "start_time": "2020-06-29T05:24:45.574582Z"
    }
   },
   "outputs": [
    {
     "name": "stdout",
     "output_type": "stream",
     "text": [
      "{'__faust': {'ns': '__main__.Account'},\n",
      " 'balance': '12.3',\n",
      " 'user': <User: id='07ecaebf-48c4-4c9e-92ad-d16d2f4a9a19', first_name='Franz', last_name='Kafka'>}\n"
     ]
    }
   ],
   "source": [
    "from decimal import Decimal\n",
    "\n",
    "class Asset(faust.Record):\n",
    "    url: str\n",
    "    type: str\n",
    "\n",
    "class ImageAsset(Asset):\n",
    "    type = 'image'\n",
    "\n",
    "class VideoAsset(Asset):\n",
    "    runtime_seconds: float\n",
    "    type = 'video'\n",
    "\n",
    "class Article(faust.Record, polymorphic_fields=True):\n",
    "    assets: List[Asset]\n",
    "\n",
    "class User(faust.Record):\n",
    "    id: str\n",
    "    first_name: str\n",
    "    last_name: str\n",
    "\n",
    "class Account(faust.Record):\n",
    "    user: User\n",
    "    balance: Decimal\n",
    "        \n",
    "user = User(\n",
    "   id='07ecaebf-48c4-4c9e-92ad-d16d2f4a9a19',\n",
    "   first_name='Franz',\n",
    "   last_name='Kafka',\n",
    ")\n",
    "account = Account(\n",
    "   user=user,\n",
    "   balance='12.3',\n",
    ")\n",
    "\n",
    "from pprint import pprint\n",
    "pprint(account.to_representation())"
   ]
  },
  {
   "cell_type": "code",
   "execution_count": 14,
   "metadata": {
    "ExecuteTime": {
     "end_time": "2020-06-29T05:24:45.619895Z",
     "start_time": "2020-06-29T05:24:45.604396Z"
    }
   },
   "outputs": [
    {
     "data": {
      "text/plain": [
       "b'{\"user\": {\"id\": \"07ecaebf-48c4-4c9e-92ad-d16d2f4a9a19\", \"first_name\": \"Franz\", \"last_name\": \"Kafka\", \"__faust\": {\"ns\": \"__main__.User\"}}, \"balance\": \"12.3\", \"__faust\": {\"ns\": \"__main__.Account\"}}'"
      ]
     },
     "execution_count": 14,
     "metadata": {},
     "output_type": "execute_result"
    }
   ],
   "source": [
    "account.dumps(serializer='json')"
   ]
  },
  {
   "cell_type": "code",
   "execution_count": 15,
   "metadata": {
    "ExecuteTime": {
     "end_time": "2020-06-29T05:24:45.631975Z",
     "start_time": "2020-06-29T05:24:45.622639Z"
    }
   },
   "outputs": [
    {
     "data": {
      "text/plain": [
       "{'user': <User: id='07ecaebf-48c4-4c9e-92ad-d16d2f4a9a19', first_name='Franz', last_name='Kafka'>,\n",
       " 'balance': '12.3'}"
      ]
     },
     "execution_count": 15,
     "metadata": {},
     "output_type": "execute_result"
    }
   ],
   "source": [
    "account.asdict()"
   ]
  },
  {
   "cell_type": "code",
   "execution_count": 16,
   "metadata": {
    "ExecuteTime": {
     "end_time": "2020-06-29T05:24:45.659651Z",
     "start_time": "2020-06-29T05:24:45.635556Z"
    }
   },
   "outputs": [
    {
     "data": {
      "text/plain": [
       "[<ValidationError: age is not correct type for <IntegerField: Person.age: int>, got <class 'str'>: ValueError(\"invalid literal for int() with base 10: 'Gordon Gekko'\") <IntegerField: Person.age: int>>]"
      ]
     },
     "execution_count": 16,
     "metadata": {},
     "output_type": "execute_result"
    }
   ],
   "source": [
    "class Person(faust.Record):\n",
    "    age: int\n",
    "    name: str\n",
    "\n",
    "p = Person(age=\"Gordon Gekko\", name=\"32\")\n",
    "p.validate()"
   ]
  },
  {
   "cell_type": "code",
   "execution_count": 17,
   "metadata": {
    "ExecuteTime": {
     "end_time": "2020-06-29T05:24:45.681475Z",
     "start_time": "2020-06-29T05:24:45.670972Z"
    }
   },
   "outputs": [
    {
     "data": {
      "text/plain": [
       "{'price': 30.0, 'quantity': 2.0, 'user_id': 'foo'}"
      ]
     },
     "execution_count": 17,
     "metadata": {},
     "output_type": "execute_result"
    }
   ],
   "source": [
    "import json\n",
    "json.loads(\"\"\"{\"price\": 30.0, \"quantity\":2.0, \"user_id\": \"foo\"}\"\"\")"
   ]
  },
  {
   "cell_type": "code",
   "execution_count": 18,
   "metadata": {
    "ExecuteTime": {
     "end_time": "2020-06-29T05:24:45.732461Z",
     "start_time": "2020-06-29T05:24:45.695300Z"
    }
   },
   "outputs": [
    {
     "name": "stdout",
     "output_type": "stream",
     "text": [
      "foo\n",
      "foo\n"
     ]
    },
    {
     "data": {
      "text/plain": [
       "<Order: price=30.0, quantity=2.0, user_id='foo'>"
      ]
     },
     "execution_count": 18,
     "metadata": {},
     "output_type": "execute_result"
    }
   ],
   "source": [
    "from faust.models.fields import StringField\n",
    "\n",
    "\n",
    "class Order(faust.Record):\n",
    "    price: float\n",
    "    quantity: float\n",
    "    # when serializing the order, the field will be excluded\n",
    "    user_id: str = StringField(required=True, exclude=True)\n",
    "    \n",
    "order2 = Order.loads(\n",
    "    \"\"\"{\"price\": 30.0, \"quantity\":2.0, \"user_id\": \"foo\"}\"\"\",\n",
    "    serializer='json',\n",
    ")\n",
    "print(order2.user_id)\n",
    "order = Order(price=30.0, quantity=2.0, user_id='foo')\n",
    "print(order.user_id)\n",
    "Order.from_data({\"price\": 30.0, \"quantity\":2.0, \"user_id\": \"foo\"})"
   ]
  },
  {
   "cell_type": "code",
   "execution_count": 19,
   "metadata": {
    "ExecuteTime": {
     "end_time": "2020-06-29T05:24:45.759323Z",
     "start_time": "2020-06-29T05:24:45.745199Z"
    }
   },
   "outputs": [
    {
     "data": {
      "text/plain": [
       "b'{\"price\": 30.0, \"quantity\": 2.0, \"__faust\": {\"ns\": \"__main__.Order\"}}'"
      ]
     },
     "execution_count": 19,
     "metadata": {},
     "output_type": "execute_result"
    }
   ],
   "source": [
    "order.dumps(serializer='json')"
   ]
  },
  {
   "cell_type": "code",
   "execution_count": 20,
   "metadata": {
    "ExecuteTime": {
     "end_time": "2020-06-29T05:24:45.774877Z",
     "start_time": "2020-06-29T05:24:45.763773Z"
    }
   },
   "outputs": [
    {
     "data": {
      "text/plain": [
       "{'price': 30.0, 'quantity': 2.0}"
      ]
     },
     "execution_count": 20,
     "metadata": {},
     "output_type": "execute_result"
    }
   ],
   "source": [
    "order.asdict()"
   ]
  },
  {
   "cell_type": "code",
   "execution_count": 22,
   "metadata": {
    "ExecuteTime": {
     "end_time": "2020-06-29T05:24:55.073918Z",
     "start_time": "2020-06-29T05:24:55.065682Z"
    }
   },
   "outputs": [
    {
     "data": {
      "text/plain": [
       "<sanic.response.HTTPResponse at 0x7fbff8bd0600>"
      ]
     },
     "execution_count": 22,
     "metadata": {},
     "output_type": "execute_result"
    }
   ],
   "source": [
    "from sanic.response import json\n",
    "json(order.asdict())"
   ]
  },
  {
   "cell_type": "code",
   "execution_count": 25,
   "metadata": {
    "ExecuteTime": {
     "end_time": "2020-06-29T05:27:07.810092Z",
     "start_time": "2020-06-29T05:27:07.803740Z"
    }
   },
   "outputs": [
    {
     "data": {
      "text/plain": [
       "'{\"price\":30.0,\"quantity\":2.0}'"
      ]
     },
     "execution_count": 25,
     "metadata": {},
     "output_type": "execute_result"
    }
   ],
   "source": [
    "import ujson\n",
    "ujson.dumps(order.asdict())"
   ]
  },
  {
   "cell_type": "code",
   "execution_count": 36,
   "metadata": {
    "ExecuteTime": {
     "end_time": "2020-06-29T05:35:43.838531Z",
     "start_time": "2020-06-29T05:35:43.826242Z"
    }
   },
   "outputs": [
    {
     "name": "stdout",
     "output_type": "stream",
     "text": [
      "<CoResult: code='ok', data=<CoData: data='{\"type\": \"\\\\u4e2d\\\\u6587\", \"id\": 1, \"signup_ts\": null, \"friends\": [], \"prefix\": \"translate English to German\"}'>>\n"
     ]
    },
    {
     "data": {
      "text/plain": [
       "'{\"code\":\"ok\",\"data\":{\"data\":\"{\\\\\"type\\\\\": \\\\\"\\\\\\\\u4e2d\\\\\\\\u6587\\\\\", \\\\\"id\\\\\": 1, \\\\\"signup_ts\\\\\": null, \\\\\"friends\\\\\": [], \\\\\"prefix\\\\\": \\\\\"translate English to German\\\\\"}\"}}'"
      ]
     },
     "execution_count": 36,
     "metadata": {},
     "output_type": "execute_result"
    }
   ],
   "source": [
    "from typing import Text, Any, List, Optional, Union, Dict\n",
    "from sagas.listings.co_data import CoResult, CoData\n",
    "from sagas.listings.co_intf import BaseConf, BaseCo\n",
    "from datetime import datetime\n",
    "\n",
    "class SimpleConf(BaseConf):\n",
    "    id: int\n",
    "    prefix = 'translate English to German'\n",
    "    signup_ts: Optional[datetime] = None\n",
    "    friends: List[int] = []\n",
    "conf=SimpleConf(type='中文', id=1)\n",
    "co=CoResult(code='ok', data=CoData(data=conf.json()))\n",
    "print(co)\n",
    "# ujson.dumps(co.dumps(serializer='json'))\n",
    "ujson.dumps({'code':co.code, 'data':co.data.asdict()}, ensure_ascii=False)"
   ]
  },
  {
   "cell_type": "code",
   "execution_count": 40,
   "metadata": {
    "ExecuteTime": {
     "end_time": "2020-06-29T05:40:09.000475Z",
     "start_time": "2020-06-29T05:40:08.992922Z"
    }
   },
   "outputs": [
    {
     "data": {
      "text/plain": [
       "b'{\"code\": \"ok\", \"data\": {\"data\": \"{\\\\\"type\\\\\": \\\\\"\\\\\\\\u4e2d\\\\\\\\u6587\\\\\", \\\\\"id\\\\\": 1, \\\\\"signup_ts\\\\\": null, \\\\\"friends\\\\\": [], \\\\\"prefix\\\\\": \\\\\"translate English to German\\\\\"}\", \"__faust\": {\"ns\": \"sagas.listings.co_data.CoData\"}}, \"__faust\": {\"ns\": \"sagas.listings.co_data.CoResult\"}}'"
      ]
     },
     "execution_count": 40,
     "metadata": {},
     "output_type": "execute_result"
    }
   ],
   "source": [
    "co.dumps(serializer='json')"
   ]
  },
  {
   "cell_type": "code",
   "execution_count": 46,
   "metadata": {
    "ExecuteTime": {
     "end_time": "2020-06-29T07:31:50.859700Z",
     "start_time": "2020-06-29T07:31:50.851756Z"
    }
   },
   "outputs": [
    {
     "data": {
      "text/plain": [
       "False"
      ]
     },
     "execution_count": 46,
     "metadata": {},
     "output_type": "execute_result"
    }
   ],
   "source": [
    "isinstance(co, dict)"
   ]
  },
  {
   "cell_type": "code",
   "execution_count": 44,
   "metadata": {
    "ExecuteTime": {
     "end_time": "2020-06-29T05:46:05.343979Z",
     "start_time": "2020-06-29T05:46:05.333562Z"
    }
   },
   "outputs": [
    {
     "data": {
      "text/plain": [
       "'{\"code\": \"ok\", \"data\": {\"data\": \"{\\\\\"type\\\\\": \\\\\"\\\\\\\\u4e2d\\\\\\\\u6587\\\\\", \\\\\"id\\\\\": 1, \\\\\"signup_ts\\\\\": null, \\\\\"friends\\\\\": [], \\\\\"prefix\\\\\": \\\\\"translate English to German\\\\\"}\", \"__faust\": {\"ns\": \"sagas.listings.co_data.CoData\"}}, \"__faust\": {\"ns\": \"sagas.listings.co_data.CoResult\"}}'"
      ]
     },
     "execution_count": 44,
     "metadata": {},
     "output_type": "execute_result"
    }
   ],
   "source": [
    "from mode.utils.compat import want_bytes, want_str\n",
    "want_str(co.dumps(serializer='json'))"
   ]
  },
  {
   "cell_type": "code",
   "execution_count": 45,
   "metadata": {
    "ExecuteTime": {
     "end_time": "2020-06-29T05:47:24.536396Z",
     "start_time": "2020-06-29T05:47:24.525276Z"
    }
   },
   "outputs": [
    {
     "data": {
      "text/plain": [
       "'{\"code\": \"ok\", \"data\": {\"data\": \"{\\\\\"type\\\\\": \\\\\"\\\\\\\\u4e2d\\\\\\\\u6587\\\\\", \\\\\"id\\\\\": 1, \\\\\"signup_ts\\\\\": null, \\\\\"friends\\\\\": [], \\\\\"prefix\\\\\": \\\\\"translate English to German\\\\\"}\", \"__faust\": {\"ns\": \"sagas.listings.co_data.CoData\"}}, \"__faust\": {\"ns\": \"sagas.listings.co_data.CoResult\"}}'"
      ]
     },
     "execution_count": 45,
     "metadata": {},
     "output_type": "execute_result"
    }
   ],
   "source": [
    "dumps=lambda c: want_str(c.dumps(serializer='json'))\n",
    "dumps(co)"
   ]
  }
 ],
 "metadata": {
  "kernelspec": {
   "display_name": "Python 3",
   "language": "python",
   "name": "python3"
  },
  "language_info": {
   "codemirror_mode": {
    "name": "ipython",
    "version": 3
   },
   "file_extension": ".py",
   "mimetype": "text/x-python",
   "name": "python",
   "nbconvert_exporter": "python",
   "pygments_lexer": "ipython3",
   "version": "3.7.7"
  },
  "varInspector": {
   "cols": {
    "lenName": 16,
    "lenType": 16,
    "lenVar": 40
   },
   "kernels_config": {
    "python": {
     "delete_cmd_postfix": "",
     "delete_cmd_prefix": "del ",
     "library": "var_list.py",
     "varRefreshCmd": "print(var_dic_list())"
    },
    "r": {
     "delete_cmd_postfix": ") ",
     "delete_cmd_prefix": "rm(",
     "library": "var_list.r",
     "varRefreshCmd": "cat(var_dic_list()) "
    }
   },
   "types_to_exclude": [
    "module",
    "function",
    "builtin_function_or_method",
    "instance",
    "_Feature"
   ],
   "window_display": false
  }
 },
 "nbformat": 4,
 "nbformat_minor": 2
}
