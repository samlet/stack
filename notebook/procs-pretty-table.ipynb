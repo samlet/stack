{
 "cells": [
  {
   "cell_type": "markdown",
   "metadata": {},
   "source": [
    "⊕ [python - How do I output lists as a table in Jupyter notebook? - Stack Overflow](https://stackoverflow.com/questions/35160256/how-do-i-output-lists-as-a-table-in-jupyter-notebook/42323522)\n",
    "\n",
    "⊕ [Python PrettyTable tutorial - generating tables in Python with PrettyTable](http://zetcode.com/python/prettytable/)\n"
   ]
  },
  {
   "cell_type": "code",
   "execution_count": 5,
   "metadata": {
    "ExecuteTime": {
     "end_time": "2019-07-05T10:31:29.124512Z",
     "start_time": "2019-07-05T10:31:29.103965Z"
    }
   },
   "outputs": [
    {
     "data": {
      "text/html": [
       "<table>\n",
       "    <tr>\n",
       "        <th>City name</th>\n",
       "        <th>Area</th>\n",
       "        <th>Population</th>\n",
       "        <th>Annual Rainfall</th>\n",
       "    </tr>\n",
       "    <tr>\n",
       "        <td>Adelaide</td>\n",
       "        <td>1295</td>\n",
       "        <td>1158259</td>\n",
       "        <td>600.5</td>\n",
       "    </tr>\n",
       "    <tr>\n",
       "        <td>Brisbane</td>\n",
       "        <td>5905</td>\n",
       "        <td>1857594</td>\n",
       "        <td>1146.4</td>\n",
       "    </tr>\n",
       "    <tr>\n",
       "        <td>Darwin</td>\n",
       "        <td>112</td>\n",
       "        <td>120900</td>\n",
       "        <td>1714.7</td>\n",
       "    </tr>\n",
       "    <tr>\n",
       "        <td>Hobart</td>\n",
       "        <td>1357</td>\n",
       "        <td>205556</td>\n",
       "        <td>619.5</td>\n",
       "    </tr>\n",
       "    <tr>\n",
       "        <td>Sydney</td>\n",
       "        <td>2058</td>\n",
       "        <td>4336374</td>\n",
       "        <td>1214.8</td>\n",
       "    </tr>\n",
       "    <tr>\n",
       "        <td>Melbourne</td>\n",
       "        <td>1566</td>\n",
       "        <td>3806092</td>\n",
       "        <td>646.9</td>\n",
       "    </tr>\n",
       "    <tr>\n",
       "        <td>Perth</td>\n",
       "        <td>5386</td>\n",
       "        <td>1554769</td>\n",
       "        <td>869.4</td>\n",
       "    </tr>\n",
       "</table>"
      ],
      "text/plain": [
       "<IPython.core.display.HTML object>"
      ]
     },
     "metadata": {},
     "output_type": "display_data"
    }
   ],
   "source": [
    "from prettytable import PrettyTable\n",
    "from IPython.display import HTML, display\n",
    "\n",
    "x = PrettyTable([\"City name\", \"Area\", \"Population\", \"Annual Rainfall\"])\n",
    "\n",
    "x.add_row([\"Adelaide\",1295, 1158259, 600.5])\n",
    "x.add_row([\"Brisbane\",5905, 1857594, 1146.4])\n",
    "x.add_row([\"Darwin\", 112, 120900, 1714.7])\n",
    "x.add_row([\"Hobart\", 1357, 205556, 619.5])\n",
    "x.add_row([\"Sydney\", 2058, 4336374, 1214.8])\n",
    "x.add_row([\"Melbourne\", 1566, 3806092, 646.9])\n",
    "x.add_row([\"Perth\", 5386, 1554769, 869.4])\n",
    "\n",
    "# print(x.get_html_string())\n",
    "display(HTML(x.get_html_string()))"
   ]
  },
  {
   "cell_type": "code",
   "execution_count": 6,
   "metadata": {
    "ExecuteTime": {
     "end_time": "2019-07-05T10:31:45.120711Z",
     "start_time": "2019-07-05T10:31:45.045069Z"
    }
   },
   "outputs": [
    {
     "data": {
      "text/html": [
       "<table>\n",
       "<tbody>\n",
       "<tr><td>Sun  </td><td style=\"text-align: right;\">696000</td><td style=\"text-align: right;\">   1.9891e+09</td></tr>\n",
       "<tr><td>Earth</td><td style=\"text-align: right;\">  6371</td><td style=\"text-align: right;\">5973.6       </td></tr>\n",
       "<tr><td>Moon </td><td style=\"text-align: right;\">  1737</td><td style=\"text-align: right;\">  73.5       </td></tr>\n",
       "<tr><td>Mars </td><td style=\"text-align: right;\">  3390</td><td style=\"text-align: right;\"> 641.85      </td></tr>\n",
       "</tbody>\n",
       "</table>"
      ],
      "text/plain": [
       "<IPython.core.display.HTML object>"
      ]
     },
     "metadata": {},
     "output_type": "display_data"
    }
   ],
   "source": [
    "from IPython.display import HTML, display\n",
    "import tabulate\n",
    "table = [[\"Sun\",696000,1989100000],\n",
    "         [\"Earth\",6371,5973.6],\n",
    "         [\"Moon\",1737,73.5],\n",
    "         [\"Mars\",3390,641.85]]\n",
    "display(HTML(tabulate.tabulate(table, tablefmt='html')))"
   ]
  },
  {
   "cell_type": "code",
   "execution_count": 7,
   "metadata": {
    "ExecuteTime": {
     "end_time": "2019-07-05T10:33:31.226494Z",
     "start_time": "2019-07-05T10:33:31.203538Z"
    }
   },
   "outputs": [
    {
     "name": "stdout",
     "output_type": "stream",
     "text": [
      "+-------------------------------------------------+\n",
      "|                Australian cities                |\n",
      "+-----------+------+------------+-----------------+\n",
      "| City name | Area | Population | Annual Rainfall |\n",
      "+-----------+------+------------+-----------------+\n",
      "|  Adelaide | 1295 |  1158259   |      600.5      |\n",
      "|  Brisbane | 5905 |  1857594   |      1146.4     |\n",
      "|   Darwin  | 112  |   120900   |      1714.7     |\n",
      "|   Hobart  | 1357 |   205556   |      619.5      |\n",
      "|   Sydney  | 2058 |  4336374   |      1214.8     |\n",
      "| Melbourne | 1566 |  3806092   |      646.9      |\n",
      "|   Perth   | 5386 |  1554769   |      869.4      |\n",
      "+-----------+------+------------+-----------------+\n"
     ]
    }
   ],
   "source": [
    "from prettytable import PrettyTable\n",
    "    \n",
    "x = PrettyTable([\"City name\", \"Area\", \"Population\", \"Annual Rainfall\"])\n",
    "\n",
    "x.add_row([\"Adelaide\",1295, 1158259, 600.5])\n",
    "x.add_row([\"Brisbane\",5905, 1857594, 1146.4])\n",
    "x.add_row([\"Darwin\", 112, 120900, 1714.7])\n",
    "x.add_row([\"Hobart\", 1357, 205556, 619.5])\n",
    "x.add_row([\"Sydney\", 2058, 4336374, 1214.8])\n",
    "x.add_row([\"Melbourne\", 1566, 3806092, 646.9])\n",
    "x.add_row([\"Perth\", 5386, 1554769, 869.4])\n",
    "\n",
    "print(x.get_string(title=\"Australian cities\"))"
   ]
  },
  {
   "cell_type": "code",
   "execution_count": 8,
   "metadata": {
    "ExecuteTime": {
     "end_time": "2019-07-05T10:34:09.624493Z",
     "start_time": "2019-07-05T10:34:09.609265Z"
    }
   },
   "outputs": [
    {
     "data": {
      "text/html": [
       "<table>\n",
       "    <tr>\n",
       "        <td colspan=4>Australian cities</td>\n",
       "    </tr>\n",
       "    <tr>\n",
       "        <th>City name</th>\n",
       "        <th>Area</th>\n",
       "        <th>Population</th>\n",
       "        <th>Annual Rainfall</th>\n",
       "    </tr>\n",
       "    <tr>\n",
       "        <td>Adelaide</td>\n",
       "        <td>1295</td>\n",
       "        <td>1158259</td>\n",
       "        <td>600.5</td>\n",
       "    </tr>\n",
       "    <tr>\n",
       "        <td>Brisbane</td>\n",
       "        <td>5905</td>\n",
       "        <td>1857594</td>\n",
       "        <td>1146.4</td>\n",
       "    </tr>\n",
       "    <tr>\n",
       "        <td>Darwin</td>\n",
       "        <td>112</td>\n",
       "        <td>120900</td>\n",
       "        <td>1714.7</td>\n",
       "    </tr>\n",
       "    <tr>\n",
       "        <td>Hobart</td>\n",
       "        <td>1357</td>\n",
       "        <td>205556</td>\n",
       "        <td>619.5</td>\n",
       "    </tr>\n",
       "    <tr>\n",
       "        <td>Sydney</td>\n",
       "        <td>2058</td>\n",
       "        <td>4336374</td>\n",
       "        <td>1214.8</td>\n",
       "    </tr>\n",
       "    <tr>\n",
       "        <td>Melbourne</td>\n",
       "        <td>1566</td>\n",
       "        <td>3806092</td>\n",
       "        <td>646.9</td>\n",
       "    </tr>\n",
       "    <tr>\n",
       "        <td>Perth</td>\n",
       "        <td>5386</td>\n",
       "        <td>1554769</td>\n",
       "        <td>869.4</td>\n",
       "    </tr>\n",
       "</table>"
      ],
      "text/plain": [
       "<IPython.core.display.HTML object>"
      ]
     },
     "metadata": {},
     "output_type": "display_data"
    }
   ],
   "source": [
    "display(HTML(x.get_html_string(title=\"Australian cities\")))"
   ]
  },
  {
   "cell_type": "code",
   "execution_count": 9,
   "metadata": {
    "ExecuteTime": {
     "end_time": "2019-07-05T10:34:40.828894Z",
     "start_time": "2019-07-05T10:34:40.798296Z"
    }
   },
   "outputs": [
    {
     "name": "stdout",
     "output_type": "stream",
     "text": [
      "+-----------+------------+\n",
      "| City name | Population |\n",
      "+-----------+------------+\n",
      "|  Adelaide |  1158259   |\n",
      "|  Brisbane |  1857594   |\n",
      "|   Darwin  |   120900   |\n",
      "|   Hobart  |   205556   |\n",
      "|   Sydney  |  4336374   |\n",
      "| Melbourne |  3806092   |\n",
      "|   Perth   |  1554769   |\n",
      "+-----------+------------+\n"
     ]
    }
   ],
   "source": [
    "# Selecting column\n",
    "from prettytable import PrettyTable\n",
    "    \n",
    "x = PrettyTable([\"City name\", \"Area\", \"Population\", \"Annual Rainfall\"])\n",
    "\n",
    "x.add_row([\"Adelaide\",1295, 1158259, 600.5])\n",
    "x.add_row([\"Brisbane\",5905, 1857594, 1146.4])\n",
    "x.add_row([\"Darwin\", 112, 120900, 1714.7])\n",
    "x.add_row([\"Hobart\", 1357, 205556, 619.5])\n",
    "x.add_row([\"Sydney\", 2058, 4336374, 1214.8])\n",
    "x.add_row([\"Melbourne\", 1566, 3806092, 646.9])\n",
    "x.add_row([\"Perth\", 5386, 1554769, 869.4])\n",
    "\n",
    "print(x.get_string(fields=[\"City name\", \"Population\"]))"
   ]
  },
  {
   "cell_type": "code",
   "execution_count": 10,
   "metadata": {
    "ExecuteTime": {
     "end_time": "2019-07-05T10:35:02.450196Z",
     "start_time": "2019-07-05T10:35:02.428012Z"
    }
   },
   "outputs": [
    {
     "name": "stdout",
     "output_type": "stream",
     "text": [
      "+-----------+------+------------+-----------------+\n",
      "| City name | Area | Population | Annual Rainfall |\n",
      "+-----------+------+------------+-----------------+\n",
      "|  Brisbane | 5905 |  1857594   |      1146.4     |\n",
      "|   Darwin  | 112  |   120900   |      1714.7     |\n",
      "|   Hobart  | 1357 |   205556   |      619.5      |\n",
      "+-----------+------+------------+-----------------+\n"
     ]
    }
   ],
   "source": [
    "# Selecting rows\n",
    "from prettytable import PrettyTable\n",
    "    \n",
    "x = PrettyTable([\"City name\", \"Area\", \"Population\", \"Annual Rainfall\"])\n",
    "\n",
    "x.add_row([\"Adelaide\",1295, 1158259, 600.5])\n",
    "x.add_row([\"Brisbane\",5905, 1857594, 1146.4])\n",
    "x.add_row([\"Darwin\", 112, 120900, 1714.7])\n",
    "x.add_row([\"Hobart\", 1357, 205556, 619.5])\n",
    "x.add_row([\"Sydney\", 2058, 4336374, 1214.8])\n",
    "x.add_row([\"Melbourne\", 1566, 3806092, 646.9])\n",
    "x.add_row([\"Perth\", 5386, 1554769, 869.4])\n",
    "\n",
    "print(x.get_string(start=1, end=4))"
   ]
  },
  {
   "cell_type": "code",
   "execution_count": 11,
   "metadata": {
    "ExecuteTime": {
     "end_time": "2019-07-05T10:35:24.802346Z",
     "start_time": "2019-07-05T10:35:24.764864Z"
    }
   },
   "outputs": [
    {
     "name": "stdout",
     "output_type": "stream",
     "text": [
      "Table sorted by population:\n",
      "+-----------+------+------------+-----------------+\n",
      "| City name | Area | Population | Annual Rainfall |\n",
      "+-----------+------+------------+-----------------+\n",
      "|   Darwin  | 112  |   120900   |      1714.7     |\n",
      "|   Hobart  | 1357 |   205556   |      619.5      |\n",
      "|  Adelaide | 1295 |  1158259   |      600.5      |\n",
      "|   Perth   | 5386 |  1554769   |      869.4      |\n",
      "|  Brisbane | 5905 |  1857594   |      1146.4     |\n",
      "| Melbourne | 1566 |  3806092   |      646.9      |\n",
      "|   Sydney  | 2058 |  4336374   |      1214.8     |\n",
      "+-----------+------+------------+-----------------+\n",
      "\n",
      "Table sorted by city in descendig order:\n",
      "+-----------+------+------------+-----------------+\n",
      "| City name | Area | Population | Annual Rainfall |\n",
      "+-----------+------+------------+-----------------+\n",
      "|   Sydney  | 2058 |  4336374   |      1214.8     |\n",
      "|   Perth   | 5386 |  1554769   |      869.4      |\n",
      "| Melbourne | 1566 |  3806092   |      646.9      |\n",
      "|   Hobart  | 1357 |   205556   |      619.5      |\n",
      "|   Darwin  | 112  |   120900   |      1714.7     |\n",
      "|  Brisbane | 5905 |  1857594   |      1146.4     |\n",
      "|  Adelaide | 1295 |  1158259   |      600.5      |\n",
      "+-----------+------+------------+-----------------+\n"
     ]
    }
   ],
   "source": [
    "# Sorting data\n",
    "from prettytable import PrettyTable\n",
    "    \n",
    "x = PrettyTable()\n",
    "x.field_names = [\"City name\", \"Area\", \"Population\", \"Annual Rainfall\"]\n",
    "\n",
    "x.add_row([\"Adelaide\", 1295, 1158259, 600.5])\n",
    "x.add_row([\"Brisbane\", 5905, 1857594, 1146.4])\n",
    "x.add_row([\"Darwin\", 112, 120900, 1714.7])\n",
    "x.add_row([\"Hobart\", 1357, 205556, 619.5])\n",
    "x.add_row([\"Sydney\", 2058, 4336374, 1214.8])\n",
    "x.add_row([\"Melbourne\", 1566, 3806092, 646.9])\n",
    "x.add_row([\"Perth\", 5386, 1554769, 869.4])\n",
    "\n",
    "print(\"Table sorted by population:\")\n",
    "x.sortby = \"Population\"\n",
    "print(x)\n",
    "\n",
    "print()\n",
    "\n",
    "print(\"Table sorted by city in descendig order:\")\n",
    "x.sortby = \"City name\"\n",
    "x.reversesort = True\n",
    "print(x)"
   ]
  },
  {
   "cell_type": "code",
   "execution_count": 12,
   "metadata": {
    "ExecuteTime": {
     "end_time": "2019-07-05T10:36:00.322077Z",
     "start_time": "2019-07-05T10:36:00.299902Z"
    }
   },
   "outputs": [
    {
     "name": "stdout",
     "output_type": "stream",
     "text": [
      "+-----------+------+------------+-----------------+\n",
      "| City name | Area | Population | Annual Rainfall |\n",
      "+-----------+------+------------+-----------------+\n",
      "| Adelaide  | 1295 |  1158259   |           600.5 |\n",
      "| Brisbane  | 5905 |  1857594   |          1146.4 |\n",
      "| Darwin    |  112 |   120900   |          1714.7 |\n",
      "| Hobart    | 1357 |   205556   |           619.5 |\n",
      "| Sydney    | 2058 |  4336374   |          1214.8 |\n",
      "| Melbourne | 1566 |  3806092   |           646.9 |\n",
      "| Perth     | 5386 |  1554769   |           869.4 |\n",
      "+-----------+------+------------+-----------------+\n"
     ]
    }
   ],
   "source": [
    "# Data alignment\n",
    "from prettytable import PrettyTable\n",
    "    \n",
    "x = PrettyTable()\n",
    "\n",
    "x.field_names = [\"City name\", \"Area\", \"Population\", \"Annual Rainfall\"]\n",
    "\n",
    "x.align[\"City name\"] = \"l\"\n",
    "x.align[\"Area\"] = \"r\"\n",
    "x.align[\"Annual Rainfall\"] = \"r\"\n",
    "\n",
    "x.add_row([\"Adelaide\", 1295, 1158259, 600.5])\n",
    "x.add_row([\"Brisbane\", 5905, 1857594, 1146.4])\n",
    "x.add_row([\"Darwin\", 112, 120900, 1714.7])\n",
    "x.add_row([\"Hobart\", 1357, 205556, 619.5])\n",
    "x.add_row([\"Sydney\", 2058, 4336374, 1214.8])\n",
    "x.add_row([\"Melbourne\", 1566, 3806092, 646.9])\n",
    "x.add_row([\"Perth\", 5386, 1554769, 869.4])\n",
    "\n",
    "print(x)"
   ]
  }
 ],
 "metadata": {
  "kernelspec": {
   "display_name": "Python 3",
   "language": "python",
   "name": "python3"
  },
  "language_info": {
   "codemirror_mode": {
    "name": "ipython",
    "version": 3
   },
   "file_extension": ".py",
   "mimetype": "text/x-python",
   "name": "python",
   "nbconvert_exporter": "python",
   "pygments_lexer": "ipython3",
   "version": "3.6.4"
  },
  "varInspector": {
   "cols": {
    "lenName": 16,
    "lenType": 16,
    "lenVar": 40
   },
   "kernels_config": {
    "python": {
     "delete_cmd_postfix": "",
     "delete_cmd_prefix": "del ",
     "library": "var_list.py",
     "varRefreshCmd": "print(var_dic_list())"
    },
    "r": {
     "delete_cmd_postfix": ") ",
     "delete_cmd_prefix": "rm(",
     "library": "var_list.r",
     "varRefreshCmd": "cat(var_dic_list()) "
    }
   },
   "types_to_exclude": [
    "module",
    "function",
    "builtin_function_or_method",
    "instance",
    "_Feature"
   ],
   "window_display": false
  }
 },
 "nbformat": 4,
 "nbformat_minor": 2
}
