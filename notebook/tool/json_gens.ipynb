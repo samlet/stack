{
 "cells": [
  {
   "cell_type": "code",
   "execution_count": 18,
   "metadata": {
    "ExecuteTime": {
     "end_time": "2021-03-30T07:20:24.154906Z",
     "start_time": "2021-03-30T07:20:24.143414Z"
    }
   },
   "outputs": [
    {
     "name": "stdout",
     "output_type": "stream",
     "text": [
      "\"contactMechId\": \"TestPostalAddress\"\n",
      "\"partyId\": \"TestCustomer\"\n",
      "\"toName\": \"Test Address\"\n",
      "\"address1\": \"2004 Factory Blvd\"\n",
      "\"city\": \"City of Industry\"\n",
      "\"countryGeoId\": \"USA\"\n",
      "\"stateProvinceGeoId\": \"CA\"\n",
      "\"postalCode\": \"90000\"\n",
      "\"userLogin\": \"userLogin\"\n"
     ]
    }
   ],
   "source": [
    "input_text=\"\"\"contactMechId: 'TestPostalAddress',\n",
    "                partyId: 'TestCustomer',\n",
    "                toName: 'Test Address',\n",
    "                address1: '2004 Factory Blvd',\n",
    "                city: 'City of Industry',\n",
    "                countryGeoId: 'USA',\n",
    "                stateProvinceGeoId: 'CA',\n",
    "                postalCode: '90000',\n",
    "                userLogin: userLogin\n",
    "\"\"\"\n",
    "\n",
    "def quote_str(val):\n",
    "    val=val.strip()\n",
    "    if val.endswith(','):\n",
    "        val=val[0:-1]\n",
    "    if val.startswith(\"'\"):\n",
    "        val='\"'+val[1:-1]+'\"'\n",
    "    elif val.startswith('\"'):\n",
    "        pass\n",
    "    else:\n",
    "        val='\"'+val+'\"'\n",
    "    return val\n",
    "\n",
    "# [line.strip() for line in input_text.splitlines()]\n",
    "for line in input_text.splitlines():\n",
    "    line=line.strip()\n",
    "    parts=line.split(':')\n",
    "    print(f'{quote_str(parts[0])}: {quote_str(parts[1])}')"
   ]
  },
  {
   "cell_type": "code",
   "execution_count": 22,
   "metadata": {
    "ExecuteTime": {
     "end_time": "2021-03-30T07:28:15.343905Z",
     "start_time": "2021-03-30T07:28:15.335054Z"
    }
   },
   "outputs": [
    {
     "data": {
      "text/plain": [
       "'x,y'"
      ]
     },
     "execution_count": 22,
     "metadata": {},
     "output_type": "execute_result"
    }
   ],
   "source": [
    "ls=['x','y']\n",
    "','.join(ls)"
   ]
  },
  {
   "cell_type": "code",
   "execution_count": 33,
   "metadata": {
    "ExecuteTime": {
     "end_time": "2021-03-30T08:34:09.838906Z",
     "start_time": "2021-03-30T08:34:09.829514Z"
    }
   },
   "outputs": [
    {
     "name": "stdout",
     "output_type": "stream",
     "text": [
      "ProductType\n",
      "\t {\"productTypeId\":\"Test_type\"}\n",
      "Product\n",
      "\t {\"productId\":\"Test_product_A\",\"productTypeId\":\"Test_type\",\"productName\":\"Test_name_A\",\"description\":\"This is original description\"}\n",
      "Product\n",
      "\t {\"productId\":\"Test_product_B\",\"productTypeId\":\"Test_type\",\"productName\":\"Test_name_C\",\"description\":\"This is product description\"}\n",
      "ProductFeature\n",
      "\t {\"productFeatureId\":\"Test_feature\",\"description\":\"Feature for testing purpose\"}\n",
      "Product\n",
      "\t {\"productId\":\"Test_product_C\",\"productTypeId\":\"Test_type\",\"description\":\"description\"}\n",
      "ProductStore\n",
      "\t {\"productStoreId\":\"Test_store\"}\n"
     ]
    }
   ],
   "source": [
    "import xml.etree.ElementTree as ET\n",
    "sett=\"\"\"\n",
    "    <ProductType productTypeId=\"Test_type\"/>\n",
    "    <Product productId=\"Test_product_A\" productTypeId=\"Test_type\" productName=\"Test_name_A\" description=\"This is original description\"/>\n",
    "    <Product productId=\"Test_product_B\" productTypeId=\"Test_type\" productName=\"Test_name_C\" description=\"This is product description\"/>\n",
    "    <ProductFeature productFeatureId=\"Test_feature\" description=\"Feature for testing purpose\"/>\n",
    "    <Product productId=\"Test_product_C\" productTypeId=\"Test_type\" description=\"description\"/>\n",
    "    <ProductStore productStoreId=\"Test_store\"/>\n",
    "\"\"\"\n",
    "root = ET.fromstring('<data>' + sett + '</data>')\n",
    "for node in root:\n",
    "    print(node.tag)\n",
    "    attrs=[]\n",
    "    for k,v in node.attrib.items():\n",
    "        attrs.append(f'\"{k}\":\"{v}\"')\n",
    "    attrs_repr=\"{\"+','.join(attrs)+\"}\"\n",
    "    print('\\t', attrs_repr)"
   ]
  }
 ],
 "metadata": {
  "kernelspec": {
   "display_name": "Python 3",
   "language": "python",
   "name": "python3"
  },
  "language_info": {
   "codemirror_mode": {
    "name": "ipython",
    "version": 3
   },
   "file_extension": ".py",
   "mimetype": "text/x-python",
   "name": "python",
   "nbconvert_exporter": "python",
   "pygments_lexer": "ipython3",
   "version": "3.7.7"
  },
  "varInspector": {
   "cols": {
    "lenName": 16,
    "lenType": 16,
    "lenVar": 40
   },
   "kernels_config": {
    "python": {
     "delete_cmd_postfix": "",
     "delete_cmd_prefix": "del ",
     "library": "var_list.py",
     "varRefreshCmd": "print(var_dic_list())"
    },
    "r": {
     "delete_cmd_postfix": ") ",
     "delete_cmd_prefix": "rm(",
     "library": "var_list.r",
     "varRefreshCmd": "cat(var_dic_list()) "
    }
   },
   "types_to_exclude": [
    "module",
    "function",
    "builtin_function_or_method",
    "instance",
    "_Feature"
   ],
   "window_display": false
  }
 },
 "nbformat": 4,
 "nbformat_minor": 4
}
