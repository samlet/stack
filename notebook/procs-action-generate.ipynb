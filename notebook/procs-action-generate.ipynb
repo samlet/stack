{
 "cells": [
  {
   "cell_type": "code",
   "execution_count": 6,
   "metadata": {
    "ExecuteTime": {
     "end_time": "2018-12-24T08:13:54.219612Z",
     "start_time": "2018-12-24T08:13:54.213332Z"
    }
   },
   "outputs": [],
   "source": [
    "def foobar(a: int, b: str, c: float = 3.2) -> tuple: pass"
   ]
  },
  {
   "cell_type": "code",
   "execution_count": 29,
   "metadata": {
    "ExecuteTime": {
     "end_time": "2018-12-24T09:11:54.647460Z",
     "start_time": "2018-12-24T09:11:54.611379Z"
    }
   },
   "outputs": [
    {
     "name": "stdout",
     "output_type": "stream",
     "text": [
      "a: <class 'int'>\n",
      "\t int\n",
      "b: <class 'str'>\n",
      "\t str\n",
      "c: <class 'float'>\n",
      "\t float\n",
      "➷ <class 'tuple'>\n",
      "a: <class 'int'>\n",
      "\t int\n",
      "b: <class 'str'>\n",
      "\t str\n",
      "c: typing.List[float]\n",
      "\t List[float]\n",
      "➷ <class 'tuple'>\n"
     ]
    }
   ],
   "source": [
    "import collections\n",
    "import functools\n",
    "import inspect\n",
    "\n",
    "from typing import List\n",
    "Vector = List[float]\n",
    "\n",
    "def formatannotation(annotation, base_module=None):\n",
    "    if getattr(annotation, '__module__', None) == 'typing':\n",
    "        return repr(annotation).replace('typing.', '')\n",
    "    if isinstance(annotation, type):\n",
    "        if annotation.__module__ in ('builtins', base_module):\n",
    "            return annotation.__qualname__\n",
    "        return annotation.__module__+'.'+annotation.__qualname__\n",
    "    return repr(annotation)\n",
    "\n",
    "def check(func):\n",
    "    # 获取函数定义的参数\n",
    "    sig = inspect.signature(func)\n",
    "    parameters = sig.parameters          # 参数有序字典\n",
    "    arg_keys = tuple(parameters.keys())   # 参数名称\n",
    "    for k, v in sig.parameters.items():\n",
    "        print('{k}: {a!r}'.format(k=k, a=v.annotation))   \n",
    "        print(\"\\t\", formatannotation(v.annotation))\n",
    "    print(\"➷\", sig.return_annotation)\n",
    "    \n",
    "check(foobar)\n",
    "def foobar2(a: int, b: str, c: Vector) -> tuple: pass\n",
    "check(foobar2)"
   ]
  },
  {
   "cell_type": "code",
   "execution_count": 14,
   "metadata": {
    "ExecuteTime": {
     "end_time": "2018-12-24T08:27:08.165471Z",
     "start_time": "2018-12-24T08:27:08.160182Z"
    }
   },
   "outputs": [
    {
     "name": "stdout",
     "output_type": "stream",
     "text": [
      "{'a': <class 'int'>, 'b': <class 'str'>, 'c': <class 'float'>, 'return': <class 'tuple'>}\n"
     ]
    }
   ],
   "source": [
    "fun=exec('def foobar_g(a: int, b: str, c: float = 3.2) -> tuple: pass')\n",
    "print(foobar_g.__annotations__)"
   ]
  },
  {
   "cell_type": "code",
   "execution_count": 30,
   "metadata": {
    "ExecuteTime": {
     "end_time": "2018-12-24T09:12:14.538130Z",
     "start_time": "2018-12-24T09:12:14.527635Z"
    }
   },
   "outputs": [
    {
     "name": "stdout",
     "output_type": "stream",
     "text": [
      "employees: typing.Sequence[Employee]\n",
      "\t Sequence[Employee]\n",
      "overrides: typing.Mapping[str, str]\n",
      "\t Mapping[str, str]\n",
      "➷ None\n"
     ]
    }
   ],
   "source": [
    "from typing import Mapping, Sequence\n",
    "def Employee(object): pass\n",
    "def notify_by_email(employees: Sequence[Employee],\n",
    "                    overrides: Mapping[str, str]) -> None: pass\n",
    "\n",
    "check(notify_by_email)"
   ]
  },
  {
   "cell_type": "code",
   "execution_count": 19,
   "metadata": {
    "ExecuteTime": {
     "end_time": "2018-12-24T08:47:45.663618Z",
     "start_time": "2018-12-24T08:47:45.656037Z"
    }
   },
   "outputs": [],
   "source": [
    "from typing import List\n",
    "Vector = List[float]\n",
    "\n",
    "def scale(scalar: float, vector: Vector) -> Vector:\n",
    "    return [scalar * num for num in vector]\n",
    "\n",
    "# typechecks; a list of floats qualifies as a Vector.\n",
    "new_vector = scale(2.0, [1.0, -4.2, 5.4])"
   ]
  },
  {
   "cell_type": "code",
   "execution_count": 22,
   "metadata": {
    "ExecuteTime": {
     "end_time": "2018-12-24T08:54:18.506110Z",
     "start_time": "2018-12-24T08:54:18.496617Z"
    },
    "scrolled": true
   },
   "outputs": [
    {
     "name": "stdout",
     "output_type": "stream",
     "text": [
      "Parameter: c\n",
      "Help on class _empty in module inspect:\n",
      "\n",
      "class _empty(builtins.object)\n",
      " |  Marker object for Signature.empty and Parameter.empty.\n",
      " |  \n",
      " |  Data descriptors defined here:\n",
      " |  \n",
      " |  __dict__\n",
      " |      dictionary for instance variables (if defined)\n",
      " |  \n",
      " |  __weakref__\n",
      " |      list of weak references to the object (if defined)\n",
      "\n"
     ]
    }
   ],
   "source": [
    "def foo(a, b, *, c, d=10):\n",
    "    pass\n",
    "\n",
    "sig = inspect.signature(foo)\n",
    "for param in sig.parameters.values():\n",
    "    if (param.kind == param.KEYWORD_ONLY and\n",
    "                       param.default is param.empty):\n",
    "        print('Parameter:', param)\n",
    "        help(param.annotation)"
   ]
  },
  {
   "cell_type": "code",
   "execution_count": 31,
   "metadata": {
    "ExecuteTime": {
     "end_time": "2018-12-24T11:11:07.394462Z",
     "start_time": "2018-12-24T11:11:07.331090Z"
    }
   },
   "outputs": [],
   "source": [
    "from io import StringIO\n",
    "from mako.template import Template\n",
    "from mako.lookup import TemplateLookup\n",
    "from mako.runtime import Context\n",
    "\n",
    "# The contents within the ${} tag are evaluated by Python directly, so full expressions are OK:\n",
    "def render_template(file, ctx):\n",
    "    mylookup = TemplateLookup(directories=['./'], output_encoding='utf-8', encoding_errors='replace')\n",
    "    mytemplate = Template(filename='./templates/'+file, module_directory='/tmp/mako_modules', lookup=mylookup)\n",
    "    mytemplate.render_context(ctx)\n",
    "    return (buf.getvalue())"
   ]
  },
  {
   "cell_type": "code",
   "execution_count": 32,
   "metadata": {
    "ExecuteTime": {
     "end_time": "2018-12-24T11:11:11.357298Z",
     "start_time": "2018-12-24T11:11:11.346506Z"
    }
   },
   "outputs": [
    {
     "name": "stdout",
     "output_type": "stream",
     "text": [
      "class CustomFormAction(FormAction):\n",
      "    def name(self):\n",
      "        return \"some_form\"\n",
      "\n",
      "    @staticmethod\n",
      "    def required_slots(_tracker):\n",
      "        return ['some_slot', 'some_other_slot']\n",
      "\n",
      "\n"
     ]
    }
   ],
   "source": [
    "buf = StringIO()\n",
    "ctx = Context(buf, form_name=\"some_form\", slots=[\"some_slot\", \"some_other_slot\"])\n",
    "print(render_template('custom_form_action.mako', ctx))"
   ]
  },
  {
   "cell_type": "code",
   "execution_count": 53,
   "metadata": {
    "ExecuteTime": {
     "end_time": "2018-12-24T11:46:51.027616Z",
     "start_time": "2018-12-24T11:46:50.984593Z"
    }
   },
   "outputs": [
    {
     "name": "stdout",
     "output_type": "stream",
     "text": [
      "a: <class 'int'>, int\n",
      "b: <class 'str'>, str\n",
      "c: typing.List[float], List[float]\n",
      "➷ <class 'tuple'>\n",
      "simple ['a', 'b', 'c']\n",
      "class CustomFormAction(FormAction):\n",
      "    def name(self):\n",
      "        return \"simple_form\"\n",
      "\n",
      "    @staticmethod\n",
      "    def required_slots(_tracker):\n",
      "        return ['a', 'b', 'c']\n",
      "\n",
      "\n",
      "['a', 'b', 'c']\n"
     ]
    }
   ],
   "source": [
    "from typing import Dict, Text, Any, List, Union\n",
    "\n",
    "from rasa_core_sdk import ActionExecutionRejection\n",
    "from rasa_core_sdk import Tracker\n",
    "from rasa_core_sdk.events import SlotSet\n",
    "from rasa_core_sdk.executor import CollectingDispatcher\n",
    "from rasa_core_sdk.forms import FormAction, REQUESTED_SLOT\n",
    "\n",
    "def build_slots(func):    \n",
    "    # 获取函数定义的参数\n",
    "    sig = inspect.signature(func)\n",
    "    parameters = sig.parameters          # 参数有序字典\n",
    "    arg_keys = tuple(parameters.keys())   # 参数名称\n",
    "    for k, v in sig.parameters.items():\n",
    "        print('{k}: {a!r}, {t}'.format(k=k, a=v.annotation, t=formatannotation(v.annotation)))   \n",
    "    print(\"➷\", sig.return_annotation)\n",
    "    return func.__name__, list(parameters.keys())\n",
    "\n",
    "def simple(a: int, b: str, c: Vector) -> tuple: pass\n",
    "form_name, slots=build_slots(simple)\n",
    "print(form_name, str(slots))\n",
    "\n",
    "buf = StringIO()\n",
    "ctx = Context(buf, form_name=form_name, slots=slots)\n",
    "clsdef=render_template('custom_form_action.mako', ctx)\n",
    "print(clsdef)\n",
    "exec(clsdef)\n",
    "exec(\"form=CustomFormAction()\")\n",
    "print(form.required_slots(None))"
   ]
  }
 ],
 "metadata": {
  "kernelspec": {
   "display_name": "Python 3",
   "language": "python",
   "name": "python3"
  },
  "language_info": {
   "codemirror_mode": {
    "name": "ipython",
    "version": 3
   },
   "file_extension": ".py",
   "mimetype": "text/x-python",
   "name": "python",
   "nbconvert_exporter": "python",
   "pygments_lexer": "ipython3",
   "version": "3.6.4"
  },
  "varInspector": {
   "cols": {
    "lenName": 16,
    "lenType": 16,
    "lenVar": 40
   },
   "kernels_config": {
    "python": {
     "delete_cmd_postfix": "",
     "delete_cmd_prefix": "del ",
     "library": "var_list.py",
     "varRefreshCmd": "print(var_dic_list())"
    },
    "r": {
     "delete_cmd_postfix": ") ",
     "delete_cmd_prefix": "rm(",
     "library": "var_list.r",
     "varRefreshCmd": "cat(var_dic_list()) "
    }
   },
   "types_to_exclude": [
    "module",
    "function",
    "builtin_function_or_method",
    "instance",
    "_Feature"
   ],
   "window_display": false
  }
 },
 "nbformat": 4,
 "nbformat_minor": 2
}
