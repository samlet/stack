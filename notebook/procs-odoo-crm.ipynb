{
 "cells": [
  {
   "cell_type": "code",
   "execution_count": 1,
   "metadata": {
    "ExecuteTime": {
     "end_time": "2019-06-20T08:24:38.425334Z",
     "start_time": "2019-06-20T08:24:37.782011Z"
    }
   },
   "outputs": [],
   "source": [
    "from tabulate import tabulate\n",
    "from sagas.crmsfa.odoo_facade import odoo, login\n",
    "import sagas.crmsfa.odoo_info as info\n",
    "from sagas.tool.app_settings import setup_logger, setup_jupyter\n",
    "\n",
    "setup_logger('crmsfa.log')\n",
    "setup_jupyter()"
   ]
  },
  {
   "cell_type": "code",
   "execution_count": 2,
   "metadata": {
    "ExecuteTime": {
     "end_time": "2019-06-20T08:24:41.316519Z",
     "start_time": "2019-06-20T08:24:40.467303Z"
    }
   },
   "outputs": [
    {
     "name": "stdout",
     "output_type": "stream",
     "text": [
      "+------------------------+-----------+-------------------------+\n",
      "| name                   | type      | string                  |\n",
      "|------------------------+-----------+-------------------------|\n",
      "| city                   | char      | City                    |\n",
      "| type                   | selection | Type                    |\n",
      "| activity_state         | selection | Activity State          |\n",
      "| order_ids              | one2many  | Orders                  |\n",
      "| write_date             | datetime  | Last Updated on         |\n",
      "| activity_date_deadli.. | date      | Next Activity Deadline  |\n",
      "| mobile                 | char      | Mobile                  |\n",
      "| partner_address_name   | char      | Partner Contact Name    |\n",
      "| create_uid             | many2one  | Created by              |\n",
      "| team_id                | many2one  | Sales Team              |\n",
      "| email_cc               | text      | Global CC               |\n",
      "| is_blacklisted         | boolean   | Blacklist               |\n",
      "| activity_user_id       | many2one  | Responsible User        |\n",
      "| country_id             | many2one  | Country                 |\n",
      "| write_uid              | many2one  | Last Updated by         |\n",
      "| website_message_ids    | one2many  | Website Messages        |\n",
      "| lost_reason            | many2one  | Lost Reason             |\n",
      "| date_deadline          | date      | Expected Closing        |\n",
      "| message_is_follower    | boolean   | Is Follower             |\n",
      "| date_last_stage_upda.. | datetime  | Last Stage Update       |\n",
      "| source_id              | many2one  | Source                  |\n",
      "| company_id             | many2one  | Company                 |\n",
      "| date_closed            | datetime  | Closed Date             |\n",
      "| partner_is_blacklist.. | boolean   | Partner is blacklisted  |\n",
      "| message_attachment_c.. | integer   | Attachment Count        |\n",
      "| name                   | char      | Opportunity             |\n",
      "| email_from             | char      | Email                   |\n",
      "| sale_number            | integer   | Number of Quotations    |\n",
      "| __last_update          | datetime  | Last Modified on        |\n",
      "| medium_id              | many2one  | Medium                  |\n",
      "| description            | text      | Notes                   |\n",
      "| kanban_state           | selection | Kanban State            |\n",
      "| stage_id               | many2one  | Stage                   |\n",
      "| zip                    | char      | Zip                     |\n",
      "| contact_name           | char      | Contact Name            |\n",
      "| partner_address_emai.. | char      | Partner Contact Email   |\n",
      "| message_unread         | boolean   | Unread Messages         |\n",
      "| street2                | char      | Street2                 |\n",
      "| meeting_count          | integer   | # Meetings              |\n",
      "| sale_amount_total      | monetary  | Sum of Orders           |\n",
      "| user_email             | char      | User Email              |\n",
      "| phone                  | char      | Phone                   |\n",
      "| referred               | char      | Referred By             |\n",
      "| activity_type_id       | many2one  | Next Activity Type      |\n",
      "| tag_ids                | many2many | Tags                    |\n",
      "| activity_ids           | one2many  | Activities              |\n",
      "| message_ids            | one2many  | Messages                |\n",
      "| date_conversion        | datetime  | Conversion Date         |\n",
      "| state_id               | many2one  | State                   |\n",
      "| message_main_attachm.. | many2one  | Main Attachment         |\n",
      "| priority               | selection | Priority                |\n",
      "| message_has_error_co.. | integer   | Number of error         |\n",
      "| activity_summary       | char      | Next Activity Summary   |\n",
      "| message_channel_ids    | many2many | Followers (Channels)    |\n",
      "| expected_revenue       | monetary  | Prorated Revenue        |\n",
      "| website                | char      | Website                 |\n",
      "| partner_address_phon.. | char      | Partner Contact Phone   |\n",
      "| message_unread_count.. | integer   | Unread Messages Counter |\n",
      "| message_needaction     | boolean   | Action Needed           |\n",
      "| street                 | char      | Street                  |\n",
      "| active                 | boolean   | Active                  |\n",
      "| message_partner_ids    | many2many | Followers (Partners)    |\n",
      "| planned_revenue        | monetary  | Expected Revenue        |\n",
      "| display_name           | char      | Display Name            |\n",
      "| day_close              | float     | Days to Close           |\n",
      "| message_has_error      | boolean   | Message Delivery error  |\n",
      "| probability            | float     | Probability             |\n",
      "| partner_name           | char      | Customer Name           |\n",
      "| user_login             | char      | User Login              |\n",
      "| campaign_id            | many2one  | Campaign                |\n",
      "| partner_id             | many2one  | Customer                |\n",
      "| color                  | integer   | Color Index             |\n",
      "| date_action_last       | datetime  | Last Action             |\n",
      "| create_date            | datetime  | Created on              |\n",
      "| title                  | many2one  | Title                   |\n",
      "| message_needaction_c.. | integer   | Number of Actions       |\n",
      "| date_open              | datetime  | Assignation Date        |\n",
      "| message_bounce         | integer   | Bounce                  |\n",
      "| function               | char      | Job Position            |\n",
      "| company_currency       | many2one  | Currency                |\n",
      "| day_open               | float     | Days to Assign          |\n",
      "| user_id                | many2one  | Salesperson             |\n",
      "| message_follower_ids   | one2many  | Followers               |\n",
      "+------------------------+-----------+-------------------------+\n"
     ]
    }
   ],
   "source": [
    "login()\n",
    "info.desc_model(\"crm.lead\")"
   ]
  },
  {
   "cell_type": "code",
   "execution_count": 5,
   "metadata": {
    "ExecuteTime": {
     "end_time": "2019-06-20T08:28:10.603890Z",
     "start_time": "2019-06-20T08:28:10.309261Z"
    }
   },
   "outputs": [
    {
     "name": "stdout",
     "output_type": "stream",
     "text": [
      "[27, 26, 25, 21, 20, 16, 14, 10, 6, 5, 4, 3, 44, 43, 42, 41, 40, 39, 38, 37, 36, 35, 34, 33, 32, 31, 30, 29, 22, 19, 18, 17, 15, 13, 8, 2, 1, 24, 23]\n",
      "Interest in your products info@agrolait.com\n",
      "Open Space Design info@agrolait.com\n",
      "Modern Open Space henry@elight.com\n",
      "Office Design and Architecture False\n",
      "Distributor Contract john.b@tech.info\n",
      "Global Solutions: Furnitures False\n",
      "Office Design Project info@agrolait.com\n",
      "Design Software Info jga@solar.example.com\n",
      "Opensides: Need Info tina@opensides.example.com\n",
      "Quotation for 50 Chairs helle@stonageit.example.com\n",
      "Campbell: Chairs hmc@yahoo.example.com\n",
      "Pricing for 25 desks contact@thekompany.example.com\n",
      "Quote for 600 Chairs tbrockhouse0@google.pl\n",
      "Modernize old offices fseiller1@theglobeandmail.com\n",
      "Furnitures for new location ngrabert2@dailymail.co.uk\n",
      "Need a price: urgent ikirvell3@gnu.org\n",
      "Custom Desks (100 pieces) credford4@salon.com\n",
      "Cleaning subscription eespinazo5@reuters.com\n",
      "Office chairs jjobbins6@simplemachines.org\n",
      "Design New Shelves akalinovich7@tinypic.com\n",
      "Branded Furniture mlimprecht8@fastcompany.com\n",
      "Trelian New Offices roxshott9@trellian.com\n",
      "Need info about pricing aakreda@theglobeandmail.com\n",
      "Recurring delivery contract max123@itconsult.com\n",
      "Quote for 600 Chairs ErikNFrench@armyspy.com\n",
      "Quote for 600 Chairs ErikNFrench@armyspy.com\n",
      "Acadia College Furnitures GastonRochon@example.com\n",
      "Club Office More Desks jdunagan@leclub.example.com\n",
      "5 VP Chairs False\n",
      "Customizable Desk vauxoo@yourcompany.example.com\n",
      "DeltaPC: 10 Computer Desks info@deltapc.com\n",
      "Balmer Inc: Potential Distributor olivier.passo@balmer.inc.sa\n",
      "Info about services virginie@agrolait.com\n",
      "Quote for 600 Chairs willmac@rediffmail.example.com\n",
      "Product Catalog logan_expert@gmail.example.com\n",
      "Design Software md@oilcompany.fr\n",
      "Club Office Furnitures jdunagan@leclub.example.com\n",
      "Need 20 Desks info@mycompany.net\n",
      "Access to Online Catalog False\n"
     ]
    }
   ],
   "source": [
    "model_name=\"crm.lead\"\n",
    "\n",
    "Model = odoo.env[model_name]\n",
    "model_ids = Model.search([])\n",
    "print(model_ids)\n",
    "for record in Model.browse(model_ids):\n",
    "    print(getattr(record, \"name\"), getattr(record, \"email_from\"))"
   ]
  },
  {
   "cell_type": "code",
   "execution_count": 45,
   "metadata": {
    "ExecuteTime": {
     "end_time": "2019-01-14T12:06:02.133167Z",
     "start_time": "2019-01-14T12:06:01.969131Z"
    }
   },
   "outputs": [
    {
     "name": "stdout",
     "output_type": "stream",
     "text": [
      "[19]\n",
      "Recordset('crm.lead', [19])\n",
      "Recordset('crm.lead', [19])\n",
      "19 Interest in your customizable Pcs Model('crm.lead.tag')\n",
      "\t 产品\n"
     ]
    }
   ],
   "source": [
    "lead_ids = Model.search([('email_from', '=', 'vauxoo@yourcompany.example.com')], limit=1)\n",
    "print(lead_ids)     \n",
    "leads = Model.browse(lead_ids)\n",
    "print(leads)\n",
    "print(leads[0])\n",
    "for lead in leads:\n",
    "    print(lead.id, lead.name, type(lead.tag_ids))\n",
    "    for tag in lead.tag_ids:\n",
    "        print(\"\\t\", tag.name)"
   ]
  },
  {
   "cell_type": "code",
   "execution_count": 50,
   "metadata": {
    "ExecuteTime": {
     "end_time": "2019-01-14T12:25:49.441303Z",
     "start_time": "2019-01-14T12:25:49.318765Z"
    }
   },
   "outputs": [
    {
     "name": "stdout",
     "output_type": "stream",
     "text": [
      "total 7\n",
      "7 2018-12-16 00:00:00 2018-12-16 00:00:00 8.5\n",
      "6 2018-12-18 02:00:00 2018-12-18 10:30:00 8.5\n",
      "5 2018-12-22 00:00:00 2018-12-22 00:00:00 0.0\n",
      "4 2018-12-20 08:00:00 2018-12-20 10:30:00 2.5\n",
      "3 2018-12-12 15:55:05 2018-12-12 18:55:05 3.0\n",
      "2 2018-12-05 12:00:00 2018-12-05 19:00:00 7.0\n",
      "1 2018-12-03 10:20:00 2018-12-03 16:30:00 6.3\n"
     ]
    }
   ],
   "source": [
    "Model = odoo.env[\"calendar.event\"]\n",
    "model_ids = Model.search([])\n",
    "print(\"total\", len(model_ids))\n",
    "for rec in Model.browse(model_ids):\n",
    "    # <class 'datetime.datetime'>\n",
    "    print(rec.id, rec.start, rec.stop, rec.duration)"
   ]
  },
  {
   "cell_type": "code",
   "execution_count": 67,
   "metadata": {
    "ExecuteTime": {
     "end_time": "2019-01-14T12:57:34.227150Z",
     "start_time": "2019-01-14T12:57:34.186188Z"
    }
   },
   "outputs": [
    {
     "name": "stdout",
     "output_type": "stream",
     "text": [
      "2019-01-14 19:57:34.214176\n",
      "2019-01-14 18:57:34.216694\n",
      "2018-11-01 00:00:00\n",
      "2018-12-30 00:00:00\n",
      "2019-01-05 12:00:00\n",
      "\"2019-01-14T20:57:34.224492\"\n"
     ]
    }
   ],
   "source": [
    "import dateparser\n",
    "import time\n",
    "# procs-dateparser.md\n",
    "print(dateparser.parse('1 hour ago'))\n",
    "print(dateparser.parse(u'2小时前'))\n",
    "print(dateparser.parse(u'2018年11月1日'))\n",
    "print(dateparser.parse(u'2018年12月30日'))\n",
    "print(time.strftime('%Y-%m-05 12:00:00'))\n",
    "\n",
    "#⊕ [python - How to overcome \"datetime.datetime not JSON serializable\"? - Stack Overflow](https://stackoverflow.com/questions/11875770/how-to-overcome-datetime-datetime-not-json-serializable)\n",
    "from datetime import date, datetime\n",
    "from json import dumps\n",
    "\n",
    "def json_serial(obj):\n",
    "    \"\"\"JSON serializer for objects not serializable by default json code\"\"\"\n",
    "\n",
    "    if isinstance(obj, (datetime, date)):\n",
    "        return obj.isoformat()\n",
    "    raise TypeError (\"Type %s not serializable\" % type(obj))\n",
    "\n",
    "print(dumps(datetime.now(), default=json_serial))"
   ]
  },
  {
   "cell_type": "code",
   "execution_count": 68,
   "metadata": {
    "ExecuteTime": {
     "end_time": "2019-01-14T12:58:07.347226Z",
     "start_time": "2019-01-14T12:58:07.303446Z"
    }
   },
   "outputs": [
    {
     "name": "stdout",
     "output_type": "stream",
     "text": [
      "2\n"
     ]
    }
   ],
   "source": [
    "a_date=str(dateparser.parse(u'2018年11月1日'))\n",
    "b_date=str(dateparser.parse(u'2018年12月10日'))\n",
    "# procs-odoo-orm-api.md\n",
    "#⊕ [Get list of ids - Odoo - Stack Overflow](https://stackoverflow.com/questions/45839212/get-list-of-ids-odoo)\n",
    "# ev_recs = Model.search([('start','<=',b_date),('start','>=',a_date)]).ids\n",
    "ev_recs = Model.search([('start','<=',b_date),('start','>=',a_date)])\n",
    "print(len(ev_recs))"
   ]
  },
  {
   "cell_type": "code",
   "execution_count": 31,
   "metadata": {
    "ExecuteTime": {
     "end_time": "2019-01-14T11:53:09.824801Z",
     "start_time": "2019-01-14T11:53:09.785134Z"
    }
   },
   "outputs": [],
   "source": [
    "import graphene\n",
    "class CrmLead(graphene.ObjectType):\n",
    "    name = graphene.String()\n",
    "    email_from=graphene.String()\n",
    "    \n",
    "class Query(graphene.ObjectType):\n",
    "    crm_lead = graphene.Field(CrmLead, email_from=graphene.String())\n",
    "    crm_leads = graphene.List(CrmLead)\n",
    "    \n",
    "    def resolve_crm_lead(self, info, email_from):\n",
    "        return get_crm_lead(email_from)\n",
    "    def resolve_crm_leads(self, info):\n",
    "        model_name=\"crm.lead\"\n",
    "        Model = odoo.env[model_name]\n",
    "        model_ids = Model.search([])\n",
    "        recordset=[]\n",
    "        for record in Model.browse(model_ids):\n",
    "            recordset.append(CrmLead(name=getattr(record, \"name\"), \n",
    "                                     email_from=getattr(record, \"email_from\")))\n",
    "        return recordset\n",
    "    \n",
    "def get_crm_lead(sent):\n",
    "    model_name=\"crm.lead\"\n",
    "    Model = odoo.env[model_name]\n",
    "    lead_ids = Model.search([('email_from', '=', sent)], limit=1)   \n",
    "    leads = Model.browse(lead_ids)\n",
    "    assert len(leads)==1\n",
    "    # print(leads)\n",
    "    lead=leads[0]\n",
    "    return CrmLead(name=lead.name, email_from=lead.email_from)\n",
    "\n",
    "schema = graphene.Schema(query=Query)     "
   ]
  },
  {
   "cell_type": "code",
   "execution_count": 32,
   "metadata": {
    "ExecuteTime": {
     "end_time": "2019-01-14T11:53:12.276288Z",
     "start_time": "2019-01-14T11:53:12.186025Z"
    }
   },
   "outputs": [
    {
     "name": "stdout",
     "output_type": "stream",
     "text": [
      "{\n",
      "  \"crmLead\": {\n",
      "    \"name\": \"Interest in your customizable Pcs\",\n",
      "    \"emailFrom\": \"vauxoo@yourcompany.example.com\"\n",
      "  }\n",
      "}\n"
     ]
    }
   ],
   "source": [
    "import json\n",
    "default_query = '''\n",
    "query FetchCrmLead($sent: String!) {\n",
    "      crmLead(emailFrom: $sent) {\n",
    "        name\n",
    "        emailFrom\n",
    "      }\n",
    "    }\n",
    "'''.strip()\n",
    "variables = {\"sent\":\"vauxoo@yourcompany.example.com\"}\n",
    "result = schema.execute(default_query, variables=variables)\n",
    "print(json.dumps(result.data, indent=2, ensure_ascii=False))"
   ]
  },
  {
   "cell_type": "code",
   "execution_count": 33,
   "metadata": {
    "ExecuteTime": {
     "end_time": "2019-01-14T11:53:14.783805Z",
     "start_time": "2019-01-14T11:53:14.603578Z"
    }
   },
   "outputs": [
    {
     "name": "stdout",
     "output_type": "stream",
     "text": [
      "{\n",
      "  \"crmLeads\": [\n",
      "    {\n",
      "      \"name\": \"Interest in your products\",\n",
      "      \"emailFrom\": \"info@agrolait.com\"\n",
      "    },\n",
      "    {\n",
      "      \"name\": \"Would appreciate more information about your products\",\n",
      "      \"emailFrom\": \"info@agrolait.com\"\n",
      "    },\n",
      "    {\n",
      "      \"name\": \"Need to customize the solution\",\n",
      "      \"emailFrom\": \"henry@elight.com\"\n",
      "    },\n",
      "    {\n",
      "      \"name\": \"“Resource Planning” project develpment\",\n",
      "      \"emailFrom\": \"false\"\n",
      "    },\n",
      "    {\n",
      "      \"name\": \"Interest in your Partnership Contract\",\n",
      "      \"emailFrom\": \"john.b@tech.info\"\n",
      "    },\n",
      "    {\n",
      "      \"name\": \"Need a new design for my website\",\n",
      "      \"emailFrom\": \"false\"\n",
      "    },\n",
      "    {\n",
      "      \"name\": \"Interest in your Graphic Design Project\",\n",
      "      \"emailFrom\": \"info@agrolait.com\"\n",
      "    },\n",
      "    {\n",
      "      \"name\": \"Information about laptop\",\n",
      "      \"emailFrom\": \"jga@solar.example.com\"\n",
      "    },\n",
      "    {\n",
      "      \"name\": \"Need Info about your Services\",\n",
      "      \"emailFrom\": \"tina@opensides.example.com\"\n",
      "    },\n",
      "    {\n",
      "      \"name\": \"Need a Quotation for Computers with Accessories\",\n",
      "      \"emailFrom\": \"helle@stonageit.example.com\"\n",
      "    },\n",
      "    {\n",
      "      \"name\": \"Need a New Website\",\n",
      "      \"emailFrom\": \"hmc@yahoo.example.com\"\n",
      "    },\n",
      "    {\n",
      "      \"name\": \"Need Info about Web Design\",\n",
      "      \"emailFrom\": \"contact@thekompany.example.com\"\n",
      "    },\n",
      "    {\n",
      "      \"name\": \"Need script to Import external data\",\n",
      "      \"emailFrom\": \"false\"\n",
      "    },\n",
      "    {\n",
      "      \"name\": \"Interest in your customizable Pcs\",\n",
      "      \"emailFrom\": \"vauxoo@yourcompany.example.com\"\n",
      "    },\n",
      "    {\n",
      "      \"name\": \"Trainee's training plan in your Organization\",\n",
      "      \"emailFrom\": \"info@deltapc.com\"\n",
      "    },\n",
      "    {\n",
      "      \"name\": \"Pricing Information of Services\",\n",
      "      \"emailFrom\": \"olivier.passo@balmer.inc.sa\"\n",
      "    },\n",
      "    {\n",
      "      \"name\": \"Plan to buy RedHat servers\",\n",
      "      \"emailFrom\": \"virginie@agrolait.com\"\n",
      "    },\n",
      "    {\n",
      "      \"name\": \"Plan to buy 60 keyboards and mouses\",\n",
      "      \"emailFrom\": \"willmac@rediffmail.example.com\"\n",
      "    },\n",
      "    {\n",
      "      \"name\": \"Product Catalog\",\n",
      "      \"emailFrom\": \"logan_expert@gmail.example.com\"\n",
      "    },\n",
      "    {\n",
      "      \"name\": \"Interest in Your New Software\",\n",
      "      \"emailFrom\": \"md@oilcompany.fr\"\n",
      "    },\n",
      "    {\n",
      "      \"name\": \"Plan to Attend a Training\",\n",
      "      \"emailFrom\": \"jdunagan@leclub.example.com\"\n",
      "    },\n",
      "    {\n",
      "      \"name\": \"Need 20 Days of Consultancy\",\n",
      "      \"emailFrom\": \"info@mycompany.net\"\n",
      "    },\n",
      "    {\n",
      "      \"name\": \"Want to subscribe to your online solution\",\n",
      "      \"emailFrom\": \"false\"\n",
      "    }\n",
      "  ]\n",
      "}\n"
     ]
    }
   ],
   "source": [
    "default_query = '''\n",
    "{\n",
    "  crmLeads {\n",
    "    name\n",
    "    emailFrom\n",
    "  }\n",
    "}\n",
    "'''.strip()\n",
    "result = schema.execute(default_query)\n",
    "print(json.dumps(result.data, indent=2, ensure_ascii=False))"
   ]
  },
  {
   "cell_type": "code",
   "execution_count": 74,
   "metadata": {
    "ExecuteTime": {
     "end_time": "2019-01-14T13:58:41.574397Z",
     "start_time": "2019-01-14T13:58:41.541663Z"
    }
   },
   "outputs": [
    {
     "name": "stdout",
     "output_type": "stream",
     "text": [
      "+------------------------+-----------+--------------------------+\n",
      "| name                   | type      | string                   |\n",
      "|------------------------+-----------+--------------------------|\n",
      "| opportunity_id         | many2one  | Opportunity              |\n",
      "| start_date             | date      | Start Date               |\n",
      "| state                  | selection | Status                   |\n",
      "| message_unread         | boolean   | Unread Messages          |\n",
      "| start_datetime         | datetime  | Start DateTime           |\n",
      "| write_date             | datetime  | Last Updated on          |\n",
      "| th                     | boolean   | Thu                      |\n",
      "| start                  | datetime  | Start                    |\n",
      "| display_name           | char      | Display Name             |\n",
      "| stop_datetime          | datetime  | End Datetime             |\n",
      "| allday                 | boolean   | All Day                  |\n",
      "| name                   | char      | Meeting Subject          |\n",
      "| user_id                | many2one  | Responsible              |\n",
      "| day                    | integer   | Date of month            |\n",
      "| alarm_ids              | many2many | Reminders                |\n",
      "| recurrency             | boolean   | Recurrent                |\n",
      "| __last_update          | datetime  | Last Modified on         |\n",
      "| stop_date              | date      | End Date                 |\n",
      "| recurrent_id           | integer   | Recurrent ID             |\n",
      "| res_id                 | integer   | Document ID              |\n",
      "| rrule                  | char      | Recurrent Rule           |\n",
      "| location               | char      | Location                 |\n",
      "| tu                     | boolean   | Tue                      |\n",
      "| stop                   | datetime  | Stop                     |\n",
      "| recurrent_id_date      | datetime  | Recurrent ID date        |\n",
      "| categ_ids              | many2many | Tags                     |\n",
      "| attendee_status        | selection | Attendee Status          |\n",
      "| partner_ids            | many2many | Attendees                |\n",
      "| res_model_id           | many2one  | Document Model           |\n",
      "| byday                  | selection | By day                   |\n",
      "| interval               | integer   | Repeat Every             |\n",
      "| message_partner_ids    | many2many | Followers (Partners)     |\n",
      "| create_uid             | many2one  | Created by               |\n",
      "| week_list              | selection | Weekday                  |\n",
      "| active                 | boolean   | Active                   |\n",
      "| privacy                | selection | Privacy                  |\n",
      "| duration               | float     | Duration                 |\n",
      "| message_needaction     | boolean   | Action Needed            |\n",
      "| activity_ids           | one2many  | Activities               |\n",
      "| sa                     | boolean   | Sat                      |\n",
      "| we                     | boolean   | Wed                      |\n",
      "| message_last_post      | datetime  | Last Message Date        |\n",
      "| res_model              | char      | Document Model Name      |\n",
      "| is_highlighted         | boolean   | Is the Event Highlighted |\n",
      "| end_type               | selection | Recurrence Termination   |\n",
      "| message_ids            | one2many  | Messages                 |\n",
      "| fr                     | boolean   | Fri                      |\n",
      "| partner_id             | many2one  | Responsible              |\n",
      "| display_time           | char      | Event Time               |\n",
      "| display_start          | char      | Date                     |\n",
      "| write_uid              | many2one  | Last Updated by          |\n",
      "| mo                     | boolean   | Mon                      |\n",
      "| count                  | integer   | Repeat                   |\n",
      "| attendee_ids           | one2many  | Participant              |\n",
      "| month_by               | selection | Option                   |\n",
      "| website_message_ids    | one2many  | Website Messages         |\n",
      "| message_needaction_c.. | integer   | Number of Actions        |\n",
      "| show_as                | selection | Show Time as             |\n",
      "| final_date             | date      | Repeat Until             |\n",
      "| create_date            | datetime  | Created on               |\n",
      "| su                     | boolean   | Sun                      |\n",
      "| message_is_follower    | boolean   | Is Follower              |\n",
      "| message_channel_ids    | many2many | Followers (Channels)     |\n",
      "| message_follower_ids   | one2many  | Followers                |\n",
      "| rrule_type             | selection | Recurrence               |\n",
      "| message_unread_count.. | integer   | Unread Messages Counter  |\n",
      "| is_attendee            | boolean   | Attendee                 |\n",
      "| description            | text      | Description              |\n",
      "+------------------------+-----------+--------------------------+\n"
     ]
    }
   ],
   "source": [
    "info.desc_model(\"calendar.event\")"
   ]
  },
  {
   "cell_type": "code",
   "execution_count": 97,
   "metadata": {
    "ExecuteTime": {
     "end_time": "2019-01-14T14:56:08.538589Z",
     "start_time": "2019-01-14T14:56:08.522541Z"
    }
   },
   "outputs": [],
   "source": [
    "import graphene\n",
    "from odoorpc.fields import Many2many, Many2one, One2many, Unknown\n",
    "TYPES_TO_FIELDS = {\n",
    "    'binary': graphene.String,\n",
    "    'boolean': graphene.Boolean,\n",
    "    'char': graphene.String,\n",
    "    'date': graphene.types.datetime.Date,\n",
    "    'datetime': graphene.types.datetime.DateTime,\n",
    "    'float': graphene.Float,\n",
    "    'html': graphene.String,\n",
    "    'integer': graphene.Int,\n",
    "    \n",
    "    #⊕ [Graphene-Python](http://docs.graphene-python.org/en/latest/types/scalars/#custom-scalars)\n",
    "    'many2many': Many2many,\n",
    "    'many2one': Many2one,\n",
    "    'one2many': One2many,\n",
    "    \n",
    "    'reference': graphene.String,\n",
    "    'selection': graphene.String,\n",
    "    'text': graphene.String,\n",
    "}\n",
    "\n",
    "def generate_field(name, data):\n",
    "    \"\"\"Generate a well-typed field according to the data dictionary supplied\n",
    "    (obtained via the `fields_get' method of any models).\n",
    "    \"\"\"\n",
    "    assert 'type' in data\n",
    "    field = TYPES_TO_FIELDS.get(data['type'], Unknown)()\n",
    "    return field"
   ]
  },
  {
   "cell_type": "code",
   "execution_count": 99,
   "metadata": {
    "ExecuteTime": {
     "end_time": "2019-01-14T14:56:25.877235Z",
     "start_time": "2019-01-14T14:56:25.872568Z"
    }
   },
   "outputs": [
    {
     "name": "stdout",
     "output_type": "stream",
     "text": [
      "Date\n"
     ]
    }
   ],
   "source": [
    "field = TYPES_TO_FIELDS.get(\"date\", Unknown)()\n",
    "print(type(field))"
   ]
  },
  {
   "cell_type": "code",
   "execution_count": 89,
   "metadata": {
    "ExecuteTime": {
     "end_time": "2019-01-14T14:44:39.358484Z",
     "start_time": "2019-01-14T14:44:39.338521Z"
    }
   },
   "outputs": [
    {
     "name": "stdout",
     "output_type": "stream",
     "text": [
      "CalendarEvent\n"
     ]
    }
   ],
   "source": [
    "# from graphene.utils.str_converters import to_camel_case, to_snake_case\n",
    "\n",
    "def to_camel_case(snake_str):\n",
    "    components = snake_str.split(\"_\")\n",
    "    # We capitalize the first letter of each component except the first one\n",
    "    # with the 'capitalize' method and join them together.\n",
    "    return \"\".join(x.capitalize() if x else \"_\" for x in components[:])\n",
    "\n",
    "def normalize_class(model):\n",
    "    cls_name = model.replace('.', '_')\n",
    "    return to_camel_case(cls_name)\n",
    "print(normalize_class(\"calendar.event\"))"
   ]
  },
  {
   "cell_type": "code",
   "execution_count": 100,
   "metadata": {
    "ExecuteTime": {
     "end_time": "2019-01-14T14:56:32.946296Z",
     "start_time": "2019-01-14T14:56:32.880598Z"
    }
   },
   "outputs": [
    {
     "name": "stdout",
     "output_type": "stream",
     "text": [
      "start_date Date\n",
      "state String\n",
      "message_unread Boolean\n",
      "start_datetime DateTime\n",
      "write_date DateTime\n",
      "start DateTime\n",
      "display_name String\n",
      "stop_datetime DateTime\n",
      "allday Boolean\n",
      "name String\n",
      "stop_date Date\n",
      "recurrent_id Int\n",
      "res_id Int\n",
      "rrule String\n",
      "location String\n",
      "stop DateTime\n",
      "recurrent_id_date DateTime\n",
      "attendee_status String\n",
      "active Boolean\n",
      "privacy String\n",
      "duration Float\n",
      "message_needaction Boolean\n",
      "message_last_post DateTime\n",
      "res_model String\n",
      "is_highlighted Boolean\n",
      "display_time String\n",
      "display_start String\n",
      "message_needaction_counter Int\n",
      "show_as String\n",
      "create_date DateTime\n",
      "message_is_follower Boolean\n",
      "message_unread_counter Int\n",
      "is_attendee Boolean\n",
      "description String\n",
      ".. create class CalendarEvent\n"
     ]
    }
   ],
   "source": [
    "from odoorpc.env import FIELDS_RESERVED\n",
    "import odoorpc.fields as fields\n",
    "\n",
    "model=\"calendar.event\"\n",
    "attrs = {\n",
    "        '_name': model,\n",
    "        '_columns': {},\n",
    "    }\n",
    "def get_recurrent_fields():\n",
    "    return ['byday', 'recurrency', 'final_date', 'rrule_type', 'month_by',\n",
    "            'interval', 'count', 'end_type', 'mo', 'tu', 'we', 'th', 'fr', 'sa',\n",
    "            'su', 'day', 'week_list']\n",
    "fields_get = odoo.execute(model, 'fields_get')\n",
    "for field_name, field_data in fields_get.items():\n",
    "    field_type=field_data['type']\n",
    "    if field_name not in FIELDS_RESERVED and \\\n",
    "        field_name not in get_recurrent_fields() and \\\n",
    "        not field_name.startswith(\"_\") and \\\n",
    "        field_type not in (\"many2many\",\"many2one\",\"one2many\"):\n",
    "            \n",
    "        Field = fields.generate_field(field_name, field_data)\n",
    "        FieldType=generate_field(field_name, field_data)\n",
    "        attrs['_columns'][field_name] = Field\n",
    "        attrs[field_name] = FieldType\n",
    "        print(field_name, type(FieldType))\n",
    "\n",
    "cls_name=normalize_class(model)\n",
    "print(\".. create class\", cls_name)\n",
    "model_cls=type(cls_name, (graphene.ObjectType,), attrs)"
   ]
  },
  {
   "cell_type": "code",
   "execution_count": 108,
   "metadata": {
    "ExecuteTime": {
     "end_time": "2019-01-14T15:09:56.375153Z",
     "start_time": "2019-01-14T15:09:56.365528Z"
    }
   },
   "outputs": [
    {
     "name": "stdout",
     "output_type": "stream",
     "text": [
      "start_date\n",
      "state\n",
      "message_unread\n",
      "start_datetime\n",
      "write_date\n",
      "start\n",
      "display_name\n",
      "stop_datetime\n",
      "allday\n",
      "name\n",
      "stop_date\n",
      "recurrent_id\n",
      "res_id\n",
      "rrule\n",
      "location\n",
      "stop\n",
      "recurrent_id_date\n",
      "attendee_status\n",
      "active\n",
      "privacy\n",
      "duration\n",
      "message_needaction\n",
      "message_last_post\n",
      "res_model\n",
      "is_highlighted\n",
      "display_time\n",
      "display_start\n",
      "message_needaction_counter\n",
      "show_as\n",
      "create_date\n",
      "message_is_follower\n",
      "message_unread_counter\n",
      "is_attendee\n",
      "description\n"
     ]
    }
   ],
   "source": [
    "for fld in model_cls._columns.keys():\n",
    "    print(fld)"
   ]
  },
  {
   "cell_type": "code",
   "execution_count": 117,
   "metadata": {
    "ExecuteTime": {
     "end_time": "2019-01-14T15:20:31.260077Z",
     "start_time": "2019-01-14T15:20:31.243072Z"
    }
   },
   "outputs": [
    {
     "name": "stdout",
     "output_type": "stream",
     "text": [
      "('_meta', <ObjectTypeOptions name='CalendarEvent'>)\n",
      "('_name', 'calendar.event')\n",
      "('active', <graphene.types.scalars.Boolean object at 0x1065b2e80>)\n",
      "('allday', <graphene.types.scalars.Boolean object at 0x1065b25f8>)\n",
      "('attendee_status', <graphene.types.scalars.String object at 0x1065b2240>)\n",
      "('create_date', <graphene.types.datetime.DateTime object at 0x1069f9c18>)\n",
      "('description', <graphene.types.scalars.String object at 0x106509d68>)\n",
      "('display_name', <graphene.types.scalars.String object at 0x10530f2b0>)\n",
      "('display_start', <graphene.types.scalars.String object at 0x1069f9b00>)\n",
      "('display_time', <graphene.types.scalars.String object at 0x1069f9588>)\n",
      "('duration', <graphene.types.scalars.Float object at 0x1065b2710>)\n",
      "('is_attendee', <graphene.types.scalars.Boolean object at 0x1069f90f0>)\n",
      "('is_highlighted', <graphene.types.scalars.Boolean object at 0x1069f9c50>)\n",
      "('is_type_of', None)\n",
      "('location', <graphene.types.scalars.String object at 0x1065b2e48>)\n",
      "('message_is_follower', <graphene.types.scalars.Boolean object at 0x1069f9a90>)\n",
      "('message_last_post', <graphene.types.datetime.DateTime object at 0x1069f9160>)\n",
      "('message_needaction', <graphene.types.scalars.Boolean object at 0x1069f9e48>)\n",
      "('message_needaction_counter', <graphene.types.scalars.Int object at 0x1069f93c8>)\n",
      "('message_unread', <graphene.types.scalars.Boolean object at 0x1064bc828>)\n",
      "('message_unread_counter', <graphene.types.scalars.Int object at 0x1069f9668>)\n",
      "('name', <graphene.types.scalars.String object at 0x1065b2a58>)\n",
      "('privacy', <graphene.types.scalars.String object at 0x1065b2e10>)\n",
      "('recurrent_id', <graphene.types.scalars.Int object at 0x1065b2cf8>)\n",
      "('recurrent_id_date', <graphene.types.datetime.DateTime object at 0x1065b25c0>)\n",
      "('res_id', <graphene.types.scalars.Int object at 0x1065b2898>)\n",
      "('res_model', <graphene.types.scalars.String object at 0x1069f90b8>)\n",
      "('rrule', <graphene.types.scalars.String object at 0x1065b2438>)\n",
      "('show_as', <graphene.types.scalars.String object at 0x1069f9be0>)\n",
      "('start', <graphene.types.datetime.DateTime object at 0x10530f1d0>)\n",
      "('start_date', <graphene.types.datetime.Date object at 0x1064bc1d0>)\n",
      "('start_datetime', <graphene.types.datetime.DateTime object at 0x1064bc320>)\n",
      "('state', <graphene.types.scalars.String object at 0x1064bc550>)\n",
      "('stop', <graphene.types.datetime.DateTime object at 0x1065b2eb8>)\n",
      "('stop_date', <graphene.types.datetime.Date object at 0x1065b2908>)\n",
      "('stop_datetime', <graphene.types.datetime.DateTime object at 0x1065b2048>)\n",
      "('write_date', <graphene.types.datetime.DateTime object at 0x105cfd668>)\n"
     ]
    }
   ],
   "source": [
    "import inspect\n",
    "\n",
    "def desc_type(type_name):\n",
    "    # attributes = inspect.getmembers(type(type_name), lambda a:not(inspect.isroutine(a)))\n",
    "    attributes = inspect.getmembers(type_name, lambda a:not(inspect.isroutine(a)))    \n",
    "    fields=[a for a in attributes \n",
    "            if not(a[0].startswith('__') \n",
    "                   and a[0].endswith('__'))]\n",
    "    for f in fields:\n",
    "        if f[0]!=\"_columns\":\n",
    "            print(f)    \n",
    "\n",
    "desc_type(model_cls)"
   ]
  },
  {
   "cell_type": "code",
   "execution_count": 118,
   "metadata": {
    "ExecuteTime": {
     "end_time": "2019-01-14T15:24:07.395064Z",
     "start_time": "2019-01-14T15:24:07.367953Z"
    }
   },
   "outputs": [
    {
     "name": "stdout",
     "output_type": "stream",
     "text": [
      "CalendarEvent\n"
     ]
    }
   ],
   "source": [
    "import graphene\n",
    "\n",
    "def create_with_attrs(model_cls, record):\n",
    "    inst=model_cls()\n",
    "    for fld in model_cls._columns.keys():\n",
    "        val=getattr(record, fld)\n",
    "        setattr(inst, fld, val)\n",
    "    return inst\n",
    "\n",
    "model_name=\"calendar.event\"\n",
    "of_type=model_cls\n",
    "\n",
    "class CalQuery(graphene.ObjectType):\n",
    "    calendar_event = graphene.List(of_type)\n",
    "    \n",
    "    def resolve_calendar_event(self, info):        \n",
    "        Model = odoo.env[model_name]\n",
    "        model_ids = Model.search([])\n",
    "        recordset=[]\n",
    "        for record in Model.browse(model_ids):\n",
    "            recordset.append(create_with_attrs(of_type, record))\n",
    "        return recordset\n",
    "\n",
    "schema = graphene.Schema(query=CalQuery)    \n",
    "print(of_type)"
   ]
  },
  {
   "cell_type": "code",
   "execution_count": 120,
   "metadata": {
    "ExecuteTime": {
     "end_time": "2019-01-14T15:25:00.300392Z",
     "start_time": "2019-01-14T15:25:00.186685Z"
    }
   },
   "outputs": [
    {
     "name": "stdout",
     "output_type": "stream",
     "text": [
      "{\n",
      "  \"calendarEvent\": [\n",
      "    {\n",
      "      \"name\": \"Presentation of the new Calendar\",\n",
      "      \"description\": \"false\",\n",
      "      \"start\": \"2018-12-16T00:00:00\"\n",
      "    },\n",
      "    {\n",
      "      \"name\": \"Presentation for new Services\",\n",
      "      \"description\": \"false\",\n",
      "      \"start\": \"2018-12-18T02:00:00\"\n",
      "    },\n",
      "    {\n",
      "      \"name\": \"Changes in Designing\",\n",
      "      \"description\": \"false\",\n",
      "      \"start\": \"2018-12-22T00:00:00\"\n",
      "    },\n",
      "    {\n",
      "      \"name\": \"Requirements review\",\n",
      "      \"description\": \"false\",\n",
      "      \"start\": \"2018-12-20T08:00:00\"\n",
      "    },\n",
      "    {\n",
      "      \"name\": \"Pricing Discussion\",\n",
      "      \"description\": \"Internal meeting for discussion for new pricing for product and services.\",\n",
      "      \"start\": \"2018-12-12T15:55:05\"\n",
      "    },\n",
      "    {\n",
      "      \"name\": \"Initial discussion\",\n",
      "      \"description\": \"Discussion with partner for product.\",\n",
      "      \"start\": \"2018-12-05T12:00:00\"\n",
      "    },\n",
      "    {\n",
      "      \"name\": \"Follow-up for Project proposal\",\n",
      "      \"description\": \"Meeting to discuss project plan and hash out the details of implementation.\",\n",
      "      \"start\": \"2018-12-03T10:20:00\"\n",
      "    }\n",
      "  ]\n",
      "}\n"
     ]
    }
   ],
   "source": [
    "default_query = '''\n",
    "{\n",
    "  calendarEvent {\n",
    "    name\n",
    "    description\n",
    "    start\n",
    "  }\n",
    "}\n",
    "'''.strip()\n",
    "result = schema.execute(default_query)\n",
    "print(json.dumps(result.data, indent=2, ensure_ascii=False))"
   ]
  }
 ],
 "metadata": {
  "kernelspec": {
   "display_name": "Python 3",
   "language": "python",
   "name": "python3"
  },
  "language_info": {
   "codemirror_mode": {
    "name": "ipython",
    "version": 3
   },
   "file_extension": ".py",
   "mimetype": "text/x-python",
   "name": "python",
   "nbconvert_exporter": "python",
   "pygments_lexer": "ipython3",
   "version": "3.6.4"
  },
  "varInspector": {
   "cols": {
    "lenName": 16,
    "lenType": 16,
    "lenVar": 40
   },
   "kernels_config": {
    "python": {
     "delete_cmd_postfix": "",
     "delete_cmd_prefix": "del ",
     "library": "var_list.py",
     "varRefreshCmd": "print(var_dic_list())"
    },
    "r": {
     "delete_cmd_postfix": ") ",
     "delete_cmd_prefix": "rm(",
     "library": "var_list.r",
     "varRefreshCmd": "cat(var_dic_list()) "
    }
   },
   "types_to_exclude": [
    "module",
    "function",
    "builtin_function_or_method",
    "instance",
    "_Feature"
   ],
   "window_display": false
  }
 },
 "nbformat": 4,
 "nbformat_minor": 2
}
