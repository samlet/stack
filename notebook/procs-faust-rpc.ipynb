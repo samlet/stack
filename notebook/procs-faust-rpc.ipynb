{
 "cells": [
  {
   "cell_type": "code",
   "execution_count": 1,
   "metadata": {
    "ExecuteTime": {
     "end_time": "2020-06-26T06:42:52.214463Z",
     "start_time": "2020-06-26T06:42:47.728343Z"
    }
   },
   "outputs": [
    {
     "name": "stdout",
     "output_type": "stream",
     "text": [
      "\u001b[32m2020-06-26 14:42:49,014 - faust.transport.drivers.aiokafka - INFO - [^-Producer]: Starting...\u001b[0m\n",
      "\u001b[32m2020-06-26 14:42:49,015 - faust.transport.producer - INFO - [^--ProducerBuffer]: Starting...\u001b[0m\n",
      "\u001b[32m2020-06-26 14:42:49,042 - faust.transport.drivers.aiokafka - INFO - [^-Producer]: Creating topic 'f-reply-8d461173-9cde-4fa5-824f-b45c26d7d8dd'\u001b[0m\n",
      "\u001b[32m2020-06-26 14:42:52,141 - faust.app.base - INFO - [^App]: Starting...\u001b[0m\n",
      "\u001b[32m2020-06-26 14:42:52,143 - faust.transport.drivers.aiokafka - INFO - [^-Consumer]: Starting...\u001b[0m\n",
      "\u001b[32m2020-06-26 14:42:52,145 - faust.transport.drivers.aiokafka - INFO - [^--AIOKafkaConsumerThread]: Starting...\u001b[0m\n",
      "\u001b[32m2020-06-26 14:42:52,173 - faust.agents.replies - INFO - [^-ReplyConsumer]: Starting...\u001b[0m\n",
      "\u001b[32m2020-06-26 14:42:52,176 - faust.transport.conductor - INFO - [^--Conductor]: Starting...\u001b[0m\n",
      "\u001b[32m2020-06-26 14:42:52,179 - faust.transport.consumer - INFO - [^-Fetcher]: Starting...\u001b[0m\n",
      "\u001b[32m2020-06-26 14:42:52,186 - faust.transport.conductor - INFO - [^--Conductor]: Not waiting for agent/table startups...\u001b[0m\n",
      "\u001b[32m2020-06-26 14:42:52,195 - aiokafka.consumer.subscription_state - INFO - Updating subscribed topics to: frozenset({'f-reply-8d461173-9cde-4fa5-824f-b45c26d7d8dd'})\u001b[0m\n",
      "\u001b[32m2020-06-26 14:42:52,196 - aiokafka.consumer.consumer - INFO - Subscribed to topic(s): {'f-reply-8d461173-9cde-4fa5-824f-b45c26d7d8dd'}\u001b[0m\n",
      "5.6 * 100 = 560.0\n"
     ]
    }
   ],
   "source": [
    "from sagas.tests.brokers.rpc import mul\n",
    "x=5.6\n",
    "res = await mul.ask(x)\n",
    "print(f'{x} * 100 = {res}')"
   ]
  },
  {
   "cell_type": "code",
   "execution_count": 4,
   "metadata": {
    "ExecuteTime": {
     "end_time": "2020-06-26T06:33:17.197550Z",
     "start_time": "2020-06-26T06:33:13.906834Z"
    }
   },
   "outputs": [
    {
     "name": "stdout",
     "output_type": "stream",
     "text": [
      "\u001b[32m2020-06-26 14:33:13,920 - faust.transport.drivers.aiokafka - INFO - [^-Producer]: Starting...\u001b[0m\n",
      "\u001b[32m2020-06-26 14:33:13,923 - faust.transport.producer - INFO - [^--ProducerBuffer]: Starting...\u001b[0m\n",
      "\u001b[32m2020-06-26 14:33:13,959 - faust.transport.drivers.aiokafka - INFO - [^-Producer]: Creating topic 'f-reply-6968a123-cb42-4480-b184-cb9c7c335ccd'\u001b[0m\n",
      "\u001b[32m2020-06-26 14:33:14,087 - faust.transport.drivers.aiokafka - INFO - [^-Producer]: Topic 'f-reply-6968a123-cb42-4480-b184-cb9c7c335ccd' created.\u001b[0m\n",
      "\u001b[32m2020-06-26 14:33:17,101 - faust.app.base - INFO - [^App]: Starting...\u001b[0m\n",
      "\u001b[32m2020-06-26 14:33:17,102 - faust.transport.drivers.aiokafka - INFO - [^-Consumer]: Starting...\u001b[0m\n",
      "\u001b[32m2020-06-26 14:33:17,105 - faust.transport.drivers.aiokafka - INFO - [^--AIOKafkaConsumerThread]: Starting...\u001b[0m\n",
      "\u001b[32m2020-06-26 14:33:17,143 - faust.agents.replies - INFO - [^-ReplyConsumer]: Starting...\u001b[0m\n",
      "\u001b[32m2020-06-26 14:33:17,146 - faust.transport.conductor - INFO - [^--Conductor]: Starting...\u001b[0m\n",
      "\u001b[32m2020-06-26 14:33:17,148 - faust.transport.consumer - INFO - [^-Fetcher]: Starting...\u001b[0m\n",
      "\u001b[32m2020-06-26 14:33:17,157 - faust.transport.conductor - INFO - [^--Conductor]: Not waiting for agent/table startups...\u001b[0m\n",
      "\u001b[32m2020-06-26 14:33:17,166 - aiokafka.consumer.subscription_state - INFO - Updating subscribed topics to: frozenset({'f-reply-6968a123-cb42-4480-b184-cb9c7c335ccd'})\u001b[0m\n",
      "\u001b[32m2020-06-26 14:33:17,170 - aiokafka.consumer.consumer - INFO - Subscribed to topic(s): {'f-reply-6968a123-cb42-4480-b184-cb9c7c335ccd'}\u001b[0m\n",
      "8\n"
     ]
    }
   ],
   "source": [
    "from sagas.tests.brokers.agent import Add, adding\n",
    "print(await adding.ask(Add(a=4, b=4)))"
   ]
  }
 ],
 "metadata": {
  "kernelspec": {
   "display_name": "Python 3",
   "language": "python",
   "name": "python3"
  },
  "language_info": {
   "codemirror_mode": {
    "name": "ipython",
    "version": 3
   },
   "file_extension": ".py",
   "mimetype": "text/x-python",
   "name": "python",
   "nbconvert_exporter": "python",
   "pygments_lexer": "ipython3",
   "version": "3.7.7"
  },
  "varInspector": {
   "cols": {
    "lenName": 16,
    "lenType": 16,
    "lenVar": 40
   },
   "kernels_config": {
    "python": {
     "delete_cmd_postfix": "",
     "delete_cmd_prefix": "del ",
     "library": "var_list.py",
     "varRefreshCmd": "print(var_dic_list())"
    },
    "r": {
     "delete_cmd_postfix": ") ",
     "delete_cmd_prefix": "rm(",
     "library": "var_list.r",
     "varRefreshCmd": "cat(var_dic_list()) "
    }
   },
   "types_to_exclude": [
    "module",
    "function",
    "builtin_function_or_method",
    "instance",
    "_Feature"
   ],
   "window_display": false
  }
 },
 "nbformat": 4,
 "nbformat_minor": 2
}
