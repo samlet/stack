{
 "cells": [
  {
   "cell_type": "code",
   "execution_count": 103,
   "metadata": {
    "ExecuteTime": {
     "end_time": "2019-06-26T13:05:50.992809Z",
     "start_time": "2019-06-26T13:05:50.955979Z"
    }
   },
   "outputs": [
    {
     "name": "stdout",
     "output_type": "stream",
     "text": [
      "32\n"
     ]
    }
   ],
   "source": [
    "def list_ru_files(dir):\n",
    "    suffix='.md'\n",
    "    prefix='ru-'\n",
    "    import os\n",
    "    rs=[]\n",
    "    for root, dirs, files in os.walk(dir):\n",
    "        for file in files:\n",
    "            if file.endswith(suffix) and file.startswith(prefix):\n",
    "                rs.append(os.path.join(root, file))\n",
    "    return rs\n",
    "files=list_ru_files('/pi/langs')\n",
    "print(len(files))"
   ]
  },
  {
   "cell_type": "code",
   "execution_count": 104,
   "metadata": {
    "ExecuteTime": {
     "end_time": "2019-06-26T13:05:54.866974Z",
     "start_time": "2019-06-26T13:05:54.811845Z"
    }
   },
   "outputs": [
    {
     "name": "stdout",
     "output_type": "stream",
     "text": [
      "1338\n"
     ]
    }
   ],
   "source": [
    "import re\n",
    "all_words=set([])\n",
    "discard_file='ru-todos.md'\n",
    "files=[f for f in files if not f.endswith(discard_file)]\n",
    "sentences=[]\n",
    "for filename in files:\n",
    "    with open(filename) as f:\n",
    "        lines = f.readlines()\n",
    "        for line in lines:            \n",
    "            if line.startswith(' '):\n",
    "                continue\n",
    "            line=line.strip()\n",
    "            if len(line)==0 or line.startswith('#'):\n",
    "                continue\n",
    "            sentences.append(line)\n",
    "            line = re.sub(r\"([,.!?«»\\\"])\", r\"\", line)\n",
    "            all_words.update(line.split(' '))\n",
    "\n",
    "discard_set=['', '–', '-', ',', '.']\n",
    "all_words.symmetric_difference_update(x for x in all_words if x in discard_set)\n",
    "all_words.symmetric_difference_update(x for x in all_words if x.isdigit())\n",
    "\n",
    "print(len(all_words))"
   ]
  },
  {
   "cell_type": "code",
   "execution_count": 36,
   "metadata": {
    "ExecuteTime": {
     "end_time": "2019-06-26T09:04:48.369201Z",
     "start_time": "2019-06-26T09:04:48.362989Z"
    }
   },
   "outputs": [],
   "source": [
    "import json_utils\n",
    "json_utils.write_json_to_file('/pi/langs/voc/ru-voc.json', list(all_words))"
   ]
  },
  {
   "cell_type": "code",
   "execution_count": 37,
   "metadata": {
    "ExecuteTime": {
     "end_time": "2019-06-26T09:07:35.278606Z",
     "start_time": "2019-06-26T09:07:34.623265Z"
    }
   },
   "outputs": [
    {
     "name": "stdout",
     "output_type": "stream",
     "text": [
      ".. load rus-Cyrl\n"
     ]
    }
   ],
   "source": [
    "import epitran\n",
    "print(\".. load rus-Cyrl\")\n",
    "epi = epitran.Epitran('rus-Cyrl') "
   ]
  },
  {
   "cell_type": "code",
   "execution_count": 38,
   "metadata": {
    "ExecuteTime": {
     "end_time": "2019-06-26T09:08:23.725177Z",
     "start_time": "2019-06-26T09:08:23.715800Z"
    }
   },
   "outputs": [
    {
     "data": {
      "text/plain": [
       "'vot ono t͡ɕto'"
      ]
     },
     "execution_count": 38,
     "metadata": {},
     "output_type": "execute_result"
    }
   ],
   "source": [
    "def get_phonetic(argument):\n",
    "    # >>> print(epi.transliterate(u'Вот оно что'))\n",
    "    result=epi.transliterate(argument)\n",
    "    return result\n",
    "get_phonetic('Вот оно что')"
   ]
  },
  {
   "cell_type": "code",
   "execution_count": 44,
   "metadata": {
    "ExecuteTime": {
     "end_time": "2019-06-26T09:12:57.116458Z",
     "start_time": "2019-06-26T09:12:57.108648Z"
    }
   },
   "outputs": [
    {
     "name": "stdout",
     "output_type": "stream",
     "text": [
      "t͡ɕto\n",
      "['ts\\\\', 't', 'o']\n"
     ]
    }
   ],
   "source": [
    "print(epi.transliterate('что'))\n",
    "# xsampa_list: returns a list of X-SAMPA (ASCII) strings, each of which is phoneme\n",
    "print(epi.xsampa_list('что'))"
   ]
  },
  {
   "cell_type": "code",
   "execution_count": 45,
   "metadata": {
    "ExecuteTime": {
     "end_time": "2019-06-26T09:14:43.904331Z",
     "start_time": "2019-06-26T09:14:43.897985Z"
    }
   },
   "outputs": [
    {
     "name": "stdout",
     "output_type": "stream",
     "text": [
      "[]\n"
     ]
    }
   ],
   "source": [
    "print(epi.xsampa_list('English'))"
   ]
  },
  {
   "cell_type": "code",
   "execution_count": 47,
   "metadata": {
    "ExecuteTime": {
     "end_time": "2019-06-26T09:20:01.362555Z",
     "start_time": "2019-06-26T09:20:01.352808Z"
    }
   },
   "outputs": [
    {
     "name": "stdout",
     "output_type": "stream",
     "text": [
      "vzɡlʲad\n",
      "['v', 'z', 'g', 'l', 'a', 'd']\n"
     ]
    }
   ],
   "source": [
    "print(epi.transliterate('взгляд'))\n",
    "print(epi.xsampa_list('взгляд'))"
   ]
  },
  {
   "cell_type": "code",
   "execution_count": 49,
   "metadata": {
    "ExecuteTime": {
     "end_time": "2019-06-26T09:22:07.147661Z",
     "start_time": "2019-06-26T09:22:07.143109Z"
    }
   },
   "outputs": [],
   "source": [
    "# epi_rev = epitran.Epitran(u'rus-Cyrl', rev=True)\n",
    "# ipa='mʲod'\n",
    "# tr = epi_rev.reverse_transliterate(ipa)"
   ]
  },
  {
   "cell_type": "code",
   "execution_count": 53,
   "metadata": {
    "ExecuteTime": {
     "end_time": "2019-06-26T09:26:26.443991Z",
     "start_time": "2019-06-26T09:26:26.434275Z"
    }
   },
   "outputs": [
    {
     "name": "stdout",
     "output_type": "stream",
     "text": [
      "['dZ']\n",
      "['1']\n",
      "['ts']\n",
      "['ts\\\\']\n"
     ]
    }
   ],
   "source": [
    "print(epi.xsampa_list('дж'))\n",
    "print(epi.xsampa_list('ы'))\n",
    "print(epi.xsampa_list('ц'))\n",
    "print(epi.xsampa_list('ч'))"
   ]
  },
  {
   "cell_type": "code",
   "execution_count": 58,
   "metadata": {
    "ExecuteTime": {
     "end_time": "2019-06-26T09:29:33.710085Z",
     "start_time": "2019-06-26T09:29:33.648151Z"
    }
   },
   "outputs": [
    {
     "name": "stdout",
     "output_type": "stream",
     "text": [
      "а a \t ['a']\n",
      "б b \t ['b']\n",
      "в v \t ['v']\n",
      "г ɡ \t ['g']\n",
      "д d \t ['d']\n",
      "е e \t ['e']\n",
      "ё o \t ['o']\n",
      "ж ʒ \t ['Z']\n",
      "з z \t ['z']\n",
      "и i \t ['i']\n",
      "й j \t ['j']\n",
      "к k \t ['k']\n",
      "л l \t ['l']\n",
      "м m \t ['m']\n",
      "н n \t ['n']\n",
      "о o \t ['o']\n",
      "п p \t ['p']\n",
      "р r \t ['r']\n",
      "с s \t ['s']\n",
      "т t \t ['t']\n",
      "у u \t ['u']\n",
      "ф f \t ['f']\n",
      "х x \t ['x']\n",
      "ц t͡s \t ['ts']\n",
      "ч t͡ɕ \t ['ts\\\\']\n",
      "ш ʂ \t ['s`']\n",
      "щ ɕɕ \t ['s\\\\', 's\\\\']\n",
      "ъ  \t []\n",
      "ы ɨ \t ['1']\n",
      "ь ʲ \t []\n",
      "э e \t ['e']\n",
      "ю u \t ['u']\n",
      "я a \t ['a']\n",
      "дж d͡ʒ \t ['dZ']\n"
     ]
    }
   ],
   "source": [
    "voc='''а,a\n",
    "б,b\n",
    "в,v\n",
    "г,ɡ\n",
    "д,d\n",
    "е,e\n",
    "ё,o\n",
    "ж,ʒ\n",
    "з,z\n",
    "и,i\n",
    "й,j\n",
    "к,k\n",
    "л,l\n",
    "м,m\n",
    "н,n\n",
    "о,o\n",
    "п,p\n",
    "р,r\n",
    "с,s\n",
    "т,t\n",
    "у,u\n",
    "ф,f\n",
    "х,x\n",
    "ц,t͡s\n",
    "ч,t͡ɕ\n",
    "ш,ʂ\n",
    "щ,ɕɕ\n",
    "ъ,\n",
    "ы,ɨ\n",
    "ь,ʲ\n",
    "э,e\n",
    "ю,u\n",
    "я,a\n",
    "дж,d͡ʒ'''\n",
    "for v in voc.split('\\n'):\n",
    "    pair=v.split(',')    \n",
    "    print(pair[0], pair[1], '\\t', epi.xsampa_list(pair[0]))"
   ]
  },
  {
   "cell_type": "code",
   "execution_count": 77,
   "metadata": {
    "ExecuteTime": {
     "end_time": "2019-06-26T10:09:49.167771Z",
     "start_time": "2019-06-26T10:09:49.094949Z"
    }
   },
   "outputs": [
    {
     "name": "stdout",
     "output_type": "stream",
     "text": [
      "vzgl\n",
      "tsto\n",
      "dzen\n",
      "❣ мышь ['m', '1', \"s`'\"]\n",
      "mysh\n",
      "❣ ошибку ['o', 's`', 'i', 'b', 'k', 'u']\n",
      "oshibku\n",
      "❣ Лошадь ['l', 'o', 's`', 'a', \"d'\"]\n",
      "loshad\n"
     ]
    }
   ],
   "source": [
    "def get_norm_key(word, verbose=False, truncate=4):\n",
    "    ipa_xs=epi.xsampa_list(word)\n",
    "    if verbose:\n",
    "        print('❣',word, ipa_xs)\n",
    "    key=''.join(ipa_xs).replace('\\\\','')\\\n",
    "        .replace('s`', 'sh').replace(\"'\", '')\\\n",
    "        .replace('1','y').lower()[:truncate]\n",
    "    return key\n",
    "\n",
    "print(get_norm_key('взгляд'))\n",
    "print(get_norm_key('что'))\n",
    "print(get_norm_key('Дженни'))\n",
    "print(get_norm_key('мышь', True, 20))\n",
    "print(get_norm_key('ошибку', True, 20))\n",
    "print(get_norm_key('Лошадь', True, 20))"
   ]
  },
  {
   "cell_type": "code",
   "execution_count": 86,
   "metadata": {
    "ExecuteTime": {
     "end_time": "2019-06-26T10:40:49.836396Z",
     "start_time": "2019-06-26T10:40:48.850386Z"
    }
   },
   "outputs": [
    {
     "name": "stdout",
     "output_type": "stream",
     "text": [
      "done\n"
     ]
    }
   ],
   "source": [
    "words_map={}\n",
    "rev_map={}\n",
    "rs=[]\n",
    "for word in all_words:\n",
    "    key=get_norm_key(word)\n",
    "    if len(key)>0:\n",
    "        if key in words_map:\n",
    "            words_map[key].append(word)\n",
    "        else:\n",
    "            words_map[key]=[word]\n",
    "        rev_map[word]=key\n",
    "        rs.append('%s %s'%(key,word))\n",
    "json_utils.write_json_to_file('/pi/langs/voc/ru-map.json', words_map)\n",
    "print('done')"
   ]
  },
  {
   "cell_type": "code",
   "execution_count": 79,
   "metadata": {
    "ExecuteTime": {
     "end_time": "2019-06-26T10:10:25.321036Z",
     "start_time": "2019-06-26T10:10:25.314317Z"
    }
   },
   "outputs": [],
   "source": [
    "import clipboard\n",
    "clipboard.copy('\\n'.join(rs))"
   ]
  },
  {
   "cell_type": "code",
   "execution_count": 90,
   "metadata": {
    "ExecuteTime": {
     "end_time": "2019-06-26T10:47:50.311123Z",
     "start_time": "2019-06-26T10:47:50.283268Z"
    }
   },
   "outputs": [
    {
     "name": "stdout",
     "output_type": "stream",
     "text": [
      "мальчик malʲt͡ɕik mal'ts\\ik ☌ malt\n",
      "\t ['мальчиком', 'мальчик', 'мальчики', 'Мальчик', 'мальчиках', 'Мальчикам']\n",
      "ходят xodʲat xodat ☌ xoda\n",
      "\t ['ходят']\n",
      "я ja a ☌ a\n",
      "\t ['а', 'Я', 'я']\n"
     ]
    }
   ],
   "source": [
    "def word_info(word):\n",
    "    ipa_xs=epi.xsampa_list(word)\n",
    "    ipa=epi.transliterate(word)\n",
    "    key=rev_map[word]\n",
    "    print(word, ipa, ''.join(ipa_xs), '☌', key)\n",
    "    print('\\t', words_map[key])\n",
    "\n",
    "word_info('мальчик')\n",
    "word_info('ходят')\n",
    "word_info('я')"
   ]
  },
  {
   "cell_type": "code",
   "execution_count": 95,
   "metadata": {
    "ExecuteTime": {
     "end_time": "2019-06-26T10:53:03.543359Z",
     "start_time": "2019-06-26T10:53:03.505946Z"
    }
   },
   "outputs": [
    {
     "data": {
      "text/html": [
       "<div>\n",
       "<style scoped>\n",
       "    .dataframe tbody tr th:only-of-type {\n",
       "        vertical-align: middle;\n",
       "    }\n",
       "\n",
       "    .dataframe tbody tr th {\n",
       "        vertical-align: top;\n",
       "    }\n",
       "\n",
       "    .dataframe thead th {\n",
       "        text-align: right;\n",
       "    }\n",
       "</style>\n",
       "<table border=\"1\" class=\"dataframe\">\n",
       "  <thead>\n",
       "    <tr style=\"text-align: right;\">\n",
       "      <th></th>\n",
       "      <th>word</th>\n",
       "      <th>ipa</th>\n",
       "      <th>xsampa_list</th>\n",
       "      <th>key</th>\n",
       "    </tr>\n",
       "  </thead>\n",
       "  <tbody>\n",
       "    <tr>\n",
       "      <th>0</th>\n",
       "      <td>мальчик</td>\n",
       "      <td>malʲt͡ɕik</td>\n",
       "      <td>mal'ts\\ik</td>\n",
       "      <td>malt</td>\n",
       "    </tr>\n",
       "    <tr>\n",
       "      <th>1</th>\n",
       "      <td>мальчиком</td>\n",
       "      <td>malʲt͡ɕikom</td>\n",
       "      <td>mal'ts\\ikom</td>\n",
       "      <td>malt</td>\n",
       "    </tr>\n",
       "    <tr>\n",
       "      <th>2</th>\n",
       "      <td>мальчик</td>\n",
       "      <td>malʲt͡ɕik</td>\n",
       "      <td>mal'ts\\ik</td>\n",
       "      <td>malt</td>\n",
       "    </tr>\n",
       "    <tr>\n",
       "      <th>3</th>\n",
       "      <td>мальчики</td>\n",
       "      <td>malʲt͡ɕikʲi</td>\n",
       "      <td>mal'ts\\iki</td>\n",
       "      <td>malt</td>\n",
       "    </tr>\n",
       "    <tr>\n",
       "      <th>4</th>\n",
       "      <td>Мальчик</td>\n",
       "      <td>malʲt͡ɕik</td>\n",
       "      <td>mal'ts\\ik</td>\n",
       "      <td>malt</td>\n",
       "    </tr>\n",
       "    <tr>\n",
       "      <th>5</th>\n",
       "      <td>мальчиках</td>\n",
       "      <td>malʲt͡ɕikax</td>\n",
       "      <td>mal'ts\\ikax</td>\n",
       "      <td>malt</td>\n",
       "    </tr>\n",
       "    <tr>\n",
       "      <th>6</th>\n",
       "      <td>Мальчикам</td>\n",
       "      <td>malʲt͡ɕikam</td>\n",
       "      <td>mal'ts\\ikam</td>\n",
       "      <td>malt</td>\n",
       "    </tr>\n",
       "  </tbody>\n",
       "</table>\n",
       "</div>"
      ],
      "text/plain": [
       "        word          ipa  xsampa_list   key\n",
       "0    мальчик    malʲt͡ɕik    mal'ts\\ik  malt\n",
       "1  мальчиком  malʲt͡ɕikom  mal'ts\\ikom  malt\n",
       "2    мальчик    malʲt͡ɕik    mal'ts\\ik  malt\n",
       "3   мальчики  malʲt͡ɕikʲi   mal'ts\\iki  malt\n",
       "4    Мальчик    malʲt͡ɕik    mal'ts\\ik  malt\n",
       "5  мальчиках  malʲt͡ɕikax  mal'ts\\ikax  malt\n",
       "6  Мальчикам  malʲt͡ɕikam  mal'ts\\ikam  malt"
      ]
     },
     "execution_count": 95,
     "metadata": {},
     "output_type": "execute_result"
    }
   ],
   "source": [
    "import sagas\n",
    "def word_info_df(word):\n",
    "    tuples=[]\n",
    "    ipa_xs=epi.xsampa_list(word)\n",
    "    ipa=epi.transliterate(word)\n",
    "    key=rev_map[word]\n",
    "    tuples.append((word, ipa, ''.join(ipa_xs), key))\n",
    "    for w in words_map[key]:\n",
    "        ipa_xs=epi.xsampa_list(w)\n",
    "        ipa=epi.transliterate(w)\n",
    "        tuples.append((w, ipa, ''.join(ipa_xs), key))\n",
    "    return sagas.to_df(tuples, ['word', 'ipa', 'xsampa_list', 'key'])\n",
    "word_info_df('мальчик')"
   ]
  },
  {
   "cell_type": "code",
   "execution_count": 96,
   "metadata": {
    "ExecuteTime": {
     "end_time": "2019-06-26T10:53:17.214339Z",
     "start_time": "2019-06-26T10:53:17.192933Z"
    }
   },
   "outputs": [
    {
     "data": {
      "text/html": [
       "<div>\n",
       "<style scoped>\n",
       "    .dataframe tbody tr th:only-of-type {\n",
       "        vertical-align: middle;\n",
       "    }\n",
       "\n",
       "    .dataframe tbody tr th {\n",
       "        vertical-align: top;\n",
       "    }\n",
       "\n",
       "    .dataframe thead th {\n",
       "        text-align: right;\n",
       "    }\n",
       "</style>\n",
       "<table border=\"1\" class=\"dataframe\">\n",
       "  <thead>\n",
       "    <tr style=\"text-align: right;\">\n",
       "      <th></th>\n",
       "      <th>word</th>\n",
       "      <th>ipa</th>\n",
       "      <th>xsampa_list</th>\n",
       "      <th>key</th>\n",
       "    </tr>\n",
       "  </thead>\n",
       "  <tbody>\n",
       "    <tr>\n",
       "      <th>0</th>\n",
       "      <td>я</td>\n",
       "      <td>ja</td>\n",
       "      <td>a</td>\n",
       "      <td>a</td>\n",
       "    </tr>\n",
       "    <tr>\n",
       "      <th>1</th>\n",
       "      <td>а</td>\n",
       "      <td>a</td>\n",
       "      <td>a</td>\n",
       "      <td>a</td>\n",
       "    </tr>\n",
       "    <tr>\n",
       "      <th>2</th>\n",
       "      <td>Я</td>\n",
       "      <td>ja</td>\n",
       "      <td>a</td>\n",
       "      <td>a</td>\n",
       "    </tr>\n",
       "    <tr>\n",
       "      <th>3</th>\n",
       "      <td>я</td>\n",
       "      <td>ja</td>\n",
       "      <td>a</td>\n",
       "      <td>a</td>\n",
       "    </tr>\n",
       "  </tbody>\n",
       "</table>\n",
       "</div>"
      ],
      "text/plain": [
       "  word ipa xsampa_list key\n",
       "0    я  ja           a   a\n",
       "1    а   a           a   a\n",
       "2    Я  ja           a   a\n",
       "3    я  ja           a   a"
      ]
     },
     "execution_count": 96,
     "metadata": {},
     "output_type": "execute_result"
    }
   ],
   "source": [
    "word_info_df('я')"
   ]
  },
  {
   "cell_type": "code",
   "execution_count": 97,
   "metadata": {
    "ExecuteTime": {
     "end_time": "2019-06-26T10:53:20.506410Z",
     "start_time": "2019-06-26T10:53:20.411171Z"
    }
   },
   "outputs": [
    {
     "data": {
      "text/html": [
       "<div>\n",
       "<style scoped>\n",
       "    .dataframe tbody tr th:only-of-type {\n",
       "        vertical-align: middle;\n",
       "    }\n",
       "\n",
       "    .dataframe tbody tr th {\n",
       "        vertical-align: top;\n",
       "    }\n",
       "\n",
       "    .dataframe thead th {\n",
       "        text-align: right;\n",
       "    }\n",
       "</style>\n",
       "<table border=\"1\" class=\"dataframe\">\n",
       "  <thead>\n",
       "    <tr style=\"text-align: right;\">\n",
       "      <th></th>\n",
       "      <th>word</th>\n",
       "      <th>ipa</th>\n",
       "      <th>xsampa_list</th>\n",
       "      <th>key</th>\n",
       "    </tr>\n",
       "  </thead>\n",
       "  <tbody>\n",
       "    <tr>\n",
       "      <th>0</th>\n",
       "      <td>спрашивают</td>\n",
       "      <td>spraʂivaut</td>\n",
       "      <td>spras`ivaut</td>\n",
       "      <td>spra</td>\n",
       "    </tr>\n",
       "    <tr>\n",
       "      <th>1</th>\n",
       "      <td>справа</td>\n",
       "      <td>sprava</td>\n",
       "      <td>sprava</td>\n",
       "      <td>spra</td>\n",
       "    </tr>\n",
       "    <tr>\n",
       "      <th>2</th>\n",
       "      <td>спрашивают</td>\n",
       "      <td>spraʂivaut</td>\n",
       "      <td>spras`ivaut</td>\n",
       "      <td>spra</td>\n",
       "    </tr>\n",
       "    <tr>\n",
       "      <th>3</th>\n",
       "      <td>спрашивает</td>\n",
       "      <td>spraʂivaet</td>\n",
       "      <td>spras`ivaet</td>\n",
       "      <td>spra</td>\n",
       "    </tr>\n",
       "  </tbody>\n",
       "</table>\n",
       "</div>"
      ],
      "text/plain": [
       "         word         ipa  xsampa_list   key\n",
       "0  спрашивают  spraʂivaut  spras`ivaut  spra\n",
       "1      справа      sprava       sprava  spra\n",
       "2  спрашивают  spraʂivaut  spras`ivaut  spra\n",
       "3  спрашивает  spraʂivaet  spras`ivaet  spra"
      ]
     },
     "execution_count": 97,
     "metadata": {},
     "output_type": "execute_result"
    }
   ],
   "source": [
    "word_info_df('спрашивают')"
   ]
  },
  {
   "cell_type": "code",
   "execution_count": 99,
   "metadata": {
    "ExecuteTime": {
     "end_time": "2019-06-26T10:56:18.179433Z",
     "start_time": "2019-06-26T10:56:18.164398Z"
    }
   },
   "outputs": [
    {
     "data": {
      "text/plain": [
       "['Они спрашивают, где коробка.']"
      ]
     },
     "execution_count": 99,
     "metadata": {},
     "output_type": "execute_result"
    }
   ],
   "source": [
    "def ref_sentences(word):\n",
    "    rs=[]\n",
    "    for s in sentences:\n",
    "        if word in s:\n",
    "            rs.append(s)\n",
    "    return rs\n",
    "\n",
    "ref_sentences('спрашивают')"
   ]
  },
  {
   "cell_type": "code",
   "execution_count": 102,
   "metadata": {
    "ExecuteTime": {
     "end_time": "2019-06-26T11:21:22.890101Z",
     "start_time": "2019-06-26T11:21:19.667570Z"
    }
   },
   "outputs": [
    {
     "name": "stdout",
     "output_type": "stream",
     "text": [
      "Они спрашивают, где коробка.\n",
      "speak language with ru ...\n",
      "done.\n"
     ]
    }
   ],
   "source": [
    "from sagas.nlu.nlu_tools import NluTools\n",
    "def say_refs(word):\n",
    "    sents=ref_sentences(word)\n",
    "    for s in sents:\n",
    "        print(s)\n",
    "        NluTools().say(s, 'ru')\n",
    "say_refs('спрашивают')"
   ]
  },
  {
   "cell_type": "markdown",
   "metadata": {},
   "source": [
    "⊕ [Pandas Tutorial 1: Pandas Basics (read_csv, DataFrame, Data Selection)](https://data36.com/pandas-tutorial-1-basics-reading-data-files-dataframes-data-selection/)\n",
    "\n",
    "⊕ [Pandas: Select rows that match a string - David Hamann](https://davidhamann.de/2017/06/26/pandas-select-elements-by-string/)\n",
    "\n",
    "⊕ [python - Ignoring NaNs with str.contains - Stack Overflow](https://stackoverflow.com/questions/28311655/ignoring-nans-with-str-contains)\n"
   ]
  },
  {
   "cell_type": "code",
   "execution_count": 106,
   "metadata": {
    "ExecuteTime": {
     "end_time": "2019-06-26T19:11:44.421846Z",
     "start_time": "2019-06-26T19:11:43.986783Z"
    }
   },
   "outputs": [
    {
     "data": {
      "text/html": [
       "<div>\n",
       "<style scoped>\n",
       "    .dataframe tbody tr th:only-of-type {\n",
       "        vertical-align: middle;\n",
       "    }\n",
       "\n",
       "    .dataframe tbody tr th {\n",
       "        vertical-align: top;\n",
       "    }\n",
       "\n",
       "    .dataframe thead th {\n",
       "        text-align: right;\n",
       "    }\n",
       "</style>\n",
       "<table border=\"1\" class=\"dataframe\">\n",
       "  <thead>\n",
       "    <tr style=\"text-align: right;\">\n",
       "      <th></th>\n",
       "      <th>bare</th>\n",
       "      <th>accented</th>\n",
       "      <th>translations_en</th>\n",
       "      <th>translations_de</th>\n",
       "      <th>aspect</th>\n",
       "      <th>partner</th>\n",
       "      <th>imperative_sg</th>\n",
       "      <th>imperative_pl</th>\n",
       "      <th>past_m</th>\n",
       "      <th>past_f</th>\n",
       "      <th>past_n</th>\n",
       "      <th>past_pl</th>\n",
       "      <th>presfut_sg1</th>\n",
       "      <th>presfut_sg2</th>\n",
       "      <th>presfut_sg3</th>\n",
       "      <th>presfut_pl1</th>\n",
       "      <th>presfut_pl2</th>\n",
       "      <th>presfut_pl3</th>\n",
       "    </tr>\n",
       "  </thead>\n",
       "  <tbody>\n",
       "    <tr>\n",
       "      <th>0</th>\n",
       "      <td>быть</td>\n",
       "      <td>быть</td>\n",
       "      <td>be</td>\n",
       "      <td>sein, werden</td>\n",
       "      <td>imperfective</td>\n",
       "      <td>NaN</td>\n",
       "      <td>бу'дь</td>\n",
       "      <td>бу'дьте</td>\n",
       "      <td>бы'л</td>\n",
       "      <td>была'</td>\n",
       "      <td>бы'ло</td>\n",
       "      <td>бы'ли</td>\n",
       "      <td>есть</td>\n",
       "      <td>есть</td>\n",
       "      <td>есть</td>\n",
       "      <td>есть</td>\n",
       "      <td>есть</td>\n",
       "      <td>есть</td>\n",
       "    </tr>\n",
       "    <tr>\n",
       "      <th>1</th>\n",
       "      <td>сказать</td>\n",
       "      <td>сказа'ть</td>\n",
       "      <td>say, tell, speak, talk, indicate, point, be ev...</td>\n",
       "      <td>sagen, mitteilen</td>\n",
       "      <td>perfective</td>\n",
       "      <td>говорить</td>\n",
       "      <td>скажи'</td>\n",
       "      <td>скажи'те</td>\n",
       "      <td>сказа'л</td>\n",
       "      <td>сказа'ла</td>\n",
       "      <td>сказа'ло</td>\n",
       "      <td>сказа'ли</td>\n",
       "      <td>скажу'</td>\n",
       "      <td>ска'жешь</td>\n",
       "      <td>ска'жет</td>\n",
       "      <td>ска'жем</td>\n",
       "      <td>ска'жете</td>\n",
       "      <td>ска'жут</td>\n",
       "    </tr>\n",
       "    <tr>\n",
       "      <th>2</th>\n",
       "      <td>мочь</td>\n",
       "      <td>мочь</td>\n",
       "      <td>be able, can</td>\n",
       "      <td>können, imstande sein, dürfen</td>\n",
       "      <td>NaN</td>\n",
       "      <td>NaN</td>\n",
       "      <td>моги'</td>\n",
       "      <td>моги'те</td>\n",
       "      <td>мо'г</td>\n",
       "      <td>могла'</td>\n",
       "      <td>могло'</td>\n",
       "      <td>могли'</td>\n",
       "      <td>могу'</td>\n",
       "      <td>мо'жешь</td>\n",
       "      <td>мо'жет</td>\n",
       "      <td>мо'жем</td>\n",
       "      <td>мо'жете</td>\n",
       "      <td>мо'гут</td>\n",
       "    </tr>\n",
       "    <tr>\n",
       "      <th>3</th>\n",
       "      <td>знать</td>\n",
       "      <td>знать</td>\n",
       "      <td>know, be aware, be acquainted, have a knowledg...</td>\n",
       "      <td>wissen, kennen, sich auskennen, Bescheid wisse...</td>\n",
       "      <td>imperfective</td>\n",
       "      <td>узнать</td>\n",
       "      <td>зна'й</td>\n",
       "      <td>зна'йте</td>\n",
       "      <td>зна'л</td>\n",
       "      <td>зна'ла</td>\n",
       "      <td>зна'ло</td>\n",
       "      <td>зна'ли</td>\n",
       "      <td>зна'ю</td>\n",
       "      <td>зна'ешь</td>\n",
       "      <td>зна'ет</td>\n",
       "      <td>зна'ем</td>\n",
       "      <td>зна'ете</td>\n",
       "      <td>зна'ют</td>\n",
       "    </tr>\n",
       "    <tr>\n",
       "      <th>4</th>\n",
       "      <td>говорить</td>\n",
       "      <td>говори'ть</td>\n",
       "      <td>say, tell, speak, talk, indicate, point, be ev...</td>\n",
       "      <td>sprechen, reden, sagen</td>\n",
       "      <td>imperfective</td>\n",
       "      <td>сказать</td>\n",
       "      <td>говори'</td>\n",
       "      <td>говори'те</td>\n",
       "      <td>говори'л</td>\n",
       "      <td>говори'ла</td>\n",
       "      <td>говори'ло</td>\n",
       "      <td>говори'ли</td>\n",
       "      <td>говорю'</td>\n",
       "      <td>говори'шь</td>\n",
       "      <td>говори'т</td>\n",
       "      <td>говори'м</td>\n",
       "      <td>говори'те</td>\n",
       "      <td>говоря'т</td>\n",
       "    </tr>\n",
       "  </tbody>\n",
       "</table>\n",
       "</div>"
      ],
      "text/plain": [
       "       bare   accented                                    translations_en  \\\n",
       "0      быть       быть                                                 be   \n",
       "1   сказать   сказа'ть  say, tell, speak, talk, indicate, point, be ev...   \n",
       "2      мочь       мочь                                       be able, can   \n",
       "3     знать      знать  know, be aware, be acquainted, have a knowledg...   \n",
       "4  говорить  говори'ть  say, tell, speak, talk, indicate, point, be ev...   \n",
       "\n",
       "                                     translations_de        aspect   partner  \\\n",
       "0                                       sein, werden  imperfective       NaN   \n",
       "1                                   sagen, mitteilen    perfective  говорить   \n",
       "2                      können, imstande sein, dürfen           NaN       NaN   \n",
       "3  wissen, kennen, sich auskennen, Bescheid wisse...  imperfective    узнать   \n",
       "4                             sprechen, reden, sagen  imperfective   сказать   \n",
       "\n",
       "  imperative_sg imperative_pl    past_m     past_f     past_n    past_pl  \\\n",
       "0         бу'дь       бу'дьте      бы'л      была'      бы'ло      бы'ли   \n",
       "1        скажи'      скажи'те   сказа'л   сказа'ла   сказа'ло   сказа'ли   \n",
       "2         моги'       моги'те      мо'г     могла'     могло'     могли'   \n",
       "3         зна'й       зна'йте     зна'л     зна'ла     зна'ло     зна'ли   \n",
       "4       говори'     говори'те  говори'л  говори'ла  говори'ло  говори'ли   \n",
       "\n",
       "  presfut_sg1 presfut_sg2 presfut_sg3 presfut_pl1 presfut_pl2 presfut_pl3  \n",
       "0        есть        есть        есть        есть        есть        есть  \n",
       "1      скажу'    ска'жешь     ска'жет     ска'жем    ска'жете     ска'жут  \n",
       "2       могу'     мо'жешь      мо'жет      мо'жем     мо'жете      мо'гут  \n",
       "3       зна'ю     зна'ешь      зна'ет      зна'ем     зна'ете      зна'ют  \n",
       "4     говорю'   говори'шь    говори'т    говори'м   говори'те    говоря'т  "
      ]
     },
     "execution_count": 106,
     "metadata": {},
     "output_type": "execute_result"
    }
   ],
   "source": [
    "import pandas as pd\n",
    "verbs='/pi/nlp/russian-dictionary/verbs.csv'\n",
    "df=pd.read_csv(verbs, delimiter = '\\t')\n",
    "df[:5]"
   ]
  },
  {
   "cell_type": "code",
   "execution_count": 117,
   "metadata": {
    "ExecuteTime": {
     "end_time": "2019-06-26T19:19:06.510047Z",
     "start_time": "2019-06-26T19:19:06.461251Z"
    }
   },
   "outputs": [
    {
     "data": {
      "text/html": [
       "<div>\n",
       "<style scoped>\n",
       "    .dataframe tbody tr th:only-of-type {\n",
       "        vertical-align: middle;\n",
       "    }\n",
       "\n",
       "    .dataframe tbody tr th {\n",
       "        vertical-align: top;\n",
       "    }\n",
       "\n",
       "    .dataframe thead th {\n",
       "        text-align: right;\n",
       "    }\n",
       "</style>\n",
       "<table border=\"1\" class=\"dataframe\">\n",
       "  <thead>\n",
       "    <tr style=\"text-align: right;\">\n",
       "      <th></th>\n",
       "      <th>bare</th>\n",
       "      <th>accented</th>\n",
       "      <th>translations_en</th>\n",
       "      <th>translations_de</th>\n",
       "      <th>aspect</th>\n",
       "      <th>partner</th>\n",
       "      <th>imperative_sg</th>\n",
       "      <th>imperative_pl</th>\n",
       "      <th>past_m</th>\n",
       "      <th>past_f</th>\n",
       "      <th>past_n</th>\n",
       "      <th>past_pl</th>\n",
       "      <th>presfut_sg1</th>\n",
       "      <th>presfut_sg2</th>\n",
       "      <th>presfut_sg3</th>\n",
       "      <th>presfut_pl1</th>\n",
       "      <th>presfut_pl2</th>\n",
       "      <th>presfut_pl3</th>\n",
       "    </tr>\n",
       "  </thead>\n",
       "  <tbody>\n",
       "    <tr>\n",
       "      <th>1</th>\n",
       "      <td>сказать</td>\n",
       "      <td>сказа'ть</td>\n",
       "      <td>say, tell, speak, talk, indicate, point, be ev...</td>\n",
       "      <td>sagen, mitteilen</td>\n",
       "      <td>perfective</td>\n",
       "      <td>говорить</td>\n",
       "      <td>скажи'</td>\n",
       "      <td>скажи'те</td>\n",
       "      <td>сказа'л</td>\n",
       "      <td>сказа'ла</td>\n",
       "      <td>сказа'ло</td>\n",
       "      <td>сказа'ли</td>\n",
       "      <td>скажу'</td>\n",
       "      <td>ска'жешь</td>\n",
       "      <td>ска'жет</td>\n",
       "      <td>ска'жем</td>\n",
       "      <td>ска'жете</td>\n",
       "      <td>ска'жут</td>\n",
       "    </tr>\n",
       "    <tr>\n",
       "      <th>2516</th>\n",
       "      <td>сказаться</td>\n",
       "      <td>сказа'ться</td>\n",
       "      <td>tell, report oneself</td>\n",
       "      <td>sich zeigen, zum Ausdruck kommen, sich auswirken</td>\n",
       "      <td>NaN</td>\n",
       "      <td>NaN</td>\n",
       "      <td>скажи'сь</td>\n",
       "      <td>скажи'тесь</td>\n",
       "      <td>сказа'лся</td>\n",
       "      <td>сказа'лась</td>\n",
       "      <td>сказа'лось</td>\n",
       "      <td>сказа'лись</td>\n",
       "      <td>скажу'сь</td>\n",
       "      <td>ска'жешься</td>\n",
       "      <td>ска'жется</td>\n",
       "      <td>ска'жемся</td>\n",
       "      <td>ска'жетесь</td>\n",
       "      <td>ска'жутся</td>\n",
       "    </tr>\n",
       "  </tbody>\n",
       "</table>\n",
       "</div>"
      ],
      "text/plain": [
       "           bare    accented  \\\n",
       "1       сказать    сказа'ть   \n",
       "2516  сказаться  сказа'ться   \n",
       "\n",
       "                                        translations_en  \\\n",
       "1     say, tell, speak, talk, indicate, point, be ev...   \n",
       "2516                               tell, report oneself   \n",
       "\n",
       "                                       translations_de      aspect   partner  \\\n",
       "1                                     sagen, mitteilen  perfective  говорить   \n",
       "2516  sich zeigen, zum Ausdruck kommen, sich auswirken         NaN       NaN   \n",
       "\n",
       "     imperative_sg imperative_pl     past_m      past_f      past_n  \\\n",
       "1           скажи'      скажи'те    сказа'л    сказа'ла    сказа'ло   \n",
       "2516      скажи'сь    скажи'тесь  сказа'лся  сказа'лась  сказа'лось   \n",
       "\n",
       "         past_pl presfut_sg1 presfut_sg2 presfut_sg3 presfut_pl1 presfut_pl2  \\\n",
       "1       сказа'ли      скажу'    ска'жешь     ска'жет     ска'жем    ска'жете   \n",
       "2516  сказа'лись    скажу'сь  ска'жешься   ска'жется   ска'жемся  ска'жетесь   \n",
       "\n",
       "     presfut_pl3  \n",
       "1        ска'жут  \n",
       "2516   ска'жутся  "
      ]
     },
     "execution_count": 117,
     "metadata": {},
     "output_type": "execute_result"
    }
   ],
   "source": [
    "# select all rows where the column ‘model’ starts with the string\n",
    "df[df['bare'].str.match('сказать')]"
   ]
  },
  {
   "cell_type": "code",
   "execution_count": 118,
   "metadata": {
    "ExecuteTime": {
     "end_time": "2019-06-26T19:19:12.645144Z",
     "start_time": "2019-06-26T19:19:12.586094Z"
    }
   },
   "outputs": [
    {
     "data": {
      "text/html": [
       "<div>\n",
       "<style scoped>\n",
       "    .dataframe tbody tr th:only-of-type {\n",
       "        vertical-align: middle;\n",
       "    }\n",
       "\n",
       "    .dataframe tbody tr th {\n",
       "        vertical-align: top;\n",
       "    }\n",
       "\n",
       "    .dataframe thead th {\n",
       "        text-align: right;\n",
       "    }\n",
       "</style>\n",
       "<table border=\"1\" class=\"dataframe\">\n",
       "  <thead>\n",
       "    <tr style=\"text-align: right;\">\n",
       "      <th></th>\n",
       "      <th>bare</th>\n",
       "      <th>accented</th>\n",
       "      <th>translations_en</th>\n",
       "      <th>translations_de</th>\n",
       "      <th>aspect</th>\n",
       "      <th>partner</th>\n",
       "      <th>imperative_sg</th>\n",
       "      <th>imperative_pl</th>\n",
       "      <th>past_m</th>\n",
       "      <th>past_f</th>\n",
       "      <th>past_n</th>\n",
       "      <th>past_pl</th>\n",
       "      <th>presfut_sg1</th>\n",
       "      <th>presfut_sg2</th>\n",
       "      <th>presfut_sg3</th>\n",
       "      <th>presfut_pl1</th>\n",
       "      <th>presfut_pl2</th>\n",
       "      <th>presfut_pl3</th>\n",
       "    </tr>\n",
       "  </thead>\n",
       "  <tbody>\n",
       "    <tr>\n",
       "      <th>251</th>\n",
       "      <td>обратиться</td>\n",
       "      <td>обрати'ться</td>\n",
       "      <td>appeal, apply, address, turn, treat, handle, u...</td>\n",
       "      <td>sich wenden, sich richten, anreden</td>\n",
       "      <td>perfective</td>\n",
       "      <td>обращаться</td>\n",
       "      <td>обрати'сь</td>\n",
       "      <td>обрати'тесь</td>\n",
       "      <td>обрати'лся</td>\n",
       "      <td>обрати'лась</td>\n",
       "      <td>обрати'лось</td>\n",
       "      <td>обрати'лись</td>\n",
       "      <td>обращу'сь</td>\n",
       "      <td>обрати'шься</td>\n",
       "      <td>обрати'тся</td>\n",
       "      <td>обрати'мся</td>\n",
       "      <td>обрати'тесь</td>\n",
       "      <td>обратя'тся</td>\n",
       "    </tr>\n",
       "    <tr>\n",
       "      <th>270</th>\n",
       "      <td>обращаться</td>\n",
       "      <td>обраща'ться</td>\n",
       "      <td>appeal, apply, address, turn, treat, handle, u...</td>\n",
       "      <td>umgehen, behandeln, handhaben; sich wenden an</td>\n",
       "      <td>imperfective</td>\n",
       "      <td>обратиться</td>\n",
       "      <td>обраща'йся</td>\n",
       "      <td>обраща'йтесь</td>\n",
       "      <td>обраща'лся</td>\n",
       "      <td>обраща'лась</td>\n",
       "      <td>обраща'лось</td>\n",
       "      <td>обраща'лись</td>\n",
       "      <td>обраща'юсь</td>\n",
       "      <td>обраща'ешься</td>\n",
       "      <td>обраща'ется</td>\n",
       "      <td>обраща'емся</td>\n",
       "      <td>обраща'етесь</td>\n",
       "      <td>обраща'ются</td>\n",
       "    </tr>\n",
       "    <tr>\n",
       "      <th>2924</th>\n",
       "      <td>адресовать</td>\n",
       "      <td>адресова'ть</td>\n",
       "      <td>address, direct</td>\n",
       "      <td>richten</td>\n",
       "      <td>NaN</td>\n",
       "      <td>NaN</td>\n",
       "      <td>адресу'й</td>\n",
       "      <td>адресу'йте</td>\n",
       "      <td>адресова'л</td>\n",
       "      <td>адресова'ла</td>\n",
       "      <td>адресова'ло</td>\n",
       "      <td>адресова'ли</td>\n",
       "      <td>адресу'ю</td>\n",
       "      <td>адресу'ешь</td>\n",
       "      <td>адресу'ет</td>\n",
       "      <td>адресу'ем</td>\n",
       "      <td>адресу'ете</td>\n",
       "      <td>адресу'ют</td>\n",
       "    </tr>\n",
       "    <tr>\n",
       "      <th>3464</th>\n",
       "      <td>заговаривать</td>\n",
       "      <td>загова'ривать</td>\n",
       "      <td>speak, address, accost, talk head off, tire ou...</td>\n",
       "      <td>NaN</td>\n",
       "      <td>imperfective</td>\n",
       "      <td>заговорить</td>\n",
       "      <td>загова'ривай</td>\n",
       "      <td>загова'ривайте</td>\n",
       "      <td>загова'ривал</td>\n",
       "      <td>загова'ривала</td>\n",
       "      <td>загова'ривало</td>\n",
       "      <td>загова'ривали</td>\n",
       "      <td>загова'риваю</td>\n",
       "      <td>загова'риваешь</td>\n",
       "      <td>загова'ривает</td>\n",
       "      <td>загова'риваем</td>\n",
       "      <td>загова'риваете</td>\n",
       "      <td>загова'ривают</td>\n",
       "    </tr>\n",
       "    <tr>\n",
       "      <th>6661</th>\n",
       "      <td>напутствовать</td>\n",
       "      <td>напу'тствовать</td>\n",
       "      <td>address</td>\n",
       "      <td>NaN</td>\n",
       "      <td>NaN</td>\n",
       "      <td>NaN</td>\n",
       "      <td>напу'тствуй</td>\n",
       "      <td>напу'тствуйте</td>\n",
       "      <td>напу'тствовал</td>\n",
       "      <td>напу'тствовала</td>\n",
       "      <td>напу'тствовало</td>\n",
       "      <td>напу'тствовали</td>\n",
       "      <td>напу'тствую</td>\n",
       "      <td>напу'тствуешь</td>\n",
       "      <td>напу'тствует</td>\n",
       "      <td>напу'тствуем</td>\n",
       "      <td>напу'тствуете</td>\n",
       "      <td>напу'тствуют</td>\n",
       "    </tr>\n",
       "    <tr>\n",
       "      <th>7614</th>\n",
       "      <td>адресоваться</td>\n",
       "      <td>адресова'ться</td>\n",
       "      <td>address oneself</td>\n",
       "      <td>NaN</td>\n",
       "      <td>NaN</td>\n",
       "      <td>NaN</td>\n",
       "      <td>адресу'йся</td>\n",
       "      <td>адресу'йтесь</td>\n",
       "      <td>адресова'лся</td>\n",
       "      <td>адресова'лась</td>\n",
       "      <td>адресова'лось</td>\n",
       "      <td>адресова'лись</td>\n",
       "      <td>адресу'юсь</td>\n",
       "      <td>адресу'ешься</td>\n",
       "      <td>адресу'ется</td>\n",
       "      <td>адресу'емся</td>\n",
       "      <td>адресу'етесь</td>\n",
       "      <td>адресу'ются</td>\n",
       "    </tr>\n",
       "    <tr>\n",
       "      <th>11060</th>\n",
       "      <td>переадресовывать</td>\n",
       "      <td>переадресо'вывать</td>\n",
       "      <td>readdress</td>\n",
       "      <td>NaN</td>\n",
       "      <td>NaN</td>\n",
       "      <td>NaN</td>\n",
       "      <td>переадресо'вывай</td>\n",
       "      <td>переадресо'вывайте</td>\n",
       "      <td>переадресо'вывал</td>\n",
       "      <td>переадресо'вывала</td>\n",
       "      <td>переадресо'вывало</td>\n",
       "      <td>переадресо'вывали</td>\n",
       "      <td>переадресо'вываю</td>\n",
       "      <td>переадресо'вываешь</td>\n",
       "      <td>переадресо'вывает</td>\n",
       "      <td>переадресо'вываем</td>\n",
       "      <td>переадресо'вываете</td>\n",
       "      <td>переадресо'вывают</td>\n",
       "    </tr>\n",
       "  </tbody>\n",
       "</table>\n",
       "</div>"
      ],
      "text/plain": [
       "                   bare           accented  \\\n",
       "251          обратиться        обрати'ться   \n",
       "270          обращаться        обраща'ться   \n",
       "2924         адресовать        адресова'ть   \n",
       "3464       заговаривать      загова'ривать   \n",
       "6661      напутствовать     напу'тствовать   \n",
       "7614       адресоваться      адресова'ться   \n",
       "11060  переадресовывать  переадресо'вывать   \n",
       "\n",
       "                                         translations_en  \\\n",
       "251    appeal, apply, address, turn, treat, handle, u...   \n",
       "270    appeal, apply, address, turn, treat, handle, u...   \n",
       "2924                                     address, direct   \n",
       "3464   speak, address, accost, talk head off, tire ou...   \n",
       "6661                                             address   \n",
       "7614                                     address oneself   \n",
       "11060                                          readdress   \n",
       "\n",
       "                                     translations_de        aspect  \\\n",
       "251               sich wenden, sich richten, anreden    perfective   \n",
       "270    umgehen, behandeln, handhaben; sich wenden an  imperfective   \n",
       "2924                                         richten           NaN   \n",
       "3464                                             NaN  imperfective   \n",
       "6661                                             NaN           NaN   \n",
       "7614                                             NaN           NaN   \n",
       "11060                                            NaN           NaN   \n",
       "\n",
       "          partner     imperative_sg       imperative_pl            past_m  \\\n",
       "251    обращаться         обрати'сь         обрати'тесь        обрати'лся   \n",
       "270    обратиться        обраща'йся        обраща'йтесь        обраща'лся   \n",
       "2924          NaN          адресу'й          адресу'йте        адресова'л   \n",
       "3464   заговорить      загова'ривай      загова'ривайте      загова'ривал   \n",
       "6661          NaN       напу'тствуй       напу'тствуйте     напу'тствовал   \n",
       "7614          NaN        адресу'йся        адресу'йтесь      адресова'лся   \n",
       "11060         NaN  переадресо'вывай  переадресо'вывайте  переадресо'вывал   \n",
       "\n",
       "                  past_f             past_n            past_pl  \\\n",
       "251          обрати'лась        обрати'лось        обрати'лись   \n",
       "270          обраща'лась        обраща'лось        обраща'лись   \n",
       "2924         адресова'ла        адресова'ло        адресова'ли   \n",
       "3464       загова'ривала      загова'ривало      загова'ривали   \n",
       "6661      напу'тствовала     напу'тствовало     напу'тствовали   \n",
       "7614       адресова'лась      адресова'лось      адресова'лись   \n",
       "11060  переадресо'вывала  переадресо'вывало  переадресо'вывали   \n",
       "\n",
       "            presfut_sg1         presfut_sg2        presfut_sg3  \\\n",
       "251           обращу'сь         обрати'шься         обрати'тся   \n",
       "270          обраща'юсь        обраща'ешься        обраща'ется   \n",
       "2924           адресу'ю          адресу'ешь          адресу'ет   \n",
       "3464       загова'риваю      загова'риваешь      загова'ривает   \n",
       "6661        напу'тствую       напу'тствуешь       напу'тствует   \n",
       "7614         адресу'юсь        адресу'ешься        адресу'ется   \n",
       "11060  переадресо'вываю  переадресо'вываешь  переадресо'вывает   \n",
       "\n",
       "             presfut_pl1         presfut_pl2        presfut_pl3  \n",
       "251           обрати'мся         обрати'тесь         обратя'тся  \n",
       "270          обраща'емся        обраща'етесь        обраща'ются  \n",
       "2924           адресу'ем          адресу'ете          адресу'ют  \n",
       "3464       загова'риваем      загова'риваете      загова'ривают  \n",
       "6661        напу'тствуем       напу'тствуете       напу'тствуют  \n",
       "7614         адресу'емся        адресу'етесь        адресу'ются  \n",
       "11060  переадресо'вываем  переадресо'вываете  переадресо'вывают  "
      ]
     },
     "execution_count": 118,
     "metadata": {},
     "output_type": "execute_result"
    }
   ],
   "source": [
    "df[df['translations_en'].str.contains('address', na=False)]"
   ]
  },
  {
   "cell_type": "markdown",
   "metadata": {},
   "source": [
    "⊕ [Dealing with Rows and Columns in Pandas DataFrame - GeeksforGeeks](https://www.geeksforgeeks.org/dealing-with-rows-and-columns-in-pandas-dataframe/)\n"
   ]
  },
  {
   "cell_type": "code",
   "execution_count": 137,
   "metadata": {
    "ExecuteTime": {
     "end_time": "2019-06-26T21:02:29.957487Z",
     "start_time": "2019-06-26T21:02:29.928232Z"
    }
   },
   "outputs": [
    {
     "data": {
      "text/html": [
       "<div>\n",
       "<style scoped>\n",
       "    .dataframe tbody tr th:only-of-type {\n",
       "        vertical-align: middle;\n",
       "    }\n",
       "\n",
       "    .dataframe tbody tr th {\n",
       "        vertical-align: top;\n",
       "    }\n",
       "\n",
       "    .dataframe thead th {\n",
       "        text-align: right;\n",
       "    }\n",
       "</style>\n",
       "<table border=\"1\" class=\"dataframe\">\n",
       "  <thead>\n",
       "    <tr style=\"text-align: right;\">\n",
       "      <th></th>\n",
       "      <th>accented</th>\n",
       "      <th>translations_en</th>\n",
       "    </tr>\n",
       "  </thead>\n",
       "  <tbody>\n",
       "    <tr>\n",
       "      <th>251</th>\n",
       "      <td>обрати'ться</td>\n",
       "      <td>appeal, apply, address, turn, treat, handle, u...</td>\n",
       "    </tr>\n",
       "    <tr>\n",
       "      <th>270</th>\n",
       "      <td>обраща'ться</td>\n",
       "      <td>appeal, apply, address, turn, treat, handle, u...</td>\n",
       "    </tr>\n",
       "    <tr>\n",
       "      <th>2924</th>\n",
       "      <td>адресова'ть</td>\n",
       "      <td>address, direct</td>\n",
       "    </tr>\n",
       "    <tr>\n",
       "      <th>3464</th>\n",
       "      <td>загова'ривать</td>\n",
       "      <td>speak, address, accost, talk head off, tire ou...</td>\n",
       "    </tr>\n",
       "    <tr>\n",
       "      <th>6661</th>\n",
       "      <td>напу'тствовать</td>\n",
       "      <td>address</td>\n",
       "    </tr>\n",
       "    <tr>\n",
       "      <th>7614</th>\n",
       "      <td>адресова'ться</td>\n",
       "      <td>address oneself</td>\n",
       "    </tr>\n",
       "    <tr>\n",
       "      <th>11060</th>\n",
       "      <td>переадресо'вывать</td>\n",
       "      <td>readdress</td>\n",
       "    </tr>\n",
       "  </tbody>\n",
       "</table>\n",
       "</div>"
      ],
      "text/plain": [
       "                accented                                    translations_en\n",
       "251          обрати'ться  appeal, apply, address, turn, treat, handle, u...\n",
       "270          обраща'ться  appeal, apply, address, turn, treat, handle, u...\n",
       "2924         адресова'ть                                    address, direct\n",
       "3464       загова'ривать  speak, address, accost, talk head off, tire ou...\n",
       "6661      напу'тствовать                                            address\n",
       "7614       адресова'ться                                    address oneself\n",
       "11060  переадресо'вывать                                          readdress"
      ]
     },
     "execution_count": 137,
     "metadata": {},
     "output_type": "execute_result"
    }
   ],
   "source": [
    "rs_df=df[df['translations_en'].str.contains('address', na=False)]\n",
    "rs_df[['accented', 'translations_en']]"
   ]
  },
  {
   "cell_type": "code",
   "execution_count": 128,
   "metadata": {
    "ExecuteTime": {
     "end_time": "2019-06-26T20:18:54.539623Z",
     "start_time": "2019-06-26T20:18:54.535849Z"
    }
   },
   "outputs": [],
   "source": [
    "# rs_df=df['be' in df['translations_en'].str.split(', ')]\n",
    "# rs_df[['accented', 'translations_en']].head()"
   ]
  },
  {
   "cell_type": "code",
   "execution_count": 136,
   "metadata": {
    "ExecuteTime": {
     "end_time": "2019-06-26T21:02:23.150459Z",
     "start_time": "2019-06-26T21:02:23.124309Z"
    }
   },
   "outputs": [
    {
     "data": {
      "text/html": [
       "<div>\n",
       "<style scoped>\n",
       "    .dataframe tbody tr th:only-of-type {\n",
       "        vertical-align: middle;\n",
       "    }\n",
       "\n",
       "    .dataframe tbody tr th {\n",
       "        vertical-align: top;\n",
       "    }\n",
       "\n",
       "    .dataframe thead th {\n",
       "        text-align: right;\n",
       "    }\n",
       "</style>\n",
       "<table border=\"1\" class=\"dataframe\">\n",
       "  <thead>\n",
       "    <tr style=\"text-align: right;\">\n",
       "      <th></th>\n",
       "      <th>accented</th>\n",
       "      <th>translations_en</th>\n",
       "    </tr>\n",
       "  </thead>\n",
       "  <tbody>\n",
       "    <tr>\n",
       "      <th>9</th>\n",
       "      <td>стоя'ть</td>\n",
       "      <td>stand, be, lie, be situated, stop, be stagnant...</td>\n",
       "    </tr>\n",
       "    <tr>\n",
       "      <th>16</th>\n",
       "      <td>сиде'ть</td>\n",
       "      <td>sit, be perched, be, fit</td>\n",
       "    </tr>\n",
       "    <tr>\n",
       "      <th>27</th>\n",
       "      <td>вы'йти</td>\n",
       "      <td>go out, alight, get out, appear, be published,...</td>\n",
       "    </tr>\n",
       "    <tr>\n",
       "      <th>30</th>\n",
       "      <td>оказа'ться</td>\n",
       "      <td>to turn out to be, to be found to be</td>\n",
       "    </tr>\n",
       "    <tr>\n",
       "      <th>38</th>\n",
       "      <td>лежа'ть</td>\n",
       "      <td>lie; be, be situated</td>\n",
       "    </tr>\n",
       "  </tbody>\n",
       "</table>\n",
       "</div>"
      ],
      "text/plain": [
       "      accented                                    translations_en\n",
       "9      стоя'ть  stand, be, lie, be situated, stop, be stagnant...\n",
       "16     сиде'ть                           sit, be perched, be, fit\n",
       "27      вы'йти  go out, alight, get out, appear, be published,...\n",
       "30  оказа'ться               to turn out to be, to be found to be\n",
       "38     лежа'ть                               lie; be, be situated"
      ]
     },
     "execution_count": 136,
     "metadata": {},
     "output_type": "execute_result"
    }
   ],
   "source": [
    "rs_df=df[df['translations_en'].str.contains('be,', na=False)]\n",
    "rs_df[['accented', 'translations_en']].head()"
   ]
  },
  {
   "cell_type": "markdown",
   "metadata": {},
   "source": [
    "⊕ [pandas.Series.str.contains — pandas 0.23.3 documentation](https://pandas.pydata.org/pandas-docs/version/0.23.3/generated/pandas.Series.str.contains.html)\n"
   ]
  },
  {
   "cell_type": "code",
   "execution_count": 144,
   "metadata": {
    "ExecuteTime": {
     "end_time": "2019-06-26T21:09:17.653474Z",
     "start_time": "2019-06-26T21:09:17.604282Z"
    }
   },
   "outputs": [
    {
     "data": {
      "text/html": [
       "<div>\n",
       "<style scoped>\n",
       "    .dataframe tbody tr th:only-of-type {\n",
       "        vertical-align: middle;\n",
       "    }\n",
       "\n",
       "    .dataframe tbody tr th {\n",
       "        vertical-align: top;\n",
       "    }\n",
       "\n",
       "    .dataframe thead th {\n",
       "        text-align: right;\n",
       "    }\n",
       "</style>\n",
       "<table border=\"1\" class=\"dataframe\">\n",
       "  <thead>\n",
       "    <tr style=\"text-align: right;\">\n",
       "      <th></th>\n",
       "      <th>accented</th>\n",
       "      <th>translations_en</th>\n",
       "    </tr>\n",
       "  </thead>\n",
       "  <tbody>\n",
       "    <tr>\n",
       "      <th>819</th>\n",
       "      <td>благодари'ть</td>\n",
       "      <td>thank</td>\n",
       "    </tr>\n",
       "    <tr>\n",
       "      <th>1006</th>\n",
       "      <td>цени'ть</td>\n",
       "      <td>value, estimate, appreciate</td>\n",
       "    </tr>\n",
       "    <tr>\n",
       "      <th>1425</th>\n",
       "      <td>поблагодари'ть</td>\n",
       "      <td>thank</td>\n",
       "    </tr>\n",
       "    <tr>\n",
       "      <th>9003</th>\n",
       "      <td>возблагодари'ть</td>\n",
       "      <td>render thanks</td>\n",
       "    </tr>\n",
       "  </tbody>\n",
       "</table>\n",
       "</div>"
      ],
      "text/plain": [
       "             accented              translations_en\n",
       "819      благодари'ть                        thank\n",
       "1006          цени'ть  value, estimate, appreciate\n",
       "1425   поблагодари'ть                        thank\n",
       "9003  возблагодари'ть                render thanks"
      ]
     },
     "execution_count": 144,
     "metadata": {},
     "output_type": "execute_result"
    }
   ],
   "source": [
    "rs_df=df[df['translations_en'].str.contains('thank|appreciate', flags=re.IGNORECASE, regex=True, na=False)]\n",
    "rs_df[['accented', 'translations_en']].head()"
   ]
  },
  {
   "cell_type": "code",
   "execution_count": 153,
   "metadata": {
    "ExecuteTime": {
     "end_time": "2019-06-26T23:01:33.098013Z",
     "start_time": "2019-06-26T23:01:33.083842Z"
    }
   },
   "outputs": [
    {
     "name": "stdout",
     "output_type": "stream",
     "text": [
      "благодари'ть thank поблагодарить;отблагодарить\n",
      " True\n",
      "цени'ть value, estimate, appreciate оценить\n",
      " True\n",
      "поблагодари'ть thank благодарить\n",
      " True\n",
      "возблагодари'ть render thanks nan\n",
      " False\n"
     ]
    }
   ],
   "source": [
    "for index, row in rs_df.iterrows():\n",
    "    print(row['accented'], row['translations_en'], row['partner'])\n",
    "    print('', pd.notnull(row['partner']))\n",
    "    # print(row.keys)\n",
    "    # print('abs' in row)"
   ]
  },
  {
   "cell_type": "code",
   "execution_count": 159,
   "metadata": {
    "ExecuteTime": {
     "end_time": "2019-06-26T23:03:17.067073Z",
     "start_time": "2019-06-26T23:03:17.060430Z"
    }
   },
   "outputs": [
    {
     "name": "stdout",
     "output_type": "stream",
     "text": [
      "4\n",
      "13909\n"
     ]
    }
   ],
   "source": [
    "print(len(rs_df))\n",
    "print(len(df))"
   ]
  },
  {
   "cell_type": "code",
   "execution_count": 165,
   "metadata": {
    "ExecuteTime": {
     "end_time": "2019-06-26T23:27:02.617204Z",
     "start_time": "2019-06-26T23:27:02.605622Z"
    }
   },
   "outputs": [
    {
     "name": "stdout",
     "output_type": "stream",
     "text": [
      "['aspect', 'partner', 'imperative_sg', 'imperative_pl', 'past_m', 'past_f', 'past_n', 'past_pl', 'presfut_sg1', 'presfut_sg2', 'presfut_sg3', 'presfut_pl1', 'presfut_pl2', 'presfut_pl3']\n"
     ]
    }
   ],
   "source": [
    "cols='aspect\tpartner\timperative_sg\timperative_pl\tpast_m\tpast_f\tpast_n\tpast_pl\tpresfut_sg1\tpresfut_sg2\tpresfut_sg3\tpresfut_pl1\tpresfut_pl2\tpresfut_pl3'\n",
    "cols_list=cols.split('\\t')\n",
    "print(cols_list)\n",
    "\n",
    "def append_cols(key, row, cols_list):\n",
    "    rs=[]\n",
    "    for col in cols_list:\n",
    "        if pd.notnull(row[col]):\n",
    "            rs.append('%s %s'%(key, row[col].replace(\"'\",'')))\n",
    "    return rs"
   ]
  },
  {
   "cell_type": "code",
   "execution_count": 170,
   "metadata": {
    "ExecuteTime": {
     "end_time": "2019-06-26T23:34:51.298126Z",
     "start_time": "2019-06-26T23:34:51.288546Z"
    }
   },
   "outputs": [
    {
     "data": {
      "text/plain": [
       "'rend'"
      ]
     },
     "execution_count": 170,
     "metadata": {},
     "output_type": "execute_result"
    }
   ],
   "source": [
    "def norm_key(s):\n",
    "    s = re.sub(r\"[^a-zA-Z]+\", r\"\", s)\n",
    "    return s[:4].lower()\n",
    "norm_key('re nder ok')"
   ]
  },
  {
   "cell_type": "code",
   "execution_count": 171,
   "metadata": {
    "ExecuteTime": {
     "end_time": "2019-06-26T23:35:04.230794Z",
     "start_time": "2019-06-26T23:35:04.197953Z"
    }
   },
   "outputs": [
    {
     "name": "stdout",
     "output_type": "stream",
     "text": [
      "[\n",
      "  \"than благодарить\",\n",
      "  \"than imperfective\",\n",
      "  \"than поблагодарить;отблагодарить\",\n",
      "  \"than благодари\",\n",
      "  \"than благодарите\",\n",
      "  \"than благодарил\",\n",
      "  \"than благодарила\",\n",
      "  \"than благодарило\",\n",
      "  \"than благодарили\",\n",
      "  \"than благодарю\",\n",
      "  \"than благодаришь\",\n",
      "  \"than благодарит\",\n",
      "  \"than благодарим\",\n",
      "  \"than благодарите\",\n",
      "  \"than благодарят\",\n",
      "  \"valu ценить\",\n",
      "  \"valu imperfective\",\n",
      "  \"valu оценить\",\n",
      "  \"valu цени\",\n",
      "  \"valu цените\",\n",
      "  \"valu ценил\",\n",
      "  \"valu ценила\",\n",
      "  \"valu ценило\",\n",
      "  \"valu ценили\",\n",
      "  \"valu ценю\",\n",
      "  \"valu ценишь\",\n",
      "  \"valu ценит\",\n",
      "  \"valu ценим\",\n",
      "  \"valu цените\",\n",
      "  \"valu ценят\",\n",
      "  \"esti ценить\",\n",
      "  \"esti imperfective\",\n",
      "  \"esti оценить\",\n",
      "  \"esti цени\",\n",
      "  \"esti цените\",\n",
      "  \"esti ценил\",\n",
      "  \"esti ценила\",\n",
      "  \"esti ценило\",\n",
      "  \"esti ценили\",\n",
      "  \"esti ценю\",\n",
      "  \"esti ценишь\",\n",
      "  \"esti ценит\",\n",
      "  \"esti ценим\",\n",
      "  \"esti цените\",\n",
      "  \"esti ценят\",\n",
      "  \"appr ценить\",\n",
      "  \"appr imperfective\",\n",
      "  \"appr оценить\",\n",
      "  \"appr цени\",\n",
      "  \"appr цените\",\n",
      "  \"appr ценил\",\n",
      "  \"appr ценила\",\n",
      "  \"appr ценило\",\n",
      "  \"appr ценили\",\n",
      "  \"appr ценю\",\n",
      "  \"appr ценишь\",\n",
      "  \"appr ценит\",\n",
      "  \"appr ценим\",\n",
      "  \"appr цените\",\n",
      "  \"appr ценят\",\n",
      "  \"than поблагодарить\",\n",
      "  \"than perfective\",\n",
      "  \"than благодарить\",\n",
      "  \"than поблагодари\",\n",
      "  \"than поблагодарите\",\n",
      "  \"than поблагодарил\",\n",
      "  \"than поблагодарила\",\n",
      "  \"than поблагодарило\",\n",
      "  \"than поблагодарили\",\n",
      "  \"than поблагодарю\",\n",
      "  \"than поблагодаришь\",\n",
      "  \"than поблагодарит\",\n",
      "  \"than поблагодарим\",\n",
      "  \"than поблагодарите\",\n",
      "  \"than поблагодарят\",\n",
      "  \"rend возблагодарить\",\n",
      "  \"rend возблагодари\",\n",
      "  \"rend возблагодарите\",\n",
      "  \"rend возблагодарил\",\n",
      "  \"rend возблагодарила\",\n",
      "  \"rend возблагодарило\",\n",
      "  \"rend возблагодарили\",\n",
      "  \"rend возблагодарю\",\n",
      "  \"rend возблагодаришь\",\n",
      "  \"rend возблагодарит\",\n",
      "  \"rend возблагодарим\",\n",
      "  \"rend возблагодарите\",\n",
      "  \"rend возблагодарят\"\n",
      "]\n"
     ]
    }
   ],
   "source": [
    "# import sagas\n",
    "import json\n",
    "\n",
    "def build_pairs(rs_df):\n",
    "    input_pairs=[]\n",
    "    for index, row in rs_df.iterrows():\n",
    "        if pd.notnull(row['translations_en']):\n",
    "            ru_word=row['bare']\n",
    "            en_words=row['translations_en'].split(', ')\n",
    "            for en_word in en_words:\n",
    "                key=norm_key(en_word)\n",
    "                input_pairs.append('%s %s'%(key, ru_word))\n",
    "                input_pairs.extend(append_cols(key, row, cols_list))\n",
    "    return input_pairs\n",
    "\n",
    "input_pairs=build_pairs(rs_df)\n",
    "print(json.dumps(input_pairs, indent=2, ensure_ascii=False))"
   ]
  },
  {
   "cell_type": "code",
   "execution_count": 168,
   "metadata": {
    "ExecuteTime": {
     "end_time": "2019-06-26T23:29:06.041593Z",
     "start_time": "2019-06-26T23:29:06.034806Z"
    }
   },
   "outputs": [
    {
     "name": "stdout",
     "output_type": "stream",
     "text": [
      "than благодарить\n",
      "than imperfective\n",
      "than поблагодарить;отблагодарить\n",
      "than благодари\n",
      "than благодарите\n",
      "than благодарил\n",
      "than благодарила\n",
      "than благодарило\n",
      "than благодарили\n",
      "than благодарю\n",
      "than благодаришь\n",
      "than благодарит\n",
      "than благодарим\n",
      "than благодарите\n",
      "than благодарят\n",
      "valu ценить\n",
      "valu imperfective\n",
      "valu оценить\n",
      "valu цени\n",
      "valu цените\n",
      "valu ценил\n",
      "valu ценила\n",
      "valu ценило\n",
      "valu ценили\n",
      "valu ценю\n",
      "valu ценишь\n",
      "valu ценит\n",
      "valu ценим\n",
      "valu цените\n",
      "valu ценят\n",
      "esti ценить\n",
      "esti imperfective\n",
      "esti оценить\n",
      "esti цени\n",
      "esti цените\n",
      "esti ценил\n",
      "esti ценила\n",
      "esti ценило\n",
      "esti ценили\n",
      "esti ценю\n",
      "esti ценишь\n",
      "esti ценит\n",
      "esti ценим\n",
      "esti цените\n",
      "esti ценят\n",
      "appr ценить\n",
      "appr imperfective\n",
      "appr оценить\n",
      "appr цени\n",
      "appr цените\n",
      "appr ценил\n",
      "appr ценила\n",
      "appr ценило\n",
      "appr ценили\n",
      "appr ценю\n",
      "appr ценишь\n",
      "appr ценит\n",
      "appr ценим\n",
      "appr цените\n",
      "appr ценят\n",
      "than поблагодарить\n",
      "than perfective\n",
      "than благодарить\n",
      "than поблагодари\n",
      "than поблагодарите\n",
      "than поблагодарил\n",
      "than поблагодарила\n",
      "than поблагодарило\n",
      "than поблагодарили\n",
      "than поблагодарю\n",
      "than поблагодаришь\n",
      "than поблагодарит\n",
      "than поблагодарим\n",
      "than поблагодарите\n",
      "than поблагодарят\n",
      "rend возблагодарить\n",
      "rend возблагодари\n",
      "rend возблагодарите\n",
      "rend возблагодарил\n",
      "rend возблагодарила\n",
      "rend возблагодарило\n",
      "rend возблагодарили\n",
      "rend возблагодарю\n",
      "rend возблагодаришь\n",
      "rend возблагодарит\n",
      "rend возблагодарим\n",
      "rend возблагодарите\n",
      "rend возблагодарят\n"
     ]
    }
   ],
   "source": [
    "print('\\n'.join(input_pairs))"
   ]
  },
  {
   "cell_type": "code",
   "execution_count": 173,
   "metadata": {
    "ExecuteTime": {
     "end_time": "2019-06-26T23:38:18.737247Z",
     "start_time": "2019-06-26T23:38:09.041965Z"
    }
   },
   "outputs": [
    {
     "name": "stdout",
     "output_type": "stream",
     "text": [
      "442281\n"
     ]
    }
   ],
   "source": [
    "import clipboard\n",
    "input_pairs=build_pairs(df)\n",
    "print(len(input_pairs))"
   ]
  },
  {
   "cell_type": "code",
   "execution_count": null,
   "metadata": {},
   "outputs": [],
   "source": [
    "clipboard.copy('\\n'.join(input_pairs))\n",
    "print('ok')"
   ]
  },
  {
   "cell_type": "code",
   "execution_count": 174,
   "metadata": {
    "ExecuteTime": {
     "end_time": "2019-06-27T08:53:28.481574Z",
     "start_time": "2019-06-27T08:53:28.473830Z"
    }
   },
   "outputs": [
    {
     "data": {
      "text/plain": [
       "'какой'"
      ]
     },
     "execution_count": 174,
     "metadata": {},
     "output_type": "execute_result"
    }
   ],
   "source": [
    "'Какой'.lower()"
   ]
  },
  {
   "cell_type": "code",
   "execution_count": 175,
   "metadata": {
    "ExecuteTime": {
     "end_time": "2019-06-27T08:57:11.635652Z",
     "start_time": "2019-06-27T08:57:11.601402Z"
    }
   },
   "outputs": [
    {
     "data": {
      "text/html": [
       "<div>\n",
       "<style scoped>\n",
       "    .dataframe tbody tr th:only-of-type {\n",
       "        vertical-align: middle;\n",
       "    }\n",
       "\n",
       "    .dataframe tbody tr th {\n",
       "        vertical-align: top;\n",
       "    }\n",
       "\n",
       "    .dataframe thead th {\n",
       "        text-align: right;\n",
       "    }\n",
       "</style>\n",
       "<table border=\"1\" class=\"dataframe\">\n",
       "  <thead>\n",
       "    <tr style=\"text-align: right;\">\n",
       "      <th></th>\n",
       "      <th>bare</th>\n",
       "      <th>accented</th>\n",
       "      <th>translations_en</th>\n",
       "      <th>translations_de</th>\n",
       "      <th>aspect</th>\n",
       "      <th>partner</th>\n",
       "      <th>imperative_sg</th>\n",
       "      <th>imperative_pl</th>\n",
       "      <th>past_m</th>\n",
       "      <th>past_f</th>\n",
       "      <th>past_n</th>\n",
       "      <th>past_pl</th>\n",
       "      <th>presfut_sg1</th>\n",
       "      <th>presfut_sg2</th>\n",
       "      <th>presfut_sg3</th>\n",
       "      <th>presfut_pl1</th>\n",
       "      <th>presfut_pl2</th>\n",
       "      <th>presfut_pl3</th>\n",
       "    </tr>\n",
       "  </thead>\n",
       "  <tbody>\n",
       "    <tr>\n",
       "      <th>819</th>\n",
       "      <td>благодарить</td>\n",
       "      <td>благодари'ть</td>\n",
       "      <td>thank</td>\n",
       "      <td>danken, sich bedanken für</td>\n",
       "      <td>imperfective</td>\n",
       "      <td>поблагодарить;отблагодарить</td>\n",
       "      <td>благодари'</td>\n",
       "      <td>благодари'те</td>\n",
       "      <td>благодари'л</td>\n",
       "      <td>благодари'ла</td>\n",
       "      <td>благодари'ло</td>\n",
       "      <td>благодари'ли</td>\n",
       "      <td>благодарю'</td>\n",
       "      <td>благодари'шь</td>\n",
       "      <td>благодари'т</td>\n",
       "      <td>благодари'м</td>\n",
       "      <td>благодари'те</td>\n",
       "      <td>благодаря'т</td>\n",
       "    </tr>\n",
       "    <tr>\n",
       "      <th>1006</th>\n",
       "      <td>ценить</td>\n",
       "      <td>цени'ть</td>\n",
       "      <td>value, estimate, appreciate</td>\n",
       "      <td>schätzen, würdigen</td>\n",
       "      <td>imperfective</td>\n",
       "      <td>оценить</td>\n",
       "      <td>цени'</td>\n",
       "      <td>цени'те</td>\n",
       "      <td>цени'л</td>\n",
       "      <td>цени'ла</td>\n",
       "      <td>цени'ло</td>\n",
       "      <td>цени'ли</td>\n",
       "      <td>ценю'</td>\n",
       "      <td>це'нишь</td>\n",
       "      <td>це'нит</td>\n",
       "      <td>це'ним</td>\n",
       "      <td>це'ните</td>\n",
       "      <td>це'нят</td>\n",
       "    </tr>\n",
       "    <tr>\n",
       "      <th>1425</th>\n",
       "      <td>поблагодарить</td>\n",
       "      <td>поблагодари'ть</td>\n",
       "      <td>thank</td>\n",
       "      <td>danken, sich bedanken</td>\n",
       "      <td>perfective</td>\n",
       "      <td>благодарить</td>\n",
       "      <td>поблагодари'</td>\n",
       "      <td>поблагодари'те</td>\n",
       "      <td>поблагодари'л</td>\n",
       "      <td>поблагодари'ла</td>\n",
       "      <td>поблагодари'ло</td>\n",
       "      <td>поблагодари'ли</td>\n",
       "      <td>поблагодарю'</td>\n",
       "      <td>поблагодари'шь</td>\n",
       "      <td>поблагодари'т</td>\n",
       "      <td>поблагодари'м</td>\n",
       "      <td>поблагодари'те</td>\n",
       "      <td>поблагодаря'т</td>\n",
       "    </tr>\n",
       "    <tr>\n",
       "      <th>9003</th>\n",
       "      <td>возблагодарить</td>\n",
       "      <td>возблагодари'ть</td>\n",
       "      <td>render thanks</td>\n",
       "      <td>sich bedanken</td>\n",
       "      <td>NaN</td>\n",
       "      <td>NaN</td>\n",
       "      <td>возблагодари'</td>\n",
       "      <td>возблагодари'те</td>\n",
       "      <td>возблагодари'л</td>\n",
       "      <td>возблагодари'ла</td>\n",
       "      <td>возблагодари'ло</td>\n",
       "      <td>возблагодари'ли</td>\n",
       "      <td>возблагодарю'</td>\n",
       "      <td>возблагодари'шь</td>\n",
       "      <td>возблагодари'т</td>\n",
       "      <td>возблагодари'м</td>\n",
       "      <td>возблагодари'те</td>\n",
       "      <td>возблагодаря'т</td>\n",
       "    </tr>\n",
       "  </tbody>\n",
       "</table>\n",
       "</div>"
      ],
      "text/plain": [
       "                bare         accented              translations_en  \\\n",
       "819      благодарить     благодари'ть                        thank   \n",
       "1006          ценить          цени'ть  value, estimate, appreciate   \n",
       "1425   поблагодарить   поблагодари'ть                        thank   \n",
       "9003  возблагодарить  возблагодари'ть                render thanks   \n",
       "\n",
       "                translations_de        aspect                      partner  \\\n",
       "819   danken, sich bedanken für  imperfective  поблагодарить;отблагодарить   \n",
       "1006         schätzen, würdigen  imperfective                      оценить   \n",
       "1425      danken, sich bedanken    perfective                  благодарить   \n",
       "9003              sich bedanken           NaN                          NaN   \n",
       "\n",
       "      imperative_sg    imperative_pl          past_m           past_f  \\\n",
       "819      благодари'     благодари'те     благодари'л     благодари'ла   \n",
       "1006          цени'          цени'те          цени'л          цени'ла   \n",
       "1425   поблагодари'   поблагодари'те   поблагодари'л   поблагодари'ла   \n",
       "9003  возблагодари'  возблагодари'те  возблагодари'л  возблагодари'ла   \n",
       "\n",
       "               past_n          past_pl    presfut_sg1      presfut_sg2  \\\n",
       "819      благодари'ло     благодари'ли     благодарю'     благодари'шь   \n",
       "1006          цени'ло          цени'ли          ценю'          це'нишь   \n",
       "1425   поблагодари'ло   поблагодари'ли   поблагодарю'   поблагодари'шь   \n",
       "9003  возблагодари'ло  возблагодари'ли  возблагодарю'  возблагодари'шь   \n",
       "\n",
       "         presfut_sg3     presfut_pl1      presfut_pl2     presfut_pl3  \n",
       "819      благодари'т     благодари'м     благодари'те     благодаря'т  \n",
       "1006          це'нит          це'ним          це'ните          це'нят  \n",
       "1425   поблагодари'т   поблагодари'м   поблагодари'те   поблагодаря'т  \n",
       "9003  возблагодари'т  возблагодари'м  возблагодари'те  возблагодаря'т  "
      ]
     },
     "execution_count": 175,
     "metadata": {},
     "output_type": "execute_result"
    }
   ],
   "source": [
    "rs_df"
   ]
  },
  {
   "cell_type": "code",
   "execution_count": 180,
   "metadata": {
    "ExecuteTime": {
     "end_time": "2019-06-27T09:07:49.128830Z",
     "start_time": "2019-06-27T09:07:49.120596Z"
    }
   },
   "outputs": [
    {
     "data": {
      "text/plain": [
       "{'first', 'second', 'third'}"
      ]
     },
     "execution_count": 180,
     "metadata": {},
     "output_type": "execute_result"
    }
   ],
   "source": [
    "s=set([])\n",
    "s.add('first')\n",
    "s.update(['second','third'])\n",
    "s"
   ]
  },
  {
   "cell_type": "code",
   "execution_count": 181,
   "metadata": {
    "ExecuteTime": {
     "end_time": "2019-06-27T09:08:27.282231Z",
     "start_time": "2019-06-27T09:08:27.274231Z"
    }
   },
   "outputs": [
    {
     "data": {
      "text/plain": [
       "['оценить']"
      ]
     },
     "execution_count": 181,
     "metadata": {},
     "output_type": "execute_result"
    }
   ],
   "source": [
    "'оценить'.split(';')"
   ]
  },
  {
   "cell_type": "code",
   "execution_count": 204,
   "metadata": {
    "ExecuteTime": {
     "end_time": "2019-06-27T09:45:50.606282Z",
     "start_time": "2019-06-27T09:45:50.197330Z"
    }
   },
   "outputs": [
    {
     "data": {
      "text/html": [
       "<div>\n",
       "<style scoped>\n",
       "    .dataframe tbody tr th:only-of-type {\n",
       "        vertical-align: middle;\n",
       "    }\n",
       "\n",
       "    .dataframe tbody tr th {\n",
       "        vertical-align: top;\n",
       "    }\n",
       "\n",
       "    .dataframe thead th {\n",
       "        text-align: right;\n",
       "    }\n",
       "</style>\n",
       "<table border=\"1\" class=\"dataframe\">\n",
       "  <thead>\n",
       "    <tr style=\"text-align: right;\">\n",
       "      <th></th>\n",
       "      <th>bare</th>\n",
       "      <th>accented</th>\n",
       "      <th>position</th>\n",
       "      <th>translations_en</th>\n",
       "      <th>translations_de</th>\n",
       "      <th>incomparable</th>\n",
       "      <th>comparative</th>\n",
       "      <th>superlative</th>\n",
       "      <th>short_m</th>\n",
       "      <th>short_f</th>\n",
       "      <th>...</th>\n",
       "      <th>decl_n_dat</th>\n",
       "      <th>decl_n_acc</th>\n",
       "      <th>decl_n_inst</th>\n",
       "      <th>decl_n_prep</th>\n",
       "      <th>decl_pl_nom</th>\n",
       "      <th>decl_pl_gen</th>\n",
       "      <th>decl_pl_dat</th>\n",
       "      <th>decl_pl_acc</th>\n",
       "      <th>decl_pl_inst</th>\n",
       "      <th>decl_pl_prep</th>\n",
       "    </tr>\n",
       "  </thead>\n",
       "  <tbody>\n",
       "    <tr>\n",
       "      <th>7</th>\n",
       "      <td>большой</td>\n",
       "      <td>большо'й</td>\n",
       "      <td>NaN</td>\n",
       "      <td>big, large, great, important, grown-up</td>\n",
       "      <td>groß</td>\n",
       "      <td>0.0</td>\n",
       "      <td>бо'льше;бо'льший</td>\n",
       "      <td>наибо'льший</td>\n",
       "      <td>вели'к</td>\n",
       "      <td>велика'</td>\n",
       "      <td>...</td>\n",
       "      <td>большо'му</td>\n",
       "      <td>большо'е</td>\n",
       "      <td>больши'м</td>\n",
       "      <td>большо'м</td>\n",
       "      <td>больши'е</td>\n",
       "      <td>больши'х</td>\n",
       "      <td>больши'м</td>\n",
       "      <td>больши'х,больши'е</td>\n",
       "      <td>больши'ми</td>\n",
       "      <td>больши'х</td>\n",
       "    </tr>\n",
       "    <tr>\n",
       "      <th>13</th>\n",
       "      <td>новый</td>\n",
       "      <td>но'вый</td>\n",
       "      <td>NaN</td>\n",
       "      <td>new, novel, modern, fresh</td>\n",
       "      <td>neu</td>\n",
       "      <td>0.0</td>\n",
       "      <td>нове'е</td>\n",
       "      <td>нове'йший</td>\n",
       "      <td>нов</td>\n",
       "      <td>нова'</td>\n",
       "      <td>...</td>\n",
       "      <td>но'вому</td>\n",
       "      <td>но'вое, но'вого</td>\n",
       "      <td>но'вым</td>\n",
       "      <td>но'вом</td>\n",
       "      <td>но'вые</td>\n",
       "      <td>но'вых</td>\n",
       "      <td>но'вым</td>\n",
       "      <td>но'вые, но'вых</td>\n",
       "      <td>но'выми</td>\n",
       "      <td>но'вых</td>\n",
       "    </tr>\n",
       "    <tr>\n",
       "      <th>15</th>\n",
       "      <td>хороший</td>\n",
       "      <td>хоро'ший</td>\n",
       "      <td>NaN</td>\n",
       "      <td>good, beautiful, handsome</td>\n",
       "      <td>gut, schön</td>\n",
       "      <td>0.0</td>\n",
       "      <td>лу'чше</td>\n",
       "      <td>лу'чший;наилу'чший</td>\n",
       "      <td>хоро'ш</td>\n",
       "      <td>хороша'</td>\n",
       "      <td>...</td>\n",
       "      <td>хоро'шему</td>\n",
       "      <td>хоро'шее</td>\n",
       "      <td>хоро'шим</td>\n",
       "      <td>хоро'шем</td>\n",
       "      <td>хоро'шие</td>\n",
       "      <td>хоро'ших</td>\n",
       "      <td>хоро'шим</td>\n",
       "      <td>хоро'ших,хоро'шие</td>\n",
       "      <td>хоро'шими</td>\n",
       "      <td>хоро'ших</td>\n",
       "    </tr>\n",
       "    <tr>\n",
       "      <th>19</th>\n",
       "      <td>старый</td>\n",
       "      <td>ста'рый</td>\n",
       "      <td>NaN</td>\n",
       "      <td>old, ancient, the old, the past</td>\n",
       "      <td>alt, der frühere</td>\n",
       "      <td>0.0</td>\n",
       "      <td>ста'рше;старе'е</td>\n",
       "      <td>са'мый ста'рый</td>\n",
       "      <td>стар</td>\n",
       "      <td>стара'</td>\n",
       "      <td>...</td>\n",
       "      <td>ста'рому</td>\n",
       "      <td>ста'рое</td>\n",
       "      <td>ста'рым</td>\n",
       "      <td>ста'ром</td>\n",
       "      <td>ста'рые</td>\n",
       "      <td>ста'рых</td>\n",
       "      <td>ста'рым</td>\n",
       "      <td>ста'рых, ста'рые</td>\n",
       "      <td>ста'рыми</td>\n",
       "      <td>ста'рых</td>\n",
       "    </tr>\n",
       "    <tr>\n",
       "      <th>22</th>\n",
       "      <td>главный</td>\n",
       "      <td>гла'вный</td>\n",
       "      <td>NaN</td>\n",
       "      <td>main, chief, principal, head</td>\n",
       "      <td>Chef-, Haupt-</td>\n",
       "      <td>0.0</td>\n",
       "      <td>главне'е</td>\n",
       "      <td>са'мый гла'вный</td>\n",
       "      <td>гла'вен</td>\n",
       "      <td>главна'</td>\n",
       "      <td>...</td>\n",
       "      <td>гла'вному</td>\n",
       "      <td>гла'вное</td>\n",
       "      <td>гла'вным</td>\n",
       "      <td>гла'вном</td>\n",
       "      <td>гла'вные</td>\n",
       "      <td>гла'вных</td>\n",
       "      <td>гла'вным</td>\n",
       "      <td>гла'вные,гла'вных</td>\n",
       "      <td>гла'вными</td>\n",
       "      <td>гла'вных</td>\n",
       "    </tr>\n",
       "  </tbody>\n",
       "</table>\n",
       "<p>5 rows × 36 columns</p>\n",
       "</div>"
      ],
      "text/plain": [
       "       bare  accented  position                         translations_en  \\\n",
       "7   большой  большо'й       NaN  big, large, great, important, grown-up   \n",
       "13    новый    но'вый       NaN               new, novel, modern, fresh   \n",
       "15  хороший  хоро'ший       NaN               good, beautiful, handsome   \n",
       "19   старый   ста'рый       NaN         old, ancient, the old, the past   \n",
       "22  главный  гла'вный       NaN            main, chief, principal, head   \n",
       "\n",
       "     translations_de  incomparable       comparative         superlative  \\\n",
       "7               groß           0.0  бо'льше;бо'льший         наибо'льший   \n",
       "13               neu           0.0            нове'е           нове'йший   \n",
       "15        gut, schön           0.0            лу'чше  лу'чший;наилу'чший   \n",
       "19  alt, der frühere           0.0   ста'рше;старе'е      са'мый ста'рый   \n",
       "22     Chef-, Haupt-           0.0          главне'е     са'мый гла'вный   \n",
       "\n",
       "    short_m  short_f     ...      decl_n_dat       decl_n_acc decl_n_inst  \\\n",
       "7    вели'к  велика'     ...       большо'му         большо'е    больши'м   \n",
       "13      нов    нова'     ...         но'вому  но'вое, но'вого      но'вым   \n",
       "15   хоро'ш  хороша'     ...       хоро'шему         хоро'шее    хоро'шим   \n",
       "19     стар   стара'     ...        ста'рому          ста'рое     ста'рым   \n",
       "22  гла'вен  главна'     ...       гла'вному         гла'вное    гла'вным   \n",
       "\n",
       "   decl_n_prep decl_pl_nom decl_pl_gen decl_pl_dat        decl_pl_acc  \\\n",
       "7     большо'м    больши'е    больши'х    больши'м  больши'х,больши'е   \n",
       "13      но'вом      но'вые      но'вых      но'вым     но'вые, но'вых   \n",
       "15    хоро'шем    хоро'шие    хоро'ших    хоро'шим  хоро'ших,хоро'шие   \n",
       "19     ста'ром     ста'рые     ста'рых     ста'рым   ста'рых, ста'рые   \n",
       "22    гла'вном    гла'вные    гла'вных    гла'вным  гла'вные,гла'вных   \n",
       "\n",
       "   decl_pl_inst decl_pl_prep  \n",
       "7     больши'ми     больши'х  \n",
       "13      но'выми       но'вых  \n",
       "15    хоро'шими     хоро'ших  \n",
       "19     ста'рыми      ста'рых  \n",
       "22    гла'вными     гла'вных  \n",
       "\n",
       "[5 rows x 36 columns]"
      ]
     },
     "execution_count": 204,
     "metadata": {},
     "output_type": "execute_result"
    }
   ],
   "source": [
    "import pandas as pd\n",
    "verbs='/pi/nlp/russian-dictionary/adjectives.csv'\n",
    "df=pd.read_csv(verbs, delimiter = '\\t')\n",
    "df[df['incomparable'].notnull()].head()"
   ]
  },
  {
   "cell_type": "code",
   "execution_count": 253,
   "metadata": {
    "ExecuteTime": {
     "end_time": "2019-06-30T13:56:31.153382Z",
     "start_time": "2019-06-30T13:56:30.491839Z"
    }
   },
   "outputs": [
    {
     "data": {
      "text/html": [
       "<div>\n",
       "<style scoped>\n",
       "    .dataframe tbody tr th:only-of-type {\n",
       "        vertical-align: middle;\n",
       "    }\n",
       "\n",
       "    .dataframe tbody tr th {\n",
       "        vertical-align: top;\n",
       "    }\n",
       "\n",
       "    .dataframe thead th {\n",
       "        text-align: right;\n",
       "    }\n",
       "</style>\n",
       "<table border=\"1\" class=\"dataframe\">\n",
       "  <thead>\n",
       "    <tr style=\"text-align: right;\">\n",
       "      <th></th>\n",
       "      <th>bare</th>\n",
       "      <th>accented</th>\n",
       "      <th>translations_en</th>\n",
       "      <th>translations_de</th>\n",
       "      <th>gender</th>\n",
       "      <th>partner</th>\n",
       "      <th>animate</th>\n",
       "      <th>indeclinable</th>\n",
       "      <th>sg_only</th>\n",
       "      <th>pl_only</th>\n",
       "      <th>...</th>\n",
       "      <th>sg_dat</th>\n",
       "      <th>sg_acc</th>\n",
       "      <th>sg_inst</th>\n",
       "      <th>sg_prep</th>\n",
       "      <th>pl_nom</th>\n",
       "      <th>pl_gen</th>\n",
       "      <th>pl_dat</th>\n",
       "      <th>pl_acc</th>\n",
       "      <th>pl_inst</th>\n",
       "      <th>pl_prep</th>\n",
       "    </tr>\n",
       "  </thead>\n",
       "  <tbody>\n",
       "    <tr>\n",
       "      <th>65</th>\n",
       "      <td>бог</td>\n",
       "      <td>бог</td>\n",
       "      <td>God, god</td>\n",
       "      <td>Gott</td>\n",
       "      <td>m</td>\n",
       "      <td>богиня</td>\n",
       "      <td>1.0</td>\n",
       "      <td>0.0</td>\n",
       "      <td>0.0</td>\n",
       "      <td>0.0</td>\n",
       "      <td>...</td>\n",
       "      <td>бо'гу</td>\n",
       "      <td>бо'га</td>\n",
       "      <td>бо'гом</td>\n",
       "      <td>бо'ге</td>\n",
       "      <td>бо'ги</td>\n",
       "      <td>бого'в</td>\n",
       "      <td>бога'м</td>\n",
       "      <td>бого'в</td>\n",
       "      <td>бога'ми</td>\n",
       "      <td>бога'х</td>\n",
       "    </tr>\n",
       "    <tr>\n",
       "      <th>82</th>\n",
       "      <td>старик</td>\n",
       "      <td>стари'к</td>\n",
       "      <td>old man</td>\n",
       "      <td>der Alte, alter Mann</td>\n",
       "      <td>m</td>\n",
       "      <td>старуха</td>\n",
       "      <td>1.0</td>\n",
       "      <td>0.0</td>\n",
       "      <td>0.0</td>\n",
       "      <td>0.0</td>\n",
       "      <td>...</td>\n",
       "      <td>старику'</td>\n",
       "      <td>старика'</td>\n",
       "      <td>старико'м</td>\n",
       "      <td>старике'</td>\n",
       "      <td>старики'</td>\n",
       "      <td>старико'в</td>\n",
       "      <td>старика'м</td>\n",
       "      <td>старико'в</td>\n",
       "      <td>старика'ми</td>\n",
       "      <td>старика'х</td>\n",
       "    </tr>\n",
       "    <tr>\n",
       "      <th>90</th>\n",
       "      <td>начальник</td>\n",
       "      <td>нача'льник</td>\n",
       "      <td>head, chief, superior, boss</td>\n",
       "      <td>Chef, der Vorgesetzte, Leiter</td>\n",
       "      <td>m</td>\n",
       "      <td>начальница</td>\n",
       "      <td>1.0</td>\n",
       "      <td>0.0</td>\n",
       "      <td>0.0</td>\n",
       "      <td>0.0</td>\n",
       "      <td>...</td>\n",
       "      <td>нача'льнику</td>\n",
       "      <td>нача'льника</td>\n",
       "      <td>нача'льником</td>\n",
       "      <td>нача'льнике</td>\n",
       "      <td>нача'льники</td>\n",
       "      <td>нача'льников</td>\n",
       "      <td>нача'льникам</td>\n",
       "      <td>нача'льников</td>\n",
       "      <td>нача'льниками</td>\n",
       "      <td>нача'льниках</td>\n",
       "    </tr>\n",
       "    <tr>\n",
       "      <th>132</th>\n",
       "      <td>немец</td>\n",
       "      <td>не'мец</td>\n",
       "      <td>German; German man</td>\n",
       "      <td>der Deutsche</td>\n",
       "      <td>m</td>\n",
       "      <td>немка</td>\n",
       "      <td>1.0</td>\n",
       "      <td>0.0</td>\n",
       "      <td>0.0</td>\n",
       "      <td>0.0</td>\n",
       "      <td>...</td>\n",
       "      <td>не'мцу</td>\n",
       "      <td>не'мца</td>\n",
       "      <td>не'мцем</td>\n",
       "      <td>не'мце</td>\n",
       "      <td>не'мцы</td>\n",
       "      <td>не'мцев</td>\n",
       "      <td>не'мцам</td>\n",
       "      <td>не'мцев</td>\n",
       "      <td>не'мцами</td>\n",
       "      <td>не'мцах</td>\n",
       "    </tr>\n",
       "    <tr>\n",
       "      <th>146</th>\n",
       "      <td>гость</td>\n",
       "      <td>гость</td>\n",
       "      <td>visitor, guest</td>\n",
       "      <td>Gast</td>\n",
       "      <td>m</td>\n",
       "      <td>гостья</td>\n",
       "      <td>1.0</td>\n",
       "      <td>0.0</td>\n",
       "      <td>0.0</td>\n",
       "      <td>0.0</td>\n",
       "      <td>...</td>\n",
       "      <td>го'стю</td>\n",
       "      <td>го'стя</td>\n",
       "      <td>го'стем</td>\n",
       "      <td>го'сте</td>\n",
       "      <td>го'сти</td>\n",
       "      <td>госте'й</td>\n",
       "      <td>гостя'м</td>\n",
       "      <td>госте'й</td>\n",
       "      <td>гостя'ми</td>\n",
       "      <td>гостя'х</td>\n",
       "    </tr>\n",
       "  </tbody>\n",
       "</table>\n",
       "<p>5 rows × 22 columns</p>\n",
       "</div>"
      ],
      "text/plain": [
       "          bare    accented              translations_en  \\\n",
       "65         бог         бог                     God, god   \n",
       "82      старик     стари'к                      old man   \n",
       "90   начальник  нача'льник  head, chief, superior, boss   \n",
       "132      немец      не'мец           German; German man   \n",
       "146      гость       гость               visitor, guest   \n",
       "\n",
       "                   translations_de gender     partner  animate  indeclinable  \\\n",
       "65                            Gott      m      богиня      1.0           0.0   \n",
       "82            der Alte, alter Mann      m     старуха      1.0           0.0   \n",
       "90   Chef, der Vorgesetzte, Leiter      m  начальница      1.0           0.0   \n",
       "132                   der Deutsche      m       немка      1.0           0.0   \n",
       "146                           Gast      m      гостья      1.0           0.0   \n",
       "\n",
       "     sg_only  pl_only      ...            sg_dat       sg_acc       sg_inst  \\\n",
       "65       0.0      0.0      ...             бо'гу        бо'га        бо'гом   \n",
       "82       0.0      0.0      ...          старику'     старика'     старико'м   \n",
       "90       0.0      0.0      ...       нача'льнику  нача'льника  нача'льником   \n",
       "132      0.0      0.0      ...            не'мцу       не'мца       не'мцем   \n",
       "146      0.0      0.0      ...            го'стю       го'стя       го'стем   \n",
       "\n",
       "         sg_prep       pl_nom        pl_gen        pl_dat        pl_acc  \\\n",
       "65         бо'ге        бо'ги        бого'в        бога'м        бого'в   \n",
       "82      старике'     старики'     старико'в     старика'м     старико'в   \n",
       "90   нача'льнике  нача'льники  нача'льников  нача'льникам  нача'льников   \n",
       "132       не'мце       не'мцы       не'мцев       не'мцам       не'мцев   \n",
       "146       го'сте       го'сти       госте'й       гостя'м       госте'й   \n",
       "\n",
       "           pl_inst       pl_prep  \n",
       "65         бога'ми        бога'х  \n",
       "82      старика'ми     старика'х  \n",
       "90   нача'льниками  нача'льниках  \n",
       "132       не'мцами       не'мцах  \n",
       "146       гостя'ми       гостя'х  \n",
       "\n",
       "[5 rows x 22 columns]"
      ]
     },
     "execution_count": 253,
     "metadata": {},
     "output_type": "execute_result"
    }
   ],
   "source": [
    "import pandas as pd\n",
    "verbs='/pi/nlp/russian-dictionary/nouns.csv'\n",
    "df=pd.read_csv(verbs, delimiter = '\\t')\n",
    "df[df['partner'].notnull()].head()"
   ]
  },
  {
   "cell_type": "code",
   "execution_count": 255,
   "metadata": {
    "ExecuteTime": {
     "end_time": "2019-06-30T13:57:40.074433Z",
     "start_time": "2019-06-30T13:57:39.965525Z"
    }
   },
   "outputs": [
    {
     "data": {
      "text/html": [
       "<div>\n",
       "<style scoped>\n",
       "    .dataframe tbody tr th:only-of-type {\n",
       "        vertical-align: middle;\n",
       "    }\n",
       "\n",
       "    .dataframe tbody tr th {\n",
       "        vertical-align: top;\n",
       "    }\n",
       "\n",
       "    .dataframe thead th {\n",
       "        text-align: right;\n",
       "    }\n",
       "</style>\n",
       "<table border=\"1\" class=\"dataframe\">\n",
       "  <thead>\n",
       "    <tr style=\"text-align: right;\">\n",
       "      <th></th>\n",
       "      <th>bare</th>\n",
       "      <th>accented</th>\n",
       "      <th>translations_en</th>\n",
       "      <th>translations_de</th>\n",
       "      <th>gender</th>\n",
       "      <th>partner</th>\n",
       "      <th>animate</th>\n",
       "      <th>indeclinable</th>\n",
       "      <th>sg_only</th>\n",
       "      <th>pl_only</th>\n",
       "      <th>...</th>\n",
       "      <th>sg_dat</th>\n",
       "      <th>sg_acc</th>\n",
       "      <th>sg_inst</th>\n",
       "      <th>sg_prep</th>\n",
       "      <th>pl_nom</th>\n",
       "      <th>pl_gen</th>\n",
       "      <th>pl_dat</th>\n",
       "      <th>pl_acc</th>\n",
       "      <th>pl_inst</th>\n",
       "      <th>pl_prep</th>\n",
       "    </tr>\n",
       "  </thead>\n",
       "  <tbody>\n",
       "    <tr>\n",
       "      <th>2249</th>\n",
       "      <td>Канада</td>\n",
       "      <td>Кана'да</td>\n",
       "      <td>Canada</td>\n",
       "      <td>Kanada</td>\n",
       "      <td>f</td>\n",
       "      <td>NaN</td>\n",
       "      <td>NaN</td>\n",
       "      <td>0.0</td>\n",
       "      <td>1.0</td>\n",
       "      <td>0.0</td>\n",
       "      <td>...</td>\n",
       "      <td>Кана'де</td>\n",
       "      <td>Кана'ду</td>\n",
       "      <td>Кана'дой, Кана'дою</td>\n",
       "      <td>Кана'де</td>\n",
       "      <td>NaN</td>\n",
       "      <td>NaN</td>\n",
       "      <td>NaN</td>\n",
       "      <td>NaN</td>\n",
       "      <td>NaN</td>\n",
       "      <td>NaN</td>\n",
       "    </tr>\n",
       "  </tbody>\n",
       "</table>\n",
       "<p>1 rows × 22 columns</p>\n",
       "</div>"
      ],
      "text/plain": [
       "        bare accented translations_en translations_de gender partner  animate  \\\n",
       "2249  Канада  Кана'да          Canada          Kanada      f     NaN      NaN   \n",
       "\n",
       "      indeclinable  sg_only  pl_only   ...     sg_dat   sg_acc  \\\n",
       "2249           0.0      1.0      0.0   ...    Кана'де  Кана'ду   \n",
       "\n",
       "                 sg_inst  sg_prep pl_nom pl_gen pl_dat pl_acc pl_inst pl_prep  \n",
       "2249  Кана'дой, Кана'дою  Кана'де    NaN    NaN    NaN    NaN     NaN     NaN  \n",
       "\n",
       "[1 rows x 22 columns]"
      ]
     },
     "execution_count": 255,
     "metadata": {},
     "output_type": "execute_result"
    }
   ],
   "source": [
    "def search_en(word_pat):\n",
    "    return df[df['translations_en'].str.contains(word_pat, flags=re.IGNORECASE, regex=True, na=False)]\n",
    "rs_words=search_en('canada')\n",
    "rs_words"
   ]
  },
  {
   "cell_type": "code",
   "execution_count": 256,
   "metadata": {
    "ExecuteTime": {
     "end_time": "2019-06-30T13:58:15.444306Z",
     "start_time": "2019-06-30T13:58:15.429268Z"
    }
   },
   "outputs": [
    {
     "name": "stdout",
     "output_type": "stream",
     "text": [
      "['Canada']\n"
     ]
    }
   ],
   "source": [
    "for index, row in rs_words.iterrows():\n",
    "    if pd.notnull(row['translations_en']):\n",
    "        en_words=row['translations_en'].split(', ')\n",
    "        print(en_words)"
   ]
  },
  {
   "cell_type": "code",
   "execution_count": 200,
   "metadata": {
    "ExecuteTime": {
     "end_time": "2019-06-27T09:37:51.623039Z",
     "start_time": "2019-06-27T09:37:51.575306Z"
    }
   },
   "outputs": [
    {
     "name": "stdout",
     "output_type": "stream",
     "text": [
      "['bare', 'partner', 'imperative_sg', 'imperative_pl', 'past_m', 'past_f', 'past_n', 'past_pl', 'presfut_sg1', 'presfut_sg2', 'presfut_sg3', 'presfut_pl1', 'presfut_pl2', 'presfut_pl3']\n",
      "[\n",
      "  {\n",
      "    \"en\": [\n",
      "      \"thank\"\n",
      "    ],\n",
      "    \"ru\": [\n",
      "      \"благодарил\",\n",
      "      \"отблагодарить\",\n",
      "      \"благодарили\",\n",
      "      \"благодарим\",\n",
      "      \"благодарить\",\n",
      "      \"благодарите\",\n",
      "      \"благодарила\",\n",
      "      \"благодарю\",\n",
      "      \"благодаришь\",\n",
      "      \"благодарят\",\n",
      "      \"благодарило\",\n",
      "      \"поблагодарить\",\n",
      "      \"благодари\",\n",
      "      \"благодарит\"\n",
      "    ],\n",
      "    \"de\": [\n",
      "      \"danken\",\n",
      "      \"sich bedanken für\"\n",
      "    ]\n",
      "  },\n",
      "  {\n",
      "    \"en\": [\n",
      "      \"value\",\n",
      "      \"estimate\",\n",
      "      \"appreciate\"\n",
      "    ],\n",
      "    \"ru\": [\n",
      "      \"оценить\",\n",
      "      \"цените\",\n",
      "      \"ценили\",\n",
      "      \"ценил\",\n",
      "      \"ценю\",\n",
      "      \"ценишь\",\n",
      "      \"ценим\",\n",
      "      \"ценило\",\n",
      "      \"ценит\",\n",
      "      \"ценила\",\n",
      "      \"ценить\",\n",
      "      \"ценят\",\n",
      "      \"цени\"\n",
      "    ],\n",
      "    \"de\": [\n",
      "      \"schätzen\",\n",
      "      \"würdigen\"\n",
      "    ]\n",
      "  },\n",
      "  {\n",
      "    \"en\": [\n",
      "      \"thank\"\n",
      "    ],\n",
      "    \"ru\": [\n",
      "      \"поблагодари\",\n",
      "      \"поблагодарила\",\n",
      "      \"благодарить\",\n",
      "      \"поблагодаришь\",\n",
      "      \"поблагодарят\",\n",
      "      \"поблагодарит\",\n",
      "      \"поблагодарите\",\n",
      "      \"поблагодарил\",\n",
      "      \"поблагодарили\",\n",
      "      \"поблагодарим\",\n",
      "      \"поблагодарить\",\n",
      "      \"поблагодарю\",\n",
      "      \"поблагодарило\"\n",
      "    ],\n",
      "    \"de\": [\n",
      "      \"danken\",\n",
      "      \"sich bedanken\"\n",
      "    ]\n",
      "  },\n",
      "  {\n",
      "    \"en\": [\n",
      "      \"render thanks\"\n",
      "    ],\n",
      "    \"ru\": [\n",
      "      \"возблагодарит\",\n",
      "      \"возблагодари\",\n",
      "      \"возблагодаришь\",\n",
      "      \"возблагодарить\",\n",
      "      \"возблагодарил\",\n",
      "      \"возблагодарю\",\n",
      "      \"возблагодарите\",\n",
      "      \"возблагодарят\",\n",
      "      \"возблагодарим\",\n",
      "      \"возблагодарило\",\n",
      "      \"возблагодарили\",\n",
      "      \"возблагодарила\"\n",
      "    ],\n",
      "    \"de\": [\n",
      "      \"sich bedanken\"\n",
      "    ]\n",
      "  }\n",
      "]\n"
     ]
    }
   ],
   "source": [
    "cols='bare\tpartner\timperative_sg\timperative_pl\tpast_m\tpast_f\tpast_n\tpast_pl\tpresfut_sg1\tpresfut_sg2\tpresfut_sg3\tpresfut_pl1\tpresfut_pl2\tpresfut_pl3'\n",
    "cols_list=cols.split('\\t')\n",
    "print(cols_list)\n",
    "\n",
    "def process_ru_cols(row, cols_list):\n",
    "    rs=set([])\n",
    "    for col in cols_list:\n",
    "        if pd.notnull(row[col]):\n",
    "            rs.update(row[col].replace(\"'\",'').split(';'))\n",
    "    return list(rs)\n",
    "def add_to(rs_df, all_dicts, cols_list):\n",
    "    for index, row in rs_df.iterrows():\n",
    "        if pd.notnull(row['translations_en']):\n",
    "            ru_word=row['bare']\n",
    "            en_words=row['translations_en'].split(', ')\n",
    "            if pd.notnull(row['translations_de']):\n",
    "                de_words=row['translations_de'].split(', ')\n",
    "            else:\n",
    "                de_words=[]\n",
    "            all_dicts.append({'en':en_words, \n",
    "                              'ru':process_ru_cols(row, cols_list),\n",
    "                              'de':de_words\n",
    "                             })\n",
    "def print_json(obj):\n",
    "    print(json.dumps(obj, indent=2, ensure_ascii=False))\n",
    "    \n",
    "all_dicts=[]\n",
    "add_to(rs_df, all_dicts, cols_list)\n",
    "print_json(all_dicts)"
   ]
  },
  {
   "cell_type": "code",
   "execution_count": 239,
   "metadata": {
    "ExecuteTime": {
     "end_time": "2019-06-29T20:40:47.967318Z",
     "start_time": "2019-06-29T20:40:47.873214Z"
    }
   },
   "outputs": [
    {
     "data": {
      "text/plain": [
       "[{'de': ['danken', 'sich bedanken für'],\n",
       "  'en': ['thank'],\n",
       "  'ru': ['благодарил',\n",
       "   'отблагодарить',\n",
       "   'благодарили',\n",
       "   'благодарим',\n",
       "   'благодарить',\n",
       "   'благодарите',\n",
       "   'благодарила',\n",
       "   'благодарю',\n",
       "   'благодаришь',\n",
       "   'благодарят',\n",
       "   'благодарило',\n",
       "   'поблагодарить',\n",
       "   'благодари',\n",
       "   'благодарит']},\n",
       " {'de': ['danken', 'sich bedanken'],\n",
       "  'en': ['thank'],\n",
       "  'ru': ['поблагодари',\n",
       "   'поблагодарила',\n",
       "   'благодарить',\n",
       "   'поблагодаришь',\n",
       "   'поблагодарят',\n",
       "   'поблагодарит',\n",
       "   'поблагодарите',\n",
       "   'поблагодарил',\n",
       "   'поблагодарили',\n",
       "   'поблагодарим',\n",
       "   'поблагодарить',\n",
       "   'поблагодарю',\n",
       "   'поблагодарило']},\n",
       " {'de': ['schätzen', 'würdigen'],\n",
       "  'en': ['value', 'estimate', 'appreciate'],\n",
       "  'ru': ['оценить',\n",
       "   'цените',\n",
       "   'ценили',\n",
       "   'ценил',\n",
       "   'ценю',\n",
       "   'ценишь',\n",
       "   'ценим',\n",
       "   'ценило',\n",
       "   'ценит',\n",
       "   'ценила',\n",
       "   'ценить',\n",
       "   'ценят',\n",
       "   'цени']}]"
      ]
     },
     "execution_count": 239,
     "metadata": {},
     "output_type": "execute_result"
    }
   ],
   "source": [
    "def filter_set(all_dicts, ru_word_set, lang='ru', absents=None):\n",
    "    rs=[]\n",
    "    for word in ru_word_set:\n",
    "        word=word.lower()\n",
    "        find_it=False\n",
    "        for item in all_dicts:\n",
    "            if word in item[lang]:\n",
    "                rs.append(item)\n",
    "                find_it=True\n",
    "        if absents is not None and not find_it:\n",
    "            absents.append(word)            \n",
    "    return rs\n",
    "\n",
    "skips=[]\n",
    "filter_set(all_dicts, ['благодарить', 'ценил', 'nob'], 'ru', skips)"
   ]
  },
  {
   "cell_type": "code",
   "execution_count": 240,
   "metadata": {
    "ExecuteTime": {
     "end_time": "2019-06-29T20:40:52.122960Z",
     "start_time": "2019-06-29T20:40:52.112982Z"
    }
   },
   "outputs": [
    {
     "name": "stdout",
     "output_type": "stream",
     "text": [
      "1 ['nob']\n"
     ]
    }
   ],
   "source": [
    "print(len(skips), skips)"
   ]
  },
  {
   "cell_type": "code",
   "execution_count": 210,
   "metadata": {
    "ExecuteTime": {
     "end_time": "2019-06-27T12:57:16.150667Z",
     "start_time": "2019-06-27T12:56:57.575558Z"
    }
   },
   "outputs": [
    {
     "name": "stdout",
     "output_type": "stream",
     "text": [
      "process /pi/nlp/russian-dictionary/verbs.csv\n",
      "process /pi/nlp/russian-dictionary/nouns.csv\n",
      "process /pi/nlp/russian-dictionary/adjectives.csv\n",
      "process /pi/nlp/russian-dictionary/others.csv\n",
      "total 44747\n"
     ]
    }
   ],
   "source": [
    "all_dicts=[]\n",
    "# dict_maps={'v':'verbs', 'n':'nouns', 'a':'adjectives', 'o':'others'}\n",
    "dict_maps={'verbs':cols_list,\n",
    "           'nouns':'bare\tpartner\tsg_nom\tsg_gen\tsg_dat\tsg_acc\tsg_inst\tsg_prep\tpl_nom\tpl_gen\tpl_dat\tpl_acc\tpl_inst\tpl_prep'.split('\\t'),\n",
    "           'adjectives':'bare\tcomparative\tsuperlative\tshort_m\tshort_f\tshort_n\tshort_pl\tdecl_m_nom\tdecl_m_gen\tdecl_m_dat\tdecl_m_acc\tdecl_m_inst\tdecl_m_prep\tdecl_f_nom\tdecl_f_gen\tdecl_f_dat\tdecl_f_acc\tdecl_f_inst\tdecl_f_prep\tdecl_n_nom\tdecl_n_gen\tdecl_n_dat\tdecl_n_acc\tdecl_n_inst\tdecl_n_prep\tdecl_pl_nom\tdecl_pl_gen\tdecl_pl_dat\tdecl_pl_acc\tdecl_pl_inst\tdecl_pl_prep'.split('\\t'),\n",
    "           'others':'bare'.split('\\t'),           \n",
    "          }\n",
    "for dict_name, cols in dict_maps.items():\n",
    "    verbs = '/pi/nlp/russian-dictionary/%s.csv'%dict_name\n",
    "    print('process', verbs)\n",
    "    df = pd.read_csv(verbs, delimiter='\\t')\n",
    "    add_to(df, all_dicts, cols)\n",
    "print('total', len(all_dicts))"
   ]
  },
  {
   "cell_type": "code",
   "execution_count": 211,
   "metadata": {
    "ExecuteTime": {
     "end_time": "2019-06-27T12:57:31.462372Z",
     "start_time": "2019-06-27T12:57:31.428905Z"
    }
   },
   "outputs": [
    {
     "name": "stdout",
     "output_type": "stream",
     "text": [
      "играть\n"
     ]
    },
    {
     "data": {
      "text/plain": [
       "[{'de': ['spielen', 'vorspielen', 'mitwirken'],\n",
       "  'en': ['play', 'act', 'perform', 'sparkle', 'toy', 'trifle'],\n",
       "  'ru': ['играем',\n",
       "   'сыграть',\n",
       "   'играете',\n",
       "   'играйте',\n",
       "   'играло',\n",
       "   'поиграть',\n",
       "   'играй',\n",
       "   'играла',\n",
       "   'играли',\n",
       "   'играть',\n",
       "   'играют',\n",
       "   'играю',\n",
       "   'играешь',\n",
       "   'играет',\n",
       "   'играл']},\n",
       " {'de': ['vorspielen'],\n",
       "  'en': ['play', 'act', 'perform', 'sparkle', 'toy', 'trifle'],\n",
       "  'ru': ['сыграй',\n",
       "   'сыграл',\n",
       "   'сыграть',\n",
       "   'сыграла',\n",
       "   'сыграют',\n",
       "   'сыграем',\n",
       "   'сыграете',\n",
       "   'играть',\n",
       "   'сыграю',\n",
       "   'сыграйте',\n",
       "   'сыграли',\n",
       "   'сыграет',\n",
       "   'сыграешь',\n",
       "   'сыграло']}]"
      ]
     },
     "execution_count": 211,
     "metadata": {},
     "output_type": "execute_result"
    }
   ],
   "source": [
    "print('играть'.lower())\n",
    "filter_set(all_dicts, ['играть'])"
   ]
  },
  {
   "cell_type": "code",
   "execution_count": 212,
   "metadata": {
    "ExecuteTime": {
     "end_time": "2019-06-27T12:57:37.718291Z",
     "start_time": "2019-06-27T12:57:37.682307Z"
    }
   },
   "outputs": [
    {
     "name": "stdout",
     "output_type": "stream",
     "text": [
      "какой\n"
     ]
    },
    {
     "data": {
      "text/plain": [
       "[{'de': ['welcher', 'was für', 'was für ein', 'welch'],\n",
       "  'en': ['what', 'how', 'which', 'what kind of'],\n",
       "  'ru': ['какие',\n",
       "   'каких',\n",
       "   'каким',\n",
       "   'какой,какого',\n",
       "   'какими',\n",
       "   'каком',\n",
       "   'какую',\n",
       "   'какое',\n",
       "   'какой',\n",
       "   'какого',\n",
       "   'какому',\n",
       "   'какие,каких',\n",
       "   'какой, какою',\n",
       "   'какая']}]"
      ]
     },
     "execution_count": 212,
     "metadata": {},
     "output_type": "execute_result"
    }
   ],
   "source": [
    "print('Какой'.lower())\n",
    "filter_set(all_dicts, ['Какой'])"
   ]
  },
  {
   "cell_type": "code",
   "execution_count": 214,
   "metadata": {
    "ExecuteTime": {
     "end_time": "2019-06-27T12:59:11.085348Z",
     "start_time": "2019-06-27T12:59:11.063307Z"
    }
   },
   "outputs": [
    {
     "data": {
      "text/plain": [
       "[{'de': ['Vogel'],\n",
       "  'en': ['bird'],\n",
       "  'ru': ['птицами',\n",
       "   'птицы',\n",
       "   'птицей, птицею',\n",
       "   'птицах',\n",
       "   'птиц',\n",
       "   'птицам',\n",
       "   'птице',\n",
       "   'птицу',\n",
       "   'птица']},\n",
       " {'de': ['Vogel-'],\n",
       "  'en': ['bird', 'avian', 'poultry'],\n",
       "  'ru': ['птичьем',\n",
       "   'птичьей',\n",
       "   'птичьего',\n",
       "   'птичью',\n",
       "   'птичьих,птичьи',\n",
       "   'птичьему',\n",
       "   'птичьими',\n",
       "   'птичья',\n",
       "   'птичьих',\n",
       "   'птичьего,птичий',\n",
       "   'птичье',\n",
       "   'птичьим',\n",
       "   'птичьи',\n",
       "   'птичьей,птичьею',\n",
       "   'птичий']}]"
      ]
     },
     "execution_count": 214,
     "metadata": {},
     "output_type": "execute_result"
    }
   ],
   "source": [
    "filter_set(all_dicts, ['bird'], 'en')"
   ]
  },
  {
   "cell_type": "code",
   "execution_count": 245,
   "metadata": {
    "ExecuteTime": {
     "end_time": "2019-06-30T13:48:43.198419Z",
     "start_time": "2019-06-30T13:48:42.816031Z"
    }
   },
   "outputs": [
    {
     "data": {
      "text/plain": [
       "[{'de': ['mit', 'und', 'von', 'aus', 'seit', 'ab', 'vor', 'etwa', 'ungefähr'],\n",
       "  'en': ['with',\n",
       "   'and',\n",
       "   'from',\n",
       "   'of',\n",
       "   'since',\n",
       "   'beginning from',\n",
       "   'in',\n",
       "   'on',\n",
       "   'at',\n",
       "   'the size of',\n",
       "   'about'],\n",
       "  'ru': ['с']}]"
      ]
     },
     "execution_count": 245,
     "metadata": {},
     "output_type": "execute_result"
    }
   ],
   "source": [
    "filter_set(all_dicts, ['С'], 'ru')"
   ]
  },
  {
   "cell_type": "code",
   "execution_count": 250,
   "metadata": {
    "ExecuteTime": {
     "end_time": "2019-06-30T13:53:42.658643Z",
     "start_time": "2019-06-30T13:53:42.627207Z"
    }
   },
   "outputs": [
    {
     "data": {
      "text/plain": [
       "[]"
      ]
     },
     "execution_count": 250,
     "metadata": {},
     "output_type": "execute_result"
    }
   ],
   "source": [
    "filter_set(all_dicts, ['Канада'], 'ru')"
   ]
  },
  {
   "cell_type": "code",
   "execution_count": 248,
   "metadata": {
    "ExecuteTime": {
     "end_time": "2019-06-30T13:50:12.612414Z",
     "start_time": "2019-06-30T13:50:12.583613Z"
    }
   },
   "outputs": [
    {
     "data": {
      "text/plain": [
       "[]"
      ]
     },
     "execution_count": 248,
     "metadata": {},
     "output_type": "execute_result"
    }
   ],
   "source": [
    "filter_set(all_dicts, ['canada'], 'en')"
   ]
  },
  {
   "cell_type": "code",
   "execution_count": 228,
   "metadata": {
    "ExecuteTime": {
     "end_time": "2019-06-27T14:10:41.261174Z",
     "start_time": "2019-06-27T14:10:41.252648Z"
    }
   },
   "outputs": [
    {
     "data": {
      "text/plain": [
       "44747"
      ]
     },
     "execution_count": 228,
     "metadata": {},
     "output_type": "execute_result"
    }
   ],
   "source": [
    "len(all_dicts)"
   ]
  },
  {
   "cell_type": "code",
   "execution_count": 226,
   "metadata": {
    "ExecuteTime": {
     "end_time": "2019-06-27T14:09:59.538300Z",
     "start_time": "2019-06-27T14:09:59.477540Z"
    }
   },
   "outputs": [
    {
     "data": {
      "text/plain": [
       "[]"
      ]
     },
     "execution_count": 226,
     "metadata": {},
     "output_type": "execute_result"
    }
   ],
   "source": [
    "filter_set(all_dicts, ['мы','нами'], 'ru')"
   ]
  },
  {
   "cell_type": "code",
   "execution_count": 227,
   "metadata": {
    "ExecuteTime": {
     "end_time": "2019-06-27T14:10:31.687880Z",
     "start_time": "2019-06-27T14:10:31.655421Z"
    }
   },
   "outputs": [
    {
     "data": {
      "text/plain": [
       "[]"
      ]
     },
     "execution_count": 227,
     "metadata": {},
     "output_type": "execute_result"
    }
   ],
   "source": [
    "filter_set(all_dicts, ['we','us'], 'en')"
   ]
  },
  {
   "cell_type": "code",
   "execution_count": 241,
   "metadata": {
    "ExecuteTime": {
     "end_time": "2019-06-29T20:42:51.254243Z",
     "start_time": "2019-06-29T20:42:23.865719Z"
    }
   },
   "outputs": [
    {
     "name": "stdout",
     "output_type": "stream",
     "text": [
      "done.\n",
      "absents 137\n"
     ]
    }
   ],
   "source": [
    "import json_utils\n",
    "voc_file='/pi/langs/voc/ru-voc.json'\n",
    "voc_dicts='/pi/langs/voc/ru-voc-dicts.json'\n",
    "words=json_utils.read_json_file(voc_file)\n",
    "skips=[]\n",
    "rs=filter_set(all_dicts, words, 'ru', skips)\n",
    "json_utils.write_json_to_file(voc_dicts, rs)\n",
    "print('done.')\n",
    "print('absents', len(skips))"
   ]
  },
  {
   "cell_type": "code",
   "execution_count": 243,
   "metadata": {
    "ExecuteTime": {
     "end_time": "2019-06-29T20:44:12.778182Z",
     "start_time": "2019-06-29T20:44:12.770635Z"
    }
   },
   "outputs": [],
   "source": [
    "json_utils.write_json_to_file('/pi/langs/voc/ru-voc-absents.json', skips)"
   ]
  },
  {
   "cell_type": "code",
   "execution_count": 223,
   "metadata": {
    "ExecuteTime": {
     "end_time": "2019-06-27T14:08:46.725438Z",
     "start_time": "2019-06-27T14:08:46.682038Z"
    }
   },
   "outputs": [
    {
     "data": {
      "text/plain": [
       "[{'de': ['mit', 'und', 'von', 'aus', 'seit', 'ab', 'vor', 'etwa', 'ungefähr'],\n",
       "  'en': ['with',\n",
       "   'and',\n",
       "   'from',\n",
       "   'of',\n",
       "   'since',\n",
       "   'beginning from',\n",
       "   'in',\n",
       "   'on',\n",
       "   'at',\n",
       "   'the size of',\n",
       "   'about'],\n",
       "  'ru': ['с']},\n",
       " {'de': ['mit', 'und', 'von', 'aus', 'seit', 'ab', 'vor', 'etwa', 'ungefähr'],\n",
       "  'en': ['with',\n",
       "   'and',\n",
       "   'from',\n",
       "   'of',\n",
       "   'since',\n",
       "   'beginning from',\n",
       "   'in',\n",
       "   'on',\n",
       "   'at',\n",
       "   'the size of',\n",
       "   'about'],\n",
       "  'ru': ['с']}]"
      ]
     },
     "execution_count": 223,
     "metadata": {},
     "output_type": "execute_result"
    }
   ],
   "source": [
    "voc_words=json_utils.read_json_file(voc_dicts)\n",
    "filter_set(voc_words, ['С'], 'ru')"
   ]
  },
  {
   "cell_type": "code",
   "execution_count": 225,
   "metadata": {
    "ExecuteTime": {
     "end_time": "2019-06-27T14:09:42.110079Z",
     "start_time": "2019-06-27T14:09:42.101994Z"
    }
   },
   "outputs": [
    {
     "data": {
      "text/plain": [
       "[]"
      ]
     },
     "execution_count": 225,
     "metadata": {},
     "output_type": "execute_result"
    }
   ],
   "source": [
    "filter_set(voc_words, ['мы','нами'], 'ru')"
   ]
  },
  {
   "cell_type": "code",
   "execution_count": 219,
   "metadata": {
    "ExecuteTime": {
     "end_time": "2019-06-27T13:31:39.934013Z",
     "start_time": "2019-06-27T13:31:39.906532Z"
    }
   },
   "outputs": [
    {
     "data": {
      "text/plain": [
       "[{'de': ['Mädchen'],\n",
       "  'en': ['girl', 'little girl', 'girlie'],\n",
       "  'ru': ['девочка',\n",
       "   'девочкам',\n",
       "   'девочками',\n",
       "   'девочек',\n",
       "   'девочках',\n",
       "   'девочки',\n",
       "   'девочкой, девочкою',\n",
       "   'девочке',\n",
       "   'девочку']},\n",
       " {'de': ['Mädchen'],\n",
       "  'en': ['girl', 'little girl', 'girlie'],\n",
       "  'ru': ['девочка',\n",
       "   'девочкам',\n",
       "   'девочками',\n",
       "   'девочек',\n",
       "   'девочках',\n",
       "   'девочки',\n",
       "   'девочкой, девочкою',\n",
       "   'девочке',\n",
       "   'девочку']},\n",
       " {'de': ['Mädchen'],\n",
       "  'en': ['girl', 'little girl', 'girlie'],\n",
       "  'ru': ['девочка',\n",
       "   'девочкам',\n",
       "   'девочками',\n",
       "   'девочек',\n",
       "   'девочках',\n",
       "   'девочки',\n",
       "   'девочкой, девочкою',\n",
       "   'девочке',\n",
       "   'девочку']},\n",
       " {'de': ['Mädchen'],\n",
       "  'en': ['girl', 'little girl', 'girlie'],\n",
       "  'ru': ['девочка',\n",
       "   'девочкам',\n",
       "   'девочками',\n",
       "   'девочек',\n",
       "   'девочках',\n",
       "   'девочки',\n",
       "   'девочкой, девочкою',\n",
       "   'девочке',\n",
       "   'девочку']},\n",
       " {'de': ['Mädchen', 'Fräulein', 'junge Frau; Partnerin', 'Freundin'],\n",
       "  'en': ['girl', 'lass', 'miss'],\n",
       "  'ru': ['девушке',\n",
       "   'девушках',\n",
       "   'девушку',\n",
       "   'девушками',\n",
       "   'девушкам',\n",
       "   'девушка',\n",
       "   'девушкой, девушкою',\n",
       "   'девушек',\n",
       "   'девушки']},\n",
       " {'de': ['Mädchen'],\n",
       "  'en': ['girl', 'little girl', 'girlie'],\n",
       "  'ru': ['девочка',\n",
       "   'девочкам',\n",
       "   'девочками',\n",
       "   'девочек',\n",
       "   'девочках',\n",
       "   'девочки',\n",
       "   'девочкой, девочкою',\n",
       "   'девочке',\n",
       "   'девочку']},\n",
       " {'de': ['Mädchen'],\n",
       "  'en': ['girl', 'little girl', 'girlie'],\n",
       "  'ru': ['девочка',\n",
       "   'девочкам',\n",
       "   'девочками',\n",
       "   'девочек',\n",
       "   'девочках',\n",
       "   'девочки',\n",
       "   'девочкой, девочкою',\n",
       "   'девочке',\n",
       "   'девочку']},\n",
       " {'de': ['Mädchen'],\n",
       "  'en': ['girl', 'little girl', 'girlie'],\n",
       "  'ru': ['девочка',\n",
       "   'девочкам',\n",
       "   'девочками',\n",
       "   'девочек',\n",
       "   'девочках',\n",
       "   'девочки',\n",
       "   'девочкой, девочкою',\n",
       "   'девочке',\n",
       "   'девочку']},\n",
       " {'de': ['Mädchen', 'Fräulein', 'junge Frau; Partnerin', 'Freundin'],\n",
       "  'en': ['girl', 'lass', 'miss'],\n",
       "  'ru': ['девушке',\n",
       "   'девушках',\n",
       "   'девушку',\n",
       "   'девушками',\n",
       "   'девушкам',\n",
       "   'девушка',\n",
       "   'девушкой, девушкою',\n",
       "   'девушек',\n",
       "   'девушки']}]"
      ]
     },
     "execution_count": 219,
     "metadata": {},
     "output_type": "execute_result"
    }
   ],
   "source": [
    "filter_set(voc_words, ['girl'], 'en')"
   ]
  },
  {
   "cell_type": "code",
   "execution_count": 221,
   "metadata": {
    "ExecuteTime": {
     "end_time": "2019-06-27T14:04:31.269040Z",
     "start_time": "2019-06-27T14:04:31.219103Z"
    }
   },
   "outputs": [
    {
     "name": "stdout",
     "output_type": "stream",
     "text": [
      "1396\n",
      "4911\n"
     ]
    }
   ],
   "source": [
    "print(len(voc_words))\n",
    "rs=[]\n",
    "for w in voc_words:\n",
    "    for en_w in w['en']:\n",
    "        ru_w=' '.join(w['ru']).replace(',','')\n",
    "        rs.append('%s %s'%(norm_key(en_w), ru_w))\n",
    "print(len(rs))"
   ]
  },
  {
   "cell_type": "code",
   "execution_count": 222,
   "metadata": {
    "ExecuteTime": {
     "end_time": "2019-06-27T14:05:33.483352Z",
     "start_time": "2019-06-27T14:05:33.460929Z"
    }
   },
   "outputs": [],
   "source": [
    "clipboard.copy('\\n'.join(rs))"
   ]
  },
  {
   "cell_type": "code",
   "execution_count": 244,
   "metadata": {
    "ExecuteTime": {
     "end_time": "2019-06-29T21:03:40.083713Z",
     "start_time": "2019-06-29T21:03:40.074412Z"
    }
   },
   "outputs": [
    {
     "data": {
      "text/plain": [
       "['x', 'y', 'z']"
      ]
     },
     "execution_count": 244,
     "metadata": {},
     "output_type": "execute_result"
    }
   ],
   "source": [
    "['x']+['y','z']"
   ]
  }
 ],
 "metadata": {
  "kernelspec": {
   "display_name": "Python 3",
   "language": "python",
   "name": "python3"
  },
  "language_info": {
   "codemirror_mode": {
    "name": "ipython",
    "version": 3
   },
   "file_extension": ".py",
   "mimetype": "text/x-python",
   "name": "python",
   "nbconvert_exporter": "python",
   "pygments_lexer": "ipython3",
   "version": "3.6.4"
  },
  "varInspector": {
   "cols": {
    "lenName": 16,
    "lenType": 16,
    "lenVar": 40
   },
   "kernels_config": {
    "python": {
     "delete_cmd_postfix": "",
     "delete_cmd_prefix": "del ",
     "library": "var_list.py",
     "varRefreshCmd": "print(var_dic_list())"
    },
    "r": {
     "delete_cmd_postfix": ") ",
     "delete_cmd_prefix": "rm(",
     "library": "var_list.r",
     "varRefreshCmd": "cat(var_dic_list()) "
    }
   },
   "types_to_exclude": [
    "module",
    "function",
    "builtin_function_or_method",
    "instance",
    "_Feature"
   ],
   "window_display": false
  }
 },
 "nbformat": 4,
 "nbformat_minor": 2
}
