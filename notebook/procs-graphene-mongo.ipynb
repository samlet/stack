{
 "cells": [
  {
   "cell_type": "code",
   "execution_count": 2,
   "metadata": {
    "ExecuteTime": {
     "end_time": "2020-03-07T19:24:31.824144Z",
     "start_time": "2020-03-07T19:24:31.814911Z"
    }
   },
   "outputs": [],
   "source": [
    "import graphene\n",
    "from graphene.relay import Node\n",
    "from graphene_mongo import MongoengineConnectionField, MongoengineObjectType\n"
   ]
  },
  {
   "cell_type": "code",
   "execution_count": 14,
   "metadata": {
    "ExecuteTime": {
     "end_time": "2020-03-07T19:31:34.402923Z",
     "start_time": "2020-03-07T19:31:34.346462Z"
    }
   },
   "outputs": [
    {
     "name": "stdout",
     "output_type": "stream",
     "text": [
      "{\n",
      "  \"allEmployees\": {\n",
      "    \"edges\": [\n",
      "      {\n",
      "        \"node\": {\n",
      "          \"id\": \"RW1wbG95ZWU6NWU2M2Y1NDc3YjEwZjFkNzM1YzE2ZDEx\",\n",
      "          \"name\": \"Peter\",\n",
      "          \"department\": {\n",
      "            \"id\": \"RGVwYXJ0bWVudDo1ZTYzZjU0NzdiMTBmMWQ3MzVjMTZkMGQ=\",\n",
      "            \"name\": \"Engineering\"\n",
      "          },\n",
      "          \"role\": {\n",
      "            \"id\": \"Um9sZTo1ZTYzZjU0NzdiMTBmMWQ3MzVjMTZkMTA=\",\n",
      "            \"name\": \"engineer\"\n",
      "          }\n",
      "        }\n",
      "      },\n",
      "      {\n",
      "        \"node\": {\n",
      "          \"id\": \"RW1wbG95ZWU6NWU2M2Y1NDc3YjEwZjFkNzM1YzE2ZDEy\",\n",
      "          \"name\": \"Roy\",\n",
      "          \"department\": {\n",
      "            \"id\": \"RGVwYXJ0bWVudDo1ZTYzZjU0NzdiMTBmMWQ3MzVjMTZkMGQ=\",\n",
      "            \"name\": \"Engineering\"\n",
      "          },\n",
      "          \"role\": {\n",
      "            \"id\": \"Um9sZTo1ZTYzZjU0NzdiMTBmMWQ3MzVjMTZkMTA=\",\n",
      "            \"name\": \"engineer\"\n",
      "          }\n",
      "        }\n",
      "      },\n",
      "      {\n",
      "        \"node\": {\n",
      "          \"id\": \"RW1wbG95ZWU6NWU2M2Y1NDc3YjEwZjFkNzM1YzE2ZDEz\",\n",
      "          \"name\": \"Tracy\",\n",
      "          \"department\": {\n",
      "            \"id\": \"RGVwYXJ0bWVudDo1ZTYzZjU0NzdiMTBmMWQ3MzVjMTZkMGU=\",\n",
      "            \"name\": \"Human Resources\"\n",
      "          },\n",
      "          \"role\": {\n",
      "            \"id\": \"Um9sZTo1ZTYzZjU0NzdiMTBmMWQ3MzVjMTZkMGY=\",\n",
      "            \"name\": \"manager\"\n",
      "          }\n",
      "        }\n",
      "      }\n",
      "    ]\n",
      "  }\n",
      "}\n"
     ]
    }
   ],
   "source": [
    "from sagas.tests.graphene.models.models import Department as DepartmentModel\n",
    "from sagas.tests.graphene.models.models import Employee as EmployeeModel\n",
    "from sagas.tests.graphene.models.models import Role as RoleModel\n",
    "from pprint import pprint\n",
    "import json\n",
    "\n",
    "class Department(MongoengineObjectType):\n",
    "\n",
    "    class Meta:\n",
    "        model = DepartmentModel\n",
    "        interfaces = (Node,)\n",
    "\n",
    "\n",
    "class Role(MongoengineObjectType):\n",
    "\n",
    "    class Meta:\n",
    "        model = RoleModel\n",
    "        interfaces = (Node,)\n",
    "\n",
    "\n",
    "class Employee(MongoengineObjectType):\n",
    "\n",
    "    class Meta:\n",
    "        model = EmployeeModel\n",
    "        interfaces = (Node,)\n",
    "\n",
    "\n",
    "class Query(graphene.ObjectType):\n",
    "    node = Node.Field()\n",
    "    all_employees = MongoengineConnectionField(Employee)\n",
    "    all_role = MongoengineConnectionField(Role)\n",
    "    role = graphene.Field(Role)\n",
    "\n",
    "schema = graphene.Schema(query=Query, types=[Department, Employee, Role])\n",
    "\n",
    "default_query = '''\n",
    "{\n",
    "  allEmployees {\n",
    "    edges {\n",
    "      node {\n",
    "        id,\n",
    "        name,\n",
    "        department {\n",
    "          id,\n",
    "          name\n",
    "        },\n",
    "        role {\n",
    "          id,\n",
    "          name\n",
    "        }\n",
    "      }\n",
    "    }\n",
    "  }\n",
    "}'''.strip()\n",
    "result = schema.execute(default_query)\n",
    "print(json.dumps(result.data, indent=2))"
   ]
  },
  {
   "cell_type": "code",
   "execution_count": 6,
   "metadata": {
    "ExecuteTime": {
     "end_time": "2020-03-07T19:25:59.724387Z",
     "start_time": "2020-03-07T19:25:59.705627Z"
    }
   },
   "outputs": [],
   "source": [
    "from mongoengine import connect\n",
    "from sagas.tests.graphene.models.models import *\n",
    "\n",
    "# You can connect to a real mongo server instance by your own.\n",
    "connect('graphene-mongo-example', host='mongomock://localhost', alias='default')\n",
    "\n",
    "\n",
    "def init_db():\n",
    "    # Create the fixtures\n",
    "    engineering = Department(name='Engineering')\n",
    "    engineering.save()\n",
    "\n",
    "    hr = Department(name='Human Resources')\n",
    "    hr.save()\n",
    "\n",
    "    manager = Role(name='manager')\n",
    "    manager.save()\n",
    "\n",
    "    engineer = Role(name='engineer')\n",
    "    engineer.save()\n",
    "\n",
    "    peter = Employee(name='Peter', department=engineering, role=engineer)\n",
    "    peter.save()\n",
    "\n",
    "    roy = Employee(name='Roy', department=engineering, role=engineer)\n",
    "    roy.save()\n",
    "\n",
    "    tracy = Employee(name='Tracy', department=hr, role=manager)\n",
    "    tracy.save()\n",
    "    \n",
    "init_db()"
   ]
  },
  {
   "cell_type": "code",
   "execution_count": null,
   "metadata": {},
   "outputs": [],
   "source": []
  }
 ],
 "metadata": {
  "kernelspec": {
   "display_name": "Python 3",
   "language": "python",
   "name": "python3"
  },
  "language_info": {
   "codemirror_mode": {
    "name": "ipython",
    "version": 3
   },
   "file_extension": ".py",
   "mimetype": "text/x-python",
   "name": "python",
   "nbconvert_exporter": "python",
   "pygments_lexer": "ipython3",
   "version": "3.6.6"
  },
  "varInspector": {
   "cols": {
    "lenName": 16,
    "lenType": 16,
    "lenVar": 40
   },
   "kernels_config": {
    "python": {
     "delete_cmd_postfix": "",
     "delete_cmd_prefix": "del ",
     "library": "var_list.py",
     "varRefreshCmd": "print(var_dic_list())"
    },
    "r": {
     "delete_cmd_postfix": ") ",
     "delete_cmd_prefix": "rm(",
     "library": "var_list.r",
     "varRefreshCmd": "cat(var_dic_list()) "
    }
   },
   "types_to_exclude": [
    "module",
    "function",
    "builtin_function_or_method",
    "instance",
    "_Feature"
   ],
   "window_display": false
  }
 },
 "nbformat": 4,
 "nbformat_minor": 2
}
