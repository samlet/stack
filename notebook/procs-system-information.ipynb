{
 "cells": [
  {
   "cell_type": "code",
   "execution_count": 5,
   "metadata": {
    "ExecuteTime": {
     "end_time": "2019-06-17T07:21:25.497661Z",
     "start_time": "2019-06-17T07:21:25.479962Z"
    }
   },
   "outputs": [
    {
     "name": "stdout",
     "output_type": "stream",
     "text": [
      "Name: samlets-MacBook-Pro.local\n",
      "FQDN: samlets-MacBook-Pro.local\n",
      "System Platform: darwin\n",
      "Machine: x86_64\n",
      "Node samlets-MacBook-Pro.local\n",
      "Platform: Darwin-17.7.0-x86_64-i386-64bit\n",
      "Pocessor: i386\n",
      "System OS: Darwin\n",
      "Release: 17.7.0\n",
      "Version: Darwin Kernel Version 17.7.0: Wed Apr 24 21:17:24 PDT 2019; root:xnu-4570.71.45~1/RELEASE_X86_64\n"
     ]
    }
   ],
   "source": [
    "import socket\n",
    "import os \n",
    "import sys\n",
    "import platform\n",
    "# import psutil\n",
    "import uuid\n",
    "\n",
    "print (\"Name: \" +socket.gethostname() )\n",
    "print (\"FQDN: \" +socket.getfqdn())\n",
    "print (\"System Platform: \"+sys.platform)\n",
    "print (\"Machine: \" +platform.machine())\n",
    "print (\"Node \" +platform.node())\n",
    "print (\"Platform: \"+platform.platform())\n",
    "print (\"Pocessor: \" +platform.processor())\n",
    "print (\"System OS: \"+platform.system())\n",
    "print (\"Release: \" +platform.release())\n",
    "print (\"Version: \" +platform.version())\n",
    "# print (\"Number of CPUs: \" +str(psutil.cpu_count()) )\n",
    "# print (\"Number of Physical CPUs: \" +str(psutil.cpu_count(logical=False)))\n"
   ]
  },
  {
   "cell_type": "code",
   "execution_count": 6,
   "metadata": {
    "ExecuteTime": {
     "end_time": "2019-06-17T07:22:13.077368Z",
     "start_time": "2019-06-17T07:22:13.055145Z"
    }
   },
   "outputs": [
    {
     "data": {
      "text/plain": [
       "uname_result(system='Darwin', node='samlets-MacBook-Pro.local', release='17.7.0', version='Darwin Kernel Version 17.7.0: Wed Apr 24 21:17:24 PDT 2019; root:xnu-4570.71.45~1/RELEASE_X86_64', machine='x86_64', processor='i386')"
      ]
     },
     "execution_count": 6,
     "metadata": {},
     "output_type": "execute_result"
    }
   ],
   "source": [
    ">>> import platform\n",
    ">>> platform.uname()"
   ]
  },
  {
   "cell_type": "code",
   "execution_count": 7,
   "metadata": {
    "ExecuteTime": {
     "end_time": "2019-06-17T07:22:24.369408Z",
     "start_time": "2019-06-17T07:22:24.361640Z"
    }
   },
   "outputs": [
    {
     "data": {
      "text/plain": [
       "'Darwin'"
      ]
     },
     "execution_count": 7,
     "metadata": {},
     "output_type": "execute_result"
    }
   ],
   "source": [
    ">>> platform.uname()[0]"
   ]
  },
  {
   "cell_type": "code",
   "execution_count": 8,
   "metadata": {
    "ExecuteTime": {
     "end_time": "2019-06-17T07:22:39.367472Z",
     "start_time": "2019-06-17T07:22:39.358637Z"
    }
   },
   "outputs": [
    {
     "data": {
      "text/plain": [
       "'Darwin'"
      ]
     },
     "execution_count": 8,
     "metadata": {},
     "output_type": "execute_result"
    }
   ],
   "source": [
    ">>> platform.uname().system"
   ]
  },
  {
   "cell_type": "code",
   "execution_count": 9,
   "metadata": {
    "ExecuteTime": {
     "end_time": "2019-06-17T07:22:52.255428Z",
     "start_time": "2019-06-17T07:22:52.249906Z"
    }
   },
   "outputs": [
    {
     "data": {
      "text/plain": [
       "'Darwin'"
      ]
     },
     "execution_count": 9,
     "metadata": {},
     "output_type": "execute_result"
    }
   ],
   "source": [
    ">>> platform.system()"
   ]
  },
  {
   "cell_type": "code",
   "execution_count": 10,
   "metadata": {
    "ExecuteTime": {
     "end_time": "2019-06-17T07:22:58.822308Z",
     "start_time": "2019-06-17T07:22:58.816379Z"
    }
   },
   "outputs": [
    {
     "data": {
      "text/plain": [
       "'17.7.0'"
      ]
     },
     "execution_count": 10,
     "metadata": {},
     "output_type": "execute_result"
    }
   ],
   "source": [
    ">>> platform.release()"
   ]
  },
  {
   "cell_type": "code",
   "execution_count": 12,
   "metadata": {
    "ExecuteTime": {
     "end_time": "2019-06-17T07:23:31.171229Z",
     "start_time": "2019-06-17T07:23:31.162930Z"
    }
   },
   "outputs": [
    {
     "name": "stderr",
     "output_type": "stream",
     "text": [
      "/Users/xiaofeiwu/miniconda3/envs/rasa_1x/lib/python3.7/site-packages/ipykernel_launcher.py:1: DeprecationWarning: dist() and linux_distribution() functions are deprecated in Python 3.5\n",
      "  \"\"\"Entry point for launching an IPython kernel.\n"
     ]
    },
    {
     "data": {
      "text/plain": [
       "('', '', '')"
      ]
     },
     "execution_count": 12,
     "metadata": {},
     "output_type": "execute_result"
    }
   ],
   "source": [
    ">>> platform.linux_distribution()"
   ]
  },
  {
   "cell_type": "code",
   "execution_count": 13,
   "metadata": {
    "ExecuteTime": {
     "end_time": "2019-06-17T07:23:36.984679Z",
     "start_time": "2019-06-17T07:23:36.976378Z"
    }
   },
   "outputs": [
    {
     "data": {
      "text/plain": [
       "('SuSE',\n",
       " 'debian',\n",
       " 'fedora',\n",
       " 'redhat',\n",
       " 'centos',\n",
       " 'mandrake',\n",
       " 'mandriva',\n",
       " 'rocks',\n",
       " 'slackware',\n",
       " 'yellowdog',\n",
       " 'gentoo',\n",
       " 'UnitedLinux',\n",
       " 'turbolinux',\n",
       " 'arch',\n",
       " 'mageia')"
      ]
     },
     "execution_count": 13,
     "metadata": {},
     "output_type": "execute_result"
    }
   ],
   "source": [
    ">>> platform._supported_dists"
   ]
  },
  {
   "cell_type": "code",
   "execution_count": 14,
   "metadata": {
    "ExecuteTime": {
     "end_time": "2019-06-17T07:32:00.534993Z",
     "start_time": "2019-06-17T07:32:00.491960Z"
    }
   },
   "outputs": [
    {
     "data": {
      "text/plain": [
       "('64bit', '')"
      ]
     },
     "execution_count": 14,
     "metadata": {},
     "output_type": "execute_result"
    }
   ],
   "source": [
    ">>> platform.architecture()"
   ]
  },
  {
   "cell_type": "code",
   "execution_count": 15,
   "metadata": {
    "ExecuteTime": {
     "end_time": "2019-06-17T07:32:16.592491Z",
     "start_time": "2019-06-17T07:32:16.573918Z"
    }
   },
   "outputs": [
    {
     "data": {
      "text/plain": [
       "('64bit', '')"
      ]
     },
     "execution_count": 15,
     "metadata": {},
     "output_type": "execute_result"
    }
   ],
   "source": [
    ">>> platform.architecture(executable='/usr/bin/ls')"
   ]
  }
 ],
 "metadata": {
  "kernelspec": {
   "display_name": "Python 3",
   "language": "python",
   "name": "python3"
  },
  "language_info": {
   "codemirror_mode": {
    "name": "ipython",
    "version": 3
   },
   "file_extension": ".py",
   "mimetype": "text/x-python",
   "name": "python",
   "nbconvert_exporter": "python",
   "pygments_lexer": "ipython3",
   "version": "3.7.3"
  },
  "varInspector": {
   "cols": {
    "lenName": 16,
    "lenType": 16,
    "lenVar": 40
   },
   "kernels_config": {
    "python": {
     "delete_cmd_postfix": "",
     "delete_cmd_prefix": "del ",
     "library": "var_list.py",
     "varRefreshCmd": "print(var_dic_list())"
    },
    "r": {
     "delete_cmd_postfix": ") ",
     "delete_cmd_prefix": "rm(",
     "library": "var_list.r",
     "varRefreshCmd": "cat(var_dic_list()) "
    }
   },
   "types_to_exclude": [
    "module",
    "function",
    "builtin_function_or_method",
    "instance",
    "_Feature"
   ],
   "window_display": false
  }
 },
 "nbformat": 4,
 "nbformat_minor": 2
}
