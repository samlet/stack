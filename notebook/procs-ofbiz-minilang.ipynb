{
 "cells": [
  {
   "cell_type": "code",
   "execution_count": 1,
   "metadata": {
    "ExecuteTime": {
     "end_time": "2019-02-01T09:38:13.420907Z",
     "start_time": "2019-02-01T09:38:13.409673Z"
    }
   },
   "outputs": [
    {
     "name": "stdout",
     "output_type": "stream",
     "text": [
      "<h1>Hello world!</h1>\n"
     ]
    }
   ],
   "source": [
    "from yattag import Doc\n",
    "\n",
    "doc, tag, text = Doc().tagtext()\n",
    "\n",
    "with tag('h1'):\n",
    "    text('Hello world!')\n",
    "\n",
    "print(doc.getvalue())"
   ]
  },
  {
   "cell_type": "code",
   "execution_count": 2,
   "metadata": {
    "ExecuteTime": {
     "end_time": "2019-02-01T09:38:41.625932Z",
     "start_time": "2019-02-01T09:38:41.622063Z"
    }
   },
   "outputs": [],
   "source": [
    "with tag('icecream', id = '2', flavour = 'pistachio'):\n",
    "    text(\"This is really delicious.\")"
   ]
  },
  {
   "cell_type": "code",
   "execution_count": 3,
   "metadata": {
    "ExecuteTime": {
     "end_time": "2019-02-01T09:39:00.424466Z",
     "start_time": "2019-02-01T09:39:00.420042Z"
    }
   },
   "outputs": [
    {
     "name": "stdout",
     "output_type": "stream",
     "text": [
      "<h1>Hello world!</h1><icecream id=\"2\" flavour=\"pistachio\">This is really delicious.</icecream>\n"
     ]
    }
   ],
   "source": [
    "print(doc.getvalue())"
   ]
  },
  {
   "cell_type": "code",
   "execution_count": 4,
   "metadata": {
    "ExecuteTime": {
     "end_time": "2019-02-01T09:39:58.649473Z",
     "start_time": "2019-02-01T09:39:58.640120Z"
    }
   },
   "outputs": [
    {
     "name": "stdout",
     "output_type": "stream",
     "text": [
      "<!DOCTYPE html><html><body>Hello world!</body></html>\n"
     ]
    }
   ],
   "source": [
    "from yattag import Doc\n",
    "\n",
    "doc, tag, text = Doc().tagtext()\n",
    "\n",
    "doc.asis('<!DOCTYPE html>')\n",
    "with tag('html'):\n",
    "    with tag('body'):\n",
    "        text('Hello world!')\n",
    "\n",
    "print(doc.getvalue())"
   ]
  },
  {
   "cell_type": "code",
   "execution_count": 16,
   "metadata": {
    "ExecuteTime": {
     "end_time": "2019-02-01T09:48:20.909531Z",
     "start_time": "2019-02-01T09:48:20.901296Z"
    }
   },
   "outputs": [
    {
     "name": "stdout",
     "output_type": "stream",
     "text": [
      "<simple-method result-name=\"x\"><set></set></simple-method>\n"
     ]
    }
   ],
   "source": [
    "from yattag import Doc\n",
    "doc, tag, text = Doc().tagtext()\n",
    "with tag('simple-method', (\"result-name\", \"x\")):\n",
    "    # doc.attr((\"result-name\", \"x\"))\n",
    "    with tag('set'):\n",
    "        pass\n",
    "\n",
    "print(doc.getvalue())"
   ]
  },
  {
   "cell_type": "code",
   "execution_count": 39,
   "metadata": {
    "ExecuteTime": {
     "end_time": "2019-02-01T11:38:32.895480Z",
     "start_time": "2019-02-01T11:38:32.885051Z"
    }
   },
   "outputs": [
    {
     "name": "stdout",
     "output_type": "stream",
     "text": [
      "<simple-method name=\"testFieldToResult\"><set field=\"resultValue\" value=\"someResultValue\" /><set field=\"result1\" value=\"dynamicResultName\" /><field-to-result field=\"resultValue\" result-name=\"constantResultName\" /><field-to-result field=\"resultValue\" result-name=\"${result1}\" /></simple-method>\n"
     ]
    }
   ],
   "source": [
    "from yattag import Doc\n",
    "doc, tag, text = Doc().tagtext()\n",
    "with tag('simple-method', name='testFieldToResult'):\n",
    "    doc.stag('set', field='resultValue', value='someResultValue')\n",
    "    doc.stag('set', field='result1', value='dynamicResultName')\n",
    "    doc.stag('field-to-result', ('field', 'resultValue'), ('result-name', 'constantResultName'))\n",
    "    doc.stag('field-to-result', ('field', 'resultValue'), ('result-name', '${result1}'))\n",
    "\n",
    "print(doc.getvalue())"
   ]
  },
  {
   "cell_type": "code",
   "execution_count": 41,
   "metadata": {
    "ExecuteTime": {
     "end_time": "2019-02-01T11:41:05.353966Z",
     "start_time": "2019-02-01T11:41:05.330436Z"
    }
   },
   "outputs": [
    {
     "name": "stdout",
     "output_type": "stream",
     "text": [
      "<simple-method name=\"testFieldToResult\">\r\n",
      "    <set field=\"resultValue\" value=\"someResultValue\" />\r\n",
      "    <set field=\"result1\" value=\"dynamicResultName\" />\r\n",
      "    <field-to-result field=\"resultValue\" result-name=\"constantResultName\" />\r\n",
      "</simple-method>\n"
     ]
    }
   ],
   "source": [
    "def set_fields(doc, **kwargs):\n",
    "    for key, value in kwargs.items():\n",
    "        doc.stag('set', field=key, value=value)\n",
    "def field_to_result(doc, **kwargs):\n",
    "    for key, value in kwargs.items():\n",
    "        doc.stag('field-to-result', ('field', key), ('result-name', value))\n",
    "\n",
    "def print_doc(doc):\n",
    "    from yattag import indent\n",
    "\n",
    "    result = indent(\n",
    "        doc.getvalue(),\n",
    "        indentation = '    ',\n",
    "        newline = '\\r\\n',\n",
    "        indent_text = True\n",
    "    )\n",
    "    print(result)\n",
    "\n",
    "doc, tag, text = Doc().tagtext()\n",
    "with tag('simple-method', name='testFieldToResult'):\n",
    "    set_fields(doc, resultValue='someResultValue', \n",
    "             result1='dynamicResultName')\n",
    "    field_to_result(doc, resultValue='constantResultName')\n",
    "\n",
    "print_doc(doc)"
   ]
  },
  {
   "cell_type": "code",
   "execution_count": 37,
   "metadata": {
    "ExecuteTime": {
     "end_time": "2019-02-01T11:38:25.036227Z",
     "start_time": "2019-02-01T11:38:25.018503Z"
    }
   },
   "outputs": [],
   "source": [
    "from yattag import Doc\n",
    "from yattag import indent\n",
    "class MinilangProc(object):\n",
    "    def __init__(self, oc, name):\n",
    "        self.oc=oc\n",
    "        self.name=name\n",
    "        self.doc, self.tag, self.text = Doc().tagtext()\n",
    "    def set_fields(self, **kwargs):\n",
    "        for key, value in kwargs.items():\n",
    "            self.doc.stag('set', field=key, value=value)\n",
    "    def field_to_result(self, **kwargs):\n",
    "        for key, value in kwargs.items():\n",
    "            self.doc.stag('field-to-result', ('field', key), ('result-name', value))\n",
    "    def desc(self):\n",
    "        # with self.tag('simple-method', name='testFieldToResult'):            \n",
    "        result = indent(\n",
    "            self.doc.getvalue(),\n",
    "            indentation = '    ',\n",
    "            newline = '\\r\\n',\n",
    "            indent_text = True\n",
    "        )\n",
    "        print(result)"
   ]
  },
  {
   "cell_type": "code",
   "execution_count": 38,
   "metadata": {
    "ExecuteTime": {
     "end_time": "2019-02-01T11:38:27.255330Z",
     "start_time": "2019-02-01T11:38:27.249451Z"
    }
   },
   "outputs": [
    {
     "name": "stdout",
     "output_type": "stream",
     "text": [
      "<set field=\"resultValue\" value=\"someResultValue\" />\r\n",
      "<set field=\"result1\" value=\"dynamicResultName\" />\r\n",
      "<field-to-result field=\"resultValue\" result-name=\"constantResultName\" />\n"
     ]
    }
   ],
   "source": [
    "ml=MinilangProc(oc, \"testFieldToResult\")\n",
    "ml.set_fields(resultValue='someResultValue', \n",
    "             result1='dynamicResultName')\n",
    "ml.field_to_result(resultValue='constantResultName')\n",
    "ml.desc()"
   ]
  },
  {
   "cell_type": "code",
   "execution_count": 25,
   "metadata": {
    "ExecuteTime": {
     "end_time": "2019-02-01T10:00:34.114610Z",
     "start_time": "2019-02-01T10:00:34.095601Z"
    }
   },
   "outputs": [
    {
     "name": "stdout",
     "output_type": "stream",
     "text": [
      "<simple-method name=\"testFieldToResult\">\r\n",
      "    <set field=\"resultValue\" value=\"someResultValue\" />\r\n",
      "    <set field=\"result1\" value=\"dynamicResultName\" />\r\n",
      "    <field-to-result field=\"resultValue\" result-name=\"constantResultName\" />\r\n",
      "    <field-to-result field=\"resultValue\" result-name=\"${result1}\" />\r\n",
      "</simple-method>\n"
     ]
    }
   ],
   "source": [
    "from yattag import indent\n",
    "\n",
    "result = indent(\n",
    "    doc.getvalue(),\n",
    "    indentation = '    ',\n",
    "    newline = '\\r\\n',\n",
    "    indent_text = True\n",
    ")\n",
    "print(result)"
   ]
  },
  {
   "cell_type": "code",
   "execution_count": 1,
   "metadata": {
    "ExecuteTime": {
     "end_time": "2019-02-01T17:53:47.985800Z",
     "start_time": "2019-02-01T17:53:47.445682Z"
    }
   },
   "outputs": [],
   "source": [
    "from py4j.java_gateway import java_import\n",
    "from sagas.ofbiz.runtime_context import platform\n",
    "\n",
    "oc = platform.oc\n",
    "finder = platform.finder\n",
    "helper = platform.helper"
   ]
  },
  {
   "cell_type": "code",
   "execution_count": 28,
   "metadata": {
    "ExecuteTime": {
     "end_time": "2019-02-01T11:14:30.914494Z",
     "start_time": "2019-02-01T11:14:30.894674Z"
    }
   },
   "outputs": [
    {
     "name": "stdout",
     "output_type": "stream",
     "text": [
      "{'userLoginId': 'system'}\n"
     ]
    }
   ],
   "source": [
    "java_import(oc.j, 'com.sagas.generic.*')\n",
    "director=oc.j.MiniLangDirector(oc.dispatcher)\n",
    "ctx=director.createServiceMethodContext()\n",
    "user=ctx.getUserLogin()\n",
    "print(user)"
   ]
  },
  {
   "cell_type": "code",
   "execution_count": 29,
   "metadata": {
    "ExecuteTime": {
     "end_time": "2019-02-01T11:15:58.456573Z",
     "start_time": "2019-02-01T11:15:58.437441Z"
    }
   },
   "outputs": [
    {
     "name": "stdout",
     "output_type": "stream",
     "text": [
      "success\n"
     ]
    }
   ],
   "source": [
    "invoker=director.createSimpleMethod(doc.getvalue())\n",
    "result=invoker.exec(ctx)\n",
    "print(result)"
   ]
  },
  {
   "cell_type": "code",
   "execution_count": 31,
   "metadata": {
    "ExecuteTime": {
     "end_time": "2019-02-01T11:17:41.149050Z",
     "start_time": "2019-02-01T11:17:41.141189Z"
    }
   },
   "outputs": [
    {
     "name": "stdout",
     "output_type": "stream",
     "text": [
      "success\n",
      "someResultValue\n"
     ]
    }
   ],
   "source": [
    "print(invoker.getDefaultSuccessCode())\n",
    "print(ctx.getResult('constantResultName'))"
   ]
  },
  {
   "cell_type": "code",
   "execution_count": 42,
   "metadata": {
    "ExecuteTime": {
     "end_time": "2019-02-01T11:42:54.214481Z",
     "start_time": "2019-02-01T11:42:54.193047Z"
    }
   },
   "outputs": [
    {
     "name": "stdout",
     "output_type": "stream",
     "text": [
      "success\n"
     ]
    }
   ],
   "source": [
    "method_xml='''\n",
    "<simple-method name=\"testFieldToResult\">\n",
    "    <set field=\"resultValue\" value=\"someResultValue\" />\n",
    "    <set field=\"result1\" value=\"dynamicResultName\" />\n",
    "    <field-to-result field=\"resultValue\" result-name=\"constantResultName\" />\n",
    "    <field-to-result field=\"resultValue\" result-name=\"${result1}\" />\n",
    "</simple-method>\n",
    "'''\n",
    "invoker=director.createSimpleMethod(method_xml)\n",
    "result=invoker.exec(ctx)\n",
    "print(result)"
   ]
  },
  {
   "cell_type": "code",
   "execution_count": null,
   "metadata": {},
   "outputs": [],
   "source": []
  }
 ],
 "metadata": {
  "kernelspec": {
   "display_name": "Python 3",
   "language": "python",
   "name": "python3"
  },
  "language_info": {
   "codemirror_mode": {
    "name": "ipython",
    "version": 3
   },
   "file_extension": ".py",
   "mimetype": "text/x-python",
   "name": "python",
   "nbconvert_exporter": "python",
   "pygments_lexer": "ipython3",
   "version": "3.6.4"
  },
  "varInspector": {
   "cols": {
    "lenName": 16,
    "lenType": 16,
    "lenVar": 40
   },
   "kernels_config": {
    "python": {
     "delete_cmd_postfix": "",
     "delete_cmd_prefix": "del ",
     "library": "var_list.py",
     "varRefreshCmd": "print(var_dic_list())"
    },
    "r": {
     "delete_cmd_postfix": ") ",
     "delete_cmd_prefix": "rm(",
     "library": "var_list.r",
     "varRefreshCmd": "cat(var_dic_list()) "
    }
   },
   "types_to_exclude": [
    "module",
    "function",
    "builtin_function_or_method",
    "instance",
    "_Feature"
   ],
   "window_display": false
  }
 },
 "nbformat": 4,
 "nbformat_minor": 2
}
