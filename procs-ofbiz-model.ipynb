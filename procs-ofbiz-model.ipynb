{
 "cells": [
  {
   "cell_type": "code",
   "execution_count": 1,
   "metadata": {
    "ExecuteTime": {
     "end_time": "2019-02-16T09:07:25.155790Z",
     "start_time": "2019-02-16T09:07:24.855588Z"
    },
    "scrolled": true
   },
   "outputs": [
    {
     "name": "stdout",
     "output_type": "stream",
     "text": [
      "TESTING_NODE Testing Node None\n",
      "+---------------------+-------------+------------------------+\n",
      "| name                | type        | string                 |\n",
      "|---------------------+-------------+------------------------|\n",
      "| description         | description | DESCRIPTION            |\n",
      "| testingNodeId       | id          | TESTING_NODE_ID        |\n",
      "| primaryParentNodeId | id          | PRIMARY_PARENT_NODE_ID |\n",
      "+---------------------+-------------+------------------------+\n",
      "+-------------------+--------+--------------------------+\n",
      "| name              | type   | string                   |\n",
      "|-------------------+--------+--------------------------|\n",
      "| TestingNode       | one    | PrimaryParentTestingNode |\n",
      "| TestingNode       | many   | PrimaryChildTestingNode  |\n",
      "| TestingNodeMember | many   | TestingNodeMember        |\n",
      "+-------------------+--------+--------------------------+\n"
     ]
    }
   ],
   "source": [
    "from sagas.ofbiz.builder import oc, finder, desc_model, abbrev\n",
    "desc_model(\"TestingNode\", False)"
   ]
  },
  {
   "cell_type": "code",
   "execution_count": 2,
   "metadata": {
    "ExecuteTime": {
     "end_time": "2019-02-16T09:07:27.679914Z",
     "start_time": "2019-02-16T09:07:27.627012Z"
    }
   },
   "outputs": [
    {
     "name": "stdout",
     "output_type": "stream",
     "text": [
      "PRODUCT_PRICE Product Price None\n",
      "+------------------------+------------------+-----------------------------+\n",
      "| name                   | type             | string                      |\n",
      "|------------------------+------------------+-----------------------------|\n",
      "| taxInPrice             | indicator        | TAX_IN_PRICE                |\n",
      "| termUomId              | id               | TERM_UOM_ID                 |\n",
      "| priceWithTax           | currency-precise | PRICE_WITH_TAX              |\n",
      "| productStoreGroupId    | id               | PRODUCT_STORE_GROUP_ID      |\n",
      "| taxAuthPartyId         | id               | TAX_AUTH_PARTY_ID           |\n",
      "| lastModifiedByUserLo.. | id-vlong         | LAST_MODIFIED_BY_USER_LOG.. |\n",
      "| customPriceCalcServi.. | id               | CUSTOM_PRICE_CALC_SERVICE   |\n",
      "| price                  | currency-precise | PRICE                       |\n",
      "| taxAuthGeoId           | id               | TAX_AUTH_GEO_ID             |\n",
      "| productPricePurposeI.. | id               | PRODUCT_PRICE_PURPOSE_ID    |\n",
      "| createdByUserLogin     | id-vlong         | CREATED_BY_USER_LOGIN       |\n",
      "| productId              | id               | PRODUCT_ID                  |\n",
      "| lastModifiedDate       | date-time        | LAST_MODIFIED_DATE          |\n",
      "| taxPercentage          | fixed-point      | TAX_PERCENTAGE              |\n",
      "| thruDate               | date-time        | THRU_DATE                   |\n",
      "| fromDate               | date-time        | FROM_DATE                   |\n",
      "| currencyUomId          | id               | CURRENCY_UOM_ID             |\n",
      "| createdDate            | date-time        | CREATED_DATE                |\n",
      "| priceWithoutTax        | currency-precise | PRICE_WITHOUT_TAX           |\n",
      "| taxAmount              | currency-precise | TAX_AMOUNT                  |\n",
      "| productPriceTypeId     | id               | PRODUCT_PRICE_TYPE_ID       |\n",
      "+------------------------+------------------+-----------------------------+\n",
      "+---------------------+--------+-------------------------+\n",
      "| name                | type   | string                  |\n",
      "|---------------------+--------+-------------------------|\n",
      "| Product             | one    | Product                 |\n",
      "| ProductPriceType    | one    | ProductPriceType        |\n",
      "| ProductPricePurpose | one    | ProductPricePurpose     |\n",
      "| Uom                 | one    | CurrencyUom             |\n",
      "| Uom                 | one    | TermUom                 |\n",
      "| ProductStoreGroup   | one    | ProductStoreGroup       |\n",
      "| CustomMethod        | one    | CustomMethod            |\n",
      "| Party               | one    | TaxAuthorityParty       |\n",
      "| Geo                 | one    | TaxAuthorityGeo         |\n",
      "| UserLogin           | one    | CreatedByUserLogin      |\n",
      "| UserLogin           | one    | LastModifiedByUserLogin |\n",
      "| ProductPriceChange  | many   | ProductPriceChange      |\n",
      "+---------------------+--------+-------------------------+\n"
     ]
    }
   ],
   "source": [
    "desc_model(\"ProductPrice\", False)"
   ]
  },
  {
   "cell_type": "code",
   "execution_count": 8,
   "metadata": {
    "ExecuteTime": {
     "end_time": "2019-01-24T16:45:49.994572Z",
     "start_time": "2019-01-24T16:45:49.988578Z"
    }
   },
   "outputs": [],
   "source": [
    "group_name=oc.delegator.getEntityGroupName(\"SaMovie\")\n",
    "helper_info=oc.delegator.getGroupHelperInfo(group_name)"
   ]
  },
  {
   "cell_type": "code",
   "execution_count": 14,
   "metadata": {
    "ExecuteTime": {
     "end_time": "2019-01-24T16:52:11.235700Z",
     "start_time": "2019-01-24T16:52:10.953168Z"
    }
   },
   "outputs": [
    {
     "name": "stdout",
     "output_type": "stream",
     "text": [
      "Deleting table for entity [SaMovieGenresAppl]\n",
      "Deleting table for entity [SaMovie]\n",
      "Deleting table for entity [SaMovieGenres]\n"
     ]
    }
   ],
   "source": [
    "oc.import_package('org.apache.ofbiz.entity.jdbc.*')\n",
    "\n",
    "def delete_table(entity_name):\n",
    "    msgs=oc.jlist()\n",
    "    util=oc.j.DatabaseUtil(helper_info)\n",
    "    ent = oc.delegator.getModelEntity(entity_name)\n",
    "    util.deleteTable(ent, msgs)\n",
    "    if len(msgs)>0:\n",
    "        for msg in msgs:\n",
    "            print(msg)\n",
    "    else:\n",
    "        print('ok')\n",
    "\n",
    "entity_names=['SaMovieGenresAppl', 'SaMovie', 'SaMovieGenres']\n",
    "for entity in entity_names:\n",
    "    delete_table(entity)"
   ]
  },
  {
   "cell_type": "code",
   "execution_count": 1,
   "metadata": {
    "ExecuteTime": {
     "end_time": "2019-02-02T17:44:32.687521Z",
     "start_time": "2019-02-02T17:44:32.381670Z"
    }
   },
   "outputs": [
    {
     "data": {
      "text/plain": [
       "{'softIdentifier': None, 'createdStamp': JavaObject id=o23782, 'binNumber': None, 'oldAvailableToPromise': None, 'quantityOnHandTotal': Decimal('8.000000'), 'datetimeManufactured': None, 'expireDate': None, 'oldQuantityOnHand': None, 'partyId': None, 'containerId': None, 'availableToPromiseTotal': Decimal('8.000000'), 'inventoryItemTypeId': 'NON_SERIAL_INV_ITEM', 'locationSeqId': None, 'lastUpdatedStamp': JavaObject id=o23783, 'facilityId': 'WebStoreWarehouse', 'comments': None, 'serialNumber': None, 'productId': 'GZ-1006-4', 'createdTxStamp': JavaObject id=o23784, 'lastUpdatedTxStamp': JavaObject id=o23785, 'lotId': None, 'uomId': None, 'accountingQuantityTotal': Decimal('8.000000'), 'inventoryItemId': '9024', 'ownerPartyId': 'Company', 'activationValidThru': None, 'activationNumber': None, 'currencyUomId': 'USD', 'statusId': None, 'unitCost': Decimal('2.400000'), 'fixedAssetId': None, 'datetimeReceived': JavaObject id=o23786}"
      ]
     },
     "execution_count": 1,
     "metadata": {},
     "output_type": "execute_result"
    }
   ],
   "source": [
    "from sagas.ofbiz.services import OfService, MetaService\n",
    "from sagas.ofbiz.entities import MetaEntity\n",
    "\n",
    "MetaEntity(\"InventoryItem\").record('9024')"
   ]
  },
  {
   "cell_type": "code",
   "execution_count": 2,
   "metadata": {
    "ExecuteTime": {
     "end_time": "2019-02-02T17:51:33.625984Z",
     "start_time": "2019-02-02T17:51:33.619323Z"
    }
   },
   "outputs": [
    {
     "name": "stdout",
     "output_type": "stream",
     "text": [
      "Product\n"
     ]
    }
   ],
   "source": [
    "method='createProduct'\n",
    "print(method[6:])"
   ]
  },
  {
   "cell_type": "code",
   "execution_count": 28,
   "metadata": {
    "ExecuteTime": {
     "end_time": "2019-02-02T18:16:50.908771Z",
     "start_time": "2019-02-02T18:16:50.772827Z"
    }
   },
   "outputs": [
    {
     "data": {
      "text/plain": [
       "{'lastUpdatedStamp': JavaObject id=o24155, 'createdTxStamp': JavaObject id=o24156, 'createdStamp': JavaObject id=o24157, 'lastUpdatedTxStamp': JavaObject id=o24158, 'productTypeId': 'Test_type_2'}"
      ]
     },
     "execution_count": 28,
     "metadata": {},
     "output_type": "execute_result"
    }
   ],
   "source": [
    "from sagas.ofbiz.runtime_context import platform\n",
    "oc=platform.oc\n",
    "finder=platform.finder\n",
    "\n",
    "class OfEntity(object):\n",
    "    _name = None\n",
    "    _fields = {}  # {field: field object}\n",
    "\n",
    "    def __init__(self):\n",
    "        super(OfEntity, self).__init__()\n",
    "        \n",
    "    def __getattr__(cls, method):\n",
    "        \"\"\"Provide a dynamic access to a CRUD method.\"\"\"\n",
    "        if method.startswith('_'):\n",
    "            return super(OfEntity, cls).__getattr__(method)\n",
    "\n",
    "        def entity_method(*args, **kwargs):\n",
    "            \"\"\"Return the result of the service request.\"\"\"\n",
    "            # check args with runSync/runSyncIgnore/...\n",
    "            params = oc.jmap(**kwargs)            \n",
    "            result=None\n",
    "            if method.startswith('create'):\n",
    "                entity=method[6:]\n",
    "                result = oc.delegator.create(entity, params)\n",
    "            elif method.startswith('store'):\n",
    "                entity=method[5:]\n",
    "                val=oc.delegator.makeValue(entity, params)\n",
    "                result = oc.delegator.createOrStore(val)\n",
    "            elif method.startswith('remove'):\n",
    "                entity=method[6:]\n",
    "                pk=oc.delegator.makePK(entity, params)\n",
    "                result=oc.delegator.removeByPrimaryKey(pk)\n",
    "            elif method.startswith('get'):\n",
    "                entity=method[3:]\n",
    "                result=oc.delegator.findOne(entity, params, True)\n",
    "            elif method.startswith('query'):\n",
    "                entity=method[5:]\n",
    "                result=oc.delegator.findByAnd(entity, params, None, True)\n",
    "            elif method.startswith('list'):\n",
    "                entity=method[4:]\n",
    "                limit=10\n",
    "                offset=0\n",
    "                result=finder.find_list(entity, limit, offset)\n",
    "            elif method.startswith('all'):\n",
    "                entity=method[3:]\n",
    "                result=oc.delegator.findAll(entity, False)\n",
    "            return result\n",
    "\n",
    "        return entity_method\n",
    "\n",
    "    def __repr__(cls):\n",
    "        return \"OfEntity(%r)\" % (cls._name)\n",
    "\n",
    "OfEntity().createProductType(productTypeId=\"Test_type_2\")"
   ]
  },
  {
   "cell_type": "code",
   "execution_count": 20,
   "metadata": {
    "ExecuteTime": {
     "end_time": "2019-02-02T18:14:29.715022Z",
     "start_time": "2019-02-02T18:14:29.696440Z"
    }
   },
   "outputs": [
    {
     "data": {
      "text/plain": [
       "{'lastUpdatedStamp': JavaObject id=o23859, 'createdTxStamp': JavaObject id=o23860, 'createdStamp': JavaObject id=o23861, 'lastUpdatedTxStamp': JavaObject id=o23862, 'productTypeId': 'Test_type_2'}"
      ]
     },
     "execution_count": 20,
     "metadata": {},
     "output_type": "execute_result"
    }
   ],
   "source": [
    "OfEntity().storeProductType(productTypeId=\"Test_type_2\")"
   ]
  },
  {
   "cell_type": "code",
   "execution_count": 17,
   "metadata": {
    "ExecuteTime": {
     "end_time": "2019-02-02T18:13:35.017571Z",
     "start_time": "2019-02-02T18:13:35.003570Z"
    }
   },
   "outputs": [
    {
     "data": {
      "text/plain": [
       "{'lastUpdatedStamp': JavaObject id=o23843, 'isPhysical': None, 'parentTypeId': None, 'isDigital': None, 'hasTable': None, 'createdTxStamp': JavaObject id=o23844, 'createdStamp': JavaObject id=o23845, 'description': None, 'lastUpdatedTxStamp': JavaObject id=o23846, 'productTypeId': 'Test_type_2'}"
      ]
     },
     "execution_count": 17,
     "metadata": {},
     "output_type": "execute_result"
    }
   ],
   "source": [
    "OfEntity().getProductType(productTypeId=\"Test_type_2\")"
   ]
  },
  {
   "cell_type": "code",
   "execution_count": 27,
   "metadata": {
    "ExecuteTime": {
     "end_time": "2019-02-02T18:16:47.596638Z",
     "start_time": "2019-02-02T18:16:47.542684Z"
    }
   },
   "outputs": [
    {
     "data": {
      "text/plain": [
       "1"
      ]
     },
     "execution_count": 27,
     "metadata": {},
     "output_type": "execute_result"
    }
   ],
   "source": [
    "OfEntity().removeProductType(productTypeId=\"Test_type_2\")"
   ]
  },
  {
   "cell_type": "code",
   "execution_count": 21,
   "metadata": {
    "ExecuteTime": {
     "end_time": "2019-02-02T18:14:32.925756Z",
     "start_time": "2019-02-02T18:14:32.908659Z"
    }
   },
   "outputs": [
    {
     "data": {
      "text/plain": [
       "[{'lastUpdatedStamp': JavaObject id=o23870, 'isPhysical': None, 'parentTypeId': None, 'isDigital': None, 'hasTable': None, 'createdTxStamp': JavaObject id=o23871, 'createdStamp': JavaObject id=o23872, 'description': None, 'lastUpdatedTxStamp': JavaObject id=o23873, 'productTypeId': 'Test_type_2'}]"
      ]
     },
     "execution_count": 21,
     "metadata": {},
     "output_type": "execute_result"
    }
   ],
   "source": [
    "OfEntity().queryProductType(productTypeId=\"Test_type_2\")"
   ]
  },
  {
   "cell_type": "code",
   "execution_count": 23,
   "metadata": {
    "ExecuteTime": {
     "end_time": "2019-02-02T18:15:29.523689Z",
     "start_time": "2019-02-02T18:15:29.506188Z"
    },
    "scrolled": true
   },
   "outputs": [
    {
     "name": "stdout",
     "output_type": "stream",
     "text": [
      "AGGREGATED\n",
      "AGGREGATEDSERV_CONF\n",
      "AGGREGATED_CONF\n",
      "AGGREGATED_SERVICE\n",
      "ASSET_USAGE\n",
      "ASSET_USAGE_OUT_IN\n",
      "DIGITAL_GOOD\n",
      "FINDIG_GOOD\n",
      "FINISHED_GOOD\n",
      "GOOD\n"
     ]
    }
   ],
   "source": [
    "for p in OfEntity().listProductType():\n",
    "    print(p['productTypeId'])"
   ]
  },
  {
   "cell_type": "code",
   "execution_count": 29,
   "metadata": {
    "ExecuteTime": {
     "end_time": "2019-02-02T18:16:56.222081Z",
     "start_time": "2019-02-02T18:16:56.196425Z"
    }
   },
   "outputs": [
    {
     "name": "stdout",
     "output_type": "stream",
     "text": [
      "AGGREGATED\n",
      "AGGREGATEDSERV_CONF\n",
      "AGGREGATED_CONF\n",
      "AGGREGATED_SERVICE\n",
      "ASSET_USAGE\n",
      "ASSET_USAGE_OUT_IN\n",
      "DIGITAL_GOOD\n",
      "FINDIG_GOOD\n",
      "FINISHED_GOOD\n",
      "GOOD\n",
      "MARKETING_PKG\n",
      "MARKETING_PKG_AUTO\n",
      "MARKETING_PKG_PICK\n",
      "RAW_MATERIAL\n",
      "SERVICE\n",
      "SERVICE_PRODUCT\n",
      "SUBASSEMBLY\n",
      "Test_type\n",
      "Test_type_2\n",
      "WIP\n"
     ]
    }
   ],
   "source": [
    "for p in OfEntity().allProductType():\n",
    "    print(p['productTypeId'])"
   ]
  }
 ],
 "metadata": {
  "kernelspec": {
   "display_name": "Python 3",
   "language": "python",
   "name": "python3"
  },
  "language_info": {
   "codemirror_mode": {
    "name": "ipython",
    "version": 3
   },
   "file_extension": ".py",
   "mimetype": "text/x-python",
   "name": "python",
   "nbconvert_exporter": "python",
   "pygments_lexer": "ipython3",
   "version": "3.6.4"
  },
  "varInspector": {
   "cols": {
    "lenName": 16,
    "lenType": 16,
    "lenVar": 40
   },
   "kernels_config": {
    "python": {
     "delete_cmd_postfix": "",
     "delete_cmd_prefix": "del ",
     "library": "var_list.py",
     "varRefreshCmd": "print(var_dic_list())"
    },
    "r": {
     "delete_cmd_postfix": ") ",
     "delete_cmd_prefix": "rm(",
     "library": "var_list.r",
     "varRefreshCmd": "cat(var_dic_list()) "
    }
   },
   "types_to_exclude": [
    "module",
    "function",
    "builtin_function_or_method",
    "instance",
    "_Feature"
   ],
   "window_display": false
  }
 },
 "nbformat": 4,
 "nbformat_minor": 2
}
