{
 "cells": [
  {
   "cell_type": "markdown",
   "metadata": {},
   "source": [
    "⊕ [Python Generated Code  |  Protocol Buffers  |  Google Developers](https://developers.google.com/protocol-buffers/docs/reference/python-generated#oneof)\n"
   ]
  },
  {
   "cell_type": "code",
   "execution_count": 9,
   "metadata": {
    "ExecuteTime": {
     "end_time": "2019-02-22T08:19:21.448574Z",
     "start_time": "2019-02-22T08:19:21.439195Z"
    }
   },
   "outputs": [
    {
     "name": "stdout",
     "output_type": "stream",
     "text": [
      "True\n",
      "False\n",
      "doubleVal\n"
     ]
    },
    {
     "data": {
      "text/plain": [
       "doubleVal: 5.5"
      ]
     },
     "execution_count": 9,
     "metadata": {},
     "output_type": "execute_result"
    }
   ],
   "source": [
    "from metainfo_pb2 import MetaQuery\n",
    "from values_pb2 import TaFieldValue\n",
    "MetaQuery(infoType='entity', uri=\"Person\")\n",
    "\n",
    "tf=TaFieldValue()\n",
    "tf.stringVal=\"hi\"\n",
    "print(tf.HasField('stringVal'))\n",
    "tf.doubleVal=5.5\n",
    "print(tf.HasField('stringVal'))\n",
    "print(tf.WhichOneof(\"valueOf\"))\n",
    "assert tf.WhichOneof(\"valueOf\") == \"doubleVal\"\n",
    "tf"
   ]
  },
  {
   "cell_type": "code",
   "execution_count": 1,
   "metadata": {
    "ExecuteTime": {
     "end_time": "2019-02-22T09:14:14.356436Z",
     "start_time": "2019-02-22T09:14:13.284999Z"
    }
   },
   "outputs": [
    {
     "data": {
      "text/html": [
       "<div>\n",
       "<style scoped>\n",
       "    .dataframe tbody tr th:only-of-type {\n",
       "        vertical-align: middle;\n",
       "    }\n",
       "\n",
       "    .dataframe tbody tr th {\n",
       "        vertical-align: top;\n",
       "    }\n",
       "\n",
       "    .dataframe thead th {\n",
       "        text-align: right;\n",
       "    }\n",
       "</style>\n",
       "<table border=\"1\" class=\"dataframe\">\n",
       "  <thead>\n",
       "    <tr style=\"text-align: right;\">\n",
       "      <th></th>\n",
       "      <th>internal</th>\n",
       "      <th>name</th>\n",
       "      <th>primary</th>\n",
       "      <th>type</th>\n",
       "      <th>field type</th>\n",
       "    </tr>\n",
       "  </thead>\n",
       "  <tbody>\n",
       "    <tr>\n",
       "      <th>0</th>\n",
       "      <td></td>\n",
       "      <td>partyId</td>\n",
       "      <td>*</td>\n",
       "      <td>id</td>\n",
       "      <td>id</td>\n",
       "    </tr>\n",
       "    <tr>\n",
       "      <th>1</th>\n",
       "      <td></td>\n",
       "      <td>salutation</td>\n",
       "      <td></td>\n",
       "      <td>name</td>\n",
       "      <td>name</td>\n",
       "    </tr>\n",
       "    <tr>\n",
       "      <th>2</th>\n",
       "      <td></td>\n",
       "      <td>firstName</td>\n",
       "      <td></td>\n",
       "      <td>name</td>\n",
       "      <td>name</td>\n",
       "    </tr>\n",
       "    <tr>\n",
       "      <th>3</th>\n",
       "      <td></td>\n",
       "      <td>middleName</td>\n",
       "      <td></td>\n",
       "      <td>name</td>\n",
       "      <td>name</td>\n",
       "    </tr>\n",
       "    <tr>\n",
       "      <th>4</th>\n",
       "      <td></td>\n",
       "      <td>lastName</td>\n",
       "      <td></td>\n",
       "      <td>name</td>\n",
       "      <td>name</td>\n",
       "    </tr>\n",
       "    <tr>\n",
       "      <th>5</th>\n",
       "      <td></td>\n",
       "      <td>personalTitle</td>\n",
       "      <td></td>\n",
       "      <td>name</td>\n",
       "      <td>name</td>\n",
       "    </tr>\n",
       "    <tr>\n",
       "      <th>6</th>\n",
       "      <td></td>\n",
       "      <td>suffix</td>\n",
       "      <td></td>\n",
       "      <td>name</td>\n",
       "      <td>name</td>\n",
       "    </tr>\n",
       "    <tr>\n",
       "      <th>7</th>\n",
       "      <td></td>\n",
       "      <td>nickname</td>\n",
       "      <td></td>\n",
       "      <td>name</td>\n",
       "      <td>name</td>\n",
       "    </tr>\n",
       "    <tr>\n",
       "      <th>8</th>\n",
       "      <td></td>\n",
       "      <td>firstNameLocal</td>\n",
       "      <td></td>\n",
       "      <td>name</td>\n",
       "      <td>name</td>\n",
       "    </tr>\n",
       "    <tr>\n",
       "      <th>9</th>\n",
       "      <td></td>\n",
       "      <td>middleNameLocal</td>\n",
       "      <td></td>\n",
       "      <td>name</td>\n",
       "      <td>name</td>\n",
       "    </tr>\n",
       "    <tr>\n",
       "      <th>10</th>\n",
       "      <td></td>\n",
       "      <td>lastNameLocal</td>\n",
       "      <td></td>\n",
       "      <td>name</td>\n",
       "      <td>name</td>\n",
       "    </tr>\n",
       "    <tr>\n",
       "      <th>11</th>\n",
       "      <td></td>\n",
       "      <td>otherLocal</td>\n",
       "      <td></td>\n",
       "      <td>name</td>\n",
       "      <td>name</td>\n",
       "    </tr>\n",
       "    <tr>\n",
       "      <th>12</th>\n",
       "      <td></td>\n",
       "      <td>memberId</td>\n",
       "      <td></td>\n",
       "      <td>id</td>\n",
       "      <td>id</td>\n",
       "    </tr>\n",
       "    <tr>\n",
       "      <th>13</th>\n",
       "      <td></td>\n",
       "      <td>gender</td>\n",
       "      <td></td>\n",
       "      <td>indicator</td>\n",
       "      <td>indicator</td>\n",
       "    </tr>\n",
       "    <tr>\n",
       "      <th>14</th>\n",
       "      <td></td>\n",
       "      <td>birthDate</td>\n",
       "      <td></td>\n",
       "      <td>date</td>\n",
       "      <td>date</td>\n",
       "    </tr>\n",
       "    <tr>\n",
       "      <th>15</th>\n",
       "      <td></td>\n",
       "      <td>deceasedDate</td>\n",
       "      <td></td>\n",
       "      <td>date</td>\n",
       "      <td>date</td>\n",
       "    </tr>\n",
       "    <tr>\n",
       "      <th>16</th>\n",
       "      <td></td>\n",
       "      <td>height</td>\n",
       "      <td></td>\n",
       "      <td>floating-point</td>\n",
       "      <td>floating-point</td>\n",
       "    </tr>\n",
       "    <tr>\n",
       "      <th>17</th>\n",
       "      <td></td>\n",
       "      <td>weight</td>\n",
       "      <td></td>\n",
       "      <td>floating-point</td>\n",
       "      <td>floating-point</td>\n",
       "    </tr>\n",
       "    <tr>\n",
       "      <th>18</th>\n",
       "      <td></td>\n",
       "      <td>mothersMaidenName</td>\n",
       "      <td></td>\n",
       "      <td>long-varchar</td>\n",
       "      <td>long-varchar</td>\n",
       "    </tr>\n",
       "    <tr>\n",
       "      <th>19</th>\n",
       "      <td></td>\n",
       "      <td>maritalStatus</td>\n",
       "      <td></td>\n",
       "      <td>indicator</td>\n",
       "      <td>indicator</td>\n",
       "    </tr>\n",
       "    <tr>\n",
       "      <th>20</th>\n",
       "      <td></td>\n",
       "      <td>socialSecurityNumber</td>\n",
       "      <td></td>\n",
       "      <td>long-varchar</td>\n",
       "      <td>long-varchar</td>\n",
       "    </tr>\n",
       "    <tr>\n",
       "      <th>21</th>\n",
       "      <td></td>\n",
       "      <td>passportNumber</td>\n",
       "      <td></td>\n",
       "      <td>long-varchar</td>\n",
       "      <td>long-varchar</td>\n",
       "    </tr>\n",
       "    <tr>\n",
       "      <th>22</th>\n",
       "      <td></td>\n",
       "      <td>passportExpireDate</td>\n",
       "      <td></td>\n",
       "      <td>date</td>\n",
       "      <td>date</td>\n",
       "    </tr>\n",
       "    <tr>\n",
       "      <th>23</th>\n",
       "      <td></td>\n",
       "      <td>totalYearsWorkExperience</td>\n",
       "      <td></td>\n",
       "      <td>floating-point</td>\n",
       "      <td>floating-point</td>\n",
       "    </tr>\n",
       "    <tr>\n",
       "      <th>24</th>\n",
       "      <td></td>\n",
       "      <td>comments</td>\n",
       "      <td></td>\n",
       "      <td>comment</td>\n",
       "      <td>comment</td>\n",
       "    </tr>\n",
       "    <tr>\n",
       "      <th>25</th>\n",
       "      <td></td>\n",
       "      <td>employmentStatusEnumId</td>\n",
       "      <td></td>\n",
       "      <td>id</td>\n",
       "      <td>id</td>\n",
       "    </tr>\n",
       "    <tr>\n",
       "      <th>26</th>\n",
       "      <td></td>\n",
       "      <td>residenceStatusEnumId</td>\n",
       "      <td></td>\n",
       "      <td>id</td>\n",
       "      <td>id</td>\n",
       "    </tr>\n",
       "    <tr>\n",
       "      <th>27</th>\n",
       "      <td></td>\n",
       "      <td>occupation</td>\n",
       "      <td></td>\n",
       "      <td>name</td>\n",
       "      <td>name</td>\n",
       "    </tr>\n",
       "    <tr>\n",
       "      <th>28</th>\n",
       "      <td></td>\n",
       "      <td>yearsWithEmployer</td>\n",
       "      <td></td>\n",
       "      <td>numeric</td>\n",
       "      <td>numeric</td>\n",
       "    </tr>\n",
       "    <tr>\n",
       "      <th>29</th>\n",
       "      <td></td>\n",
       "      <td>monthsWithEmployer</td>\n",
       "      <td></td>\n",
       "      <td>numeric</td>\n",
       "      <td>numeric</td>\n",
       "    </tr>\n",
       "    <tr>\n",
       "      <th>30</th>\n",
       "      <td></td>\n",
       "      <td>existingCustomer</td>\n",
       "      <td></td>\n",
       "      <td>indicator</td>\n",
       "      <td>indicator</td>\n",
       "    </tr>\n",
       "    <tr>\n",
       "      <th>31</th>\n",
       "      <td></td>\n",
       "      <td>cardId</td>\n",
       "      <td></td>\n",
       "      <td>id-long</td>\n",
       "      <td>id-long</td>\n",
       "    </tr>\n",
       "    <tr>\n",
       "      <th>32</th>\n",
       "      <td>*</td>\n",
       "      <td>lastUpdatedStamp</td>\n",
       "      <td></td>\n",
       "      <td>date-time</td>\n",
       "      <td>date-time</td>\n",
       "    </tr>\n",
       "    <tr>\n",
       "      <th>33</th>\n",
       "      <td>*</td>\n",
       "      <td>lastUpdatedTxStamp</td>\n",
       "      <td></td>\n",
       "      <td>date-time</td>\n",
       "      <td>date-time</td>\n",
       "    </tr>\n",
       "    <tr>\n",
       "      <th>34</th>\n",
       "      <td>*</td>\n",
       "      <td>createdStamp</td>\n",
       "      <td></td>\n",
       "      <td>date-time</td>\n",
       "      <td>date-time</td>\n",
       "    </tr>\n",
       "    <tr>\n",
       "      <th>35</th>\n",
       "      <td>*</td>\n",
       "      <td>createdTxStamp</td>\n",
       "      <td></td>\n",
       "      <td>date-time</td>\n",
       "      <td>date-time</td>\n",
       "    </tr>\n",
       "  </tbody>\n",
       "</table>\n",
       "</div>"
      ],
      "text/plain": [
       "   internal                      name primary            type      field type\n",
       "0                             partyId       *              id              id\n",
       "1                          salutation                    name            name\n",
       "2                           firstName                    name            name\n",
       "3                          middleName                    name            name\n",
       "4                            lastName                    name            name\n",
       "5                       personalTitle                    name            name\n",
       "6                              suffix                    name            name\n",
       "7                            nickname                    name            name\n",
       "8                      firstNameLocal                    name            name\n",
       "9                     middleNameLocal                    name            name\n",
       "10                      lastNameLocal                    name            name\n",
       "11                         otherLocal                    name            name\n",
       "12                           memberId                      id              id\n",
       "13                             gender               indicator       indicator\n",
       "14                          birthDate                    date            date\n",
       "15                       deceasedDate                    date            date\n",
       "16                             height          floating-point  floating-point\n",
       "17                             weight          floating-point  floating-point\n",
       "18                  mothersMaidenName            long-varchar    long-varchar\n",
       "19                      maritalStatus               indicator       indicator\n",
       "20               socialSecurityNumber            long-varchar    long-varchar\n",
       "21                     passportNumber            long-varchar    long-varchar\n",
       "22                 passportExpireDate                    date            date\n",
       "23           totalYearsWorkExperience          floating-point  floating-point\n",
       "24                           comments                 comment         comment\n",
       "25             employmentStatusEnumId                      id              id\n",
       "26              residenceStatusEnumId                      id              id\n",
       "27                         occupation                    name            name\n",
       "28                  yearsWithEmployer                 numeric         numeric\n",
       "29                 monthsWithEmployer                 numeric         numeric\n",
       "30                   existingCustomer               indicator       indicator\n",
       "31                             cardId                 id-long         id-long\n",
       "32        *          lastUpdatedStamp               date-time       date-time\n",
       "33        *        lastUpdatedTxStamp               date-time       date-time\n",
       "34        *              createdStamp               date-time       date-time\n",
       "35        *            createdTxStamp               date-time       date-time"
      ]
     },
     "execution_count": 1,
     "metadata": {},
     "output_type": "execute_result"
    }
   ],
   "source": [
    "from sagas.ofbiz.services import OfService as s, oc, track\n",
    "from sagas.ofbiz.entities import OfEntity as e\n",
    "\n",
    "e('meta').Person"
   ]
  },
  {
   "cell_type": "code",
   "execution_count": 3,
   "metadata": {
    "ExecuteTime": {
     "end_time": "2019-02-20T09:54:59.391895Z",
     "start_time": "2019-02-20T09:54:59.371027Z"
    }
   },
   "outputs": [
    {
     "name": "stdout",
     "output_type": "stream",
     "text": [
      "OrderEntityLabels\n"
     ]
    }
   ],
   "source": [
    "ent=e('model').OrderAdjustmentType\n",
    "print(ent.getDefaultResourceName())"
   ]
  },
  {
   "cell_type": "code",
   "execution_count": 5,
   "metadata": {
    "ExecuteTime": {
     "end_time": "2019-02-20T08:52:59.587570Z",
     "start_time": "2019-02-20T08:52:59.494107Z"
    }
   },
   "outputs": [
    {
     "data": {
      "text/html": [
       "<div>\n",
       "<style scoped>\n",
       "    .dataframe tbody tr th:only-of-type {\n",
       "        vertical-align: middle;\n",
       "    }\n",
       "\n",
       "    .dataframe tbody tr th {\n",
       "        vertical-align: top;\n",
       "    }\n",
       "\n",
       "    .dataframe thead th {\n",
       "        text-align: right;\n",
       "    }\n",
       "</style>\n",
       "<table border=\"1\" class=\"dataframe\">\n",
       "  <thead>\n",
       "    <tr style=\"text-align: right;\">\n",
       "      <th></th>\n",
       "      <th>description</th>\n",
       "      <th>entity name</th>\n",
       "      <th>internal</th>\n",
       "      <th>mode</th>\n",
       "      <th>name</th>\n",
       "      <th>override optional</th>\n",
       "      <th>required</th>\n",
       "      <th>type</th>\n",
       "      <th>parameter mode</th>\n",
       "    </tr>\n",
       "  </thead>\n",
       "  <tbody>\n",
       "    <tr>\n",
       "      <th>0</th>\n",
       "      <td></td>\n",
       "      <td></td>\n",
       "      <td></td>\n",
       "      <td>OUT</td>\n",
       "      <td>numberOfEntities</td>\n",
       "      <td>*</td>\n",
       "      <td></td>\n",
       "      <td>java.lang.Integer</td>\n",
       "      <td>OUT</td>\n",
       "    </tr>\n",
       "    <tr>\n",
       "      <th>1</th>\n",
       "      <td></td>\n",
       "      <td></td>\n",
       "      <td></td>\n",
       "      <td>OUT</td>\n",
       "      <td>packagesList</td>\n",
       "      <td>*</td>\n",
       "      <td></td>\n",
       "      <td>java.util.List</td>\n",
       "      <td>OUT</td>\n",
       "    </tr>\n",
       "  </tbody>\n",
       "</table>\n",
       "</div>"
      ],
      "text/plain": [
       "  description entity name internal mode              name override optional  \\\n",
       "0                                   OUT  numberOfEntities                 *   \n",
       "1                                   OUT      packagesList                 *   \n",
       "\n",
       "  required               type parameter mode  \n",
       "0           java.lang.Integer            OUT  \n",
       "1              java.util.List            OUT  "
      ]
     },
     "execution_count": 5,
     "metadata": {},
     "output_type": "execute_result"
    }
   ],
   "source": [
    "s('meta').getEntityRefData"
   ]
  },
  {
   "cell_type": "code",
   "execution_count": 1,
   "metadata": {
    "ExecuteTime": {
     "end_time": "2019-02-20T09:07:05.985018Z",
     "start_time": "2019-02-20T09:07:05.480944Z"
    }
   },
   "outputs": [
    {
     "name": "stdout",
     "output_type": "stream",
     "text": [
      "1129\n"
     ]
    }
   ],
   "source": [
    "from sagas.ofbiz.services import OfService as s, oc, track\n",
    "from sagas.ofbiz.entities import OfEntity as e\n",
    "\n",
    "ok,r=s().getEntityRefData()\n",
    "if ok:\n",
    "    print(r['numberOfEntities'])\n",
    "else:\n",
    "    print('error')"
   ]
  },
  {
   "cell_type": "code",
   "execution_count": 2,
   "metadata": {
    "ExecuteTime": {
     "end_time": "2019-02-20T09:13:39.607176Z",
     "start_time": "2019-02-20T09:13:39.603248Z"
    }
   },
   "outputs": [],
   "source": [
    "pkgs=r['packagesList']\n",
    "# pkg=pkgs[:1]\n",
    "# print(pkg)"
   ]
  },
  {
   "cell_type": "code",
   "execution_count": 2,
   "metadata": {
    "ExecuteTime": {
     "end_time": "2019-02-22T19:36:45.538663Z",
     "start_time": "2019-02-22T19:36:42.838110Z"
    }
   },
   "outputs": [
    {
     "name": "stdout",
     "output_type": "stream",
     "text": [
      "component://content/widget/forum/BlogForms.xml\n",
      "submitButton -> Submit\n",
      "contentAssocTypeId -> Content Assoc Type ID\n",
      "contentId -> Content ID\n",
      "contentTypeId -> Content Type ID\n",
      "contentIdFrom -> Content ID From\n",
      "description -> Blog Description\n",
      "contentName -> Blog Name\n"
     ]
    }
   ],
   "source": [
    "from sagas.ofbiz.entities import OfEntity as e, oc, finder\n",
    "hub=oc.component('entity_event_hub')\n",
    "forms=oc.component('form_mgr')\n",
    "\n",
    "form=forms.getModelForm('EditBlog', \"component://content/widget/forum/BlogForms.xml\")\n",
    "print(form.getFormLocation())\n",
    "# titles=forms.getFieldTitles(form, \"zh-CN\")\n",
    "# titles=forms.getFieldTitles(form, \"zh-TW\")\n",
    "# titles=forms.getFieldTitles(form, \"ja\")\n",
    "# titles=forms.getFieldTitles(form, \"zh\")\n",
    "# titles=forms.getFieldTitles(form, \"fr\")\n",
    "# titles=forms.getFieldTitles(form, \"de\")\n",
    "# titles=forms.getFieldTitles(form, \"ar\")\n",
    "titles=forms.getFieldTitles(form, \"en\")\n",
    "for k,v in titles.items():\n",
    "    print(k,'->',v)"
   ]
  },
  {
   "cell_type": "code",
   "execution_count": 3,
   "metadata": {
    "ExecuteTime": {
     "end_time": "2019-02-22T19:36:48.043442Z",
     "start_time": "2019-02-22T19:36:48.025443Z"
    }
   },
   "outputs": [],
   "source": [
    "oc.import_package('com.sagas.meta.PropertiesManager')\n",
    "oc.import_package('org.apache.ofbiz.base.util.UtilMisc')\n",
    "locale=oc.j.UtilMisc.ensureLocale(None)\n",
    "ctx=oc.jmap(locale=locale)\n",
    "oc.j.PropertiesManager.execPropertyMap(ctx, \"ContentUiLabels\", \"uiLabelMap\", True)"
   ]
  },
  {
   "cell_type": "code",
   "execution_count": 9,
   "metadata": {
    "ExecuteTime": {
     "end_time": "2019-02-22T12:03:23.198160Z",
     "start_time": "2019-02-22T12:03:23.182804Z"
    }
   },
   "outputs": [
    {
     "data": {
      "text/plain": [
       "'zh_CN'"
      ]
     },
     "execution_count": 9,
     "metadata": {},
     "output_type": "execute_result"
    }
   ],
   "source": [
    "locale=oc.j.UtilMisc.ensureLocale('zh_CN')\n",
    "locale.toString()"
   ]
  },
  {
   "cell_type": "code",
   "execution_count": 4,
   "metadata": {
    "ExecuteTime": {
     "end_time": "2019-02-22T19:36:56.559556Z",
     "start_time": "2019-02-22T19:36:56.508953Z"
    }
   },
   "outputs": [
    {
     "name": "stdout",
     "output_type": "stream",
     "text": [
      "component://content/widget/forum/BlogForms.xml\n",
      "defaultFormResultList single\n"
     ]
    }
   ],
   "source": [
    "form=forms.getModelForm('EditBlog', \"component://content/widget/forum/BlogForms.xml\")\n",
    "print(form.getFormLocation())\n",
    "print(form.getListName(), form.getType())"
   ]
  },
  {
   "cell_type": "code",
   "execution_count": 8,
   "metadata": {
    "ExecuteTime": {
     "end_time": "2019-02-22T09:25:15.364106Z",
     "start_time": "2019-02-22T09:25:15.354276Z"
    }
   },
   "outputs": [
    {
     "data": {
      "text/plain": [
       "'hello'"
      ]
     },
     "execution_count": 8,
     "metadata": {},
     "output_type": "execute_result"
    }
   ],
   "source": [
    "sb=oc.j.StringBuilder()\n",
    "sb.append('hello')\n",
    "sb.toString()"
   ]
  },
  {
   "cell_type": "code",
   "execution_count": 5,
   "metadata": {
    "ExecuteTime": {
     "end_time": "2019-02-22T19:37:01.635220Z",
     "start_time": "2019-02-22T19:37:01.434604Z"
    }
   },
   "outputs": [
    {
     "name": "stdout",
     "output_type": "stream",
     "text": [
      "<!-- Begin Form Widget component://content/widget/forum/BlogForms.xml#EditBlog -->\r\n",
      "<fo:table>\r\n",
      "<fo:table-column column-width=\"2in\"/>\r\n",
      "<fo:table-column/>\r\n",
      "<fo:table-body>\r\n",
      "<fo:table-row>\r\n",
      "<fo:table-cell font-weight=\"bold\" text-align=\"right\" padding=\"3pt\"><fo:block>\r\n",
      "Blog Name</fo:block></fo:table-cell>\r\n",
      "<fo:table-cell text-align=\"left\" padding=\"2pt\" padding-left=\"5pt\">\r\n",
      "<fo:block></fo:block>\r\n",
      "</fo:table-cell>\r\n",
      "</fo:table-row>\r\n",
      "<fo:table-row>\r\n",
      "<fo:table-cell font-weight=\"bold\" text-align=\"right\" padding=\"3pt\"><fo:block>\r\n",
      "Blog Description</fo:block></fo:table-cell>\r\n",
      "<fo:table-cell text-align=\"left\" padding=\"2pt\" padding-left=\"5pt\">\r\n",
      "<fo:block></fo:block>\r\n",
      "</fo:table-cell>\r\n",
      "</fo:table-row>\r\n",
      "<fo:table-row>\r\n",
      "<fo:table-cell font-weight=\"bold\" text-align=\"right\" padding=\"3pt\"><fo:block>\r\n",
      "</fo:block></fo:table-cell>\r\n",
      "<fo:table-cell text-align=\"left\" padding=\"2pt\" padding-left=\"5pt\">\r\n",
      "<fo:block></fo:block></fo:table-cell>\r\n",
      "</fo:table-row>\r\n",
      "</fo:table-body></fo:table>\r\n",
      "<!-- End Form Widget component://content/widget/forum/BlogForms.xml#EditBlog -->\r\n",
      "\n"
     ]
    }
   ],
   "source": [
    "oc.import_package('org.apache.ofbiz.widget.renderer.fo.FoFormRenderer')\n",
    "oc.import_package('org.apache.ofbiz.widget.renderer.FormRenderer')\n",
    "ffr=oc.j.FoFormRenderer()\n",
    "fr=oc.j.FormRenderer(form, ffr)\n",
    "# ctx=oc.jmap()\n",
    "writer=oc.j.StringBuilder()\n",
    "fr.render(writer, ctx)\n",
    "print(writer.toString())"
   ]
  },
  {
   "cell_type": "code",
   "execution_count": 8,
   "metadata": {
    "ExecuteTime": {
     "end_time": "2019-02-22T11:37:32.313626Z",
     "start_time": "2019-02-22T11:37:32.296965Z"
    }
   },
   "outputs": [
    {
     "name": "stdout",
     "output_type": "stream",
     "text": [
      "contentId\n",
      "contentTypeId\n",
      "contentIdFrom\n",
      "contentAssocTypeId\n",
      "contentName\n",
      "description\n",
      "submitButton\n"
     ]
    }
   ],
   "source": [
    "flds=form.getFieldList()\n",
    "for fld in flds:\n",
    "    # print(fld.getName(), fld.getTitle())\n",
    "    print(fld.getName())"
   ]
  },
  {
   "cell_type": "code",
   "execution_count": null,
   "metadata": {
    "ExecuteTime": {
     "end_time": "2019-02-22T19:41:03.153994Z",
     "start_time": "2019-02-22T19:40:06.968Z"
    }
   },
   "outputs": [],
   "source": [
    "## ??执行后挂起\n",
    "\n",
    "loc='component://product/widget/catalog/ProductForms.xml'\n",
    "# form_name='FindProduct'\n",
    "form_name='EditProduct'\n",
    "form=forms.getModelForm(form_name, loc)\n",
    "\n",
    "writer=oc.j.StringBuilder()\n",
    "fr.render(writer, ctx)\n",
    "print(writer.toString())"
   ]
  },
  {
   "cell_type": "code",
   "execution_count": null,
   "metadata": {
    "ExecuteTime": {
     "start_time": "2019-02-22T19:43:11.891Z"
    }
   },
   "outputs": [],
   "source": [
    "oc.import_package('org.apache.ofbiz.base.util.UtilMisc')\n",
    "locale=oc.j.UtilMisc.ensureLocale('zh_CN')\n",
    "loc='component://product/widget/catalog/ProductForms.xml'\n",
    "# form_name='FindProduct'\n",
    "form_name='EditProduct'\n",
    "form=forms.getModelForm(form_name, loc)\n",
    "forms.renderForm(form, locale)"
   ]
  }
 ],
 "metadata": {
  "kernelspec": {
   "display_name": "Python 3",
   "language": "python",
   "name": "python3"
  },
  "varInspector": {
   "cols": {
    "lenName": 16,
    "lenType": 16,
    "lenVar": 40
   },
   "kernels_config": {
    "python": {
     "delete_cmd_postfix": "",
     "delete_cmd_prefix": "del ",
     "library": "var_list.py",
     "varRefreshCmd": "print(var_dic_list())"
    },
    "r": {
     "delete_cmd_postfix": ") ",
     "delete_cmd_prefix": "rm(",
     "library": "var_list.r",
     "varRefreshCmd": "cat(var_dic_list()) "
    }
   },
   "types_to_exclude": [
    "module",
    "function",
    "builtin_function_or_method",
    "instance",
    "_Feature"
   ],
   "window_display": false
  }
 },
 "nbformat": 4,
 "nbformat_minor": 2
}
