{
 "cells": [
  {
   "cell_type": "code",
   "execution_count": 1,
   "metadata": {
    "ExecuteTime": {
     "end_time": "2019-06-28T09:36:40.569703Z",
     "start_time": "2019-06-28T09:36:40.536812Z"
    }
   },
   "outputs": [
    {
     "name": "stdout",
     "output_type": "stream",
     "text": [
      "entities:\n",
      "\t WorkEffortPhaseStatus\n",
      "\t OrderManualPromotions\n",
      "services:\n",
      "\t AccountingInvoiceTotal\n",
      "\t Comments\n",
      "\t WorkEffortEditAssocDetail\n",
      "\t NewSecurityGroup\n",
      "types:\n",
      "\t StatusType\n"
     ]
    }
   ],
   "source": [
    "import json_utils\n",
    "domain_loc='/pi/langs/domains'\n",
    "domain=json_utils.read_json_file(domain_loc+'/sample.json')\n",
    "\n",
    "print('entities:')\n",
    "for ent in domain['entities']:\n",
    "    print('\\t', ent['name'])\n",
    "print('services:')\n",
    "for ent in domain['services']:\n",
    "    print('\\t', ent['name'])\n",
    "print('types:')\n",
    "for ent in domain['types']:\n",
    "    print('\\t', ent['name'])"
   ]
  }
 ],
 "metadata": {
  "kernelspec": {
   "display_name": "Python 3",
   "language": "python",
   "name": "python3"
  },
  "language_info": {
   "codemirror_mode": {
    "name": "ipython",
    "version": 3
   },
   "file_extension": ".py",
   "mimetype": "text/x-python",
   "name": "python",
   "nbconvert_exporter": "python",
   "pygments_lexer": "ipython3",
   "version": "3.6.4"
  },
  "varInspector": {
   "cols": {
    "lenName": 16,
    "lenType": 16,
    "lenVar": 40
   },
   "kernels_config": {
    "python": {
     "delete_cmd_postfix": "",
     "delete_cmd_prefix": "del ",
     "library": "var_list.py",
     "varRefreshCmd": "print(var_dic_list())"
    },
    "r": {
     "delete_cmd_postfix": ") ",
     "delete_cmd_prefix": "rm(",
     "library": "var_list.r",
     "varRefreshCmd": "cat(var_dic_list()) "
    }
   },
   "types_to_exclude": [
    "module",
    "function",
    "builtin_function_or_method",
    "instance",
    "_Feature"
   ],
   "window_display": false
  }
 },
 "nbformat": 4,
 "nbformat_minor": 2
}
