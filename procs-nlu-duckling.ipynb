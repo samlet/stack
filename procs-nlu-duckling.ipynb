{
 "cells": [
  {
   "cell_type": "code",
   "execution_count": 1,
   "metadata": {
    "ExecuteTime": {
     "end_time": "2019-01-04T10:56:54.914898Z",
     "start_time": "2019-01-04T10:56:54.278118Z"
    }
   },
   "outputs": [],
   "source": [
    "import logging\n",
    "import os\n",
    "\n",
    "import pytest\n",
    "from rasa_nlu import data_router, config\n",
    "from rasa_nlu.components import ComponentBuilder\n",
    "from rasa_nlu.model import Trainer\n",
    "from rasa_nlu.utils import zip_folder\n",
    "from rasa_nlu import training_data\n",
    "\n",
    "logging.basicConfig(level=\"DEBUG\")\n",
    "\n",
    "CONFIG_DEFAULTS_PATH = \"sample_configs/config_defaults.yml\"\n",
    "\n",
    "DEFAULT_DATA_PATH = \"data/examples/rasa/demo-rasa.json\"\n",
    "\n",
    "TEST_MODEL_PATH = \"test_models/test_model_spacy_sklearn\"\n",
    "\n",
    "\n",
    "@pytest.fixture(scope=\"session\")\n",
    "def component_builder():\n",
    "    return ComponentBuilder()"
   ]
  },
  {
   "cell_type": "code",
   "execution_count": 20,
   "metadata": {
    "ExecuteTime": {
     "end_time": "2019-01-04T12:24:46.779396Z",
     "start_time": "2019-01-04T12:24:46.695460Z"
    },
    "scrolled": true
   },
   "outputs": [
    {
     "name": "stderr",
     "output_type": "stream",
     "text": [
      "DEBUG:urllib3.connectionpool:Starting new HTTP connection (1): 127.0.0.1\n",
      "DEBUG:urllib3.connectionpool:http://127.0.0.1:8000 \"POST /parse HTTP/1.1\" 200 None\n",
      "DEBUG:urllib3.connectionpool:Starting new HTTP connection (1): 127.0.0.1\n",
      "DEBUG:urllib3.connectionpool:http://127.0.0.1:8000 \"POST /parse HTTP/1.1\" 200 None\n"
     ]
    },
    {
     "name": "stdout",
     "output_type": "stream",
     "text": [
      "3\n",
      "{'start': 0, 'end': 5, 'text': 'Today', 'value': '2019-01-04T00:00:00.000-08:00', 'confidence': 1.0, 'additional_info': {'values': [{'value': '2019-01-04T00:00:00.000-08:00', 'grain': 'day', 'type': 'value'}], 'value': '2019-01-04T00:00:00.000-08:00', 'grain': 'day', 'type': 'value'}, 'entity': 'time', 'extractor': 'ner_duckling_http'}\n",
      "{'start': 9, 'end': 23, 'text': 'the 5th of May', 'value': '2019-05-05T00:00:00.000-07:00', 'confidence': 1.0, 'additional_info': {'values': [{'value': '2019-05-05T00:00:00.000-07:00', 'grain': 'day', 'type': 'value'}, {'value': '2020-05-05T00:00:00.000-07:00', 'grain': 'day', 'type': 'value'}, {'value': '2021-05-05T00:00:00.000-07:00', 'grain': 'day', 'type': 'value'}], 'value': '2019-05-05T00:00:00.000-07:00', 'grain': 'day', 'type': 'value'}, 'entity': 'time', 'extractor': 'ner_duckling_http'}\n",
      "{'start': 37, 'end': 45, 'text': 'tomorrow', 'value': '2019-01-05T00:00:00.000-08:00', 'confidence': 1.0, 'additional_info': {'values': [{'value': '2019-01-05T00:00:00.000-08:00', 'grain': 'day', 'type': 'value'}], 'value': '2019-01-05T00:00:00.000-08:00', 'grain': 'day', 'type': 'value'}, 'entity': 'time', 'extractor': 'ner_duckling_http'}\n",
      "1\n",
      "tomorrow\n",
      "2013-10-12T00:00:00.000-07:00\n"
     ]
    }
   ],
   "source": [
    "from rasa_nlu.config import RasaNLUModelConfig\n",
    "from rasa_nlu.extractors.spacy_entity_extractor import SpacyEntityExtractor\n",
    "from rasa_nlu.training_data import TrainingData, Message\n",
    "\n",
    "CONFIG_ZH_PATH = \"sample_configs/config_duckling.yml\"\n",
    "def test_duckling_entity_extractor(component_builder):\n",
    "    # _config = RasaNLUModelConfig({\"pipeline\": [{\"name\": \"ner_duckling_http\", \"url\":\"http://localhost:8000\"}]})\n",
    "    # _config.set_component_attr(\"ner_duckling_http\", dimensions=[\"time\"])\n",
    "    _config=config.load(CONFIG_ZH_PATH)\n",
    "    duckling = component_builder.create_component(\"ner_duckling_http\", _config)\n",
    "    message = Message(\"Today is the 5th of May. Let us meet tomorrow.\")\n",
    "    duckling.process(message)\n",
    "    entities = message.get(\"entities\")\n",
    "    print(len(entities))\n",
    "    for ent in entities:\n",
    "        print(ent)\n",
    "\n",
    "    # Test duckling with a defined date\n",
    "\n",
    "    # 1381536182000 == 2013/10/12 02:03:02\n",
    "    # message = Message(\"Let us meet tomorrow.\", time=\"1381536182000\")\n",
    "    # 因为在DucklingHTTPExtractor._reference_time_from_message的方法里对time字段乘上了1000, \n",
    "    # 所以这里不再是<unix epoch in millisecond>, 而是秒\n",
    "    message = Message(\"Let us meet tomorrow.\", time=\"1381536182\")\n",
    "    duckling.process(message)\n",
    "    entities = message.get(\"entities\")\n",
    "    print(len(entities))\n",
    "    print(entities[0][\"text\"])\n",
    "    print(entities[0][\"value\"])\n",
    "\n",
    "test_duckling_entity_extractor(component_builder())"
   ]
  },
  {
   "cell_type": "code",
   "execution_count": 24,
   "metadata": {
    "ExecuteTime": {
     "end_time": "2019-01-04T15:12:16.334972Z",
     "start_time": "2019-01-04T15:12:16.085766Z"
    }
   },
   "outputs": [
    {
     "name": "stderr",
     "output_type": "stream",
     "text": [
      "DEBUG:urllib3.connectionpool:Starting new HTTP connection (1): localhost\n",
      "DEBUG:urllib3.connectionpool:http://localhost:8000 \"POST /parse HTTP/1.1\" 200 None\n",
      "DEBUG:chardet.charsetprober:EUC-JP Japanese prober hit error at byte 18\n",
      "DEBUG:chardet.charsetprober:EUC-KR Korean prober hit error at byte 18\n",
      "DEBUG:chardet.charsetprober:EUC-TW Taiwan prober hit error at byte 17\n",
      "DEBUG:chardet.charsetprober:utf-8  confidence = 0.505\n",
      "DEBUG:chardet.charsetprober:SHIFT_JIS Japanese confidence = 0.01\n",
      "DEBUG:chardet.charsetprober:EUC-JP not active\n",
      "DEBUG:chardet.charsetprober:GB2312 Chinese confidence = 0.01\n",
      "DEBUG:chardet.charsetprober:EUC-KR not active\n",
      "DEBUG:chardet.charsetprober:CP949 Korean confidence = 0.01\n",
      "DEBUG:chardet.charsetprober:Big5 Chinese confidence = 0.01\n",
      "DEBUG:chardet.charsetprober:EUC-TW not active\n",
      "DEBUG:chardet.charsetprober:windows-1251 Russian confidence = 0.01\n",
      "DEBUG:chardet.charsetprober:KOI8-R Russian confidence = 0.01\n",
      "DEBUG:chardet.charsetprober:ISO-8859-5 Russian confidence = 0.01\n",
      "DEBUG:chardet.charsetprober:MacCyrillic Russian confidence = 0.01\n",
      "DEBUG:chardet.charsetprober:IBM866 Russian confidence = 0.01\n",
      "DEBUG:chardet.charsetprober:IBM855 Russian confidence = 0.01\n",
      "DEBUG:chardet.charsetprober:ISO-8859-7 Greek confidence = 0.01\n",
      "DEBUG:chardet.charsetprober:windows-1253 Greek confidence = 0.01\n",
      "DEBUG:chardet.charsetprober:ISO-8859-5 Bulgairan confidence = 0.01\n",
      "DEBUG:chardet.charsetprober:windows-1251 Bulgarian confidence = 0.01\n",
      "DEBUG:chardet.charsetprober:TIS-620 Thai confidence = 0.01\n",
      "DEBUG:chardet.charsetprober:ISO-8859-9 Turkish confidence = 0.5183979555254673\n",
      "DEBUG:chardet.charsetprober:windows-1255 Hebrew confidence = 0.0\n",
      "DEBUG:chardet.charsetprober:windows-1255 Hebrew confidence = 0.01\n",
      "DEBUG:chardet.charsetprober:windows-1255 Hebrew confidence = 0.01\n"
     ]
    },
    {
     "name": "stdout",
     "output_type": "stream",
     "text": [
      "1\n",
      "{'start': 0, 'end': 13, 'text': 'Demain Ã\\xa0 midi', 'value': '2019-01-05T12:00:00.000-08:00', 'confidence': 1.0, 'additional_info': {'values': [{'value': '2019-01-05T12:00:00.000-08:00', 'grain': 'hour', 'type': 'value'}], 'value': '2019-01-05T12:00:00.000-08:00', 'grain': 'hour', 'type': 'value'}, 'entity': 'time', 'extractor': 'ner_duckling_http'}\n"
     ]
    }
   ],
   "source": [
    "from rasa_nlu.config import RasaNLUModelConfig\n",
    "from rasa_nlu.extractors.spacy_entity_extractor import SpacyEntityExtractor\n",
    "from rasa_nlu.training_data import TrainingData, Message\n",
    "\n",
    "CONFIG_FR_PATH = \"sample_configs/config_fr.yml\"\n",
    "def test_duckling_fr(component_builder):\n",
    "    # _config = RasaNLUModelConfig({\"pipeline\": [{\"name\": \"ner_duckling_http\", \"url\":\"http://localhost:8000\"}]})\n",
    "    # _config.set_component_attr(\"ner_duckling_http\", dimensions=[\"time\"])\n",
    "    _config=config.load(CONFIG_FR_PATH)\n",
    "    duckling = component_builder.create_component(\"ner_duckling_http\", _config)\n",
    "    message = Message(\"Demain à midi\")\n",
    "    duckling.process(message)\n",
    "    entities = message.get(\"entities\")\n",
    "    print(len(entities))\n",
    "    for ent in entities:\n",
    "        print(ent)\n",
    "\n",
    "test_duckling_fr(component_builder())        "
   ]
  },
  {
   "cell_type": "code",
   "execution_count": 11,
   "metadata": {
    "ExecuteTime": {
     "end_time": "2019-01-04T11:42:02.931394Z",
     "start_time": "2019-01-04T11:41:37.194248Z"
    }
   },
   "outputs": [
    {
     "name": "stdout",
     "output_type": "stream",
     "text": [
      "[{'dim': 'time', 'text': 'at 11:45am', 'start': 11, 'end': 21, 'value': {'value': '2019-01-05T11:45:00.000+08:00', 'grain': 'minute', 'others': [{'grain': 'minute', 'value': '2019-01-05T11:45:00.000+08:00'}, {'grain': 'minute', 'value': '2019-01-06T11:45:00.000+08:00'}, {'grain': 'minute', 'value': '2019-01-07T11:45:00.000+08:00'}]}}]\n",
      "[{'dim': 'temperature', 'text': '65 degrees', 'start': 55, 'end': 65, 'value': {'value': 65.0, 'unit': 'degree'}}, {'dim': 'temperature', 'text': 'thirty two celsius', 'start': 33, 'end': 51, 'value': {'value': 32.0, 'unit': 'celsius'}}]\n"
     ]
    }
   ],
   "source": [
    "from duckling import DucklingWrapper\n",
    "d = DucklingWrapper()\n",
    "print(d.parse_time(u'Let\\'s meet at 11:45am'))\n",
    "# [{u'dim': u'time', u'end': 21, u'start': 11, u'value': {u'value': u'2016-10-14T11:45:00.000-07:00', u'others': [u'2016-10-14T11:45:00.000-07:00', u'2016-10-15T11:45:00.000-07:00', u'2016-10-16T11:45:00.000-07:00']}, u'text': u'at 11:45am'}]\n",
    "print(d.parse_temperature(u'Let\\'s change the temperatur from thirty two celsius to 65 degrees'))"
   ]
  },
  {
   "cell_type": "code",
   "execution_count": 13,
   "metadata": {
    "ExecuteTime": {
     "end_time": "2019-01-04T11:43:08.166041Z",
     "start_time": "2019-01-04T11:42:50.791025Z"
    }
   },
   "outputs": [
    {
     "name": "stdout",
     "output_type": "stream",
     "text": [
      "[{'dim': 'time', 'body': 'tomorrow', 'value': {'type': 'value', 'value': '2019-01-05T00:00:00.000+08:00', 'grain': 'day', 'values': [{'type': 'value', 'value': '2019-01-05T00:00:00.000+08:00', 'grain': 'day'}]}, 'start': 0, 'end': 8}]\n"
     ]
    }
   ],
   "source": [
    "from duckling import Duckling\n",
    "d = Duckling()\n",
    "d.load() # always load the model first\n",
    "print(d.parse('tomorrow'))"
   ]
  },
  {
   "cell_type": "code",
   "execution_count": 14,
   "metadata": {
    "ExecuteTime": {
     "end_time": "2019-01-04T12:12:50.261329Z",
     "start_time": "2019-01-04T12:12:50.253431Z"
    }
   },
   "outputs": [
    {
     "name": "stdout",
     "output_type": "stream",
     "text": [
      "Help on class Duckling in module duckling.duckling:\n",
      "\n",
      "class Duckling(builtins.object)\n",
      " |  Python wrapper for Duckling by wit.ai.\n",
      " |  \n",
      " |  Attributes:\n",
      " |      jvm_started: Optional attribute to specify if the JVM has already been\n",
      " |          started (with all Java dependencies loaded).\n",
      " |      parse_datetime: Optional attribute to specify if datetime string should\n",
      " |          be parsed with datetime.strptime(). Default is False.\n",
      " |      minimum_heap_size: Optional attribute to set initial and minimum heap\n",
      " |          size. Default is 128m.\n",
      " |      maximum_heap_size: Optional attribute to set maximum heap size. Default\n",
      " |          is 2048m.\n",
      " |  \n",
      " |  Methods defined here:\n",
      " |  \n",
      " |  __init__(self, jvm_started=False, parse_datetime=False, minimum_heap_size='128m', maximum_heap_size='2048m')\n",
      " |      Initializes Duckling.\n",
      " |  \n",
      " |  load(self, languages=[])\n",
      " |      Loads the Duckling corpus.\n",
      " |      \n",
      " |      Languages can be specified, defaults to all.\n",
      " |      \n",
      " |      Args:\n",
      " |          languages: Optional parameter to specify languages,\n",
      " |              e.g. [Duckling.ENGLISH, Duckling.FRENCH] or supported ISO 639-1 Codes (e.g. [\"en\", \"fr\"])\n",
      " |  \n",
      " |  parse(self, input_str, language='en$core', dim_filter=None, reference_time='')\n",
      " |      Parses datetime information out of string input.\n",
      " |      \n",
      " |      It invokes the Duckling.parse() function in Clojure.\n",
      " |      A language can be specified, default is English.\n",
      " |      \n",
      " |      Args:\n",
      " |          input_str: The input as string that has to be parsed.\n",
      " |          language: Optional parameter to specify language,\n",
      " |              e.g. Duckling.ENGLISH or supported ISO 639-1 Code (e.g. \"en\")\n",
      " |          dim_filter: Optional parameter to specify a single filter or\n",
      " |              list of filters for dimensions in Duckling.\n",
      " |          reference_time: Optional reference time for Duckling.\n",
      " |      \n",
      " |      Returns:\n",
      " |          A list of dicts with the result from the Duckling.parse() call.\n",
      " |      \n",
      " |      Raises:\n",
      " |          RuntimeError: An error occurres when Duckling model is not loaded\n",
      " |              via load().\n",
      " |  \n",
      " |  ----------------------------------------------------------------------\n",
      " |  Data descriptors defined here:\n",
      " |  \n",
      " |  __dict__\n",
      " |      dictionary for instance variables (if defined)\n",
      " |  \n",
      " |  __weakref__\n",
      " |      list of weak references to the object (if defined)\n",
      "\n"
     ]
    }
   ],
   "source": [
    "help(Duckling)"
   ]
  },
  {
   "cell_type": "code",
   "execution_count": 15,
   "metadata": {
    "ExecuteTime": {
     "end_time": "2019-01-04T12:13:12.471996Z",
     "start_time": "2019-01-04T12:13:12.457065Z"
    }
   },
   "outputs": [
    {
     "name": "stdout",
     "output_type": "stream",
     "text": [
      "[{'dim': 'time', 'body': 'tomorrow', 'value': {'type': 'value', 'value': '2019-01-05T00:00:00.000+08:00', 'grain': 'day', 'values': [{'type': 'value', 'value': '2019-01-05T00:00:00.000+08:00', 'grain': 'day'}]}, 'start': 0, 'end': 8}]\n"
     ]
    }
   ],
   "source": [
    "print(d.parse('tomorrow'))"
   ]
  },
  {
   "cell_type": "code",
   "execution_count": 23,
   "metadata": {
    "ExecuteTime": {
     "end_time": "2019-01-04T14:55:09.156125Z",
     "start_time": "2019-01-04T14:55:01.984999Z"
    }
   },
   "outputs": [
    {
     "name": "stdout",
     "output_type": "stream",
     "text": [
      "[]\n"
     ]
    }
   ],
   "source": [
    "d = Duckling()\n",
    "# d.load(languages=[\"en\", \"fr\", \"de\"]) # always load the model first\n",
    "d.load(languages=['fr$core'])\n",
    "print(d.parse('Demain à midi'))"
   ]
  }
 ],
 "metadata": {
  "kernelspec": {
   "display_name": "Python 3",
   "language": "python",
   "name": "python3"
  },
  "language_info": {
   "codemirror_mode": {
    "name": "ipython",
    "version": 3
   },
   "file_extension": ".py",
   "mimetype": "text/x-python",
   "name": "python",
   "nbconvert_exporter": "python",
   "pygments_lexer": "ipython3",
   "version": "3.6.4"
  },
  "varInspector": {
   "cols": {
    "lenName": 16,
    "lenType": 16,
    "lenVar": 40
   },
   "kernels_config": {
    "python": {
     "delete_cmd_postfix": "",
     "delete_cmd_prefix": "del ",
     "library": "var_list.py",
     "varRefreshCmd": "print(var_dic_list())"
    },
    "r": {
     "delete_cmd_postfix": ") ",
     "delete_cmd_prefix": "rm(",
     "library": "var_list.r",
     "varRefreshCmd": "cat(var_dic_list()) "
    }
   },
   "types_to_exclude": [
    "module",
    "function",
    "builtin_function_or_method",
    "instance",
    "_Feature"
   ],
   "window_display": false
  }
 },
 "nbformat": 4,
 "nbformat_minor": 2
}
